{
 "cells": [
  {
   "cell_type": "code",
   "execution_count": 1,
   "metadata": {},
   "outputs": [],
   "source": [
    "import syft as sy"
   ]
  },
  {
   "cell_type": "code",
   "execution_count": 2,
   "metadata": {},
   "outputs": [
    {
     "ename": "ConnectionError",
     "evalue": "Failed to fetch http://localhost:8080/api/v2/metadata. Response returned with code 502",
     "output_type": "error",
     "traceback": [
      "\u001b[0;31m---------------------------------------------------------------------------\u001b[0m",
      "\u001b[0;31mConnectionError\u001b[0m                           Traceback (most recent call last)",
      "Cell \u001b[0;32mIn[2], line 1\u001b[0m\n\u001b[0;32m----> 1\u001b[0m client \u001b[38;5;241m=\u001b[39m sy\u001b[38;5;241m.\u001b[39mlogin(email\u001b[38;5;241m=\u001b[39m\u001b[38;5;124m\"\u001b[39m\u001b[38;5;124minfo@openmined.org\u001b[39m\u001b[38;5;124m\"\u001b[39m, password\u001b[38;5;241m=\u001b[39m\u001b[38;5;124m\"\u001b[39m\u001b[38;5;124mchangethis\u001b[39m\u001b[38;5;124m\"\u001b[39m, port\u001b[38;5;241m=\u001b[39m\u001b[38;5;241m8080\u001b[39m)\n",
      "File \u001b[0;32m~/OpenMined/PySyft/packages/syft/src/syft/client/client.py:1024\u001b[0m, in \u001b[0;36mlogin\u001b[0;34m(email, url, port, node, password, cache)\u001b[0m\n\u001b[1;32m   1013\u001b[0m \u001b[38;5;129m@instrument\u001b[39m\n\u001b[1;32m   1014\u001b[0m \u001b[38;5;28;01mdef\u001b[39;00m \u001b[38;5;21mlogin\u001b[39m(\n\u001b[1;32m   1015\u001b[0m     email: \u001b[38;5;28mstr\u001b[39m,\n\u001b[0;32m   (...)\u001b[0m\n\u001b[1;32m   1022\u001b[0m     cache: \u001b[38;5;28mbool\u001b[39m \u001b[38;5;241m=\u001b[39m \u001b[38;5;28;01mTrue\u001b[39;00m,\n\u001b[1;32m   1023\u001b[0m ) \u001b[38;5;241m-\u001b[39m\u001b[38;5;241m>\u001b[39m SyftClient:\n\u001b[0;32m-> 1024\u001b[0m     _client \u001b[38;5;241m=\u001b[39m connect(\n\u001b[1;32m   1025\u001b[0m         url\u001b[38;5;241m=\u001b[39murl,\n\u001b[1;32m   1026\u001b[0m         node\u001b[38;5;241m=\u001b[39mnode,\n\u001b[1;32m   1027\u001b[0m         port\u001b[38;5;241m=\u001b[39mport,\n\u001b[1;32m   1028\u001b[0m     )\n\u001b[1;32m   1030\u001b[0m     \u001b[38;5;28;01mif\u001b[39;00m \u001b[38;5;28misinstance\u001b[39m(_client, SyftError):\n\u001b[1;32m   1031\u001b[0m         \u001b[38;5;28;01mreturn\u001b[39;00m _client\n",
      "File \u001b[0;32m~/OpenMined/PySyft/packages/syft/src/syft/client/client.py:958\u001b[0m, in \u001b[0;36mconnect\u001b[0;34m(url, node, port)\u001b[0m\n\u001b[1;32m    955\u001b[0m         url\u001b[38;5;241m.\u001b[39mset_port(\u001b[38;5;28mint\u001b[39m(port))\n\u001b[1;32m    956\u001b[0m     connection \u001b[38;5;241m=\u001b[39m HTTPConnection(url\u001b[38;5;241m=\u001b[39murl)\n\u001b[0;32m--> 958\u001b[0m client_type \u001b[38;5;241m=\u001b[39m connection\u001b[38;5;241m.\u001b[39mget_client_type()\n\u001b[1;32m    960\u001b[0m \u001b[38;5;28;01mif\u001b[39;00m \u001b[38;5;28misinstance\u001b[39m(client_type, SyftError):\n\u001b[1;32m    961\u001b[0m     \u001b[38;5;28;01mreturn\u001b[39;00m client_type\n",
      "File \u001b[0;32m~/OpenMined/PySyft/packages/syft/src/syft/client/client.py:319\u001b[0m, in \u001b[0;36mHTTPConnection.get_client_type\u001b[0;34m(self)\u001b[0m\n\u001b[1;32m    316\u001b[0m \u001b[38;5;28;01mfrom\u001b[39;00m \u001b[38;5;21;01m.\u001b[39;00m\u001b[38;5;21;01menclave_client\u001b[39;00m \u001b[38;5;28;01mimport\u001b[39;00m EnclaveClient\n\u001b[1;32m    317\u001b[0m \u001b[38;5;28;01mfrom\u001b[39;00m \u001b[38;5;21;01m.\u001b[39;00m\u001b[38;5;21;01mgateway_client\u001b[39;00m \u001b[38;5;28;01mimport\u001b[39;00m GatewayClient\n\u001b[0;32m--> 319\u001b[0m metadata \u001b[38;5;241m=\u001b[39m \u001b[38;5;28mself\u001b[39m\u001b[38;5;241m.\u001b[39mget_node_metadata(credentials\u001b[38;5;241m=\u001b[39mSyftSigningKey\u001b[38;5;241m.\u001b[39mgenerate())\n\u001b[1;32m    320\u001b[0m \u001b[38;5;28;01mif\u001b[39;00m metadata\u001b[38;5;241m.\u001b[39mnode_type \u001b[38;5;241m==\u001b[39m NodeType\u001b[38;5;241m.\u001b[39mDOMAIN\u001b[38;5;241m.\u001b[39mvalue:\n\u001b[1;32m    321\u001b[0m     \u001b[38;5;28;01mreturn\u001b[39;00m DomainClient\n",
      "File \u001b[0;32m~/OpenMined/PySyft/packages/syft/src/syft/client/client.py:221\u001b[0m, in \u001b[0;36mHTTPConnection.get_node_metadata\u001b[0;34m(self, credentials)\u001b[0m\n\u001b[1;32m    219\u001b[0m     \u001b[38;5;28;01mreturn\u001b[39;00m response\n\u001b[1;32m    220\u001b[0m \u001b[38;5;28;01melse\u001b[39;00m:\n\u001b[0;32m--> 221\u001b[0m     response \u001b[38;5;241m=\u001b[39m \u001b[38;5;28mself\u001b[39m\u001b[38;5;241m.\u001b[39m_make_get(\u001b[38;5;28mself\u001b[39m\u001b[38;5;241m.\u001b[39mroutes\u001b[38;5;241m.\u001b[39mROUTE_METADATA\u001b[38;5;241m.\u001b[39mvalue)\n\u001b[1;32m    222\u001b[0m     metadata_json \u001b[38;5;241m=\u001b[39m json\u001b[38;5;241m.\u001b[39mloads(response)\n\u001b[1;32m    223\u001b[0m     \u001b[38;5;28;01mreturn\u001b[39;00m NodeMetadataJSON(\u001b[38;5;241m*\u001b[39m\u001b[38;5;241m*\u001b[39mmetadata_json)\n",
      "File \u001b[0;32m~/OpenMined/PySyft/packages/syft/src/syft/client/client.py:180\u001b[0m, in \u001b[0;36mHTTPConnection._make_get\u001b[0;34m(self, path, params)\u001b[0m\n\u001b[1;32m    176\u001b[0m response \u001b[38;5;241m=\u001b[39m \u001b[38;5;28mself\u001b[39m\u001b[38;5;241m.\u001b[39msession\u001b[38;5;241m.\u001b[39mget(\n\u001b[1;32m    177\u001b[0m     \u001b[38;5;28mstr\u001b[39m(url), verify\u001b[38;5;241m=\u001b[39mverify_tls(), proxies\u001b[38;5;241m=\u001b[39m{}, params\u001b[38;5;241m=\u001b[39mparams\n\u001b[1;32m    178\u001b[0m )\n\u001b[1;32m    179\u001b[0m \u001b[38;5;28;01mif\u001b[39;00m response\u001b[38;5;241m.\u001b[39mstatus_code \u001b[38;5;241m!=\u001b[39m \u001b[38;5;241m200\u001b[39m:\n\u001b[0;32m--> 180\u001b[0m     \u001b[38;5;28;01mraise\u001b[39;00m requests\u001b[38;5;241m.\u001b[39mConnectionError(\n\u001b[1;32m    181\u001b[0m         \u001b[38;5;124mf\u001b[39m\u001b[38;5;124m\"\u001b[39m\u001b[38;5;124mFailed to fetch \u001b[39m\u001b[38;5;132;01m{\u001b[39;00murl\u001b[38;5;132;01m}\u001b[39;00m\u001b[38;5;124m. Response returned with code \u001b[39m\u001b[38;5;132;01m{\u001b[39;00mresponse\u001b[38;5;241m.\u001b[39mstatus_code\u001b[38;5;132;01m}\u001b[39;00m\u001b[38;5;124m\"\u001b[39m\n\u001b[1;32m    182\u001b[0m     )\n\u001b[1;32m    184\u001b[0m \u001b[38;5;66;03m# upgrade to tls if available\u001b[39;00m\n\u001b[1;32m    185\u001b[0m \u001b[38;5;28mself\u001b[39m\u001b[38;5;241m.\u001b[39murl \u001b[38;5;241m=\u001b[39m upgrade_tls(\u001b[38;5;28mself\u001b[39m\u001b[38;5;241m.\u001b[39murl, response)\n",
      "\u001b[0;31mConnectionError\u001b[0m: Failed to fetch http://localhost:8080/api/v2/metadata. Response returned with code 502"
     ]
    }
   ],
   "source": [
    "client = sy.login(email=\"info@openmined.org\", password=\"changethis\", port=8080)#, url='http://74.248.9.75')"
   ]
  },
  {
   "cell_type": "code",
   "execution_count": 2,
   "metadata": {},
   "outputs": [],
   "source": [
    "# third party\n",
    "import numpy as np\n",
    "\n",
    "mock_high = np.array([10, 11, 12, 13, 14])\n",
    "private_high = np.random.rand(125_000_000 * 5)"
   ]
  },
  {
   "cell_type": "code",
   "execution_count": 3,
   "metadata": {},
   "outputs": [],
   "source": [
    "from sys import getsizeof"
   ]
  },
  {
   "cell_type": "code",
   "execution_count": 4,
   "metadata": {},
   "outputs": [
    {
     "data": {
      "text/plain": [
       "5000000112"
      ]
     },
     "execution_count": 4,
     "metadata": {},
     "output_type": "execute_result"
    }
   ],
   "source": [
    "getsizeof(private_high)"
   ]
  },
  {
   "cell_type": "code",
   "execution_count": 5,
   "metadata": {},
   "outputs": [],
   "source": [
    "from syft.serde.recursive import recursive_scheme"
   ]
  },
  {
   "cell_type": "code",
   "execution_count": 3,
   "metadata": {},
   "outputs": [],
   "source": [
    "our_bytes = private_high.tobytes()"
   ]
  },
  {
   "cell_type": "code",
   "execution_count": 6,
   "metadata": {},
   "outputs": [
    {
     "data": {
      "text/plain": [
       "<capnp list builder [[], [], [], [], [], [], [], [], [], []]>"
      ]
     },
     "execution_count": 6,
     "metadata": {},
     "output_type": "execute_result"
    }
   ],
   "source": [
    "msg = recursive_scheme.new_message()\n",
    "msg.init(\"fieldsName\", 10)\n",
    "msg.init(\"fieldsData\", 10)"
   ]
  },
  {
   "cell_type": "code",
   "execution_count": 7,
   "metadata": {},
   "outputs": [],
   "source": [
    "\n",
    "def chunk_bytes(\n",
    "    field_obj, ser_func, field_name: str | int, builder\n",
    ") -> None:\n",
    "    data = ser_func(field_obj)\n",
    "    CHUNK_SIZE = int(5.12e8)  # capnp max for a List(Data) field\n",
    "    list_size = len(data) // CHUNK_SIZE + 1\n",
    "    data_lst = builder.init(field_name, list_size)\n",
    "    END_INDEX = CHUNK_SIZE\n",
    "    for idx in range(list_size):\n",
    "        START_INDEX = idx * CHUNK_SIZE\n",
    "        END_INDEX = min(START_INDEX + CHUNK_SIZE, len(data))\n",
    "        data_lst[idx] = data[START_INDEX:END_INDEX]\n",
    "\n"
   ]
  },
  {
   "cell_type": "code",
   "execution_count": 8,
   "metadata": {},
   "outputs": [],
   "source": [
    "msg.fieldsName[0] = 'test'\n",
    "chunk_bytes(private_high, lambda x: x.tobytes(), 0, msg.fieldsData)"
   ]
  },
  {
   "cell_type": "code",
   "execution_count": 5,
   "metadata": {},
   "outputs": [
    {
     "data": {
      "text/plain": [
       "5.0"
      ]
     },
     "execution_count": 5,
     "metadata": {},
     "output_type": "execute_result"
    }
   ],
   "source": [
    "private_high.nbytes / (10**9)"
   ]
  },
  {
   "cell_type": "markdown",
   "metadata": {},
   "source": [
    "* system ~ 5gb\n",
    "* object - 5gb\n",
    "* bytes - 5gb"
   ]
  },
  {
   "cell_type": "code",
   "execution_count": null,
   "metadata": {},
   "outputs": [],
   "source": []
  },
  {
   "cell_type": "code",
   "execution_count": null,
   "metadata": {},
   "outputs": [],
   "source": [
    "a = private_high.tobytes()"
   ]
  },
  {
   "cell_type": "code",
   "execution_count": 6,
   "metadata": {},
   "outputs": [],
   "source": [
    "action_object = sy.ActionObject.from_obj(private_high)"
   ]
  },
  {
   "cell_type": "code",
   "execution_count": 7,
   "metadata": {},
   "outputs": [
    {
     "ename": "TypeError",
     "evalue": "chunk_bytes() missing 1 required positional argument: 'builder'",
     "output_type": "error",
     "traceback": [
      "\u001b[0;31m---------------------------------------------------------------------------\u001b[0m",
      "\u001b[0;31mTypeError\u001b[0m                                 Traceback (most recent call last)",
      "Cell \u001b[0;32mIn[7], line 1\u001b[0m\n\u001b[0;32m----> 1\u001b[0m msg \u001b[38;5;241m=\u001b[39m sy\u001b[38;5;241m.\u001b[39mserialize(action_object)\n",
      "File \u001b[0;32m~/OpenMined/PySyft/packages/syft/src/syft/serde/serialize.py:14\u001b[0m, in \u001b[0;36m_serialize\u001b[0;34m(obj, to_proto, to_bytes, for_hashing)\u001b[0m\n\u001b[1;32m      5\u001b[0m \u001b[38;5;28;01mdef\u001b[39;00m \u001b[38;5;21m_serialize\u001b[39m(\n\u001b[1;32m      6\u001b[0m     obj: \u001b[38;5;28mobject\u001b[39m,\n\u001b[1;32m      7\u001b[0m     to_proto: \u001b[38;5;28mbool\u001b[39m \u001b[38;5;241m=\u001b[39m \u001b[38;5;28;01mTrue\u001b[39;00m,\n\u001b[0;32m   (...)\u001b[0m\n\u001b[1;32m     10\u001b[0m ) \u001b[38;5;241m-\u001b[39m\u001b[38;5;241m>\u001b[39m Any:\n\u001b[1;32m     11\u001b[0m     \u001b[38;5;66;03m# relative\u001b[39;00m\n\u001b[1;32m     12\u001b[0m     \u001b[38;5;28;01mfrom\u001b[39;00m \u001b[38;5;21;01m.\u001b[39;00m\u001b[38;5;21;01mrecursive\u001b[39;00m \u001b[38;5;28;01mimport\u001b[39;00m rs_object2proto\n\u001b[0;32m---> 14\u001b[0m     proto \u001b[38;5;241m=\u001b[39m rs_object2proto(obj, for_hashing\u001b[38;5;241m=\u001b[39mfor_hashing)\n\u001b[1;32m     16\u001b[0m     \u001b[38;5;28;01mif\u001b[39;00m to_bytes:\n\u001b[1;32m     17\u001b[0m         \u001b[38;5;28;01mreturn\u001b[39;00m proto\u001b[38;5;241m.\u001b[39mto_bytes()\n",
      "File \u001b[0;32m~/OpenMined/PySyft/packages/syft/src/syft/serde/recursive.py:264\u001b[0m, in \u001b[0;36mrs_object2proto\u001b[0;34m(self, for_hashing)\u001b[0m\n\u001b[1;32m    260\u001b[0m         \u001b[38;5;28;01mcontinue\u001b[39;00m\n\u001b[1;32m    263\u001b[0m     msg\u001b[38;5;241m.\u001b[39mfieldsName[idx] \u001b[38;5;241m=\u001b[39m attr_name\n\u001b[0;32m--> 264\u001b[0m     chunk_bytes(field_obj, \u001b[38;5;28;01mlambda\u001b[39;00m x: sy\u001b[38;5;241m.\u001b[39mserialize(x, to_bytes\u001b[38;5;241m=\u001b[39m\u001b[38;5;28;01mTrue\u001b[39;00m, for_hashing\u001b[38;5;241m=\u001b[39mfor_hashing), idx, msg\u001b[38;5;241m.\u001b[39mfieldsData)\n\u001b[1;32m    266\u001b[0m \u001b[38;5;28;01mreturn\u001b[39;00m msg\n",
      "File \u001b[0;32m~/OpenMined/PySyft/packages/syft/src/syft/serde/recursive.py:176\u001b[0m, in \u001b[0;36mchunk_bytes\u001b[0;34m(field_obj, ser_func, field_name, builder)\u001b[0m\n\u001b[1;32m    173\u001b[0m \u001b[38;5;28;01mdef\u001b[39;00m \u001b[38;5;21mchunk_bytes\u001b[39m(\n\u001b[1;32m    174\u001b[0m     field_obj: Any, ser_func: Any, field_name: \u001b[38;5;28mstr\u001b[39m \u001b[38;5;241m|\u001b[39m \u001b[38;5;28mint\u001b[39m, builder: _DynamicStructBuilder\n\u001b[1;32m    175\u001b[0m ) \u001b[38;5;241m-\u001b[39m\u001b[38;5;241m>\u001b[39m \u001b[38;5;28;01mNone\u001b[39;00m:\n\u001b[0;32m--> 176\u001b[0m     data \u001b[38;5;241m=\u001b[39m ser_func(field_obj)\n\u001b[1;32m    177\u001b[0m     CHUNK_SIZE \u001b[38;5;241m=\u001b[39m \u001b[38;5;28mint\u001b[39m(\u001b[38;5;241m5.12e8\u001b[39m)  \u001b[38;5;66;03m# capnp max for a List(Data) field\u001b[39;00m\n\u001b[1;32m    178\u001b[0m     list_size \u001b[38;5;241m=\u001b[39m \u001b[38;5;28mlen\u001b[39m(data) \u001b[38;5;241m/\u001b[39m\u001b[38;5;241m/\u001b[39m CHUNK_SIZE \u001b[38;5;241m+\u001b[39m \u001b[38;5;241m1\u001b[39m\n",
      "File \u001b[0;32m~/OpenMined/PySyft/packages/syft/src/syft/serde/recursive.py:264\u001b[0m, in \u001b[0;36mrs_object2proto.<locals>.<lambda>\u001b[0;34m(x)\u001b[0m\n\u001b[1;32m    260\u001b[0m         \u001b[38;5;28;01mcontinue\u001b[39;00m\n\u001b[1;32m    263\u001b[0m     msg\u001b[38;5;241m.\u001b[39mfieldsName[idx] \u001b[38;5;241m=\u001b[39m attr_name\n\u001b[0;32m--> 264\u001b[0m     chunk_bytes(field_obj, \u001b[38;5;28;01mlambda\u001b[39;00m x: sy\u001b[38;5;241m.\u001b[39mserialize(x, to_bytes\u001b[38;5;241m=\u001b[39m\u001b[38;5;28;01mTrue\u001b[39;00m, for_hashing\u001b[38;5;241m=\u001b[39mfor_hashing), idx, msg\u001b[38;5;241m.\u001b[39mfieldsData)\n\u001b[1;32m    266\u001b[0m \u001b[38;5;28;01mreturn\u001b[39;00m msg\n",
      "File \u001b[0;32m~/OpenMined/PySyft/packages/syft/src/syft/serde/serialize.py:14\u001b[0m, in \u001b[0;36m_serialize\u001b[0;34m(obj, to_proto, to_bytes, for_hashing)\u001b[0m\n\u001b[1;32m      5\u001b[0m \u001b[38;5;28;01mdef\u001b[39;00m \u001b[38;5;21m_serialize\u001b[39m(\n\u001b[1;32m      6\u001b[0m     obj: \u001b[38;5;28mobject\u001b[39m,\n\u001b[1;32m      7\u001b[0m     to_proto: \u001b[38;5;28mbool\u001b[39m \u001b[38;5;241m=\u001b[39m \u001b[38;5;28;01mTrue\u001b[39;00m,\n\u001b[0;32m   (...)\u001b[0m\n\u001b[1;32m     10\u001b[0m ) \u001b[38;5;241m-\u001b[39m\u001b[38;5;241m>\u001b[39m Any:\n\u001b[1;32m     11\u001b[0m     \u001b[38;5;66;03m# relative\u001b[39;00m\n\u001b[1;32m     12\u001b[0m     \u001b[38;5;28;01mfrom\u001b[39;00m \u001b[38;5;21;01m.\u001b[39;00m\u001b[38;5;21;01mrecursive\u001b[39;00m \u001b[38;5;28;01mimport\u001b[39;00m rs_object2proto\n\u001b[0;32m---> 14\u001b[0m     proto \u001b[38;5;241m=\u001b[39m rs_object2proto(obj, for_hashing\u001b[38;5;241m=\u001b[39mfor_hashing)\n\u001b[1;32m     16\u001b[0m     \u001b[38;5;28;01mif\u001b[39;00m to_bytes:\n\u001b[1;32m     17\u001b[0m         \u001b[38;5;28;01mreturn\u001b[39;00m proto\u001b[38;5;241m.\u001b[39mto_bytes()\n",
      "File \u001b[0;32m~/OpenMined/PySyft/packages/syft/src/syft/serde/recursive.py:229\u001b[0m, in \u001b[0;36mrs_object2proto\u001b[0;34m(self, for_hashing)\u001b[0m\n\u001b[1;32m    225\u001b[0m     \u001b[38;5;28;01mif\u001b[39;00m serialize \u001b[38;5;129;01mis\u001b[39;00m \u001b[38;5;28;01mNone\u001b[39;00m:\n\u001b[1;32m    226\u001b[0m         \u001b[38;5;28;01mraise\u001b[39;00m \u001b[38;5;167;01mException\u001b[39;00m(\n\u001b[1;32m    227\u001b[0m             \u001b[38;5;124mf\u001b[39m\u001b[38;5;124m\"\u001b[39m\u001b[38;5;124mCant serialize \u001b[39m\u001b[38;5;132;01m{\u001b[39;00m\u001b[38;5;28mtype\u001b[39m(\u001b[38;5;28mself\u001b[39m)\u001b[38;5;132;01m}\u001b[39;00m\u001b[38;5;124m nonrecursive without serialize.\u001b[39m\u001b[38;5;124m\"\u001b[39m\n\u001b[1;32m    228\u001b[0m         )\n\u001b[0;32m--> 229\u001b[0m     chunk_bytes(\u001b[38;5;28mself\u001b[39m, serialize, \u001b[38;5;124m\"\u001b[39m\u001b[38;5;124mnonrecursiveBlob\u001b[39m\u001b[38;5;124m\"\u001b[39m, msg)\n\u001b[1;32m    230\u001b[0m     \u001b[38;5;28;01mreturn\u001b[39;00m msg\n\u001b[1;32m    232\u001b[0m \u001b[38;5;28;01mif\u001b[39;00m attribute_list \u001b[38;5;129;01mis\u001b[39;00m \u001b[38;5;28;01mNone\u001b[39;00m:\n",
      "File \u001b[0;32m~/OpenMined/PySyft/packages/syft/src/syft/serde/recursive.py:176\u001b[0m, in \u001b[0;36mchunk_bytes\u001b[0;34m(field_obj, ser_func, field_name, builder)\u001b[0m\n\u001b[1;32m    173\u001b[0m \u001b[38;5;28;01mdef\u001b[39;00m \u001b[38;5;21mchunk_bytes\u001b[39m(\n\u001b[1;32m    174\u001b[0m     field_obj: Any, ser_func: Any, field_name: \u001b[38;5;28mstr\u001b[39m \u001b[38;5;241m|\u001b[39m \u001b[38;5;28mint\u001b[39m, builder: _DynamicStructBuilder\n\u001b[1;32m    175\u001b[0m ) \u001b[38;5;241m-\u001b[39m\u001b[38;5;241m>\u001b[39m \u001b[38;5;28;01mNone\u001b[39;00m:\n\u001b[0;32m--> 176\u001b[0m     data \u001b[38;5;241m=\u001b[39m ser_func(field_obj)\n\u001b[1;32m    177\u001b[0m     CHUNK_SIZE \u001b[38;5;241m=\u001b[39m \u001b[38;5;28mint\u001b[39m(\u001b[38;5;241m5.12e8\u001b[39m)  \u001b[38;5;66;03m# capnp max for a List(Data) field\u001b[39;00m\n\u001b[1;32m    178\u001b[0m     list_size \u001b[38;5;241m=\u001b[39m \u001b[38;5;28mlen\u001b[39m(data) \u001b[38;5;241m/\u001b[39m\u001b[38;5;241m/\u001b[39m CHUNK_SIZE \u001b[38;5;241m+\u001b[39m \u001b[38;5;241m1\u001b[39m\n",
      "File \u001b[0;32m~/OpenMined/PySyft/packages/syft/src/syft/serde/arrow.py:114\u001b[0m, in \u001b[0;36mnumpy_serialize\u001b[0;34m(obj)\u001b[0m\n\u001b[1;32m    112\u001b[0m \u001b[38;5;28;01mdef\u001b[39;00m \u001b[38;5;21mnumpy_serialize\u001b[39m(obj: np\u001b[38;5;241m.\u001b[39mndarray) \u001b[38;5;241m-\u001b[39m\u001b[38;5;241m>\u001b[39m \u001b[38;5;28mbytes\u001b[39m:\n\u001b[1;32m    113\u001b[0m     \u001b[38;5;28;01mif\u001b[39;00m obj\u001b[38;5;241m.\u001b[39mdtype\u001b[38;5;241m.\u001b[39mtype \u001b[38;5;241m!=\u001b[39m np\u001b[38;5;241m.\u001b[39mstr_:\n\u001b[0;32m--> 114\u001b[0m         \u001b[38;5;28;01mreturn\u001b[39;00m arrow_serialize(obj)\n\u001b[1;32m    115\u001b[0m     \u001b[38;5;28;01melse\u001b[39;00m:\n\u001b[1;32m    116\u001b[0m         \u001b[38;5;28;01mreturn\u001b[39;00m arraytonumpyutf8(obj)\n",
      "File \u001b[0;32m~/OpenMined/PySyft/packages/syft/src/syft/serde/arrow.py:29\u001b[0m, in \u001b[0;36marrow_serialize\u001b[0;34m(obj)\u001b[0m\n\u001b[1;32m     24\u001b[0m     numpy_bytes \u001b[38;5;241m=\u001b[39m pa\u001b[38;5;241m.\u001b[39mcompress(\n\u001b[1;32m     25\u001b[0m         buffer, asbytes\u001b[38;5;241m=\u001b[39m\u001b[38;5;28;01mTrue\u001b[39;00m, codec\u001b[38;5;241m=\u001b[39mflags\u001b[38;5;241m.\u001b[39mAPACHE_ARROW_COMPRESSION\u001b[38;5;241m.\u001b[39mvalue\n\u001b[1;32m     26\u001b[0m     )\n\u001b[1;32m     27\u001b[0m dtype \u001b[38;5;241m=\u001b[39m original_dtype\u001b[38;5;241m.\u001b[39mname\n\u001b[0;32m---> 29\u001b[0m \u001b[38;5;28;01mreturn\u001b[39;00m cast(\u001b[38;5;28mbytes\u001b[39m, _serialize((numpy_bytes, buffer\u001b[38;5;241m.\u001b[39msize, dtype), to_bytes\u001b[38;5;241m=\u001b[39m\u001b[38;5;28;01mTrue\u001b[39;00m))\n",
      "File \u001b[0;32m~/OpenMined/PySyft/packages/syft/src/syft/serde/serialize.py:14\u001b[0m, in \u001b[0;36m_serialize\u001b[0;34m(obj, to_proto, to_bytes, for_hashing)\u001b[0m\n\u001b[1;32m      5\u001b[0m \u001b[38;5;28;01mdef\u001b[39;00m \u001b[38;5;21m_serialize\u001b[39m(\n\u001b[1;32m      6\u001b[0m     obj: \u001b[38;5;28mobject\u001b[39m,\n\u001b[1;32m      7\u001b[0m     to_proto: \u001b[38;5;28mbool\u001b[39m \u001b[38;5;241m=\u001b[39m \u001b[38;5;28;01mTrue\u001b[39;00m,\n\u001b[0;32m   (...)\u001b[0m\n\u001b[1;32m     10\u001b[0m ) \u001b[38;5;241m-\u001b[39m\u001b[38;5;241m>\u001b[39m Any:\n\u001b[1;32m     11\u001b[0m     \u001b[38;5;66;03m# relative\u001b[39;00m\n\u001b[1;32m     12\u001b[0m     \u001b[38;5;28;01mfrom\u001b[39;00m \u001b[38;5;21;01m.\u001b[39;00m\u001b[38;5;21;01mrecursive\u001b[39;00m \u001b[38;5;28;01mimport\u001b[39;00m rs_object2proto\n\u001b[0;32m---> 14\u001b[0m     proto \u001b[38;5;241m=\u001b[39m rs_object2proto(obj, for_hashing\u001b[38;5;241m=\u001b[39mfor_hashing)\n\u001b[1;32m     16\u001b[0m     \u001b[38;5;28;01mif\u001b[39;00m to_bytes:\n\u001b[1;32m     17\u001b[0m         \u001b[38;5;28;01mreturn\u001b[39;00m proto\u001b[38;5;241m.\u001b[39mto_bytes()\n",
      "File \u001b[0;32m~/OpenMined/PySyft/packages/syft/src/syft/serde/recursive.py:229\u001b[0m, in \u001b[0;36mrs_object2proto\u001b[0;34m(self, for_hashing)\u001b[0m\n\u001b[1;32m    225\u001b[0m     \u001b[38;5;28;01mif\u001b[39;00m serialize \u001b[38;5;129;01mis\u001b[39;00m \u001b[38;5;28;01mNone\u001b[39;00m:\n\u001b[1;32m    226\u001b[0m         \u001b[38;5;28;01mraise\u001b[39;00m \u001b[38;5;167;01mException\u001b[39;00m(\n\u001b[1;32m    227\u001b[0m             \u001b[38;5;124mf\u001b[39m\u001b[38;5;124m\"\u001b[39m\u001b[38;5;124mCant serialize \u001b[39m\u001b[38;5;132;01m{\u001b[39;00m\u001b[38;5;28mtype\u001b[39m(\u001b[38;5;28mself\u001b[39m)\u001b[38;5;132;01m}\u001b[39;00m\u001b[38;5;124m nonrecursive without serialize.\u001b[39m\u001b[38;5;124m\"\u001b[39m\n\u001b[1;32m    228\u001b[0m         )\n\u001b[0;32m--> 229\u001b[0m     chunk_bytes(\u001b[38;5;28mself\u001b[39m, serialize, \u001b[38;5;124m\"\u001b[39m\u001b[38;5;124mnonrecursiveBlob\u001b[39m\u001b[38;5;124m\"\u001b[39m, msg)\n\u001b[1;32m    230\u001b[0m     \u001b[38;5;28;01mreturn\u001b[39;00m msg\n\u001b[1;32m    232\u001b[0m \u001b[38;5;28;01mif\u001b[39;00m attribute_list \u001b[38;5;129;01mis\u001b[39;00m \u001b[38;5;28;01mNone\u001b[39;00m:\n",
      "File \u001b[0;32m~/OpenMined/PySyft/packages/syft/src/syft/serde/recursive.py:176\u001b[0m, in \u001b[0;36mchunk_bytes\u001b[0;34m(field_obj, ser_func, field_name, builder)\u001b[0m\n\u001b[1;32m    173\u001b[0m \u001b[38;5;28;01mdef\u001b[39;00m \u001b[38;5;21mchunk_bytes\u001b[39m(\n\u001b[1;32m    174\u001b[0m     field_obj: Any, ser_func: Any, field_name: \u001b[38;5;28mstr\u001b[39m \u001b[38;5;241m|\u001b[39m \u001b[38;5;28mint\u001b[39m, builder: _DynamicStructBuilder\n\u001b[1;32m    175\u001b[0m ) \u001b[38;5;241m-\u001b[39m\u001b[38;5;241m>\u001b[39m \u001b[38;5;28;01mNone\u001b[39;00m:\n\u001b[0;32m--> 176\u001b[0m     data \u001b[38;5;241m=\u001b[39m ser_func(field_obj)\n\u001b[1;32m    177\u001b[0m     CHUNK_SIZE \u001b[38;5;241m=\u001b[39m \u001b[38;5;28mint\u001b[39m(\u001b[38;5;241m5.12e8\u001b[39m)  \u001b[38;5;66;03m# capnp max for a List(Data) field\u001b[39;00m\n\u001b[1;32m    178\u001b[0m     list_size \u001b[38;5;241m=\u001b[39m \u001b[38;5;28mlen\u001b[39m(data) \u001b[38;5;241m/\u001b[39m\u001b[38;5;241m/\u001b[39m CHUNK_SIZE \u001b[38;5;241m+\u001b[39m \u001b[38;5;241m1\u001b[39m\n",
      "File \u001b[0;32m~/OpenMined/PySyft/packages/syft/src/syft/serde/recursive_primitives.py:47\u001b[0m, in \u001b[0;36mserialize_iterable\u001b[0;34m(iterable)\u001b[0m\n\u001b[1;32m     45\u001b[0m \u001b[38;5;28;01mfor\u001b[39;00m idx, it \u001b[38;5;129;01min\u001b[39;00m \u001b[38;5;28menumerate\u001b[39m(iterable):\n\u001b[1;32m     46\u001b[0m     serialized \u001b[38;5;241m=\u001b[39m _serialize(it, to_bytes\u001b[38;5;241m=\u001b[39m\u001b[38;5;28;01mTrue\u001b[39;00m)\n\u001b[0;32m---> 47\u001b[0m     chunk_bytes(serialized, idx, message\u001b[38;5;241m.\u001b[39mvalues)\n\u001b[1;32m     49\u001b[0m \u001b[38;5;28;01mreturn\u001b[39;00m message\u001b[38;5;241m.\u001b[39mto_bytes()\n",
      "\u001b[0;31mTypeError\u001b[0m: chunk_bytes() missing 1 required positional argument: 'builder'"
     ]
    }
   ],
   "source": [
    "msg = sy.serialize(action_object)"
   ]
  },
  {
   "cell_type": "code",
   "execution_count": null,
   "metadata": {},
   "outputs": [
    {
     "name": "stderr",
     "output_type": "stream",
     "text": [
      "Uploading progress: 100%|██████████| 1232/1232 [00:08<00:00, 152.17it/s]\n"
     ]
    },
    {
     "data": {
      "text/markdown": [
       "```python\n",
       "Pointer\n",
       "```\n",
       "array([0.76927523, 0.53988129, 0.80223722, ..., 0.05256553, 0.13019749,\n",
       "       0.89295591])"
      ],
      "text/plain": [
       "Pointer:\n",
       "array([0.76927523, 0.53988129, 0.80223722, ..., 0.05256553, 0.13019749,\n",
       "       0.89295591])"
      ]
     },
     "execution_count": 8,
     "metadata": {},
     "output_type": "execute_result"
    }
   ],
   "source": [
    "action_object.send(client)"
   ]
  },
  {
   "cell_type": "code",
   "execution_count": null,
   "metadata": {},
   "outputs": [
    {
     "ename": "ConnectionError",
     "evalue": "Failed to fetch metadata. Response returned with code 502",
     "output_type": "error",
     "traceback": [
      "\u001b[0;31m---------------------------------------------------------------------------\u001b[0m",
      "\u001b[0;31mConnectionError\u001b[0m                           Traceback (most recent call last)",
      "Cell \u001b[0;32mIn[9], line 1\u001b[0m\n\u001b[0;32m----> 1\u001b[0m client\u001b[38;5;241m.\u001b[39mapi\u001b[38;5;241m.\u001b[39mservices\u001b[38;5;241m.\u001b[39maction\u001b[38;5;241m.\u001b[39mget(action_object\u001b[38;5;241m.\u001b[39mid)\n",
      "File \u001b[0;32m~/OpenMined/PySyft/packages/syft/src/syft/client/api.py:299\u001b[0m, in \u001b[0;36mRemoteFunction.__call__\u001b[0;34m(self, *args, **kwargs)\u001b[0m\n\u001b[1;32m    298\u001b[0m \u001b[38;5;28;01mdef\u001b[39;00m \u001b[38;5;21m__call__\u001b[39m(\u001b[38;5;28mself\u001b[39m, \u001b[38;5;241m*\u001b[39margs: Any, \u001b[38;5;241m*\u001b[39m\u001b[38;5;241m*\u001b[39mkwargs: Any) \u001b[38;5;241m-\u001b[39m\u001b[38;5;241m>\u001b[39m Any:\n\u001b[0;32m--> 299\u001b[0m     \u001b[38;5;28;01mreturn\u001b[39;00m \u001b[38;5;28mself\u001b[39m\u001b[38;5;241m.\u001b[39m__function_call(\u001b[38;5;28mself\u001b[39m\u001b[38;5;241m.\u001b[39mpath, \u001b[38;5;241m*\u001b[39margs, \u001b[38;5;241m*\u001b[39m\u001b[38;5;241m*\u001b[39mkwargs)\n",
      "File \u001b[0;32m~/OpenMined/PySyft/packages/syft/src/syft/client/api.py:290\u001b[0m, in \u001b[0;36mRemoteFunction.__function_call\u001b[0;34m(self, path, cache_result, *args, **kwargs)\u001b[0m\n\u001b[1;32m    288\u001b[0m \u001b[38;5;28;01mif\u001b[39;00m \u001b[38;5;129;01mnot\u001b[39;00m allowed:\n\u001b[1;32m    289\u001b[0m     \u001b[38;5;28;01mreturn\u001b[39;00m\n\u001b[0;32m--> 290\u001b[0m result \u001b[38;5;241m=\u001b[39m \u001b[38;5;28mself\u001b[39m\u001b[38;5;241m.\u001b[39mmake_call(api_call\u001b[38;5;241m=\u001b[39mapi_call, cache_result\u001b[38;5;241m=\u001b[39mcache_result)\n\u001b[1;32m    292\u001b[0m result, _ \u001b[38;5;241m=\u001b[39m migrate_args_and_kwargs(\n\u001b[1;32m    293\u001b[0m     [result], kwargs\u001b[38;5;241m=\u001b[39m{}, to_latest_protocol\u001b[38;5;241m=\u001b[39m\u001b[38;5;28;01mTrue\u001b[39;00m\n\u001b[1;32m    294\u001b[0m )\n\u001b[1;32m    295\u001b[0m result \u001b[38;5;241m=\u001b[39m result[\u001b[38;5;241m0\u001b[39m]\n",
      "File \u001b[0;32m~/OpenMined/PySyft/packages/syft/src/syft/client/api.py:856\u001b[0m, in \u001b[0;36mSyftAPI.make_call\u001b[0;34m(self, api_call, cache_result)\u001b[0m\n\u001b[1;32m    854\u001b[0m signed_call \u001b[38;5;241m=\u001b[39m api_call\u001b[38;5;241m.\u001b[39msign(credentials\u001b[38;5;241m=\u001b[39m\u001b[38;5;28mself\u001b[39m\u001b[38;5;241m.\u001b[39msigning_key)\n\u001b[1;32m    855\u001b[0m \u001b[38;5;28;01mif\u001b[39;00m \u001b[38;5;28mself\u001b[39m\u001b[38;5;241m.\u001b[39mconnection \u001b[38;5;129;01mis\u001b[39;00m \u001b[38;5;129;01mnot\u001b[39;00m \u001b[38;5;28;01mNone\u001b[39;00m:\n\u001b[0;32m--> 856\u001b[0m     signed_result \u001b[38;5;241m=\u001b[39m \u001b[38;5;28mself\u001b[39m\u001b[38;5;241m.\u001b[39mconnection\u001b[38;5;241m.\u001b[39mmake_call(signed_call)\n\u001b[1;32m    857\u001b[0m \u001b[38;5;28;01melse\u001b[39;00m:\n\u001b[1;32m    858\u001b[0m     \u001b[38;5;28;01mreturn\u001b[39;00m SyftError(message\u001b[38;5;241m=\u001b[39m\u001b[38;5;124m\"\u001b[39m\u001b[38;5;124mAPI connection is None\u001b[39m\u001b[38;5;124m\"\u001b[39m)\n",
      "File \u001b[0;32m~/OpenMined/PySyft/packages/syft/src/syft/client/client.py:294\u001b[0m, in \u001b[0;36mHTTPConnection.make_call\u001b[0;34m(self, signed_call)\u001b[0m\n\u001b[1;32m    288\u001b[0m response \u001b[38;5;241m=\u001b[39m requests\u001b[38;5;241m.\u001b[39mpost(  \u001b[38;5;66;03m# nosec\u001b[39;00m\n\u001b[1;32m    289\u001b[0m     url\u001b[38;5;241m=\u001b[39m\u001b[38;5;28mstr\u001b[39m(\u001b[38;5;28mself\u001b[39m\u001b[38;5;241m.\u001b[39mapi_url),\n\u001b[1;32m    290\u001b[0m     data\u001b[38;5;241m=\u001b[39mmsg_bytes,\n\u001b[1;32m    291\u001b[0m )\n\u001b[1;32m    293\u001b[0m \u001b[38;5;28;01mif\u001b[39;00m response\u001b[38;5;241m.\u001b[39mstatus_code \u001b[38;5;241m!=\u001b[39m \u001b[38;5;241m200\u001b[39m:\n\u001b[0;32m--> 294\u001b[0m     \u001b[38;5;28;01mraise\u001b[39;00m requests\u001b[38;5;241m.\u001b[39mConnectionError(\n\u001b[1;32m    295\u001b[0m         \u001b[38;5;124mf\u001b[39m\u001b[38;5;124m\"\u001b[39m\u001b[38;5;124mFailed to fetch metadata. Response returned with code \u001b[39m\u001b[38;5;132;01m{\u001b[39;00mresponse\u001b[38;5;241m.\u001b[39mstatus_code\u001b[38;5;132;01m}\u001b[39;00m\u001b[38;5;124m\"\u001b[39m\n\u001b[1;32m    296\u001b[0m     )\n\u001b[1;32m    298\u001b[0m result \u001b[38;5;241m=\u001b[39m _deserialize(response\u001b[38;5;241m.\u001b[39mcontent, from_bytes\u001b[38;5;241m=\u001b[39m\u001b[38;5;28;01mTrue\u001b[39;00m)\n\u001b[1;32m    299\u001b[0m \u001b[38;5;28;01mreturn\u001b[39;00m result\n",
      "\u001b[0;31mConnectionError\u001b[0m: Failed to fetch metadata. Response returned with code 502"
     ]
    }
   ],
   "source": [
    "client.api.services.action.get(action_object.id)"
   ]
  },
  {
   "cell_type": "code",
   "execution_count": null,
   "metadata": {},
   "outputs": [
    {
     "ename": "AssertionError",
     "evalue": "",
     "output_type": "error",
     "traceback": [
      "\u001b[0;31m---------------------------------------------------------------------------\u001b[0m",
      "\u001b[0;31mAssertionError\u001b[0m                            Traceback (most recent call last)",
      "Cell \u001b[0;32mIn[7], line 1\u001b[0m\n\u001b[0;32m----> 1\u001b[0m \u001b[38;5;28;01massert\u001b[39;00m \u001b[38;5;28;01mFalse\u001b[39;00m\n",
      "\u001b[0;31mAssertionError\u001b[0m: "
     ]
    }
   ],
   "source": [
    "assert False"
   ]
  },
  {
   "cell_type": "code",
   "execution_count": null,
   "metadata": {},
   "outputs": [
    {
     "name": "stderr",
     "output_type": "stream",
     "text": [
      "  0%|          | 0/1 [00:00<?, ?it/s]"
     ]
    },
    {
     "name": "stdout",
     "output_type": "stream",
     "text": [
      "Uploading: numpy-data\n"
     ]
    },
    {
     "name": "stderr",
     "output_type": "stream",
     "text": [
      "Uploading progress: 100%|██████████| 1146/1146 [00:04<00:00, 253.37it/s]\n",
      "100%|██████████| 1/1 [00:33<00:00, 33.17s/it]\n"
     ]
    },
    {
     "name": "stdout",
     "output_type": "stream",
     "text": [
      "**WARNING**: The total size for asset: 'numpy-data' exceeds '512 MB'. This might result in failure to upload dataset. Please contact #support on OpenMined slack for further assistance.\n"
     ]
    },
    {
     "ename": "ConnectionError",
     "evalue": "Failed to fetch metadata. Response returned with code 502",
     "output_type": "error",
     "traceback": [
      "\u001b[0;31m---------------------------------------------------------------------------\u001b[0m",
      "\u001b[0;31mConnectionError\u001b[0m                           Traceback (most recent call last)",
      "Cell \u001b[0;32mIn[7], line 15\u001b[0m\n\u001b[1;32m      1\u001b[0m dataset_high \u001b[38;5;241m=\u001b[39m sy\u001b[38;5;241m.\u001b[39mDataset(\n\u001b[1;32m      2\u001b[0m     name\u001b[38;5;241m=\u001b[39m\u001b[38;5;124m\"\u001b[39m\u001b[38;5;124mmy-dataset\u001b[39m\u001b[38;5;124m\"\u001b[39m,\n\u001b[1;32m      3\u001b[0m     description\u001b[38;5;241m=\u001b[39m\u001b[38;5;124m\"\u001b[39m\u001b[38;5;124mabc\u001b[39m\u001b[38;5;124m\"\u001b[39m,\n\u001b[0;32m   (...)\u001b[0m\n\u001b[1;32m     12\u001b[0m     ],\n\u001b[1;32m     13\u001b[0m )\n\u001b[0;32m---> 15\u001b[0m client\u001b[38;5;241m.\u001b[39mupload_dataset(dataset_high)\n",
      "File \u001b[0;32m~/OpenMined/PySyft/packages/syft/src/syft/client/domain_client.py:148\u001b[0m, in \u001b[0;36mDomainClient.upload_dataset\u001b[0;34m(self, dataset)\u001b[0m\n\u001b[1;32m    146\u001b[0m \u001b[38;5;28;01mif\u001b[39;00m \u001b[38;5;28misinstance\u001b[39m(valid, SyftError):\n\u001b[1;32m    147\u001b[0m     \u001b[38;5;28;01mreturn\u001b[39;00m valid\n\u001b[0;32m--> 148\u001b[0m \u001b[38;5;28;01mreturn\u001b[39;00m \u001b[38;5;28mself\u001b[39m\u001b[38;5;241m.\u001b[39mapi\u001b[38;5;241m.\u001b[39mservices\u001b[38;5;241m.\u001b[39mdataset\u001b[38;5;241m.\u001b[39madd(dataset\u001b[38;5;241m=\u001b[39mdataset)\n",
      "File \u001b[0;32m~/OpenMined/PySyft/packages/syft/src/syft/client/api.py:299\u001b[0m, in \u001b[0;36mRemoteFunction.__call__\u001b[0;34m(self, *args, **kwargs)\u001b[0m\n\u001b[1;32m    298\u001b[0m \u001b[38;5;28;01mdef\u001b[39;00m \u001b[38;5;21m__call__\u001b[39m(\u001b[38;5;28mself\u001b[39m, \u001b[38;5;241m*\u001b[39margs: Any, \u001b[38;5;241m*\u001b[39m\u001b[38;5;241m*\u001b[39mkwargs: Any) \u001b[38;5;241m-\u001b[39m\u001b[38;5;241m>\u001b[39m Any:\n\u001b[0;32m--> 299\u001b[0m     \u001b[38;5;28;01mreturn\u001b[39;00m \u001b[38;5;28mself\u001b[39m\u001b[38;5;241m.\u001b[39m__function_call(\u001b[38;5;28mself\u001b[39m\u001b[38;5;241m.\u001b[39mpath, \u001b[38;5;241m*\u001b[39margs, \u001b[38;5;241m*\u001b[39m\u001b[38;5;241m*\u001b[39mkwargs)\n",
      "File \u001b[0;32m~/OpenMined/PySyft/packages/syft/src/syft/client/api.py:290\u001b[0m, in \u001b[0;36mRemoteFunction.__function_call\u001b[0;34m(self, path, cache_result, *args, **kwargs)\u001b[0m\n\u001b[1;32m    288\u001b[0m \u001b[38;5;28;01mif\u001b[39;00m \u001b[38;5;129;01mnot\u001b[39;00m allowed:\n\u001b[1;32m    289\u001b[0m     \u001b[38;5;28;01mreturn\u001b[39;00m\n\u001b[0;32m--> 290\u001b[0m result \u001b[38;5;241m=\u001b[39m \u001b[38;5;28mself\u001b[39m\u001b[38;5;241m.\u001b[39mmake_call(api_call\u001b[38;5;241m=\u001b[39mapi_call, cache_result\u001b[38;5;241m=\u001b[39mcache_result)\n\u001b[1;32m    292\u001b[0m result, _ \u001b[38;5;241m=\u001b[39m migrate_args_and_kwargs(\n\u001b[1;32m    293\u001b[0m     [result], kwargs\u001b[38;5;241m=\u001b[39m{}, to_latest_protocol\u001b[38;5;241m=\u001b[39m\u001b[38;5;28;01mTrue\u001b[39;00m\n\u001b[1;32m    294\u001b[0m )\n\u001b[1;32m    295\u001b[0m result \u001b[38;5;241m=\u001b[39m result[\u001b[38;5;241m0\u001b[39m]\n",
      "File \u001b[0;32m~/OpenMined/PySyft/packages/syft/src/syft/client/api.py:856\u001b[0m, in \u001b[0;36mSyftAPI.make_call\u001b[0;34m(self, api_call, cache_result)\u001b[0m\n\u001b[1;32m    854\u001b[0m signed_call \u001b[38;5;241m=\u001b[39m api_call\u001b[38;5;241m.\u001b[39msign(credentials\u001b[38;5;241m=\u001b[39m\u001b[38;5;28mself\u001b[39m\u001b[38;5;241m.\u001b[39msigning_key)\n\u001b[1;32m    855\u001b[0m \u001b[38;5;28;01mif\u001b[39;00m \u001b[38;5;28mself\u001b[39m\u001b[38;5;241m.\u001b[39mconnection \u001b[38;5;129;01mis\u001b[39;00m \u001b[38;5;129;01mnot\u001b[39;00m \u001b[38;5;28;01mNone\u001b[39;00m:\n\u001b[0;32m--> 856\u001b[0m     signed_result \u001b[38;5;241m=\u001b[39m \u001b[38;5;28mself\u001b[39m\u001b[38;5;241m.\u001b[39mconnection\u001b[38;5;241m.\u001b[39mmake_call(signed_call)\n\u001b[1;32m    857\u001b[0m \u001b[38;5;28;01melse\u001b[39;00m:\n\u001b[1;32m    858\u001b[0m     \u001b[38;5;28;01mreturn\u001b[39;00m SyftError(message\u001b[38;5;241m=\u001b[39m\u001b[38;5;124m\"\u001b[39m\u001b[38;5;124mAPI connection is None\u001b[39m\u001b[38;5;124m\"\u001b[39m)\n",
      "File \u001b[0;32m~/OpenMined/PySyft/packages/syft/src/syft/client/client.py:294\u001b[0m, in \u001b[0;36mHTTPConnection.make_call\u001b[0;34m(self, signed_call)\u001b[0m\n\u001b[1;32m    288\u001b[0m response \u001b[38;5;241m=\u001b[39m requests\u001b[38;5;241m.\u001b[39mpost(  \u001b[38;5;66;03m# nosec\u001b[39;00m\n\u001b[1;32m    289\u001b[0m     url\u001b[38;5;241m=\u001b[39m\u001b[38;5;28mstr\u001b[39m(\u001b[38;5;28mself\u001b[39m\u001b[38;5;241m.\u001b[39mapi_url),\n\u001b[1;32m    290\u001b[0m     data\u001b[38;5;241m=\u001b[39mmsg_bytes,\n\u001b[1;32m    291\u001b[0m )\n\u001b[1;32m    293\u001b[0m \u001b[38;5;28;01mif\u001b[39;00m response\u001b[38;5;241m.\u001b[39mstatus_code \u001b[38;5;241m!=\u001b[39m \u001b[38;5;241m200\u001b[39m:\n\u001b[0;32m--> 294\u001b[0m     \u001b[38;5;28;01mraise\u001b[39;00m requests\u001b[38;5;241m.\u001b[39mConnectionError(\n\u001b[1;32m    295\u001b[0m         \u001b[38;5;124mf\u001b[39m\u001b[38;5;124m\"\u001b[39m\u001b[38;5;124mFailed to fetch metadata. Response returned with code \u001b[39m\u001b[38;5;132;01m{\u001b[39;00mresponse\u001b[38;5;241m.\u001b[39mstatus_code\u001b[38;5;132;01m}\u001b[39;00m\u001b[38;5;124m\"\u001b[39m\n\u001b[1;32m    296\u001b[0m     )\n\u001b[1;32m    298\u001b[0m result \u001b[38;5;241m=\u001b[39m _deserialize(response\u001b[38;5;241m.\u001b[39mcontent, from_bytes\u001b[38;5;241m=\u001b[39m\u001b[38;5;28;01mTrue\u001b[39;00m)\n\u001b[1;32m    299\u001b[0m \u001b[38;5;28;01mreturn\u001b[39;00m result\n",
      "\u001b[0;31mConnectionError\u001b[0m: Failed to fetch metadata. Response returned with code 502"
     ]
    }
   ],
   "source": [
    "dataset_high = sy.Dataset(\n",
    "    name=\"my-dataset\",\n",
    "    description=\"abc\",\n",
    "    asset_list=[\n",
    "        sy.Asset(\n",
    "            name=\"numpy-data\",\n",
    "            mock=mock_high,\n",
    "            data=private_high,\n",
    "            shape=private_high.shape,\n",
    "            mock_is_real=True,\n",
    "        )\n",
    "    ],\n",
    ")\n",
    "\n",
    "client.upload_dataset(dataset_high)"
   ]
  },
  {
   "cell_type": "code",
   "execution_count": null,
   "metadata": {},
   "outputs": [
    {
     "data": {
      "text/plain": [
       "'mynode'"
      ]
     },
     "execution_count": 11,
     "metadata": {},
     "output_type": "execute_result"
    }
   ],
   "source": [
    "client.api.node_name"
   ]
  },
  {
   "cell_type": "code",
   "execution_count": null,
   "metadata": {},
   "outputs": [
    {
     "ename": "NameError",
     "evalue": "name 'np' is not defined",
     "output_type": "error",
     "traceback": [
      "\u001b[0;31m---------------------------------------------------------------------------\u001b[0m",
      "\u001b[0;31mNameError\u001b[0m                                 Traceback (most recent call last)",
      "Cell \u001b[0;32mIn[1], line 18\u001b[0m\n\u001b[1;32m     14\u001b[0m connection \u001b[38;5;241m=\u001b[39m seaweed_client\u001b[38;5;241m.\u001b[39mconnect()\n\u001b[1;32m     16\u001b[0m \u001b[38;5;66;03m# from 0.1B to 0.5B of elements, it starts to be slow\u001b[39;00m\n\u001b[1;32m     17\u001b[0m \u001b[38;5;66;03m# serialized data is from 0.8GB to 4GB\u001b[39;00m\n\u001b[0;32m---> 18\u001b[0m mock_high \u001b[38;5;241m=\u001b[39m np\u001b[38;5;241m.\u001b[39mrandom\u001b[38;5;241m.\u001b[39mrandom(\u001b[38;5;241m200_000_000\u001b[39m)\n\u001b[1;32m     19\u001b[0m \u001b[38;5;28mprint\u001b[39m(mock_high\u001b[38;5;241m.\u001b[39mnbytes \u001b[38;5;241m/\u001b[39m (\u001b[38;5;241m10\u001b[39m\u001b[38;5;241m*\u001b[39m\u001b[38;5;241m*\u001b[39m\u001b[38;5;241m9\u001b[39m))\n\u001b[1;32m     20\u001b[0m ao \u001b[38;5;241m=\u001b[39m sy\u001b[38;5;241m.\u001b[39mActionObject\u001b[38;5;241m.\u001b[39mfrom_obj(mock_high)\n",
      "\u001b[0;31mNameError\u001b[0m: name 'np' is not defined"
     ]
    }
   ],
   "source": [
    "import syft as sy\n",
    "from syft.store.blob_storage.seaweedfs import SeaweedFSClientConfig, SeaweedFSClient\n",
    "from syft.types.blob_storage import CreateBlobStorageEntry\n",
    "import np\n",
    "\n",
    "config = SeaweedFSClientConfig(\n",
    "        host=\"localhost\",  # \"http://localhost:8888\"\n",
    "        port=8333,\n",
    "        access_key=\"admin\",\n",
    "        secret_key=\"admin\",\n",
    "        region=\"us-east-1\",\n",
    "        default_bucket_name=\"mynode\",\n",
    "        mount_port=4001,\n",
    "    )\n",
    "seaweed_client = SeaweedFSClient(config=config)\n",
    "connection = seaweed_client.connect()\n",
    "\n",
    "# from 0.1B to 0.5B of elements, it starts to be slow\n",
    "# serialized data is from 0.8GB to 4GB\n",
    "mock_high = np.random.random(200_000_000)\n",
    "print(mock_high.nbytes / (10**9))\n",
    "ao = sy.ActionObject.from_obj(mock_high)\n",
    "data = ao.syft_action_data\n",
    "storage_entry = CreateBlobStorageEntry.from_obj(data)\n",
    "res = connection.allocate(obj=storage_entry)\n",
    "print(res)"
   ]
  }
 ],
 "metadata": {
  "kernelspec": {
   "display_name": "syft_3.11",
   "language": "python",
   "name": "python3"
  },
  "language_info": {
   "codemirror_mode": {
    "name": "ipython",
    "version": 3
   },
   "file_extension": ".py",
   "mimetype": "text/x-python",
   "name": "python",
   "nbconvert_exporter": "python",
   "pygments_lexer": "ipython3",
   "version": "3.11.8"
  }
 },
 "nbformat": 4,
 "nbformat_minor": 2
}
