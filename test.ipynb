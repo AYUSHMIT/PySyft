{
 "cells": [
  {
   "cell_type": "code",
   "execution_count": 1,
   "metadata": {},
   "outputs": [],
   "source": [
    "import syft as sy"
   ]
  },
  {
   "cell_type": "code",
   "execution_count": 2,
   "metadata": {},
   "outputs": [],
   "source": [
    "# client = sy.login(email=\"info@openmined.org\", password=\"changethis\", port=8080)#, url='http://74.248.9.75')"
   ]
  },
  {
   "cell_type": "code",
   "execution_count": 2,
   "metadata": {},
   "outputs": [],
   "source": [
    "# third party\n",
    "import numpy as np\n",
    "from sys import getsizeof\n",
    "private_high = np.random.rand(125_000_000 * 4)"
   ]
  },
  {
   "cell_type": "code",
   "execution_count": 4,
   "metadata": {},
   "outputs": [],
   "source": [
    "# numpy_obj = np.random.rand(125_000_000 * 4)"
   ]
  },
  {
   "cell_type": "code",
   "execution_count": 5,
   "metadata": {},
   "outputs": [],
   "source": [
    "our_bytes = private_high.tobytes()"
   ]
  },
  {
   "cell_type": "code",
   "execution_count": 6,
   "metadata": {},
   "outputs": [],
   "source": [
    "from syft.serde.recursive import recursive_scheme\n",
    "\n",
    "import tempfile\n",
    "def chunk_bytes(\n",
    "    field_obj, ser_func, field_name: str | int, builder\n",
    ") -> None:\n",
    "    data = ser_func(field_obj)\n",
    "    size_of_data = len(data)\n",
    "    with tempfile.TemporaryFile() as tmp_file:\n",
    "        # Write data to a file to save RAM\n",
    "        tmp_file.write(data)\n",
    "        tmp_file.seek(0)\n",
    "        del data\n",
    "        \n",
    "        CHUNK_SIZE = int(5.12e8)  # capnp max for a List(Data) field\n",
    "        list_size = size_of_data // CHUNK_SIZE + 1\n",
    "        data_lst = builder.init(field_name, list_size)\n",
    "        for idx in range(list_size):\n",
    "            bytes_to_read = min(CHUNK_SIZE, size_of_data)\n",
    "            data_lst[idx] = tmp_file.read(bytes_to_read)\n",
    "            size_of_data -= CHUNK_SIZE\n"
   ]
  },
  {
   "cell_type": "code",
   "execution_count": 7,
   "metadata": {},
   "outputs": [],
   "source": [
    "x = private_high.tobytes()"
   ]
  },
  {
   "cell_type": "code",
   "execution_count": 8,
   "metadata": {},
   "outputs": [
    {
     "ename": "KeyboardInterrupt",
     "evalue": "",
     "output_type": "error",
     "traceback": [
      "\u001b[0;31m---------------------------------------------------------------------------\u001b[0m",
      "\u001b[0;31mKeyboardInterrupt\u001b[0m                         Traceback (most recent call last)",
      "Cell \u001b[0;32mIn[8], line 1\u001b[0m\n\u001b[0;32m----> 1\u001b[0m \u001b[38;5;28;01mwith\u001b[39;00m \u001b[38;5;28mopen\u001b[39m(\u001b[38;5;124m\"\u001b[39m\u001b[38;5;124mfile\u001b[39m\u001b[38;5;124m\"\u001b[39m, \u001b[38;5;124m\"\u001b[39m\u001b[38;5;124mwb\u001b[39m\u001b[38;5;124m\"\u001b[39m) \u001b[38;5;28;01mas\u001b[39;00m f:\n\u001b[1;32m      2\u001b[0m     f\u001b[38;5;241m.\u001b[39mwrite(x)\n",
      "\u001b[0;31mKeyboardInterrupt\u001b[0m: "
     ]
    }
   ],
   "source": [
    "with open(\"file\", \"wb\") as f:\n",
    "    f.write(x) "
   ]
  },
  {
   "cell_type": "code",
   "execution_count": null,
   "metadata": {},
   "outputs": [],
   "source": [
    "x = x[100:]"
   ]
  },
  {
   "cell_type": "code",
   "execution_count": null,
   "metadata": {},
   "outputs": [
    {
     "data": {
      "text/plain": [
       "3999999900"
      ]
     },
     "execution_count": 10,
     "metadata": {},
     "output_type": "execute_result"
    }
   ],
   "source": [
    "len(x)"
   ]
  },
  {
   "cell_type": "code",
   "execution_count": null,
   "metadata": {},
   "outputs": [],
   "source": [
    "mv = memoryview(x)"
   ]
  },
  {
   "cell_type": "code",
   "execution_count": null,
   "metadata": {},
   "outputs": [],
   "source": [
    "x = mv[100:]"
   ]
  },
  {
   "cell_type": "code",
   "execution_count": null,
   "metadata": {},
   "outputs": [
    {
     "ename": "",
     "evalue": "",
     "output_type": "error",
     "traceback": [
      "\u001b[1;31mThe Kernel crashed while executing code in the current cell or a previous cell. \n",
      "\u001b[1;31mPlease review the code in the cell(s) to identify a possible cause of the failure. \n",
      "\u001b[1;31mClick <a href='https://aka.ms/vscodeJupyterKernelCrash'>here</a> for more info. \n",
      "\u001b[1;31mView Jupyter <a href='command:jupyter.viewOutput'>log</a> for further details."
     ]
    }
   ],
   "source": [
    "x.tobytes()"
   ]
  },
  {
   "cell_type": "code",
   "execution_count": null,
   "metadata": {},
   "outputs": [
    {
     "data": {
      "text/plain": [
       "<capnp list builder [[], [], [], [], [], [], [], [], [], []]>"
      ]
     },
     "execution_count": 4,
     "metadata": {},
     "output_type": "execute_result"
    }
   ],
   "source": [
    "msg = recursive_scheme.new_message()\n",
    "msg.init(\"fieldsName\", 10)\n",
    "msg.init(\"fieldsData\", 10)"
   ]
  },
  {
   "cell_type": "code",
   "execution_count": null,
   "metadata": {},
   "outputs": [],
   "source": [
    "msg.fieldsName[0] = 'test'\n",
    "chunk_bytes(private_high, lambda x: x.tobytes(), 0, msg.fieldsData)"
   ]
  },
  {
   "cell_type": "code",
   "execution_count": null,
   "metadata": {},
   "outputs": [
    {
     "data": {
      "text/plain": [
       "4000000360"
      ]
     },
     "execution_count": 6,
     "metadata": {},
     "output_type": "execute_result"
    }
   ],
   "source": [
    "len(msg.to_bytes())"
   ]
  },
  {
   "cell_type": "code",
   "execution_count": null,
   "metadata": {},
   "outputs": [
    {
     "data": {
      "text/plain": [
       "4.0"
      ]
     },
     "execution_count": 3,
     "metadata": {},
     "output_type": "execute_result"
    }
   ],
   "source": [
    "private_high.nbytes / (10**9)"
   ]
  },
  {
   "cell_type": "code",
   "execution_count": null,
   "metadata": {},
   "outputs": [],
   "source": [
    "a = private_high.tobytes()"
   ]
  },
  {
   "cell_type": "code",
   "execution_count": 3,
   "metadata": {},
   "outputs": [],
   "source": [
    "# stdlib\n",
    "from typing import cast\n",
    "\n",
    "# third party\n",
    "import numpy as np\n",
    "import pyarrow as pa\n",
    "\n",
    "# relative\n",
    "from syft.util.experimental_flags import ApacheArrowCompression\n",
    "from syft.util.experimental_flags import flags\n",
    "from syft.serde.deserialize import _deserialize\n",
    "from syft.serde.serialize import _serialize\n",
    "\n",
    "def test_arrow_serialize(obj: np.ndarray) -> bytes:\n",
    "    original_dtype = obj.dtype\n",
    "    apache_arrow = pa.Tensor.from_numpy(obj=obj)\n",
    "    sink = pa.BufferOutputStream()\n",
    "    pa.ipc.write_tensor(apache_arrow, sink)\n",
    "    buffer = sink.getvalue()\n",
    "    if flags.APACHE_ARROW_COMPRESSION is ApacheArrowCompression.NONE:\n",
    "        numpy_bytes = buffer.to_pybytes()\n",
    "    else:\n",
    "        numpy_bytes = pa.compress(\n",
    "            buffer, asbytes=True, codec=flags.APACHE_ARROW_COMPRESSION.value\n",
    "        )\n",
    "    dtype = original_dtype.name\n",
    "\n",
    "    # return cast(bytes, _serialize((numpy_bytes, buffer.size, dtype), to_bytes=True))\n",
    "    return (numpy_bytes, buffer.size, dtype)"
   ]
  },
  {
   "cell_type": "code",
   "execution_count": 4,
   "metadata": {},
   "outputs": [],
   "source": [
    "msg = test_arrow_serialize(private_high)"
   ]
  },
  {
   "cell_type": "code",
   "execution_count": 5,
   "metadata": {},
   "outputs": [
    {
     "data": {
      "text/plain": [
       "bytes"
      ]
     },
     "execution_count": 5,
     "metadata": {},
     "output_type": "execute_result"
    }
   ],
   "source": [
    "type(msg[0])"
   ]
  },
  {
   "cell_type": "code",
   "execution_count": 5,
   "metadata": {},
   "outputs": [
    {
     "name": "stdout",
     "output_type": "stream",
     "text": [
      "fqn='builtins.bytes'\n",
      "<function <lambda> at 0x7f3299050fe0> 3754663016\n"
     ]
    }
   ],
   "source": [
    "a = sy.serialize(msg[0])"
   ]
  },
  {
   "cell_type": "code",
   "execution_count": 6,
   "metadata": {},
   "outputs": [
    {
     "name": "stdout",
     "output_type": "stream",
     "text": [
      "fqn='builtins.bytes'\n",
      "<function <lambda> at 0x7f3299050fe0> 3754663016\n"
     ]
    }
   ],
   "source": [
    "b = sy.serialize(msg[0], to_bytes=True)"
   ]
  },
  {
   "cell_type": "code",
   "execution_count": 8,
   "metadata": {},
   "outputs": [
    {
     "name": "stdout",
     "output_type": "stream",
     "text": [
      "fqn='builtins.tuple'\n",
      "<function serialize_iterable at 0x7f32af029300> 64\n",
      "fqn='builtins.bytes'\n",
      "<function <lambda> at 0x7f3299050fe0> 3754663016\n",
      "fqn='builtins.int'\n",
      "<function <lambda> at 0x7f3299051bc0> 32\n",
      "fqn='builtins.str'\n",
      "<function <lambda> at 0x7f32990518a0> 56\n"
     ]
    }
   ],
   "source": [
    "c = sy.serialize(msg, to_bytes=True)"
   ]
  },
  {
   "cell_type": "code",
   "execution_count": 5,
   "metadata": {},
   "outputs": [
    {
     "name": "stdout",
     "output_type": "stream",
     "text": [
      "fqn='builtins.tuple'\n",
      "<function serialize_iterable at 0x7021ab12dc60> 64\n",
      "fqn='builtins.bytes'\n",
      "<function <lambda> at 0x7021950f8fe0> 3754663498\n",
      "fqn='builtins.int'\n",
      "<function <lambda> at 0x7021950f9bc0> 32\n",
      "fqn='builtins.str'\n",
      "<function <lambda> at 0x7021950f98a0> 56\n"
     ]
    }
   ],
   "source": [
    "msg_2 = sy.serialize(msg)"
   ]
  },
  {
   "cell_type": "code",
   "execution_count": 9,
   "metadata": {},
   "outputs": [
    {
     "data": {
      "text/plain": [
       "capnp.lib.capnp._DynamicStructBuilder"
      ]
     },
     "execution_count": 9,
     "metadata": {},
     "output_type": "execute_result"
    }
   ],
   "source": [
    "type(msg_2)"
   ]
  },
  {
   "cell_type": "code",
   "execution_count": 10,
   "metadata": {},
   "outputs": [],
   "source": [
    "def read_bytes(proto):\n",
    "    with tempfile.TemporaryFile() as tmp_file:\n",
    "        # Write data to a file to save RAM\n",
    "        proto.write(tmp_file)\n",
    "        del proto\n",
    "        tmp_file.seek(0)\n",
    "        return tmp_file.read()"
   ]
  },
  {
   "cell_type": "code",
   "execution_count": null,
   "metadata": {},
   "outputs": [],
   "source": [
    "b = read_bytes(msg_2)"
   ]
  },
  {
   "cell_type": "code",
   "execution_count": 6,
   "metadata": {},
   "outputs": [
    {
     "data": {
      "text/plain": [
       "capnp.lib.capnp._DynamicStructBuilder"
      ]
     },
     "execution_count": 6,
     "metadata": {},
     "output_type": "execute_result"
    }
   ],
   "source": [
    "type(msg_2)"
   ]
  },
  {
   "cell_type": "code",
   "execution_count": 7,
   "metadata": {},
   "outputs": [],
   "source": [
    "x = msg_2.to_bytes()"
   ]
  },
  {
   "cell_type": "code",
   "execution_count": 8,
   "metadata": {},
   "outputs": [
    {
     "name": "stderr",
     "output_type": "stream",
     "text": [
      "/tmp/ipykernel_185252/1054012271.py:1: UserWarning: This message has already been written once. Be very careful that you're not setting Text/Struct/List fields more than once, since that will cause memory leaks (both in memory and in the serialized data). You can disable this warning by calling the `clear_write_flag` method of this object after every write.\n",
      "  y = msg_2.to_bytes_packed()\n"
     ]
    }
   ],
   "source": [
    "y = msg_2.to_bytes_packed()"
   ]
  },
  {
   "cell_type": "code",
   "execution_count": 6,
   "metadata": {},
   "outputs": [
    {
     "name": "stdout",
     "output_type": "stream",
     "text": [
      "fqn='builtins.tuple'\n",
      "<function serialize_iterable at 0x7ac25a121d00> 64\n",
      "fqn='builtins.bytes'\n",
      "<function <lambda> at 0x7ac244050fe0> 3754658671\n",
      "fqn='builtins.int'\n",
      "<function <lambda> at 0x7ac244051c60> 32\n",
      "fqn='builtins.str'\n",
      "<function <lambda> at 0x7ac244051940> 56\n"
     ]
    }
   ],
   "source": [
    "from syft.serde.arrow import arrow_serialize\n",
    "msg = arrow_serialize(private_high)"
   ]
  },
  {
   "cell_type": "code",
   "execution_count": 3,
   "metadata": {},
   "outputs": [
    {
     "name": "stdout",
     "output_type": "stream",
     "text": [
      "fqn='numpy.ndarray'\n",
      "<function numpy_serialize at 0x7ac25a1211c0> 4000000112\n",
      "fqn='builtins.tuple'\n",
      "<function serialize_iterable at 0x7ac25a121d00> 64\n",
      "fqn='builtins.bytes'\n",
      "<function <lambda> at 0x7ac244050fe0> 3754658671\n",
      "fqn='builtins.int'\n",
      "<function <lambda> at 0x7ac244051c60> 32\n",
      "fqn='builtins.str'\n",
      "<function <lambda> at 0x7ac244051940> 56\n"
     ]
    }
   ],
   "source": [
    "d = sy.serialize(private_high, to_bytes=True)"
   ]
  },
  {
   "cell_type": "code",
   "execution_count": null,
   "metadata": {},
   "outputs": [
    {
     "ename": "NameError",
     "evalue": "name 'chunk_bytes' is not defined",
     "output_type": "error",
     "traceback": [
      "\u001b[0;31m---------------------------------------------------------------------------\u001b[0m",
      "\u001b[0;31mNameError\u001b[0m                                 Traceback (most recent call last)",
      "Cell \u001b[0;32mIn[4], line 1\u001b[0m\n\u001b[0;32m----> 1\u001b[0m chunk_bytes\n",
      "\u001b[0;31mNameError\u001b[0m: name 'chunk_bytes' is not defined"
     ]
    }
   ],
   "source": [
    "chunk_bytes"
   ]
  },
  {
   "cell_type": "code",
   "execution_count": null,
   "metadata": {},
   "outputs": [],
   "source": [
    "action_object = sy.ActionObject.from_obj(private_high)"
   ]
  },
  {
   "cell_type": "code",
   "execution_count": null,
   "metadata": {},
   "outputs": [],
   "source": []
  },
  {
   "cell_type": "code",
   "execution_count": null,
   "metadata": {},
   "outputs": [
    {
     "name": "stdout",
     "output_type": "stream",
     "text": [
      "fqn='syft.service.action.numpy.NumpyArrayObject'\n",
      "attr_name='id' 40\n",
      "fqn='syft.types.uid.UID'\n",
      "attr_name='value' 56\n",
      "fqn='builtins.bytes'\n",
      "attr_name='syft_action_data_cache' 4000000112\n",
      "fqn='numpy.ndarray'\n",
      "fqn='builtins.tuple'\n",
      "fqn='builtins.bytes'\n",
      "fqn='builtins.int'\n",
      "fqn='builtins.str'\n",
      "attr_name='syft_action_data_node_id' 16\n",
      "fqn='builtins.NoneType'\n",
      "attr_name='syft_action_data_repr_' 140\n",
      "fqn='builtins.str'\n",
      "attr_name='syft_action_data_str_' 120\n",
      "fqn='builtins.str'\n",
      "attr_name='syft_action_data_type' 424\n",
      "fqn='builtins.type'\n",
      "attr_name='syft_blob_storage_entry_id' 16\n",
      "fqn='builtins.NoneType'\n",
      "attr_name='syft_client_verify_key' 16\n",
      "fqn='builtins.NoneType'\n",
      "attr_name='syft_created_at' 16\n",
      "fqn='builtins.NoneType'\n",
      "attr_name='syft_dont_wrap_attrs' 88\n",
      "fqn='builtins.list'\n",
      "fqn='builtins.str'\n",
      "fqn='builtins.str'\n",
      "attr_name='syft_has_bool_attr' 28\n",
      "fqn='builtins.bool'\n",
      "attr_name='syft_history_hash' 32\n",
      "fqn='builtins.int'\n",
      "attr_name='syft_node_location' 16\n",
      "fqn='builtins.NoneType'\n",
      "attr_name='syft_node_uid' 16\n",
      "fqn='builtins.NoneType'\n",
      "attr_name='syft_parent_args' 16\n",
      "fqn='builtins.NoneType'\n",
      "attr_name='syft_parent_hashes' 16\n",
      "fqn='builtins.NoneType'\n",
      "attr_name='syft_parent_kwargs' 16\n",
      "fqn='builtins.NoneType'\n",
      "attr_name='syft_parent_op' 16\n",
      "fqn='builtins.NoneType'\n",
      "attr_name='syft_passthrough_attrs' 376\n",
      "fqn='builtins.list'\n",
      "fqn='builtins.str'\n",
      "fqn='builtins.str'\n",
      "fqn='builtins.str'\n",
      "fqn='builtins.str'\n",
      "fqn='builtins.str'\n",
      "fqn='builtins.str'\n",
      "fqn='builtins.str'\n",
      "fqn='builtins.str'\n",
      "fqn='builtins.str'\n",
      "fqn='builtins.str'\n",
      "fqn='builtins.str'\n",
      "fqn='builtins.str'\n",
      "fqn='builtins.str'\n",
      "fqn='builtins.str'\n",
      "fqn='builtins.str'\n",
      "fqn='builtins.str'\n",
      "fqn='builtins.str'\n",
      "fqn='builtins.str'\n",
      "fqn='builtins.str'\n",
      "fqn='builtins.str'\n",
      "fqn='builtins.str'\n",
      "fqn='builtins.str'\n",
      "fqn='builtins.str'\n",
      "fqn='builtins.str'\n",
      "fqn='builtins.str'\n",
      "fqn='builtins.str'\n",
      "fqn='builtins.str'\n",
      "fqn='builtins.str'\n",
      "fqn='builtins.str'\n",
      "fqn='builtins.str'\n",
      "fqn='builtins.str'\n",
      "fqn='builtins.str'\n",
      "fqn='builtins.str'\n",
      "fqn='builtins.str'\n",
      "fqn='builtins.str'\n",
      "attr_name='syft_resolve_data' 16\n",
      "fqn='builtins.NoneType'\n",
      "attr_name='syft_resolved' 28\n",
      "fqn='builtins.bool'\n",
      "attr_name='syft_twin_type' 56\n",
      "fqn='syft.service.action.action_object.TwinMode'\n",
      "attr_name='value' 28\n",
      "fqn='builtins.int'\n"
     ]
    }
   ],
   "source": [
    "msg = sy.serialize(action_object, to_proto=True)"
   ]
  },
  {
   "cell_type": "code",
   "execution_count": null,
   "metadata": {},
   "outputs": [
    {
     "data": {
      "text/plain": [
       "capnp.lib.capnp._DynamicStructBuilder"
      ]
     },
     "execution_count": 5,
     "metadata": {},
     "output_type": "execute_result"
    }
   ],
   "source": [
    "type(msg)"
   ]
  },
  {
   "cell_type": "markdown",
   "metadata": {},
   "source": [
    "* 4gb objects\n",
    "* 6.5gb system\n",
    "* ~27gb peak serialization  \n",
    "* ~17gb for serialization\n",
    "\n",
    "* system ~ 5gb\n",
    "* object - 5gb\n",
    "* bytes - 5gb"
   ]
  },
  {
   "cell_type": "code",
   "execution_count": null,
   "metadata": {},
   "outputs": [
    {
     "name": "stderr",
     "output_type": "stream",
     "text": [
      "Uploading progress: 100%|██████████| 1232/1232 [00:08<00:00, 152.17it/s]\n"
     ]
    },
    {
     "data": {
      "text/markdown": [
       "```python\n",
       "Pointer\n",
       "```\n",
       "array([0.76927523, 0.53988129, 0.80223722, ..., 0.05256553, 0.13019749,\n",
       "       0.89295591])"
      ],
      "text/plain": [
       "Pointer:\n",
       "array([0.76927523, 0.53988129, 0.80223722, ..., 0.05256553, 0.13019749,\n",
       "       0.89295591])"
      ]
     },
     "execution_count": 8,
     "metadata": {},
     "output_type": "execute_result"
    }
   ],
   "source": [
    "action_object.send(client)"
   ]
  },
  {
   "cell_type": "code",
   "execution_count": null,
   "metadata": {},
   "outputs": [
    {
     "ename": "ConnectionError",
     "evalue": "Failed to fetch metadata. Response returned with code 502",
     "output_type": "error",
     "traceback": [
      "\u001b[0;31m---------------------------------------------------------------------------\u001b[0m",
      "\u001b[0;31mConnectionError\u001b[0m                           Traceback (most recent call last)",
      "Cell \u001b[0;32mIn[9], line 1\u001b[0m\n\u001b[0;32m----> 1\u001b[0m client\u001b[38;5;241m.\u001b[39mapi\u001b[38;5;241m.\u001b[39mservices\u001b[38;5;241m.\u001b[39maction\u001b[38;5;241m.\u001b[39mget(action_object\u001b[38;5;241m.\u001b[39mid)\n",
      "File \u001b[0;32m~/OpenMined/PySyft/packages/syft/src/syft/client/api.py:299\u001b[0m, in \u001b[0;36mRemoteFunction.__call__\u001b[0;34m(self, *args, **kwargs)\u001b[0m\n\u001b[1;32m    298\u001b[0m \u001b[38;5;28;01mdef\u001b[39;00m \u001b[38;5;21m__call__\u001b[39m(\u001b[38;5;28mself\u001b[39m, \u001b[38;5;241m*\u001b[39margs: Any, \u001b[38;5;241m*\u001b[39m\u001b[38;5;241m*\u001b[39mkwargs: Any) \u001b[38;5;241m-\u001b[39m\u001b[38;5;241m>\u001b[39m Any:\n\u001b[0;32m--> 299\u001b[0m     \u001b[38;5;28;01mreturn\u001b[39;00m \u001b[38;5;28mself\u001b[39m\u001b[38;5;241m.\u001b[39m__function_call(\u001b[38;5;28mself\u001b[39m\u001b[38;5;241m.\u001b[39mpath, \u001b[38;5;241m*\u001b[39margs, \u001b[38;5;241m*\u001b[39m\u001b[38;5;241m*\u001b[39mkwargs)\n",
      "File \u001b[0;32m~/OpenMined/PySyft/packages/syft/src/syft/client/api.py:290\u001b[0m, in \u001b[0;36mRemoteFunction.__function_call\u001b[0;34m(self, path, cache_result, *args, **kwargs)\u001b[0m\n\u001b[1;32m    288\u001b[0m \u001b[38;5;28;01mif\u001b[39;00m \u001b[38;5;129;01mnot\u001b[39;00m allowed:\n\u001b[1;32m    289\u001b[0m     \u001b[38;5;28;01mreturn\u001b[39;00m\n\u001b[0;32m--> 290\u001b[0m result \u001b[38;5;241m=\u001b[39m \u001b[38;5;28mself\u001b[39m\u001b[38;5;241m.\u001b[39mmake_call(api_call\u001b[38;5;241m=\u001b[39mapi_call, cache_result\u001b[38;5;241m=\u001b[39mcache_result)\n\u001b[1;32m    292\u001b[0m result, _ \u001b[38;5;241m=\u001b[39m migrate_args_and_kwargs(\n\u001b[1;32m    293\u001b[0m     [result], kwargs\u001b[38;5;241m=\u001b[39m{}, to_latest_protocol\u001b[38;5;241m=\u001b[39m\u001b[38;5;28;01mTrue\u001b[39;00m\n\u001b[1;32m    294\u001b[0m )\n\u001b[1;32m    295\u001b[0m result \u001b[38;5;241m=\u001b[39m result[\u001b[38;5;241m0\u001b[39m]\n",
      "File \u001b[0;32m~/OpenMined/PySyft/packages/syft/src/syft/client/api.py:856\u001b[0m, in \u001b[0;36mSyftAPI.make_call\u001b[0;34m(self, api_call, cache_result)\u001b[0m\n\u001b[1;32m    854\u001b[0m signed_call \u001b[38;5;241m=\u001b[39m api_call\u001b[38;5;241m.\u001b[39msign(credentials\u001b[38;5;241m=\u001b[39m\u001b[38;5;28mself\u001b[39m\u001b[38;5;241m.\u001b[39msigning_key)\n\u001b[1;32m    855\u001b[0m \u001b[38;5;28;01mif\u001b[39;00m \u001b[38;5;28mself\u001b[39m\u001b[38;5;241m.\u001b[39mconnection \u001b[38;5;129;01mis\u001b[39;00m \u001b[38;5;129;01mnot\u001b[39;00m \u001b[38;5;28;01mNone\u001b[39;00m:\n\u001b[0;32m--> 856\u001b[0m     signed_result \u001b[38;5;241m=\u001b[39m \u001b[38;5;28mself\u001b[39m\u001b[38;5;241m.\u001b[39mconnection\u001b[38;5;241m.\u001b[39mmake_call(signed_call)\n\u001b[1;32m    857\u001b[0m \u001b[38;5;28;01melse\u001b[39;00m:\n\u001b[1;32m    858\u001b[0m     \u001b[38;5;28;01mreturn\u001b[39;00m SyftError(message\u001b[38;5;241m=\u001b[39m\u001b[38;5;124m\"\u001b[39m\u001b[38;5;124mAPI connection is None\u001b[39m\u001b[38;5;124m\"\u001b[39m)\n",
      "File \u001b[0;32m~/OpenMined/PySyft/packages/syft/src/syft/client/client.py:294\u001b[0m, in \u001b[0;36mHTTPConnection.make_call\u001b[0;34m(self, signed_call)\u001b[0m\n\u001b[1;32m    288\u001b[0m response \u001b[38;5;241m=\u001b[39m requests\u001b[38;5;241m.\u001b[39mpost(  \u001b[38;5;66;03m# nosec\u001b[39;00m\n\u001b[1;32m    289\u001b[0m     url\u001b[38;5;241m=\u001b[39m\u001b[38;5;28mstr\u001b[39m(\u001b[38;5;28mself\u001b[39m\u001b[38;5;241m.\u001b[39mapi_url),\n\u001b[1;32m    290\u001b[0m     data\u001b[38;5;241m=\u001b[39mmsg_bytes,\n\u001b[1;32m    291\u001b[0m )\n\u001b[1;32m    293\u001b[0m \u001b[38;5;28;01mif\u001b[39;00m response\u001b[38;5;241m.\u001b[39mstatus_code \u001b[38;5;241m!=\u001b[39m \u001b[38;5;241m200\u001b[39m:\n\u001b[0;32m--> 294\u001b[0m     \u001b[38;5;28;01mraise\u001b[39;00m requests\u001b[38;5;241m.\u001b[39mConnectionError(\n\u001b[1;32m    295\u001b[0m         \u001b[38;5;124mf\u001b[39m\u001b[38;5;124m\"\u001b[39m\u001b[38;5;124mFailed to fetch metadata. Response returned with code \u001b[39m\u001b[38;5;132;01m{\u001b[39;00mresponse\u001b[38;5;241m.\u001b[39mstatus_code\u001b[38;5;132;01m}\u001b[39;00m\u001b[38;5;124m\"\u001b[39m\n\u001b[1;32m    296\u001b[0m     )\n\u001b[1;32m    298\u001b[0m result \u001b[38;5;241m=\u001b[39m _deserialize(response\u001b[38;5;241m.\u001b[39mcontent, from_bytes\u001b[38;5;241m=\u001b[39m\u001b[38;5;28;01mTrue\u001b[39;00m)\n\u001b[1;32m    299\u001b[0m \u001b[38;5;28;01mreturn\u001b[39;00m result\n",
      "\u001b[0;31mConnectionError\u001b[0m: Failed to fetch metadata. Response returned with code 502"
     ]
    }
   ],
   "source": [
    "client.api.services.action.get(action_object.id)"
   ]
  },
  {
   "cell_type": "code",
   "execution_count": null,
   "metadata": {},
   "outputs": [
    {
     "ename": "AssertionError",
     "evalue": "",
     "output_type": "error",
     "traceback": [
      "\u001b[0;31m---------------------------------------------------------------------------\u001b[0m",
      "\u001b[0;31mAssertionError\u001b[0m                            Traceback (most recent call last)",
      "Cell \u001b[0;32mIn[7], line 1\u001b[0m\n\u001b[0;32m----> 1\u001b[0m \u001b[38;5;28;01massert\u001b[39;00m \u001b[38;5;28;01mFalse\u001b[39;00m\n",
      "\u001b[0;31mAssertionError\u001b[0m: "
     ]
    }
   ],
   "source": [
    "assert False"
   ]
  },
  {
   "cell_type": "code",
   "execution_count": null,
   "metadata": {},
   "outputs": [
    {
     "name": "stderr",
     "output_type": "stream",
     "text": [
      "  0%|          | 0/1 [00:00<?, ?it/s]"
     ]
    },
    {
     "name": "stdout",
     "output_type": "stream",
     "text": [
      "Uploading: numpy-data\n"
     ]
    },
    {
     "name": "stderr",
     "output_type": "stream",
     "text": [
      "Uploading progress: 100%|██████████| 1146/1146 [00:04<00:00, 253.37it/s]\n",
      "100%|██████████| 1/1 [00:33<00:00, 33.17s/it]\n"
     ]
    },
    {
     "name": "stdout",
     "output_type": "stream",
     "text": [
      "**WARNING**: The total size for asset: 'numpy-data' exceeds '512 MB'. This might result in failure to upload dataset. Please contact #support on OpenMined slack for further assistance.\n"
     ]
    },
    {
     "ename": "ConnectionError",
     "evalue": "Failed to fetch metadata. Response returned with code 502",
     "output_type": "error",
     "traceback": [
      "\u001b[0;31m---------------------------------------------------------------------------\u001b[0m",
      "\u001b[0;31mConnectionError\u001b[0m                           Traceback (most recent call last)",
      "Cell \u001b[0;32mIn[7], line 15\u001b[0m\n\u001b[1;32m      1\u001b[0m dataset_high \u001b[38;5;241m=\u001b[39m sy\u001b[38;5;241m.\u001b[39mDataset(\n\u001b[1;32m      2\u001b[0m     name\u001b[38;5;241m=\u001b[39m\u001b[38;5;124m\"\u001b[39m\u001b[38;5;124mmy-dataset\u001b[39m\u001b[38;5;124m\"\u001b[39m,\n\u001b[1;32m      3\u001b[0m     description\u001b[38;5;241m=\u001b[39m\u001b[38;5;124m\"\u001b[39m\u001b[38;5;124mabc\u001b[39m\u001b[38;5;124m\"\u001b[39m,\n\u001b[0;32m   (...)\u001b[0m\n\u001b[1;32m     12\u001b[0m     ],\n\u001b[1;32m     13\u001b[0m )\n\u001b[0;32m---> 15\u001b[0m client\u001b[38;5;241m.\u001b[39mupload_dataset(dataset_high)\n",
      "File \u001b[0;32m~/OpenMined/PySyft/packages/syft/src/syft/client/domain_client.py:148\u001b[0m, in \u001b[0;36mDomainClient.upload_dataset\u001b[0;34m(self, dataset)\u001b[0m\n\u001b[1;32m    146\u001b[0m \u001b[38;5;28;01mif\u001b[39;00m \u001b[38;5;28misinstance\u001b[39m(valid, SyftError):\n\u001b[1;32m    147\u001b[0m     \u001b[38;5;28;01mreturn\u001b[39;00m valid\n\u001b[0;32m--> 148\u001b[0m \u001b[38;5;28;01mreturn\u001b[39;00m \u001b[38;5;28mself\u001b[39m\u001b[38;5;241m.\u001b[39mapi\u001b[38;5;241m.\u001b[39mservices\u001b[38;5;241m.\u001b[39mdataset\u001b[38;5;241m.\u001b[39madd(dataset\u001b[38;5;241m=\u001b[39mdataset)\n",
      "File \u001b[0;32m~/OpenMined/PySyft/packages/syft/src/syft/client/api.py:299\u001b[0m, in \u001b[0;36mRemoteFunction.__call__\u001b[0;34m(self, *args, **kwargs)\u001b[0m\n\u001b[1;32m    298\u001b[0m \u001b[38;5;28;01mdef\u001b[39;00m \u001b[38;5;21m__call__\u001b[39m(\u001b[38;5;28mself\u001b[39m, \u001b[38;5;241m*\u001b[39margs: Any, \u001b[38;5;241m*\u001b[39m\u001b[38;5;241m*\u001b[39mkwargs: Any) \u001b[38;5;241m-\u001b[39m\u001b[38;5;241m>\u001b[39m Any:\n\u001b[0;32m--> 299\u001b[0m     \u001b[38;5;28;01mreturn\u001b[39;00m \u001b[38;5;28mself\u001b[39m\u001b[38;5;241m.\u001b[39m__function_call(\u001b[38;5;28mself\u001b[39m\u001b[38;5;241m.\u001b[39mpath, \u001b[38;5;241m*\u001b[39margs, \u001b[38;5;241m*\u001b[39m\u001b[38;5;241m*\u001b[39mkwargs)\n",
      "File \u001b[0;32m~/OpenMined/PySyft/packages/syft/src/syft/client/api.py:290\u001b[0m, in \u001b[0;36mRemoteFunction.__function_call\u001b[0;34m(self, path, cache_result, *args, **kwargs)\u001b[0m\n\u001b[1;32m    288\u001b[0m \u001b[38;5;28;01mif\u001b[39;00m \u001b[38;5;129;01mnot\u001b[39;00m allowed:\n\u001b[1;32m    289\u001b[0m     \u001b[38;5;28;01mreturn\u001b[39;00m\n\u001b[0;32m--> 290\u001b[0m result \u001b[38;5;241m=\u001b[39m \u001b[38;5;28mself\u001b[39m\u001b[38;5;241m.\u001b[39mmake_call(api_call\u001b[38;5;241m=\u001b[39mapi_call, cache_result\u001b[38;5;241m=\u001b[39mcache_result)\n\u001b[1;32m    292\u001b[0m result, _ \u001b[38;5;241m=\u001b[39m migrate_args_and_kwargs(\n\u001b[1;32m    293\u001b[0m     [result], kwargs\u001b[38;5;241m=\u001b[39m{}, to_latest_protocol\u001b[38;5;241m=\u001b[39m\u001b[38;5;28;01mTrue\u001b[39;00m\n\u001b[1;32m    294\u001b[0m )\n\u001b[1;32m    295\u001b[0m result \u001b[38;5;241m=\u001b[39m result[\u001b[38;5;241m0\u001b[39m]\n",
      "File \u001b[0;32m~/OpenMined/PySyft/packages/syft/src/syft/client/api.py:856\u001b[0m, in \u001b[0;36mSyftAPI.make_call\u001b[0;34m(self, api_call, cache_result)\u001b[0m\n\u001b[1;32m    854\u001b[0m signed_call \u001b[38;5;241m=\u001b[39m api_call\u001b[38;5;241m.\u001b[39msign(credentials\u001b[38;5;241m=\u001b[39m\u001b[38;5;28mself\u001b[39m\u001b[38;5;241m.\u001b[39msigning_key)\n\u001b[1;32m    855\u001b[0m \u001b[38;5;28;01mif\u001b[39;00m \u001b[38;5;28mself\u001b[39m\u001b[38;5;241m.\u001b[39mconnection \u001b[38;5;129;01mis\u001b[39;00m \u001b[38;5;129;01mnot\u001b[39;00m \u001b[38;5;28;01mNone\u001b[39;00m:\n\u001b[0;32m--> 856\u001b[0m     signed_result \u001b[38;5;241m=\u001b[39m \u001b[38;5;28mself\u001b[39m\u001b[38;5;241m.\u001b[39mconnection\u001b[38;5;241m.\u001b[39mmake_call(signed_call)\n\u001b[1;32m    857\u001b[0m \u001b[38;5;28;01melse\u001b[39;00m:\n\u001b[1;32m    858\u001b[0m     \u001b[38;5;28;01mreturn\u001b[39;00m SyftError(message\u001b[38;5;241m=\u001b[39m\u001b[38;5;124m\"\u001b[39m\u001b[38;5;124mAPI connection is None\u001b[39m\u001b[38;5;124m\"\u001b[39m)\n",
      "File \u001b[0;32m~/OpenMined/PySyft/packages/syft/src/syft/client/client.py:294\u001b[0m, in \u001b[0;36mHTTPConnection.make_call\u001b[0;34m(self, signed_call)\u001b[0m\n\u001b[1;32m    288\u001b[0m response \u001b[38;5;241m=\u001b[39m requests\u001b[38;5;241m.\u001b[39mpost(  \u001b[38;5;66;03m# nosec\u001b[39;00m\n\u001b[1;32m    289\u001b[0m     url\u001b[38;5;241m=\u001b[39m\u001b[38;5;28mstr\u001b[39m(\u001b[38;5;28mself\u001b[39m\u001b[38;5;241m.\u001b[39mapi_url),\n\u001b[1;32m    290\u001b[0m     data\u001b[38;5;241m=\u001b[39mmsg_bytes,\n\u001b[1;32m    291\u001b[0m )\n\u001b[1;32m    293\u001b[0m \u001b[38;5;28;01mif\u001b[39;00m response\u001b[38;5;241m.\u001b[39mstatus_code \u001b[38;5;241m!=\u001b[39m \u001b[38;5;241m200\u001b[39m:\n\u001b[0;32m--> 294\u001b[0m     \u001b[38;5;28;01mraise\u001b[39;00m requests\u001b[38;5;241m.\u001b[39mConnectionError(\n\u001b[1;32m    295\u001b[0m         \u001b[38;5;124mf\u001b[39m\u001b[38;5;124m\"\u001b[39m\u001b[38;5;124mFailed to fetch metadata. Response returned with code \u001b[39m\u001b[38;5;132;01m{\u001b[39;00mresponse\u001b[38;5;241m.\u001b[39mstatus_code\u001b[38;5;132;01m}\u001b[39;00m\u001b[38;5;124m\"\u001b[39m\n\u001b[1;32m    296\u001b[0m     )\n\u001b[1;32m    298\u001b[0m result \u001b[38;5;241m=\u001b[39m _deserialize(response\u001b[38;5;241m.\u001b[39mcontent, from_bytes\u001b[38;5;241m=\u001b[39m\u001b[38;5;28;01mTrue\u001b[39;00m)\n\u001b[1;32m    299\u001b[0m \u001b[38;5;28;01mreturn\u001b[39;00m result\n",
      "\u001b[0;31mConnectionError\u001b[0m: Failed to fetch metadata. Response returned with code 502"
     ]
    }
   ],
   "source": [
    "dataset_high = sy.Dataset(\n",
    "    name=\"my-dataset\",\n",
    "    description=\"abc\",\n",
    "    asset_list=[\n",
    "        sy.Asset(\n",
    "            name=\"numpy-data\",\n",
    "            mock=mock_high,\n",
    "            data=private_high,\n",
    "            shape=private_high.shape,\n",
    "            mock_is_real=True,\n",
    "        )\n",
    "    ],\n",
    ")\n",
    "\n",
    "client.upload_dataset(dataset_high)"
   ]
  },
  {
   "cell_type": "code",
   "execution_count": null,
   "metadata": {},
   "outputs": [
    {
     "data": {
      "text/plain": [
       "'mynode'"
      ]
     },
     "execution_count": 11,
     "metadata": {},
     "output_type": "execute_result"
    }
   ],
   "source": [
    "client.api.node_name"
   ]
  },
  {
   "cell_type": "code",
   "execution_count": null,
   "metadata": {},
   "outputs": [
    {
     "ename": "NameError",
     "evalue": "name 'np' is not defined",
     "output_type": "error",
     "traceback": [
      "\u001b[0;31m---------------------------------------------------------------------------\u001b[0m",
      "\u001b[0;31mNameError\u001b[0m                                 Traceback (most recent call last)",
      "Cell \u001b[0;32mIn[1], line 18\u001b[0m\n\u001b[1;32m     14\u001b[0m connection \u001b[38;5;241m=\u001b[39m seaweed_client\u001b[38;5;241m.\u001b[39mconnect()\n\u001b[1;32m     16\u001b[0m \u001b[38;5;66;03m# from 0.1B to 0.5B of elements, it starts to be slow\u001b[39;00m\n\u001b[1;32m     17\u001b[0m \u001b[38;5;66;03m# serialized data is from 0.8GB to 4GB\u001b[39;00m\n\u001b[0;32m---> 18\u001b[0m mock_high \u001b[38;5;241m=\u001b[39m np\u001b[38;5;241m.\u001b[39mrandom\u001b[38;5;241m.\u001b[39mrandom(\u001b[38;5;241m200_000_000\u001b[39m)\n\u001b[1;32m     19\u001b[0m \u001b[38;5;28mprint\u001b[39m(mock_high\u001b[38;5;241m.\u001b[39mnbytes \u001b[38;5;241m/\u001b[39m (\u001b[38;5;241m10\u001b[39m\u001b[38;5;241m*\u001b[39m\u001b[38;5;241m*\u001b[39m\u001b[38;5;241m9\u001b[39m))\n\u001b[1;32m     20\u001b[0m ao \u001b[38;5;241m=\u001b[39m sy\u001b[38;5;241m.\u001b[39mActionObject\u001b[38;5;241m.\u001b[39mfrom_obj(mock_high)\n",
      "\u001b[0;31mNameError\u001b[0m: name 'np' is not defined"
     ]
    }
   ],
   "source": [
    "import syft as sy\n",
    "from syft.store.blob_storage.seaweedfs import SeaweedFSClientConfig, SeaweedFSClient\n",
    "from syft.types.blob_storage import CreateBlobStorageEntry\n",
    "import np\n",
    "\n",
    "config = SeaweedFSClientConfig(\n",
    "        host=\"localhost\",  # \"http://localhost:8888\"\n",
    "        port=8333,\n",
    "        access_key=\"admin\",\n",
    "        secret_key=\"admin\",\n",
    "        region=\"us-east-1\",\n",
    "        default_bucket_name=\"mynode\",\n",
    "        mount_port=4001,\n",
    "    )\n",
    "seaweed_client = SeaweedFSClient(config=config)\n",
    "connection = seaweed_client.connect()\n",
    "\n",
    "# from 0.1B to 0.5B of elements, it starts to be slow\n",
    "# serialized data is from 0.8GB to 4GB\n",
    "mock_high = np.random.random(200_000_000)\n",
    "print(mock_high.nbytes / (10**9))\n",
    "ao = sy.ActionObject.from_obj(mock_high)\n",
    "data = ao.syft_action_data\n",
    "storage_entry = CreateBlobStorageEntry.from_obj(data)\n",
    "res = connection.allocate(obj=storage_entry)\n",
    "print(res)"
   ]
  }
 ],
 "metadata": {
  "kernelspec": {
   "display_name": "syft_3.11",
   "language": "python",
   "name": "python3"
  },
  "language_info": {
   "codemirror_mode": {
    "name": "ipython",
    "version": 3
   },
   "file_extension": ".py",
   "mimetype": "text/x-python",
   "name": "python",
   "nbconvert_exporter": "python",
   "pygments_lexer": "ipython3",
   "version": "3.11.8"
  }
 },
 "nbformat": 4,
 "nbformat_minor": 2
}
