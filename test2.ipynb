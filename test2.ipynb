{
 "cells": [
  {
   "cell_type": "code",
   "execution_count": 15,
   "metadata": {},
   "outputs": [],
   "source": [
    "import syft as sy\n",
    "# third party\n",
    "import numpy as np\n",
    "from sys import getsizeof\n",
    "private_high = np.random.rand(100_000_000 * 4)"
   ]
  },
  {
   "cell_type": "code",
   "execution_count": null,
   "metadata": {},
   "outputs": [],
   "source": [
    "our_bytes = private_high.tobytes()"
   ]
  },
  {
   "cell_type": "code",
   "execution_count": null,
   "metadata": {},
   "outputs": [
    {
     "data": {
      "text/plain": [
       "3.36"
      ]
     },
     "execution_count": 9,
     "metadata": {},
     "output_type": "execute_result"
    }
   ],
   "source": [
    "private_high.nbytes / (10**9)"
   ]
  },
  {
   "cell_type": "code",
   "execution_count": null,
   "metadata": {},
   "outputs": [],
   "source": [
    "a = private_high.tobytes()"
   ]
  },
  {
   "cell_type": "markdown",
   "metadata": {},
   "source": []
  },
  {
   "cell_type": "code",
   "execution_count": null,
   "metadata": {},
   "outputs": [],
   "source": [
    "d = sy.serialize(private_high, to_bytes=True)"
   ]
  },
  {
   "cell_type": "code",
   "execution_count": null,
   "metadata": {},
   "outputs": [],
   "source": [
    "action_object = sy.ActionObject.from_obj(private_high)"
   ]
  },
  {
   "cell_type": "code",
   "execution_count": null,
   "metadata": {},
   "outputs": [],
   "source": []
  },
  {
   "cell_type": "code",
   "execution_count": null,
   "metadata": {},
   "outputs": [],
   "source": [
    "msg = sy.serialize(action_object, to_proto=True)"
   ]
  },
  {
   "cell_type": "markdown",
   "metadata": {},
   "source": [
    "* 4gb objects\n",
    "* 6.5gb system\n",
    "* ~27gb peak serialization  \n",
    "* ~17gb for serialization\n",
    "\n",
    "* system ~ 5gb\n",
    "* object - 5gb\n",
    "* bytes - 5gb"
   ]
  },
  {
   "cell_type": "code",
   "execution_count": null,
   "metadata": {},
   "outputs": [
    {
     "ename": "ModuleNotFoundError",
     "evalue": "No module named 'np'",
     "output_type": "error",
     "traceback": [
      "\u001b[0;31m---------------------------------------------------------------------------\u001b[0m",
      "\u001b[0;31mModuleNotFoundError\u001b[0m                       Traceback (most recent call last)",
      "\u001b[1;32m/Users/aziz-om/Workspace/PySyft/test2.ipynb Cell 10\u001b[0m line \u001b[0;36m4\n\u001b[1;32m      <a href='vscode-notebook-cell:/Users/aziz-om/Workspace/PySyft/test2.ipynb#X13sZmlsZQ%3D%3D?line=1'>2</a>\u001b[0m \u001b[39mfrom\u001b[39;00m \u001b[39msyft\u001b[39;00m\u001b[39m.\u001b[39;00m\u001b[39mstore\u001b[39;00m\u001b[39m.\u001b[39;00m\u001b[39mblob_storage\u001b[39;00m\u001b[39m.\u001b[39;00m\u001b[39mseaweedfs\u001b[39;00m \u001b[39mimport\u001b[39;00m SeaweedFSClientConfig, SeaweedFSClient\n\u001b[1;32m      <a href='vscode-notebook-cell:/Users/aziz-om/Workspace/PySyft/test2.ipynb#X13sZmlsZQ%3D%3D?line=2'>3</a>\u001b[0m \u001b[39mfrom\u001b[39;00m \u001b[39msyft\u001b[39;00m\u001b[39m.\u001b[39;00m\u001b[39mtypes\u001b[39;00m\u001b[39m.\u001b[39;00m\u001b[39mblob_storage\u001b[39;00m \u001b[39mimport\u001b[39;00m CreateBlobStorageEntry\n\u001b[0;32m----> <a href='vscode-notebook-cell:/Users/aziz-om/Workspace/PySyft/test2.ipynb#X13sZmlsZQ%3D%3D?line=3'>4</a>\u001b[0m \u001b[39mimport\u001b[39;00m \u001b[39mnp\u001b[39;00m\n\u001b[1;32m      <a href='vscode-notebook-cell:/Users/aziz-om/Workspace/PySyft/test2.ipynb#X13sZmlsZQ%3D%3D?line=5'>6</a>\u001b[0m config \u001b[39m=\u001b[39m SeaweedFSClientConfig(\n\u001b[1;32m      <a href='vscode-notebook-cell:/Users/aziz-om/Workspace/PySyft/test2.ipynb#X13sZmlsZQ%3D%3D?line=6'>7</a>\u001b[0m         host\u001b[39m=\u001b[39m\u001b[39m\"\u001b[39m\u001b[39mlocalhost\u001b[39m\u001b[39m\"\u001b[39m,  \u001b[39m# \"http://localhost:8888\"\u001b[39;00m\n\u001b[1;32m      <a href='vscode-notebook-cell:/Users/aziz-om/Workspace/PySyft/test2.ipynb#X13sZmlsZQ%3D%3D?line=7'>8</a>\u001b[0m         port\u001b[39m=\u001b[39m\u001b[39m8333\u001b[39m,\n\u001b[0;32m   (...)\u001b[0m\n\u001b[1;32m     <a href='vscode-notebook-cell:/Users/aziz-om/Workspace/PySyft/test2.ipynb#X13sZmlsZQ%3D%3D?line=12'>13</a>\u001b[0m         mount_port\u001b[39m=\u001b[39m\u001b[39m4001\u001b[39m,\n\u001b[1;32m     <a href='vscode-notebook-cell:/Users/aziz-om/Workspace/PySyft/test2.ipynb#X13sZmlsZQ%3D%3D?line=13'>14</a>\u001b[0m     )\n\u001b[1;32m     <a href='vscode-notebook-cell:/Users/aziz-om/Workspace/PySyft/test2.ipynb#X13sZmlsZQ%3D%3D?line=14'>15</a>\u001b[0m seaweed_client \u001b[39m=\u001b[39m SeaweedFSClient(config\u001b[39m=\u001b[39mconfig)\n",
      "\u001b[0;31mModuleNotFoundError\u001b[0m: No module named 'np'"
     ]
    }
   ],
   "source": [
    "import syft as sy\n",
    "from syft.store.blob_storage.seaweedfs import SeaweedFSClientConfig, SeaweedFSClient\n",
    "from syft.types.blob_storage import CreateBlobStorageEntry\n",
    "import np\n",
    "\n",
    "config = SeaweedFSClientConfig(\n",
    "        host=\"localhost\",  # \"http://localhost:8888\"\n",
    "        port=8333,\n",
    "        access_key=\"admin\",\n",
    "        secret_key=\"admin\",\n",
    "        region=\"us-east-1\",\n",
    "        default_bucket_name=\"mynode\",\n",
    "        mount_port=4001,\n",
    "    )\n",
    "seaweed_client = SeaweedFSClient(config=config)\n",
    "connection = seaweed_client.connect()\n",
    "\n",
    "# from 0.1B to 0.5B of elements, it starts to be slow\n",
    "# serialized data is from 0.8GB to 4GB\n",
    "mock_high = np.random.random(200_000_000)\n",
    "print(mock_high.nbytes / (10**9))\n",
    "ao = sy.ActionObject.from_obj(mock_high)\n",
    "data = ao.syft_action_data\n",
    "storage_entry = CreateBlobStorageEntry.from_obj(data)\n",
    "res = connection.allocate(obj=storage_entry)\n",
    "print(res)"
   ]
  }
 ],
 "metadata": {
  "kernelspec": {
   "display_name": "syft_3.11",
   "language": "python",
   "name": "python3"
  },
  "language_info": {
   "codemirror_mode": {
    "name": "ipython",
    "version": 3
   },
   "file_extension": ".py",
   "mimetype": "text/x-python",
   "name": "python",
   "nbconvert_exporter": "python",
   "pygments_lexer": "ipython3",
   "version": "3.12.2"
  }
 },
 "nbformat": 4,
 "nbformat_minor": 2
}
