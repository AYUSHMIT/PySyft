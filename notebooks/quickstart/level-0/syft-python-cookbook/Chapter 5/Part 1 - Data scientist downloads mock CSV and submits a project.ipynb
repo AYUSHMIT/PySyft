{
 "cells": [
  {
   "cell_type": "code",
   "execution_count": 1,
   "id": "e0f665a0",
   "metadata": {
    "scrolled": true
   },
   "outputs": [
    {
     "name": "stderr",
     "output_type": "stream",
     "text": [
      "kj/filesystem-disk-unix.c++:1703: warning: PWD environment variable doesn't match current directory; pwd = /Users/koen/workspace/PySyft\n"
     ]
    },
    {
     "name": "stdout",
     "output_type": "stream",
     "text": [
      "SQLite Store Path:\n",
      "!open file:///var/folders/q1/ryq93kwj055dlbpngxv1c7z40000gn/T/7bca415d13ed1ec841f0d0aede098dbb.sqlite\n",
      "\n",
      "> Starting Worker: test-domain-1 - 7bca415d13ed1ec841f0d0aede098dbb - NodeType.DOMAIN - [<class 'syft.core.node.new.user_service.UserService'>, <class 'syft.core.node.new.metadata_service.MetadataService'>, <class 'syft.core.node.new.action_service.ActionService'>, <class 'syft.core.node.new.test_service.TestService'>, <class 'syft.core.node.new.dataset_service.DatasetService'>, <class 'syft.core.node.new.user_code_service.UserCodeService'>, <class 'syft.core.node.new.request_service.RequestService'>, <class 'syft.core.node.new.data_subject_service.DataSubjectService'>, <class 'syft.core.node.new.network_service.NetworkService'>, <class 'syft.core.node.new.policy_service.PolicyService'>, <class 'syft.core.node.new.message_service.MessageService'>, <class 'syft.core.node.new.project_service.ProjectService'>, <class 'syft.core.node.new.data_subject_member_service.DataSubjectMemberService'>]\n"
     ]
    }
   ],
   "source": [
    "from syft import Worker\n",
    "import syft as sy\n",
    "import numpy as np\n",
    "import pandas as pd\n",
    "worker = Worker.named(\"test-domain-1\", processes=1, reset=False)\n",
    "root_domain_client = worker.root_client"
   ]
  },
  {
   "cell_type": "markdown",
   "id": "c52d6d1c",
   "metadata": {},
   "source": [
    "# Summary\n",
    "By the end of this chapter, we're going to have downloaded all of Canada's weather data for 2012, and saved it to a CSV.\n",
    "\n",
    "We'll do this by downloading it one month at a time, and then combining all the months together."
   ]
  },
  {
   "cell_type": "markdown",
   "id": "8c63f823",
   "metadata": {},
   "source": [
    "## Get mocks"
   ]
  },
  {
   "cell_type": "code",
   "execution_count": 2,
   "id": "d568e3f3",
   "metadata": {
    "scrolled": true
   },
   "outputs": [],
   "source": [
    "guest_domain_client = worker.guest_client\n",
    "guest_client = guest_domain_client.login(email=\"jane@caltech.edu\", password=\"abc123\")"
   ]
  },
  {
   "cell_type": "code",
   "execution_count": 3,
   "id": "81c7f134",
   "metadata": {
    "scrolled": true
   },
   "outputs": [],
   "source": [
    "ds = guest_domain_client.datasets[0]"
   ]
  },
  {
   "cell_type": "code",
   "execution_count": 4,
   "id": "24cac2dc",
   "metadata": {
    "scrolled": true
   },
   "outputs": [
    {
     "data": {
      "text/html": [
       "Tupledict - Size: 12\n",
       "<div>\n",
       "<style scoped>\n",
       "    .dataframe tbody tr th:only-of-type {\n",
       "        vertical-align: middle;\n",
       "    }\n",
       "\n",
       "    .dataframe tbody tr th {\n",
       "        vertical-align: top;\n",
       "    }\n",
       "\n",
       "    .dataframe thead th {\n",
       "        text-align: right;\n",
       "    }\n",
       "</style>\n",
       "<table border=\"1\" class=\"dataframe\">\n",
       "  <thead>\n",
       "    <tr style=\"text-align: right;\">\n",
       "      <th></th>\n",
       "      <th>key</th>\n",
       "      <th>type</th>\n",
       "      <th>id</th>\n",
       "    </tr>\n",
       "  </thead>\n",
       "  <tbody>\n",
       "    <tr>\n",
       "      <th>0</th>\n",
       "      <td>weather1</td>\n",
       "      <td>syft.core.node.new.dataset.Asset</td>\n",
       "      <td>d5651e8861b947b6823632fb8d33a12d</td>\n",
       "    </tr>\n",
       "    <tr>\n",
       "      <th>1</th>\n",
       "      <td>weather2</td>\n",
       "      <td>syft.core.node.new.dataset.Asset</td>\n",
       "      <td>c985714e87e84428b324fbe1926b00fe</td>\n",
       "    </tr>\n",
       "    <tr>\n",
       "      <th>2</th>\n",
       "      <td>weather3</td>\n",
       "      <td>syft.core.node.new.dataset.Asset</td>\n",
       "      <td>ec991620783b462981bb67ca2b290b6c</td>\n",
       "    </tr>\n",
       "    <tr>\n",
       "      <th>3</th>\n",
       "      <td>weather4</td>\n",
       "      <td>syft.core.node.new.dataset.Asset</td>\n",
       "      <td>ccccc4c52c3143b1a44675dd9ff17eba</td>\n",
       "    </tr>\n",
       "    <tr>\n",
       "      <th>4</th>\n",
       "      <td>weather5</td>\n",
       "      <td>syft.core.node.new.dataset.Asset</td>\n",
       "      <td>176593abc0b2457cb513066490457044</td>\n",
       "    </tr>\n",
       "  </tbody>\n",
       "</table>\n",
       "</div>"
      ],
      "text/plain": [
       "TupleDict([('weather1', syft.core.node.new.dataset.Asset),\n",
       "           ('weather2', syft.core.node.new.dataset.Asset),\n",
       "           ('weather3', syft.core.node.new.dataset.Asset),\n",
       "           ('weather4', syft.core.node.new.dataset.Asset),\n",
       "           ('weather5', syft.core.node.new.dataset.Asset),\n",
       "           ('weather6', syft.core.node.new.dataset.Asset),\n",
       "           ('weather7', syft.core.node.new.dataset.Asset),\n",
       "           ('weather8', syft.core.node.new.dataset.Asset),\n",
       "           ('weather9', syft.core.node.new.dataset.Asset),\n",
       "           ('weather10', syft.core.node.new.dataset.Asset),\n",
       "           ('weather11', syft.core.node.new.dataset.Asset),\n",
       "           ('weather12', syft.core.node.new.dataset.Asset)])"
      ]
     },
     "execution_count": 4,
     "metadata": {},
     "output_type": "execute_result"
    }
   ],
   "source": [
    "ds.assets"
   ]
  },
  {
   "cell_type": "markdown",
   "id": "d9ed60db",
   "metadata": {},
   "source": [
    "## Downloading one month of weather data"
   ]
  },
  {
   "cell_type": "markdown",
   "id": "d6440d74",
   "metadata": {},
   "source": [
    "When playing with the cycling data, I wanted temperature and precipitation data to find out if people like biking when it's raining. So I went to the site for Canadian historical weather data, and figured out how to get it automatically.\n",
    "\n",
    "Here we're going to get the data for March 2012, and clean it up"
   ]
  },
  {
   "cell_type": "code",
   "execution_count": 5,
   "id": "df089ffb",
   "metadata": {
    "scrolled": true
   },
   "outputs": [],
   "source": [
    "url_template = \"weather{month}\""
   ]
  },
  {
   "cell_type": "markdown",
   "id": "d5d809f2",
   "metadata": {},
   "source": [
    "To get the data for March 2013, we need to format it with `month=3`, `year=2012.`\n"
   ]
  },
  {
   "cell_type": "code",
   "execution_count": 6,
   "id": "45ee4812",
   "metadata": {
    "scrolled": true
   },
   "outputs": [],
   "source": [
    "url = url_template.format(month=3, year=2012)"
   ]
  },
  {
   "cell_type": "code",
   "execution_count": 7,
   "id": "97a8d23a",
   "metadata": {
    "scrolled": true
   },
   "outputs": [],
   "source": [
    "asset = ds.assets[url]\n",
    "weather_mar2012 = asset.mock"
   ]
  },
  {
   "cell_type": "markdown",
   "id": "7f96035d",
   "metadata": {},
   "source": [
    "This is super great! We can just use the this mock directly, and just give it a URL as a filename. Awesome.\n",
    "Here's the resulting dataframe."
   ]
  },
  {
   "cell_type": "code",
   "execution_count": 8,
   "id": "8b4cb2a2",
   "metadata": {
    "scrolled": true
   },
   "outputs": [
    {
     "data": {
      "text/html": [
       "<div>\n",
       "<style scoped>\n",
       "    .dataframe tbody tr th:only-of-type {\n",
       "        vertical-align: middle;\n",
       "    }\n",
       "\n",
       "    .dataframe tbody tr th {\n",
       "        vertical-align: top;\n",
       "    }\n",
       "\n",
       "    .dataframe thead th {\n",
       "        text-align: right;\n",
       "    }\n",
       "</style>\n",
       "<table border=\"1\" class=\"dataframe\">\n",
       "  <thead>\n",
       "    <tr style=\"text-align: right;\">\n",
       "      <th></th>\n",
       "      <th>Longitude (x)</th>\n",
       "      <th>Latitude (y)</th>\n",
       "      <th>Station Name</th>\n",
       "      <th>Climate ID</th>\n",
       "      <th>Year</th>\n",
       "      <th>Month</th>\n",
       "      <th>Day</th>\n",
       "      <th>Time (LST)</th>\n",
       "      <th>Temp (°C)</th>\n",
       "      <th>Temp Flag</th>\n",
       "      <th>...</th>\n",
       "      <th>Wind Spd Flag</th>\n",
       "      <th>Visibility (km)</th>\n",
       "      <th>Visibility Flag</th>\n",
       "      <th>Stn Press (kPa)</th>\n",
       "      <th>Stn Press Flag</th>\n",
       "      <th>Hmdx</th>\n",
       "      <th>Hmdx Flag</th>\n",
       "      <th>Wind Chill</th>\n",
       "      <th>Wind Chill Flag</th>\n",
       "      <th>Weather</th>\n",
       "    </tr>\n",
       "  </thead>\n",
       "  <tbody>\n",
       "    <tr>\n",
       "      <th>2010-06-01</th>\n",
       "      <td>NaN</td>\n",
       "      <td>NaN</td>\n",
       "      <td>NaN</td>\n",
       "      <td>NaN</td>\n",
       "      <td>NaN</td>\n",
       "      <td>NaN</td>\n",
       "      <td>NaN</td>\n",
       "      <td>NaN</td>\n",
       "      <td>-8.227724</td>\n",
       "      <td>NaN</td>\n",
       "      <td>...</td>\n",
       "      <td>NaN</td>\n",
       "      <td>7.450238</td>\n",
       "      <td>NaN</td>\n",
       "      <td>84.926460</td>\n",
       "      <td>NaN</td>\n",
       "      <td>NaN</td>\n",
       "      <td>NaN</td>\n",
       "      <td>NaN</td>\n",
       "      <td>NaN</td>\n",
       "      <td>Thunderstorms,Rain Showers</td>\n",
       "    </tr>\n",
       "    <tr>\n",
       "      <th>2010-06-02</th>\n",
       "      <td>NaN</td>\n",
       "      <td>NaN</td>\n",
       "      <td>NaN</td>\n",
       "      <td>NaN</td>\n",
       "      <td>NaN</td>\n",
       "      <td>NaN</td>\n",
       "      <td>NaN</td>\n",
       "      <td>NaN</td>\n",
       "      <td>2.095293</td>\n",
       "      <td>NaN</td>\n",
       "      <td>...</td>\n",
       "      <td>NaN</td>\n",
       "      <td>25.599119</td>\n",
       "      <td>NaN</td>\n",
       "      <td>50.364978</td>\n",
       "      <td>NaN</td>\n",
       "      <td>NaN</td>\n",
       "      <td>NaN</td>\n",
       "      <td>NaN</td>\n",
       "      <td>NaN</td>\n",
       "      <td>Thunderstorms,Rain</td>\n",
       "    </tr>\n",
       "    <tr>\n",
       "      <th>2010-06-03</th>\n",
       "      <td>NaN</td>\n",
       "      <td>NaN</td>\n",
       "      <td>NaN</td>\n",
       "      <td>NaN</td>\n",
       "      <td>NaN</td>\n",
       "      <td>NaN</td>\n",
       "      <td>NaN</td>\n",
       "      <td>NaN</td>\n",
       "      <td>37.573867</td>\n",
       "      <td>NaN</td>\n",
       "      <td>...</td>\n",
       "      <td>NaN</td>\n",
       "      <td>24.942514</td>\n",
       "      <td>NaN</td>\n",
       "      <td>75.092259</td>\n",
       "      <td>NaN</td>\n",
       "      <td>NaN</td>\n",
       "      <td>NaN</td>\n",
       "      <td>NaN</td>\n",
       "      <td>NaN</td>\n",
       "      <td>Rain,Snow</td>\n",
       "    </tr>\n",
       "    <tr>\n",
       "      <th>2010-06-04</th>\n",
       "      <td>NaN</td>\n",
       "      <td>NaN</td>\n",
       "      <td>NaN</td>\n",
       "      <td>NaN</td>\n",
       "      <td>NaN</td>\n",
       "      <td>NaN</td>\n",
       "      <td>NaN</td>\n",
       "      <td>NaN</td>\n",
       "      <td>9.876657</td>\n",
       "      <td>NaN</td>\n",
       "      <td>...</td>\n",
       "      <td>NaN</td>\n",
       "      <td>14.885879</td>\n",
       "      <td>NaN</td>\n",
       "      <td>65.334434</td>\n",
       "      <td>NaN</td>\n",
       "      <td>NaN</td>\n",
       "      <td>NaN</td>\n",
       "      <td>NaN</td>\n",
       "      <td>NaN</td>\n",
       "      <td>Freezing Rain</td>\n",
       "    </tr>\n",
       "    <tr>\n",
       "      <th>2010-06-05</th>\n",
       "      <td>NaN</td>\n",
       "      <td>NaN</td>\n",
       "      <td>NaN</td>\n",
       "      <td>NaN</td>\n",
       "      <td>NaN</td>\n",
       "      <td>NaN</td>\n",
       "      <td>NaN</td>\n",
       "      <td>NaN</td>\n",
       "      <td>33.139091</td>\n",
       "      <td>NaN</td>\n",
       "      <td>...</td>\n",
       "      <td>NaN</td>\n",
       "      <td>28.812411</td>\n",
       "      <td>NaN</td>\n",
       "      <td>98.747225</td>\n",
       "      <td>NaN</td>\n",
       "      <td>NaN</td>\n",
       "      <td>NaN</td>\n",
       "      <td>NaN</td>\n",
       "      <td>NaN</td>\n",
       "      <td>Fog</td>\n",
       "    </tr>\n",
       "    <tr>\n",
       "      <th>...</th>\n",
       "      <td>...</td>\n",
       "      <td>...</td>\n",
       "      <td>...</td>\n",
       "      <td>...</td>\n",
       "      <td>...</td>\n",
       "      <td>...</td>\n",
       "      <td>...</td>\n",
       "      <td>...</td>\n",
       "      <td>...</td>\n",
       "      <td>...</td>\n",
       "      <td>...</td>\n",
       "      <td>...</td>\n",
       "      <td>...</td>\n",
       "      <td>...</td>\n",
       "      <td>...</td>\n",
       "      <td>...</td>\n",
       "      <td>...</td>\n",
       "      <td>...</td>\n",
       "      <td>...</td>\n",
       "      <td>...</td>\n",
       "      <td>...</td>\n",
       "    </tr>\n",
       "    <tr>\n",
       "      <th>2012-06-09</th>\n",
       "      <td>NaN</td>\n",
       "      <td>NaN</td>\n",
       "      <td>NaN</td>\n",
       "      <td>NaN</td>\n",
       "      <td>NaN</td>\n",
       "      <td>NaN</td>\n",
       "      <td>NaN</td>\n",
       "      <td>NaN</td>\n",
       "      <td>36.048847</td>\n",
       "      <td>NaN</td>\n",
       "      <td>...</td>\n",
       "      <td>NaN</td>\n",
       "      <td>6.639669</td>\n",
       "      <td>NaN</td>\n",
       "      <td>96.373270</td>\n",
       "      <td>NaN</td>\n",
       "      <td>NaN</td>\n",
       "      <td>NaN</td>\n",
       "      <td>NaN</td>\n",
       "      <td>NaN</td>\n",
       "      <td>Snow Showers,Fog</td>\n",
       "    </tr>\n",
       "    <tr>\n",
       "      <th>2012-06-10</th>\n",
       "      <td>NaN</td>\n",
       "      <td>NaN</td>\n",
       "      <td>NaN</td>\n",
       "      <td>NaN</td>\n",
       "      <td>NaN</td>\n",
       "      <td>NaN</td>\n",
       "      <td>NaN</td>\n",
       "      <td>NaN</td>\n",
       "      <td>27.513107</td>\n",
       "      <td>NaN</td>\n",
       "      <td>...</td>\n",
       "      <td>NaN</td>\n",
       "      <td>21.735786</td>\n",
       "      <td>NaN</td>\n",
       "      <td>87.432125</td>\n",
       "      <td>NaN</td>\n",
       "      <td>NaN</td>\n",
       "      <td>NaN</td>\n",
       "      <td>NaN</td>\n",
       "      <td>NaN</td>\n",
       "      <td>Freezing Drizzle</td>\n",
       "    </tr>\n",
       "    <tr>\n",
       "      <th>2012-06-11</th>\n",
       "      <td>NaN</td>\n",
       "      <td>NaN</td>\n",
       "      <td>NaN</td>\n",
       "      <td>NaN</td>\n",
       "      <td>NaN</td>\n",
       "      <td>NaN</td>\n",
       "      <td>NaN</td>\n",
       "      <td>NaN</td>\n",
       "      <td>15.476591</td>\n",
       "      <td>NaN</td>\n",
       "      <td>...</td>\n",
       "      <td>NaN</td>\n",
       "      <td>19.352900</td>\n",
       "      <td>NaN</td>\n",
       "      <td>55.686740</td>\n",
       "      <td>NaN</td>\n",
       "      <td>NaN</td>\n",
       "      <td>NaN</td>\n",
       "      <td>NaN</td>\n",
       "      <td>NaN</td>\n",
       "      <td>Snow,Fog</td>\n",
       "    </tr>\n",
       "    <tr>\n",
       "      <th>2012-06-12</th>\n",
       "      <td>NaN</td>\n",
       "      <td>NaN</td>\n",
       "      <td>NaN</td>\n",
       "      <td>NaN</td>\n",
       "      <td>NaN</td>\n",
       "      <td>NaN</td>\n",
       "      <td>NaN</td>\n",
       "      <td>NaN</td>\n",
       "      <td>11.576134</td>\n",
       "      <td>NaN</td>\n",
       "      <td>...</td>\n",
       "      <td>NaN</td>\n",
       "      <td>19.406483</td>\n",
       "      <td>NaN</td>\n",
       "      <td>84.728135</td>\n",
       "      <td>NaN</td>\n",
       "      <td>NaN</td>\n",
       "      <td>NaN</td>\n",
       "      <td>NaN</td>\n",
       "      <td>NaN</td>\n",
       "      <td>Drizzle,Snow</td>\n",
       "    </tr>\n",
       "    <tr>\n",
       "      <th>2012-06-13</th>\n",
       "      <td>NaN</td>\n",
       "      <td>NaN</td>\n",
       "      <td>NaN</td>\n",
       "      <td>NaN</td>\n",
       "      <td>NaN</td>\n",
       "      <td>NaN</td>\n",
       "      <td>NaN</td>\n",
       "      <td>NaN</td>\n",
       "      <td>18.346060</td>\n",
       "      <td>NaN</td>\n",
       "      <td>...</td>\n",
       "      <td>NaN</td>\n",
       "      <td>36.082762</td>\n",
       "      <td>NaN</td>\n",
       "      <td>62.814669</td>\n",
       "      <td>NaN</td>\n",
       "      <td>NaN</td>\n",
       "      <td>NaN</td>\n",
       "      <td>NaN</td>\n",
       "      <td>NaN</td>\n",
       "      <td>Snow,Ice Pellets</td>\n",
       "    </tr>\n",
       "  </tbody>\n",
       "</table>\n",
       "<p>744 rows × 29 columns</p>\n",
       "</div>"
      ],
      "text/plain": [
       "            Longitude (x)  Latitude (y)  Station Name  Climate ID  Year  \\\n",
       "2010-06-01            NaN           NaN           NaN         NaN   NaN   \n",
       "2010-06-02            NaN           NaN           NaN         NaN   NaN   \n",
       "2010-06-03            NaN           NaN           NaN         NaN   NaN   \n",
       "2010-06-04            NaN           NaN           NaN         NaN   NaN   \n",
       "2010-06-05            NaN           NaN           NaN         NaN   NaN   \n",
       "...                   ...           ...           ...         ...   ...   \n",
       "2012-06-09            NaN           NaN           NaN         NaN   NaN   \n",
       "2012-06-10            NaN           NaN           NaN         NaN   NaN   \n",
       "2012-06-11            NaN           NaN           NaN         NaN   NaN   \n",
       "2012-06-12            NaN           NaN           NaN         NaN   NaN   \n",
       "2012-06-13            NaN           NaN           NaN         NaN   NaN   \n",
       "\n",
       "            Month  Day  Time (LST)  Temp (°C)  Temp Flag  ...  Wind Spd Flag  \\\n",
       "2010-06-01    NaN  NaN         NaN  -8.227724        NaN  ...            NaN   \n",
       "2010-06-02    NaN  NaN         NaN   2.095293        NaN  ...            NaN   \n",
       "2010-06-03    NaN  NaN         NaN  37.573867        NaN  ...            NaN   \n",
       "2010-06-04    NaN  NaN         NaN   9.876657        NaN  ...            NaN   \n",
       "2010-06-05    NaN  NaN         NaN  33.139091        NaN  ...            NaN   \n",
       "...           ...  ...         ...        ...        ...  ...            ...   \n",
       "2012-06-09    NaN  NaN         NaN  36.048847        NaN  ...            NaN   \n",
       "2012-06-10    NaN  NaN         NaN  27.513107        NaN  ...            NaN   \n",
       "2012-06-11    NaN  NaN         NaN  15.476591        NaN  ...            NaN   \n",
       "2012-06-12    NaN  NaN         NaN  11.576134        NaN  ...            NaN   \n",
       "2012-06-13    NaN  NaN         NaN  18.346060        NaN  ...            NaN   \n",
       "\n",
       "            Visibility (km)  Visibility Flag  Stn Press (kPa)  Stn Press Flag  \\\n",
       "2010-06-01         7.450238              NaN        84.926460             NaN   \n",
       "2010-06-02        25.599119              NaN        50.364978             NaN   \n",
       "2010-06-03        24.942514              NaN        75.092259             NaN   \n",
       "2010-06-04        14.885879              NaN        65.334434             NaN   \n",
       "2010-06-05        28.812411              NaN        98.747225             NaN   \n",
       "...                     ...              ...              ...             ...   \n",
       "2012-06-09         6.639669              NaN        96.373270             NaN   \n",
       "2012-06-10        21.735786              NaN        87.432125             NaN   \n",
       "2012-06-11        19.352900              NaN        55.686740             NaN   \n",
       "2012-06-12        19.406483              NaN        84.728135             NaN   \n",
       "2012-06-13        36.082762              NaN        62.814669             NaN   \n",
       "\n",
       "            Hmdx  Hmdx Flag  Wind Chill  Wind Chill Flag  \\\n",
       "2010-06-01   NaN        NaN         NaN              NaN   \n",
       "2010-06-02   NaN        NaN         NaN              NaN   \n",
       "2010-06-03   NaN        NaN         NaN              NaN   \n",
       "2010-06-04   NaN        NaN         NaN              NaN   \n",
       "2010-06-05   NaN        NaN         NaN              NaN   \n",
       "...          ...        ...         ...              ...   \n",
       "2012-06-09   NaN        NaN         NaN              NaN   \n",
       "2012-06-10   NaN        NaN         NaN              NaN   \n",
       "2012-06-11   NaN        NaN         NaN              NaN   \n",
       "2012-06-12   NaN        NaN         NaN              NaN   \n",
       "2012-06-13   NaN        NaN         NaN              NaN   \n",
       "\n",
       "                               Weather  \n",
       "2010-06-01  Thunderstorms,Rain Showers  \n",
       "2010-06-02          Thunderstorms,Rain  \n",
       "2010-06-03                   Rain,Snow  \n",
       "2010-06-04               Freezing Rain  \n",
       "2010-06-05                         Fog  \n",
       "...                                ...  \n",
       "2012-06-09            Snow Showers,Fog  \n",
       "2012-06-10            Freezing Drizzle  \n",
       "2012-06-11                    Snow,Fog  \n",
       "2012-06-12                Drizzle,Snow  \n",
       "2012-06-13            Snow,Ice Pellets  \n",
       "\n",
       "[744 rows x 29 columns]"
      ]
     },
     "execution_count": 8,
     "metadata": {},
     "output_type": "execute_result"
    }
   ],
   "source": [
    "weather_mar2012"
   ]
  },
  {
   "cell_type": "code",
   "execution_count": 9,
   "id": "2c2ed691",
   "metadata": {
    "scrolled": true
   },
   "outputs": [
    {
     "data": {
      "text/plain": [
       "<AxesSubplot: >"
      ]
     },
     "execution_count": 9,
     "metadata": {},
     "output_type": "execute_result"
    },
    {
     "data": {
      "image/png": "[encoded data removed]",
      "text/plain": [
       "<Figure size 1500x500 with 1 Axes>"
      ]
     },
     "metadata": {},
     "output_type": "display_data"
    }
   ],
   "source": [
    "weather_mar2012[u\"Temp (°C)\"].plot(figsize=(15, 5))"
   ]
  },
  {
   "cell_type": "code",
   "execution_count": 10,
   "id": "882e10de",
   "metadata": {
    "scrolled": true
   },
   "outputs": [
    {
     "data": {
      "text/html": [
       "<div>\n",
       "<style scoped>\n",
       "    .dataframe tbody tr th:only-of-type {\n",
       "        vertical-align: middle;\n",
       "    }\n",
       "\n",
       "    .dataframe tbody tr th {\n",
       "        vertical-align: top;\n",
       "    }\n",
       "\n",
       "    .dataframe thead th {\n",
       "        text-align: right;\n",
       "    }\n",
       "</style>\n",
       "<table border=\"1\" class=\"dataframe\">\n",
       "  <thead>\n",
       "    <tr style=\"text-align: right;\">\n",
       "      <th></th>\n",
       "      <th>Longitude (x)</th>\n",
       "      <th>Latitude (y)</th>\n",
       "      <th>Station Name</th>\n",
       "      <th>Climate ID</th>\n",
       "      <th>Year</th>\n",
       "      <th>Month</th>\n",
       "      <th>Day</th>\n",
       "      <th>Time (LST)</th>\n",
       "      <th>Temp (°C)</th>\n",
       "      <th>Temp Flag</th>\n",
       "      <th>...</th>\n",
       "      <th>Wind Spd Flag</th>\n",
       "      <th>Visibility (km)</th>\n",
       "      <th>Visibility Flag</th>\n",
       "      <th>Stn Press (kPa)</th>\n",
       "      <th>Stn Press Flag</th>\n",
       "      <th>Hmdx</th>\n",
       "      <th>Hmdx Flag</th>\n",
       "      <th>Wind Chill</th>\n",
       "      <th>Wind Chill Flag</th>\n",
       "      <th>Weather</th>\n",
       "    </tr>\n",
       "  </thead>\n",
       "  <tbody>\n",
       "    <tr>\n",
       "      <th>2010-06-01</th>\n",
       "      <td>NaN</td>\n",
       "      <td>NaN</td>\n",
       "      <td>NaN</td>\n",
       "      <td>NaN</td>\n",
       "      <td>NaN</td>\n",
       "      <td>NaN</td>\n",
       "      <td>NaN</td>\n",
       "      <td>NaN</td>\n",
       "      <td>-8.227724</td>\n",
       "      <td>NaN</td>\n",
       "      <td>...</td>\n",
       "      <td>NaN</td>\n",
       "      <td>7.450238</td>\n",
       "      <td>NaN</td>\n",
       "      <td>84.926460</td>\n",
       "      <td>NaN</td>\n",
       "      <td>NaN</td>\n",
       "      <td>NaN</td>\n",
       "      <td>NaN</td>\n",
       "      <td>NaN</td>\n",
       "      <td>Thunderstorms,Rain Showers</td>\n",
       "    </tr>\n",
       "    <tr>\n",
       "      <th>2010-06-02</th>\n",
       "      <td>NaN</td>\n",
       "      <td>NaN</td>\n",
       "      <td>NaN</td>\n",
       "      <td>NaN</td>\n",
       "      <td>NaN</td>\n",
       "      <td>NaN</td>\n",
       "      <td>NaN</td>\n",
       "      <td>NaN</td>\n",
       "      <td>2.095293</td>\n",
       "      <td>NaN</td>\n",
       "      <td>...</td>\n",
       "      <td>NaN</td>\n",
       "      <td>25.599119</td>\n",
       "      <td>NaN</td>\n",
       "      <td>50.364978</td>\n",
       "      <td>NaN</td>\n",
       "      <td>NaN</td>\n",
       "      <td>NaN</td>\n",
       "      <td>NaN</td>\n",
       "      <td>NaN</td>\n",
       "      <td>Thunderstorms,Rain</td>\n",
       "    </tr>\n",
       "    <tr>\n",
       "      <th>2010-06-03</th>\n",
       "      <td>NaN</td>\n",
       "      <td>NaN</td>\n",
       "      <td>NaN</td>\n",
       "      <td>NaN</td>\n",
       "      <td>NaN</td>\n",
       "      <td>NaN</td>\n",
       "      <td>NaN</td>\n",
       "      <td>NaN</td>\n",
       "      <td>37.573867</td>\n",
       "      <td>NaN</td>\n",
       "      <td>...</td>\n",
       "      <td>NaN</td>\n",
       "      <td>24.942514</td>\n",
       "      <td>NaN</td>\n",
       "      <td>75.092259</td>\n",
       "      <td>NaN</td>\n",
       "      <td>NaN</td>\n",
       "      <td>NaN</td>\n",
       "      <td>NaN</td>\n",
       "      <td>NaN</td>\n",
       "      <td>Rain,Snow</td>\n",
       "    </tr>\n",
       "    <tr>\n",
       "      <th>2010-06-04</th>\n",
       "      <td>NaN</td>\n",
       "      <td>NaN</td>\n",
       "      <td>NaN</td>\n",
       "      <td>NaN</td>\n",
       "      <td>NaN</td>\n",
       "      <td>NaN</td>\n",
       "      <td>NaN</td>\n",
       "      <td>NaN</td>\n",
       "      <td>9.876657</td>\n",
       "      <td>NaN</td>\n",
       "      <td>...</td>\n",
       "      <td>NaN</td>\n",
       "      <td>14.885879</td>\n",
       "      <td>NaN</td>\n",
       "      <td>65.334434</td>\n",
       "      <td>NaN</td>\n",
       "      <td>NaN</td>\n",
       "      <td>NaN</td>\n",
       "      <td>NaN</td>\n",
       "      <td>NaN</td>\n",
       "      <td>Freezing Rain</td>\n",
       "    </tr>\n",
       "    <tr>\n",
       "      <th>2010-06-05</th>\n",
       "      <td>NaN</td>\n",
       "      <td>NaN</td>\n",
       "      <td>NaN</td>\n",
       "      <td>NaN</td>\n",
       "      <td>NaN</td>\n",
       "      <td>NaN</td>\n",
       "      <td>NaN</td>\n",
       "      <td>NaN</td>\n",
       "      <td>33.139091</td>\n",
       "      <td>NaN</td>\n",
       "      <td>...</td>\n",
       "      <td>NaN</td>\n",
       "      <td>28.812411</td>\n",
       "      <td>NaN</td>\n",
       "      <td>98.747225</td>\n",
       "      <td>NaN</td>\n",
       "      <td>NaN</td>\n",
       "      <td>NaN</td>\n",
       "      <td>NaN</td>\n",
       "      <td>NaN</td>\n",
       "      <td>Fog</td>\n",
       "    </tr>\n",
       "    <tr>\n",
       "      <th>...</th>\n",
       "      <td>...</td>\n",
       "      <td>...</td>\n",
       "      <td>...</td>\n",
       "      <td>...</td>\n",
       "      <td>...</td>\n",
       "      <td>...</td>\n",
       "      <td>...</td>\n",
       "      <td>...</td>\n",
       "      <td>...</td>\n",
       "      <td>...</td>\n",
       "      <td>...</td>\n",
       "      <td>...</td>\n",
       "      <td>...</td>\n",
       "      <td>...</td>\n",
       "      <td>...</td>\n",
       "      <td>...</td>\n",
       "      <td>...</td>\n",
       "      <td>...</td>\n",
       "      <td>...</td>\n",
       "      <td>...</td>\n",
       "      <td>...</td>\n",
       "    </tr>\n",
       "    <tr>\n",
       "      <th>2012-06-09</th>\n",
       "      <td>NaN</td>\n",
       "      <td>NaN</td>\n",
       "      <td>NaN</td>\n",
       "      <td>NaN</td>\n",
       "      <td>NaN</td>\n",
       "      <td>NaN</td>\n",
       "      <td>NaN</td>\n",
       "      <td>NaN</td>\n",
       "      <td>36.048847</td>\n",
       "      <td>NaN</td>\n",
       "      <td>...</td>\n",
       "      <td>NaN</td>\n",
       "      <td>6.639669</td>\n",
       "      <td>NaN</td>\n",
       "      <td>96.373270</td>\n",
       "      <td>NaN</td>\n",
       "      <td>NaN</td>\n",
       "      <td>NaN</td>\n",
       "      <td>NaN</td>\n",
       "      <td>NaN</td>\n",
       "      <td>Snow Showers,Fog</td>\n",
       "    </tr>\n",
       "    <tr>\n",
       "      <th>2012-06-10</th>\n",
       "      <td>NaN</td>\n",
       "      <td>NaN</td>\n",
       "      <td>NaN</td>\n",
       "      <td>NaN</td>\n",
       "      <td>NaN</td>\n",
       "      <td>NaN</td>\n",
       "      <td>NaN</td>\n",
       "      <td>NaN</td>\n",
       "      <td>27.513107</td>\n",
       "      <td>NaN</td>\n",
       "      <td>...</td>\n",
       "      <td>NaN</td>\n",
       "      <td>21.735786</td>\n",
       "      <td>NaN</td>\n",
       "      <td>87.432125</td>\n",
       "      <td>NaN</td>\n",
       "      <td>NaN</td>\n",
       "      <td>NaN</td>\n",
       "      <td>NaN</td>\n",
       "      <td>NaN</td>\n",
       "      <td>Freezing Drizzle</td>\n",
       "    </tr>\n",
       "    <tr>\n",
       "      <th>2012-06-11</th>\n",
       "      <td>NaN</td>\n",
       "      <td>NaN</td>\n",
       "      <td>NaN</td>\n",
       "      <td>NaN</td>\n",
       "      <td>NaN</td>\n",
       "      <td>NaN</td>\n",
       "      <td>NaN</td>\n",
       "      <td>NaN</td>\n",
       "      <td>15.476591</td>\n",
       "      <td>NaN</td>\n",
       "      <td>...</td>\n",
       "      <td>NaN</td>\n",
       "      <td>19.352900</td>\n",
       "      <td>NaN</td>\n",
       "      <td>55.686740</td>\n",
       "      <td>NaN</td>\n",
       "      <td>NaN</td>\n",
       "      <td>NaN</td>\n",
       "      <td>NaN</td>\n",
       "      <td>NaN</td>\n",
       "      <td>Snow,Fog</td>\n",
       "    </tr>\n",
       "    <tr>\n",
       "      <th>2012-06-12</th>\n",
       "      <td>NaN</td>\n",
       "      <td>NaN</td>\n",
       "      <td>NaN</td>\n",
       "      <td>NaN</td>\n",
       "      <td>NaN</td>\n",
       "      <td>NaN</td>\n",
       "      <td>NaN</td>\n",
       "      <td>NaN</td>\n",
       "      <td>11.576134</td>\n",
       "      <td>NaN</td>\n",
       "      <td>...</td>\n",
       "      <td>NaN</td>\n",
       "      <td>19.406483</td>\n",
       "      <td>NaN</td>\n",
       "      <td>84.728135</td>\n",
       "      <td>NaN</td>\n",
       "      <td>NaN</td>\n",
       "      <td>NaN</td>\n",
       "      <td>NaN</td>\n",
       "      <td>NaN</td>\n",
       "      <td>Drizzle,Snow</td>\n",
       "    </tr>\n",
       "    <tr>\n",
       "      <th>2012-06-13</th>\n",
       "      <td>NaN</td>\n",
       "      <td>NaN</td>\n",
       "      <td>NaN</td>\n",
       "      <td>NaN</td>\n",
       "      <td>NaN</td>\n",
       "      <td>NaN</td>\n",
       "      <td>NaN</td>\n",
       "      <td>NaN</td>\n",
       "      <td>18.346060</td>\n",
       "      <td>NaN</td>\n",
       "      <td>...</td>\n",
       "      <td>NaN</td>\n",
       "      <td>36.082762</td>\n",
       "      <td>NaN</td>\n",
       "      <td>62.814669</td>\n",
       "      <td>NaN</td>\n",
       "      <td>NaN</td>\n",
       "      <td>NaN</td>\n",
       "      <td>NaN</td>\n",
       "      <td>NaN</td>\n",
       "      <td>Snow,Ice Pellets</td>\n",
       "    </tr>\n",
       "  </tbody>\n",
       "</table>\n",
       "<p>744 rows × 29 columns</p>\n",
       "</div>"
      ],
      "text/plain": [
       "            Longitude (x)  Latitude (y)  Station Name  Climate ID  Year  \\\n",
       "2010-06-01            NaN           NaN           NaN         NaN   NaN   \n",
       "2010-06-02            NaN           NaN           NaN         NaN   NaN   \n",
       "2010-06-03            NaN           NaN           NaN         NaN   NaN   \n",
       "2010-06-04            NaN           NaN           NaN         NaN   NaN   \n",
       "2010-06-05            NaN           NaN           NaN         NaN   NaN   \n",
       "...                   ...           ...           ...         ...   ...   \n",
       "2012-06-09            NaN           NaN           NaN         NaN   NaN   \n",
       "2012-06-10            NaN           NaN           NaN         NaN   NaN   \n",
       "2012-06-11            NaN           NaN           NaN         NaN   NaN   \n",
       "2012-06-12            NaN           NaN           NaN         NaN   NaN   \n",
       "2012-06-13            NaN           NaN           NaN         NaN   NaN   \n",
       "\n",
       "            Month  Day  Time (LST)  Temp (°C)  Temp Flag  ...  Wind Spd Flag  \\\n",
       "2010-06-01    NaN  NaN         NaN  -8.227724        NaN  ...            NaN   \n",
       "2010-06-02    NaN  NaN         NaN   2.095293        NaN  ...            NaN   \n",
       "2010-06-03    NaN  NaN         NaN  37.573867        NaN  ...            NaN   \n",
       "2010-06-04    NaN  NaN         NaN   9.876657        NaN  ...            NaN   \n",
       "2010-06-05    NaN  NaN         NaN  33.139091        NaN  ...            NaN   \n",
       "...           ...  ...         ...        ...        ...  ...            ...   \n",
       "2012-06-09    NaN  NaN         NaN  36.048847        NaN  ...            NaN   \n",
       "2012-06-10    NaN  NaN         NaN  27.513107        NaN  ...            NaN   \n",
       "2012-06-11    NaN  NaN         NaN  15.476591        NaN  ...            NaN   \n",
       "2012-06-12    NaN  NaN         NaN  11.576134        NaN  ...            NaN   \n",
       "2012-06-13    NaN  NaN         NaN  18.346060        NaN  ...            NaN   \n",
       "\n",
       "            Visibility (km)  Visibility Flag  Stn Press (kPa)  Stn Press Flag  \\\n",
       "2010-06-01         7.450238              NaN        84.926460             NaN   \n",
       "2010-06-02        25.599119              NaN        50.364978             NaN   \n",
       "2010-06-03        24.942514              NaN        75.092259             NaN   \n",
       "2010-06-04        14.885879              NaN        65.334434             NaN   \n",
       "2010-06-05        28.812411              NaN        98.747225             NaN   \n",
       "...                     ...              ...              ...             ...   \n",
       "2012-06-09         6.639669              NaN        96.373270             NaN   \n",
       "2012-06-10        21.735786              NaN        87.432125             NaN   \n",
       "2012-06-11        19.352900              NaN        55.686740             NaN   \n",
       "2012-06-12        19.406483              NaN        84.728135             NaN   \n",
       "2012-06-13        36.082762              NaN        62.814669             NaN   \n",
       "\n",
       "            Hmdx  Hmdx Flag  Wind Chill  Wind Chill Flag  \\\n",
       "2010-06-01   NaN        NaN         NaN              NaN   \n",
       "2010-06-02   NaN        NaN         NaN              NaN   \n",
       "2010-06-03   NaN        NaN         NaN              NaN   \n",
       "2010-06-04   NaN        NaN         NaN              NaN   \n",
       "2010-06-05   NaN        NaN         NaN              NaN   \n",
       "...          ...        ...         ...              ...   \n",
       "2012-06-09   NaN        NaN         NaN              NaN   \n",
       "2012-06-10   NaN        NaN         NaN              NaN   \n",
       "2012-06-11   NaN        NaN         NaN              NaN   \n",
       "2012-06-12   NaN        NaN         NaN              NaN   \n",
       "2012-06-13   NaN        NaN         NaN              NaN   \n",
       "\n",
       "                               Weather  \n",
       "2010-06-01  Thunderstorms,Rain Showers  \n",
       "2010-06-02          Thunderstorms,Rain  \n",
       "2010-06-03                   Rain,Snow  \n",
       "2010-06-04               Freezing Rain  \n",
       "2010-06-05                         Fog  \n",
       "...                                ...  \n",
       "2012-06-09            Snow Showers,Fog  \n",
       "2012-06-10            Freezing Drizzle  \n",
       "2012-06-11                    Snow,Fog  \n",
       "2012-06-12                Drizzle,Snow  \n",
       "2012-06-13            Snow,Ice Pellets  \n",
       "\n",
       "[744 rows x 29 columns]"
      ]
     },
     "execution_count": 10,
     "metadata": {},
     "output_type": "execute_result"
    }
   ],
   "source": [
    "asset.mock"
   ]
  },
  {
   "cell_type": "code",
   "execution_count": 11,
   "id": "61efd05c",
   "metadata": {
    "scrolled": true
   },
   "outputs": [],
   "source": [
    "# weather_mar2012.columns = [\n",
    "#     u'Year', u'Month', u'Day', u'Time', u'Data Quality', u'Temp (C)', \n",
    "#     u'Temp Flag', u'Dew Point Temp (C)', u'Dew Point Temp Flag', \n",
    "#     u'Rel Hum (%)', u'Rel Hum Flag', u'Wind Dir (10s deg)', u'Wind Dir Flag', \n",
    "#     u'Wind Spd (km/h)', u'Wind Spd Flag', u'Visibility (km)', u'Visibility Flag',\n",
    "#     u'Stn Press (kPa)', u'Stn Press Flag', u'Hmdx', u'Hmdx Flag', u'Wind Chill', \n",
    "#     u'Wind Chill Flag', u'Weather']"
   ]
  },
  {
   "cell_type": "code",
   "execution_count": 12,
   "id": "687411ba",
   "metadata": {
    "scrolled": true
   },
   "outputs": [],
   "source": [
    "# weather[u\"Temp (C)\"].plot(figsize=(15, 5))"
   ]
  },
  {
   "cell_type": "markdown",
   "id": "c30da2aa",
   "metadata": {},
   "source": [
    "You'll notice in the summary above that there are a few columns which are are either entirely empty or only have a few values in them. Let's get rid of all of those with dropna.\n",
    "\n",
    "The argument axis=1 to dropna means \"drop columns\", not rows\", and how='any' means \"drop the column if any value is null\".\n",
    "\n",
    "This is much better now -- we only have columns with real data."
   ]
  },
  {
   "cell_type": "code",
   "execution_count": 13,
   "id": "ff3db27b",
   "metadata": {
    "scrolled": true
   },
   "outputs": [
    {
     "data": {
      "text/html": [
       "<div>\n",
       "<style scoped>\n",
       "    .dataframe tbody tr th:only-of-type {\n",
       "        vertical-align: middle;\n",
       "    }\n",
       "\n",
       "    .dataframe tbody tr th {\n",
       "        vertical-align: top;\n",
       "    }\n",
       "\n",
       "    .dataframe thead th {\n",
       "        text-align: right;\n",
       "    }\n",
       "</style>\n",
       "<table border=\"1\" class=\"dataframe\">\n",
       "  <thead>\n",
       "    <tr style=\"text-align: right;\">\n",
       "      <th></th>\n",
       "      <th>Temp (°C)</th>\n",
       "      <th>Rel Hum (%)</th>\n",
       "      <th>Wind Spd (km/h)</th>\n",
       "      <th>Visibility (km)</th>\n",
       "      <th>Stn Press (kPa)</th>\n",
       "      <th>Weather</th>\n",
       "    </tr>\n",
       "  </thead>\n",
       "  <tbody>\n",
       "    <tr>\n",
       "      <th>2010-06-01</th>\n",
       "      <td>-8.227724</td>\n",
       "      <td>66</td>\n",
       "      <td>11</td>\n",
       "      <td>7.450238</td>\n",
       "      <td>84.926460</td>\n",
       "      <td>Thunderstorms,Rain Showers</td>\n",
       "    </tr>\n",
       "    <tr>\n",
       "      <th>2010-06-02</th>\n",
       "      <td>2.095293</td>\n",
       "      <td>90</td>\n",
       "      <td>4</td>\n",
       "      <td>25.599119</td>\n",
       "      <td>50.364978</td>\n",
       "      <td>Thunderstorms,Rain</td>\n",
       "    </tr>\n",
       "    <tr>\n",
       "      <th>2010-06-03</th>\n",
       "      <td>37.573867</td>\n",
       "      <td>71</td>\n",
       "      <td>14</td>\n",
       "      <td>24.942514</td>\n",
       "      <td>75.092259</td>\n",
       "      <td>Rain,Snow</td>\n",
       "    </tr>\n",
       "    <tr>\n",
       "      <th>2010-06-04</th>\n",
       "      <td>9.876657</td>\n",
       "      <td>88</td>\n",
       "      <td>18</td>\n",
       "      <td>14.885879</td>\n",
       "      <td>65.334434</td>\n",
       "      <td>Freezing Rain</td>\n",
       "    </tr>\n",
       "    <tr>\n",
       "      <th>2010-06-05</th>\n",
       "      <td>33.139091</td>\n",
       "      <td>74</td>\n",
       "      <td>12</td>\n",
       "      <td>28.812411</td>\n",
       "      <td>98.747225</td>\n",
       "      <td>Fog</td>\n",
       "    </tr>\n",
       "  </tbody>\n",
       "</table>\n",
       "</div>"
      ],
      "text/plain": [
       "            Temp (°C)  Rel Hum (%)  Wind Spd (km/h)  Visibility (km)  \\\n",
       "2010-06-01  -8.227724           66               11         7.450238   \n",
       "2010-06-02   2.095293           90                4        25.599119   \n",
       "2010-06-03  37.573867           71               14        24.942514   \n",
       "2010-06-04   9.876657           88               18        14.885879   \n",
       "2010-06-05  33.139091           74               12        28.812411   \n",
       "\n",
       "            Stn Press (kPa)                     Weather  \n",
       "2010-06-01        84.926460  Thunderstorms,Rain Showers  \n",
       "2010-06-02        50.364978          Thunderstorms,Rain  \n",
       "2010-06-03        75.092259                   Rain,Snow  \n",
       "2010-06-04        65.334434               Freezing Rain  \n",
       "2010-06-05        98.747225                         Fog  "
      ]
     },
     "execution_count": 13,
     "metadata": {},
     "output_type": "execute_result"
    }
   ],
   "source": [
    "weather_mar2012 = weather_mar2012.dropna(axis=1, how='any')\n",
    "weather_mar2012[:5]"
   ]
  },
  {
   "cell_type": "markdown",
   "id": "24981252",
   "metadata": {},
   "source": [
    "The Year/Month/Day/Time columns are redundant, though, and the Data Quality column doesn't look too useful. Let's get rid of those.\n",
    "\n",
    "The axis=1 argument means \"Drop columns\", like before. The default for operations like dropna and drop is always to operate on rows."
   ]
  },
  {
   "cell_type": "code",
   "execution_count": 14,
   "id": "485ddf2a",
   "metadata": {
    "scrolled": true
   },
   "outputs": [],
   "source": [
    "# weather_mar2012 = weather_mar2012.drop(['Year', 'Month', 'Day', 'Time', 'Data Quality'], axis=1)\n",
    "# weather_mar2012[:5]"
   ]
  },
  {
   "cell_type": "markdown",
   "id": "ceb3d21f",
   "metadata": {},
   "source": [
    "Awesome! We now only have the relevant columns, and it's much more manageable.\n",
    "\n"
   ]
  },
  {
   "cell_type": "markdown",
   "id": "3651b6cd",
   "metadata": {},
   "source": [
    "## Plotting the temperature by hour of day"
   ]
  },
  {
   "cell_type": "markdown",
   "id": "0d943d89",
   "metadata": {},
   "source": [
    "This one's just for fun -- we've already done this before, using groupby and aggregate! We will learn whether or not it gets colder at night. Well, obviously. But let's do it anyway."
   ]
  },
  {
   "cell_type": "code",
   "execution_count": 15,
   "id": "c9b59698",
   "metadata": {
    "scrolled": true
   },
   "outputs": [
    {
     "name": "stdout",
     "output_type": "stream",
     "text": [
      "<bound method ActionObject.__getattribute__.<locals>.wrapper of <class 'syft.core.node.new.pandas.PandasDataFrameObject'>>\n"
     ]
    },
    {
     "data": {
      "text/plain": [
       "<AxesSubplot: xlabel='Hour'>"
      ]
     },
     "execution_count": 15,
     "metadata": {},
     "output_type": "execute_result"
    },
    {
     "data": {
      "image/png": "[encoded data removed]",
      "text/plain": [
       "<Figure size 640x480 with 1 Axes>"
      ]
     },
     "metadata": {},
     "output_type": "display_data"
    }
   ],
   "source": [
    "temperatures = weather_mar2012[[u'Temp (°C)']].copy()\n",
    "print(temperatures.head)\n",
    "temperatures.loc[:,'Hour'] = weather_mar2012.index.hour\n",
    "temperatures.groupby('Hour').aggregate(np.median).plot()"
   ]
  },
  {
   "cell_type": "markdown",
   "id": "88229a8d",
   "metadata": {},
   "source": [
    "So it looks like the time with the highest median temperature is 2pm. Neat."
   ]
  },
  {
   "cell_type": "markdown",
   "id": "b553755f",
   "metadata": {},
   "source": [
    "## Getting the whole year of data\n"
   ]
  },
  {
   "cell_type": "markdown",
   "id": "d4d64865",
   "metadata": {},
   "source": [
    "## Adding a 'weekday' column to our dataframe"
   ]
  },
  {
   "cell_type": "markdown",
   "id": "bf0d00b5",
   "metadata": {},
   "source": [
    "Okay, so what if we want the data for the whole year? Ideally the API would just let us download that, but I couldn't figure out a way to do that.\n",
    "\n",
    "First, let's put our work from above into a function that gets the weather for a given month.\n",
    "\n",
    "I noticed that there's an irritating bug where when I ask for January, it gives me data for the previous year, so we'll fix that too. [no, really. You can check =)]"
   ]
  },
  {
   "cell_type": "code",
   "execution_count": 16,
   "id": "17ba8b1a",
   "metadata": {
    "scrolled": true
   },
   "outputs": [],
   "source": [
    "def download_weather_month(year=2012, month=1):\n",
    "    url = url_template.format(year=year, month=month)\n",
    "    asset = ds.assets[url]\n",
    "    weather_data = asset.mock\n",
    "    weather_data = weather_data.dropna(axis=1)\n",
    "    return weather_data"
   ]
  },
  {
   "cell_type": "markdown",
   "id": "90f71b09",
   "metadata": {},
   "source": [
    "We can test that this function does the right thing:\n",
    "\n"
   ]
  },
  {
   "cell_type": "code",
   "execution_count": 17,
   "id": "cf685bbb",
   "metadata": {
    "scrolled": true
   },
   "outputs": [
    {
     "data": {
      "text/html": [
       "<div>\n",
       "<style scoped>\n",
       "    .dataframe tbody tr th:only-of-type {\n",
       "        vertical-align: middle;\n",
       "    }\n",
       "\n",
       "    .dataframe tbody tr th {\n",
       "        vertical-align: top;\n",
       "    }\n",
       "\n",
       "    .dataframe thead th {\n",
       "        text-align: right;\n",
       "    }\n",
       "</style>\n",
       "<table border=\"1\" class=\"dataframe\">\n",
       "  <thead>\n",
       "    <tr style=\"text-align: right;\">\n",
       "      <th></th>\n",
       "      <th>Temp (°C)</th>\n",
       "      <th>Rel Hum (%)</th>\n",
       "      <th>Wind Spd (km/h)</th>\n",
       "      <th>Visibility (km)</th>\n",
       "      <th>Stn Press (kPa)</th>\n",
       "      <th>Weather</th>\n",
       "    </tr>\n",
       "  </thead>\n",
       "  <tbody>\n",
       "    <tr>\n",
       "      <th>2010-06-01</th>\n",
       "      <td>13.320248</td>\n",
       "      <td>78</td>\n",
       "      <td>24</td>\n",
       "      <td>29.721695</td>\n",
       "      <td>68.389927</td>\n",
       "      <td>Snow Showers,Fog</td>\n",
       "    </tr>\n",
       "    <tr>\n",
       "      <th>2010-06-02</th>\n",
       "      <td>24.892858</td>\n",
       "      <td>50</td>\n",
       "      <td>24</td>\n",
       "      <td>1.766590</td>\n",
       "      <td>65.831201</td>\n",
       "      <td>Thunderstorms,Heavy Rain Showers</td>\n",
       "    </tr>\n",
       "    <tr>\n",
       "      <th>2010-06-03</th>\n",
       "      <td>16.613007</td>\n",
       "      <td>76</td>\n",
       "      <td>16</td>\n",
       "      <td>10.853522</td>\n",
       "      <td>94.481127</td>\n",
       "      <td>Snow Showers,Fog</td>\n",
       "    </tr>\n",
       "    <tr>\n",
       "      <th>2010-06-04</th>\n",
       "      <td>-0.275604</td>\n",
       "      <td>98</td>\n",
       "      <td>15</td>\n",
       "      <td>5.789525</td>\n",
       "      <td>77.400019</td>\n",
       "      <td>Freezing Drizzle,Haze</td>\n",
       "    </tr>\n",
       "    <tr>\n",
       "      <th>2010-06-05</th>\n",
       "      <td>25.281888</td>\n",
       "      <td>60</td>\n",
       "      <td>30</td>\n",
       "      <td>25.995783</td>\n",
       "      <td>69.181838</td>\n",
       "      <td>Rain Showers,Fog</td>\n",
       "    </tr>\n",
       "  </tbody>\n",
       "</table>\n",
       "</div>"
      ],
      "text/plain": [
       "            Temp (°C)  Rel Hum (%)  Wind Spd (km/h)  Visibility (km)  \\\n",
       "2010-06-01  13.320248           78               24        29.721695   \n",
       "2010-06-02  24.892858           50               24         1.766590   \n",
       "2010-06-03  16.613007           76               16        10.853522   \n",
       "2010-06-04  -0.275604           98               15         5.789525   \n",
       "2010-06-05  25.281888           60               30        25.995783   \n",
       "\n",
       "            Stn Press (kPa)                           Weather  \n",
       "2010-06-01        68.389927                  Snow Showers,Fog  \n",
       "2010-06-02        65.831201  Thunderstorms,Heavy Rain Showers  \n",
       "2010-06-03        94.481127                  Snow Showers,Fog  \n",
       "2010-06-04        77.400019             Freezing Drizzle,Haze  \n",
       "2010-06-05        69.181838                  Rain Showers,Fog  "
      ]
     },
     "execution_count": 17,
     "metadata": {},
     "output_type": "execute_result"
    }
   ],
   "source": [
    "download_weather_month(2012, 1)[:5]"
   ]
  },
  {
   "cell_type": "markdown",
   "id": "12ec9174",
   "metadata": {},
   "source": [
    "Now we can get all the months at once. This will take a little while to run.\n",
    "\n"
   ]
  },
  {
   "cell_type": "code",
   "execution_count": 18,
   "id": "344be5f8",
   "metadata": {
    "scrolled": true
   },
   "outputs": [],
   "source": [
    "data_by_month = [download_weather_month(2012, i) for i in range(1, 13)]"
   ]
  },
  {
   "cell_type": "markdown",
   "id": "7118af1a",
   "metadata": {},
   "source": [
    "Once we have this, it's easy to concatenate all the dataframes together into one big dataframe using pd.concat. And now we have the whole year's data!"
   ]
  },
  {
   "cell_type": "code",
   "execution_count": 19,
   "id": "d7ad8d9d",
   "metadata": {
    "scrolled": true
   },
   "outputs": [],
   "source": [
    "# from pandas.dataframe import DataFrame"
   ]
  },
  {
   "cell_type": "code",
   "execution_count": 20,
   "id": "91c88ee3",
   "metadata": {
    "scrolled": true
   },
   "outputs": [],
   "source": [
    "\n",
    "# from pandas.core.dtypes.generic import ABCDataFrame"
   ]
  },
  {
   "cell_type": "code",
   "execution_count": 21,
   "id": "82c65477",
   "metadata": {
    "scrolled": true
   },
   "outputs": [],
   "source": [
    "# ABCDataFrame??"
   ]
  },
  {
   "cell_type": "code",
   "execution_count": 22,
   "id": "2ded0bee",
   "metadata": {
    "scrolled": true
   },
   "outputs": [],
   "source": [
    "weather_2012 = pd.concat(data_by_month)\n",
    "# weather_2012"
   ]
  },
  {
   "cell_type": "code",
   "execution_count": 24,
   "id": "c2baf957",
   "metadata": {},
   "outputs": [
    {
     "data": {
      "text/html": [
       "<div>\n",
       "<style scoped>\n",
       "    .dataframe tbody tr th:only-of-type {\n",
       "        vertical-align: middle;\n",
       "    }\n",
       "\n",
       "    .dataframe tbody tr th {\n",
       "        vertical-align: top;\n",
       "    }\n",
       "\n",
       "    .dataframe thead th {\n",
       "        text-align: right;\n",
       "    }\n",
       "</style>\n",
       "<table border=\"1\" class=\"dataframe\">\n",
       "  <thead>\n",
       "    <tr style=\"text-align: right;\">\n",
       "      <th></th>\n",
       "      <th>Temp (°C)</th>\n",
       "      <th>Rel Hum (%)</th>\n",
       "      <th>Wind Spd (km/h)</th>\n",
       "      <th>Visibility (km)</th>\n",
       "      <th>Stn Press (kPa)</th>\n",
       "      <th>Weather</th>\n",
       "    </tr>\n",
       "  </thead>\n",
       "  <tbody>\n",
       "    <tr>\n",
       "      <th>2010-06-01</th>\n",
       "      <td>13.320248</td>\n",
       "      <td>78</td>\n",
       "      <td>24</td>\n",
       "      <td>29.721695</td>\n",
       "      <td>68.389927</td>\n",
       "      <td>Snow Showers,Fog</td>\n",
       "    </tr>\n",
       "    <tr>\n",
       "      <th>2010-06-02</th>\n",
       "      <td>24.892858</td>\n",
       "      <td>50</td>\n",
       "      <td>24</td>\n",
       "      <td>1.766590</td>\n",
       "      <td>65.831201</td>\n",
       "      <td>Thunderstorms,Heavy Rain Showers</td>\n",
       "    </tr>\n",
       "    <tr>\n",
       "      <th>2010-06-03</th>\n",
       "      <td>16.613007</td>\n",
       "      <td>76</td>\n",
       "      <td>16</td>\n",
       "      <td>10.853522</td>\n",
       "      <td>94.481127</td>\n",
       "      <td>Snow Showers,Fog</td>\n",
       "    </tr>\n",
       "    <tr>\n",
       "      <th>2010-06-04</th>\n",
       "      <td>-0.275604</td>\n",
       "      <td>98</td>\n",
       "      <td>15</td>\n",
       "      <td>5.789525</td>\n",
       "      <td>77.400019</td>\n",
       "      <td>Freezing Drizzle,Haze</td>\n",
       "    </tr>\n",
       "    <tr>\n",
       "      <th>2010-06-05</th>\n",
       "      <td>25.281888</td>\n",
       "      <td>60</td>\n",
       "      <td>30</td>\n",
       "      <td>25.995783</td>\n",
       "      <td>69.181838</td>\n",
       "      <td>Rain Showers,Fog</td>\n",
       "    </tr>\n",
       "    <tr>\n",
       "      <th>...</th>\n",
       "      <td>...</td>\n",
       "      <td>...</td>\n",
       "      <td>...</td>\n",
       "      <td>...</td>\n",
       "      <td>...</td>\n",
       "      <td>...</td>\n",
       "    </tr>\n",
       "    <tr>\n",
       "      <th>2012-06-09</th>\n",
       "      <td>7.914114</td>\n",
       "      <td>81</td>\n",
       "      <td>28</td>\n",
       "      <td>26.849328</td>\n",
       "      <td>73.890996</td>\n",
       "      <td>Rain,Fog</td>\n",
       "    </tr>\n",
       "    <tr>\n",
       "      <th>2012-06-10</th>\n",
       "      <td>35.131599</td>\n",
       "      <td>98</td>\n",
       "      <td>4</td>\n",
       "      <td>37.428021</td>\n",
       "      <td>56.435623</td>\n",
       "      <td>Rain,Snow</td>\n",
       "    </tr>\n",
       "    <tr>\n",
       "      <th>2012-06-11</th>\n",
       "      <td>4.370810</td>\n",
       "      <td>91</td>\n",
       "      <td>23</td>\n",
       "      <td>19.914401</td>\n",
       "      <td>90.628045</td>\n",
       "      <td>Mostly Cloudy</td>\n",
       "    </tr>\n",
       "    <tr>\n",
       "      <th>2012-06-12</th>\n",
       "      <td>10.796881</td>\n",
       "      <td>93</td>\n",
       "      <td>20</td>\n",
       "      <td>5.222468</td>\n",
       "      <td>51.374028</td>\n",
       "      <td>Snow,Haze</td>\n",
       "    </tr>\n",
       "    <tr>\n",
       "      <th>2012-06-13</th>\n",
       "      <td>10.539481</td>\n",
       "      <td>61</td>\n",
       "      <td>19</td>\n",
       "      <td>21.655435</td>\n",
       "      <td>94.193078</td>\n",
       "      <td>Rain</td>\n",
       "    </tr>\n",
       "  </tbody>\n",
       "</table>\n",
       "<p>8784 rows × 6 columns</p>\n",
       "</div>"
      ],
      "text/plain": [
       "            Temp (°C)  Rel Hum (%)  Wind Spd (km/h)  Visibility (km)  \\\n",
       "2010-06-01  13.320248           78               24        29.721695   \n",
       "2010-06-02  24.892858           50               24         1.766590   \n",
       "2010-06-03  16.613007           76               16        10.853522   \n",
       "2010-06-04  -0.275604           98               15         5.789525   \n",
       "2010-06-05  25.281888           60               30        25.995783   \n",
       "...               ...          ...              ...              ...   \n",
       "2012-06-09   7.914114           81               28        26.849328   \n",
       "2012-06-10  35.131599           98                4        37.428021   \n",
       "2012-06-11   4.370810           91               23        19.914401   \n",
       "2012-06-12  10.796881           93               20         5.222468   \n",
       "2012-06-13  10.539481           61               19        21.655435   \n",
       "\n",
       "            Stn Press (kPa)                           Weather  \n",
       "2010-06-01        68.389927                  Snow Showers,Fog  \n",
       "2010-06-02        65.831201  Thunderstorms,Heavy Rain Showers  \n",
       "2010-06-03        94.481127                  Snow Showers,Fog  \n",
       "2010-06-04        77.400019             Freezing Drizzle,Haze  \n",
       "2010-06-05        69.181838                  Rain Showers,Fog  \n",
       "...                     ...                               ...  \n",
       "2012-06-09        73.890996                          Rain,Fog  \n",
       "2012-06-10        56.435623                         Rain,Snow  \n",
       "2012-06-11        90.628045                     Mostly Cloudy  \n",
       "2012-06-12        51.374028                         Snow,Haze  \n",
       "2012-06-13        94.193078                              Rain  \n",
       "\n",
       "[8784 rows x 6 columns]"
      ]
     },
     "execution_count": 24,
     "metadata": {},
     "output_type": "execute_result"
    }
   ],
   "source": [
    "weather_2012"
   ]
  },
  {
   "cell_type": "markdown",
   "id": "3ad300a3",
   "metadata": {},
   "source": [
    "## Putting it together"
   ]
  },
  {
   "cell_type": "markdown",
   "id": "bdc4b7c7",
   "metadata": {},
   "source": [
    "Now we want to request the full code execution.\n",
    "\n",
    "Let's put all that together, to prove how easy it is. 6 lines of magical pandas!\n",
    "\n",
    "If you want to play around, try changing sum to max, numpy.median, or any other function you like."
   ]
  },
  {
   "cell_type": "code",
   "execution_count": 16,
   "id": "6c381caf",
   "metadata": {
    "scrolled": true
   },
   "outputs": [],
   "source": [
    "# Todo, fix indexes in function"
   ]
  },
  {
   "cell_type": "code",
   "execution_count": 17,
   "id": "ac206e34",
   "metadata": {
    "scrolled": true
   },
   "outputs": [],
   "source": [
    "@sy.syft_function(input_policy=sy.ExactMatch(bikes=asset.mock),\n",
    "                  output_policy=sy.SingleExecutionExactOutput())\n",
    "def get_bike_hist(bikes):\n",
    "    # TODO"
   ]
  },
  {
   "cell_type": "markdown",
   "id": "f460d969",
   "metadata": {},
   "source": [
    "Request code execution"
   ]
  },
  {
   "cell_type": "code",
   "execution_count": 18,
   "id": "df474774",
   "metadata": {
    "scrolled": true
   },
   "outputs": [],
   "source": [
    "req = guest_domain_client.api.services.code.request_code_execution(get_bike_hist)"
   ]
  },
  {
   "cell_type": "code",
   "execution_count": 19,
   "id": "300d599f",
   "metadata": {
    "scrolled": true
   },
   "outputs": [],
   "source": [
    "submitted_code = guest_domain_client.code[0]"
   ]
  },
  {
   "cell_type": "code",
   "execution_count": 20,
   "id": "d99d0119",
   "metadata": {
    "scrolled": true
   },
   "outputs": [],
   "source": [
    "assert guest_domain_client.api.services.code.get_all()"
   ]
  },
  {
   "cell_type": "markdown",
   "id": "e17c5a93",
   "metadata": {},
   "source": [
    "Create and submit project"
   ]
  },
  {
   "cell_type": "code",
   "execution_count": 21,
   "id": "aea06d55",
   "metadata": {
    "scrolled": true
   },
   "outputs": [],
   "source": [
    "new_project = sy.Project(name=\"Pandas Chapter 5\",\n",
    "                         description=\"Hi, get all weather data for 2012\")"
   ]
  },
  {
   "cell_type": "code",
   "execution_count": 22,
   "id": "2b2d6e8e",
   "metadata": {
    "scrolled": true
   },
   "outputs": [],
   "source": [
    "new_project.add_request(obj=submitted_code, permission=sy.UserCodeStatus.EXECUTE)"
   ]
  },
  {
   "cell_type": "code",
   "execution_count": 23,
   "id": "95db8e44",
   "metadata": {
    "scrolled": true
   },
   "outputs": [
    {
     "data": {
      "text/html": [
       "<div class=\"alert-success\" style=\"padding:5px;\"><strong>SyftSuccess</strong>: Project Submitted</div><br />"
      ],
      "text/plain": [
       "<class 'syft.core.node.new.response.SyftSuccess'>: Project Submitted"
      ]
     },
     "execution_count": 23,
     "metadata": {},
     "output_type": "execute_result"
    }
   ],
   "source": [
    "guest_domain_client.submit_project(new_project)"
   ]
  },
  {
   "cell_type": "code",
   "execution_count": null,
   "id": "9a038b70",
   "metadata": {
    "scrolled": true
   },
   "outputs": [],
   "source": []
  }
 ],
 "metadata": {
  "kernelspec": {
   "display_name": "Python 3 (ipykernel)",
   "language": "python",
   "name": "python3"
  },
  "language_info": {
   "codemirror_mode": {
    "name": "ipython",
    "version": 3
   },
   "file_extension": ".py",
   "mimetype": "text/x-python",
   "name": "python",
   "nbconvert_exporter": "python",
   "pygments_lexer": "ipython3",
   "version": "3.9.16"
  },
  "toc": {
   "base_numbering": 1,
   "nav_menu": {},
   "number_sections": true,
   "sideBar": true,
   "skip_h1_title": false,
   "title_cell": "Table of Contents",
   "title_sidebar": "Contents",
   "toc_cell": false,
   "toc_position": {},
   "toc_section_display": true,
   "toc_window_display": true
  }
 },
 "nbformat": 4,
 "nbformat_minor": 5
}
