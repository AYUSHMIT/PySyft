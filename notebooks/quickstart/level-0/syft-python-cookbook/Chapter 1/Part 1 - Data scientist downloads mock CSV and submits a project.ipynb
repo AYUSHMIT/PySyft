{
 "cells": [
  {
   "cell_type": "code",
   "execution_count": null,
   "id": "e0f665a0",
   "metadata": {},
   "outputs": [],
   "source": [
    "from syft import Worker\n",
    "import syft as sy\n",
    "worker = Worker.named(\"test-domain-1\", processes=1, reset=False)\n",
    "root_domain_client = worker.root_client"
   ]
  },
  {
   "cell_type": "code",
   "execution_count": null,
   "id": "40831471",
   "metadata": {},
   "outputs": [],
   "source": [
    "# !rm /var/folders/q1/ryq93kwj055dlbpngxv1c7z40000gn/T/7bca415d13ed1ec841f0d0aede098dbb.sqlite"
   ]
  },
  {
   "cell_type": "markdown",
   "id": "8c9c3595",
   "metadata": {},
   "source": [
    "# Download mock and submit project"
   ]
  },
  {
   "cell_type": "markdown",
   "id": "8c63f823",
   "metadata": {},
   "source": [
    "## Get mock"
   ]
  },
  {
   "cell_type": "code",
   "execution_count": null,
   "id": "d568e3f3",
   "metadata": {},
   "outputs": [],
   "source": [
    "guest_domain_client = worker.guest_client\n",
    "guest_client = guest_domain_client.login(email=\"jane@caltech.edu\", password=\"abc123\")"
   ]
  },
  {
   "cell_type": "code",
   "execution_count": null,
   "id": "81c7f134",
   "metadata": {},
   "outputs": [],
   "source": [
    "ds = guest_domain_client.datasets[0]"
   ]
  },
  {
   "cell_type": "code",
   "execution_count": null,
   "id": "fa97cda8",
   "metadata": {},
   "outputs": [],
   "source": [
    "asset = ds.assets[\"bikes\"]"
   ]
  },
  {
   "cell_type": "code",
   "execution_count": null,
   "id": "b93f1fd8",
   "metadata": {},
   "outputs": [],
   "source": [
    "fixed_df = asset.mock"
   ]
  },
  {
   "cell_type": "markdown",
   "id": "d4d64865",
   "metadata": {},
   "source": [
    "## Selecting a column"
   ]
  },
  {
   "cell_type": "markdown",
   "id": "ba44870a",
   "metadata": {},
   "source": [
    "When you read a CSV, you get a kind of object called a DataFrame, which is made up of rows and columns. You get columns out of a DataFrame the same way you get elements out of a dictionary.\n",
    "\n",
    "Here's an example:"
   ]
  },
  {
   "cell_type": "code",
   "execution_count": null,
   "id": "79184e86",
   "metadata": {},
   "outputs": [],
   "source": [
    "fixed_df['Berri 1']"
   ]
  },
  {
   "cell_type": "markdown",
   "id": "6efa2a5a",
   "metadata": {},
   "source": [
    "## Plotting a column"
   ]
  },
  {
   "cell_type": "markdown",
   "id": "7f1bdd0a",
   "metadata": {},
   "source": [
    "Just add .plot() to the end! How could it be easier? =)\n",
    "\n",
    "We can see that, unsurprisingly, not many people are biking in January, February, and March,"
   ]
  },
  {
   "cell_type": "code",
   "execution_count": null,
   "id": "f151dc95",
   "metadata": {},
   "outputs": [],
   "source": [
    "fixed_df['Berri 1'].plot()"
   ]
  },
  {
   "cell_type": "markdown",
   "id": "b48111b4",
   "metadata": {},
   "source": [
    "We can also plot all the columns just as easily. We'll make it a little bigger, too. You can see that it's more squished together, but all the bike paths behave basically the same -- if it's a bad day for cyclists, it's a bad day everywhere."
   ]
  },
  {
   "cell_type": "code",
   "execution_count": null,
   "id": "3aa37395",
   "metadata": {},
   "outputs": [],
   "source": [
    "fixed_df.plot(figsize=(15, 10))"
   ]
  },
  {
   "cell_type": "markdown",
   "id": "491bbb7e",
   "metadata": {},
   "source": [
    "## Putting that all together"
   ]
  },
  {
   "cell_type": "markdown",
   "id": "bd632663",
   "metadata": {},
   "source": [
    "Here's the code we needed to write do draw that graph, all together:\n",
    "\n"
   ]
  },
  {
   "cell_type": "code",
   "execution_count": null,
   "id": "999ff82c",
   "metadata": {},
   "outputs": [],
   "source": [
    "res = df['Berri 1'].plot()"
   ]
  },
  {
   "cell_type": "code",
   "execution_count": null,
   "id": "ac206e34",
   "metadata": {},
   "outputs": [],
   "source": [
    "@sy.syft_function(input_policy=sy.ExactMatch(df=asset.mock),\n",
    "                  output_policy=sy.SingleExecutionExactOutput())\n",
    "def sum_trade_value_mil(df):\n",
    "    return df['Berri 1']"
   ]
  },
  {
   "cell_type": "markdown",
   "id": "f460d969",
   "metadata": {},
   "source": [
    "Request code execution"
   ]
  },
  {
   "cell_type": "code",
   "execution_count": null,
   "id": "df474774",
   "metadata": {},
   "outputs": [],
   "source": [
    "req = guest_domain_client.api.services.code.request_code_execution(sum_trade_value_mil)\n"
   ]
  },
  {
   "cell_type": "code",
   "execution_count": null,
   "id": "300d599f",
   "metadata": {},
   "outputs": [],
   "source": [
    "submitted_code = guest_domain_client.code[0]"
   ]
  },
  {
   "cell_type": "code",
   "execution_count": null,
   "id": "d99d0119",
   "metadata": {},
   "outputs": [],
   "source": [
    "assert guest_domain_client.api.services.code.get_all()"
   ]
  },
  {
   "cell_type": "markdown",
   "id": "e17c5a93",
   "metadata": {},
   "source": [
    "Create and submit project"
   ]
  },
  {
   "cell_type": "code",
   "execution_count": null,
   "id": "aea06d55",
   "metadata": {},
   "outputs": [],
   "source": [
    "new_project = sy.Project(name=\"My pandas project 2\",\n",
    "                         description=\"Hi, I would like to plot the Berri 1 column.\")"
   ]
  },
  {
   "cell_type": "code",
   "execution_count": null,
   "id": "2b2d6e8e",
   "metadata": {},
   "outputs": [],
   "source": [
    "new_project.add_request(obj=submitted_code, permission=sy.UserCodeStatus.EXECUTE)"
   ]
  },
  {
   "cell_type": "code",
   "execution_count": null,
   "id": "95db8e44",
   "metadata": {},
   "outputs": [],
   "source": [
    "guest_domain_client.submit_project(new_project)"
   ]
  },
  {
   "cell_type": "code",
   "execution_count": null,
   "id": "9a038b70",
   "metadata": {},
   "outputs": [],
   "source": []
  }
 ],
 "metadata": {
  "kernelspec": {
   "display_name": "Python 3 (ipykernel)",
   "language": "python",
   "name": "python3"
  },
  "language_info": {
   "codemirror_mode": {
    "name": "ipython",
    "version": 3
   },
   "file_extension": ".py",
   "mimetype": "text/x-python",
   "name": "python",
   "nbconvert_exporter": "python",
   "pygments_lexer": "ipython3",
   "version": "3.9.16"
  },
  "toc": {
   "base_numbering": 1,
   "nav_menu": {},
   "number_sections": true,
   "sideBar": true,
   "skip_h1_title": false,
   "title_cell": "Table of Contents",
   "title_sidebar": "Contents",
   "toc_cell": false,
   "toc_position": {},
   "toc_section_display": true,
   "toc_window_display": true
  }
 },
 "nbformat": 4,
 "nbformat_minor": 5
}
