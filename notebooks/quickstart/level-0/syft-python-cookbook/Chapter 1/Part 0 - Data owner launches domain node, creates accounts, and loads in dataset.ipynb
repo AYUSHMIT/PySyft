{
 "cells": [
  {
   "cell_type": "markdown",
   "id": "1109216b",
   "metadata": {},
   "source": [
    "## Install"
   ]
  },
  {
   "cell_type": "code",
   "execution_count": null,
   "id": "f2e8fd50",
   "metadata": {},
   "outputs": [],
   "source": [
    "#!pip install pysyft"
   ]
  },
  {
   "cell_type": "code",
   "execution_count": null,
   "id": "0c14c085",
   "metadata": {},
   "outputs": [],
   "source": [
    "# rerun this to reset\n",
    "!rm /var/folders/q1/ryq93kwj055dlbpngxv1c7z40000gn/T/7bca415d13ed1ec841f0d0aede098dbb.sqlite"
   ]
  },
  {
   "cell_type": "code",
   "execution_count": null,
   "id": "34d94705",
   "metadata": {},
   "outputs": [],
   "source": [
    "from syft import Worker\n",
    "import syft as sy\n",
    "worker = Worker.named(\"test-domain-1\", processes=1, reset=False)\n",
    "root_domain_client = worker.root_client"
   ]
  },
  {
   "cell_type": "markdown",
   "id": "da0cf39a",
   "metadata": {},
   "source": [
    "## Load data"
   ]
  },
  {
   "cell_type": "code",
   "execution_count": null,
   "id": "4a92fb68",
   "metadata": {},
   "outputs": [],
   "source": [
    "import pandas as pd\n",
    "import matplotlib.pyplot as plt\n",
    "from datetime import timedelta\n",
    "from dateutil.parser import parse\n",
    "from pandas._libs.tslibs.timestamps import Timestamp"
   ]
  },
  {
   "cell_type": "code",
   "execution_count": null,
   "id": "9b9f5ae1",
   "metadata": {},
   "outputs": [],
   "source": [
    "broken_df = pd.read_csv('../data/bikes.csv',encoding = \"ISO-8859-1\")"
   ]
  },
  {
   "cell_type": "code",
   "execution_count": null,
   "id": "2e8da255",
   "metadata": {},
   "outputs": [],
   "source": [
    "broken_df"
   ]
  },
  {
   "cell_type": "code",
   "execution_count": null,
   "id": "01ccd135",
   "metadata": {},
   "outputs": [],
   "source": [
    "fixed_df = pd.read_csv('../data/bikes.csv', sep=';', encoding='latin1', parse_dates=['Date'], dayfirst=True, index_col='Date')\n",
    "fixed_df[:3]"
   ]
  },
  {
   "cell_type": "code",
   "execution_count": null,
   "id": "ff782f96",
   "metadata": {},
   "outputs": [],
   "source": [
    "import numpy as np\n",
    "from random import randint\n",
    "\n",
    "def get_mock_int(i, var=10):\n",
    "    base = 100 + int(np.cos(i/10) * 50)\n",
    "    return randint(max(base-var, 1),max(1, base+var))\n",
    "\n",
    "def get_mock_date(i):\n",
    "    return str(parse('Jun 1 2005').date() + timedelta(days=i))\n",
    "\n",
    "# some randomness\n",
    "r = [(randint(1, 40), randint(1, 40)) for _ in range(7)]\n",
    "\n",
    "def get_mock_row(i):\n",
    "    res = [get_mock_int(i+r[j][0], r[j][1]) for j in range(7)]\n",
    "    # add NaNs in the second and 10th col\n",
    "    res.insert(1, None), res.insert(9, None)\n",
    "    return res\n",
    "    "
   ]
  },
  {
   "cell_type": "code",
   "execution_count": null,
   "id": "3a5a37db",
   "metadata": {},
   "outputs": [],
   "source": [
    "mock = pd.DataFrame(index=[Timestamp(get_mock_date(i)) for i in range(len(fixed_df))],\n",
    "                    data=[get_mock_row(i) for i in range(len(fixed_df))],\n",
    "                    columns=fixed_df.columns)"
   ]
  },
  {
   "cell_type": "markdown",
   "id": "df9d660e",
   "metadata": {},
   "source": [
    "Upload the data"
   ]
  },
  {
   "cell_type": "code",
   "execution_count": null,
   "id": "5d943349",
   "metadata": {},
   "outputs": [],
   "source": [
    "dataset = sy.Dataset(name=\"test\",\n",
    "                     asset_list=[sy.Asset(name=\"bikes\", data=fixed_df, mock=mock, mock_is_real=False)])\n",
    "root_domain_client.upload_dataset(dataset)\n"
   ]
  },
  {
   "cell_type": "markdown",
   "id": "61a1069e",
   "metadata": {},
   "source": [
    "## Create user account"
   ]
  },
  {
   "cell_type": "code",
   "execution_count": null,
   "id": "5124df8c",
   "metadata": {},
   "outputs": [],
   "source": [
    "user = root_domain_client.register(name=\"Jane Doe\", email=\"jane@caltech.edu\",\n",
    "                            password=\"abc123\", institution=\"Caltech\", website=\"https://www.caltech.edu/\")"
   ]
  },
  {
   "cell_type": "code",
   "execution_count": null,
   "id": "6967e40e",
   "metadata": {},
   "outputs": [],
   "source": [
    "# todo: give user data scientist role"
   ]
  },
  {
   "cell_type": "code",
   "execution_count": null,
   "id": "2bc6a081",
   "metadata": {},
   "outputs": [],
   "source": [
    "guest_domain_client = worker.guest_client"
   ]
  },
  {
   "cell_type": "code",
   "execution_count": null,
   "id": "aebda825",
   "metadata": {},
   "outputs": [],
   "source": [
    "guest_client = guest_domain_client.login(email=\"jane@caltech.edu\", password=\"abc123\")"
   ]
  },
  {
   "cell_type": "code",
   "execution_count": null,
   "id": "c8ed8af6",
   "metadata": {},
   "outputs": [],
   "source": []
  }
 ],
 "metadata": {
  "kernelspec": {
   "display_name": "Python 3 (ipykernel)",
   "language": "python",
   "name": "python3"
  },
  "language_info": {
   "codemirror_mode": {
    "name": "ipython",
    "version": 3
   },
   "file_extension": ".py",
   "mimetype": "text/x-python",
   "name": "python",
   "nbconvert_exporter": "python",
   "pygments_lexer": "ipython3",
   "version": "3.9.16"
  },
  "toc": {
   "base_numbering": 1,
   "nav_menu": {},
   "number_sections": true,
   "sideBar": true,
   "skip_h1_title": false,
   "title_cell": "Table of Contents",
   "title_sidebar": "Contents",
   "toc_cell": false,
   "toc_position": {},
   "toc_section_display": true,
   "toc_window_display": true
  }
 },
 "nbformat": 4,
 "nbformat_minor": 5
}
