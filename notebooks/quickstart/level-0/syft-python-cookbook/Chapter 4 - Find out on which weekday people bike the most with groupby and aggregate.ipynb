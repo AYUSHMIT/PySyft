{
 "cells": [
  {
   "cell_type": "markdown",
   "id": "3d387935",
   "metadata": {},
   "source": [
    "# Find out on which weekday people bike the most with groupby and aggregate"
   ]
  },
  {
   "cell_type": "code",
   "execution_count": 1,
   "id": "66c14a6b",
   "metadata": {},
   "outputs": [],
   "source": [
    "SYFT_VERSION = \">=0.8.1b0,<0.9\"\n",
    "package_string = f'\"syft{SYFT_VERSION}\"'\n",
    "# !pip install {package_string} -f https://whls.blob.core.windows.net/unstable/index.html -q"
   ]
  },
  {
   "cell_type": "code",
   "execution_count": 2,
   "id": "74a3a9fb",
   "metadata": {},
   "outputs": [
    {
     "name": "stderr",
     "output_type": "stream",
     "text": [
      "kj/filesystem-disk-unix.c++:1703: warning: PWD environment variable doesn't match current directory; pwd = /Users/koen/workspace/PySyft\n"
     ]
    },
    {
     "name": "stdout",
     "output_type": "stream",
     "text": [
      "✅ The installed version of syft==0.8.1b2 matches the requirement >=0.8.1b0 and the requirement <0.9\n"
     ]
    }
   ],
   "source": [
    "import syft as sy\n",
    "sy.requires(SYFT_VERSION)"
   ]
  },
  {
   "cell_type": "code",
   "execution_count": 3,
   "id": "cbce68c1",
   "metadata": {},
   "outputs": [
    {
     "name": "stdout",
     "output_type": "stream",
     "text": [
      "Starting pandas-test-domain-4 server on 0.0.0.0:8080\n",
      "SQLite Store Path:\n",
      "!open file:///var/folders/q1/ryq93kwj055dlbpngxv1c7z40000gn/T/9d93c458c001460ab1e25c78b755c632.sqlite\n",
      "\n"
     ]
    }
   ],
   "source": [
    "node = sy.orchestra.launch(name=\"pandas-test-domain-4\", port=8080)"
   ]
  },
  {
   "cell_type": "markdown",
   "id": "21a57a91",
   "metadata": {},
   "source": [
    "# Data owner: upload data"
   ]
  },
  {
   "cell_type": "code",
   "execution_count": 4,
   "id": "3779a9a3",
   "metadata": {},
   "outputs": [],
   "source": [
    "root_domain_client = node.login(email=\"info@openmined.org\", password=\"changethis\")"
   ]
  },
  {
   "cell_type": "markdown",
   "id": "da0cf39a",
   "metadata": {},
   "source": [
    "## Load data"
   ]
  },
  {
   "cell_type": "code",
   "execution_count": 5,
   "id": "4a92fb68",
   "metadata": {},
   "outputs": [],
   "source": [
    "import pandas as pd\n",
    "import matplotlib.pyplot as plt\n",
    "from datetime import timedelta\n",
    "from dateutil.parser import parse\n",
    "from pandas._libs.tslibs.timestamps import Timestamp\n",
    "from syft.service.project.project import Project\n",
    "from syft.util.util import autocache, PANDAS_DATA"
   ]
  },
  {
   "cell_type": "code",
   "execution_count": 6,
   "id": "01ccd135",
   "metadata": {},
   "outputs": [
    {
     "data": {
      "text/html": [
       "<div>\n",
       "<style scoped>\n",
       "    .dataframe tbody tr th:only-of-type {\n",
       "        vertical-align: middle;\n",
       "    }\n",
       "\n",
       "    .dataframe tbody tr th {\n",
       "        vertical-align: top;\n",
       "    }\n",
       "\n",
       "    .dataframe thead th {\n",
       "        text-align: right;\n",
       "    }\n",
       "</style>\n",
       "<table border=\"1\" class=\"dataframe\">\n",
       "  <thead>\n",
       "    <tr style=\"text-align: right;\">\n",
       "      <th></th>\n",
       "      <th>Berri 1</th>\n",
       "      <th>Brébeuf (données non disponibles)</th>\n",
       "      <th>Côte-Sainte-Catherine</th>\n",
       "      <th>Maisonneuve 1</th>\n",
       "      <th>Maisonneuve 2</th>\n",
       "      <th>du Parc</th>\n",
       "      <th>Pierre-Dupuy</th>\n",
       "      <th>Rachel1</th>\n",
       "      <th>St-Urbain (données non disponibles)</th>\n",
       "    </tr>\n",
       "    <tr>\n",
       "      <th>Date</th>\n",
       "      <th></th>\n",
       "      <th></th>\n",
       "      <th></th>\n",
       "      <th></th>\n",
       "      <th></th>\n",
       "      <th></th>\n",
       "      <th></th>\n",
       "      <th></th>\n",
       "      <th></th>\n",
       "    </tr>\n",
       "  </thead>\n",
       "  <tbody>\n",
       "    <tr>\n",
       "      <th>2012-01-01</th>\n",
       "      <td>35</td>\n",
       "      <td>NaN</td>\n",
       "      <td>0</td>\n",
       "      <td>38</td>\n",
       "      <td>51</td>\n",
       "      <td>26</td>\n",
       "      <td>10</td>\n",
       "      <td>16</td>\n",
       "      <td>NaN</td>\n",
       "    </tr>\n",
       "    <tr>\n",
       "      <th>2012-01-02</th>\n",
       "      <td>83</td>\n",
       "      <td>NaN</td>\n",
       "      <td>1</td>\n",
       "      <td>68</td>\n",
       "      <td>153</td>\n",
       "      <td>53</td>\n",
       "      <td>6</td>\n",
       "      <td>43</td>\n",
       "      <td>NaN</td>\n",
       "    </tr>\n",
       "    <tr>\n",
       "      <th>2012-01-03</th>\n",
       "      <td>135</td>\n",
       "      <td>NaN</td>\n",
       "      <td>2</td>\n",
       "      <td>104</td>\n",
       "      <td>248</td>\n",
       "      <td>89</td>\n",
       "      <td>3</td>\n",
       "      <td>58</td>\n",
       "      <td>NaN</td>\n",
       "    </tr>\n",
       "  </tbody>\n",
       "</table>\n",
       "</div>"
      ],
      "text/plain": [
       "            Berri 1  Brébeuf (données non disponibles)  Côte-Sainte-Catherine  \\\n",
       "Date                                                                            \n",
       "2012-01-01       35                                NaN                      0   \n",
       "2012-01-02       83                                NaN                      1   \n",
       "2012-01-03      135                                NaN                      2   \n",
       "\n",
       "            Maisonneuve 1  Maisonneuve 2  du Parc  Pierre-Dupuy  Rachel1  \\\n",
       "Date                                                                       \n",
       "2012-01-01             38             51       26            10       16   \n",
       "2012-01-02             68            153       53             6       43   \n",
       "2012-01-03            104            248       89             3       58   \n",
       "\n",
       "            St-Urbain (données non disponibles)  \n",
       "Date                                             \n",
       "2012-01-01                                  NaN  \n",
       "2012-01-02                                  NaN  \n",
       "2012-01-03                                  NaN  "
      ]
     },
     "execution_count": 6,
     "metadata": {},
     "output_type": "execute_result"
    }
   ],
   "source": [
    "df = pd.read_csv(autocache(f\"{PANDAS_DATA}/bikes.csv\"), sep=';', encoding='latin1', parse_dates=['Date'], dayfirst=True, index_col='Date')\n",
    "df[:3]"
   ]
  },
  {
   "cell_type": "markdown",
   "id": "409c477e",
   "metadata": {},
   "source": [
    "## Create mock data"
   ]
  },
  {
   "cell_type": "code",
   "execution_count": 7,
   "id": "ff782f96",
   "metadata": {},
   "outputs": [],
   "source": [
    "import numpy as np\n",
    "from random import randint\n",
    "\n",
    "def get_mock_int(i, var=10):\n",
    "    base = 100 + int(np.cos(i/10) * 50)\n",
    "    return randint(max(base-var, 1),max(1, base+var))\n",
    "\n",
    "def get_mock_date(i):\n",
    "    return str(parse('Jun 1 2005').date() + timedelta(days=i))\n",
    "\n",
    "# some randomness\n",
    "r = [(randint(1, 40), randint(1, 40)) for _ in range(7)]\n",
    "\n",
    "def get_mock_row(i):\n",
    "    res = [get_mock_int(i+r[j][0], r[j][1]) for j in range(7)]\n",
    "    # add NaNs in the second and 10th col\n",
    "    res.insert(1, None), res.insert(9, None)\n",
    "    return res\n",
    "    "
   ]
  },
  {
   "cell_type": "code",
   "execution_count": 8,
   "id": "3a5a37db",
   "metadata": {},
   "outputs": [],
   "source": [
    "mock = pd.DataFrame(index=[Timestamp(get_mock_date(i)) for i in range(len(df))],\n",
    "                    data=[get_mock_row(i) for i in range(len(df))],\n",
    "                    columns=df.columns)"
   ]
  },
  {
   "cell_type": "markdown",
   "id": "df9d660e",
   "metadata": {},
   "source": [
    "Upload the data"
   ]
  },
  {
   "cell_type": "code",
   "execution_count": 9,
   "id": "5d943349",
   "metadata": {},
   "outputs": [
    {
     "name": "stderr",
     "output_type": "stream",
     "text": [
      "100%|█████████████████████████████████████████████████████████████████████████████████████████████████████████| 1/1 [00:00<00:00,  9.44it/s]"
     ]
    },
    {
     "name": "stdout",
     "output_type": "stream",
     "text": [
      "Uploading: bikes\n"
     ]
    },
    {
     "name": "stderr",
     "output_type": "stream",
     "text": [
      "\n"
     ]
    },
    {
     "data": {
      "text/html": [
       "<div class=\"alert-success\" style=\"padding:5px;\"><strong>SyftSuccess</strong>: Dataset Added</div><br />"
      ],
      "text/plain": [
       "<class 'syft.service.response.SyftSuccess'>: Dataset Added"
      ]
     },
     "execution_count": 9,
     "metadata": {},
     "output_type": "execute_result"
    }
   ],
   "source": [
    "dataset = sy.Dataset(name=\"bikes2\",\n",
    "                     asset_list=[sy.Asset(name=\"bikes\", data=df, mock=mock, mock_is_real=False)])\n",
    "root_domain_client.upload_dataset(dataset)\n"
   ]
  },
  {
   "cell_type": "markdown",
   "id": "83c64f52",
   "metadata": {},
   "source": [
    "## create Data scientist"
   ]
  },
  {
   "cell_type": "code",
   "execution_count": 10,
   "id": "fa3d3842",
   "metadata": {},
   "outputs": [],
   "source": [
    "user = root_domain_client.register(name=\"Jane Doe\", email=\"jane@caltech.edu\",\n",
    "                            password=\"abc123\", institution=\"Caltech\", website=\"https://www.caltech.edu/\")\n",
    "\n",
    "# todo: give user data scientist role\n",
    "\n",
    "guest_domain_client = node.client\n",
    "\n",
    "guest_client = guest_domain_client.login(email=\"jane@caltech.edu\", password=\"abc123\")"
   ]
  },
  {
   "cell_type": "markdown",
   "id": "61a1069e",
   "metadata": {},
   "source": [
    "## Create user account"
   ]
  },
  {
   "cell_type": "markdown",
   "id": "8d405280",
   "metadata": {},
   "source": [
    "# Data Scientist: create syft_function"
   ]
  },
  {
   "cell_type": "markdown",
   "id": "8c9c3595",
   "metadata": {},
   "source": [
    "## Download mock and submit project"
   ]
  },
  {
   "cell_type": "markdown",
   "id": "8c63f823",
   "metadata": {},
   "source": [
    "### Get mock"
   ]
  },
  {
   "cell_type": "code",
   "execution_count": 11,
   "id": "81c7f134",
   "metadata": {},
   "outputs": [],
   "source": [
    "ds = guest_domain_client.datasets[0]"
   ]
  },
  {
   "cell_type": "code",
   "execution_count": 12,
   "id": "fa97cda8",
   "metadata": {},
   "outputs": [],
   "source": [
    "asset = ds.assets[\"bikes\"]"
   ]
  },
  {
   "cell_type": "code",
   "execution_count": 13,
   "id": "92035a7f",
   "metadata": {},
   "outputs": [
    {
     "data": {
      "text/markdown": [
       "```python\n",
       "Asset: bikes\n",
       "Pointer Id: 6459ca06b7d542e3a828f731497c801a\n",
       "Description: None\n",
       "Total Data Subjects: 0\n",
       "Shape: (310, 9)\n",
       "Contributors: 0\n",
       "\n",
       "```"
      ],
      "text/plain": [
       "syft.service.dataset.dataset.Asset"
      ]
     },
     "execution_count": 13,
     "metadata": {},
     "output_type": "execute_result"
    }
   ],
   "source": [
    "asset"
   ]
  },
  {
   "cell_type": "code",
   "execution_count": 14,
   "id": "b93f1fd8",
   "metadata": {},
   "outputs": [],
   "source": [
    "bikes = asset.mock.syft_action_data"
   ]
  },
  {
   "cell_type": "markdown",
   "id": "d4d64865",
   "metadata": {},
   "source": [
    "### Adding a 'weekday' column to our dataframe"
   ]
  },
  {
   "cell_type": "markdown",
   "id": "ba44870a",
   "metadata": {},
   "source": [
    "First, we need to load up the data. We've done this before."
   ]
  },
  {
   "cell_type": "code",
   "execution_count": 15,
   "id": "79184e86",
   "metadata": {},
   "outputs": [
    {
     "data": {
      "text/plain": [
       "<AxesSubplot: >"
      ]
     },
     "execution_count": 15,
     "metadata": {},
     "output_type": "execute_result"
    },
    {
     "data": {
      "image/png": "[encoded data removed]",
      "text/plain": [
       "<Figure size 640x480 with 1 Axes>"
      ]
     },
     "metadata": {},
     "output_type": "display_data"
    }
   ],
   "source": [
    "bikes['Berri 1'].plot()"
   ]
  },
  {
   "cell_type": "markdown",
   "id": "1ceae1fd",
   "metadata": {},
   "source": [
    "Next up, we're just going to look at the Berri bike path. Berri is a street in Montreal, with a pretty important bike path. I use it mostly on my way to the library now, but I used to take it to work sometimes when I worked in Old Montreal.\n",
    "\n",
    "So we're going to create a dataframe with just the Berri bikepath in it"
   ]
  },
  {
   "cell_type": "code",
   "execution_count": 16,
   "id": "36dd344e",
   "metadata": {},
   "outputs": [],
   "source": [
    "berri_bikes = bikes[['Berri 1']].copy()"
   ]
  },
  {
   "cell_type": "code",
   "execution_count": 17,
   "id": "c95258aa",
   "metadata": {},
   "outputs": [
    {
     "data": {
      "text/html": [
       "<div>\n",
       "<style scoped>\n",
       "    .dataframe tbody tr th:only-of-type {\n",
       "        vertical-align: middle;\n",
       "    }\n",
       "\n",
       "    .dataframe tbody tr th {\n",
       "        vertical-align: top;\n",
       "    }\n",
       "\n",
       "    .dataframe thead th {\n",
       "        text-align: right;\n",
       "    }\n",
       "</style>\n",
       "<table border=\"1\" class=\"dataframe\">\n",
       "  <thead>\n",
       "    <tr style=\"text-align: right;\">\n",
       "      <th></th>\n",
       "      <th>Berri 1</th>\n",
       "    </tr>\n",
       "  </thead>\n",
       "  <tbody>\n",
       "    <tr>\n",
       "      <th>2005-06-01</th>\n",
       "      <td>68</td>\n",
       "    </tr>\n",
       "    <tr>\n",
       "      <th>2005-06-02</th>\n",
       "      <td>64</td>\n",
       "    </tr>\n",
       "    <tr>\n",
       "      <th>2005-06-03</th>\n",
       "      <td>30</td>\n",
       "    </tr>\n",
       "    <tr>\n",
       "      <th>2005-06-04</th>\n",
       "      <td>73</td>\n",
       "    </tr>\n",
       "    <tr>\n",
       "      <th>2005-06-05</th>\n",
       "      <td>60</td>\n",
       "    </tr>\n",
       "  </tbody>\n",
       "</table>\n",
       "</div>"
      ],
      "text/plain": [
       "            Berri 1\n",
       "2005-06-01       68\n",
       "2005-06-02       64\n",
       "2005-06-03       30\n",
       "2005-06-04       73\n",
       "2005-06-05       60"
      ]
     },
     "execution_count": 17,
     "metadata": {},
     "output_type": "execute_result"
    }
   ],
   "source": [
    "berri_bikes[:5]"
   ]
  },
  {
   "cell_type": "markdown",
   "id": "7211e961",
   "metadata": {},
   "source": [
    "Next, we need to add a 'weekday' column. Firstly, we can get the weekday from the index. We haven't talked about indexes yet, but the index is what's on the left on the above dataframe, under 'Date'. It's basically all the days of the year."
   ]
  },
  {
   "cell_type": "code",
   "execution_count": 18,
   "id": "6c671d13",
   "metadata": {},
   "outputs": [
    {
     "data": {
      "text/plain": [
       "DatetimeIndex(['2005-06-01', '2005-06-02', '2005-06-03', '2005-06-04',\n",
       "               '2005-06-05', '2005-06-06', '2005-06-07', '2005-06-08',\n",
       "               '2005-06-09', '2005-06-10',\n",
       "               ...\n",
       "               '2006-03-28', '2006-03-29', '2006-03-30', '2006-03-31',\n",
       "               '2006-04-01', '2006-04-02', '2006-04-03', '2006-04-04',\n",
       "               '2006-04-05', '2006-04-06'],\n",
       "              dtype='datetime64[ns]', length=310, freq=None)"
      ]
     },
     "execution_count": 18,
     "metadata": {},
     "output_type": "execute_result"
    }
   ],
   "source": [
    "berri_bikes.index"
   ]
  },
  {
   "cell_type": "markdown",
   "id": "63930b48",
   "metadata": {},
   "source": [
    "You can see that actually some of the days are missing -- only 310 days of the year are actually there. Who knows why.\n",
    "\n",
    "Pandas has a bunch of really great time series functionality, so if we wanted to get the day of the month for each row, we could do it like this:"
   ]
  },
  {
   "cell_type": "code",
   "execution_count": 19,
   "id": "7126fac0",
   "metadata": {},
   "outputs": [
    {
     "data": {
      "text/plain": [
       "Int64Index([ 1,  2,  3,  4,  5,  6,  7,  8,  9, 10,\n",
       "            ...\n",
       "            28, 29, 30, 31,  1,  2,  3,  4,  5,  6],\n",
       "           dtype='int64', length=310)"
      ]
     },
     "execution_count": 19,
     "metadata": {},
     "output_type": "execute_result"
    }
   ],
   "source": [
    "berri_bikes.index.day"
   ]
  },
  {
   "cell_type": "markdown",
   "id": "f9343041",
   "metadata": {},
   "source": [
    "We actually want the weekday, though:"
   ]
  },
  {
   "cell_type": "code",
   "execution_count": 20,
   "id": "ad5b4b69",
   "metadata": {},
   "outputs": [
    {
     "data": {
      "text/plain": [
       "Int64Index([2, 3, 4, 5, 6, 0, 1, 2, 3, 4,\n",
       "            ...\n",
       "            1, 2, 3, 4, 5, 6, 0, 1, 2, 3],\n",
       "           dtype='int64', length=310)"
      ]
     },
     "execution_count": 20,
     "metadata": {},
     "output_type": "execute_result"
    }
   ],
   "source": [
    "berri_bikes.index.weekday"
   ]
  },
  {
   "cell_type": "markdown",
   "id": "b9c89623",
   "metadata": {},
   "source": [
    "These are the days of the week, where 0 is Monday. I found out that 0 was Monday by checking on a calendar.\n",
    "\n",
    "Now that we know how to get the weekday, we can add it as a column in our dataframe like this:"
   ]
  },
  {
   "cell_type": "code",
   "execution_count": 21,
   "id": "71c76eb1",
   "metadata": {},
   "outputs": [
    {
     "data": {
      "text/html": [
       "<div>\n",
       "<style scoped>\n",
       "    .dataframe tbody tr th:only-of-type {\n",
       "        vertical-align: middle;\n",
       "    }\n",
       "\n",
       "    .dataframe tbody tr th {\n",
       "        vertical-align: top;\n",
       "    }\n",
       "\n",
       "    .dataframe thead th {\n",
       "        text-align: right;\n",
       "    }\n",
       "</style>\n",
       "<table border=\"1\" class=\"dataframe\">\n",
       "  <thead>\n",
       "    <tr style=\"text-align: right;\">\n",
       "      <th></th>\n",
       "      <th>Berri 1</th>\n",
       "      <th>weekday</th>\n",
       "    </tr>\n",
       "  </thead>\n",
       "  <tbody>\n",
       "    <tr>\n",
       "      <th>2005-06-01</th>\n",
       "      <td>68</td>\n",
       "      <td>2</td>\n",
       "    </tr>\n",
       "    <tr>\n",
       "      <th>2005-06-02</th>\n",
       "      <td>64</td>\n",
       "      <td>3</td>\n",
       "    </tr>\n",
       "    <tr>\n",
       "      <th>2005-06-03</th>\n",
       "      <td>30</td>\n",
       "      <td>4</td>\n",
       "    </tr>\n",
       "    <tr>\n",
       "      <th>2005-06-04</th>\n",
       "      <td>73</td>\n",
       "      <td>5</td>\n",
       "    </tr>\n",
       "    <tr>\n",
       "      <th>2005-06-05</th>\n",
       "      <td>60</td>\n",
       "      <td>6</td>\n",
       "    </tr>\n",
       "  </tbody>\n",
       "</table>\n",
       "</div>"
      ],
      "text/plain": [
       "            Berri 1  weekday\n",
       "2005-06-01       68        2\n",
       "2005-06-02       64        3\n",
       "2005-06-03       30        4\n",
       "2005-06-04       73        5\n",
       "2005-06-05       60        6"
      ]
     },
     "execution_count": 21,
     "metadata": {},
     "output_type": "execute_result"
    }
   ],
   "source": [
    "berri_bikes.loc[:,'weekday'] = berri_bikes.index.weekday\n",
    "berri_bikes[:5]"
   ]
  },
  {
   "cell_type": "markdown",
   "id": "96cea4f6",
   "metadata": {},
   "source": [
    "### Adding up the cyclists by weekday"
   ]
  },
  {
   "cell_type": "markdown",
   "id": "c0863c13",
   "metadata": {},
   "source": [
    "This turns out to be really easy!\n",
    "\n",
    "Dataframes have a `.groupby()` method that is similar to SQL groupby, if you're familiar with that. I'm not going to explain more about it right now -- if you want to to know more, the [documentation](https://pandas.pydata.org/pandas-docs/stable/user_guide/groupby.html) is really good.\n",
    "\n",
    "In this case, `berri_bikes.groupby('weekday').aggregate(sum)` means \"Group the rows by weekday and then add up all the values with the same weekday\"."
   ]
  },
  {
   "cell_type": "code",
   "execution_count": 22,
   "id": "ec48bb81",
   "metadata": {},
   "outputs": [
    {
     "data": {
      "text/html": [
       "<div>\n",
       "<style scoped>\n",
       "    .dataframe tbody tr th:only-of-type {\n",
       "        vertical-align: middle;\n",
       "    }\n",
       "\n",
       "    .dataframe tbody tr th {\n",
       "        vertical-align: top;\n",
       "    }\n",
       "\n",
       "    .dataframe thead th {\n",
       "        text-align: right;\n",
       "    }\n",
       "</style>\n",
       "<table border=\"1\" class=\"dataframe\">\n",
       "  <thead>\n",
       "    <tr style=\"text-align: right;\">\n",
       "      <th></th>\n",
       "      <th>Berri 1</th>\n",
       "    </tr>\n",
       "    <tr>\n",
       "      <th>weekday</th>\n",
       "      <th></th>\n",
       "    </tr>\n",
       "  </thead>\n",
       "  <tbody>\n",
       "    <tr>\n",
       "      <th>0</th>\n",
       "      <td>4388</td>\n",
       "    </tr>\n",
       "    <tr>\n",
       "      <th>1</th>\n",
       "      <td>4369</td>\n",
       "    </tr>\n",
       "    <tr>\n",
       "      <th>2</th>\n",
       "      <td>4571</td>\n",
       "    </tr>\n",
       "    <tr>\n",
       "      <th>3</th>\n",
       "      <td>4423</td>\n",
       "    </tr>\n",
       "    <tr>\n",
       "      <th>4</th>\n",
       "      <td>4413</td>\n",
       "    </tr>\n",
       "    <tr>\n",
       "      <th>5</th>\n",
       "      <td>4432</td>\n",
       "    </tr>\n",
       "    <tr>\n",
       "      <th>6</th>\n",
       "      <td>4503</td>\n",
       "    </tr>\n",
       "  </tbody>\n",
       "</table>\n",
       "</div>"
      ],
      "text/plain": [
       "         Berri 1\n",
       "weekday         \n",
       "0           4388\n",
       "1           4369\n",
       "2           4571\n",
       "3           4423\n",
       "4           4413\n",
       "5           4432\n",
       "6           4503"
      ]
     },
     "execution_count": 22,
     "metadata": {},
     "output_type": "execute_result"
    }
   ],
   "source": [
    "weekday_counts = berri_bikes.groupby('weekday').aggregate(sum)\n",
    "weekday_counts"
   ]
  },
  {
   "cell_type": "markdown",
   "id": "ed8218fd",
   "metadata": {},
   "source": [
    "It's hard to remember what 0, 1, 2, 3, 4, 5, 6 mean, so we can fix it up and graph it:"
   ]
  },
  {
   "cell_type": "code",
   "execution_count": 23,
   "id": "9a1e5e78",
   "metadata": {},
   "outputs": [],
   "source": [
    "# weekday_counts.index = ['Monday', 'Tuesday', 'Wednesday', 'Thursday', 'Friday', 'Saturday', 'Sunday']\n",
    "# weekday_counts"
   ]
  },
  {
   "cell_type": "code",
   "execution_count": 24,
   "id": "3b9b2bdf",
   "metadata": {},
   "outputs": [
    {
     "data": {
      "text/plain": [
       "<AxesSubplot: xlabel='weekday'>"
      ]
     },
     "execution_count": 24,
     "metadata": {},
     "output_type": "execute_result"
    },
    {
     "data": {
      "image/png": "[encoded data removed]",
      "text/plain": [
       "<Figure size 640x480 with 1 Axes>"
      ]
     },
     "metadata": {},
     "output_type": "display_data"
    }
   ],
   "source": [
    "weekday_counts.plot(kind='bar')"
   ]
  },
  {
   "cell_type": "markdown",
   "id": "15c4becc",
   "metadata": {},
   "source": [
    "So it looks like Montrealers are commuter cyclists -- they bike much more during the week. Neat!"
   ]
  },
  {
   "cell_type": "markdown",
   "id": "3ad300a3",
   "metadata": {},
   "source": [
    "### Putting it together"
   ]
  },
  {
   "cell_type": "markdown",
   "id": "bdc4b7c7",
   "metadata": {},
   "source": [
    "Now we want to request the full code execution.\n",
    "\n",
    "Let's put all that together, to prove how easy it is. 6 lines of magical pandas!\n",
    "\n",
    "If you want to play around, try changing sum to max, numpy.median, or any other function you like."
   ]
  },
  {
   "cell_type": "code",
   "execution_count": 25,
   "id": "6c381caf",
   "metadata": {},
   "outputs": [],
   "source": [
    "# Todo, fix indexes in function"
   ]
  },
  {
   "cell_type": "code",
   "execution_count": 26,
   "id": "ac206e34",
   "metadata": {},
   "outputs": [],
   "source": [
    "@sy.syft_function(input_policy=sy.ExactMatch(bikes=asset.mock),\n",
    "                  output_policy=sy.SingleExecutionExactOutput())\n",
    "def get_bike_hist(bikes):\n",
    "    berri_bikes = bikes[['Berri 1']].copy()\n",
    "    berri_bikes.loc[:,'weekday'] = berri_bikes.index.weekday\n",
    "    weekday_counts = berri_bikes.groupby('weekday').aggregate(sum)\n",
    "    return weekday_counts"
   ]
  },
  {
   "cell_type": "markdown",
   "id": "f460d969",
   "metadata": {},
   "source": [
    "Request code execution"
   ]
  },
  {
   "cell_type": "code",
   "execution_count": 27,
   "id": "df474774",
   "metadata": {},
   "outputs": [],
   "source": [
    "req = guest_domain_client.api.services.code.request_code_execution(get_bike_hist)"
   ]
  },
  {
   "cell_type": "code",
   "execution_count": 28,
   "id": "300d599f",
   "metadata": {},
   "outputs": [],
   "source": [
    "submitted_code = guest_domain_client.code[0]"
   ]
  },
  {
   "cell_type": "code",
   "execution_count": 29,
   "id": "d99d0119",
   "metadata": {},
   "outputs": [],
   "source": [
    "assert guest_domain_client.api.services.code.get_all()"
   ]
  },
  {
   "cell_type": "markdown",
   "id": "e17c5a93",
   "metadata": {},
   "source": [
    "Create and submit project"
   ]
  },
  {
   "cell_type": "code",
   "execution_count": 30,
   "id": "aea06d55",
   "metadata": {},
   "outputs": [],
   "source": [
    "new_project = sy.Project(name=\"Pandas Chapter 4\",\n",
    "                         description=\"Hi, I would like to plot histogram of bikers per weekday\")"
   ]
  },
  {
   "cell_type": "code",
   "execution_count": 31,
   "id": "2b2d6e8e",
   "metadata": {},
   "outputs": [],
   "source": [
    "new_project.add_request(obj=submitted_code, permission=sy.UserCodeStatus.EXECUTE)"
   ]
  },
  {
   "cell_type": "code",
   "execution_count": 32,
   "id": "95db8e44",
   "metadata": {},
   "outputs": [
    {
     "data": {
      "text/html": [
       "<div class=\"alert-success\" style=\"padding:5px;\"><strong>SyftSuccess</strong>: Project Submitted</div><br />"
      ],
      "text/plain": [
       "<class 'syft.service.response.SyftSuccess'>: Project Submitted"
      ]
     },
     "execution_count": 32,
     "metadata": {},
     "output_type": "execute_result"
    }
   ],
   "source": [
    "guest_domain_client.submit_project(new_project)"
   ]
  },
  {
   "cell_type": "markdown",
   "id": "fa72779d",
   "metadata": {},
   "source": [
    "# Data owner: execute syft_function"
   ]
  },
  {
   "cell_type": "code",
   "execution_count": 33,
   "id": "16908022",
   "metadata": {},
   "outputs": [],
   "source": [
    "from syft import MessageStatus"
   ]
  },
  {
   "cell_type": "code",
   "execution_count": 34,
   "id": "3e4677a6",
   "metadata": {},
   "outputs": [],
   "source": [
    "root_domain_client = node.login(email=\"info@openmined.org\", password=\"changethis\")"
   ]
  },
  {
   "cell_type": "markdown",
   "id": "5f4bded4",
   "metadata": {},
   "source": [
    "## Get messages"
   ]
  },
  {
   "cell_type": "code",
   "execution_count": 35,
   "id": "6ebec184",
   "metadata": {},
   "outputs": [],
   "source": [
    "messages = root_domain_client.api.services.messages.get_all_for_status(MessageStatus.UNDELIVERED)"
   ]
  },
  {
   "cell_type": "code",
   "execution_count": 36,
   "id": "34a83d8f",
   "metadata": {},
   "outputs": [
    {
     "data": {
      "text/html": [
       "List - Size: 2\n",
       "<div>\n",
       "<style scoped>\n",
       "    .dataframe tbody tr th:only-of-type {\n",
       "        vertical-align: middle;\n",
       "    }\n",
       "\n",
       "    .dataframe tbody tr th {\n",
       "        vertical-align: top;\n",
       "    }\n",
       "\n",
       "    .dataframe thead th {\n",
       "        text-align: right;\n",
       "    }\n",
       "</style>\n",
       "<table border=\"1\" class=\"dataframe\">\n",
       "  <thead>\n",
       "    <tr style=\"text-align: right;\">\n",
       "      <th></th>\n",
       "      <th>type</th>\n",
       "      <th>id</th>\n",
       "      <th>subject</th>\n",
       "      <th>status</th>\n",
       "      <th>created_at</th>\n",
       "      <th>linked_obj</th>\n",
       "    </tr>\n",
       "  </thead>\n",
       "  <tbody>\n",
       "    <tr>\n",
       "      <th>0</th>\n",
       "      <td>syft.service.message.messages.Message</td>\n",
       "      <td>deee7690687b443fb12daa1a09bcf6d8</td>\n",
       "      <td>Approval Request</td>\n",
       "      <td>MessageStatus.UNDELIVERED</td>\n",
       "      <td>2023-05-16 08:52:04</td>\n",
       "      <td>&lt;&lt;class 'syft.service.request.request.Request'...</td>\n",
       "    </tr>\n",
       "    <tr>\n",
       "      <th>1</th>\n",
       "      <td>syft.service.message.messages.Message</td>\n",
       "      <td>8a2ce16b21f846fc97d0acc97eba9a68</td>\n",
       "      <td>Project Approval</td>\n",
       "      <td>MessageStatus.UNDELIVERED</td>\n",
       "      <td>2023-05-16 08:52:05</td>\n",
       "      <td>&lt;&lt;class 'syft.service.project.project.Project'...</td>\n",
       "    </tr>\n",
       "  </tbody>\n",
       "</table>\n",
       "</div>"
      ],
      "text/plain": [
       "[syft.service.message.messages.Message, syft.service.message.messages.Message]"
      ]
     },
     "execution_count": 36,
     "metadata": {},
     "output_type": "execute_result"
    }
   ],
   "source": [
    "messages"
   ]
  },
  {
   "cell_type": "code",
   "execution_count": 37,
   "id": "f491713c",
   "metadata": {},
   "outputs": [],
   "source": [
    "project_message = [x for x in messages if issubclass(x.linked_obj.object_type, Project)][0]"
   ]
  },
  {
   "cell_type": "code",
   "execution_count": 39,
   "id": "e450a3af",
   "metadata": {},
   "outputs": [],
   "source": [
    "request = project_message.link.requests[0]\n",
    "func = request.changes[0].link\n",
    "op = func.output_policy_type"
   ]
  },
  {
   "cell_type": "code",
   "execution_count": 40,
   "id": "cd5822af",
   "metadata": {},
   "outputs": [
    {
     "data": {
      "text/markdown": [
       "```python\n",
       "class UserCode:\n",
       "  id: str = 6ace011dc8194001a458ed13f1cef311\n",
       "  node_uid: str = 9d93c458c001460ab1e25c78b755c632\n",
       "  user_verify_key: str = 97a237303acfb544db2a870f3c660fa4d0c79a9a7a79228945d888abcbb0e40b\n",
       "  raw_code: str = \"@sy.syft_function(input_policy=sy.ExactMatch(bikes=asset.mock),\n",
       "                  output_policy=sy.SingleExecutionExactOutput())\n",
       "def get_bike_hist(bikes):\n",
       "    berri_bikes = bikes[['Berri 1']].copy()\n",
       "    berri_bikes.loc[:,'weekday'] = berri_bikes.index.weekday\n",
       "    weekday_counts = berri_bikes.groupby('weekday').aggregate(sum)\n",
       "    return weekday_counts\n",
       "\"\n",
       "  input_policy_type: str = <class 'syft.service.policy.policy.ExactMatch'>\n",
       "  input_policy_init_kwargs: str = {NodeView(node_name='pandas-test-domain-4', verify_key=0998efca576ed4859d243a97d30253827059160f9ec9a135e99f66b8e61c0b62): {'bikes': <UID: 6459ca06b7d542e3a828f731497c801a>}}\n",
       "  input_policy_state: str = b''\n",
       "  output_policy_type: str = <class 'syft.service.policy.policy.OutputPolicyExecuteOnce'>\n",
       "  output_policy_init_kwargs: str = {}\n",
       "  output_policy_state: str = b''\n",
       "  parsed_code: str = \"def user_func_get_bike_hist_97a237303acfb544db2a870f3c660fa4d0c79a9a7a79228945d888abcbb0e40b_8d8256c2fdc5571401947971c192627c1969ce527c7715d90da86fa9f28c9558(bikes):\n",
       "\n",
       "    def get_bike_hist(bikes):\n",
       "        berri_bikes = bikes[['Berri 1']].copy()\n",
       "        berri_bikes.loc[:, 'weekday'] = berri_bikes.index.weekday\n",
       "        weekday_counts = berri_bikes.groupby('weekday').aggregate(sum)\n",
       "        return weekday_counts\n",
       "    result = get_bike_hist(bikes=bikes)\n",
       "    return result\"\n",
       "  service_func_name: str = \"get_bike_hist\"\n",
       "  unique_func_name: str = \"user_func_get_bike_hist_97a237303acfb544db2a870f3c660fa4d0c79a9a7a79228945d888abcbb0e40b_8d8256c2fdc5571401947971c192627c1969ce527c7715d90da86fa9f28c9558\"\n",
       "  user_unique_func_name: str = \"user_func_get_bike_hist_97a237303acfb544db2a870f3c660fa4d0c79a9a7a79228945d888abcbb0e40b\"\n",
       "  code_hash: str = \"8d8256c2fdc5571401947971c192627c1969ce527c7715d90da86fa9f28c9558\"\n",
       "  signature: str = (bikes)\n",
       "  status: str = {NodeView(node_name='pandas-test-domain-4', verify_key=0998efca576ed4859d243a97d30253827059160f9ec9a135e99f66b8e61c0b62): <UserCodeStatus.SUBMITTED: 'submitted'>}\n",
       "  input_kwargs: str = ['bikes']\n",
       "  enclave_metadata: str = None\n",
       "\n",
       "```"
      ],
      "text/plain": [
       "syft.service.code.user_code.UserCode"
      ]
     },
     "execution_count": 40,
     "metadata": {},
     "output_type": "execute_result"
    }
   ],
   "source": [
    "func"
   ]
  },
  {
   "cell_type": "code",
   "execution_count": 41,
   "id": "c173017d",
   "metadata": {},
   "outputs": [
    {
     "name": "stdout",
     "output_type": "stream",
     "text": [
      "WARNING: This code was submitted by a User and could be UNSAFE.\n"
     ]
    }
   ],
   "source": [
    "get_col_user_function = func.unsafe_function"
   ]
  },
  {
   "cell_type": "code",
   "execution_count": 42,
   "id": "3a708eb0",
   "metadata": {},
   "outputs": [],
   "source": [
    "real_data = root_domain_client.datasets[0].assets[0].data"
   ]
  },
  {
   "cell_type": "code",
   "execution_count": 43,
   "id": "34fc6c8b",
   "metadata": {},
   "outputs": [],
   "source": [
    "real_result = get_col_user_function(bikes=real_data)"
   ]
  },
  {
   "cell_type": "code",
   "execution_count": 44,
   "id": "9257487b",
   "metadata": {},
   "outputs": [],
   "source": [
    "bikes=real_data.syft_action_data\n",
    "berri_bikes = bikes[['Berri 1']].copy()\n",
    "berri_bikes.loc[:,'weekday'] = berri_bikes.index.weekday\n",
    "weekday_counts = berri_bikes.groupby('weekday').aggregate(sum)\n",
    "real_result = weekday_counts"
   ]
  },
  {
   "cell_type": "code",
   "execution_count": 45,
   "id": "f25c2403",
   "metadata": {},
   "outputs": [
    {
     "data": {
      "text/html": [
       "<div>\n",
       "<style scoped>\n",
       "    .dataframe tbody tr th:only-of-type {\n",
       "        vertical-align: middle;\n",
       "    }\n",
       "\n",
       "    .dataframe tbody tr th {\n",
       "        vertical-align: top;\n",
       "    }\n",
       "\n",
       "    .dataframe thead th {\n",
       "        text-align: right;\n",
       "    }\n",
       "</style>\n",
       "<table border=\"1\" class=\"dataframe\">\n",
       "  <thead>\n",
       "    <tr style=\"text-align: right;\">\n",
       "      <th></th>\n",
       "      <th>Berri 1</th>\n",
       "    </tr>\n",
       "    <tr>\n",
       "      <th>weekday</th>\n",
       "      <th></th>\n",
       "    </tr>\n",
       "  </thead>\n",
       "  <tbody>\n",
       "    <tr>\n",
       "      <th>0</th>\n",
       "      <td>134298</td>\n",
       "    </tr>\n",
       "    <tr>\n",
       "      <th>1</th>\n",
       "      <td>135305</td>\n",
       "    </tr>\n",
       "    <tr>\n",
       "      <th>2</th>\n",
       "      <td>152972</td>\n",
       "    </tr>\n",
       "  </tbody>\n",
       "</table>\n",
       "</div>"
      ],
      "text/plain": [
       "         Berri 1\n",
       "weekday         \n",
       "0         134298\n",
       "1         135305\n",
       "2         152972"
      ]
     },
     "execution_count": 45,
     "metadata": {},
     "output_type": "execute_result"
    }
   ],
   "source": [
    "real_result[:3]"
   ]
  },
  {
   "cell_type": "code",
   "execution_count": 46,
   "id": "60adc73c",
   "metadata": {},
   "outputs": [],
   "source": [
    "result = request.accept_by_depositing_result(real_result)\n",
    "result\n",
    "assert isinstance(result, sy.SyftSuccess)"
   ]
  },
  {
   "cell_type": "markdown",
   "id": "33153a46",
   "metadata": {},
   "source": [
    "# Data scientist: fetch result"
   ]
  },
  {
   "cell_type": "code",
   "execution_count": 47,
   "id": "d4d913d0",
   "metadata": {},
   "outputs": [],
   "source": [
    "asset = guest_client.datasets[0].assets[0]"
   ]
  },
  {
   "cell_type": "code",
   "execution_count": 48,
   "id": "b302702f",
   "metadata": {},
   "outputs": [
    {
     "data": {
      "text/plain": [
       "{NodeView(node_name='pandas-test-domain-4', verify_key=0998efca576ed4859d243a97d30253827059160f9ec9a135e99f66b8e61c0b62): <UserCodeStatus.EXECUTE: 'execute'>}"
      ]
     },
     "execution_count": 48,
     "metadata": {},
     "output_type": "execute_result"
    }
   ],
   "source": [
    "guest_client.api.services.code[0].status"
   ]
  },
  {
   "cell_type": "code",
   "execution_count": 49,
   "id": "7093dad3",
   "metadata": {},
   "outputs": [
    {
     "data": {
      "text/markdown": [
       "```python\n",
       "Pointer\n",
       "```\n",
       "<AxesSubplot: xlabel='weekday'>"
      ],
      "text/plain": [
       "Pointer:\n",
       "AxesSubplot(0.125,0.11;0.775x0.77)"
      ]
     },
     "execution_count": 49,
     "metadata": {},
     "output_type": "execute_result"
    },
    {
     "data": {
      "image/png": "[encoded data removed]",
      "text/plain": [
       "<Figure size 640x480 with 1 Axes>"
      ]
     },
     "metadata": {},
     "output_type": "display_data"
    }
   ],
   "source": [
    "real_result = guest_client.api.services.code.get_bike_hist(bikes=asset)\n",
    "real_result.plot(kind=\"bar\")"
   ]
  },
  {
   "cell_type": "code",
   "execution_count": null,
   "id": "178f9ca1",
   "metadata": {},
   "outputs": [],
   "source": []
  }
 ],
 "metadata": {
  "kernelspec": {
   "display_name": "Python 3 (ipykernel)",
   "language": "python",
   "name": "python3"
  },
  "language_info": {
   "codemirror_mode": {
    "name": "ipython",
    "version": 3
   },
   "file_extension": ".py",
   "mimetype": "text/x-python",
   "name": "python",
   "nbconvert_exporter": "python",
   "pygments_lexer": "ipython3",
   "version": "3.9.16"
  },
  "toc": {
   "base_numbering": 1,
   "nav_menu": {},
   "number_sections": true,
   "sideBar": true,
   "skip_h1_title": false,
   "title_cell": "Table of Contents",
   "title_sidebar": "Contents",
   "toc_cell": false,
   "toc_position": {
    "height": "calc(100% - 180px)",
    "left": "10px",
    "top": "150px",
    "width": "358.398px"
   },
   "toc_section_display": true,
   "toc_window_display": true
  }
 },
 "nbformat": 4,
 "nbformat_minor": 5
}
