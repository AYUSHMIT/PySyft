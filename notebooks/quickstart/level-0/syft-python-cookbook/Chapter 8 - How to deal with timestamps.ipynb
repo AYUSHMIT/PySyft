{
 "cells": [
  {
   "cell_type": "markdown",
   "id": "2a6747c8",
   "metadata": {},
   "source": [
    "# How to deal with timestamps"
   ]
  },
  {
   "cell_type": "markdown",
   "id": "5144da74",
   "metadata": {},
   "source": [
    "## Install"
   ]
  },
  {
   "cell_type": "code",
   "execution_count": 2,
   "id": "66c14a6b",
   "metadata": {},
   "outputs": [],
   "source": [
    "SYFT_VERSION = \">=0.8.1b0,<0.9\"\n",
    "package_string = f'\"syft{SYFT_VERSION}\"'\n",
    "!pip install {package_string} -f https://whls.blob.core.windows.net/unstable/index.html -q"
   ]
  },
  {
   "cell_type": "code",
   "execution_count": 3,
   "id": "74a3a9fb",
   "metadata": {},
   "outputs": [
    {
     "name": "stdout",
     "output_type": "stream",
     "text": [
      "✅ The installed version of syft==0.8.1b2 matches the requirement >=0.8.1b0 and the requirement <0.9\n"
     ]
    }
   ],
   "source": [
    "import syft as sy\n",
    "sy.requires(SYFT_VERSION)"
   ]
  },
  {
   "cell_type": "code",
   "execution_count": 4,
   "id": "cbce68c1",
   "metadata": {},
   "outputs": [
    {
     "name": "stdout",
     "output_type": "stream",
     "text": [
      "Starting pandas-test-domain-1 server on 0.0.0.0:8080\n",
      "SQLite Store Path:\n",
      "!open file:///var/folders/6_/7xx0tpq16h9cn40mq4w5gjk80000gn/T/eee436ccb7f044c4815c373f3fcf283d.sqlite\n",
      "\n"
     ]
    }
   ],
   "source": [
    "node = sy.orchestra.launch(name=\"pandas-test-domain-1\", port=8080, reset=True)"
   ]
  },
  {
   "cell_type": "markdown",
   "id": "ec3bce2f",
   "metadata": {},
   "source": [
    "# Data owner: upload dataset"
   ]
  },
  {
   "cell_type": "code",
   "execution_count": 5,
   "id": "dc5a5a72",
   "metadata": {},
   "outputs": [],
   "source": [
    "root_domain_client = node.login(email=\"info@openmined.org\", password=\"changethis\")"
   ]
  },
  {
   "cell_type": "markdown",
   "id": "da0cf39a",
   "metadata": {},
   "source": [
    "## Load data"
   ]
  },
  {
   "cell_type": "markdown",
   "id": "ddb684cf",
   "metadata": {},
   "source": [
    "It's not obvious how to deal with Unix timestamps in pandas -- it took me quite a while to figure this out. The file we're using here is a popularity-contest file I found on my system at /var/log/popularity-contest."
   ]
  },
  {
   "cell_type": "code",
   "execution_count": 6,
   "id": "29334026",
   "metadata": {},
   "outputs": [],
   "source": [
    "%matplotlib inline\n",
    "import pandas as pd\n",
    "import matplotlib.pyplot as plt\n",
    "import numpy as np\n",
    "from syft.service.project.project import Project\n",
    "from syft.util.util import autocache, PANDAS_DATA\n",
    "\n",
    "plt.style.use('ggplot')\n",
    "plt.rcParams['figure.figsize'] = (15, 3)\n",
    "plt.rcParams['font.family'] = 'sans-serif'"
   ]
  },
  {
   "cell_type": "code",
   "execution_count": 7,
   "id": "01ccd135",
   "metadata": {},
   "outputs": [],
   "source": [
    "popcon = pd.read_csv(autocache(f\"{PANDAS_DATA}/popularity-contest\"), sep=' ', )[:-1]\n",
    "popcon.columns = ['atime', 'ctime', 'package-name', 'mru-program', 'tag']"
   ]
  },
  {
   "cell_type": "code",
   "execution_count": 8,
   "id": "c9fe710c",
   "metadata": {},
   "outputs": [
    {
     "data": {
      "text/plain": [
       "{'<OLD>', '<RECENT-CTIME>', nan}"
      ]
     },
     "execution_count": 8,
     "metadata": {},
     "output_type": "execute_result"
    }
   ],
   "source": [
    "set(popcon[\"tag\"])"
   ]
  },
  {
   "cell_type": "markdown",
   "id": "409c477e",
   "metadata": {},
   "source": [
    "## Create mock data"
   ]
  },
  {
   "cell_type": "markdown",
   "id": "2c4999d5",
   "metadata": {},
   "source": [
    "Lets create a mock dataset"
   ]
  },
  {
   "cell_type": "code",
   "execution_count": 9,
   "id": "4a0fe359",
   "metadata": {},
   "outputs": [],
   "source": [
    "# weather_types = set(weather_2012_final.Weather.to_list())"
   ]
  },
  {
   "cell_type": "code",
   "execution_count": 10,
   "id": "d2ddc88d",
   "metadata": {},
   "outputs": [],
   "source": [
    "from random import randint\n",
    "import random"
   ]
  },
  {
   "cell_type": "code",
   "execution_count": 11,
   "id": "35bfb68b",
   "metadata": {},
   "outputs": [],
   "source": [
    "def get_random_timestamp():\n",
    "    return \"135\" + \"\".join([str(randint(0,9)) for i in range(6)])"
   ]
  },
  {
   "cell_type": "code",
   "execution_count": 12,
   "id": "7db7b9af",
   "metadata": {},
   "outputs": [],
   "source": [
    "def get_mock_date(i):\n",
    "    return str(parse('Jun 1 2010') + timedelta(days=i))\n",
    "\n",
    "def get_mock_row(i):\n",
    "    res = dict()\n",
    "    for k, function in mock_functions.items():\n",
    "        res[k] = function()\n",
    "    return res\n",
    "    "
   ]
  },
  {
   "cell_type": "code",
   "execution_count": 13,
   "id": "090f5a59",
   "metadata": {},
   "outputs": [],
   "source": [
    "mock_functions = {'atime': lambda: get_random_timestamp(),\n",
    "                  'ctime': lambda: get_random_timestamp(),\n",
    "                  'package-name': lambda: random.choice([\n",
    "                      'libghc-stm-dev',\n",
    "                      'libqtdee-dev',\n",
    "                      'geoclue-ubuntu-geoip',\n",
    "                      'libdesktop-agnostic0',\n",
    "                      'ubuntu-extras-keyring',\n",
    "                      'libbsd0',\n",
    "                      'libxres-dev']),\n",
    "                  'mru-program': lambda: random.choice([\n",
    "                      '/usr/bin/opam',\n",
    "                      '/usr/bin/onboard',\n",
    "                      '/lib/init/upstart-job',\n",
    "                      '/usr/bin/page',\n",
    "                  ]),\n",
    "                  'tag': lambda: random.choice(['<OLD>', '<RECENT-CTIME>', 'nan'])}\n"
   ]
  },
  {
   "cell_type": "code",
   "execution_count": 14,
   "id": "7a7e70a6",
   "metadata": {},
   "outputs": [],
   "source": [
    "mock = pd.DataFrame(data=[get_mock_row(i) for i in range(len(popcon))],\n",
    "                    columns=popcon.columns)\n",
    "    \n"
   ]
  },
  {
   "cell_type": "markdown",
   "id": "d11fc4b8",
   "metadata": {},
   "source": [
    "Upload the data"
   ]
  },
  {
   "cell_type": "code",
   "execution_count": 15,
   "id": "e370b8b3",
   "metadata": {},
   "outputs": [
    {
     "name": "stderr",
     "output_type": "stream",
     "text": [
      "100%|█| 1/1 [00:00<00"
     ]
    },
    {
     "name": "stdout",
     "output_type": "stream",
     "text": [
      "Uploading: weather\n"
     ]
    },
    {
     "name": "stderr",
     "output_type": "stream",
     "text": [
      "\n"
     ]
    },
    {
     "data": {
      "text/html": [
       "<div class=\"alert-success\" style=\"padding:5px;\"><strong>SyftSuccess</strong>: Dataset Added</div><br />"
      ],
      "text/plain": [
       "<class 'syft.service.response.SyftSuccess'>: Dataset Added"
      ]
     },
     "execution_count": 15,
     "metadata": {},
     "output_type": "execute_result"
    }
   ],
   "source": [
    "dataset = sy.Dataset(name=\"test\", asset_list=[sy.Asset(name=f\"weather\", data=popcon,\n",
    "                                                       mock=mock, mock_is_real=False)])\n",
    "root_domain_client.upload_dataset(dataset)\n"
   ]
  },
  {
   "cell_type": "code",
   "execution_count": 16,
   "id": "3eb6aef9",
   "metadata": {},
   "outputs": [
    {
     "data": {
      "text/html": [
       "<div>\n",
       "<style scoped>\n",
       "    .dataframe tbody tr th:only-of-type {\n",
       "        vertical-align: middle;\n",
       "    }\n",
       "\n",
       "    .dataframe tbody tr th {\n",
       "        vertical-align: top;\n",
       "    }\n",
       "\n",
       "    .dataframe thead th {\n",
       "        text-align: right;\n",
       "    }\n",
       "</style>\n",
       "<table border=\"1\" class=\"dataframe\">\n",
       "  <thead>\n",
       "    <tr style=\"text-align: right;\">\n",
       "      <th></th>\n",
       "      <th>atime</th>\n",
       "      <th>ctime</th>\n",
       "      <th>package-name</th>\n",
       "      <th>mru-program</th>\n",
       "      <th>tag</th>\n",
       "    </tr>\n",
       "  </thead>\n",
       "  <tbody>\n",
       "    <tr>\n",
       "      <th>0</th>\n",
       "      <td>1387295797</td>\n",
       "      <td>1367633260</td>\n",
       "      <td>perl-base</td>\n",
       "      <td>/usr/bin/perl</td>\n",
       "      <td>NaN</td>\n",
       "    </tr>\n",
       "    <tr>\n",
       "      <th>1</th>\n",
       "      <td>1387295796</td>\n",
       "      <td>1354370480</td>\n",
       "      <td>login</td>\n",
       "      <td>/bin/su</td>\n",
       "      <td>NaN</td>\n",
       "    </tr>\n",
       "    <tr>\n",
       "      <th>2</th>\n",
       "      <td>1387295743</td>\n",
       "      <td>1354341275</td>\n",
       "      <td>libtalloc2</td>\n",
       "      <td>/usr/lib/x86_64-linux-gnu/libtalloc.so.2.0.7</td>\n",
       "      <td>NaN</td>\n",
       "    </tr>\n",
       "    <tr>\n",
       "      <th>3</th>\n",
       "      <td>1387295743</td>\n",
       "      <td>1387224204</td>\n",
       "      <td>libwbclient0</td>\n",
       "      <td>/usr/lib/x86_64-linux-gnu/libwbclient.so.0</td>\n",
       "      <td>&lt;RECENT-CTIME&gt;</td>\n",
       "    </tr>\n",
       "    <tr>\n",
       "      <th>4</th>\n",
       "      <td>1387295742</td>\n",
       "      <td>1354341253</td>\n",
       "      <td>libselinux1</td>\n",
       "      <td>/lib/x86_64-linux-gnu/libselinux.so.1</td>\n",
       "      <td>NaN</td>\n",
       "    </tr>\n",
       "  </tbody>\n",
       "</table>\n",
       "</div>"
      ],
      "text/plain": [
       "        atime       ctime  package-name  \\\n",
       "0  1387295797  1367633260     perl-base   \n",
       "1  1387295796  1354370480         login   \n",
       "2  1387295743  1354341275    libtalloc2   \n",
       "3  1387295743  1387224204  libwbclient0   \n",
       "4  1387295742  1354341253   libselinux1   \n",
       "\n",
       "                                    mru-program             tag  \n",
       "0                                 /usr/bin/perl             NaN  \n",
       "1                                       /bin/su             NaN  \n",
       "2  /usr/lib/x86_64-linux-gnu/libtalloc.so.2.0.7             NaN  \n",
       "3    /usr/lib/x86_64-linux-gnu/libwbclient.so.0  <RECENT-CTIME>  \n",
       "4         /lib/x86_64-linux-gnu/libselinux.so.1             NaN  "
      ]
     },
     "execution_count": 16,
     "metadata": {},
     "output_type": "execute_result"
    }
   ],
   "source": [
    "popcon.head()"
   ]
  },
  {
   "cell_type": "markdown",
   "id": "61a1069e",
   "metadata": {},
   "source": [
    "## Create user account"
   ]
  },
  {
   "cell_type": "code",
   "execution_count": 17,
   "id": "5124df8c",
   "metadata": {},
   "outputs": [],
   "source": [
    "user = root_domain_client.register(name=\"Jane Doe\", email=\"jane@caltech.edu\",\n",
    "                            password=\"abc123\", institution=\"Caltech\", website=\"https://www.caltech.edu/\")\n",
    "# todo: give user data scientist role\n",
    "guest_domain_client = node.client\n",
    "guest_client = guest_domain_client.login(email=\"jane@caltech.edu\", password=\"abc123\")"
   ]
  },
  {
   "cell_type": "markdown",
   "id": "4c0f22af",
   "metadata": {},
   "source": [
    "# Data scientist: create syft_function"
   ]
  },
  {
   "cell_type": "code",
   "execution_count": 18,
   "id": "e0f665a0",
   "metadata": {
    "scrolled": true
   },
   "outputs": [],
   "source": [
    "import numpy as np\n",
    "import pandas as pd"
   ]
  },
  {
   "cell_type": "markdown",
   "id": "c52d6d1c",
   "metadata": {},
   "source": [
    "## Summary\n",
    "\n",
    "It's not obvious how to deal with Unix timestamps in pandas -- it took me quite a while to figure this out. The file we're using here is a popularity-contest file I found on my system at `/var/log/popularity-contest`."
   ]
  },
  {
   "cell_type": "markdown",
   "id": "8c63f823",
   "metadata": {},
   "source": [
    "## Get mocks"
   ]
  },
  {
   "cell_type": "code",
   "execution_count": 19,
   "id": "81c7f134",
   "metadata": {
    "scrolled": true
   },
   "outputs": [],
   "source": [
    "ds = guest_domain_client.datasets[0]"
   ]
  },
  {
   "cell_type": "code",
   "execution_count": 20,
   "id": "24cac2dc",
   "metadata": {
    "scrolled": true
   },
   "outputs": [],
   "source": [
    "asset = ds.assets[0]"
   ]
  },
  {
   "cell_type": "code",
   "execution_count": 21,
   "id": "82f805be",
   "metadata": {},
   "outputs": [],
   "source": [
    "popcon = asset.mock.syft_action_data"
   ]
  },
  {
   "cell_type": "markdown",
   "id": "d9ed60db",
   "metadata": {},
   "source": [
    "## Parsing Unix timestamps"
   ]
  },
  {
   "cell_type": "markdown",
   "id": "d6440d74",
   "metadata": {},
   "source": [
    "The colums are the access time, created time, package name, recently used program, and a tag\n",
    "\n"
   ]
  },
  {
   "cell_type": "code",
   "execution_count": 22,
   "id": "3588b429",
   "metadata": {},
   "outputs": [
    {
     "data": {
      "text/html": [
       "<div>\n",
       "<style scoped>\n",
       "    .dataframe tbody tr th:only-of-type {\n",
       "        vertical-align: middle;\n",
       "    }\n",
       "\n",
       "    .dataframe tbody tr th {\n",
       "        vertical-align: top;\n",
       "    }\n",
       "\n",
       "    .dataframe thead th {\n",
       "        text-align: right;\n",
       "    }\n",
       "</style>\n",
       "<table border=\"1\" class=\"dataframe\">\n",
       "  <thead>\n",
       "    <tr style=\"text-align: right;\">\n",
       "      <th></th>\n",
       "      <th>atime</th>\n",
       "      <th>ctime</th>\n",
       "      <th>package-name</th>\n",
       "      <th>mru-program</th>\n",
       "      <th>tag</th>\n",
       "    </tr>\n",
       "  </thead>\n",
       "  <tbody>\n",
       "    <tr>\n",
       "      <th>0</th>\n",
       "      <td>135586904</td>\n",
       "      <td>135870262</td>\n",
       "      <td>libxres-dev</td>\n",
       "      <td>/usr/bin/opam</td>\n",
       "      <td>&lt;RECENT-CTIME&gt;</td>\n",
       "    </tr>\n",
       "    <tr>\n",
       "      <th>1</th>\n",
       "      <td>135474582</td>\n",
       "      <td>135178396</td>\n",
       "      <td>libdesktop-agnostic0</td>\n",
       "      <td>/usr/bin/onboard</td>\n",
       "      <td>&lt;OLD&gt;</td>\n",
       "    </tr>\n",
       "    <tr>\n",
       "      <th>2</th>\n",
       "      <td>135917928</td>\n",
       "      <td>135246781</td>\n",
       "      <td>libdesktop-agnostic0</td>\n",
       "      <td>/usr/bin/opam</td>\n",
       "      <td>&lt;OLD&gt;</td>\n",
       "    </tr>\n",
       "    <tr>\n",
       "      <th>3</th>\n",
       "      <td>135551200</td>\n",
       "      <td>135543162</td>\n",
       "      <td>geoclue-ubuntu-geoip</td>\n",
       "      <td>/lib/init/upstart-job</td>\n",
       "      <td>nan</td>\n",
       "    </tr>\n",
       "    <tr>\n",
       "      <th>4</th>\n",
       "      <td>135132986</td>\n",
       "      <td>135276441</td>\n",
       "      <td>libqtdee-dev</td>\n",
       "      <td>/usr/bin/page</td>\n",
       "      <td>&lt;RECENT-CTIME&gt;</td>\n",
       "    </tr>\n",
       "  </tbody>\n",
       "</table>\n",
       "</div>"
      ],
      "text/plain": [
       "       atime      ctime          package-name            mru-program  \\\n",
       "0  135586904  135870262           libxres-dev          /usr/bin/opam   \n",
       "1  135474582  135178396  libdesktop-agnostic0       /usr/bin/onboard   \n",
       "2  135917928  135246781  libdesktop-agnostic0          /usr/bin/opam   \n",
       "3  135551200  135543162  geoclue-ubuntu-geoip  /lib/init/upstart-job   \n",
       "4  135132986  135276441          libqtdee-dev          /usr/bin/page   \n",
       "\n",
       "              tag  \n",
       "0  <RECENT-CTIME>  \n",
       "1           <OLD>  \n",
       "2           <OLD>  \n",
       "3             nan  \n",
       "4  <RECENT-CTIME>  "
      ]
     },
     "execution_count": 22,
     "metadata": {},
     "output_type": "execute_result"
    }
   ],
   "source": [
    "popcon[:5]"
   ]
  },
  {
   "cell_type": "markdown",
   "id": "d464243c",
   "metadata": {},
   "source": [
    "The magical part about parsing timestamps in pandas is that numpy datetimes are already stored as Unix timestamps. So all we need to do is tell pandas that these integers are actually datetimes -- it doesn't need to do any conversion at all.\n",
    "\n",
    "We need to convert these to ints to start:"
   ]
  },
  {
   "cell_type": "code",
   "execution_count": 23,
   "id": "d2dbcc32",
   "metadata": {},
   "outputs": [],
   "source": [
    "popcon['atime'] = popcon['atime'].astype(int)\n",
    "popcon['ctime'] = popcon['ctime'].astype(int)"
   ]
  },
  {
   "cell_type": "markdown",
   "id": "b510b9c8",
   "metadata": {},
   "source": [
    "Every numpy array and pandas series has a dtype -- this is usually `int64`, `float64`, or `object`. Some of the time types available are `datetime64[s]`, `datetime64[ms]`, and `datetime64[us]`. There are also `timedelta` types, similarly.\n",
    "\n",
    "We can use the `pd.to_datetime` function to convert our integer timestamps into datetimes. This is a constant-time operation -- we're not actually changing any of the data, just how pandas thinks about it."
   ]
  },
  {
   "cell_type": "code",
   "execution_count": 24,
   "id": "d26a35b6",
   "metadata": {},
   "outputs": [],
   "source": [
    "popcon['atime'] = pd.to_datetime(popcon['atime'], unit='s')\n",
    "popcon['ctime'] = pd.to_datetime(popcon['ctime'], unit='s')"
   ]
  },
  {
   "cell_type": "markdown",
   "id": "e1448504",
   "metadata": {},
   "source": [
    "If we look at the dtype now, it's `<M8[ns]`. As far as I can tell `M8` is secret code for `datetime64`."
   ]
  },
  {
   "cell_type": "code",
   "execution_count": 25,
   "id": "d6624a0d",
   "metadata": {},
   "outputs": [
    {
     "data": {
      "text/plain": [
       "dtype('<M8[ns]')"
      ]
     },
     "execution_count": 25,
     "metadata": {},
     "output_type": "execute_result"
    }
   ],
   "source": [
    "popcon['atime'].dtype"
   ]
  },
  {
   "cell_type": "markdown",
   "id": "c657d3e1",
   "metadata": {},
   "source": [
    "So now we can look at our `atime` and `ctime` as dates!"
   ]
  },
  {
   "cell_type": "code",
   "execution_count": 26,
   "id": "24db2605",
   "metadata": {},
   "outputs": [
    {
     "data": {
      "text/html": [
       "<div>\n",
       "<style scoped>\n",
       "    .dataframe tbody tr th:only-of-type {\n",
       "        vertical-align: middle;\n",
       "    }\n",
       "\n",
       "    .dataframe tbody tr th {\n",
       "        vertical-align: top;\n",
       "    }\n",
       "\n",
       "    .dataframe thead th {\n",
       "        text-align: right;\n",
       "    }\n",
       "</style>\n",
       "<table border=\"1\" class=\"dataframe\">\n",
       "  <thead>\n",
       "    <tr style=\"text-align: right;\">\n",
       "      <th></th>\n",
       "      <th>atime</th>\n",
       "      <th>ctime</th>\n",
       "      <th>package-name</th>\n",
       "      <th>mru-program</th>\n",
       "      <th>tag</th>\n",
       "    </tr>\n",
       "  </thead>\n",
       "  <tbody>\n",
       "    <tr>\n",
       "      <th>0</th>\n",
       "      <td>1974-04-19 07:01:44</td>\n",
       "      <td>1974-04-22 13:44:22</td>\n",
       "      <td>libxres-dev</td>\n",
       "      <td>/usr/bin/opam</td>\n",
       "      <td>&lt;RECENT-CTIME&gt;</td>\n",
       "    </tr>\n",
       "    <tr>\n",
       "      <th>1</th>\n",
       "      <td>1974-04-17 23:49:42</td>\n",
       "      <td>1974-04-14 13:33:16</td>\n",
       "      <td>libdesktop-agnostic0</td>\n",
       "      <td>/usr/bin/onboard</td>\n",
       "      <td>&lt;OLD&gt;</td>\n",
       "    </tr>\n",
       "    <tr>\n",
       "      <th>2</th>\n",
       "      <td>1974-04-23 02:58:48</td>\n",
       "      <td>1974-04-15 08:33:01</td>\n",
       "      <td>libdesktop-agnostic0</td>\n",
       "      <td>/usr/bin/opam</td>\n",
       "      <td>&lt;OLD&gt;</td>\n",
       "    </tr>\n",
       "    <tr>\n",
       "      <th>3</th>\n",
       "      <td>1974-04-18 21:06:40</td>\n",
       "      <td>1974-04-18 18:52:42</td>\n",
       "      <td>geoclue-ubuntu-geoip</td>\n",
       "      <td>/lib/init/upstart-job</td>\n",
       "      <td>nan</td>\n",
       "    </tr>\n",
       "    <tr>\n",
       "      <th>4</th>\n",
       "      <td>1974-04-14 00:56:26</td>\n",
       "      <td>1974-04-15 16:47:21</td>\n",
       "      <td>libqtdee-dev</td>\n",
       "      <td>/usr/bin/page</td>\n",
       "      <td>&lt;RECENT-CTIME&gt;</td>\n",
       "    </tr>\n",
       "  </tbody>\n",
       "</table>\n",
       "</div>"
      ],
      "text/plain": [
       "                atime               ctime          package-name  \\\n",
       "0 1974-04-19 07:01:44 1974-04-22 13:44:22           libxres-dev   \n",
       "1 1974-04-17 23:49:42 1974-04-14 13:33:16  libdesktop-agnostic0   \n",
       "2 1974-04-23 02:58:48 1974-04-15 08:33:01  libdesktop-agnostic0   \n",
       "3 1974-04-18 21:06:40 1974-04-18 18:52:42  geoclue-ubuntu-geoip   \n",
       "4 1974-04-14 00:56:26 1974-04-15 16:47:21          libqtdee-dev   \n",
       "\n",
       "             mru-program             tag  \n",
       "0          /usr/bin/opam  <RECENT-CTIME>  \n",
       "1       /usr/bin/onboard           <OLD>  \n",
       "2          /usr/bin/opam           <OLD>  \n",
       "3  /lib/init/upstart-job             nan  \n",
       "4          /usr/bin/page  <RECENT-CTIME>  "
      ]
     },
     "execution_count": 26,
     "metadata": {},
     "output_type": "execute_result"
    }
   ],
   "source": [
    "popcon[:5]"
   ]
  },
  {
   "cell_type": "markdown",
   "id": "53aca015",
   "metadata": {},
   "source": [
    "Now suppose we want to look at all packages that aren't libraries."
   ]
  },
  {
   "cell_type": "markdown",
   "id": "b09b8c6e",
   "metadata": {},
   "source": [
    "First, I want to get rid of everything with timestamp 0. Notice how we can just use a string in this comparison, even though it's actually a timestamp on the inside? That is because pandas is amazing.\n"
   ]
  },
  {
   "cell_type": "code",
   "execution_count": 27,
   "id": "e069d604",
   "metadata": {},
   "outputs": [],
   "source": [
    "popcon = popcon[popcon['atime'] > '1970-01-01']"
   ]
  },
  {
   "cell_type": "markdown",
   "id": "54ef1632",
   "metadata": {},
   "source": [
    "Now we can use pandas' magical string abilities to just look at rows where the package name doesn't contain 'lib'."
   ]
  },
  {
   "cell_type": "code",
   "execution_count": 28,
   "id": "afc72d61",
   "metadata": {},
   "outputs": [],
   "source": [
    "nonlibraries = popcon[~popcon['package-name'].str.contains('lib')]"
   ]
  },
  {
   "cell_type": "code",
   "execution_count": 29,
   "id": "9423fad9",
   "metadata": {},
   "outputs": [
    {
     "data": {
      "text/html": [
       "<div>\n",
       "<style scoped>\n",
       "    .dataframe tbody tr th:only-of-type {\n",
       "        vertical-align: middle;\n",
       "    }\n",
       "\n",
       "    .dataframe tbody tr th {\n",
       "        vertical-align: top;\n",
       "    }\n",
       "\n",
       "    .dataframe thead th {\n",
       "        text-align: right;\n",
       "    }\n",
       "</style>\n",
       "<table border=\"1\" class=\"dataframe\">\n",
       "  <thead>\n",
       "    <tr style=\"text-align: right;\">\n",
       "      <th></th>\n",
       "      <th>atime</th>\n",
       "      <th>ctime</th>\n",
       "      <th>package-name</th>\n",
       "      <th>mru-program</th>\n",
       "      <th>tag</th>\n",
       "    </tr>\n",
       "  </thead>\n",
       "  <tbody>\n",
       "    <tr>\n",
       "      <th>595</th>\n",
       "      <td>1974-04-21 05:15:07</td>\n",
       "      <td>1974-04-24 01:42:42</td>\n",
       "      <td>geoclue-ubuntu-geoip</td>\n",
       "      <td>/lib/init/upstart-job</td>\n",
       "      <td>&lt;OLD&gt;</td>\n",
       "    </tr>\n",
       "    <tr>\n",
       "      <th>2043</th>\n",
       "      <td>1974-04-20 12:31:31</td>\n",
       "      <td>1974-04-24 01:23:17</td>\n",
       "      <td>geoclue-ubuntu-geoip</td>\n",
       "      <td>/usr/bin/page</td>\n",
       "      <td>&lt;OLD&gt;</td>\n",
       "    </tr>\n",
       "    <tr>\n",
       "      <th>425</th>\n",
       "      <td>1974-04-18 13:47:35</td>\n",
       "      <td>1974-04-24 00:33:12</td>\n",
       "      <td>geoclue-ubuntu-geoip</td>\n",
       "      <td>/lib/init/upstart-job</td>\n",
       "      <td>&lt;OLD&gt;</td>\n",
       "    </tr>\n",
       "    <tr>\n",
       "      <th>2678</th>\n",
       "      <td>1974-04-23 16:56:46</td>\n",
       "      <td>1974-04-23 23:40:34</td>\n",
       "      <td>geoclue-ubuntu-geoip</td>\n",
       "      <td>/usr/bin/opam</td>\n",
       "      <td>&lt;OLD&gt;</td>\n",
       "    </tr>\n",
       "    <tr>\n",
       "      <th>2455</th>\n",
       "      <td>1974-04-13 17:55:38</td>\n",
       "      <td>1974-04-23 23:33:51</td>\n",
       "      <td>geoclue-ubuntu-geoip</td>\n",
       "      <td>/lib/init/upstart-job</td>\n",
       "      <td>&lt;RECENT-CTIME&gt;</td>\n",
       "    </tr>\n",
       "    <tr>\n",
       "      <th>1971</th>\n",
       "      <td>1974-04-13 16:02:47</td>\n",
       "      <td>1974-04-23 22:37:06</td>\n",
       "      <td>ubuntu-extras-keyring</td>\n",
       "      <td>/usr/bin/opam</td>\n",
       "      <td>&lt;OLD&gt;</td>\n",
       "    </tr>\n",
       "    <tr>\n",
       "      <th>30</th>\n",
       "      <td>1974-04-18 04:24:58</td>\n",
       "      <td>1974-04-23 22:26:33</td>\n",
       "      <td>ubuntu-extras-keyring</td>\n",
       "      <td>/lib/init/upstart-job</td>\n",
       "      <td>&lt;OLD&gt;</td>\n",
       "    </tr>\n",
       "    <tr>\n",
       "      <th>2544</th>\n",
       "      <td>1974-04-15 15:34:15</td>\n",
       "      <td>1974-04-23 22:17:50</td>\n",
       "      <td>ubuntu-extras-keyring</td>\n",
       "      <td>/usr/bin/onboard</td>\n",
       "      <td>&lt;OLD&gt;</td>\n",
       "    </tr>\n",
       "    <tr>\n",
       "      <th>497</th>\n",
       "      <td>1974-04-13 04:32:22</td>\n",
       "      <td>1974-04-23 22:08:39</td>\n",
       "      <td>ubuntu-extras-keyring</td>\n",
       "      <td>/lib/init/upstart-job</td>\n",
       "      <td>&lt;RECENT-CTIME&gt;</td>\n",
       "    </tr>\n",
       "    <tr>\n",
       "      <th>824</th>\n",
       "      <td>1974-04-18 12:51:57</td>\n",
       "      <td>1974-04-23 21:43:29</td>\n",
       "      <td>ubuntu-extras-keyring</td>\n",
       "      <td>/usr/bin/onboard</td>\n",
       "      <td>nan</td>\n",
       "    </tr>\n",
       "  </tbody>\n",
       "</table>\n",
       "</div>"
      ],
      "text/plain": [
       "                   atime               ctime           package-name  \\\n",
       "595  1974-04-21 05:15:07 1974-04-24 01:42:42   geoclue-ubuntu-geoip   \n",
       "2043 1974-04-20 12:31:31 1974-04-24 01:23:17   geoclue-ubuntu-geoip   \n",
       "425  1974-04-18 13:47:35 1974-04-24 00:33:12   geoclue-ubuntu-geoip   \n",
       "2678 1974-04-23 16:56:46 1974-04-23 23:40:34   geoclue-ubuntu-geoip   \n",
       "2455 1974-04-13 17:55:38 1974-04-23 23:33:51   geoclue-ubuntu-geoip   \n",
       "1971 1974-04-13 16:02:47 1974-04-23 22:37:06  ubuntu-extras-keyring   \n",
       "30   1974-04-18 04:24:58 1974-04-23 22:26:33  ubuntu-extras-keyring   \n",
       "2544 1974-04-15 15:34:15 1974-04-23 22:17:50  ubuntu-extras-keyring   \n",
       "497  1974-04-13 04:32:22 1974-04-23 22:08:39  ubuntu-extras-keyring   \n",
       "824  1974-04-18 12:51:57 1974-04-23 21:43:29  ubuntu-extras-keyring   \n",
       "\n",
       "                mru-program             tag  \n",
       "595   /lib/init/upstart-job           <OLD>  \n",
       "2043          /usr/bin/page           <OLD>  \n",
       "425   /lib/init/upstart-job           <OLD>  \n",
       "2678          /usr/bin/opam           <OLD>  \n",
       "2455  /lib/init/upstart-job  <RECENT-CTIME>  \n",
       "1971          /usr/bin/opam           <OLD>  \n",
       "30    /lib/init/upstart-job           <OLD>  \n",
       "2544       /usr/bin/onboard           <OLD>  \n",
       "497   /lib/init/upstart-job  <RECENT-CTIME>  \n",
       "824        /usr/bin/onboard             nan  "
      ]
     },
     "execution_count": 29,
     "metadata": {},
     "output_type": "execute_result"
    }
   ],
   "source": [
    "nonlibraries.sort_values('ctime', ascending=False)[:10]"
   ]
  },
  {
   "cell_type": "markdown",
   "id": "33235394",
   "metadata": {},
   "source": [
    "Okay, cool, it says that I I installed ddd recently. And postgresql! I remember installing those things. Neat.\n",
    "\n",
    "The whole message here is that if you have a timestamp in seconds or milliseconds or nanoseconds, then you can just \"cast\" it to a `'datetime64[the-right-thing]'` and pandas/numpy will take care of the rest."
   ]
  },
  {
   "cell_type": "markdown",
   "id": "3ad300a3",
   "metadata": {},
   "source": [
    "## Putting it together"
   ]
  },
  {
   "cell_type": "markdown",
   "id": "bdc4b7c7",
   "metadata": {},
   "source": [
    "Now we want to request the full code execution.\n",
    "\n",
    "Let's put all that together, to prove how easy it is. 6 lines of magical pandas!"
   ]
  },
  {
   "cell_type": "code",
   "execution_count": 30,
   "id": "ac206e34",
   "metadata": {
    "scrolled": true
   },
   "outputs": [],
   "source": [
    "@sy.syft_function(input_policy=sy.ExactMatch(popcon=ds.assets[0]),\n",
    "                  output_policy=sy.SingleExecutionExactOutput())\n",
    "def find_recently_installed(popcon):\n",
    "    import pandas as pd\n",
    "    popcon['atime'] = popcon['atime'].astype(int)\n",
    "    popcon['ctime'] = popcon['ctime'].astype(int)\n",
    "    popcon['atime'] = pd.to_datetime(popcon['atime'], unit='s')\n",
    "    popcon['ctime'] = pd.to_datetime(popcon['ctime'], unit='s')\n",
    "    popcon = popcon[popcon['atime'] > '1970-01-01']\n",
    "    nonlibraries = popcon[~popcon['package-name'].str.contains('lib')]\n",
    "    return nonlibraries.sort_values('ctime', ascending=False)[:10]"
   ]
  },
  {
   "cell_type": "markdown",
   "id": "f460d969",
   "metadata": {},
   "source": [
    "Request code execution"
   ]
  },
  {
   "cell_type": "code",
   "execution_count": 31,
   "id": "df474774",
   "metadata": {
    "scrolled": true
   },
   "outputs": [],
   "source": [
    "req = guest_domain_client.api.services.code.request_code_execution(find_recently_installed)"
   ]
  },
  {
   "cell_type": "code",
   "execution_count": 32,
   "id": "300d599f",
   "metadata": {
    "scrolled": true
   },
   "outputs": [],
   "source": [
    "submitted_code = guest_domain_client.code[0]"
   ]
  },
  {
   "cell_type": "code",
   "execution_count": 33,
   "id": "d99d0119",
   "metadata": {
    "scrolled": true
   },
   "outputs": [],
   "source": [
    "assert guest_domain_client.api.services.code.get_all()"
   ]
  },
  {
   "cell_type": "markdown",
   "id": "e17c5a93",
   "metadata": {},
   "source": [
    "Create and submit project"
   ]
  },
  {
   "cell_type": "code",
   "execution_count": 34,
   "id": "aea06d55",
   "metadata": {
    "scrolled": true
   },
   "outputs": [],
   "source": [
    "new_project = sy.Project(name=\"Pandas Chapter 8\",\n",
    "                         description=\"Hi, I would like to get some insights about the installed programs\")"
   ]
  },
  {
   "cell_type": "code",
   "execution_count": 35,
   "id": "2b2d6e8e",
   "metadata": {
    "scrolled": true
   },
   "outputs": [],
   "source": [
    "new_project.add_request(obj=submitted_code, permission=sy.UserCodeStatus.EXECUTE)"
   ]
  },
  {
   "cell_type": "code",
   "execution_count": 36,
   "id": "95db8e44",
   "metadata": {
    "scrolled": true
   },
   "outputs": [
    {
     "data": {
      "text/html": [
       "<div class=\"alert-success\" style=\"padding:5px;\"><strong>SyftSuccess</strong>: Project Submitted</div><br />"
      ],
      "text/plain": [
       "<class 'syft.service.response.SyftSuccess'>: Project Submitted"
      ]
     },
     "execution_count": 36,
     "metadata": {},
     "output_type": "execute_result"
    }
   ],
   "source": [
    "guest_domain_client.submit_project(new_project)"
   ]
  },
  {
   "cell_type": "markdown",
   "id": "64ce88bd",
   "metadata": {},
   "source": [
    "# Data owner: execute syft_function"
   ]
  },
  {
   "cell_type": "code",
   "execution_count": 37,
   "id": "16908022",
   "metadata": {},
   "outputs": [],
   "source": [
    "from syft import MessageStatus"
   ]
  },
  {
   "cell_type": "code",
   "execution_count": 38,
   "id": "28f77679",
   "metadata": {},
   "outputs": [],
   "source": [
    "domain_client = node.login(email=\"info@openmined.org\", password=\"changethis\")"
   ]
  },
  {
   "cell_type": "markdown",
   "id": "5f4bded4",
   "metadata": {},
   "source": [
    "# Get messages"
   ]
  },
  {
   "cell_type": "code",
   "execution_count": 39,
   "id": "6ebec184",
   "metadata": {},
   "outputs": [],
   "source": [
    "messages = domain_client.api.services.messages.get_all_for_status(MessageStatus.UNDELIVERED)"
   ]
  },
  {
   "cell_type": "code",
   "execution_count": 40,
   "id": "34a83d8f",
   "metadata": {},
   "outputs": [
    {
     "data": {
      "text/html": [
       "List - Size: 2\n",
       "<div>\n",
       "<style scoped>\n",
       "    .dataframe tbody tr th:only-of-type {\n",
       "        vertical-align: middle;\n",
       "    }\n",
       "\n",
       "    .dataframe tbody tr th {\n",
       "        vertical-align: top;\n",
       "    }\n",
       "\n",
       "    .dataframe thead th {\n",
       "        text-align: right;\n",
       "    }\n",
       "</style>\n",
       "<table border=\"1\" class=\"dataframe\">\n",
       "  <thead>\n",
       "    <tr style=\"text-align: right;\">\n",
       "      <th></th>\n",
       "      <th>type</th>\n",
       "      <th>id</th>\n",
       "      <th>subject</th>\n",
       "      <th>status</th>\n",
       "      <th>created_at</th>\n",
       "      <th>linked_obj</th>\n",
       "    </tr>\n",
       "  </thead>\n",
       "  <tbody>\n",
       "    <tr>\n",
       "      <th>0</th>\n",
       "      <td>syft.service.message.messages.Message</td>\n",
       "      <td>262be0b0aa6d4516a27e60998ac5eca6</td>\n",
       "      <td>Project Approval</td>\n",
       "      <td>MessageStatus.UNDELIVERED</td>\n",
       "      <td>2023-05-16 11:57:35</td>\n",
       "      <td>&lt;&lt;class 'syft.service.project.project.Project'...</td>\n",
       "    </tr>\n",
       "    <tr>\n",
       "      <th>1</th>\n",
       "      <td>syft.service.message.messages.Message</td>\n",
       "      <td>4eedad285e8a438b9f3fcba5d9343ec4</td>\n",
       "      <td>Approval Request</td>\n",
       "      <td>MessageStatus.UNDELIVERED</td>\n",
       "      <td>2023-05-16 11:57:34</td>\n",
       "      <td>&lt;&lt;class 'syft.service.request.request.Request'...</td>\n",
       "    </tr>\n",
       "  </tbody>\n",
       "</table>\n",
       "</div>"
      ],
      "text/plain": [
       "[syft.service.message.messages.Message, syft.service.message.messages.Message]"
      ]
     },
     "execution_count": 40,
     "metadata": {},
     "output_type": "execute_result"
    }
   ],
   "source": [
    "messages"
   ]
  },
  {
   "cell_type": "code",
   "execution_count": 41,
   "id": "f491713c",
   "metadata": {},
   "outputs": [],
   "source": [
    "project_message = [x for x in messages if issubclass(x.linked_obj.object_type, Project)][0]"
   ]
  },
  {
   "cell_type": "code",
   "execution_count": 42,
   "id": "e450a3af",
   "metadata": {},
   "outputs": [],
   "source": [
    "request = project_message.link.requests[0]\n",
    "func = request.changes[0].link\n",
    "op = func.output_policy_type"
   ]
  },
  {
   "cell_type": "code",
   "execution_count": 43,
   "id": "cd5822af",
   "metadata": {},
   "outputs": [
    {
     "data": {
      "text/markdown": [
       "```python\n",
       "class UserCode:\n",
       "  id: str = d2ae442a487c48819abb6dc6ee26289e\n",
       "  node_uid: str = eee436ccb7f044c4815c373f3fcf283d\n",
       "  user_verify_key: str = 4280fb22b1e81d8516ab85bac61c5e1e856320fc3da356f5b1d5d1b10b707e08\n",
       "  raw_code: str = \"@sy.syft_function(input_policy=sy.ExactMatch(popcon=ds.assets[0]),\n",
       "                  output_policy=sy.SingleExecutionExactOutput())\n",
       "def find_recently_installed(popcon):\n",
       "    import pandas as pd\n",
       "    popcon['atime'] = popcon['atime'].astype(int)\n",
       "    popcon['ctime'] = popcon['ctime'].astype(int)\n",
       "    popcon['atime'] = pd.to_datetime(popcon['atime'], unit='s')\n",
       "    popcon['ctime'] = pd.to_datetime(popcon['ctime'], unit='s')\n",
       "    popcon = popcon[popcon['atime'] > '1970-01-01']\n",
       "    nonlibraries = popcon[~popcon['package-name'].str.contains('lib')]\n",
       "    return nonlibraries.sort_values('ctime', ascending=False)[:10]\n",
       "\"\n",
       "  input_policy_type: str = <class 'syft.service.policy.policy.ExactMatch'>\n",
       "  input_policy_init_kwargs: str = {NodeView(node_name='pandas-test-domain-1', verify_key=d5f240348a2aedc8216c38aae4e20f36c1cad31d587233e5c6b3347bd3e71747): {'popcon': <UID: dc3abbf673784c4da1dec3d75c776778>}}\n",
       "  input_policy_state: str = b''\n",
       "  output_policy_type: str = <class 'syft.service.policy.policy.OutputPolicyExecuteOnce'>\n",
       "  output_policy_init_kwargs: str = {}\n",
       "  output_policy_state: str = b''\n",
       "  parsed_code: str = \"def user_func_find_recently_installed_4280fb22b1e81d8516ab85bac61c5e1e856320fc3da356f5b1d5d1b10b707e08_76996a89952a0cd5f53e2e6da4ba9f2787211c4990d0fb1f69c5224b7af1b38c(popcon):\n",
       "\n",
       "    def find_recently_installed(popcon):\n",
       "        import pandas as pd\n",
       "        popcon['atime'] = popcon['atime'].astype(int)\n",
       "        popcon['ctime'] = popcon['ctime'].astype(int)\n",
       "        popcon['atime'] = pd.to_datetime(popcon['atime'], unit='s')\n",
       "        popcon['ctime'] = pd.to_datetime(popcon['ctime'], unit='s')\n",
       "        popcon = popcon[popcon['atime'] > '1970-01-01']\n",
       "        nonlibraries = popcon[~popcon['package-name'].str.contains('lib')]\n",
       "        return nonlibraries.sort_values('ctime', ascending=False)[:10]\n",
       "    result = find_recently_installed(popcon=popcon)\n",
       "    return result\"\n",
       "  service_func_name: str = \"find_recently_installed\"\n",
       "  unique_func_name: str = \"user_func_find_recently_installed_4280fb22b1e81d8516ab85bac61c5e1e856320fc3da356f5b1d5d1b10b707e08_76996a89952a0cd5f53e2e6da4ba9f2787211c4990d0fb1f69c5224b7af1b38c\"\n",
       "  user_unique_func_name: str = \"user_func_find_recently_installed_4280fb22b1e81d8516ab85bac61c5e1e856320fc3da356f5b1d5d1b10b707e08\"\n",
       "  code_hash: str = \"76996a89952a0cd5f53e2e6da4ba9f2787211c4990d0fb1f69c5224b7af1b38c\"\n",
       "  signature: str = (popcon)\n",
       "  status: str = {NodeView(node_name='pandas-test-domain-1', verify_key=d5f240348a2aedc8216c38aae4e20f36c1cad31d587233e5c6b3347bd3e71747): <UserCodeStatus.SUBMITTED: 'submitted'>}\n",
       "  input_kwargs: str = ['popcon']\n",
       "  enclave_metadata: str = None\n",
       "\n",
       "```"
      ],
      "text/plain": [
       "syft.service.code.user_code.UserCode"
      ]
     },
     "execution_count": 43,
     "metadata": {},
     "output_type": "execute_result"
    }
   ],
   "source": [
    "func"
   ]
  },
  {
   "cell_type": "code",
   "execution_count": 44,
   "id": "c173017d",
   "metadata": {},
   "outputs": [
    {
     "name": "stdout",
     "output_type": "stream",
     "text": [
      "WARNING: This code was submitted by a User and could be UNSAFE.\n"
     ]
    }
   ],
   "source": [
    "find_recently_installed = func.unsafe_function"
   ]
  },
  {
   "cell_type": "code",
   "execution_count": 45,
   "id": "3a708eb0",
   "metadata": {},
   "outputs": [],
   "source": [
    "real_data = domain_client.datasets[0].assets[0].data.syft_action_data"
   ]
  },
  {
   "cell_type": "code",
   "execution_count": 46,
   "id": "c55557f8",
   "metadata": {},
   "outputs": [
    {
     "data": {
      "text/html": [
       "<div>\n",
       "<style scoped>\n",
       "    .dataframe tbody tr th:only-of-type {\n",
       "        vertical-align: middle;\n",
       "    }\n",
       "\n",
       "    .dataframe tbody tr th {\n",
       "        vertical-align: top;\n",
       "    }\n",
       "\n",
       "    .dataframe thead th {\n",
       "        text-align: right;\n",
       "    }\n",
       "</style>\n",
       "<table border=\"1\" class=\"dataframe\">\n",
       "  <thead>\n",
       "    <tr style=\"text-align: right;\">\n",
       "      <th></th>\n",
       "      <th>atime</th>\n",
       "      <th>ctime</th>\n",
       "      <th>package-name</th>\n",
       "      <th>mru-program</th>\n",
       "      <th>tag</th>\n",
       "    </tr>\n",
       "  </thead>\n",
       "  <tbody>\n",
       "    <tr>\n",
       "      <th>0</th>\n",
       "      <td>1387295797</td>\n",
       "      <td>1367633260</td>\n",
       "      <td>perl-base</td>\n",
       "      <td>/usr/bin/perl</td>\n",
       "      <td>None</td>\n",
       "    </tr>\n",
       "    <tr>\n",
       "      <th>1</th>\n",
       "      <td>1387295796</td>\n",
       "      <td>1354370480</td>\n",
       "      <td>login</td>\n",
       "      <td>/bin/su</td>\n",
       "      <td>None</td>\n",
       "    </tr>\n",
       "    <tr>\n",
       "      <th>2</th>\n",
       "      <td>1387295743</td>\n",
       "      <td>1354341275</td>\n",
       "      <td>libtalloc2</td>\n",
       "      <td>/usr/lib/x86_64-linux-gnu/libtalloc.so.2.0.7</td>\n",
       "      <td>None</td>\n",
       "    </tr>\n",
       "    <tr>\n",
       "      <th>3</th>\n",
       "      <td>1387295743</td>\n",
       "      <td>1387224204</td>\n",
       "      <td>libwbclient0</td>\n",
       "      <td>/usr/lib/x86_64-linux-gnu/libwbclient.so.0</td>\n",
       "      <td>&lt;RECENT-CTIME&gt;</td>\n",
       "    </tr>\n",
       "    <tr>\n",
       "      <th>4</th>\n",
       "      <td>1387295742</td>\n",
       "      <td>1354341253</td>\n",
       "      <td>libselinux1</td>\n",
       "      <td>/lib/x86_64-linux-gnu/libselinux.so.1</td>\n",
       "      <td>None</td>\n",
       "    </tr>\n",
       "    <tr>\n",
       "      <th>...</th>\n",
       "      <td>...</td>\n",
       "      <td>...</td>\n",
       "      <td>...</td>\n",
       "      <td>...</td>\n",
       "      <td>...</td>\n",
       "    </tr>\n",
       "    <tr>\n",
       "      <th>2892</th>\n",
       "      <td>0</td>\n",
       "      <td>0</td>\n",
       "      <td>libreadline-dev</td>\n",
       "      <td>&lt;NOFILES&gt;</td>\n",
       "      <td>None</td>\n",
       "    </tr>\n",
       "    <tr>\n",
       "      <th>2893</th>\n",
       "      <td>0</td>\n",
       "      <td>0</td>\n",
       "      <td>notify-osd-icons</td>\n",
       "      <td>&lt;NOFILES&gt;</td>\n",
       "      <td>None</td>\n",
       "    </tr>\n",
       "    <tr>\n",
       "      <th>2894</th>\n",
       "      <td>0</td>\n",
       "      <td>0</td>\n",
       "      <td>python-apt-common</td>\n",
       "      <td>&lt;NOFILES&gt;</td>\n",
       "      <td>None</td>\n",
       "    </tr>\n",
       "    <tr>\n",
       "      <th>2895</th>\n",
       "      <td>0</td>\n",
       "      <td>0</td>\n",
       "      <td>libindicator-messages-status-provider1</td>\n",
       "      <td>&lt;NOFILES&gt;</td>\n",
       "      <td>None</td>\n",
       "    </tr>\n",
       "    <tr>\n",
       "      <th>2896</th>\n",
       "      <td>0</td>\n",
       "      <td>0</td>\n",
       "      <td>libusbmuxd1</td>\n",
       "      <td>&lt;NOFILES&gt;</td>\n",
       "      <td>None</td>\n",
       "    </tr>\n",
       "  </tbody>\n",
       "</table>\n",
       "<p>2897 rows × 5 columns</p>\n",
       "</div>"
      ],
      "text/plain": [
       "           atime       ctime                            package-name  \\\n",
       "0     1387295797  1367633260                               perl-base   \n",
       "1     1387295796  1354370480                                   login   \n",
       "2     1387295743  1354341275                              libtalloc2   \n",
       "3     1387295743  1387224204                            libwbclient0   \n",
       "4     1387295742  1354341253                             libselinux1   \n",
       "...          ...         ...                                     ...   \n",
       "2892           0           0                         libreadline-dev   \n",
       "2893           0           0                        notify-osd-icons   \n",
       "2894           0           0                       python-apt-common   \n",
       "2895           0           0  libindicator-messages-status-provider1   \n",
       "2896           0           0                             libusbmuxd1   \n",
       "\n",
       "                                       mru-program             tag  \n",
       "0                                    /usr/bin/perl            None  \n",
       "1                                          /bin/su            None  \n",
       "2     /usr/lib/x86_64-linux-gnu/libtalloc.so.2.0.7            None  \n",
       "3       /usr/lib/x86_64-linux-gnu/libwbclient.so.0  <RECENT-CTIME>  \n",
       "4            /lib/x86_64-linux-gnu/libselinux.so.1            None  \n",
       "...                                            ...             ...  \n",
       "2892                                     <NOFILES>            None  \n",
       "2893                                     <NOFILES>            None  \n",
       "2894                                     <NOFILES>            None  \n",
       "2895                                     <NOFILES>            None  \n",
       "2896                                     <NOFILES>            None  \n",
       "\n",
       "[2897 rows x 5 columns]"
      ]
     },
     "execution_count": 46,
     "metadata": {},
     "output_type": "execute_result"
    }
   ],
   "source": [
    "real_data"
   ]
  },
  {
   "cell_type": "code",
   "execution_count": 47,
   "id": "34fc6c8b",
   "metadata": {},
   "outputs": [],
   "source": [
    "real_result = find_recently_installed(popcon=real_data)"
   ]
  },
  {
   "cell_type": "code",
   "execution_count": 48,
   "id": "60adc73c",
   "metadata": {},
   "outputs": [],
   "source": [
    "result = request.accept_by_depositing_result(real_result)\n",
    "result\n",
    "assert isinstance(result, sy.SyftSuccess)"
   ]
  },
  {
   "cell_type": "markdown",
   "id": "d23c84c2",
   "metadata": {},
   "source": [
    "# Data Owner: fetch result"
   ]
  },
  {
   "cell_type": "code",
   "execution_count": 49,
   "id": "b302702f",
   "metadata": {},
   "outputs": [
    {
     "data": {
      "text/plain": [
       "{NodeView(node_name='pandas-test-domain-1', verify_key=d5f240348a2aedc8216c38aae4e20f36c1cad31d587233e5c6b3347bd3e71747): <UserCodeStatus.EXECUTE: 'execute'>}"
      ]
     },
     "execution_count": 49,
     "metadata": {},
     "output_type": "execute_result"
    }
   ],
   "source": [
    "guest_client.api.services.code[0].status"
   ]
  },
  {
   "cell_type": "code",
   "execution_count": 50,
   "id": "d4d913d0",
   "metadata": {},
   "outputs": [],
   "source": [
    "asset = guest_client.datasets[0].assets[0]"
   ]
  },
  {
   "cell_type": "code",
   "execution_count": 51,
   "id": "7093dad3",
   "metadata": {},
   "outputs": [],
   "source": [
    "real_result = guest_client.api.services.code.find_recently_installed(popcon=asset)"
   ]
  },
  {
   "cell_type": "code",
   "execution_count": 52,
   "id": "26393eb3",
   "metadata": {},
   "outputs": [
    {
     "data": {
      "text/html": [
       "<div>\n",
       "<style scoped>\n",
       "    .dataframe tbody tr th:only-of-type {\n",
       "        vertical-align: middle;\n",
       "    }\n",
       "\n",
       "    .dataframe tbody tr th {\n",
       "        vertical-align: top;\n",
       "    }\n",
       "\n",
       "    .dataframe thead th {\n",
       "        text-align: right;\n",
       "    }\n",
       "</style>\n",
       "<table border=\"1\" class=\"dataframe\">\n",
       "  <thead>\n",
       "    <tr style=\"text-align: right;\">\n",
       "      <th></th>\n",
       "      <th>atime</th>\n",
       "      <th>ctime</th>\n",
       "      <th>package-name</th>\n",
       "      <th>mru-program</th>\n",
       "      <th>tag</th>\n",
       "    </tr>\n",
       "  </thead>\n",
       "  <tbody>\n",
       "    <tr>\n",
       "      <th>57</th>\n",
       "      <td>2013-12-17 04:55:39</td>\n",
       "      <td>2013-12-17 04:55:42</td>\n",
       "      <td>ddd</td>\n",
       "      <td>/usr/bin/ddd</td>\n",
       "      <td>&lt;RECENT-CTIME&gt;</td>\n",
       "    </tr>\n",
       "    <tr>\n",
       "      <th>450</th>\n",
       "      <td>2013-12-16 20:03:20</td>\n",
       "      <td>2013-12-16 20:05:13</td>\n",
       "      <td>nodejs</td>\n",
       "      <td>/usr/bin/npm</td>\n",
       "      <td>&lt;RECENT-CTIME&gt;</td>\n",
       "    </tr>\n",
       "    <tr>\n",
       "      <th>454</th>\n",
       "      <td>2013-12-16 20:03:20</td>\n",
       "      <td>2013-12-16 20:05:04</td>\n",
       "      <td>switchboard-plug-keyboard</td>\n",
       "      <td>/usr/lib/plugs/pantheon/keyboard/options.txt</td>\n",
       "      <td>&lt;RECENT-CTIME&gt;</td>\n",
       "    </tr>\n",
       "    <tr>\n",
       "      <th>445</th>\n",
       "      <td>2013-12-16 20:03:20</td>\n",
       "      <td>2013-12-16 20:05:04</td>\n",
       "      <td>thunderbird-locale-en</td>\n",
       "      <td>/usr/lib/thunderbird-addons/extensions/langpac...</td>\n",
       "      <td>&lt;RECENT-CTIME&gt;</td>\n",
       "    </tr>\n",
       "    <tr>\n",
       "      <th>396</th>\n",
       "      <td>2013-12-16 20:08:27</td>\n",
       "      <td>2013-12-16 20:05:03</td>\n",
       "      <td>software-center</td>\n",
       "      <td>/usr/sbin/update-software-center</td>\n",
       "      <td>&lt;RECENT-CTIME&gt;</td>\n",
       "    </tr>\n",
       "    <tr>\n",
       "      <th>449</th>\n",
       "      <td>2013-12-16 20:03:20</td>\n",
       "      <td>2013-12-16 20:05:00</td>\n",
       "      <td>samba-common-bin</td>\n",
       "      <td>/usr/bin/net.samba3</td>\n",
       "      <td>&lt;RECENT-CTIME&gt;</td>\n",
       "    </tr>\n",
       "    <tr>\n",
       "      <th>397</th>\n",
       "      <td>2013-12-16 20:08:25</td>\n",
       "      <td>2013-12-16 20:04:59</td>\n",
       "      <td>postgresql-client-9.1</td>\n",
       "      <td>/usr/lib/postgresql/9.1/bin/psql</td>\n",
       "      <td>&lt;RECENT-CTIME&gt;</td>\n",
       "    </tr>\n",
       "    <tr>\n",
       "      <th>398</th>\n",
       "      <td>2013-12-16 20:08:23</td>\n",
       "      <td>2013-12-16 20:04:58</td>\n",
       "      <td>postgresql-9.1</td>\n",
       "      <td>/usr/lib/postgresql/9.1/bin/postmaster</td>\n",
       "      <td>&lt;RECENT-CTIME&gt;</td>\n",
       "    </tr>\n",
       "    <tr>\n",
       "      <th>452</th>\n",
       "      <td>2013-12-16 20:03:20</td>\n",
       "      <td>2013-12-16 20:04:55</td>\n",
       "      <td>php5-dev</td>\n",
       "      <td>/usr/include/php5/main/snprintf.h</td>\n",
       "      <td>&lt;RECENT-CTIME&gt;</td>\n",
       "    </tr>\n",
       "    <tr>\n",
       "      <th>440</th>\n",
       "      <td>2013-12-16 20:03:20</td>\n",
       "      <td>2013-12-16 20:04:54</td>\n",
       "      <td>php-pear</td>\n",
       "      <td>/usr/share/php/XML/Util.php</td>\n",
       "      <td>&lt;RECENT-CTIME&gt;</td>\n",
       "    </tr>\n",
       "  </tbody>\n",
       "</table>\n",
       "</div>"
      ],
      "text/markdown": [
       "```python\n",
       "Pointer\n",
       "```\n",
       "                  atime               ctime               package-name  \\\n",
       "57  2013-12-17 04:55:39 2013-12-17 04:55:42                        ddd   \n",
       "450 2013-12-16 20:03:20 2013-12-16 20:05:13                     nodejs   \n",
       "454 2013-12-16 20:03:20 2013-12-16 20:05:04  switchboard-plug-keyboard   \n",
       "445 2013-12-16 20:03:20 2013-12-16 20:05:04      thunderbird-locale-en   \n",
       "396 2013-12-16 20:08:27 2013-12-16 20:05:03            software-center   \n",
       "449 2013-12-16 20:03:20 2013-12-16 20:05:00           samba-common-bin   \n",
       "397 2013-12-16 20:08:25 2013-12-16 20:04:59      postgresql-client-9.1   \n",
       "398 2013-12-16 20:08:23 2013-12-16 20:04:58             postgresql-9.1   \n",
       "452 2013-12-16 20:03:20 2013-12-16 20:04:55                   php5-dev   \n",
       "440 2013-12-16 20:03:20 2013-12-16 20:04:54                   php-pear   \n",
       "\n",
       "                                           mru-program             tag  \n",
       "57                                        /usr/bin/ddd  <RECENT-CTIME>  \n",
       "450                                       /usr/bin/npm  <RECENT-CTIME>  \n",
       "454       /usr/lib/plugs/pantheon/keyboard/options.txt  <RECENT-CTIME>  \n",
       "445  /usr/lib/thunderbird-addons/extensions/langpac...  <RECENT-CTIME>  \n",
       "396                   /usr/sbin/update-software-center  <RECENT-CTIME>  \n",
       "449                                /usr/bin/net.samba3  <RECENT-CTIME>  \n",
       "397                   /usr/lib/postgresql/9.1/bin/psql  <RECENT-CTIME>  \n",
       "398             /usr/lib/postgresql/9.1/bin/postmaster  <RECENT-CTIME>  \n",
       "452                  /usr/include/php5/main/snprintf.h  <RECENT-CTIME>  \n",
       "440                        /usr/share/php/XML/Util.php  <RECENT-CTIME>  "
      ],
      "text/plain": [
       "Pointer:\n",
       "                  atime               ctime               package-name  \\\n",
       "57  2013-12-17 04:55:39 2013-12-17 04:55:42                        ddd   \n",
       "450 2013-12-16 20:03:20 2013-12-16 20:05:13                     nodejs   \n",
       "454 2013-12-16 20:03:20 2013-12-16 20:05:04  switchboard-plug-keyboard   \n",
       "445 2013-12-16 20:03:20 2013-12-16 20:05:04      thunderbird-locale-en   \n",
       "396 2013-12-16 20:08:27 2013-12-16 20:05:03            software-center   \n",
       "449 2013-12-16 20:03:20 2013-12-16 20:05:00           samba-common-bin   \n",
       "397 2013-12-16 20:08:25 2013-12-16 20:04:59      postgresql-client-9.1   \n",
       "398 2013-12-16 20:08:23 2013-12-16 20:04:58             postgresql-9.1   \n",
       "452 2013-12-16 20:03:20 2013-12-16 20:04:55                   php5-dev   \n",
       "440 2013-12-16 20:03:20 2013-12-16 20:04:54                   php-pear   \n",
       "\n",
       "                                           mru-program             tag  \n",
       "57                                        /usr/bin/ddd  <RECENT-CTIME>  \n",
       "450                                       /usr/bin/npm  <RECENT-CTIME>  \n",
       "454       /usr/lib/plugs/pantheon/keyboard/options.txt  <RECENT-CTIME>  \n",
       "445  /usr/lib/thunderbird-addons/extensions/langpac...  <RECENT-CTIME>  \n",
       "396                   /usr/sbin/update-software-center  <RECENT-CTIME>  \n",
       "449                                /usr/bin/net.samba3  <RECENT-CTIME>  \n",
       "397                   /usr/lib/postgresql/9.1/bin/psql  <RECENT-CTIME>  \n",
       "398             /usr/lib/postgresql/9.1/bin/postmaster  <RECENT-CTIME>  \n",
       "452                  /usr/include/php5/main/snprintf.h  <RECENT-CTIME>  \n",
       "440                        /usr/share/php/XML/Util.php  <RECENT-CTIME>  "
      ]
     },
     "execution_count": 52,
     "metadata": {},
     "output_type": "execute_result"
    }
   ],
   "source": [
    "real_result"
   ]
  },
  {
   "cell_type": "code",
   "execution_count": 53,
   "id": "ed3c5e38",
   "metadata": {},
   "outputs": [
    {
     "name": "stdout",
     "output_type": "stream",
     "text": [
      "Stopping pandas-test-domain-1\n"
     ]
    }
   ],
   "source": [
    "node.land()"
   ]
  }
 ],
 "metadata": {
  "kernelspec": {
   "display_name": "Python 3 (ipykernel)",
   "language": "python",
   "name": "python3"
  },
  "language_info": {
   "codemirror_mode": {
    "name": "ipython",
    "version": 3
   },
   "file_extension": ".py",
   "mimetype": "text/x-python",
   "name": "python",
   "nbconvert_exporter": "python",
   "pygments_lexer": "ipython3",
   "version": "3.10.9"
  },
  "toc": {
   "base_numbering": 1,
   "nav_menu": {},
   "number_sections": true,
   "sideBar": true,
   "skip_h1_title": false,
   "title_cell": "Table of Contents",
   "title_sidebar": "Contents",
   "toc_cell": false,
   "toc_position": {},
   "toc_section_display": true,
   "toc_window_display": true
  }
 },
 "nbformat": 4,
 "nbformat_minor": 5
}
