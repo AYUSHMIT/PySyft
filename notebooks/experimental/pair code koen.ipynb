{
 "cells": [
  {
   "cell_type": "code",
   "execution_count": 1,
   "id": "ff4ebbc8-8a10-44d0-b0f8-554045c59ac4",
   "metadata": {},
   "outputs": [
    {
     "name": "stderr",
     "output_type": "stream",
     "text": [
      "kj/filesystem-disk-unix.c++:1703: warning: PWD environment variable doesn't match current directory; pwd = /home/eelco/dev/PySyft\n"
     ]
    }
   ],
   "source": [
    "import syft as sy\n",
    "from syft.abstract_node import NodeType\n"
   ]
  },
  {
   "cell_type": "code",
   "execution_count": 2,
   "id": "d38ee1f0-b5be-4a40-9f50-0929433a5637",
   "metadata": {},
   "outputs": [
    {
     "name": "stdout",
     "output_type": "stream",
     "text": [
      "Consumer service Name:  None\n",
      "Creating Default Worker Image\n",
      "Building Default Worker Image\n",
      "Creating default Worker Pool\n",
      "Created default worker pool.\n",
      "Data Migrated to latest version !!!\n"
     ]
    }
   ],
   "source": [
    "low_side = sy.Orchestra.launch(\n",
    "    name=\"canada-1\",\n",
    "    node_side_type=\"low\",\n",
    "    local_db=True,\n",
    "    reset=True,\n",
    "#     enable_warnings=True,\n",
    ")"
   ]
  },
  {
   "cell_type": "code",
   "execution_count": 3,
   "id": "6ca0de34-aa8a-487e-a210-a314dfb786c9",
   "metadata": {},
   "outputs": [
    {
     "name": "stdout",
     "output_type": "stream",
     "text": [
      "Consumer service Name:  None\n",
      "Creating Default Worker Image\n",
      "Building Default Worker Image\n",
      "Creating default Worker Pool\n",
      "Created default worker pool.\n",
      "Data Migrated to latest version !!!\n"
     ]
    }
   ],
   "source": [
    "high_side = sy.Orchestra.launch(\n",
    "    name=\"canada-2\",\n",
    "    local_db=True,\n",
    "    reset=True,\n",
    "#     enable_warnings=True,\n",
    ")"
   ]
  },
  {
   "cell_type": "code",
   "execution_count": 4,
   "id": "ca5c4864-b93c-41fb-9677-fd7f23853b89",
   "metadata": {},
   "outputs": [
    {
     "name": "stdout",
     "output_type": "stream",
     "text": [
      "Logged into <canada-1: Low side Domain> as <info@openmined.org>\n"
     ]
    },
    {
     "data": {
      "text/html": [
       "<div class=\"alert-warning\" style=\"padding:5px;\"><strong>SyftWarning</strong>: You are using a default password. Please change the password using `[your_client].me.set_password([new_password])`.</div><br />"
      ],
      "text/plain": [
       "SyftWarning: You are using a default password. Please change the password using `[your_client].me.set_password([new_password])`."
      ]
     },
     "metadata": {},
     "output_type": "display_data"
    },
    {
     "name": "stdout",
     "output_type": "stream",
     "text": [
      "Logged into <canada-2: High side Domain> as <info@openmined.org>\n"
     ]
    },
    {
     "data": {
      "text/html": [
       "<div class=\"alert-warning\" style=\"padding:5px;\"><strong>SyftWarning</strong>: You are using a default password. Please change the password using `[your_client].me.set_password([new_password])`.</div><br />"
      ],
      "text/plain": [
       "SyftWarning: You are using a default password. Please change the password using `[your_client].me.set_password([new_password])`."
      ]
     },
     "metadata": {},
     "output_type": "display_data"
    },
    {
     "name": "stdout",
     "output_type": "stream",
     "text": [
      "Logged into <canada-1: Low side Domain> as <sheldon@caltech.edu>\n"
     ]
    },
    {
     "data": {
      "text/html": [
       "<div class=\"alert-warning\" style=\"padding:5px;\"><strong>SyftWarning</strong>: You are using a default password. Please change the password using `[your_client].me.set_password([new_password])`.</div><br />"
      ],
      "text/plain": [
       "SyftWarning: You are using a default password. Please change the password using `[your_client].me.set_password([new_password])`."
      ]
     },
     "metadata": {},
     "output_type": "display_data"
    }
   ],
   "source": [
    "client_low_do = low_side.login(email=\"info@openmined.org\", password=\"changethis\")\n",
    "client_high_do = high_side.login(email=\"info@openmined.org\", password=\"changethis\")\n",
    "\n",
    "client_low_do.register(name=\"Sheldon\", email=\"sheldon@caltech.edu\", password=\"changethis\", password_verify=\"changethis\")\n",
    "client_low_ds = low_side.login(email=\"sheldon@caltech.edu\", password=\"changethis\")"
   ]
  },
  {
   "cell_type": "code",
   "execution_count": 5,
   "id": "757eb175-8f96-497a-8e98-f18cae4c6a0f",
   "metadata": {},
   "outputs": [
    {
     "name": "stderr",
     "output_type": "stream",
     "text": [
      "  0%|                                                     | 0/1 [00:00<?, ?it/s]"
     ]
    },
    {
     "name": "stdout",
     "output_type": "stream",
     "text": [
      "Uploading: numpy-data\n"
     ]
    },
    {
     "name": "stderr",
     "output_type": "stream",
     "text": [
      "100%|█████████████████████████████████████████████| 1/1 [00:00<00:00,  8.99it/s]\n"
     ]
    },
    {
     "data": {
      "text/html": [
       "<div class=\"alert-success\" style=\"padding:5px;\"><strong>SyftSuccess</strong>: Dataset uploaded to 'canada-1'. To see the datasets uploaded by a client on this node, use command `[your_client].datasets`</div><br />"
      ],
      "text/plain": [
       "SyftSuccess: Dataset uploaded to 'canada-1'. To see the datasets uploaded by a client on this node, use command `[your_client].datasets`"
      ]
     },
     "execution_count": 5,
     "metadata": {},
     "output_type": "execute_result"
    }
   ],
   "source": [
    "import numpy as np\n",
    "\n",
    "mock = np.random.random(10)\n",
    "real = np.random.random(10)\n",
    "\n",
    "dataset = sy.Dataset(\n",
    "        name=\"my-dataset\",\n",
    "        description=\"abc\",\n",
    "        asset_list=[\n",
    "            sy.Asset(\n",
    "                name=\"numpy-data\",\n",
    "                mock=mock,\n",
    "                data=real,\n",
    "                shape=real.shape,\n",
    "                mock_is_real=True,\n",
    "            )\n",
    "        ],\n",
    "    )\n",
    "\n",
    "client_low_do.upload_dataset(dataset)"
   ]
  },
  {
   "cell_type": "code",
   "execution_count": 6,
   "id": "9e7631fc-7e3b-456f-a486-eb5b75a65cb5",
   "metadata": {},
   "outputs": [
    {
     "name": "stderr",
     "output_type": "stream",
     "text": [
      "100%|█████████████████████████████████████████████| 1/1 [00:00<00:00,  8.49it/s]"
     ]
    },
    {
     "name": "stdout",
     "output_type": "stream",
     "text": [
      "Uploading: numpy-data\n"
     ]
    },
    {
     "name": "stderr",
     "output_type": "stream",
     "text": [
      "\n"
     ]
    },
    {
     "data": {
      "text/html": [
       "<div class=\"alert-success\" style=\"padding:5px;\"><strong>SyftSuccess</strong>: Dataset uploaded to 'canada-2'. To see the datasets uploaded by a client on this node, use command `[your_client].datasets`</div><br />"
      ],
      "text/plain": [
       "SyftSuccess: Dataset uploaded to 'canada-2'. To see the datasets uploaded by a client on this node, use command `[your_client].datasets`"
      ]
     },
     "execution_count": 6,
     "metadata": {},
     "output_type": "execute_result"
    }
   ],
   "source": [
    "import numpy as np\n",
    "\n",
    "mock = np.random.random(10)\n",
    "real = np.random.random(10)\n",
    "\n",
    "dataset = sy.Dataset(\n",
    "        name=\"my-dataset\",\n",
    "        description=\"abc\",\n",
    "        asset_list=[\n",
    "            sy.Asset(\n",
    "                name=\"numpy-data\",\n",
    "                mock=mock,\n",
    "                data=real,\n",
    "                shape=real.shape,\n",
    "                mock_is_real=True,\n",
    "            )\n",
    "        ],\n",
    "    )\n",
    "\n",
    "client_high_do.upload_dataset(dataset)"
   ]
  },
  {
   "cell_type": "code",
   "execution_count": 7,
   "id": "223d81c5-496e-4763-b4ed-31e1628b9c31",
   "metadata": {},
   "outputs": [
    {
     "data": {
      "text/html": [
       "<div class=\"alert-success\" style=\"padding:5px;\"><strong>SyftSuccess</strong>: Syft function 'compute_mean' successfully created. To add a code request, please create a project using `project = syft.Project(...)`, then use command `project.create_code_request`.</div><br />"
      ],
      "text/plain": [
       "SyftSuccess: Syft function 'compute_mean' successfully created. To add a code request, please create a project using `project = syft.Project(...)`, then use command `project.create_code_request`."
      ]
     },
     "metadata": {},
     "output_type": "display_data"
    },
    {
     "data": {
      "text/html": [
       "\n",
       "            <style>\n",
       "            .syft-request {color: #464158;}\n",
       "            </style>\n",
       "            <div class='syft-request'>\n",
       "                <h3>Request</h3>\n",
       "                <p><strong>Id: </strong>e1d0c1df52744a348f88ec7d4a84373f</p>\n",
       "                <p><strong>Request time: </strong>2024-01-03 13:41:27</p>\n",
       "                \n",
       "                \n",
       "                <p><strong>Status: </strong>RequestStatus.PENDING</p>\n",
       "                <p><strong>Requested on: </strong> Canada-1 of type <strong>                     Domain</strong></p>\n",
       "                <p><strong>Requested by:</strong> Sheldon (sheldon@caltech.edu) </p>\n",
       "                <p><strong>Changes: </strong> Request to change <b>compute_mean</b> to permission <b>RequestStatus.APPROVED</b>. Nested Requests not resolved. </p>\n",
       "            </div>\n",
       "\n",
       "            "
      ],
      "text/markdown": [
       "```python\n",
       "class Request:\n",
       "  id: str = e1d0c1df52744a348f88ec7d4a84373f\n",
       "  request_time: str = 2024-01-03 13:41:27\n",
       "  updated_at: str = None\n",
       "  status: str = RequestStatus.PENDING\n",
       "  changes: str = ['Request to change <b>compute_mean</b> to permission <b>RequestStatus.APPROVED</b>. Nested Requests not resolved']\n",
       "  requesting_user_verify_key: str = 12b3bebc199859087c42cce6fdda06936a92ec2b9b73685ab36a2d40d4ca8ead\n",
       "\n",
       "```"
      ],
      "text/plain": [
       "syft.service.request.request.Request"
      ]
     },
     "execution_count": 7,
     "metadata": {},
     "output_type": "execute_result"
    }
   ],
   "source": [
    "data = client_low_do.datasets[0].assets[0]\n",
    "\n",
    "@sy.syft_function_single_use(data=data)\n",
    "def compute_mean(data: np.ndarray) -> float:\n",
    "    return data.mean()\n",
    "\n",
    "client_low_ds.code.request_code_execution(compute_mean)"
   ]
  },
  {
   "cell_type": "code",
   "execution_count": 8,
   "id": "cef4ed9d-7d1d-43d6-9baf-5d59908cb8ec",
   "metadata": {},
   "outputs": [],
   "source": [
    "low_request = client_low_do.requests[0]"
   ]
  },
  {
   "cell_type": "code",
   "execution_count": 9,
   "id": "776c2b7f-4bf4-4170-9537-e57811d57d1e",
   "metadata": {},
   "outputs": [],
   "source": [
    "from syft.service.code.user_code import UserCode\n",
    "from syft.service.context import AuthedServiceContext"
   ]
  },
  {
   "cell_type": "code",
   "execution_count": 10,
   "id": "4807a33c-9edc-4851-a80c-2b3f69968a44",
   "metadata": {},
   "outputs": [
    {
     "data": {
      "text/html": [
       "<div class=\"alert-success\" style=\"padding:5px;\"><strong>SyftSuccess</strong>: User Code Submitted</div><br />"
      ],
      "text/plain": [
       "SyftSuccess: User Code Submitted"
      ]
     },
     "execution_count": 10,
     "metadata": {},
     "output_type": "execute_result"
    }
   ],
   "source": [
    "client_high_do.code.submit(low_request.code)"
   ]
  },
  {
   "cell_type": "code",
   "execution_count": 15,
   "id": "9f1029c4-01a6-49aa-9113-2db2662e8a0c",
   "metadata": {},
   "outputs": [],
   "source": [
    "client_high_do._fetch_api(client_high_do.credentials)"
   ]
  },
  {
   "cell_type": "code",
   "execution_count": 28,
   "id": "64547431-abee-42c8-98c0-3a5c11668e85",
   "metadata": {},
   "outputs": [
    {
     "data": {
      "text/html": [
       "<div class=\"alert-danger\" style=\"padding:5px;\"><strong>SyftError</strong>: `data` must be of type `ndarray` not `Asset`</div><br />"
      ],
      "text/plain": [
       "SyftError: `data` must be of type `ndarray` not `Asset`"
      ]
     },
     "execution_count": 28,
     "metadata": {},
     "output_type": "execute_result"
    }
   ],
   "source": [
    "data_high = client_high_do.datasets[0].assets[0]\n",
    "\n",
    "client_high_do.code.compute_mean(data=data_high)"
   ]
  },
  {
   "cell_type": "code",
   "execution_count": 27,
   "id": "f1f56ca2-596d-4776-a45d-6fd40b3fb058",
   "metadata": {},
   "outputs": [
    {
     "data": {
      "text/markdown": [
       "```python\n",
       "TwinPointer(Real)\n",
       "```\n",
       "array([0.79384466, 0.08654086, 0.21177165, 0.83140243, 0.62535285,\n",
       "       0.59940464, 0.65184947, 0.109039  , 0.58450115, 0.1062202 ])"
      ],
      "text/plain": [
       "TwinPointer(Real):\n",
       "array([0.79384466, 0.08654086, 0.21177165, 0.83140243, 0.62535285,\n",
       "       0.59940464, 0.65184947, 0.109039  , 0.58450115, 0.1062202 ])"
      ]
     },
     "execution_count": 27,
     "metadata": {},
     "output_type": "execute_result"
    }
   ],
   "source": [
    "data_high.pointer"
   ]
  },
  {
   "cell_type": "code",
   "execution_count": null,
   "id": "ce3f702a-79ee-48fb-b455-0b00dad3a3f2",
   "metadata": {},
   "outputs": [],
   "source": []
  }
 ],
 "metadata": {
  "kernelspec": {
   "display_name": "Python [conda env:pysyft] *",
   "language": "python",
   "name": "conda-env-pysyft-py"
  },
  "language_info": {
   "codemirror_mode": {
    "name": "ipython",
    "version": 3
   },
   "file_extension": ".py",
   "mimetype": "text/x-python",
   "name": "python",
   "nbconvert_exporter": "python",
   "pygments_lexer": "ipython3",
   "version": "3.11.5"
  }
 },
 "nbformat": 4,
 "nbformat_minor": 5
}
