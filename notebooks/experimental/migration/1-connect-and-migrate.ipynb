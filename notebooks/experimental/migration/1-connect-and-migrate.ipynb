{
 "cells": [
  {
   "cell_type": "code",
   "execution_count": 1,
   "id": "8549a375-cac4-4971-a113-d18e45774e62",
   "metadata": {},
   "outputs": [],
   "source": [
    "# syft absolute\n",
    "import syft as sy\n",
    "from syft.serde.recursive import TYPE_BANK\n",
    "from syft.service.log.log import SyftLog\n",
    "from syft.types.syft_object_registry import SyftObjectRegistry\n",
    "\n",
    "from syft.protocol.data_protocol import get_data_protocol"
   ]
  },
  {
   "cell_type": "code",
   "execution_count": 2,
   "id": "de15efbc-e962-4e67-b9cd-ed33bf7198d2",
   "metadata": {},
   "outputs": [],
   "source": [
    "dp = get_data_protocol()"
   ]
  },
  {
   "cell_type": "code",
   "execution_count": 3,
   "id": "7997dc38-8c3b-4a06-a050-d9453bfc0f3d",
   "metadata": {},
   "outputs": [],
   "source": [
    "# dp.protocol_history.keys()"
   ]
  },
  {
   "cell_type": "code",
   "execution_count": 4,
   "id": "c6cef09b-0727-45f4-960e-56c2a85259a5",
   "metadata": {},
   "outputs": [
    {
     "name": "stdout",
     "output_type": "stream",
     "text": [
      "Staging Protocol Changes...\n",
      "Object in Document Store that needs migration:  [<class 'syft.service.settings.settings.NodeSettings'>, <class 'syft.service.log.log.SyftLog'>, <class 'syft.service.job.job_stash.Job'>, <class 'syft.service.network.node_peer.NodePeer'>, <class 'syft.service.sync.sync_state.SyncState'>, <class 'syft.service.output.output_service.ExecutionOutput'>]\n",
      "Migrating data for: NodeSettings table.\n",
      "Migrating data for: SyftLog table.\n",
      "Migrating data for: JobItem table.\n",
      "Migrating data for: NodePeer table.\n",
      "Migrating data for: SyncState table.\n",
      "Migrating data for: ExecutionOutput table.\n",
      "could not find ExecutionOutput 1 in ObjectRegistry\n",
      "('ExecutionOutput', 1)\n"
     ]
    },
    {
     "ename": "Exception",
     "evalue": "Failed to migrate data for ExecutionOutput. Error: cannot unpack non-iterable NoneType object",
     "output_type": "error",
     "traceback": [
      "\u001b[0;31m---------------------------------------------------------------------------\u001b[0m",
      "\u001b[0;31mException\u001b[0m                                 Traceback (most recent call last)",
      "Cell \u001b[0;32mIn[4], line 1\u001b[0m\n\u001b[0;32m----> 1\u001b[0m node \u001b[38;5;241m=\u001b[39m sy\u001b[38;5;241m.\u001b[39morchestra\u001b[38;5;241m.\u001b[39mlaunch(\n\u001b[1;32m      2\u001b[0m     name\u001b[38;5;241m=\u001b[39m\u001b[38;5;124m\"\u001b[39m\u001b[38;5;124mtest_upgradbility\u001b[39m\u001b[38;5;124m\"\u001b[39m,\n\u001b[1;32m      3\u001b[0m     dev_mode\u001b[38;5;241m=\u001b[39m\u001b[38;5;28;01mTrue\u001b[39;00m,\n\u001b[1;32m      4\u001b[0m     local_db\u001b[38;5;241m=\u001b[39m\u001b[38;5;28;01mTrue\u001b[39;00m,\n\u001b[1;32m      5\u001b[0m     n_consumers\u001b[38;5;241m=\u001b[39m\u001b[38;5;241m2\u001b[39m,\n\u001b[1;32m      6\u001b[0m     create_producer\u001b[38;5;241m=\u001b[39m\u001b[38;5;28;01mTrue\u001b[39;00m,\n\u001b[1;32m      7\u001b[0m )\n",
      "File \u001b[0;32m~/OpenMined/PySyft/packages/syft/src/syft/orchestra.py:302\u001b[0m, in \u001b[0;36mOrchestra.launch\u001b[0;34m(name, node_type, deploy_to, node_side_type, port, processes, local_db, dev_mode, reset, tail, host, enable_warnings, n_consumers, thread_workers, create_producer, queue_port, association_request_auto_approval, background_tasks)\u001b[0m\n\u001b[1;32m    297\u001b[0m deployment_type_enum: DeploymentType \u001b[38;5;241m|\u001b[39m \u001b[38;5;28;01mNone\u001b[39;00m \u001b[38;5;241m=\u001b[39m get_deployment_type(\n\u001b[1;32m    298\u001b[0m     deployment_type\u001b[38;5;241m=\u001b[39mdeploy_to\n\u001b[1;32m    299\u001b[0m )\n\u001b[1;32m    301\u001b[0m \u001b[38;5;28;01mif\u001b[39;00m deployment_type_enum \u001b[38;5;241m==\u001b[39m DeploymentType\u001b[38;5;241m.\u001b[39mPYTHON:\n\u001b[0;32m--> 302\u001b[0m     \u001b[38;5;28;01mreturn\u001b[39;00m deploy_to_python(\n\u001b[1;32m    303\u001b[0m         node_type_enum\u001b[38;5;241m=\u001b[39mnode_type_enum,\n\u001b[1;32m    304\u001b[0m         deployment_type_enum\u001b[38;5;241m=\u001b[39mdeployment_type_enum,\n\u001b[1;32m    305\u001b[0m         port\u001b[38;5;241m=\u001b[39mport,\n\u001b[1;32m    306\u001b[0m         name\u001b[38;5;241m=\u001b[39mname,\n\u001b[1;32m    307\u001b[0m         host\u001b[38;5;241m=\u001b[39mhost,\n\u001b[1;32m    308\u001b[0m         reset\u001b[38;5;241m=\u001b[39mreset,\n\u001b[1;32m    309\u001b[0m         tail\u001b[38;5;241m=\u001b[39mtail,\n\u001b[1;32m    310\u001b[0m         dev_mode\u001b[38;5;241m=\u001b[39mdev_mode,\n\u001b[1;32m    311\u001b[0m         processes\u001b[38;5;241m=\u001b[39mprocesses,\n\u001b[1;32m    312\u001b[0m         local_db\u001b[38;5;241m=\u001b[39mlocal_db,\n\u001b[1;32m    313\u001b[0m         node_side_type\u001b[38;5;241m=\u001b[39mnode_side_type_enum,\n\u001b[1;32m    314\u001b[0m         enable_warnings\u001b[38;5;241m=\u001b[39menable_warnings,\n\u001b[1;32m    315\u001b[0m         n_consumers\u001b[38;5;241m=\u001b[39mn_consumers,\n\u001b[1;32m    316\u001b[0m         thread_workers\u001b[38;5;241m=\u001b[39mthread_workers,\n\u001b[1;32m    317\u001b[0m         create_producer\u001b[38;5;241m=\u001b[39mcreate_producer,\n\u001b[1;32m    318\u001b[0m         queue_port\u001b[38;5;241m=\u001b[39mqueue_port,\n\u001b[1;32m    319\u001b[0m         association_request_auto_approval\u001b[38;5;241m=\u001b[39massociation_request_auto_approval,\n\u001b[1;32m    320\u001b[0m         background_tasks\u001b[38;5;241m=\u001b[39mbackground_tasks,\n\u001b[1;32m    321\u001b[0m     )\n\u001b[1;32m    322\u001b[0m \u001b[38;5;28;01melif\u001b[39;00m deployment_type_enum \u001b[38;5;241m==\u001b[39m DeploymentType\u001b[38;5;241m.\u001b[39mREMOTE:\n\u001b[1;32m    323\u001b[0m     \u001b[38;5;28;01mreturn\u001b[39;00m deploy_to_remote(\n\u001b[1;32m    324\u001b[0m         node_type_enum\u001b[38;5;241m=\u001b[39mnode_type_enum,\n\u001b[1;32m    325\u001b[0m         deployment_type_enum\u001b[38;5;241m=\u001b[39mdeployment_type_enum,\n\u001b[1;32m    326\u001b[0m         name\u001b[38;5;241m=\u001b[39mname,\n\u001b[1;32m    327\u001b[0m         node_side_type\u001b[38;5;241m=\u001b[39mnode_side_type_enum,\n\u001b[1;32m    328\u001b[0m     )\n",
      "File \u001b[0;32m~/OpenMined/PySyft/packages/syft/src/syft/orchestra.py:227\u001b[0m, in \u001b[0;36mdeploy_to_python\u001b[0;34m(node_type_enum, deployment_type_enum, port, name, host, reset, tail, dev_mode, processes, local_db, node_side_type, enable_warnings, n_consumers, thread_workers, create_producer, queue_port, association_request_auto_approval, background_tasks)\u001b[0m\n\u001b[1;32m    225\u001b[0m     \u001b[38;5;28;01mif\u001b[39;00m \u001b[38;5;124m\"\u001b[39m\u001b[38;5;124mnode_type\u001b[39m\u001b[38;5;124m\"\u001b[39m \u001b[38;5;129;01min\u001b[39;00m sig\u001b[38;5;241m.\u001b[39mparameters\u001b[38;5;241m.\u001b[39mkeys() \u001b[38;5;129;01mand\u001b[39;00m \u001b[38;5;124m\"\u001b[39m\u001b[38;5;124mmigrate\u001b[39m\u001b[38;5;124m\"\u001b[39m \u001b[38;5;129;01min\u001b[39;00m sig\u001b[38;5;241m.\u001b[39mparameters:\n\u001b[1;32m    226\u001b[0m         supported_kwargs[\u001b[38;5;124m\"\u001b[39m\u001b[38;5;124mmigrate\u001b[39m\u001b[38;5;124m\"\u001b[39m] \u001b[38;5;241m=\u001b[39m \u001b[38;5;28;01mTrue\u001b[39;00m\n\u001b[0;32m--> 227\u001b[0m     worker \u001b[38;5;241m=\u001b[39m worker_class\u001b[38;5;241m.\u001b[39mnamed(\u001b[38;5;241m*\u001b[39m\u001b[38;5;241m*\u001b[39msupported_kwargs)\n\u001b[1;32m    228\u001b[0m \u001b[38;5;28;01melse\u001b[39;00m:\n\u001b[1;32m    229\u001b[0m     \u001b[38;5;28;01mraise\u001b[39;00m \u001b[38;5;167;01mNotImplementedError\u001b[39;00m(\u001b[38;5;124mf\u001b[39m\u001b[38;5;124m\"\u001b[39m\u001b[38;5;124mnode_type: \u001b[39m\u001b[38;5;132;01m{\u001b[39;00mnode_type_enum\u001b[38;5;132;01m}\u001b[39;00m\u001b[38;5;124m is not supported\u001b[39m\u001b[38;5;124m\"\u001b[39m)\n",
      "File \u001b[0;32m~/OpenMined/PySyft/packages/syft/src/syft/node/node.py:638\u001b[0m, in \u001b[0;36mNode.named\u001b[0;34m(cls, name, processes, reset, local_db, node_type, node_side_type, enable_warnings, n_consumers, thread_workers, create_producer, queue_port, dev_mode, migrate, in_memory_workers, association_request_auto_approval, background_tasks)\u001b[0m\n\u001b[1;32m    635\u001b[0m node_type \u001b[38;5;241m=\u001b[39m NodeType(node_type)\n\u001b[1;32m    636\u001b[0m node_side_type \u001b[38;5;241m=\u001b[39m NodeSideType(node_side_type)\n\u001b[0;32m--> 638\u001b[0m \u001b[38;5;28;01mreturn\u001b[39;00m \u001b[38;5;28mcls\u001b[39m(\n\u001b[1;32m    639\u001b[0m     name\u001b[38;5;241m=\u001b[39mname,\n\u001b[1;32m    640\u001b[0m     \u001b[38;5;28mid\u001b[39m\u001b[38;5;241m=\u001b[39muid,\n\u001b[1;32m    641\u001b[0m     signing_key\u001b[38;5;241m=\u001b[39mkey,\n\u001b[1;32m    642\u001b[0m     processes\u001b[38;5;241m=\u001b[39mprocesses,\n\u001b[1;32m    643\u001b[0m     local_db\u001b[38;5;241m=\u001b[39mlocal_db,\n\u001b[1;32m    644\u001b[0m     node_type\u001b[38;5;241m=\u001b[39mnode_type,\n\u001b[1;32m    645\u001b[0m     node_side_type\u001b[38;5;241m=\u001b[39mnode_side_type,\n\u001b[1;32m    646\u001b[0m     enable_warnings\u001b[38;5;241m=\u001b[39menable_warnings,\n\u001b[1;32m    647\u001b[0m     blob_storage_config\u001b[38;5;241m=\u001b[39mblob_storage_config,\n\u001b[1;32m    648\u001b[0m     queue_port\u001b[38;5;241m=\u001b[39mqueue_port,\n\u001b[1;32m    649\u001b[0m     n_consumers\u001b[38;5;241m=\u001b[39mn_consumers,\n\u001b[1;32m    650\u001b[0m     thread_workers\u001b[38;5;241m=\u001b[39mthread_workers,\n\u001b[1;32m    651\u001b[0m     create_producer\u001b[38;5;241m=\u001b[39mcreate_producer,\n\u001b[1;32m    652\u001b[0m     dev_mode\u001b[38;5;241m=\u001b[39mdev_mode,\n\u001b[1;32m    653\u001b[0m     migrate\u001b[38;5;241m=\u001b[39mmigrate,\n\u001b[1;32m    654\u001b[0m     in_memory_workers\u001b[38;5;241m=\u001b[39min_memory_workers,\n\u001b[1;32m    655\u001b[0m     reset\u001b[38;5;241m=\u001b[39mreset,\n\u001b[1;32m    656\u001b[0m     association_request_auto_approval\u001b[38;5;241m=\u001b[39massociation_request_auto_approval,\n\u001b[1;32m    657\u001b[0m     background_tasks\u001b[38;5;241m=\u001b[39mbackground_tasks,\n\u001b[1;32m    658\u001b[0m )\n",
      "File \u001b[0;32m~/OpenMined/PySyft/packages/syft/src/syft/node/node.py:413\u001b[0m, in \u001b[0;36mNode.__init__\u001b[0;34m(self, name, id, signing_key, action_store_config, document_store_config, root_email, root_username, root_password, processes, is_subprocess, node_type, local_db, reset, blob_storage_config, queue_config, queue_port, n_consumers, create_producer, thread_workers, node_side_type, enable_warnings, dev_mode, migrate, in_memory_workers, smtp_username, smtp_password, email_sender, smtp_port, smtp_host, association_request_auto_approval, background_tasks)\u001b[0m\n\u001b[1;32m    411\u001b[0m \u001b[38;5;66;03m# Migrate data before any operation on db\u001b[39;00m\n\u001b[1;32m    412\u001b[0m \u001b[38;5;28;01mif\u001b[39;00m migrate:\n\u001b[0;32m--> 413\u001b[0m     \u001b[38;5;28mself\u001b[39m\u001b[38;5;241m.\u001b[39mfind_and_migrate_data()\n\u001b[1;32m    415\u001b[0m \u001b[38;5;66;03m# first migrate, for backwards compatibility\u001b[39;00m\n\u001b[1;32m    416\u001b[0m \u001b[38;5;28mself\u001b[39m\u001b[38;5;241m.\u001b[39minit_queue_manager(queue_config\u001b[38;5;241m=\u001b[39m\u001b[38;5;28mself\u001b[39m\u001b[38;5;241m.\u001b[39mqueue_config)\n",
      "File \u001b[0;32m~/OpenMined/PySyft/packages/syft/src/syft/node/node.py:746\u001b[0m, in \u001b[0;36mNode.find_and_migrate_data\u001b[0;34m(self)\u001b[0m\n\u001b[1;32m    742\u001b[0m     migration_status \u001b[38;5;241m=\u001b[39m object_partition\u001b[38;5;241m.\u001b[39mmigrate_data(\n\u001b[1;32m    743\u001b[0m         to_klass\u001b[38;5;241m=\u001b[39mobject_type, context\u001b[38;5;241m=\u001b[39mcontext\n\u001b[1;32m    744\u001b[0m     )\n\u001b[1;32m    745\u001b[0m     \u001b[38;5;28;01mif\u001b[39;00m migration_status\u001b[38;5;241m.\u001b[39mis_err():\n\u001b[0;32m--> 746\u001b[0m         \u001b[38;5;28;01mraise\u001b[39;00m \u001b[38;5;167;01mException\u001b[39;00m(\n\u001b[1;32m    747\u001b[0m             \u001b[38;5;124mf\u001b[39m\u001b[38;5;124m\"\u001b[39m\u001b[38;5;124mFailed to migrate data for \u001b[39m\u001b[38;5;132;01m{\u001b[39;00mcanonical_name\u001b[38;5;132;01m}\u001b[39;00m\u001b[38;5;124m. Error: \u001b[39m\u001b[38;5;132;01m{\u001b[39;00mmigration_status\u001b[38;5;241m.\u001b[39merr()\u001b[38;5;132;01m}\u001b[39;00m\u001b[38;5;124m\"\u001b[39m\n\u001b[1;32m    748\u001b[0m         )\n\u001b[1;32m    750\u001b[0m \u001b[38;5;66;03m# Track all object types from action store\u001b[39;00m\n\u001b[1;32m    751\u001b[0m action_object_types \u001b[38;5;241m=\u001b[39m [Action, ActionObject]\n",
      "\u001b[0;31mException\u001b[0m: Failed to migrate data for ExecutionOutput. Error: cannot unpack non-iterable NoneType object"
     ]
    }
   ],
   "source": [
    "node = sy.orchestra.launch(\n",
    "    name=\"test_upgradbility\",\n",
    "    dev_mode=True,\n",
    "    local_db=True,\n",
    "    n_consumers=2,\n",
    "    create_producer=True,\n",
    ")\n"
   ]
  },
  {
   "cell_type": "code",
   "execution_count": null,
   "id": "62e2095b-5415-4e51-bccc-2671b2aecd53",
   "metadata": {},
   "outputs": [],
   "source": [
    "%debug"
   ]
  },
  {
   "cell_type": "code",
   "execution_count": null,
   "id": "52595e37-80e9-4432-8336-6eba3428b861",
   "metadata": {},
   "outputs": [],
   "source": [
    "# %debug"
   ]
  },
  {
   "cell_type": "code",
   "execution_count": null,
   "id": "157814cf-7a8e-48b4-97e4-0a79d50f6c91",
   "metadata": {},
   "outputs": [],
   "source": []
  },
  {
   "cell_type": "markdown",
   "id": "588875b5-4240-4189-a35f-f570dff109cb",
   "metadata": {},
   "source": [
    "## Appendix"
   ]
  },
  {
   "cell_type": "code",
   "execution_count": null,
   "id": "fbc74a67-3ba5-4fdf-93bb-c419fab0bafc",
   "metadata": {},
   "outputs": [],
   "source": [
    "log = SyftLog(job_id=sy.UID())"
   ]
  },
  {
   "cell_type": "markdown",
   "id": "af822756-804a-4919-ab81-c74bfcabedd3",
   "metadata": {},
   "source": [
    "eventually there are 3 cases\n",
    "- its s SyftObject with canonical_name and version (this works)\n",
    "- its not a syftobject, it still has a canonical_name and version (currently this is handled by splitting the fqn) (requires refactor)\n",
    "\n",
    "- it has a fqn (can either be SyftObject or non SyftObject) from previous version\n",
    "  - For deserialization of SyftObjects, this will give you the latest object\n",
    " \n",
    "\n",
    "  "
   ]
  },
  {
   "cell_type": "code",
   "execution_count": null,
   "id": "3910e732-c144-453b-834e-f9a1f3e1638e",
   "metadata": {},
   "outputs": [],
   "source": [
    "\n",
    "# we want to know, for this fqn, what is the object version. It should always be the one described in 4, because thats \n",
    "# the only migration we support\n",
    "# new_version = any([v[\"action\"] == \"add\" for v in dp.protocol_history[\"dev\"][\"object_versions\"][\"SyftLog\"].values()])\n",
    " # has the mapping of all the protocol version and classes version that are added or removed."
   ]
  },
  {
   "cell_type": "code",
   "execution_count": null,
   "id": "49f85396-67c1-468e-8ef9-e79a7b03bbd2",
   "metadata": {},
   "outputs": [],
   "source": [
    "# SyftLog.__canonical_name__"
   ]
  },
  {
   "cell_type": "code",
   "execution_count": null,
   "id": "283d2122-31cf-48a6-8353-58644c930402",
   "metadata": {},
   "outputs": [],
   "source": [
    "# version_mutations"
   ]
  },
  {
   "cell_type": "code",
   "execution_count": null,
   "id": "321b6994-3574-4c88-89ba-b4fb4070e9e3",
   "metadata": {},
   "outputs": [],
   "source": [
    "# bts = sy.serialize(log, to_bytes=True)"
   ]
  },
  {
   "cell_type": "code",
   "execution_count": null,
   "id": "f67a2444-3b34-42f3-9c61-10cbc0cfb9aa",
   "metadata": {},
   "outputs": [],
   "source": [
    "# with open(\"log086\", \"rb\") as f:\n",
    "#     bts = f.read()"
   ]
  },
  {
   "cell_type": "code",
   "execution_count": null,
   "id": "d879fa76-390e-4662-87df-1d9a694ac766",
   "metadata": {},
   "outputs": [
    {
     "name": "stdout",
     "output_type": "stream",
     "text": [
      "SyftLog 3\n",
      "3\n"
     ]
    }
   ],
   "source": [
    "log_des = sy.deserialize(bts, from_bytes=True)"
   ]
  },
  {
   "cell_type": "code",
   "execution_count": null,
   "id": "89b06471-3196-482e-abc6-41ff486fa70c",
   "metadata": {},
   "outputs": [
    {
     "data": {
      "text/markdown": [
       "```python\n",
       "class SyftLogV3:\n",
       "  id: str = a0adb0f277f54935acf25dc966a1de77\n",
       "  stdout: str = \"ABC\"\n",
       "  stderr: str = \"DEF\"\n",
       "\n",
       "```"
      ],
      "text/plain": [
       "syft.service.log.log.SyftLogV3"
      ]
     },
     "execution_count": 10,
     "metadata": {},
     "output_type": "execute_result"
    }
   ],
   "source": [
    "log_des"
   ]
  },
  {
   "cell_type": "markdown",
   "id": "cf4dab58-1727-4e28-b4c0-c3442ce0f553",
   "metadata": {},
   "source": [
    "if we dont have an old version, how are we going to test?\n",
    "\n",
    "- release a beta and test from there? (hard to test during development)\n",
    "- from a branch? (how does this work with protocol versions?)\n",
    "- if there is a fqn, we assume that its 0.8.6?\n",
    "- "
   ]
  },
  {
   "cell_type": "code",
   "execution_count": null,
   "id": "4fe63393-d834-42cd-b697-65e54a08026d",
   "metadata": {},
   "outputs": [],
   "source": [
    "\n",
    "TYPE_BANK[\"syft.service.log.log.SyftLog\"]"
   ]
  },
  {
   "cell_type": "code",
   "execution_count": null,
   "id": "b31309c4-2819-4a14-983e-ca62f537ebda",
   "metadata": {},
   "outputs": [],
   "source": [
    "#how do we test, because the old version does not contain any information"
   ]
  },
  {
   "cell_type": "code",
   "execution_count": null,
   "id": "ef0351a9-1fdb-488d-bb9b-d0e6016121fa",
   "metadata": {},
   "outputs": [],
   "source": [
    "from syft.types.syft_object import SyftObjectRegistry"
   ]
  },
  {
   "cell_type": "code",
   "execution_count": null,
   "id": "14aaac2b-8ad9-413f-be3d-d7369763f7e9",
   "metadata": {},
   "outputs": [],
   "source": [
    "SyftObjectRegistry.__object_version_registry__[\"SyftLog_3\"]"
   ]
  },
  {
   "cell_type": "markdown",
   "id": "5321f915-7b8c-471f-a5e4-261d764f961f",
   "metadata": {},
   "source": [
    "currently `fqn` -> all serialization properties\n",
    "\n",
    "this is problematic because `fqn` can point to different object versions (or to nothing) in different versions\n",
    "\n",
    "instead we want `version_string` to point to all those things\n",
    "\n",
    "\n",
    "we could either\n",
    "- remove TYPE_BANK\n",
    "- make `version_string` point to `fqn` which and get the serialization properties directly\n",
    "\n"
   ]
  },
  {
   "cell_type": "code",
   "execution_count": null,
   "id": "eea8fd60-db50-4ca1-8087-f763b845f90e",
   "metadata": {},
   "outputs": [],
   "source": [
    "def get_obj_registry_str_from_fqn(fqn):\n",
    "    (nonrecursive,\n",
    "    serialize,\n",
    "    deserialize,\n",
    "    attribute_list,\n",
    "    exclude_attrs_list,\n",
    "    serde_overrides,\n",
    "    hash_exclude_attrs,\n",
    "    cls,\n",
    "    attribute_types,\n",
    "    version) = TYPE_BANK[fqn]\n",
    "    object_registry_str = f\"{cls.__canonical_name__}_{cls.__version__}\"\n",
    "\n",
    "    return object_registry_str\n",
    "        "
   ]
  },
  {
   "cell_type": "code",
   "execution_count": null,
   "id": "7acfac72-7814-4237-9819-b9d9175c995d",
   "metadata": {},
   "outputs": [],
   "source": [
    "name = get_obj_registry_str_from_fqn(\"syft.service.log.log.SyftLog\")"
   ]
  },
  {
   "cell_type": "code",
   "execution_count": null,
   "id": "89a91634-27e7-4537-a32f-c56d1f4c5c9c",
   "metadata": {},
   "outputs": [],
   "source": [
    "SyftObjectRegistry.__object_version_registry__[name]"
   ]
  },
  {
   "cell_type": "code",
   "execution_count": null,
   "id": "5625828b-773b-4f0a-bedb-b22b964d3eaf",
   "metadata": {},
   "outputs": [],
   "source": []
  },
  {
   "cell_type": "code",
   "execution_count": null,
   "id": "b9814e27-d302-4b1a-a82f-38a2a52bcb8c",
   "metadata": {},
   "outputs": [],
   "source": []
  },
  {
   "cell_type": "code",
   "execution_count": null,
   "id": "a104d726-806d-4427-ba3d-0a91cc2cccfe",
   "metadata": {},
   "outputs": [],
   "source": []
  },
  {
   "cell_type": "code",
   "execution_count": null,
   "id": "60e3a4d4-6f32-4025-bffe-041b895f0c97",
   "metadata": {},
   "outputs": [],
   "source": [
    "\n",
    "# for x in SyftObjectRegistry.__object_version_registry__.keys():\n",
    "#     print(x)"
   ]
  },
  {
   "cell_type": "code",
   "execution_count": null,
   "id": "25c3b6b3-624b-40c9-9fd8-f24ef003274c",
   "metadata": {},
   "outputs": [],
   "source": [
    "sy.__version__"
   ]
  },
  {
   "cell_type": "code",
   "execution_count": null,
   "id": "43da857d-1054-4302-9656-2a51fadb9d00",
   "metadata": {},
   "outputs": [],
   "source": []
  },
  {
   "cell_type": "code",
   "execution_count": null,
   "id": "b1154e9f-3002-4e8f-a5f9-d097423d5702",
   "metadata": {},
   "outputs": [],
   "source": [
    "with open(\"log086\", \"rb\") as f:\n",
    "    bts = f.read()"
   ]
  },
  {
   "cell_type": "code",
   "execution_count": null,
   "id": "85f57681-b046-470a-a266-d4819c47f295",
   "metadata": {},
   "outputs": [
    {
     "ename": "ValidationError",
     "evalue": "1 validation error for SyftLog\njob_id\n  Field required [type=missing, input_value={'id': <UID: a0adb0f277f5...ft_node_location': None}, input_type=dict]\n    For further information visit https://errors.pydantic.dev/2.6/v/missing",
     "output_type": "error",
     "traceback": [
      "\u001b[0;31m---------------------------------------------------------------------------\u001b[0m",
      "\u001b[0;31mValidationError\u001b[0m                           Traceback (most recent call last)",
      "Cell \u001b[0;32mIn[6], line 1\u001b[0m\n\u001b[0;32m----> 1\u001b[0m log \u001b[38;5;241m=\u001b[39m \u001b[43msy\u001b[49m\u001b[38;5;241;43m.\u001b[39;49m\u001b[43mdeserialize\u001b[49m\u001b[43m(\u001b[49m\u001b[43mbts\u001b[49m\u001b[43m,\u001b[49m\u001b[43m \u001b[49m\u001b[43mfrom_bytes\u001b[49m\u001b[38;5;241;43m=\u001b[39;49m\u001b[38;5;28;43;01mTrue\u001b[39;49;00m\u001b[43m)\u001b[49m\n",
      "File \u001b[0;32m~/workspace/PySyft/packages/syft/src/syft/serde/deserialize.py:29\u001b[0m, in \u001b[0;36m_deserialize\u001b[0;34m(blob, from_proto, from_bytes)\u001b[0m\n\u001b[1;32m     26\u001b[0m     \u001b[38;5;28;01mraise\u001b[39;00m \u001b[38;5;167;01mTypeError\u001b[39;00m(\u001b[38;5;124m\"\u001b[39m\u001b[38;5;124mWrong deserialization format.\u001b[39m\u001b[38;5;124m\"\u001b[39m)\n\u001b[1;32m     28\u001b[0m \u001b[38;5;28;01mif\u001b[39;00m from_bytes:\n\u001b[0;32m---> 29\u001b[0m     \u001b[38;5;28;01mreturn\u001b[39;00m \u001b[43mrs_bytes2object\u001b[49m\u001b[43m(\u001b[49m\u001b[43mblob\u001b[49m\u001b[43m)\u001b[49m\n\u001b[1;32m     31\u001b[0m \u001b[38;5;28;01mif\u001b[39;00m from_proto:\n\u001b[1;32m     32\u001b[0m     \u001b[38;5;28;01mreturn\u001b[39;00m rs_proto2object(blob)\n",
      "File \u001b[0;32m~/workspace/PySyft/packages/syft/src/syft/serde/recursive.py:291\u001b[0m, in \u001b[0;36mrs_bytes2object\u001b[0;34m(blob)\u001b[0m\n\u001b[1;32m    286\u001b[0m MAX_TRAVERSAL_LIMIT \u001b[38;5;241m=\u001b[39m \u001b[38;5;241m2\u001b[39m\u001b[38;5;241m*\u001b[39m\u001b[38;5;241m*\u001b[39m\u001b[38;5;241m64\u001b[39m \u001b[38;5;241m-\u001b[39m \u001b[38;5;241m1\u001b[39m\n\u001b[1;32m    288\u001b[0m \u001b[38;5;28;01mwith\u001b[39;00m recursive_scheme\u001b[38;5;241m.\u001b[39mfrom_bytes(\n\u001b[1;32m    289\u001b[0m     blob, traversal_limit_in_words\u001b[38;5;241m=\u001b[39mMAX_TRAVERSAL_LIMIT\n\u001b[1;32m    290\u001b[0m ) \u001b[38;5;28;01mas\u001b[39;00m msg:\n\u001b[0;32m--> 291\u001b[0m     \u001b[38;5;28;01mreturn\u001b[39;00m \u001b[43mrs_proto2object\u001b[49m\u001b[43m(\u001b[49m\u001b[43mmsg\u001b[49m\u001b[43m)\u001b[49m\n",
      "File \u001b[0;32m~/workspace/PySyft/packages/syft/src/syft/serde/recursive.py:382\u001b[0m, in \u001b[0;36mrs_proto2object\u001b[0;34m(proto)\u001b[0m\n\u001b[1;32m    380\u001b[0m             \u001b[38;5;28msetattr\u001b[39m(obj, attr_name, attr_value)\n\u001b[1;32m    381\u001b[0m     \u001b[38;5;28;01melse\u001b[39;00m:\n\u001b[0;32m--> 382\u001b[0m         obj \u001b[38;5;241m=\u001b[39m \u001b[43mclass_type\u001b[49m\u001b[43m(\u001b[49m\u001b[38;5;241;43m*\u001b[39;49m\u001b[38;5;241;43m*\u001b[39;49m\u001b[43mkwargs\u001b[49m\u001b[43m)\u001b[49m\n\u001b[1;32m    384\u001b[0m \u001b[38;5;28;01melse\u001b[39;00m:\n\u001b[1;32m    385\u001b[0m     obj \u001b[38;5;241m=\u001b[39m class_type\u001b[38;5;241m.\u001b[39m\u001b[38;5;21m__new__\u001b[39m(class_type)  \u001b[38;5;66;03m# type: ignore\u001b[39;00m\n",
      "File \u001b[0;32m~/workspace/PySyft/packages/syft/src/syft/types/syft_object.py:590\u001b[0m, in \u001b[0;36mSyftObject.__init__\u001b[0;34m(self, **kwargs)\u001b[0m\n\u001b[1;32m    589\u001b[0m \u001b[38;5;28;01mdef\u001b[39;00m \u001b[38;5;21m__init__\u001b[39m(\u001b[38;5;28mself\u001b[39m, \u001b[38;5;241m*\u001b[39m\u001b[38;5;241m*\u001b[39mkwargs: Any) \u001b[38;5;241m-\u001b[39m\u001b[38;5;241m>\u001b[39m \u001b[38;5;28;01mNone\u001b[39;00m:\n\u001b[0;32m--> 590\u001b[0m     \u001b[38;5;28;43msuper\u001b[39;49m\u001b[43m(\u001b[49m\u001b[43m)\u001b[49m\u001b[38;5;241;43m.\u001b[39;49m\u001b[38;5;21;43m__init__\u001b[39;49m\u001b[43m(\u001b[49m\u001b[38;5;241;43m*\u001b[39;49m\u001b[38;5;241;43m*\u001b[39;49m\u001b[43mkwargs\u001b[49m\u001b[43m)\u001b[49m\n\u001b[1;32m    591\u001b[0m     \u001b[38;5;28mself\u001b[39m\u001b[38;5;241m.\u001b[39m_syft_set_validate_private_attrs_(\u001b[38;5;241m*\u001b[39m\u001b[38;5;241m*\u001b[39mkwargs)\n\u001b[1;32m    592\u001b[0m     \u001b[38;5;28mself\u001b[39m\u001b[38;5;241m.\u001b[39m__post_init__()\n",
      "File \u001b[0;32m/opt/anaconda3/envs/syft/lib/python3.12/site-packages/pydantic/main.py:171\u001b[0m, in \u001b[0;36mBaseModel.__init__\u001b[0;34m(self, **data)\u001b[0m\n\u001b[1;32m    169\u001b[0m \u001b[38;5;66;03m# `__tracebackhide__` tells pytest and some other tools to omit this function from tracebacks\u001b[39;00m\n\u001b[1;32m    170\u001b[0m __tracebackhide__ \u001b[38;5;241m=\u001b[39m \u001b[38;5;28;01mTrue\u001b[39;00m\n\u001b[0;32m--> 171\u001b[0m \u001b[38;5;28;43mself\u001b[39;49m\u001b[38;5;241;43m.\u001b[39;49m\u001b[43m__pydantic_validator__\u001b[49m\u001b[38;5;241;43m.\u001b[39;49m\u001b[43mvalidate_python\u001b[49m\u001b[43m(\u001b[49m\u001b[43mdata\u001b[49m\u001b[43m,\u001b[49m\u001b[43m \u001b[49m\u001b[43mself_instance\u001b[49m\u001b[38;5;241;43m=\u001b[39;49m\u001b[38;5;28;43mself\u001b[39;49m\u001b[43m)\u001b[49m\n",
      "\u001b[0;31mValidationError\u001b[0m: 1 validation error for SyftLog\njob_id\n  Field required [type=missing, input_value={'id': <UID: a0adb0f277f5...ft_node_location': None}, input_type=dict]\n    For further information visit https://errors.pydantic.dev/2.6/v/missing"
     ]
    }
   ],
   "source": [
    "log = sy.deserialize(bts, from_bytes=True)"
   ]
  },
  {
   "cell_type": "code",
   "execution_count": null,
   "id": "1c667a9e-6900-46e0-be1d-08b004ab5912",
   "metadata": {},
   "outputs": [
    {
     "name": "stdout",
     "output_type": "stream",
     "text": [
      "> \u001b[0;32m/opt/anaconda3/envs/syft/lib/python3.12/site-packages/pydantic/main.py\u001b[0m(171)\u001b[0;36m__init__\u001b[0;34m()\u001b[0m\n",
      "\u001b[0;32m    169 \u001b[0;31m        \u001b[0;31m# `__tracebackhide__` tells pytest and some other tools to omit this function from tracebacks\u001b[0m\u001b[0;34m\u001b[0m\u001b[0;34m\u001b[0m\u001b[0m\n",
      "\u001b[0m\u001b[0;32m    170 \u001b[0;31m        \u001b[0m__tracebackhide__\u001b[0m \u001b[0;34m=\u001b[0m \u001b[0;32mTrue\u001b[0m\u001b[0;34m\u001b[0m\u001b[0;34m\u001b[0m\u001b[0m\n",
      "\u001b[0m\u001b[0;32m--> 171 \u001b[0;31m        \u001b[0mself\u001b[0m\u001b[0;34m.\u001b[0m\u001b[0m__pydantic_validator__\u001b[0m\u001b[0;34m.\u001b[0m\u001b[0mvalidate_python\u001b[0m\u001b[0;34m(\u001b[0m\u001b[0mdata\u001b[0m\u001b[0;34m,\u001b[0m \u001b[0mself_instance\u001b[0m\u001b[0;34m=\u001b[0m\u001b[0mself\u001b[0m\u001b[0;34m)\u001b[0m\u001b[0;34m\u001b[0m\u001b[0;34m\u001b[0m\u001b[0m\n",
      "\u001b[0m\u001b[0;32m    172 \u001b[0;31m\u001b[0;34m\u001b[0m\u001b[0m\n",
      "\u001b[0m\u001b[0;32m    173 \u001b[0;31m    \u001b[0;31m# The following line sets a flag that we use to determine when `__init__` gets overridden by the user\u001b[0m\u001b[0;34m\u001b[0m\u001b[0;34m\u001b[0m\u001b[0m\n",
      "\u001b[0m\n"
     ]
    },
    {
     "name": "stdout",
     "output_type": "stream",
     "text": [
      "ipdb>  u\n"
     ]
    },
    {
     "name": "stdout",
     "output_type": "stream",
     "text": [
      "> \u001b[0;32m/Users/koen/workspace/PySyft/packages/syft/src/syft/types/syft_object.py\u001b[0m(590)\u001b[0;36m__init__\u001b[0;34m()\u001b[0m\n",
      "\u001b[0;32m    588 \u001b[0;31m\u001b[0;34m\u001b[0m\u001b[0m\n",
      "\u001b[0m\u001b[0;32m    589 \u001b[0;31m    \u001b[0;32mdef\u001b[0m \u001b[0m__init__\u001b[0m\u001b[0;34m(\u001b[0m\u001b[0mself\u001b[0m\u001b[0;34m,\u001b[0m \u001b[0;34m**\u001b[0m\u001b[0mkwargs\u001b[0m\u001b[0;34m:\u001b[0m \u001b[0mAny\u001b[0m\u001b[0;34m)\u001b[0m \u001b[0;34m->\u001b[0m \u001b[0;32mNone\u001b[0m\u001b[0;34m:\u001b[0m\u001b[0;34m\u001b[0m\u001b[0;34m\u001b[0m\u001b[0m\n",
      "\u001b[0m\u001b[0;32m--> 590 \u001b[0;31m        \u001b[0msuper\u001b[0m\u001b[0;34m(\u001b[0m\u001b[0;34m)\u001b[0m\u001b[0;34m.\u001b[0m\u001b[0m__init__\u001b[0m\u001b[0;34m(\u001b[0m\u001b[0;34m**\u001b[0m\u001b[0mkwargs\u001b[0m\u001b[0;34m)\u001b[0m\u001b[0;34m\u001b[0m\u001b[0;34m\u001b[0m\u001b[0m\n",
      "\u001b[0m\u001b[0;32m    591 \u001b[0;31m        \u001b[0mself\u001b[0m\u001b[0;34m.\u001b[0m\u001b[0m_syft_set_validate_private_attrs_\u001b[0m\u001b[0;34m(\u001b[0m\u001b[0;34m**\u001b[0m\u001b[0mkwargs\u001b[0m\u001b[0;34m)\u001b[0m\u001b[0;34m\u001b[0m\u001b[0;34m\u001b[0m\u001b[0m\n",
      "\u001b[0m\u001b[0;32m    592 \u001b[0;31m        \u001b[0mself\u001b[0m\u001b[0;34m.\u001b[0m\u001b[0m__post_init__\u001b[0m\u001b[0;34m(\u001b[0m\u001b[0;34m)\u001b[0m\u001b[0;34m\u001b[0m\u001b[0;34m\u001b[0m\u001b[0m\n",
      "\u001b[0m\n"
     ]
    },
    {
     "name": "stdout",
     "output_type": "stream",
     "text": [
      "ipdb>  u\n"
     ]
    },
    {
     "name": "stdout",
     "output_type": "stream",
     "text": [
      "> \u001b[0;32m/Users/koen/workspace/PySyft/packages/syft/src/syft/serde/recursive.py\u001b[0m(382)\u001b[0;36mrs_proto2object\u001b[0;34m()\u001b[0m\n",
      "\u001b[0;32m    380 \u001b[0;31m                \u001b[0msetattr\u001b[0m\u001b[0;34m(\u001b[0m\u001b[0mobj\u001b[0m\u001b[0;34m,\u001b[0m \u001b[0mattr_name\u001b[0m\u001b[0;34m,\u001b[0m \u001b[0mattr_value\u001b[0m\u001b[0;34m)\u001b[0m\u001b[0;34m\u001b[0m\u001b[0;34m\u001b[0m\u001b[0m\n",
      "\u001b[0m\u001b[0;32m    381 \u001b[0;31m        \u001b[0;32melse\u001b[0m\u001b[0;34m:\u001b[0m\u001b[0;34m\u001b[0m\u001b[0;34m\u001b[0m\u001b[0m\n",
      "\u001b[0m\u001b[0;32m--> 382 \u001b[0;31m            \u001b[0mobj\u001b[0m \u001b[0;34m=\u001b[0m \u001b[0mclass_type\u001b[0m\u001b[0;34m(\u001b[0m\u001b[0;34m**\u001b[0m\u001b[0mkwargs\u001b[0m\u001b[0;34m)\u001b[0m\u001b[0;34m\u001b[0m\u001b[0;34m\u001b[0m\u001b[0m\n",
      "\u001b[0m\u001b[0;32m    383 \u001b[0;31m\u001b[0;34m\u001b[0m\u001b[0m\n",
      "\u001b[0m\u001b[0;32m    384 \u001b[0;31m    \u001b[0;32melse\u001b[0m\u001b[0;34m:\u001b[0m\u001b[0;34m\u001b[0m\u001b[0;34m\u001b[0m\u001b[0m\n",
      "\u001b[0m\n"
     ]
    },
    {
     "name": "stdout",
     "output_type": "stream",
     "text": [
      "ipdb>  ll\n"
     ]
    },
    {
     "name": "stdout",
     "output_type": "stream",
     "text": [
      "\u001b[1;32m    294 \u001b[0m\u001b[0;32mdef\u001b[0m \u001b[0mrs_proto2object\u001b[0m\u001b[0;34m(\u001b[0m\u001b[0mproto\u001b[0m\u001b[0;34m:\u001b[0m \u001b[0m_DynamicStructBuilder\u001b[0m\u001b[0;34m)\u001b[0m \u001b[0;34m->\u001b[0m \u001b[0mAny\u001b[0m\u001b[0;34m:\u001b[0m\u001b[0;34m\u001b[0m\u001b[0;34m\u001b[0m\u001b[0m\n",
      "\u001b[1;32m    295 \u001b[0m    \u001b[0;31m# relative\u001b[0m\u001b[0;34m\u001b[0m\u001b[0;34m\u001b[0m\u001b[0m\n",
      "\u001b[1;32m    296 \u001b[0m    \u001b[0;32mfrom\u001b[0m \u001b[0;34m.\u001b[0m\u001b[0mdeserialize\u001b[0m \u001b[0;32mimport\u001b[0m \u001b[0m_deserialize\u001b[0m\u001b[0;34m\u001b[0m\u001b[0;34m\u001b[0m\u001b[0m\n",
      "\u001b[1;32m    297 \u001b[0m\u001b[0;34m\u001b[0m\u001b[0m\n",
      "\u001b[1;32m    298 \u001b[0m    \u001b[0;31m# clean this mess, Tudor\u001b[0m\u001b[0;34m\u001b[0m\u001b[0;34m\u001b[0m\u001b[0m\n",
      "\u001b[1;32m    299 \u001b[0m    \u001b[0mmodule_parts\u001b[0m \u001b[0;34m=\u001b[0m \u001b[0mproto\u001b[0m\u001b[0;34m.\u001b[0m\u001b[0mfullyQualifiedName\u001b[0m\u001b[0;34m.\u001b[0m\u001b[0msplit\u001b[0m\u001b[0;34m(\u001b[0m\u001b[0;34m\".\"\u001b[0m\u001b[0;34m)\u001b[0m\u001b[0;34m\u001b[0m\u001b[0;34m\u001b[0m\u001b[0m\n",
      "\u001b[1;32m    300 \u001b[0m    \u001b[0mklass\u001b[0m \u001b[0;34m=\u001b[0m \u001b[0mmodule_parts\u001b[0m\u001b[0;34m.\u001b[0m\u001b[0mpop\u001b[0m\u001b[0;34m(\u001b[0m\u001b[0;34m)\u001b[0m\u001b[0;34m\u001b[0m\u001b[0;34m\u001b[0m\u001b[0m\n",
      "\u001b[1;32m    301 \u001b[0m    \u001b[0mclass_type\u001b[0m\u001b[0;34m:\u001b[0m \u001b[0mtype\u001b[0m \u001b[0;34m|\u001b[0m \u001b[0mAny\u001b[0m \u001b[0;34m=\u001b[0m \u001b[0mtype\u001b[0m\u001b[0;34m(\u001b[0m\u001b[0;32mNone\u001b[0m\u001b[0;34m)\u001b[0m\u001b[0;34m\u001b[0m\u001b[0;34m\u001b[0m\u001b[0m\n",
      "\u001b[1;32m    302 \u001b[0m\u001b[0;34m\u001b[0m\u001b[0m\n",
      "\u001b[1;32m    303 \u001b[0m    \u001b[0;32mif\u001b[0m \u001b[0mklass\u001b[0m \u001b[0;34m!=\u001b[0m \u001b[0;34m\"NoneType\"\u001b[0m\u001b[0;34m:\u001b[0m\u001b[0;34m\u001b[0m\u001b[0;34m\u001b[0m\u001b[0m\n",
      "\u001b[1;32m    304 \u001b[0m        \u001b[0;32mtry\u001b[0m\u001b[0;34m:\u001b[0m\u001b[0;34m\u001b[0m\u001b[0;34m\u001b[0m\u001b[0m\n",
      "\u001b[1;32m    305 \u001b[0m            \u001b[0mclass_type\u001b[0m \u001b[0;34m=\u001b[0m \u001b[0mindex_syft_by_module_name\u001b[0m\u001b[0;34m(\u001b[0m\u001b[0mproto\u001b[0m\u001b[0;34m.\u001b[0m\u001b[0mfullyQualifiedName\u001b[0m\u001b[0;34m)\u001b[0m  \u001b[0;31m# type: ignore[assignment,unused-ignore]\u001b[0m\u001b[0;34m\u001b[0m\u001b[0;34m\u001b[0m\u001b[0m\n",
      "\u001b[1;32m    306 \u001b[0m        \u001b[0;32mexcept\u001b[0m \u001b[0mException\u001b[0m\u001b[0;34m:\u001b[0m  \u001b[0;31m# nosec\u001b[0m\u001b[0;34m\u001b[0m\u001b[0;34m\u001b[0m\u001b[0m\n",
      "\u001b[1;32m    307 \u001b[0m            \u001b[0;32mtry\u001b[0m\u001b[0;34m:\u001b[0m\u001b[0;34m\u001b[0m\u001b[0;34m\u001b[0m\u001b[0m\n",
      "\u001b[1;32m    308 \u001b[0m                \u001b[0mclass_type\u001b[0m \u001b[0;34m=\u001b[0m \u001b[0mgetattr\u001b[0m\u001b[0;34m(\u001b[0m\u001b[0msys\u001b[0m\u001b[0;34m.\u001b[0m\u001b[0mmodules\u001b[0m\u001b[0;34m[\u001b[0m\u001b[0;34m\".\"\u001b[0m\u001b[0;34m.\u001b[0m\u001b[0mjoin\u001b[0m\u001b[0;34m(\u001b[0m\u001b[0mmodule_parts\u001b[0m\u001b[0;34m)\u001b[0m\u001b[0;34m]\u001b[0m\u001b[0;34m,\u001b[0m \u001b[0mklass\u001b[0m\u001b[0;34m)\u001b[0m\u001b[0;34m\u001b[0m\u001b[0;34m\u001b[0m\u001b[0m\n",
      "\u001b[1;32m    309 \u001b[0m            \u001b[0;32mexcept\u001b[0m \u001b[0mException\u001b[0m\u001b[0;34m:\u001b[0m  \u001b[0;31m# nosec\u001b[0m\u001b[0;34m\u001b[0m\u001b[0;34m\u001b[0m\u001b[0m\n",
      "\u001b[1;32m    310 \u001b[0m                \u001b[0;32mif\u001b[0m \u001b[0;34m\"syft.user\"\u001b[0m \u001b[0;32min\u001b[0m \u001b[0mproto\u001b[0m\u001b[0;34m.\u001b[0m\u001b[0mfullyQualifiedName\u001b[0m\u001b[0;34m:\u001b[0m\u001b[0;34m\u001b[0m\u001b[0;34m\u001b[0m\u001b[0m\n",
      "\u001b[1;32m    311 \u001b[0m                    \u001b[0;31m# relative\u001b[0m\u001b[0;34m\u001b[0m\u001b[0;34m\u001b[0m\u001b[0m\n",
      "\u001b[1;32m    312 \u001b[0m                    \u001b[0;32mfrom\u001b[0m \u001b[0;34m.\u001b[0m\u001b[0;34m.\u001b[0m\u001b[0mnode\u001b[0m\u001b[0;34m.\u001b[0m\u001b[0mnode\u001b[0m \u001b[0;32mimport\u001b[0m \u001b[0mCODE_RELOADER\u001b[0m\u001b[0;34m\u001b[0m\u001b[0;34m\u001b[0m\u001b[0m\n",
      "\u001b[1;32m    313 \u001b[0m\u001b[0;34m\u001b[0m\u001b[0m\n",
      "\u001b[1;32m    314 \u001b[0m                    \u001b[0;32mfor\u001b[0m \u001b[0m_\u001b[0m\u001b[0;34m,\u001b[0m \u001b[0mload_user_code\u001b[0m \u001b[0;32min\u001b[0m \u001b[0mCODE_RELOADER\u001b[0m\u001b[0;34m.\u001b[0m\u001b[0mitems\u001b[0m\u001b[0;34m(\u001b[0m\u001b[0;34m)\u001b[0m\u001b[0;34m:\u001b[0m\u001b[0;34m\u001b[0m\u001b[0;34m\u001b[0m\u001b[0m\n",
      "\u001b[1;32m    315 \u001b[0m                        \u001b[0mload_user_code\u001b[0m\u001b[0;34m(\u001b[0m\u001b[0;34m)\u001b[0m\u001b[0;34m\u001b[0m\u001b[0;34m\u001b[0m\u001b[0m\n",
      "\u001b[1;32m    316 \u001b[0m                \u001b[0;32mtry\u001b[0m\u001b[0;34m:\u001b[0m\u001b[0;34m\u001b[0m\u001b[0;34m\u001b[0m\u001b[0m\n",
      "\u001b[1;32m    317 \u001b[0m                    \u001b[0mclass_type\u001b[0m \u001b[0;34m=\u001b[0m \u001b[0mgetattr\u001b[0m\u001b[0;34m(\u001b[0m\u001b[0msys\u001b[0m\u001b[0;34m.\u001b[0m\u001b[0mmodules\u001b[0m\u001b[0;34m[\u001b[0m\u001b[0;34m\".\"\u001b[0m\u001b[0;34m.\u001b[0m\u001b[0mjoin\u001b[0m\u001b[0;34m(\u001b[0m\u001b[0mmodule_parts\u001b[0m\u001b[0;34m)\u001b[0m\u001b[0;34m]\u001b[0m\u001b[0;34m,\u001b[0m \u001b[0mklass\u001b[0m\u001b[0;34m)\u001b[0m\u001b[0;34m\u001b[0m\u001b[0;34m\u001b[0m\u001b[0m\n",
      "\u001b[1;32m    318 \u001b[0m                \u001b[0;32mexcept\u001b[0m \u001b[0mException\u001b[0m\u001b[0;34m:\u001b[0m  \u001b[0;31m# nosec\u001b[0m\u001b[0;34m\u001b[0m\u001b[0;34m\u001b[0m\u001b[0m\n",
      "\u001b[1;32m    319 \u001b[0m                    \u001b[0;32mpass\u001b[0m\u001b[0;34m\u001b[0m\u001b[0;34m\u001b[0m\u001b[0m\n",
      "\u001b[1;32m    320 \u001b[0m\u001b[0;34m\u001b[0m\u001b[0m\n",
      "\u001b[1;32m    321 \u001b[0m    \u001b[0;32mif\u001b[0m \u001b[0mproto\u001b[0m\u001b[0;34m.\u001b[0m\u001b[0mfullyQualifiedName\u001b[0m \u001b[0;32mnot\u001b[0m \u001b[0;32min\u001b[0m \u001b[0mTYPE_BANK\u001b[0m\u001b[0;34m:\u001b[0m\u001b[0;34m\u001b[0m\u001b[0;34m\u001b[0m\u001b[0m\n",
      "\u001b[1;32m    322 \u001b[0m        \u001b[0;32mraise\u001b[0m \u001b[0mException\u001b[0m\u001b[0;34m(\u001b[0m\u001b[0;34mf\"\u001b[0m\u001b[0;34m{\u001b[0m\u001b[0mproto\u001b[0m\u001b[0;34m.\u001b[0m\u001b[0mfullyQualifiedName\u001b[0m\u001b[0;34m}\u001b[0m\u001b[0;34m not in TYPE_BANK\u001b[0m\u001b[0;34m\"\u001b[0m\u001b[0;34m)\u001b[0m\u001b[0;34m\u001b[0m\u001b[0;34m\u001b[0m\u001b[0m\n",
      "\u001b[1;32m    323 \u001b[0m\u001b[0;34m\u001b[0m\u001b[0m\n",
      "\u001b[1;32m    324 \u001b[0m    \u001b[0;31m# TODO: 🐉 sort this out, basically sometimes the syft.user classes are not in the\u001b[0m\u001b[0;34m\u001b[0m\u001b[0;34m\u001b[0m\u001b[0m\n",
      "\u001b[1;32m    325 \u001b[0m    \u001b[0;31m# module name space in sub-processes or threads even though they are loaded on start\u001b[0m\u001b[0;34m\u001b[0m\u001b[0;34m\u001b[0m\u001b[0m\n",
      "\u001b[1;32m    326 \u001b[0m    \u001b[0;31m# its possible that the uvicorn awsgi server is preloading a bunch of threads\u001b[0m\u001b[0;34m\u001b[0m\u001b[0;34m\u001b[0m\u001b[0m\n",
      "\u001b[1;32m    327 \u001b[0m    \u001b[0;31m# however simply getting the class from the TYPE_BANK doesn't always work and\u001b[0m\u001b[0;34m\u001b[0m\u001b[0;34m\u001b[0m\u001b[0m\n",
      "\u001b[1;32m    328 \u001b[0m    \u001b[0;31m# causes some errors so it seems like we want to get the local one where possible\u001b[0m\u001b[0;34m\u001b[0m\u001b[0;34m\u001b[0m\u001b[0m\n",
      "\u001b[1;32m    329 \u001b[0m    (\n",
      "\u001b[1;32m    330 \u001b[0m        \u001b[0mnonrecursive\u001b[0m\u001b[0;34m,\u001b[0m\u001b[0;34m\u001b[0m\u001b[0;34m\u001b[0m\u001b[0m\n",
      "\u001b[1;32m    331 \u001b[0m        \u001b[0mserialize\u001b[0m\u001b[0;34m,\u001b[0m\u001b[0;34m\u001b[0m\u001b[0;34m\u001b[0m\u001b[0m\n",
      "\u001b[1;32m    332 \u001b[0m        \u001b[0mdeserialize\u001b[0m\u001b[0;34m,\u001b[0m\u001b[0;34m\u001b[0m\u001b[0;34m\u001b[0m\u001b[0m\n",
      "\u001b[1;32m    333 \u001b[0m        \u001b[0mattribute_list\u001b[0m\u001b[0;34m,\u001b[0m\u001b[0;34m\u001b[0m\u001b[0;34m\u001b[0m\u001b[0m\n",
      "\u001b[1;32m    334 \u001b[0m        \u001b[0mexclude_attrs_list\u001b[0m\u001b[0;34m,\u001b[0m\u001b[0;34m\u001b[0m\u001b[0;34m\u001b[0m\u001b[0m\n",
      "\u001b[1;32m    335 \u001b[0m        \u001b[0mserde_overrides\u001b[0m\u001b[0;34m,\u001b[0m\u001b[0;34m\u001b[0m\u001b[0;34m\u001b[0m\u001b[0m\n",
      "\u001b[1;32m    336 \u001b[0m        \u001b[0mhash_exclude_attrs\u001b[0m\u001b[0;34m,\u001b[0m\u001b[0;34m\u001b[0m\u001b[0;34m\u001b[0m\u001b[0m\n",
      "\u001b[1;32m    337 \u001b[0m        \u001b[0mcls\u001b[0m\u001b[0;34m,\u001b[0m\u001b[0;34m\u001b[0m\u001b[0;34m\u001b[0m\u001b[0m\n",
      "\u001b[1;32m    338 \u001b[0m        \u001b[0mattribute_types\u001b[0m\u001b[0;34m,\u001b[0m\u001b[0;34m\u001b[0m\u001b[0;34m\u001b[0m\u001b[0m\n",
      "\u001b[1;32m    339 \u001b[0m        \u001b[0mversion\u001b[0m\u001b[0;34m,\u001b[0m\u001b[0;34m\u001b[0m\u001b[0;34m\u001b[0m\u001b[0m\n",
      "\u001b[1;32m    340 \u001b[0m    \u001b[0;34m)\u001b[0m \u001b[0;34m=\u001b[0m \u001b[0mTYPE_BANK\u001b[0m\u001b[0;34m[\u001b[0m\u001b[0mproto\u001b[0m\u001b[0;34m.\u001b[0m\u001b[0mfullyQualifiedName\u001b[0m\u001b[0;34m]\u001b[0m\u001b[0;34m\u001b[0m\u001b[0;34m\u001b[0m\u001b[0m\n",
      "\u001b[1;32m    341 \u001b[0m\u001b[0;34m\u001b[0m\u001b[0m\n",
      "\u001b[1;32m    342 \u001b[0m    \u001b[0;32mif\u001b[0m \u001b[0mclass_type\u001b[0m \u001b[0;34m==\u001b[0m \u001b[0mtype\u001b[0m\u001b[0;34m(\u001b[0m\u001b[0;32mNone\u001b[0m\u001b[0;34m)\u001b[0m\u001b[0;34m:\u001b[0m\u001b[0;34m\u001b[0m\u001b[0;34m\u001b[0m\u001b[0m\n",
      "\u001b[1;32m    343 \u001b[0m        \u001b[0;31m# yes this looks stupid but it works and the opposite breaks\u001b[0m\u001b[0;34m\u001b[0m\u001b[0;34m\u001b[0m\u001b[0m\n",
      "\u001b[1;32m    344 \u001b[0m        \u001b[0mclass_type\u001b[0m \u001b[0;34m=\u001b[0m \u001b[0mcls\u001b[0m\u001b[0;34m\u001b[0m\u001b[0;34m\u001b[0m\u001b[0m\n",
      "\u001b[1;32m    345 \u001b[0m\u001b[0;34m\u001b[0m\u001b[0m\n",
      "\u001b[1;32m    346 \u001b[0m    \u001b[0;32mif\u001b[0m \u001b[0mnonrecursive\u001b[0m\u001b[0;34m:\u001b[0m\u001b[0;34m\u001b[0m\u001b[0;34m\u001b[0m\u001b[0m\n",
      "\u001b[1;32m    347 \u001b[0m        \u001b[0;32mif\u001b[0m \u001b[0mdeserialize\u001b[0m \u001b[0;32mis\u001b[0m \u001b[0;32mNone\u001b[0m\u001b[0;34m:\u001b[0m\u001b[0;34m\u001b[0m\u001b[0;34m\u001b[0m\u001b[0m\n",
      "\u001b[1;32m    348 \u001b[0m            raise Exception(\n",
      "\u001b[1;32m    349 \u001b[0m                \u001b[0;34mf\"\u001b[0m\u001b[0;34mCant serialize \u001b[0m\u001b[0;34m{\u001b[0m\u001b[0mtype\u001b[0m\u001b[0;34m(\u001b[0m\u001b[0mproto\u001b[0m\u001b[0;34m)\u001b[0m\u001b[0;34m}\u001b[0m\u001b[0;34m nonrecursive without serialize.\u001b[0m\u001b[0;34m\"\u001b[0m\u001b[0;34m\u001b[0m\u001b[0;34m\u001b[0m\u001b[0m\n",
      "\u001b[1;32m    350 \u001b[0m            \u001b[0;34m)\u001b[0m\u001b[0;34m\u001b[0m\u001b[0;34m\u001b[0m\u001b[0m\n",
      "\u001b[1;32m    351 \u001b[0m\u001b[0;34m\u001b[0m\u001b[0m\n",
      "\u001b[1;32m    352 \u001b[0m        \u001b[0;32mreturn\u001b[0m \u001b[0mdeserialize\u001b[0m\u001b[0;34m(\u001b[0m\u001b[0mcombine_bytes\u001b[0m\u001b[0;34m(\u001b[0m\u001b[0mproto\u001b[0m\u001b[0;34m.\u001b[0m\u001b[0mnonrecursiveBlob\u001b[0m\u001b[0;34m)\u001b[0m\u001b[0;34m)\u001b[0m\u001b[0;34m\u001b[0m\u001b[0;34m\u001b[0m\u001b[0m\n",
      "\u001b[1;32m    353 \u001b[0m\u001b[0;34m\u001b[0m\u001b[0m\n",
      "\u001b[1;32m    354 \u001b[0m    \u001b[0mkwargs\u001b[0m \u001b[0;34m=\u001b[0m \u001b[0;34m{\u001b[0m\u001b[0;34m}\u001b[0m\u001b[0;34m\u001b[0m\u001b[0;34m\u001b[0m\u001b[0m\n",
      "\u001b[1;32m    355 \u001b[0m\u001b[0;34m\u001b[0m\u001b[0m\n",
      "\u001b[1;32m    356 \u001b[0m    \u001b[0;32mfor\u001b[0m \u001b[0mattr_name\u001b[0m\u001b[0;34m,\u001b[0m \u001b[0mattr_bytes_list\u001b[0m \u001b[0;32min\u001b[0m \u001b[0mzip\u001b[0m\u001b[0;34m(\u001b[0m\u001b[0mproto\u001b[0m\u001b[0;34m.\u001b[0m\u001b[0mfieldsName\u001b[0m\u001b[0;34m,\u001b[0m \u001b[0mproto\u001b[0m\u001b[0;34m.\u001b[0m\u001b[0mfieldsData\u001b[0m\u001b[0;34m)\u001b[0m\u001b[0;34m:\u001b[0m\u001b[0;34m\u001b[0m\u001b[0;34m\u001b[0m\u001b[0m\n",
      "\u001b[1;32m    357 \u001b[0m        \u001b[0;32mif\u001b[0m \u001b[0mattr_name\u001b[0m \u001b[0;34m!=\u001b[0m \u001b[0;34m\"\"\u001b[0m\u001b[0;34m:\u001b[0m\u001b[0;34m\u001b[0m\u001b[0;34m\u001b[0m\u001b[0m\n",
      "\u001b[1;32m    358 \u001b[0m            \u001b[0mattr_bytes\u001b[0m \u001b[0;34m=\u001b[0m \u001b[0mcombine_bytes\u001b[0m\u001b[0;34m(\u001b[0m\u001b[0mattr_bytes_list\u001b[0m\u001b[0;34m)\u001b[0m\u001b[0;34m\u001b[0m\u001b[0;34m\u001b[0m\u001b[0m\n",
      "\u001b[1;32m    359 \u001b[0m            \u001b[0mattr_value\u001b[0m \u001b[0;34m=\u001b[0m \u001b[0m_deserialize\u001b[0m\u001b[0;34m(\u001b[0m\u001b[0mattr_bytes\u001b[0m\u001b[0;34m,\u001b[0m \u001b[0mfrom_bytes\u001b[0m\u001b[0;34m=\u001b[0m\u001b[0;32mTrue\u001b[0m\u001b[0;34m)\u001b[0m\u001b[0;34m\u001b[0m\u001b[0;34m\u001b[0m\u001b[0m\n",
      "\u001b[1;32m    360 \u001b[0m            \u001b[0mtransforms\u001b[0m \u001b[0;34m=\u001b[0m \u001b[0mserde_overrides\u001b[0m\u001b[0;34m.\u001b[0m\u001b[0mget\u001b[0m\u001b[0;34m(\u001b[0m\u001b[0mattr_name\u001b[0m\u001b[0;34m,\u001b[0m \u001b[0;32mNone\u001b[0m\u001b[0;34m)\u001b[0m\u001b[0;34m\u001b[0m\u001b[0;34m\u001b[0m\u001b[0m\n",
      "\u001b[1;32m    361 \u001b[0m\u001b[0;34m\u001b[0m\u001b[0m\n",
      "\u001b[1;32m    362 \u001b[0m            \u001b[0;32mif\u001b[0m \u001b[0mtransforms\u001b[0m \u001b[0;32mis\u001b[0m \u001b[0;32mnot\u001b[0m \u001b[0;32mNone\u001b[0m\u001b[0;34m:\u001b[0m\u001b[0;34m\u001b[0m\u001b[0;34m\u001b[0m\u001b[0m\n",
      "\u001b[1;32m    363 \u001b[0m                \u001b[0mattr_value\u001b[0m \u001b[0;34m=\u001b[0m \u001b[0mtransforms\u001b[0m\u001b[0;34m[\u001b[0m\u001b[0;36m1\u001b[0m\u001b[0;34m]\u001b[0m\u001b[0;34m(\u001b[0m\u001b[0mattr_value\u001b[0m\u001b[0;34m)\u001b[0m\u001b[0;34m\u001b[0m\u001b[0;34m\u001b[0m\u001b[0m\n",
      "\u001b[1;32m    364 \u001b[0m            \u001b[0mkwargs\u001b[0m\u001b[0;34m[\u001b[0m\u001b[0mattr_name\u001b[0m\u001b[0;34m]\u001b[0m \u001b[0;34m=\u001b[0m \u001b[0mattr_value\u001b[0m\u001b[0;34m\u001b[0m\u001b[0;34m\u001b[0m\u001b[0m\n",
      "\u001b[1;32m    365 \u001b[0m\u001b[0;34m\u001b[0m\u001b[0m\n",
      "\u001b[1;32m    366 \u001b[0m    \u001b[0;32mif\u001b[0m \u001b[0mhasattr\u001b[0m\u001b[0;34m(\u001b[0m\u001b[0mclass_type\u001b[0m\u001b[0;34m,\u001b[0m \u001b[0;34m\"serde_constructor\"\u001b[0m\u001b[0;34m)\u001b[0m\u001b[0;34m:\u001b[0m\u001b[0;34m\u001b[0m\u001b[0;34m\u001b[0m\u001b[0m\n",
      "\u001b[1;32m    367 \u001b[0m        \u001b[0;32mreturn\u001b[0m \u001b[0mclass_type\u001b[0m\u001b[0;34m.\u001b[0m\u001b[0mserde_constructor\u001b[0m\u001b[0;34m(\u001b[0m\u001b[0mkwargs\u001b[0m\u001b[0;34m)\u001b[0m\u001b[0;34m\u001b[0m\u001b[0;34m\u001b[0m\u001b[0m\n",
      "\u001b[1;32m    368 \u001b[0m\u001b[0;34m\u001b[0m\u001b[0m\n",
      "\u001b[1;32m    369 \u001b[0m    \u001b[0;32mif\u001b[0m \u001b[0missubclass\u001b[0m\u001b[0;34m(\u001b[0m\u001b[0mclass_type\u001b[0m\u001b[0;34m,\u001b[0m \u001b[0mEnum\u001b[0m\u001b[0;34m)\u001b[0m \u001b[0;32mand\u001b[0m \u001b[0;34m\"value\"\u001b[0m \u001b[0;32min\u001b[0m \u001b[0mkwargs\u001b[0m\u001b[0;34m:\u001b[0m\u001b[0;34m\u001b[0m\u001b[0;34m\u001b[0m\u001b[0m\n",
      "\u001b[1;32m    370 \u001b[0m        \u001b[0mobj\u001b[0m \u001b[0;34m=\u001b[0m \u001b[0mclass_type\u001b[0m\u001b[0;34m.\u001b[0m\u001b[0m__new__\u001b[0m\u001b[0;34m(\u001b[0m\u001b[0mclass_type\u001b[0m\u001b[0;34m,\u001b[0m \u001b[0mkwargs\u001b[0m\u001b[0;34m[\u001b[0m\u001b[0;34m\"value\"\u001b[0m\u001b[0;34m]\u001b[0m\u001b[0;34m)\u001b[0m\u001b[0;34m\u001b[0m\u001b[0;34m\u001b[0m\u001b[0m\n",
      "\u001b[1;32m    371 \u001b[0m    \u001b[0;32melif\u001b[0m \u001b[0missubclass\u001b[0m\u001b[0;34m(\u001b[0m\u001b[0mclass_type\u001b[0m\u001b[0;34m,\u001b[0m \u001b[0mBaseModel\u001b[0m\u001b[0;34m)\u001b[0m\u001b[0;34m:\u001b[0m\u001b[0;34m\u001b[0m\u001b[0;34m\u001b[0m\u001b[0m\n",
      "\u001b[1;32m    372 \u001b[0m        \u001b[0;31m# if we skip the __new__ flow of BaseModel we get the error\u001b[0m\u001b[0;34m\u001b[0m\u001b[0;34m\u001b[0m\u001b[0m\n",
      "\u001b[1;32m    373 \u001b[0m        \u001b[0;31m# AttributeError: object has no attribute '__fields_set__'\u001b[0m\u001b[0;34m\u001b[0m\u001b[0;34m\u001b[0m\u001b[0m\n",
      "\u001b[1;32m    374 \u001b[0m\u001b[0;34m\u001b[0m\u001b[0m\n",
      "\u001b[1;32m    375 \u001b[0m        \u001b[0;32mif\u001b[0m \u001b[0;34m\"syft.user\"\u001b[0m \u001b[0;32min\u001b[0m \u001b[0mproto\u001b[0m\u001b[0;34m.\u001b[0m\u001b[0mfullyQualifiedName\u001b[0m\u001b[0;34m:\u001b[0m\u001b[0;34m\u001b[0m\u001b[0;34m\u001b[0m\u001b[0m\n",
      "\u001b[1;32m    376 \u001b[0m            \u001b[0;31m# weird issues with pydantic and ForwardRef on user classes being inited\u001b[0m\u001b[0;34m\u001b[0m\u001b[0;34m\u001b[0m\u001b[0m\n",
      "\u001b[1;32m    377 \u001b[0m            \u001b[0;31m# with custom state args / kwargs\u001b[0m\u001b[0;34m\u001b[0m\u001b[0;34m\u001b[0m\u001b[0m\n",
      "\u001b[1;32m    378 \u001b[0m            \u001b[0mobj\u001b[0m \u001b[0;34m=\u001b[0m \u001b[0mclass_type\u001b[0m\u001b[0;34m(\u001b[0m\u001b[0;34m)\u001b[0m\u001b[0;34m\u001b[0m\u001b[0;34m\u001b[0m\u001b[0m\n",
      "\u001b[1;32m    379 \u001b[0m            \u001b[0;32mfor\u001b[0m \u001b[0mattr_name\u001b[0m\u001b[0;34m,\u001b[0m \u001b[0mattr_value\u001b[0m \u001b[0;32min\u001b[0m \u001b[0mkwargs\u001b[0m\u001b[0;34m.\u001b[0m\u001b[0mitems\u001b[0m\u001b[0;34m(\u001b[0m\u001b[0;34m)\u001b[0m\u001b[0;34m:\u001b[0m\u001b[0;34m\u001b[0m\u001b[0;34m\u001b[0m\u001b[0m\n",
      "\u001b[1;32m    380 \u001b[0m                \u001b[0msetattr\u001b[0m\u001b[0;34m(\u001b[0m\u001b[0mobj\u001b[0m\u001b[0;34m,\u001b[0m \u001b[0mattr_name\u001b[0m\u001b[0;34m,\u001b[0m \u001b[0mattr_value\u001b[0m\u001b[0;34m)\u001b[0m\u001b[0;34m\u001b[0m\u001b[0;34m\u001b[0m\u001b[0m\n",
      "\u001b[1;32m    381 \u001b[0m        \u001b[0;32melse\u001b[0m\u001b[0;34m:\u001b[0m\u001b[0;34m\u001b[0m\u001b[0;34m\u001b[0m\u001b[0m\n",
      "\u001b[0;32m--> 382 \u001b[0;31m            \u001b[0mobj\u001b[0m \u001b[0;34m=\u001b[0m \u001b[0mclass_type\u001b[0m\u001b[0;34m(\u001b[0m\u001b[0;34m**\u001b[0m\u001b[0mkwargs\u001b[0m\u001b[0;34m)\u001b[0m\u001b[0;34m\u001b[0m\u001b[0;34m\u001b[0m\u001b[0m\n",
      "\u001b[0m\u001b[1;32m    383 \u001b[0m\u001b[0;34m\u001b[0m\u001b[0m\n",
      "\u001b[1;32m    384 \u001b[0m    \u001b[0;32melse\u001b[0m\u001b[0;34m:\u001b[0m\u001b[0;34m\u001b[0m\u001b[0;34m\u001b[0m\u001b[0m\n",
      "\u001b[1;32m    385 \u001b[0m        \u001b[0mobj\u001b[0m \u001b[0;34m=\u001b[0m \u001b[0mclass_type\u001b[0m\u001b[0;34m.\u001b[0m\u001b[0m__new__\u001b[0m\u001b[0;34m(\u001b[0m\u001b[0mclass_type\u001b[0m\u001b[0;34m)\u001b[0m  \u001b[0;31m# type: ignore\u001b[0m\u001b[0;34m\u001b[0m\u001b[0;34m\u001b[0m\u001b[0m\n",
      "\u001b[1;32m    386 \u001b[0m        \u001b[0;32mfor\u001b[0m \u001b[0mattr_name\u001b[0m\u001b[0;34m,\u001b[0m \u001b[0mattr_value\u001b[0m \u001b[0;32min\u001b[0m \u001b[0mkwargs\u001b[0m\u001b[0;34m.\u001b[0m\u001b[0mitems\u001b[0m\u001b[0;34m(\u001b[0m\u001b[0;34m)\u001b[0m\u001b[0;34m:\u001b[0m\u001b[0;34m\u001b[0m\u001b[0;34m\u001b[0m\u001b[0m\n",
      "\u001b[1;32m    387 \u001b[0m            \u001b[0msetattr\u001b[0m\u001b[0;34m(\u001b[0m\u001b[0mobj\u001b[0m\u001b[0;34m,\u001b[0m \u001b[0mattr_name\u001b[0m\u001b[0;34m,\u001b[0m \u001b[0mattr_value\u001b[0m\u001b[0;34m)\u001b[0m\u001b[0;34m\u001b[0m\u001b[0;34m\u001b[0m\u001b[0m\n",
      "\u001b[1;32m    388 \u001b[0m\u001b[0;34m\u001b[0m\u001b[0m\n",
      "\u001b[1;32m    389 \u001b[0m    \u001b[0;32mreturn\u001b[0m \u001b[0mobj\u001b[0m\u001b[0;34m\u001b[0m\u001b[0;34m\u001b[0m\u001b[0m\n",
      "\u001b[1;32m    390 \u001b[0m\u001b[0;34m\u001b[0m\u001b[0m\n",
      "\n"
     ]
    },
    {
     "name": "stdout",
     "output_type": "stream",
     "text": [
      "ipdb>  klass\n"
     ]
    },
    {
     "name": "stdout",
     "output_type": "stream",
     "text": [
      "'SyftLog'\n"
     ]
    },
    {
     "name": "stdout",
     "output_type": "stream",
     "text": [
      "ipdb>  proto.fullyQualifiedName\n"
     ]
    },
    {
     "name": "stdout",
     "output_type": "stream",
     "text": [
      "'syft.service.log.log.SyftLog'\n"
     ]
    },
    {
     "name": "stdout",
     "output_type": "stream",
     "text": [
      "ipdb>  class_type\n"
     ]
    },
    {
     "name": "stdout",
     "output_type": "stream",
     "text": [
      "<class 'syft.service.log.log.SyftLog'>\n"
     ]
    },
    {
     "name": "stdout",
     "output_type": "stream",
     "text": [
      "ipdb>  index_syft_by_module_name(proto.fullyQualifiedName)\n"
     ]
    },
    {
     "name": "stdout",
     "output_type": "stream",
     "text": [
      "<class 'syft.service.log.log.SyftLog'>\n"
     ]
    },
    {
     "name": "stdout",
     "output_type": "stream",
     "text": [
      "ipdb>  q\n"
     ]
    }
   ],
   "source": [
    "%debug"
   ]
  },
  {
   "cell_type": "code",
   "execution_count": null,
   "id": "9af1f589-6df1-4b5e-9318-13d3c6273863",
   "metadata": {},
   "outputs": [],
   "source": [
    "import syft as syft"
   ]
  },
  {
   "cell_type": "code",
   "execution_count": null,
   "id": "6343e392-0b74-420c-b80a-9a940dd1e169",
   "metadata": {},
   "outputs": [],
   "source": [
    "import sys"
   ]
  },
  {
   "cell_type": "code",
   "execution_count": null,
   "id": "f17e274f-acd5-419f-8f78-3ae8a10ed0c4",
   "metadata": {},
   "outputs": [],
   "source": [
    "from syft.serde.recursive import TYPE_BANK"
   ]
  },
  {
   "cell_type": "code",
   "execution_count": null,
   "id": "53874015-5133-41eb-a158-afef9f64dc50",
   "metadata": {},
   "outputs": [],
   "source": [
    "# TYPE_BANK[\"syft.service.log.log.SyftLog\"]"
   ]
  },
  {
   "cell_type": "code",
   "execution_count": null,
   "id": "a6731ef4-a334-4d9c-9d44-7c3dd48ce442",
   "metadata": {},
   "outputs": [],
   "source": [
    "from typing import Type"
   ]
  },
  {
   "cell_type": "code",
   "execution_count": null,
   "id": "606f90c5-5b53-4b76-b4dc-5ef6e7635dce",
   "metadata": {},
   "outputs": [],
   "source": [
    "class SyftClassRegistry():\n",
    "    __class_registry__: dict[tuple, Type] = {}\n",
    "    is_built = False\n",
    "\n",
    "    @classmethod\n",
    "    def build():\n",
    "        for path, v in TYPE_BANK:\n",
    "            (nonrecursive,\n",
    "            serialize,\n",
    "            deserialize,\n",
    "            attribute_list,\n",
    "            exclude_attrs_list,\n",
    "            serde_overrides,\n",
    "            hash_exclude_attrs,\n",
    "            cls,\n",
    "            attribute_types,\n",
    "            version) = v\n",
    "            cls.__class_registry__[cls.__canonical_name__, cls.__version__] = cls\n",
    "        cls.is_build=True\n",
    "            \n",
    "    @classmethod\n",
    "    def get(cls, cannonical_name: str, version: str):\n",
    "        if not cls.is_built:\n",
    "            cls.build()\n",
    "        return cls.__class_registry__[cannonical_name, version]\n",
    "        \n",
    "            \n",
    "            \n",
    "\n",
    "\n"
   ]
  },
  {
   "cell_type": "code",
   "execution_count": null,
   "id": "8f08f3aa-d688-4820-93de-f0605d061c39",
   "metadata": {},
   "outputs": [],
   "source": [
    "(nonrecursive,\n",
    "serialize,\n",
    "deserialize,\n",
    "attribute_list,\n",
    "exclude_attrs_list,\n",
    "serde_overrides,\n",
    "hash_exclude_attrs,\n",
    "cls,\n",
    "attribute_types,\n",
    "version) = TYPE_BANK[\"syft.service.settings.settings.NodeSettingsV2\"]"
   ]
  },
  {
   "cell_type": "code",
   "execution_count": null,
   "id": "0f4bb863-208e-4d85-bfa4-3fd5c4ce9190",
   "metadata": {},
   "outputs": [
    {
     "data": {
      "text/plain": [
       "'SyftLog'"
      ]
     },
     "execution_count": 6,
     "metadata": {},
     "output_type": "execute_result"
    }
   ],
   "source": [
    "cls.__canonical_name__"
   ]
  },
  {
   "cell_type": "code",
   "execution_count": null,
   "id": "3e7a686c-f847-422d-a4e9-191914e20395",
   "metadata": {},
   "outputs": [
    {
     "data": {
      "text/plain": [
       "syft.service.log.log.SyftLog"
      ]
     },
     "execution_count": 41,
     "metadata": {},
     "output_type": "execute_result"
    }
   ],
   "source": [
    "cls"
   ]
  },
  {
   "cell_type": "code",
   "execution_count": null,
   "id": "bcf6ea01-e9d7-4c45-9197-95d663bc0320",
   "metadata": {},
   "outputs": [],
   "source": [
    "(nonrecursive,\n",
    "serialize,\n",
    "deserialize,\n",
    "attribute_list,\n",
    "exclude_attrs_list,\n",
    "serde_overrides,\n",
    "hash_exclude_attrs,\n",
    "cls,\n",
    "attribute_types,\n",
    "version) = TYPE_BANK[\"syft.service.log.log.SyftLog\"]"
   ]
  },
  {
   "cell_type": "code",
   "execution_count": null,
   "id": "4423ae98-12d1-44e9-8822-cf446a861ea4",
   "metadata": {},
   "outputs": [],
   "source": [
    "from syft.protocol.data_protocol import get_data_protocol\n",
    "\n",
    "dp = get_data_protocol()"
   ]
  },
  {
   "cell_type": "code",
   "execution_count": null,
   "id": "68581aa2-288a-4df0-8280-3a6645966583",
   "metadata": {},
   "outputs": [],
   "source": [
    "# dp.current"
   ]
  },
  {
   "cell_type": "code",
   "execution_count": null,
   "id": "13372b49-2f1f-4eef-b677-0d3dc0d6aa65",
   "metadata": {},
   "outputs": [],
   "source": [
    "# dp.protocol_history"
   ]
  },
  {
   "cell_type": "code",
   "execution_count": null,
   "id": "3d99784e-91e7-48c7-b0bc-0e5457932513",
   "metadata": {},
   "outputs": [],
   "source": [
    "version = \"3\""
   ]
  },
  {
   "cell_type": "code",
   "execution_count": null,
   "id": "c0fa6720-a5bf-41bf-b9cc-3913529ff269",
   "metadata": {},
   "outputs": [
    {
     "ename": "AttributeError",
     "evalue": "module 'syft.service.log.log' has no attribute 'SyftLogV1'",
     "output_type": "error",
     "traceback": [
      "\u001b[0;31m---------------------------------------------------------------------------\u001b[0m",
      "\u001b[0;31mAttributeError\u001b[0m                            Traceback (most recent call last)",
      "Cell \u001b[0;32mIn[21], line 1\u001b[0m\n\u001b[0;32m----> 1\u001b[0m \u001b[43msys\u001b[49m\u001b[38;5;241;43m.\u001b[39;49m\u001b[43mmodules\u001b[49m\u001b[43m[\u001b[49m\u001b[38;5;124;43m\"\u001b[39;49m\u001b[38;5;124;43msyft.service.log.log\u001b[39;49m\u001b[38;5;124;43m\"\u001b[39;49m\u001b[43m]\u001b[49m\u001b[38;5;241;43m.\u001b[39;49m\u001b[43mSyftLogV1\u001b[49m\n",
      "\u001b[0;31mAttributeError\u001b[0m: module 'syft.service.log.log' has no attribute 'SyftLogV1'"
     ]
    }
   ],
   "source": [
    "sys.modules[\"syft.service.log.log\"].SyftLogV1"
   ]
  },
  {
   "cell_type": "markdown",
   "id": "6d26438a-32a0-4e4c-be6e-fd063905db44",
   "metadata": {},
   "source": [
    "- problem 1: it indexes classes by their location in the previous version, which may change in the current version\n",
    "- problem 2: resolving the name of the class to the version is dynamic and has a different meaning accross versions, therefore having just the class name is not enough\n",
    "\n",
    "Solution: create a `SyftClassRegistry` that follows the same patterns as the `stage_` logic\n"
   ]
  },
  {
   "cell_type": "code",
   "execution_count": null,
   "id": "c4c32464-1053-43f2-819a-d7c11d0f83c5",
   "metadata": {},
   "outputs": [
    {
     "data": {
      "text/plain": [
       "<module 'syft.service.log.log' from '/Users/koen/workspace/PySyft/packages/syft/src/syft/service/log/log.py'>"
      ]
     },
     "execution_count": 10,
     "metadata": {},
     "output_type": "execute_result"
    }
   ],
   "source": [
    "syft.service.log.log"
   ]
  },
  {
   "cell_type": "code",
   "execution_count": null,
   "id": "2f4b6e5f-1542-44c6-bd2c-de0871b00de1",
   "metadata": {},
   "outputs": [
    {
     "data": {
      "text/plain": [
       "<module 'syft.service' from '/Users/koen/workspace/PySyft/packages/syft/src/syft/service/__init__.py'>"
      ]
     },
     "execution_count": 9,
     "metadata": {},
     "output_type": "execute_result"
    }
   ],
   "source": [
    "syft.__dict__[\"service\"]"
   ]
  },
  {
   "cell_type": "code",
   "execution_count": null,
   "id": "dc2b7e8d-0e8a-4c9b-9259-ad3857c33901",
   "metadata": {},
   "outputs": [],
   "source": []
  }
 ],
 "metadata": {
  "kernelspec": {
   "display_name": "Python 3 (ipykernel)",
   "language": "python",
   "name": "python3"
  },
  "language_info": {
   "codemirror_mode": {
    "name": "ipython",
    "version": 3
   },
   "file_extension": ".py",
   "mimetype": "text/x-python",
   "name": "python",
   "nbconvert_exporter": "python",
   "pygments_lexer": "ipython3",
   "version": "3.11.8"
  }
 },
 "nbformat": 4,
 "nbformat_minor": 5
}
