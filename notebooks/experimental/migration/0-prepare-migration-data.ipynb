{
 "cells": [
  {
   "cell_type": "code",
   "execution_count": 1,
   "id": "05a33e56-64df-408b-bfa0-a9a73086a916",
   "metadata": {},
   "outputs": [],
   "source": [
    "# syft absolute\n",
    "import syft as sy\n",
    "from syft import ActionObject\n",
    "import numpy as np"
   ]
  },
  {
   "cell_type": "code",
   "execution_count": 2,
   "id": "276409fc-02bd-4bfb-a958-dfcf399af76b",
   "metadata": {},
   "outputs": [
    {
     "data": {
      "text/plain": [
       "'0.8.6'"
      ]
     },
     "execution_count": 2,
     "metadata": {},
     "output_type": "execute_result"
    }
   ],
   "source": [
    "sy.__version__"
   ]
  },
  {
   "cell_type": "code",
   "execution_count": 3,
   "id": "30ce91ba",
   "metadata": {},
   "outputs": [],
   "source": [
    "import os\n",
    "os.environ[\"ORCHESTRA_DEPLOYMENT_TYPE\"] = \"k8s\""
   ]
  },
  {
   "cell_type": "code",
   "execution_count": 4,
   "id": "19faad95-736d-4ad2-b650-da37a6a4ee8a",
   "metadata": {},
   "outputs": [
    {
     "data": {
      "text/plain": [
       "<hagrid.orchestra.NodeHandle at 0x782bbbeb3b30>"
      ]
     },
     "execution_count": 4,
     "metadata": {},
     "output_type": "execute_result"
    }
   ],
   "source": [
    "node = sy.orchestra.launch(name=\"syft-example-domain-1\", deploy_to=\"k8s\")\n",
    "node"
   ]
  },
  {
   "cell_type": "code",
   "execution_count": 5,
   "id": "8dc8067e-c238-4bb6-a5b5-7f53bb5175f7",
   "metadata": {},
   "outputs": [
    {
     "name": "stdout",
     "output_type": "stream",
     "text": [
      "Logged into <my-syft: High-side Domain> as GUEST\n"
     ]
    }
   ],
   "source": [
    "client = node.login(email=\"info@openmined.org\", password=\"Zp33HpLoC2cHVYsYuyOD6Q7M2v7NKHdt\")"
   ]
  },
  {
   "cell_type": "code",
   "execution_count": 6,
   "id": "e9fd34c6",
   "metadata": {},
   "outputs": [
    {
     "data": {
      "text/html": [
       "<div class=\"alert-danger\" style=\"padding:5px;\"><strong>SyftError</strong>: No user exists with info@openmined.org and supplied password.</div><br />"
      ],
      "text/plain": [
       "SyftError: No user exists with info@openmined.org and supplied password."
      ]
     },
     "execution_count": 6,
     "metadata": {},
     "output_type": "execute_result"
    }
   ],
   "source": [
    "client"
   ]
  },
  {
   "cell_type": "code",
   "execution_count": 10,
   "id": "41685ebe-734e-4b72-9c8c-577e7c0fa36c",
   "metadata": {},
   "outputs": [
    {
     "data": {
      "text/html": [
       "<div class=\"alert-success\" style=\"padding:5px;\"><strong>SyftSuccess</strong>: User 'John Doe' successfully registered! To see users, run `[your_client].users`</div><br />"
      ],
      "text/plain": [
       "SyftSuccess: User 'John Doe' successfully registered! To see users, run `[your_client].users`"
      ]
     },
     "execution_count": 10,
     "metadata": {},
     "output_type": "execute_result"
    }
   ],
   "source": [
    "client.register(\n",
    "    email=\"ds@openmined.org\", name=\"John Doe\", password=\"pw\", password_verify=\"pw\"\n",
    ")"
   ]
  },
  {
   "cell_type": "markdown",
   "id": "86be45d6-b973-472f-9cc2-44aa51b8cdce",
   "metadata": {},
   "source": [
    "# Prepare some data"
   ]
  },
  {
   "cell_type": "code",
   "execution_count": null,
   "id": "bc4eac13-013b-4841-9391-0f026a043746",
   "metadata": {},
   "outputs": [
    {
     "name": "stdout",
     "output_type": "stream",
     "text": [
      "Logged into <test_upgradbility: High side Domain> as <ds@openmined.org>\n"
     ]
    }
   ],
   "source": [
    "client_ds = node.login(email=\"ds@openmined.org\", password=\"pw\")"
   ]
  },
  {
   "cell_type": "code",
   "execution_count": null,
   "id": "705c0d71-ec57-4707-bebf-899ad4669010",
   "metadata": {},
   "outputs": [
    {
     "name": "stderr",
     "output_type": "stream",
     "text": [
      "100%|██████████| 1/1 [00:00<00:00, 11.69it/s]"
     ]
    },
    {
     "name": "stdout",
     "output_type": "stream",
     "text": [
      "Uploading: numpy-data\n"
     ]
    },
    {
     "name": "stderr",
     "output_type": "stream",
     "text": [
      "\n"
     ]
    },
    {
     "data": {
      "text/html": [
       "<div class=\"alert-success\" style=\"padding:5px;\"><strong>SyftSuccess</strong>: Dataset uploaded to 'test_upgradbility'. To see the datasets uploaded by a client on this node, use command `[your_client].datasets`</div><br />"
      ],
      "text/plain": [
       "SyftSuccess: Dataset uploaded to 'test_upgradbility'. To see the datasets uploaded by a client on this node, use command `[your_client].datasets`"
      ]
     },
     "execution_count": 7,
     "metadata": {},
     "output_type": "execute_result"
    }
   ],
   "source": [
    "dataset = sy.Dataset(\n",
    "    name=\"my-dataset\",\n",
    "    description=\"abc\",\n",
    "    asset_list=[\n",
    "        sy.Asset(\n",
    "            name=\"numpy-data\",\n",
    "            mock=np.array([10, 11, 12, 13, 14]),\n",
    "            data=np.array([15, 16, 17, 18, 19]),\n",
    "            mock_is_real=True,\n",
    "        )\n",
    "    ],\n",
    ")\n",
    "\n",
    "client.upload_dataset(dataset)"
   ]
  },
  {
   "cell_type": "code",
   "execution_count": null,
   "id": "f0f5d9e2-4fa3-48fb-bf09-67c5821fc439",
   "metadata": {},
   "outputs": [
    {
     "data": {
      "text/html": [
       "<div class=\"alert-success\" style=\"padding:5px;\"><strong>SyftSuccess</strong>: Syft function 'compute_mean' successfully created. To add a code request, please create a project using `project = syft.Project(...)`, then use command `project.create_code_request`.</div><br />"
      ],
      "text/plain": [
       "SyftSuccess: Syft function 'compute_mean' successfully created. To add a code request, please create a project using `project = syft.Project(...)`, then use command `project.create_code_request`."
      ]
     },
     "metadata": {},
     "output_type": "display_data"
    }
   ],
   "source": [
    "data_low = client_ds.datasets[0].assets[0]\n",
    "\n",
    "@sy.syft_function_single_use(data=data_low)\n",
    "def compute_mean(data) -> float:\n",
    "    print(\"Computing mean...\")\n",
    "    return data"
   ]
  },
  {
   "cell_type": "code",
   "execution_count": null,
   "id": "e47e1e4e-ae5b-420f-8daf-024dde9b1753",
   "metadata": {},
   "outputs": [],
   "source": [
    "req = client_ds.code.request_code_execution(compute_mean)"
   ]
  },
  {
   "cell_type": "markdown",
   "id": "4348d23b-1fbb-4510-9ddb-2c8bb2a157c7",
   "metadata": {},
   "source": [
    "## TODO: add more data"
   ]
  },
  {
   "cell_type": "code",
   "execution_count": null,
   "id": "273e5d98-054f-4945-8e76-9d5585638866",
   "metadata": {},
   "outputs": [
    {
     "name": "stdout",
     "output_type": "stream",
     "text": [
      "Approving request for domain test_upgradbility\n"
     ]
    },
    {
     "data": {
      "text/html": [
       "<div class=\"alert-success\" style=\"padding:5px;\"><strong>SyftSuccess</strong>: Request 0e2a01b055a247eda6ce5a288e73484c changes applied</div><br />"
      ],
      "text/plain": [
       "SyftSuccess: Request 0e2a01b055a247eda6ce5a288e73484c changes applied"
      ]
     },
     "execution_count": 10,
     "metadata": {},
     "output_type": "execute_result"
    }
   ],
   "source": [
    "client.requests[0].approve()"
   ]
  },
  {
   "cell_type": "code",
   "execution_count": null,
   "id": "8ebd189c-b52a-4fee-bc55-f28bdd87b902",
   "metadata": {},
   "outputs": [],
   "source": [
    "job = client_ds.code.compute_mean(data=data_low, blocking=False)"
   ]
  },
  {
   "cell_type": "code",
   "execution_count": null,
   "id": "a9eb0e15-7a93-4c18-bb15-c6939684b565",
   "metadata": {},
   "outputs": [
    {
     "name": "stderr",
     "output_type": "stream",
     "text": [
      "28/05/24 11:37:30 FUNCTION LOG (9598bc5afa504c67aa8c33265bebd4ed): Computing mean...\n"
     ]
    }
   ],
   "source": [
    "res = job.wait()"
   ]
  },
  {
   "cell_type": "code",
   "execution_count": null,
   "id": "2efa6b31-2739-4d47-908c-5c04c43c5cbd",
   "metadata": {},
   "outputs": [
    {
     "data": {
      "text/plain": [
       "array([15, 16, 17, 18, 19])"
      ]
     },
     "execution_count": 13,
     "metadata": {},
     "output_type": "execute_result"
    }
   ],
   "source": [
    "res.get()"
   ]
  },
  {
   "cell_type": "code",
   "execution_count": null,
   "id": "3ee26222-3ff4-4783-a41d-73eb8368489c",
   "metadata": {},
   "outputs": [],
   "source": [
    "# job.wait()"
   ]
  },
  {
   "cell_type": "code",
   "execution_count": null,
   "id": "31137c30-07e3-47a4-beea-a3e1f6e0f46d",
   "metadata": {},
   "outputs": [],
   "source": [
    "# res"
   ]
  },
  {
   "cell_type": "code",
   "execution_count": null,
   "id": "6f72f411-74bb-469f-8d61-ffc65e56eb56",
   "metadata": {},
   "outputs": [],
   "source": [
    "# result = job.wait().get()"
   ]
  },
  {
   "cell_type": "code",
   "execution_count": null,
   "id": "b8498780-814f-48b7-9a82-a9a5af4691f1",
   "metadata": {},
   "outputs": [],
   "source": []
  }
 ],
 "metadata": {
  "kernelspec": {
   "display_name": "syft_0.8.6",
   "language": "python",
   "name": "python3"
  },
  "language_info": {
   "codemirror_mode": {
    "name": "ipython",
    "version": 3
   },
   "file_extension": ".py",
   "mimetype": "text/x-python",
   "name": "python",
   "nbconvert_exporter": "python",
   "pygments_lexer": "ipython3",
   "version": "3.12.3"
  }
 },
 "nbformat": 4,
 "nbformat_minor": 5
}
