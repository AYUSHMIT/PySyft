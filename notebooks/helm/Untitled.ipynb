{
 "cells": [
  {
   "cell_type": "code",
   "execution_count": null,
   "id": "e85480a1",
   "metadata": {},
   "outputs": [],
   "source": [
    "\n",
    "\n",
    "\n",
    "\n",
    "\n"
   ]
  },
  {
   "cell_type": "code",
   "execution_count": null,
   "id": "ed90f23e",
   "metadata": {},
   "outputs": [],
   "source": []
  },
  {
   "cell_type": "code",
   "execution_count": null,
   "id": "5aa49887",
   "metadata": {},
   "outputs": [],
   "source": []
  },
  {
   "cell_type": "code",
   "execution_count": null,
   "id": "ffdcc5b2",
   "metadata": {},
   "outputs": [],
   "source": [
    "client.start_workers(n=5, configs=[{ram=16, cpu=8}.....], config=(ram=16, cpu=8))\n",
    "\n",
    "\n",
    "\n",
    "\n",
    "def execute_bytecode():\n",
    "    context\n",
    "    \n",
    "    def LocalDomainClient():\n",
    "        \n",
    "        \n",
    "        def logs(str):\n",
    "            context.write.logs(str)\n",
    "            \n",
    "    \n",
    "    byte_code:str\n",
    "        \n",
    "    \n",
    "    def my_syft_function():\n",
    "        \n",
    "        print(locals(), globals())\n",
    "        \n",
    "    execute_byte_code(byte_code, globals={domain: LocalDomainClient()})\n",
    "\n",
    "\n",
    "\n",
    "@syft_function(ram=16, cpus=8)\n",
    "def x():\n",
    "    pass\n",
    "\n",
    "METHOD 1 vs METHOD 3\n",
    "1. building container\n",
    "2. spinning up the container that does the work\n",
    "3. get inputs into contianer, get outputs out\n",
    "4. get some controls into the container\n",
    "5. monitoring (logs, cpu usage, ram usage)\n",
    "6. UX\n",
    "\n",
    "\n",
    "The work that needs to be done to complete 1 vs 3 is completely different, is it a good stepping stone?\n",
    "\n",
    "1.\n",
    "scenario 1: big container with Domain + syft_function specific libs\n",
    "scenario 3: small container with only syft function specific libs\n",
    "\n",
    "2. spinning up the container that does the work\n",
    "scenario 1: not spinning up a container\n",
    "scneario 3: spinning up with k8s vs spinning up in docker\n",
    "\n",
    "3. get inputs into contianer, get outputs out\n",
    "inputs: in scenario 1 you would pass in credentials, in scenario 3 we would use single use urls\n",
    "outputs: in scenario 1 you would pass in credentials, in scenario 3 single use urls\n",
    "\n",
    "4. get some controls into container (launch_job/write logs / set progress)\n",
    "Can be done naively by basically including a context object into the container.\n",
    "In scenario 1 we are not using a worker container (only manager container), so this is essentially already\n",
    "implemented. In scenario 3 we have to implement this\n",
    "\n",
    "5. monitoring (logs, cpu usage, ram usage)\n",
    "1: already implemented to some extended\n",
    "3a/3bdocker vs kubernetes\n",
    "\n",
    "6. UX\n",
    "scenario 1: spin up containers with fixed image and fixed nr of workers\n",
    "    \n",
    "scenario 3: spin up worker managers fixed nr of worker managers, but possibly flexible nr of workers\n",
    "scenario 3: in scenario 3 the hardware would be decoupled from the image\n",
    "scenario 3: in scenario 3 we would possibly have some kind automatic syft function placement (on which hardware) \n",
    "    \n",
    "    \n"
   ]
  },
  {
   "cell_type": "code",
   "execution_count": null,
   "id": "4457efb8",
   "metadata": {},
   "outputs": [],
   "source": [
    "n=5,9,13"
   ]
  },
  {
   "cell_type": "code",
   "execution_count": null,
   "id": "4cca82a3",
   "metadata": {},
   "outputs": [],
   "source": [
    "Question:\n",
    "    \n",
    "do we want work on worker managers to be always scheduled on the same hardware OR\n",
    "\n",
    "should it be scheduled with hardware contstraints, but not necessarily on the same hardware. This means that you\n",
    "will always meet constraints on a function level, but you have no control over distribution of the functions over\n",
    "the hardware\n",
    "\n",
    "    \n"
   ]
  },
  {
   "cell_type": "markdown",
   "id": "d24ee09c",
   "metadata": {},
   "source": [
    "3A"
   ]
  },
  {
   "cell_type": "code",
   "execution_count": null,
   "id": "de4f304f",
   "metadata": {},
   "outputs": [],
   "source": [
    "client.start_worker_managers(n=5, configs=[{ram=16, cpu=8}.....],)\n",
    "\n",
    "\n",
    "image = \"\"\n",
    "client.upload(image)\n",
    "\n",
    "syft_function(image=\"\")\n",
    "def abc():\n",
    "    pass\n",
    "\n",
    "\n",
    "def main_job():\n",
    "    for n in [5,9,13]:\n",
    "        if n in [5,9]:\n",
    "            abc(worker=1)\n",
    "        if n == 13:\n",
    "            abc(worker=2)\n"
   ]
  },
  {
   "cell_type": "code",
   "execution_count": null,
   "id": "521192a0",
   "metadata": {},
   "outputs": [],
   "source": [
    "worker = client.jobs[\"abc\"].worker"
   ]
  },
  {
   "cell_type": "code",
   "execution_count": null,
   "id": "9cde3100",
   "metadata": {},
   "outputs": [],
   "source": [
    "worker.cpu_history()"
   ]
  },
  {
   "cell_type": "markdown",
   "id": "8cfbd697",
   "metadata": {},
   "source": [
    "3B"
   ]
  },
  {
   "cell_type": "code",
   "execution_count": null,
   "id": "007ba97d",
   "metadata": {},
   "outputs": [],
   "source": [
    "client.allocate_resources(n=5, configs=[{ram=16, cpu=8}.....],\n",
    "                               config=(ram=16, cpu=8))\n",
    "\n",
    "image = \"\"\n",
    "client.upload(image)\n",
    "\n",
    "syft_function(image=\"\")\n",
    "def abc():\n",
    "    pass\n",
    "\n",
    "\n",
    "def main_job():\n",
    "    for n in [5,9,13]:\n",
    "        if n in [5,9]:\n",
    "            abc(ram=16)\n",
    "        if n == 13:\n",
    "            abc(ram=32)"
   ]
  },
  {
   "cell_type": "code",
   "execution_count": null,
   "id": "4bc3b5e5",
   "metadata": {},
   "outputs": [],
   "source": [
    "worker = client.jobs[\"abc\"].worker"
   ]
  },
  {
   "cell_type": "code",
   "execution_count": null,
   "id": "43fac896",
   "metadata": {},
   "outputs": [],
   "source": [
    "worker.cpu_history()"
   ]
  }
 ],
 "metadata": {
  "kernelspec": {
   "display_name": "Python 3 (ipykernel)",
   "language": "python",
   "name": "python3"
  },
  "language_info": {
   "codemirror_mode": {
    "name": "ipython",
    "version": 3
   },
   "file_extension": ".py",
   "mimetype": "text/x-python",
   "name": "python",
   "nbconvert_exporter": "python",
   "pygments_lexer": "ipython3",
   "version": "3.9.16"
  },
  "toc": {
   "base_numbering": 1,
   "nav_menu": {},
   "number_sections": true,
   "sideBar": true,
   "skip_h1_title": false,
   "title_cell": "Table of Contents",
   "title_sidebar": "Contents",
   "toc_cell": false,
   "toc_position": {},
   "toc_section_display": true,
   "toc_window_display": true
  }
 },
 "nbformat": 4,
 "nbformat_minor": 5
}
