{
 "cells": [
  {
   "cell_type": "code",
   "execution_count": 1,
   "metadata": {},
   "outputs": [
    {
     "name": "stderr",
     "output_type": "stream",
     "text": [
      "kj/filesystem-disk-unix.c++:1703: warning: PWD environment variable doesn't match current directory; pwd = /home/teo/OpenMined/PySyft\n"
     ]
    }
   ],
   "source": [
    "import syft as sy\n",
    "from syft.store.blob_storage import BlobStorageConfig, BlobStorageClientConfig\n",
    "from syft.store.blob_storage.seaweedfs import SeaweedFSClient, SeaweedFSClientConfig\n",
    "from syft import ActionObject\n",
    "from syft.service.action.action_data_empty import ActionFileData"
   ]
  },
  {
   "cell_type": "code",
   "execution_count": 2,
   "metadata": {},
   "outputs": [
    {
     "name": "stdout",
     "output_type": "stream",
     "text": [
      "CREATING A PRODUCER ON tcp://127.0.0.1:48913\n",
      "CREATING A CONSUMER ON tcp://127.0.0.1:37593\n",
      "spawning thread\n",
      "CREATING A CONSUMER ON tcp://127.0.0.1:37593\n",
      "spawning thread\n",
      "CREATING A CONSUMER ON tcp://127.0.0.1:37593\n",
      "spawning thread\n",
      "CREATING A CONSUMER ON tcp://127.0.0.1:37593\n",
      "spawning thread\n",
      "CREATING A CONSUMER ON tcp://127.0.0.1:37593\n",
      "spawning thread\n",
      "CREATING A CONSUMER ON tcp://127.0.0.1:37593\n",
      "spawning thread\n",
      "Logged into <test-domain-helm2: High side Domain> as <info@openmined.org>\n"
     ]
    },
    {
     "data": {
      "text/html": [
       "<div class=\"alert-warning\" style=\"padding:5px;\"><strong>SyftWarning</strong>: You are using a default password. Please change the password using `[your_client].me.set_password([new_password])`.</div><br />"
      ],
      "text/plain": [
       "SyftWarning: You are using a default password. Please change the password using `[your_client].me.set_password([new_password])`."
      ]
     },
     "metadata": {},
     "output_type": "display_data"
    }
   ],
   "source": [
    "node = sy.orchestra.launch(name=\"test-domain-helm2\", dev_mode=True, reset=True, n_consumers=6)\n",
    "client = node.login(email=\"info@openmined.org\", password=\"changethis\")"
   ]
  },
  {
   "cell_type": "markdown",
   "metadata": {},
   "source": [
    "```bash\n",
    "docker run --entrypoint /bin/sh -p 8333:8333 -p 8888:8888 chrislusf/seaweedfs -c \"echo 's3.configure -access_key admin -secret_key admin -user iam -actions Read,Write,List,Tagging,Admin -apply' | weed shell > /dev/null 2>&1 & weed server -s3 -s3.port=8333 -master.volumeSizeLimitMB=2048\"\n",
    "```"
   ]
  },
  {
   "cell_type": "code",
   "execution_count": 3,
   "metadata": {},
   "outputs": [],
   "source": [
    "blob_config = BlobStorageConfig(client_type=SeaweedFSClient,\n",
    "                                client_config=SeaweedFSClientConfig(host=\"http://0.0.0.0\",\n",
    "                                                                    port=\"8333\",\n",
    "                                                                    access_key=\"admin\",\n",
    "                                                                    secret_key=\"admin\",\n",
    "                                                                    bucket_name=\"test_bucket\",\n",
    "                                                                    region=\"us-east-1\")\n",
    ")"
   ]
  },
  {
   "cell_type": "code",
   "execution_count": 4,
   "metadata": {},
   "outputs": [],
   "source": [
    "node.python_node.init_blob_storage(blob_config)"
   ]
  },
  {
   "cell_type": "code",
   "execution_count": 5,
   "metadata": {},
   "outputs": [],
   "source": [
    "scenario_obj = sy.ActionObject.from_path(\"scenario_data.jsonl\")\n",
    "scenario_ptr = scenario_obj.send(client)"
   ]
  },
  {
   "cell_type": "code",
   "execution_count": 6,
   "metadata": {},
   "outputs": [],
   "source": [
    "input_obj = sy.ActionObject.from_path(\"short_input.jsonl\")\n",
    "input_ptr = input_obj.send(client)"
   ]
  },
  {
   "cell_type": "code",
   "execution_count": 7,
   "metadata": {},
   "outputs": [
    {
     "name": "stdout",
     "output_type": "stream",
     "text": [
      "b'{\"text\":\"\\\\nChina Deserves Donald Trump - rm2889\\\\nhttps:\\\\/\\\\/www.nytimes.com\\\\/2019\\\\/05\\\\/21\\\\/opinion\\\\/china-trump-trade.html\\\\n======\\\\nNotPaidToPost\\\\n> so he\\\\u2019d be wise to curb his nationalistic \\\\u201cno-one-tells-China-what-to-do\\\\u201d\\\\n> bluster\\\\n\\\\nThis comment highlights both ignorance of Chinese history and continuing\\\\nAmerican arrogance.\\\\n\\\\nChina has been painfully dictated what to do during the last 200 years. This\\\\nhas had a profound effect on the country and has led to the collapse of\\\\nimperial rule and the drive to \\'rejuvenate\\' the country (to use the official\\\\nterm in China).\\\\n\\\\nThis is also arrogant because it suggests that China should be told what to do\\\\ncoming from THE country (the USA) that really is the archetype of \\\\\"no-one\\\\ntells us what to do\\\\\".\\\\n\\\\nI would quip that one of the US\\'s issues with China is that China is not told\\\\nwhat to do and is too big to be easily coerced. A bit of a rude awakening for\\\\nthe US...\\\\n\\\\n> Huawei then uses ... its rising global market dominance to set the next\\\\n> generation of global 5G telecom standards around its own technologies, not\\\\n> those of Qualcomm or Sweden\\\\u2019s Ericsson.\\\\n\\\\nWhich is exactly what Qualcomm did for 3G. Don\\'t hate the player, hate the\\\\ngame.\\\\n\\\\n~~~\\\\nFjolsvith\\\\n>> so he\\\\u2019d be wise to curb his nationalistic \\\\u201cno-one-tells-China-what-to-do\\\\u201d\\\\nbluster >This comment highlights both ignorance of Chinese history and\\\\ncontinuing American arrogance.\\\\n\\\\n>China has been painfully dictated what to do during the last 200 years. This\\\\nhas had a profound effect on the country and has led to the collapse of\\\\nimperial rule and the drive to \\'rejuvenate\\' the country (to use the official\\\\nterm in China).\\\\n\\\\nI disagree. China has been given some unfair advantages in order to help it\\\\nbuild its economy over the last 40 years. Instead of growing up and becoming\\\\nan adult, they\\'ve become the playground bully with their IP theft and closed\\\\nmarket.\\\\n\\\\n>This is also arrogant because it suggests that China should be told what to\\\\ndo coming from THE country (the USA) that really is the archetype of \\\\\"no-one\\\\ntells us what to do\\\\\".\\\\n\\\\nIf China doesn\\'t figure out the game real fast, they\\'re going to lose it. And\\\\nto do that, they really need to do what people are telling them they should\\\\ndo.\\\\n\\\\n~~~\\\\nNotPaidToPost\\\\n> I disagree\\\\n\\\\nI should point that the part of my comment you quoted expressed the historical\\\\nreality, not an opinion.\\\\n\\\\n~~~\\\\nFjolsvith\\\\nI still disagree.\\\\n\\\\n~~~\\\\nNotPaidToPost\\\\nThe good thing with disagreeing with reality is that reality does not care.\\\\n\\\\n------\\\\ncfarm\\\\nThis article makes a good point about \\\\\"cheating\\\\\". I personally don\\'t like that\\\\nword here, but by blocking other companies like Amazon, Google, FB, etc from\\\\nentering in China, then copying those companies and selling the products to\\\\nthe rest of the world, this presents a problem for trade fairness.\\\\n\\\\n\",\"meta\":\"{\\'id\\': \\'19979654\\'}\"}'\n",
      "b'{\"text\":\"\\\\nHow to Be an Effective CEO - terpua\\\\nhttp:\\\\/\\\\/www.readwriteweb.com\\\\/readwritestart\\\\/2009\\\\/07\\\\/how-to-be-an-effective-ceo.php\\\\n======\\\\npclark\\\\nloved this line: \\\\\"Core is what you have to do really well and do in-house.\\\\nEverything else you can and should outsource\\\\\"\\\\n\\\\n\",\"meta\":\"{\\'id\\': \\'685596\\'}\"}'\n",
      "b'{\"text\":\"\\\\nA Survey of Deep Learning for Scientific Discovery - alokrai\\\\nhttps:\\\\/\\\\/arxiv.org\\\\/abs\\\\/2003.11755\\\\n======\\\\nantipaul\\\\nIn a survey on \\\\\"scientific discovery\\\\\", I would have expected more examples\\\\nthan face and image recognition and natural language processing, which are so\\\\nstale at this point.\\\\n\\\\nHealthcare? Physics? Chemistry? Biology? Sociology?\\\\n\\\\n~~~\\\\nanthony_doan\\\\nThe rest you listed require inference and causality.\\\\n\\\\nDeep learning does not do this.\\\\n\\\\nData with less noises are what most deep learning and non statistical models\\\\ndoes well. Meaning that image, nlp, etc.. deep learning does well. But data\\\\nwith lots noises\\\\/uncertainty\\\\/variance or even data that isn\\'t large enough,\\\\nsuch as time series, currently statistical models are still king\\\\n([https:\\\\/\\\\/en.wikipedia.org\\\\/wiki\\\\/Makridakis_Competitions](https:\\\\/\\\\/en.wikipedia.org\\\\/wiki\\\\/Makridakis_Competitions)).\\\\n\\\\nEven with healthcare you\\'re answering a question\\\\/ hypothesis. This is where\\\\nstatistical models strength lies because all statistical models are hypothesis\\\\ntests and vice versa. There are very little opportunity in healthcare where\\\\nyou would use deep learning compare to statistic. I\\'ve seen NLP can be of use\\\\nbut the majority of work in healthcare are inference\\\\/casuality base (this is\\\\nwhy they use propensity model so much). I\\'m in this space public healthcare.\\\\n\\\\n~~~\\\\np1esk\\\\nInteresting you mentioned Makridakis competitions. There\\'s one going on right\\\\nnow on Kaggle, and the current leader believes a NN will be the winning model:\\\\n[https:\\\\/\\\\/www.kaggle.com\\\\/c\\\\/m5-forecasting-\\\\naccuracy\\\\/discussion\\\\/...](https:\\\\/\\\\/www.kaggle.com\\\\/c\\\\/m5-forecasting-\\\\naccuracy\\\\/discussion\\\\/138881)\\\\n\\\\nMore generally, it seems that time series forecasting so far has mostly\\\\nattracted statisticians with little DL experience [1]. Now that there is $50k\\\\nprize, this will be a good test of whether statistical methods are \\\\\"still\\\\nking\\\\\". If I were to enter this field, I\\'d probably look into latest\\\\ntransformer based models, especially the ones used to model raw audio data,\\\\ne.g. [2].\\\\n\\\\nThere\\'s also a real possibility that whenever any strong forecasting method is\\\\ndeveloped (DL based or otherwise) it\\'s not published as the developers simply\\\\nuse it to make money (betting, stock market, etc).\\\\n\\\\n[1]\\\\n[https:\\\\/\\\\/journals.plos.org\\\\/plosone\\\\/article?id=10.1371\\\\/journal...](https:\\\\/\\\\/journals.plos.org\\\\/plosone\\\\/article?id=10.1371\\\\/journal.pone.0194889)\\\\n\\\\n[2] [https:\\\\/\\\\/arxiv.org\\\\/abs\\\\/1904.10509](https:\\\\/\\\\/arxiv.org\\\\/abs\\\\/1904.10509)\\\\n\\\\n~~~\\\\nanthony_doan\\\\nI\\'ll wait to see the result at the end of the competition.\\\\n\\\\nThis is just one of the two competitions for m5. The other one is uncertainty.\\\\n\\\\n------\\\\njefft255\\\\nEric Schmidt, as in Google\\'s ex-CEO, is the second author of this paper! I\\\\ndidn\\'t know he did any scientific research.\\\\n\\\\n~~~\\\\nhervature\\\\nHe has a PhD, unlike Brin and Page.\\\\n\\\\n~~~\\\\njefft255\\\\nRight, but they both were Ph.D. students and Brin I think published quite a\\\\nbit of scientific papers before dropping out.\\\\n\\\\n------\\\\nwswin\\\\nfor the moment I thought it was from 2003\\\\n\\\\n------\\\\nthrowqwerty\\\\nLooks like a good summary. Will read. But at the rate the discipline moves I\\\\nfeel like we need one of these every couple of months for everyone (not just\\\\n\\\\\"lay\\\\\" scientists). Anyone know a good journal or something that produces a\\\\nsimilar sort of survey frequently? Like once a quarter?\\\\n\\\\n~~~\\\\nssivark\\\\n\\\\u201cRate at which the discipline moves\\\\u201d is mostly churn, not progress. Important\\\\ninsights come at a slower rate \\\\u2014 at the speed of human understanding, not at\\\\nthe speed of conference papers. Good papers from even decades ago are likely\\\\nto still be useful \\\\u2014 in fact, they will have the key ideas presented simply\\\\nand clearly, without much jargon or hype. Yes, deep learning practice moves\\\\nquite fast these days, but that\\\\u2019s just the veneer on top of those deeper\\\\nideas, trying out tweaks and variations. That\\\\u2019s not completely an indictment\\\\nof deep learning, rather, any nascent field has a lot of confusing bustle.\\\\n\\\\n------\\\\nbiomodel\\\\nAlways wonder who these kinds of reviews \\\\/ surveys are for? Nobody is going to\\\\nlearn machine learning by reading a 50 page pdf. Meanwhile, people that have\\\\nexperience will have a hard time finding the info they don\\'t already know.\\\\n\\\\nOpinionated & narrow >> Shallow & comprehensive\\\\n\\\\n~~~\\\\nmistrial9\\\\nI will read it, to defend my non-DeepLearning choices for supervised ML .. so\\\\nmany on the bandwagon for unsupervised CNN with their GPUs\\\\n\\\\n~~~\\\\nmistrial9\\\\nI am misunderstood here.. it means, for the purposes that are appropriate, use\\\\na disciplined, supervised model.. and know the strengths and weakness\\' of the\\\\nCNN models.. yes, some reaction to the hype of CNN..\\\\n\\\\n\",\"meta\":\"{\\'id\\': \\'22705028\\'}\"}'\n",
      "b'{\"text\":\"\\\\n\\\\nSimple distributed computation with Clojure and nREPL  - dj-wonk\\\\nhttps:\\\\/\\\\/github.com\\\\/bluemont\\\\/kuzu\\\\n\\\\n======\\\\ndj-wonk\\\\nSome comments, which may be obvious:\\\\n\\\\n* I have not tested Kuzu in production yet.\\\\n\\\\n* It has a tiny fraction of the power of real projects like Hadoop, Storm, Spark, and so on.\\\\n\\\\n* I created it because I wanted a simple way to run maps, reduces, and filters over many machines without making big changes to my original Clojure code. For this simple use case, many distributed computation systems seem quite complicated, so I thought it would be fun to write something extremely simple.\\\\n\\\\n* I was inspired by how PigPen [https:\\\\/\\\\/github.com\\\\/Netflix\\\\/PigPen](https:\\\\/\\\\/github.com\\\\/Netflix\\\\/PigPen) offers a very natural interface to Clojure. I wondered if that could work on top of something simpler than Hadoop + Pig.\\\\n\\\\n* This isn\\'t the first time something like this has been done. See net-eval for example [http:\\\\/\\\\/nakkaya.com\\\\/2010\\\\/02\\\\/16\\\\/net-eval-dead-simple-distribut...](http:\\\\/\\\\/nakkaya.com\\\\/2010\\\\/02\\\\/16\\\\/net-eval-dead-simple-distributed-computing-for-clojure\\\\/).\\\\n\\\\n* Kuzu may or may not be useful to you, but I\\'d be interested in any and all commentary.\\\\n\\\\n\",\"meta\":\"{\\'id\\': \\'7829473\\'}\"}'\n",
      "b'{\"text\":\"\\\\n\\\\nColor CEO explains how\\\\/why they raised $41M  - jasonmcalacanis\\\\nhttp:\\\\/\\\\/www.youtube.com\\\\/watch?v=_WGdwY6h5JI&list=SL#\\\\n\\\\n======\\\\narepb\\\\nAfter being prepared to hate this company, it\\'s actually hard not to love this\\\\nguy. The idea is really interesting, too. \\\\\"The implied social network will\\\\nlead to better behavior\\\\\" -- interesting thought.\\\\n\\\\n\",\"meta\":\"{\\'id\\': \\'2384827\\'}\"}'\n"
     ]
    }
   ],
   "source": [
    "for line in scenario_ptr.syft_action_data.iter_lines():\n",
    "    print(line)"
   ]
  },
  {
   "cell_type": "code",
   "execution_count": 8,
   "metadata": {},
   "outputs": [
    {
     "data": {
      "text/html": [
       "<div class=\"alert-success\" style=\"padding:5px;\"><strong>SyftSuccess</strong>: Syft function 'process_batch' successfully created. To add a code request, please create a project using `project = syft.Project(...)`, then use command `project.create_code_request`.</div><br />"
      ],
      "text/plain": [
       "SyftSuccess: Syft function 'process_batch' successfully created. To add a code request, please create a project using `project = syft.Project(...)`, then use command `project.create_code_request`."
      ]
     },
     "metadata": {},
     "output_type": "display_data"
    }
   ],
   "source": [
    "@sy.syft_function()\n",
    "def compute_document_data_overlap(document, ngram_index):\n",
    "    from nltk import ngrams\n",
    "    from collections import defaultdict\n",
    "    stats_key_to_input_ids = defaultdict(set)\n",
    "    stats_key_to_reference_ids = defaultdict(set)\n",
    "    document_tokens = r.split(document.lower())\n",
    "    for n in ngram_index.keys():\n",
    "        for document_ngram in ngrams(document_tokens, n):\n",
    "            if document_ngram in ngram_index[n]:\n",
    "                for entry_overlap_key in ngram_index[n][document_ngram]:\n",
    "                    id = entry_overlap_key['instance_id']\n",
    "                    part = entry_overlap_key['part']\n",
    "                    if part == \"input\":\n",
    "                        stats_key_to_input_ids[entry_overlap_key['stats_key']].add(id)\n",
    "                    elif part == \"references\":\n",
    "                        stats_key_to_reference_ids[entry_overlap_key['stats_key']].add(id)\n",
    "    return stats_key_to_input_ids, stats_key_to_reference_ids"
   ]
  },
  {
   "cell_type": "code",
   "execution_count": 9,
   "metadata": {},
   "outputs": [
    {
     "data": {
      "text/html": [
       "<div class=\"alert-success\" style=\"padding:5px;\"><strong>SyftSuccess</strong>: User Code Submitted</div><br />"
      ],
      "text/plain": [
       "SyftSuccess: User Code Submitted"
      ]
     },
     "execution_count": 9,
     "metadata": {},
     "output_type": "execute_result"
    }
   ],
   "source": [
    "client.code.submit(compute_document_data_overlap)"
   ]
  },
  {
   "cell_type": "code",
   "execution_count": null,
   "metadata": {},
   "outputs": [],
   "source": [
    "@sy.syft_function_single_use(input_file=input_ptr, scenario_file=scenario_ptr)\n",
    "def main_function(domain, input_file, scenario_file):\n",
    "    import re\n",
    "    from string import punctuation\n",
    "    import json\n",
    "    from nltk import ngrams\n",
    "    from collections import defaultdict\n",
    "    N = [5, 9, 13]\n",
    "\n",
    "    r = re.compile(r\"[\\s{}]+\".format(re.escape(punctuation)))\n",
    "    class hashabledict(dict):\n",
    "        def __hash__(self):\n",
    "            return hash(tuple(sorted(self.items())))\n",
    "        \n",
    "    def create_ngram_index(light_scenarios, n_values, stats_key_counts):\n",
    "        ngram_index = hashabledict({n: hashabledict({}) for n in n_values})\n",
    "        for scenario in light_scenarios:\n",
    "            for n in n_values:\n",
    "                stats_key = hashabledict({\n",
    "                    'light_scenario_key': scenario['scenario_key'], 'overlap_protocol_spec': n\n",
    "                })\n",
    "                stats_key_counts[stats_key] = len(scenario['instances'])\n",
    "                for instance in scenario['instances']:\n",
    "                    id = instance['id']\n",
    "                    assert id\n",
    "                    \n",
    "                    input_tokens = r.split(instance['input'].lower())\n",
    "                    for input_ngram in ngrams(input_tokens, n):\n",
    "                        if input_ngram not in ngram_index[n]:\n",
    "                            ngram_index[n][input_ngram] = set()\n",
    "                        ngram_index[n][input_ngram].add(\n",
    "                            hashabledict({'stats_key': stats_key, 'instance_id': id, 'part': \"input\"})\n",
    "                        )\n",
    "\n",
    "                    # compute reference ngrams\n",
    "                    for reference in instance['references']:\n",
    "                        reference_unigrams = r.split(reference.lower())\n",
    "                        for reference_ngram in ngrams(reference_unigrams, n):\n",
    "                            if reference_ngram not in ngram_index[n]:\n",
    "                                ngram_index[n][reference_ngram] = set()\n",
    "                            ngram_index[n][reference_ngram].add(\n",
    "                                hashabledict({'stats_key': stats_key, 'instance_id': id, 'part': \"references\"})\n",
    "                            )\n",
    "        return ngram_index\n",
    "\n",
    "    # SETUP\n",
    "    light_scenarios = []\n",
    "    light_scenario_jsons = scenario_file.iter_lines()\n",
    "    for light_scenario_json in light_scenario_jsons:\n",
    "        light_scenario_dict: dict = hashabledict(json.loads(light_scenario_json))\n",
    "\n",
    "        light_scenario_key_dict: dict = hashabledict(light_scenario_dict[\"scenario_key\"])\n",
    "        # if the light_scenarios are exported from helm, they will have a scenario_spec field\n",
    "        scenario_spec = light_scenario_key_dict[\"scenario_spec\"]\n",
    "        scenario_spec_dict = hashabledict({\n",
    "            'class_name': scenario_spec['class_name'],\n",
    "            \"args\": hashabledict(scenario_spec['args'])\n",
    "            })\n",
    "        light_scenario_key = hashabledict({\n",
    "            \"scenario_spec\": scenario_spec_dict, \n",
    "            \"split\": light_scenario_key_dict[\"split\"]\n",
    "            })\n",
    "        light_instances = [\n",
    "            hashabledict({\n",
    "                'input': instance_dict[\"input\"], \n",
    "                'references': instance_dict[\"references\"], \n",
    "                'id': instance_dict[\"id\"]\n",
    "            })\n",
    "            for instance_dict in light_scenario_dict[\"instances\"]\n",
    "        ]\n",
    "        light_scenarios.append(hashabledict({'scenario_key': light_scenario_key, 'instances': light_instances}))\n",
    "\n",
    "    stats_key_counts = hashabledict(defaultdict(int))\n",
    "    ngram_index = create_ngram_index(\n",
    "        light_scenarios=light_scenarios, n_values=N, stats_key_counts=stats_key_counts\n",
    "    )\n",
    "\n",
    "    # BATCH PROCESSING\n",
    "    jobs = []\n",
    "    for line in scenario_file.iter_lines():\n",
    "        document = json.loads(line)[\"text\"]\n",
    "        # doc_input_ids, doc_ref_ids\n",
    "        batch_job = domain.launch_job(compute_document_data_overlap,\n",
    "            document=document,\n",
    "            ngram_index=ngram_index,\n",
    "        )\n",
    "        jobs.append(batch_job)\n",
    "    \n",
    "    # AGGREGATION\n",
    "    # TODO: fix collisions\n",
    "    stats_key_to_input_ids = []\n",
    "    stats_key_to_reference_ids = []\n",
    "    results = [x.wait().get() for x in jobs]\n",
    "    total_input_ids = defaultdict(set)\n",
    "    total_reference_ids = defaultdict(set)\n",
    "\n",
    "    all_data_overlap_stats = []\n",
    "    for stats_key, count in stats_key_counts.items():\n",
    "        data_overlap_stats = {\n",
    "            'data_overlap_stats_key': stats_key,\n",
    "            'instance_ids_with_overlapping_input': sorted(total_input_ids[stats_key]),\n",
    "            'instance_ids_with_overlapping_reference': sorted(total_reference_ids[stats_key]),\n",
    "            'num_instances': count,\n",
    "        }\n",
    "        all_data_overlap_stats.append(data_overlap_stats)\n",
    "\n",
    "    return all_data_overlap_stats"
   ]
  },
  {
   "cell_type": "code",
   "execution_count": null,
   "metadata": {},
   "outputs": [],
   "source": []
  },
  {
   "cell_type": "code",
   "execution_count": 11,
   "metadata": {},
   "outputs": [
    {
     "name": "stdout",
     "output_type": "stream",
     "text": [
      "Request approved for domain test-domain-helm2\n"
     ]
    },
    {
     "data": {
      "text/html": [
       "<div class=\"alert-success\" style=\"padding:5px;\"><strong>SyftSuccess</strong>: Request a352f3d95dd14f589c7c7d561a3c26aa changes applied</div><br />"
      ],
      "text/plain": [
       "SyftSuccess: Request a352f3d95dd14f589c7c7d561a3c26aa changes applied"
      ]
     },
     "execution_count": 11,
     "metadata": {},
     "output_type": "execute_result"
    }
   ],
   "source": [
    "client.code.request_code_execution(main_function)\n",
    "client.requests[-1].approve()"
   ]
  },
  {
   "cell_type": "code",
   "execution_count": 12,
   "metadata": {},
   "outputs": [],
   "source": [
    "job = client.code.main_function(scenario_file=scenario_ptr, blocking=False)\n"
   ]
  },
  {
   "cell_type": "code",
   "execution_count": 13,
   "metadata": {},
   "outputs": [
    {
     "name": "stdout",
     "output_type": "stream",
     "text": [
      "\n"
     ]
    }
   ],
   "source": [
    "job.logs()"
   ]
  },
  {
   "cell_type": "code",
   "execution_count": 14,
   "metadata": {},
   "outputs": [
    {
     "ename": "IndexError",
     "evalue": "list index out of range",
     "output_type": "error",
     "traceback": [
      "\u001b[0;31m---------------------------------------------------------------------------\u001b[0m",
      "\u001b[0;31mIndexError\u001b[0m                                Traceback (most recent call last)",
      "\u001b[1;32m/home/teo/OpenMined/PySyft/notebooks/helm/helm_syft.ipynb Cell 15\u001b[0m line \u001b[0;36m1\n\u001b[0;32m----> <a href='vscode-notebook-cell:/home/teo/OpenMined/PySyft/notebooks/helm/helm_syft.ipynb#X16sZmlsZQ%3D%3D?line=0'>1</a>\u001b[0m job\u001b[39m.\u001b[39;49msubjobs[\u001b[39m0\u001b[39;49m]\u001b[39m.\u001b[39mlogs()\n",
      "\u001b[0;31mIndexError\u001b[0m: list index out of range"
     ]
    },
    {
     "name": "stdout",
     "output_type": "stream",
     "text": [
      "FUNCTION LOG: b'{\"text\":\"\\\\nChina Deserves Donald Trump - rm2889\\\\nhttps:\\\\/\\\\/www.nytimes.com\\\\/2019\\\\/05\\\\/21\\\\/opinion\\\\/china-trump-trade.html\\\\n======\\\\nNotPaidToPost\\\\n> so he\\\\u2019d be wise to curb his nationalistic \\\\u201cno-one-tells-China-what-to-do\\\\u201d\\\\n> bluster\\\\n\\\\nThis comment highlights both ignorance of Chinese history and continuing\\\\nAmerican arrogance.\\\\n\\\\nChina has been painfully dictated what to do during the last 200 years. This\\\\nhas had a profound effect on the country and has led to the collapse of\\\\nimperial rule and the drive to \\'rejuvenate\\' the country (to use the official\\\\nterm in China).\\\\n\\\\nThis is also arrogant because it suggests that China should be told what to do\\\\ncoming from THE country (the USA) that really is the archetype of \\\\\"no-one\\\\ntells us what to do\\\\\".\\\\n\\\\nI would quip that one of the US\\'s issues with China is that China is not told\\\\nwhat to do and is too big to be easily coerced. A bit of a rude awakening for\\\\nthe US...\\\\n\\\\n> Huawei then uses ... its rising global market dominance to set the next\\\\n> generation of global 5G telecom standards around its own technologies, not\\\\n> those of Qualcomm or Sweden\\\\u2019s Ericsson.\\\\n\\\\nWhich is exactly what Qualcomm did for 3G. Don\\'t hate the player, hate the\\\\ngame.\\\\n\\\\n~~~\\\\nFjolsvith\\\\n>> so he\\\\u2019d be wise to curb his nationalistic \\\\u201cno-one-tells-China-what-to-do\\\\u201d\\\\nbluster >This comment highlights both ignorance of Chinese history and\\\\ncontinuing American arrogance.\\\\n\\\\n>China has been painfully dictated what to do during the last 200 years. This\\\\nhas had a profound effect on the country and has led to the collapse of\\\\nimperial rule and the drive to \\'rejuvenate\\' the country (to use the official\\\\nterm in China).\\\\n\\\\nI disagree. China has been given some unfair advantages in order to help it\\\\nbuild its economy over the last 40 years. Instead of growing up and becoming\\\\nan adult, they\\'ve become the playground bully with their IP theft and closed\\\\nmarket.\\\\n\\\\n>This is also arrogant because it suggests that China should be told what to\\\\ndo coming from THE country (the USA) that really is the archetype of \\\\\"no-one\\\\ntells us what to do\\\\\".\\\\n\\\\nIf China doesn\\'t figure out the game real fast, they\\'re going to lose it. And\\\\nto do that, they really need to do what people are telling them they should\\\\ndo.\\\\n\\\\n~~~\\\\nNotPaidToPost\\\\n> I disagree\\\\n\\\\nI should point that the part of my comment you quoted expressed the historical\\\\nreality, not an opinion.\\\\n\\\\n~~~\\\\nFjolsvith\\\\nI still disagree.\\\\n\\\\n~~~\\\\nNotPaidToPost\\\\nThe good thing with disagreeing with reality is that reality does not care.\\\\n\\\\n------\\\\ncfarm\\\\nThis article makes a good point about \\\\\"cheating\\\\\". I personally don\\'t like that\\\\nword here, but by blocking other companies like Amazon, Google, FB, etc from\\\\nentering in China, then copying those companies and selling the products to\\\\nthe rest of the world, this presents a problem for trade fairness.\\\\n\\\\n\",\"meta\":\"{\\'id\\': \\'19979654\\'}\"}'\n",
      "result 1\n",
      "FUNCTION LOG: b'{\"text\":\"\\\\nA Survey of Deep Learning for Scientific Discovery - alokrai\\\\nhttps:\\\\/\\\\/arxiv.org\\\\/abs\\\\/2003.11755\\\\n======\\\\nantipaul\\\\nIn a survey on \\\\\"scientific discovery\\\\\", I would have expected more examples\\\\nthan face and image recognition and natural language processing, which are so\\\\nstale at this point.\\\\n\\\\nHealthcare? Physics? Chemistry? Biology? Sociology?\\\\n\\\\n~~~\\\\nanthony_doan\\\\nThe rest you listed require inference and causality.\\\\n\\\\nDeep learning does not do this.\\\\n\\\\nData with less noises are what most deep learning and non statistical models\\\\ndoes well. Meaning that image, nlp, etc.. deep learning does well. But data\\\\nwith lots noises\\\\/uncertainty\\\\/variance or even data that isn\\'t large enough,\\\\nsuch as time series, currently statistical models are still king\\\\n([https:\\\\/\\\\/en.wikipedia.org\\\\/wiki\\\\/Makridakis_Competitions](https:\\\\/\\\\/en.wikipedia.org\\\\/wiki\\\\/Makridakis_Competitions)).\\\\n\\\\nEven with healthcare you\\'re answering a question\\\\/ hypothesis. This is where\\\\nstatistical models strength lies because all statistical models are hypothesis\\\\ntests and vice versa. There are very little opportunity in healthcare where\\\\nyou would use deep learning compare to statistic. I\\'ve seen NLP can be of use\\\\nbut the majority of work in healthcare are inference\\\\/casuality base (this is\\\\nwhy they use propensity model so much). I\\'m in this space public healthcare.\\\\n\\\\n~~~\\\\np1esk\\\\nInteresting you mentioned Makridakis competitions. There\\'s one going on right\\\\nnow on Kaggle, and the current leader believes a NN will be the winning model:\\\\n[https:\\\\/\\\\/www.kaggle.com\\\\/c\\\\/m5-forecasting-\\\\naccuracy\\\\/discussion\\\\/...](https:\\\\/\\\\/www.kaggle.com\\\\/c\\\\/m5-forecasting-\\\\naccuracy\\\\/discussion\\\\/138881)\\\\n\\\\nMore generally, it seems that time series forecasting so far has mostly\\\\nattracted statisticians with little DL experience [1]. Now that there is $50k\\\\nprize, this will be a good test of whether statistical methods are \\\\\"still\\\\nking\\\\\". If I were to enter this field, I\\'d probably look into latest\\\\ntransformer based models, especially the ones used to model raw audio data,\\\\ne.g. [2].\\\\n\\\\nThere\\'s also a real possibility that whenever any strong forecasting method is\\\\ndeveloped (DL based or otherwise) it\\'s not published as the developers simply\\\\nuse it to make money (betting, stock market, etc).\\\\n\\\\n[1]\\\\n[https:\\\\/\\\\/journals.plos.org\\\\/plosone\\\\/article?id=10.1371\\\\/journal...](https:\\\\/\\\\/journals.plos.org\\\\/plosone\\\\/article?id=10.1371\\\\/journal.pone.0194889)\\\\n\\\\n[2] [https:\\\\/\\\\/arxiv.org\\\\/abs\\\\/1904.10509](https:\\\\/\\\\/arxiv.org\\\\/abs\\\\/1904.10509)\\\\n\\\\n~~~\\\\nanthony_doan\\\\nI\\'ll wait to see the result at the end of the competition.\\\\n\\\\nThis is just one of the two competitions for m5. The other one is uncertainty.\\\\n\\\\n------\\\\njefft255\\\\nEric Schmidt, as in Google\\'s ex-CEO, is the second author of this paper! I\\\\ndidn\\'t know he did any scientific research.\\\\n\\\\n~~~\\\\nhervature\\\\nHe has a PhD, unlike Brin and Page.\\\\n\\\\n~~~\\\\njefft255\\\\nRight, but they both were Ph.D. students and Brin I think published quite a\\\\nbit of scientific papers before dropping out.\\\\n\\\\n------\\\\nwswin\\\\nfor the moment I thought it was from 2003\\\\n\\\\n------\\\\nthrowqwerty\\\\nLooks like a good summary. Will read. But at the rate the discipline moves I\\\\nfeel like we need one of these every couple of months for everyone (not just\\\\n\\\\\"lay\\\\\" scientists). Anyone know a good journal or something that produces a\\\\nsimilar sort of survey frequently? Like once a quarter?\\\\n\\\\n~~~\\\\nssivark\\\\n\\\\u201cRate at which the discipline moves\\\\u201d is mostly churn, not progress. Important\\\\ninsights come at a slower rate \\\\u2014 at the speed of human understanding, not at\\\\nthe speed of conference papers. Good papers from even decades ago are likely\\\\nto still be useful \\\\u2014 in fact, they will have the key ideas presented simply\\\\nand clearly, without much jargon or hype. Yes, deep learning practice moves\\\\nquite fast these days, but that\\\\u2019s just the veneer on top of those deeper\\\\nideas, trying out tweaks and variations. That\\\\u2019s not completely an indictment\\\\nof deep learning, rather, any nascent field has a lot of confusing bustle.\\\\n\\\\n------\\\\nbiomodel\\\\nAlways wonder who these kinds of reviews \\\\/ surveys are for? Nobody is going to\\\\nlearn machine learning by reading a 50 page pdf. Meanwhile, people that have\\\\nexperience will have a hard time finding the info they don\\'t already know.\\\\n\\\\nOpinionated & narrow >> Shallow & comprehensive\\\\n\\\\n~~~\\\\nmistrial9\\\\nI will read it, to defend my non-DeepLearning choices for supervised ML .. so\\\\nmany on the bandwagon for unsupervised CNN with their GPUs\\\\n\\\\n~~~\\\\nmistrial9\\\\nI am misunderstood here.. it means, for the purposes that are appropriate, use\\\\na disciplined, supervised model.. and know the strengths and weakness\\' of the\\\\nCNN models.. yes, some reaction to the hype of CNN..\\\\n\\\\n\",\"meta\":\"{\\'id\\': \\'22705028\\'}\"}'\n",
      "result 1\n",
      "FUNCTION LOG: b'{\"text\":\"\\\\nHow to Be an Effective CEO - terpua\\\\nhttp:\\\\/\\\\/www.readwriteweb.com\\\\/readwritestart\\\\/2009\\\\/07\\\\/how-to-be-an-effective-ceo.php\\\\n======\\\\npclark\\\\nloved this line: \\\\\"Core is what you have to do really well and do in-house.\\\\nEverything else you can and should outsource\\\\\"\\\\n\\\\n\",\"meta\":\"{\\'id\\': \\'685596\\'}\"}'\n",
      "result 1\n",
      "FUNCTION LOG: b'{\"text\":\"\\\\n\\\\nSimple distributed computation with Clojure and nREPL  - dj-wonk\\\\nhttps:\\\\/\\\\/github.com\\\\/bluemont\\\\/kuzu\\\\n\\\\n======\\\\ndj-wonk\\\\nSome comments, which may be obvious:\\\\n\\\\n* I have not tested Kuzu in production yet.\\\\n\\\\n* It has a tiny fraction of the power of real projects like Hadoop, Storm, Spark, and so on.\\\\n\\\\n* I created it because I wanted a simple way to run maps, reduces, and filters over many machines without making big changes to my original Clojure code. For this simple use case, many distributed computation systems seem quite complicated, so I thought it would be fun to write something extremely simple.\\\\n\\\\n* I was inspired by how PigPen [https:\\\\/\\\\/github.com\\\\/Netflix\\\\/PigPen](https:\\\\/\\\\/github.com\\\\/Netflix\\\\/PigPen) offers a very natural interface to Clojure. I wondered if that could work on top of something simpler than Hadoop + Pig.\\\\n\\\\n* This isn\\'t the first time something like this has been done. See net-eval for example [http:\\\\/\\\\/nakkaya.com\\\\/2010\\\\/02\\\\/16\\\\/net-eval-dead-simple-distribut...](http:\\\\/\\\\/nakkaya.com\\\\/2010\\\\/02\\\\/16\\\\/net-eval-dead-simple-distributed-computing-for-clojure\\\\/).\\\\n\\\\n* Kuzu may or may not be useful to you, but I\\'d be interested in any and all commentary.\\\\n\\\\n\",\"meta\":\"{\\'id\\': \\'7829473\\'}\"}'\n",
      "result 1\n",
      "FUNCTION LOG: b'{\"text\":\"\\\\n\\\\nColor CEO explains how\\\\/why they raised $41M  - jasonmcalacanis\\\\nhttp:\\\\/\\\\/www.youtube.com\\\\/watch?v=_WGdwY6h5JI&list=SL#\\\\n\\\\n======\\\\narepb\\\\nAfter being prepared to hate this company, it\\'s actually hard not to love this\\\\nguy. The idea is really interesting, too. \\\\\"The implied social network will\\\\nlead to better behavior\\\\\" -- interesting thought.\\\\n\\\\n\",\"meta\":\"{\\'id\\': \\'2384827\\'}\"}'\n",
      "result 1\n"
     ]
    }
   ],
   "source": [
    "job.subjobs[0].logs()"
   ]
  },
  {
   "cell_type": "code",
   "execution_count": 15,
   "metadata": {},
   "outputs": [
    {
     "name": "stdout",
     "output_type": "stream",
     "text": [
      "result 5\n"
     ]
    },
    {
     "ename": "",
     "evalue": "",
     "output_type": "error",
     "traceback": [
      "\u001b[1;31mThe Kernel crashed while executing code in the the current cell or a previous cell. Please review the code in the cell(s) to identify a possible cause of the failure. Click <a href='https://aka.ms/vscodeJupyterKernelCrash'>here</a> for more info. View Jupyter <a href='command:jupyter.viewOutput'>log</a> for further details."
     ]
    }
   ],
   "source": [
    "job.wait().get()"
   ]
  }
 ],
 "metadata": {
  "kernelspec": {
   "display_name": "syft_3.11",
   "language": "python",
   "name": "python3"
  },
  "language_info": {
   "codemirror_mode": {
    "name": "ipython",
    "version": 3
   },
   "file_extension": ".py",
   "mimetype": "text/x-python",
   "name": "python",
   "nbconvert_exporter": "python",
   "pygments_lexer": "ipython3",
   "version": "3.11.4"
  },
  "orig_nbformat": 4
 },
 "nbformat": 4,
 "nbformat_minor": 2
}
