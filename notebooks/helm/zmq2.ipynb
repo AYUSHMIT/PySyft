{
 "cells": [
  {
   "cell_type": "code",
   "execution_count": 1,
   "id": "dcfbf19c",
   "metadata": {},
   "outputs": [],
   "source": [
    "import zmq\n",
    "import random\n",
    "import sys\n",
    "from random import randint\n",
    "from threading import Thread\n",
    "from time import sleep"
   ]
  },
  {
   "cell_type": "markdown",
   "id": "fc2d19e0",
   "metadata": {},
   "source": [
    "Option A\n",
    "\n",
    "- instead of sending messages directly, we first store them in the store, and then have some kind of daemon that listens to changes in the store, and puts them in the queue on the main worker\n",
    "\n",
    "\n",
    "Option B\n",
    "- instead of keeping the connection to zmq open all the time as producer, we open the connection, send the data, and close. And save the producer address as part of the queueconfig"
   ]
  },
  {
   "cell_type": "code",
   "execution_count": null,
   "id": "29c008f8",
   "metadata": {},
   "outputs": [],
   "source": []
  },
  {
   "cell_type": "code",
   "execution_count": 2,
   "id": "7008e2d1",
   "metadata": {},
   "outputs": [],
   "source": [
    "# zmq.proxy(frontend, backend)"
   ]
  },
  {
   "cell_type": "code",
   "execution_count": 3,
   "id": "c106c415",
   "metadata": {},
   "outputs": [],
   "source": [
    "\n",
    "# # we never get here\n",
    "# frontend.close()\n",
    "# backend.close()\n",
    "# context.term()"
   ]
  },
  {
   "cell_type": "code",
   "execution_count": 4,
   "id": "7eb30b50",
   "metadata": {},
   "outputs": [],
   "source": [
    "def run_message_queue():\n",
    "#     context = zmq.Context()\n",
    "\n",
    "#     # Socket facing clients\n",
    "#     frontend = context.socket(zmq.ROUTER)\n",
    "#     frontend.bind(\"tcp://*:5559\")\n",
    "\n",
    "#     # Socket facing services\n",
    "#     backend  = context.socket(zmq.DEALER)\n",
    "#     backend.bind(\"tcp://*:5560\")\n",
    "#     print(\"starting queue\")\n",
    "    \n",
    "    \n",
    "#     zmq.proxy(frontend, backend)\n",
    "#     # we never get here\n",
    "#     frontend.close()\n",
    "#     backend.close()\n",
    "#     context.term()\n",
    "\n",
    "    # Prepare our context and sockets\n",
    "    context = zmq.Context()\n",
    "    frontend = context.socket(zmq.ROUTER)\n",
    "    backend = context.socket(zmq.DEALER)\n",
    "    frontend.bind(\"tcp://*:5559\")\n",
    "    backend.bind(\"tcp://*:5560\")\n",
    "\n",
    "    # Initialize poll set\n",
    "    poller = zmq.Poller()\n",
    "    poller.register(frontend, zmq.POLLIN)\n",
    "    poller.register(backend, zmq.POLLIN)\n",
    "\n",
    "        # Switch messages between sockets\n",
    "    while True:\n",
    "        socks = dict(poller.poll())\n",
    "\n",
    "        if socks.get(frontend) == zmq.POLLIN:\n",
    "            message = frontend.recv_multipart()\n",
    "            backend.send_multipart(message)\n",
    "\n",
    "        if socks.get(backend) == zmq.POLLIN:\n",
    "            message = backend.recv_multipart()\n",
    "            frontend.send_multipart(message)\n"
   ]
  },
  {
   "cell_type": "code",
   "execution_count": 5,
   "id": "76518e15",
   "metadata": {},
   "outputs": [],
   "source": [
    "def run_producer():\n",
    "    port = \"5559\"\n",
    "\n",
    "    context = zmq.Context()\n",
    "    socket = context.socket(zmq.REQ)\n",
    "    socket.connect(f\"tcp://localhost:{port}\")\n",
    "\n",
    "    sleep(1)\n",
    "    for i in range(3):\n",
    "        topic = random.randrange(9999,10005)\n",
    "        messagedata = random.randrange(1,215) - 80\n",
    "        print(\"sending message\")\n",
    "        socket.send(b'1111')\n",
    "        message = socket.recv()\n",
    "        sent=True\n",
    "        sleep(1)            \n",
    "    socket.close()"
   ]
  },
  {
   "cell_type": "code",
   "execution_count": 6,
   "id": "edbb4e08",
   "metadata": {},
   "outputs": [],
   "source": [
    "# context = zmq.Context()\n",
    "# socket = context.socket(zmq.REP)\n",
    "# socket.connect (\"tcp://localhost:%s\" % 5560)"
   ]
  },
  {
   "cell_type": "code",
   "execution_count": 7,
   "id": "3796ffa9",
   "metadata": {},
   "outputs": [],
   "source": [
    "# socket.disconnect(\"tcp://localhost:%s\" % 5560)"
   ]
  },
  {
   "cell_type": "code",
   "execution_count": 8,
   "id": "c0b686c1",
   "metadata": {},
   "outputs": [],
   "source": [
    "def run_consumer():\n",
    "    port = \"5560\"\n",
    "\n",
    "    print(\"starting consumer\")\n",
    "    c_id = randint(0,100)\n",
    "\n",
    "    # Socket to talk to server\n",
    "    context = zmq.Context()\n",
    "    socket = context.socket(zmq.REP)\n",
    "    socket.connect(\"tcp://localhost:%s\" % port)\n",
    "\n",
    "    n_messages=0\n",
    "    while True:\n",
    "        print(\"listening\")\n",
    "        string = socket.recv()\n",
    "\n",
    "#         socket.disconnect (\"tcp://localhost:%s\" % port)\n",
    "        n_messages+=1\n",
    "        print(f\"received {string} on consumer {c_id} n={n_messages}\")\n",
    "        sleep(3)\n",
    "        socket.send(b'')\n",
    "\n",
    "        \n"
   ]
  },
  {
   "cell_type": "code",
   "execution_count": 9,
   "id": "d9c85bb1",
   "metadata": {},
   "outputs": [
    {
     "name": "stdout",
     "output_type": "stream",
     "text": [
      "sending messagesending message\n",
      "starting consumer\n",
      "listening\n",
      "\n",
      "starting consumer\n",
      "listening\n",
      "starting consumer\n",
      "listening\n",
      "received b'1111' on consumer 97 n=1\n",
      "received b'1111' on consumer 80 n=1\n",
      "listeninglistening\n",
      "\n",
      "sending messagesending message\n",
      "\n",
      "received b'1111' on consumer 97 n=2\n",
      "received b'1111' on consumer 80 n=2\n",
      "listeninglistening\n",
      "\n",
      "sending messagesending message\n",
      "\n",
      "received b'1111' on consumer 91 n=1\n",
      "received b'1111' on consumer 97 n=3\n",
      "listeninglistening\n",
      "\n"
     ]
    }
   ],
   "source": [
    "Thread(target=run_producer).start()\n",
    "Thread(target=run_producer).start()\n",
    "Thread(target=run_message_queue).start()\n",
    "sleep(1)\n",
    "Thread(target=run_consumer).start()\n",
    "Thread(target=run_consumer).start()\n",
    "Thread(target=run_consumer).start()\n",
    "\n",
    "\n",
    "\n",
    "sleep(60)"
   ]
  },
  {
   "cell_type": "code",
   "execution_count": null,
   "id": "6ab1bf39",
   "metadata": {},
   "outputs": [],
   "source": []
  }
 ],
 "metadata": {
  "kernelspec": {
   "display_name": "Python 3 (ipykernel)",
   "language": "python",
   "name": "python3"
  },
  "language_info": {
   "codemirror_mode": {
    "name": "ipython",
    "version": 3
   },
   "file_extension": ".py",
   "mimetype": "text/x-python",
   "name": "python",
   "nbconvert_exporter": "python",
   "pygments_lexer": "ipython3",
   "version": "3.9.16"
  },
  "toc": {
   "base_numbering": 1,
   "nav_menu": {},
   "number_sections": true,
   "sideBar": true,
   "skip_h1_title": false,
   "title_cell": "Table of Contents",
   "title_sidebar": "Contents",
   "toc_cell": false,
   "toc_position": {},
   "toc_section_display": true,
   "toc_window_display": true
  }
 },
 "nbformat": 4,
 "nbformat_minor": 5
}
