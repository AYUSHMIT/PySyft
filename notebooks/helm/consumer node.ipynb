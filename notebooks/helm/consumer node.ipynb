{
 "cells": [
  {
   "cell_type": "code",
   "execution_count": 1,
   "id": "a196017f",
   "metadata": {},
   "outputs": [
    {
     "name": "stderr",
     "output_type": "stream",
     "text": [
      "kj/filesystem-disk-unix.c++:1703: warning: PWD environment variable doesn't match current directory; pwd = /Users/koen/workspace/pysyft\n"
     ]
    }
   ],
   "source": [
    "import syft as sy\n",
    "from syft import ActionObject\n",
    "from syft import syft_function, syft_function_single_use\n",
    "from time import sleep\n",
    "from syft.service.queue.zmq_queue import ZMQQueueConfig, ZMQClientConfig"
   ]
  },
  {
   "cell_type": "code",
   "execution_count": 2,
   "id": "830cb5cf",
   "metadata": {},
   "outputs": [],
   "source": [
    "worker_node = sy.orchestra.launch(name=\"worker-node-helm1\", dev_mode=True,\n",
    "                                  reset=True,\n",
    "                                  n_consumers=3,\n",
    "                                  create_producer=False,\n",
    "                                  queue_port=62249)\n"
   ]
  },
  {
   "cell_type": "code",
   "execution_count": 3,
   "id": "cf3a5520",
   "metadata": {},
   "outputs": [],
   "source": [
    "# worker_node.python_node.queue_manager.producers"
   ]
  },
  {
   "cell_type": "code",
   "execution_count": 4,
   "id": "88fb4211",
   "metadata": {},
   "outputs": [
    {
     "data": {
      "text/plain": [
       "'tcp://localhost:62249'"
      ]
     },
     "execution_count": 4,
     "metadata": {},
     "output_type": "execute_result"
    }
   ],
   "source": [
    "worker_node.python_node.queue_manager.consumers[\"api_call\"][0].address"
   ]
  },
  {
   "cell_type": "code",
   "execution_count": null,
   "id": "d1f13284",
   "metadata": {},
   "outputs": [
    {
     "name": "stdout",
     "output_type": "stream",
     "text": [
      "Heartbeat failure, worker can't reach queue, reconnecting in 1s\n",
      "Heartbeat failure, worker can't reach queue, reconnecting in 1s\n",
      "Heartbeat failure, worker can't reach queue, reconnecting in 1s\n"
     ]
    }
   ],
   "source": [
    "#make sure to run this\n",
    "sleep(1000000)"
   ]
  },
  {
   "cell_type": "code",
   "execution_count": null,
   "id": "146b67f5",
   "metadata": {},
   "outputs": [],
   "source": []
  }
 ],
 "metadata": {
  "kernelspec": {
   "display_name": "Python 3 (ipykernel)",
   "language": "python",
   "name": "python3"
  },
  "language_info": {
   "codemirror_mode": {
    "name": "ipython",
    "version": 3
   },
   "file_extension": ".py",
   "mimetype": "text/x-python",
   "name": "python",
   "nbconvert_exporter": "python",
   "pygments_lexer": "ipython3",
   "version": "3.9.16"
  },
  "toc": {
   "base_numbering": 1,
   "nav_menu": {},
   "number_sections": true,
   "sideBar": true,
   "skip_h1_title": false,
   "title_cell": "Table of Contents",
   "title_sidebar": "Contents",
   "toc_cell": false,
   "toc_position": {},
   "toc_section_display": true,
   "toc_window_display": true
  }
 },
 "nbformat": 4,
 "nbformat_minor": 5
}
