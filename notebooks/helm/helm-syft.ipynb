{
 "cells": [
  {
   "cell_type": "code",
   "execution_count": 1,
   "id": "a196017f",
   "metadata": {},
   "outputs": [
    {
     "name": "stderr",
     "output_type": "stream",
     "text": [
      "kj/filesystem-disk-unix.c++:1703: warning: PWD environment variable doesn't match current directory; pwd = /Users/koen/workspace/pysyft\n"
     ]
    }
   ],
   "source": [
    "import syft as sy\n",
    "from syft import ActionObject\n",
    "from syft import syft_function, syft_function_single_use\n",
    "from time import sleep"
   ]
  },
  {
   "cell_type": "code",
   "execution_count": 2,
   "id": "2b24b2ee",
   "metadata": {},
   "outputs": [],
   "source": [
    "# node = sy.orchestra.launch(name=\"test-domain-helm\", port=8800, dev_mode=True, reset=True, tail=True)"
   ]
  },
  {
   "cell_type": "markdown",
   "id": "cb2d07de",
   "metadata": {},
   "source": [
    "with server"
   ]
  },
  {
   "cell_type": "code",
   "execution_count": 3,
   "id": "4cbee0b1",
   "metadata": {},
   "outputs": [],
   "source": [
    "# client = sy.login(port=8800, email=\"info@openmined.org\", password=\"changethis\")"
   ]
  },
  {
   "cell_type": "markdown",
   "id": "6c9ce5a0",
   "metadata": {},
   "source": [
    "Without server"
   ]
  },
  {
   "cell_type": "code",
   "execution_count": 4,
   "id": "9b31c627",
   "metadata": {},
   "outputs": [
    {
     "name": "stdout",
     "output_type": "stream",
     "text": [
      "CREATING A PRODUCER ON tcp://127.0.0.1:None\n",
      "CREATING A CONSUMER ON tcp://127.0.0.1:None\n",
      "spawning thread\n",
      "CREATING A CONSUMER ON tcp://127.0.0.1:None\n",
      "spawning thread\n",
      "CREATING A CONSUMER ON tcp://127.0.0.1:None\n",
      "spawning thread\n",
      "Logged into <test-domain-helm2: High side Domain> as <info@openmined.org>\n"
     ]
    },
    {
     "data": {
      "text/html": [
       "<div class=\"alert-warning\" style=\"padding:5px;\"><strong>SyftWarning</strong>: You are using a default password. Please change the password using `[your_client].me.set_password([new_password])`.</div><br />"
      ],
      "text/plain": [
       "SyftWarning: You are using a default password. Please change the password using `[your_client].me.set_password([new_password])`."
      ]
     },
     "metadata": {},
     "output_type": "display_data"
    }
   ],
   "source": [
    "node = sy.orchestra.launch(name=\"test-domain-helm2\", dev_mode=True, reset=True, n_consumers=3)\n",
    "client = node.login(email=\"info@openmined.org\", password=\"changethis\")"
   ]
  },
  {
   "cell_type": "code",
   "execution_count": 5,
   "id": "1a612f09",
   "metadata": {},
   "outputs": [],
   "source": [
    "# from gevent import monkey"
   ]
  },
  {
   "cell_type": "code",
   "execution_count": 6,
   "id": "67a1ee69",
   "metadata": {},
   "outputs": [],
   "source": [
    "# monkey.patch_all(thread=True)"
   ]
  },
  {
   "cell_type": "code",
   "execution_count": 7,
   "id": "475f6a75",
   "metadata": {},
   "outputs": [],
   "source": [
    "# type(node.python_node.queue_manager.consumers[\"api_call\"])"
   ]
  },
  {
   "cell_type": "code",
   "execution_count": 8,
   "id": "11728060",
   "metadata": {},
   "outputs": [],
   "source": [
    "# node.python_node.queue_manager.consumers[\"api_call\"][0].address"
   ]
  },
  {
   "cell_type": "markdown",
   "id": "176addfb",
   "metadata": {},
   "source": [
    "setup: compute train-test overlap between a very large train set and a smaller test set. Small test is still to big for memory, so we split it into 54 parts. We keep 1 of those parts in memory. We dont keep the train set in memory, but read and compare with 1/54 parts line by line. Each part takes ~30 hours, but we can run 54 processes in parallel."
   ]
  },
  {
   "cell_type": "markdown",
   "id": "a0cea81b",
   "metadata": {},
   "source": [
    "# Setup syft functions"
   ]
  },
  {
   "cell_type": "markdown",
   "id": "da2b114a",
   "metadata": {},
   "source": [
    "## Dataset"
   ]
  },
  {
   "cell_type": "code",
   "execution_count": 9,
   "id": "83307a2f",
   "metadata": {},
   "outputs": [],
   "source": [
    "x = ActionObject.from_obj([1,2])\n",
    "x_ptr = x.send(client)"
   ]
  },
  {
   "cell_type": "markdown",
   "id": "31bbb3ff",
   "metadata": {},
   "source": [
    "## Batch function"
   ]
  },
  {
   "cell_type": "code",
   "execution_count": 10,
   "id": "5d2fd248",
   "metadata": {},
   "outputs": [
    {
     "data": {
      "text/html": [
       "<div class=\"alert-success\" style=\"padding:5px;\"><strong>SyftSuccess</strong>: Syft function 'process_batch' successfully created. To add a code request, please create a project using `project = syft.Project(...)`, then use command `project.create_code_request`.</div><br />"
      ],
      "text/plain": [
       "SyftSuccess: Syft function 'process_batch' successfully created. To add a code request, please create a project using `project = syft.Project(...)`, then use command `project.create_code_request`."
      ]
     },
     "metadata": {},
     "output_type": "display_data"
    }
   ],
   "source": [
    "@syft_function()\n",
    "def process_batch(batch):\n",
    "    # takes 30 hours normally\n",
    "    print(f\"starting batch {batch}\")\n",
    "    from time import sleep\n",
    "    sleep(1)\n",
    "    print(\"done\")\n",
    "    return batch+1"
   ]
  },
  {
   "cell_type": "code",
   "execution_count": 11,
   "id": "9ba22655",
   "metadata": {},
   "outputs": [
    {
     "data": {
      "text/html": [
       "<div class=\"alert-success\" style=\"padding:5px;\"><strong>SyftSuccess</strong>: User Code Submitted</div><br />"
      ],
      "text/plain": [
       "SyftSuccess: User Code Submitted"
      ]
     },
     "execution_count": 11,
     "metadata": {},
     "output_type": "execute_result"
    }
   ],
   "source": [
    "client.code.submit(process_batch)"
   ]
  },
  {
   "cell_type": "markdown",
   "id": "01319f1f",
   "metadata": {},
   "source": [
    "## Main function"
   ]
  },
  {
   "cell_type": "code",
   "execution_count": 12,
   "id": "ca1b95ee",
   "metadata": {},
   "outputs": [
    {
     "data": {
      "text/html": [
       "<div class=\"alert-success\" style=\"padding:5px;\"><strong>SyftSuccess</strong>: Syft function 'process_all' successfully created. To add a code request, please create a project using `project = syft.Project(...)`, then use command `project.create_code_request`.</div><br />"
      ],
      "text/plain": [
       "SyftSuccess: Syft function 'process_all' successfully created. To add a code request, please create a project using `project = syft.Project(...)`, then use command `project.create_code_request`."
      ]
     },
     "metadata": {},
     "output_type": "display_data"
    }
   ],
   "source": [
    "@syft_function_single_use(x=x_ptr)\n",
    "def process_all(domain, x):\n",
    "    jobs = []\n",
    "    print(\"Launching jobs\")\n",
    "    for elem in x:\n",
    "        # We inject a domain object in the scope\n",
    "        batch_job = domain.launch_job(process_batch, batch=elem)\n",
    "        jobs += [batch_job]\n",
    "    print(\"starting aggregation\")\n",
    "    print(\"Done\")\n",
    "    results = [x.wait().get() for x in jobs]\n",
    "#     return 1\n",
    "    return sum(results)"
   ]
  },
  {
   "cell_type": "markdown",
   "id": "1e77c5db",
   "metadata": {},
   "source": [
    "# Approve & run"
   ]
  },
  {
   "cell_type": "code",
   "execution_count": 13,
   "id": "0ab572f9",
   "metadata": {
    "scrolled": false
   },
   "outputs": [
    {
     "name": "stdout",
     "output_type": "stream",
     "text": [
      "Request approved for domain test-domain-helm2\n"
     ]
    },
    {
     "data": {
      "text/html": [
       "<div class=\"alert-success\" style=\"padding:5px;\"><strong>SyftSuccess</strong>: Request 6c4cb53ba94d41fe947f4df9b4ccb942 changes applied</div><br />"
      ],
      "text/plain": [
       "SyftSuccess: Request 6c4cb53ba94d41fe947f4df9b4ccb942 changes applied"
      ]
     },
     "execution_count": 13,
     "metadata": {},
     "output_type": "execute_result"
    }
   ],
   "source": [
    "client.code.request_code_execution(process_all)\n",
    "client.requests[-1].approve()"
   ]
  },
  {
   "cell_type": "code",
   "execution_count": 14,
   "id": "375ed965",
   "metadata": {
    "scrolled": true
   },
   "outputs": [],
   "source": [
    "job = client.code.process_all(x=x_ptr, blocking=False)\n",
    "sleep(1)"
   ]
  },
  {
   "cell_type": "code",
   "execution_count": null,
   "id": "7b8b2a2e",
   "metadata": {},
   "outputs": [
    {
     "name": "stdout",
     "output_type": "stream",
     "text": [
      "FUNCTION LOG: Launching jobs\n",
      "FUNCTION LOG: starting aggregation\n",
      "FUNCTION LOG: Done\n",
      "FUNCTION LOG: starting batch 2\n",
      "FUNCTION LOG: starting batch 1\n"
     ]
    }
   ],
   "source": [
    "job.wait().get()"
   ]
  },
  {
   "cell_type": "code",
   "execution_count": 18,
   "id": "9cb2e2bf",
   "metadata": {},
   "outputs": [
    {
     "name": "stdout",
     "output_type": "stream",
     "text": [
      "starting batch 2\n",
      "done\n",
      "done\n",
      "\n"
     ]
    }
   ],
   "source": [
    "job.subjobs[0].logs()"
   ]
  },
  {
   "cell_type": "code",
   "execution_count": 20,
   "id": "9b062ec3",
   "metadata": {},
   "outputs": [],
   "source": [
    "# job.subjobs[1].logs()"
   ]
  },
  {
   "cell_type": "code",
   "execution_count": null,
   "id": "371e867b",
   "metadata": {},
   "outputs": [],
   "source": []
  },
  {
   "cell_type": "code",
   "execution_count": 18,
   "id": "097696b3",
   "metadata": {},
   "outputs": [
    {
     "data": {
      "text/plain": [
       "2"
      ]
     },
     "execution_count": 18,
     "metadata": {},
     "output_type": "execute_result"
    }
   ],
   "source": [
    "job.subjobs[1].wait().get()"
   ]
  },
  {
   "cell_type": "code",
   "execution_count": null,
   "id": "42380d8b",
   "metadata": {},
   "outputs": [],
   "source": [
    "# job.subjobs[-1]"
   ]
  },
  {
   "cell_type": "code",
   "execution_count": null,
   "id": "4b76b230",
   "metadata": {},
   "outputs": [],
   "source": [
    "subjobs = job.wait().get()"
   ]
  },
  {
   "cell_type": "code",
   "execution_count": null,
   "id": "b50ba70c",
   "metadata": {},
   "outputs": [],
   "source": [
    "job.logs()"
   ]
  },
  {
   "cell_type": "code",
   "execution_count": null,
   "id": "761aec7f",
   "metadata": {},
   "outputs": [
    {
     "name": "stdout",
     "output_type": "stream",
     "text": [
      "job.get_subjobs\n",
      "Timeout elapsed after 30 seconds while trying to acquiring lock.\n",
      "> \u001b[0;32m/Users/koen/workspace/PySyft/packages/syft/src/syft/store/locks.py\u001b[0m(398)\u001b[0;36macquire\u001b[0;34m()\u001b[0m\n",
      "\u001b[0;32m    397 \u001b[0;31m        \u001b[0mipdb\u001b[0m\u001b[0;34m.\u001b[0m\u001b[0mset_trace\u001b[0m\u001b[0;34m(\u001b[0m\u001b[0;34m)\u001b[0m\u001b[0;34m\u001b[0m\u001b[0;34m\u001b[0m\u001b[0m\n",
      "\u001b[0m\u001b[0;32m--> 398 \u001b[0;31m        \u001b[0;32mreturn\u001b[0m \u001b[0;32mFalse\u001b[0m\u001b[0;34m\u001b[0m\u001b[0;34m\u001b[0m\u001b[0m\n",
      "\u001b[0m\u001b[0;32m    399 \u001b[0;31m\u001b[0;34m\u001b[0m\u001b[0m\n",
      "\u001b[0m\n",
      "Timeout elapsed after 30 seconds while trying to acquiring lock.\n",
      "> \u001b[0;32m/Users/koen/workspace/PySyft/packages/syft/src/syft/store/locks.py\u001b[0m(398)\u001b[0;36macquire\u001b[0;34m()\u001b[0m\n",
      "\u001b[0;32m    397 \u001b[0;31m        \u001b[0mipdb\u001b[0m\u001b[0;34m.\u001b[0m\u001b[0mset_trace\u001b[0m\u001b[0;34m(\u001b[0m\u001b[0;34m)\u001b[0m\u001b[0;34m\u001b[0m\u001b[0;34m\u001b[0m\u001b[0m\n",
      "\u001b[0m\u001b[0;32m--> 398 \u001b[0;31m        \u001b[0;32mreturn\u001b[0m \u001b[0;32mFalse\u001b[0m\u001b[0;34m\u001b[0m\u001b[0;34m\u001b[0m\u001b[0m\n",
      "\u001b[0m\u001b[0;32m    399 \u001b[0;31m\u001b[0;34m\u001b[0m\u001b[0m\n",
      "\u001b[0m\n"
     ]
    }
   ],
   "source": [
    "job.subjobs[1].logs()"
   ]
  },
  {
   "cell_type": "code",
   "execution_count": 16,
   "id": "c612d8d9",
   "metadata": {},
   "outputs": [
    {
     "name": "stdout",
     "output_type": "stream",
     "text": [
      "job.get\n",
      "job.get\n",
      "job.get\n",
      "job.get\n",
      "job.get\n",
      "job.get\n",
      "job.get\n",
      "job.get\n",
      "job.get\n",
      "job.get\n",
      "job.get\n",
      "job.get\n",
      "job.get\n",
      "job.get\n",
      "job.get\n",
      "job.get\n",
      "job.get\n",
      "job.get\n",
      "job.get\n",
      "job.get\n",
      "job.get\n",
      "job.get\n",
      "job.get\n",
      "job.get\n",
      "job.get\n",
      "job.get\n",
      "job.get\n",
      "job.get\n",
      "job.get\n",
      "job.get\n",
      "job.get\n",
      "job.get\n",
      "job.get\n",
      "job.get\n",
      "job.get\n",
      "job.get\n",
      "job.get\n",
      "job.get\n",
      "job.get\n",
      "job.get\n",
      "job.get\n",
      "job.get\n",
      "job.get\n",
      "job.get\n",
      "job.get\n",
      "job.get\n",
      "job.get\n",
      "job.get\n",
      "job.get\n",
      "job.get\n",
      "job.get\n",
      "job.get\n",
      "job.get\n",
      "job.get\n",
      "job.get\n",
      "job.get\n",
      "job.get\n",
      "job.get\n",
      "job.get\n",
      "job.get\n",
      "job.get\n",
      "job.get\n",
      "job.get\n"
     ]
    },
    {
     "name": "stderr",
     "output_type": "stream",
     "text": [
      "KeyboardInterrupt\n",
      "2023-09-26T17:19:49Z\n"
     ]
    },
    {
     "ename": "KeyboardInterrupt",
     "evalue": "",
     "output_type": "error",
     "traceback": [
      "\u001b[0;31m---------------------------------------------------------------------------\u001b[0m",
      "\u001b[0;31mKeyboardInterrupt\u001b[0m                         Traceback (most recent call last)",
      "Cell \u001b[0;32mIn[16], line 1\u001b[0m\n\u001b[0;32m----> 1\u001b[0m ptr \u001b[38;5;241m=\u001b[39m \u001b[43mjob\u001b[49m\u001b[38;5;241;43m.\u001b[39;49m\u001b[43mwait\u001b[49m\u001b[43m(\u001b[49m\u001b[43m)\u001b[49m\n\u001b[1;32m      2\u001b[0m ptr\n",
      "File \u001b[0;32m~/workspace/PySyft/packages/syft/src/syft/service/job/job_stash.py:155\u001b[0m, in \u001b[0;36mJob.wait\u001b[0;34m(self)\u001b[0m\n\u001b[1;32m    153\u001b[0m     \u001b[38;5;28;01mreturn\u001b[39;00m \u001b[38;5;28mself\u001b[39m\u001b[38;5;241m.\u001b[39mresolve\n\u001b[1;32m    154\u001b[0m \u001b[38;5;28;01mwhile\u001b[39;00m \u001b[38;5;28;01mTrue\u001b[39;00m:\n\u001b[0;32m--> 155\u001b[0m     \u001b[38;5;28;43mself\u001b[39;49m\u001b[38;5;241;43m.\u001b[39;49m\u001b[43mfetch\u001b[49m\u001b[43m(\u001b[49m\u001b[43m)\u001b[49m\n\u001b[1;32m    156\u001b[0m     sleep(\u001b[38;5;241m0.1\u001b[39m)\n\u001b[1;32m    157\u001b[0m     \u001b[38;5;28;01mif\u001b[39;00m \u001b[38;5;28mself\u001b[39m\u001b[38;5;241m.\u001b[39mresolved:\n",
      "File \u001b[0;32m~/workspace/PySyft/packages/syft/src/syft/service/job/job_stash.py:71\u001b[0m, in \u001b[0;36mJob.fetch\u001b[0;34m(self)\u001b[0m\n\u001b[1;32m     60\u001b[0m api \u001b[38;5;241m=\u001b[39m APIRegistry\u001b[38;5;241m.\u001b[39mapi_for(\n\u001b[1;32m     61\u001b[0m     node_uid\u001b[38;5;241m=\u001b[39m\u001b[38;5;28mself\u001b[39m\u001b[38;5;241m.\u001b[39mnode_uid,\n\u001b[1;32m     62\u001b[0m     user_verify_key\u001b[38;5;241m=\u001b[39m\u001b[38;5;28mself\u001b[39m\u001b[38;5;241m.\u001b[39msyft_client_verify_key,\n\u001b[1;32m     63\u001b[0m )\n\u001b[1;32m     64\u001b[0m call \u001b[38;5;241m=\u001b[39m SyftAPICall(\n\u001b[1;32m     65\u001b[0m     node_uid\u001b[38;5;241m=\u001b[39m\u001b[38;5;28mself\u001b[39m\u001b[38;5;241m.\u001b[39mnode_uid,\n\u001b[1;32m     66\u001b[0m     path\u001b[38;5;241m=\u001b[39m\u001b[38;5;124m\"\u001b[39m\u001b[38;5;124mjob.get\u001b[39m\u001b[38;5;124m\"\u001b[39m,\n\u001b[0;32m   (...)\u001b[0m\n\u001b[1;32m     69\u001b[0m     blocking\u001b[38;5;241m=\u001b[39m\u001b[38;5;28;01mTrue\u001b[39;00m,\n\u001b[1;32m     70\u001b[0m )\n\u001b[0;32m---> 71\u001b[0m job \u001b[38;5;241m=\u001b[39m \u001b[43mapi\u001b[49m\u001b[38;5;241;43m.\u001b[39;49m\u001b[43mmake_call\u001b[49m\u001b[43m(\u001b[49m\u001b[43mcall\u001b[49m\u001b[43m)\u001b[49m\n\u001b[1;32m     72\u001b[0m \u001b[38;5;28mself\u001b[39m\u001b[38;5;241m.\u001b[39mresolved \u001b[38;5;241m=\u001b[39m job\u001b[38;5;241m.\u001b[39mresolved\n\u001b[1;32m     73\u001b[0m \u001b[38;5;28;01mif\u001b[39;00m job\u001b[38;5;241m.\u001b[39mresolved:\n",
      "File \u001b[0;32m~/workspace/PySyft/packages/syft/src/syft/client/api.py:490\u001b[0m, in \u001b[0;36mSyftAPI.make_call\u001b[0;34m(self, api_call)\u001b[0m\n\u001b[1;32m    488\u001b[0m \u001b[38;5;28;01mdef\u001b[39;00m \u001b[38;5;21mmake_call\u001b[39m(\u001b[38;5;28mself\u001b[39m, api_call: SyftAPICall) \u001b[38;5;241m-\u001b[39m\u001b[38;5;241m>\u001b[39m Result:\n\u001b[1;32m    489\u001b[0m     signed_call \u001b[38;5;241m=\u001b[39m api_call\u001b[38;5;241m.\u001b[39msign(credentials\u001b[38;5;241m=\u001b[39m\u001b[38;5;28mself\u001b[39m\u001b[38;5;241m.\u001b[39msigning_key)\n\u001b[0;32m--> 490\u001b[0m     signed_result \u001b[38;5;241m=\u001b[39m \u001b[38;5;28;43mself\u001b[39;49m\u001b[38;5;241;43m.\u001b[39;49m\u001b[43mconnection\u001b[49m\u001b[38;5;241;43m.\u001b[39;49m\u001b[43mmake_call\u001b[49m\u001b[43m(\u001b[49m\u001b[43msigned_call\u001b[49m\u001b[43m)\u001b[49m\n\u001b[1;32m    492\u001b[0m     result \u001b[38;5;241m=\u001b[39m debox_signed_syftapicall_response(signed_result\u001b[38;5;241m=\u001b[39msigned_result)\n\u001b[1;32m    494\u001b[0m     \u001b[38;5;28;01mif\u001b[39;00m \u001b[38;5;28misinstance\u001b[39m(result, OkErr):\n",
      "File \u001b[0;32m~/workspace/PySyft/packages/syft/src/syft/client/client.py:405\u001b[0m, in \u001b[0;36mPythonConnection.make_call\u001b[0;34m(self, signed_call)\u001b[0m\n\u001b[1;32m    404\u001b[0m \u001b[38;5;28;01mdef\u001b[39;00m \u001b[38;5;21mmake_call\u001b[39m(\u001b[38;5;28mself\u001b[39m, signed_call: SignedSyftAPICall) \u001b[38;5;241m-\u001b[39m\u001b[38;5;241m>\u001b[39m Union[Any, SyftError]:\n\u001b[0;32m--> 405\u001b[0m     \u001b[38;5;28;01mreturn\u001b[39;00m \u001b[38;5;28;43mself\u001b[39;49m\u001b[38;5;241;43m.\u001b[39;49m\u001b[43mnode\u001b[49m\u001b[38;5;241;43m.\u001b[39;49m\u001b[43mhandle_api_call\u001b[49m\u001b[43m(\u001b[49m\u001b[43msigned_call\u001b[49m\u001b[43m)\u001b[49m\n",
      "File \u001b[0;32m~/workspace/PySyft/packages/syft/src/syft/node/node.py:813\u001b[0m, in \u001b[0;36mNode.handle_api_call\u001b[0;34m(self, api_call, job_id)\u001b[0m\n\u001b[1;32m    811\u001b[0m \u001b[38;5;28mprint\u001b[39m(api_call\u001b[38;5;241m.\u001b[39mmessage\u001b[38;5;241m.\u001b[39mpath)\n\u001b[1;32m    812\u001b[0m \u001b[38;5;66;03m# Get the result\u001b[39;00m\n\u001b[0;32m--> 813\u001b[0m result \u001b[38;5;241m=\u001b[39m \u001b[38;5;28;43mself\u001b[39;49m\u001b[38;5;241;43m.\u001b[39;49m\u001b[43mhandle_api_call_with_unsigned_result\u001b[49m\u001b[43m(\u001b[49m\u001b[43mapi_call\u001b[49m\u001b[43m,\u001b[49m\u001b[43m \u001b[49m\u001b[43mjob_id\u001b[49m\u001b[38;5;241;43m=\u001b[39;49m\u001b[43mjob_id\u001b[49m\u001b[43m)\u001b[49m\n\u001b[1;32m    814\u001b[0m \u001b[38;5;66;03m# Sign the result\u001b[39;00m\n\u001b[1;32m    815\u001b[0m signed_result \u001b[38;5;241m=\u001b[39m SyftAPIData(data\u001b[38;5;241m=\u001b[39mresult)\u001b[38;5;241m.\u001b[39msign(\u001b[38;5;28mself\u001b[39m\u001b[38;5;241m.\u001b[39msigning_key)\n",
      "File \u001b[0;32m~/workspace/PySyft/packages/syft/src/syft/node/node.py:849\u001b[0m, in \u001b[0;36mNode.handle_api_call_with_unsigned_result\u001b[0;34m(self, api_call, job_id)\u001b[0m\n\u001b[1;32m    846\u001b[0m credentials: SyftVerifyKey \u001b[38;5;241m=\u001b[39m api_call\u001b[38;5;241m.\u001b[39mcredentials\n\u001b[1;32m    847\u001b[0m api_call \u001b[38;5;241m=\u001b[39m api_call\u001b[38;5;241m.\u001b[39mmessage\n\u001b[0;32m--> 849\u001b[0m role \u001b[38;5;241m=\u001b[39m \u001b[38;5;28;43mself\u001b[39;49m\u001b[38;5;241;43m.\u001b[39;49m\u001b[43mget_role_for_credentials\u001b[49m\u001b[43m(\u001b[49m\u001b[43mcredentials\u001b[49m\u001b[38;5;241;43m=\u001b[39;49m\u001b[43mcredentials\u001b[49m\u001b[43m)\u001b[49m\n\u001b[1;32m    850\u001b[0m context \u001b[38;5;241m=\u001b[39m AuthedServiceContext(\n\u001b[1;32m    851\u001b[0m     node\u001b[38;5;241m=\u001b[39m\u001b[38;5;28mself\u001b[39m, credentials\u001b[38;5;241m=\u001b[39mcredentials, role\u001b[38;5;241m=\u001b[39mrole, job_id\u001b[38;5;241m=\u001b[39mjob_id\n\u001b[1;32m    852\u001b[0m )\n\u001b[1;32m    853\u001b[0m AuthNodeContextRegistry\u001b[38;5;241m.\u001b[39mset_node_context(\u001b[38;5;28mself\u001b[39m\u001b[38;5;241m.\u001b[39mid, context, credentials)\n",
      "File \u001b[0;32m~/workspace/PySyft/packages/syft/src/syft/node/node.py:801\u001b[0m, in \u001b[0;36mNode.get_role_for_credentials\u001b[0;34m(self, credentials)\u001b[0m\n\u001b[1;32m    800\u001b[0m \u001b[38;5;28;01mdef\u001b[39;00m \u001b[38;5;21mget_role_for_credentials\u001b[39m(\u001b[38;5;28mself\u001b[39m, credentials: SyftVerifyKey) \u001b[38;5;241m-\u001b[39m\u001b[38;5;241m>\u001b[39m ServiceRole:\n\u001b[0;32m--> 801\u001b[0m     role \u001b[38;5;241m=\u001b[39m \u001b[38;5;28;43mself\u001b[39;49m\u001b[38;5;241;43m.\u001b[39;49m\u001b[43mget_service\u001b[49m\u001b[43m(\u001b[49m\u001b[38;5;124;43m\"\u001b[39;49m\u001b[38;5;124;43muserservice\u001b[39;49m\u001b[38;5;124;43m\"\u001b[39;49m\u001b[43m)\u001b[49m\u001b[38;5;241;43m.\u001b[39;49m\u001b[43mget_role_for_credentials\u001b[49m\u001b[43m(\u001b[49m\n\u001b[1;32m    802\u001b[0m \u001b[43m        \u001b[49m\u001b[43mcredentials\u001b[49m\u001b[38;5;241;43m=\u001b[39;49m\u001b[43mcredentials\u001b[49m\n\u001b[1;32m    803\u001b[0m \u001b[43m    \u001b[49m\u001b[43m)\u001b[49m\n\u001b[1;32m    804\u001b[0m     \u001b[38;5;28;01mreturn\u001b[39;00m role\n",
      "File \u001b[0;32m~/workspace/PySyft/packages/syft/src/syft/service/user/user_service.py:137\u001b[0m, in \u001b[0;36mUserService.get_role_for_credentials\u001b[0;34m(self, credentials)\u001b[0m\n\u001b[1;32m    131\u001b[0m \u001b[38;5;28;01mdef\u001b[39;00m \u001b[38;5;21mget_role_for_credentials\u001b[39m(\n\u001b[1;32m    132\u001b[0m     \u001b[38;5;28mself\u001b[39m, credentials: Union[SyftVerifyKey, SyftSigningKey]\n\u001b[1;32m    133\u001b[0m ) \u001b[38;5;241m-\u001b[39m\u001b[38;5;241m>\u001b[39m Union[Optional[ServiceRole], SyftError]:\n\u001b[1;32m    134\u001b[0m     \u001b[38;5;66;03m# they could be different\u001b[39;00m\n\u001b[1;32m    136\u001b[0m     \u001b[38;5;28;01mif\u001b[39;00m \u001b[38;5;28misinstance\u001b[39m(credentials, SyftVerifyKey):\n\u001b[0;32m--> 137\u001b[0m         result \u001b[38;5;241m=\u001b[39m \u001b[38;5;28;43mself\u001b[39;49m\u001b[38;5;241;43m.\u001b[39;49m\u001b[43mstash\u001b[49m\u001b[38;5;241;43m.\u001b[39;49m\u001b[43mget_by_verify_key\u001b[49m\u001b[43m(\u001b[49m\n\u001b[1;32m    138\u001b[0m \u001b[43m            \u001b[49m\u001b[43mcredentials\u001b[49m\u001b[38;5;241;43m=\u001b[39;49m\u001b[43mcredentials\u001b[49m\u001b[43m,\u001b[49m\u001b[43m \u001b[49m\u001b[43mverify_key\u001b[49m\u001b[38;5;241;43m=\u001b[39;49m\u001b[43mcredentials\u001b[49m\n\u001b[1;32m    139\u001b[0m \u001b[43m        \u001b[49m\u001b[43m)\u001b[49m\n\u001b[1;32m    140\u001b[0m     \u001b[38;5;28;01melse\u001b[39;00m:\n\u001b[1;32m    141\u001b[0m         result \u001b[38;5;241m=\u001b[39m \u001b[38;5;28mself\u001b[39m\u001b[38;5;241m.\u001b[39mstash\u001b[38;5;241m.\u001b[39mget_by_signing_key(\n\u001b[1;32m    142\u001b[0m             credentials\u001b[38;5;241m=\u001b[39mcredentials, signing_key\u001b[38;5;241m=\u001b[39mcredentials\n\u001b[1;32m    143\u001b[0m         )\n",
      "File \u001b[0;32m~/workspace/PySyft/packages/syft/src/syft/service/user/user_stash.py:99\u001b[0m, in \u001b[0;36mUserStash.get_by_verify_key\u001b[0;34m(self, credentials, verify_key)\u001b[0m\n\u001b[1;32m     97\u001b[0m     verify_key \u001b[38;5;241m=\u001b[39m SyftVerifyKey\u001b[38;5;241m.\u001b[39mfrom_string(verify_key)\n\u001b[1;32m     98\u001b[0m qks \u001b[38;5;241m=\u001b[39m QueryKeys(qks\u001b[38;5;241m=\u001b[39m[VerifyKeyPartitionKey\u001b[38;5;241m.\u001b[39mwith_obj(verify_key)])\n\u001b[0;32m---> 99\u001b[0m \u001b[38;5;28;01mreturn\u001b[39;00m \u001b[38;5;28;43mself\u001b[39;49m\u001b[38;5;241;43m.\u001b[39;49m\u001b[43mquery_one\u001b[49m\u001b[43m(\u001b[49m\u001b[43mcredentials\u001b[49m\u001b[38;5;241;43m=\u001b[39;49m\u001b[43mcredentials\u001b[49m\u001b[43m,\u001b[49m\u001b[43m \u001b[49m\u001b[43mqks\u001b[49m\u001b[38;5;241;43m=\u001b[39;49m\u001b[43mqks\u001b[49m\u001b[43m)\u001b[49m\n",
      "File \u001b[0;32m~/workspace/PySyft/packages/syft/src/syft/store/document_store.py:635\u001b[0m, in \u001b[0;36mBaseStash.query_one\u001b[0;34m(self, credentials, qks, order_by)\u001b[0m\n\u001b[1;32m    629\u001b[0m \u001b[38;5;28;01mdef\u001b[39;00m \u001b[38;5;21mquery_one\u001b[39m(\n\u001b[1;32m    630\u001b[0m     \u001b[38;5;28mself\u001b[39m,\n\u001b[1;32m    631\u001b[0m     credentials: SyftVerifyKey,\n\u001b[1;32m    632\u001b[0m     qks: Union[QueryKey, QueryKeys],\n\u001b[1;32m    633\u001b[0m     order_by: Optional[PartitionKey] \u001b[38;5;241m=\u001b[39m \u001b[38;5;28;01mNone\u001b[39;00m,\n\u001b[1;32m    634\u001b[0m ) \u001b[38;5;241m-\u001b[39m\u001b[38;5;241m>\u001b[39m Result[Optional[BaseStash\u001b[38;5;241m.\u001b[39mobject_type], \u001b[38;5;28mstr\u001b[39m]:\n\u001b[0;32m--> 635\u001b[0m     \u001b[38;5;28;01mreturn\u001b[39;00m \u001b[38;5;28;43mself\u001b[39;49m\u001b[38;5;241;43m.\u001b[39;49m\u001b[43mquery_all\u001b[49m\u001b[43m(\u001b[49m\n\u001b[1;32m    636\u001b[0m \u001b[43m        \u001b[49m\u001b[43mcredentials\u001b[49m\u001b[38;5;241;43m=\u001b[39;49m\u001b[43mcredentials\u001b[49m\u001b[43m,\u001b[49m\u001b[43m \u001b[49m\u001b[43mqks\u001b[49m\u001b[38;5;241;43m=\u001b[39;49m\u001b[43mqks\u001b[49m\u001b[43m,\u001b[49m\u001b[43m \u001b[49m\u001b[43morder_by\u001b[49m\u001b[38;5;241;43m=\u001b[39;49m\u001b[43morder_by\u001b[49m\n\u001b[1;32m    637\u001b[0m \u001b[43m    \u001b[49m\u001b[43m)\u001b[49m\u001b[38;5;241m.\u001b[39mand_then(first_or_none)\n",
      "File \u001b[0;32m~/workspace/PySyft/packages/syft/src/syft/store/document_store.py:613\u001b[0m, in \u001b[0;36mBaseStash.query_all\u001b[0;34m(self, credentials, qks, order_by)\u001b[0m\n\u001b[1;32m    610\u001b[0m index_qks \u001b[38;5;241m=\u001b[39m QueryKeys(qks\u001b[38;5;241m=\u001b[39munique_keys)\n\u001b[1;32m    611\u001b[0m search_qks \u001b[38;5;241m=\u001b[39m QueryKeys(qks\u001b[38;5;241m=\u001b[39msearchable_keys)\n\u001b[0;32m--> 613\u001b[0m \u001b[38;5;28;01mreturn\u001b[39;00m \u001b[38;5;28;43mself\u001b[39;49m\u001b[38;5;241;43m.\u001b[39;49m\u001b[43mpartition\u001b[49m\u001b[38;5;241;43m.\u001b[39;49m\u001b[43mfind_index_or_search_keys\u001b[49m\u001b[43m(\u001b[49m\n\u001b[1;32m    614\u001b[0m \u001b[43m    \u001b[49m\u001b[43mcredentials\u001b[49m\u001b[38;5;241;43m=\u001b[39;49m\u001b[43mcredentials\u001b[49m\u001b[43m,\u001b[49m\n\u001b[1;32m    615\u001b[0m \u001b[43m    \u001b[49m\u001b[43mindex_qks\u001b[49m\u001b[38;5;241;43m=\u001b[39;49m\u001b[43mindex_qks\u001b[49m\u001b[43m,\u001b[49m\n\u001b[1;32m    616\u001b[0m \u001b[43m    \u001b[49m\u001b[43msearch_qks\u001b[49m\u001b[38;5;241;43m=\u001b[39;49m\u001b[43msearch_qks\u001b[49m\u001b[43m,\u001b[49m\n\u001b[1;32m    617\u001b[0m \u001b[43m    \u001b[49m\u001b[43morder_by\u001b[49m\u001b[38;5;241;43m=\u001b[39;49m\u001b[43morder_by\u001b[49m\u001b[43m,\u001b[49m\n\u001b[1;32m    618\u001b[0m \u001b[43m\u001b[49m\u001b[43m)\u001b[49m\n",
      "File \u001b[0;32m~/workspace/PySyft/packages/syft/src/syft/store/document_store.py:400\u001b[0m, in \u001b[0;36mStorePartition.find_index_or_search_keys\u001b[0;34m(self, credentials, index_qks, search_qks, order_by)\u001b[0m\n\u001b[1;32m    393\u001b[0m \u001b[38;5;28;01mdef\u001b[39;00m \u001b[38;5;21mfind_index_or_search_keys\u001b[39m(\n\u001b[1;32m    394\u001b[0m     \u001b[38;5;28mself\u001b[39m,\n\u001b[1;32m    395\u001b[0m     credentials: SyftVerifyKey,\n\u001b[0;32m   (...)\u001b[0m\n\u001b[1;32m    398\u001b[0m     order_by: Optional[PartitionKey] \u001b[38;5;241m=\u001b[39m \u001b[38;5;28;01mNone\u001b[39;00m,\n\u001b[1;32m    399\u001b[0m ) \u001b[38;5;241m-\u001b[39m\u001b[38;5;241m>\u001b[39m Result[List[SyftObject], \u001b[38;5;28mstr\u001b[39m]:\n\u001b[0;32m--> 400\u001b[0m     \u001b[38;5;28;01mreturn\u001b[39;00m \u001b[38;5;28;43mself\u001b[39;49m\u001b[38;5;241;43m.\u001b[39;49m\u001b[43m_thread_safe_cbk\u001b[49m\u001b[43m(\u001b[49m\n\u001b[1;32m    401\u001b[0m \u001b[43m        \u001b[49m\u001b[38;5;28;43mself\u001b[39;49m\u001b[38;5;241;43m.\u001b[39;49m\u001b[43m_find_index_or_search_keys\u001b[49m\u001b[43m,\u001b[49m\n\u001b[1;32m    402\u001b[0m \u001b[43m        \u001b[49m\u001b[43mcredentials\u001b[49m\u001b[43m,\u001b[49m\n\u001b[1;32m    403\u001b[0m \u001b[43m        \u001b[49m\u001b[43mindex_qks\u001b[49m\u001b[38;5;241;43m=\u001b[39;49m\u001b[43mindex_qks\u001b[49m\u001b[43m,\u001b[49m\n\u001b[1;32m    404\u001b[0m \u001b[43m        \u001b[49m\u001b[43msearch_qks\u001b[49m\u001b[38;5;241;43m=\u001b[39;49m\u001b[43msearch_qks\u001b[49m\u001b[43m,\u001b[49m\n\u001b[1;32m    405\u001b[0m \u001b[43m        \u001b[49m\u001b[43morder_by\u001b[49m\u001b[38;5;241;43m=\u001b[39;49m\u001b[43morder_by\u001b[49m\u001b[43m,\u001b[49m\n\u001b[1;32m    406\u001b[0m \u001b[43m    \u001b[49m\u001b[43m)\u001b[49m\n",
      "File \u001b[0;32m~/workspace/PySyft/packages/syft/src/syft/store/document_store.py:355\u001b[0m, in \u001b[0;36mStorePartition._thread_safe_cbk\u001b[0;34m(self, cbk, *args, **kwargs)\u001b[0m\n\u001b[1;32m    354\u001b[0m \u001b[38;5;28;01mdef\u001b[39;00m \u001b[38;5;21m_thread_safe_cbk\u001b[39m(\u001b[38;5;28mself\u001b[39m, cbk: Callable, \u001b[38;5;241m*\u001b[39margs, \u001b[38;5;241m*\u001b[39m\u001b[38;5;241m*\u001b[39mkwargs):\n\u001b[0;32m--> 355\u001b[0m     locked \u001b[38;5;241m=\u001b[39m \u001b[38;5;28;43mself\u001b[39;49m\u001b[38;5;241;43m.\u001b[39;49m\u001b[43mlock\u001b[49m\u001b[38;5;241;43m.\u001b[39;49m\u001b[43macquire\u001b[49m\u001b[43m(\u001b[49m\u001b[43mblocking\u001b[49m\u001b[38;5;241;43m=\u001b[39;49m\u001b[38;5;28;43;01mTrue\u001b[39;49;00m\u001b[43m)\u001b[49m\n\u001b[1;32m    356\u001b[0m     \u001b[38;5;28;01mif\u001b[39;00m \u001b[38;5;129;01mnot\u001b[39;00m locked:\n\u001b[1;32m    357\u001b[0m         \u001b[38;5;28;01mreturn\u001b[39;00m Err(\u001b[38;5;124m\"\u001b[39m\u001b[38;5;124mFailed to acquire lock for the operation\u001b[39m\u001b[38;5;124m\"\u001b[39m)\n",
      "File \u001b[0;32m~/workspace/PySyft/packages/syft/src/syft/store/locks.py:389\u001b[0m, in \u001b[0;36mSyftLock.acquire\u001b[0;34m(self, blocking)\u001b[0m\n\u001b[1;32m    387\u001b[0m \u001b[38;5;28;01mwhile\u001b[39;00m timeout \u001b[38;5;241m>\u001b[39m\u001b[38;5;241m=\u001b[39m elapsed:\n\u001b[1;32m    388\u001b[0m     \u001b[38;5;28;01mif\u001b[39;00m \u001b[38;5;129;01mnot\u001b[39;00m \u001b[38;5;28mself\u001b[39m\u001b[38;5;241m.\u001b[39m_acquire():\n\u001b[0;32m--> 389\u001b[0m         \u001b[43mtime\u001b[49m\u001b[38;5;241;43m.\u001b[39;49m\u001b[43msleep\u001b[49m\u001b[43m(\u001b[49m\u001b[38;5;28;43mself\u001b[39;49m\u001b[38;5;241;43m.\u001b[39;49m\u001b[43mretry_interval\u001b[49m\u001b[43m)\u001b[49m\n\u001b[1;32m    390\u001b[0m         elapsed \u001b[38;5;241m=\u001b[39m time\u001b[38;5;241m.\u001b[39mtime() \u001b[38;5;241m-\u001b[39m start_time\n\u001b[1;32m    391\u001b[0m     \u001b[38;5;28;01melse\u001b[39;00m:\n\u001b[1;32m    392\u001b[0m         \u001b[38;5;66;03m# if self.lock_name == \"QueueItem\":\u001b[39;00m\n\u001b[1;32m    393\u001b[0m         \u001b[38;5;66;03m#     print(\"success\")\u001b[39;00m\n",
      "File \u001b[0;32m/opt/anaconda3/envs/syft/lib/python3.9/site-packages/gevent/hub.py:166\u001b[0m, in \u001b[0;36msleep\u001b[0;34m(seconds, ref)\u001b[0m\n\u001b[1;32m    161\u001b[0m \u001b[38;5;28;01mwith\u001b[39;00m loop\u001b[38;5;241m.\u001b[39mtimer(seconds, ref\u001b[38;5;241m=\u001b[39mref) \u001b[38;5;28;01mas\u001b[39;00m t:\n\u001b[1;32m    162\u001b[0m     \u001b[38;5;66;03m# Sleeping is expected to be an \"absolute\" measure with\u001b[39;00m\n\u001b[1;32m    163\u001b[0m     \u001b[38;5;66;03m# respect to time.time(), not a relative measure, so it's\u001b[39;00m\n\u001b[1;32m    164\u001b[0m     \u001b[38;5;66;03m# important to update the loop's notion of now before we start\u001b[39;00m\n\u001b[1;32m    165\u001b[0m     loop\u001b[38;5;241m.\u001b[39mupdate_now()\n\u001b[0;32m--> 166\u001b[0m     \u001b[43mhub\u001b[49m\u001b[38;5;241;43m.\u001b[39;49m\u001b[43mwait\u001b[49m\u001b[43m(\u001b[49m\u001b[43mt\u001b[49m\u001b[43m)\u001b[49m\n",
      "File \u001b[0;32msrc/gevent/_hub_primitives.py:46\u001b[0m, in \u001b[0;36mgevent._gevent_c_hub_primitives.WaitOperationsGreenlet.wait\u001b[0;34m()\u001b[0m\n",
      "File \u001b[0;32msrc/gevent/_hub_primitives.py:55\u001b[0m, in \u001b[0;36mgevent._gevent_c_hub_primitives.WaitOperationsGreenlet.wait\u001b[0;34m()\u001b[0m\n",
      "File \u001b[0;32msrc/gevent/_waiter.py:154\u001b[0m, in \u001b[0;36mgevent._gevent_c_waiter.Waiter.get\u001b[0;34m()\u001b[0m\n",
      "File \u001b[0;32msrc/gevent/_greenlet_primitives.py:61\u001b[0m, in \u001b[0;36mgevent._gevent_c_greenlet_primitives.SwitchOutGreenletWithLoop.switch\u001b[0;34m()\u001b[0m\n",
      "File \u001b[0;32msrc/gevent/_greenlet_primitives.py:61\u001b[0m, in \u001b[0;36mgevent._gevent_c_greenlet_primitives.SwitchOutGreenletWithLoop.switch\u001b[0;34m()\u001b[0m\n",
      "File \u001b[0;32msrc/gevent/_greenlet_primitives.py:65\u001b[0m, in \u001b[0;36mgevent._gevent_c_greenlet_primitives.SwitchOutGreenletWithLoop.switch\u001b[0;34m()\u001b[0m\n",
      "File \u001b[0;32msrc/gevent/_gevent_c_greenlet_primitives.pxd:35\u001b[0m, in \u001b[0;36mgevent._gevent_c_greenlet_primitives._greenlet_switch\u001b[0;34m()\u001b[0m\n",
      "\u001b[0;31mKeyboardInterrupt\u001b[0m: "
     ]
    }
   ],
   "source": [
    "ptr = job.wait()\n",
    "ptr"
   ]
  },
  {
   "cell_type": "code",
   "execution_count": null,
   "id": "79f46fb2",
   "metadata": {},
   "outputs": [],
   "source": [
    "res = ptr.get()\n",
    "res"
   ]
  },
  {
   "cell_type": "markdown",
   "id": "3d141e3b",
   "metadata": {},
   "source": [
    "##### Next steps"
   ]
  },
  {
   "cell_type": "markdown",
   "id": "4e856437",
   "metadata": {},
   "source": [
    "\n",
    "\n",
    "- [x] seaweedfs\n",
    "- - [ ] merge into normal code\n",
    "- [ ] Multiple consumers (queues)\n",
    "- - [x] implement messagequeue\n",
    "- - [ ] integrate messagequeue with the rest of the code\n",
    "- [x] test flow with async main function\n",
    "- [x]  up datastructures for jobs and logs\n",
    "- - [x] set up reprs\n",
    "- [ ] integrate helm code\n",
    "- [ ] test on large machine"
   ]
  },
  {
   "cell_type": "markdown",
   "id": "22b5f6ee",
   "metadata": {},
   "source": [
    "# OLD"
   ]
  },
  {
   "cell_type": "code",
   "execution_count": null,
   "id": "9b73bb07",
   "metadata": {},
   "outputs": [],
   "source": [
    "\n",
    "\n",
    "def user_func_process_all_11w12342534(domain, x):\n",
    "    def process_all(domain, x):\n",
    "        print(locals().keys())\n",
    "        print(globals().keys())\n",
    "        print('process_batch' in globals())\n",
    "        results = []\n",
    "        for elem in x:\n",
    "            job = domain.launch_job(process_batch, x_, y_)\n",
    "        return 1\n",
    "    result = process_all(domain=domain, x=x)\n",
    "    return result\n"
   ]
  },
  {
   "cell_type": "code",
   "execution_count": null,
   "id": "d161e03c",
   "metadata": {},
   "outputs": [],
   "source": [
    "# exec(\"\"\"\n",
    "# print(locals())\n",
    "# print('b')\"\"\"\n",
    "#     )"
   ]
  },
  {
   "cell_type": "code",
   "execution_count": null,
   "id": "a4078764",
   "metadata": {},
   "outputs": [],
   "source": [
    "# res.get()"
   ]
  },
  {
   "cell_type": "code",
   "execution_count": null,
   "id": "704eda02",
   "metadata": {},
   "outputs": [],
   "source": [
    "s = \"\"\"\n",
    "def y():\n",
    "    print('inner local scope', 'z' in locals().keys())\n",
    "    print('inner global scope', 'z' in globals().keys())\n",
    "    print(z)\n",
    "\"\"\""
   ]
  },
  {
   "cell_type": "code",
   "execution_count": null,
   "id": "f1bf7f9b",
   "metadata": {},
   "outputs": [],
   "source": [
    "_locals = {\"z\": 1}"
   ]
  },
  {
   "cell_type": "code",
   "execution_count": null,
   "id": "5ab56b04",
   "metadata": {},
   "outputs": [],
   "source": []
  }
 ],
 "metadata": {
  "kernelspec": {
   "display_name": "Python 3 (ipykernel)",
   "language": "python",
   "name": "python3"
  },
  "language_info": {
   "codemirror_mode": {
    "name": "ipython",
    "version": 3
   },
   "file_extension": ".py",
   "mimetype": "text/x-python",
   "name": "python",
   "nbconvert_exporter": "python",
   "pygments_lexer": "ipython3",
   "version": "3.9.16"
  },
  "toc": {
   "base_numbering": 1,
   "nav_menu": {},
   "number_sections": true,
   "sideBar": true,
   "skip_h1_title": false,
   "title_cell": "Table of Contents",
   "title_sidebar": "Contents",
   "toc_cell": false,
   "toc_position": {},
   "toc_section_display": true,
   "toc_window_display": true
  }
 },
 "nbformat": 4,
 "nbformat_minor": 5
}
