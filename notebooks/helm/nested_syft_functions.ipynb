{
 "cells": [
  {
   "cell_type": "code",
   "execution_count": 1,
   "id": "a196017f",
   "metadata": {},
   "outputs": [
    {
     "name": "stderr",
     "output_type": "stream",
     "text": [
      "kj/filesystem-disk-unix.c++:1703: warning: PWD environment variable doesn't match current directory; pwd = /Users/koen/workspace/pysyft\n"
     ]
    }
   ],
   "source": [
    "import syft as sy\n",
    "from syft import ActionObject\n",
    "from syft import syft_function, syft_function_single_use\n",
    "from time import sleep\n",
    "import os\n",
    "import psutil\n",
    "import inspect"
   ]
  },
  {
   "cell_type": "markdown",
   "id": "cb2d07de",
   "metadata": {},
   "source": [
    "with server"
   ]
  },
  {
   "cell_type": "code",
   "execution_count": 2,
   "id": "9b31c627",
   "metadata": {},
   "outputs": [
    {
     "name": "stdout",
     "output_type": "stream",
     "text": [
      "Staging Protocol Changes...\n",
      "Logged into <test-domain-helm2: High side Domain> as <info@openmined.org>\n"
     ]
    },
    {
     "data": {
      "text/html": [
       "<div class=\"alert-warning\" style=\"padding:5px;\"><strong>SyftWarning</strong>: You are using a default password. Please change the password using `[your_client].me.set_password([new_password])`.</div><br />"
      ],
      "text/plain": [
       "SyftWarning: You are using a default password. Please change the password using `[your_client].me.set_password([new_password])`."
      ]
     },
     "metadata": {},
     "output_type": "display_data"
    }
   ],
   "source": [
    "node = sy.orchestra.launch(name=\"test-domain-helm2\", dev_mode=True,\n",
    "                           reset=True, \n",
    "                           n_consumers=3,\n",
    "                           create_producer=True,\n",
    "                           queue_port=3322)\n",
    "                           \n",
    "client = node.login(email=\"info@openmined.org\", password=\"changethis\")"
   ]
  },
  {
   "cell_type": "code",
   "execution_count": 3,
   "id": "507740d2",
   "metadata": {},
   "outputs": [],
   "source": [
    "res = client.register(name=\"a\", email=\"aa@b.org\", password=\"c\", password_verify=\"c\")"
   ]
  },
  {
   "cell_type": "code",
   "execution_count": 4,
   "id": "0c33d096",
   "metadata": {},
   "outputs": [
    {
     "name": "stdout",
     "output_type": "stream",
     "text": [
      "Logged into <test-domain-helm2: High side Domain> as <aa@b.org>\n"
     ]
    }
   ],
   "source": [
    "ds_client = node.login(email=\"aa@b.org\", password=\"c\")"
   ]
  },
  {
   "cell_type": "markdown",
   "id": "176addfb",
   "metadata": {},
   "source": [
    "setup: compute train-test overlap between a very large train set and a smaller test set. Small test is still to big for memory, so we split it into 54 parts. We keep 1 of those parts in memory. We dont keep the train set in memory, but read and compare with 1/54 parts line by line. Each part takes ~30 hours, but we can run 54 processes in parallel."
   ]
  },
  {
   "cell_type": "code",
   "execution_count": 5,
   "id": "5ab39269",
   "metadata": {},
   "outputs": [],
   "source": [
    "# client.rrr()"
   ]
  },
  {
   "cell_type": "markdown",
   "id": "a0cea81b",
   "metadata": {},
   "source": [
    "# Setup syft functions"
   ]
  },
  {
   "cell_type": "markdown",
   "id": "da2b114a",
   "metadata": {},
   "source": [
    "## Dataset"
   ]
  },
  {
   "cell_type": "code",
   "execution_count": 6,
   "id": "83307a2f",
   "metadata": {},
   "outputs": [],
   "source": [
    "x = ActionObject.from_obj([1, 2])\n",
    "x_ptr = x.send(ds_client)"
   ]
  },
  {
   "cell_type": "markdown",
   "id": "31bbb3ff",
   "metadata": {},
   "source": [
    "## Batch function"
   ]
  },
  {
   "cell_type": "code",
   "execution_count": 7,
   "id": "5d2fd248",
   "metadata": {},
   "outputs": [
    {
     "data": {
      "text/html": [
       "<div class=\"alert-success\" style=\"padding:5px;\"><strong>SyftSuccess</strong>: Syft function 'process_batch' successfully created. To add a code request, please create a project using `project = syft.Project(...)`, then use command `project.create_code_request`.</div><br />"
      ],
      "text/plain": [
       "SyftSuccess: Syft function 'process_batch' successfully created. To add a code request, please create a project using `project = syft.Project(...)`, then use command `project.create_code_request`."
      ]
     },
     "metadata": {},
     "output_type": "display_data"
    }
   ],
   "source": [
    "@syft_function()\n",
    "def process_batch(batch):\n",
    "    # takes 30 hours normally\n",
    "    print(f\"starting batch {batch}\")\n",
    "    from time import sleep\n",
    "    [1,2,3,4][5]\n",
    "    sleep(1)\n",
    "    print(\"done\")\n",
    "    return batch+1"
   ]
  },
  {
   "cell_type": "code",
   "execution_count": 8,
   "id": "9ba22655",
   "metadata": {},
   "outputs": [
    {
     "data": {
      "text/html": [
       "<div class=\"alert-success\" style=\"padding:5px;\"><strong>SyftSuccess</strong>: User Code Submitted</div><br />"
      ],
      "text/plain": [
       "SyftSuccess: User Code Submitted"
      ]
     },
     "execution_count": 8,
     "metadata": {},
     "output_type": "execute_result"
    }
   ],
   "source": [
    "client.code.submit(process_batch)"
   ]
  },
  {
   "cell_type": "markdown",
   "id": "01319f1f",
   "metadata": {},
   "source": [
    "## Main function"
   ]
  },
  {
   "cell_type": "code",
   "execution_count": 9,
   "id": "ca1b95ee",
   "metadata": {},
   "outputs": [
    {
     "data": {
      "text/html": [
       "<div class=\"alert-success\" style=\"padding:5px;\"><strong>SyftSuccess</strong>: Syft function 'process_all' successfully created. To add a code request, please create a project using `project = syft.Project(...)`, then use command `project.create_code_request`.</div><br />"
      ],
      "text/plain": [
       "SyftSuccess: Syft function 'process_all' successfully created. To add a code request, please create a project using `project = syft.Project(...)`, then use command `project.create_code_request`."
      ]
     },
     "metadata": {},
     "output_type": "display_data"
    }
   ],
   "source": [
    "@syft_function_single_use(x=x_ptr)\n",
    "def process_all(domain, x):\n",
    "    \n",
    "    jobs = []\n",
    "    print(\"Launching jobs\")\n",
    "    for elem in x:\n",
    "        # We inject a domain object in the scope\n",
    "        batch_job = domain.launch_job(process_batch, batch=elem)\n",
    "        jobs += [batch_job]\n",
    "    print(\"starting aggregation\")\n",
    "    print(\"Done\")\n",
    "#     results = [x.wait().get() for x in jobs]\n",
    "    return 3\n",
    "#     return sum(results)"
   ]
  },
  {
   "cell_type": "markdown",
   "id": "1e77c5db",
   "metadata": {},
   "source": [
    "# Approve & run"
   ]
  },
  {
   "cell_type": "code",
   "execution_count": 10,
   "id": "0ab572f9",
   "metadata": {
    "scrolled": false
   },
   "outputs": [
    {
     "name": "stdout",
     "output_type": "stream",
     "text": [
      "Request approved for domain test-domain-helm2\n"
     ]
    },
    {
     "data": {
      "text/html": [
       "<div class=\"alert-success\" style=\"padding:5px;\"><strong>SyftSuccess</strong>: Request f994ae2d641a458a8e92ab92bc512b4d changes applied</div><br />"
      ],
      "text/plain": [
       "SyftSuccess: Request f994ae2d641a458a8e92ab92bc512b4d changes applied"
      ]
     },
     "execution_count": 10,
     "metadata": {},
     "output_type": "execute_result"
    }
   ],
   "source": [
    "ds_client.code.request_code_execution(process_all)\n",
    "client.requests[-1].approve()"
   ]
  },
  {
   "cell_type": "code",
   "execution_count": 11,
   "id": "375ed965",
   "metadata": {
    "scrolled": true
   },
   "outputs": [
    {
     "name": "stderr",
     "output_type": "stream",
     "text": [
      "16/11/23 17:40:41 FUNCTION LOG (7406fef2f273425fbc7de2d90739c656): Launching jobs\n",
      "16/11/23 17:40:41 EXCEPTION LOG (7406fef2f273425fbc7de2d90739c656):\n",
      "\n",
      "Encountered while executing process_batch:\n",
      "Traceback (most recent call last):\n",
      "  File \"/Users/koen/workspace/PySyft/packages/syft/src/syft/service/code/user_code.py\", line 1072, in execute_byte_code\n",
      "    result = eval(evil_string, _globals, _locals)  # nosec\n",
      "  File \"<string>\", line 1, in <module>\n",
      "  File \"<string>\", line 12, in user_func_process_all_0db921031bdea2fe1f9cec8aaa2d399700ebfc3783f5014f83420636e95512dd_cc13b7dc96d28ffe8b072ba1412553fa2db9d76d916d7384b78705c8a61465bb\n",
      "  File \"<string>\", line 7, in process_all\n",
      "NameError: name 'process_batch' is not defined\n",
      "\n",
      "    4      print('Launching jobs')\n",
      "    5      for elem in x:\n",
      "--> 6          batch_job = domain.launch_job(process_batch, batch=elem)\n",
      "    7          jobs += [batch_job]\n"
     ]
    }
   ],
   "source": [
    "job = ds_client.code.process_all(x=x_ptr, blocking=False)\n",
    "sleep(5)"
   ]
  },
  {
   "cell_type": "code",
   "execution_count": 12,
   "id": "81c23727",
   "metadata": {},
   "outputs": [
    {
     "data": {
      "text/html": [
       "[]"
      ],
      "text/plain": [
       "[]"
      ]
     },
     "execution_count": 12,
     "metadata": {},
     "output_type": "execute_result"
    }
   ],
   "source": [
    "job.subjobs"
   ]
  },
  {
   "cell_type": "code",
   "execution_count": 12,
   "id": "a9fde08d",
   "metadata": {},
   "outputs": [
    {
     "ename": "IndexError",
     "evalue": "list index out of range",
     "output_type": "error",
     "traceback": [
      "\u001b[0;31m---------------------------------------------------------------------------\u001b[0m",
      "\u001b[0;31mIndexError\u001b[0m                                Traceback (most recent call last)",
      "Cell \u001b[0;32mIn[12], line 1\u001b[0m\n\u001b[0;32m----> 1\u001b[0m \u001b[43mjob\u001b[49m\u001b[38;5;241;43m.\u001b[39;49m\u001b[43msubjobs\u001b[49m\u001b[43m[\u001b[49m\u001b[38;5;241;43m0\u001b[39;49m\u001b[43m]\u001b[49m\u001b[38;5;241m.\u001b[39mlogs(stderr\u001b[38;5;241m=\u001b[39m\u001b[38;5;28;01mTrue\u001b[39;00m)\n",
      "\u001b[0;31mIndexError\u001b[0m: list index out of range"
     ]
    }
   ],
   "source": [
    "job.subjobs[0].logs(stderr=True)"
   ]
  },
  {
   "cell_type": "code",
   "execution_count": 13,
   "id": "78bd08dc",
   "metadata": {},
   "outputs": [
    {
     "name": "stdout",
     "output_type": "stream",
     "text": [
      "starting batch 2\n",
      "\n",
      "\n",
      "Encountered while executing process_batch:\n",
      "Traceback (most recent call last):\n",
      "  File \"/Users/koen/workspace/PySyft/packages/syft/src/syft/service/code/user_code.py\", line 1072, in execute_byte_code\n",
      "    result = eval(evil_string, _globals, _locals)  # nosec\n",
      "  File \"<string>\", line 1, in <module>\n",
      "  File \"<string>\", line 10, in user_func_process_batch_47f8c8f3db3a30695a28e4a51e44916669ac3d111924cb614181c64b2c3b8323_3fa7f836b5a65455ef117b87f10f6a3f711d956132679e32522b6ae4c1440ec5\n",
      "  File \"<string>\", line 6, in process_batch\n",
      "IndexError: list index out of range\n",
      "\n",
      "    3      print(f'starting batch {batch}')\n",
      "    4      from time import sleep\n",
      "--> 5      [1, 2, 3, 4][5]\n",
      "    6      sleep(1)\n"
     ]
    }
   ],
   "source": []
  },
  {
   "cell_type": "code",
   "execution_count": 10,
   "id": "cc0db669",
   "metadata": {},
   "outputs": [
    {
     "data": {
      "text/plain": [
       "Pointer:\n",
       "None"
      ]
     },
     "execution_count": 10,
     "metadata": {},
     "output_type": "execute_result"
    }
   ],
   "source": [
    "job.wait()"
   ]
  },
  {
   "cell_type": "code",
   "execution_count": 11,
   "id": "5bf0974f",
   "metadata": {},
   "outputs": [
    {
     "ename": "TypeError",
     "evalue": "unsupported operand type(s) for +: 'int' and 'Err'",
     "output_type": "error",
     "traceback": [
      "\u001b[0;31m---------------------------------------------------------------------------\u001b[0m",
      "\u001b[0;31mTypeError\u001b[0m                                 Traceback (most recent call last)",
      "Cell \u001b[0;32mIn[11], line 1\u001b[0m\n\u001b[0;32m----> 1\u001b[0m \u001b[38;5;28;43msum\u001b[39;49m\u001b[43m(\u001b[49m\u001b[43m[\u001b[49m\u001b[43mj\u001b[49m\u001b[38;5;241;43m.\u001b[39;49m\u001b[43mwait\u001b[49m\u001b[43m(\u001b[49m\u001b[43m)\u001b[49m\u001b[38;5;241;43m.\u001b[39;49m\u001b[43mget\u001b[49m\u001b[43m(\u001b[49m\u001b[43m)\u001b[49m\u001b[43m \u001b[49m\u001b[38;5;28;43;01mfor\u001b[39;49;00m\u001b[43m \u001b[49m\u001b[43mj\u001b[49m\u001b[43m \u001b[49m\u001b[38;5;129;43;01min\u001b[39;49;00m\u001b[43m \u001b[49m\u001b[43mjob\u001b[49m\u001b[38;5;241;43m.\u001b[39;49m\u001b[43msubjobs\u001b[49m\u001b[43m]\u001b[49m\u001b[43m)\u001b[49m\n",
      "\u001b[0;31mTypeError\u001b[0m: unsupported operand type(s) for +: 'int' and 'Err'"
     ]
    }
   ],
   "source": [
    "sum([j.wait().get() for j in job.subjobs])"
   ]
  },
  {
   "cell_type": "code",
   "execution_count": 12,
   "id": "55892031",
   "metadata": {},
   "outputs": [],
   "source": [
    "# import sys"
   ]
  },
  {
   "cell_type": "code",
   "execution_count": 10,
   "id": "b0800f1d",
   "metadata": {},
   "outputs": [],
   "source": [
    "# print(\"D\")\n",
    "# print(\"A\")\n",
    "\n",
    "# try:\n",
    "#     raise ValueError()\n",
    "# except Exception as e:\n",
    "#     tb = e.__traceback__\n",
    "# #     print(len([tb.tb_next while tb is not None])\n",
    "# #     trace = []\n",
    "# #     while tb is not None:\n",
    "# #         trace.append({\n",
    "# #             \"filename\": tb.tb_frame.f_code.co_filename,\n",
    "# #             \"name\": tb.tb_frame.f_code.co_name,\n",
    "# #             \"lineno\": tb.tb_lineno\n",
    "# #         })\n",
    "# #         tb = tb.tb_next\n",
    "\n",
    "\n",
    "# #     print(sys.exc_info()[-1].tb_lineno)"
   ]
  },
  {
   "cell_type": "code",
   "execution_count": 11,
   "id": "6c8fd04c",
   "metadata": {},
   "outputs": [],
   "source": [
    "# n = 0\n",
    "# while tb is not None:\n",
    "#     tb = tb.tb_next\n",
    "#     n+=1"
   ]
  },
  {
   "cell_type": "code",
   "execution_count": 12,
   "id": "0c9368c9",
   "metadata": {},
   "outputs": [],
   "source": [
    "# n"
   ]
  },
  {
   "cell_type": "code",
   "execution_count": 13,
   "id": "1d73ef1e",
   "metadata": {},
   "outputs": [],
   "source": [
    "# trace"
   ]
  },
  {
   "cell_type": "code",
   "execution_count": 14,
   "id": "e61760f5",
   "metadata": {},
   "outputs": [],
   "source": [
    "import traceback\n",
    "import sys"
   ]
  },
  {
   "cell_type": "code",
   "execution_count": 15,
   "id": "f5f2c781",
   "metadata": {},
   "outputs": [],
   "source": [
    "# try:\n",
    "#     raise ValueError()\n",
    "# except Exception as e:\n",
    "#     print(sys.exception())\n",
    "# #     print()\n",
    "\n",
    "\n",
    "# # #     traceback.print_stack()\n",
    "\n",
    "\n",
    "# # #     tb = e.__traceback__\n",
    "# # #     traceback.print_tb(type(e), e, tb)"
   ]
  },
  {
   "cell_type": "code",
   "execution_count": null,
   "id": "ead1e368",
   "metadata": {},
   "outputs": [],
   "source": []
  },
  {
   "cell_type": "code",
   "execution_count": 16,
   "id": "e956f350",
   "metadata": {},
   "outputs": [],
   "source": [
    "# print(\"\\n\".join(['def user_func_process_batch_47f8c8f3db3a30695a28e4a51e44916669ac3d111924cb614181c64b2c3b8323_bd42b6607712b09a0b187e3c67030f772c5dcd3c4152e4abebcb3a9f0a8259e4(batch):',\n",
    "#            '', '    def process_batch(batch):', \"        print(f'starting batch {batch}')\",\n",
    "#            '        from time import sleep', '        sleep(1)', '        [1, 2, 3][5]',\n",
    "#            \"        print('done')\", '        return batch + 1', '    result = process_batch(batch=batch)',\n",
    "#            '    return result']))"
   ]
  }
 ],
 "metadata": {
  "kernelspec": {
   "display_name": "Python 3 (ipykernel)",
   "language": "python",
   "name": "python3"
  },
  "language_info": {
   "codemirror_mode": {
    "name": "ipython",
    "version": 3
   },
   "file_extension": ".py",
   "mimetype": "text/x-python",
   "name": "python",
   "nbconvert_exporter": "python",
   "pygments_lexer": "ipython3",
   "version": "3.9.16"
  },
  "toc": {
   "base_numbering": 1,
   "nav_menu": {},
   "number_sections": true,
   "sideBar": true,
   "skip_h1_title": false,
   "title_cell": "Table of Contents",
   "title_sidebar": "Contents",
   "toc_cell": false,
   "toc_position": {},
   "toc_section_display": true,
   "toc_window_display": true
  }
 },
 "nbformat": 4,
 "nbformat_minor": 5
}
