{
 "cells": [
  {
   "cell_type": "code",
   "execution_count": 1,
   "id": "dcfbf19c",
   "metadata": {},
   "outputs": [],
   "source": [
    "import zmq\n",
    "import random\n",
    "import sys\n",
    "from random import randint\n",
    "from threading import Thread\n",
    "from time import sleep"
   ]
  },
  {
   "cell_type": "markdown",
   "id": "fc2d19e0",
   "metadata": {},
   "source": [
    "Option A\n",
    "\n",
    "- instead of sending messages directly, we first store them in the store, and then have some kind of daemon that listens to changes in the store, and puts them in the queue on the main worker\n",
    "\n",
    "\n",
    "Option B\n",
    "- instead of keeping the connection to zmq open all the time as producer, we open the connection, send the data, and close. And save the producer address as part of the queueconfig"
   ]
  },
  {
   "cell_type": "code",
   "execution_count": 2,
   "id": "c8186f92",
   "metadata": {},
   "outputs": [],
   "source": [
    "port = \"5558\""
   ]
  },
  {
   "cell_type": "code",
   "execution_count": 3,
   "id": "76518e15",
   "metadata": {},
   "outputs": [],
   "source": [
    "def run_producer():\n",
    "\n",
    "    context = zmq.Context()\n",
    "    socket = context.socket(zmq.PUSH)\n",
    "    sleep(1)\n",
    "    for i in range(3):\n",
    "        topic = random.randrange(9999,10005)\n",
    "        messagedata = random.randrange(1,215) - 80\n",
    "        print(\"sending message\")\n",
    "        sent = False\n",
    "        i=0\n",
    "        while not sent:\n",
    "            i+=1\n",
    "            try:\n",
    "                socket.bind(\"tcp://*:%s\" % port)\n",
    "                socket.send(b'1111')\n",
    "                socket.close()\n",
    "                sent=True\n",
    "            except Exception as e:\n",
    "                print(e)\n",
    "                pass\n",
    "            sleep(1)\n",
    "            if i > 5:\n",
    "                print(\"ERROR\")\n",
    "                break\n",
    "            "
   ]
  },
  {
   "cell_type": "code",
   "execution_count": 4,
   "id": "c0b686c1",
   "metadata": {},
   "outputs": [],
   "source": [
    "def run_consumer():\n",
    "    print(\"starting consumer\")\n",
    "    c_id = randint(0,100)\n",
    "\n",
    "    # Socket to talk to server\n",
    "    context = zmq.Context()\n",
    "    socket = context.socket(zmq.PULL)\n",
    "    n_messages=0\n",
    "    while True:\n",
    "        print(\"listening\")\n",
    "        try:\n",
    "            socket.connect (\"tcp://localhost:%s\" % port)\n",
    "            string = socket.recv()\n",
    "        except Exception as e:\n",
    "            print(e)\n",
    "        print(\"received\")\n",
    "        n_messages+=1\n",
    "        print(f\"received {string} on consumer {c_id} n={n_messages}\")\n",
    "        sleep(3)\n"
   ]
  },
  {
   "cell_type": "code",
   "execution_count": null,
   "id": "d9c85bb1",
   "metadata": {},
   "outputs": [
    {
     "name": "stdout",
     "output_type": "stream",
     "text": [
      "starting consumer\n",
      "listening\n",
      "sending message\n",
      "sending message\n",
      "Address already in use (addr='tcp://*:5558')\n",
      "received\n",
      "received b'1111' on consumer 51 n=1\n",
      "sending message\n",
      "Socket operation on non-socket (addr='tcp://*:5558')\n",
      "sending message\n",
      "Socket operation on non-socket (addr='tcp://*:5558')\n",
      "Socket operation on non-socket (addr='tcp://*:5558')\n",
      "Socket operation on non-socket (addr='tcp://*:5558')\n",
      "listening\n",
      "received\n",
      "received b'1111' on consumer 51 n=2\n",
      "Socket operation on non-socket (addr='tcp://*:5558')\n",
      "Socket operation on non-socket (addr='tcp://*:5558')\n",
      "Socket operation on non-socket (addr='tcp://*:5558')\n",
      "Socket operation on non-socket (addr='tcp://*:5558')\n",
      "Socket operation on non-socket (addr='tcp://*:5558')\n",
      "Socket operation on non-socket (addr='tcp://*:5558')\n",
      "listening\n",
      "Socket operation on non-socket (addr='tcp://*:5558')\n",
      "Socket operation on non-socket (addr='tcp://*:5558')\n",
      "ERROR\n",
      "sending message\n",
      "Socket operation on non-socket (addr='tcp://*:5558')\n",
      "ERROR\n",
      "sending message\n",
      "Socket operation on non-socket (addr='tcp://*:5558')\n",
      "Socket operation on non-socket (addr='tcp://*:5558')\n",
      "Socket operation on non-socket (addr='tcp://*:5558')\n",
      "Socket operation on non-socket (addr='tcp://*:5558')\n"
     ]
    }
   ],
   "source": [
    "# Thread(target=run_consumer).start()\n",
    "Thread(target=run_consumer).start()\n",
    "Thread(target=run_producer).start()\n",
    "Thread(target=run_producer).start()\n",
    "sleep(60)"
   ]
  },
  {
   "cell_type": "code",
   "execution_count": null,
   "id": "6ab1bf39",
   "metadata": {},
   "outputs": [],
   "source": []
  }
 ],
 "metadata": {
  "kernelspec": {
   "display_name": "Python 3 (ipykernel)",
   "language": "python",
   "name": "python3"
  },
  "language_info": {
   "codemirror_mode": {
    "name": "ipython",
    "version": 3
   },
   "file_extension": ".py",
   "mimetype": "text/x-python",
   "name": "python",
   "nbconvert_exporter": "python",
   "pygments_lexer": "ipython3",
   "version": "3.9.16"
  },
  "toc": {
   "base_numbering": 1,
   "nav_menu": {},
   "number_sections": true,
   "sideBar": true,
   "skip_h1_title": false,
   "title_cell": "Table of Contents",
   "title_sidebar": "Contents",
   "toc_cell": false,
   "toc_position": {},
   "toc_section_display": true,
   "toc_window_display": true
  }
 },
 "nbformat": 4,
 "nbformat_minor": 5
}
