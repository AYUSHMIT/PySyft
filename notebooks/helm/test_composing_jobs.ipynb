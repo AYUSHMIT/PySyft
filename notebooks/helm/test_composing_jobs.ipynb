{
 "cells": [
  {
   "cell_type": "code",
   "execution_count": 1,
   "metadata": {},
   "outputs": [
    {
     "name": "stderr",
     "output_type": "stream",
     "text": [
      "kj/filesystem-disk-unix.c++:1703: warning: PWD environment variable doesn't match current directory; pwd = /home/teo/OpenMined/PySyft\n"
     ]
    }
   ],
   "source": [
    "import syft as sy\n"
   ]
  },
  {
   "cell_type": "code",
   "execution_count": 2,
   "metadata": {},
   "outputs": [
    {
     "name": "stdout",
     "output_type": "stream",
     "text": [
      "Staging Protocol Changes...\n",
      "Logged into <test-jobs: High side Domain> as <info@openmined.org>\n"
     ]
    },
    {
     "data": {
      "text/html": [
       "<div class=\"alert-warning\" style=\"padding:5px;\"><strong>SyftWarning</strong>: You are using a default password. Please change the password using `[your_client].me.set_password([new_password])`.</div><br />"
      ],
      "text/plain": [
       "SyftWarning: You are using a default password. Please change the password using `[your_client].me.set_password([new_password])`."
      ]
     },
     "metadata": {},
     "output_type": "display_data"
    }
   ],
   "source": [
    "node = sy.orchestra.launch(name=\"test-jobs\", dev_mode=True, reset=True, create_producer=True, queue_port=5556, n_consumers=3)\n",
    "client = node.login(email=\"info@openmined.org\", password=\"changethis\")"
   ]
  },
  {
   "cell_type": "code",
   "execution_count": 3,
   "metadata": {},
   "outputs": [],
   "source": [
    "x = sy.ActionObject.from_obj([1,2,3])\n",
    "x_ptr = x.send(client)"
   ]
  },
  {
   "cell_type": "code",
   "execution_count": 4,
   "metadata": {},
   "outputs": [
    {
     "data": {
      "text/html": [
       "<div class=\"alert-success\" style=\"padding:5px;\"><strong>SyftSuccess</strong>: Syft function 'process_batch' successfully created. To add a code request, please create a project using `project = syft.Project(...)`, then use command `project.create_code_request`.</div><br />"
      ],
      "text/plain": [
       "SyftSuccess: Syft function 'process_batch' successfully created. To add a code request, please create a project using `project = syft.Project(...)`, then use command `project.create_code_request`."
      ]
     },
     "metadata": {},
     "output_type": "display_data"
    }
   ],
   "source": [
    "@sy.syft_function()\n",
    "def process_batch(batch):\n",
    "    # takes 30 hours normally\n",
    "    print(f\"starting batch {batch}\")\n",
    "    from time import sleep\n",
    "    import random\n",
    "    sleep(random.random()*5)\n",
    "    print(\"done\")\n",
    "    return batch + 1"
   ]
  },
  {
   "cell_type": "code",
   "execution_count": 5,
   "metadata": {},
   "outputs": [
    {
     "data": {
      "text/html": [
       "<div class=\"alert-success\" style=\"padding:5px;\"><strong>SyftSuccess</strong>: User Code Submitted</div><br />"
      ],
      "text/plain": [
       "SyftSuccess: User Code Submitted"
      ]
     },
     "execution_count": 5,
     "metadata": {},
     "output_type": "execute_result"
    }
   ],
   "source": [
    "client.code.submit(process_batch)"
   ]
  },
  {
   "cell_type": "code",
   "execution_count": 6,
   "metadata": {},
   "outputs": [
    {
     "data": {
      "text/html": [
       "<div class=\"alert-success\" style=\"padding:5px;\"><strong>SyftSuccess</strong>: Syft function 'aggregate_job' successfully created. To add a code request, please create a project using `project = syft.Project(...)`, then use command `project.create_code_request`.</div><br />"
      ],
      "text/plain": [
       "SyftSuccess: Syft function 'aggregate_job' successfully created. To add a code request, please create a project using `project = syft.Project(...)`, then use command `project.create_code_request`."
      ]
     },
     "metadata": {},
     "output_type": "display_data"
    }
   ],
   "source": [
    "@sy.syft_function()\n",
    "def aggregate_job(job_results):\n",
    "    results = [job.resolve.get() for job in job_results]\n",
    "    print([(res, type(res))for res in results])\n",
    "    return sum(results)"
   ]
  },
  {
   "cell_type": "code",
   "execution_count": 7,
   "metadata": {},
   "outputs": [
    {
     "data": {
      "text/html": [
       "<div class=\"alert-success\" style=\"padding:5px;\"><strong>SyftSuccess</strong>: User Code Submitted</div><br />"
      ],
      "text/plain": [
       "SyftSuccess: User Code Submitted"
      ]
     },
     "execution_count": 7,
     "metadata": {},
     "output_type": "execute_result"
    }
   ],
   "source": [
    "client.code.submit(aggregate_job)"
   ]
  },
  {
   "cell_type": "code",
   "execution_count": 8,
   "metadata": {},
   "outputs": [
    {
     "data": {
      "text/html": [
       "<div class=\"alert-success\" style=\"padding:5px;\"><strong>SyftSuccess</strong>: Syft function 'process_all' successfully created. To add a code request, please create a project using `project = syft.Project(...)`, then use command `project.create_code_request`.</div><br />"
      ],
      "text/plain": [
       "SyftSuccess: Syft function 'process_all' successfully created. To add a code request, please create a project using `project = syft.Project(...)`, then use command `project.create_code_request`."
      ]
     },
     "metadata": {},
     "output_type": "display_data"
    }
   ],
   "source": [
    "@sy.syft_function_single_use(x=x_ptr)\n",
    "def process_all(domain, x):\n",
    "    jobs = []\n",
    "    print(\"Launching jobs\")\n",
    "    for elem in x:\n",
    "        # We inject a domain object in the scope\n",
    "        batch_job = domain.launch_job(process_batch, batch=elem)\n",
    "        jobs.append(batch_job)\n",
    "    print(\"starting aggregation\")\n",
    "    print(\"Done\")\n",
    "    return domain.launch_job(aggregate_job, job_results=jobs)"
   ]
  },
  {
   "cell_type": "code",
   "execution_count": 9,
   "metadata": {},
   "outputs": [
    {
     "name": "stdout",
     "output_type": "stream",
     "text": [
      "Request approved for domain test-jobs\n"
     ]
    },
    {
     "data": {
      "text/html": [
       "<div class=\"alert-success\" style=\"padding:5px;\"><strong>SyftSuccess</strong>: Request 25199588a43047549635f7fbe20ac3df changes applied</div><br />"
      ],
      "text/plain": [
       "SyftSuccess: Request 25199588a43047549635f7fbe20ac3df changes applied"
      ]
     },
     "execution_count": 9,
     "metadata": {},
     "output_type": "execute_result"
    }
   ],
   "source": [
    "client.code.request_code_execution(process_all)\n",
    "client.requests[-1].approve()"
   ]
  },
  {
   "cell_type": "code",
   "execution_count": 10,
   "metadata": {},
   "outputs": [],
   "source": [
    "from time import sleep\n",
    "job = client.code.process_all(x=x_ptr, blocking=False)\n",
    "# sleep(10)"
   ]
  },
  {
   "cell_type": "code",
   "execution_count": 12,
   "metadata": {},
   "outputs": [
    {
     "name": "stderr",
     "output_type": "stream",
     "text": [
      "Kwargs: {'x': Pointer:\n",
      "[1, 2, 3], 'uid': <UID: fe0529b5e3264a769037ce7390e717fa>, 'communication_protocol': 'dev'}\n",
      "Produder args: True\n",
      "Produder kwargs: True\n"
     ]
    },
    {
     "name": "stdout",
     "output_type": "stream",
     "text": [
      "[<QueueItem: 89430ba9dfa447b78176f1190c410f0c>: Status.CREATED]\n"
     ]
    },
    {
     "ename": "IndexError",
     "evalue": "list index out of range",
     "output_type": "error",
     "traceback": [
      "\u001b[0;31m---------------------------------------------------------------------------\u001b[0m",
      "\u001b[0;31mIndexError\u001b[0m                                Traceback (most recent call last)",
      "\u001b[1;32m/home/teo/OpenMined/PySyft/notebooks/helm/test_composing_jobs.ipynb Cell 12\u001b[0m line \u001b[0;36m1\n\u001b[0;32m----> <a href='vscode-notebook-cell:/home/teo/OpenMined/PySyft/notebooks/helm/test_composing_jobs.ipynb#X14sZmlsZQ%3D%3D?line=0'>1</a>\u001b[0m job\u001b[39m.\u001b[39;49msubjobs[\u001b[39m2\u001b[39;49m]\u001b[39m.\u001b[39mresult\u001b[39m.\u001b[39mget()\n",
      "\u001b[0;31mIndexError\u001b[0m: list index out of range"
     ]
    },
    {
     "name": "stderr",
     "output_type": "stream",
     "text": [
      "13/11/23 11:17:04 FUNCTION LOG (28b4d5c6cd0f4dfaa4b3bb1df212eb96): Launching jobs\n",
      "Kwargs: {'batch': <UID: 9e7fd97ff9b54b8aa089101536f6d82c>}\n",
      "Produder args: True\n",
      "Produder kwargs: True\n",
      "Kwargs: {'batch': <UID: ffc1c09accaf4f8f85e1a668af2a08b8>}\n",
      "Produder args: True\n",
      "Produder kwargs: True\n"
     ]
    },
    {
     "name": "stdout",
     "output_type": "stream",
     "text": [
      "[<QueueItem: 89430ba9dfa447b78176f1190c410f0c>: Status.PROCESSING, <QueueItem: 21faa050231740f799cf7c7305408cb2>: Status.CREATED, <QueueItem: 409308f2c83647119f64b5181da53886>: Status.CREATED]\n",
      "[<QueueItem: 89430ba9dfa447b78176f1190c410f0c>: Status.PROCESSING, <QueueItem: 21faa050231740f799cf7c7305408cb2>: Status.PROCESSING, <QueueItem: 409308f2c83647119f64b5181da53886>: Status.CREATED]\n"
     ]
    },
    {
     "name": "stderr",
     "output_type": "stream",
     "text": [
      "13/11/23 11:17:05 FUNCTION LOG (28b4d5c6cd0f4dfaa4b3bb1df212eb96): starting aggregation\n",
      "13/11/23 11:17:05 FUNCTION LOG (28b4d5c6cd0f4dfaa4b3bb1df212eb96): Done\n",
      "13/11/23 11:17:06 FUNCTION LOG (ed222486cba049f08a0120445f375ff0): starting batch 2\n",
      "Kwargs: {'batch': <UID: 2e0fa73c296b4001962c93b439e9e39f>}\n",
      "Produder args: True\n",
      "Produder kwargs: True\n",
      "Kwargs: {'job_results': <UID: 6e1a3916ae2b41159db51ac3d9220be8>}\n",
      "13/11/23 11:17:06 FUNCTION LOG (94188b058ab743f2beea9d1e8ae5513e): starting batch 1\n"
     ]
    },
    {
     "name": "stdout",
     "output_type": "stream",
     "text": [
      "[<QueueItem: 89430ba9dfa447b78176f1190c410f0c>: Status.PROCESSING, <QueueItem: 21faa050231740f799cf7c7305408cb2>: Status.PROCESSING, <QueueItem: 409308f2c83647119f64b5181da53886>: Status.PROCESSING, <QueueItem: 0165118aaee94a58827fb91e51434201>: Status.CREATED, <QueueItem: 9b43523bd3fc44b2a4bdd5003b22d077>: Status.CREATED]\n",
      "[<QueueItem: 89430ba9dfa447b78176f1190c410f0c>: Status.PROCESSING, <QueueItem: 21faa050231740f799cf7c7305408cb2>: Status.PROCESSING, <QueueItem: 409308f2c83647119f64b5181da53886>: Status.PROCESSING, <QueueItem: 0165118aaee94a58827fb91e51434201>: Status.PROCESSING, <QueueItem: 9b43523bd3fc44b2a4bdd5003b22d077>: Status.CREATED]\n"
     ]
    },
    {
     "name": "stderr",
     "output_type": "stream",
     "text": [
      "JOBS: [SyftNotReady: 94188b058ab743f2beea9d1e8ae5513e not ready yet., SyftNotReady: ed222486cba049f08a0120445f375ff0 not ready yet., SyftNotReady: 02e68e33a3ed404e99b61c35c8e4606a not ready yet.]\n",
      "Produder args: True\n",
      "Produder kwargs: False\n",
      "13/11/23 11:17:07 FUNCTION LOG (ed222486cba049f08a0120445f375ff0): done\n",
      "Kwargs: {'job_results': <UID: 6e1a3916ae2b41159db51ac3d9220be8>}\n",
      "JOBS: [SyftNotReady: 94188b058ab743f2beea9d1e8ae5513e not ready yet., SyftNotReady: ed222486cba049f08a0120445f375ff0 not ready yet., SyftNotReady: 02e68e33a3ed404e99b61c35c8e4606a not ready yet.]\n",
      "Produder args: True\n",
      "Produder kwargs: False\n",
      "13/11/23 11:17:08 FUNCTION LOG (02e68e33a3ed404e99b61c35c8e4606a): starting batch 3\n"
     ]
    },
    {
     "name": "stdout",
     "output_type": "stream",
     "text": [
      "[<QueueItem: 89430ba9dfa447b78176f1190c410f0c>: Status.COMPLETED, <QueueItem: 21faa050231740f799cf7c7305408cb2>: Status.PROCESSING, <QueueItem: 409308f2c83647119f64b5181da53886>: Status.PROCESSING, <QueueItem: 0165118aaee94a58827fb91e51434201>: Status.PROCESSING, <QueueItem: 9b43523bd3fc44b2a4bdd5003b22d077>: Status.CREATED]\n"
     ]
    },
    {
     "name": "stderr",
     "output_type": "stream",
     "text": [
      "13/11/23 11:17:08 FUNCTION LOG (02e68e33a3ed404e99b61c35c8e4606a): done\n",
      "Kwargs: {'job_results': <UID: 6e1a3916ae2b41159db51ac3d9220be8>}\n",
      "JOBS: [SyftNotReady: 94188b058ab743f2beea9d1e8ae5513e not ready yet., Pointer:\n",
      "None, Pointer:\n",
      "None]\n",
      "Produder args: True\n",
      "Produder kwargs: False\n"
     ]
    },
    {
     "name": "stdout",
     "output_type": "stream",
     "text": [
      "[<QueueItem: 89430ba9dfa447b78176f1190c410f0c>: Status.COMPLETED, <QueueItem: 21faa050231740f799cf7c7305408cb2>: Status.PROCESSING, <QueueItem: 409308f2c83647119f64b5181da53886>: Status.COMPLETED, <QueueItem: 0165118aaee94a58827fb91e51434201>: Status.COMPLETED, <QueueItem: 9b43523bd3fc44b2a4bdd5003b22d077>: Status.CREATED]\n"
     ]
    },
    {
     "name": "stderr",
     "output_type": "stream",
     "text": [
      "13/11/23 11:17:09 FUNCTION LOG (94188b058ab743f2beea9d1e8ae5513e): done\n",
      "Kwargs: {'job_results': <UID: 6e1a3916ae2b41159db51ac3d9220be8>}\n",
      "JOBS: [Pointer:\n",
      "None, Pointer:\n",
      "None, Pointer:\n",
      "None]\n",
      "Produder args: True\n",
      "Produder kwargs: True\n"
     ]
    },
    {
     "name": "stdout",
     "output_type": "stream",
     "text": [
      "[<QueueItem: 89430ba9dfa447b78176f1190c410f0c>: Status.COMPLETED, <QueueItem: 21faa050231740f799cf7c7305408cb2>: Status.COMPLETED, <QueueItem: 409308f2c83647119f64b5181da53886>: Status.COMPLETED, <QueueItem: 0165118aaee94a58827fb91e51434201>: Status.COMPLETED, <QueueItem: 9b43523bd3fc44b2a4bdd5003b22d077>: Status.CREATED]\n"
     ]
    },
    {
     "name": "stderr",
     "output_type": "stream",
     "text": [
      "13/11/23 11:17:10 FUNCTION LOG (c4ca3acad9764303a6c9d5eb8d7fb365): [(2, <class 'int'>), (3, <class 'int'>), (4, <class 'int'>)]\n"
     ]
    }
   ],
   "source": [
    "job.subjobs[2].result.get()"
   ]
  },
  {
   "cell_type": "code",
   "execution_count": 33,
   "metadata": {},
   "outputs": [],
   "source": [
    "result = job.result.get()"
   ]
  },
  {
   "cell_type": "code",
   "execution_count": 36,
   "metadata": {},
   "outputs": [],
   "source": [
    "result.fetch()"
   ]
  },
  {
   "cell_type": "code",
   "execution_count": 40,
   "metadata": {},
   "outputs": [
    {
     "data": {
      "text/plain": [
       "9"
      ]
     },
     "execution_count": 40,
     "metadata": {},
     "output_type": "execute_result"
    }
   ],
   "source": [
    "result.result.get()"
   ]
  }
 ],
 "metadata": {
  "kernelspec": {
   "display_name": "syft_3.11",
   "language": "python",
   "name": "python3"
  },
  "language_info": {
   "codemirror_mode": {
    "name": "ipython",
    "version": 3
   },
   "file_extension": ".py",
   "mimetype": "text/x-python",
   "name": "python",
   "nbconvert_exporter": "python",
   "pygments_lexer": "ipython3",
   "version": "3.11.4"
  }
 },
 "nbformat": 4,
 "nbformat_minor": 2
}
