{
 "cells": [
  {
   "cell_type": "code",
   "execution_count": 1,
   "metadata": {},
   "outputs": [
    {
     "name": "stderr",
     "output_type": "stream",
     "text": [
      "kj/filesystem-disk-unix.c++:1703: warning: PWD environment variable doesn't match current directory; pwd = /home/teo/OpenMined/PySyft\n"
     ]
    }
   ],
   "source": [
    "import syft as sy\n"
   ]
  },
  {
   "cell_type": "code",
   "execution_count": 2,
   "metadata": {},
   "outputs": [
    {
     "name": "stdout",
     "output_type": "stream",
     "text": [
      "Staging Protocol Changes...\n",
      "Logged into <test-jobs: High side Domain> as <info@openmined.org>\n"
     ]
    },
    {
     "data": {
      "text/html": [
       "<div class=\"alert-warning\" style=\"padding:5px;\"><strong>SyftWarning</strong>: You are using a default password. Please change the password using `[your_client].me.set_password([new_password])`.</div><br />"
      ],
      "text/plain": [
       "SyftWarning: You are using a default password. Please change the password using `[your_client].me.set_password([new_password])`."
      ]
     },
     "metadata": {},
     "output_type": "display_data"
    }
   ],
   "source": [
    "node = sy.orchestra.launch(name=\"test-jobs\", dev_mode=True, reset=True, create_producer=True, queue_port=5556, n_consumers=3)\n",
    "client = node.login(email=\"info@openmined.org\", password=\"changethis\")"
   ]
  },
  {
   "cell_type": "code",
   "execution_count": 3,
   "metadata": {},
   "outputs": [],
   "source": [
    "x = sy.ActionObject.from_obj([1,2,3])\n",
    "x_ptr = x.send(client)"
   ]
  },
  {
   "cell_type": "code",
   "execution_count": 4,
   "metadata": {},
   "outputs": [
    {
     "data": {
      "text/html": [
       "<div class=\"alert-success\" style=\"padding:5px;\"><strong>SyftSuccess</strong>: Syft function 'process_batch' successfully created. To add a code request, please create a project using `project = syft.Project(...)`, then use command `project.create_code_request`.</div><br />"
      ],
      "text/plain": [
       "SyftSuccess: Syft function 'process_batch' successfully created. To add a code request, please create a project using `project = syft.Project(...)`, then use command `project.create_code_request`."
      ]
     },
     "metadata": {},
     "output_type": "display_data"
    }
   ],
   "source": [
    "@sy.syft_function()\n",
    "def process_batch(batch):\n",
    "    # takes 30 hours normally\n",
    "    print(f\"starting batch {batch}\")\n",
    "    from time import sleep\n",
    "    import random\n",
    "    sleep(random.random()*5)\n",
    "    print(\"done\")\n",
    "    return batch + 1"
   ]
  },
  {
   "cell_type": "code",
   "execution_count": 5,
   "metadata": {},
   "outputs": [
    {
     "data": {
      "text/html": [
       "<div class=\"alert-success\" style=\"padding:5px;\"><strong>SyftSuccess</strong>: User Code Submitted</div><br />"
      ],
      "text/plain": [
       "SyftSuccess: User Code Submitted"
      ]
     },
     "execution_count": 5,
     "metadata": {},
     "output_type": "execute_result"
    }
   ],
   "source": [
    "client.code.submit(process_batch)"
   ]
  },
  {
   "cell_type": "code",
   "execution_count": 6,
   "metadata": {},
   "outputs": [
    {
     "data": {
      "text/html": [
       "<div class=\"alert-success\" style=\"padding:5px;\"><strong>SyftSuccess</strong>: Syft function 'aggregate_job' successfully created. To add a code request, please create a project using `project = syft.Project(...)`, then use command `project.create_code_request`.</div><br />"
      ],
      "text/plain": [
       "SyftSuccess: Syft function 'aggregate_job' successfully created. To add a code request, please create a project using `project = syft.Project(...)`, then use command `project.create_code_request`."
      ]
     },
     "metadata": {},
     "output_type": "display_data"
    }
   ],
   "source": [
    "@sy.syft_function()\n",
    "def aggregate_job(job_results):\n",
    "    print([(res, type(res))for res in job_results])\n",
    "    results = [res for res in job_results]\n",
    "    return sum(results)"
   ]
  },
  {
   "cell_type": "code",
   "execution_count": 7,
   "metadata": {},
   "outputs": [
    {
     "data": {
      "text/html": [
       "<div class=\"alert-success\" style=\"padding:5px;\"><strong>SyftSuccess</strong>: User Code Submitted</div><br />"
      ],
      "text/plain": [
       "SyftSuccess: User Code Submitted"
      ]
     },
     "execution_count": 7,
     "metadata": {},
     "output_type": "execute_result"
    }
   ],
   "source": [
    "client.code.submit(aggregate_job)"
   ]
  },
  {
   "cell_type": "code",
   "execution_count": 8,
   "metadata": {},
   "outputs": [
    {
     "data": {
      "text/html": [
       "<div class=\"alert-success\" style=\"padding:5px;\"><strong>SyftSuccess</strong>: Syft function 'process_all' successfully created. To add a code request, please create a project using `project = syft.Project(...)`, then use command `project.create_code_request`.</div><br />"
      ],
      "text/plain": [
       "SyftSuccess: Syft function 'process_all' successfully created. To add a code request, please create a project using `project = syft.Project(...)`, then use command `project.create_code_request`."
      ]
     },
     "metadata": {},
     "output_type": "display_data"
    }
   ],
   "source": [
    "@sy.syft_function_single_use(x=x_ptr)\n",
    "def process_all(domain, x):\n",
    "    job_results = []\n",
    "    print(\"Launching jobs\")\n",
    "    for elem in x:\n",
    "        # We inject a domain object in the scope\n",
    "        batch_job = domain.launch_job(process_batch, batch=elem)\n",
    "        job_results.append(batch_job.result)\n",
    "    print(\"starting aggregation\")\n",
    "    print(\"Done\")\n",
    "    return domain.launch_job(aggregate_job, job_results=job_results)"
   ]
  },
  {
   "cell_type": "code",
   "execution_count": 9,
   "metadata": {},
   "outputs": [
    {
     "name": "stdout",
     "output_type": "stream",
     "text": [
      "Request approved for domain test-jobs\n"
     ]
    },
    {
     "data": {
      "text/html": [
       "<div class=\"alert-success\" style=\"padding:5px;\"><strong>SyftSuccess</strong>: Request 2fd03f6fc79743fe824670f22fdae2e4 changes applied</div><br />"
      ],
      "text/plain": [
       "SyftSuccess: Request 2fd03f6fc79743fe824670f22fdae2e4 changes applied"
      ]
     },
     "execution_count": 9,
     "metadata": {},
     "output_type": "execute_result"
    }
   ],
   "source": [
    "client.code.request_code_execution(process_all)\n",
    "client.requests[-1].approve()"
   ]
  },
  {
   "cell_type": "code",
   "execution_count": 10,
   "metadata": {},
   "outputs": [
    {
     "name": "stdout",
     "output_type": "stream",
     "text": [
      "1 <class 'int'>\n",
      "2 <class 'int'>\n",
      "3 <class 'int'>\n"
     ]
    },
    {
     "name": "stderr",
     "output_type": "stream",
     "text": [
      "23/11/23 15:29:13 FUNCTION LOG (365b6090fb354b90b2ca26100ffa09e2): Launching jobs\n"
     ]
    },
    {
     "name": "stdout",
     "output_type": "stream",
     "text": [
      "1 <class 'int'>\n",
      "2 <class 'int'>\n"
     ]
    },
    {
     "name": "stderr",
     "output_type": "stream",
     "text": [
      "23/11/23 15:29:14 FUNCTION LOG (365b6090fb354b90b2ca26100ffa09e2): starting aggregation\n",
      "23/11/23 15:29:14 FUNCTION LOG (365b6090fb354b90b2ca26100ffa09e2): Done\n"
     ]
    },
    {
     "name": "stdout",
     "output_type": "stream",
     "text": [
      "3 <class 'int'>\n"
     ]
    },
    {
     "name": "stderr",
     "output_type": "stream",
     "text": [
      "23/11/23 15:29:15 FUNCTION LOG (0f162a8f4e71462888d1b2f2f74e7d62): starting batch 2\n",
      "23/11/23 15:29:15 FUNCTION LOG (4abb66af50564c30aa4b74e4531a16d1): starting batch 1\n",
      "23/11/23 15:29:15 FUNCTION LOG (4abb66af50564c30aa4b74e4531a16d1): done\n",
      "23/11/23 15:29:16 FUNCTION LOG (40a0e1b77ccf4b749a1638f87b598928): starting batch 3\n",
      "23/11/23 15:29:16 FUNCTION LOG (40a0e1b77ccf4b749a1638f87b598928): done\n",
      "23/11/23 15:29:17 FUNCTION LOG (0f162a8f4e71462888d1b2f2f74e7d62): done\n"
     ]
    },
    {
     "name": "stdout",
     "output_type": "stream",
     "text": [
      "ActionDataEmpty <None> <class 'syft.service.action.action_object.AnyActionObject'>\n",
      "ActionDataEmpty <None> <class 'syft.service.action.action_object.AnyActionObject'>\n",
      "ActionDataEmpty <None> <class 'syft.service.action.action_object.AnyActionObject'>\n"
     ]
    },
    {
     "name": "stderr",
     "output_type": "stream",
     "text": [
      "23/11/23 15:29:19 FUNCTION LOG (099b48335f2d4dd5b0ea7c5277b533c0): [(2, <class 'int'>), (3, <class 'int'>), (4, <class 'int'>)]\n"
     ]
    }
   ],
   "source": [
    "from time import sleep\n",
    "job = client.code.process_all(x=x_ptr, blocking=False)\n",
    "sleep(10)"
   ]
  },
  {
   "cell_type": "code",
   "execution_count": 11,
   "metadata": {},
   "outputs": [
    {
     "data": {
      "text/plain": [
       "9"
      ]
     },
     "execution_count": 11,
     "metadata": {},
     "output_type": "execute_result"
    }
   ],
   "source": [
    "result = job.resolve.get().resolve.get()\n",
    "result"
   ]
  }
 ],
 "metadata": {
  "kernelspec": {
   "display_name": "syft_3.11",
   "language": "python",
   "name": "python3"
  },
  "language_info": {
   "codemirror_mode": {
    "name": "ipython",
    "version": 3
   },
   "file_extension": ".py",
   "mimetype": "text/x-python",
   "name": "python",
   "nbconvert_exporter": "python",
   "pygments_lexer": "ipython3",
   "version": "3.11.4"
  }
 },
 "nbformat": 4,
 "nbformat_minor": 2
}
