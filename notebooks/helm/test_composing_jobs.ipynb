{
 "cells": [
  {
   "cell_type": "code",
   "execution_count": 1,
   "metadata": {},
   "outputs": [
    {
     "name": "stderr",
     "output_type": "stream",
     "text": [
      "kj/filesystem-disk-unix.c++:1703: warning: PWD environment variable doesn't match current directory; pwd = /home/teo/OpenMined/PySyft\n"
     ]
    }
   ],
   "source": [
    "import syft as sy\n"
   ]
  },
  {
   "cell_type": "code",
   "execution_count": 2,
   "metadata": {},
   "outputs": [
    {
     "name": "stdout",
     "output_type": "stream",
     "text": [
      "Staging Protocol Changes...\n",
      "Timeout elapsed after 30 seconds while trying to acquiring lock.\n",
      "FAILED TO LOCK\n",
      "Logged into <test-jobs: High side Domain> as <info@openmined.org>\n"
     ]
    },
    {
     "data": {
      "text/html": [
       "<div class=\"alert-warning\" style=\"padding:5px;\"><strong>SyftWarning</strong>: You are using a default password. Please change the password using `[your_client].me.set_password([new_password])`.</div><br />"
      ],
      "text/plain": [
       "SyftWarning: You are using a default password. Please change the password using `[your_client].me.set_password([new_password])`."
      ]
     },
     "metadata": {},
     "output_type": "display_data"
    }
   ],
   "source": [
    "node = sy.orchestra.launch(name=\"test-jobs\", dev_mode=True, reset=True, create_producer=True, queue_port=5556, n_consumers=3)\n",
    "client = node.login(email=\"info@openmined.org\", password=\"changethis\")"
   ]
  },
  {
   "cell_type": "code",
   "execution_count": 3,
   "metadata": {},
   "outputs": [],
   "source": [
    "x = sy.ActionObject.from_obj([1,2,3])\n",
    "x_ptr = x.send(client)"
   ]
  },
  {
   "cell_type": "code",
   "execution_count": 4,
   "metadata": {},
   "outputs": [
    {
     "data": {
      "text/html": [
       "<div class=\"alert-success\" style=\"padding:5px;\"><strong>SyftSuccess</strong>: Syft function 'process_batch' successfully created. To add a code request, please create a project using `project = syft.Project(...)`, then use command `project.create_code_request`.</div><br />"
      ],
      "text/plain": [
       "SyftSuccess: Syft function 'process_batch' successfully created. To add a code request, please create a project using `project = syft.Project(...)`, then use command `project.create_code_request`."
      ]
     },
     "metadata": {},
     "output_type": "display_data"
    }
   ],
   "source": [
    "@sy.syft_function()\n",
    "def process_batch(batch):\n",
    "    # takes 30 hours normally\n",
    "    print(f\"starting batch {batch}\")\n",
    "    from time import sleep\n",
    "    import random\n",
    "    sleep(random.random()*5)\n",
    "    print(\"done\")\n",
    "    return batch + 1"
   ]
  },
  {
   "cell_type": "code",
   "execution_count": 5,
   "metadata": {},
   "outputs": [
    {
     "data": {
      "text/html": [
       "<div class=\"alert-success\" style=\"padding:5px;\"><strong>SyftSuccess</strong>: User Code Submitted</div><br />"
      ],
      "text/plain": [
       "SyftSuccess: User Code Submitted"
      ]
     },
     "execution_count": 5,
     "metadata": {},
     "output_type": "execute_result"
    }
   ],
   "source": [
    "client.code.submit(process_batch)"
   ]
  },
  {
   "cell_type": "code",
   "execution_count": 6,
   "metadata": {},
   "outputs": [
    {
     "data": {
      "text/html": [
       "<div class=\"alert-success\" style=\"padding:5px;\"><strong>SyftSuccess</strong>: Syft function 'aggregate_job' successfully created. To add a code request, please create a project using `project = syft.Project(...)`, then use command `project.create_code_request`.</div><br />"
      ],
      "text/plain": [
       "SyftSuccess: Syft function 'aggregate_job' successfully created. To add a code request, please create a project using `project = syft.Project(...)`, then use command `project.create_code_request`."
      ]
     },
     "metadata": {},
     "output_type": "display_data"
    }
   ],
   "source": [
    "@sy.syft_function()\n",
    "def aggregate_job(job_results):\n",
    "    results = [job.resolve.get() for job in job_results]\n",
    "    print([(res, type(res))for res in results])\n",
    "    return sum(results)"
   ]
  },
  {
   "cell_type": "code",
   "execution_count": 7,
   "metadata": {},
   "outputs": [
    {
     "data": {
      "text/html": [
       "<div class=\"alert-success\" style=\"padding:5px;\"><strong>SyftSuccess</strong>: User Code Submitted</div><br />"
      ],
      "text/plain": [
       "SyftSuccess: User Code Submitted"
      ]
     },
     "execution_count": 7,
     "metadata": {},
     "output_type": "execute_result"
    }
   ],
   "source": [
    "client.code.submit(aggregate_job)"
   ]
  },
  {
   "cell_type": "code",
   "execution_count": 8,
   "metadata": {},
   "outputs": [
    {
     "data": {
      "text/html": [
       "<div class=\"alert-success\" style=\"padding:5px;\"><strong>SyftSuccess</strong>: Syft function 'process_all' successfully created. To add a code request, please create a project using `project = syft.Project(...)`, then use command `project.create_code_request`.</div><br />"
      ],
      "text/plain": [
       "SyftSuccess: Syft function 'process_all' successfully created. To add a code request, please create a project using `project = syft.Project(...)`, then use command `project.create_code_request`."
      ]
     },
     "metadata": {},
     "output_type": "display_data"
    }
   ],
   "source": [
    "@sy.syft_function_single_use(x=x_ptr)\n",
    "def process_all(domain, x):\n",
    "    jobs = []\n",
    "    print(\"Launching jobs\")\n",
    "    for elem in x:\n",
    "        # We inject a domain object in the scope\n",
    "        batch_job = domain.launch_job(process_batch, batch=elem)\n",
    "        jobs.append(batch_job)\n",
    "    print(\"starting aggregation\")\n",
    "    print(\"Done\")\n",
    "    return domain.launch_job(aggregate_job, job_results=jobs)"
   ]
  },
  {
   "cell_type": "code",
   "execution_count": 9,
   "metadata": {},
   "outputs": [
    {
     "name": "stdout",
     "output_type": "stream",
     "text": [
      "Request approved for domain test-jobs\n"
     ]
    },
    {
     "data": {
      "text/html": [
       "<div class=\"alert-success\" style=\"padding:5px;\"><strong>SyftSuccess</strong>: Request 8e905e074c434a27a4de89eee7172976 changes applied</div><br />"
      ],
      "text/plain": [
       "SyftSuccess: Request 8e905e074c434a27a4de89eee7172976 changes applied"
      ]
     },
     "execution_count": 9,
     "metadata": {},
     "output_type": "execute_result"
    }
   ],
   "source": [
    "client.code.request_code_execution(process_all)\n",
    "client.requests[-1].approve()"
   ]
  },
  {
   "cell_type": "code",
   "execution_count": 10,
   "metadata": {},
   "outputs": [
    {
     "name": "stderr",
     "output_type": "stream",
     "text": [
      "ACTION: [] {'x': <LineageID: cc077e8ae62c497884786c1afeeccdf6 - 339001915512658413>}\n"
     ]
    },
    {
     "name": "stdout",
     "output_type": "stream",
     "text": [
      "True True\n"
     ]
    },
    {
     "name": "stderr",
     "output_type": "stream",
     "text": [
      "20/11/23 19:12:37 FUNCTION LOG (eba77a306c6a4a89a50ced85c63de4ac): Launching jobs\n",
      "ACTION: [] {'batch': <LineageID: 9748305864244a1b80e0c39785fd8f00 - 1955202543397101569>}\n"
     ]
    },
    {
     "name": "stdout",
     "output_type": "stream",
     "text": [
      "True True\n",
      "True True\n"
     ]
    },
    {
     "name": "stderr",
     "output_type": "stream",
     "text": [
      "ACTION: [] {'batch': <LineageID: 9bc9755ed64e40e698a9660f1e223525 - 1654247154800409728>}\n",
      "20/11/23 19:12:39 FUNCTION LOG (eba77a306c6a4a89a50ced85c63de4ac): starting aggregation\n",
      "20/11/23 19:12:39 FUNCTION LOG (eba77a306c6a4a89a50ced85c63de4ac): Done\n",
      "20/11/23 19:12:39 FUNCTION LOG (affb8d3601914bf99bb4175539ed2bf7): starting batch 2\n",
      "20/11/23 19:12:39 FUNCTION LOG (06d1d76b554b4cfeaa684661ff458667): starting batch 1\n",
      "ACTION: [] {'batch': <LineageID: ff11536ced7d467680e5effd2a2b70a4 - 1833118312470783127>}\n",
      "ACTION: [] {'job_results': <LineageID: 66bc925df3094958aa55d687d41235d0 - 16441510289244335>}\n"
     ]
    },
    {
     "name": "stdout",
     "output_type": "stream",
     "text": [
      "True True\n",
      "True False\n"
     ]
    },
    {
     "name": "stderr",
     "output_type": "stream",
     "text": [
      "20/11/23 19:12:40 FUNCTION LOG (69ac2944016847cf83e3213b93d7958b): starting batch 3\n",
      "ACTION: [] {'job_results': <LineageID: 66bc925df3094958aa55d687d41235d0 - 16441510289244335>}\n",
      "20/11/23 19:12:41 FUNCTION LOG (69ac2944016847cf83e3213b93d7958b): done\n"
     ]
    },
    {
     "name": "stdout",
     "output_type": "stream",
     "text": [
      "True False\n"
     ]
    },
    {
     "name": "stderr",
     "output_type": "stream",
     "text": [
      "20/11/23 19:12:41 FUNCTION LOG (06d1d76b554b4cfeaa684661ff458667): done\n",
      "ACTION: [] {'job_results': <LineageID: 66bc925df3094958aa55d687d41235d0 - 16441510289244335>}\n"
     ]
    },
    {
     "name": "stdout",
     "output_type": "stream",
     "text": [
      "True False\n"
     ]
    },
    {
     "name": "stderr",
     "output_type": "stream",
     "text": [
      "20/11/23 19:12:42 FUNCTION LOG (affb8d3601914bf99bb4175539ed2bf7): done\n",
      "ACTION: [] {'job_results': <LineageID: 66bc925df3094958aa55d687d41235d0 - 16441510289244335>}\n"
     ]
    },
    {
     "name": "stdout",
     "output_type": "stream",
     "text": [
      "True True\n"
     ]
    },
    {
     "name": "stderr",
     "output_type": "stream",
     "text": [
      "20/11/23 19:12:43 FUNCTION LOG (9ae2bb72d56545d486f253e375d3ef0a): [(2, <class 'int'>), (3, <class 'int'>), (4, <class 'int'>)]\n"
     ]
    }
   ],
   "source": [
    "from time import sleep\n",
    "job = client.code.process_all(x=x_ptr, blocking=False)\n",
    "sleep(10)"
   ]
  },
  {
   "cell_type": "code",
   "execution_count": 11,
   "metadata": {},
   "outputs": [
    {
     "data": {
      "text/plain": [
       "9"
      ]
     },
     "execution_count": 11,
     "metadata": {},
     "output_type": "execute_result"
    }
   ],
   "source": [
    "result = job.resolve.get().resolve.get()\n",
    "result"
   ]
  }
 ],
 "metadata": {
  "kernelspec": {
   "display_name": "syft_3.11",
   "language": "python",
   "name": "python3"
  },
  "language_info": {
   "codemirror_mode": {
    "name": "ipython",
    "version": 3
   },
   "file_extension": ".py",
   "mimetype": "text/x-python",
   "name": "python",
   "nbconvert_exporter": "python",
   "pygments_lexer": "ipython3",
   "version": "3.11.4"
  }
 },
 "nbformat": 4,
 "nbformat_minor": 2
}
