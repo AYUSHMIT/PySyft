{
 "cells": [
  {
   "cell_type": "code",
   "execution_count": 8,
   "id": "3333ab14",
   "metadata": {},
   "outputs": [],
   "source": [
    "import syft as sy\n",
    "from syft import ActionObject\n",
    "from syft.service.action.action_data_empty import ActionFileData\n",
    "from collections import defaultdict"
   ]
  },
  {
   "cell_type": "code",
   "execution_count": 9,
   "id": "7cda8c72",
   "metadata": {},
   "outputs": [
    {
     "name": "stdout",
     "output_type": "stream",
     "text": [
      "Logged into <high-side: High side Domain> as <info@openmined.org>\n"
     ]
    },
    {
     "data": {
      "text/html": [
       "<div class=\"alert-warning\" style=\"padding:5px;\"><strong>SyftWarning</strong>: You are using a default password. Please change the password using `[your_client].me.set_password([new_password])`.</div><br />"
      ],
      "text/plain": [
       "SyftWarning: You are using a default password. Please change the password using `[your_client].me.set_password([new_password])`."
      ]
     },
     "metadata": {},
     "output_type": "display_data"
    }
   ],
   "source": [
    "client = sy.login(url=\"http://localhost:80\", email=\"info@openmined.org\", password=\"changethis\")"
   ]
  },
  {
   "cell_type": "code",
   "execution_count": 10,
   "id": "a717309a",
   "metadata": {},
   "outputs": [
    {
     "data": {
      "text/html": [
       "\n",
       "<style>\n",
       "    :root {\n",
       "        --primary-color: #ffffff;\n",
       "        --secondary-color: #f5f5f5;\n",
       "        --tertiary-color: #000000de;\n",
       "        --button-color: #d1d5db;\n",
       "    }\n",
       "    .dark-theme {\n",
       "        --primary-color: #111111;\n",
       "        --secondary-color: #212121;\n",
       "        --tertiary-color: #CFCDD6;\n",
       "        --button-color: #111111;\n",
       "    }\n",
       "  .header-1 {\n",
       "        font-style: normal;\n",
       "        font-weight: 600;\n",
       "        font-size: 2.0736em;\n",
       "        line-height: 100%;\n",
       "        leading-trim: both;\n",
       "        text-edge: cap;\n",
       "        color: #17161D;\n",
       "    }\n",
       "\n",
       "  .header-2 {\n",
       "        font-style: normal;\n",
       "        font-weight: 600;\n",
       "        font-size: 1.728em;\n",
       "        line-height: 100%;\n",
       "        leading-trim: both;\n",
       "        text-edge: cap;\n",
       "        color: #17161D;\n",
       "    }\n",
       "\n",
       "  .header-3 {\n",
       "        font-style: normal;\n",
       "        font-weight: 600;\n",
       "        font-size:  1.44em;\n",
       "        line-height: 100%;\n",
       "        leading-trim: both;\n",
       "        text-edge: cap;\n",
       "        color: var(--tertiary-color);\n",
       "    }\n",
       "\n",
       "  .header-4 {\n",
       "        font-style: normal;\n",
       "        font-weight: 600;\n",
       "        font-size: 1.2em;\n",
       "        line-height: 100%;\n",
       "        leading-trim: both;\n",
       "        text-edge: cap;\n",
       "        color: #17161D;\n",
       "    }\n",
       "\n",
       "    .paragraph {\n",
       "        font-style: normal;\n",
       "        font-weight: 400;\n",
       "        font-size: 14px;\n",
       "        line-height: 100%;\n",
       "        leading-trim: both;\n",
       "        text-edge: cap;\n",
       "        color: #2E2B3B;\n",
       "    }\n",
       "\n",
       "    .paragraph-sm {\n",
       "        font-family: 'Roboto';\n",
       "        font-style: normal;\n",
       "        font-weight: 400;\n",
       "        font-size: 11.62px;\n",
       "        line-height: 100%;\n",
       "        leading-trim: both;\n",
       "        text-edge: cap;\n",
       "        color: #2E2B3B;\n",
       "    }\n",
       "    .code-text {\n",
       "        font-family: 'Consolas';\n",
       "        font-style: normal;\n",
       "        font-weight: 400;\n",
       "        font-size: 13px;\n",
       "        line-height: 130%;\n",
       "        leading-trim: both;\n",
       "        text-edge: cap;\n",
       "        color: #2E2B3B;\n",
       "    }\n",
       "\n",
       "    .numbering-entry { display: none }\n",
       "\n",
       "    /* Tooltip container */\n",
       "    .tooltip {\n",
       "        position: relative;\n",
       "        display: inline-block;\n",
       "        border-bottom: 1px dotted black; /* If you want dots under the hoverable text */\n",
       "    }\n",
       "\n",
       "    /* Tooltip text */\n",
       "    .tooltip .tooltiptext {\n",
       "        visibility: hidden;\n",
       "        width: 120px;\n",
       "        background-color: black;\n",
       "        color: #fff;\n",
       "        text-align: center;\n",
       "        padding: 5px 0;\n",
       "        border-radius: 6px;\n",
       "\n",
       "        /* Position the tooltip text - see examples below! */\n",
       "        position: absolute;\n",
       "        z-index: 1;\n",
       "    }\n",
       "\n",
       "    .repr-cell {\n",
       "      padding-top: 20px;\n",
       "    }\n",
       "\n",
       "    .text-bold {\n",
       "        font-weight: bold;\n",
       "    }\n",
       "\n",
       "    .pr-8 {\n",
       "        padding-right: 8px;\n",
       "    }\n",
       "    .pt-8 {\n",
       "        padding-top: 8px;\n",
       "    }\n",
       "    .pl-8 {\n",
       "        padding-left: 8px;\n",
       "    }\n",
       "    .pb-8 {\n",
       "        padding-bottom: 8px;\n",
       "    }\n",
       "\n",
       "    .py-25{\n",
       "        padding-top: 25px;\n",
       "        padding-bottom: 25px;\n",
       "    }\n",
       "\n",
       "    .flex {\n",
       "        display: flex;\n",
       "    }\n",
       "\n",
       "    .gap-10 {\n",
       "        gap: 10px;\n",
       "    }\n",
       "    .items-center{\n",
       "        align-items: center;\n",
       "    }\n",
       "\n",
       "    .folder-icon {\n",
       "        color: var(--tertiary-color);\n",
       "    }\n",
       "\n",
       "    .search-input{\n",
       "        display: flex;\n",
       "        flex-direction: row;\n",
       "        align-items: center;\n",
       "        padding: 8px 12px;\n",
       "        width: 343px;\n",
       "        height: 24px;\n",
       "        /* Lt On Surface/Low */\n",
       "        background-color: var(--secondary-color);\n",
       "        border-radius: 30px;\n",
       "\n",
       "        /* Lt On Surface/Highest */\n",
       "        color: var(--tertiary-color);\n",
       "        border:none;\n",
       "        /* Inside auto layout */\n",
       "        flex: none;\n",
       "        order: 0;\n",
       "        flex-grow: 0;\n",
       "    }\n",
       "    .search-input:focus {\n",
       "        outline: none;\n",
       "    }\n",
       "        .search-input:focus::placeholder,\n",
       "    .search-input::placeholder { /* Chrome, Firefox, Opera, Safari 10.1+ */\n",
       "        color: var(--tertiary-color);\n",
       "        opacity: 1; /* Firefox */\n",
       "    }\n",
       "\n",
       "    .search-button{\n",
       "        /* Search */\n",
       "        leading-trim: both;\n",
       "        text-edge: cap;\n",
       "        display: flex;\n",
       "        align-items: center;\n",
       "        text-align: center;\n",
       "\n",
       "        /* Primary/On Light */\n",
       "        background-color: var(--button-color);\n",
       "        color: var(--tertiary-color);\n",
       "\n",
       "        border-radius: 30px;\n",
       "        border-color: var(--secondary-color);\n",
       "        border-style: solid;\n",
       "        box-shadow: rgba(60, 64, 67, 0.3) 0px 1px 2px 0px, rgba(60, 64, 67, 0.15) 0px 1px 3px 1px;\n",
       "        cursor: pointer;\n",
       "        /* Inside auto layout */\n",
       "        flex: none;\n",
       "        order: 1;\n",
       "        flex-grow: 0;\n",
       "    }\n",
       "\n",
       "    .grid-table263c36e1abb442289fd5ef0f577256d2 {\n",
       "        display:grid;\n",
       "        grid-template-columns: 1fr repeat(24, 1fr);\n",
       "        grid-template-rows: repeat(2, 1fr);\n",
       "        overflow-x: auto;\n",
       "    }\n",
       "\n",
       "    .grid-std-cells {\n",
       "        grid-column: span 4;\n",
       "\n",
       "    }\n",
       "    .grid-index-cells {\n",
       "        grid-column: span 1;\n",
       "        /* tmp fix to make left col stand out (fix with font-family) */\n",
       "        font-weight: 600;\n",
       "        background-color: var(--secondary-color) !important;\n",
       "        color: var(--tertiary-color);\n",
       "    }\n",
       "\n",
       "    .grid-header {\n",
       "        /* Auto layout */\n",
       "        display: flex;\n",
       "        flex-direction: column;\n",
       "        align-items: flex-start;\n",
       "        padding: 6px 4px;\n",
       "\n",
       "        /* Lt On Surface/Surface */\n",
       "        /* Lt On Surface/High */\n",
       "        border: 1px solid #CFCDD6;\n",
       "        /* tmp fix to make header stand out (fix with font-family) */\n",
       "        font-weight: 600;\n",
       "        background-color: var(--secondary-color);\n",
       "        color: var(--tertiary-color);\n",
       "    }\n",
       "\n",
       "    .grid-row {\n",
       "        display: flex;\n",
       "        flex-direction: column;\n",
       "        align-items: flex-start;\n",
       "        padding: 6px 4px;\n",
       "        overflow: hidden;\n",
       "        border: 1px solid #CFCDD6;\n",
       "        background-color: var(--primary-color);\n",
       "        color: var(--tertiary-color);\n",
       "    }\n",
       "\n",
       "    .badge {\n",
       "        code-text;\n",
       "        border-radius: 30px;\n",
       "    }\n",
       "\n",
       "    .badge-blue {\n",
       "        badge;\n",
       "        background-color: #C2DEF0;\n",
       "        color: #1F567A;\n",
       "    }\n",
       "\n",
       "    .badge-purple {\n",
       "        badge;\n",
       "        background-color: #C9CFE8;\n",
       "        color: #373B7B;\n",
       "    }\n",
       "\n",
       "    .badge-green {\n",
       "        badge;\n",
       "\n",
       "        /* Success/Container */\n",
       "        background-color: #D5F1D5;\n",
       "        color: #256B24;\n",
       "    }\n",
       "\n",
       "    .badge-red {\n",
       "        badge;\n",
       "        background-color: #F2D9DE;\n",
       "        color: #9B2737;\n",
       "    }\n",
       "\n",
       "    .badge-gray {\n",
       "        badge;\n",
       "        background-color: #ECEBEF;\n",
       "        color: #2E2B3B;\n",
       "    }\n",
       "    .paginationContainer{\n",
       "        width: 100%;\n",
       "        height: 30px;\n",
       "        display: flex;\n",
       "        justify-content: center;\n",
       "        gap: 8px;\n",
       "        padding: 5px;\n",
       "        color: var(--tertiary-color);\n",
       "    }\n",
       "\n",
       "    .page{\n",
       "        color: black;\n",
       "        font-weight: bold;\n",
       "        color: var(--tertiary-color);\n",
       "    }\n",
       "    .page:hover {\n",
       "      color: #38bdf8;\n",
       "      cursor: pointer;\n",
       "    }\n",
       "    .clipboard:hover{\n",
       "        cursor: pointer;\n",
       "        color: var(--tertiary-color);\n",
       "    }\n",
       "\n",
       "    .search-field {\n",
       "        display: flex;\n",
       "        align-items: center;\n",
       "        border-radius: 30px;\n",
       "        background-color: var(--secondary-color);\n",
       "    }\n",
       "\n",
       "    .syft-dropdown {\n",
       "        margin: 5px;\n",
       "        margin-left: 5px;\n",
       "        position: relative;\n",
       "        display: inline-block;\n",
       "        text-align: center;\n",
       "        background-color: var(--button-color);\n",
       "        min-width: 100px;\n",
       "        padding: 2px;\n",
       "        border-radius: 30px;\n",
       "    }\n",
       "\n",
       "    .syft-dropdown:hover {\n",
       "        cursor: pointer;\n",
       "    }\n",
       "    .syft-dropdown-content {\n",
       "        margin-top:26px;\n",
       "        display: none;\n",
       "        position: absolute;\n",
       "        min-width: 100px;\n",
       "        box-shadow: 0px 8px 16px 0px rgba(0,0,0,0.2);\n",
       "        padding: 12px 6px;\n",
       "        z-index: 1;\n",
       "        background-color: var(--primary-color);\n",
       "        color: var(--tertiary-color);\n",
       "    }\n",
       "    .dd-options {\n",
       "        padding-top: 4px;\n",
       "    }\n",
       "    .dd-options:first-of-type {\n",
       "        padding-top: 0px;\n",
       "    }\n",
       "\n",
       "    .dd-options:hover {\n",
       "        cursor: pointer;\n",
       "        background: #d1d5db;\n",
       "    }\n",
       "    .arrow {\n",
       "        border: solid black;\n",
       "        border-width: 0 3px 3px 0;\n",
       "        display: inline-block;\n",
       "        padding: 3px;\n",
       "    }\n",
       "    .down {\n",
       "        transform: rotate(45deg);\n",
       "        -webkit-transform: rotate(45deg);\n",
       "    }\n",
       "</style>\n",
       "\n",
       "\n",
       "    <div style='margin-top:15px;'>\n",
       "        <div class='flex gap-10' style='align-items: center;'>\n",
       "            <div class='folder-icon'><svg width=\"32\" height=\"32\" viewBox=\"0 0 32 32\" fill=\"none\" xmlns=\"http://www.w3.org/2000/svg\"> <path d=\"M28 6H4C3.73478 6 3.48043 6.10536 3.29289 6.29289C3.10536 6.48043 3 6.73478 3 7V24C3 24.5304 3.21071 25.0391 3.58579 25.4142C3.96086 25.7893 4.46957 26 5 26H27C27.5304 26 28.0391 25.7893 28.4142 25.4142C28.7893 25.0391 29 24.5304 29 24V7C29 6.73478 28.8946 6.48043 28.7071 6.29289C28.5196 6.10536 28.2652 6 28 6ZM5 14H10V18H5V14ZM12 14H27V18H12V14ZM27 8V12H5V8H27ZM5 20H10V24H5V20ZM27 24H12V20H27V24Z\" fill=\"#343330\"/></svg></div>\n",
       "            <div><p class='header-3'>UserView List</p></div>\n",
       "        </div>\n",
       "\n",
       "            <div style=\"padding-top: 16px; display:flex;justify-content: space-between; align-items: center;\">\n",
       "                <div class='pt-25 gap-10' style=\"display:flex;\">\n",
       "                    <div class=\"search-field\">\n",
       "                        <div id='search-menu263c36e1abb442289fd5ef0f577256d2' class=\"syft-dropdown\" onclick=\"{\n",
       "                            let doc = document.getElementById('search-dropdown-content263c36e1abb442289fd5ef0f577256d2')\n",
       "                            if (doc.style.display === 'block'){\n",
       "                                doc.style.display = 'none'\n",
       "                            } else {\n",
       "                                doc.style.display = 'block'\n",
       "                            }\n",
       "                            }\">\n",
       "                            <div id='search-dropdown-content263c36e1abb442289fd5ef0f577256d2' class='syft-dropdown-content'></div>\n",
       "                            <script>\n",
       "                                var element263c36e1abb442289fd5ef0f577256d2 = [{\"id\": {\"value\": \"4196dda07ab646fb88adef97d226144e\", \"type\": \"clipboard\"}, \"Name\": \"worker1\", \"Email\": \"info4@openmined.org\", \"Institute\": null, \"Website\": null, \"Role\": \"Admin\"}, {\"id\": {\"value\": \"6530c8d30e914d5abc7592dd244b8b98\", \"type\": \"clipboard\"}, \"Name\": \"Jane Doe\", \"Email\": \"info@openmined.org\", \"Institute\": null, \"Website\": null, \"Role\": \"Admin\"}, {\"id\": {\"value\": \"d101b4141c2746c69661b2a1a93b2ab6\", \"type\": \"clipboard\"}, \"Name\": \"worker1\", \"Email\": \"info2@openmined.org\", \"Institute\": null, \"Website\": null, \"Role\": \"Admin\"}, {\"id\": {\"value\": \"f3ea98e988ec4e1ba55f81ce48da04f9\", \"type\": \"clipboard\"}, \"Name\": \"worker2\", \"Email\": \"info3@openmined.org\", \"Institute\": null, \"Website\": null, \"Role\": \"Admin\"}]\n",
       "                                var page_size263c36e1abb442289fd5ef0f577256d2 = 4\n",
       "                                var pageIndex263c36e1abb442289fd5ef0f577256d2 = 1\n",
       "                                var paginatedElements263c36e1abb442289fd5ef0f577256d2 = []\n",
       "                                var activeFilter263c36e1abb442289fd5ef0f577256d2;\n",
       "\n",
       "                                function buildDropDownMenu(elements){\n",
       "                                    let init_filter;\n",
       "                                    let menu = document.getElementById('search-dropdown-content263c36e1abb442289fd5ef0f577256d2')\n",
       "                                    if (elements.length > 0) {\n",
       "                                        let sample = elements[0]\n",
       "                                        for (const attr in sample) {\n",
       "                                            if (typeof init_filter === 'undefined'){\n",
       "                                                init_filter = attr;\n",
       "                                            }\n",
       "                                            let content = document.createElement('div');\n",
       "                                            content.onclick = function(event) {\n",
       "                                                event.stopPropagation()\n",
       "                                                document.getElementById('menu-active-filter263c36e1abb442289fd5ef0f577256d2').innerText = attr;\n",
       "                                                activeFilter263c36e1abb442289fd5ef0f577256d2 = attr;\n",
       "                                                document.getElementById(\n",
       "                                                    'search-dropdown-content263c36e1abb442289fd5ef0f577256d2'\n",
       "                                                ).style.display= 'none';\n",
       "                                            }\n",
       "                                            content.classList.add(\"dd-options\");\n",
       "                                            content.innerText = attr;\n",
       "                                            menu.appendChild(content);\n",
       "                                        }\n",
       "                                    } else {\n",
       "                                        let init_filter = '---'\n",
       "                                    }\n",
       "                                    let dropdown_field = document.getElementById('search-menu263c36e1abb442289fd5ef0f577256d2')\n",
       "                                    let span = document.createElement('span')\n",
       "                                    span.setAttribute('id', 'menu-active-filter263c36e1abb442289fd5ef0f577256d2')\n",
       "                                    span.innerText = init_filter\n",
       "                                    activeFilter263c36e1abb442289fd5ef0f577256d2 = init_filter;\n",
       "                                    dropdown_field.appendChild(span)\n",
       "                                }\n",
       "\n",
       "                                buildDropDownMenu(element263c36e1abb442289fd5ef0f577256d2)\n",
       "                            </script>\n",
       "                        </div>\n",
       "                        <input id='searchKey263c36e1abb442289fd5ef0f577256d2' class='search-input' placeholder='Enter search here ...'  />\n",
       "                    </div>\n",
       "                    <button class='search-button' type=\"button\" onclick=\"searchGrid263c36e1abb442289fd5ef0f577256d2(element263c36e1abb442289fd5ef0f577256d2)\">\n",
       "                        <svg width=\"11\" height=\"10\" viewBox=\"0 0 11 10\" fill=\"none\" xmlns=\"http://www.w3.org/2000/svg\"><path d=\"M10.5652 9.23467L8.21819 6.88811C8.89846 6.07141 9.23767 5.02389 9.16527 3.96345C9.09287 2.90302 8.61443 1.91132 7.82948 1.19466C7.04453 0.477995 6.01349 0.0915414 4.95087 0.115691C3.88824 0.139841 2.87583 0.572735 2.12425 1.32432C1.37266 2.0759 0.939768 3.08831 0.915618 4.15094C0.891468 5.21357 1.27792 6.2446 1.99459 7.02955C2.71125 7.8145 3.70295 8.29294 4.76338 8.36535C5.82381 8.43775 6.87134 8.09853 7.68804 7.41827L10.0346 9.7653C10.0694 9.80014 10.1108 9.82778 10.1563 9.84663C10.2018 9.86549 10.2506 9.87519 10.2999 9.87519C10.3492 9.87519 10.398 9.86549 10.4435 9.84663C10.489 9.82778 10.5304 9.80014 10.5652 9.7653C10.6001 9.73046 10.6277 9.68909 10.6466 9.64357C10.6654 9.59805 10.6751 9.54926 10.6751 9.49998C10.6751 9.45071 10.6654 9.40192 10.6466 9.3564C10.6277 9.31088 10.6001 9.26951 10.5652 9.23467ZM1.67491 4.24998C1.67491 3.58247 1.87285 2.92995 2.2437 2.37493C2.61455 1.81992 3.14165 1.38734 3.75835 1.13189C4.37506 0.876446 5.05366 0.809609 5.70834 0.939835C6.36303 1.07006 6.96439 1.3915 7.4364 1.8635C7.9084 2.3355 8.22984 2.93687 8.36006 3.59155C8.49029 4.24624 8.42345 4.92484 8.168 5.54154C7.91256 6.15824 7.47998 6.68535 6.92496 7.05619C6.36995 7.42704 5.71742 7.62498 5.04991 7.62498C4.15511 7.62399 3.29724 7.26809 2.66452 6.63537C2.0318 6.00265 1.6759 5.14479 1.67491 4.24998Z\" fill=\"currentColor\"/></svg>\n",
       "                        <span class='pl-8'>Search</span>\n",
       "                    </button>\n",
       "                </div>\n",
       "\n",
       "                <div><h4 id='total263c36e1abb442289fd5ef0f577256d2'>0</h4></div>\n",
       "            </div>\n",
       "            <div id='table263c36e1abb442289fd5ef0f577256d2' class='grid-table263c36e1abb442289fd5ef0f577256d2' style='margin-top: 25px;'>\n",
       "                <script>\n",
       "                    function paginate263c36e1abb442289fd5ef0f577256d2(arr, size) {\n",
       "                        const res = [];\n",
       "                        for (let i = 0; i < arr.length; i += size) {\n",
       "                            const chunk = arr.slice(i, i + size);\n",
       "                            res.push(chunk);\n",
       "                        }\n",
       "\n",
       "                        return res;\n",
       "                    }\n",
       "\n",
       "                    function searchGrid263c36e1abb442289fd5ef0f577256d2(elements){\n",
       "                        let searchKey = document.getElementById('searchKey263c36e1abb442289fd5ef0f577256d2').value;\n",
       "                        let result;\n",
       "                        if (searchKey === ''){\n",
       "                            result = elements;\n",
       "                        } else {\n",
       "                            result = elements.filter((element) => {\n",
       "                                let property = element[activeFilter263c36e1abb442289fd5ef0f577256d2]\n",
       "                                if (typeof property === 'object' && property !== null){\n",
       "                                    return property.value.toLowerCase().includes(searchKey.toLowerCase());\n",
       "                                } else if (typeof property === 'string' ) {\n",
       "                                    return element[activeFilter263c36e1abb442289fd5ef0f577256d2].toLowerCase().includes(searchKey.toLowerCase());\n",
       "                                } else if (property !== null ) {\n",
       "                                    return element[activeFilter263c36e1abb442289fd5ef0f577256d2].toString() === searchKey;\n",
       "                                } else {\n",
       "                                    return element[activeFilter263c36e1abb442289fd5ef0f577256d2] === searchKey;\n",
       "                                }\n",
       "                            } );\n",
       "                        }\n",
       "                        resetById263c36e1abb442289fd5ef0f577256d2('table263c36e1abb442289fd5ef0f577256d2');\n",
       "                        resetById263c36e1abb442289fd5ef0f577256d2('pag263c36e1abb442289fd5ef0f577256d2');\n",
       "                        result = paginate263c36e1abb442289fd5ef0f577256d2(result, page_size263c36e1abb442289fd5ef0f577256d2)\n",
       "                        buildGrid263c36e1abb442289fd5ef0f577256d2(result,pageIndex263c36e1abb442289fd5ef0f577256d2);\n",
       "                        buildPaginationContainer263c36e1abb442289fd5ef0f577256d2(result);\n",
       "                    }\n",
       "\n",
       "                    function setTheme263c36e1abb442289fd5ef0f577256d2(){\n",
       "                        const theme = document.body.getAttribute('data-jp-theme-light') === 'true' ? 'light' : 'dark';\n",
       "\n",
       "                        if (theme === 'dark') document.body.classList.add('dark-theme');\n",
       "                        else document.body.classList.remove('dark-theme');\n",
       "\n",
       "                    }\n",
       "\n",
       "                    function resetById263c36e1abb442289fd5ef0f577256d2(id){\n",
       "                        let element = document.getElementById(id);\n",
       "                        while (element.firstChild) {\n",
       "                          element.removeChild(element.firstChild);\n",
       "                        }\n",
       "                    }\n",
       "\n",
       "                    function buildGrid263c36e1abb442289fd5ef0f577256d2(items, pageIndex){\n",
       "                                let headers = Object.keys(element263c36e1abb442289fd5ef0f577256d2[0]);\n",
       "\n",
       "                                let grid = document.getElementById(\"table263c36e1abb442289fd5ef0f577256d2\");\n",
       "                                let div = document.createElement(\"div\");\n",
       "                                div.classList.add('grid-header', 'grid-index-cells');\n",
       "                                grid.appendChild(div);\n",
       "                                setTheme263c36e1abb442289fd5ef0f577256d2();\n",
       "                                headers.forEach((title) =>{\n",
       "                                    let div = document.createElement(\"div\");\n",
       "                                    div.classList.add('grid-header', 'grid-std-cells');\n",
       "                                    div.innerText = title;\n",
       "\n",
       "                                    grid.appendChild(div);\n",
       "                                });\n",
       "\n",
       "                                let page = items[pageIndex -1]\n",
       "                                if (page !== 'undefine'){\n",
       "                                    let table_index263c36e1abb442289fd5ef0f577256d2 = ((pageIndex - 1) * page_size263c36e1abb442289fd5ef0f577256d2)\n",
       "                                    page.forEach((item) => {\n",
       "                                        let grid = document.getElementById(\"table263c36e1abb442289fd5ef0f577256d2\");\n",
       "                                        // Add new index value in index cells\n",
       "                                        let divIndex = document.createElement(\"div\");\n",
       "                                        divIndex.classList.add('grid-row', 'grid-index-cells');\n",
       "                                        divIndex.innerText = table_index263c36e1abb442289fd5ef0f577256d2;\n",
       "                                        grid.appendChild(divIndex);\n",
       "\n",
       "                                        // Iterate over the actual obj\n",
       "                                        for (const attr in item) {\n",
       "                                            let div = document.createElement(\"div\");\n",
       "                                            if (typeof item[attr] === 'object'\n",
       "                                                && item[attr] !== null\n",
       "                                                && item[attr].hasOwnProperty('type')) {\n",
       "                                                if (item[attr].type.includes('badge')){\n",
       "                                                    let badge_div = document.createElement(\"div\");\n",
       "                                                    badge_div.classList.add('badge',item[attr].type)\n",
       "                                                    badge_div.innerText = String(item[attr].value).toUpperCase();\n",
       "                                                    div.appendChild(badge_div);\n",
       "                                                    div.classList.add('grid-row','grid-std-cells');\n",
       "                                                } else if (item[attr].type === \"clipboard\") {\n",
       "                                                    div.classList.add('grid-row','grid-std-cells');\n",
       "\n",
       "                                                    // Create clipboard div\n",
       "                                                    let clipboard_div = document.createElement('div');\n",
       "                                                    clipboard_div.style.display= 'flex';\n",
       "                                                    clipboard_div.classList.add(\"gap-10\")\n",
       "                                                    clipboard_div.style.justifyContent = \"space-between\";\n",
       "\n",
       "                                                    let id_text = document.createElement('div');\n",
       "                                                    if (item[attr].value == \"None\"){\n",
       "                                                        id_text.innerText = \"None\";\n",
       "                                                    }\n",
       "                                                    else{\n",
       "                                                        id_text.innerText = item[attr].value.slice(0,5) + \"...\";\n",
       "                                                    }\n",
       "\n",
       "                                                    clipboard_div.appendChild(id_text);\n",
       "                                                    let clipboard_img = document.createElement('div');\n",
       "                                                    clipboard_img.classList.add(\"clipboard\")\n",
       "                                                    div.onclick = function() {\n",
       "                                                        navigator.clipboard.writeText(item[attr].value);\n",
       "                                                    };\n",
       "                                                    clipboard_img.innerHTML = \"<svg width='8' height='8' viewBox='0 0 8 8' fill='none' xmlns='http://www.w3.org/2000/svg'><path d='M7.4375 0.25H2.4375C2.35462 0.25 2.27513 0.282924 2.21653 0.341529C2.15792 0.400134 2.125 0.47962 2.125 0.5625V2.125H0.5625C0.47962 2.125 0.400134 2.15792 0.341529 2.21653C0.282924 2.27513 0.25 2.35462 0.25 2.4375V7.4375C0.25 7.52038 0.282924 7.59987 0.341529 7.65847C0.400134 7.71708 0.47962 7.75 0.5625 7.75H5.5625C5.64538 7.75 5.72487 7.71708 5.78347 7.65847C5.84208 7.59987 5.875 7.52038 5.875 7.4375V5.875H7.4375C7.52038 5.875 7.59987 5.84208 7.65847 5.78347C7.71708 5.72487 7.75 5.64538 7.75 5.5625V0.5625C7.75 0.47962 7.71708 0.400134 7.65847 0.341529C7.59987 0.282924 7.52038 0.25 7.4375 0.25ZM5.25 7.125H0.875V2.75H5.25V7.125ZM7.125 5.25H5.875V2.4375C5.875 2.35462 5.84208 2.27513 5.78347 2.21653C5.72487 2.15792 5.64538 2.125 5.5625 2.125H2.75V0.875H7.125V5.25Z' fill='#464158'/></svg>\";\n",
       "\n",
       "                                                    clipboard_div.appendChild(clipboard_img);\n",
       "                                                    div.appendChild(clipboard_div);\n",
       "                                                }\n",
       "                                            } else{\n",
       "                                                div.classList.add('grid-row','grid-std-cells');\n",
       "                                                if (item[attr] == null) {\n",
       "                                                    text = ' '\n",
       "                                                } else {\n",
       "                                                    text = String(item[attr])\n",
       "                                                }\n",
       "                                                if (text.length > 150){\n",
       "                                                    text = text.slice(0,150) + \"...\";\n",
       "                                                }\n",
       "                                                text = text.replaceAll(\"\\n\", \"</br>\");\n",
       "                                                div.innerHTML = text;\n",
       "                                            }\n",
       "                                            grid.appendChild(div);\n",
       "                                        }\n",
       "                                    table_index263c36e1abb442289fd5ef0f577256d2 = table_index263c36e1abb442289fd5ef0f577256d2 + 1;\n",
       "                                    })\n",
       "                                }\n",
       "                    }\n",
       "                    paginatedElements263c36e1abb442289fd5ef0f577256d2 = paginate263c36e1abb442289fd5ef0f577256d2(element263c36e1abb442289fd5ef0f577256d2, page_size263c36e1abb442289fd5ef0f577256d2)\n",
       "                    buildGrid263c36e1abb442289fd5ef0f577256d2(paginatedElements263c36e1abb442289fd5ef0f577256d2, 1)\n",
       "                    document.getElementById('total263c36e1abb442289fd5ef0f577256d2').innerText = \"Total: \" + element263c36e1abb442289fd5ef0f577256d2.length\n",
       "                </script>\n",
       "            </div>\n",
       "            <div id='pag263c36e1abb442289fd5ef0f577256d2' class='paginationContainer'>\n",
       "                <script>\n",
       "                    function buildPaginationContainer263c36e1abb442289fd5ef0f577256d2(paginatedElements){\n",
       "                            let pageContainer = document.getElementById(\"pag263c36e1abb442289fd5ef0f577256d2\");\n",
       "                            for (let i = 0; i < paginatedElements.length; i++) {\n",
       "                                  let div = document.createElement(\"div\");\n",
       "                                  div.classList.add('page');\n",
       "                                  if(i===0) div.style.color = \"gray\";\n",
       "                                  else div.style.color = 'var(--tertiary-color, \"gray\")';\n",
       "                                  div.onclick = function(event) {\n",
       "                                      let indexes = document.getElementsByClassName('page');\n",
       "                                      for (let index of indexes) { index.style.color = 'var(--tertiary-color, \"gray\")' }\n",
       "                                      event.target.style.color = \"gray\";\n",
       "                                      setPage263c36e1abb442289fd5ef0f577256d2(i + 1);\n",
       "                                  };\n",
       "                                  div.innerText = i + 1;\n",
       "                                  pageContainer.appendChild(div);\n",
       "                            }\n",
       "                    }\n",
       "\n",
       "                    function setPage263c36e1abb442289fd5ef0f577256d2(newPage){\n",
       "                        pageIndex = newPage\n",
       "                        resetById263c36e1abb442289fd5ef0f577256d2('table263c36e1abb442289fd5ef0f577256d2')\n",
       "                        buildGrid263c36e1abb442289fd5ef0f577256d2(paginatedElements263c36e1abb442289fd5ef0f577256d2, pageIndex)\n",
       "                    }\n",
       "\n",
       "                    buildPaginationContainer263c36e1abb442289fd5ef0f577256d2(paginatedElements263c36e1abb442289fd5ef0f577256d2)\n",
       "                </script>\n",
       "            </div>\n",
       "        </div>\n",
       "    </div>\n",
       "    </div>\n"
      ],
      "text/plain": [
       "<syft.client.api.APIModule at 0x7fbdbee08a00>"
      ]
     },
     "execution_count": 10,
     "metadata": {},
     "output_type": "execute_result"
    }
   ],
   "source": [
    "client.users"
   ]
  },
  {
   "cell_type": "code",
   "execution_count": 12,
   "id": "50e21382",
   "metadata": {},
   "outputs": [
    {
     "data": {
      "text/html": [
       "<div class=\"alert-warning\" style=\"padding:5px;\"><strong>SyftWarning</strong>: You're performing an operation on high side domain which could host datasets with private information.</div><br />"
      ],
      "text/plain": [
       "SyftWarning: You're performing an operation on high side domain which could host datasets with private information."
      ]
     },
     "metadata": {},
     "output_type": "display_data"
    },
    {
     "data": {
      "text/html": [
       "<pre style=\"white-space:pre;overflow-x:auto;line-height:normal;font-family:Menlo,'DejaVu Sans Mono',consolas,'Courier New',monospace\"></pre>\n"
      ],
      "text/plain": []
     },
     "metadata": {},
     "output_type": "display_data"
    },
    {
     "name": "stdout",
     "output_type": "stream",
     "text": [
      "Would you like to proceed? [y/n]: y\n"
     ]
    },
    {
     "data": {
      "text/html": [
       "<div class=\"alert-danger\" style=\"padding:5px;\"><strong>SyftError</strong>: Exception calling action.set. Traceback (most recent call last):\n",
       "  File \"/app/syft/src/syft/node/node.py\", line 918, in handle_api_call_with_unsigned_result\n",
       "    result = method(context, *api_call.args, **api_call.kwargs)\n",
       "             ^^^^^^^^^^^^^^^^^^^^^^^^^^^^^^^^^^^^^^^^^^^^^^^^^^\n",
       "  File \"/app/syft/src/syft/service/service.py\", line 339, in _decorator\n",
       "    result = func(self, *args, **kwargs)\n",
       "             ^^^^^^^^^^^^^^^^^^^^^^^^^^^\n",
       "  File \"/app/syft/src/syft/service/action/action_service.py\", line 96, in set\n",
       "    result = self.store.set(\n",
       "             ^^^^^^^^^^^^^^\n",
       "AttributeError: 'MongoDocumentStore' object has no attribute 'set'\n",
       "</div><br />"
      ],
      "text/plain": [
       "SyftError: Exception calling action.set. Traceback (most recent call last):\n",
       "  File \"/app/syft/src/syft/node/node.py\", line 918, in handle_api_call_with_unsigned_result\n",
       "    result = method(context, *api_call.args, **api_call.kwargs)\n",
       "             ^^^^^^^^^^^^^^^^^^^^^^^^^^^^^^^^^^^^^^^^^^^^^^^^^^\n",
       "  File \"/app/syft/src/syft/service/service.py\", line 339, in _decorator\n",
       "    result = func(self, *args, **kwargs)\n",
       "             ^^^^^^^^^^^^^^^^^^^^^^^^^^^\n",
       "  File \"/app/syft/src/syft/service/action/action_service.py\", line 96, in set\n",
       "    result = self.store.set(\n",
       "             ^^^^^^^^^^^^^^\n",
       "AttributeError: 'MongoDocumentStore' object has no attribute 'set'"
      ]
     },
     "execution_count": 12,
     "metadata": {},
     "output_type": "execute_result"
    }
   ],
   "source": [
    "sy.ActionObject.from_path(path=\"scenario_data.jsonl\").send(client)"
   ]
  },
  {
   "cell_type": "code",
   "execution_count": null,
   "id": "d9841e62",
   "metadata": {},
   "outputs": [],
   "source": [
    "scenario_obj = ActionObject.from_obj([\n",
    "    sy.ActionObject.from_path(path=\"scenario_data.jsonl\").send(client).syft_action_data for i in range(2)])\n",
    "scenario_files_ptr = scenario_obj.send(client)"
   ]
  },
  {
   "cell_type": "code",
   "execution_count": 56,
   "id": "3fa3a20a",
   "metadata": {},
   "outputs": [
    {
     "data": {
      "text/html": [
       "<div class=\"alert-warning\" style=\"padding:5px;\"><strong>SyftWarning</strong>: You're performing an operation on high side domain which could host datasets with private information.</div><br />"
      ],
      "text/plain": [
       "SyftWarning: You're performing an operation on high side domain which could host datasets with private information."
      ]
     },
     "metadata": {},
     "output_type": "display_data"
    },
    {
     "data": {
      "text/html": [
       "<pre style=\"white-space:pre;overflow-x:auto;line-height:normal;font-family:Menlo,'DejaVu Sans Mono',consolas,'Courier New',monospace\"></pre>\n"
      ],
      "text/plain": []
     },
     "metadata": {},
     "output_type": "display_data"
    },
    {
     "name": "stdout",
     "output_type": "stream",
     "text": [
      "Would you like to proceed? [y/n]: y\n"
     ]
    },
    {
     "data": {
      "text/html": [
       "<div class=\"alert-warning\" style=\"padding:5px;\"><strong>SyftWarning</strong>: You're performing an operation on high side domain which could host datasets with private information.</div><br />"
      ],
      "text/plain": [
       "SyftWarning: You're performing an operation on high side domain which could host datasets with private information."
      ]
     },
     "metadata": {},
     "output_type": "display_data"
    },
    {
     "data": {
      "text/html": [
       "<pre style=\"white-space:pre;overflow-x:auto;line-height:normal;font-family:Menlo,'DejaVu Sans Mono',consolas,'Courier New',monospace\"></pre>\n"
      ],
      "text/plain": []
     },
     "metadata": {},
     "output_type": "display_data"
    },
    {
     "name": "stdout",
     "output_type": "stream",
     "text": [
      "Would you like to proceed? [y/n]: y\n"
     ]
    },
    {
     "data": {
      "text/html": [
       "<div class=\"alert-warning\" style=\"padding:5px;\"><strong>SyftWarning</strong>: You're performing an operation on high side domain which could host datasets with private information.</div><br />"
      ],
      "text/plain": [
       "SyftWarning: You're performing an operation on high side domain which could host datasets with private information."
      ]
     },
     "metadata": {},
     "output_type": "display_data"
    },
    {
     "data": {
      "text/html": [
       "<pre style=\"white-space:pre;overflow-x:auto;line-height:normal;font-family:Menlo,'DejaVu Sans Mono',consolas,'Courier New',monospace\"></pre>\n"
      ],
      "text/plain": []
     },
     "metadata": {},
     "output_type": "display_data"
    },
    {
     "name": "stdout",
     "output_type": "stream",
     "text": [
      "Would you like to proceed? [y/n]: y\n"
     ]
    }
   ],
   "source": [
    "# TODO: fix way we send list of files\n",
    "input_obj = ActionObject.from_obj([\n",
    "    sy.ActionObject.from_path(\"short_input.jsonl\").send(client).syft_action_data for i in range(2)])\n",
    "input_files_ptr = input_obj.send(client)"
   ]
  },
  {
   "cell_type": "code",
   "execution_count": 57,
   "id": "93f9acd9",
   "metadata": {},
   "outputs": [],
   "source": [
    "# for line in input_files_ptr.syft_action_data[0].iter_lines():\n",
    "#     print(line)"
   ]
  },
  {
   "cell_type": "markdown",
   "id": "bd60b056",
   "metadata": {},
   "source": [
    "# Syft functions"
   ]
  },
  {
   "cell_type": "code",
   "execution_count": 58,
   "id": "aa3a5c31",
   "metadata": {},
   "outputs": [
    {
     "data": {
      "text/html": [
       "<div class=\"alert-success\" style=\"padding:5px;\"><strong>SyftSuccess</strong>: Syft function 'compute_document_data_overlap' successfully created. To add a code request, please create a project using `project = syft.Project(...)`, then use command `project.create_code_request`.</div><br />"
      ],
      "text/plain": [
       "SyftSuccess: Syft function 'compute_document_data_overlap' successfully created. To add a code request, please create a project using `project = syft.Project(...)`, then use command `project.create_code_request`."
      ]
     },
     "metadata": {},
     "output_type": "display_data"
    }
   ],
   "source": [
    "@sy.syft_function()\n",
    "def compute_document_data_overlap(scenario_file, input_files, n):\n",
    "    print(\"starting overlap computation\")\n",
    "\n",
    "    from nltk import ngrams\n",
    "    from collections import defaultdict\n",
    "    from string import punctuation\n",
    "    import re, json\n",
    "\n",
    "    r = re.compile(r\"[\\s{}]+\".format(re.escape(punctuation)))\n",
    "    \n",
    "    def create_ngram_index(light_scenarios, n_values, stats_key_counts):\n",
    "        ngram_index = {n:{}  for n in n_values}\n",
    "        for scenario in light_scenarios:\n",
    "            for n in n_values:\n",
    "                stats_key = scenario['scenario_key'] + '_' + str(n)\n",
    "                stats_key_counts[stats_key] = len(scenario['instances'])\n",
    "                for instance in scenario['instances']:\n",
    "                    id = instance['id']                    \n",
    "                    input_tokens = r.split(instance['input'].lower())\n",
    "                    for input_ngram in ngrams(input_tokens, n):\n",
    "                        if input_ngram not in ngram_index[n]:\n",
    "                            ngram_index[n][input_ngram] = set()\n",
    "                        ngram_index[n][input_ngram].add(stats_key + '+' + id + '+' + 'input')\n",
    "\n",
    "                    # compute reference ngrams\n",
    "                    for reference in instance['references']:\n",
    "                        reference_unigrams = r.split(reference.lower())\n",
    "                        for reference_ngram in ngrams(reference_unigrams, n):\n",
    "                            if reference_ngram not in ngram_index[n]:\n",
    "                                ngram_index[n][reference_ngram] = set()\n",
    "                            ngram_index[n][reference_ngram].add(stats_key + '+' + id + '+' + 'references')\n",
    "        return ngram_index\n",
    "    \n",
    "    # # SETUP\n",
    "    print(\"preparing scenarios and creating indexes\")\n",
    "    light_scenarios = []\n",
    "    for light_scenario_json in scenario_file.iter_lines():\n",
    "        light_scenario_dict: dict = json.loads(light_scenario_json)\n",
    "\n",
    "        light_scenario_key_dict: dict = light_scenario_dict[\"scenario_key\"]\n",
    "        subject_spec = light_scenario_key_dict[\"scenario_spec\"]['args']['subject']\n",
    "        light_scenario_key = subject_spec + '_' + light_scenario_key_dict[\"split\"]\n",
    "        light_instances = [\n",
    "            {\n",
    "                'input': instance_dict['input'], \n",
    "                'references': instance_dict['references'], \n",
    "                'id': instance_dict[\"id\"]\n",
    "            }\n",
    "            for instance_dict in light_scenario_dict[\"instances\"]\n",
    "        ]\n",
    "        light_scenarios.append({'scenario_key': light_scenario_key, 'instances': light_instances})\n",
    "        \n",
    "    stats_key_counts = defaultdict(int)\n",
    "    \n",
    "    ngram_index = create_ngram_index(\n",
    "        light_scenarios=light_scenarios, n_values=[n], stats_key_counts=stats_key_counts\n",
    "    )\n",
    "    \n",
    "    r = re.compile(r\"[\\s{}]+\".format(re.escape(punctuation)))\n",
    "    stats_key_to_input_ids = defaultdict(set)\n",
    "    stats_key_to_reference_ids = defaultdict(set)\n",
    "    print(\"computing overlap\")\n",
    "    \n",
    "    for input_file in input_files:\n",
    "        for line in input_file.iter_lines():\n",
    "            document = json.loads(line)[\"text\"]\n",
    "            document_tokens = r.split(document.lower())\n",
    "            for n in ngram_index.keys():\n",
    "                for document_ngram in ngrams(document_tokens, n):\n",
    "                    if document_ngram in ngram_index[n]:\n",
    "                        for entry_overlap_key in ngram_index[n][document_ngram]:\n",
    "                            stats_key, id, part = entry_overlap_key.split(\"+\")\n",
    "                            if part == \"input\":\n",
    "                                stats_key_to_input_ids[stats_key].add(id)\n",
    "                            elif part == \"references\":\n",
    "                                stats_key_to_reference_ids[stats_key].add(id)\n",
    "    print(\"done\")\n",
    "    \n",
    "    return stats_key_to_input_ids, stats_key_to_reference_ids, stats_key_counts"
   ]
  },
  {
   "cell_type": "code",
   "execution_count": 59,
   "id": "2f23c7ae",
   "metadata": {},
   "outputs": [
    {
     "data": {
      "text/html": [
       "<div class=\"alert-success\" style=\"padding:5px;\"><strong>SyftSuccess</strong>: User Code Submitted</div><br />"
      ],
      "text/plain": [
       "SyftSuccess: User Code Submitted"
      ]
     },
     "execution_count": 59,
     "metadata": {},
     "output_type": "execute_result"
    }
   ],
   "source": [
    "client.code.submit(compute_document_data_overlap)"
   ]
  },
  {
   "cell_type": "code",
   "execution_count": 60,
   "id": "27be4dc4",
   "metadata": {},
   "outputs": [
    {
     "data": {
      "text/html": [
       "<div class=\"alert-success\" style=\"padding:5px;\"><strong>SyftSuccess</strong>: Syft function 'main_function' successfully created. To add a code request, please create a project using `project = syft.Project(...)`, then use command `project.create_code_request`.</div><br />"
      ],
      "text/plain": [
       "SyftSuccess: Syft function 'main_function' successfully created. To add a code request, please create a project using `project = syft.Project(...)`, then use command `project.create_code_request`."
      ]
     },
     "metadata": {},
     "output_type": "display_data"
    }
   ],
   "source": [
    "@sy.syft_function_single_use(input_files=input_files_ptr, scenario_files=scenario_files_ptr)\n",
    "def main_function(domain, input_files, scenario_files):\n",
    "    N = [5, 9, 13]\n",
    "    jobs = []\n",
    "    for n in N[:1]:\n",
    "        for scenario_file in scenario_files:\n",
    "            batch_job = domain.launch_job(\n",
    "                compute_document_data_overlap,\n",
    "                scenario_file=scenario_file,\n",
    "                input_files=input_files,\n",
    "                n=n\n",
    "            )\n",
    "            jobs.append(batch_job)\n",
    "\n",
    "    return None\n"
   ]
  },
  {
   "cell_type": "code",
   "execution_count": 61,
   "id": "bcb9ad4c",
   "metadata": {},
   "outputs": [
    {
     "data": {
      "text/plain": [
       "<UID: f492d3fb586e48d58e469739f31a1239>"
      ]
     },
     "execution_count": 61,
     "metadata": {},
     "output_type": "execute_result"
    }
   ],
   "source": [
    "input_files_ptr.id"
   ]
  },
  {
   "cell_type": "code",
   "execution_count": 62,
   "id": "29ee2790",
   "metadata": {},
   "outputs": [
    {
     "data": {
      "text/html": [
       "<div class=\"alert-warning\" style=\"padding:5px;\"><strong>SyftWarning</strong>: You're approving a request on high side domain which may host datasets with private information.</div><br />"
      ],
      "text/plain": [
       "SyftWarning: You're approving a request on high side domain which may host datasets with private information."
      ]
     },
     "metadata": {},
     "output_type": "display_data"
    },
    {
     "data": {
      "text/html": [
       "<pre style=\"white-space:pre;overflow-x:auto;line-height:normal;font-family:Menlo,'DejaVu Sans Mono',consolas,'Courier New',monospace\"></pre>\n"
      ],
      "text/plain": []
     },
     "metadata": {},
     "output_type": "display_data"
    },
    {
     "name": "stdout",
     "output_type": "stream",
     "text": [
      "Would you like to proceed? [y/n]: y\n",
      "Request approved for domain high-side\n"
     ]
    },
    {
     "data": {
      "text/html": [
       "<div class=\"alert-success\" style=\"padding:5px;\"><strong>SyftSuccess</strong>: Request 8db4e3cd4e3247bbac0af456992e04e0 changes applied</div><br />"
      ],
      "text/plain": [
       "SyftSuccess: Request 8db4e3cd4e3247bbac0af456992e04e0 changes applied"
      ]
     },
     "execution_count": 62,
     "metadata": {},
     "output_type": "execute_result"
    }
   ],
   "source": [
    "client.code.request_code_execution(main_function)\n",
    "client.requests[-1].approve()"
   ]
  },
  {
   "cell_type": "code",
   "execution_count": 74,
   "id": "78b084c0",
   "metadata": {},
   "outputs": [
    {
     "ename": "ConnectionError",
     "evalue": "Failed to fetch metadata. Response returned with code 500",
     "output_type": "error",
     "traceback": [
      "\u001b[0;31m---------------------------------------------------------------------------\u001b[0m",
      "\u001b[0;31mConnectionError\u001b[0m                           Traceback (most recent call last)",
      "Cell \u001b[0;32mIn[74], line 1\u001b[0m\n\u001b[0;32m----> 1\u001b[0m job \u001b[38;5;241m=\u001b[39m \u001b[43mclient\u001b[49m\u001b[38;5;241;43m.\u001b[39;49m\u001b[43mcode\u001b[49m\u001b[38;5;241;43m.\u001b[39;49m\u001b[43mmain_function\u001b[49m\u001b[43m(\u001b[49m\u001b[43minput_files\u001b[49m\u001b[38;5;241;43m=\u001b[39;49m\u001b[43minput_files_ptr\u001b[49m\u001b[43m,\u001b[49m\u001b[43m \u001b[49m\u001b[43mscenario_files\u001b[49m\u001b[38;5;241;43m=\u001b[39;49m\u001b[43mscenario_files_ptr\u001b[49m\u001b[43m,\u001b[49m\u001b[43m \u001b[49m\u001b[43mblocking\u001b[49m\u001b[38;5;241;43m=\u001b[39;49m\u001b[38;5;28;43;01mFalse\u001b[39;49;00m\u001b[43m)\u001b[49m\n",
      "File \u001b[0;32m~/workspace/PySyft/packages/syft/src/syft/client/api.py:242\u001b[0m, in \u001b[0;36mgenerate_remote_function.<locals>.wrapper\u001b[0;34m(*args, **kwargs)\u001b[0m\n\u001b[1;32m    240\u001b[0m \u001b[38;5;28;01mif\u001b[39;00m \u001b[38;5;129;01mnot\u001b[39;00m allowed:\n\u001b[1;32m    241\u001b[0m     \u001b[38;5;28;01mreturn\u001b[39;00m\n\u001b[0;32m--> 242\u001b[0m result \u001b[38;5;241m=\u001b[39m \u001b[43mmake_call\u001b[49m\u001b[43m(\u001b[49m\u001b[43mapi_call\u001b[49m\u001b[38;5;241;43m=\u001b[39;49m\u001b[43mapi_call\u001b[49m\u001b[43m)\u001b[49m\n\u001b[1;32m    243\u001b[0m \u001b[38;5;28;01mreturn\u001b[39;00m result\n",
      "File \u001b[0;32m~/workspace/PySyft/packages/syft/src/syft/client/api.py:487\u001b[0m, in \u001b[0;36mSyftAPI.make_call\u001b[0;34m(self, api_call)\u001b[0m\n\u001b[1;32m    485\u001b[0m \u001b[38;5;28;01mdef\u001b[39;00m \u001b[38;5;21mmake_call\u001b[39m(\u001b[38;5;28mself\u001b[39m, api_call: SyftAPICall) \u001b[38;5;241m-\u001b[39m\u001b[38;5;241m>\u001b[39m Result:\n\u001b[1;32m    486\u001b[0m     signed_call \u001b[38;5;241m=\u001b[39m api_call\u001b[38;5;241m.\u001b[39msign(credentials\u001b[38;5;241m=\u001b[39m\u001b[38;5;28mself\u001b[39m\u001b[38;5;241m.\u001b[39msigning_key)\n\u001b[0;32m--> 487\u001b[0m     signed_result \u001b[38;5;241m=\u001b[39m \u001b[38;5;28;43mself\u001b[39;49m\u001b[38;5;241;43m.\u001b[39;49m\u001b[43mconnection\u001b[49m\u001b[38;5;241;43m.\u001b[39;49m\u001b[43mmake_call\u001b[49m\u001b[43m(\u001b[49m\u001b[43msigned_call\u001b[49m\u001b[43m)\u001b[49m\n\u001b[1;32m    489\u001b[0m     result \u001b[38;5;241m=\u001b[39m debox_signed_syftapicall_response(signed_result\u001b[38;5;241m=\u001b[39msigned_result)\n\u001b[1;32m    491\u001b[0m     \u001b[38;5;28;01mif\u001b[39;00m \u001b[38;5;28misinstance\u001b[39m(result, OkErr):\n",
      "File \u001b[0;32m~/workspace/PySyft/packages/syft/src/syft/client/client.py:277\u001b[0m, in \u001b[0;36mHTTPConnection.make_call\u001b[0;34m(self, signed_call)\u001b[0m\n\u001b[1;32m    271\u001b[0m response \u001b[38;5;241m=\u001b[39m requests\u001b[38;5;241m.\u001b[39mpost(  \u001b[38;5;66;03m# nosec\u001b[39;00m\n\u001b[1;32m    272\u001b[0m     url\u001b[38;5;241m=\u001b[39m\u001b[38;5;28mstr\u001b[39m(\u001b[38;5;28mself\u001b[39m\u001b[38;5;241m.\u001b[39mapi_url),\n\u001b[1;32m    273\u001b[0m     data\u001b[38;5;241m=\u001b[39mmsg_bytes,\n\u001b[1;32m    274\u001b[0m )\n\u001b[1;32m    276\u001b[0m \u001b[38;5;28;01mif\u001b[39;00m response\u001b[38;5;241m.\u001b[39mstatus_code \u001b[38;5;241m!=\u001b[39m \u001b[38;5;241m200\u001b[39m:\n\u001b[0;32m--> 277\u001b[0m     \u001b[38;5;28;01mraise\u001b[39;00m requests\u001b[38;5;241m.\u001b[39mConnectionError(\n\u001b[1;32m    278\u001b[0m         \u001b[38;5;124mf\u001b[39m\u001b[38;5;124m\"\u001b[39m\u001b[38;5;124mFailed to fetch metadata. Response returned with code \u001b[39m\u001b[38;5;132;01m{\u001b[39;00mresponse\u001b[38;5;241m.\u001b[39mstatus_code\u001b[38;5;132;01m}\u001b[39;00m\u001b[38;5;124m\"\u001b[39m\n\u001b[1;32m    279\u001b[0m     )\n\u001b[1;32m    281\u001b[0m result \u001b[38;5;241m=\u001b[39m _deserialize(response\u001b[38;5;241m.\u001b[39mcontent, from_bytes\u001b[38;5;241m=\u001b[39m\u001b[38;5;28;01mTrue\u001b[39;00m)\n\u001b[1;32m    282\u001b[0m \u001b[38;5;28;01mreturn\u001b[39;00m result\n",
      "\u001b[0;31mConnectionError\u001b[0m: Failed to fetch metadata. Response returned with code 500"
     ]
    }
   ],
   "source": [
    "job = client.code.main_function(input_files=input_files_ptr, scenario_files=scenario_files_ptr, blocking=False)"
   ]
  },
  {
   "cell_type": "markdown",
   "id": "1df60a45",
   "metadata": {},
   "source": [
    "# Get results"
   ]
  },
  {
   "cell_type": "code",
   "execution_count": 64,
   "id": "55c3bee6",
   "metadata": {},
   "outputs": [
    {
     "data": {
      "text/markdown": [
       "```python\n",
       "class Job:\n",
       "    id: UID = 1b9bd273fa0f45cf92692b4dbfe0a3d8\n",
       "    status: completed\n",
       "    has_parent: False\n",
       "    result: SyftError: Failed to run. 'SyftError' object has no attribute 'is_err'\n",
       "    logs:\n",
       "\n",
       "0 \n",
       "JOB COMPLETED\n",
       "    \n",
       "```"
      ],
      "text/plain": [
       "syft.service.job.job_stash.Job"
      ]
     },
     "execution_count": 64,
     "metadata": {},
     "output_type": "execute_result"
    }
   ],
   "source": [
    "job"
   ]
  },
  {
   "cell_type": "code",
   "execution_count": 34,
   "id": "4d567f04",
   "metadata": {},
   "outputs": [
    {
     "data": {
      "text/html": [
       "[]"
      ],
      "text/plain": [
       "[]"
      ]
     },
     "execution_count": 34,
     "metadata": {},
     "output_type": "execute_result"
    }
   ],
   "source": [
    "job.subjobs"
   ]
  },
  {
   "cell_type": "code",
   "execution_count": 32,
   "id": "f63089d2",
   "metadata": {},
   "outputs": [
    {
     "data": {
      "text/html": [
       "<div class=\"alert-danger\" style=\"padding:5px;\"><strong>SyftError</strong>: Failed to run. Input <class 'syft.types.uid.UID'> for input_files not in allowed {'input_files': <UID: 90d99061d1574d57adcb07393cc92023>, 'scenario_files': <UID: f07fd77bb0544df38d986be0cca44d4b>}</div><br />"
      ],
      "text/plain": [
       "SyftError: Failed to run. Input <class 'syft.types.uid.UID'> for input_files not in allowed {'input_files': <UID: 90d99061d1574d57adcb07393cc92023>, 'scenario_files': <UID: f07fd77bb0544df38d986be0cca44d4b>}"
      ]
     },
     "execution_count": 32,
     "metadata": {},
     "output_type": "execute_result"
    }
   ],
   "source": [
    "job.wait()"
   ]
  },
  {
   "cell_type": "code",
   "execution_count": 33,
   "id": "5b21beea",
   "metadata": {},
   "outputs": [
    {
     "data": {
      "text/html": [
       "[]"
      ],
      "text/plain": [
       "[]"
      ]
     },
     "execution_count": 33,
     "metadata": {},
     "output_type": "execute_result"
    }
   ],
   "source": [
    "job.subjobs"
   ]
  },
  {
   "cell_type": "code",
   "execution_count": 16,
   "id": "852360ec",
   "metadata": {},
   "outputs": [
    {
     "name": "stdout",
     "output_type": "stream",
     "text": [
      "starting overlap computation\n",
      "preparing scenarios and creating indexes\n",
      "computing overlap\n",
      "computing overlap\n",
      "done\n",
      "done\n",
      "\n",
      "starting overlap computation\n",
      "preparing scenarios and creating indexes\n",
      "computing overlap\n",
      "computing overlap\n",
      "done\n",
      "done\n",
      "\n"
     ]
    }
   ],
   "source": [
    "job.subjobs[0].logs()"
   ]
  },
  {
   "cell_type": "code",
   "execution_count": 17,
   "id": "c5de7233",
   "metadata": {},
   "outputs": [],
   "source": [
    "results = [j.wait().get() for j in job.subjobs]"
   ]
  },
  {
   "cell_type": "code",
   "execution_count": 18,
   "id": "4a079df7",
   "metadata": {},
   "outputs": [
    {
     "data": {
      "text/html": [
       "[(defaultdict(&lt;class &#x27;set&#x27;&gt;, {&#x27;philosophy_test_5&#x27;: {&#x27;id328&#x27;}, &#x27;philosophy_valid_5&#x27;: {&#x27;id12&#x27;}}), defaultdict(&lt;class &#x27;set&#x27;&gt;, {}), defaultdict(&lt;class &#x27;int&#x27;&gt;, {&#x27;philosophy_train_5&#x27;: 5, &#x27;philosophy_valid_5&#x27;: 34, &#x27;philosophy_test_5&#x27;: 311, &#x27;anatomy_train_5&#x27;: 5, &#x27;anatomy_valid_5&#x27;: 14, &#x27;anatomy_test_5&#x27;: 135})), (defaultdict(&lt;class &#x27;set&#x27;&gt;, {&#x27;philosophy_test_5&#x27;: {&#x27;id328&#x27;}, &#x27;philosophy_valid_5&#x27;: {&#x27;id12&#x27;}}), defaultdict(&lt;class &#x27;set&#x27;&gt;, {}), defaultdict(&lt;class &#x27;int&#x27;&gt;, {&#x27;philosophy_train_5&#x27;: 5, &#x27;philosophy_valid_5&#x27;: 34, &#x27;philosophy_test_5&#x27;: 311, &#x27;anatomy_train_5&#x27;: 5, &#x27;anatomy_valid_5&#x27;: 14, &#x27;anatomy_test_5&#x27;: 135}))]"
      ],
      "text/plain": [
       "[(defaultdict(set,\n",
       "              {'philosophy_test_5': {'id328'},\n",
       "               'philosophy_valid_5': {'id12'}}),\n",
       "  defaultdict(set, {}),\n",
       "  defaultdict(int,\n",
       "              {'philosophy_train_5': 5,\n",
       "               'philosophy_valid_5': 34,\n",
       "               'philosophy_test_5': 311,\n",
       "               'anatomy_train_5': 5,\n",
       "               'anatomy_valid_5': 14,\n",
       "               'anatomy_test_5': 135})),\n",
       " (defaultdict(set,\n",
       "              {'philosophy_test_5': {'id328'},\n",
       "               'philosophy_valid_5': {'id12'}}),\n",
       "  defaultdict(set, {}),\n",
       "  defaultdict(int,\n",
       "              {'philosophy_train_5': 5,\n",
       "               'philosophy_valid_5': 34,\n",
       "               'philosophy_test_5': 311,\n",
       "               'anatomy_train_5': 5,\n",
       "               'anatomy_valid_5': 14,\n",
       "               'anatomy_test_5': 135}))]"
      ]
     },
     "execution_count": 18,
     "metadata": {},
     "output_type": "execute_result"
    },
    {
     "data": {
      "text/html": [
       "[(defaultdict(&lt;class &#x27;set&#x27;&gt;, {&#x27;philosophy_test_5&#x27;: {&#x27;id328&#x27;}, &#x27;philosophy_valid_5&#x27;: {&#x27;id12&#x27;}}), defaultdict(&lt;class &#x27;set&#x27;&gt;, {}), defaultdict(&lt;class &#x27;int&#x27;&gt;, {&#x27;philosophy_train_5&#x27;: 5, &#x27;philosophy_valid_5&#x27;: 34, &#x27;philosophy_test_5&#x27;: 311, &#x27;anatomy_train_5&#x27;: 5, &#x27;anatomy_valid_5&#x27;: 14, &#x27;anatomy_test_5&#x27;: 135})), (defaultdict(&lt;class &#x27;set&#x27;&gt;, {&#x27;philosophy_test_5&#x27;: {&#x27;id328&#x27;}, &#x27;philosophy_valid_5&#x27;: {&#x27;id12&#x27;}}), defaultdict(&lt;class &#x27;set&#x27;&gt;, {}), defaultdict(&lt;class &#x27;int&#x27;&gt;, {&#x27;philosophy_train_5&#x27;: 5, &#x27;philosophy_valid_5&#x27;: 34, &#x27;philosophy_test_5&#x27;: 311, &#x27;anatomy_train_5&#x27;: 5, &#x27;anatomy_valid_5&#x27;: 14, &#x27;anatomy_test_5&#x27;: 135}))]"
      ],
      "text/plain": [
       "[(defaultdict(set,\n",
       "              {'philosophy_test_5': {'id328'},\n",
       "               'philosophy_valid_5': {'id12'}}),\n",
       "  defaultdict(set, {}),\n",
       "  defaultdict(int,\n",
       "              {'philosophy_train_5': 5,\n",
       "               'philosophy_valid_5': 34,\n",
       "               'philosophy_test_5': 311,\n",
       "               'anatomy_train_5': 5,\n",
       "               'anatomy_valid_5': 14,\n",
       "               'anatomy_test_5': 135})),\n",
       " (defaultdict(set,\n",
       "              {'philosophy_test_5': {'id328'},\n",
       "               'philosophy_valid_5': {'id12'}}),\n",
       "  defaultdict(set, {}),\n",
       "  defaultdict(int,\n",
       "              {'philosophy_train_5': 5,\n",
       "               'philosophy_valid_5': 34,\n",
       "               'philosophy_test_5': 311,\n",
       "               'anatomy_train_5': 5,\n",
       "               'anatomy_valid_5': 14,\n",
       "               'anatomy_test_5': 135}))]"
      ]
     },
     "execution_count": 18,
     "metadata": {},
     "output_type": "execute_result"
    },
    {
     "name": "stdout",
     "output_type": "stream",
     "text": [
      "Idle worker expired: b'CA3B-67F3'\n",
      "Idle worker expired: b'199D-2559'\n",
      "Idle worker expired: b'3E5D-6502'\n",
      "Idle worker expired: b'E402-6C4E'\n",
      "Idle worker expired: b'CA3B-67F3'\n",
      "Idle worker expired: b'199D-2559'\n",
      "Idle worker expired: b'3E5D-6502'\n",
      "Idle worker expired: b'E402-6C4E'\n"
     ]
    }
   ],
   "source": [
    "#stats_key_to_input_ids, stats_key_to_reference_ids, stats_key_counts\n",
    "results"
   ]
  },
  {
   "cell_type": "code",
   "execution_count": 19,
   "id": "0dcd8d03",
   "metadata": {},
   "outputs": [
    {
     "data": {
      "text/plain": [
       "(defaultdict(set,\n",
       "             {'philosophy_test_5': {'id328'}, 'philosophy_valid_5': {'id12'}}),\n",
       " defaultdict(set, {}),\n",
       " defaultdict(int,\n",
       "             {'philosophy_train_5': 5,\n",
       "              'philosophy_valid_5': 34,\n",
       "              'philosophy_test_5': 311,\n",
       "              'anatomy_train_5': 5,\n",
       "              'anatomy_valid_5': 14,\n",
       "              'anatomy_test_5': 135}))"
      ]
     },
     "execution_count": 19,
     "metadata": {},
     "output_type": "execute_result"
    },
    {
     "data": {
      "text/plain": [
       "(defaultdict(set,\n",
       "             {'philosophy_test_5': {'id328'}, 'philosophy_valid_5': {'id12'}}),\n",
       " defaultdict(set, {}),\n",
       " defaultdict(int,\n",
       "             {'philosophy_train_5': 5,\n",
       "              'philosophy_valid_5': 34,\n",
       "              'philosophy_test_5': 311,\n",
       "              'anatomy_train_5': 5,\n",
       "              'anatomy_valid_5': 14,\n",
       "              'anatomy_test_5': 135}))"
      ]
     },
     "execution_count": 19,
     "metadata": {},
     "output_type": "execute_result"
    }
   ],
   "source": [
    "results[0]"
   ]
  },
  {
   "cell_type": "markdown",
   "id": "6fe4daea",
   "metadata": {},
   "source": [
    "# Aggregate"
   ]
  },
  {
   "cell_type": "code",
   "execution_count": 19,
   "id": "d5053b78",
   "metadata": {},
   "outputs": [],
   "source": [
    "stats_key_to_input_ids, stats_key_to_reference_ids, stats_key_counts = zip(*results)\n",
    "\n",
    "total_input_ids = defaultdict(set)\n",
    "total_reference_ids = defaultdict(set)\n",
    "total_stats_key_counts = defaultdict(int)\n",
    "\n",
    "for d in stats_key_counts:\n",
    "    for key, val in d.items():\n",
    "        total_stats_key_counts[key] += val\n",
    "\n",
    "\n",
    "for d in stats_key_to_input_ids:\n",
    "    for key in d:\n",
    "        new_set = set()\n",
    "        if key in total_input_ids:\n",
    "            new_set = total_input_ids[key]\n",
    "        new_set = new_set.union(d[key])\n",
    "        total_input_ids[key] = new_set\n",
    "\n",
    "for d in stats_key_to_reference_ids:\n",
    "    for key in d:\n",
    "        new_set = set()\n",
    "        if key in total_reference_ids:\n",
    "            new_set = total_reference_ids[key]\n",
    "        new_set = total_reference_ids[key].union(d[key])\n",
    "        total_reference_ids[key] = new_set\n",
    "\n",
    "all_data_overlap_stats = []\n",
    "for stats_key, count in total_stats_key_counts.items():\n",
    "    data_overlap_stats = {\n",
    "        'data_overlap_stats_key': None,\n",
    "        'num_instances': count,\n",
    "        'instance_ids_with_overlapping_input': sorted(total_input_ids[stats_key]),\n",
    "        'instance_ids_with_overlapping_reference': sorted(total_reference_ids[stats_key]),\n",
    "    }\n",
    "    subject, split, n_str = stats_key.split('_')\n",
    "    data_overlap_stats['data_overlap_stats_key'] = {\n",
    "        'light_scenario_key': {'subject': subject, 'split': split},\n",
    "        'overlap_protocol_spec': {'n': int(n_str)}\n",
    "    }\n",
    "    all_data_overlap_stats.append(data_overlap_stats)\n",
    "\n",
    "\n"
   ]
  },
  {
   "cell_type": "code",
   "execution_count": 20,
   "id": "9c53c3aa",
   "metadata": {},
   "outputs": [
    {
     "name": "stdout",
     "output_type": "stream",
     "text": [
      "[{'data_overlap_stats_key': {'light_scenario_key': {'split': 'train',\n",
      "                                                    'subject': 'philosophy'},\n",
      "                             'overlap_protocol_spec': {'n': 5}},\n",
      "  'instance_ids_with_overlapping_input': [],\n",
      "  'instance_ids_with_overlapping_reference': [],\n",
      "  'num_instances': 10},\n",
      " {'data_overlap_stats_key': {'light_scenario_key': {'split': 'valid',\n",
      "                                                    'subject': 'philosophy'},\n",
      "                             'overlap_protocol_spec': {'n': 5}},\n",
      "  'instance_ids_with_overlapping_input': ['id12'],\n",
      "  'instance_ids_with_overlapping_reference': [],\n",
      "  'num_instances': 68},\n",
      " {'data_overlap_stats_key': {'light_scenario_key': {'split': 'test',\n",
      "                                                    'subject': 'philosophy'},\n",
      "                             'overlap_protocol_spec': {'n': 5}},\n",
      "  'instance_ids_with_overlapping_input': ['id328'],\n",
      "  'instance_ids_with_overlapping_reference': [],\n",
      "  'num_instances': 622},\n",
      " {'data_overlap_stats_key': {'light_scenario_key': {'split': 'train',\n",
      "                                                    'subject': 'anatomy'},\n",
      "                             'overlap_protocol_spec': {'n': 5}},\n",
      "  'instance_ids_with_overlapping_input': [],\n",
      "  'instance_ids_with_overlapping_reference': [],\n",
      "  'num_instances': 10},\n",
      " {'data_overlap_stats_key': {'light_scenario_key': {'split': 'valid',\n",
      "                                                    'subject': 'anatomy'},\n",
      "                             'overlap_protocol_spec': {'n': 5}},\n",
      "  'instance_ids_with_overlapping_input': [],\n",
      "  'instance_ids_with_overlapping_reference': [],\n",
      "  'num_instances': 28},\n",
      " {'data_overlap_stats_key': {'light_scenario_key': {'split': 'test',\n",
      "                                                    'subject': 'anatomy'},\n",
      "                             'overlap_protocol_spec': {'n': 5}},\n",
      "  'instance_ids_with_overlapping_input': [],\n",
      "  'instance_ids_with_overlapping_reference': [],\n",
      "  'num_instances': 270}]\n"
     ]
    }
   ],
   "source": [
    "from pprint import pprint\n",
    "pprint(all_data_overlap_stats)"
   ]
  },
  {
   "cell_type": "code",
   "execution_count": null,
   "id": "f55e4ded",
   "metadata": {},
   "outputs": [],
   "source": []
  },
  {
   "cell_type": "code",
   "execution_count": null,
   "id": "0a51bd5c",
   "metadata": {},
   "outputs": [],
   "source": [
    "# TODO: fix way we send list of files\n",
    "scenario_obj = ActionObject.from_obj([\n",
    "    sy.ActionObject.from_path(path=\"scenario_data.jsonl\").send(client).syft_action_data for i in range(2)])\n",
    "scenario_files_ptr = scenario_obj.send(client)\n",
    "\n",
    "# TODO: fix way we send list of files\n",
    "input_obj = ActionObject.from_obj([\n",
    "    sy.ActionObject.from_path(\"short_input.jsonl\").send(client).syft_action_data for i in range(2)])\n",
    "input_files_ptr = input_obj.send(client)\n",
    "\n",
    "# for line in input_files_ptr.syft_action_data[0].iter_lines():\n",
    "#     print(line)\n",
    "\n",
    "# Syft functions\n",
    "\n",
    "@sy.syft_function()\n",
    "def compute_document_data_overlap(scenario_file, input_files, n):\n",
    "    print(\"starting overlap computation\")\n",
    "\n",
    "    from nltk import ngrams\n",
    "    from collections import defaultdict\n",
    "    from string import punctuation\n",
    "    import re, json\n",
    "\n",
    "    r = re.compile(r\"[\\s{}]+\".format(re.escape(punctuation)))\n",
    "    \n",
    "    def create_ngram_index(light_scenarios, n_values, stats_key_counts):\n",
    "        ngram_index = {n:{}  for n in n_values}\n",
    "        for scenario in light_scenarios:\n",
    "            for n in n_values:\n",
    "                stats_key = scenario['scenario_key'] + '_' + str(n)\n",
    "                stats_key_counts[stats_key] = len(scenario['instances'])\n",
    "                for instance in scenario['instances']:\n",
    "                    id = instance['id']                    \n",
    "                    input_tokens = r.split(instance['input'].lower())\n",
    "                    for input_ngram in ngrams(input_tokens, n):\n",
    "                        if input_ngram not in ngram_index[n]:\n",
    "                            ngram_index[n][input_ngram] = set()\n",
    "                        ngram_index[n][input_ngram].add(stats_key + '+' + id + '+' + 'input')\n",
    "\n",
    "                    # compute reference ngrams\n",
    "                    for reference in instance['references']:\n",
    "                        reference_unigrams = r.split(reference.lower())\n",
    "                        for reference_ngram in ngrams(reference_unigrams, n):\n",
    "                            if reference_ngram not in ngram_index[n]:\n",
    "                                ngram_index[n][reference_ngram] = set()\n",
    "                            ngram_index[n][reference_ngram].add(stats_key + '+' + id + '+' + 'references')\n",
    "        return ngram_index\n",
    "    \n",
    "    # # SETUP\n",
    "    print(\"preparing scenarios and creating indexes\")\n",
    "    light_scenarios = []\n",
    "    for light_scenario_json in scenario_file.iter_lines():\n",
    "        light_scenario_dict: dict = json.loads(light_scenario_json)\n",
    "\n",
    "        light_scenario_key_dict: dict = light_scenario_dict[\"scenario_key\"]\n",
    "        subject_spec = light_scenario_key_dict[\"scenario_spec\"]['args']['subject']\n",
    "        light_scenario_key = subject_spec + '_' + light_scenario_key_dict[\"split\"]\n",
    "        light_instances = [\n",
    "            {\n",
    "                'input': instance_dict['input'], \n",
    "                'references': instance_dict['references'], \n",
    "                'id': instance_dict[\"id\"]\n",
    "            }\n",
    "            for instance_dict in light_scenario_dict[\"instances\"]\n",
    "        ]\n",
    "        light_scenarios.append({'scenario_key': light_scenario_key, 'instances': light_instances})\n",
    "        \n",
    "    stats_key_counts = defaultdict(int)\n",
    "    \n",
    "    ngram_index = create_ngram_index(\n",
    "        light_scenarios=light_scenarios, n_values=[n], stats_key_counts=stats_key_counts\n",
    "    )\n",
    "    \n",
    "    r = re.compile(r\"[\\s{}]+\".format(re.escape(punctuation)))\n",
    "    stats_key_to_input_ids = defaultdict(set)\n",
    "    stats_key_to_reference_ids = defaultdict(set)\n",
    "    print(\"computing overlap\")\n",
    "    \n",
    "    for input_file in input_files:\n",
    "        for line in input_file.iter_lines():\n",
    "            document = json.loads(line)[\"text\"]\n",
    "            document_tokens = r.split(document.lower())\n",
    "            for n in ngram_index.keys():\n",
    "                for document_ngram in ngrams(document_tokens, n):\n",
    "                    if document_ngram in ngram_index[n]:\n",
    "                        for entry_overlap_key in ngram_index[n][document_ngram]:\n",
    "                            stats_key, id, part = entry_overlap_key.split(\"+\")\n",
    "                            if part == \"input\":\n",
    "                                stats_key_to_input_ids[stats_key].add(id)\n",
    "                            elif part == \"references\":\n",
    "                                stats_key_to_reference_ids[stats_key].add(id)\n",
    "    print(\"done\")\n",
    "    \n",
    "    return stats_key_to_input_ids, stats_key_to_reference_ids, stats_key_counts\n",
    "\n",
    "client.code.submit(compute_document_data_overlap)\n",
    "\n",
    "@sy.syft_function_single_use(input_files=input_files_ptr, scenario_files=scenario_files_ptr)\n",
    "def main_function(domain, input_files, scenario_files):\n",
    "    N = [5, 9, 13]\n",
    "    jobs = []\n",
    "    for n in N[:1]:\n",
    "        for scenario_file in scenario_files:\n",
    "            batch_job = domain.launch_job(\n",
    "                compute_document_data_overlap,\n",
    "                scenario_file=scenario_file,\n",
    "                input_files=input_files,\n",
    "                n=n\n",
    "            )\n",
    "            jobs.append(batch_job)\n",
    "\n",
    "    return None\n",
    "\n",
    "\n",
    "client.code.request_code_execution(main_function)\n",
    "client.requests[-1].approve()\n",
    "\n",
    "job = client.code.main_function(input_files=input_files_ptr, scenario_files=scenario_files_ptr, blocking=False)\n",
    "\n",
    "# Get results\n",
    "\n",
    "job\n",
    "\n",
    "job.wait()\n",
    "\n",
    "job.subjobs\n",
    "\n",
    "job.subjobs[0].logs()\n",
    "\n",
    "results = [j.wait().get() for j in job.subjobs]\n",
    "\n",
    "#stats_key_to_input_ids, stats_key_to_reference_ids, stats_key_counts\n",
    "results\n",
    "\n",
    "results[0]\n",
    "\n",
    "# Aggregate\n",
    "\n",
    "stats_key_to_input_ids, stats_key_to_reference_ids, stats_key_counts = zip(*results)\n",
    "\n",
    "total_input_ids = defaultdict(set)\n",
    "total_reference_ids = defaultdict(set)\n",
    "total_stats_key_counts = defaultdict(int)\n",
    "\n",
    "for d in stats_key_counts:\n",
    "    for key, val in d.items():\n",
    "        total_stats_key_counts[key] += val\n",
    "\n",
    "\n",
    "for d in stats_key_to_input_ids:\n",
    "    for key in d:\n",
    "        new_set = set()\n",
    "        if key in total_input_ids:\n",
    "            new_set = total_input_ids[key]\n",
    "        new_set = new_set.union(d[key])\n",
    "        total_input_ids[key] = new_set\n",
    "\n",
    "for d in stats_key_to_reference_ids:\n",
    "    for key in d:\n",
    "        new_set = set()\n",
    "        if key in total_reference_ids:\n",
    "            new_set = total_reference_ids[key]\n",
    "        new_set = total_reference_ids[key].union(d[key])\n",
    "        total_reference_ids[key] = new_set\n",
    "\n",
    "all_data_overlap_stats = []\n",
    "for stats_key, count in total_stats_key_counts.items():\n",
    "    data_overlap_stats = {\n",
    "        'data_overlap_stats_key': None,\n",
    "        'num_instances': count,\n",
    "        'instance_ids_with_overlapping_input': sorted(total_input_ids[stats_key]),\n",
    "        'instance_ids_with_overlapping_reference': sorted(total_reference_ids[stats_key]),\n",
    "    }\n",
    "    subject, split, n_str = stats_key.split('_')\n",
    "    data_overlap_stats['data_overlap_stats_key'] = {\n",
    "        'light_scenario_key': {'subject': subject, 'split': split},\n",
    "        'overlap_protocol_spec': {'n': int(n_str)}\n",
    "    }\n",
    "    all_data_overlap_stats.append(data_overlap_stats)\n",
    "\n",
    "\n",
    "\n",
    "\n",
    "from pprint import pprint\n",
    "pprint(all_data_overlap_stats)\n",
    "\n"
   ]
  },
  {
   "cell_type": "code",
   "execution_count": null,
   "id": "ef4fbd83",
   "metadata": {},
   "outputs": [],
   "source": [
    "# %debug"
   ]
  },
  {
   "cell_type": "code",
   "execution_count": null,
   "id": "39eeb574",
   "metadata": {},
   "outputs": [],
   "source": []
  }
 ],
 "metadata": {
  "kernelspec": {
   "display_name": "Python 3 (ipykernel)",
   "language": "python",
   "name": "python3"
  },
  "language_info": {
   "codemirror_mode": {
    "name": "ipython",
    "version": 3
   },
   "file_extension": ".py",
   "mimetype": "text/x-python",
   "name": "python",
   "nbconvert_exporter": "python",
   "pygments_lexer": "ipython3",
   "version": "3.9.16"
  },
  "toc": {
   "base_numbering": 1,
   "nav_menu": {},
   "number_sections": true,
   "sideBar": true,
   "skip_h1_title": false,
   "title_cell": "Table of Contents",
   "title_sidebar": "Contents",
   "toc_cell": false,
   "toc_position": {},
   "toc_section_display": true,
   "toc_window_display": true
  }
 },
 "nbformat": 4,
 "nbformat_minor": 5
}
