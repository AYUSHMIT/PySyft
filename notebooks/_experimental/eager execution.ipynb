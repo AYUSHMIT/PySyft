{
 "cells": [
  {
   "cell_type": "code",
   "execution_count": 1,
   "id": "e4a01671",
   "metadata": {},
   "outputs": [
    {
     "name": "stderr",
     "output_type": "stream",
     "text": [
      "kj/filesystem-disk-unix.c++:1703: warning: PWD environment variable doesn't match current directory; pwd = /Users/koen/workspace/pysyft\n"
     ]
    }
   ],
   "source": [
    "import syft as sy\n",
    "import pytest\n",
    "import numpy as np\n",
    "from syft import Worker\n",
    "from syft.service.user.user_roles import ServiceRole\n",
    "from syft.service.service import ServiceConfigRegistry\n",
    "from syft.node.credentials import SyftSigningKey\n",
    "from syft.service.user.user_service import UserService, UserUpdate\n",
    "from syft.service.context import AuthedServiceContext\n",
    "from syft.client.api import SyftAPICall\n",
    "from syft.client.client import SyftClient\n",
    "from syft import SyftError\n",
    "from syft import UID\n",
    "from faker import Faker\n",
    "from syft.store.mongo_document_store import StoreConfig\n",
    "from syft.store.mongo_document_store import MongoStoreConfig\n",
    "from syft.store.mongo_document_store import MongoStoreClientConfig\n",
    "from syft.store.mongo_document_store import MongoStoreClientConfig\n",
    "from syft.store.sqlite_document_store import SQLiteStoreClientConfig\n",
    "from syft.store.sqlite_document_store import SQLiteStoreConfig\n",
    "from syft.service.action.action_permissions import ActionObjectREAD\n",
    "from syft.node.worker import Worker\n",
    "from syft.node.node import create_worker_metadata\n",
    "from syft import ActionObject\n",
    "from syft.types.twin_object import TwinObject\n",
    "from syft.service.action.action_object import TraceResult\n",
    "from syft.service.action.plan import Plan, planify, build_plan_inputs\n",
    "from syft.service.request.request import SubmitRequest, ActionStoreChange\n",
    "from syft.store.linked_obj import LinkedObject\n",
    "from syft.service.action.action_store import ActionPermission\n",
    "from typing import List, Dict, Callable\n",
    "from syft.service.action.action_object import Action\n",
    "from collections.abc import Iterable\n",
    "import inspect\n",
    "import numpy as np"
   ]
  },
  {
   "cell_type": "code",
   "execution_count": 2,
   "id": "4bc9dcd3",
   "metadata": {},
   "outputs": [],
   "source": [
    "# !rm /var/folders/q1/ryq93kwj055dlbpngxv1c7z40000gn/T/7bca415d13ed1ec841f0d0aede098dbb.sqlite"
   ]
  },
  {
   "cell_type": "code",
   "execution_count": 3,
   "id": "9750fd9b",
   "metadata": {},
   "outputs": [],
   "source": [
    "# worker = sy.Worker.named(\"test-domain-1\", processes=1, reset=True)\n",
    "worker = sy.Worker.named(\"eager_exec\", reset=True, processes=0)\n",
    "client = worker.root_client\n",
    "guest_client = worker.guest_client"
   ]
  },
  {
   "cell_type": "markdown",
   "id": "8076f279",
   "metadata": {},
   "source": [
    "# Simple permissions"
   ]
  },
  {
   "cell_type": "code",
   "execution_count": 4,
   "id": "9d3f11ce",
   "metadata": {},
   "outputs": [],
   "source": [
    "input_obj = TwinObject(\n",
    "    private_obj=np.array([[3,3,3], [3,3,3]]),\n",
    "    mock_obj=np.array([[1,1,1], [1,1,1]])\n",
    ")"
   ]
  },
  {
   "cell_type": "code",
   "execution_count": 5,
   "id": "81d46594",
   "metadata": {},
   "outputs": [],
   "source": [
    "input_ptr = client.api.services.action.set(input_obj)\n",
    "\n",
    "pointer = guest_client.api.services.action.get_pointer(input_ptr.id) "
   ]
  },
  {
   "cell_type": "code",
   "execution_count": 6,
   "id": "bd13ca83",
   "metadata": {},
   "outputs": [
    {
     "data": {
      "text/plain": [
       "<UID: acd67438c02d412892dd8fdd7db1da63>"
      ]
     },
     "execution_count": 6,
     "metadata": {},
     "output_type": "execute_result"
    }
   ],
   "source": [
    "pointer.id"
   ]
  },
  {
   "cell_type": "code",
   "execution_count": 7,
   "id": "e5225eff",
   "metadata": {},
   "outputs": [],
   "source": [
    "store = worker.get_service(\"actionservice\").store"
   ]
  },
  {
   "cell_type": "code",
   "execution_count": 8,
   "id": "a508216e",
   "metadata": {},
   "outputs": [],
   "source": [
    "input_ptr = client.api.services.action.set(input_obj)\n",
    "\n",
    "pointer = guest_client.api.services.action.get_pointer(input_ptr.id) \n",
    "\n",
    "flat_ptr = pointer.flatten()\n",
    "\n",
    "res_guest = guest_client.api.services.action.get(flat_ptr.id)\n",
    "assert not isinstance(res_guest, ActionObject)\n",
    "res_root = flat_ptr.get_from(client)\n",
    "assert all(res_root == [3,3,3,3,3,3])"
   ]
  },
  {
   "cell_type": "markdown",
   "id": "ba4c2379",
   "metadata": {},
   "source": [
    "# Plans"
   ]
  },
  {
   "cell_type": "code",
   "execution_count": 9,
   "id": "b70954d4",
   "metadata": {},
   "outputs": [],
   "source": [
    "# worker = sy.Worker.named(\"test-domain-1\", processes=1, reset=True)\n",
    "worker = sy.Worker.named(\"eager_exec\", reset=True, processes=0)\n",
    "client = worker.root_client\n",
    "guest_client = worker.guest_client"
   ]
  },
  {
   "cell_type": "markdown",
   "id": "c954c815",
   "metadata": {},
   "source": [
    "## Plans with object instantiations"
   ]
  },
  {
   "cell_type": "code",
   "execution_count": 10,
   "id": "18245625",
   "metadata": {},
   "outputs": [],
   "source": [
    "@planify\n",
    "def my_plan(x=np.array([1,2,3,4,5,6])):\n",
    "    return x+1"
   ]
  },
  {
   "cell_type": "code",
   "execution_count": 11,
   "id": "efae1223",
   "metadata": {},
   "outputs": [],
   "source": [
    "plan_ptr = my_plan.send(guest_client)"
   ]
  },
  {
   "cell_type": "code",
   "execution_count": 12,
   "id": "519069b3",
   "metadata": {},
   "outputs": [],
   "source": [
    "input_obj = TwinObject(\n",
    "    private_obj=np.array([1,2,3,4,5,6]),\n",
    "    mock_obj=np.array([1,1,1,1,1,1])\n",
    ")\n"
   ]
  },
  {
   "cell_type": "code",
   "execution_count": 13,
   "id": "74804e55",
   "metadata": {},
   "outputs": [],
   "source": [
    "_id = client.api.services.action.set(input_obj).id\n",
    "pointer = guest_client.api.services.action.get_pointer(_id) "
   ]
  },
  {
   "cell_type": "code",
   "execution_count": 14,
   "id": "7a5c6d5d",
   "metadata": {},
   "outputs": [],
   "source": [
    "res_ptr = plan_ptr(x=pointer)"
   ]
  },
  {
   "cell_type": "code",
   "execution_count": 15,
   "id": "35102161",
   "metadata": {},
   "outputs": [
    {
     "data": {
      "text/plain": [
       "array([2, 3, 4, 5, 6, 7])"
      ]
     },
     "execution_count": 15,
     "metadata": {},
     "output_type": "execute_result"
    }
   ],
   "source": [
    "res_ptr.get_from(client)"
   ]
  },
  {
   "cell_type": "markdown",
   "id": "0c209b5b",
   "metadata": {},
   "source": [
    "## Complex plans"
   ]
  },
  {
   "cell_type": "code",
   "execution_count": 16,
   "id": "6f099554",
   "metadata": {},
   "outputs": [],
   "source": [
    "@planify\n",
    "def my_plan(x=np.array([1,2,3,4,5,6])):\n",
    "    y = x.flatten() # method -> [1,2,3,4,5,6]\n",
    "    min_val = x.min() # method -> 1\n",
    "    s = x.shape # getattribute -> 6    \n",
    "    w = x[min_val] # __getitem__ -> 2\n",
    "    y[min_val] = min_val # __setitem__ y = [1,1,3,4,5,6]\n",
    "    res = client.api.lib.numpy.sum(y) + w + s # client function and __add__ 20 + 2 + 6 = 28\n",
    "    return res #28"
   ]
  },
  {
   "cell_type": "code",
   "execution_count": 17,
   "id": "34fd698e",
   "metadata": {},
   "outputs": [
    {
     "data": {
      "text/markdown": [
       "```python\n",
       "Pointer\n",
       "```\n",
       "```python\n",
       "class Plan:\n",
       "  id: str = c197b90d939e4703899c08101473c9a4\n",
       "  inputs: str = {'x': Pointer:\n",
       "[1 2 3 4 5 6]}\n",
       "  outputs: str = [Pointer:\n",
       "[28]]\n",
       "  actions: str = [ActionObject NumpyArrayObject[182..b].flatten(,), ActionObject NumpyArrayObject[182..b].min(,), ActionObject NumpyArrayObject[182..b].shape(,), ActionObject NumpyArrayObject[182..b].__getitem__(f29..8,), ActionObject NumpyArrayObject[1d8..b].__setitem__(f29..8, f29..8,), ActionObject numpy.sum(1d8..b,), ActionObject NumpyScalarObject[058..2].__add__(550..6,), ActionObject NumpyScalarObject[850..f].__add__(555..c,)]\n",
       "  code: str = \"@planify\n",
       "def my_plan(x=np.array([1,2,3,4,5,6])):\n",
       "    y = x.flatten() # method -> [1,2,3,4,5,6]\n",
       "    min_val = x.min() # method -> 1\n",
       "    s = x.shape # getattribute -> 6    \n",
       "    w = x[min_val] # __getitem__ -> 2\n",
       "    y[min_val] = min_val # __setitem__ y = [1,1,3,4,5,6]\n",
       "    res = client.api.lib.numpy.sum(y) + w + s # client function and __add__ 20 + 2 + 6 = 28\n",
       "    return res #28\n",
       "\"\n",
       "  client: str = None\n",
       "  syft_passthrough_attrs: str = ['inputs', 'outputs', 'code', 'actions', 'client']\n",
       "\n",
       "```"
      ],
      "text/plain": [
       "Pointer:\n",
       "Plan\n",
       "Inputs:\n",
       "\t\tx: NumpyArrayObject\n",
       "Actions:\n",
       "\t\t8 Actions\n",
       "Outputs:\n",
       "\t\tNumpyArrayObject\n",
       "\n",
       "Plan code:\n",
       "\"\"\"\n",
       "@planify\n",
       "def my_plan(x=np.array([1,2,3,4,5,6])):\n",
       "    y = x.flatten() # method -> [1,2,3,4,5,6]\n",
       "    min_val = x.min() # method -> 1\n",
       "    s = x.shape # getattribute -> 6    \n",
       "    w = x[min_val] # __getitem__ -> 2\n",
       "    y[min_val] = min_val # __setitem__ y = [1,1,3,4,5,6]\n",
       "    res = client.api.lib.numpy.sum(y) + w + s # client function and __add__ 20 + 2 + 6 = 28\n",
       "    return res #28\n",
       "\n",
       "\"\"\""
      ]
     },
     "execution_count": 17,
     "metadata": {},
     "output_type": "execute_result"
    }
   ],
   "source": [
    "my_plan"
   ]
  },
  {
   "cell_type": "code",
   "execution_count": 18,
   "id": "a22554d7",
   "metadata": {},
   "outputs": [],
   "source": [
    "plan_ptr = my_plan.send(guest_client)"
   ]
  },
  {
   "cell_type": "code",
   "execution_count": 19,
   "id": "db6d9330",
   "metadata": {},
   "outputs": [],
   "source": [
    "input_obj = TwinObject(\n",
    "    private_obj=np.array([1,2,3,4,5,6]),\n",
    "    mock_obj=np.array([1,1,1, 1,1,1])\n",
    ")\n",
    "\n",
    "_id = client.api.services.action.set(input_obj).id\n",
    "pointer = guest_client.api.services.action.get_pointer(_id) "
   ]
  },
  {
   "cell_type": "code",
   "execution_count": 20,
   "id": "2e445ade",
   "metadata": {},
   "outputs": [],
   "source": [
    "res_ptr = plan_ptr(x=pointer)"
   ]
  },
  {
   "cell_type": "code",
   "execution_count": 21,
   "id": "989117ec",
   "metadata": {},
   "outputs": [
    {
     "data": {
      "text/plain": [
       "array([28])"
      ]
     },
     "execution_count": 21,
     "metadata": {},
     "output_type": "execute_result"
    }
   ],
   "source": [
    "res_ptr.get_from(client)"
   ]
  },
  {
   "cell_type": "markdown",
   "id": "cee1d9c1",
   "metadata": {},
   "source": [
    "## Plans with function calls"
   ]
  },
  {
   "cell_type": "code",
   "execution_count": 22,
   "id": "4874cd14",
   "metadata": {},
   "outputs": [],
   "source": [
    "store = worker.get_service(\"actionservice\").store"
   ]
  },
  {
   "cell_type": "code",
   "execution_count": 23,
   "id": "9bc2633d",
   "metadata": {},
   "outputs": [
    {
     "data": {
      "text/plain": [
       "<function syft.client.api.generate_remote_lib_function.<locals>.wrapper(*args, **kwargs)>"
      ]
     },
     "execution_count": 23,
     "metadata": {},
     "output_type": "execute_result"
    }
   ],
   "source": [
    "client.api.lib.numpy.sum"
   ]
  },
  {
   "cell_type": "code",
   "execution_count": 24,
   "id": "a0b36b2e",
   "metadata": {},
   "outputs": [],
   "source": [
    "@planify\n",
    "def my_plan(x=np.array([[2,2,2], [2,2,2]])):\n",
    "    y = x.flatten()\n",
    "    w = client.api.lib.numpy.sum(y)\n",
    "    return w"
   ]
  },
  {
   "cell_type": "code",
   "execution_count": 25,
   "id": "7acd9453",
   "metadata": {},
   "outputs": [],
   "source": [
    "plan_ptr = my_plan.send(guest_client)\n",
    "\n",
    "input_obj = TwinObject(\n",
    "    private_obj=np.array([[3,3,3], [3,3,3]]),\n",
    "    mock_obj=np.array([[1,1,1], [1,1,1]])\n",
    ")\n",
    "\n",
    "input_ptr = client.api.services.action.set(input_obj)\n",
    "pointer = guest_client.api.services.action.get_pointer(input_ptr.id) \n"
   ]
  },
  {
   "cell_type": "code",
   "execution_count": 28,
   "id": "b5303464",
   "metadata": {},
   "outputs": [],
   "source": [
    "res_ptr = plan_ptr(x=pointer)"
   ]
  },
  {
   "cell_type": "code",
   "execution_count": 29,
   "id": "2bcf9a15",
   "metadata": {},
   "outputs": [],
   "source": [
    "assert res_ptr.get_from(client) == 18"
   ]
  },
  {
   "cell_type": "markdown",
   "id": "d3f89fc8",
   "metadata": {},
   "source": [
    "## simple execution (root downloads)"
   ]
  },
  {
   "cell_type": "code",
   "execution_count": 30,
   "id": "8e5513db",
   "metadata": {},
   "outputs": [],
   "source": [
    "store = worker.get_service(\"actionservice\").store"
   ]
  },
  {
   "cell_type": "code",
   "execution_count": 31,
   "id": "d80d1424",
   "metadata": {},
   "outputs": [],
   "source": [
    "@planify\n",
    "def my_plan(x=np.array([[2,2,2], [2,2,2]])):\n",
    "    y = x.flatten()\n",
    "    z = y.prod()\n",
    "    return z\n"
   ]
  },
  {
   "cell_type": "code",
   "execution_count": 32,
   "id": "d654b6ae",
   "metadata": {},
   "outputs": [],
   "source": [
    "plan_ptr = my_plan.send(guest_client)"
   ]
  },
  {
   "cell_type": "code",
   "execution_count": 33,
   "id": "5150eb4b",
   "metadata": {},
   "outputs": [],
   "source": [
    "input_obj = TwinObject(\n",
    "    private_obj=np.array([[3,3,3], [3,3,3]]),\n",
    "    mock_obj=np.array([[1,1,1], [1,1,1]])\n",
    ")"
   ]
  },
  {
   "cell_type": "code",
   "execution_count": 34,
   "id": "e9d135b7",
   "metadata": {},
   "outputs": [],
   "source": [
    "input_ptr = client.api.services.action.set(input_obj)\n"
   ]
  },
  {
   "cell_type": "code",
   "execution_count": 35,
   "id": "25c4506c",
   "metadata": {},
   "outputs": [],
   "source": [
    "pointer = guest_client.api.services.action.get_pointer(input_ptr.id) "
   ]
  },
  {
   "cell_type": "code",
   "execution_count": 36,
   "id": "ea4635a6",
   "metadata": {},
   "outputs": [],
   "source": [
    "res_ptr = plan_ptr(x=pointer)"
   ]
  },
  {
   "cell_type": "code",
   "execution_count": 37,
   "id": "1a01a314",
   "metadata": {},
   "outputs": [
    {
     "data": {
      "text/markdown": [
       "```python\n",
       "class TwinObject:\n",
       "  id: str = 577f7374edf6496694038193381f4d96\n",
       "  private_obj: str = [[3 3 3]\n",
       " [3 3 3]]\n",
       "  private_obj_id: str = 6cca3e484ded49b0b9fcb886783161fb\n",
       "  mock_obj: str = [[1 1 1]\n",
       " [1 1 1]]\n",
       "  mock_obj_id: str = f273dc6bb99741b6bff7356ea1f99947\n",
       "\n",
       "```"
      ],
      "text/plain": [
       "syft.types.twin_object.TwinObject"
      ]
     },
     "execution_count": 37,
     "metadata": {},
     "output_type": "execute_result"
    }
   ],
   "source": [
    "store.data[input_ptr.id]"
   ]
  },
  {
   "cell_type": "code",
   "execution_count": 38,
   "id": "4734147a",
   "metadata": {},
   "outputs": [
    {
     "data": {
      "text/markdown": [
       "```python\n",
       "Pointer\n",
       "```\n",
       "64"
      ],
      "text/plain": [
       "Pointer:\n",
       "64"
      ]
     },
     "execution_count": 38,
     "metadata": {},
     "output_type": "execute_result"
    }
   ],
   "source": [
    "# todo: should be 1\n",
    "res_ptr"
   ]
  },
  {
   "cell_type": "code",
   "execution_count": 40,
   "id": "0de6394d",
   "metadata": {},
   "outputs": [],
   "source": [
    "assert not isinstance(guest_client.api.services.action.get(res_ptr.id), ActionObject)"
   ]
  },
  {
   "cell_type": "code",
   "execution_count": 41,
   "id": "0c9e090c",
   "metadata": {},
   "outputs": [],
   "source": [
    "assert res_ptr.get_from(client) == np.array([[3,3,3], [3,3,3]]).flatten().prod()"
   ]
  },
  {
   "cell_type": "markdown",
   "id": "2c38b395",
   "metadata": {},
   "source": [
    "## Downloading the result"
   ]
  },
  {
   "cell_type": "code",
   "execution_count": 42,
   "id": "349ec6e9",
   "metadata": {},
   "outputs": [
    {
     "data": {
      "text/markdown": [
       "```python\n",
       "class Request:\n",
       "  id: str = 1b915e2d8f0b450a9434d7f577ebd65a\n",
       "  requesting_user_verify_key: str = b4068829a465455c75c90a584acff9b9e7e5bcf7d5b21290d21ab30a8df0861f\n",
       "  approving_user_verify_key: str = None\n",
       "  request_time: str = 2023-05-09 14:10:52\n",
       "  approval_time: str = None\n",
       "  status: str = RequestStatus.PENDING\n",
       "  node_uid: str = 20d3b7820d29e7ffdc7c53435fcad1bd\n",
       "  request_hash: str = \"786c74e396ae64850543b520ba0ac089032cdffef9b6af2aa952773c896c4b41\"\n",
       "  changes: str = [syft.service.request.request.ActionStoreChange]\n",
       "\n",
       "```"
      ],
      "text/plain": [
       "syft.service.request.request.Request"
      ]
     },
     "execution_count": 42,
     "metadata": {},
     "output_type": "execute_result"
    }
   ],
   "source": [
    "res_ptr.request(guest_client)"
   ]
  },
  {
   "cell_type": "code",
   "execution_count": 43,
   "id": "333cc61e",
   "metadata": {},
   "outputs": [
    {
     "data": {
      "text/html": [
       "<div class=\"alert-success\" style=\"padding:5px;\"><strong>SyftSuccess</strong>: Request 1b915e2d8f0b450a9434d7f577ebd65a changes applied</div><br />"
      ],
      "text/plain": [
       "<class 'syft.service.response.SyftSuccess'>: Request 1b915e2d8f0b450a9434d7f577ebd65a changes applied"
      ]
     },
     "execution_count": 43,
     "metadata": {},
     "output_type": "execute_result"
    }
   ],
   "source": [
    "client.api.services.request[0].approve_with_client(client)"
   ]
  },
  {
   "cell_type": "code",
   "execution_count": 44,
   "id": "0c23f9be",
   "metadata": {},
   "outputs": [
    {
     "data": {
      "text/plain": [
       "729"
      ]
     },
     "execution_count": 44,
     "metadata": {},
     "output_type": "execute_result"
    }
   ],
   "source": [
    "res_ptr.get_from(guest_client)"
   ]
  },
  {
   "cell_type": "markdown",
   "id": "a5142d07",
   "metadata": {},
   "source": [
    "# Pointers (Twins)"
   ]
  },
  {
   "cell_type": "markdown",
   "id": "afd997c4",
   "metadata": {},
   "source": [
    "## setattribute"
   ]
  },
  {
   "cell_type": "code",
   "execution_count": 45,
   "id": "e4f3b2f3",
   "metadata": {},
   "outputs": [],
   "source": [
    "worker = sy.Worker.named(\"eager_exec\", reset=True, processes=0)\n",
    "client = worker.root_client\n",
    "guest_client = worker.guest_client"
   ]
  },
  {
   "cell_type": "code",
   "execution_count": 46,
   "id": "705408d5",
   "metadata": {},
   "outputs": [],
   "source": [
    "private_data, mock_data = np.array([[1.0,2.0,3.0], [4.0,5.0,6.0]]), np.array([[1.0,1.0,1.0], [1.0,1.0,1.0]])"
   ]
  },
  {
   "cell_type": "code",
   "execution_count": 47,
   "id": "d9ae4d4d",
   "metadata": {},
   "outputs": [],
   "source": [
    "obj = TwinObject(\n",
    "    private_obj=private_data,\n",
    "    mock_obj=mock_data\n",
    ")"
   ]
  },
  {
   "cell_type": "code",
   "execution_count": 48,
   "id": "9eeb2308",
   "metadata": {},
   "outputs": [],
   "source": [
    "obj_pointer = client.api.services.action.set(obj)\n",
    "obj_pointer = guest_client.api.services.action.get_pointer(obj_pointer.id)"
   ]
  },
  {
   "cell_type": "code",
   "execution_count": 49,
   "id": "48a68b0f",
   "metadata": {},
   "outputs": [],
   "source": [
    "original_id = obj_pointer.id"
   ]
  },
  {
   "cell_type": "code",
   "execution_count": 50,
   "id": "9c3fa760",
   "metadata": {},
   "outputs": [
    {
     "data": {
      "text/markdown": [
       "```python\n",
       "TwinPointer(Mock)\n",
       "```\n",
       "array([[1., 1., 1.],\n",
       "       [1., 1., 1.]])"
      ],
      "text/plain": [
       "TwinPointer(Mock):\n",
       "[[1. 1. 1.]\n",
       " [1. 1. 1.]]"
      ]
     },
     "execution_count": 50,
     "metadata": {},
     "output_type": "execute_result"
    }
   ],
   "source": [
    "obj_pointer"
   ]
  },
  {
   "cell_type": "code",
   "execution_count": 56,
   "id": "2181c597",
   "metadata": {},
   "outputs": [],
   "source": [
    "# note that this messes up the data and the shape of the array\n",
    "obj_pointer.dtype = np.int32  "
   ]
  },
  {
   "cell_type": "code",
   "execution_count": 57,
   "id": "c7216f84",
   "metadata": {},
   "outputs": [],
   "source": [
    "# local object is updated\n",
    "assert obj_pointer.id.id in worker.action_store.data\n",
    "assert obj_pointer.id != original_id"
   ]
  },
  {
   "cell_type": "code",
   "execution_count": 58,
   "id": "2b138409",
   "metadata": {},
   "outputs": [],
   "source": [
    "res = obj_pointer.get_from(client)"
   ]
  },
  {
   "cell_type": "code",
   "execution_count": 59,
   "id": "dc1b79d4",
   "metadata": {},
   "outputs": [],
   "source": [
    "assert res.dtype == np.int32"
   ]
  },
  {
   "cell_type": "code",
   "execution_count": 60,
   "id": "7f4b14b2",
   "metadata": {},
   "outputs": [],
   "source": [
    "private_data.dtype= np.int32\n",
    "mock_data.dtype= np.int32"
   ]
  },
  {
   "cell_type": "code",
   "execution_count": 61,
   "id": "860bfe10",
   "metadata": {},
   "outputs": [],
   "source": [
    "assert (res == private_data).all()\n",
    "assert (obj_pointer.syft_action_data == mock_data).all()\n",
    "assert not (obj_pointer.syft_action_data == private_data).all()"
   ]
  },
  {
   "cell_type": "markdown",
   "id": "b3ddc0ea",
   "metadata": {},
   "source": [
    "## getattribute"
   ]
  },
  {
   "cell_type": "code",
   "execution_count": 62,
   "id": "072de735",
   "metadata": {},
   "outputs": [],
   "source": [
    "worker = sy.Worker.named(\"eager_exec\", reset=True, processes=0)\n",
    "client = worker.root_client\n",
    "guest_client = worker.guest_client"
   ]
  },
  {
   "cell_type": "code",
   "execution_count": 63,
   "id": "e246ac40",
   "metadata": {},
   "outputs": [],
   "source": [
    "obj = TwinObject(\n",
    "    private_obj=np.array([[1,2,3], [4,5,6]]),\n",
    "    mock_obj=np.array([[1,1,1], [1,1,1]])\n",
    ")"
   ]
  },
  {
   "cell_type": "code",
   "execution_count": 64,
   "id": "a390aeab",
   "metadata": {},
   "outputs": [],
   "source": [
    "obj_pointer = client.api.services.action.set(obj)\n",
    "obj_pointer = guest_client.api.services.action.get_pointer(obj_pointer.id)"
   ]
  },
  {
   "cell_type": "code",
   "execution_count": 65,
   "id": "2b51e227",
   "metadata": {},
   "outputs": [],
   "source": [
    "size_pointer = obj_pointer.size   "
   ]
  },
  {
   "cell_type": "code",
   "execution_count": 66,
   "id": "ec8d8aa3",
   "metadata": {},
   "outputs": [],
   "source": [
    "assert size_pointer.id.id in worker.action_store.data"
   ]
  },
  {
   "cell_type": "code",
   "execution_count": 67,
   "id": "98afdfba",
   "metadata": {},
   "outputs": [],
   "source": [
    "assert size_pointer.get_from(client) == 6"
   ]
  },
  {
   "cell_type": "markdown",
   "id": "1a87389c",
   "metadata": {},
   "source": [
    "## methods"
   ]
  },
  {
   "cell_type": "code",
   "execution_count": 68,
   "id": "1cb22343",
   "metadata": {},
   "outputs": [],
   "source": [
    "worker = sy.Worker.named(\"eager_exec\", reset=True, processes=0)\n",
    "client = worker.root_client\n",
    "guest_client = worker.guest_client"
   ]
  },
  {
   "cell_type": "code",
   "execution_count": 69,
   "id": "416edd74",
   "metadata": {},
   "outputs": [],
   "source": [
    "obj = TwinObject(\n",
    "    private_obj=np.array([[1,2,3], [4,5,6]]),\n",
    "    mock_obj=np.array([[1,1,1], [1,1,1]])\n",
    ")"
   ]
  },
  {
   "cell_type": "code",
   "execution_count": 70,
   "id": "c60d6863",
   "metadata": {},
   "outputs": [],
   "source": [
    "obj_pointer = client.api.services.action.set(obj)\n",
    "obj_pointer = guest_client.api.services.action.get_pointer(obj_pointer.id)"
   ]
  },
  {
   "cell_type": "code",
   "execution_count": 71,
   "id": "c5564a23",
   "metadata": {},
   "outputs": [],
   "source": [
    "flat_pointer = obj_pointer.flatten()   "
   ]
  },
  {
   "cell_type": "code",
   "execution_count": 72,
   "id": "65ed2ad7",
   "metadata": {},
   "outputs": [],
   "source": [
    "assert flat_pointer.id.id in worker.action_store.data"
   ]
  },
  {
   "cell_type": "code",
   "execution_count": 73,
   "id": "f6a61302",
   "metadata": {},
   "outputs": [],
   "source": [
    "assert all(flat_pointer.get_from(client) == np.array([1,2,3,4,5,6]))"
   ]
  },
  {
   "cell_type": "markdown",
   "id": "d04b10fb",
   "metadata": {},
   "source": [
    "## Indexing"
   ]
  },
  {
   "cell_type": "code",
   "execution_count": 74,
   "id": "fa3f2f25",
   "metadata": {},
   "outputs": [],
   "source": [
    "worker = sy.Worker.named(\"eager_exec\", reset=True, processes=0)\n",
    "client = worker.root_client\n",
    "guest_client = worker.guest_client"
   ]
  },
  {
   "cell_type": "code",
   "execution_count": 75,
   "id": "3cffeb93",
   "metadata": {},
   "outputs": [],
   "source": [
    "obj = TwinObject(\n",
    "    private_obj=np.array([[1,2,3], [4,5,6]]),\n",
    "    mock_obj=np.array([[1,1,1], [1,1,1]])\n",
    ")"
   ]
  },
  {
   "cell_type": "code",
   "execution_count": 76,
   "id": "02accc40",
   "metadata": {},
   "outputs": [],
   "source": [
    "obj_pointer = client.api.services.action.set(obj)\n",
    "obj_pointer = guest_client.api.services.action.get_pointer(obj_pointer.id)"
   ]
  },
  {
   "cell_type": "code",
   "execution_count": 78,
   "id": "d7a65c33",
   "metadata": {},
   "outputs": [],
   "source": [
    "indexed_pointer = obj_pointer[0, 0:2]   "
   ]
  },
  {
   "cell_type": "code",
   "execution_count": 79,
   "id": "55df0e4a",
   "metadata": {},
   "outputs": [],
   "source": [
    "assert indexed_pointer.id.id in worker.action_store.data"
   ]
  },
  {
   "cell_type": "code",
   "execution_count": 80,
   "id": "e2516c58",
   "metadata": {},
   "outputs": [],
   "source": [
    "assert all(indexed_pointer.get_from(client) == np.array([1,2]))"
   ]
  },
  {
   "cell_type": "code",
   "execution_count": null,
   "id": "a7434243",
   "metadata": {},
   "outputs": [],
   "source": []
  },
  {
   "cell_type": "code",
   "execution_count": null,
   "id": "5e6b6425",
   "metadata": {},
   "outputs": [],
   "source": []
  }
 ],
 "metadata": {
  "kernelspec": {
   "display_name": "Python 3 (ipykernel)",
   "language": "python",
   "name": "python3"
  },
  "language_info": {
   "codemirror_mode": {
    "name": "ipython",
    "version": 3
   },
   "file_extension": ".py",
   "mimetype": "text/x-python",
   "name": "python",
   "nbconvert_exporter": "python",
   "pygments_lexer": "ipython3",
   "version": "3.9.16"
  },
  "toc": {
   "base_numbering": 1,
   "nav_menu": {},
   "number_sections": true,
   "sideBar": true,
   "skip_h1_title": false,
   "title_cell": "Table of Contents",
   "title_sidebar": "Contents",
   "toc_cell": false,
   "toc_position": {},
   "toc_section_display": true,
   "toc_window_display": true
  }
 },
 "nbformat": 4,
 "nbformat_minor": 5
}
