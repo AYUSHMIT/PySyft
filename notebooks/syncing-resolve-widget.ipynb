{
 "cells": [
  {
   "cell_type": "code",
   "execution_count": 1,
   "id": "fe55ca20",
   "metadata": {},
   "outputs": [],
   "source": [
    "from enum import Enum, auto\n",
    "from typing import Any\n",
    "import ipywidgets as widgets\n",
    "from IPython.display import display\n",
    "import json\n",
    "\n",
    "from IPython.display import Javascript, display\n",
    "from ipywidgets import HTML, Button, HBox, Layout, VBox, widgets\n"
   ]
  },
  {
   "cell_type": "code",
   "execution_count": 2,
   "id": "ef871cb1",
   "metadata": {},
   "outputs": [],
   "source": [
    "class DiffStatus(Enum):\n",
    "    NEW = auto()\n",
    "    SAME = auto()\n",
    "    MODIFIED = auto()\n",
    "    DELETED = auto()\n",
    "\n",
    "\n",
    "background_colors = {\n",
    "    DiffStatus.NEW: \"#D5F1D5;\",\n",
    "    DiffStatus.SAME: \"transparent\",\n",
    "    DiffStatus.MODIFIED: \"#FEE9CD;\",\n",
    "    DiffStatus.DELETED: \"#ffdddd;\",\n",
    "}\n",
    "\n",
    "\n",
    "colors = {\n",
    "    DiffStatus.NEW: \"#256B24;\",\n",
    "    DiffStatus.SAME: \"#353243\",\n",
    "    DiffStatus.MODIFIED: \"#B8520A;\",\n",
    "    DiffStatus.DELETED: \"#353243\",\n",
    "}"
   ]
  },
  {
   "cell_type": "code",
   "execution_count": 3,
   "id": "90988bc4",
   "metadata": {},
   "outputs": [],
   "source": [
    "def create_diff_html(title, properties, statusses, line_length=80):\n",
    "    html_str = f\"<div style='font-family: monospace; width: 100%;'>{title}<br>\"\n",
    "    html_str += \"<div style='border-left: 1px solid #B4B0BF; padding-left: 10px;'>\"\n",
    "\n",
    "    for property, status in zip(properties, statusses):\n",
    "        style =f\"background-color: {background_colors[status]}; color: {colors[status]}; display: block; white-space: pre-wrap; margin-bottom: 5px;\"\n",
    "        html_str += f\"<div style='{style}'>{property}</div>\"\n",
    "\n",
    "    html_str += \"</div></div>\"\n",
    "\n",
    "    return html_str"
   ]
  },
  {
   "cell_type": "code",
   "execution_count": 4,
   "id": "1fb43525-a5f2-4cde-8ad5-ca487a45e47f",
   "metadata": {},
   "outputs": [],
   "source": [
    "# TODO use ObjectDiff instead\n",
    "class DiffWidget:\n",
    "    def __init__(\n",
    "        self,\n",
    "        item_type: str,\n",
    "        low_properties: list[str],\n",
    "        high_properties: list[str],\n",
    "        statuses: list[DiffStatus],\n",
    "        is_main_widget: bool = False\n",
    "    ):\n",
    "        self.item_type = item_type\n",
    "        self.low_properties = low_properties\n",
    "        self.high_properties = high_properties\n",
    "        self.statuses = statuses\n",
    "        self.share_private_data=False\n",
    "\n",
    "        self.sync: bool = False\n",
    "        \n",
    "        self.is_main_widget=is_main_widget\n",
    "        self.widget = self._create_widget()\n",
    "        \n",
    "    @property\n",
    "    def show_share_button(self):\n",
    "        return self.item_type in [\"SyftLog\", \"ActionObject\"]\n",
    "    \n",
    "    @property\n",
    "    def show_sync_button(self):\n",
    "        return not self.is_main_widget\n",
    "\n",
    "    @property\n",
    "    def num_changes(self):\n",
    "        return len([x for x in self.statuses if x != DiffStatus.SAME])\n",
    "\n",
    "    @property\n",
    "    def title(self):\n",
    "        return f\"{self.item_type} ({self.num_changes} changes)\"\n",
    "\n",
    "    def set_and_disable_sync(self):\n",
    "        self._sync_checkbox.disabled = True\n",
    "        self._sync_checkbox.value = True\n",
    "\n",
    "    def enable_sync(self):\n",
    "        self._sync_checkbox.disabled = False\n",
    "\n",
    "    def _create_widget(self):\n",
    "        html_low = create_diff_html(\"From\", self.low_properties, self.statuses)\n",
    "        html_high = create_diff_html(\"To\", self.high_properties, self.statuses)\n",
    "\n",
    "        diff_display_widget_old = widgets.HTML(\n",
    "            value=html_low, layout=widgets.Layout(width=\"50%\", overflow=\"auto\")\n",
    "        )\n",
    "        diff_display_widget_new = widgets.HTML(\n",
    "            value=html_high, layout=widgets.Layout(width=\"50%\", overflow=\"auto\")\n",
    "        )\n",
    "        content = widgets.HBox([diff_display_widget_old, diff_display_widget_new])\n",
    "        \n",
    "        checkboxes = []\n",
    "\n",
    "        \n",
    "        if self.show_sync_button:\n",
    "            self._sync_checkbox = widgets.Checkbox(\n",
    "                value=self.sync,\n",
    "                description=\"Sync\",\n",
    "            )\n",
    "            self._sync_checkbox.observe(self._on_sync_change, 'value')\n",
    "            checkboxes.append(self._sync_checkbox)\n",
    "\n",
    "        \n",
    "        if self.show_share_button:\n",
    "            self._share_private_checkbox = widgets.Checkbox(\n",
    "                value=self.share_private_data,\n",
    "                description=\"Share private data\",\n",
    "            )\n",
    "            self._share_private_checkbox.observe(self._on_share_private_data_change, 'value')\n",
    "            checkboxes = [self._share_private_checkbox] + checkboxes\n",
    "            \n",
    "        checkboxes_widget = widgets.HBox(checkboxes)\n",
    "        kwargs = {}\n",
    "        if self.is_main_widget:\n",
    "            kwargs[\"layout\"] = Layout(border='#353243 solid 0.5px', padding=\"16px\")\n",
    "            \n",
    "        widget = widgets.VBox([checkboxes_widget, content], **kwargs)\n",
    "        return widget\n",
    "\n",
    "    def _on_sync_change(self, change):\n",
    "        self.sync = change['new']\n",
    "\n",
    "    def _on_share_private_data_change(self, change):\n",
    "        self.share_private_data = change['new']"
   ]
  },
  {
   "cell_type": "code",
   "execution_count": 5,
   "id": "3eb0f818",
   "metadata": {},
   "outputs": [],
   "source": [
    "fn_str = \"\"\"@syft.function\n",
    "def compute_mean(data: np.ndarray):\n",
    "    print(\"computing mean...\")\n",
    "    return data.mean()\n",
    "\"\"\""
   ]
  },
  {
   "cell_type": "code",
   "execution_count": 6,
   "id": "c19440db",
   "metadata": {},
   "outputs": [],
   "source": [
    "code_diff = DiffWidget(\n",
    "    item_type=\"UserCode\",\n",
    "    low_properties=[\n",
    "        \"status: pending\",\n",
    "        \"approved_by: None\",\n",
    "        \"date_created: 2024-04-27\",\n",
    "        \"code: None\",\n",
    "    ],\n",
    "    high_properties=[\n",
    "        \"status: approved\",\n",
    "        \"approved_by: admin\",\n",
    "        \"date_created: 2024-04-27\",\n",
    "        f\"code: {fn_str}\",\n",
    "    ],\n",
    "    statuses=[\n",
    "        DiffStatus.MODIFIED,\n",
    "        DiffStatus.MODIFIED,\n",
    "        DiffStatus.SAME,\n",
    "        DiffStatus.NEW,\n",
    "    ],\n",
    "    is_main_widget=True\n",
    ")\n"
   ]
  },
  {
   "cell_type": "code",
   "execution_count": 7,
   "id": "e75e6cd2",
   "metadata": {},
   "outputs": [],
   "source": [
    "request_diff = DiffWidget(\n",
    "    item_type=\"Request\",\n",
    "    low_properties=[\n",
    "        \"status: pending\",\n",
    "        \"approved_by: None\",\n",
    "        \"date_created: 2024-04-27\",\n",
    "    ],\n",
    "    high_properties=[\n",
    "        \"status: approved\",\n",
    "        \"approved_by: admin\",\n",
    "        \"date_created: 2024-04-27\",\n",
    "    ],\n",
    "    statuses=[\n",
    "        DiffStatus.MODIFIED,\n",
    "        DiffStatus.MODIFIED,\n",
    "        DiffStatus.SAME,\n",
    "    ],\n",
    ")\n"
   ]
  },
  {
   "cell_type": "code",
   "execution_count": 8,
   "id": "c4f56c90-d8db-4c03-9dd5-0d7b8e5b6e43",
   "metadata": {},
   "outputs": [
    {
     "data": {
      "application/vnd.jupyter.widget-view+json": {
       "model_id": "8a5f29ae9f5a4dfa9c05aa34ebebda94",
       "version_major": 2,
       "version_minor": 0
      },
      "text/plain": [
       "VBox(children=(HBox(), HBox(children=(HTML(value=\"<div style='font-family: monospace; width: 100%;'>From<br><d…"
      ]
     },
     "metadata": {},
     "output_type": "display_data"
    }
   ],
   "source": [
    "main_widget = code_diff\n",
    "batch_widgets = [request_diff]\n",
    "display(code_diff.widget)"
   ]
  },
  {
   "cell_type": "code",
   "execution_count": 9,
   "id": "f81fc919",
   "metadata": {},
   "outputs": [
    {
     "data": {
      "application/vnd.jupyter.widget-view+json": {
       "model_id": "8a5f29ae9f5a4dfa9c05aa34ebebda94",
       "version_major": 2,
       "version_minor": 0
      },
      "text/plain": [
       "VBox(children=(HBox(), HBox(children=(HTML(value=\"<div style='font-family: monospace; width: 100%;'>From<br><d…"
      ]
     },
     "execution_count": 9,
     "metadata": {},
     "output_type": "execute_result"
    }
   ],
   "source": [
    "code_diff.widget"
   ]
  },
  {
   "cell_type": "code",
   "execution_count": 10,
   "id": "30545d2f-16cf-4223-9190-bff1d04a1bf5",
   "metadata": {},
   "outputs": [
    {
     "name": "stdout",
     "output_type": "stream",
     "text": [
      "False False\n"
     ]
    }
   ],
   "source": [
    "print(code_diff.share_private_data, code_diff.sync)"
   ]
  },
  {
   "cell_type": "code",
   "execution_count": 11,
   "id": "1080f6a3",
   "metadata": {},
   "outputs": [
    {
     "data": {
      "text/plain": [
       "True"
      ]
     },
     "execution_count": 11,
     "metadata": {},
     "output_type": "execute_result"
    }
   ],
   "source": [
    "request_diff.show_sync_button"
   ]
  },
  {
   "cell_type": "code",
   "execution_count": 12,
   "id": "d0a4447b-b38f-47b7-ac9a-c91ce698807c",
   "metadata": {},
   "outputs": [
    {
     "name": "stdout",
     "output_type": "stream",
     "text": [
      "False True\n"
     ]
    }
   ],
   "source": [
    "request_diff.set_and_disable_sync()\n",
    "print(request_diff.share_private_data, request_diff.sync)"
   ]
  },
  {
   "cell_type": "code",
   "execution_count": 13,
   "id": "2350351d-9e03-4966-a4a9-7f7f1c12ffe4",
   "metadata": {},
   "outputs": [],
   "source": [
    "request_diff.enable_sync()"
   ]
  },
  {
   "cell_type": "code",
   "execution_count": 14,
   "id": "ad3cb274-c5d1-48ce-9474-6815dd988197",
   "metadata": {},
   "outputs": [
    {
     "data": {
      "application/vnd.jupyter.widget-view+json": {
       "model_id": "cbc893d872fc4ef1ae579d1d03f88f93",
       "version_major": 2,
       "version_minor": 0
      },
      "text/plain": [
       "VBox(children=(HTML(value=\"<span style='color: #B4B0BF;'>Syncing changes on</span>\"), HBox(children=(HTML(valu…"
      ]
     },
     "execution_count": 14,
     "metadata": {},
     "output_type": "execute_result"
    }
   ],
   "source": [
    "\n",
    "\n",
    "def copy_text_button(text: str) -> widgets.Widget:\n",
    "    button = widgets.Button(\n",
    "        icon=\"clone\",\n",
    "        # style={'button_color': 'transparent'},\n",
    "        layout=widgets.Layout(width=\"25px\", height=\"25px\", margin=\"0\", padding=\"0\"),\n",
    "    )\n",
    "    output = widgets.Output(layout=widgets.Layout(display=\"none\"))\n",
    "    copy_js = Javascript(f\"navigator.clipboard.writeText({json.dumps(text)})\")\n",
    "\n",
    "    def on_click(_: widgets.Button) -> None:\n",
    "        output.clear_output()\n",
    "        with output:\n",
    "            display(copy_js)\n",
    "\n",
    "    button.on_click(on_click)\n",
    "\n",
    "    return widgets.Box(\n",
    "        (button, output), layout=widgets.Layout(display=\"flex\", align_items=\"center\")\n",
    "    )\n",
    "\n",
    "def create_item_type_box(item_type):\n",
    "    # TODO different bg for different types (levels?)\n",
    "    style = (\n",
    "        \"background-color: #C2DEF0; \"\n",
    "        \"border-radius: 4px; \"\n",
    "        \"padding: 4px 6px; \"\n",
    "        \"color: #373B7B;\"\n",
    "    )\n",
    "    return HTML(\n",
    "        value=f\"<span style='{style}'>{item_type}</span>\",\n",
    "        layout=Layout(margin=\"0 5px 0 0\")\n",
    "    )\n",
    "\n",
    "def create_name_id_label(item_name, item_id):\n",
    "    item_id_short = item_id[:4] + '...' if len(item_id) > 4 else item_id\n",
    "    return HTML(\n",
    "        value=(\n",
    "            f\"<span style='margin-left: 5px; font-weight: bold; color: #373B7B;'>{item_name}</span> \"\n",
    "            f\"<span style='margin-left: 5px; color: #B4B0BF;'>#{item_id_short}</span>\"\n",
    "        )\n",
    "    )\n",
    "\n",
    "class HeaderWidget:\n",
    "    def __init__(\n",
    "        self,\n",
    "        item_type: str,\n",
    "        item_name: str,\n",
    "        item_id: str,\n",
    "        num_diffs: int,\n",
    "        source_side: str,\n",
    "        target_side: str,\n",
    "    ):\n",
    "        self.item_type = item_type\n",
    "        self.item_name = item_name\n",
    "        self.item_id = item_id\n",
    "        self.num_diffs = num_diffs\n",
    "        self.source_side = source_side\n",
    "        self.target_side = target_side\n",
    "        self.widget = self.create_widget()\n",
    "\n",
    "    def create_widget(self):\n",
    "        type_box = create_item_type_box(self.item_type)\n",
    "        name_id_label = create_name_id_label(self.item_name, self.item_id)\n",
    "        copy_button = copy_text_button(self.item_id)\n",
    "\n",
    "        first_line = HTML(value=\"<span style='color: #B4B0BF;'>Syncing changes on</span>\")\n",
    "        second_line = HBox(\n",
    "            [type_box, name_id_label, copy_button], layout=Layout(align_items=\"center\")\n",
    "        )\n",
    "        third_line = HTML(\n",
    "            value=f\"<span style='color: #5E5A72;'>This would sync <span style='color: #B8520A'>{self.num_diffs} changes </span> from <i>{self.source_side} Node</i> to <i>{self.target_side} Node</i></span>\"\n",
    "        )\n",
    "        fourth_line = HTML(\n",
    "            value=f\"<div style='height: 16px;'></div>\"\n",
    "        )\n",
    "        header = VBox([first_line, second_line, fourth_line])\n",
    "        return header\n",
    "\n",
    "\n",
    "header_widget = HeaderWidget(\n",
    "    item_type=\"Job\",\n",
    "    item_name=\"main_1\",\n",
    "    item_id=\"12345678\",\n",
    "    num_diffs=22,\n",
    "    source_side=\"Low\",\n",
    "    target_side=\"High\",\n",
    ")\n",
    "\n",
    "header_widget.widget"
   ]
  },
  {
   "cell_type": "code",
   "execution_count": 15,
   "id": "656615fb-8fd3-4afb-94ae-aaa66a24b1bc",
   "metadata": {},
   "outputs": [
    {
     "data": {
      "application/vnd.jupyter.widget-view+json": {
       "model_id": "9404c3bc039c452f968691d3a770c446",
       "version_major": 2,
       "version_minor": 0
      },
      "text/plain": [
       "HTML(value='<div style=\"text-align: center; margin: 10px 0; border: 1px dashed #B4B0BF;\"></div>', layout=Layou…"
      ]
     },
     "execution_count": 15,
     "metadata": {},
     "output_type": "execute_result"
    }
   ],
   "source": [
    "\n",
    "separator = widgets.HTML(\n",
    "    value='<div style=\"text-align: center; margin: 10px 0; border: 1px dashed #B4B0BF;\"></div>',\n",
    "    layout=Layout(width=\"100%\"),\n",
    ")\n",
    "\n",
    "separator"
   ]
  },
  {
   "cell_type": "code",
   "execution_count": 16,
   "id": "a30f8178-e872-4980-8f54-7c84983b9b55",
   "metadata": {},
   "outputs": [
    {
     "data": {
      "application/vnd.jupyter.widget-view+json": {
       "model_id": "993822d47c814f2fb622d3d76b598172",
       "version_major": 2,
       "version_minor": 0
      },
      "text/plain": [
       "VBox(children=(VBox(children=(HTML(value=\"<span style='color: #B4B0BF;'>Syncing changes on</span>\"), HBox(chil…"
      ]
     },
     "metadata": {},
     "output_type": "display_data"
    }
   ],
   "source": [
    "header_widget = HeaderWidget(\n",
    "    item_type=\"Code\",\n",
    "    item_name=\"compute_mean\",\n",
    "    item_id=\"12345678\",\n",
    "    num_diffs=2,\n",
    "    source_side=\"Low\",\n",
    "    target_side=\"High\",\n",
    ")\n",
    "\n",
    "main_accordion = widgets.Accordion(\n",
    "    children=[d.widget for d in batch_widgets], titles=[d.title for d in batch_widgets]\n",
    ")\n",
    "dependencies_accordion = widgets.Accordion(\n",
    "    children=[d.widget for d in batch_widgets], titles=[d.title for d in batch_widgets]\n",
    ")\n",
    "full_widget = widgets.VBox([header_widget.widget,\n",
    "                            main_widget.widget,\n",
    "                            main_accordion,\n",
    "                            separator,\n",
    "                            dependencies_accordion])\n",
    "# full_widget = widgets.VBox([header_widget.widget, main_accordion, separator, dependencies_accordion])\n",
    "display(full_widget)"
   ]
  },
  {
   "cell_type": "markdown",
   "id": "82e4a70e-4b00-4e1b-b78e-c97e6a00e8fb",
   "metadata": {},
   "source": [
    "# TODO\n",
    "\n",
    "- integrate with ObjectDiff / ObjectDiffBatch\n",
    "- set diff_widget.set_and_disable_sync based on dependencies\n",
    "- expand button for long properties (figma log)\n",
    "- checkboxes in accordion header\n",
    "- styling\n",
    "- "
   ]
  },
  {
   "cell_type": "code",
   "execution_count": null,
   "id": "941235e7",
   "metadata": {},
   "outputs": [],
   "source": []
  }
 ],
 "metadata": {
  "kernelspec": {
   "display_name": "Python 3 (ipykernel)",
   "language": "python",
   "name": "python3"
  },
  "language_info": {
   "codemirror_mode": {
    "name": "ipython",
    "version": 3
   },
   "file_extension": ".py",
   "mimetype": "text/x-python",
   "name": "python",
   "nbconvert_exporter": "python",
   "pygments_lexer": "ipython3",
   "version": "3.12.2"
  },
  "toc": {
   "base_numbering": 1,
   "nav_menu": {},
   "number_sections": true,
   "sideBar": true,
   "skip_h1_title": false,
   "title_cell": "Table of Contents",
   "title_sidebar": "Contents",
   "toc_cell": false,
   "toc_position": {},
   "toc_section_display": true,
   "toc_window_display": true
  },
  "widgets": {
   "application/vnd.jupyter.widget-state+json": {
    "state": {
     "000ab1fdfe3e4aed81e63d5c0d0b3721": {
      "model_module": "@jupyter-widgets/controls",
      "model_module_version": "2.0.0",
      "model_name": "VBoxModel",
      "state": {
       "children": [
        "IPY_MODEL_624d3f4e5682414f8fc19cded6214424"
       ],
       "layout": "IPY_MODEL_2470ae498392403496bf464214397d91"
      }
     },
     "001d273f5a2e41d5b227ad35c2148c57": {
      "model_module": "@jupyter-widgets/base",
      "model_module_version": "2.0.0",
      "model_name": "LayoutModel",
      "state": {}
     },
     "001dce95d46f49b081b7ec299acaad59": {
      "model_module": "@jupyter-widgets/controls",
      "model_module_version": "2.0.0",
      "model_name": "ButtonStyleModel",
      "state": {
       "font_family": null,
       "font_size": null,
       "font_style": null,
       "font_variant": null,
       "font_weight": null,
       "text_color": null,
       "text_decoration": null
      }
     },
     "0038b2f771164264949d36a82cf703eb": {
      "model_module": "@jupyter-widgets/controls",
      "model_module_version": "2.0.0",
      "model_name": "ButtonStyleModel",
      "state": {
       "font_family": null,
       "font_size": null,
       "font_style": null,
       "font_variant": null,
       "font_weight": null,
       "text_color": null,
       "text_decoration": null
      }
     },
     "009c1a80fd9e4d37a1ed200aaeac9fda": {
      "model_module": "@jupyter-widgets/controls",
      "model_module_version": "2.0.0",
      "model_name": "CheckboxStyleModel",
      "state": {
       "description_width": ""
      }
     },
     "00e44e1b06c844eb875eff9a2f26ddbc": {
      "model_module": "@jupyter-widgets/base",
      "model_module_version": "2.0.0",
      "model_name": "LayoutModel",
      "state": {
       "overflow": "auto",
       "width": "50%"
      }
     },
     "01064a9aa46344cf92828a3c7483df78": {
      "model_module": "@jupyter-widgets/controls",
      "model_module_version": "2.0.0",
      "model_name": "HTMLStyleModel",
      "state": {
       "description_width": "",
       "font_size": null,
       "text_color": null
      }
     },
     "0110afd64fc849918b8f0814eab19a46": {
      "model_module": "@jupyter-widgets/controls",
      "model_module_version": "2.0.0",
      "model_name": "HTMLModel",
      "state": {
       "layout": "IPY_MODEL_38b91d8b869c4630b02aafe1e21e3c57",
       "style": "IPY_MODEL_678cfcc7fcb94f4a83a7362ca2af582f",
       "value": "<div style='font-family: monospace; width: 100%;'><b>Low side</b><br><div style='border-left: 1px solid #000; padding-left: 10px;'><div style='background-color: #FEE9CD;; color: #B8520A;; display: block; white-space: pre-wrap; margin-bottom: 5px;'>status: pending</div><div style='background-color: #FEE9CD;; color: #B8520A;; display: block; white-space: pre-wrap; margin-bottom: 5px;'>approved_by: None</div><div style='background-color: transparent; color: #353243; display: block; white-space: pre-wrap; margin-bottom: 5px;'>date_created: 2024-04-27</div><div style='background-color: #D5F1D5;; color: #256B24;; display: block; white-space: pre-wrap; margin-bottom: 5px;'>code: None</div></div></div>"
      }
     },
     "0123b2389d4b4751a19df1e75a8340ff": {
      "model_module": "@jupyter-widgets/base",
      "model_module_version": "2.0.0",
      "model_name": "LayoutModel",
      "state": {}
     },
     "012cca01fc694ed5893ac4e91261091a": {
      "model_module": "@jupyter-widgets/base",
      "model_module_version": "2.0.0",
      "model_name": "LayoutModel",
      "state": {}
     },
     "01a85c7e49054727843d060e4e314a5e": {
      "model_module": "@jupyter-widgets/controls",
      "model_module_version": "2.0.0",
      "model_name": "BoxModel",
      "state": {
       "children": [
        "IPY_MODEL_f9a45383230a498890449093791ddf15",
        "IPY_MODEL_741412f641ee46cbb0f1745a46e41509"
       ],
       "layout": "IPY_MODEL_a2677d8f638a4d45ac21a8b23fc9f33d"
      }
     },
     "01d0d957291d40298ac1842e86dd434b": {
      "model_module": "@jupyter-widgets/base",
      "model_module_version": "2.0.0",
      "model_name": "LayoutModel",
      "state": {
       "margin": "0 5px 0 0"
      }
     },
     "02188ad6b5944df3acc0b553d72f9dae": {
      "model_module": "@jupyter-widgets/base",
      "model_module_version": "2.0.0",
      "model_name": "LayoutModel",
      "state": {}
     },
     "0235e610d88446a78b1d8a959276e90a": {
      "model_module": "@jupyter-widgets/base",
      "model_module_version": "2.0.0",
      "model_name": "LayoutModel",
      "state": {}
     },
     "02440dbf61e74ab2ae955f61e7078e48": {
      "model_module": "@jupyter-widgets/controls",
      "model_module_version": "2.0.0",
      "model_name": "HTMLModel",
      "state": {
       "layout": "IPY_MODEL_e91db29e643f4097b4bc7ac108b15e55",
       "style": "IPY_MODEL_f26a910a49b84ab29a404011cf9f998c",
       "value": "<div style='font-family: monospace; width: 100%;'><b>Low side</b><br><div style='border-left: 1px solid #000; padding-left: 10px;'><div style='background-color: #ffffcc;display: block; white-space: pre-wrap; margin-bottom: 5px;'>status: pending</div><div style='background-color: #ffffcc;display: block; white-space: pre-wrap; margin-bottom: 5px;'>approved_by: None</div><div style='display: block; white-space: pre-wrap; margin-bottom: 5px;'>date_created: 2024-04-27</div></div></div>"
      }
     },
     "025d09a87d5c428a92a51cced5f226cd": {
      "model_module": "@jupyter-widgets/base",
      "model_module_version": "2.0.0",
      "model_name": "LayoutModel",
      "state": {}
     },
     "0272669f5001446f8d6886f77577d0a9": {
      "model_module": "@jupyter-widgets/controls",
      "model_module_version": "2.0.0",
      "model_name": "HTMLModel",
      "state": {
       "layout": "IPY_MODEL_70cf8b8b55944ae28e69bd958b0408f5",
       "style": "IPY_MODEL_6c376e1236eb489e972ee87f32f14a97",
       "value": "<span style='margin-left: 5px; font-weight: bold; color: #373B7B;'>compute_mean</span> <span style='margin-left: 5px; color: #B4B0BF;'>#1234...</span>"
      }
     },
     "02c80879d52947b78b993038dbb43744": {
      "model_module": "@jupyter-widgets/base",
      "model_module_version": "2.0.0",
      "model_name": "LayoutModel",
      "state": {
       "display": "none"
      }
     },
     "030a07ca7cdd44838c3d3653b86f624f": {
      "model_module": "@jupyter-widgets/base",
      "model_module_version": "2.0.0",
      "model_name": "LayoutModel",
      "state": {}
     },
     "031deed182044a119f9d6aed45561584": {
      "model_module": "@jupyter-widgets/controls",
      "model_module_version": "2.0.0",
      "model_name": "HBoxModel",
      "state": {
       "layout": "IPY_MODEL_7ae179fe9824459aa32f69bd7b1ac8dc"
      }
     },
     "03402a9bb3e7465ab061a44fab89a621": {
      "model_module": "@jupyter-widgets/controls",
      "model_module_version": "2.0.0",
      "model_name": "HTMLStyleModel",
      "state": {
       "description_width": "",
       "font_size": null,
       "text_color": null
      }
     },
     "034a3c3c7ae2460b82ad217fbbfb7737": {
      "model_module": "@jupyter-widgets/base",
      "model_module_version": "2.0.0",
      "model_name": "LayoutModel",
      "state": {}
     },
     "0364f90ee8154347bb77e2064a9d2716": {
      "model_module": "@jupyter-widgets/controls",
      "model_module_version": "2.0.0",
      "model_name": "AccordionModel",
      "state": {
       "children": [
        "IPY_MODEL_c68b8dbc4c684a9e90c9f32b24f6b294",
        "IPY_MODEL_6d6518d12798425589ed41258b43ebc3"
       ],
       "layout": "IPY_MODEL_508dcfbd7dda40db9779213de37c206b",
       "titles": [
        "UserCode (3 changes)",
        "Request (2 changes)"
       ]
      }
     },
     "03bcd66dc8af48caa5ca2f3fc4b48471": {
      "model_module": "@jupyter-widgets/base",
      "model_module_version": "2.0.0",
      "model_name": "LayoutModel",
      "state": {}
     },
     "03e61f9f52f04c429b2781c42f261f5b": {
      "model_module": "@jupyter-widgets/base",
      "model_module_version": "2.0.0",
      "model_name": "LayoutModel",
      "state": {
       "border_bottom": "#353243 solid 0.5px",
       "border_left": "#353243 solid 0.5px",
       "border_right": "#353243 solid 0.5px",
       "border_top": "#353243 solid 0.5px",
       "padding": "16px"
      }
     },
     "0403aa6cc578455bbfd66ecd8c4640fe": {
      "model_module": "@jupyter-widgets/controls",
      "model_module_version": "2.0.0",
      "model_name": "HTMLModel",
      "state": {
       "layout": "IPY_MODEL_a6d889b31d3c403aac65198a86aa97e4",
       "style": "IPY_MODEL_b4b5d2c41b684928897cf11ff44319e6",
       "value": "<span style='margin-left: 5px; font-weight: bold; color: #373B7B;'>main_1</span> <span style='margin-left: 5px; color: #B4B0BF;'>#1234...</span>"
      }
     },
     "04174f5009e74db68a3256d1fbee727e": {
      "model_module": "@jupyter-widgets/base",
      "model_module_version": "2.0.0",
      "model_name": "LayoutModel",
      "state": {}
     },
     "0418d4d0939a4dd1a23351fd21f7dc8c": {
      "model_module": "@jupyter-widgets/controls",
      "model_module_version": "2.0.0",
      "model_name": "HTMLStyleModel",
      "state": {
       "description_width": "",
       "font_size": null,
       "text_color": null
      }
     },
     "044ed1ec5a084cafb5bdec9948a5eda7": {
      "model_module": "@jupyter-widgets/controls",
      "model_module_version": "2.0.0",
      "model_name": "HTMLStyleModel",
      "state": {
       "description_width": "",
       "font_size": null,
       "text_color": null
      }
     },
     "04d958d758f640838a19301a7c356c50": {
      "model_module": "@jupyter-widgets/controls",
      "model_module_version": "2.0.0",
      "model_name": "HTMLStyleModel",
      "state": {
       "description_width": "",
       "font_size": null,
       "text_color": null
      }
     },
     "04ef6de43c87432d91f5189a509001d1": {
      "model_module": "@jupyter-widgets/controls",
      "model_module_version": "2.0.0",
      "model_name": "LabelModel",
      "state": {
       "layout": "IPY_MODEL_ae3b970b64ad46818832a9668291b06b",
       "style": "IPY_MODEL_644e38db11cd4a63bc22d00460735cc7",
       "value": "Text2"
      }
     },
     "0525a3b3486c4094ae211b0a03ff82bf": {
      "model_module": "@jupyter-widgets/controls",
      "model_module_version": "2.0.0",
      "model_name": "HTMLModel",
      "state": {
       "layout": "IPY_MODEL_01d0d957291d40298ac1842e86dd434b",
       "style": "IPY_MODEL_65bff146a5e54973b5b92ea05bf5a818",
       "value": "<span style='background-color: #C2DEF0; border-radius: 4px; padding: 4px 6px; color: #373B7B;'>Job</span>"
      }
     },
     "05272d8380064f2db218c3360bd54dfb": {
      "model_module": "@jupyter-widgets/base",
      "model_module_version": "2.0.0",
      "model_name": "LayoutModel",
      "state": {
       "overflow": "auto",
       "width": "50%"
      }
     },
     "052c08754f4245359de9b2112e5d3c74": {
      "model_module": "@jupyter-widgets/controls",
      "model_module_version": "2.0.0",
      "model_name": "HTMLModel",
      "state": {
       "layout": "IPY_MODEL_b32b903b893a47559198037b7516d59e",
       "style": "IPY_MODEL_01064a9aa46344cf92828a3c7483df78",
       "value": "<span style='background-color: #C2DEF0; border-radius: 4px; padding: 4px 6px; color: #373B7B;'>Code</span>"
      }
     },
     "0587af4a26b04e29a34d6aa7cffd212f": {
      "model_module": "@jupyter-widgets/base",
      "model_module_version": "2.0.0",
      "model_name": "LayoutModel",
      "state": {
       "align_items": "center",
       "display": "flex"
      }
     },
     "05958381069c4df0988bdb141674a65b": {
      "model_module": "@jupyter-widgets/controls",
      "model_module_version": "2.0.0",
      "model_name": "HTMLModel",
      "state": {
       "layout": "IPY_MODEL_74dd685cc8a440bba955074b06333787",
       "style": "IPY_MODEL_35fcf045b1f4402a9ee2aba7e241d28b",
       "value": "<span style='background-color: #C2DEF0; border-radius: 4px; padding: 4px 6px; color: #373B7B;'>Job</span>"
      }
     },
     "05deb37d2f58408f81758b5c3b37ac64": {
      "model_module": "@jupyter-widgets/controls",
      "model_module_version": "2.0.0",
      "model_name": "HTMLStyleModel",
      "state": {
       "description_width": "",
       "font_size": null,
       "text_color": null
      }
     },
     "05dfe2ef0e08407daeb8432265b782d6": {
      "model_module": "@jupyter-widgets/controls",
      "model_module_version": "2.0.0",
      "model_name": "BoxModel",
      "state": {
       "children": [
        "IPY_MODEL_372f80c5af854b8aa5775b79a0932b79",
        "IPY_MODEL_1cee61d84128421ebbd397839a901ee5"
       ],
       "layout": "IPY_MODEL_1463ec4a358f4d149277c69cb8ca0fb5"
      }
     },
     "05f0715d35a84c36863eac501a569b71": {
      "model_module": "@jupyter-widgets/controls",
      "model_module_version": "2.0.0",
      "model_name": "VBoxModel",
      "state": {
       "children": [
        "IPY_MODEL_96fdd683288344eeb62ccdff4e4863b6",
        "IPY_MODEL_cb0d5a5854c044cfbbe70824720011f2"
       ],
       "layout": "IPY_MODEL_5b9ade701e404b2fa11ae70131ecbe70"
      }
     },
     "05f5f437e37e488f92f1f49c9309d3ea": {
      "model_module": "@jupyter-widgets/base",
      "model_module_version": "2.0.0",
      "model_name": "LayoutModel",
      "state": {}
     },
     "0645bd0ad4fd4c44b26d3f51972d1c39": {
      "model_module": "@jupyter-widgets/controls",
      "model_module_version": "2.0.0",
      "model_name": "BoxModel",
      "state": {
       "children": [
        "IPY_MODEL_9e49b7f65e1441dd9e2f65ea94534b20",
        "IPY_MODEL_b8afd13aafbb440a9baabdc734564223"
       ],
       "layout": "IPY_MODEL_3bab1654b2a5487fb60cf8aac2ea5119"
      }
     },
     "065456d4eb8e489b840c1ddcd57f5bfd": {
      "model_module": "@jupyter-widgets/controls",
      "model_module_version": "2.0.0",
      "model_name": "HTMLStyleModel",
      "state": {
       "description_width": "",
       "font_size": null,
       "text_color": null
      }
     },
     "0691e79f454f49b9a2320610a0d0e5b2": {
      "model_module": "@jupyter-widgets/base",
      "model_module_version": "2.0.0",
      "model_name": "LayoutModel",
      "state": {
       "margin": "0 5px 0 0"
      }
     },
     "06ae3fd4ad7547c9894c638c910d37cd": {
      "model_module": "@jupyter-widgets/controls",
      "model_module_version": "2.0.0",
      "model_name": "HTMLModel",
      "state": {
       "layout": "IPY_MODEL_375daad0cbad4500a44f31809652f6f6",
       "style": "IPY_MODEL_295fe0271df8424f838d11ca8cfb27ab",
       "value": "<div style='font-family: monospace; width: 100%;'><b>Low side</b><br><div style='border-left: 1px solid #000; padding-left: 10px;'><div style='background-color: #FEE9CD;; color: #B8520A;; display: block; white-space: pre-wrap; margin-bottom: 5px;'>status: pending</div><div style='background-color: #FEE9CD;; color: #B8520A;; display: block; white-space: pre-wrap; margin-bottom: 5px;'>approved_by: None</div><div style='background-color: transparent; color: #353243; display: block; white-space: pre-wrap; margin-bottom: 5px;'>date_created: 2024-04-27</div><div style='background-color: #D5F1D5;; color: #256B24;; display: block; white-space: pre-wrap; margin-bottom: 5px;'>code: None</div></div></div>"
      }
     },
     "06b291f3422d4f0bb316ab1d2265d99d": {
      "model_module": "@jupyter-widgets/base",
      "model_module_version": "2.0.0",
      "model_name": "LayoutModel",
      "state": {}
     },
     "072384d70f184e9697d2f34cc5f9363d": {
      "model_module": "@jupyter-widgets/base",
      "model_module_version": "2.0.0",
      "model_name": "LayoutModel",
      "state": {
       "overflow": "auto",
       "width": "50%"
      }
     },
     "072c3af859954629831bc989a169ec77": {
      "model_module": "@jupyter-widgets/controls",
      "model_module_version": "2.0.0",
      "model_name": "HTMLModel",
      "state": {
       "layout": "IPY_MODEL_6ada41febdd94f32b03aeffbb3bc99ee",
       "style": "IPY_MODEL_e87e737f2c16467e8d795707f36a8efb",
       "value": "<div style='font-family: monospace; width: 100%;'><b>High side</b><br><div style='border-left: 1px solid #000; padding-left: 10px;'><div style='background-color: #FEE9CD;; color: #B8520A;; display: block; white-space: pre-wrap; margin-bottom: 5px;'>status: approved</div><div style='background-color: #FEE9CD;; color: #B8520A;; display: block; white-space: pre-wrap; margin-bottom: 5px;'>approved_by: admin</div><div style='background-color: transparent; color: #353243; display: block; white-space: pre-wrap; margin-bottom: 5px;'>date_created: 2024-04-27</div></div></div>"
      }
     },
     "07609f261bf14f8aab12c99f0f3d5f23": {
      "model_module": "@jupyter-widgets/base",
      "model_module_version": "2.0.0",
      "model_name": "LayoutModel",
      "state": {
       "border_bottom": "solid 1px",
       "border_left": "solid 1px",
       "border_right": "solid 1px",
       "border_top": "solid 1px"
      }
     },
     "0790a2889d474e88b345fcdbc1fe0a83": {
      "model_module": "@jupyter-widgets/base",
      "model_module_version": "2.0.0",
      "model_name": "LayoutModel",
      "state": {
       "border_bottom": "#353243 solid 0.5px",
       "border_left": "#353243 solid 0.5px",
       "border_right": "#353243 solid 0.5px",
       "border_top": "#353243 solid 0.5px",
       "padding": "16px"
      }
     },
     "07c6eaf9d16c4719b63e46ceb6d118ef": {
      "model_module": "@jupyter-widgets/controls",
      "model_module_version": "2.0.0",
      "model_name": "AccordionModel",
      "state": {
       "children": [
        "IPY_MODEL_c68b8dbc4c684a9e90c9f32b24f6b294",
        "IPY_MODEL_6d6518d12798425589ed41258b43ebc3"
       ],
       "layout": "IPY_MODEL_001d273f5a2e41d5b227ad35c2148c57",
       "titles": [
        "UserCode (3 changes)",
        "Request (2 changes)"
       ]
      }
     },
     "07c983e39b664bff8d5101b2e42d2f28": {
      "model_module": "@jupyter-widgets/controls",
      "model_module_version": "2.0.0",
      "model_name": "HBoxModel",
      "state": {
       "children": [
        "IPY_MODEL_c4e7334970c246e7855e8f4e3706019f",
        "IPY_MODEL_20971627aeb344a484ecb556d08245f1"
       ],
       "layout": "IPY_MODEL_7d17d05f1fa44eeaaa5bc2832fddb0a8"
      }
     },
     "07d86a3014b242e1bea680d2cffb3312": {
      "model_module": "@jupyter-widgets/base",
      "model_module_version": "2.0.0",
      "model_name": "LayoutModel",
      "state": {
       "align_items": "center"
      }
     },
     "07f2158a38c548e584cfaffe29c3ac2b": {
      "model_module": "@jupyter-widgets/controls",
      "model_module_version": "2.0.0",
      "model_name": "BoxModel",
      "state": {
       "children": [
        "IPY_MODEL_bc46631b4d0a42e48b5c8cbdc7631e25",
        "IPY_MODEL_2011ff32765f4655ba6aa6b7f2081891"
       ],
       "layout": "IPY_MODEL_8ebff32457904b9dbbe1a57a8624cc88"
      }
     },
     "080289200ed2494db8e3bf8987df38d9": {
      "model_module": "@jupyter-widgets/base",
      "model_module_version": "2.0.0",
      "model_name": "LayoutModel",
      "state": {
       "margin": "0 5px 0 0"
      }
     },
     "0873f321940141ab9a833d6e1ec791da": {
      "model_module": "@jupyter-widgets/controls",
      "model_module_version": "2.0.0",
      "model_name": "HTMLStyleModel",
      "state": {
       "description_width": "",
       "font_size": null,
       "text_color": null
      }
     },
     "08a48cc0fd05470faac4a0620376059f": {
      "model_module": "@jupyter-widgets/controls",
      "model_module_version": "2.0.0",
      "model_name": "VBoxModel",
      "state": {
       "children": [
        "IPY_MODEL_d45b0b2e6442490a841e5ae505f246bc",
        "IPY_MODEL_3b8e7f5548c643048bfdd58516314942"
       ],
       "layout": "IPY_MODEL_c8d8513547194153bca8e5931ae2a6e8"
      }
     },
     "08aa8eb5f3f648f48f10983ee55be382": {
      "model_module": "@jupyter-widgets/base",
      "model_module_version": "2.0.0",
      "model_name": "LayoutModel",
      "state": {}
     },
     "08d0981352fa455aac48d4e1bc32e04d": {
      "model_module": "@jupyter-widgets/base",
      "model_module_version": "2.0.0",
      "model_name": "LayoutModel",
      "state": {
       "overflow": "auto",
       "width": "50%"
      }
     },
     "08d3a57d0edf431791d155368a9a1db3": {
      "model_module": "@jupyter-widgets/controls",
      "model_module_version": "2.0.0",
      "model_name": "HTMLStyleModel",
      "state": {
       "description_width": "",
       "font_size": null,
       "text_color": null
      }
     },
     "095f71f4c6f14d1ab56418915d8f2a31": {
      "model_module": "@jupyter-widgets/controls",
      "model_module_version": "2.0.0",
      "model_name": "HBoxModel",
      "state": {
       "layout": "IPY_MODEL_ba28e2f54b194845beec891e890cde5d"
      }
     },
     "096c1ad5dd8646518877a810ec40438b": {
      "model_module": "@jupyter-widgets/controls",
      "model_module_version": "2.0.0",
      "model_name": "HTMLModel",
      "state": {
       "layout": "IPY_MODEL_37a1e9490cd544dfaf526ce0d0de65a5",
       "style": "IPY_MODEL_77be83949c5147d89470387861eef2ee",
       "value": "<div style='font-family: monospace; width: 100%;'><b>High side</b><br><div style='border-left: 1px solid #000; padding-left: 10px;'><div style='background-color: #FEE9CD;; color: #B8520A;; display: block; white-space: pre-wrap; margin-bottom: 5px;'>status: approved</div><div style='background-color: #FEE9CD;; color: #B8520A;; display: block; white-space: pre-wrap; margin-bottom: 5px;'>approved_by: admin</div><div style='background-color: transparent; color: #353243; display: block; white-space: pre-wrap; margin-bottom: 5px;'>date_created: 2024-04-27</div><div style='background-color: #D5F1D5;; color: #256B24;; display: block; white-space: pre-wrap; margin-bottom: 5px;'>code: @syft.function\ndef compute_mean(data: np.ndarray):\n    print(\"computing mean...\")\n    return data.mean()\n</div></div></div>"
      }
     },
     "09c10782463c499ba11c42388d8d8341": {
      "model_module": "@jupyter-widgets/output",
      "model_module_version": "1.0.0",
      "model_name": "OutputModel",
      "state": {
       "layout": "IPY_MODEL_3044b5a9dd0e49cb99ff9f4d21b413ff"
      }
     },
     "09c28ab489534d469af24a965ad6a152": {
      "model_module": "@jupyter-widgets/base",
      "model_module_version": "2.0.0",
      "model_name": "LayoutModel",
      "state": {}
     },
     "09ca95af4d364859a68a1ed38c075141": {
      "model_module": "@jupyter-widgets/controls",
      "model_module_version": "2.0.0",
      "model_name": "BoxModel",
      "state": {
       "children": [
        "IPY_MODEL_6f63477db9d748fbbdfcf1bf142f4847",
        "IPY_MODEL_dabf09e6d4cd41b9933978dd86dc44ed"
       ],
       "layout": "IPY_MODEL_3eee2c37642744d5a2faff0022e7a705"
      }
     },
     "09eb20cf2b564f60a3788763308116dd": {
      "model_module": "@jupyter-widgets/controls",
      "model_module_version": "2.0.0",
      "model_name": "HTMLModel",
      "state": {
       "layout": "IPY_MODEL_fbebfdb3c027482490bf601edee31819",
       "style": "IPY_MODEL_54fcbb558dd046a2a1459bef70201881",
       "value": "<div style='font-family: monospace; width: 100%;'><b>High side</b><br><div style='border-left: 1px solid #000; padding-left: 10px;'><div style='background-color: #FEE9CD;; color: #B8520A;; display: block; white-space: pre-wrap; margin-bottom: 5px;'>status: approved</div><div style='background-color: #FEE9CD;; color: #B8520A;; display: block; white-space: pre-wrap; margin-bottom: 5px;'>approved_by: admin</div><div style='background-color: transparent; color: #353243; display: block; white-space: pre-wrap; margin-bottom: 5px;'>date_created: 2024-04-27</div><div style='background-color: #D5F1D5;; color: #256B24;; display: block; white-space: pre-wrap; margin-bottom: 5px;'>code: @syft.function\ndef compute_mean(data: np.ndarray):\n    print(\"computing mean...\")\n    return data.mean()\n</div></div></div>"
      }
     },
     "0ad701a1662d447ca434b3ae8b09b354": {
      "model_module": "@jupyter-widgets/controls",
      "model_module_version": "2.0.0",
      "model_name": "CheckboxModel",
      "state": {
       "description": "Share private data",
       "disabled": false,
       "layout": "IPY_MODEL_50a4b7d802f54e338729fc5271f16fe6",
       "style": "IPY_MODEL_9f99364ba583407fb508f7860975e505",
       "value": false
      }
     },
     "0af6bf74caf74080bf6b3975e8b80cfe": {
      "model_module": "@jupyter-widgets/base",
      "model_module_version": "2.0.0",
      "model_name": "LayoutModel",
      "state": {
       "display": "none"
      }
     },
     "0baac521e46941be8a5b2f3ec5538016": {
      "model_module": "@jupyter-widgets/controls",
      "model_module_version": "2.0.0",
      "model_name": "VBoxModel",
      "state": {
       "children": [
        "IPY_MODEL_26480f3cf3fa46b0b1a816389bce8429",
        "IPY_MODEL_ce51858268b94aeba4cd070c2c556ffe",
        "IPY_MODEL_38925569306d4f91aaf70d4b6f7c32ae",
        "IPY_MODEL_07c6eaf9d16c4719b63e46ceb6d118ef"
       ],
       "layout": "IPY_MODEL_225eeafc38734f51817fdd157956d08c"
      }
     },
     "0bb2c98a639945f28f42c19599354126": {
      "model_module": "@jupyter-widgets/controls",
      "model_module_version": "2.0.0",
      "model_name": "HTMLStyleModel",
      "state": {
       "description_width": "",
       "font_size": null,
       "text_color": null
      }
     },
     "0bb872756f3a4e5ebae2d0caccec079d": {
      "model_module": "@jupyter-widgets/base",
      "model_module_version": "2.0.0",
      "model_name": "LayoutModel",
      "state": {}
     },
     "0bca76b9cefa4feab9b1e3f5c5df443c": {
      "model_module": "@jupyter-widgets/base",
      "model_module_version": "2.0.0",
      "model_name": "LayoutModel",
      "state": {}
     },
     "0beb6cdc1be84401b159c2174d19d2a8": {
      "model_module": "@jupyter-widgets/base",
      "model_module_version": "2.0.0",
      "model_name": "LayoutModel",
      "state": {
       "display": "none"
      }
     },
     "0bf0f348c2334696877854d015463f83": {
      "model_module": "@jupyter-widgets/controls",
      "model_module_version": "2.0.0",
      "model_name": "HTMLStyleModel",
      "state": {
       "description_width": "",
       "font_size": null,
       "text_color": null
      }
     },
     "0c10d439075c45a2a778551b53bc4cf4": {
      "model_module": "@jupyter-widgets/base",
      "model_module_version": "2.0.0",
      "model_name": "LayoutModel",
      "state": {
       "overflow": "auto",
       "width": "50%"
      }
     },
     "0c58c72ea885465abcd863dcc831abd7": {
      "model_module": "@jupyter-widgets/controls",
      "model_module_version": "2.0.0",
      "model_name": "VBoxModel",
      "state": {
       "children": [
        "IPY_MODEL_095f71f4c6f14d1ab56418915d8f2a31",
        "IPY_MODEL_22ec88c340054fc8a3cfcf52fcca0a73"
       ],
       "layout": "IPY_MODEL_8f729e111f1c4f69806004c4db88aabe"
      }
     },
     "0c7fbd53a07b443992b80a9534fe4409": {
      "model_module": "@jupyter-widgets/base",
      "model_module_version": "2.0.0",
      "model_name": "LayoutModel",
      "state": {
       "height": "25px",
       "margin": "0",
       "padding": "0",
       "width": "25px"
      }
     },
     "0cdc5055b9f6448faccde25e12ff43a6": {
      "model_module": "@jupyter-widgets/base",
      "model_module_version": "2.0.0",
      "model_name": "LayoutModel",
      "state": {
       "border_bottom": "solid 1px",
       "border_left": "solid 1px",
       "border_right": "solid 1px",
       "border_top": "solid 1px",
       "padding": "5 5 5 5"
      }
     },
     "0cee8f4f5ffc49498e003af1e9360741": {
      "model_module": "@jupyter-widgets/controls",
      "model_module_version": "2.0.0",
      "model_name": "HBoxModel",
      "state": {
       "children": [
        "IPY_MODEL_5235cfaefab54c6b9fae46d3534f1983",
        "IPY_MODEL_419bcaa654eb4a1cae2163ff26cb0698"
       ],
       "layout": "IPY_MODEL_79241f8e2aa948acba846a86c5270ad6"
      }
     },
     "0cf22e865c434e269412ab8a482a6e1b": {
      "model_module": "@jupyter-widgets/controls",
      "model_module_version": "2.0.0",
      "model_name": "CheckboxModel",
      "state": {
       "description": "Sync",
       "disabled": false,
       "layout": "IPY_MODEL_4f26fd30b2b446949b066a28415bd5c0",
       "style": "IPY_MODEL_7161aea981d04737840ae6722923fb48",
       "value": false
      }
     },
     "0d07b8d97817438bbf6e65bbd44f4509": {
      "model_module": "@jupyter-widgets/controls",
      "model_module_version": "2.0.0",
      "model_name": "HTMLStyleModel",
      "state": {
       "description_width": "",
       "font_size": null,
       "text_color": null
      }
     },
     "0d7f211d0fba4a7c9f52b001ff307086": {
      "model_module": "@jupyter-widgets/controls",
      "model_module_version": "2.0.0",
      "model_name": "HBoxModel",
      "state": {
       "children": [
        "IPY_MODEL_cd2162be810c469f9194be28f674afc0",
        "IPY_MODEL_cac4223a6ac3474fb6bf96ceb9320fe0"
       ],
       "layout": "IPY_MODEL_fb4f78c4729946679eaa0360aa3611ec"
      }
     },
     "0d9f73eb5a5640f6bbcb5db526cf2593": {
      "model_module": "@jupyter-widgets/controls",
      "model_module_version": "2.0.0",
      "model_name": "CheckboxStyleModel",
      "state": {
       "description_width": ""
      }
     },
     "0da3ebbaf0ea4908bce069cf37ffbade": {
      "model_module": "@jupyter-widgets/base",
      "model_module_version": "2.0.0",
      "model_name": "LayoutModel",
      "state": {
       "overflow": "auto",
       "width": "50%"
      }
     },
     "0da97d0ee1774774ae7b8eee19354546": {
      "model_module": "@jupyter-widgets/base",
      "model_module_version": "2.0.0",
      "model_name": "LayoutModel",
      "state": {
       "overflow": "auto",
       "width": "50%"
      }
     },
     "0dee475f124f4219844eec4b19dcbdf1": {
      "model_module": "@jupyter-widgets/controls",
      "model_module_version": "2.0.0",
      "model_name": "HTMLStyleModel",
      "state": {
       "description_width": "",
       "font_size": null,
       "text_color": null
      }
     },
     "0e1536713dbc4a04af2f0ec2f267553d": {
      "model_module": "@jupyter-widgets/base",
      "model_module_version": "2.0.0",
      "model_name": "LayoutModel",
      "state": {}
     },
     "0e17b2f23cfa408987a213e9d170a6bd": {
      "model_module": "@jupyter-widgets/controls",
      "model_module_version": "2.0.0",
      "model_name": "HTMLModel",
      "state": {
       "layout": "IPY_MODEL_229f40ce68ce475595be958209c00d67",
       "style": "IPY_MODEL_aeadd8b9b687413982805f4eca0d8998",
       "value": "<span style='color: #5E5A72;'>This would sync <span style='color: #B8520A'>2 changes </span> from <i>Low Node</i> to <i>High Node</i></span>"
      }
     },
     "0e481027a0b04f7b93058e5da7d7b297": {
      "model_module": "@jupyter-widgets/controls",
      "model_module_version": "2.0.0",
      "model_name": "VBoxModel",
      "state": {
       "children": [
        "IPY_MODEL_5fd484e569b148c0b6112762b538d819"
       ],
       "layout": "IPY_MODEL_40a0d9ea5e9e479791dd3070e767688e"
      }
     },
     "0e99bdfc05d040d6a7056c20b2bf4e39": {
      "model_module": "@jupyter-widgets/controls",
      "model_module_version": "2.0.0",
      "model_name": "HBoxModel",
      "state": {
       "children": [
        "IPY_MODEL_8d0d2f277e9e44bdbb9655a937e83cde",
        "IPY_MODEL_1541a2c1d5f44f599f84339b0ce661d1"
       ],
       "layout": "IPY_MODEL_b9ca3381680447e18ab103222d03b8e7"
      }
     },
     "0e9a5245594e4f288672e0d1d3eac96b": {
      "model_module": "@jupyter-widgets/base",
      "model_module_version": "2.0.0",
      "model_name": "LayoutModel",
      "state": {}
     },
     "0f432a4996884b1fa95fc0d0b9765277": {
      "model_module": "@jupyter-widgets/base",
      "model_module_version": "2.0.0",
      "model_name": "LayoutModel",
      "state": {}
     },
     "0f754a10bc90452099417be40a4d50a7": {
      "model_module": "@jupyter-widgets/controls",
      "model_module_version": "2.0.0",
      "model_name": "CheckboxModel",
      "state": {
       "description": "Sync",
       "disabled": false,
       "layout": "IPY_MODEL_403e9ff1b40c4c0c98a65fda6a204cae",
       "style": "IPY_MODEL_999d0d99e6994e5aabbd4a73ad9c641b",
       "value": false
      }
     },
     "0f997a40e1a6468fb1f373730655eb0b": {
      "model_module": "@jupyter-widgets/base",
      "model_module_version": "2.0.0",
      "model_name": "LayoutModel",
      "state": {}
     },
     "1010411e1ea34de186c3caba8eb439ff": {
      "model_module": "@jupyter-widgets/base",
      "model_module_version": "2.0.0",
      "model_name": "LayoutModel",
      "state": {
       "overflow": "auto",
       "width": "50%"
      }
     },
     "106063a8a4e24785898df9cb5f05a9d7": {
      "model_module": "@jupyter-widgets/base",
      "model_module_version": "2.0.0",
      "model_name": "LayoutModel",
      "state": {}
     },
     "1079338cf91b428cafe97a9dc6e4fc00": {
      "model_module": "@jupyter-widgets/controls",
      "model_module_version": "2.0.0",
      "model_name": "CheckboxStyleModel",
      "state": {
       "description_width": ""
      }
     },
     "10c0f088bebb4b21b31d027d4ebf84ab": {
      "model_module": "@jupyter-widgets/controls",
      "model_module_version": "2.0.0",
      "model_name": "VBoxModel",
      "state": {
       "children": [
        "IPY_MODEL_216b0f6098d648cdb9514b85f69ebe3b",
        "IPY_MODEL_22c14e5d39794f0d94f12fa861770026"
       ],
       "layout": "IPY_MODEL_5b265e847c844a84be4cd65ecbf25a51"
      }
     },
     "10c58d354fc844aaba6979c0ecee8418": {
      "model_module": "@jupyter-widgets/controls",
      "model_module_version": "2.0.0",
      "model_name": "HTMLModel",
      "state": {
       "layout": "IPY_MODEL_1e0acbe10c4d4a4fbdb8516f93414352",
       "style": "IPY_MODEL_4f1fe4a53d4541cf80bd584dff0254f5",
       "value": "<div style='font-family: monospace; width: 100%;'><b>High side</b><br><div style='border-left: 1px solid #000; padding-left: 10px;'><div style='background-color: #FEE9CD;; color: #B8520A;; display: block; white-space: pre-wrap; margin-bottom: 5px;'>status: approved</div><div style='background-color: #FEE9CD;; color: #B8520A;; display: block; white-space: pre-wrap; margin-bottom: 5px;'>approved_by: admin</div><div style='background-color: transparent; color: #353243; display: block; white-space: pre-wrap; margin-bottom: 5px;'>date_created: 2024-04-27</div></div></div>"
      }
     },
     "10ff9cb88d0e4d80ba422622df912193": {
      "model_module": "@jupyter-widgets/controls",
      "model_module_version": "2.0.0",
      "model_name": "CheckboxStyleModel",
      "state": {
       "description_width": ""
      }
     },
     "1148a1cb65b541958049ac53bf2d7455": {
      "model_module": "@jupyter-widgets/controls",
      "model_module_version": "2.0.0",
      "model_name": "HTMLModel",
      "state": {
       "layout": "IPY_MODEL_44324e68f1ab48eba56bb90f2ffd2fb2",
       "style": "IPY_MODEL_50f7761eb74b4ecabaa89f5b43b90027",
       "value": "<span style='color: #5E5A72;'>This would sync <span style='color: #B8520A'>22 changes </span> from <i>Low Node</i> to <i>High Node</i></span>"
      }
     },
     "11651eb6cadb4c4a84f7b9b19d3c1779": {
      "model_module": "@jupyter-widgets/base",
      "model_module_version": "2.0.0",
      "model_name": "LayoutModel",
      "state": {}
     },
     "11e3514cf17f48efae81e1d741fb1f98": {
      "model_module": "@jupyter-widgets/base",
      "model_module_version": "2.0.0",
      "model_name": "LayoutModel",
      "state": {
       "overflow": "auto",
       "width": "50%"
      }
     },
     "127402ee1aaa410daa8ca3cca838dbbf": {
      "model_module": "@jupyter-widgets/base",
      "model_module_version": "2.0.0",
      "model_name": "LayoutModel",
      "state": {
       "border_bottom": "#353243 solid 0.5px",
       "border_left": "#353243 solid 0.5px",
       "border_right": "#353243 solid 0.5px",
       "border_top": "#353243 solid 0.5px",
       "padding": "16px"
      }
     },
     "12965d44f247469b9612e3a137f642a6": {
      "model_module": "@jupyter-widgets/base",
      "model_module_version": "2.0.0",
      "model_name": "LayoutModel",
      "state": {}
     },
     "13205f3df2a24dbb84a21d6c418ffb73": {
      "model_module": "@jupyter-widgets/controls",
      "model_module_version": "2.0.0",
      "model_name": "HTMLModel",
      "state": {
       "layout": "IPY_MODEL_3a12609b818845dfa68007977847f73c",
       "style": "IPY_MODEL_7ef7f378a6474da8a6a3ac8635f9a5a7",
       "value": "<div style='font-family: monospace; width: 100%;'><b>Low side</b><br><div style='border-left: 1px solid #000; padding-left: 10px;'><div style='background-color: #FEE9CD;; color: #B8520A;; display: block; white-space: pre-wrap; margin-bottom: 5px;'>status: pending</div><div style='background-color: #FEE9CD;; color: #B8520A;; display: block; white-space: pre-wrap; margin-bottom: 5px;'>approved_by: None</div><div style='background-color: transparent; color: #353243; display: block; white-space: pre-wrap; margin-bottom: 5px;'>date_created: 2024-04-27</div><div style='background-color: #D5F1D5;; color: #256B24;; display: block; white-space: pre-wrap; margin-bottom: 5px;'>code: None</div></div></div>"
      }
     },
     "13375f986f2e4ffcbbf4080753c54b3c": {
      "model_module": "@jupyter-widgets/controls",
      "model_module_version": "2.0.0",
      "model_name": "CheckboxStyleModel",
      "state": {
       "description_width": ""
      }
     },
     "1397bf1984344d53bb0164c1147f69a8": {
      "model_module": "@jupyter-widgets/base",
      "model_module_version": "2.0.0",
      "model_name": "LayoutModel",
      "state": {}
     },
     "13a2242197e24cd8838ed486706551a3": {
      "model_module": "@jupyter-widgets/controls",
      "model_module_version": "2.0.0",
      "model_name": "HTMLModel",
      "state": {
       "layout": "IPY_MODEL_1c7afc95e47f423fba98f3e1a80525ec",
       "style": "IPY_MODEL_f86b0739b379407da2021ff48ddc3194",
       "value": "<div style='font-family: monospace; width: 100%;'><b>High side</b><br><div style='border-left: 1px solid #000; padding-left: 10px;'><div style='background-color: #FEE9CD;; color: #B8520A;; display: block; white-space: pre-wrap; margin-bottom: 5px;'>status: approved</div><div style='background-color: #FEE9CD;; color: #B8520A;; display: block; white-space: pre-wrap; margin-bottom: 5px;'>approved_by: admin</div><div style='background-color: transparent; color: #353243; display: block; white-space: pre-wrap; margin-bottom: 5px;'>date_created: 2024-04-27</div></div></div>"
      }
     },
     "13aa7ac5cb9e4882868fc58aa89f122a": {
      "model_module": "@jupyter-widgets/controls",
      "model_module_version": "2.0.0",
      "model_name": "VBoxModel",
      "state": {
       "children": [
        "IPY_MODEL_9bbc5eb7b28c473f832c5b9a6799dfe5",
        "IPY_MODEL_b12fe3c855fb47868e17dbd8f3466eac"
       ],
       "layout": "IPY_MODEL_e5ed64c7fb674740868a49c82d52abf9"
      }
     },
     "1433bddf560c40bcb193e69ace037ddb": {
      "model_module": "@jupyter-widgets/controls",
      "model_module_version": "2.0.0",
      "model_name": "HTMLModel",
      "state": {
       "layout": "IPY_MODEL_3f3c821f6bfa4ef3a3ab6e2dd221f78f",
       "style": "IPY_MODEL_e6137c2703e3410e8a08d254bb3d98d5",
       "value": "<div style='font-family: monospace; width: 100%;'><b>High side</b><br><div style='border-left: 1px solid #000; padding-left: 10px;'><div style='background-color: #FEE9CD;; color: #B8520A;; display: block; white-space: pre-wrap; margin-bottom: 5px;'>status: approved</div><div style='background-color: #FEE9CD;; color: #B8520A;; display: block; white-space: pre-wrap; margin-bottom: 5px;'>approved_by: admin</div><div style='background-color: transparent; color: #353243; display: block; white-space: pre-wrap; margin-bottom: 5px;'>date_created: 2024-04-27</div><div style='background-color: #D5F1D5;; color: #256B24;; display: block; white-space: pre-wrap; margin-bottom: 5px;'>code: @syft.function\ndef compute_mean(data: np.ndarray):\n    print(\"computing mean...\")\n    return data.mean()\n</div></div></div>"
      }
     },
     "1463ec4a358f4d149277c69cb8ca0fb5": {
      "model_module": "@jupyter-widgets/base",
      "model_module_version": "2.0.0",
      "model_name": "LayoutModel",
      "state": {
       "align_items": "center",
       "display": "flex"
      }
     },
     "1467f1afe67742248a128c878e94a2d2": {
      "model_module": "@jupyter-widgets/base",
      "model_module_version": "2.0.0",
      "model_name": "LayoutModel",
      "state": {
       "align_items": "center"
      }
     },
     "1495fb6b6cd54c4ea2e684026aa097fe": {
      "model_module": "@jupyter-widgets/controls",
      "model_module_version": "2.0.0",
      "model_name": "HTMLModel",
      "state": {
       "layout": "IPY_MODEL_f9b6ab9877174f2c904e5665ea283ae8",
       "style": "IPY_MODEL_0d07b8d97817438bbf6e65bbd44f4509",
       "value": "<span style='background-color: #C2DEF0; border-radius: 4px; padding: 4px 6px; color: #373B7B;'>Job</span>"
      }
     },
     "151ab67599a04b918598d072691e779c": {
      "model_module": "@jupyter-widgets/controls",
      "model_module_version": "2.0.0",
      "model_name": "AccordionModel",
      "state": {
       "children": [
        "IPY_MODEL_77a45fa921c74cd094043da34013a823",
        "IPY_MODEL_c698c686521b48459a73ee1e5a628043"
       ],
       "layout": "IPY_MODEL_d008423da4244f4c80af42eec4b70b96",
       "titles": [
        "UserCode (4 changes)",
        "Request (3 changes)"
       ]
      }
     },
     "1534ff4867aa41329620f72d7669edde": {
      "model_module": "@jupyter-widgets/base",
      "model_module_version": "2.0.0",
      "model_name": "LayoutModel",
      "state": {
       "overflow": "auto",
       "width": "50%"
      }
     },
     "153ed71654a044eab7cd3371b09056b7": {
      "model_module": "@jupyter-widgets/base",
      "model_module_version": "2.0.0",
      "model_name": "LayoutModel",
      "state": {}
     },
     "1541a2c1d5f44f599f84339b0ce661d1": {
      "model_module": "@jupyter-widgets/controls",
      "model_module_version": "2.0.0",
      "model_name": "HTMLModel",
      "state": {
       "layout": "IPY_MODEL_61239b911aa841a48ef10744ef294fc7",
       "style": "IPY_MODEL_c1bba8924ce643b8879ff13a1520924f",
       "value": "<div style='font-family: monospace; width: 100%;'><b>High side</b><br><div style='border-left: 1px solid #000; padding-left: 10px;'><div style='background-color: #ffffcc;display: block; white-space: pre-wrap; margin-bottom: 5px;'>status: approved</div><div style='background-color: #ffffcc;display: block; white-space: pre-wrap; margin-bottom: 5px;'>approved_by: admin</div><div style='display: block; white-space: pre-wrap; margin-bottom: 5px;'>date_created: 2024-04-27</div><div style='background-color: #ddffdd;display: block; white-space: pre-wrap; margin-bottom: 5px;'>code: @syft.function\ndef compute_mean(data: np.ndarray):\n    print(\"computing mean...\")\n    return data.mean()\n</div></div></div>"
      }
     },
     "154be74a956e4414be6d7b92d0c4d398": {
      "model_module": "@jupyter-widgets/base",
      "model_module_version": "2.0.0",
      "model_name": "LayoutModel",
      "state": {}
     },
     "155a873432d543f78a4fdd47bfb771b4": {
      "model_module": "@jupyter-widgets/controls",
      "model_module_version": "2.0.0",
      "model_name": "HBoxModel",
      "state": {
       "children": [
        "IPY_MODEL_23faba6c31b94f19913981d7933b1562"
       ],
       "layout": "IPY_MODEL_46e89de28bab42f5bcc1bc27c8925938"
      }
     },
     "15d05f206e6340f2a4213cd3df38dafa": {
      "model_module": "@jupyter-widgets/controls",
      "model_module_version": "2.0.0",
      "model_name": "HTMLStyleModel",
      "state": {
       "description_width": "",
       "font_size": null,
       "text_color": null
      }
     },
     "15d20699c94348378b60e17e7c231512": {
      "model_module": "@jupyter-widgets/controls",
      "model_module_version": "2.0.0",
      "model_name": "HTMLModel",
      "state": {
       "layout": "IPY_MODEL_b9be4049442c4885b9d1ac6647a1f9a2",
       "style": "IPY_MODEL_0418d4d0939a4dd1a23351fd21f7dc8c",
       "value": "<span style='color: #5E5A72;'>This would sync <span style='color: #B8520A'>22 changes </span> from <i>Low Node</i> to <i>High Node</i></span>"
      }
     },
     "15e4c010ca3e410c9a2a19cf5309b2fe": {
      "model_module": "@jupyter-widgets/controls",
      "model_module_version": "2.0.0",
      "model_name": "HTMLStyleModel",
      "state": {
       "description_width": "",
       "font_size": null,
       "text_color": null
      }
     },
     "168d693ed15e413cb18eeacee46ff822": {
      "model_module": "@jupyter-widgets/controls",
      "model_module_version": "2.0.0",
      "model_name": "HTMLModel",
      "state": {
       "layout": "IPY_MODEL_904130b5e4f84cbb9d80a6903eef79b2",
       "style": "IPY_MODEL_588a2e0abe114bfaadd59b56ab470011",
       "value": "<span style='margin-left: 5px; font-weight: bold; color: #373B7B;'>main_1</span> <span style='margin-left: 5px; color: #B4B0BF;'>#1234...</span>"
      }
     },
     "16a527b326af4d2ba92f83bbdd3a2804": {
      "model_module": "@jupyter-widgets/controls",
      "model_module_version": "2.0.0",
      "model_name": "HTMLStyleModel",
      "state": {
       "description_width": "",
       "font_size": null,
       "text_color": null
      }
     },
     "16d87fa8648b48c2aa327ae3d46a920e": {
      "model_module": "@jupyter-widgets/controls",
      "model_module_version": "2.0.0",
      "model_name": "HBoxModel",
      "state": {
       "children": [
        "IPY_MODEL_6f77f8f2f00549a5b1eb70f3b8daba8d"
       ],
       "layout": "IPY_MODEL_7c321057c19d45cbbc15f03e36c00ca2"
      }
     },
     "1709168a584f4479ab34185f7a48d037": {
      "model_module": "@jupyter-widgets/controls",
      "model_module_version": "2.0.0",
      "model_name": "VBoxModel",
      "state": {
       "children": [
        "IPY_MODEL_1ca2543d1c6b468fab87fca94c1686fb",
        "IPY_MODEL_480d09ba5a9f4cbcae6796892b7e0305"
       ],
       "layout": "IPY_MODEL_b1853caf29fc4995bd433d0a26561277"
      }
     },
     "17172e0543124df597e96fc57816f245": {
      "model_module": "@jupyter-widgets/controls",
      "model_module_version": "2.0.0",
      "model_name": "CheckboxStyleModel",
      "state": {
       "description_width": ""
      }
     },
     "1769dba67f52489a9bc0af2391de34e8": {
      "model_module": "@jupyter-widgets/controls",
      "model_module_version": "2.0.0",
      "model_name": "HTMLStyleModel",
      "state": {
       "description_width": "",
       "font_size": null,
       "text_color": null
      }
     },
     "17cd081e0f184d0d9d4c76a5674f7a15": {
      "model_module": "@jupyter-widgets/base",
      "model_module_version": "2.0.0",
      "model_name": "LayoutModel",
      "state": {}
     },
     "17e496e257f74f13aa5588fbdb546324": {
      "model_module": "@jupyter-widgets/controls",
      "model_module_version": "2.0.0",
      "model_name": "HTMLModel",
      "state": {
       "layout": "IPY_MODEL_3ba68e083c8649d99bd2cca6d12d6592",
       "style": "IPY_MODEL_ce9b0b3acdc040899c79e780e0384f0a",
       "value": "<div style='font-family: monospace; width: 100%;'><b>High side</b><br><div style='border-left: 1px solid #000; padding-left: 10px;'><div style='background-color: #ffffcc;display: block; white-space: pre-wrap; margin-bottom: 5px;'>status: approved</div><div style='background-color: #ffffcc;display: block; white-space: pre-wrap; margin-bottom: 5px;'>approved_by: admin</div><div style='display: block; white-space: pre-wrap; margin-bottom: 5px;'>date_created: 2024-04-27</div><div style='background-color: #ddffdd;display: block; white-space: pre-wrap; margin-bottom: 5px;'>code: @syft.function\ndef compute_mean(data: np.ndarray):\n    print(\"computing mean...\")\n    return data.mean()\n</div></div></div>"
      }
     },
     "17f0c3789405436b95020d9933573fba": {
      "model_module": "@jupyter-widgets/controls",
      "model_module_version": "2.0.0",
      "model_name": "HBoxModel",
      "state": {
       "children": [
        "IPY_MODEL_7e3ea7b052114f5a93ad8e1743b99c8f",
        "IPY_MODEL_602b834a39e04051a640e0eedf748059"
       ],
       "layout": "IPY_MODEL_33f95a45230b43c98237e111243ff452"
      }
     },
     "1806cf4a30bb4e5d8337d66cf8b1159d": {
      "model_module": "@jupyter-widgets/controls",
      "model_module_version": "2.0.0",
      "model_name": "HTMLModel",
      "state": {
       "layout": "IPY_MODEL_93cd21e385a243f09f9dced2e8d205ae",
       "style": "IPY_MODEL_f44bc5b2d00a41fdbbe9ec2164588039",
       "value": "<div style='font-family: monospace; width: 100%;'><b>High side</b><br><div style='border-left: 1px solid #000; padding-left: 10px;'><div style='background-color: #FEE9CD;; color: #B8520A;; display: block; white-space: pre-wrap; margin-bottom: 5px;'>status: approved</div><div style='background-color: #FEE9CD;; color: #B8520A;; display: block; white-space: pre-wrap; margin-bottom: 5px;'>approved_by: admin</div><div style='background-color: transparent; color: #353243; display: block; white-space: pre-wrap; margin-bottom: 5px;'>date_created: 2024-04-27</div></div></div>"
      }
     },
     "181649cf470a48b6b8768021f79281db": {
      "model_module": "@jupyter-widgets/controls",
      "model_module_version": "2.0.0",
      "model_name": "ButtonStyleModel",
      "state": {
       "font_family": null,
       "font_size": null,
       "font_style": null,
       "font_variant": null,
       "font_weight": null,
       "text_color": null,
       "text_decoration": null
      }
     },
     "182648aa304649f7a7c0906b4be9feb5": {
      "model_module": "@jupyter-widgets/base",
      "model_module_version": "2.0.0",
      "model_name": "LayoutModel",
      "state": {}
     },
     "183e3633a3664880a373ab52c0e5eee4": {
      "model_module": "@jupyter-widgets/controls",
      "model_module_version": "2.0.0",
      "model_name": "HTMLModel",
      "state": {
       "layout": "IPY_MODEL_7bc2b2118f1747c9b54c7750e5f35b0b",
       "style": "IPY_MODEL_fdfd38bdbe8044ef9b4463359e712776",
       "value": "<span style='background-color: #C2DEF0; border-radius: 4px; padding: 4px 6px; color: #373B7B;'>Code</span>"
      }
     },
     "185a0bc9d66048f8b605c00f3994d294": {
      "model_module": "@jupyter-widgets/controls",
      "model_module_version": "2.0.0",
      "model_name": "BoxModel",
      "state": {
       "children": [
        "IPY_MODEL_93f92f1dbf0a4140add4ec9c15bbfefb",
        "IPY_MODEL_29525fb25dc046878d346a63a5f9b22f"
       ],
       "layout": "IPY_MODEL_b3221617634b45a3ad696f3c287dd1b8"
      }
     },
     "18959644f71f4fe8b65ee3ccad01f795": {
      "model_module": "@jupyter-widgets/base",
      "model_module_version": "2.0.0",
      "model_name": "LayoutModel",
      "state": {}
     },
     "189c46c7c8394cc49ca5b1edc1bc5819": {
      "model_module": "@jupyter-widgets/output",
      "model_module_version": "1.0.0",
      "model_name": "OutputModel",
      "state": {
       "layout": "IPY_MODEL_802b481cc090403f9ca944e69e153733"
      }
     },
     "18baa397994246ceaf95426907c21baf": {
      "model_module": "@jupyter-widgets/controls",
      "model_module_version": "2.0.0",
      "model_name": "HBoxModel",
      "state": {
       "children": [
        "IPY_MODEL_ba5a93cd0f2e4bcf9be98c567bcfcf61",
        "IPY_MODEL_3a2522a10cf14216a2ab56777d5fc9ee"
       ],
       "layout": "IPY_MODEL_d5cb4a6f5fac4d65af02ef224166fc45"
      }
     },
     "18c2fc9a423a4cdba802f6583eacf32a": {
      "model_module": "@jupyter-widgets/controls",
      "model_module_version": "2.0.0",
      "model_name": "HBoxModel",
      "state": {
       "children": [
        "IPY_MODEL_84618ba994fe432b99a2c6c2b93894f8",
        "IPY_MODEL_6b297ca685984c9a878652f6221d5517",
        "IPY_MODEL_185a0bc9d66048f8b605c00f3994d294"
       ],
       "layout": "IPY_MODEL_5778156f973f4bb8b2b12436435871b8"
      }
     },
     "18c30c67cb0942c79c7e1b68198a63ce": {
      "model_module": "@jupyter-widgets/controls",
      "model_module_version": "2.0.0",
      "model_name": "AccordionModel",
      "state": {
       "children": [
        "IPY_MODEL_b4a0c9f66dce480b87b18bf21fc1ff52"
       ],
       "layout": "IPY_MODEL_d6bd5887d21e42f8972db1cf5f67acc6",
       "titles": [
        "Request (2 changes)"
       ]
      }
     },
     "18cc82e337224e199b4bb4e5f06971c3": {
      "model_module": "@jupyter-widgets/base",
      "model_module_version": "2.0.0",
      "model_name": "LayoutModel",
      "state": {}
     },
     "18f8708d25624c8c9a9a614b361e6d52": {
      "model_module": "@jupyter-widgets/controls",
      "model_module_version": "2.0.0",
      "model_name": "HTMLModel",
      "state": {
       "layout": "IPY_MODEL_edbef2c1306b45d39f68401e55a2f3c6",
       "style": "IPY_MODEL_e89f18c922244723a03f0afe48d8bd19",
       "value": "<span style='background-color: #C2DEF0; border-radius: 4px; padding: 4px 6px; color: #373B7B;'>Code</span>"
      }
     },
     "191993e6409b4e439e4bcfe7af3f9bd9": {
      "model_module": "@jupyter-widgets/controls",
      "model_module_version": "2.0.0",
      "model_name": "HTMLStyleModel",
      "state": {
       "description_width": "",
       "font_size": null,
       "text_color": null
      }
     },
     "19638b8acaac4dda8b55b4772152348d": {
      "model_module": "@jupyter-widgets/base",
      "model_module_version": "2.0.0",
      "model_name": "LayoutModel",
      "state": {}
     },
     "199261ea1c614c079484a2baabf80f20": {
      "model_module": "@jupyter-widgets/controls",
      "model_module_version": "2.0.0",
      "model_name": "VBoxModel",
      "state": {
       "children": [
        "IPY_MODEL_c37d56a81daa4e2f896327e214dded5a",
        "IPY_MODEL_9d3d23ad74854249b09960cf5391c7b9",
        "IPY_MODEL_54ed0d152ee342f3a1fd39169cc5841e"
       ],
       "layout": "IPY_MODEL_02188ad6b5944df3acc0b553d72f9dae"
      }
     },
     "199c5089ccdb46a8bcfbdc1df23e64be": {
      "model_module": "@jupyter-widgets/controls",
      "model_module_version": "2.0.0",
      "model_name": "VBoxModel",
      "state": {
       "children": [
        "IPY_MODEL_fe38f4530a27472ebf5e609e795b7a64",
        "IPY_MODEL_90bc217ce99345039585fa9300b2ee5d",
        "IPY_MODEL_d62661bb8f49423a830c9b80c242f28b"
       ],
       "layout": "IPY_MODEL_4ae9088fa7fa4f5daad3168bd8faf5dc"
      }
     },
     "19f66e06fe3748afb5b65185f1f9fb8e": {
      "model_module": "@jupyter-widgets/base",
      "model_module_version": "2.0.0",
      "model_name": "LayoutModel",
      "state": {}
     },
     "19f67d76cf7c43e7a25752b5de452bdb": {
      "model_module": "@jupyter-widgets/controls",
      "model_module_version": "2.0.0",
      "model_name": "HTMLStyleModel",
      "state": {
       "description_width": "",
       "font_size": null,
       "text_color": null
      }
     },
     "19ffbb322b8f4a07b8fd2459e4ecf723": {
      "model_module": "@jupyter-widgets/base",
      "model_module_version": "2.0.0",
      "model_name": "LayoutModel",
      "state": {}
     },
     "1a214aebb3894531adff001eeeda925f": {
      "model_module": "@jupyter-widgets/controls",
      "model_module_version": "2.0.0",
      "model_name": "ButtonModel",
      "state": {
       "icon": "clone",
       "layout": "IPY_MODEL_c7dac147c6d84f85a828752a9d660203",
       "style": "IPY_MODEL_907bc3ec397448b989e8234e1c26033f",
       "tooltip": null
      }
     },
     "1a25401affff41aeb57c34c356c0a42a": {
      "model_module": "@jupyter-widgets/controls",
      "model_module_version": "2.0.0",
      "model_name": "HTMLStyleModel",
      "state": {
       "description_width": "",
       "font_size": null,
       "text_color": null
      }
     },
     "1ab31b592edb48b4ab737003c344df89": {
      "model_module": "@jupyter-widgets/controls",
      "model_module_version": "2.0.0",
      "model_name": "HTMLModel",
      "state": {
       "layout": "IPY_MODEL_c3a69c50fc7c48af8ec8282fa3aa4f46",
       "style": "IPY_MODEL_9413e5ffad3b462faf375d94ee2ccc52",
       "value": "<span style='margin-left: 5px; font-weight: bold; color: #373B7B;'>compute_mean</span> <span style='margin-left: 5px; color: #B4B0BF;'>#1234...</span>"
      }
     },
     "1ace332bdc794fe2a171b65c391e338e": {
      "model_module": "@jupyter-widgets/controls",
      "model_module_version": "2.0.0",
      "model_name": "HTMLModel",
      "state": {
       "layout": "IPY_MODEL_e2b0089f85f94726a3bd2fa8a9d4c5a7",
       "style": "IPY_MODEL_b107d979237343a38cf04db4325b6778",
       "value": "<span style='color: #5E5A72;'>This would sync <span style='color: #B8520A'>2 changes </span> from <i>Low Node</i> to <i>High Node</i></span>"
      }
     },
     "1ae9cd0989324c80ab67ccd118bbac14": {
      "model_module": "@jupyter-widgets/controls",
      "model_module_version": "2.0.0",
      "model_name": "ButtonStyleModel",
      "state": {
       "font_family": null,
       "font_size": null,
       "font_style": null,
       "font_variant": null,
       "font_weight": null,
       "text_color": null,
       "text_decoration": null
      }
     },
     "1b1e213dd22b4b4f86e188a3fff421e3": {
      "model_module": "@jupyter-widgets/controls",
      "model_module_version": "2.0.0",
      "model_name": "VBoxModel",
      "state": {
       "children": [
        "IPY_MODEL_4212a8de73284b3ca16f475025b49141",
        "IPY_MODEL_8e68ba93c77d4dcc844e7194bdff9c4a"
       ],
       "layout": "IPY_MODEL_5e41f48d479b4d8dbd3f3c30ff1df3b9"
      }
     },
     "1b4d0d971c6e4635947dc233425f2f29": {
      "model_module": "@jupyter-widgets/controls",
      "model_module_version": "2.0.0",
      "model_name": "HTMLStyleModel",
      "state": {
       "description_width": "",
       "font_size": null,
       "text_color": null
      }
     },
     "1b742b3f7d7745c8914ef8bfa63cfa0e": {
      "model_module": "@jupyter-widgets/controls",
      "model_module_version": "2.0.0",
      "model_name": "HBoxModel",
      "state": {
       "children": [
        "IPY_MODEL_e129bfae145845c8b17acf7310b5a16d"
       ],
       "layout": "IPY_MODEL_05f5f437e37e488f92f1f49c9309d3ea"
      }
     },
     "1b8031d8e7a54ed8a2e3e361df3cbc80": {
      "model_module": "@jupyter-widgets/controls",
      "model_module_version": "2.0.0",
      "model_name": "HBoxModel",
      "state": {
       "children": [
        "IPY_MODEL_25347a88e8a24743af07ed8c79c6da32",
        "IPY_MODEL_70435a63e48d403e85d377b05b5be6b4"
       ],
       "layout": "IPY_MODEL_71b782eec2144877aecdd66c25a99d72"
      }
     },
     "1bf0b61559f940ada34ed0a6dc4b4127": {
      "model_module": "@jupyter-widgets/controls",
      "model_module_version": "2.0.0",
      "model_name": "AccordionModel",
      "state": {
       "children": [
        "IPY_MODEL_317005223693443590f8f0c69755d14e"
       ],
       "layout": "IPY_MODEL_154be74a956e4414be6d7b92d0c4d398",
       "titles": [
        "Request (2 changes)"
       ]
      }
     },
     "1c2f291ec815402aadf8ccb162ef8072": {
      "model_module": "@jupyter-widgets/base",
      "model_module_version": "2.0.0",
      "model_name": "LayoutModel",
      "state": {}
     },
     "1c57aaf7205847a08cccd8a6eaf80e75": {
      "model_module": "@jupyter-widgets/controls",
      "model_module_version": "2.0.0",
      "model_name": "CheckboxModel",
      "state": {
       "description": "Sync",
       "disabled": false,
       "layout": "IPY_MODEL_8ab0f83627d04d2faeab878d34fa9890",
       "style": "IPY_MODEL_1079338cf91b428cafe97a9dc6e4fc00",
       "value": false
      }
     },
     "1c6b4aeee5eb4b5f9b0e612b0e9757bf": {
      "model_module": "@jupyter-widgets/controls",
      "model_module_version": "2.0.0",
      "model_name": "HTMLStyleModel",
      "state": {
       "description_width": "",
       "font_size": null,
       "text_color": null
      }
     },
     "1c7afc95e47f423fba98f3e1a80525ec": {
      "model_module": "@jupyter-widgets/base",
      "model_module_version": "2.0.0",
      "model_name": "LayoutModel",
      "state": {
       "overflow": "auto",
       "width": "50%"
      }
     },
     "1c7eeba6c971423e91045fe60a8f9b8c": {
      "model_module": "@jupyter-widgets/base",
      "model_module_version": "2.0.0",
      "model_name": "LayoutModel",
      "state": {}
     },
     "1ca2543d1c6b468fab87fca94c1686fb": {
      "model_module": "@jupyter-widgets/controls",
      "model_module_version": "2.0.0",
      "model_name": "HBoxModel",
      "state": {
       "layout": "IPY_MODEL_a7dd7a2b34814f0bbb0cb22d7d5c116d"
      }
     },
     "1cafcdb6e60c4fc593dbc17d0c185a7b": {
      "model_module": "@jupyter-widgets/controls",
      "model_module_version": "2.0.0",
      "model_name": "HTMLStyleModel",
      "state": {
       "description_width": "",
       "font_size": null,
       "text_color": null
      }
     },
     "1cc42599fb5b4a489ef2b308feb7a8b4": {
      "model_module": "@jupyter-widgets/controls",
      "model_module_version": "2.0.0",
      "model_name": "HTMLStyleModel",
      "state": {
       "description_width": "",
       "font_size": null,
       "text_color": null
      }
     },
     "1ce0bdc35f3c4a7596eb49729cd7f90a": {
      "model_module": "@jupyter-widgets/controls",
      "model_module_version": "2.0.0",
      "model_name": "HTMLStyleModel",
      "state": {
       "description_width": "",
       "font_size": null,
       "text_color": null
      }
     },
     "1cee61d84128421ebbd397839a901ee5": {
      "model_module": "@jupyter-widgets/output",
      "model_module_version": "1.0.0",
      "model_name": "OutputModel",
      "state": {
       "layout": "IPY_MODEL_2fe6fddb4f444409a6f8c210ce6fd83f"
      }
     },
     "1cfd8ddb2fb4448f8e2d65b5168012f9": {
      "model_module": "@jupyter-widgets/controls",
      "model_module_version": "2.0.0",
      "model_name": "ButtonModel",
      "state": {
       "description": "Custom color",
       "layout": "IPY_MODEL_11651eb6cadb4c4a84f7b9b19d3c1779",
       "style": "IPY_MODEL_fec7865a93b04450b0646242c60a0061",
       "tooltip": null
      }
     },
     "1d881ed73f7a4fa38a4036f9d9f0442b": {
      "model_module": "@jupyter-widgets/base",
      "model_module_version": "2.0.0",
      "model_name": "LayoutModel",
      "state": {
       "align_items": "center",
       "display": "flex"
      }
     },
     "1daa29dd687d47b39899532395953f3c": {
      "model_module": "@jupyter-widgets/controls",
      "model_module_version": "2.0.0",
      "model_name": "HTMLModel",
      "state": {
       "layout": "IPY_MODEL_3eed17dea17148c3821a1f058441bdb2",
       "style": "IPY_MODEL_ade371d1f2234740ac21a7b9f290385a",
       "value": "<div style='font-family: monospace; width: 100%;'><b>Low side</b><br><div style='border-left: 1px solid #000; padding-left: 10px;'><div style='background-color: background-color: #FEE9CD;; color: background-color: #B8520A;; display: block; white-space: pre-wrap; margin-bottom: 5px;'>status: pending</div><div style='background-color: background-color: #FEE9CD;; color: background-color: #B8520A;; display: block; white-space: pre-wrap; margin-bottom: 5px;'>approved_by: None</div><div style='background-color: transparent; color: #353243; display: block; white-space: pre-wrap; margin-bottom: 5px;'>date_created: 2024-04-27</div></div></div>"
      }
     },
     "1dbe94be6583423dbff0b7ec4a49b1c0": {
      "model_module": "@jupyter-widgets/controls",
      "model_module_version": "2.0.0",
      "model_name": "HTMLModel",
      "state": {
       "layout": "IPY_MODEL_d6f6ea56f5e14c26afa3f5a347429c12",
       "style": "IPY_MODEL_831a83c41ec84f608afa87f16ea7a1a8",
       "value": "<div style='font-family: monospace; width: 100%;'>From<br><div style='border-left: 1px solid #B4B0BF; padding-left: 10px;'><div style='background-color: #FEE9CD;; color: #B8520A;; display: block; white-space: pre-wrap; margin-bottom: 5px;'>status: pending</div><div style='background-color: #FEE9CD;; color: #B8520A;; display: block; white-space: pre-wrap; margin-bottom: 5px;'>approved_by: None</div><div style='background-color: transparent; color: #353243; display: block; white-space: pre-wrap; margin-bottom: 5px;'>date_created: 2024-04-27</div></div></div>"
      }
     },
     "1e0acbe10c4d4a4fbdb8516f93414352": {
      "model_module": "@jupyter-widgets/base",
      "model_module_version": "2.0.0",
      "model_name": "LayoutModel",
      "state": {
       "overflow": "auto",
       "width": "50%"
      }
     },
     "1e1852b6b10a4cd097f07352305ee12c": {
      "model_module": "@jupyter-widgets/controls",
      "model_module_version": "2.0.0",
      "model_name": "HTMLStyleModel",
      "state": {
       "description_width": "",
       "font_size": null,
       "text_color": null
      }
     },
     "1e46c7356b344629af2ad5cc40e8a620": {
      "model_module": "@jupyter-widgets/controls",
      "model_module_version": "2.0.0",
      "model_name": "HTMLStyleModel",
      "state": {
       "description_width": "",
       "font_size": null,
       "text_color": null
      }
     },
     "1e47715a90df4dfc8306d3d10c37278f": {
      "model_module": "@jupyter-widgets/controls",
      "model_module_version": "2.0.0",
      "model_name": "CheckboxModel",
      "state": {
       "description": "Sync",
       "disabled": false,
       "layout": "IPY_MODEL_727f53199194406aa15c9364a081a64c",
       "style": "IPY_MODEL_9b44d7892b954117be7f60ad891cb8df",
       "value": false
      }
     },
     "1e88473dc0b2406588fd1979c7bc6236": {
      "model_module": "@jupyter-widgets/controls",
      "model_module_version": "2.0.0",
      "model_name": "VBoxModel",
      "state": {
       "layout": "IPY_MODEL_2a11ca63e851464cae54192437ecdf16"
      }
     },
     "1e9fa37df4c04c228f0edd79e6893710": {
      "model_module": "@jupyter-widgets/controls",
      "model_module_version": "2.0.0",
      "model_name": "ButtonStyleModel",
      "state": {
       "font_family": null,
       "font_size": null,
       "font_style": null,
       "font_variant": null,
       "font_weight": null,
       "text_color": null,
       "text_decoration": null
      }
     },
     "1eb18562a04b4ea58ab1dcdcbdae9e98": {
      "model_module": "@jupyter-widgets/base",
      "model_module_version": "2.0.0",
      "model_name": "LayoutModel",
      "state": {
       "overflow": "auto",
       "width": "50%"
      }
     },
     "1ecf8e81b22441c09fcd52d320f391d0": {
      "model_module": "@jupyter-widgets/base",
      "model_module_version": "2.0.0",
      "model_name": "LayoutModel",
      "state": {}
     },
     "1ed9f781ca644953b4a9e64f523a01c9": {
      "model_module": "@jupyter-widgets/controls",
      "model_module_version": "2.0.0",
      "model_name": "HBoxModel",
      "state": {
       "children": [
        "IPY_MODEL_f988b8d6007d4976b8888e4c9eec0357",
        "IPY_MODEL_c268048cadea4e33b62b574743c77688"
       ],
       "layout": "IPY_MODEL_edfc483f577448c38dfd4a2df8eb7105"
      }
     },
     "1f7859f2768e40559693238dc46cf82a": {
      "model_module": "@jupyter-widgets/controls",
      "model_module_version": "2.0.0",
      "model_name": "HTMLStyleModel",
      "state": {
       "description_width": "",
       "font_size": null,
       "text_color": null
      }
     },
     "1f7ae7c39f9f498bbde86a408e83cb88": {
      "model_module": "@jupyter-widgets/base",
      "model_module_version": "2.0.0",
      "model_name": "LayoutModel",
      "state": {}
     },
     "1fb2b105126a45459cc7864b5f6fcc36": {
      "model_module": "@jupyter-widgets/base",
      "model_module_version": "2.0.0",
      "model_name": "LayoutModel",
      "state": {}
     },
     "1fcad90d7c8f4e7fa6a7d6eed347db1c": {
      "model_module": "@jupyter-widgets/base",
      "model_module_version": "2.0.0",
      "model_name": "LayoutModel",
      "state": {
       "border_bottom": "#353243 solid 0.5px",
       "border_left": "#353243 solid 0.5px",
       "border_right": "#353243 solid 0.5px",
       "border_top": "#353243 solid 0.5px",
       "padding": "16px"
      }
     },
     "1fd355bf46b74bfab09aea7b45b45fd6": {
      "model_module": "@jupyter-widgets/controls",
      "model_module_version": "2.0.0",
      "model_name": "HTMLModel",
      "state": {
       "layout": "IPY_MODEL_349820596e5142098ebc88bc1e20270e",
       "style": "IPY_MODEL_9bd57d468b0f4f688c96d6a1574b2cd3",
       "value": "<span style='color: #B4B0BF;'>Syncing changes on</span>"
      }
     },
     "2011ff32765f4655ba6aa6b7f2081891": {
      "model_module": "@jupyter-widgets/output",
      "model_module_version": "1.0.0",
      "model_name": "OutputModel",
      "state": {
       "layout": "IPY_MODEL_ac3915124a9c4c84b54cb422e7489aa2"
      }
     },
     "20193889e5114190a7a50d167322eb08": {
      "model_module": "@jupyter-widgets/controls",
      "model_module_version": "2.0.0",
      "model_name": "HBoxModel",
      "state": {
       "children": [
        "IPY_MODEL_b2e08bc670d74eafb77233061dba765a",
        "IPY_MODEL_3e01f96c5540471eab617bfed441ac5a"
       ],
       "layout": "IPY_MODEL_89a9881130d24a68b61948b320710b1d"
      }
     },
     "201a0001a83b4f6287ba5c472f238004": {
      "model_module": "@jupyter-widgets/output",
      "model_module_version": "1.0.0",
      "model_name": "OutputModel",
      "state": {
       "layout": "IPY_MODEL_9e2658c8038b4f24a2a6d7c62b3d2266"
      }
     },
     "20219504be5542a2bdace5fa41e3dace": {
      "model_module": "@jupyter-widgets/controls",
      "model_module_version": "2.0.0",
      "model_name": "HTMLModel",
      "state": {
       "layout": "IPY_MODEL_33a4206f6b904710b20c90ecb32cc206",
       "style": "IPY_MODEL_2848b08895e94a44b5aa1e91b0feac83",
       "value": "<div style='font-family: monospace; width: 100%;'><b>High side</b><br><div style='border-left: 1px solid #000; padding-left: 10px;'><div style='background-color: #ffffcc;display: block; white-space: pre-wrap; margin-bottom: 5px;'>status: approved</div><div style='background-color: #ffffcc;display: block; white-space: pre-wrap; margin-bottom: 5px;'>approved_by: admin</div><div style='display: block; white-space: pre-wrap; margin-bottom: 5px;'>date_created: 2024-04-27</div></div></div>"
      }
     },
     "206104312f87415bb760e90bfef2c7c6": {
      "model_module": "@jupyter-widgets/controls",
      "model_module_version": "2.0.0",
      "model_name": "HTMLModel",
      "state": {
       "layout": "IPY_MODEL_7b05be7f0eb94aa493d49a95f543bd15",
       "style": "IPY_MODEL_c5f3cb1b9cbb4b22989925922d44cd39",
       "value": "<div style='font-family: monospace; width: 100%;'><b>High side</b><br><div style='border-left: 1px solid #000; padding-left: 10px;'><div style='background-color: #ffffcc;display: block; white-space: pre-wrap; margin-bottom: 5px;'>status: approved</div><div style='background-color: #ffffcc;display: block; white-space: pre-wrap; margin-bottom: 5px;'>approved_by: admin</div><div style='display: block; white-space: pre-wrap; margin-bottom: 5px;'>date_created: 2024-04-27</div><div style='background-color: #ddffdd;display: block; white-space: pre-wrap; margin-bottom: 5px;'>code: @syft.function\ndef compute_mean(data: np.ndarray):\n    print(\"computing mean...\")\n    return data.mean()\n</div></div></div>"
      }
     },
     "207d2db1a1674c67b136bbd6dbcf516a": {
      "model_module": "@jupyter-widgets/controls",
      "model_module_version": "2.0.0",
      "model_name": "HTMLStyleModel",
      "state": {
       "description_width": "",
       "font_size": null,
       "text_color": null
      }
     },
     "20971627aeb344a484ecb556d08245f1": {
      "model_module": "@jupyter-widgets/controls",
      "model_module_version": "2.0.0",
      "model_name": "CheckboxModel",
      "state": {
       "description": "Sync",
       "disabled": false,
       "layout": "IPY_MODEL_726f63b1a73544bcb56e18c5cef318a1",
       "style": "IPY_MODEL_7af4dae9e17a46c89da096623a615f97",
       "value": false
      }
     },
     "20a449423b5c4b8ea8006c6aaa7409e2": {
      "model_module": "@jupyter-widgets/controls",
      "model_module_version": "2.0.0",
      "model_name": "HBoxModel",
      "state": {
       "children": [
        "IPY_MODEL_b17fd158056d49c580ab52b5ca5c9289",
        "IPY_MODEL_7174a901847d44b688c34219f460c72c"
       ],
       "layout": "IPY_MODEL_562f611aa9ac49fc97964751e180aa9d"
      }
     },
     "20a5f4b78093438cba38eaacfbd06d3f": {
      "model_module": "@jupyter-widgets/controls",
      "model_module_version": "2.0.0",
      "model_name": "HTMLModel",
      "state": {
       "layout": "IPY_MODEL_4117e1788e1142339d0cf76b1e1f31ba",
       "style": "IPY_MODEL_f5480a18191a427b9c306161a5c09e4a",
       "value": "<div style='font-family: monospace; width: 100%;'><b>High side</b><br><div style='border-left: 1px solid #000; padding-left: 10px;'><div style='background-color: #ffffcc;display: block; white-space: pre-wrap; margin-bottom: 5px;'>status: approved</div><div style='background-color: #ffffcc;display: block; white-space: pre-wrap; margin-bottom: 5px;'>approved_by: admin</div><div style='display: block; white-space: pre-wrap; margin-bottom: 5px;'>date_created: 2024-04-27</div></div></div>"
      }
     },
     "20c48fa192ee4ae8b9520c42686b5a66": {
      "model_module": "@jupyter-widgets/controls",
      "model_module_version": "2.0.0",
      "model_name": "HTMLModel",
      "state": {
       "layout": "IPY_MODEL_b12d88a37aa44d2191579ca2e83da102",
       "style": "IPY_MODEL_1ce0bdc35f3c4a7596eb49729cd7f90a",
       "value": "<span style='background-color: #C2DEF0; border-radius: 4px; padding: 4px 6px; color: #373B7B;'>Job</span>"
      }
     },
     "210e2709d8314573a5a849a672fe79e2": {
      "model_module": "@jupyter-widgets/controls",
      "model_module_version": "2.0.0",
      "model_name": "HTMLStyleModel",
      "state": {
       "description_width": "",
       "font_size": null,
       "text_color": null
      }
     },
     "21188e618e0d463abd29bfda8814d994": {
      "model_module": "@jupyter-widgets/controls",
      "model_module_version": "2.0.0",
      "model_name": "CheckboxStyleModel",
      "state": {
       "description_width": ""
      }
     },
     "211fdaafbb694419b0469810863795dd": {
      "model_module": "@jupyter-widgets/controls",
      "model_module_version": "2.0.0",
      "model_name": "HTMLStyleModel",
      "state": {
       "description_width": "",
       "font_size": null,
       "text_color": null
      }
     },
     "216b0f6098d648cdb9514b85f69ebe3b": {
      "model_module": "@jupyter-widgets/controls",
      "model_module_version": "2.0.0",
      "model_name": "HBoxModel",
      "state": {
       "children": [
        "IPY_MODEL_d0fc2ed82cc5453ca5872aabb42528b4"
       ],
       "layout": "IPY_MODEL_2fa4db05df8f4fa0b0ade43d0480c59b"
      }
     },
     "2170e27e96ec475bac5d93dfbec7a613": {
      "model_module": "@jupyter-widgets/base",
      "model_module_version": "2.0.0",
      "model_name": "LayoutModel",
      "state": {}
     },
     "2192bb6cf8bc4f94a1299e57905bc7e6": {
      "model_module": "@jupyter-widgets/controls",
      "model_module_version": "2.0.0",
      "model_name": "HBoxModel",
      "state": {
       "layout": "IPY_MODEL_b6277456853c48d0981663720b30f397"
      }
     },
     "21f1f40ae6a6428a9707f7fa0f751bfb": {
      "model_module": "@jupyter-widgets/controls",
      "model_module_version": "2.0.0",
      "model_name": "CheckboxStyleModel",
      "state": {
       "description_width": ""
      }
     },
     "21fb8c161e554ddaad037eae1cca9da5": {
      "model_module": "@jupyter-widgets/base",
      "model_module_version": "2.0.0",
      "model_name": "LayoutModel",
      "state": {}
     },
     "225eeafc38734f51817fdd157956d08c": {
      "model_module": "@jupyter-widgets/base",
      "model_module_version": "2.0.0",
      "model_name": "LayoutModel",
      "state": {}
     },
     "229ca1bf9db64abd8cb1df1f6270cd29": {
      "model_module": "@jupyter-widgets/base",
      "model_module_version": "2.0.0",
      "model_name": "LayoutModel",
      "state": {}
     },
     "229f40ce68ce475595be958209c00d67": {
      "model_module": "@jupyter-widgets/base",
      "model_module_version": "2.0.0",
      "model_name": "LayoutModel",
      "state": {}
     },
     "22c14e5d39794f0d94f12fa861770026": {
      "model_module": "@jupyter-widgets/controls",
      "model_module_version": "2.0.0",
      "model_name": "HBoxModel",
      "state": {
       "children": [
        "IPY_MODEL_5b9b04cf43794310964fc1cac07d65c5",
        "IPY_MODEL_1806cf4a30bb4e5d8337d66cf8b1159d"
       ],
       "layout": "IPY_MODEL_8a33fcde7fa446f0ac980a7b902e2c19"
      }
     },
     "22defa6ad2c949a48b88c3cc9b2a3f17": {
      "model_module": "@jupyter-widgets/controls",
      "model_module_version": "2.0.0",
      "model_name": "HTMLModel",
      "state": {
       "layout": "IPY_MODEL_f70ffa8da40a4f769ead7e800a04528b",
       "style": "IPY_MODEL_15e4c010ca3e410c9a2a19cf5309b2fe",
       "value": "<div style='font-family: monospace; width: 100%;'><b>Low side</b><br><div style='border-left: 1px solid #000; padding-left: 10px;'><div style='background-color: #ffffcc;display: block; white-space: pre-wrap; margin-bottom: 5px;'>status: pending</div><div style='background-color: #ffffcc;display: block; white-space: pre-wrap; margin-bottom: 5px;'>approved_by: None</div><div style='display: block; white-space: pre-wrap; margin-bottom: 5px;'>date_created: 2024-04-27</div></div></div>"
      }
     },
     "22ec88c340054fc8a3cfcf52fcca0a73": {
      "model_module": "@jupyter-widgets/controls",
      "model_module_version": "2.0.0",
      "model_name": "HBoxModel",
      "state": {
       "children": [
        "IPY_MODEL_742d7318d1b649cbbede7b98ae1f1fd3",
        "IPY_MODEL_1433bddf560c40bcb193e69ace037ddb"
       ],
       "layout": "IPY_MODEL_f4b954158a374884937e47bf364db374"
      }
     },
     "23134a49b8dc46508871ac2adbe60639": {
      "model_module": "@jupyter-widgets/base",
      "model_module_version": "2.0.0",
      "model_name": "LayoutModel",
      "state": {}
     },
     "234803151413455b94c2b746a6d9d929": {
      "model_module": "@jupyter-widgets/base",
      "model_module_version": "2.0.0",
      "model_name": "LayoutModel",
      "state": {}
     },
     "2373e41ef0c146d9a3173005792a4725": {
      "model_module": "@jupyter-widgets/controls",
      "model_module_version": "2.0.0",
      "model_name": "CheckboxModel",
      "state": {
       "description": "Sync",
       "disabled": false,
       "layout": "IPY_MODEL_bae8d2555c094d008a660c074854d9b7",
       "style": "IPY_MODEL_009c1a80fd9e4d37a1ed200aaeac9fda",
       "value": false
      }
     },
     "23a2e3764cf2448aa7ca5607fb049955": {
      "model_module": "@jupyter-widgets/base",
      "model_module_version": "2.0.0",
      "model_name": "LayoutModel",
      "state": {
       "align_items": "center"
      }
     },
     "23faba6c31b94f19913981d7933b1562": {
      "model_module": "@jupyter-widgets/controls",
      "model_module_version": "2.0.0",
      "model_name": "CheckboxModel",
      "state": {
       "description": "Sync",
       "disabled": false,
       "layout": "IPY_MODEL_91a850d6c477454da14330394a944e3d",
       "style": "IPY_MODEL_353c76d441ab4b11ae272390e7646e70",
       "value": true
      }
     },
     "240fd7c37ad343ac9bc521d4e12edbe7": {
      "model_module": "@jupyter-widgets/base",
      "model_module_version": "2.0.0",
      "model_name": "LayoutModel",
      "state": {
       "margin": "0 5px 0 0"
      }
     },
     "24175e0ef54d41b4a513f182cc59faea": {
      "model_module": "@jupyter-widgets/base",
      "model_module_version": "2.0.0",
      "model_name": "LayoutModel",
      "state": {}
     },
     "24258d87311d47219da4ef1158bc3052": {
      "model_module": "@jupyter-widgets/controls",
      "model_module_version": "2.0.0",
      "model_name": "HBoxModel",
      "state": {
       "children": [
        "IPY_MODEL_52ef79783c8e42259dde2531979f613a",
        "IPY_MODEL_80c85b876ddc478cae3f517e315a6ab4"
       ],
       "layout": "IPY_MODEL_18cc82e337224e199b4bb4e5f06971c3"
      }
     },
     "2439de5499174cf18636032ada37d587": {
      "model_module": "@jupyter-widgets/base",
      "model_module_version": "2.0.0",
      "model_name": "LayoutModel",
      "state": {
       "margin": "0 5px 0 0"
      }
     },
     "246736d4d10c46e48424a775a12856c1": {
      "model_module": "@jupyter-widgets/controls",
      "model_module_version": "2.0.0",
      "model_name": "HBoxModel",
      "state": {
       "children": [
        "IPY_MODEL_bdb43504b06746f78893208e071cbd60",
        "IPY_MODEL_e61498bfb2dc497cb1e386e8b74cf640"
       ],
       "layout": "IPY_MODEL_c41d0c75a0d740ec93ce66803607faa0"
      }
     },
     "2470ae498392403496bf464214397d91": {
      "model_module": "@jupyter-widgets/base",
      "model_module_version": "2.0.0",
      "model_name": "LayoutModel",
      "state": {
       "border_bottom": "solid 1px",
       "border_left": "solid 1px",
       "border_right": "solid 1px",
       "border_top": "solid 1px",
       "margin": "50"
      }
     },
     "247784bfbdc248b6b318774525b2d80d": {
      "model_module": "@jupyter-widgets/controls",
      "model_module_version": "2.0.0",
      "model_name": "HTMLModel",
      "state": {
       "layout": "IPY_MODEL_db723fa906a040dabb25cc8cb0974a62",
       "style": "IPY_MODEL_5c14ce79532f42978c2503e2165e6288",
       "value": "<div style='font-family: monospace; width: 100%;'><b>High side</b><br><div style='border-left: 1px solid #000; padding-left: 10px;'><div style='background-color: #ffffcc;display: block; white-space: pre-wrap; margin-bottom: 5px;'>status: approved</div><div style='background-color: #ffffcc;display: block; white-space: pre-wrap; margin-bottom: 5px;'>approved_by: admin</div><div style='display: block; white-space: pre-wrap; margin-bottom: 5px;'>date_created: 2024-04-27</div></div></div>"
      }
     },
     "24ba04b2e3f94674a9fd6553fe66d64c": {
      "model_module": "@jupyter-widgets/base",
      "model_module_version": "2.0.0",
      "model_name": "LayoutModel",
      "state": {
       "border_bottom": "solid 1px",
       "border_left": "solid 1px",
       "border_right": "solid 1px",
       "border_top": "solid 1px",
       "margin": "50px",
       "padding": "50px"
      }
     },
     "24d01c8854e74ce6b26228c2018c945c": {
      "model_module": "@jupyter-widgets/output",
      "model_module_version": "1.0.0",
      "model_name": "OutputModel",
      "state": {
       "layout": "IPY_MODEL_2fac68261a6b45ee80ddf87dd20d6418",
       "outputs": [
        {
         "data": {
          "application/javascript": "navigator.clipboard.writeText(\"12345678\")",
          "text/plain": "<IPython.core.display.Javascript object>"
         },
         "metadata": {},
         "output_type": "display_data"
        }
       ]
      }
     },
     "24ea0a7d38c2492291ed631e479787bd": {
      "model_module": "@jupyter-widgets/controls",
      "model_module_version": "2.0.0",
      "model_name": "HTMLModel",
      "state": {
       "layout": "IPY_MODEL_b0624a1d676b41409f25fa170aa684f2",
       "style": "IPY_MODEL_4864ff6c57e04c1e923f369c7f679f98",
       "value": "<span style='color: #5E5A72;'>This would sync 2 changes from <i>Low Node</i> to <i>High Node</i></span>"
      }
     },
     "24f3ea1a02ff4aefb7d4ff7a62df7025": {
      "model_module": "@jupyter-widgets/base",
      "model_module_version": "2.0.0",
      "model_name": "LayoutModel",
      "state": {}
     },
     "24f4b6a925824ac69fd7593b86bfd884": {
      "model_module": "@jupyter-widgets/base",
      "model_module_version": "2.0.0",
      "model_name": "LayoutModel",
      "state": {}
     },
     "25347a88e8a24743af07ed8c79c6da32": {
      "model_module": "@jupyter-widgets/controls",
      "model_module_version": "2.0.0",
      "model_name": "HTMLModel",
      "state": {
       "layout": "IPY_MODEL_6ea4e2dc838d4f118dfd857ea6a267df",
       "style": "IPY_MODEL_d9bee2230d914de19a8d8d5c44f2f3f7",
       "value": "<div style='font-family: monospace; width: 100%;'><b>Low side</b><br><div style='border-left: 1px solid #000; padding-left: 10px;'><div style='background-color: #FEE9CD;; color: #B8520A;; display: block; white-space: pre-wrap; margin-bottom: 5px;'>status: pending</div><div style='background-color: #FEE9CD;; color: #B8520A;; display: block; white-space: pre-wrap; margin-bottom: 5px;'>approved_by: None</div><div style='background-color: transparent; color: #353243; display: block; white-space: pre-wrap; margin-bottom: 5px;'>date_created: 2024-04-27</div><div style='background-color: #D5F1D5;; color: #256B24;; display: block; white-space: pre-wrap; margin-bottom: 5px;'>code: None</div></div></div>"
      }
     },
     "2554cd8d5b78477786655aabd616e946": {
      "model_module": "@jupyter-widgets/base",
      "model_module_version": "2.0.0",
      "model_name": "LayoutModel",
      "state": {}
     },
     "25678dd101f441a3a626f55542327636": {
      "model_module": "@jupyter-widgets/controls",
      "model_module_version": "2.0.0",
      "model_name": "ButtonStyleModel",
      "state": {
       "font_family": null,
       "font_size": null,
       "font_style": null,
       "font_variant": null,
       "font_weight": null,
       "text_color": null,
       "text_decoration": null
      }
     },
     "2586ba3496024aeda1fb2e8425353fba": {
      "model_module": "@jupyter-widgets/controls",
      "model_module_version": "2.0.0",
      "model_name": "HTMLStyleModel",
      "state": {
       "description_width": "",
       "font_size": null,
       "text_color": null
      }
     },
     "25f8f6cbd42148ebaa17156d85eb82da": {
      "model_module": "@jupyter-widgets/controls",
      "model_module_version": "2.0.0",
      "model_name": "VBoxModel",
      "state": {
       "children": [
        "IPY_MODEL_5d07698ef3b6481894817556f49d804d",
        "IPY_MODEL_8e002a8be66142819e736576b94cad79",
        "IPY_MODEL_b5f3c13b8bb64a748674433ba428e46a",
        "IPY_MODEL_4f73978e959e490c83c3800fdfb29171",
        "IPY_MODEL_798a154269774ff1a9b1c6be39bac965"
       ],
       "layout": "IPY_MODEL_5bb48b14af5643619733de779d5af348"
      }
     },
     "25fe0a4eed7a444c857731c7feed8e83": {
      "model_module": "@jupyter-widgets/controls",
      "model_module_version": "2.0.0",
      "model_name": "HTMLModel",
      "state": {
       "layout": "IPY_MODEL_ad14b8f3066f48a7bb71d0e6eb4cefd1",
       "style": "IPY_MODEL_0dee475f124f4219844eec4b19dcbdf1",
       "value": "<div style='font-family: monospace; width: 100%;'><b>High side</b><br><div style='border-left: 1px solid #000; padding-left: 10px;'><div style='background-color: #ffffcc;display: block; white-space: pre-wrap; margin-bottom: 5px;'>status: approved</div><div style='background-color: #ffffcc;display: block; white-space: pre-wrap; margin-bottom: 5px;'>approved_by: admin</div><div style='display: block; white-space: pre-wrap; margin-bottom: 5px;'>date_created: 2024-04-27</div></div></div>"
      }
     },
     "2600b74be6e44de2829bcd11cfd04df7": {
      "model_module": "@jupyter-widgets/controls",
      "model_module_version": "2.0.0",
      "model_name": "VBoxModel",
      "state": {
       "children": [
        "IPY_MODEL_1fd355bf46b74bfab09aea7b45b45fd6",
        "IPY_MODEL_71def2575a154587ac146566d0968d7c",
        "IPY_MODEL_cf14b8e8de524e8b9a437b71ade92ab6"
       ],
       "layout": "IPY_MODEL_21fb8c161e554ddaad037eae1cca9da5"
      }
     },
     "2604f352ecee4f10bbfc20dbbe194781": {
      "model_module": "@jupyter-widgets/base",
      "model_module_version": "2.0.0",
      "model_name": "LayoutModel",
      "state": {}
     },
     "26480f3cf3fa46b0b1a816389bce8429": {
      "model_module": "@jupyter-widgets/controls",
      "model_module_version": "2.0.0",
      "model_name": "VBoxModel",
      "state": {
       "children": [
        "IPY_MODEL_ff1ec888d520448a880860adf064e045",
        "IPY_MODEL_a965bbd89d0e4183ac9cff45f1fde181",
        "IPY_MODEL_b2b696ab51194af19a63d996a526133a"
       ],
       "layout": "IPY_MODEL_2904c722500d433aa57a0d66aaf70d50"
      }
     },
     "269addb6671747b4971e71a4c6c43e33": {
      "model_module": "@jupyter-widgets/base",
      "model_module_version": "2.0.0",
      "model_name": "LayoutModel",
      "state": {
       "overflow": "auto",
       "width": "50%"
      }
     },
     "26af31cedca24208a6c1ba3ccf4319b6": {
      "model_module": "@jupyter-widgets/base",
      "model_module_version": "2.0.0",
      "model_name": "LayoutModel",
      "state": {
       "overflow": "auto",
       "width": "50%"
      }
     },
     "26b5fd535ece461099a9d18b73597728": {
      "model_module": "@jupyter-widgets/controls",
      "model_module_version": "2.0.0",
      "model_name": "HTMLStyleModel",
      "state": {
       "description_width": "",
       "font_size": null,
       "text_color": null
      }
     },
     "26ca6daebe1f4c5d86e341ecb5e3a148": {
      "model_module": "@jupyter-widgets/base",
      "model_module_version": "2.0.0",
      "model_name": "LayoutModel",
      "state": {}
     },
     "26fba86b035f40bfbe2ced4414564a31": {
      "model_module": "@jupyter-widgets/controls",
      "model_module_version": "2.0.0",
      "model_name": "HTMLStyleModel",
      "state": {
       "description_width": "",
       "font_size": null,
       "text_color": null
      }
     },
     "2704e1023e52460297c9e1964097ce2c": {
      "model_module": "@jupyter-widgets/controls",
      "model_module_version": "2.0.0",
      "model_name": "HTMLStyleModel",
      "state": {
       "description_width": "",
       "font_size": null,
       "text_color": null
      }
     },
     "27086cf39b384fd09c8c7e679d816dda": {
      "model_module": "@jupyter-widgets/base",
      "model_module_version": "2.0.0",
      "model_name": "LayoutModel",
      "state": {
       "overflow": "auto",
       "width": "50%"
      }
     },
     "273fa629271a4d1c82b0b4e7d4de5a1e": {
      "model_module": "@jupyter-widgets/controls",
      "model_module_version": "2.0.0",
      "model_name": "ButtonStyleModel",
      "state": {
       "font_family": null,
       "font_size": null,
       "font_style": null,
       "font_variant": null,
       "font_weight": null,
       "text_color": null,
       "text_decoration": null
      }
     },
     "281d1652875f4c819d8028579fb105aa": {
      "model_module": "@jupyter-widgets/base",
      "model_module_version": "2.0.0",
      "model_name": "LayoutModel",
      "state": {
       "margin": "0 5px 0 0"
      }
     },
     "282911f8b7f7480e8e68cb65777897a1": {
      "model_module": "@jupyter-widgets/controls",
      "model_module_version": "2.0.0",
      "model_name": "HTMLModel",
      "state": {
       "layout": "IPY_MODEL_544796d5315f4ddb8c3e3b677fba5c21",
       "style": "IPY_MODEL_34943f44e47c4997a49b26e870fc19be",
       "value": "<div style='font-family: monospace; width: 100%;'><b>High side</b><br><div style='border-left: 1px solid #000; padding-left: 10px;'><div style='background-color: background-color: #FEE9CD;; color: background-color: #B8520A;; display: block; white-space: pre-wrap; margin-bottom: 5px;'>status: approved</div><div style='background-color: background-color: #FEE9CD;; color: background-color: #B8520A;; display: block; white-space: pre-wrap; margin-bottom: 5px;'>approved_by: admin</div><div style='background-color: transparent; color: #353243; display: block; white-space: pre-wrap; margin-bottom: 5px;'>date_created: 2024-04-27</div><div style='background-color: background-color: #D5F1D5;; color: background-color: #256B24;; display: block; white-space: pre-wrap; margin-bottom: 5px;'>code: @syft.function\ndef compute_mean(data: np.ndarray):\n    print(\"computing mean...\")\n    return data.mean()\n</div></div></div>"
      }
     },
     "282a02c9106043d4bf451194c86ae73b": {
      "model_module": "@jupyter-widgets/controls",
      "model_module_version": "2.0.0",
      "model_name": "HTMLStyleModel",
      "state": {
       "description_width": "",
       "font_size": null,
       "text_color": null
      }
     },
     "2848b08895e94a44b5aa1e91b0feac83": {
      "model_module": "@jupyter-widgets/controls",
      "model_module_version": "2.0.0",
      "model_name": "HTMLStyleModel",
      "state": {
       "description_width": "",
       "font_size": null,
       "text_color": null
      }
     },
     "28544a47ea4d4247a9e1adbded06e39e": {
      "model_module": "@jupyter-widgets/controls",
      "model_module_version": "2.0.0",
      "model_name": "HTMLStyleModel",
      "state": {
       "description_width": "",
       "font_size": null,
       "text_color": null
      }
     },
     "287854f93c8941cdb42d7b45f823899a": {
      "model_module": "@jupyter-widgets/controls",
      "model_module_version": "2.0.0",
      "model_name": "HTMLModel",
      "state": {
       "layout": "IPY_MODEL_f2644c97aa684470a59e25e800d0e182",
       "style": "IPY_MODEL_8f5692c4b9cb4e728fe722bb6000f4d7",
       "value": "<span style='color: #B4B0BF;'>Syncing changes on</span>"
      }
     },
     "2904c722500d433aa57a0d66aaf70d50": {
      "model_module": "@jupyter-widgets/base",
      "model_module_version": "2.0.0",
      "model_name": "LayoutModel",
      "state": {}
     },
     "291a1e341a8c4d8d8d3cf3eca8e04f35": {
      "model_module": "@jupyter-widgets/base",
      "model_module_version": "2.0.0",
      "model_name": "LayoutModel",
      "state": {}
     },
     "2949f6141ebe41058a223b39e28ba91a": {
      "model_module": "@jupyter-widgets/base",
      "model_module_version": "2.0.0",
      "model_name": "LayoutModel",
      "state": {}
     },
     "29525fb25dc046878d346a63a5f9b22f": {
      "model_module": "@jupyter-widgets/output",
      "model_module_version": "1.0.0",
      "model_name": "OutputModel",
      "state": {
       "layout": "IPY_MODEL_deb2e143f3994f6f8a6706bcf91fadcf"
      }
     },
     "295fe0271df8424f838d11ca8cfb27ab": {
      "model_module": "@jupyter-widgets/controls",
      "model_module_version": "2.0.0",
      "model_name": "HTMLStyleModel",
      "state": {
       "description_width": "",
       "font_size": null,
       "text_color": null
      }
     },
     "29624f84a20d4886810abe3f1ad7f4b6": {
      "model_module": "@jupyter-widgets/controls",
      "model_module_version": "2.0.0",
      "model_name": "HTMLStyleModel",
      "state": {
       "description_width": "",
       "font_size": null,
       "text_color": null
      }
     },
     "2a11ca63e851464cae54192437ecdf16": {
      "model_module": "@jupyter-widgets/base",
      "model_module_version": "2.0.0",
      "model_name": "LayoutModel",
      "state": {}
     },
     "2a2e0109a4ca4c9a813e260a99ae84a9": {
      "model_module": "@jupyter-widgets/controls",
      "model_module_version": "2.0.0",
      "model_name": "VBoxModel",
      "state": {
       "children": [
        "IPY_MODEL_40124073ffce4cb491f8720265d3dc9a",
        "IPY_MODEL_4fa4b905b0db45a1b2dcd015c740e4d8",
        "IPY_MODEL_c7db363a5b3b42c9bc37d8d564a44bd3"
       ],
       "layout": "IPY_MODEL_305177b59e724cc2956d4597bdc845f7"
      }
     },
     "2a3bd7bdb69543c28a80bae730b3bb07": {
      "model_module": "@jupyter-widgets/controls",
      "model_module_version": "2.0.0",
      "model_name": "BoxModel",
      "state": {
       "children": [
        "IPY_MODEL_2e9b713e86d549b4b3f959defa7454b3"
       ],
       "layout": "IPY_MODEL_93942aa8a95d48f8a3a31d2fea43eb7c"
      }
     },
     "2aa17c7fe3d4433b917921d5df811e52": {
      "model_module": "@jupyter-widgets/controls",
      "model_module_version": "2.0.0",
      "model_name": "HTMLStyleModel",
      "state": {
       "description_width": "",
       "font_size": null,
       "text_color": null
      }
     },
     "2b511445d714438a975772cfd826994b": {
      "model_module": "@jupyter-widgets/controls",
      "model_module_version": "2.0.0",
      "model_name": "HTMLModel",
      "state": {
       "layout": "IPY_MODEL_26af31cedca24208a6c1ba3ccf4319b6",
       "style": "IPY_MODEL_1769dba67f52489a9bc0af2391de34e8",
       "value": "<div style='font-family: monospace; width: 100%;'><b>High side</b><br><div style='border-left: 1px solid #000; padding-left: 10px;'><div style='background-color: #ffffcc;display: block; white-space: pre-wrap; margin-bottom: 5px;'>status: approved</div><div style='background-color: #ffffcc;display: block; white-space: pre-wrap; margin-bottom: 5px;'>approved_by: admin</div><div style='display: block; white-space: pre-wrap; margin-bottom: 5px;'>date_created: 2024-04-27</div></div></div>"
      }
     },
     "2b71c93f945d4ce3a0b5d01397ffe156": {
      "model_module": "@jupyter-widgets/base",
      "model_module_version": "2.0.0",
      "model_name": "LayoutModel",
      "state": {}
     },
     "2baf0f046bde41f68676a1113ed2f773": {
      "model_module": "@jupyter-widgets/controls",
      "model_module_version": "2.0.0",
      "model_name": "ButtonModel",
      "state": {
       "icon": "clone",
       "layout": "IPY_MODEL_f72564ff01e140b2bb366f71f4e1d4ae",
       "style": "IPY_MODEL_88f6a0ef1f3c468899ddaf2579047f92",
       "tooltip": null
      }
     },
     "2bd06e4a27d04e34ac68a5d77250e9f6": {
      "model_module": "@jupyter-widgets/controls",
      "model_module_version": "2.0.0",
      "model_name": "HTMLStyleModel",
      "state": {
       "description_width": "",
       "font_size": null,
       "text_color": null
      }
     },
     "2bf30908793a451fa2087a1bfaf2cff1": {
      "model_module": "@jupyter-widgets/base",
      "model_module_version": "2.0.0",
      "model_name": "LayoutModel",
      "state": {}
     },
     "2c47feb4881e4033a237c0524dbc53f1": {
      "model_module": "@jupyter-widgets/base",
      "model_module_version": "2.0.0",
      "model_name": "LayoutModel",
      "state": {
       "overflow": "auto",
       "width": "50%"
      }
     },
     "2cb6e585c25a4649a959a84d57361ac5": {
      "model_module": "@jupyter-widgets/base",
      "model_module_version": "2.0.0",
      "model_name": "LayoutModel",
      "state": {}
     },
     "2cf858a7a8964bc39795b3606039e89a": {
      "model_module": "@jupyter-widgets/base",
      "model_module_version": "2.0.0",
      "model_name": "LayoutModel",
      "state": {
       "align_items": "center",
       "display": "flex"
      }
     },
     "2d0f2047684a4504bc67c1127474a41c": {
      "model_module": "@jupyter-widgets/controls",
      "model_module_version": "2.0.0",
      "model_name": "VBoxModel",
      "state": {
       "children": [
        "IPY_MODEL_b21825c9d7b64554b6ce5f29aff0fdad",
        "IPY_MODEL_b30a191aebb748bba76d1f07ab184521",
        "IPY_MODEL_e793e4fb56ac4f32a571016e17063f9d",
        "IPY_MODEL_50dc6ce8e25546faa22c88f84155558b"
       ],
       "layout": "IPY_MODEL_06b291f3422d4f0bb316ab1d2265d99d"
      }
     },
     "2d2ee62f2d384de7be7242725c66027c": {
      "model_module": "@jupyter-widgets/base",
      "model_module_version": "2.0.0",
      "model_name": "LayoutModel",
      "state": {}
     },
     "2d42bb9712424d2093557ed065dea2b6": {
      "model_module": "@jupyter-widgets/base",
      "model_module_version": "2.0.0",
      "model_name": "LayoutModel",
      "state": {
       "overflow": "auto",
       "width": "50%"
      }
     },
     "2d74bd0890774805a9f461707837da6d": {
      "model_module": "@jupyter-widgets/base",
      "model_module_version": "2.0.0",
      "model_name": "LayoutModel",
      "state": {}
     },
     "2da2970570564e1ebb800d9884f9c76d": {
      "model_module": "@jupyter-widgets/controls",
      "model_module_version": "2.0.0",
      "model_name": "VBoxModel",
      "state": {
       "children": [
        "IPY_MODEL_defef896052e40b1b36be0b62d12ea10",
        "IPY_MODEL_cc4b39339ba04811b02db5c2d6b26404",
        "IPY_MODEL_15d20699c94348378b60e17e7c231512"
       ],
       "layout": "IPY_MODEL_93d8b06f3c5f4baba077ebd299793dd3"
      }
     },
     "2db972fecf344fa8aa6b1f0fdfb29510": {
      "model_module": "@jupyter-widgets/controls",
      "model_module_version": "2.0.0",
      "model_name": "HTMLModel",
      "state": {
       "layout": "IPY_MODEL_b6a99fa688024f4c8bae30d613d50de7",
       "style": "IPY_MODEL_34543c7c19a44f07a59acdfc71bec7e5",
       "value": "<span style='margin-left: 5px; font-weight: bold; color: #373B7B;'>compute_mean</span> <span style='margin-left: 5px; color: #B4B0BF;'>#1234...</span>"
      }
     },
     "2dc2aa52e129455a8034f4fcbfe326cb": {
      "model_module": "@jupyter-widgets/controls",
      "model_module_version": "2.0.0",
      "model_name": "CheckboxModel",
      "state": {
       "description": "Sync",
       "disabled": false,
       "layout": "IPY_MODEL_e119d8f6632647b1b2d0cccc4b93bee8",
       "style": "IPY_MODEL_457bba0d85814d638c3ae35599279719",
       "value": false
      }
     },
     "2deeb5edeb7444edb72ed55fcf56e1ac": {
      "model_module": "@jupyter-widgets/base",
      "model_module_version": "2.0.0",
      "model_name": "LayoutModel",
      "state": {
       "height": "25px",
       "margin": "0",
       "padding": "0",
       "width": "25px"
      }
     },
     "2e68d7f1987148c985adc636ac98eb89": {
      "model_module": "@jupyter-widgets/controls",
      "model_module_version": "2.0.0",
      "model_name": "HTMLModel",
      "state": {
       "layout": "IPY_MODEL_6ab9dee404f243d1924b8a14f4f10f6a",
       "style": "IPY_MODEL_ad516ef7442a42d291e68fdab3395f84",
       "value": "<span style='color: #B4B0BF;'>Syncing changes on</span>"
      }
     },
     "2e96a3aa880a41499dbdcbaceafd8b7f": {
      "model_module": "@jupyter-widgets/controls",
      "model_module_version": "2.0.0",
      "model_name": "HBoxModel",
      "state": {
       "children": [
        "IPY_MODEL_b88011088b95464197993f1685c39f3e",
        "IPY_MODEL_247784bfbdc248b6b318774525b2d80d"
       ],
       "layout": "IPY_MODEL_8594faf2de464e4097962b92490072ef"
      }
     },
     "2e9b713e86d549b4b3f959defa7454b3": {
      "model_module": "@jupyter-widgets/controls",
      "model_module_version": "2.0.0",
      "model_name": "HTMLModel",
      "state": {
       "layout": "IPY_MODEL_561b2b41bcd04118899dfb5e6eee398b",
       "style": "IPY_MODEL_8f2bea01794c48f5b441b49a8b378e04",
       "value": "<div>abfwegwer</div>"
      }
     },
     "2ecd7fba4da640beb9b7881d55dd884c": {
      "model_module": "@jupyter-widgets/base",
      "model_module_version": "2.0.0",
      "model_name": "LayoutModel",
      "state": {
       "width": "100%"
      }
     },
     "2f1a577569f743b385f19fa0a4b58eaf": {
      "model_module": "@jupyter-widgets/controls",
      "model_module_version": "2.0.0",
      "model_name": "VBoxModel",
      "state": {
       "children": [
        "IPY_MODEL_d79189a710dc44afa7281a171b9c389f",
        "IPY_MODEL_75a8c0e375bf425ab71aaa2d68c71606"
       ],
       "layout": "IPY_MODEL_0790a2889d474e88b345fcdbc1fe0a83"
      }
     },
     "2f7b397370c34dbb8c226a514b0c0d16": {
      "model_module": "@jupyter-widgets/controls",
      "model_module_version": "2.0.0",
      "model_name": "VBoxModel",
      "state": {
       "children": [
        "IPY_MODEL_de4efe3db819478ea52055265753f05c",
        "IPY_MODEL_e35c76229e3847ce99b30084b9c085c1",
        "IPY_MODEL_8d3e0a7a26d848b5bffdf1d655342e5d"
       ],
       "layout": "IPY_MODEL_e46bb3c10a7747edbb3525088dbe1d46"
      }
     },
     "2f999bb8db8c42a1a7f69c356f61fd73": {
      "model_module": "@jupyter-widgets/controls",
      "model_module_version": "2.0.0",
      "model_name": "VBoxModel",
      "state": {
       "children": [
        "IPY_MODEL_b4d9e57cc947476c8fd7e43ec23b63a4",
        "IPY_MODEL_fe1ad062df8d48929a6b3c45bc9bb79e"
       ],
       "layout": "IPY_MODEL_17cd081e0f184d0d9d4c76a5674f7a15"
      }
     },
     "2fa4db05df8f4fa0b0ade43d0480c59b": {
      "model_module": "@jupyter-widgets/base",
      "model_module_version": "2.0.0",
      "model_name": "LayoutModel",
      "state": {}
     },
     "2fac68261a6b45ee80ddf87dd20d6418": {
      "model_module": "@jupyter-widgets/base",
      "model_module_version": "2.0.0",
      "model_name": "LayoutModel",
      "state": {
       "display": "none"
      }
     },
     "2fe6fddb4f444409a6f8c210ce6fd83f": {
      "model_module": "@jupyter-widgets/base",
      "model_module_version": "2.0.0",
      "model_name": "LayoutModel",
      "state": {
       "display": "none"
      }
     },
     "301df64382b743be8f70a346cee8c4e3": {
      "model_module": "@jupyter-widgets/controls",
      "model_module_version": "2.0.0",
      "model_name": "HTMLModel",
      "state": {
       "layout": "IPY_MODEL_d1acca3dd6324f30a2e49c1430da501c",
       "style": "IPY_MODEL_9cf58c12779e47b2a01e0941fcc15970",
       "value": "<span style='background-color: #C2DEF0; border-radius: 4px; padding: 4px 6px; color: #373B7B;'>Code</span>"
      }
     },
     "3044b5a9dd0e49cb99ff9f4d21b413ff": {
      "model_module": "@jupyter-widgets/base",
      "model_module_version": "2.0.0",
      "model_name": "LayoutModel",
      "state": {
       "display": "none"
      }
     },
     "305177b59e724cc2956d4597bdc845f7": {
      "model_module": "@jupyter-widgets/base",
      "model_module_version": "2.0.0",
      "model_name": "LayoutModel",
      "state": {}
     },
     "31273676e5ab496e8cf663a361f50738": {
      "model_module": "@jupyter-widgets/base",
      "model_module_version": "2.0.0",
      "model_name": "LayoutModel",
      "state": {
       "height": "25px",
       "margin": "0",
       "padding": "0",
       "width": "25px"
      }
     },
     "312e8fff82df4c9fbdb630ad3ac0934b": {
      "model_module": "@jupyter-widgets/controls",
      "model_module_version": "2.0.0",
      "model_name": "HTMLStyleModel",
      "state": {
       "description_width": "",
       "font_size": null,
       "text_color": null
      }
     },
     "315985c71c2a4dc79e9accacbd83aa81": {
      "model_module": "@jupyter-widgets/controls",
      "model_module_version": "2.0.0",
      "model_name": "HTMLModel",
      "state": {
       "layout": "IPY_MODEL_025d09a87d5c428a92a51cced5f226cd",
       "style": "IPY_MODEL_9d0bbf9da8194105845dcaf04069a89d",
       "value": "<div>abfwegwer</div>"
      }
     },
     "317005223693443590f8f0c69755d14e": {
      "model_module": "@jupyter-widgets/controls",
      "model_module_version": "2.0.0",
      "model_name": "VBoxModel",
      "state": {
       "children": [
        "IPY_MODEL_6d9a2222f3e94b81b1776e0f27cdd4eb",
        "IPY_MODEL_d91b83ca27944480b6c3b21b2a31e5fb"
       ],
       "layout": "IPY_MODEL_7d62025d900444818df2d2a39b482b16"
      }
     },
     "31ae84de0d47441b931f5b3d5ad27db7": {
      "model_module": "@jupyter-widgets/base",
      "model_module_version": "2.0.0",
      "model_name": "LayoutModel",
      "state": {
       "overflow": "auto",
       "width": "50%"
      }
     },
     "31e95ef06d5548da9185697236c3f066": {
      "model_module": "@jupyter-widgets/controls",
      "model_module_version": "2.0.0",
      "model_name": "HTMLStyleModel",
      "state": {
       "description_width": "",
       "font_size": null,
       "text_color": null
      }
     },
     "3292f2c9597849e3b011415f14542e92": {
      "model_module": "@jupyter-widgets/base",
      "model_module_version": "2.0.0",
      "model_name": "LayoutModel",
      "state": {
       "border_bottom": "solid 2px",
       "border_left": "solid 2px",
       "border_right": "solid 2px",
       "border_top": "solid 2px"
      }
     },
     "32a1fc296aa54874a6a711052346001a": {
      "model_module": "@jupyter-widgets/controls",
      "model_module_version": "2.0.0",
      "model_name": "HTMLStyleModel",
      "state": {
       "description_width": "",
       "font_size": null,
       "text_color": null
      }
     },
     "32d3f3d190c14a209f6867b78e484c01": {
      "model_module": "@jupyter-widgets/controls",
      "model_module_version": "2.0.0",
      "model_name": "ButtonStyleModel",
      "state": {
       "font_family": null,
       "font_size": null,
       "font_style": null,
       "font_variant": null,
       "font_weight": null,
       "text_color": null,
       "text_decoration": null
      }
     },
     "33064bc559d14ebd93ff22c456aafd91": {
      "model_module": "@jupyter-widgets/controls",
      "model_module_version": "2.0.0",
      "model_name": "VBoxModel",
      "state": {
       "children": [
        "IPY_MODEL_bf062c8fdce649f7be25280e76f16360",
        "IPY_MODEL_5afa4144f5bd4bc9b260eb4042e49426"
       ],
       "layout": "IPY_MODEL_dd0e2d87a1044d94b9b56a758ec05415"
      }
     },
     "3325e3fd8162448ba4b58238a7cdb939": {
      "model_module": "@jupyter-widgets/base",
      "model_module_version": "2.0.0",
      "model_name": "LayoutModel",
      "state": {
       "overflow": "auto",
       "width": "50%"
      }
     },
     "33a4206f6b904710b20c90ecb32cc206": {
      "model_module": "@jupyter-widgets/base",
      "model_module_version": "2.0.0",
      "model_name": "LayoutModel",
      "state": {
       "overflow": "auto",
       "width": "50%"
      }
     },
     "33b8931349f84e01b97369d5690d4a9e": {
      "model_module": "@jupyter-widgets/controls",
      "model_module_version": "2.0.0",
      "model_name": "VBoxModel",
      "state": {
       "children": [
        "IPY_MODEL_4fb6fe9281f44eb99a74f2c2e3239412",
        "IPY_MODEL_08a48cc0fd05470faac4a0620376059f",
        "IPY_MODEL_ab8d6aa1638a48ccb87fd1c815ddcce2",
        "IPY_MODEL_7cfeccdee92a4f8d98b1effc39d6ddf1",
        "IPY_MODEL_3e0c3974538c438696900dfb22b973c4"
       ],
       "layout": "IPY_MODEL_24175e0ef54d41b4a513f182cc59faea"
      }
     },
     "33f95a45230b43c98237e111243ff452": {
      "model_module": "@jupyter-widgets/base",
      "model_module_version": "2.0.0",
      "model_name": "LayoutModel",
      "state": {}
     },
     "34543c7c19a44f07a59acdfc71bec7e5": {
      "model_module": "@jupyter-widgets/controls",
      "model_module_version": "2.0.0",
      "model_name": "HTMLStyleModel",
      "state": {
       "description_width": "",
       "font_size": null,
       "text_color": null
      }
     },
     "34943f44e47c4997a49b26e870fc19be": {
      "model_module": "@jupyter-widgets/controls",
      "model_module_version": "2.0.0",
      "model_name": "HTMLStyleModel",
      "state": {
       "description_width": "",
       "font_size": null,
       "text_color": null
      }
     },
     "349820596e5142098ebc88bc1e20270e": {
      "model_module": "@jupyter-widgets/base",
      "model_module_version": "2.0.0",
      "model_name": "LayoutModel",
      "state": {}
     },
     "34e419fc878a4a6d9cb85971000bb26d": {
      "model_module": "@jupyter-widgets/controls",
      "model_module_version": "2.0.0",
      "model_name": "HBoxModel",
      "state": {
       "children": [
        "IPY_MODEL_6ae95543d19c48969fd2c25d5ed17104",
        "IPY_MODEL_c932eb11a5264a7ebf3e137655ca9f71"
       ],
       "layout": "IPY_MODEL_2554cd8d5b78477786655aabd616e946"
      }
     },
     "34f1037873b44a79aeee5da83139485a": {
      "model_module": "@jupyter-widgets/controls",
      "model_module_version": "2.0.0",
      "model_name": "VBoxModel",
      "state": {
       "children": [
        "IPY_MODEL_9a87c843ca4a44188f16fc666ef76db0",
        "IPY_MODEL_7ab7c1c9ccaa4468901dbb99b065d8dc"
       ],
       "layout": "IPY_MODEL_8bbb2461cede41829c0918fdb71fc52a"
      }
     },
     "351f4685b89f4666841f4286cbefc0c7": {
      "model_module": "@jupyter-widgets/base",
      "model_module_version": "2.0.0",
      "model_name": "LayoutModel",
      "state": {
       "overflow": "auto",
       "width": "50%"
      }
     },
     "353c76d441ab4b11ae272390e7646e70": {
      "model_module": "@jupyter-widgets/controls",
      "model_module_version": "2.0.0",
      "model_name": "CheckboxStyleModel",
      "state": {
       "description_width": ""
      }
     },
     "358225f89ebb4b1793600b7f7b9ec746": {
      "model_module": "@jupyter-widgets/controls",
      "model_module_version": "2.0.0",
      "model_name": "HTMLModel",
      "state": {
       "layout": "IPY_MODEL_0e1536713dbc4a04af2f0ec2f267553d",
       "style": "IPY_MODEL_5305da3022c247f69eee0f7cf3c7d558",
       "value": "<span style='margin-left: 5px; font-weight: bold; color: #373B7B;'>compute_mean</span> <span style='margin-left: 5px; color: #B4B0BF;'>#1234...</span>"
      }
     },
     "3598f8298b2947d59c443cf807835572": {
      "model_module": "@jupyter-widgets/base",
      "model_module_version": "2.0.0",
      "model_name": "LayoutModel",
      "state": {}
     },
     "35ab40ab23c2429494cef1e1b27fc942": {
      "model_module": "@jupyter-widgets/controls",
      "model_module_version": "2.0.0",
      "model_name": "HTMLStyleModel",
      "state": {
       "description_width": "",
       "font_size": null,
       "text_color": null
      }
     },
     "35e7f39079d04c84ba3b226a26495a38": {
      "model_module": "@jupyter-widgets/base",
      "model_module_version": "2.0.0",
      "model_name": "LayoutModel",
      "state": {
       "align_items": "center"
      }
     },
     "35f648c913cc47779c1f8931392cff88": {
      "model_module": "@jupyter-widgets/controls",
      "model_module_version": "2.0.0",
      "model_name": "CheckboxStyleModel",
      "state": {
       "description_width": ""
      }
     },
     "35fcf045b1f4402a9ee2aba7e241d28b": {
      "model_module": "@jupyter-widgets/controls",
      "model_module_version": "2.0.0",
      "model_name": "HTMLStyleModel",
      "state": {
       "description_width": "",
       "font_size": null,
       "text_color": null
      }
     },
     "369588f39f8944588983405c024f4514": {
      "model_module": "@jupyter-widgets/controls",
      "model_module_version": "2.0.0",
      "model_name": "HTMLModel",
      "state": {
       "layout": "IPY_MODEL_6b6a0e223e5f4af7b666dd9557431fa5",
       "style": "IPY_MODEL_3a21f55c3a5347a6a7f1fd1d01da05c9",
       "value": "<span style='color: #5E5A72;'>This would sync <span style='color: #B8520A'>2 changes </span> from <i>Low Node</i> to <i>High Node</i></span>"
      }
     },
     "36c7418bcf904f1095753148ea80a0a8": {
      "model_module": "@jupyter-widgets/controls",
      "model_module_version": "2.0.0",
      "model_name": "HTMLStyleModel",
      "state": {
       "description_width": "",
       "font_size": null,
       "text_color": null
      }
     },
     "372f80c5af854b8aa5775b79a0932b79": {
      "model_module": "@jupyter-widgets/controls",
      "model_module_version": "2.0.0",
      "model_name": "ButtonModel",
      "state": {
       "icon": "clone",
       "layout": "IPY_MODEL_2deeb5edeb7444edb72ed55fcf56e1ac",
       "style": "IPY_MODEL_fd02287f5ce247f4ae68ea801c32cc87",
       "tooltip": null
      }
     },
     "375daad0cbad4500a44f31809652f6f6": {
      "model_module": "@jupyter-widgets/base",
      "model_module_version": "2.0.0",
      "model_name": "LayoutModel",
      "state": {
       "overflow": "auto",
       "width": "50%"
      }
     },
     "37a1e9490cd544dfaf526ce0d0de65a5": {
      "model_module": "@jupyter-widgets/base",
      "model_module_version": "2.0.0",
      "model_name": "LayoutModel",
      "state": {
       "overflow": "auto",
       "width": "50%"
      }
     },
     "37a5ed1ac1ac459386c0049d2139a6be": {
      "model_module": "@jupyter-widgets/base",
      "model_module_version": "2.0.0",
      "model_name": "LayoutModel",
      "state": {}
     },
     "37ab82603a6d4937a19e625f8cbefceb": {
      "model_module": "@jupyter-widgets/controls",
      "model_module_version": "2.0.0",
      "model_name": "HTMLStyleModel",
      "state": {
       "description_width": "",
       "font_size": null,
       "text_color": null
      }
     },
     "37d82e9390f4442dbdffe616ff53c8e3": {
      "model_module": "@jupyter-widgets/controls",
      "model_module_version": "2.0.0",
      "model_name": "LabelStyleModel",
      "state": {
       "description_width": "",
       "font_family": null,
       "font_size": null,
       "font_style": null,
       "font_variant": null,
       "font_weight": null,
       "text_color": null,
       "text_decoration": null
      }
     },
     "37f88844251e4ed6b3880a68990b855c": {
      "model_module": "@jupyter-widgets/controls",
      "model_module_version": "2.0.0",
      "model_name": "HTMLModel",
      "state": {
       "layout": "IPY_MODEL_f030fa40862e4d059fa0ac1b8c9b28c5",
       "style": "IPY_MODEL_dd8d8f02881b473d9c20465d2dae98b2",
       "value": "<span style='margin-left: 5px; font-weight: bold; color: #373B7B;'>main_1</span> <span style='margin-left: 5px; color: #B4B0BF;'>#1234...</span>"
      }
     },
     "3800a9841cc34008832bfc18ebd335c3": {
      "model_module": "@jupyter-widgets/controls",
      "model_module_version": "2.0.0",
      "model_name": "ButtonModel",
      "state": {
       "icon": "clone",
       "layout": "IPY_MODEL_6728af9091be401c9a0570e0060ac209",
       "style": "IPY_MODEL_001dce95d46f49b081b7ec299acaad59",
       "tooltip": null
      }
     },
     "3805c33404ea4c4090ff25566d7debfe": {
      "model_module": "@jupyter-widgets/controls",
      "model_module_version": "2.0.0",
      "model_name": "HTMLStyleModel",
      "state": {
       "description_width": "",
       "font_size": null,
       "text_color": null
      }
     },
     "3876a28946ba4481a54b446490554ba3": {
      "model_module": "@jupyter-widgets/controls",
      "model_module_version": "2.0.0",
      "model_name": "HTMLStyleModel",
      "state": {
       "description_width": "",
       "font_size": null,
       "text_color": null
      }
     },
     "388ea4e9552446a9b3d2bc976677302a": {
      "model_module": "@jupyter-widgets/controls",
      "model_module_version": "2.0.0",
      "model_name": "HTMLStyleModel",
      "state": {
       "description_width": "",
       "font_size": null,
       "text_color": null
      }
     },
     "38925569306d4f91aaf70d4b6f7c32ae": {
      "model_module": "@jupyter-widgets/controls",
      "model_module_version": "2.0.0",
      "model_name": "HTMLModel",
      "state": {
       "layout": "IPY_MODEL_2ecd7fba4da640beb9b7881d55dd884c",
       "style": "IPY_MODEL_7b40d91c2afc4d959d935adca1c1a3ca",
       "value": "<div style=\"text-align: center; margin: 10px 0; border: 1px dashed #B4B0BF;\"></div>"
      }
     },
     "38b91d8b869c4630b02aafe1e21e3c57": {
      "model_module": "@jupyter-widgets/base",
      "model_module_version": "2.0.0",
      "model_name": "LayoutModel",
      "state": {
       "overflow": "auto",
       "width": "50%"
      }
     },
     "38c1d4fcafc842a9b3735af3e7939fb9": {
      "model_module": "@jupyter-widgets/controls",
      "model_module_version": "2.0.0",
      "model_name": "HTMLStyleModel",
      "state": {
       "description_width": "",
       "font_size": null,
       "text_color": null
      }
     },
     "38e106aebbee431987e055bf7691421f": {
      "model_module": "@jupyter-widgets/controls",
      "model_module_version": "2.0.0",
      "model_name": "HTMLModel",
      "state": {
       "layout": "IPY_MODEL_90e6256a969b44ffa3001f7630426772",
       "style": "IPY_MODEL_e783c840026d408e80253671125d2fdd",
       "value": "<span style='background-color: #C2DEF0; border-radius: 4px; padding: 4px 6px; color: #373B7B;'>Code</span>"
      }
     },
     "38e132d8a6de4b30b6c03bc68648c29c": {
      "model_module": "@jupyter-widgets/base",
      "model_module_version": "2.0.0",
      "model_name": "LayoutModel",
      "state": {}
     },
     "390120bb386b4a738bd281bf67a5ca21": {
      "model_module": "@jupyter-widgets/controls",
      "model_module_version": "2.0.0",
      "model_name": "HTMLModel",
      "state": {
       "layout": "IPY_MODEL_f88189145026422781c781127c69aeb3",
       "style": "IPY_MODEL_7fa50809ae834af6ab387101a19ae49d",
       "value": "<div style='font-family: monospace; width: 100%;'><b>Low side</b><br><div style='border-left: 1px solid #000; padding-left: 10px;'><div style='background-color: background-color: #FEE9CD;; color: background-color: #B8520A;; display: block; white-space: pre-wrap; margin-bottom: 5px;'>status: pending</div><div style='background-color: background-color: #FEE9CD;; color: background-color: #B8520A;; display: block; white-space: pre-wrap; margin-bottom: 5px;'>approved_by: None</div><div style='background-color: transparent; color: #353243; display: block; white-space: pre-wrap; margin-bottom: 5px;'>date_created: 2024-04-27</div><div style='background-color: background-color: #D5F1D5;; color: background-color: #256B24;; display: block; white-space: pre-wrap; margin-bottom: 5px;'>code: None</div></div></div>"
      }
     },
     "39435afd1d29414ebd43fed2fc28bfd5": {
      "model_module": "@jupyter-widgets/base",
      "model_module_version": "2.0.0",
      "model_name": "LayoutModel",
      "state": {}
     },
     "39c98e3eba8540be81c363c00854f49d": {
      "model_module": "@jupyter-widgets/controls",
      "model_module_version": "2.0.0",
      "model_name": "HTMLStyleModel",
      "state": {
       "description_width": "",
       "font_size": null,
       "text_color": null
      }
     },
     "39dab1103ccd45abb0a82ebe0cca709a": {
      "model_module": "@jupyter-widgets/base",
      "model_module_version": "2.0.0",
      "model_name": "LayoutModel",
      "state": {
       "overflow": "auto",
       "width": "50%"
      }
     },
     "39e8ec5d21c94b9dad71ea4a49d98eed": {
      "model_module": "@jupyter-widgets/controls",
      "model_module_version": "2.0.0",
      "model_name": "HTMLModel",
      "state": {
       "layout": "IPY_MODEL_444f32f73b024397ab4da5e2e6c128b7",
       "style": "IPY_MODEL_6e4bad2f1c5f4497a25d730e8d76ed27",
       "value": "<div style='font-family: monospace; width: 100%;'><b>High side</b><br><div style='border-left: 1px solid #000; padding-left: 10px;'><div style='background-color: #ffffcc;display: block; white-space: pre-wrap; margin-bottom: 5px;'>status: approved</div><div style='background-color: #ffffcc;display: block; white-space: pre-wrap; margin-bottom: 5px;'>approved_by: admin</div><div style='display: block; white-space: pre-wrap; margin-bottom: 5px;'>date_created: 2024-04-27</div><div style='background-color: #ddffdd;display: block; white-space: pre-wrap; margin-bottom: 5px;'>code: @syft.function\ndef compute_mean(data: np.ndarray):\n    print(\"computing mean...\")\n    return data.mean()\n</div></div></div>"
      }
     },
     "3a12609b818845dfa68007977847f73c": {
      "model_module": "@jupyter-widgets/base",
      "model_module_version": "2.0.0",
      "model_name": "LayoutModel",
      "state": {
       "overflow": "auto",
       "width": "50%"
      }
     },
     "3a1acbdf4ed74a509fe86eb9a0b6a013": {
      "model_module": "@jupyter-widgets/controls",
      "model_module_version": "2.0.0",
      "model_name": "HTMLModel",
      "state": {
       "layout": "IPY_MODEL_483b7496894544e88a715c7a6f823d65",
       "style": "IPY_MODEL_ff49197184e7473abea3a598932fd4a3",
       "value": "<div style='height: 16px;'></div>"
      }
     },
     "3a21f55c3a5347a6a7f1fd1d01da05c9": {
      "model_module": "@jupyter-widgets/controls",
      "model_module_version": "2.0.0",
      "model_name": "HTMLStyleModel",
      "state": {
       "description_width": "",
       "font_size": null,
       "text_color": null
      }
     },
     "3a2522a10cf14216a2ab56777d5fc9ee": {
      "model_module": "@jupyter-widgets/controls",
      "model_module_version": "2.0.0",
      "model_name": "HTMLModel",
      "state": {
       "layout": "IPY_MODEL_8411030e83a147e4b77a1b963beece49",
       "style": "IPY_MODEL_df253ef9573242ba88f5d6f979b0c862",
       "value": "<div style='font-family: monospace; width: 100%;'>High side<br><div style='border-left: 1px solid #000; padding-left: 10px;'><div style='background-color: #FEE9CD;; color: #B8520A;; display: block; white-space: pre-wrap; margin-bottom: 5px;'>status: approved</div><div style='background-color: #FEE9CD;; color: #B8520A;; display: block; white-space: pre-wrap; margin-bottom: 5px;'>approved_by: admin</div><div style='background-color: transparent; color: #353243; display: block; white-space: pre-wrap; margin-bottom: 5px;'>date_created: 2024-04-27</div></div></div>"
      }
     },
     "3a561467d01244f1b68c04337776bc92": {
      "model_module": "@jupyter-widgets/controls",
      "model_module_version": "2.0.0",
      "model_name": "HBoxModel",
      "state": {
       "layout": "IPY_MODEL_952e94c314e3471fa3ab5f061b7ae5d3"
      }
     },
     "3a57f9bfc99849389e84c74811af7896": {
      "model_module": "@jupyter-widgets/controls",
      "model_module_version": "2.0.0",
      "model_name": "HTMLModel",
      "state": {
       "layout": "IPY_MODEL_7ab7a4ed6b9c4090994bf12d420a58a3",
       "style": "IPY_MODEL_39c98e3eba8540be81c363c00854f49d",
       "value": "<span style='margin-left: 5px; font-weight: bold; color: #373B7B;'>compute_mean</span> <span style='margin-left: 5px; color: #B4B0BF;'>#1234...</span>"
      }
     },
     "3ae1e61becf54e8d863d44c84f8a5ddc": {
      "model_module": "@jupyter-widgets/base",
      "model_module_version": "2.0.0",
      "model_name": "LayoutModel",
      "state": {}
     },
     "3af840c0a2bb4c9da6689004e8f3238f": {
      "model_module": "@jupyter-widgets/controls",
      "model_module_version": "2.0.0",
      "model_name": "HBoxModel",
      "state": {
       "children": [
        "IPY_MODEL_d978a2f9ea0947708e2a02b6fb91331a",
        "IPY_MODEL_e4a691dae26a483180795644823e1e18"
       ],
       "layout": "IPY_MODEL_ae4056f0f066439e99affbd8b1afaf60"
      }
     },
     "3b5eee63f718429b974dedac25cadd91": {
      "model_module": "@jupyter-widgets/base",
      "model_module_version": "2.0.0",
      "model_name": "LayoutModel",
      "state": {}
     },
     "3b659503e72d4c5b912bce017b0d9eaf": {
      "model_module": "@jupyter-widgets/base",
      "model_module_version": "2.0.0",
      "model_name": "LayoutModel",
      "state": {
       "margin": "0 5px 0 0"
      }
     },
     "3b8e7f5548c643048bfdd58516314942": {
      "model_module": "@jupyter-widgets/controls",
      "model_module_version": "2.0.0",
      "model_name": "HBoxModel",
      "state": {
       "children": [
        "IPY_MODEL_60671ab1953542a6af905afe1811da15",
        "IPY_MODEL_53ed1174389f4214b5154e4e0598e364"
       ],
       "layout": "IPY_MODEL_9d9cacf7bb6c4ef58af786916051fb14"
      }
     },
     "3ba68e083c8649d99bd2cca6d12d6592": {
      "model_module": "@jupyter-widgets/base",
      "model_module_version": "2.0.0",
      "model_name": "LayoutModel",
      "state": {
       "overflow": "auto",
       "width": "50%"
      }
     },
     "3bab1654b2a5487fb60cf8aac2ea5119": {
      "model_module": "@jupyter-widgets/base",
      "model_module_version": "2.0.0",
      "model_name": "LayoutModel",
      "state": {
       "align_items": "center",
       "display": "flex"
      }
     },
     "3bbf634285ad4b28b3d780c5d80af8a2": {
      "model_module": "@jupyter-widgets/controls",
      "model_module_version": "2.0.0",
      "model_name": "HTMLStyleModel",
      "state": {
       "description_width": "",
       "font_size": null,
       "text_color": null
      }
     },
     "3bf3dcfc19fa43fbbd0b75bed701ff50": {
      "model_module": "@jupyter-widgets/controls",
      "model_module_version": "2.0.0",
      "model_name": "HTMLStyleModel",
      "state": {
       "description_width": "",
       "font_size": null,
       "text_color": null
      }
     },
     "3c349f2dcbfb40348dc4bd368f832ad0": {
      "model_module": "@jupyter-widgets/controls",
      "model_module_version": "2.0.0",
      "model_name": "HTMLModel",
      "state": {
       "layout": "IPY_MODEL_5682c78aaf9846779a201b8315e01c2a",
       "style": "IPY_MODEL_08d3a57d0edf431791d155368a9a1db3",
       "value": "<span style='color: #B4B0BF;'>Syncing changes on</span>"
      }
     },
     "3c6bea9fab0e460e80b5a0923bb9ed92": {
      "model_module": "@jupyter-widgets/controls",
      "model_module_version": "2.0.0",
      "model_name": "HBoxModel",
      "state": {
       "children": [
        "IPY_MODEL_0525a3b3486c4094ae211b0a03ff82bf",
        "IPY_MODEL_e3d3fa2519b54b83a9a82d3de74d0dc5",
        "IPY_MODEL_6924a681a92b410598b07212dd7a9a5e"
       ],
       "layout": "IPY_MODEL_9d3b4378c15542408145d72930cd9830"
      }
     },
     "3c9cee6219ff481990ccb2ad0f5be3b5": {
      "model_module": "@jupyter-widgets/controls",
      "model_module_version": "2.0.0",
      "model_name": "HBoxModel",
      "state": {
       "children": [
        "IPY_MODEL_dbf2952b0f6a44079748725f8dfb010b",
        "IPY_MODEL_e2baf3da9d2c43be83c2e0d8546f0e66"
       ],
       "layout": "IPY_MODEL_234803151413455b94c2b746a6d9d929"
      }
     },
     "3cafa804468c4ae0842cb058e0ba069a": {
      "model_module": "@jupyter-widgets/base",
      "model_module_version": "2.0.0",
      "model_name": "LayoutModel",
      "state": {}
     },
     "3d03e0416acc4781bdcb0ef27c8b0fe3": {
      "model_module": "@jupyter-widgets/controls",
      "model_module_version": "2.0.0",
      "model_name": "HTMLModel",
      "state": {
       "layout": "IPY_MODEL_b2a69e407f3843ffbcb65f7478048cb4",
       "style": "IPY_MODEL_a22c32beaa8640448f8a1356fe867e7e",
       "value": "<span style='color: #B4B0BF;'>Syncing changes on</span>"
      }
     },
     "3db5061ddbeb4500a0c56f16181ece50": {
      "model_module": "@jupyter-widgets/controls",
      "model_module_version": "2.0.0",
      "model_name": "CheckboxStyleModel",
      "state": {
       "description_width": ""
      }
     },
     "3e01f96c5540471eab617bfed441ac5a": {
      "model_module": "@jupyter-widgets/controls",
      "model_module_version": "2.0.0",
      "model_name": "HTMLModel",
      "state": {
       "layout": "IPY_MODEL_8116a80c9f384fcbb04f796d12efd759",
       "style": "IPY_MODEL_de585942987e402ab4c5b4953db0155a",
       "value": "<div style='font-family: monospace; width: 100%;'><b>High side</b><br><div style='border-left: 1px solid #000; padding-left: 10px;'><div style='background-color: #FEE9CD;; color: #B8520A;; display: block; white-space: pre-wrap; margin-bottom: 5px;'>status: approved</div><div style='background-color: #FEE9CD;; color: #B8520A;; display: block; white-space: pre-wrap; margin-bottom: 5px;'>approved_by: admin</div><div style='background-color: transparent; color: #353243; display: block; white-space: pre-wrap; margin-bottom: 5px;'>date_created: 2024-04-27</div></div></div>"
      }
     },
     "3e0c3974538c438696900dfb22b973c4": {
      "model_module": "@jupyter-widgets/controls",
      "model_module_version": "2.0.0",
      "model_name": "AccordionModel",
      "state": {
       "children": [
        "IPY_MODEL_bfb19affd3864c85bb0a9cb06fb4c225"
       ],
       "layout": "IPY_MODEL_04174f5009e74db68a3256d1fbee727e",
       "titles": [
        "Request (2 changes)"
       ]
      }
     },
     "3e0c50f2b1ae4851bdbd4c4c3040c75d": {
      "model_module": "@jupyter-widgets/controls",
      "model_module_version": "2.0.0",
      "model_name": "CheckboxStyleModel",
      "state": {
       "description_width": ""
      }
     },
     "3e1de19648db4d08b9ec979548a38c44": {
      "model_module": "@jupyter-widgets/controls",
      "model_module_version": "2.0.0",
      "model_name": "VBoxModel",
      "state": {
       "children": [
        "IPY_MODEL_ee6f686cd20c42c3a8e2535431f0ed17",
        "IPY_MODEL_246736d4d10c46e48424a775a12856c1"
       ],
       "layout": "IPY_MODEL_e51c9b99a2214b1c9c437f6401004ebb"
      }
     },
     "3e6b775b561b49a58238be0ce2412f72": {
      "model_module": "@jupyter-widgets/base",
      "model_module_version": "2.0.0",
      "model_name": "LayoutModel",
      "state": {
       "align_items": "center",
       "display": "flex"
      }
     },
     "3e96a6f8ff0a482096e7f43f8f52fcd7": {
      "model_module": "@jupyter-widgets/base",
      "model_module_version": "2.0.0",
      "model_name": "LayoutModel",
      "state": {
       "overflow": "auto",
       "width": "50%"
      }
     },
     "3ebe7355bf8a40969bcaccf32ccc4168": {
      "model_module": "@jupyter-widgets/controls",
      "model_module_version": "2.0.0",
      "model_name": "HTMLModel",
      "state": {
       "layout": "IPY_MODEL_a42ac6037cdc4e239c61371580b1607f",
       "style": "IPY_MODEL_28544a47ea4d4247a9e1adbded06e39e",
       "value": "<div style=\"text-align: center; margin: 10px 0; border: 1px dashed #B4B0BF;\"></div>"
      }
     },
     "3ed8eeab7abb42e1b841c3ccf9682e0f": {
      "model_module": "@jupyter-widgets/controls",
      "model_module_version": "2.0.0",
      "model_name": "HBoxModel",
      "state": {
       "children": [
        "IPY_MODEL_1c57aaf7205847a08cccd8a6eaf80e75"
       ],
       "layout": "IPY_MODEL_fbf2ed60dfb347608a85cc71224f4f98"
      }
     },
     "3eed17dea17148c3821a1f058441bdb2": {
      "model_module": "@jupyter-widgets/base",
      "model_module_version": "2.0.0",
      "model_name": "LayoutModel",
      "state": {
       "overflow": "auto",
       "width": "50%"
      }
     },
     "3eee2c37642744d5a2faff0022e7a705": {
      "model_module": "@jupyter-widgets/base",
      "model_module_version": "2.0.0",
      "model_name": "LayoutModel",
      "state": {
       "align_items": "center",
       "display": "flex"
      }
     },
     "3f109fda21f044a99f3a6396946aa1c6": {
      "model_module": "@jupyter-widgets/controls",
      "model_module_version": "2.0.0",
      "model_name": "HTMLStyleModel",
      "state": {
       "description_width": "",
       "font_size": null,
       "text_color": null
      }
     },
     "3f1970cc095e466e98b4a50d6d5ea33e": {
      "model_module": "@jupyter-widgets/controls",
      "model_module_version": "2.0.0",
      "model_name": "HTMLStyleModel",
      "state": {
       "description_width": "",
       "font_size": null,
       "text_color": null
      }
     },
     "3f3c821f6bfa4ef3a3ab6e2dd221f78f": {
      "model_module": "@jupyter-widgets/base",
      "model_module_version": "2.0.0",
      "model_name": "LayoutModel",
      "state": {
       "overflow": "auto",
       "width": "50%"
      }
     },
     "3f7247d03a8b4fd89c338443f896b9d5": {
      "model_module": "@jupyter-widgets/base",
      "model_module_version": "2.0.0",
      "model_name": "LayoutModel",
      "state": {}
     },
     "3fcf1caf651944a1b8fa17d5b6a407f9": {
      "model_module": "@jupyter-widgets/controls",
      "model_module_version": "2.0.0",
      "model_name": "VBoxModel",
      "state": {
       "children": [
        "IPY_MODEL_647cbd05dcf540059c98a93657ae81cb",
        "IPY_MODEL_cb7995b242a2459abee95cae107103f6"
       ],
       "layout": "IPY_MODEL_ed513e3318e7465e89d3cabe8575983a"
      }
     },
     "3fd043aaaf4c422ea8ae57d04dff16c1": {
      "model_module": "@jupyter-widgets/controls",
      "model_module_version": "2.0.0",
      "model_name": "HTMLModel",
      "state": {
       "layout": "IPY_MODEL_cc46e2c77f7b488190e76b4a5dd98e94",
       "style": "IPY_MODEL_46d16ef33c9a440c92b1b648fa999811",
       "value": "<div style='font-family: monospace; width: 100%;'><b>Low side</b><br><div style='border-left: 1px solid #000; padding-left: 10px;'><div style='background-color: #FEE9CD;; color: #B8520A;; display: block; white-space: pre-wrap; margin-bottom: 5px;'>status: pending</div><div style='background-color: #FEE9CD;; color: #B8520A;; display: block; white-space: pre-wrap; margin-bottom: 5px;'>approved_by: None</div><div style='background-color: transparent; color: #353243; display: block; white-space: pre-wrap; margin-bottom: 5px;'>date_created: 2024-04-27</div><div style='background-color: #D5F1D5;; color: #256B24;; display: block; white-space: pre-wrap; margin-bottom: 5px;'>code: None</div></div></div>"
      }
     },
     "3fe2d5beaae4421992f289676d5f46ab": {
      "model_module": "@jupyter-widgets/base",
      "model_module_version": "2.0.0",
      "model_name": "LayoutModel",
      "state": {}
     },
     "40124073ffce4cb491f8720265d3dc9a": {
      "model_module": "@jupyter-widgets/controls",
      "model_module_version": "2.0.0",
      "model_name": "HTMLModel",
      "state": {
       "layout": "IPY_MODEL_91de9ae6267244a7850b3cba03cd8d3d",
       "style": "IPY_MODEL_81b86d127742475cbc0633874d9f9bdd",
       "value": "<span style='color: #B4B0BF;'>Syncing changes on</span>"
      }
     },
     "403856691975448986078de79d621e83": {
      "model_module": "@jupyter-widgets/controls",
      "model_module_version": "2.0.0",
      "model_name": "AccordionModel",
      "state": {
       "children": [
        "IPY_MODEL_317005223693443590f8f0c69755d14e"
       ],
       "layout": "IPY_MODEL_3ae1e61becf54e8d863d44c84f8a5ddc",
       "titles": [
        "Request (2 changes)"
       ]
      }
     },
     "403e9ff1b40c4c0c98a65fda6a204cae": {
      "model_module": "@jupyter-widgets/base",
      "model_module_version": "2.0.0",
      "model_name": "LayoutModel",
      "state": {}
     },
     "404a89ca06ea4f1bae3e0b5c204af4d0": {
      "model_module": "@jupyter-widgets/controls",
      "model_module_version": "2.0.0",
      "model_name": "ButtonStyleModel",
      "state": {
       "font_family": null,
       "font_size": null,
       "font_style": null,
       "font_variant": null,
       "font_weight": null,
       "text_color": null,
       "text_decoration": null
      }
     },
     "40a0d9ea5e9e479791dd3070e767688e": {
      "model_module": "@jupyter-widgets/base",
      "model_module_version": "2.0.0",
      "model_name": "LayoutModel",
      "state": {
       "border_bottom": "solid 1px",
       "border_left": "solid 1px",
       "border_right": "solid 1px",
       "border_top": "solid 1px",
       "margin": "50 50 50 50",
       "padding": "50"
      }
     },
     "40d3916854a34b6ea1545d1d19647ba3": {
      "model_module": "@jupyter-widgets/controls",
      "model_module_version": "2.0.0",
      "model_name": "CheckboxStyleModel",
      "state": {
       "description_width": ""
      }
     },
     "4117e1788e1142339d0cf76b1e1f31ba": {
      "model_module": "@jupyter-widgets/base",
      "model_module_version": "2.0.0",
      "model_name": "LayoutModel",
      "state": {
       "overflow": "auto",
       "width": "50%"
      }
     },
     "4155e2e6e9a146c1a39af65f9c53a358": {
      "model_module": "@jupyter-widgets/controls",
      "model_module_version": "2.0.0",
      "model_name": "HTMLModel",
      "state": {
       "layout": "IPY_MODEL_8c14c0d89e7f4a7ebe8aef07fe8dc82c",
       "style": "IPY_MODEL_ccb2079abc854a938433da978ced8998",
       "value": "<div style=\"text-align: center; margin: 10px 0; border: 1px dashed #B4B0BF;\"></div>"
      }
     },
     "416734f238454bd4a5f9ca42e8c1fa4c": {
      "model_module": "@jupyter-widgets/base",
      "model_module_version": "2.0.0",
      "model_name": "LayoutModel",
      "state": {}
     },
     "4194e98325d447b290ea094f2e00a371": {
      "model_module": "@jupyter-widgets/controls",
      "model_module_version": "2.0.0",
      "model_name": "HTMLModel",
      "state": {
       "layout": "IPY_MODEL_5385c4fcacf34a7c8b64712d36f6d752",
       "style": "IPY_MODEL_8c49ac4864124ff0ab14973d7080b2a1",
       "value": "<div style='font-family: monospace; width: 100%;'><b>Low side</b><br><div style='border-left: 1px solid #000; padding-left: 10px;'><div style='background-color: #ffffcc;display: block; white-space: pre-wrap; margin-bottom: 5px;'>status: pending</div><div style='background-color: #ffffcc;display: block; white-space: pre-wrap; margin-bottom: 5px;'>approved_by: None</div><div style='display: block; white-space: pre-wrap; margin-bottom: 5px;'>date_created: 2024-04-27</div></div></div>"
      }
     },
     "419bcaa654eb4a1cae2163ff26cb0698": {
      "model_module": "@jupyter-widgets/controls",
      "model_module_version": "2.0.0",
      "model_name": "HTMLModel",
      "state": {
       "layout": "IPY_MODEL_fa867a76e2c043ceb1efb0a75dcbfac8",
       "style": "IPY_MODEL_3bf3dcfc19fa43fbbd0b75bed701ff50",
       "value": "<div style='font-family: monospace; width: 100%;'><b>High side</b><br><div style='border-left: 1px solid #000; padding-left: 10px;'><div style='background-color: #FEE9CD;; color: #B8520A;; display: block; white-space: pre-wrap; margin-bottom: 5px;'>status: approved</div><div style='background-color: #FEE9CD;; color: #B8520A;; display: block; white-space: pre-wrap; margin-bottom: 5px;'>approved_by: admin</div><div style='background-color: transparent; color: #353243; display: block; white-space: pre-wrap; margin-bottom: 5px;'>date_created: 2024-04-27</div><div style='background-color: #D5F1D5;; color: #256B24;; display: block; white-space: pre-wrap; margin-bottom: 5px;'>code: @syft.function\ndef compute_mean(data: np.ndarray):\n    print(\"computing mean...\")\n    return data.mean()\n</div></div></div>"
      }
     },
     "419e58347b424d99ad0cbef7dc3974fe": {
      "model_module": "@jupyter-widgets/controls",
      "model_module_version": "2.0.0",
      "model_name": "HTMLModel",
      "state": {
       "layout": "IPY_MODEL_95518628516643acb30152e298fcbc29",
       "style": "IPY_MODEL_207d2db1a1674c67b136bbd6dbcf516a",
       "value": "<div style='font-family: monospace; width: 100%;'><b>Low side</b><br><div style='border-left: 1px solid #000; padding-left: 10px;'><div style='background-color: #ffffcc;display: block; white-space: pre-wrap; margin-bottom: 5px;'>status: pending</div><div style='background-color: #ffffcc;display: block; white-space: pre-wrap; margin-bottom: 5px;'>approved_by: None</div><div style='display: block; white-space: pre-wrap; margin-bottom: 5px;'>date_created: 2024-04-27</div><div style='background-color: #ddffdd;display: block; white-space: pre-wrap; margin-bottom: 5px;'>code: None</div></div></div>"
      }
     },
     "41ba5096b16e474f803871ca70ef372e": {
      "model_module": "@jupyter-widgets/base",
      "model_module_version": "2.0.0",
      "model_name": "LayoutModel",
      "state": {
       "overflow": "auto",
       "width": "50%"
      }
     },
     "41d41791e0e74a21a7ef4875ace70a2f": {
      "model_module": "@jupyter-widgets/base",
      "model_module_version": "2.0.0",
      "model_name": "LayoutModel",
      "state": {}
     },
     "41dbc7bcfdcc4b4eb5423f1cb654cad8": {
      "model_module": "@jupyter-widgets/base",
      "model_module_version": "2.0.0",
      "model_name": "LayoutModel",
      "state": {}
     },
     "4212a8de73284b3ca16f475025b49141": {
      "model_module": "@jupyter-widgets/controls",
      "model_module_version": "2.0.0",
      "model_name": "HBoxModel",
      "state": {
       "layout": "IPY_MODEL_628508d03fdd4d6da2995fdda1e3884f"
      }
     },
     "421cbdb26786427faf6f0e2ab463ff98": {
      "model_module": "@jupyter-widgets/controls",
      "model_module_version": "2.0.0",
      "model_name": "HBoxModel",
      "state": {
       "children": [
        "IPY_MODEL_0f754a10bc90452099417be40a4d50a7"
       ],
       "layout": "IPY_MODEL_c50eee2ba3a24069aa91cfcf41302051"
      }
     },
     "421da6b0f2494224b8918bffacc5ae74": {
      "model_module": "@jupyter-widgets/controls",
      "model_module_version": "2.0.0",
      "model_name": "CheckboxStyleModel",
      "state": {
       "description_width": ""
      }
     },
     "422e66aaa7d44991ab0cf0548d8536c2": {
      "model_module": "@jupyter-widgets/controls",
      "model_module_version": "2.0.0",
      "model_name": "HTMLModel",
      "state": {
       "layout": "IPY_MODEL_4e0c9709ad504650b4d46f574aed9da4",
       "style": "IPY_MODEL_92073300e21444989cd05b31f74e06ab",
       "value": "<span style='color: #5E5A72;'>This would sync <span style='color: #B8520A'>2 changes </span> from <i>Low Node</i> to <i>High Node</i></span>"
      }
     },
     "4260a5deb33348a38a715a32a9632818": {
      "model_module": "@jupyter-widgets/base",
      "model_module_version": "2.0.0",
      "model_name": "LayoutModel",
      "state": {}
     },
     "42f7a110752e4524a84ce2f2f3d706ad": {
      "model_module": "@jupyter-widgets/base",
      "model_module_version": "2.0.0",
      "model_name": "LayoutModel",
      "state": {}
     },
     "431dac8261024ebeba7a67274aeb0e3d": {
      "model_module": "@jupyter-widgets/controls",
      "model_module_version": "2.0.0",
      "model_name": "HTMLModel",
      "state": {
       "layout": "IPY_MODEL_1010411e1ea34de186c3caba8eb439ff",
       "style": "IPY_MODEL_7722659ac69841bbbd8d2d54bef324d2",
       "value": "<div style='font-family: monospace; width: 100%;'><b>High side</b><br><div style='border-left: 1px solid #000; padding-left: 10px;'><div style='background-color: background-color: #FEE9CD; color: background-color: #B8520A; display: block; white-space: pre-wrap; margin-bottom: 5px;'>status: approved</div><div style='background-color: background-color: #FEE9CD; color: background-color: #B8520A; display: block; white-space: pre-wrap; margin-bottom: 5px;'>approved_by: admin</div><div style='background-color: transparent color: #353243 display: block; white-space: pre-wrap; margin-bottom: 5px;'>date_created: 2024-04-27</div></div></div>"
      }
     },
     "43477ba4a9864be3884b798b2ce57da3": {
      "model_module": "@jupyter-widgets/controls",
      "model_module_version": "2.0.0",
      "model_name": "CheckboxModel",
      "state": {
       "description": "Sync",
       "disabled": false,
       "layout": "IPY_MODEL_d0450492437146678754d70b0b3ce048",
       "style": "IPY_MODEL_f948f1d1cffa48b08d470499122449c7",
       "value": false
      }
     },
     "43779d9f456e4dd7a4eef825df4c4ede": {
      "model_module": "@jupyter-widgets/base",
      "model_module_version": "2.0.0",
      "model_name": "LayoutModel",
      "state": {}
     },
     "43fc6e1e7780486496ae2b6ac050a8c1": {
      "model_module": "@jupyter-widgets/base",
      "model_module_version": "2.0.0",
      "model_name": "LayoutModel",
      "state": {}
     },
     "44085f5489d04e82a59e679b4f04e2b2": {
      "model_module": "@jupyter-widgets/controls",
      "model_module_version": "2.0.0",
      "model_name": "HTMLModel",
      "state": {
       "layout": "IPY_MODEL_cfb2cdba6ae740a79cc9e20470c057c7",
       "style": "IPY_MODEL_9cb350f70a1248c793852e5f66fa11d8",
       "value": "<span style='color: #B4B0BF;'>Syncing changes on</span>"
      }
     },
     "442afc51c9744684be28cb22011ff676": {
      "model_module": "@jupyter-widgets/controls",
      "model_module_version": "2.0.0",
      "model_name": "HTMLStyleModel",
      "state": {
       "description_width": "",
       "font_size": null,
       "text_color": null
      }
     },
     "44324e68f1ab48eba56bb90f2ffd2fb2": {
      "model_module": "@jupyter-widgets/base",
      "model_module_version": "2.0.0",
      "model_name": "LayoutModel",
      "state": {}
     },
     "444f32f73b024397ab4da5e2e6c128b7": {
      "model_module": "@jupyter-widgets/base",
      "model_module_version": "2.0.0",
      "model_name": "LayoutModel",
      "state": {
       "overflow": "auto",
       "width": "50%"
      }
     },
     "4469f3527e2748349871b0737bb3fd36": {
      "model_module": "@jupyter-widgets/controls",
      "model_module_version": "2.0.0",
      "model_name": "VBoxModel",
      "state": {
       "children": [
        "IPY_MODEL_4fa246c96ea44b29b0eb4cde442ea54b",
        "IPY_MODEL_b991c8f1586e435b87d822f70623289e",
        "IPY_MODEL_592bdeceff194e61bfddcabedc91df40",
        "IPY_MODEL_4155e2e6e9a146c1a39af65f9c53a358",
        "IPY_MODEL_ddd3a30662b04b88a6022f6bdaf4def2"
       ],
       "layout": "IPY_MODEL_70fa95952ae54a659a0e7a1de0f27a44"
      }
     },
     "4493ab7eba82403e8eb1a786d4d515b2": {
      "model_module": "@jupyter-widgets/base",
      "model_module_version": "2.0.0",
      "model_name": "LayoutModel",
      "state": {}
     },
     "449970d3ab074caab94debd27a3644de": {
      "model_module": "@jupyter-widgets/controls",
      "model_module_version": "2.0.0",
      "model_name": "VBoxModel",
      "state": {
       "children": [
        "IPY_MODEL_60bb95e55a5542e88e7257df566381da"
       ],
       "layout": "IPY_MODEL_fcb9b91d0af44b6cb2fdc6ecf283b871"
      }
     },
     "44a1477ee95545e9b5fa5284b7177a60": {
      "model_module": "@jupyter-widgets/base",
      "model_module_version": "2.0.0",
      "model_name": "LayoutModel",
      "state": {
       "border_bottom": "solid 1px",
       "border_left": "solid 1px",
       "border_right": "solid 1px",
       "border_top": "solid 1px",
       "padding": "5 5 5 5"
      }
     },
     "44a2210c2d4d4bc9b155cd1ac53c180f": {
      "model_module": "@jupyter-widgets/controls",
      "model_module_version": "2.0.0",
      "model_name": "CheckboxModel",
      "state": {
       "description": "Sync",
       "disabled": false,
       "layout": "IPY_MODEL_dee1aa361c524ec1a61578b530b59a7c",
       "style": "IPY_MODEL_98d9c33ba6b04b74b63f477e1d4df686",
       "value": false
      }
     },
     "452ce5ab5f954fe788ac548481ec31f3": {
      "model_module": "@jupyter-widgets/controls",
      "model_module_version": "2.0.0",
      "model_name": "ButtonModel",
      "state": {
       "icon": "clone",
       "layout": "IPY_MODEL_7c23d424d80e48a9a1ed75367864df55",
       "style": "IPY_MODEL_25678dd101f441a3a626f55542327636",
       "tooltip": null
      }
     },
     "45789b61e9a64b1582634643cd04a3d3": {
      "model_module": "@jupyter-widgets/base",
      "model_module_version": "2.0.0",
      "model_name": "LayoutModel",
      "state": {
       "overflow": "auto",
       "width": "50%"
      }
     },
     "457bba0d85814d638c3ae35599279719": {
      "model_module": "@jupyter-widgets/controls",
      "model_module_version": "2.0.0",
      "model_name": "CheckboxStyleModel",
      "state": {
       "description_width": ""
      }
     },
     "45a66863936c47c6b0433458fff4688d": {
      "model_module": "@jupyter-widgets/controls",
      "model_module_version": "2.0.0",
      "model_name": "HTMLStyleModel",
      "state": {
       "description_width": "",
       "font_size": null,
       "text_color": null
      }
     },
     "45c502090dc84da396944ed69936f7c0": {
      "model_module": "@jupyter-widgets/base",
      "model_module_version": "2.0.0",
      "model_name": "LayoutModel",
      "state": {}
     },
     "45cfc40a4f6a4608a97cca6e4a96a720": {
      "model_module": "@jupyter-widgets/controls",
      "model_module_version": "2.0.0",
      "model_name": "HTMLStyleModel",
      "state": {
       "description_width": "",
       "font_size": null,
       "text_color": null
      }
     },
     "460d03ca52ba4cf8a4259f72cc4fcaea": {
      "model_module": "@jupyter-widgets/base",
      "model_module_version": "2.0.0",
      "model_name": "LayoutModel",
      "state": {}
     },
     "46968e267bea4528963deb616fb1e072": {
      "model_module": "@jupyter-widgets/base",
      "model_module_version": "2.0.0",
      "model_name": "LayoutModel",
      "state": {
       "border_bottom": "solid 2px",
       "border_left": "solid 2px",
       "border_right": "solid 2px",
       "border_top": "solid 2px"
      }
     },
     "46d16ef33c9a440c92b1b648fa999811": {
      "model_module": "@jupyter-widgets/controls",
      "model_module_version": "2.0.0",
      "model_name": "HTMLStyleModel",
      "state": {
       "description_width": "",
       "font_size": null,
       "text_color": null
      }
     },
     "46e89de28bab42f5bcc1bc27c8925938": {
      "model_module": "@jupyter-widgets/base",
      "model_module_version": "2.0.0",
      "model_name": "LayoutModel",
      "state": {}
     },
     "470874bfd9c94690b09974075ec1d7eb": {
      "model_module": "@jupyter-widgets/controls",
      "model_module_version": "2.0.0",
      "model_name": "HTMLStyleModel",
      "state": {
       "description_width": "",
       "font_size": null,
       "text_color": null
      }
     },
     "4711fe61e89147c8a641d5039f395ac5": {
      "model_module": "@jupyter-widgets/base",
      "model_module_version": "2.0.0",
      "model_name": "LayoutModel",
      "state": {}
     },
     "47e5cc8bfbed47ee8f96cb4970ccdecb": {
      "model_module": "@jupyter-widgets/controls",
      "model_module_version": "2.0.0",
      "model_name": "AccordionModel",
      "state": {
       "children": [
        "IPY_MODEL_bfb19affd3864c85bb0a9cb06fb4c225"
       ],
       "layout": "IPY_MODEL_ce8799e38df6430581c0ce68ec419b4e",
       "titles": [
        "Request (2 changes)"
       ]
      }
     },
     "4805d0e251c34d4b974ef7a5be313bd6": {
      "model_module": "@jupyter-widgets/controls",
      "model_module_version": "2.0.0",
      "model_name": "HTMLStyleModel",
      "state": {
       "description_width": "",
       "font_size": null,
       "text_color": null
      }
     },
     "480d09ba5a9f4cbcae6796892b7e0305": {
      "model_module": "@jupyter-widgets/controls",
      "model_module_version": "2.0.0",
      "model_name": "HBoxModel",
      "state": {
       "children": [
        "IPY_MODEL_6abf667ed16e4a1ca2929fe7c08888d2",
        "IPY_MODEL_5e8e6f4c8e8449c3a1b1b3bcc11d8a5e"
       ],
       "layout": "IPY_MODEL_b23fde1ed8e048c2b85e9edd30118fc3"
      }
     },
     "48179ba0c54f42d3bba6e2022be2c322": {
      "model_module": "@jupyter-widgets/base",
      "model_module_version": "2.0.0",
      "model_name": "LayoutModel",
      "state": {}
     },
     "483b7496894544e88a715c7a6f823d65": {
      "model_module": "@jupyter-widgets/base",
      "model_module_version": "2.0.0",
      "model_name": "LayoutModel",
      "state": {}
     },
     "4864ff6c57e04c1e923f369c7f679f98": {
      "model_module": "@jupyter-widgets/controls",
      "model_module_version": "2.0.0",
      "model_name": "HTMLStyleModel",
      "state": {
       "description_width": "",
       "font_size": null,
       "text_color": null
      }
     },
     "489b49a523874dd2870bea77e4c5d76d": {
      "model_module": "@jupyter-widgets/base",
      "model_module_version": "2.0.0",
      "model_name": "LayoutModel",
      "state": {}
     },
     "48ad856e578b4000ae16bd75fbb29c36": {
      "model_module": "@jupyter-widgets/controls",
      "model_module_version": "2.0.0",
      "model_name": "HBoxModel",
      "state": {
       "children": [
        "IPY_MODEL_88a3cc5216534e21b68c0390d564aaf1",
        "IPY_MODEL_71ea06326d624777861486f1ec8312fa"
       ],
       "layout": "IPY_MODEL_77fabfaaa76347b2aff0b58d8c73191e"
      }
     },
     "49363c2a17364fe08fa933f37cc958c0": {
      "model_module": "@jupyter-widgets/controls",
      "model_module_version": "2.0.0",
      "model_name": "HBoxModel",
      "state": {
       "children": [
        "IPY_MODEL_2373e41ef0c146d9a3173005792a4725"
       ],
       "layout": "IPY_MODEL_78e0fa64d2ad4df9ada4d686b5ad8dba"
      }
     },
     "493af6fca22149658912917fc58c1267": {
      "model_module": "@jupyter-widgets/controls",
      "model_module_version": "2.0.0",
      "model_name": "HTMLModel",
      "state": {
       "layout": "IPY_MODEL_a72c326a4d2b4c69989d00c13c45b93e",
       "style": "IPY_MODEL_5b1437e5a0c14610b35b5b4995de74af",
       "value": "<span style='margin-left: 5px; font-weight: bold; color: #373B7B;'>compute_mean</span> <span style='margin-left: 5px; color: #B4B0BF;'>#1234...</span>"
      }
     },
     "49413cf7fd5a4947a9822a23c7d7679a": {
      "model_module": "@jupyter-widgets/controls",
      "model_module_version": "2.0.0",
      "model_name": "HTMLStyleModel",
      "state": {
       "description_width": "",
       "font_size": null,
       "text_color": null
      }
     },
     "498f23111f7046ddaa455e79fb621df7": {
      "model_module": "@jupyter-widgets/controls",
      "model_module_version": "2.0.0",
      "model_name": "VBoxModel",
      "state": {
       "children": [
        "IPY_MODEL_f12cec3d843d4ef6aebc54bc234bae05",
        "IPY_MODEL_34e419fc878a4a6d9cb85971000bb26d"
       ],
       "layout": "IPY_MODEL_f6eab26bab964d9aaeda6656c4794dd3"
      }
     },
     "49aa5559f062448f97a88c33ccd465c4": {
      "model_module": "@jupyter-widgets/base",
      "model_module_version": "2.0.0",
      "model_name": "LayoutModel",
      "state": {}
     },
     "49d8fabead3a45318dd0113d0d8f278a": {
      "model_module": "@jupyter-widgets/base",
      "model_module_version": "2.0.0",
      "model_name": "LayoutModel",
      "state": {
       "height": "25px",
       "margin": "0",
       "padding": "0",
       "width": "25px"
      }
     },
     "49f5c91d75464d75b4a322fa88fe7e05": {
      "model_module": "@jupyter-widgets/base",
      "model_module_version": "2.0.0",
      "model_name": "LayoutModel",
      "state": {
       "overflow": "auto",
       "width": "50%"
      }
     },
     "49f9fc143e934a438f4381f2c5fceb01": {
      "model_module": "@jupyter-widgets/controls",
      "model_module_version": "2.0.0",
      "model_name": "HTMLModel",
      "state": {
       "layout": "IPY_MODEL_75b4072bd2a841739216dc2a8b07334e",
       "style": "IPY_MODEL_2bd06e4a27d04e34ac68a5d77250e9f6",
       "value": "<div style='font-family: monospace; width: 100%;'><b>High side</b><br><div style='border-left: 1px solid #000; padding-left: 10px;'><div style='background-color: #FEE9CD;; color: #B8520A;; display: block; white-space: pre-wrap; margin-bottom: 5px;'>status: approved</div><div style='background-color: #FEE9CD;; color: #B8520A;; display: block; white-space: pre-wrap; margin-bottom: 5px;'>approved_by: admin</div><div style='background-color: transparent; color: #353243; display: block; white-space: pre-wrap; margin-bottom: 5px;'>date_created: 2024-04-27</div><div style='background-color: #D5F1D5;; color: #256B24;; display: block; white-space: pre-wrap; margin-bottom: 5px;'>code: @syft.function\ndef compute_mean(data: np.ndarray):\n    print(\"computing mean...\")\n    return data.mean()\n</div></div></div>"
      }
     },
     "4a825990bb5049739c7039bff7d63454": {
      "model_module": "@jupyter-widgets/controls",
      "model_module_version": "2.0.0",
      "model_name": "HBoxModel",
      "state": {
       "children": [
        "IPY_MODEL_c9f2b76e909d45faa0f471024190ae59"
       ],
       "layout": "IPY_MODEL_8660342079114b94979f87faf400305f"
      }
     },
     "4aa0318923e7434c9b7968c3bb436e84": {
      "model_module": "@jupyter-widgets/controls",
      "model_module_version": "2.0.0",
      "model_name": "HTMLStyleModel",
      "state": {
       "description_width": "",
       "font_size": null,
       "text_color": null
      }
     },
     "4ae9088fa7fa4f5daad3168bd8faf5dc": {
      "model_module": "@jupyter-widgets/base",
      "model_module_version": "2.0.0",
      "model_name": "LayoutModel",
      "state": {}
     },
     "4b1468d2bd0440298d9852913af7115e": {
      "model_module": "@jupyter-widgets/controls",
      "model_module_version": "2.0.0",
      "model_name": "CheckboxStyleModel",
      "state": {
       "description_width": ""
      }
     },
     "4b266d9eac5245feb16173b58c238489": {
      "model_module": "@jupyter-widgets/controls",
      "model_module_version": "2.0.0",
      "model_name": "HBoxModel",
      "state": {
       "children": [
        "IPY_MODEL_eb23f09ead73468a86308e3a44737fd0",
        "IPY_MODEL_4ce634046b904f68ac9602fc14ba5b9d"
       ],
       "layout": "IPY_MODEL_e50055817aa94eb08cf86e38f1823e36"
      }
     },
     "4c2afdbd231649e7b5088e15efe4a43d": {
      "model_module": "@jupyter-widgets/base",
      "model_module_version": "2.0.0",
      "model_name": "LayoutModel",
      "state": {
       "height": "25px",
       "margin": "0",
       "padding": "0",
       "width": "25px"
      }
     },
     "4ca6193c6e9b4f18a687a01e8cebabae": {
      "model_module": "@jupyter-widgets/controls",
      "model_module_version": "2.0.0",
      "model_name": "HTMLModel",
      "state": {
       "layout": "IPY_MODEL_8c9ebdfc86ce4da2a3166dba944dba67",
       "style": "IPY_MODEL_bad144be09cd4712b83e53cf8517b78b",
       "value": "<div style=\"text-align: center; margin: 10px 0; border: 1px dashed #B4B0BF;\"></div>"
      }
     },
     "4cc40cd325eb40e2b3bc164d59337923": {
      "model_module": "@jupyter-widgets/controls",
      "model_module_version": "2.0.0",
      "model_name": "CheckboxStyleModel",
      "state": {
       "description_width": ""
      }
     },
     "4ce634046b904f68ac9602fc14ba5b9d": {
      "model_module": "@jupyter-widgets/controls",
      "model_module_version": "2.0.0",
      "model_name": "HTMLModel",
      "state": {
       "layout": "IPY_MODEL_a49c2bc19fe04211981784a43d3778e6",
       "style": "IPY_MODEL_36c7418bcf904f1095753148ea80a0a8",
       "value": "<div style='font-family: monospace; width: 100%;'><b>High side</b><br><div style='border-left: 1px solid #000; padding-left: 10px;'><div style='background-color: #FEE9CD;; color: #B8520A;; display: block; white-space: pre-wrap; margin-bottom: 5px;'>status: approved</div><div style='background-color: #FEE9CD;; color: #B8520A;; display: block; white-space: pre-wrap; margin-bottom: 5px;'>approved_by: admin</div><div style='background-color: transparent; color: #353243; display: block; white-space: pre-wrap; margin-bottom: 5px;'>date_created: 2024-04-27</div></div></div>"
      }
     },
     "4d1cc43b4e89464c83907c2658b7a2be": {
      "model_module": "@jupyter-widgets/base",
      "model_module_version": "2.0.0",
      "model_name": "LayoutModel",
      "state": {}
     },
     "4d4e0de827b64c8593af7dc0f68120b5": {
      "model_module": "@jupyter-widgets/base",
      "model_module_version": "2.0.0",
      "model_name": "LayoutModel",
      "state": {}
     },
     "4d736aa638ba4cbd9c757ab5fb3bff33": {
      "model_module": "@jupyter-widgets/controls",
      "model_module_version": "2.0.0",
      "model_name": "VBoxModel",
      "state": {
       "children": [
        "IPY_MODEL_2e68d7f1987148c985adc636ac98eb89",
        "IPY_MODEL_f597e090bd6f49c99f8c1705f0766f31",
        "IPY_MODEL_1ace332bdc794fe2a171b65c391e338e"
       ],
       "layout": "IPY_MODEL_18959644f71f4fe8b65ee3ccad01f795"
      }
     },
     "4e0c9709ad504650b4d46f574aed9da4": {
      "model_module": "@jupyter-widgets/base",
      "model_module_version": "2.0.0",
      "model_name": "LayoutModel",
      "state": {}
     },
     "4e8821628d0a47d18188c295adbd83d3": {
      "model_module": "@jupyter-widgets/controls",
      "model_module_version": "2.0.0",
      "model_name": "CheckboxModel",
      "state": {
       "description": "Share private data",
       "disabled": false,
       "layout": "IPY_MODEL_ee1fec302af24df28e19a7df10c55587",
       "style": "IPY_MODEL_624e9be9227940848b76354cb2ce4984",
       "value": false
      }
     },
     "4f193b380c494ef4b5b873c13e125faf": {
      "model_module": "@jupyter-widgets/controls",
      "model_module_version": "2.0.0",
      "model_name": "HTMLStyleModel",
      "state": {
       "description_width": "",
       "font_size": null,
       "text_color": null
      }
     },
     "4f1fe4a53d4541cf80bd584dff0254f5": {
      "model_module": "@jupyter-widgets/controls",
      "model_module_version": "2.0.0",
      "model_name": "HTMLStyleModel",
      "state": {
       "description_width": "",
       "font_size": null,
       "text_color": null
      }
     },
     "4f26fd30b2b446949b066a28415bd5c0": {
      "model_module": "@jupyter-widgets/base",
      "model_module_version": "2.0.0",
      "model_name": "LayoutModel",
      "state": {}
     },
     "4f73978e959e490c83c3800fdfb29171": {
      "model_module": "@jupyter-widgets/controls",
      "model_module_version": "2.0.0",
      "model_name": "HTMLModel",
      "state": {
       "layout": "IPY_MODEL_e3ade9c2d55c4908b51ca8a94b38c0d4",
       "style": "IPY_MODEL_19f67d76cf7c43e7a25752b5de452bdb",
       "value": "<div style=\"text-align: center; margin: 10px 0; border: 1px dashed #B4B0BF;\"></div>"
      }
     },
     "4fa246c96ea44b29b0eb4cde442ea54b": {
      "model_module": "@jupyter-widgets/controls",
      "model_module_version": "2.0.0",
      "model_name": "VBoxModel",
      "state": {
       "children": [
        "IPY_MODEL_fb9f6b1b08324371bbc0506e698da95e",
        "IPY_MODEL_caf90fc48ad94c7b817149a3d75d5e8b",
        "IPY_MODEL_422e66aaa7d44991ab0cf0548d8536c2"
       ],
       "layout": "IPY_MODEL_f72b776feac4466b97dd046260268ac6"
      }
     },
     "4fa4b905b0db45a1b2dcd015c740e4d8": {
      "model_module": "@jupyter-widgets/controls",
      "model_module_version": "2.0.0",
      "model_name": "HBoxModel",
      "state": {
       "children": [
        "IPY_MODEL_fdc4f5b06e4742d59f0d6e7848f7baaa",
        "IPY_MODEL_493af6fca22149658912917fc58c1267",
        "IPY_MODEL_07f2158a38c548e584cfaffe29c3ac2b"
       ],
       "layout": "IPY_MODEL_aee399d1067f47879990a6dbe92dcdb0"
      }
     },
     "4fae452176e44ad9b47a38545cbf9b63": {
      "model_module": "@jupyter-widgets/base",
      "model_module_version": "2.0.0",
      "model_name": "LayoutModel",
      "state": {}
     },
     "4fb6fe9281f44eb99a74f2c2e3239412": {
      "model_module": "@jupyter-widgets/controls",
      "model_module_version": "2.0.0",
      "model_name": "VBoxModel",
      "state": {
       "children": [
        "IPY_MODEL_3c349f2dcbfb40348dc4bd368f832ad0",
        "IPY_MODEL_56141ab4163644db88188f4a36e53337",
        "IPY_MODEL_7842e84c902346a59c9f97f26ff676a0"
       ],
       "layout": "IPY_MODEL_985259b6ebde48fabd7c0589c3127064"
      }
     },
     "4ff602ebc0e747d8a0d3363c70eacf64": {
      "model_module": "@jupyter-widgets/controls",
      "model_module_version": "2.0.0",
      "model_name": "HTMLModel",
      "state": {
       "layout": "IPY_MODEL_54f68b47bc4f40839e404a59c649594d",
       "style": "IPY_MODEL_f0a388bc48b843a884534a5fc40f6483",
       "value": "<span style='color: #5E5A72;'>This would sync <span style='color: #B8520A'>22 changes </span> from <i>Low Node</i> to <i>High Node</i></span>"
      }
     },
     "50080f1db59b4f9f92408b0e36ee6cc0": {
      "model_module": "@jupyter-widgets/controls",
      "model_module_version": "2.0.0",
      "model_name": "ButtonStyleModel",
      "state": {
       "font_family": null,
       "font_size": null,
       "font_style": null,
       "font_variant": null,
       "font_weight": null,
       "text_color": null,
       "text_decoration": null
      }
     },
     "50213265bc494829818fe97531a3ffa7": {
      "model_module": "@jupyter-widgets/base",
      "model_module_version": "2.0.0",
      "model_name": "LayoutModel",
      "state": {
       "height": "25px",
       "margin": "0",
       "padding": "0",
       "width": "25px"
      }
     },
     "506f01e2433644b89ac1dd8296352214": {
      "model_module": "@jupyter-widgets/base",
      "model_module_version": "2.0.0",
      "model_name": "LayoutModel",
      "state": {
       "align_items": "center"
      }
     },
     "50829fd16a3942a68740b3ef7380fc93": {
      "model_module": "@jupyter-widgets/base",
      "model_module_version": "2.0.0",
      "model_name": "LayoutModel",
      "state": {
       "align_items": "center"
      }
     },
     "508dcfbd7dda40db9779213de37c206b": {
      "model_module": "@jupyter-widgets/base",
      "model_module_version": "2.0.0",
      "model_name": "LayoutModel",
      "state": {}
     },
     "5095ade692cd49f2abe935bd20925d6a": {
      "model_module": "@jupyter-widgets/controls",
      "model_module_version": "2.0.0",
      "model_name": "ButtonModel",
      "state": {
       "icon": "clone",
       "layout": "IPY_MODEL_dd506aba823a4bb89637b34865b1b97c",
       "style": "IPY_MODEL_edbd70e46c4846268e07b059527d0566",
       "tooltip": null
      }
     },
     "50a4b7d802f54e338729fc5271f16fe6": {
      "model_module": "@jupyter-widgets/base",
      "model_module_version": "2.0.0",
      "model_name": "LayoutModel",
      "state": {}
     },
     "50a5afd0f07546cda8918b7d91176c5f": {
      "model_module": "@jupyter-widgets/controls",
      "model_module_version": "2.0.0",
      "model_name": "HTMLStyleModel",
      "state": {
       "description_width": "",
       "font_size": null,
       "text_color": null
      }
     },
     "50dc6ce8e25546faa22c88f84155558b": {
      "model_module": "@jupyter-widgets/controls",
      "model_module_version": "2.0.0",
      "model_name": "AccordionModel",
      "state": {
       "children": [
        "IPY_MODEL_c68b8dbc4c684a9e90c9f32b24f6b294",
        "IPY_MODEL_6d6518d12798425589ed41258b43ebc3"
       ],
       "layout": "IPY_MODEL_7a327acd8b2e48b89c39705889a3e95b",
       "titles": [
        "UserCode (3 changes)",
        "Request (2 changes)"
       ]
      }
     },
     "50e27e0d4e98481fb330af2b96f31e99": {
      "model_module": "@jupyter-widgets/controls",
      "model_module_version": "2.0.0",
      "model_name": "HTMLStyleModel",
      "state": {
       "description_width": "",
       "font_size": null,
       "text_color": null
      }
     },
     "50f7761eb74b4ecabaa89f5b43b90027": {
      "model_module": "@jupyter-widgets/controls",
      "model_module_version": "2.0.0",
      "model_name": "HTMLStyleModel",
      "state": {
       "description_width": "",
       "font_size": null,
       "text_color": null
      }
     },
     "50fa4949d57c48dc8f79b19cdaf0f764": {
      "model_module": "@jupyter-widgets/base",
      "model_module_version": "2.0.0",
      "model_name": "LayoutModel",
      "state": {}
     },
     "512d12a1a6c34d56a4737aaf386d2a5e": {
      "model_module": "@jupyter-widgets/base",
      "model_module_version": "2.0.0",
      "model_name": "LayoutModel",
      "state": {}
     },
     "517f786368e44007ae2770b0101102fa": {
      "model_module": "@jupyter-widgets/controls",
      "model_module_version": "2.0.0",
      "model_name": "HTMLStyleModel",
      "state": {
       "description_width": "",
       "font_size": null,
       "text_color": null
      }
     },
     "51a0c931475046cb9c11c695e0e79683": {
      "model_module": "@jupyter-widgets/controls",
      "model_module_version": "2.0.0",
      "model_name": "HTMLStyleModel",
      "state": {
       "description_width": "",
       "font_size": null,
       "text_color": null
      }
     },
     "51c60382c0dd4b9bb5773beaed383aeb": {
      "model_module": "@jupyter-widgets/controls",
      "model_module_version": "2.0.0",
      "model_name": "HBoxModel",
      "state": {
       "children": [
        "IPY_MODEL_530b234fd7ae4113b848a67d44898041"
       ],
       "layout": "IPY_MODEL_930980c5efa54c6c96860d40a57b41a5"
      }
     },
     "52222ef8da03429c8e3919eb5b8ff493": {
      "model_module": "@jupyter-widgets/base",
      "model_module_version": "2.0.0",
      "model_name": "LayoutModel",
      "state": {}
     },
     "5235cfaefab54c6b9fae46d3534f1983": {
      "model_module": "@jupyter-widgets/controls",
      "model_module_version": "2.0.0",
      "model_name": "HTMLModel",
      "state": {
       "layout": "IPY_MODEL_c394c58d26f54f0fbd13e8d2bacd9ac5",
       "style": "IPY_MODEL_388ea4e9552446a9b3d2bc976677302a",
       "value": "<div style='font-family: monospace; width: 100%;'><b>Low side</b><br><div style='border-left: 1px solid #000; padding-left: 10px;'><div style='background-color: #FEE9CD;; color: #B8520A;; display: block; white-space: pre-wrap; margin-bottom: 5px;'>status: pending</div><div style='background-color: #FEE9CD;; color: #B8520A;; display: block; white-space: pre-wrap; margin-bottom: 5px;'>approved_by: None</div><div style='background-color: transparent; color: #353243; display: block; white-space: pre-wrap; margin-bottom: 5px;'>date_created: 2024-04-27</div><div style='background-color: #D5F1D5;; color: #256B24;; display: block; white-space: pre-wrap; margin-bottom: 5px;'>code: None</div></div></div>"
      }
     },
     "525a2971847144d892b0dfb646511349": {
      "model_module": "@jupyter-widgets/base",
      "model_module_version": "2.0.0",
      "model_name": "LayoutModel",
      "state": {}
     },
     "526c7f7a9a2c49658734f58e401982b6": {
      "model_module": "@jupyter-widgets/base",
      "model_module_version": "2.0.0",
      "model_name": "LayoutModel",
      "state": {
       "margin": "0 5px 0 0"
      }
     },
     "526f1092e7bd4d48b3634156408a6663": {
      "model_module": "@jupyter-widgets/base",
      "model_module_version": "2.0.0",
      "model_name": "LayoutModel",
      "state": {
       "height": "25px",
       "margin": "0",
       "padding": "0",
       "width": "25px"
      }
     },
     "5277722253d54bb1a596f418cef6f8c1": {
      "model_module": "@jupyter-widgets/base",
      "model_module_version": "2.0.0",
      "model_name": "LayoutModel",
      "state": {}
     },
     "52788bb2545441b9906b36299669eec1": {
      "model_module": "@jupyter-widgets/base",
      "model_module_version": "2.0.0",
      "model_name": "LayoutModel",
      "state": {
       "align_items": "center"
      }
     },
     "528511d046b44dbb997f8ae5f02487df": {
      "model_module": "@jupyter-widgets/controls",
      "model_module_version": "2.0.0",
      "model_name": "HTMLStyleModel",
      "state": {
       "description_width": "",
       "font_size": null,
       "text_color": null
      }
     },
     "52ef79783c8e42259dde2531979f613a": {
      "model_module": "@jupyter-widgets/controls",
      "model_module_version": "2.0.0",
      "model_name": "CheckboxModel",
      "state": {
       "description": "Share private data",
       "disabled": false,
       "layout": "IPY_MODEL_afe24f2904a247f1a07dea0f815d65d2",
       "style": "IPY_MODEL_9bb16d44bddd45c592b8a916e0c42730",
       "value": false
      }
     },
     "5305da3022c247f69eee0f7cf3c7d558": {
      "model_module": "@jupyter-widgets/controls",
      "model_module_version": "2.0.0",
      "model_name": "HTMLStyleModel",
      "state": {
       "description_width": "",
       "font_size": null,
       "text_color": null
      }
     },
     "530b234fd7ae4113b848a67d44898041": {
      "model_module": "@jupyter-widgets/controls",
      "model_module_version": "2.0.0",
      "model_name": "CheckboxModel",
      "state": {
       "description": "Sync",
       "disabled": false,
       "layout": "IPY_MODEL_23134a49b8dc46508871ac2adbe60639",
       "style": "IPY_MODEL_17172e0543124df597e96fc57816f245",
       "value": false
      }
     },
     "5316a3cc177d444f9e8be0777dd58e4c": {
      "model_module": "@jupyter-widgets/controls",
      "model_module_version": "2.0.0",
      "model_name": "VBoxModel",
      "state": {
       "children": [
        "IPY_MODEL_f2521cde8ec9407e922130482c791c1c",
        "IPY_MODEL_1ed9f781ca644953b4a9e64f523a01c9"
       ],
       "layout": "IPY_MODEL_1fcad90d7c8f4e7fa6a7d6eed347db1c"
      }
     },
     "531a89ec5ef84bd882e67b21617af932": {
      "model_module": "@jupyter-widgets/controls",
      "model_module_version": "2.0.0",
      "model_name": "HTMLStyleModel",
      "state": {
       "description_width": "",
       "font_size": null,
       "text_color": null
      }
     },
     "5385c4fcacf34a7c8b64712d36f6d752": {
      "model_module": "@jupyter-widgets/base",
      "model_module_version": "2.0.0",
      "model_name": "LayoutModel",
      "state": {
       "overflow": "auto",
       "width": "50%"
      }
     },
     "53c11b40672543ec9a6200a4766dd6e8": {
      "model_module": "@jupyter-widgets/controls",
      "model_module_version": "2.0.0",
      "model_name": "HTMLStyleModel",
      "state": {
       "description_width": "",
       "font_size": null,
       "text_color": null
      }
     },
     "53c98993f881411a9e1ab940ccd5a63e": {
      "model_module": "@jupyter-widgets/controls",
      "model_module_version": "2.0.0",
      "model_name": "HTMLModel",
      "state": {
       "layout": "IPY_MODEL_56306abf553a4dc095a533a5cd4d4cdc",
       "style": "IPY_MODEL_aa3ce7b190084fff957c7a9e5718a118",
       "value": "<span style='margin-left: 5px; font-weight: bold; color: #373B7B;'>main_1</span> <span style='margin-left: 5px; color: #B4B0BF;'>#1234...</span>"
      }
     },
     "53ed1174389f4214b5154e4e0598e364": {
      "model_module": "@jupyter-widgets/controls",
      "model_module_version": "2.0.0",
      "model_name": "HTMLModel",
      "state": {
       "layout": "IPY_MODEL_a9256d12bc8849b88ac2bb5b557b81e4",
       "style": "IPY_MODEL_fe5a8e49bf6d489e9c9718e0aabe5744",
       "value": "<div style='font-family: monospace; width: 100%;'>To<br><div style='border-left: 1px solid #B4B0BF; padding-left: 10px;'><div style='background-color: #FEE9CD;; color: #B8520A;; display: block; white-space: pre-wrap; margin-bottom: 5px;'>status: approved</div><div style='background-color: #FEE9CD;; color: #B8520A;; display: block; white-space: pre-wrap; margin-bottom: 5px;'>approved_by: admin</div><div style='background-color: transparent; color: #353243; display: block; white-space: pre-wrap; margin-bottom: 5px;'>date_created: 2024-04-27</div><div style='background-color: #D5F1D5;; color: #256B24;; display: block; white-space: pre-wrap; margin-bottom: 5px;'>code: @syft.function\ndef compute_mean(data: np.ndarray):\n    print(\"computing mean...\")\n    return data.mean()\n</div></div></div>"
      }
     },
     "544796d5315f4ddb8c3e3b677fba5c21": {
      "model_module": "@jupyter-widgets/base",
      "model_module_version": "2.0.0",
      "model_name": "LayoutModel",
      "state": {
       "overflow": "auto",
       "width": "50%"
      }
     },
     "544ac7f327ba40c080ddb8ce7a98f636": {
      "model_module": "@jupyter-widgets/controls",
      "model_module_version": "2.0.0",
      "model_name": "VBoxModel",
      "state": {
       "children": [
        "IPY_MODEL_1cfd8ddb2fb4448f8e2d65b5168012f9"
       ],
       "layout": "IPY_MODEL_0cdc5055b9f6448faccde25e12ff43a6"
      }
     },
     "54b45a04c9264b9a82b400c9ab8799e5": {
      "model_module": "@jupyter-widgets/controls",
      "model_module_version": "2.0.0",
      "model_name": "HTMLModel",
      "state": {
       "layout": "IPY_MODEL_90db1a43b3674fd2b5c6e031e08cca90",
       "style": "IPY_MODEL_0873f321940141ab9a833d6e1ec791da",
       "value": "<div style='font-family: monospace; width: 100%;'><b>Low side</b><br><div style='border-left: 1px solid #000; padding-left: 10px;'><div style='background-color: #ffffcc;display: block; white-space: pre-wrap; margin-bottom: 5px;'>status: pending</div><div style='background-color: #ffffcc;display: block; white-space: pre-wrap; margin-bottom: 5px;'>approved_by: None</div><div style='display: block; white-space: pre-wrap; margin-bottom: 5px;'>date_created: 2024-04-27</div><div style='background-color: #ddffdd;display: block; white-space: pre-wrap; margin-bottom: 5px;'>code: None</div></div></div>"
      }
     },
     "54c72ae6cd5e450c8832ce7cfe8a03bc": {
      "model_module": "@jupyter-widgets/controls",
      "model_module_version": "2.0.0",
      "model_name": "ButtonStyleModel",
      "state": {
       "font_family": null,
       "font_size": null,
       "font_style": null,
       "font_variant": null,
       "font_weight": null,
       "text_color": null,
       "text_decoration": null
      }
     },
     "54d86b46b62049ccb3132a1a0e4c915c": {
      "model_module": "@jupyter-widgets/controls",
      "model_module_version": "2.0.0",
      "model_name": "HTMLModel",
      "state": {
       "layout": "IPY_MODEL_080289200ed2494db8e3bf8987df38d9",
       "style": "IPY_MODEL_a1eba5ab275345ab8c2f8947149a64bf",
       "value": "<span style='background-color: #C2DEF0; border-radius: 4px; padding: 4px 6px; color: #373B7B;'>Code</span>"
      }
     },
     "54ed0d152ee342f3a1fd39169cc5841e": {
      "model_module": "@jupyter-widgets/controls",
      "model_module_version": "2.0.0",
      "model_name": "HTMLModel",
      "state": {
       "layout": "IPY_MODEL_82dbaa53e4e54b009a58e3304bf92395",
       "style": "IPY_MODEL_e1de7d4766724ceb995b610e2d5bf63e",
       "value": "<span style='color: #5E5A72;'>This would sync <span style='color: #B8520A'>22 changes </span> from <i>Low Node</i> to <i>High Node</i></span>"
      }
     },
     "54f68b47bc4f40839e404a59c649594d": {
      "model_module": "@jupyter-widgets/base",
      "model_module_version": "2.0.0",
      "model_name": "LayoutModel",
      "state": {}
     },
     "54fcbb558dd046a2a1459bef70201881": {
      "model_module": "@jupyter-widgets/controls",
      "model_module_version": "2.0.0",
      "model_name": "HTMLStyleModel",
      "state": {
       "description_width": "",
       "font_size": null,
       "text_color": null
      }
     },
     "5518918af7104cc6ad84be55ddcac284": {
      "model_module": "@jupyter-widgets/base",
      "model_module_version": "2.0.0",
      "model_name": "LayoutModel",
      "state": {
       "overflow": "auto",
       "width": "50%"
      }
     },
     "5550a198e4414243b9a548f79586acf8": {
      "model_module": "@jupyter-widgets/controls",
      "model_module_version": "2.0.0",
      "model_name": "HTMLModel",
      "state": {
       "layout": "IPY_MODEL_41ba5096b16e474f803871ca70ef372e",
       "style": "IPY_MODEL_5fb02c1af25741fa8ad11e5822c46cd0",
       "value": "<div style='font-family: monospace; width: 100%;'><b>Low side</b><br><div style='border-left: 1px solid #000; padding-left: 10px;'><div style='background-color: #ffffcc;display: block; white-space: pre-wrap; margin-bottom: 5px;'>status: pending</div><div style='background-color: #ffffcc;display: block; white-space: pre-wrap; margin-bottom: 5px;'>approved_by: None</div><div style='display: block; white-space: pre-wrap; margin-bottom: 5px;'>date_created: 2024-04-27</div><div style='background-color: #ddffdd;display: block; white-space: pre-wrap; margin-bottom: 5px;'>code: None</div></div></div>"
      }
     },
     "55620cc17fd040ccb6d455ebc5f3d1f1": {
      "model_module": "@jupyter-widgets/controls",
      "model_module_version": "2.0.0",
      "model_name": "HTMLStyleModel",
      "state": {
       "description_width": "",
       "font_size": null,
       "text_color": null
      }
     },
     "5583e0c0c8f3419491b8ef12f9876d5c": {
      "model_module": "@jupyter-widgets/controls",
      "model_module_version": "2.0.0",
      "model_name": "VBoxModel",
      "state": {
       "children": [
        "IPY_MODEL_7b4a82dddd574ee6a5fedcec6c72faab",
        "IPY_MODEL_18baa397994246ceaf95426907c21baf"
       ],
       "layout": "IPY_MODEL_9a9533fb938b46aab64b8c3da352a77b"
      }
     },
     "558c206c6fba41028755945b7ea681ea": {
      "model_module": "@jupyter-widgets/base",
      "model_module_version": "2.0.0",
      "model_name": "LayoutModel",
      "state": {
       "overflow": "auto",
       "width": "50%"
      }
     },
     "55e88a6a01244d8090adc18db0876921": {
      "model_module": "@jupyter-widgets/controls",
      "model_module_version": "2.0.0",
      "model_name": "HTMLModel",
      "state": {
       "layout": "IPY_MODEL_746b1f3b372f4a39a103ddbfdbe963fb",
       "style": "IPY_MODEL_2aa17c7fe3d4433b917921d5df811e52",
       "value": "<div style='font-family: monospace; width: 100%;'><b>High side</b><br><div style='border-left: 1px solid #000; padding-left: 10px;'><div style='background-color: #ffffcc;display: block; white-space: pre-wrap; margin-bottom: 5px;'>status: approved</div><div style='background-color: #ffffcc;display: block; white-space: pre-wrap; margin-bottom: 5px;'>approved_by: admin</div><div style='display: block; white-space: pre-wrap; margin-bottom: 5px;'>date_created: 2024-04-27</div><div style='background-color: #ddffdd;display: block; white-space: pre-wrap; margin-bottom: 5px;'>code: @syft.function\ndef compute_mean(data: np.ndarray):\n    print(\"computing mean...\")\n    return data.mean()\n</div></div></div>"
      }
     },
     "55fa0391819440a3ac855df54d4302d1": {
      "model_module": "@jupyter-widgets/base",
      "model_module_version": "2.0.0",
      "model_name": "LayoutModel",
      "state": {}
     },
     "56141ab4163644db88188f4a36e53337": {
      "model_module": "@jupyter-widgets/controls",
      "model_module_version": "2.0.0",
      "model_name": "HBoxModel",
      "state": {
       "children": [
        "IPY_MODEL_844d7410f62d454cb60285990a81b82f",
        "IPY_MODEL_358225f89ebb4b1793600b7f7b9ec746",
        "IPY_MODEL_bc43fc0df1284735b2809f8e79791c66"
       ],
       "layout": "IPY_MODEL_f1ec82a3ef4549beb13d3e8eb2d8649a"
      }
     },
     "5616bb554014444bb1b3dfa747805de5": {
      "model_module": "@jupyter-widgets/controls",
      "model_module_version": "2.0.0",
      "model_name": "VBoxModel",
      "state": {
       "children": [
        "IPY_MODEL_3d03e0416acc4781bdcb0ef27c8b0fe3",
        "IPY_MODEL_e9197d3072d9478da956b42333e764db",
        "IPY_MODEL_5b870cd8434b4de5b02b90c54bb8dc90"
       ],
       "layout": "IPY_MODEL_42f7a110752e4524a84ce2f2f3d706ad"
      }
     },
     "561b2b41bcd04118899dfb5e6eee398b": {
      "model_module": "@jupyter-widgets/base",
      "model_module_version": "2.0.0",
      "model_name": "LayoutModel",
      "state": {}
     },
     "562f611aa9ac49fc97964751e180aa9d": {
      "model_module": "@jupyter-widgets/base",
      "model_module_version": "2.0.0",
      "model_name": "LayoutModel",
      "state": {}
     },
     "56306abf553a4dc095a533a5cd4d4cdc": {
      "model_module": "@jupyter-widgets/base",
      "model_module_version": "2.0.0",
      "model_name": "LayoutModel",
      "state": {}
     },
     "5637bf0c9d294086981b95b6447812ec": {
      "model_module": "@jupyter-widgets/base",
      "model_module_version": "2.0.0",
      "model_name": "LayoutModel",
      "state": {}
     },
     "5661a2ab805949b0a4799d7ce240908d": {
      "model_module": "@jupyter-widgets/controls",
      "model_module_version": "2.0.0",
      "model_name": "VBoxModel",
      "state": {
       "children": [
        "IPY_MODEL_199c5089ccdb46a8bcfbdc1df23e64be",
        "IPY_MODEL_8cde9ab63a294401b370ca5ca2ccce39",
        "IPY_MODEL_d1a8f43cd21347e7aa1169a34b4c5c98",
        "IPY_MODEL_f1ab97551ce24aefa2a219310d03d4f5",
        "IPY_MODEL_b414ec81e3224561a3e5f9c1bf5140c4"
       ],
       "layout": "IPY_MODEL_8a9ae2cf9ed540d0ae9199ba62185d12"
      }
     },
     "5675fe8533d44a479cc97bfd5059ac62": {
      "model_module": "@jupyter-widgets/controls",
      "model_module_version": "2.0.0",
      "model_name": "HTMLStyleModel",
      "state": {
       "description_width": "",
       "font_size": null,
       "text_color": null
      }
     },
     "5682c78aaf9846779a201b8315e01c2a": {
      "model_module": "@jupyter-widgets/base",
      "model_module_version": "2.0.0",
      "model_name": "LayoutModel",
      "state": {}
     },
     "569cf6a54461471a8d87b3e22ec63345": {
      "model_module": "@jupyter-widgets/controls",
      "model_module_version": "2.0.0",
      "model_name": "HTMLModel",
      "state": {
       "layout": "IPY_MODEL_3cafa804468c4ae0842cb058e0ba069a",
       "style": "IPY_MODEL_9eb00d55a2d84b7fbc2265e1af90dca5",
       "value": "<span style='color: #5E5A72;'>This would sync <span style='color: #B8520A'>2 changes </span> from <i>Low Node</i> to <i>High Node</i></span>"
      }
     },
     "56b3e1dc88754fe797be22864a2d3e17": {
      "model_module": "@jupyter-widgets/controls",
      "model_module_version": "2.0.0",
      "model_name": "HTMLStyleModel",
      "state": {
       "description_width": "",
       "font_size": null,
       "text_color": null
      }
     },
     "572ba7eb60444e768bfee5c484186e3a": {
      "model_module": "@jupyter-widgets/controls",
      "model_module_version": "2.0.0",
      "model_name": "VBoxModel",
      "state": {
       "children": [
        "IPY_MODEL_f4306e3a46c14114b51e55e0f3140f0b",
        "IPY_MODEL_20a449423b5c4b8ea8006c6aaa7409e2"
       ],
       "layout": "IPY_MODEL_efe61a47c25b4f9a8653be26a37f352b"
      }
     },
     "574d6bdccf174fdfb76b0083d9307f71": {
      "model_module": "@jupyter-widgets/base",
      "model_module_version": "2.0.0",
      "model_name": "LayoutModel",
      "state": {}
     },
     "5778156f973f4bb8b2b12436435871b8": {
      "model_module": "@jupyter-widgets/base",
      "model_module_version": "2.0.0",
      "model_name": "LayoutModel",
      "state": {
       "align_items": "center"
      }
     },
     "57b6e96a91da4960a68b2dceaa2cada3": {
      "model_module": "@jupyter-widgets/base",
      "model_module_version": "2.0.0",
      "model_name": "LayoutModel",
      "state": {
       "overflow": "auto",
       "width": "50%"
      }
     },
     "57e292f0349c47bb81dfb710d51954ce": {
      "model_module": "@jupyter-widgets/controls",
      "model_module_version": "2.0.0",
      "model_name": "HTMLModel",
      "state": {
       "layout": "IPY_MODEL_3fe2d5beaae4421992f289676d5f46ab",
       "style": "IPY_MODEL_5f05e3028717466a8c4e6206709bcb39",
       "value": "<div style='height: 16px;'></div>"
      }
     },
     "58439e1d940143e3a3b1bab1676d59ff": {
      "model_module": "@jupyter-widgets/controls",
      "model_module_version": "2.0.0",
      "model_name": "HBoxModel",
      "state": {
       "children": [
        "IPY_MODEL_89cb9ed39d8242238bbc2ccbfa2f058f"
       ],
       "layout": "IPY_MODEL_6e266fee56ce4cdabaf3691aca86f2ec"
      }
     },
     "5884cee932e5434ab4b0ca4dd5805ed9": {
      "model_module": "@jupyter-widgets/base",
      "model_module_version": "2.0.0",
      "model_name": "LayoutModel",
      "state": {}
     },
     "588a2e0abe114bfaadd59b56ab470011": {
      "model_module": "@jupyter-widgets/controls",
      "model_module_version": "2.0.0",
      "model_name": "HTMLStyleModel",
      "state": {
       "description_width": "",
       "font_size": null,
       "text_color": null
      }
     },
     "5890f4bf70f14eb38eeaff9fa8de9785": {
      "model_module": "@jupyter-widgets/controls",
      "model_module_version": "2.0.0",
      "model_name": "HTMLModel",
      "state": {
       "layout": "IPY_MODEL_2cb6e585c25a4649a959a84d57361ac5",
       "style": "IPY_MODEL_c7d8820c32ce492a99d72957945d4aaa",
       "value": "<span style='color: #5E5A72;'>This would sync <span style='color: #B8520A'>2 changes </span> from <i>Low Node</i> to <i>High Node</i></span>"
      }
     },
     "589cd211ffab430f886a0b97a70c70b1": {
      "model_module": "@jupyter-widgets/controls",
      "model_module_version": "2.0.0",
      "model_name": "HBoxModel",
      "state": {
       "children": [
        "IPY_MODEL_1daa29dd687d47b39899532395953f3c",
        "IPY_MODEL_93d9d0078ac74b4f87403d92441084da"
       ],
       "layout": "IPY_MODEL_e912d2f9132a459ea17cf7bc7e53c633"
      }
     },
     "58d43ef0d2004223b8fe70d5ad6975ff": {
      "model_module": "@jupyter-widgets/base",
      "model_module_version": "2.0.0",
      "model_name": "LayoutModel",
      "state": {}
     },
     "5912d9ecc4254392a9018e5d6ca2382f": {
      "model_module": "@jupyter-widgets/base",
      "model_module_version": "2.0.0",
      "model_name": "LayoutModel",
      "state": {
       "margin": "0 5px 0 0"
      }
     },
     "592bdeceff194e61bfddcabedc91df40": {
      "model_module": "@jupyter-widgets/controls",
      "model_module_version": "2.0.0",
      "model_name": "AccordionModel",
      "state": {
       "children": [
        "IPY_MODEL_2f999bb8db8c42a1a7f69c356f61fd73"
       ],
       "layout": "IPY_MODEL_9b64c929bc5e48b887c87deafaebcd16",
       "selected_index": 0,
       "titles": [
        "Request (2 changes)"
       ]
      }
     },
     "596ee4d1e2554c3faef7dd0a71422b7f": {
      "model_module": "@jupyter-widgets/base",
      "model_module_version": "2.0.0",
      "model_name": "LayoutModel",
      "state": {}
     },
     "597b64184ada43088905af44384ffdda": {
      "model_module": "@jupyter-widgets/controls",
      "model_module_version": "2.0.0",
      "model_name": "HBoxModel",
      "state": {
       "children": [
        "IPY_MODEL_3fd043aaaf4c422ea8ae57d04dff16c1",
        "IPY_MODEL_096c1ad5dd8646518877a810ec40438b"
       ],
       "layout": "IPY_MODEL_291a1e341a8c4d8d8d3cf3eca8e04f35"
      }
     },
     "59bc00229f344bceb0d4a9f95594d761": {
      "model_module": "@jupyter-widgets/controls",
      "model_module_version": "2.0.0",
      "model_name": "HTMLModel",
      "state": {
       "layout": "IPY_MODEL_2604f352ecee4f10bbfc20dbbe194781",
       "style": "IPY_MODEL_38c1d4fcafc842a9b3735af3e7939fb9",
       "value": "<span style='margin-left: 5px; font-weight: bold; color: #373B7B;'>compute_mean</span> <span style='margin-left: 5px; color: #B4B0BF;'>#1234...</span>"
      }
     },
     "59cae64bd1d340c3b2247694f5218649": {
      "model_module": "@jupyter-widgets/base",
      "model_module_version": "2.0.0",
      "model_name": "LayoutModel",
      "state": {}
     },
     "59ee7b338ef54f09a7ad9983f13ee72e": {
      "model_module": "@jupyter-widgets/controls",
      "model_module_version": "2.0.0",
      "model_name": "HTMLStyleModel",
      "state": {
       "description_width": "",
       "font_size": null,
       "text_color": null
      }
     },
     "5a4d52f3e7ea418989ff082d04abba57": {
      "model_module": "@jupyter-widgets/base",
      "model_module_version": "2.0.0",
      "model_name": "LayoutModel",
      "state": {
       "overflow": "auto",
       "width": "50%"
      }
     },
     "5a696feb09e145f9a52ada98f200570d": {
      "model_module": "@jupyter-widgets/output",
      "model_module_version": "1.0.0",
      "model_name": "OutputModel",
      "state": {
       "layout": "IPY_MODEL_e97e5567b4eb4168b1369647ab5f196b"
      }
     },
     "5a6ba583f9de47d8af6bda19b07748dc": {
      "model_module": "@jupyter-widgets/base",
      "model_module_version": "2.0.0",
      "model_name": "LayoutModel",
      "state": {}
     },
     "5afa4144f5bd4bc9b260eb4042e49426": {
      "model_module": "@jupyter-widgets/controls",
      "model_module_version": "2.0.0",
      "model_name": "HBoxModel",
      "state": {
       "children": [
        "IPY_MODEL_390120bb386b4a738bd281bf67a5ca21",
        "IPY_MODEL_8d45197a27a14fb0b6f764c14026872e"
       ],
       "layout": "IPY_MODEL_59cae64bd1d340c3b2247694f5218649"
      }
     },
     "5b016721917b4a94907aabebdc01dc73": {
      "model_module": "@jupyter-widgets/controls",
      "model_module_version": "2.0.0",
      "model_name": "VBoxModel",
      "state": {
       "children": [
        "IPY_MODEL_421cbdb26786427faf6f0e2ab463ff98",
        "IPY_MODEL_b41227aa9bc84de48110d451b3e930aa"
       ],
       "layout": "IPY_MODEL_e49d04eb38994045b4f8e39198663368"
      }
     },
     "5b1437e5a0c14610b35b5b4995de74af": {
      "model_module": "@jupyter-widgets/controls",
      "model_module_version": "2.0.0",
      "model_name": "HTMLStyleModel",
      "state": {
       "description_width": "",
       "font_size": null,
       "text_color": null
      }
     },
     "5b265e847c844a84be4cd65ecbf25a51": {
      "model_module": "@jupyter-widgets/base",
      "model_module_version": "2.0.0",
      "model_name": "LayoutModel",
      "state": {}
     },
     "5b37f99e27a74c5981a7bf163180ff4a": {
      "model_module": "@jupyter-widgets/base",
      "model_module_version": "2.0.0",
      "model_name": "LayoutModel",
      "state": {
       "overflow": "auto",
       "width": "50%"
      }
     },
     "5b718a883c7042d3ae6a1270482d9dac": {
      "model_module": "@jupyter-widgets/base",
      "model_module_version": "2.0.0",
      "model_name": "LayoutModel",
      "state": {}
     },
     "5b870cd8434b4de5b02b90c54bb8dc90": {
      "model_module": "@jupyter-widgets/controls",
      "model_module_version": "2.0.0",
      "model_name": "HTMLModel",
      "state": {
       "layout": "IPY_MODEL_50fa4949d57c48dc8f79b19cdaf0f764",
       "style": "IPY_MODEL_2704e1023e52460297c9e1964097ce2c",
       "value": "<span style='color: #5E5A72;'>This would sync <span style='color: #B8520A'>2 changes </span> from <i>Low Node</i> to <i>High Node</i></span>"
      }
     },
     "5b9ade701e404b2fa11ae70131ecbe70": {
      "model_module": "@jupyter-widgets/base",
      "model_module_version": "2.0.0",
      "model_name": "LayoutModel",
      "state": {}
     },
     "5b9b04cf43794310964fc1cac07d65c5": {
      "model_module": "@jupyter-widgets/controls",
      "model_module_version": "2.0.0",
      "model_name": "HTMLModel",
      "state": {
       "layout": "IPY_MODEL_f7e68caec390446f83c09c103a736aaf",
       "style": "IPY_MODEL_50e27e0d4e98481fb330af2b96f31e99",
       "value": "<div style='font-family: monospace; width: 100%;'><b>Low side</b><br><div style='border-left: 1px solid #000; padding-left: 10px;'><div style='background-color: #FEE9CD;; color: #B8520A;; display: block; white-space: pre-wrap; margin-bottom: 5px;'>status: pending</div><div style='background-color: #FEE9CD;; color: #B8520A;; display: block; white-space: pre-wrap; margin-bottom: 5px;'>approved_by: None</div><div style='background-color: transparent; color: #353243; display: block; white-space: pre-wrap; margin-bottom: 5px;'>date_created: 2024-04-27</div></div></div>"
      }
     },
     "5bb48b14af5643619733de779d5af348": {
      "model_module": "@jupyter-widgets/base",
      "model_module_version": "2.0.0",
      "model_name": "LayoutModel",
      "state": {}
     },
     "5bb4c269e35b4bfdb6eaefdbd7437f80": {
      "model_module": "@jupyter-widgets/base",
      "model_module_version": "2.0.0",
      "model_name": "LayoutModel",
      "state": {}
     },
     "5c14ce79532f42978c2503e2165e6288": {
      "model_module": "@jupyter-widgets/controls",
      "model_module_version": "2.0.0",
      "model_name": "HTMLStyleModel",
      "state": {
       "description_width": "",
       "font_size": null,
       "text_color": null
      }
     },
     "5c38b72cc84046bebac991f3f46a0c8e": {
      "model_module": "@jupyter-widgets/base",
      "model_module_version": "2.0.0",
      "model_name": "LayoutModel",
      "state": {}
     },
     "5c70fc0e83b244d899b5613cdb9d8896": {
      "model_module": "@jupyter-widgets/base",
      "model_module_version": "2.0.0",
      "model_name": "LayoutModel",
      "state": {
       "overflow": "auto",
       "width": "50%"
      }
     },
     "5c7c8f28bd8449f6a94978bd4815911e": {
      "model_module": "@jupyter-widgets/controls",
      "model_module_version": "2.0.0",
      "model_name": "HTMLModel",
      "state": {
       "layout": "IPY_MODEL_0691e79f454f49b9a2320610a0d0e5b2",
       "style": "IPY_MODEL_79c82a436d1540c881c53904d19f846c",
       "value": "<span style='background-color: #C2DEF0; border-radius: 4px; padding: 4px 6px; color: #373B7B;'>Code</span>"
      }
     },
     "5ccf232d0d44449580c4eb692db61e04": {
      "model_module": "@jupyter-widgets/controls",
      "model_module_version": "2.0.0",
      "model_name": "HTMLStyleModel",
      "state": {
       "description_width": "",
       "font_size": null,
       "text_color": null
      }
     },
     "5d07698ef3b6481894817556f49d804d": {
      "model_module": "@jupyter-widgets/controls",
      "model_module_version": "2.0.0",
      "model_name": "VBoxModel",
      "state": {
       "children": [
        "IPY_MODEL_dbd25a692630440e8a6c9b03efab6b66",
        "IPY_MODEL_6e01cabc61e242eda2a6e925b629b16f",
        "IPY_MODEL_569cf6a54461471a8d87b3e22ec63345"
       ],
       "layout": "IPY_MODEL_eb4ab368a8c74054870f8e777e99a974"
      }
     },
     "5d1fd2f99a2a4e188677f0db9daa9c07": {
      "model_module": "@jupyter-widgets/base",
      "model_module_version": "2.0.0",
      "model_name": "LayoutModel",
      "state": {
       "overflow": "auto",
       "width": "50%"
      }
     },
     "5d98ed0e37184b9296fb8858974d243c": {
      "model_module": "@jupyter-widgets/controls",
      "model_module_version": "2.0.0",
      "model_name": "HTMLModel",
      "state": {
       "layout": "IPY_MODEL_3b659503e72d4c5b912bce017b0d9eaf",
       "style": "IPY_MODEL_fbbc4e323537454290d1391d0b68b694",
       "value": "<span style='background-color: #C2DEF0; border-radius: 4px; padding: 4px 6px; color: #373B7B;'>Code</span>"
      }
     },
     "5dba7f70c2a642f1b6098547e8350982": {
      "model_module": "@jupyter-widgets/controls",
      "model_module_version": "2.0.0",
      "model_name": "HBoxModel",
      "state": {
       "children": [
        "IPY_MODEL_0ad701a1662d447ca434b3ae8b09b354",
        "IPY_MODEL_8f90b1bd62c942b49c7fca103b1ee9e3"
       ],
       "layout": "IPY_MODEL_8585ce860f4d4538a05c2bb738d37f99"
      }
     },
     "5e36398190324ea28cd0552e40042d5a": {
      "model_module": "@jupyter-widgets/controls",
      "model_module_version": "2.0.0",
      "model_name": "CheckboxModel",
      "state": {
       "description": "Sync",
       "disabled": false,
       "layout": "IPY_MODEL_6e8aaa6e88c64154b6ed20362cd38d64",
       "style": "IPY_MODEL_ea0ac2cee817414a91a85bcbc9c79a39",
       "value": false
      }
     },
     "5e41f48d479b4d8dbd3f3c30ff1df3b9": {
      "model_module": "@jupyter-widgets/base",
      "model_module_version": "2.0.0",
      "model_name": "LayoutModel",
      "state": {}
     },
     "5e495e46c0de4cb1a07551e93231ad64": {
      "model_module": "@jupyter-widgets/controls",
      "model_module_version": "2.0.0",
      "model_name": "HTMLModel",
      "state": {
       "layout": "IPY_MODEL_2d42bb9712424d2093557ed065dea2b6",
       "style": "IPY_MODEL_adf66a43a9774e1482f79f5c95572ff0",
       "value": "<div style='font-family: monospace; width: 100%;'><b>Low side</b><br><div style='border-left: 1px solid #000; padding-left: 10px;'><div style='background-color: #ffffcc;display: block; white-space: pre-wrap; margin-bottom: 5px;'>status: pending</div><div style='background-color: #ffffcc;display: block; white-space: pre-wrap; margin-bottom: 5px;'>approved_by: None</div><div style='display: block; white-space: pre-wrap; margin-bottom: 5px;'>date_created: 2024-04-27</div></div></div>"
      }
     },
     "5e8e6f4c8e8449c3a1b1b3bcc11d8a5e": {
      "model_module": "@jupyter-widgets/controls",
      "model_module_version": "2.0.0",
      "model_name": "HTMLModel",
      "state": {
       "layout": "IPY_MODEL_d8768cb13b6944c784b84bffd2271a34",
       "style": "IPY_MODEL_fc35655c1e1e4c8c8decea3f89cb07a7",
       "value": "<div style='font-family: monospace; width: 100%;'><b>High side</b><br><div style='border-left: 1px solid #000; padding-left: 10px;'><div style='background-color: #FEE9CD;; color: #B8520A;; display: block; white-space: pre-wrap; margin-bottom: 5px;'>status: approved</div><div style='background-color: #FEE9CD;; color: #B8520A;; display: block; white-space: pre-wrap; margin-bottom: 5px;'>approved_by: admin</div><div style='background-color: transparent; color: #353243; display: block; white-space: pre-wrap; margin-bottom: 5px;'>date_created: 2024-04-27</div><div style='background-color: #D5F1D5;; color: #256B24;; display: block; white-space: pre-wrap; margin-bottom: 5px;'>code: @syft.function\ndef compute_mean(data: np.ndarray):\n    print(\"computing mean...\")\n    return data.mean()\n</div></div></div>"
      }
     },
     "5edef4555f314e86a7f65b843edc639c": {
      "model_module": "@jupyter-widgets/controls",
      "model_module_version": "2.0.0",
      "model_name": "HTMLStyleModel",
      "state": {
       "description_width": "",
       "font_size": null,
       "text_color": null
      }
     },
     "5f05e3028717466a8c4e6206709bcb39": {
      "model_module": "@jupyter-widgets/controls",
      "model_module_version": "2.0.0",
      "model_name": "HTMLStyleModel",
      "state": {
       "description_width": "",
       "font_size": null,
       "text_color": null
      }
     },
     "5f62fcc495d540318c1e0842644588e8": {
      "model_module": "@jupyter-widgets/controls",
      "model_module_version": "2.0.0",
      "model_name": "HTMLStyleModel",
      "state": {
       "description_width": "",
       "font_size": null,
       "text_color": null
      }
     },
     "5fb02c1af25741fa8ad11e5822c46cd0": {
      "model_module": "@jupyter-widgets/controls",
      "model_module_version": "2.0.0",
      "model_name": "HTMLStyleModel",
      "state": {
       "description_width": "",
       "font_size": null,
       "text_color": null
      }
     },
     "5fb55c54bf584d08b4efabe599046247": {
      "model_module": "@jupyter-widgets/controls",
      "model_module_version": "2.0.0",
      "model_name": "HTMLStyleModel",
      "state": {
       "description_width": "",
       "font_size": null,
       "text_color": null
      }
     },
     "5fcc808e0be3441aa667fa4a94e64659": {
      "model_module": "@jupyter-widgets/base",
      "model_module_version": "2.0.0",
      "model_name": "LayoutModel",
      "state": {}
     },
     "5fd1226337284468953cb975091e8ff6": {
      "model_module": "@jupyter-widgets/base",
      "model_module_version": "2.0.0",
      "model_name": "LayoutModel",
      "state": {}
     },
     "5fd484e569b148c0b6112762b538d819": {
      "model_module": "@jupyter-widgets/controls",
      "model_module_version": "2.0.0",
      "model_name": "ButtonModel",
      "state": {
       "description": "Custom color",
       "layout": "IPY_MODEL_416734f238454bd4a5f9ca42e8c1fa4c",
       "style": "IPY_MODEL_8e32ba76fb4c4c50b578c7ba8e600a16",
       "tooltip": null
      }
     },
     "60202b6ae0fd4b10b2402b5b31b76292": {
      "model_module": "@jupyter-widgets/base",
      "model_module_version": "2.0.0",
      "model_name": "LayoutModel",
      "state": {}
     },
     "602b834a39e04051a640e0eedf748059": {
      "model_module": "@jupyter-widgets/controls",
      "model_module_version": "2.0.0",
      "model_name": "HTMLModel",
      "state": {
       "layout": "IPY_MODEL_f898e95e36a54a0d89375d9b9642223e",
       "style": "IPY_MODEL_0bb2c98a639945f28f42c19599354126",
       "value": "<div style='font-family: monospace; width: 100%;'><b>High side</b><br><div style='border-left: 1px solid #000; padding-left: 10px;'><div style='background-color: #FEE9CD;; color: #B8520A;; display: block; white-space: pre-wrap; margin-bottom: 5px;'>status: approved</div><div style='background-color: #FEE9CD;; color: #B8520A;; display: block; white-space: pre-wrap; margin-bottom: 5px;'>approved_by: admin</div><div style='background-color: transparent; color: #353243; display: block; white-space: pre-wrap; margin-bottom: 5px;'>date_created: 2024-04-27</div></div></div>"
      }
     },
     "6050fa7c214e4e21b4f5c127c94894bf": {
      "model_module": "@jupyter-widgets/base",
      "model_module_version": "2.0.0",
      "model_name": "LayoutModel",
      "state": {
       "width": "100%"
      }
     },
     "60671ab1953542a6af905afe1811da15": {
      "model_module": "@jupyter-widgets/controls",
      "model_module_version": "2.0.0",
      "model_name": "HTMLModel",
      "state": {
       "layout": "IPY_MODEL_5b37f99e27a74c5981a7bf163180ff4a",
       "style": "IPY_MODEL_b78d8f761f4542f3a8154e29a9a2b2b5",
       "value": "<div style='font-family: monospace; width: 100%;'>From<br><div style='border-left: 1px solid #B4B0BF; padding-left: 10px;'><div style='background-color: #FEE9CD;; color: #B8520A;; display: block; white-space: pre-wrap; margin-bottom: 5px;'>status: pending</div><div style='background-color: #FEE9CD;; color: #B8520A;; display: block; white-space: pre-wrap; margin-bottom: 5px;'>approved_by: None</div><div style='background-color: transparent; color: #353243; display: block; white-space: pre-wrap; margin-bottom: 5px;'>date_created: 2024-04-27</div><div style='background-color: #D5F1D5;; color: #256B24;; display: block; white-space: pre-wrap; margin-bottom: 5px;'>code: None</div></div></div>"
      }
     },
     "60bb95e55a5542e88e7257df566381da": {
      "model_module": "@jupyter-widgets/controls",
      "model_module_version": "2.0.0",
      "model_name": "ButtonModel",
      "state": {
       "description": "Custom color",
       "layout": "IPY_MODEL_9c1e0385017f424899574312cffbbf15",
       "style": "IPY_MODEL_1e9fa37df4c04c228f0edd79e6893710",
       "tooltip": null
      }
     },
     "61239b911aa841a48ef10744ef294fc7": {
      "model_module": "@jupyter-widgets/base",
      "model_module_version": "2.0.0",
      "model_name": "LayoutModel",
      "state": {
       "overflow": "auto",
       "width": "50%"
      }
     },
     "61281f01266c4041959c9f3687e53ed6": {
      "model_module": "@jupyter-widgets/controls",
      "model_module_version": "2.0.0",
      "model_name": "HTMLStyleModel",
      "state": {
       "description_width": "",
       "font_size": null,
       "text_color": null
      }
     },
     "612b05e6850749ed91cc418502e0ac3e": {
      "model_module": "@jupyter-widgets/base",
      "model_module_version": "2.0.0",
      "model_name": "LayoutModel",
      "state": {
       "overflow": "auto",
       "width": "50%"
      }
     },
     "613159d1f86d4e2282fc9d620f400640": {
      "model_module": "@jupyter-widgets/base",
      "model_module_version": "2.0.0",
      "model_name": "LayoutModel",
      "state": {}
     },
     "61878071447c41d99299b68b6239d13c": {
      "model_module": "@jupyter-widgets/base",
      "model_module_version": "2.0.0",
      "model_name": "LayoutModel",
      "state": {
       "overflow": "auto",
       "width": "50%"
      }
     },
     "61b0990955014444a272e3729d18582d": {
      "model_module": "@jupyter-widgets/controls",
      "model_module_version": "2.0.0",
      "model_name": "HTMLStyleModel",
      "state": {
       "description_width": "",
       "font_size": null,
       "text_color": null
      }
     },
     "61e7c4594bf04cf6aa1ff4c6e9603e5c": {
      "model_module": "@jupyter-widgets/base",
      "model_module_version": "2.0.0",
      "model_name": "LayoutModel",
      "state": {
       "align_items": "center"
      }
     },
     "620d859ff0ca4317bc3aa003e5ffe384": {
      "model_module": "@jupyter-widgets/base",
      "model_module_version": "2.0.0",
      "model_name": "LayoutModel",
      "state": {
       "align_items": "center"
      }
     },
     "624d3f4e5682414f8fc19cded6214424": {
      "model_module": "@jupyter-widgets/controls",
      "model_module_version": "2.0.0",
      "model_name": "ButtonModel",
      "state": {
       "description": "Custom color",
       "layout": "IPY_MODEL_d0032ec3eeed4c36857f060cc7fc091e",
       "style": "IPY_MODEL_62d014f664ff434d96c2c0168208ef5f",
       "tooltip": null
      }
     },
     "624e9be9227940848b76354cb2ce4984": {
      "model_module": "@jupyter-widgets/controls",
      "model_module_version": "2.0.0",
      "model_name": "CheckboxStyleModel",
      "state": {
       "description_width": ""
      }
     },
     "6284491e81d840308d9d6ef642cc68e4": {
      "model_module": "@jupyter-widgets/base",
      "model_module_version": "2.0.0",
      "model_name": "LayoutModel",
      "state": {
       "overflow": "auto",
       "width": "50%"
      }
     },
     "628508d03fdd4d6da2995fdda1e3884f": {
      "model_module": "@jupyter-widgets/base",
      "model_module_version": "2.0.0",
      "model_name": "LayoutModel",
      "state": {}
     },
     "62bae62796e941518831c1dae79b4bac": {
      "model_module": "@jupyter-widgets/base",
      "model_module_version": "2.0.0",
      "model_name": "LayoutModel",
      "state": {}
     },
     "62d014f664ff434d96c2c0168208ef5f": {
      "model_module": "@jupyter-widgets/controls",
      "model_module_version": "2.0.0",
      "model_name": "ButtonStyleModel",
      "state": {
       "font_family": null,
       "font_size": null,
       "font_style": null,
       "font_variant": null,
       "font_weight": null,
       "text_color": null,
       "text_decoration": null
      }
     },
     "6327c628ee4b4bb8aa636293a37b2e65": {
      "model_module": "@jupyter-widgets/controls",
      "model_module_version": "2.0.0",
      "model_name": "HTMLStyleModel",
      "state": {
       "description_width": "",
       "font_size": null,
       "text_color": null
      }
     },
     "632a33e8b2414c70b2390ad6bdf68fd8": {
      "model_module": "@jupyter-widgets/base",
      "model_module_version": "2.0.0",
      "model_name": "LayoutModel",
      "state": {}
     },
     "6358255f2a3a4f7bbb25f6653d769d3c": {
      "model_module": "@jupyter-widgets/controls",
      "model_module_version": "2.0.0",
      "model_name": "ButtonModel",
      "state": {
       "icon": "clone",
       "layout": "IPY_MODEL_cd02ed570b25411ba98d7e81e6924a37",
       "style": "IPY_MODEL_1ae9cd0989324c80ab67ccd118bbac14",
       "tooltip": null
      }
     },
     "637d7552e8bd40b0b836c9b1a0e36380": {
      "model_module": "@jupyter-widgets/base",
      "model_module_version": "2.0.0",
      "model_name": "LayoutModel",
      "state": {}
     },
     "63d431ed9e0348bba653fb6202afced0": {
      "model_module": "@jupyter-widgets/controls",
      "model_module_version": "2.0.0",
      "model_name": "ButtonModel",
      "state": {
       "icon": "clone",
       "layout": "IPY_MODEL_0c7fbd53a07b443992b80a9534fe4409",
       "style": "IPY_MODEL_8636b1752ebd42bd9d41310c5994483a",
       "tooltip": null
      }
     },
     "63d95b363c9c40d69ffbb09d46255031": {
      "model_module": "@jupyter-widgets/base",
      "model_module_version": "2.0.0",
      "model_name": "LayoutModel",
      "state": {}
     },
     "642bc24178d2481088dff6720db7661f": {
      "model_module": "@jupyter-widgets/base",
      "model_module_version": "2.0.0",
      "model_name": "LayoutModel",
      "state": {
       "align_items": "center",
       "display": "flex"
      }
     },
     "644e38db11cd4a63bc22d00460735cc7": {
      "model_module": "@jupyter-widgets/controls",
      "model_module_version": "2.0.0",
      "model_name": "LabelStyleModel",
      "state": {
       "description_width": "",
       "font_family": null,
       "font_size": null,
       "font_style": null,
       "font_variant": null,
       "font_weight": null,
       "text_color": null,
       "text_decoration": null
      }
     },
     "64705b196b374147aebdcd9a88f4c8c6": {
      "model_module": "@jupyter-widgets/controls",
      "model_module_version": "2.0.0",
      "model_name": "HTMLModel",
      "state": {
       "layout": "IPY_MODEL_790a1b0bed8f4c44a0799f2ba788caa3",
       "style": "IPY_MODEL_aeb7478d980d49bebcbc79f8aab22cad",
       "value": "<div style='font-family: monospace; width: 100%;'><b>High side</b><br><div style='border-left: 1px solid #000; padding-left: 10px;'><div style='background-color: #ffffcc;display: block; white-space: pre-wrap; margin-bottom: 5px;'>status: approved</div><div style='background-color: #ffffcc;display: block; white-space: pre-wrap; margin-bottom: 5px;'>approved_by: admin</div><div style='display: block; white-space: pre-wrap; margin-bottom: 5px;'>date_created: 2024-04-27</div><div style='background-color: #ddffdd;display: block; white-space: pre-wrap; margin-bottom: 5px;'>code: @syft.function\ndef compute_mean(data: np.ndarray):\n    print(\"computing mean...\")\n    return data.mean()\n</div></div></div>"
      }
     },
     "647cbd05dcf540059c98a93657ae81cb": {
      "model_module": "@jupyter-widgets/controls",
      "model_module_version": "2.0.0",
      "model_name": "HBoxModel",
      "state": {
       "children": [
        "IPY_MODEL_2dc2aa52e129455a8034f4fcbfe326cb"
       ],
       "layout": "IPY_MODEL_d89de02f06724025aa14ebb695a86f85"
      }
     },
     "6524bf6a207740d7ae1d61924fffbf79": {
      "model_module": "@jupyter-widgets/base",
      "model_module_version": "2.0.0",
      "model_name": "LayoutModel",
      "state": {}
     },
     "653aa268a26f41728e9a6603e52edcfb": {
      "model_module": "@jupyter-widgets/controls",
      "model_module_version": "2.0.0",
      "model_name": "CheckboxModel",
      "state": {
       "description": "Sync",
       "disabled": false,
       "layout": "IPY_MODEL_0bb872756f3a4e5ebae2d0caccec079d",
       "style": "IPY_MODEL_c4cb3b345ab14e76a0f07cbd28bc59fa",
       "value": false
      }
     },
     "65bff146a5e54973b5b92ea05bf5a818": {
      "model_module": "@jupyter-widgets/controls",
      "model_module_version": "2.0.0",
      "model_name": "HTMLStyleModel",
      "state": {
       "description_width": "",
       "font_size": null,
       "text_color": null
      }
     },
     "661b3f8a87364c95ad8e44402bd5b402": {
      "model_module": "@jupyter-widgets/controls",
      "model_module_version": "2.0.0",
      "model_name": "HTMLModel",
      "state": {
       "layout": "IPY_MODEL_bfd409790f184f50a91c268dc1ae8036",
       "style": "IPY_MODEL_96435a89bb8e452d9a110b3631dce0be",
       "value": "<div style='font-family: monospace; width: 100%;'><b>Low side</b><br><div style='border-left: 1px solid #000; padding-left: 10px;'><div style='background-color: background-color: #FEE9CD;; color: background-color: #B8520A;; display: block; white-space: pre-wrap; margin-bottom: 5px;'>status: pending</div><div style='background-color: background-color: #FEE9CD;; color: background-color: #B8520A;; display: block; white-space: pre-wrap; margin-bottom: 5px;'>approved_by: None</div><div style='background-color: transparent; color: #353243; display: block; white-space: pre-wrap; margin-bottom: 5px;'>date_created: 2024-04-27</div></div></div>"
      }
     },
     "6639dc31388744d3bbd6b2bef7a5e46e": {
      "model_module": "@jupyter-widgets/controls",
      "model_module_version": "2.0.0",
      "model_name": "HTMLStyleModel",
      "state": {
       "description_width": "",
       "font_size": null,
       "text_color": null
      }
     },
     "664b49d2a56047cf92a7808f07f0180f": {
      "model_module": "@jupyter-widgets/controls",
      "model_module_version": "2.0.0",
      "model_name": "VBoxModel",
      "state": {
       "children": [
        "IPY_MODEL_3ed8eeab7abb42e1b841c3ccf9682e0f",
        "IPY_MODEL_7435ff402f0b4a49a602aaadd28e204a"
       ],
       "layout": "IPY_MODEL_8002a82a6138489e97da4d4da57a3208"
      }
     },
     "665221392ac54daba38bcbf3043abfa6": {
      "model_module": "@jupyter-widgets/base",
      "model_module_version": "2.0.0",
      "model_name": "LayoutModel",
      "state": {
       "overflow": "auto",
       "width": "50%"
      }
     },
     "66a7b2254bc946608571a80715a081da": {
      "model_module": "@jupyter-widgets/base",
      "model_module_version": "2.0.0",
      "model_name": "LayoutModel",
      "state": {
       "height": "25px",
       "margin": "0",
       "padding": "0",
       "width": "25px"
      }
     },
     "66bdf2f103ec418e831fe83aa4d25b57": {
      "model_module": "@jupyter-widgets/base",
      "model_module_version": "2.0.0",
      "model_name": "LayoutModel",
      "state": {
       "border_bottom": "solid 1px",
       "border_left": "solid 1px",
       "border_right": "solid 1px",
       "border_top": "solid 1px"
      }
     },
     "6728af9091be401c9a0570e0060ac209": {
      "model_module": "@jupyter-widgets/base",
      "model_module_version": "2.0.0",
      "model_name": "LayoutModel",
      "state": {
       "height": "25px",
       "margin": "0",
       "padding": "0",
       "width": "25px"
      }
     },
     "6743d175a78048ab88a4b1ab78944425": {
      "model_module": "@jupyter-widgets/controls",
      "model_module_version": "2.0.0",
      "model_name": "HBoxModel",
      "state": {
       "layout": "IPY_MODEL_b334b37203644996bb9d174e8a24e8a4"
      }
     },
     "677156cba6cd46f7b17cf7e572d30dbd": {
      "model_module": "@jupyter-widgets/controls",
      "model_module_version": "2.0.0",
      "model_name": "HBoxModel",
      "state": {
       "children": [
        "IPY_MODEL_c111c46e0d0b4185bf9be201df2d10a4",
        "IPY_MODEL_39e8ec5d21c94b9dad71ea4a49d98eed"
       ],
       "layout": "IPY_MODEL_229ca1bf9db64abd8cb1df1f6270cd29"
      }
     },
     "677163bdbce54aed84118d79bec2a2b1": {
      "model_module": "@jupyter-widgets/base",
      "model_module_version": "2.0.0",
      "model_name": "LayoutModel",
      "state": {
       "height": "25px",
       "margin": "0",
       "padding": "0",
       "width": "25px"
      }
     },
     "6775b6b7d4ce418d8a9fa9c06f8a107d": {
      "model_module": "@jupyter-widgets/base",
      "model_module_version": "2.0.0",
      "model_name": "LayoutModel",
      "state": {
       "overflow": "auto",
       "width": "50%"
      }
     },
     "678cad016842447fa6a80bf954cfd6fb": {
      "model_module": "@jupyter-widgets/controls",
      "model_module_version": "2.0.0",
      "model_name": "HTMLModel",
      "state": {
       "layout": "IPY_MODEL_786d93e783d7401eb590af6c8ab15794",
       "style": "IPY_MODEL_97b90373c80f4be1a13167314a125b80",
       "value": "<span style='margin-left: 5px; font-weight: bold; color: #373B7B;'>compute_mean</span> <span style='margin-left: 5px; color: #B4B0BF;'>#1234...</span>"
      }
     },
     "678cfcc7fcb94f4a83a7362ca2af582f": {
      "model_module": "@jupyter-widgets/controls",
      "model_module_version": "2.0.0",
      "model_name": "HTMLStyleModel",
      "state": {
       "description_width": "",
       "font_size": null,
       "text_color": null
      }
     },
     "67a6f80c31874c3cab81a206e766aba9": {
      "model_module": "@jupyter-widgets/controls",
      "model_module_version": "2.0.0",
      "model_name": "VBoxModel",
      "state": {
       "children": [
        "IPY_MODEL_d7b395d2fa784453ac36c97a02e389ff",
        "IPY_MODEL_e062ebff8a844b23b9b03eb7f5289025",
        "IPY_MODEL_cfaafcc07d8f4e8393c56dc5d9bc00ba"
       ],
       "layout": "IPY_MODEL_d6574206fd904aa8999979440df59087"
      }
     },
     "681b028b36184196b3fe9ac8f698289f": {
      "model_module": "@jupyter-widgets/base",
      "model_module_version": "2.0.0",
      "model_name": "LayoutModel",
      "state": {}
     },
     "68d8dde0bbbd4242934099d9bc24c0bb": {
      "model_module": "@jupyter-widgets/base",
      "model_module_version": "2.0.0",
      "model_name": "LayoutModel",
      "state": {}
     },
     "6924a681a92b410598b07212dd7a9a5e": {
      "model_module": "@jupyter-widgets/controls",
      "model_module_version": "2.0.0",
      "model_name": "BoxModel",
      "state": {
       "children": [
        "IPY_MODEL_a158d9d8ed2d453c8bd8507cf2c0bd0c",
        "IPY_MODEL_fdf2a82729b5450ca1af08b96a34fb99"
       ],
       "layout": "IPY_MODEL_a973f05c7b884c67a63bd1f23fdf7a5a"
      }
     },
     "697837af09a640038edd8fc6ad411b77": {
      "model_module": "@jupyter-widgets/controls",
      "model_module_version": "2.0.0",
      "model_name": "BoxModel",
      "state": {
       "children": [
        "IPY_MODEL_2e9b713e86d549b4b3f959defa7454b3"
       ],
       "layout": "IPY_MODEL_9035ed74cf6740d6b07b1ca9f2f94876"
      }
     },
     "69bfb5fb5d814ffd829cfc30adcd4900": {
      "model_module": "@jupyter-widgets/base",
      "model_module_version": "2.0.0",
      "model_name": "LayoutModel",
      "state": {
       "display": "none"
      }
     },
     "69e35159ddc748e3a04c9fca3809b954": {
      "model_module": "@jupyter-widgets/controls",
      "model_module_version": "2.0.0",
      "model_name": "HTMLStyleModel",
      "state": {
       "description_width": "",
       "font_size": null,
       "text_color": null
      }
     },
     "69f10b42bac8455884f1bc25bdb47454": {
      "model_module": "@jupyter-widgets/controls",
      "model_module_version": "2.0.0",
      "model_name": "CheckboxStyleModel",
      "state": {
       "description_width": ""
      }
     },
     "69f36097d5c145c8b3f5fa017cae8bf6": {
      "model_module": "@jupyter-widgets/base",
      "model_module_version": "2.0.0",
      "model_name": "LayoutModel",
      "state": {
       "overflow": "auto",
       "width": "50%"
      }
     },
     "6a4b6b1d156d466ba3a973f12878e440": {
      "model_module": "@jupyter-widgets/controls",
      "model_module_version": "2.0.0",
      "model_name": "CheckboxModel",
      "state": {
       "description": "Sync",
       "disabled": false,
       "layout": "IPY_MODEL_68d8dde0bbbd4242934099d9bc24c0bb",
       "style": "IPY_MODEL_3db5061ddbeb4500a0c56f16181ece50",
       "value": true
      }
     },
     "6a65ecc71b8540deaeb190c2719d886c": {
      "model_module": "@jupyter-widgets/base",
      "model_module_version": "2.0.0",
      "model_name": "LayoutModel",
      "state": {
       "margin": "0 5px 0 0"
      }
     },
     "6a66e59d7ae1481bb40e0b4175a0dd6c": {
      "model_module": "@jupyter-widgets/controls",
      "model_module_version": "2.0.0",
      "model_name": "ButtonModel",
      "state": {
       "icon": "clone",
       "layout": "IPY_MODEL_66a7b2254bc946608571a80715a081da",
       "style": "IPY_MODEL_404a89ca06ea4f1bae3e0b5c204af4d0",
       "tooltip": null
      }
     },
     "6ab9dee404f243d1924b8a14f4f10f6a": {
      "model_module": "@jupyter-widgets/base",
      "model_module_version": "2.0.0",
      "model_name": "LayoutModel",
      "state": {}
     },
     "6abf667ed16e4a1ca2929fe7c08888d2": {
      "model_module": "@jupyter-widgets/controls",
      "model_module_version": "2.0.0",
      "model_name": "HTMLModel",
      "state": {
       "layout": "IPY_MODEL_39dab1103ccd45abb0a82ebe0cca709a",
       "style": "IPY_MODEL_35ab40ab23c2429494cef1e1b27fc942",
       "value": "<div style='font-family: monospace; width: 100%;'><b>Low side</b><br><div style='border-left: 1px solid #000; padding-left: 10px;'><div style='background-color: #FEE9CD;; color: #B8520A;; display: block; white-space: pre-wrap; margin-bottom: 5px;'>status: pending</div><div style='background-color: #FEE9CD;; color: #B8520A;; display: block; white-space: pre-wrap; margin-bottom: 5px;'>approved_by: None</div><div style='background-color: transparent; color: #353243; display: block; white-space: pre-wrap; margin-bottom: 5px;'>date_created: 2024-04-27</div><div style='background-color: #D5F1D5;; color: #256B24;; display: block; white-space: pre-wrap; margin-bottom: 5px;'>code: None</div></div></div>"
      }
     },
     "6ada41febdd94f32b03aeffbb3bc99ee": {
      "model_module": "@jupyter-widgets/base",
      "model_module_version": "2.0.0",
      "model_name": "LayoutModel",
      "state": {
       "overflow": "auto",
       "width": "50%"
      }
     },
     "6add36ad33d34ac09aa3d066d20f486c": {
      "model_module": "@jupyter-widgets/controls",
      "model_module_version": "2.0.0",
      "model_name": "BoxModel",
      "state": {
       "children": [
        "IPY_MODEL_901f15521a144fa5926e9fb8d2ca509f",
        "IPY_MODEL_f4018fcae9234d9bbbad7297c474cf45"
       ],
       "layout": "IPY_MODEL_f327c18fb5cd4adc8da0332d17c37213"
      }
     },
     "6ae95543d19c48969fd2c25d5ed17104": {
      "model_module": "@jupyter-widgets/controls",
      "model_module_version": "2.0.0",
      "model_name": "HTMLModel",
      "state": {
       "layout": "IPY_MODEL_a736435178f84ebb8417fbd247b3dc77",
       "style": "IPY_MODEL_a21d3cf353d345f9a6c8bb4b638f5657",
       "value": "<div style='font-family: monospace; width: 100%;'>Low side<br><div style='border-left: 1px solid #B4B0BF; padding-left: 10px;'><div style='background-color: #FEE9CD;; color: #B8520A;; display: block; white-space: pre-wrap; margin-bottom: 5px;'>status: pending</div><div style='background-color: #FEE9CD;; color: #B8520A;; display: block; white-space: pre-wrap; margin-bottom: 5px;'>approved_by: None</div><div style='background-color: transparent; color: #353243; display: block; white-space: pre-wrap; margin-bottom: 5px;'>date_created: 2024-04-27</div></div></div>"
      }
     },
     "6b13e26e7ad143609ac71fb56ed7edc5": {
      "model_module": "@jupyter-widgets/controls",
      "model_module_version": "2.0.0",
      "model_name": "BoxModel",
      "state": {
       "children": [
        "IPY_MODEL_2e9b713e86d549b4b3f959defa7454b3"
       ],
       "layout": "IPY_MODEL_c125ec38a1374b81a79742e3c18ba18c"
      }
     },
     "6b297ca685984c9a878652f6221d5517": {
      "model_module": "@jupyter-widgets/controls",
      "model_module_version": "2.0.0",
      "model_name": "HTMLModel",
      "state": {
       "layout": "IPY_MODEL_2949f6141ebe41058a223b39e28ba91a",
       "style": "IPY_MODEL_5edef4555f314e86a7f65b843edc639c",
       "value": "<span style='margin-left: 5px; font-weight: bold; color: #373B7B;'>compute_mean</span> <span style='margin-left: 5px; color: #B4B0BF;'>#1234...</span>"
      }
     },
     "6b4a0f2144984b0bb08748fa09c4aec5": {
      "model_module": "@jupyter-widgets/controls",
      "model_module_version": "2.0.0",
      "model_name": "VBoxModel",
      "state": {
       "children": [
        "IPY_MODEL_9bd466d7ad424c03b87e641e24e17749",
        "IPY_MODEL_589cd211ffab430f886a0b97a70c70b1"
       ],
       "layout": "IPY_MODEL_41dbc7bcfdcc4b4eb5423f1cb654cad8"
      }
     },
     "6b673ca7a81045e18c5aa1c641f236a8": {
      "model_module": "@jupyter-widgets/controls",
      "model_module_version": "2.0.0",
      "model_name": "HTMLStyleModel",
      "state": {
       "description_width": "",
       "font_size": null,
       "text_color": null
      }
     },
     "6b6a0e223e5f4af7b666dd9557431fa5": {
      "model_module": "@jupyter-widgets/base",
      "model_module_version": "2.0.0",
      "model_name": "LayoutModel",
      "state": {}
     },
     "6c08919393de4e988fe365b8807931d3": {
      "model_module": "@jupyter-widgets/base",
      "model_module_version": "2.0.0",
      "model_name": "LayoutModel",
      "state": {
       "align_items": "center",
       "display": "flex"
      }
     },
     "6c115be7461548fcb523aec5f3929b5b": {
      "model_module": "@jupyter-widgets/base",
      "model_module_version": "2.0.0",
      "model_name": "LayoutModel",
      "state": {
       "overflow": "auto",
       "width": "50%"
      }
     },
     "6c376e1236eb489e972ee87f32f14a97": {
      "model_module": "@jupyter-widgets/controls",
      "model_module_version": "2.0.0",
      "model_name": "HTMLStyleModel",
      "state": {
       "description_width": "",
       "font_size": null,
       "text_color": null
      }
     },
     "6cc9d030cf1e4e3ead21a2005f5d466b": {
      "model_module": "@jupyter-widgets/controls",
      "model_module_version": "2.0.0",
      "model_name": "HTMLModel",
      "state": {
       "layout": "IPY_MODEL_e749e122bca84b44ac77399190da1116",
       "style": "IPY_MODEL_c2350470d04349aeb2bcefaa7e8cb25e",
       "value": "<div style='font-family: monospace; width: 100%;'><b>Low side</b><br><div style='border-left: 1px solid #000; padding-left: 10px;'><div style='background-color: #FEE9CD;; color: #B8520A;; display: block; white-space: pre-wrap; margin-bottom: 5px;'>status: pending</div><div style='background-color: #FEE9CD;; color: #B8520A;; display: block; white-space: pre-wrap; margin-bottom: 5px;'>approved_by: None</div><div style='background-color: transparent; color: #353243; display: block; white-space: pre-wrap; margin-bottom: 5px;'>date_created: 2024-04-27</div></div></div>"
      }
     },
     "6cce1da73b7346478f25eb9719fec2a6": {
      "model_module": "@jupyter-widgets/controls",
      "model_module_version": "2.0.0",
      "model_name": "VBoxModel",
      "state": {
       "children": [
        "IPY_MODEL_07c983e39b664bff8d5101b2e42d2f28",
        "IPY_MODEL_820beb65803b41d48ac474082c7ecf50"
       ],
       "layout": "IPY_MODEL_153ed71654a044eab7cd3371b09056b7"
      }
     },
     "6d6518d12798425589ed41258b43ebc3": {
      "model_module": "@jupyter-widgets/controls",
      "model_module_version": "2.0.0",
      "model_name": "VBoxModel",
      "state": {
       "children": [
        "IPY_MODEL_0d7f211d0fba4a7c9f52b001ff307086",
        "IPY_MODEL_2e96a3aa880a41499dbdcbaceafd8b7f"
       ],
       "layout": "IPY_MODEL_c9c4b5b9e291492f82053b8eca19a86a"
      }
     },
     "6d93c4e9cec140818e7fa58287651771": {
      "model_module": "@jupyter-widgets/base",
      "model_module_version": "2.0.0",
      "model_name": "LayoutModel",
      "state": {}
     },
     "6d9a2222f3e94b81b1776e0f27cdd4eb": {
      "model_module": "@jupyter-widgets/controls",
      "model_module_version": "2.0.0",
      "model_name": "HBoxModel",
      "state": {
       "children": [
        "IPY_MODEL_a9d6bf74395f49fda6785b0d6037ca4d"
       ],
       "layout": "IPY_MODEL_62bae62796e941518831c1dae79b4bac"
      }
     },
     "6dc226c02eff44868610f38db18829c3": {
      "model_module": "@jupyter-widgets/base",
      "model_module_version": "2.0.0",
      "model_name": "LayoutModel",
      "state": {
       "align_items": "center",
       "display": "flex"
      }
     },
     "6e01cabc61e242eda2a6e925b629b16f": {
      "model_module": "@jupyter-widgets/controls",
      "model_module_version": "2.0.0",
      "model_name": "HBoxModel",
      "state": {
       "children": [
        "IPY_MODEL_38e106aebbee431987e055bf7691421f",
        "IPY_MODEL_955c8153f9d5478da916c43de499d943",
        "IPY_MODEL_bc1e51bf96934a0a84bce34a5b047676"
       ],
       "layout": "IPY_MODEL_f87190d57e664d5abd1dfeb4068543f9"
      }
     },
     "6e166d5a608749a3b148f1c7abcb0317": {
      "model_module": "@jupyter-widgets/base",
      "model_module_version": "2.0.0",
      "model_name": "LayoutModel",
      "state": {
       "height": "25px",
       "margin": "0",
       "padding": "0",
       "width": "25px"
      }
     },
     "6e1ff3542f82402facc9d9e55f14bf42": {
      "model_module": "@jupyter-widgets/controls",
      "model_module_version": "2.0.0",
      "model_name": "HBoxModel",
      "state": {
       "layout": "IPY_MODEL_f56b7b3ea7f94eff9d5274dcb276fdec"
      }
     },
     "6e24c904bef64426a818f2e718d6f964": {
      "model_module": "@jupyter-widgets/base",
      "model_module_version": "2.0.0",
      "model_name": "LayoutModel",
      "state": {
       "overflow": "auto",
       "width": "50%"
      }
     },
     "6e266fee56ce4cdabaf3691aca86f2ec": {
      "model_module": "@jupyter-widgets/base",
      "model_module_version": "2.0.0",
      "model_name": "LayoutModel",
      "state": {}
     },
     "6e434903fe28447998687bf041848946": {
      "model_module": "@jupyter-widgets/base",
      "model_module_version": "2.0.0",
      "model_name": "LayoutModel",
      "state": {
       "display": "none"
      }
     },
     "6e4bad2f1c5f4497a25d730e8d76ed27": {
      "model_module": "@jupyter-widgets/controls",
      "model_module_version": "2.0.0",
      "model_name": "HTMLStyleModel",
      "state": {
       "description_width": "",
       "font_size": null,
       "text_color": null
      }
     },
     "6e8aaa6e88c64154b6ed20362cd38d64": {
      "model_module": "@jupyter-widgets/base",
      "model_module_version": "2.0.0",
      "model_name": "LayoutModel",
      "state": {}
     },
     "6ea0c38f618449a394a449d5d1626ff1": {
      "model_module": "@jupyter-widgets/controls",
      "model_module_version": "2.0.0",
      "model_name": "VBoxModel",
      "state": {
       "layout": "IPY_MODEL_1f7ae7c39f9f498bbde86a408e83cb88"
      }
     },
     "6ea4e2dc838d4f118dfd857ea6a267df": {
      "model_module": "@jupyter-widgets/base",
      "model_module_version": "2.0.0",
      "model_name": "LayoutModel",
      "state": {
       "overflow": "auto",
       "width": "50%"
      }
     },
     "6f0de98a2dc348e9b77b2e2b1e500faa": {
      "model_module": "@jupyter-widgets/controls",
      "model_module_version": "2.0.0",
      "model_name": "HBoxModel",
      "state": {
       "children": [
        "IPY_MODEL_6a4b6b1d156d466ba3a973f12878e440"
       ],
       "layout": "IPY_MODEL_106063a8a4e24785898df9cb5f05a9d7"
      }
     },
     "6f63477db9d748fbbdfcf1bf142f4847": {
      "model_module": "@jupyter-widgets/controls",
      "model_module_version": "2.0.0",
      "model_name": "ButtonModel",
      "state": {
       "icon": "clone",
       "layout": "IPY_MODEL_e651122be6a240df9f02a2dbe816a347",
       "style": "IPY_MODEL_d00a3800714f41c1a908ff476c895949",
       "tooltip": null
      }
     },
     "6f77f8f2f00549a5b1eb70f3b8daba8d": {
      "model_module": "@jupyter-widgets/controls",
      "model_module_version": "2.0.0",
      "model_name": "CheckboxModel",
      "state": {
       "description": "Sync",
       "disabled": false,
       "layout": "IPY_MODEL_b98f26293fdf44cf9ff9d7f52b6ec8bd",
       "style": "IPY_MODEL_970111ac014245c4811d15e43b9649c6",
       "value": false
      }
     },
     "6f7d5f4f25b1421c97f6267117b49080": {
      "model_module": "@jupyter-widgets/base",
      "model_module_version": "2.0.0",
      "model_name": "LayoutModel",
      "state": {
       "overflow": "auto",
       "width": "50%"
      }
     },
     "6ffef5deca6e44c1b1c95aa1a2a17ee8": {
      "model_module": "@jupyter-widgets/base",
      "model_module_version": "2.0.0",
      "model_name": "LayoutModel",
      "state": {
       "overflow": "auto",
       "width": "50%"
      }
     },
     "70435a63e48d403e85d377b05b5be6b4": {
      "model_module": "@jupyter-widgets/controls",
      "model_module_version": "2.0.0",
      "model_name": "HTMLModel",
      "state": {
       "layout": "IPY_MODEL_ab43a692f68e4a359373ba65e9efee75",
       "style": "IPY_MODEL_31e95ef06d5548da9185697236c3f066",
       "value": "<div style='font-family: monospace; width: 100%;'><b>High side</b><br><div style='border-left: 1px solid #000; padding-left: 10px;'><div style='background-color: #FEE9CD;; color: #B8520A;; display: block; white-space: pre-wrap; margin-bottom: 5px;'>status: approved</div><div style='background-color: #FEE9CD;; color: #B8520A;; display: block; white-space: pre-wrap; margin-bottom: 5px;'>approved_by: admin</div><div style='background-color: transparent; color: #353243; display: block; white-space: pre-wrap; margin-bottom: 5px;'>date_created: 2024-04-27</div><div style='background-color: #D5F1D5;; color: #256B24;; display: block; white-space: pre-wrap; margin-bottom: 5px;'>code: @syft.function\ndef compute_mean(data: np.ndarray):\n    print(\"computing mean...\")\n    return data.mean()\n</div></div></div>"
      }
     },
     "70663b361e3744a6b32c645c514e0a58": {
      "model_module": "@jupyter-widgets/controls",
      "model_module_version": "2.0.0",
      "model_name": "ButtonStyleModel",
      "state": {
       "font_family": null,
       "font_size": null,
       "font_style": null,
       "font_variant": null,
       "font_weight": null,
       "text_color": null,
       "text_decoration": null
      }
     },
     "70cf8b8b55944ae28e69bd958b0408f5": {
      "model_module": "@jupyter-widgets/base",
      "model_module_version": "2.0.0",
      "model_name": "LayoutModel",
      "state": {}
     },
     "70d7b5a967a7419eb2318aa0ce0c5c43": {
      "model_module": "@jupyter-widgets/controls",
      "model_module_version": "2.0.0",
      "model_name": "HTMLModel",
      "state": {
       "layout": "IPY_MODEL_8f26acc9ebd84c1b837174e09bd9c03d",
       "style": "IPY_MODEL_4805d0e251c34d4b974ef7a5be313bd6",
       "value": "<span style='color: #B4B0BF;'>Syncing changes on</span>"
      }
     },
     "70ed828806a8447da58ba9d9d7421733": {
      "model_module": "@jupyter-widgets/controls",
      "model_module_version": "2.0.0",
      "model_name": "BoxModel",
      "state": {
       "children": [
        "IPY_MODEL_1a214aebb3894531adff001eeeda925f",
        "IPY_MODEL_201a0001a83b4f6287ba5c472f238004"
       ],
       "layout": "IPY_MODEL_6dc226c02eff44868610f38db18829c3"
      }
     },
     "70fa95952ae54a659a0e7a1de0f27a44": {
      "model_module": "@jupyter-widgets/base",
      "model_module_version": "2.0.0",
      "model_name": "LayoutModel",
      "state": {}
     },
     "7161aea981d04737840ae6722923fb48": {
      "model_module": "@jupyter-widgets/controls",
      "model_module_version": "2.0.0",
      "model_name": "CheckboxStyleModel",
      "state": {
       "description_width": ""
      }
     },
     "7174a901847d44b688c34219f460c72c": {
      "model_module": "@jupyter-widgets/controls",
      "model_module_version": "2.0.0",
      "model_name": "HTMLModel",
      "state": {
       "layout": "IPY_MODEL_27086cf39b384fd09c8c7e679d816dda",
       "style": "IPY_MODEL_e53bc2f367f5414385ad9c0435f89194",
       "value": "<div style='font-family: monospace; width: 100%;'><b>High side</b><br><div style='border-left: 1px solid #000; padding-left: 10px;'><div style='background-color: #FEE9CD;; color: #B8520A;; display: block; white-space: pre-wrap; margin-bottom: 5px;'>status: approved</div><div style='background-color: #FEE9CD;; color: #B8520A;; display: block; white-space: pre-wrap; margin-bottom: 5px;'>approved_by: admin</div><div style='background-color: transparent; color: #353243; display: block; white-space: pre-wrap; margin-bottom: 5px;'>date_created: 2024-04-27</div><div style='background-color: #D5F1D5;; color: #256B24;; display: block; white-space: pre-wrap; margin-bottom: 5px;'>code: @syft.function\ndef compute_mean(data: np.ndarray):\n    print(\"computing mean...\")\n    return data.mean()\n</div></div></div>"
      }
     },
     "71b182d9631d4b0e91f2a5518facbfc9": {
      "model_module": "@jupyter-widgets/controls",
      "model_module_version": "2.0.0",
      "model_name": "HBoxModel",
      "state": {
       "layout": "IPY_MODEL_79ee907760b74ad6b2bd77ed054e54ed"
      }
     },
     "71b782eec2144877aecdd66c25a99d72": {
      "model_module": "@jupyter-widgets/base",
      "model_module_version": "2.0.0",
      "model_name": "LayoutModel",
      "state": {}
     },
     "71def2575a154587ac146566d0968d7c": {
      "model_module": "@jupyter-widgets/controls",
      "model_module_version": "2.0.0",
      "model_name": "HBoxModel",
      "state": {
       "children": [
        "IPY_MODEL_20c48fa192ee4ae8b9520c42686b5a66",
        "IPY_MODEL_a52c68292d9349bc97539ef9bd47e94c",
        "IPY_MODEL_d260c69e79484a64ab13a3f99aca9614"
       ],
       "layout": "IPY_MODEL_752f29719c4840ec9c75b3e8e1eea890"
      }
     },
     "71e06d7853b84020990177c9c1ea8809": {
      "model_module": "@jupyter-widgets/controls",
      "model_module_version": "2.0.0",
      "model_name": "VBoxModel",
      "state": {
       "children": [
        "IPY_MODEL_832abf89e95b42c495438ea95ac15220"
       ],
       "layout": "IPY_MODEL_07609f261bf14f8aab12c99f0f3d5f23"
      }
     },
     "71ea06326d624777861486f1ec8312fa": {
      "model_module": "@jupyter-widgets/controls",
      "model_module_version": "2.0.0",
      "model_name": "HTMLModel",
      "state": {
       "layout": "IPY_MODEL_b9d5a4c348924dbe9cc841948e31596c",
       "style": "IPY_MODEL_73c708f96cd94a7da1cfbdf5755c168d",
       "value": "<div style='font-family: monospace; width: 100%;'><b>High side</b><br><div style='border-left: 1px solid #000; padding-left: 10px;'><div style='background-color: #FEE9CD;; color: #B8520A;; display: block; white-space: pre-wrap; margin-bottom: 5px;'>status: approved</div><div style='background-color: #FEE9CD;; color: #B8520A;; display: block; white-space: pre-wrap; margin-bottom: 5px;'>approved_by: admin</div><div style='background-color: transparent; color: #353243; display: block; white-space: pre-wrap; margin-bottom: 5px;'>date_created: 2024-04-27</div><div style='background-color: #D5F1D5;; color: #256B24;; display: block; white-space: pre-wrap; margin-bottom: 5px;'>code: @syft.function\ndef compute_mean(data: np.ndarray):\n    print(\"computing mean...\")\n    return data.mean()\n</div></div></div>"
      }
     },
     "71ff1fd1f5b34f59a253e95c54052945": {
      "model_module": "@jupyter-widgets/controls",
      "model_module_version": "2.0.0",
      "model_name": "HTMLStyleModel",
      "state": {
       "description_width": "",
       "font_size": null,
       "text_color": null
      }
     },
     "7206b5b4d0df4b31b01e73b4cb890f02": {
      "model_module": "@jupyter-widgets/controls",
      "model_module_version": "2.0.0",
      "model_name": "HTMLStyleModel",
      "state": {
       "description_width": "",
       "font_size": null,
       "text_color": null
      }
     },
     "7227ae46ac3b4dc787947878d1c29632": {
      "model_module": "@jupyter-widgets/base",
      "model_module_version": "2.0.0",
      "model_name": "LayoutModel",
      "state": {}
     },
     "726f63b1a73544bcb56e18c5cef318a1": {
      "model_module": "@jupyter-widgets/base",
      "model_module_version": "2.0.0",
      "model_name": "LayoutModel",
      "state": {}
     },
     "72746d0f595d423d930c4a7cbaee1389": {
      "model_module": "@jupyter-widgets/output",
      "model_module_version": "1.0.0",
      "model_name": "OutputModel",
      "state": {
       "layout": "IPY_MODEL_0beb6cdc1be84401b159c2174d19d2a8"
      }
     },
     "72751fa75b66490a8bce65a7e443eb01": {
      "model_module": "@jupyter-widgets/base",
      "model_module_version": "2.0.0",
      "model_name": "LayoutModel",
      "state": {}
     },
     "727f53199194406aa15c9364a081a64c": {
      "model_module": "@jupyter-widgets/base",
      "model_module_version": "2.0.0",
      "model_name": "LayoutModel",
      "state": {}
     },
     "72f5bace526943f2aa6ce0ee8fa6ad02": {
      "model_module": "@jupyter-widgets/controls",
      "model_module_version": "2.0.0",
      "model_name": "CheckboxModel",
      "state": {
       "description": "Sync",
       "disabled": false,
       "layout": "IPY_MODEL_63d95b363c9c40d69ffbb09d46255031",
       "style": "IPY_MODEL_d42199492e984ca0979d214addb82930",
       "value": true
      }
     },
     "73054539229d43b1b6461ce388d66faa": {
      "model_module": "@jupyter-widgets/controls",
      "model_module_version": "2.0.0",
      "model_name": "HTMLModel",
      "state": {
       "layout": "IPY_MODEL_3e96a6f8ff0a482096e7f43f8f52fcd7",
       "style": "IPY_MODEL_afe57791871444a3ae961d6e50bfdfff",
       "value": "<div style='font-family: monospace; width: 100%;'><b>High side</b><br><div style='border-left: 1px solid #000; padding-left: 10px;'><div style='background-color: background-color: #FEE9CD;; color: background-color: #B8520A;; display: block; white-space: pre-wrap; margin-bottom: 5px;'>status: approved</div><div style='background-color: background-color: #FEE9CD;; color: background-color: #B8520A;; display: block; white-space: pre-wrap; margin-bottom: 5px;'>approved_by: admin</div><div style='background-color: transparent; color: #353243; display: block; white-space: pre-wrap; margin-bottom: 5px;'>date_created: 2024-04-27</div></div></div>"
      }
     },
     "734b1086927c4ba28125dbd8bad879b6": {
      "model_module": "@jupyter-widgets/base",
      "model_module_version": "2.0.0",
      "model_name": "LayoutModel",
      "state": {
       "overflow": "auto",
       "width": "50%"
      }
     },
     "735668d65a1042b5b211fa4c726370b8": {
      "model_module": "@jupyter-widgets/controls",
      "model_module_version": "2.0.0",
      "model_name": "BoxModel",
      "state": {
       "children": [
        "IPY_MODEL_3800a9841cc34008832bfc18ebd335c3",
        "IPY_MODEL_abffadb5afaa47a1a3b1046ed5d96dfb"
       ],
       "layout": "IPY_MODEL_acf5acc8841148e2acd2f11e815b6586"
      }
     },
     "73766d0219464004881ae02a76712352": {
      "model_module": "@jupyter-widgets/base",
      "model_module_version": "2.0.0",
      "model_name": "LayoutModel",
      "state": {
       "align_items": "center",
       "display": "flex"
      }
     },
     "738a7c767d614dcba12a0b046eeee9d2": {
      "model_module": "@jupyter-widgets/controls",
      "model_module_version": "2.0.0",
      "model_name": "HBoxModel",
      "state": {
       "children": [
        "IPY_MODEL_5c7c8f28bd8449f6a94978bd4815911e",
        "IPY_MODEL_8c6b98e5ca6348998aeca019a91850d5",
        "IPY_MODEL_fa2783e6e58045dfa486a8166c537f6a"
       ],
       "layout": "IPY_MODEL_e4762d5445204a5daefd25ecd9e73642"
      }
     },
     "73c59c0727a64342903f30ac0919bf51": {
      "model_module": "@jupyter-widgets/base",
      "model_module_version": "2.0.0",
      "model_name": "LayoutModel",
      "state": {
       "overflow": "auto",
       "width": "50%"
      }
     },
     "73c708f96cd94a7da1cfbdf5755c168d": {
      "model_module": "@jupyter-widgets/controls",
      "model_module_version": "2.0.0",
      "model_name": "HTMLStyleModel",
      "state": {
       "description_width": "",
       "font_size": null,
       "text_color": null
      }
     },
     "73d35a936e2d44efa048a3d125b57307": {
      "model_module": "@jupyter-widgets/controls",
      "model_module_version": "2.0.0",
      "model_name": "HTMLStyleModel",
      "state": {
       "description_width": "",
       "font_size": null,
       "text_color": null
      }
     },
     "73dafb32120249aab76d81e621fffb1c": {
      "model_module": "@jupyter-widgets/base",
      "model_module_version": "2.0.0",
      "model_name": "LayoutModel",
      "state": {}
     },
     "741412f641ee46cbb0f1745a46e41509": {
      "model_module": "@jupyter-widgets/output",
      "model_module_version": "1.0.0",
      "model_name": "OutputModel",
      "state": {
       "layout": "IPY_MODEL_7ea8141c0e72487883479326a8f2e02d"
      }
     },
     "74274405ffd141928885b4166884e0bd": {
      "model_module": "@jupyter-widgets/controls",
      "model_module_version": "2.0.0",
      "model_name": "HBoxModel",
      "state": {
       "children": [
        "IPY_MODEL_a555d4a2b8ba4b97972de6e20385f4de",
        "IPY_MODEL_e54e74125d64444b855f13ac3ac1d381"
       ],
       "layout": "IPY_MODEL_b3dba39e7d724a76b0ce27ee82b97ee2"
      }
     },
     "742d7318d1b649cbbede7b98ae1f1fd3": {
      "model_module": "@jupyter-widgets/controls",
      "model_module_version": "2.0.0",
      "model_name": "HTMLModel",
      "state": {
       "layout": "IPY_MODEL_6e24c904bef64426a818f2e718d6f964",
       "style": "IPY_MODEL_5f62fcc495d540318c1e0842644588e8",
       "value": "<div style='font-family: monospace; width: 100%;'><b>Low side</b><br><div style='border-left: 1px solid #000; padding-left: 10px;'><div style='background-color: #FEE9CD;; color: #B8520A;; display: block; white-space: pre-wrap; margin-bottom: 5px;'>status: pending</div><div style='background-color: #FEE9CD;; color: #B8520A;; display: block; white-space: pre-wrap; margin-bottom: 5px;'>approved_by: None</div><div style='background-color: transparent; color: #353243; display: block; white-space: pre-wrap; margin-bottom: 5px;'>date_created: 2024-04-27</div><div style='background-color: #D5F1D5;; color: #256B24;; display: block; white-space: pre-wrap; margin-bottom: 5px;'>code: None</div></div></div>"
      }
     },
     "7435ff402f0b4a49a602aaadd28e204a": {
      "model_module": "@jupyter-widgets/controls",
      "model_module_version": "2.0.0",
      "model_name": "HBoxModel",
      "state": {
       "children": [
        "IPY_MODEL_96332bb653b249be881f7f8bbd36d705",
        "IPY_MODEL_431dac8261024ebeba7a67274aeb0e3d"
       ],
       "layout": "IPY_MODEL_9348c0e04b9642e88e42922a4e769a8d"
      }
     },
     "746b1f3b372f4a39a103ddbfdbe963fb": {
      "model_module": "@jupyter-widgets/base",
      "model_module_version": "2.0.0",
      "model_name": "LayoutModel",
      "state": {
       "overflow": "auto",
       "width": "50%"
      }
     },
     "747785571c21498a87273c75d5c7b5cc": {
      "model_module": "@jupyter-widgets/base",
      "model_module_version": "2.0.0",
      "model_name": "LayoutModel",
      "state": {}
     },
     "747de2d6b0b14277b681b877de39845b": {
      "model_module": "@jupyter-widgets/controls",
      "model_module_version": "2.0.0",
      "model_name": "HTMLStyleModel",
      "state": {
       "description_width": "",
       "font_size": null,
       "text_color": null
      }
     },
     "748d1ca629eb403e954e51e2b0fdc644": {
      "model_module": "@jupyter-widgets/base",
      "model_module_version": "2.0.0",
      "model_name": "LayoutModel",
      "state": {
       "overflow": "auto",
       "width": "50%"
      }
     },
     "74dd685cc8a440bba955074b06333787": {
      "model_module": "@jupyter-widgets/base",
      "model_module_version": "2.0.0",
      "model_name": "LayoutModel",
      "state": {
       "margin": "0 5px 0 0"
      }
     },
     "752f29719c4840ec9c75b3e8e1eea890": {
      "model_module": "@jupyter-widgets/base",
      "model_module_version": "2.0.0",
      "model_name": "LayoutModel",
      "state": {
       "align_items": "center"
      }
     },
     "758263a05fbc49fa9435d1bc6293486b": {
      "model_module": "@jupyter-widgets/controls",
      "model_module_version": "2.0.0",
      "model_name": "HTMLModel",
      "state": {
       "layout": "IPY_MODEL_612b05e6850749ed91cc418502e0ac3e",
       "style": "IPY_MODEL_fea83256455e405ba5698de7442988e0",
       "value": "<div style='font-family: monospace; width: 100%;'>To<br><div style='border-left: 1px solid #B4B0BF; padding-left: 10px;'><div style='background-color: #FEE9CD;; color: #B8520A;; display: block; white-space: pre-wrap; margin-bottom: 5px;'>status: approved</div><div style='background-color: #FEE9CD;; color: #B8520A;; display: block; white-space: pre-wrap; margin-bottom: 5px;'>approved_by: admin</div><div style='background-color: transparent; color: #353243; display: block; white-space: pre-wrap; margin-bottom: 5px;'>date_created: 2024-04-27</div></div></div>"
      }
     },
     "75a8c0e375bf425ab71aaa2d68c71606": {
      "model_module": "@jupyter-widgets/controls",
      "model_module_version": "2.0.0",
      "model_name": "HBoxModel",
      "state": {
       "children": [
        "IPY_MODEL_06ae3fd4ad7547c9894c638c910d37cd",
        "IPY_MODEL_a2be022554944d2d8b94b7dbf5b2e6be"
       ],
       "layout": "IPY_MODEL_8e7bf817cb6d4eeb9aacaf5dc0a2a06d"
      }
     },
     "75b4072bd2a841739216dc2a8b07334e": {
      "model_module": "@jupyter-widgets/base",
      "model_module_version": "2.0.0",
      "model_name": "LayoutModel",
      "state": {
       "overflow": "auto",
       "width": "50%"
      }
     },
     "75c846819faa403687e5ba7a7dae8efc": {
      "model_module": "@jupyter-widgets/base",
      "model_module_version": "2.0.0",
      "model_name": "LayoutModel",
      "state": {
       "width": "100%"
      }
     },
     "763297adc9434f93817221a5f0247dba": {
      "model_module": "@jupyter-widgets/controls",
      "model_module_version": "2.0.0",
      "model_name": "VBoxModel",
      "state": {
       "children": [
        "IPY_MODEL_95798c9c2329475684f6162df5b9e437",
        "IPY_MODEL_c68aff8655ed43b1bbb5617773100b49",
        "IPY_MODEL_aadcfe2809d049f19b490a64fee5e6f2"
       ],
       "layout": "IPY_MODEL_0e9a5245594e4f288672e0d1d3eac96b"
      }
     },
     "765177aa3c3041a0a0509cad7c933587": {
      "model_module": "@jupyter-widgets/controls",
      "model_module_version": "2.0.0",
      "model_name": "HTMLStyleModel",
      "state": {
       "description_width": "",
       "font_size": null,
       "text_color": null
      }
     },
     "7686ec5005774dd3975c0e92d5254e07": {
      "model_module": "@jupyter-widgets/controls",
      "model_module_version": "2.0.0",
      "model_name": "HTMLStyleModel",
      "state": {
       "description_width": "",
       "font_size": null,
       "text_color": null
      }
     },
     "76e784e7dde04b179031ea33ba13a4bb": {
      "model_module": "@jupyter-widgets/controls",
      "model_module_version": "2.0.0",
      "model_name": "HTMLModel",
      "state": {
       "layout": "IPY_MODEL_6a65ecc71b8540deaeb190c2719d886c",
       "style": "IPY_MODEL_26b5fd535ece461099a9d18b73597728",
       "value": "<span style='background-color: #C2DEF0; border-radius: 4px; padding: 4px 6px; color: #373B7B;'>Job</span>"
      }
     },
     "7722659ac69841bbbd8d2d54bef324d2": {
      "model_module": "@jupyter-widgets/controls",
      "model_module_version": "2.0.0",
      "model_name": "HTMLStyleModel",
      "state": {
       "description_width": "",
       "font_size": null,
       "text_color": null
      }
     },
     "773c107852444d77a225421991bc601f": {
      "model_module": "@jupyter-widgets/controls",
      "model_module_version": "2.0.0",
      "model_name": "ButtonStyleModel",
      "state": {
       "font_family": null,
       "font_size": null,
       "font_style": null,
       "font_variant": null,
       "font_weight": null,
       "text_color": null,
       "text_decoration": null
      }
     },
     "774d5aaf8e1b44d8b68e8271ea473e5b": {
      "model_module": "@jupyter-widgets/controls",
      "model_module_version": "2.0.0",
      "model_name": "HTMLStyleModel",
      "state": {
       "description_width": "",
       "font_size": null,
       "text_color": null
      }
     },
     "7774c4987f144f8c89ce3049eab001ae": {
      "model_module": "@jupyter-widgets/controls",
      "model_module_version": "2.0.0",
      "model_name": "HBoxModel",
      "state": {
       "children": [
        "IPY_MODEL_8cdb9bb37c7a4f7c806b74661ff5d152",
        "IPY_MODEL_72f5bace526943f2aa6ce0ee8fa6ad02"
       ],
       "layout": "IPY_MODEL_4d1cc43b4e89464c83907c2658b7a2be"
      }
     },
     "778240cda8e34864986285722c45b8d9": {
      "model_module": "@jupyter-widgets/controls",
      "model_module_version": "2.0.0",
      "model_name": "VBoxModel",
      "state": {
       "children": [
        "IPY_MODEL_2a2e0109a4ca4c9a813e260a99ae84a9",
        "IPY_MODEL_7b3fb94ce1414b28a46dae56582a5bc6",
        "IPY_MODEL_f1ab97551ce24aefa2a219310d03d4f5",
        "IPY_MODEL_8da02d1a203b4d1495733777f289ee92"
       ],
       "layout": "IPY_MODEL_012cca01fc694ed5893ac4e91261091a"
      }
     },
     "7783a9f34839401aa1f5d61192781988": {
      "model_module": "@jupyter-widgets/base",
      "model_module_version": "2.0.0",
      "model_name": "LayoutModel",
      "state": {}
     },
     "77a0da1e4c574fdb8ef302b760e5f170": {
      "model_module": "@jupyter-widgets/controls",
      "model_module_version": "2.0.0",
      "model_name": "HBoxModel",
      "state": {
       "children": [
        "IPY_MODEL_54d86b46b62049ccb3132a1a0e4c915c",
        "IPY_MODEL_1ab31b592edb48b4ab737003c344df89",
        "IPY_MODEL_7b48f435fb854d2882eaba46c4654e14"
       ],
       "layout": "IPY_MODEL_9b5d5106dc214b38a0eab7ac84edaa40"
      }
     },
     "77a45fa921c74cd094043da34013a823": {
      "model_module": "@jupyter-widgets/controls",
      "model_module_version": "2.0.0",
      "model_name": "VBoxModel",
      "state": {
       "children": [
        "IPY_MODEL_8c6e05aa1082419f84f6173473080ae6",
        "IPY_MODEL_7c31c4f5748b4e048a2c6351f02d55ed"
       ],
       "layout": "IPY_MODEL_a81a3453e84046f6913a5403a909c849"
      }
     },
     "77be83949c5147d89470387861eef2ee": {
      "model_module": "@jupyter-widgets/controls",
      "model_module_version": "2.0.0",
      "model_name": "HTMLStyleModel",
      "state": {
       "description_width": "",
       "font_size": null,
       "text_color": null
      }
     },
     "77fabfaaa76347b2aff0b58d8c73191e": {
      "model_module": "@jupyter-widgets/base",
      "model_module_version": "2.0.0",
      "model_name": "LayoutModel",
      "state": {}
     },
     "781affb43f65481b89142714f99b5f68": {
      "model_module": "@jupyter-widgets/controls",
      "model_module_version": "2.0.0",
      "model_name": "HBoxModel",
      "state": {
       "layout": "IPY_MODEL_89b2263fff92448292e1f72b2e943ce5"
      }
     },
     "783c242399d8483db0902e149000af17": {
      "model_module": "@jupyter-widgets/controls",
      "model_module_version": "2.0.0",
      "model_name": "CheckboxModel",
      "state": {
       "description": "Sync",
       "disabled": false,
       "layout": "IPY_MODEL_88a6bf61fc604223a0ba078f960165e1",
       "style": "IPY_MODEL_13375f986f2e4ffcbbf4080753c54b3c",
       "value": false
      }
     },
     "783e94f4fe0f4b0eaa436b6610ef6a14": {
      "model_module": "@jupyter-widgets/controls",
      "model_module_version": "2.0.0",
      "model_name": "HTMLModel",
      "state": {
       "layout": "IPY_MODEL_5c70fc0e83b244d899b5613cdb9d8896",
       "style": "IPY_MODEL_442afc51c9744684be28cb22011ff676",
       "value": "<div style='font-family: monospace; width: 100%;'><b>High side</b><br><div style='border-left: 1px solid #000; padding-left: 10px;'><div style='background-color: #FEE9CD;; color: #B8520A;; display: block; white-space: pre-wrap; margin-bottom: 5px;'>status: approved</div><div style='background-color: #FEE9CD;; color: #B8520A;; display: block; white-space: pre-wrap; margin-bottom: 5px;'>approved_by: admin</div><div style='background-color: transparent; color: #353243; display: block; white-space: pre-wrap; margin-bottom: 5px;'>date_created: 2024-04-27</div><div style='background-color: #D5F1D5;; color: #256B24;; display: block; white-space: pre-wrap; margin-bottom: 5px;'>code: @syft.function\ndef compute_mean(data: np.ndarray):\n    print(\"computing mean...\")\n    return data.mean()\n</div></div></div>"
      }
     },
     "7842e84c902346a59c9f97f26ff676a0": {
      "model_module": "@jupyter-widgets/controls",
      "model_module_version": "2.0.0",
      "model_name": "HTMLModel",
      "state": {
       "layout": "IPY_MODEL_9e10a893497a485f8ac5470f0ec5c6bd",
       "style": "IPY_MODEL_f15e0bfa21444e62bfb1c622e261ae2a",
       "value": "<div style='height: 16px;'></div>"
      }
     },
     "786d93e783d7401eb590af6c8ab15794": {
      "model_module": "@jupyter-widgets/base",
      "model_module_version": "2.0.0",
      "model_name": "LayoutModel",
      "state": {}
     },
     "78e0fa64d2ad4df9ada4d686b5ad8dba": {
      "model_module": "@jupyter-widgets/base",
      "model_module_version": "2.0.0",
      "model_name": "LayoutModel",
      "state": {}
     },
     "78ea62c396e0417b886da11d570635cd": {
      "model_module": "@jupyter-widgets/base",
      "model_module_version": "2.0.0",
      "model_name": "LayoutModel",
      "state": {
       "overflow": "auto",
       "width": "50%"
      }
     },
     "790a1b0bed8f4c44a0799f2ba788caa3": {
      "model_module": "@jupyter-widgets/base",
      "model_module_version": "2.0.0",
      "model_name": "LayoutModel",
      "state": {
       "overflow": "auto",
       "width": "50%"
      }
     },
     "79241f8e2aa948acba846a86c5270ad6": {
      "model_module": "@jupyter-widgets/base",
      "model_module_version": "2.0.0",
      "model_name": "LayoutModel",
      "state": {}
     },
     "79459671730147299871f36a10ef024f": {
      "model_module": "@jupyter-widgets/base",
      "model_module_version": "2.0.0",
      "model_name": "LayoutModel",
      "state": {
       "overflow": "auto",
       "width": "50%"
      }
     },
     "798a154269774ff1a9b1c6be39bac965": {
      "model_module": "@jupyter-widgets/controls",
      "model_module_version": "2.0.0",
      "model_name": "AccordionModel",
      "state": {
       "children": [
        "IPY_MODEL_a73446b48b4246e880ae649b7d2b4019"
       ],
       "layout": "IPY_MODEL_e502d64e08c446b1b6b0f2db2e64f1c5",
       "selected_index": 0,
       "titles": [
        "Request (2 changes)"
       ]
      }
     },
     "79c82a436d1540c881c53904d19f846c": {
      "model_module": "@jupyter-widgets/controls",
      "model_module_version": "2.0.0",
      "model_name": "HTMLStyleModel",
      "state": {
       "description_width": "",
       "font_size": null,
       "text_color": null
      }
     },
     "79ee907760b74ad6b2bd77ed054e54ed": {
      "model_module": "@jupyter-widgets/base",
      "model_module_version": "2.0.0",
      "model_name": "LayoutModel",
      "state": {}
     },
     "7a327acd8b2e48b89c39705889a3e95b": {
      "model_module": "@jupyter-widgets/base",
      "model_module_version": "2.0.0",
      "model_name": "LayoutModel",
      "state": {}
     },
     "7a40a72383e040539968581c76e1739e": {
      "model_module": "@jupyter-widgets/controls",
      "model_module_version": "2.0.0",
      "model_name": "HTMLModel",
      "state": {
       "layout": "IPY_MODEL_7b1140d4412740eda8f15bfaf292287d",
       "style": "IPY_MODEL_876d6c56c7bf475fad9cd728b36386e4",
       "value": "<span style='background-color: #C2DEF0; border-radius: 4px; padding: 4px 6px; color: #373B7B;'>Job</span>"
      }
     },
     "7a5605915fa9493db0f7657b3d6a76f4": {
      "model_module": "@jupyter-widgets/controls",
      "model_module_version": "2.0.0",
      "model_name": "HTMLStyleModel",
      "state": {
       "description_width": "",
       "font_size": null,
       "text_color": null
      }
     },
     "7aa0f8bd1f18403ba8dae42ed60a6d6e": {
      "model_module": "@jupyter-widgets/controls",
      "model_module_version": "2.0.0",
      "model_name": "HBoxModel",
      "state": {
       "children": [
        "IPY_MODEL_c50f0c3da7d6475487b1557de4c35d1f",
        "IPY_MODEL_17e496e257f74f13aa5588fbdb546324"
       ],
       "layout": "IPY_MODEL_f07e42f11fb74b05a0b859f690858a0c"
      }
     },
     "7ab7a4ed6b9c4090994bf12d420a58a3": {
      "model_module": "@jupyter-widgets/base",
      "model_module_version": "2.0.0",
      "model_name": "LayoutModel",
      "state": {}
     },
     "7ab7c1c9ccaa4468901dbb99b065d8dc": {
      "model_module": "@jupyter-widgets/controls",
      "model_module_version": "2.0.0",
      "model_name": "HBoxModel",
      "state": {
       "children": [
        "IPY_MODEL_02440dbf61e74ab2ae955f61e7078e48",
        "IPY_MODEL_25fe0a4eed7a444c857731c7feed8e83"
       ],
       "layout": "IPY_MODEL_c94bfa07bb9d421abc0afe5eb68c634b"
      }
     },
     "7ad4dd8f2875443088aa4cc66f53ba9a": {
      "model_module": "@jupyter-widgets/output",
      "model_module_version": "1.0.0",
      "model_name": "OutputModel",
      "state": {
       "layout": "IPY_MODEL_a57f0635839946fe989eecd6fc665baf"
      }
     },
     "7ae179fe9824459aa32f69bd7b1ac8dc": {
      "model_module": "@jupyter-widgets/base",
      "model_module_version": "2.0.0",
      "model_name": "LayoutModel",
      "state": {}
     },
     "7af4dae9e17a46c89da096623a615f97": {
      "model_module": "@jupyter-widgets/controls",
      "model_module_version": "2.0.0",
      "model_name": "CheckboxStyleModel",
      "state": {
       "description_width": ""
      }
     },
     "7aff4b81562440ef9cccfbba496a7e14": {
      "model_module": "@jupyter-widgets/controls",
      "model_module_version": "2.0.0",
      "model_name": "VBoxModel",
      "state": {
       "children": [
        "IPY_MODEL_d842126757eb42c799292b57d419fa1b",
        "IPY_MODEL_d5faf27251df4571be277c78107fd345",
        "IPY_MODEL_38925569306d4f91aaf70d4b6f7c32ae",
        "IPY_MODEL_0364f90ee8154347bb77e2064a9d2716"
       ],
       "layout": "IPY_MODEL_f2216ec5a7fe4cc6ad676d11fbf379a8"
      }
     },
     "7b05be7f0eb94aa493d49a95f543bd15": {
      "model_module": "@jupyter-widgets/base",
      "model_module_version": "2.0.0",
      "model_name": "LayoutModel",
      "state": {
       "overflow": "auto",
       "width": "50%"
      }
     },
     "7b1140d4412740eda8f15bfaf292287d": {
      "model_module": "@jupyter-widgets/base",
      "model_module_version": "2.0.0",
      "model_name": "LayoutModel",
      "state": {
       "margin": "0 5px 0 0"
      }
     },
     "7b3fb94ce1414b28a46dae56582a5bc6": {
      "model_module": "@jupyter-widgets/controls",
      "model_module_version": "2.0.0",
      "model_name": "AccordionModel",
      "state": {
       "children": [
        "IPY_MODEL_6cce1da73b7346478f25eb9719fec2a6"
       ],
       "layout": "IPY_MODEL_7d021ea549504897a4dd1f7212e0b920",
       "titles": [
        "UserCode (4 changes)"
       ]
      }
     },
     "7b40d91c2afc4d959d935adca1c1a3ca": {
      "model_module": "@jupyter-widgets/controls",
      "model_module_version": "2.0.0",
      "model_name": "HTMLStyleModel",
      "state": {
       "description_width": "",
       "font_size": null,
       "text_color": null
      }
     },
     "7b48f435fb854d2882eaba46c4654e14": {
      "model_module": "@jupyter-widgets/controls",
      "model_module_version": "2.0.0",
      "model_name": "BoxModel",
      "state": {
       "children": [
        "IPY_MODEL_f0b4bcca85b24f1fa6cba9d449a04209",
        "IPY_MODEL_7ad4dd8f2875443088aa4cc66f53ba9a"
       ],
       "layout": "IPY_MODEL_2cf858a7a8964bc39795b3606039e89a"
      }
     },
     "7b4a82dddd574ee6a5fedcec6c72faab": {
      "model_module": "@jupyter-widgets/controls",
      "model_module_version": "2.0.0",
      "model_name": "HBoxModel",
      "state": {
       "children": [
        "IPY_MODEL_91727fcdf6c34db39d8283153d4044f6"
       ],
       "layout": "IPY_MODEL_43779d9f456e4dd7a4eef825df4c4ede"
      }
     },
     "7b5f622bedaa40b2a50f23d8150fa91d": {
      "model_module": "@jupyter-widgets/controls",
      "model_module_version": "2.0.0",
      "model_name": "HTMLModel",
      "state": {
       "layout": "IPY_MODEL_08d0981352fa455aac48d4e1bc32e04d",
       "style": "IPY_MODEL_c8b6b116a58449e7a64e0bae972c3c1a",
       "value": "<div style='font-family: monospace; width: 100%;'><b>Low side</b><br><div style='border-left: 1px solid #000; padding-left: 10px;'><div style='background-color: #FEE9CD;; color: #B8520A;; display: block; white-space: pre-wrap; margin-bottom: 5px;'>status: pending</div><div style='background-color: #FEE9CD;; color: #B8520A;; display: block; white-space: pre-wrap; margin-bottom: 5px;'>approved_by: None</div><div style='background-color: transparent; color: #353243; display: block; white-space: pre-wrap; margin-bottom: 5px;'>date_created: 2024-04-27</div></div></div>"
      }
     },
     "7bc2b2118f1747c9b54c7750e5f35b0b": {
      "model_module": "@jupyter-widgets/base",
      "model_module_version": "2.0.0",
      "model_name": "LayoutModel",
      "state": {
       "margin": "0 5px 0 0"
      }
     },
     "7bc7d7b2d4e647819a9690e00f71e594": {
      "model_module": "@jupyter-widgets/base",
      "model_module_version": "2.0.0",
      "model_name": "LayoutModel",
      "state": {
       "border_bottom": "solid 2px",
       "border_left": "solid 2px",
       "border_right": "solid 2px",
       "border_top": "solid 2px"
      }
     },
     "7c23d424d80e48a9a1ed75367864df55": {
      "model_module": "@jupyter-widgets/base",
      "model_module_version": "2.0.0",
      "model_name": "LayoutModel",
      "state": {
       "height": "25px",
       "margin": "0",
       "padding": "0",
       "width": "25px"
      }
     },
     "7c2f22aca56a45ceb030fdd41143a1b0": {
      "model_module": "@jupyter-widgets/controls",
      "model_module_version": "2.0.0",
      "model_name": "HTMLStyleModel",
      "state": {
       "description_width": "",
       "font_size": null,
       "text_color": null
      }
     },
     "7c31c4f5748b4e048a2c6351f02d55ed": {
      "model_module": "@jupyter-widgets/controls",
      "model_module_version": "2.0.0",
      "model_name": "HBoxModel",
      "state": {
       "children": [
        "IPY_MODEL_b777acd8e36b4c028c1ec9d83756e4a2",
        "IPY_MODEL_c7c6b2fce49541ef90c0c2edfe73288c"
       ],
       "layout": "IPY_MODEL_d35eec11c3574f27b1236bd847024f00"
      }
     },
     "7c321057c19d45cbbc15f03e36c00ca2": {
      "model_module": "@jupyter-widgets/base",
      "model_module_version": "2.0.0",
      "model_name": "LayoutModel",
      "state": {}
     },
     "7cfeccdee92a4f8d98b1effc39d6ddf1": {
      "model_module": "@jupyter-widgets/controls",
      "model_module_version": "2.0.0",
      "model_name": "HTMLModel",
      "state": {
       "layout": "IPY_MODEL_c8476856741b42e1bf04959e392f27e0",
       "style": "IPY_MODEL_813c5b730d824b5194ff49dad14ce708",
       "value": "<div style=\"text-align: center; margin: 10px 0; border: 1px dashed #B4B0BF;\"></div>"
      }
     },
     "7d021ea549504897a4dd1f7212e0b920": {
      "model_module": "@jupyter-widgets/base",
      "model_module_version": "2.0.0",
      "model_name": "LayoutModel",
      "state": {}
     },
     "7d17d05f1fa44eeaaa5bc2832fddb0a8": {
      "model_module": "@jupyter-widgets/base",
      "model_module_version": "2.0.0",
      "model_name": "LayoutModel",
      "state": {}
     },
     "7d3dce7c5ca445e3a69d7b1104df98a6": {
      "model_module": "@jupyter-widgets/controls",
      "model_module_version": "2.0.0",
      "model_name": "HTMLModel",
      "state": {
       "layout": "IPY_MODEL_963efe4076ad4efeb761df223a934a3e",
       "style": "IPY_MODEL_f7d450914c174a2ca4a7ec809231e971",
       "value": "<span style='color: #5E5A72;'>This would sync <span style='color: #B8520A'>2 changes </span> from <i>Low Node</i> to <i>High Node</i></span>"
      }
     },
     "7d5073f8a55c485db5eb9d8159acd499": {
      "model_module": "@jupyter-widgets/base",
      "model_module_version": "2.0.0",
      "model_name": "LayoutModel",
      "state": {}
     },
     "7d62025d900444818df2d2a39b482b16": {
      "model_module": "@jupyter-widgets/base",
      "model_module_version": "2.0.0",
      "model_name": "LayoutModel",
      "state": {}
     },
     "7d7b1cf7fdc9497ca9ea9d7c6b8f3b1b": {
      "model_module": "@jupyter-widgets/base",
      "model_module_version": "2.0.0",
      "model_name": "LayoutModel",
      "state": {}
     },
     "7d8b3bc9adaf4d0b9f2fe579946bfc63": {
      "model_module": "@jupyter-widgets/base",
      "model_module_version": "2.0.0",
      "model_name": "LayoutModel",
      "state": {}
     },
     "7df6135f813a49fd85a9ab79ae9b0fd6": {
      "model_module": "@jupyter-widgets/controls",
      "model_module_version": "2.0.0",
      "model_name": "CheckboxModel",
      "state": {
       "description": "Sync",
       "disabled": false,
       "layout": "IPY_MODEL_dbf7fb9a3c504aa889ed2aa2c509b402",
       "style": "IPY_MODEL_421da6b0f2494224b8918bffacc5ae74",
       "value": false
      }
     },
     "7e31aaca83644be5a43051a7aa771c72": {
      "model_module": "@jupyter-widgets/controls",
      "model_module_version": "2.0.0",
      "model_name": "VBoxModel",
      "state": {
       "children": [
        "IPY_MODEL_58439e1d940143e3a3b1bab1676d59ff",
        "IPY_MODEL_daa2af6b50194c30978d97dc6ec53837"
       ],
       "layout": "IPY_MODEL_3292f2c9597849e3b011415f14542e92"
      }
     },
     "7e3ea7b052114f5a93ad8e1743b99c8f": {
      "model_module": "@jupyter-widgets/controls",
      "model_module_version": "2.0.0",
      "model_name": "HTMLModel",
      "state": {
       "layout": "IPY_MODEL_00e44e1b06c844eb875eff9a2f26ddbc",
       "style": "IPY_MODEL_6327c628ee4b4bb8aa636293a37b2e65",
       "value": "<div style='font-family: monospace; width: 100%;'><b>Low side</b><br><div style='border-left: 1px solid #000; padding-left: 10px;'><div style='background-color: #FEE9CD;; color: #B8520A;; display: block; white-space: pre-wrap; margin-bottom: 5px;'>status: pending</div><div style='background-color: #FEE9CD;; color: #B8520A;; display: block; white-space: pre-wrap; margin-bottom: 5px;'>approved_by: None</div><div style='background-color: transparent; color: #353243; display: block; white-space: pre-wrap; margin-bottom: 5px;'>date_created: 2024-04-27</div></div></div>"
      }
     },
     "7e4f9f2204e043b6995f37708354c76f": {
      "model_module": "@jupyter-widgets/controls",
      "model_module_version": "2.0.0",
      "model_name": "VBoxModel",
      "state": {
       "children": [
        "IPY_MODEL_92c7d263ce094041bd93a035dda950ce",
        "IPY_MODEL_bbda2bd3b5b04f2bab0f99a98bd0af45",
        "IPY_MODEL_3a1acbdf4ed74a509fe86eb9a0b6a013"
       ],
       "layout": "IPY_MODEL_37a5ed1ac1ac459386c0049d2139a6be"
      }
     },
     "7e8af9a472b94a4e903991f95237e9fa": {
      "model_module": "@jupyter-widgets/base",
      "model_module_version": "2.0.0",
      "model_name": "LayoutModel",
      "state": {
       "overflow": "auto",
       "width": "50%"
      }
     },
     "7ea8141c0e72487883479326a8f2e02d": {
      "model_module": "@jupyter-widgets/base",
      "model_module_version": "2.0.0",
      "model_name": "LayoutModel",
      "state": {
       "display": "none"
      }
     },
     "7ec2de95fa5c4cab889700dc5a08a3a3": {
      "model_module": "@jupyter-widgets/base",
      "model_module_version": "2.0.0",
      "model_name": "LayoutModel",
      "state": {}
     },
     "7edab3a7eece4d7f885d6f2c09ac1da8": {
      "model_module": "@jupyter-widgets/controls",
      "model_module_version": "2.0.0",
      "model_name": "HTMLModel",
      "state": {
       "layout": "IPY_MODEL_b6a74cce17d74563b5a5a3b080d5af81",
       "style": "IPY_MODEL_1cc42599fb5b4a489ef2b308feb7a8b4",
       "value": "<div style='font-family: monospace; width: 100%;'><b>High side</b><br><div style='border-left: 1px solid #000; padding-left: 10px;'><div style='background-color: #FEE9CD;; color: #B8520A;; display: block; white-space: pre-wrap; margin-bottom: 5px;'>status: approved</div><div style='background-color: #FEE9CD;; color: #B8520A;; display: block; white-space: pre-wrap; margin-bottom: 5px;'>approved_by: admin</div><div style='background-color: transparent; color: #353243; display: block; white-space: pre-wrap; margin-bottom: 5px;'>date_created: 2024-04-27</div><div style='background-color: #D5F1D5;; color: #256B24;; display: block; white-space: pre-wrap; margin-bottom: 5px;'>code: @syft.function\ndef compute_mean(data: np.ndarray):\n    print(\"computing mean...\")\n    return data.mean()\n</div></div></div>"
      }
     },
     "7ef7e5da7899458683b1210634012c82": {
      "model_module": "@jupyter-widgets/controls",
      "model_module_version": "2.0.0",
      "model_name": "CheckboxModel",
      "state": {
       "description": "Sync",
       "disabled": true,
       "layout": "IPY_MODEL_a15d14952285471890c0b946772eb499",
       "style": "IPY_MODEL_ef7e221ae9f742f08c1b66ec93a14b8e",
       "value": true
      }
     },
     "7ef7f378a6474da8a6a3ac8635f9a5a7": {
      "model_module": "@jupyter-widgets/controls",
      "model_module_version": "2.0.0",
      "model_name": "HTMLStyleModel",
      "state": {
       "description_width": "",
       "font_size": null,
       "text_color": null
      }
     },
     "7f14e8431360420aa13cd1f68a359958": {
      "model_module": "@jupyter-widgets/controls",
      "model_module_version": "2.0.0",
      "model_name": "ButtonStyleModel",
      "state": {
       "font_family": null,
       "font_size": null,
       "font_style": null,
       "font_variant": null,
       "font_weight": null,
       "text_color": null,
       "text_decoration": null
      }
     },
     "7fa50809ae834af6ab387101a19ae49d": {
      "model_module": "@jupyter-widgets/controls",
      "model_module_version": "2.0.0",
      "model_name": "HTMLStyleModel",
      "state": {
       "description_width": "",
       "font_size": null,
       "text_color": null
      }
     },
     "7ff28f495d1342ab8c5b9c639b39578f": {
      "model_module": "@jupyter-widgets/controls",
      "model_module_version": "2.0.0",
      "model_name": "ButtonModel",
      "state": {
       "description": "Custom color",
       "layout": "IPY_MODEL_f40d4820bc704c6aa2ff49f146aa47cc",
       "style": "IPY_MODEL_0038b2f771164264949d36a82cf703eb",
       "tooltip": null
      }
     },
     "8001f63369fd4436a9ace92e8e0d0717": {
      "model_module": "@jupyter-widgets/base",
      "model_module_version": "2.0.0",
      "model_name": "LayoutModel",
      "state": {
       "display": "none"
      }
     },
     "8002a82a6138489e97da4d4da57a3208": {
      "model_module": "@jupyter-widgets/base",
      "model_module_version": "2.0.0",
      "model_name": "LayoutModel",
      "state": {}
     },
     "802b481cc090403f9ca944e69e153733": {
      "model_module": "@jupyter-widgets/base",
      "model_module_version": "2.0.0",
      "model_name": "LayoutModel",
      "state": {
       "display": "none"
      }
     },
     "806cfc14915f44c0a0941fbc61f1f467": {
      "model_module": "@jupyter-widgets/base",
      "model_module_version": "2.0.0",
      "model_name": "LayoutModel",
      "state": {
       "overflow": "auto",
       "width": "50%"
      }
     },
     "80c85b876ddc478cae3f517e315a6ab4": {
      "model_module": "@jupyter-widgets/controls",
      "model_module_version": "2.0.0",
      "model_name": "CheckboxModel",
      "state": {
       "description": "Sync",
       "disabled": false,
       "layout": "IPY_MODEL_08aa8eb5f3f648f48f10983ee55be382",
       "style": "IPY_MODEL_3e0c50f2b1ae4851bdbd4c4c3040c75d",
       "value": false
      }
     },
     "80e9614cca2746b7b12930bf12fabbaa": {
      "model_module": "@jupyter-widgets/controls",
      "model_module_version": "2.0.0",
      "model_name": "HTMLModel",
      "state": {
       "layout": "IPY_MODEL_45789b61e9a64b1582634643cd04a3d3",
       "style": "IPY_MODEL_b03dc20e22e7496e90be1460fb538995",
       "value": "<div style='font-family: monospace; width: 100%;'><b>Low side</b><br><div style='border-left: 1px solid #000; padding-left: 10px;'><div style='background-color: #FEE9CD;; color: #B8520A;; display: block; white-space: pre-wrap; margin-bottom: 5px;'>status: pending</div><div style='background-color: #FEE9CD;; color: #B8520A;; display: block; white-space: pre-wrap; margin-bottom: 5px;'>approved_by: None</div><div style='background-color: transparent; color: #353243; display: block; white-space: pre-wrap; margin-bottom: 5px;'>date_created: 2024-04-27</div></div></div>"
      }
     },
     "8116a80c9f384fcbb04f796d12efd759": {
      "model_module": "@jupyter-widgets/base",
      "model_module_version": "2.0.0",
      "model_name": "LayoutModel",
      "state": {
       "overflow": "auto",
       "width": "50%"
      }
     },
     "813c5b730d824b5194ff49dad14ce708": {
      "model_module": "@jupyter-widgets/controls",
      "model_module_version": "2.0.0",
      "model_name": "HTMLStyleModel",
      "state": {
       "description_width": "",
       "font_size": null,
       "text_color": null
      }
     },
     "81b86d127742475cbc0633874d9f9bdd": {
      "model_module": "@jupyter-widgets/controls",
      "model_module_version": "2.0.0",
      "model_name": "HTMLStyleModel",
      "state": {
       "description_width": "",
       "font_size": null,
       "text_color": null
      }
     },
     "81f1162360064fdeb575a57f529df574": {
      "model_module": "@jupyter-widgets/base",
      "model_module_version": "2.0.0",
      "model_name": "LayoutModel",
      "state": {}
     },
     "820beb65803b41d48ac474082c7ecf50": {
      "model_module": "@jupyter-widgets/controls",
      "model_module_version": "2.0.0",
      "model_name": "HBoxModel",
      "state": {
       "children": [
        "IPY_MODEL_4194e98325d447b290ea094f2e00a371",
        "IPY_MODEL_20a5f4b78093438cba38eaacfbd06d3f"
       ],
       "layout": "IPY_MODEL_48179ba0c54f42d3bba6e2022be2c322"
      }
     },
     "8247469cacf347318743422c7df1cd62": {
      "model_module": "@jupyter-widgets/controls",
      "model_module_version": "2.0.0",
      "model_name": "HTMLStyleModel",
      "state": {
       "description_width": "",
       "font_size": null,
       "text_color": null
      }
     },
     "82dbaa53e4e54b009a58e3304bf92395": {
      "model_module": "@jupyter-widgets/base",
      "model_module_version": "2.0.0",
      "model_name": "LayoutModel",
      "state": {}
     },
     "830792104c6e4f58984959cff3084fb1": {
      "model_module": "@jupyter-widgets/base",
      "model_module_version": "2.0.0",
      "model_name": "LayoutModel",
      "state": {}
     },
     "831a83c41ec84f608afa87f16ea7a1a8": {
      "model_module": "@jupyter-widgets/controls",
      "model_module_version": "2.0.0",
      "model_name": "HTMLStyleModel",
      "state": {
       "description_width": "",
       "font_size": null,
       "text_color": null
      }
     },
     "832abf89e95b42c495438ea95ac15220": {
      "model_module": "@jupyter-widgets/controls",
      "model_module_version": "2.0.0",
      "model_name": "ButtonModel",
      "state": {
       "description": "Custom color",
       "layout": "IPY_MODEL_60202b6ae0fd4b10b2402b5b31b76292",
       "style": "IPY_MODEL_970fcea5baf24f3ebeecb71d1756fb34",
       "tooltip": null
      }
     },
     "83f9ac4659624a119c83b484adf79092": {
      "model_module": "@jupyter-widgets/controls",
      "model_module_version": "2.0.0",
      "model_name": "ButtonModel",
      "state": {
       "icon": "clone",
       "layout": "IPY_MODEL_a9aca8028411416dabb538b05e7c60cb",
       "style": "IPY_MODEL_ef6e4630f14e43e699d4b8d830dbf0b1",
       "tooltip": null
      }
     },
     "840ff70458ed43708ec7106bf955cab3": {
      "model_module": "@jupyter-widgets/controls",
      "model_module_version": "2.0.0",
      "model_name": "HTMLStyleModel",
      "state": {
       "description_width": "",
       "font_size": null,
       "text_color": null
      }
     },
     "8411030e83a147e4b77a1b963beece49": {
      "model_module": "@jupyter-widgets/base",
      "model_module_version": "2.0.0",
      "model_name": "LayoutModel",
      "state": {
       "overflow": "auto",
       "width": "50%"
      }
     },
     "844d7410f62d454cb60285990a81b82f": {
      "model_module": "@jupyter-widgets/controls",
      "model_module_version": "2.0.0",
      "model_name": "HTMLModel",
      "state": {
       "layout": "IPY_MODEL_c9f0d562c0224191a418da55792bd5a3",
       "style": "IPY_MODEL_3805c33404ea4c4090ff25566d7debfe",
       "value": "<span style='background-color: #C2DEF0; border-radius: 4px; padding: 4px 6px; color: #373B7B;'>Code</span>"
      }
     },
     "84618ba994fe432b99a2c6c2b93894f8": {
      "model_module": "@jupyter-widgets/controls",
      "model_module_version": "2.0.0",
      "model_name": "HTMLModel",
      "state": {
       "layout": "IPY_MODEL_240fd7c37ad343ac9bc521d4e12edbe7",
       "style": "IPY_MODEL_eb855744c5c248498f0299c5654a96a0",
       "value": "<span style='background-color: #C2DEF0; border-radius: 4px; padding: 4px 6px; color: #373B7B;'>Code</span>"
      }
     },
     "847a7cc3bd794d14b2723703ea2b4f75": {
      "model_module": "@jupyter-widgets/controls",
      "model_module_version": "2.0.0",
      "model_name": "HBoxModel",
      "state": {
       "children": [
        "IPY_MODEL_8abeacaab5264c88ab943d3a2cefddc5",
        "IPY_MODEL_c1b4cae6138a45adb1818a91a8ca4ce7"
       ],
       "layout": "IPY_MODEL_38e132d8a6de4b30b6c03bc68648c29c"
      }
     },
     "848bbb36f74a4335a10c09480307641e": {
      "model_module": "@jupyter-widgets/controls",
      "model_module_version": "2.0.0",
      "model_name": "HBoxModel",
      "state": {
       "layout": "IPY_MODEL_92cbbbd3062c44a9954bfaf86be8693b"
      }
     },
     "84d0abfe4e514f6d879646fc6f779109": {
      "model_module": "@jupyter-widgets/base",
      "model_module_version": "2.0.0",
      "model_name": "LayoutModel",
      "state": {
       "border_bottom": "solid 1px",
       "border_left": "solid 1px",
       "border_right": "solid 1px",
       "border_top": "solid 1px",
       "margin": "50 50 50 50",
       "padding": "50px"
      }
     },
     "850722d1428d4405a533049fbb2194d6": {
      "model_module": "@jupyter-widgets/base",
      "model_module_version": "2.0.0",
      "model_name": "LayoutModel",
      "state": {
       "overflow": "auto",
       "width": "50%"
      }
     },
     "856807d6bb4648a992b8de1946eb0a74": {
      "model_module": "@jupyter-widgets/controls",
      "model_module_version": "2.0.0",
      "model_name": "BoxModel",
      "state": {
       "children": [
        "IPY_MODEL_95de22221c594c23a44a6de046a93191",
        "IPY_MODEL_95f937a9aa94467a960e664bf16c93ce"
       ],
       "layout": "IPY_MODEL_1d881ed73f7a4fa38a4036f9d9f0442b"
      }
     },
     "8585ce860f4d4538a05c2bb738d37f99": {
      "model_module": "@jupyter-widgets/base",
      "model_module_version": "2.0.0",
      "model_name": "LayoutModel",
      "state": {}
     },
     "8594faf2de464e4097962b92490072ef": {
      "model_module": "@jupyter-widgets/base",
      "model_module_version": "2.0.0",
      "model_name": "LayoutModel",
      "state": {}
     },
     "8636b1752ebd42bd9d41310c5994483a": {
      "model_module": "@jupyter-widgets/controls",
      "model_module_version": "2.0.0",
      "model_name": "ButtonStyleModel",
      "state": {
       "font_family": null,
       "font_size": null,
       "font_style": null,
       "font_variant": null,
       "font_weight": null,
       "text_color": null,
       "text_decoration": null
      }
     },
     "8660342079114b94979f87faf400305f": {
      "model_module": "@jupyter-widgets/base",
      "model_module_version": "2.0.0",
      "model_name": "LayoutModel",
      "state": {}
     },
     "876d6c56c7bf475fad9cd728b36386e4": {
      "model_module": "@jupyter-widgets/controls",
      "model_module_version": "2.0.0",
      "model_name": "HTMLStyleModel",
      "state": {
       "description_width": "",
       "font_size": null,
       "text_color": null
      }
     },
     "877a654d0fd748fc8818214929f06906": {
      "model_module": "@jupyter-widgets/controls",
      "model_module_version": "2.0.0",
      "model_name": "HTMLStyleModel",
      "state": {
       "description_width": "",
       "font_size": null,
       "text_color": null
      }
     },
     "879d712e4a484c49a0fca79746ee0ed3": {
      "model_module": "@jupyter-widgets/base",
      "model_module_version": "2.0.0",
      "model_name": "LayoutModel",
      "state": {}
     },
     "88a3cc5216534e21b68c0390d564aaf1": {
      "model_module": "@jupyter-widgets/controls",
      "model_module_version": "2.0.0",
      "model_name": "HTMLModel",
      "state": {
       "layout": "IPY_MODEL_df46af225cbd47bd9fa7a90f864b8bf3",
       "style": "IPY_MODEL_d1904428318f40abb870bf8a6ad161cf",
       "value": "<div style='font-family: monospace; width: 100%;'><b>Low side</b><br><div style='border-left: 1px solid #000; padding-left: 10px;'><div style='background-color: #FEE9CD;; color: #B8520A;; display: block; white-space: pre-wrap; margin-bottom: 5px;'>status: pending</div><div style='background-color: #FEE9CD;; color: #B8520A;; display: block; white-space: pre-wrap; margin-bottom: 5px;'>approved_by: None</div><div style='background-color: transparent; color: #353243; display: block; white-space: pre-wrap; margin-bottom: 5px;'>date_created: 2024-04-27</div><div style='background-color: #D5F1D5;; color: #256B24;; display: block; white-space: pre-wrap; margin-bottom: 5px;'>code: None</div></div></div>"
      }
     },
     "88a6bf61fc604223a0ba078f960165e1": {
      "model_module": "@jupyter-widgets/base",
      "model_module_version": "2.0.0",
      "model_name": "LayoutModel",
      "state": {}
     },
     "88acc857249f44b794565e326031d276": {
      "model_module": "@jupyter-widgets/controls",
      "model_module_version": "2.0.0",
      "model_name": "HTMLModel",
      "state": {
       "layout": "IPY_MODEL_73c59c0727a64342903f30ac0919bf51",
       "style": "IPY_MODEL_45a66863936c47c6b0433458fff4688d",
       "value": "<div style='font-family: monospace; width: 100%;'><b>High side</b><br><div style='border-left: 1px solid #000; padding-left: 10px;'><div style='background-color: #ffffcc;display: block; white-space: pre-wrap; margin-bottom: 5px;'>status: approved</div><div style='background-color: #ffffcc;display: block; white-space: pre-wrap; margin-bottom: 5px;'>approved_by: admin</div><div style='display: block; white-space: pre-wrap; margin-bottom: 5px;'>date_created: 2024-04-27</div><div style='background-color: #ddffdd;display: block; white-space: pre-wrap; margin-bottom: 5px;'>code: @syft.function\ndef compute_mean(data: np.ndarray):\n    print(\"computing mean...\")\n    return data.mean()\n</div></div></div>"
      }
     },
     "88c1e38818034954b132264d90bd5ccc": {
      "model_module": "@jupyter-widgets/controls",
      "model_module_version": "2.0.0",
      "model_name": "VBoxModel",
      "state": {
       "children": [
        "IPY_MODEL_a456c398cdd84c74bcae6eb30ce8f993",
        "IPY_MODEL_08a48cc0fd05470faac4a0620376059f",
        "IPY_MODEL_a5d0b8f37aae42459d1788d7c87c7511",
        "IPY_MODEL_3ebe7355bf8a40969bcaccf32ccc4168",
        "IPY_MODEL_47e5cc8bfbed47ee8f96cb4970ccdecb"
       ],
       "layout": "IPY_MODEL_a4692fe448674c358516f7bd083e65ae"
      }
     },
     "88f6a0ef1f3c468899ddaf2579047f92": {
      "model_module": "@jupyter-widgets/controls",
      "model_module_version": "2.0.0",
      "model_name": "ButtonStyleModel",
      "state": {
       "font_family": null,
       "font_size": null,
       "font_style": null,
       "font_variant": null,
       "font_weight": null,
       "text_color": null,
       "text_decoration": null
      }
     },
     "896a17a6aa3f433289a1aafdd7ab8bc1": {
      "model_module": "@jupyter-widgets/base",
      "model_module_version": "2.0.0",
      "model_name": "LayoutModel",
      "state": {
       "display": "none"
      }
     },
     "89a9881130d24a68b61948b320710b1d": {
      "model_module": "@jupyter-widgets/base",
      "model_module_version": "2.0.0",
      "model_name": "LayoutModel",
      "state": {}
     },
     "89b2263fff92448292e1f72b2e943ce5": {
      "model_module": "@jupyter-widgets/base",
      "model_module_version": "2.0.0",
      "model_name": "LayoutModel",
      "state": {}
     },
     "89b5285c3ee84b029d76cdcca340b284": {
      "model_module": "@jupyter-widgets/controls",
      "model_module_version": "2.0.0",
      "model_name": "HTMLModel",
      "state": {
       "layout": "IPY_MODEL_8bcdc4b2d15b41998cf75e1a1471475c",
       "style": "IPY_MODEL_cc30c8193cec41e4a1d391ce65a2464e",
       "value": "<span style='color: #5E5A72;'>This would sync <span style='color: #B8520A'>22 changes </span> from <i>Low Node</i> to <i>High Node</i></span>"
      }
     },
     "89cb9ed39d8242238bbc2ccbfa2f058f": {
      "model_module": "@jupyter-widgets/controls",
      "model_module_version": "2.0.0",
      "model_name": "CheckboxModel",
      "state": {
       "description": "Sync",
       "disabled": false,
       "layout": "IPY_MODEL_24f4b6a925824ac69fd7593b86bfd884",
       "style": "IPY_MODEL_eb74d3bc560848b4bda73ad7e02250d3",
       "value": false
      }
     },
     "8a02e097eba44b7bb0d73cb0f097e93e": {
      "model_module": "@jupyter-widgets/controls",
      "model_module_version": "2.0.0",
      "model_name": "VBoxModel",
      "state": {
       "layout": "IPY_MODEL_182648aa304649f7a7c0906b4be9feb5"
      }
     },
     "8a33fcde7fa446f0ac980a7b902e2c19": {
      "model_module": "@jupyter-widgets/base",
      "model_module_version": "2.0.0",
      "model_name": "LayoutModel",
      "state": {}
     },
     "8a5f29ae9f5a4dfa9c05aa34ebebda94": {
      "model_module": "@jupyter-widgets/controls",
      "model_module_version": "2.0.0",
      "model_name": "VBoxModel",
      "state": {
       "children": [
        "IPY_MODEL_71b182d9631d4b0e91f2a5518facbfc9",
        "IPY_MODEL_74274405ffd141928885b4166884e0bd"
       ],
       "layout": "IPY_MODEL_127402ee1aaa410daa8ca3cca838dbbf"
      }
     },
     "8a9ae2cf9ed540d0ae9199ba62185d12": {
      "model_module": "@jupyter-widgets/base",
      "model_module_version": "2.0.0",
      "model_name": "LayoutModel",
      "state": {}
     },
     "8ab0f83627d04d2faeab878d34fa9890": {
      "model_module": "@jupyter-widgets/base",
      "model_module_version": "2.0.0",
      "model_name": "LayoutModel",
      "state": {}
     },
     "8abeacaab5264c88ab943d3a2cefddc5": {
      "model_module": "@jupyter-widgets/controls",
      "model_module_version": "2.0.0",
      "model_name": "HTMLModel",
      "state": {
       "layout": "IPY_MODEL_0da97d0ee1774774ae7b8eee19354546",
       "style": "IPY_MODEL_d0565164449c4189bdb6b51725a65bab",
       "value": "<div style='font-family: monospace; width: 100%;'>From<br><div style='border-left: 1px solid #B4B0BF; padding-left: 10px;'><div style='background-color: #FEE9CD;; color: #B8520A;; display: block; white-space: pre-wrap; margin-bottom: 5px;'>status: pending</div><div style='background-color: #FEE9CD;; color: #B8520A;; display: block; white-space: pre-wrap; margin-bottom: 5px;'>approved_by: None</div><div style='background-color: transparent; color: #353243; display: block; white-space: pre-wrap; margin-bottom: 5px;'>date_created: 2024-04-27</div></div></div>"
      }
     },
     "8ae454700b4641629473592623ddcedb": {
      "model_module": "@jupyter-widgets/base",
      "model_module_version": "2.0.0",
      "model_name": "LayoutModel",
      "state": {}
     },
     "8b1d69f143c54907ac60dee0d06e3f5c": {
      "model_module": "@jupyter-widgets/base",
      "model_module_version": "2.0.0",
      "model_name": "LayoutModel",
      "state": {
       "margin": "0 5px 0 0"
      }
     },
     "8b5ebae20c124599ae0a41c7567fd9fa": {
      "model_module": "@jupyter-widgets/controls",
      "model_module_version": "2.0.0",
      "model_name": "VBoxModel",
      "state": {
       "children": [
        "IPY_MODEL_e6c19ab40994412ba0f1dadd1ba3bb85",
        "IPY_MODEL_df328eaf538c4f6db5fbde566941b50e",
        "IPY_MODEL_ef4deeadfc344afabd854211c11be14d"
       ],
       "layout": "IPY_MODEL_512d12a1a6c34d56a4737aaf386d2a5e"
      }
     },
     "8bbb2461cede41829c0918fdb71fc52a": {
      "model_module": "@jupyter-widgets/base",
      "model_module_version": "2.0.0",
      "model_name": "LayoutModel",
      "state": {}
     },
     "8bcdc4b2d15b41998cf75e1a1471475c": {
      "model_module": "@jupyter-widgets/base",
      "model_module_version": "2.0.0",
      "model_name": "LayoutModel",
      "state": {}
     },
     "8be9a0e0a4ca4ec39ededf2950b5aac6": {
      "model_module": "@jupyter-widgets/controls",
      "model_module_version": "2.0.0",
      "model_name": "BoxModel",
      "state": {
       "children": [
        "IPY_MODEL_2e9b713e86d549b4b3f959defa7454b3"
       ],
       "layout": "IPY_MODEL_24ba04b2e3f94674a9fd6553fe66d64c"
      }
     },
     "8c14c0d89e7f4a7ebe8aef07fe8dc82c": {
      "model_module": "@jupyter-widgets/base",
      "model_module_version": "2.0.0",
      "model_name": "LayoutModel",
      "state": {
       "width": "100%"
      }
     },
     "8c49ac4864124ff0ab14973d7080b2a1": {
      "model_module": "@jupyter-widgets/controls",
      "model_module_version": "2.0.0",
      "model_name": "HTMLStyleModel",
      "state": {
       "description_width": "",
       "font_size": null,
       "text_color": null
      }
     },
     "8c6b98e5ca6348998aeca019a91850d5": {
      "model_module": "@jupyter-widgets/controls",
      "model_module_version": "2.0.0",
      "model_name": "HTMLModel",
      "state": {
       "layout": "IPY_MODEL_e008e709b86e4d208f92cb3c7ef205f2",
       "style": "IPY_MODEL_d52471353bdc4b5286db9547285157ff",
       "value": "<span style='margin-left: 5px; font-weight: bold; color: #373B7B;'>compute_mean</span> <span style='margin-left: 5px; color: #B4B0BF;'>#1234...</span>"
      }
     },
     "8c6e05aa1082419f84f6173473080ae6": {
      "model_module": "@jupyter-widgets/controls",
      "model_module_version": "2.0.0",
      "model_name": "HBoxModel",
      "state": {
       "children": [
        "IPY_MODEL_f9fc3ce0852145fe871086aebb6ba227",
        "IPY_MODEL_43477ba4a9864be3884b798b2ce57da3"
       ],
       "layout": "IPY_MODEL_bb77cf6e5b8b437d9c7407f122912ea5"
      }
     },
     "8c9ba54325fe440f987094711b6ba4ee": {
      "model_module": "@jupyter-widgets/controls",
      "model_module_version": "2.0.0",
      "model_name": "HTMLModel",
      "state": {
       "layout": "IPY_MODEL_2439de5499174cf18636032ada37d587",
       "style": "IPY_MODEL_191993e6409b4e439e4bcfe7af3f9bd9",
       "value": "<span style='background-color: #C2DEF0; border-radius: 4px; padding: 4px 6px; color: #373B7B;'>Code</span>"
      }
     },
     "8c9ebdfc86ce4da2a3166dba944dba67": {
      "model_module": "@jupyter-widgets/base",
      "model_module_version": "2.0.0",
      "model_name": "LayoutModel",
      "state": {
       "width": "100%"
      }
     },
     "8cdb9bb37c7a4f7c806b74661ff5d152": {
      "model_module": "@jupyter-widgets/controls",
      "model_module_version": "2.0.0",
      "model_name": "CheckboxModel",
      "state": {
       "description": "Share private data",
       "disabled": false,
       "layout": "IPY_MODEL_7d8b3bc9adaf4d0b9f2fe579946bfc63",
       "style": "IPY_MODEL_35f648c913cc47779c1f8931392cff88",
       "value": false
      }
     },
     "8cde9ab63a294401b370ca5ca2ccce39": {
      "model_module": "@jupyter-widgets/controls",
      "model_module_version": "2.0.0",
      "model_name": "VBoxModel",
      "state": {
       "children": [
        "IPY_MODEL_7774c4987f144f8c89ce3049eab001ae",
        "IPY_MODEL_d99e89dd194a49769eacdaa49bbe5e13"
       ],
       "layout": "IPY_MODEL_2bf30908793a451fa2087a1bfaf2cff1"
      }
     },
     "8cfb610ea487479ea2f0ffeaced34729": {
      "model_module": "@jupyter-widgets/controls",
      "model_module_version": "2.0.0",
      "model_name": "HBoxModel",
      "state": {
       "children": [
        "IPY_MODEL_1dbe94be6583423dbff0b7ec4a49b1c0",
        "IPY_MODEL_758263a05fbc49fa9435d1bc6293486b"
       ],
       "layout": "IPY_MODEL_d5468105599441988c2a5dc77b176248"
      }
     },
     "8d0d2f277e9e44bdbb9655a937e83cde": {
      "model_module": "@jupyter-widgets/controls",
      "model_module_version": "2.0.0",
      "model_name": "HTMLModel",
      "state": {
       "layout": "IPY_MODEL_c5ac53b8b64c422fb97a01366938dd83",
       "style": "IPY_MODEL_bbb3a60516b34371ae65c2f793843cea",
       "value": "<div style='font-family: monospace; width: 100%;'><b>Low side</b><br><div style='border-left: 1px solid #000; padding-left: 10px;'><div style='background-color: #ffffcc;display: block; white-space: pre-wrap; margin-bottom: 5px;'>status: pending</div><div style='background-color: #ffffcc;display: block; white-space: pre-wrap; margin-bottom: 5px;'>approved_by: None</div><div style='display: block; white-space: pre-wrap; margin-bottom: 5px;'>date_created: 2024-04-27</div><div style='background-color: #ddffdd;display: block; white-space: pre-wrap; margin-bottom: 5px;'>code: None</div></div></div>"
      }
     },
     "8d0d9c1b19a94c949b160db6ed2b714a": {
      "model_module": "@jupyter-widgets/base",
      "model_module_version": "2.0.0",
      "model_name": "LayoutModel",
      "state": {
       "display": "none"
      }
     },
     "8d3ce69d5cb94e2eb5bf6a661a6882ab": {
      "model_module": "@jupyter-widgets/base",
      "model_module_version": "2.0.0",
      "model_name": "LayoutModel",
      "state": {}
     },
     "8d3e0a7a26d848b5bffdf1d655342e5d": {
      "model_module": "@jupyter-widgets/controls",
      "model_module_version": "2.0.0",
      "model_name": "HTMLModel",
      "state": {
       "layout": "IPY_MODEL_4711fe61e89147c8a641d5039f395ac5",
       "style": "IPY_MODEL_b467a1b195cf402db1308c6125962aa4",
       "value": "<span style='color: #5E5A72;'>This would sync <span style='color: #B8520A'>22 changes </span> from <i>Low Node</i> to <i>High Node</i></span>"
      }
     },
     "8d45197a27a14fb0b6f764c14026872e": {
      "model_module": "@jupyter-widgets/controls",
      "model_module_version": "2.0.0",
      "model_name": "HTMLModel",
      "state": {
       "layout": "IPY_MODEL_6775b6b7d4ce418d8a9fa9c06f8a107d",
       "style": "IPY_MODEL_56b3e1dc88754fe797be22864a2d3e17",
       "value": "<div style='font-family: monospace; width: 100%;'><b>High side</b><br><div style='border-left: 1px solid #000; padding-left: 10px;'><div style='background-color: background-color: #FEE9CD;; color: background-color: #B8520A;; display: block; white-space: pre-wrap; margin-bottom: 5px;'>status: approved</div><div style='background-color: background-color: #FEE9CD;; color: background-color: #B8520A;; display: block; white-space: pre-wrap; margin-bottom: 5px;'>approved_by: admin</div><div style='background-color: transparent; color: #353243; display: block; white-space: pre-wrap; margin-bottom: 5px;'>date_created: 2024-04-27</div><div style='background-color: background-color: #D5F1D5;; color: background-color: #256B24;; display: block; white-space: pre-wrap; margin-bottom: 5px;'>code: @syft.function\ndef compute_mean(data: np.ndarray):\n    print(\"computing mean...\")\n    return data.mean()\n</div></div></div>"
      }
     },
     "8da02d1a203b4d1495733777f289ee92": {
      "model_module": "@jupyter-widgets/controls",
      "model_module_version": "2.0.0",
      "model_name": "AccordionModel",
      "state": {
       "children": [
        "IPY_MODEL_77a45fa921c74cd094043da34013a823",
        "IPY_MODEL_c698c686521b48459a73ee1e5a628043"
       ],
       "layout": "IPY_MODEL_030a07ca7cdd44838c3d3653b86f624f",
       "titles": [
        "UserCode (4 changes)",
        "Request (3 changes)"
       ]
      }
     },
     "8e002a8be66142819e736576b94cad79": {
      "model_module": "@jupyter-widgets/controls",
      "model_module_version": "2.0.0",
      "model_name": "VBoxModel",
      "state": {
       "children": [
        "IPY_MODEL_d5030ed0c5204d0c869391eeac390fb1",
        "IPY_MODEL_48ad856e578b4000ae16bd75fbb29c36"
       ],
       "layout": "IPY_MODEL_5fd1226337284468953cb975091e8ff6"
      }
     },
     "8e32ba76fb4c4c50b578c7ba8e600a16": {
      "model_module": "@jupyter-widgets/controls",
      "model_module_version": "2.0.0",
      "model_name": "ButtonStyleModel",
      "state": {
       "font_family": null,
       "font_size": null,
       "font_style": null,
       "font_variant": null,
       "font_weight": null,
       "text_color": null,
       "text_decoration": null
      }
     },
     "8e5ec6572f1b4018a06de3b5de156055": {
      "model_module": "@jupyter-widgets/controls",
      "model_module_version": "2.0.0",
      "model_name": "BoxModel",
      "state": {
       "children": [
        "IPY_MODEL_83f9ac4659624a119c83b484adf79092",
        "IPY_MODEL_09c10782463c499ba11c42388d8d8341"
       ],
       "layout": "IPY_MODEL_94a63ea2c2d14e86ae06e58835cade0f"
      }
     },
     "8e68ba93c77d4dcc844e7194bdff9c4a": {
      "model_module": "@jupyter-widgets/controls",
      "model_module_version": "2.0.0",
      "model_name": "HBoxModel",
      "state": {
       "children": [
        "IPY_MODEL_daf15fff668a494e9c996b8c66c31ad2",
        "IPY_MODEL_282911f8b7f7480e8e68cb65777897a1"
       ],
       "layout": "IPY_MODEL_fb9b8c506e2b4e6bbf8ae07db3018d2b"
      }
     },
     "8e7bf817cb6d4eeb9aacaf5dc0a2a06d": {
      "model_module": "@jupyter-widgets/base",
      "model_module_version": "2.0.0",
      "model_name": "LayoutModel",
      "state": {}
     },
     "8ebff32457904b9dbbe1a57a8624cc88": {
      "model_module": "@jupyter-widgets/base",
      "model_module_version": "2.0.0",
      "model_name": "LayoutModel",
      "state": {
       "align_items": "center",
       "display": "flex"
      }
     },
     "8efa47e96494422cad9a7ca801986128": {
      "model_module": "@jupyter-widgets/controls",
      "model_module_version": "2.0.0",
      "model_name": "HTMLStyleModel",
      "state": {
       "description_width": "",
       "font_size": null,
       "text_color": null
      }
     },
     "8f26acc9ebd84c1b837174e09bd9c03d": {
      "model_module": "@jupyter-widgets/base",
      "model_module_version": "2.0.0",
      "model_name": "LayoutModel",
      "state": {}
     },
     "8f2bea01794c48f5b441b49a8b378e04": {
      "model_module": "@jupyter-widgets/controls",
      "model_module_version": "2.0.0",
      "model_name": "HTMLStyleModel",
      "state": {
       "description_width": "",
       "font_size": null,
       "text_color": null
      }
     },
     "8f5692c4b9cb4e728fe722bb6000f4d7": {
      "model_module": "@jupyter-widgets/controls",
      "model_module_version": "2.0.0",
      "model_name": "HTMLStyleModel",
      "state": {
       "description_width": "",
       "font_size": null,
       "text_color": null
      }
     },
     "8f6be624af5a4dff933c3b3a4a35f6b3": {
      "model_module": "@jupyter-widgets/base",
      "model_module_version": "2.0.0",
      "model_name": "LayoutModel",
      "state": {
       "overflow": "auto",
       "width": "50%"
      }
     },
     "8f729e111f1c4f69806004c4db88aabe": {
      "model_module": "@jupyter-widgets/base",
      "model_module_version": "2.0.0",
      "model_name": "LayoutModel",
      "state": {
       "border_bottom": "solid 1px",
       "border_left": "solid 1px",
       "border_right": "solid 1px",
       "border_top": "solid 1px",
       "padding": "5 5 5 5"
      }
     },
     "8f90b1bd62c942b49c7fca103b1ee9e3": {
      "model_module": "@jupyter-widgets/controls",
      "model_module_version": "2.0.0",
      "model_name": "CheckboxModel",
      "state": {
       "description": "Sync",
       "disabled": false,
       "layout": "IPY_MODEL_5884cee932e5434ab4b0ca4dd5805ed9",
       "style": "IPY_MODEL_b36a9afa538849b7a00838a9a4e125af",
       "value": false
      }
     },
     "901f15521a144fa5926e9fb8d2ca509f": {
      "model_module": "@jupyter-widgets/controls",
      "model_module_version": "2.0.0",
      "model_name": "ButtonModel",
      "state": {
       "icon": "clone",
       "layout": "IPY_MODEL_49d8fabead3a45318dd0113d0d8f278a",
       "style": "IPY_MODEL_f63345a7357044dfb909d98f139dd203",
       "tooltip": null
      }
     },
     "9035ed74cf6740d6b07b1ca9f2f94876": {
      "model_module": "@jupyter-widgets/base",
      "model_module_version": "2.0.0",
      "model_name": "LayoutModel",
      "state": {
       "border_bottom": "solid 1px",
       "border_left": "solid 1px",
       "border_right": "solid 1px",
       "border_top": "solid 1px",
       "margin": "50 50 50 50",
       "padding": "50"
      }
     },
     "9036a823b68347c0bb61c3ed3a7ce94c": {
      "model_module": "@jupyter-widgets/base",
      "model_module_version": "2.0.0",
      "model_name": "LayoutModel",
      "state": {}
     },
     "904130b5e4f84cbb9d80a6903eef79b2": {
      "model_module": "@jupyter-widgets/base",
      "model_module_version": "2.0.0",
      "model_name": "LayoutModel",
      "state": {}
     },
     "9056cd7be81046f4abaa8b14f83ea28c": {
      "model_module": "@jupyter-widgets/base",
      "model_module_version": "2.0.0",
      "model_name": "LayoutModel",
      "state": {}
     },
     "907bc3ec397448b989e8234e1c26033f": {
      "model_module": "@jupyter-widgets/controls",
      "model_module_version": "2.0.0",
      "model_name": "ButtonStyleModel",
      "state": {
       "font_family": null,
       "font_size": null,
       "font_style": null,
       "font_variant": null,
       "font_weight": null,
       "text_color": null,
       "text_decoration": null
      }
     },
     "908ced944ebd47fb9c611900d81dc929": {
      "model_module": "@jupyter-widgets/base",
      "model_module_version": "2.0.0",
      "model_name": "LayoutModel",
      "state": {
       "overflow": "auto",
       "width": "50%"
      }
     },
     "90bc217ce99345039585fa9300b2ee5d": {
      "model_module": "@jupyter-widgets/controls",
      "model_module_version": "2.0.0",
      "model_name": "HBoxModel",
      "state": {
       "children": [
        "IPY_MODEL_ba6a7f749fa94529ba0af5998b3ca923",
        "IPY_MODEL_3a57f9bfc99849389e84c74811af7896",
        "IPY_MODEL_ffa1a8022d7645f1b06f7e566a0d1da5"
       ],
       "layout": "IPY_MODEL_07d86a3014b242e1bea680d2cffb3312"
      }
     },
     "90db1a43b3674fd2b5c6e031e08cca90": {
      "model_module": "@jupyter-widgets/base",
      "model_module_version": "2.0.0",
      "model_name": "LayoutModel",
      "state": {
       "overflow": "auto",
       "width": "50%"
      }
     },
     "90e6256a969b44ffa3001f7630426772": {
      "model_module": "@jupyter-widgets/base",
      "model_module_version": "2.0.0",
      "model_name": "LayoutModel",
      "state": {
       "margin": "0 5px 0 0"
      }
     },
     "912c84450038495cb97a743d74d55ae9": {
      "model_module": "@jupyter-widgets/base",
      "model_module_version": "2.0.0",
      "model_name": "LayoutModel",
      "state": {}
     },
     "91465bb6d4d24e3da6269b77cca5c1fc": {
      "model_module": "@jupyter-widgets/controls",
      "model_module_version": "2.0.0",
      "model_name": "HTMLStyleModel",
      "state": {
       "description_width": "",
       "font_size": null,
       "text_color": null
      }
     },
     "915d190fa14944388a71b6df04e2da03": {
      "model_module": "@jupyter-widgets/base",
      "model_module_version": "2.0.0",
      "model_name": "LayoutModel",
      "state": {}
     },
     "91727fcdf6c34db39d8283153d4044f6": {
      "model_module": "@jupyter-widgets/controls",
      "model_module_version": "2.0.0",
      "model_name": "CheckboxModel",
      "state": {
       "description": "Sync",
       "disabled": false,
       "layout": "IPY_MODEL_a8f7b59c2ddd45709f7aa98016f67ec4",
       "style": "IPY_MODEL_c3442f3606e3416f8a032603403b8c89",
       "value": false
      }
     },
     "91a850d6c477454da14330394a944e3d": {
      "model_module": "@jupyter-widgets/base",
      "model_module_version": "2.0.0",
      "model_name": "LayoutModel",
      "state": {}
     },
     "91ba1aa06c8f49f08d1506ff040d2d17": {
      "model_module": "@jupyter-widgets/controls",
      "model_module_version": "2.0.0",
      "model_name": "HBoxModel",
      "state": {
       "children": [
        "IPY_MODEL_b2ee79607411473183d43a82b75c6370",
        "IPY_MODEL_04ef6de43c87432d91f5189a509001d1"
       ],
       "layout": "IPY_MODEL_7bc7d7b2d4e647819a9690e00f71e594"
      }
     },
     "91beebe5c02d452684f783af7a1b0a91": {
      "model_module": "@jupyter-widgets/base",
      "model_module_version": "2.0.0",
      "model_name": "LayoutModel",
      "state": {}
     },
     "91de9ae6267244a7850b3cba03cd8d3d": {
      "model_module": "@jupyter-widgets/base",
      "model_module_version": "2.0.0",
      "model_name": "LayoutModel",
      "state": {}
     },
     "91ec5aa91359410cbdf5bb3cd5fa030f": {
      "model_module": "@jupyter-widgets/controls",
      "model_module_version": "2.0.0",
      "model_name": "HBoxModel",
      "state": {
       "children": [
        "IPY_MODEL_419e58347b424d99ad0cbef7dc3974fe",
        "IPY_MODEL_88acc857249f44b794565e326031d276"
       ],
       "layout": "IPY_MODEL_912c84450038495cb97a743d74d55ae9"
      }
     },
     "91ed572331a3465489423e0912437046": {
      "model_module": "@jupyter-widgets/base",
      "model_module_version": "2.0.0",
      "model_name": "LayoutModel",
      "state": {}
     },
     "92073300e21444989cd05b31f74e06ab": {
      "model_module": "@jupyter-widgets/controls",
      "model_module_version": "2.0.0",
      "model_name": "HTMLStyleModel",
      "state": {
       "description_width": "",
       "font_size": null,
       "text_color": null
      }
     },
     "9275dc41c9374212ae40fd7df4b23aa5": {
      "model_module": "@jupyter-widgets/controls",
      "model_module_version": "2.0.0",
      "model_name": "HBoxModel",
      "state": {
       "children": [
        "IPY_MODEL_e90ad8db1c21423b9fa68899f0521b1e",
        "IPY_MODEL_efdf4c979d1b46e2a9c62fece6fdd765"
       ],
       "layout": "IPY_MODEL_5a6ba583f9de47d8af6bda19b07748dc"
      }
     },
     "92c7d263ce094041bd93a035dda950ce": {
      "model_module": "@jupyter-widgets/controls",
      "model_module_version": "2.0.0",
      "model_name": "HTMLModel",
      "state": {
       "layout": "IPY_MODEL_d1d8f23bc24e4842b24b74df91cc3e19",
       "style": "IPY_MODEL_210e2709d8314573a5a849a672fe79e2",
       "value": "<span style='color: #B4B0BF;'>Syncing changes on</span>"
      }
     },
     "92cbbbd3062c44a9954bfaf86be8693b": {
      "model_module": "@jupyter-widgets/base",
      "model_module_version": "2.0.0",
      "model_name": "LayoutModel",
      "state": {}
     },
     "930980c5efa54c6c96860d40a57b41a5": {
      "model_module": "@jupyter-widgets/base",
      "model_module_version": "2.0.0",
      "model_name": "LayoutModel",
      "state": {}
     },
     "93144534c1054f36a0edd36908fe4796": {
      "model_module": "@jupyter-widgets/base",
      "model_module_version": "2.0.0",
      "model_name": "LayoutModel",
      "state": {
       "border_bottom": "solid 1px",
       "border_left": "solid 1px",
       "border_right": "solid 1px",
       "border_top": "solid 1px",
       "margin": "50 50 50 50",
       "padding": "50px"
      }
     },
     "9348c0e04b9642e88e42922a4e769a8d": {
      "model_module": "@jupyter-widgets/base",
      "model_module_version": "2.0.0",
      "model_name": "LayoutModel",
      "state": {}
     },
     "935e6e59cc08460fb98df07f779d0b8c": {
      "model_module": "@jupyter-widgets/base",
      "model_module_version": "2.0.0",
      "model_name": "LayoutModel",
      "state": {
       "align_items": "center"
      }
     },
     "93942aa8a95d48f8a3a31d2fea43eb7c": {
      "model_module": "@jupyter-widgets/base",
      "model_module_version": "2.0.0",
      "model_name": "LayoutModel",
      "state": {
       "border_bottom": "solid 1px",
       "border_left": "solid 1px",
       "border_right": "solid 1px",
       "border_top": "solid 1px",
       "padding": "50px"
      }
     },
     "93cd21e385a243f09f9dced2e8d205ae": {
      "model_module": "@jupyter-widgets/base",
      "model_module_version": "2.0.0",
      "model_name": "LayoutModel",
      "state": {
       "overflow": "auto",
       "width": "50%"
      }
     },
     "93d8b06f3c5f4baba077ebd299793dd3": {
      "model_module": "@jupyter-widgets/base",
      "model_module_version": "2.0.0",
      "model_name": "LayoutModel",
      "state": {}
     },
     "93d9d0078ac74b4f87403d92441084da": {
      "model_module": "@jupyter-widgets/controls",
      "model_module_version": "2.0.0",
      "model_name": "HTMLModel",
      "state": {
       "layout": "IPY_MODEL_bdd60927fd784873ad4de7689798f927",
       "style": "IPY_MODEL_15d05f206e6340f2a4213cd3df38dafa",
       "value": "<div style='font-family: monospace; width: 100%;'><b>High side</b><br><div style='border-left: 1px solid #000; padding-left: 10px;'><div style='background-color: background-color: #FEE9CD;; color: background-color: #B8520A;; display: block; white-space: pre-wrap; margin-bottom: 5px;'>status: approved</div><div style='background-color: background-color: #FEE9CD;; color: background-color: #B8520A;; display: block; white-space: pre-wrap; margin-bottom: 5px;'>approved_by: admin</div><div style='background-color: transparent; color: #353243; display: block; white-space: pre-wrap; margin-bottom: 5px;'>date_created: 2024-04-27</div></div></div>"
      }
     },
     "93f92f1dbf0a4140add4ec9c15bbfefb": {
      "model_module": "@jupyter-widgets/controls",
      "model_module_version": "2.0.0",
      "model_name": "ButtonModel",
      "state": {
       "icon": "clone",
       "layout": "IPY_MODEL_e0b0d5dec4c147b7aede3ff0bf734aea",
       "style": "IPY_MODEL_50080f1db59b4f9f92408b0e36ee6cc0",
       "tooltip": null
      }
     },
     "9404c3bc039c452f968691d3a770c446": {
      "model_module": "@jupyter-widgets/controls",
      "model_module_version": "2.0.0",
      "model_name": "HTMLModel",
      "state": {
       "layout": "IPY_MODEL_75c846819faa403687e5ba7a7dae8efc",
       "style": "IPY_MODEL_0bf0f348c2334696877854d015463f83",
       "value": "<div style=\"text-align: center; margin: 10px 0; border: 1px dashed #B4B0BF;\"></div>"
      }
     },
     "9413e5ffad3b462faf375d94ee2ccc52": {
      "model_module": "@jupyter-widgets/controls",
      "model_module_version": "2.0.0",
      "model_name": "HTMLStyleModel",
      "state": {
       "description_width": "",
       "font_size": null,
       "text_color": null
      }
     },
     "942ee5dc8211432ab89c27d5ec3791c7": {
      "model_module": "@jupyter-widgets/controls",
      "model_module_version": "2.0.0",
      "model_name": "HTMLModel",
      "state": {
       "layout": "IPY_MODEL_24f3ea1a02ff4aefb7d4ff7a62df7025",
       "style": "IPY_MODEL_d35a956a38ed4fc497e394c2b84787f5",
       "value": "<span style='margin-left: 5px; font-weight: bold; color: #373B7B;'>compute_mean</span> <span style='margin-left: 5px; color: #B4B0BF;'>#1234...</span>"
      }
     },
     "94a63ea2c2d14e86ae06e58835cade0f": {
      "model_module": "@jupyter-widgets/base",
      "model_module_version": "2.0.0",
      "model_name": "LayoutModel",
      "state": {
       "align_items": "center",
       "display": "flex"
      }
     },
     "94ceb6135e274a99bf427639da80f20c": {
      "model_module": "@jupyter-widgets/base",
      "model_module_version": "2.0.0",
      "model_name": "LayoutModel",
      "state": {
       "align_items": "center"
      }
     },
     "95285844d42549df89a4b4bcbda9e7e0": {
      "model_module": "@jupyter-widgets/base",
      "model_module_version": "2.0.0",
      "model_name": "LayoutModel",
      "state": {}
     },
     "952b44a2ed9942a697860557a3849cdc": {
      "model_module": "@jupyter-widgets/controls",
      "model_module_version": "2.0.0",
      "model_name": "AccordionModel",
      "state": {
       "children": [
        "IPY_MODEL_77a45fa921c74cd094043da34013a823",
        "IPY_MODEL_c698c686521b48459a73ee1e5a628043"
       ],
       "layout": "IPY_MODEL_7d7b1cf7fdc9497ca9ea9d7c6b8f3b1b",
       "titles": [
        "UserCode (4 changes)",
        "Request (3 changes)"
       ]
      }
     },
     "952e94c314e3471fa3ab5f061b7ae5d3": {
      "model_module": "@jupyter-widgets/base",
      "model_module_version": "2.0.0",
      "model_name": "LayoutModel",
      "state": {}
     },
     "95518628516643acb30152e298fcbc29": {
      "model_module": "@jupyter-widgets/base",
      "model_module_version": "2.0.0",
      "model_name": "LayoutModel",
      "state": {
       "overflow": "auto",
       "width": "50%"
      }
     },
     "955c8153f9d5478da916c43de499d943": {
      "model_module": "@jupyter-widgets/controls",
      "model_module_version": "2.0.0",
      "model_name": "HTMLModel",
      "state": {
       "layout": "IPY_MODEL_19f66e06fe3748afb5b65185f1f9fb8e",
       "style": "IPY_MODEL_e528ad07310c4003a66883192dc1224e",
       "value": "<span style='margin-left: 5px; font-weight: bold; color: #373B7B;'>compute_mean</span> <span style='margin-left: 5px; color: #B4B0BF;'>#1234...</span>"
      }
     },
     "95798c9c2329475684f6162df5b9e437": {
      "model_module": "@jupyter-widgets/controls",
      "model_module_version": "2.0.0",
      "model_name": "HTMLModel",
      "state": {
       "layout": "IPY_MODEL_c50b7e6e2bef4f4695ac73bab1bac761",
       "style": "IPY_MODEL_531a89ec5ef84bd882e67b21617af932",
       "value": "<span style='color: #B4B0BF;'>Syncing changes on</span>"
      }
     },
     "959c6a264e344e24b6938837c0d6b55b": {
      "model_module": "@jupyter-widgets/base",
      "model_module_version": "2.0.0",
      "model_name": "LayoutModel",
      "state": {
       "overflow": "auto",
       "width": "50%"
      }
     },
     "95af0f8211424c378da18d00e6e2c3f0": {
      "model_module": "@jupyter-widgets/controls",
      "model_module_version": "2.0.0",
      "model_name": "AccordionModel",
      "state": {
       "children": [
        "IPY_MODEL_6cce1da73b7346478f25eb9719fec2a6"
       ],
       "layout": "IPY_MODEL_e61a58b665d74bc48e64733a5f0234c7",
       "titles": [
        "Request (2 changes)"
       ]
      }
     },
     "95de22221c594c23a44a6de046a93191": {
      "model_module": "@jupyter-widgets/controls",
      "model_module_version": "2.0.0",
      "model_name": "ButtonModel",
      "state": {
       "icon": "clone",
       "layout": "IPY_MODEL_fd887486a41641aa9f83fe6901a8939b",
       "style": "IPY_MODEL_70663b361e3744a6b32c645c514e0a58",
       "tooltip": null
      }
     },
     "95ec5ec42d67439197558ad022726d74": {
      "model_module": "@jupyter-widgets/controls",
      "model_module_version": "2.0.0",
      "model_name": "HTMLModel",
      "state": {
       "layout": "IPY_MODEL_a75ef2a1eccb41f79b8c317e7263a800",
       "style": "IPY_MODEL_51a0c931475046cb9c11c695e0e79683",
       "value": "<span style='margin-left: 5px; font-weight: bold; color: #373B7B;'>compute_mean</span> <span style='margin-left: 5px; color: #B4B0BF;'>#1234...</span>"
      }
     },
     "95edff7a0ea548a1898950b4f5ec28b2": {
      "model_module": "@jupyter-widgets/controls",
      "model_module_version": "2.0.0",
      "model_name": "ButtonModel",
      "state": {
       "icon": "clone",
       "layout": "IPY_MODEL_677163bdbce54aed84118d79bec2a2b1",
       "style": "IPY_MODEL_e4634e60c5ff4a2294acdb8681d8b97d",
       "tooltip": null
      }
     },
     "95f937a9aa94467a960e664bf16c93ce": {
      "model_module": "@jupyter-widgets/output",
      "model_module_version": "1.0.0",
      "model_name": "OutputModel",
      "state": {
       "layout": "IPY_MODEL_bbbb2170a21346668c241221f8a36583"
      }
     },
     "96085f7104084c1b815056165f50a788": {
      "model_module": "@jupyter-widgets/controls",
      "model_module_version": "2.0.0",
      "model_name": "HBoxModel",
      "state": {
       "layout": "IPY_MODEL_91ed572331a3465489423e0912437046"
      }
     },
     "96332bb653b249be881f7f8bbd36d705": {
      "model_module": "@jupyter-widgets/controls",
      "model_module_version": "2.0.0",
      "model_name": "HTMLModel",
      "state": {
       "layout": "IPY_MODEL_6284491e81d840308d9d6ef642cc68e4",
       "style": "IPY_MODEL_b1216873a3484871aa3268a3a49a8748",
       "value": "<div style='font-family: monospace; width: 100%;'><b>Low side</b><br><div style='border-left: 1px solid #000; padding-left: 10px;'><div style='background-color: background-color: #FEE9CD; color: background-color: #B8520A; display: block; white-space: pre-wrap; margin-bottom: 5px;'>status: pending</div><div style='background-color: background-color: #FEE9CD; color: background-color: #B8520A; display: block; white-space: pre-wrap; margin-bottom: 5px;'>approved_by: None</div><div style='background-color: transparent color: #353243 display: block; white-space: pre-wrap; margin-bottom: 5px;'>date_created: 2024-04-27</div></div></div>"
      }
     },
     "963efe4076ad4efeb761df223a934a3e": {
      "model_module": "@jupyter-widgets/base",
      "model_module_version": "2.0.0",
      "model_name": "LayoutModel",
      "state": {}
     },
     "964205685aff46e48bdc45f29f5873cd": {
      "model_module": "@jupyter-widgets/controls",
      "model_module_version": "2.0.0",
      "model_name": "VBoxModel",
      "state": {
       "children": [
        "IPY_MODEL_44085f5489d04e82a59e679b4f04e2b2",
        "IPY_MODEL_18c2fc9a423a4cdba802f6583eacf32a",
        "IPY_MODEL_5890f4bf70f14eb38eeaff9fa8de9785"
       ],
       "layout": "IPY_MODEL_2d2ee62f2d384de7be7242725c66027c"
      }
     },
     "96435a89bb8e452d9a110b3631dce0be": {
      "model_module": "@jupyter-widgets/controls",
      "model_module_version": "2.0.0",
      "model_name": "HTMLStyleModel",
      "state": {
       "description_width": "",
       "font_size": null,
       "text_color": null
      }
     },
     "967852161f8c4172aa269e015d54e96c": {
      "model_module": "@jupyter-widgets/base",
      "model_module_version": "2.0.0",
      "model_name": "LayoutModel",
      "state": {
       "align_items": "center",
       "display": "flex"
      }
     },
     "96ada1390901487da0c85a141ac87645": {
      "model_module": "@jupyter-widgets/base",
      "model_module_version": "2.0.0",
      "model_name": "LayoutModel",
      "state": {}
     },
     "96afa63db02e494f9afdabb5364f3fef": {
      "model_module": "@jupyter-widgets/base",
      "model_module_version": "2.0.0",
      "model_name": "LayoutModel",
      "state": {
       "display": "none"
      }
     },
     "96fdd683288344eeb62ccdff4e4863b6": {
      "model_module": "@jupyter-widgets/controls",
      "model_module_version": "2.0.0",
      "model_name": "HBoxModel",
      "state": {
       "children": [
        "IPY_MODEL_ab2108724d9c4ab0ad924dc49a212929"
       ],
       "layout": "IPY_MODEL_cf7d72b4021d4e08a6dd8fa52da8f71a"
      }
     },
     "970111ac014245c4811d15e43b9649c6": {
      "model_module": "@jupyter-widgets/controls",
      "model_module_version": "2.0.0",
      "model_name": "CheckboxStyleModel",
      "state": {
       "description_width": ""
      }
     },
     "970fcea5baf24f3ebeecb71d1756fb34": {
      "model_module": "@jupyter-widgets/controls",
      "model_module_version": "2.0.0",
      "model_name": "ButtonStyleModel",
      "state": {
       "font_family": null,
       "font_size": null,
       "font_style": null,
       "font_variant": null,
       "font_weight": null,
       "text_color": null,
       "text_decoration": null
      }
     },
     "975ef86184804d8f829642a9ae1c4533": {
      "model_module": "@jupyter-widgets/controls",
      "model_module_version": "2.0.0",
      "model_name": "ButtonModel",
      "state": {
       "icon": "clone",
       "layout": "IPY_MODEL_a8f3a0d58973437faebe8841e6ea790d",
       "style": "IPY_MODEL_7f14e8431360420aa13cd1f68a359958",
       "tooltip": null
      }
     },
     "97b90373c80f4be1a13167314a125b80": {
      "model_module": "@jupyter-widgets/controls",
      "model_module_version": "2.0.0",
      "model_name": "HTMLStyleModel",
      "state": {
       "description_width": "",
       "font_size": null,
       "text_color": null
      }
     },
     "97d3a33d10f145baa6fad56388853e48": {
      "model_module": "@jupyter-widgets/base",
      "model_module_version": "2.0.0",
      "model_name": "LayoutModel",
      "state": {
       "border_bottom": "solid 0.5px #353243",
       "border_left": "solid 0.5px #353243",
       "border_right": "solid 0.5px #353243",
       "border_top": "solid 0.5px #353243",
       "padding": "16px"
      }
     },
     "985259b6ebde48fabd7c0589c3127064": {
      "model_module": "@jupyter-widgets/base",
      "model_module_version": "2.0.0",
      "model_name": "LayoutModel",
      "state": {}
     },
     "98d9c33ba6b04b74b63f477e1d4df686": {
      "model_module": "@jupyter-widgets/controls",
      "model_module_version": "2.0.0",
      "model_name": "CheckboxStyleModel",
      "state": {
       "description_width": ""
      }
     },
     "993822d47c814f2fb622d3d76b598172": {
      "model_module": "@jupyter-widgets/controls",
      "model_module_version": "2.0.0",
      "model_name": "VBoxModel",
      "state": {
       "children": [
        "IPY_MODEL_7e4f9f2204e043b6995f37708354c76f",
        "IPY_MODEL_8a5f29ae9f5a4dfa9c05aa34ebebda94",
        "IPY_MODEL_18c30c67cb0942c79c7e1b68198a63ce",
        "IPY_MODEL_9404c3bc039c452f968691d3a770c446",
        "IPY_MODEL_ce030edcd6d4462bb95e349453d43d3e"
       ],
       "layout": "IPY_MODEL_09c28ab489534d469af24a965ad6a152"
      }
     },
     "999d0d99e6994e5aabbd4a73ad9c641b": {
      "model_module": "@jupyter-widgets/controls",
      "model_module_version": "2.0.0",
      "model_name": "CheckboxStyleModel",
      "state": {
       "description_width": ""
      }
     },
     "9a87c843ca4a44188f16fc666ef76db0": {
      "model_module": "@jupyter-widgets/controls",
      "model_module_version": "2.0.0",
      "model_name": "HBoxModel",
      "state": {
       "children": [
        "IPY_MODEL_7ef7e5da7899458683b1210634012c82"
       ],
       "layout": "IPY_MODEL_ce9711ee21874a049237847ee0d91918"
      }
     },
     "9a8b43da6084476b86acc9ca323ba36c": {
      "model_module": "@jupyter-widgets/controls",
      "model_module_version": "2.0.0",
      "model_name": "HTMLStyleModel",
      "state": {
       "description_width": "",
       "font_size": null,
       "text_color": null
      }
     },
     "9a9533fb938b46aab64b8c3da352a77b": {
      "model_module": "@jupyter-widgets/base",
      "model_module_version": "2.0.0",
      "model_name": "LayoutModel",
      "state": {}
     },
     "9ad3d3b6a5f04ca5a4f7d275664a5d92": {
      "model_module": "@jupyter-widgets/base",
      "model_module_version": "2.0.0",
      "model_name": "LayoutModel",
      "state": {
       "overflow": "auto",
       "width": "50%"
      }
     },
     "9ae65696617946c8ba841d4c67953540": {
      "model_module": "@jupyter-widgets/controls",
      "model_module_version": "2.0.0",
      "model_name": "HTMLModel",
      "state": {
       "layout": "IPY_MODEL_d1868ad0dc9847a492c241f80eabcc38",
       "style": "IPY_MODEL_044ed1ec5a084cafb5bdec9948a5eda7",
       "value": "<div style='font-family: monospace; width: 100%;'><b>Low side</b><br><div style='border-left: 1px solid #000; padding-left: 10px;'><div style='background-color: #ffffcc;display: block; white-space: pre-wrap; margin-bottom: 5px;'>status: pending</div><div style='background-color: #ffffcc;display: block; white-space: pre-wrap; margin-bottom: 5px;'>approved_by: None</div><div style='display: block; white-space: pre-wrap; margin-bottom: 5px;'>date_created: 2024-04-27</div></div></div>"
      }
     },
     "9b053209c05a4a31beeeab136d788bb4": {
      "model_module": "@jupyter-widgets/controls",
      "model_module_version": "2.0.0",
      "model_name": "HTMLStyleModel",
      "state": {
       "description_width": "",
       "font_size": null,
       "text_color": null
      }
     },
     "9b2b042b4f22472083a358d2a5115a76": {
      "model_module": "@jupyter-widgets/base",
      "model_module_version": "2.0.0",
      "model_name": "LayoutModel",
      "state": {
       "align_items": "center"
      }
     },
     "9b44d7892b954117be7f60ad891cb8df": {
      "model_module": "@jupyter-widgets/controls",
      "model_module_version": "2.0.0",
      "model_name": "CheckboxStyleModel",
      "state": {
       "description_width": ""
      }
     },
     "9b5d5106dc214b38a0eab7ac84edaa40": {
      "model_module": "@jupyter-widgets/base",
      "model_module_version": "2.0.0",
      "model_name": "LayoutModel",
      "state": {
       "align_items": "center"
      }
     },
     "9b64c929bc5e48b887c87deafaebcd16": {
      "model_module": "@jupyter-widgets/base",
      "model_module_version": "2.0.0",
      "model_name": "LayoutModel",
      "state": {}
     },
     "9bb16d44bddd45c592b8a916e0c42730": {
      "model_module": "@jupyter-widgets/controls",
      "model_module_version": "2.0.0",
      "model_name": "CheckboxStyleModel",
      "state": {
       "description_width": ""
      }
     },
     "9bbc5eb7b28c473f832c5b9a6799dfe5": {
      "model_module": "@jupyter-widgets/controls",
      "model_module_version": "2.0.0",
      "model_name": "HBoxModel",
      "state": {
       "layout": "IPY_MODEL_19ffbb322b8f4a07b8fd2459e4ecf723"
      }
     },
     "9bd466d7ad424c03b87e641e24e17749": {
      "model_module": "@jupyter-widgets/controls",
      "model_module_version": "2.0.0",
      "model_name": "HBoxModel",
      "state": {
       "children": [
        "IPY_MODEL_783c242399d8483db0902e149000af17"
       ],
       "layout": "IPY_MODEL_96ada1390901487da0c85a141ac87645"
      }
     },
     "9bd57d468b0f4f688c96d6a1574b2cd3": {
      "model_module": "@jupyter-widgets/controls",
      "model_module_version": "2.0.0",
      "model_name": "HTMLStyleModel",
      "state": {
       "description_width": "",
       "font_size": null,
       "text_color": null
      }
     },
     "9be8181afc574a41a15b85855abd53ac": {
      "model_module": "@jupyter-widgets/base",
      "model_module_version": "2.0.0",
      "model_name": "LayoutModel",
      "state": {
       "height": "25px",
       "margin": "0",
       "padding": "0",
       "width": "25px"
      }
     },
     "9c1e0385017f424899574312cffbbf15": {
      "model_module": "@jupyter-widgets/base",
      "model_module_version": "2.0.0",
      "model_name": "LayoutModel",
      "state": {}
     },
     "9c5278a2b528404f9a32da2ff1323be7": {
      "model_module": "@jupyter-widgets/base",
      "model_module_version": "2.0.0",
      "model_name": "LayoutModel",
      "state": {
       "overflow": "auto",
       "width": "50%"
      }
     },
     "9cb350f70a1248c793852e5f66fa11d8": {
      "model_module": "@jupyter-widgets/controls",
      "model_module_version": "2.0.0",
      "model_name": "HTMLStyleModel",
      "state": {
       "description_width": "",
       "font_size": null,
       "text_color": null
      }
     },
     "9cf58c12779e47b2a01e0941fcc15970": {
      "model_module": "@jupyter-widgets/controls",
      "model_module_version": "2.0.0",
      "model_name": "HTMLStyleModel",
      "state": {
       "description_width": "",
       "font_size": null,
       "text_color": null
      }
     },
     "9d0bbf9da8194105845dcaf04069a89d": {
      "model_module": "@jupyter-widgets/controls",
      "model_module_version": "2.0.0",
      "model_name": "HTMLStyleModel",
      "state": {
       "description_width": "",
       "font_size": null,
       "text_color": null
      }
     },
     "9d3b4378c15542408145d72930cd9830": {
      "model_module": "@jupyter-widgets/base",
      "model_module_version": "2.0.0",
      "model_name": "LayoutModel",
      "state": {
       "align_items": "center"
      }
     },
     "9d3d23ad74854249b09960cf5391c7b9": {
      "model_module": "@jupyter-widgets/controls",
      "model_module_version": "2.0.0",
      "model_name": "HBoxModel",
      "state": {
       "children": [
        "IPY_MODEL_e20c15af33cb4836b07f41f965d5eb1b",
        "IPY_MODEL_53c98993f881411a9e1ab940ccd5a63e",
        "IPY_MODEL_8e5ec6572f1b4018a06de3b5de156055"
       ],
       "layout": "IPY_MODEL_935e6e59cc08460fb98df07f779d0b8c"
      }
     },
     "9d6de08294534724bc4e90a1e1715c26": {
      "model_module": "@jupyter-widgets/controls",
      "model_module_version": "2.0.0",
      "model_name": "VBoxModel",
      "state": {
       "children": [
        "IPY_MODEL_4d736aa638ba4cbd9c757ab5fb3bff33",
        "IPY_MODEL_95af0f8211424c378da18d00e6e2c3f0",
        "IPY_MODEL_f1ab97551ce24aefa2a219310d03d4f5",
        "IPY_MODEL_952b44a2ed9942a697860557a3849cdc"
       ],
       "layout": "IPY_MODEL_7227ae46ac3b4dc787947878d1c29632"
      }
     },
     "9d9cacf7bb6c4ef58af786916051fb14": {
      "model_module": "@jupyter-widgets/base",
      "model_module_version": "2.0.0",
      "model_name": "LayoutModel",
      "state": {}
     },
     "9dca77c48f1841c0bedd4714c8756c3c": {
      "model_module": "@jupyter-widgets/controls",
      "model_module_version": "2.0.0",
      "model_name": "HBoxModel",
      "state": {
       "children": [
        "IPY_MODEL_1e47715a90df4dfc8306d3d10c37278f"
       ],
       "layout": "IPY_MODEL_0f997a40e1a6468fb1f373730655eb0b"
      }
     },
     "9e0a795fda7d4936bd0f6c08d99eddf8": {
      "model_module": "@jupyter-widgets/controls",
      "model_module_version": "2.0.0",
      "model_name": "HTMLStyleModel",
      "state": {
       "description_width": "",
       "font_size": null,
       "text_color": null
      }
     },
     "9e10a893497a485f8ac5470f0ec5c6bd": {
      "model_module": "@jupyter-widgets/base",
      "model_module_version": "2.0.0",
      "model_name": "LayoutModel",
      "state": {}
     },
     "9e161ff86b0d488dafa5bf0dddef10b0": {
      "model_module": "@jupyter-widgets/base",
      "model_module_version": "2.0.0",
      "model_name": "LayoutModel",
      "state": {}
     },
     "9e2658c8038b4f24a2a6d7c62b3d2266": {
      "model_module": "@jupyter-widgets/base",
      "model_module_version": "2.0.0",
      "model_name": "LayoutModel",
      "state": {
       "display": "none"
      }
     },
     "9e49b7f65e1441dd9e2f65ea94534b20": {
      "model_module": "@jupyter-widgets/controls",
      "model_module_version": "2.0.0",
      "model_name": "ButtonModel",
      "state": {
       "icon": "clone",
       "layout": "IPY_MODEL_9be8181afc574a41a15b85855abd53ac",
       "style": "IPY_MODEL_773c107852444d77a225421991bc601f",
       "tooltip": null
      }
     },
     "9eb00d55a2d84b7fbc2265e1af90dca5": {
      "model_module": "@jupyter-widgets/controls",
      "model_module_version": "2.0.0",
      "model_name": "HTMLStyleModel",
      "state": {
       "description_width": "",
       "font_size": null,
       "text_color": null
      }
     },
     "9ec3066708e04732b3cacee94fe1e633": {
      "model_module": "@jupyter-widgets/controls",
      "model_module_version": "2.0.0",
      "model_name": "HBoxModel",
      "state": {
       "layout": "IPY_MODEL_fbdc23f8edab4cb7b5e9d2a837c2f018"
      }
     },
     "9f53a3bd2a3c443787307bcbbaa64313": {
      "model_module": "@jupyter-widgets/controls",
      "model_module_version": "2.0.0",
      "model_name": "AccordionModel",
      "state": {
       "children": [
        "IPY_MODEL_a73446b48b4246e880ae649b7d2b4019"
       ],
       "layout": "IPY_MODEL_cdcffd8a88e34de7ac077a1e91323b10",
       "titles": [
        "Request (2 changes)"
       ]
      }
     },
     "9f99364ba583407fb508f7860975e505": {
      "model_module": "@jupyter-widgets/controls",
      "model_module_version": "2.0.0",
      "model_name": "CheckboxStyleModel",
      "state": {
       "description_width": ""
      }
     },
     "9fbb98d1e86b4b5ebec7fa4b9e1c5c81": {
      "model_module": "@jupyter-widgets/controls",
      "model_module_version": "2.0.0",
      "model_name": "HBoxModel",
      "state": {
       "children": [
        "IPY_MODEL_0110afd64fc849918b8f0814eab19a46",
        "IPY_MODEL_ba1bfbd177414081a5144ccfe1af8e19"
       ],
       "layout": "IPY_MODEL_0123b2389d4b4751a19df1e75a8340ff"
      }
     },
     "9fc440596bdd457491f84c09434d6558": {
      "model_module": "@jupyter-widgets/controls",
      "model_module_version": "2.0.0",
      "model_name": "HTMLModel",
      "state": {
       "layout": "IPY_MODEL_e0a1617476df423487f3c46f09032242",
       "style": "IPY_MODEL_16a527b326af4d2ba92f83bbdd3a2804",
       "value": "<span style='color: #B4B0BF;'>Syncing changes on</span>"
      }
     },
     "9fedc53185554d8392d00efec3227ef7": {
      "model_module": "@jupyter-widgets/controls",
      "model_module_version": "2.0.0",
      "model_name": "CheckboxModel",
      "state": {
       "description": "Sync",
       "disabled": false,
       "layout": "IPY_MODEL_3b5eee63f718429b974dedac25cadd91",
       "style": "IPY_MODEL_d9e76e6977bf43fdbf99a7dec4731e94",
       "value": false
      }
     },
     "a042055ec6c04a9d9cfef2907ba9882f": {
      "model_module": "@jupyter-widgets/base",
      "model_module_version": "2.0.0",
      "model_name": "LayoutModel",
      "state": {}
     },
     "a0a18dc7a735485aba77a72482ee0e0f": {
      "model_module": "@jupyter-widgets/controls",
      "model_module_version": "2.0.0",
      "model_name": "VBoxModel",
      "state": {
       "children": [
        "IPY_MODEL_24258d87311d47219da4ef1158bc3052",
        "IPY_MODEL_fae17ae9ccd744d1bcea4f4c0cdbb9d5"
       ],
       "layout": "IPY_MODEL_e551246276ca426daf7ee00e2d8bbe48"
      }
     },
     "a14559943ad240d1ac03a16b9efc1b22": {
      "model_module": "@jupyter-widgets/controls",
      "model_module_version": "2.0.0",
      "model_name": "VBoxModel",
      "state": {
       "children": [
        "IPY_MODEL_b98a5630c6474126bd91488cd73481b4",
        "IPY_MODEL_4b266d9eac5245feb16173b58c238489"
       ],
       "layout": "IPY_MODEL_5fcc808e0be3441aa667fa4a94e64659"
      }
     },
     "a14b6998511b459aba7df279f80ab14f": {
      "model_module": "@jupyter-widgets/base",
      "model_module_version": "2.0.0",
      "model_name": "LayoutModel",
      "state": {}
     },
     "a158d9d8ed2d453c8bd8507cf2c0bd0c": {
      "model_module": "@jupyter-widgets/controls",
      "model_module_version": "2.0.0",
      "model_name": "ButtonModel",
      "state": {
       "icon": "clone",
       "layout": "IPY_MODEL_31273676e5ab496e8cf663a361f50738",
       "style": "IPY_MODEL_fc29fc7c272c4e8190ec571beb5a018e",
       "tooltip": null
      }
     },
     "a15cc0ab279945d78b040eb761a8a746": {
      "model_module": "@jupyter-widgets/base",
      "model_module_version": "2.0.0",
      "model_name": "LayoutModel",
      "state": {
       "overflow": "auto",
       "width": "50%"
      }
     },
     "a15d14952285471890c0b946772eb499": {
      "model_module": "@jupyter-widgets/base",
      "model_module_version": "2.0.0",
      "model_name": "LayoutModel",
      "state": {}
     },
     "a1d25dd634a140f8b4c55c77aa8de01e": {
      "model_module": "@jupyter-widgets/base",
      "model_module_version": "2.0.0",
      "model_name": "LayoutModel",
      "state": {}
     },
     "a1eba5ab275345ab8c2f8947149a64bf": {
      "model_module": "@jupyter-widgets/controls",
      "model_module_version": "2.0.0",
      "model_name": "HTMLStyleModel",
      "state": {
       "description_width": "",
       "font_size": null,
       "text_color": null
      }
     },
     "a21d3cf353d345f9a6c8bb4b638f5657": {
      "model_module": "@jupyter-widgets/controls",
      "model_module_version": "2.0.0",
      "model_name": "HTMLStyleModel",
      "state": {
       "description_width": "",
       "font_size": null,
       "text_color": null
      }
     },
     "a21e7b4281b245ad8089a21cd5f4503c": {
      "model_module": "@jupyter-widgets/base",
      "model_module_version": "2.0.0",
      "model_name": "LayoutModel",
      "state": {}
     },
     "a22c32beaa8640448f8a1356fe867e7e": {
      "model_module": "@jupyter-widgets/controls",
      "model_module_version": "2.0.0",
      "model_name": "HTMLStyleModel",
      "state": {
       "description_width": "",
       "font_size": null,
       "text_color": null
      }
     },
     "a23b8ee26ce445a9b0ce369f8ca62187": {
      "model_module": "@jupyter-widgets/base",
      "model_module_version": "2.0.0",
      "model_name": "LayoutModel",
      "state": {
       "border_bottom": "solid 1px",
       "border_left": "solid 1px",
       "border_right": "solid 1px",
       "border_top": "solid 1px",
       "padding": "16px"
      }
     },
     "a25c552a9c7949668da795a398784522": {
      "model_module": "@jupyter-widgets/base",
      "model_module_version": "2.0.0",
      "model_name": "LayoutModel",
      "state": {
       "width": "100%"
      }
     },
     "a2677d8f638a4d45ac21a8b23fc9f33d": {
      "model_module": "@jupyter-widgets/base",
      "model_module_version": "2.0.0",
      "model_name": "LayoutModel",
      "state": {
       "align_items": "center",
       "display": "flex"
      }
     },
     "a2be022554944d2d8b94b7dbf5b2e6be": {
      "model_module": "@jupyter-widgets/controls",
      "model_module_version": "2.0.0",
      "model_name": "HTMLModel",
      "state": {
       "layout": "IPY_MODEL_1534ff4867aa41329620f72d7669edde",
       "style": "IPY_MODEL_03402a9bb3e7465ab061a44fab89a621",
       "value": "<div style='font-family: monospace; width: 100%;'><b>High side</b><br><div style='border-left: 1px solid #000; padding-left: 10px;'><div style='background-color: #FEE9CD;; color: #B8520A;; display: block; white-space: pre-wrap; margin-bottom: 5px;'>status: approved</div><div style='background-color: #FEE9CD;; color: #B8520A;; display: block; white-space: pre-wrap; margin-bottom: 5px;'>approved_by: admin</div><div style='background-color: transparent; color: #353243; display: block; white-space: pre-wrap; margin-bottom: 5px;'>date_created: 2024-04-27</div><div style='background-color: #D5F1D5;; color: #256B24;; display: block; white-space: pre-wrap; margin-bottom: 5px;'>code: @syft.function\ndef compute_mean(data: np.ndarray):\n    print(\"computing mean...\")\n    return data.mean()\n</div></div></div>"
      }
     },
     "a2cd49dc1271403c802f915bb72b9d7a": {
      "model_module": "@jupyter-widgets/base",
      "model_module_version": "2.0.0",
      "model_name": "LayoutModel",
      "state": {}
     },
     "a32bfd754a9243b4ada93a13079c3aed": {
      "model_module": "@jupyter-widgets/base",
      "model_module_version": "2.0.0",
      "model_name": "LayoutModel",
      "state": {}
     },
     "a335438432b341ca943ffb6c031fa16d": {
      "model_module": "@jupyter-widgets/base",
      "model_module_version": "2.0.0",
      "model_name": "LayoutModel",
      "state": {}
     },
     "a3749b7817ac4513a8eddb00a087ee0b": {
      "model_module": "@jupyter-widgets/controls",
      "model_module_version": "2.0.0",
      "model_name": "BoxModel",
      "state": {
       "children": [
        "IPY_MODEL_7ff28f495d1342ab8c5b9c639b39578f"
       ],
       "layout": "IPY_MODEL_eabbba608fa84936a91ba4b681ade5ee"
      }
     },
     "a37729a194d04e4290198aaf41cfc519": {
      "model_module": "@jupyter-widgets/controls",
      "model_module_version": "2.0.0",
      "model_name": "VBoxModel",
      "state": {
       "children": [
        "IPY_MODEL_1b742b3f7d7745c8914ef8bfa63cfa0e",
        "IPY_MODEL_db6905f9ab8849e4a6a1a82e4a8f9124"
       ],
       "layout": "IPY_MODEL_b8df7ccc8f544feda22fa6a2f51d4ec3"
      }
     },
     "a37ed16f1cf6461bbe725c482d1c70e1": {
      "model_module": "@jupyter-widgets/controls",
      "model_module_version": "2.0.0",
      "model_name": "VBoxModel",
      "state": {
       "layout": "IPY_MODEL_e8d83684c1c44536833caad1c3d4ef3c"
      }
     },
     "a3ac2b49a5e04eb6a75ef4f5796eac1d": {
      "model_module": "@jupyter-widgets/base",
      "model_module_version": "2.0.0",
      "model_name": "LayoutModel",
      "state": {}
     },
     "a3cddfa6d7a0485fb01a6dee1c41a4dd": {
      "model_module": "@jupyter-widgets/controls",
      "model_module_version": "2.0.0",
      "model_name": "ButtonStyleModel",
      "state": {
       "font_family": null,
       "font_size": null,
       "font_style": null,
       "font_variant": null,
       "font_weight": null,
       "text_color": null,
       "text_decoration": null
      }
     },
     "a3d9bafde96840bba02a2b411754f73b": {
      "model_module": "@jupyter-widgets/base",
      "model_module_version": "2.0.0",
      "model_name": "LayoutModel",
      "state": {}
     },
     "a40d419f1a324025a18684e4ed9ac472": {
      "model_module": "@jupyter-widgets/controls",
      "model_module_version": "2.0.0",
      "model_name": "HTMLModel",
      "state": {
       "layout": "IPY_MODEL_11e3514cf17f48efae81e1d741fb1f98",
       "style": "IPY_MODEL_d97018c37a9c4d76b7a603a1a7dd2d03",
       "value": "<div style='font-family: monospace; width: 100%;'><b>Low side</b><br><div style='border-left: 1px solid #000; padding-left: 10px;'><div style='background-color: #FEE9CD;; color: #B8520A;; display: block; white-space: pre-wrap; margin-bottom: 5px;'>status: pending</div><div style='background-color: #FEE9CD;; color: #B8520A;; display: block; white-space: pre-wrap; margin-bottom: 5px;'>approved_by: None</div><div style='background-color: transparent; color: #353243; display: block; white-space: pre-wrap; margin-bottom: 5px;'>date_created: 2024-04-27</div></div></div>"
      }
     },
     "a42ac6037cdc4e239c61371580b1607f": {
      "model_module": "@jupyter-widgets/base",
      "model_module_version": "2.0.0",
      "model_name": "LayoutModel",
      "state": {
       "width": "100%"
      }
     },
     "a456c398cdd84c74bcae6eb30ce8f993": {
      "model_module": "@jupyter-widgets/controls",
      "model_module_version": "2.0.0",
      "model_name": "VBoxModel",
      "state": {
       "children": [
        "IPY_MODEL_9fc440596bdd457491f84c09434d6558",
        "IPY_MODEL_77a0da1e4c574fdb8ef302b760e5f170",
        "IPY_MODEL_7d3dce7c5ca445e3a69d7b1104df98a6"
       ],
       "layout": "IPY_MODEL_cd2fe47cd1ad418e9cc7ca635a30aaa9"
      }
     },
     "a4692fe448674c358516f7bd083e65ae": {
      "model_module": "@jupyter-widgets/base",
      "model_module_version": "2.0.0",
      "model_name": "LayoutModel",
      "state": {}
     },
     "a49c2bc19fe04211981784a43d3778e6": {
      "model_module": "@jupyter-widgets/base",
      "model_module_version": "2.0.0",
      "model_name": "LayoutModel",
      "state": {
       "overflow": "auto",
       "width": "50%"
      }
     },
     "a4cc74375f964fd6bdc52716580ccdd8": {
      "model_module": "@jupyter-widgets/base",
      "model_module_version": "2.0.0",
      "model_name": "LayoutModel",
      "state": {
       "overflow": "auto",
       "width": "50%"
      }
     },
     "a514aa0cb19640b8ab0303b3845d8f06": {
      "model_module": "@jupyter-widgets/controls",
      "model_module_version": "2.0.0",
      "model_name": "HTMLModel",
      "state": {
       "layout": "IPY_MODEL_beb683172f1d4311bac3d48f25a7b27f",
       "style": "IPY_MODEL_f337848c31914cb8b10ebe02432745eb",
       "value": "<div style='font-family: monospace; width: 100%;'><b>Low side</b><br><div style='border-left: 1px solid #000; padding-left: 10px;'><div style='background-color: #FEE9CD;; color: #B8520A;; display: block; white-space: pre-wrap; margin-bottom: 5px;'>status: pending</div><div style='background-color: #FEE9CD;; color: #B8520A;; display: block; white-space: pre-wrap; margin-bottom: 5px;'>approved_by: None</div><div style='background-color: transparent; color: #353243; display: block; white-space: pre-wrap; margin-bottom: 5px;'>date_created: 2024-04-27</div><div style='background-color: #D5F1D5;; color: #256B24;; display: block; white-space: pre-wrap; margin-bottom: 5px;'>code: None</div></div></div>"
      }
     },
     "a52c68292d9349bc97539ef9bd47e94c": {
      "model_module": "@jupyter-widgets/controls",
      "model_module_version": "2.0.0",
      "model_name": "HTMLModel",
      "state": {
       "layout": "IPY_MODEL_5b718a883c7042d3ae6a1270482d9dac",
       "style": "IPY_MODEL_528511d046b44dbb997f8ae5f02487df",
       "value": "<span style='margin-left: 5px; font-weight: bold; color: #373B7B;'>main_1</span> <span style='margin-left: 5px; color: #B4B0BF;'>#1234...</span>"
      }
     },
     "a5461e29a2bb44f7a48fb8a4ad749246": {
      "model_module": "@jupyter-widgets/controls",
      "model_module_version": "2.0.0",
      "model_name": "HBoxModel",
      "state": {
       "layout": "IPY_MODEL_f67ccafe08574f88b98f2e83937d7a81"
      }
     },
     "a555d4a2b8ba4b97972de6e20385f4de": {
      "model_module": "@jupyter-widgets/controls",
      "model_module_version": "2.0.0",
      "model_name": "HTMLModel",
      "state": {
       "layout": "IPY_MODEL_2c47feb4881e4033a237c0524dbc53f1",
       "style": "IPY_MODEL_1e46c7356b344629af2ad5cc40e8a620",
       "value": "<div style='font-family: monospace; width: 100%;'>From<br><div style='border-left: 1px solid #B4B0BF; padding-left: 10px;'><div style='background-color: #FEE9CD;; color: #B8520A;; display: block; white-space: pre-wrap; margin-bottom: 5px;'>status: pending</div><div style='background-color: #FEE9CD;; color: #B8520A;; display: block; white-space: pre-wrap; margin-bottom: 5px;'>approved_by: None</div><div style='background-color: transparent; color: #353243; display: block; white-space: pre-wrap; margin-bottom: 5px;'>date_created: 2024-04-27</div><div style='background-color: #D5F1D5;; color: #256B24;; display: block; white-space: pre-wrap; margin-bottom: 5px;'>code: None</div></div></div>"
      }
     },
     "a571738616a5461cb2a553d059950703": {
      "model_module": "@jupyter-widgets/base",
      "model_module_version": "2.0.0",
      "model_name": "LayoutModel",
      "state": {}
     },
     "a57f0635839946fe989eecd6fc665baf": {
      "model_module": "@jupyter-widgets/base",
      "model_module_version": "2.0.0",
      "model_name": "LayoutModel",
      "state": {
       "display": "none"
      }
     },
     "a5ad0754fd04414f87480d391fdcb978": {
      "model_module": "@jupyter-widgets/base",
      "model_module_version": "2.0.0",
      "model_name": "LayoutModel",
      "state": {
       "border_bottom": "solid 1px",
       "border_left": "solid 1px",
       "border_right": "solid 1px",
       "border_top": "solid 1px"
      }
     },
     "a5bca320f1d442f0b32278353992e8d4": {
      "model_module": "@jupyter-widgets/base",
      "model_module_version": "2.0.0",
      "model_name": "LayoutModel",
      "state": {}
     },
     "a5d0b8f37aae42459d1788d7c87c7511": {
      "model_module": "@jupyter-widgets/controls",
      "model_module_version": "2.0.0",
      "model_name": "AccordionModel",
      "state": {
       "children": [
        "IPY_MODEL_bfb19affd3864c85bb0a9cb06fb4c225"
       ],
       "layout": "IPY_MODEL_def8343cc765445c813357c2208c210a",
       "titles": [
        "Request (2 changes)"
       ]
      }
     },
     "a60d20c896014a838f32e5d57f084b01": {
      "model_module": "@jupyter-widgets/controls",
      "model_module_version": "2.0.0",
      "model_name": "ButtonStyleModel",
      "state": {
       "font_family": null,
       "font_size": null,
       "font_style": null,
       "font_variant": null,
       "font_weight": null,
       "text_color": null,
       "text_decoration": null
      }
     },
     "a61575d457704123840a804b41216692": {
      "model_module": "@jupyter-widgets/controls",
      "model_module_version": "2.0.0",
      "model_name": "HBoxModel",
      "state": {
       "layout": "IPY_MODEL_d0fdf37cd97d41368f2da95cb7a4ef32"
      }
     },
     "a63a2aef881a4d2a9eb4327f0caf8ad7": {
      "model_module": "@jupyter-widgets/controls",
      "model_module_version": "2.0.0",
      "model_name": "HTMLStyleModel",
      "state": {
       "description_width": "",
       "font_size": null,
       "text_color": null
      }
     },
     "a693c605f5154e6dbbabd1d96db28ac1": {
      "model_module": "@jupyter-widgets/base",
      "model_module_version": "2.0.0",
      "model_name": "LayoutModel",
      "state": {}
     },
     "a6c425f8c5a74f049c8b00c4dd9b5bc2": {
      "model_module": "@jupyter-widgets/base",
      "model_module_version": "2.0.0",
      "model_name": "LayoutModel",
      "state": {
       "align_items": "center",
       "display": "flex"
      }
     },
     "a6d889b31d3c403aac65198a86aa97e4": {
      "model_module": "@jupyter-widgets/base",
      "model_module_version": "2.0.0",
      "model_name": "LayoutModel",
      "state": {}
     },
     "a6f6730c041640a5bcdcc4c353a680fc": {
      "model_module": "@jupyter-widgets/controls",
      "model_module_version": "2.0.0",
      "model_name": "HTMLStyleModel",
      "state": {
       "description_width": "",
       "font_size": null,
       "text_color": null
      }
     },
     "a716e5eca510423f868dfa93b1bf1b57": {
      "model_module": "@jupyter-widgets/controls",
      "model_module_version": "2.0.0",
      "model_name": "HTMLModel",
      "state": {
       "layout": "IPY_MODEL_0da3ebbaf0ea4908bce069cf37ffbade",
       "style": "IPY_MODEL_b1179172d02f458e82ffc322d8d66b32",
       "value": "<div style='font-family: monospace; width: 100%;'><b>High side</b><br><div style='border-left: 1px solid #000; padding-left: 10px;'><div style='background-color: #FEE9CD;; color: #B8520A;; display: block; white-space: pre-wrap; margin-bottom: 5px;'>status: approved</div><div style='background-color: #FEE9CD;; color: #B8520A;; display: block; white-space: pre-wrap; margin-bottom: 5px;'>approved_by: admin</div><div style='background-color: transparent; color: #353243; display: block; white-space: pre-wrap; margin-bottom: 5px;'>date_created: 2024-04-27</div></div></div>"
      }
     },
     "a72c326a4d2b4c69989d00c13c45b93e": {
      "model_module": "@jupyter-widgets/base",
      "model_module_version": "2.0.0",
      "model_name": "LayoutModel",
      "state": {}
     },
     "a73446b48b4246e880ae649b7d2b4019": {
      "model_module": "@jupyter-widgets/controls",
      "model_module_version": "2.0.0",
      "model_name": "VBoxModel",
      "state": {
       "children": [
        "IPY_MODEL_155a873432d543f78a4fdd47bfb771b4",
        "IPY_MODEL_db35d416d3e44713ba60b0ee3a35bd02"
       ],
       "layout": "IPY_MODEL_d40dbd88704d42d4a90adc58fe58ae9e"
      }
     },
     "a736435178f84ebb8417fbd247b3dc77": {
      "model_module": "@jupyter-widgets/base",
      "model_module_version": "2.0.0",
      "model_name": "LayoutModel",
      "state": {
       "overflow": "auto",
       "width": "50%"
      }
     },
     "a75ef2a1eccb41f79b8c317e7263a800": {
      "model_module": "@jupyter-widgets/base",
      "model_module_version": "2.0.0",
      "model_name": "LayoutModel",
      "state": {}
     },
     "a791d71c10604320946bc632f66b0a2d": {
      "model_module": "@jupyter-widgets/controls",
      "model_module_version": "2.0.0",
      "model_name": "HBoxModel",
      "state": {
       "children": [
        "IPY_MODEL_dbeaa23062e94f6fbe58487fe5b58ecd",
        "IPY_MODEL_0403aa6cc578455bbfd66ecd8c4640fe",
        "IPY_MODEL_a83b53dd26384524a7ccf717e9002ae7"
       ],
       "layout": "IPY_MODEL_1467f1afe67742248a128c878e94a2d2"
      }
     },
     "a79774063b70475c8729078f93918a99": {
      "model_module": "@jupyter-widgets/controls",
      "model_module_version": "2.0.0",
      "model_name": "HTMLModel",
      "state": {
       "layout": "IPY_MODEL_8f6be624af5a4dff933c3b3a4a35f6b3",
       "style": "IPY_MODEL_55620cc17fd040ccb6d455ebc5f3d1f1",
       "value": "<div style='font-family: monospace; width: 100%;'><b>High side</b><br><div style='border-left: 1px solid #000; padding-left: 10px;'><div style='background-color: #FEE9CD;; color: #B8520A;; display: block; white-space: pre-wrap; margin-bottom: 5px;'>status: approved</div><div style='background-color: #FEE9CD;; color: #B8520A;; display: block; white-space: pre-wrap; margin-bottom: 5px;'>approved_by: admin</div><div style='background-color: transparent; color: #353243; display: block; white-space: pre-wrap; margin-bottom: 5px;'>date_created: 2024-04-27</div></div></div>"
      }
     },
     "a7dd7a2b34814f0bbb0cb22d7d5c116d": {
      "model_module": "@jupyter-widgets/base",
      "model_module_version": "2.0.0",
      "model_name": "LayoutModel",
      "state": {}
     },
     "a81a3453e84046f6913a5403a909c849": {
      "model_module": "@jupyter-widgets/base",
      "model_module_version": "2.0.0",
      "model_name": "LayoutModel",
      "state": {}
     },
     "a83b53dd26384524a7ccf717e9002ae7": {
      "model_module": "@jupyter-widgets/controls",
      "model_module_version": "2.0.0",
      "model_name": "BoxModel",
      "state": {
       "children": [
        "IPY_MODEL_d6927658f5814af88f7a31d4ab1fdb79",
        "IPY_MODEL_c5112a6b5c684899b79dadf48ca71041"
       ],
       "layout": "IPY_MODEL_fc3b9627e7d64796ac4123f0eaca566c"
      }
     },
     "a864989babda44d181d3c02f026898ea": {
      "model_module": "@jupyter-widgets/base",
      "model_module_version": "2.0.0",
      "model_name": "LayoutModel",
      "state": {
       "border_bottom": "solid 1px",
       "border_left": "solid 1px",
       "border_right": "solid 1px",
       "border_top": "solid 1px",
       "padding": "5 5 5 5"
      }
     },
     "a8b44224506e4901ab4ceda8655323ab": {
      "model_module": "@jupyter-widgets/controls",
      "model_module_version": "2.0.0",
      "model_name": "VBoxModel",
      "state": {
       "children": [
        "IPY_MODEL_af34a62e44504d10a6a3833c93a8c6a9"
       ],
       "layout": "IPY_MODEL_a5ad0754fd04414f87480d391fdcb978"
      }
     },
     "a8f3a0d58973437faebe8841e6ea790d": {
      "model_module": "@jupyter-widgets/base",
      "model_module_version": "2.0.0",
      "model_name": "LayoutModel",
      "state": {
       "height": "25px",
       "margin": "0",
       "padding": "0",
       "width": "25px"
      }
     },
     "a8f7b59c2ddd45709f7aa98016f67ec4": {
      "model_module": "@jupyter-widgets/base",
      "model_module_version": "2.0.0",
      "model_name": "LayoutModel",
      "state": {}
     },
     "a9256d12bc8849b88ac2bb5b557b81e4": {
      "model_module": "@jupyter-widgets/base",
      "model_module_version": "2.0.0",
      "model_name": "LayoutModel",
      "state": {
       "overflow": "auto",
       "width": "50%"
      }
     },
     "a965bbd89d0e4183ac9cff45f1fde181": {
      "model_module": "@jupyter-widgets/controls",
      "model_module_version": "2.0.0",
      "model_name": "HBoxModel",
      "state": {
       "children": [
        "IPY_MODEL_bf029825d299483ea7ae15b962ceeb79",
        "IPY_MODEL_942ee5dc8211432ab89c27d5ec3791c7",
        "IPY_MODEL_aa15860a89f140669f6aa41bd5605c1f"
       ],
       "layout": "IPY_MODEL_d67ff6c50018417889faf081aaf8550f"
      }
     },
     "a973f05c7b884c67a63bd1f23fdf7a5a": {
      "model_module": "@jupyter-widgets/base",
      "model_module_version": "2.0.0",
      "model_name": "LayoutModel",
      "state": {
       "align_items": "center",
       "display": "flex"
      }
     },
     "a9aca8028411416dabb538b05e7c60cb": {
      "model_module": "@jupyter-widgets/base",
      "model_module_version": "2.0.0",
      "model_name": "LayoutModel",
      "state": {
       "height": "25px",
       "margin": "0",
       "padding": "0",
       "width": "25px"
      }
     },
     "a9d6bf74395f49fda6785b0d6037ca4d": {
      "model_module": "@jupyter-widgets/controls",
      "model_module_version": "2.0.0",
      "model_name": "CheckboxModel",
      "state": {
       "description": "Sync",
       "disabled": false,
       "layout": "IPY_MODEL_72751fa75b66490a8bce65a7e443eb01",
       "style": "IPY_MODEL_b2bf93abd2a84195aeb139d495109252",
       "value": true
      }
     },
     "a9ee4041ea894ae88d6ebe836efae719": {
      "model_module": "@jupyter-widgets/controls",
      "model_module_version": "2.0.0",
      "model_name": "VBoxModel",
      "state": {
       "children": [
        "IPY_MODEL_51c60382c0dd4b9bb5773beaed383aeb",
        "IPY_MODEL_20193889e5114190a7a50d167322eb08"
       ],
       "layout": "IPY_MODEL_26ca6daebe1f4c5d86e341ecb5e3a148"
      }
     },
     "aa15860a89f140669f6aa41bd5605c1f": {
      "model_module": "@jupyter-widgets/controls",
      "model_module_version": "2.0.0",
      "model_name": "BoxModel",
      "state": {
       "children": [
        "IPY_MODEL_6a66e59d7ae1481bb40e0b4175a0dd6c",
        "IPY_MODEL_189c46c7c8394cc49ca5b1edc1bc5819"
       ],
       "layout": "IPY_MODEL_0587af4a26b04e29a34d6aa7cffd212f"
      }
     },
     "aa3ce7b190084fff957c7a9e5718a118": {
      "model_module": "@jupyter-widgets/controls",
      "model_module_version": "2.0.0",
      "model_name": "HTMLStyleModel",
      "state": {
       "description_width": "",
       "font_size": null,
       "text_color": null
      }
     },
     "aaaefc272b5d43908069cb68e883a662": {
      "model_module": "@jupyter-widgets/controls",
      "model_module_version": "2.0.0",
      "model_name": "HTMLModel",
      "state": {
       "layout": "IPY_MODEL_072384d70f184e9697d2f34cc5f9363d",
       "style": "IPY_MODEL_e34f6d8bf08f4a4fb6c0a6a26399dda5",
       "value": "<div style='font-family: monospace; width: 100%;'><b>High side</b><br><div style='border-left: 1px solid #000; padding-left: 10px;'><div style='background-color: #ffffcc;display: block; white-space: pre-wrap; margin-bottom: 5px;'>status: approved</div><div style='background-color: #ffffcc;display: block; white-space: pre-wrap; margin-bottom: 5px;'>approved_by: admin</div><div style='display: block; white-space: pre-wrap; margin-bottom: 5px;'>date_created: 2024-04-27</div></div></div>"
      }
     },
     "aadcfe2809d049f19b490a64fee5e6f2": {
      "model_module": "@jupyter-widgets/controls",
      "model_module_version": "2.0.0",
      "model_name": "HTMLModel",
      "state": {
       "layout": "IPY_MODEL_ef770cb826d74440a32be2fa62a5ed83",
       "style": "IPY_MODEL_d018d09c9bf040dea280db5c2bf460e8",
       "value": "<div style='height: 16px;'></div>"
      }
     },
     "ab04ff3e8876439d99db550336c0603c": {
      "model_module": "@jupyter-widgets/base",
      "model_module_version": "2.0.0",
      "model_name": "LayoutModel",
      "state": {
       "margin": "0 5px 0 0"
      }
     },
     "ab1f42503fad438f82a3a70f4f404bd0": {
      "model_module": "@jupyter-widgets/base",
      "model_module_version": "2.0.0",
      "model_name": "LayoutModel",
      "state": {}
     },
     "ab2108724d9c4ab0ad924dc49a212929": {
      "model_module": "@jupyter-widgets/controls",
      "model_module_version": "2.0.0",
      "model_name": "CheckboxModel",
      "state": {
       "description": "Sync",
       "disabled": false,
       "layout": "IPY_MODEL_830792104c6e4f58984959cff3084fb1",
       "style": "IPY_MODEL_69f10b42bac8455884f1bc25bdb47454",
       "value": false
      }
     },
     "ab2f49b684e04766851323690eaed1ee": {
      "model_module": "@jupyter-widgets/controls",
      "model_module_version": "2.0.0",
      "model_name": "VBoxModel",
      "state": {
       "children": [
        "IPY_MODEL_2192bb6cf8bc4f94a1299e57905bc7e6",
        "IPY_MODEL_cc0e287821cc4ce895e754564838cdb8"
       ],
       "layout": "IPY_MODEL_e59c2b1621664612b096147623822fe8"
      }
     },
     "ab43a692f68e4a359373ba65e9efee75": {
      "model_module": "@jupyter-widgets/base",
      "model_module_version": "2.0.0",
      "model_name": "LayoutModel",
      "state": {
       "overflow": "auto",
       "width": "50%"
      }
     },
     "ab8274ae2e374369a23a12794faf1f08": {
      "model_module": "@jupyter-widgets/controls",
      "model_module_version": "2.0.0",
      "model_name": "HTMLStyleModel",
      "state": {
       "description_width": "",
       "font_size": null,
       "text_color": null
      }
     },
     "ab8d6aa1638a48ccb87fd1c815ddcce2": {
      "model_module": "@jupyter-widgets/controls",
      "model_module_version": "2.0.0",
      "model_name": "AccordionModel",
      "state": {
       "children": [
        "IPY_MODEL_bfb19affd3864c85bb0a9cb06fb4c225"
       ],
       "layout": "IPY_MODEL_c4ee0190dd7949bfada22eb0f9443996",
       "titles": [
        "Request (2 changes)"
       ]
      }
     },
     "abffadb5afaa47a1a3b1046ed5d96dfb": {
      "model_module": "@jupyter-widgets/output",
      "model_module_version": "1.0.0",
      "model_name": "OutputModel",
      "state": {
       "layout": "IPY_MODEL_6e434903fe28447998687bf041848946"
      }
     },
     "ac3915124a9c4c84b54cb422e7489aa2": {
      "model_module": "@jupyter-widgets/base",
      "model_module_version": "2.0.0",
      "model_name": "LayoutModel",
      "state": {
       "display": "none"
      }
     },
     "ac45ae124c814bc69f41e4fc76dcbee4": {
      "model_module": "@jupyter-widgets/base",
      "model_module_version": "2.0.0",
      "model_name": "LayoutModel",
      "state": {}
     },
     "ac58d7d8288343d1bd50d09d30ae702c": {
      "model_module": "@jupyter-widgets/base",
      "model_module_version": "2.0.0",
      "model_name": "LayoutModel",
      "state": {
       "align_items": "center",
       "display": "flex"
      }
     },
     "ac764aedf3f648d6ae1e826fb3558d54": {
      "model_module": "@jupyter-widgets/controls",
      "model_module_version": "2.0.0",
      "model_name": "VBoxModel",
      "state": {
       "layout": "IPY_MODEL_44a1477ee95545e9b5fa5284b7177a60"
      }
     },
     "acf5acc8841148e2acd2f11e815b6586": {
      "model_module": "@jupyter-widgets/base",
      "model_module_version": "2.0.0",
      "model_name": "LayoutModel",
      "state": {
       "align_items": "center",
       "display": "flex"
      }
     },
     "ad14b8f3066f48a7bb71d0e6eb4cefd1": {
      "model_module": "@jupyter-widgets/base",
      "model_module_version": "2.0.0",
      "model_name": "LayoutModel",
      "state": {
       "overflow": "auto",
       "width": "50%"
      }
     },
     "ad516ef7442a42d291e68fdab3395f84": {
      "model_module": "@jupyter-widgets/controls",
      "model_module_version": "2.0.0",
      "model_name": "HTMLStyleModel",
      "state": {
       "description_width": "",
       "font_size": null,
       "text_color": null
      }
     },
     "ad680ab3b68e4bf08674219697d550d9": {
      "model_module": "@jupyter-widgets/base",
      "model_module_version": "2.0.0",
      "model_name": "LayoutModel",
      "state": {}
     },
     "ade371d1f2234740ac21a7b9f290385a": {
      "model_module": "@jupyter-widgets/controls",
      "model_module_version": "2.0.0",
      "model_name": "HTMLStyleModel",
      "state": {
       "description_width": "",
       "font_size": null,
       "text_color": null
      }
     },
     "adf66a43a9774e1482f79f5c95572ff0": {
      "model_module": "@jupyter-widgets/controls",
      "model_module_version": "2.0.0",
      "model_name": "HTMLStyleModel",
      "state": {
       "description_width": "",
       "font_size": null,
       "text_color": null
      }
     },
     "ae3b970b64ad46818832a9668291b06b": {
      "model_module": "@jupyter-widgets/base",
      "model_module_version": "2.0.0",
      "model_name": "LayoutModel",
      "state": {}
     },
     "ae4056f0f066439e99affbd8b1afaf60": {
      "model_module": "@jupyter-widgets/base",
      "model_module_version": "2.0.0",
      "model_name": "LayoutModel",
      "state": {}
     },
     "ae826753b1134bdaa8f47e10335a0b18": {
      "model_module": "@jupyter-widgets/controls",
      "model_module_version": "2.0.0",
      "model_name": "CheckboxStyleModel",
      "state": {
       "description_width": ""
      }
     },
     "aeadd8b9b687413982805f4eca0d8998": {
      "model_module": "@jupyter-widgets/controls",
      "model_module_version": "2.0.0",
      "model_name": "HTMLStyleModel",
      "state": {
       "description_width": "",
       "font_size": null,
       "text_color": null
      }
     },
     "aeb7478d980d49bebcbc79f8aab22cad": {
      "model_module": "@jupyter-widgets/controls",
      "model_module_version": "2.0.0",
      "model_name": "HTMLStyleModel",
      "state": {
       "description_width": "",
       "font_size": null,
       "text_color": null
      }
     },
     "aee399d1067f47879990a6dbe92dcdb0": {
      "model_module": "@jupyter-widgets/base",
      "model_module_version": "2.0.0",
      "model_name": "LayoutModel",
      "state": {
       "align_items": "center"
      }
     },
     "aee71195bb9c4a7c8dccd0ce71c83121": {
      "model_module": "@jupyter-widgets/base",
      "model_module_version": "2.0.0",
      "model_name": "LayoutModel",
      "state": {
       "overflow": "auto",
       "width": "50%"
      }
     },
     "aeefc7827a4447d294e736c2de64a9f0": {
      "model_module": "@jupyter-widgets/base",
      "model_module_version": "2.0.0",
      "model_name": "LayoutModel",
      "state": {
       "overflow": "auto",
       "width": "50%"
      }
     },
     "af0d0c704e0242a48eee3adc82011e0b": {
      "model_module": "@jupyter-widgets/controls",
      "model_module_version": "2.0.0",
      "model_name": "HTMLStyleModel",
      "state": {
       "description_width": "",
       "font_size": null,
       "text_color": null
      }
     },
     "af34a62e44504d10a6a3833c93a8c6a9": {
      "model_module": "@jupyter-widgets/controls",
      "model_module_version": "2.0.0",
      "model_name": "ButtonModel",
      "state": {
       "description": "Custom color",
       "layout": "IPY_MODEL_73dafb32120249aab76d81e621fffb1c",
       "style": "IPY_MODEL_181649cf470a48b6b8768021f79281db",
       "tooltip": null
      }
     },
     "af7527e88e9b49c4a46c6baa2f6fbbe8": {
      "model_module": "@jupyter-widgets/controls",
      "model_module_version": "2.0.0",
      "model_name": "VBoxModel",
      "state": {
       "children": [
        "IPY_MODEL_f8e76bd7a4104425bab267736f09a8b6",
        "IPY_MODEL_3c9cee6219ff481990ccb2ad0f5be3b5"
       ],
       "layout": "IPY_MODEL_58d43ef0d2004223b8fe70d5ad6975ff"
      }
     },
     "afaac9bc5e5249e194a31c3d77e60079": {
      "model_module": "@jupyter-widgets/base",
      "model_module_version": "2.0.0",
      "model_name": "LayoutModel",
      "state": {}
     },
     "afbbad76e54c4f7cb620ad5b93da3346": {
      "model_module": "@jupyter-widgets/base",
      "model_module_version": "2.0.0",
      "model_name": "LayoutModel",
      "state": {}
     },
     "afe24f2904a247f1a07dea0f815d65d2": {
      "model_module": "@jupyter-widgets/base",
      "model_module_version": "2.0.0",
      "model_name": "LayoutModel",
      "state": {}
     },
     "afe57791871444a3ae961d6e50bfdfff": {
      "model_module": "@jupyter-widgets/controls",
      "model_module_version": "2.0.0",
      "model_name": "HTMLStyleModel",
      "state": {
       "description_width": "",
       "font_size": null,
       "text_color": null
      }
     },
     "b03dc20e22e7496e90be1460fb538995": {
      "model_module": "@jupyter-widgets/controls",
      "model_module_version": "2.0.0",
      "model_name": "HTMLStyleModel",
      "state": {
       "description_width": "",
       "font_size": null,
       "text_color": null
      }
     },
     "b0624a1d676b41409f25fa170aa684f2": {
      "model_module": "@jupyter-widgets/base",
      "model_module_version": "2.0.0",
      "model_name": "LayoutModel",
      "state": {}
     },
     "b107d979237343a38cf04db4325b6778": {
      "model_module": "@jupyter-widgets/controls",
      "model_module_version": "2.0.0",
      "model_name": "HTMLStyleModel",
      "state": {
       "description_width": "",
       "font_size": null,
       "text_color": null
      }
     },
     "b1179172d02f458e82ffc322d8d66b32": {
      "model_module": "@jupyter-widgets/controls",
      "model_module_version": "2.0.0",
      "model_name": "HTMLStyleModel",
      "state": {
       "description_width": "",
       "font_size": null,
       "text_color": null
      }
     },
     "b1216873a3484871aa3268a3a49a8748": {
      "model_module": "@jupyter-widgets/controls",
      "model_module_version": "2.0.0",
      "model_name": "HTMLStyleModel",
      "state": {
       "description_width": "",
       "font_size": null,
       "text_color": null
      }
     },
     "b12d88a37aa44d2191579ca2e83da102": {
      "model_module": "@jupyter-widgets/base",
      "model_module_version": "2.0.0",
      "model_name": "LayoutModel",
      "state": {
       "margin": "0 5px 0 0"
      }
     },
     "b12fe3c855fb47868e17dbd8f3466eac": {
      "model_module": "@jupyter-widgets/controls",
      "model_module_version": "2.0.0",
      "model_name": "HBoxModel",
      "state": {
       "children": [
        "IPY_MODEL_9ae65696617946c8ba841d4c67953540",
        "IPY_MODEL_20219504be5542a2bdace5fa41e3dace"
       ],
       "layout": "IPY_MODEL_e83b807062a84c55a2c9b7947da74419"
      }
     },
     "b17fd158056d49c580ab52b5ca5c9289": {
      "model_module": "@jupyter-widgets/controls",
      "model_module_version": "2.0.0",
      "model_name": "HTMLModel",
      "state": {
       "layout": "IPY_MODEL_9ad3d3b6a5f04ca5a4f7d275664a5d92",
       "style": "IPY_MODEL_59ee7b338ef54f09a7ad9983f13ee72e",
       "value": "<div style='font-family: monospace; width: 100%;'><b>Low side</b><br><div style='border-left: 1px solid #000; padding-left: 10px;'><div style='background-color: #FEE9CD;; color: #B8520A;; display: block; white-space: pre-wrap; margin-bottom: 5px;'>status: pending</div><div style='background-color: #FEE9CD;; color: #B8520A;; display: block; white-space: pre-wrap; margin-bottom: 5px;'>approved_by: None</div><div style='background-color: transparent; color: #353243; display: block; white-space: pre-wrap; margin-bottom: 5px;'>date_created: 2024-04-27</div><div style='background-color: #D5F1D5;; color: #256B24;; display: block; white-space: pre-wrap; margin-bottom: 5px;'>code: None</div></div></div>"
      }
     },
     "b1853caf29fc4995bd433d0a26561277": {
      "model_module": "@jupyter-widgets/base",
      "model_module_version": "2.0.0",
      "model_name": "LayoutModel",
      "state": {}
     },
     "b1cff13cbbb64a1596f4e4cafaa46fcd": {
      "model_module": "@jupyter-widgets/controls",
      "model_module_version": "2.0.0",
      "model_name": "CheckboxModel",
      "state": {
       "description": "Sync",
       "disabled": false,
       "layout": "IPY_MODEL_1ecf8e81b22441c09fcd52d320f391d0",
       "style": "IPY_MODEL_21188e618e0d463abd29bfda8814d994",
       "value": true
      }
     },
     "b21825c9d7b64554b6ce5f29aff0fdad": {
      "model_module": "@jupyter-widgets/controls",
      "model_module_version": "2.0.0",
      "model_name": "VBoxModel",
      "state": {
       "children": [
        "IPY_MODEL_db5e4dd22f41454ab4e9c3ea4318f1de",
        "IPY_MODEL_738a7c767d614dcba12a0b046eeee9d2",
        "IPY_MODEL_369588f39f8944588983405c024f4514"
       ],
       "layout": "IPY_MODEL_41d41791e0e74a21a7ef4875ace70a2f"
      }
     },
     "b23fde1ed8e048c2b85e9edd30118fc3": {
      "model_module": "@jupyter-widgets/base",
      "model_module_version": "2.0.0",
      "model_name": "LayoutModel",
      "state": {}
     },
     "b287073e7f76457cbeb1d0e9b743994e": {
      "model_module": "@jupyter-widgets/controls",
      "model_module_version": "2.0.0",
      "model_name": "HBoxModel",
      "state": {
       "children": [
        "IPY_MODEL_e7a635083cb74e04b25012c38f0ddcd1",
        "IPY_MODEL_b6cdb1739f1e44d8abdd14b4d379dbdf",
        "IPY_MODEL_05dfe2ef0e08407daeb8432265b782d6"
       ],
       "layout": "IPY_MODEL_94ceb6135e274a99bf427639da80f20c"
      }
     },
     "b2a69e407f3843ffbcb65f7478048cb4": {
      "model_module": "@jupyter-widgets/base",
      "model_module_version": "2.0.0",
      "model_name": "LayoutModel",
      "state": {}
     },
     "b2b696ab51194af19a63d996a526133a": {
      "model_module": "@jupyter-widgets/controls",
      "model_module_version": "2.0.0",
      "model_name": "HTMLModel",
      "state": {
       "layout": "IPY_MODEL_5bb4c269e35b4bfdb6eaefdbd7437f80",
       "style": "IPY_MODEL_b5c93061999f40a1b272335dffc10f31",
       "value": "<span style='color: #5E5A72;'>This would sync 22 changes from <i>Low Node</i> to <i>High Node</i></span>"
      }
     },
     "b2bf93abd2a84195aeb139d495109252": {
      "model_module": "@jupyter-widgets/controls",
      "model_module_version": "2.0.0",
      "model_name": "CheckboxStyleModel",
      "state": {
       "description_width": ""
      }
     },
     "b2e08bc670d74eafb77233061dba765a": {
      "model_module": "@jupyter-widgets/controls",
      "model_module_version": "2.0.0",
      "model_name": "HTMLModel",
      "state": {
       "layout": "IPY_MODEL_806cfc14915f44c0a0941fbc61f1f467",
       "style": "IPY_MODEL_e75ed91a877240269ed724504c6b0b28",
       "value": "<div style='font-family: monospace; width: 100%;'><b>Low side</b><br><div style='border-left: 1px solid #000; padding-left: 10px;'><div style='background-color: #FEE9CD;; color: #B8520A;; display: block; white-space: pre-wrap; margin-bottom: 5px;'>status: pending</div><div style='background-color: #FEE9CD;; color: #B8520A;; display: block; white-space: pre-wrap; margin-bottom: 5px;'>approved_by: None</div><div style='background-color: transparent; color: #353243; display: block; white-space: pre-wrap; margin-bottom: 5px;'>date_created: 2024-04-27</div></div></div>"
      }
     },
     "b2ee79607411473183d43a82b75c6370": {
      "model_module": "@jupyter-widgets/controls",
      "model_module_version": "2.0.0",
      "model_name": "LabelModel",
      "state": {
       "layout": "IPY_MODEL_f152c6afc5b84808a5eeb15c29fa522a",
       "style": "IPY_MODEL_37d82e9390f4442dbdffe616ff53c8e3",
       "value": "Text1"
      }
     },
     "b30a191aebb748bba76d1f07ab184521": {
      "model_module": "@jupyter-widgets/controls",
      "model_module_version": "2.0.0",
      "model_name": "AccordionModel",
      "state": {
       "children": [
        "IPY_MODEL_c68b8dbc4c684a9e90c9f32b24f6b294",
        "IPY_MODEL_6d6518d12798425589ed41258b43ebc3"
       ],
       "layout": "IPY_MODEL_c4b03487cfa146fa8dfeabc480b7d061",
       "titles": [
        "UserCode (3 changes)",
        "Request (2 changes)"
       ]
      }
     },
     "b3221617634b45a3ad696f3c287dd1b8": {
      "model_module": "@jupyter-widgets/base",
      "model_module_version": "2.0.0",
      "model_name": "LayoutModel",
      "state": {
       "align_items": "center",
       "display": "flex"
      }
     },
     "b32b903b893a47559198037b7516d59e": {
      "model_module": "@jupyter-widgets/base",
      "model_module_version": "2.0.0",
      "model_name": "LayoutModel",
      "state": {
       "margin": "0 5px 0 0"
      }
     },
     "b334b37203644996bb9d174e8a24e8a4": {
      "model_module": "@jupyter-widgets/base",
      "model_module_version": "2.0.0",
      "model_name": "LayoutModel",
      "state": {}
     },
     "b36a9afa538849b7a00838a9a4e125af": {
      "model_module": "@jupyter-widgets/controls",
      "model_module_version": "2.0.0",
      "model_name": "CheckboxStyleModel",
      "state": {
       "description_width": ""
      }
     },
     "b3b38a4f062641dc800020b86cfa95af": {
      "model_module": "@jupyter-widgets/controls",
      "model_module_version": "2.0.0",
      "model_name": "HBoxModel",
      "state": {
       "children": [
        "IPY_MODEL_f4ed8960f6944d16a6288b8647525814",
        "IPY_MODEL_783e94f4fe0f4b0eaa436b6610ef6a14"
       ],
       "layout": "IPY_MODEL_def2f13cfc714f3f8d94688d1525ae59"
      }
     },
     "b3bdcea6eb2a4ef8b76a97b9987df491": {
      "model_module": "@jupyter-widgets/output",
      "model_module_version": "1.0.0",
      "model_name": "OutputModel",
      "state": {
       "layout": "IPY_MODEL_0af6bf74caf74080bf6b3975e8b80cfe"
      }
     },
     "b3dba39e7d724a76b0ce27ee82b97ee2": {
      "model_module": "@jupyter-widgets/base",
      "model_module_version": "2.0.0",
      "model_name": "LayoutModel",
      "state": {}
     },
     "b40296a2fc2c4fcaafca9381eb86839d": {
      "model_module": "@jupyter-widgets/controls",
      "model_module_version": "2.0.0",
      "model_name": "CheckboxModel",
      "state": {
       "description": "Share private data",
       "disabled": false,
       "layout": "IPY_MODEL_fc1c50df4d3448839eb3b0a151b3f8f0",
       "style": "IPY_MODEL_d4240ab130e44ef0be826e48651ef51c",
       "value": false
      }
     },
     "b41227aa9bc84de48110d451b3e930aa": {
      "model_module": "@jupyter-widgets/controls",
      "model_module_version": "2.0.0",
      "model_name": "HBoxModel",
      "state": {
       "children": [
        "IPY_MODEL_80e9614cca2746b7b12930bf12fabbaa",
        "IPY_MODEL_13a2242197e24cd8838ed486706551a3"
       ],
       "layout": "IPY_MODEL_9e161ff86b0d488dafa5bf0dddef10b0"
      }
     },
     "b414ec81e3224561a3e5f9c1bf5140c4": {
      "model_module": "@jupyter-widgets/controls",
      "model_module_version": "2.0.0",
      "model_name": "AccordionModel",
      "state": {
       "children": [
        "IPY_MODEL_77a45fa921c74cd094043da34013a823",
        "IPY_MODEL_c698c686521b48459a73ee1e5a628043"
       ],
       "layout": "IPY_MODEL_574d6bdccf174fdfb76b0083d9307f71",
       "titles": [
        "UserCode (4 changes)",
        "Request (3 changes)"
       ]
      }
     },
     "b433058da2ca4306ae5c771634d462ee": {
      "model_module": "@jupyter-widgets/controls",
      "model_module_version": "2.0.0",
      "model_name": "VBoxModel",
      "state": {
       "children": [
        "IPY_MODEL_ba4bb66c1bff44f1a50ee962b66583b9",
        "IPY_MODEL_0e99bdfc05d040d6a7056c20b2bf4e39"
       ],
       "layout": "IPY_MODEL_43fc6e1e7780486496ae2b6ac050a8c1"
      }
     },
     "b467a1b195cf402db1308c6125962aa4": {
      "model_module": "@jupyter-widgets/controls",
      "model_module_version": "2.0.0",
      "model_name": "HTMLStyleModel",
      "state": {
       "description_width": "",
       "font_size": null,
       "text_color": null
      }
     },
     "b4a0c9f66dce480b87b18bf21fc1ff52": {
      "model_module": "@jupyter-widgets/controls",
      "model_module_version": "2.0.0",
      "model_name": "VBoxModel",
      "state": {
       "children": [
        "IPY_MODEL_f9675510f3284392ab804f4e17db6dcc",
        "IPY_MODEL_8cfb610ea487479ea2f0ffeaced34729"
       ],
       "layout": "IPY_MODEL_81f1162360064fdeb575a57f529df574"
      }
     },
     "b4b5d2c41b684928897cf11ff44319e6": {
      "model_module": "@jupyter-widgets/controls",
      "model_module_version": "2.0.0",
      "model_name": "HTMLStyleModel",
      "state": {
       "description_width": "",
       "font_size": null,
       "text_color": null
      }
     },
     "b4d9e57cc947476c8fd7e43ec23b63a4": {
      "model_module": "@jupyter-widgets/controls",
      "model_module_version": "2.0.0",
      "model_name": "HBoxModel",
      "state": {
       "children": [
        "IPY_MODEL_db3743b4f33e43aca5de55fc30c3a101"
       ],
       "layout": "IPY_MODEL_2d74bd0890774805a9f461707837da6d"
      }
     },
     "b519be7b67904ca88e67b021769e004d": {
      "model_module": "@jupyter-widgets/controls",
      "model_module_version": "2.0.0",
      "model_name": "HTMLStyleModel",
      "state": {
       "description_width": "",
       "font_size": null,
       "text_color": null
      }
     },
     "b52a5f9e8e1447a48e56ba79a505488b": {
      "model_module": "@jupyter-widgets/controls",
      "model_module_version": "2.0.0",
      "model_name": "HBoxModel",
      "state": {
       "layout": "IPY_MODEL_8ae454700b4641629473592623ddcedb"
      }
     },
     "b59bc747a3ee45a992125a13119abd36": {
      "model_module": "@jupyter-widgets/controls",
      "model_module_version": "2.0.0",
      "model_name": "HTMLModel",
      "state": {
       "layout": "IPY_MODEL_3325e3fd8162448ba4b58238a7cdb939",
       "style": "IPY_MODEL_9e0a795fda7d4936bd0f6c08d99eddf8",
       "value": "<div style='font-family: monospace; width: 100%;'><b>High side</b><br><div style='border-left: 1px solid #000; padding-left: 10px;'><div style='background-color: #FEE9CD;; color: #B8520A;; display: block; white-space: pre-wrap; margin-bottom: 5px;'>status: approved</div><div style='background-color: #FEE9CD;; color: #B8520A;; display: block; white-space: pre-wrap; margin-bottom: 5px;'>approved_by: admin</div><div style='background-color: transparent; color: #353243; display: block; white-space: pre-wrap; margin-bottom: 5px;'>date_created: 2024-04-27</div></div></div>"
      }
     },
     "b5c93061999f40a1b272335dffc10f31": {
      "model_module": "@jupyter-widgets/controls",
      "model_module_version": "2.0.0",
      "model_name": "HTMLStyleModel",
      "state": {
       "description_width": "",
       "font_size": null,
       "text_color": null
      }
     },
     "b5f3c13b8bb64a748674433ba428e46a": {
      "model_module": "@jupyter-widgets/controls",
      "model_module_version": "2.0.0",
      "model_name": "AccordionModel",
      "state": {
       "children": [
        "IPY_MODEL_a73446b48b4246e880ae649b7d2b4019"
       ],
       "layout": "IPY_MODEL_df7b51d107584e2aab31ea96df35fb1a",
       "titles": [
        "Request (2 changes)"
       ]
      }
     },
     "b6277456853c48d0981663720b30f397": {
      "model_module": "@jupyter-widgets/base",
      "model_module_version": "2.0.0",
      "model_name": "LayoutModel",
      "state": {}
     },
     "b6a74cce17d74563b5a5a3b080d5af81": {
      "model_module": "@jupyter-widgets/base",
      "model_module_version": "2.0.0",
      "model_name": "LayoutModel",
      "state": {
       "overflow": "auto",
       "width": "50%"
      }
     },
     "b6a99fa688024f4c8bae30d613d50de7": {
      "model_module": "@jupyter-widgets/base",
      "model_module_version": "2.0.0",
      "model_name": "LayoutModel",
      "state": {}
     },
     "b6b75feaddee455faff086208e9327b4": {
      "model_module": "@jupyter-widgets/controls",
      "model_module_version": "2.0.0",
      "model_name": "HTMLModel",
      "state": {
       "layout": "IPY_MODEL_5d1fd2f99a2a4e188677f0db9daa9c07",
       "style": "IPY_MODEL_840ff70458ed43708ec7106bf955cab3",
       "value": "<div style='font-family: monospace; width: 100%;'><b>High side</b><br><div style='border-left: 1px solid #000; padding-left: 10px;'><div style='background-color: #FEE9CD;; color: #B8520A;; display: block; white-space: pre-wrap; margin-bottom: 5px;'>status: approved</div><div style='background-color: #FEE9CD;; color: #B8520A;; display: block; white-space: pre-wrap; margin-bottom: 5px;'>approved_by: admin</div><div style='background-color: transparent; color: #353243; display: block; white-space: pre-wrap; margin-bottom: 5px;'>date_created: 2024-04-27</div></div></div>"
      }
     },
     "b6cdb1739f1e44d8abdd14b4d379dbdf": {
      "model_module": "@jupyter-widgets/controls",
      "model_module_version": "2.0.0",
      "model_name": "HTMLModel",
      "state": {
       "layout": "IPY_MODEL_3f7247d03a8b4fd89c338443f896b9d5",
       "style": "IPY_MODEL_da0390816c4740cfba8e6ad4446c80c5",
       "value": "<span style='margin-left: 5px; font-weight: bold; color: #373B7B;'>main_1</span> <span style='margin-left: 5px; color: #B4B0BF;'>#1234...</span>"
      }
     },
     "b777acd8e36b4c028c1ec9d83756e4a2": {
      "model_module": "@jupyter-widgets/controls",
      "model_module_version": "2.0.0",
      "model_name": "HTMLModel",
      "state": {
       "layout": "IPY_MODEL_a4cc74375f964fd6bdc52716580ccdd8",
       "style": "IPY_MODEL_05deb37d2f58408f81758b5c3b37ac64",
       "value": "<div style='font-family: monospace; width: 100%;'><b>Low side</b><br><div style='border-left: 1px solid #000; padding-left: 10px;'><div style='background-color: #ffffcc;display: block; white-space: pre-wrap; margin-bottom: 5px;'>status: pending</div><div style='background-color: #ffffcc;display: block; white-space: pre-wrap; margin-bottom: 5px;'>approved_by: None</div><div style='display: block; white-space: pre-wrap; margin-bottom: 5px;'>date_created: 2024-04-27</div><div style='background-color: #ddffdd;display: block; white-space: pre-wrap; margin-bottom: 5px;'>code: None</div></div></div>"
      }
     },
     "b78d8f761f4542f3a8154e29a9a2b2b5": {
      "model_module": "@jupyter-widgets/controls",
      "model_module_version": "2.0.0",
      "model_name": "HTMLStyleModel",
      "state": {
       "description_width": "",
       "font_size": null,
       "text_color": null
      }
     },
     "b7a46be4713e4e6ea88ed51c50054d9a": {
      "model_module": "@jupyter-widgets/base",
      "model_module_version": "2.0.0",
      "model_name": "LayoutModel",
      "state": {
       "margin": "0 5px 0 0"
      }
     },
     "b88011088b95464197993f1685c39f3e": {
      "model_module": "@jupyter-widgets/controls",
      "model_module_version": "2.0.0",
      "model_name": "HTMLModel",
      "state": {
       "layout": "IPY_MODEL_748d1ca629eb403e954e51e2b0fdc644",
       "style": "IPY_MODEL_7206b5b4d0df4b31b01e73b4cb890f02",
       "value": "<div style='font-family: monospace; width: 100%;'><b>Low side</b><br><div style='border-left: 1px solid #000; padding-left: 10px;'><div style='background-color: #ffffcc;display: block; white-space: pre-wrap; margin-bottom: 5px;'>status: pending</div><div style='background-color: #ffffcc;display: block; white-space: pre-wrap; margin-bottom: 5px;'>approved_by: None</div><div style='display: block; white-space: pre-wrap; margin-bottom: 5px;'>date_created: 2024-04-27</div></div></div>"
      }
     },
     "b8afd13aafbb440a9baabdc734564223": {
      "model_module": "@jupyter-widgets/output",
      "model_module_version": "1.0.0",
      "model_name": "OutputModel",
      "state": {
       "layout": "IPY_MODEL_69bfb5fb5d814ffd829cfc30adcd4900"
      }
     },
     "b8df7ccc8f544feda22fa6a2f51d4ec3": {
      "model_module": "@jupyter-widgets/base",
      "model_module_version": "2.0.0",
      "model_name": "LayoutModel",
      "state": {}
     },
     "b8e91e05dba94078b6c3622e97717579": {
      "model_module": "@jupyter-widgets/controls",
      "model_module_version": "2.0.0",
      "model_name": "HBoxModel",
      "state": {
       "children": [
        "IPY_MODEL_c3ca524ab6dc4ac8b078d00d6e3e0ba5",
        "IPY_MODEL_206104312f87415bb760e90bfef2c7c6"
       ],
       "layout": "IPY_MODEL_915d190fa14944388a71b6df04e2da03"
      }
     },
     "b8f0a513262c4131b5f48a8cb4fc7495": {
      "model_module": "@jupyter-widgets/controls",
      "model_module_version": "2.0.0",
      "model_name": "HTMLStyleModel",
      "state": {
       "description_width": "",
       "font_size": null,
       "text_color": null
      }
     },
     "b934125e87984720a9ed7942abaa091b": {
      "model_module": "@jupyter-widgets/controls",
      "model_module_version": "2.0.0",
      "model_name": "CheckboxStyleModel",
      "state": {
       "description_width": ""
      }
     },
     "b98a5630c6474126bd91488cd73481b4": {
      "model_module": "@jupyter-widgets/controls",
      "model_module_version": "2.0.0",
      "model_name": "HBoxModel",
      "state": {
       "children": [
        "IPY_MODEL_653aa268a26f41728e9a6603e52edcfb"
       ],
       "layout": "IPY_MODEL_da34b052b3994b859bc6d144ed9ea875"
      }
     },
     "b98f26293fdf44cf9ff9d7f52b6ec8bd": {
      "model_module": "@jupyter-widgets/base",
      "model_module_version": "2.0.0",
      "model_name": "LayoutModel",
      "state": {}
     },
     "b991c8f1586e435b87d822f70623289e": {
      "model_module": "@jupyter-widgets/controls",
      "model_module_version": "2.0.0",
      "model_name": "VBoxModel",
      "state": {
       "children": [
        "IPY_MODEL_781affb43f65481b89142714f99b5f68",
        "IPY_MODEL_677156cba6cd46f7b17cf7e572d30dbd"
       ],
       "layout": "IPY_MODEL_632a33e8b2414c70b2390ad6bdf68fd8"
      }
     },
     "b9be4049442c4885b9d1ac6647a1f9a2": {
      "model_module": "@jupyter-widgets/base",
      "model_module_version": "2.0.0",
      "model_name": "LayoutModel",
      "state": {}
     },
     "b9ca3381680447e18ab103222d03b8e7": {
      "model_module": "@jupyter-widgets/base",
      "model_module_version": "2.0.0",
      "model_name": "LayoutModel",
      "state": {}
     },
     "b9d5a4c348924dbe9cc841948e31596c": {
      "model_module": "@jupyter-widgets/base",
      "model_module_version": "2.0.0",
      "model_name": "LayoutModel",
      "state": {
       "overflow": "auto",
       "width": "50%"
      }
     },
     "b9e4f20b5b134f91b31fc4058703dc13": {
      "model_module": "@jupyter-widgets/controls",
      "model_module_version": "2.0.0",
      "model_name": "HTMLStyleModel",
      "state": {
       "description_width": "",
       "font_size": null,
       "text_color": null
      }
     },
     "ba1af692d1a344dfabec71e096291b26": {
      "model_module": "@jupyter-widgets/controls",
      "model_module_version": "2.0.0",
      "model_name": "VBoxModel",
      "state": {
       "children": [
        "IPY_MODEL_9dca77c48f1841c0bedd4714c8756c3c",
        "IPY_MODEL_d4fc330d8ea549ea8cdc65d28a03e816"
       ],
       "layout": "IPY_MODEL_da1d0038ea05405ca6ca0716bcb8d947"
      }
     },
     "ba1bfbd177414081a5144ccfe1af8e19": {
      "model_module": "@jupyter-widgets/controls",
      "model_module_version": "2.0.0",
      "model_name": "HTMLModel",
      "state": {
       "layout": "IPY_MODEL_f5fbc7d91ac2488c88e46aeb716c799c",
       "style": "IPY_MODEL_3876a28946ba4481a54b446490554ba3",
       "value": "<div style='font-family: monospace; width: 100%;'><b>High side</b><br><div style='border-left: 1px solid #000; padding-left: 10px;'><div style='background-color: #FEE9CD;; color: #B8520A;; display: block; white-space: pre-wrap; margin-bottom: 5px;'>status: approved</div><div style='background-color: #FEE9CD;; color: #B8520A;; display: block; white-space: pre-wrap; margin-bottom: 5px;'>approved_by: admin</div><div style='background-color: transparent; color: #353243; display: block; white-space: pre-wrap; margin-bottom: 5px;'>date_created: 2024-04-27</div><div style='background-color: #D5F1D5;; color: #256B24;; display: block; white-space: pre-wrap; margin-bottom: 5px;'>code: @syft.function\ndef compute_mean(data: np.ndarray):\n    print(\"computing mean...\")\n    return data.mean()\n</div></div></div>"
      }
     },
     "ba28e2f54b194845beec891e890cde5d": {
      "model_module": "@jupyter-widgets/base",
      "model_module_version": "2.0.0",
      "model_name": "LayoutModel",
      "state": {}
     },
     "ba4bb66c1bff44f1a50ee962b66583b9": {
      "model_module": "@jupyter-widgets/controls",
      "model_module_version": "2.0.0",
      "model_name": "HBoxModel",
      "state": {
       "layout": "IPY_MODEL_fa392acd6c3c4162991465baeef41a97"
      }
     },
     "ba5936f22bf243d89e079973ba3bf20b": {
      "model_module": "@jupyter-widgets/controls",
      "model_module_version": "2.0.0",
      "model_name": "HTMLModel",
      "state": {
       "layout": "IPY_MODEL_e46823ea3cf149ab83aa25d6cdf45fdc",
       "style": "IPY_MODEL_765177aa3c3041a0a0509cad7c933587",
       "value": "<span style='color: #B4B0BF;'>Syncing changes on</span>"
      }
     },
     "ba5a93cd0f2e4bcf9be98c567bcfcf61": {
      "model_module": "@jupyter-widgets/controls",
      "model_module_version": "2.0.0",
      "model_name": "HTMLModel",
      "state": {
       "layout": "IPY_MODEL_269addb6671747b4971e71a4c6c43e33",
       "style": "IPY_MODEL_a63a2aef881a4d2a9eb4327f0caf8ad7",
       "value": "<div style='font-family: monospace; width: 100%;'>Low side<br><div style='border-left: 1px solid #000; padding-left: 10px;'><div style='background-color: #FEE9CD;; color: #B8520A;; display: block; white-space: pre-wrap; margin-bottom: 5px;'>status: pending</div><div style='background-color: #FEE9CD;; color: #B8520A;; display: block; white-space: pre-wrap; margin-bottom: 5px;'>approved_by: None</div><div style='background-color: transparent; color: #353243; display: block; white-space: pre-wrap; margin-bottom: 5px;'>date_created: 2024-04-27</div></div></div>"
      }
     },
     "ba6a7f749fa94529ba0af5998b3ca923": {
      "model_module": "@jupyter-widgets/controls",
      "model_module_version": "2.0.0",
      "model_name": "HTMLModel",
      "state": {
       "layout": "IPY_MODEL_b7a46be4713e4e6ea88ed51c50054d9a",
       "style": "IPY_MODEL_69e35159ddc748e3a04c9fca3809b954",
       "value": "<span style='background-color: #C2DEF0; border-radius: 4px; padding: 4px 6px; color: #373B7B;'>Code</span>"
      }
     },
     "bad144be09cd4712b83e53cf8517b78b": {
      "model_module": "@jupyter-widgets/controls",
      "model_module_version": "2.0.0",
      "model_name": "HTMLStyleModel",
      "state": {
       "description_width": "",
       "font_size": null,
       "text_color": null
      }
     },
     "bae8d2555c094d008a660c074854d9b7": {
      "model_module": "@jupyter-widgets/base",
      "model_module_version": "2.0.0",
      "model_name": "LayoutModel",
      "state": {}
     },
     "bb77cf6e5b8b437d9c7407f122912ea5": {
      "model_module": "@jupyter-widgets/base",
      "model_module_version": "2.0.0",
      "model_name": "LayoutModel",
      "state": {}
     },
     "bbb3a60516b34371ae65c2f793843cea": {
      "model_module": "@jupyter-widgets/controls",
      "model_module_version": "2.0.0",
      "model_name": "HTMLStyleModel",
      "state": {
       "description_width": "",
       "font_size": null,
       "text_color": null
      }
     },
     "bbbb2170a21346668c241221f8a36583": {
      "model_module": "@jupyter-widgets/base",
      "model_module_version": "2.0.0",
      "model_name": "LayoutModel",
      "state": {
       "display": "none"
      }
     },
     "bbda2bd3b5b04f2bab0f99a98bd0af45": {
      "model_module": "@jupyter-widgets/controls",
      "model_module_version": "2.0.0",
      "model_name": "HBoxModel",
      "state": {
       "children": [
        "IPY_MODEL_18f8708d25624c8c9a9a614b361e6d52",
        "IPY_MODEL_59bc00229f344bceb0d4a9f95594d761",
        "IPY_MODEL_735668d65a1042b5b211fa4c726370b8"
       ],
       "layout": "IPY_MODEL_35e7f39079d04c84ba3b226a26495a38"
      }
     },
     "bc1e51bf96934a0a84bce34a5b047676": {
      "model_module": "@jupyter-widgets/controls",
      "model_module_version": "2.0.0",
      "model_name": "BoxModel",
      "state": {
       "children": [
        "IPY_MODEL_452ce5ab5f954fe788ac548481ec31f3",
        "IPY_MODEL_24d01c8854e74ce6b26228c2018c945c"
       ],
       "layout": "IPY_MODEL_3e6b775b561b49a58238be0ce2412f72"
      }
     },
     "bc43fc0df1284735b2809f8e79791c66": {
      "model_module": "@jupyter-widgets/controls",
      "model_module_version": "2.0.0",
      "model_name": "BoxModel",
      "state": {
       "children": [
        "IPY_MODEL_975ef86184804d8f829642a9ae1c4533",
        "IPY_MODEL_fd2164ee0e9a47dd8c13140b285a710a"
       ],
       "layout": "IPY_MODEL_73766d0219464004881ae02a76712352"
      }
     },
     "bc46631b4d0a42e48b5c8cbdc7631e25": {
      "model_module": "@jupyter-widgets/controls",
      "model_module_version": "2.0.0",
      "model_name": "ButtonModel",
      "state": {
       "icon": "clone",
       "layout": "IPY_MODEL_6e166d5a608749a3b148f1c7abcb0317",
       "style": "IPY_MODEL_54c72ae6cd5e450c8832ce7cfe8a03bc",
       "tooltip": null
      }
     },
     "bc6459dee7fd4d2dbaf7268164ce1e10": {
      "model_module": "@jupyter-widgets/controls",
      "model_module_version": "2.0.0",
      "model_name": "HBoxModel",
      "state": {
       "children": [
        "IPY_MODEL_54b45a04c9264b9a82b400c9ab8799e5",
        "IPY_MODEL_64705b196b374147aebdcd9a88f4c8c6"
       ],
       "layout": "IPY_MODEL_a21e7b4281b245ad8089a21cd5f4503c"
      }
     },
     "bc8788cdf6604ffb9df794c9925b2e6e": {
      "model_module": "@jupyter-widgets/base",
      "model_module_version": "2.0.0",
      "model_name": "LayoutModel",
      "state": {}
     },
     "bd38517e6f7741f8bcba3fc293698549": {
      "model_module": "@jupyter-widgets/controls",
      "model_module_version": "2.0.0",
      "model_name": "CheckboxStyleModel",
      "state": {
       "description_width": ""
      }
     },
     "bd636a9646c549a892f2474202790125": {
      "model_module": "@jupyter-widgets/controls",
      "model_module_version": "2.0.0",
      "model_name": "HTMLModel",
      "state": {
       "layout": "IPY_MODEL_aeefc7827a4447d294e736c2de64a9f0",
       "style": "IPY_MODEL_2586ba3496024aeda1fb2e8425353fba",
       "value": "<div style='font-family: monospace; width: 100%;'><b>Low side</b><br><div style='border-left: 1px solid #000; padding-left: 10px;'><div style='background-color: #FEE9CD;; color: #B8520A;; display: block; white-space: pre-wrap; margin-bottom: 5px;'>status: pending</div><div style='background-color: #FEE9CD;; color: #B8520A;; display: block; white-space: pre-wrap; margin-bottom: 5px;'>approved_by: None</div><div style='background-color: transparent; color: #353243; display: block; white-space: pre-wrap; margin-bottom: 5px;'>date_created: 2024-04-27</div></div></div>"
      }
     },
     "bdb43504b06746f78893208e071cbd60": {
      "model_module": "@jupyter-widgets/controls",
      "model_module_version": "2.0.0",
      "model_name": "HTMLModel",
      "state": {
       "layout": "IPY_MODEL_665221392ac54daba38bcbf3043abfa6",
       "style": "IPY_MODEL_be7f623faa24499f9f75bdd2ce1e5ae4",
       "value": "<div style='font-family: monospace; width: 100%;'><b>Low side</b><br><div style='border-left: 1px solid #000; padding-left: 10px;'><div style='background-color: #FEE9CD;; color: #B8520A;; display: block; white-space: pre-wrap; margin-bottom: 5px;'>status: pending</div><div style='background-color: #FEE9CD;; color: #B8520A;; display: block; white-space: pre-wrap; margin-bottom: 5px;'>approved_by: None</div><div style='background-color: transparent; color: #353243; display: block; white-space: pre-wrap; margin-bottom: 5px;'>date_created: 2024-04-27</div><div style='background-color: #D5F1D5;; color: #256B24;; display: block; white-space: pre-wrap; margin-bottom: 5px;'>code: None</div></div></div>"
      }
     },
     "bdd60927fd784873ad4de7689798f927": {
      "model_module": "@jupyter-widgets/base",
      "model_module_version": "2.0.0",
      "model_name": "LayoutModel",
      "state": {
       "overflow": "auto",
       "width": "50%"
      }
     },
     "be56b4976c564f268758cf69a794e93b": {
      "model_module": "@jupyter-widgets/base",
      "model_module_version": "2.0.0",
      "model_name": "LayoutModel",
      "state": {
       "align_items": "center"
      }
     },
     "be64df8865634b1ca3c57274a2ec4179": {
      "model_module": "@jupyter-widgets/controls",
      "model_module_version": "2.0.0",
      "model_name": "VBoxModel",
      "state": {
       "children": [
        "IPY_MODEL_70d7b5a967a7419eb2318aa0ce0c5c43",
        "IPY_MODEL_b287073e7f76457cbeb1d0e9b743994e",
        "IPY_MODEL_1148a1cb65b541958049ac53bf2d7455"
       ],
       "layout": "IPY_MODEL_a3d9bafde96840bba02a2b411754f73b"
      }
     },
     "be7f623faa24499f9f75bdd2ce1e5ae4": {
      "model_module": "@jupyter-widgets/controls",
      "model_module_version": "2.0.0",
      "model_name": "HTMLStyleModel",
      "state": {
       "description_width": "",
       "font_size": null,
       "text_color": null
      }
     },
     "be80bb637a124a028f34eb2fe86dd4e6": {
      "model_module": "@jupyter-widgets/controls",
      "model_module_version": "2.0.0",
      "model_name": "HTMLStyleModel",
      "state": {
       "description_width": "",
       "font_size": null,
       "text_color": null
      }
     },
     "beb683172f1d4311bac3d48f25a7b27f": {
      "model_module": "@jupyter-widgets/base",
      "model_module_version": "2.0.0",
      "model_name": "LayoutModel",
      "state": {
       "overflow": "auto",
       "width": "50%"
      }
     },
     "bf029825d299483ea7ae15b962ceeb79": {
      "model_module": "@jupyter-widgets/controls",
      "model_module_version": "2.0.0",
      "model_name": "HTMLModel",
      "state": {
       "layout": "IPY_MODEL_f071eb183ba44fafafa863fa9ddea0de",
       "style": "IPY_MODEL_91465bb6d4d24e3da6269b77cca5c1fc",
       "value": "<span style='background-color: #C2DEF0; border-radius: 4px; padding: 4px 6px; color: #373B7B;'>Code</span>"
      }
     },
     "bf062c8fdce649f7be25280e76f16360": {
      "model_module": "@jupyter-widgets/controls",
      "model_module_version": "2.0.0",
      "model_name": "HBoxModel",
      "state": {
       "layout": "IPY_MODEL_a335438432b341ca943ffb6c031fa16d"
      }
     },
     "bfb19affd3864c85bb0a9cb06fb4c225": {
      "model_module": "@jupyter-widgets/controls",
      "model_module_version": "2.0.0",
      "model_name": "VBoxModel",
      "state": {
       "children": [
        "IPY_MODEL_6f0de98a2dc348e9b77b2e2b1e500faa",
        "IPY_MODEL_847a7cc3bd794d14b2723703ea2b4f75"
       ],
       "layout": "IPY_MODEL_c4a6715a4a5d4a4680d266840ed84381"
      }
     },
     "bfd409790f184f50a91c268dc1ae8036": {
      "model_module": "@jupyter-widgets/base",
      "model_module_version": "2.0.0",
      "model_name": "LayoutModel",
      "state": {
       "overflow": "auto",
       "width": "50%"
      }
     },
     "c01628222af2420a95250e2419b1729a": {
      "model_module": "@jupyter-widgets/controls",
      "model_module_version": "2.0.0",
      "model_name": "BoxModel",
      "state": {
       "children": [
        "IPY_MODEL_2e9b713e86d549b4b3f959defa7454b3"
       ],
       "layout": "IPY_MODEL_84d0abfe4e514f6d879646fc6f779109"
      }
     },
     "c111c46e0d0b4185bf9be201df2d10a4": {
      "model_module": "@jupyter-widgets/controls",
      "model_module_version": "2.0.0",
      "model_name": "HTMLModel",
      "state": {
       "layout": "IPY_MODEL_ca06ab313d3e4104b09fbd9e241f2182",
       "style": "IPY_MODEL_b8f0a513262c4131b5f48a8cb4fc7495",
       "value": "<div style='font-family: monospace; width: 100%;'><b>Low side</b><br><div style='border-left: 1px solid #000; padding-left: 10px;'><div style='background-color: #ffffcc;display: block; white-space: pre-wrap; margin-bottom: 5px;'>status: pending</div><div style='background-color: #ffffcc;display: block; white-space: pre-wrap; margin-bottom: 5px;'>approved_by: None</div><div style='display: block; white-space: pre-wrap; margin-bottom: 5px;'>date_created: 2024-04-27</div><div style='background-color: #ddffdd;display: block; white-space: pre-wrap; margin-bottom: 5px;'>code: None</div></div></div>"
      }
     },
     "c125ec38a1374b81a79742e3c18ba18c": {
      "model_module": "@jupyter-widgets/base",
      "model_module_version": "2.0.0",
      "model_name": "LayoutModel",
      "state": {
       "border_bottom": "solid 1px",
       "border_left": "solid 1px",
       "border_right": "solid 1px",
       "border_top": "solid 1px",
       "padding": "50px"
      }
     },
     "c18148accc8a4dbb98f857f1eff1a976": {
      "model_module": "@jupyter-widgets/base",
      "model_module_version": "2.0.0",
      "model_name": "LayoutModel",
      "state": {}
     },
     "c1b4cae6138a45adb1818a91a8ca4ce7": {
      "model_module": "@jupyter-widgets/controls",
      "model_module_version": "2.0.0",
      "model_name": "HTMLModel",
      "state": {
       "layout": "IPY_MODEL_49f5c91d75464d75b4a322fa88fe7e05",
       "style": "IPY_MODEL_26fba86b035f40bfbe2ced4414564a31",
       "value": "<div style='font-family: monospace; width: 100%;'>To<br><div style='border-left: 1px solid #B4B0BF; padding-left: 10px;'><div style='background-color: #FEE9CD;; color: #B8520A;; display: block; white-space: pre-wrap; margin-bottom: 5px;'>status: approved</div><div style='background-color: #FEE9CD;; color: #B8520A;; display: block; white-space: pre-wrap; margin-bottom: 5px;'>approved_by: admin</div><div style='background-color: transparent; color: #353243; display: block; white-space: pre-wrap; margin-bottom: 5px;'>date_created: 2024-04-27</div></div></div>"
      }
     },
     "c1bba8924ce643b8879ff13a1520924f": {
      "model_module": "@jupyter-widgets/controls",
      "model_module_version": "2.0.0",
      "model_name": "HTMLStyleModel",
      "state": {
       "description_width": "",
       "font_size": null,
       "text_color": null
      }
     },
     "c1c47decbaa747ecb2e0ea5494b7a227": {
      "model_module": "@jupyter-widgets/controls",
      "model_module_version": "2.0.0",
      "model_name": "HTMLModel",
      "state": {
       "layout": "IPY_MODEL_a042055ec6c04a9d9cfef2907ba9882f",
       "style": "IPY_MODEL_470874bfd9c94690b09974075ec1d7eb",
       "value": "<span style='margin-left: 5px; font-weight: bold; color: #373B7B;'>compute_mean</span> <span style='margin-left: 5px; color: #B4B0BF;'>#1234...</span>"
      }
     },
     "c2350470d04349aeb2bcefaa7e8cb25e": {
      "model_module": "@jupyter-widgets/controls",
      "model_module_version": "2.0.0",
      "model_name": "HTMLStyleModel",
      "state": {
       "description_width": "",
       "font_size": null,
       "text_color": null
      }
     },
     "c268048cadea4e33b62b574743c77688": {
      "model_module": "@jupyter-widgets/controls",
      "model_module_version": "2.0.0",
      "model_name": "HTMLModel",
      "state": {
       "layout": "IPY_MODEL_c72fbbf019aa4e2a8ed26154e082dc3d",
       "style": "IPY_MODEL_6639dc31388744d3bbd6b2bef7a5e46e",
       "value": "<div style='font-family: monospace; width: 100%;'>High side<br><div style='border-left: 1px solid #B4B0BF; padding-left: 10px;'><div style='background-color: #FEE9CD;; color: #B8520A;; display: block; white-space: pre-wrap; margin-bottom: 5px;'>status: approved</div><div style='background-color: #FEE9CD;; color: #B8520A;; display: block; white-space: pre-wrap; margin-bottom: 5px;'>approved_by: admin</div><div style='background-color: transparent; color: #353243; display: block; white-space: pre-wrap; margin-bottom: 5px;'>date_created: 2024-04-27</div><div style='background-color: #D5F1D5;; color: #256B24;; display: block; white-space: pre-wrap; margin-bottom: 5px;'>code: @syft.function\ndef compute_mean(data: np.ndarray):\n    print(\"computing mean...\")\n    return data.mean()\n</div></div></div>"
      }
     },
     "c28a100cdad745dfa48b58502ea47a7d": {
      "model_module": "@jupyter-widgets/controls",
      "model_module_version": "2.0.0",
      "model_name": "HTMLModel",
      "state": {
       "layout": "IPY_MODEL_7783a9f34839401aa1f5d61192781988",
       "style": "IPY_MODEL_45cfc40a4f6a4608a97cca6e4a96a720",
       "value": "<span style='color: #B4B0BF;'>Syncing changes on</span>"
      }
     },
     "c32406bac03a425fbd21940efbdbdbf9": {
      "model_module": "@jupyter-widgets/base",
      "model_module_version": "2.0.0",
      "model_name": "LayoutModel",
      "state": {}
     },
     "c3442f3606e3416f8a032603403b8c89": {
      "model_module": "@jupyter-widgets/controls",
      "model_module_version": "2.0.0",
      "model_name": "CheckboxStyleModel",
      "state": {
       "description_width": ""
      }
     },
     "c37b27fa57534d9c84800e68826a492c": {
      "model_module": "@jupyter-widgets/controls",
      "model_module_version": "2.0.0",
      "model_name": "HTMLModel",
      "state": {
       "layout": "IPY_MODEL_908ced944ebd47fb9c611900d81dc929",
       "style": "IPY_MODEL_61281f01266c4041959c9f3687e53ed6",
       "value": "<div style='font-family: monospace; width: 100%;'><b>Low side</b><br><div style='border-left: 1px solid #000; padding-left: 10px;'><div style='background-color: #FEE9CD;; color: #B8520A;; display: block; white-space: pre-wrap; margin-bottom: 5px;'>status: pending</div><div style='background-color: #FEE9CD;; color: #B8520A;; display: block; white-space: pre-wrap; margin-bottom: 5px;'>approved_by: None</div><div style='background-color: transparent; color: #353243; display: block; white-space: pre-wrap; margin-bottom: 5px;'>date_created: 2024-04-27</div></div></div>"
      }
     },
     "c37d56a81daa4e2f896327e214dded5a": {
      "model_module": "@jupyter-widgets/controls",
      "model_module_version": "2.0.0",
      "model_name": "HTMLModel",
      "state": {
       "layout": "IPY_MODEL_cdbe786e2c364c43911f79b9c9ed8fb5",
       "style": "IPY_MODEL_9a8b43da6084476b86acc9ca323ba36c",
       "value": "<span style='color: #B4B0BF;'>Syncing changes on</span>"
      }
     },
     "c394c58d26f54f0fbd13e8d2bacd9ac5": {
      "model_module": "@jupyter-widgets/base",
      "model_module_version": "2.0.0",
      "model_name": "LayoutModel",
      "state": {
       "overflow": "auto",
       "width": "50%"
      }
     },
     "c3a69c50fc7c48af8ec8282fa3aa4f46": {
      "model_module": "@jupyter-widgets/base",
      "model_module_version": "2.0.0",
      "model_name": "LayoutModel",
      "state": {}
     },
     "c3ca524ab6dc4ac8b078d00d6e3e0ba5": {
      "model_module": "@jupyter-widgets/controls",
      "model_module_version": "2.0.0",
      "model_name": "HTMLModel",
      "state": {
       "layout": "IPY_MODEL_5518918af7104cc6ad84be55ddcac284",
       "style": "IPY_MODEL_32a1fc296aa54874a6a711052346001a",
       "value": "<div style='font-family: monospace; width: 100%;'><b>Low side</b><br><div style='border-left: 1px solid #000; padding-left: 10px;'><div style='background-color: #ffffcc;display: block; white-space: pre-wrap; margin-bottom: 5px;'>status: pending</div><div style='background-color: #ffffcc;display: block; white-space: pre-wrap; margin-bottom: 5px;'>approved_by: None</div><div style='display: block; white-space: pre-wrap; margin-bottom: 5px;'>date_created: 2024-04-27</div><div style='background-color: #ddffdd;display: block; white-space: pre-wrap; margin-bottom: 5px;'>code: None</div></div></div>"
      }
     },
     "c3d2e203efd54b04a2a6b84bbde1e78f": {
      "model_module": "@jupyter-widgets/controls",
      "model_module_version": "2.0.0",
      "model_name": "HTMLStyleModel",
      "state": {
       "description_width": "",
       "font_size": null,
       "text_color": null
      }
     },
     "c41d0c75a0d740ec93ce66803607faa0": {
      "model_module": "@jupyter-widgets/base",
      "model_module_version": "2.0.0",
      "model_name": "LayoutModel",
      "state": {}
     },
     "c4a6715a4a5d4a4680d266840ed84381": {
      "model_module": "@jupyter-widgets/base",
      "model_module_version": "2.0.0",
      "model_name": "LayoutModel",
      "state": {}
     },
     "c4a9454306ec4fc0bb43aabea90b3071": {
      "model_module": "@jupyter-widgets/controls",
      "model_module_version": "2.0.0",
      "model_name": "HBoxModel",
      "state": {
       "children": [
        "IPY_MODEL_13205f3df2a24dbb84a21d6c418ffb73",
        "IPY_MODEL_7edab3a7eece4d7f885d6f2c09ac1da8"
       ],
       "layout": "IPY_MODEL_19638b8acaac4dda8b55b4772152348d"
      }
     },
     "c4b03487cfa146fa8dfeabc480b7d061": {
      "model_module": "@jupyter-widgets/base",
      "model_module_version": "2.0.0",
      "model_name": "LayoutModel",
      "state": {}
     },
     "c4bbba166b9b41e5824ace1b28f7be6b": {
      "model_module": "@jupyter-widgets/controls",
      "model_module_version": "2.0.0",
      "model_name": "HTMLModel",
      "state": {
       "layout": "IPY_MODEL_aee71195bb9c4a7c8dccd0ce71c83121",
       "style": "IPY_MODEL_5ccf232d0d44449580c4eb692db61e04",
       "value": "<div style='font-family: monospace; width: 100%;'><b>High side</b><br><div style='border-left: 1px solid #000; padding-left: 10px;'><div style='background-color: #FEE9CD;; color: #B8520A;; display: block; white-space: pre-wrap; margin-bottom: 5px;'>status: approved</div><div style='background-color: #FEE9CD;; color: #B8520A;; display: block; white-space: pre-wrap; margin-bottom: 5px;'>approved_by: admin</div><div style='background-color: transparent; color: #353243; display: block; white-space: pre-wrap; margin-bottom: 5px;'>date_created: 2024-04-27</div></div></div>"
      }
     },
     "c4cb3b345ab14e76a0f07cbd28bc59fa": {
      "model_module": "@jupyter-widgets/controls",
      "model_module_version": "2.0.0",
      "model_name": "CheckboxStyleModel",
      "state": {
       "description_width": ""
      }
     },
     "c4e7334970c246e7855e8f4e3706019f": {
      "model_module": "@jupyter-widgets/controls",
      "model_module_version": "2.0.0",
      "model_name": "CheckboxModel",
      "state": {
       "description": "Share private data",
       "disabled": false,
       "layout": "IPY_MODEL_bc8788cdf6604ffb9df794c9925b2e6e",
       "style": "IPY_MODEL_40d3916854a34b6ea1545d1d19647ba3",
       "value": false
      }
     },
     "c4ee0190dd7949bfada22eb0f9443996": {
      "model_module": "@jupyter-widgets/base",
      "model_module_version": "2.0.0",
      "model_name": "LayoutModel",
      "state": {}
     },
     "c5028267ca65410fa915d30b46b61775": {
      "model_module": "@jupyter-widgets/controls",
      "model_module_version": "2.0.0",
      "model_name": "AccordionModel",
      "state": {
       "children": [
        "IPY_MODEL_77a45fa921c74cd094043da34013a823",
        "IPY_MODEL_c698c686521b48459a73ee1e5a628043"
       ],
       "layout": "IPY_MODEL_12965d44f247469b9612e3a137f642a6",
       "titles": [
        "UserCode (4 changes)",
        "Request (3 changes)"
       ]
      }
     },
     "c50b7e6e2bef4f4695ac73bab1bac761": {
      "model_module": "@jupyter-widgets/base",
      "model_module_version": "2.0.0",
      "model_name": "LayoutModel",
      "state": {}
     },
     "c50eee2ba3a24069aa91cfcf41302051": {
      "model_module": "@jupyter-widgets/base",
      "model_module_version": "2.0.0",
      "model_name": "LayoutModel",
      "state": {}
     },
     "c50f0c3da7d6475487b1557de4c35d1f": {
      "model_module": "@jupyter-widgets/controls",
      "model_module_version": "2.0.0",
      "model_name": "HTMLModel",
      "state": {
       "layout": "IPY_MODEL_5a4d52f3e7ea418989ff082d04abba57",
       "style": "IPY_MODEL_d5408c2b552d4db084e5785b641b88ad",
       "value": "<div style='font-family: monospace; width: 100%;'><b>Low side</b><br><div style='border-left: 1px solid #000; padding-left: 10px;'><div style='background-color: #ffffcc;display: block; white-space: pre-wrap; margin-bottom: 5px;'>status: pending</div><div style='background-color: #ffffcc;display: block; white-space: pre-wrap; margin-bottom: 5px;'>approved_by: None</div><div style='display: block; white-space: pre-wrap; margin-bottom: 5px;'>date_created: 2024-04-27</div><div style='background-color: #ddffdd;display: block; white-space: pre-wrap; margin-bottom: 5px;'>code: None</div></div></div>"
      }
     },
     "c5112a6b5c684899b79dadf48ca71041": {
      "model_module": "@jupyter-widgets/output",
      "model_module_version": "1.0.0",
      "model_name": "OutputModel",
      "state": {
       "layout": "IPY_MODEL_8001f63369fd4436a9ace92e8e0d0717"
      }
     },
     "c5483ff9ef7a4f61a1a0cd9fa8f1dbcf": {
      "model_module": "@jupyter-widgets/controls",
      "model_module_version": "2.0.0",
      "model_name": "HTMLModel",
      "state": {
       "layout": "IPY_MODEL_6c115be7461548fcb523aec5f3929b5b",
       "style": "IPY_MODEL_e142d3f873474037994d09038388acd3",
       "value": "<div style='font-family: monospace; width: 100%;'><b>High side</b><br><div style='border-left: 1px solid #000; padding-left: 10px;'><div style='background-color: #FEE9CD;; color: #B8520A;; display: block; white-space: pre-wrap; margin-bottom: 5px;'>status: approved</div><div style='background-color: #FEE9CD;; color: #B8520A;; display: block; white-space: pre-wrap; margin-bottom: 5px;'>approved_by: admin</div><div style='background-color: transparent; color: #353243; display: block; white-space: pre-wrap; margin-bottom: 5px;'>date_created: 2024-04-27</div></div></div>"
      }
     },
     "c5ac53b8b64c422fb97a01366938dd83": {
      "model_module": "@jupyter-widgets/base",
      "model_module_version": "2.0.0",
      "model_name": "LayoutModel",
      "state": {
       "overflow": "auto",
       "width": "50%"
      }
     },
     "c5f3cb1b9cbb4b22989925922d44cd39": {
      "model_module": "@jupyter-widgets/controls",
      "model_module_version": "2.0.0",
      "model_name": "HTMLStyleModel",
      "state": {
       "description_width": "",
       "font_size": null,
       "text_color": null
      }
     },
     "c68aff8655ed43b1bbb5617773100b49": {
      "model_module": "@jupyter-widgets/controls",
      "model_module_version": "2.0.0",
      "model_name": "HBoxModel",
      "state": {
       "children": [
        "IPY_MODEL_7a40a72383e040539968581c76e1739e",
        "IPY_MODEL_ca79b05aeba347079008fe41ce9d6905",
        "IPY_MODEL_f1bb17790a0442f48a655ac9c7033911"
       ],
       "layout": "IPY_MODEL_e90e084e5901434bb18879584712b5b7"
      }
     },
     "c68b8dbc4c684a9e90c9f32b24f6b294": {
      "model_module": "@jupyter-widgets/controls",
      "model_module_version": "2.0.0",
      "model_name": "VBoxModel",
      "state": {
       "children": [
        "IPY_MODEL_e1b58810ee01420e9598173d86fb9f28",
        "IPY_MODEL_91ec5aa91359410cbdf5bb3cd5fa030f"
       ],
       "layout": "IPY_MODEL_f296e0799d944286acf5c17478b9090c"
      }
     },
     "c698c686521b48459a73ee1e5a628043": {
      "model_module": "@jupyter-widgets/controls",
      "model_module_version": "2.0.0",
      "model_name": "VBoxModel",
      "state": {
       "children": [
        "IPY_MODEL_5dba7f70c2a642f1b6098547e8350982",
        "IPY_MODEL_c8acf6633a8c403585e687007932f5b6"
       ],
       "layout": "IPY_MODEL_4260a5deb33348a38a715a32a9632818"
      }
     },
     "c72fbbf019aa4e2a8ed26154e082dc3d": {
      "model_module": "@jupyter-widgets/base",
      "model_module_version": "2.0.0",
      "model_name": "LayoutModel",
      "state": {
       "overflow": "auto",
       "width": "50%"
      }
     },
     "c7c6b2fce49541ef90c0c2edfe73288c": {
      "model_module": "@jupyter-widgets/controls",
      "model_module_version": "2.0.0",
      "model_name": "HTMLModel",
      "state": {
       "layout": "IPY_MODEL_31ae84de0d47441b931f5b3d5ad27db7",
       "style": "IPY_MODEL_774d5aaf8e1b44d8b68e8271ea473e5b",
       "value": "<div style='font-family: monospace; width: 100%;'><b>High side</b><br><div style='border-left: 1px solid #000; padding-left: 10px;'><div style='background-color: #ffffcc;display: block; white-space: pre-wrap; margin-bottom: 5px;'>status: approved</div><div style='background-color: #ffffcc;display: block; white-space: pre-wrap; margin-bottom: 5px;'>approved_by: admin</div><div style='display: block; white-space: pre-wrap; margin-bottom: 5px;'>date_created: 2024-04-27</div><div style='background-color: #ddffdd;display: block; white-space: pre-wrap; margin-bottom: 5px;'>code: @syft.function\ndef compute_mean(data: np.ndarray):\n    print(\"computing mean...\")\n    return data.mean()\n</div></div></div>"
      }
     },
     "c7d8820c32ce492a99d72957945d4aaa": {
      "model_module": "@jupyter-widgets/controls",
      "model_module_version": "2.0.0",
      "model_name": "HTMLStyleModel",
      "state": {
       "description_width": "",
       "font_size": null,
       "text_color": null
      }
     },
     "c7dac147c6d84f85a828752a9d660203": {
      "model_module": "@jupyter-widgets/base",
      "model_module_version": "2.0.0",
      "model_name": "LayoutModel",
      "state": {
       "height": "25px",
       "margin": "0",
       "padding": "0",
       "width": "25px"
      }
     },
     "c7db363a5b3b42c9bc37d8d564a44bd3": {
      "model_module": "@jupyter-widgets/controls",
      "model_module_version": "2.0.0",
      "model_name": "HTMLModel",
      "state": {
       "layout": "IPY_MODEL_fa7ba0a188444b2d8c408c9801afb5cf",
       "style": "IPY_MODEL_29624f84a20d4886810abe3f1ad7f4b6",
       "value": "<span style='color: #5E5A72;'>This would sync <span style='color: #B8520A'>2 changes </span> from <i>Low Node</i> to <i>High Node</i></span>"
      }
     },
     "c8092eb461d948189591bc691e2b22aa": {
      "model_module": "@jupyter-widgets/controls",
      "model_module_version": "2.0.0",
      "model_name": "HBoxModel",
      "state": {
       "children": [
        "IPY_MODEL_44a2210c2d4d4bc9b155cd1ac53c180f"
       ],
       "layout": "IPY_MODEL_d619869d124e46d097e52039b1001170"
      }
     },
     "c8476856741b42e1bf04959e392f27e0": {
      "model_module": "@jupyter-widgets/base",
      "model_module_version": "2.0.0",
      "model_name": "LayoutModel",
      "state": {
       "width": "100%"
      }
     },
     "c892b419bb744a219ef03cc61b5bce37": {
      "model_module": "@jupyter-widgets/controls",
      "model_module_version": "2.0.0",
      "model_name": "VBoxModel",
      "state": {
       "children": [
        "IPY_MODEL_a5461e29a2bb44f7a48fb8a4ad749246",
        "IPY_MODEL_9275dc41c9374212ae40fd7df4b23aa5"
       ],
       "layout": "IPY_MODEL_03e61f9f52f04c429b2781c42f261f5b"
      }
     },
     "c8acf6633a8c403585e687007932f5b6": {
      "model_module": "@jupyter-widgets/controls",
      "model_module_version": "2.0.0",
      "model_name": "HBoxModel",
      "state": {
       "children": [
        "IPY_MODEL_ce5dc38e726a4fed834f7b9e2893d62c",
        "IPY_MODEL_2b511445d714438a975772cfd826994b"
       ],
       "layout": "IPY_MODEL_55fa0391819440a3ac855df54d4302d1"
      }
     },
     "c8b6b116a58449e7a64e0bae972c3c1a": {
      "model_module": "@jupyter-widgets/controls",
      "model_module_version": "2.0.0",
      "model_name": "HTMLStyleModel",
      "state": {
       "description_width": "",
       "font_size": null,
       "text_color": null
      }
     },
     "c8d8513547194153bca8e5931ae2a6e8": {
      "model_module": "@jupyter-widgets/base",
      "model_module_version": "2.0.0",
      "model_name": "LayoutModel",
      "state": {
       "border_bottom": "#353243 solid 0.5px",
       "border_left": "#353243 solid 0.5px",
       "border_right": "#353243 solid 0.5px",
       "border_top": "#353243 solid 0.5px",
       "padding": "16px"
      }
     },
     "c932eb11a5264a7ebf3e137655ca9f71": {
      "model_module": "@jupyter-widgets/controls",
      "model_module_version": "2.0.0",
      "model_name": "HTMLModel",
      "state": {
       "layout": "IPY_MODEL_7e8af9a472b94a4e903991f95237e9fa",
       "style": "IPY_MODEL_6b673ca7a81045e18c5aa1c641f236a8",
       "value": "<div style='font-family: monospace; width: 100%;'>High side<br><div style='border-left: 1px solid #B4B0BF; padding-left: 10px;'><div style='background-color: #FEE9CD;; color: #B8520A;; display: block; white-space: pre-wrap; margin-bottom: 5px;'>status: approved</div><div style='background-color: #FEE9CD;; color: #B8520A;; display: block; white-space: pre-wrap; margin-bottom: 5px;'>approved_by: admin</div><div style='background-color: transparent; color: #353243; display: block; white-space: pre-wrap; margin-bottom: 5px;'>date_created: 2024-04-27</div></div></div>"
      }
     },
     "c94bfa07bb9d421abc0afe5eb68c634b": {
      "model_module": "@jupyter-widgets/base",
      "model_module_version": "2.0.0",
      "model_name": "LayoutModel",
      "state": {}
     },
     "c9905d87eddd473a901115c7b8146636": {
      "model_module": "@jupyter-widgets/controls",
      "model_module_version": "2.0.0",
      "model_name": "VBoxModel",
      "state": {
       "children": [
        "IPY_MODEL_287854f93c8941cdb42d7b45f823899a",
        "IPY_MODEL_a791d71c10604320946bc632f66b0a2d",
        "IPY_MODEL_f6b73ef41f6c422da564fde7b7e13ee2"
       ],
       "layout": "IPY_MODEL_7ec2de95fa5c4cab889700dc5a08a3a3"
      }
     },
     "c9c4b5b9e291492f82053b8eca19a86a": {
      "model_module": "@jupyter-widgets/base",
      "model_module_version": "2.0.0",
      "model_name": "LayoutModel",
      "state": {}
     },
     "c9e0796d4e214256bf6f46d43b189946": {
      "model_module": "@jupyter-widgets/base",
      "model_module_version": "2.0.0",
      "model_name": "LayoutModel",
      "state": {
       "border_bottom": "solid 2px",
       "border_left": "solid 2px",
       "border_right": "solid 2px",
       "border_top": "solid 2px"
      }
     },
     "c9f0d562c0224191a418da55792bd5a3": {
      "model_module": "@jupyter-widgets/base",
      "model_module_version": "2.0.0",
      "model_name": "LayoutModel",
      "state": {
       "margin": "0 5px 0 0"
      }
     },
     "c9f2b76e909d45faa0f471024190ae59": {
      "model_module": "@jupyter-widgets/controls",
      "model_module_version": "2.0.0",
      "model_name": "CheckboxModel",
      "state": {
       "description": "Sync",
       "disabled": false,
       "layout": "IPY_MODEL_1fb2b105126a45459cc7864b5f6fcc36",
       "style": "IPY_MODEL_4b1468d2bd0440298d9852913af7115e",
       "value": false
      }
     },
     "ca06ab313d3e4104b09fbd9e241f2182": {
      "model_module": "@jupyter-widgets/base",
      "model_module_version": "2.0.0",
      "model_name": "LayoutModel",
      "state": {
       "overflow": "auto",
       "width": "50%"
      }
     },
     "ca08e01e5fed444d96c4867f2648b25f": {
      "model_module": "@jupyter-widgets/base",
      "model_module_version": "2.0.0",
      "model_name": "LayoutModel",
      "state": {}
     },
     "ca5fd55f93da48c784b6242e3c7fb67b": {
      "model_module": "@jupyter-widgets/controls",
      "model_module_version": "2.0.0",
      "model_name": "HTMLModel",
      "state": {
       "layout": "IPY_MODEL_4fae452176e44ad9b47a38545cbf9b63",
       "style": "IPY_MODEL_49413cf7fd5a4947a9822a23c7d7679a",
       "value": "<span style='color: #5E5A72;'>This would sync <span style='color: #B8520A'>22 changes </span> from <i>Low Node</i> to <i>High Node</i></span>"
      }
     },
     "ca79b05aeba347079008fe41ce9d6905": {
      "model_module": "@jupyter-widgets/controls",
      "model_module_version": "2.0.0",
      "model_name": "HTMLModel",
      "state": {
       "layout": "IPY_MODEL_e944f48468e340d4b075f4bacd98c918",
       "style": "IPY_MODEL_1a25401affff41aeb57c34c356c0a42a",
       "value": "<span style='margin-left: 5px; font-weight: bold; color: #373B7B;'>main_1</span> <span style='margin-left: 5px; color: #B4B0BF;'>#1234...</span>"
      }
     },
     "cac4223a6ac3474fb6bf96ceb9320fe0": {
      "model_module": "@jupyter-widgets/controls",
      "model_module_version": "2.0.0",
      "model_name": "CheckboxModel",
      "state": {
       "description": "Sync",
       "disabled": false,
       "layout": "IPY_MODEL_d8ab9481f81c475683dfa37397e0be2a",
       "style": "IPY_MODEL_0d9f73eb5a5640f6bbcb5db526cf2593",
       "value": false
      }
     },
     "cac4c7588ea74d70b5a7127b816e999a": {
      "model_module": "@jupyter-widgets/controls",
      "model_module_version": "2.0.0",
      "model_name": "HTMLModel",
      "state": {
       "layout": "IPY_MODEL_5277722253d54bb1a596f418cef6f8c1",
       "style": "IPY_MODEL_4aa0318923e7434c9b7968c3bb436e84",
       "value": "<span style='color: #B4B0BF;'>Syncing changes on</span>"
      }
     },
     "caec34b8bda243d283f3988c925a3b4f": {
      "model_module": "@jupyter-widgets/base",
      "model_module_version": "2.0.0",
      "model_name": "LayoutModel",
      "state": {}
     },
     "caee0bb8236a4de49ce1150f6159ab0b": {
      "model_module": "@jupyter-widgets/controls",
      "model_module_version": "2.0.0",
      "model_name": "HTMLStyleModel",
      "state": {
       "description_width": "",
       "font_size": null,
       "text_color": null
      }
     },
     "caf90fc48ad94c7b817149a3d75d5e8b": {
      "model_module": "@jupyter-widgets/controls",
      "model_module_version": "2.0.0",
      "model_name": "HBoxModel",
      "state": {
       "children": [
        "IPY_MODEL_301df64382b743be8f70a346cee8c4e3",
        "IPY_MODEL_2db972fecf344fa8aa6b1f0fdfb29510",
        "IPY_MODEL_6add36ad33d34ac09aa3d066d20f486c"
       ],
       "layout": "IPY_MODEL_506f01e2433644b89ac1dd8296352214"
      }
     },
     "cb0d5a5854c044cfbbe70824720011f2": {
      "model_module": "@jupyter-widgets/controls",
      "model_module_version": "2.0.0",
      "model_name": "HBoxModel",
      "state": {
       "children": [
        "IPY_MODEL_d867af3ebf6b4d5aa7f8f07f8662dbc9",
        "IPY_MODEL_f5049a6d48d84f95b43719897350cc19"
       ],
       "layout": "IPY_MODEL_a571738616a5461cb2a553d059950703"
      }
     },
     "cb7995b242a2459abee95cae107103f6": {
      "model_module": "@jupyter-widgets/controls",
      "model_module_version": "2.0.0",
      "model_name": "HBoxModel",
      "state": {
       "children": [
        "IPY_MODEL_a40d419f1a324025a18684e4ed9ac472",
        "IPY_MODEL_b6b75feaddee455faff086208e9327b4"
       ],
       "layout": "IPY_MODEL_1c7eeba6c971423e91045fe60a8f9b8c"
      }
     },
     "cbc893d872fc4ef1ae579d1d03f88f93": {
      "model_module": "@jupyter-widgets/controls",
      "model_module_version": "2.0.0",
      "model_name": "VBoxModel",
      "state": {
       "children": [
        "IPY_MODEL_c28a100cdad745dfa48b58502ea47a7d",
        "IPY_MODEL_3c6bea9fab0e460e80b5a0923bb9ed92",
        "IPY_MODEL_57e292f0349c47bb81dfb710d51954ce"
       ],
       "layout": "IPY_MODEL_9056cd7be81046f4abaa8b14f83ea28c"
      }
     },
     "cc0e287821cc4ce895e754564838cdb8": {
      "model_module": "@jupyter-widgets/controls",
      "model_module_version": "2.0.0",
      "model_name": "HBoxModel",
      "state": {
       "children": [
        "IPY_MODEL_df3b04bbc98b46749bb2955ea44065f1",
        "IPY_MODEL_09eb20cf2b564f60a3788763308116dd"
       ],
       "layout": "IPY_MODEL_0235e610d88446a78b1d8a959276e90a"
      }
     },
     "cc30c8193cec41e4a1d391ce65a2464e": {
      "model_module": "@jupyter-widgets/controls",
      "model_module_version": "2.0.0",
      "model_name": "HTMLStyleModel",
      "state": {
       "description_width": "",
       "font_size": null,
       "text_color": null
      }
     },
     "cc46e2c77f7b488190e76b4a5dd98e94": {
      "model_module": "@jupyter-widgets/base",
      "model_module_version": "2.0.0",
      "model_name": "LayoutModel",
      "state": {
       "overflow": "auto",
       "width": "50%"
      }
     },
     "cc4b39339ba04811b02db5c2d6b26404": {
      "model_module": "@jupyter-widgets/controls",
      "model_module_version": "2.0.0",
      "model_name": "HBoxModel",
      "state": {
       "children": [
        "IPY_MODEL_76e784e7dde04b179031ea33ba13a4bb",
        "IPY_MODEL_d5aad3858e1648e688c3301245b76b21",
        "IPY_MODEL_09ca95af4d364859a68a1ed38c075141"
       ],
       "layout": "IPY_MODEL_620d859ff0ca4317bc3aa003e5ffe384"
      }
     },
     "cc79b797271b4f39b27214b5ef97cd24": {
      "model_module": "@jupyter-widgets/controls",
      "model_module_version": "2.0.0",
      "model_name": "VBoxModel",
      "state": {
       "children": [
        "IPY_MODEL_9ec3066708e04732b3cacee94fe1e633",
        "IPY_MODEL_ff34f64175e8490984db62af6ab7598b"
       ],
       "layout": "IPY_MODEL_66bdf2f103ec418e831fe83aa4d25b57"
      }
     },
     "ccb2079abc854a938433da978ced8998": {
      "model_module": "@jupyter-widgets/controls",
      "model_module_version": "2.0.0",
      "model_name": "HTMLStyleModel",
      "state": {
       "description_width": "",
       "font_size": null,
       "text_color": null
      }
     },
     "ccda7b7c1ea54ecc8d83bdff9dcb470a": {
      "model_module": "@jupyter-widgets/controls",
      "model_module_version": "2.0.0",
      "model_name": "HTMLModel",
      "state": {
       "layout": "IPY_MODEL_ceed45a9c8e245c289cc23737b742232",
       "style": "IPY_MODEL_282a02c9106043d4bf451194c86ae73b",
       "value": "<div style='font-family: monospace; width: 100%;'><b>Low side</b><br><div style='border-left: 1px solid #000; padding-left: 10px;'><div style='background-color: #FEE9CD;; color: #B8520A;; display: block; white-space: pre-wrap; margin-bottom: 5px;'>status: pending</div><div style='background-color: #FEE9CD;; color: #B8520A;; display: block; white-space: pre-wrap; margin-bottom: 5px;'>approved_by: None</div><div style='background-color: transparent; color: #353243; display: block; white-space: pre-wrap; margin-bottom: 5px;'>date_created: 2024-04-27</div></div></div>"
      }
     },
     "cd02ed570b25411ba98d7e81e6924a37": {
      "model_module": "@jupyter-widgets/base",
      "model_module_version": "2.0.0",
      "model_name": "LayoutModel",
      "state": {
       "height": "25px",
       "margin": "0",
       "padding": "0",
       "width": "25px"
      }
     },
     "cd14a71820224448b28d2157e130be4c": {
      "model_module": "@jupyter-widgets/base",
      "model_module_version": "2.0.0",
      "model_name": "LayoutModel",
      "state": {}
     },
     "cd2162be810c469f9194be28f674afc0": {
      "model_module": "@jupyter-widgets/controls",
      "model_module_version": "2.0.0",
      "model_name": "CheckboxModel",
      "state": {
       "description": "Share private data",
       "disabled": false,
       "layout": "IPY_MODEL_a2cd49dc1271403c802f915bb72b9d7a",
       "style": "IPY_MODEL_ae826753b1134bdaa8f47e10335a0b18",
       "value": false
      }
     },
     "cd2fe47cd1ad418e9cc7ca635a30aaa9": {
      "model_module": "@jupyter-widgets/base",
      "model_module_version": "2.0.0",
      "model_name": "LayoutModel",
      "state": {}
     },
     "cd38993377554f3fb8fc619fbc15938e": {
      "model_module": "@jupyter-widgets/controls",
      "model_module_version": "2.0.0",
      "model_name": "HTMLModel",
      "state": {
       "layout": "IPY_MODEL_281d1652875f4c819d8028579fb105aa",
       "style": "IPY_MODEL_ab8274ae2e374369a23a12794faf1f08",
       "value": "<span style='background-color: #C2DEF0; border-radius: 4px; padding: 4px 6px; color: #373B7B;'>Job</span>"
      }
     },
     "cdbe786e2c364c43911f79b9c9ed8fb5": {
      "model_module": "@jupyter-widgets/base",
      "model_module_version": "2.0.0",
      "model_name": "LayoutModel",
      "state": {}
     },
     "cdcba7b1f3464c7abca96853e1cbd8cf": {
      "model_module": "@jupyter-widgets/controls",
      "model_module_version": "2.0.0",
      "model_name": "HTMLModel",
      "state": {
       "layout": "IPY_MODEL_f08a264385a249fba1dcec8c9bd1dd65",
       "style": "IPY_MODEL_8efa47e96494422cad9a7ca801986128",
       "value": "<div style=\"text-align: center; margin: 10px 0; border: 1px dashed #B4B0BF;\"></div>"
      }
     },
     "cdcffd8a88e34de7ac077a1e91323b10": {
      "model_module": "@jupyter-widgets/base",
      "model_module_version": "2.0.0",
      "model_name": "LayoutModel",
      "state": {}
     },
     "cdf4dce856644315918d686f8dfe6b86": {
      "model_module": "@jupyter-widgets/controls",
      "model_module_version": "2.0.0",
      "model_name": "HTMLStyleModel",
      "state": {
       "description_width": "",
       "font_size": null,
       "text_color": null
      }
     },
     "ce030edcd6d4462bb95e349453d43d3e": {
      "model_module": "@jupyter-widgets/controls",
      "model_module_version": "2.0.0",
      "model_name": "AccordionModel",
      "state": {
       "children": [
        "IPY_MODEL_b4a0c9f66dce480b87b18bf21fc1ff52"
       ],
       "layout": "IPY_MODEL_caec34b8bda243d283f3988c925a3b4f",
       "titles": [
        "Request (2 changes)"
       ]
      }
     },
     "ce51858268b94aeba4cd070c2c556ffe": {
      "model_module": "@jupyter-widgets/controls",
      "model_module_version": "2.0.0",
      "model_name": "AccordionModel",
      "state": {
       "children": [
        "IPY_MODEL_c68b8dbc4c684a9e90c9f32b24f6b294",
        "IPY_MODEL_6d6518d12798425589ed41258b43ebc3"
       ],
       "layout": "IPY_MODEL_0f432a4996884b1fa95fc0d0b9765277",
       "titles": [
        "UserCode (3 changes)",
        "Request (2 changes)"
       ]
      }
     },
     "ce5dc38e726a4fed834f7b9e2893d62c": {
      "model_module": "@jupyter-widgets/controls",
      "model_module_version": "2.0.0",
      "model_name": "HTMLModel",
      "state": {
       "layout": "IPY_MODEL_78ea62c396e0417b886da11d570635cd",
       "style": "IPY_MODEL_de510610f25f408a9aa7d6b619e7fbf7",
       "value": "<div style='font-family: monospace; width: 100%;'><b>Low side</b><br><div style='border-left: 1px solid #000; padding-left: 10px;'><div style='background-color: #ffffcc;display: block; white-space: pre-wrap; margin-bottom: 5px;'>status: pending</div><div style='background-color: #ffffcc;display: block; white-space: pre-wrap; margin-bottom: 5px;'>approved_by: None</div><div style='display: block; white-space: pre-wrap; margin-bottom: 5px;'>date_created: 2024-04-27</div></div></div>"
      }
     },
     "ce76f0c0ae4141878f5be8a33f64ad3e": {
      "model_module": "@jupyter-widgets/controls",
      "model_module_version": "2.0.0",
      "model_name": "VBoxModel",
      "state": {
       "children": [
        "IPY_MODEL_6e1ff3542f82402facc9d9e55f14bf42",
        "IPY_MODEL_3af840c0a2bb4c9da6689004e8f3238f"
       ],
       "layout": "IPY_MODEL_f5e5d93ae7bc43fcbd16dde614656110"
      }
     },
     "ce8799e38df6430581c0ce68ec419b4e": {
      "model_module": "@jupyter-widgets/base",
      "model_module_version": "2.0.0",
      "model_name": "LayoutModel",
      "state": {}
     },
     "ce9711ee21874a049237847ee0d91918": {
      "model_module": "@jupyter-widgets/base",
      "model_module_version": "2.0.0",
      "model_name": "LayoutModel",
      "state": {}
     },
     "ce9b0b3acdc040899c79e780e0384f0a": {
      "model_module": "@jupyter-widgets/controls",
      "model_module_version": "2.0.0",
      "model_name": "HTMLStyleModel",
      "state": {
       "description_width": "",
       "font_size": null,
       "text_color": null
      }
     },
     "cedc852713c04559bc6b1a7548436a0d": {
      "model_module": "@jupyter-widgets/output",
      "model_module_version": "1.0.0",
      "model_name": "OutputModel",
      "state": {
       "layout": "IPY_MODEL_dcf95062ba8143d6a989a1b87872a656"
      }
     },
     "ceed45a9c8e245c289cc23737b742232": {
      "model_module": "@jupyter-widgets/base",
      "model_module_version": "2.0.0",
      "model_name": "LayoutModel",
      "state": {
       "overflow": "auto",
       "width": "50%"
      }
     },
     "cf14b8e8de524e8b9a437b71ade92ab6": {
      "model_module": "@jupyter-widgets/controls",
      "model_module_version": "2.0.0",
      "model_name": "HTMLModel",
      "state": {
       "layout": "IPY_MODEL_95285844d42549df89a4b4bcbda9e7e0",
       "style": "IPY_MODEL_d281b49b105f43e1b8871270815aa214",
       "value": "<span style='color: #5E5A72;'>This would sync <span style='color: #B8520A'>22 changes </span> from <i>Low Node</i> to <i>High Node</i></span>"
      }
     },
     "cf5839364fa24f9babc424cffcbec21b": {
      "model_module": "@jupyter-widgets/controls",
      "model_module_version": "2.0.0",
      "model_name": "ButtonStyleModel",
      "state": {
       "font_family": null,
       "font_size": null,
       "font_style": null,
       "font_variant": null,
       "font_weight": null,
       "text_color": null,
       "text_decoration": null
      }
     },
     "cf7d72b4021d4e08a6dd8fa52da8f71a": {
      "model_module": "@jupyter-widgets/base",
      "model_module_version": "2.0.0",
      "model_name": "LayoutModel",
      "state": {}
     },
     "cf9f65d86a1f4b26b1a1e79cca0ca2bf": {
      "model_module": "@jupyter-widgets/controls",
      "model_module_version": "2.0.0",
      "model_name": "VBoxModel",
      "state": {
       "children": [
        "IPY_MODEL_6743d175a78048ab88a4b1ab78944425",
        "IPY_MODEL_597b64184ada43088905af44384ffdda"
       ],
       "layout": "IPY_MODEL_d8a8fe9d98054ba4934ccdd163ef4c26"
      }
     },
     "cfaafcc07d8f4e8393c56dc5d9bc00ba": {
      "model_module": "@jupyter-widgets/controls",
      "model_module_version": "2.0.0",
      "model_name": "HTMLModel",
      "state": {
       "layout": "IPY_MODEL_cd14a71820224448b28d2157e130be4c",
       "style": "IPY_MODEL_04d958d758f640838a19301a7c356c50",
       "value": "<span style='color: #5E5A72;'>This would sync <span style='color: #B8520A'>22 changes </span> from <i>Low Node</i> to <i>High Node</i></span>"
      }
     },
     "cfb2cdba6ae740a79cc9e20470c057c7": {
      "model_module": "@jupyter-widgets/base",
      "model_module_version": "2.0.0",
      "model_name": "LayoutModel",
      "state": {}
     },
     "d0032ec3eeed4c36857f060cc7fc091e": {
      "model_module": "@jupyter-widgets/base",
      "model_module_version": "2.0.0",
      "model_name": "LayoutModel",
      "state": {}
     },
     "d007a337c45f41d1986e021b358bca14": {
      "model_module": "@jupyter-widgets/base",
      "model_module_version": "2.0.0",
      "model_name": "LayoutModel",
      "state": {}
     },
     "d008423da4244f4c80af42eec4b70b96": {
      "model_module": "@jupyter-widgets/base",
      "model_module_version": "2.0.0",
      "model_name": "LayoutModel",
      "state": {}
     },
     "d00a3800714f41c1a908ff476c895949": {
      "model_module": "@jupyter-widgets/controls",
      "model_module_version": "2.0.0",
      "model_name": "ButtonStyleModel",
      "state": {
       "font_family": null,
       "font_size": null,
       "font_style": null,
       "font_variant": null,
       "font_weight": null,
       "text_color": null,
       "text_decoration": null
      }
     },
     "d018d09c9bf040dea280db5c2bf460e8": {
      "model_module": "@jupyter-widgets/controls",
      "model_module_version": "2.0.0",
      "model_name": "HTMLStyleModel",
      "state": {
       "description_width": "",
       "font_size": null,
       "text_color": null
      }
     },
     "d0450492437146678754d70b0b3ce048": {
      "model_module": "@jupyter-widgets/base",
      "model_module_version": "2.0.0",
      "model_name": "LayoutModel",
      "state": {}
     },
     "d0561389b12a4416bac2caf35dfd4ad7": {
      "model_module": "@jupyter-widgets/controls",
      "model_module_version": "2.0.0",
      "model_name": "HTMLModel",
      "state": {
       "layout": "IPY_MODEL_05272d8380064f2db218c3360bd54dfb",
       "style": "IPY_MODEL_1e1852b6b10a4cd097f07352305ee12c",
       "value": "<div style='font-family: monospace; width: 100%;'><b>Low side</b><br><div style='border-left: 1px solid #000; padding-left: 10px;'><div style='background-color: #FEE9CD;; color: #B8520A;; display: block; white-space: pre-wrap; margin-bottom: 5px;'>status: pending</div><div style='background-color: #FEE9CD;; color: #B8520A;; display: block; white-space: pre-wrap; margin-bottom: 5px;'>approved_by: None</div><div style='background-color: transparent; color: #353243; display: block; white-space: pre-wrap; margin-bottom: 5px;'>date_created: 2024-04-27</div></div></div>"
      }
     },
     "d0565164449c4189bdb6b51725a65bab": {
      "model_module": "@jupyter-widgets/controls",
      "model_module_version": "2.0.0",
      "model_name": "HTMLStyleModel",
      "state": {
       "description_width": "",
       "font_size": null,
       "text_color": null
      }
     },
     "d0fc2ed82cc5453ca5872aabb42528b4": {
      "model_module": "@jupyter-widgets/controls",
      "model_module_version": "2.0.0",
      "model_name": "CheckboxModel",
      "state": {
       "description": "Sync",
       "disabled": false,
       "layout": "IPY_MODEL_5637bf0c9d294086981b95b6447812ec",
       "style": "IPY_MODEL_10ff9cb88d0e4d80ba422622df912193",
       "value": false
      }
     },
     "d0fdf37cd97d41368f2da95cb7a4ef32": {
      "model_module": "@jupyter-widgets/base",
      "model_module_version": "2.0.0",
      "model_name": "LayoutModel",
      "state": {}
     },
     "d0ffb57e5d06417795b9fe2b5863b92d": {
      "model_module": "@jupyter-widgets/output",
      "model_module_version": "1.0.0",
      "model_name": "OutputModel",
      "state": {
       "layout": "IPY_MODEL_f4d1290549664076abebb0df29c323d8"
      }
     },
     "d17a7f438ee647d8bcd611ccff4e094f": {
      "model_module": "@jupyter-widgets/output",
      "model_module_version": "1.0.0",
      "model_name": "OutputModel",
      "state": {
       "layout": "IPY_MODEL_02c80879d52947b78b993038dbb43744"
      }
     },
     "d1868ad0dc9847a492c241f80eabcc38": {
      "model_module": "@jupyter-widgets/base",
      "model_module_version": "2.0.0",
      "model_name": "LayoutModel",
      "state": {
       "overflow": "auto",
       "width": "50%"
      }
     },
     "d1904428318f40abb870bf8a6ad161cf": {
      "model_module": "@jupyter-widgets/controls",
      "model_module_version": "2.0.0",
      "model_name": "HTMLStyleModel",
      "state": {
       "description_width": "",
       "font_size": null,
       "text_color": null
      }
     },
     "d1a8f43cd21347e7aa1169a34b4c5c98": {
      "model_module": "@jupyter-widgets/controls",
      "model_module_version": "2.0.0",
      "model_name": "AccordionModel",
      "state": {
       "children": [
        "IPY_MODEL_6cce1da73b7346478f25eb9719fec2a6"
       ],
       "layout": "IPY_MODEL_681b028b36184196b3fe9ac8f698289f",
       "titles": [
        "Request (2 changes)"
       ]
      }
     },
     "d1acca3dd6324f30a2e49c1430da501c": {
      "model_module": "@jupyter-widgets/base",
      "model_module_version": "2.0.0",
      "model_name": "LayoutModel",
      "state": {
       "margin": "0 5px 0 0"
      }
     },
     "d1d8f23bc24e4842b24b74df91cc3e19": {
      "model_module": "@jupyter-widgets/base",
      "model_module_version": "2.0.0",
      "model_name": "LayoutModel",
      "state": {}
     },
     "d260c69e79484a64ab13a3f99aca9614": {
      "model_module": "@jupyter-widgets/controls",
      "model_module_version": "2.0.0",
      "model_name": "BoxModel",
      "state": {
       "children": [
        "IPY_MODEL_63d431ed9e0348bba653fb6202afced0",
        "IPY_MODEL_f6538f41d3be4ca9b2823f8c2f8a3799"
       ],
       "layout": "IPY_MODEL_fe42ad0d3dd54a51b29af915f68bcd68"
      }
     },
     "d2656434ff8c4c65a776d07d6993c266": {
      "model_module": "@jupyter-widgets/controls",
      "model_module_version": "2.0.0",
      "model_name": "HBoxModel",
      "state": {
       "children": [
        "IPY_MODEL_ccda7b7c1ea54ecc8d83bdff9dcb470a",
        "IPY_MODEL_a79774063b70475c8729078f93918a99"
       ],
       "layout": "IPY_MODEL_e8f21f02836d4fb9911fab63bfd26fc8"
      }
     },
     "d281b49b105f43e1b8871270815aa214": {
      "model_module": "@jupyter-widgets/controls",
      "model_module_version": "2.0.0",
      "model_name": "HTMLStyleModel",
      "state": {
       "description_width": "",
       "font_size": null,
       "text_color": null
      }
     },
     "d35a956a38ed4fc497e394c2b84787f5": {
      "model_module": "@jupyter-widgets/controls",
      "model_module_version": "2.0.0",
      "model_name": "HTMLStyleModel",
      "state": {
       "description_width": "",
       "font_size": null,
       "text_color": null
      }
     },
     "d35eec11c3574f27b1236bd847024f00": {
      "model_module": "@jupyter-widgets/base",
      "model_module_version": "2.0.0",
      "model_name": "LayoutModel",
      "state": {}
     },
     "d39e6ba0f41b4f2da364062eeaa87807": {
      "model_module": "@jupyter-widgets/controls",
      "model_module_version": "2.0.0",
      "model_name": "HBoxModel",
      "state": {
       "children": [
        "IPY_MODEL_d0561389b12a4416bac2caf35dfd4ad7",
        "IPY_MODEL_072c3af859954629831bc989a169ec77"
       ],
       "layout": "IPY_MODEL_ab1f42503fad438f82a3a70f4f404bd0"
      }
     },
     "d3c7921289bf4624a96edcb342e69f46": {
      "model_module": "@jupyter-widgets/controls",
      "model_module_version": "2.0.0",
      "model_name": "HTMLModel",
      "state": {
       "layout": "IPY_MODEL_2b71c93f945d4ce3a0b5d01397ffe156",
       "style": "IPY_MODEL_af0d0c704e0242a48eee3adc82011e0b",
       "value": "<span style='margin-left: 5px; font-weight: bold; color: #373B7B;'>main_1</span> <span style='margin-left: 5px; color: #B4B0BF;'>#1234...</span>"
      }
     },
     "d40dbd88704d42d4a90adc58fe58ae9e": {
      "model_module": "@jupyter-widgets/base",
      "model_module_version": "2.0.0",
      "model_name": "LayoutModel",
      "state": {}
     },
     "d42199492e984ca0979d214addb82930": {
      "model_module": "@jupyter-widgets/controls",
      "model_module_version": "2.0.0",
      "model_name": "CheckboxStyleModel",
      "state": {
       "description_width": ""
      }
     },
     "d421b3875b0e4a6389957d319312aabf": {
      "model_module": "@jupyter-widgets/base",
      "model_module_version": "2.0.0",
      "model_name": "LayoutModel",
      "state": {
       "overflow": "auto",
       "width": "50%"
      }
     },
     "d4240ab130e44ef0be826e48651ef51c": {
      "model_module": "@jupyter-widgets/controls",
      "model_module_version": "2.0.0",
      "model_name": "CheckboxStyleModel",
      "state": {
       "description_width": ""
      }
     },
     "d43693160b23455abbddb74ebeff7a74": {
      "model_module": "@jupyter-widgets/controls",
      "model_module_version": "2.0.0",
      "model_name": "VBoxModel",
      "state": {
       "children": [
        "IPY_MODEL_031deed182044a119f9d6aed45561584",
        "IPY_MODEL_0cee8f4f5ffc49498e003af1e9360741"
       ],
       "layout": "IPY_MODEL_a23b8ee26ce445a9b0ce369f8ca62187"
      }
     },
     "d45b0b2e6442490a841e5ae505f246bc": {
      "model_module": "@jupyter-widgets/controls",
      "model_module_version": "2.0.0",
      "model_name": "HBoxModel",
      "state": {
       "layout": "IPY_MODEL_4493ab7eba82403e8eb1a786d4d515b2"
      }
     },
     "d4c405d975ef45c0b51234a77e2a764f": {
      "model_module": "@jupyter-widgets/controls",
      "model_module_version": "2.0.0",
      "model_name": "VBoxModel",
      "state": {
       "children": [
        "IPY_MODEL_5616bb554014444bb1b3dfa747805de5",
        "IPY_MODEL_cc79b797271b4f39b27214b5ef97cd24",
        "IPY_MODEL_403856691975448986078de79d621e83",
        "IPY_MODEL_cdcba7b1f3464c7abca96853e1cbd8cf",
        "IPY_MODEL_1bf0b61559f940ada34ed0a6dc4b4127"
       ],
       "layout": "IPY_MODEL_fe82315c7a7b4b4cba45bb1f9923a534"
      }
     },
     "d4fc330d8ea549ea8cdc65d28a03e816": {
      "model_module": "@jupyter-widgets/controls",
      "model_module_version": "2.0.0",
      "model_name": "HBoxModel",
      "state": {
       "children": [
        "IPY_MODEL_6cc9d030cf1e4e3ead21a2005f5d466b",
        "IPY_MODEL_b59bc747a3ee45a992125a13119abd36"
       ],
       "layout": "IPY_MODEL_e1d117af230c47fca4acd5cbb3baf1a3"
      }
     },
     "d5030ed0c5204d0c869391eeac390fb1": {
      "model_module": "@jupyter-widgets/controls",
      "model_module_version": "2.0.0",
      "model_name": "HBoxModel",
      "state": {
       "layout": "IPY_MODEL_525a2971847144d892b0dfb646511349"
      }
     },
     "d52471353bdc4b5286db9547285157ff": {
      "model_module": "@jupyter-widgets/controls",
      "model_module_version": "2.0.0",
      "model_name": "HTMLStyleModel",
      "state": {
       "description_width": "",
       "font_size": null,
       "text_color": null
      }
     },
     "d5408c2b552d4db084e5785b641b88ad": {
      "model_module": "@jupyter-widgets/controls",
      "model_module_version": "2.0.0",
      "model_name": "HTMLStyleModel",
      "state": {
       "description_width": "",
       "font_size": null,
       "text_color": null
      }
     },
     "d5468105599441988c2a5dc77b176248": {
      "model_module": "@jupyter-widgets/base",
      "model_module_version": "2.0.0",
      "model_name": "LayoutModel",
      "state": {}
     },
     "d579816e599f4b93b3183ac83c3938fb": {
      "model_module": "@jupyter-widgets/base",
      "model_module_version": "2.0.0",
      "model_name": "LayoutModel",
      "state": {}
     },
     "d5aad3858e1648e688c3301245b76b21": {
      "model_module": "@jupyter-widgets/controls",
      "model_module_version": "2.0.0",
      "model_name": "HTMLModel",
      "state": {
       "layout": "IPY_MODEL_489b49a523874dd2870bea77e4c5d76d",
       "style": "IPY_MODEL_7c2f22aca56a45ceb030fdd41143a1b0",
       "value": "<span style='margin-left: 5px; font-weight: bold; color: #373B7B;'>main_1</span> <span style='margin-left: 5px; color: #B4B0BF;'>#1234...</span>"
      }
     },
     "d5cb4a6f5fac4d65af02ef224166fc45": {
      "model_module": "@jupyter-widgets/base",
      "model_module_version": "2.0.0",
      "model_name": "LayoutModel",
      "state": {}
     },
     "d5faf27251df4571be277c78107fd345": {
      "model_module": "@jupyter-widgets/controls",
      "model_module_version": "2.0.0",
      "model_name": "AccordionModel",
      "state": {
       "children": [
        "IPY_MODEL_c68b8dbc4c684a9e90c9f32b24f6b294",
        "IPY_MODEL_6d6518d12798425589ed41258b43ebc3"
       ],
       "layout": "IPY_MODEL_d9aa7c94305d4501b84e2f739ca346a7",
       "selected_index": 0,
       "titles": [
        "UserCode (3 changes)",
        "Request (2 changes)"
       ]
      }
     },
     "d619869d124e46d097e52039b1001170": {
      "model_module": "@jupyter-widgets/base",
      "model_module_version": "2.0.0",
      "model_name": "LayoutModel",
      "state": {}
     },
     "d62661bb8f49423a830c9b80c242f28b": {
      "model_module": "@jupyter-widgets/controls",
      "model_module_version": "2.0.0",
      "model_name": "HTMLModel",
      "state": {
       "layout": "IPY_MODEL_a3ac2b49a5e04eb6a75ef4f5796eac1d",
       "style": "IPY_MODEL_c3d2e203efd54b04a2a6b84bbde1e78f",
       "value": "<span style='color: #5E5A72;'>This would sync <span style='color: #B8520A'>2 changes </span> from <i>Low Node</i> to <i>High Node</i></span>"
      }
     },
     "d6574206fd904aa8999979440df59087": {
      "model_module": "@jupyter-widgets/base",
      "model_module_version": "2.0.0",
      "model_name": "LayoutModel",
      "state": {}
     },
     "d67ff6c50018417889faf081aaf8550f": {
      "model_module": "@jupyter-widgets/base",
      "model_module_version": "2.0.0",
      "model_name": "LayoutModel",
      "state": {
       "align_items": "center"
      }
     },
     "d6927658f5814af88f7a31d4ab1fdb79": {
      "model_module": "@jupyter-widgets/controls",
      "model_module_version": "2.0.0",
      "model_name": "ButtonModel",
      "state": {
       "icon": "clone",
       "layout": "IPY_MODEL_e37bb0447f5f4f87a99ec1dbf59cd1d5",
       "style": "IPY_MODEL_a3cddfa6d7a0485fb01a6dee1c41a4dd",
       "tooltip": null
      }
     },
     "d6bd5887d21e42f8972db1cf5f67acc6": {
      "model_module": "@jupyter-widgets/base",
      "model_module_version": "2.0.0",
      "model_name": "LayoutModel",
      "state": {}
     },
     "d6f6ea56f5e14c26afa3f5a347429c12": {
      "model_module": "@jupyter-widgets/base",
      "model_module_version": "2.0.0",
      "model_name": "LayoutModel",
      "state": {
       "overflow": "auto",
       "width": "50%"
      }
     },
     "d79189a710dc44afa7281a171b9c389f": {
      "model_module": "@jupyter-widgets/controls",
      "model_module_version": "2.0.0",
      "model_name": "HBoxModel",
      "state": {
       "layout": "IPY_MODEL_613159d1f86d4e2282fc9d620f400640"
      }
     },
     "d7b395d2fa784453ac36c97a02e389ff": {
      "model_module": "@jupyter-widgets/controls",
      "model_module_version": "2.0.0",
      "model_name": "HTMLModel",
      "state": {
       "layout": "IPY_MODEL_39435afd1d29414ebd43fed2fc28bfd5",
       "style": "IPY_MODEL_e9a4caa5c6dc432cbec2bad35cf96767",
       "value": "<span style='color: #B4B0BF;'>Syncing changes on</span>"
      }
     },
     "d803ed040e4c4be18d926d4d55c2627e": {
      "model_module": "@jupyter-widgets/controls",
      "model_module_version": "2.0.0",
      "model_name": "HBoxModel",
      "state": {
       "children": [
        "IPY_MODEL_b40296a2fc2c4fcaafca9381eb86839d",
        "IPY_MODEL_0cf22e865c434e269412ab8a482a6e1b"
       ],
       "layout": "IPY_MODEL_ad680ab3b68e4bf08674219697d550d9"
      }
     },
     "d842126757eb42c799292b57d419fa1b": {
      "model_module": "@jupyter-widgets/controls",
      "model_module_version": "2.0.0",
      "model_name": "VBoxModel",
      "state": {
       "children": [
        "IPY_MODEL_ba5936f22bf243d89e079973ba3bf20b",
        "IPY_MODEL_d964c9e3691b4cd9ada06ec2b20dcb5e",
        "IPY_MODEL_24ea0a7d38c2492291ed631e479787bd"
       ],
       "layout": "IPY_MODEL_afaac9bc5e5249e194a31c3d77e60079"
      }
     },
     "d867af3ebf6b4d5aa7f8f07f8662dbc9": {
      "model_module": "@jupyter-widgets/controls",
      "model_module_version": "2.0.0",
      "model_name": "HTMLModel",
      "state": {
       "layout": "IPY_MODEL_6ffef5deca6e44c1b1c95aa1a2a17ee8",
       "style": "IPY_MODEL_7a5605915fa9493db0f7657b3d6a76f4",
       "value": "<div style='font-family: monospace; width: 100%;'><b>Low side</b><br><div style='border-left: 1px solid #000; padding-left: 10px;'><div style='background-color: #ffffcc;display: block; white-space: pre-wrap; margin-bottom: 5px;'>status: pending</div><div style='background-color: #ffffcc;display: block; white-space: pre-wrap; margin-bottom: 5px;'>approved_by: None</div><div style='display: block; white-space: pre-wrap; margin-bottom: 5px;'>date_created: 2024-04-27</div><div style='background-color: #ddffdd;display: block; white-space: pre-wrap; margin-bottom: 5px;'>code: None</div></div></div>"
      }
     },
     "d8768cb13b6944c784b84bffd2271a34": {
      "model_module": "@jupyter-widgets/base",
      "model_module_version": "2.0.0",
      "model_name": "LayoutModel",
      "state": {
       "overflow": "auto",
       "width": "50%"
      }
     },
     "d89de02f06724025aa14ebb695a86f85": {
      "model_module": "@jupyter-widgets/base",
      "model_module_version": "2.0.0",
      "model_name": "LayoutModel",
      "state": {}
     },
     "d8a8fe9d98054ba4934ccdd163ef4c26": {
      "model_module": "@jupyter-widgets/base",
      "model_module_version": "2.0.0",
      "model_name": "LayoutModel",
      "state": {
       "border_bottom": "solid 1px",
       "border_left": "solid 1px",
       "border_right": "solid 1px",
       "border_top": "solid 1px",
       "padding": "4px"
      }
     },
     "d8ab9481f81c475683dfa37397e0be2a": {
      "model_module": "@jupyter-widgets/base",
      "model_module_version": "2.0.0",
      "model_name": "LayoutModel",
      "state": {}
     },
     "d8f8edfa27564d1daec186a03cd91c73": {
      "model_module": "@jupyter-widgets/base",
      "model_module_version": "2.0.0",
      "model_name": "LayoutModel",
      "state": {}
     },
     "d91b83ca27944480b6c3b21b2a31e5fb": {
      "model_module": "@jupyter-widgets/controls",
      "model_module_version": "2.0.0",
      "model_name": "HBoxModel",
      "state": {
       "children": [
        "IPY_MODEL_c37b27fa57534d9c84800e68826a492c",
        "IPY_MODEL_a716e5eca510423f868dfa93b1bf1b57"
       ],
       "layout": "IPY_MODEL_efc4847c8d0141f4947ffcf516a1c343"
      }
     },
     "d964c9e3691b4cd9ada06ec2b20dcb5e": {
      "model_module": "@jupyter-widgets/controls",
      "model_module_version": "2.0.0",
      "model_name": "HBoxModel",
      "state": {
       "children": [
        "IPY_MODEL_183e3633a3664880a373ab52c0e5eee4",
        "IPY_MODEL_678cad016842447fa6a80bf954cfd6fb",
        "IPY_MODEL_856807d6bb4648a992b8de1946eb0a74"
       ],
       "layout": "IPY_MODEL_50829fd16a3942a68740b3ef7380fc93"
      }
     },
     "d97018c37a9c4d76b7a603a1a7dd2d03": {
      "model_module": "@jupyter-widgets/controls",
      "model_module_version": "2.0.0",
      "model_name": "HTMLStyleModel",
      "state": {
       "description_width": "",
       "font_size": null,
       "text_color": null
      }
     },
     "d978a2f9ea0947708e2a02b6fb91331a": {
      "model_module": "@jupyter-widgets/controls",
      "model_module_version": "2.0.0",
      "model_name": "HTMLModel",
      "state": {
       "layout": "IPY_MODEL_0c10d439075c45a2a778551b53bc4cf4",
       "style": "IPY_MODEL_b9e4f20b5b134f91b31fc4058703dc13",
       "value": "<div style='font-family: monospace; width: 100%;'><b>Low side</b><br><div style='border-left: 1px solid #000; padding-left: 10px;'><div style='background-color: background-color: #FEE9CD; color: background-color: #B8520A; display: block; white-space: pre-wrap; margin-bottom: 5px;'>status: pending</div><div style='background-color: background-color: #FEE9CD; color: background-color: #B8520A; display: block; white-space: pre-wrap; margin-bottom: 5px;'>approved_by: None</div><div style='background-color: transparent color: #353243 display: block; white-space: pre-wrap; margin-bottom: 5px;'>date_created: 2024-04-27</div><div style='background-color: background-color: #D5F1D5; color: background-color: #256B24; display: block; white-space: pre-wrap; margin-bottom: 5px;'>code: None</div></div></div>"
      }
     },
     "d99e89dd194a49769eacdaa49bbe5e13": {
      "model_module": "@jupyter-widgets/controls",
      "model_module_version": "2.0.0",
      "model_name": "HBoxModel",
      "state": {
       "children": [
        "IPY_MODEL_5550a198e4414243b9a548f79586acf8",
        "IPY_MODEL_55e88a6a01244d8090adc18db0876921"
       ],
       "layout": "IPY_MODEL_fc5910efee4c469ba5c95113b1f01ac9"
      }
     },
     "d9aa7c94305d4501b84e2f739ca346a7": {
      "model_module": "@jupyter-widgets/base",
      "model_module_version": "2.0.0",
      "model_name": "LayoutModel",
      "state": {}
     },
     "d9bee2230d914de19a8d8d5c44f2f3f7": {
      "model_module": "@jupyter-widgets/controls",
      "model_module_version": "2.0.0",
      "model_name": "HTMLStyleModel",
      "state": {
       "description_width": "",
       "font_size": null,
       "text_color": null
      }
     },
     "d9e5dc5a508341e2bde60c3276db2467": {
      "model_module": "@jupyter-widgets/controls",
      "model_module_version": "2.0.0",
      "model_name": "HTMLModel",
      "state": {
       "layout": "IPY_MODEL_637d7552e8bd40b0b836c9b1a0e36380",
       "style": "IPY_MODEL_9b053209c05a4a31beeeab136d788bb4",
       "value": "<span style='color: #5E5A72;'>This would sync <span style='color: #B8520A'>2 changes </span> from <i>Low Node</i> to <i>High Node</i></span>"
      }
     },
     "d9e76e6977bf43fdbf99a7dec4731e94": {
      "model_module": "@jupyter-widgets/controls",
      "model_module_version": "2.0.0",
      "model_name": "CheckboxStyleModel",
      "state": {
       "description_width": ""
      }
     },
     "da0390816c4740cfba8e6ad4446c80c5": {
      "model_module": "@jupyter-widgets/controls",
      "model_module_version": "2.0.0",
      "model_name": "HTMLStyleModel",
      "state": {
       "description_width": "",
       "font_size": null,
       "text_color": null
      }
     },
     "da16d1ec4d864bbaa0a8345ccaf38c2a": {
      "model_module": "@jupyter-widgets/controls",
      "model_module_version": "2.0.0",
      "model_name": "HTMLModel",
      "state": {
       "layout": "IPY_MODEL_351f4685b89f4666841f4286cbefc0c7",
       "style": "IPY_MODEL_1cafcdb6e60c4fc593dbc17d0c185a7b",
       "value": "<div style='font-family: monospace; width: 100%;'><b>High side</b><br><div style='border-left: 1px solid #000; padding-left: 10px;'><div style='background-color: #FEE9CD;; color: #B8520A;; display: block; white-space: pre-wrap; margin-bottom: 5px;'>status: approved</div><div style='background-color: #FEE9CD;; color: #B8520A;; display: block; white-space: pre-wrap; margin-bottom: 5px;'>approved_by: admin</div><div style='background-color: transparent; color: #353243; display: block; white-space: pre-wrap; margin-bottom: 5px;'>date_created: 2024-04-27</div></div></div>"
      }
     },
     "da1d0038ea05405ca6ca0716bcb8d947": {
      "model_module": "@jupyter-widgets/base",
      "model_module_version": "2.0.0",
      "model_name": "LayoutModel",
      "state": {}
     },
     "da34b052b3994b859bc6d144ed9ea875": {
      "model_module": "@jupyter-widgets/base",
      "model_module_version": "2.0.0",
      "model_name": "LayoutModel",
      "state": {}
     },
     "daa2af6b50194c30978d97dc6ec53837": {
      "model_module": "@jupyter-widgets/controls",
      "model_module_version": "2.0.0",
      "model_name": "HBoxModel",
      "state": {
       "children": [
        "IPY_MODEL_7b5f622bedaa40b2a50f23d8150fa91d",
        "IPY_MODEL_10c58d354fc844aaba6979c0ecee8418"
       ],
       "layout": "IPY_MODEL_03bcd66dc8af48caa5ca2f3fc4b48471"
      }
     },
     "dabf09e6d4cd41b9933978dd86dc44ed": {
      "model_module": "@jupyter-widgets/output",
      "model_module_version": "1.0.0",
      "model_name": "OutputModel",
      "state": {
       "layout": "IPY_MODEL_896a17a6aa3f433289a1aafdd7ab8bc1"
      }
     },
     "daf15fff668a494e9c996b8c66c31ad2": {
      "model_module": "@jupyter-widgets/controls",
      "model_module_version": "2.0.0",
      "model_name": "HTMLModel",
      "state": {
       "layout": "IPY_MODEL_69f36097d5c145c8b3f5fa017cae8bf6",
       "style": "IPY_MODEL_1b4d0d971c6e4635947dc233425f2f29",
       "value": "<div style='font-family: monospace; width: 100%;'><b>Low side</b><br><div style='border-left: 1px solid #000; padding-left: 10px;'><div style='background-color: background-color: #FEE9CD;; color: background-color: #B8520A;; display: block; white-space: pre-wrap; margin-bottom: 5px;'>status: pending</div><div style='background-color: background-color: #FEE9CD;; color: background-color: #B8520A;; display: block; white-space: pre-wrap; margin-bottom: 5px;'>approved_by: None</div><div style='background-color: transparent; color: #353243; display: block; white-space: pre-wrap; margin-bottom: 5px;'>date_created: 2024-04-27</div><div style='background-color: background-color: #D5F1D5;; color: background-color: #256B24;; display: block; white-space: pre-wrap; margin-bottom: 5px;'>code: None</div></div></div>"
      }
     },
     "db35d416d3e44713ba60b0ee3a35bd02": {
      "model_module": "@jupyter-widgets/controls",
      "model_module_version": "2.0.0",
      "model_name": "HBoxModel",
      "state": {
       "children": [
        "IPY_MODEL_f8077fa2f8fb41cc9f6b3c6584b0752e",
        "IPY_MODEL_c5483ff9ef7a4f61a1a0cd9fa8f1dbcf"
       ],
       "layout": "IPY_MODEL_2170e27e96ec475bac5d93dfbec7a613"
      }
     },
     "db3743b4f33e43aca5de55fc30c3a101": {
      "model_module": "@jupyter-widgets/controls",
      "model_module_version": "2.0.0",
      "model_name": "CheckboxModel",
      "state": {
       "description": "Sync",
       "disabled": false,
       "layout": "IPY_MODEL_a14b6998511b459aba7df279f80ab14f",
       "style": "IPY_MODEL_21f1f40ae6a6428a9707f7fa0f751bfb",
       "value": true
      }
     },
     "db5e4dd22f41454ab4e9c3ea4318f1de": {
      "model_module": "@jupyter-widgets/controls",
      "model_module_version": "2.0.0",
      "model_name": "HTMLModel",
      "state": {
       "layout": "IPY_MODEL_c18148accc8a4dbb98f857f1eff1a976",
       "style": "IPY_MODEL_1f7859f2768e40559693238dc46cf82a",
       "value": "<span style='color: #B4B0BF;'>Syncing changes on</span>"
      }
     },
     "db6905f9ab8849e4a6a1a82e4a8f9124": {
      "model_module": "@jupyter-widgets/controls",
      "model_module_version": "2.0.0",
      "model_name": "HBoxModel",
      "state": {
       "children": [
        "IPY_MODEL_661b3f8a87364c95ad8e44402bd5b402",
        "IPY_MODEL_73054539229d43b1b6461ce388d66faa"
       ],
       "layout": "IPY_MODEL_afbbad76e54c4f7cb620ad5b93da3346"
      }
     },
     "db723fa906a040dabb25cc8cb0974a62": {
      "model_module": "@jupyter-widgets/base",
      "model_module_version": "2.0.0",
      "model_name": "LayoutModel",
      "state": {
       "overflow": "auto",
       "width": "50%"
      }
     },
     "dbd25a692630440e8a6c9b03efab6b66": {
      "model_module": "@jupyter-widgets/controls",
      "model_module_version": "2.0.0",
      "model_name": "HTMLModel",
      "state": {
       "layout": "IPY_MODEL_d8f8edfa27564d1daec186a03cd91c73",
       "style": "IPY_MODEL_8247469cacf347318743422c7df1cd62",
       "value": "<span style='color: #B4B0BF;'>Syncing changes on</span>"
      }
     },
     "dbeaa23062e94f6fbe58487fe5b58ecd": {
      "model_module": "@jupyter-widgets/controls",
      "model_module_version": "2.0.0",
      "model_name": "HTMLModel",
      "state": {
       "layout": "IPY_MODEL_5912d9ecc4254392a9018e5d6ca2382f",
       "style": "IPY_MODEL_a6f6730c041640a5bcdcc4c353a680fc",
       "value": "<span style='background-color: #C2DEF0; border-radius: 4px; padding: 4px 6px; color: #373B7B;'>Job</span>"
      }
     },
     "dbf2952b0f6a44079748725f8dfb010b": {
      "model_module": "@jupyter-widgets/controls",
      "model_module_version": "2.0.0",
      "model_name": "HTMLModel",
      "state": {
       "layout": "IPY_MODEL_6f7d5f4f25b1421c97f6267117b49080",
       "style": "IPY_MODEL_4f193b380c494ef4b5b873c13e125faf",
       "value": "<div style='font-family: monospace; width: 100%;'><b>Low side</b><br><div style='border-left: 1px solid #000; padding-left: 10px;'><div style='background-color: #FEE9CD;; color: #B8520A;; display: block; white-space: pre-wrap; margin-bottom: 5px;'>status: pending</div><div style='background-color: #FEE9CD;; color: #B8520A;; display: block; white-space: pre-wrap; margin-bottom: 5px;'>approved_by: None</div><div style='background-color: transparent; color: #353243; display: block; white-space: pre-wrap; margin-bottom: 5px;'>date_created: 2024-04-27</div></div></div>"
      }
     },
     "dbf7fb9a3c504aa889ed2aa2c509b402": {
      "model_module": "@jupyter-widgets/base",
      "model_module_version": "2.0.0",
      "model_name": "LayoutModel",
      "state": {}
     },
     "dc9e273e567b44559a40b4052c6ee2ce": {
      "model_module": "@jupyter-widgets/controls",
      "model_module_version": "2.0.0",
      "model_name": "VBoxModel",
      "state": {
       "children": [
        "IPY_MODEL_e8ea62e8643c47d1ad48cb132dad1a5b",
        "IPY_MODEL_17f0c3789405436b95020d9933573fba"
       ],
       "layout": "IPY_MODEL_c9e0796d4e214256bf6f46d43b189946"
      }
     },
     "dcf95062ba8143d6a989a1b87872a656": {
      "model_module": "@jupyter-widgets/base",
      "model_module_version": "2.0.0",
      "model_name": "LayoutModel",
      "state": {
       "display": "none"
      }
     },
     "dd0e2d87a1044d94b9b56a758ec05415": {
      "model_module": "@jupyter-widgets/base",
      "model_module_version": "2.0.0",
      "model_name": "LayoutModel",
      "state": {}
     },
     "dd506aba823a4bb89637b34865b1b97c": {
      "model_module": "@jupyter-widgets/base",
      "model_module_version": "2.0.0",
      "model_name": "LayoutModel",
      "state": {
       "height": "25px",
       "margin": "0",
       "padding": "0",
       "width": "25px"
      }
     },
     "dd8b5aa885204ca28c9550bb46283a17": {
      "model_module": "@jupyter-widgets/controls",
      "model_module_version": "2.0.0",
      "model_name": "VBoxModel",
      "state": {
       "children": [
        "IPY_MODEL_b52a5f9e8e1447a48e56ba79a505488b",
        "IPY_MODEL_9fbb98d1e86b4b5ebec7fa4b9e1c5c81"
       ],
       "layout": "IPY_MODEL_97d3a33d10f145baa6fad56388853e48"
      }
     },
     "dd8d8f02881b473d9c20465d2dae98b2": {
      "model_module": "@jupyter-widgets/controls",
      "model_module_version": "2.0.0",
      "model_name": "HTMLStyleModel",
      "state": {
       "description_width": "",
       "font_size": null,
       "text_color": null
      }
     },
     "dda26038ebe947f9ad4c49a8109c6fb6": {
      "model_module": "@jupyter-widgets/controls",
      "model_module_version": "2.0.0",
      "model_name": "HBoxModel",
      "state": {
       "children": [
        "IPY_MODEL_bd636a9646c549a892f2474202790125",
        "IPY_MODEL_c4bbba166b9b41e5824ace1b28f7be6b"
       ],
       "layout": "IPY_MODEL_1397bf1984344d53bb0164c1147f69a8"
      }
     },
     "ddc46421443c441383ec637262ae64c2": {
      "model_module": "@jupyter-widgets/base",
      "model_module_version": "2.0.0",
      "model_name": "LayoutModel",
      "state": {
       "overflow": "auto",
       "width": "50%"
      }
     },
     "ddd3a30662b04b88a6022f6bdaf4def2": {
      "model_module": "@jupyter-widgets/controls",
      "model_module_version": "2.0.0",
      "model_name": "AccordionModel",
      "state": {
       "children": [
        "IPY_MODEL_77a45fa921c74cd094043da34013a823",
        "IPY_MODEL_c698c686521b48459a73ee1e5a628043"
       ],
       "layout": "IPY_MODEL_6524bf6a207740d7ae1d61924fffbf79",
       "titles": [
        "UserCode (4 changes)",
        "Request (3 changes)"
       ]
      }
     },
     "de4efe3db819478ea52055265753f05c": {
      "model_module": "@jupyter-widgets/controls",
      "model_module_version": "2.0.0",
      "model_name": "HTMLModel",
      "state": {
       "layout": "IPY_MODEL_596ee4d1e2554c3faef7dd0a71422b7f",
       "style": "IPY_MODEL_3f109fda21f044a99f3a6396946aa1c6",
       "value": "<span style='color: #B4B0BF;'>Syncing changes on</span>"
      }
     },
     "de510610f25f408a9aa7d6b619e7fbf7": {
      "model_module": "@jupyter-widgets/controls",
      "model_module_version": "2.0.0",
      "model_name": "HTMLStyleModel",
      "state": {
       "description_width": "",
       "font_size": null,
       "text_color": null
      }
     },
     "de585942987e402ab4c5b4953db0155a": {
      "model_module": "@jupyter-widgets/controls",
      "model_module_version": "2.0.0",
      "model_name": "HTMLStyleModel",
      "state": {
       "description_width": "",
       "font_size": null,
       "text_color": null
      }
     },
     "deb2e143f3994f6f8a6706bcf91fadcf": {
      "model_module": "@jupyter-widgets/base",
      "model_module_version": "2.0.0",
      "model_name": "LayoutModel",
      "state": {
       "display": "none"
      }
     },
     "dee1aa361c524ec1a61578b530b59a7c": {
      "model_module": "@jupyter-widgets/base",
      "model_module_version": "2.0.0",
      "model_name": "LayoutModel",
      "state": {}
     },
     "def2f13cfc714f3f8d94688d1525ae59": {
      "model_module": "@jupyter-widgets/base",
      "model_module_version": "2.0.0",
      "model_name": "LayoutModel",
      "state": {}
     },
     "def8343cc765445c813357c2208c210a": {
      "model_module": "@jupyter-widgets/base",
      "model_module_version": "2.0.0",
      "model_name": "LayoutModel",
      "state": {}
     },
     "defef896052e40b1b36be0b62d12ea10": {
      "model_module": "@jupyter-widgets/controls",
      "model_module_version": "2.0.0",
      "model_name": "HTMLModel",
      "state": {
       "layout": "IPY_MODEL_460d03ca52ba4cf8a4259f72cc4fcaea",
       "style": "IPY_MODEL_312e8fff82df4c9fbdb630ad3ac0934b",
       "value": "<span style='color: #B4B0BF;'>Syncing changes on</span>"
      }
     },
     "df253ef9573242ba88f5d6f979b0c862": {
      "model_module": "@jupyter-widgets/controls",
      "model_module_version": "2.0.0",
      "model_name": "HTMLStyleModel",
      "state": {
       "description_width": "",
       "font_size": null,
       "text_color": null
      }
     },
     "df328eaf538c4f6db5fbde566941b50e": {
      "model_module": "@jupyter-widgets/controls",
      "model_module_version": "2.0.0",
      "model_name": "HBoxModel",
      "state": {
       "children": [
        "IPY_MODEL_5d98ed0e37184b9296fb8858974d243c",
        "IPY_MODEL_0272669f5001446f8d6886f77577d0a9",
        "IPY_MODEL_f4fde082d6354095b1676a729050a098"
       ],
       "layout": "IPY_MODEL_61e7c4594bf04cf6aa1ff4c6e9603e5c"
      }
     },
     "df3b04bbc98b46749bb2955ea44065f1": {
      "model_module": "@jupyter-widgets/controls",
      "model_module_version": "2.0.0",
      "model_name": "HTMLModel",
      "state": {
       "layout": "IPY_MODEL_959c6a264e344e24b6938837c0d6b55b",
       "style": "IPY_MODEL_37ab82603a6d4937a19e625f8cbefceb",
       "value": "<div style='font-family: monospace; width: 100%;'><b>Low side</b><br><div style='border-left: 1px solid #000; padding-left: 10px;'><div style='background-color: #FEE9CD;; color: #B8520A;; display: block; white-space: pre-wrap; margin-bottom: 5px;'>status: pending</div><div style='background-color: #FEE9CD;; color: #B8520A;; display: block; white-space: pre-wrap; margin-bottom: 5px;'>approved_by: None</div><div style='background-color: transparent; color: #353243; display: block; white-space: pre-wrap; margin-bottom: 5px;'>date_created: 2024-04-27</div><div style='background-color: #D5F1D5;; color: #256B24;; display: block; white-space: pre-wrap; margin-bottom: 5px;'>code: None</div></div></div>"
      }
     },
     "df46af225cbd47bd9fa7a90f864b8bf3": {
      "model_module": "@jupyter-widgets/base",
      "model_module_version": "2.0.0",
      "model_name": "LayoutModel",
      "state": {
       "overflow": "auto",
       "width": "50%"
      }
     },
     "df7b51d107584e2aab31ea96df35fb1a": {
      "model_module": "@jupyter-widgets/base",
      "model_module_version": "2.0.0",
      "model_name": "LayoutModel",
      "state": {}
     },
     "e008e709b86e4d208f92cb3c7ef205f2": {
      "model_module": "@jupyter-widgets/base",
      "model_module_version": "2.0.0",
      "model_name": "LayoutModel",
      "state": {}
     },
     "e02f5007a32046e6b51140d1df7aad95": {
      "model_module": "@jupyter-widgets/controls",
      "model_module_version": "2.0.0",
      "model_name": "VBoxModel",
      "state": {
       "children": [
        "IPY_MODEL_cac4c7588ea74d70b5a7127b816e999a",
        "IPY_MODEL_f43ce5a77fd441b390e41494f0062383",
        "IPY_MODEL_4ff602ebc0e747d8a0d3363c70eacf64"
       ],
       "layout": "IPY_MODEL_49aa5559f062448f97a88c33ccd465c4"
      }
     },
     "e062ebff8a844b23b9b03eb7f5289025": {
      "model_module": "@jupyter-widgets/controls",
      "model_module_version": "2.0.0",
      "model_name": "HBoxModel",
      "state": {
       "children": [
        "IPY_MODEL_05958381069c4df0988bdb141674a65b",
        "IPY_MODEL_168d693ed15e413cb18eeacee46ff822",
        "IPY_MODEL_70ed828806a8447da58ba9d9d7421733"
       ],
       "layout": "IPY_MODEL_be56b4976c564f268758cf69a794e93b"
      }
     },
     "e0a1617476df423487f3c46f09032242": {
      "model_module": "@jupyter-widgets/base",
      "model_module_version": "2.0.0",
      "model_name": "LayoutModel",
      "state": {}
     },
     "e0b0d5dec4c147b7aede3ff0bf734aea": {
      "model_module": "@jupyter-widgets/base",
      "model_module_version": "2.0.0",
      "model_name": "LayoutModel",
      "state": {
       "height": "25px",
       "margin": "0",
       "padding": "0",
       "width": "25px"
      }
     },
     "e0e2536b3e5348418e14647ab75c2d67": {
      "model_module": "@jupyter-widgets/base",
      "model_module_version": "2.0.0",
      "model_name": "LayoutModel",
      "state": {}
     },
     "e118aeae958a4b178b96542460025437": {
      "model_module": "@jupyter-widgets/base",
      "model_module_version": "2.0.0",
      "model_name": "LayoutModel",
      "state": {}
     },
     "e119d8f6632647b1b2d0cccc4b93bee8": {
      "model_module": "@jupyter-widgets/base",
      "model_module_version": "2.0.0",
      "model_name": "LayoutModel",
      "state": {}
     },
     "e129bfae145845c8b17acf7310b5a16d": {
      "model_module": "@jupyter-widgets/controls",
      "model_module_version": "2.0.0",
      "model_name": "CheckboxModel",
      "state": {
       "description": "Sync",
       "disabled": false,
       "layout": "IPY_MODEL_45c502090dc84da396944ed69936f7c0",
       "style": "IPY_MODEL_b934125e87984720a9ed7942abaa091b",
       "value": false
      }
     },
     "e142d3f873474037994d09038388acd3": {
      "model_module": "@jupyter-widgets/controls",
      "model_module_version": "2.0.0",
      "model_name": "HTMLStyleModel",
      "state": {
       "description_width": "",
       "font_size": null,
       "text_color": null
      }
     },
     "e1b58810ee01420e9598173d86fb9f28": {
      "model_module": "@jupyter-widgets/controls",
      "model_module_version": "2.0.0",
      "model_name": "HBoxModel",
      "state": {
       "children": [
        "IPY_MODEL_4e8821628d0a47d18188c295adbd83d3",
        "IPY_MODEL_f6e4b041c5514aecac5e667eb772e71b"
       ],
       "layout": "IPY_MODEL_ac45ae124c814bc69f41e4fc76dcbee4"
      }
     },
     "e1d117af230c47fca4acd5cbb3baf1a3": {
      "model_module": "@jupyter-widgets/base",
      "model_module_version": "2.0.0",
      "model_name": "LayoutModel",
      "state": {}
     },
     "e1de7d4766724ceb995b610e2d5bf63e": {
      "model_module": "@jupyter-widgets/controls",
      "model_module_version": "2.0.0",
      "model_name": "HTMLStyleModel",
      "state": {
       "description_width": "",
       "font_size": null,
       "text_color": null
      }
     },
     "e20c15af33cb4836b07f41f965d5eb1b": {
      "model_module": "@jupyter-widgets/controls",
      "model_module_version": "2.0.0",
      "model_name": "HTMLModel",
      "state": {
       "layout": "IPY_MODEL_526c7f7a9a2c49658734f58e401982b6",
       "style": "IPY_MODEL_61b0990955014444a272e3729d18582d",
       "value": "<span style='background-color: #C2DEF0; border-radius: 4px; padding: 4px 6px; color: #373B7B;'>Job</span>"
      }
     },
     "e26d926a94274733a83f9d616c4c95c1": {
      "model_module": "@jupyter-widgets/base",
      "model_module_version": "2.0.0",
      "model_name": "LayoutModel",
      "state": {
       "align_items": "center"
      }
     },
     "e2b0089f85f94726a3bd2fa8a9d4c5a7": {
      "model_module": "@jupyter-widgets/base",
      "model_module_version": "2.0.0",
      "model_name": "LayoutModel",
      "state": {}
     },
     "e2b67baf30da442fb7e83327d144d186": {
      "model_module": "@jupyter-widgets/controls",
      "model_module_version": "2.0.0",
      "model_name": "CheckboxStyleModel",
      "state": {
       "description_width": ""
      }
     },
     "e2baf3da9d2c43be83c2e0d8546f0e66": {
      "model_module": "@jupyter-widgets/controls",
      "model_module_version": "2.0.0",
      "model_name": "HTMLModel",
      "state": {
       "layout": "IPY_MODEL_850722d1428d4405a533049fbb2194d6",
       "style": "IPY_MODEL_50a5afd0f07546cda8918b7d91176c5f",
       "value": "<div style='font-family: monospace; width: 100%;'><b>High side</b><br><div style='border-left: 1px solid #000; padding-left: 10px;'><div style='background-color: #FEE9CD;; color: #B8520A;; display: block; white-space: pre-wrap; margin-bottom: 5px;'>status: approved</div><div style='background-color: #FEE9CD;; color: #B8520A;; display: block; white-space: pre-wrap; margin-bottom: 5px;'>approved_by: admin</div><div style='background-color: transparent; color: #353243; display: block; white-space: pre-wrap; margin-bottom: 5px;'>date_created: 2024-04-27</div></div></div>"
      }
     },
     "e2e444829d3f4bd883eb4affd2266b2b": {
      "model_module": "@jupyter-widgets/base",
      "model_module_version": "2.0.0",
      "model_name": "LayoutModel",
      "state": {
       "border_bottom": "solid 2px",
       "border_left": "solid 2px",
       "border_right": "solid 2px",
       "border_top": "solid 2px"
      }
     },
     "e30faceafb874fb0a45f7069013d8188": {
      "model_module": "@jupyter-widgets/controls",
      "model_module_version": "2.0.0",
      "model_name": "VBoxModel",
      "state": {
       "children": [
        "IPY_MODEL_8b5ebae20c124599ae0a41c7567fd9fa",
        "IPY_MODEL_c5028267ca65410fa915d30b46b61775",
        "IPY_MODEL_f1ab97551ce24aefa2a219310d03d4f5",
        "IPY_MODEL_151ab67599a04b918598d072691e779c"
       ],
       "layout": "IPY_MODEL_8d3ce69d5cb94e2eb5bf6a661a6882ab"
      }
     },
     "e34f6d8bf08f4a4fb6c0a6a26399dda5": {
      "model_module": "@jupyter-widgets/controls",
      "model_module_version": "2.0.0",
      "model_name": "HTMLStyleModel",
      "state": {
       "description_width": "",
       "font_size": null,
       "text_color": null
      }
     },
     "e35c76229e3847ce99b30084b9c085c1": {
      "model_module": "@jupyter-widgets/controls",
      "model_module_version": "2.0.0",
      "model_name": "HBoxModel",
      "state": {
       "children": [
        "IPY_MODEL_1495fb6b6cd54c4ea2e684026aa097fe",
        "IPY_MODEL_37f88844251e4ed6b3880a68990b855c",
        "IPY_MODEL_f56b1d25aa8c435d86d6309785c1eb91"
       ],
       "layout": "IPY_MODEL_23a2e3764cf2448aa7ca5607fb049955"
      }
     },
     "e37bb0447f5f4f87a99ec1dbf59cd1d5": {
      "model_module": "@jupyter-widgets/base",
      "model_module_version": "2.0.0",
      "model_name": "LayoutModel",
      "state": {
       "height": "25px",
       "margin": "0",
       "padding": "0",
       "width": "25px"
      }
     },
     "e383971091a24c20a6a5e8911bdafffc": {
      "model_module": "@jupyter-widgets/base",
      "model_module_version": "2.0.0",
      "model_name": "LayoutModel",
      "state": {
       "overflow": "auto",
       "width": "50%"
      }
     },
     "e3888c9703fe42f2826775fabd230da8": {
      "model_module": "@jupyter-widgets/controls",
      "model_module_version": "2.0.0",
      "model_name": "HTMLModel",
      "state": {
       "layout": "IPY_MODEL_e383971091a24c20a6a5e8911bdafffc",
       "style": "IPY_MODEL_1c6b4aeee5eb4b5f9b0e612b0e9757bf",
       "value": "<div style='font-family: monospace; width: 100%;'><b>Low side</b><br><div style='border-left: 1px solid #000; padding-left: 10px;'><div style='background-color: #FEE9CD;; color: #B8520A;; display: block; white-space: pre-wrap; margin-bottom: 5px;'>status: pending</div><div style='background-color: #FEE9CD;; color: #B8520A;; display: block; white-space: pre-wrap; margin-bottom: 5px;'>approved_by: None</div><div style='background-color: transparent; color: #353243; display: block; white-space: pre-wrap; margin-bottom: 5px;'>date_created: 2024-04-27</div></div></div>"
      }
     },
     "e3ade9c2d55c4908b51ca8a94b38c0d4": {
      "model_module": "@jupyter-widgets/base",
      "model_module_version": "2.0.0",
      "model_name": "LayoutModel",
      "state": {
       "width": "100%"
      }
     },
     "e3d3fa2519b54b83a9a82d3de74d0dc5": {
      "model_module": "@jupyter-widgets/controls",
      "model_module_version": "2.0.0",
      "model_name": "HTMLModel",
      "state": {
       "layout": "IPY_MODEL_747785571c21498a87273c75d5c7b5cc",
       "style": "IPY_MODEL_71ff1fd1f5b34f59a253e95c54052945",
       "value": "<span style='margin-left: 5px; font-weight: bold; color: #373B7B;'>main_1</span> <span style='margin-left: 5px; color: #B4B0BF;'>#1234...</span>"
      }
     },
     "e427e8e8e69647908eb9b4ce53ecffca": {
      "model_module": "@jupyter-widgets/controls",
      "model_module_version": "2.0.0",
      "model_name": "HTMLModel",
      "state": {
       "layout": "IPY_MODEL_1eb18562a04b4ea58ab1dcdcbdae9e98",
       "style": "IPY_MODEL_f4793f1c45c144659c22d0f21ea217d0",
       "value": "<div style='font-family: monospace; width: 100%;'><b>High side</b><br><div style='border-left: 1px solid #000; padding-left: 10px;'><div style='background-color: #ffffcc;display: block; white-space: pre-wrap; margin-bottom: 5px;'>status: approved</div><div style='background-color: #ffffcc;display: block; white-space: pre-wrap; margin-bottom: 5px;'>approved_by: admin</div><div style='display: block; white-space: pre-wrap; margin-bottom: 5px;'>date_created: 2024-04-27</div></div></div>"
      }
     },
     "e4634e60c5ff4a2294acdb8681d8b97d": {
      "model_module": "@jupyter-widgets/controls",
      "model_module_version": "2.0.0",
      "model_name": "ButtonStyleModel",
      "state": {
       "font_family": null,
       "font_size": null,
       "font_style": null,
       "font_variant": null,
       "font_weight": null,
       "text_color": null,
       "text_decoration": null
      }
     },
     "e46823ea3cf149ab83aa25d6cdf45fdc": {
      "model_module": "@jupyter-widgets/base",
      "model_module_version": "2.0.0",
      "model_name": "LayoutModel",
      "state": {}
     },
     "e46bb3c10a7747edbb3525088dbe1d46": {
      "model_module": "@jupyter-widgets/base",
      "model_module_version": "2.0.0",
      "model_name": "LayoutModel",
      "state": {}
     },
     "e4762d5445204a5daefd25ecd9e73642": {
      "model_module": "@jupyter-widgets/base",
      "model_module_version": "2.0.0",
      "model_name": "LayoutModel",
      "state": {
       "align_items": "center"
      }
     },
     "e49d04eb38994045b4f8e39198663368": {
      "model_module": "@jupyter-widgets/base",
      "model_module_version": "2.0.0",
      "model_name": "LayoutModel",
      "state": {}
     },
     "e4a691dae26a483180795644823e1e18": {
      "model_module": "@jupyter-widgets/controls",
      "model_module_version": "2.0.0",
      "model_name": "HTMLModel",
      "state": {
       "layout": "IPY_MODEL_734b1086927c4ba28125dbd8bad879b6",
       "style": "IPY_MODEL_be80bb637a124a028f34eb2fe86dd4e6",
       "value": "<div style='font-family: monospace; width: 100%;'><b>High side</b><br><div style='border-left: 1px solid #000; padding-left: 10px;'><div style='background-color: background-color: #FEE9CD; color: background-color: #B8520A; display: block; white-space: pre-wrap; margin-bottom: 5px;'>status: approved</div><div style='background-color: background-color: #FEE9CD; color: background-color: #B8520A; display: block; white-space: pre-wrap; margin-bottom: 5px;'>approved_by: admin</div><div style='background-color: transparent color: #353243 display: block; white-space: pre-wrap; margin-bottom: 5px;'>date_created: 2024-04-27</div><div style='background-color: background-color: #D5F1D5; color: background-color: #256B24; display: block; white-space: pre-wrap; margin-bottom: 5px;'>code: @syft.function\ndef compute_mean(data: np.ndarray):\n    print(\"computing mean...\")\n    return data.mean()\n</div></div></div>"
      }
     },
     "e4fa89ec4efb4c24afe0ef750266460f": {
      "model_module": "@jupyter-widgets/controls",
      "model_module_version": "2.0.0",
      "model_name": "HTMLStyleModel",
      "state": {
       "description_width": "",
       "font_size": null,
       "text_color": null
      }
     },
     "e50055817aa94eb08cf86e38f1823e36": {
      "model_module": "@jupyter-widgets/base",
      "model_module_version": "2.0.0",
      "model_name": "LayoutModel",
      "state": {}
     },
     "e502d64e08c446b1b6b0f2db2e64f1c5": {
      "model_module": "@jupyter-widgets/base",
      "model_module_version": "2.0.0",
      "model_name": "LayoutModel",
      "state": {}
     },
     "e51c9b99a2214b1c9c437f6401004ebb": {
      "model_module": "@jupyter-widgets/base",
      "model_module_version": "2.0.0",
      "model_name": "LayoutModel",
      "state": {
       "border_bottom": "solid 1px",
       "border_left": "solid 1px",
       "border_right": "solid 1px",
       "border_top": "solid 1px",
       "padding": "5"
      }
     },
     "e528ad07310c4003a66883192dc1224e": {
      "model_module": "@jupyter-widgets/controls",
      "model_module_version": "2.0.0",
      "model_name": "HTMLStyleModel",
      "state": {
       "description_width": "",
       "font_size": null,
       "text_color": null
      }
     },
     "e53bc2f367f5414385ad9c0435f89194": {
      "model_module": "@jupyter-widgets/controls",
      "model_module_version": "2.0.0",
      "model_name": "HTMLStyleModel",
      "state": {
       "description_width": "",
       "font_size": null,
       "text_color": null
      }
     },
     "e54e74125d64444b855f13ac3ac1d381": {
      "model_module": "@jupyter-widgets/controls",
      "model_module_version": "2.0.0",
      "model_name": "HTMLModel",
      "state": {
       "layout": "IPY_MODEL_9c5278a2b528404f9a32da2ff1323be7",
       "style": "IPY_MODEL_747de2d6b0b14277b681b877de39845b",
       "value": "<div style='font-family: monospace; width: 100%;'>To<br><div style='border-left: 1px solid #B4B0BF; padding-left: 10px;'><div style='background-color: #FEE9CD;; color: #B8520A;; display: block; white-space: pre-wrap; margin-bottom: 5px;'>status: approved</div><div style='background-color: #FEE9CD;; color: #B8520A;; display: block; white-space: pre-wrap; margin-bottom: 5px;'>approved_by: admin</div><div style='background-color: transparent; color: #353243; display: block; white-space: pre-wrap; margin-bottom: 5px;'>date_created: 2024-04-27</div><div style='background-color: #D5F1D5;; color: #256B24;; display: block; white-space: pre-wrap; margin-bottom: 5px;'>code: @syft.function\ndef compute_mean(data: np.ndarray):\n    print(\"computing mean...\")\n    return data.mean()\n</div></div></div>"
      }
     },
     "e551246276ca426daf7ee00e2d8bbe48": {
      "model_module": "@jupyter-widgets/base",
      "model_module_version": "2.0.0",
      "model_name": "LayoutModel",
      "state": {}
     },
     "e58d24be39e74431beb977b0e5b41325": {
      "model_module": "@jupyter-widgets/base",
      "model_module_version": "2.0.0",
      "model_name": "LayoutModel",
      "state": {
       "align_items": "center",
       "display": "flex"
      }
     },
     "e59c2b1621664612b096147623822fe8": {
      "model_module": "@jupyter-widgets/base",
      "model_module_version": "2.0.0",
      "model_name": "LayoutModel",
      "state": {
       "border_bottom": "solid 0.5px",
       "border_left": "solid 0.5px",
       "border_right": "solid 0.5px",
       "border_top": "solid 0.5px",
       "padding": "16px"
      }
     },
     "e5bded2ad24e42e88950f0fc383545cf": {
      "model_module": "@jupyter-widgets/base",
      "model_module_version": "2.0.0",
      "model_name": "LayoutModel",
      "state": {}
     },
     "e5ed64c7fb674740868a49c82d52abf9": {
      "model_module": "@jupyter-widgets/base",
      "model_module_version": "2.0.0",
      "model_name": "LayoutModel",
      "state": {}
     },
     "e6137c2703e3410e8a08d254bb3d98d5": {
      "model_module": "@jupyter-widgets/controls",
      "model_module_version": "2.0.0",
      "model_name": "HTMLStyleModel",
      "state": {
       "description_width": "",
       "font_size": null,
       "text_color": null
      }
     },
     "e61498bfb2dc497cb1e386e8b74cf640": {
      "model_module": "@jupyter-widgets/controls",
      "model_module_version": "2.0.0",
      "model_name": "HTMLModel",
      "state": {
       "layout": "IPY_MODEL_ddc46421443c441383ec637262ae64c2",
       "style": "IPY_MODEL_b519be7b67904ca88e67b021769e004d",
       "value": "<div style='font-family: monospace; width: 100%;'><b>High side</b><br><div style='border-left: 1px solid #000; padding-left: 10px;'><div style='background-color: #FEE9CD;; color: #B8520A;; display: block; white-space: pre-wrap; margin-bottom: 5px;'>status: approved</div><div style='background-color: #FEE9CD;; color: #B8520A;; display: block; white-space: pre-wrap; margin-bottom: 5px;'>approved_by: admin</div><div style='background-color: transparent; color: #353243; display: block; white-space: pre-wrap; margin-bottom: 5px;'>date_created: 2024-04-27</div><div style='background-color: #D5F1D5;; color: #256B24;; display: block; white-space: pre-wrap; margin-bottom: 5px;'>code: @syft.function\ndef compute_mean(data: np.ndarray):\n    print(\"computing mean...\")\n    return data.mean()\n</div></div></div>"
      }
     },
     "e61a58b665d74bc48e64733a5f0234c7": {
      "model_module": "@jupyter-widgets/base",
      "model_module_version": "2.0.0",
      "model_name": "LayoutModel",
      "state": {}
     },
     "e651122be6a240df9f02a2dbe816a347": {
      "model_module": "@jupyter-widgets/base",
      "model_module_version": "2.0.0",
      "model_name": "LayoutModel",
      "state": {
       "height": "25px",
       "margin": "0",
       "padding": "0",
       "width": "25px"
      }
     },
     "e6c19ab40994412ba0f1dadd1ba3bb85": {
      "model_module": "@jupyter-widgets/controls",
      "model_module_version": "2.0.0",
      "model_name": "HTMLModel",
      "state": {
       "layout": "IPY_MODEL_5c38b72cc84046bebac991f3f46a0c8e",
       "style": "IPY_MODEL_5fb55c54bf584d08b4efabe599046247",
       "value": "<span style='color: #B4B0BF;'>Syncing changes on</span>"
      }
     },
     "e6c9bac912804b0bb5b3aa17589ee182": {
      "model_module": "@jupyter-widgets/controls",
      "model_module_version": "2.0.0",
      "model_name": "ButtonModel",
      "state": {
       "icon": "clone",
       "layout": "IPY_MODEL_fc54f9f8e11e462d9e93e0867ed74c9f",
       "style": "IPY_MODEL_273fa629271a4d1c82b0b4e7d4de5a1e",
       "tooltip": null
      }
     },
     "e749e122bca84b44ac77399190da1116": {
      "model_module": "@jupyter-widgets/base",
      "model_module_version": "2.0.0",
      "model_name": "LayoutModel",
      "state": {
       "overflow": "auto",
       "width": "50%"
      }
     },
     "e75ed91a877240269ed724504c6b0b28": {
      "model_module": "@jupyter-widgets/controls",
      "model_module_version": "2.0.0",
      "model_name": "HTMLStyleModel",
      "state": {
       "description_width": "",
       "font_size": null,
       "text_color": null
      }
     },
     "e783c840026d408e80253671125d2fdd": {
      "model_module": "@jupyter-widgets/controls",
      "model_module_version": "2.0.0",
      "model_name": "HTMLStyleModel",
      "state": {
       "description_width": "",
       "font_size": null,
       "text_color": null
      }
     },
     "e793e4fb56ac4f32a571016e17063f9d": {
      "model_module": "@jupyter-widgets/controls",
      "model_module_version": "2.0.0",
      "model_name": "HTMLModel",
      "state": {
       "layout": "IPY_MODEL_6050fa7c214e4e21b4f5c127c94894bf",
       "style": "IPY_MODEL_f936d391e01345faaff22b810af61d75",
       "value": "<div style=\"text-align: center; margin: 10px 0; border: 1px dashed #B4B0BF;\"></div>"
      }
     },
     "e7a635083cb74e04b25012c38f0ddcd1": {
      "model_module": "@jupyter-widgets/controls",
      "model_module_version": "2.0.0",
      "model_name": "HTMLModel",
      "state": {
       "layout": "IPY_MODEL_8b1d69f143c54907ac60dee0d06e3f5c",
       "style": "IPY_MODEL_53c11b40672543ec9a6200a4766dd6e8",
       "value": "<span style='background-color: #C2DEF0; border-radius: 4px; padding: 4px 6px; color: #373B7B;'>Job</span>"
      }
     },
     "e83b807062a84c55a2c9b7947da74419": {
      "model_module": "@jupyter-widgets/base",
      "model_module_version": "2.0.0",
      "model_name": "LayoutModel",
      "state": {}
     },
     "e83cb4ec8de94093af2e7cf18728f8d2": {
      "model_module": "@jupyter-widgets/controls",
      "model_module_version": "2.0.0",
      "model_name": "VBoxModel",
      "state": {
       "children": [
        "IPY_MODEL_3a561467d01244f1b68c04337776bc92",
        "IPY_MODEL_b3b38a4f062641dc800020b86cfa95af"
       ],
       "layout": "IPY_MODEL_46968e267bea4528963deb616fb1e072"
      }
     },
     "e87e737f2c16467e8d795707f36a8efb": {
      "model_module": "@jupyter-widgets/controls",
      "model_module_version": "2.0.0",
      "model_name": "HTMLStyleModel",
      "state": {
       "description_width": "",
       "font_size": null,
       "text_color": null
      }
     },
     "e89f18c922244723a03f0afe48d8bd19": {
      "model_module": "@jupyter-widgets/controls",
      "model_module_version": "2.0.0",
      "model_name": "HTMLStyleModel",
      "state": {
       "description_width": "",
       "font_size": null,
       "text_color": null
      }
     },
     "e8d83684c1c44536833caad1c3d4ef3c": {
      "model_module": "@jupyter-widgets/base",
      "model_module_version": "2.0.0",
      "model_name": "LayoutModel",
      "state": {}
     },
     "e8ea62e8643c47d1ad48cb132dad1a5b": {
      "model_module": "@jupyter-widgets/controls",
      "model_module_version": "2.0.0",
      "model_name": "HBoxModel",
      "state": {
       "children": [
        "IPY_MODEL_9fedc53185554d8392d00efec3227ef7"
       ],
       "layout": "IPY_MODEL_e5bded2ad24e42e88950f0fc383545cf"
      }
     },
     "e8f21f02836d4fb9911fab63bfd26fc8": {
      "model_module": "@jupyter-widgets/base",
      "model_module_version": "2.0.0",
      "model_name": "LayoutModel",
      "state": {}
     },
     "e90ad8db1c21423b9fa68899f0521b1e": {
      "model_module": "@jupyter-widgets/controls",
      "model_module_version": "2.0.0",
      "model_name": "HTMLModel",
      "state": {
       "layout": "IPY_MODEL_eee43cbe0d0c4cf9a589733b85ab32b2",
       "style": "IPY_MODEL_e4fa89ec4efb4c24afe0ef750266460f",
       "value": "<div style='font-family: monospace; width: 100%;'>Low side<br><div style='border-left: 1px solid #000; padding-left: 10px;'><div style='background-color: #FEE9CD;; color: #B8520A;; display: block; white-space: pre-wrap; margin-bottom: 5px;'>status: pending</div><div style='background-color: #FEE9CD;; color: #B8520A;; display: block; white-space: pre-wrap; margin-bottom: 5px;'>approved_by: None</div><div style='background-color: transparent; color: #353243; display: block; white-space: pre-wrap; margin-bottom: 5px;'>date_created: 2024-04-27</div><div style='background-color: #D5F1D5;; color: #256B24;; display: block; white-space: pre-wrap; margin-bottom: 5px;'>code: None</div></div></div>"
      }
     },
     "e90e084e5901434bb18879584712b5b7": {
      "model_module": "@jupyter-widgets/base",
      "model_module_version": "2.0.0",
      "model_name": "LayoutModel",
      "state": {
       "align_items": "center"
      }
     },
     "e912d2f9132a459ea17cf7bc7e53c633": {
      "model_module": "@jupyter-widgets/base",
      "model_module_version": "2.0.0",
      "model_name": "LayoutModel",
      "state": {}
     },
     "e9197d3072d9478da956b42333e764db": {
      "model_module": "@jupyter-widgets/controls",
      "model_module_version": "2.0.0",
      "model_name": "HBoxModel",
      "state": {
       "children": [
        "IPY_MODEL_052c08754f4245359de9b2112e5d3c74",
        "IPY_MODEL_c1c47decbaa747ecb2e0ea5494b7a227",
        "IPY_MODEL_01a85c7e49054727843d060e4e314a5e"
       ],
       "layout": "IPY_MODEL_9b2b042b4f22472083a358d2a5115a76"
      }
     },
     "e91db29e643f4097b4bc7ac108b15e55": {
      "model_module": "@jupyter-widgets/base",
      "model_module_version": "2.0.0",
      "model_name": "LayoutModel",
      "state": {
       "overflow": "auto",
       "width": "50%"
      }
     },
     "e944f48468e340d4b075f4bacd98c918": {
      "model_module": "@jupyter-widgets/base",
      "model_module_version": "2.0.0",
      "model_name": "LayoutModel",
      "state": {}
     },
     "e97e5567b4eb4168b1369647ab5f196b": {
      "model_module": "@jupyter-widgets/base",
      "model_module_version": "2.0.0",
      "model_name": "LayoutModel",
      "state": {
       "display": "none"
      }
     },
     "e9a4caa5c6dc432cbec2bad35cf96767": {
      "model_module": "@jupyter-widgets/controls",
      "model_module_version": "2.0.0",
      "model_name": "HTMLStyleModel",
      "state": {
       "description_width": "",
       "font_size": null,
       "text_color": null
      }
     },
     "e9bb6769c26947f094479cd948785f89": {
      "model_module": "@jupyter-widgets/base",
      "model_module_version": "2.0.0",
      "model_name": "LayoutModel",
      "state": {
       "display": "none"
      }
     },
     "ea0ac2cee817414a91a85bcbc9c79a39": {
      "model_module": "@jupyter-widgets/controls",
      "model_module_version": "2.0.0",
      "model_name": "CheckboxStyleModel",
      "state": {
       "description_width": ""
      }
     },
     "eabbba608fa84936a91ba4b681ade5ee": {
      "model_module": "@jupyter-widgets/base",
      "model_module_version": "2.0.0",
      "model_name": "LayoutModel",
      "state": {
       "border_bottom": "solid 1px",
       "border_left": "solid 1px",
       "border_right": "solid 1px",
       "border_top": "solid 1px",
       "margin": "50 50 50 50",
       "padding": "50"
      }
     },
     "eb23f09ead73468a86308e3a44737fd0": {
      "model_module": "@jupyter-widgets/controls",
      "model_module_version": "2.0.0",
      "model_name": "HTMLModel",
      "state": {
       "layout": "IPY_MODEL_558c206c6fba41028755945b7ea681ea",
       "style": "IPY_MODEL_73d35a936e2d44efa048a3d125b57307",
       "value": "<div style='font-family: monospace; width: 100%;'><b>Low side</b><br><div style='border-left: 1px solid #000; padding-left: 10px;'><div style='background-color: #FEE9CD;; color: #B8520A;; display: block; white-space: pre-wrap; margin-bottom: 5px;'>status: pending</div><div style='background-color: #FEE9CD;; color: #B8520A;; display: block; white-space: pre-wrap; margin-bottom: 5px;'>approved_by: None</div><div style='background-color: transparent; color: #353243; display: block; white-space: pre-wrap; margin-bottom: 5px;'>date_created: 2024-04-27</div></div></div>"
      }
     },
     "eb4ab368a8c74054870f8e777e99a974": {
      "model_module": "@jupyter-widgets/base",
      "model_module_version": "2.0.0",
      "model_name": "LayoutModel",
      "state": {}
     },
     "eb5d1d23d240479cb482fed29ed206f1": {
      "model_module": "@jupyter-widgets/base",
      "model_module_version": "2.0.0",
      "model_name": "LayoutModel",
      "state": {}
     },
     "eb74d3bc560848b4bda73ad7e02250d3": {
      "model_module": "@jupyter-widgets/controls",
      "model_module_version": "2.0.0",
      "model_name": "CheckboxStyleModel",
      "state": {
       "description_width": ""
      }
     },
     "eb855744c5c248498f0299c5654a96a0": {
      "model_module": "@jupyter-widgets/controls",
      "model_module_version": "2.0.0",
      "model_name": "HTMLStyleModel",
      "state": {
       "description_width": "",
       "font_size": null,
       "text_color": null
      }
     },
     "eb936a8073764e93970e3d5235668da4": {
      "model_module": "@jupyter-widgets/controls",
      "model_module_version": "2.0.0",
      "model_name": "VBoxModel",
      "state": {
       "children": [
        "IPY_MODEL_c8092eb461d948189591bc691e2b22aa",
        "IPY_MODEL_f61de1ab367349fba6875f504813ac59"
       ],
       "layout": "IPY_MODEL_e2e444829d3f4bd883eb4affd2266b2b"
      }
     },
     "ed513e3318e7465e89d3cabe8575983a": {
      "model_module": "@jupyter-widgets/base",
      "model_module_version": "2.0.0",
      "model_name": "LayoutModel",
      "state": {}
     },
     "edbd70e46c4846268e07b059527d0566": {
      "model_module": "@jupyter-widgets/controls",
      "model_module_version": "2.0.0",
      "model_name": "ButtonStyleModel",
      "state": {
       "font_family": null,
       "font_size": null,
       "font_style": null,
       "font_variant": null,
       "font_weight": null,
       "text_color": null,
       "text_decoration": null
      }
     },
     "edbef2c1306b45d39f68401e55a2f3c6": {
      "model_module": "@jupyter-widgets/base",
      "model_module_version": "2.0.0",
      "model_name": "LayoutModel",
      "state": {
       "margin": "0 5px 0 0"
      }
     },
     "edd7579c5676446a90a70612431929e0": {
      "model_module": "@jupyter-widgets/controls",
      "model_module_version": "2.0.0",
      "model_name": "BoxModel",
      "state": {
       "children": [
        "IPY_MODEL_95edff7a0ea548a1898950b4f5ec28b2",
        "IPY_MODEL_b3bdcea6eb2a4ef8b76a97b9987df491"
       ],
       "layout": "IPY_MODEL_967852161f8c4172aa269e015d54e96c"
      }
     },
     "edfc483f577448c38dfd4a2df8eb7105": {
      "model_module": "@jupyter-widgets/base",
      "model_module_version": "2.0.0",
      "model_name": "LayoutModel",
      "state": {}
     },
     "ee1fec302af24df28e19a7df10c55587": {
      "model_module": "@jupyter-widgets/base",
      "model_module_version": "2.0.0",
      "model_name": "LayoutModel",
      "state": {}
     },
     "ee6f686cd20c42c3a8e2535431f0ed17": {
      "model_module": "@jupyter-widgets/controls",
      "model_module_version": "2.0.0",
      "model_name": "HBoxModel",
      "state": {
       "layout": "IPY_MODEL_a5bca320f1d442f0b32278353992e8d4"
      }
     },
     "eee43cbe0d0c4cf9a589733b85ab32b2": {
      "model_module": "@jupyter-widgets/base",
      "model_module_version": "2.0.0",
      "model_name": "LayoutModel",
      "state": {
       "overflow": "auto",
       "width": "50%"
      }
     },
     "ef32da68ffa948d3ac07f78a1804ffb2": {
      "model_module": "@jupyter-widgets/controls",
      "model_module_version": "2.0.0",
      "model_name": "BoxModel",
      "state": {
       "children": [
        "IPY_MODEL_2e9b713e86d549b4b3f959defa7454b3"
       ],
       "layout": "IPY_MODEL_93144534c1054f36a0edd36908fe4796"
      }
     },
     "ef4deeadfc344afabd854211c11be14d": {
      "model_module": "@jupyter-widgets/controls",
      "model_module_version": "2.0.0",
      "model_name": "HTMLModel",
      "state": {
       "layout": "IPY_MODEL_eb5d1d23d240479cb482fed29ed206f1",
       "style": "IPY_MODEL_7686ec5005774dd3975c0e92d5254e07",
       "value": "<span style='color: #5E5A72;'>This would sync <span style='color: #B8520A'>2 changes </span> from <i>Low Node</i> to <i>High Node</i></span>"
      }
     },
     "ef69ff9bf2e64cb29bf5a566526d00eb": {
      "model_module": "@jupyter-widgets/base",
      "model_module_version": "2.0.0",
      "model_name": "LayoutModel",
      "state": {}
     },
     "ef6e4630f14e43e699d4b8d830dbf0b1": {
      "model_module": "@jupyter-widgets/controls",
      "model_module_version": "2.0.0",
      "model_name": "ButtonStyleModel",
      "state": {
       "font_family": null,
       "font_size": null,
       "font_style": null,
       "font_variant": null,
       "font_weight": null,
       "text_color": null,
       "text_decoration": null
      }
     },
     "ef770cb826d74440a32be2fa62a5ed83": {
      "model_module": "@jupyter-widgets/base",
      "model_module_version": "2.0.0",
      "model_name": "LayoutModel",
      "state": {}
     },
     "ef7e221ae9f742f08c1b66ec93a14b8e": {
      "model_module": "@jupyter-widgets/controls",
      "model_module_version": "2.0.0",
      "model_name": "CheckboxStyleModel",
      "state": {
       "description_width": ""
      }
     },
     "efc4847c8d0141f4947ffcf516a1c343": {
      "model_module": "@jupyter-widgets/base",
      "model_module_version": "2.0.0",
      "model_name": "LayoutModel",
      "state": {}
     },
     "efdf4c979d1b46e2a9c62fece6fdd765": {
      "model_module": "@jupyter-widgets/controls",
      "model_module_version": "2.0.0",
      "model_name": "HTMLModel",
      "state": {
       "layout": "IPY_MODEL_79459671730147299871f36a10ef024f",
       "style": "IPY_MODEL_517f786368e44007ae2770b0101102fa",
       "value": "<div style='font-family: monospace; width: 100%;'>High side<br><div style='border-left: 1px solid #000; padding-left: 10px;'><div style='background-color: #FEE9CD;; color: #B8520A;; display: block; white-space: pre-wrap; margin-bottom: 5px;'>status: approved</div><div style='background-color: #FEE9CD;; color: #B8520A;; display: block; white-space: pre-wrap; margin-bottom: 5px;'>approved_by: admin</div><div style='background-color: transparent; color: #353243; display: block; white-space: pre-wrap; margin-bottom: 5px;'>date_created: 2024-04-27</div><div style='background-color: #D5F1D5;; color: #256B24;; display: block; white-space: pre-wrap; margin-bottom: 5px;'>code: @syft.function\ndef compute_mean(data: np.ndarray):\n    print(\"computing mean...\")\n    return data.mean()\n</div></div></div>"
      }
     },
     "efe61a47c25b4f9a8653be26a37f352b": {
      "model_module": "@jupyter-widgets/base",
      "model_module_version": "2.0.0",
      "model_name": "LayoutModel",
      "state": {
       "border_bottom": "solid 2px",
       "border_left": "solid 2px",
       "border_right": "solid 2px",
       "border_top": "solid 2px"
      }
     },
     "f030fa40862e4d059fa0ac1b8c9b28c5": {
      "model_module": "@jupyter-widgets/base",
      "model_module_version": "2.0.0",
      "model_name": "LayoutModel",
      "state": {}
     },
     "f071eb183ba44fafafa863fa9ddea0de": {
      "model_module": "@jupyter-widgets/base",
      "model_module_version": "2.0.0",
      "model_name": "LayoutModel",
      "state": {
       "margin": "0 5px 0 0"
      }
     },
     "f07e42f11fb74b05a0b859f690858a0c": {
      "model_module": "@jupyter-widgets/base",
      "model_module_version": "2.0.0",
      "model_name": "LayoutModel",
      "state": {}
     },
     "f08a264385a249fba1dcec8c9bd1dd65": {
      "model_module": "@jupyter-widgets/base",
      "model_module_version": "2.0.0",
      "model_name": "LayoutModel",
      "state": {
       "width": "100%"
      }
     },
     "f0a388bc48b843a884534a5fc40f6483": {
      "model_module": "@jupyter-widgets/controls",
      "model_module_version": "2.0.0",
      "model_name": "HTMLStyleModel",
      "state": {
       "description_width": "",
       "font_size": null,
       "text_color": null
      }
     },
     "f0b4bcca85b24f1fa6cba9d449a04209": {
      "model_module": "@jupyter-widgets/controls",
      "model_module_version": "2.0.0",
      "model_name": "ButtonModel",
      "state": {
       "icon": "clone",
       "layout": "IPY_MODEL_50213265bc494829818fe97531a3ffa7",
       "style": "IPY_MODEL_32d3f3d190c14a209f6867b78e484c01",
       "tooltip": null
      }
     },
     "f12cec3d843d4ef6aebc54bc234bae05": {
      "model_module": "@jupyter-widgets/controls",
      "model_module_version": "2.0.0",
      "model_name": "HBoxModel",
      "state": {
       "children": [
        "IPY_MODEL_5e36398190324ea28cd0552e40042d5a"
       ],
       "layout": "IPY_MODEL_e118aeae958a4b178b96542460025437"
      }
     },
     "f152c6afc5b84808a5eeb15c29fa522a": {
      "model_module": "@jupyter-widgets/base",
      "model_module_version": "2.0.0",
      "model_name": "LayoutModel",
      "state": {}
     },
     "f15e0bfa21444e62bfb1c622e261ae2a": {
      "model_module": "@jupyter-widgets/controls",
      "model_module_version": "2.0.0",
      "model_name": "HTMLStyleModel",
      "state": {
       "description_width": "",
       "font_size": null,
       "text_color": null
      }
     },
     "f1ab97551ce24aefa2a219310d03d4f5": {
      "model_module": "@jupyter-widgets/controls",
      "model_module_version": "2.0.0",
      "model_name": "HTMLModel",
      "state": {
       "layout": "IPY_MODEL_a25c552a9c7949668da795a398784522",
       "style": "IPY_MODEL_5675fe8533d44a479cc97bfd5059ac62",
       "value": "<div style=\"text-align: center; margin: 10px 0; border: 1px dashed #B4B0BF;\"></div>"
      }
     },
     "f1bb17790a0442f48a655ac9c7033911": {
      "model_module": "@jupyter-widgets/controls",
      "model_module_version": "2.0.0",
      "model_name": "BoxModel",
      "state": {
       "children": [
        "IPY_MODEL_e6c9bac912804b0bb5b3aa17589ee182",
        "IPY_MODEL_cedc852713c04559bc6b1a7548436a0d"
       ],
       "layout": "IPY_MODEL_6c08919393de4e988fe365b8807931d3"
      }
     },
     "f1ec82a3ef4549beb13d3e8eb2d8649a": {
      "model_module": "@jupyter-widgets/base",
      "model_module_version": "2.0.0",
      "model_name": "LayoutModel",
      "state": {
       "align_items": "center"
      }
     },
     "f2216ec5a7fe4cc6ad676d11fbf379a8": {
      "model_module": "@jupyter-widgets/base",
      "model_module_version": "2.0.0",
      "model_name": "LayoutModel",
      "state": {}
     },
     "f2521cde8ec9407e922130482c791c1c": {
      "model_module": "@jupyter-widgets/controls",
      "model_module_version": "2.0.0",
      "model_name": "HBoxModel",
      "state": {
       "layout": "IPY_MODEL_52222ef8da03429c8e3919eb5b8ff493"
      }
     },
     "f2644c97aa684470a59e25e800d0e182": {
      "model_module": "@jupyter-widgets/base",
      "model_module_version": "2.0.0",
      "model_name": "LayoutModel",
      "state": {}
     },
     "f26a910a49b84ab29a404011cf9f998c": {
      "model_module": "@jupyter-widgets/controls",
      "model_module_version": "2.0.0",
      "model_name": "HTMLStyleModel",
      "state": {
       "description_width": "",
       "font_size": null,
       "text_color": null
      }
     },
     "f296e0799d944286acf5c17478b9090c": {
      "model_module": "@jupyter-widgets/base",
      "model_module_version": "2.0.0",
      "model_name": "LayoutModel",
      "state": {}
     },
     "f327c18fb5cd4adc8da0332d17c37213": {
      "model_module": "@jupyter-widgets/base",
      "model_module_version": "2.0.0",
      "model_name": "LayoutModel",
      "state": {
       "align_items": "center",
       "display": "flex"
      }
     },
     "f337848c31914cb8b10ebe02432745eb": {
      "model_module": "@jupyter-widgets/controls",
      "model_module_version": "2.0.0",
      "model_name": "HTMLStyleModel",
      "state": {
       "description_width": "",
       "font_size": null,
       "text_color": null
      }
     },
     "f35e30e72f61452b9653c1fe3cfb253e": {
      "model_module": "@jupyter-widgets/controls",
      "model_module_version": "2.0.0",
      "model_name": "HTMLModel",
      "state": {
       "layout": "IPY_MODEL_7d5073f8a55c485db5eb9d8159acd499",
       "style": "IPY_MODEL_3f1970cc095e466e98b4a50d6d5ea33e",
       "value": "<div>abfwegwer</div>"
      }
     },
     "f4018fcae9234d9bbbad7297c474cf45": {
      "model_module": "@jupyter-widgets/output",
      "model_module_version": "1.0.0",
      "model_name": "OutputModel",
      "state": {
       "layout": "IPY_MODEL_fdfd3794e8354f70a11e99d385418435"
      }
     },
     "f40d4820bc704c6aa2ff49f146aa47cc": {
      "model_module": "@jupyter-widgets/base",
      "model_module_version": "2.0.0",
      "model_name": "LayoutModel",
      "state": {}
     },
     "f4306e3a46c14114b51e55e0f3140f0b": {
      "model_module": "@jupyter-widgets/controls",
      "model_module_version": "2.0.0",
      "model_name": "HBoxModel",
      "state": {
       "layout": "IPY_MODEL_ca08e01e5fed444d96c4867f2648b25f"
      }
     },
     "f43ce5a77fd441b390e41494f0062383": {
      "model_module": "@jupyter-widgets/controls",
      "model_module_version": "2.0.0",
      "model_name": "HBoxModel",
      "state": {
       "children": [
        "IPY_MODEL_cd38993377554f3fb8fc619fbc15938e",
        "IPY_MODEL_d3c7921289bf4624a96edcb342e69f46",
        "IPY_MODEL_0645bd0ad4fd4c44b26d3f51972d1c39"
       ],
       "layout": "IPY_MODEL_e26d926a94274733a83f9d616c4c95c1"
      }
     },
     "f44bc5b2d00a41fdbbe9ec2164588039": {
      "model_module": "@jupyter-widgets/controls",
      "model_module_version": "2.0.0",
      "model_name": "HTMLStyleModel",
      "state": {
       "description_width": "",
       "font_size": null,
       "text_color": null
      }
     },
     "f4793f1c45c144659c22d0f21ea217d0": {
      "model_module": "@jupyter-widgets/controls",
      "model_module_version": "2.0.0",
      "model_name": "HTMLStyleModel",
      "state": {
       "description_width": "",
       "font_size": null,
       "text_color": null
      }
     },
     "f4b954158a374884937e47bf364db374": {
      "model_module": "@jupyter-widgets/base",
      "model_module_version": "2.0.0",
      "model_name": "LayoutModel",
      "state": {}
     },
     "f4d1290549664076abebb0df29c323d8": {
      "model_module": "@jupyter-widgets/base",
      "model_module_version": "2.0.0",
      "model_name": "LayoutModel",
      "state": {
       "display": "none"
      }
     },
     "f4ed8960f6944d16a6288b8647525814": {
      "model_module": "@jupyter-widgets/controls",
      "model_module_version": "2.0.0",
      "model_name": "HTMLModel",
      "state": {
       "layout": "IPY_MODEL_61878071447c41d99299b68b6239d13c",
       "style": "IPY_MODEL_fee58588eae241369369f6a9502e6ae8",
       "value": "<div style='font-family: monospace; width: 100%;'><b>Low side</b><br><div style='border-left: 1px solid #000; padding-left: 10px;'><div style='background-color: #FEE9CD;; color: #B8520A;; display: block; white-space: pre-wrap; margin-bottom: 5px;'>status: pending</div><div style='background-color: #FEE9CD;; color: #B8520A;; display: block; white-space: pre-wrap; margin-bottom: 5px;'>approved_by: None</div><div style='background-color: transparent; color: #353243; display: block; white-space: pre-wrap; margin-bottom: 5px;'>date_created: 2024-04-27</div><div style='background-color: #D5F1D5;; color: #256B24;; display: block; white-space: pre-wrap; margin-bottom: 5px;'>code: None</div></div></div>"
      }
     },
     "f4fde082d6354095b1676a729050a098": {
      "model_module": "@jupyter-widgets/controls",
      "model_module_version": "2.0.0",
      "model_name": "BoxModel",
      "state": {
       "children": [
        "IPY_MODEL_5095ade692cd49f2abe935bd20925d6a",
        "IPY_MODEL_72746d0f595d423d930c4a7cbaee1389"
       ],
       "layout": "IPY_MODEL_642bc24178d2481088dff6720db7661f"
      }
     },
     "f5049a6d48d84f95b43719897350cc19": {
      "model_module": "@jupyter-widgets/controls",
      "model_module_version": "2.0.0",
      "model_name": "HTMLModel",
      "state": {
       "layout": "IPY_MODEL_57b6e96a91da4960a68b2dceaa2cada3",
       "style": "IPY_MODEL_f9b23678f025401b87d42e47593f63c3",
       "value": "<div style='font-family: monospace; width: 100%;'><b>High side</b><br><div style='border-left: 1px solid #000; padding-left: 10px;'><div style='background-color: #ffffcc;display: block; white-space: pre-wrap; margin-bottom: 5px;'>status: approved</div><div style='background-color: #ffffcc;display: block; white-space: pre-wrap; margin-bottom: 5px;'>approved_by: admin</div><div style='display: block; white-space: pre-wrap; margin-bottom: 5px;'>date_created: 2024-04-27</div><div style='background-color: #ddffdd;display: block; white-space: pre-wrap; margin-bottom: 5px;'>code: @syft.function\ndef compute_mean(data: np.ndarray):\n    print(\"computing mean...\")\n    return data.mean()\n</div></div></div>"
      }
     },
     "f5480a18191a427b9c306161a5c09e4a": {
      "model_module": "@jupyter-widgets/controls",
      "model_module_version": "2.0.0",
      "model_name": "HTMLStyleModel",
      "state": {
       "description_width": "",
       "font_size": null,
       "text_color": null
      }
     },
     "f548fc6ceddd44a2a73874f0c4713712": {
      "model_module": "@jupyter-widgets/controls",
      "model_module_version": "2.0.0",
      "model_name": "CheckboxStyleModel",
      "state": {
       "description_width": ""
      }
     },
     "f56b1d25aa8c435d86d6309785c1eb91": {
      "model_module": "@jupyter-widgets/controls",
      "model_module_version": "2.0.0",
      "model_name": "BoxModel",
      "state": {
       "children": [
        "IPY_MODEL_6358255f2a3a4f7bbb25f6653d769d3c",
        "IPY_MODEL_d17a7f438ee647d8bcd611ccff4e094f"
       ],
       "layout": "IPY_MODEL_a6c425f8c5a74f049c8b00c4dd9b5bc2"
      }
     },
     "f56b7b3ea7f94eff9d5274dcb276fdec": {
      "model_module": "@jupyter-widgets/base",
      "model_module_version": "2.0.0",
      "model_name": "LayoutModel",
      "state": {}
     },
     "f5852c36f23148d096fb5c2c6d0376f1": {
      "model_module": "@jupyter-widgets/controls",
      "model_module_version": "2.0.0",
      "model_name": "VBoxModel",
      "state": {
       "children": [
        "IPY_MODEL_49363c2a17364fe08fa933f37cc958c0",
        "IPY_MODEL_dda26038ebe947f9ad4c49a8109c6fb6"
       ],
       "layout": "IPY_MODEL_91beebe5c02d452684f783af7a1b0a91"
      }
     },
     "f597e090bd6f49c99f8c1705f0766f31": {
      "model_module": "@jupyter-widgets/controls",
      "model_module_version": "2.0.0",
      "model_name": "HBoxModel",
      "state": {
       "children": [
        "IPY_MODEL_8c9ba54325fe440f987094711b6ba4ee",
        "IPY_MODEL_95ec5ec42d67439197558ad022726d74",
        "IPY_MODEL_edd7579c5676446a90a70612431929e0"
       ],
       "layout": "IPY_MODEL_52788bb2545441b9906b36299669eec1"
      }
     },
     "f5e5d93ae7bc43fcbd16dde614656110": {
      "model_module": "@jupyter-widgets/base",
      "model_module_version": "2.0.0",
      "model_name": "LayoutModel",
      "state": {}
     },
     "f5fbc7d91ac2488c88e46aeb716c799c": {
      "model_module": "@jupyter-widgets/base",
      "model_module_version": "2.0.0",
      "model_name": "LayoutModel",
      "state": {
       "overflow": "auto",
       "width": "50%"
      }
     },
     "f61de1ab367349fba6875f504813ac59": {
      "model_module": "@jupyter-widgets/controls",
      "model_module_version": "2.0.0",
      "model_name": "HBoxModel",
      "state": {
       "children": [
        "IPY_MODEL_e3888c9703fe42f2826775fabd230da8",
        "IPY_MODEL_da16d1ec4d864bbaa0a8345ccaf38c2a"
       ],
       "layout": "IPY_MODEL_4d4e0de827b64c8593af7dc0f68120b5"
      }
     },
     "f63345a7357044dfb909d98f139dd203": {
      "model_module": "@jupyter-widgets/controls",
      "model_module_version": "2.0.0",
      "model_name": "ButtonStyleModel",
      "state": {
       "font_family": null,
       "font_size": null,
       "font_style": null,
       "font_variant": null,
       "font_weight": null,
       "text_color": null,
       "text_decoration": null
      }
     },
     "f6538f41d3be4ca9b2823f8c2f8a3799": {
      "model_module": "@jupyter-widgets/output",
      "model_module_version": "1.0.0",
      "model_name": "OutputModel",
      "state": {
       "layout": "IPY_MODEL_96afa63db02e494f9afdabb5364f3fef"
      }
     },
     "f67ccafe08574f88b98f2e83937d7a81": {
      "model_module": "@jupyter-widgets/base",
      "model_module_version": "2.0.0",
      "model_name": "LayoutModel",
      "state": {}
     },
     "f6b73ef41f6c422da564fde7b7e13ee2": {
      "model_module": "@jupyter-widgets/controls",
      "model_module_version": "2.0.0",
      "model_name": "HTMLModel",
      "state": {
       "layout": "IPY_MODEL_d579816e599f4b93b3183ac83c3938fb",
       "style": "IPY_MODEL_cdf4dce856644315918d686f8dfe6b86",
       "value": "<span style='color: #5E5A72;'>This would sync 22 changes from <i>Low Node</i> to <i>High Node</i></span>"
      }
     },
     "f6e4b041c5514aecac5e667eb772e71b": {
      "model_module": "@jupyter-widgets/controls",
      "model_module_version": "2.0.0",
      "model_name": "CheckboxModel",
      "state": {
       "description": "Sync",
       "disabled": false,
       "layout": "IPY_MODEL_c32406bac03a425fbd21940efbdbdbf9",
       "style": "IPY_MODEL_4cc40cd325eb40e2b3bc164d59337923",
       "value": true
      }
     },
     "f6eab26bab964d9aaeda6656c4794dd3": {
      "model_module": "@jupyter-widgets/base",
      "model_module_version": "2.0.0",
      "model_name": "LayoutModel",
      "state": {}
     },
     "f70ffa8da40a4f769ead7e800a04528b": {
      "model_module": "@jupyter-widgets/base",
      "model_module_version": "2.0.0",
      "model_name": "LayoutModel",
      "state": {
       "overflow": "auto",
       "width": "50%"
      }
     },
     "f72564ff01e140b2bb366f71f4e1d4ae": {
      "model_module": "@jupyter-widgets/base",
      "model_module_version": "2.0.0",
      "model_name": "LayoutModel",
      "state": {
       "height": "25px",
       "margin": "0",
       "padding": "0",
       "width": "25px"
      }
     },
     "f72b776feac4466b97dd046260268ac6": {
      "model_module": "@jupyter-widgets/base",
      "model_module_version": "2.0.0",
      "model_name": "LayoutModel",
      "state": {}
     },
     "f774056481ad497190c0777c8c368238": {
      "model_module": "@jupyter-widgets/controls",
      "model_module_version": "2.0.0",
      "model_name": "HTMLStyleModel",
      "state": {
       "description_width": "",
       "font_size": null,
       "text_color": null
      }
     },
     "f7d450914c174a2ca4a7ec809231e971": {
      "model_module": "@jupyter-widgets/controls",
      "model_module_version": "2.0.0",
      "model_name": "HTMLStyleModel",
      "state": {
       "description_width": "",
       "font_size": null,
       "text_color": null
      }
     },
     "f7e68caec390446f83c09c103a736aaf": {
      "model_module": "@jupyter-widgets/base",
      "model_module_version": "2.0.0",
      "model_name": "LayoutModel",
      "state": {
       "overflow": "auto",
       "width": "50%"
      }
     },
     "f7f5363137314644811269964d3a55a3": {
      "model_module": "@jupyter-widgets/controls",
      "model_module_version": "2.0.0",
      "model_name": "CheckboxModel",
      "state": {
       "description": "Sync",
       "disabled": false,
       "layout": "IPY_MODEL_0bca76b9cefa4feab9b1e3f5c5df443c",
       "style": "IPY_MODEL_e2b67baf30da442fb7e83327d144d186",
       "value": false
      }
     },
     "f8077fa2f8fb41cc9f6b3c6584b0752e": {
      "model_module": "@jupyter-widgets/controls",
      "model_module_version": "2.0.0",
      "model_name": "HTMLModel",
      "state": {
       "layout": "IPY_MODEL_a15cc0ab279945d78b040eb761a8a746",
       "style": "IPY_MODEL_f774056481ad497190c0777c8c368238",
       "value": "<div style='font-family: monospace; width: 100%;'><b>Low side</b><br><div style='border-left: 1px solid #000; padding-left: 10px;'><div style='background-color: #FEE9CD;; color: #B8520A;; display: block; white-space: pre-wrap; margin-bottom: 5px;'>status: pending</div><div style='background-color: #FEE9CD;; color: #B8520A;; display: block; white-space: pre-wrap; margin-bottom: 5px;'>approved_by: None</div><div style='background-color: transparent; color: #353243; display: block; white-space: pre-wrap; margin-bottom: 5px;'>date_created: 2024-04-27</div></div></div>"
      }
     },
     "f86b0739b379407da2021ff48ddc3194": {
      "model_module": "@jupyter-widgets/controls",
      "model_module_version": "2.0.0",
      "model_name": "HTMLStyleModel",
      "state": {
       "description_width": "",
       "font_size": null,
       "text_color": null
      }
     },
     "f87190d57e664d5abd1dfeb4068543f9": {
      "model_module": "@jupyter-widgets/base",
      "model_module_version": "2.0.0",
      "model_name": "LayoutModel",
      "state": {
       "align_items": "center"
      }
     },
     "f88189145026422781c781127c69aeb3": {
      "model_module": "@jupyter-widgets/base",
      "model_module_version": "2.0.0",
      "model_name": "LayoutModel",
      "state": {
       "overflow": "auto",
       "width": "50%"
      }
     },
     "f898e95e36a54a0d89375d9b9642223e": {
      "model_module": "@jupyter-widgets/base",
      "model_module_version": "2.0.0",
      "model_name": "LayoutModel",
      "state": {
       "overflow": "auto",
       "width": "50%"
      }
     },
     "f8e76bd7a4104425bab267736f09a8b6": {
      "model_module": "@jupyter-widgets/controls",
      "model_module_version": "2.0.0",
      "model_name": "HBoxModel",
      "state": {
       "children": [
        "IPY_MODEL_fa7948766ea84c9b8e1ea7f3f73f7c13"
       ],
       "layout": "IPY_MODEL_d007a337c45f41d1986e021b358bca14"
      }
     },
     "f936d391e01345faaff22b810af61d75": {
      "model_module": "@jupyter-widgets/controls",
      "model_module_version": "2.0.0",
      "model_name": "HTMLStyleModel",
      "state": {
       "description_width": "",
       "font_size": null,
       "text_color": null
      }
     },
     "f948f1d1cffa48b08d470499122449c7": {
      "model_module": "@jupyter-widgets/controls",
      "model_module_version": "2.0.0",
      "model_name": "CheckboxStyleModel",
      "state": {
       "description_width": ""
      }
     },
     "f9675510f3284392ab804f4e17db6dcc": {
      "model_module": "@jupyter-widgets/controls",
      "model_module_version": "2.0.0",
      "model_name": "HBoxModel",
      "state": {
       "children": [
        "IPY_MODEL_b1cff13cbbb64a1596f4e4cafaa46fcd"
       ],
       "layout": "IPY_MODEL_9036a823b68347c0bb61c3ed3a7ce94c"
      }
     },
     "f988b8d6007d4976b8888e4c9eec0357": {
      "model_module": "@jupyter-widgets/controls",
      "model_module_version": "2.0.0",
      "model_name": "HTMLModel",
      "state": {
       "layout": "IPY_MODEL_d421b3875b0e4a6389957d319312aabf",
       "style": "IPY_MODEL_caee0bb8236a4de49ce1150f6159ab0b",
       "value": "<div style='font-family: monospace; width: 100%;'>Low side<br><div style='border-left: 1px solid #B4B0BF; padding-left: 10px;'><div style='background-color: #FEE9CD;; color: #B8520A;; display: block; white-space: pre-wrap; margin-bottom: 5px;'>status: pending</div><div style='background-color: #FEE9CD;; color: #B8520A;; display: block; white-space: pre-wrap; margin-bottom: 5px;'>approved_by: None</div><div style='background-color: transparent; color: #353243; display: block; white-space: pre-wrap; margin-bottom: 5px;'>date_created: 2024-04-27</div><div style='background-color: #D5F1D5;; color: #256B24;; display: block; white-space: pre-wrap; margin-bottom: 5px;'>code: None</div></div></div>"
      }
     },
     "f9a45383230a498890449093791ddf15": {
      "model_module": "@jupyter-widgets/controls",
      "model_module_version": "2.0.0",
      "model_name": "ButtonModel",
      "state": {
       "icon": "clone",
       "layout": "IPY_MODEL_526f1092e7bd4d48b3634156408a6663",
       "style": "IPY_MODEL_cf5839364fa24f9babc424cffcbec21b",
       "tooltip": null
      }
     },
     "f9b23678f025401b87d42e47593f63c3": {
      "model_module": "@jupyter-widgets/controls",
      "model_module_version": "2.0.0",
      "model_name": "HTMLStyleModel",
      "state": {
       "description_width": "",
       "font_size": null,
       "text_color": null
      }
     },
     "f9b6ab9877174f2c904e5665ea283ae8": {
      "model_module": "@jupyter-widgets/base",
      "model_module_version": "2.0.0",
      "model_name": "LayoutModel",
      "state": {
       "margin": "0 5px 0 0"
      }
     },
     "f9fc3ce0852145fe871086aebb6ba227": {
      "model_module": "@jupyter-widgets/controls",
      "model_module_version": "2.0.0",
      "model_name": "CheckboxModel",
      "state": {
       "description": "Share private data",
       "disabled": false,
       "layout": "IPY_MODEL_034a3c3c7ae2460b82ad217fbbfb7737",
       "style": "IPY_MODEL_bd38517e6f7741f8bcba3fc293698549",
       "value": false
      }
     },
     "f9fd44a343474d43bd08f1b914313d1b": {
      "model_module": "@jupyter-widgets/controls",
      "model_module_version": "2.0.0",
      "model_name": "ButtonModel",
      "state": {
       "icon": "clone",
       "layout": "IPY_MODEL_4c2afdbd231649e7b5088e15efe4a43d",
       "style": "IPY_MODEL_a60d20c896014a838f32e5d57f084b01",
       "tooltip": null
      }
     },
     "fa2783e6e58045dfa486a8166c537f6a": {
      "model_module": "@jupyter-widgets/controls",
      "model_module_version": "2.0.0",
      "model_name": "BoxModel",
      "state": {
       "children": [
        "IPY_MODEL_2baf0f046bde41f68676a1113ed2f773",
        "IPY_MODEL_5a696feb09e145f9a52ada98f200570d"
       ],
       "layout": "IPY_MODEL_e58d24be39e74431beb977b0e5b41325"
      }
     },
     "fa392acd6c3c4162991465baeef41a97": {
      "model_module": "@jupyter-widgets/base",
      "model_module_version": "2.0.0",
      "model_name": "LayoutModel",
      "state": {}
     },
     "fa7948766ea84c9b8e1ea7f3f73f7c13": {
      "model_module": "@jupyter-widgets/controls",
      "model_module_version": "2.0.0",
      "model_name": "CheckboxModel",
      "state": {
       "description": "Sync",
       "disabled": false,
       "layout": "IPY_MODEL_6d93c4e9cec140818e7fa58287651771",
       "style": "IPY_MODEL_f548fc6ceddd44a2a73874f0c4713712",
       "value": false
      }
     },
     "fa7ba0a188444b2d8c408c9801afb5cf": {
      "model_module": "@jupyter-widgets/base",
      "model_module_version": "2.0.0",
      "model_name": "LayoutModel",
      "state": {}
     },
     "fa867a76e2c043ceb1efb0a75dcbfac8": {
      "model_module": "@jupyter-widgets/base",
      "model_module_version": "2.0.0",
      "model_name": "LayoutModel",
      "state": {
       "overflow": "auto",
       "width": "50%"
      }
     },
     "fae17ae9ccd744d1bcea4f4c0cdbb9d5": {
      "model_module": "@jupyter-widgets/controls",
      "model_module_version": "2.0.0",
      "model_name": "HBoxModel",
      "state": {
       "children": [
        "IPY_MODEL_22defa6ad2c949a48b88c3cc9b2a3f17",
        "IPY_MODEL_aaaefc272b5d43908069cb68e883a662"
       ],
       "layout": "IPY_MODEL_a32bfd754a9243b4ada93a13079c3aed"
      }
     },
     "fb4f78c4729946679eaa0360aa3611ec": {
      "model_module": "@jupyter-widgets/base",
      "model_module_version": "2.0.0",
      "model_name": "LayoutModel",
      "state": {}
     },
     "fb74c0165dd3423bb1c18ce4a6f3aeae": {
      "model_module": "@jupyter-widgets/controls",
      "model_module_version": "2.0.0",
      "model_name": "VBoxModel",
      "state": {
       "children": [
        "IPY_MODEL_d803ed040e4c4be18d926d4d55c2627e",
        "IPY_MODEL_b8e91e05dba94078b6c3622e97717579"
       ],
       "layout": "IPY_MODEL_a693c605f5154e6dbbabd1d96db28ac1"
      }
     },
     "fb9b8c506e2b4e6bbf8ae07db3018d2b": {
      "model_module": "@jupyter-widgets/base",
      "model_module_version": "2.0.0",
      "model_name": "LayoutModel",
      "state": {}
     },
     "fb9f6b1b08324371bbc0506e698da95e": {
      "model_module": "@jupyter-widgets/controls",
      "model_module_version": "2.0.0",
      "model_name": "HTMLModel",
      "state": {
       "layout": "IPY_MODEL_a1d25dd634a140f8b4c55c77aa8de01e",
       "style": "IPY_MODEL_065456d4eb8e489b840c1ddcd57f5bfd",
       "value": "<span style='color: #B4B0BF;'>Syncing changes on</span>"
      }
     },
     "fbbc4e323537454290d1391d0b68b694": {
      "model_module": "@jupyter-widgets/controls",
      "model_module_version": "2.0.0",
      "model_name": "HTMLStyleModel",
      "state": {
       "description_width": "",
       "font_size": null,
       "text_color": null
      }
     },
     "fbdc23f8edab4cb7b5e9d2a837c2f018": {
      "model_module": "@jupyter-widgets/base",
      "model_module_version": "2.0.0",
      "model_name": "LayoutModel",
      "state": {}
     },
     "fbebfdb3c027482490bf601edee31819": {
      "model_module": "@jupyter-widgets/base",
      "model_module_version": "2.0.0",
      "model_name": "LayoutModel",
      "state": {
       "overflow": "auto",
       "width": "50%"
      }
     },
     "fbf2ed60dfb347608a85cc71224f4f98": {
      "model_module": "@jupyter-widgets/base",
      "model_module_version": "2.0.0",
      "model_name": "LayoutModel",
      "state": {}
     },
     "fc1c50df4d3448839eb3b0a151b3f8f0": {
      "model_module": "@jupyter-widgets/base",
      "model_module_version": "2.0.0",
      "model_name": "LayoutModel",
      "state": {}
     },
     "fc29fc7c272c4e8190ec571beb5a018e": {
      "model_module": "@jupyter-widgets/controls",
      "model_module_version": "2.0.0",
      "model_name": "ButtonStyleModel",
      "state": {
       "font_family": null,
       "font_size": null,
       "font_style": null,
       "font_variant": null,
       "font_weight": null,
       "text_color": null,
       "text_decoration": null
      }
     },
     "fc35655c1e1e4c8c8decea3f89cb07a7": {
      "model_module": "@jupyter-widgets/controls",
      "model_module_version": "2.0.0",
      "model_name": "HTMLStyleModel",
      "state": {
       "description_width": "",
       "font_size": null,
       "text_color": null
      }
     },
     "fc3b9627e7d64796ac4123f0eaca566c": {
      "model_module": "@jupyter-widgets/base",
      "model_module_version": "2.0.0",
      "model_name": "LayoutModel",
      "state": {
       "align_items": "center",
       "display": "flex"
      }
     },
     "fc54f9f8e11e462d9e93e0867ed74c9f": {
      "model_module": "@jupyter-widgets/base",
      "model_module_version": "2.0.0",
      "model_name": "LayoutModel",
      "state": {
       "height": "25px",
       "margin": "0",
       "padding": "0",
       "width": "25px"
      }
     },
     "fc5910efee4c469ba5c95113b1f01ac9": {
      "model_module": "@jupyter-widgets/base",
      "model_module_version": "2.0.0",
      "model_name": "LayoutModel",
      "state": {}
     },
     "fcb9b91d0af44b6cb2fdc6ecf283b871": {
      "model_module": "@jupyter-widgets/base",
      "model_module_version": "2.0.0",
      "model_name": "LayoutModel",
      "state": {
       "border_bottom": "solid 1px",
       "border_left": "solid 1px",
       "border_right": "solid 1px",
       "border_top": "solid 1px",
       "padding": "50"
      }
     },
     "fd02287f5ce247f4ae68ea801c32cc87": {
      "model_module": "@jupyter-widgets/controls",
      "model_module_version": "2.0.0",
      "model_name": "ButtonStyleModel",
      "state": {
       "font_family": null,
       "font_size": null,
       "font_style": null,
       "font_variant": null,
       "font_weight": null,
       "text_color": null,
       "text_decoration": null
      }
     },
     "fd2164ee0e9a47dd8c13140b285a710a": {
      "model_module": "@jupyter-widgets/output",
      "model_module_version": "1.0.0",
      "model_name": "OutputModel",
      "state": {
       "layout": "IPY_MODEL_8d0d9c1b19a94c949b160db6ed2b714a"
      }
     },
     "fd887486a41641aa9f83fe6901a8939b": {
      "model_module": "@jupyter-widgets/base",
      "model_module_version": "2.0.0",
      "model_name": "LayoutModel",
      "state": {
       "height": "25px",
       "margin": "0",
       "padding": "0",
       "width": "25px"
      }
     },
     "fdc4f5b06e4742d59f0d6e7848f7baaa": {
      "model_module": "@jupyter-widgets/controls",
      "model_module_version": "2.0.0",
      "model_name": "HTMLModel",
      "state": {
       "layout": "IPY_MODEL_ab04ff3e8876439d99db550336c0603c",
       "style": "IPY_MODEL_3bbf634285ad4b28b3d780c5d80af8a2",
       "value": "<span style='background-color: #C2DEF0; border-radius: 4px; padding: 4px 6px; color: #373B7B;'>Code</span>"
      }
     },
     "fdf2a82729b5450ca1af08b96a34fb99": {
      "model_module": "@jupyter-widgets/output",
      "model_module_version": "1.0.0",
      "model_name": "OutputModel",
      "state": {
       "layout": "IPY_MODEL_e9bb6769c26947f094479cd948785f89"
      }
     },
     "fdfd3794e8354f70a11e99d385418435": {
      "model_module": "@jupyter-widgets/base",
      "model_module_version": "2.0.0",
      "model_name": "LayoutModel",
      "state": {
       "display": "none"
      }
     },
     "fdfd38bdbe8044ef9b4463359e712776": {
      "model_module": "@jupyter-widgets/controls",
      "model_module_version": "2.0.0",
      "model_name": "HTMLStyleModel",
      "state": {
       "description_width": "",
       "font_size": null,
       "text_color": null
      }
     },
     "fe1ad062df8d48929a6b3c45bc9bb79e": {
      "model_module": "@jupyter-widgets/controls",
      "model_module_version": "2.0.0",
      "model_name": "HBoxModel",
      "state": {
       "children": [
        "IPY_MODEL_5e495e46c0de4cb1a07551e93231ad64",
        "IPY_MODEL_e427e8e8e69647908eb9b4ce53ecffca"
       ],
       "layout": "IPY_MODEL_3598f8298b2947d59c443cf807835572"
      }
     },
     "fe38f4530a27472ebf5e609e795b7a64": {
      "model_module": "@jupyter-widgets/controls",
      "model_module_version": "2.0.0",
      "model_name": "HTMLModel",
      "state": {
       "layout": "IPY_MODEL_e0e2536b3e5348418e14647ab75c2d67",
       "style": "IPY_MODEL_877a654d0fd748fc8818214929f06906",
       "value": "<span style='color: #B4B0BF;'>Syncing changes on</span>"
      }
     },
     "fe42ad0d3dd54a51b29af915f68bcd68": {
      "model_module": "@jupyter-widgets/base",
      "model_module_version": "2.0.0",
      "model_name": "LayoutModel",
      "state": {
       "align_items": "center",
       "display": "flex"
      }
     },
     "fe47483f05334f7c8e99fdae40e7570a": {
      "model_module": "@jupyter-widgets/controls",
      "model_module_version": "2.0.0",
      "model_name": "VBoxModel",
      "state": {
       "children": [
        "IPY_MODEL_16d87fa8648b48c2aa327ae3d46a920e",
        "IPY_MODEL_d2656434ff8c4c65a776d07d6993c266"
       ],
       "layout": "IPY_MODEL_879d712e4a484c49a0fca79746ee0ed3"
      }
     },
     "fe5a8e49bf6d489e9c9718e0aabe5744": {
      "model_module": "@jupyter-widgets/controls",
      "model_module_version": "2.0.0",
      "model_name": "HTMLStyleModel",
      "state": {
       "description_width": "",
       "font_size": null,
       "text_color": null
      }
     },
     "fe82315c7a7b4b4cba45bb1f9923a534": {
      "model_module": "@jupyter-widgets/base",
      "model_module_version": "2.0.0",
      "model_name": "LayoutModel",
      "state": {}
     },
     "fea83256455e405ba5698de7442988e0": {
      "model_module": "@jupyter-widgets/controls",
      "model_module_version": "2.0.0",
      "model_name": "HTMLStyleModel",
      "state": {
       "description_width": "",
       "font_size": null,
       "text_color": null
      }
     },
     "fec7865a93b04450b0646242c60a0061": {
      "model_module": "@jupyter-widgets/controls",
      "model_module_version": "2.0.0",
      "model_name": "ButtonStyleModel",
      "state": {
       "font_family": null,
       "font_size": null,
       "font_style": null,
       "font_variant": null,
       "font_weight": null,
       "text_color": null,
       "text_decoration": null
      }
     },
     "fee58588eae241369369f6a9502e6ae8": {
      "model_module": "@jupyter-widgets/controls",
      "model_module_version": "2.0.0",
      "model_name": "HTMLStyleModel",
      "state": {
       "description_width": "",
       "font_size": null,
       "text_color": null
      }
     },
     "ff1ec888d520448a880860adf064e045": {
      "model_module": "@jupyter-widgets/controls",
      "model_module_version": "2.0.0",
      "model_name": "HTMLModel",
      "state": {
       "layout": "IPY_MODEL_ef69ff9bf2e64cb29bf5a566526d00eb",
       "style": "IPY_MODEL_211fdaafbb694419b0469810863795dd",
       "value": "<span style='color: #B4B0BF;'>Syncing changes on</span>"
      }
     },
     "ff34f64175e8490984db62af6ab7598b": {
      "model_module": "@jupyter-widgets/controls",
      "model_module_version": "2.0.0",
      "model_name": "HBoxModel",
      "state": {
       "children": [
        "IPY_MODEL_a514aa0cb19640b8ab0303b3845d8f06",
        "IPY_MODEL_49f9fc143e934a438f4381f2c5fceb01"
       ],
       "layout": "IPY_MODEL_1c2f291ec815402aadf8ccb162ef8072"
      }
     },
     "ff49197184e7473abea3a598932fd4a3": {
      "model_module": "@jupyter-widgets/controls",
      "model_module_version": "2.0.0",
      "model_name": "HTMLStyleModel",
      "state": {
       "description_width": "",
       "font_size": null,
       "text_color": null
      }
     },
     "ffa1a8022d7645f1b06f7e566a0d1da5": {
      "model_module": "@jupyter-widgets/controls",
      "model_module_version": "2.0.0",
      "model_name": "BoxModel",
      "state": {
       "children": [
        "IPY_MODEL_f9fd44a343474d43bd08f1b914313d1b",
        "IPY_MODEL_d0ffb57e5d06417795b9fe2b5863b92d"
       ],
       "layout": "IPY_MODEL_ac58d7d8288343d1bd50d09d30ae702c"
      }
     }
    },
    "version_major": 2,
    "version_minor": 0
   }
  }
 },
 "nbformat": 4,
 "nbformat_minor": 5
}
