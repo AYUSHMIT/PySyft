{
 "cells": [
  {
   "cell_type": "markdown",
   "id": "ce366797-29fa-4f38-af51-2b70cee8ce54",
   "metadata": {
    "jp-MarkdownHeadingCollapsed": true
   },
   "source": [
    "# Syncing helpers"
   ]
  },
  {
   "cell_type": "code",
   "execution_count": 1,
   "id": "2e4548e0-20ce-472d-aa0f-e1c29952b694",
   "metadata": {},
   "outputs": [],
   "source": [
    "import time\n",
    "\n",
    "import syft as sy\n",
    "from syft.client.domain_client import DomainClient\n",
    "from syft.client.syncing import compare_clients\n",
    "from syft.service.code.user_code import UserCode\n",
    "from syft.service.job.job_stash import Job, JobStatus\n",
    "from syft.service.request.request import Request\n",
    "from syft.service.sync.diff_state import ObjectDiffBatch\n",
    "\n",
    "\n",
    "def is_request_to_sync(batch: ObjectDiffBatch) -> bool:\n",
    "    # True if this is a new low-side request\n",
    "    # TODO add condition for sql requests/usercodes\n",
    "    low_request = batch.root.low_obj\n",
    "    return isinstance(low_request, Request) and batch.status == \"NEW\"\n",
    "\n",
    "\n",
    "def is_job_to_sync(batch: ObjectDiffBatch):\n",
    "    # True if this is a new high-side job that is either COMPLETED or ERRORED\n",
    "    if batch.status != \"NEW\":\n",
    "        return False\n",
    "    if not isinstance(batch.root.high_obj, Job):\n",
    "        return False\n",
    "    job = batch.root.high_obj\n",
    "    return job.status in (JobStatus.ERRORED, JobStatus.COMPLETED)\n",
    "\n",
    "\n",
    "def sync_new_requests(\n",
    "    client_low: DomainClient,\n",
    "    client_high: DomainClient,\n",
    ") -> dict[sy.UID, sy.SyftSuccess | sy.SyftError] | sy.SyftError:\n",
    "    sync_request_results = {}\n",
    "    diff = compare_clients(\n",
    "        from_client=client_low, to_client=client_high, include_types=[\"request\"]\n",
    "    )\n",
    "    if isinstance(diff, sy.SyftError):\n",
    "        print(diff)\n",
    "        return sync_request_results\n",
    "    for batch in diff.batches:\n",
    "        if is_request_to_sync(batch):\n",
    "            request_id = batch.root.low_obj.id\n",
    "            w = batch.resolve()\n",
    "            result = w.click_sync()\n",
    "            sync_request_results[request_id] = result\n",
    "    return sync_request_results\n",
    "\n",
    "\n",
    "def execute_requests(\n",
    "    client_high: DomainClient, request_ids: list[sy.UID]\n",
    ") -> dict[sy.UID, Job]:\n",
    "    jobs_by_request_id = {}\n",
    "    for request_id in request_ids:\n",
    "        request = client_high.requests.get_by_uid(request_id)\n",
    "        if not isinstance(request, Request):\n",
    "            continue\n",
    "\n",
    "        code = request.code\n",
    "        if not isinstance(code, UserCode):\n",
    "            continue\n",
    "\n",
    "        func_name = request.code.service_func_name\n",
    "        api_func = getattr(client_high.code, func_name, None)\n",
    "        if api_func is None:\n",
    "            continue\n",
    "\n",
    "        job = api_func(blocking=False)\n",
    "        jobs_by_request_id[request_id] = job\n",
    "        # sleep to prevent SQLite connection pool issues\n",
    "        time.sleep(1)\n",
    "\n",
    "    return jobs_by_request_id\n",
    "\n",
    "\n",
    "def sync_and_execute_new_requests(\n",
    "    client_low: DomainClient, client_high: DomainClient\n",
    ") -> None:\n",
    "    sync_results = sync_new_requests(client_low, client_high)\n",
    "    if isinstance(sync_results, sy.SyftError):\n",
    "        print(sync_results)\n",
    "        return\n",
    "\n",
    "    request_ids = [\n",
    "        uid for uid, res in sync_results.items() if isinstance(res, sy.SyftSuccess)\n",
    "    ]\n",
    "    print(f\"Synced {len(request_ids)} new requests\")\n",
    "\n",
    "    jobs_by_request = execute_requests(client_high, request_ids)\n",
    "    print(f\"Started {len(jobs_by_request)} new jobs\")\n",
    "\n",
    "\n",
    "def sync_finished_jobs(\n",
    "    client_low: DomainClient,\n",
    "    client_high: DomainClient,\n",
    ") -> dict[sy.UID, sy.SyftError | sy.SyftSuccess] | sy.SyftError:\n",
    "    sync_job_results = {}\n",
    "    diff = compare_clients(\n",
    "        from_client=client_high, to_client=client_low, include_types=[\"job\"]\n",
    "    )\n",
    "    if isinstance(diff, sy.SyftError):\n",
    "        print(diff)\n",
    "        return diff\n",
    "\n",
    "    for batch in diff.batches:\n",
    "        if is_job_to_sync(batch):\n",
    "            batch_id = batch.root.high_obj.id\n",
    "            w = batch.resolve()\n",
    "            share_result = w.click_share_all_private_data()\n",
    "            if isinstance(share_result, sy.SyftError):\n",
    "                sync_job_results[batch_id] = share_result\n",
    "                continue\n",
    "            sync_result = w.click_sync()\n",
    "            sync_job_results[batch_id] = sync_result\n",
    "\n",
    "    print(f\"Sharing {len(sync_job_results)} new results\")\n",
    "    return sync_job_results\n",
    "\n",
    "\n",
    "def auto_sync(client_low: DomainClient, client_high: DomainClient) -> None:\n",
    "    print(\"Starting auto sync\")\n",
    "    sync_and_execute_new_requests(client_low, client_high)\n",
    "    sync_finished_jobs(client_low, client_high)\n",
    "    print(\"Finished auto sync\")\n",
    "\n",
    "\n",
    "def auto_sync_loop(\n",
    "    client_low: DomainClient, client_high: DomainClient, sleep_seconds: int = 60\n",
    ") -> None:\n",
    "    while True:\n",
    "        auto_sync(client_low, client_high)\n",
    "        time.sleep(sleep_seconds)"
   ]
  },
  {
   "cell_type": "markdown",
   "id": "b150bad9-3ea2-42e1-b560-a4fe4a37cbed",
   "metadata": {},
   "source": [
    "# Create Nodes"
   ]
  },
  {
   "cell_type": "code",
   "execution_count": 2,
   "id": "197db367-bc49-4a41-ba94-756e8b8b4bf4",
   "metadata": {},
   "outputs": [
    {
     "name": "stdout",
     "output_type": "stream",
     "text": [
      "Staging Protocol Changes...\n",
      "Document Store's SQLite DB path: /var/folders/q1/ryq93kwj055dlbpngxv1c7z40000gn/T/syft/579f2ebaf61545e4bead94c215ea3f88/db/579f2ebaf61545e4bead94c215ea3f88.sqlite\n",
      "Action Store's SQLite DB path: /var/folders/q1/ryq93kwj055dlbpngxv1c7z40000gn/T/syft/579f2ebaf61545e4bead94c215ea3f88/db/579f2ebaf61545e4bead94c215ea3f88.sqlite\n",
      "Creating default worker image with tag='local-dev'\n",
      "Setting up worker poolname=default-pool workers=1 image_uid=cddfb7f5ab354ddcb344f8716a0b29cb in_memory=True\n",
      "Created default worker pool.\n",
      "Data Migrated to latest version !!!\n",
      "Staging Protocol Changes...\n",
      "Document Store's SQLite DB path: /var/folders/q1/ryq93kwj055dlbpngxv1c7z40000gn/T/syft/083dfc0ecd744d17ad21a36a6477565e/db/083dfc0ecd744d17ad21a36a6477565e.sqlite\n",
      "Action Store's SQLite DB path: /var/folders/q1/ryq93kwj055dlbpngxv1c7z40000gn/T/syft/083dfc0ecd744d17ad21a36a6477565e/db/083dfc0ecd744d17ad21a36a6477565e.sqlite\n",
      "Creating default worker image with tag='local-dev'\n",
      "Setting up worker poolname=default-pool workers=4 image_uid=0b456f4cf12a4d26a989163ccbd88624 in_memory=True\n",
      "Created default worker pool.\n",
      "Data Migrated to latest version !!!\n",
      "Logged into <auto-sync-low: Low side Domain > as GUEST\n",
      "Logged into <auto-sync-low: Low side Domain > as GUEST\n"
     ]
    }
   ],
   "source": [
    "low_side = sy.orchestra.launch(\n",
    "    name=\"auto-sync-low\",\n",
    "    node_side_type=\"low\",\n",
    "    local_db=True,\n",
    "    reset=True,\n",
    "    n_consumers=1,\n",
    "    create_producer=True,\n",
    "    dev_mode=True,\n",
    ")\n",
    "\n",
    "high_side = sy.orchestra.launch(\n",
    "    name=\"high-side\",\n",
    "    node_side_type=\"high\",\n",
    "    local_db=True,\n",
    "    reset=True,\n",
    "    n_consumers=4,\n",
    "    create_producer=True,\n",
    "    dev_mode=True,\n",
    ")"
   ]
  },
  {
   "cell_type": "code",
   "execution_count": 3,
   "id": "01563270-ec4a-4eae-8f27-2a53d07610da",
   "metadata": {},
   "outputs": [
    {
     "name": "stdout",
     "output_type": "stream",
     "text": [
      "Logged into <high-side: High side Domain> as <info@openmined.org>\n"
     ]
    },
    {
     "data": {
      "text/html": [
       "<div class=\"alert-warning\" style=\"padding:5px;\"><strong>SyftWarning</strong>: <pre class=\"alert-warning\" style=\"display:inline; font-family:inherit;\">You are using a default password. Please change the password using `[your_client].me.set_password([new_password])`.</pre></div><br/>"
      ],
      "text/plain": [
       "SyftWarning: You are using a default password. Please change the password using `[your_client].me.set_password([new_password])`."
      ]
     },
     "metadata": {},
     "output_type": "display_data"
    },
    {
     "name": "stdout",
     "output_type": "stream",
     "text": [
      "Logged into <auto-sync-low: Low side Domain> as <info@openmined.org>\n"
     ]
    },
    {
     "data": {
      "text/html": [
       "<div class=\"alert-warning\" style=\"padding:5px;\"><strong>SyftWarning</strong>: <pre class=\"alert-warning\" style=\"display:inline; font-family:inherit;\">You are using a default password. Please change the password using `[your_client].me.set_password([new_password])`.</pre></div><br/>"
      ],
      "text/plain": [
       "SyftWarning: You are using a default password. Please change the password using `[your_client].me.set_password([new_password])`."
      ]
     },
     "metadata": {},
     "output_type": "display_data"
    },
    {
     "name": "stdout",
     "output_type": "stream",
     "text": [
      "Logged into <auto-sync-low: Low side Domain> as <newuser@openmined.org>\n"
     ]
    }
   ],
   "source": [
    "client_high = high_side.login(email=\"info@openmined.org\", password=\"changethis\")\n",
    "client_low = low_side.login(email=\"info@openmined.org\", password=\"changethis\")\n",
    "client_low.register(email=\"newuser@openmined.org\", name=\"John Doe\", password=\"pw\", password_verify=\"pw\")\n",
    "client_low_ds = low_side.login(email=\"newuser@openmined.org\", password=\"pw\")"
   ]
  },
  {
   "cell_type": "markdown",
   "id": "af1bf1a3-5c0a-4895-bc91-ffedbb6e4e08",
   "metadata": {},
   "source": [
    "# Create Syftfunction factory "
   ]
  },
  {
   "cell_type": "code",
   "execution_count": 5,
   "id": "2e3f599f-86ed-4cb8-ae7a-170f5fd59ef8",
   "metadata": {},
   "outputs": [],
   "source": [
    "@sy.api_endpoint(path=\"reddit.submit_query\")\n",
    "def submit_query(\n",
    "    context, func_name: str, query: str,\n",
    ") -> str:\n",
    "    import syft as sy\n",
    "\n",
    "    if not func_name.isalpha():\n",
    "        return sy.SyftError(message=\"Please only use alphabetic characters for your func_name\")\n",
    "\n",
    "    @sy.syft_function(name=func_name, input_policy=sy.MixedInputPolicy(query=sy.Constant(val=query), client=context.admin_client))\n",
    "    def execute_query(query: str):\n",
    "        return f\"your query {query} was EXECUTED\"\n",
    "\n",
    "    res = context.user_client.code.request_code_execution(execute_query)\n",
    "\n",
    "    return f\"Query submitted {res}, use `client.code.{func_name}()` to run your query\""
   ]
  },
  {
   "cell_type": "code",
   "execution_count": 6,
   "id": "02c6287f-322e-469f-a2ae-666fc17c6dac",
   "metadata": {},
   "outputs": [
    {
     "data": {
      "text/html": [
       "<div class=\"alert-success\" style=\"padding:5px;\"><strong>SyftSuccess</strong>: <pre class=\"alert-success\" style=\"display:inline; font-family:inherit;\">Endpoint successfully created.</pre></div><br/>"
      ],
      "text/plain": [
       "SyftSuccess: Endpoint successfully created."
      ]
     },
     "execution_count": 6,
     "metadata": {},
     "output_type": "execute_result"
    }
   ],
   "source": [
    "client_low.api.services.api.add(endpoint=submit_query)"
   ]
  },
  {
   "cell_type": "markdown",
   "id": "46666113-d77a-4eb3-9154-63b4dc207d83",
   "metadata": {},
   "source": [
    "# Submit request"
   ]
  },
  {
   "cell_type": "code",
   "execution_count": 7,
   "id": "027d4479-0f47-4647-9c00-7b7d87f6a80f",
   "metadata": {},
   "outputs": [
    {
     "data": {
      "text/html": [
       "<div class=\"alert-success\" style=\"padding:5px;\"><strong>SyftSuccess</strong>: <pre class=\"alert-success\" style=\"display:inline; font-family:inherit;\">Syft function 'execute_query' successfully created. To add a code request, please create a project using `project = syft.Project(...)`, then use command `project.create_code_request`.</pre></div><br/>"
      ],
      "text/plain": [
       "SyftSuccess: Syft function 'execute_query' successfully created. To add a code request, please create a project using `project = syft.Project(...)`, then use command `project.create_code_request`."
      ]
     },
     "metadata": {},
     "output_type": "display_data"
    }
   ],
   "source": [
    "submit_res = client_low_ds.api.services.reddit.submit_query(func_name=\"myquery\",\n",
    "                                                            query=\"FROM ABC SELECT *\")"
   ]
  },
  {
   "cell_type": "code",
   "execution_count": 8,
   "id": "0139b14a-b14e-4ee9-9219-7b5d18715938",
   "metadata": {},
   "outputs": [
    {
     "data": {
      "text/markdown": [
       "\n",
       "**Pointer**\n",
       "\n",
       "'Query submitted syft.service.request.request.Request, use `client.code.myquery()` to run your query'\n"
      ],
      "text/plain": [
       "Pointer:\n",
       "'Query submitted syft.service.request.request.Request, use `client.code.myquery()` to run your query'"
      ]
     },
     "execution_count": 8,
     "metadata": {},
     "output_type": "execute_result"
    }
   ],
   "source": [
    "submit_res"
   ]
  },
  {
   "cell_type": "code",
   "execution_count": 10,
   "id": "7041ad9f-542e-4fd7-b780-d64bbe8e93f1",
   "metadata": {},
   "outputs": [],
   "source": [
    "# client_low_ds.code.myquery()"
   ]
  },
  {
   "cell_type": "code",
   "execution_count": 11,
   "id": "e518ba33-9d2a-40a2-a6b8-174bc8392c77",
   "metadata": {},
   "outputs": [
    {
     "name": "stdout",
     "output_type": "stream",
     "text": [
      "Starting auto sync\n"
     ]
    },
    {
     "data": {
      "text/html": [
       "<div class=\"alert-warning\" style=\"padding:5px;\"><strong>SyftWarning</strong>: <pre class=\"alert-warning\" style=\"display:inline; font-family:inherit;\">User code is hidden by default, as they are also part of the Request. If you want to include them, set hide_usercode=False.</pre></div><br/>"
      ],
      "text/plain": [
       "SyftWarning: User code is hidden by default, as they are also part of the Request. If you want to include them, set hide_usercode=False."
      ]
     },
     "metadata": {},
     "output_type": "display_data"
    },
    {
     "name": "stdout",
     "output_type": "stream",
     "text": [
      "Decision: Syncing 2 objects\n",
      "Synced 1 new requests\n",
      "Started 1 new jobs\n"
     ]
    },
    {
     "data": {
      "text/html": [
       "<div class=\"alert-warning\" style=\"padding:5px;\"><strong>SyftWarning</strong>: <pre class=\"alert-warning\" style=\"display:inline; font-family:inherit;\">User code is hidden by default, as they are also part of the Request. If you want to include them, set hide_usercode=False.</pre></div><br/>"
      ],
      "text/plain": [
       "SyftWarning: User code is hidden by default, as they are also part of the Request. If you want to include them, set hide_usercode=False."
      ]
     },
     "metadata": {},
     "output_type": "display_data"
    },
    {
     "name": "stdout",
     "output_type": "stream",
     "text": [
      "Sharing 0 new results\n",
      "Finished auto sync\n",
      "Starting auto sync\n"
     ]
    },
    {
     "data": {
      "text/html": [
       "<div class=\"alert-warning\" style=\"padding:5px;\"><strong>SyftWarning</strong>: <pre class=\"alert-warning\" style=\"display:inline; font-family:inherit;\">User code is hidden by default, as they are also part of the Request. If you want to include them, set hide_usercode=False.</pre></div><br/>"
      ],
      "text/plain": [
       "SyftWarning: User code is hidden by default, as they are also part of the Request. If you want to include them, set hide_usercode=False."
      ]
     },
     "metadata": {},
     "output_type": "display_data"
    },
    {
     "name": "stdout",
     "output_type": "stream",
     "text": [
      "Synced 0 new requests\n",
      "Started 0 new jobs\n"
     ]
    },
    {
     "data": {
      "text/html": [
       "<div class=\"alert-warning\" style=\"padding:5px;\"><strong>SyftWarning</strong>: <pre class=\"alert-warning\" style=\"display:inline; font-family:inherit;\">User code is hidden by default, as they are also part of the Request. If you want to include them, set hide_usercode=False.</pre></div><br/>"
      ],
      "text/plain": [
       "SyftWarning: User code is hidden by default, as they are also part of the Request. If you want to include them, set hide_usercode=False."
      ]
     },
     "metadata": {},
     "output_type": "display_data"
    },
    {
     "name": "stdout",
     "output_type": "stream",
     "text": [
      "Sharing 0 new results\n",
      "Finished auto sync\n",
      "Starting auto sync\n"
     ]
    },
    {
     "data": {
      "text/html": [
       "<div class=\"alert-warning\" style=\"padding:5px;\"><strong>SyftWarning</strong>: <pre class=\"alert-warning\" style=\"display:inline; font-family:inherit;\">User code is hidden by default, as they are also part of the Request. If you want to include them, set hide_usercode=False.</pre></div><br/>"
      ],
      "text/plain": [
       "SyftWarning: User code is hidden by default, as they are also part of the Request. If you want to include them, set hide_usercode=False."
      ]
     },
     "metadata": {},
     "output_type": "display_data"
    },
    {
     "name": "stdout",
     "output_type": "stream",
     "text": [
      "Synced 0 new requests\n",
      "Started 0 new jobs\n"
     ]
    },
    {
     "data": {
      "text/html": [
       "<div class=\"alert-warning\" style=\"padding:5px;\"><strong>SyftWarning</strong>: <pre class=\"alert-warning\" style=\"display:inline; font-family:inherit;\">User code is hidden by default, as they are also part of the Request. If you want to include them, set hide_usercode=False.</pre></div><br/>"
      ],
      "text/plain": [
       "SyftWarning: User code is hidden by default, as they are also part of the Request. If you want to include them, set hide_usercode=False."
      ]
     },
     "metadata": {},
     "output_type": "display_data"
    },
    {
     "name": "stdout",
     "output_type": "stream",
     "text": [
      "Decision: Syncing 5 objects\n",
      "Sharing 1 new results\n",
      "Finished auto sync\n",
      "Starting auto sync\n"
     ]
    },
    {
     "data": {
      "text/html": [
       "<div class=\"alert-warning\" style=\"padding:5px;\"><strong>SyftWarning</strong>: <pre class=\"alert-warning\" style=\"display:inline; font-family:inherit;\">User code is hidden by default, as they are also part of the Request. If you want to include them, set hide_usercode=False.</pre></div><br/>"
      ],
      "text/plain": [
       "SyftWarning: User code is hidden by default, as they are also part of the Request. If you want to include them, set hide_usercode=False."
      ]
     },
     "metadata": {},
     "output_type": "display_data"
    },
    {
     "name": "stdout",
     "output_type": "stream",
     "text": [
      "Synced 0 new requests\n",
      "Started 0 new jobs\n"
     ]
    },
    {
     "data": {
      "text/html": [
       "<div class=\"alert-warning\" style=\"padding:5px;\"><strong>SyftWarning</strong>: <pre class=\"alert-warning\" style=\"display:inline; font-family:inherit;\">User code is hidden by default, as they are also part of the Request. If you want to include them, set hide_usercode=False.</pre></div><br/>"
      ],
      "text/plain": [
       "SyftWarning: User code is hidden by default, as they are also part of the Request. If you want to include them, set hide_usercode=False."
      ]
     },
     "metadata": {},
     "output_type": "display_data"
    },
    {
     "name": "stdout",
     "output_type": "stream",
     "text": [
      "Sharing 0 new results\n",
      "Finished auto sync\n"
     ]
    }
   ],
   "source": [
    "# do forever\n",
    "for i in range(4):\n",
    "    auto_sync(client_low, client_high)"
   ]
  },
  {
   "cell_type": "code",
   "execution_count": 12,
   "id": "d0a68fb0-bc9c-4b23-a931-b0bb7009e72e",
   "metadata": {},
   "outputs": [],
   "source": [
    "# client_high.jobs[0].logs()"
   ]
  },
  {
   "cell_type": "code",
   "execution_count": 13,
   "id": "f92240e6-0c35-4cd3-b52d-a5fa3256e3f9",
   "metadata": {},
   "outputs": [
    {
     "data": {
      "text/html": [
       "<div class=\"alert-warning\" style=\"padding:5px;\"><strong>SyftWarning</strong>: <pre class=\"alert-warning\" style=\"display:inline; font-family:inherit;\">Loading results from cache.</pre></div><br/>"
      ],
      "text/plain": [
       "SyftWarning: Loading results from cache."
      ]
     },
     "metadata": {},
     "output_type": "display_data"
    }
   ],
   "source": [
    "res = client_low_ds.code.myquery()"
   ]
  },
  {
   "cell_type": "code",
   "execution_count": 14,
   "id": "23050872-2f0b-4d23-9c1f-57ad74ac09d5",
   "metadata": {},
   "outputs": [
    {
     "data": {
      "text/markdown": [
       "\n",
       "**Pointer**\n",
       "\n",
       "'your query FROM ABC SELECT * was EXECUTED'\n"
      ],
      "text/plain": [
       "Pointer:\n",
       "'your query FROM ABC SELECT * was EXECUTED'"
      ]
     },
     "execution_count": 14,
     "metadata": {},
     "output_type": "execute_result"
    }
   ],
   "source": [
    "res"
   ]
  },
  {
   "cell_type": "code",
   "execution_count": null,
   "id": "d41b8deb-0e15-4ab5-823c-751f99e491f8",
   "metadata": {},
   "outputs": [],
   "source": []
  },
  {
   "cell_type": "code",
   "execution_count": 1,
   "id": "c6a426e8-314a-4a44-8bbe-47f8f8663835",
   "metadata": {},
   "outputs": [],
   "source": [
    "# for _ in range(10):\n",
    "#     j = client_high.code.query_0(blocking=False)\n",
    "#     print(j)"
   ]
  },
  {
   "cell_type": "code",
   "execution_count": 4,
   "id": "985075a7-833b-4e4e-8441-1bc34c397148",
   "metadata": {},
   "outputs": [],
   "source": [
    "# def make_request(client):\n",
    "#     existing_requests = client.requests.get_all()\n",
    "\n",
    "#     @sy.syft_function_single_use()\n",
    "#     def func():\n",
    "#         return 10\n",
    "\n",
    "#     func.func_name = f\"query_{len(existing_requests)}\"\n",
    "#     func.code = func.code.replace(\"def func(\", f\"def {func.func_name}(\")\n",
    "\n",
    "#     res = client.code.request_code_execution(func)\n",
    "#     return res\n",
    "\n",
    "\n",
    "# for _ in range(5):\n",
    "#     make_request(client_low_ds)"
   ]
  },
  {
   "cell_type": "code",
   "execution_count": null,
   "id": "8674ffae-4635-43bd-9117-0959cd0040ba",
   "metadata": {},
   "outputs": [],
   "source": []
  }
 ],
 "metadata": {
  "kernelspec": {
   "display_name": "Python 3 (ipykernel)",
   "language": "python",
   "name": "python3"
  },
  "language_info": {
   "codemirror_mode": {
    "name": "ipython",
    "version": 3
   },
   "file_extension": ".py",
   "mimetype": "text/x-python",
   "name": "python",
   "nbconvert_exporter": "python",
   "pygments_lexer": "ipython3",
   "version": "3.12.2"
  }
 },
 "nbformat": 4,
 "nbformat_minor": 5
}
