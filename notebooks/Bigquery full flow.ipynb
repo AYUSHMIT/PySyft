{
 "cells": [
  {
   "cell_type": "markdown",
   "id": "ce366797-29fa-4f38-af51-2b70cee8ce54",
   "metadata": {},
   "source": [
    "# Syncing helpers"
   ]
  },
  {
   "cell_type": "code",
   "execution_count": 1,
   "id": "2e4548e0-20ce-472d-aa0f-e1c29952b694",
   "metadata": {},
   "outputs": [],
   "source": [
    "import time\n",
    "\n",
    "import syft as sy\n",
    "from syft.client.domain_client import DomainClient\n",
    "from syft.client.syncing import compare_clients\n",
    "from syft.service.code.user_code import UserCode\n",
    "from syft.service.job.job_stash import Job, JobStatus\n",
    "from syft.service.request.request import Request\n",
    "from syft.service.sync.diff_state import ObjectDiffBatch\n",
    "\n",
    "\n",
    "def is_request_to_sync(batch: ObjectDiffBatch) -> bool:\n",
    "    # True if this is a new low-side request\n",
    "    # TODO add condition for sql requests/usercodes\n",
    "    low_request = batch.root.low_obj\n",
    "    return isinstance(low_request, Request) and batch.status == \"NEW\"\n",
    "\n",
    "\n",
    "def is_job_to_sync(batch: ObjectDiffBatch):\n",
    "    # True if this is a new high-side job that is either COMPLETED or ERRORED\n",
    "    if batch.status != \"NEW\":\n",
    "        return False\n",
    "    if not isinstance(batch.root.high_obj, Job):\n",
    "        return False\n",
    "    job = batch.root.high_obj\n",
    "    return job.status in (JobStatus.ERRORED, JobStatus.COMPLETED)\n",
    "\n",
    "\n",
    "def sync_new_requests(\n",
    "    client_low: DomainClient,\n",
    "    client_high: DomainClient,\n",
    ") -> dict[sy.UID, sy.SyftSuccess | sy.SyftError] | sy.SyftError:\n",
    "    sync_request_results = {}\n",
    "    diff = compare_clients(\n",
    "        from_client=client_low, to_client=client_high, include_types=[\"request\"]\n",
    "    )\n",
    "    if isinstance(diff, sy.SyftError):\n",
    "        print(diff)\n",
    "        return sync_request_results\n",
    "    for batch in diff.batches:\n",
    "        if is_request_to_sync(batch):\n",
    "            request_id = batch.root.low_obj.id\n",
    "            w = batch.resolve()\n",
    "            result = w.click_sync()\n",
    "            sync_request_results[request_id] = result\n",
    "    return sync_request_results\n",
    "\n",
    "\n",
    "def execute_requests(\n",
    "    client_high: DomainClient, request_ids: list[sy.UID]\n",
    ") -> dict[sy.UID, Job]:\n",
    "    jobs_by_request_id = {}\n",
    "    for request_id in request_ids:\n",
    "        request = client_high.requests.get_by_uid(request_id)\n",
    "        if not isinstance(request, Request):\n",
    "            continue\n",
    "\n",
    "        code = request.code\n",
    "        if not isinstance(code, UserCode):\n",
    "            continue\n",
    "\n",
    "        func_name = request.code.service_func_name\n",
    "        api_func = getattr(client_high.code, func_name, None)\n",
    "        if api_func is None:\n",
    "            continue\n",
    "\n",
    "        # job = api_func(endpoint=client_high.api.services.reddit.query, blocking=False)\n",
    "        job = api_func(blocking=False)\n",
    "        jobs_by_request_id[request_id] = job\n",
    "        # sleep to prevent SQLite connection pool issues\n",
    "        time.sleep(1)\n",
    "\n",
    "    return jobs_by_request_id\n",
    "\n",
    "\n",
    "def sync_and_execute_new_requests(\n",
    "    client_low: DomainClient, client_high: DomainClient\n",
    ") -> None:\n",
    "    sync_results = sync_new_requests(client_low, client_high)\n",
    "    if isinstance(sync_results, sy.SyftError):\n",
    "        print(sync_results)\n",
    "        return\n",
    "\n",
    "    request_ids = [\n",
    "        uid for uid, res in sync_results.items() if isinstance(res, sy.SyftSuccess)\n",
    "    ]\n",
    "    print(f\"Synced {len(request_ids)} new requests\")\n",
    "\n",
    "    jobs_by_request = execute_requests(client_high, request_ids)\n",
    "    print(f\"Started {len(jobs_by_request)} new jobs\")\n",
    "\n",
    "\n",
    "def sync_finished_jobs(\n",
    "    client_low: DomainClient,\n",
    "    client_high: DomainClient,\n",
    ") -> dict[sy.UID, sy.SyftError | sy.SyftSuccess] | sy.SyftError:\n",
    "    sync_job_results = {}\n",
    "    diff = compare_clients(\n",
    "        from_client=client_high, to_client=client_low, include_types=[\"job\"]\n",
    "    )\n",
    "    if isinstance(diff, sy.SyftError):\n",
    "        print(diff)\n",
    "        return diff\n",
    "\n",
    "    for batch in diff.batches:\n",
    "        if is_job_to_sync(batch):\n",
    "            batch_id = batch.root.high_obj.id\n",
    "            w = batch.resolve()\n",
    "            share_result = w.click_share_all_private_data()\n",
    "            if isinstance(share_result, sy.SyftError):\n",
    "                sync_job_results[batch_id] = share_result\n",
    "                continue\n",
    "            sync_result = w.click_sync()\n",
    "            sync_job_results[batch_id] = sync_result\n",
    "\n",
    "    print(f\"Sharing {len(sync_job_results)} new results\")\n",
    "    return sync_job_results\n",
    "\n",
    "\n",
    "def auto_sync(client_low: DomainClient, client_high: DomainClient) -> None:\n",
    "    print(\"Starting auto sync\")\n",
    "    sync_and_execute_new_requests(client_low, client_high)\n",
    "    sync_finished_jobs(client_low, client_high)\n",
    "    print(\"Finished auto sync\")\n",
    "\n",
    "\n",
    "def auto_sync_loop(\n",
    "    client_low: DomainClient, client_high: DomainClient, sleep_seconds: int = 60\n",
    ") -> None:\n",
    "    while True:\n",
    "        auto_sync(client_low, client_high)\n",
    "        time.sleep(sleep_seconds)"
   ]
  },
  {
   "cell_type": "markdown",
   "id": "b150bad9-3ea2-42e1-b560-a4fe4a37cbed",
   "metadata": {},
   "source": [
    "# Create Nodes"
   ]
  },
  {
   "cell_type": "code",
   "execution_count": 2,
   "id": "555a0fbe-5736-4eb8-9d66-abf8fc639388",
   "metadata": {},
   "outputs": [],
   "source": [
    "from google.cloud import bigquery\n",
    "from google.oauth2 import service_account"
   ]
  },
  {
   "cell_type": "code",
   "execution_count": 3,
   "id": "197db367-bc49-4a41-ba94-756e8b8b4bf4",
   "metadata": {},
   "outputs": [
    {
     "name": "stdout",
     "output_type": "stream",
     "text": [
      "Staging Protocol Changes...\n",
      "Document Store's SQLite DB path: /var/folders/q1/ryq93kwj055dlbpngxv1c7z40000gn/T/syft/579f2ebaf61545e4bead94c215ea3f88/db/579f2ebaf61545e4bead94c215ea3f88.sqlite\n",
      "Action Store's SQLite DB path: /var/folders/q1/ryq93kwj055dlbpngxv1c7z40000gn/T/syft/579f2ebaf61545e4bead94c215ea3f88/db/579f2ebaf61545e4bead94c215ea3f88.sqlite\n",
      "Creating default worker image with tag='local-dev'\n",
      "Setting up worker poolname=default-pool workers=1 image_uid=7287ccb4c816433c83ab6cbc75993731 in_memory=True\n",
      "Created default worker pool.\n",
      "Data Migrated to latest version !!!\n",
      "Staging Protocol Changes...\n",
      "Document Store's SQLite DB path: /var/folders/q1/ryq93kwj055dlbpngxv1c7z40000gn/T/syft/083dfc0ecd744d17ad21a36a6477565e/db/083dfc0ecd744d17ad21a36a6477565e.sqlite\n",
      "Action Store's SQLite DB path: /var/folders/q1/ryq93kwj055dlbpngxv1c7z40000gn/T/syft/083dfc0ecd744d17ad21a36a6477565e/db/083dfc0ecd744d17ad21a36a6477565e.sqlite\n",
      "Creating default worker image with tag='local-dev'\n",
      "Setting up worker poolname=default-pool workers=4 image_uid=5d81c7c1395f4b76ac3da69e16fb80c3 in_memory=True\n",
      "Created default worker pool.\n",
      "Data Migrated to latest version !!!\n",
      "Logged into <auto-sync-low: Low side Domain > as GUEST\n",
      "Logged into <auto-sync-low: Low side Domain > as GUEST\n",
      "Logged into <high-side: High side Domain > as GUEST\n",
      "Logged into <high-side: High side Domain > as GUEST\n"
     ]
    }
   ],
   "source": [
    "low_side = sy.orchestra.launch(\n",
    "    name=\"auto-sync-low\",\n",
    "    node_side_type=\"low\",\n",
    "    local_db=True,\n",
    "    reset=True,\n",
    "    n_consumers=1,\n",
    "    create_producer=True,\n",
    "    dev_mode=True,\n",
    ")\n",
    "\n",
    "high_side = sy.orchestra.launch(\n",
    "    name=\"high-side\",\n",
    "    node_side_type=\"high\",\n",
    "    local_db=True,\n",
    "    reset=True,\n",
    "    n_consumers=4,\n",
    "    create_producer=True,\n",
    "    dev_mode=True,\n",
    ")"
   ]
  },
  {
   "cell_type": "code",
   "execution_count": 4,
   "id": "01563270-ec4a-4eae-8f27-2a53d07610da",
   "metadata": {},
   "outputs": [
    {
     "name": "stdout",
     "output_type": "stream",
     "text": [
      "Logged into <high-side: High side Domain> as <info@openmined.org>\n"
     ]
    },
    {
     "data": {
      "text/html": [
       "<div class=\"alert-warning\" style=\"padding:5px;\"><strong>SyftWarning</strong>: <pre class=\"alert-warning\" style=\"display:inline; font-family:inherit;\">You are using a default password. Please change the password using `[your_client].me.set_password([new_password])`.</pre></div><br/>"
      ],
      "text/plain": [
       "SyftWarning: You are using a default password. Please change the password using `[your_client].me.set_password([new_password])`."
      ]
     },
     "metadata": {},
     "output_type": "display_data"
    },
    {
     "name": "stdout",
     "output_type": "stream",
     "text": [
      "Logged into <auto-sync-low: Low side Domain> as <info@openmined.org>\n"
     ]
    },
    {
     "data": {
      "text/html": [
       "<div class=\"alert-warning\" style=\"padding:5px;\"><strong>SyftWarning</strong>: <pre class=\"alert-warning\" style=\"display:inline; font-family:inherit;\">You are using a default password. Please change the password using `[your_client].me.set_password([new_password])`.</pre></div><br/>"
      ],
      "text/plain": [
       "SyftWarning: You are using a default password. Please change the password using `[your_client].me.set_password([new_password])`."
      ]
     },
     "metadata": {},
     "output_type": "display_data"
    },
    {
     "name": "stdout",
     "output_type": "stream",
     "text": [
      "Logged into <auto-sync-low: Low side Domain> as <newuser@openmined.org>\n"
     ]
    }
   ],
   "source": [
    "client_high = high_side.login(email=\"info@openmined.org\", password=\"changethis\")\n",
    "client_low = low_side.login(email=\"info@openmined.org\", password=\"changethis\")\n",
    "client_low.register(email=\"newuser@openmined.org\", name=\"John Doe\", password=\"pw\", password_verify=\"pw\")\n",
    "client_low_ds = low_side.login(email=\"newuser@openmined.org\", password=\"pw\")"
   ]
  },
  {
   "cell_type": "markdown",
   "id": "af1bf1a3-5c0a-4895-bc91-ffedbb6e4e08",
   "metadata": {},
   "source": [
    "# Create Query enpoints"
   ]
  },
  {
   "cell_type": "markdown",
   "id": "9613fc72-6ad0-4c85-87fa-92f58d4a40fc",
   "metadata": {},
   "source": [
    "6. we are not limiting the result in size (IMPLEMENT)"
   ]
  },
  {
   "cell_type": "code",
   "execution_count": 5,
   "id": "3eb31229-93e8-46fe-ba0c-61d94d5d1910",
   "metadata": {},
   "outputs": [],
   "source": [
    "import json\n",
    "with open(\"./credentials.json\", \"r\") as f:\n",
    "    BQ_CREDENTIALS = json.loads(f.read())"
   ]
  },
  {
   "cell_type": "code",
   "execution_count": 6,
   "id": "d1758200-c979-48df-b962-9f8f3c5737c0",
   "metadata": {},
   "outputs": [
    {
     "data": {
      "text/html": [
       "<div class=\"alert-success\" style=\"padding:5px;\"><strong>SyftSuccess</strong>: <pre class=\"alert-success\" style=\"display:inline; font-family:inherit;\">Endpoint successfully created.</pre></div><br/>"
      ],
      "text/plain": [
       "SyftSuccess: Endpoint successfully created."
      ]
     },
     "execution_count": 6,
     "metadata": {},
     "output_type": "execute_result"
    }
   ],
   "source": [
    "# Mock API\n",
    "\n",
    "@sy.api_endpoint_method(\n",
    "    settings={}\n",
    ")\n",
    "def mock_query_function(\n",
    "    context,\n",
    "    sql_query: str,\n",
    ") -> str:\n",
    "    # third party\n",
    "    import numpy as np\n",
    "    import pandas as pd\n",
    "\n",
    "    # syft absolute\n",
    "    from syft.service.response import SyftError\n",
    "\n",
    "    # Set the seed for reproducibility\n",
    "    np.random.seed(42)\n",
    "    try:\n",
    "        # Generate mock data\n",
    "        data = {\n",
    "            \"Name\": [f\"Name_{i}\" for i in range(1, 11)],\n",
    "            \"Age\": np.random.randint(20, 50, size=10),\n",
    "            \"Email\": [f\"name_{i}@example.com\" for i in range(1, 11)],\n",
    "            \"JoinDate\": pd.date_range(start=\"2023-01-01\", periods=10, freq=\"M\")\n",
    "            .strftime(\"%Y-%m-%d\")\n",
    "            .tolist(),\n",
    "            \"Salary\": np.random.randint(40000, 120000, size=10),\n",
    "        }\n",
    "\n",
    "        # Create DataFrame\n",
    "        return pd.DataFrame(data)\n",
    "    except Exception:\n",
    "        return SyftError(\n",
    "            message=\"Ops! Something went wrong. please, contact your admin\"\n",
    "        )\n",
    "\n",
    "\n",
    "# Private API\n",
    "@sy.api_endpoint_method(\n",
    "    settings=BQ_CREDENTIALS\n",
    ")\n",
    "def private_query_function(\n",
    "    context,\n",
    "    sql_query: str,\n",
    ") -> str:\n",
    "    # third party\n",
    "    from google.cloud import bigquery\n",
    "    from google.oauth2 import service_account\n",
    "\n",
    "    # syft absolute\n",
    "    from syft.service.response import SyftError\n",
    "\n",
    "    # Client query\n",
    "    credentials = service_account.Credentials.from_service_account_info(context.settings)\n",
    "    scoped_credentials = credentials.with_scopes(['https://www.googleapis.com/auth/cloud-platform'])\n",
    "\n",
    "    client = bigquery.Client(\n",
    "        credentials=scoped_credentials,\n",
    "        location=\"us-west1\",        \n",
    "    )\n",
    "    # Generate mock data\n",
    "    rows = client.query_and_wait(\n",
    "        sql_query,\n",
    "        project=\"reddit-testing-415005\",\n",
    "    )\n",
    "    if rows.total_rows > 40000:\n",
    "        return SyftError(message=\"Please only write queries that gather aggregate statistics\")\n",
    "    # Create DataFrame\n",
    "    res = rows.to_dataframe()\n",
    "    return res\n",
    "\n",
    "\n",
    "# Create new Twin API using bigquery-pool as a worker pool\n",
    "new_endpoint = sy.TwinAPIEndpoint(\n",
    "    path=\"reddit.query\",\n",
    "    description=\"Ask SQL Queries using our BQ\",\n",
    "    private_function=private_query_function,\n",
    "    mock_function=mock_query_function,\n",
    ")\n",
    "\n",
    "client_high.custom_api.add(endpoint=new_endpoint)"
   ]
  },
  {
   "cell_type": "code",
   "execution_count": 7,
   "id": "f67f6643-727e-4c92-922a-04e58c7ac42c",
   "metadata": {},
   "outputs": [],
   "source": [
    "if False:\n",
    "    client_high.api.services.reddit.query.private(sql_query=\"SELECT * from data_10gb.comments LIMIT 40\").head()"
   ]
  },
  {
   "cell_type": "markdown",
   "id": "265933cc-3141-429f-863b-5c792de64736",
   "metadata": {},
   "source": [
    "# Sync TwinAPI to LowSide"
   ]
  },
  {
   "cell_type": "code",
   "execution_count": 7,
   "id": "d076c2b5-f58c-4385-8cde-8b575631c3bc",
   "metadata": {},
   "outputs": [
    {
     "data": {
      "text/html": [
       "<div class=\"alert-warning\" style=\"padding:5px;\"><strong>SyftWarning</strong>: <pre class=\"alert-warning\" style=\"display:inline; font-family:inherit;\">User code is hidden by default, as they are also part of the Request. If you want to include them, set hide_usercode=False.</pre></div><br/>"
      ],
      "text/plain": [
       "SyftWarning: User code is hidden by default, as they are also part of the Request. If you want to include them, set hide_usercode=False."
      ]
     },
     "metadata": {},
     "output_type": "display_data"
    },
    {
     "data": {
      "text/html": [
       "<script>highlightSingleRow('c715b1d9', 0, true);</script>"
      ],
      "text/plain": [
       "<IPython.core.display.HTML object>"
      ]
     },
     "metadata": {},
     "output_type": "display_data"
    },
    {
     "name": "stdout",
     "output_type": "stream",
     "text": [
      "Decision: Syncing 1 objects\n"
     ]
    },
    {
     "data": {
      "text/html": [
       "<div class=\"alert-success\" style=\"padding:5px;\"><strong>SyftSuccess</strong>: <pre class=\"alert-success\" style=\"display:inline; font-family:inherit;\">Synced 1 items</pre></div><br/>"
      ],
      "text/plain": [
       "SyftSuccess: Synced 1 items"
      ]
     },
     "execution_count": 7,
     "metadata": {},
     "output_type": "execute_result"
    }
   ],
   "source": [
    "widget = compare_clients(from_client=client_high, to_client=client_low).resolve()\n",
    "widget.click_sync(0)"
   ]
  },
  {
   "cell_type": "markdown",
   "id": "b85cbfbd-95c4-4ceb-8bf1-dd80b996d559",
   "metadata": {},
   "source": [
    "# Create Function factory"
   ]
  },
  {
   "cell_type": "code",
   "execution_count": 8,
   "id": "2e3f599f-86ed-4cb8-ae7a-170f5fd59ef8",
   "metadata": {},
   "outputs": [],
   "source": [
    "@sy.api_endpoint(path=\"reddit.submit_query\")\n",
    "def submit_query(\n",
    "    context, func_name: str, query: str,\n",
    ") -> str:\n",
    "    import syft as sy\n",
    "\n",
    "    if not func_name.isalpha():\n",
    "        return sy.SyftError(message=\"Please only use alphabetic characters for your func_name\")\n",
    "\n",
    "    @sy.syft_function(name=func_name,\n",
    "                      input_policy=sy.MixedInputPolicy(endpoint=sy.Constant(val=context.admin_client.api.services.reddit.query),\n",
    "                                                        query=sy.Constant(val=query),\n",
    "                                                        client=context.admin_client))\n",
    "    def execute_query(query: str, endpoint):\n",
    "        res = endpoint.private(sql_query=query);\n",
    "        return res\n",
    "    \n",
    "    res = context.user_client.code.request_code_execution(execute_query)\n",
    "\n",
    "    return f\"Query submitted {res}, use `client.code.{func_name}()` to run your query\""
   ]
  },
  {
   "cell_type": "code",
   "execution_count": 9,
   "id": "02c6287f-322e-469f-a2ae-666fc17c6dac",
   "metadata": {},
   "outputs": [
    {
     "data": {
      "text/html": [
       "<div class=\"alert-success\" style=\"padding:5px;\"><strong>SyftSuccess</strong>: <pre class=\"alert-success\" style=\"display:inline; font-family:inherit;\">Endpoint successfully created.</pre></div><br/>"
      ],
      "text/plain": [
       "SyftSuccess: Endpoint successfully created."
      ]
     },
     "execution_count": 9,
     "metadata": {},
     "output_type": "execute_result"
    }
   ],
   "source": [
    "client_low.api.services.api.add(endpoint=submit_query)"
   ]
  },
  {
   "cell_type": "markdown",
   "id": "46666113-d77a-4eb3-9154-63b4dc207d83",
   "metadata": {},
   "source": [
    "# Submit request"
   ]
  },
  {
   "cell_type": "code",
   "execution_count": 10,
   "id": "027d4479-0f47-4647-9c00-7b7d87f6a80f",
   "metadata": {},
   "outputs": [
    {
     "data": {
      "text/html": [
       "<div class=\"alert-success\" style=\"padding:5px;\"><strong>SyftSuccess</strong>: <pre class=\"alert-success\" style=\"display:inline; font-family:inherit;\">Syft function 'execute_query' successfully created. To add a code request, please create a project using `project = syft.Project(...)`, then use command `project.create_code_request`.</pre></div><br/>"
      ],
      "text/plain": [
       "SyftSuccess: Syft function 'execute_query' successfully created. To add a code request, please create a project using `project = syft.Project(...)`, then use command `project.create_code_request`."
      ]
     },
     "metadata": {},
     "output_type": "display_data"
    }
   ],
   "source": [
    "submit_res = client_low_ds.api.services.reddit.submit_query(func_name=\"myquery\",\n",
    "                                                            query=\"SELECT * from data_10gb.comments LIMIT 40\")"
   ]
  },
  {
   "cell_type": "code",
   "execution_count": 11,
   "id": "c19b0ff1-4b28-4e3c-99ca-3778e5ba52f6",
   "metadata": {},
   "outputs": [
    {
     "data": {
      "text/markdown": [
       "\n",
       "**Pointer**\n",
       "\n",
       "'Query submitted syft.service.request.request.Request, use `client.code.myquery()` to run your query'\n"
      ],
      "text/plain": [
       "Pointer:\n",
       "'Query submitted syft.service.request.request.Request, use `client.code.myquery()` to run your query'"
      ]
     },
     "execution_count": 11,
     "metadata": {},
     "output_type": "execute_result"
    }
   ],
   "source": [
    "submit_res"
   ]
  },
  {
   "cell_type": "code",
   "execution_count": 13,
   "id": "a7573008-bb4f-43b6-84da-bf797ec9dac6",
   "metadata": {},
   "outputs": [],
   "source": [
    "# client_low_ds.code.myquery()"
   ]
  },
  {
   "cell_type": "markdown",
   "id": "a35540cc-eb17-4a83-9fea-a6823573e404",
   "metadata": {},
   "source": [
    "# Run Autosync"
   ]
  },
  {
   "cell_type": "code",
   "execution_count": 14,
   "id": "e518ba33-9d2a-40a2-a6b8-174bc8392c77",
   "metadata": {},
   "outputs": [
    {
     "name": "stdout",
     "output_type": "stream",
     "text": [
      "Starting auto sync\n"
     ]
    },
    {
     "data": {
      "text/html": [
       "<div class=\"alert-warning\" style=\"padding:5px;\"><strong>SyftWarning</strong>: <pre class=\"alert-warning\" style=\"display:inline; font-family:inherit;\">User code is hidden by default, as they are also part of the Request. If you want to include them, set hide_usercode=False.</pre></div><br/>"
      ],
      "text/plain": [
       "SyftWarning: User code is hidden by default, as they are also part of the Request. If you want to include them, set hide_usercode=False."
      ]
     },
     "metadata": {},
     "output_type": "display_data"
    },
    {
     "name": "stdout",
     "output_type": "stream",
     "text": [
      "Decision: Syncing 2 objects\n",
      "Synced 1 new requests\n",
      "Started 1 new jobs\n"
     ]
    },
    {
     "data": {
      "text/html": [
       "<div class=\"alert-warning\" style=\"padding:5px;\"><strong>SyftWarning</strong>: <pre class=\"alert-warning\" style=\"display:inline; font-family:inherit;\">User code is hidden by default, as they are also part of the Request. If you want to include them, set hide_usercode=False.</pre></div><br/>"
      ],
      "text/plain": [
       "SyftWarning: User code is hidden by default, as they are also part of the Request. If you want to include them, set hide_usercode=False."
      ]
     },
     "metadata": {},
     "output_type": "display_data"
    },
    {
     "name": "stdout",
     "output_type": "stream",
     "text": [
      "Sharing 0 new results\n",
      "Finished auto sync\n",
      "Starting auto sync\n"
     ]
    },
    {
     "data": {
      "text/html": [
       "<div class=\"alert-warning\" style=\"padding:5px;\"><strong>SyftWarning</strong>: <pre class=\"alert-warning\" style=\"display:inline; font-family:inherit;\">User code is hidden by default, as they are also part of the Request. If you want to include them, set hide_usercode=False.</pre></div><br/>"
      ],
      "text/plain": [
       "SyftWarning: User code is hidden by default, as they are also part of the Request. If you want to include them, set hide_usercode=False."
      ]
     },
     "metadata": {},
     "output_type": "display_data"
    },
    {
     "name": "stdout",
     "output_type": "stream",
     "text": [
      "Synced 0 new requests\n",
      "Started 0 new jobs\n"
     ]
    },
    {
     "data": {
      "text/html": [
       "<div class=\"alert-warning\" style=\"padding:5px;\"><strong>SyftWarning</strong>: <pre class=\"alert-warning\" style=\"display:inline; font-family:inherit;\">User code is hidden by default, as they are also part of the Request. If you want to include them, set hide_usercode=False.</pre></div><br/>"
      ],
      "text/plain": [
       "SyftWarning: User code is hidden by default, as they are also part of the Request. If you want to include them, set hide_usercode=False."
      ]
     },
     "metadata": {},
     "output_type": "display_data"
    },
    {
     "name": "stdout",
     "output_type": "stream",
     "text": [
      "Sharing 0 new results\n",
      "Finished auto sync\n",
      "Starting auto sync\n"
     ]
    },
    {
     "data": {
      "text/html": [
       "<div class=\"alert-warning\" style=\"padding:5px;\"><strong>SyftWarning</strong>: <pre class=\"alert-warning\" style=\"display:inline; font-family:inherit;\">User code is hidden by default, as they are also part of the Request. If you want to include them, set hide_usercode=False.</pre></div><br/>"
      ],
      "text/plain": [
       "SyftWarning: User code is hidden by default, as they are also part of the Request. If you want to include them, set hide_usercode=False."
      ]
     },
     "metadata": {},
     "output_type": "display_data"
    },
    {
     "name": "stdout",
     "output_type": "stream",
     "text": [
      "Synced 0 new requests\n",
      "Started 0 new jobs\n"
     ]
    },
    {
     "data": {
      "text/html": [
       "<div class=\"alert-warning\" style=\"padding:5px;\"><strong>SyftWarning</strong>: <pre class=\"alert-warning\" style=\"display:inline; font-family:inherit;\">User code is hidden by default, as they are also part of the Request. If you want to include them, set hide_usercode=False.</pre></div><br/>"
      ],
      "text/plain": [
       "SyftWarning: User code is hidden by default, as they are also part of the Request. If you want to include them, set hide_usercode=False."
      ]
     },
     "metadata": {},
     "output_type": "display_data"
    },
    {
     "name": "stdout",
     "output_type": "stream",
     "text": [
      "Sharing 0 new results\n",
      "Finished auto sync\n",
      "Starting auto sync\n"
     ]
    },
    {
     "data": {
      "text/html": [
       "<div class=\"alert-warning\" style=\"padding:5px;\"><strong>SyftWarning</strong>: <pre class=\"alert-warning\" style=\"display:inline; font-family:inherit;\">User code is hidden by default, as they are also part of the Request. If you want to include them, set hide_usercode=False.</pre></div><br/>"
      ],
      "text/plain": [
       "SyftWarning: User code is hidden by default, as they are also part of the Request. If you want to include them, set hide_usercode=False."
      ]
     },
     "metadata": {},
     "output_type": "display_data"
    },
    {
     "name": "stdout",
     "output_type": "stream",
     "text": [
      "Synced 0 new requests\n",
      "Started 0 new jobs\n"
     ]
    },
    {
     "data": {
      "text/html": [
       "<div class=\"alert-warning\" style=\"padding:5px;\"><strong>SyftWarning</strong>: <pre class=\"alert-warning\" style=\"display:inline; font-family:inherit;\">User code is hidden by default, as they are also part of the Request. If you want to include them, set hide_usercode=False.</pre></div><br/>"
      ],
      "text/plain": [
       "SyftWarning: User code is hidden by default, as they are also part of the Request. If you want to include them, set hide_usercode=False."
      ]
     },
     "metadata": {},
     "output_type": "display_data"
    },
    {
     "name": "stdout",
     "output_type": "stream",
     "text": [
      "Decision: Syncing 5 objects\n",
      "Sharing 1 new results\n",
      "Finished auto sync\n"
     ]
    }
   ],
   "source": [
    "# do forever\n",
    "for i in range(4):\n",
    "    auto_sync(client_low, client_high)"
   ]
  },
  {
   "cell_type": "markdown",
   "id": "8a3b3ec5-2999-4665-a754-d43bef11b05d",
   "metadata": {},
   "source": [
    "# Run function as DS"
   ]
  },
  {
   "cell_type": "code",
   "execution_count": 15,
   "id": "f92240e6-0c35-4cd3-b52d-a5fa3256e3f9",
   "metadata": {},
   "outputs": [
    {
     "data": {
      "text/html": [
       "<div class=\"alert-warning\" style=\"padding:5px;\"><strong>SyftWarning</strong>: <pre class=\"alert-warning\" style=\"display:inline; font-family:inherit;\">Loading results from cache.</pre></div><br/>"
      ],
      "text/plain": [
       "SyftWarning: Loading results from cache."
      ]
     },
     "metadata": {},
     "output_type": "display_data"
    }
   ],
   "source": [
    "res = client_low_ds.code.myquery()"
   ]
  },
  {
   "cell_type": "code",
   "execution_count": 16,
   "id": "23050872-2f0b-4d23-9c1f-57ad74ac09d5",
   "metadata": {},
   "outputs": [],
   "source": [
    "df = res.get()"
   ]
  },
  {
   "cell_type": "code",
   "execution_count": 17,
   "id": "bb13bcf7-1e1b-4575-84ca-570f13a570c2",
   "metadata": {},
   "outputs": [
    {
     "data": {
      "text/html": [
       "<div>\n",
       "<style scoped>\n",
       "    .dataframe tbody tr th:only-of-type {\n",
       "        vertical-align: middle;\n",
       "    }\n",
       "\n",
       "    .dataframe tbody tr th {\n",
       "        vertical-align: top;\n",
       "    }\n",
       "\n",
       "    .dataframe thead th {\n",
       "        text-align: right;\n",
       "    }\n",
       "</style>\n",
       "<table border=\"1\" class=\"dataframe\">\n",
       "  <thead>\n",
       "    <tr style=\"text-align: right;\">\n",
       "      <th></th>\n",
       "      <th>id</th>\n",
       "      <th>post_id</th>\n",
       "      <th>parent_id</th>\n",
       "      <th>created_at</th>\n",
       "      <th>last_modified_at</th>\n",
       "      <th>body</th>\n",
       "      <th>author_id</th>\n",
       "      <th>gilded</th>\n",
       "      <th>score</th>\n",
       "      <th>upvote_ratio</th>\n",
       "      <th>deleted</th>\n",
       "      <th>collapsed_in_crowd_control</th>\n",
       "      <th>spam</th>\n",
       "      <th>subreddit_id</th>\n",
       "      <th>permalink</th>\n",
       "    </tr>\n",
       "  </thead>\n",
       "  <tbody>\n",
       "    <tr>\n",
       "      <th>0</th>\n",
       "      <td>t1_jsrssaa</td>\n",
       "      <td>t3_3eq9p3r</td>\n",
       "      <td>t1_j0bm0qn</td>\n",
       "      <td>2020-02-05 13:15:44+00:00</td>\n",
       "      <td>NaT</td>\n",
       "      <td>WASHINGTON (AP) — The federal government groun...</td>\n",
       "      <td>t2_31y14bfh</td>\n",
       "      <td>False</td>\n",
       "      <td>3</td>\n",
       "      <td>0.65</td>\n",
       "      <td>False</td>\n",
       "      <td>False</td>\n",
       "      <td>False</td>\n",
       "      <td>t5_7i2tp</td>\n",
       "      <td>/r/t5_7i2tp/comments/eq9p3r/comment/jsrssaa</td>\n",
       "    </tr>\n",
       "    <tr>\n",
       "      <th>1</th>\n",
       "      <td>t1_z014wyn</td>\n",
       "      <td>t3_mtoy3vi</td>\n",
       "      <td>None</td>\n",
       "      <td>2020-02-05 13:15:44+00:00</td>\n",
       "      <td>NaT</td>\n",
       "      <td>He was indicted on 16 felony charges, includin...</td>\n",
       "      <td>t2_iemo2ikg</td>\n",
       "      <td>False</td>\n",
       "      <td>8</td>\n",
       "      <td>1.00</td>\n",
       "      <td>False</td>\n",
       "      <td>False</td>\n",
       "      <td>False</td>\n",
       "      <td>t5_xg19m</td>\n",
       "      <td>/r/t5_xg19m/comments/mtoy3vi/comment/z014wyn</td>\n",
       "    </tr>\n",
       "    <tr>\n",
       "      <th>2</th>\n",
       "      <td>t1_8ttp66l</td>\n",
       "      <td>t3_is0dk32</td>\n",
       "      <td>None</td>\n",
       "      <td>2020-02-05 13:15:44+00:00</td>\n",
       "      <td>NaT</td>\n",
       "      <td>None</td>\n",
       "      <td>t2_csenfqwl</td>\n",
       "      <td>False</td>\n",
       "      <td>6</td>\n",
       "      <td>1.00</td>\n",
       "      <td>False</td>\n",
       "      <td>False</td>\n",
       "      <td>False</td>\n",
       "      <td>t5_unjsw</td>\n",
       "      <td>/r/t5_unjsw/comments/is0dk32/comment/8ttp66l</td>\n",
       "    </tr>\n",
       "    <tr>\n",
       "      <th>3</th>\n",
       "      <td>t1_qhuklsm</td>\n",
       "      <td>t3_7ajgpje</td>\n",
       "      <td>None</td>\n",
       "      <td>2020-02-05 13:15:44+00:00</td>\n",
       "      <td>NaT</td>\n",
       "      <td>These nachos are so sinful; it's hard to stop ...</td>\n",
       "      <td>t2_2ztp96r7</td>\n",
       "      <td>False</td>\n",
       "      <td>7</td>\n",
       "      <td>0.69</td>\n",
       "      <td>False</td>\n",
       "      <td>False</td>\n",
       "      <td>False</td>\n",
       "      <td>t5_91cqb</td>\n",
       "      <td>/r/t5_91cqb/comments/7ajgpje/comment/qhuklsm</td>\n",
       "    </tr>\n",
       "    <tr>\n",
       "      <th>4</th>\n",
       "      <td>t1_8nkh2zb</td>\n",
       "      <td>t3_oygwavx</td>\n",
       "      <td>t1_0mzt6bq</td>\n",
       "      <td>2020-02-05 13:15:44+00:00</td>\n",
       "      <td>NaT</td>\n",
       "      <td>When we last checked in with Charles Platkin, ...</td>\n",
       "      <td>t2_o79jr0e0</td>\n",
       "      <td>False</td>\n",
       "      <td>5</td>\n",
       "      <td>1.00</td>\n",
       "      <td>True</td>\n",
       "      <td>False</td>\n",
       "      <td>False</td>\n",
       "      <td>t5_y71mw</td>\n",
       "      <td>/r/t5_y71mw/comments/oygwavx/comment/8nkh2zb</td>\n",
       "    </tr>\n",
       "  </tbody>\n",
       "</table>\n",
       "</div>"
      ],
      "text/plain": [
       "           id     post_id   parent_id                created_at  \\\n",
       "0  t1_jsrssaa  t3_3eq9p3r  t1_j0bm0qn 2020-02-05 13:15:44+00:00   \n",
       "1  t1_z014wyn  t3_mtoy3vi        None 2020-02-05 13:15:44+00:00   \n",
       "2  t1_8ttp66l  t3_is0dk32        None 2020-02-05 13:15:44+00:00   \n",
       "3  t1_qhuklsm  t3_7ajgpje        None 2020-02-05 13:15:44+00:00   \n",
       "4  t1_8nkh2zb  t3_oygwavx  t1_0mzt6bq 2020-02-05 13:15:44+00:00   \n",
       "\n",
       "  last_modified_at                                               body  \\\n",
       "0              NaT  WASHINGTON (AP) — The federal government groun...   \n",
       "1              NaT  He was indicted on 16 felony charges, includin...   \n",
       "2              NaT                                               None   \n",
       "3              NaT  These nachos are so sinful; it's hard to stop ...   \n",
       "4              NaT  When we last checked in with Charles Platkin, ...   \n",
       "\n",
       "     author_id  gilded  score  upvote_ratio  deleted  \\\n",
       "0  t2_31y14bfh   False      3          0.65    False   \n",
       "1  t2_iemo2ikg   False      8          1.00    False   \n",
       "2  t2_csenfqwl   False      6          1.00    False   \n",
       "3  t2_2ztp96r7   False      7          0.69    False   \n",
       "4  t2_o79jr0e0   False      5          1.00     True   \n",
       "\n",
       "   collapsed_in_crowd_control   spam subreddit_id  \\\n",
       "0                       False  False     t5_7i2tp   \n",
       "1                       False  False     t5_xg19m   \n",
       "2                       False  False     t5_unjsw   \n",
       "3                       False  False     t5_91cqb   \n",
       "4                       False  False     t5_y71mw   \n",
       "\n",
       "                                      permalink  \n",
       "0   /r/t5_7i2tp/comments/eq9p3r/comment/jsrssaa  \n",
       "1  /r/t5_xg19m/comments/mtoy3vi/comment/z014wyn  \n",
       "2  /r/t5_unjsw/comments/is0dk32/comment/8ttp66l  \n",
       "3  /r/t5_91cqb/comments/7ajgpje/comment/qhuklsm  \n",
       "4  /r/t5_y71mw/comments/oygwavx/comment/8nkh2zb  "
      ]
     },
     "execution_count": 17,
     "metadata": {},
     "output_type": "execute_result"
    }
   ],
   "source": [
    "df.head()"
   ]
  },
  {
   "cell_type": "code",
   "execution_count": null,
   "id": "024d9969-3345-41a6-b904-9a04ab4bfdad",
   "metadata": {},
   "outputs": [],
   "source": []
  },
  {
   "cell_type": "code",
   "execution_count": null,
   "id": "2d851f1e-75af-4d0f-8523-f30e2d0d9951",
   "metadata": {},
   "outputs": [],
   "source": []
  },
  {
   "cell_type": "code",
   "execution_count": null,
   "id": "14065b63-0102-4519-9749-dbf05c91c22b",
   "metadata": {},
   "outputs": [],
   "source": []
  },
  {
   "cell_type": "code",
   "execution_count": null,
   "id": "77ff0fc4-243a-4d2e-acb4-cd29570855d1",
   "metadata": {},
   "outputs": [],
   "source": []
  },
  {
   "cell_type": "code",
   "execution_count": null,
   "id": "dd79cf84-9ac2-41ce-ae10-862754917be1",
   "metadata": {},
   "outputs": [],
   "source": []
  },
  {
   "cell_type": "code",
   "execution_count": null,
   "id": "12604e72-5229-4dfc-8b55-802ef335d356",
   "metadata": {},
   "outputs": [],
   "source": []
  },
  {
   "cell_type": "code",
   "execution_count": null,
   "id": "85ce2d7c-cd95-497b-b39d-6e72f3d808a2",
   "metadata": {},
   "outputs": [],
   "source": []
  },
  {
   "cell_type": "code",
   "execution_count": null,
   "id": "9dc3f93f-1126-43b6-86be-a7b93b5a4af4",
   "metadata": {},
   "outputs": [],
   "source": []
  },
  {
   "cell_type": "code",
   "execution_count": null,
   "id": "b5c37a54-1a62-4390-a348-eee7ef94c1af",
   "metadata": {},
   "outputs": [],
   "source": []
  },
  {
   "cell_type": "markdown",
   "id": "9c402c70-63d6-4835-bcaa-eed6ebfd2d65",
   "metadata": {
    "jp-MarkdownHeadingCollapsed": true
   },
   "source": [
    "# Appendix"
   ]
  },
  {
   "cell_type": "code",
   "execution_count": null,
   "id": "9a12184b-9bc0-438f-a55f-2efa2ed6c93a",
   "metadata": {},
   "outputs": [],
   "source": []
  },
  {
   "cell_type": "code",
   "execution_count": 11,
   "id": "bfebf0d6-3e1e-445a-883c-3c95dba0a558",
   "metadata": {},
   "outputs": [],
   "source": [
    "# @sy.syft_function(input_policy=sy.MixedInputPolicy(endpoint=client_high.api.services.reddit.query, client=client_high))\n",
    "# def execute_query(endpoint):\n",
    "#     res = endpoint(sql_query=\"SELECT * from data_10gb.comments LIMIT 40\");\n",
    "#     return res\n",
    "\n"
   ]
  },
  {
   "cell_type": "code",
   "execution_count": 12,
   "id": "8ecee14c-fa09-426c-a0f5-4a5e9904e3d7",
   "metadata": {},
   "outputs": [],
   "source": [
    "# client_high.code.submit(execute_query)"
   ]
  },
  {
   "cell_type": "code",
   "execution_count": 13,
   "id": "bf902d3b-4bfc-470f-9b47-b7a195e45fe4",
   "metadata": {},
   "outputs": [],
   "source": [
    "# res = client_high.code.execute_query(endpoint=client_high.api.services.reddit.query)"
   ]
  },
  {
   "cell_type": "code",
   "execution_count": 14,
   "id": "abfd38f6-1dfb-4a36-83b3-74bbbf03cfbe",
   "metadata": {},
   "outputs": [],
   "source": [
    "# res"
   ]
  },
  {
   "cell_type": "code",
   "execution_count": 15,
   "id": "8945ad4a-2106-45a9-b6eb-dfe9b35c3b0a",
   "metadata": {},
   "outputs": [],
   "source": [
    "# @sy.syft_function(input_policy=sy.ExactMatch(endpoint=client_high.api.services.reddit.query))\n",
    "# def execute_query(endpoint):\n",
    "#     res = endpoint(sql_query=\"SELECT * from data_10gb.comments LIMIT 40\");\n",
    "#     return res\n"
   ]
  },
  {
   "cell_type": "code",
   "execution_count": 16,
   "id": "6c99de9f-7aed-430f-a81b-7215d4fe9270",
   "metadata": {},
   "outputs": [],
   "source": [
    "# client_high.code.submit(abc)"
   ]
  },
  {
   "cell_type": "code",
   "execution_count": 17,
   "id": "e1759c17-e1e4-4061-9fe2-0ed757fb7a97",
   "metadata": {},
   "outputs": [],
   "source": [
    "# res = client_high.code.abc(endpoint=client_high.api.services.reddit.query)"
   ]
  },
  {
   "cell_type": "code",
   "execution_count": 18,
   "id": "520377d1-5774-43cd-bb4c-35bd925fdb89",
   "metadata": {},
   "outputs": [],
   "source": [
    "# res.syft_action_data.head()"
   ]
  },
  {
   "cell_type": "code",
   "execution_count": 19,
   "id": "e71aa8c6-d827-485e-bcf2-218f634346fc",
   "metadata": {},
   "outputs": [],
   "source": [
    "# @sy.api_endpoint(path=\"reddit.submit_query\")\n",
    "# def submit_query(\n",
    "#     context, func_name: str, query: str,\n",
    "# ) -> str:\n",
    "#     import syft as sy\n",
    "\n",
    "#     if not func_name.isalpha():\n",
    "#         return sy.SyftError(message=\"Please only use alphabetic characters for your func_name\")\n",
    "\n",
    "#     @sy.syft_function(name=func_name, input_policy=sy.MixedInputPolicy(query=sy.Constant(val=query),client=context.admin_client)\n",
    "#     def execute_query(query: str):\n",
    "        \n",
    "#         return f\"your query {query} was EXECUTED\"\n",
    "\n",
    "#     res = context.user_client.code.request_code_execution(execute_query)\n",
    "\n",
    "#     return f\"Query submitted {res}, use `client.code.{func_name}()` to run your query\""
   ]
  },
  {
   "cell_type": "code",
   "execution_count": 20,
   "id": "bc8c4bb4-f41f-4344-8817-41c4e6780912",
   "metadata": {},
   "outputs": [],
   "source": [
    "# sy.api_endpoint(path=\"reddit.query\""
   ]
  },
  {
   "cell_type": "code",
   "execution_count": 1,
   "id": "c6a426e8-314a-4a44-8bbe-47f8f8663835",
   "metadata": {},
   "outputs": [],
   "source": [
    "# for _ in range(10):\n",
    "#     j = client_high.code.query_0(blocking=False)\n",
    "#     print(j)"
   ]
  },
  {
   "cell_type": "code",
   "execution_count": 4,
   "id": "985075a7-833b-4e4e-8441-1bc34c397148",
   "metadata": {},
   "outputs": [],
   "source": [
    "# def make_request(client):\n",
    "#     existing_requests = client.requests.get_all()\n",
    "\n",
    "#     @sy.syft_function_single_use()\n",
    "#     def func():\n",
    "#         return 10\n",
    "\n",
    "#     func.func_name = f\"query_{len(existing_requests)}\"\n",
    "#     func.code = func.code.replace(\"def func(\", f\"def {func.func_name}(\")\n",
    "\n",
    "#     res = client.code.request_code_execution(func)\n",
    "#     return res\n",
    "\n",
    "\n",
    "# for _ in range(5):\n",
    "#     make_request(client_low_ds)"
   ]
  },
  {
   "cell_type": "code",
   "execution_count": null,
   "id": "8674ffae-4635-43bd-9117-0959cd0040ba",
   "metadata": {},
   "outputs": [],
   "source": []
  }
 ],
 "metadata": {
  "kernelspec": {
   "display_name": "Python 3 (ipykernel)",
   "language": "python",
   "name": "python3"
  },
  "language_info": {
   "codemirror_mode": {
    "name": "ipython",
    "version": 3
   },
   "file_extension": ".py",
   "mimetype": "text/x-python",
   "name": "python",
   "nbconvert_exporter": "python",
   "pygments_lexer": "ipython3",
   "version": "3.12.2"
  }
 },
 "nbformat": 4,
 "nbformat_minor": 5
}
