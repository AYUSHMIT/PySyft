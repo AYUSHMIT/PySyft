{
 "cells": [
  {
   "cell_type": "code",
   "execution_count": null,
   "id": "a300f01b-8357-43ca-9c64-c489839603e8",
   "metadata": {},
   "outputs": [],
   "source": [
    "# syft absolute\n",
    "import syft as sy"
   ]
  },
  {
   "cell_type": "code",
   "execution_count": null,
   "id": "9aeed160-94d3-49c1-98c5-7795c6df7280",
   "metadata": {},
   "outputs": [],
   "source": [
    "domain_client = sy.login(email=\"info@openmined.org\", password=\"changethis\", port=8080)"
   ]
  },
  {
   "cell_type": "code",
   "execution_count": null,
   "id": "e7a79ee9-68bf-4a93-935e-32f42e332f97",
   "metadata": {},
   "outputs": [],
   "source": [
    "gateway_client = sy.login(email=\"info@openmined.org\", password=\"changethis\", port=9081)"
   ]
  },
  {
   "cell_type": "code",
   "execution_count": null,
   "id": "b2d66293-b573-4cdf-8721-9d91a620dd9d",
   "metadata": {},
   "outputs": [],
   "source": [
    "domain_client.api.services.veilid.retrieve_dht_key()"
   ]
  },
  {
   "cell_type": "code",
   "execution_count": null,
   "id": "e3b10d70-1c30-42e2-98bd-86af6a228455",
   "metadata": {},
   "outputs": [],
   "source": [
    "domain_client.api.services.veilid.generate_dht_key()"
   ]
  },
  {
   "cell_type": "code",
   "execution_count": null,
   "id": "c1b4fc73-ca99-48f1-9010-ab4e7bba2506",
   "metadata": {},
   "outputs": [],
   "source": [
    "gateway_client.api.services.veilid.generate_dht_key()"
   ]
  },
  {
   "cell_type": "code",
   "execution_count": null,
   "id": "7500007e-e5f6-4c4a-bbc3-46f2357d2433",
   "metadata": {},
   "outputs": [],
   "source": [
    "domain_route = domain_client.api.services.veilid.get_veilid_route()\n",
    "gateway_route = gateway_client.api.services.veilid.get_veilid_route()"
   ]
  },
  {
   "cell_type": "code",
   "execution_count": null,
   "id": "82bee827-ea59-4255-9c32-5b9e10e5676f",
   "metadata": {},
   "outputs": [],
   "source": [
    "gateway_route.dht_key"
   ]
  },
  {
   "cell_type": "code",
   "execution_count": null,
   "id": "960f6b4c-3073-45ec-93cf-54c384262d0b",
   "metadata": {},
   "outputs": [],
   "source": [
    "domain_route.dht_key"
   ]
  },
  {
   "cell_type": "code",
   "execution_count": null,
   "id": "e3e916e7-2897-4d63-b8b8-a913a2baed8a",
   "metadata": {},
   "outputs": [],
   "source": [
    "domain_client.connect_to_gateway(gateway_client, protocol=\"veilid\")"
   ]
  },
  {
   "cell_type": "code",
   "execution_count": null,
   "id": "ee4b39c1-01d5-4cae-9115-a0d83667c31a",
   "metadata": {},
   "outputs": [],
   "source": [
    "domain_client.peers[0].node_routes[0].dht_key"
   ]
  },
  {
   "cell_type": "code",
   "execution_count": null,
   "id": "6c56a7d4-88dc-43e0-b092-4c443734e3c3",
   "metadata": {},
   "outputs": [],
   "source": [
    "gateway_client.peers"
   ]
  },
  {
   "cell_type": "code",
   "execution_count": null,
   "id": "8febe455-4b82-478f-85b5-d1e2e104fb1a",
   "metadata": {},
   "outputs": [],
   "source": []
  }
 ],
 "metadata": {
  "kernelspec": {
   "display_name": "Python 3 (ipykernel)",
   "language": "python",
   "name": "python3"
  },
  "language_info": {
   "codemirror_mode": {
    "name": "ipython",
    "version": 3
   },
   "file_extension": ".py",
   "mimetype": "text/x-python",
   "name": "python",
   "nbconvert_exporter": "python",
   "pygments_lexer": "ipython3",
   "version": "3.11.5"
  }
 },
 "nbformat": 4,
 "nbformat_minor": 5
}
