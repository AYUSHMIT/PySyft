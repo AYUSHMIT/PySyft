{
 "cells": [
  {
   "cell_type": "code",
   "execution_count": null,
   "metadata": {},
   "outputs": [],
   "source": [
    "# third party\n",
    "import requests"
   ]
  },
  {
   "cell_type": "code",
   "execution_count": null,
   "metadata": {},
   "outputs": [],
   "source": [
    "host = \"localhost\"\n",
    "port = 4000"
   ]
  },
  {
   "cell_type": "code",
   "execution_count": null,
   "metadata": {},
   "outputs": [],
   "source": [
    "requests.post(f\"http://{host}:{port}/generate_dht_key\")\n",
    "res = requests.get(f\"http://{host}:{port}/retrieve_dht_key\")\n",
    "self_dht_key = res.json()[\"message\"]\n",
    "print(f\"{'=' * 30}\\n{self_dht_key}\\n{'=' * 30}\")"
   ]
  },
  {
   "cell_type": "code",
   "execution_count": null,
   "metadata": {},
   "outputs": [],
   "source": [
    "peer_dht_key = input(\"Enter Peer DHT Key\")"
   ]
  },
  {
   "cell_type": "code",
   "execution_count": null,
   "metadata": {},
   "outputs": [],
   "source": [
    "# message contains 64 kb of \"ping\\n\"\n",
    "# So this will get handled by VeilidStreamer\n",
    "message = \"ping\\n\" * (64 * 1024 // 5)\n",
    "json_data = {\n",
    "    \"dht_key\": peer_dht_key,\n",
    "    \"message\": message,\n",
    "}\n",
    "app_call = requests.post(f\"http://{host}:{port}/app_call\", json=json_data)\n",
    "app_call.content"
   ]
  }
 ],
 "metadata": {
  "kernelspec": {
   "display_name": "PySyft",
   "language": "python",
   "name": "python3"
  },
  "language_info": {
   "codemirror_mode": {
    "name": "ipython",
    "version": 3
   },
   "file_extension": ".py",
   "mimetype": "text/x-python",
   "name": "python",
   "nbconvert_exporter": "python",
   "pygments_lexer": "ipython3",
   "version": "3.11.7"
  }
 },
 "nbformat": 4,
 "nbformat_minor": 2
}
