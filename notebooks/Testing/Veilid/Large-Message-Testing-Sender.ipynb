{
 "cells": [
  {
   "cell_type": "code",
   "execution_count": null,
   "metadata": {},
   "outputs": [],
   "source": [
    "# stdlib\n",
    "from pprint import pprint\n",
    "import time\n",
    "\n",
    "# third party\n",
    "import requests"
   ]
  },
  {
   "cell_type": "code",
   "execution_count": null,
   "metadata": {},
   "outputs": [],
   "source": [
    "host = \"localhost\"\n",
    "port = 4000"
   ]
  },
  {
   "cell_type": "code",
   "execution_count": null,
   "metadata": {},
   "outputs": [],
   "source": [
    "requests.post(f\"http://{host}:{port}/generate_dht_key\")\n",
    "res = requests.get(f\"http://{host}:{port}/retrieve_dht_key\")\n",
    "self_dht_key = res.json()[\"message\"]\n",
    "print(f\"{'=' * 30}\\n{self_dht_key}\\n{'=' * 30}\")"
   ]
  },
  {
   "cell_type": "code",
   "execution_count": null,
   "metadata": {},
   "outputs": [],
   "source": [
    "peer_dht_key = input(\"Enter Peer DHT Key\")"
   ]
  },
  {
   "cell_type": "code",
   "execution_count": null,
   "metadata": {},
   "outputs": [],
   "source": [
    "def send_ping(size_kb):\n",
    "    size_bytes = size_kb * 1024\n",
    "    message = \"ping\" * (size_bytes // 4)\n",
    "    json_data = {\n",
    "        \"dht_key\": peer_dht_key,\n",
    "        \"message\": message,\n",
    "    }\n",
    "    print(f\"Sending message of size {len(message) // 1024} KB...\")\n",
    "    start = time.time()\n",
    "    app_call = requests.post(f\"http://{host}:{port}/app_call\", json=json_data)\n",
    "    end = time.time()\n",
    "    time_taken = round(end - start, 2)\n",
    "    print(f\"[{time_taken}s] Response: {app_call.json()}\")\n",
    "    return time_taken"
   ]
  },
  {
   "cell_type": "code",
   "execution_count": null,
   "metadata": {},
   "outputs": [],
   "source": [
    "# Tests with smaller messages\n",
    "benchmarks = {}\n",
    "for message_size_kb in range(0, 13):  # Test from 1 KB to 4 MB\n",
    "    message_size_kb = 2**message_size_kb\n",
    "    benchmarks[message_size_kb] = send_ping(message_size_kb)\n",
    "\n",
    "pprint(benchmarks)"
   ]
  }
 ],
 "metadata": {
  "kernelspec": {
   "display_name": "PySyft",
   "language": "python",
   "name": "python3"
  },
  "language_info": {
   "codemirror_mode": {
    "name": "ipython",
    "version": 3
   },
   "file_extension": ".py",
   "mimetype": "text/x-python",
   "name": "python",
   "nbconvert_exporter": "python",
   "pygments_lexer": "ipython3",
   "version": "3.11.7"
  }
 },
 "nbformat": 4,
 "nbformat_minor": 2
}
