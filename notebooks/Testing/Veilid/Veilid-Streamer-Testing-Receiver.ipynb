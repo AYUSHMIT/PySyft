{
 "cells": [
  {
   "cell_type": "code",
   "execution_count": null,
   "metadata": {},
   "outputs": [],
   "source": [
    "# stdlib\n",
    "import asyncio\n",
    "import time\n",
    "\n",
    "# third party\n",
    "import veilid\n",
    "\n",
    "# first party\n",
    "from veilid_streamer import VEILID_STREAMER_STREAM_PREFIX\n",
    "from veilid_streamer import VeilidStreamer"
   ]
  },
  {
   "cell_type": "code",
   "execution_count": null,
   "metadata": {},
   "outputs": [],
   "source": [
    "host = \"localhost\"\n",
    "port = 5959"
   ]
  },
  {
   "cell_type": "code",
   "execution_count": null,
   "metadata": {},
   "outputs": [],
   "source": [
    "async def veilid_callback(\n",
    "    update: veilid.VeilidUpdate, app_message_queue: asyncio.Queue\n",
    "):\n",
    "    if update.kind in {\n",
    "        veilid.VeilidUpdateKind.APP_MESSAGE,\n",
    "        veilid.VeilidUpdateKind.APP_CALL,\n",
    "    }:\n",
    "        await app_message_queue.put(update)\n",
    "\n",
    "\n",
    "app_message_queue = asyncio.Queue()\n",
    "conn = await veilid.json_api_connect(\n",
    "    host, port, lambda update: veilid_callback(update, app_message_queue)\n",
    ")"
   ]
  },
  {
   "cell_type": "code",
   "execution_count": null,
   "metadata": {},
   "outputs": [],
   "source": [
    "router = await (await conn.new_routing_context()).with_default_safety()\n",
    "record = await router.create_dht_record(veilid.DHTSchema.dflt(1))\n",
    "public_key, private_key = record.owner, record.owner_secret\n",
    "await router.close_dht_record(record.key)\n",
    "key_pair = veilid.KeyPair.from_parts(key=public_key, secret=private_key)\n",
    "record_open = await router.open_dht_record(record.key, key_pair)\n",
    "route_id, blob = await conn.new_custom_private_route(\n",
    "    [veilid.CryptoKind.CRYPTO_KIND_VLD0],\n",
    "    veilid.Stability.RELIABLE,\n",
    "    veilid.Sequencing.ENSURE_ORDERED,\n",
    ")\n",
    "await router.set_dht_value(record_open.key, 0, blob)\n",
    "self_remote_private_route = await conn.import_remote_private_route(blob)"
   ]
  },
  {
   "cell_type": "code",
   "execution_count": null,
   "metadata": {},
   "outputs": [],
   "source": [
    "await router.app_message(self_remote_private_route, b\"READY\")\n",
    "update = await app_message_queue.get()\n",
    "assert update.detail.message == b\"READY\"\n",
    "print(f\"Your DHT Key: {record.key}\")"
   ]
  },
  {
   "cell_type": "code",
   "execution_count": null,
   "metadata": {},
   "outputs": [],
   "source": [
    "vs = VeilidStreamer(connection=conn, router=router)\n",
    "while True:\n",
    "    update = await app_message_queue.get()\n",
    "    if update.detail.message.startswith(VEILID_STREAMER_STREAM_PREFIX):\n",
    "        message = await vs.receive_stream(update)\n",
    "        if message:\n",
    "            start_time = int.from_bytes(message[:4], byteorder=\"big\")\n",
    "            print(\n",
    "                f\"Received {len(message)} bytes in {int(time.time()) - start_time} seconds\"\n",
    "            )"
   ]
  }
 ],
 "metadata": {
  "kernelspec": {
   "display_name": "PySyft",
   "language": "python",
   "name": "python3"
  },
  "language_info": {
   "codemirror_mode": {
    "name": "ipython",
    "version": 3
   },
   "file_extension": ".py",
   "mimetype": "text/x-python",
   "name": "python",
   "nbconvert_exporter": "python",
   "pygments_lexer": "ipython3",
   "version": "3.11.7"
  }
 },
 "nbformat": 4,
 "nbformat_minor": 2
}
