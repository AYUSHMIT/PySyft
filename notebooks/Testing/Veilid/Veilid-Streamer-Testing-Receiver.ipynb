{
 "cells": [
  {
   "cell_type": "code",
   "execution_count": null,
   "metadata": {},
   "outputs": [],
   "source": [
    "# stdlib\n",
    "import asyncio\n",
    "import logging\n",
    "from pathlib import Path\n",
    "import sys\n",
    "\n",
    "# third party\n",
    "import veilid\n",
    "\n",
    "project_root = Path.cwd().parent.parent.parent\n",
    "veilid_path = project_root / \"packages\" / \"grid\" / \"veilid\" / \"server\"\n",
    "sys.path.append(veilid_path.as_posix())\n",
    "\n",
    "# third party\n",
    "from veilid_streamer import VeilidStreamer  # type: ignore\n",
    "\n",
    "logging.getLogger('veilid_streamer').setLevel(logging.DEBUG)"
   ]
  },
  {
   "cell_type": "code",
   "execution_count": null,
   "metadata": {},
   "outputs": [],
   "source": [
    "host = \"localhost\"\n",
    "port = 5959"
   ]
  },
  {
   "cell_type": "code",
   "execution_count": null,
   "metadata": {},
   "outputs": [],
   "source": [
    "async def veilid_callback(\n",
    "    update: veilid.VeilidUpdate, app_message_queue: asyncio.Queue\n",
    "):\n",
    "    if update.kind in {\n",
    "        veilid.VeilidUpdateKind.APP_MESSAGE,\n",
    "        veilid.VeilidUpdateKind.APP_CALL,\n",
    "    }:\n",
    "        await app_message_queue.put(update)\n",
    "\n",
    "\n",
    "app_message_queue = asyncio.Queue()\n",
    "conn = await veilid.json_api_connect(\n",
    "    host, port, lambda update: veilid_callback(update, app_message_queue)\n",
    ")"
   ]
  },
  {
   "cell_type": "code",
   "execution_count": null,
   "metadata": {},
   "outputs": [],
   "source": [
    "router = await (await conn.new_routing_context()).with_default_safety()\n",
    "record = await router.create_dht_record(veilid.DHTSchema.dflt(1))\n",
    "public_key, private_key = record.owner, record.owner_secret\n",
    "await router.close_dht_record(record.key)\n",
    "key_pair = veilid.KeyPair.from_parts(key=public_key, secret=private_key)\n",
    "record_open = await router.open_dht_record(record.key, key_pair)\n",
    "route_id, blob = await conn.new_custom_private_route(\n",
    "    [veilid.CryptoKind.CRYPTO_KIND_VLD0],\n",
    "    veilid.Stability.RELIABLE,\n",
    "    veilid.Sequencing.ENSURE_ORDERED,\n",
    ")\n",
    "await router.set_dht_value(record_open.key, 0, blob)\n",
    "self_remote_private_route = await conn.import_remote_private_route(blob)\n",
    "await router.app_message(self_remote_private_route, b\"READY\")\n",
    "update = await app_message_queue.get()\n",
    "assert update.detail.message == b\"READY\"\n",
    "print(f\"Your DHT Key: {record.key}\")"
   ]
  },
  {
   "cell_type": "code",
   "execution_count": null,
   "metadata": {},
   "outputs": [],
   "source": [
    "vs = VeilidStreamer(connection=conn, router=router)\n",
    "\n",
    "\n",
    "async def receive_stream_callback(message: bytes) -> bytes:\n",
    "    response = f\"Received {len(message)} bytes.\"\n",
    "    print(response)\n",
    "    return response.encode()\n",
    "\n",
    "# Reset the queue\n",
    "app_message_queue = asyncio.Queue()\n",
    "\n",
    "while True:\n",
    "    update = await app_message_queue.get()\n",
    "    if vs.is_stream_update(update):\n",
    "        await vs.receive_stream(update, callback=receive_stream_callback)\n",
    "    elif update.detail.message == b\"QUIT\":\n",
    "        print(\"Received QUIT message. Exiting.\")\n",
    "        break\n",
    "    else:\n",
    "        print(f\"Received: {update.detail.message}\")"
   ]
  }
 ],
 "metadata": {
  "kernelspec": {
   "display_name": "PySyft",
   "language": "python",
   "name": "python3"
  },
  "language_info": {
   "codemirror_mode": {
    "name": "ipython",
    "version": 3
   },
   "file_extension": ".py",
   "mimetype": "text/x-python",
   "name": "python",
   "nbconvert_exporter": "python",
   "pygments_lexer": "ipython3",
   "version": "3.11.7"
  }
 },
 "nbformat": 4,
 "nbformat_minor": 2
}
