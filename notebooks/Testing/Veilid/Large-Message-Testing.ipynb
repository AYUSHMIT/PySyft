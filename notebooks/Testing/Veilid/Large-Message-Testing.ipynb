{
 "cells": [
  {
   "cell_type": "markdown",
   "metadata": {},
   "source": [
    "## Instructions\n",
    "\n",
    "1. Follow these instructions from `packages/grid/veilid/development.md` to build veilid docker containers:\n",
    "   ```bash\n",
    "   cd packages/grid/veilid && docker build -f veilid.dockerfile -t veilid:0.1 .\n",
    "   ```\n",
    "2. From within the `packages/grid/veilid` directory run the receiver docker container on port 4000:\n",
    "   ```bash\n",
    "   docker run -it -e DEV_MODE=True -p 4000:4000 -v $(pwd)/server:/app/server veilid:0.1\n",
    "   ```\n",
    "3. On a separate terminal tab/window, cd into `packages/grid/veilid` directory again and run the sender docker container on port 4001:\n",
    "   ```bash\n",
    "   docker run -it -e DEV_MODE=True -p 4001:4000 -v $(pwd)/server:/app/server veilid:0.1\n",
    "   ```\n",
    "4. Follow and run the below cells to test out sending large messages through Veilid. You may also use the **`Run All`** notebook function once the above two docker containers are up and running."
   ]
  },
  {
   "cell_type": "markdown",
   "metadata": {},
   "source": [
    "### 1. Set up imports"
   ]
  },
  {
   "cell_type": "code",
   "execution_count": null,
   "metadata": {},
   "outputs": [],
   "source": [
    "# stdlib\n",
    "from pprint import pprint\n",
    "import time\n",
    "\n",
    "# third party\n",
    "import requests"
   ]
  },
  {
   "cell_type": "markdown",
   "metadata": {},
   "source": [
    "### 2. Set up receiver"
   ]
  },
  {
   "cell_type": "code",
   "execution_count": null,
   "metadata": {},
   "outputs": [],
   "source": [
    "RECEIVER_HOST = \"localhost\"\n",
    "RECEIVER_PORT = 4000\n",
    "RECEIVER_BASE_ADDRESS = f\"http://{RECEIVER_HOST}:{RECEIVER_PORT}\"\n",
    "\n",
    "requests.post(f\"{RECEIVER_BASE_ADDRESS}/generate_vld_key\")\n",
    "res = requests.get(f\"{RECEIVER_BASE_ADDRESS}/retrieve_vld_key\")\n",
    "receiver_vld_key = res.json()[\"message\"]\n",
    "print(f\"{'=' * 30}\\n{receiver_vld_key}\\n{'=' * 30}\")"
   ]
  },
  {
   "cell_type": "markdown",
   "metadata": {},
   "source": [
    "### 3. Set up sender"
   ]
  },
  {
   "cell_type": "code",
   "execution_count": null,
   "metadata": {},
   "outputs": [],
   "source": [
    "SENDER_HOST = \"localhost\"\n",
    "SENDER_PORT = 4001\n",
    "SENDER_BASE_ADDRESS = f\"http://{SENDER_HOST}:{SENDER_PORT}\"\n",
    "\n",
    "requests.post(f\"{SENDER_BASE_ADDRESS}/generate_vld_key\")\n",
    "res = requests.get(f\"{SENDER_BASE_ADDRESS}/retrieve_vld_key\")\n",
    "sender_vld_key = res.json()[\"message\"]\n",
    "print(f\"{'=' * 30}\\n{sender_vld_key}\\n{'=' * 30}\")"
   ]
  },
  {
   "cell_type": "markdown",
   "metadata": {},
   "source": [
    "### 4. Declare utility functions"
   ]
  },
  {
   "cell_type": "code",
   "execution_count": null,
   "metadata": {},
   "outputs": [],
   "source": [
    "def send_ping(size_kb):\n",
    "    size_bytes = size_kb * 1024\n",
    "    message = \"ping\" * (size_bytes // 4)\n",
    "    json_data = {\n",
    "        \"vld_key\": receiver_vld_key,\n",
    "        \"message\": message,\n",
    "    }\n",
    "    print(f\"Sending message of size {len(message) // 1024} KB...\")\n",
    "\n",
    "    start = time.time()\n",
    "    app_call = requests.post(f\"{SENDER_BASE_ADDRESS}/app_call\", json=json_data)\n",
    "    end = time.time()\n",
    "\n",
    "    response_len = len(app_call.content) + 1\n",
    "    response = app_call.content.decode()\n",
    "    response_pretty = (\n",
    "        response[:50] + \"...\" + response[-50:] if len(response) > 100 else response\n",
    "    )\n",
    "\n",
    "    total_xfer = len(message) + len(response)\n",
    "    total_time = round(end - start, 2)\n",
    "    print(f\"[{total_time}s] Response({response_len // 1024} KB): {response_pretty}\")\n",
    "    return total_xfer, total_time\n",
    "\n",
    "\n",
    "def bytes_to_human_readable(size_in_bytes):\n",
    "    if size_in_bytes >= (2**20):\n",
    "        size_in_mb = size_in_bytes / (2**20)\n",
    "        return f\"{size_in_mb:.2f} MB\"\n",
    "    else:\n",
    "        size_in_kb = size_in_bytes / (2**10)\n",
    "        return f\"{size_in_kb:.2f} KB\""
   ]
  },
  {
   "cell_type": "markdown",
   "metadata": {},
   "source": [
    "### 5. Send messages from 1 KB to 512 MB in size and benchmark them"
   ]
  },
  {
   "cell_type": "code",
   "execution_count": null,
   "metadata": {},
   "outputs": [],
   "source": [
    "benchmarks = {}"
   ]
  },
  {
   "cell_type": "code",
   "execution_count": null,
   "metadata": {},
   "outputs": [],
   "source": [
    "# Baseline tests (Tests with single chunk messages i.e. 1 KB to 32 KB)\n",
    "for message_size_kb in range(0, 6):  # Test from 1 KB to 32 KB\n",
    "    message_size_kb = 2**message_size_kb\n",
    "    total_xfer, total_time = send_ping(message_size_kb)\n",
    "    benchmarks[bytes_to_human_readable(total_xfer)] = total_time\n",
    "pprint(benchmarks, sort_dicts=False)"
   ]
  },
  {
   "cell_type": "code",
   "execution_count": null,
   "metadata": {},
   "outputs": [],
   "source": [
    "# Tests with smaller messages\n",
    "for message_size_kb in range(6, 13):  # Test from 64 KB to 4 MB\n",
    "    message_size_kb = 2**message_size_kb\n",
    "    total_xfer, total_time = send_ping(message_size_kb)\n",
    "    benchmarks[bytes_to_human_readable(total_xfer)] = total_time\n",
    "pprint(benchmarks, sort_dicts=False)"
   ]
  },
  {
   "cell_type": "code",
   "execution_count": null,
   "metadata": {},
   "outputs": [],
   "source": [
    "# Tests with larger messages\n",
    "for message_size_kb in range(13, 16):  # Test from 8 MB to 32 MB\n",
    "    message_size_kb = 2**message_size_kb\n",
    "    total_xfer, total_time = send_ping(message_size_kb)\n",
    "    benchmarks[bytes_to_human_readable(total_xfer)] = total_time\n",
    "pprint(benchmarks, sort_dicts=False)"
   ]
  },
  {
   "cell_type": "code",
   "execution_count": null,
   "metadata": {},
   "outputs": [],
   "source": [
    "# Tests with super large messages\n",
    "for message_size_kb in range(16, 19):  # Test from 64 MB to 256 MB\n",
    "    message_size_kb = 2**message_size_kb\n",
    "    total_xfer, total_time = send_ping(message_size_kb)\n",
    "    benchmarks[bytes_to_human_readable(total_xfer)] = total_time\n",
    "pprint(benchmarks, sort_dicts=False)"
   ]
  }
 ],
 "metadata": {
  "kernelspec": {
   "display_name": "PySyft",
   "language": "python",
   "name": "python3"
  },
  "language_info": {
   "codemirror_mode": {
    "name": "ipython",
    "version": 3
   },
   "file_extension": ".py",
   "mimetype": "text/x-python",
   "name": "python",
   "nbconvert_exporter": "python",
   "pygments_lexer": "ipython3",
   "version": "3.11.7"
  }
 },
 "nbformat": 4,
 "nbformat_minor": 2
}
