{
 "cells": [
  {
   "cell_type": "code",
   "execution_count": null,
   "id": "430fe193-331c-4c6b-b049-d68ce0791441",
   "metadata": {},
   "outputs": [],
   "source": [
    "# third party"
   ]
  },
  {
   "cell_type": "code",
   "execution_count": null,
   "id": "df3d4dbb-e179-4995-9507-1f82cb417fc5",
   "metadata": {},
   "outputs": [],
   "source": [
    "# syft absolute\n",
    "from syft.client.client import VeilidConnection"
   ]
  },
  {
   "cell_type": "code",
   "execution_count": null,
   "id": "71261091-1cfc-428f-9087-7f24395a2750",
   "metadata": {},
   "outputs": [],
   "source": [
    "veilid_conn = VeilidConnection(\n",
    "    dht_key=\"VLD0:GiP5DnCa21UWh-8Sx5q2JirqwTfHjFJ6jQ5aMlUxbro\",\n",
    "    vld_forward_proxy=\"http://localhost:4000\",\n",
    "    vld_reverse_proxy=\"http://proxy\",\n",
    ")"
   ]
  },
  {
   "cell_type": "code",
   "execution_count": null,
   "id": "f8eacbc9-1e69-45aa-a417-5b15e9c26ba7",
   "metadata": {},
   "outputs": [],
   "source": [
    "veilid_conn"
   ]
  },
  {
   "cell_type": "code",
   "execution_count": null,
   "id": "7d7b89fe-b270-40c0-bc18-066f9be62569",
   "metadata": {},
   "outputs": [],
   "source": [
    "res = veilid_conn.get_node_metadata(credentials=None)"
   ]
  },
  {
   "cell_type": "code",
   "execution_count": null,
   "id": "4f6a98cf-ad5b-4ad0-87c7-b8cdc7d0678d",
   "metadata": {},
   "outputs": [],
   "source": [
    "res"
   ]
  },
  {
   "cell_type": "code",
   "execution_count": null,
   "id": "3ab82cd6-c080-46dd-b15d-da0c904e967e",
   "metadata": {},
   "outputs": [],
   "source": [
    "# stdlib\n",
    "import json"
   ]
  },
  {
   "cell_type": "code",
   "execution_count": null,
   "id": "cba2d15b-826d-4f6b-82d1-bb70ba0e439d",
   "metadata": {},
   "outputs": [],
   "source": [
    "type(json.loads(res))"
   ]
  },
  {
   "cell_type": "code",
   "execution_count": null,
   "id": "cbfda25f-5b2e-4c55-a906-1ca78497623f",
   "metadata": {},
   "outputs": [],
   "source": []
  }
 ],
 "metadata": {
  "kernelspec": {
   "display_name": "Python 3 (ipykernel)",
   "language": "python",
   "name": "python3"
  },
  "language_info": {
   "codemirror_mode": {
    "name": "ipython",
    "version": 3
   },
   "file_extension": ".py",
   "mimetype": "text/x-python",
   "name": "python",
   "nbconvert_exporter": "python",
   "pygments_lexer": "ipython3",
   "version": "3.11.5"
  }
 },
 "nbformat": 4,
 "nbformat_minor": 5
}
