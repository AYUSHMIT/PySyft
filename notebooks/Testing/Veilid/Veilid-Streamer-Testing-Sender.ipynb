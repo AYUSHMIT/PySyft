{
 "cells": [
  {
   "cell_type": "code",
   "execution_count": null,
   "metadata": {},
   "outputs": [],
   "source": [
    "# stdlib\n",
    "import random\n",
    "import time\n",
    "\n",
    "# third party\n",
    "import veilid\n",
    "\n",
    "# first party\n",
    "from veilid_streamer import VeilidStreamer"
   ]
  },
  {
   "cell_type": "code",
   "execution_count": null,
   "metadata": {},
   "outputs": [],
   "source": [
    "host = \"localhost\"\n",
    "port = 5960"
   ]
  },
  {
   "cell_type": "code",
   "execution_count": null,
   "metadata": {},
   "outputs": [],
   "source": [
    "async def noop_callback(update: veilid.VeilidUpdate):\n",
    "    pass\n",
    "\n",
    "\n",
    "conn = await veilid.json_api_connect(host, port, noop_callback)"
   ]
  },
  {
   "cell_type": "code",
   "execution_count": null,
   "metadata": {},
   "outputs": [],
   "source": [
    "router = await (await conn.new_routing_context()).with_default_safety()\n",
    "dht_key_str = input(\"Enter DHT Key of the receiver: \")\n",
    "dht_key = veilid.TypedKey(dht_key_str.lstrip(\"VLD0:\"))\n",
    "try:\n",
    "    await router.close_dht_record(key=dht_key)\n",
    "except veilid.VeilidAPIErrorGeneric:\n",
    "    pass\n",
    "await router.open_dht_record(key=dht_key, writer=None)\n",
    "record_value = await router.get_dht_value(key=dht_key, subkey=0, force_refresh=True)\n",
    "private_route = await conn.import_remote_private_route(record_value.data)"
   ]
  },
  {
   "cell_type": "code",
   "execution_count": null,
   "metadata": {},
   "outputs": [],
   "source": [
    "vs = VeilidStreamer(connection=conn, router=router)\n",
    "\n",
    "for message_size_kb in range(0, 13):  # Powers of two from 1 to 4096\n",
    "    message_size_kb = 2**message_size_kb\n",
    "    current_time = int(time.time()).to_bytes(4, byteorder=\"big\")  # 4 bytes\n",
    "    message_size = (message_size_kb * 1024) - 4\n",
    "    message = current_time + random.randbytes(message_size)\n",
    "    print(f\"Sending message of size {len(message)} bytes\")\n",
    "    await vs.stream(private_route, message)"
   ]
  }
 ],
 "metadata": {
  "kernelspec": {
   "display_name": "PySyft",
   "language": "python",
   "name": "python3"
  },
  "language_info": {
   "codemirror_mode": {
    "name": "ipython",
    "version": 3
   },
   "file_extension": ".py",
   "mimetype": "text/x-python",
   "name": "python",
   "nbconvert_exporter": "python",
   "pygments_lexer": "ipython3",
   "version": "3.11.7"
  }
 },
 "nbformat": 4,
 "nbformat_minor": 2
}
