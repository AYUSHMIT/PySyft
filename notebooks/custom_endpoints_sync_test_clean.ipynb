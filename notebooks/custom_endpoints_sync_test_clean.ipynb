{
 "cells": [
  {
   "cell_type": "code",
   "execution_count": null,
   "metadata": {},
   "outputs": [],
   "source": [
    "# stdlib\n",
    "import os\n",
    "\n",
    "# syft absolute\n",
    "import syft as sy\n",
    "from syft.client.syncing import compare_states\n",
    "from syft.client.syncing import resolve_single"
   ]
  },
  {
   "cell_type": "code",
   "execution_count": null,
   "metadata": {},
   "outputs": [],
   "source": [
    "BIGQUERY_CREDENTIALS_FILE = \"\"\n",
    "URL_HIGH = \"\"\n",
    "PASSWORD_HIGH = \"\"\n",
    "\n",
    "URL_LOW = \"\"\n",
    "PASSWORD_LOW = \"\""
   ]
  },
  {
   "cell_type": "code",
   "execution_count": null,
   "metadata": {},
   "outputs": [],
   "source": [
    "# Local node + Client\n",
    "# node_low = sy.orchestra.launch(\n",
    "#     name=\"reddit_l\",\n",
    "#     node_side_type=\"low\",\n",
    "#     dev_mode=True,\n",
    "#     reset=True,\n",
    "#     local_db=True,\n",
    "#     n_consumers=1,\n",
    "#     create_producer=True,\n",
    "# )\n",
    "\n",
    "# node_high = sy.orchestra.launch(\n",
    "#     name=\"reddit_h\",\n",
    "#     node_side_type=\"high\",\n",
    "#     dev_mode=True,\n",
    "#     reset=True,\n",
    "#     local_db=True,\n",
    "#     n_consumers=1,\n",
    "#     create_producer=True,\n",
    "# )\n",
    "\n",
    "# client_low = node_low.login(email=\"info@openmined.org\", password=\"changethis\")\n",
    "# client_high = node_high.login(email=\"info@openmined.org\", password=\"changethis\")"
   ]
  },
  {
   "cell_type": "code",
   "execution_count": null,
   "metadata": {},
   "outputs": [],
   "source": [
    "client_high = sy.login(\n",
    "    url=URL_HIGH,\n",
    "    email=\"info@openmined.org\",\n",
    "    password=PASSWORD_HIGH,\n",
    ")\n",
    "\n",
    "client_low = sy.login(\n",
    "    url=URL_LOW,\n",
    "    email=\"info@openmined.org\",\n",
    "    password=PASSWORD_LOW,\n",
    ")"
   ]
  },
  {
   "cell_type": "code",
   "execution_count": null,
   "metadata": {},
   "outputs": [],
   "source": [
    "client_low.register(\n",
    "    email=\"newuser@openmined.org\", name=\"John Doe\", password=\"pw\", password_verify=\"pw\"\n",
    ")"
   ]
  },
  {
   "cell_type": "code",
   "execution_count": null,
   "metadata": {},
   "outputs": [],
   "source": [
    "client_low_ds = sy.login(\n",
    "    url=URL_LOW,\n",
    "    email=\"newuser@openmined.org\",\n",
    "    password=\"pw\"\n",
    ")"
   ]
  },
  {
   "cell_type": "markdown",
   "metadata": {},
   "source": [
    "# Setup twin api"
   ]
  },
  {
   "cell_type": "code",
   "execution_count": null,
   "metadata": {},
   "outputs": [],
   "source": [
    "import json\n",
    "\n",
    "with open(BIGQUERY_CREDENTIALS_FILE, 'r') as f:\n",
    "    bq_credentials = json.load(f)"
   ]
  },
  {
   "cell_type": "code",
   "execution_count": null,
   "metadata": {},
   "outputs": [],
   "source": [
    "# Mock Behavior\n",
    "\n",
    "\n",
    "@sy.mock_api_endpoint(\n",
    "    # settings={}\n",
    "    settings=bq_credentials,\n",
    ")\n",
    "def mock_query_function(\n",
    "    context,  # Variable used to track user session, user information, user activities and settings\n",
    "    sql_query: str,\n",
    ") -> str:\n",
    "    # third party\n",
    "    from google.cloud import bigquery\n",
    "    from google.oauth2 import service_account\n",
    "\n",
    "    credentials = service_account.Credentials.from_service_account_info(\n",
    "        context.settings\n",
    "    )\n",
    "    scoped_credentials = credentials.with_scopes(\n",
    "        [\"https://www.googleapis.com/auth/cloud-platform\"]\n",
    "    )\n",
    "\n",
    "    client = bigquery.Client(\n",
    "        credentials=scoped_credentials,\n",
    "        location=\"us-west1\",\n",
    "    )\n",
    "\n",
    "    rows = client.query_and_wait(\n",
    "        sql_query,\n",
    "        project=context.settings[\"project_id\"],\n",
    "    )\n",
    "\n",
    "    # Replacing private values to mocked ones.\n",
    "    result = rows.to_dataframe()\n",
    "    result[\"int64_field_0\"] = 0\n",
    "    result[\"id\"] = \"Private\"\n",
    "    result[\"name\"] = \"Private\"\n",
    "    result[\"subscribers_count\"] = 0\n",
    "    result[\"permalink\"] = \"Private\"\n",
    "    result[\"nsfw\"] = \"NaN\"\n",
    "    result[\"spam\"] = False\n",
    "    return result"
   ]
  },
  {
   "cell_type": "code",
   "execution_count": null,
   "metadata": {},
   "outputs": [],
   "source": [
    "# Private Behavior\n",
    "\n",
    "\n",
    "@sy.private_api_endpoint(\n",
    "    # settings={}\n",
    "    settings=bq_credentials,\n",
    ")\n",
    "def private_query_function(\n",
    "    context,\n",
    "    sql_query: str,\n",
    ") -> str:\n",
    "    # third party\n",
    "    from google.cloud import bigquery\n",
    "    from google.oauth2 import service_account\n",
    "\n",
    "    print(\"test\")\n",
    "    credentials = service_account.Credentials.from_service_account_info(\n",
    "        context.settings\n",
    "    )\n",
    "    scoped_credentials = credentials.with_scopes(\n",
    "        [\"https://www.googleapis.com/auth/cloud-platform\"]\n",
    "    )\n",
    "\n",
    "    client = bigquery.Client(\n",
    "        credentials=scoped_credentials,\n",
    "        location=\"us-west1\",\n",
    "    )\n",
    "    print(client)\n",
    "\n",
    "    rows = client.query_and_wait(\n",
    "        sql_query,\n",
    "        project=context.settings[\"project_id\"],\n",
    "    )\n",
    "    print(rows)\n",
    "\n",
    "    return rows.to_dataframe()"
   ]
  },
  {
   "cell_type": "code",
   "execution_count": null,
   "metadata": {},
   "outputs": [],
   "source": [
    "new_endpoint = sy.TwinAPIEndpoint(\n",
    "    path=\"reddit.query\",\n",
    "    private_function=private_query_function,\n",
    "    mock_function=mock_query_function,\n",
    "    description=\"Lorem ipsum dolor sit amet lorem adipiscing elit …\",\n",
    ")\n",
    "client_high.api.services.api.add(endpoint=new_endpoint)"
   ]
  },
  {
   "cell_type": "code",
   "execution_count": null,
   "metadata": {},
   "outputs": [],
   "source": [
    "client_high.refresh()"
   ]
  },
  {
   "cell_type": "code",
   "execution_count": null,
   "metadata": {},
   "outputs": [],
   "source": [
    "client_high.api.services.reddit.query.private(\n",
    "    sql_query=\"SELECT *  FROM test_1gb.subreddits LIMIT 100\"\n",
    ")"
   ]
  },
  {
   "cell_type": "code",
   "execution_count": null,
   "metadata": {},
   "outputs": [],
   "source": [
    "twin_api_obj = client_high.api.services.api.api_endpoints()[0]\n",
    "\n",
    "twin_api_obj"
   ]
  },
  {
   "cell_type": "markdown",
   "metadata": {},
   "source": [
    "## Sync twin api"
   ]
  },
  {
   "cell_type": "code",
   "execution_count": null,
   "metadata": {},
   "outputs": [],
   "source": [
    "#CustomEndpointActionObject"
   ]
  },
  {
   "cell_type": "code",
   "execution_count": null,
   "metadata": {},
   "outputs": [],
   "source": [
    "high_state = client_high.get_sync_state()\n",
    "low_state = client_low.get_sync_state()\n",
    "\n",
    "high_state"
   ]
  },
  {
   "cell_type": "code",
   "execution_count": null,
   "metadata": {},
   "outputs": [],
   "source": [
    "diff = compare_states(high_state, low_state)\n",
    "\n",
    "diff"
   ]
  },
  {
   "cell_type": "code",
   "execution_count": null,
   "metadata": {},
   "outputs": [],
   "source": [
    "widget = resolve_single(diff[0])\n",
    "\n",
    "widget"
   ]
  },
  {
   "cell_type": "code",
   "execution_count": null,
   "metadata": {},
   "outputs": [],
   "source": [
    "widget.click_sync()"
   ]
  },
  {
   "cell_type": "code",
   "execution_count": null,
   "metadata": {},
   "outputs": [],
   "source": [
    "client_low.get_sync_state()"
   ]
  },
  {
   "cell_type": "markdown",
   "metadata": {},
   "source": [
    "# Create request"
   ]
  },
  {
   "cell_type": "markdown",
   "metadata": {},
   "source": [
    "## Use mock endpoint"
   ]
  },
  {
   "cell_type": "code",
   "execution_count": null,
   "metadata": {},
   "outputs": [],
   "source": [
    "client_low.refresh()\n",
    "client_low_ds.refresh()"
   ]
  },
  {
   "cell_type": "code",
   "execution_count": null,
   "metadata": {},
   "outputs": [],
   "source": [
    "client_low_ds.api.services.reddit.query(\n",
    "    sql_query=\"SELECT *  FROM test_1gb.subreddits LIMIT 100\"\n",
    ")"
   ]
  },
  {
   "cell_type": "markdown",
   "metadata": {},
   "source": [
    "# Define code, project, request"
   ]
  },
  {
   "cell_type": "code",
   "execution_count": null,
   "metadata": {},
   "outputs": [],
   "source": [
    "@sy.syft_function_single_use(\n",
    "    reddit_query=client_low_ds.api.services.reddit.query,\n",
    ")\n",
    "def my_research_pipeline(reddit_query):\n",
    "    sql_query = \"SELECT *  FROM test_1gb.subreddits LIMIT 100\"\n",
    "    return reddit_query(sql_query=sql_query)"
   ]
  },
  {
   "cell_type": "code",
   "execution_count": null,
   "metadata": {},
   "outputs": [],
   "source": [
    "new_project = sy.Project(\n",
    "    name=\"Reddit Research Studies\",\n",
    "    description=\"Hi, I want to get information about your data.\",\n",
    "    members=[client_low_ds],\n",
    ")\n",
    "\n",
    "new_project.create_code_request(my_research_pipeline, client_low_ds)"
   ]
  },
  {
   "cell_type": "code",
   "execution_count": null,
   "metadata": {},
   "outputs": [],
   "source": [
    "# low_request = client_low.requests[-1]"
   ]
  },
  {
   "cell_type": "code",
   "execution_count": null,
   "metadata": {},
   "outputs": [],
   "source": [
    "# low_request"
   ]
  },
  {
   "cell_type": "code",
   "execution_count": null,
   "metadata": {},
   "outputs": [],
   "source": [
    "# low_code = low_request.code"
   ]
  },
  {
   "cell_type": "code",
   "execution_count": null,
   "metadata": {},
   "outputs": [],
   "source": [
    "# low_code"
   ]
  },
  {
   "cell_type": "markdown",
   "metadata": {},
   "source": [
    "## Sync code request to high side"
   ]
  },
  {
   "cell_type": "code",
   "execution_count": null,
   "metadata": {},
   "outputs": [],
   "source": [
    "low_state = client_low.get_sync_state()\n",
    "high_state = client_high.get_sync_state()"
   ]
  },
  {
   "cell_type": "code",
   "execution_count": null,
   "metadata": {},
   "outputs": [],
   "source": [
    "low_state"
   ]
  },
  {
   "cell_type": "code",
   "execution_count": null,
   "metadata": {},
   "outputs": [],
   "source": [
    "diff_state = compare_states(low_state, high_state)"
   ]
  },
  {
   "cell_type": "code",
   "execution_count": null,
   "metadata": {},
   "outputs": [],
   "source": [
    "diff_state"
   ]
  },
  {
   "cell_type": "markdown",
   "metadata": {},
   "source": [
    "### Sync UserCode"
   ]
  },
  {
   "cell_type": "code",
   "execution_count": null,
   "metadata": {},
   "outputs": [],
   "source": [
    "code_diff = diff_state[0]\n",
    "widget = resolve_single(code_diff)\n",
    "\n",
    "widget"
   ]
  },
  {
   "cell_type": "code",
   "execution_count": null,
   "metadata": {},
   "outputs": [],
   "source": [
    "widget.click_sync()"
   ]
  },
  {
   "cell_type": "markdown",
   "metadata": {},
   "source": [
    "### Sync Request"
   ]
  },
  {
   "cell_type": "code",
   "execution_count": null,
   "metadata": {},
   "outputs": [],
   "source": [
    "request_diff = diff_state[1]\n",
    "widget = resolve_single(request_diff)\n",
    "\n",
    "widget"
   ]
  },
  {
   "cell_type": "code",
   "execution_count": null,
   "metadata": {},
   "outputs": [],
   "source": [
    "widget.click_sync()"
   ]
  },
  {
   "cell_type": "markdown",
   "metadata": {},
   "source": [
    "# High side: Run and sync back"
   ]
  },
  {
   "cell_type": "markdown",
   "metadata": {},
   "source": [
    "## Run on high side"
   ]
  },
  {
   "cell_type": "code",
   "execution_count": null,
   "metadata": {},
   "outputs": [],
   "source": [
    "client_high.refresh()"
   ]
  },
  {
   "cell_type": "code",
   "execution_count": null,
   "metadata": {},
   "outputs": [],
   "source": [
    "client_high.requests"
   ]
  },
  {
   "cell_type": "code",
   "execution_count": null,
   "metadata": {},
   "outputs": [],
   "source": [
    "request = client_high.requests[0]"
   ]
  },
  {
   "cell_type": "code",
   "execution_count": null,
   "metadata": {},
   "outputs": [],
   "source": [
    "# request.code"
   ]
  },
  {
   "cell_type": "code",
   "execution_count": null,
   "metadata": {},
   "outputs": [],
   "source": [
    "res = client_high.code.my_research_pipeline(\n",
    "    reddit_query=client_high.api.services.reddit.query\n",
    ")"
   ]
  },
  {
   "cell_type": "code",
   "execution_count": null,
   "metadata": {},
   "outputs": [],
   "source": [
    "res"
   ]
  },
  {
   "cell_type": "code",
   "execution_count": null,
   "metadata": {},
   "outputs": [],
   "source": [
    "request.accept_by_depositing_result(res)"
   ]
  },
  {
   "cell_type": "markdown",
   "metadata": {},
   "source": [
    "## Sync back to low side"
   ]
  },
  {
   "cell_type": "code",
   "execution_count": null,
   "metadata": {},
   "outputs": [],
   "source": [
    "low_state = client_low.get_sync_state()\n",
    "high_state = client_high.get_sync_state()"
   ]
  },
  {
   "cell_type": "code",
   "execution_count": null,
   "metadata": {},
   "outputs": [],
   "source": [
    "high_state"
   ]
  },
  {
   "cell_type": "code",
   "execution_count": null,
   "metadata": {},
   "outputs": [],
   "source": [
    "diff_state_2 = compare_states(high_state, low_state)"
   ]
  },
  {
   "cell_type": "code",
   "execution_count": null,
   "metadata": {},
   "outputs": [],
   "source": [
    "diff_state_2"
   ]
  },
  {
   "cell_type": "code",
   "execution_count": null,
   "metadata": {},
   "outputs": [],
   "source": [
    "code_batch = diff_state_2[0]\n",
    "\n",
    "widget = resolve_single(code_batch)\n",
    "widget"
   ]
  },
  {
   "cell_type": "code",
   "execution_count": null,
   "metadata": {},
   "outputs": [],
   "source": [
    "widget.click_sync()"
   ]
  },
  {
   "cell_type": "code",
   "execution_count": null,
   "metadata": {},
   "outputs": [],
   "source": [
    "request_batch = diff_state_2[1]\n",
    "\n",
    "widget = resolve_single(request_batch)\n",
    "widget"
   ]
  },
  {
   "cell_type": "code",
   "execution_count": null,
   "metadata": {},
   "outputs": [],
   "source": [
    "widget.click_sync()"
   ]
  },
  {
   "cell_type": "code",
   "execution_count": null,
   "metadata": {},
   "outputs": [],
   "source": [
    "job_batch = diff_state_2[2]\n",
    "\n",
    "widget = resolve_single(job_batch)\n",
    "widget"
   ]
  },
  {
   "cell_type": "code",
   "execution_count": null,
   "metadata": {},
   "outputs": [],
   "source": [
    "widget.click_share_all_private_data()"
   ]
  },
  {
   "cell_type": "code",
   "execution_count": null,
   "metadata": {},
   "outputs": [],
   "source": [
    "widget.click_sync()"
   ]
  },
  {
   "cell_type": "code",
   "execution_count": null,
   "metadata": {},
   "outputs": [],
   "source": [
    "client_low.get_sync_state()"
   ]
  },
  {
   "cell_type": "markdown",
   "metadata": {},
   "source": [
    "# Run on low side"
   ]
  },
  {
   "cell_type": "code",
   "execution_count": null,
   "metadata": {},
   "outputs": [],
   "source": [
    "client_low_ds.refresh()\n",
    "client_low_ds.code.my_research_pipeline(\n",
    "    reddit_query=client_low_ds.api.services.reddit.query\n",
    ")"
   ]
  }
 ],
 "metadata": {
  "kernelspec": {
   "display_name": "Python 3 (ipykernel)",
   "language": "python",
   "name": "python3"
  },
  "language_info": {
   "codemirror_mode": {
    "name": "ipython",
    "version": 3
   },
   "file_extension": ".py",
   "mimetype": "text/x-python",
   "name": "python",
   "nbconvert_exporter": "python",
   "pygments_lexer": "ipython3",
   "version": "3.10.13"
  },
  "toc": {
   "base_numbering": 1,
   "nav_menu": {},
   "number_sections": true,
   "sideBar": true,
   "skip_h1_title": false,
   "title_cell": "Table of Contents",
   "title_sidebar": "Contents",
   "toc_cell": false,
   "toc_position": {},
   "toc_section_display": true,
   "toc_window_display": true
  }
 },
 "nbformat": 4,
 "nbformat_minor": 4
}
