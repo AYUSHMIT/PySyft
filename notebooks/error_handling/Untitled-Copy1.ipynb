{
 "cells": [
  {
   "cell_type": "code",
   "execution_count": 1,
   "id": "35c3f3d7-e8ca-4d3b-a538-f6687eaa1e15",
   "metadata": {
    "tags": []
   },
   "outputs": [],
   "source": [
    "SYFT_VERSION = \">=0.8.2.b0,<0.9\"\n",
    "package_string = f'\"syft{SYFT_VERSION}\"'\n",
    "# %pip install {package_string} -q"
   ]
  },
  {
   "cell_type": "code",
   "execution_count": 2,
   "id": "3bdcd78d-71f0-4d7d-a05f-5c6805ad6349",
   "metadata": {},
   "outputs": [
    {
     "name": "stderr",
     "output_type": "stream",
     "text": [
      "/opt/anaconda3/envs/syft/lib/python3.12/site-packages/pydantic/_internal/_generate_schema.py:386: UserWarning: False is not a Python type (it may be an instance of an object), Pydantic will allow any object with no validation since we cannot even enforce that the input is an instance of the given type. To get rid of this error wrap the type with `pydantic.SkipValidation`.\n",
      "  warn(\n"
     ]
    },
    {
     "name": "stdout",
     "output_type": "stream",
     "text": [
      "✅ The installed version of syft==0.8.7b13 matches the requirement >=0.8.2b0 and the requirement <0.9\n"
     ]
    }
   ],
   "source": [
    "# third party\n",
    "\n",
    "# syft absolute\n",
    "import syft as sy\n",
    "\n",
    "sy.requires(SYFT_VERSION)"
   ]
  },
  {
   "cell_type": "markdown",
   "id": "c97a6fe5-3efc-455d-975d-535b74e966dc",
   "metadata": {},
   "source": [
    "### Launch a Syft Domain Server"
   ]
  },
  {
   "cell_type": "code",
   "execution_count": 3,
   "id": "3334203b-c9c9-43dd-b112-ef5250f6a39b",
   "metadata": {
    "tags": []
   },
   "outputs": [
    {
     "data": {
      "text/html": [
       "<div class=\"alert-info\" style=\"padding:5px;\"><strong>SyftInfo</strong>: <pre class=\"alert-info\" style=\"display:inline; font-family:inherit;\">You have launched a development node at http://0.0.0.0:None.It is intended only for local use.</pre></div><br/>"
      ],
      "text/plain": [
       "SyftInfo: You have launched a development node at http://0.0.0.0:None.It is intended only for local use."
      ]
     },
     "metadata": {},
     "output_type": "display_data"
    }
   ],
   "source": [
    "# Launch a fresh domain server named \"test-domain-1\" in dev mode on the local machine\n",
    "node = sy.orchestra.launch(name=\"test-domain-1\", dev_mode=True, reset=True)"
   ]
  },
  {
   "cell_type": "code",
   "execution_count": 4,
   "id": "26c031d4-18e1-450b-a96b-e3e38244bcac",
   "metadata": {},
   "outputs": [
    {
     "name": "stdout",
     "output_type": "stream",
     "text": [
      "Logged into <test-domain-1: High side Domain> as <info@openmined.org>\n"
     ]
    },
    {
     "data": {
      "text/html": [
       "<div class=\"alert-warning\" style=\"padding:5px;\"><strong>SyftWarning</strong>: <pre class=\"alert-warning\" style=\"display:inline; font-family:inherit;\">You are using a default password. Please change the password using `[your_client].me.set_password([new_password])`.</pre></div><br/>"
      ],
      "text/plain": [
       "SyftWarning: You are using a default password. Please change the password using `[your_client].me.set_password([new_password])`."
      ]
     },
     "metadata": {},
     "output_type": "display_data"
    }
   ],
   "source": [
    "root_domain_client = node.login(email=\"info@openmined.org\", password=\"changethis\")"
   ]
  },
  {
   "cell_type": "code",
   "execution_count": 5,
   "id": "54b79bbc-18e2-446e-bc4c-f909e69b3f0c",
   "metadata": {},
   "outputs": [],
   "source": [
    "assert root_domain_client.settings.enable_eager_execution(enable=True)"
   ]
  },
  {
   "cell_type": "code",
   "execution_count": 6,
   "id": "9ce33306-f5db-4773-b549-7ba2295fd47a",
   "metadata": {},
   "outputs": [
    {
     "data": {
      "text/html": [
       "<div class=\"alert-success\" style=\"padding:5px;\"><strong>SyftSuccess</strong>: <pre class=\"alert-success\" style=\"display:inline; font-family:inherit;\">User 'Jane Doe' successfully registered! To see users, run `[your_client].users`</pre></div><br/>"
      ]
     },
     "metadata": {},
     "output_type": "display_data"
    },
    {
     "data": {
      "text/markdown": [
       "```python\n",
       "class UserPrivateKey:\n",
       "  id: str = cad1ff0280e74486806b80552d6f8d19\n",
       "\n",
       "```"
      ],
      "text/plain": [
       "syft.service.user.user.UserPrivateKey"
      ]
     },
     "execution_count": 6,
     "metadata": {},
     "output_type": "execute_result"
    }
   ],
   "source": [
    "root_domain_client.register(\n",
    "    name=\"Jane Doe\",\n",
    "    email=\"jane@caltech.edu\",\n",
    "    password=\"abc123\",\n",
    "    password_verify=\"abc123\",\n",
    "    institution=\"Caltech\",\n",
    "    website=\"https://www.caltech.edu/\",\n",
    ")"
   ]
  },
  {
   "cell_type": "code",
   "execution_count": 7,
   "id": "f265b2db-2979-4bd5-ad56-04aff63f3667",
   "metadata": {},
   "outputs": [
    {
     "name": "stdout",
     "output_type": "stream",
     "text": [
      "Logged into <test-domain-1: High side Domain> as <jane@caltech.edu>\n"
     ]
    }
   ],
   "source": [
    "guest_client = node.login(email=\"jane@caltech.edu\", password=\"abc123\")"
   ]
  },
  {
   "cell_type": "code",
   "execution_count": 8,
   "id": "b7041f5b-f787-4fb8-bece-cb28c447fdd1",
   "metadata": {},
   "outputs": [],
   "source": [
    "# third party\n",
    "import numpy as np\n",
    "\n",
    "# syft absolute\n",
    "from syft import planify"
   ]
  },
  {
   "cell_type": "code",
   "execution_count": 9,
   "id": "75d60950-14fe-4d42-ac3b-8af0fd91c9af",
   "metadata": {},
   "outputs": [],
   "source": [
    "# syft absolute\n",
    "from syft import TwinObject"
   ]
  },
  {
   "cell_type": "code",
   "execution_count": null,
   "id": "840b329e-b593-447a-bde6-1673bbead223",
   "metadata": {},
   "outputs": [],
   "source": []
  },
  {
   "cell_type": "code",
   "execution_count": 10,
   "id": "3033dda3-4f12-4f27-8e4a-c177a9bdf09e",
   "metadata": {},
   "outputs": [],
   "source": [
    "@planify\n",
    "def my_plan(x=np.array([[2, 2, 2], [2, 2, 2]])):  # noqa: B008\n",
    "    y = x.flatten()\n",
    "    z = y.prod()\n",
    "    return z\n",
    "\n",
    "\n",
    "plan_ptr = my_plan.send(guest_client)\n",
    "input_obj = TwinObject(\n",
    "    private_obj=np.array([[3, 3, 3], [3, 3, 3]]),\n",
    "    mock_obj=np.array([[1, 1, 1], [1, 1, 1]]),\n",
    ")\n",
    "\n",
    "input_ptr = input_obj.send(root_domain_client)"
   ]
  },
  {
   "cell_type": "code",
   "execution_count": 11,
   "id": "fad173c5-b738-4194-85e4-001639341640",
   "metadata": {},
   "outputs": [],
   "source": [
    "pointer = guest_client.api.services.action.get_pointer(input_ptr.id)"
   ]
  },
  {
   "cell_type": "code",
   "execution_count": 12,
   "id": "2129930b-5afc-42aa-a992-1d7f6da311f0",
   "metadata": {},
   "outputs": [],
   "source": [
    "res_ptr = plan_ptr(x=pointer)"
   ]
  },
  {
   "cell_type": "code",
   "execution_count": 14,
   "id": "86fec77b-5897-4208-b511-268a8e954dd5",
   "metadata": {},
   "outputs": [
    {
     "name": "stdout",
     "output_type": "stream",
     "text": [
      "Exception (hidden from DS) happened on the server side:\n",
      "Traceback (most recent call last):\n",
      "  File \"/Users/koen/workspace/PySyft/packages/syft/src/syft/node/node.py\", line 1296, in handle_api_call_with_unsigned_result\n",
      "    result = method(context, *api_call.args, **api_call.kwargs)\n",
      "             ^^^^^^^^^^^^^^^^^^^^^^^^^^^^^^^^^^^^^^^^^^^^^^^^^^\n",
      "  File \"/Users/koen/workspace/PySyft/packages/syft/src/syft/service/service.py\", line 383, in _decorator\n",
      "    result = func(self, *args, **kwargs)\n",
      "             ^^^^^^^^^^^^^^^^^^^^^^^^^^^\n",
      "  File \"/Users/koen/workspace/PySyft/packages/syft/src/syft/service/action/action_service.py\", line 257, in get\n",
      "    ).unwrap()\n",
      "      ^^^^^^^^\n",
      "  File \"/Users/koen/workspace/PySyft/packages/syft/src/syft/types/result.py\", line 89, in unwrap\n",
      "    raise self.value\n",
      "  File \"/Users/koen/workspace/PySyft/packages/syft/src/syft/types/result.py\", line 111, in wrapper\n",
      "    output = func(*args, **kwargs)\n",
      "             ^^^^^^^^^^^^^^^^^^^^^\n",
      "  File \"/Users/koen/workspace/PySyft/packages/syft/src/syft/service/action/action_service.py\", line 271, in _get\n",
      "    ).unwrap()\n",
      "      ^^^^^^^^\n",
      "  File \"/Users/koen/workspace/PySyft/packages/syft/src/syft/service/action/action_store.py\", line 83, in get\n",
      "    raise SyftException(public_message=f\"Permission: {read_permission} denied\")\n",
      "syft.types.errors.SyftException: Permission: [READ: a80da28f393e482ea371ad4a583545d1 as 3e9c069d66b39e3aae94ecc3500cdc626f78ed6fc046542c1ca94aa37cf80e68] denied\n",
      "\n"
     ]
    },
    {
     "ename": "SyftException",
     "evalue": "Permission: [READ: a80da28f393e482ea371ad4a583545d1 as 3e9c069d66b39e3aae94ecc3500cdc626f78ed6fc046542c1ca94aa37cf80e68] denied\n",
     "output_type": "error",
     "traceback": [
      "\u001b[0;31m---------------------------------------------------------------------------\u001b[0m",
      "\u001b[0;31mSyftException\u001b[0m                             Traceback (most recent call last)",
      "Cell \u001b[0;32mIn[14], line 1\u001b[0m\n\u001b[0;32m----> 1\u001b[0m \u001b[43mres_ptr\u001b[49m\u001b[38;5;241;43m.\u001b[39;49m\u001b[43mget\u001b[49m\u001b[43m(\u001b[49m\u001b[43m)\u001b[49m\n",
      "File \u001b[0;32m~/workspace/PySyft/packages/syft/src/syft/service/action/action_object.py:1306\u001b[0m, in \u001b[0;36mActionObject.get\u001b[0;34m(self, block)\u001b[0m\n\u001b[1;32m   1303\u001b[0m \u001b[38;5;28;01mif\u001b[39;00m block:\n\u001b[1;32m   1304\u001b[0m     \u001b[38;5;28mself\u001b[39m\u001b[38;5;241m.\u001b[39mwait()\n\u001b[0;32m-> 1306\u001b[0m res \u001b[38;5;241m=\u001b[39m \u001b[38;5;28;43mself\u001b[39;49m\u001b[38;5;241;43m.\u001b[39;49m\u001b[43mrefresh_object\u001b[49m\u001b[43m(\u001b[49m\u001b[43m)\u001b[49m\n\u001b[1;32m   1307\u001b[0m \u001b[38;5;28;01mif\u001b[39;00m \u001b[38;5;129;01mnot\u001b[39;00m \u001b[38;5;28misinstance\u001b[39m(res, ActionObject):\n\u001b[1;32m   1308\u001b[0m     \u001b[38;5;28;01mreturn\u001b[39;00m SyftError(message\u001b[38;5;241m=\u001b[39m\u001b[38;5;124mf\u001b[39m\u001b[38;5;124m\"\u001b[39m\u001b[38;5;132;01m{\u001b[39;00mres\u001b[38;5;132;01m}\u001b[39;00m\u001b[38;5;124m\"\u001b[39m)  \u001b[38;5;66;03m# type: ignore\u001b[39;00m\n",
      "File \u001b[0;32m~/workspace/PySyft/packages/syft/src/syft/service/action/action_object.py:1285\u001b[0m, in \u001b[0;36mActionObject.refresh_object\u001b[0;34m(self, resolve_nested)\u001b[0m\n\u001b[1;32m   1280\u001b[0m \u001b[38;5;28;01mif\u001b[39;00m api \u001b[38;5;129;01mis\u001b[39;00m \u001b[38;5;28;01mNone\u001b[39;00m:\n\u001b[1;32m   1281\u001b[0m     \u001b[38;5;28;01mreturn\u001b[39;00m SyftError(\n\u001b[1;32m   1282\u001b[0m         message\u001b[38;5;241m=\u001b[39m\u001b[38;5;124mf\u001b[39m\u001b[38;5;124m\"\u001b[39m\u001b[38;5;124mapi is None. You must login to \u001b[39m\u001b[38;5;132;01m{\u001b[39;00m\u001b[38;5;28mself\u001b[39m\u001b[38;5;241m.\u001b[39msyft_node_location\u001b[38;5;132;01m}\u001b[39;00m\u001b[38;5;124m\"\u001b[39m\n\u001b[1;32m   1283\u001b[0m     )\n\u001b[0;32m-> 1285\u001b[0m res \u001b[38;5;241m=\u001b[39m \u001b[43mapi\u001b[49m\u001b[38;5;241;43m.\u001b[39;49m\u001b[43mservices\u001b[49m\u001b[38;5;241;43m.\u001b[39;49m\u001b[43maction\u001b[49m\u001b[38;5;241;43m.\u001b[39;49m\u001b[43mget\u001b[49m\u001b[43m(\u001b[49m\u001b[38;5;28;43mself\u001b[39;49m\u001b[38;5;241;43m.\u001b[39;49m\u001b[43mid\u001b[49m\u001b[43m,\u001b[49m\u001b[43m \u001b[49m\u001b[43mresolve_nested\u001b[49m\u001b[38;5;241;43m=\u001b[39;49m\u001b[43mresolve_nested\u001b[49m\u001b[43m)\u001b[49m\n\u001b[1;32m   1286\u001b[0m \u001b[38;5;28;01mreturn\u001b[39;00m res\n",
      "File \u001b[0;32m~/workspace/PySyft/packages/syft/src/syft/client/api.py:423\u001b[0m, in \u001b[0;36mRemoteFunction.__call__\u001b[0;34m(self, *args, **kwargs)\u001b[0m\n\u001b[1;32m    422\u001b[0m \u001b[38;5;28;01mdef\u001b[39;00m \u001b[38;5;21m__call__\u001b[39m(\u001b[38;5;28mself\u001b[39m, \u001b[38;5;241m*\u001b[39margs: Any, \u001b[38;5;241m*\u001b[39m\u001b[38;5;241m*\u001b[39mkwargs: Any) \u001b[38;5;241m-\u001b[39m\u001b[38;5;241m>\u001b[39m Any:\n\u001b[0;32m--> 423\u001b[0m     \u001b[38;5;28;01mreturn\u001b[39;00m \u001b[38;5;28;43mself\u001b[39;49m\u001b[38;5;241;43m.\u001b[39;49m\u001b[43mfunction_call\u001b[49m\u001b[43m(\u001b[49m\u001b[38;5;28;43mself\u001b[39;49m\u001b[38;5;241;43m.\u001b[39;49m\u001b[43mpath\u001b[49m\u001b[43m,\u001b[49m\u001b[43m \u001b[49m\u001b[38;5;241;43m*\u001b[39;49m\u001b[43margs\u001b[49m\u001b[43m,\u001b[49m\u001b[43m \u001b[49m\u001b[38;5;241;43m*\u001b[39;49m\u001b[38;5;241;43m*\u001b[39;49m\u001b[43mkwargs\u001b[49m\u001b[43m)\u001b[49m\n",
      "File \u001b[0;32m~/workspace/PySyft/packages/syft/src/syft/client/api.py:410\u001b[0m, in \u001b[0;36mRemoteFunction.function_call\u001b[0;34m(self, path, cache_result, *args, **kwargs)\u001b[0m\n\u001b[1;32m    405\u001b[0m result, _ \u001b[38;5;241m=\u001b[39m migrate_args_and_kwargs(\n\u001b[1;32m    406\u001b[0m     [result], kwargs\u001b[38;5;241m=\u001b[39m{}, to_latest_protocol\u001b[38;5;241m=\u001b[39m\u001b[38;5;28;01mTrue\u001b[39;00m\n\u001b[1;32m    407\u001b[0m )\n\u001b[1;32m    408\u001b[0m result \u001b[38;5;241m=\u001b[39m result[\u001b[38;5;241m0\u001b[39m]\n\u001b[0;32m--> 410\u001b[0m \u001b[38;5;28;01mreturn\u001b[39;00m \u001b[38;5;28;43mself\u001b[39;49m\u001b[38;5;241;43m.\u001b[39;49m\u001b[43mpost_process_result\u001b[49m\u001b[43m(\u001b[49m\u001b[43mapi_call\u001b[49m\u001b[38;5;241;43m.\u001b[39;49m\u001b[43mpath\u001b[49m\u001b[43m,\u001b[49m\u001b[43m \u001b[49m\u001b[43mresult\u001b[49m\u001b[43m)\u001b[49m\n",
      "File \u001b[0;32m~/workspace/PySyft/packages/syft/src/syft/client/api.py:416\u001b[0m, in \u001b[0;36mRemoteFunction.post_process_result\u001b[0;34m(self, path, result)\u001b[0m\n\u001b[1;32m    414\u001b[0m \u001b[38;5;28;01mif\u001b[39;00m \u001b[38;5;28misinstance\u001b[39m(result, SyftError):\n\u001b[1;32m    415\u001b[0m     tb \u001b[38;5;241m=\u001b[39m result\u001b[38;5;241m.\u001b[39mtb \u001b[38;5;28;01mif\u001b[39;00m result\u001b[38;5;241m.\u001b[39mtb \u001b[38;5;129;01mis\u001b[39;00m \u001b[38;5;129;01mnot\u001b[39;00m \u001b[38;5;28;01mNone\u001b[39;00m \u001b[38;5;28;01melse\u001b[39;00m \u001b[38;5;124m\"\u001b[39m\u001b[38;5;124m\"\u001b[39m\n\u001b[0;32m--> 416\u001b[0m     \u001b[38;5;28;01mraise\u001b[39;00m SyftException(public_message\u001b[38;5;241m=\u001b[39mresult\u001b[38;5;241m.\u001b[39mmessage \u001b[38;5;241m+\u001b[39m \u001b[38;5;124m\"\u001b[39m\u001b[38;5;130;01m\\n\u001b[39;00m\u001b[38;5;124m\"\u001b[39m \u001b[38;5;241m+\u001b[39m tb)\n\u001b[1;32m    417\u001b[0m \u001b[38;5;28;01mif\u001b[39;00m \u001b[38;5;28mself\u001b[39m\u001b[38;5;241m.\u001b[39munwrap_on_success:\n\u001b[1;32m    418\u001b[0m     result \u001b[38;5;241m=\u001b[39m result\u001b[38;5;241m.\u001b[39munwrap_value()\n",
      "\u001b[0;31mSyftException\u001b[0m: Permission: [READ: a80da28f393e482ea371ad4a583545d1 as 3e9c069d66b39e3aae94ecc3500cdc626f78ed6fc046542c1ca94aa37cf80e68] denied\n"
     ]
    }
   ],
   "source": [
    "res_ptr.get()"
   ]
  },
  {
   "cell_type": "code",
   "execution_count": 13,
   "id": "6f6cf77a-4d99-4201-87eb-94868bac61d8",
   "metadata": {},
   "outputs": [
    {
     "data": {
      "text/markdown": [
       "\n",
       "**TwinPointer(Real)**\n",
       "\n",
       "array([[3, 3, 3],\n",
       "       [3, 3, 3]])\n"
      ],
      "text/plain": [
       "TwinPointer(Real):\n",
       "array([[3, 3, 3],\n",
       "       [3, 3, 3]])"
      ]
     },
     "execution_count": 13,
     "metadata": {},
     "output_type": "execute_result"
    }
   ],
   "source": [
    "list(node.python_node.action_store.data.values())[1].private"
   ]
  },
  {
   "cell_type": "code",
   "execution_count": 16,
   "id": "66533470-c7fd-415e-8876-9572bc9416c0",
   "metadata": {},
   "outputs": [
    {
     "data": {
      "text/markdown": [
       "\n",
       "**TwinPointer(Real)**\n",
       "\n",
       "array([3, 3, 3, 3, 3, 3])\n"
      ],
      "text/plain": [
       "TwinPointer(Real):\n",
       "array([3, 3, 3, 3, 3, 3])"
      ]
     },
     "execution_count": 16,
     "metadata": {},
     "output_type": "execute_result"
    }
   ],
   "source": [
    "list(node.python_node.action_store.data.values())[2].private"
   ]
  },
  {
   "cell_type": "code",
   "execution_count": 15,
   "id": "ba13a659-67c9-4134-b1ef-b9f721ef5c79",
   "metadata": {},
   "outputs": [
    {
     "name": "stdout",
     "output_type": "stream",
     "text": [
      "Exception (hidden from DS) happened on the server side:\n",
      "Traceback (most recent call last):\n",
      "  File \"/Users/koen/workspace/PySyft/packages/syft/src/syft/node/node.py\", line 1296, in handle_api_call_with_unsigned_result\n",
      "    result = method(context, *api_call.args, **api_call.kwargs)\n",
      "             ^^^^^^^^^^^^^^^^^^^^^^^^^^^^^^^^^^^^^^^^^^^^^^^^^^\n",
      "  File \"/Users/koen/workspace/PySyft/packages/syft/src/syft/service/service.py\", line 383, in _decorator\n",
      "    result = func(self, *args, **kwargs)\n",
      "             ^^^^^^^^^^^^^^^^^^^^^^^^^^^\n",
      "  File \"/Users/koen/workspace/PySyft/packages/syft/src/syft/service/action/action_service.py\", line 255, in get\n",
      "    ).unwrap()\n",
      "      ^^^^^^^^\n",
      "  File \"/Users/koen/workspace/PySyft/packages/syft/src/syft/types/result.py\", line 89, in unwrap\n",
      "    raise self.value\n",
      "  File \"/Users/koen/workspace/PySyft/packages/syft/src/syft/types/result.py\", line 111, in wrapper\n",
      "    output = func(*args, **kwargs)\n",
      "             ^^^^^^^^^^^^^^^^^^^^^\n",
      "  File \"/Users/koen/workspace/PySyft/packages/syft/src/syft/service/action/action_service.py\", line 269, in _get\n",
      "    ).unwrap()\n",
      "      ^^^^^^^^\n",
      "  File \"/Users/koen/workspace/PySyft/packages/syft/src/syft/service/action/action_store.py\", line 83, in get\n",
      "    raise SyftException(public_message=f\"Permission: {read_permission} denied\")\n",
      "syft.types.errors.SyftException: Permission: [READ: 88a9345ca8b241678703267516a0e43a as e4792044193b4f0f7ee21dd9efba2ac5ff304c2a0a691df30eda79a0395a5688] denied\n",
      "\n"
     ]
    },
    {
     "ename": "SyftException",
     "evalue": "Permission: [READ: 88a9345ca8b241678703267516a0e43a as e4792044193b4f0f7ee21dd9efba2ac5ff304c2a0a691df30eda79a0395a5688] denied\n",
     "output_type": "error",
     "traceback": [
      "\u001b[0;31m---------------------------------------------------------------------------\u001b[0m",
      "\u001b[0;31mSyftException\u001b[0m                             Traceback (most recent call last)",
      "Cell \u001b[0;32mIn[15], line 1\u001b[0m\n\u001b[0;32m----> 1\u001b[0m \u001b[43mres_ptr\u001b[49m\u001b[38;5;241;43m.\u001b[39;49m\u001b[43mget\u001b[49m\u001b[43m(\u001b[49m\u001b[43m)\u001b[49m\n",
      "File \u001b[0;32m~/workspace/PySyft/packages/syft/src/syft/service/action/action_object.py:1306\u001b[0m, in \u001b[0;36mActionObject.get\u001b[0;34m(self, block)\u001b[0m\n\u001b[1;32m   1303\u001b[0m \u001b[38;5;28;01mif\u001b[39;00m block:\n\u001b[1;32m   1304\u001b[0m     \u001b[38;5;28mself\u001b[39m\u001b[38;5;241m.\u001b[39mwait()\n\u001b[0;32m-> 1306\u001b[0m res \u001b[38;5;241m=\u001b[39m \u001b[38;5;28;43mself\u001b[39;49m\u001b[38;5;241;43m.\u001b[39;49m\u001b[43mrefresh_object\u001b[49m\u001b[43m(\u001b[49m\u001b[43m)\u001b[49m\n\u001b[1;32m   1307\u001b[0m \u001b[38;5;28;01mif\u001b[39;00m \u001b[38;5;129;01mnot\u001b[39;00m \u001b[38;5;28misinstance\u001b[39m(res, ActionObject):\n\u001b[1;32m   1308\u001b[0m     \u001b[38;5;28;01mreturn\u001b[39;00m SyftError(message\u001b[38;5;241m=\u001b[39m\u001b[38;5;124mf\u001b[39m\u001b[38;5;124m\"\u001b[39m\u001b[38;5;132;01m{\u001b[39;00mres\u001b[38;5;132;01m}\u001b[39;00m\u001b[38;5;124m\"\u001b[39m)  \u001b[38;5;66;03m# type: ignore\u001b[39;00m\n",
      "File \u001b[0;32m~/workspace/PySyft/packages/syft/src/syft/service/action/action_object.py:1285\u001b[0m, in \u001b[0;36mActionObject.refresh_object\u001b[0;34m(self, resolve_nested)\u001b[0m\n\u001b[1;32m   1280\u001b[0m \u001b[38;5;28;01mif\u001b[39;00m api \u001b[38;5;129;01mis\u001b[39;00m \u001b[38;5;28;01mNone\u001b[39;00m:\n\u001b[1;32m   1281\u001b[0m     \u001b[38;5;28;01mreturn\u001b[39;00m SyftError(\n\u001b[1;32m   1282\u001b[0m         message\u001b[38;5;241m=\u001b[39m\u001b[38;5;124mf\u001b[39m\u001b[38;5;124m\"\u001b[39m\u001b[38;5;124mapi is None. You must login to \u001b[39m\u001b[38;5;132;01m{\u001b[39;00m\u001b[38;5;28mself\u001b[39m\u001b[38;5;241m.\u001b[39msyft_node_location\u001b[38;5;132;01m}\u001b[39;00m\u001b[38;5;124m\"\u001b[39m\n\u001b[1;32m   1283\u001b[0m     )\n\u001b[0;32m-> 1285\u001b[0m res \u001b[38;5;241m=\u001b[39m \u001b[43mapi\u001b[49m\u001b[38;5;241;43m.\u001b[39;49m\u001b[43mservices\u001b[49m\u001b[38;5;241;43m.\u001b[39;49m\u001b[43maction\u001b[49m\u001b[38;5;241;43m.\u001b[39;49m\u001b[43mget\u001b[49m\u001b[43m(\u001b[49m\u001b[38;5;28;43mself\u001b[39;49m\u001b[38;5;241;43m.\u001b[39;49m\u001b[43mid\u001b[49m\u001b[43m,\u001b[49m\u001b[43m \u001b[49m\u001b[43mresolve_nested\u001b[49m\u001b[38;5;241;43m=\u001b[39;49m\u001b[43mresolve_nested\u001b[49m\u001b[43m)\u001b[49m\n\u001b[1;32m   1286\u001b[0m \u001b[38;5;28;01mreturn\u001b[39;00m res\n",
      "File \u001b[0;32m~/workspace/PySyft/packages/syft/src/syft/client/api.py:423\u001b[0m, in \u001b[0;36mRemoteFunction.__call__\u001b[0;34m(self, *args, **kwargs)\u001b[0m\n\u001b[1;32m    422\u001b[0m \u001b[38;5;28;01mdef\u001b[39;00m \u001b[38;5;21m__call__\u001b[39m(\u001b[38;5;28mself\u001b[39m, \u001b[38;5;241m*\u001b[39margs: Any, \u001b[38;5;241m*\u001b[39m\u001b[38;5;241m*\u001b[39mkwargs: Any) \u001b[38;5;241m-\u001b[39m\u001b[38;5;241m>\u001b[39m Any:\n\u001b[0;32m--> 423\u001b[0m     \u001b[38;5;28;01mreturn\u001b[39;00m \u001b[38;5;28;43mself\u001b[39;49m\u001b[38;5;241;43m.\u001b[39;49m\u001b[43mfunction_call\u001b[49m\u001b[43m(\u001b[49m\u001b[38;5;28;43mself\u001b[39;49m\u001b[38;5;241;43m.\u001b[39;49m\u001b[43mpath\u001b[49m\u001b[43m,\u001b[49m\u001b[43m \u001b[49m\u001b[38;5;241;43m*\u001b[39;49m\u001b[43margs\u001b[49m\u001b[43m,\u001b[49m\u001b[43m \u001b[49m\u001b[38;5;241;43m*\u001b[39;49m\u001b[38;5;241;43m*\u001b[39;49m\u001b[43mkwargs\u001b[49m\u001b[43m)\u001b[49m\n",
      "File \u001b[0;32m~/workspace/PySyft/packages/syft/src/syft/client/api.py:410\u001b[0m, in \u001b[0;36mRemoteFunction.function_call\u001b[0;34m(self, path, cache_result, *args, **kwargs)\u001b[0m\n\u001b[1;32m    405\u001b[0m result, _ \u001b[38;5;241m=\u001b[39m migrate_args_and_kwargs(\n\u001b[1;32m    406\u001b[0m     [result], kwargs\u001b[38;5;241m=\u001b[39m{}, to_latest_protocol\u001b[38;5;241m=\u001b[39m\u001b[38;5;28;01mTrue\u001b[39;00m\n\u001b[1;32m    407\u001b[0m )\n\u001b[1;32m    408\u001b[0m result \u001b[38;5;241m=\u001b[39m result[\u001b[38;5;241m0\u001b[39m]\n\u001b[0;32m--> 410\u001b[0m \u001b[38;5;28;01mreturn\u001b[39;00m \u001b[38;5;28;43mself\u001b[39;49m\u001b[38;5;241;43m.\u001b[39;49m\u001b[43mpost_process_result\u001b[49m\u001b[43m(\u001b[49m\u001b[43mapi_call\u001b[49m\u001b[38;5;241;43m.\u001b[39;49m\u001b[43mpath\u001b[49m\u001b[43m,\u001b[49m\u001b[43m \u001b[49m\u001b[43mresult\u001b[49m\u001b[43m)\u001b[49m\n",
      "File \u001b[0;32m~/workspace/PySyft/packages/syft/src/syft/client/api.py:416\u001b[0m, in \u001b[0;36mRemoteFunction.post_process_result\u001b[0;34m(self, path, result)\u001b[0m\n\u001b[1;32m    414\u001b[0m \u001b[38;5;28;01mif\u001b[39;00m \u001b[38;5;28misinstance\u001b[39m(result, SyftError):\n\u001b[1;32m    415\u001b[0m     tb \u001b[38;5;241m=\u001b[39m result\u001b[38;5;241m.\u001b[39mtb \u001b[38;5;28;01mif\u001b[39;00m result\u001b[38;5;241m.\u001b[39mtb \u001b[38;5;129;01mis\u001b[39;00m \u001b[38;5;129;01mnot\u001b[39;00m \u001b[38;5;28;01mNone\u001b[39;00m \u001b[38;5;28;01melse\u001b[39;00m \u001b[38;5;124m\"\u001b[39m\u001b[38;5;124m\"\u001b[39m\n\u001b[0;32m--> 416\u001b[0m     \u001b[38;5;28;01mraise\u001b[39;00m SyftException(public_message\u001b[38;5;241m=\u001b[39mresult\u001b[38;5;241m.\u001b[39mmessage \u001b[38;5;241m+\u001b[39m \u001b[38;5;124m\"\u001b[39m\u001b[38;5;130;01m\\n\u001b[39;00m\u001b[38;5;124m\"\u001b[39m \u001b[38;5;241m+\u001b[39m tb)\n\u001b[1;32m    417\u001b[0m \u001b[38;5;28;01mif\u001b[39;00m \u001b[38;5;28mself\u001b[39m\u001b[38;5;241m.\u001b[39munwrap_on_success:\n\u001b[1;32m    418\u001b[0m     result \u001b[38;5;241m=\u001b[39m result\u001b[38;5;241m.\u001b[39munwrap_value()\n",
      "\u001b[0;31mSyftException\u001b[0m: Permission: [READ: 88a9345ca8b241678703267516a0e43a as e4792044193b4f0f7ee21dd9efba2ac5ff304c2a0a691df30eda79a0395a5688] denied\n"
     ]
    }
   ],
   "source": [
    "res_ptr.get()"
   ]
  },
  {
   "cell_type": "code",
   "execution_count": 41,
   "id": "88f50a25-5376-4e10-97bd-f37b0981a145",
   "metadata": {},
   "outputs": [
    {
     "data": {
      "text/markdown": [
       "\n",
       "**TwinPointer(Mock)**\n",
       "\n",
       "1\n"
      ],
      "text/plain": [
       "TwinPointer(Mock):\n",
       "1"
      ]
     },
     "execution_count": 41,
     "metadata": {},
     "output_type": "execute_result"
    }
   ],
   "source": [
    "root_domain_client.api.services.action.get(res_ptr.id)"
   ]
  },
  {
   "cell_type": "code",
   "execution_count": 47,
   "id": "31fa8057-1138-47e2-a93e-e72647d0b216",
   "metadata": {},
   "outputs": [
    {
     "data": {
      "text/markdown": [
       "\n",
       "**TwinPointer(Mock)**\n",
       "\n",
       "1\n"
      ],
      "text/plain": [
       "TwinPointer(Mock):\n",
       "1"
      ]
     },
     "execution_count": 47,
     "metadata": {},
     "output_type": "execute_result"
    }
   ],
   "source": [
    "node.python_node.action_store.data[res_ptr.id]"
   ]
  },
  {
   "cell_type": "code",
   "execution_count": 35,
   "id": "08b85b3a-41ac-4ad1-a5f6-ff9bfce8b647",
   "metadata": {},
   "outputs": [
    {
     "data": {
      "text/plain": [
       "64"
      ]
     },
     "execution_count": 35,
     "metadata": {},
     "output_type": "execute_result"
    }
   ],
   "source": [
    "2**6"
   ]
  },
  {
   "cell_type": "code",
   "execution_count": 33,
   "id": "a3206f23-de36-439d-8d2b-e8592c697e73",
   "metadata": {},
   "outputs": [],
   "source": [
    "# res_ptr.get()"
   ]
  },
  {
   "cell_type": "code",
   "execution_count": null,
   "id": "5ee07b40-de33-436e-9cd7-c563877e512a",
   "metadata": {},
   "outputs": [],
   "source": []
  }
 ],
 "metadata": {
  "kernelspec": {
   "display_name": "Python 3 (ipykernel)",
   "language": "python",
   "name": "python3"
  },
  "language_info": {
   "codemirror_mode": {
    "name": "ipython",
    "version": 3
   },
   "file_extension": ".py",
   "mimetype": "text/x-python",
   "name": "python",
   "nbconvert_exporter": "python",
   "pygments_lexer": "ipython3",
   "version": "3.12.2"
  }
 },
 "nbformat": 4,
 "nbformat_minor": 5
}
