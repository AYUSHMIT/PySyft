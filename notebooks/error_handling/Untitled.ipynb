{
 "cells": [
  {
   "cell_type": "code",
   "execution_count": 1,
   "id": "35c3f3d7-e8ca-4d3b-a538-f6687eaa1e15",
   "metadata": {
    "tags": []
   },
   "outputs": [],
   "source": [
    "SYFT_VERSION = \">=0.8.2.b0,<0.9\"\n",
    "package_string = f'\"syft{SYFT_VERSION}\"'\n",
    "# %pip install {package_string} -q"
   ]
  },
  {
   "cell_type": "code",
   "execution_count": 2,
   "id": "3bdcd78d-71f0-4d7d-a05f-5c6805ad6349",
   "metadata": {},
   "outputs": [
    {
     "name": "stdout",
     "output_type": "stream",
     "text": [
      "✅ The installed version of syft==0.8.7b13 matches the requirement >=0.8.2b0 and the requirement <0.9\n"
     ]
    }
   ],
   "source": [
    "# third party\n",
    "\n",
    "# syft absolute\n",
    "import syft as sy\n",
    "\n",
    "sy.requires(SYFT_VERSION)"
   ]
  },
  {
   "cell_type": "markdown",
   "id": "c97a6fe5-3efc-455d-975d-535b74e966dc",
   "metadata": {},
   "source": [
    "### Launch a Syft Domain Server"
   ]
  },
  {
   "cell_type": "code",
   "execution_count": 3,
   "id": "3334203b-c9c9-43dd-b112-ef5250f6a39b",
   "metadata": {
    "tags": []
   },
   "outputs": [
    {
     "data": {
      "text/html": [
       "<div class=\"alert-info\" style=\"padding:5px;\"><strong>SyftInfo</strong>: <pre class=\"alert-info\" style=\"display:inline; font-family:inherit;\">You have launched a development node at http://0.0.0.0:None.It is intended only for local use.</pre></div><br/>"
      ],
      "text/plain": [
       "SyftInfo: You have launched a development node at http://0.0.0.0:None.It is intended only for local use."
      ]
     },
     "metadata": {},
     "output_type": "display_data"
    }
   ],
   "source": [
    "# Launch a fresh domain server named \"test-domain-1\" in dev mode on the local machine\n",
    "node = sy.orchestra.launch(name=\"test-domain-1\", dev_mode=True, reset=True)"
   ]
  },
  {
   "cell_type": "code",
   "execution_count": 4,
   "id": "c269f5f6-67a0-48f7-8073-0a8c831c47bb",
   "metadata": {},
   "outputs": [],
   "source": [
    "# list(node.python_node.get_service(\"userservice\").stash.partition.data.values())[0].verify_key"
   ]
  },
  {
   "cell_type": "code",
   "execution_count": 5,
   "id": "4d0c27b4-4beb-482e-a261-a0c237a4b00c",
   "metadata": {
    "tags": []
   },
   "outputs": [
    {
     "name": "stdout",
     "output_type": "stream",
     "text": [
      "Logged into <test-domain-1: High side Domain> as <info@openmined.org>\n"
     ]
    },
    {
     "data": {
      "text/html": [
       "<div class=\"alert-warning\" style=\"padding:5px;\"><strong>SyftWarning</strong>: <pre class=\"alert-warning\" style=\"display:inline; font-family:inherit;\">You are using a default password. Please change the password using `[your_client].me.set_password([new_password])`.</pre></div><br/>"
      ],
      "text/plain": [
       "SyftWarning: You are using a default password. Please change the password using `[your_client].me.set_password([new_password])`."
      ]
     },
     "metadata": {},
     "output_type": "display_data"
    }
   ],
   "source": [
    "# log into the node with default root credentials\n",
    "client = node.login(email=\"info@openmined.org\", password=\"changethis\")"
   ]
  },
  {
   "cell_type": "code",
   "execution_count": 6,
   "id": "4e0bc29a-f753-4f4d-abbf-45efa374c4bf",
   "metadata": {},
   "outputs": [],
   "source": [
    "# stdlib\n",
    "from typing import Any"
   ]
  },
  {
   "cell_type": "code",
   "execution_count": 7,
   "id": "3976653e-76a6-4111-b029-6827ed50b5ee",
   "metadata": {},
   "outputs": [],
   "source": [
    "def helper_make_action_obj(orig_obj: Any):\n",
    "    return sy.ActionObject.from_obj(orig_obj)\n",
    "\n",
    "\n",
    "def helper_make_action_pointers(worker, obj, *args, **kwargs):\n",
    "    root_domain_client = worker\n",
    "    res = obj.send(root_domain_client)\n",
    "    obj_pointer = root_domain_client.api.services.action.get_pointer(res.id)\n",
    "\n",
    "    # The args and kwargs should automatically be pointerized by obj_pointer\n",
    "    return obj_pointer, args, kwargs"
   ]
  },
  {
   "cell_type": "code",
   "execution_count": 8,
   "id": "de9c7b73-bcca-4907-b277-6375ace83825",
   "metadata": {},
   "outputs": [],
   "source": [
    "assert client.settings.enable_eager_execution(enable=True)\n",
    "\n",
    "orig_obj, op, args, kwargs, expected = (1, \"__add__\", [1], {}, 2)\n",
    "\n",
    "obj = helper_make_action_obj(orig_obj)\n",
    "\n",
    "obj_pointer, args_pointers, kwargs_pointers = helper_make_action_pointers(\n",
    "    client, obj, *args, **kwargs\n",
    ")"
   ]
  },
  {
   "cell_type": "code",
   "execution_count": 9,
   "id": "e6323e66-ac06-4256-801e-c14b91d17d2b",
   "metadata": {},
   "outputs": [],
   "source": [
    "# syft absolute\n",
    "from syft import UID\n",
    "from syft.service.action.action_object import ActionType\n",
    "from syft.service.action.action_object import PreHookContext"
   ]
  },
  {
   "cell_type": "code",
   "execution_count": 10,
   "id": "416c4324-120f-41c3-82d6-be2b70afa1c6",
   "metadata": {},
   "outputs": [
    {
     "name": "stdout",
     "output_type": "stream",
     "text": [
      "> \u001b[0;32m/Users/koen/workspace/PySyft/packages/syft/src/syft/service/action/action_service.py\u001b[0m(794)\u001b[0;36mexecute\u001b[0;34m()\u001b[0m\n",
      "\u001b[0;32m    793 \u001b[0;31m\u001b[0;34m\u001b[0m\u001b[0m\n",
      "\u001b[0m\u001b[0;32m--> 794 \u001b[0;31m        \u001b[0;32mreturn\u001b[0m \u001b[0mset_result\u001b[0m\u001b[0;34m\u001b[0m\u001b[0;34m\u001b[0m\u001b[0m\n",
      "\u001b[0m\u001b[0;32m    795 \u001b[0;31m\u001b[0;34m\u001b[0m\u001b[0m\n",
      "\u001b[0m\n"
     ]
    },
    {
     "name": "stdin",
     "output_type": "stream",
     "text": [
      "ipdb>  c\n"
     ]
    },
    {
     "name": "stdout",
     "output_type": "stream",
     "text": [
      "> \u001b[0;32m/Users/koen/workspace/PySyft/packages/syft/src/syft/service/action/action_service.py\u001b[0m(794)\u001b[0;36mexecute\u001b[0;34m()\u001b[0m\n",
      "\u001b[0;32m    793 \u001b[0;31m\u001b[0;34m\u001b[0m\u001b[0m\n",
      "\u001b[0m\u001b[0;32m--> 794 \u001b[0;31m        \u001b[0;32mreturn\u001b[0m \u001b[0mset_result\u001b[0m\u001b[0;34m\u001b[0m\u001b[0;34m\u001b[0m\u001b[0m\n",
      "\u001b[0m\u001b[0;32m    795 \u001b[0;31m\u001b[0;34m\u001b[0m\u001b[0m\n",
      "\u001b[0m\n"
     ]
    },
    {
     "name": "stdin",
     "output_type": "stream",
     "text": [
      "ipdb>  c\n"
     ]
    }
   ],
   "source": [
    "obj_pointer.syft_point_to(client.id)\n",
    "\n",
    "context = PreHookContext(obj=obj_pointer, op_name=op, action_type=ActionType.METHOD)\n",
    "\n",
    "context, result_args, result_kwargs = obj_pointer._syft_run_pre_hooks__(\n",
    "    context, name=op, args=args_pointers, kwargs=kwargs_pointers\n",
    ")"
   ]
  },
  {
   "cell_type": "code",
   "execution_count": 11,
   "id": "1a5e83d1-9512-4d54-a1b7-1b38d90514ac",
   "metadata": {},
   "outputs": [
    {
     "data": {
      "text/html": [
       "{}"
      ],
      "text/plain": [
       "{}"
      ]
     },
     "execution_count": 11,
     "metadata": {},
     "output_type": "execute_result"
    }
   ],
   "source": [
    "result_kwargs"
   ]
  },
  {
   "cell_type": "code",
   "execution_count": 12,
   "id": "0f1cbb92-1aec-4940-b565-de7bb966b7d3",
   "metadata": {},
   "outputs": [],
   "source": [
    "assert context.result_id is not None\n",
    "\n",
    "context.obj.syft_node_uid = UID()\n",
    "result = obj_pointer._syft_run_post_hooks__(context, name=op, result=obj_pointer)\n",
    "assert result.syft_node_uid == context.obj.syft_node_uid"
   ]
  },
  {
   "cell_type": "code",
   "execution_count": null,
   "id": "d0b85c7b-796e-4781-a455-847c53f49f5a",
   "metadata": {},
   "outputs": [],
   "source": []
  }
 ],
 "metadata": {
  "kernelspec": {
   "display_name": "Python 3 (ipykernel)",
   "language": "python",
   "name": "python3"
  },
  "language_info": {
   "codemirror_mode": {
    "name": "ipython",
    "version": 3
   },
   "file_extension": ".py",
   "mimetype": "text/x-python",
   "name": "python",
   "nbconvert_exporter": "python",
   "pygments_lexer": "ipython3",
   "version": "3.12.2"
  }
 },
 "nbformat": 4,
 "nbformat_minor": 5
}
