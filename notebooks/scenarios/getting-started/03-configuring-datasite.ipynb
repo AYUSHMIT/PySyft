{
 "cells": [
  {
   "cell_type": "code",
   "execution_count": null,
   "id": "9278cdde-2ddc-493f-ab1a-7a224f2c2338",
   "metadata": {},
   "outputs": [],
   "source": [
    "# -- all the configuration and server settings options\n",
    "# -- optional: adding email settings (smtp with sendgrid free account)\n",
    "# -- changing passwords (importance of root account)"
   ]
  },
  {
   "cell_type": "code",
   "execution_count": null,
   "id": "f9cac3bb-9310-4c6e-bf02-08752e9d70df",
   "metadata": {},
   "outputs": [],
   "source": [
    "SYFT_VERSION = \">=0.8.7.b0,<0.9\"\n",
    "package_string = f'\"syft{SYFT_VERSION}\"'"
   ]
  },
  {
   "cell_type": "code",
   "execution_count": null,
   "id": "d01b99d1-999f-4e85-abf3-c74484df8bef",
   "metadata": {},
   "outputs": [],
   "source": [
    "# syft absolute\n",
    "import syft as sy\n",
    "\n",
    "sy.requires(SYFT_VERSION)"
   ]
  },
  {
   "cell_type": "code",
   "execution_count": null,
   "id": "2045933d-bc99-4483-9ca1-89c6ab166a0f",
   "metadata": {},
   "outputs": [],
   "source": [
    "# run a local webserver\n",
    "server = sy.orchestra.launch(name=\"test-datasite-1\", port=8081)"
   ]
  },
  {
   "cell_type": "code",
   "execution_count": null,
   "id": "15470a8b-8760-49b5-8ab9-2947a4518075",
   "metadata": {},
   "outputs": [],
   "source": [
    "client = server.login(email=\"info@openmined.org\", password=\"changethis\")"
   ]
  },
  {
   "cell_type": "markdown",
   "id": "34dc694a-f386-44f6-92dc-36c30968f128",
   "metadata": {},
   "source": [
    "# email"
   ]
  },
  {
   "cell_type": "code",
   "execution_count": null,
   "id": "1a0738a4-7acd-4e00-b659-651bf0af8a4e",
   "metadata": {},
   "outputs": [],
   "source": [
    "secrets = sy.get_nb_secrets(defaults={\"smtp_token\": \"ADD_POSTMARK_TOKEN\"})"
   ]
  },
  {
   "cell_type": "code",
   "execution_count": null,
   "id": "488d9fd4-6de9-46e0-9565-3f479af534e2",
   "metadata": {},
   "outputs": [],
   "source": [
    "smtp_username, smtp_password, smtp_server, smtp_port = (\n",
    "    secrets[\"smtp_token\"],\n",
    "    secrets[\"smtp_token\"],\n",
    "    \"smtp.postmarkapp.com\",\n",
    "    \"25\",\n",
    ")\n",
    "# configure email settings\n",
    "client.api.services.settings.enable_notifications(\n",
    "    email_username=smtp_username,\n",
    "    email_password=smtp_password,\n",
    "    email_sender=\"madhava@openmined.org\",\n",
    "    email_server=smtp_server,\n",
    "    email_port=smtp_port,\n",
    ")"
   ]
  },
  {
   "cell_type": "code",
   "execution_count": null,
   "id": "e0cbb4dc-3400-418e-ae06-fd3033e042a1",
   "metadata": {},
   "outputs": [],
   "source": [
    "ns = client.api.services.notifications.settings()"
   ]
  },
  {
   "cell_type": "code",
   "execution_count": null,
   "id": "1ec5f362-ecc1-44f6-99ac-ea8771ceb040",
   "metadata": {},
   "outputs": [],
   "source": [
    "ns.email_enabled"
   ]
  },
  {
   "cell_type": "code",
   "execution_count": null,
   "id": "0731f6fb-82bc-4ee3-bce1-9988e38b842a",
   "metadata": {},
   "outputs": [],
   "source": [
    "ns.notifiers"
   ]
  },
  {
   "cell_type": "code",
   "execution_count": null,
   "id": "ace1e4a6-f1db-4506-8b5a-47d2940b510e",
   "metadata": {},
   "outputs": [],
   "source": [
    "s = client.api.services.settings.get()"
   ]
  },
  {
   "cell_type": "code",
   "execution_count": null,
   "id": "c5556eee-1f9e-4eb0-b82a-ec4f523a3260",
   "metadata": {},
   "outputs": [],
   "source": [
    "s"
   ]
  },
  {
   "cell_type": "code",
   "execution_count": null,
   "id": "f81fd6f7-6e61-48d6-bf0c-e22718a109fb",
   "metadata": {},
   "outputs": [],
   "source": [
    "client.api.services.settings.set(s)"
   ]
  },
  {
   "cell_type": "code",
   "execution_count": null,
   "id": "0ad33f86-3576-4dd7-9cac-5ccf7fefb943",
   "metadata": {},
   "outputs": [],
   "source": [
    "client.api.services.settings.update(\n",
    "    name=\"a\",\n",
    "    organization=\"b\",\n",
    "    description=\"c\",\n",
    "    admin_email=\"info2@openmined.org\",\n",
    "    association_request_auto_approval=True,\n",
    "    eager_execution_enabled=False,\n",
    "    notifications_enabled=True,\n",
    ")"
   ]
  },
  {
   "cell_type": "code",
   "execution_count": null,
   "id": "82eac269-4f51-45a8-8480-8a2e3a382862",
   "metadata": {},
   "outputs": [],
   "source": [
    "md = \"\"\"\n",
    "    An h1 header\n",
    "============\n",
    "\n",
    "Paragraphs are separated by a blank line.\n",
    "\n",
    "2nd paragraph. *Italic*, **bold**, and `monospace`. Itemized lists\n",
    "look like:\n",
    "\n",
    "  * this one\n",
    "  * that one\n",
    "  * the other one\n",
    "\n",
    "Note that --- not considering the asterisk --- the actual text\n",
    "content starts at 4-columns in.\n",
    "\n",
    "> Block quotes are\n",
    "> written like so.\n",
    ">\n",
    "> They can span multiple paragraphs,\n",
    "> if you like.\n",
    "\n",
    "Use 3 dashes for an em-dash. Use 2 dashes for ranges (ex., \"it's all\n",
    "in chapters 12--14\"). Three dots ... will be converted to an ellipsis.\n",
    "Unicode is supported. ☺\n",
    "\"\"\""
   ]
  },
  {
   "cell_type": "code",
   "execution_count": null,
   "id": "8389d1a4-027e-4282-ad91-274c34e0011c",
   "metadata": {},
   "outputs": [],
   "source": [
    "client.api.services.settings.welcome_preview(markdown=md)"
   ]
  },
  {
   "cell_type": "code",
   "execution_count": null,
   "id": "53d16bdf-bcfa-4ca5-8b98-5124f480e81b",
   "metadata": {},
   "outputs": [],
   "source": [
    "client.api.services.settings.welcome_customize(markdown=md)"
   ]
  },
  {
   "cell_type": "code",
   "execution_count": null,
   "id": "d267ccf1-9cb0-4b02-80fe-2608d6c55549",
   "metadata": {},
   "outputs": [],
   "source": [
    "client.api.services.settings.welcome_show()"
   ]
  },
  {
   "cell_type": "code",
   "execution_count": null,
   "id": "bf5318ef-0aa5-4bb5-b366-3f5fc06f00b6",
   "metadata": {},
   "outputs": [],
   "source": [
    "guest_client = client.login_as_guest()\n",
    "guest_client"
   ]
  },
  {
   "cell_type": "code",
   "execution_count": null,
   "id": "1abfe0af-9566-4f78-892e-0b7397ec081c",
   "metadata": {},
   "outputs": [],
   "source": [
    "guest_client.register(name=\"a\", email=\"a@b.com\", password=\"c\", password_verify=\"c\")"
   ]
  },
  {
   "cell_type": "code",
   "execution_count": null,
   "id": "a19d34bd-0033-4c90-9ef7-c88fe4d87dad",
   "metadata": {},
   "outputs": [],
   "source": [
    "client.api.services.settings.allow_guest_signup(enable=True)"
   ]
  },
  {
   "cell_type": "code",
   "execution_count": null,
   "id": "bd7e84e7-8bd5-42cc-b5d0-86efbd6a56eb",
   "metadata": {},
   "outputs": [],
   "source": [
    "guest_client.register(name=\"a\", email=\"a@b.com\", password=\"c\", password_verify=\"c\")"
   ]
  },
  {
   "cell_type": "code",
   "execution_count": null,
   "id": "1270cfa4-c771-4e79-8744-6a8276db153d",
   "metadata": {},
   "outputs": [],
   "source": [
    "guest_client.login(email=\"a@b.com\", password=\"c\")"
   ]
  },
  {
   "cell_type": "code",
   "execution_count": null,
   "id": "d8453c72-6095-44c5-82aa-6f11bb71599e",
   "metadata": {},
   "outputs": [],
   "source": [
    "server.land()"
   ]
  },
  {
   "cell_type": "code",
   "execution_count": null,
   "id": "b3571ba3-709a-4d5b-8e8e-346bf840a19e",
   "metadata": {},
   "outputs": [],
   "source": []
  }
 ],
 "metadata": {
  "kernelspec": {
   "display_name": "Python 3 (ipykernel)",
   "language": "python",
   "name": "python3"
  },
  "language_info": {
   "codemirror_mode": {
    "name": "ipython",
    "version": 3
   },
   "file_extension": ".py",
   "mimetype": "text/x-python",
   "name": "python",
   "nbconvert_exporter": "python",
   "pygments_lexer": "ipython3",
   "version": "3.12.3"
  }
 },
 "nbformat": 4,
 "nbformat_minor": 5
}
