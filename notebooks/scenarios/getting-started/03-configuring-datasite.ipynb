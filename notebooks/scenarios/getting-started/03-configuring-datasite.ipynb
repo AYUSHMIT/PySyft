{
 "cells": [
  {
   "cell_type": "code",
   "execution_count": 1,
   "id": "9278cdde-2ddc-493f-ab1a-7a224f2c2338",
   "metadata": {},
   "outputs": [],
   "source": [
    "# -- all the configuration and server settings options\n",
    "# -- optional: adding email settings (smtp with sendgrid free account)\n",
    "# -- changing passwords (importance of root account)"
   ]
  },
  {
   "cell_type": "code",
   "execution_count": 2,
   "id": "f9cac3bb-9310-4c6e-bf02-08752e9d70df",
   "metadata": {},
   "outputs": [],
   "source": [
    "SYFT_VERSION = \">=0.9,<0.9.2\"\n",
    "package_string = f'\"syft{SYFT_VERSION}\"'"
   ]
  },
  {
   "cell_type": "code",
   "execution_count": 3,
   "id": "d01b99d1-999f-4e85-abf3-c74484df8bef",
   "metadata": {},
   "outputs": [
    {
     "name": "stdout",
     "output_type": "stream",
     "text": [
      "✅ The installed version of syft==0.9.1b1 matches the requirement >=0.9 and the requirement <0.9.2\n"
     ]
    }
   ],
   "source": [
    "# syft absolute\n",
    "import syft as sy\n",
    "\n",
    "sy.requires(SYFT_VERSION)"
   ]
  },
  {
   "cell_type": "code",
   "execution_count": 4,
   "id": "2045933d-bc99-4483-9ca1-89c6ab166a0f",
   "metadata": {},
   "outputs": [
    {
     "name": "stdout",
     "output_type": "stream",
     "text": [
      "Starting test-datasite-1 server on 0.0.0.0:8081\n",
      "Waiting for server to start Done.\n"
     ]
    },
    {
     "data": {
      "text/html": [
       "<div class=\"alert-info\" style=\"padding:5px;\"><strong>SyftInfo</strong>: <pre class=\"alert-info\" style=\"display:inline; font-family:inherit;\">You have launched a development server at http://0.0.0.0:8081.It is intended only for local use.</pre></div><br/>"
      ],
      "text/plain": [
       "SyftInfo: You have launched a development server at http://0.0.0.0:8081.It is intended only for local use."
      ]
     },
     "metadata": {},
     "output_type": "display_data"
    }
   ],
   "source": [
    "# run a local webserver\n",
    "server = sy.orchestra.launch(name=\"test-datasite-1\", port=8081)"
   ]
  },
  {
   "cell_type": "code",
   "execution_count": 5,
   "id": "15470a8b-8760-49b5-8ab9-2947a4518075",
   "metadata": {},
   "outputs": [
    {
     "name": "stdout",
     "output_type": "stream",
     "text": [
      "Logged into <test-datasite-1: High side Datasite> as <info@openmined.org>\n"
     ]
    },
    {
     "data": {
      "text/html": [
       "<div class=\"alert-warning\" style=\"padding:5px;\"><strong>SyftWarning</strong>: <pre class=\"alert-warning\" style=\"display:inline; font-family:inherit;\">You are using a default password. Please change the password using `[your_client].account.set_password([new_password])`.</pre></div><br/>"
      ],
      "text/plain": [
       "SyftWarning: You are using a default password. Please change the password using `[your_client].account.set_password([new_password])`."
      ]
     },
     "metadata": {},
     "output_type": "display_data"
    }
   ],
   "source": [
    "client = server.login(email=\"info@openmined.org\", password=\"changethis\")"
   ]
  },
  {
   "cell_type": "markdown",
   "id": "34dc694a-f386-44f6-92dc-36c30968f128",
   "metadata": {},
   "source": [
    "# email"
   ]
  },
  {
   "cell_type": "code",
   "execution_count": 6,
   "id": "1a0738a4-7acd-4e00-b659-651bf0af8a4e",
   "metadata": {},
   "outputs": [
    {
     "name": "stdout",
     "output_type": "stream",
     "text": [
      "Unable to load ./secrets.json\n"
     ]
    }
   ],
   "source": [
    "secrets = sy.get_nb_secrets(defaults={\"smtp_token\": \"ADD_POSTMARK_TOKEN\"})"
   ]
  },
  {
   "cell_type": "code",
   "execution_count": null,
   "id": "488d9fd4-6de9-46e0-9565-3f479af534e2",
   "metadata": {},
   "outputs": [],
   "source": [
    "smtp_username, smtp_password, smtp_server, smtp_port = (\n",
    "    secrets[\"smtp_token\"],\n",
    "    secrets[\"smtp_token\"],\n",
    "    \"smtp.postmarkapp.com\",\n",
    "    \"25\",\n",
    ")\n",
    "# configure email settings\n",
    "client.api.services.settings.enable_notifications(\n",
    "    email_username=smtp_username,\n",
    "    email_password=smtp_password,\n",
    "    email_sender=\"madhava@openmined.org\",\n",
    "    email_server=smtp_server,\n",
    "    email_port=smtp_port,\n",
    ")"
   ]
  },
  {
   "cell_type": "code",
   "execution_count": 7,
   "id": "e0cbb4dc-3400-418e-ae06-fd3033e042a1",
   "metadata": {},
   "outputs": [],
   "source": [
    "ns = client.api.services.notifications.settings()"
   ]
  },
  {
   "cell_type": "code",
   "execution_count": 8,
   "id": "1ec5f362-ecc1-44f6-99ac-ea8771ceb040",
   "metadata": {},
   "outputs": [
    {
     "data": {
      "text/plain": [
       "True"
      ]
     },
     "execution_count": 8,
     "metadata": {},
     "output_type": "execute_result"
    }
   ],
   "source": [
    "ns.email_enabled"
   ]
  },
  {
   "cell_type": "code",
   "execution_count": 9,
   "id": "0731f6fb-82bc-4ee3-bce1-9988e38b842a",
   "metadata": {
    "scrolled": true
   },
   "outputs": [
    {
     "data": {
      "text/plain": [
       "{<NOTIFIERS.EMAIL: 1>: syft.service.notifier.notifier.EmailNotifier}"
      ]
     },
     "execution_count": 9,
     "metadata": {},
     "output_type": "execute_result"
    }
   ],
   "source": [
    "ns.notifiers"
   ]
  },
  {
   "cell_type": "code",
   "execution_count": 10,
   "id": "ace1e4a6-f1db-4506-8b5a-47d2940b510e",
   "metadata": {},
   "outputs": [],
   "source": [
    "s = client.api.services.settings.get()"
   ]
  },
  {
   "cell_type": "code",
   "execution_count": 11,
   "id": "c5556eee-1f9e-4eb0-b82a-ec4f523a3260",
   "metadata": {},
   "outputs": [
    {
     "data": {
      "text/html": [
       "\n",
       "<style>/* cyrillic-ext */\n",
       "@font-face {\n",
       "  font-family: \"Open Sans\";\n",
       "  font-style: normal;\n",
       "  font-weight: 300 800;\n",
       "  font-stretch: 100%;\n",
       "  src: url(https://fonts.gstatic.com/s/opensans/v35/memvYaGs126MiZpBA-UvWbX2vVnXBbObj2OVTSKmu0SC55K5gw.woff2)\n",
       "    format(\"woff2\");\n",
       "  unicode-range: U+0460-052F, U+1C80-1C88, U+20B4, U+2DE0-2DFF, U+A640-A69F,\n",
       "    U+FE2E-FE2F;\n",
       "}\n",
       "\n",
       "/* cyrillic */\n",
       "@font-face {\n",
       "  font-family: \"Open Sans\";\n",
       "  font-style: normal;\n",
       "  font-weight: 300 800;\n",
       "  font-stretch: 100%;\n",
       "  src: url(https://fonts.gstatic.com/s/opensans/v35/memvYaGs126MiZpBA-UvWbX2vVnXBbObj2OVTSumu0SC55K5gw.woff2)\n",
       "    format(\"woff2\");\n",
       "  unicode-range: U+0301, U+0400-045F, U+0490-0491, U+04B0-04B1, U+2116;\n",
       "}\n",
       "\n",
       "/* greek-ext */\n",
       "@font-face {\n",
       "  font-family: \"Open Sans\";\n",
       "  font-style: normal;\n",
       "  font-weight: 300 800;\n",
       "  font-stretch: 100%;\n",
       "  src: url(https://fonts.gstatic.com/s/opensans/v35/memvYaGs126MiZpBA-UvWbX2vVnXBbObj2OVTSOmu0SC55K5gw.woff2)\n",
       "    format(\"woff2\");\n",
       "  unicode-range: U+1F00-1FFF;\n",
       "}\n",
       "\n",
       "/* greek */\n",
       "@font-face {\n",
       "  font-family: \"Open Sans\";\n",
       "  font-style: normal;\n",
       "  font-weight: 300 800;\n",
       "  font-stretch: 100%;\n",
       "  src: url(https://fonts.gstatic.com/s/opensans/v35/memvYaGs126MiZpBA-UvWbX2vVnXBbObj2OVTSymu0SC55K5gw.woff2)\n",
       "    format(\"woff2\");\n",
       "  unicode-range: U+0370-03FF;\n",
       "}\n",
       "\n",
       "/* hebrew */\n",
       "@font-face {\n",
       "  font-family: \"Open Sans\";\n",
       "  font-style: normal;\n",
       "  font-weight: 300 800;\n",
       "  font-stretch: 100%;\n",
       "  src: url(https://fonts.gstatic.com/s/opensans/v35/memvYaGs126MiZpBA-UvWbX2vVnXBbObj2OVTS2mu0SC55K5gw.woff2)\n",
       "    format(\"woff2\");\n",
       "  unicode-range: U+0590-05FF, U+200C-2010, U+20AA, U+25CC, U+FB1D-FB4F;\n",
       "}\n",
       "\n",
       "/* vietnamese */\n",
       "@font-face {\n",
       "  font-family: \"Open Sans\";\n",
       "  font-style: normal;\n",
       "  font-weight: 300 800;\n",
       "  font-stretch: 100%;\n",
       "  src: url(https://fonts.gstatic.com/s/opensans/v35/memvYaGs126MiZpBA-UvWbX2vVnXBbObj2OVTSCmu0SC55K5gw.woff2)\n",
       "    format(\"woff2\");\n",
       "  unicode-range: U+0102-0103, U+0110-0111, U+0128-0129, U+0168-0169, U+01A0-01A1,\n",
       "    U+01AF-01B0, U+0300-0301, U+0303-0304, U+0308-0309, U+0323, U+0329,\n",
       "    U+1EA0-1EF9, U+20AB;\n",
       "}\n",
       "\n",
       "/* latin-ext */\n",
       "@font-face {\n",
       "  font-family: \"Open Sans\";\n",
       "  font-style: normal;\n",
       "  font-weight: 300 800;\n",
       "  font-stretch: 100%;\n",
       "  src: url(https://fonts.gstatic.com/s/opensans/v35/memvYaGs126MiZpBA-UvWbX2vVnXBbObj2OVTSGmu0SC55K5gw.woff2)\n",
       "    format(\"woff2\");\n",
       "  unicode-range: U+0100-02AF, U+0304, U+0308, U+0329, U+1E00-1E9F, U+1EF2-1EFF,\n",
       "    U+2020, U+20A0-20AB, U+20AD-20CF, U+2113, U+2C60-2C7F, U+A720-A7FF;\n",
       "}\n",
       "\n",
       "/* latin */\n",
       "@font-face {\n",
       "  font-family: \"Open Sans\";\n",
       "  font-style: normal;\n",
       "  font-weight: 300 800;\n",
       "  font-stretch: 100%;\n",
       "  src: url(https://fonts.gstatic.com/s/opensans/v35/memvYaGs126MiZpBA-UvWbX2vVnXBbObj2OVTS-mu0SC55I.woff2)\n",
       "    format(\"woff2\");\n",
       "  unicode-range: U+0000-00FF, U+0131, U+0152-0153, U+02BB-02BC, U+02C6, U+02DA,\n",
       "    U+02DC, U+0304, U+0308, U+0329, U+2000-206F, U+2074, U+20AC, U+2122, U+2191,\n",
       "    U+2193, U+2212, U+2215, U+FEFF, U+FFFD;\n",
       "}\n",
       "</style>\n",
       "<style>.itables {\n",
       "  font-family: \"Consolas\", monospace, sans-serif;\n",
       "}\n",
       "</style>\n",
       "\n",
       "<script>\n",
       "function addStyleSheet(fileName) {\n",
       "  var head = document.head;\n",
       "  var link = document.createElement(\"link\");\n",
       "\n",
       "  link.type = \"text/css\";\n",
       "  link.rel = \"stylesheet\";\n",
       "  link.href = fileName;\n",
       "\n",
       "  head.appendChild(link);\n",
       "}\n",
       "\n",
       "addStyleSheet(\"https://fonts.googleapis.com/css2?family=Karla:ital,wght@0,200;0,300;0,400;0,500;0,600;0,700;0,800;1,200;1,300;1,400;1,500;1,600;1,700;1,800&family=Open+Sans:ital,wght@0,300..800;1,300..800&display=swap\")\n",
       "addStyleSheet(\"https://fonts.cdnfonts.com/css/dejavu-sans-mono\")\n",
       "</script>\n",
       "\n",
       "\n",
       "<style>\n",
       "  body[data-jp-theme-light=\"false\"],\n",
       "body.vscode-dark {\n",
       "  --primary-color: #111111;\n",
       "  --secondary-color: #212121;\n",
       "  --tertiary-color: #cfcdd6;\n",
       "  --button-color: #111111;\n",
       "  --colors-black: #ffffff;\n",
       "  --surface-color: #fff;\n",
       "  --text-color: #ffffff;\n",
       "}\n",
       "\n",
       "body {\n",
       "  --primary-color: #ffffff;\n",
       "  --secondary-color: #f5f5f5;\n",
       "  --tertiary-color: #000000de;\n",
       "  --button-color: #d1d5db;\n",
       "  --colors-black: #17161d;\n",
       "  --surface-color: #464158;\n",
       "  --text-color: #2e2b3b;\n",
       "}\n",
       "\n",
       ".header-1 {\n",
       "  font-style: normal;\n",
       "  font-weight: 600;\n",
       "  font-size: 2.0736em;\n",
       "  line-height: 100%;\n",
       "  leading-trim: both;\n",
       "  text-edge: cap;\n",
       "  color: var(--colors-black);\n",
       "}\n",
       "\n",
       ".header-2 {\n",
       "  font-style: normal;\n",
       "  font-weight: 600;\n",
       "  font-size: 1.728em;\n",
       "  line-height: 100%;\n",
       "  leading-trim: both;\n",
       "  text-edge: cap;\n",
       "  color: var(--colors-black);\n",
       "}\n",
       "\n",
       ".header-3 {\n",
       "  font-style: normal;\n",
       "  font-weight: 600;\n",
       "  font-size: 1.44em;\n",
       "  line-height: 100%;\n",
       "  leading-trim: both;\n",
       "  text-edge: cap;\n",
       "  color: var(--tertiary-color);\n",
       "}\n",
       "\n",
       ".header-4 {\n",
       "  font-style: normal;\n",
       "  font-weight: 600;\n",
       "  font-size: 1.2em;\n",
       "  line-height: 100%;\n",
       "  leading-trim: both;\n",
       "  text-edge: cap;\n",
       "  color: var(--colors-black);\n",
       "}\n",
       "\n",
       ".paragraph {\n",
       "  font-style: normal;\n",
       "  font-weight: 400;\n",
       "  font-size: 14px;\n",
       "  line-height: 100%;\n",
       "  leading-trim: both;\n",
       "  text-edge: cap;\n",
       "  color: var(--text-color);\n",
       "}\n",
       "\n",
       ".paragraph-sm {\n",
       "  font-family: \"Roboto\";\n",
       "  font-style: normal;\n",
       "  font-weight: 400;\n",
       "  font-size: 11.62px;\n",
       "  line-height: 100%;\n",
       "  leading-trim: both;\n",
       "  text-edge: cap;\n",
       "  color: var(--text-color);\n",
       "}\n",
       "\n",
       ".code-text {\n",
       "  font-family: \"Consolas\";\n",
       "  font-style: normal;\n",
       "  font-weight: 400;\n",
       "  font-size: 13px;\n",
       "  line-height: 130%;\n",
       "  leading-trim: both;\n",
       "  text-edge: cap;\n",
       "  color: var(--text-color);\n",
       "}\n",
       "\n",
       ".numbering-entry {\n",
       "  display: none;\n",
       "}\n",
       "\n",
       "/* Tooltip container */\n",
       ".tooltip {\n",
       "  position: relative;\n",
       "  display: inline-block;\n",
       "  border-bottom: 1px dotted black;\n",
       "  /* If you want dots under the hoverable text */\n",
       "}\n",
       "\n",
       "/* Tooltip text */\n",
       ".tooltip .tooltiptext {\n",
       "  visibility: hidden;\n",
       "  width: 120px;\n",
       "  background-color: black;\n",
       "  color: #fff;\n",
       "  text-align: center;\n",
       "  padding: 5px 0;\n",
       "  border-radius: 6px;\n",
       "\n",
       "  /* Position the tooltip text - see examples below! */\n",
       "  position: absolute;\n",
       "  z-index: 1;\n",
       "}\n",
       "\n",
       ".repr-cell {\n",
       "  padding-top: 20px;\n",
       "}\n",
       "\n",
       ".text-bold {\n",
       "  font-weight: bold;\n",
       "}\n",
       "\n",
       ".pr-8 {\n",
       "  padding-right: 8px;\n",
       "}\n",
       "\n",
       ".pt-8 {\n",
       "  padding-top: 8px;\n",
       "}\n",
       "\n",
       ".pl-8 {\n",
       "  padding-left: 8px;\n",
       "}\n",
       "\n",
       ".pb-8 {\n",
       "  padding-bottom: 8px;\n",
       "}\n",
       "\n",
       ".py-25 {\n",
       "  padding-top: 25px;\n",
       "  padding-bottom: 25px;\n",
       "}\n",
       "\n",
       ".flex {\n",
       "  display: flex;\n",
       "}\n",
       "\n",
       ".gap-10 {\n",
       "  gap: 10px;\n",
       "}\n",
       "\n",
       ".items-center {\n",
       "  align-items: center;\n",
       "}\n",
       "\n",
       ".folder-icon {\n",
       "  color: var(--tertiary-color);\n",
       "}\n",
       "\n",
       ".search-input {\n",
       "  display: flex;\n",
       "  flex-direction: row;\n",
       "  align-items: center;\n",
       "  padding: 8px 12px;\n",
       "  width: 343px;\n",
       "  height: 24px;\n",
       "  /* Lt On Surface/Low */\n",
       "  background-color: var(--secondary-color);\n",
       "  border-radius: 30px;\n",
       "\n",
       "  /* Lt On Surface/Highest */\n",
       "  color: var(--tertiary-color);\n",
       "  border: none;\n",
       "  /* Inside auto layout */\n",
       "  flex: none;\n",
       "  order: 0;\n",
       "  flex-grow: 0;\n",
       "}\n",
       "\n",
       ".search-input:focus {\n",
       "  outline: none;\n",
       "}\n",
       "\n",
       ".search-input:focus::placeholder,\n",
       ".search-input::placeholder {\n",
       "  /* Chrome, Firefox, Opera, Safari 10.1+ */\n",
       "  color: var(--tertiary-color);\n",
       "  opacity: 1;\n",
       "  /* Firefox */\n",
       "}\n",
       "\n",
       ".search-button {\n",
       "  /* Search */\n",
       "  leading-trim: both;\n",
       "  text-edge: cap;\n",
       "  display: flex;\n",
       "  align-items: center;\n",
       "  text-align: center;\n",
       "\n",
       "  /* Primary/On Light */\n",
       "  background-color: var(--button-color);\n",
       "  color: var(--tertiary-color);\n",
       "\n",
       "  border-radius: 30px;\n",
       "  border-color: var(--secondary-color);\n",
       "  border-style: solid;\n",
       "  box-shadow:\n",
       "    rgba(60, 64, 67, 0.3) 0px 1px 2px 0px,\n",
       "    rgba(60, 64, 67, 0.15) 0px 1px 3px 1px;\n",
       "  cursor: pointer;\n",
       "  /* Inside auto layout */\n",
       "  flex: none;\n",
       "  order: 1;\n",
       "  flex-grow: 0;\n",
       "}\n",
       "\n",
       ".grid-index-cells {\n",
       "  grid-column: span 1;\n",
       "  /* tmp fix to make left col stand out (fix with font-family) */\n",
       "  font-weight: 600;\n",
       "  background-color: var(--secondary-color) !important;\n",
       "  color: var(--tertiary-color);\n",
       "}\n",
       "\n",
       ".center-content-cell {\n",
       "  margin: auto;\n",
       "}\n",
       "\n",
       ".grid-header {\n",
       "  /* Auto layout */\n",
       "  display: flex;\n",
       "  flex-direction: column;\n",
       "  align-items: center;\n",
       "  padding: 6px 4px;\n",
       "\n",
       "  resize: horizontal;\n",
       "  /* Lt On Surface/Surface */\n",
       "  /* Lt On Surface/High */\n",
       "  border: 1px solid #cfcdd6;\n",
       "  /* tmp fix to make header stand out (fix with font-family) */\n",
       "  font-weight: 600;\n",
       "  background-color: var(--secondary-color);\n",
       "  color: var(--tertiary-color);\n",
       "}\n",
       "\n",
       ".grid-row {\n",
       "  display: flex;\n",
       "  flex-direction: column;\n",
       "  align-items: flex-start;\n",
       "  padding: 6px 4px;\n",
       "  overflow: hidden;\n",
       "  border: 1px solid #cfcdd6;\n",
       "  background-color: var(--primary-color);\n",
       "  color: var(--tertiary-color);\n",
       "}\n",
       "\n",
       ".syncstate-col-footer {\n",
       "  font-family: \"DejaVu Sans Mono\", \"Open Sans\";\n",
       "  font-size: 12px;\n",
       "  font-weight: 400;\n",
       "  line-height: 16.8px;\n",
       "  text-align: left;\n",
       "  color: #5e5a72;\n",
       "}\n",
       "\n",
       ".syncstate-description {\n",
       "  font-family: Open Sans;\n",
       "  font-size: 14px;\n",
       "  font-weight: 600;\n",
       "  line-height: 19.6px;\n",
       "  text-align: left;\n",
       "  white-space: nowrap;\n",
       "  flex-grow: 1;\n",
       "}\n",
       "\n",
       ".widget-header2 {\n",
       "  display: flex;\n",
       "  gap: 8px;\n",
       "  justify-content: start;\n",
       "  width: 100%;\n",
       "  overflow: hidden;\n",
       "  align-items: center;\n",
       "}\n",
       "\n",
       ".widget-header2-2 {\n",
       "  display: flex;\n",
       "  gap: 8px;\n",
       "  justify-content: start;\n",
       "  align-items: center;\n",
       "}\n",
       "\n",
       ".jobs-title {\n",
       "  font-family:\n",
       "    Open Sans,\n",
       "    sans-serif;\n",
       "  font-size: 18px;\n",
       "  font-weight: 600;\n",
       "  line-height: 25.2px;\n",
       "  text-align: left;\n",
       "  color: #1f567a;\n",
       "}\n",
       "\n",
       ".diff-state-orange-text {\n",
       "  color: #b8520a;\n",
       "}\n",
       "\n",
       ".diff-state-no-obj {\n",
       "  font-family: \"DejaVu Sans Mono\", \"Open Sans\";\n",
       "  font-size: 12px;\n",
       "  font-weight: 400;\n",
       "  line-height: 16.8px;\n",
       "  text-align: left;\n",
       "  color: #5e5a72;\n",
       "}\n",
       "\n",
       ".diff-state-intro {\n",
       "  font-family: Open Sans;\n",
       "  font-size: 14px;\n",
       "  font-weight: 400;\n",
       "  line-height: 19.6px;\n",
       "  text-align: left;\n",
       "  color: #b4b0bf;\n",
       "}\n",
       "\n",
       ".diff-state-header {\n",
       "  font-family: Open Sans;\n",
       "  font-size: 22px;\n",
       "  font-weight: 600;\n",
       "  line-height: 30.8px;\n",
       "  text-align: left;\n",
       "  color: #353243;\n",
       "  display: flex;\n",
       "  gap: 8px;\n",
       "}\n",
       "\n",
       ".diff-state-sub-header {\n",
       "  font-family: Open Sans;\n",
       "  font-size: 14px;\n",
       "  font-weight: 400;\n",
       "  line-height: 19.6px;\n",
       "  text-align: left;\n",
       "  color: #5e5a72;\n",
       "}\n",
       "\n",
       ".badge {\n",
       "  /* code-text; */\n",
       "  border-radius: 30px;\n",
       "  padding: 6px;\n",
       "  white-space: nowrap;\n",
       "  overflow: hidden;\n",
       "  line-height: 1.2;\n",
       "  font-family: monospace;\n",
       "}\n",
       "\n",
       ".label {\n",
       "  /* code-text; */\n",
       "  border-radius: 4px;\n",
       "  padding: 6px 4px;\n",
       "  white-space: nowrap;\n",
       "  overflow: hidden;\n",
       "  line-height: 1.2;\n",
       "  font-family: monospace;\n",
       "}\n",
       "\n",
       ".label-light-purple {\n",
       "  /* label; */\n",
       "  background-color: #c9cfe8;\n",
       "  color: #373b7b;\n",
       "}\n",
       "\n",
       ".label-light-blue {\n",
       "  /* label; */\n",
       "  background-color: #c2def0;\n",
       "  color: #1f567a;\n",
       "}\n",
       "\n",
       ".label-orange {\n",
       "  /* badge; */\n",
       "  background-color: #fee9cd;\n",
       "  color: #b8520a;\n",
       "}\n",
       "\n",
       ".label-gray {\n",
       "  /* badge; */\n",
       "  background-color: #ecebef;\n",
       "  color: #353243;\n",
       "}\n",
       "\n",
       ".label-green {\n",
       "  /* badge; */\n",
       "  background-color: #d5f1d5;\n",
       "  color: #256b24;\n",
       "}\n",
       "\n",
       ".label-red {\n",
       "  /* label; */\n",
       "  background-color: #f2d9de;\n",
       "  color: #9b2737;\n",
       "}\n",
       "\n",
       ".badge-blue {\n",
       "  /* badge; */\n",
       "  background-color: #c2def0;\n",
       "  color: #1f567a;\n",
       "}\n",
       "\n",
       ".badge-purple {\n",
       "  /* badge; */\n",
       "  background-color: #c9cfe8;\n",
       "  color: #373b7b;\n",
       "}\n",
       "\n",
       ".badge-green {\n",
       "  background-color: #d5f1d5;\n",
       "  color: #256b24;\n",
       "}\n",
       "\n",
       ".badge-red {\n",
       "  /* badge; */\n",
       "  background-color: #f2d9de;\n",
       "  color: #9b2737;\n",
       "}\n",
       "\n",
       ".badge-gray {\n",
       "  /* badge; */\n",
       "  background-color: #ecebef;\n",
       "  color: #2e2b3b;\n",
       "}\n",
       "\n",
       ".paginationContainer {\n",
       "  width: 100%;\n",
       "  /*height: 30px;*/\n",
       "  display: flex;\n",
       "  justify-content: center;\n",
       "  gap: 8px;\n",
       "  padding: 5px;\n",
       "  color: var(--tertiary-color);\n",
       "}\n",
       "\n",
       ".widget-label-basic {\n",
       "  display: flex;\n",
       "}\n",
       "\n",
       ".widget-label-basic input[type=\"checkbox\"][disabled] {\n",
       "  filter: sepia(0.3) hue-rotate(67deg) saturate(3);\n",
       "}\n",
       "\n",
       ".page {\n",
       "  color: black;\n",
       "  font-weight: bold;\n",
       "  color: var(--tertiary-color);\n",
       "}\n",
       "\n",
       ".page:hover {\n",
       "  color: #38bdf8;\n",
       "  cursor: pointer;\n",
       "}\n",
       "\n",
       ".clipboard:hover {\n",
       "  cursor: pointer;\n",
       "  color: var(--tertiary-color);\n",
       "}\n",
       "\n",
       ".rendered_html tbody tr:nth-child(odd) {\n",
       "  background: transparent;\n",
       "}\n",
       "\n",
       ".search-field {\n",
       "  display: flex;\n",
       "  align-items: center;\n",
       "  border-radius: 30px;\n",
       "  background-color: var(--secondary-color);\n",
       "}\n",
       "\n",
       ".syft-dropdown {\n",
       "  margin: 5px;\n",
       "  margin-left: 5px;\n",
       "  position: relative;\n",
       "  display: inline-block;\n",
       "  text-align: center;\n",
       "  background-color: var(--button-color);\n",
       "  min-width: 100px;\n",
       "  padding: 2px;\n",
       "  border-radius: 30px;\n",
       "}\n",
       "\n",
       ".syft-dropdown:hover {\n",
       "  cursor: pointer;\n",
       "}\n",
       "\n",
       ".syft-dropdown-content {\n",
       "  margin-top: 26px;\n",
       "  display: none;\n",
       "  position: absolute;\n",
       "  min-width: 100px;\n",
       "  box-shadow: 0px 8px 16px 0px rgba(0, 0, 0, 0.2);\n",
       "  padding: 12px 6px;\n",
       "  z-index: 1;\n",
       "  background-color: var(--primary-color);\n",
       "  color: var(--tertiary-color);\n",
       "}\n",
       "\n",
       ".dd-options {\n",
       "  padding-top: 4px;\n",
       "}\n",
       "\n",
       ".dd-options:first-of-type {\n",
       "  padding-top: 0px;\n",
       "}\n",
       "\n",
       ".dd-options:hover {\n",
       "  cursor: pointer;\n",
       "  background: #d1d5db;\n",
       "}\n",
       "\n",
       ".arrow {\n",
       "  border: solid black;\n",
       "  border-width: 0 3px 3px 0;\n",
       "  display: inline-block;\n",
       "  padding: 3px;\n",
       "}\n",
       "\n",
       ".down {\n",
       "  transform: rotate(45deg);\n",
       "  -webkit-transform: rotate(45deg);\n",
       "}\n",
       "\n",
       ".syft-widget ul {\n",
       "  list-style-type: none;\n",
       "  margin: 0;\n",
       "  padding: 0;\n",
       "  overflow: hidden;\n",
       "}\n",
       "\n",
       ".syft-widget li {\n",
       "  float: left;\n",
       "  border-bottom: solid;\n",
       "  border-bottom-color: #cfcdd6;\n",
       "}\n",
       "\n",
       ".syft-widget li a {\n",
       "  display: block;\n",
       "  text-align: center;\n",
       "  padding: 14px 16px;\n",
       "  color: #cfcdd6;\n",
       "}\n",
       "\n",
       ".log-tab-header {\n",
       "  border-bottom: solid 2px #ecebef;\n",
       "  padding: 4px 16px;\n",
       "}\n",
       "\n",
       ".active-border {\n",
       "  border-bottom: solid 2px #1f567a;\n",
       "  font-weight: 700;\n",
       "}\n",
       "\n",
       ".active {\n",
       "  color: #1f567a;\n",
       "}\n",
       "\n",
       ".syft-widget li a:hover {\n",
       "  background-color: #c2def0;\n",
       "}\n",
       "\n",
       ".syft-user_code,\n",
       ".syft-project,\n",
       ".syft-project-create,\n",
       ".syft-settings,\n",
       ".syft-dataset,\n",
       ".syft-asset,\n",
       ".syft-contributor,\n",
       ".syft-request,\n",
       ".syft-syncstate,\n",
       ".job-info {\n",
       "  color: var(--surface-color);\n",
       "}\n",
       "\n",
       ".syft-dataset h1,\n",
       ".syft-dataset h2,\n",
       ".syft-dataset h3,\n",
       ".syft-dataset p,\n",
       ".syft-asset h3,\n",
       ".syft-asset p,\n",
       ".syft-syncstate h3,\n",
       ".syft-syncstate p {\n",
       "  font-family: \"Open Sans\";\n",
       "}\n",
       "\n",
       ".diff-container {\n",
       "  border: 0.5px solid #b4b0bf;\n",
       "}\n",
       "\n",
       ".syft-container {\n",
       "  padding: 5px;\n",
       "  font-family: \"Open Sans\";\n",
       "}\n",
       "\n",
       ".syft-alert-info {\n",
       "  color: #1f567a;\n",
       "  background-color: #c2def0;\n",
       "  border-radius: 4px;\n",
       "  padding: 5px;\n",
       "  padding: 13px 10px;\n",
       "}\n",
       "\n",
       ".syft-code-block {\n",
       "  background-color: #f7f7f7;\n",
       "  border: 1px solid #cfcfcf;\n",
       "  padding: 0px 2px;\n",
       "}\n",
       "\n",
       ".syft-space {\n",
       "  margin-top: 1em;\n",
       "}\n",
       "\n",
       "</style>\n",
       "\n",
       "<style>\n",
       ".syft-alert-container {\n",
       "    padding: 4px;\n",
       "    display: flex;\n",
       "    justify-content: center;\n",
       "}\n",
       "\n",
       ".syft-alert-info {\n",
       "    display: flex;\n",
       "    align-items: center;\n",
       "    width: 100%;\n",
       "    padding: 8px 10px;\n",
       "    gap: 8px;\n",
       "    border-radius: 4px;\n",
       "    background: #C2DEF0;\n",
       "    color: #1F567A;\n",
       "    line-height: 1.4;\n",
       "    font-size: 12px;\n",
       "    font-family: 'Open Sans';\n",
       "}\n",
       "</style>\n",
       "<style>\n",
       ".copy-container {\n",
       "  cursor: pointer;\n",
       "  border-radius: 3px;\n",
       "  padding: 0px 3px;\n",
       "  display: inline-block;\n",
       "  transition: background-color 0.3s;\n",
       "  user-select: none;\n",
       "  color: #B4B0BF;\n",
       "  overflow: hidden;\n",
       "  white-space: nowrap;\n",
       "  vertical-align: middle;\n",
       "}\n",
       "\n",
       ".copy-container:hover {\n",
       "  background-color: #f5f5f5;\n",
       "}\n",
       "\n",
       ".copy-container:active {\n",
       "  background-color: #ebebeb;\n",
       "}\n",
       "\n",
       ".copy-text-display {\n",
       "  display: inline-block;\n",
       "  max-width: 50px;\n",
       "  white-space: nowrap;\n",
       "  overflow: hidden;\n",
       "  text-overflow: ellipsis;\n",
       "  vertical-align: bottom;\n",
       "}\n",
       "</style>\n",
       " \n",
       "            \n",
       "            <div class=\"syft-settings\">\n",
       "                <h3>Settings</h3>\n",
       "                <p><strong>Id: </strong>e9dfb1c230d6493cb98e787fad07049a</p>\n",
       "                <p><strong>Name: </strong>test-datasite-1</p>\n",
       "                <p><strong>Organization: </strong>OpenMined</p>\n",
       "                <p><strong>Description: </strong>This is the default description for a Datasite Server.</p>\n",
       "                <p><strong>Deployed on: </strong>08/02/2024</p>\n",
       "                <p><strong>Signup enabled: </strong>False</p>\n",
       "                <p><strong>Notifications enabled: </strong>Disabled</p>\n",
       "                <p><strong>Admin email: </strong>info@openmined.org</p>\n",
       "            </div>\n",
       "\n",
       "             "
      ],
      "text/markdown": [
       "```python\n",
       "class ServerSettings:\n",
       "  id: str = e9dfb1c230d6493cb98e787fad07049a\n",
       "  name: str = \"test-datasite-1\"\n",
       "  organization: str = \"OpenMined\"\n",
       "  description: str = \"This is the default description for a Datasite Server.\"\n",
       "  deployed_on: str = \"08/02/2024\"\n",
       "  signup_enabled: str = False\n",
       "  admin_email: str = \"info@openmined.org\"\n",
       "\n",
       "```"
      ],
      "text/plain": [
       "syft.service.settings.settings.ServerSettings"
      ]
     },
     "execution_count": 11,
     "metadata": {},
     "output_type": "execute_result"
    }
   ],
   "source": [
    "s"
   ]
  },
  {
   "cell_type": "code",
   "execution_count": 12,
   "id": "f81fd6f7-6e61-48d6-bf0c-e22718a109fb",
   "metadata": {},
   "outputs": [
    {
     "data": {
      "text/html": [
       "<div class=\"alert-danger\" style=\"padding:5px;\"><strong>SyftError</strong>: <pre class=\"alert-danger\" style=\"display:inline; font-family:inherit;\">Duplication Key Error for syft.service.settings.settings.ServerSettings.\n",
       "The fields that should be unique are `id`.</pre></div><br/>"
      ],
      "text/plain": [
       "SyftError: Duplication Key Error for syft.service.settings.settings.ServerSettings.\n",
       "The fields that should be unique are `id`."
      ]
     },
     "execution_count": 12,
     "metadata": {},
     "output_type": "execute_result"
    }
   ],
   "source": [
    "client.api.services.settings.set(s)"
   ]
  },
  {
   "cell_type": "code",
   "execution_count": 13,
   "id": "0ad33f86-3576-4dd7-9cac-5ccf7fefb943",
   "metadata": {},
   "outputs": [
    {
     "data": {
      "text/html": [
       "<div class=\"alert-success\" style=\"padding:5px;\"><strong>SyftSuccess</strong>: <pre class=\"alert-success\" style=\"display:inline; font-family:inherit;\">Settings updated successfully. You must call .refresh() to sync your client with the changes.</pre></div><br/>"
      ],
      "text/plain": [
       "SyftSuccess: Settings updated successfully. You must call <client>.refresh() to sync your client with the changes."
      ]
     },
     "execution_count": 13,
     "metadata": {},
     "output_type": "execute_result"
    }
   ],
   "source": [
    "client.api.services.settings.update(\n",
    "    name=\"a\",\n",
    "    organization=\"b\",\n",
    "    description=\"c\",\n",
    "    admin_email=\"info2@openmined.org\",\n",
    "    association_request_auto_approval=True,\n",
    "    eager_execution_enabled=False,\n",
    "    notifications_enabled=True,\n",
    ")"
   ]
  },
  {
   "cell_type": "code",
   "execution_count": 14,
   "id": "82eac269-4f51-45a8-8480-8a2e3a382862",
   "metadata": {},
   "outputs": [],
   "source": [
    "md = \"\"\"\n",
    "    An h1 header\n",
    "============\n",
    "\n",
    "Paragraphs are separated by a blank line.\n",
    "\n",
    "2nd paragraph. *Italic*, **bold**, and `monospace`. Itemized lists\n",
    "look like:\n",
    "\n",
    "  * this one\n",
    "  * that one\n",
    "  * the other one\n",
    "\n",
    "Note that --- not considering the asterisk --- the actual text\n",
    "content starts at 4-columns in.\n",
    "\n",
    "> Block quotes are\n",
    "> written like so.\n",
    ">\n",
    "> They can span multiple paragraphs,\n",
    "> if you like.\n",
    "\n",
    "Use 3 dashes for an em-dash. Use 2 dashes for ranges (ex., \"it's all\n",
    "in chapters 12--14\"). Three dots ... will be converted to an ellipsis.\n",
    "Unicode is supported. ☺\n",
    "\"\"\""
   ]
  },
  {
   "cell_type": "code",
   "execution_count": 15,
   "id": "8389d1a4-027e-4282-ad91-274c34e0011c",
   "metadata": {},
   "outputs": [
    {
     "data": {
      "text/html": [
       "\n",
       "        <style>\n",
       "            .jp-RenderedHTMLCommon pre {\n",
       "                background-color: #282c34 !important;\n",
       "                padding: 10px 10px 10px;\n",
       "            }\n",
       "            .jp-RenderedHTMLCommon pre code {\n",
       "                background-color: #282c34 !important;  /* Set the background color for the text in the code block */\n",
       "                color: #abb2bf !important;  /* Set text color */\n",
       "            }\n",
       "        </style>\n",
       "        "
      ],
      "text/plain": [
       "<IPython.core.display.HTML object>"
      ]
     },
     "metadata": {},
     "output_type": "display_data"
    },
    {
     "data": {
      "text/markdown": [
       "\n",
       "    An h1 header\n",
       "============\n",
       "\n",
       "Paragraphs are separated by a blank line.\n",
       "\n",
       "2nd paragraph. *Italic*, **bold**, and `monospace`. Itemized lists\n",
       "look like:\n",
       "\n",
       "  * this one\n",
       "  * that one\n",
       "  * the other one\n",
       "\n",
       "Note that --- not considering the asterisk --- the actual text\n",
       "content starts at 4-columns in.\n",
       "\n",
       "&gt; Block quotes are\n",
       "&gt; written like so.\n",
       "&gt;\n",
       "&gt; They can span multiple paragraphs,\n",
       "&gt; if you like.\n",
       "\n",
       "Use 3 dashes for an em-dash. Use 2 dashes for ranges (ex., \"it's all\n",
       "in chapters 12--14\"). Three dots ... will be converted to an ellipsis.\n",
       "Unicode is supported. ☺\n"
      ],
      "text/plain": [
       "syft.util.misc_objs.MarkdownDescription"
      ]
     },
     "execution_count": 15,
     "metadata": {},
     "output_type": "execute_result"
    }
   ],
   "source": [
    "client.api.services.settings.welcome_preview(markdown=md)"
   ]
  },
  {
   "cell_type": "code",
   "execution_count": 16,
   "id": "53d16bdf-bcfa-4ca5-8b98-5124f480e81b",
   "metadata": {},
   "outputs": [
    {
     "data": {
      "text/html": [
       "<div class=\"alert-success\" style=\"padding:5px;\"><strong>SyftSuccess</strong>: <pre class=\"alert-success\" style=\"display:inline; font-family:inherit;\">Welcome Markdown was successfully updated!</pre></div><br/>"
      ],
      "text/plain": [
       "SyftSuccess: Welcome Markdown was successfully updated!"
      ]
     },
     "execution_count": 16,
     "metadata": {},
     "output_type": "execute_result"
    }
   ],
   "source": [
    "client.api.services.settings.welcome_customize(markdown=md)"
   ]
  },
  {
   "cell_type": "code",
   "execution_count": 17,
   "id": "d267ccf1-9cb0-4b02-80fe-2608d6c55549",
   "metadata": {},
   "outputs": [
    {
     "data": {
      "text/html": [
       "\n",
       "        <style>\n",
       "            .jp-RenderedHTMLCommon pre {\n",
       "                background-color: #282c34 !important;\n",
       "                padding: 10px 10px 10px;\n",
       "            }\n",
       "            .jp-RenderedHTMLCommon pre code {\n",
       "                background-color: #282c34 !important;  /* Set the background color for the text in the code block */\n",
       "                color: #abb2bf !important;  /* Set text color */\n",
       "            }\n",
       "        </style>\n",
       "        "
      ],
      "text/plain": [
       "<IPython.core.display.HTML object>"
      ]
     },
     "metadata": {},
     "output_type": "display_data"
    },
    {
     "data": {
      "text/markdown": [
       "\n",
       "    An h1 header\n",
       "============\n",
       "\n",
       "Paragraphs are separated by a blank line.\n",
       "\n",
       "2nd paragraph. *Italic*, **bold**, and `monospace`. Itemized lists\n",
       "look like:\n",
       "\n",
       "  * this one\n",
       "  * that one\n",
       "  * the other one\n",
       "\n",
       "Note that --- not considering the asterisk --- the actual text\n",
       "content starts at 4-columns in.\n",
       "\n",
       "&gt; Block quotes are\n",
       "&gt; written like so.\n",
       "&gt;\n",
       "&gt; They can span multiple paragraphs,\n",
       "&gt; if you like.\n",
       "\n",
       "Use 3 dashes for an em-dash. Use 2 dashes for ranges (ex., \"it's all\n",
       "in chapters 12--14\"). Three dots ... will be converted to an ellipsis.\n",
       "Unicode is supported. ☺\n"
      ],
      "text/plain": [
       "syft.util.misc_objs.MarkdownDescription"
      ]
     },
     "execution_count": 17,
     "metadata": {},
     "output_type": "execute_result"
    }
   ],
   "source": [
    "client.api.services.settings.welcome_show()"
   ]
  },
  {
   "cell_type": "code",
   "execution_count": 18,
   "id": "bf5318ef-0aa5-4bb5-b366-3f5fc06f00b6",
   "metadata": {},
   "outputs": [
    {
     "name": "stdout",
     "output_type": "stream",
     "text": [
      "Logged into <test-datasite-1: High-side Datasite> as GUEST\n"
     ]
    },
    {
     "data": {
      "text/html": [
       "<pre><code>An h1 header\n",
       "</code></pre>\n",
       "<p>============</p>\n",
       "<p>Paragraphs are separated by a blank line.</p>\n",
       "<p>2nd paragraph. <em>Italic</em>, <strong>bold</strong>, and <code>monospace</code>. Itemized lists\n",
       "look like:</p>\n",
       "<ul>\n",
       "<li>this one</li>\n",
       "<li>that one</li>\n",
       "<li>the other one</li>\n",
       "</ul>\n",
       "<p>Note that --- not considering the asterisk --- the actual text\n",
       "content starts at 4-columns in.</p>\n",
       "<blockquote>\n",
       "<p>Block quotes are\n",
       "written like so.</p>\n",
       "<p>They can span multiple paragraphs,\n",
       "if you like.</p>\n",
       "</blockquote>\n",
       "<p>Use 3 dashes for an em-dash. Use 2 dashes for ranges (ex., \"it's all\n",
       "in chapters 12--14\"). Three dots ... will be converted to an ellipsis.\n",
       "Unicode is supported. ☺</p>"
      ],
      "text/plain": [
       "<DatasiteClient: test-datasite-1>"
      ]
     },
     "execution_count": 18,
     "metadata": {},
     "output_type": "execute_result"
    }
   ],
   "source": [
    "guest_client = client.login_as_guest()\n",
    "guest_client"
   ]
  },
  {
   "cell_type": "code",
   "execution_count": 19,
   "id": "1abfe0af-9566-4f78-892e-0b7397ec081c",
   "metadata": {},
   "outputs": [
    {
     "name": "stderr",
     "output_type": "stream",
     "text": [
      "ERROR:syft.server.routes:Register Error: You don't have permission to create an account on the datasite: a. Please contact the Datasite Owner.. user={'id': <UID: f90f2ed3a65b4b93bb510b6bce1f03f1>, 'created_date': None, 'updated_date': None, 'deleted_date': None, 'email': 'a@b.com', 'name': 'a', 'role': None, 'password': 'c', 'password_verify': 'c', 'verify_key': None, 'institution': None, 'website': None, 'created_by': {'signing_key': <nacl.signing.SigningKey object at 0x17b77bec0>}, 'mock_execution_permission': False}\n"
     ]
    },
    {
     "data": {
      "text/html": [
       "<div class=\"alert-danger\" style=\"padding:5px;\"><strong>SyftError</strong>: <pre class=\"alert-danger\" style=\"display:inline; font-family:inherit;\">You don't have permission to create an account on the datasite: a. Please contact the Datasite Owner.</pre></div><br/>"
      ],
      "text/plain": [
       "SyftError: You don't have permission to create an account on the datasite: a. Please contact the Datasite Owner."
      ]
     },
     "execution_count": 19,
     "metadata": {},
     "output_type": "execute_result"
    }
   ],
   "source": [
    "guest_client.register(name=\"a\", email=\"a@b.com\", password=\"c\", password_verify=\"c\")"
   ]
  },
  {
   "cell_type": "code",
   "execution_count": 20,
   "id": "a19d34bd-0033-4c90-9ef7-c88fe4d87dad",
   "metadata": {},
   "outputs": [
    {
     "data": {
      "text/html": [
       "<div class=\"alert-success\" style=\"padding:5px;\"><strong>SyftSuccess</strong>: <pre class=\"alert-success\" style=\"display:inline; font-family:inherit;\">Registration feature successfully enabled</pre></div><br/>"
      ],
      "text/plain": [
       "SyftSuccess: Registration feature successfully enabled"
      ]
     },
     "execution_count": 20,
     "metadata": {},
     "output_type": "execute_result"
    }
   ],
   "source": [
    "client.api.services.settings.allow_guest_signup(enable=True)"
   ]
  },
  {
   "cell_type": "code",
   "execution_count": 21,
   "id": "bd7e84e7-8bd5-42cc-b5d0-86efbd6a56eb",
   "metadata": {},
   "outputs": [
    {
     "ename": "ConnectionError",
     "evalue": "Failed to fetch http://localhost:8081/api/v2/register. Response returned with code 500",
     "output_type": "error",
     "traceback": [
      "\u001b[0;31m---------------------------------------------------------------------------\u001b[0m",
      "\u001b[0;31mConnectionError\u001b[0m                           Traceback (most recent call last)",
      "Cell \u001b[0;32mIn[21], line 1\u001b[0m\n\u001b[0;32m----> 1\u001b[0m \u001b[43mguest_client\u001b[49m\u001b[38;5;241;43m.\u001b[39;49m\u001b[43mregister\u001b[49m\u001b[43m(\u001b[49m\u001b[43mname\u001b[49m\u001b[38;5;241;43m=\u001b[39;49m\u001b[38;5;124;43m\"\u001b[39;49m\u001b[38;5;124;43ma\u001b[39;49m\u001b[38;5;124;43m\"\u001b[39;49m\u001b[43m,\u001b[49m\u001b[43m \u001b[49m\u001b[43memail\u001b[49m\u001b[38;5;241;43m=\u001b[39;49m\u001b[38;5;124;43m\"\u001b[39;49m\u001b[38;5;124;43ma@b.com\u001b[39;49m\u001b[38;5;124;43m\"\u001b[39;49m\u001b[43m,\u001b[49m\u001b[43m \u001b[49m\u001b[43mpassword\u001b[49m\u001b[38;5;241;43m=\u001b[39;49m\u001b[38;5;124;43m\"\u001b[39;49m\u001b[38;5;124;43mc\u001b[39;49m\u001b[38;5;124;43m\"\u001b[39;49m\u001b[43m,\u001b[49m\u001b[43m \u001b[49m\u001b[43mpassword_verify\u001b[49m\u001b[38;5;241;43m=\u001b[39;49m\u001b[38;5;124;43m\"\u001b[39;49m\u001b[38;5;124;43mc\u001b[39;49m\u001b[38;5;124;43m\"\u001b[39;49m\u001b[43m)\u001b[49m\n",
      "File \u001b[0;32m~/Documents/Coding/PySyft/packages/syft/src/syft/client/client.py:999\u001b[0m, in \u001b[0;36mSyftClient.register\u001b[0;34m(self, name, email, password, password_verify, institution, website)\u001b[0m\n\u001b[1;32m    994\u001b[0m     \u001b[38;5;28;01mif\u001b[39;00m \u001b[38;5;28mself\u001b[39m\u001b[38;5;241m.\u001b[39mmetadata\u001b[38;5;241m.\u001b[39mshow_warnings \u001b[38;5;129;01mand\u001b[39;00m \u001b[38;5;129;01mnot\u001b[39;00m prompt_warning_message(\n\u001b[1;32m    995\u001b[0m         message\u001b[38;5;241m=\u001b[39mmessage\n\u001b[1;32m    996\u001b[0m     ):\n\u001b[1;32m    997\u001b[0m         \u001b[38;5;28;01mreturn\u001b[39;00m \u001b[38;5;28;01mNone\u001b[39;00m\n\u001b[0;32m--> 999\u001b[0m response \u001b[38;5;241m=\u001b[39m \u001b[38;5;28;43mself\u001b[39;49m\u001b[38;5;241;43m.\u001b[39;49m\u001b[43mconnection\u001b[49m\u001b[38;5;241;43m.\u001b[39;49m\u001b[43mregister\u001b[49m\u001b[43m(\u001b[49m\u001b[43mnew_user\u001b[49m\u001b[38;5;241;43m=\u001b[39;49m\u001b[43mnew_user\u001b[49m\u001b[43m)\u001b[49m\n\u001b[1;32m   1000\u001b[0m \u001b[38;5;28;01mif\u001b[39;00m \u001b[38;5;28misinstance\u001b[39m(response, \u001b[38;5;28mtuple\u001b[39m):\n\u001b[1;32m   1001\u001b[0m     response \u001b[38;5;241m=\u001b[39m response[\u001b[38;5;241m0\u001b[39m]\n",
      "File \u001b[0;32m~/Documents/Coding/PySyft/packages/syft/src/syft/client/client.py:404\u001b[0m, in \u001b[0;36mHTTPConnection.register\u001b[0;34m(self, new_user)\u001b[0m\n\u001b[1;32m    397\u001b[0m     response \u001b[38;5;241m=\u001b[39m forward_message_to_proxy(\n\u001b[1;32m    398\u001b[0m         \u001b[38;5;28mself\u001b[39m\u001b[38;5;241m.\u001b[39mmake_call,\n\u001b[1;32m    399\u001b[0m         proxy_target_uid\u001b[38;5;241m=\u001b[39m\u001b[38;5;28mself\u001b[39m\u001b[38;5;241m.\u001b[39mproxy_target_uid,\n\u001b[1;32m    400\u001b[0m         path\u001b[38;5;241m=\u001b[39m\u001b[38;5;124m\"\u001b[39m\u001b[38;5;124mregister\u001b[39m\u001b[38;5;124m\"\u001b[39m,\n\u001b[1;32m    401\u001b[0m         kwargs\u001b[38;5;241m=\u001b[39m{\u001b[38;5;124m\"\u001b[39m\u001b[38;5;124mnew_user\u001b[39m\u001b[38;5;124m\"\u001b[39m: new_user},\n\u001b[1;32m    402\u001b[0m     )\n\u001b[1;32m    403\u001b[0m \u001b[38;5;28;01melse\u001b[39;00m:\n\u001b[0;32m--> 404\u001b[0m     response \u001b[38;5;241m=\u001b[39m \u001b[38;5;28;43mself\u001b[39;49m\u001b[38;5;241;43m.\u001b[39;49m\u001b[43m_make_post\u001b[49m\u001b[43m(\u001b[49m\u001b[38;5;28;43mself\u001b[39;49m\u001b[38;5;241;43m.\u001b[39;49m\u001b[43mroutes\u001b[49m\u001b[38;5;241;43m.\u001b[39;49m\u001b[43mROUTE_REGISTER\u001b[49m\u001b[38;5;241;43m.\u001b[39;49m\u001b[43mvalue\u001b[49m\u001b[43m,\u001b[49m\u001b[43m \u001b[49m\u001b[43mdata\u001b[49m\u001b[38;5;241;43m=\u001b[39;49m\u001b[43mdata\u001b[49m\u001b[43m)\u001b[49m\n\u001b[1;32m    405\u001b[0m     response \u001b[38;5;241m=\u001b[39m _deserialize(response, from_bytes\u001b[38;5;241m=\u001b[39m\u001b[38;5;28;01mTrue\u001b[39;00m)\n\u001b[1;32m    406\u001b[0m \u001b[38;5;28;01mreturn\u001b[39;00m response\n",
      "File \u001b[0;32m~/Documents/Coding/PySyft/packages/syft/src/syft/client/client.py:311\u001b[0m, in \u001b[0;36mHTTPConnection._make_post\u001b[0;34m(self, path, json, data)\u001b[0m\n\u001b[1;32m    302\u001b[0m response \u001b[38;5;241m=\u001b[39m \u001b[38;5;28mself\u001b[39m\u001b[38;5;241m.\u001b[39msession\u001b[38;5;241m.\u001b[39mpost(\n\u001b[1;32m    303\u001b[0m     \u001b[38;5;28mstr\u001b[39m(url),\n\u001b[1;32m    304\u001b[0m     headers\u001b[38;5;241m=\u001b[39m\u001b[38;5;28mself\u001b[39m\u001b[38;5;241m.\u001b[39mheaders,\n\u001b[0;32m   (...)\u001b[0m\n\u001b[1;32m    308\u001b[0m     data\u001b[38;5;241m=\u001b[39mdata,\n\u001b[1;32m    309\u001b[0m )\n\u001b[1;32m    310\u001b[0m \u001b[38;5;28;01mif\u001b[39;00m response\u001b[38;5;241m.\u001b[39mstatus_code \u001b[38;5;241m!=\u001b[39m \u001b[38;5;241m200\u001b[39m:\n\u001b[0;32m--> 311\u001b[0m     \u001b[38;5;28;01mraise\u001b[39;00m requests\u001b[38;5;241m.\u001b[39mConnectionError(\n\u001b[1;32m    312\u001b[0m         \u001b[38;5;124mf\u001b[39m\u001b[38;5;124m\"\u001b[39m\u001b[38;5;124mFailed to fetch \u001b[39m\u001b[38;5;132;01m{\u001b[39;00murl\u001b[38;5;132;01m}\u001b[39;00m\u001b[38;5;124m. Response returned with code \u001b[39m\u001b[38;5;132;01m{\u001b[39;00mresponse\u001b[38;5;241m.\u001b[39mstatus_code\u001b[38;5;132;01m}\u001b[39;00m\u001b[38;5;124m\"\u001b[39m\n\u001b[1;32m    313\u001b[0m     )\n\u001b[1;32m    315\u001b[0m \u001b[38;5;66;03m# upgrade to tls if available\u001b[39;00m\n\u001b[1;32m    316\u001b[0m \u001b[38;5;28mself\u001b[39m\u001b[38;5;241m.\u001b[39murl \u001b[38;5;241m=\u001b[39m upgrade_tls(\u001b[38;5;28mself\u001b[39m\u001b[38;5;241m.\u001b[39murl, response)\n",
      "\u001b[0;31mConnectionError\u001b[0m: Failed to fetch http://localhost:8081/api/v2/register. Response returned with code 500"
     ]
    }
   ],
   "source": [
    "guest_client.register(name=\"a\", email=\"a@b.com\", password=\"c\", password_verify=\"c\")"
   ]
  },
  {
   "cell_type": "code",
   "execution_count": 22,
   "id": "1270cfa4-c771-4e79-8744-6a8276db153d",
   "metadata": {},
   "outputs": [
    {
     "name": "stdout",
     "output_type": "stream",
     "text": [
      "Logged into <test-datasite-1: High side Datasite> as <a@b.com>\n"
     ]
    },
    {
     "data": {
      "text/html": [
       "<pre><code>An h1 header\n",
       "</code></pre>\n",
       "<p>============</p>\n",
       "<p>Paragraphs are separated by a blank line.</p>\n",
       "<p>2nd paragraph. <em>Italic</em>, <strong>bold</strong>, and <code>monospace</code>. Itemized lists\n",
       "look like:</p>\n",
       "<ul>\n",
       "<li>this one</li>\n",
       "<li>that one</li>\n",
       "<li>the other one</li>\n",
       "</ul>\n",
       "<p>Note that --- not considering the asterisk --- the actual text\n",
       "content starts at 4-columns in.</p>\n",
       "<blockquote>\n",
       "<p>Block quotes are\n",
       "written like so.</p>\n",
       "<p>They can span multiple paragraphs,\n",
       "if you like.</p>\n",
       "</blockquote>\n",
       "<p>Use 3 dashes for an em-dash. Use 2 dashes for ranges (ex., \"it's all\n",
       "in chapters 12--14\"). Three dots ... will be converted to an ellipsis.\n",
       "Unicode is supported. ☺</p>"
      ],
      "text/plain": [
       "<DatasiteClient: test-datasite-1>"
      ]
     },
     "execution_count": 22,
     "metadata": {},
     "output_type": "execute_result"
    }
   ],
   "source": [
    "guest_client.login(email=\"a@b.com\", password=\"c\")"
   ]
  },
  {
   "cell_type": "code",
   "execution_count": 23,
   "id": "d8453c72-6095-44c5-82aa-6f11bb71599e",
   "metadata": {},
   "outputs": [
    {
     "name": "stdout",
     "output_type": "stream",
     "text": [
      "Stopping test-datasite-1\n"
     ]
    }
   ],
   "source": [
    "server.land()"
   ]
  },
  {
   "cell_type": "code",
   "execution_count": null,
   "id": "b3571ba3-709a-4d5b-8e8e-346bf840a19e",
   "metadata": {},
   "outputs": [],
   "source": []
  }
 ],
 "metadata": {
  "kernelspec": {
   "display_name": "Python 3 (ipykernel)",
   "language": "python",
   "name": "python3"
  },
  "language_info": {
   "codemirror_mode": {
    "name": "ipython",
    "version": 3
   },
   "file_extension": ".py",
   "mimetype": "text/x-python",
   "name": "python",
   "nbconvert_exporter": "python",
   "pygments_lexer": "ipython3",
   "version": "3.12.3"
  }
 },
 "nbformat": 4,
 "nbformat_minor": 5
}
