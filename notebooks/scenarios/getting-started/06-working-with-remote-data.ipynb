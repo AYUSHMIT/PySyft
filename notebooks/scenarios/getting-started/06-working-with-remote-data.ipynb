{
 "cells": [
  {
   "cell_type": "code",
   "execution_count": null,
   "id": "bc1a03b7-05d5-41bb-bc9e-0361769d5c7e",
   "metadata": {},
   "outputs": [],
   "source": [
    "# -- browsing datasets\n",
    "# -- getting a pointer\n",
    "# -- mock vs private\n",
    "# -- Pointer UIDs\n",
    "# -- choosing an input policy\n",
    "# -- choosing an output policy\n",
    "# -- using the syft function decorator\n",
    "# -- testing code locally\n",
    "# -- submitting code for approval\n",
    "# -- code is denied\n",
    "# -- changing code and re-uploading a new version"
   ]
  },
  {
   "cell_type": "code",
   "execution_count": null,
   "id": "37adcb64-bf59-4a3f-9eab-31814fd1c675",
   "metadata": {},
   "outputs": [],
   "source": [
    "# syft absolute\n",
    "import syft as sy"
   ]
  },
  {
   "cell_type": "code",
   "execution_count": null,
   "id": "9529724b-77e0-40c2-be6b-832ad5803154",
   "metadata": {},
   "outputs": [],
   "source": [
    "server = sy.orchestra.launch(name=\"test-datasite-1\", port=8081)"
   ]
  },
  {
   "cell_type": "code",
   "execution_count": null,
   "id": "f3e5bb62-1904-4123-92c3-81f5f5878e50",
   "metadata": {},
   "outputs": [],
   "source": [
    "admin_client = server.login(email=\"info@openmined.org\", password=\"changethis\")\n",
    "user_client = server.login(email=\"scientist@test.com\", password=\"123\")"
   ]
  },
  {
   "cell_type": "code",
   "execution_count": null,
   "id": "3fa6be4d-b0ac-421a-be95-7972936dac9d",
   "metadata": {
    "scrolled": true
   },
   "outputs": [],
   "source": [
    "user_client.datasets"
   ]
  },
  {
   "cell_type": "code",
   "execution_count": null,
   "id": "ec5cd889-23a1-4d2d-ba9f-951cc0edbc8f",
   "metadata": {},
   "outputs": [],
   "source": [
    "# Not sure about getting a pointer, what needs to be added?"
   ]
  },
  {
   "cell_type": "code",
   "execution_count": null,
   "id": "0fe2f012-1307-44e0-96fd-e3a83d4f43d3",
   "metadata": {
    "scrolled": true
   },
   "outputs": [],
   "source": [
    "user_client.datasets[0]"
   ]
  },
  {
   "cell_type": "code",
   "execution_count": null,
   "id": "90a306e9-3197-467b-b7f1-01d3c6ff89a4",
   "metadata": {
    "scrolled": true
   },
   "outputs": [],
   "source": [
    "user_client.datasets[0].assets[0]"
   ]
  },
  {
   "cell_type": "code",
   "execution_count": null,
   "id": "d50c83f3-d22a-4075-b050-149d7326ca77",
   "metadata": {
    "scrolled": true
   },
   "outputs": [],
   "source": [
    "mock_data = user_client.datasets[0].assets[0].mock\n",
    "mock_data"
   ]
  },
  {
   "cell_type": "code",
   "execution_count": null,
   "id": "d13b66ab-e3f0-40fa-a420-0940361f21ad",
   "metadata": {},
   "outputs": [],
   "source": [
    "private_data = user_client.datasets[0].assets[0].data\n",
    "private_data"
   ]
  },
  {
   "cell_type": "markdown",
   "id": "93da44a1-3b44-42d5-b6e3-04001af36fa7",
   "metadata": {},
   "source": [
    "# Printing this because mock and private data are completely different"
   ]
  },
  {
   "cell_type": "code",
   "execution_count": null,
   "id": "0e15498c-1fd3-4f57-9b25-d1ca2fc32a71",
   "metadata": {
    "scrolled": true
   },
   "outputs": [],
   "source": [
    "private_data = admin_client.datasets[0].assets[0].data\n",
    "private_data"
   ]
  },
  {
   "cell_type": "markdown",
   "id": "2142194a-9df8-4f4b-91f6-276d99dd54d4",
   "metadata": {},
   "source": [
    "# Standard and custom Input/Output Policies and syft function decorator"
   ]
  },
  {
   "cell_type": "code",
   "execution_count": null,
   "id": "11d48990-9746-4016-82b9-5a9696063756",
   "metadata": {},
   "outputs": [],
   "source": [
    "asset = user_client.datasets[0].assets[0]"
   ]
  },
  {
   "cell_type": "code",
   "execution_count": null,
   "id": "10ed5ecf-b674-4fd5-9228-ed8226ef1c78",
   "metadata": {},
   "outputs": [],
   "source": [
    "@sy.syft_function_single_use(ages_data=asset)\n",
    "def how_are_people_dying_statistics(ages_data):\n",
    "    df = ages_data\n",
    "    avg_age_death_gender = (\n",
    "        df.groupby(\"Gender\")[\"Age of death\"].mean().reset_index(name=\"Avg_Age_of_Death\")\n",
    "    )\n",
    "    manner_of_death_count = (\n",
    "        df.groupby(\"Manner of death\")\n",
    "        .size()\n",
    "        .reset_index(name=\"Count\")\n",
    "        .sort_values(by=\"Count\", ascending=False)\n",
    "    )\n",
    "\n",
    "    return (manner_of_death_count, avg_age_death_gender)"
   ]
  },
  {
   "cell_type": "code",
   "execution_count": null,
   "id": "6bafd68c-30c6-4f6c-b6ec-494f5773c319",
   "metadata": {
    "jupyter": {
     "source_hidden": true
    }
   },
   "outputs": [],
   "source": [
    "# stdlib\n",
    "from typing import Any\n",
    "\n",
    "# third party\n",
    "from result import Err\n",
    "from result import Ok\n",
    "\n",
    "# syft absolute\n",
    "from syft.client.api import AuthedServiceContext\n",
    "from syft.client.api import ServerIdentity\n",
    "\n",
    "\n",
    "class CustomExactMatch(sy.CustomInputPolicy):\n",
    "    def __init__(self, *args: Any, **kwargs: Any) -> None:\n",
    "        pass\n",
    "\n",
    "    def filter_kwargs(self, kwargs, context, code_item_id):\n",
    "        # stdlib\n",
    "\n",
    "        try:\n",
    "            allowed_inputs = self.allowed_ids_only(\n",
    "                allowed_inputs=self.inputs, kwargs=kwargs, context=context\n",
    "            )\n",
    "            results = self.retrieve_from_db(\n",
    "                code_item_id=code_item_id,\n",
    "                allowed_inputs=allowed_inputs,\n",
    "                context=context,\n",
    "            )\n",
    "        except Exception as e:\n",
    "            return Err(str(e))\n",
    "        return results\n",
    "\n",
    "    def retrieve_from_db(self, code_item_id, allowed_inputs, context):\n",
    "        # syft absolute\n",
    "        from syft import ServerType\n",
    "        from syft.service.action.action_object import TwinMode\n",
    "\n",
    "        action_service = context.server.get_service(\"actionservice\")\n",
    "        code_inputs = {}\n",
    "\n",
    "        # When we are retrieving the code from the database, we need to use the server's\n",
    "        # verify key as the credentials. This is because when we approve the code, we\n",
    "        # we allow the private data to be used only for this specific code.\n",
    "        # but we are not modifying the permissions of the private data\n",
    "\n",
    "        root_context = AuthedServiceContext(\n",
    "            server=context.server, credentials=context.server.verify_key\n",
    "        )\n",
    "        if context.server.server_type == ServerType.DATASITE:\n",
    "            for var_name, arg_id in allowed_inputs.items():\n",
    "                kwarg_value = action_service._get(\n",
    "                    context=root_context,\n",
    "                    uid=arg_id,\n",
    "                    twin_mode=TwinMode.NONE,\n",
    "                    has_permission=True,\n",
    "                )\n",
    "                if kwarg_value.is_err():\n",
    "                    return Err(kwarg_value.err())\n",
    "                code_inputs[var_name] = kwarg_value.ok()\n",
    "        else:\n",
    "            raise Exception(\n",
    "                f\"Invalid Server Type for Code Submission:{context.server.server_type}\"\n",
    "            )\n",
    "        return Ok(code_inputs)\n",
    "\n",
    "    def allowed_ids_only(\n",
    "        self,\n",
    "        allowed_inputs,\n",
    "        kwargs,\n",
    "        context,\n",
    "    ):\n",
    "        # syft absolute\n",
    "        from syft import ServerType\n",
    "        from syft import UID\n",
    "\n",
    "        if context.server.server_type == ServerType.DATASITE:\n",
    "            server_identity = ServerIdentity(\n",
    "                server_name=context.server.name,\n",
    "                server_id=context.server.id,\n",
    "                verify_key=context.server.signing_key.verify_key,\n",
    "            )\n",
    "            allowed_inputs = allowed_inputs.get(server_identity, {})\n",
    "        else:\n",
    "            raise Exception(\n",
    "                f\"Invalid Server Type for Code Submission:{context.server.server_type}\"\n",
    "            )\n",
    "        filtered_kwargs = {}\n",
    "        for key in allowed_inputs.keys():\n",
    "            if key in kwargs:\n",
    "                value = kwargs[key]\n",
    "                uid = value\n",
    "                if not isinstance(uid, UID):\n",
    "                    uid = getattr(value, \"id\", None)\n",
    "\n",
    "                if uid != allowed_inputs[key]:\n",
    "                    raise Exception(\n",
    "                        f\"Input with uid: {uid} for `{key}` not in allowed inputs: {allowed_inputs}\"\n",
    "                    )\n",
    "                filtered_kwargs[key] = value\n",
    "        return filtered_kwargs\n",
    "\n",
    "    def _is_valid(\n",
    "        self,\n",
    "        context,\n",
    "        usr_input_kwargs,\n",
    "        code_item_id,\n",
    "    ):\n",
    "        filtered_input_kwargs = self.filter_kwargs(\n",
    "            kwargs=usr_input_kwargs,\n",
    "            context=context,\n",
    "            code_item_id=code_item_id,\n",
    "        )\n",
    "\n",
    "        if filtered_input_kwargs.is_err():\n",
    "            return filtered_input_kwargs\n",
    "\n",
    "        filtered_input_kwargs = filtered_input_kwargs.ok()\n",
    "\n",
    "        expected_input_kwargs = set()\n",
    "        for _inp_kwargs in self.inputs.values():\n",
    "            for k in _inp_kwargs.keys():\n",
    "                if k not in usr_input_kwargs:\n",
    "                    return Err(f\"Function missing required keyword argument: '{k}'\")\n",
    "            expected_input_kwargs.update(_inp_kwargs.keys())\n",
    "\n",
    "        permitted_input_kwargs = list(filtered_input_kwargs.keys())\n",
    "        not_approved_kwargs = set(expected_input_kwargs) - set(permitted_input_kwargs)\n",
    "        if len(not_approved_kwargs) > 0:\n",
    "            return Err(\n",
    "                f\"Input arguments: {not_approved_kwargs} to the function are not approved yet.\"\n",
    "            )\n",
    "        return Ok(True)\n",
    "\n",
    "\n",
    "def allowed_ids_only(\n",
    "    self,\n",
    "    allowed_inputs,\n",
    "    kwargs,\n",
    "    context,\n",
    "):\n",
    "    # syft absolute\n",
    "    from syft import ServerType\n",
    "    from syft import UID\n",
    "    from syft.client.api import ServerIdentity\n",
    "\n",
    "    if context.server.server_type == ServerType.DATASITE:\n",
    "        server_identity = ServerIdentity(\n",
    "            server_name=context.server.name,\n",
    "            server_id=context.server.id,\n",
    "            verify_key=context.server.signing_key.verify_key,\n",
    "        )\n",
    "        allowed_inputs = allowed_inputs.get(server_identity, {})\n",
    "    else:\n",
    "        raise Exception(\n",
    "            f\"Invalid Server Type for Code Submission:{context.server.server_type}\"\n",
    "        )\n",
    "    filtered_kwargs = {}\n",
    "    for key in allowed_inputs.keys():\n",
    "        if key in kwargs:\n",
    "            value = kwargs[key]\n",
    "            uid = value\n",
    "            if not isinstance(uid, UID):\n",
    "                uid = getattr(value, \"id\", None)\n",
    "\n",
    "            if uid != allowed_inputs[key]:\n",
    "                raise Exception(\n",
    "                    f\"Input with uid: {uid} for `{key}` not in allowed inputs: {allowed_inputs}\"\n",
    "                )\n",
    "            filtered_kwargs[key] = value\n",
    "    return filtered_kwargs"
   ]
  },
  {
   "cell_type": "code",
   "execution_count": null,
   "id": "fe7441af-68f3-45f1-89ae-17f8af25c7ae",
   "metadata": {
    "jupyter": {
     "source_hidden": true
    }
   },
   "outputs": [],
   "source": [
    "class RepeatedCallPolicy(sy.CustomOutputPolicy):\n",
    "    n_calls: int = 0\n",
    "    downloadable_output_args: list[str] = []\n",
    "    state: dict[Any, Any] = {}\n",
    "\n",
    "    def __init__(self, n_calls=1, downloadable_output_args: list[str] = None):\n",
    "        self.downloadable_output_args = (\n",
    "            downloadable_output_args if downloadable_output_args is not None else []\n",
    "        )\n",
    "        self.n_calls = n_calls\n",
    "        self.state = {\"counts\": 0}\n",
    "\n",
    "    def public_state(self):\n",
    "        return self.state[\"counts\"]\n",
    "\n",
    "    def update_policy(self, context, outputs):\n",
    "        self.state[\"counts\"] += 1\n",
    "\n",
    "    def apply_to_output(self, context, outputs, update_policy=True):\n",
    "        if hasattr(outputs, \"syft_action_data\"):\n",
    "            outputs = outputs.syft_action_data\n",
    "        output_dict = {}\n",
    "        if self.state[\"counts\"] < self.n_calls:\n",
    "            for output_arg in self.downloadable_output_args:\n",
    "                output_dict[output_arg] = outputs[output_arg]\n",
    "            if update_policy:\n",
    "                self.update_policy(context, outputs)\n",
    "        else:\n",
    "            return None\n",
    "        return output_dict\n",
    "\n",
    "    def _is_valid(self, context):\n",
    "        return self.state[\"counts\"] < self.n_calls"
   ]
  },
  {
   "cell_type": "code",
   "execution_count": null,
   "id": "253dcd75-e050-445a-bea8-b64849d2dc0f",
   "metadata": {},
   "outputs": [],
   "source": [
    "@sy.syft_function(\n",
    "    input_policy=CustomExactMatch(ages_data=asset),\n",
    "    output_policy=RepeatedCallPolicy(n_calls=10, downloadable_output_args=[\"y\"]),\n",
    ")\n",
    "def how_are_people_dying_statistics_custom(ages_data):\n",
    "    df = ages_data\n",
    "    avg_age_death_gender = (\n",
    "        df.groupby(\"Gender\")[\"Age of death\"].mean().reset_index(name=\"Avg_Age_of_Death\")\n",
    "    )\n",
    "    manner_of_death_count = (\n",
    "        df.groupby(\"Manner of death\")\n",
    "        .size()\n",
    "        .reset_index(name=\"Count\")\n",
    "        .sort_values(by=\"Count\", ascending=False)\n",
    "    )\n",
    "\n",
    "    return (manner_of_death_count, avg_age_death_gender)"
   ]
  },
  {
   "cell_type": "markdown",
   "id": "7701a38c-b16a-4575-b338-8c7ee859d340",
   "metadata": {},
   "source": [
    "# Test on mock data"
   ]
  },
  {
   "cell_type": "code",
   "execution_count": null,
   "id": "0093ee8f-be0f-4691-b9a6-365352acf61d",
   "metadata": {
    "scrolled": true
   },
   "outputs": [],
   "source": [
    "pointer = how_are_people_dying_statistics(ages_data=asset)\n",
    "result = pointer.get()"
   ]
  },
  {
   "cell_type": "code",
   "execution_count": null,
   "id": "34acaa56-57ef-4208-bd81-899f2c2b28f4",
   "metadata": {
    "scrolled": true
   },
   "outputs": [],
   "source": [
    "result[0]"
   ]
  },
  {
   "cell_type": "code",
   "execution_count": null,
   "id": "c82d99db-09f5-40bc-bd78-6ba688b4c1b8",
   "metadata": {
    "scrolled": true
   },
   "outputs": [],
   "source": [
    "result[1]"
   ]
  },
  {
   "cell_type": "markdown",
   "id": "a634f484-94c5-4394-8563-56b1f69043b6",
   "metadata": {},
   "source": [
    "# Submit code"
   ]
  },
  {
   "cell_type": "code",
   "execution_count": null,
   "id": "bd319e57-c0a7-4a7d-99b5-0cc7989f8049",
   "metadata": {},
   "outputs": [],
   "source": [
    "# Create a new project\n",
    "new_project = sy.Project(\n",
    "    name=\"The project about death\",\n",
    "    description=\"Hi, I want to calculate some statistics on how folks are dying\",\n",
    "    members=[user_client],\n",
    ")\n",
    "new_project"
   ]
  },
  {
   "cell_type": "code",
   "execution_count": null,
   "id": "6cddd0b0-1bbe-412c-9f00-9d42c9decc96",
   "metadata": {},
   "outputs": [],
   "source": [
    "result = new_project.create_code_request(how_are_people_dying_statistics, user_client)"
   ]
  },
  {
   "cell_type": "code",
   "execution_count": null,
   "id": "16b2a225-d6bd-4369-8566-25323c3b97f5",
   "metadata": {
    "scrolled": true
   },
   "outputs": [],
   "source": [
    "result"
   ]
  },
  {
   "cell_type": "code",
   "execution_count": null,
   "id": "828bc731-0a00-4a00-a271-1fb6f5964926",
   "metadata": {},
   "outputs": [],
   "source": [
    "project = new_project.send()\n",
    "project"
   ]
  },
  {
   "cell_type": "code",
   "execution_count": null,
   "id": "0d0f4f2f-1790-4b16-8efe-1ef0fb29d5f7",
   "metadata": {},
   "outputs": [],
   "source": [
    "project = user_client.get_project(name=\"The project about death\")\n",
    "assert project\n",
    "# assert len(project.events) == 1\n",
    "# assert isinstance(project.events[0], sy.service.project.project.ProjectRequest)\n",
    "# assert project.events[0].request.status == RequestStatus.PENDING"
   ]
  },
  {
   "cell_type": "code",
   "execution_count": null,
   "id": "630d2cbd-ba80-43c2-a3b5-a524d3cf9ca7",
   "metadata": {},
   "outputs": [],
   "source": [
    "project.requests"
   ]
  },
  {
   "cell_type": "code",
   "execution_count": null,
   "id": "534ee9b2-346c-463b-ad95-f8f591ed4071",
   "metadata": {},
   "outputs": [],
   "source": [
    "result = user_client.code.how_are_people_dying_statistics(ages_data=asset)\n",
    "result"
   ]
  },
  {
   "cell_type": "markdown",
   "id": "c7c03286-6ae6-4d73-9fd4-3d2a15130f10",
   "metadata": {},
   "source": [
    "# Code is denied"
   ]
  },
  {
   "cell_type": "code",
   "execution_count": null,
   "id": "b36313e0-a493-41eb-b395-d6c38db809e3",
   "metadata": {},
   "outputs": [],
   "source": [
    "admin_client.projects"
   ]
  },
  {
   "cell_type": "code",
   "execution_count": null,
   "id": "a40e1592-0308-4c17-922e-63bbe4df5731",
   "metadata": {},
   "outputs": [],
   "source": [
    "project_view = admin_client.projects[0]\n",
    "project_view.requests"
   ]
  },
  {
   "cell_type": "code",
   "execution_count": null,
   "id": "7a5617ef-4743-4352-b252-3f596b2bf16b",
   "metadata": {},
   "outputs": [],
   "source": [
    "request = project_view.requests[0]\n",
    "request"
   ]
  },
  {
   "cell_type": "code",
   "execution_count": null,
   "id": "000892f5-a2d4-47ac-a114-98c4bb08358c",
   "metadata": {},
   "outputs": [],
   "source": [
    "func = request.code\n",
    "func"
   ]
  },
  {
   "cell_type": "code",
   "execution_count": null,
   "id": "43962e74-a05a-47ce-9f3b-fed000a597a7",
   "metadata": {},
   "outputs": [],
   "source": [
    "func.show_code"
   ]
  },
  {
   "cell_type": "code",
   "execution_count": null,
   "id": "c932f1a4-7970-401d-9da9-e6e4dafef19a",
   "metadata": {},
   "outputs": [],
   "source": [
    "asset_view = func.assets[0]\n",
    "asset_view.data"
   ]
  },
  {
   "cell_type": "code",
   "execution_count": null,
   "id": "bd2d3f7b-7a3d-4ca4-ba3a-7ab15ba7d5c6",
   "metadata": {},
   "outputs": [],
   "source": [
    "result = request.deny(\n",
    "    reason=(\"The Submitted UserCode is too grim in it's study. Study something else.\")\n",
    ")\n",
    "result"
   ]
  },
  {
   "cell_type": "markdown",
   "id": "cf0bf66f-c52d-4583-b5a9-31a651c84914",
   "metadata": {},
   "source": [
    "# Change code"
   ]
  },
  {
   "cell_type": "code",
   "execution_count": null,
   "id": "9d6e1ab9-2c38-4972-b044-8fce5a4cc7ea",
   "metadata": {},
   "outputs": [],
   "source": [
    "@sy.syft_function(\n",
    "    input_policy=CustomExactMatch(ages_data=asset),\n",
    "    output_policy=RepeatedCallPolicy(n_calls=10, downloadable_output_args=[\"y\"]),\n",
    ")\n",
    "def how_are_people_dying_statistics(ages_data):\n",
    "    df = ages_data\n",
    "    df[\"Lifespan\"] = df[\"Death year\"] - df[\"Birth year\"]\n",
    "    longest_lifespan = df.sort_values(by=\"Lifespan\", ascending=False).head(1)[\n",
    "        [\"Name\", \"Lifespan\"]\n",
    "    ]\n",
    "\n",
    "    return longest_lifespan"
   ]
  },
  {
   "cell_type": "code",
   "execution_count": null,
   "id": "ce290324-2c6b-48cd-af7f-7335a7a6e4e2",
   "metadata": {},
   "outputs": [],
   "source": [
    "# Find out how to send a new request to the same function to project"
   ]
  },
  {
   "cell_type": "code",
   "execution_count": null,
   "id": "ef0c0121-1b2a-42bf-9b97-351a1e968c55",
   "metadata": {},
   "outputs": [],
   "source": [
    "server.land()"
   ]
  }
 ],
 "metadata": {
  "kernelspec": {
   "display_name": "Python 3 (ipykernel)",
   "language": "python",
   "name": "python3"
  },
  "language_info": {
   "codemirror_mode": {
    "name": "ipython",
    "version": 3
   },
   "file_extension": ".py",
   "mimetype": "text/x-python",
   "name": "python",
   "nbconvert_exporter": "python",
   "pygments_lexer": "ipython3",
   "version": "3.12.3"
  }
 },
 "nbformat": 4,
 "nbformat_minor": 5
}
