{
 "cells": [
  {
   "cell_type": "code",
   "execution_count": null,
   "id": "e5d3de5f-afee-4743-89c8-8298b12edfe7",
   "metadata": {},
   "outputs": [],
   "source": [
    "# -- how to enable / disable user registration\n",
    "# -- how to create users\n",
    "# -- how to reset user passwords"
   ]
  },
  {
   "cell_type": "code",
   "execution_count": null,
   "id": "3de6bc42-4b2f-4902-9676-a36a0621fef3",
   "metadata": {},
   "outputs": [],
   "source": [
    "# syft absolute\n",
    "import syft as sy"
   ]
  },
  {
   "cell_type": "code",
   "execution_count": null,
   "id": "3ac0c932-601f-4424-ad80-f02da291b2a3",
   "metadata": {},
   "outputs": [],
   "source": [
    "server = sy.orchestra.launch(name=\"test-datasite-1\", port=8081)"
   ]
  },
  {
   "cell_type": "code",
   "execution_count": null,
   "id": "5ef99d40-8b1e-4be8-af42-0edb50df7250",
   "metadata": {},
   "outputs": [],
   "source": [
    "# logging in as root client with default credentials\n",
    "client = server.login(email=\"info@openmined.org\", password=\"changethis\")"
   ]
  },
  {
   "cell_type": "code",
   "execution_count": null,
   "id": "d970eaef-e27e-4d81-b959-da18a0af2f01",
   "metadata": {},
   "outputs": [],
   "source": [
    "# register a new user\n",
    "client.register(\n",
    "    name=\"John Doe\", email=\"john@email.com\", password=\"pass\", password_verify=\"pass\"\n",
    ")"
   ]
  },
  {
   "cell_type": "code",
   "execution_count": null,
   "id": "fd8f9701-1fe8-4a96-9d49-7ecb1a29adab",
   "metadata": {},
   "outputs": [],
   "source": [
    "# Returns a list of all the existing users in the domain\n",
    "client.users"
   ]
  },
  {
   "cell_type": "code",
   "execution_count": null,
   "id": "db6af0e7-dceb-48ae-887d-614c41a38797",
   "metadata": {},
   "outputs": [],
   "source": [
    "# Selecting an user by index\n",
    "client.users[1].name"
   ]
  },
  {
   "cell_type": "code",
   "execution_count": null,
   "id": "74bc93da-0c86-4397-9a2f-fb4aa414ad3a",
   "metadata": {},
   "outputs": [],
   "source": [
    "# Selecting an user by filtering\n",
    "search_results = client.users.search(email=\"john@email.com\")\n",
    "search_results"
   ]
  },
  {
   "cell_type": "code",
   "execution_count": null,
   "id": "68d7a572-b90c-44a1-9ae8-e41db39f8f23",
   "metadata": {},
   "outputs": [],
   "source": [
    "searched_user = search_results[0]\n",
    "searched_user.name"
   ]
  },
  {
   "cell_type": "code",
   "execution_count": null,
   "id": "859f20c6-21d2-4448-8f3b-097e6df98b90",
   "metadata": {},
   "outputs": [],
   "source": [
    "# update email\n",
    "searched_user.set_email(email=\"updatedjohn@email.com\")"
   ]
  },
  {
   "cell_type": "code",
   "execution_count": null,
   "id": "ef702a91-0674-49ba-80bc-aaa66f83f434",
   "metadata": {},
   "outputs": [],
   "source": [
    "searched_user"
   ]
  },
  {
   "cell_type": "code",
   "execution_count": null,
   "id": "b8d5a650-2d4b-4fec-a45e-9f93f9e0f73e",
   "metadata": {},
   "outputs": [],
   "source": [
    "# update password\n",
    "searched_user.set_password(new_password=\"newpass\", confirm=False)"
   ]
  },
  {
   "cell_type": "code",
   "execution_count": null,
   "id": "83aba8a1-98a2-4dea-ae18-2f70f2df078e",
   "metadata": {},
   "outputs": [],
   "source": [
    "client.users"
   ]
  },
  {
   "cell_type": "code",
   "execution_count": null,
   "id": "d4ca0ce8-4bb6-44a3-8e4b-6d89b91fd30d",
   "metadata": {},
   "outputs": [],
   "source": [
    "# Update info of an existing user\n",
    "searched_user.update(\n",
    "    name=\"Updated Jane Doe\",\n",
    "    institution=\"My institution\",\n",
    ")"
   ]
  },
  {
   "cell_type": "code",
   "execution_count": null,
   "id": "a4d7f854-3771-4dbd-94ad-ffa4a76272ee",
   "metadata": {},
   "outputs": [],
   "source": [
    "client.users"
   ]
  },
  {
   "cell_type": "code",
   "execution_count": null,
   "id": "b0d7b4fc-eaf3-45bf-b808-6caf91d74ccd",
   "metadata": {},
   "outputs": [],
   "source": [
    "# validate login for new user\n",
    "server.login(email=\"updatedjohn@email.com\", password=\"newpass\")"
   ]
  },
  {
   "cell_type": "code",
   "execution_count": null,
   "id": "4b4c078c-663f-437e-b103-92f76602eee1",
   "metadata": {},
   "outputs": [],
   "source": [
    "# Delete user\n",
    "client.users.delete(searched_user.id)"
   ]
  },
  {
   "cell_type": "code",
   "execution_count": null,
   "id": "3167816a-5efc-4ae5-be5d-389398b74e3c",
   "metadata": {},
   "outputs": [],
   "source": [
    "client.users"
   ]
  },
  {
   "cell_type": "code",
   "execution_count": null,
   "id": "877d0945-0684-42b5-a5d4-4fd3e69f950b",
   "metadata": {},
   "outputs": [],
   "source": [
    "# Enable user registration\n",
    "client.settings.allow_guest_signup(enable=True)"
   ]
  },
  {
   "cell_type": "code",
   "execution_count": null,
   "id": "c2260402-642f-41f5-8217-f0d44f75d62b",
   "metadata": {},
   "outputs": [],
   "source": [
    "guest_user = server.login_as_guest()"
   ]
  },
  {
   "cell_type": "code",
   "execution_count": null,
   "id": "fa874373-9289-4531-94cc-9342f1e244ff",
   "metadata": {},
   "outputs": [],
   "source": [
    "# register the account\n",
    "guest_user.register(\n",
    "    email=\"scientist@test.com\",\n",
    "    password=\"123\",\n",
    "    password_verify=\"123\",\n",
    "    name=\"Curious Scientist\",\n",
    ")"
   ]
  },
  {
   "cell_type": "code",
   "execution_count": null,
   "id": "a2db0aee-a380-4bf2-85bf-65c2914d719a",
   "metadata": {},
   "outputs": [],
   "source": [
    "client.users"
   ]
  },
  {
   "cell_type": "code",
   "execution_count": null,
   "id": "17749554-e971-401b-977f-6d1819b2194a",
   "metadata": {},
   "outputs": [],
   "source": [
    "server.land()"
   ]
  },
  {
   "cell_type": "code",
   "execution_count": null,
   "id": "f6f2c835-7a79-4331-9486-dfeb8acdfbf5",
   "metadata": {},
   "outputs": [],
   "source": []
  }
 ],
 "metadata": {
  "kernelspec": {
   "display_name": "Python 3 (ipykernel)",
   "language": "python",
   "name": "python3"
  },
  "language_info": {
   "codemirror_mode": {
    "name": "ipython",
    "version": 3
   },
   "file_extension": ".py",
   "mimetype": "text/x-python",
   "name": "python",
   "nbconvert_exporter": "python",
   "pygments_lexer": "ipython3",
   "version": "3.12.3"
  }
 },
 "nbformat": 4,
 "nbformat_minor": 5
}
