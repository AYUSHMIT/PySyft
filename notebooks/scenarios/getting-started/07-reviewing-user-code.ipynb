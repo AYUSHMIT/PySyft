{
 "cells": [
  {
   "cell_type": "code",
   "execution_count": null,
   "id": "f9535594-f1a2-48a6-87b1-a608f1fa7520",
   "metadata": {},
   "outputs": [],
   "source": [
    "# -- notifications of code requests\n",
    "# -- requests queue\n",
    "# -- reviewing code\n",
    "# -- carefully testing code\n",
    "# -- approve / deny code\n",
    "# -- substituting a result"
   ]
  },
  {
   "cell_type": "code",
   "execution_count": null,
   "id": "fa2e6a39-1c10-4eec-bbce-452afde0f10b",
   "metadata": {},
   "outputs": [],
   "source": [
    "# syft absolute\n",
    "import syft as sy"
   ]
  },
  {
   "cell_type": "code",
   "execution_count": null,
   "id": "a2287596-2286-4722-bfd7-807ae621d884",
   "metadata": {},
   "outputs": [],
   "source": [
    "server = sy.orchestra.launch(name=\"test-datasite-1\", port=8081)"
   ]
  },
  {
   "cell_type": "code",
   "execution_count": null,
   "id": "e63a3e92-11d0-4f80-97cf-2d290164a8e9",
   "metadata": {},
   "outputs": [],
   "source": [
    "admin_client = server.login(email=\"info@openmined.org\", password=\"changethis\")\n",
    "# user_client = server.login(email=\"scientist@test.com\", password=\"123\")"
   ]
  },
  {
   "cell_type": "code",
   "execution_count": null,
   "id": "e878d142-c611-4131-a64f-277ad81399fb",
   "metadata": {},
   "outputs": [],
   "source": [
    "mock_data = admin_client.datasets[0].assets[0].mock\n",
    "pvt_data = admin_client.datasets[0].assets[0].data"
   ]
  },
  {
   "cell_type": "markdown",
   "id": "8994c193-8573-4a42-bc69-834f0bf22ef6",
   "metadata": {},
   "source": [
    "# View code and aspects of code"
   ]
  },
  {
   "cell_type": "code",
   "execution_count": null,
   "id": "28324654-a1aa-4c17-a496-cce7f69834b2",
   "metadata": {},
   "outputs": [],
   "source": [
    "admin_client.projects"
   ]
  },
  {
   "cell_type": "code",
   "execution_count": null,
   "id": "52710c17-76ac-4777-bf24-9d445cd12573",
   "metadata": {},
   "outputs": [],
   "source": [
    "project = admin_client.projects[0]\n",
    "project.requests"
   ]
  },
  {
   "cell_type": "code",
   "execution_count": null,
   "id": "5125eeb0-575d-4350-8b48-c9d4e14d7afc",
   "metadata": {},
   "outputs": [],
   "source": [
    "request = project.requests[0]\n",
    "request"
   ]
  },
  {
   "cell_type": "code",
   "execution_count": null,
   "id": "dd9d47ce-46de-4a05-842f-a169863b0f5a",
   "metadata": {},
   "outputs": [],
   "source": [
    "func = request.code\n",
    "func"
   ]
  },
  {
   "cell_type": "code",
   "execution_count": null,
   "id": "ead10a75-ffcf-4a3d-b9f5-bd37ceda750e",
   "metadata": {},
   "outputs": [],
   "source": [
    "func.show_code"
   ]
  },
  {
   "cell_type": "code",
   "execution_count": null,
   "id": "266c947e-a4e6-496c-b988-63ea8ab8e343",
   "metadata": {},
   "outputs": [],
   "source": [
    "func.input_policy"
   ]
  },
  {
   "cell_type": "code",
   "execution_count": null,
   "id": "8481db45-60fe-469d-9a5a-74ae881034ef",
   "metadata": {},
   "outputs": [],
   "source": [
    "func.output_policy"
   ]
  },
  {
   "cell_type": "code",
   "execution_count": null,
   "id": "65c035a2-5ba3-4e9c-8f7f-8a6fffa014ed",
   "metadata": {},
   "outputs": [],
   "source": [
    "users_function = func.run"
   ]
  },
  {
   "cell_type": "code",
   "execution_count": null,
   "id": "4fd70470-48d4-4c08-8964-7d626ecce361",
   "metadata": {},
   "outputs": [],
   "source": [
    "mock_result = users_function(ages_data=mock_data)\n",
    "mock_result"
   ]
  },
  {
   "cell_type": "code",
   "execution_count": null,
   "id": "683ab55c-4350-4e89-a9a8-7bbb89961f8d",
   "metadata": {},
   "outputs": [],
   "source": [
    "real_result = users_function(ages_data=pvt_data)\n",
    "real_result"
   ]
  },
  {
   "cell_type": "code",
   "execution_count": null,
   "id": "8d6660e0-0058-4a48-b1c3-d3a21a5d1056",
   "metadata": {},
   "outputs": [],
   "source": [
    "result = request.approve()\n",
    "result"
   ]
  },
  {
   "cell_type": "code",
   "execution_count": null,
   "id": "6352f48a-ebc4-440b-948c-dfd8d55089e4",
   "metadata": {},
   "outputs": [],
   "source": [
    "assert isinstance(result, sy.SyftSuccess)"
   ]
  },
  {
   "cell_type": "code",
   "execution_count": null,
   "id": "3d6fcf1a-5dc8-49c3-b36e-bbcafb49bb25",
   "metadata": {},
   "outputs": [],
   "source": [
    "# Complete substituting"
   ]
  },
  {
   "cell_type": "code",
   "execution_count": null,
   "id": "0bfba034-249b-41db-b345-8bd617cdc785",
   "metadata": {},
   "outputs": [],
   "source": []
  }
 ],
 "metadata": {
  "kernelspec": {
   "display_name": "Python 3 (ipykernel)",
   "language": "python",
   "name": "python3"
  },
  "language_info": {
   "codemirror_mode": {
    "name": "ipython",
    "version": 3
   },
   "file_extension": ".py",
   "mimetype": "text/x-python",
   "name": "python",
   "nbconvert_exporter": "python",
   "pygments_lexer": "ipython3",
   "version": "3.12.3"
  }
 },
 "nbformat": 4,
 "nbformat_minor": 5
}
