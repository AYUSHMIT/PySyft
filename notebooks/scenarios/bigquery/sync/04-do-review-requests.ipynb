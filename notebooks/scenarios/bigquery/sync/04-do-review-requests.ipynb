{
 "cells": [
  {
   "cell_type": "code",
   "execution_count": null,
   "metadata": {},
   "outputs": [],
   "source": [
    "# stdlib\n",
    "import os\n",
    "\n",
    "# syft absolute\n",
    "import syft as sy\n",
    "\n",
    "# os.environ[\"ORCHESTRA_DEPLOYMENT_TYPE\"] = \"remote\"\n",
    "# os.environ[\"CLUSTER_HTTP_PORT_HIGH\"] = \"9081\"\n",
    "# os.environ[\"CLUSTER_HTTP_PORT_LOW\"] = \"9083\""
   ]
  },
  {
   "cell_type": "code",
   "execution_count": null,
   "metadata": {},
   "outputs": [],
   "source": [
    "environment = os.environ.get(\"ORCHESTRA_DEPLOYMENT_TYPE\", \"python\")\n",
    "high_port = os.environ.get(\"CLUSTER_HTTP_PORT_HIGH\", \"auto\")\n",
    "low_port = os.environ.get(\"CLUSTER_HTTP_PORT_LOW\", \"auto\")"
   ]
  },
  {
   "cell_type": "markdown",
   "metadata": {},
   "source": [
    "# Launch server and login"
   ]
  },
  {
   "cell_type": "code",
   "execution_count": null,
   "metadata": {},
   "outputs": [],
   "source": [
    "server_low = sy.orchestra.launch(\n",
    "    name=\"bigquery-low\",\n",
    "    server_side_type=\"low\",\n",
    "    dev_mode=True,\n",
    "    n_consumers=1,\n",
    "    create_producer=True,\n",
    "    port=low_port,\n",
    ")\n",
    "\n",
    "server_high = sy.orchestra.launch(\n",
    "    name=\"bigquery-high\",\n",
    "    server_side_type=\"high\",\n",
    "    dev_mode=True,\n",
    "    n_consumers=1,\n",
    "    create_producer=True,\n",
    "    port=high_port,\n",
    ")"
   ]
  },
  {
   "cell_type": "code",
   "execution_count": null,
   "metadata": {},
   "outputs": [],
   "source": [
    "low_client = server_low.login(email=\"info@openmined.org\", password=\"changethis\")\n",
    "high_client = server_high.login(email=\"info@openmined.org\", password=\"changethis\")"
   ]
  },
  {
   "cell_type": "code",
   "execution_count": null,
   "metadata": {},
   "outputs": [],
   "source": [
    "# syft absolute\n",
    "from syft.client.syncing import compare_clients"
   ]
  },
  {
   "cell_type": "code",
   "execution_count": null,
   "metadata": {},
   "outputs": [],
   "source": [
    "# syft absolute\n",
    "from syft.service.job.job_stash import Job\n",
    "from syft.service.job.job_stash import JobStatus"
   ]
  },
  {
   "cell_type": "markdown",
   "metadata": {},
   "source": [
    "# Sync UserCode and Requests to High Side"
   ]
  },
  {
   "cell_type": "code",
   "execution_count": null,
   "metadata": {},
   "outputs": [],
   "source": [
    "def is_job_to_sync(batch):\n",
    "    if batch.status != \"NEW\":\n",
    "        return False\n",
    "    if not isinstance(batch.root.high_obj, Job):\n",
    "        return False\n",
    "    job = batch.root.high_obj\n",
    "    return job.status in (JobStatus.ERRORED, JobStatus.COMPLETED)"
   ]
  },
  {
   "cell_type": "code",
   "execution_count": null,
   "metadata": {},
   "outputs": [],
   "source": [
    "def sync_new_objects(\n",
    "    from_client, to_client, dry_run: bool = True, private_data: bool = False\n",
    "):\n",
    "    sim = \"Simulating \" if dry_run else \"\"\n",
    "    priv = \"WITH PRIVATE DATA\" if private_data else \"\"\n",
    "    print(f\"{sim}Syncing from {from_client.name} to {to_client.name} {priv}\")\n",
    "    changes = []\n",
    "    diff = compare_clients(\n",
    "        from_client=from_client, to_client=to_client, hide_usercode=False\n",
    "    )\n",
    "    if isinstance(diff, sy.SyftError):\n",
    "        return diff\n",
    "\n",
    "    for batch in diff.batches:\n",
    "        try:\n",
    "            if is_job_to_sync(batch) or batch.status == \"NEW\":\n",
    "                w = batch.resolve(build_state=False)\n",
    "                if private_data:\n",
    "                    w.click_share_all_private_data()\n",
    "                if not dry_run:\n",
    "                    w.click_sync()\n",
    "                change_text = f\"Synced {batch.status} {batch.root_type.__name__}\"\n",
    "                if not dry_run:\n",
    "                    changes.append(change_text)\n",
    "                else:\n",
    "                    print(f\"Would have run: {change_text}\")\n",
    "        except Exception as e:\n",
    "            print(\"sync_new_objects\", e)\n",
    "            raise e\n",
    "    return changes"
   ]
  },
  {
   "cell_type": "code",
   "execution_count": null,
   "metadata": {},
   "outputs": [],
   "source": [
    "diffs = compare_clients(\n",
    "    from_client=low_client, to_client=high_client, hide_usercode=False\n",
    ")"
   ]
  },
  {
   "cell_type": "code",
   "execution_count": null,
   "metadata": {},
   "outputs": [],
   "source": [
    "# check that only requests and usercode are in the diff\n",
    "assert {diff.root_diff.obj_type.__qualname__ for diff in diffs.batches} == {\n",
    "    \"Request\",\n",
    "    \"UserCode\",\n",
    "}"
   ]
  },
  {
   "cell_type": "code",
   "execution_count": null,
   "metadata": {},
   "outputs": [],
   "source": [
    "widget = diffs.resolve()\n",
    "\n",
    "widget._share_all()\n",
    "widget._sync_all()"
   ]
  },
  {
   "cell_type": "markdown",
   "metadata": {},
   "source": [
    "# Check that request synced over to high side"
   ]
  },
  {
   "cell_type": "code",
   "execution_count": null,
   "metadata": {},
   "outputs": [],
   "source": [
    "assert len(high_client.code.get_all()) == 2"
   ]
  },
  {
   "cell_type": "code",
   "execution_count": null,
   "metadata": {},
   "outputs": [],
   "source": [
    "requests = high_client.requests\n",
    "requests"
   ]
  },
  {
   "cell_type": "code",
   "execution_count": null,
   "metadata": {},
   "outputs": [],
   "source": [
    "user_request = None\n",
    "for request in requests:\n",
    "    if \"large_sample\" in getattr(\n",
    "        getattr(request, \"code\", None), \"service_func_name\", None\n",
    "    ):\n",
    "        user_request = request\n",
    "assert user_request"
   ]
  },
  {
   "cell_type": "markdown",
   "metadata": {},
   "source": [
    "# Execute Request"
   ]
  },
  {
   "cell_type": "code",
   "execution_count": null,
   "metadata": {},
   "outputs": [],
   "source": [
    "job = high_client.code.large_sample(blocking=False)"
   ]
  },
  {
   "cell_type": "code",
   "execution_count": null,
   "metadata": {},
   "outputs": [],
   "source": [
    "# third party\n",
    "import pandas as pd\n",
    "\n",
    "res = job.wait().get()\n",
    "\n",
    "assert isinstance(res, pd.DataFrame)"
   ]
  },
  {
   "cell_type": "markdown",
   "metadata": {},
   "source": [
    "# Sync job result to low side"
   ]
  },
  {
   "cell_type": "code",
   "execution_count": null,
   "metadata": {},
   "outputs": [],
   "source": [
    "diffs = compare_clients(\n",
    "    from_client=high_client, to_client=low_client, hide_usercode=False\n",
    ")"
   ]
  },
  {
   "cell_type": "code",
   "execution_count": null,
   "metadata": {},
   "outputs": [],
   "source": [
    "assert len(diffs.batches) == 1\n",
    "assert diffs.batches[0].root_diff.obj_type.__qualname__ == \"Job\""
   ]
  },
  {
   "cell_type": "code",
   "execution_count": null,
   "metadata": {},
   "outputs": [],
   "source": [
    "widget = diffs.resolve()\n",
    "\n",
    "widget._share_all()\n",
    "widget._sync_all()"
   ]
  },
  {
   "cell_type": "markdown",
   "metadata": {},
   "source": [
    "# Check that job was synced to low side"
   ]
  },
  {
   "cell_type": "code",
   "execution_count": null,
   "metadata": {},
   "outputs": [],
   "source": [
    "requests = low_client.requests\n",
    "requests"
   ]
  },
  {
   "cell_type": "code",
   "execution_count": null,
   "metadata": {},
   "outputs": [],
   "source": [
    "user_request = None\n",
    "for request in requests:\n",
    "    if \"large_sample\" in getattr(\n",
    "        getattr(request, \"code\", None), \"service_func_name\", None\n",
    "    ):\n",
    "        user_request = request"
   ]
  },
  {
   "cell_type": "code",
   "execution_count": null,
   "metadata": {},
   "outputs": [],
   "source": [
    "assert \"approved\" in str(user_request.status).lower()"
   ]
  },
  {
   "cell_type": "code",
   "execution_count": null,
   "metadata": {},
   "outputs": [],
   "source": [
    "if environment != \"remote\":\n",
    "    server_high.land()\n",
    "    server_low.land()"
   ]
  },
  {
   "cell_type": "code",
   "execution_count": null,
   "metadata": {},
   "outputs": [],
   "source": []
  }
 ],
 "metadata": {
  "kernelspec": {
   "display_name": "Python 3 (ipykernel)",
   "language": "python",
   "name": "python3"
  },
  "language_info": {
   "codemirror_mode": {
    "name": "ipython",
    "version": 3
   },
   "file_extension": ".py",
   "mimetype": "text/x-python",
   "name": "python",
   "nbconvert_exporter": "python",
   "pygments_lexer": "ipython3",
   "version": "3.12.4"
  }
 },
 "nbformat": 4,
 "nbformat_minor": 4
}
