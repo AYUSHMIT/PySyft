{
 "cells": [
  {
   "cell_type": "code",
   "execution_count": null,
   "id": "0",
   "metadata": {},
   "outputs": [],
   "source": [
    "# import os\n",
    "# os.environ[\"ORCHESTRA_DEPLOYMENT_TYPE\"] = \"remote\"\n",
    "# os.environ[\"DEV_MODE\"] = \"True\"\n",
    "# os.environ[\"TEST_EXTERNAL_REGISTRY\"] = \"k3d-registry.localhost:5800\"\n",
    "# !pip install aiosmtpd\n",
    "# !uv pip install aiosmtpd"
   ]
  },
  {
   "cell_type": "code",
   "execution_count": null,
   "id": "1",
   "metadata": {},
   "outputs": [],
   "source": [
    "# stdlib\n",
    "import os\n",
    "import re\n",
    "\n",
    "environment = os.environ.get(\"ORCHESTRA_DEPLOYMENT_TYPE\", \"python\")\n",
    "environment"
   ]
  },
  {
   "cell_type": "code",
   "execution_count": null,
   "id": "2",
   "metadata": {},
   "outputs": [],
   "source": [
    "# third party\n",
    "from helpers import SENDER\n",
    "from helpers import create_smtp_test_server\n",
    "from helpers import create_user\n",
    "from helpers import emails_table\n",
    "from helpers import make_user\n",
    "\n",
    "# syft absolute\n",
    "import syft as sy"
   ]
  },
  {
   "cell_type": "code",
   "execution_count": null,
   "id": "3",
   "metadata": {},
   "outputs": [],
   "source": [
    "smtp_server = create_smtp_test_server()"
   ]
  },
  {
   "cell_type": "code",
   "execution_count": null,
   "id": "4",
   "metadata": {},
   "outputs": [],
   "source": [
    "server = sy.orchestra.launch(\n",
    "    name=\"bigquery-high\",\n",
    "    dev_mode=True,\n",
    "    server_side_type=\"high\",\n",
    "    reset=True,\n",
    "    port=\"8080\",\n",
    "    n_consumers=1,  # How many workers to be spawned\n",
    "    create_producer=True,  # Can produce more workers\n",
    ")"
   ]
  },
  {
   "cell_type": "code",
   "execution_count": null,
   "id": "5",
   "metadata": {},
   "outputs": [],
   "source": [
    "high_client = sy.login(\n",
    "    url=\"http://localhost:8080\", email=\"info@openmined.org\", password=\"changethis\"\n",
    ")"
   ]
  },
  {
   "cell_type": "code",
   "execution_count": null,
   "id": "6",
   "metadata": {},
   "outputs": [],
   "source": [
    "high_client.api.services.settings.enable_notifications(\n",
    "    email_sender=SENDER,\n",
    "    email_server=\"localhost\",\n",
    "    email_port=\"1025\",\n",
    ")\n",
    "high_client.api.services.settings.disable_notifications()  # Turn off OnBoard Email Notifications"
   ]
  },
  {
   "cell_type": "code",
   "execution_count": null,
   "id": "7",
   "metadata": {},
   "outputs": [],
   "source": [
    "num_users = 5\n",
    "users = []\n",
    "email_disable_index = 0\n",
    "for i in range(num_users):\n",
    "    user = make_user()\n",
    "    create_user(high_client, user)\n",
    "    user.client = high_client\n",
    "    if email_disable_index == i:\n",
    "        user.email_disabled = True\n",
    "    users.append(user)"
   ]
  },
  {
   "cell_type": "code",
   "execution_count": null,
   "id": "8",
   "metadata": {},
   "outputs": [],
   "source": [
    "pattern = r\"syft_client\\.reset_password\\(token='(.*?)', new_password=.*?\\)\"\n",
    "\n",
    "for user in users:\n",
    "    user.client = high_client\n",
    "    if user.email_disabled:\n",
    "        high_client.api.services.settings.disable_notifications()\n",
    "    else:\n",
    "        high_client.api.services.settings.enable_notifications()\n",
    "\n",
    "    user.client.forgot_password(email=user.email)\n",
    "\n",
    "    if user.email_disabled:\n",
    "        assert emails_table.get(user.email, None) is None\n",
    "    else:\n",
    "        assert emails_table.get(user.email, None) is not None\n",
    "        recv_email = emails_table.get(user.email, None)\n",
    "        assert recv_email.email_from == SENDER\n",
    "        assert recv_email.email_to[0] == user.email\n",
    "\n",
    "        token = re.search(pattern, recv_email.email_content).group(1)\n",
    "        new_password = user.make_new_password()\n",
    "        result = user.client.reset_password(token=token, new_password=new_password)\n",
    "        assert isinstance(result, sy.SyftSuccess)"
   ]
  },
  {
   "cell_type": "code",
   "execution_count": null,
   "id": "9",
   "metadata": {},
   "outputs": [],
   "source": [
    "server.land()\n",
    "smtp_server.stop()"
   ]
  },
  {
   "cell_type": "code",
   "execution_count": null,
   "id": "10",
   "metadata": {},
   "outputs": [],
   "source": []
  }
 ],
 "metadata": {
  "kernelspec": {
   "display_name": "Python 3 (ipykernel)",
   "language": "python",
   "name": "python3"
  },
  "language_info": {
   "codemirror_mode": {
    "name": "ipython",
    "version": 3
   },
   "file_extension": ".py",
   "mimetype": "text/x-python",
   "name": "python",
   "nbconvert_exporter": "python",
   "pygments_lexer": "ipython3",
   "version": "3.12.4"
  }
 },
 "nbformat": 4,
 "nbformat_minor": 5
}
