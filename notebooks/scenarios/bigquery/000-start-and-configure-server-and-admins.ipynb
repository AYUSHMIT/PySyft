{
 "cells": [
  {
   "cell_type": "code",
   "execution_count": null,
   "metadata": {},
   "outputs": [],
   "source": [
    "# # stdlib\n",
    "# import os\n",
    "\n",
    "# os.environ[\"ORCHESTRA_DEPLOYMENT_TYPE\"] = \"remote\"\n",
    "# os.environ[\"DEV_MODE\"] = \"True\"\n",
    "# os.environ[\"TEST_EXTERNAL_REGISTRY\"] = \"k3d-registry.localhost:5800\""
   ]
  },
  {
   "cell_type": "code",
   "execution_count": null,
   "metadata": {},
   "outputs": [],
   "source": [
    "# isort: off\n",
    "# stdlib\n",
    "from os import environ as env\n",
    "\n",
    "# syft absolute\n",
    "import syft as sy\n",
    "from syft import get_helpers  # noqa: F401\n",
    "\n",
    "# third party\n",
    "from email_helpers import get_email_server\n",
    "# isort: on"
   ]
  },
  {
   "cell_type": "markdown",
   "metadata": {},
   "source": [
    "# Launch & login"
   ]
  },
  {
   "cell_type": "code",
   "execution_count": null,
   "metadata": {},
   "outputs": [],
   "source": [
    "# when in k8s these are the default values\n",
    "ROOT_EMAIL = \"admin@bigquery.org\"\n",
    "ROOT_PASSWORD = \"bqpw\""
   ]
  },
  {
   "cell_type": "code",
   "execution_count": null,
   "metadata": {},
   "outputs": [],
   "source": [
    "# in case we are not in k8s we set them here for orchestra to use\n",
    "env[\"DEFAULT_ROOT_EMAIL\"] = ROOT_EMAIL\n",
    "env[\"DEFAULT_ROOT_PASSWORD\"] = ROOT_PASSWORD"
   ]
  },
  {
   "cell_type": "code",
   "execution_count": null,
   "metadata": {},
   "outputs": [],
   "source": [
    "server = sy.orchestra.launch(\n",
    "    name=\"bigquery-high\",\n",
    "    dev_mode=True,\n",
    "    server_side_type=\"high\",\n",
    "    reset=True,\n",
    "    port=\"8080\",\n",
    "    n_consumers=1,  # How many workers to be spawned\n",
    "    create_producer=True,  # Can produce more workers\n",
    ")"
   ]
  },
  {
   "cell_type": "code",
   "execution_count": null,
   "metadata": {},
   "outputs": [],
   "source": [
    "email_server, smtp_server = get_email_server(reset=True)"
   ]
  },
  {
   "cell_type": "code",
   "execution_count": null,
   "metadata": {},
   "outputs": [],
   "source": [
    "root_client = sy.login(\n",
    "    url=\"http://localhost:8080\", email=ROOT_EMAIL, password=ROOT_PASSWORD\n",
    ")"
   ]
  },
  {
   "cell_type": "markdown",
   "metadata": {},
   "source": [
    "# Create new admin client"
   ]
  },
  {
   "cell_type": "code",
   "execution_count": null,
   "metadata": {},
   "outputs": [],
   "source": [
    "ADMIN_EMAIL, ADMIN_PW = \"admin2@bigquery.org\", \"bqpw2\""
   ]
  },
  {
   "cell_type": "code",
   "execution_count": null,
   "metadata": {},
   "outputs": [],
   "source": [
    "# create\n",
    "root_client.register(\n",
    "    name=\"second admin\", email=ADMIN_EMAIL, password=ADMIN_PW, password_verify=ADMIN_PW\n",
    ")\n",
    "# update role\n",
    "new_user_id = root_client.users.search(email=ADMIN_EMAIL)[0].id\n",
    "root_client.users.update(uid=new_user_id, role=\"admin\")"
   ]
  },
  {
   "cell_type": "markdown",
   "metadata": {},
   "source": [
    "# We cannot delete the root client"
   ]
  },
  {
   "cell_type": "code",
   "execution_count": null,
   "metadata": {},
   "outputs": [],
   "source": [
    "high_client = sy.login(\n",
    "    url=\"http://localhost:8080\", email=ADMIN_EMAIL, password=ADMIN_PW\n",
    ")"
   ]
  },
  {
   "cell_type": "code",
   "execution_count": null,
   "metadata": {},
   "outputs": [],
   "source": [
    "root_admin_id = root_client.users.search(email=ROOT_EMAIL)[0].id"
   ]
  },
  {
   "cell_type": "code",
   "execution_count": null,
   "metadata": {},
   "outputs": [],
   "source": [
    "with sy.raises(sy.SyftException):\n",
    "    high_client.users.delete(root_admin_id)"
   ]
  },
  {
   "cell_type": "markdown",
   "metadata": {},
   "source": [
    "# Create ephemeral admin and delete it"
   ]
  },
  {
   "cell_type": "code",
   "execution_count": null,
   "metadata": {},
   "outputs": [],
   "source": [
    "# register 2nd new admin (to delete)\n",
    "user_email, user_pw = \"admin3@bigquery.org\", \"bqpw3\"\n",
    "## create\n",
    "root_client.register(\n",
    "    name=\"x\", email=user_email, password=user_pw, password_verify=user_pw\n",
    ")\n",
    "## update role\n",
    "new_user_id2 = root_client.users.search(email=user_email)[0].id\n",
    "root_client.users.update(uid=new_user_id, role=\"admin\")"
   ]
  },
  {
   "cell_type": "code",
   "execution_count": null,
   "metadata": {},
   "outputs": [],
   "source": [
    "root_client.users.delete(new_user_id2)"
   ]
  },
  {
   "cell_type": "code",
   "execution_count": null,
   "metadata": {},
   "outputs": [],
   "source": [
    "# import os\n",
    "# from syft.client.client import SyftClient\n",
    "# from syft.service.user.user_roles import ServiceRole\n",
    "# import ipykernel\n",
    "# import json\n",
    "# from pathlib import Path\n",
    "# import uuid\n",
    "# from syft.util.util import get_root_data_path\n",
    "# from syft import SyftError, SyftException\n",
    "\n",
    "# NB_STATE_DIRECTORY = \"nb_states\"\n",
    "\n",
    "# def current_nbname() -> Path:\n",
    "#     \"\"\"Get the \"\"\"\n",
    "#     curr_kernel_file = Path(ipykernel.get_connection_file())\n",
    "#     kernel_file = json.loads(curr_kernel_file.read_text())\n",
    "#     nb_name = kernel_file['jupyter_session']\n",
    "#     return Path(nb_name)\n",
    "\n",
    "\n",
    "# def get_or_create_state_dir(filename: str) -> Path:\n",
    "#     nb_path = get_root_data_path() / NB_STATE_DIRECTORY\n",
    "#     filepath = nb_path / filename\n",
    "#     if not filepath.exists():\n",
    "#         filepath.mkdir(parents=True, exist_ok=True)\n",
    "#     return filepath\n",
    "\n",
    "\n",
    "# def state_dir_for_nb() -> Path:\n",
    "#     nb_name = current_nbname()\n",
    "#     filename = nb_name.name.split(\".json\")[0]\n",
    "#     return get_or_create_state_dir(filename=nb_name.name)\n",
    "\n",
    "\n",
    "# def is_admin(client: SyftClient) -> bool:\n",
    "#     return client._SyftClient__user_role == ServiceRole.ADMIN\n",
    "\n",
    "# def checkpoint_db(client: SyftClient, root_email: str | None = None, root_pwd: str | None = None) -> None:\n",
    "#     migration_data = client.get_migration_data(include_blobs=True)\n",
    "#     if isinstance(migration_data, SyftError):\n",
    "#         raise SyftException(message=migration_data.message)\n",
    "\n",
    "#     state_dir = state_dir_for_nb()\n",
    "#     state_dir_server = state_dir / client.id.to_string()\n",
    "#     migration_data.save(path=state_dir_server/\"migration.blob\", yaml_path=state_dir_server/\"migration.yaml\")\n",
    "#     return state_dir_server"
   ]
  },
  {
   "cell_type": "code",
   "execution_count": null,
   "metadata": {},
   "outputs": [],
   "source": [
    "# third party\n",
    "from checkpoint import checkpoint_db"
   ]
  },
  {
   "cell_type": "code",
   "execution_count": null,
   "metadata": {},
   "outputs": [],
   "source": [
    "checkpoint_db(root_client)"
   ]
  },
  {
   "cell_type": "markdown",
   "metadata": {},
   "source": [
    "# Cleanup"
   ]
  },
  {
   "cell_type": "code",
   "execution_count": null,
   "metadata": {},
   "outputs": [],
   "source": [
    "smtp_server.stop()"
   ]
  },
  {
   "cell_type": "code",
   "execution_count": null,
   "metadata": {},
   "outputs": [],
   "source": [
    "server.land()"
   ]
  },
  {
   "cell_type": "code",
   "execution_count": null,
   "metadata": {},
   "outputs": [],
   "source": []
  }
 ],
 "metadata": {
  "kernelspec": {
   "display_name": "Python 3 (ipykernel)",
   "language": "python",
   "name": "python3"
  },
  "language_info": {
   "codemirror_mode": {
    "name": "ipython",
    "version": 3
   },
   "file_extension": ".py",
   "mimetype": "text/x-python",
   "name": "python",
   "nbconvert_exporter": "python",
   "pygments_lexer": "ipython3",
   "version": "3.11.5"
  }
 },
 "nbformat": 4,
 "nbformat_minor": 4
}
