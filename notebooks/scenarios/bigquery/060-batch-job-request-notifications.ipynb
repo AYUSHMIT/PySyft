{
 "cells": [
  {
   "cell_type": "code",
   "execution_count": null,
   "id": "0",
   "metadata": {},
   "outputs": [],
   "source": [
    "# stdlib\n",
    "import os\n",
    "from os import environ as env\n",
    "from time import sleep\n",
    "\n",
    "# syft absolute\n",
    "import syft as sy\n",
    "from syft.util.test_helpers.email_helpers import SENDER\n",
    "from syft.util.test_helpers.email_helpers import get_email_server"
   ]
  },
  {
   "cell_type": "code",
   "execution_count": null,
   "id": "1",
   "metadata": {},
   "outputs": [],
   "source": [
    "ADMIN_EMAIL, ADMIN_PW = \"admin@bigquery.org\", \"bqpw\"\n",
    "\n",
    "environment = os.environ.get(\"ORCHESTRA_DEPLOYMENT_TYPE\", \"python\")\n",
    "environment"
   ]
  },
  {
   "cell_type": "code",
   "execution_count": null,
   "id": "2",
   "metadata": {},
   "outputs": [],
   "source": [
    "# in case we are not in k8s we set them here for orchestra to use\n",
    "env[\"DEFAULT_ROOT_EMAIL\"] = ADMIN_EMAIL\n",
    "env[\"DEFAULT_ROOT_PASSWORD\"] = ADMIN_PW"
   ]
  },
  {
   "cell_type": "code",
   "execution_count": null,
   "id": "3",
   "metadata": {},
   "outputs": [],
   "source": [
    "server = sy.orchestra.launch(\n",
    "    name=\"bigquery-high\",\n",
    "    dev_mode=True,\n",
    "    server_side_type=\"high\",\n",
    "    reset=True,\n",
    "    port=\"8080\",\n",
    "    n_consumers=1,  # How many workers to be spawned\n",
    "    create_producer=True,  # Can produce more workers\n",
    ")"
   ]
  },
  {
   "cell_type": "code",
   "execution_count": null,
   "id": "4",
   "metadata": {},
   "outputs": [],
   "source": [
    "email_server, smtp_server = get_email_server()"
   ]
  },
  {
   "cell_type": "code",
   "execution_count": null,
   "id": "5",
   "metadata": {},
   "outputs": [],
   "source": [
    "high_client = sy.login(\n",
    "    url=\"http://localhost:8080\", email=ADMIN_EMAIL, password=ADMIN_PW\n",
    ")"
   ]
  },
  {
   "cell_type": "code",
   "execution_count": null,
   "id": "6",
   "metadata": {},
   "outputs": [],
   "source": [
    "high_client.api.services.settings.enable_notifications(\n",
    "    email_sender=SENDER,\n",
    "    email_server=\"localhost\",\n",
    "    email_port=\"9025\",\n",
    ")"
   ]
  },
  {
   "cell_type": "markdown",
   "id": "7",
   "metadata": {},
   "source": [
    "# Check default email instant deliver"
   ]
  },
  {
   "cell_type": "code",
   "execution_count": null,
   "id": "8",
   "metadata": {},
   "outputs": [],
   "source": [
    "@sy.syft_function_single_use()\n",
    "def test_syft_function():  # noqa: F811\n",
    "    print(\"Testing syft function request email notification\")\n",
    "    return True\n",
    "\n",
    "\n",
    "# Create a project\n",
    "project = sy.Project(\n",
    "    name=\"My Cool Project\",\n",
    "    description=\"\"\"Hi, I want to calculate the mean of your private data,\\\n",
    "                    pretty please!\"\"\",\n",
    "    members=[high_client],\n",
    ")\n",
    "project.create_code_request(test_syft_function, high_client)"
   ]
  },
  {
   "cell_type": "code",
   "execution_count": null,
   "id": "9",
   "metadata": {},
   "outputs": [],
   "source": [
    "assert (\n",
    "    \"A new request has been submitted and requires your attention.\"\n",
    "    in email_server.load_emails()[ADMIN_EMAIL][-1].email_content\n",
    ")"
   ]
  },
  {
   "cell_type": "markdown",
   "id": "10",
   "metadata": {},
   "source": [
    "## Batch Notifications"
   ]
  },
  {
   "cell_type": "code",
   "execution_count": null,
   "id": "11",
   "metadata": {},
   "outputs": [],
   "source": [
    "current_admin_email_cache_len = len(email_server.load_emails()[ADMIN_EMAIL])"
   ]
  },
  {
   "cell_type": "code",
   "execution_count": null,
   "id": "12",
   "metadata": {},
   "outputs": [],
   "source": [
    "# syft absolute\n",
    "from syft.service.notifier.notifier_enums import EMAIL_TYPES\n",
    "from syft.service.notifier.notifier_enums import NOTIFICATION_FREQUENCY\n",
    "\n",
    "high_client.settings.batch_notifications(\n",
    "    EMAIL_TYPES.REQUEST_EMAIL, NOTIFICATION_FREQUENCY.DAILY, start_time=\"6:00 pm\"\n",
    ")"
   ]
  },
  {
   "cell_type": "code",
   "execution_count": null,
   "id": "13",
   "metadata": {},
   "outputs": [],
   "source": [
    "@sy.syft_function_single_use()\n",
    "def test_syft_function_data_upload():  # noqa: F811\n",
    "    print(\"Testing data upload request notification email\")\n",
    "    return True\n",
    "\n",
    "\n",
    "project.create_code_request(test_syft_function_data_upload, high_client)\n",
    "\n",
    "\n",
    "@sy.syft_function_single_use()\n",
    "def test_syft_function_model_training():  # noqa: F811\n",
    "    print(\"Testing model training request notification email\")\n",
    "    return True\n",
    "\n",
    "\n",
    "project.create_code_request(test_syft_function_model_training, high_client)\n",
    "\n",
    "\n",
    "@sy.syft_function_single_use()\n",
    "def test_syft_function_data_analysis():  # noqa: F811\n",
    "    print(\"Testing data analysis request notification email\")\n",
    "    return True\n",
    "\n",
    "\n",
    "project.create_code_request(test_syft_function_data_analysis, high_client)\n",
    "\n",
    "\n",
    "@sy.syft_function_single_use()\n",
    "def test_syft_function_data_cleaning():  # noqa: F811\n",
    "    print(\"Testing data cleaning request notification email\")\n",
    "    return True\n",
    "\n",
    "\n",
    "project.create_code_request(test_syft_function_data_cleaning, high_client)\n",
    "\n",
    "\n",
    "@sy.syft_function_single_use()\n",
    "def test_syft_function_report_generation():  # noqa: F811\n",
    "    print(\"Testing report generation request notification email\")\n",
    "    return True\n",
    "\n",
    "\n",
    "project.create_code_request(test_syft_function_report_generation, high_client)"
   ]
  },
  {
   "cell_type": "code",
   "execution_count": null,
   "id": "14",
   "metadata": {},
   "outputs": [],
   "source": [
    "assert current_admin_email_cache_len == len(email_server.load_emails()[ADMIN_EMAIL])"
   ]
  },
  {
   "cell_type": "code",
   "execution_count": null,
   "id": "15",
   "metadata": {},
   "outputs": [],
   "source": [
    "high_client.settings.batch_notifications(\n",
    "    EMAIL_TYPES.REQUEST_EMAIL, NOTIFICATION_FREQUENCY.INSTANT\n",
    ")"
   ]
  },
  {
   "cell_type": "code",
   "execution_count": null,
   "id": "16",
   "metadata": {},
   "outputs": [],
   "source": [
    "sleep(15)"
   ]
  },
  {
   "cell_type": "code",
   "execution_count": null,
   "id": "17",
   "metadata": {},
   "outputs": [],
   "source": [
    "assert current_admin_email_cache_len + 1 == len(email_server.load_emails()[ADMIN_EMAIL])"
   ]
  },
  {
   "cell_type": "code",
   "execution_count": null,
   "id": "18",
   "metadata": {},
   "outputs": [],
   "source": [
    "assert (\n",
    "    \"Batched Requests Notification\"\n",
    "    in email_server.load_emails()[ADMIN_EMAIL][-1].email_content\n",
    ")"
   ]
  },
  {
   "cell_type": "markdown",
   "id": "19",
   "metadata": {},
   "source": [
    "## Test Setting batch notifications without passing start time"
   ]
  },
  {
   "cell_type": "code",
   "execution_count": null,
   "id": "20",
   "metadata": {},
   "outputs": [],
   "source": [
    "with sy.raises(sy.SyftException, show=True):\n",
    "    high_client.settings.batch_notifications(\n",
    "        EMAIL_TYPES.REQUEST_EMAIL, NOTIFICATION_FREQUENCY.DAILY\n",
    "    )"
   ]
  },
  {
   "cell_type": "markdown",
   "id": "21",
   "metadata": {},
   "source": [
    "## Test setting batch notifications with bad formatted start time"
   ]
  },
  {
   "cell_type": "code",
   "execution_count": null,
   "id": "22",
   "metadata": {},
   "outputs": [],
   "source": [
    "with sy.raises(sy.SyftException, show=True):\n",
    "    high_client.settings.batch_notifications(\n",
    "        EMAIL_TYPES.REQUEST_EMAIL, NOTIFICATION_FREQUENCY.DAILY, \"6 pm\"\n",
    "    )"
   ]
  },
  {
   "cell_type": "code",
   "execution_count": null,
   "id": "23",
   "metadata": {},
   "outputs": [],
   "source": [
    "smtp_server.stop()"
   ]
  },
  {
   "cell_type": "code",
   "execution_count": null,
   "id": "24",
   "metadata": {},
   "outputs": [],
   "source": [
    "server.land()"
   ]
  },
  {
   "cell_type": "code",
   "execution_count": null,
   "id": "25",
   "metadata": {},
   "outputs": [],
   "source": []
  }
 ],
 "metadata": {
  "kernelspec": {
   "display_name": "Python 3 (ipykernel)",
   "language": "python",
   "name": "python3"
  },
  "language_info": {
   "codemirror_mode": {
    "name": "ipython",
    "version": 3
   },
   "file_extension": ".py",
   "mimetype": "text/x-python",
   "name": "python",
   "nbconvert_exporter": "python",
   "pygments_lexer": "ipython3",
   "version": "3.12.5"
  }
 },
 "nbformat": 4,
 "nbformat_minor": 5
}
