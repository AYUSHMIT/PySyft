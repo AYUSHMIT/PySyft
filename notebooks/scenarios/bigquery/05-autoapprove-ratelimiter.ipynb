{
 "cells": [
  {
   "cell_type": "code",
   "execution_count": null,
   "id": "d23b4d75-94b3-4dc8-8741-c3fed91747c5",
   "metadata": {},
   "outputs": [],
   "source": [
    "project_id = \"\"  # add your bigquery project_id\n",
    "database = \"test_1gb\"\n",
    "table = \"accounts\""
   ]
  },
  {
   "cell_type": "code",
   "execution_count": null,
   "id": "f72e70bd-1aa4-45bc-b142-5a8c36756eb5",
   "metadata": {},
   "outputs": [],
   "source": [
    "query = f\"SELECT * FROM {project_id}.{database}.{table} limit 10\""
   ]
  },
  {
   "cell_type": "code",
   "execution_count": null,
   "id": "5118c9cc-e3fc-4768-a646-5c507f39c733",
   "metadata": {},
   "outputs": [],
   "source": [
    "# !uv pip install db-dtypes\n",
    "# !uv pip install google-cloud-bigquery==3.24.0"
   ]
  },
  {
   "cell_type": "code",
   "execution_count": null,
   "id": "57c97872-0ebd-4ece-8c3e-88d0a27bfce8",
   "metadata": {},
   "outputs": [],
   "source": [
    "SYFT_VERSION = \">=0.8.7.b0,<0.9\"\n",
    "package_string = f'\"syft{SYFT_VERSION}\"'\n",
    "# %pip install {package_string} -q"
   ]
  },
  {
   "cell_type": "code",
   "execution_count": null,
   "id": "5313ef79-c7a0-4f5c-9a61-f2029d060c04",
   "metadata": {},
   "outputs": [],
   "source": [
    "# syft absolute\n",
    "import syft as sy"
   ]
  },
  {
   "cell_type": "code",
   "execution_count": null,
   "id": "0d736170-3d96-47ca-921c-c97b6f3eca60",
   "metadata": {},
   "outputs": [],
   "source": [
    "node_name = \"bigquery-high-side\""
   ]
  },
  {
   "cell_type": "code",
   "execution_count": null,
   "id": "9ec3c500-0ec1-4701-ae8a-b9509638b9ae",
   "metadata": {},
   "outputs": [],
   "source": [
    "node = sy.orchestra.launch(\n",
    "    name=node_name,\n",
    "    dev_mode=True,\n",
    "    create_producer=True,\n",
    "    n_consumers=1,\n",
    "    reset=True,\n",
    "    port=\"auto\",\n",
    ")"
   ]
  },
  {
   "cell_type": "code",
   "execution_count": null,
   "id": "2ba848b8-cbda-4686-8ecd-392702fe504f",
   "metadata": {},
   "outputs": [],
   "source": [
    "high_client = node.login(email=\"info@openmined.org\", password=\"changethis\")"
   ]
  },
  {
   "cell_type": "code",
   "execution_count": null,
   "id": "6b4f7f3d-554c-4767-87c1-9650103f6014",
   "metadata": {},
   "outputs": [],
   "source": [
    "# stdlib\n",
    "import json\n",
    "\n",
    "SERVICE_ACCOUNT = json.loads(open(\"service_account.json\").read())"
   ]
  },
  {
   "cell_type": "code",
   "execution_count": null,
   "id": "1701adfd-c570-4ebd-b75e-853fb3f665af",
   "metadata": {},
   "outputs": [],
   "source": [
    "@sy.api_endpoint_method(\n",
    "    settings={\"SERVICE_ACCOUNT\": SERVICE_ACCOUNT},\n",
    ")\n",
    "def query_endpoint(context, sql: str) -> str:\n",
    "    # syft absolute\n",
    "    import syft as sy\n",
    "\n",
    "    result = None\n",
    "    try:\n",
    "        # build up the state object so we can track a users sql submissions\n",
    "        # stdlib\n",
    "        from datetime import datetime\n",
    "\n",
    "        query_time = datetime.now()\n",
    "\n",
    "        user_email = context.user.email\n",
    "        submissions = context.state.get(\"submissions\", {})\n",
    "        if user_email not in submissions:\n",
    "            submissions[user_email] = {\"queries\": {}, \"results\": {}}\n",
    "\n",
    "        query_str = sql.strip()\n",
    "        # exit early\n",
    "        if query_str in submissions[user_email][\"queries\"]:\n",
    "            # they have already submitted this query so just return the existing uid\n",
    "            result_ptr_id = submissions[user_email][\"queries\"][query_str]\n",
    "            return (\n",
    "                \"Query submitted for approval. \"\n",
    "                + f'Call client.bigquery.get_result(uid=\"{result_ptr_id}\") '\n",
    "                + 'to get your result.\"'\n",
    "            )\n",
    "\n",
    "        # do the query\n",
    "        # third party\n",
    "        from google.cloud import bigquery\n",
    "        from google.oauth2 import service_account\n",
    "\n",
    "        credentials = service_account.Credentials.from_service_account_info(\n",
    "            context.settings[\"SERVICE_ACCOUNT\"]\n",
    "        )\n",
    "        scoped_credentials = credentials.with_scopes(\n",
    "            [\"https://www.googleapis.com/auth/bigquery\"]\n",
    "        )\n",
    "\n",
    "        client = bigquery.Client(\n",
    "            credentials=scoped_credentials,\n",
    "            location=\"us-west1\",\n",
    "        )\n",
    "\n",
    "        query_job = client.query(sql)\n",
    "        # convert to pandas dataframe\n",
    "        result = query_job.result().to_dataframe()\n",
    "    except Exception:\n",
    "        result = sy.SyftError(\n",
    "            message=f\"There was an error running {sql}. Please contact an admin.\"\n",
    "        )\n",
    "\n",
    "    try:\n",
    "        # upload to blob storage\n",
    "        result_obj = sy.ActionObject.from_obj(result)\n",
    "\n",
    "        def to_blobstorage(action_obj, client):\n",
    "            action_obj.syft_node_location = client.id\n",
    "            action_obj.syft_client_verify_key = client.verify_key\n",
    "            action_obj._save_to_blob_storage()\n",
    "            action_obj.syft_action_data_cache = action_obj.as_empty_data()\n",
    "            action_obj.syft_action_data_repr_ = str(action_obj.syft_action_data_type)\n",
    "            action_obj.syft_action_data_str_ = str(action_obj.syft_action_data_type)\n",
    "            action_obj_ptr = client.api.services.action.set(\n",
    "                action_obj, add_storage_permission=True\n",
    "            )\n",
    "            return action_obj_ptr\n",
    "\n",
    "        result_ptr = to_blobstorage(result_obj, context.admin_client)\n",
    "\n",
    "        # store time and uid of result in state and return to user\n",
    "        result_ptr_str = str(result_ptr.id).lower()\n",
    "        submissions[user_email][\"queries\"][query_str] = (\n",
    "            result_ptr_str  # for this function\n",
    "        )\n",
    "        submissions[user_email][\"results\"][result_ptr_str] = (\n",
    "            query_time  # for the results function\n",
    "        )\n",
    "        context.state[\"submissions\"] = submissions\n",
    "        return (\n",
    "            \"Query submitted for approval. \"\n",
    "            + f'Call client.bigquery.get_result(uid=\"{str(result_ptr.id)}\") '\n",
    "            + 'to get your result.\"'\n",
    "        )\n",
    "    except Exception:\n",
    "        # unable to generate the action object\n",
    "        return sy.SyftError(\n",
    "            message=f\"There was an error running {sql}. Please contact an admin.\"\n",
    "        )"
   ]
  },
  {
   "cell_type": "code",
   "execution_count": null,
   "id": "69defe0e-cfca-4f41-a62c-1df1a2268e4d",
   "metadata": {},
   "outputs": [],
   "source": [
    "query_endpoint.view_access"
   ]
  },
  {
   "cell_type": "code",
   "execution_count": null,
   "id": "4ffd4098-8b0c-4123-b526-e8010306e622",
   "metadata": {},
   "outputs": [],
   "source": [
    "query_endpoint.view_access = False\n",
    "query_endpoint.view_access"
   ]
  },
  {
   "cell_type": "code",
   "execution_count": null,
   "id": "f339e26b-5186-434e-bdf5-002af0c44f48",
   "metadata": {},
   "outputs": [],
   "source": [
    "new_endpoint = sy.TwinAPIEndpoint(\n",
    "    path=\"bigquery.query\",\n",
    "    mock_function=query_endpoint,\n",
    "    private_function=query_endpoint,\n",
    "    endpoint_timeout=60,\n",
    ")"
   ]
  },
  {
   "cell_type": "code",
   "execution_count": null,
   "id": "38c1858e-7262-4665-9366-40a6c4dab142",
   "metadata": {},
   "outputs": [],
   "source": [
    "high_client.api.services.api.delete(endpoint_path=\"bigquery.query\")\n",
    "response = high_client.api.services.api.add(endpoint=new_endpoint)\n",
    "response"
   ]
  },
  {
   "cell_type": "code",
   "execution_count": null,
   "id": "d01e4b1f-339a-4067-9320-5e530bf7e4ed",
   "metadata": {},
   "outputs": [],
   "source": [
    "@sy.api_endpoint(\n",
    "    path=\"bigquery.get_result\", settings={\"approve_seconds\": 60}, endpoint_timeout=60\n",
    ")\n",
    "def get_result(context, uid: str) -> str:\n",
    "    # syft absolute\n",
    "    import syft as sy\n",
    "\n",
    "    try:\n",
    "        # check of the user and uid are in the state\n",
    "        # stdlib\n",
    "        from datetime import datetime\n",
    "        from datetime import timedelta\n",
    "\n",
    "        user_email = context.user.email\n",
    "\n",
    "        # get the submissions from the other endpoint state\n",
    "        endpoint = context.admin_client.api.services.api.get(api_path=\"bigquery.query\")\n",
    "        submissions = {}\n",
    "        if hasattr(endpoint, \"mock_function\"):\n",
    "            submissions_obj = endpoint.mock_function.state\n",
    "            submissions = submissions_obj.get(\"submissions\", {})\n",
    "\n",
    "        if user_email not in submissions:\n",
    "            submissions[user_email] = {\"queries\": {}, \"results\": {}}\n",
    "\n",
    "        uid_str = uid.strip().lower()\n",
    "        if uid_str not in submissions[user_email][\"results\"]:\n",
    "            # no uid for this user\n",
    "            return f'There is no result matching {uid}. Please contact an admin.\"'\n",
    "        request_time = submissions[user_email][\"results\"][uid_str]\n",
    "        seconds = int(context.settings[\"approve_seconds\"])\n",
    "\n",
    "        delta = timedelta(seconds=seconds)\n",
    "        result_ready = request_time + delta\n",
    "        if datetime.now() < result_ready:\n",
    "            # query not ready\n",
    "            return sy.SyftNotReady(\n",
    "                message=f\"The request to run the query for {uid} is pending. Try again later.\"\n",
    "            )\n",
    "        # fall through\n",
    "    except Exception:\n",
    "        return sy.SyftError(\n",
    "            message=f\"There was an error fetching {uid}. Please contact an admin.\"\n",
    "        )\n",
    "\n",
    "    try:\n",
    "        # go get the data and return it\n",
    "        id = sy.UID(uid)\n",
    "        action_obj = context.admin_client.api.services.action.get(uid=id)\n",
    "        return action_obj\n",
    "    except Exception:\n",
    "        return sy.SyftError(\n",
    "            message=f\"There was an error fetching {uid}. Please contact an admin.\"\n",
    "        )\n",
    "\n",
    "\n",
    "high_client.api.services.api.delete(endpoint_path=\"bigquery.get_result\")\n",
    "response = high_client.api.services.api.add(endpoint=get_result)\n",
    "response"
   ]
  },
  {
   "cell_type": "code",
   "execution_count": null,
   "id": "030fd15a-edc7-41e4-b59f-463e8be598bc",
   "metadata": {},
   "outputs": [],
   "source": [
    "high_client.api.services.api"
   ]
  },
  {
   "cell_type": "code",
   "execution_count": null,
   "id": "16c9f2f0-a988-416d-b52a-628cf27f8bff",
   "metadata": {},
   "outputs": [],
   "source": [
    "high_client.register(\n",
    "    name=\"Jane Doe\",\n",
    "    email=\"jane@caltech.edu\",\n",
    "    password=\"abc123\",\n",
    "    password_verify=\"abc123\",\n",
    "    institution=\"Caltech\",\n",
    "    website=\"https://www.caltech.edu/\",\n",
    ")"
   ]
  },
  {
   "cell_type": "code",
   "execution_count": null,
   "id": "7c20a33e-5784-4f10-a08d-22293bc939bc",
   "metadata": {},
   "outputs": [],
   "source": [
    "jane_client = high_client.login_as(email=\"jane@caltech.edu\")"
   ]
  },
  {
   "cell_type": "code",
   "execution_count": null,
   "id": "9f752816-8347-4ca0-9dbe-1e336b593eca",
   "metadata": {},
   "outputs": [],
   "source": [
    "res = jane_client.api.bigquery.query(sql=query)\n",
    "res"
   ]
  },
  {
   "cell_type": "code",
   "execution_count": null,
   "id": "0c66df31-6a98-442e-847f-b36e304d050f",
   "metadata": {},
   "outputs": [],
   "source": [
    "# stdlib\n",
    "import re\n",
    "\n",
    "\n",
    "def extract_uid(input_string):\n",
    "    match = re.search(r'uid=\"([^\"]+)\"', input_string)\n",
    "    if match:\n",
    "        return match.group(1)\n",
    "    else:\n",
    "        return None\n",
    "\n",
    "\n",
    "uid = extract_uid(str(res))\n",
    "uid"
   ]
  },
  {
   "cell_type": "code",
   "execution_count": null,
   "id": "a36ecb92-2570-4151-a2dc-404d24dbabee",
   "metadata": {},
   "outputs": [],
   "source": [
    "res = jane_client.api.bigquery.get_result(uid=uid)\n",
    "res"
   ]
  },
  {
   "cell_type": "code",
   "execution_count": null,
   "id": "3f0f4f5e-40f2-47af-8ec2-a08932beaf94",
   "metadata": {},
   "outputs": [],
   "source": [
    "res = jane_client.api.bigquery.get_result(uid=uid)\n",
    "res"
   ]
  },
  {
   "cell_type": "code",
   "execution_count": null,
   "id": "c4a919a9-3c6a-4d84-9d63-d95888c2b920",
   "metadata": {},
   "outputs": [],
   "source": [
    "@sy.api_endpoint_method()\n",
    "def set_endpoint_state(context, endpoint_path: str, state: dict):\n",
    "    # syft absolute\n",
    "    import syft as sy\n",
    "\n",
    "    if hasattr(state, \"syft_action_data\"):\n",
    "        state = state.syft_action_data\n",
    "    if not isinstance(state, dict):\n",
    "        return sy.SyftError(message=f\"state is {type(state)}, must be dict\")\n",
    "    result = context.admin_client.api.services.api.set_state(\n",
    "        api_path=endpoint_path, state=state, both=True\n",
    "    )\n",
    "    return result\n",
    "\n",
    "\n",
    "@sy.api_endpoint_method()\n",
    "def empty_mock(context, endpoint_path: str, state: dict):\n",
    "    return \"not allowed\"\n",
    "\n",
    "\n",
    "new_endpoint = sy.TwinAPIEndpoint(\n",
    "    path=\"state.set\",\n",
    "    mock_function=empty_mock,\n",
    "    private_function=set_endpoint_state,\n",
    ")\n",
    "\n",
    "high_client.api.services.api.delete(endpoint_path=\"state.set\")\n",
    "high_client.api.services.api.add(endpoint=new_endpoint)"
   ]
  },
  {
   "cell_type": "code",
   "execution_count": null,
   "id": "d2d191f8-7c64-4a01-9e40-be77952321d1",
   "metadata": {},
   "outputs": [],
   "source": [
    "# get the state\n",
    "current_state = high_client.api.services.api.get(\n",
    "    api_path=\"bigquery.query\"\n",
    ").mock_function.state\n",
    "current_state"
   ]
  },
  {
   "cell_type": "code",
   "execution_count": null,
   "id": "cadc7de4-5e2b-437c-9f5b-b944638e45a3",
   "metadata": {},
   "outputs": [],
   "source": [
    "# reset the state\n",
    "high_client.api.services.state.set(endpoint_path=\"bigquery.query\", state={})"
   ]
  },
  {
   "cell_type": "code",
   "execution_count": null,
   "id": "de988b2d-0d3d-4eec-b981-396698f8acb6",
   "metadata": {},
   "outputs": [],
   "source": [
    "high_client.api.services.api.get(api_path=\"bigquery.query\").mock_function.state"
   ]
  },
  {
   "cell_type": "code",
   "execution_count": null,
   "id": "2e91fa45-bc2f-4312-83ac-e308e41ba58d",
   "metadata": {},
   "outputs": [],
   "source": [
    "current_state"
   ]
  },
  {
   "cell_type": "code",
   "execution_count": null,
   "id": "0c227eef-7b7e-454f-9285-0cd69309e871",
   "metadata": {},
   "outputs": [],
   "source": [
    "# restore it\n",
    "high_client.api.services.state.set(endpoint_path=\"bigquery.query\", state=current_state)"
   ]
  },
  {
   "cell_type": "code",
   "execution_count": null,
   "id": "284f0ee0-801c-4af4-b8bf-eb99246fb0d0",
   "metadata": {},
   "outputs": [],
   "source": [
    "high_client.api.services.api.get(api_path=\"bigquery.query\").mock_function.state"
   ]
  },
  {
   "cell_type": "code",
   "execution_count": null,
   "id": "1b84e0ef-b7ac-43c1-8765-3e02888156c9",
   "metadata": {},
   "outputs": [],
   "source": []
  }
 ],
 "metadata": {
  "kernelspec": {
   "display_name": "Python 3 (ipykernel)",
   "language": "python",
   "name": "python3"
  },
  "language_info": {
   "codemirror_mode": {
    "name": "ipython",
    "version": 3
   },
   "file_extension": ".py",
   "mimetype": "text/x-python",
   "name": "python",
   "nbconvert_exporter": "python",
   "pygments_lexer": "ipython3",
   "version": "3.12.2"
  }
 },
 "nbformat": 4,
 "nbformat_minor": 5
}
