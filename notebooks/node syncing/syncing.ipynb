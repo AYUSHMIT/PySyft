{
 "cells": [
  {
   "cell_type": "code",
   "execution_count": 1,
   "id": "60b08c04",
   "metadata": {},
   "outputs": [
    {
     "name": "stderr",
     "output_type": "stream",
     "text": [
      "kj/filesystem-disk-unix.c++:1734: warning: PWD environment variable doesn't match current directory; pwd = /Users/eelco/dev/PySyft\n"
     ]
    }
   ],
   "source": [
    "# syft absolute\n",
    "import syft as sy\n",
    "from syft import ActionObject\n",
    "from syft.client.syncing import compare_states\n",
    "from syft.client.syncing import resolve"
   ]
  },
  {
   "cell_type": "code",
   "execution_count": 2,
   "id": "d1db0f4f",
   "metadata": {},
   "outputs": [
    {
     "name": "stdout",
     "output_type": "stream",
     "text": [
      "Staging Protocol Changes...\n",
      "SQLite Store Path:\n",
      "!open file:///var/folders/pn/f6xkq7mx683g5jkyt91gqyzw0000gn/T/8a1c04544655402190588aec30079bc3.sqlite\n",
      "\n",
      "Creating default worker image with tag='local-dev'\n",
      "Building default worker image with tag=local-dev\n",
      "Setting up worker poolname=default-pool workers=1 image_uid=3b099177864744e3903cdb53d8bdbda9 in_memory=True\n",
      "Created default worker pool.\n",
      "Data Migrated to latest version !!!\n",
      "Staging Protocol Changes...\n",
      "SQLite Store Path:\n",
      "!open file:///var/folders/pn/f6xkq7mx683g5jkyt91gqyzw0000gn/T/8212e6797fde4c3fba4fc53ab555a886.sqlite\n",
      "\n",
      "Creating default worker image with tag='local-dev'\n",
      "Building default worker image with tag=local-dev\n",
      "Setting up worker poolname=default-pool workers=1 image_uid=6ff04e548535434ca3101c779f0ac557 in_memory=True\n",
      "Created default worker pool.\n",
      "Data Migrated to latest version !!!\n"
     ]
    }
   ],
   "source": [
    "node_low = sy.orchestra.launch(\n",
    "    name=\"test_l\",\n",
    "    node_side_type=\"low\",\n",
    "    dev_mode=True,\n",
    "    reset=True,\n",
    "    local_db=True,\n",
    "    n_consumers=1,\n",
    "    create_producer=True,\n",
    ")\n",
    "node_high = sy.orchestra.launch(\n",
    "    name=\"test_h\",\n",
    "    node_side_type=\"high\",\n",
    "    dev_mode=True,\n",
    "    reset=True,\n",
    "    local_db=True,\n",
    "    n_consumers=1,\n",
    "    create_producer=True,\n",
    ")"
   ]
  },
  {
   "cell_type": "code",
   "execution_count": 3,
   "id": "c01949ef",
   "metadata": {},
   "outputs": [
    {
     "name": "stderr",
     "output_type": "stream",
     "text": [
      "/Users/eelco/dev/PySyft/packages/syft/src/syft/types/syft_object.py:599: TypeHintWarning: Skipping type check against 'ServiceRole'; this looks like a string-form forward reference imported from another module\n",
      "  check_type(value, var_annotation)\n"
     ]
    },
    {
     "name": "stdout",
     "output_type": "stream",
     "text": [
      "Logged into <test_l: Low side Domain> as <info@openmined.org>\n"
     ]
    },
    {
     "data": {
      "text/html": [
       "<div class=\"alert-warning\" style=\"padding:5px;\"><strong>SyftWarning</strong>: You are using a default password. Please change the password using `[your_client].me.set_password([new_password])`.</div><br />"
      ],
      "text/plain": [
       "SyftWarning: You are using a default password. Please change the password using `[your_client].me.set_password([new_password])`."
      ]
     },
     "metadata": {},
     "output_type": "display_data"
    },
    {
     "name": "stdout",
     "output_type": "stream",
     "text": [
      "Logged into <test_h: High side Domain> as <info@openmined.org>\n"
     ]
    },
    {
     "data": {
      "text/html": [
       "<div class=\"alert-warning\" style=\"padding:5px;\"><strong>SyftWarning</strong>: You are using a default password. Please change the password using `[your_client].me.set_password([new_password])`.</div><br />"
      ],
      "text/plain": [
       "SyftWarning: You are using a default password. Please change the password using `[your_client].me.set_password([new_password])`."
      ]
     },
     "metadata": {},
     "output_type": "display_data"
    }
   ],
   "source": [
    "client_low = node_low.login(email=\"info@openmined.org\", password=\"changethis\")\n",
    "client_high = node_high.login(email=\"info@openmined.org\", password=\"changethis\")"
   ]
  },
  {
   "cell_type": "code",
   "execution_count": 4,
   "id": "ccc95549",
   "metadata": {},
   "outputs": [
    {
     "name": "stdout",
     "output_type": "stream",
     "text": [
      "Logged into <test_l: Low side Domain> as <newuser@openmined.org>\n"
     ]
    }
   ],
   "source": [
    "client_low.register(\n",
    "    email=\"newuser@openmined.org\", name=\"John Doe\", password=\"pw\", password_verify=\"pw\"\n",
    ")\n",
    "client_low_ds = node_low.login(email=\"newuser@openmined.org\", password=\"pw\")"
   ]
  },
  {
   "cell_type": "markdown",
   "id": "529aefcd",
   "metadata": {},
   "source": [
    "# create datasets"
   ]
  },
  {
   "cell_type": "code",
   "execution_count": 5,
   "id": "a124f870",
   "metadata": {},
   "outputs": [],
   "source": [
    "# third party\n",
    "import numpy as np"
   ]
  },
  {
   "cell_type": "code",
   "execution_count": 6,
   "id": "c21f2993",
   "metadata": {},
   "outputs": [
    {
     "name": "stderr",
     "output_type": "stream",
     "text": [
      "  0%|                                                                                             | 0/1 [00:00<?, ?it/s]"
     ]
    },
    {
     "name": "stdout",
     "output_type": "stream",
     "text": [
      "Uploading: numpy-data\n"
     ]
    },
    {
     "name": "stderr",
     "output_type": "stream",
     "text": [
      "100%|█████████████████████████████████████████████████████████████████████████████████████| 1/1 [00:00<00:00,  6.80it/s]\n"
     ]
    },
    {
     "name": "stdout",
     "output_type": "stream",
     "text": [
      "syft_node_location=None syft_client_verify_key=None output={'id': <UID: 5dd1e1ccf4d04b299bce72df6842f62e>, 'name': 'numpy-data', 'description': syft.service.dataset.dataset.MarkdownDescription, 'contributors': {syft.service.dataset.dataset.Contributor}, 'data_subjects': [], 'node_uid': <UID: 8212e6797fde4c3fba4fc53ab555a886>, 'action_id': <UID: bde71026598a4bdbbd7cd541c29b5023>, 'data': array([15, 16, 17, 18, 19]), 'mock': array([10, 11, 12, 13, 14]), 'shape': (5,), 'mock_is_real': True, 'created_at': syft.types.datetime.DateTime, 'uploader': syft.service.dataset.dataset.Contributor} node=Domain: test_h - 8212e6797fde4c3fba4fc53ab555a886 - domain\n",
      "\n",
      "Services:\n",
      "ActionService, BlobStorageService, CodeHistoryService, DataSubjectMemberService, DataSubjectService, DatasetService, EnclaveService, JobService, LogService, MetadataService, MigrateStateService, NetworkService, NotificationService, OutputService, PolicyService, ProjectService, QueueService, RequestService, SettingsService, SyftImageRegistryService, SyftWorkerImageService, SyftWorkerPoolService, SyncService, UserCodeService, UserCodeStatusService, UserService, WorkerService credentials=d311a667006cbb56614a062b2bbc7a733b5a4a8edd5293e0f34bb5c75f51277d obj=syft.service.dataset.dataset.CreateAsset's output is None. No transformation happened\n"
     ]
    },
    {
     "data": {
      "text/html": [
       "<div class=\"alert-success\" style=\"padding:5px;\"><strong>SyftSuccess</strong>: Dataset uploaded to 'test_h'. To see the datasets uploaded by a client on this node, use command `[your_client].datasets`</div><br />"
      ],
      "text/plain": [
       "SyftSuccess: Dataset uploaded to 'test_h'. To see the datasets uploaded by a client on this node, use command `[your_client].datasets`"
      ]
     },
     "execution_count": 6,
     "metadata": {},
     "output_type": "execute_result"
    }
   ],
   "source": [
    "mock_high = np.array([10, 11, 12, 13, 14])\n",
    "private_high = np.array([15, 16, 17, 18, 19])\n",
    "\n",
    "dataset_high = sy.Dataset(\n",
    "    name=\"my-dataset\",\n",
    "    description=\"abc\",\n",
    "    asset_list=[\n",
    "        sy.Asset(\n",
    "            name=\"numpy-data\",\n",
    "            mock=mock_high,\n",
    "            data=private_high,\n",
    "            shape=private_high.shape,\n",
    "            mock_is_real=True,\n",
    "        )\n",
    "    ],\n",
    ")\n",
    "\n",
    "client_high.upload_dataset(dataset_high)"
   ]
  },
  {
   "cell_type": "code",
   "execution_count": 7,
   "id": "9c3804a3",
   "metadata": {},
   "outputs": [
    {
     "name": "stderr",
     "output_type": "stream",
     "text": [
      "100%|█████████████████████████████████████████████████████████████████████████████████████| 1/1 [00:00<00:00, 19.06it/s]\n"
     ]
    },
    {
     "name": "stdout",
     "output_type": "stream",
     "text": [
      "Uploading: numpy-data\n",
      "syft_node_location=None syft_client_verify_key=None output={'id': <UID: bb380fe02a894a2b8e8f451727423b42>, 'name': 'numpy-data', 'description': syft.service.dataset.dataset.MarkdownDescription, 'contributors': {syft.service.dataset.dataset.Contributor}, 'data_subjects': [], 'node_uid': <UID: 8a1c04544655402190588aec30079bc3>, 'action_id': <UID: 079d8ee1634041c8b24d462493942b3f>, 'data': Pointer:\n",
      "None, 'mock': array([0, 1, 2, 3, 4]), 'shape': (5,), 'mock_is_real': True, 'created_at': syft.types.datetime.DateTime, 'uploader': syft.service.dataset.dataset.Contributor} node=Domain: test_l - 8a1c04544655402190588aec30079bc3 - domain\n",
      "\n",
      "Services:\n",
      "ActionService, BlobStorageService, CodeHistoryService, DataSubjectMemberService, DataSubjectService, DatasetService, EnclaveService, JobService, LogService, MetadataService, MigrateStateService, NetworkService, NotificationService, OutputService, PolicyService, ProjectService, QueueService, RequestService, SettingsService, SyftImageRegistryService, SyftWorkerImageService, SyftWorkerPoolService, SyncService, UserCodeService, UserCodeStatusService, UserService, WorkerService credentials=1c0590b894d19530970da6bf09bb302afa3e473a4cccdacbace0e20223ee3367 obj=syft.service.dataset.dataset.CreateAsset's output is None. No transformation happened\n"
     ]
    }
   ],
   "source": [
    "mock_low = np.array([0, 1, 2, 3, 4])  # do_high.mock\n",
    "# private_low = np.array([5, 6, 7, 8, 9])  # AOEmpty? create new type AO\n",
    "\n",
    "dataset_low = sy.Dataset(\n",
    "    id=dataset_high.id,\n",
    "    name=\"my-dataset\",\n",
    "    description=\"abc\",\n",
    "    asset_list=[\n",
    "        sy.Asset(\n",
    "            name=\"numpy-data\",\n",
    "            mock=mock_low,\n",
    "            data=ActionObject.empty(data_node_id=client_high.id),\n",
    "            shape=mock_low.shape,\n",
    "            mock_is_real=True,\n",
    "        )\n",
    "    ],\n",
    ")\n",
    "\n",
    "res = client_low.upload_dataset(dataset_low)"
   ]
  },
  {
   "cell_type": "code",
   "execution_count": 8,
   "id": "e6887dc9-34a9-49bd-838a-75a71a96ec90",
   "metadata": {},
   "outputs": [],
   "source": [
    "dataset_storage_permissions = node_low.python_node.get_service(\n",
    "    \"datasetservice\"\n",
    ").stash.partition.storage_permissions\n",
    "dataset_id = client_low.datasets[0].id\n",
    "\n",
    "assert dataset_storage_permissions[dataset_id] == {node_low.python_node.id}"
   ]
  },
  {
   "cell_type": "markdown",
   "id": "134e9614",
   "metadata": {},
   "source": [
    "# Make Requests"
   ]
  },
  {
   "cell_type": "code",
   "execution_count": 9,
   "id": "571d12c2",
   "metadata": {},
   "outputs": [
    {
     "data": {
      "text/html": [
       "<div class=\"alert-success\" style=\"padding:5px;\"><strong>SyftSuccess</strong>: Syft function 'compute_mean' successfully created. To add a code request, please create a project using `project = syft.Project(...)`, then use command `project.create_code_request`.</div><br />"
      ],
      "text/plain": [
       "SyftSuccess: Syft function 'compute_mean' successfully created. To add a code request, please create a project using `project = syft.Project(...)`, then use command `project.create_code_request`."
      ]
     },
     "metadata": {},
     "output_type": "display_data"
    },
    {
     "name": "stdout",
     "output_type": "stream",
     "text": [
      "SyftInfo: Creating a node with n_consumers=2 (the default value)\n",
      "Staging Protocol Changes...\n",
      "SQLite Store Path:\n",
      "!open file:///var/folders/pn/f6xkq7mx683g5jkyt91gqyzw0000gn/T/a65f7daea4e145939092969dd542b5f1.sqlite\n",
      "\n",
      "Creating default worker image with tag='local-dev'\n",
      "Building default worker image with tag=local-dev\n",
      "Setting up worker poolname=default-pool workers=2 image_uid=664c7c2e219746dbbd6b3c592b20f5d9 in_memory=True\n",
      "Created default worker pool.\n",
      "Data Migrated to latest version !!!\n",
      "Logged into <ephemeral_node_compute_mean_5447: High side Domain> as <info@openmined.org>\n"
     ]
    },
    {
     "data": {
      "text/html": [
       "<div class=\"alert-warning\" style=\"padding:5px;\"><strong>SyftWarning</strong>: You are using a default password. Please change the password using `[your_client].me.set_password([new_password])`.</div><br />"
      ],
      "text/plain": [
       "SyftWarning: You are using a default password. Please change the password using `[your_client].me.set_password([new_password])`."
      ]
     },
     "metadata": {},
     "output_type": "display_data"
    },
    {
     "name": "stdout",
     "output_type": "stream",
     "text": [
      "Approving request for domain ephemeral_node_compute_mean_5447\n",
      "Computing mean...\n",
      "SyftInfo: Landing the ephmeral node...\n"
     ]
    },
    {
     "data": {
      "text/markdown": [
       "```python\n",
       "Pointer\n",
       "```\n",
       "2.0"
      ],
      "text/plain": [
       "Pointer:\n",
       "2.0"
      ]
     },
     "execution_count": 9,
     "metadata": {},
     "output_type": "execute_result"
    }
   ],
   "source": [
    "data_low = client_low_ds.datasets[0].assets[0]\n",
    "\n",
    "\n",
    "@sy.syft_function_single_use(data=data_low)\n",
    "def compute_mean(data) -> float:\n",
    "    print(\"Computing mean...\")\n",
    "    return data.mean()\n",
    "\n",
    "\n",
    "compute_mean(data=data_low.mock)"
   ]
  },
  {
   "cell_type": "code",
   "execution_count": 10,
   "id": "654e55fd",
   "metadata": {},
   "outputs": [
    {
     "data": {
      "text/html": [
       "\n",
       "            <style>\n",
       "            .syft-request {color: #464158;}\n",
       "            </style>\n",
       "            <div class='syft-request'>\n",
       "                <h3>Request</h3>\n",
       "                <p><strong>Id: </strong>4700878522704c278f706f41b49917a4</p>\n",
       "                <p><strong>Request time: </strong>2024-03-11 09:23:36</p>\n",
       "                \n",
       "                \n",
       "                <p><strong>Status: </strong>RequestStatus.PENDING</p>\n",
       "                <p><strong>Requested on: </strong> Test_l of type <strong>                     Domain</strong></p>\n",
       "                <p><strong>Requested by:</strong> John Doe (newuser@openmined.org) </p>\n",
       "                <p><strong>Changes: </strong> Request to change <b>compute_mean</b> (Pool Id: <b>default-pool</b>) to permission <b>RequestStatus.APPROVED</b>. Nested Requests not resolved. </p>\n",
       "            </div>\n",
       "\n",
       "            "
      ],
      "text/markdown": [
       "```python\n",
       "class Request:\n",
       "  id: str = 4700878522704c278f706f41b49917a4\n",
       "  request_time: str = 2024-03-11 09:23:36\n",
       "  updated_at: str = None\n",
       "  status: str = RequestStatus.PENDING\n",
       "  changes: str = ['Request to change <b>compute_mean</b> (Pool Id: <b>default-pool</b>) to permission <b>RequestStatus.APPROVED</b>. Nested Requests not resolved']\n",
       "  requesting_user_verify_key: str = efd706fc46fc2ae59bf77ad169814531e81dd2aa6d580757d98d08fa0d164125\n",
       "\n",
       "```"
      ],
      "text/plain": [
       "syft.service.request.request.Request"
      ]
     },
     "execution_count": 10,
     "metadata": {},
     "output_type": "execute_result"
    }
   ],
   "source": [
    "client_low_ds.code.request_code_execution(compute_mean)"
   ]
  },
  {
   "cell_type": "markdown",
   "id": "7f8c588b",
   "metadata": {},
   "source": [
    "## Sync to high side"
   ]
  },
  {
   "cell_type": "code",
   "execution_count": 11,
   "id": "e0ff2db8",
   "metadata": {},
   "outputs": [],
   "source": [
    "low_state = client_low.get_sync_state()\n",
    "high_state = client_high.get_sync_state()"
   ]
  },
  {
   "cell_type": "code",
   "execution_count": 12,
   "id": "9a4ec182-3928-4705-9fa5-a71cc01af2ba",
   "metadata": {},
   "outputs": [],
   "source": [
    "assert (\n",
    "    set(low_state.objects.keys())\n",
    "    == set(low_state.permissions.keys())\n",
    "    == set(low_state.storage_permissions.keys())\n",
    ")"
   ]
  },
  {
   "cell_type": "code",
   "execution_count": 13,
   "id": "cc3415ad",
   "metadata": {},
   "outputs": [
    {
     "data": {
      "text/html": [
       "\n",
       "<style>\n",
       "  body[data-jp-theme-light='false'] {\n",
       "        --primary-color: #111111;\n",
       "        --secondary-color: #212121;\n",
       "        --tertiary-color: #CFCDD6;\n",
       "        --button-color: #111111;\n",
       "  }\n",
       "\n",
       "  body {\n",
       "        --primary-color: #ffffff;\n",
       "        --secondary-color: #f5f5f5;\n",
       "        --tertiary-color: #000000de;\n",
       "        --button-color: #d1d5db;\n",
       "  }\n",
       "\n",
       "  .header-1 {\n",
       "        font-style: normal;\n",
       "        font-weight: 600;\n",
       "        font-size: 2.0736em;\n",
       "        line-height: 100%;\n",
       "        leading-trim: both;\n",
       "        text-edge: cap;\n",
       "        color: #17161D;\n",
       "    }\n",
       "\n",
       "  .header-2 {\n",
       "        font-style: normal;\n",
       "        font-weight: 600;\n",
       "        font-size: 1.728em;\n",
       "        line-height: 100%;\n",
       "        leading-trim: both;\n",
       "        text-edge: cap;\n",
       "        color: #17161D;\n",
       "    }\n",
       "\n",
       "  .header-3 {\n",
       "        font-style: normal;\n",
       "        font-weight: 600;\n",
       "        font-size:  1.44em;\n",
       "        line-height: 100%;\n",
       "        leading-trim: both;\n",
       "        text-edge: cap;\n",
       "        color: var(--tertiary-color);\n",
       "    }\n",
       "\n",
       "  .header-4 {\n",
       "        font-style: normal;\n",
       "        font-weight: 600;\n",
       "        font-size: 1.2em;\n",
       "        line-height: 100%;\n",
       "        leading-trim: both;\n",
       "        text-edge: cap;\n",
       "        color: #17161D;\n",
       "    }\n",
       "\n",
       "    .paragraph {\n",
       "        font-style: normal;\n",
       "        font-weight: 400;\n",
       "        font-size: 14px;\n",
       "        line-height: 100%;\n",
       "        leading-trim: both;\n",
       "        text-edge: cap;\n",
       "        color: #2E2B3B;\n",
       "    }\n",
       "\n",
       "    .paragraph-sm {\n",
       "        font-family: 'Roboto';\n",
       "        font-style: normal;\n",
       "        font-weight: 400;\n",
       "        font-size: 11.62px;\n",
       "        line-height: 100%;\n",
       "        leading-trim: both;\n",
       "        text-edge: cap;\n",
       "        color: #2E2B3B;\n",
       "    }\n",
       "    .code-text {\n",
       "        font-family: 'Consolas';\n",
       "        font-style: normal;\n",
       "        font-weight: 400;\n",
       "        font-size: 13px;\n",
       "        line-height: 130%;\n",
       "        leading-trim: both;\n",
       "        text-edge: cap;\n",
       "        color: #2E2B3B;\n",
       "    }\n",
       "\n",
       "    .numbering-entry { display: none }\n",
       "\n",
       "    /* Tooltip container */\n",
       "    .tooltip {\n",
       "        position: relative;\n",
       "        display: inline-block;\n",
       "        border-bottom: 1px dotted black; /* If you want dots under the hoverable text */\n",
       "    }\n",
       "\n",
       "    /* Tooltip text */\n",
       "    .tooltip .tooltiptext {\n",
       "        visibility: hidden;\n",
       "        width: 120px;\n",
       "        background-color: black;\n",
       "        color: #fff;\n",
       "        text-align: center;\n",
       "        padding: 5px 0;\n",
       "        border-radius: 6px;\n",
       "\n",
       "        /* Position the tooltip text - see examples below! */\n",
       "        position: absolute;\n",
       "        z-index: 1;\n",
       "    }\n",
       "\n",
       "    .repr-cell {\n",
       "      padding-top: 20px;\n",
       "    }\n",
       "\n",
       "    .text-bold {\n",
       "        font-weight: bold;\n",
       "    }\n",
       "\n",
       "    .pr-8 {\n",
       "        padding-right: 8px;\n",
       "    }\n",
       "    .pt-8 {\n",
       "        padding-top: 8px;\n",
       "    }\n",
       "    .pl-8 {\n",
       "        padding-left: 8px;\n",
       "    }\n",
       "    .pb-8 {\n",
       "        padding-bottom: 8px;\n",
       "    }\n",
       "\n",
       "    .py-25{\n",
       "        padding-top: 25px;\n",
       "        padding-bottom: 25px;\n",
       "    }\n",
       "\n",
       "    .flex {\n",
       "        display: flex;\n",
       "    }\n",
       "\n",
       "    .gap-10 {\n",
       "        gap: 10px;\n",
       "    }\n",
       "    .items-center{\n",
       "        align-items: center;\n",
       "    }\n",
       "\n",
       "    .folder-icon {\n",
       "        color: var(--tertiary-color);\n",
       "    }\n",
       "\n",
       "    .search-input{\n",
       "        display: flex;\n",
       "        flex-direction: row;\n",
       "        align-items: center;\n",
       "        padding: 8px 12px;\n",
       "        width: 343px;\n",
       "        height: 24px;\n",
       "        /* Lt On Surface/Low */\n",
       "        background-color: var(--secondary-color);\n",
       "        border-radius: 30px;\n",
       "\n",
       "        /* Lt On Surface/Highest */\n",
       "        color: var(--tertiary-color);\n",
       "        border:none;\n",
       "        /* Inside auto layout */\n",
       "        flex: none;\n",
       "        order: 0;\n",
       "        flex-grow: 0;\n",
       "    }\n",
       "    .search-input:focus {\n",
       "        outline: none;\n",
       "    }\n",
       "        .search-input:focus::placeholder,\n",
       "    .search-input::placeholder { /* Chrome, Firefox, Opera, Safari 10.1+ */\n",
       "        color: var(--tertiary-color);\n",
       "        opacity: 1; /* Firefox */\n",
       "    }\n",
       "\n",
       "    .search-button{\n",
       "        /* Search */\n",
       "        leading-trim: both;\n",
       "        text-edge: cap;\n",
       "        display: flex;\n",
       "        align-items: center;\n",
       "        text-align: center;\n",
       "\n",
       "        /* Primary/On Light */\n",
       "        background-color: var(--button-color);\n",
       "        color: var(--tertiary-color);\n",
       "\n",
       "        border-radius: 30px;\n",
       "        border-color: var(--secondary-color);\n",
       "        border-style: solid;\n",
       "        box-shadow: rgba(60, 64, 67, 0.3) 0px 1px 2px 0px, rgba(60, 64, 67, 0.15) 0px 1px 3px 1px;\n",
       "        cursor: pointer;\n",
       "        /* Inside auto layout */\n",
       "        flex: none;\n",
       "        order: 1;\n",
       "        flex-grow: 0;\n",
       "    }\n",
       "\n",
       "    .grid-table8203e5ac27e548d682d383ba3ee6dd3a {\n",
       "        display:grid;\n",
       "        grid-template-columns: 1fr repeat(12, 1fr);\n",
       "        grid-template-rows: repeat(2, 1fr);\n",
       "        overflow-x: auto;\n",
       "        position: relative;\n",
       "    }\n",
       "\n",
       "    .grid-std-cells {\n",
       "        grid-column: span 4;\n",
       "\n",
       "    }\n",
       "    .grid-index-cells {\n",
       "        grid-column: span 1;\n",
       "        /* tmp fix to make left col stand out (fix with font-family) */\n",
       "        font-weight: 600;\n",
       "        background-color: var(--secondary-color) !important;\n",
       "        color: var(--tertiary-color);\n",
       "    }\n",
       "\n",
       "    .grid-header {\n",
       "        /* Auto layout */\n",
       "        display: flex;\n",
       "        flex-direction: column;\n",
       "        align-items: center;\n",
       "        padding: 6px 4px;\n",
       "\n",
       "        resize: horizontal;\n",
       "        /* Lt On Surface/Surface */\n",
       "        /* Lt On Surface/High */\n",
       "        border: 1px solid #CFCDD6;\n",
       "        /* tmp fix to make header stand out (fix with font-family) */\n",
       "        font-weight: 600;\n",
       "        background-color: var(--secondary-color);\n",
       "        color: var(--tertiary-color);\n",
       "    }\n",
       "\n",
       "    .grid-row {\n",
       "        display: flex;\n",
       "        flex-direction: column;\n",
       "        align-items: flex-start;\n",
       "        padding: 6px 4px;\n",
       "        overflow: hidden;\n",
       "        border: 1px solid #CFCDD6;\n",
       "        background-color: var(--primary-color);\n",
       "        color: var(--tertiary-color);\n",
       "    }\n",
       "\n",
       "    .badge {\n",
       "        code-text;\n",
       "        border-radius: 30px;\n",
       "    }\n",
       "\n",
       "    .badge-blue {\n",
       "        badge;\n",
       "        background-color: #C2DEF0;\n",
       "        color: #1F567A;\n",
       "    }\n",
       "\n",
       "    .badge-purple {\n",
       "        badge;\n",
       "        background-color: #C9CFE8;\n",
       "        color: #373B7B;\n",
       "    }\n",
       "\n",
       "    .badge-green {\n",
       "        badge;\n",
       "\n",
       "        /* Success/Container */\n",
       "        background-color: #D5F1D5;\n",
       "        color: #256B24;\n",
       "    }\n",
       "\n",
       "    .badge-red {\n",
       "        badge;\n",
       "        background-color: #F2D9DE;\n",
       "        color: #9B2737;\n",
       "    }\n",
       "\n",
       "    .badge-gray {\n",
       "        badge;\n",
       "        background-color: #ECEBEF;\n",
       "        color: #2E2B3B;\n",
       "    }\n",
       "    .paginationContainer{\n",
       "        width: 100%;\n",
       "        /*height: 30px;*/\n",
       "        display: flex;\n",
       "        justify-content: center;\n",
       "        gap: 8px;\n",
       "        padding: 5px;\n",
       "        color: var(--tertiary-color);\n",
       "    }\n",
       "\n",
       "    .page{\n",
       "        color: black;\n",
       "        font-weight: bold;\n",
       "        color: var(--tertiary-color);\n",
       "    }\n",
       "    .page:hover {\n",
       "      color: #38bdf8;\n",
       "      cursor: pointer;\n",
       "    }\n",
       "    .clipboard:hover{\n",
       "        cursor: pointer;\n",
       "        color: var(--tertiary-color);\n",
       "    }\n",
       "\n",
       "    .search-field {\n",
       "        display: flex;\n",
       "        align-items: center;\n",
       "        border-radius: 30px;\n",
       "        background-color: var(--secondary-color);\n",
       "    }\n",
       "\n",
       "    .syft-dropdown {\n",
       "        margin: 5px;\n",
       "        margin-left: 5px;\n",
       "        position: relative;\n",
       "        display: inline-block;\n",
       "        text-align: center;\n",
       "        background-color: var(--button-color);\n",
       "        min-width: 100px;\n",
       "        padding: 2px;\n",
       "        border-radius: 30px;\n",
       "    }\n",
       "\n",
       "    .syft-dropdown:hover {\n",
       "        cursor: pointer;\n",
       "    }\n",
       "    .syft-dropdown-content {\n",
       "        margin-top:26px;\n",
       "        display: none;\n",
       "        position: absolute;\n",
       "        min-width: 100px;\n",
       "        box-shadow: 0px 8px 16px 0px rgba(0,0,0,0.2);\n",
       "        padding: 12px 6px;\n",
       "        z-index: 1;\n",
       "        background-color: var(--primary-color);\n",
       "        color: var(--tertiary-color);\n",
       "    }\n",
       "    .dd-options {\n",
       "        padding-top: 4px;\n",
       "    }\n",
       "    .dd-options:first-of-type {\n",
       "        padding-top: 0px;\n",
       "    }\n",
       "\n",
       "    .dd-options:hover {\n",
       "        cursor: pointer;\n",
       "        background: #d1d5db;\n",
       "    }\n",
       "    .arrow {\n",
       "        border: solid black;\n",
       "        border-width: 0 3px 3px 0;\n",
       "        display: inline-block;\n",
       "        padding: 3px;\n",
       "    }\n",
       "    .down {\n",
       "        transform: rotate(45deg);\n",
       "        -webkit-transform: rotate(45deg);\n",
       "    }\n",
       "</style>\n",
       "\n",
       "\n",
       "    <div style='margin-top:15px;'>\n",
       "        <div class='flex gap-10' style='align-items: center;'>\n",
       "            <div class='folder-icon'><svg width=\"32\" height=\"32\" viewBox=\"0 0 32 32\" fill=\"none\" xmlns=\"http://www.w3.org/2000/svg\"> <path d=\"M28 6H4C3.73478 6 3.48043 6.10536 3.29289 6.29289C3.10536 6.48043 3 6.73478 3 7V24C3 24.5304 3.21071 25.0391 3.58579 25.4142C3.96086 25.7893 4.46957 26 5 26H27C27.5304 26 28.0391 25.7893 28.4142 25.4142C28.7893 25.0391 29 24.5304 29 24V7C29 6.73478 28.8946 6.48043 28.7071 6.29289C28.5196 6.10536 28.2652 6 28 6ZM5 14H10V18H5V14ZM12 14H27V18H12V14ZM27 8V12H5V8H27ZM5 20H10V24H5V20ZM27 24H12V20H27V24Z\" fill=\"#343330\"/></svg></div>\n",
       "            <div><p class='header-3'>SyncStateRow List</p></div>\n",
       "        </div>\n",
       "\n",
       "            <div style=\"padding-top: 16px; display:flex;justify-content: space-between; align-items: center;\">\n",
       "                <div class='pt-25 gap-10' style=\"display:flex;\">\n",
       "                    <div class=\"search-field\">\n",
       "                        <div id='search-menu8203e5ac27e548d682d383ba3ee6dd3a' class=\"syft-dropdown\" onclick=\"{\n",
       "                            let doc = document.getElementById('search-dropdown-content8203e5ac27e548d682d383ba3ee6dd3a')\n",
       "                            if (doc.style.display === 'block'){\n",
       "                                doc.style.display = 'none'\n",
       "                            } else {\n",
       "                                doc.style.display = 'block'\n",
       "                            }\n",
       "                            }\">\n",
       "                            <div id='search-dropdown-content8203e5ac27e548d682d383ba3ee6dd3a' class='syft-dropdown-content'></div>\n",
       "                            <script>\n",
       "                                var element8203e5ac27e548d682d383ba3ee6dd3a = [{\"id\": {\"value\": \"1202c86f370f4d5d897028a83775849c\", \"type\": \"clipboard\"}, \"previous_state\": \"NEW\\n\", \"current_state\": \"NEW\\nUSERCODESTATUSCOLLECTION #27b45e8945594aea88875f9e61ce1299:\\napproved: False\\nstatus_dict: {\\n\\u200e \\u200e \\u200e \\u200e node_id=&lt;UID: 8a1c04544655402190588aec30079bc3&gt; verify_key=1c0590b894d19530970da6bf09bb302afa3e473a4cccdacbace0e20223ee3367 node_name=&#x27;test_l&#x27;: (&lt;UserCodeStatus.PENDING: &#x27;pending&#x27;&gt;, &#x27;&#x27;)\\n}\\n\"}, {\"id\": {\"value\": \"3174e32727b244148da97741b7dfbe49\", \"type\": \"clipboard\"}, \"previous_state\": \"NEW\\n\", \"current_state\": \"NEW\\nUSERCODE #2718dbd26d1b4dc0a1e003d6c47340c4:\\nservice_func_name: compute_mean\\ninput_owners: [\\n\\u200e \\u200e \\u200e \\u200e test_l\\n]\\ncode_status: [\\n\\u200e \\u200e \\u200e \\u200e Node: test_l, Status: pending\\n]\\nworker_pool_name: default-pool\\n\"}, {\"id\": {\"value\": \"afde1d01d9a04f30be3647bad8f581a1\", \"type\": \"clipboard\"}, \"previous_state\": \"NEW\\n\", \"current_state\": \"NEW\\nREQUEST #4700878522704c278f706f41b49917a4:\\nrequest_time: 2024-03-11 09:23:36\\nupdated_at: None\\nstatus: RequestStatus.PENDING\\nchanges: [\\n\\u200e \\u200e \\u200e \\u200e syft.service.request.request.UserCodeStatusChange\\n]\\nrequesting_user_verify_key: efd706fc46fc2ae59bf77ad169814531e81dd2aa6d580757d98d08fa0d164125\\n\"}]\n",
       "                                var page_size8203e5ac27e548d682d383ba3ee6dd3a = 3\n",
       "                                var pageIndex8203e5ac27e548d682d383ba3ee6dd3a = 1\n",
       "                                var paginatedElements8203e5ac27e548d682d383ba3ee6dd3a = []\n",
       "                                var activeFilter8203e5ac27e548d682d383ba3ee6dd3a;\n",
       "\n",
       "                                function buildDropDownMenu(elements){\n",
       "                                    let init_filter;\n",
       "                                    let menu = document.getElementById('search-dropdown-content8203e5ac27e548d682d383ba3ee6dd3a')\n",
       "                                    if (elements.length > 0) {\n",
       "                                        let sample = elements[0]\n",
       "                                        for (const attr in sample) {\n",
       "                                            if (typeof init_filter === 'undefined'){\n",
       "                                                init_filter = attr;\n",
       "                                            }\n",
       "                                            let content = document.createElement('div');\n",
       "                                            content.onclick = function(event) {\n",
       "                                                event.stopPropagation()\n",
       "                                                document.getElementById('menu-active-filter8203e5ac27e548d682d383ba3ee6dd3a').innerText = attr;\n",
       "                                                activeFilter8203e5ac27e548d682d383ba3ee6dd3a = attr;\n",
       "                                                document.getElementById(\n",
       "                                                    'search-dropdown-content8203e5ac27e548d682d383ba3ee6dd3a'\n",
       "                                                ).style.display= 'none';\n",
       "                                            }\n",
       "                                            content.classList.add(\"dd-options\");\n",
       "                                            content.innerText = attr;\n",
       "                                            menu.appendChild(content);\n",
       "                                        }\n",
       "                                    } else {\n",
       "                                        let init_filter = '---'\n",
       "                                    }\n",
       "                                    let dropdown_field = document.getElementById('search-menu8203e5ac27e548d682d383ba3ee6dd3a')\n",
       "                                    let span = document.createElement('span')\n",
       "                                    span.setAttribute('id', 'menu-active-filter8203e5ac27e548d682d383ba3ee6dd3a')\n",
       "                                    span.innerText = init_filter\n",
       "                                    activeFilter8203e5ac27e548d682d383ba3ee6dd3a = init_filter;\n",
       "                                    dropdown_field.appendChild(span)\n",
       "                                }\n",
       "\n",
       "                                buildDropDownMenu(element8203e5ac27e548d682d383ba3ee6dd3a)\n",
       "                            </script>\n",
       "                        </div>\n",
       "                        <input id='searchKey8203e5ac27e548d682d383ba3ee6dd3a' class='search-input' placeholder='Enter search here ...'  />\n",
       "                    </div>\n",
       "                    <button class='search-button' type=\"button\" onclick=\"searchGrid8203e5ac27e548d682d383ba3ee6dd3a(element8203e5ac27e548d682d383ba3ee6dd3a)\">\n",
       "                        <svg width=\"11\" height=\"10\" viewBox=\"0 0 11 10\" fill=\"none\" xmlns=\"http://www.w3.org/2000/svg\"><path d=\"M10.5652 9.23467L8.21819 6.88811C8.89846 6.07141 9.23767 5.02389 9.16527 3.96345C9.09287 2.90302 8.61443 1.91132 7.82948 1.19466C7.04453 0.477995 6.01349 0.0915414 4.95087 0.115691C3.88824 0.139841 2.87583 0.572735 2.12425 1.32432C1.37266 2.0759 0.939768 3.08831 0.915618 4.15094C0.891468 5.21357 1.27792 6.2446 1.99459 7.02955C2.71125 7.8145 3.70295 8.29294 4.76338 8.36535C5.82381 8.43775 6.87134 8.09853 7.68804 7.41827L10.0346 9.7653C10.0694 9.80014 10.1108 9.82778 10.1563 9.84663C10.2018 9.86549 10.2506 9.87519 10.2999 9.87519C10.3492 9.87519 10.398 9.86549 10.4435 9.84663C10.489 9.82778 10.5304 9.80014 10.5652 9.7653C10.6001 9.73046 10.6277 9.68909 10.6466 9.64357C10.6654 9.59805 10.6751 9.54926 10.6751 9.49998C10.6751 9.45071 10.6654 9.40192 10.6466 9.3564C10.6277 9.31088 10.6001 9.26951 10.5652 9.23467ZM1.67491 4.24998C1.67491 3.58247 1.87285 2.92995 2.2437 2.37493C2.61455 1.81992 3.14165 1.38734 3.75835 1.13189C4.37506 0.876446 5.05366 0.809609 5.70834 0.939835C6.36303 1.07006 6.96439 1.3915 7.4364 1.8635C7.9084 2.3355 8.22984 2.93687 8.36006 3.59155C8.49029 4.24624 8.42345 4.92484 8.168 5.54154C7.91256 6.15824 7.47998 6.68535 6.92496 7.05619C6.36995 7.42704 5.71742 7.62498 5.04991 7.62498C4.15511 7.62399 3.29724 7.26809 2.66452 6.63537C2.0318 6.00265 1.6759 5.14479 1.67491 4.24998Z\" fill=\"currentColor\"/></svg>\n",
       "                        <span class='pl-8'>Search</span>\n",
       "                    </button>\n",
       "                </div>\n",
       "\n",
       "                <div><h4 id='total8203e5ac27e548d682d383ba3ee6dd3a'>0</h4></div>\n",
       "            </div>\n",
       "            <div id='table8203e5ac27e548d682d383ba3ee6dd3a' class='grid-table8203e5ac27e548d682d383ba3ee6dd3a' style='margin-top: 25px;'>\n",
       "                <script>\n",
       "                    function paginate8203e5ac27e548d682d383ba3ee6dd3a(arr, size) {\n",
       "                        const res = [];\n",
       "                        for (let i = 0; i < arr.length; i += size) {\n",
       "                            const chunk = arr.slice(i, i + size);\n",
       "                            res.push(chunk);\n",
       "                        }\n",
       "\n",
       "                        return res;\n",
       "                    }\n",
       "\n",
       "                    function searchGrid8203e5ac27e548d682d383ba3ee6dd3a(elements){\n",
       "                        let searchKey = document.getElementById('searchKey8203e5ac27e548d682d383ba3ee6dd3a').value;\n",
       "                        let result;\n",
       "                        if (searchKey === ''){\n",
       "                            result = elements;\n",
       "                        } else {\n",
       "                            result = elements.filter((element) => {\n",
       "                                let property = element[activeFilter8203e5ac27e548d682d383ba3ee6dd3a]\n",
       "                                if (typeof property === 'object' && property !== null){\n",
       "                                    return property.value.toLowerCase().includes(searchKey.toLowerCase());\n",
       "                                } else if (typeof property === 'string' ) {\n",
       "                                    return element[activeFilter8203e5ac27e548d682d383ba3ee6dd3a].toLowerCase().includes(searchKey.toLowerCase());\n",
       "                                } else if (property !== null ) {\n",
       "                                    return element[activeFilter8203e5ac27e548d682d383ba3ee6dd3a].toString() === searchKey;\n",
       "                                } else {\n",
       "                                    return element[activeFilter8203e5ac27e548d682d383ba3ee6dd3a] === searchKey;\n",
       "                                }\n",
       "                            } );\n",
       "                        }\n",
       "                        resetById8203e5ac27e548d682d383ba3ee6dd3a('table8203e5ac27e548d682d383ba3ee6dd3a');\n",
       "                        resetById8203e5ac27e548d682d383ba3ee6dd3a('pag8203e5ac27e548d682d383ba3ee6dd3a');\n",
       "                        result = paginate8203e5ac27e548d682d383ba3ee6dd3a(result, page_size8203e5ac27e548d682d383ba3ee6dd3a)\n",
       "                        paginatedElements8203e5ac27e548d682d383ba3ee6dd3a = result\n",
       "                        buildGrid8203e5ac27e548d682d383ba3ee6dd3a(result,pageIndex8203e5ac27e548d682d383ba3ee6dd3a);\n",
       "                        buildPaginationContainer8203e5ac27e548d682d383ba3ee6dd3a(result);\n",
       "                    }\n",
       "\n",
       "                    function resetById8203e5ac27e548d682d383ba3ee6dd3a(id){\n",
       "                        let element = document.getElementById(id);\n",
       "                        while (element.firstChild) {\n",
       "                          element.removeChild(element.firstChild);\n",
       "                        }\n",
       "                    }\n",
       "\n",
       "                    function buildGrid8203e5ac27e548d682d383ba3ee6dd3a(items, pageIndex){\n",
       "                                let headers = Object.keys(element8203e5ac27e548d682d383ba3ee6dd3a[0]);\n",
       "\n",
       "                                let grid = document.getElementById(\"table8203e5ac27e548d682d383ba3ee6dd3a\");\n",
       "                                let div = document.createElement(\"div\");\n",
       "                                div.classList.add('grid-header', 'grid-index-cells');\n",
       "                                grid.appendChild(div);\n",
       "                                headers.forEach((title) =>{\n",
       "                                    let div = document.createElement(\"div\");\n",
       "                                    div.classList.add('grid-header', 'grid-std-cells');\n",
       "                                    div.innerText = title;\n",
       "\n",
       "                                    grid.appendChild(div);\n",
       "                                });\n",
       "\n",
       "                                let page = items[pageIndex -1]\n",
       "                                if (page !== 'undefine'){\n",
       "                                    let table_index8203e5ac27e548d682d383ba3ee6dd3a = ((pageIndex - 1) * page_size8203e5ac27e548d682d383ba3ee6dd3a)\n",
       "                                    page.forEach((item) => {\n",
       "                                        let grid = document.getElementById(\"table8203e5ac27e548d682d383ba3ee6dd3a\");\n",
       "                                        // Add new index value in index cells\n",
       "                                        let divIndex = document.createElement(\"div\");\n",
       "                                        divIndex.classList.add('grid-row', 'grid-index-cells');\n",
       "                                        divIndex.innerText = table_index8203e5ac27e548d682d383ba3ee6dd3a;\n",
       "                                        grid.appendChild(divIndex);\n",
       "\n",
       "                                        // Iterate over the actual obj\n",
       "                                        for (const attr in item) {\n",
       "                                            let div = document.createElement(\"div\");\n",
       "                                            if (typeof item[attr] === 'object'\n",
       "                                                && item[attr] !== null\n",
       "                                                && item[attr].hasOwnProperty('type')) {\n",
       "                                                if (item[attr].type.includes('badge')){\n",
       "                                                    let badge_div = document.createElement(\"div\");\n",
       "                                                    badge_div.classList.add('badge',item[attr].type)\n",
       "                                                    badge_div.innerText = String(item[attr].value).toUpperCase();\n",
       "                                                    div.appendChild(badge_div);\n",
       "                                                    div.classList.add('grid-row','grid-std-cells');\n",
       "                                                } else if (item[attr].type === \"clipboard\") {\n",
       "                                                    div.classList.add('grid-row','grid-std-cells');\n",
       "\n",
       "                                                    // Create clipboard div\n",
       "                                                    let clipboard_div = document.createElement('div');\n",
       "                                                    clipboard_div.style.display= 'flex';\n",
       "                                                    clipboard_div.classList.add(\"gap-10\")\n",
       "                                                    clipboard_div.style.justifyContent = \"space-between\";\n",
       "\n",
       "                                                    let id_text = document.createElement('div');\n",
       "                                                    if (item[attr].value == \"None\"){\n",
       "                                                        id_text.innerText = \"None\";\n",
       "                                                    }\n",
       "                                                    else{\n",
       "                                                        id_text.innerText = item[attr].value.slice(0,5) + \"...\";\n",
       "                                                    }\n",
       "\n",
       "                                                    clipboard_div.appendChild(id_text);\n",
       "                                                    let clipboard_img = document.createElement('div');\n",
       "                                                    clipboard_img.classList.add(\"clipboard\")\n",
       "                                                    div.onclick = function() {\n",
       "                                                        navigator.clipboard.writeText(item[attr].value);\n",
       "                                                    };\n",
       "                                                    clipboard_img.innerHTML = \"<svg width='8' height='8' viewBox='0 0 8 8' fill='none' xmlns='http://www.w3.org/2000/svg'><path d='M7.4375 0.25H2.4375C2.35462 0.25 2.27513 0.282924 2.21653 0.341529C2.15792 0.400134 2.125 0.47962 2.125 0.5625V2.125H0.5625C0.47962 2.125 0.400134 2.15792 0.341529 2.21653C0.282924 2.27513 0.25 2.35462 0.25 2.4375V7.4375C0.25 7.52038 0.282924 7.59987 0.341529 7.65847C0.400134 7.71708 0.47962 7.75 0.5625 7.75H5.5625C5.64538 7.75 5.72487 7.71708 5.78347 7.65847C5.84208 7.59987 5.875 7.52038 5.875 7.4375V5.875H7.4375C7.52038 5.875 7.59987 5.84208 7.65847 5.78347C7.71708 5.72487 7.75 5.64538 7.75 5.5625V0.5625C7.75 0.47962 7.71708 0.400134 7.65847 0.341529C7.59987 0.282924 7.52038 0.25 7.4375 0.25ZM5.25 7.125H0.875V2.75H5.25V7.125ZM7.125 5.25H5.875V2.4375C5.875 2.35462 5.84208 2.27513 5.78347 2.21653C5.72487 2.15792 5.64538 2.125 5.5625 2.125H2.75V0.875H7.125V5.25Z' fill='#464158'/></svg>\";\n",
       "\n",
       "                                                    clipboard_div.appendChild(clipboard_img);\n",
       "                                                    div.appendChild(clipboard_div);\n",
       "                                                }\n",
       "                                            } else{\n",
       "                                                div.classList.add('grid-row','grid-std-cells');\n",
       "                                                if (item[attr] == null) {\n",
       "                                                    text = ' '\n",
       "                                                } else {\n",
       "                                                    text = String(item[attr])\n",
       "                                                }\n",
       "\n",
       "                                                text = text.replaceAll(\"\\n\", \"</br>\");\n",
       "                                                div.innerHTML = text;\n",
       "                                            }\n",
       "                                            grid.appendChild(div);\n",
       "                                        }\n",
       "                                    table_index8203e5ac27e548d682d383ba3ee6dd3a = table_index8203e5ac27e548d682d383ba3ee6dd3a + 1;\n",
       "                                    })\n",
       "                                }\n",
       "                    }\n",
       "                    paginatedElements8203e5ac27e548d682d383ba3ee6dd3a = paginate8203e5ac27e548d682d383ba3ee6dd3a(element8203e5ac27e548d682d383ba3ee6dd3a, page_size8203e5ac27e548d682d383ba3ee6dd3a)\n",
       "                    buildGrid8203e5ac27e548d682d383ba3ee6dd3a(paginatedElements8203e5ac27e548d682d383ba3ee6dd3a, 1)\n",
       "                    document.getElementById('total8203e5ac27e548d682d383ba3ee6dd3a').innerText = \"Total: \" + element8203e5ac27e548d682d383ba3ee6dd3a.length\n",
       "                </script>\n",
       "            </div>\n",
       "            <div id='pag8203e5ac27e548d682d383ba3ee6dd3a' class='paginationContainer'>\n",
       "                <script>\n",
       "                    function buildPaginationContainer8203e5ac27e548d682d383ba3ee6dd3a(paginatedElements){\n",
       "                            let pageContainer = document.getElementById(\"pag8203e5ac27e548d682d383ba3ee6dd3a\");\n",
       "                            for (let i = 0; i < paginatedElements.length; i++) {\n",
       "                                  let div = document.createElement(\"div\");\n",
       "                                  div.classList.add('page');\n",
       "                                  if(i===0) div.style.color = \"gray\";\n",
       "                                  else div.style.color = 'var(--tertiary-color, \"gray\")';\n",
       "                                  div.onclick = function(event) {\n",
       "                                      let indexes = document.getElementsByClassName('page');\n",
       "                                      for (let index of indexes) { index.style.color = 'var(--tertiary-color, \"gray\")' }\n",
       "                                      event.target.style.color = \"gray\";\n",
       "                                      setPage8203e5ac27e548d682d383ba3ee6dd3a(i + 1);\n",
       "                                  };\n",
       "                                  div.innerText = i + 1;\n",
       "                                  pageContainer.appendChild(div);\n",
       "                            }\n",
       "                    }\n",
       "\n",
       "                    function setPage8203e5ac27e548d682d383ba3ee6dd3a(newPage){\n",
       "                        pageIndex = newPage\n",
       "                        resetById8203e5ac27e548d682d383ba3ee6dd3a('table8203e5ac27e548d682d383ba3ee6dd3a')\n",
       "                        buildGrid8203e5ac27e548d682d383ba3ee6dd3a(paginatedElements8203e5ac27e548d682d383ba3ee6dd3a, pageIndex)\n",
       "                    }\n",
       "\n",
       "                    buildPaginationContainer8203e5ac27e548d682d383ba3ee6dd3a(paginatedElements8203e5ac27e548d682d383ba3ee6dd3a)\n",
       "                </script>\n",
       "            </div>\n",
       "        </div>\n"
      ],
      "text/markdown": [
       "```python\n",
       "class SyncState:\n",
       "  id: str = e100acd6023e457bbc09f72b7677995e\n",
       "\n",
       "```"
      ],
      "text/plain": [
       "syft.service.sync.sync_state.SyncState"
      ]
     },
     "execution_count": 13,
     "metadata": {},
     "output_type": "execute_result"
    }
   ],
   "source": [
    "low_state"
   ]
  },
  {
   "cell_type": "code",
   "execution_count": 14,
   "id": "7d995b39",
   "metadata": {},
   "outputs": [],
   "source": [
    "diff_state = compare_states(low_state, high_state)"
   ]
  },
  {
   "cell_type": "code",
   "execution_count": 15,
   "id": "132b9ce7",
   "metadata": {},
   "outputs": [
    {
     "name": "stdout",
     "output_type": "stream",
     "text": [
      "LOW SIDE STATE:\n",
      "\n",
      "―――― NEW ―――――――――――――――――――――――――――――――――――――――――――――――――――――――――――――――――――――――――――――――――――――――――――\n",
      "\n",
      "USERCODE #2718dbd26d1b4dc0a1e003d6c47340c4:\n",
      "service_func_name: compute_mean\n",
      "input_owners: [\n",
      "‎ ‎ ‎ ‎ test_l\n",
      "]\n",
      "code_status: [\n",
      "‎ ‎ ‎ ‎ Node: test_l, Status: pending\n",
      "]\n",
      "worker_pool_name: default-pool\n",
      "\n",
      "    ―――― NEW ―――――――――――――――――――――――――――――――――――――――――――――――――――――――――――――――――――――――――――――――――――――――\n",
      "\n",
      "    USERCODESTATUSCOLLECTION #27b45e8945594aea88875f9e61ce1299:\n",
      "    approved: False\n",
      "    status_dict: {\n",
      "    ‎ ‎ ‎ ‎ node_id=<UID: 8a1c04544655402190588aec30079bc3>\n",
      "        verify_key=1c0590b894d19530970da6bf09bb302afa3e473a4cccdacbace0e20223ee3367\n",
      "        node_name='test_l': (<UserCodeStatus.PENDING: 'pending'>, '')\n",
      "    }\n",
      "\n",
      "\n",
      "\n",
      "HIGH SIDE STATE:\n",
      "\n",
      "No high side changes.\n",
      "\n",
      "Decision: Syncing 2 objects from low side\n",
      "\n",
      "====================================================================================================\n",
      "\n",
      "LOW SIDE STATE:\n",
      "\n",
      "―――― NEW ―――――――――――――――――――――――――――――――――――――――――――――――――――――――――――――――――――――――――――――――――――――――――――\n",
      "\n",
      "REQUEST #4700878522704c278f706f41b49917a4:\n",
      "request_time: 2024-03-11 09:23:36\n",
      "updated_at: None\n",
      "status: RequestStatus.PENDING\n",
      "changes: [\n",
      "‎ ‎ ‎ ‎ syft.service.request.request.UserCodeStatusChange\n",
      "]\n",
      "requesting_user_verify_key: efd706fc46fc2ae59bf77ad169814531e81dd2aa6d580757d98d08fa0d164125\n",
      "\n",
      "    ―――― NEW ―――――――――――――――――――――――――――――――――――――――――――――――――――――――――――――――――――――――――――――――――――――――\n",
      "\n",
      "    USERCODE #2718dbd26d1b4dc0a1e003d6c47340c4:\n",
      "    service_func_name: compute_mean\n",
      "    input_owners: [\n",
      "    ‎ ‎ ‎ ‎ test_l\n",
      "    ]\n",
      "    code_status: [\n",
      "    ‎ ‎ ‎ ‎ Node: test_l, Status: pending\n",
      "    ]\n",
      "    worker_pool_name: default-pool\n",
      "\n",
      "\n",
      "\n",
      "HIGH SIDE STATE:\n",
      "\n",
      "No high side changes.\n",
      "\n",
      "Decision: Syncing 2 objects from low side\n",
      "\n",
      "====================================================================================================\n",
      "\n"
     ]
    }
   ],
   "source": [
    "resolved_state_low, resolved_state_high = resolve(diff_state, decision=\"low\")"
   ]
  },
  {
   "cell_type": "code",
   "execution_count": 16,
   "id": "a6b9ca49",
   "metadata": {},
   "outputs": [
    {
     "name": "stdout",
     "output_type": "stream",
     "text": [
      "Resolved state low side\n",
      "ResolvedSyncState(\n",
      "  create_objs=[],\n",
      "  update_objs=[],\n",
      "  delete_objs=[]\n",
      "  new_permissions=[]\n",
      ")\n",
      "\n",
      "Resolved state high side\n",
      "ResolvedSyncState(\n",
      "  create_objs=[{NodeIdentity <name=test_l, id=8a1c0454, 🔑=1c0590b8>: (<UserCodeStatus.PENDING: 'pending'>, '')}, syft.service.code.user_code.UserCode, syft.service.request.request.Request],\n",
      "  update_objs=[],\n",
      "  delete_objs=[]\n",
      "  new_permissions=[]\n",
      ")\n"
     ]
    }
   ],
   "source": [
    "print(\"Resolved state low side\")\n",
    "print(resolved_state_low)\n",
    "print()\n",
    "print(\"Resolved state high side\")\n",
    "print(resolved_state_high)"
   ]
  },
  {
   "cell_type": "code",
   "execution_count": 18,
   "id": "2e80a97c-f276-415b-a088-474257fa1b1d",
   "metadata": {},
   "outputs": [],
   "source": [
    "assert len(resolved_state_high.new_permissions) == 0\n",
    "\n",
    "new_objs = resolved_state_high.create_objs\n",
    "assert {o.id for o in new_objs} == {\n",
    "    sp.uid for sp in resolved_state_high.new_storage_permissions\n",
    "}"
   ]
  },
  {
   "cell_type": "code",
   "execution_count": 18,
   "id": "99d806e4",
   "metadata": {},
   "outputs": [
    {
     "name": "stderr",
     "output_type": "stream",
     "text": [
      "/Users/eelco/dev/PySyft/packages/syft/src/syft/types/syft_object.py:599: TypeHintWarning: Skipping type check against 'ServiceRole'; this looks like a string-form forward reference imported from another module\n",
      "  check_type(value, var_annotation)\n"
     ]
    },
    {
     "data": {
      "text/html": [
       "<div class=\"alert-success\" style=\"padding:5px;\"><strong>SyftSuccess</strong>: Synced 0 items</div><br />"
      ],
      "text/plain": [
       "SyftSuccess: Synced 0 items"
      ]
     },
     "execution_count": 18,
     "metadata": {},
     "output_type": "execute_result"
    }
   ],
   "source": [
    "client_low.apply_state(resolved_state_low)"
   ]
  },
  {
   "cell_type": "code",
   "execution_count": 19,
   "id": "34a6c22a",
   "metadata": {},
   "outputs": [
    {
     "data": {
      "text/html": [
       "<div class=\"alert-success\" style=\"padding:5px;\"><strong>SyftSuccess</strong>: Synced 3 items</div><br />"
      ],
      "text/plain": [
       "SyftSuccess: Synced 3 items"
      ]
     },
     "execution_count": 19,
     "metadata": {},
     "output_type": "execute_result"
    }
   ],
   "source": [
    "client_high.apply_state(resolved_state_high)"
   ]
  },
  {
   "cell_type": "code",
   "execution_count": 20,
   "id": "27d0b95c-1e93-4ce9-8fcc-22381e4c10dd",
   "metadata": {},
   "outputs": [],
   "source": [
    "request_storage_permissions = node_high.python_node.get_service(\n",
    "    \"requestservice\"\n",
    ").stash.partition.storage_permissions\n",
    "request_id = client_high.requests[0].id\n",
    "node_high_id = node_high.python_node.id\n",
    "\n",
    "assert node_high_id in request_storage_permissions[request_id]"
   ]
  },
  {
   "cell_type": "markdown",
   "id": "3f94e740",
   "metadata": {},
   "source": [
    "# Run code high and sync back result"
   ]
  },
  {
   "cell_type": "code",
   "execution_count": 21,
   "id": "779f3fa0",
   "metadata": {},
   "outputs": [],
   "source": [
    "data_high = client_high.datasets[0].assets[0]"
   ]
  },
  {
   "cell_type": "code",
   "execution_count": 22,
   "id": "e3fc5218",
   "metadata": {},
   "outputs": [
    {
     "data": {
      "text/markdown": [
       "```python\n",
       "class Job:\n",
       "    id: UID = 76ba5685a62246fea46c5ee2b719ad69\n",
       "    status: created\n",
       "    has_parent: False\n",
       "    result: syft.service.action.action_data_empty.ObjectNotReady\n",
       "    logs:\n",
       "\n",
       "0 \n",
       "    \n",
       "```"
      ],
      "text/plain": [
       "syft.service.job.job_stash.Job"
      ]
     },
     "metadata": {},
     "output_type": "display_data"
    }
   ],
   "source": [
    "job_high = client_high.code.compute_mean(data=data_high, blocking=False)\n",
    "display(job_high)"
   ]
  },
  {
   "cell_type": "code",
   "execution_count": 23,
   "id": "a4a37ccb",
   "metadata": {},
   "outputs": [
    {
     "name": "stderr",
     "output_type": "stream",
     "text": [
      "11/03/24 11:15:10 FUNCTION LOG (76ba5685a62246fea46c5ee2b719ad69): Computing mean...\n"
     ]
    },
    {
     "data": {
      "text/plain": [
       "17.0"
      ]
     },
     "execution_count": 23,
     "metadata": {},
     "output_type": "execute_result"
    }
   ],
   "source": [
    "# wait for the result\n",
    "job_high.wait().get()"
   ]
  },
  {
   "cell_type": "code",
   "execution_count": 24,
   "id": "dbe412df",
   "metadata": {},
   "outputs": [],
   "source": [
    "job_info = job_high.info(public_metadata=True, result=True)\n",
    "\n",
    "request = client_high.requests[0]\n",
    "result_obj = job_high.result"
   ]
  },
  {
   "cell_type": "code",
   "execution_count": 25,
   "id": "5fc1d44f",
   "metadata": {},
   "outputs": [],
   "source": [
    "# syft absolute\n",
    "from syft import SyftError\n",
    "from syft import SyftSuccess\n",
    "\n",
    "# Accepting the result directly gives an error\n",
    "accept_res = request.accept_by_depositing_result(result_obj)\n",
    "assert isinstance(accept_res, SyftError)"
   ]
  },
  {
   "cell_type": "code",
   "execution_count": 26,
   "id": "6802caa0-569b-4ca8-b1eb-b36fe6954807",
   "metadata": {},
   "outputs": [
    {
     "name": "stdout",
     "output_type": "stream",
     "text": [
      "Approving request for domain test_h\n",
      "returning existing job\n",
      "setting permission\n",
      "None\n",
      "None\n",
      "Approving request for domain test_h\n",
      "ADDING PERMISSION [READ: 2d6f5aaecc7a4f46b19e378373bce6df as d32c45790c5506af5471fc155b4ec5de993d56d908f4665f01ebb0c4f0df456d] 2d6f5aaecc7a4f46b19e378373bce6df\n",
      "Job(76ba5685a62246fea46c5ee2b719ad69) Setting new result 2d6f5aaecc7a4f46b19e378373bce6df -> 2d6f5aaecc7a4f46b19e378373bce6df\n"
     ]
    },
    {
     "data": {
      "text/html": [
       "<div class=\"alert-success\" style=\"padding:5px;\"><strong>SyftSuccess</strong>: Request submitted for updating result.</div><br />"
      ],
      "text/plain": [
       "SyftSuccess: Request submitted for updating result."
      ]
     },
     "execution_count": 26,
     "metadata": {},
     "output_type": "execute_result"
    }
   ],
   "source": [
    "accept_res = request.accept_by_depositing_result(job_info)\n",
    "\n",
    "assert isinstance(accept_res, SyftSuccess)\n",
    "accept_res"
   ]
  },
  {
   "cell_type": "code",
   "execution_count": 27,
   "id": "66b054bb",
   "metadata": {},
   "outputs": [
    {
     "data": {
      "text/html": [
       "<div class=\"alert-success\" style=\"padding:5px;\"><strong>SyftSuccess</strong>: Request submitted for updating result.</div><br />"
      ],
      "text/plain": [
       "SyftSuccess: Request submitted for updating result."
      ]
     },
     "execution_count": 27,
     "metadata": {},
     "output_type": "execute_result"
    }
   ],
   "source": [
    "accept_res"
   ]
  },
  {
   "cell_type": "code",
   "execution_count": 28,
   "id": "8e5c6864-0ab7-44b0-80ec-1364c81b9a06",
   "metadata": {},
   "outputs": [
    {
     "data": {
      "text/markdown": [
       "```python\n",
       "class ExecutionOutput:\n",
       "  id: str = 244b024ae4db4f1d93b735f3514aa010\n",
       "  created_at: str = 2024-03-11 09:14:56\n",
       "  user_code_id: str = 3622f0ed39264a11a22166f377401f61\n",
       "  job_id: str = 76ba5685a62246fea46c5ee2b719ad69\n",
       "  output_ids: str = [<LineageID: 2d6f5aaecc7a4f46b19e378373bce6df - 2096721368720564511>]\n",
       "\n",
       "```"
      ],
      "text/plain": [
       "syft.service.output.output_service.ExecutionOutput"
      ]
     },
     "execution_count": 28,
     "metadata": {},
     "output_type": "execute_result"
    }
   ],
   "source": [
    "request.code.output_history[0]"
   ]
  },
  {
   "cell_type": "code",
   "execution_count": 29,
   "id": "12e63601-677f-4c4b-ad71-b1273f4a5cc0",
   "metadata": {},
   "outputs": [],
   "source": [
    "# accept_res = request.accept_by_depositing_result(job_info.result.get())\n",
    "\n",
    "# assert isinstance(accept_res, SyftSuccess)\n",
    "# accept_res"
   ]
  },
  {
   "cell_type": "code",
   "execution_count": 30,
   "id": "be7b8376",
   "metadata": {},
   "outputs": [],
   "source": [
    "# Need to refresh Job because we overwrite result\n",
    "job_high = client_high.jobs[0]\n",
    "\n",
    "action_store_high = node_high.python_node.get_service(\"actionservice\").store\n",
    "blob_store_high = node_high.python_node.get_service(\n",
    "    \"blobstorageservice\"\n",
    ").stash.partition\n",
    "assert (\n",
    "    f\"{client_low_ds.verify_key}_READ\"\n",
    "    in action_store_high.permissions[job_high.result.id.id]\n",
    ")\n",
    "assert (\n",
    "    f\"{client_low_ds.verify_key}_READ\"\n",
    "    in blob_store_high.permissions[job_high.result.syft_blob_storage_entry_id]\n",
    ")"
   ]
  },
  {
   "cell_type": "code",
   "execution_count": 31,
   "id": "8a2b4ca9-074d-44ac-a780-21f561e5b634",
   "metadata": {},
   "outputs": [],
   "source": [
    "assert action_store_high.storage_permissions[job_high.result.id.id] == {\n",
    "    node_high.python_node.id\n",
    "}"
   ]
  },
  {
   "cell_type": "markdown",
   "id": "1a19ff34",
   "metadata": {},
   "source": [
    "## Sync back to low"
   ]
  },
  {
   "cell_type": "code",
   "execution_count": 32,
   "id": "1bac0a2f-d68a-47b4-86e5-0069c48c3b87",
   "metadata": {},
   "outputs": [
    {
     "data": {
      "text/markdown": [
       "```python\n",
       "class Job:\n",
       "    id: UID = 76ba5685a62246fea46c5ee2b719ad69\n",
       "    status: completed\n",
       "    has_parent: False\n",
       "    result: 17.0\n",
       "    logs:\n",
       "\n",
       "0 Computing mean...\n",
       "JOB COMPLETED\n",
       "    \n",
       "```"
      ],
      "text/plain": [
       "syft.service.job.job_stash.Job"
      ]
     },
     "execution_count": 32,
     "metadata": {},
     "output_type": "execute_result"
    }
   ],
   "source": [
    "client_high.jobs[0]"
   ]
  },
  {
   "cell_type": "code",
   "execution_count": 33,
   "id": "f86275bf",
   "metadata": {},
   "outputs": [
    {
     "name": "stdout",
     "output_type": "stream",
     "text": [
      "syft.service.sync.sync_state.SyncState\n"
     ]
    }
   ],
   "source": [
    "low_state = client_low.get_sync_state()\n",
    "high_state = client_high.get_sync_state()\n",
    "\n",
    "print(high_state)"
   ]
  },
  {
   "cell_type": "code",
   "execution_count": 34,
   "id": "36d74a8d-423e-40bb-a220-c5ab08665d8f",
   "metadata": {},
   "outputs": [
    {
     "data": {
      "text/html": [
       "{&lt;UID: e347418318684acbbcb722210032035a&gt;: {&lt;UID: 8212e6797fde4c3fba4fc53ab555a886&gt;}, &lt;UID: 3622f0ed39264a11a22166f377401f61&gt;: {&lt;UID: 8212e6797fde4c3fba4fc53ab555a886&gt;}, &lt;UID: 76ba5685a62246fea46c5ee2b719ad69&gt;: {&lt;UID: 8212e6797fde4c3fba4fc53ab555a886&gt;}, &lt;UID: 7ee8c878132e467ea380a82cdaa7be9d&gt;: {&lt;UID: 8212e6797fde4c3fba4fc53ab555a886&gt;}, &lt;UID: 244b024ae4db4f1d93b735f3514aa010&gt;: {&lt;UID: 8212e6797fde4c3fba4fc53ab555a886&gt;}, &lt;UID: 0093b468a7544409b7107889220b491e&gt;: {&lt;UID: 8212e6797fde4c3fba4fc53ab555a886&gt;}, &lt;UID: 2d6f5aaecc7a4f46b19e378373bce6df&gt;: {&lt;UID: 8212e6797fde4c3fba4fc53ab555a886&gt;}}"
      ],
      "text/plain": [
       "{<UID: e347418318684acbbcb722210032035a>: {<UID: 8212e6797fde4c3fba4fc53ab555a886>},\n",
       " <UID: 3622f0ed39264a11a22166f377401f61>: {<UID: 8212e6797fde4c3fba4fc53ab555a886>},\n",
       " <UID: 76ba5685a62246fea46c5ee2b719ad69>: {<UID: 8212e6797fde4c3fba4fc53ab555a886>},\n",
       " <UID: 7ee8c878132e467ea380a82cdaa7be9d>: {<UID: 8212e6797fde4c3fba4fc53ab555a886>},\n",
       " <UID: 244b024ae4db4f1d93b735f3514aa010>: {<UID: 8212e6797fde4c3fba4fc53ab555a886>},\n",
       " <UID: 0093b468a7544409b7107889220b491e>: {<UID: 8212e6797fde4c3fba4fc53ab555a886>},\n",
       " <UID: 2d6f5aaecc7a4f46b19e378373bce6df>: {<UID: 8212e6797fde4c3fba4fc53ab555a886>}}"
      ]
     },
     "execution_count": 34,
     "metadata": {},
     "output_type": "execute_result"
    }
   ],
   "source": [
    "high_state.storage_permissions"
   ]
  },
  {
   "cell_type": "code",
   "execution_count": 35,
   "id": "4e65a96d-c28e-435c-9539-1d0ad42b099e",
   "metadata": {},
   "outputs": [],
   "source": [
    "diff_state_2 = compare_states(low_state, high_state)"
   ]
  },
  {
   "cell_type": "code",
   "execution_count": 36,
   "id": "826ce072",
   "metadata": {},
   "outputs": [
    {
     "name": "stdout",
     "output_type": "stream",
     "text": [
      "LOW SIDE STATE:\n",
      "\n",
      "―――― SAME ――――――――――――――――――――――――――――――――――――――――――――――――――――――――――――――――――――――――――――――――――――――――――\n",
      "\n",
      "USERCODE #3622f0ed39264a11a22166f377401f61:\n",
      "service_func_name: compute_mean\n",
      "input_owners: [\n",
      "‎ ‎ ‎ ‎ test_l\n",
      "]\n",
      "code_status: [\n",
      "‎ ‎ ‎ ‎ Node: test_l, Status: pending\n",
      "]\n",
      "\n",
      "    ―――― DIFF ――――――――――――――――――――――――――――――――――――――――――――――――――――――――――――――――――――――――――――――――――――――\n",
      "\n",
      "    USERCODESTATUSCOLLECTION #0093b468a7544409b7107889220b491e:\n",
      "    status_dict: (<UserCodeStatus.PENDING: 'pending'>, '')\n",
      "\n",
      "\n",
      "\n",
      "HIGH SIDE STATE:\n",
      "\n",
      "―――― SAME ――――――――――――――――――――――――――――――――――――――――――――――――――――――――――――――――――――――――――――――――――――――――――\n",
      "\n",
      "USERCODE #3622f0ed39264a11a22166f377401f61:\n",
      "service_func_name: compute_mean\n",
      "input_owners: [\n",
      "‎ ‎ ‎ ‎ test_l\n",
      "]\n",
      "code_status: [\n",
      "‎ ‎ ‎ ‎ Node: test_h, Status: approved\n",
      "]\n",
      "\n",
      "    ―――― DIFF ――――――――――――――――――――――――――――――――――――――――――――――――――――――――――――――――――――――――――――――――――――――\n",
      "\n",
      "    USERCODESTATUSCOLLECTION #0093b468a7544409b7107889220b491e:\n",
      "    status_dict: (<UserCodeStatus.APPROVED: 'approved'>, '')\n",
      "\n",
      "\n",
      "\n",
      "Decision: Syncing 2 objects from high side\n",
      "\n",
      "====================================================================================================\n",
      "\n",
      "LOW SIDE STATE:\n",
      "\n",
      "―――― DIFF ――――――――――――――――――――――――――――――――――――――――――――――――――――――――――――――――――――――――――――――――――――――――――\n",
      "\n",
      "REQUEST #e347418318684acbbcb722210032035a:\n",
      "node_uid: 8a1c04544655402190588aec30079bc3\n",
      "changes: [\n",
      "‎ ‎ ‎ ‎ syft.service.request.request.UserCodeStatusChange\n",
      "]\n",
      "history: [\n",
      "]\n",
      "\n",
      "    ―――― SAME ――――――――――――――――――――――――――――――――――――――――――――――――――――――――――――――――――――――――――――――――――――――\n",
      "\n",
      "    USERCODE #3622f0ed39264a11a22166f377401f61:\n",
      "    service_func_name: compute_mean\n",
      "    input_owners: [\n",
      "    ‎ ‎ ‎ ‎ test_l\n",
      "    ]\n",
      "    code_status: [\n",
      "    ‎ ‎ ‎ ‎ Node: test_l, Status: pending\n",
      "    ]\n",
      "\n",
      "\n",
      "\n",
      "HIGH SIDE STATE:\n",
      "\n",
      "―――― DIFF ――――――――――――――――――――――――――――――――――――――――――――――――――――――――――――――――――――――――――――――――――――――――――\n",
      "\n",
      "REQUEST #e347418318684acbbcb722210032035a:\n",
      "node_uid: 8212e6797fde4c3fba4fc53ab555a886\n",
      "changes: [\n",
      "‎ ‎ ‎ ‎ syft.service.request.request.UserCodeStatusChange\n",
      "‎ ‎ ‎ ‎ syft.service.request.request.ActionStoreChange\n",
      "]\n",
      "history: [\n",
      "‎ ‎ ‎ ‎ syft.service.request.request.ChangeStatus\n",
      "‎ ‎ ‎ ‎ syft.service.request.request.ChangeStatus\n",
      "‎ ‎ ‎ ‎ syft.service.request.request.ChangeStatus\n",
      "]\n",
      "\n",
      "    ―――― SAME ――――――――――――――――――――――――――――――――――――――――――――――――――――――――――――――――――――――――――――――――――――――\n",
      "\n",
      "    USERCODE #3622f0ed39264a11a22166f377401f61:\n",
      "    service_func_name: compute_mean\n",
      "    input_owners: [\n",
      "    ‎ ‎ ‎ ‎ test_l\n",
      "    ]\n",
      "    code_status: [\n",
      "    ‎ ‎ ‎ ‎ Node: test_h, Status: approved\n",
      "    ]\n",
      "\n",
      "\n",
      "\n",
      "Decision: Syncing 2 objects from high side\n",
      "\n",
      "====================================================================================================\n",
      "\n",
      "LOW SIDE STATE:\n",
      "\n",
      "―――― SAME ――――――――――――――――――――――――――――――――――――――――――――――――――――――――――――――――――――――――――――――――――――――――――\n",
      "\n",
      "USERCODE #3622f0ed39264a11a22166f377401f61:\n",
      "service_func_name: compute_mean\n",
      "input_owners: [\n",
      "‎ ‎ ‎ ‎ test_l\n",
      "]\n",
      "code_status: [\n",
      "‎ ‎ ‎ ‎ Node: test_l, Status: pending\n",
      "]\n",
      "\n",
      "\n",
      "\n",
      "HIGH SIDE STATE:\n",
      "\n",
      "―――― SAME ――――――――――――――――――――――――――――――――――――――――――――――――――――――――――――――――――――――――――――――――――――――――――\n",
      "\n",
      "USERCODE #3622f0ed39264a11a22166f377401f61:\n",
      "service_func_name: compute_mean\n",
      "input_owners: [\n",
      "‎ ‎ ‎ ‎ test_l\n",
      "]\n",
      "code_status: [\n",
      "‎ ‎ ‎ ‎ Node: test_h, Status: approved\n",
      "]\n",
      "\n",
      "    ―――― NEW ―――――――――――――――――――――――――――――――――――――――――――――――――――――――――――――――――――――――――――――――――――――――\n",
      "\n",
      "    JOB #76ba5685a62246fea46c5ee2b719ad69:\n",
      "    id: 76ba5685a62246fea46c5ee2b719ad69\n",
      "    result: ActionDataEmpty <<class 'numpy.number'>>\n",
      "    resolved: True\n",
      "    progress:\n",
      "    creation_time: 2024-03-11 11:15:08.780931\n",
      "\n",
      "        ―――― NEW ―――――――――――――――――――――――――――――――――――――――――――――――――――――――――――――――――――――――――――――――――――\n",
      "\n",
      "        EXECUTIONOUTPUT #244b024ae4db4f1d93b735f3514aa010:\n",
      "        created_at: 2024-03-11 09:14:56\n",
      "        user_code_id: 3622f0ed39264a11a22166f377401f61\n",
      "        job_id: 76ba5685a62246fea46c5ee2b719ad69\n",
      "        output_ids: [\n",
      "        ‎ ‎ ‎ ‎ 2d6f5aaecc7a4f46b19e378373bce6df\n",
      "        ]\n",
      "\n",
      "            ―――― NEW ―――――――――――――――――――――――――――――――――――――――――――――――――――――――――――――――――――――――――――――――\n",
      "\n",
      "            NUMPYSCALAROBJECT #2d6f5aaecc7a4f46b19e378373bce6df:\n",
      "\n",
      "        ―――― NEW ―――――――――――――――――――――――――――――――――――――――――――――――――――――――――――――――――――――――――――――――――――\n",
      "\n",
      "        SYFTLOG #7ee8c878132e467ea380a82cdaa7be9d:\n",
      "        stdout: Computing mean...\n",
      "        stderr:\n",
      "\n",
      "\n",
      "\n",
      "Decision: Syncing 5 objects from high side\n",
      "\n",
      "====================================================================================================\n",
      "\n"
     ]
    }
   ],
   "source": [
    "resolved_state_low, resolved_state_high = resolve(\n",
    "    diff_state_2, decision=\"high\", share_private_objects=True\n",
    ")"
   ]
  },
  {
   "cell_type": "code",
   "execution_count": 37,
   "id": "7b9befff-ec33-420f-97c1-eadc8fcdb6e2",
   "metadata": {},
   "outputs": [
    {
     "data": {
      "text/html": [
       "\n",
       "<style>\n",
       "  body[data-jp-theme-light='false'] {\n",
       "        --primary-color: #111111;\n",
       "        --secondary-color: #212121;\n",
       "        --tertiary-color: #CFCDD6;\n",
       "        --button-color: #111111;\n",
       "  }\n",
       "\n",
       "  body {\n",
       "        --primary-color: #ffffff;\n",
       "        --secondary-color: #f5f5f5;\n",
       "        --tertiary-color: #000000de;\n",
       "        --button-color: #d1d5db;\n",
       "  }\n",
       "\n",
       "  .header-1 {\n",
       "        font-style: normal;\n",
       "        font-weight: 600;\n",
       "        font-size: 2.0736em;\n",
       "        line-height: 100%;\n",
       "        leading-trim: both;\n",
       "        text-edge: cap;\n",
       "        color: #17161D;\n",
       "    }\n",
       "\n",
       "  .header-2 {\n",
       "        font-style: normal;\n",
       "        font-weight: 600;\n",
       "        font-size: 1.728em;\n",
       "        line-height: 100%;\n",
       "        leading-trim: both;\n",
       "        text-edge: cap;\n",
       "        color: #17161D;\n",
       "    }\n",
       "\n",
       "  .header-3 {\n",
       "        font-style: normal;\n",
       "        font-weight: 600;\n",
       "        font-size:  1.44em;\n",
       "        line-height: 100%;\n",
       "        leading-trim: both;\n",
       "        text-edge: cap;\n",
       "        color: var(--tertiary-color);\n",
       "    }\n",
       "\n",
       "  .header-4 {\n",
       "        font-style: normal;\n",
       "        font-weight: 600;\n",
       "        font-size: 1.2em;\n",
       "        line-height: 100%;\n",
       "        leading-trim: both;\n",
       "        text-edge: cap;\n",
       "        color: #17161D;\n",
       "    }\n",
       "\n",
       "    .paragraph {\n",
       "        font-style: normal;\n",
       "        font-weight: 400;\n",
       "        font-size: 14px;\n",
       "        line-height: 100%;\n",
       "        leading-trim: both;\n",
       "        text-edge: cap;\n",
       "        color: #2E2B3B;\n",
       "    }\n",
       "\n",
       "    .paragraph-sm {\n",
       "        font-family: 'Roboto';\n",
       "        font-style: normal;\n",
       "        font-weight: 400;\n",
       "        font-size: 11.62px;\n",
       "        line-height: 100%;\n",
       "        leading-trim: both;\n",
       "        text-edge: cap;\n",
       "        color: #2E2B3B;\n",
       "    }\n",
       "    .code-text {\n",
       "        font-family: 'Consolas';\n",
       "        font-style: normal;\n",
       "        font-weight: 400;\n",
       "        font-size: 13px;\n",
       "        line-height: 130%;\n",
       "        leading-trim: both;\n",
       "        text-edge: cap;\n",
       "        color: #2E2B3B;\n",
       "    }\n",
       "\n",
       "    .numbering-entry { display: none }\n",
       "\n",
       "    /* Tooltip container */\n",
       "    .tooltip {\n",
       "        position: relative;\n",
       "        display: inline-block;\n",
       "        border-bottom: 1px dotted black; /* If you want dots under the hoverable text */\n",
       "    }\n",
       "\n",
       "    /* Tooltip text */\n",
       "    .tooltip .tooltiptext {\n",
       "        visibility: hidden;\n",
       "        width: 120px;\n",
       "        background-color: black;\n",
       "        color: #fff;\n",
       "        text-align: center;\n",
       "        padding: 5px 0;\n",
       "        border-radius: 6px;\n",
       "\n",
       "        /* Position the tooltip text - see examples below! */\n",
       "        position: absolute;\n",
       "        z-index: 1;\n",
       "    }\n",
       "\n",
       "    .repr-cell {\n",
       "      padding-top: 20px;\n",
       "    }\n",
       "\n",
       "    .text-bold {\n",
       "        font-weight: bold;\n",
       "    }\n",
       "\n",
       "    .pr-8 {\n",
       "        padding-right: 8px;\n",
       "    }\n",
       "    .pt-8 {\n",
       "        padding-top: 8px;\n",
       "    }\n",
       "    .pl-8 {\n",
       "        padding-left: 8px;\n",
       "    }\n",
       "    .pb-8 {\n",
       "        padding-bottom: 8px;\n",
       "    }\n",
       "\n",
       "    .py-25{\n",
       "        padding-top: 25px;\n",
       "        padding-bottom: 25px;\n",
       "    }\n",
       "\n",
       "    .flex {\n",
       "        display: flex;\n",
       "    }\n",
       "\n",
       "    .gap-10 {\n",
       "        gap: 10px;\n",
       "    }\n",
       "    .items-center{\n",
       "        align-items: center;\n",
       "    }\n",
       "\n",
       "    .folder-icon {\n",
       "        color: var(--tertiary-color);\n",
       "    }\n",
       "\n",
       "    .search-input{\n",
       "        display: flex;\n",
       "        flex-direction: row;\n",
       "        align-items: center;\n",
       "        padding: 8px 12px;\n",
       "        width: 343px;\n",
       "        height: 24px;\n",
       "        /* Lt On Surface/Low */\n",
       "        background-color: var(--secondary-color);\n",
       "        border-radius: 30px;\n",
       "\n",
       "        /* Lt On Surface/Highest */\n",
       "        color: var(--tertiary-color);\n",
       "        border:none;\n",
       "        /* Inside auto layout */\n",
       "        flex: none;\n",
       "        order: 0;\n",
       "        flex-grow: 0;\n",
       "    }\n",
       "    .search-input:focus {\n",
       "        outline: none;\n",
       "    }\n",
       "        .search-input:focus::placeholder,\n",
       "    .search-input::placeholder { /* Chrome, Firefox, Opera, Safari 10.1+ */\n",
       "        color: var(--tertiary-color);\n",
       "        opacity: 1; /* Firefox */\n",
       "    }\n",
       "\n",
       "    .search-button{\n",
       "        /* Search */\n",
       "        leading-trim: both;\n",
       "        text-edge: cap;\n",
       "        display: flex;\n",
       "        align-items: center;\n",
       "        text-align: center;\n",
       "\n",
       "        /* Primary/On Light */\n",
       "        background-color: var(--button-color);\n",
       "        color: var(--tertiary-color);\n",
       "\n",
       "        border-radius: 30px;\n",
       "        border-color: var(--secondary-color);\n",
       "        border-style: solid;\n",
       "        box-shadow: rgba(60, 64, 67, 0.3) 0px 1px 2px 0px, rgba(60, 64, 67, 0.15) 0px 1px 3px 1px;\n",
       "        cursor: pointer;\n",
       "        /* Inside auto layout */\n",
       "        flex: none;\n",
       "        order: 1;\n",
       "        flex-grow: 0;\n",
       "    }\n",
       "\n",
       "    .grid-tableecd97807dd1d4b3fb98ae859163ffb8c {\n",
       "        display:grid;\n",
       "        grid-template-columns: 1fr repeat(8, 1fr);\n",
       "        grid-template-rows: repeat(2, 1fr);\n",
       "        overflow-x: auto;\n",
       "        position: relative;\n",
       "    }\n",
       "\n",
       "    .grid-std-cells {\n",
       "        grid-column: span 4;\n",
       "\n",
       "    }\n",
       "    .grid-index-cells {\n",
       "        grid-column: span 1;\n",
       "        /* tmp fix to make left col stand out (fix with font-family) */\n",
       "        font-weight: 600;\n",
       "        background-color: var(--secondary-color) !important;\n",
       "        color: var(--tertiary-color);\n",
       "    }\n",
       "\n",
       "    .grid-header {\n",
       "        /* Auto layout */\n",
       "        display: flex;\n",
       "        flex-direction: column;\n",
       "        align-items: center;\n",
       "        padding: 6px 4px;\n",
       "\n",
       "        resize: horizontal;\n",
       "        /* Lt On Surface/Surface */\n",
       "        /* Lt On Surface/High */\n",
       "        border: 1px solid #CFCDD6;\n",
       "        /* tmp fix to make header stand out (fix with font-family) */\n",
       "        font-weight: 600;\n",
       "        background-color: var(--secondary-color);\n",
       "        color: var(--tertiary-color);\n",
       "    }\n",
       "\n",
       "    .grid-row {\n",
       "        display: flex;\n",
       "        flex-direction: column;\n",
       "        align-items: flex-start;\n",
       "        padding: 6px 4px;\n",
       "        overflow: hidden;\n",
       "        border: 1px solid #CFCDD6;\n",
       "        background-color: var(--primary-color);\n",
       "        color: var(--tertiary-color);\n",
       "    }\n",
       "\n",
       "    .badge {\n",
       "        code-text;\n",
       "        border-radius: 30px;\n",
       "    }\n",
       "\n",
       "    .badge-blue {\n",
       "        badge;\n",
       "        background-color: #C2DEF0;\n",
       "        color: #1F567A;\n",
       "    }\n",
       "\n",
       "    .badge-purple {\n",
       "        badge;\n",
       "        background-color: #C9CFE8;\n",
       "        color: #373B7B;\n",
       "    }\n",
       "\n",
       "    .badge-green {\n",
       "        badge;\n",
       "\n",
       "        /* Success/Container */\n",
       "        background-color: #D5F1D5;\n",
       "        color: #256B24;\n",
       "    }\n",
       "\n",
       "    .badge-red {\n",
       "        badge;\n",
       "        background-color: #F2D9DE;\n",
       "        color: #9B2737;\n",
       "    }\n",
       "\n",
       "    .badge-gray {\n",
       "        badge;\n",
       "        background-color: #ECEBEF;\n",
       "        color: #2E2B3B;\n",
       "    }\n",
       "    .paginationContainer{\n",
       "        width: 100%;\n",
       "        /*height: 30px;*/\n",
       "        display: flex;\n",
       "        justify-content: center;\n",
       "        gap: 8px;\n",
       "        padding: 5px;\n",
       "        color: var(--tertiary-color);\n",
       "    }\n",
       "\n",
       "    .page{\n",
       "        color: black;\n",
       "        font-weight: bold;\n",
       "        color: var(--tertiary-color);\n",
       "    }\n",
       "    .page:hover {\n",
       "      color: #38bdf8;\n",
       "      cursor: pointer;\n",
       "    }\n",
       "    .clipboard:hover{\n",
       "        cursor: pointer;\n",
       "        color: var(--tertiary-color);\n",
       "    }\n",
       "\n",
       "    .search-field {\n",
       "        display: flex;\n",
       "        align-items: center;\n",
       "        border-radius: 30px;\n",
       "        background-color: var(--secondary-color);\n",
       "    }\n",
       "\n",
       "    .syft-dropdown {\n",
       "        margin: 5px;\n",
       "        margin-left: 5px;\n",
       "        position: relative;\n",
       "        display: inline-block;\n",
       "        text-align: center;\n",
       "        background-color: var(--button-color);\n",
       "        min-width: 100px;\n",
       "        padding: 2px;\n",
       "        border-radius: 30px;\n",
       "    }\n",
       "\n",
       "    .syft-dropdown:hover {\n",
       "        cursor: pointer;\n",
       "    }\n",
       "    .syft-dropdown-content {\n",
       "        margin-top:26px;\n",
       "        display: none;\n",
       "        position: absolute;\n",
       "        min-width: 100px;\n",
       "        box-shadow: 0px 8px 16px 0px rgba(0,0,0,0.2);\n",
       "        padding: 12px 6px;\n",
       "        z-index: 1;\n",
       "        background-color: var(--primary-color);\n",
       "        color: var(--tertiary-color);\n",
       "    }\n",
       "    .dd-options {\n",
       "        padding-top: 4px;\n",
       "    }\n",
       "    .dd-options:first-of-type {\n",
       "        padding-top: 0px;\n",
       "    }\n",
       "\n",
       "    .dd-options:hover {\n",
       "        cursor: pointer;\n",
       "        background: #d1d5db;\n",
       "    }\n",
       "    .arrow {\n",
       "        border: solid black;\n",
       "        border-width: 0 3px 3px 0;\n",
       "        display: inline-block;\n",
       "        padding: 3px;\n",
       "    }\n",
       "    .down {\n",
       "        transform: rotate(45deg);\n",
       "        -webkit-transform: rotate(45deg);\n",
       "    }\n",
       "</style>\n",
       "\n",
       "\n",
       "    <div style='margin-top:15px;'>\n",
       "        <div class='flex gap-10' style='align-items: center;'>\n",
       "            <div class='folder-icon'><svg width=\"32\" height=\"32\" viewBox=\"0 0 32 32\" fill=\"none\" xmlns=\"http://www.w3.org/2000/svg\"> <path d=\"M28 6H4C3.73478 6 3.48043 6.10536 3.29289 6.29289C3.10536 6.48043 3 6.73478 3 7V24C3 24.5304 3.21071 25.0391 3.58579 25.4142C3.96086 25.7893 4.46957 26 5 26H27C27.5304 26 28.0391 25.7893 28.4142 25.4142C28.7893 25.0391 29 24.5304 29 24V7C29 6.73478 28.8946 6.48043 28.7071 6.29289C28.5196 6.10536 28.2652 6 28 6ZM5 14H10V18H5V14ZM12 14H27V18H12V14ZM27 8V12H5V8H27ZM5 20H10V24H5V20ZM27 24H12V20H27V24Z\" fill=\"#343330\"/></svg></div>\n",
       "            <div><p class='header-3'>StoragePermission List</p></div>\n",
       "        </div>\n",
       "\n",
       "            <div style=\"padding-top: 16px; display:flex;justify-content: space-between; align-items: center;\">\n",
       "                <div class='pt-25 gap-10' style=\"display:flex;\">\n",
       "                    <div class=\"search-field\">\n",
       "                        <div id='search-menuecd97807dd1d4b3fb98ae859163ffb8c' class=\"syft-dropdown\" onclick=\"{\n",
       "                            let doc = document.getElementById('search-dropdown-contentecd97807dd1d4b3fb98ae859163ffb8c')\n",
       "                            if (doc.style.display === 'block'){\n",
       "                                doc.style.display = 'none'\n",
       "                            } else {\n",
       "                                doc.style.display = 'block'\n",
       "                            }\n",
       "                            }\">\n",
       "                            <div id='search-dropdown-contentecd97807dd1d4b3fb98ae859163ffb8c' class='syft-dropdown-content'></div>\n",
       "                            <script>\n",
       "                                var elementecd97807dd1d4b3fb98ae859163ffb8c = [{\"uid\": \"0093b468a7544409b7107889220b491e\", \"node_uid\": \"8a1c04544655402190588aec30079bc3\"}, {\"uid\": \"e347418318684acbbcb722210032035a\", \"node_uid\": \"8a1c04544655402190588aec30079bc3\"}, {\"uid\": \"244b024ae4db4f1d93b735f3514aa010\", \"node_uid\": \"8a1c04544655402190588aec30079bc3\"}, {\"uid\": \"76ba5685a62246fea46c5ee2b719ad69\", \"node_uid\": \"8a1c04544655402190588aec30079bc3\"}, {\"uid\": \"7ee8c878132e467ea380a82cdaa7be9d\", \"node_uid\": \"8a1c04544655402190588aec30079bc3\"}, {\"uid\": \"2d6f5aaecc7a4f46b19e378373bce6df\", \"node_uid\": \"8a1c04544655402190588aec30079bc3\"}]\n",
       "                                var page_sizeecd97807dd1d4b3fb98ae859163ffb8c = 5\n",
       "                                var pageIndexecd97807dd1d4b3fb98ae859163ffb8c = 1\n",
       "                                var paginatedElementsecd97807dd1d4b3fb98ae859163ffb8c = []\n",
       "                                var activeFilterecd97807dd1d4b3fb98ae859163ffb8c;\n",
       "\n",
       "                                function buildDropDownMenu(elements){\n",
       "                                    let init_filter;\n",
       "                                    let menu = document.getElementById('search-dropdown-contentecd97807dd1d4b3fb98ae859163ffb8c')\n",
       "                                    if (elements.length > 0) {\n",
       "                                        let sample = elements[0]\n",
       "                                        for (const attr in sample) {\n",
       "                                            if (typeof init_filter === 'undefined'){\n",
       "                                                init_filter = attr;\n",
       "                                            }\n",
       "                                            let content = document.createElement('div');\n",
       "                                            content.onclick = function(event) {\n",
       "                                                event.stopPropagation()\n",
       "                                                document.getElementById('menu-active-filterecd97807dd1d4b3fb98ae859163ffb8c').innerText = attr;\n",
       "                                                activeFilterecd97807dd1d4b3fb98ae859163ffb8c = attr;\n",
       "                                                document.getElementById(\n",
       "                                                    'search-dropdown-contentecd97807dd1d4b3fb98ae859163ffb8c'\n",
       "                                                ).style.display= 'none';\n",
       "                                            }\n",
       "                                            content.classList.add(\"dd-options\");\n",
       "                                            content.innerText = attr;\n",
       "                                            menu.appendChild(content);\n",
       "                                        }\n",
       "                                    } else {\n",
       "                                        let init_filter = '---'\n",
       "                                    }\n",
       "                                    let dropdown_field = document.getElementById('search-menuecd97807dd1d4b3fb98ae859163ffb8c')\n",
       "                                    let span = document.createElement('span')\n",
       "                                    span.setAttribute('id', 'menu-active-filterecd97807dd1d4b3fb98ae859163ffb8c')\n",
       "                                    span.innerText = init_filter\n",
       "                                    activeFilterecd97807dd1d4b3fb98ae859163ffb8c = init_filter;\n",
       "                                    dropdown_field.appendChild(span)\n",
       "                                }\n",
       "\n",
       "                                buildDropDownMenu(elementecd97807dd1d4b3fb98ae859163ffb8c)\n",
       "                            </script>\n",
       "                        </div>\n",
       "                        <input id='searchKeyecd97807dd1d4b3fb98ae859163ffb8c' class='search-input' placeholder='Enter search here ...'  />\n",
       "                    </div>\n",
       "                    <button class='search-button' type=\"button\" onclick=\"searchGridecd97807dd1d4b3fb98ae859163ffb8c(elementecd97807dd1d4b3fb98ae859163ffb8c)\">\n",
       "                        <svg width=\"11\" height=\"10\" viewBox=\"0 0 11 10\" fill=\"none\" xmlns=\"http://www.w3.org/2000/svg\"><path d=\"M10.5652 9.23467L8.21819 6.88811C8.89846 6.07141 9.23767 5.02389 9.16527 3.96345C9.09287 2.90302 8.61443 1.91132 7.82948 1.19466C7.04453 0.477995 6.01349 0.0915414 4.95087 0.115691C3.88824 0.139841 2.87583 0.572735 2.12425 1.32432C1.37266 2.0759 0.939768 3.08831 0.915618 4.15094C0.891468 5.21357 1.27792 6.2446 1.99459 7.02955C2.71125 7.8145 3.70295 8.29294 4.76338 8.36535C5.82381 8.43775 6.87134 8.09853 7.68804 7.41827L10.0346 9.7653C10.0694 9.80014 10.1108 9.82778 10.1563 9.84663C10.2018 9.86549 10.2506 9.87519 10.2999 9.87519C10.3492 9.87519 10.398 9.86549 10.4435 9.84663C10.489 9.82778 10.5304 9.80014 10.5652 9.7653C10.6001 9.73046 10.6277 9.68909 10.6466 9.64357C10.6654 9.59805 10.6751 9.54926 10.6751 9.49998C10.6751 9.45071 10.6654 9.40192 10.6466 9.3564C10.6277 9.31088 10.6001 9.26951 10.5652 9.23467ZM1.67491 4.24998C1.67491 3.58247 1.87285 2.92995 2.2437 2.37493C2.61455 1.81992 3.14165 1.38734 3.75835 1.13189C4.37506 0.876446 5.05366 0.809609 5.70834 0.939835C6.36303 1.07006 6.96439 1.3915 7.4364 1.8635C7.9084 2.3355 8.22984 2.93687 8.36006 3.59155C8.49029 4.24624 8.42345 4.92484 8.168 5.54154C7.91256 6.15824 7.47998 6.68535 6.92496 7.05619C6.36995 7.42704 5.71742 7.62498 5.04991 7.62498C4.15511 7.62399 3.29724 7.26809 2.66452 6.63537C2.0318 6.00265 1.6759 5.14479 1.67491 4.24998Z\" fill=\"currentColor\"/></svg>\n",
       "                        <span class='pl-8'>Search</span>\n",
       "                    </button>\n",
       "                </div>\n",
       "\n",
       "                <div><h4 id='totalecd97807dd1d4b3fb98ae859163ffb8c'>0</h4></div>\n",
       "            </div>\n",
       "            <div id='tableecd97807dd1d4b3fb98ae859163ffb8c' class='grid-tableecd97807dd1d4b3fb98ae859163ffb8c' style='margin-top: 25px;'>\n",
       "                <script>\n",
       "                    function paginateecd97807dd1d4b3fb98ae859163ffb8c(arr, size) {\n",
       "                        const res = [];\n",
       "                        for (let i = 0; i < arr.length; i += size) {\n",
       "                            const chunk = arr.slice(i, i + size);\n",
       "                            res.push(chunk);\n",
       "                        }\n",
       "\n",
       "                        return res;\n",
       "                    }\n",
       "\n",
       "                    function searchGridecd97807dd1d4b3fb98ae859163ffb8c(elements){\n",
       "                        let searchKey = document.getElementById('searchKeyecd97807dd1d4b3fb98ae859163ffb8c').value;\n",
       "                        let result;\n",
       "                        if (searchKey === ''){\n",
       "                            result = elements;\n",
       "                        } else {\n",
       "                            result = elements.filter((element) => {\n",
       "                                let property = element[activeFilterecd97807dd1d4b3fb98ae859163ffb8c]\n",
       "                                if (typeof property === 'object' && property !== null){\n",
       "                                    return property.value.toLowerCase().includes(searchKey.toLowerCase());\n",
       "                                } else if (typeof property === 'string' ) {\n",
       "                                    return element[activeFilterecd97807dd1d4b3fb98ae859163ffb8c].toLowerCase().includes(searchKey.toLowerCase());\n",
       "                                } else if (property !== null ) {\n",
       "                                    return element[activeFilterecd97807dd1d4b3fb98ae859163ffb8c].toString() === searchKey;\n",
       "                                } else {\n",
       "                                    return element[activeFilterecd97807dd1d4b3fb98ae859163ffb8c] === searchKey;\n",
       "                                }\n",
       "                            } );\n",
       "                        }\n",
       "                        resetByIdecd97807dd1d4b3fb98ae859163ffb8c('tableecd97807dd1d4b3fb98ae859163ffb8c');\n",
       "                        resetByIdecd97807dd1d4b3fb98ae859163ffb8c('pagecd97807dd1d4b3fb98ae859163ffb8c');\n",
       "                        result = paginateecd97807dd1d4b3fb98ae859163ffb8c(result, page_sizeecd97807dd1d4b3fb98ae859163ffb8c)\n",
       "                        paginatedElementsecd97807dd1d4b3fb98ae859163ffb8c = result\n",
       "                        buildGridecd97807dd1d4b3fb98ae859163ffb8c(result,pageIndexecd97807dd1d4b3fb98ae859163ffb8c);\n",
       "                        buildPaginationContainerecd97807dd1d4b3fb98ae859163ffb8c(result);\n",
       "                    }\n",
       "\n",
       "                    function resetByIdecd97807dd1d4b3fb98ae859163ffb8c(id){\n",
       "                        let element = document.getElementById(id);\n",
       "                        while (element.firstChild) {\n",
       "                          element.removeChild(element.firstChild);\n",
       "                        }\n",
       "                    }\n",
       "\n",
       "                    function buildGridecd97807dd1d4b3fb98ae859163ffb8c(items, pageIndex){\n",
       "                                let headers = Object.keys(elementecd97807dd1d4b3fb98ae859163ffb8c[0]);\n",
       "\n",
       "                                let grid = document.getElementById(\"tableecd97807dd1d4b3fb98ae859163ffb8c\");\n",
       "                                let div = document.createElement(\"div\");\n",
       "                                div.classList.add('grid-header', 'grid-index-cells');\n",
       "                                grid.appendChild(div);\n",
       "                                headers.forEach((title) =>{\n",
       "                                    let div = document.createElement(\"div\");\n",
       "                                    div.classList.add('grid-header', 'grid-std-cells');\n",
       "                                    div.innerText = title;\n",
       "\n",
       "                                    grid.appendChild(div);\n",
       "                                });\n",
       "\n",
       "                                let page = items[pageIndex -1]\n",
       "                                if (page !== 'undefine'){\n",
       "                                    let table_indexecd97807dd1d4b3fb98ae859163ffb8c = ((pageIndex - 1) * page_sizeecd97807dd1d4b3fb98ae859163ffb8c)\n",
       "                                    page.forEach((item) => {\n",
       "                                        let grid = document.getElementById(\"tableecd97807dd1d4b3fb98ae859163ffb8c\");\n",
       "                                        // Add new index value in index cells\n",
       "                                        let divIndex = document.createElement(\"div\");\n",
       "                                        divIndex.classList.add('grid-row', 'grid-index-cells');\n",
       "                                        divIndex.innerText = table_indexecd97807dd1d4b3fb98ae859163ffb8c;\n",
       "                                        grid.appendChild(divIndex);\n",
       "\n",
       "                                        // Iterate over the actual obj\n",
       "                                        for (const attr in item) {\n",
       "                                            let div = document.createElement(\"div\");\n",
       "                                            if (typeof item[attr] === 'object'\n",
       "                                                && item[attr] !== null\n",
       "                                                && item[attr].hasOwnProperty('type')) {\n",
       "                                                if (item[attr].type.includes('badge')){\n",
       "                                                    let badge_div = document.createElement(\"div\");\n",
       "                                                    badge_div.classList.add('badge',item[attr].type)\n",
       "                                                    badge_div.innerText = String(item[attr].value).toUpperCase();\n",
       "                                                    div.appendChild(badge_div);\n",
       "                                                    div.classList.add('grid-row','grid-std-cells');\n",
       "                                                } else if (item[attr].type === \"clipboard\") {\n",
       "                                                    div.classList.add('grid-row','grid-std-cells');\n",
       "\n",
       "                                                    // Create clipboard div\n",
       "                                                    let clipboard_div = document.createElement('div');\n",
       "                                                    clipboard_div.style.display= 'flex';\n",
       "                                                    clipboard_div.classList.add(\"gap-10\")\n",
       "                                                    clipboard_div.style.justifyContent = \"space-between\";\n",
       "\n",
       "                                                    let id_text = document.createElement('div');\n",
       "                                                    if (item[attr].value == \"None\"){\n",
       "                                                        id_text.innerText = \"None\";\n",
       "                                                    }\n",
       "                                                    else{\n",
       "                                                        id_text.innerText = item[attr].value.slice(0,5) + \"...\";\n",
       "                                                    }\n",
       "\n",
       "                                                    clipboard_div.appendChild(id_text);\n",
       "                                                    let clipboard_img = document.createElement('div');\n",
       "                                                    clipboard_img.classList.add(\"clipboard\")\n",
       "                                                    div.onclick = function() {\n",
       "                                                        navigator.clipboard.writeText(item[attr].value);\n",
       "                                                    };\n",
       "                                                    clipboard_img.innerHTML = \"<svg width='8' height='8' viewBox='0 0 8 8' fill='none' xmlns='http://www.w3.org/2000/svg'><path d='M7.4375 0.25H2.4375C2.35462 0.25 2.27513 0.282924 2.21653 0.341529C2.15792 0.400134 2.125 0.47962 2.125 0.5625V2.125H0.5625C0.47962 2.125 0.400134 2.15792 0.341529 2.21653C0.282924 2.27513 0.25 2.35462 0.25 2.4375V7.4375C0.25 7.52038 0.282924 7.59987 0.341529 7.65847C0.400134 7.71708 0.47962 7.75 0.5625 7.75H5.5625C5.64538 7.75 5.72487 7.71708 5.78347 7.65847C5.84208 7.59987 5.875 7.52038 5.875 7.4375V5.875H7.4375C7.52038 5.875 7.59987 5.84208 7.65847 5.78347C7.71708 5.72487 7.75 5.64538 7.75 5.5625V0.5625C7.75 0.47962 7.71708 0.400134 7.65847 0.341529C7.59987 0.282924 7.52038 0.25 7.4375 0.25ZM5.25 7.125H0.875V2.75H5.25V7.125ZM7.125 5.25H5.875V2.4375C5.875 2.35462 5.84208 2.27513 5.78347 2.21653C5.72487 2.15792 5.64538 2.125 5.5625 2.125H2.75V0.875H7.125V5.25Z' fill='#464158'/></svg>\";\n",
       "\n",
       "                                                    clipboard_div.appendChild(clipboard_img);\n",
       "                                                    div.appendChild(clipboard_div);\n",
       "                                                }\n",
       "                                            } else{\n",
       "                                                div.classList.add('grid-row','grid-std-cells');\n",
       "                                                if (item[attr] == null) {\n",
       "                                                    text = ' '\n",
       "                                                } else {\n",
       "                                                    text = String(item[attr])\n",
       "                                                }\n",
       "\n",
       "                                                text = text.replaceAll(\"\\n\", \"</br>\");\n",
       "                                                div.innerHTML = text;\n",
       "                                            }\n",
       "                                            grid.appendChild(div);\n",
       "                                        }\n",
       "                                    table_indexecd97807dd1d4b3fb98ae859163ffb8c = table_indexecd97807dd1d4b3fb98ae859163ffb8c + 1;\n",
       "                                    })\n",
       "                                }\n",
       "                    }\n",
       "                    paginatedElementsecd97807dd1d4b3fb98ae859163ffb8c = paginateecd97807dd1d4b3fb98ae859163ffb8c(elementecd97807dd1d4b3fb98ae859163ffb8c, page_sizeecd97807dd1d4b3fb98ae859163ffb8c)\n",
       "                    buildGridecd97807dd1d4b3fb98ae859163ffb8c(paginatedElementsecd97807dd1d4b3fb98ae859163ffb8c, 1)\n",
       "                    document.getElementById('totalecd97807dd1d4b3fb98ae859163ffb8c').innerText = \"Total: \" + elementecd97807dd1d4b3fb98ae859163ffb8c.length\n",
       "                </script>\n",
       "            </div>\n",
       "            <div id='pagecd97807dd1d4b3fb98ae859163ffb8c' class='paginationContainer'>\n",
       "                <script>\n",
       "                    function buildPaginationContainerecd97807dd1d4b3fb98ae859163ffb8c(paginatedElements){\n",
       "                            let pageContainer = document.getElementById(\"pagecd97807dd1d4b3fb98ae859163ffb8c\");\n",
       "                            for (let i = 0; i < paginatedElements.length; i++) {\n",
       "                                  let div = document.createElement(\"div\");\n",
       "                                  div.classList.add('page');\n",
       "                                  if(i===0) div.style.color = \"gray\";\n",
       "                                  else div.style.color = 'var(--tertiary-color, \"gray\")';\n",
       "                                  div.onclick = function(event) {\n",
       "                                      let indexes = document.getElementsByClassName('page');\n",
       "                                      for (let index of indexes) { index.style.color = 'var(--tertiary-color, \"gray\")' }\n",
       "                                      event.target.style.color = \"gray\";\n",
       "                                      setPageecd97807dd1d4b3fb98ae859163ffb8c(i + 1);\n",
       "                                  };\n",
       "                                  div.innerText = i + 1;\n",
       "                                  pageContainer.appendChild(div);\n",
       "                            }\n",
       "                    }\n",
       "\n",
       "                    function setPageecd97807dd1d4b3fb98ae859163ffb8c(newPage){\n",
       "                        pageIndex = newPage\n",
       "                        resetByIdecd97807dd1d4b3fb98ae859163ffb8c('tableecd97807dd1d4b3fb98ae859163ffb8c')\n",
       "                        buildGridecd97807dd1d4b3fb98ae859163ffb8c(paginatedElementsecd97807dd1d4b3fb98ae859163ffb8c, pageIndex)\n",
       "                    }\n",
       "\n",
       "                    buildPaginationContainerecd97807dd1d4b3fb98ae859163ffb8c(paginatedElementsecd97807dd1d4b3fb98ae859163ffb8c)\n",
       "                </script>\n",
       "            </div>\n",
       "        </div>\n"
      ],
      "text/plain": [
       "[StoragePermission: 0093b468a7544409b7107889220b491e on 8a1c04544655402190588aec30079bc3,\n",
       " StoragePermission: e347418318684acbbcb722210032035a on 8a1c04544655402190588aec30079bc3,\n",
       " StoragePermission: 244b024ae4db4f1d93b735f3514aa010 on 8a1c04544655402190588aec30079bc3,\n",
       " StoragePermission: 76ba5685a62246fea46c5ee2b719ad69 on 8a1c04544655402190588aec30079bc3,\n",
       " StoragePermission: 7ee8c878132e467ea380a82cdaa7be9d on 8a1c04544655402190588aec30079bc3,\n",
       " StoragePermission: 2d6f5aaecc7a4f46b19e378373bce6df on 8a1c04544655402190588aec30079bc3]"
      ]
     },
     "execution_count": 37,
     "metadata": {},
     "output_type": "execute_result"
    }
   ],
   "source": [
    "resolved_state_low.new_storage_permissions"
   ]
  },
  {
   "cell_type": "code",
   "execution_count": 38,
   "id": "0ec33bd2-674c-4c45-a679-8bf609d6a443",
   "metadata": {},
   "outputs": [
    {
     "name": "stdout",
     "output_type": "stream",
     "text": [
      "[syft.service.output.output_service.ExecutionOutput, syft.service.job.job_stash.Job, syft.service.log.log.SyftLog, Pointer:\n",
      "17.0]\n"
     ]
    }
   ],
   "source": [
    "print(resolved_state_low.create_objs)"
   ]
  },
  {
   "cell_type": "code",
   "execution_count": 39,
   "id": "e501f238",
   "metadata": {},
   "outputs": [
    {
     "name": "stdout",
     "output_type": "stream",
     "text": [
      "ResolvedSyncState(\n",
      "  create_objs=[syft.service.output.output_service.ExecutionOutput, syft.service.job.job_stash.Job, syft.service.log.log.SyftLog, Pointer:\n",
      "17.0],\n",
      "  update_objs=[{NodeIdentity <name=test_h, id=8212e679, 🔑=d311a667>: (<UserCodeStatus.APPROVED: 'approved'>, '')}, syft.service.request.request.Request],\n",
      "  delete_objs=[]\n",
      "  new_permissions=[[READ: 76ba5685a62246fea46c5ee2b719ad69 as d32c45790c5506af5471fc155b4ec5de993d56d908f4665f01ebb0c4f0df456d], [READ: 7ee8c878132e467ea380a82cdaa7be9d as d32c45790c5506af5471fc155b4ec5de993d56d908f4665f01ebb0c4f0df456d], [READ: 2d6f5aaecc7a4f46b19e378373bce6df as d32c45790c5506af5471fc155b4ec5de993d56d908f4665f01ebb0c4f0df456d]]\n",
      ")\n",
      "\n",
      "ResolvedSyncState(\n",
      "  create_objs=[],\n",
      "  update_objs=[],\n",
      "  delete_objs=[]\n",
      "  new_permissions=[]\n",
      ")\n"
     ]
    }
   ],
   "source": [
    "print(resolved_state_low)\n",
    "print()\n",
    "print(resolved_state_high)"
   ]
  },
  {
   "cell_type": "code",
   "execution_count": 40,
   "id": "424f5246-3013-4a23-aaa2-586d0ce9c5ea",
   "metadata": {},
   "outputs": [
    {
     "data": {
      "text/plain": [
       "{<UID: e347418318684acbbcb722210032035a>: {<UID: 8212e6797fde4c3fba4fc53ab555a886>}}"
      ]
     },
     "execution_count": 40,
     "metadata": {},
     "output_type": "execute_result"
    }
   ],
   "source": [
    "node_high.python_node.get_service(\"requestservice\").stash.partition.storage_permissions"
   ]
  },
  {
   "cell_type": "code",
   "execution_count": 41,
   "id": "421a7088-5efe-4a99-b98d-7bac3ea92054",
   "metadata": {},
   "outputs": [
    {
     "name": "stdout",
     "output_type": "stream",
     "text": [
      "e347418318684acbbcb722210032035a syft.service.request.request.Request , {<UID: 8212e6797fde4c3fba4fc53ab555a886>}\n",
      "3622f0ed39264a11a22166f377401f61 syft.service.code.user_code.UserCode , {<UID: 8212e6797fde4c3fba4fc53ab555a886>}\n",
      "76ba5685a62246fea46c5ee2b719ad69 syft.service.job.job_stash.Job , {<UID: 8212e6797fde4c3fba4fc53ab555a886>}\n",
      "7ee8c878132e467ea380a82cdaa7be9d syft.service.log.log.SyftLog , {<UID: 8212e6797fde4c3fba4fc53ab555a886>}\n",
      "244b024ae4db4f1d93b735f3514aa010 syft.service.output.output_service.ExecutionOutput , {<UID: 8212e6797fde4c3fba4fc53ab555a886>}\n",
      "0093b468a7544409b7107889220b491e {NodeIdentity <name=test_h, id=8212e679, 🔑=d311a667>: (<UserCodeStatus.APPROVED: 'approved'>, '')} , {<UID: 8212e6797fde4c3fba4fc53ab555a886>}\n",
      "2d6f5aaecc7a4f46b19e378373bce6df 17.0 , {<UID: 8212e6797fde4c3fba4fc53ab555a886>}\n"
     ]
    }
   ],
   "source": [
    "for k, v in high_state.storage_permissions.items():\n",
    "    print(k, high_state.objects[k], \",\", v)"
   ]
  },
  {
   "cell_type": "code",
   "execution_count": 42,
   "id": "19cfe680-4bd2-4d41-b2f4-96cd619f21aa",
   "metadata": {},
   "outputs": [
    {
     "name": "stdout",
     "output_type": "stream",
     "text": [
      "e347418318684acbbcb722210032035a\n",
      "8212e6797fde4c3fba4fc53ab555a886 8a1c04544655402190588aec30079bc3 {<UID: 8212e6797fde4c3fba4fc53ab555a886>}\n"
     ]
    }
   ],
   "source": [
    "diff = diff_state_2.diffs[2]\n",
    "print(diff.object_uid)\n",
    "print(diff.high_node_uid, diff.low_node_uid, diff.high_storage_permissions)"
   ]
  },
  {
   "cell_type": "code",
   "execution_count": 43,
   "id": "771e9cce-fb9c-4207-acc1-a384fd763ecc",
   "metadata": {},
   "outputs": [
    {
     "data": {
      "text/plain": [
       "False"
      ]
     },
     "execution_count": 43,
     "metadata": {},
     "output_type": "execute_result"
    }
   ],
   "source": [
    "diff_state_2.diffs[2].is_mock(\"high\")"
   ]
  },
  {
   "cell_type": "code",
   "execution_count": 44,
   "id": "c3f8847c",
   "metadata": {},
   "outputs": [
    {
     "name": "stderr",
     "output_type": "stream",
     "text": [
      "/Users/eelco/dev/PySyft/packages/syft/src/syft/types/syft_object.py:599: TypeHintWarning: Skipping type check against 'ServiceRole'; this looks like a string-form forward reference imported from another module\n",
      "  check_type(value, var_annotation)\n"
     ]
    },
    {
     "data": {
      "text/html": [
       "<div class=\"alert-success\" style=\"padding:5px;\"><strong>SyftSuccess</strong>: Synced 6 items</div><br />"
      ],
      "text/plain": [
       "SyftSuccess: Synced 6 items"
      ]
     },
     "execution_count": 44,
     "metadata": {},
     "output_type": "execute_result"
    }
   ],
   "source": [
    "res = client_low.apply_state(resolved_state_low)\n",
    "res"
   ]
  },
  {
   "cell_type": "code",
   "execution_count": 45,
   "id": "73ee02a5",
   "metadata": {},
   "outputs": [
    {
     "data": {
      "text/html": [
       "<div class=\"alert-success\" style=\"padding:5px;\"><strong>SyftSuccess</strong>: Synced 0 items</div><br />"
      ],
      "text/plain": [
       "SyftSuccess: Synced 0 items"
      ]
     },
     "execution_count": 45,
     "metadata": {},
     "output_type": "execute_result"
    }
   ],
   "source": [
    "client_high.apply_state(resolved_state_high)"
   ]
  },
  {
   "cell_type": "code",
   "execution_count": 46,
   "id": "b6e315b7",
   "metadata": {},
   "outputs": [],
   "source": [
    "action_store_low = node_low.python_node.get_service(\"actionservice\").store\n",
    "blob_store_low = node_low.python_node.get_service(\"blobstorageservice\").stash.partition\n",
    "assert (\n",
    "    f\"{client_low_ds.verify_key}_READ\"\n",
    "    in action_store_low.permissions[job_high.result.id.id]\n",
    ")\n",
    "assert (\n",
    "    f\"{client_low_ds.verify_key}_READ\"\n",
    "    in blob_store_low.permissions[job_high.result.syft_blob_storage_entry_id]\n",
    ")"
   ]
  },
  {
   "cell_type": "code",
   "execution_count": 47,
   "id": "92578f8f-ed04-47b1-99f9-995eacb85822",
   "metadata": {},
   "outputs": [],
   "source": [
    "result_storage_permissions = node_low.python_node.get_service(\n",
    "    \"actionservice\"\n",
    ").store.storage_permissions[job_high.result.id.id]\n",
    "assert len(result_storage_permissions) == 1\n",
    "\n",
    "log_storage_permissions = node_low.python_node.get_service(\n",
    "    \"logservice\"\n",
    ").stash.partition.storage_permissions[job_high.log_id]\n",
    "assert len(log_storage_permissions) == 1"
   ]
  },
  {
   "cell_type": "markdown",
   "id": "04dd5d24",
   "metadata": {},
   "source": [
    "# Run code low"
   ]
  },
  {
   "cell_type": "markdown",
   "id": "39d641a5",
   "metadata": {},
   "source": [
    "## Run"
   ]
  },
  {
   "cell_type": "code",
   "execution_count": 54,
   "id": "11731a54",
   "metadata": {},
   "outputs": [
    {
     "name": "stderr",
     "output_type": "stream",
     "text": [
      "/Users/eelco/dev/PySyft/packages/syft/src/syft/types/syft_object.py:599: TypeHintWarning: Skipping type check against 'ServiceRole'; this looks like a string-form forward reference imported from another module\n",
      "  check_type(value, var_annotation)\n"
     ]
    }
   ],
   "source": [
    "client_low_ds._fetch_api(client_low.credentials)"
   ]
  },
  {
   "cell_type": "code",
   "execution_count": 55,
   "id": "252999ec",
   "metadata": {},
   "outputs": [
    {
     "data": {
      "text/markdown": [
       "```python\n",
       "Pointer\n",
       "```\n",
       "17.0"
      ],
      "text/plain": [
       "Pointer:\n",
       "17.0"
      ]
     },
     "execution_count": 55,
     "metadata": {},
     "output_type": "execute_result"
    }
   ],
   "source": [
    "res_low = client_low_ds.code.compute_mean(data=data_low)\n",
    "\n",
    "res_low"
   ]
  },
  {
   "cell_type": "code",
   "execution_count": 56,
   "id": "55506ec9-e05e-48a3-9370-270d6bec4183",
   "metadata": {},
   "outputs": [
    {
     "data": {
      "text/plain": [
       "True"
      ]
     },
     "execution_count": 56,
     "metadata": {},
     "output_type": "execute_result"
    }
   ],
   "source": [
    "res_low.id == job_high.result.id"
   ]
  },
  {
   "cell_type": "code",
   "execution_count": 57,
   "id": "ffe97957",
   "metadata": {},
   "outputs": [],
   "source": [
    "code = client_low_ds.code[0]\n",
    "\n",
    "assert res_low.get() == private_high.mean()\n",
    "assert (\n",
    "    res_low.id.id\n",
    "    == job_high.result.id.id\n",
    "    == code.output_history[-1].output_ids[0].id.id\n",
    ")\n",
    "assert job_high.result.syft_blob_storage_entry_id == res_low.syft_blob_storage_entry_id"
   ]
  },
  {
   "cell_type": "code",
   "execution_count": 58,
   "id": "7e971eea",
   "metadata": {},
   "outputs": [
    {
     "data": {
      "text/markdown": [
       "```python\n",
       "Pointer\n",
       "```\n",
       "17.0"
      ],
      "text/plain": [
       "Pointer:\n",
       "17.0"
      ]
     },
     "execution_count": 58,
     "metadata": {},
     "output_type": "execute_result"
    }
   ],
   "source": [
    "res_low = client_low_ds.code.compute_mean(data=data_low)\n",
    "\n",
    "res_low"
   ]
  },
  {
   "cell_type": "code",
   "execution_count": 59,
   "id": "fece2d44",
   "metadata": {},
   "outputs": [],
   "source": [
    "code = client_low_ds.code[0]\n",
    "\n",
    "assert res_low.get() == private_high.mean()\n",
    "assert (\n",
    "    res_low.id.id\n",
    "    == job_high.result.id.id\n",
    "    == code.output_history[-1].output_ids[0].id.id\n",
    ")\n",
    "assert job_high.result.syft_blob_storage_entry_id == res_low.syft_blob_storage_entry_id"
   ]
  },
  {
   "cell_type": "code",
   "execution_count": 60,
   "id": "8a2e2b0d",
   "metadata": {},
   "outputs": [
    {
     "data": {
      "text/plain": [
       "17.0"
      ]
     },
     "execution_count": 60,
     "metadata": {},
     "output_type": "execute_result"
    }
   ],
   "source": [
    "private_high.mean()"
   ]
  },
  {
   "cell_type": "code",
   "execution_count": 61,
   "id": "aa774a56",
   "metadata": {},
   "outputs": [
    {
     "data": {
      "text/html": [
       "<div class=\"alert-warning\" style=\"padding:5px;\"><strong>SyftWarning</strong>: There are existing jobs for this user code, returning the latest one</div><br />"
      ],
      "text/plain": [
       "SyftWarning: There are existing jobs for this user code, returning the latest one"
      ]
     },
     "metadata": {},
     "output_type": "display_data"
    },
    {
     "data": {
      "text/markdown": [
       "```python\n",
       "class Job:\n",
       "    id: UID = 76ba5685a62246fea46c5ee2b719ad69\n",
       "    status: completed\n",
       "    has_parent: False\n",
       "    result: ActionDataEmpty <<class 'numpy.number'>>\n",
       "    logs:\n",
       "\n",
       "0 Log 7ee8c878132e467ea380a82cdaa7be9d not available\n",
       "JOB COMPLETED\n",
       "    \n",
       "```"
      ],
      "text/plain": [
       "syft.service.job.job_stash.Job"
      ]
     },
     "execution_count": 61,
     "metadata": {},
     "output_type": "execute_result"
    }
   ],
   "source": [
    "job_low = client_low_ds.code.compute_mean(data=data_low, blocking=False)\n",
    "job_low"
   ]
  },
  {
   "cell_type": "code",
   "execution_count": 62,
   "id": "8da1b271",
   "metadata": {},
   "outputs": [
    {
     "data": {
      "text/plain": [
       "17.0"
      ]
     },
     "execution_count": 62,
     "metadata": {},
     "output_type": "execute_result"
    }
   ],
   "source": [
    "job_low.wait().get()"
   ]
  },
  {
   "cell_type": "code",
   "execution_count": 63,
   "id": "f43f93c6-f750-4ba5-9da7-325946d92b9b",
   "metadata": {},
   "outputs": [
    {
     "name": "stdout",
     "output_type": "stream",
     "text": [
      "Log 7ee8c878132e467ea380a82cdaa7be9d not available\n"
     ]
    }
   ],
   "source": [
    "job_low.logs()"
   ]
  },
  {
   "cell_type": "code",
   "execution_count": 64,
   "id": "386c54bc-eead-440f-89c6-cd21c25b57d2",
   "metadata": {},
   "outputs": [
    {
     "data": {
      "text/plain": [
       "<LineageID: 2d6f5aaecc7a4f46b19e378373bce6df - 2096721368720564511>"
      ]
     },
     "execution_count": 64,
     "metadata": {},
     "output_type": "execute_result"
    }
   ],
   "source": [
    "job_high.result.id"
   ]
  },
  {
   "cell_type": "code",
   "execution_count": 65,
   "id": "c9be3456-3240-4795-a958-8885653a1a05",
   "metadata": {},
   "outputs": [
    {
     "data": {
      "text/plain": [
       "<LineageID: 2d6f5aaecc7a4f46b19e378373bce6df - 2096721368720564511>"
      ]
     },
     "execution_count": 65,
     "metadata": {},
     "output_type": "execute_result"
    }
   ],
   "source": [
    "job_high.result.as_empty().id"
   ]
  },
  {
   "cell_type": "code",
   "execution_count": 66,
   "id": "1b7d46f8",
   "metadata": {},
   "outputs": [],
   "source": [
    "assert job_low.id == job_high.id\n",
    "assert job_low.result.id == job_high.result.id\n",
    "assert (\n",
    "    job_low.result.syft_blob_storage_entry_id\n",
    "    == job_high.result.syft_blob_storage_entry_id\n",
    ")"
   ]
  },
  {
   "cell_type": "code",
   "execution_count": 67,
   "id": "cf157410-6c19-40fd-a356-b3836f667019",
   "metadata": {},
   "outputs": [
    {
     "data": {
      "text/plain": [
       "<LineageID: 2d6f5aaecc7a4f46b19e378373bce6df - 2096721368720564511>"
      ]
     },
     "execution_count": 67,
     "metadata": {},
     "output_type": "execute_result"
    }
   ],
   "source": [
    "job_high.result.id"
   ]
  },
  {
   "cell_type": "code",
   "execution_count": 68,
   "id": "5ef950d7-b1b0-4387-b3f8-ed5f825eef7f",
   "metadata": {},
   "outputs": [
    {
     "data": {
      "text/plain": [
       "<LineageID: 2d6f5aaecc7a4f46b19e378373bce6df - 2096721368720564511>"
      ]
     },
     "execution_count": 68,
     "metadata": {},
     "output_type": "execute_result"
    }
   ],
   "source": [
    "job_low.result.id"
   ]
  },
  {
   "cell_type": "code",
   "execution_count": 69,
   "id": "7fb30954-eeae-4364-9889-0b68e1e847cb",
   "metadata": {},
   "outputs": [
    {
     "data": {
      "text/markdown": [
       "```python\n",
       "class Job:\n",
       "    id: UID = 76ba5685a62246fea46c5ee2b719ad69\n",
       "    status: completed\n",
       "    has_parent: False\n",
       "    result: 17.0\n",
       "    logs:\n",
       "\n",
       "0 Computing mean...\n",
       "JOB COMPLETED\n",
       "    \n",
       "```"
      ],
      "text/plain": [
       "syft.service.job.job_stash.Job"
      ]
     },
     "execution_count": 69,
     "metadata": {},
     "output_type": "execute_result"
    }
   ],
   "source": [
    "job_high"
   ]
  },
  {
   "cell_type": "code",
   "execution_count": null,
   "id": "9f819d18-dd74-4abb-9406-a67b07bd087d",
   "metadata": {},
   "outputs": [],
   "source": []
  }
 ],
 "metadata": {
  "kernelspec": {
   "display_name": "Python 3 (ipykernel)",
   "language": "python",
   "name": "python3"
  },
  "language_info": {
   "codemirror_mode": {
    "name": "ipython",
    "version": 3
   },
   "file_extension": ".py",
   "mimetype": "text/x-python",
   "name": "python",
   "nbconvert_exporter": "python",
   "pygments_lexer": "ipython3",
   "version": "3.10.13"
  },
  "toc": {
   "base_numbering": 1,
   "nav_menu": {},
   "number_sections": true,
   "sideBar": true,
   "skip_h1_title": false,
   "title_cell": "Table of Contents",
   "title_sidebar": "Contents",
   "toc_cell": false,
   "toc_position": {},
   "toc_section_display": true,
   "toc_window_display": true
  }
 },
 "nbformat": 4,
 "nbformat_minor": 5
}
