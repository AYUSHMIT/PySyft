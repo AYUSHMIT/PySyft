{
 "cells": [
  {
   "cell_type": "code",
   "execution_count": 1,
   "id": "60b08c04",
   "metadata": {},
   "outputs": [
    {
     "name": "stderr",
     "output_type": "stream",
     "text": [
      "kj/filesystem-disk-unix.c++:1703: warning: PWD environment variable doesn't match current directory; pwd = /Users/koen/workspace/pysyft\n"
     ]
    }
   ],
   "source": [
    "# syft absolute\n",
    "import syft as sy\n",
    "from syft.types.syft_object import SyftObject\n",
    "from syft import ActionObject\n",
    "# syft absolute\n",
    "from syft.service.user.user import UserCreate\n",
    "from syft.node.credentials import SyftVerifyKey\n",
    "from syft.service.action.action_permissions import ActionPermission, ActionObjectPermission"
   ]
  },
  {
   "cell_type": "code",
   "execution_count": 2,
   "id": "d1db0f4f",
   "metadata": {},
   "outputs": [
    {
     "name": "stdout",
     "output_type": "stream",
     "text": [
      "Staging Protocol Changes...\n",
      "SQLite Store Path:\n",
      "!open file:///var/folders/q1/ryq93kwj055dlbpngxv1c7z40000gn/T/8a1c04544655402190588aec30079bc3.sqlite\n",
      "\n",
      "Creating default worker image with tag='local-dev'\n",
      "Building default worker image with tag=local-dev\n",
      "Setting up worker poolname=default-pool workers=1 image_uid=2050ad12e6e34c4b8ac36353c84c5a0e in_memory=True\n",
      "Created default worker pool.\n",
      "Data Migrated to latest version !!!\n",
      "Staging Protocol Changes...\n",
      "SQLite Store Path:\n",
      "!open file:///var/folders/q1/ryq93kwj055dlbpngxv1c7z40000gn/T/8212e6797fde4c3fba4fc53ab555a886.sqlite\n",
      "\n",
      "Creating default worker image with tag='local-dev'\n",
      "Building default worker image with tag=local-dev\n",
      "Setting up worker poolname=default-pool workers=1 image_uid=0b8fd419b30a4e499a6e4ec8813a8fb6 in_memory=True\n",
      "Created default worker pool.\n",
      "Data Migrated to latest version !!!\n"
     ]
    }
   ],
   "source": [
    "node_low = sy.orchestra.launch(\n",
    "    name=\"test_l\",\n",
    "    node_side_type=\"low\",\n",
    "    dev_mode=True,\n",
    "    reset=True,\n",
    "    local_db=True,\n",
    "    n_consumers=1,\n",
    "    create_producer=True,\n",
    ")\n",
    "node_high = sy.orchestra.launch(\n",
    "    name=\"test_h\",\n",
    "    node_side_type=\"high\",\n",
    "    dev_mode=True,\n",
    "    reset=True,\n",
    "    local_db=True,\n",
    "    n_consumers=1,\n",
    "    create_producer=True,\n",
    ")"
   ]
  },
  {
   "cell_type": "code",
   "execution_count": 3,
   "id": "c01949ef",
   "metadata": {},
   "outputs": [
    {
     "name": "stdout",
     "output_type": "stream",
     "text": [
      "Logged into <test_l: Low side Domain> as <info@openmined.org>\n"
     ]
    },
    {
     "data": {
      "text/html": [
       "<div class=\"alert-warning\" style=\"padding:5px;\"><strong>SyftWarning</strong>: You are using a default password. Please change the password using `[your_client].me.set_password([new_password])`.</div><br />"
      ],
      "text/plain": [
       "SyftWarning: You are using a default password. Please change the password using `[your_client].me.set_password([new_password])`."
      ]
     },
     "metadata": {},
     "output_type": "display_data"
    },
    {
     "name": "stdout",
     "output_type": "stream",
     "text": [
      "Logged into <test_h: High side Domain> as <info@openmined.org>\n"
     ]
    },
    {
     "data": {
      "text/html": [
       "<div class=\"alert-warning\" style=\"padding:5px;\"><strong>SyftWarning</strong>: You are using a default password. Please change the password using `[your_client].me.set_password([new_password])`.</div><br />"
      ],
      "text/plain": [
       "SyftWarning: You are using a default password. Please change the password using `[your_client].me.set_password([new_password])`."
      ]
     },
     "metadata": {},
     "output_type": "display_data"
    }
   ],
   "source": [
    "client_low = node_low.login(email=\"info@openmined.org\", password=\"changethis\")\n",
    "client_high = node_high.login(email=\"info@openmined.org\", password=\"changethis\")"
   ]
  },
  {
   "cell_type": "code",
   "execution_count": 4,
   "id": "ccc95549",
   "metadata": {},
   "outputs": [
    {
     "name": "stdout",
     "output_type": "stream",
     "text": [
      "Logged into <test_l: Low side Domain> as <newuser@openmined.org>\n"
     ]
    }
   ],
   "source": [
    "client_low.register(email=\"newuser@openmined.org\", name=\"John Doe\", password=\"pw\", password_verify=\"pw\")\n",
    "client_low_ds = node_low.login(email=\"newuser@openmined.org\", password=\"pw\")"
   ]
  },
  {
   "cell_type": "markdown",
   "id": "529aefcd",
   "metadata": {},
   "source": [
    "# create datasets"
   ]
  },
  {
   "cell_type": "code",
   "execution_count": 5,
   "id": "a124f870",
   "metadata": {},
   "outputs": [],
   "source": [
    "# third party\n",
    "import numpy as np"
   ]
  },
  {
   "cell_type": "code",
   "execution_count": 6,
   "id": "c21f2993",
   "metadata": {},
   "outputs": [
    {
     "name": "stderr",
     "output_type": "stream",
     "text": [
      "\r",
      "  0%|                                                                                                                 | 0/1 [00:00<?, ?it/s]"
     ]
    },
    {
     "name": "stdout",
     "output_type": "stream",
     "text": [
      "Uploading: numpy-data\n"
     ]
    },
    {
     "name": "stderr",
     "output_type": "stream",
     "text": [
      "100%|█████████████████████████████████████████████████████████████████████████████████████████████████████████| 1/1 [00:00<00:00,  3.93it/s]\n"
     ]
    },
    {
     "data": {
      "text/html": [
       "<div class=\"alert-success\" style=\"padding:5px;\"><strong>SyftSuccess</strong>: Dataset uploaded to 'test_h'. To see the datasets uploaded by a client on this node, use command `[your_client].datasets`</div><br />"
      ],
      "text/plain": [
       "SyftSuccess: Dataset uploaded to 'test_h'. To see the datasets uploaded by a client on this node, use command `[your_client].datasets`"
      ]
     },
     "execution_count": 6,
     "metadata": {},
     "output_type": "execute_result"
    }
   ],
   "source": [
    "mock_high = np.array([10, 11, 12, 13, 14])\n",
    "private_high = np.array([15, 16, 17, 18, 19])\n",
    "\n",
    "dataset_high = sy.Dataset(\n",
    "    name=\"my-dataset\",\n",
    "    description=\"abc\",\n",
    "    asset_list=[\n",
    "        sy.Asset(\n",
    "            name=\"numpy-data\",\n",
    "            mock=mock_high,\n",
    "            data=private_high,\n",
    "            shape=private_high.shape,\n",
    "            mock_is_real=True,\n",
    "        )\n",
    "    ],\n",
    ")\n",
    "\n",
    "client_high.upload_dataset(dataset_high)"
   ]
  },
  {
   "cell_type": "code",
   "execution_count": 7,
   "id": "9c3804a3",
   "metadata": {},
   "outputs": [
    {
     "name": "stderr",
     "output_type": "stream",
     "text": [
      "100%|█████████████████████████████████████████████████████████████████████████████████████████████████████████| 1/1 [00:00<00:00,  9.59it/s]\n"
     ]
    },
    {
     "name": "stdout",
     "output_type": "stream",
     "text": [
      "Uploading: numpy-data\n"
     ]
    }
   ],
   "source": [
    "mock_low = np.array([0, 1, 2, 3, 4])  # do_high.mock\n",
    "# private_low = np.array([5, 6, 7, 8, 9])  # AOEmpty? create new type AO\n",
    "\n",
    "dataset_low = sy.Dataset(\n",
    "    id=dataset_high.id,\n",
    "    name=\"my-dataset\",\n",
    "    description=\"abc\",\n",
    "    asset_list=[\n",
    "        sy.Asset(\n",
    "            name=\"numpy-data\",\n",
    "            mock=mock_low,\n",
    "            data=ActionObject.empty(data_node_id=client_high.id),\n",
    "            shape=mock_low.shape,\n",
    "            mock_is_real=True,\n",
    "        )\n",
    "    ],\n",
    ")\n",
    "\n",
    "res = client_low.upload_dataset(dataset_low)"
   ]
  },
  {
   "cell_type": "code",
   "execution_count": 8,
   "id": "571d12c2",
   "metadata": {},
   "outputs": [
    {
     "data": {
      "text/html": [
       "<div class=\"alert-success\" style=\"padding:5px;\"><strong>SyftSuccess</strong>: Syft function 'compute_mean' successfully created. To add a code request, please create a project using `project = syft.Project(...)`, then use command `project.create_code_request`.</div><br />"
      ],
      "text/plain": [
       "SyftSuccess: Syft function 'compute_mean' successfully created. To add a code request, please create a project using `project = syft.Project(...)`, then use command `project.create_code_request`."
      ]
     },
     "metadata": {},
     "output_type": "display_data"
    },
    {
     "name": "stdout",
     "output_type": "stream",
     "text": [
      "SyftInfo: Creating a node with n_consumers=2 (the default value)\n",
      "Staging Protocol Changes...\n",
      "SQLite Store Path:\n",
      "!open file:///var/folders/q1/ryq93kwj055dlbpngxv1c7z40000gn/T/ef573e02b13c4de8ab935d223b35c56b.sqlite\n",
      "\n",
      "Creating default worker image with tag='local-dev'\n",
      "Building default worker image with tag=local-dev\n",
      "Setting up worker poolname=default-pool workers=1 image_uid=36c199461b994117b984ece31b94ec62 in_memory=True\n",
      "Created default worker pool.\n",
      "Data Migrated to latest version !!!\n",
      "Logged into <ephemeral_node_compute_mean_756: High side Domain> as <info@openmined.org>\n"
     ]
    },
    {
     "data": {
      "text/html": [
       "<div class=\"alert-warning\" style=\"padding:5px;\"><strong>SyftWarning</strong>: You are using a default password. Please change the password using `[your_client].me.set_password([new_password])`.</div><br />"
      ],
      "text/plain": [
       "SyftWarning: You are using a default password. Please change the password using `[your_client].me.set_password([new_password])`."
      ]
     },
     "metadata": {},
     "output_type": "display_data"
    },
    {
     "name": "stdout",
     "output_type": "stream",
     "text": [
      "Approving request for domain ephemeral_node_compute_mean_756\n",
      "af1f75115c4245a78579a39f715ba9f5\n",
      "override True\n",
      "SyftInfo: Landing the ephmeral node...\n"
     ]
    },
    {
     "data": {
      "text/markdown": [
       "```python\n",
       "Pointer\n",
       "```\n",
       "2.0"
      ],
      "text/plain": [
       "Pointer:\n",
       "2.0"
      ]
     },
     "execution_count": 8,
     "metadata": {},
     "output_type": "execute_result"
    }
   ],
   "source": [
    "data_low = client_low_ds.datasets[0].assets[0]\n",
    "\n",
    "\n",
    "@sy.syft_function_single_use(data=data_low)\n",
    "def compute_mean(data) -> float:\n",
    "    return data.mean()\n",
    "\n",
    "\n",
    "compute_mean(data=data_low.mock)"
   ]
  },
  {
   "cell_type": "code",
   "execution_count": 9,
   "id": "654e55fd",
   "metadata": {},
   "outputs": [
    {
     "data": {
      "text/html": [
       "\n",
       "            <style>\n",
       "            .syft-request {color: #464158;}\n",
       "            </style>\n",
       "            <div class='syft-request'>\n",
       "                <h3>Request</h3>\n",
       "                <p><strong>Id: </strong>6d3ca94c2beb4f799073329bcdb0607c</p>\n",
       "                <p><strong>Request time: </strong>2024-02-16 12:01:07</p>\n",
       "                \n",
       "                \n",
       "                <p><strong>Status: </strong>RequestStatus.PENDING</p>\n",
       "                <p><strong>Requested on: </strong> Test_l of type <strong>                     Domain</strong></p>\n",
       "                <p><strong>Requested by:</strong> John Doe (newuser@openmined.org) </p>\n",
       "                <p><strong>Changes: </strong> Request to change <b>compute_mean</b> (Pool Id: <b>default-pool</b>) to permission <b>RequestStatus.APPROVED</b>. Nested Requests not resolved. </p>\n",
       "            </div>\n",
       "\n",
       "            "
      ],
      "text/markdown": [
       "```python\n",
       "class Request:\n",
       "  id: str = 6d3ca94c2beb4f799073329bcdb0607c\n",
       "  request_time: str = 2024-02-16 12:01:07\n",
       "  updated_at: str = None\n",
       "  status: str = RequestStatus.PENDING\n",
       "  changes: str = ['Request to change <b>compute_mean</b> (Pool Id: <b>default-pool</b>) to permission <b>RequestStatus.APPROVED</b>. Nested Requests not resolved']\n",
       "  requesting_user_verify_key: str = 9897b007f8c00ac78e0e435e3ca0be581a96b5b97e1ec425fdf73fd7e3e1bcd4\n",
       "\n",
       "```"
      ],
      "text/plain": [
       "syft.service.request.request.Request"
      ]
     },
     "execution_count": 9,
     "metadata": {},
     "output_type": "execute_result"
    }
   ],
   "source": [
    "client_low_ds.code.request_code_execution(compute_mean)"
   ]
  },
  {
   "cell_type": "code",
   "execution_count": 10,
   "id": "da371d97",
   "metadata": {},
   "outputs": [],
   "source": [
    "request = client_low.requests[0]"
   ]
  },
  {
   "cell_type": "code",
   "execution_count": 11,
   "id": "9fde6db3",
   "metadata": {},
   "outputs": [],
   "source": [
    "code = client_low.code[0]"
   ]
  },
  {
   "cell_type": "markdown",
   "id": "32dc877e",
   "metadata": {},
   "source": [
    "TEO HERE"
   ]
  },
  {
   "cell_type": "code",
   "execution_count": 12,
   "id": "1f2a1c45",
   "metadata": {},
   "outputs": [],
   "source": [
    "# request.changes"
   ]
  },
  {
   "cell_type": "code",
   "execution_count": 13,
   "id": "f6d657a2",
   "metadata": {},
   "outputs": [],
   "source": [
    "items_to_sync = [request, code]"
   ]
  },
  {
   "cell_type": "markdown",
   "id": "205f03b0",
   "metadata": {},
   "source": [
    "- What do we do with properties here?\n",
    "  - just set them to None"
   ]
  },
  {
   "cell_type": "code",
   "execution_count": 14,
   "id": "07b8608d",
   "metadata": {},
   "outputs": [],
   "source": [
    "def get_stash_for_item(item, node):\n",
    "    services = list(node.python_node.service_path_map.values())\n",
    "\n",
    "    all_stashes = dict()\n",
    "    for serv in services:\n",
    "        if (_stash := getattr(serv, \"stash\", None)) is not None:\n",
    "            all_stashes[_stash.object_type] = _stash\n",
    "\n",
    "    stash = all_stashes.get(type(item), None)\n",
    "    return stash"
   ]
  },
  {
   "cell_type": "code",
   "execution_count": 15,
   "id": "41df6531",
   "metadata": {},
   "outputs": [],
   "source": [
    "# job.node_uid"
   ]
  },
  {
   "cell_type": "code",
   "execution_count": 16,
   "id": "8d20c4b2",
   "metadata": {},
   "outputs": [
    {
     "data": {
      "text/plain": [
       "<UID: 8212e6797fde4c3fba4fc53ab555a886>"
      ]
     },
     "execution_count": 16,
     "metadata": {},
     "output_type": "execute_result"
    }
   ],
   "source": [
    "node_high.python_node.id"
   ]
  },
  {
   "cell_type": "code",
   "execution_count": 17,
   "id": "7891775a",
   "metadata": {},
   "outputs": [],
   "source": [
    "def set_obj_ids(x, node_uid, verify_key):\n",
    "    if hasattr(x, \"__dict__\") and isinstance(x, SyftObject):\n",
    "        for prop, val in x.__dict__.items():\n",
    "            if isinstance(val, (list, tuple)):\n",
    "                for v in val:\n",
    "                    set_obj_ids(v, node_uid, verify_key)\n",
    "            elif isinstance(val, dict):\n",
    "                for v in val.values():\n",
    "                    set_obj_ids(v, node_uid, verify_key)\n",
    "            else:\n",
    "                set_obj_ids(val, node_uid, verify_key)\n",
    "        x.syft_node_location=node_uid\n",
    "        x.syft_client_verify_key=verify_key\n",
    "        if hasattr(x, \"node_uid\"):\n",
    "            x.node_uid=node_uid\n",
    "                    \n",
    "                    \n",
    "    # TODO: hadnle nested collections\n",
    "            "
   ]
  },
  {
   "cell_type": "code",
   "execution_count": 18,
   "id": "cf9e41f3",
   "metadata": {},
   "outputs": [],
   "source": [
    "# add_permissions_for_actionobject(job_high.result, node_low, node_high)"
   ]
  },
  {
   "cell_type": "code",
   "execution_count": 19,
   "id": "1543f428",
   "metadata": {},
   "outputs": [],
   "source": [
    "def add_permissions_for_actionobject(obj, node_to, node_from):\n",
    "    _id = obj.id.id \n",
    "    all_permissions = node_from.python_node.get_service(\"actionservice\").store.permissions[_id]\n",
    "    read_permissions = [x for x in all_permissions if \"READ\" in x]\n",
    "\n",
    "    store_to = node_to.python_node.get_service(\"actionservice\").store\n",
    "    for read_permission in read_permissions:\n",
    "        creds, perm_str = read_permission.split(\"_\") \n",
    "        perm = ActionPermission[perm_str]\n",
    "        permission = ActionObjectPermission(uid=_id, permission=perm, credentials=SyftVerifyKey(creds))\n",
    "        res = store_to.add_permission(permission)\n",
    "        print(\"Created permission\", res)"
   ]
  },
  {
   "cell_type": "code",
   "execution_count": 20,
   "id": "48e73a5c",
   "metadata": {},
   "outputs": [],
   "source": [
    "def create_actionobject(action_object, client, node_to, node_from):\n",
    "    action_object = action_object.refresh_object()\n",
    "    res = client.api.services.action.set(action_object)\n",
    "    print(\"Created\", res)\n",
    "\n",
    "    if node_to.python_node.node_side_type.value == \"low\":\n",
    "        add_permissions_for_actionobject(action_object, node_to, node_from)\n",
    "    \n"
   ]
  },
  {
   "cell_type": "markdown",
   "id": "0f1d99e4",
   "metadata": {},
   "source": [
    "TODOS\n",
    "- define datasets to point to high side\n",
    "- define usercodestatus such that it points to high side\n",
    "- we need to update the local request object once we call .approve(), because otherwise you will sync something old (without approval)\n",
    "- admin execution on the high side does not fill the cache, so it will break low side execution becaeuse there is nothing in the cache. Unless you do accept_by_depositing_result\n",
    "- if you dont do accept_by_depositing_result with an actionobject, but with a python object\n",
    "- we have a logic in accept_by_depositing_result that if you pass in an actionobject, while you ran a job (and you are also syncing the job), the job wont be made available on the low side because it lacks permissions"
   ]
  },
  {
   "cell_type": "code",
   "execution_count": 21,
   "id": "859e8b3d",
   "metadata": {},
   "outputs": [],
   "source": [
    "from syft.client.api import NodeIdentity\n",
    "from syft.service.code.user_code import UserCode"
   ]
  },
  {
   "cell_type": "code",
   "execution_count": 22,
   "id": "61d9f4cd",
   "metadata": {},
   "outputs": [],
   "source": [
    "def transform_item(item, node):\n",
    "    identity = NodeIdentity.from_node(node.python_node)\n",
    "    if isinstance(item, UserCode):\n",
    "        res = {}\n",
    "        for key, val in item.status.status_dict.items():\n",
    "            # todo, check if they are actually only two nodes\n",
    "            res[identity] = code.status.status_dict[key]\n",
    "        item.status.status_dict=res\n",
    "    return item"
   ]
  },
  {
   "cell_type": "code",
   "execution_count": 23,
   "id": "ac7dc878",
   "metadata": {},
   "outputs": [],
   "source": [
    "def sync_items(items, node_to, node_from, client):\n",
    "    for item in items_to_sync:\n",
    "        \n",
    "        if isinstance(item, ActionObject):\n",
    "            create_actionobject(item, client, node_to, node_from)\n",
    "\n",
    "        else:\n",
    "            item = transform_item(item, node_to)\n",
    "            stash = get_stash_for_item(item, node_to)\n",
    "            creds=client.verify_key\n",
    "\n",
    "            set_obj_ids(item, client.id, creds)\n",
    "            exists = stash.get_by_uid(creds, item.id).ok() is not None\n",
    "            if exists:\n",
    "                res = stash.update(creds, item)\n",
    "            else:\n",
    "#                 res = stash.delete_by_uid(node.python_node.verify_key, item.id)\n",
    "                res = stash.set(creds, item)\n",
    "            if not res.is_ok():\n",
    "                raise ValueError(\"\")\n",
    "            else:\n",
    "                print(\"created\", item)\n",
    "    client._fetch_api(client.credentials)"
   ]
  },
  {
   "cell_type": "code",
   "execution_count": 24,
   "id": "a4fc133f",
   "metadata": {},
   "outputs": [
    {
     "name": "stdout",
     "output_type": "stream",
     "text": [
      "created syft.service.request.request.Request\n",
      "created syft.service.code.user_code.UserCode\n"
     ]
    }
   ],
   "source": [
    "sync_items(items_to_sync, node_high, node_low, client_high)"
   ]
  },
  {
   "cell_type": "markdown",
   "id": "3f94e740",
   "metadata": {},
   "source": [
    "# Run code high and sync back result"
   ]
  },
  {
   "cell_type": "code",
   "execution_count": 25,
   "id": "779f3fa0",
   "metadata": {},
   "outputs": [],
   "source": [
    "data_high = client_high.datasets[0].assets[0]"
   ]
  },
  {
   "cell_type": "code",
   "execution_count": 26,
   "id": "e3fc5218",
   "metadata": {},
   "outputs": [
    {
     "name": "stdout",
     "output_type": "stream",
     "text": [
      "SyftInfo: Node Landed!\n"
     ]
    },
    {
     "data": {
      "text/markdown": [
       "```python\n",
       "class Job:\n",
       "    id: UID = 946c00bf9e75431899c40c067d0a2ca7\n",
       "    status: created\n",
       "    has_parent: False\n",
       "    result: syft.service.action.action_data_empty.ObjectNotReady\n",
       "    logs:\n",
       "\n",
       "0 \n",
       "    \n",
       "```"
      ],
      "text/plain": [
       "syft.service.job.job_stash.Job"
      ]
     },
     "metadata": {},
     "output_type": "display_data"
    }
   ],
   "source": [
    "job_high = client_high.code.compute_mean(data=data_high, blocking=False)\n",
    "display(job_high)"
   ]
  },
  {
   "cell_type": "code",
   "execution_count": 27,
   "id": "a4a37ccb",
   "metadata": {},
   "outputs": [
    {
     "name": "stdout",
     "output_type": "stream",
     "text": [
      "5b21980419734ec5a131ae5d7243dd15\n",
      "override True\n"
     ]
    },
    {
     "data": {
      "text/plain": [
       "17.0"
      ]
     },
     "execution_count": 27,
     "metadata": {},
     "output_type": "execute_result"
    }
   ],
   "source": [
    "# wait for the result\n",
    "job_high.wait().get()"
   ]
  },
  {
   "cell_type": "code",
   "execution_count": 28,
   "id": "dbe412df",
   "metadata": {},
   "outputs": [],
   "source": [
    "job_info = job_high.info(public_metadata=True, result=True)"
   ]
  },
  {
   "cell_type": "code",
   "execution_count": 29,
   "id": "5fc1d44f",
   "metadata": {},
   "outputs": [
    {
     "name": "stdout",
     "output_type": "stream",
     "text": [
      "result obj 64338b7848504dc393d5160d9dadf265\n",
      "Approving request for domain test_h\n",
      "Approving request for domain test_h\n",
      "ADDING PERMISSION [READ: ae8248c08fdf4a8c930c2c1bbcb9e178 as 9897b007f8c00ac78e0e435e3ca0be581a96b5b97e1ec425fdf73fd7e3e1bcd4] ae8248c08fdf4a8c930c2c1bbcb9e178\n",
      "returning existing job\n",
      "setting permission\n",
      "None\n",
      "None\n"
     ]
    }
   ],
   "source": [
    "request = client_high.requests[0]\n",
    "result_obj = job_high.result\n",
    "\n",
    "print(\"result obj\", result_obj.id)\n",
    "request.accept_by_depositing_result(job_info)\n",
    "\n",
    "# request.approve()\n",
    "# TODO: FIX THIS\n",
    "request = client_high.requests[0]\n",
    "code = request.code\n",
    "log = job_high._get_log_objs()"
   ]
  },
  {
   "cell_type": "code",
   "execution_count": 30,
   "id": "d1582151",
   "metadata": {},
   "outputs": [
    {
     "data": {
      "text/plain": [
       "9897b007f8c00ac78e0e435e3ca0be581a96b5b97e1ec425fdf73fd7e3e1bcd4"
      ]
     },
     "execution_count": 30,
     "metadata": {},
     "output_type": "execute_result"
    }
   ],
   "source": [
    "client_low_ds.verify_key"
   ]
  },
  {
   "cell_type": "code",
   "execution_count": 31,
   "id": "57347153",
   "metadata": {},
   "outputs": [
    {
     "data": {
      "text/html": [
       "{&#x27;d311a667006cbb56614a062b2bbc7a733b5a4a8edd5293e0f34bb5c75f51277d_OWNER&#x27;, &#x27;d311a667006cbb56614a062b2bbc7a733b5a4a8edd5293e0f34bb5c75f51277d_READ&#x27;, &#x27;d311a667006cbb56614a062b2bbc7a733b5a4a8edd5293e0f34bb5c75f51277d_EXECUTE&#x27;, &#x27;9897b007f8c00ac78e0e435e3ca0be581a96b5b97e1ec425fdf73fd7e3e1bcd4_READ&#x27;, &#x27;d311a667006cbb56614a062b2bbc7a733b5a4a8edd5293e0f34bb5c75f51277d_WRITE&#x27;}"
      ],
      "text/plain": [
       "{'9897b007f8c00ac78e0e435e3ca0be581a96b5b97e1ec425fdf73fd7e3e1bcd4_READ',\n",
       " 'd311a667006cbb56614a062b2bbc7a733b5a4a8edd5293e0f34bb5c75f51277d_EXECUTE',\n",
       " 'd311a667006cbb56614a062b2bbc7a733b5a4a8edd5293e0f34bb5c75f51277d_OWNER',\n",
       " 'd311a667006cbb56614a062b2bbc7a733b5a4a8edd5293e0f34bb5c75f51277d_READ',\n",
       " 'd311a667006cbb56614a062b2bbc7a733b5a4a8edd5293e0f34bb5c75f51277d_WRITE'}"
      ]
     },
     "execution_count": 31,
     "metadata": {},
     "output_type": "execute_result"
    }
   ],
   "source": [
    "list(node_high.python_node.get_service(\"jobservice\").stash.partition.permissions.values())[0]"
   ]
  },
  {
   "cell_type": "markdown",
   "id": "1a19ff34",
   "metadata": {},
   "source": [
    "## Sync back to low"
   ]
  },
  {
   "cell_type": "code",
   "execution_count": 32,
   "id": "9f61d5e2",
   "metadata": {},
   "outputs": [],
   "source": [
    "items_to_sync = [code, job_high.result, job_high, log]"
   ]
  },
  {
   "cell_type": "code",
   "execution_count": 33,
   "id": "dae151ff",
   "metadata": {},
   "outputs": [],
   "source": [
    "# res = client_low.api.services.action.set(job_high.result)\n"
   ]
  },
  {
   "cell_type": "code",
   "execution_count": 34,
   "id": "d52a3878",
   "metadata": {},
   "outputs": [],
   "source": [
    "# res"
   ]
  },
  {
   "cell_type": "code",
   "execution_count": 35,
   "id": "303059b3",
   "metadata": {},
   "outputs": [],
   "source": [
    "# type(res)"
   ]
  },
  {
   "cell_type": "code",
   "execution_count": 36,
   "id": "615290f5",
   "metadata": {},
   "outputs": [
    {
     "name": "stdout",
     "output_type": "stream",
     "text": [
      "created syft.service.code.user_code.UserCode\n",
      "Created 17.0\n",
      "Created permission None\n",
      "created syft.service.job.job_stash.Job\n",
      "created syft.service.log.log.SyftLog\n"
     ]
    }
   ],
   "source": [
    "sync_items(items_to_sync, node_low, node_high, client_low)"
   ]
  },
  {
   "cell_type": "markdown",
   "id": "04dd5d24",
   "metadata": {},
   "source": [
    "# Run code low"
   ]
  },
  {
   "cell_type": "markdown",
   "id": "0284d474",
   "metadata": {},
   "source": [
    "- if you are a low side node\n",
    "- and you are executing on an object that actually lives somewhere else\n",
    "- and you have no permissions normally to do this\n",
    "- and you are executing against something that has a filled cache (this means that this was filled by non mock execution"
   ]
  },
  {
   "cell_type": "code",
   "execution_count": 37,
   "id": "8ff6a0f6",
   "metadata": {},
   "outputs": [
    {
     "data": {
      "text/plain": [
       "9897b007f8c00ac78e0e435e3ca0be581a96b5b97e1ec425fdf73fd7e3e1bcd4"
      ]
     },
     "execution_count": 37,
     "metadata": {},
     "output_type": "execute_result"
    }
   ],
   "source": [
    "client_low_ds.verify_key"
   ]
  },
  {
   "cell_type": "code",
   "execution_count": 38,
   "id": "0d8726a4",
   "metadata": {},
   "outputs": [
    {
     "data": {
      "text/plain": [
       "<UID: 64338b7848504dc393d5160d9dadf265>"
      ]
     },
     "execution_count": 38,
     "metadata": {},
     "output_type": "execute_result"
    }
   ],
   "source": [
    "job_high.result.id.id"
   ]
  },
  {
   "cell_type": "code",
   "execution_count": 39,
   "id": "7b67b189",
   "metadata": {},
   "outputs": [
    {
     "data": {
      "text/html": [
       "{&#x27;d311a667006cbb56614a062b2bbc7a733b5a4a8edd5293e0f34bb5c75f51277d_OWNER&#x27;, &#x27;d311a667006cbb56614a062b2bbc7a733b5a4a8edd5293e0f34bb5c75f51277d_WRITE&#x27;, &#x27;d311a667006cbb56614a062b2bbc7a733b5a4a8edd5293e0f34bb5c75f51277d_READ&#x27;, &#x27;d311a667006cbb56614a062b2bbc7a733b5a4a8edd5293e0f34bb5c75f51277d_EXECUTE&#x27;}"
      ],
      "text/plain": [
       "{'d311a667006cbb56614a062b2bbc7a733b5a4a8edd5293e0f34bb5c75f51277d_EXECUTE',\n",
       " 'd311a667006cbb56614a062b2bbc7a733b5a4a8edd5293e0f34bb5c75f51277d_OWNER',\n",
       " 'd311a667006cbb56614a062b2bbc7a733b5a4a8edd5293e0f34bb5c75f51277d_READ',\n",
       " 'd311a667006cbb56614a062b2bbc7a733b5a4a8edd5293e0f34bb5c75f51277d_WRITE'}"
      ]
     },
     "execution_count": 39,
     "metadata": {},
     "output_type": "execute_result"
    }
   ],
   "source": [
    "node_high.python_node.get_service(\"actionservice\").store.permissions[job_high.result.id.id]"
   ]
  },
  {
   "cell_type": "code",
   "execution_count": 40,
   "id": "edfc6f61",
   "metadata": {},
   "outputs": [
    {
     "data": {
      "text/html": [
       "{&#x27;1c0590b894d19530970da6bf09bb302afa3e473a4cccdacbace0e20223ee3367_EXECUTE&#x27;, &#x27;1c0590b894d19530970da6bf09bb302afa3e473a4cccdacbace0e20223ee3367_OWNER&#x27;, &#x27;d311a667006cbb56614a062b2bbc7a733b5a4a8edd5293e0f34bb5c75f51277d_READ&#x27;, &#x27;1c0590b894d19530970da6bf09bb302afa3e473a4cccdacbace0e20223ee3367_READ&#x27;, &#x27;1c0590b894d19530970da6bf09bb302afa3e473a4cccdacbace0e20223ee3367_WRITE&#x27;}"
      ],
      "text/plain": [
       "{'1c0590b894d19530970da6bf09bb302afa3e473a4cccdacbace0e20223ee3367_EXECUTE',\n",
       " '1c0590b894d19530970da6bf09bb302afa3e473a4cccdacbace0e20223ee3367_OWNER',\n",
       " '1c0590b894d19530970da6bf09bb302afa3e473a4cccdacbace0e20223ee3367_READ',\n",
       " '1c0590b894d19530970da6bf09bb302afa3e473a4cccdacbace0e20223ee3367_WRITE',\n",
       " 'd311a667006cbb56614a062b2bbc7a733b5a4a8edd5293e0f34bb5c75f51277d_READ'}"
      ]
     },
     "execution_count": 40,
     "metadata": {},
     "output_type": "execute_result"
    }
   ],
   "source": [
    "node_low.python_node.get_service(\"actionservice\").store.permissions[job_high.result.id.id]"
   ]
  },
  {
   "cell_type": "code",
   "execution_count": 41,
   "id": "334e14c6",
   "metadata": {},
   "outputs": [],
   "source": [
    "# policy = list(node_low.python_node.get_service(\"usercodeservice\").stash.partition.data.values())[0].output_policy\n",
    "\n",
    "# # policy.valid"
   ]
  },
  {
   "cell_type": "code",
   "execution_count": 42,
   "id": "60d27ee9",
   "metadata": {},
   "outputs": [],
   "source": [
    "# policy.last_output_ids[0]"
   ]
  },
  {
   "cell_type": "code",
   "execution_count": 43,
   "id": "43edf851",
   "metadata": {},
   "outputs": [],
   "source": [
    "# policy.last_output_ids[0].id"
   ]
  },
  {
   "cell_type": "code",
   "execution_count": 44,
   "id": "fa6318bc",
   "metadata": {},
   "outputs": [],
   "source": [
    "# job_high.result.id"
   ]
  },
  {
   "cell_type": "code",
   "execution_count": 45,
   "id": "941279e2",
   "metadata": {},
   "outputs": [],
   "source": [
    "# code.output_policy.output_history"
   ]
  },
  {
   "cell_type": "markdown",
   "id": "39d641a5",
   "metadata": {},
   "source": [
    "## Run"
   ]
  },
  {
   "cell_type": "code",
   "execution_count": 46,
   "id": "252999ec",
   "metadata": {},
   "outputs": [
    {
     "name": "stdout",
     "output_type": "stream",
     "text": [
      "5b21980419734ec5a131ae5d7243dd15\n",
      "override False\n",
      "result Permission: [READ: ae8248c08fdf4a8c930c2c1bbcb9e178 as 9897b007f8c00ac78e0e435e3ca0be581a96b5b97e1ec425fdf73fd7e3e1bcd4] denied\n"
     ]
    }
   ],
   "source": [
    "res_low = client_low_ds.code.compute_mean(data=data_low)"
   ]
  },
  {
   "cell_type": "code",
   "execution_count": 47,
   "id": "c576610b",
   "metadata": {},
   "outputs": [],
   "source": [
    "req = client_low.requests[0]"
   ]
  },
  {
   "cell_type": "code",
   "execution_count": 49,
   "id": "8a3e889f",
   "metadata": {},
   "outputs": [
    {
     "data": {
      "text/html": [
       "<div class=\"alert-success\" style=\"padding:5px;\"><strong>SyftSuccess</strong>: Dataset uploaded to 'test_l'. To see the datasets uploaded by a client on this node, use command `[your_client].datasets`</div><br />"
      ],
      "text/plain": [
       "SyftSuccess: Dataset uploaded to 'test_l'. To see the datasets uploaded by a client on this node, use command `[your_client].datasets`"
      ]
     },
     "execution_count": 49,
     "metadata": {},
     "output_type": "execute_result"
    }
   ],
   "source": [
    "res"
   ]
  },
  {
   "cell_type": "code",
   "execution_count": 52,
   "id": "ef83ac42",
   "metadata": {},
   "outputs": [],
   "source": [
    "# res_low"
   ]
  },
  {
   "cell_type": "code",
   "execution_count": 50,
   "id": "c5d790e5",
   "metadata": {},
   "outputs": [
    {
     "ename": "AttributeError",
     "evalue": "'SyftError' object has no attribute 'get'",
     "output_type": "error",
     "traceback": [
      "\u001b[0;31m---------------------------------------------------------------------------\u001b[0m",
      "\u001b[0;31mAttributeError\u001b[0m                            Traceback (most recent call last)",
      "Cell \u001b[0;32mIn[50], line 1\u001b[0m\n\u001b[0;32m----> 1\u001b[0m \u001b[43mres_low\u001b[49m\u001b[38;5;241;43m.\u001b[39;49m\u001b[43mget\u001b[49m()\n",
      "\u001b[0;31mAttributeError\u001b[0m: 'SyftError' object has no attribute 'get'"
     ]
    }
   ],
   "source": [
    "res_low.get()"
   ]
  },
  {
   "cell_type": "code",
   "execution_count": null,
   "id": "46f5650d",
   "metadata": {},
   "outputs": [],
   "source": [
    "# print(res_low.message)"
   ]
  },
  {
   "cell_type": "code",
   "execution_count": 53,
   "id": "43358760",
   "metadata": {},
   "outputs": [
    {
     "data": {
      "text/plain": [
       "True"
      ]
     },
     "execution_count": 53,
     "metadata": {},
     "output_type": "execute_result"
    }
   ],
   "source": [
    "node_high.python_node.dev_mode"
   ]
  },
  {
   "cell_type": "code",
   "execution_count": 54,
   "id": "3cf5e51c",
   "metadata": {},
   "outputs": [],
   "source": [
    "# we need to sync the usercode itself\n"
   ]
  },
  {
   "cell_type": "code",
   "execution_count": 55,
   "id": "95506782",
   "metadata": {},
   "outputs": [],
   "source": [
    "# node_low.python_node.get_service(\"usercodeservice\").stash.partition.permissions"
   ]
  },
  {
   "cell_type": "code",
   "execution_count": 56,
   "id": "0c0789ce",
   "metadata": {},
   "outputs": [
    {
     "data": {
      "text/plain": [
       "9897b007f8c00ac78e0e435e3ca0be581a96b5b97e1ec425fdf73fd7e3e1bcd4"
      ]
     },
     "execution_count": 56,
     "metadata": {},
     "output_type": "execute_result"
    }
   ],
   "source": [
    "client_low_ds.verify_key"
   ]
  },
  {
   "cell_type": "code",
   "execution_count": 57,
   "id": "6df31879",
   "metadata": {},
   "outputs": [
    {
     "ename": "AttributeError",
     "evalue": "'SyftError' object has no attribute 'get'",
     "output_type": "error",
     "traceback": [
      "\u001b[0;31m---------------------------------------------------------------------------\u001b[0m",
      "\u001b[0;31mAttributeError\u001b[0m                            Traceback (most recent call last)",
      "Cell \u001b[0;32mIn[57], line 1\u001b[0m\n\u001b[0;32m----> 1\u001b[0m \u001b[43mres_low\u001b[49m\u001b[38;5;241;43m.\u001b[39;49m\u001b[43mget\u001b[49m()\n",
      "\u001b[0;31mAttributeError\u001b[0m: 'SyftError' object has no attribute 'get'"
     ]
    }
   ],
   "source": [
    "res_low.get()"
   ]
  },
  {
   "cell_type": "code",
   "execution_count": 58,
   "id": "7e971eea",
   "metadata": {},
   "outputs": [
    {
     "data": {
      "text/plain": [
       "17.0"
      ]
     },
     "execution_count": 58,
     "metadata": {},
     "output_type": "execute_result"
    }
   ],
   "source": [
    "private_high.mean()"
   ]
  },
  {
   "cell_type": "code",
   "execution_count": 59,
   "id": "9224488b",
   "metadata": {},
   "outputs": [],
   "source": [
    "code_id = list(node_low.python_node.get_service(\"usercodeservice\").stash.partition.data.values())[0].id"
   ]
  },
  {
   "cell_type": "code",
   "execution_count": 60,
   "id": "5bd9598a",
   "metadata": {},
   "outputs": [],
   "source": [
    "job = next(iter(node_low.python_node.get_service(\"jobservice\").stash.partition.data.values()))"
   ]
  },
  {
   "cell_type": "code",
   "execution_count": 61,
   "id": "bfe50df5",
   "metadata": {},
   "outputs": [
    {
     "data": {
      "text/plain": [
       "<UID: 946c00bf9e75431899c40c067d0a2ca7>"
      ]
     },
     "execution_count": 61,
     "metadata": {},
     "output_type": "execute_result"
    }
   ],
   "source": [
    "job.id"
   ]
  },
  {
   "cell_type": "code",
   "execution_count": 62,
   "id": "c76ad396",
   "metadata": {},
   "outputs": [
    {
     "data": {
      "text/plain": [
       "Ok(None)"
      ]
     },
     "execution_count": 62,
     "metadata": {},
     "output_type": "execute_result"
    }
   ],
   "source": [
    "node_low.python_node.get_service(\"jobservice\").stash.get_by_uid(client_low_ds.verify_key, job.id)"
   ]
  },
  {
   "cell_type": "code",
   "execution_count": 63,
   "id": "72f0394e",
   "metadata": {},
   "outputs": [
    {
     "data": {
      "text/plain": [
       "Ok([])"
      ]
     },
     "execution_count": 63,
     "metadata": {},
     "output_type": "execute_result"
    }
   ],
   "source": [
    "node_low.python_node.get_service(\"jobservice\").stash.get_by_user_code_id(client_low_ds.verify_key, code_id)"
   ]
  },
  {
   "cell_type": "code",
   "execution_count": 64,
   "id": "aa774a56",
   "metadata": {},
   "outputs": [
    {
     "name": "stdout",
     "output_type": "stream",
     "text": [
      "5b21980419734ec5a131ae5d7243dd15\n"
     ]
    }
   ],
   "source": [
    "job_low = client_low_ds.code.compute_mean(data=data_low, blocking=False)"
   ]
  },
  {
   "cell_type": "code",
   "execution_count": 65,
   "id": "22c34aaa",
   "metadata": {},
   "outputs": [
    {
     "data": {
      "text/html": [
       "<div class=\"alert-danger\" style=\"padding:5px;\"><strong>SyftError</strong>: Please wait for the admin to allow the execution of this code</div><br />"
      ],
      "text/plain": [
       "SyftError: Please wait for the admin to allow the execution of this code"
      ]
     },
     "execution_count": 65,
     "metadata": {},
     "output_type": "execute_result"
    }
   ],
   "source": [
    "job_low"
   ]
  },
  {
   "cell_type": "code",
   "execution_count": 66,
   "id": "8da1b271",
   "metadata": {},
   "outputs": [
    {
     "ename": "AttributeError",
     "evalue": "'SyftError' object has no attribute 'wait'",
     "output_type": "error",
     "traceback": [
      "\u001b[0;31m---------------------------------------------------------------------------\u001b[0m",
      "\u001b[0;31mAttributeError\u001b[0m                            Traceback (most recent call last)",
      "Cell \u001b[0;32mIn[66], line 1\u001b[0m\n\u001b[0;32m----> 1\u001b[0m \u001b[43mjob_low\u001b[49m\u001b[38;5;241;43m.\u001b[39;49m\u001b[43mwait\u001b[49m()\u001b[38;5;241m.\u001b[39mget()\n",
      "\u001b[0;31mAttributeError\u001b[0m: 'SyftError' object has no attribute 'wait'"
     ]
    }
   ],
   "source": [
    "job_low.wait().get()"
   ]
  },
  {
   "cell_type": "code",
   "execution_count": null,
   "id": "85360548",
   "metadata": {},
   "outputs": [],
   "source": []
  }
 ],
 "metadata": {
  "kernelspec": {
   "display_name": "Python 3 (ipykernel)",
   "language": "python",
   "name": "python3"
  },
  "language_info": {
   "codemirror_mode": {
    "name": "ipython",
    "version": 3
   },
   "file_extension": ".py",
   "mimetype": "text/x-python",
   "name": "python",
   "nbconvert_exporter": "python",
   "pygments_lexer": "ipython3",
   "version": "3.9.16"
  },
  "toc": {
   "base_numbering": 1,
   "nav_menu": {},
   "number_sections": true,
   "sideBar": true,
   "skip_h1_title": false,
   "title_cell": "Table of Contents",
   "title_sidebar": "Contents",
   "toc_cell": false,
   "toc_position": {},
   "toc_section_display": true,
   "toc_window_display": true
  }
 },
 "nbformat": 4,
 "nbformat_minor": 5
}
