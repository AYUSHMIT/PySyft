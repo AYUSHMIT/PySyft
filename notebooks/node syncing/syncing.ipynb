{
 "cells": [
  {
   "cell_type": "code",
   "execution_count": 1,
   "id": "60b08c04",
   "metadata": {},
   "outputs": [],
   "source": [
    "# syft absolute\n",
    "import syft as sy\n",
    "from syft.types.syft_object import SyftObject"
   ]
  },
  {
   "cell_type": "code",
   "execution_count": 2,
   "id": "d1db0f4f",
   "metadata": {},
   "outputs": [
    {
     "name": "stdout",
     "output_type": "stream",
     "text": [
      "Staging Protocol Changes...\n",
      "SQLite Store Path:\n",
      "!open file:///var/folders/q1/ryq93kwj055dlbpngxv1c7z40000gn/T/8a1c04544655402190588aec30079bc3.sqlite\n",
      "\n",
      "Creating default worker image with tag='local-dev'\n",
      "Building default worker image with tag=local-dev\n",
      "Setting up worker poolname=default-pool workers=1 image_uid=5f2b3a35fe5f43b2ac56f60c9a39b6c6 in_memory=True\n",
      "Created default worker pool.\n",
      "Data Migrated to latest version !!!\n",
      "Staging Protocol Changes...\n",
      "SQLite Store Path:\n",
      "!open file:///var/folders/q1/ryq93kwj055dlbpngxv1c7z40000gn/T/8212e6797fde4c3fba4fc53ab555a886.sqlite\n",
      "\n",
      "Creating default worker image with tag='local-dev'\n",
      "Building default worker image with tag=local-dev\n",
      "Setting up worker poolname=default-pool workers=1 image_uid=fce552471b4f4f348d5a66d33fae1e71 in_memory=True\n",
      "Created default worker pool.\n",
      "Data Migrated to latest version !!!\n"
     ]
    }
   ],
   "source": [
    "node_low = sy.orchestra.launch(\n",
    "    name=\"test_l\",\n",
    "    node_side_type=\"low\",\n",
    "    dev_mode=True,\n",
    "    reset=True,\n",
    "    local_db=True,\n",
    "    n_consumers=1,\n",
    "    create_producer=True,\n",
    ")\n",
    "node_high = sy.orchestra.launch(\n",
    "    name=\"test_h\",\n",
    "    node_side_type=\"high\",\n",
    "    dev_mode=True,\n",
    "    reset=True,\n",
    "    local_db=True,\n",
    "    n_consumers=1,\n",
    "    create_producer=True,\n",
    ")"
   ]
  },
  {
   "cell_type": "code",
   "execution_count": 3,
   "id": "c01949ef",
   "metadata": {},
   "outputs": [
    {
     "name": "stdout",
     "output_type": "stream",
     "text": [
      "Logged into <test_l: Low side Domain> as <info@openmined.org>\n"
     ]
    },
    {
     "data": {
      "text/html": [
       "<div class=\"alert-warning\" style=\"padding:5px;\"><strong>SyftWarning</strong>: You are using a default password. Please change the password using `[your_client].me.set_password([new_password])`.</div><br />"
      ],
      "text/plain": [
       "SyftWarning: You are using a default password. Please change the password using `[your_client].me.set_password([new_password])`."
      ]
     },
     "metadata": {},
     "output_type": "display_data"
    },
    {
     "name": "stdout",
     "output_type": "stream",
     "text": [
      "Logged into <test_h: High side Domain> as <info@openmined.org>\n"
     ]
    },
    {
     "data": {
      "text/html": [
       "<div class=\"alert-warning\" style=\"padding:5px;\"><strong>SyftWarning</strong>: You are using a default password. Please change the password using `[your_client].me.set_password([new_password])`.</div><br />"
      ],
      "text/plain": [
       "SyftWarning: You are using a default password. Please change the password using `[your_client].me.set_password([new_password])`."
      ]
     },
     "metadata": {},
     "output_type": "display_data"
    }
   ],
   "source": [
    "client_low = node_low.login(email=\"info@openmined.org\", password=\"changethis\")\n",
    "client_high = node_high.login(email=\"info@openmined.org\", password=\"changethis\")"
   ]
  },
  {
   "cell_type": "markdown",
   "id": "529aefcd",
   "metadata": {},
   "source": [
    "# create datasets"
   ]
  },
  {
   "cell_type": "code",
   "execution_count": 4,
   "id": "9c3804a3",
   "metadata": {},
   "outputs": [
    {
     "name": "stderr",
     "output_type": "stream",
     "text": [
      "\r",
      "  0%|                                                                                                                 | 0/1 [00:00<?, ?it/s]"
     ]
    },
    {
     "name": "stdout",
     "output_type": "stream",
     "text": [
      "Uploading: numpy-data\n"
     ]
    },
    {
     "name": "stderr",
     "output_type": "stream",
     "text": [
      "100%|█████████████████████████████████████████████████████████████████████████████████████████████████████████| 1/1 [00:00<00:00,  5.68it/s]\n"
     ]
    },
    {
     "data": {
      "text/html": [
       "<div class=\"alert-success\" style=\"padding:5px;\"><strong>SyftSuccess</strong>: Dataset uploaded to 'test_l'. To see the datasets uploaded by a client on this node, use command `[your_client].datasets`</div><br />"
      ],
      "text/plain": [
       "SyftSuccess: Dataset uploaded to 'test_l'. To see the datasets uploaded by a client on this node, use command `[your_client].datasets`"
      ]
     },
     "execution_count": 4,
     "metadata": {},
     "output_type": "execute_result"
    }
   ],
   "source": [
    "# third party\n",
    "import numpy as np\n",
    "\n",
    "mock_low = np.array([0, 1, 2, 3, 4])  # do_high.mock\n",
    "private_low = np.array([5, 6, 7, 8, 9])  # AOEmpty? create new type AO\n",
    "\n",
    "dataset_low = sy.Dataset(\n",
    "    name=\"my-dataset\",\n",
    "    description=\"abc\",\n",
    "    asset_list=[\n",
    "        sy.Asset(\n",
    "            name=\"numpy-data\",\n",
    "            mock=mock_low,\n",
    "            data=private_low,\n",
    "            shape=private_low.shape,\n",
    "            mock_is_real=True,\n",
    "        )\n",
    "    ],\n",
    ")\n",
    "\n",
    "client_low.upload_dataset(dataset_low)"
   ]
  },
  {
   "cell_type": "code",
   "execution_count": 5,
   "id": "36fb096a",
   "metadata": {},
   "outputs": [
    {
     "name": "stderr",
     "output_type": "stream",
     "text": [
      "100%|█████████████████████████████████████████████████████████████████████████████████████████████████████████| 1/1 [00:00<00:00,  5.96it/s]\n"
     ]
    },
    {
     "name": "stdout",
     "output_type": "stream",
     "text": [
      "Uploading: numpy-data\n"
     ]
    },
    {
     "data": {
      "text/html": [
       "<div class=\"alert-success\" style=\"padding:5px;\"><strong>SyftSuccess</strong>: Dataset uploaded to 'test_h'. To see the datasets uploaded by a client on this node, use command `[your_client].datasets`</div><br />"
      ],
      "text/plain": [
       "SyftSuccess: Dataset uploaded to 'test_h'. To see the datasets uploaded by a client on this node, use command `[your_client].datasets`"
      ]
     },
     "execution_count": 5,
     "metadata": {},
     "output_type": "execute_result"
    }
   ],
   "source": [
    "mock_high = np.array([10, 11, 12, 13, 14])\n",
    "private_high = np.array([15, 16, 17, 18, 19])\n",
    "\n",
    "dataset_high = sy.Dataset(\n",
    "    id=dataset_low.id,\n",
    "    name=\"my-dataset\",\n",
    "    description=\"abc\",\n",
    "    asset_list=[\n",
    "        sy.Asset(\n",
    "            name=\"numpy-data\",\n",
    "            mock=mock_high,\n",
    "            data=private_high,\n",
    "            shape=private_high.shape,\n",
    "            mock_is_real=True,\n",
    "        )\n",
    "    ],\n",
    ")\n",
    "\n",
    "client_high.upload_dataset(dataset_high)"
   ]
  },
  {
   "cell_type": "code",
   "execution_count": 6,
   "id": "571d12c2",
   "metadata": {},
   "outputs": [
    {
     "data": {
      "text/html": [
       "<div class=\"alert-success\" style=\"padding:5px;\"><strong>SyftSuccess</strong>: Syft function 'compute_mean' successfully created. To add a code request, please create a project using `project = syft.Project(...)`, then use command `project.create_code_request`.</div><br />"
      ],
      "text/plain": [
       "SyftSuccess: Syft function 'compute_mean' successfully created. To add a code request, please create a project using `project = syft.Project(...)`, then use command `project.create_code_request`."
      ]
     },
     "metadata": {},
     "output_type": "display_data"
    },
    {
     "name": "stdout",
     "output_type": "stream",
     "text": [
      "SyftInfo: Creating a node with n_consumers=2 (the default value)\n",
      "Staging Protocol Changes...\n",
      "SQLite Store Path:\n",
      "!open file:///var/folders/q1/ryq93kwj055dlbpngxv1c7z40000gn/T/99c248b9e57f4d64b5086d03602fb932.sqlite\n",
      "\n",
      "Creating default worker image with tag='local-dev'\n",
      "Building default worker image with tag=local-dev\n",
      "Setting up worker poolname=default-pool workers=1 image_uid=ff5630f4e060467da9bd3da47ca690ed in_memory=True\n",
      "Created default worker pool.\n",
      "Data Migrated to latest version !!!\n",
      "Logged into <ephemeral_node_compute_mean_4908: High side Domain> as <info@openmined.org>\n"
     ]
    },
    {
     "data": {
      "text/html": [
       "<div class=\"alert-warning\" style=\"padding:5px;\"><strong>SyftWarning</strong>: You are using a default password. Please change the password using `[your_client].me.set_password([new_password])`.</div><br />"
      ],
      "text/plain": [
       "SyftWarning: You are using a default password. Please change the password using `[your_client].me.set_password([new_password])`."
      ]
     },
     "metadata": {},
     "output_type": "display_data"
    },
    {
     "name": "stdout",
     "output_type": "stream",
     "text": [
      "Approving request for domain ephemeral_node_compute_mean_4908\n",
      "SyftInfo: Landing the ephmeral node...\n"
     ]
    },
    {
     "data": {
      "text/markdown": [
       "```python\n",
       "Pointer\n",
       "```\n",
       "2.0"
      ],
      "text/plain": [
       "Pointer:\n",
       "2.0"
      ]
     },
     "execution_count": 6,
     "metadata": {},
     "output_type": "execute_result"
    }
   ],
   "source": [
    "data_low = client_low.datasets[0].assets[0]\n",
    "\n",
    "\n",
    "@sy.syft_function_single_use(data=data_low)\n",
    "def compute_mean(data) -> float:\n",
    "    return data.mean()\n",
    "\n",
    "\n",
    "compute_mean(data=data_low.mock)"
   ]
  },
  {
   "cell_type": "code",
   "execution_count": 7,
   "id": "654e55fd",
   "metadata": {},
   "outputs": [
    {
     "data": {
      "text/html": [
       "\n",
       "            <style>\n",
       "            .syft-request {color: #464158;}\n",
       "            </style>\n",
       "            <div class='syft-request'>\n",
       "                <h3>Request</h3>\n",
       "                <p><strong>Id: </strong>1bbb5967e6124f3cacb0160812c4332b</p>\n",
       "                <p><strong>Request time: </strong>2024-02-13 12:48:28</p>\n",
       "                \n",
       "                \n",
       "                <p><strong>Status: </strong>RequestStatus.PENDING</p>\n",
       "                <p><strong>Requested on: </strong> Test_l of type <strong>                     Domain</strong></p>\n",
       "                <p><strong>Requested by:</strong> Jane Doe (info@openmined.org) </p>\n",
       "                <p><strong>Changes: </strong> Request to change <b>compute_mean</b> (Pool Id: <b>default-pool</b>) to permission <b>RequestStatus.APPROVED</b>. Nested Requests not resolved. </p>\n",
       "            </div>\n",
       "\n",
       "            "
      ],
      "text/markdown": [
       "```python\n",
       "class Request:\n",
       "  id: str = 1bbb5967e6124f3cacb0160812c4332b\n",
       "  request_time: str = 2024-02-13 12:48:28\n",
       "  updated_at: str = None\n",
       "  status: str = RequestStatus.PENDING\n",
       "  changes: str = ['Request to change <b>compute_mean</b> (Pool Id: <b>default-pool</b>) to permission <b>RequestStatus.APPROVED</b>. Nested Requests not resolved']\n",
       "  requesting_user_verify_key: str = 1c0590b894d19530970da6bf09bb302afa3e473a4cccdacbace0e20223ee3367\n",
       "\n",
       "```"
      ],
      "text/plain": [
       "syft.service.request.request.Request"
      ]
     },
     "execution_count": 7,
     "metadata": {},
     "output_type": "execute_result"
    }
   ],
   "source": [
    "client_low.code.request_code_execution(compute_mean)"
   ]
  },
  {
   "cell_type": "code",
   "execution_count": 8,
   "id": "da371d97",
   "metadata": {},
   "outputs": [],
   "source": [
    "request = client_low.requests[0]"
   ]
  },
  {
   "cell_type": "code",
   "execution_count": 9,
   "id": "9fde6db3",
   "metadata": {},
   "outputs": [],
   "source": [
    "code = client_low.code[0]"
   ]
  },
  {
   "cell_type": "markdown",
   "id": "32dc877e",
   "metadata": {},
   "source": [
    "TEO HERE"
   ]
  },
  {
   "cell_type": "code",
   "execution_count": 10,
   "id": "f6d657a2",
   "metadata": {},
   "outputs": [],
   "source": [
    "items_to_sync = [request, code]"
   ]
  },
  {
   "cell_type": "markdown",
   "id": "205f03b0",
   "metadata": {},
   "source": [
    "- What do we do with properties here?\n",
    "  - just set them to None"
   ]
  },
  {
   "cell_type": "code",
   "execution_count": 11,
   "id": "07b8608d",
   "metadata": {},
   "outputs": [],
   "source": [
    "def get_stash_for_item(item, node):\n",
    "    services = list(node.python_node.service_path_map.values())\n",
    "\n",
    "    all_stashes = dict()\n",
    "    for serv in services:\n",
    "        if (_stash := getattr(serv, \"stash\", None)) is not None:\n",
    "            all_stashes[_stash.object_type] = _stash\n",
    "\n",
    "    stash = all_stashes.get(type(item), None)\n",
    "    return stash"
   ]
  },
  {
   "cell_type": "code",
   "execution_count": 12,
   "id": "41df6531",
   "metadata": {},
   "outputs": [],
   "source": [
    "# job.node_uid"
   ]
  },
  {
   "cell_type": "code",
   "execution_count": 13,
   "id": "8d20c4b2",
   "metadata": {},
   "outputs": [
    {
     "data": {
      "text/plain": [
       "<UID: 8212e6797fde4c3fba4fc53ab555a886>"
      ]
     },
     "execution_count": 13,
     "metadata": {},
     "output_type": "execute_result"
    }
   ],
   "source": [
    "node_high.python_node.id"
   ]
  },
  {
   "cell_type": "code",
   "execution_count": null,
   "id": "7c824801",
   "metadata": {},
   "outputs": [],
   "source": []
  },
  {
   "cell_type": "code",
   "execution_count": 14,
   "id": "e59b3dff",
   "metadata": {},
   "outputs": [],
   "source": [
    "def set_obj_ids(x, node_uid, verify_key):\n",
    "    if hasattr(x, \"__dict__\") and isinstance(x, SyftObject):\n",
    "        for prop, val in x.__dict__.items():\n",
    "            if isinstance(val, (list, tuple)):\n",
    "                for v in val:\n",
    "                    set_obj_ids(v, node_uid, verify_key)\n",
    "            elif isinstance(val, dict):\n",
    "                for v in val.values():\n",
    "                    set_obj_ids(v, node_uid, verify_key)\n",
    "            else:\n",
    "                set_obj_ids(val, node_uid, verify_key)\n",
    "        print(\"setting for\", type(x))\n",
    "        x.syft_node_location=node_uid\n",
    "        x.syft_client_verify_key=verify_key\n",
    "        if hasattr(x, \"node_uid\"):\n",
    "            print(\"setting node_UID\", type(x))\n",
    "            x.node_uid=node_uid\n",
    "                    \n",
    "                    \n",
    "    # TODO: hadnle nested collections\n",
    "            "
   ]
  },
  {
   "cell_type": "code",
   "execution_count": 15,
   "id": "ac7dc878",
   "metadata": {},
   "outputs": [],
   "source": [
    "def sync_items(items, node, client):\n",
    "    for item in items_to_sync:\n",
    "        stash = get_stash_for_item(item, node)\n",
    "#         from copy import deepcopy\n",
    "#         item = deepcopy(_item)\n",
    "        \n",
    "        set_obj_ids(item, client.id, client.verify_key)\n",
    "#         item.syft_node_location = node.python_node.id\n",
    "            \n",
    "#         item.syft_client_verify_key = client.verify_key\n",
    "        \n",
    "        res = stash.set(node.python_node.verify_key, item)\n",
    "        if not res.is_ok():\n",
    "            raise ValueError(\"\")\n",
    "        else:\n",
    "            print(\"created\", item)"
   ]
  },
  {
   "cell_type": "code",
   "execution_count": 16,
   "id": "a4fc133f",
   "metadata": {},
   "outputs": [
    {
     "name": "stdout",
     "output_type": "stream",
     "text": [
      "setting for <class 'syft.types.datetime.DateTime'>\n",
      "setting for <class 'syft.store.linked_obj.LinkedObject'>\n",
      "setting node_UID <class 'syft.store.linked_obj.LinkedObject'>\n",
      "setting for <class 'syft.service.request.request.UserCodeStatusChange'>\n",
      "setting for <class 'syft.service.request.request.Request'>\n",
      "setting node_UID <class 'syft.service.request.request.Request'>\n",
      "created syft.service.request.request.Request\n",
      "setting for <class 'syft.types.datetime.DateTime'>\n",
      "setting for <class 'syft.service.code.user_code.UserCode'>\n",
      "setting node_UID <class 'syft.service.code.user_code.UserCode'>\n",
      "created syft.service.code.user_code.UserCode\n"
     ]
    }
   ],
   "source": [
    "sync_items(items_to_sync, node_high, client_high)"
   ]
  },
  {
   "cell_type": "markdown",
   "id": "3f94e740",
   "metadata": {},
   "source": [
    "# Run code high and sync back result"
   ]
  },
  {
   "cell_type": "code",
   "execution_count": 17,
   "id": "787681b5",
   "metadata": {},
   "outputs": [],
   "source": [
    "client_high._fetch_api(client_high.credentials)"
   ]
  },
  {
   "cell_type": "code",
   "execution_count": 18,
   "id": "779f3fa0",
   "metadata": {},
   "outputs": [],
   "source": [
    "data_high = client_high.datasets[0].assets[0]"
   ]
  },
  {
   "cell_type": "code",
   "execution_count": 19,
   "id": "e3fc5218",
   "metadata": {},
   "outputs": [
    {
     "data": {
      "text/markdown": [
       "```python\n",
       "class Job:\n",
       "    id: UID = 8e1ec3d9d9534d63af2b7d3745473ca3\n",
       "    status: created\n",
       "    has_parent: False\n",
       "    result: syft.service.action.action_data_empty.ObjectNotReady\n",
       "    logs:\n",
       "\n",
       "0 \n",
       "    \n",
       "```"
      ],
      "text/plain": [
       "syft.service.job.job_stash.Job"
      ]
     },
     "metadata": {},
     "output_type": "display_data"
    }
   ],
   "source": [
    "job = client_high.code.compute_mean(data=data_high, blocking=False)\n",
    "display(job)"
   ]
  },
  {
   "cell_type": "code",
   "execution_count": 20,
   "id": "226abec8",
   "metadata": {},
   "outputs": [],
   "source": [
    "# job.wait().get()"
   ]
  },
  {
   "cell_type": "code",
   "execution_count": 21,
   "id": "65fbb2bd",
   "metadata": {},
   "outputs": [],
   "source": [
    "log = job._get_log_objs()"
   ]
  },
  {
   "cell_type": "code",
   "execution_count": 22,
   "id": "9f61d5e2",
   "metadata": {},
   "outputs": [],
   "source": [
    "items_to_sync = [job, log]"
   ]
  },
  {
   "cell_type": "code",
   "execution_count": 23,
   "id": "eaf1d416",
   "metadata": {},
   "outputs": [],
   "source": [
    "# job.node_uid"
   ]
  },
  {
   "cell_type": "code",
   "execution_count": 24,
   "id": "c793d1b5",
   "metadata": {},
   "outputs": [],
   "source": [
    "# log.node_uid"
   ]
  },
  {
   "cell_type": "code",
   "execution_count": 29,
   "id": "befbafac",
   "metadata": {},
   "outputs": [
    {
     "name": "stdout",
     "output_type": "stream",
     "text": [
      "WARNING: Notifications is currently is in a beta state, so use carefully!\n",
      "If possible try using client.requests/client.projects\n"
     ]
    },
    {
     "data": {
      "text/html": [
       "\n",
       "            <style>\n",
       "            .syft-request {color: #464158; line-height: 1;}\n",
       "            </style>\n",
       "            <div class='syft-request'>\n",
       "                <h3>Notification</h3>\n",
       "                <p><strong>ID: </strong>d2ca1d76f4d84c29b8302b5fc17496a5</p>\n",
       "                <p><strong>Subject: </strong>Result to request 1bbb...32b                        has been successfully deposited.</p>\n",
       "                <p><strong>Status: </strong>UNREAD</p>\n",
       "                <p><strong>Created at: </strong>2024-02-13 12:48:28</p>\n",
       "                <p><strong>Linked object: </strong>Request: 1bbb5967e6124f3cacb0160812c4332b @ Node 8a1c04544655402190588aec30079bc3</p>\n",
       "                <p>\n",
       "            </div>\n",
       "        "
      ],
      "text/markdown": [
       "```python\n",
       "class Notification:\n",
       "  id: str = d2ca1d76f4d84c29b8302b5fc17496a5\n",
       "  subject: str = \"Result to request 1bbb...32b                        has been successfully deposited.\"\n",
       "  status: str = NotificationStatus.UNREAD\n",
       "  created_at: str = 2024-02-13 12:48:28\n",
       "  linked_obj: str = Request: 1bbb5967e6124f3cacb0160812c4332b @ Node 8a1c04544655402190588aec30079bc3\n",
       "\n",
       "```"
      ],
      "text/plain": [
       "syft.service.notification.notifications.Notification"
      ]
     },
     "execution_count": 29,
     "metadata": {},
     "output_type": "execute_result"
    }
   ],
   "source": [
    "client_low.notifications[0]"
   ]
  },
  {
   "cell_type": "code",
   "execution_count": 25,
   "id": "b2d115ab",
   "metadata": {},
   "outputs": [],
   "source": [
    "x = client_high.requests[0]"
   ]
  },
  {
   "cell_type": "code",
   "execution_count": 26,
   "id": "adeaa482",
   "metadata": {},
   "outputs": [
    {
     "name": "stdout",
     "output_type": "stream",
     "text": [
      "Approving request for domain test_h\n"
     ]
    },
    {
     "data": {
      "text/html": [
       "<div class=\"alert-danger\" style=\"padding:5px;\"><strong>SyftError</strong>: Exception calling request.apply. Traceback (most recent call last):\n",
       "  File \"/Users/koen/workspace/PySyft/packages/syft/src/syft/node/node.py\", line 1193, in handle_api_call_with_unsigned_result\n",
       "    result = method(context, *api_call.args, **api_call.kwargs)\n",
       "  File \"/Users/koen/workspace/PySyft/packages/syft/src/syft/service/service.py\", line 352, in _decorator\n",
       "    result = func(self, *args, **kwargs)\n",
       "  File \"/Users/koen/workspace/PySyft/packages/syft/src/syft/service/request/request_service.py\", line 258, in apply\n",
       "    mark_as_read(context=context, uid=request_notification.id)\n",
       "AttributeError: 'NoneType' object has no attribute 'id'\n",
       "</div><br />"
      ],
      "text/plain": [
       "SyftError: Exception calling request.apply. Traceback (most recent call last):\n",
       "  File \"/Users/koen/workspace/PySyft/packages/syft/src/syft/node/node.py\", line 1193, in handle_api_call_with_unsigned_result\n",
       "    result = method(context, *api_call.args, **api_call.kwargs)\n",
       "  File \"/Users/koen/workspace/PySyft/packages/syft/src/syft/service/service.py\", line 352, in _decorator\n",
       "    result = func(self, *args, **kwargs)\n",
       "  File \"/Users/koen/workspace/PySyft/packages/syft/src/syft/service/request/request_service.py\", line 258, in apply\n",
       "    mark_as_read(context=context, uid=request_notification.id)\n",
       "AttributeError: 'NoneType' object has no attribute 'id'"
      ]
     },
     "execution_count": 26,
     "metadata": {},
     "output_type": "execute_result"
    }
   ],
   "source": [
    "x.approve()"
   ]
  },
  {
   "cell_type": "code",
   "execution_count": 29,
   "id": "0237baa3",
   "metadata": {},
   "outputs": [
    {
     "data": {
      "text/plain": [
       "<UID: 8a1c04544655402190588aec30079bc3>"
      ]
     },
     "execution_count": 29,
     "metadata": {},
     "output_type": "execute_result"
    }
   ],
   "source": [
    "request.node_uid"
   ]
  },
  {
   "cell_type": "code",
   "execution_count": 30,
   "id": "b895c23b",
   "metadata": {},
   "outputs": [
    {
     "data": {
      "text/plain": [
       "d311a667006cbb56614a062b2bbc7a733b5a4a8edd5293e0f34bb5c75f51277d"
      ]
     },
     "execution_count": 30,
     "metadata": {},
     "output_type": "execute_result"
    }
   ],
   "source": [
    "request.syft_client_verify_key"
   ]
  },
  {
   "cell_type": "code",
   "execution_count": 30,
   "id": "15a73882",
   "metadata": {},
   "outputs": [],
   "source": [
    "# request"
   ]
  },
  {
   "cell_type": "code",
   "execution_count": 36,
   "id": "14ddfddd",
   "metadata": {},
   "outputs": [
    {
     "data": {
      "text/plain": [
       "<UID: 8212e6797fde4c3fba4fc53ab555a886>"
      ]
     },
     "execution_count": 36,
     "metadata": {},
     "output_type": "execute_result"
    }
   ],
   "source": [
    "client_high.id"
   ]
  },
  {
   "cell_type": "code",
   "execution_count": 37,
   "id": "cec740f6",
   "metadata": {},
   "outputs": [
    {
     "data": {
      "text/plain": [
       "d311a667006cbb56614a062b2bbc7a733b5a4a8edd5293e0f34bb5c75f51277d"
      ]
     },
     "execution_count": 37,
     "metadata": {},
     "output_type": "execute_result"
    }
   ],
   "source": [
    "client_high.verify_key"
   ]
  },
  {
   "cell_type": "code",
   "execution_count": 32,
   "id": "ee9c0fcb",
   "metadata": {},
   "outputs": [],
   "source": [
    "# set_obj_ids(request, client_high.id, client_high.verify_key)\n",
    "\n",
    "# x.changes[0].linked_obj.node_uid\n",
    "\n",
    "# self.changes.linked_obj\n",
    "\n"
   ]
  },
  {
   "cell_type": "code",
   "execution_count": 33,
   "id": "be673d43",
   "metadata": {},
   "outputs": [],
   "source": [
    "from syft.client.api import APIRegistry"
   ]
  },
  {
   "cell_type": "code",
   "execution_count": 34,
   "id": "aa3cc8ce",
   "metadata": {},
   "outputs": [
    {
     "name": "stdout",
     "output_type": "stream",
     "text": [
      "(<UID: 8a1c04544655402190588aec30079bc3>, 4597fe5ad2c3c55b169e0d26efd4d08835b22aead82cb4aad0eacca53427a98b)\n",
      "(<UID: 8a1c04544655402190588aec30079bc3>, 1c0590b894d19530970da6bf09bb302afa3e473a4cccdacbace0e20223ee3367)\n",
      "(<UID: 8212e6797fde4c3fba4fc53ab555a886>, 0c8a0571187c53f7738eb8b9b25c579628550dab60828ee5012f0e84438a4ddb)\n",
      "(<UID: 8212e6797fde4c3fba4fc53ab555a886>, d311a667006cbb56614a062b2bbc7a733b5a4a8edd5293e0f34bb5c75f51277d)\n",
      "(<UID: a0e5c2693b8a4100b5c6fa1f4f4430f0>, de402e83e3e40bd2533d68241aacf05000157fa05854421182c5c279fb067a34)\n",
      "(<UID: a0e5c2693b8a4100b5c6fa1f4f4430f0>, 5f1d600eba827d3394c7260aa736e51f9c7b6ac704b08c0e55c9e404e449acd1)\n"
     ]
    }
   ],
   "source": [
    "for x in APIRegistry.__api_registry__.keys():\n",
    "    print(x)"
   ]
  },
  {
   "cell_type": "code",
   "execution_count": 71,
   "id": "e679c169",
   "metadata": {},
   "outputs": [],
   "source": [
    "usercode=list(node_high.python_node.get_service(\"usercodeservice\").stash.partition.data.values())[0]"
   ]
  },
  {
   "cell_type": "code",
   "execution_count": 70,
   "id": "4fb80029",
   "metadata": {},
   "outputs": [],
   "source": [
    "userco.output_policy"
   ]
  },
  {
   "cell_type": "code",
   "execution_count": 25,
   "id": "615290f5",
   "metadata": {},
   "outputs": [
    {
     "name": "stdout",
     "output_type": "stream",
     "text": [
      "created syft.service.job.job_stash.Job\n",
      "created syft.service.log.log.SyftLog\n"
     ]
    }
   ],
   "source": [
    "sync_items(items_to_sync, node_low, client_low)"
   ]
  },
  {
   "cell_type": "markdown",
   "id": "04dd5d24",
   "metadata": {},
   "source": [
    "# Run code low"
   ]
  },
  {
   "cell_type": "code",
   "execution_count": 50,
   "id": "0acf77da",
   "metadata": {},
   "outputs": [],
   "source": [
    "res_low = client_low.code.compute_mean(data=data_low)"
   ]
  },
  {
   "cell_type": "code",
   "execution_count": null,
   "id": "16ebbe31",
   "metadata": {},
   "outputs": [],
   "source": [
    "# we need to sync the usercode itself\n"
   ]
  },
  {
   "cell_type": "code",
   "execution_count": 52,
   "id": "aa8bc261",
   "metadata": {},
   "outputs": [
    {
     "data": {
      "text/plain": [
       "7.0"
      ]
     },
     "execution_count": 52,
     "metadata": {},
     "output_type": "execute_result"
    }
   ],
   "source": [
    "res_low.get()"
   ]
  },
  {
   "cell_type": "code",
   "execution_count": 48,
   "id": "ab696210",
   "metadata": {},
   "outputs": [
    {
     "data": {
      "text/plain": [
       "17.0"
      ]
     },
     "execution_count": 48,
     "metadata": {},
     "output_type": "execute_result"
    }
   ],
   "source": [
    "private_high.mean()"
   ]
  },
  {
   "cell_type": "code",
   "execution_count": 53,
   "id": "aa774a56",
   "metadata": {},
   "outputs": [
    {
     "data": {
      "text/html": [
       "<div class=\"alert-warning\" style=\"padding:5px;\"><strong>SyftWarning</strong>: There are existing jobs for this user code, returning the latest one</div><br />"
      ],
      "text/plain": [
       "SyftWarning: There are existing jobs for this user code, returning the latest one"
      ]
     },
     "metadata": {},
     "output_type": "display_data"
    }
   ],
   "source": [
    "res = client_low.code.compute_mean(data=data_low, blocking=False)"
   ]
  },
  {
   "cell_type": "code",
   "execution_count": 54,
   "id": "a745b4dd",
   "metadata": {},
   "outputs": [
    {
     "data": {
      "text/markdown": [
       "```python\n",
       "class Job:\n",
       "    id: UID = 2970d40145144fa4a7aa32182f426cef\n",
       "    status: created\n",
       "    has_parent: False\n",
       "    result: syft.service.action.action_data_empty.ObjectNotReady\n",
       "    logs:\n",
       "\n",
       "0 \n",
       "    \n",
       "```"
      ],
      "text/plain": [
       "syft.service.job.job_stash.Job"
      ]
     },
     "execution_count": 54,
     "metadata": {},
     "output_type": "execute_result"
    }
   ],
   "source": [
    "res"
   ]
  },
  {
   "cell_type": "code",
   "execution_count": 42,
   "id": "6895eb34",
   "metadata": {},
   "outputs": [
    {
     "data": {
      "text/markdown": [
       "```python\n",
       "TwinPointer(Real)\n",
       "```\n",
       "7.0"
      ],
      "text/plain": [
       "TwinPointer(Real):\n",
       "7.0"
      ]
     },
     "execution_count": 42,
     "metadata": {},
     "output_type": "execute_result"
    }
   ],
   "source": [
    "res"
   ]
  },
  {
   "cell_type": "code",
   "execution_count": 55,
   "id": "5b7f6d2f",
   "metadata": {},
   "outputs": [
    {
     "data": {
      "text/markdown": [
       "```python\n",
       "Pointer\n",
       "```\n",
       "```python\n",
       "class ObjectNotReady:\n",
       "  id: str = 5f3c2030877d422bb338912bd7bd771b\n",
       "\n",
       "```"
      ],
      "text/plain": [
       "Pointer:\n",
       "syft.service.action.action_data_empty.ObjectNotReady"
      ]
     },
     "execution_count": 55,
     "metadata": {},
     "output_type": "execute_result"
    }
   ],
   "source": [
    "job.result"
   ]
  },
  {
   "cell_type": "code",
   "execution_count": 56,
   "id": "df90c0a5",
   "metadata": {},
   "outputs": [
    {
     "ename": "AttributeError",
     "evalue": "'str' object has no attribute 'syft_action_data'",
     "output_type": "error",
     "traceback": [
      "\u001b[0;31m---------------------------------------------------------------------------\u001b[0m",
      "\u001b[0;31mAttributeError\u001b[0m                            Traceback (most recent call last)",
      "Cell \u001b[0;32mIn[56], line 1\u001b[0m\n\u001b[0;32m----> 1\u001b[0m \u001b[43mres\u001b[49m\u001b[38;5;241;43m.\u001b[39;49m\u001b[43mwait\u001b[49m\u001b[43m(\u001b[49m\u001b[43m)\u001b[49m\n",
      "File \u001b[0;32m~/workspace/PySyft/packages/syft/src/syft/service/job/job_stash.py:443\u001b[0m, in \u001b[0;36mJob.wait\u001b[0;34m(self, job_only)\u001b[0m\n\u001b[1;32m    439\u001b[0m \u001b[38;5;28;01mif\u001b[39;00m print_warning:\n\u001b[1;32m    440\u001b[0m     result_obj \u001b[38;5;241m=\u001b[39m api\u001b[38;5;241m.\u001b[39mservices\u001b[38;5;241m.\u001b[39maction\u001b[38;5;241m.\u001b[39mget(\n\u001b[1;32m    441\u001b[0m         \u001b[38;5;28mself\u001b[39m\u001b[38;5;241m.\u001b[39mresult\u001b[38;5;241m.\u001b[39mid, resolve_nested\u001b[38;5;241m=\u001b[39m\u001b[38;5;28;01mFalse\u001b[39;00m\n\u001b[1;32m    442\u001b[0m     )\n\u001b[0;32m--> 443\u001b[0m     \u001b[38;5;28;01mif\u001b[39;00m \u001b[38;5;28misinstance\u001b[39m(\u001b[43mresult_obj\u001b[49m\u001b[38;5;241;43m.\u001b[39;49m\u001b[43msyft_action_data\u001b[49m, ActionDataLink) \u001b[38;5;129;01mand\u001b[39;00m job_only:\n\u001b[1;32m    444\u001b[0m         \u001b[38;5;28mprint\u001b[39m(\n\u001b[1;32m    445\u001b[0m             \u001b[38;5;124m\"\u001b[39m\u001b[38;5;124mYou\u001b[39m\u001b[38;5;124m'\u001b[39m\u001b[38;5;124mre trying to wait on a job that has a link as a result.\u001b[39m\u001b[38;5;124m\"\u001b[39m\n\u001b[1;32m    446\u001b[0m             \u001b[38;5;124m\"\u001b[39m\u001b[38;5;124mThis means that the job may be ready but the linked result may not.\u001b[39m\u001b[38;5;124m\"\u001b[39m\n\u001b[1;32m    447\u001b[0m             \u001b[38;5;124m\"\u001b[39m\u001b[38;5;124mUse job.wait().get() instead to wait for the linked result.\u001b[39m\u001b[38;5;124m\"\u001b[39m\n\u001b[1;32m    448\u001b[0m         )\n\u001b[1;32m    449\u001b[0m         print_warning \u001b[38;5;241m=\u001b[39m \u001b[38;5;28;01mFalse\u001b[39;00m\n",
      "\u001b[0;31mAttributeError\u001b[0m: 'str' object has no attribute 'syft_action_data'"
     ]
    }
   ],
   "source": [
    "res.wait()"
   ]
  },
  {
   "cell_type": "code",
   "execution_count": null,
   "id": "4ddb2077",
   "metadata": {},
   "outputs": [],
   "source": []
  },
  {
   "cell_type": "code",
   "execution_count": 57,
   "id": "afeecc63",
   "metadata": {},
   "outputs": [
    {
     "name": "stdout",
     "output_type": "stream",
     "text": [
      "> \u001b[0;32m/Users/koen/workspace/PySyft/packages/syft/src/syft/service/job/job_stash.py\u001b[0m(443)\u001b[0;36mwait\u001b[0;34m()\u001b[0m\n",
      "\u001b[0;32m    441 \u001b[0;31m                    \u001b[0mself\u001b[0m\u001b[0;34m.\u001b[0m\u001b[0mresult\u001b[0m\u001b[0;34m.\u001b[0m\u001b[0mid\u001b[0m\u001b[0;34m,\u001b[0m \u001b[0mresolve_nested\u001b[0m\u001b[0;34m=\u001b[0m\u001b[0;32mFalse\u001b[0m\u001b[0;34m\u001b[0m\u001b[0;34m\u001b[0m\u001b[0m\n",
      "\u001b[0m\u001b[0;32m    442 \u001b[0;31m                )\n",
      "\u001b[0m\u001b[0;32m--> 443 \u001b[0;31m                \u001b[0;32mif\u001b[0m \u001b[0misinstance\u001b[0m\u001b[0;34m(\u001b[0m\u001b[0mresult_obj\u001b[0m\u001b[0;34m.\u001b[0m\u001b[0msyft_action_data\u001b[0m\u001b[0;34m,\u001b[0m \u001b[0mActionDataLink\u001b[0m\u001b[0;34m)\u001b[0m \u001b[0;32mand\u001b[0m \u001b[0mjob_only\u001b[0m\u001b[0;34m:\u001b[0m\u001b[0;34m\u001b[0m\u001b[0;34m\u001b[0m\u001b[0m\n",
      "\u001b[0m\u001b[0;32m    444 \u001b[0;31m                    print(\n",
      "\u001b[0m\u001b[0;32m    445 \u001b[0;31m                        \u001b[0;34m\"You're trying to wait on a job that has a link as a result.\"\u001b[0m\u001b[0;34m\u001b[0m\u001b[0;34m\u001b[0m\u001b[0m\n",
      "\u001b[0m\n",
      "ipdb> result\n",
      "*** NameError: name 'result' is not defined\n",
      "ipdb> print(result_obj)\n",
      "Could not find item with uid 90d5afc5e82c4517a80364b18892b55f, \"90d5afc5e82c4517a80364b18892b55f not in <class 'syft.store.sqlite_document_store.SQLiteBackingStore'>\"\n",
      "ipdb> q\n"
     ]
    }
   ],
   "source": [
    "%debug"
   ]
  }
 ],
 "metadata": {
  "kernelspec": {
   "display_name": "Python 3 (ipykernel)",
   "language": "python",
   "name": "python3"
  },
  "language_info": {
   "codemirror_mode": {
    "name": "ipython",
    "version": 3
   },
   "file_extension": ".py",
   "mimetype": "text/x-python",
   "name": "python",
   "nbconvert_exporter": "python",
   "pygments_lexer": "ipython3",
   "version": "3.9.16"
  },
  "toc": {
   "base_numbering": 1,
   "nav_menu": {},
   "number_sections": true,
   "sideBar": true,
   "skip_h1_title": false,
   "title_cell": "Table of Contents",
   "title_sidebar": "Contents",
   "toc_cell": false,
   "toc_position": {},
   "toc_section_display": true,
   "toc_window_display": true
  }
 },
 "nbformat": 4,
 "nbformat_minor": 5
}
