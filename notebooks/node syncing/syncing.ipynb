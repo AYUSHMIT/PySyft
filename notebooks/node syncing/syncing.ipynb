{
 "cells": [
  {
   "cell_type": "code",
   "execution_count": 1,
   "id": "60b08c04",
   "metadata": {},
   "outputs": [],
   "source": [
    "# syft absolute\n",
    "import syft as sy\n",
    "from syft.types.syft_object import SyftObject\n",
    "from syft import ActionObject"
   ]
  },
  {
   "cell_type": "code",
   "execution_count": 2,
   "id": "d1db0f4f",
   "metadata": {},
   "outputs": [
    {
     "name": "stdout",
     "output_type": "stream",
     "text": [
      "Staging Protocol Changes...\n",
      "SQLite Store Path:\n",
      "!open file:///var/folders/q1/ryq93kwj055dlbpngxv1c7z40000gn/T/8a1c04544655402190588aec30079bc3.sqlite\n",
      "\n",
      "Creating default worker image with tag='local-dev'\n",
      "Building default worker image with tag=local-dev\n",
      "Setting up worker poolname=default-pool workers=1 image_uid=4d2b70aaa85e4057ae722cdc956e31cf in_memory=True\n",
      "Created default worker pool.\n",
      "Data Migrated to latest version !!!\n",
      "Staging Protocol Changes...\n",
      "SQLite Store Path:\n",
      "!open file:///var/folders/q1/ryq93kwj055dlbpngxv1c7z40000gn/T/8212e6797fde4c3fba4fc53ab555a886.sqlite\n",
      "\n",
      "Creating default worker image with tag='local-dev'\n",
      "Building default worker image with tag=local-dev\n",
      "Setting up worker poolname=default-pool workers=1 image_uid=9250cff34b23471ebf4dbe15f3dff756 in_memory=True\n",
      "Created default worker pool.\n",
      "Data Migrated to latest version !!!\n"
     ]
    }
   ],
   "source": [
    "node_low = sy.orchestra.launch(\n",
    "    name=\"test_l\",\n",
    "    node_side_type=\"low\",\n",
    "    dev_mode=True,\n",
    "    reset=True,\n",
    "    local_db=True,\n",
    "    n_consumers=1,\n",
    "    create_producer=True,\n",
    ")\n",
    "node_high = sy.orchestra.launch(\n",
    "    name=\"test_h\",\n",
    "    node_side_type=\"high\",\n",
    "    dev_mode=True,\n",
    "    reset=True,\n",
    "    local_db=True,\n",
    "    n_consumers=1,\n",
    "    create_producer=True,\n",
    ")"
   ]
  },
  {
   "cell_type": "code",
   "execution_count": 3,
   "id": "c01949ef",
   "metadata": {},
   "outputs": [
    {
     "name": "stdout",
     "output_type": "stream",
     "text": [
      "Logged into <test_l: Low side Domain> as <info@openmined.org>\n"
     ]
    },
    {
     "data": {
      "text/html": [
       "<div class=\"alert-warning\" style=\"padding:5px;\"><strong>SyftWarning</strong>: You are using a default password. Please change the password using `[your_client].me.set_password([new_password])`.</div><br />"
      ],
      "text/plain": [
       "SyftWarning: You are using a default password. Please change the password using `[your_client].me.set_password([new_password])`."
      ]
     },
     "metadata": {},
     "output_type": "display_data"
    },
    {
     "name": "stdout",
     "output_type": "stream",
     "text": [
      "Logged into <test_h: High side Domain> as <info@openmined.org>\n"
     ]
    },
    {
     "data": {
      "text/html": [
       "<div class=\"alert-warning\" style=\"padding:5px;\"><strong>SyftWarning</strong>: You are using a default password. Please change the password using `[your_client].me.set_password([new_password])`.</div><br />"
      ],
      "text/plain": [
       "SyftWarning: You are using a default password. Please change the password using `[your_client].me.set_password([new_password])`."
      ]
     },
     "metadata": {},
     "output_type": "display_data"
    }
   ],
   "source": [
    "client_low = node_low.login(email=\"info@openmined.org\", password=\"changethis\")\n",
    "client_high = node_high.login(email=\"info@openmined.org\", password=\"changethis\")"
   ]
  },
  {
   "cell_type": "markdown",
   "id": "529aefcd",
   "metadata": {},
   "source": [
    "# create datasets"
   ]
  },
  {
   "cell_type": "code",
   "execution_count": 4,
   "id": "9c3804a3",
   "metadata": {},
   "outputs": [
    {
     "name": "stderr",
     "output_type": "stream",
     "text": [
      "\r",
      "  0%|                                                                                                                 | 0/1 [00:00<?, ?it/s]"
     ]
    },
    {
     "name": "stdout",
     "output_type": "stream",
     "text": [
      "Uploading: numpy-data\n"
     ]
    },
    {
     "name": "stderr",
     "output_type": "stream",
     "text": [
      "100%|█████████████████████████████████████████████████████████████████████████████████████████████████████████| 1/1 [00:00<00:00,  5.98it/s]\n"
     ]
    },
    {
     "data": {
      "text/html": [
       "<div class=\"alert-success\" style=\"padding:5px;\"><strong>SyftSuccess</strong>: Dataset uploaded to 'test_l'. To see the datasets uploaded by a client on this node, use command `[your_client].datasets`</div><br />"
      ],
      "text/plain": [
       "SyftSuccess: Dataset uploaded to 'test_l'. To see the datasets uploaded by a client on this node, use command `[your_client].datasets`"
      ]
     },
     "execution_count": 4,
     "metadata": {},
     "output_type": "execute_result"
    }
   ],
   "source": [
    "# third party\n",
    "import numpy as np\n",
    "\n",
    "mock_low = np.array([0, 1, 2, 3, 4])  # do_high.mock\n",
    "private_low = np.array([5, 6, 7, 8, 9])  # AOEmpty? create new type AO\n",
    "\n",
    "dataset_low = sy.Dataset(\n",
    "    name=\"my-dataset\",\n",
    "    description=\"abc\",\n",
    "    asset_list=[\n",
    "        sy.Asset(\n",
    "            name=\"numpy-data\",\n",
    "            mock=mock_low,\n",
    "            data=private_low,\n",
    "            shape=private_low.shape,\n",
    "            mock_is_real=True,\n",
    "        )\n",
    "    ],\n",
    ")\n",
    "\n",
    "client_low.upload_dataset(dataset_low)"
   ]
  },
  {
   "cell_type": "code",
   "execution_count": 5,
   "id": "36fb096a",
   "metadata": {},
   "outputs": [
    {
     "name": "stderr",
     "output_type": "stream",
     "text": [
      "100%|█████████████████████████████████████████████████████████████████████████████████████████████████████████| 1/1 [00:00<00:00,  6.98it/s]\n"
     ]
    },
    {
     "name": "stdout",
     "output_type": "stream",
     "text": [
      "Uploading: numpy-data\n"
     ]
    },
    {
     "data": {
      "text/html": [
       "<div class=\"alert-success\" style=\"padding:5px;\"><strong>SyftSuccess</strong>: Dataset uploaded to 'test_h'. To see the datasets uploaded by a client on this node, use command `[your_client].datasets`</div><br />"
      ],
      "text/plain": [
       "SyftSuccess: Dataset uploaded to 'test_h'. To see the datasets uploaded by a client on this node, use command `[your_client].datasets`"
      ]
     },
     "execution_count": 5,
     "metadata": {},
     "output_type": "execute_result"
    }
   ],
   "source": [
    "mock_high = np.array([10, 11, 12, 13, 14])\n",
    "private_high = np.array([15, 16, 17, 18, 19])\n",
    "\n",
    "dataset_high = sy.Dataset(\n",
    "    id=dataset_low.id,\n",
    "    name=\"my-dataset\",\n",
    "    description=\"abc\",\n",
    "    asset_list=[\n",
    "        sy.Asset(\n",
    "            name=\"numpy-data\",\n",
    "            mock=mock_high,\n",
    "            data=private_high,\n",
    "            shape=private_high.shape,\n",
    "            mock_is_real=True,\n",
    "        )\n",
    "    ],\n",
    ")\n",
    "\n",
    "client_high.upload_dataset(dataset_high)"
   ]
  },
  {
   "cell_type": "code",
   "execution_count": 6,
   "id": "571d12c2",
   "metadata": {},
   "outputs": [
    {
     "data": {
      "text/html": [
       "<div class=\"alert-success\" style=\"padding:5px;\"><strong>SyftSuccess</strong>: Syft function 'compute_mean' successfully created. To add a code request, please create a project using `project = syft.Project(...)`, then use command `project.create_code_request`.</div><br />"
      ],
      "text/plain": [
       "SyftSuccess: Syft function 'compute_mean' successfully created. To add a code request, please create a project using `project = syft.Project(...)`, then use command `project.create_code_request`."
      ]
     },
     "metadata": {},
     "output_type": "display_data"
    },
    {
     "name": "stdout",
     "output_type": "stream",
     "text": [
      "SyftInfo: Creating a node with n_consumers=2 (the default value)\n",
      "Staging Protocol Changes...\n",
      "SQLite Store Path:\n",
      "!open file:///var/folders/q1/ryq93kwj055dlbpngxv1c7z40000gn/T/a1a51a8fff3a48d3984ed2aac68686e0.sqlite\n",
      "\n",
      "Creating default worker image with tag='local-dev'\n",
      "Building default worker image with tag=local-dev\n",
      "Setting up worker poolname=default-pool workers=1 image_uid=0fd1752b0ee04629861f2d84ae81b79a in_memory=True\n",
      "Created default worker pool.\n",
      "Data Migrated to latest version !!!\n",
      "Logged into <ephemeral_node_compute_mean_1355: High side Domain> as <info@openmined.org>\n"
     ]
    },
    {
     "data": {
      "text/html": [
       "<div class=\"alert-warning\" style=\"padding:5px;\"><strong>SyftWarning</strong>: You are using a default password. Please change the password using `[your_client].me.set_password([new_password])`.</div><br />"
      ],
      "text/plain": [
       "SyftWarning: You are using a default password. Please change the password using `[your_client].me.set_password([new_password])`."
      ]
     },
     "metadata": {},
     "output_type": "display_data"
    },
    {
     "name": "stdout",
     "output_type": "stream",
     "text": [
      "Approving request for domain ephemeral_node_compute_mean_1355\n",
      "SyftInfo: Landing the ephmeral node...\n"
     ]
    },
    {
     "data": {
      "text/markdown": [
       "```python\n",
       "Pointer\n",
       "```\n",
       "2.0"
      ],
      "text/plain": [
       "Pointer:\n",
       "2.0"
      ]
     },
     "execution_count": 6,
     "metadata": {},
     "output_type": "execute_result"
    }
   ],
   "source": [
    "data_low = client_low.datasets[0].assets[0]\n",
    "\n",
    "\n",
    "@sy.syft_function_single_use(data=data_low)\n",
    "def compute_mean(data) -> float:\n",
    "    return data.mean()\n",
    "\n",
    "\n",
    "compute_mean(data=data_low.mock)"
   ]
  },
  {
   "cell_type": "code",
   "execution_count": 7,
   "id": "ee5f9c37",
   "metadata": {},
   "outputs": [],
   "source": [
    "from time import sleep\n",
    "sleep(1)"
   ]
  },
  {
   "cell_type": "code",
   "execution_count": 8,
   "id": "654e55fd",
   "metadata": {},
   "outputs": [
    {
     "data": {
      "text/html": [
       "\n",
       "            <style>\n",
       "            .syft-request {color: #464158;}\n",
       "            </style>\n",
       "            <div class='syft-request'>\n",
       "                <h3>Request</h3>\n",
       "                <p><strong>Id: </strong>b581f04a259d4d25877b325a54917aae</p>\n",
       "                <p><strong>Request time: </strong>2024-02-13 18:20:16</p>\n",
       "                \n",
       "                \n",
       "                <p><strong>Status: </strong>RequestStatus.PENDING</p>\n",
       "                <p><strong>Requested on: </strong> Test_l of type <strong>                     Domain</strong></p>\n",
       "                <p><strong>Requested by:</strong> Jane Doe (info@openmined.org) </p>\n",
       "                <p><strong>Changes: </strong> Request to change <b>compute_mean</b> (Pool Id: <b>default-pool</b>) to permission <b>RequestStatus.APPROVED</b>. Nested Requests not resolved. </p>\n",
       "            </div>\n",
       "\n",
       "            "
      ],
      "text/markdown": [
       "```python\n",
       "class Request:\n",
       "  id: str = b581f04a259d4d25877b325a54917aae\n",
       "  request_time: str = 2024-02-13 18:20:16\n",
       "  updated_at: str = None\n",
       "  status: str = RequestStatus.PENDING\n",
       "  changes: str = ['Request to change <b>compute_mean</b> (Pool Id: <b>default-pool</b>) to permission <b>RequestStatus.APPROVED</b>. Nested Requests not resolved']\n",
       "  requesting_user_verify_key: str = 1c0590b894d19530970da6bf09bb302afa3e473a4cccdacbace0e20223ee3367\n",
       "\n",
       "```"
      ],
      "text/plain": [
       "syft.service.request.request.Request"
      ]
     },
     "execution_count": 8,
     "metadata": {},
     "output_type": "execute_result"
    }
   ],
   "source": [
    "client_low.code.request_code_execution(compute_mean)"
   ]
  },
  {
   "cell_type": "code",
   "execution_count": 9,
   "id": "da371d97",
   "metadata": {},
   "outputs": [],
   "source": [
    "request = client_low.requests[0]"
   ]
  },
  {
   "cell_type": "code",
   "execution_count": 10,
   "id": "9fde6db3",
   "metadata": {},
   "outputs": [
    {
     "name": "stdout",
     "output_type": "stream",
     "text": [
      "SyftInfo: Node Landed!\n"
     ]
    }
   ],
   "source": [
    "code = client_low.code[0]"
   ]
  },
  {
   "cell_type": "markdown",
   "id": "32dc877e",
   "metadata": {},
   "source": [
    "TEO HERE"
   ]
  },
  {
   "cell_type": "code",
   "execution_count": 11,
   "id": "1f2a1c45",
   "metadata": {},
   "outputs": [
    {
     "data": {
      "text/html": [
       "\n",
       "<style>\n",
       "  body[data-jp-theme-light='false'] {\n",
       "        --primary-color: #111111;\n",
       "        --secondary-color: #212121;\n",
       "        --tertiary-color: #CFCDD6;\n",
       "        --button-color: #111111;\n",
       "  }\n",
       "\n",
       "  body {\n",
       "        --primary-color: #ffffff;\n",
       "        --secondary-color: #f5f5f5;\n",
       "        --tertiary-color: #000000de;\n",
       "        --button-color: #d1d5db;\n",
       "  }\n",
       "\n",
       "  .header-1 {\n",
       "        font-style: normal;\n",
       "        font-weight: 600;\n",
       "        font-size: 2.0736em;\n",
       "        line-height: 100%;\n",
       "        leading-trim: both;\n",
       "        text-edge: cap;\n",
       "        color: #17161D;\n",
       "    }\n",
       "\n",
       "  .header-2 {\n",
       "        font-style: normal;\n",
       "        font-weight: 600;\n",
       "        font-size: 1.728em;\n",
       "        line-height: 100%;\n",
       "        leading-trim: both;\n",
       "        text-edge: cap;\n",
       "        color: #17161D;\n",
       "    }\n",
       "\n",
       "  .header-3 {\n",
       "        font-style: normal;\n",
       "        font-weight: 600;\n",
       "        font-size:  1.44em;\n",
       "        line-height: 100%;\n",
       "        leading-trim: both;\n",
       "        text-edge: cap;\n",
       "        color: var(--tertiary-color);\n",
       "    }\n",
       "\n",
       "  .header-4 {\n",
       "        font-style: normal;\n",
       "        font-weight: 600;\n",
       "        font-size: 1.2em;\n",
       "        line-height: 100%;\n",
       "        leading-trim: both;\n",
       "        text-edge: cap;\n",
       "        color: #17161D;\n",
       "    }\n",
       "\n",
       "    .paragraph {\n",
       "        font-style: normal;\n",
       "        font-weight: 400;\n",
       "        font-size: 14px;\n",
       "        line-height: 100%;\n",
       "        leading-trim: both;\n",
       "        text-edge: cap;\n",
       "        color: #2E2B3B;\n",
       "    }\n",
       "\n",
       "    .paragraph-sm {\n",
       "        font-family: 'Roboto';\n",
       "        font-style: normal;\n",
       "        font-weight: 400;\n",
       "        font-size: 11.62px;\n",
       "        line-height: 100%;\n",
       "        leading-trim: both;\n",
       "        text-edge: cap;\n",
       "        color: #2E2B3B;\n",
       "    }\n",
       "    .code-text {\n",
       "        font-family: 'Consolas';\n",
       "        font-style: normal;\n",
       "        font-weight: 400;\n",
       "        font-size: 13px;\n",
       "        line-height: 130%;\n",
       "        leading-trim: both;\n",
       "        text-edge: cap;\n",
       "        color: #2E2B3B;\n",
       "    }\n",
       "\n",
       "    .numbering-entry { display: none }\n",
       "\n",
       "    /* Tooltip container */\n",
       "    .tooltip {\n",
       "        position: relative;\n",
       "        display: inline-block;\n",
       "        border-bottom: 1px dotted black; /* If you want dots under the hoverable text */\n",
       "    }\n",
       "\n",
       "    /* Tooltip text */\n",
       "    .tooltip .tooltiptext {\n",
       "        visibility: hidden;\n",
       "        width: 120px;\n",
       "        background-color: black;\n",
       "        color: #fff;\n",
       "        text-align: center;\n",
       "        padding: 5px 0;\n",
       "        border-radius: 6px;\n",
       "\n",
       "        /* Position the tooltip text - see examples below! */\n",
       "        position: absolute;\n",
       "        z-index: 1;\n",
       "    }\n",
       "\n",
       "    .repr-cell {\n",
       "      padding-top: 20px;\n",
       "    }\n",
       "\n",
       "    .text-bold {\n",
       "        font-weight: bold;\n",
       "    }\n",
       "\n",
       "    .pr-8 {\n",
       "        padding-right: 8px;\n",
       "    }\n",
       "    .pt-8 {\n",
       "        padding-top: 8px;\n",
       "    }\n",
       "    .pl-8 {\n",
       "        padding-left: 8px;\n",
       "    }\n",
       "    .pb-8 {\n",
       "        padding-bottom: 8px;\n",
       "    }\n",
       "\n",
       "    .py-25{\n",
       "        padding-top: 25px;\n",
       "        padding-bottom: 25px;\n",
       "    }\n",
       "\n",
       "    .flex {\n",
       "        display: flex;\n",
       "    }\n",
       "\n",
       "    .gap-10 {\n",
       "        gap: 10px;\n",
       "    }\n",
       "    .items-center{\n",
       "        align-items: center;\n",
       "    }\n",
       "\n",
       "    .folder-icon {\n",
       "        color: var(--tertiary-color);\n",
       "    }\n",
       "\n",
       "    .search-input{\n",
       "        display: flex;\n",
       "        flex-direction: row;\n",
       "        align-items: center;\n",
       "        padding: 8px 12px;\n",
       "        width: 343px;\n",
       "        height: 24px;\n",
       "        /* Lt On Surface/Low */\n",
       "        background-color: var(--secondary-color);\n",
       "        border-radius: 30px;\n",
       "\n",
       "        /* Lt On Surface/Highest */\n",
       "        color: var(--tertiary-color);\n",
       "        border:none;\n",
       "        /* Inside auto layout */\n",
       "        flex: none;\n",
       "        order: 0;\n",
       "        flex-grow: 0;\n",
       "    }\n",
       "    .search-input:focus {\n",
       "        outline: none;\n",
       "    }\n",
       "        .search-input:focus::placeholder,\n",
       "    .search-input::placeholder { /* Chrome, Firefox, Opera, Safari 10.1+ */\n",
       "        color: var(--tertiary-color);\n",
       "        opacity: 1; /* Firefox */\n",
       "    }\n",
       "\n",
       "    .search-button{\n",
       "        /* Search */\n",
       "        leading-trim: both;\n",
       "        text-edge: cap;\n",
       "        display: flex;\n",
       "        align-items: center;\n",
       "        text-align: center;\n",
       "\n",
       "        /* Primary/On Light */\n",
       "        background-color: var(--button-color);\n",
       "        color: var(--tertiary-color);\n",
       "\n",
       "        border-radius: 30px;\n",
       "        border-color: var(--secondary-color);\n",
       "        border-style: solid;\n",
       "        box-shadow: rgba(60, 64, 67, 0.3) 0px 1px 2px 0px, rgba(60, 64, 67, 0.15) 0px 1px 3px 1px;\n",
       "        cursor: pointer;\n",
       "        /* Inside auto layout */\n",
       "        flex: none;\n",
       "        order: 1;\n",
       "        flex-grow: 0;\n",
       "    }\n",
       "\n",
       "    .grid-table1eb2fde2193f438eaee61381bef8972e {\n",
       "        display:grid;\n",
       "        grid-template-columns: 1fr repeat(24, 1fr);\n",
       "        grid-template-rows: repeat(2, 1fr);\n",
       "        overflow-x: auto;\n",
       "    }\n",
       "\n",
       "    .grid-std-cells {\n",
       "        grid-column: span 4;\n",
       "\n",
       "    }\n",
       "    .grid-index-cells {\n",
       "        grid-column: span 1;\n",
       "        /* tmp fix to make left col stand out (fix with font-family) */\n",
       "        font-weight: 600;\n",
       "        background-color: var(--secondary-color) !important;\n",
       "        color: var(--tertiary-color);\n",
       "    }\n",
       "\n",
       "    .grid-header {\n",
       "        /* Auto layout */\n",
       "        display: flex;\n",
       "        flex-direction: column;\n",
       "        align-items: center;\n",
       "        padding: 6px 4px;\n",
       "\n",
       "        /* Lt On Surface/Surface */\n",
       "        /* Lt On Surface/High */\n",
       "        border: 1px solid #CFCDD6;\n",
       "        /* tmp fix to make header stand out (fix with font-family) */\n",
       "        font-weight: 600;\n",
       "        background-color: var(--secondary-color);\n",
       "        color: var(--tertiary-color);\n",
       "    }\n",
       "\n",
       "    .grid-row {\n",
       "        display: flex;\n",
       "        flex-direction: column;\n",
       "        align-items: flex-start;\n",
       "        padding: 6px 4px;\n",
       "        overflow: hidden;\n",
       "        border: 1px solid #CFCDD6;\n",
       "        background-color: var(--primary-color);\n",
       "        color: var(--tertiary-color);\n",
       "    }\n",
       "\n",
       "    .badge {\n",
       "        code-text;\n",
       "        border-radius: 30px;\n",
       "    }\n",
       "\n",
       "    .badge-blue {\n",
       "        badge;\n",
       "        background-color: #C2DEF0;\n",
       "        color: #1F567A;\n",
       "    }\n",
       "\n",
       "    .badge-purple {\n",
       "        badge;\n",
       "        background-color: #C9CFE8;\n",
       "        color: #373B7B;\n",
       "    }\n",
       "\n",
       "    .badge-green {\n",
       "        badge;\n",
       "\n",
       "        /* Success/Container */\n",
       "        background-color: #D5F1D5;\n",
       "        color: #256B24;\n",
       "    }\n",
       "\n",
       "    .badge-red {\n",
       "        badge;\n",
       "        background-color: #F2D9DE;\n",
       "        color: #9B2737;\n",
       "    }\n",
       "\n",
       "    .badge-gray {\n",
       "        badge;\n",
       "        background-color: #ECEBEF;\n",
       "        color: #2E2B3B;\n",
       "    }\n",
       "    .paginationContainer{\n",
       "        width: 100%;\n",
       "        height: 30px;\n",
       "        display: flex;\n",
       "        justify-content: center;\n",
       "        gap: 8px;\n",
       "        padding: 5px;\n",
       "        color: var(--tertiary-color);\n",
       "    }\n",
       "\n",
       "    .page{\n",
       "        color: black;\n",
       "        font-weight: bold;\n",
       "        color: var(--tertiary-color);\n",
       "    }\n",
       "    .page:hover {\n",
       "      color: #38bdf8;\n",
       "      cursor: pointer;\n",
       "    }\n",
       "    .clipboard:hover{\n",
       "        cursor: pointer;\n",
       "        color: var(--tertiary-color);\n",
       "    }\n",
       "\n",
       "    .search-field {\n",
       "        display: flex;\n",
       "        align-items: center;\n",
       "        border-radius: 30px;\n",
       "        background-color: var(--secondary-color);\n",
       "    }\n",
       "\n",
       "    .syft-dropdown {\n",
       "        margin: 5px;\n",
       "        margin-left: 5px;\n",
       "        position: relative;\n",
       "        display: inline-block;\n",
       "        text-align: center;\n",
       "        background-color: var(--button-color);\n",
       "        min-width: 100px;\n",
       "        padding: 2px;\n",
       "        border-radius: 30px;\n",
       "    }\n",
       "\n",
       "    .syft-dropdown:hover {\n",
       "        cursor: pointer;\n",
       "    }\n",
       "    .syft-dropdown-content {\n",
       "        margin-top:26px;\n",
       "        display: none;\n",
       "        position: absolute;\n",
       "        min-width: 100px;\n",
       "        box-shadow: 0px 8px 16px 0px rgba(0,0,0,0.2);\n",
       "        padding: 12px 6px;\n",
       "        z-index: 1;\n",
       "        background-color: var(--primary-color);\n",
       "        color: var(--tertiary-color);\n",
       "    }\n",
       "    .dd-options {\n",
       "        padding-top: 4px;\n",
       "    }\n",
       "    .dd-options:first-of-type {\n",
       "        padding-top: 0px;\n",
       "    }\n",
       "\n",
       "    .dd-options:hover {\n",
       "        cursor: pointer;\n",
       "        background: #d1d5db;\n",
       "    }\n",
       "    .arrow {\n",
       "        border: solid black;\n",
       "        border-width: 0 3px 3px 0;\n",
       "        display: inline-block;\n",
       "        padding: 3px;\n",
       "    }\n",
       "    .down {\n",
       "        transform: rotate(45deg);\n",
       "        -webkit-transform: rotate(45deg);\n",
       "    }\n",
       "</style>\n",
       "\n",
       "\n",
       "    <div style='margin-top:15px;'>\n",
       "        <div class='flex gap-10' style='align-items: center;'>\n",
       "            <div class='folder-icon'><svg width=\"32\" height=\"32\" viewBox=\"0 0 32 32\" fill=\"none\" xmlns=\"http://www.w3.org/2000/svg\"> <path d=\"M28 6H4C3.73478 6 3.48043 6.10536 3.29289 6.29289C3.10536 6.48043 3 6.73478 3 7V24C3 24.5304 3.21071 25.0391 3.58579 25.4142C3.96086 25.7893 4.46957 26 5 26H27C27.5304 26 28.0391 25.7893 28.4142 25.4142C28.7893 25.0391 29 24.5304 29 24V7C29 6.73478 28.8946 6.48043 28.7071 6.29289C28.5196 6.10536 28.2652 6 28 6ZM5 14H10V18H5V14ZM12 14H27V18H12V14ZM27 8V12H5V8H27ZM5 20H10V24H5V20ZM27 24H12V20H27V24Z\" fill=\"#343330\"/></svg></div>\n",
       "            <div><p class='header-3'>UserCodeStatusChange List</p></div>\n",
       "        </div>\n",
       "\n",
       "            <div style=\"padding-top: 16px; display:flex;justify-content: space-between; align-items: center;\">\n",
       "                <div class='pt-25 gap-10' style=\"display:flex;\">\n",
       "                    <div class=\"search-field\">\n",
       "                        <div id='search-menu1eb2fde2193f438eaee61381bef8972e' class=\"syft-dropdown\" onclick=\"{\n",
       "                            let doc = document.getElementById('search-dropdown-content1eb2fde2193f438eaee61381bef8972e')\n",
       "                            if (doc.style.display === 'block'){\n",
       "                                doc.style.display = 'none'\n",
       "                            } else {\n",
       "                                doc.style.display = 'block'\n",
       "                            }\n",
       "                            }\">\n",
       "                            <div id='search-dropdown-content1eb2fde2193f438eaee61381bef8972e' class='syft-dropdown-content'></div>\n",
       "                            <script>\n",
       "                                var element1eb2fde2193f438eaee61381bef8972e = [{\"id\": {\"value\": \"10b963b38ce84f16b3f67afa4b91f793\", \"type\": \"clipboard\"}, \"link.service_func_name\": \"compute_mean\", \"link.input_policy_type.__canonical_name__\": \"ExactMatch\", \"link.output_policy_type.__canonical_name__\": \"OutputPolicyExecuteOnce\", \"link.worker_pool_name\": \"default-pool\", \"link.status.approved\": \"False\"}]\n",
       "                                var page_size1eb2fde2193f438eaee61381bef8972e = 1\n",
       "                                var pageIndex1eb2fde2193f438eaee61381bef8972e = 1\n",
       "                                var paginatedElements1eb2fde2193f438eaee61381bef8972e = []\n",
       "                                var activeFilter1eb2fde2193f438eaee61381bef8972e;\n",
       "\n",
       "                                function buildDropDownMenu(elements){\n",
       "                                    let init_filter;\n",
       "                                    let menu = document.getElementById('search-dropdown-content1eb2fde2193f438eaee61381bef8972e')\n",
       "                                    if (elements.length > 0) {\n",
       "                                        let sample = elements[0]\n",
       "                                        for (const attr in sample) {\n",
       "                                            if (typeof init_filter === 'undefined'){\n",
       "                                                init_filter = attr;\n",
       "                                            }\n",
       "                                            let content = document.createElement('div');\n",
       "                                            content.onclick = function(event) {\n",
       "                                                event.stopPropagation()\n",
       "                                                document.getElementById('menu-active-filter1eb2fde2193f438eaee61381bef8972e').innerText = attr;\n",
       "                                                activeFilter1eb2fde2193f438eaee61381bef8972e = attr;\n",
       "                                                document.getElementById(\n",
       "                                                    'search-dropdown-content1eb2fde2193f438eaee61381bef8972e'\n",
       "                                                ).style.display= 'none';\n",
       "                                            }\n",
       "                                            content.classList.add(\"dd-options\");\n",
       "                                            content.innerText = attr;\n",
       "                                            menu.appendChild(content);\n",
       "                                        }\n",
       "                                    } else {\n",
       "                                        let init_filter = '---'\n",
       "                                    }\n",
       "                                    let dropdown_field = document.getElementById('search-menu1eb2fde2193f438eaee61381bef8972e')\n",
       "                                    let span = document.createElement('span')\n",
       "                                    span.setAttribute('id', 'menu-active-filter1eb2fde2193f438eaee61381bef8972e')\n",
       "                                    span.innerText = init_filter\n",
       "                                    activeFilter1eb2fde2193f438eaee61381bef8972e = init_filter;\n",
       "                                    dropdown_field.appendChild(span)\n",
       "                                }\n",
       "\n",
       "                                buildDropDownMenu(element1eb2fde2193f438eaee61381bef8972e)\n",
       "                            </script>\n",
       "                        </div>\n",
       "                        <input id='searchKey1eb2fde2193f438eaee61381bef8972e' class='search-input' placeholder='Enter search here ...'  />\n",
       "                    </div>\n",
       "                    <button class='search-button' type=\"button\" onclick=\"searchGrid1eb2fde2193f438eaee61381bef8972e(element1eb2fde2193f438eaee61381bef8972e)\">\n",
       "                        <svg width=\"11\" height=\"10\" viewBox=\"0 0 11 10\" fill=\"none\" xmlns=\"http://www.w3.org/2000/svg\"><path d=\"M10.5652 9.23467L8.21819 6.88811C8.89846 6.07141 9.23767 5.02389 9.16527 3.96345C9.09287 2.90302 8.61443 1.91132 7.82948 1.19466C7.04453 0.477995 6.01349 0.0915414 4.95087 0.115691C3.88824 0.139841 2.87583 0.572735 2.12425 1.32432C1.37266 2.0759 0.939768 3.08831 0.915618 4.15094C0.891468 5.21357 1.27792 6.2446 1.99459 7.02955C2.71125 7.8145 3.70295 8.29294 4.76338 8.36535C5.82381 8.43775 6.87134 8.09853 7.68804 7.41827L10.0346 9.7653C10.0694 9.80014 10.1108 9.82778 10.1563 9.84663C10.2018 9.86549 10.2506 9.87519 10.2999 9.87519C10.3492 9.87519 10.398 9.86549 10.4435 9.84663C10.489 9.82778 10.5304 9.80014 10.5652 9.7653C10.6001 9.73046 10.6277 9.68909 10.6466 9.64357C10.6654 9.59805 10.6751 9.54926 10.6751 9.49998C10.6751 9.45071 10.6654 9.40192 10.6466 9.3564C10.6277 9.31088 10.6001 9.26951 10.5652 9.23467ZM1.67491 4.24998C1.67491 3.58247 1.87285 2.92995 2.2437 2.37493C2.61455 1.81992 3.14165 1.38734 3.75835 1.13189C4.37506 0.876446 5.05366 0.809609 5.70834 0.939835C6.36303 1.07006 6.96439 1.3915 7.4364 1.8635C7.9084 2.3355 8.22984 2.93687 8.36006 3.59155C8.49029 4.24624 8.42345 4.92484 8.168 5.54154C7.91256 6.15824 7.47998 6.68535 6.92496 7.05619C6.36995 7.42704 5.71742 7.62498 5.04991 7.62498C4.15511 7.62399 3.29724 7.26809 2.66452 6.63537C2.0318 6.00265 1.6759 5.14479 1.67491 4.24998Z\" fill=\"currentColor\"/></svg>\n",
       "                        <span class='pl-8'>Search</span>\n",
       "                    </button>\n",
       "                </div>\n",
       "\n",
       "                <div><h4 id='total1eb2fde2193f438eaee61381bef8972e'>0</h4></div>\n",
       "            </div>\n",
       "            <div id='table1eb2fde2193f438eaee61381bef8972e' class='grid-table1eb2fde2193f438eaee61381bef8972e' style='margin-top: 25px;'>\n",
       "                <script>\n",
       "                    function paginate1eb2fde2193f438eaee61381bef8972e(arr, size) {\n",
       "                        const res = [];\n",
       "                        for (let i = 0; i < arr.length; i += size) {\n",
       "                            const chunk = arr.slice(i, i + size);\n",
       "                            res.push(chunk);\n",
       "                        }\n",
       "\n",
       "                        return res;\n",
       "                    }\n",
       "\n",
       "                    function searchGrid1eb2fde2193f438eaee61381bef8972e(elements){\n",
       "                        let searchKey = document.getElementById('searchKey1eb2fde2193f438eaee61381bef8972e').value;\n",
       "                        let result;\n",
       "                        if (searchKey === ''){\n",
       "                            result = elements;\n",
       "                        } else {\n",
       "                            result = elements.filter((element) => {\n",
       "                                let property = element[activeFilter1eb2fde2193f438eaee61381bef8972e]\n",
       "                                if (typeof property === 'object' && property !== null){\n",
       "                                    return property.value.toLowerCase().includes(searchKey.toLowerCase());\n",
       "                                } else if (typeof property === 'string' ) {\n",
       "                                    return element[activeFilter1eb2fde2193f438eaee61381bef8972e].toLowerCase().includes(searchKey.toLowerCase());\n",
       "                                } else if (property !== null ) {\n",
       "                                    return element[activeFilter1eb2fde2193f438eaee61381bef8972e].toString() === searchKey;\n",
       "                                } else {\n",
       "                                    return element[activeFilter1eb2fde2193f438eaee61381bef8972e] === searchKey;\n",
       "                                }\n",
       "                            } );\n",
       "                        }\n",
       "                        resetById1eb2fde2193f438eaee61381bef8972e('table1eb2fde2193f438eaee61381bef8972e');\n",
       "                        resetById1eb2fde2193f438eaee61381bef8972e('pag1eb2fde2193f438eaee61381bef8972e');\n",
       "                        result = paginate1eb2fde2193f438eaee61381bef8972e(result, page_size1eb2fde2193f438eaee61381bef8972e)\n",
       "                        paginatedElements1eb2fde2193f438eaee61381bef8972e = result\n",
       "                        buildGrid1eb2fde2193f438eaee61381bef8972e(result,pageIndex1eb2fde2193f438eaee61381bef8972e);\n",
       "                        buildPaginationContainer1eb2fde2193f438eaee61381bef8972e(result);\n",
       "                    }\n",
       "\n",
       "                    function resetById1eb2fde2193f438eaee61381bef8972e(id){\n",
       "                        let element = document.getElementById(id);\n",
       "                        while (element.firstChild) {\n",
       "                          element.removeChild(element.firstChild);\n",
       "                        }\n",
       "                    }\n",
       "\n",
       "                    function buildGrid1eb2fde2193f438eaee61381bef8972e(items, pageIndex){\n",
       "                                let headers = Object.keys(element1eb2fde2193f438eaee61381bef8972e[0]);\n",
       "\n",
       "                                let grid = document.getElementById(\"table1eb2fde2193f438eaee61381bef8972e\");\n",
       "                                let div = document.createElement(\"div\");\n",
       "                                div.classList.add('grid-header', 'grid-index-cells');\n",
       "                                grid.appendChild(div);\n",
       "                                headers.forEach((title) =>{\n",
       "                                    let div = document.createElement(\"div\");\n",
       "                                    div.classList.add('grid-header', 'grid-std-cells');\n",
       "                                    div.innerText = title;\n",
       "\n",
       "                                    grid.appendChild(div);\n",
       "                                });\n",
       "\n",
       "                                let page = items[pageIndex -1]\n",
       "                                if (page !== 'undefine'){\n",
       "                                    let table_index1eb2fde2193f438eaee61381bef8972e = ((pageIndex - 1) * page_size1eb2fde2193f438eaee61381bef8972e)\n",
       "                                    page.forEach((item) => {\n",
       "                                        let grid = document.getElementById(\"table1eb2fde2193f438eaee61381bef8972e\");\n",
       "                                        // Add new index value in index cells\n",
       "                                        let divIndex = document.createElement(\"div\");\n",
       "                                        divIndex.classList.add('grid-row', 'grid-index-cells');\n",
       "                                        divIndex.innerText = table_index1eb2fde2193f438eaee61381bef8972e;\n",
       "                                        grid.appendChild(divIndex);\n",
       "\n",
       "                                        // Iterate over the actual obj\n",
       "                                        for (const attr in item) {\n",
       "                                            let div = document.createElement(\"div\");\n",
       "                                            if (typeof item[attr] === 'object'\n",
       "                                                && item[attr] !== null\n",
       "                                                && item[attr].hasOwnProperty('type')) {\n",
       "                                                if (item[attr].type.includes('badge')){\n",
       "                                                    let badge_div = document.createElement(\"div\");\n",
       "                                                    badge_div.classList.add('badge',item[attr].type)\n",
       "                                                    badge_div.innerText = String(item[attr].value).toUpperCase();\n",
       "                                                    div.appendChild(badge_div);\n",
       "                                                    div.classList.add('grid-row','grid-std-cells');\n",
       "                                                } else if (item[attr].type === \"clipboard\") {\n",
       "                                                    div.classList.add('grid-row','grid-std-cells');\n",
       "\n",
       "                                                    // Create clipboard div\n",
       "                                                    let clipboard_div = document.createElement('div');\n",
       "                                                    clipboard_div.style.display= 'flex';\n",
       "                                                    clipboard_div.classList.add(\"gap-10\")\n",
       "                                                    clipboard_div.style.justifyContent = \"space-between\";\n",
       "\n",
       "                                                    let id_text = document.createElement('div');\n",
       "                                                    if (item[attr].value == \"None\"){\n",
       "                                                        id_text.innerText = \"None\";\n",
       "                                                    }\n",
       "                                                    else{\n",
       "                                                        id_text.innerText = item[attr].value.slice(0,5) + \"...\";\n",
       "                                                    }\n",
       "\n",
       "                                                    clipboard_div.appendChild(id_text);\n",
       "                                                    let clipboard_img = document.createElement('div');\n",
       "                                                    clipboard_img.classList.add(\"clipboard\")\n",
       "                                                    div.onclick = function() {\n",
       "                                                        navigator.clipboard.writeText(item[attr].value);\n",
       "                                                    };\n",
       "                                                    clipboard_img.innerHTML = \"<svg width='8' height='8' viewBox='0 0 8 8' fill='none' xmlns='http://www.w3.org/2000/svg'><path d='M7.4375 0.25H2.4375C2.35462 0.25 2.27513 0.282924 2.21653 0.341529C2.15792 0.400134 2.125 0.47962 2.125 0.5625V2.125H0.5625C0.47962 2.125 0.400134 2.15792 0.341529 2.21653C0.282924 2.27513 0.25 2.35462 0.25 2.4375V7.4375C0.25 7.52038 0.282924 7.59987 0.341529 7.65847C0.400134 7.71708 0.47962 7.75 0.5625 7.75H5.5625C5.64538 7.75 5.72487 7.71708 5.78347 7.65847C5.84208 7.59987 5.875 7.52038 5.875 7.4375V5.875H7.4375C7.52038 5.875 7.59987 5.84208 7.65847 5.78347C7.71708 5.72487 7.75 5.64538 7.75 5.5625V0.5625C7.75 0.47962 7.71708 0.400134 7.65847 0.341529C7.59987 0.282924 7.52038 0.25 7.4375 0.25ZM5.25 7.125H0.875V2.75H5.25V7.125ZM7.125 5.25H5.875V2.4375C5.875 2.35462 5.84208 2.27513 5.78347 2.21653C5.72487 2.15792 5.64538 2.125 5.5625 2.125H2.75V0.875H7.125V5.25Z' fill='#464158'/></svg>\";\n",
       "\n",
       "                                                    clipboard_div.appendChild(clipboard_img);\n",
       "                                                    div.appendChild(clipboard_div);\n",
       "                                                }\n",
       "                                            } else{\n",
       "                                                div.classList.add('grid-row','grid-std-cells');\n",
       "                                                if (item[attr] == null) {\n",
       "                                                    text = ' '\n",
       "                                                } else {\n",
       "                                                    text = String(item[attr])\n",
       "                                                }\n",
       "                                                if (text.length > 150){\n",
       "                                                    text = text.slice(0,150) + \"...\";\n",
       "                                                }\n",
       "                                                text = text.replaceAll(\"\\n\", \"</br>\");\n",
       "                                                div.innerHTML = text;\n",
       "                                            }\n",
       "                                            grid.appendChild(div);\n",
       "                                        }\n",
       "                                    table_index1eb2fde2193f438eaee61381bef8972e = table_index1eb2fde2193f438eaee61381bef8972e + 1;\n",
       "                                    })\n",
       "                                }\n",
       "                    }\n",
       "                    paginatedElements1eb2fde2193f438eaee61381bef8972e = paginate1eb2fde2193f438eaee61381bef8972e(element1eb2fde2193f438eaee61381bef8972e, page_size1eb2fde2193f438eaee61381bef8972e)\n",
       "                    buildGrid1eb2fde2193f438eaee61381bef8972e(paginatedElements1eb2fde2193f438eaee61381bef8972e, 1)\n",
       "                    document.getElementById('total1eb2fde2193f438eaee61381bef8972e').innerText = \"Total: \" + element1eb2fde2193f438eaee61381bef8972e.length\n",
       "                </script>\n",
       "            </div>\n",
       "            <div id='pag1eb2fde2193f438eaee61381bef8972e' class='paginationContainer'>\n",
       "                <script>\n",
       "                    function buildPaginationContainer1eb2fde2193f438eaee61381bef8972e(paginatedElements){\n",
       "                            let pageContainer = document.getElementById(\"pag1eb2fde2193f438eaee61381bef8972e\");\n",
       "                            for (let i = 0; i < paginatedElements.length; i++) {\n",
       "                                  let div = document.createElement(\"div\");\n",
       "                                  div.classList.add('page');\n",
       "                                  if(i===0) div.style.color = \"gray\";\n",
       "                                  else div.style.color = 'var(--tertiary-color, \"gray\")';\n",
       "                                  div.onclick = function(event) {\n",
       "                                      let indexes = document.getElementsByClassName('page');\n",
       "                                      for (let index of indexes) { index.style.color = 'var(--tertiary-color, \"gray\")' }\n",
       "                                      event.target.style.color = \"gray\";\n",
       "                                      setPage1eb2fde2193f438eaee61381bef8972e(i + 1);\n",
       "                                  };\n",
       "                                  div.innerText = i + 1;\n",
       "                                  pageContainer.appendChild(div);\n",
       "                            }\n",
       "                    }\n",
       "\n",
       "                    function setPage1eb2fde2193f438eaee61381bef8972e(newPage){\n",
       "                        pageIndex = newPage\n",
       "                        resetById1eb2fde2193f438eaee61381bef8972e('table1eb2fde2193f438eaee61381bef8972e')\n",
       "                        buildGrid1eb2fde2193f438eaee61381bef8972e(paginatedElements1eb2fde2193f438eaee61381bef8972e, pageIndex)\n",
       "                    }\n",
       "\n",
       "                    buildPaginationContainer1eb2fde2193f438eaee61381bef8972e(paginatedElements1eb2fde2193f438eaee61381bef8972e)\n",
       "                </script>\n",
       "            </div>\n",
       "        </div>\n"
      ],
      "text/plain": [
       "[syft.service.request.request.UserCodeStatusChange]"
      ]
     },
     "execution_count": 11,
     "metadata": {},
     "output_type": "execute_result"
    }
   ],
   "source": [
    "request.changes"
   ]
  },
  {
   "cell_type": "code",
   "execution_count": 12,
   "id": "f6d657a2",
   "metadata": {},
   "outputs": [],
   "source": [
    "items_to_sync = [request, code]"
   ]
  },
  {
   "cell_type": "markdown",
   "id": "205f03b0",
   "metadata": {},
   "source": [
    "- What do we do with properties here?\n",
    "  - just set them to None"
   ]
  },
  {
   "cell_type": "code",
   "execution_count": 13,
   "id": "07b8608d",
   "metadata": {},
   "outputs": [],
   "source": [
    "def get_stash_for_item(item, node):\n",
    "    services = list(node.python_node.service_path_map.values())\n",
    "\n",
    "    all_stashes = dict()\n",
    "    for serv in services:\n",
    "        if (_stash := getattr(serv, \"stash\", None)) is not None:\n",
    "            all_stashes[_stash.object_type] = _stash\n",
    "\n",
    "    stash = all_stashes.get(type(item), None)\n",
    "    return stash"
   ]
  },
  {
   "cell_type": "code",
   "execution_count": 14,
   "id": "41df6531",
   "metadata": {},
   "outputs": [],
   "source": [
    "# job.node_uid"
   ]
  },
  {
   "cell_type": "code",
   "execution_count": 15,
   "id": "8d20c4b2",
   "metadata": {},
   "outputs": [
    {
     "data": {
      "text/plain": [
       "<UID: 8212e6797fde4c3fba4fc53ab555a886>"
      ]
     },
     "execution_count": 15,
     "metadata": {},
     "output_type": "execute_result"
    }
   ],
   "source": [
    "node_high.python_node.id"
   ]
  },
  {
   "cell_type": "code",
   "execution_count": 16,
   "id": "7891775a",
   "metadata": {},
   "outputs": [],
   "source": [
    "def set_obj_ids(x, node_uid, verify_key):\n",
    "    if hasattr(x, \"__dict__\") and isinstance(x, SyftObject):\n",
    "        for prop, val in x.__dict__.items():\n",
    "            if isinstance(val, (list, tuple)):\n",
    "                for v in val:\n",
    "                    set_obj_ids(v, node_uid, verify_key)\n",
    "            elif isinstance(val, dict):\n",
    "                for v in val.values():\n",
    "                    set_obj_ids(v, node_uid, verify_key)\n",
    "            else:\n",
    "                set_obj_ids(val, node_uid, verify_key)\n",
    "        x.syft_node_location=node_uid\n",
    "        x.syft_client_verify_key=verify_key\n",
    "        if hasattr(x, \"node_uid\"):\n",
    "            x.node_uid=node_uid\n",
    "                    \n",
    "                    \n",
    "    # TODO: hadnle nested collections\n",
    "            "
   ]
  },
  {
   "cell_type": "code",
   "execution_count": 17,
   "id": "48e73a5c",
   "metadata": {},
   "outputs": [],
   "source": [
    "def create_actionobject(action_object, client):\n",
    "    action_object = action_object.refresh_object()\n",
    "    res = client.api.services.action.set(action_object)\n",
    "    print(\"Created\", res)"
   ]
  },
  {
   "cell_type": "code",
   "execution_count": 18,
   "id": "ac7dc878",
   "metadata": {},
   "outputs": [],
   "source": [
    "def sync_items(items, node, client):\n",
    "    for item in items_to_sync:\n",
    "        \n",
    "        if isinstance(item, ActionObject):\n",
    "            create_actionobject(item, client)\n",
    "\n",
    "        else:\n",
    "            stash = get_stash_for_item(item, node)\n",
    "\n",
    "            set_obj_ids(item, client.id, client.verify_key)\n",
    "\n",
    "            res = stash.delete_by_uid(node.python_node.verify_key, item.id)\n",
    "\n",
    "            res = stash.set(node.python_node.verify_key, item)\n",
    "            if not res.is_ok():\n",
    "                raise ValueError(\"\")\n",
    "            else:\n",
    "                print(\"created\", item)"
   ]
  },
  {
   "cell_type": "code",
   "execution_count": 19,
   "id": "a4fc133f",
   "metadata": {},
   "outputs": [
    {
     "name": "stdout",
     "output_type": "stream",
     "text": [
      "created syft.service.request.request.Request\n",
      "created syft.service.code.user_code.UserCode\n"
     ]
    }
   ],
   "source": [
    "sync_items(items_to_sync, node_high, client_high)"
   ]
  },
  {
   "cell_type": "markdown",
   "id": "3f94e740",
   "metadata": {},
   "source": [
    "# Run code high and sync back result"
   ]
  },
  {
   "cell_type": "code",
   "execution_count": 20,
   "id": "787681b5",
   "metadata": {},
   "outputs": [],
   "source": [
    "client_high._fetch_api(client_high.credentials)"
   ]
  },
  {
   "cell_type": "code",
   "execution_count": 21,
   "id": "779f3fa0",
   "metadata": {},
   "outputs": [],
   "source": [
    "data_high = client_high.datasets[0].assets[0]"
   ]
  },
  {
   "cell_type": "code",
   "execution_count": 22,
   "id": "e3fc5218",
   "metadata": {},
   "outputs": [
    {
     "data": {
      "text/markdown": [
       "```python\n",
       "class Job:\n",
       "    id: UID = 159bf580d1ae4d43afe4687d0702df3c\n",
       "    status: created\n",
       "    has_parent: False\n",
       "    result: syft.service.action.action_data_empty.ObjectNotReady\n",
       "    logs:\n",
       "\n",
       "0 \n",
       "    \n",
       "```"
      ],
      "text/plain": [
       "syft.service.job.job_stash.Job"
      ]
     },
     "metadata": {},
     "output_type": "display_data"
    }
   ],
   "source": [
    "job_high = client_high.code.compute_mean(data=data_high, blocking=False)\n",
    "display(job_high)"
   ]
  },
  {
   "cell_type": "code",
   "execution_count": 23,
   "id": "a4a37ccb",
   "metadata": {},
   "outputs": [
    {
     "data": {
      "text/markdown": [
       "```python\n",
       "Pointer\n",
       "```\n",
       "17.0"
      ],
      "text/plain": [
       "Pointer:\n",
       "17.0"
      ]
     },
     "execution_count": 23,
     "metadata": {},
     "output_type": "execute_result"
    }
   ],
   "source": [
    "# wait for the result\n",
    "job_high.wait()"
   ]
  },
  {
   "cell_type": "code",
   "execution_count": 24,
   "id": "135a1cfe",
   "metadata": {},
   "outputs": [
    {
     "data": {
      "text/plain": [
       "17.0"
      ]
     },
     "execution_count": 24,
     "metadata": {},
     "output_type": "execute_result"
    }
   ],
   "source": [
    "job_high.result.get()"
   ]
  },
  {
   "cell_type": "code",
   "execution_count": 25,
   "id": "06d8ed44",
   "metadata": {},
   "outputs": [],
   "source": [
    "# create_actionobject(job_high.result, client_low)"
   ]
  },
  {
   "cell_type": "code",
   "execution_count": 26,
   "id": "2eec067c",
   "metadata": {},
   "outputs": [],
   "source": [
    "# res = item.wait()\n",
    "# res.get()\n",
    "# action_store = node_high.python_node.get_service(\"actionservice\").store\n",
    "# action_store.set(uid=item.id, credentials=client_high.verify_key, syft_object=item, has_result_read_permission=True)\n",
    "# stash = get_stash_for_item(item, node_high)\n",
    "# node_high.action_service"
   ]
  },
  {
   "cell_type": "code",
   "execution_count": 27,
   "id": "5fc1d44f",
   "metadata": {},
   "outputs": [],
   "source": [
    "request_high = client_high.requests[0]\n",
    "code = request_high.code\n",
    "log = job_high._get_log_objs()"
   ]
  },
  {
   "cell_type": "code",
   "execution_count": 28,
   "id": "9f61d5e2",
   "metadata": {},
   "outputs": [],
   "source": [
    "items_to_sync = [code, job_high.result, job_high, log]"
   ]
  },
  {
   "cell_type": "code",
   "execution_count": 29,
   "id": "ed6dca0b",
   "metadata": {},
   "outputs": [],
   "source": [
    "# x = job_high.result"
   ]
  },
  {
   "cell_type": "code",
   "execution_count": 30,
   "id": "f18b24eb",
   "metadata": {},
   "outputs": [],
   "source": [
    "# job_high.result.refresh_object()"
   ]
  },
  {
   "cell_type": "code",
   "execution_count": 31,
   "id": "f5f89da6",
   "metadata": {},
   "outputs": [],
   "source": [
    "# job_high.result"
   ]
  },
  {
   "cell_type": "code",
   "execution_count": 32,
   "id": "c1a823a8",
   "metadata": {},
   "outputs": [],
   "source": [
    "# job.node_uid"
   ]
  },
  {
   "cell_type": "code",
   "execution_count": 33,
   "id": "e728c84e",
   "metadata": {},
   "outputs": [],
   "source": [
    "# log.node_uid"
   ]
  },
  {
   "cell_type": "code",
   "execution_count": 34,
   "id": "82407a67",
   "metadata": {},
   "outputs": [],
   "source": [
    "# client_low.notifications[0]"
   ]
  },
  {
   "cell_type": "code",
   "execution_count": 35,
   "id": "acc60b71",
   "metadata": {},
   "outputs": [],
   "source": [
    "x = client_high.requests[0]"
   ]
  },
  {
   "cell_type": "code",
   "execution_count": 36,
   "id": "24b22f96",
   "metadata": {},
   "outputs": [
    {
     "name": "stdout",
     "output_type": "stream",
     "text": [
      "Approving request for domain test_h\n"
     ]
    },
    {
     "data": {
      "text/plain": [
       "\"Cannot Modify Status as the Domain's data is not included in the request\""
      ]
     },
     "execution_count": 36,
     "metadata": {},
     "output_type": "execute_result"
    }
   ],
   "source": [
    "request_high.approve()"
   ]
  },
  {
   "cell_type": "code",
   "execution_count": 37,
   "id": "9ad37428",
   "metadata": {},
   "outputs": [],
   "source": [
    "# request.node_uid\n",
    "\n",
    "# request.syft_client_verify_key\n",
    "\n",
    "# # request\n",
    "\n",
    "# client_high.id\n",
    "\n",
    "# client_high.verify_key"
   ]
  },
  {
   "cell_type": "code",
   "execution_count": 38,
   "id": "b1676bc9",
   "metadata": {},
   "outputs": [],
   "source": [
    "# set_obj_ids(request, client_high.id, client_high.verify_key)\n",
    "\n",
    "# x.changes[0].linked_obj.node_uid\n",
    "\n",
    "# self.changes.linked_obj\n",
    "\n"
   ]
  },
  {
   "cell_type": "code",
   "execution_count": 39,
   "id": "babadc5e",
   "metadata": {},
   "outputs": [],
   "source": [
    "# from syft.client.api import APIRegistry\n",
    "\n",
    "# for x in APIRegistry.__api_registry__.keys():\n",
    "#     print(x)"
   ]
  },
  {
   "cell_type": "code",
   "execution_count": 40,
   "id": "afb38efc",
   "metadata": {},
   "outputs": [],
   "source": [
    "# usercode=list(node_high.python_node.get_service(\"usercodeservice\").stash.partition.data.values())[0]"
   ]
  },
  {
   "cell_type": "code",
   "execution_count": 41,
   "id": "3fa9fe98",
   "metadata": {},
   "outputs": [],
   "source": [
    "# usercode.output_policy"
   ]
  },
  {
   "cell_type": "code",
   "execution_count": 42,
   "id": "615290f5",
   "metadata": {},
   "outputs": [
    {
     "name": "stdout",
     "output_type": "stream",
     "text": [
      "created syft.service.code.user_code.UserCode\n",
      "Created 17.0\n",
      "created syft.service.job.job_stash.Job\n",
      "created syft.service.log.log.SyftLog\n"
     ]
    }
   ],
   "source": [
    "sync_items(items_to_sync, node_low, client_low)"
   ]
  },
  {
   "cell_type": "markdown",
   "id": "04dd5d24",
   "metadata": {},
   "source": [
    "# Run code low"
   ]
  },
  {
   "cell_type": "code",
   "execution_count": 43,
   "id": "252999ec",
   "metadata": {},
   "outputs": [],
   "source": [
    "res_low = client_low.code.compute_mean(data=data_low)"
   ]
  },
  {
   "cell_type": "code",
   "execution_count": 44,
   "id": "3cf5e51c",
   "metadata": {},
   "outputs": [],
   "source": [
    "# we need to sync the usercode itself\n"
   ]
  },
  {
   "cell_type": "code",
   "execution_count": 45,
   "id": "912fdc77",
   "metadata": {},
   "outputs": [
    {
     "data": {
      "text/plain": [
       "7.0"
      ]
     },
     "execution_count": 45,
     "metadata": {},
     "output_type": "execute_result"
    }
   ],
   "source": [
    "res_low.get()"
   ]
  },
  {
   "cell_type": "code",
   "execution_count": 46,
   "id": "7e971eea",
   "metadata": {},
   "outputs": [
    {
     "data": {
      "text/plain": [
       "17.0"
      ]
     },
     "execution_count": 46,
     "metadata": {},
     "output_type": "execute_result"
    }
   ],
   "source": [
    "private_high.mean()"
   ]
  },
  {
   "cell_type": "code",
   "execution_count": 47,
   "id": "aa774a56",
   "metadata": {},
   "outputs": [
    {
     "data": {
      "text/html": [
       "<div class=\"alert-warning\" style=\"padding:5px;\"><strong>SyftWarning</strong>: There are existing jobs for this user code, returning the latest one</div><br />"
      ],
      "text/plain": [
       "SyftWarning: There are existing jobs for this user code, returning the latest one"
      ]
     },
     "metadata": {},
     "output_type": "display_data"
    }
   ],
   "source": [
    "job_low = client_low.code.compute_mean(data=data_low, blocking=False)"
   ]
  },
  {
   "cell_type": "code",
   "execution_count": 48,
   "id": "22c34aaa",
   "metadata": {},
   "outputs": [
    {
     "data": {
      "text/markdown": [
       "```python\n",
       "class Job:\n",
       "    id: UID = 159bf580d1ae4d43afe4687d0702df3c\n",
       "    status: completed\n",
       "    has_parent: False\n",
       "    result: 17.0\n",
       "    logs:\n",
       "\n",
       "0 \n",
       "JOB COMPLETED\n",
       "    \n",
       "```"
      ],
      "text/plain": [
       "syft.service.job.job_stash.Job"
      ]
     },
     "execution_count": 48,
     "metadata": {},
     "output_type": "execute_result"
    }
   ],
   "source": [
    "job_low"
   ]
  },
  {
   "cell_type": "code",
   "execution_count": 49,
   "id": "8da1b271",
   "metadata": {},
   "outputs": [
    {
     "data": {
      "text/plain": [
       "17.0"
      ]
     },
     "execution_count": 49,
     "metadata": {},
     "output_type": "execute_result"
    }
   ],
   "source": [
    "job_low.wait().get()"
   ]
  },
  {
   "cell_type": "code",
   "execution_count": null,
   "id": "85360548",
   "metadata": {},
   "outputs": [],
   "source": []
  }
 ],
 "metadata": {
  "kernelspec": {
   "display_name": "Python 3 (ipykernel)",
   "language": "python",
   "name": "python3"
  },
  "language_info": {
   "codemirror_mode": {
    "name": "ipython",
    "version": 3
   },
   "file_extension": ".py",
   "mimetype": "text/x-python",
   "name": "python",
   "nbconvert_exporter": "python",
   "pygments_lexer": "ipython3",
   "version": "3.9.16"
  },
  "toc": {
   "base_numbering": 1,
   "nav_menu": {},
   "number_sections": true,
   "sideBar": true,
   "skip_h1_title": false,
   "title_cell": "Table of Contents",
   "title_sidebar": "Contents",
   "toc_cell": false,
   "toc_position": {},
   "toc_section_display": true,
   "toc_window_display": true
  }
 },
 "nbformat": 4,
 "nbformat_minor": 5
}
