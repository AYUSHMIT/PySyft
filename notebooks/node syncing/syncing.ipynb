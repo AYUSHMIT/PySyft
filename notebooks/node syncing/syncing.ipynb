{
 "cells": [
  {
   "cell_type": "code",
   "execution_count": 1,
   "id": "60b08c04",
   "metadata": {},
   "outputs": [
    {
     "name": "stderr",
     "output_type": "stream",
     "text": [
      "kj/filesystem-disk-unix.c++:1703: warning: PWD environment variable doesn't match current directory; pwd = /Users/koen/workspace/pysyft/notebooks\n"
     ]
    }
   ],
   "source": [
    "# syft absolute\n",
    "import syft as sy\n",
    "from syft.types.syft_object import SyftObject\n",
    "from syft import ActionObject\n",
    "# syft absolute\n",
    "from syft.service.user.user import UserCreate\n",
    "from syft.node.credentials import SyftVerifyKey\n",
    "from syft.service.action.action_permissions import ActionPermission, ActionObjectPermission\n",
    "\n",
    "from syft.service.job.job_stash import Job"
   ]
  },
  {
   "cell_type": "code",
   "execution_count": 2,
   "id": "d1db0f4f",
   "metadata": {},
   "outputs": [
    {
     "name": "stdout",
     "output_type": "stream",
     "text": [
      "Staging Protocol Changes...\n",
      "SQLite Store Path:\n",
      "!open file:///var/folders/q1/ryq93kwj055dlbpngxv1c7z40000gn/T/8a1c04544655402190588aec30079bc3.sqlite\n",
      "\n",
      "Creating default worker image with tag='local-dev'\n",
      "Building default worker image with tag=local-dev\n",
      "Setting up worker poolname=default-pool workers=1 image_uid=3a92ed96301f4d36a2b37493c23e5e45 in_memory=True\n",
      "Created default worker pool.\n",
      "Data Migrated to latest version !!!\n",
      "Staging Protocol Changes...\n",
      "SQLite Store Path:\n",
      "!open file:///var/folders/q1/ryq93kwj055dlbpngxv1c7z40000gn/T/8212e6797fde4c3fba4fc53ab555a886.sqlite\n",
      "\n",
      "Creating default worker image with tag='local-dev'\n",
      "Building default worker image with tag=local-dev\n",
      "Setting up worker poolname=default-pool workers=1 image_uid=de943908f0884d18b62b672277f5cec6 in_memory=True\n",
      "Created default worker pool.\n",
      "Data Migrated to latest version !!!\n"
     ]
    }
   ],
   "source": [
    "node_low = sy.orchestra.launch(\n",
    "    name=\"test_l\",\n",
    "    node_side_type=\"low\",\n",
    "    dev_mode=True,\n",
    "    reset=True,\n",
    "    local_db=True,\n",
    "    n_consumers=1,\n",
    "    create_producer=True,\n",
    ")\n",
    "node_high = sy.orchestra.launch(\n",
    "    name=\"test_h\",\n",
    "    node_side_type=\"high\",\n",
    "    dev_mode=True,\n",
    "    reset=True,\n",
    "    local_db=True,\n",
    "    n_consumers=1,\n",
    "    create_producer=True,\n",
    ")"
   ]
  },
  {
   "cell_type": "code",
   "execution_count": 3,
   "id": "c01949ef",
   "metadata": {},
   "outputs": [
    {
     "name": "stdout",
     "output_type": "stream",
     "text": [
      "Logged into <test_l: Low side Domain> as <info@openmined.org>\n"
     ]
    },
    {
     "data": {
      "text/html": [
       "<div class=\"alert-warning\" style=\"padding:5px;\"><strong>SyftWarning</strong>: You are using a default password. Please change the password using `[your_client].me.set_password([new_password])`.</div><br />"
      ],
      "text/plain": [
       "SyftWarning: You are using a default password. Please change the password using `[your_client].me.set_password([new_password])`."
      ]
     },
     "metadata": {},
     "output_type": "display_data"
    },
    {
     "name": "stdout",
     "output_type": "stream",
     "text": [
      "Logged into <test_h: High side Domain> as <info@openmined.org>\n"
     ]
    },
    {
     "data": {
      "text/html": [
       "<div class=\"alert-warning\" style=\"padding:5px;\"><strong>SyftWarning</strong>: You are using a default password. Please change the password using `[your_client].me.set_password([new_password])`.</div><br />"
      ],
      "text/plain": [
       "SyftWarning: You are using a default password. Please change the password using `[your_client].me.set_password([new_password])`."
      ]
     },
     "metadata": {},
     "output_type": "display_data"
    }
   ],
   "source": [
    "client_low = node_low.login(email=\"info@openmined.org\", password=\"changethis\")\n",
    "client_high = node_high.login(email=\"info@openmined.org\", password=\"changethis\")"
   ]
  },
  {
   "cell_type": "code",
   "execution_count": 4,
   "id": "ccc95549",
   "metadata": {},
   "outputs": [
    {
     "name": "stdout",
     "output_type": "stream",
     "text": [
      "Logged into <test_l: Low side Domain> as <newuser@openmined.org>\n"
     ]
    }
   ],
   "source": [
    "client_low.register(email=\"newuser@openmined.org\", name=\"John Doe\", password=\"pw\", password_verify=\"pw\")\n",
    "client_low_ds = node_low.login(email=\"newuser@openmined.org\", password=\"pw\")"
   ]
  },
  {
   "cell_type": "markdown",
   "id": "529aefcd",
   "metadata": {},
   "source": [
    "# create datasets"
   ]
  },
  {
   "cell_type": "code",
   "execution_count": 5,
   "id": "a124f870",
   "metadata": {},
   "outputs": [],
   "source": [
    "# third party\n",
    "import numpy as np"
   ]
  },
  {
   "cell_type": "code",
   "execution_count": 6,
   "id": "c21f2993",
   "metadata": {},
   "outputs": [
    {
     "name": "stderr",
     "output_type": "stream",
     "text": [
      "\r\n",
      "  0%|                                                                                                                 | 0/1 [00:00<?, ?it/s]"
     ]
    },
    {
     "name": "stdout",
     "output_type": "stream",
     "text": [
      "Uploading: numpy-data\n"
     ]
    },
    {
     "name": "stderr",
     "output_type": "stream",
     "text": [
      "100%|█████████████████████████████████████████████████████████████████████████████████████████████████████████| 1/1 [00:00<00:00,  5.06it/s]\n"
     ]
    },
    {
     "data": {
      "text/html": [
       "<div class=\"alert-success\" style=\"padding:5px;\"><strong>SyftSuccess</strong>: Dataset uploaded to 'test_h'. To see the datasets uploaded by a client on this node, use command `[your_client].datasets`</div><br />"
      ],
      "text/plain": [
       "SyftSuccess: Dataset uploaded to 'test_h'. To see the datasets uploaded by a client on this node, use command `[your_client].datasets`"
      ]
     },
     "execution_count": 6,
     "metadata": {},
     "output_type": "execute_result"
    }
   ],
   "source": [
    "mock_high = np.array([10, 11, 12, 13, 14])\n",
    "private_high = np.array([15, 16, 17, 18, 19])\n",
    "\n",
    "dataset_high = sy.Dataset(\n",
    "    name=\"my-dataset\",\n",
    "    description=\"abc\",\n",
    "    asset_list=[\n",
    "        sy.Asset(\n",
    "            name=\"numpy-data\",\n",
    "            mock=mock_high,\n",
    "            data=private_high,\n",
    "            shape=private_high.shape,\n",
    "            mock_is_real=True,\n",
    "        )\n",
    "    ],\n",
    ")\n",
    "\n",
    "client_high.upload_dataset(dataset_high)"
   ]
  },
  {
   "cell_type": "code",
   "execution_count": 7,
   "id": "9c3804a3",
   "metadata": {},
   "outputs": [
    {
     "name": "stderr",
     "output_type": "stream",
     "text": [
      "100%|█████████████████████████████████████████████████████████████████████████████████████████████████████████| 1/1 [00:00<00:00, 15.28it/s]"
     ]
    },
    {
     "name": "stdout",
     "output_type": "stream",
     "text": [
      "Uploading: numpy-data\n"
     ]
    },
    {
     "name": "stderr",
     "output_type": "stream",
     "text": [
      "\n"
     ]
    }
   ],
   "source": [
    "mock_low = np.array([0, 1, 2, 3, 4])  # do_high.mock\n",
    "# private_low = np.array([5, 6, 7, 8, 9])  # AOEmpty? create new type AO\n",
    "\n",
    "dataset_low = sy.Dataset(\n",
    "    id=dataset_high.id,\n",
    "    name=\"my-dataset\",\n",
    "    description=\"abc\",\n",
    "    asset_list=[\n",
    "        sy.Asset(\n",
    "            name=\"numpy-data\",\n",
    "            mock=mock_low,\n",
    "            data=ActionObject.empty(data_node_id=client_high.id),\n",
    "            shape=mock_low.shape,\n",
    "            mock_is_real=True,\n",
    "        )\n",
    "    ],\n",
    ")\n",
    "\n",
    "res = client_low.upload_dataset(dataset_low)"
   ]
  },
  {
   "cell_type": "code",
   "execution_count": 8,
   "id": "571d12c2",
   "metadata": {},
   "outputs": [
    {
     "data": {
      "text/html": [
       "<div class=\"alert-success\" style=\"padding:5px;\"><strong>SyftSuccess</strong>: Syft function 'compute_mean' successfully created. To add a code request, please create a project using `project = syft.Project(...)`, then use command `project.create_code_request`.</div><br />"
      ],
      "text/plain": [
       "SyftSuccess: Syft function 'compute_mean' successfully created. To add a code request, please create a project using `project = syft.Project(...)`, then use command `project.create_code_request`."
      ]
     },
     "metadata": {},
     "output_type": "display_data"
    },
    {
     "name": "stdout",
     "output_type": "stream",
     "text": [
      "SyftInfo: Creating a node with n_consumers=2 (the default value)\n",
      "Staging Protocol Changes...\n",
      "SQLite Store Path:\n",
      "!open file:///var/folders/q1/ryq93kwj055dlbpngxv1c7z40000gn/T/473ddd0f498243ec846e51e8cc2035d4.sqlite\n",
      "\n",
      "Creating default worker image with tag='local-dev'\n",
      "Building default worker image with tag=local-dev\n",
      "Setting up worker poolname=default-pool workers=1 image_uid=72ba7c67f8a9473b9c16a689056526e2 in_memory=True\n",
      "Created default worker pool.\n",
      "Data Migrated to latest version !!!\n",
      "Logged into <ephemeral_node_compute_mean_5732: High side Domain> as <info@openmined.org>\n"
     ]
    },
    {
     "data": {
      "text/html": [
       "<div class=\"alert-warning\" style=\"padding:5px;\"><strong>SyftWarning</strong>: You are using a default password. Please change the password using `[your_client].me.set_password([new_password])`.</div><br />"
      ],
      "text/plain": [
       "SyftWarning: You are using a default password. Please change the password using `[your_client].me.set_password([new_password])`."
      ]
     },
     "metadata": {},
     "output_type": "display_data"
    },
    {
     "name": "stdout",
     "output_type": "stream",
     "text": [
      "Approving request for domain ephemeral_node_compute_mean_5732\n",
      "override True\n",
      "SyftInfo: Landing the ephmeral node...\n"
     ]
    },
    {
     "data": {
      "text/markdown": [
       "```python\n",
       "Pointer\n",
       "```\n",
       "2.0"
      ],
      "text/plain": [
       "Pointer:\n",
       "2.0"
      ]
     },
     "execution_count": 8,
     "metadata": {},
     "output_type": "execute_result"
    }
   ],
   "source": [
    "data_low = client_low_ds.datasets[0].assets[0]\n",
    "\n",
    "\n",
    "@sy.syft_function_single_use(data=data_low)\n",
    "def compute_mean(data) -> float:\n",
    "    return data.mean()\n",
    "\n",
    "\n",
    "compute_mean(data=data_low.mock)"
   ]
  },
  {
   "cell_type": "code",
   "execution_count": 9,
   "id": "654e55fd",
   "metadata": {},
   "outputs": [
    {
     "data": {
      "text/html": [
       "\n",
       "            <style>\n",
       "            .syft-request {color: #464158;}\n",
       "            </style>\n",
       "            <div class='syft-request'>\n",
       "                <h3>Request</h3>\n",
       "                <p><strong>Id: </strong>0280f5f27a334117b546e3df7ccf28ee</p>\n",
       "                <p><strong>Request time: </strong>2024-02-20 16:01:37</p>\n",
       "                \n",
       "                \n",
       "                <p><strong>Status: </strong>RequestStatus.PENDING</p>\n",
       "                <p><strong>Requested on: </strong> Test_l of type <strong>                     Domain</strong></p>\n",
       "                <p><strong>Requested by:</strong> John Doe (newuser@openmined.org) </p>\n",
       "                <p><strong>Changes: </strong> Request to change <b>compute_mean</b> (Pool Id: <b>default-pool</b>) to permission <b>RequestStatus.APPROVED</b>. Nested Requests not resolved. </p>\n",
       "            </div>\n",
       "\n",
       "            "
      ],
      "text/markdown": [
       "```python\n",
       "class Request:\n",
       "  id: str = 0280f5f27a334117b546e3df7ccf28ee\n",
       "  request_time: str = 2024-02-20 16:01:37\n",
       "  updated_at: str = None\n",
       "  status: str = RequestStatus.PENDING\n",
       "  changes: str = ['Request to change <b>compute_mean</b> (Pool Id: <b>default-pool</b>) to permission <b>RequestStatus.APPROVED</b>. Nested Requests not resolved']\n",
       "  requesting_user_verify_key: str = ab2b208d004e9dbc8ee265d31634926a5bdc1501ec0bbde7a552634653db9188\n",
       "\n",
       "```"
      ],
      "text/plain": [
       "syft.service.request.request.Request"
      ]
     },
     "execution_count": 9,
     "metadata": {},
     "output_type": "execute_result"
    }
   ],
   "source": [
    "client_low_ds.code.request_code_execution(compute_mean)"
   ]
  },
  {
   "cell_type": "code",
   "execution_count": 10,
   "id": "da371d97",
   "metadata": {},
   "outputs": [],
   "source": [
    "request = client_low.requests[0]"
   ]
  },
  {
   "cell_type": "code",
   "execution_count": 11,
   "id": "9fde6db3",
   "metadata": {},
   "outputs": [],
   "source": [
    "code = client_low.code[0]"
   ]
  },
  {
   "cell_type": "markdown",
   "id": "32dc877e",
   "metadata": {},
   "source": [
    "TEO HERE"
   ]
  },
  {
   "cell_type": "code",
   "execution_count": 12,
   "id": "1f2a1c45",
   "metadata": {},
   "outputs": [],
   "source": [
    "# request.changes"
   ]
  },
  {
   "cell_type": "code",
   "execution_count": 13,
   "id": "f6d657a2",
   "metadata": {},
   "outputs": [],
   "source": [
    "items_to_sync = [request, code]"
   ]
  },
  {
   "cell_type": "markdown",
   "id": "205f03b0",
   "metadata": {},
   "source": [
    "- What do we do with properties here?\n",
    "  - just set them to None"
   ]
  },
  {
   "cell_type": "code",
   "execution_count": 14,
   "id": "07b8608d",
   "metadata": {},
   "outputs": [],
   "source": [
    "def get_stash_for_item(item, node):\n",
    "    services = list(node.python_node.service_path_map.values())\n",
    "\n",
    "    all_stashes = dict()\n",
    "    for serv in services:\n",
    "        if (_stash := getattr(serv, \"stash\", None)) is not None:\n",
    "            all_stashes[_stash.object_type] = _stash\n",
    "\n",
    "    stash = all_stashes.get(type(item), None)\n",
    "    return stash"
   ]
  },
  {
   "cell_type": "code",
   "execution_count": 15,
   "id": "7891775a",
   "metadata": {},
   "outputs": [],
   "source": [
    "def set_obj_ids(x, node_uid, verify_key):\n",
    "    if hasattr(x, \"__dict__\") and isinstance(x, SyftObject):\n",
    "        for prop, val in x.__dict__.items():\n",
    "            if isinstance(val, (list, tuple)):\n",
    "                for v in val:\n",
    "                    set_obj_ids(v, node_uid, verify_key)\n",
    "            elif isinstance(val, dict):\n",
    "                for v in val.values():\n",
    "                    set_obj_ids(v, node_uid, verify_key)\n",
    "            else:\n",
    "                set_obj_ids(val, node_uid, verify_key)\n",
    "        x.syft_node_location=node_uid\n",
    "        x.syft_client_verify_key=verify_key\n",
    "        if hasattr(x, \"node_uid\"):\n",
    "            x.node_uid=node_uid\n",
    "                    \n",
    "                    \n",
    "    # TODO: hadnle nested collections\n",
    "            "
   ]
  },
  {
   "cell_type": "code",
   "execution_count": 16,
   "id": "1543f428",
   "metadata": {},
   "outputs": [],
   "source": [
    "def add_permissions_for_actionobject(obj, node_to, node_from):\n",
    "    _id = obj.id.id \n",
    "    blob_id = obj.syft_blob_storage_entry_id\n",
    "    all_permissions = node_from.python_node.get_service(\"actionservice\").store.permissions[_id]\n",
    "    read_permissions = [x for x in all_permissions if \"READ\" in x]\n",
    "\n",
    "    store_to = node_to.python_node.get_service(\"actionservice\").store\n",
    "    store_to_blob =node_to.python_node.get_service(\"blobstorageservice\").stash.partition\n",
    "    print(\"adding permissions\")\n",
    "\n",
    "    for read_permission in read_permissions:\n",
    "        \n",
    "        creds, perm_str = read_permission.split(\"_\") \n",
    "        perm = ActionPermission[perm_str]\n",
    "        permission = ActionObjectPermission(uid=_id, permission=perm, credentials=SyftVerifyKey(creds))\n",
    "        res = store_to.add_permission(permission)\n",
    "        \n",
    "        permission_blob = ActionObjectPermission(uid=blob_id, permission=perm, credentials=SyftVerifyKey(creds))        \n",
    "        res_blob = store_to_blob.add_permission(permission_blob)\n",
    "\n",
    "        print(\"Created permission\", permission)\n",
    "        print(\"Created blob permission\", permission, \"with blob id\", blob_id)\n",
    "        \n",
    "    "
   ]
  },
  {
   "cell_type": "code",
   "execution_count": 17,
   "id": "48e73a5c",
   "metadata": {},
   "outputs": [],
   "source": [
    "def create_actionobject(action_object, client, node_to, node_from):\n",
    "    print(\"syncing obj with blob id\", action_object.syft_blob_storage_entry_id)\n",
    "    action_object = action_object.refresh_object()\n",
    "    action_object.send(client)\n",
    "#     res = client.api.services.action.set(action_object)\n",
    "    print(\"Created\", res, \"blob_id:\", action_object.syft_blob_storage_entry_id)\n",
    "\n",
    "    if node_to.python_node.node_side_type.value == \"low\":\n",
    "        add_permissions_for_actionobject(action_object, node_to, node_from)"
   ]
  },
  {
   "cell_type": "code",
   "execution_count": 18,
   "id": "859e8b3d",
   "metadata": {},
   "outputs": [],
   "source": [
    "from syft.client.api import NodeIdentity\n",
    "from syft.service.code.user_code import UserCode"
   ]
  },
  {
   "cell_type": "code",
   "execution_count": 19,
   "id": "61d9f4cd",
   "metadata": {},
   "outputs": [],
   "source": [
    "def transform_item(item, node):\n",
    "    identity = NodeIdentity.from_node(node.python_node)\n",
    "    if isinstance(item, UserCode):\n",
    "        res = {}\n",
    "        for key, val in item.status.status_dict.items():\n",
    "            # todo, check if they are actually only two nodes\n",
    "            res[identity] = code.status.status_dict[key]\n",
    "        item.status.status_dict=res\n",
    "    return item"
   ]
  },
  {
   "cell_type": "code",
   "execution_count": 20,
   "id": "9f30dee1",
   "metadata": {},
   "outputs": [],
   "source": [
    "def add_permissions_for_item(item, node_to, node_from):\n",
    "    _id = item.id \n",
    "    all_permissions = node_from.python_node.get_service(\"jobservice\").stash.partition.permissions[_id]\n",
    "    read_permissions = [x for x in all_permissions if \"READ\" in x]\n",
    "\n",
    "    store_to = node_to.python_node.get_service(\"jobservice\").stash.partition\n",
    "    for read_permission in read_permissions:\n",
    "        creds, perm_str = read_permission.split(\"_\") \n",
    "        perm = ActionPermission[perm_str]\n",
    "        permission = ActionObjectPermission(uid=_id, permission=perm, credentials=SyftVerifyKey(creds))\n",
    "        res = store_to.add_permission(permission)\n",
    "        print(\"Created permission\", res)"
   ]
  },
  {
   "cell_type": "code",
   "execution_count": 21,
   "id": "ac7dc878",
   "metadata": {},
   "outputs": [],
   "source": [
    "def sync_items(items, node_to, node_from, client):\n",
    "    for item in items_to_sync:\n",
    "        \n",
    "        if isinstance(item, ActionObject):\n",
    "            create_actionobject(item, client, node_to, node_from)\n",
    "\n",
    "        else:\n",
    "                \n",
    "            item = transform_item(item, node_to)\n",
    "            stash = get_stash_for_item(item, node_to)\n",
    "            creds=client.verify_key\n",
    "\n",
    "            set_obj_ids(item, client.id, creds)\n",
    "            exists = stash.get_by_uid(creds, item.id).ok() is not None\n",
    "            if exists:\n",
    "                res = stash.update(creds, item)\n",
    "            else:\n",
    "#                 res = stash.delete_by_uid(node.python_node.verify_key, item.id)\n",
    "                res = stash.set(creds, item)\n",
    "            if not res.is_ok():\n",
    "                raise ValueError(\"\")\n",
    "            else:\n",
    "                print(\"created\", item)\n",
    "                if isinstance(item, Job) and node_to.python_node.node_side_type.value == \"low\":\n",
    "                    add_permissions_for_item(item, node_to, node_from)\n",
    "    client._fetch_api(client.credentials)"
   ]
  },
  {
   "cell_type": "code",
   "execution_count": 22,
   "id": "a4fc133f",
   "metadata": {},
   "outputs": [
    {
     "name": "stdout",
     "output_type": "stream",
     "text": [
      "created syft.service.request.request.Request\n",
      "created syft.service.code.user_code.UserCode\n"
     ]
    }
   ],
   "source": [
    "sync_items(items_to_sync, node_high, node_low, client_high)"
   ]
  },
  {
   "cell_type": "markdown",
   "id": "3f94e740",
   "metadata": {},
   "source": [
    "# Run code high and sync back result"
   ]
  },
  {
   "cell_type": "code",
   "execution_count": 23,
   "id": "779f3fa0",
   "metadata": {},
   "outputs": [
    {
     "name": "stdout",
     "output_type": "stream",
     "text": [
      "SyftInfo: Node Landed!\n"
     ]
    }
   ],
   "source": [
    "data_high = client_high.datasets[0].assets[0]"
   ]
  },
  {
   "cell_type": "code",
   "execution_count": 24,
   "id": "e3fc5218",
   "metadata": {},
   "outputs": [
    {
     "data": {
      "text/markdown": [
       "```python\n",
       "class Job:\n",
       "    id: UID = 6a3c50424a4d406485190feeaa9d9b47\n",
       "    status: created\n",
       "    has_parent: False\n",
       "    result: syft.service.action.action_data_empty.ObjectNotReady\n",
       "    logs:\n",
       "\n",
       "0 \n",
       "    \n",
       "```"
      ],
      "text/plain": [
       "syft.service.job.job_stash.Job"
      ]
     },
     "metadata": {},
     "output_type": "display_data"
    }
   ],
   "source": [
    "job_high = client_high.code.compute_mean(data=data_high, blocking=False)\n",
    "display(job_high)"
   ]
  },
  {
   "cell_type": "code",
   "execution_count": 25,
   "id": "a4a37ccb",
   "metadata": {},
   "outputs": [
    {
     "name": "stdout",
     "output_type": "stream",
     "text": [
      "override True\n"
     ]
    },
    {
     "data": {
      "text/plain": [
       "17.0"
      ]
     },
     "execution_count": 25,
     "metadata": {},
     "output_type": "execute_result"
    }
   ],
   "source": [
    "# wait for the result\n",
    "job_high.wait().get()"
   ]
  },
  {
   "cell_type": "code",
   "execution_count": 26,
   "id": "dbe412df",
   "metadata": {},
   "outputs": [],
   "source": [
    "job_info = job_high.info(public_metadata=True, result=True)"
   ]
  },
  {
   "cell_type": "code",
   "execution_count": 27,
   "id": "68cbb473",
   "metadata": {},
   "outputs": [
    {
     "data": {
      "text/markdown": [
       "```python\n",
       "Pointer\n",
       "```\n",
       "17.0"
      ],
      "text/plain": [
       "Pointer:\n",
       "17.0"
      ]
     },
     "execution_count": 27,
     "metadata": {},
     "output_type": "execute_result"
    }
   ],
   "source": [
    "job_info.result"
   ]
  },
  {
   "cell_type": "code",
   "execution_count": 28,
   "id": "5fc1d44f",
   "metadata": {},
   "outputs": [
    {
     "name": "stdout",
     "output_type": "stream",
     "text": [
      "result obj 2ad3b91d2d3c4731ac4792108d7c4691\n",
      "Approving request for domain test_h\n",
      "Approving request for domain test_h\n",
      "ADDING PERMISSION [READ: 2ad3b91d2d3c4731ac4792108d7c4691 as ab2b208d004e9dbc8ee265d31634926a5bdc1501ec0bbde7a552634653db9188] 2ad3b91d2d3c4731ac4792108d7c4691\n",
      "returning existing job\n",
      "setting permission\n",
      "None\n",
      "None\n"
     ]
    }
   ],
   "source": [
    "request = client_high.requests[0]\n",
    "result_obj = job_high.result\n",
    "\n",
    "print(\"result obj\", result_obj.id)\n",
    "accept_res = request.accept_by_depositing_result(job_info)\n",
    "\n",
    "# request.approve()\n",
    "# TODO: FIX THIS\n",
    "request = client_high.requests[0]\n",
    "code = request.code\n",
    "log = job_high._get_log_objs()"
   ]
  },
  {
   "cell_type": "code",
   "execution_count": 29,
   "id": "d3f4aabb",
   "metadata": {},
   "outputs": [],
   "source": [
    "action_store_high = node_high.python_node.get_service(\"actionservice\").store\n",
    "blob_store_high = node_high.python_node.get_service(\"blobstorageservice\").stash.partition\n",
    "assert f\"{client_low_ds.verify_key}_READ\" in action_store_high.permissions[job_high.result.id.id]\n",
    "assert f\"{client_low_ds.verify_key}_READ\" in blob_store_high.permissions[job_high.result.syft_blob_storage_entry_id]"
   ]
  },
  {
   "cell_type": "markdown",
   "id": "1a19ff34",
   "metadata": {},
   "source": [
    "## Sync back to low"
   ]
  },
  {
   "cell_type": "code",
   "execution_count": 29,
   "id": "9f61d5e2",
   "metadata": {},
   "outputs": [],
   "source": [
    "items_to_sync = [code, job_high.result, job_high, log]"
   ]
  },
  {
   "cell_type": "code",
   "execution_count": 30,
   "id": "615290f5",
   "metadata": {},
   "outputs": [
    {
     "name": "stdout",
     "output_type": "stream",
     "text": [
      "created syft.service.code.user_code.UserCode\n",
      "syncing obj with blob id 09e254a8a99f4614a669883d6d5148d3\n",
      "Created SyftSuccess: Dataset uploaded to 'test_l'. To see the datasets uploaded by a client on this node, use command `[your_client].datasets` blob_id: 09e254a8a99f4614a669883d6d5148d3\n",
      "adding permissions\n",
      "Created permission [READ: 2ad3b91d2d3c4731ac4792108d7c4691 as ab2b208d004e9dbc8ee265d31634926a5bdc1501ec0bbde7a552634653db9188]\n",
      "Created blob permission [READ: 2ad3b91d2d3c4731ac4792108d7c4691 as ab2b208d004e9dbc8ee265d31634926a5bdc1501ec0bbde7a552634653db9188] with blob id 09e254a8a99f4614a669883d6d5148d3\n",
      "Created permission [READ: 2ad3b91d2d3c4731ac4792108d7c4691 as d311a667006cbb56614a062b2bbc7a733b5a4a8edd5293e0f34bb5c75f51277d]\n",
      "Created blob permission [READ: 2ad3b91d2d3c4731ac4792108d7c4691 as d311a667006cbb56614a062b2bbc7a733b5a4a8edd5293e0f34bb5c75f51277d] with blob id 09e254a8a99f4614a669883d6d5148d3\n",
      "created syft.service.job.job_stash.Job\n",
      "Created permission None\n",
      "Created permission None\n",
      "created syft.service.log.log.SyftLog\n"
     ]
    }
   ],
   "source": [
    "sync_items(items_to_sync, node_low, node_high, client_low)"
   ]
  },
  {
   "cell_type": "code",
   "execution_count": 31,
   "id": "3251a6bd",
   "metadata": {},
   "outputs": [],
   "source": [
    "action_store_low = node_low.python_node.get_service(\"actionservice\").store\n",
    "blob_store_low = node_low.python_node.get_service(\"blobstorageservice\").stash.partition\n",
    "assert f\"{client_low_ds.verify_key}_READ\" in action_store_low.permissions[job_high.result.id.id]\n",
    "assert f\"{client_low_ds.verify_key}_READ\" in blob_store_low.permissions[job_high.result.syft_blob_storage_entry_id]"
   ]
  },
  {
   "cell_type": "markdown",
   "id": "04dd5d24",
   "metadata": {},
   "source": [
    "# Run code low"
   ]
  },
  {
   "cell_type": "markdown",
   "id": "39d641a5",
   "metadata": {},
   "source": [
    "## Run"
   ]
  },
  {
   "cell_type": "code",
   "execution_count": 32,
   "id": "252999ec",
   "metadata": {},
   "outputs": [
    {
     "name": "stdout",
     "output_type": "stream",
     "text": [
      "override False\n"
     ]
    }
   ],
   "source": [
    "res_low = client_low_ds.code.compute_mean(data=data_low)"
   ]
  },
  {
   "cell_type": "code",
   "execution_count": 35,
   "id": "60a60289",
   "metadata": {},
   "outputs": [
    {
     "data": {
      "text/plain": [
       "17.0"
      ]
     },
     "execution_count": 35,
     "metadata": {},
     "output_type": "execute_result"
    }
   ],
   "source": [
    "res_low.get()"
   ]
  },
  {
   "cell_type": "code",
   "execution_count": 37,
   "id": "4bed7da4",
   "metadata": {},
   "outputs": [],
   "source": [
    "assert res_low.get() == private_high.mean()\n",
    "assert res_low.id == job_high.result.id.id == code.output_policy.last_output_ids[0].id.id\n",
    "assert job_high.result.syft_blob_storage_entry_id == res_low.syft_blob_storage_entry_id"
   ]
  },
  {
   "cell_type": "code",
   "execution_count": 38,
   "id": "7e971eea",
   "metadata": {},
   "outputs": [
    {
     "data": {
      "text/plain": [
       "17.0"
      ]
     },
     "execution_count": 38,
     "metadata": {},
     "output_type": "execute_result"
    }
   ],
   "source": [
    "private_high.mean()"
   ]
  },
  {
   "cell_type": "code",
   "execution_count": 39,
   "id": "aa774a56",
   "metadata": {},
   "outputs": [
    {
     "name": "stdout",
     "output_type": "stream",
     "text": [
      "f0a7e3b4e0a84510a0cb00ae2880a77b\n"
     ]
    },
    {
     "data": {
      "text/html": [
       "<div class=\"alert-warning\" style=\"padding:5px;\"><strong>SyftWarning</strong>: There are existing jobs for this user code, returning the latest one</div><br />"
      ],
      "text/plain": [
       "SyftWarning: There are existing jobs for this user code, returning the latest one"
      ]
     },
     "metadata": {},
     "output_type": "display_data"
    }
   ],
   "source": [
    "job_low = client_low_ds.code.compute_mean(data=data_low, blocking=False)"
   ]
  },
  {
   "cell_type": "code",
   "execution_count": 40,
   "id": "8da1b271",
   "metadata": {},
   "outputs": [
    {
     "data": {
      "text/plain": [
       "17.0"
      ]
     },
     "execution_count": 40,
     "metadata": {},
     "output_type": "execute_result"
    }
   ],
   "source": [
    "job_low.wait().get()"
   ]
  },
  {
   "cell_type": "code",
   "execution_count": 42,
   "id": "21c6b6e7",
   "metadata": {},
   "outputs": [],
   "source": [
    "assert job_low.id == job_high.id\n",
    "assert job_low.result.id == job_high.result.id\n",
    "assert job_low.result.syft_blob_storage_entry_id == job_high.result.syft_blob_storage_entry_id"
   ]
  },
  {
   "cell_type": "code",
   "execution_count": null,
   "id": "85360548",
   "metadata": {},
   "outputs": [],
   "source": []
  }
 ],
 "metadata": {
  "kernelspec": {
   "display_name": "Python 3 (ipykernel)",
   "language": "python",
   "name": "python3"
  },
  "language_info": {
   "codemirror_mode": {
    "name": "ipython",
    "version": 3
   },
   "file_extension": ".py",
   "mimetype": "text/x-python",
   "name": "python",
   "nbconvert_exporter": "python",
   "pygments_lexer": "ipython3",
   "version": "3.9.16"
  },
  "toc": {
   "base_numbering": 1,
   "nav_menu": {},
   "number_sections": true,
   "sideBar": true,
   "skip_h1_title": false,
   "title_cell": "Table of Contents",
   "title_sidebar": "Contents",
   "toc_cell": false,
   "toc_position": {},
   "toc_section_display": true,
   "toc_window_display": true
  }
 },
 "nbformat": 4,
 "nbformat_minor": 5
}
