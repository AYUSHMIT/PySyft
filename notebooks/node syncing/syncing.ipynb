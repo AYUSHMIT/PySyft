{
 "cells": [
  {
   "cell_type": "code",
   "execution_count": 1,
   "id": "60b08c04",
   "metadata": {},
   "outputs": [
    {
     "name": "stderr",
     "output_type": "stream",
     "text": [
      "kj/filesystem-disk-unix.c++:1734: warning: PWD environment variable doesn't match current directory; pwd = /Users/eelco/dev/PySyft\n"
     ]
    }
   ],
   "source": [
    "# syft absolute\n",
    "import syft as sy\n",
    "from syft import ActionObject\n",
    "from syft.client.syncing import compare_states\n",
    "from syft.client.syncing import resolve"
   ]
  },
  {
   "cell_type": "code",
   "execution_count": 2,
   "id": "d1db0f4f",
   "metadata": {},
   "outputs": [
    {
     "name": "stdout",
     "output_type": "stream",
     "text": [
      "Staging Protocol Changes...\n",
      "SQLite Store Path:\n",
      "!open file:///var/folders/pn/f6xkq7mx683g5jkyt91gqyzw0000gn/T/8a1c04544655402190588aec30079bc3.sqlite\n",
      "\n",
      "Creating default worker image with tag='local-dev'\n",
      "Building default worker image with tag=local-dev\n",
      "Setting up worker poolname=default-pool workers=1 image_uid=ef90e34c9db84528b0eb7266b026d823 in_memory=True\n",
      "Created default worker pool.\n",
      "Data Migrated to latest version !!!\n",
      "Staging Protocol Changes...\n",
      "SQLite Store Path:\n",
      "!open file:///var/folders/pn/f6xkq7mx683g5jkyt91gqyzw0000gn/T/8212e6797fde4c3fba4fc53ab555a886.sqlite\n",
      "\n",
      "Creating default worker image with tag='local-dev'\n",
      "Building default worker image with tag=local-dev\n",
      "Setting up worker poolname=default-pool workers=1 image_uid=ca088bc6d2084054bbff4d34310eb18e in_memory=True\n",
      "Created default worker pool.\n",
      "Data Migrated to latest version !!!\n"
     ]
    }
   ],
   "source": [
    "node_low = sy.orchestra.launch(\n",
    "    name=\"test_l\",\n",
    "    node_side_type=\"low\",\n",
    "    dev_mode=True,\n",
    "    reset=True,\n",
    "    local_db=True,\n",
    "    n_consumers=1,\n",
    "    create_producer=True,\n",
    ")\n",
    "node_high = sy.orchestra.launch(\n",
    "    name=\"test_h\",\n",
    "    node_side_type=\"high\",\n",
    "    dev_mode=True,\n",
    "    reset=True,\n",
    "    local_db=True,\n",
    "    n_consumers=1,\n",
    "    create_producer=True,\n",
    ")"
   ]
  },
  {
   "cell_type": "code",
   "execution_count": 3,
   "id": "c01949ef",
   "metadata": {},
   "outputs": [
    {
     "name": "stderr",
     "output_type": "stream",
     "text": [
      "/Users/eelco/dev/PySyft/packages/syft/src/syft/types/syft_object.py:599: TypeHintWarning: Skipping type check against 'ServiceRole'; this looks like a string-form forward reference imported from another module\n",
      "  check_type(value, var_annotation)\n"
     ]
    },
    {
     "name": "stdout",
     "output_type": "stream",
     "text": [
      "Logged into <test_l: Low side Domain> as <info@openmined.org>\n"
     ]
    },
    {
     "data": {
      "text/html": [
       "<div class=\"alert-warning\" style=\"padding:5px;\"><strong>SyftWarning</strong>: You are using a default password. Please change the password using `[your_client].me.set_password([new_password])`.</div><br />"
      ],
      "text/plain": [
       "SyftWarning: You are using a default password. Please change the password using `[your_client].me.set_password([new_password])`."
      ]
     },
     "metadata": {},
     "output_type": "display_data"
    },
    {
     "name": "stdout",
     "output_type": "stream",
     "text": [
      "Logged into <test_h: High side Domain> as <info@openmined.org>\n"
     ]
    },
    {
     "data": {
      "text/html": [
       "<div class=\"alert-warning\" style=\"padding:5px;\"><strong>SyftWarning</strong>: You are using a default password. Please change the password using `[your_client].me.set_password([new_password])`.</div><br />"
      ],
      "text/plain": [
       "SyftWarning: You are using a default password. Please change the password using `[your_client].me.set_password([new_password])`."
      ]
     },
     "metadata": {},
     "output_type": "display_data"
    }
   ],
   "source": [
    "client_low = node_low.login(email=\"info@openmined.org\", password=\"changethis\")\n",
    "client_high = node_high.login(email=\"info@openmined.org\", password=\"changethis\")"
   ]
  },
  {
   "cell_type": "code",
   "execution_count": 4,
   "id": "ccc95549",
   "metadata": {},
   "outputs": [
    {
     "name": "stdout",
     "output_type": "stream",
     "text": [
      "Logged into <test_l: Low side Domain> as <newuser@openmined.org>\n"
     ]
    }
   ],
   "source": [
    "client_low.register(\n",
    "    email=\"newuser@openmined.org\", name=\"John Doe\", password=\"pw\", password_verify=\"pw\"\n",
    ")\n",
    "client_low_ds = node_low.login(email=\"newuser@openmined.org\", password=\"pw\")"
   ]
  },
  {
   "cell_type": "markdown",
   "id": "529aefcd",
   "metadata": {},
   "source": [
    "# create datasets"
   ]
  },
  {
   "cell_type": "code",
   "execution_count": 5,
   "id": "a124f870",
   "metadata": {},
   "outputs": [],
   "source": [
    "# third party\n",
    "import numpy as np"
   ]
  },
  {
   "cell_type": "code",
   "execution_count": 6,
   "id": "c21f2993",
   "metadata": {},
   "outputs": [
    {
     "name": "stderr",
     "output_type": "stream",
     "text": [
      "  0%|                                                                                             | 0/1 [00:00<?, ?it/s]"
     ]
    },
    {
     "name": "stdout",
     "output_type": "stream",
     "text": [
      "Uploading: numpy-data\n"
     ]
    },
    {
     "name": "stderr",
     "output_type": "stream",
     "text": [
      "100%|█████████████████████████████████████████████████████████████████████████████████████| 1/1 [00:00<00:00,  6.84it/s]\n"
     ]
    },
    {
     "name": "stdout",
     "output_type": "stream",
     "text": [
      "syft_node_location=None syft_client_verify_key=None output={'id': <UID: a13999557fef4b788c1f5e10d7da2040>, 'name': 'numpy-data', 'description': syft.service.dataset.dataset.MarkdownDescription, 'contributors': {syft.service.dataset.dataset.Contributor}, 'data_subjects': [], 'node_uid': <UID: 8212e6797fde4c3fba4fc53ab555a886>, 'action_id': <UID: e586245b12024042b724bdaa62dc8cd6>, 'data': array([15, 16, 17, 18, 19]), 'mock': array([10, 11, 12, 13, 14]), 'shape': (5,), 'mock_is_real': True, 'created_at': syft.types.datetime.DateTime, 'uploader': syft.service.dataset.dataset.Contributor} node=Domain: test_h - 8212e6797fde4c3fba4fc53ab555a886 - domain\n",
      "\n",
      "Services:\n",
      "ActionService, BlobStorageService, CodeHistoryService, DataSubjectMemberService, DataSubjectService, DatasetService, EnclaveService, JobService, LogService, MetadataService, MigrateStateService, NetworkService, NotificationService, OutputService, PolicyService, ProjectService, QueueService, RequestService, SettingsService, SyftImageRegistryService, SyftWorkerImageService, SyftWorkerPoolService, SyncService, UserCodeService, UserCodeStatusService, UserService, WorkerService credentials=d311a667006cbb56614a062b2bbc7a733b5a4a8edd5293e0f34bb5c75f51277d obj=syft.service.dataset.dataset.CreateAsset's output is None. No transformation happened\n"
     ]
    },
    {
     "data": {
      "text/html": [
       "<div class=\"alert-success\" style=\"padding:5px;\"><strong>SyftSuccess</strong>: Dataset uploaded to 'test_h'. To see the datasets uploaded by a client on this node, use command `[your_client].datasets`</div><br />"
      ],
      "text/plain": [
       "SyftSuccess: Dataset uploaded to 'test_h'. To see the datasets uploaded by a client on this node, use command `[your_client].datasets`"
      ]
     },
     "execution_count": 6,
     "metadata": {},
     "output_type": "execute_result"
    }
   ],
   "source": [
    "mock_high = np.array([10, 11, 12, 13, 14])\n",
    "private_high = np.array([15, 16, 17, 18, 19])\n",
    "\n",
    "dataset_high = sy.Dataset(\n",
    "    name=\"my-dataset\",\n",
    "    description=\"abc\",\n",
    "    asset_list=[\n",
    "        sy.Asset(\n",
    "            name=\"numpy-data\",\n",
    "            mock=mock_high,\n",
    "            data=private_high,\n",
    "            shape=private_high.shape,\n",
    "            mock_is_real=True,\n",
    "        )\n",
    "    ],\n",
    ")\n",
    "\n",
    "client_high.upload_dataset(dataset_high)"
   ]
  },
  {
   "cell_type": "code",
   "execution_count": 7,
   "id": "9c3804a3",
   "metadata": {},
   "outputs": [
    {
     "name": "stderr",
     "output_type": "stream",
     "text": [
      "100%|█████████████████████████████████████████████████████████████████████████████████████| 1/1 [00:00<00:00, 19.01it/s]\n"
     ]
    },
    {
     "name": "stdout",
     "output_type": "stream",
     "text": [
      "Uploading: numpy-data\n",
      "syft_node_location=None syft_client_verify_key=None output={'id': <UID: 7f3469631b4a4a78ac9d3feca14ed63d>, 'name': 'numpy-data', 'description': syft.service.dataset.dataset.MarkdownDescription, 'contributors': {syft.service.dataset.dataset.Contributor}, 'data_subjects': [], 'node_uid': <UID: 8a1c04544655402190588aec30079bc3>, 'action_id': <UID: 333268fb5a1b442b85fd42ddb8f38cb3>, 'data': Pointer:\n",
      "None, 'mock': array([0, 1, 2, 3, 4]), 'shape': (5,), 'mock_is_real': True, 'created_at': syft.types.datetime.DateTime, 'uploader': syft.service.dataset.dataset.Contributor} node=Domain: test_l - 8a1c04544655402190588aec30079bc3 - domain\n",
      "\n",
      "Services:\n",
      "ActionService, BlobStorageService, CodeHistoryService, DataSubjectMemberService, DataSubjectService, DatasetService, EnclaveService, JobService, LogService, MetadataService, MigrateStateService, NetworkService, NotificationService, OutputService, PolicyService, ProjectService, QueueService, RequestService, SettingsService, SyftImageRegistryService, SyftWorkerImageService, SyftWorkerPoolService, SyncService, UserCodeService, UserCodeStatusService, UserService, WorkerService credentials=1c0590b894d19530970da6bf09bb302afa3e473a4cccdacbace0e20223ee3367 obj=syft.service.dataset.dataset.CreateAsset's output is None. No transformation happened\n"
     ]
    }
   ],
   "source": [
    "mock_low = np.array([0, 1, 2, 3, 4])  # do_high.mock\n",
    "# private_low = np.array([5, 6, 7, 8, 9])  # AOEmpty? create new type AO\n",
    "\n",
    "dataset_low = sy.Dataset(\n",
    "    id=dataset_high.id,\n",
    "    name=\"my-dataset\",\n",
    "    description=\"abc\",\n",
    "    asset_list=[\n",
    "        sy.Asset(\n",
    "            name=\"numpy-data\",\n",
    "            mock=mock_low,\n",
    "            data=ActionObject.empty(data_node_id=client_high.id),\n",
    "            shape=mock_low.shape,\n",
    "            mock_is_real=True,\n",
    "        )\n",
    "    ],\n",
    ")\n",
    "\n",
    "res = client_low.upload_dataset(dataset_low)"
   ]
  },
  {
   "cell_type": "markdown",
   "id": "134e9614",
   "metadata": {},
   "source": [
    "# Make Requests"
   ]
  },
  {
   "cell_type": "code",
   "execution_count": 8,
   "id": "571d12c2",
   "metadata": {},
   "outputs": [
    {
     "data": {
      "text/html": [
       "<div class=\"alert-success\" style=\"padding:5px;\"><strong>SyftSuccess</strong>: Syft function 'compute_mean' successfully created. To add a code request, please create a project using `project = syft.Project(...)`, then use command `project.create_code_request`.</div><br />"
      ],
      "text/plain": [
       "SyftSuccess: Syft function 'compute_mean' successfully created. To add a code request, please create a project using `project = syft.Project(...)`, then use command `project.create_code_request`."
      ]
     },
     "metadata": {},
     "output_type": "display_data"
    },
    {
     "name": "stdout",
     "output_type": "stream",
     "text": [
      "SyftInfo: Creating a node with n_consumers=2 (the default value)\n",
      "Staging Protocol Changes...\n",
      "SQLite Store Path:\n",
      "!open file:///var/folders/pn/f6xkq7mx683g5jkyt91gqyzw0000gn/T/793c8762166f45f28403432bdd461708.sqlite\n",
      "\n",
      "Creating default worker image with tag='local-dev'\n",
      "Building default worker image with tag=local-dev\n",
      "Setting up worker poolname=default-pool workers=2 image_uid=4a0fbad62dc8423bb3fa39973a7795ba in_memory=True\n",
      "Created default worker pool.\n",
      "Data Migrated to latest version !!!\n",
      "Logged into <ephemeral_node_compute_mean_4061: High side Domain> as <info@openmined.org>\n"
     ]
    },
    {
     "data": {
      "text/html": [
       "<div class=\"alert-warning\" style=\"padding:5px;\"><strong>SyftWarning</strong>: You are using a default password. Please change the password using `[your_client].me.set_password([new_password])`.</div><br />"
      ],
      "text/plain": [
       "SyftWarning: You are using a default password. Please change the password using `[your_client].me.set_password([new_password])`."
      ]
     },
     "metadata": {},
     "output_type": "display_data"
    },
    {
     "name": "stdout",
     "output_type": "stream",
     "text": [
      "Approving request for domain ephemeral_node_compute_mean_4061\n",
      "Computing mean...\n",
      "SyftInfo: Landing the ephmeral node...\n"
     ]
    },
    {
     "data": {
      "text/markdown": [
       "```python\n",
       "Pointer\n",
       "```\n",
       "2.0"
      ],
      "text/plain": [
       "Pointer:\n",
       "2.0"
      ]
     },
     "execution_count": 8,
     "metadata": {},
     "output_type": "execute_result"
    }
   ],
   "source": [
    "data_low = client_low_ds.datasets[0].assets[0]\n",
    "\n",
    "\n",
    "@sy.syft_function_single_use(data=data_low)\n",
    "def compute_mean(data) -> float:\n",
    "    print(\"Computing mean...\")\n",
    "    return data.mean()\n",
    "\n",
    "\n",
    "compute_mean(data=data_low.mock)"
   ]
  },
  {
   "cell_type": "code",
   "execution_count": 9,
   "id": "654e55fd",
   "metadata": {},
   "outputs": [
    {
     "data": {
      "text/html": [
       "\n",
       "            <style>\n",
       "            .syft-request {color: #464158;}\n",
       "            </style>\n",
       "            <div class='syft-request'>\n",
       "                <h3>Request</h3>\n",
       "                <p><strong>Id: </strong>2491f07c37a2460caa736ad538f7dfbe</p>\n",
       "                <p><strong>Request time: </strong>2024-03-06 15:06:41</p>\n",
       "                \n",
       "                \n",
       "                <p><strong>Status: </strong>RequestStatus.PENDING</p>\n",
       "                <p><strong>Requested on: </strong> Test_l of type <strong>                     Domain</strong></p>\n",
       "                <p><strong>Requested by:</strong> John Doe (newuser@openmined.org) </p>\n",
       "                <p><strong>Changes: </strong> Request to change <b>compute_mean</b> (Pool Id: <b>default-pool</b>) to permission <b>RequestStatus.APPROVED</b>. Nested Requests not resolved. </p>\n",
       "            </div>\n",
       "\n",
       "            "
      ],
      "text/markdown": [
       "```python\n",
       "class Request:\n",
       "  id: str = 2491f07c37a2460caa736ad538f7dfbe\n",
       "  request_time: str = 2024-03-06 15:06:41\n",
       "  updated_at: str = None\n",
       "  status: str = RequestStatus.PENDING\n",
       "  changes: str = ['Request to change <b>compute_mean</b> (Pool Id: <b>default-pool</b>) to permission <b>RequestStatus.APPROVED</b>. Nested Requests not resolved']\n",
       "  requesting_user_verify_key: str = 9d3843ecd7baa5a785b0db24cc04a3726e15e6f408eb48a2485b63e54855c276\n",
       "\n",
       "```"
      ],
      "text/plain": [
       "syft.service.request.request.Request"
      ]
     },
     "execution_count": 9,
     "metadata": {},
     "output_type": "execute_result"
    }
   ],
   "source": [
    "client_low_ds.code.request_code_execution(compute_mean)"
   ]
  },
  {
   "cell_type": "markdown",
   "id": "7f8c588b",
   "metadata": {},
   "source": [
    "## Sync to high side"
   ]
  },
  {
   "cell_type": "code",
   "execution_count": 10,
   "id": "e0ff2db8",
   "metadata": {},
   "outputs": [
    {
     "name": "stdout",
     "output_type": "stream",
     "text": [
      "SyftInfo: Node Landed!\n"
     ]
    }
   ],
   "source": [
    "low_state = client_low.get_sync_state()\n",
    "high_state = client_high.get_sync_state()"
   ]
  },
  {
   "cell_type": "code",
   "execution_count": 11,
   "id": "cc3415ad",
   "metadata": {},
   "outputs": [
    {
     "data": {
      "text/html": [
       "\n",
       "<style>\n",
       "  body[data-jp-theme-light='false'] {\n",
       "        --primary-color: #111111;\n",
       "        --secondary-color: #212121;\n",
       "        --tertiary-color: #CFCDD6;\n",
       "        --button-color: #111111;\n",
       "  }\n",
       "\n",
       "  body {\n",
       "        --primary-color: #ffffff;\n",
       "        --secondary-color: #f5f5f5;\n",
       "        --tertiary-color: #000000de;\n",
       "        --button-color: #d1d5db;\n",
       "  }\n",
       "\n",
       "  .header-1 {\n",
       "        font-style: normal;\n",
       "        font-weight: 600;\n",
       "        font-size: 2.0736em;\n",
       "        line-height: 100%;\n",
       "        leading-trim: both;\n",
       "        text-edge: cap;\n",
       "        color: #17161D;\n",
       "    }\n",
       "\n",
       "  .header-2 {\n",
       "        font-style: normal;\n",
       "        font-weight: 600;\n",
       "        font-size: 1.728em;\n",
       "        line-height: 100%;\n",
       "        leading-trim: both;\n",
       "        text-edge: cap;\n",
       "        color: #17161D;\n",
       "    }\n",
       "\n",
       "  .header-3 {\n",
       "        font-style: normal;\n",
       "        font-weight: 600;\n",
       "        font-size:  1.44em;\n",
       "        line-height: 100%;\n",
       "        leading-trim: both;\n",
       "        text-edge: cap;\n",
       "        color: var(--tertiary-color);\n",
       "    }\n",
       "\n",
       "  .header-4 {\n",
       "        font-style: normal;\n",
       "        font-weight: 600;\n",
       "        font-size: 1.2em;\n",
       "        line-height: 100%;\n",
       "        leading-trim: both;\n",
       "        text-edge: cap;\n",
       "        color: #17161D;\n",
       "    }\n",
       "\n",
       "    .paragraph {\n",
       "        font-style: normal;\n",
       "        font-weight: 400;\n",
       "        font-size: 14px;\n",
       "        line-height: 100%;\n",
       "        leading-trim: both;\n",
       "        text-edge: cap;\n",
       "        color: #2E2B3B;\n",
       "    }\n",
       "\n",
       "    .paragraph-sm {\n",
       "        font-family: 'Roboto';\n",
       "        font-style: normal;\n",
       "        font-weight: 400;\n",
       "        font-size: 11.62px;\n",
       "        line-height: 100%;\n",
       "        leading-trim: both;\n",
       "        text-edge: cap;\n",
       "        color: #2E2B3B;\n",
       "    }\n",
       "    .code-text {\n",
       "        font-family: 'Consolas';\n",
       "        font-style: normal;\n",
       "        font-weight: 400;\n",
       "        font-size: 13px;\n",
       "        line-height: 130%;\n",
       "        leading-trim: both;\n",
       "        text-edge: cap;\n",
       "        color: #2E2B3B;\n",
       "    }\n",
       "\n",
       "    .numbering-entry { display: none }\n",
       "\n",
       "    /* Tooltip container */\n",
       "    .tooltip {\n",
       "        position: relative;\n",
       "        display: inline-block;\n",
       "        border-bottom: 1px dotted black; /* If you want dots under the hoverable text */\n",
       "    }\n",
       "\n",
       "    /* Tooltip text */\n",
       "    .tooltip .tooltiptext {\n",
       "        visibility: hidden;\n",
       "        width: 120px;\n",
       "        background-color: black;\n",
       "        color: #fff;\n",
       "        text-align: center;\n",
       "        padding: 5px 0;\n",
       "        border-radius: 6px;\n",
       "\n",
       "        /* Position the tooltip text - see examples below! */\n",
       "        position: absolute;\n",
       "        z-index: 1;\n",
       "    }\n",
       "\n",
       "    .repr-cell {\n",
       "      padding-top: 20px;\n",
       "    }\n",
       "\n",
       "    .text-bold {\n",
       "        font-weight: bold;\n",
       "    }\n",
       "\n",
       "    .pr-8 {\n",
       "        padding-right: 8px;\n",
       "    }\n",
       "    .pt-8 {\n",
       "        padding-top: 8px;\n",
       "    }\n",
       "    .pl-8 {\n",
       "        padding-left: 8px;\n",
       "    }\n",
       "    .pb-8 {\n",
       "        padding-bottom: 8px;\n",
       "    }\n",
       "\n",
       "    .py-25{\n",
       "        padding-top: 25px;\n",
       "        padding-bottom: 25px;\n",
       "    }\n",
       "\n",
       "    .flex {\n",
       "        display: flex;\n",
       "    }\n",
       "\n",
       "    .gap-10 {\n",
       "        gap: 10px;\n",
       "    }\n",
       "    .items-center{\n",
       "        align-items: center;\n",
       "    }\n",
       "\n",
       "    .folder-icon {\n",
       "        color: var(--tertiary-color);\n",
       "    }\n",
       "\n",
       "    .search-input{\n",
       "        display: flex;\n",
       "        flex-direction: row;\n",
       "        align-items: center;\n",
       "        padding: 8px 12px;\n",
       "        width: 343px;\n",
       "        height: 24px;\n",
       "        /* Lt On Surface/Low */\n",
       "        background-color: var(--secondary-color);\n",
       "        border-radius: 30px;\n",
       "\n",
       "        /* Lt On Surface/Highest */\n",
       "        color: var(--tertiary-color);\n",
       "        border:none;\n",
       "        /* Inside auto layout */\n",
       "        flex: none;\n",
       "        order: 0;\n",
       "        flex-grow: 0;\n",
       "    }\n",
       "    .search-input:focus {\n",
       "        outline: none;\n",
       "    }\n",
       "        .search-input:focus::placeholder,\n",
       "    .search-input::placeholder { /* Chrome, Firefox, Opera, Safari 10.1+ */\n",
       "        color: var(--tertiary-color);\n",
       "        opacity: 1; /* Firefox */\n",
       "    }\n",
       "\n",
       "    .search-button{\n",
       "        /* Search */\n",
       "        leading-trim: both;\n",
       "        text-edge: cap;\n",
       "        display: flex;\n",
       "        align-items: center;\n",
       "        text-align: center;\n",
       "\n",
       "        /* Primary/On Light */\n",
       "        background-color: var(--button-color);\n",
       "        color: var(--tertiary-color);\n",
       "\n",
       "        border-radius: 30px;\n",
       "        border-color: var(--secondary-color);\n",
       "        border-style: solid;\n",
       "        box-shadow: rgba(60, 64, 67, 0.3) 0px 1px 2px 0px, rgba(60, 64, 67, 0.15) 0px 1px 3px 1px;\n",
       "        cursor: pointer;\n",
       "        /* Inside auto layout */\n",
       "        flex: none;\n",
       "        order: 1;\n",
       "        flex-grow: 0;\n",
       "    }\n",
       "\n",
       "    .grid-table04c94ee949e14b1086969336d4ede64b {\n",
       "        display:grid;\n",
       "        grid-template-columns: 1fr repeat(12, 1fr);\n",
       "        grid-template-rows: repeat(2, 1fr);\n",
       "        overflow-x: auto;\n",
       "        position: relative;\n",
       "    }\n",
       "\n",
       "    .grid-std-cells {\n",
       "        grid-column: span 4;\n",
       "\n",
       "    }\n",
       "    .grid-index-cells {\n",
       "        grid-column: span 1;\n",
       "        /* tmp fix to make left col stand out (fix with font-family) */\n",
       "        font-weight: 600;\n",
       "        background-color: var(--secondary-color) !important;\n",
       "        color: var(--tertiary-color);\n",
       "    }\n",
       "\n",
       "    .grid-header {\n",
       "        /* Auto layout */\n",
       "        display: flex;\n",
       "        flex-direction: column;\n",
       "        align-items: center;\n",
       "        padding: 6px 4px;\n",
       "\n",
       "        resize: horizontal;\n",
       "        /* Lt On Surface/Surface */\n",
       "        /* Lt On Surface/High */\n",
       "        border: 1px solid #CFCDD6;\n",
       "        /* tmp fix to make header stand out (fix with font-family) */\n",
       "        font-weight: 600;\n",
       "        background-color: var(--secondary-color);\n",
       "        color: var(--tertiary-color);\n",
       "    }\n",
       "\n",
       "    .grid-row {\n",
       "        display: flex;\n",
       "        flex-direction: column;\n",
       "        align-items: flex-start;\n",
       "        padding: 6px 4px;\n",
       "        overflow: hidden;\n",
       "        border: 1px solid #CFCDD6;\n",
       "        background-color: var(--primary-color);\n",
       "        color: var(--tertiary-color);\n",
       "    }\n",
       "\n",
       "    .badge {\n",
       "        code-text;\n",
       "        border-radius: 30px;\n",
       "    }\n",
       "\n",
       "    .badge-blue {\n",
       "        badge;\n",
       "        background-color: #C2DEF0;\n",
       "        color: #1F567A;\n",
       "    }\n",
       "\n",
       "    .badge-purple {\n",
       "        badge;\n",
       "        background-color: #C9CFE8;\n",
       "        color: #373B7B;\n",
       "    }\n",
       "\n",
       "    .badge-green {\n",
       "        badge;\n",
       "\n",
       "        /* Success/Container */\n",
       "        background-color: #D5F1D5;\n",
       "        color: #256B24;\n",
       "    }\n",
       "\n",
       "    .badge-red {\n",
       "        badge;\n",
       "        background-color: #F2D9DE;\n",
       "        color: #9B2737;\n",
       "    }\n",
       "\n",
       "    .badge-gray {\n",
       "        badge;\n",
       "        background-color: #ECEBEF;\n",
       "        color: #2E2B3B;\n",
       "    }\n",
       "    .paginationContainer{\n",
       "        width: 100%;\n",
       "        /*height: 30px;*/\n",
       "        display: flex;\n",
       "        justify-content: center;\n",
       "        gap: 8px;\n",
       "        padding: 5px;\n",
       "        color: var(--tertiary-color);\n",
       "    }\n",
       "\n",
       "    .page{\n",
       "        color: black;\n",
       "        font-weight: bold;\n",
       "        color: var(--tertiary-color);\n",
       "    }\n",
       "    .page:hover {\n",
       "      color: #38bdf8;\n",
       "      cursor: pointer;\n",
       "    }\n",
       "    .clipboard:hover{\n",
       "        cursor: pointer;\n",
       "        color: var(--tertiary-color);\n",
       "    }\n",
       "\n",
       "    .search-field {\n",
       "        display: flex;\n",
       "        align-items: center;\n",
       "        border-radius: 30px;\n",
       "        background-color: var(--secondary-color);\n",
       "    }\n",
       "\n",
       "    .syft-dropdown {\n",
       "        margin: 5px;\n",
       "        margin-left: 5px;\n",
       "        position: relative;\n",
       "        display: inline-block;\n",
       "        text-align: center;\n",
       "        background-color: var(--button-color);\n",
       "        min-width: 100px;\n",
       "        padding: 2px;\n",
       "        border-radius: 30px;\n",
       "    }\n",
       "\n",
       "    .syft-dropdown:hover {\n",
       "        cursor: pointer;\n",
       "    }\n",
       "    .syft-dropdown-content {\n",
       "        margin-top:26px;\n",
       "        display: none;\n",
       "        position: absolute;\n",
       "        min-width: 100px;\n",
       "        box-shadow: 0px 8px 16px 0px rgba(0,0,0,0.2);\n",
       "        padding: 12px 6px;\n",
       "        z-index: 1;\n",
       "        background-color: var(--primary-color);\n",
       "        color: var(--tertiary-color);\n",
       "    }\n",
       "    .dd-options {\n",
       "        padding-top: 4px;\n",
       "    }\n",
       "    .dd-options:first-of-type {\n",
       "        padding-top: 0px;\n",
       "    }\n",
       "\n",
       "    .dd-options:hover {\n",
       "        cursor: pointer;\n",
       "        background: #d1d5db;\n",
       "    }\n",
       "    .arrow {\n",
       "        border: solid black;\n",
       "        border-width: 0 3px 3px 0;\n",
       "        display: inline-block;\n",
       "        padding: 3px;\n",
       "    }\n",
       "    .down {\n",
       "        transform: rotate(45deg);\n",
       "        -webkit-transform: rotate(45deg);\n",
       "    }\n",
       "</style>\n",
       "\n",
       "\n",
       "    <div style='margin-top:15px;'>\n",
       "        <div class='flex gap-10' style='align-items: center;'>\n",
       "            <div class='folder-icon'><svg width=\"32\" height=\"32\" viewBox=\"0 0 32 32\" fill=\"none\" xmlns=\"http://www.w3.org/2000/svg\"> <path d=\"M28 6H4C3.73478 6 3.48043 6.10536 3.29289 6.29289C3.10536 6.48043 3 6.73478 3 7V24C3 24.5304 3.21071 25.0391 3.58579 25.4142C3.96086 25.7893 4.46957 26 5 26H27C27.5304 26 28.0391 25.7893 28.4142 25.4142C28.7893 25.0391 29 24.5304 29 24V7C29 6.73478 28.8946 6.48043 28.7071 6.29289C28.5196 6.10536 28.2652 6 28 6ZM5 14H10V18H5V14ZM12 14H27V18H12V14ZM27 8V12H5V8H27ZM5 20H10V24H5V20ZM27 24H12V20H27V24Z\" fill=\"#343330\"/></svg></div>\n",
       "            <div><p class='header-3'>SyncStateRow List</p></div>\n",
       "        </div>\n",
       "\n",
       "            <div style=\"padding-top: 16px; display:flex;justify-content: space-between; align-items: center;\">\n",
       "                <div class='pt-25 gap-10' style=\"display:flex;\">\n",
       "                    <div class=\"search-field\">\n",
       "                        <div id='search-menu04c94ee949e14b1086969336d4ede64b' class=\"syft-dropdown\" onclick=\"{\n",
       "                            let doc = document.getElementById('search-dropdown-content04c94ee949e14b1086969336d4ede64b')\n",
       "                            if (doc.style.display === 'block'){\n",
       "                                doc.style.display = 'none'\n",
       "                            } else {\n",
       "                                doc.style.display = 'block'\n",
       "                            }\n",
       "                            }\">\n",
       "                            <div id='search-dropdown-content04c94ee949e14b1086969336d4ede64b' class='syft-dropdown-content'></div>\n",
       "                            <script>\n",
       "                                var element04c94ee949e14b1086969336d4ede64b = [{\"id\": {\"value\": \"a481367be0c84321bc75724445301115\", \"type\": \"clipboard\"}, \"previous_state\": \"NEW\\n\", \"current_state\": \"NEW\\nUSERCODESTATUSCOLLECTION #ef8d6e80cb7247138548a65e9763a399:\\napproved: False\\nstatus_dict: {\\n\\u200e \\u200e \\u200e \\u200e node_id=&lt;UID: 8a1c04544655402190588aec30079bc3&gt; verify_key=1c0590b894d19530970da6bf09bb302afa3e473a4cccdacbace0e20223ee3367 node_name=&#x27;test_l&#x27;: (&lt;UserCodeStatus.PENDING: &#x27;pending&#x27;&gt;, &#x27;&#x27;)\\n}\\n\"}, {\"id\": {\"value\": \"581164eb7dfc4b36b5f3df76d46f1864\", \"type\": \"clipboard\"}, \"previous_state\": \"NEW\\n\", \"current_state\": \"NEW\\nUSERCODE #8e79765b6a7e4a6aae33d331c54ef740:\\nservice_func_name: compute_mean\\ninput_owners: [\\n\\u200e \\u200e \\u200e \\u200e test_l\\n]\\ncode_status: [\\n\\u200e \\u200e \\u200e \\u200e Node: test_l, Status: pending\\n]\\nworker_pool_name: default-pool\\n\"}, {\"id\": {\"value\": \"5e31dd1e86634eeb9eca195e3fc620e3\", \"type\": \"clipboard\"}, \"previous_state\": \"NEW\\n\", \"current_state\": \"NEW\\nREQUEST #2491f07c37a2460caa736ad538f7dfbe:\\nrequest_time: 2024-03-06 15:06:41\\nupdated_at: None\\nstatus: RequestStatus.PENDING\\nchanges: [\\n\\u200e \\u200e \\u200e \\u200e syft.service.request.request.UserCodeStatusChange\\n]\\nrequesting_user_verify_key: 9d3843ecd7baa5a785b0db24cc04a3726e15e6f408eb48a2485b63e54855c276\\n\"}]\n",
       "                                var page_size04c94ee949e14b1086969336d4ede64b = 3\n",
       "                                var pageIndex04c94ee949e14b1086969336d4ede64b = 1\n",
       "                                var paginatedElements04c94ee949e14b1086969336d4ede64b = []\n",
       "                                var activeFilter04c94ee949e14b1086969336d4ede64b;\n",
       "\n",
       "                                function buildDropDownMenu(elements){\n",
       "                                    let init_filter;\n",
       "                                    let menu = document.getElementById('search-dropdown-content04c94ee949e14b1086969336d4ede64b')\n",
       "                                    if (elements.length > 0) {\n",
       "                                        let sample = elements[0]\n",
       "                                        for (const attr in sample) {\n",
       "                                            if (typeof init_filter === 'undefined'){\n",
       "                                                init_filter = attr;\n",
       "                                            }\n",
       "                                            let content = document.createElement('div');\n",
       "                                            content.onclick = function(event) {\n",
       "                                                event.stopPropagation()\n",
       "                                                document.getElementById('menu-active-filter04c94ee949e14b1086969336d4ede64b').innerText = attr;\n",
       "                                                activeFilter04c94ee949e14b1086969336d4ede64b = attr;\n",
       "                                                document.getElementById(\n",
       "                                                    'search-dropdown-content04c94ee949e14b1086969336d4ede64b'\n",
       "                                                ).style.display= 'none';\n",
       "                                            }\n",
       "                                            content.classList.add(\"dd-options\");\n",
       "                                            content.innerText = attr;\n",
       "                                            menu.appendChild(content);\n",
       "                                        }\n",
       "                                    } else {\n",
       "                                        let init_filter = '---'\n",
       "                                    }\n",
       "                                    let dropdown_field = document.getElementById('search-menu04c94ee949e14b1086969336d4ede64b')\n",
       "                                    let span = document.createElement('span')\n",
       "                                    span.setAttribute('id', 'menu-active-filter04c94ee949e14b1086969336d4ede64b')\n",
       "                                    span.innerText = init_filter\n",
       "                                    activeFilter04c94ee949e14b1086969336d4ede64b = init_filter;\n",
       "                                    dropdown_field.appendChild(span)\n",
       "                                }\n",
       "\n",
       "                                buildDropDownMenu(element04c94ee949e14b1086969336d4ede64b)\n",
       "                            </script>\n",
       "                        </div>\n",
       "                        <input id='searchKey04c94ee949e14b1086969336d4ede64b' class='search-input' placeholder='Enter search here ...'  />\n",
       "                    </div>\n",
       "                    <button class='search-button' type=\"button\" onclick=\"searchGrid04c94ee949e14b1086969336d4ede64b(element04c94ee949e14b1086969336d4ede64b)\">\n",
       "                        <svg width=\"11\" height=\"10\" viewBox=\"0 0 11 10\" fill=\"none\" xmlns=\"http://www.w3.org/2000/svg\"><path d=\"M10.5652 9.23467L8.21819 6.88811C8.89846 6.07141 9.23767 5.02389 9.16527 3.96345C9.09287 2.90302 8.61443 1.91132 7.82948 1.19466C7.04453 0.477995 6.01349 0.0915414 4.95087 0.115691C3.88824 0.139841 2.87583 0.572735 2.12425 1.32432C1.37266 2.0759 0.939768 3.08831 0.915618 4.15094C0.891468 5.21357 1.27792 6.2446 1.99459 7.02955C2.71125 7.8145 3.70295 8.29294 4.76338 8.36535C5.82381 8.43775 6.87134 8.09853 7.68804 7.41827L10.0346 9.7653C10.0694 9.80014 10.1108 9.82778 10.1563 9.84663C10.2018 9.86549 10.2506 9.87519 10.2999 9.87519C10.3492 9.87519 10.398 9.86549 10.4435 9.84663C10.489 9.82778 10.5304 9.80014 10.5652 9.7653C10.6001 9.73046 10.6277 9.68909 10.6466 9.64357C10.6654 9.59805 10.6751 9.54926 10.6751 9.49998C10.6751 9.45071 10.6654 9.40192 10.6466 9.3564C10.6277 9.31088 10.6001 9.26951 10.5652 9.23467ZM1.67491 4.24998C1.67491 3.58247 1.87285 2.92995 2.2437 2.37493C2.61455 1.81992 3.14165 1.38734 3.75835 1.13189C4.37506 0.876446 5.05366 0.809609 5.70834 0.939835C6.36303 1.07006 6.96439 1.3915 7.4364 1.8635C7.9084 2.3355 8.22984 2.93687 8.36006 3.59155C8.49029 4.24624 8.42345 4.92484 8.168 5.54154C7.91256 6.15824 7.47998 6.68535 6.92496 7.05619C6.36995 7.42704 5.71742 7.62498 5.04991 7.62498C4.15511 7.62399 3.29724 7.26809 2.66452 6.63537C2.0318 6.00265 1.6759 5.14479 1.67491 4.24998Z\" fill=\"currentColor\"/></svg>\n",
       "                        <span class='pl-8'>Search</span>\n",
       "                    </button>\n",
       "                </div>\n",
       "\n",
       "                <div><h4 id='total04c94ee949e14b1086969336d4ede64b'>0</h4></div>\n",
       "            </div>\n",
       "            <div id='table04c94ee949e14b1086969336d4ede64b' class='grid-table04c94ee949e14b1086969336d4ede64b' style='margin-top: 25px;'>\n",
       "                <script>\n",
       "                    function paginate04c94ee949e14b1086969336d4ede64b(arr, size) {\n",
       "                        const res = [];\n",
       "                        for (let i = 0; i < arr.length; i += size) {\n",
       "                            const chunk = arr.slice(i, i + size);\n",
       "                            res.push(chunk);\n",
       "                        }\n",
       "\n",
       "                        return res;\n",
       "                    }\n",
       "\n",
       "                    function searchGrid04c94ee949e14b1086969336d4ede64b(elements){\n",
       "                        let searchKey = document.getElementById('searchKey04c94ee949e14b1086969336d4ede64b').value;\n",
       "                        let result;\n",
       "                        if (searchKey === ''){\n",
       "                            result = elements;\n",
       "                        } else {\n",
       "                            result = elements.filter((element) => {\n",
       "                                let property = element[activeFilter04c94ee949e14b1086969336d4ede64b]\n",
       "                                if (typeof property === 'object' && property !== null){\n",
       "                                    return property.value.toLowerCase().includes(searchKey.toLowerCase());\n",
       "                                } else if (typeof property === 'string' ) {\n",
       "                                    return element[activeFilter04c94ee949e14b1086969336d4ede64b].toLowerCase().includes(searchKey.toLowerCase());\n",
       "                                } else if (property !== null ) {\n",
       "                                    return element[activeFilter04c94ee949e14b1086969336d4ede64b].toString() === searchKey;\n",
       "                                } else {\n",
       "                                    return element[activeFilter04c94ee949e14b1086969336d4ede64b] === searchKey;\n",
       "                                }\n",
       "                            } );\n",
       "                        }\n",
       "                        resetById04c94ee949e14b1086969336d4ede64b('table04c94ee949e14b1086969336d4ede64b');\n",
       "                        resetById04c94ee949e14b1086969336d4ede64b('pag04c94ee949e14b1086969336d4ede64b');\n",
       "                        result = paginate04c94ee949e14b1086969336d4ede64b(result, page_size04c94ee949e14b1086969336d4ede64b)\n",
       "                        paginatedElements04c94ee949e14b1086969336d4ede64b = result\n",
       "                        buildGrid04c94ee949e14b1086969336d4ede64b(result,pageIndex04c94ee949e14b1086969336d4ede64b);\n",
       "                        buildPaginationContainer04c94ee949e14b1086969336d4ede64b(result);\n",
       "                    }\n",
       "\n",
       "                    function resetById04c94ee949e14b1086969336d4ede64b(id){\n",
       "                        let element = document.getElementById(id);\n",
       "                        while (element.firstChild) {\n",
       "                          element.removeChild(element.firstChild);\n",
       "                        }\n",
       "                    }\n",
       "\n",
       "                    function buildGrid04c94ee949e14b1086969336d4ede64b(items, pageIndex){\n",
       "                                let headers = Object.keys(element04c94ee949e14b1086969336d4ede64b[0]);\n",
       "\n",
       "                                let grid = document.getElementById(\"table04c94ee949e14b1086969336d4ede64b\");\n",
       "                                let div = document.createElement(\"div\");\n",
       "                                div.classList.add('grid-header', 'grid-index-cells');\n",
       "                                grid.appendChild(div);\n",
       "                                headers.forEach((title) =>{\n",
       "                                    let div = document.createElement(\"div\");\n",
       "                                    div.classList.add('grid-header', 'grid-std-cells');\n",
       "                                    div.innerText = title;\n",
       "\n",
       "                                    grid.appendChild(div);\n",
       "                                });\n",
       "\n",
       "                                let page = items[pageIndex -1]\n",
       "                                if (page !== 'undefine'){\n",
       "                                    let table_index04c94ee949e14b1086969336d4ede64b = ((pageIndex - 1) * page_size04c94ee949e14b1086969336d4ede64b)\n",
       "                                    page.forEach((item) => {\n",
       "                                        let grid = document.getElementById(\"table04c94ee949e14b1086969336d4ede64b\");\n",
       "                                        // Add new index value in index cells\n",
       "                                        let divIndex = document.createElement(\"div\");\n",
       "                                        divIndex.classList.add('grid-row', 'grid-index-cells');\n",
       "                                        divIndex.innerText = table_index04c94ee949e14b1086969336d4ede64b;\n",
       "                                        grid.appendChild(divIndex);\n",
       "\n",
       "                                        // Iterate over the actual obj\n",
       "                                        for (const attr in item) {\n",
       "                                            let div = document.createElement(\"div\");\n",
       "                                            if (typeof item[attr] === 'object'\n",
       "                                                && item[attr] !== null\n",
       "                                                && item[attr].hasOwnProperty('type')) {\n",
       "                                                if (item[attr].type.includes('badge')){\n",
       "                                                    let badge_div = document.createElement(\"div\");\n",
       "                                                    badge_div.classList.add('badge',item[attr].type)\n",
       "                                                    badge_div.innerText = String(item[attr].value).toUpperCase();\n",
       "                                                    div.appendChild(badge_div);\n",
       "                                                    div.classList.add('grid-row','grid-std-cells');\n",
       "                                                } else if (item[attr].type === \"clipboard\") {\n",
       "                                                    div.classList.add('grid-row','grid-std-cells');\n",
       "\n",
       "                                                    // Create clipboard div\n",
       "                                                    let clipboard_div = document.createElement('div');\n",
       "                                                    clipboard_div.style.display= 'flex';\n",
       "                                                    clipboard_div.classList.add(\"gap-10\")\n",
       "                                                    clipboard_div.style.justifyContent = \"space-between\";\n",
       "\n",
       "                                                    let id_text = document.createElement('div');\n",
       "                                                    if (item[attr].value == \"None\"){\n",
       "                                                        id_text.innerText = \"None\";\n",
       "                                                    }\n",
       "                                                    else{\n",
       "                                                        id_text.innerText = item[attr].value.slice(0,5) + \"...\";\n",
       "                                                    }\n",
       "\n",
       "                                                    clipboard_div.appendChild(id_text);\n",
       "                                                    let clipboard_img = document.createElement('div');\n",
       "                                                    clipboard_img.classList.add(\"clipboard\")\n",
       "                                                    div.onclick = function() {\n",
       "                                                        navigator.clipboard.writeText(item[attr].value);\n",
       "                                                    };\n",
       "                                                    clipboard_img.innerHTML = \"<svg width='8' height='8' viewBox='0 0 8 8' fill='none' xmlns='http://www.w3.org/2000/svg'><path d='M7.4375 0.25H2.4375C2.35462 0.25 2.27513 0.282924 2.21653 0.341529C2.15792 0.400134 2.125 0.47962 2.125 0.5625V2.125H0.5625C0.47962 2.125 0.400134 2.15792 0.341529 2.21653C0.282924 2.27513 0.25 2.35462 0.25 2.4375V7.4375C0.25 7.52038 0.282924 7.59987 0.341529 7.65847C0.400134 7.71708 0.47962 7.75 0.5625 7.75H5.5625C5.64538 7.75 5.72487 7.71708 5.78347 7.65847C5.84208 7.59987 5.875 7.52038 5.875 7.4375V5.875H7.4375C7.52038 5.875 7.59987 5.84208 7.65847 5.78347C7.71708 5.72487 7.75 5.64538 7.75 5.5625V0.5625C7.75 0.47962 7.71708 0.400134 7.65847 0.341529C7.59987 0.282924 7.52038 0.25 7.4375 0.25ZM5.25 7.125H0.875V2.75H5.25V7.125ZM7.125 5.25H5.875V2.4375C5.875 2.35462 5.84208 2.27513 5.78347 2.21653C5.72487 2.15792 5.64538 2.125 5.5625 2.125H2.75V0.875H7.125V5.25Z' fill='#464158'/></svg>\";\n",
       "\n",
       "                                                    clipboard_div.appendChild(clipboard_img);\n",
       "                                                    div.appendChild(clipboard_div);\n",
       "                                                }\n",
       "                                            } else{\n",
       "                                                div.classList.add('grid-row','grid-std-cells');\n",
       "                                                if (item[attr] == null) {\n",
       "                                                    text = ' '\n",
       "                                                } else {\n",
       "                                                    text = String(item[attr])\n",
       "                                                }\n",
       "\n",
       "                                                text = text.replaceAll(\"\\n\", \"</br>\");\n",
       "                                                div.innerHTML = text;\n",
       "                                            }\n",
       "                                            grid.appendChild(div);\n",
       "                                        }\n",
       "                                    table_index04c94ee949e14b1086969336d4ede64b = table_index04c94ee949e14b1086969336d4ede64b + 1;\n",
       "                                    })\n",
       "                                }\n",
       "                    }\n",
       "                    paginatedElements04c94ee949e14b1086969336d4ede64b = paginate04c94ee949e14b1086969336d4ede64b(element04c94ee949e14b1086969336d4ede64b, page_size04c94ee949e14b1086969336d4ede64b)\n",
       "                    buildGrid04c94ee949e14b1086969336d4ede64b(paginatedElements04c94ee949e14b1086969336d4ede64b, 1)\n",
       "                    document.getElementById('total04c94ee949e14b1086969336d4ede64b').innerText = \"Total: \" + element04c94ee949e14b1086969336d4ede64b.length\n",
       "                </script>\n",
       "            </div>\n",
       "            <div id='pag04c94ee949e14b1086969336d4ede64b' class='paginationContainer'>\n",
       "                <script>\n",
       "                    function buildPaginationContainer04c94ee949e14b1086969336d4ede64b(paginatedElements){\n",
       "                            let pageContainer = document.getElementById(\"pag04c94ee949e14b1086969336d4ede64b\");\n",
       "                            for (let i = 0; i < paginatedElements.length; i++) {\n",
       "                                  let div = document.createElement(\"div\");\n",
       "                                  div.classList.add('page');\n",
       "                                  if(i===0) div.style.color = \"gray\";\n",
       "                                  else div.style.color = 'var(--tertiary-color, \"gray\")';\n",
       "                                  div.onclick = function(event) {\n",
       "                                      let indexes = document.getElementsByClassName('page');\n",
       "                                      for (let index of indexes) { index.style.color = 'var(--tertiary-color, \"gray\")' }\n",
       "                                      event.target.style.color = \"gray\";\n",
       "                                      setPage04c94ee949e14b1086969336d4ede64b(i + 1);\n",
       "                                  };\n",
       "                                  div.innerText = i + 1;\n",
       "                                  pageContainer.appendChild(div);\n",
       "                            }\n",
       "                    }\n",
       "\n",
       "                    function setPage04c94ee949e14b1086969336d4ede64b(newPage){\n",
       "                        pageIndex = newPage\n",
       "                        resetById04c94ee949e14b1086969336d4ede64b('table04c94ee949e14b1086969336d4ede64b')\n",
       "                        buildGrid04c94ee949e14b1086969336d4ede64b(paginatedElements04c94ee949e14b1086969336d4ede64b, pageIndex)\n",
       "                    }\n",
       "\n",
       "                    buildPaginationContainer04c94ee949e14b1086969336d4ede64b(paginatedElements04c94ee949e14b1086969336d4ede64b)\n",
       "                </script>\n",
       "            </div>\n",
       "        </div>\n"
      ],
      "text/markdown": [
       "```python\n",
       "class SyncState:\n",
       "  id: str = cf95b1fb6eb04e078f0993833d033229\n",
       "\n",
       "```"
      ],
      "text/plain": [
       "syft.service.sync.sync_state.SyncState"
      ]
     },
     "execution_count": 11,
     "metadata": {},
     "output_type": "execute_result"
    }
   ],
   "source": [
    "low_state"
   ]
  },
  {
   "cell_type": "code",
   "execution_count": 12,
   "id": "7d995b39",
   "metadata": {},
   "outputs": [],
   "source": [
    "diff_state = compare_states(low_state, high_state)"
   ]
  },
  {
   "cell_type": "code",
   "execution_count": 13,
   "id": "2f024ef2-3330-43a2-8619-c3c23ddaa936",
   "metadata": {},
   "outputs": [
    {
     "data": {
      "text/html": [
       "\n",
       "<style>\n",
       "  body[data-jp-theme-light='false'] {\n",
       "        --primary-color: #111111;\n",
       "        --secondary-color: #212121;\n",
       "        --tertiary-color: #CFCDD6;\n",
       "        --button-color: #111111;\n",
       "  }\n",
       "\n",
       "  body {\n",
       "        --primary-color: #ffffff;\n",
       "        --secondary-color: #f5f5f5;\n",
       "        --tertiary-color: #000000de;\n",
       "        --button-color: #d1d5db;\n",
       "  }\n",
       "\n",
       "  .header-1 {\n",
       "        font-style: normal;\n",
       "        font-weight: 600;\n",
       "        font-size: 2.0736em;\n",
       "        line-height: 100%;\n",
       "        leading-trim: both;\n",
       "        text-edge: cap;\n",
       "        color: #17161D;\n",
       "    }\n",
       "\n",
       "  .header-2 {\n",
       "        font-style: normal;\n",
       "        font-weight: 600;\n",
       "        font-size: 1.728em;\n",
       "        line-height: 100%;\n",
       "        leading-trim: both;\n",
       "        text-edge: cap;\n",
       "        color: #17161D;\n",
       "    }\n",
       "\n",
       "  .header-3 {\n",
       "        font-style: normal;\n",
       "        font-weight: 600;\n",
       "        font-size:  1.44em;\n",
       "        line-height: 100%;\n",
       "        leading-trim: both;\n",
       "        text-edge: cap;\n",
       "        color: var(--tertiary-color);\n",
       "    }\n",
       "\n",
       "  .header-4 {\n",
       "        font-style: normal;\n",
       "        font-weight: 600;\n",
       "        font-size: 1.2em;\n",
       "        line-height: 100%;\n",
       "        leading-trim: both;\n",
       "        text-edge: cap;\n",
       "        color: #17161D;\n",
       "    }\n",
       "\n",
       "    .paragraph {\n",
       "        font-style: normal;\n",
       "        font-weight: 400;\n",
       "        font-size: 14px;\n",
       "        line-height: 100%;\n",
       "        leading-trim: both;\n",
       "        text-edge: cap;\n",
       "        color: #2E2B3B;\n",
       "    }\n",
       "\n",
       "    .paragraph-sm {\n",
       "        font-family: 'Roboto';\n",
       "        font-style: normal;\n",
       "        font-weight: 400;\n",
       "        font-size: 11.62px;\n",
       "        line-height: 100%;\n",
       "        leading-trim: both;\n",
       "        text-edge: cap;\n",
       "        color: #2E2B3B;\n",
       "    }\n",
       "    .code-text {\n",
       "        font-family: 'Consolas';\n",
       "        font-style: normal;\n",
       "        font-weight: 400;\n",
       "        font-size: 13px;\n",
       "        line-height: 130%;\n",
       "        leading-trim: both;\n",
       "        text-edge: cap;\n",
       "        color: #2E2B3B;\n",
       "    }\n",
       "\n",
       "    .numbering-entry { display: none }\n",
       "\n",
       "    /* Tooltip container */\n",
       "    .tooltip {\n",
       "        position: relative;\n",
       "        display: inline-block;\n",
       "        border-bottom: 1px dotted black; /* If you want dots under the hoverable text */\n",
       "    }\n",
       "\n",
       "    /* Tooltip text */\n",
       "    .tooltip .tooltiptext {\n",
       "        visibility: hidden;\n",
       "        width: 120px;\n",
       "        background-color: black;\n",
       "        color: #fff;\n",
       "        text-align: center;\n",
       "        padding: 5px 0;\n",
       "        border-radius: 6px;\n",
       "\n",
       "        /* Position the tooltip text - see examples below! */\n",
       "        position: absolute;\n",
       "        z-index: 1;\n",
       "    }\n",
       "\n",
       "    .repr-cell {\n",
       "      padding-top: 20px;\n",
       "    }\n",
       "\n",
       "    .text-bold {\n",
       "        font-weight: bold;\n",
       "    }\n",
       "\n",
       "    .pr-8 {\n",
       "        padding-right: 8px;\n",
       "    }\n",
       "    .pt-8 {\n",
       "        padding-top: 8px;\n",
       "    }\n",
       "    .pl-8 {\n",
       "        padding-left: 8px;\n",
       "    }\n",
       "    .pb-8 {\n",
       "        padding-bottom: 8px;\n",
       "    }\n",
       "\n",
       "    .py-25{\n",
       "        padding-top: 25px;\n",
       "        padding-bottom: 25px;\n",
       "    }\n",
       "\n",
       "    .flex {\n",
       "        display: flex;\n",
       "    }\n",
       "\n",
       "    .gap-10 {\n",
       "        gap: 10px;\n",
       "    }\n",
       "    .items-center{\n",
       "        align-items: center;\n",
       "    }\n",
       "\n",
       "    .folder-icon {\n",
       "        color: var(--tertiary-color);\n",
       "    }\n",
       "\n",
       "    .search-input{\n",
       "        display: flex;\n",
       "        flex-direction: row;\n",
       "        align-items: center;\n",
       "        padding: 8px 12px;\n",
       "        width: 343px;\n",
       "        height: 24px;\n",
       "        /* Lt On Surface/Low */\n",
       "        background-color: var(--secondary-color);\n",
       "        border-radius: 30px;\n",
       "\n",
       "        /* Lt On Surface/Highest */\n",
       "        color: var(--tertiary-color);\n",
       "        border:none;\n",
       "        /* Inside auto layout */\n",
       "        flex: none;\n",
       "        order: 0;\n",
       "        flex-grow: 0;\n",
       "    }\n",
       "    .search-input:focus {\n",
       "        outline: none;\n",
       "    }\n",
       "        .search-input:focus::placeholder,\n",
       "    .search-input::placeholder { /* Chrome, Firefox, Opera, Safari 10.1+ */\n",
       "        color: var(--tertiary-color);\n",
       "        opacity: 1; /* Firefox */\n",
       "    }\n",
       "\n",
       "    .search-button{\n",
       "        /* Search */\n",
       "        leading-trim: both;\n",
       "        text-edge: cap;\n",
       "        display: flex;\n",
       "        align-items: center;\n",
       "        text-align: center;\n",
       "\n",
       "        /* Primary/On Light */\n",
       "        background-color: var(--button-color);\n",
       "        color: var(--tertiary-color);\n",
       "\n",
       "        border-radius: 30px;\n",
       "        border-color: var(--secondary-color);\n",
       "        border-style: solid;\n",
       "        box-shadow: rgba(60, 64, 67, 0.3) 0px 1px 2px 0px, rgba(60, 64, 67, 0.15) 0px 1px 3px 1px;\n",
       "        cursor: pointer;\n",
       "        /* Inside auto layout */\n",
       "        flex: none;\n",
       "        order: 1;\n",
       "        flex-grow: 0;\n",
       "    }\n",
       "\n",
       "    .grid-tableda268d7db3a24d23a871dc228695c246 {\n",
       "        display:grid;\n",
       "        grid-template-columns: 1fr repeat(12, 1fr);\n",
       "        grid-template-rows: repeat(2, 1fr);\n",
       "        overflow-x: auto;\n",
       "        position: relative;\n",
       "    }\n",
       "\n",
       "    .grid-std-cells {\n",
       "        grid-column: span 4;\n",
       "\n",
       "    }\n",
       "    .grid-index-cells {\n",
       "        grid-column: span 1;\n",
       "        /* tmp fix to make left col stand out (fix with font-family) */\n",
       "        font-weight: 600;\n",
       "        background-color: var(--secondary-color) !important;\n",
       "        color: var(--tertiary-color);\n",
       "    }\n",
       "\n",
       "    .grid-header {\n",
       "        /* Auto layout */\n",
       "        display: flex;\n",
       "        flex-direction: column;\n",
       "        align-items: center;\n",
       "        padding: 6px 4px;\n",
       "\n",
       "        resize: horizontal;\n",
       "        /* Lt On Surface/Surface */\n",
       "        /* Lt On Surface/High */\n",
       "        border: 1px solid #CFCDD6;\n",
       "        /* tmp fix to make header stand out (fix with font-family) */\n",
       "        font-weight: 600;\n",
       "        background-color: var(--secondary-color);\n",
       "        color: var(--tertiary-color);\n",
       "    }\n",
       "\n",
       "    .grid-row {\n",
       "        display: flex;\n",
       "        flex-direction: column;\n",
       "        align-items: flex-start;\n",
       "        padding: 6px 4px;\n",
       "        overflow: hidden;\n",
       "        border: 1px solid #CFCDD6;\n",
       "        background-color: var(--primary-color);\n",
       "        color: var(--tertiary-color);\n",
       "    }\n",
       "\n",
       "    .badge {\n",
       "        code-text;\n",
       "        border-radius: 30px;\n",
       "    }\n",
       "\n",
       "    .badge-blue {\n",
       "        badge;\n",
       "        background-color: #C2DEF0;\n",
       "        color: #1F567A;\n",
       "    }\n",
       "\n",
       "    .badge-purple {\n",
       "        badge;\n",
       "        background-color: #C9CFE8;\n",
       "        color: #373B7B;\n",
       "    }\n",
       "\n",
       "    .badge-green {\n",
       "        badge;\n",
       "\n",
       "        /* Success/Container */\n",
       "        background-color: #D5F1D5;\n",
       "        color: #256B24;\n",
       "    }\n",
       "\n",
       "    .badge-red {\n",
       "        badge;\n",
       "        background-color: #F2D9DE;\n",
       "        color: #9B2737;\n",
       "    }\n",
       "\n",
       "    .badge-gray {\n",
       "        badge;\n",
       "        background-color: #ECEBEF;\n",
       "        color: #2E2B3B;\n",
       "    }\n",
       "    .paginationContainer{\n",
       "        width: 100%;\n",
       "        /*height: 30px;*/\n",
       "        display: flex;\n",
       "        justify-content: center;\n",
       "        gap: 8px;\n",
       "        padding: 5px;\n",
       "        color: var(--tertiary-color);\n",
       "    }\n",
       "\n",
       "    .page{\n",
       "        color: black;\n",
       "        font-weight: bold;\n",
       "        color: var(--tertiary-color);\n",
       "    }\n",
       "    .page:hover {\n",
       "      color: #38bdf8;\n",
       "      cursor: pointer;\n",
       "    }\n",
       "    .clipboard:hover{\n",
       "        cursor: pointer;\n",
       "        color: var(--tertiary-color);\n",
       "    }\n",
       "\n",
       "    .search-field {\n",
       "        display: flex;\n",
       "        align-items: center;\n",
       "        border-radius: 30px;\n",
       "        background-color: var(--secondary-color);\n",
       "    }\n",
       "\n",
       "    .syft-dropdown {\n",
       "        margin: 5px;\n",
       "        margin-left: 5px;\n",
       "        position: relative;\n",
       "        display: inline-block;\n",
       "        text-align: center;\n",
       "        background-color: var(--button-color);\n",
       "        min-width: 100px;\n",
       "        padding: 2px;\n",
       "        border-radius: 30px;\n",
       "    }\n",
       "\n",
       "    .syft-dropdown:hover {\n",
       "        cursor: pointer;\n",
       "    }\n",
       "    .syft-dropdown-content {\n",
       "        margin-top:26px;\n",
       "        display: none;\n",
       "        position: absolute;\n",
       "        min-width: 100px;\n",
       "        box-shadow: 0px 8px 16px 0px rgba(0,0,0,0.2);\n",
       "        padding: 12px 6px;\n",
       "        z-index: 1;\n",
       "        background-color: var(--primary-color);\n",
       "        color: var(--tertiary-color);\n",
       "    }\n",
       "    .dd-options {\n",
       "        padding-top: 4px;\n",
       "    }\n",
       "    .dd-options:first-of-type {\n",
       "        padding-top: 0px;\n",
       "    }\n",
       "\n",
       "    .dd-options:hover {\n",
       "        cursor: pointer;\n",
       "        background: #d1d5db;\n",
       "    }\n",
       "    .arrow {\n",
       "        border: solid black;\n",
       "        border-width: 0 3px 3px 0;\n",
       "        display: inline-block;\n",
       "        padding: 3px;\n",
       "    }\n",
       "    .down {\n",
       "        transform: rotate(45deg);\n",
       "        -webkit-transform: rotate(45deg);\n",
       "    }\n",
       "</style>\n",
       "\n",
       "\n",
       "    <div style='margin-top:15px;'>\n",
       "        <div class='flex gap-10' style='align-items: center;'>\n",
       "            <div class='folder-icon'><svg width=\"32\" height=\"32\" viewBox=\"0 0 32 32\" fill=\"none\" xmlns=\"http://www.w3.org/2000/svg\"> <path d=\"M28 6H4C3.73478 6 3.48043 6.10536 3.29289 6.29289C3.10536 6.48043 3 6.73478 3 7V24C3 24.5304 3.21071 25.0391 3.58579 25.4142C3.96086 25.7893 4.46957 26 5 26H27C27.5304 26 28.0391 25.7893 28.4142 25.4142C28.7893 25.0391 29 24.5304 29 24V7C29 6.73478 28.8946 6.48043 28.7071 6.29289C28.5196 6.10536 28.2652 6 28 6ZM5 14H10V18H5V14ZM12 14H27V18H12V14ZM27 8V12H5V8H27ZM5 20H10V24H5V20ZM27 24H12V20H27V24Z\" fill=\"#343330\"/></svg></div>\n",
       "            <div><p class='header-3'>ObjectDiff List</p></div>\n",
       "        </div>\n",
       "\n",
       "            <div style=\"padding-top: 16px; display:flex;justify-content: space-between; align-items: center;\">\n",
       "                <div class='pt-25 gap-10' style=\"display:flex;\">\n",
       "                    <div class=\"search-field\">\n",
       "                        <div id='search-menuda268d7db3a24d23a871dc228695c246' class=\"syft-dropdown\" onclick=\"{\n",
       "                            let doc = document.getElementById('search-dropdown-contentda268d7db3a24d23a871dc228695c246')\n",
       "                            if (doc.style.display === 'block'){\n",
       "                                doc.style.display = 'none'\n",
       "                            } else {\n",
       "                                doc.style.display = 'block'\n",
       "                            }\n",
       "                            }\">\n",
       "                            <div id='search-dropdown-contentda268d7db3a24d23a871dc228695c246' class='syft-dropdown-content'></div>\n",
       "                            <script>\n",
       "                                var elementda268d7db3a24d23a871dc228695c246 = [{\"id\": {\"value\": \"658429dd8923487690a1d2e7c1760a1b\", \"type\": \"clipboard\"}, \"low_state\": \"NEW\\nUSERCODESTATUSCOLLECTION #ef8d6e80cb7247138548a65e9763a399:\\napproved: False\\nstatus_dict: {\\n\\u200e \\u200e \\u200e \\u200e node_id=&lt;UID: 8a1c04544655402190588aec30079bc3&gt; verify_key=1c0590b894d19530970da6bf09bb302afa3e473a4cccdacbace0e20223ee3367 node_name=&#x27;test_l&#x27;: (&lt;UserCodeStatus.PENDING: &#x27;pending&#x27;&gt;, &#x27;&#x27;)\\n}\\n\", \"high_state\": \"NEW\\n\"}, {\"id\": {\"value\": \"41aeddacfe384683b0d87e4ea0da96ce\", \"type\": \"clipboard\"}, \"low_state\": \"NEW\\nUSERCODE #8e79765b6a7e4a6aae33d331c54ef740:\\nservice_func_name: compute_mean\\ninput_owners: [\\n\\u200e \\u200e \\u200e \\u200e test_l\\n]\\ncode_status: [\\n\\u200e \\u200e \\u200e \\u200e Node: test_l, Status: pending\\n]\\nworker_pool_name: default-pool\\n\", \"high_state\": \"NEW\\n\"}, {\"id\": {\"value\": \"25fa1a2fbe15416cbb5b1b0326010008\", \"type\": \"clipboard\"}, \"low_state\": \"NEW\\nREQUEST #2491f07c37a2460caa736ad538f7dfbe:\\nrequest_time: 2024-03-06 15:06:41\\nupdated_at: None\\nstatus: RequestStatus.PENDING\\nchanges: [\\n\\u200e \\u200e \\u200e \\u200e syft.service.request.request.UserCodeStatusChange\\n]\\nrequesting_user_verify_key: 9d3843ecd7baa5a785b0db24cc04a3726e15e6f408eb48a2485b63e54855c276\\n\", \"high_state\": \"NEW\\n\"}]\n",
       "                                var page_sizeda268d7db3a24d23a871dc228695c246 = 3\n",
       "                                var pageIndexda268d7db3a24d23a871dc228695c246 = 1\n",
       "                                var paginatedElementsda268d7db3a24d23a871dc228695c246 = []\n",
       "                                var activeFilterda268d7db3a24d23a871dc228695c246;\n",
       "\n",
       "                                function buildDropDownMenu(elements){\n",
       "                                    let init_filter;\n",
       "                                    let menu = document.getElementById('search-dropdown-contentda268d7db3a24d23a871dc228695c246')\n",
       "                                    if (elements.length > 0) {\n",
       "                                        let sample = elements[0]\n",
       "                                        for (const attr in sample) {\n",
       "                                            if (typeof init_filter === 'undefined'){\n",
       "                                                init_filter = attr;\n",
       "                                            }\n",
       "                                            let content = document.createElement('div');\n",
       "                                            content.onclick = function(event) {\n",
       "                                                event.stopPropagation()\n",
       "                                                document.getElementById('menu-active-filterda268d7db3a24d23a871dc228695c246').innerText = attr;\n",
       "                                                activeFilterda268d7db3a24d23a871dc228695c246 = attr;\n",
       "                                                document.getElementById(\n",
       "                                                    'search-dropdown-contentda268d7db3a24d23a871dc228695c246'\n",
       "                                                ).style.display= 'none';\n",
       "                                            }\n",
       "                                            content.classList.add(\"dd-options\");\n",
       "                                            content.innerText = attr;\n",
       "                                            menu.appendChild(content);\n",
       "                                        }\n",
       "                                    } else {\n",
       "                                        let init_filter = '---'\n",
       "                                    }\n",
       "                                    let dropdown_field = document.getElementById('search-menuda268d7db3a24d23a871dc228695c246')\n",
       "                                    let span = document.createElement('span')\n",
       "                                    span.setAttribute('id', 'menu-active-filterda268d7db3a24d23a871dc228695c246')\n",
       "                                    span.innerText = init_filter\n",
       "                                    activeFilterda268d7db3a24d23a871dc228695c246 = init_filter;\n",
       "                                    dropdown_field.appendChild(span)\n",
       "                                }\n",
       "\n",
       "                                buildDropDownMenu(elementda268d7db3a24d23a871dc228695c246)\n",
       "                            </script>\n",
       "                        </div>\n",
       "                        <input id='searchKeyda268d7db3a24d23a871dc228695c246' class='search-input' placeholder='Enter search here ...'  />\n",
       "                    </div>\n",
       "                    <button class='search-button' type=\"button\" onclick=\"searchGridda268d7db3a24d23a871dc228695c246(elementda268d7db3a24d23a871dc228695c246)\">\n",
       "                        <svg width=\"11\" height=\"10\" viewBox=\"0 0 11 10\" fill=\"none\" xmlns=\"http://www.w3.org/2000/svg\"><path d=\"M10.5652 9.23467L8.21819 6.88811C8.89846 6.07141 9.23767 5.02389 9.16527 3.96345C9.09287 2.90302 8.61443 1.91132 7.82948 1.19466C7.04453 0.477995 6.01349 0.0915414 4.95087 0.115691C3.88824 0.139841 2.87583 0.572735 2.12425 1.32432C1.37266 2.0759 0.939768 3.08831 0.915618 4.15094C0.891468 5.21357 1.27792 6.2446 1.99459 7.02955C2.71125 7.8145 3.70295 8.29294 4.76338 8.36535C5.82381 8.43775 6.87134 8.09853 7.68804 7.41827L10.0346 9.7653C10.0694 9.80014 10.1108 9.82778 10.1563 9.84663C10.2018 9.86549 10.2506 9.87519 10.2999 9.87519C10.3492 9.87519 10.398 9.86549 10.4435 9.84663C10.489 9.82778 10.5304 9.80014 10.5652 9.7653C10.6001 9.73046 10.6277 9.68909 10.6466 9.64357C10.6654 9.59805 10.6751 9.54926 10.6751 9.49998C10.6751 9.45071 10.6654 9.40192 10.6466 9.3564C10.6277 9.31088 10.6001 9.26951 10.5652 9.23467ZM1.67491 4.24998C1.67491 3.58247 1.87285 2.92995 2.2437 2.37493C2.61455 1.81992 3.14165 1.38734 3.75835 1.13189C4.37506 0.876446 5.05366 0.809609 5.70834 0.939835C6.36303 1.07006 6.96439 1.3915 7.4364 1.8635C7.9084 2.3355 8.22984 2.93687 8.36006 3.59155C8.49029 4.24624 8.42345 4.92484 8.168 5.54154C7.91256 6.15824 7.47998 6.68535 6.92496 7.05619C6.36995 7.42704 5.71742 7.62498 5.04991 7.62498C4.15511 7.62399 3.29724 7.26809 2.66452 6.63537C2.0318 6.00265 1.6759 5.14479 1.67491 4.24998Z\" fill=\"currentColor\"/></svg>\n",
       "                        <span class='pl-8'>Search</span>\n",
       "                    </button>\n",
       "                </div>\n",
       "\n",
       "                <div><h4 id='totalda268d7db3a24d23a871dc228695c246'>0</h4></div>\n",
       "            </div>\n",
       "            <div id='tableda268d7db3a24d23a871dc228695c246' class='grid-tableda268d7db3a24d23a871dc228695c246' style='margin-top: 25px;'>\n",
       "                <script>\n",
       "                    function paginateda268d7db3a24d23a871dc228695c246(arr, size) {\n",
       "                        const res = [];\n",
       "                        for (let i = 0; i < arr.length; i += size) {\n",
       "                            const chunk = arr.slice(i, i + size);\n",
       "                            res.push(chunk);\n",
       "                        }\n",
       "\n",
       "                        return res;\n",
       "                    }\n",
       "\n",
       "                    function searchGridda268d7db3a24d23a871dc228695c246(elements){\n",
       "                        let searchKey = document.getElementById('searchKeyda268d7db3a24d23a871dc228695c246').value;\n",
       "                        let result;\n",
       "                        if (searchKey === ''){\n",
       "                            result = elements;\n",
       "                        } else {\n",
       "                            result = elements.filter((element) => {\n",
       "                                let property = element[activeFilterda268d7db3a24d23a871dc228695c246]\n",
       "                                if (typeof property === 'object' && property !== null){\n",
       "                                    return property.value.toLowerCase().includes(searchKey.toLowerCase());\n",
       "                                } else if (typeof property === 'string' ) {\n",
       "                                    return element[activeFilterda268d7db3a24d23a871dc228695c246].toLowerCase().includes(searchKey.toLowerCase());\n",
       "                                } else if (property !== null ) {\n",
       "                                    return element[activeFilterda268d7db3a24d23a871dc228695c246].toString() === searchKey;\n",
       "                                } else {\n",
       "                                    return element[activeFilterda268d7db3a24d23a871dc228695c246] === searchKey;\n",
       "                                }\n",
       "                            } );\n",
       "                        }\n",
       "                        resetByIdda268d7db3a24d23a871dc228695c246('tableda268d7db3a24d23a871dc228695c246');\n",
       "                        resetByIdda268d7db3a24d23a871dc228695c246('pagda268d7db3a24d23a871dc228695c246');\n",
       "                        result = paginateda268d7db3a24d23a871dc228695c246(result, page_sizeda268d7db3a24d23a871dc228695c246)\n",
       "                        paginatedElementsda268d7db3a24d23a871dc228695c246 = result\n",
       "                        buildGridda268d7db3a24d23a871dc228695c246(result,pageIndexda268d7db3a24d23a871dc228695c246);\n",
       "                        buildPaginationContainerda268d7db3a24d23a871dc228695c246(result);\n",
       "                    }\n",
       "\n",
       "                    function resetByIdda268d7db3a24d23a871dc228695c246(id){\n",
       "                        let element = document.getElementById(id);\n",
       "                        while (element.firstChild) {\n",
       "                          element.removeChild(element.firstChild);\n",
       "                        }\n",
       "                    }\n",
       "\n",
       "                    function buildGridda268d7db3a24d23a871dc228695c246(items, pageIndex){\n",
       "                                let headers = Object.keys(elementda268d7db3a24d23a871dc228695c246[0]);\n",
       "\n",
       "                                let grid = document.getElementById(\"tableda268d7db3a24d23a871dc228695c246\");\n",
       "                                let div = document.createElement(\"div\");\n",
       "                                div.classList.add('grid-header', 'grid-index-cells');\n",
       "                                grid.appendChild(div);\n",
       "                                headers.forEach((title) =>{\n",
       "                                    let div = document.createElement(\"div\");\n",
       "                                    div.classList.add('grid-header', 'grid-std-cells');\n",
       "                                    div.innerText = title;\n",
       "\n",
       "                                    grid.appendChild(div);\n",
       "                                });\n",
       "\n",
       "                                let page = items[pageIndex -1]\n",
       "                                if (page !== 'undefine'){\n",
       "                                    let table_indexda268d7db3a24d23a871dc228695c246 = ((pageIndex - 1) * page_sizeda268d7db3a24d23a871dc228695c246)\n",
       "                                    page.forEach((item) => {\n",
       "                                        let grid = document.getElementById(\"tableda268d7db3a24d23a871dc228695c246\");\n",
       "                                        // Add new index value in index cells\n",
       "                                        let divIndex = document.createElement(\"div\");\n",
       "                                        divIndex.classList.add('grid-row', 'grid-index-cells');\n",
       "                                        divIndex.innerText = table_indexda268d7db3a24d23a871dc228695c246;\n",
       "                                        grid.appendChild(divIndex);\n",
       "\n",
       "                                        // Iterate over the actual obj\n",
       "                                        for (const attr in item) {\n",
       "                                            let div = document.createElement(\"div\");\n",
       "                                            if (typeof item[attr] === 'object'\n",
       "                                                && item[attr] !== null\n",
       "                                                && item[attr].hasOwnProperty('type')) {\n",
       "                                                if (item[attr].type.includes('badge')){\n",
       "                                                    let badge_div = document.createElement(\"div\");\n",
       "                                                    badge_div.classList.add('badge',item[attr].type)\n",
       "                                                    badge_div.innerText = String(item[attr].value).toUpperCase();\n",
       "                                                    div.appendChild(badge_div);\n",
       "                                                    div.classList.add('grid-row','grid-std-cells');\n",
       "                                                } else if (item[attr].type === \"clipboard\") {\n",
       "                                                    div.classList.add('grid-row','grid-std-cells');\n",
       "\n",
       "                                                    // Create clipboard div\n",
       "                                                    let clipboard_div = document.createElement('div');\n",
       "                                                    clipboard_div.style.display= 'flex';\n",
       "                                                    clipboard_div.classList.add(\"gap-10\")\n",
       "                                                    clipboard_div.style.justifyContent = \"space-between\";\n",
       "\n",
       "                                                    let id_text = document.createElement('div');\n",
       "                                                    if (item[attr].value == \"None\"){\n",
       "                                                        id_text.innerText = \"None\";\n",
       "                                                    }\n",
       "                                                    else{\n",
       "                                                        id_text.innerText = item[attr].value.slice(0,5) + \"...\";\n",
       "                                                    }\n",
       "\n",
       "                                                    clipboard_div.appendChild(id_text);\n",
       "                                                    let clipboard_img = document.createElement('div');\n",
       "                                                    clipboard_img.classList.add(\"clipboard\")\n",
       "                                                    div.onclick = function() {\n",
       "                                                        navigator.clipboard.writeText(item[attr].value);\n",
       "                                                    };\n",
       "                                                    clipboard_img.innerHTML = \"<svg width='8' height='8' viewBox='0 0 8 8' fill='none' xmlns='http://www.w3.org/2000/svg'><path d='M7.4375 0.25H2.4375C2.35462 0.25 2.27513 0.282924 2.21653 0.341529C2.15792 0.400134 2.125 0.47962 2.125 0.5625V2.125H0.5625C0.47962 2.125 0.400134 2.15792 0.341529 2.21653C0.282924 2.27513 0.25 2.35462 0.25 2.4375V7.4375C0.25 7.52038 0.282924 7.59987 0.341529 7.65847C0.400134 7.71708 0.47962 7.75 0.5625 7.75H5.5625C5.64538 7.75 5.72487 7.71708 5.78347 7.65847C5.84208 7.59987 5.875 7.52038 5.875 7.4375V5.875H7.4375C7.52038 5.875 7.59987 5.84208 7.65847 5.78347C7.71708 5.72487 7.75 5.64538 7.75 5.5625V0.5625C7.75 0.47962 7.71708 0.400134 7.65847 0.341529C7.59987 0.282924 7.52038 0.25 7.4375 0.25ZM5.25 7.125H0.875V2.75H5.25V7.125ZM7.125 5.25H5.875V2.4375C5.875 2.35462 5.84208 2.27513 5.78347 2.21653C5.72487 2.15792 5.64538 2.125 5.5625 2.125H2.75V0.875H7.125V5.25Z' fill='#464158'/></svg>\";\n",
       "\n",
       "                                                    clipboard_div.appendChild(clipboard_img);\n",
       "                                                    div.appendChild(clipboard_div);\n",
       "                                                }\n",
       "                                            } else{\n",
       "                                                div.classList.add('grid-row','grid-std-cells');\n",
       "                                                if (item[attr] == null) {\n",
       "                                                    text = ' '\n",
       "                                                } else {\n",
       "                                                    text = String(item[attr])\n",
       "                                                }\n",
       "\n",
       "                                                text = text.replaceAll(\"\\n\", \"</br>\");\n",
       "                                                div.innerHTML = text;\n",
       "                                            }\n",
       "                                            grid.appendChild(div);\n",
       "                                        }\n",
       "                                    table_indexda268d7db3a24d23a871dc228695c246 = table_indexda268d7db3a24d23a871dc228695c246 + 1;\n",
       "                                    })\n",
       "                                }\n",
       "                    }\n",
       "                    paginatedElementsda268d7db3a24d23a871dc228695c246 = paginateda268d7db3a24d23a871dc228695c246(elementda268d7db3a24d23a871dc228695c246, page_sizeda268d7db3a24d23a871dc228695c246)\n",
       "                    buildGridda268d7db3a24d23a871dc228695c246(paginatedElementsda268d7db3a24d23a871dc228695c246, 1)\n",
       "                    document.getElementById('totalda268d7db3a24d23a871dc228695c246').innerText = \"Total: \" + elementda268d7db3a24d23a871dc228695c246.length\n",
       "                </script>\n",
       "            </div>\n",
       "            <div id='pagda268d7db3a24d23a871dc228695c246' class='paginationContainer'>\n",
       "                <script>\n",
       "                    function buildPaginationContainerda268d7db3a24d23a871dc228695c246(paginatedElements){\n",
       "                            let pageContainer = document.getElementById(\"pagda268d7db3a24d23a871dc228695c246\");\n",
       "                            for (let i = 0; i < paginatedElements.length; i++) {\n",
       "                                  let div = document.createElement(\"div\");\n",
       "                                  div.classList.add('page');\n",
       "                                  if(i===0) div.style.color = \"gray\";\n",
       "                                  else div.style.color = 'var(--tertiary-color, \"gray\")';\n",
       "                                  div.onclick = function(event) {\n",
       "                                      let indexes = document.getElementsByClassName('page');\n",
       "                                      for (let index of indexes) { index.style.color = 'var(--tertiary-color, \"gray\")' }\n",
       "                                      event.target.style.color = \"gray\";\n",
       "                                      setPageda268d7db3a24d23a871dc228695c246(i + 1);\n",
       "                                  };\n",
       "                                  div.innerText = i + 1;\n",
       "                                  pageContainer.appendChild(div);\n",
       "                            }\n",
       "                    }\n",
       "\n",
       "                    function setPageda268d7db3a24d23a871dc228695c246(newPage){\n",
       "                        pageIndex = newPage\n",
       "                        resetByIdda268d7db3a24d23a871dc228695c246('tableda268d7db3a24d23a871dc228695c246')\n",
       "                        buildGridda268d7db3a24d23a871dc228695c246(paginatedElementsda268d7db3a24d23a871dc228695c246, pageIndex)\n",
       "                    }\n",
       "\n",
       "                    buildPaginationContainerda268d7db3a24d23a871dc228695c246(paginatedElementsda268d7db3a24d23a871dc228695c246)\n",
       "                </script>\n",
       "            </div>\n",
       "        </div>\n"
      ],
      "text/markdown": [
       "```python\n",
       "class NodeDiff:\n",
       "  id: str = bab22d2759034c39a347dbf7cef4013e\n",
       "\n",
       "```"
      ],
      "text/plain": [
       "syft.service.sync.diff_state.NodeDiff"
      ]
     },
     "execution_count": 13,
     "metadata": {},
     "output_type": "execute_result"
    }
   ],
   "source": [
    "diff_state"
   ]
  },
  {
   "cell_type": "code",
   "execution_count": 14,
   "id": "132b9ce7",
   "metadata": {},
   "outputs": [
    {
     "name": "stdout",
     "output_type": "stream",
     "text": [
      "LOW SIDE STATE:\n",
      "\n",
      "―――― NEW ―――――――――――――――――――――――――――――――――――――――――――――――――――――――――――――――――――――――――――――――――――――――――――\n",
      "\n",
      "USERCODE #8e79765b6a7e4a6aae33d331c54ef740:\n",
      "service_func_name: compute_mean\n",
      "input_owners: [\n",
      "‎ ‎ ‎ ‎ test_l\n",
      "]\n",
      "code_status: [\n",
      "‎ ‎ ‎ ‎ Node: test_l, Status: pending\n",
      "]\n",
      "worker_pool_name: default-pool\n",
      "\n",
      "    ―――― NEW ―――――――――――――――――――――――――――――――――――――――――――――――――――――――――――――――――――――――――――――――――――――――\n",
      "\n",
      "    USERCODESTATUSCOLLECTION #ef8d6e80cb7247138548a65e9763a399:\n",
      "    approved: False\n",
      "    status_dict: {\n",
      "    ‎ ‎ ‎ ‎ node_id=<UID: 8a1c04544655402190588aec30079bc3>\n",
      "        verify_key=1c0590b894d19530970da6bf09bb302afa3e473a4cccdacbace0e20223ee3367\n",
      "        node_name='test_l': (<UserCodeStatus.PENDING: 'pending'>, '')\n",
      "    }\n",
      "\n",
      "\n",
      "\n",
      "HIGH SIDE STATE:\n",
      "\n",
      "No high side changes.\n",
      "\n",
      "Decision: Syncing 2 objects from low side\n",
      "\n",
      "====================================================================================================\n",
      "\n",
      "LOW SIDE STATE:\n",
      "\n",
      "―――― NEW ―――――――――――――――――――――――――――――――――――――――――――――――――――――――――――――――――――――――――――――――――――――――――――\n",
      "\n",
      "REQUEST #2491f07c37a2460caa736ad538f7dfbe:\n",
      "request_time: 2024-03-06 15:06:41\n",
      "updated_at: None\n",
      "status: RequestStatus.PENDING\n",
      "changes: [\n",
      "‎ ‎ ‎ ‎ syft.service.request.request.UserCodeStatusChange\n",
      "]\n",
      "requesting_user_verify_key: 9d3843ecd7baa5a785b0db24cc04a3726e15e6f408eb48a2485b63e54855c276\n",
      "\n",
      "    ―――― NEW ―――――――――――――――――――――――――――――――――――――――――――――――――――――――――――――――――――――――――――――――――――――――\n",
      "\n",
      "    USERCODE #8e79765b6a7e4a6aae33d331c54ef740:\n",
      "    service_func_name: compute_mean\n",
      "    input_owners: [\n",
      "    ‎ ‎ ‎ ‎ test_l\n",
      "    ]\n",
      "    code_status: [\n",
      "    ‎ ‎ ‎ ‎ Node: test_l, Status: pending\n",
      "    ]\n",
      "    worker_pool_name: default-pool\n",
      "\n",
      "\n",
      "\n",
      "HIGH SIDE STATE:\n",
      "\n",
      "No high side changes.\n",
      "\n",
      "Decision: Syncing 2 objects from low side\n",
      "\n",
      "====================================================================================================\n",
      "\n"
     ]
    }
   ],
   "source": [
    "resolved_state_low, resolved_state_high = resolve(diff_state, decision=\"low\")"
   ]
  },
  {
   "cell_type": "code",
   "execution_count": 15,
   "id": "a6b9ca49",
   "metadata": {},
   "outputs": [
    {
     "name": "stdout",
     "output_type": "stream",
     "text": [
      "Resolved state low side\n",
      "ResolvedSyncState(\n",
      "  create_objs=[],\n",
      "  update_objs=[],\n",
      "  delete_objs=[]\n",
      "  new_permissions=[]\n",
      ")\n",
      "\n",
      "Resolved state high side\n",
      "ResolvedSyncState(\n",
      "  create_objs=[{NodeIdentity <name=test_l, id=8a1c0454, 🔑=1c0590b8>: (<UserCodeStatus.PENDING: 'pending'>, '')}, syft.service.code.user_code.UserCode, syft.service.request.request.Request],\n",
      "  update_objs=[],\n",
      "  delete_objs=[]\n",
      "  new_permissions=[]\n",
      ")\n"
     ]
    }
   ],
   "source": [
    "print(\"Resolved state low side\")\n",
    "print(resolved_state_low)\n",
    "print()\n",
    "print(\"Resolved state high side\")\n",
    "print(resolved_state_high)"
   ]
  },
  {
   "cell_type": "code",
   "execution_count": 16,
   "id": "99d806e4",
   "metadata": {},
   "outputs": [
    {
     "name": "stderr",
     "output_type": "stream",
     "text": [
      "/Users/eelco/dev/PySyft/packages/syft/src/syft/types/syft_object.py:599: TypeHintWarning: Skipping type check against 'ServiceRole'; this looks like a string-form forward reference imported from another module\n",
      "  check_type(value, var_annotation)\n"
     ]
    },
    {
     "data": {
      "text/html": [
       "<div class=\"alert-success\" style=\"padding:5px;\"><strong>SyftSuccess</strong>: Synced 0 items</div><br />"
      ],
      "text/plain": [
       "SyftSuccess: Synced 0 items"
      ]
     },
     "execution_count": 16,
     "metadata": {},
     "output_type": "execute_result"
    }
   ],
   "source": [
    "client_low.apply_state(resolved_state_low)"
   ]
  },
  {
   "cell_type": "code",
   "execution_count": 17,
   "id": "34a6c22a",
   "metadata": {},
   "outputs": [
    {
     "data": {
      "text/html": [
       "<div class=\"alert-success\" style=\"padding:5px;\"><strong>SyftSuccess</strong>: Synced 3 items</div><br />"
      ],
      "text/plain": [
       "SyftSuccess: Synced 3 items"
      ]
     },
     "execution_count": 17,
     "metadata": {},
     "output_type": "execute_result"
    }
   ],
   "source": [
    "client_high.apply_state(resolved_state_high)"
   ]
  },
  {
   "cell_type": "markdown",
   "id": "3f94e740",
   "metadata": {},
   "source": [
    "# Run code high and sync back result"
   ]
  },
  {
   "cell_type": "code",
   "execution_count": 18,
   "id": "779f3fa0",
   "metadata": {},
   "outputs": [],
   "source": [
    "data_high = client_high.datasets[0].assets[0]"
   ]
  },
  {
   "cell_type": "code",
   "execution_count": 19,
   "id": "e3fc5218",
   "metadata": {},
   "outputs": [
    {
     "data": {
      "text/markdown": [
       "```python\n",
       "class Job:\n",
       "    id: UID = c02714175b6a4e79947412952eca8d27\n",
       "    status: created\n",
       "    has_parent: False\n",
       "    result: syft.service.action.action_data_empty.ObjectNotReady\n",
       "    logs:\n",
       "\n",
       "0 \n",
       "    \n",
       "```"
      ],
      "text/plain": [
       "syft.service.job.job_stash.Job"
      ]
     },
     "metadata": {},
     "output_type": "display_data"
    }
   ],
   "source": [
    "job_high = client_high.code.compute_mean(data=data_high, blocking=False)\n",
    "display(job_high)"
   ]
  },
  {
   "cell_type": "code",
   "execution_count": null,
   "id": "a4a37ccb",
   "metadata": {},
   "outputs": [],
   "source": [
    "# wait for the result\n",
    "job_high.wait().get()"
   ]
  },
  {
   "cell_type": "code",
   "execution_count": null,
   "id": "dbe412df",
   "metadata": {},
   "outputs": [],
   "source": [
    "job_info = job_high.info(public_metadata=True, result=True)\n",
    "\n",
    "request = client_high.requests[0]\n",
    "result_obj = job_high.result"
   ]
  },
  {
   "cell_type": "code",
   "execution_count": null,
   "id": "5fc1d44f",
   "metadata": {},
   "outputs": [],
   "source": [
    "# syft absolute\n",
    "from syft import SyftError\n",
    "from syft import SyftSuccess\n",
    "\n",
    "# Accepting the result directly gives an error\n",
    "accept_res = request.accept_by_depositing_result(result_obj)\n",
    "assert isinstance(accept_res, SyftError)"
   ]
  },
  {
   "cell_type": "code",
   "execution_count": null,
   "id": "6802caa0-569b-4ca8-b1eb-b36fe6954807",
   "metadata": {},
   "outputs": [],
   "source": [
    "accept_res = request.accept_by_depositing_result(job_info)\n",
    "\n",
    "assert isinstance(accept_res, SyftSuccess)\n",
    "accept_res"
   ]
  },
  {
   "cell_type": "code",
   "execution_count": null,
   "id": "66b054bb",
   "metadata": {},
   "outputs": [],
   "source": [
    "accept_res"
   ]
  },
  {
   "cell_type": "code",
   "execution_count": null,
   "id": "8e5c6864-0ab7-44b0-80ec-1364c81b9a06",
   "metadata": {},
   "outputs": [],
   "source": [
    "request.code.output_history[0]"
   ]
  },
  {
   "cell_type": "code",
   "execution_count": null,
   "id": "12e63601-677f-4c4b-ad71-b1273f4a5cc0",
   "metadata": {},
   "outputs": [],
   "source": [
    "# accept_res = request.accept_by_depositing_result(job_info.result.get())\n",
    "\n",
    "# assert isinstance(accept_res, SyftSuccess)\n",
    "# accept_res"
   ]
  },
  {
   "cell_type": "code",
   "execution_count": null,
   "id": "be7b8376",
   "metadata": {},
   "outputs": [],
   "source": [
    "# Need to refresh Job because we overwrite result\n",
    "job_high = client_high.jobs[0]\n",
    "\n",
    "action_store_high = node_high.python_node.get_service(\"actionservice\").store\n",
    "blob_store_high = node_high.python_node.get_service(\n",
    "    \"blobstorageservice\"\n",
    ").stash.partition\n",
    "assert (\n",
    "    f\"{client_low_ds.verify_key}_READ\"\n",
    "    in action_store_high.permissions[job_high.result.id.id]\n",
    ")\n",
    "assert (\n",
    "    f\"{client_low_ds.verify_key}_READ\"\n",
    "    in blob_store_high.permissions[job_high.result.syft_blob_storage_entry_id]\n",
    ")"
   ]
  },
  {
   "cell_type": "markdown",
   "id": "1a19ff34",
   "metadata": {},
   "source": [
    "## Sync back to low"
   ]
  },
  {
   "cell_type": "code",
   "execution_count": null,
   "id": "1bac0a2f-d68a-47b4-86e5-0069c48c3b87",
   "metadata": {},
   "outputs": [],
   "source": [
    "client_high.jobs[0]"
   ]
  },
  {
   "cell_type": "code",
   "execution_count": null,
   "id": "f86275bf",
   "metadata": {},
   "outputs": [],
   "source": [
    "low_state = client_low.get_sync_state()\n",
    "high_state = client_high.get_sync_state()\n",
    "\n",
    "high_state"
   ]
  },
  {
   "cell_type": "code",
   "execution_count": null,
   "id": "4e65a96d-c28e-435c-9539-1d0ad42b099e",
   "metadata": {},
   "outputs": [],
   "source": [
    "diff_state_2 = compare_states(low_state, high_state)\n",
    "\n",
    "diff_state_2"
   ]
  },
  {
   "cell_type": "code",
   "execution_count": null,
   "id": "826ce072",
   "metadata": {},
   "outputs": [],
   "source": [
    "resolved_state_low, resolved_state_high = resolve(diff_state_2, decision=\"high\")"
   ]
  },
  {
   "cell_type": "code",
   "execution_count": null,
   "id": "09509a8a-9ab0-4e85-bece-0f6b04605681",
   "metadata": {},
   "outputs": [],
   "source": [
    "print(resolved_state_low.create_objs)"
   ]
  },
  {
   "cell_type": "code",
   "execution_count": null,
   "id": "e501f238",
   "metadata": {},
   "outputs": [],
   "source": [
    "print(resolved_state_low)\n",
    "print()\n",
    "print(resolved_state_high)"
   ]
  },
  {
   "cell_type": "code",
   "execution_count": null,
   "id": "a9d93817-286a-4fcb-9372-1954dd89253a",
   "metadata": {},
   "outputs": [],
   "source": [
    "resolved_state_low.create_objs[-1].refresh_object()"
   ]
  },
  {
   "cell_type": "code",
   "execution_count": null,
   "id": "74620916-798e-41a6-aa04-18daa95260ab",
   "metadata": {},
   "outputs": [],
   "source": [
    "node_low.python_node.get_service(\"blobstorageservice\").stash.partition.data"
   ]
  },
  {
   "cell_type": "code",
   "execution_count": null,
   "id": "1c95096a-f6b0-4bd6-a08e-8a5937b509b7",
   "metadata": {},
   "outputs": [],
   "source": [
    "print(\n",
    "    resolved_state_low.create_objs[-1]\n",
    "    .create_shareable_sync_obj(mock=True)\n",
    "    .__private_sync_attrs__\n",
    ")"
   ]
  },
  {
   "cell_type": "code",
   "execution_count": 37,
   "id": "c3f8847c",
   "metadata": {},
   "outputs": [
    {
     "name": "stderr",
     "output_type": "stream",
     "text": [
      "/Users/eelco/dev/PySyft/packages/syft/src/syft/types/syft_object.py:599: TypeHintWarning: Skipping type check against 'ServiceRole'; this looks like a string-form forward reference imported from another module\n",
      "  check_type(value, var_annotation)\n"
     ]
    },
    {
     "name": "stdout",
     "output_type": "stream",
     "text": [
      "Could not fetch actionobject data\n",
      " <class 'syft.service.response.SyftError'>\n",
      "Could not fetch actionobject data\n",
      " <class 'syft.service.response.SyftError'>\n",
      "Could not fetch actionobject data\n",
      " <class 'syft.service.response.SyftError'>\n"
     ]
    },
    {
     "ename": "KeyboardInterrupt",
     "evalue": "",
     "output_type": "error",
     "traceback": [
      "\u001b[0;31m---------------------------------------------------------------------------\u001b[0m",
      "\u001b[0;31mKeyboardInterrupt\u001b[0m                         Traceback (most recent call last)",
      "Cell \u001b[0;32mIn[37], line 1\u001b[0m\n\u001b[0;32m----> 1\u001b[0m \u001b[43mclient_low\u001b[49m\u001b[38;5;241;43m.\u001b[39;49m\u001b[43mapply_state\u001b[49m\u001b[43m(\u001b[49m\u001b[43mresolved_state_low\u001b[49m\u001b[43m)\u001b[49m\n",
      "File \u001b[0;32m~/dev/PySyft/packages/syft/src/syft/client/domain_client.py:204\u001b[0m, in \u001b[0;36mDomainClient.apply_state\u001b[0;34m(self, resolved_state)\u001b[0m\n\u001b[1;32m    201\u001b[0m     \u001b[38;5;28;01mreturn\u001b[39;00m res\n\u001b[1;32m    203\u001b[0m \u001b[38;5;66;03m# Add updated node state to store to have a previous_state for next sync\u001b[39;00m\n\u001b[0;32m--> 204\u001b[0m new_state \u001b[38;5;241m=\u001b[39m \u001b[38;5;28;43mself\u001b[39;49m\u001b[38;5;241;43m.\u001b[39;49m\u001b[43mapi\u001b[49m\u001b[38;5;241;43m.\u001b[39;49m\u001b[43mservices\u001b[49m\u001b[38;5;241;43m.\u001b[39;49m\u001b[43msync\u001b[49m\u001b[38;5;241;43m.\u001b[39;49m\u001b[43m_get_state\u001b[49m\u001b[43m(\u001b[49m\u001b[43madd_to_store\u001b[49m\u001b[38;5;241;43m=\u001b[39;49m\u001b[38;5;28;43;01mTrue\u001b[39;49;00m\u001b[43m)\u001b[49m\n\u001b[1;32m    205\u001b[0m \u001b[38;5;28;01mif\u001b[39;00m \u001b[38;5;28misinstance\u001b[39m(new_state, SyftError):\n\u001b[1;32m    206\u001b[0m     \u001b[38;5;28;01mreturn\u001b[39;00m new_state\n",
      "File \u001b[0;32m~/dev/PySyft/packages/syft/src/syft/client/api.py:291\u001b[0m, in \u001b[0;36mRemoteFunction.__call__\u001b[0;34m(self, *args, **kwargs)\u001b[0m\n\u001b[1;32m    289\u001b[0m \u001b[38;5;28;01mif\u001b[39;00m \u001b[38;5;129;01mnot\u001b[39;00m allowed:\n\u001b[1;32m    290\u001b[0m     \u001b[38;5;28;01mreturn\u001b[39;00m\n\u001b[0;32m--> 291\u001b[0m result \u001b[38;5;241m=\u001b[39m \u001b[38;5;28;43mself\u001b[39;49m\u001b[38;5;241;43m.\u001b[39;49m\u001b[43mmake_call\u001b[49m\u001b[43m(\u001b[49m\u001b[43mapi_call\u001b[49m\u001b[38;5;241;43m=\u001b[39;49m\u001b[43mapi_call\u001b[49m\u001b[43m)\u001b[49m\n\u001b[1;32m    293\u001b[0m result, _ \u001b[38;5;241m=\u001b[39m migrate_args_and_kwargs(\n\u001b[1;32m    294\u001b[0m     [result], kwargs\u001b[38;5;241m=\u001b[39m{}, to_latest_protocol\u001b[38;5;241m=\u001b[39m\u001b[38;5;28;01mTrue\u001b[39;00m\n\u001b[1;32m    295\u001b[0m )\n\u001b[1;32m    296\u001b[0m result \u001b[38;5;241m=\u001b[39m result[\u001b[38;5;241m0\u001b[39m]\n",
      "File \u001b[0;32m~/dev/PySyft/packages/syft/src/syft/client/api.py:740\u001b[0m, in \u001b[0;36mSyftAPI.make_call\u001b[0;34m(self, api_call)\u001b[0m\n\u001b[1;32m    738\u001b[0m signed_call \u001b[38;5;241m=\u001b[39m api_call\u001b[38;5;241m.\u001b[39msign(credentials\u001b[38;5;241m=\u001b[39m\u001b[38;5;28mself\u001b[39m\u001b[38;5;241m.\u001b[39msigning_key)\n\u001b[1;32m    739\u001b[0m \u001b[38;5;28;01mif\u001b[39;00m \u001b[38;5;28mself\u001b[39m\u001b[38;5;241m.\u001b[39mconnection \u001b[38;5;129;01mis\u001b[39;00m \u001b[38;5;129;01mnot\u001b[39;00m \u001b[38;5;28;01mNone\u001b[39;00m:\n\u001b[0;32m--> 740\u001b[0m     signed_result \u001b[38;5;241m=\u001b[39m \u001b[38;5;28;43mself\u001b[39;49m\u001b[38;5;241;43m.\u001b[39;49m\u001b[43mconnection\u001b[49m\u001b[38;5;241;43m.\u001b[39;49m\u001b[43mmake_call\u001b[49m\u001b[43m(\u001b[49m\u001b[43msigned_call\u001b[49m\u001b[43m)\u001b[49m\n\u001b[1;32m    741\u001b[0m \u001b[38;5;28;01melse\u001b[39;00m:\n\u001b[1;32m    742\u001b[0m     \u001b[38;5;28;01mreturn\u001b[39;00m SyftError(message\u001b[38;5;241m=\u001b[39m\u001b[38;5;124m\"\u001b[39m\u001b[38;5;124mAPI connection is None\u001b[39m\u001b[38;5;124m\"\u001b[39m)\n",
      "File \u001b[0;32m~/dev/PySyft/packages/syft/src/syft/client/client.py:435\u001b[0m, in \u001b[0;36mPythonConnection.make_call\u001b[0;34m(self, signed_call)\u001b[0m\n\u001b[1;32m    434\u001b[0m \u001b[38;5;28;01mdef\u001b[39;00m \u001b[38;5;21mmake_call\u001b[39m(\u001b[38;5;28mself\u001b[39m, signed_call: SignedSyftAPICall) \u001b[38;5;241m-\u001b[39m\u001b[38;5;241m>\u001b[39m Union[Any, SyftError]:\n\u001b[0;32m--> 435\u001b[0m     \u001b[38;5;28;01mreturn\u001b[39;00m \u001b[38;5;28;43mself\u001b[39;49m\u001b[38;5;241;43m.\u001b[39;49m\u001b[43mnode\u001b[49m\u001b[38;5;241;43m.\u001b[39;49m\u001b[43mhandle_api_call\u001b[49m\u001b[43m(\u001b[49m\u001b[43msigned_call\u001b[49m\u001b[43m)\u001b[49m\n",
      "File \u001b[0;32m~/dev/PySyft/packages/syft/src/syft/node/node.py:1166\u001b[0m, in \u001b[0;36mNode.handle_api_call\u001b[0;34m(self, api_call, job_id, check_call_location)\u001b[0m\n\u001b[1;32m   1159\u001b[0m \u001b[38;5;28;01mdef\u001b[39;00m \u001b[38;5;21mhandle_api_call\u001b[39m(\n\u001b[1;32m   1160\u001b[0m     \u001b[38;5;28mself\u001b[39m,\n\u001b[1;32m   1161\u001b[0m     api_call: Union[SyftAPICall, SignedSyftAPICall],\n\u001b[0;32m   (...)\u001b[0m\n\u001b[1;32m   1164\u001b[0m ) \u001b[38;5;241m-\u001b[39m\u001b[38;5;241m>\u001b[39m Result[SignedSyftAPICall, Err]:\n\u001b[1;32m   1165\u001b[0m     \u001b[38;5;66;03m# Get the result\u001b[39;00m\n\u001b[0;32m-> 1166\u001b[0m     result \u001b[38;5;241m=\u001b[39m \u001b[38;5;28;43mself\u001b[39;49m\u001b[38;5;241;43m.\u001b[39;49m\u001b[43mhandle_api_call_with_unsigned_result\u001b[49m\u001b[43m(\u001b[49m\n\u001b[1;32m   1167\u001b[0m \u001b[43m        \u001b[49m\u001b[43mapi_call\u001b[49m\u001b[43m,\u001b[49m\u001b[43m \u001b[49m\u001b[43mjob_id\u001b[49m\u001b[38;5;241;43m=\u001b[39;49m\u001b[43mjob_id\u001b[49m\u001b[43m,\u001b[49m\u001b[43m \u001b[49m\u001b[43mcheck_call_location\u001b[49m\u001b[38;5;241;43m=\u001b[39;49m\u001b[43mcheck_call_location\u001b[49m\n\u001b[1;32m   1168\u001b[0m \u001b[43m    \u001b[49m\u001b[43m)\u001b[49m\n\u001b[1;32m   1169\u001b[0m     \u001b[38;5;66;03m# Sign the result\u001b[39;00m\n\u001b[1;32m   1170\u001b[0m     signed_result \u001b[38;5;241m=\u001b[39m SyftAPIData(data\u001b[38;5;241m=\u001b[39mresult)\u001b[38;5;241m.\u001b[39msign(\u001b[38;5;28mself\u001b[39m\u001b[38;5;241m.\u001b[39msigning_key)\n",
      "File \u001b[0;32m~/dev/PySyft/packages/syft/src/syft/node/node.py:1227\u001b[0m, in \u001b[0;36mNode.handle_api_call_with_unsigned_result\u001b[0;34m(self, api_call, job_id, check_call_location)\u001b[0m\n\u001b[1;32m   1225\u001b[0m method \u001b[38;5;241m=\u001b[39m \u001b[38;5;28mself\u001b[39m\u001b[38;5;241m.\u001b[39mget_service_method(_private_api_path)\n\u001b[1;32m   1226\u001b[0m \u001b[38;5;28;01mtry\u001b[39;00m:\n\u001b[0;32m-> 1227\u001b[0m     result \u001b[38;5;241m=\u001b[39m \u001b[43mmethod\u001b[49m\u001b[43m(\u001b[49m\u001b[43mcontext\u001b[49m\u001b[43m,\u001b[49m\u001b[43m \u001b[49m\u001b[38;5;241;43m*\u001b[39;49m\u001b[43mapi_call\u001b[49m\u001b[38;5;241;43m.\u001b[39;49m\u001b[43margs\u001b[49m\u001b[43m,\u001b[49m\u001b[43m \u001b[49m\u001b[38;5;241;43m*\u001b[39;49m\u001b[38;5;241;43m*\u001b[39;49m\u001b[43mapi_call\u001b[49m\u001b[38;5;241;43m.\u001b[39;49m\u001b[43mkwargs\u001b[49m\u001b[43m)\u001b[49m\n\u001b[1;32m   1228\u001b[0m \u001b[38;5;28;01mexcept\u001b[39;00m PySyftException \u001b[38;5;28;01mas\u001b[39;00m e:\n\u001b[1;32m   1229\u001b[0m     \u001b[38;5;28;01mreturn\u001b[39;00m e\u001b[38;5;241m.\u001b[39mhandle()\n",
      "File \u001b[0;32m~/dev/PySyft/packages/syft/src/syft/service/service.py:365\u001b[0m, in \u001b[0;36mservice_method.<locals>.wrapper.<locals>._decorator\u001b[0;34m(self, *args, **kwargs)\u001b[0m\n\u001b[1;32m    358\u001b[0m \u001b[38;5;28;01mif\u001b[39;00m autosplat \u001b[38;5;129;01mis\u001b[39;00m \u001b[38;5;129;01mnot\u001b[39;00m \u001b[38;5;28;01mNone\u001b[39;00m \u001b[38;5;129;01mand\u001b[39;00m \u001b[38;5;28mlen\u001b[39m(autosplat) \u001b[38;5;241m>\u001b[39m \u001b[38;5;241m0\u001b[39m:\n\u001b[1;32m    359\u001b[0m     args, kwargs \u001b[38;5;241m=\u001b[39m reconstruct_args_kwargs(\n\u001b[1;32m    360\u001b[0m         signature\u001b[38;5;241m=\u001b[39minput_signature,\n\u001b[1;32m    361\u001b[0m         autosplat\u001b[38;5;241m=\u001b[39mautosplat,\n\u001b[1;32m    362\u001b[0m         args\u001b[38;5;241m=\u001b[39margs,\n\u001b[1;32m    363\u001b[0m         kwargs\u001b[38;5;241m=\u001b[39mkwargs,\n\u001b[1;32m    364\u001b[0m     )\n\u001b[0;32m--> 365\u001b[0m result \u001b[38;5;241m=\u001b[39m \u001b[43mfunc\u001b[49m\u001b[43m(\u001b[49m\u001b[38;5;28;43mself\u001b[39;49m\u001b[43m,\u001b[49m\u001b[43m \u001b[49m\u001b[38;5;241;43m*\u001b[39;49m\u001b[43margs\u001b[49m\u001b[43m,\u001b[49m\u001b[43m \u001b[49m\u001b[38;5;241;43m*\u001b[39;49m\u001b[38;5;241;43m*\u001b[39;49m\u001b[43mkwargs\u001b[49m\u001b[43m)\u001b[49m\n\u001b[1;32m    366\u001b[0m \u001b[38;5;28;01mif\u001b[39;00m communication_protocol:\n\u001b[1;32m    367\u001b[0m     result, _ \u001b[38;5;241m=\u001b[39m migrate_args_and_kwargs(\n\u001b[1;32m    368\u001b[0m         args\u001b[38;5;241m=\u001b[39m(result,),\n\u001b[1;32m    369\u001b[0m         kwargs\u001b[38;5;241m=\u001b[39m{},\n\u001b[1;32m    370\u001b[0m         to_protocol\u001b[38;5;241m=\u001b[39mcommunication_protocol,\n\u001b[1;32m    371\u001b[0m     )\n",
      "File \u001b[0;32m~/dev/PySyft/packages/syft/src/syft/service/sync/sync_service.py:247\u001b[0m, in \u001b[0;36mSyncService._get_state\u001b[0;34m(self, context, add_to_store)\u001b[0m\n\u001b[1;32m    245\u001b[0m         \u001b[38;5;28;01mreturn\u001b[39;00m SyftError(message\u001b[38;5;241m=\u001b[39maction_object\u001b[38;5;241m.\u001b[39merr())\n\u001b[1;32m    246\u001b[0m     action_objects\u001b[38;5;241m.\u001b[39mappend(action_object\u001b[38;5;241m.\u001b[39mok())\n\u001b[0;32m--> 247\u001b[0m \u001b[43mnew_state\u001b[49m\u001b[38;5;241;43m.\u001b[39;49m\u001b[43madd_objects\u001b[49m\u001b[43m(\u001b[49m\u001b[43maction_objects\u001b[49m\u001b[43m)\u001b[49m\n\u001b[1;32m    249\u001b[0m new_state\u001b[38;5;241m.\u001b[39m_build_dependencies(api\u001b[38;5;241m=\u001b[39mnode\u001b[38;5;241m.\u001b[39mroot_client\u001b[38;5;241m.\u001b[39mapi)  \u001b[38;5;66;03m# type: ignore\u001b[39;00m\n\u001b[1;32m    251\u001b[0m new_state\u001b[38;5;241m.\u001b[39mpermissions \u001b[38;5;241m=\u001b[39m \u001b[38;5;28mself\u001b[39m\u001b[38;5;241m.\u001b[39mget_permissions(context, new_state\u001b[38;5;241m.\u001b[39mobjects)\n",
      "File \u001b[0;32m~/dev/PySyft/packages/syft/src/syft/service/sync/sync_state.py:110\u001b[0m, in \u001b[0;36mSyncState.add_objects\u001b[0;34m(self, objects, api)\u001b[0m\n\u001b[1;32m    105\u001b[0m         \u001b[38;5;28mself\u001b[39m\u001b[38;5;241m.\u001b[39mobjects[obj\u001b[38;5;241m.\u001b[39mid] \u001b[38;5;241m=\u001b[39m obj\n\u001b[1;32m    107\u001b[0m \u001b[38;5;66;03m# TODO might get slow with large states,\u001b[39;00m\n\u001b[1;32m    108\u001b[0m \u001b[38;5;66;03m# need to build dependencies every time to not have UIDs\u001b[39;00m\n\u001b[1;32m    109\u001b[0m \u001b[38;5;66;03m# in dependencies that are not in objects\u001b[39;00m\n\u001b[0;32m--> 110\u001b[0m \u001b[38;5;28;43mself\u001b[39;49m\u001b[38;5;241;43m.\u001b[39;49m\u001b[43m_build_dependencies\u001b[49m\u001b[43m(\u001b[49m\u001b[43mapi\u001b[49m\u001b[38;5;241;43m=\u001b[39;49m\u001b[43mapi\u001b[49m\u001b[43m)\u001b[49m\n",
      "File \u001b[0;32m~/dev/PySyft/packages/syft/src/syft/service/sync/sync_state.py:119\u001b[0m, in \u001b[0;36mSyncState._build_dependencies\u001b[0;34m(self, api)\u001b[0m\n\u001b[1;32m    117\u001b[0m \u001b[38;5;28;01mif\u001b[39;00m \u001b[38;5;28mhasattr\u001b[39m(obj, \u001b[38;5;124m\"\u001b[39m\u001b[38;5;124mget_sync_dependencies\u001b[39m\u001b[38;5;124m\"\u001b[39m):\n\u001b[1;32m    118\u001b[0m     deps \u001b[38;5;241m=\u001b[39m obj\u001b[38;5;241m.\u001b[39mget_sync_dependencies(api\u001b[38;5;241m=\u001b[39mapi)\n\u001b[0;32m--> 119\u001b[0m     deps \u001b[38;5;241m=\u001b[39m [d\u001b[38;5;241m.\u001b[39mid \u001b[38;5;28;01mfor\u001b[39;00m d \u001b[38;5;129;01min\u001b[39;00m deps \u001b[38;5;28;01mif\u001b[39;00m d\u001b[38;5;241m.\u001b[39mid \u001b[38;5;129;01min\u001b[39;00m all_ids]\n\u001b[1;32m    120\u001b[0m     \u001b[38;5;28;01mif\u001b[39;00m \u001b[38;5;28mlen\u001b[39m(deps):\n\u001b[1;32m    121\u001b[0m         \u001b[38;5;28mself\u001b[39m\u001b[38;5;241m.\u001b[39mdependencies[obj\u001b[38;5;241m.\u001b[39mid] \u001b[38;5;241m=\u001b[39m deps\n",
      "File \u001b[0;32m~/dev/PySyft/packages/syft/src/syft/service/sync/sync_state.py:119\u001b[0m, in \u001b[0;36m<listcomp>\u001b[0;34m(.0)\u001b[0m\n\u001b[1;32m    117\u001b[0m \u001b[38;5;28;01mif\u001b[39;00m \u001b[38;5;28mhasattr\u001b[39m(obj, \u001b[38;5;124m\"\u001b[39m\u001b[38;5;124mget_sync_dependencies\u001b[39m\u001b[38;5;124m\"\u001b[39m):\n\u001b[1;32m    118\u001b[0m     deps \u001b[38;5;241m=\u001b[39m obj\u001b[38;5;241m.\u001b[39mget_sync_dependencies(api\u001b[38;5;241m=\u001b[39mapi)\n\u001b[0;32m--> 119\u001b[0m     deps \u001b[38;5;241m=\u001b[39m [d\u001b[38;5;241m.\u001b[39mid \u001b[38;5;28;01mfor\u001b[39;00m d \u001b[38;5;129;01min\u001b[39;00m deps \u001b[38;5;28;01mif\u001b[39;00m d\u001b[38;5;241m.\u001b[39mid \u001b[38;5;129;01min\u001b[39;00m all_ids]\n\u001b[1;32m    120\u001b[0m     \u001b[38;5;28;01mif\u001b[39;00m \u001b[38;5;28mlen\u001b[39m(deps):\n\u001b[1;32m    121\u001b[0m         \u001b[38;5;28mself\u001b[39m\u001b[38;5;241m.\u001b[39mdependencies[obj\u001b[38;5;241m.\u001b[39mid] \u001b[38;5;241m=\u001b[39m deps\n",
      "File \u001b[0;32m~/dev/PySyft/packages/syft/src/syft/service/action/action_object.py:2029\u001b[0m, in \u001b[0;36mActionObject.__next__\u001b[0;34m(self)\u001b[0m\n\u001b[1;32m   2028\u001b[0m \u001b[38;5;28;01mdef\u001b[39;00m \u001b[38;5;21m__next__\u001b[39m(\u001b[38;5;28mself\u001b[39m) \u001b[38;5;241m-\u001b[39m\u001b[38;5;241m>\u001b[39m Any:\n\u001b[0;32m-> 2029\u001b[0m     \u001b[38;5;28;01mreturn\u001b[39;00m \u001b[38;5;28mself\u001b[39m\u001b[38;5;241m.\u001b[39m_syft_output_action_object(\u001b[38;5;28;43mself\u001b[39;49m\u001b[38;5;241;43m.\u001b[39;49m\u001b[38;5;21;43m__next__\u001b[39;49m())\n",
      "File \u001b[0;32m~/dev/PySyft/packages/syft/src/syft/service/action/action_object.py:1827\u001b[0m, in \u001b[0;36mActionObject.__getattribute__\u001b[0;34m(self, name)\u001b[0m\n\u001b[1;32m   1824\u001b[0m \u001b[38;5;28;01mif\u001b[39;00m name\u001b[38;5;241m.\u001b[39mstartswith(\u001b[38;5;124m\"\u001b[39m\u001b[38;5;124m_syft\u001b[39m\u001b[38;5;124m\"\u001b[39m) \u001b[38;5;129;01mor\u001b[39;00m name\u001b[38;5;241m.\u001b[39mstartswith(\u001b[38;5;124m\"\u001b[39m\u001b[38;5;124msyft\u001b[39m\u001b[38;5;124m\"\u001b[39m):\n\u001b[1;32m   1825\u001b[0m     \u001b[38;5;28;01mreturn\u001b[39;00m \u001b[38;5;28mobject\u001b[39m\u001b[38;5;241m.\u001b[39m\u001b[38;5;21m__getattribute__\u001b[39m(\u001b[38;5;28mself\u001b[39m, name)\n\u001b[0;32m-> 1827\u001b[0m \u001b[38;5;28;01mif\u001b[39;00m name \u001b[38;5;129;01min\u001b[39;00m passthrough_attrs:\n\u001b[1;32m   1828\u001b[0m     \u001b[38;5;28;01mreturn\u001b[39;00m \u001b[38;5;28mobject\u001b[39m\u001b[38;5;241m.\u001b[39m\u001b[38;5;21m__getattribute__\u001b[39m(\u001b[38;5;28mself\u001b[39m, name)\n\u001b[1;32m   1830\u001b[0m \u001b[38;5;66;03m# third party\u001b[39;00m\n",
      "\u001b[0;31mKeyboardInterrupt\u001b[0m: "
     ]
    }
   ],
   "source": [
    "client_low.apply_state(resolved_state_low)"
   ]
  },
  {
   "cell_type": "code",
   "execution_count": 37,
   "id": "73ee02a5",
   "metadata": {},
   "outputs": [
    {
     "data": {
      "text/html": [
       "<div class=\"alert-success\" style=\"padding:5px;\"><strong>SyftSuccess</strong>: Synced 0 items</div><br />"
      ],
      "text/plain": [
       "SyftSuccess: Synced 0 items"
      ]
     },
     "execution_count": 37,
     "metadata": {},
     "output_type": "execute_result"
    }
   ],
   "source": [
    "client_high.apply_state(resolved_state_high)"
   ]
  },
  {
   "cell_type": "code",
   "execution_count": 38,
   "id": "b6e315b7",
   "metadata": {},
   "outputs": [],
   "source": [
    "action_store_low = node_low.python_node.get_service(\"actionservice\").store\n",
    "blob_store_low = node_low.python_node.get_service(\"blobstorageservice\").stash.partition\n",
    "assert (\n",
    "    f\"{client_low_ds.verify_key}_READ\"\n",
    "    in action_store_low.permissions[job_high.result.id.id]\n",
    ")\n",
    "assert (\n",
    "    f\"{client_low_ds.verify_key}_READ\"\n",
    "    in blob_store_low.permissions[job_high.result.syft_blob_storage_entry_id]\n",
    ")"
   ]
  },
  {
   "cell_type": "markdown",
   "id": "04dd5d24",
   "metadata": {},
   "source": [
    "# Run code low"
   ]
  },
  {
   "cell_type": "markdown",
   "id": "39d641a5",
   "metadata": {},
   "source": [
    "## Run"
   ]
  },
  {
   "cell_type": "code",
   "execution_count": null,
   "id": "e9753bdb-0b2f-45f6-a460-3a6c225dba4f",
   "metadata": {},
   "outputs": [],
   "source": []
  },
  {
   "cell_type": "code",
   "execution_count": 39,
   "id": "11731a54",
   "metadata": {},
   "outputs": [],
   "source": [
    "client_low_ds._fetch_api(client_low.credentials)"
   ]
  },
  {
   "cell_type": "code",
   "execution_count": 40,
   "id": "252999ec",
   "metadata": {},
   "outputs": [
    {
     "data": {
      "text/plain": [
       "17.0"
      ]
     },
     "execution_count": 40,
     "metadata": {},
     "output_type": "execute_result"
    }
   ],
   "source": [
    "res_low = client_low_ds.code.compute_mean(data=data_low)\n",
    "\n",
    "res_low.get()"
   ]
  },
  {
   "cell_type": "code",
   "execution_count": 41,
   "id": "f5bdcd1a",
   "metadata": {},
   "outputs": [
    {
     "data": {
      "text/plain": [
       "17.0"
      ]
     },
     "execution_count": 41,
     "metadata": {},
     "output_type": "execute_result"
    }
   ],
   "source": [
    "res_low.get()"
   ]
  },
  {
   "cell_type": "code",
   "execution_count": 42,
   "id": "ffe97957",
   "metadata": {},
   "outputs": [],
   "source": [
    "code = client_low_ds.code[0]\n",
    "\n",
    "assert res_low.get() == private_high.mean()\n",
    "assert (\n",
    "    res_low.id == job_high.result.id.id == code.output_history[-1].output_ids[0].id.id\n",
    ")\n",
    "assert job_high.result.syft_blob_storage_entry_id == res_low.syft_blob_storage_entry_id"
   ]
  },
  {
   "cell_type": "code",
   "execution_count": 43,
   "id": "7e971eea",
   "metadata": {},
   "outputs": [
    {
     "data": {
      "text/plain": [
       "17.0"
      ]
     },
     "execution_count": 43,
     "metadata": {},
     "output_type": "execute_result"
    }
   ],
   "source": [
    "res_low = client_low_ds.code.compute_mean(data=data_low)\n",
    "\n",
    "res_low.get()"
   ]
  },
  {
   "cell_type": "code",
   "execution_count": 44,
   "id": "2cbc6689",
   "metadata": {},
   "outputs": [
    {
     "data": {
      "text/plain": [
       "17.0"
      ]
     },
     "execution_count": 44,
     "metadata": {},
     "output_type": "execute_result"
    }
   ],
   "source": [
    "res_low.get()"
   ]
  },
  {
   "cell_type": "code",
   "execution_count": 45,
   "id": "fece2d44",
   "metadata": {},
   "outputs": [],
   "source": [
    "code = client_low_ds.code[0]\n",
    "\n",
    "assert res_low.get() == private_high.mean()\n",
    "assert (\n",
    "    res_low.id == job_high.result.id.id == code.output_history[-1].output_ids[0].id.id\n",
    ")\n",
    "assert job_high.result.syft_blob_storage_entry_id == res_low.syft_blob_storage_entry_id"
   ]
  },
  {
   "cell_type": "code",
   "execution_count": 46,
   "id": "8a2e2b0d",
   "metadata": {},
   "outputs": [
    {
     "data": {
      "text/plain": [
       "17.0"
      ]
     },
     "execution_count": 46,
     "metadata": {},
     "output_type": "execute_result"
    }
   ],
   "source": [
    "private_high.mean()"
   ]
  },
  {
   "cell_type": "code",
   "execution_count": 47,
   "id": "aa774a56",
   "metadata": {},
   "outputs": [
    {
     "data": {
      "text/html": [
       "<div class=\"alert-warning\" style=\"padding:5px;\"><strong>SyftWarning</strong>: There are existing jobs for this user code, returning the latest one</div><br />"
      ],
      "text/plain": [
       "SyftWarning: There are existing jobs for this user code, returning the latest one"
      ]
     },
     "metadata": {},
     "output_type": "display_data"
    },
    {
     "data": {
      "text/markdown": [
       "```python\n",
       "class Job:\n",
       "    id: UID = aae1c348abe8441180385b8febe3e710\n",
       "    status: completed\n",
       "    has_parent: False\n",
       "    result: 17.0\n",
       "    logs:\n",
       "\n",
       "0 Log c4452965bfe940cf996369b9cbe9f7f6 not available\n",
       "JOB COMPLETED\n",
       "    \n",
       "```"
      ],
      "text/plain": [
       "syft.service.job.job_stash.Job"
      ]
     },
     "execution_count": 47,
     "metadata": {},
     "output_type": "execute_result"
    }
   ],
   "source": [
    "job_low = client_low_ds.code.compute_mean(data=data_low, blocking=False)\n",
    "job_low"
   ]
  },
  {
   "cell_type": "code",
   "execution_count": 48,
   "id": "8da1b271",
   "metadata": {},
   "outputs": [
    {
     "data": {
      "text/plain": [
       "17.0"
      ]
     },
     "execution_count": 48,
     "metadata": {},
     "output_type": "execute_result"
    }
   ],
   "source": [
    "job_low.wait().get()"
   ]
  },
  {
   "cell_type": "code",
   "execution_count": 49,
   "id": "f43f93c6-f750-4ba5-9da7-325946d92b9b",
   "metadata": {},
   "outputs": [
    {
     "name": "stdout",
     "output_type": "stream",
     "text": [
      "Log c4452965bfe940cf996369b9cbe9f7f6 not available\n"
     ]
    }
   ],
   "source": [
    "job_low.logs()"
   ]
  },
  {
   "cell_type": "code",
   "execution_count": 50,
   "id": "1b7d46f8",
   "metadata": {},
   "outputs": [],
   "source": [
    "assert job_low.id == job_high.id\n",
    "assert job_low.result.id == job_high.result.id\n",
    "assert (\n",
    "    job_low.result.syft_blob_storage_entry_id\n",
    "    == job_high.result.syft_blob_storage_entry_id\n",
    ")"
   ]
  },
  {
   "cell_type": "code",
   "execution_count": null,
   "id": "cf157410-6c19-40fd-a356-b3836f667019",
   "metadata": {},
   "outputs": [],
   "source": []
  }
 ],
 "metadata": {
  "kernelspec": {
   "display_name": "Python 3 (ipykernel)",
   "language": "python",
   "name": "python3"
  },
  "language_info": {
   "codemirror_mode": {
    "name": "ipython",
    "version": 3
   },
   "file_extension": ".py",
   "mimetype": "text/x-python",
   "name": "python",
   "nbconvert_exporter": "python",
   "pygments_lexer": "ipython3",
   "version": "3.10.13"
  },
  "toc": {
   "base_numbering": 1,
   "nav_menu": {},
   "number_sections": true,
   "sideBar": true,
   "skip_h1_title": false,
   "title_cell": "Table of Contents",
   "title_sidebar": "Contents",
   "toc_cell": false,
   "toc_position": {},
   "toc_section_display": true,
   "toc_window_display": true
  }
 },
 "nbformat": 4,
 "nbformat_minor": 5
}
