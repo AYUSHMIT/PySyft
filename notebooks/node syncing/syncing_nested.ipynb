{
 "cells": [
  {
   "cell_type": "code",
   "execution_count": 1,
   "id": "60b08c04",
   "metadata": {},
   "outputs": [],
   "source": [
    "# syft absolute\n",
    "import syft as sy\n",
    "from syft import ActionObject\n",
    "from syft.client.syncing import compare_states\n",
    "from syft.client.syncing import resolve"
   ]
  },
  {
   "cell_type": "code",
   "execution_count": 2,
   "id": "d1db0f4f",
   "metadata": {},
   "outputs": [
    {
     "name": "stdout",
     "output_type": "stream",
     "text": [
      "Staging Protocol Changes...\n",
      "SQLite Store Path:\n",
      "!open file:///var/folders/pn/f6xkq7mx683g5jkyt91gqyzw0000gn/T/8a1c04544655402190588aec30079bc3.sqlite\n",
      "\n",
      "Creating default worker image with tag='local-dev'\n",
      "Building default worker image with tag=local-dev\n",
      "Setting up worker poolname=default-pool workers=1 image_uid=5bf4dea66fd54d63a8953e0041953a10 in_memory=True\n",
      "Created default worker pool.\n",
      "Data Migrated to latest version !!!\n",
      "Staging Protocol Changes...\n",
      "SQLite Store Path:\n",
      "!open file:///var/folders/pn/f6xkq7mx683g5jkyt91gqyzw0000gn/T/8212e6797fde4c3fba4fc53ab555a886.sqlite\n",
      "\n",
      "Creating default worker image with tag='local-dev'\n",
      "Building default worker image with tag=local-dev\n",
      "Setting up worker poolname=default-pool workers=1 image_uid=76c5dfcc47624d0c94845b7301058ddb in_memory=True\n",
      "Created default worker pool.\n",
      "Data Migrated to latest version !!!\n"
     ]
    }
   ],
   "source": [
    "node_low = sy.orchestra.launch(\n",
    "    name=\"test_l\",\n",
    "    node_side_type=\"low\",\n",
    "    dev_mode=True,\n",
    "    reset=True,\n",
    "    local_db=True,\n",
    "    n_consumers=1,\n",
    "    create_producer=True,\n",
    ")\n",
    "\n",
    "node_high = sy.orchestra.launch(\n",
    "    name=\"test_h\",\n",
    "    node_side_type=\"high\",\n",
    "    dev_mode=True,\n",
    "    reset=True,\n",
    "    local_db=True,\n",
    "    n_consumers=1,\n",
    "    create_producer=True,\n",
    ")"
   ]
  },
  {
   "cell_type": "code",
   "execution_count": 3,
   "id": "c01949ef",
   "metadata": {},
   "outputs": [
    {
     "name": "stdout",
     "output_type": "stream",
     "text": [
      "Logged into <test_l: Low side Domain> as <info@openmined.org>\n"
     ]
    },
    {
     "data": {
      "text/html": [
       "<div class=\"alert-warning\" style=\"padding:5px;\"><strong>SyftWarning</strong>: You are using a default password. Please change the password using `[your_client].me.set_password([new_password])`.</div><br />"
      ],
      "text/plain": [
       "SyftWarning: You are using a default password. Please change the password using `[your_client].me.set_password([new_password])`."
      ]
     },
     "metadata": {},
     "output_type": "display_data"
    },
    {
     "name": "stdout",
     "output_type": "stream",
     "text": [
      "Logged into <test_h: High side Domain> as <info@openmined.org>\n"
     ]
    },
    {
     "data": {
      "text/html": [
       "<div class=\"alert-warning\" style=\"padding:5px;\"><strong>SyftWarning</strong>: You are using a default password. Please change the password using `[your_client].me.set_password([new_password])`.</div><br />"
      ],
      "text/plain": [
       "SyftWarning: You are using a default password. Please change the password using `[your_client].me.set_password([new_password])`."
      ]
     },
     "metadata": {},
     "output_type": "display_data"
    }
   ],
   "source": [
    "client_low = node_low.login(email=\"info@openmined.org\", password=\"changethis\")\n",
    "client_high = node_high.login(email=\"info@openmined.org\", password=\"changethis\")"
   ]
  },
  {
   "cell_type": "code",
   "execution_count": null,
   "id": "ccc95549",
   "metadata": {},
   "outputs": [],
   "source": [
    "client_low.register(\n",
    "    email=\"newuser@openmined.org\", name=\"John Doe\", password=\"pw\", password_verify=\"pw\"\n",
    ")\n",
    "client_low_ds = node_low.login(email=\"newuser@openmined.org\", password=\"pw\")"
   ]
  },
  {
   "cell_type": "markdown",
   "id": "529aefcd",
   "metadata": {},
   "source": [
    "# create datasets"
   ]
  },
  {
   "cell_type": "code",
   "execution_count": null,
   "id": "a124f870",
   "metadata": {},
   "outputs": [],
   "source": [
    "# third party\n",
    "import numpy as np"
   ]
  },
  {
   "cell_type": "code",
   "execution_count": null,
   "id": "c21f2993",
   "metadata": {},
   "outputs": [],
   "source": [
    "mock_high = np.array([10, 11, 12, 13, 14])\n",
    "private_high = np.array([15, 16, 17, 18, 19])\n",
    "\n",
    "dataset_high = sy.Dataset(\n",
    "    name=\"my-dataset\",\n",
    "    description=\"abc\",\n",
    "    asset_list=[\n",
    "        sy.Asset(\n",
    "            name=\"numpy-data\",\n",
    "            mock=mock_high,\n",
    "            data=private_high,\n",
    "            shape=private_high.shape,\n",
    "            mock_is_real=True,\n",
    "        )\n",
    "    ],\n",
    ")\n",
    "\n",
    "client_high.upload_dataset(dataset_high)"
   ]
  },
  {
   "cell_type": "code",
   "execution_count": null,
   "id": "9c3804a3",
   "metadata": {},
   "outputs": [],
   "source": [
    "mock_low = np.array([0, 1, 2, 3, 4])  # do_high.mock\n",
    "# private_low = np.array([5, 6, 7, 8, 9])  # AOEmpty? create new type AO\n",
    "\n",
    "dataset_low = sy.Dataset(\n",
    "    id=dataset_high.id,\n",
    "    name=\"my-dataset\",\n",
    "    description=\"abc\",\n",
    "    asset_list=[\n",
    "        sy.Asset(\n",
    "            name=\"numpy-data\",\n",
    "            mock=mock_low,\n",
    "            data=ActionObject.empty(data_node_id=client_high.id),\n",
    "            shape=mock_low.shape,\n",
    "            mock_is_real=True,\n",
    "        )\n",
    "    ],\n",
    ")\n",
    "\n",
    "res = client_low.upload_dataset(dataset_low)"
   ]
  },
  {
   "cell_type": "code",
   "execution_count": null,
   "id": "e6887dc9-34a9-49bd-838a-75a71a96ec90",
   "metadata": {},
   "outputs": [],
   "source": [
    "dataset_storage_permissions = node_low.python_node.get_service(\n",
    "    \"datasetservice\"\n",
    ").stash.partition.storage_permissions\n",
    "dataset_id = client_low.datasets[0].id\n",
    "\n",
    "assert dataset_storage_permissions[dataset_id] == {node_low.python_node.id}"
   ]
  },
  {
   "cell_type": "markdown",
   "id": "134e9614",
   "metadata": {},
   "source": [
    "# Data Scientist: make requests"
   ]
  },
  {
   "cell_type": "code",
   "execution_count": null,
   "id": "e46ab78f-9acd-43f5-862d-5a584503a8af",
   "metadata": {},
   "outputs": [],
   "source": [
    "@sy.syft_function()\n",
    "def square_number(data: float) -> float:\n",
    "    print(\"executing sub function\")\n",
    "    return data**2\n",
    "\n",
    "\n",
    "@sy.syft_function()\n",
    "def aggregate(data: list[float]) -> float:\n",
    "    print(\"Aggregating results...\")\n",
    "    return sum(data) / len(data)\n",
    "\n",
    "\n",
    "client_low_ds.code.submit(square_number)\n",
    "client_low_ds.code.submit(aggregate)"
   ]
  },
  {
   "cell_type": "code",
   "execution_count": null,
   "id": "571d12c2",
   "metadata": {},
   "outputs": [],
   "source": [
    "data_low = client_low_ds.datasets[0].assets[0]\n",
    "\n",
    "\n",
    "@sy.syft_function_single_use(data=data_low)\n",
    "def compute_mean(domain, data) -> float:\n",
    "    print(\"executing main function\")\n",
    "\n",
    "    results = []\n",
    "    for item in data:\n",
    "        job = domain.launch_job(square_number, data=item)\n",
    "        results.append(job.result)\n",
    "    job = domain.launch_job(aggregate, data=results)\n",
    "    return job.result\n",
    "\n",
    "\n",
    "# TODO\n",
    "# res = compute_mean(data=data_low.mock, blocking=False)"
   ]
  },
  {
   "cell_type": "code",
   "execution_count": null,
   "id": "654e55fd",
   "metadata": {},
   "outputs": [],
   "source": [
    "client_low_ds.code.request_code_execution(compute_mean)"
   ]
  },
  {
   "cell_type": "code",
   "execution_count": null,
   "id": "4b99e0aa-d82e-4315-815c-e3edd3e3dd38",
   "metadata": {},
   "outputs": [],
   "source": [
    "client_low_ds.code.compute_mean(data=data_low)"
   ]
  },
  {
   "cell_type": "markdown",
   "id": "7f8c588b",
   "metadata": {},
   "source": [
    "## Data Owner: Sync to high side"
   ]
  },
  {
   "cell_type": "code",
   "execution_count": null,
   "id": "e0ff2db8",
   "metadata": {},
   "outputs": [],
   "source": [
    "low_state = client_low.get_sync_state()\n",
    "high_state = client_high.get_sync_state()"
   ]
  },
  {
   "cell_type": "code",
   "execution_count": null,
   "id": "d0d025a5-5bae-4059-bf42-657a9d4f9b16",
   "metadata": {},
   "outputs": [],
   "source": [
    "low_state"
   ]
  },
  {
   "cell_type": "code",
   "execution_count": null,
   "id": "9a4ec182-3928-4705-9fa5-a71cc01af2ba",
   "metadata": {},
   "outputs": [],
   "source": [
    "assert (\n",
    "    set(low_state.objects.keys())\n",
    "    == set(low_state.permissions.keys())\n",
    "    == set(low_state.storage_permissions.keys())\n",
    ")"
   ]
  },
  {
   "cell_type": "code",
   "execution_count": null,
   "id": "7d995b39",
   "metadata": {},
   "outputs": [],
   "source": [
    "diff_state = compare_states(low_state, high_state)"
   ]
  },
  {
   "cell_type": "code",
   "execution_count": null,
   "id": "0f4117bd-19ac-45bc-a636-76b087fae504",
   "metadata": {},
   "outputs": [],
   "source": [
    "diff_state"
   ]
  },
  {
   "cell_type": "code",
   "execution_count": null,
   "id": "132b9ce7",
   "metadata": {},
   "outputs": [],
   "source": [
    "resolved_state_low, resolved_state_high = resolve(diff_state, decision=\"low\")"
   ]
  },
  {
   "cell_type": "code",
   "execution_count": null,
   "id": "a6b9ca49",
   "metadata": {},
   "outputs": [],
   "source": [
    "print(\"Resolved state low side\")\n",
    "print(resolved_state_low)\n",
    "print()\n",
    "print(\"Resolved state high side\")\n",
    "print(resolved_state_high)"
   ]
  },
  {
   "cell_type": "code",
   "execution_count": null,
   "id": "2e80a97c-f276-415b-a088-474257fa1b1d",
   "metadata": {},
   "outputs": [],
   "source": [
    "assert len(resolved_state_high.new_permissions) == 0\n",
    "\n",
    "new_objs = resolved_state_high.create_objs\n",
    "assert {o.id for o in new_objs} == {\n",
    "    sp.uid for sp in resolved_state_high.new_storage_permissions\n",
    "}"
   ]
  },
  {
   "cell_type": "code",
   "execution_count": null,
   "id": "99d806e4",
   "metadata": {},
   "outputs": [],
   "source": [
    "client_low.apply_state(resolved_state_low)"
   ]
  },
  {
   "cell_type": "code",
   "execution_count": null,
   "id": "34a6c22a",
   "metadata": {},
   "outputs": [],
   "source": [
    "client_high.apply_state(resolved_state_high)"
   ]
  },
  {
   "cell_type": "code",
   "execution_count": null,
   "id": "27d0b95c-1e93-4ce9-8fcc-22381e4c10dd",
   "metadata": {},
   "outputs": [],
   "source": [
    "request_storage_permissions = node_high.python_node.get_service(\n",
    "    \"requestservice\"\n",
    ").stash.partition.storage_permissions\n",
    "request_id = client_high.requests[0].id\n",
    "node_high_id = node_high.python_node.id\n",
    "\n",
    "assert node_high_id in request_storage_permissions[request_id]"
   ]
  },
  {
   "cell_type": "markdown",
   "id": "3f94e740",
   "metadata": {},
   "source": [
    "# Data Owner: Run code high-side"
   ]
  },
  {
   "cell_type": "code",
   "execution_count": null,
   "id": "779f3fa0",
   "metadata": {},
   "outputs": [],
   "source": [
    "data_high = client_high.datasets[0].assets[0]"
   ]
  },
  {
   "cell_type": "code",
   "execution_count": null,
   "id": "e3fc5218",
   "metadata": {},
   "outputs": [],
   "source": [
    "job_high = client_high.code.compute_mean(data=data_high, blocking=False)\n",
    "display(job_high)"
   ]
  },
  {
   "cell_type": "code",
   "execution_count": null,
   "id": "a4a37ccb",
   "metadata": {},
   "outputs": [],
   "source": [
    "# wait for the result\n",
    "job_high.wait().get()"
   ]
  },
  {
   "cell_type": "code",
   "execution_count": null,
   "id": "dbe412df",
   "metadata": {},
   "outputs": [],
   "source": [
    "job_info = job_high.info(public_metadata=True, result=True)\n",
    "\n",
    "request = client_high.requests[0]\n",
    "result_obj = job_high.result"
   ]
  },
  {
   "cell_type": "code",
   "execution_count": null,
   "id": "a450153d-38d0-4d27-ae18-f36ca3751e04",
   "metadata": {},
   "outputs": [],
   "source": [
    "job_info"
   ]
  },
  {
   "cell_type": "code",
   "execution_count": null,
   "id": "5fc1d44f",
   "metadata": {},
   "outputs": [],
   "source": [
    "# syft absolute\n",
    "from syft import SyftError\n",
    "from syft import SyftSuccess\n",
    "\n",
    "# Accepting the result directly gives an error\n",
    "accept_res = request.accept_by_depositing_result(result_obj)\n",
    "assert isinstance(accept_res, SyftError)"
   ]
  },
  {
   "cell_type": "code",
   "execution_count": null,
   "id": "6802caa0-569b-4ca8-b1eb-b36fe6954807",
   "metadata": {},
   "outputs": [],
   "source": [
    "accept_res = request.accept_by_depositing_result(job_info)\n",
    "\n",
    "assert isinstance(accept_res, SyftSuccess)\n",
    "accept_res"
   ]
  },
  {
   "cell_type": "code",
   "execution_count": null,
   "id": "be7b8376",
   "metadata": {},
   "outputs": [],
   "source": [
    "# Need to refresh Job because we overwrite result\n",
    "job_high = client_high.code.compute_mean.jobs[0]\n",
    "\n",
    "action_store_high = node_high.python_node.get_service(\"actionservice\").store\n",
    "blob_store_high = node_high.python_node.get_service(\n",
    "    \"blobstorageservice\"\n",
    ").stash.partition\n",
    "assert (\n",
    "    f\"{client_low_ds.verify_key}_READ\"\n",
    "    in action_store_high.permissions[job_high.result.id.id]\n",
    ")\n",
    "assert (\n",
    "    f\"{client_low_ds.verify_key}_READ\"\n",
    "    in blob_store_high.permissions[job_high.result.syft_blob_storage_entry_id]\n",
    ")"
   ]
  },
  {
   "cell_type": "code",
   "execution_count": null,
   "id": "8a2b4ca9-074d-44ac-a780-21f561e5b634",
   "metadata": {},
   "outputs": [],
   "source": [
    "assert action_store_high.storage_permissions[job_high.result.id.id] == {\n",
    "    node_high.python_node.id\n",
    "}"
   ]
  },
  {
   "cell_type": "markdown",
   "id": "1a19ff34",
   "metadata": {},
   "source": [
    "## Data Owner: Sync back to low-side"
   ]
  },
  {
   "cell_type": "code",
   "execution_count": null,
   "id": "f86275bf",
   "metadata": {},
   "outputs": [],
   "source": [
    "low_state = client_low.get_sync_state()\n",
    "high_state = client_high.get_sync_state()\n",
    "\n",
    "if isinstance(low_state, sy.SyftError):\n",
    "    print(\"low\")\n",
    "    print(low_state.message)\n",
    "\n",
    "if isinstance(high_state, sy.SyftError):\n",
    "    print(\"high\")\n",
    "    print(high_state.message)"
   ]
  },
  {
   "cell_type": "code",
   "execution_count": null,
   "id": "4e65a96d-c28e-435c-9539-1d0ad42b099e",
   "metadata": {},
   "outputs": [],
   "source": [
    "diff_state_2 = compare_states(low_state, high_state)"
   ]
  },
  {
   "cell_type": "code",
   "execution_count": null,
   "id": "826ce072",
   "metadata": {},
   "outputs": [],
   "source": [
    "resolved_state_low, resolved_state_high = resolve(diff_state_2)"
   ]
  },
  {
   "cell_type": "code",
   "execution_count": null,
   "id": "e501f238",
   "metadata": {},
   "outputs": [],
   "source": [
    "print(resolved_state_low)\n",
    "print()\n",
    "print(resolved_state_high)"
   ]
  },
  {
   "cell_type": "code",
   "execution_count": null,
   "id": "c3f8847c",
   "metadata": {},
   "outputs": [],
   "source": [
    "res = client_low.apply_state(resolved_state_low)\n",
    "res"
   ]
  },
  {
   "cell_type": "code",
   "execution_count": null,
   "id": "73ee02a5",
   "metadata": {},
   "outputs": [],
   "source": [
    "client_high.apply_state(resolved_state_high)"
   ]
  },
  {
   "cell_type": "code",
   "execution_count": 59,
   "id": "b6e315b7",
   "metadata": {},
   "outputs": [],
   "source": [
    "action_store_low = node_low.python_node.get_service(\"actionservice\").store\n",
    "blob_store_low = node_low.python_node.get_service(\"blobstorageservice\").stash.partition\n",
    "assert (\n",
    "    f\"{client_low_ds.verify_key}_READ\"\n",
    "    in action_store_low.permissions[job_high.result.id.id]\n",
    ")\n",
    "assert (\n",
    "    f\"{client_low_ds.verify_key}_READ\"\n",
    "    in blob_store_low.permissions[job_high.result.syft_blob_storage_entry_id]\n",
    ")"
   ]
  },
  {
   "cell_type": "code",
   "execution_count": 60,
   "id": "92578f8f-ed04-47b1-99f9-995eacb85822",
   "metadata": {},
   "outputs": [],
   "source": [
    "result_storage_permissions = node_low.python_node.get_service(\n",
    "    \"actionservice\"\n",
    ").store.storage_permissions[job_high.result.id.id]\n",
    "assert len(result_storage_permissions) == 1\n",
    "\n",
    "log_storage_permissions = node_low.python_node.get_service(\n",
    "    \"logservice\"\n",
    ").stash.partition.storage_permissions[job_high.log_id]\n",
    "assert len(log_storage_permissions) == 1"
   ]
  },
  {
   "cell_type": "markdown",
   "id": "04dd5d24",
   "metadata": {},
   "source": [
    "# Run code low"
   ]
  },
  {
   "cell_type": "markdown",
   "id": "39d641a5",
   "metadata": {},
   "source": [
    "## Run"
   ]
  },
  {
   "cell_type": "code",
   "execution_count": 62,
   "id": "11731a54",
   "metadata": {},
   "outputs": [],
   "source": [
    "client_low_ds._fetch_api(client_low.credentials)"
   ]
  },
  {
   "cell_type": "code",
   "execution_count": 67,
   "id": "20f990ac-ba7c-4dee-bf39-b3576a5a7668",
   "metadata": {},
   "outputs": [
    {
     "data": {
      "text/plain": [
       "17.0"
      ]
     },
     "execution_count": 67,
     "metadata": {},
     "output_type": "execute_result"
    }
   ],
   "source": [
    "client_low_ds.code.compute_mean.jobs[0].result.get()"
   ]
  },
  {
   "cell_type": "code",
   "execution_count": 68,
   "id": "252999ec",
   "metadata": {},
   "outputs": [
    {
     "data": {
      "text/markdown": [
       "```python\n",
       "Pointer\n",
       "```\n",
       "17.0"
      ],
      "text/plain": [
       "Pointer:\n",
       "17.0"
      ]
     },
     "execution_count": 68,
     "metadata": {},
     "output_type": "execute_result"
    }
   ],
   "source": [
    "res_low = client_low_ds.code.compute_mean(data=data_low)\n",
    "\n",
    "res_low"
   ]
  },
  {
   "cell_type": "code",
   "execution_count": 69,
   "id": "55506ec9-e05e-48a3-9370-270d6bec4183",
   "metadata": {},
   "outputs": [
    {
     "data": {
      "text/plain": [
       "False"
      ]
     },
     "execution_count": 69,
     "metadata": {},
     "output_type": "execute_result"
    }
   ],
   "source": [
    "res_low.id == job_high.result.id"
   ]
  },
  {
   "cell_type": "code",
   "execution_count": 70,
   "id": "ffe97957",
   "metadata": {},
   "outputs": [
    {
     "ename": "AssertionError",
     "evalue": "",
     "output_type": "error",
     "traceback": [
      "\u001b[0;31m---------------------------------------------------------------------------\u001b[0m",
      "\u001b[0;31mAssertionError\u001b[0m                            Traceback (most recent call last)",
      "Cell \u001b[0;32mIn[70], line 5\u001b[0m\n\u001b[1;32m      1\u001b[0m code \u001b[38;5;241m=\u001b[39m client_low_ds\u001b[38;5;241m.\u001b[39mcode[\u001b[38;5;241m0\u001b[39m]\n\u001b[1;32m      3\u001b[0m \u001b[38;5;28;01massert\u001b[39;00m res_low\u001b[38;5;241m.\u001b[39mget() \u001b[38;5;241m==\u001b[39m private_high\u001b[38;5;241m.\u001b[39mmean()\n\u001b[1;32m      4\u001b[0m \u001b[38;5;28;01massert\u001b[39;00m (\n\u001b[0;32m----> 5\u001b[0m     res_low\u001b[38;5;241m.\u001b[39mid\u001b[38;5;241m.\u001b[39mid\n\u001b[1;32m      6\u001b[0m     \u001b[38;5;241m==\u001b[39m job_high\u001b[38;5;241m.\u001b[39mresult\u001b[38;5;241m.\u001b[39mid\u001b[38;5;241m.\u001b[39mid\n\u001b[1;32m      7\u001b[0m     \u001b[38;5;241m==\u001b[39m code\u001b[38;5;241m.\u001b[39moutput_history[\u001b[38;5;241m-\u001b[39m\u001b[38;5;241m1\u001b[39m]\u001b[38;5;241m.\u001b[39moutput_ids[\u001b[38;5;241m0\u001b[39m]\u001b[38;5;241m.\u001b[39mid\u001b[38;5;241m.\u001b[39mid\n\u001b[1;32m      8\u001b[0m )\n\u001b[1;32m      9\u001b[0m \u001b[38;5;28;01massert\u001b[39;00m job_high\u001b[38;5;241m.\u001b[39mresult\u001b[38;5;241m.\u001b[39msyft_blob_storage_entry_id \u001b[38;5;241m==\u001b[39m res_low\u001b[38;5;241m.\u001b[39msyft_blob_storage_entry_id\n",
      "\u001b[0;31mAssertionError\u001b[0m: "
     ]
    }
   ],
   "source": [
    "code = client_low_ds.code[0]\n",
    "\n",
    "assert res_low.get() == private_high.mean()\n",
    "assert (\n",
    "    res_low.id.id\n",
    "    == job_high.result.id.id\n",
    "    == code.output_history[-1].output_ids[0].id.id\n",
    ")\n",
    "assert job_high.result.syft_blob_storage_entry_id == res_low.syft_blob_storage_entry_id"
   ]
  },
  {
   "cell_type": "code",
   "execution_count": 71,
   "id": "7e971eea",
   "metadata": {},
   "outputs": [
    {
     "data": {
      "text/markdown": [
       "```python\n",
       "Pointer\n",
       "```\n",
       "17.0"
      ],
      "text/plain": [
       "Pointer:\n",
       "17.0"
      ]
     },
     "execution_count": 71,
     "metadata": {},
     "output_type": "execute_result"
    }
   ],
   "source": [
    "res_low = client_low_ds.code.compute_mean(data=data_low)\n",
    "\n",
    "res_low"
   ]
  },
  {
   "cell_type": "code",
   "execution_count": 72,
   "id": "fece2d44",
   "metadata": {},
   "outputs": [
    {
     "ename": "AssertionError",
     "evalue": "",
     "output_type": "error",
     "traceback": [
      "\u001b[0;31m---------------------------------------------------------------------------\u001b[0m",
      "\u001b[0;31mAssertionError\u001b[0m                            Traceback (most recent call last)",
      "Cell \u001b[0;32mIn[72], line 5\u001b[0m\n\u001b[1;32m      1\u001b[0m code \u001b[38;5;241m=\u001b[39m client_low_ds\u001b[38;5;241m.\u001b[39mcode[\u001b[38;5;241m0\u001b[39m]\n\u001b[1;32m      3\u001b[0m \u001b[38;5;28;01massert\u001b[39;00m res_low\u001b[38;5;241m.\u001b[39mget() \u001b[38;5;241m==\u001b[39m private_high\u001b[38;5;241m.\u001b[39mmean()\n\u001b[1;32m      4\u001b[0m \u001b[38;5;28;01massert\u001b[39;00m (\n\u001b[0;32m----> 5\u001b[0m     res_low\u001b[38;5;241m.\u001b[39mid\u001b[38;5;241m.\u001b[39mid\n\u001b[1;32m      6\u001b[0m     \u001b[38;5;241m==\u001b[39m job_high\u001b[38;5;241m.\u001b[39mresult\u001b[38;5;241m.\u001b[39mid\u001b[38;5;241m.\u001b[39mid\n\u001b[1;32m      7\u001b[0m     \u001b[38;5;241m==\u001b[39m code\u001b[38;5;241m.\u001b[39moutput_history[\u001b[38;5;241m-\u001b[39m\u001b[38;5;241m1\u001b[39m]\u001b[38;5;241m.\u001b[39moutput_ids[\u001b[38;5;241m0\u001b[39m]\u001b[38;5;241m.\u001b[39mid\u001b[38;5;241m.\u001b[39mid\n\u001b[1;32m      8\u001b[0m )\n\u001b[1;32m      9\u001b[0m \u001b[38;5;28;01massert\u001b[39;00m job_high\u001b[38;5;241m.\u001b[39mresult\u001b[38;5;241m.\u001b[39msyft_blob_storage_entry_id \u001b[38;5;241m==\u001b[39m res_low\u001b[38;5;241m.\u001b[39msyft_blob_storage_entry_id\n",
      "\u001b[0;31mAssertionError\u001b[0m: "
     ]
    }
   ],
   "source": [
    "code = client_low_ds.code[0]\n",
    "\n",
    "assert res_low.get() == private_high.mean()\n",
    "assert (\n",
    "    res_low.id.id\n",
    "    == job_high.result.id.id\n",
    "    == code.output_history[-1].output_ids[0].id.id\n",
    ")\n",
    "assert job_high.result.syft_blob_storage_entry_id == res_low.syft_blob_storage_entry_id"
   ]
  },
  {
   "cell_type": "code",
   "execution_count": 73,
   "id": "8a2e2b0d",
   "metadata": {},
   "outputs": [
    {
     "data": {
      "text/plain": [
       "17.0"
      ]
     },
     "execution_count": 73,
     "metadata": {},
     "output_type": "execute_result"
    }
   ],
   "source": [
    "private_high.mean()"
   ]
  },
  {
   "cell_type": "code",
   "execution_count": 74,
   "id": "aa774a56",
   "metadata": {},
   "outputs": [
    {
     "data": {
      "text/html": [
       "<div class=\"alert-warning\" style=\"padding:5px;\"><strong>SyftWarning</strong>: There are existing jobs for this user code, returning the latest one</div><br />"
      ],
      "text/plain": [
       "SyftWarning: There are existing jobs for this user code, returning the latest one"
      ]
     },
     "metadata": {},
     "output_type": "display_data"
    },
    {
     "data": {
      "text/markdown": [
       "```python\n",
       "class Job:\n",
       "    id: UID = d76d16a7bf3341deb0caccd402bb4fd5\n",
       "    status: completed\n",
       "    has_parent: False\n",
       "    result: ActionDataEmpty <None>\n",
       "    logs:\n",
       "\n",
       "0 Log 8ad86aa308364ea2a98ce8cb4341093f not available\n",
       "JOB COMPLETED\n",
       "    \n",
       "```"
      ],
      "text/plain": [
       "syft.service.job.job_stash.Job"
      ]
     },
     "execution_count": 74,
     "metadata": {},
     "output_type": "execute_result"
    }
   ],
   "source": [
    "job_low = client_low_ds.code.compute_mean(data=data_low, blocking=False)\n",
    "job_low"
   ]
  },
  {
   "cell_type": "code",
   "execution_count": 75,
   "id": "8da1b271",
   "metadata": {},
   "outputs": [
    {
     "data": {
      "text/plain": [
       "17.0"
      ]
     },
     "execution_count": 75,
     "metadata": {},
     "output_type": "execute_result"
    }
   ],
   "source": [
    "job_low.wait().get()"
   ]
  },
  {
   "cell_type": "code",
   "execution_count": 76,
   "id": "f43f93c6-f750-4ba5-9da7-325946d92b9b",
   "metadata": {},
   "outputs": [
    {
     "name": "stdout",
     "output_type": "stream",
     "text": [
      "Log 8ad86aa308364ea2a98ce8cb4341093f not available\n"
     ]
    }
   ],
   "source": [
    "job_low.logs()"
   ]
  },
  {
   "cell_type": "code",
   "execution_count": 77,
   "id": "1b7d46f8",
   "metadata": {},
   "outputs": [],
   "source": [
    "assert job_low.id == job_high.id\n",
    "assert job_low.result.id == job_high.result.id\n",
    "assert (\n",
    "    job_low.result.syft_blob_storage_entry_id\n",
    "    == job_high.result.syft_blob_storage_entry_id\n",
    ")"
   ]
  },
  {
   "cell_type": "code",
   "execution_count": null,
   "id": "94c6e6af-9045-44a9-ac18-79068b47ff4c",
   "metadata": {},
   "outputs": [],
   "source": []
  }
 ],
 "metadata": {
  "kernelspec": {
   "display_name": "Python 3 (ipykernel)",
   "language": "python",
   "name": "python3"
  },
  "language_info": {
   "codemirror_mode": {
    "name": "ipython",
    "version": 3
   },
   "file_extension": ".py",
   "mimetype": "text/x-python",
   "name": "python",
   "nbconvert_exporter": "python",
   "pygments_lexer": "ipython3",
   "version": "3.10.13"
  },
  "toc": {
   "base_numbering": 1,
   "nav_menu": {},
   "number_sections": true,
   "sideBar": true,
   "skip_h1_title": false,
   "title_cell": "Table of Contents",
   "title_sidebar": "Contents",
   "toc_cell": false,
   "toc_position": {},
   "toc_section_display": true,
   "toc_window_display": true
  }
 },
 "nbformat": 4,
 "nbformat_minor": 5
}
