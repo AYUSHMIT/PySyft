{
 "cells": [
  {
   "cell_type": "markdown",
   "id": "f3a072d1",
   "metadata": {},
   "source": [
    "### Currently, anyone can register on a domain. We want a functionality where we can toggle the register functionality. This might be required by some organisations where only the root client (data owner) can create new users."
   ]
  },
  {
   "cell_type": "code",
   "execution_count": 1,
   "id": "40b28fe7",
   "metadata": {},
   "outputs": [
    {
     "name": "stderr",
     "output_type": "stream",
     "text": [
      "kj/filesystem-disk-unix.c++:1703: warning: PWD environment variable doesn't match current directory; pwd = /home/dk/Desktop/projects/PySyft\n"
     ]
    },
    {
     "name": "stdout",
     "output_type": "stream",
     "text": [
      "✅ The installed version of syft==0.8.1b6 matches the requirement >=0.8.1b0 and the requirement <0.9\n"
     ]
    }
   ],
   "source": [
    "import syft as sy\n",
    "from syft import SyftError, SyftSuccess\n",
    "\n",
    "sy.requires(\">=0.8.1b0,<0.9\")"
   ]
  },
  {
   "cell_type": "code",
   "execution_count": 2,
   "id": "df3108c1",
   "metadata": {},
   "outputs": [
    {
     "name": "stdout",
     "output_type": "stream",
     "text": [
      "Starting test-domain-1 server on 0.0.0.0:8080\n",
      "\n",
      "WARNING: private key is based on node name: test-domain-1 in dev_mode. Don't run this in production.\n",
      "SQLite Store Path:\n",
      "!open file:///tmp/7bca415d13ed4ec881f0d0aede098dbb.sqlite\n",
      "\n",
      "Waiting for server to start"
     ]
    },
    {
     "name": "stderr",
     "output_type": "stream",
     "text": [
      "INFO:     Started server process [372123]\n",
      "INFO:     Waiting for application startup.\n",
      "INFO:     Application startup complete.\n",
      "INFO:     Uvicorn running on http://0.0.0.0:8080 (Press CTRL+C to quit)\n"
     ]
    },
    {
     "name": "stdout",
     "output_type": "stream",
     "text": [
      "INFO:     127.0.0.1:36548 - \"GET /api/v2/metadata HTTP/1.1\" 200 OK\n",
      "INFO:     127.0.0.1:36554 - \"GET /api/v2/metadata HTTP/1.1\" 200 OK\n",
      ". Done.\n",
      "INFO:     127.0.0.1:36554 - \"POST /api/v2/login HTTP/1.1\" 200 OK\n",
      "INFO:     127.0.0.1:36554 - \"GET /api/v2/api?verify_key=aec6ea4dfc049ceacaeeebc493167a88a200ddc367b1fa32da652444b635d21f HTTP/1.1\" 200 OK\n",
      "INFO:     127.0.0.1:36566 - \"GET /api/v2/metadata HTTP/1.1\" 200 OK\n",
      "INFO:     127.0.0.1:36570 - \"GET /api/v2/metadata HTTP/1.1\" 200 OK\n",
      "INFO:     127.0.0.1:36554 - \"POST /api/v2/register HTTP/1.1\" 200 OK\n"
     ]
    }
   ],
   "source": [
    "node = sy.orchestra.launch(name=\"test-domain-1\", port=\"auto\", dev_mode=True, reset=True)\n",
    "root_client = node.login(email=\"info@openmined.org\", password=\"changethis\")\n",
    "guest_client = node.client\n",
    "guest_client_2 = node.client"
   ]
  },
  {
   "cell_type": "code",
   "execution_count": 3,
   "id": "a82b356e",
   "metadata": {},
   "outputs": [
    {
     "data": {
      "text/html": [
       "Dict - Size: 67\n",
       "<div>\n",
       "<style scoped>\n",
       "    .dataframe tbody tr th:only-of-type {\n",
       "        vertical-align: middle;\n",
       "    }\n",
       "\n",
       "    .dataframe tbody tr th {\n",
       "        vertical-align: top;\n",
       "    }\n",
       "\n",
       "    .dataframe thead th {\n",
       "        text-align: right;\n",
       "    }\n",
       "</style>\n",
       "<table border=\"1\" class=\"dataframe\">\n",
       "  <thead>\n",
       "    <tr style=\"text-align: right;\">\n",
       "      <th></th>\n",
       "      <th>key</th>\n",
       "      <th>type</th>\n",
       "      <th>id</th>\n",
       "    </tr>\n",
       "  </thead>\n",
       "  <tbody>\n",
       "    <tr>\n",
       "      <th>0</th>\n",
       "      <td>data_subject.add</td>\n",
       "      <td>APIEndpoint(service_path='data_subject.add', m...</td>\n",
       "      <td>None</td>\n",
       "    </tr>\n",
       "    <tr>\n",
       "      <th>1</th>\n",
       "      <td>data_subject.get_all</td>\n",
       "      <td>APIEndpoint(service_path='data_subject.get_all...</td>\n",
       "      <td>None</td>\n",
       "    </tr>\n",
       "    <tr>\n",
       "      <th>2</th>\n",
       "      <td>data_subject.get_members</td>\n",
       "      <td>APIEndpoint(service_path='data_subject.get_mem...</td>\n",
       "      <td>None</td>\n",
       "    </tr>\n",
       "    <tr>\n",
       "      <th>3</th>\n",
       "      <td>data_subject.get_by_name</td>\n",
       "      <td>APIEndpoint(service_path='data_subject.get_by_...</td>\n",
       "      <td>None</td>\n",
       "    </tr>\n",
       "    <tr>\n",
       "      <th>4</th>\n",
       "      <td>user.create</td>\n",
       "      <td>APIEndpoint(service_path='user.create', module...</td>\n",
       "      <td>None</td>\n",
       "    </tr>\n",
       "  </tbody>\n",
       "</table>\n",
       "</div>"
      ],
      "text/plain": [
       "{'data_subject.add': APIEndpoint(service_path='data_subject.add', module_path='data_subject.add', name='add_data_subject', description='', doc_string='Register a data subject.', signature=<Signature (data_subject: syft.service.data_subject.data_subject.DataSubjectCreate) -> Union[syft.service.response.SyftSuccess, syft.service.response.SyftError]>, has_self=False, pre_kwargs=None),\n",
       " 'data_subject.get_all': APIEndpoint(service_path='data_subject.get_all', module_path='data_subject.get_all', name='get_all', description='', doc_string='Get all Data subjects', signature=<Signature () -> Union[List[syft.service.data_subject.data_subject.DataSubject], syft.service.response.SyftError]>, has_self=False, pre_kwargs=None),\n",
       " 'data_subject.get_members': APIEndpoint(service_path='data_subject.get_members', module_path='data_subject.get_members', name='members_for', description='', doc_string=None, signature=<Signature (data_subject_name: str) -> Union[List[syft.service.data_subject.data_subject.DataSubject], syft.service.response.SyftError]>, has_self=False, pre_kwargs=None),\n",
       " 'data_subject.get_by_name': APIEndpoint(service_path='data_subject.get_by_name', module_path='data_subject.get_by_name', name='get_by_name', description='', doc_string='Get a Data Subject by its name.', signature=<Signature (name: str) -> Union[syft.service.response.SyftSuccess, syft.service.response.SyftError]>, has_self=False, pre_kwargs=None),\n",
       " 'user.create': APIEndpoint(service_path='user.create', module_path='user.create', name='create', description='', doc_string='Create a new user', signature=<Signature (user_create: syft.service.user.user.UserCreate) -> Union[syft.service.user.user.UserView, syft.service.response.SyftError]>, has_self=False, pre_kwargs=None),\n",
       " 'user.view': APIEndpoint(service_path='user.view', module_path='user.view', name='view', description='', doc_string='Get user for given uid', signature=<Signature (uid: syft.types.uid.UID) -> Union[syft.service.user.user.UserView, None, syft.service.response.SyftError]>, has_self=False, pre_kwargs=None),\n",
       " 'user.get_all': APIEndpoint(service_path='user.get_all', module_path='user.get_all', name='get_all', description='', doc_string=None, signature=<Signature (page_size: Optional[int, None] = 0, page_index: Optional[int, None] = 0) -> Union[syft.service.user.user.UserView, None, syft.service.response.SyftError]>, has_self=False, pre_kwargs=None),\n",
       " 'user.search': APIEndpoint(service_path='user.search', module_path='user.search', name='search', description='', doc_string=None, signature=<Signature (args: Any, id: syft.types.uid.UID, email: pydantic.networks.EmailStr, verify_key: syft.node.credentials.SyftVerifyKey, name: str, page_size: Optional[int, None] = 0, page_index: Optional[int, None] = 0) -> Union[List[syft.service.user.user.UserView], syft.service.response.SyftError]>, has_self=False, pre_kwargs=None),\n",
       " 'user.update': APIEndpoint(service_path='user.update', module_path='user.update', name='update', description='', doc_string=None, signature=<Signature (uid: syft.types.uid.UID, user_update: syft.service.user.user.UserUpdate) -> Union[syft.service.user.user.UserView, syft.service.response.SyftError]>, has_self=False, pre_kwargs=None),\n",
       " 'user.delete': APIEndpoint(service_path='user.delete', module_path='user.delete', name='delete', description='', doc_string=None, signature=<Signature (uid: syft.types.uid.UID) -> Union[bool, syft.service.response.SyftError]>, has_self=False, pre_kwargs=None),\n",
       " 'network.exchange_credentials_with': APIEndpoint(service_path='network.exchange_credentials_with', module_path='network.exchange_credentials_with', name='exchange_credentials_with', description='', doc_string='Exchange Route With Another Node', signature=<Signature (self_node_route: syft.service.network.routes.NodeRoute, remote_node_route: syft.service.network.routes.NodeRoute, remote_node_verify_key: syft.node.credentials.SyftVerifyKey) -> Union[syft.service.response.SyftSuccess, syft.service.response.SyftError]>, has_self=False, pre_kwargs=None),\n",
       " 'network.add_peer': APIEndpoint(service_path='network.add_peer', module_path='network.add_peer', name='add_peer', description='', doc_string='Add a Network Node Peer', signature=<Signature (peer: syft.service.network.node_peer.NodePeer, challenge: bytes, self_node_route: syft.service.network.routes.NodeRoute, verify_key: syft.node.credentials.SyftVerifyKey) -> Union[bytes, syft.service.response.SyftError]>, has_self=False, pre_kwargs=None),\n",
       " 'network.ping': APIEndpoint(service_path='network.ping', module_path='network.ping', name='ping', description='', doc_string='To check alivesness/authenticity of a peer', signature=<Signature (challenge: bytes) -> Union[bytes, syft.service.response.SyftError]>, has_self=False, pre_kwargs=None),\n",
       " 'network.add_route_for': APIEndpoint(service_path='network.add_route_for', module_path='network.add_route_for', name='add_route_for', description='', doc_string='Add Route for this Node to another Node', signature=<Signature (route: syft.service.network.routes.NodeRoute, peer: syft.service.network.node_peer.NodePeer) -> Union[syft.service.response.SyftSuccess, syft.service.response.SyftError]>, has_self=False, pre_kwargs=None),\n",
       " 'network.verify_route': APIEndpoint(service_path='network.verify_route', module_path='network.verify_route', name='verify_route', description='', doc_string='Add a Network Node Route', signature=<Signature (route: syft.service.network.routes.NodeRoute) -> Union[syft.service.response.SyftSuccess, syft.service.response.SyftError]>, has_self=False, pre_kwargs=None),\n",
       " 'network.get_all_peers': APIEndpoint(service_path='network.get_all_peers', module_path='network.get_all_peers', name='get_all_peers', description='', doc_string='Get all Peers', signature=<Signature () -> Union[List[syft.service.network.node_peer.NodePeer], syft.service.response.SyftError]>, has_self=False, pre_kwargs=None),\n",
       " 'network.join_vpn': APIEndpoint(service_path='network.join_vpn', module_path='network.join_vpn', name='join_vpn', description='', doc_string='Join a VPN Service', signature=<Signature (peer: Optional[syft.service.network.node_peer.NodePeer, None] = None, client: Optional[syft.client.client.SyftClient, None] = None) -> Union[syft.service.response.SyftSuccess, syft.service.response.SyftError]>, has_self=False, pre_kwargs=None),\n",
       " 'network.vpn_status': APIEndpoint(service_path='network.vpn_status', module_path='network.vpn_status', name='vpn_status', description='', doc_string='Join a VPN Service', signature=<Signature () -> Union[syft.service.vpn.tailscale_client.TailscaleStatus, syft.service.response.SyftError]>, has_self=False, pre_kwargs=None),\n",
       " 'network.register_to_vpn': APIEndpoint(service_path='network.register_to_vpn', module_path='network.register_to_vpn', name='register_to_vpn', description='', doc_string='Register node to the VPN.', signature=<Signature () -> Union[syft.service.vpn.headscale_client.HeadscaleAuthToken, syft.service.response.SyftError]>, has_self=False, pre_kwargs=None),\n",
       " 'policy.get_all': APIEndpoint(service_path='policy.get_all', module_path='policy.get_all', name='get_all', description='', doc_string=None, signature=<Signature () -> Union[List[syft.service.policy.policy.UserPolicy], syft.service.response.SyftError]>, has_self=False, pre_kwargs=None),\n",
       " 'policy.add': APIEndpoint(service_path='policy.add', module_path='policy.add', name='add', description='', doc_string=None, signature=<Signature (policy_code: Union[syft.service.policy.policy.SubmitUserPolicy, syft.service.policy.policy.UserPolicy]) -> Union[syft.service.response.SyftSuccess, syft.service.response.SyftError]>, has_self=False, pre_kwargs=None),\n",
       " 'policy.get_by_uid': APIEndpoint(service_path='policy.get_by_uid', module_path='policy.get_by_uid', name='get_by_uid', description='', doc_string=None, signature=<Signature (uid: syft.types.uid.UID) -> Union[syft.service.response.SyftSuccess, syft.service.response.SyftError]>, has_self=False, pre_kwargs=None),\n",
       " 'action.np_array': APIEndpoint(service_path='action.np_array', module_path='action.np_array', name='np_array', description='', doc_string=None, signature=<Signature (data: Any) -> Any>, has_self=False, pre_kwargs=None),\n",
       " 'action.set': APIEndpoint(service_path='action.set', module_path='action.set', name='set', description='', doc_string='Save an object to the action store', signature=<Signature (action_object: Union[syft.service.action.action_object.ActionObject, syft.types.twin_object.TwinObject]) -> Union[result.result.Ok[syft.service.action.action_object.ActionObject], result.result.Err[str]]>, has_self=False, pre_kwargs=None),\n",
       " 'action.save': APIEndpoint(service_path='action.save', module_path='action.save', name='save', description='', doc_string='Save an object to the action store', signature=<Signature (action_object: Union[syft.service.action.action_object.ActionObject, syft.types.twin_object.TwinObject]) -> Union[result.result.Ok[syft.service.response.SyftSuccess], result.result.Err[str]]>, has_self=False, pre_kwargs=None),\n",
       " 'action.get': APIEndpoint(service_path='action.get', module_path='action.get', name='get', description='', doc_string='Get an object from the action store', signature=<Signature (uid: syft.types.uid.UID, twin_mode: syft.service.action.action_object.TwinMode = <TwinMode.PRIVATE: 1>) -> Union[result.result.Ok[result.result.Ok[syft.service.action.action_object.ActionObject]], result.result.Err[result.result.Err[str]]]>, has_self=False, pre_kwargs=None),\n",
       " 'action.get_pointer': APIEndpoint(service_path='action.get_pointer', module_path='action.get_pointer', name='get_pointer', description='', doc_string='Get a pointer from the action store', signature=<Signature (uid: syft.types.uid.UID) -> Union[result.result.Ok[syft.service.action.action_object.ActionObjectPointer], result.result.Err[str]]>, has_self=False, pre_kwargs=None),\n",
       " 'action.execute': APIEndpoint(service_path='action.execute', module_path='action.execute', name='execute', description='', doc_string='Execute an operation on objects in the action store', signature=<Signature (action: syft.service.action.action_object.Action) -> Union[result.result.Ok[syft.service.action.action_object.ActionObject], result.result.Err[result.result.Err]]>, has_self=False, pre_kwargs=None),\n",
       " 'action.exists': APIEndpoint(service_path='action.exists', module_path='action.exists', name='exists', description='', doc_string='Checks if the given object id exists in the Action Store', signature=<Signature (obj_id: syft.types.uid.UID) -> Union[result.result.Ok[syft.service.response.SyftSuccess], result.result.Err[syft.service.response.SyftError]]>, has_self=False, pre_kwargs=None),\n",
       " 'messages.send': APIEndpoint(service_path='messages.send', module_path='messages.send', name='send', description='', doc_string='Send a new message', signature=<Signature (message: syft.service.message.messages.CreateMessage) -> Union[syft.service.message.messages.Message, syft.service.response.SyftError]>, has_self=False, pre_kwargs=None),\n",
       " 'messages.reply': APIEndpoint(service_path='messages.reply', module_path='messages.reply', name='reply', description='', doc_string=None, signature=<Signature (reply: syft.service.message.messages.ReplyMessage) -> Union[syft.service.message.messages.ReplyMessage, syft.service.response.SyftError]>, has_self=False, pre_kwargs=None),\n",
       " 'messages.get_all': APIEndpoint(service_path='messages.get_all', module_path='messages.get_all', name='get_all', description='', doc_string=None, signature=<Signature () -> Union[List[syft.service.message.messages.Message], syft.service.response.SyftError]>, has_self=False, pre_kwargs=None),\n",
       " 'messages.get_all_sent': APIEndpoint(service_path='messages.get_all_sent', module_path='messages.get_all_sent', name='outbox', description='', doc_string=None, signature=<Signature () -> Union[List[syft.service.message.messages.Message], syft.service.response.SyftError]>, has_self=False, pre_kwargs=None),\n",
       " 'messages.get_all_read': APIEndpoint(service_path='messages.get_all_read', module_path='messages.get_all_read', name='get_all_read', description='', doc_string=None, signature=<Signature () -> Union[List[syft.service.message.messages.Message], syft.service.response.SyftError]>, has_self=False, pre_kwargs=None),\n",
       " 'messages.get_all_unread': APIEndpoint(service_path='messages.get_all_unread', module_path='messages.get_all_unread', name='get_all_unread', description='', doc_string=None, signature=<Signature () -> Union[List[syft.service.message.messages.Message], syft.service.response.SyftError]>, has_self=False, pre_kwargs=None),\n",
       " 'messages.mark_as_read': APIEndpoint(service_path='messages.mark_as_read', module_path='messages.mark_as_read', name='mark_as_read', description='', doc_string=None, signature=<Signature (uid: syft.types.uid.UID) -> Union[syft.service.message.messages.Message, syft.service.response.SyftError]>, has_self=False, pre_kwargs=None),\n",
       " 'messages.mark_as_unread': APIEndpoint(service_path='messages.mark_as_unread', module_path='messages.mark_as_unread', name='mark_as_unread', description='', doc_string=None, signature=<Signature (uid: syft.types.uid.UID) -> Union[syft.service.message.messages.Message, syft.service.response.SyftError]>, has_self=False, pre_kwargs=None),\n",
       " 'messages.resolve_object': APIEndpoint(service_path='messages.resolve_object', module_path='messages.resolve_object', name='resolve_object', description='', doc_string=None, signature=<Signature (linked_obj: syft.store.linked_obj.LinkedObject) -> Union[syft.service.message.messages.Message, syft.service.response.SyftError]>, has_self=False, pre_kwargs=None),\n",
       " 'messages.clear': APIEndpoint(service_path='messages.clear', module_path='messages.clear', name='clear', description='', doc_string=None, signature=<Signature () -> Union[syft.service.response.SyftError, syft.service.response.SyftSuccess]>, has_self=False, pre_kwargs=None),\n",
       " 'request.submit': APIEndpoint(service_path='request.submit', module_path='request.submit', name='submit', description='', doc_string='Submit a Request', signature=<Signature (request: syft.service.request.request.SubmitRequest, send_message: bool = True, reason: Optional[str, None] = '') -> Union[syft.service.request.request.Request, syft.service.response.SyftError]>, has_self=False, pre_kwargs=None),\n",
       " 'request.get_all': APIEndpoint(service_path='request.get_all', module_path='request.get_all', name='get_all', description='', doc_string=None, signature=<Signature () -> Union[List[syft.service.request.request.Request], syft.service.response.SyftError]>, has_self=False, pre_kwargs=None),\n",
       " 'request.get_all_info': APIEndpoint(service_path='request.get_all_info', module_path='request.get_all_info', name='get_all_info', description='', doc_string='Get a Dataset', signature=<Signature (page_index: Optional[int, None] = 0, page_size: Optional[int, None] = 0) -> Union[List[syft.service.request.request.RequestInfo], syft.service.response.SyftError]>, has_self=False, pre_kwargs=None),\n",
       " 'request.filter_all_info': APIEndpoint(service_path='request.filter_all_info', module_path='request.filter_all_info', name='filter_all_info', description='', doc_string='Get a Dataset', signature=<Signature (request_filter: syft.service.request.request.RequestInfoFilter, page_index: Optional[int, None] = 0, page_size: Optional[int, None] = 0) -> Union[List[syft.service.request.request.RequestInfo], syft.service.response.SyftError]>, has_self=False, pre_kwargs=None),\n",
       " 'request.get_all_for_status': APIEndpoint(service_path='request.get_all_for_status', module_path='request.get_all_for_status', name='get_all_for_status', description='', doc_string=None, signature=<Signature (status: syft.service.request.request.RequestStatus) -> Union[List[syft.service.request.request.Request], syft.service.response.SyftError]>, has_self=False, pre_kwargs=None),\n",
       " 'request.apply': APIEndpoint(service_path='request.apply', module_path='request.apply', name='apply', description='', doc_string=None, signature=<Signature (uid: syft.types.uid.UID) -> Union[syft.service.response.SyftSuccess, syft.service.response.SyftError]>, has_self=False, pre_kwargs=None),\n",
       " 'request.revert': APIEndpoint(service_path='request.revert', module_path='request.revert', name='revert', description='', doc_string=None, signature=<Signature (uid: syft.types.uid.UID) -> Union[syft.service.response.SyftSuccess, syft.service.response.SyftError]>, has_self=False, pre_kwargs=None),\n",
       " 'code.submit': APIEndpoint(service_path='code.submit', module_path='code.submit', name='submit', description='', doc_string='Add User Code', signature=<Signature (code: syft.service.code.user_code.SubmitUserCode) -> Union[syft.service.code.user_code.UserCode, syft.service.response.SyftError]>, has_self=False, pre_kwargs=None),\n",
       " 'code.request_code_execution': APIEndpoint(service_path='code.request_code_execution', module_path='code.request_code_execution', name='request_code_execution', description='', doc_string='Request Code execution on user code', signature=<Signature (code: syft.service.code.user_code.SubmitUserCode, reason: Optional[str, None] = '') -> Union[syft.service.response.SyftSuccess, syft.service.response.SyftError]>, has_self=False, pre_kwargs=None),\n",
       " 'code.get_all': APIEndpoint(service_path='code.get_all', module_path='code.get_all', name='get_all', description='', doc_string='Get a Dataset', signature=<Signature () -> Union[List[syft.service.code.user_code.UserCode], syft.service.response.SyftError]>, has_self=False, pre_kwargs=None),\n",
       " 'code.get_by_id': APIEndpoint(service_path='code.get_by_id', module_path='code.get_by_id', name='get_by_id', description='', doc_string='Get a User Code Item', signature=<Signature (uid: syft.types.uid.UID) -> Union[syft.service.response.SyftSuccess, syft.service.response.SyftError]>, has_self=False, pre_kwargs=None),\n",
       " 'code.get_all_for_user': APIEndpoint(service_path='code.get_all_for_user', module_path='code.get_all_for_user', name='get_all_for_user', description='', doc_string=\"Get All User Code Items for User's VerifyKey\", signature=<Signature () -> Union[syft.service.response.SyftSuccess, syft.service.response.SyftError]>, has_self=False, pre_kwargs=None),\n",
       " 'code.call': APIEndpoint(service_path='code.call', module_path='code.call', name='call', description='', doc_string='Call a User Code Function', signature=<Signature (uid: syft.types.uid.UID, **kwargs: Any) -> Union[syft.service.response.SyftSuccess, syft.service.response.SyftError]>, has_self=False, pre_kwargs=None),\n",
       " 'dataset.add': APIEndpoint(service_path='dataset.add', module_path='dataset.add', name='add', description='', doc_string='Add a Dataset', signature=<Signature (dataset: syft.service.dataset.dataset.CreateDataset) -> Union[syft.service.response.SyftSuccess, syft.service.response.SyftError]>, has_self=False, pre_kwargs=None),\n",
       " 'dataset.get_all': APIEndpoint(service_path='dataset.get_all', module_path='dataset.get_all', name='get_all', description='', doc_string='Get a Dataset', signature=<Signature (page_size: Optional[int, None] = 0, page_index: Optional[int, None] = 0) -> Union[List[syft.service.dataset.dataset.Dataset], syft.service.response.SyftError]>, has_self=False, pre_kwargs=None),\n",
       " 'dataset.search': APIEndpoint(service_path='dataset.search', module_path='dataset.search', name='search', description='', doc_string='Search a Dataset by name', signature=<Signature (name: str, page_size: Optional[int, None] = 0, page_index: Optional[int, None] = 0) -> Union[List[syft.service.dataset.dataset.Dataset], syft.service.response.SyftError]>, has_self=False, pre_kwargs=None),\n",
       " 'dataset.get_by_id': APIEndpoint(service_path='dataset.get_by_id', module_path='dataset.get_by_id', name='get_by_id', description='', doc_string='Get a Dataset', signature=<Signature (uid: syft.types.uid.UID) -> Union[syft.service.response.SyftSuccess, syft.service.response.SyftError]>, has_self=False, pre_kwargs=None),\n",
       " 'dataset.get_by_action_id': APIEndpoint(service_path='dataset.get_by_action_id', module_path='dataset.get_by_action_id', name='get_by_action_id', description='', doc_string='Get Datasets by an Action ID', signature=<Signature (uid: syft.types.uid.UID) -> Union[List[syft.service.dataset.dataset.Dataset], syft.service.response.SyftError]>, has_self=False, pre_kwargs=None),\n",
       " 'dataset.get_assets_by_action_id': APIEndpoint(service_path='dataset.get_assets_by_action_id', module_path='dataset.get_assets_by_action_id', name='get_assets_by_action_id', description='', doc_string='Get Assets by an Action ID', signature=<Signature (uid: syft.types.uid.UID) -> Union[List[syft.service.dataset.dataset.Asset], syft.service.response.SyftError]>, has_self=False, pre_kwargs=None),\n",
       " 'dataset.delete_by_id': APIEndpoint(service_path='dataset.delete_by_id', module_path='dataset.delete_by_id', name='dataset_delete_by_id', description='', doc_string=None, signature=<Signature (uid: syft.types.uid.UID)>, has_self=False, pre_kwargs=None),\n",
       " 'project.create_project': APIEndpoint(service_path='project.create_project', module_path='project.create_project', name='create_project', description='', doc_string='Start a Project', signature=<Signature (project: syft.service.project.project.ProjectSubmit, project_id: syft.types.uid.UID) -> Union[syft.service.response.SyftSuccess, syft.service.response.SyftError]>, has_self=False, pre_kwargs=None),\n",
       " 'project.add_event': APIEndpoint(service_path='project.add_event', module_path='project.add_event', name='add_event', description='', doc_string='To add events to a projects', signature=<Signature (project_event: syft.service.project.project.ProjectEvent) -> Union[syft.service.response.SyftSuccess, syft.service.response.SyftError]>, has_self=False, pre_kwargs=None),\n",
       " 'project.broadcast_event': APIEndpoint(service_path='project.broadcast_event', module_path='project.broadcast_event', name='broadcast_event', description='', doc_string='To add events to a projects', signature=<Signature (project_event: syft.service.project.project.ProjectEvent) -> Union[syft.service.response.SyftSuccess, syft.service.response.SyftError]>, has_self=False, pre_kwargs=None),\n",
       " 'project.sync': APIEndpoint(service_path='project.sync', module_path='project.sync', name='sync', description='', doc_string='To fetch unsynced events from the project', signature=<Signature (project_id: syft.types.uid.UID, seq_no: int) -> Union[syft.service.response.SyftSuccess, syft.service.response.SyftError, List[syft.service.project.project.ProjectEvent]]>, has_self=False, pre_kwargs=None),\n",
       " 'project.get_all': APIEndpoint(service_path='project.get_all', module_path='project.get_all', name='get_all', description='', doc_string=None, signature=<Signature () -> Union[List[syft.service.project.project.Project], syft.service.response.SyftError]>, has_self=False, pre_kwargs=None),\n",
       " 'settings.get': APIEndpoint(service_path='settings.get', module_path='settings.get', name='get', description='', doc_string='Get Settings', signature=<Signature () -> Union[result.result.Ok[result.result.Ok], result.result.Err[result.result.Err]]>, has_self=False, pre_kwargs=None),\n",
       " 'settings.set': APIEndpoint(service_path='settings.set', module_path='settings.set', name='set', description='', doc_string='Set a new the Node Settings', signature=<Signature (settings: syft.service.settings.settings.NodeSettings) -> Union[result.result.Ok[result.result.Ok], result.result.Err[result.result.Err]]>, has_self=False, pre_kwargs=None),\n",
       " 'settings.update': APIEndpoint(service_path='settings.update', module_path='settings.update', name='update', description='', doc_string=None, signature=<Signature (settings: syft.service.settings.settings.NodeSettingsUpdate) -> Union[result.result.Ok[result.result.Ok], result.result.Err[result.result.Err]]>, has_self=False, pre_kwargs=None)}"
      ]
     },
     "execution_count": 3,
     "metadata": {},
     "output_type": "execute_result"
    }
   ],
   "source": [
    "root_client.api.endpoints"
   ]
  },
  {
   "cell_type": "markdown",
   "id": "a218fc23",
   "metadata": {},
   "source": [
    "#### By default, only the `root_client` can register and the `guest_client` cannot"
   ]
  },
  {
   "cell_type": "code",
   "execution_count": 4,
   "id": "904d5b87",
   "metadata": {},
   "outputs": [],
   "source": [
    "assert root_client.can_register\n",
    "assert guest_client.can_register == False\n",
    "assert guest_client_2.can_register == False"
   ]
  },
  {
   "cell_type": "code",
   "execution_count": 5,
   "id": "09fbc45c",
   "metadata": {},
   "outputs": [
    {
     "data": {
      "text/html": [
       "<div class=\"alert-success\" style=\"padding:5px;\"><strong>SyftSuccess</strong>: User successfully registered!</div><br />"
      ],
      "text/plain": [
       "<class 'syft.service.response.SyftSuccess'>: User successfully registered!"
      ]
     },
     "execution_count": 5,
     "metadata": {},
     "output_type": "execute_result"
    }
   ],
   "source": [
    "response_1 = root_client.register(email=\"joker@test.com\", password=\"joker123\", name=\"Joker\")\n",
    "response_1"
   ]
  },
  {
   "cell_type": "code",
   "execution_count": 6,
   "id": "efd412ab",
   "metadata": {},
   "outputs": [
    {
     "data": {
      "text/html": [
       "<div class=\"alert-danger\" style=\"padding:5px;\"><strong>SyftError</strong>: Not allowed to register!</div><br />"
      ],
      "text/plain": [
       "<class 'syft.service.response.SyftError'>: Not allowed to register!"
      ]
     },
     "execution_count": 6,
     "metadata": {},
     "output_type": "execute_result"
    }
   ],
   "source": [
    "response_2 = guest_client.register(email=\"batman@test.com\", password=\"batman123\", name=\"Batman\")\n",
    "response_2"
   ]
  },
  {
   "cell_type": "code",
   "execution_count": 7,
   "id": "dbe84e8d",
   "metadata": {},
   "outputs": [
    {
     "data": {
      "text/html": [
       "<div class=\"alert-danger\" style=\"padding:5px;\"><strong>SyftError</strong>: Not allowed to register!</div><br />"
      ],
      "text/plain": [
       "<class 'syft.service.response.SyftError'>: Not allowed to register!"
      ]
     },
     "execution_count": 7,
     "metadata": {},
     "output_type": "execute_result"
    }
   ],
   "source": [
    "response_3 = guest_client_2.register(email=\"robin@test.com\", password=\"robin123\", name=\"Robin\")\n",
    "response_3"
   ]
  },
  {
   "cell_type": "code",
   "execution_count": 8,
   "id": "d713569c",
   "metadata": {},
   "outputs": [],
   "source": [
    "assert isinstance(response_1, SyftSuccess)\n",
    "assert isinstance(response_2, SyftError)\n",
    "assert isinstance(response_3, SyftError)"
   ]
  },
  {
   "cell_type": "markdown",
   "id": "dd367a3d",
   "metadata": {},
   "source": [
    "#### Now, if we launch a node with `can_register=True`, then the guest clients should be able to register as well"
   ]
  },
  {
   "cell_type": "code",
   "execution_count": 9,
   "id": "6a2987c7",
   "metadata": {},
   "outputs": [
    {
     "name": "stdout",
     "output_type": "stream",
     "text": [
      "Starting test-domain-2 server on 0.0.0.0:8081\n",
      "\n",
      "WARNING: private key is based on node name: test-domain-2 in dev_mode. Don't run this in production.\n",
      "SQLite Store Path:\n",
      "!open file:///tmp/b626124c319343c882a448dac2d6953d.sqlite\n",
      "\n",
      "Waiting for server to start"
     ]
    },
    {
     "name": "stderr",
     "output_type": "stream",
     "text": [
      "INFO:     Started server process [372278]\n",
      "INFO:     Waiting for application startup.\n",
      "INFO:     Application startup complete.\n",
      "INFO:     Uvicorn running on http://0.0.0.0:8081 (Press CTRL+C to quit)\n"
     ]
    },
    {
     "name": "stdout",
     "output_type": "stream",
     "text": [
      "INFO:     127.0.0.1:58170 - \"GET /api/v2/metadata HTTP/1.1\" 200 OK\n",
      "INFO:     127.0.0.1:58180 - \"GET /api/v2/metadata HTTP/1.1\" 200 OK\n",
      ". Done.\n",
      "INFO:     127.0.0.1:58180 - \"POST /api/v2/login HTTP/1.1\" 200 OK\n",
      "INFO:     127.0.0.1:58180 - \"GET /api/v2/api?verify_key=0dfade1de62080fb5e584e38a1b82ca623859caaefd6f13ae821a4e5172df446 HTTP/1.1\" 200 OK\n",
      "INFO:     127.0.0.1:58196 - \"GET /api/v2/metadata HTTP/1.1\" 200 OK\n",
      "INFO:     127.0.0.1:58212 - \"GET /api/v2/metadata HTTP/1.1\" 200 OK\n",
      "INFO:     127.0.0.1:58180 - \"POST /api/v2/register HTTP/1.1\" 200 OK\n",
      "INFO:     127.0.0.1:58196 - \"POST /api/v2/register HTTP/1.1\" 200 OK\n",
      "INFO:     127.0.0.1:58212 - \"POST /api/v2/register HTTP/1.1\" 200 OK\n"
     ]
    }
   ],
   "source": [
    "node = sy.orchestra.launch(name=\"test-domain-2\", port=\"auto\", dev_mode=True, reset=True, can_register=True)\n",
    "root_client = node.login(email=\"info@openmined.org\", password=\"changethis\")\n",
    "guest_client = node.client\n",
    "guest_client_2 = node.client"
   ]
  },
  {
   "cell_type": "code",
   "execution_count": 10,
   "id": "0f2fb5fa",
   "metadata": {},
   "outputs": [],
   "source": [
    "assert root_client.can_register\n",
    "assert guest_client.can_register\n",
    "assert guest_client_2.can_register"
   ]
  },
  {
   "cell_type": "code",
   "execution_count": 11,
   "id": "dbb9e96e",
   "metadata": {},
   "outputs": [
    {
     "data": {
      "text/html": [
       "<div class=\"alert-success\" style=\"padding:5px;\"><strong>SyftSuccess</strong>: User successfully registered!</div><br />"
      ],
      "text/plain": [
       "<class 'syft.service.response.SyftSuccess'>: User successfully registered!"
      ]
     },
     "execution_count": 11,
     "metadata": {},
     "output_type": "execute_result"
    }
   ],
   "source": [
    "response_1 = root_client.register(email=\"joker@test.com\", password=\"joker123\", name=\"Joker\")\n",
    "response_1"
   ]
  },
  {
   "cell_type": "code",
   "execution_count": 12,
   "id": "f593dcf2",
   "metadata": {},
   "outputs": [
    {
     "data": {
      "text/html": [
       "<div class=\"alert-success\" style=\"padding:5px;\"><strong>SyftSuccess</strong>: User successfully registered!</div><br />"
      ],
      "text/plain": [
       "<class 'syft.service.response.SyftSuccess'>: User successfully registered!"
      ]
     },
     "execution_count": 12,
     "metadata": {},
     "output_type": "execute_result"
    }
   ],
   "source": [
    "response_2 = guest_client.register(email=\"batman@test.com\", password=\"batman123\", name=\"Batman\")\n",
    "response_2"
   ]
  },
  {
   "cell_type": "code",
   "execution_count": 13,
   "id": "b9f278a2",
   "metadata": {},
   "outputs": [
    {
     "data": {
      "text/html": [
       "<div class=\"alert-success\" style=\"padding:5px;\"><strong>SyftSuccess</strong>: User successfully registered!</div><br />"
      ],
      "text/plain": [
       "<class 'syft.service.response.SyftSuccess'>: User successfully registered!"
      ]
     },
     "execution_count": 13,
     "metadata": {},
     "output_type": "execute_result"
    }
   ],
   "source": [
    "response_3 = guest_client_2.register(email=\"robin@test.com\", password=\"robin123\", name=\"Robin\")\n",
    "response_3"
   ]
  },
  {
   "cell_type": "code",
   "execution_count": 14,
   "id": "1d801bc8",
   "metadata": {},
   "outputs": [],
   "source": [
    "assert isinstance(response_1, SyftSuccess)\n",
    "assert isinstance(response_2, SyftSuccess)\n",
    "assert isinstance(response_3, SyftSuccess)"
   ]
  },
  {
   "cell_type": "markdown",
   "id": "997a2b93",
   "metadata": {},
   "source": [
    "## [WIP] PythonNode: do not provide port"
   ]
  },
  {
   "cell_type": "code",
   "execution_count": 2,
   "id": "09a8928a",
   "metadata": {},
   "outputs": [
    {
     "name": "stdout",
     "output_type": "stream",
     "text": [
      "SQLite Store Path:\n",
      "!open file:///tmp/7bca415d13ed4ec881f0d0aede098dbb.sqlite\n",
      "\n"
     ]
    }
   ],
   "source": [
    "node = sy.orchestra.launch(name=\"test-domain-1\", dev_mode=True, reset=True)"
   ]
  },
  {
   "cell_type": "code",
   "execution_count": 3,
   "id": "04eaa159",
   "metadata": {},
   "outputs": [
    {
     "name": "stdout",
     "output_type": "stream",
     "text": [
      "hello\n",
      "Inside guest_client of Node (node.py)\n"
     ]
    }
   ],
   "source": [
    "root_client = node.login(email=\"info@openmined.org\", password=\"changethis\")\n",
    "# guest_client_2 = node.client"
   ]
  },
  {
   "cell_type": "code",
   "execution_count": 4,
   "id": "b3246200",
   "metadata": {},
   "outputs": [
    {
     "name": "stdout",
     "output_type": "stream",
     "text": [
      "hello\n",
      "Inside guest_client of Node (node.py)\n"
     ]
    }
   ],
   "source": [
    "guest_client = node.client\n"
   ]
  },
  {
   "cell_type": "code",
   "execution_count": 5,
   "id": "caf512a5",
   "metadata": {},
   "outputs": [
    {
     "data": {
      "text/html": [
       "<div class=\"alert-success\" style=\"padding:5px;\"><strong>SyftSuccess</strong>: User successfully registered!</div><br />"
      ],
      "text/plain": [
       "<class 'syft.service.response.SyftSuccess'>: User successfully registered!"
      ]
     },
     "execution_count": 5,
     "metadata": {},
     "output_type": "execute_result"
    }
   ],
   "source": [
    "response_1 = root_client.register(email=\"joker@test.com\", password=\"joker123\", name=\"Joker\")\n",
    "response_1"
   ]
  },
  {
   "cell_type": "code",
   "execution_count": 6,
   "id": "a5241d1e",
   "metadata": {},
   "outputs": [
    {
     "data": {
      "text/html": [
       "<div class=\"alert-danger\" style=\"padding:5px;\"><strong>SyftError</strong>: Not allowed to register!</div><br />"
      ],
      "text/plain": [
       "<class 'syft.service.response.SyftError'>: Not allowed to register!"
      ]
     },
     "execution_count": 6,
     "metadata": {},
     "output_type": "execute_result"
    }
   ],
   "source": [
    "response_2 = guest_client.register(email=\"batman@test.com\", password=\"batman123\", name=\"Batman\")\n",
    "response_2"
   ]
  },
  {
   "cell_type": "code",
   "execution_count": null,
   "id": "37425535",
   "metadata": {},
   "outputs": [],
   "source": []
  }
 ],
 "metadata": {
  "kernelspec": {
   "display_name": "Python 3 (ipykernel)",
   "language": "python",
   "name": "python3"
  },
  "language_info": {
   "codemirror_mode": {
    "name": "ipython",
    "version": 3
   },
   "file_extension": ".py",
   "mimetype": "text/x-python",
   "name": "python",
   "nbconvert_exporter": "python",
   "pygments_lexer": "ipython3",
   "version": "3.10.8"
  }
 },
 "nbformat": 4,
 "nbformat_minor": 5
}
