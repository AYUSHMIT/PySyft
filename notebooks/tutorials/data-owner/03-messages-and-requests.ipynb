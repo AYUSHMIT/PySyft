{
 "cells": [
  {
   "attachments": {},
   "cell_type": "markdown",
   "id": "eee1897a-f8bd-4bb4-9fc5-42f23921952d",
   "metadata": {},
   "source": [
    "# Messages and Requests"
   ]
  },
  {
   "attachments": {},
   "cell_type": "markdown",
   "id": "552b2fb7",
   "metadata": {},
   "source": [
    "## Install"
   ]
  },
  {
   "cell_type": "code",
   "execution_count": 1,
   "id": "1f8dca09",
   "metadata": {},
   "outputs": [],
   "source": [
    "SYFT_VERSION = \">=0.8.1b0,<0.9\"\n",
    "package_string = f'\"syft{SYFT_VERSION}\"'\n",
    "# %pip install {package_string} -f https://whls.blob.core.windows.net/unstable/index.html"
   ]
  },
  {
   "cell_type": "code",
   "execution_count": 2,
   "id": "d9d6ca04",
   "metadata": {},
   "outputs": [
    {
     "data": {
      "text/markdown": [
       "\n",
       "Warning: syft is imported in light mode by default.         \n",
       "To switch to dark mode, please run `sy.options.color_theme = 'dark'`"
      ],
      "text/plain": [
       "<IPython.core.display.Markdown object>"
      ]
     },
     "metadata": {},
     "output_type": "display_data"
    },
    {
     "name": "stdout",
     "output_type": "stream",
     "text": [
      "✅ The installed version of syft==0.8.1b12 matches the requirement >=0.8.1b0 and the requirement <0.9\n"
     ]
    }
   ],
   "source": [
    "import syft as sy\n",
    "sy.requires(SYFT_VERSION)"
   ]
  },
  {
   "cell_type": "code",
   "execution_count": 3,
   "id": "ca30bce1",
   "metadata": {},
   "outputs": [
    {
     "name": "stdout",
     "output_type": "stream",
     "text": [
      "Starting messages-requests-example-domain-1 server on 0.0.0.0:4559\n",
      "SQLite Store Path:\n",
      "!open file:///tmp/9458ac6a16464e7bb6211f87d19897dd.sqlite\n",
      "\n",
      "Waiting for server to start... Done.\n"
     ]
    }
   ],
   "source": [
    "node = sy.orchestra.launch(name=\"messages-requests-example-domain-1\",port=\"auto\", reset=True)"
   ]
  },
  {
   "attachments": {},
   "cell_type": "markdown",
   "id": "3309ac80",
   "metadata": {},
   "source": [
    "## Setup"
   ]
  },
  {
   "attachments": {},
   "cell_type": "markdown",
   "id": "ccce3974",
   "metadata": {},
   "source": [
    "For the purpose of this tutorial we are creating a very simple dataset, which is created and owner by the root client"
   ]
  },
  {
   "cell_type": "code",
   "execution_count": 4,
   "id": "c3b4e1ab",
   "metadata": {},
   "outputs": [
    {
     "name": "stdout",
     "output_type": "stream",
     "text": [
      "Logged into messages-requests-example-domain-1 as GUEST\n",
      "Logged into messages-requests-example-domain-1 as <info@openmined.org>\n"
     ]
    }
   ],
   "source": [
    "admin_client = node.login(email=\"info@openmined.org\", password=\"changethis\")"
   ]
  },
  {
   "cell_type": "code",
   "execution_count": 5,
   "id": "ccd7d767",
   "metadata": {},
   "outputs": [
    {
     "name": "stderr",
     "output_type": "stream",
     "text": [
      "100%|██████████| 1/1 [00:00<00:00,  5.20it/s]"
     ]
    },
    {
     "name": "stdout",
     "output_type": "stream",
     "text": [
      "Uploading: my asset\n"
     ]
    },
    {
     "name": "stderr",
     "output_type": "stream",
     "text": [
      "100%|██████████| 1/1 [00:00<00:00,  5.18it/s]\n"
     ]
    },
    {
     "data": {
      "text/html": [
       "<div class=\"alert-success\" style=\"padding:5px;\"><strong>SyftSuccess</strong>: Dataset Added</div><br />"
      ],
      "text/plain": [
       "<class 'syft.service.response.SyftSuccess'>: Dataset Added"
      ]
     },
     "execution_count": 5,
     "metadata": {},
     "output_type": "execute_result"
    }
   ],
   "source": [
    "import numpy as np\n",
    "dataset = sy.Dataset(\n",
    "    name=\"my dataset\",\n",
    "    asset_list=[\n",
    "        sy.Asset(\n",
    "        name=\"my asset\",\n",
    "        data=np.array([1,2,3]),\n",
    "        mock=np.array([1,1,1])\n",
    "    )]\n",
    ")\n",
    "admin_client.upload_dataset(dataset)"
   ]
  },
  {
   "cell_type": "code",
   "execution_count": 6,
   "id": "f9e0e3bb",
   "metadata": {},
   "outputs": [
    {
     "data": {
      "text/html": [
       "<div class=\"alert-success\" style=\"padding:5px;\"><strong>SyftSuccess</strong>: User Jane Doe successfully registered! To see users, run client.users.</div><br />"
      ],
      "text/plain": [
       "<class 'syft.service.response.SyftSuccess'>: User Jane Doe successfully registered! To see users, run client.users."
      ]
     },
     "execution_count": 6,
     "metadata": {},
     "output_type": "execute_result"
    }
   ],
   "source": [
    "admin_client.register(name=\"Jane Doe\", email=\"jane@caltech.edu\",\n",
    "                            password=\"abc123\", institution=\"Caltech\", website=\"https://www.caltech.edu/\")"
   ]
  },
  {
   "cell_type": "code",
   "execution_count": 7,
   "id": "02cb2a7d",
   "metadata": {},
   "outputs": [
    {
     "name": "stdout",
     "output_type": "stream",
     "text": [
      "Logged into messages-requests-example-domain-1 as GUEST\n",
      "Logged into messages-requests-example-domain-1 as <jane@caltech.edu>\n"
     ]
    }
   ],
   "source": [
    "guest_client = node.client.login(email=\"jane@caltech.edu\", password=\"abc123\")"
   ]
  },
  {
   "cell_type": "code",
   "execution_count": 8,
   "id": "41b8b782",
   "metadata": {},
   "outputs": [],
   "source": [
    "asset = guest_client.datasets[0].assets[0]"
   ]
  },
  {
   "cell_type": "code",
   "execution_count": 9,
   "id": "a10a2578",
   "metadata": {},
   "outputs": [],
   "source": [
    "@sy.syft_function_single_use()\n",
    "def func():\n",
    "    import random\n",
    "    data = list(range(100))\n",
    "    return sum(data) / 100 + random.random()\n",
    "\n",
    "@sy.syft_function_single_use(data=asset)\n",
    "def mean(data):\n",
    "    import random\n",
    "    return sum(data)/len(data) + + random.random()\n",
    "\n",
    "@sy.syft_function_single_use(data=asset)\n",
    "def reveal_data(data):\n",
    "    return data"
   ]
  },
  {
   "cell_type": "code",
   "execution_count": 10,
   "id": "34b421af",
   "metadata": {},
   "outputs": [
    {
     "data": {
      "text/html": [
       "\n",
       "            <style>\n",
       "            .syft-project-create {color: #464158;}\n",
       "            </style>\n",
       "            <div class='syft-project-create'><h3>My Cool Project</h3><p>Hi, I want to calculate the mean of your private data,                    pretty please!</p><p><strong>Created by: </strong>jane@caltech.edu</p></div>"
      ],
      "text/markdown": [
       "```python\n",
       "class ProjectSubmit:\n",
       "  id: str = 700332326ecd4bd5aae583fcd6ca9da0\n",
       "  name: str = \"My Cool Project\"\n",
       "  description: str = \"Hi, I want to calculate the mean of your private data,                    pretty please!\"\n",
       "  created_by: str = \"jane@caltech.edu\"\n",
       "\n",
       "```"
      ],
      "text/plain": [
       "syft.service.project.project.ProjectSubmit"
      ]
     },
     "execution_count": 10,
     "metadata": {},
     "output_type": "execute_result"
    }
   ],
   "source": [
    "# Create a project\n",
    "new_project = sy.Project(\n",
    "    name=\"My Cool Project\",\n",
    "    description=\"\"\"Hi, I want to calculate the mean of your private data,\\\n",
    "                    pretty please!\"\"\",\n",
    "    members=[guest_client],\n",
    ")\n",
    "new_project"
   ]
  },
  {
   "cell_type": "code",
   "execution_count": 11,
   "id": "3f705fc9",
   "metadata": {},
   "outputs": [
    {
     "data": {
      "text/html": [
       "<div class=\"alert-success\" style=\"padding:5px;\"><strong>SyftSuccess</strong>: Request added successfully</div><br />"
      ],
      "text/plain": [
       "<class 'syft.service.response.SyftSuccess'>: Request added successfully"
      ]
     },
     "execution_count": 11,
     "metadata": {},
     "output_type": "execute_result"
    }
   ],
   "source": [
    "new_project.create_code_request(func, guest_client)\n",
    "new_project.create_code_request(mean, guest_client)\n",
    "new_project.create_code_request(reveal_data, guest_client)"
   ]
  },
  {
   "cell_type": "code",
   "execution_count": 12,
   "id": "2f5d2d12",
   "metadata": {},
   "outputs": [
    {
     "data": {
      "text/html": [
       "\n",
       "            <style>\n",
       "            .syft-project {color: #464158;}\n",
       "            </style>\n",
       "            <div class='syft-project'><h3>My Cool Project</h3><p>Hi, I want to calculate the mean of your private data,                    pretty please!</p><p><strong>Created by: </strong>jane@caltech.edu</p>\n",
       "                <style>\n",
       "                .syft-collection-header {color: #464158;}\n",
       "                </style>\n",
       "                <div class='syft-collection-header'>\n",
       "                    <h3>Request List</h3>\n",
       "                </div>\n",
       "                <br>\n",
       "                <style>\n",
       "            .itables table {\n",
       "                margin: 0 auto;\n",
       "                float: left;\n",
       "                color: #534F64;\n",
       "            }\n",
       "            .itables table th {color: #2E2B3B;}\n",
       "            </style>\n",
       "<div class=\"itables\">\n",
       "<table id=\"599ca28f-9a10-4e4c-bf42-8aed55dd2af7\" class=\"display nowrap\"style=\"table-layout:auto;width:auto;margin:auto;caption-side:bottom\"><thead>\n",
       "    <tr style=\"text-align: right;\">\n",
       "      \n",
       "      <th>id</th>\n",
       "      <th>request_time</th>\n",
       "      <th>updated_at</th>\n",
       "      <th>status</th>\n",
       "      <th>changes</th>\n",
       "      <th>requesting_user_verify_key</th>\n",
       "    </tr>\n",
       "  </thead><tbody><tr><td>Loading... (need <a href=https://mwouts.github.io/itables/troubleshooting.html>help</a>?)</td></tr></tbody></table>\n",
       "<link rel=\"stylesheet\" type=\"text/css\" href=\"https://cdn.datatables.net/1.13.1/css/jquery.dataTables.min.css\">\n",
       "<script type=\"module\">\n",
       "    // Import jquery and DataTable\n",
       "    import 'https://code.jquery.com/jquery-3.6.0.min.js';\n",
       "    import dt from 'https://cdn.datatables.net/1.12.1/js/jquery.dataTables.mjs';\n",
       "    dt($);\n",
       "\n",
       "    // Define the table data\n",
       "    const data = [[\"020b...d83\", \"2023-06-20 05:09:46\", \"None\", \"RequestStatus.PENDING\", \"[Request to change <b>func</b> to permission <b>RequestStatus.APPROVED</b>]\", \"76890420ad56025eedd361f196ae43a78f7921082b29f672a8fb4c7cc85609da\"], [\"823a...406\", \"2023-06-20 05:09:48\", \"None\", \"RequestStatus.PENDING\", \"[Request to change <b>mean</b> to permission <b>RequestStatus.APPROVED</b>]\", \"76890420ad56025eedd361f196ae43a78f7921082b29f672a8fb4c7cc85609da\"], [\"9a35...8b8\", \"2023-06-20 05:09:49\", \"None\", \"RequestStatus.PENDING\", \"[Request to change <b>reveal_data</b> to permission <b>RequestStatus.APPROVED</b>]\", \"76890420ad56025eedd361f196ae43a78f7921082b29f672a8fb4c7cc85609da\"]];\n",
       "\n",
       "    // Define the dt_args\n",
       "    let dt_args = {\"order\": [], \"dom\": \"t\"};\n",
       "    dt_args[\"data\"] = data;\n",
       "\n",
       "    $(document).ready(function () {\n",
       "        \n",
       "        $('#599ca28f-9a10-4e4c-bf42-8aed55dd2af7').DataTable(dt_args);\n",
       "    });\n",
       "</script>\n",
       "</div>\n",
       "</div>"
      ],
      "text/markdown": [
       "```python\n",
       "class Project:\n",
       "  id: str = 700332326ecd4bd5aae583fcd6ca9da0\n",
       "  name: str = \"My Cool Project\"\n",
       "  description: str = \"Hi, I want to calculate the mean of your private data,                    pretty please!\"\n",
       "  created_by: str = \"jane@caltech.edu\"\n",
       "  events: str = [('ProjectRequest', '25c7...dcb'), ('ProjectRequest', '6da1...3c0'), ('ProjectRequest', '6217...56d')]\n",
       "\n",
       "```"
      ],
      "text/plain": [
       "syft.service.project.project.Project"
      ]
     },
     "execution_count": 12,
     "metadata": {},
     "output_type": "execute_result"
    }
   ],
   "source": [
    "project = new_project.start()\n",
    "project"
   ]
  },
  {
   "attachments": {},
   "cell_type": "markdown",
   "id": "3a9db3f7-4092-4358-9c90-a59cb13136c5",
   "metadata": {},
   "source": [
    "## Messaging"
   ]
  },
  {
   "attachments": {},
   "cell_type": "markdown",
   "id": "a92531c8-aad5-4f1b-a783-32fee494de34",
   "metadata": {},
   "source": [
    "### Check New Messages"
   ]
  },
  {
   "cell_type": "code",
   "execution_count": 13,
   "id": "26047af6",
   "metadata": {},
   "outputs": [
    {
     "name": "stdout",
     "output_type": "stream",
     "text": [
      "WARNING: Notifications is currently is in a beta state, so use carefully!\n",
      "If possible try using client.requests/client.projects\n"
     ]
    },
    {
     "data": {
      "text/html": [
       "\n",
       "                <style>\n",
       "                .syft-collection-header {color: #464158;}\n",
       "                </style>\n",
       "                <div class='syft-collection-header'>\n",
       "                    <h3>Message List</h3>\n",
       "                </div>\n",
       "                <br>\n",
       "                <style>\n",
       "            .itables table {\n",
       "                margin: 0 auto;\n",
       "                float: left;\n",
       "                color: #534F64;\n",
       "            }\n",
       "            .itables table th {color: #2E2B3B;}\n",
       "            </style>\n",
       "<div class=\"itables\">\n",
       "<table id=\"72687242-b091-472e-9948-2337b271b02b\" class=\"display nowrap\"style=\"table-layout:auto;width:auto;margin:auto;caption-side:bottom\"><thead>\n",
       "    <tr style=\"text-align: right;\">\n",
       "      \n",
       "      <th>id</th>\n",
       "      <th>subject</th>\n",
       "      <th>status</th>\n",
       "      <th>created_at</th>\n",
       "      <th>linked_obj</th>\n",
       "    </tr>\n",
       "  </thead><tbody><tr><td>Loading... (need <a href=https://mwouts.github.io/itables/troubleshooting.html>help</a>?)</td></tr></tbody></table>\n",
       "<link rel=\"stylesheet\" type=\"text/css\" href=\"https://cdn.datatables.net/1.13.1/css/jquery.dataTables.min.css\">\n",
       "<script type=\"module\">\n",
       "    // Import jquery and DataTable\n",
       "    import 'https://code.jquery.com/jquery-3.6.0.min.js';\n",
       "    import dt from 'https://cdn.datatables.net/1.12.1/js/jquery.dataTables.mjs';\n",
       "    dt($);\n",
       "\n",
       "    // Define the table data\n",
       "    const data = [[\"d262...ad3\", \"Code Request for Project: My Cool Project has been submitted by jane@caltech.edu\", \"MessageStatus.UNREAD\", \"2023-06-20 05:09:47\", \"<<class 'syft.service.request.request.Request'>: 020b001795724937b1331ff16dd52d83@<Node: 9458ac6a16464e7bb6211f87d19897dd>\"], [\"f438...a1f\", \"Code Request for Project: My Cool Project has been submitted by jane@caltech.edu\", \"MessageStatus.UNREAD\", \"2023-06-20 05:09:48\", \"<<class 'syft.service.request.request.Request'>: 823aa98263594071807a87cea055a406@<Node: 9458ac6a16464e7bb6211f87d19897dd>\"], [\"e318...824\", \"Code Request for Project: My Cool Project has been submitted by jane@caltech.edu\", \"MessageStatus.UNREAD\", \"2023-06-20 05:09:49\", \"<<class 'syft.service.request.request.Request'>: 9a358b344e3c4ba693fd26a0c47708b8@<Node: 9458ac6a16464e7bb6211f87d19897dd>\"], [\"307d...a62\", \"A new request has been added to the Project: My Cool Project.\", \"MessageStatus.UNREAD\", \"2023-06-20 05:09:51\", \"<<class 'syft.service.project.project.Project'>: 700332326ecd4bd5aae583fcd6ca9da0@<Node: 9458ac6a16464e7bb6211f87d19897dd>\"], [\"4887...de6\", \"A new request has been added to the Project: My Cool Project.\", \"MessageStatus.UNREAD\", \"2023-06-20 05:09:51\", \"<<class 'syft.service.project.project.Project'>: 700332326ecd4bd5aae583fcd6ca9da0@<Node: 9458ac6a16464e7bb6211f87d19897dd>\"], [\"518c...d04\", \"A new request has been added to the Project: My Cool Project.\", \"MessageStatus.UNREAD\", \"2023-06-20 05:09:51\", \"<<class 'syft.service.project.project.Project'>: 700332326ecd4bd5aae583fcd6ca9da0@<Node: 9458ac6a16464e7bb6211f87d19897dd>\"]];\n",
       "\n",
       "    // Define the dt_args\n",
       "    let dt_args = {\"order\": [[3, \"desc\"]], \"dom\": \"t\"};\n",
       "    dt_args[\"data\"] = data;\n",
       "\n",
       "    $(document).ready(function () {\n",
       "        \n",
       "        $('#72687242-b091-472e-9948-2337b271b02b').DataTable(dt_args);\n",
       "    });\n",
       "</script>\n",
       "</div>\n"
      ],
      "text/plain": [
       "<syft.client.api.APIModule at 0x7fb5e6e47d60>"
      ]
     },
     "execution_count": 13,
     "metadata": {},
     "output_type": "execute_result"
    }
   ],
   "source": [
    "admin_client.notifications"
   ]
  },
  {
   "attachments": {},
   "cell_type": "markdown",
   "id": "dc7113be-de1e-41f7-bdab-5fe40dd34b6a",
   "metadata": {},
   "source": [
    "### Send a Message"
   ]
  },
  {
   "attachments": {},
   "cell_type": "markdown",
   "id": "069d43ef-606b-4359-a1eb-555921b58d68",
   "metadata": {},
   "source": [
    "### Mark as Read or Unread"
   ]
  },
  {
   "cell_type": "code",
   "execution_count": 14,
   "id": "76f05299",
   "metadata": {},
   "outputs": [
    {
     "name": "stdout",
     "output_type": "stream",
     "text": [
      "WARNING: Notifications is currently is in a beta state, so use carefully!\n",
      "If possible try using client.requests/client.projects\n"
     ]
    },
    {
     "data": {
      "text/markdown": [
       "```python\n",
       "class Message:\n",
       "  id: str = d2623ec33db04b5abf3ec9acfca96ad3\n",
       "  subject: str = \"Code Request for Project: My Cool Project has been submitted by jane@caltech.edu\"\n",
       "  status: str = MessageStatus.UNREAD\n",
       "  created_at: str = 2023-06-20 05:09:47\n",
       "  linked_obj: str = <<class 'syft.service.request.request.Request'>: 020b001795724937b1331ff16dd52d83@<Node: 9458ac6a16464e7bb6211f87d19897dd>\n",
       "\n",
       "```"
      ],
      "text/plain": [
       "syft.service.message.messages.Message"
      ]
     },
     "execution_count": 14,
     "metadata": {},
     "output_type": "execute_result"
    }
   ],
   "source": [
    "message = admin_client.notifications[0]\n",
    "message"
   ]
  },
  {
   "cell_type": "code",
   "execution_count": 15,
   "id": "c3a70644",
   "metadata": {},
   "outputs": [
    {
     "data": {
      "text/markdown": [
       "```python\n",
       "class Message:\n",
       "  id: str = d2623ec33db04b5abf3ec9acfca96ad3\n",
       "  subject: str = \"Code Request for Project: My Cool Project has been submitted by jane@caltech.edu\"\n",
       "  status: str = MessageStatus.READ\n",
       "  created_at: str = 2023-06-20 05:09:47\n",
       "  linked_obj: str = <<class 'syft.service.request.request.Request'>: 020b001795724937b1331ff16dd52d83@<Node: 9458ac6a16464e7bb6211f87d19897dd>\n",
       "\n",
       "```"
      ],
      "text/plain": [
       "syft.service.message.messages.Message"
      ]
     },
     "execution_count": 15,
     "metadata": {},
     "output_type": "execute_result"
    }
   ],
   "source": [
    "message.mark_read()"
   ]
  },
  {
   "cell_type": "code",
   "execution_count": 16,
   "id": "d92a19e0",
   "metadata": {},
   "outputs": [
    {
     "name": "stdout",
     "output_type": "stream",
     "text": [
      "WARNING: Notifications is currently is in a beta state, so use carefully!\n",
      "If possible try using client.requests/client.projects\n"
     ]
    },
    {
     "data": {
      "text/html": [
       "\n",
       "                <style>\n",
       "                .syft-collection-header {color: #464158;}\n",
       "                </style>\n",
       "                <div class='syft-collection-header'>\n",
       "                    <h3>Message List</h3>\n",
       "                </div>\n",
       "                <br>\n",
       "                <style>\n",
       "            .itables table {\n",
       "                margin: 0 auto;\n",
       "                float: left;\n",
       "                color: #534F64;\n",
       "            }\n",
       "            .itables table th {color: #2E2B3B;}\n",
       "            </style>\n",
       "<div class=\"itables\">\n",
       "<table id=\"deaa77de-ae55-48dc-8cac-f963b9e64ce0\" class=\"display nowrap\"style=\"table-layout:auto;width:auto;margin:auto;caption-side:bottom\"><thead>\n",
       "    <tr style=\"text-align: right;\">\n",
       "      \n",
       "      <th>id</th>\n",
       "      <th>subject</th>\n",
       "      <th>status</th>\n",
       "      <th>created_at</th>\n",
       "      <th>linked_obj</th>\n",
       "    </tr>\n",
       "  </thead><tbody><tr><td>Loading... (need <a href=https://mwouts.github.io/itables/troubleshooting.html>help</a>?)</td></tr></tbody></table>\n",
       "<link rel=\"stylesheet\" type=\"text/css\" href=\"https://cdn.datatables.net/1.13.1/css/jquery.dataTables.min.css\">\n",
       "<script type=\"module\">\n",
       "    // Import jquery and DataTable\n",
       "    import 'https://code.jquery.com/jquery-3.6.0.min.js';\n",
       "    import dt from 'https://cdn.datatables.net/1.12.1/js/jquery.dataTables.mjs';\n",
       "    dt($);\n",
       "\n",
       "    // Define the table data\n",
       "    const data = [[\"f438...a1f\", \"Code Request for Project: My Cool Project has been submitted by jane@caltech.edu\", \"MessageStatus.UNREAD\", \"2023-06-20 05:09:48\", \"<<class 'syft.service.request.request.Request'>: 823aa98263594071807a87cea055a406@<Node: 9458ac6a16464e7bb6211f87d19897dd>\"], [\"e318...824\", \"Code Request for Project: My Cool Project has been submitted by jane@caltech.edu\", \"MessageStatus.UNREAD\", \"2023-06-20 05:09:49\", \"<<class 'syft.service.request.request.Request'>: 9a358b344e3c4ba693fd26a0c47708b8@<Node: 9458ac6a16464e7bb6211f87d19897dd>\"], [\"307d...a62\", \"A new request has been added to the Project: My Cool Project.\", \"MessageStatus.UNREAD\", \"2023-06-20 05:09:51\", \"<<class 'syft.service.project.project.Project'>: 700332326ecd4bd5aae583fcd6ca9da0@<Node: 9458ac6a16464e7bb6211f87d19897dd>\"], [\"4887...de6\", \"A new request has been added to the Project: My Cool Project.\", \"MessageStatus.UNREAD\", \"2023-06-20 05:09:51\", \"<<class 'syft.service.project.project.Project'>: 700332326ecd4bd5aae583fcd6ca9da0@<Node: 9458ac6a16464e7bb6211f87d19897dd>\"], [\"518c...d04\", \"A new request has been added to the Project: My Cool Project.\", \"MessageStatus.UNREAD\", \"2023-06-20 05:09:51\", \"<<class 'syft.service.project.project.Project'>: 700332326ecd4bd5aae583fcd6ca9da0@<Node: 9458ac6a16464e7bb6211f87d19897dd>\"]];\n",
       "\n",
       "    // Define the dt_args\n",
       "    let dt_args = {\"order\": [[3, \"desc\"]], \"dom\": \"t\"};\n",
       "    dt_args[\"data\"] = data;\n",
       "\n",
       "    $(document).ready(function () {\n",
       "        \n",
       "        $('#deaa77de-ae55-48dc-8cac-f963b9e64ce0').DataTable(dt_args);\n",
       "    });\n",
       "</script>\n",
       "</div>\n"
      ],
      "text/plain": [
       "<syft.client.api.APIModule at 0x7fb5e6e47d60>"
      ]
     },
     "execution_count": 16,
     "metadata": {},
     "output_type": "execute_result"
    }
   ],
   "source": [
    "admin_client.notifications"
   ]
  },
  {
   "cell_type": "code",
   "execution_count": 17,
   "id": "17ba6304",
   "metadata": {},
   "outputs": [
    {
     "data": {
      "text/markdown": [
       "```python\n",
       "class Message:\n",
       "  id: str = d2623ec33db04b5abf3ec9acfca96ad3\n",
       "  subject: str = \"Code Request for Project: My Cool Project has been submitted by jane@caltech.edu\"\n",
       "  status: str = MessageStatus.UNREAD\n",
       "  created_at: str = 2023-06-20 05:09:47\n",
       "  linked_obj: str = <<class 'syft.service.request.request.Request'>: 020b001795724937b1331ff16dd52d83@<Node: 9458ac6a16464e7bb6211f87d19897dd>\n",
       "\n",
       "```"
      ],
      "text/plain": [
       "syft.service.message.messages.Message"
      ]
     },
     "execution_count": 17,
     "metadata": {},
     "output_type": "execute_result"
    }
   ],
   "source": [
    "message.mark_unread()"
   ]
  },
  {
   "cell_type": "code",
   "execution_count": 18,
   "id": "746d305c",
   "metadata": {},
   "outputs": [
    {
     "name": "stdout",
     "output_type": "stream",
     "text": [
      "WARNING: Notifications is currently is in a beta state, so use carefully!\n",
      "If possible try using client.requests/client.projects\n"
     ]
    },
    {
     "data": {
      "text/html": [
       "\n",
       "                <style>\n",
       "                .syft-collection-header {color: #464158;}\n",
       "                </style>\n",
       "                <div class='syft-collection-header'>\n",
       "                    <h3>Message List</h3>\n",
       "                </div>\n",
       "                <br>\n",
       "                <style>\n",
       "            .itables table {\n",
       "                margin: 0 auto;\n",
       "                float: left;\n",
       "                color: #534F64;\n",
       "            }\n",
       "            .itables table th {color: #2E2B3B;}\n",
       "            </style>\n",
       "<div class=\"itables\">\n",
       "<table id=\"8d81e9f9-48e2-4abf-a51d-029399336454\" class=\"display nowrap\"style=\"table-layout:auto;width:auto;margin:auto;caption-side:bottom\"><thead>\n",
       "    <tr style=\"text-align: right;\">\n",
       "      \n",
       "      <th>id</th>\n",
       "      <th>subject</th>\n",
       "      <th>status</th>\n",
       "      <th>created_at</th>\n",
       "      <th>linked_obj</th>\n",
       "    </tr>\n",
       "  </thead><tbody><tr><td>Loading... (need <a href=https://mwouts.github.io/itables/troubleshooting.html>help</a>?)</td></tr></tbody></table>\n",
       "<link rel=\"stylesheet\" type=\"text/css\" href=\"https://cdn.datatables.net/1.13.1/css/jquery.dataTables.min.css\">\n",
       "<script type=\"module\">\n",
       "    // Import jquery and DataTable\n",
       "    import 'https://code.jquery.com/jquery-3.6.0.min.js';\n",
       "    import dt from 'https://cdn.datatables.net/1.12.1/js/jquery.dataTables.mjs';\n",
       "    dt($);\n",
       "\n",
       "    // Define the table data\n",
       "    const data = [[\"d262...ad3\", \"Code Request for Project: My Cool Project has been submitted by jane@caltech.edu\", \"MessageStatus.UNREAD\", \"2023-06-20 05:09:47\", \"<<class 'syft.service.request.request.Request'>: 020b001795724937b1331ff16dd52d83@<Node: 9458ac6a16464e7bb6211f87d19897dd>\"], [\"f438...a1f\", \"Code Request for Project: My Cool Project has been submitted by jane@caltech.edu\", \"MessageStatus.UNREAD\", \"2023-06-20 05:09:48\", \"<<class 'syft.service.request.request.Request'>: 823aa98263594071807a87cea055a406@<Node: 9458ac6a16464e7bb6211f87d19897dd>\"], [\"e318...824\", \"Code Request for Project: My Cool Project has been submitted by jane@caltech.edu\", \"MessageStatus.UNREAD\", \"2023-06-20 05:09:49\", \"<<class 'syft.service.request.request.Request'>: 9a358b344e3c4ba693fd26a0c47708b8@<Node: 9458ac6a16464e7bb6211f87d19897dd>\"], [\"307d...a62\", \"A new request has been added to the Project: My Cool Project.\", \"MessageStatus.UNREAD\", \"2023-06-20 05:09:51\", \"<<class 'syft.service.project.project.Project'>: 700332326ecd4bd5aae583fcd6ca9da0@<Node: 9458ac6a16464e7bb6211f87d19897dd>\"], [\"4887...de6\", \"A new request has been added to the Project: My Cool Project.\", \"MessageStatus.UNREAD\", \"2023-06-20 05:09:51\", \"<<class 'syft.service.project.project.Project'>: 700332326ecd4bd5aae583fcd6ca9da0@<Node: 9458ac6a16464e7bb6211f87d19897dd>\"], [\"518c...d04\", \"A new request has been added to the Project: My Cool Project.\", \"MessageStatus.UNREAD\", \"2023-06-20 05:09:51\", \"<<class 'syft.service.project.project.Project'>: 700332326ecd4bd5aae583fcd6ca9da0@<Node: 9458ac6a16464e7bb6211f87d19897dd>\"]];\n",
       "\n",
       "    // Define the dt_args\n",
       "    let dt_args = {\"order\": [[3, \"desc\"]], \"dom\": \"t\"};\n",
       "    dt_args[\"data\"] = data;\n",
       "\n",
       "    $(document).ready(function () {\n",
       "        \n",
       "        $('#8d81e9f9-48e2-4abf-a51d-029399336454').DataTable(dt_args);\n",
       "    });\n",
       "</script>\n",
       "</div>\n"
      ],
      "text/plain": [
       "<syft.client.api.APIModule at 0x7fb5e6e47d60>"
      ]
     },
     "execution_count": 18,
     "metadata": {},
     "output_type": "execute_result"
    }
   ],
   "source": [
    "admin_client.notifications"
   ]
  },
  {
   "attachments": {},
   "cell_type": "markdown",
   "id": "a0ad87d7-3fd1-40bf-9ecf-701339ca4fd0",
   "metadata": {},
   "source": [
    "## Requests"
   ]
  },
  {
   "attachments": {},
   "cell_type": "markdown",
   "id": "f2b7a83e-ecfc-400c-a78d-71bc62abdac5",
   "metadata": {
    "tags": []
   },
   "source": [
    "### Approving"
   ]
  },
  {
   "cell_type": "code",
   "execution_count": 19,
   "id": "e11a5ca2",
   "metadata": {},
   "outputs": [
    {
     "data": {
      "text/html": [
       "\n",
       "                <style>\n",
       "                .syft-collection-header {color: #464158;}\n",
       "                </style>\n",
       "                <div class='syft-collection-header'>\n",
       "                    <h3>Request List</h3>\n",
       "                </div>\n",
       "                <br>\n",
       "                <style>\n",
       "            .itables table {\n",
       "                margin: 0 auto;\n",
       "                float: left;\n",
       "                color: #534F64;\n",
       "            }\n",
       "            .itables table th {color: #2E2B3B;}\n",
       "            </style>\n",
       "<div class=\"itables\">\n",
       "<table id=\"ca3591a4-cef1-4d9a-8f82-5975d191c8d3\" class=\"display nowrap\"style=\"table-layout:auto;width:auto;margin:auto;caption-side:bottom\"><thead>\n",
       "    <tr style=\"text-align: right;\">\n",
       "      \n",
       "      <th>id</th>\n",
       "      <th>request_time</th>\n",
       "      <th>updated_at</th>\n",
       "      <th>status</th>\n",
       "      <th>changes</th>\n",
       "      <th>requesting_user_verify_key</th>\n",
       "    </tr>\n",
       "  </thead><tbody><tr><td>Loading... (need <a href=https://mwouts.github.io/itables/troubleshooting.html>help</a>?)</td></tr></tbody></table>\n",
       "<link rel=\"stylesheet\" type=\"text/css\" href=\"https://cdn.datatables.net/1.13.1/css/jquery.dataTables.min.css\">\n",
       "<script type=\"module\">\n",
       "    // Import jquery and DataTable\n",
       "    import 'https://code.jquery.com/jquery-3.6.0.min.js';\n",
       "    import dt from 'https://cdn.datatables.net/1.12.1/js/jquery.dataTables.mjs';\n",
       "    dt($);\n",
       "\n",
       "    // Define the table data\n",
       "    const data = [[\"020b...d83\", \"2023-06-20 05:09:46\", \"None\", \"RequestStatus.PENDING\", \"[Request to change <b>func</b> to permission <b>RequestStatus.APPROVED</b>]\", \"76890420ad56025eedd361f196ae43a78f7921082b29f672a8fb4c7cc85609da\"], [\"823a...406\", \"2023-06-20 05:09:48\", \"None\", \"RequestStatus.PENDING\", \"[Request to change <b>mean</b> to permission <b>RequestStatus.APPROVED</b>]\", \"76890420ad56025eedd361f196ae43a78f7921082b29f672a8fb4c7cc85609da\"], [\"9a35...8b8\", \"2023-06-20 05:09:49\", \"None\", \"RequestStatus.PENDING\", \"[Request to change <b>reveal_data</b> to permission <b>RequestStatus.APPROVED</b>]\", \"76890420ad56025eedd361f196ae43a78f7921082b29f672a8fb4c7cc85609da\"]];\n",
       "\n",
       "    // Define the dt_args\n",
       "    let dt_args = {\"order\": [], \"dom\": \"t\"};\n",
       "    dt_args[\"data\"] = data;\n",
       "\n",
       "    $(document).ready(function () {\n",
       "        \n",
       "        $('#ca3591a4-cef1-4d9a-8f82-5975d191c8d3').DataTable(dt_args);\n",
       "    });\n",
       "</script>\n",
       "</div>\n"
      ],
      "text/plain": [
       "<syft.client.api.APIModule at 0x7fb5e6e4caf0>"
      ]
     },
     "execution_count": 19,
     "metadata": {},
     "output_type": "execute_result"
    }
   ],
   "source": [
    "admin_client.requests"
   ]
  },
  {
   "cell_type": "code",
   "execution_count": 20,
   "id": "32261a25",
   "metadata": {},
   "outputs": [
    {
     "data": {
      "text/html": [
       "\n",
       "            <style>\n",
       "            .syft-request {color: #464158;}\n",
       "            </style>\n",
       "            <div class='syft-request'>\n",
       "                <h3>Request</h3>\n",
       "                <p><strong>Id: </strong>020b001795724937b1331ff16dd52d83</p>\n",
       "                <p><strong>Request time: </strong>2023-06-20 05:09:46</p>\n",
       "                \n",
       "                <p><strong> Changes: </strong> ['User <b>Jane Doe</b> requests to change                    <b>func</b> to permission <b>RequestStatus.APPROVED</b>']</p>\n",
       "                <p><strong>Status: </strong>RequestStatus.PENDING</p>\n",
       "            </div>\n",
       "            "
      ],
      "text/markdown": [
       "```python\n",
       "class Request:\n",
       "  id: str = 020b001795724937b1331ff16dd52d83\n",
       "  request_time: str = 2023-06-20 05:09:46\n",
       "  updated_at: str = None\n",
       "  status: str = RequestStatus.PENDING\n",
       "  changes: str = ['Request to change <b>func</b> to permission <b>RequestStatus.APPROVED</b>']\n",
       "  requesting_user_verify_key: str = 76890420ad56025eedd361f196ae43a78f7921082b29f672a8fb4c7cc85609da\n",
       "\n",
       "```"
      ],
      "text/plain": [
       "syft.service.request.request.Request"
      ]
     },
     "execution_count": 20,
     "metadata": {},
     "output_type": "execute_result"
    }
   ],
   "source": [
    "func_request = admin_client.requests[-3]\n",
    "func_request"
   ]
  },
  {
   "cell_type": "code",
   "execution_count": 21,
   "id": "dd91b0a3",
   "metadata": {},
   "outputs": [
    {
     "data": {
      "text/html": [
       "<div class=\"alert-success\" style=\"padding:5px;\"><strong>SyftSuccess</strong>: Request 020b001795724937b1331ff16dd52d83 changes applied</div><br />"
      ],
      "text/plain": [
       "<class 'syft.service.response.SyftSuccess'>: Request 020b001795724937b1331ff16dd52d83 changes applied"
      ]
     },
     "execution_count": 21,
     "metadata": {},
     "output_type": "execute_result"
    }
   ],
   "source": [
    "func_request.approve()"
   ]
  },
  {
   "cell_type": "code",
   "execution_count": 22,
   "id": "0f95dab3",
   "metadata": {},
   "outputs": [
    {
     "data": {
      "text/html": [
       "\n",
       "                <style>\n",
       "                .syft-collection-header {color: #464158;}\n",
       "                </style>\n",
       "                <div class='syft-collection-header'>\n",
       "                    <h3>Request List</h3>\n",
       "                </div>\n",
       "                <br>\n",
       "                <style>\n",
       "            .itables table {\n",
       "                margin: 0 auto;\n",
       "                float: left;\n",
       "                color: #534F64;\n",
       "            }\n",
       "            .itables table th {color: #2E2B3B;}\n",
       "            </style>\n",
       "<div class=\"itables\">\n",
       "<table id=\"421c83e0-4ad3-4b33-8d41-27c566069fd0\" class=\"display nowrap\"style=\"table-layout:auto;width:auto;margin:auto;caption-side:bottom\"><thead>\n",
       "    <tr style=\"text-align: right;\">\n",
       "      \n",
       "      <th>id</th>\n",
       "      <th>request_time</th>\n",
       "      <th>updated_at</th>\n",
       "      <th>status</th>\n",
       "      <th>changes</th>\n",
       "      <th>requesting_user_verify_key</th>\n",
       "    </tr>\n",
       "  </thead><tbody><tr><td>Loading... (need <a href=https://mwouts.github.io/itables/troubleshooting.html>help</a>?)</td></tr></tbody></table>\n",
       "<link rel=\"stylesheet\" type=\"text/css\" href=\"https://cdn.datatables.net/1.13.1/css/jquery.dataTables.min.css\">\n",
       "<script type=\"module\">\n",
       "    // Import jquery and DataTable\n",
       "    import 'https://code.jquery.com/jquery-3.6.0.min.js';\n",
       "    import dt from 'https://cdn.datatables.net/1.12.1/js/jquery.dataTables.mjs';\n",
       "    dt($);\n",
       "\n",
       "    // Define the table data\n",
       "    const data = [[\"020b...d83\", \"2023-06-20 05:09:46\", \"2023-06-20 05:09:52\", \"RequestStatus.APPROVED\", \"[Request to change <b>func</b> to permission <b>RequestStatus.APPROVED</b>]\", \"76890420ad56025eedd361f196ae43a78f7921082b29f672a8fb4c7cc85609da\"], [\"823a...406\", \"2023-06-20 05:09:48\", \"None\", \"RequestStatus.PENDING\", \"[Request to change <b>mean</b> to permission <b>RequestStatus.APPROVED</b>]\", \"76890420ad56025eedd361f196ae43a78f7921082b29f672a8fb4c7cc85609da\"], [\"9a35...8b8\", \"2023-06-20 05:09:49\", \"None\", \"RequestStatus.PENDING\", \"[Request to change <b>reveal_data</b> to permission <b>RequestStatus.APPROVED</b>]\", \"76890420ad56025eedd361f196ae43a78f7921082b29f672a8fb4c7cc85609da\"]];\n",
       "\n",
       "    // Define the dt_args\n",
       "    let dt_args = {\"order\": [], \"dom\": \"t\"};\n",
       "    dt_args[\"data\"] = data;\n",
       "\n",
       "    $(document).ready(function () {\n",
       "        \n",
       "        $('#421c83e0-4ad3-4b33-8d41-27c566069fd0').DataTable(dt_args);\n",
       "    });\n",
       "</script>\n",
       "</div>\n"
      ],
      "text/plain": [
       "<syft.client.api.APIModule at 0x7fb5e6e4caf0>"
      ]
     },
     "execution_count": 22,
     "metadata": {},
     "output_type": "execute_result"
    }
   ],
   "source": [
    "admin_client.requests"
   ]
  },
  {
   "attachments": {},
   "cell_type": "markdown",
   "id": "d2ab14d2-4d52-47fd-acf1-af87a0907a7f",
   "metadata": {},
   "source": [
    "### Substituting"
   ]
  },
  {
   "cell_type": "code",
   "execution_count": 23,
   "id": "f23062b9",
   "metadata": {},
   "outputs": [
    {
     "data": {
      "text/html": [
       "\n",
       "            <style>\n",
       "            .syft-request {color: #464158;}\n",
       "            </style>\n",
       "            <div class='syft-request'>\n",
       "                <h3>Request</h3>\n",
       "                <p><strong>Id: </strong>823aa98263594071807a87cea055a406</p>\n",
       "                <p><strong>Request time: </strong>2023-06-20 05:09:48</p>\n",
       "                \n",
       "                <p><strong> Changes: </strong> ['User <b>Jane Doe</b> requests to change                    <b>mean</b> to permission <b>RequestStatus.APPROVED</b>']</p>\n",
       "                <p><strong>Status: </strong>RequestStatus.PENDING</p>\n",
       "            </div>\n",
       "            "
      ],
      "text/markdown": [
       "```python\n",
       "class Request:\n",
       "  id: str = 823aa98263594071807a87cea055a406\n",
       "  request_time: str = 2023-06-20 05:09:48\n",
       "  updated_at: str = None\n",
       "  status: str = RequestStatus.PENDING\n",
       "  changes: str = ['Request to change <b>mean</b> to permission <b>RequestStatus.APPROVED</b>']\n",
       "  requesting_user_verify_key: str = 76890420ad56025eedd361f196ae43a78f7921082b29f672a8fb4c7cc85609da\n",
       "\n",
       "```"
      ],
      "text/plain": [
       "syft.service.request.request.Request"
      ]
     },
     "execution_count": 23,
     "metadata": {},
     "output_type": "execute_result"
    }
   ],
   "source": [
    "mean_request = admin_client.requests[-2]\n",
    "mean_request"
   ]
  },
  {
   "cell_type": "code",
   "execution_count": 24,
   "id": "1e814617",
   "metadata": {},
   "outputs": [],
   "source": [
    "admin_asset = admin_client.datasets[0].assets[0]"
   ]
  },
  {
   "cell_type": "code",
   "execution_count": 25,
   "id": "5964c620",
   "metadata": {},
   "outputs": [
    {
     "name": "stdout",
     "output_type": "stream",
     "text": [
      "WARNING: This code was submitted by a User and could be UNSAFE.\n"
     ]
    },
    {
     "data": {
      "text/plain": [
       "1.3277902827719106"
      ]
     },
     "execution_count": 25,
     "metadata": {},
     "output_type": "execute_result"
    }
   ],
   "source": [
    "result = mean_request.code.unsafe_function(data=admin_asset)\n",
    "result"
   ]
  },
  {
   "cell_type": "code",
   "execution_count": 26,
   "id": "e305c8dc",
   "metadata": {},
   "outputs": [
    {
     "data": {
      "text/html": [
       "\n",
       "            <style>\n",
       "            .syft-request {color: #464158;}\n",
       "            </style>\n",
       "            <div class='syft-request'>\n",
       "                <h3>Request</h3>\n",
       "                <p><strong>Id: </strong>823aa98263594071807a87cea055a406</p>\n",
       "                <p><strong>Request time: </strong>2023-06-20 05:09:48</p>\n",
       "                \n",
       "                <p><strong> Changes: </strong> ['User <b>Jane Doe</b> requests to change                    <b>mean</b> to permission <b>RequestStatus.APPROVED</b>']</p>\n",
       "                <p><strong>Status: </strong>RequestStatus.PENDING</p>\n",
       "            </div>\n",
       "            "
      ],
      "text/markdown": [
       "```python\n",
       "class Request:\n",
       "  id: str = 823aa98263594071807a87cea055a406\n",
       "  request_time: str = 2023-06-20 05:09:48\n",
       "  updated_at: str = None\n",
       "  status: str = RequestStatus.PENDING\n",
       "  changes: str = ['Request to change <b>mean</b> to permission <b>RequestStatus.APPROVED</b>']\n",
       "  requesting_user_verify_key: str = 76890420ad56025eedd361f196ae43a78f7921082b29f672a8fb4c7cc85609da\n",
       "\n",
       "```"
      ],
      "text/plain": [
       "syft.service.request.request.Request"
      ]
     },
     "execution_count": 26,
     "metadata": {},
     "output_type": "execute_result"
    }
   ],
   "source": [
    "mean_request.accept_by_depositing_result(result)\n",
    "mean_request"
   ]
  },
  {
   "cell_type": "code",
   "execution_count": 30,
   "id": "ecc2b1e7",
   "metadata": {},
   "outputs": [
    {
     "data": {
      "text/html": [
       "\n",
       "                <style>\n",
       "                .syft-collection-header {color: #464158;}\n",
       "                </style>\n",
       "                <div class='syft-collection-header'>\n",
       "                    <h3>Request List</h3>\n",
       "                </div>\n",
       "                <br>\n",
       "                <style>\n",
       "            .itables table {\n",
       "                margin: 0 auto;\n",
       "                float: left;\n",
       "                color: #534F64;\n",
       "            }\n",
       "            .itables table th {color: #2E2B3B;}\n",
       "            </style>\n",
       "<div class=\"itables\">\n",
       "<table id=\"a92e76d8-b6ca-4c6a-b304-8ff13edc454f\" class=\"display nowrap\"style=\"table-layout:auto;width:auto;margin:auto;caption-side:bottom\"><thead>\n",
       "    <tr style=\"text-align: right;\">\n",
       "      \n",
       "      <th>id</th>\n",
       "      <th>request_time</th>\n",
       "      <th>updated_at</th>\n",
       "      <th>status</th>\n",
       "      <th>changes</th>\n",
       "      <th>requesting_user_verify_key</th>\n",
       "    </tr>\n",
       "  </thead><tbody><tr><td>Loading... (need <a href=https://mwouts.github.io/itables/troubleshooting.html>help</a>?)</td></tr></tbody></table>\n",
       "<link rel=\"stylesheet\" type=\"text/css\" href=\"https://cdn.datatables.net/1.13.1/css/jquery.dataTables.min.css\">\n",
       "<script type=\"module\">\n",
       "    // Import jquery and DataTable\n",
       "    import 'https://code.jquery.com/jquery-3.6.0.min.js';\n",
       "    import dt from 'https://cdn.datatables.net/1.12.1/js/jquery.dataTables.mjs';\n",
       "    dt($);\n",
       "\n",
       "    // Define the table data\n",
       "    const data = [[\"020b...d83\", \"2023-06-20 05:09:46\", \"2023-06-20 05:09:52\", \"RequestStatus.APPROVED\", \"[Request to change <b>func</b> to permission <b>RequestStatus.APPROVED</b>]\", \"76890420ad56025eedd361f196ae43a78f7921082b29f672a8fb4c7cc85609da\"], [\"823a...406\", \"2023-06-20 05:09:48\", \"2023-06-20 05:09:53\", \"RequestStatus.APPROVED\", \"[Request to change <b>mean</b> to permission <b>RequestStatus.APPROVED</b>, syft.service.request.request.ObjectMutation, syft.service.request.request.ActionStoreChange]\", \"76890420ad56025eedd361f196ae43a78f7921082b29f672a8fb4c7cc85609da\"], [\"9a35...8b8\", \"2023-06-20 05:09:49\", \"None\", \"RequestStatus.PENDING\", \"[Request to change <b>reveal_data</b> to permission <b>RequestStatus.APPROVED</b>]\", \"76890420ad56025eedd361f196ae43a78f7921082b29f672a8fb4c7cc85609da\"]];\n",
       "\n",
       "    // Define the dt_args\n",
       "    let dt_args = {\"order\": [], \"dom\": \"t\"};\n",
       "    dt_args[\"data\"] = data;\n",
       "\n",
       "    $(document).ready(function () {\n",
       "        \n",
       "        $('#a92e76d8-b6ca-4c6a-b304-8ff13edc454f').DataTable(dt_args);\n",
       "    });\n",
       "</script>\n",
       "</div>\n"
      ],
      "text/plain": [
       "[syft.service.request.request.Request,\n",
       " syft.service.request.request.Request,\n",
       " syft.service.request.request.Request]"
      ]
     },
     "execution_count": 30,
     "metadata": {},
     "output_type": "execute_result"
    }
   ],
   "source": [
    "admin_client.projects[0].requests"
   ]
  },
  {
   "attachments": {},
   "cell_type": "markdown",
   "id": "b295614e-bfe4-49ce-985d-ed6b8a1beae5",
   "metadata": {},
   "source": [
    "### Rejecting"
   ]
  },
  {
   "cell_type": "code",
   "execution_count": 36,
   "id": "6ab140e6",
   "metadata": {},
   "outputs": [
    {
     "data": {
      "text/html": [
       "\n",
       "            <style>\n",
       "            .syft-request {color: #464158;}\n",
       "            </style>\n",
       "            <div class='syft-request'>\n",
       "                <h3>Request</h3>\n",
       "                <p><strong>Id: </strong>9a358b344e3c4ba693fd26a0c47708b8</p>\n",
       "                <p><strong>Request time: </strong>2023-06-20 05:09:49</p>\n",
       "                \n",
       "                <p><strong> Changes: </strong> ['User <b>Jane Doe</b> requests to change                    <b>reveal_data</b> to permission <b>RequestStatus.APPROVED</b>']</p>\n",
       "                <p><strong>Status: </strong>RequestStatus.PENDING</p>\n",
       "            </div>\n",
       "            "
      ],
      "text/markdown": [
       "```python\n",
       "class Request:\n",
       "  id: str = 9a358b344e3c4ba693fd26a0c47708b8\n",
       "  request_time: str = 2023-06-20 05:09:49\n",
       "  updated_at: str = None\n",
       "  status: str = RequestStatus.PENDING\n",
       "  changes: str = ['Request to change <b>reveal_data</b> to permission <b>RequestStatus.APPROVED</b>']\n",
       "  requesting_user_verify_key: str = 76890420ad56025eedd361f196ae43a78f7921082b29f672a8fb4c7cc85609da\n",
       "\n",
       "```"
      ],
      "text/plain": [
       "syft.service.request.request.Request"
      ]
     },
     "execution_count": 36,
     "metadata": {},
     "output_type": "execute_result"
    }
   ],
   "source": [
    "dangerous_request = admin_client.projects[0].requests[-1]\n",
    "dangerous_request"
   ]
  },
  {
   "cell_type": "code",
   "execution_count": 39,
   "id": "02190450",
   "metadata": {},
   "outputs": [
    {
     "data": {
      "text/markdown": [
       "```python\n",
       "class UserCode:\n",
       "  id: str = 9ef2fa3dc3b84e1eb225c690889cfc92\n",
       "  status.approved: str = False\n",
       "  service_func_name: str = \"reveal_data\"\n",
       "\n",
       "```"
      ],
      "text/plain": [
       "syft.service.code.user_code.UserCode"
      ]
     },
     "execution_count": 39,
     "metadata": {},
     "output_type": "execute_result"
    }
   ],
   "source": [
    "dangerous_request.code"
   ]
  },
  {
   "cell_type": "code",
   "execution_count": 40,
   "id": "810b8b44",
   "metadata": {},
   "outputs": [
    {
     "data": {
      "text/html": [
       "<div class=\"alert-success\" style=\"padding:5px;\"><strong>SyftSuccess</strong>: Request 9a358b344e3c4ba693fd26a0c47708b8 successfully denied !</div><br />"
      ],
      "text/plain": [
       "<class 'syft.service.response.SyftSuccess'>: Request 9a358b344e3c4ba693fd26a0c47708b8 successfully denied !"
      ]
     },
     "execution_count": 40,
     "metadata": {},
     "output_type": "execute_result"
    }
   ],
   "source": [
    "dangerous_request.deny(reason=\"Dangerous request, you just want to reveal the data!\")"
   ]
  },
  {
   "cell_type": "code",
   "execution_count": 41,
   "id": "02271fb6",
   "metadata": {},
   "outputs": [
    {
     "data": {
      "text/html": [
       "\n",
       "            <style>\n",
       "            .syft-project {color: #464158;}\n",
       "            </style>\n",
       "            <div class='syft-project'><h3>My Cool Project</h3><p>Hi, I want to calculate the mean of your private data,                    pretty please!</p><p><strong>Created by: </strong>jane@caltech.edu</p>\n",
       "                <style>\n",
       "                .syft-collection-header {color: #464158;}\n",
       "                </style>\n",
       "                <div class='syft-collection-header'>\n",
       "                    <h3>Request List</h3>\n",
       "                </div>\n",
       "                <br>\n",
       "                <style>\n",
       "            .itables table {\n",
       "                margin: 0 auto;\n",
       "                float: left;\n",
       "                color: #534F64;\n",
       "            }\n",
       "            .itables table th {color: #2E2B3B;}\n",
       "            </style>\n",
       "<div class=\"itables\">\n",
       "<table id=\"6e80b0e8-5886-4b5d-b0cf-0bd7570119db\" class=\"display nowrap\"style=\"table-layout:auto;width:auto;margin:auto;caption-side:bottom\"><thead>\n",
       "    <tr style=\"text-align: right;\">\n",
       "      \n",
       "      <th>id</th>\n",
       "      <th>request_time</th>\n",
       "      <th>updated_at</th>\n",
       "      <th>status</th>\n",
       "      <th>changes</th>\n",
       "      <th>requesting_user_verify_key</th>\n",
       "    </tr>\n",
       "  </thead><tbody><tr><td>Loading... (need <a href=https://mwouts.github.io/itables/troubleshooting.html>help</a>?)</td></tr></tbody></table>\n",
       "<link rel=\"stylesheet\" type=\"text/css\" href=\"https://cdn.datatables.net/1.13.1/css/jquery.dataTables.min.css\">\n",
       "<script type=\"module\">\n",
       "    // Import jquery and DataTable\n",
       "    import 'https://code.jquery.com/jquery-3.6.0.min.js';\n",
       "    import dt from 'https://cdn.datatables.net/1.12.1/js/jquery.dataTables.mjs';\n",
       "    dt($);\n",
       "\n",
       "    // Define the table data\n",
       "    const data = [[\"020b...d83\", \"2023-06-20 05:09:46\", \"2023-06-20 05:09:52\", \"RequestStatus.APPROVED\", \"[Request to change <b>func</b> to permission <b>RequestStatus.APPROVED</b>]\", \"76890420ad56025eedd361f196ae43a78f7921082b29f672a8fb4c7cc85609da\"], [\"823a...406\", \"2023-06-20 05:09:48\", \"2023-06-20 05:09:53\", \"RequestStatus.APPROVED\", \"[Request to change <b>mean</b> to permission <b>RequestStatus.APPROVED</b>, syft.service.request.request.ObjectMutation, syft.service.request.request.ActionStoreChange]\", \"76890420ad56025eedd361f196ae43a78f7921082b29f672a8fb4c7cc85609da\"], [\"9a35...8b8\", \"2023-06-20 05:09:49\", \"2023-06-20 05:13:17\", \"RequestStatus.REJECTED\", \"[Request to change <b>reveal_data</b> to permission <b>RequestStatus.APPROVED</b>]\", \"76890420ad56025eedd361f196ae43a78f7921082b29f672a8fb4c7cc85609da\"]];\n",
       "\n",
       "    // Define the dt_args\n",
       "    let dt_args = {\"order\": [], \"dom\": \"t\"};\n",
       "    dt_args[\"data\"] = data;\n",
       "\n",
       "    $(document).ready(function () {\n",
       "        \n",
       "        $('#6e80b0e8-5886-4b5d-b0cf-0bd7570119db').DataTable(dt_args);\n",
       "    });\n",
       "</script>\n",
       "</div>\n",
       "</div>"
      ],
      "text/markdown": [
       "```python\n",
       "class Project:\n",
       "  id: str = 700332326ecd4bd5aae583fcd6ca9da0\n",
       "  name: str = \"My Cool Project\"\n",
       "  description: str = \"Hi, I want to calculate the mean of your private data,                    pretty please!\"\n",
       "  created_by: str = \"jane@caltech.edu\"\n",
       "  events: str = [('ProjectRequest', '25c7...dcb'), ('ProjectRequest', '6da1...3c0'), ('ProjectRequest', '6217...56d')]\n",
       "\n",
       "```"
      ],
      "text/plain": [
       "syft.service.project.project.Project"
      ]
     },
     "execution_count": 41,
     "metadata": {},
     "output_type": "execute_result"
    }
   ],
   "source": [
    "admin_client.projects[0]"
   ]
  },
  {
   "cell_type": "code",
   "execution_count": null,
   "id": "d7a4dd6e",
   "metadata": {},
   "outputs": [],
   "source": []
  }
 ],
 "metadata": {
  "kernelspec": {
   "display_name": "Python 3 (ipykernel)",
   "language": "python",
   "name": "python3"
  },
  "language_info": {
   "codemirror_mode": {
    "name": "ipython",
    "version": 3
   },
   "file_extension": ".py",
   "mimetype": "text/x-python",
   "name": "python",
   "nbconvert_exporter": "python",
   "pygments_lexer": "ipython3",
   "version": "3.9.16"
  }
 },
 "nbformat": 4,
 "nbformat_minor": 5
}
