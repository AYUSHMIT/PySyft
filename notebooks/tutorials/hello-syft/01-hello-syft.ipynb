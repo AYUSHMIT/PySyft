{
 "cells": [
  {
   "attachments": {},
   "cell_type": "markdown",
   "id": "fab13e7a-028f-4c84-9f4f-bd16bce1fe98",
   "metadata": {
    "tags": []
   },
   "source": [
    "# Hello Syft"
   ]
  },
  {
   "attachments": {},
   "cell_type": "markdown",
   "id": "4c835e80",
   "metadata": {},
   "source": [
    "PySyft is a python library containing a set of data serialization and remote code execution APIs which mimic existing popular Data Science tools while working interchangeably with existing popular data types. It enables data scientists query for their data related questions on sensitive or proprietary data in a secure and privacy-preserving way. The python package for PySyft is called `syft`. "
   ]
  },
  {
   "attachments": {},
   "cell_type": "markdown",
   "id": "9efb85c2",
   "metadata": {},
   "source": [
    "In this tutorial, we will cover the following workflows:\n",
    "\n",
    "- Data Owner Workflow - Part 1\n",
    "    - upload mock data\n",
    "- Data Scientist Workflow  - Part 1\n",
    "    - write query against mock data\n",
    "    - submit code for review on the data owner side\n",
    "- Data Owner Workflow - Part 2\n",
    "    - review code and approve\n",
    "    - share the real result with the data scientist\n",
    "- Data Scientist Workflow - Part 2\n",
    "    - fetch the real result\n",
    "\n",
    "For more detailed tutorials for each subject, please refer to `data-owner` and `data-scientist` tutorials."
   ]
  },
  {
   "attachments": {},
   "cell_type": "markdown",
   "id": "837f1a95",
   "metadata": {},
   "source": [
    "## Install `syft`"
   ]
  },
  {
   "cell_type": "code",
   "execution_count": null,
   "id": "b3bbffe1-b5f5-43f4-8231-87c4007c7822",
   "metadata": {
    "tags": []
   },
   "outputs": [],
   "source": [
    "SYFT_VERSION = \">=0.8.1b0,<0.9\"\n",
    "package_string = f'\"syft{SYFT_VERSION}\"'\n",
    "# %pip install {package_string} -f https://whls.blob.core.windows.net/unstable/index.html"
   ]
  },
  {
   "cell_type": "code",
   "execution_count": null,
   "id": "a6a7723a-295f-43f6-a5cc-717119f21b9b",
   "metadata": {
    "tags": []
   },
   "outputs": [],
   "source": [
    "import syft as sy\n",
    "sy.requires(SYFT_VERSION)"
   ]
  },
  {
   "attachments": {},
   "cell_type": "markdown",
   "id": "a346b2b6",
   "metadata": {},
   "source": [
    "## Launch a dummy server \n",
    "\n",
    "In this tutorial, for the sake of demonstration, we will be using in-memory workers as dummy servers. For details of deploying a server on your own using `syft` and `hagrid`, please refer to the `quickstart` tutorials."
   ]
  },
  {
   "cell_type": "code",
   "execution_count": null,
   "id": "73b19037",
   "metadata": {},
   "outputs": [],
   "source": [
    "node = sy.orchestra.launch(name=\"hello-syft-usa-server\", port=9082, reset=True)\n",
    "root_domain_client = node.login(email=\"info@openmined.org\", password=\"changethis\")\n",
    "root_domain_client.register(name=\"Jane Doe\", email=\"janedoe@caltech.edu\",\n",
    "                            password=\"abc123\", institution=\"Caltech\", website=\"https://www.caltech.edu/\")\n",
    "\n",
    "external_ds = node.login(email=\"janedoe@caltech.edu\", password=\"abc123\")"
   ]
  },
  {
   "attachments": {},
   "cell_type": "markdown",
   "id": "51345a05",
   "metadata": {},
   "source": [
    "## Data owner - Part 1\n",
    "\n",
    "### Upload Data to Domain"
   ]
  },
  {
   "cell_type": "code",
   "execution_count": null,
   "id": "d538fd9e",
   "metadata": {},
   "outputs": [],
   "source": [
    "import pandas as pd"
   ]
  },
  {
   "cell_type": "code",
   "execution_count": null,
   "id": "f18f55aa",
   "metadata": {},
   "outputs": [],
   "source": [
    "usa_data = {\n",
    "      'Patient_ID': ['011', '015', '022', '034', '044'],\n",
    "      'Age': [40, 39, 35, 60, 25]\n",
    "}"
   ]
  },
  {
   "attachments": {},
   "cell_type": "markdown",
   "id": "8f3c9bc3",
   "metadata": {},
   "source": [
    "Now based on the original data, the data owner will generate a synthetic or fake version of this dataset. They can add any amount of noise to the fake values. Let's say in this fake version, they are adding `+10` to each of the ages."
   ]
  },
  {
   "cell_type": "code",
   "execution_count": null,
   "id": "1b53082f",
   "metadata": {},
   "outputs": [],
   "source": [
    "usa_mock_data = {\n",
    "      'Patient_ID': ['1', '2', '3', '4', '5'],\n",
    "      'Age': [50, 49, 45, 70, 35]\n",
    "}"
   ]
  },
  {
   "cell_type": "code",
   "execution_count": null,
   "id": "82a51393",
   "metadata": {},
   "outputs": [],
   "source": [
    "dataset = sy.Dataset(name=\"usa-mock-data\",\n",
    "                     asset_list=[sy.Asset(name=\"ages\", data=pd.DataFrame(usa_data), mock=pd.DataFrame(usa_mock_data), mock_is_real=False)])\n",
    "root_domain_client.upload_dataset(dataset)"
   ]
  },
  {
   "attachments": {},
   "cell_type": "markdown",
   "id": "4d693670",
   "metadata": {},
   "source": [
    "## Data Scientist - Part 1"
   ]
  },
  {
   "attachments": {},
   "cell_type": "markdown",
   "id": "39e8cf23",
   "metadata": {},
   "source": [
    "### Load Mock Data"
   ]
  },
  {
   "cell_type": "code",
   "execution_count": null,
   "id": "bb8a7385",
   "metadata": {},
   "outputs": [],
   "source": [
    "asset = external_ds.datasets[-1].assets[\"ages\"]"
   ]
  },
  {
   "attachments": {},
   "cell_type": "markdown",
   "id": "5e13b83b",
   "metadata": {},
   "source": [
    "### Write Query on Mock Data"
   ]
  },
  {
   "cell_type": "code",
   "execution_count": null,
   "id": "773792a9",
   "metadata": {},
   "outputs": [],
   "source": [
    "age_sum = asset.mock['Age'].mean()\n",
    "print(age_sum)"
   ]
  },
  {
   "cell_type": "code",
   "execution_count": null,
   "id": "e93eb518",
   "metadata": {},
   "outputs": [],
   "source": [
    "@sy.syft_function(input_policy=sy.ExactMatch(df=asset),\n",
    "                  output_policy=sy.SingleExecutionExactOutput())\n",
    "def get_mean_age(df):\n",
    "    return df['Age'].mean()"
   ]
  },
  {
   "attachments": {},
   "cell_type": "markdown",
   "id": "be807ff9",
   "metadata": {},
   "source": [
    "### Submit Code Request for Review"
   ]
  },
  {
   "cell_type": "code",
   "execution_count": null,
   "id": "d93b5e50",
   "metadata": {},
   "outputs": [],
   "source": [
    "req = external_ds.code.request_code_execution(get_mean_age)\n",
    "req"
   ]
  },
  {
   "cell_type": "code",
   "execution_count": null,
   "id": "1408ec96",
   "metadata": {},
   "outputs": [],
   "source": [
    "submitted_code = external_ds.code[0]\n",
    "submitted_code"
   ]
  },
  {
   "cell_type": "code",
   "execution_count": null,
   "id": "99a13ee2",
   "metadata": {},
   "outputs": [],
   "source": [
    "assert external_ds.code.get_all()"
   ]
  },
  {
   "attachments": {},
   "cell_type": "markdown",
   "id": "3abf8186",
   "metadata": {},
   "source": [
    "### Create and submit project"
   ]
  },
  {
   "cell_type": "code",
   "execution_count": null,
   "id": "65d330e7",
   "metadata": {},
   "outputs": [],
   "source": [
    "project = sy.Project(\n",
    "    name=\"My data science code on USA cancer mock data\",\n",
    "    description=\"Hi, I would like to know the average age of cancer patients in your data.\",\n",
    "    members=[external_ds],\n",
    ")\n",
    "project"
   ]
  },
  {
   "cell_type": "code",
   "execution_count": null,
   "id": "b916ad36",
   "metadata": {},
   "outputs": [],
   "source": [
    "project.create_code_request(get_mean_age, external_ds)\n",
    "project.start()"
   ]
  },
  {
   "attachments": {},
   "cell_type": "markdown",
   "id": "01cb6ded",
   "metadata": {},
   "source": [
    "The code request is successfully submitted!"
   ]
  },
  {
   "attachments": {},
   "cell_type": "markdown",
   "id": "ecfa2d90",
   "metadata": {},
   "source": [
    "## Data Owner - Part 2\n",
    "\n",
    "### Get Requests"
   ]
  },
  {
   "cell_type": "code",
   "execution_count": null,
   "id": "133b8df2",
   "metadata": {},
   "outputs": [],
   "source": [
    "root_domain_client = node.login(email=\"info@openmined.org\", password=\"changethis\")\n",
    "project = root_domain_client.projects[0]"
   ]
  },
  {
   "cell_type": "code",
   "execution_count": null,
   "id": "5c043bbe",
   "metadata": {},
   "outputs": [],
   "source": [
    "project.requests"
   ]
  },
  {
   "cell_type": "code",
   "execution_count": null,
   "id": "f4323fae",
   "metadata": {},
   "outputs": [],
   "source": [
    "request = project.requests[0]"
   ]
  },
  {
   "attachments": {},
   "cell_type": "markdown",
   "id": "f4b0b5bf",
   "metadata": {},
   "source": [
    "### Review Code and Policies"
   ]
  },
  {
   "cell_type": "code",
   "execution_count": null,
   "id": "f4658020",
   "metadata": {},
   "outputs": [],
   "source": [
    "func = request.changes[0].link\n",
    "func"
   ]
  },
  {
   "cell_type": "code",
   "execution_count": null,
   "id": "ec0dd412",
   "metadata": {},
   "outputs": [],
   "source": [
    "print(func.code)"
   ]
  },
  {
   "attachments": {},
   "cell_type": "markdown",
   "id": "0812e596",
   "metadata": {},
   "source": [
    "### Execute function on real data"
   ]
  },
  {
   "cell_type": "code",
   "execution_count": null,
   "id": "74a20522",
   "metadata": {},
   "outputs": [],
   "source": [
    "get_mean_age_user_function = func.unsafe_function"
   ]
  },
  {
   "cell_type": "code",
   "execution_count": null,
   "id": "07157b5a",
   "metadata": {},
   "outputs": [],
   "source": [
    "real_data = func.assets[0].data\n",
    "real_result = get_mean_age_user_function(df=real_data)\n",
    "print(real_result)"
   ]
  },
  {
   "attachments": {},
   "cell_type": "markdown",
   "id": "35a01174",
   "metadata": {},
   "source": [
    "### Share the real result with the Data Scientist"
   ]
  },
  {
   "cell_type": "code",
   "execution_count": null,
   "id": "9198a318",
   "metadata": {},
   "outputs": [],
   "source": [
    "result = request.accept_by_depositing_result(real_result)\n",
    "print(result)\n",
    "assert isinstance(result, sy.SyftSuccess)"
   ]
  },
  {
   "attachments": {},
   "cell_type": "markdown",
   "id": "6da244b6",
   "metadata": {},
   "source": [
    "## Data Scientist - Part 2\n",
    "\n",
    "### Fetch Real Result"
   ]
  },
  {
   "cell_type": "code",
   "execution_count": null,
   "id": "38301618",
   "metadata": {},
   "outputs": [],
   "source": [
    "asset = external_ds.datasets[0].assets[0]\n",
    "asset"
   ]
  },
  {
   "cell_type": "code",
   "execution_count": null,
   "id": "93fe70e3",
   "metadata": {},
   "outputs": [],
   "source": [
    "external_ds.code[0].status"
   ]
  },
  {
   "cell_type": "code",
   "execution_count": null,
   "id": "fd1cd7e1",
   "metadata": {},
   "outputs": [],
   "source": [
    "result_ptr = external_ds.code.get_mean_age(df=asset)\n",
    "# result_ptr"
   ]
  },
  {
   "cell_type": "code",
   "execution_count": null,
   "id": "220d11e5",
   "metadata": {},
   "outputs": [],
   "source": [
    "real_result = result_ptr.get_from(external_ds)\n",
    "print(real_result)"
   ]
  },
  {
   "attachments": {},
   "cell_type": "markdown",
   "id": "18f09ac1",
   "metadata": {},
   "source": [
    "**That's a success!! The external data scientist was able to know the average age of breast cancer patients in a USA regional hospital, without having to access or even look at the real data.**"
   ]
  },
  {
   "attachments": {},
   "cell_type": "markdown",
   "id": "d98bd74a",
   "metadata": {},
   "source": [
    "Once you are done with this tutorial, you can safely shut down the servers as following,"
   ]
  },
  {
   "cell_type": "code",
   "execution_count": null,
   "id": "834cc65e",
   "metadata": {},
   "outputs": [],
   "source": [
    "node.land()"
   ]
  }
 ],
 "metadata": {
  "kernelspec": {
   "display_name": "Python 3 (ipykernel)",
   "language": "python",
   "name": "python3"
  },
  "language_info": {
   "codemirror_mode": {
    "name": "ipython",
    "version": 3
   },
   "file_extension": ".py",
   "mimetype": "text/x-python",
   "name": "python",
   "nbconvert_exporter": "python",
   "pygments_lexer": "ipython3",
   "version": "3.10.4"
  }
 },
 "nbformat": 4,
 "nbformat_minor": 5
}
