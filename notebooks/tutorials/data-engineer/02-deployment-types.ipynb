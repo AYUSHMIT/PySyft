{
 "cells": [
  {
   "cell_type": "markdown",
   "id": "c96e01f4-2002-4009-8911-7bc20cf27610",
   "metadata": {},
   "source": [
    "# Deployment Types"
   ]
  },
  {
   "cell_type": "code",
   "execution_count": null,
   "id": "0a79ea83",
   "metadata": {},
   "outputs": [],
   "source": [
    "import syft as sy"
   ]
  },
  {
   "cell_type": "markdown",
   "id": "d10df992-2ae3-4865-97bc-020f29c4382c",
   "metadata": {},
   "source": [
    "## Dev Python Domain\n"
   ]
  },
  {
   "cell_type": "markdown",
   "id": "f29cc54b",
   "metadata": {},
   "source": [
    "Syft supports creating a Python domain in editable mode.\n",
    "This is used mainly for experimental and development purposes.\n",
    "In __Dev Python Domain__ the domain instance runs locally using the SQLite as the main storage.\n",
    "This enables faster development and requires less recources to operate.\n",
    "\n",
    "The __Dev Python Domain__ supports two options:\n",
    "1. Memory node - full `syft` functionality __locally__, SQLite as a local storage.\n",
    "2. Webserver node -  full `syft` functionality with API \n",
    "\n",
    "__When you need this?__ <br>\n",
    "_When you want to develop Syft or try-out new funcitonality from separate branch._\n",
    "\n",
    "__Prerequistes:__ <br>\n",
    "1. Syft repository pulled from Github - [github.com/OpenMined/PySyft](https://github.com/OpenMined/PySyft)\n",
    "\n",
    "For broader explanation refer to the notebook [01-setting-dev-mode.ipynb](https://github.com/OpenMined/PySyft/blob/dev/notebooks/tutorials/data-engineer/01-setting-up-dev-mode.ipynb)\n",
    "\n",
    "To launch the local __Dev Python Domain__ use the following steps:"
   ]
  },
  {
   "cell_type": "markdown",
   "id": "415e8142",
   "metadata": {},
   "source": [
    "#### 1.1 Launch Dev Memory Node"
   ]
  },
  {
   "cell_type": "code",
   "execution_count": null,
   "id": "1281847d",
   "metadata": {},
   "outputs": [],
   "source": [
    "memory_node = sy.Orchestra.launch(\n",
    "    name=\"Arbitrary Dev Node\",\n",
    "    dev_mode=True,\n",
    "    reset=True,\n",
    ")"
   ]
  },
  {
   "cell_type": "markdown",
   "id": "83f65110",
   "metadata": {},
   "source": [
    "#### 1.2 Launch Dev Webserver Node"
   ]
  },
  {
   "cell_type": "code",
   "execution_count": null,
   "id": "d5c196c3",
   "metadata": {},
   "outputs": [],
   "source": [
    "webserver_node = sy.Orchestra.launch(\n",
    "    name=\"Arbitrary Dev Node\",\n",
    "    dev_mode=True,\n",
    "    reset=True,\n",
    "    port=80\n",
    ")"
   ]
  },
  {
   "cell_type": "markdown",
   "id": "75674fff",
   "metadata": {},
   "source": [
    "#### 2. Login Into Nodes"
   ]
  },
  {
   "cell_type": "code",
   "execution_count": null,
   "id": "b515b0cd",
   "metadata": {},
   "outputs": [],
   "source": [
    "memory_node_client = memory_node.login(\n",
    "    email=\"info@openmined.org\",\n",
    "    password=\"changethis\"\n",
    ")\n",
    "memory_node_client"
   ]
  },
  {
   "cell_type": "markdown",
   "id": "e64f3bb9",
   "metadata": {},
   "source": [
    "#### 3. Landing Memory and Webserver Node"
   ]
  },
  {
   "cell_type": "code",
   "execution_count": null,
   "id": "418fd1c3",
   "metadata": {},
   "outputs": [],
   "source": [
    "memory_node.land()"
   ]
  },
  {
   "cell_type": "code",
   "execution_count": null,
   "id": "5a628ed4",
   "metadata": {},
   "outputs": [],
   "source": [
    "webserver_node.land()"
   ]
  },
  {
   "cell_type": "markdown",
   "id": "75f726d7",
   "metadata": {},
   "source": [
    "----"
   ]
  },
  {
   "cell_type": "markdown",
   "id": "5b9f0c3b-bf63-4b6d-90d7-1bbb102657a1",
   "metadata": {},
   "source": [
    "## Single Container / Enclave (TBD)"
   ]
  },
  {
   "cell_type": "markdown",
   "id": "85411a3b",
   "metadata": {},
   "source": [
    "Single Container deployment is used when fast and painless deployment of `syft` with all essential functionality is needed. This deployment type contains the `syft` and SQLite as a light-weight database in a single container.\n",
    "\n",
    "__When you need this?__ <br>\n",
    "_When you quickly want to test syft in a single container._\n",
    "\n",
    "__Prerequistes:__ <br>\n",
    "1. Syft repository pulled from Github - [github.com/OpenMined/PySyft](https://github.com/OpenMined/PySyft)\n",
    "1. Docker Installed - [docs.docker.com/get-docker](https://docs.docker.com/get-docker/)\n"
   ]
  },
  {
   "cell_type": "markdown",
   "id": "9cdbf3df",
   "metadata": {},
   "source": [
    "#### Deploy Syft in Single Container Mode"
   ]
  },
  {
   "cell_type": "markdown",
   "id": "90cf63c8",
   "metadata": {},
   "source": [
    "Enter the PySyft Repository and run the following command\n",
    "\n",
    "`docker compose -f packages/grid/docker-compose.build.yml up`\n",
    "\n",
    "----"
   ]
  },
  {
   "cell_type": "markdown",
   "id": "a893eca9-8dbb-45ab-8089-9227c4e64f20",
   "metadata": {},
   "source": [
    "## Full Container Stack"
   ]
  },
  {
   "cell_type": "markdown",
   "id": "17b0b937",
   "metadata": {},
   "source": [
    "Syft can operate as a container stack. This setting consider deployment of following containers:\n",
    "   - Backend - contains `Syft` and corresponding logic to execute code in _sync_ manner\n",
    "   - Backend Stream - contains `Syft` and logic to queue message in RabbitMQ\n",
    "   - Celery Worker - contains `Syft` and logic to execute message received from RabbitMQ\n",
    "   - RabbitMQ - receives messages from Backend Stream and passes them into Celery Worker\n",
    "   - Redis - each `syft` object has a `UUID`, and stored in Redis as a `key`/`value` pair\n",
    "   - Mongo - Stores non-private metadata that are related to `grid` operation, such as __RBAC__ or `BLOB`s metadata \n",
    "   - SeaweedFS - Stores the `BLOB`s, compatible with Amazon S3 protocols\n",
    "   - Tailscale - VPN instance containing the `NAT` and `Firewall` functionalities.\n",
    "   - Headscale - Key managment server for VPN\n",
    "   - Jaeger - distributed end-to-end tracing\n",
    "\n",
    "__When you need this?__ <br>\n",
    "_When you need a Syft domain/gateway node locally._\n",
    "\n",
    "__Prerequistes:__ <br>\n",
    "1. Syft installed - [pypi.org/project/syft](https://pypi.org/project/syft/)\n",
    "1. Hagrid installed - [pypi.org/project/syft](https://pypi.org/project/syft/)\n",
    "1. Docker Installed - [docs.docker.com/get-docker](https://docs.docker.com/get-docker/)\n",
    "\n",
    "\n",
    "Easiest way to launch the Full Container Stack is the `hagrid` cli tool.\n",
    "\n",
    "Basic syntax of Hagrdi deployment command is the following: <br>\n",
    "> `hagrid launch <domaim name> <node type> to <host>:<port>`\n",
    "\n",
    "To deploy the full container stack use the following command: <br>\n",
    "\n",
    "> `hagrid launch test_domain domain to docker:8081`\n",
    "\n",
    "For detailed explanation of Full Container Stack deployment refer to the notebook [05-deploy-stack.ipynb](https://github.com/OpenMined/PySyft/blob/dev/notebooks/tutorials/data-engineer/05-deploy-stack.ipynb)"
   ]
  },
  {
   "cell_type": "markdown",
   "id": "fed62bc7",
   "metadata": {},
   "source": [
    "----"
   ]
  },
  {
   "cell_type": "markdown",
   "id": "297a4754-b582-4f42-b44a-8103466e3456",
   "metadata": {},
   "source": [
    "## VM Container Host"
   ]
  },
  {
   "cell_type": "markdown",
   "id": "dfaa727b",
   "metadata": {},
   "source": [
    "Ability to easily deploy `syft` stack to __anywhere__. By anywhere we mean an existing linux server accessible via `ssh` connection. `hagrid` cli tool can do all the hard work for us, by defining the desired system state using `ansible` and deploying all containers (defined in the previous section).\n",
    "\n",
    "\n",
    "__When you need this?__ <br>\n",
    "_When you need to deploy Syft domain/gateway node on a remote host, whether Virtual Machine or real Linux server._\n",
    "\n",
    "__Prerequistes:__ <br>\n",
    "1. Syft installed - [pypi.org/project/syft](https://pypi.org/project/syft/)\n",
    "2. Hagrid installed - [pypi.org/project/syft](https://pypi.org/project/syft/)\n",
    "3. VM accessible via SSH\n",
    "\n",
    "Deploy Syft `domain`/`network` node to the remote VM using following command:\n",
    "\n",
    "> `hagrid launch test_domain domain to 100.0.0.1 --usernam=ubuntu --auth-type=key --key-path=~/.ssh/hagrid_ssh_key`\n",
    "\n",
    "All flags marked with `--` are optional, if not provided `hagrid` will interactively ask you to provide all necessary details. More details on `hagrid` usage can be found in following notebook [03-hagrid.ipynb](https://github.com/OpenMined/PySyft/blob/dev/notebooks/tutorials/data-engineer/03-hagrid.ipynb)\n",
    "\n",
    "If you want to deploy to Cloud providers reffer to corresponding notebook:\n",
    "- Azure - [06-deploy-to-azure.ipynb](https://github.com/OpenMined/PySyft/blob/dev/notebooks/tutorials/data-engineer/06-deploy-to-azure.ipynb)\n",
    "- GCP - [07-deploy-to-gcp.ipynb](https://github.com/OpenMined/PySyft/blob/dev/notebooks/tutorials/data-engineer/07-deploy-to-gcp.ipynb)\n",
    "- AWS - [08-deploy-to-aws.ipynb](https://github.com/OpenMined/PySyft/blob/dev/notebooks/tutorials/data-engineer/08-deploy-to-aws.ipynb)"
   ]
  },
  {
   "cell_type": "markdown",
   "id": "a18cb75a",
   "metadata": {},
   "source": [
    "----"
   ]
  },
  {
   "cell_type": "markdown",
   "id": "2474d264-bb1c-4c49-b139-df579f6b59ca",
   "metadata": {},
   "source": [
    "## Gateway Nodes"
   ]
  },
  {
   "cell_type": "markdown",
   "id": "cc4685e4",
   "metadata": {},
   "source": [
    "Gateway Nodes are used to interconnect multiple `domain` nodes.\n",
    "Essentially, `gateway` nodes use the same containers and code, although with different configurations.\n",
    "`gateway` nodes do not have the Frontend and Blob storage.  \n",
    "\n",
    "__When you need this?__ <br>\n",
    "_When you need to interconnect two or more domain nodes._\n",
    "\n",
    "__Prerequistes:__ <br>\n",
    "1. Syft installed - [pypi.org/project/syft](https://pypi.org/project/syft/)\n",
    "1. Hagrid installed - [pypi.org/project/syft](https://pypi.org/project/syft/)\n",
    "1. Docker Installed - [docs.docker.com/get-docker](https://docs.docker.com/get-docker/)\n",
    "\n",
    "The `hagrid` cli can be used to deploy the `gateway` nodes. \n",
    "\n",
    "To deploy `gateway` node us the following command: <br>\n",
    "> `hagrid launch test_network network to docker:8082`\n"
   ]
  },
  {
   "cell_type": "markdown",
   "id": "10068bbc",
   "metadata": {},
   "source": [
    "----"
   ]
  }
 ],
 "metadata": {
  "kernelspec": {
   "display_name": "Python 3 (ipykernel)",
   "language": "python",
   "name": "python3"
  },
  "language_info": {
   "codemirror_mode": {
    "name": "ipython",
    "version": 3
   },
   "file_extension": ".py",
   "mimetype": "text/x-python",
   "name": "python",
   "nbconvert_exporter": "python",
   "pygments_lexer": "ipython3",
   "version": "3.10.9"
  }
 },
 "nbformat": 4,
 "nbformat_minor": 5
}
