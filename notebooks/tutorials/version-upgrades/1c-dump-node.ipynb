{
 "cells": [
  {
   "cell_type": "code",
   "execution_count": null,
   "id": "0",
   "metadata": {},
   "outputs": [],
   "source": [
    "# stdlib\n",
    "from pathlib import Path\n",
    "\n",
    "# syft absolute\n",
    "import syft as sy"
   ]
  },
  {
   "cell_type": "code",
   "execution_count": null,
   "id": "1",
   "metadata": {},
   "outputs": [],
   "source": [
    "node = sy.orchestra.launch(\n",
    "    name=\"test_upgradability\",\n",
    "    dev_mode=True,\n",
    "    local_db=True,\n",
    "    n_consumers=2,\n",
    "    create_producer=True,\n",
    "    migrate=False,\n",
    ")"
   ]
  },
  {
   "cell_type": "code",
   "execution_count": null,
   "id": "2",
   "metadata": {},
   "outputs": [],
   "source": [
    "client = node.login(email=\"info@openmined.org\", password=\"changethis\")"
   ]
  },
  {
   "cell_type": "code",
   "execution_count": null,
   "id": "3",
   "metadata": {},
   "outputs": [],
   "source": [
    "migration_data = client.get_migration_data(include_blobs=True)\n",
    "migration_data"
   ]
  },
  {
   "cell_type": "code",
   "execution_count": null,
   "id": "4",
   "metadata": {},
   "outputs": [],
   "source": [
    "blob_path = Path(\"./my_migration.blob\")\n",
    "yaml_path = Path(\"my_migration.yaml\")\n",
    "\n",
    "blob_path.unlink(missing_ok=True)\n",
    "yaml_path.unlink(missing_ok=True)\n",
    "\n",
    "migration_data.save(blob_path, yaml_path=yaml_path)\n",
    "\n",
    "assert blob_path.exists()\n",
    "assert yaml_path.exists()"
   ]
  },
  {
   "cell_type": "markdown",
   "id": "5",
   "metadata": {},
   "source": [
    "# Client side migrations"
   ]
  },
  {
   "cell_type": "code",
   "execution_count": null,
   "id": "6",
   "metadata": {},
   "outputs": [],
   "source": [
    "node.land()"
   ]
  },
  {
   "cell_type": "code",
   "execution_count": null,
   "id": "7",
   "metadata": {},
   "outputs": [],
   "source": [
    "new_node = sy.orchestra.launch(\n",
    "    name=\"test_upgradability\",\n",
    "    dev_mode=True,\n",
    "    local_db=True,\n",
    "    n_consumers=2,\n",
    "    create_producer=True,\n",
    "    migrate=False,\n",
    "    reset=True,\n",
    ")\n",
    "\n",
    "new_client = new_node.login(email=\"info@openmined.org\", password=\"changethis\")"
   ]
  },
  {
   "cell_type": "code",
   "execution_count": null,
   "id": "8",
   "metadata": {},
   "outputs": [],
   "source": [
    "new_client.load_migration_data(\"my_migration.blob\")"
   ]
  },
  {
   "cell_type": "markdown",
   "id": "9",
   "metadata": {},
   "source": [
    "## Test"
   ]
  },
  {
   "cell_type": "code",
   "execution_count": null,
   "id": "10",
   "metadata": {},
   "outputs": [],
   "source": []
  }
 ],
 "metadata": {
  "kernelspec": {
   "display_name": "Python 3 (ipykernel)",
   "language": "python",
   "name": "python3"
  },
  "language_info": {
   "codemirror_mode": {
    "name": "ipython",
    "version": 3
   },
   "file_extension": ".py",
   "mimetype": "text/x-python",
   "name": "python",
   "nbconvert_exporter": "python",
   "pygments_lexer": "ipython3",
   "version": "3.10.13"
  }
 },
 "nbformat": 4,
 "nbformat_minor": 5
}
