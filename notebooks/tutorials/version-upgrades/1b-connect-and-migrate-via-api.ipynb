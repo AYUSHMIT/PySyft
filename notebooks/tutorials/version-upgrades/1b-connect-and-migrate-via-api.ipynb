{
 "cells": [
  {
   "cell_type": "code",
   "execution_count": null,
   "id": "0",
   "metadata": {},
   "outputs": [],
   "source": [
    "# syft absolute\n",
    "import syft as sy\n",
    "from syft.service.log.log import SyftLogV3\n",
    "from syft.types.syft_object import Context\n",
    "from syft.types.syft_object import SyftObject"
   ]
  },
  {
   "cell_type": "markdown",
   "id": "1",
   "metadata": {},
   "source": [
    "TODOS\n",
    "- [x] action objects\n",
    "- [x] maybe an example of how to migrate one object type in a custom way\n",
    "- [x] check SyftObjectRegistry and compare with current implementation\n",
    "- [x] run unit tests\n",
    "- [ ] finalize notebooks for testing, run in CI\n",
    "- [ ] other tasks defined in tickets"
   ]
  },
  {
   "cell_type": "code",
   "execution_count": null,
   "id": "2",
   "metadata": {},
   "outputs": [],
   "source": [
    "node = sy.orchestra.launch(\n",
    "    name=\"test_upgradability\",\n",
    "    dev_mode=True,\n",
    "    local_db=True,\n",
    "    n_consumers=2,\n",
    "    create_producer=True,\n",
    "    migrate=False,\n",
    ")"
   ]
  },
  {
   "cell_type": "code",
   "execution_count": null,
   "id": "3",
   "metadata": {},
   "outputs": [],
   "source": [
    "client = node.login(email=\"info@openmined.org\", password=\"changethis\")"
   ]
  },
  {
   "cell_type": "markdown",
   "id": "4",
   "metadata": {},
   "source": [
    "# Client side migrations"
   ]
  },
  {
   "cell_type": "markdown",
   "id": "5",
   "metadata": {},
   "source": [
    "## document store objects"
   ]
  },
  {
   "cell_type": "code",
   "execution_count": null,
   "id": "6",
   "metadata": {},
   "outputs": [],
   "source": [
    "migration_dict = client.services.migration.get_migration_objects()"
   ]
  },
  {
   "cell_type": "code",
   "execution_count": null,
   "id": "7",
   "metadata": {},
   "outputs": [],
   "source": [
    "def custom_migration_function(context, obj: SyftObject, klass) -> SyftObject:\n",
    "    # Here, we are just doing the same, but this is where you would write your custom logic\n",
    "    return obj.migrate_to(klass.__version__, context)"
   ]
  },
  {
   "cell_type": "code",
   "execution_count": null,
   "id": "8",
   "metadata": {},
   "outputs": [],
   "source": [
    "# this wont work in the cases where the context is actually used,\n",
    "# but since this would need custom logic here anyway you write workarounds for that (manually querying required state)\n",
    "\n",
    "context = Context()\n",
    "migrated_objects = []\n",
    "for klass, objects in migration_dict.items():\n",
    "    for obj in objects:\n",
    "        if isinstance(obj, SyftLogV3):\n",
    "            migrated_obj = custom_migration_function(context, obj, klass)\n",
    "        else:\n",
    "            migrated_obj = obj.migrate_to(klass.__version__, context)\n",
    "        migrated_objects.append(migrated_obj)"
   ]
  },
  {
   "cell_type": "code",
   "execution_count": null,
   "id": "9",
   "metadata": {},
   "outputs": [],
   "source": [
    "migrated_objects"
   ]
  },
  {
   "cell_type": "code",
   "execution_count": null,
   "id": "10",
   "metadata": {},
   "outputs": [],
   "source": [
    "res = client.services.migration.update_migrated_objects(migrated_objects)"
   ]
  },
  {
   "cell_type": "code",
   "execution_count": null,
   "id": "11",
   "metadata": {},
   "outputs": [],
   "source": [
    "assert isinstance(res, sy.SyftSuccess)"
   ]
  },
  {
   "cell_type": "markdown",
   "id": "12",
   "metadata": {},
   "source": [
    "## Actions and ActionObjects"
   ]
  },
  {
   "cell_type": "code",
   "execution_count": null,
   "id": "13",
   "metadata": {},
   "outputs": [],
   "source": [
    "migration_action_dict = client.services.migration.get_migration_actionobjects()"
   ]
  },
  {
   "cell_type": "code",
   "execution_count": null,
   "id": "14",
   "metadata": {},
   "outputs": [],
   "source": [
    "# this wont work in the cases where the context is actually used, but since this you would need custom logic here anyway\n",
    "# it doesnt matter\n",
    "context = Context()\n",
    "migrated_actionobjects = []\n",
    "for klass, objects in migration_action_dict.items():\n",
    "    for obj in objects:\n",
    "        # custom migration logic here\n",
    "        migrated_actionobject = obj.migrate_to(klass.__version__, context)\n",
    "        migrated_actionobjects.append(migrated_actionobject)"
   ]
  },
  {
   "cell_type": "code",
   "execution_count": null,
   "id": "15",
   "metadata": {},
   "outputs": [],
   "source": [
    "migrated_actionobjects"
   ]
  },
  {
   "cell_type": "code",
   "execution_count": null,
   "id": "16",
   "metadata": {},
   "outputs": [],
   "source": [
    "res = client.services.migration.update_migrated_objects(migrated_actionobjects)"
   ]
  },
  {
   "cell_type": "code",
   "execution_count": null,
   "id": "17",
   "metadata": {},
   "outputs": [],
   "source": [
    "assert isinstance(res, sy.SyftSuccess)"
   ]
  },
  {
   "cell_type": "code",
   "execution_count": null,
   "id": "18",
   "metadata": {},
   "outputs": [],
   "source": []
  }
 ],
 "metadata": {
  "kernelspec": {
   "display_name": "Python 3 (ipykernel)",
   "language": "python",
   "name": "python3"
  },
  "language_info": {
   "codemirror_mode": {
    "name": "ipython",
    "version": 3
   },
   "file_extension": ".py",
   "mimetype": "text/x-python",
   "name": "python",
   "nbconvert_exporter": "python",
   "pygments_lexer": "ipython3",
   "version": "3.12.2"
  }
 },
 "nbformat": 4,
 "nbformat_minor": 5
}
