{
 "cells": [
  {
   "cell_type": "code",
   "execution_count": null,
   "id": "0",
   "metadata": {},
   "outputs": [],
   "source": [
    "# third party\n",
    "import numpy as np\n",
    "import requests\n",
    "\n",
    "# syft absolute\n",
    "import syft as sy"
   ]
  },
  {
   "cell_type": "markdown",
   "id": "1",
   "metadata": {},
   "source": [
    "# Verify Version"
   ]
  },
  {
   "cell_type": "code",
   "execution_count": null,
   "id": "2",
   "metadata": {},
   "outputs": [],
   "source": [
    "PROJECT_NAME = \"syft\"\n",
    "PYPI_JSON_URL = f\"https://pypi.org/pypi/{PROJECT_NAME}/json\"\n",
    "\n",
    "\n",
    "def get_latest_pypi_version():\n",
    "    response = requests.get(PYPI_JSON_URL)\n",
    "    data = response.json()\n",
    "    return data[\"info\"][\"version\"]\n",
    "\n",
    "\n",
    "latest_deployed_version = get_latest_pypi_version()"
   ]
  },
  {
   "cell_type": "code",
   "execution_count": null,
   "id": "3",
   "metadata": {},
   "outputs": [],
   "source": [
    "# this notebook should only be used to run the latest deployed version of syft\n",
    "# the notebooks after this (1a/1b and 2), will test migrating from that latest version\n",
    "print(\n",
    "    f\"latest deployed version: {latest_deployed_version}, installed version: {sy.__version__}\"\n",
    ")\n",
    "# assert (\n",
    "#     latest_deployed_version == sy.__version__\n",
    "# ), f\"{latest_deployed_version} does not match installed version {sy.__version__}\""
   ]
  },
  {
   "cell_type": "markdown",
   "id": "4",
   "metadata": {},
   "source": [
    "# Launch Server"
   ]
  },
  {
   "cell_type": "code",
   "execution_count": null,
   "id": "5",
   "metadata": {},
   "outputs": [],
   "source": [
    "server = sy.orchestra.launch(\n",
    "    name=\"test_upgradability\",\n",
    "    dev_mode=True,\n",
    "    reset=True,\n",
    "    n_consumers=2,\n",
    "    create_producer=True,\n",
    "    port=\"auto\",\n",
    ")"
   ]
  },
  {
   "cell_type": "code",
   "execution_count": null,
   "id": "6",
   "metadata": {},
   "outputs": [],
   "source": [
    "client = server.login(email=\"info@openmined.org\", password=\"changethis\")"
   ]
  },
  {
   "cell_type": "code",
   "execution_count": null,
   "id": "7",
   "metadata": {},
   "outputs": [],
   "source": [
    "client.register(\n",
    "    email=\"ds@openmined.org\", name=\"John Doe\", password=\"pw\", password_verify=\"pw\"\n",
    ")"
   ]
  },
  {
   "cell_type": "markdown",
   "id": "8",
   "metadata": {},
   "source": [
    "# Prepare some data to be migrated"
   ]
  },
  {
   "cell_type": "markdown",
   "id": "9",
   "metadata": {},
   "source": [
    "## Prebuilt custom workerpool"
   ]
  },
  {
   "cell_type": "code",
   "execution_count": null,
   "id": "10",
   "metadata": {},
   "outputs": [],
   "source": [
    "try:\n",
    "    # syft absolute\n",
    "    from syft import test_settings\n",
    "\n",
    "    external_registry = test_settings.get(\"external_registry\", default=\"docker.io\")\n",
    "except Exception:\n",
    "    # Older syft versions do not have test_settings\n",
    "    external_registry = \"docker.io\"\n",
    "\n",
    "external_registry"
   ]
  },
  {
   "cell_type": "code",
   "execution_count": null,
   "id": "11",
   "metadata": {},
   "outputs": [],
   "source": [
    "worker_docker_tag = f\"openmined/bigquery:{sy.__version__}\"\n",
    "worker_docker_tag"
   ]
  },
  {
   "cell_type": "code",
   "execution_count": null,
   "id": "12",
   "metadata": {},
   "outputs": [],
   "source": [
    "docker_config = sy.PrebuiltWorkerConfig(tag=f\"{external_registry}/{worker_docker_tag}\")\n",
    "docker_config"
   ]
  },
  {
   "cell_type": "code",
   "execution_count": null,
   "id": "13",
   "metadata": {},
   "outputs": [],
   "source": [
    "result = client.api.services.worker_image.submit(worker_config=docker_config)\n",
    "result"
   ]
  },
  {
   "cell_type": "code",
   "execution_count": null,
   "id": "14",
   "metadata": {},
   "outputs": [],
   "source": [
    "worker_image = client.images.get_all()[1]\n",
    "worker_image"
   ]
  },
  {
   "cell_type": "code",
   "execution_count": null,
   "id": "15",
   "metadata": {},
   "outputs": [],
   "source": [
    "result = client.api.services.image_registry.add(external_registry)\n",
    "result"
   ]
  },
  {
   "cell_type": "code",
   "execution_count": null,
   "id": "16",
   "metadata": {},
   "outputs": [],
   "source": [
    "worker_pool_name = \"bigquery-pool\""
   ]
  },
  {
   "cell_type": "code",
   "execution_count": null,
   "id": "17",
   "metadata": {},
   "outputs": [],
   "source": [
    "result = client.api.services.worker_pool.launch(\n",
    "    pool_name=worker_pool_name,\n",
    "    image_uid=worker_image.id,\n",
    "    num_workers=1,\n",
    ")\n",
    "result"
   ]
  },
  {
   "cell_type": "markdown",
   "id": "18",
   "metadata": {},
   "source": [
    "## Dataset, Code, Job"
   ]
  },
  {
   "cell_type": "code",
   "execution_count": null,
   "id": "19",
   "metadata": {},
   "outputs": [],
   "source": [
    "client_ds = server.login(email=\"ds@openmined.org\", password=\"pw\")"
   ]
  },
  {
   "cell_type": "code",
   "execution_count": null,
   "id": "20",
   "metadata": {},
   "outputs": [],
   "source": [
    "dataset = sy.Dataset(\n",
    "    name=\"my-dataset\",\n",
    "    description=\"abc\",\n",
    "    asset_list=[\n",
    "        sy.Asset(\n",
    "            name=\"numpy-data\",\n",
    "            mock=np.array([10, 11, 12, 13, 14]),\n",
    "            data=np.array([[15, 16, 17, 18, 19] for _ in range(100_000)]),\n",
    "            mock_is_real=True,\n",
    "        )\n",
    "    ],\n",
    ")\n",
    "\n",
    "client.upload_dataset(dataset)"
   ]
  },
  {
   "cell_type": "code",
   "execution_count": null,
   "id": "21",
   "metadata": {},
   "outputs": [],
   "source": [
    "data_low = client_ds.datasets[0].assets[0]\n",
    "\n",
    "\n",
    "@sy.syft_function_single_use(data=data_low)\n",
    "def compute_mean(datasite, data) -> float:\n",
    "    # launch another job\n",
    "    print(\"Computing mean...\")\n",
    "    return data"
   ]
  },
  {
   "cell_type": "code",
   "execution_count": null,
   "id": "22",
   "metadata": {},
   "outputs": [],
   "source": [
    "req = client_ds.code.request_code_execution(compute_mean)"
   ]
  },
  {
   "cell_type": "code",
   "execution_count": null,
   "id": "23",
   "metadata": {},
   "outputs": [],
   "source": [
    "client.requests[0].approve()"
   ]
  },
  {
   "cell_type": "code",
   "execution_count": null,
   "id": "24",
   "metadata": {},
   "outputs": [],
   "source": [
    "job = client_ds.code.compute_mean(data=data_low, blocking=False)"
   ]
  },
  {
   "cell_type": "code",
   "execution_count": null,
   "id": "25",
   "metadata": {},
   "outputs": [],
   "source": [
    "res = job.wait()"
   ]
  },
  {
   "cell_type": "code",
   "execution_count": null,
   "id": "26",
   "metadata": {},
   "outputs": [],
   "source": [
    "assert isinstance(res.get(), np.ndarray)"
   ]
  },
  {
   "cell_type": "code",
   "execution_count": null,
   "id": "27",
   "metadata": {},
   "outputs": [],
   "source": [
    "# todo: add more data"
   ]
  },
  {
   "cell_type": "code",
   "execution_count": null,
   "id": "28",
   "metadata": {},
   "outputs": [],
   "source": [
    "if server.server_type.value == \"python\":\n",
    "    server.land()"
   ]
  },
  {
   "cell_type": "code",
   "execution_count": null,
   "id": "29",
   "metadata": {},
   "outputs": [],
   "source": []
  }
 ],
 "metadata": {
  "kernelspec": {
   "display_name": "Python 3 (ipykernel)",
   "language": "python",
   "name": "python3"
  },
  "language_info": {
   "codemirror_mode": {
    "name": "ipython",
    "version": 3
   },
   "file_extension": ".py",
   "mimetype": "text/x-python",
   "name": "python",
   "nbconvert_exporter": "python",
   "pygments_lexer": "ipython3",
   "version": "3.10.13"
  }
 },
 "nbformat": 4,
 "nbformat_minor": 5
}
