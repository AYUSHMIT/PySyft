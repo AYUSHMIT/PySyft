{
 "cells": [
  {
   "attachments": {},
   "cell_type": "markdown",
   "id": "bb5a6470-881e-4761-aaf5-cdb65fb9e976",
   "metadata": {},
   "source": [
    "# Syft Functions"
   ]
  },
  {
   "attachments": {},
   "cell_type": "markdown",
   "id": "5e6adc9b",
   "metadata": {},
   "source": [
    "## Install"
   ]
  },
  {
   "cell_type": "code",
   "execution_count": 29,
   "id": "2c51bdc5",
   "metadata": {},
   "outputs": [],
   "source": [
    "SYFT_VERSION = \">=0.8.1b0,<0.9\"\n",
    "package_string = f'\"syft{SYFT_VERSION}\"'\n",
    "# %pip install {package_string} -f https://whls.blob.core.windows.net/unstable/index.html"
   ]
  },
  {
   "cell_type": "code",
   "execution_count": 30,
   "id": "d7941c5b",
   "metadata": {},
   "outputs": [
    {
     "name": "stdout",
     "output_type": "stream",
     "text": [
      "✅ The installed version of syft==0.8.1b10 matches the requirement >=0.8.1b0 and the requirement <0.9\n"
     ]
    }
   ],
   "source": [
    "import syft as sy\n",
    "sy.requires(SYFT_VERSION)"
   ]
  },
  {
   "cell_type": "code",
   "execution_count": 31,
   "id": "c5f3da7b",
   "metadata": {},
   "outputs": [
    {
     "name": "stdout",
     "output_type": "stream",
     "text": [
      "Starting syft-functions-example-domain-1 server on 0.0.0.0:6457\n",
      "SQLite Store Path:\n",
      "!open file:///tmp/5eac38e70a63453b995c581c84fd2c79.sqlite\n",
      "\n",
      "Waiting for server to start Done.\n"
     ]
    }
   ],
   "source": [
    "node = sy.orchestra.launch(name=\"syft-functions-example-domain-1\",port=\"auto\", reset=True)"
   ]
  },
  {
   "attachments": {},
   "cell_type": "markdown",
   "id": "7cb9d9f2",
   "metadata": {},
   "source": [
    "## Setup"
   ]
  },
  {
   "attachments": {},
   "cell_type": "markdown",
   "id": "927b7a30",
   "metadata": {},
   "source": [
    "Lets login with our root user."
   ]
  },
  {
   "cell_type": "code",
   "execution_count": 32,
   "id": "8ffffff6",
   "metadata": {},
   "outputs": [
    {
     "name": "stdout",
     "output_type": "stream",
     "text": [
      "Logged into syft-functions-example-domain-1 as GUEST\n"
     ]
    }
   ],
   "source": [
    "from syft.service.user.user import UserCreate\n",
    "admin_client = node.login(email=\"info@openmined.org\", password=\"changethis\")\n"
   ]
  },
  {
   "attachments": {},
   "cell_type": "markdown",
   "id": "0b0dc91d",
   "metadata": {},
   "source": [
    "Create a dummy dataset for experimenting"
   ]
  },
  {
   "cell_type": "code",
   "execution_count": 33,
   "id": "830c93bd",
   "metadata": {},
   "outputs": [
    {
     "name": "stderr",
     "output_type": "stream",
     "text": [
      "100%|██████████| 1/1 [00:00<00:00,  6.50it/s]"
     ]
    },
    {
     "name": "stdout",
     "output_type": "stream",
     "text": [
      "Uploading: my asset\n"
     ]
    },
    {
     "name": "stderr",
     "output_type": "stream",
     "text": [
      "\n"
     ]
    },
    {
     "data": {
      "text/html": [
       "<div class=\"alert-success\" style=\"padding:5px;\"><strong>SyftSuccess</strong>: Dataset Added</div><br />"
      ],
      "text/plain": [
       "<class 'syft.service.response.SyftSuccess'>: Dataset Added"
      ]
     },
     "execution_count": 33,
     "metadata": {},
     "output_type": "execute_result"
    }
   ],
   "source": [
    "import numpy as np\n",
    "dataset = sy.Dataset(\n",
    "    name=\"my dataset\",\n",
    "    asset_list=[\n",
    "        sy.Asset(\n",
    "        name=\"my asset\",\n",
    "        data=np.array([1,2,3]),\n",
    "        mock=np.array([1,1,1])\n",
    "    )]\n",
    ")\n",
    "admin_client.upload_dataset(dataset)"
   ]
  },
  {
   "attachments": {},
   "cell_type": "markdown",
   "id": "4eab10b8",
   "metadata": {},
   "source": [
    "Create a new user to use as a data scientist account"
   ]
  },
  {
   "cell_type": "code",
   "execution_count": 34,
   "id": "68301a0c",
   "metadata": {},
   "outputs": [
    {
     "data": {
      "text/html": [
       "<div class=\"alert-success\" style=\"padding:5px;\"><strong>SyftSuccess</strong>: User Jane Doe successfully registered! To see users, run client.users.</div><br />"
      ],
      "text/plain": [
       "<class 'syft.service.response.SyftSuccess'>: User Jane Doe successfully registered! To see users, run client.users."
      ]
     },
     "execution_count": 34,
     "metadata": {},
     "output_type": "execute_result"
    }
   ],
   "source": [
    "admin_client.register(name=\"Jane Doe\", email=\"jane@caltech.edu\",\n",
    "                            password=\"abc123\", institution=\"Caltech\", website=\"https://www.caltech.edu/\")"
   ]
  },
  {
   "cell_type": "code",
   "execution_count": 35,
   "id": "21faef9f",
   "metadata": {},
   "outputs": [
    {
     "name": "stdout",
     "output_type": "stream",
     "text": [
      "Logged into syft-functions-example-domain-1 as GUEST\n"
     ]
    }
   ],
   "source": [
    "guest_client = node.client.login(email=\"jane@caltech.edu\", password=\"abc123\")"
   ]
  },
  {
   "attachments": {},
   "cell_type": "markdown",
   "id": "34cb1f92-a080-46c7-89be-38293520b3de",
   "metadata": {},
   "source": [
    "## Defining a Syft Function"
   ]
  },
  {
   "attachments": {},
   "cell_type": "markdown",
   "id": "e5494483",
   "metadata": {},
   "source": [
    "Let's say you want to compute the mean of some numbers remotely with PySyft. How do you do that? Pretty easy actually:"
   ]
  },
  {
   "cell_type": "code",
   "execution_count": 36,
   "id": "1692a01e",
   "metadata": {},
   "outputs": [],
   "source": [
    "@sy.syft_function_single_use()\n",
    "def func():\n",
    "    # run some computation\n",
    "    data = list(range(100))\n",
    "    return sum(data) / 100"
   ]
  },
  {
   "attachments": {},
   "cell_type": "markdown",
   "id": "98ce6e6d-4a09-46f0-9cb9-9bf72008d98f",
   "metadata": {},
   "source": [
    "## Input Policies"
   ]
  },
  {
   "attachments": {},
   "cell_type": "markdown",
   "id": "2bc7b65e",
   "metadata": {},
   "source": [
    "That's great but what if we want to run this function with some parameters? Maybe even some private data (why do remote data science without remote data?). Here's where Input Policies come into play. Their purpose is to define what rules will we follow when it comes to the inputs of a syft function. At the moment we provide what we call an `ExactMatch` policy which allows data scientists to specify a private asset they would like to use, just like this:"
   ]
  },
  {
   "cell_type": "code",
   "execution_count": 37,
   "id": "a0993053",
   "metadata": {},
   "outputs": [],
   "source": [
    "asset = guest_client.datasets[0].assets[0]"
   ]
  },
  {
   "cell_type": "code",
   "execution_count": 38,
   "id": "8ec42760",
   "metadata": {},
   "outputs": [],
   "source": [
    "SYFT_VERSION = \">=0.8.1b0,<0.9\"\n",
    "package_string = f'\"syft{SYFT_VERSION}\"'\n",
    "# %pip install {package_string} -f https://whls.blob.core.windows.net/unstable/index.html"
   ]
  },
  {
   "cell_type": "code",
   "execution_count": 39,
   "metadata": {},
   "outputs": [
    {
     "name": "stdout",
     "output_type": "stream",
     "text": [
      "✅ The installed version of syft==0.8.1b10 matches the requirement >=0.8.1b0 and the requirement <0.9\n"
     ]
    }
   ],
   "source": [
    "import syft as sy\n",
    "sy.requires(SYFT_VERSION)"
   ]
  },
  {
   "cell_type": "code",
   "execution_count": 40,
   "id": "559bef2a",
   "metadata": {},
   "outputs": [],
   "source": [
    "@sy.syft_function(input_policy=sy.ExactMatch(data=asset),\n",
    "                  output_policy=sy.SingleExecutionExactOutput())\n",
    "def mean(data):\n",
    "    return sum(data)/len(data)"
   ]
  },
  {
   "attachments": {},
   "cell_type": "markdown",
   "id": "2ccf735d-796c-4c21-8f7c-0dfc3f8cdc2c",
   "metadata": {},
   "source": [
    "## Output Policies"
   ]
  },
  {
   "attachments": {},
   "cell_type": "markdown",
   "id": "6b8f5a42",
   "metadata": {},
   "source": [
    "You have probably noticed that in the last example we also specified the output policy. Its purpose has to do with the release of information for a given function and controlling the parameters that this release comes with. For example, if a data owner and a data scientist agree on the content of a function run on a domain and on what private data that can be run on, their work might not be done yet. They might negotiate how many times that function can be run, whether or not the data scientist can have access  or what happens before releasing the output (maybe we add some noise like in the case of differential privacy). At the moment we have policies that allow data scientist to ask for a certain amount of runs on function, but the ones you will find most often is `SingleExecutionExactOutput` that ask for a single use on a function. We have used it so much that we came with the `syft_function_single_use` decorator that use by default that output policy. What is also cool is that you can pass the input for an input policy to this decorator to get a shorter version like this:"
   ]
  },
  {
   "cell_type": "code",
   "execution_count": 41,
   "id": "42e56099",
   "metadata": {},
   "outputs": [],
   "source": [
    "# same functionality as before, just faster to write\n",
    "@sy.syft_function_single_use(data=asset)\n",
    "def mean(data):\n",
    "    return sum(data)/len(data)"
   ]
  },
  {
   "attachments": {},
   "cell_type": "markdown",
   "id": "18992983",
   "metadata": {},
   "source": [
    "We are working on extending the functionalities of these policies to truly accomplish the goals we have in mind for them. However, if you have a specific use case in mind and can't wait to use it in your remote data science pipeline, check the custom policies notebook that teaches you how to implement your own input and output policies (and also reuse other users' submitted policies)!"
   ]
  },
  {
   "attachments": {},
   "cell_type": "markdown",
   "id": "7d4255b0-be84-48cd-8a74-f0d6c15153ac",
   "metadata": {},
   "source": [
    "## Testing it Locally"
   ]
  },
  {
   "attachments": {},
   "cell_type": "markdown",
   "id": "a680a78d",
   "metadata": {},
   "source": [
    "\"Right, so we have defined a function for remote use, but can I run it locally?\" - you probably ask\n",
    "\n",
    "Yeah, of course you can!  "
   ]
  },
  {
   "cell_type": "code",
   "execution_count": 42,
   "id": "1ede8a86",
   "metadata": {},
   "outputs": [
    {
     "data": {
      "text/plain": [
       "49.5"
      ]
     },
     "execution_count": 42,
     "metadata": {},
     "output_type": "execute_result"
    }
   ],
   "source": [
    "func()"
   ]
  },
  {
   "attachments": {},
   "cell_type": "markdown",
   "id": "998585f9",
   "metadata": {},
   "source": [
    "\"Sure, but what about functions on private data? That can't work!\"\n",
    "\n",
    "YEAH IT CAN!!"
   ]
  },
  {
   "cell_type": "code",
   "execution_count": 43,
   "id": "0e46b4c2",
   "metadata": {},
   "outputs": [
    {
     "data": {
      "text/plain": [
       "1.0"
      ]
     },
     "execution_count": 43,
     "metadata": {},
     "output_type": "execute_result"
    }
   ],
   "source": [
    "mean(data=asset)"
   ]
  },
  {
   "attachments": {},
   "cell_type": "markdown",
   "id": "952f2687",
   "metadata": {},
   "source": [
    "If you paid attention when we defined the dataset, you probably noticed that for the asset we have added we specified both the private data and the mock data, that we use to test function on the data scientist side. This mock data requires no special access or permissions, because it is public data. This can be data that only matches the structure of the private data or might even be synthetic data if the data owner provides it. Its main goal is to help data scientists to test their functions locally before submitting a request to filter noisy requests in the process. If you would like to learn more about the data owner experience, please check out the notebooks under the tutorials section."
   ]
  },
  {
   "attachments": {},
   "cell_type": "markdown",
   "id": "d1232d20-0446-4a48-b28c-59029b327eb4",
   "metadata": {},
   "source": [
    "## Submitting it for Approval"
   ]
  },
  {
   "attachments": {},
   "cell_type": "markdown",
   "id": "a6045713",
   "metadata": {},
   "source": [
    "Now that we are sure our function works at intended on the mock data, we are ready to submit a request. The cleanest way to do that is to first create a project and attach your request there."
   ]
  },
  {
   "cell_type": "code",
   "execution_count": 44,
   "id": "8a799001",
   "metadata": {},
   "outputs": [
    {
     "data": {
      "text/html": [
       "\n",
       "            <style>\n",
       "            .syft-project-create {color: #464158;}\n",
       "            </style>\n",
       "            <div class='syft-project-create'><h3>My Cool Project</h3><p>Hi, I want to calculate the mean of your private data,                    pretty please!</p><p><strong>Created by: </strong>jane@caltech.edu</p></div>"
      ],
      "text/markdown": [
       "```python\n",
       "class ProjectSubmit:\n",
       "  id: str = f6993d10f40d4698b25c7367d8c3d2d6\n",
       "  name: str = \"My Cool Project\"\n",
       "  description: str = \"Hi, I want to calculate the mean of your private data,                    pretty please!\"\n",
       "  created_by: str = \"jane@caltech.edu\"\n",
       "\n",
       "```"
      ],
      "text/plain": [
       "syft.service.project.project.ProjectSubmit"
      ]
     },
     "execution_count": 44,
     "metadata": {},
     "output_type": "execute_result"
    }
   ],
   "source": [
    "# Create a project\n",
    "new_project = sy.Project(\n",
    "    name=\"My Cool Project\",\n",
    "    description=\"\"\"Hi, I want to calculate the mean of your private data,\\\n",
    "                    pretty please!\"\"\",\n",
    "    members=[guest_client],\n",
    ")\n",
    "new_project"
   ]
  },
  {
   "attachments": {},
   "cell_type": "markdown",
   "id": "c1f10706",
   "metadata": {},
   "source": [
    "Now let's add a code request to the project:"
   ]
  },
  {
   "cell_type": "code",
   "execution_count": 45,
   "id": "fbec01ba",
   "metadata": {},
   "outputs": [
    {
     "data": {
      "text/html": [
       "<div class=\"alert-success\" style=\"padding:5px;\"><strong>SyftSuccess</strong>: Request added successfully</div><br />"
      ],
      "text/plain": [
       "<class 'syft.service.response.SyftSuccess'>: Request added successfully"
      ]
     },
     "execution_count": 45,
     "metadata": {},
     "output_type": "execute_result"
    }
   ],
   "source": [
    "new_project.create_code_request(mean, guest_client)"
   ]
  },
  {
   "attachments": {},
   "cell_type": "markdown",
   "id": "34093288",
   "metadata": {},
   "source": [
    "Now we can start our project by simply running "
   ]
  },
  {
   "cell_type": "code",
   "execution_count": 46,
   "id": "a2dfcf9a",
   "metadata": {},
   "outputs": [
    {
     "data": {
      "text/html": [
       "\n",
       "            <style>\n",
       "            .syft-project {color: #464158;}\n",
       "            </style>\n",
       "            <div class='syft-project'><h3>My Cool Project</h3><p>Hi, I want to calculate the mean of your private data,                    pretty please!</p><p><strong>Created by: </strong>jane@caltech.edu</p>\n",
       "                <style>\n",
       "                .syft-collection-header {color: #464158;}\n",
       "                </style>\n",
       "                <div class='syft-collection-header'>\n",
       "                    <h3>Request List</h3>\n",
       "                </div>\n",
       "                <br>\n",
       "                <style>\n",
       "            .itables table {\n",
       "                margin: 0 auto;\n",
       "                float: left;\n",
       "                color: #534F64;\n",
       "            }\n",
       "            .itables table th {color: #2E2B3B;}\n",
       "            </style>\n",
       "<div class=\"itables\">\n",
       "<table id=\"f0b38d08-fd18-447d-873b-3aa9e73341c3\" class=\"display nowrap\"style=\"table-layout:auto;width:auto;margin:auto;caption-side:bottom\"><thead>\n",
       "    <tr style=\"text-align: right;\">\n",
       "      \n",
       "      <th>id</th>\n",
       "      <th>request_time</th>\n",
       "      <th>updated_at</th>\n",
       "      <th>status</th>\n",
       "      <th>changes</th>\n",
       "      <th>requesting_user_verify_key</th>\n",
       "    </tr>\n",
       "  </thead><tbody><tr><td>Loading... (need <a href=https://mwouts.github.io/itables/troubleshooting.html>help</a>?)</td></tr></tbody></table>\n",
       "<link rel=\"stylesheet\" type=\"text/css\" href=\"https://cdn.datatables.net/1.13.1/css/jquery.dataTables.min.css\">\n",
       "<script type=\"module\">\n",
       "    // Import jquery and DataTable\n",
       "    import 'https://code.jquery.com/jquery-3.6.0.min.js';\n",
       "    import dt from 'https://cdn.datatables.net/1.12.1/js/jquery.dataTables.mjs';\n",
       "    dt($);\n",
       "\n",
       "    // Define the table data\n",
       "    const data = [[\"764c...378\", \"2023-06-16 12:09:25\", \"None\", \"RequestStatus.PENDING\", \"[Request to change <b>mean</b> to permission <b>RequestStatus.APPROVED</b>]\", \"b1b883a497bbf53adeb9c3ef67e75ce9d8986a4e0eb997424fa97add0a8ac269\"]];\n",
       "\n",
       "    // Define the dt_args\n",
       "    let dt_args = {\"order\": [], \"dom\": \"t\"};\n",
       "    dt_args[\"data\"] = data;\n",
       "\n",
       "    $(document).ready(function () {\n",
       "        \n",
       "        $('#f0b38d08-fd18-447d-873b-3aa9e73341c3').DataTable(dt_args);\n",
       "    });\n",
       "</script>\n",
       "</div>\n",
       "</div>"
      ],
      "text/markdown": [
       "```python\n",
       "class Project:\n",
       "  id: str = f6993d10f40d4698b25c7367d8c3d2d6\n",
       "  name: str = \"My Cool Project\"\n",
       "  description: str = \"Hi, I want to calculate the mean of your private data,                    pretty please!\"\n",
       "  created_by: str = \"jane@caltech.edu\"\n",
       "  events: str = [('ProjectRequest', '64e3...89d')]\n",
       "\n",
       "```"
      ],
      "text/plain": [
       "syft.service.project.project.Project"
      ]
     },
     "execution_count": 46,
     "metadata": {},
     "output_type": "execute_result"
    }
   ],
   "source": [
    "project = new_project.start()\n",
    "project"
   ]
  },
  {
   "attachments": {},
   "cell_type": "markdown",
   "id": "7e9d35e5-428e-441e-a623-e9e825196e70",
   "metadata": {},
   "source": [
    "## Checking Approval"
   ]
  },
  {
   "attachments": {},
   "cell_type": "markdown",
   "id": "97a1cec7",
   "metadata": {},
   "source": [
    "Very cool, now let's run our function with private data!"
   ]
  },
  {
   "cell_type": "code",
   "execution_count": 47,
   "id": "de83c1cc",
   "metadata": {},
   "outputs": [
    {
     "data": {
      "text/html": [
       "<div class=\"alert-info\" style=\"padding:5px;\"><strong>SyftNotReady</strong>: <class 'syft.service.code.user_code.UserCode'> Your code is waiting for approval: {NodeView(node_name='syft-functions-example-domain-1', verify_key=8893ef335bc43d822e45df8344e9f4cd17dac84918997bc38cf6f7a9bf0e3c2c): <UserCodeStatus.SUBMITTED: 'submitted'>}</div><br />"
      ],
      "text/plain": [
       "<class 'syft.service.response.SyftNotReady'>: <class 'syft.service.code.user_code.UserCode'> Your code is waiting for approval: {NodeView(node_name='syft-functions-example-domain-1', verify_key=8893ef335bc43d822e45df8344e9f4cd17dac84918997bc38cf6f7a9bf0e3c2c): <UserCodeStatus.SUBMITTED: 'submitted'>}"
      ]
     },
     "execution_count": 47,
     "metadata": {},
     "output_type": "execute_result"
    }
   ],
   "source": [
    "guest_client.code.mean(data=asset)"
   ]
  },
  {
   "attachments": {},
   "cell_type": "markdown",
   "id": "fc8d1850",
   "metadata": {},
   "source": [
    "Right! Our code was not approved, so we should wait for the review from the data owner. As we also deployed the domain, we will do that quickly here, but for more details on what is happening check the data owner sections under tutorials:"
   ]
  },
  {
   "cell_type": "code",
   "execution_count": 48,
   "id": "b7794416",
   "metadata": {},
   "outputs": [
    {
     "name": "stdout",
     "output_type": "stream",
     "text": [
      "WARNING: Notifications is currently is in a beta state, so use carefully!\n",
      "If possible try using client.requests/client.projects\n"
     ]
    },
    {
     "data": {
      "text/html": [
       "\n",
       "            <style>\n",
       "            .syft-request {color: #464158;}\n",
       "            </style>\n",
       "            <div class='syft-request'>\n",
       "                <h3>Request</h3>\n",
       "                <p><strong>Id: </strong>764c8343fce9460fbb8dcec483dc8378</p>\n",
       "                <p><strong>Request time: </strong>2023-06-16 12:09:25</p>\n",
       "                \n",
       "                <p><strong> Changes: </strong> ['User <b>Jane Doe</b> requests to change                    <b>mean</b> to permission <b>RequestStatus.APPROVED</b>']</p>\n",
       "                <p><strong>Status: </strong>RequestStatus.PENDING</p>\n",
       "            </div>\n",
       "            "
      ],
      "text/markdown": [
       "```python\n",
       "class Request:\n",
       "  id: str = 764c8343fce9460fbb8dcec483dc8378\n",
       "  request_time: str = 2023-06-16 12:09:25\n",
       "  updated_at: str = None\n",
       "  status: str = RequestStatus.PENDING\n",
       "  changes: str = ['Request to change <b>mean</b> to permission <b>RequestStatus.APPROVED</b>']\n",
       "  requesting_user_verify_key: str = b1b883a497bbf53adeb9c3ef67e75ce9d8986a4e0eb997424fa97add0a8ac269\n",
       "\n",
       "```"
      ],
      "text/plain": [
       "syft.service.request.request.Request"
      ]
     },
     "execution_count": 48,
     "metadata": {},
     "output_type": "execute_result"
    }
   ],
   "source": [
    "request = admin_client.notifications[-1].link.requests[0]\n",
    "request"
   ]
  },
  {
   "cell_type": "code",
   "execution_count": 49,
   "id": "33513ece",
   "metadata": {},
   "outputs": [
    {
     "data": {
      "text/html": [
       "<div class=\"alert-success\" style=\"padding:5px;\"><strong>SyftSuccess</strong>: Request 764c8343fce9460fbb8dcec483dc8378 changes applied</div><br />"
      ],
      "text/plain": [
       "<class 'syft.service.response.SyftSuccess'>: Request 764c8343fce9460fbb8dcec483dc8378 changes applied"
      ]
     },
     "execution_count": 49,
     "metadata": {},
     "output_type": "execute_result"
    }
   ],
   "source": [
    "request.approve()"
   ]
  },
  {
   "attachments": {},
   "cell_type": "markdown",
   "id": "54cb1239-d34b-4ac6-b8f9-d909bbe34bd6",
   "metadata": {},
   "source": [
    "## Executing your Function"
   ]
  },
  {
   "attachments": {},
   "cell_type": "markdown",
   "id": "a48931bf",
   "metadata": {},
   "source": [
    "Good, now we are finally ready to run the function on private data:"
   ]
  },
  {
   "cell_type": "code",
   "execution_count": 50,
   "id": "19afcfb2",
   "metadata": {},
   "outputs": [
    {
     "data": {
      "text/markdown": [
       "```python\n",
       "TwinPointer(Mock)\n",
       "```\n",
       "1.0"
      ],
      "text/plain": [
       "TwinPointer(Mock):\n",
       "1.0"
      ]
     },
     "execution_count": 50,
     "metadata": {},
     "output_type": "execute_result"
    }
   ],
   "source": [
    "res = guest_client.code.mean(data=asset)\n",
    "res"
   ]
  },
  {
   "attachments": {},
   "cell_type": "markdown",
   "id": "d718068d",
   "metadata": {},
   "source": [
    "Notice that the result we see is still `1.0` which looks like the result on the mock data. That is because it actually is! The object returned is an `ActionObject` which here behaves like a pointer for the data on the domain:"
   ]
  },
  {
   "cell_type": "code",
   "execution_count": 51,
   "id": "68cd2efe",
   "metadata": {},
   "outputs": [
    {
     "data": {
      "text/plain": [
       "True"
      ]
     },
     "execution_count": 51,
     "metadata": {},
     "output_type": "execute_result"
    }
   ],
   "source": [
    "isinstance(res, sy.ActionObject)"
   ]
  },
  {
   "cell_type": "code",
   "execution_count": 52,
   "id": "f58f1552",
   "metadata": {},
   "outputs": [
    {
     "data": {
      "text/plain": [
       "syft.service.action.numpy.NumpyScalarObject"
      ]
     },
     "execution_count": 52,
     "metadata": {},
     "output_type": "execute_result"
    }
   ],
   "source": [
    "type(res)"
   ]
  },
  {
   "attachments": {},
   "cell_type": "markdown",
   "id": "bff8dcde-e1fb-49e1-a879-20babdda16f7",
   "metadata": {},
   "source": [
    "## Downloading Results"
   ]
  },
  {
   "attachments": {},
   "cell_type": "markdown",
   "id": "359c0824",
   "metadata": {},
   "source": [
    "To get the real data we need one more step:"
   ]
  },
  {
   "cell_type": "code",
   "execution_count": 53,
   "id": "ea32d7ca",
   "metadata": {},
   "outputs": [
    {
     "data": {
      "text/plain": [
       "2.0"
      ]
     },
     "execution_count": 53,
     "metadata": {},
     "output_type": "execute_result"
    }
   ],
   "source": [
    "real_res = res.get_from(guest_client)\n",
    "real_res"
   ]
  },
  {
   "attachments": {},
   "cell_type": "markdown",
   "id": "771fd1fa",
   "metadata": {},
   "source": [
    "We can even check the type of the result to see it's real data:"
   ]
  },
  {
   "cell_type": "code",
   "execution_count": 54,
   "id": "130184dd",
   "metadata": {},
   "outputs": [
    {
     "data": {
      "text/plain": [
       "numpy.float64"
      ]
     },
     "execution_count": 54,
     "metadata": {},
     "output_type": "execute_result"
    }
   ],
   "source": [
    "type(real_res)"
   ]
  }
 ],
 "metadata": {
  "kernelspec": {
   "display_name": "Python 3 (ipykernel)",
   "language": "python",
   "name": "python3"
  },
  "language_info": {
   "codemirror_mode": {
    "name": "ipython",
    "version": 3
   },
   "file_extension": ".py",
   "mimetype": "text/x-python",
   "name": "python",
   "nbconvert_exporter": "python",
   "pygments_lexer": "ipython3",
   "version": "3.9.16"
  }
 },
 "nbformat": 4,
 "nbformat_minor": 5
}
