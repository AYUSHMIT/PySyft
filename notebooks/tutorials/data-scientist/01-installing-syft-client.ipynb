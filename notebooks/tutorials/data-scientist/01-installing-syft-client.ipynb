{
 "cells": [
  {
   "attachments": {},
   "cell_type": "markdown",
   "id": "b3396eef-e238-450d-9ab0-0a9adfc366ed",
   "metadata": {
    "tags": []
   },
   "source": [
    "# Installing Syft Python Client\n",
    "\n",
    "Syft requires Python 3.9 - 3.11."
   ]
  },
  {
   "attachments": {},
   "cell_type": "markdown",
   "id": "c1719d55",
   "metadata": {},
   "source": [
    "### Latest version\n",
    "\n",
    "`pip install syft`"
   ]
  },
  {
   "cell_type": "code",
   "execution_count": null,
   "id": "5b8157a5",
   "metadata": {},
   "outputs": [],
   "source": [
    "# %pip install syft"
   ]
  },
  {
   "attachments": {},
   "cell_type": "markdown",
   "id": "2d70145b",
   "metadata": {},
   "source": [
    "\n",
    "### Specific version\n",
    "\n",
    "`pip install syft==<version>`"
   ]
  },
  {
   "cell_type": "code",
   "execution_count": null,
   "id": "7b4a1b19",
   "metadata": {},
   "outputs": [],
   "source": [
    "# %pip install syft==0.7.0"
   ]
  },
  {
   "attachments": {},
   "cell_type": "markdown",
   "id": "852e1a84-ba63-4483-9d78-e26e4c3bb2cf",
   "metadata": {},
   "source": [
    "## Versions\n",
    "\n",
    "* `0.8.0`, `0.8.1` - Latest\n",
    "* `0.7.0` - Used for <a href=\"https://github.com/OpenMined/courses/tree/introduction-to-remote-data-science-dev\">Course 3</a>\n",
    "* `0.6.0` - Used for <a href=\"https://github.com/OpenMined/courses/tree/foundations-of-private-computation\">Course 2</a>"
   ]
  },
  {
   "attachments": {},
   "cell_type": "markdown",
   "id": "2a19ce0b-fd71-4a2f-8b9c-523cea70470f",
   "metadata": {},
   "source": [
    "## Platforms\n",
    "\n"
   ]
  },
  {
   "attachments": {},
   "cell_type": "markdown",
   "id": "77e1b18d",
   "metadata": {},
   "source": [
    "`Linux`, `macOS` and `Windows` are supported.\n",
    "\n",
    "* `macOS` Apple Silicon users might need cmake: `brew install cmake` \n",
    "* `Windows` users must run this first: `pip install jaxlib==0.4.10 -f https://whls.blob.core.windows.net/unstable/index.html`"
   ]
  },
  {
   "attachments": {},
   "cell_type": "markdown",
   "id": "1ca842bf-313f-4cf4-9987-e370338e4266",
   "metadata": {},
   "source": [
    "## Checking Version"
   ]
  },
  {
   "attachments": {},
   "cell_type": "markdown",
   "id": "d8252d50",
   "metadata": {},
   "source": [
    "You can check the installed version of syft by calling `sy.__version__`."
   ]
  },
  {
   "cell_type": "code",
   "execution_count": null,
   "id": "b1da4410",
   "metadata": {},
   "outputs": [],
   "source": [
    "import syft as sy\n",
    "sy.__version__"
   ]
  },
  {
   "attachments": {},
   "cell_type": "markdown",
   "id": "5d3a1fd7-632a-4eb4-812a-3709b52b27d1",
   "metadata": {},
   "source": [
    "## Compatibility"
   ]
  },
  {
   "attachments": {},
   "cell_type": "markdown",
   "id": "30ad64ce-1940-4b07-b7dc-6898b932121f",
   "metadata": {},
   "source": [
    "Syft does not have backwards compatibility yet with older versions like `0.7.0`."
   ]
  }
 ],
 "metadata": {
  "kernelspec": {
   "display_name": "Python 3 (ipykernel)",
   "language": "python",
   "name": "python3"
  },
  "language_info": {
   "codemirror_mode": {
    "name": "ipython",
    "version": 3
   },
   "file_extension": ".py",
   "mimetype": "text/x-python",
   "name": "python",
   "nbconvert_exporter": "python",
   "pygments_lexer": "ipython3",
   "version": "3.10.4"
  }
 },
 "nbformat": 4,
 "nbformat_minor": 5
}
