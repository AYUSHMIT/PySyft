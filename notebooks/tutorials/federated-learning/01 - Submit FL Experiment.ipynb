{
 "cells": [
  {
   "cell_type": "markdown",
   "id": "2ddc5050-75bd-44f9-821e-2cf5b5b5f1f9",
   "metadata": {},
   "source": [
    "# Step 1: Login as External Researcher"
   ]
  },
  {
   "cell_type": "code",
   "execution_count": 1,
   "id": "c2645f54-4db6-4760-9dc1-8f38f53f39b3",
   "metadata": {},
   "outputs": [
    {
     "data": {
      "text/html": [
       "<div class=\"alert-info\" style=\"padding:5px;\"><strong>SyftInfo</strong>: <pre class=\"alert-info\" style=\"display:inline; font-family:inherit;\">You have launched a development server at http://0.0.0.0:None.It is intended only for local use.</pre></div><br/>"
      ],
      "text/plain": [
       "SyftInfo: You have launched a development server at http://0.0.0.0:None.It is intended only for local use."
      ]
     },
     "metadata": {},
     "output_type": "display_data"
    },
    {
     "name": "stdout",
     "output_type": "stream",
     "text": [
      "Logged into <fl-datasite-0: High side Datasite> as <sheldon@caltech.edu>\n"
     ]
    },
    {
     "data": {
      "text/html": [
       "<div class=\"alert-warning\" style=\"padding:5px;\"><strong>SyftWarning</strong>: <pre class=\"alert-warning\" style=\"display:inline; font-family:inherit;\">You are using a default password. Please change the password using `[your_client].account.set_password([new_password])`.</pre></div><br/>"
      ],
      "text/plain": [
       "SyftWarning: You are using a default password. Please change the password using `[your_client].account.set_password([new_password])`."
      ]
     },
     "metadata": {},
     "output_type": "display_data"
    },
    {
     "data": {
      "text/html": [
       "<div class=\"alert-info\" style=\"padding:5px;\"><strong>SyftInfo</strong>: <pre class=\"alert-info\" style=\"display:inline; font-family:inherit;\">You have launched a development server at http://0.0.0.0:None.It is intended only for local use.</pre></div><br/>"
      ],
      "text/plain": [
       "SyftInfo: You have launched a development server at http://0.0.0.0:None.It is intended only for local use."
      ]
     },
     "metadata": {},
     "output_type": "display_data"
    },
    {
     "name": "stdout",
     "output_type": "stream",
     "text": [
      "Logged into <fl-datasite-1: High side Datasite> as <sheldon@caltech.edu>\n"
     ]
    },
    {
     "data": {
      "text/html": [
       "<div class=\"alert-warning\" style=\"padding:5px;\"><strong>SyftWarning</strong>: <pre class=\"alert-warning\" style=\"display:inline; font-family:inherit;\">You are using a default password. Please change the password using `[your_client].account.set_password([new_password])`.</pre></div><br/>"
      ],
      "text/plain": [
       "SyftWarning: You are using a default password. Please change the password using `[your_client].account.set_password([new_password])`."
      ]
     },
     "metadata": {},
     "output_type": "display_data"
    },
    {
     "data": {
      "text/html": [
       "<div class=\"alert-info\" style=\"padding:5px;\"><strong>SyftInfo</strong>: <pre class=\"alert-info\" style=\"display:inline; font-family:inherit;\">You have launched a development server at http://0.0.0.0:None.It is intended only for local use.</pre></div><br/>"
      ],
      "text/plain": [
       "SyftInfo: You have launched a development server at http://0.0.0.0:None.It is intended only for local use."
      ]
     },
     "metadata": {},
     "output_type": "display_data"
    },
    {
     "name": "stdout",
     "output_type": "stream",
     "text": [
      "Logged into <fl-datasite-2: High side Datasite> as <sheldon@caltech.edu>\n"
     ]
    },
    {
     "data": {
      "text/html": [
       "<div class=\"alert-warning\" style=\"padding:5px;\"><strong>SyftWarning</strong>: <pre class=\"alert-warning\" style=\"display:inline; font-family:inherit;\">You are using a default password. Please change the password using `[your_client].account.set_password([new_password])`.</pre></div><br/>"
      ],
      "text/plain": [
       "SyftWarning: You are using a default password. Please change the password using `[your_client].account.set_password([new_password])`."
      ]
     },
     "metadata": {},
     "output_type": "display_data"
    }
   ],
   "source": [
    "import syft as sy\n",
    "\n",
    "datasites = list()\n",
    "for i in range(3):\n",
    "    server = sy.orchestra.launch(name=\"fl-datasite-\"+str(i)) # connects to same server\n",
    "    client = server.login(email=\"sheldon@caltech.edu\", password=\"changethis\")\n",
    "    datasites.append(client)"
   ]
  },
  {
   "cell_type": "markdown",
   "id": "2c636278-a868-417d-8683-04cf792af393",
   "metadata": {},
   "source": [
    "# Step 2: Get mock data and test a neural network"
   ]
  },
  {
   "cell_type": "code",
   "execution_count": 2,
   "id": "5adcb65a-88be-4e37-8e88-c025c1647f5e",
   "metadata": {},
   "outputs": [],
   "source": [
    "mock_images = datasites[0].datasets['MNIST Dataset'].assets['images'].mock[0:100]\n",
    "mock_labels = datasites[0].datasets['MNIST Dataset'].assets['labels'].mock[0:100]"
   ]
  },
  {
   "cell_type": "code",
   "execution_count": 3,
   "id": "e768fa19-65f3-4bad-9350-7204a7479e38",
   "metadata": {},
   "outputs": [
    {
     "name": "stdout",
     "output_type": "stream",
     "text": [
      "Epoch 1, Loss: 0.0000\n",
      "Epoch 2, Loss: 0.0000\n",
      "Epoch 3, Loss: 0.0000\n",
      "Epoch 4, Loss: 0.0000\n",
      "Epoch 5, Loss: 0.0000\n",
      "Epoch 6, Loss: 0.0000\n",
      "Epoch 7, Loss: 0.0000\n",
      "Epoch 8, Loss: 0.0000\n",
      "Epoch 9, Loss: 0.0000\n",
      "Epoch 10, Loss: 0.0000\n"
     ]
    }
   ],
   "source": [
    "# third party\n",
    "import torch\n",
    "import torch.nn as nn\n",
    "import torch.optim as optim\n",
    "from torch.utils.data import TensorDataset\n",
    "\n",
    "# Define the data loader\n",
    "train_loader = torch.utils.data.DataLoader(\n",
    "    TensorDataset(torch.tensor(mock_images, dtype=torch.float32), \n",
    "                               torch.tensor(mock_labels, dtype=torch.float32)), \n",
    "    batch_size=4, \n",
    "    shuffle=True\n",
    ")\n",
    "\n",
    "# Define the neural network class\n",
    "class MLP(nn.Module):\n",
    "    def __init__(self):\n",
    "        super().__init__()\n",
    "        self.fc1 = nn.Linear(784, 10)\n",
    "\n",
    "    def forward(self, x):\n",
    "        x = torch.log_softmax(self.fc1(x.view(-1, 784)), dim=1)\n",
    "        return x\n",
    "\n",
    "# Define the model, optimizer, and loss function\n",
    "model = MLP()\n",
    "optimizer = optim.SGD(model.parameters(), lr=0.001, momentum=0.9)\n",
    "criterion = nn.CrossEntropyLoss()\n",
    "\n",
    "# Train the model\n",
    "for epoch in range(10):\n",
    "    running_loss = 0.0\n",
    "    for _, data in enumerate(train_loader, 0):\n",
    "        inputs, labels = data\n",
    "        optimizer.zero_grad()\n",
    "        outputs = model(inputs)\n",
    "        loss = criterion(outputs, labels)\n",
    "        loss.backward()\n",
    "        optimizer.step()\n",
    "        running_loss += loss.item()\n",
    "    print(\n",
    "        f\"Epoch {epoch + 1}, Loss: {(running_loss / len(train_loader)):.4f}\",\n",
    "    )"
   ]
  },
  {
   "cell_type": "markdown",
   "id": "60c16944-e6ae-4858-8c02-ddc654162ae7",
   "metadata": {},
   "source": [
    "# Step 3: Submit experiment to each datasites"
   ]
  },
  {
   "cell_type": "code",
   "execution_count": 4,
   "id": "ef3823a0-69c7-4347-8f69-d312067e024c",
   "metadata": {},
   "outputs": [
    {
     "data": {
      "text/html": [
       "<div class=\"alert-success\" style=\"padding:5px;\"><strong>SyftSuccess</strong>: <pre class=\"alert-success\" style=\"display:inline; font-family:inherit;\">Syft function 'train' successfully created. To add a code request, please create a project using `project = syft.Project(...)`, then use command `project.create_code_request`.</pre></div><br/>"
      ],
      "text/plain": [
       "SyftSuccess: Syft function 'train' successfully created. To add a code request, please create a project using `project = syft.Project(...)`, then use command `project.create_code_request`."
      ]
     },
     "metadata": {},
     "output_type": "display_data"
    },
    {
     "data": {
      "text/html": [
       "<div class=\"alert-success\" style=\"padding:5px;\"><strong>SyftSuccess</strong>: <pre class=\"alert-success\" style=\"display:inline; font-family:inherit;\">Syft function 'train' successfully created. To add a code request, please create a project using `project = syft.Project(...)`, then use command `project.create_code_request`.</pre></div><br/>"
      ],
      "text/plain": [
       "SyftSuccess: Syft function 'train' successfully created. To add a code request, please create a project using `project = syft.Project(...)`, then use command `project.create_code_request`."
      ]
     },
     "metadata": {},
     "output_type": "display_data"
    },
    {
     "data": {
      "text/html": [
       "<div class=\"alert-success\" style=\"padding:5px;\"><strong>SyftSuccess</strong>: <pre class=\"alert-success\" style=\"display:inline; font-family:inherit;\">Syft function 'train' successfully created. To add a code request, please create a project using `project = syft.Project(...)`, then use command `project.create_code_request`.</pre></div><br/>"
      ],
      "text/plain": [
       "SyftSuccess: Syft function 'train' successfully created. To add a code request, please create a project using `project = syft.Project(...)`, then use command `project.create_code_request`."
      ]
     },
     "metadata": {},
     "output_type": "display_data"
    }
   ],
   "source": [
    "for dasite in datasites:\n",
    "\n",
    "    mock_images_ptr = dasite.datasets['MNIST Dataset'].assets['images']\n",
    "    mock_labels_ptr = dasite.datasets['MNIST Dataset'].assets['labels']\n",
    "    \n",
    "    \n",
    "    @sy.syft_function(\n",
    "        input_policy=sy.ExactMatch(\n",
    "            mnist_images=mock_images_ptr, \n",
    "            mnist_labels=mock_labels_ptr\n",
    "        ),\n",
    "        output_policy=sy.SingleExecutionExactOutput(),\n",
    "    )\n",
    "    def train(mnist_images, mnist_labels):\n",
    "        # third party\n",
    "        import torch\n",
    "        import torch.nn as nn\n",
    "        import torch.optim as optim\n",
    "        from torch.utils.data import TensorDataset\n",
    "\n",
    "        # Define the data loader\n",
    "        train_loader = torch.utils.data.DataLoader(\n",
    "            TensorDataset(torch.tensor(mnist_images, dtype=torch.float32), \n",
    "                          torch.tensor(mnist_labels, dtype=torch.float32)), \n",
    "            batch_size=4, \n",
    "            shuffle=True\n",
    "        )\n",
    "\n",
    "        # Define the neural network class\n",
    "        class MLP(nn.Module):\n",
    "            def __init__(self):\n",
    "                super().__init__()\n",
    "                self.fc1 = nn.Linear(784, 10)\n",
    "\n",
    "            def forward(self, x):\n",
    "                x = torch.log_softmax(self.fc1(x.view(-1, 784)), dim=1)\n",
    "                return x\n",
    "\n",
    "        # Define the model, optimizer, and loss function\n",
    "        model = MLP()\n",
    "        optimizer = optim.SGD(model.parameters(), lr=0.001, momentum=0.9)\n",
    "        criterion = nn.CrossEntropyLoss()\n",
    "\n",
    "        # Train the model\n",
    "        train_accs = []\n",
    "        for epoch in range(20):\n",
    "            running_loss = 0.0\n",
    "            for _, data in enumerate(train_loader, 0):\n",
    "                inputs, labels = data\n",
    "                optimizer.zero_grad()\n",
    "                outputs = model(inputs)\n",
    "                loss = criterion(outputs, labels)\n",
    "                loss.backward()\n",
    "                optimizer.step()\n",
    "                running_loss += loss.item()\n",
    "            print(\n",
    "                f\"Epoch {epoch + 1}, Loss: {(running_loss / len(train_loader)):.4f}\"\n",
    "            )\n",
    "            # Calculate accuracy on the training set\n",
    "            train_accs.append((running_loss / len(train_loader)))\n",
    "\n",
    "        # Get model parameters\n",
    "        params = model.state_dict()\n",
    "\n",
    "        # Return training accuracy and model parameters\n",
    "        return train_accs, params\n",
    "    new_project = sy.Project(\n",
    "        name=\"Training a 3-layer torch neural network on MNIST data\",\n",
    "        description=\"\"\"Hi, I would like to train my neural network on your MNIST data \n",
    "                    (I can download it online too but I just want to use Syft coz it's cool)\"\"\",\n",
    "        members=[dasite],\n",
    "    )\n",
    "    new_project.create_code_request(obj=train, client=dasite)\n",
    "    project = new_project.send()"
   ]
  },
  {
   "cell_type": "code",
   "execution_count": null,
   "id": "82224c82-d89d-41e1-82e2-8ffd130f0a63",
   "metadata": {},
   "outputs": [],
   "source": []
  },
  {
   "cell_type": "code",
   "execution_count": null,
   "id": "f2230949-3e89-4186-ad12-69b683254128",
   "metadata": {},
   "outputs": [],
   "source": []
  }
 ],
 "metadata": {
  "kernelspec": {
   "display_name": "Python 3 (ipykernel)",
   "language": "python",
   "name": "python3"
  },
  "language_info": {
   "codemirror_mode": {
    "name": "ipython",
    "version": 3
   },
   "file_extension": ".py",
   "mimetype": "text/x-python",
   "name": "python",
   "nbconvert_exporter": "python",
   "pygments_lexer": "ipython3",
   "version": "3.10.9"
  }
 },
 "nbformat": 4,
 "nbformat_minor": 5
}
