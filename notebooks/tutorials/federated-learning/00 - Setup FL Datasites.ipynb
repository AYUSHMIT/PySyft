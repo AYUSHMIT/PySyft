{
 "cells": [
  {
   "cell_type": "markdown",
   "id": "ac36ba2d-3662-4637-a94b-bd78ce4cde22",
   "metadata": {},
   "source": [
    "# Step 1: Launch some datasite servers"
   ]
  },
  {
   "cell_type": "code",
   "execution_count": 1,
   "id": "9a823a3e-3576-4fa2-881a-f4671a6a7966",
   "metadata": {},
   "outputs": [],
   "source": [
    "import syft as sy\n",
    "from mnist_dataset import mnist"
   ]
  },
  {
   "cell_type": "code",
   "execution_count": 2,
   "id": "bb256760-8067-4410-a926-2ea522f17ffc",
   "metadata": {},
   "outputs": [
    {
     "data": {
      "text/html": [
       "<div class=\"alert-info\" style=\"padding:5px;\"><strong>SyftInfo</strong>: <pre class=\"alert-info\" style=\"display:inline; font-family:inherit;\">You have launched a development server at http://0.0.0.0:None.It is intended only for local use.</pre></div><br/>"
      ],
      "text/plain": [
       "SyftInfo: You have launched a development server at http://0.0.0.0:None.It is intended only for local use."
      ]
     },
     "metadata": {},
     "output_type": "display_data"
    },
    {
     "name": "stdout",
     "output_type": "stream",
     "text": [
      "Logged into <fl-datasite-0: High side Datasite> as <info@openmined.org>\n"
     ]
    },
    {
     "data": {
      "text/html": [
       "<div class=\"alert-warning\" style=\"padding:5px;\"><strong>SyftWarning</strong>: <pre class=\"alert-warning\" style=\"display:inline; font-family:inherit;\">You are using a default password. Please change the password using `[your_client].account.set_password([new_password])`.</pre></div><br/>"
      ],
      "text/plain": [
       "SyftWarning: You are using a default password. Please change the password using `[your_client].account.set_password([new_password])`."
      ]
     },
     "metadata": {},
     "output_type": "display_data"
    },
    {
     "data": {
      "text/html": [
       "<div class=\"alert-info\" style=\"padding:5px;\"><strong>SyftInfo</strong>: <pre class=\"alert-info\" style=\"display:inline; font-family:inherit;\">You have launched a development server at http://0.0.0.0:None.It is intended only for local use.</pre></div><br/>"
      ],
      "text/plain": [
       "SyftInfo: You have launched a development server at http://0.0.0.0:None.It is intended only for local use."
      ]
     },
     "metadata": {},
     "output_type": "display_data"
    },
    {
     "name": "stdout",
     "output_type": "stream",
     "text": [
      "Logged into <fl-datasite-1: High side Datasite> as <info@openmined.org>\n"
     ]
    },
    {
     "data": {
      "text/html": [
       "<div class=\"alert-warning\" style=\"padding:5px;\"><strong>SyftWarning</strong>: <pre class=\"alert-warning\" style=\"display:inline; font-family:inherit;\">You are using a default password. Please change the password using `[your_client].account.set_password([new_password])`.</pre></div><br/>"
      ],
      "text/plain": [
       "SyftWarning: You are using a default password. Please change the password using `[your_client].account.set_password([new_password])`."
      ]
     },
     "metadata": {},
     "output_type": "display_data"
    },
    {
     "data": {
      "text/html": [
       "<div class=\"alert-info\" style=\"padding:5px;\"><strong>SyftInfo</strong>: <pre class=\"alert-info\" style=\"display:inline; font-family:inherit;\">You have launched a development server at http://0.0.0.0:None.It is intended only for local use.</pre></div><br/>"
      ],
      "text/plain": [
       "SyftInfo: You have launched a development server at http://0.0.0.0:None.It is intended only for local use."
      ]
     },
     "metadata": {},
     "output_type": "display_data"
    },
    {
     "name": "stdout",
     "output_type": "stream",
     "text": [
      "Logged into <fl-datasite-2: High side Datasite> as <info@openmined.org>\n"
     ]
    },
    {
     "data": {
      "text/html": [
       "<div class=\"alert-warning\" style=\"padding:5px;\"><strong>SyftWarning</strong>: <pre class=\"alert-warning\" style=\"display:inline; font-family:inherit;\">You are using a default password. Please change the password using `[your_client].account.set_password([new_password])`.</pre></div><br/>"
      ],
      "text/plain": [
       "SyftWarning: You are using a default password. Please change the password using `[your_client].account.set_password([new_password])`."
      ]
     },
     "metadata": {},
     "output_type": "display_data"
    }
   ],
   "source": [
    "datasites = list()\n",
    "for i in range(3):\n",
    "    server = sy.orchestra.launch(name=\"fl-datasite-\"+str(i), reset=True)\n",
    "    client = server.login(email=\"info@openmined.org\", password=\"changethis\")\n",
    "    datasites.append(client)"
   ]
  },
  {
   "cell_type": "markdown",
   "id": "9e2d0623-8324-4fcf-863d-27ed149b14e1",
   "metadata": {},
   "source": [
    "# Step 2: Split MNIST across datasites"
   ]
  },
  {
   "cell_type": "code",
   "execution_count": 3,
   "id": "455592f8-8af7-4e8e-af61-5319a77ee987",
   "metadata": {},
   "outputs": [],
   "source": [
    "train_images, train_labels, _, _ = mnist()\n",
    "images = [train_images[0:20000], train_images[20000:40000],train_images[40000:60000]]\n",
    "labels = [train_labels[0:20000], train_labels[20000:40000],train_labels[40000:60000]]\n"
   ]
  },
  {
   "cell_type": "code",
   "execution_count": 4,
   "id": "2f3f3330-6ec4-4484-889a-b4be14501ceb",
   "metadata": {},
   "outputs": [
    {
     "name": "stderr",
     "output_type": "stream",
     "text": [
      "Uploading: labels: 100%|\u001b[32m████████████████████████████████████████████████████████████████████\u001b[0m| 2/2 [00:00<00:00,  4.15it/s]\u001b[0m\n",
      "Uploading: labels: 100%|\u001b[32m████████████████████████████████████████████████████████████████████\u001b[0m| 2/2 [00:00<00:00,  4.26it/s]\u001b[0m\n",
      "Uploading: labels: 100%|\u001b[32m████████████████████████████████████████████████████████████████████\u001b[0m| 2/2 [00:00<00:00,  3.89it/s]\u001b[0m\n"
     ]
    }
   ],
   "source": [
    "for i, datasite in enumerate(datasites):\n",
    "    dataset = sy.Dataset(name=\"MNIST Dataset\")\n",
    "    dataset.add_asset(sy.Asset(name=\"images\", data=images[i], mock=0*images[i]))\n",
    "    dataset.add_asset(sy.Asset(name=\"labels\", data=labels[i], mock=0*labels[i]))    \n",
    "    datasites[i].upload_dataset(dataset)"
   ]
  },
  {
   "cell_type": "markdown",
   "id": "9861eeb9-f29b-43c0-83b1-86ff53e022ad",
   "metadata": {},
   "source": [
    "# Create data scientist user accounts"
   ]
  },
  {
   "cell_type": "code",
   "execution_count": 5,
   "id": "502f63ba-1cd7-4942-95c0-bfc9a437561e",
   "metadata": {},
   "outputs": [],
   "source": [
    "for datasite in datasites:\n",
    "    register_result = datasite.register(\n",
    "        name=\"Sheldon Cooper\",\n",
    "        email=\"sheldon@caltech.edu\",\n",
    "        password=\"changethis\",\n",
    "        password_verify=\"changethis\",\n",
    "        institution=\"Caltech\",\n",
    "        website=\"https://www.caltech.edu/\",\n",
    "    )\n"
   ]
  },
  {
   "cell_type": "code",
   "execution_count": null,
   "id": "e410da12-2681-4582-b337-10b149b05d7c",
   "metadata": {},
   "outputs": [],
   "source": []
  },
  {
   "cell_type": "code",
   "execution_count": null,
   "id": "fa20d4c3-a6af-442c-bb0a-e3ff410e9b60",
   "metadata": {},
   "outputs": [],
   "source": []
  },
  {
   "cell_type": "code",
   "execution_count": null,
   "id": "285a3bdb-5e5e-4881-8cac-924844c04fd3",
   "metadata": {},
   "outputs": [],
   "source": []
  }
 ],
 "metadata": {
  "kernelspec": {
   "display_name": "Python 3 (ipykernel)",
   "language": "python",
   "name": "python3"
  },
  "language_info": {
   "codemirror_mode": {
    "name": "ipython",
    "version": 3
   },
   "file_extension": ".py",
   "mimetype": "text/x-python",
   "name": "python",
   "nbconvert_exporter": "python",
   "pygments_lexer": "ipython3",
   "version": "3.10.9"
  }
 },
 "nbformat": 4,
 "nbformat_minor": 5
}
