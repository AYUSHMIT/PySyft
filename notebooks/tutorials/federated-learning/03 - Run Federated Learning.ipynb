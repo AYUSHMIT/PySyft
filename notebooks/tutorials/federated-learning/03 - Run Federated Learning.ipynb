{
 "cells": [
  {
   "cell_type": "markdown",
   "id": "0",
   "metadata": {},
   "source": [
    "# Step 1: Login as External Researcher"
   ]
  },
  {
   "cell_type": "code",
   "execution_count": null,
   "id": "1",
   "metadata": {},
   "outputs": [],
   "source": [
    "# syft absolute\n",
    "import syft as sy\n",
    "\n",
    "datasites = []\n",
    "for i in range(3):\n",
    "    server = sy.orchestra.launch(\n",
    "        name=\"fl-datasite-\" + str(i)\n",
    "    )  # connects to same server\n",
    "    client = server.login(email=\"sheldon@caltech.edu\", password=\"changethis\")\n",
    "    datasites.append(client)"
   ]
  },
  {
   "cell_type": "markdown",
   "id": "2",
   "metadata": {},
   "source": [
    "# Step 2: Train models on all datasites"
   ]
  },
  {
   "cell_type": "code",
   "execution_count": null,
   "id": "3",
   "metadata": {},
   "outputs": [],
   "source": [
    "results = []\n",
    "\n",
    "for dasite in datasites:\n",
    "    print()\n",
    "    print(dasite)\n",
    "    images_ptr = dasite.datasets[\"MNIST Dataset\"].assets[\"images\"]\n",
    "    labels_ptr = dasite.datasets[\"MNIST Dataset\"].assets[\"labels\"]\n",
    "\n",
    "    results.append(\n",
    "        dasite.code.train(mnist_images=images_ptr, mnist_labels=labels_ptr).get_from(\n",
    "            dasite\n",
    "        )\n",
    "    )"
   ]
  },
  {
   "cell_type": "markdown",
   "id": "4",
   "metadata": {},
   "source": [
    "# Step 3: Merge models"
   ]
  },
  {
   "cell_type": "code",
   "execution_count": null,
   "id": "5",
   "metadata": {},
   "outputs": [],
   "source": [
    "# stdlib\n",
    "from collections import OrderedDict\n",
    "from itertools import groupby\n",
    "\n",
    "\n",
    "def ave(d):\n",
    "    _data = sorted([i for b in d for i in b.items()], key=lambda x: x[0])\n",
    "    _d = [(a, [j for _, j in b]) for a, b in groupby(_data, key=lambda x: x[0])]\n",
    "    return OrderedDict(\n",
    "        {a: ave(b) if isinstance(b[0], dict) else sum(b) / float(len(b)) for a, b in _d}\n",
    "    )"
   ]
  },
  {
   "cell_type": "code",
   "execution_count": null,
   "id": "6",
   "metadata": {},
   "outputs": [],
   "source": [
    "models_weights = [(lambda x: x[1])(x) for x in results]"
   ]
  },
  {
   "cell_type": "code",
   "execution_count": null,
   "id": "7",
   "metadata": {},
   "outputs": [],
   "source": [
    "new_model_weights = ave(models_weights)"
   ]
  },
  {
   "cell_type": "code",
   "execution_count": null,
   "id": "8",
   "metadata": {},
   "outputs": [],
   "source": [
    "# third party\n",
    "import torch\n",
    "from torch import nn\n",
    "\n",
    "# Define the neural network class\n",
    "\n",
    "\n",
    "class MLP(nn.Module):\n",
    "    def __init__(self):\n",
    "        super().__init__()\n",
    "        self.fc1 = nn.Linear(784, 10)\n",
    "\n",
    "    def forward(self, x):\n",
    "        x = torch.log_softmax(self.fc1(x.view(-1, 784)), dim=1)\n",
    "        return x"
   ]
  },
  {
   "cell_type": "code",
   "execution_count": null,
   "id": "9",
   "metadata": {},
   "outputs": [],
   "source": [
    "new_model = MLP()\n",
    "new_model.load_state_dict(new_model_weights)"
   ]
  },
  {
   "cell_type": "code",
   "execution_count": null,
   "id": "10",
   "metadata": {},
   "outputs": [],
   "source": []
  }
 ],
 "metadata": {
  "kernelspec": {
   "display_name": "Python 3 (ipykernel)",
   "language": "python",
   "name": "python3"
  },
  "language_info": {
   "codemirror_mode": {
    "name": "ipython",
    "version": 3
   },
   "file_extension": ".py",
   "mimetype": "text/x-python",
   "name": "python",
   "nbconvert_exporter": "python",
   "pygments_lexer": "ipython3",
   "version": "3.10.9"
  }
 },
 "nbformat": 4,
 "nbformat_minor": 5
}
