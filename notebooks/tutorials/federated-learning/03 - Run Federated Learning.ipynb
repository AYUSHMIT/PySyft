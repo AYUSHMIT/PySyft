{
 "cells": [
  {
   "cell_type": "markdown",
   "id": "b2e0dacb-7dfc-42b4-8a7b-30a087c2db2e",
   "metadata": {},
   "source": [
    "# Step 1: Login as External Researcher"
   ]
  },
  {
   "cell_type": "code",
   "execution_count": 1,
   "id": "4ef3a306-f6f8-46cd-8646-84702ac77336",
   "metadata": {},
   "outputs": [
    {
     "data": {
      "text/html": [
       "<div class=\"alert-info\" style=\"padding:5px;\"><strong>SyftInfo</strong>: <pre class=\"alert-info\" style=\"display:inline; font-family:inherit;\">You have launched a development server at http://0.0.0.0:None.It is intended only for local use.</pre></div><br/>"
      ],
      "text/plain": [
       "SyftInfo: You have launched a development server at http://0.0.0.0:None.It is intended only for local use."
      ]
     },
     "metadata": {},
     "output_type": "display_data"
    },
    {
     "name": "stdout",
     "output_type": "stream",
     "text": [
      "Logged into <fl-datasite-0: High side Datasite> as <sheldon@caltech.edu>\n"
     ]
    },
    {
     "data": {
      "text/html": [
       "<div class=\"alert-warning\" style=\"padding:5px;\"><strong>SyftWarning</strong>: <pre class=\"alert-warning\" style=\"display:inline; font-family:inherit;\">You are using a default password. Please change the password using `[your_client].account.set_password([new_password])`.</pre></div><br/>"
      ],
      "text/plain": [
       "SyftWarning: You are using a default password. Please change the password using `[your_client].account.set_password([new_password])`."
      ]
     },
     "metadata": {},
     "output_type": "display_data"
    },
    {
     "data": {
      "text/html": [
       "<div class=\"alert-info\" style=\"padding:5px;\"><strong>SyftInfo</strong>: <pre class=\"alert-info\" style=\"display:inline; font-family:inherit;\">You have launched a development server at http://0.0.0.0:None.It is intended only for local use.</pre></div><br/>"
      ],
      "text/plain": [
       "SyftInfo: You have launched a development server at http://0.0.0.0:None.It is intended only for local use."
      ]
     },
     "metadata": {},
     "output_type": "display_data"
    },
    {
     "name": "stdout",
     "output_type": "stream",
     "text": [
      "Logged into <fl-datasite-1: High side Datasite> as <sheldon@caltech.edu>\n"
     ]
    },
    {
     "data": {
      "text/html": [
       "<div class=\"alert-warning\" style=\"padding:5px;\"><strong>SyftWarning</strong>: <pre class=\"alert-warning\" style=\"display:inline; font-family:inherit;\">You are using a default password. Please change the password using `[your_client].account.set_password([new_password])`.</pre></div><br/>"
      ],
      "text/plain": [
       "SyftWarning: You are using a default password. Please change the password using `[your_client].account.set_password([new_password])`."
      ]
     },
     "metadata": {},
     "output_type": "display_data"
    },
    {
     "data": {
      "text/html": [
       "<div class=\"alert-info\" style=\"padding:5px;\"><strong>SyftInfo</strong>: <pre class=\"alert-info\" style=\"display:inline; font-family:inherit;\">You have launched a development server at http://0.0.0.0:None.It is intended only for local use.</pre></div><br/>"
      ],
      "text/plain": [
       "SyftInfo: You have launched a development server at http://0.0.0.0:None.It is intended only for local use."
      ]
     },
     "metadata": {},
     "output_type": "display_data"
    },
    {
     "name": "stdout",
     "output_type": "stream",
     "text": [
      "Logged into <fl-datasite-2: High side Datasite> as <sheldon@caltech.edu>\n"
     ]
    },
    {
     "data": {
      "text/html": [
       "<div class=\"alert-warning\" style=\"padding:5px;\"><strong>SyftWarning</strong>: <pre class=\"alert-warning\" style=\"display:inline; font-family:inherit;\">You are using a default password. Please change the password using `[your_client].account.set_password([new_password])`.</pre></div><br/>"
      ],
      "text/plain": [
       "SyftWarning: You are using a default password. Please change the password using `[your_client].account.set_password([new_password])`."
      ]
     },
     "metadata": {},
     "output_type": "display_data"
    }
   ],
   "source": [
    "import syft as sy\n",
    "\n",
    "datasites = list()\n",
    "for i in range(3):\n",
    "    server = sy.orchestra.launch(name=\"fl-datasite-\"+str(i)) # connects to same server\n",
    "    client = server.login(email=\"sheldon@caltech.edu\", password=\"changethis\")\n",
    "    datasites.append(client)"
   ]
  },
  {
   "cell_type": "markdown",
   "id": "00fb6bcf-8587-43f1-a3ea-1f15cdceb2af",
   "metadata": {},
   "source": [
    "# Step 2: Train models on all datasites"
   ]
  },
  {
   "cell_type": "code",
   "execution_count": 36,
   "id": "1838fb85-4a73-462d-b6b7-bb9a4f4b0e92",
   "metadata": {},
   "outputs": [
    {
     "name": "stdout",
     "output_type": "stream",
     "text": [
      "\n",
      "<DatasiteClient: fl-datasite-0>\n"
     ]
    },
    {
     "data": {
      "text/html": [
       "<div class=\"alert-warning\" style=\"padding:5px;\"><strong>SyftWarning</strong>: <pre class=\"alert-warning\" style=\"display:inline; font-family:inherit;\">Policy is no longer valid. count: 1 &gt;= limit: 1. Loading results from cache.</pre></div><br/>"
      ],
      "text/plain": [
       "SyftWarning: Policy is no longer valid. count: 1 >= limit: 1. Loading results from cache."
      ]
     },
     "metadata": {},
     "output_type": "display_data"
    },
    {
     "name": "stdout",
     "output_type": "stream",
     "text": [
      "\n",
      "<DatasiteClient: fl-datasite-1>\n"
     ]
    },
    {
     "data": {
      "text/html": [
       "<div class=\"alert-warning\" style=\"padding:5px;\"><strong>SyftWarning</strong>: <pre class=\"alert-warning\" style=\"display:inline; font-family:inherit;\">Policy is no longer valid. count: 1 &gt;= limit: 1. Loading results from cache.</pre></div><br/>"
      ],
      "text/plain": [
       "SyftWarning: Policy is no longer valid. count: 1 >= limit: 1. Loading results from cache."
      ]
     },
     "metadata": {},
     "output_type": "display_data"
    },
    {
     "name": "stdout",
     "output_type": "stream",
     "text": [
      "\n",
      "<DatasiteClient: fl-datasite-2>\n"
     ]
    },
    {
     "data": {
      "text/html": [
       "<div class=\"alert-warning\" style=\"padding:5px;\"><strong>SyftWarning</strong>: <pre class=\"alert-warning\" style=\"display:inline; font-family:inherit;\">Policy is no longer valid. count: 1 &gt;= limit: 1. Loading results from cache.</pre></div><br/>"
      ],
      "text/plain": [
       "SyftWarning: Policy is no longer valid. count: 1 >= limit: 1. Loading results from cache."
      ]
     },
     "metadata": {},
     "output_type": "display_data"
    }
   ],
   "source": [
    "results = list()\n",
    "\n",
    "for dasite in datasites:\n",
    "    print()\n",
    "    print(dasite)\n",
    "    images_ptr = dasite.datasets['MNIST Dataset'].assets['images']\n",
    "    labels_ptr = dasite.datasets['MNIST Dataset'].assets['labels']\n",
    "    \n",
    "    results.append(dasite.code.train(mnist_images=images_ptr, \n",
    "                                     mnist_labels=labels_ptr).get_from(dasite))"
   ]
  },
  {
   "cell_type": "markdown",
   "id": "958e5514-209f-450e-9b89-fb46922c13b6",
   "metadata": {},
   "source": [
    "# Step 3: Merge models"
   ]
  },
  {
   "cell_type": "code",
   "execution_count": 55,
   "id": "3359ac77-b582-4ac9-94b3-d7b756b1ef07",
   "metadata": {},
   "outputs": [],
   "source": [
    "from itertools import groupby\n",
    "from collections import OrderedDict\n",
    "\n",
    "def ave(d):\n",
    "    _data = sorted([i for b in d for i in b.items()], key=lambda x:x[0])\n",
    "    _d = [(a, [j for _, j in b]) for a, b in groupby(_data, key=lambda x:x[0])]\n",
    "    return OrderedDict({a:ave(b) if isinstance(b[0], dict) else sum(b)/float(len(b)) for a, b in _d})\n"
   ]
  },
  {
   "cell_type": "code",
   "execution_count": 59,
   "id": "30fc8abb-0494-4857-83a2-e6eaea3a1625",
   "metadata": {},
   "outputs": [],
   "source": [
    "models_weights = list(map(lambda x:x[1], results))"
   ]
  },
  {
   "cell_type": "code",
   "execution_count": 60,
   "id": "e65a0050-6e4f-4f25-be26-3835a862eca7",
   "metadata": {},
   "outputs": [],
   "source": [
    "new_model_weights = ave(models_weights)"
   ]
  },
  {
   "cell_type": "code",
   "execution_count": 63,
   "id": "91abef0b-af16-4481-a449-c50c9922c179",
   "metadata": {},
   "outputs": [],
   "source": [
    "import torch as torch\n",
    "from torch import nn\n",
    "# Define the neural network class\n",
    "class MLP(nn.Module):\n",
    "    def __init__(self):\n",
    "        super().__init__()\n",
    "        self.fc1 = nn.Linear(784, 10)\n",
    "\n",
    "    def forward(self, x):\n",
    "        x = torch.log_softmax(self.fc1(x.view(-1, 784)), dim=1)\n",
    "        return x"
   ]
  },
  {
   "cell_type": "code",
   "execution_count": 70,
   "id": "9c467d7e-fe2a-4f2d-8fbf-73e593b77fd8",
   "metadata": {},
   "outputs": [
    {
     "data": {
      "text/plain": [
       "<All keys matched successfully>"
      ]
     },
     "execution_count": 70,
     "metadata": {},
     "output_type": "execute_result"
    }
   ],
   "source": [
    "new_model = MLP()\n",
    "new_model.load_state_dict(new_model_weights)"
   ]
  },
  {
   "cell_type": "code",
   "execution_count": null,
   "id": "089ecfaf-ab2f-4c8e-8909-6085dea18f9a",
   "metadata": {},
   "outputs": [],
   "source": []
  }
 ],
 "metadata": {
  "kernelspec": {
   "display_name": "Python 3 (ipykernel)",
   "language": "python",
   "name": "python3"
  },
  "language_info": {
   "codemirror_mode": {
    "name": "ipython",
    "version": 3
   },
   "file_extension": ".py",
   "mimetype": "text/x-python",
   "name": "python",
   "nbconvert_exporter": "python",
   "pygments_lexer": "ipython3",
   "version": "3.10.9"
  }
 },
 "nbformat": 4,
 "nbformat_minor": 5
}
