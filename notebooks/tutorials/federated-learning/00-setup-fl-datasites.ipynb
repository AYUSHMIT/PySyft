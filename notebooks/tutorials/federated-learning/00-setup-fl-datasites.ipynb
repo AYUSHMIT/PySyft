{
 "cells": [
  {
   "cell_type": "markdown",
   "id": "0",
   "metadata": {},
   "source": [
    "# Step 1: Launch some datasite servers"
   ]
  },
  {
   "cell_type": "code",
   "execution_count": null,
   "id": "1",
   "metadata": {},
   "outputs": [],
   "source": [
    "# third party\n",
    "from mnist_dataset import mnist\n",
    "\n",
    "# syft absolute\n",
    "import syft as sy"
   ]
  },
  {
   "cell_type": "code",
   "execution_count": null,
   "id": "2",
   "metadata": {},
   "outputs": [],
   "source": [
    "datasites = []\n",
    "for i in range(3):\n",
    "    server = sy.orchestra.launch(name=\"fl-datasite-\" + str(i), reset=True)\n",
    "    client = server.login(email=\"info@openmined.org\", password=\"changethis\")\n",
    "    datasites.append(client)"
   ]
  },
  {
   "cell_type": "markdown",
   "id": "3",
   "metadata": {},
   "source": [
    "# Step 2: Split MNIST across datasites"
   ]
  },
  {
   "cell_type": "code",
   "execution_count": null,
   "id": "4",
   "metadata": {},
   "outputs": [],
   "source": [
    "train_images, train_labels, _, _ = mnist()\n",
    "images = [train_images[0:20000], train_images[20000:40000], train_images[40000:60000]]\n",
    "labels = [train_labels[0:20000], train_labels[20000:40000], train_labels[40000:60000]]"
   ]
  },
  {
   "cell_type": "code",
   "execution_count": null,
   "id": "5",
   "metadata": {},
   "outputs": [],
   "source": [
    "for i, datasite in enumerate(datasites):\n",
    "    dataset = sy.Dataset(name=\"MNIST Dataset\")\n",
    "    dataset.add_asset(sy.Asset(name=\"images\", data=images[i], mock=0 * images[i]))\n",
    "    dataset.add_asset(sy.Asset(name=\"labels\", data=labels[i], mock=0 * labels[i]))\n",
    "    datasite.upload_dataset(dataset)"
   ]
  },
  {
   "cell_type": "markdown",
   "id": "6",
   "metadata": {},
   "source": [
    "# Create data scientist user accounts"
   ]
  },
  {
   "cell_type": "code",
   "execution_count": null,
   "id": "7",
   "metadata": {},
   "outputs": [],
   "source": [
    "for datasite in datasites:\n",
    "    register_result = datasite.register(\n",
    "        name=\"Sheldon Cooper\",\n",
    "        email=\"sheldon@caltech.edu\",\n",
    "        password=\"changethis\",\n",
    "        password_verify=\"changethis\",\n",
    "        institution=\"Caltech\",\n",
    "        website=\"https://www.caltech.edu/\",\n",
    "    )"
   ]
  },
  {
   "cell_type": "code",
   "execution_count": null,
   "id": "8",
   "metadata": {},
   "outputs": [],
   "source": []
  },
  {
   "cell_type": "code",
   "execution_count": null,
   "id": "9",
   "metadata": {},
   "outputs": [],
   "source": []
  },
  {
   "cell_type": "code",
   "execution_count": null,
   "id": "10",
   "metadata": {},
   "outputs": [],
   "source": []
  }
 ],
 "metadata": {
  "kernelspec": {
   "display_name": "Python 3 (ipykernel)",
   "language": "python",
   "name": "python3"
  },
  "language_info": {
   "codemirror_mode": {
    "name": "ipython",
    "version": 3
   },
   "file_extension": ".py",
   "mimetype": "text/x-python",
   "name": "python",
   "nbconvert_exporter": "python",
   "pygments_lexer": "ipython3",
   "version": "3.10.9"
  }
 },
 "nbformat": 4,
 "nbformat_minor": 5
}
