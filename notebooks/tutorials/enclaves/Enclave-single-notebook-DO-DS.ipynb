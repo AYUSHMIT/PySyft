{
 "cells": [
  {
   "cell_type": "code",
   "execution_count": null,
   "id": "91683cd6",
   "metadata": {},
   "outputs": [],
   "source": [
    "import syft as sy\n",
    "import recordlinkage\n",
    "from recordlinkage.datasets import load_febrl4"
   ]
  },
  {
   "cell_type": "markdown",
   "id": "f1c3f6fa",
   "metadata": {},
   "source": [
    "# Create Nodes"
   ]
  },
  {
   "cell_type": "markdown",
   "id": "fbe5d34d",
   "metadata": {},
   "source": [
    "create enclave node"
   ]
  },
  {
   "cell_type": "code",
   "execution_count": null,
   "id": "b5571623",
   "metadata": {},
   "outputs": [],
   "source": [
    "#Local Python Mode\n",
    "enclave_node = sy.orchestra.launch(name=\"enclave node\",node_type=\"enclave\", reset=True)\n",
    "# Local Python  Server Mode\n",
    "# enclave_node = sy.orchestra.launch(name=\"enclave node\",node_type=\"enclave\", port=\"auto\", reset=True)"
   ]
  },
  {
   "cell_type": "markdown",
   "id": "9e8061f3",
   "metadata": {},
   "source": [
    "Create canada node & italy node"
   ]
  },
  {
   "cell_type": "code",
   "execution_count": null,
   "id": "dfbe2887",
   "metadata": {},
   "outputs": [],
   "source": [
    "ca_node = sy.Orchestra.launch(name=\"canada\", local_db=True, reset=True)\n",
    "it_node = sy.Orchestra.launch(name=\"italy\", local_db=True, reset=True) "
   ]
  },
  {
   "cell_type": "markdown",
   "id": "6bcfc534",
   "metadata": {},
   "source": [
    "# DOs"
   ]
  },
  {
   "cell_type": "code",
   "execution_count": null,
   "id": "304ddb77",
   "metadata": {},
   "outputs": [],
   "source": [
    "do_ca_client = ca_node.login(email=\"info@openmined.org\", password=\"changethis\")\n",
    "do_it_client = it_node.login(email=\"info@openmined.org\", password=\"changethis\")"
   ]
  },
  {
   "cell_type": "markdown",
   "id": "7067e897",
   "metadata": {},
   "source": [
    "## Upload dataset"
   ]
  },
  {
   "cell_type": "code",
   "execution_count": null,
   "id": "79e4c728",
   "metadata": {},
   "outputs": [],
   "source": [
    "# Using public datasets from  Freely Extensible Biomedical Record Linkage (Febrl)\n",
    "canada_census_data, italy_census_data = load_febrl4()"
   ]
  },
  {
   "cell_type": "code",
   "execution_count": null,
   "id": "531e841c",
   "metadata": {},
   "outputs": [],
   "source": [
    "for (dataset, client, country) in zip([canada_census_data, italy_census_data], [do_ca_client, do_it_client], [\"Canada\", \"Italy\"]):\n",
    "    private_data, mock_data = dataset[:2500] , dataset[2500:]\n",
    "    dataset = sy.Dataset(\n",
    "        name=f\"{country} - FEBrl Census Data\",\n",
    "        description=\"abc\",\n",
    "        asset_list=[\n",
    "            sy.Asset(\n",
    "                name=\"census_data\",\n",
    "                mock=mock_data,\n",
    "                data=private_data,\n",
    "                shape=private_data.shape,\n",
    "                mock_is_real=True\n",
    "            )\n",
    "        ]\n",
    "    )\n",
    "    client.upload_dataset(dataset)\n",
    "    "
   ]
  },
  {
   "cell_type": "markdown",
   "id": "b851388f",
   "metadata": {},
   "source": [
    "## create accounts for DS"
   ]
  },
  {
   "cell_type": "code",
   "execution_count": null,
   "id": "068d7f74",
   "metadata": {},
   "outputs": [],
   "source": [
    "for client in [do_ca_client, do_it_client]:\n",
    "    client.register(\n",
    "        name = \"Sheldon\",\n",
    "        email = \"sheldon@caltech.edu\",\n",
    "        password = \"changethis\"\n",
    "    )"
   ]
  },
  {
   "cell_type": "markdown",
   "id": "17e97ac0",
   "metadata": {},
   "source": [
    "# DS"
   ]
  },
  {
   "cell_type": "markdown",
   "id": "09b4995b",
   "metadata": {},
   "source": [
    "## Login"
   ]
  },
  {
   "cell_type": "code",
   "execution_count": null,
   "id": "83d4b542",
   "metadata": {},
   "outputs": [],
   "source": [
    "ds_client = enclave_node.login(name=\"Sheldon\", email=\"sheldon@caltech.edu\", password=\"changethis\", register=True)"
   ]
  },
  {
   "cell_type": "code",
   "execution_count": null,
   "id": "2c67cb91",
   "metadata": {},
   "outputs": [],
   "source": [
    "ds_client_it = it_node.login(email=\"sheldon@caltech.edu\" , password=\"changethis\")"
   ]
  },
  {
   "cell_type": "code",
   "execution_count": null,
   "id": "522d2144",
   "metadata": {},
   "outputs": [],
   "source": [
    "ds_client_ca = ca_node.login(email=\"sheldon@caltech.edu\" , password=\"changethis\")"
   ]
  },
  {
   "cell_type": "markdown",
   "id": "016cbcc3",
   "metadata": {},
   "source": [
    "## Find datasets"
   ]
  },
  {
   "cell_type": "code",
   "execution_count": null,
   "id": "af85a8b4",
   "metadata": {},
   "outputs": [],
   "source": [
    "canada_census_data = ds_client_ca.datasets[-1].assets[0]\n",
    "italy_census_data = ds_client_it.datasets[-1].assets[0]"
   ]
  },
  {
   "cell_type": "markdown",
   "id": "5b3045b0",
   "metadata": {},
   "source": [
    "## Create Request"
   ]
  },
  {
   "cell_type": "code",
   "execution_count": null,
   "id": "919eb56a",
   "metadata": {},
   "outputs": [],
   "source": [
    "@sy.syft_function_single_use(canada_census_data=canada_census_data, italy_census_data=italy_census_data)\n",
    "def compute_census_matches(canada_census_data, italy_census_data):\n",
    "    import recordlinkage\n",
    "        \n",
    "    # Index step\n",
    "    indexer = recordlinkage.Index()\n",
    "    indexer.block(\"given_name\")\n",
    "\n",
    "    candidate_links = indexer.index(canada_census_data, italy_census_data)\n",
    "\n",
    "    # Comparison step\n",
    "    compare_cl = recordlinkage.Compare()\n",
    "\n",
    "    compare_cl.exact(\"given_name\", \"given_name\", label=\"given_name\")\n",
    "    compare_cl.string(\"surname\", \"surname\", method=\"jarowinkler\", threshold=0.85, label=\"surname\")\n",
    "    compare_cl.exact(\"date_of_birth\", \"date_of_birth\", label=\"date_of_birth\")\n",
    "    compare_cl.exact(\"suburb\", \"suburb\", label=\"suburb\")\n",
    "    compare_cl.exact(\"state\", \"state\", label=\"state\")\n",
    "    compare_cl.string(\"address_1\", \"address_1\", threshold=0.85, label=\"address_1\")\n",
    "\n",
    "    features = compare_cl.compute(candidate_links, canada_census_data, italy_census_data)\n",
    "\n",
    "    # Classification step\n",
    "    matches = features[features.sum(axis=1) > 3]\n",
    "    \n",
    "    return len(matches)\n",
    "    "
   ]
  },
  {
   "cell_type": "code",
   "execution_count": null,
   "id": "abeddba5",
   "metadata": {},
   "outputs": [],
   "source": [
    "#Checking result of mock data execution\n",
    "mock_result = compute_census_matches(\n",
    "                       canada_census_data=canada_census_data.mock,\n",
    "                       italy_census_data=italy_census_data.mock\n",
    "                    )\n",
    "mock_result"
   ]
  },
  {
   "cell_type": "code",
   "execution_count": null,
   "id": "8a6fa111",
   "metadata": {},
   "outputs": [],
   "source": [
    "ds_client.request_code_execution(compute_census_matches)"
   ]
  },
  {
   "cell_type": "markdown",
   "id": "8bfb6139",
   "metadata": {},
   "source": [
    "# DOs"
   ]
  },
  {
   "cell_type": "markdown",
   "id": "706b3223",
   "metadata": {},
   "source": [
    "## Approve"
   ]
  },
  {
   "cell_type": "code",
   "execution_count": null,
   "id": "e3e45124",
   "metadata": {},
   "outputs": [],
   "source": [
    "for client in [do_ca_client, do_it_client]:\n",
    "    client.requests[-1].approve()"
   ]
  },
  {
   "cell_type": "markdown",
   "id": "bdaedcc7",
   "metadata": {},
   "source": [
    "# DS"
   ]
  },
  {
   "cell_type": "markdown",
   "id": "2307e68c",
   "metadata": {},
   "source": [
    "##  Get result"
   ]
  },
  {
   "cell_type": "code",
   "execution_count": null,
   "id": "efaf4407",
   "metadata": {},
   "outputs": [],
   "source": [
    "ds_client.code.get_all()[-1].status"
   ]
  },
  {
   "cell_type": "code",
   "execution_count": null,
   "id": "06d83903",
   "metadata": {},
   "outputs": [],
   "source": [
    "result_pointer = ds_client.code.compute_census_matches(\n",
    "    canada_census_data=canada_census_data,\n",
    "    italy_census_data=italy_census_data\n",
    ")"
   ]
  },
  {
   "cell_type": "code",
   "execution_count": null,
   "id": "eaaab19e",
   "metadata": {},
   "outputs": [],
   "source": [
    "result_pointer"
   ]
  },
  {
   "cell_type": "code",
   "execution_count": null,
   "id": "0792791e",
   "metadata": {},
   "outputs": [],
   "source": [
    "real_result = result_pointer.get()\n",
    "real_result"
   ]
  },
  {
   "cell_type": "code",
   "execution_count": null,
   "id": "5c6adc30",
   "metadata": {},
   "outputs": [],
   "source": []
  }
 ],
 "metadata": {
  "kernelspec": {
   "display_name": "Python 3 (ipykernel)",
   "language": "python",
   "name": "python3"
  },
  "language_info": {
   "codemirror_mode": {
    "name": "ipython",
    "version": 3
   },
   "file_extension": ".py",
   "mimetype": "text/x-python",
   "name": "python",
   "nbconvert_exporter": "python",
   "pygments_lexer": "ipython3",
   "version": "3.9.16"
  },
  "toc": {
   "base_numbering": 1,
   "nav_menu": {},
   "number_sections": true,
   "sideBar": true,
   "skip_h1_title": false,
   "title_cell": "Table of Contents",
   "title_sidebar": "Contents",
   "toc_cell": false,
   "toc_position": {
    "height": "calc(100% - 180px)",
    "left": "10px",
    "top": "150px",
    "width": "358.398px"
   },
   "toc_section_display": true,
   "toc_window_display": true
  }
 },
 "nbformat": 4,
 "nbformat_minor": 5
}
