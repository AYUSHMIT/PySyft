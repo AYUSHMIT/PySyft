{
 "cells": [
  {
   "cell_type": "code",
   "execution_count": 1,
   "id": "107f1473-4451-4499-8e28-105b29da3373",
   "metadata": {},
   "outputs": [],
   "source": [
    "# stdlib\n",
    "import os\n",
    "\n",
    "os.environ[\"SYFT_SEARCH_UNREGISTERED_CLASSES\"] = \"1\""
   ]
  },
  {
   "cell_type": "code",
   "execution_count": 2,
   "id": "50d4a32c-d7c3-4abb-8814-1bb39eb557b2",
   "metadata": {},
   "outputs": [],
   "source": [
    "# stdlib\n",
    "\n",
    "# syft absolute\n",
    "from syft.serde.recursive import SYFT_CLASSES_MISSING_CANONICAL_NAME\n",
    "from syft.types.syft_object_registry import SyftObjectRegistry"
   ]
  },
  {
   "cell_type": "code",
   "execution_count": 5,
   "id": "e4cfba28-f0c1-4289-aae4-a13ba4ce6004",
   "metadata": {
    "scrolled": true
   },
   "outputs": [
    {
     "data": {
      "text/plain": [
       "(True,\n",
       " <function syft.serde.recursive_primitives.serialize_kv(map: collections.abc.Mapping) -> bytes>,\n",
       " functools.partial(<function deserialize_kv at 0x16d80a4d0>, <class 'dict'>),\n",
       " None,\n",
       " [],\n",
       " {},\n",
       " [],\n",
       " dict,\n",
       " None,\n",
       " 1)"
      ]
     },
     "execution_count": 5,
     "metadata": {},
     "output_type": "execute_result"
    }
   ],
   "source": [
    "SyftObjectRegistry.__object_serialization_registry__[\"dict\"][1]"
   ]
  },
  {
   "cell_type": "code",
   "execution_count": 4,
   "id": "51eca6cc-8d29-4148-8a85-f6ed23a016b3",
   "metadata": {
    "scrolled": true
   },
   "outputs": [],
   "source": [
    "existing_cnames = SyftObjectRegistry.__object_serialization_registry__.keys()"
   ]
  },
  {
   "cell_type": "code",
   "execution_count": 5,
   "id": "ef1f89af-40c1-4a47-a003-ff1b9691d9d4",
   "metadata": {},
   "outputs": [],
   "source": [
    "# stdlib\n",
    "import ast\n",
    "import inspect\n",
    "\n",
    "\n",
    "class DecoratorFinder(ast.NodeVisitor):\n",
    "    def __init__(self, class_name: str, decorator_name: str):\n",
    "        self.class_name = class_name\n",
    "        self.decorator_name = decorator_name\n",
    "        self.decorator: ast.Call | None = None\n",
    "\n",
    "    def visit_ClassDef(self, node: ast.ClassDef) -> None:\n",
    "        if node.name == self.class_name:\n",
    "            for decorator in node.decorator_list:\n",
    "                if (\n",
    "                    isinstance(decorator, ast.Call)\n",
    "                    and getattr(decorator.func, \"id\", None) == self.decorator_name\n",
    "                ):\n",
    "                    self.decorator = decorator\n",
    "        self.generic_visit(node)\n",
    "\n",
    "\n",
    "def get_class_file_path(cls: type) -> str:\n",
    "    return inspect.getfile(cls)\n",
    "\n",
    "\n",
    "def get_decorator_with_lines(\n",
    "    file_path: str, class_name: str, decorator_name: str\n",
    ") -> tuple[ast.Call | None, int | None, int | None]:\n",
    "    with open(file_path) as source:\n",
    "        tree = ast.parse(source.read())\n",
    "\n",
    "    finder = DecoratorFinder(class_name, decorator_name)\n",
    "    finder.visit(tree)\n",
    "\n",
    "    if finder.decorator:\n",
    "        start_line = finder.decorator.lineno - 1\n",
    "        end_line = (\n",
    "            finder.decorator.end_lineno\n",
    "            if hasattr(finder.decorator, \"end_lineno\")\n",
    "            else finder.decorator.lineno\n",
    "        )\n",
    "        return finder.decorator, start_line, end_line\n",
    "    return None, None, None"
   ]
  },
  {
   "cell_type": "code",
   "execution_count": 6,
   "id": "ef8eef16-c182-475d-b105-d1fe7778a2fd",
   "metadata": {},
   "outputs": [],
   "source": [
    "def add_canonical_name_version(decorator: ast.Call, class_name: str) -> ast.Call:\n",
    "    new_decorator = decorator\n",
    "\n",
    "    canonical_name_exists = any(\n",
    "        kw.arg == \"canonical_name\" for kw in new_decorator.keywords\n",
    "    )\n",
    "    version_exists = any(kw.arg == \"version\" for kw in new_decorator.keywords)\n",
    "\n",
    "    if not canonical_name_exists:\n",
    "        new_decorator.keywords.append(\n",
    "            ast.keyword(arg=\"canonical_name\", value=ast.Constant(value=class_name))\n",
    "        )\n",
    "    if not version_exists:\n",
    "        new_decorator.keywords.append(\n",
    "            ast.keyword(arg=\"version\", value=ast.Constant(value=1))\n",
    "        )\n",
    "\n",
    "    return ast.copy_location(new_decorator, decorator)"
   ]
  },
  {
   "cell_type": "code",
   "execution_count": 7,
   "id": "51ab50fe-37c6-41a4-b1c2-549036727f0d",
   "metadata": {},
   "outputs": [],
   "source": [
    "def update_decorator_for_cls(\n",
    "    cls: type, existing_canonical_names: list[str]\n",
    ") -> str | None:\n",
    "    file_path = inspect.getfile(cls)\n",
    "    class_name = cls.__name__\n",
    "\n",
    "    decorator, start_line, end_line = get_decorator_with_lines(\n",
    "        file_path, class_name, \"serializable\"\n",
    "    )\n",
    "\n",
    "    if decorator is None:\n",
    "        print(\n",
    "            f\"{cls.__module__}: Could not find decorator for class {class_name}. Did not update canonical name.\"\n",
    "        )\n",
    "        return None\n",
    "    if start_line is None or end_line is None:\n",
    "        print(\n",
    "            f\"{cls.__module__}: No start/end lines for decorator in class {class_name}. Did not update canonical name.\"\n",
    "        )\n",
    "        return None\n",
    "\n",
    "    if class_name in existing_canonical_names:\n",
    "        print(\n",
    "            f\"{cls.__module__}: {class_name} is already a registered canonical name. Did not update canonical name.\"\n",
    "        )\n",
    "        return None\n",
    "\n",
    "    new_decorator = add_canonical_name_version(decorator, class_name)\n",
    "    new_decorator_code = ast.unparse(new_decorator).split(\"\\n\")\n",
    "    new_decorator_code[0] = \"@\" + new_decorator_code[0]\n",
    "\n",
    "    with open(file_path) as file:\n",
    "        lines = file.readlines()\n",
    "\n",
    "    lines[start_line:end_line] = [line + \"\\n\" for line in new_decorator_code]\n",
    "\n",
    "    with open(file_path, \"w\") as file:\n",
    "        file.writelines(lines)\n",
    "\n",
    "    print(f\"Updated {cls.__module__}.{cls.__name__}\")\n",
    "    return class_name"
   ]
  },
  {
   "cell_type": "code",
   "execution_count": 8,
   "id": "158c4044-6f79-49f1-abd3-cbf336883afc",
   "metadata": {},
   "outputs": [
    {
     "name": "stdout",
     "output_type": "stream",
     "text": [
      "Updated syft.service.network.utils.PeerHealthCheckTask\n"
     ]
    }
   ],
   "source": [
    "existing_cnames = list(existing_cnames)\n",
    "\n",
    "for cls in SYFT_CLASSES_MISSING_CANONICAL_NAME:\n",
    "    new_name = update_decorator_for_cls(cls, existing_cnames)\n",
    "    if new_name:\n",
    "        existing_cnames.append(new_name)"
   ]
  },
  {
   "cell_type": "code",
   "execution_count": 5,
   "id": "b383658c-63dc-401a-b8e5-4a051624b3b5",
   "metadata": {},
   "outputs": [],
   "source": [
    "os.environ[\"SYFT_SEARCH_UNREGISTERED_CLASSES\"] = \"\""
   ]
  },
  {
   "cell_type": "code",
   "execution_count": null,
   "id": "1a0d4ada-50e1-4bab-a6da-bd38d82a7cdd",
   "metadata": {},
   "outputs": [],
   "source": []
  }
 ],
 "metadata": {
  "kernelspec": {
   "display_name": "Python 3 (ipykernel)",
   "language": "python",
   "name": "python3"
  },
  "language_info": {
   "codemirror_mode": {
    "name": "ipython",
    "version": 3
   },
   "file_extension": ".py",
   "mimetype": "text/x-python",
   "name": "python",
   "nbconvert_exporter": "python",
   "pygments_lexer": "ipython3",
   "version": "3.10.13"
  }
 },
 "nbformat": 4,
 "nbformat_minor": 5
}
