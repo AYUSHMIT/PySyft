{
 "cells": [
  {
   "cell_type": "code",
   "execution_count": 1,
   "metadata": {},
   "outputs": [
    {
     "name": "stderr",
     "output_type": "stream",
     "text": [
      "/home/teo/anaconda3/envs/PySyft/lib/python3.10/site-packages/scipy/__init__.py:146: UserWarning: A NumPy version >=1.16.5 and <1.23.0 is required for this version of SciPy (detected version 1.24.2\n",
      "  warnings.warn(f\"A NumPy version >={np_minversion} and <{np_maxversion}\"\n",
      "kj/filesystem-disk-unix.c++:1703: warning: PWD environment variable doesn't match current directory; pwd = /home/teo\n"
     ]
    }
   ],
   "source": [
    "import syft as sy\n",
    "import numpy as np\n",
    "from syft.core.node.worker import Worker\n",
    "from syft.core.node.new.user_code import SubmitUserCode\n",
    "from syft.core.node.new.policy import SubmitUserPolicy"
   ]
  },
  {
   "cell_type": "code",
   "execution_count": 2,
   "metadata": {},
   "outputs": [
    {
     "name": "stdout",
     "output_type": "stream",
     "text": [
      "> Starting Worker: Priceless Altman - 21ca746bca994631a8efc1dc13435957 - NodeType.DOMAIN - [<class 'syft.core.node.new.user_service.UserService'>, <class 'syft.core.node.new.metadata_service.MetadataService'>, <class 'syft.core.node.new.action_service.ActionService'>, <class 'syft.core.node.new.test_service.TestService'>, <class 'syft.core.node.new.dataset_service.DatasetService'>, <class 'syft.core.node.new.user_code_service.UserCodeService'>, <class 'syft.core.node.new.request_service.RequestService'>, <class 'syft.core.node.new.data_subject_service.DataSubjectService'>, <class 'syft.core.node.new.network_service.NetworkService'>, <class 'syft.core.node.new.policy_service.PolicyService'>, <class 'syft.core.node.new.message_service.MessageService'>, <class 'syft.core.node.new.project_service.ProjectService'>, <class 'syft.core.node.new.data_subject_member_service.DataSubjectMemberService'>]\n"
     ]
    }
   ],
   "source": [
    "worker = Worker()"
   ]
  },
  {
   "cell_type": "code",
   "execution_count": 3,
   "metadata": {},
   "outputs": [
    {
     "name": "stdout",
     "output_type": "stream",
     "text": [
      "Logged into Priceless Altman as <info@openmined.org>\n"
     ]
    }
   ],
   "source": [
    "client = sy.login(node=worker, email=\"info@openmined.org\", password=\"changethis\")"
   ]
  },
  {
   "cell_type": "code",
   "execution_count": 4,
   "metadata": {},
   "outputs": [
    {
     "name": "stdout",
     "output_type": "stream",
     "text": [
      "<bound method A.__post_init__ of C(init_args={}, kwargs={}, n_calls=1, downloadable_output_args=[])>\n",
      "()\n",
      "{'n_calls': 1, 'downloadable_output_args': []}\n"
     ]
    },
    {
     "data": {
      "text/html": [
       "{&#x27;n_calls&#x27;: 1, &#x27;downloadable_output_args&#x27;: []}"
      ],
      "text/plain": [
       "{'n_calls': 1, 'downloadable_output_args': []}"
      ]
     },
     "execution_count": 4,
     "metadata": {},
     "output_type": "execute_result"
    }
   ],
   "source": [
    "from pydantic import BaseModel\n",
    "from typing import List, Dict, Any\n",
    "\n",
    "class A(BaseModel):\n",
    "    class Config:\n",
    "        arbitrary_types_allowed = True\n",
    "\n",
    "    def __init__(self, *args, **kwargs) -> None:\n",
    "        super().__init__(**kwargs)\n",
    "        print(self.__post_init__)\n",
    "        print(args)\n",
    "        print(kwargs)\n",
    "        self.__post_init__()\n",
    "        \n",
    "    def __post_init__(self):\n",
    "        pass\n",
    "    \n",
    "    def update() -> None:\n",
    "        raise NotImplementedError\n",
    "    \n",
    "class B(A):\n",
    "    init_args: Dict[str, Any]={}\n",
    "    kwargs: Dict[str, Any]={}\n",
    "\n",
    "    def __init__(self, *args, **kwargs) -> None:\n",
    "        super().__init__(**kwargs)\n",
    "        self.init_args = args\n",
    "        self.kwargs = kwargs\n",
    "\n",
    "    \n",
    "class C(B):\n",
    "    n_calls: int\n",
    "    downloadable_output_args: List[str]\n",
    "    \n",
    "    \n",
    "    \n",
    "# B()     \n",
    "c = C(n_calls=1, downloadable_output_args=[])\n",
    "c.kwargs"
   ]
  },
  {
   "cell_type": "code",
   "execution_count": 5,
   "metadata": {},
   "outputs": [
    {
     "data": {
      "text/plain": [
       "<bound method A.__post_init__ of C(init_args=(), kwargs={'n_calls': 1, 'downloadable_output_args': []}, n_calls=1, downloadable_output_args=[])>"
      ]
     },
     "execution_count": 5,
     "metadata": {},
     "output_type": "execute_result"
    }
   ],
   "source": [
    "c.__post_init__"
   ]
  },
  {
   "cell_type": "code",
   "execution_count": 6,
   "metadata": {},
   "outputs": [],
   "source": [
    "# from syft.core.common.serde.serializable import serializable\n",
    "from syft.core.node.new.user_code import ExactMatch, SingleExecutionExactOutput, OutputPolicy, CustomOutputPolicy\n",
    "from syft.core.node.new.action_object import ActionObject\n",
    "\n",
    "class RepeatedCallPolicy(CustomOutputPolicy):\n",
    "    # from syft.core.node.new.action_object import ActionObject\n",
    "    __canonical_name__ = \"RepeatedCallPolicy\"\n",
    "    from syft.core.node.new.syft_object import SYFT_OBJECT_VERSION_1\n",
    "\n",
    "    __version__ = SYFT_OBJECT_VERSION_1\n",
    "    from typing import Dict\n",
    "    from typing import Any\n",
    "    n_calls: int\n",
    "    downloadable_output_args: List[str]\n",
    "    state: Dict[Any, Any] = {}\n",
    "    # _init_args: Dict[str, Any]\n",
    "    # _kwargs: Dict[str, Any]\n",
    "    \n",
    "    __attr_allowlist__ = [\n",
    "        \"n_calls\",\n",
    "        \"downloadable_output_args\",\n",
    "        \"_init_args\",\n",
    "        \"_kwargs\"\n",
    "    ]\n",
    "    \n",
    "    # __fields_set__ = [\n",
    "    #     \"n_calls\",\n",
    "    #     \"downloadable_output_args\",\n",
    "    # ]\n",
    "    \n",
    "    def __init__(self, n_calls=1, downloadable_output_args=[]):\n",
    "        super().__init__(n_calls=n_calls, downloadable_output_args=downloadable_output_args)\n",
    "        self.n_calls = n_calls + 1\n",
    "        self.downloadable_output_args = downloadable_output_args\n",
    "        self.state = {\"counts\": 0}\n",
    "\n",
    "    # def __repr__(self) -> str:\n",
    "    #     return f'RepeatedCallPolicy - {self.n_calls}/{self.downloadable_output_args}/{self.state}'\n",
    "\n",
    "    # def update() -> None:\n",
    "\n",
    "    # def __post_init__(self, *args, **kwargs) -> None:\n",
    "    #     self._init_args = args\n",
    "    #     self._kwargs = kwargs\n",
    "\n",
    "    def public_state(self):\n",
    "        return self.state[\"counts\"]\n",
    "        \n",
    "    def apply_output(self, action_object) -> Dict[Any, Any]:\n",
    "        results_dict = action_object.syft_action_data        \n",
    "        if self.state[\"counts\"] < self.n_calls:\n",
    "            for output_arg in self.downloadable_output_args:\n",
    "                # results_dict[output_arg] = results_dict[output_arg].set_permission(READ, self.my_verify_key)\n",
    "                results_dict[output_arg] = results_dict[output_arg]\n",
    "\n",
    "            self.state[\"counts\"] += 1\n",
    "        else:\n",
    "            return \n",
    "            \n",
    "        return results_dict\n",
    "    \n",
    "    "
   ]
  },
  {
   "cell_type": "code",
   "execution_count": 7,
   "metadata": {},
   "outputs": [
    {
     "name": "stdout",
     "output_type": "stream",
     "text": [
      "() {'n_calls': 1, 'downloadable_output_args': ['y']}\n"
     ]
    },
    {
     "data": {
      "text/html": [
       "{&#x27;y&#x27;: [1, 2, 3]}"
      ],
      "text/plain": [
       "{'y': [1, 2, 3]}"
      ]
     },
     "execution_count": 7,
     "metadata": {},
     "output_type": "execute_result"
    }
   ],
   "source": [
    "policy = RepeatedCallPolicy(n_calls=1, downloadable_output_args=['y'])\n",
    "print(policy.init_args, policy.kwargs)\n",
    "obj = ActionObject.from_obj({'y': [1,2,3]})\n",
    "policy.apply_output(obj)"
   ]
  },
  {
   "cell_type": "code",
   "execution_count": 8,
   "metadata": {},
   "outputs": [
    {
     "data": {
      "text/html": [
       "<div class=\"alert-success\" style=\"padding:5px;\"><strong>SyftSuccess</strong>: <class 'syft.core.node.new.numpy.NumpyArrayObject'> saved</div><br />"
      ],
      "text/plain": [
       "<class 'syft.core.node.new.response.SyftSuccess'>: <class 'syft.core.node.new.numpy.NumpyArrayObject'> saved"
      ]
     },
     "execution_count": 8,
     "metadata": {},
     "output_type": "execute_result"
    }
   ],
   "source": [
    "import numpy as np\n",
    "from syft.core.node.new.twin_object import to_action_object\n",
    "\n",
    "x = np.array([1,2,3])\n",
    "x_pointer = to_action_object(x)\n",
    "client.api.services.action.save(x_pointer)"
   ]
  },
  {
   "cell_type": "code",
   "execution_count": 14,
   "metadata": {},
   "outputs": [
    {
     "data": {
      "text/plain": [
       "(__main__.RepeatedCallPolicy,\n",
       " syft.core.node.new.user_code.CustomOutputPolicy,\n",
       " syft.core.node.new.user_code.OutputPolicy,\n",
       " syft.core.node.new.syft_object.SyftObject,\n",
       " syft.core.node.new.syft_object.SyftBaseObject,\n",
       " pydantic.main.BaseModel,\n",
       " pydantic.utils.Representation,\n",
       " syft.core.node.new.syft_object.SyftObjectRegistry,\n",
       " object)"
      ]
     },
     "execution_count": 14,
     "metadata": {},
     "output_type": "execute_result"
    }
   ],
   "source": [
    "from inspect import getmro\n",
    "obj = RepeatedCallPolicy(n_calls=1, downloadable_output_args=['y']).__class__\n",
    "getmro(obj)"
   ]
  },
  {
   "cell_type": "code",
   "execution_count": 17,
   "metadata": {},
   "outputs": [
    {
     "ename": "TypeError",
     "evalue": "eval() arg 1 must be a string, bytes or code object",
     "output_type": "error",
     "traceback": [
      "\u001b[0;31m---------------------------------------------------------------------------\u001b[0m",
      "\u001b[0;31mTypeError\u001b[0m                                 Traceback (most recent call last)",
      "\u001b[1;32m/home/teo/OpenMined/PySyft/notebooks/bugs/test_user_policy.ipynb Cell 10\u001b[0m in \u001b[0;36m1\n\u001b[0;32m----> <a href='vscode-notebook-cell:/home/teo/OpenMined/PySyft/notebooks/bugs/test_user_policy.ipynb#X51sZmlsZQ%3D%3D?line=0'>1</a>\u001b[0m \u001b[39meval\u001b[39;49m(obj\u001b[39m.\u001b[39;49m__object_version_registry__[\u001b[39m'\u001b[39;49m\u001b[39mRepeatedCallPolicy_1\u001b[39;49m\u001b[39m'\u001b[39;49m])\n",
      "\u001b[0;31mTypeError\u001b[0m: eval() arg 1 must be a string, bytes or code object"
     ]
    }
   ],
   "source": [
    "obj.__object_version_registry__['RepeatedCallPolicy_1']"
   ]
  },
  {
   "cell_type": "code",
   "execution_count": 10,
   "metadata": {},
   "outputs": [
    {
     "name": "stdout",
     "output_type": "stream",
     "text": [
      "SubmitUserPolicy\n",
      "('x',)\n"
     ]
    }
   ],
   "source": [
    "@sy.syft_function(\n",
    "    input_policy=ExactMatch(x=x_pointer),\n",
    "    # input_policy_init_args={'inputs':{'x':4}},\n",
    "    # output_policy=SingleExecutionExactOutput,\n",
    "    # output_policy_init_args={},\n",
    "    output_policy=RepeatedCallPolicy(n_calls=1, downloadable_output_args=['y']),\n",
    ")\n",
    "def func(x):\n",
    "    return {\"y\": x}\n"
   ]
  },
  {
   "cell_type": "code",
   "execution_count": 11,
   "metadata": {},
   "outputs": [
    {
     "name": "stderr",
     "output_type": "stream",
     "text": [
      "Noerr before code to usercode\n",
      "['x']\n",
      "syft.core.node.new.policy.SubmitUserPolicy\n",
      "NodeType.DOMAIN\n",
      "dict_keys([NodeView(node_name='Priceless Altman', verify_key=b98587bb6c1fa231f05839d91f8b533d904838888becbdd01c22c96377e8e99a)])\n",
      "node_name='Priceless Altman' verify_key=b98587bb6c1fa231f05839d91f8b533d904838888becbdd01c22c96377e8e99a\n",
      "Noerr before policy transformations\n",
      "Noerr\n"
     ]
    },
    {
     "data": {
      "text/markdown": [
       "```python\n",
       "class Request:\n",
       "  id: str = 2c9e626577c145a3abb353e24988bfa4\n",
       "  requesting_user_verify_key: str = b98587bb6c1fa231f05839d91f8b533d904838888becbdd01c22c96377e8e99a\n",
       "  approving_user_verify_key: str = None\n",
       "  request_time: str = 2023-03-19 16:11:11\n",
       "  approval_time: str = None\n",
       "  status: str = RequestStatus.PENDING\n",
       "  node_uid: str = 21ca746bca994631a8efc1dc13435957\n",
       "  request_hash: str = \"1928cdfe892eac0a4482c30ec11c642d518ab7dbc90da84832b369ffcb370ec9\"\n",
       "  changes: str = [syft.core.node.new.request.UserCodeStatusChange]\n",
       "\n",
       "```"
      ],
      "text/plain": [
       "syft.core.node.new.request.Request"
      ]
     },
     "execution_count": 11,
     "metadata": {},
     "output_type": "execute_result"
    }
   ],
   "source": [
    "client.api.services.code.request_code_execution(func)"
   ]
  },
  {
   "cell_type": "code",
   "execution_count": 12,
   "metadata": {},
   "outputs": [
    {
     "name": "stdout",
     "output_type": "stream",
     "text": [
      "Logged into Priceless Altman as <info@openmined.org>\n"
     ]
    }
   ],
   "source": [
    "client = sy.login(node=worker, email=\"info@openmined.org\", password=\"changethis\", cache=False)"
   ]
  },
  {
   "cell_type": "code",
   "execution_count": 13,
   "metadata": {},
   "outputs": [
    {
     "name": "stdout",
     "output_type": "stream",
     "text": [
      "WARNING: This code was submitted by a User and could be UNSAFE.\n",
      "['Config', '__abstractmethods__', '__annotations__', '__attr_repr_cols__', '__attr_searchable__', '__attr_state__', '__attr_unique__', '__canonical_name__', '__class__', '__class_vars__', '__config__', '__custom_root_type__', '__delattr__', '__dict__', '__dir__', '__doc__', '__eq__', '__exclude_fields__', '__fields__', '__fields_set__', '__format__', '__ge__', '__get_validators__', '__getattribute__', '__getitem__', '__getstate__', '__gt__', '__hash__', '__include_fields__', '__init__', '__init_subclass__', '__iter__', '__json_encoder__', '__le__', '__lt__', '__module__', '__ne__', '__new__', '__object_transform_registry__', '__object_version_registry__', '__post_init__', '__post_root_validators__', '__pre_root_validators__', '__pretty__', '__private_attributes__', '__reduce__', '__reduce_ex__', '__repr__', '__repr_args__', '__repr_name__', '__repr_str__', '__rich_repr__', '__schema_cache__', '__serde_overrides__', '__setattr__', '__setstate__', '__signature__', '__sizeof__', '__slots__', '__str__', '__subclasshook__', '__syft_get_funcs__', '__try_update_forward_refs__', '__validators__', '__version__', '__weakref__', '_abc_impl', '_add_route', '_calculate_keys', '_copy_and_set_values', '_decompose_class', '_enforce_dict_if_root', '_get_value', '_init_private_attributes', '_iter', '_repr_debug_', '_repr_markdown_', '_syft_keys_types_dict', '_syft_searchable_keys_dict', '_syft_set_validate_private_attrs_', '_syft_unique_keys_dict', '_upgrade_version', 'add_transform', 'api_module', 'connection', 'construct', 'copy', 'dict', 'endpoints', 'for_user', 'from_mongo', 'from_orm', 'generate_endpoints', 'get_transform', 'id', 'json', 'keys', 'make_call', 'make_id', 'node_name', 'node_uid', 'parse_file', 'parse_obj', 'parse_raw', 'schema', 'schema_json', 'services', 'signing_key', 'to', 'to_dict', 'to_mongo', 'update_forward_refs', 'validate', 'versioned_class']\n",
      "message='Policy Code Submitted'\n"
     ]
    },
    {
     "name": "stderr",
     "output_type": "stream",
     "text": [
      "execute_byte_code failed Duplicate mapping for RepeatedCallPolicy_1 and <class 'syft.core.node.new.policy.RepeatedCallPolicy'>\n",
      "execute_byte_code failed name 'RepeatedCallPolicy' is not defined\n"
     ]
    },
    {
     "ename": "TypeError",
     "evalue": "None argument after ** must be a mapping, not NoneType",
     "output_type": "error",
     "traceback": [
      "\u001b[0;31m---------------------------------------------------------------------------\u001b[0m",
      "\u001b[0;31mTypeError\u001b[0m                                 Traceback (most recent call last)",
      "\u001b[1;32m/home/teo/OpenMined/PySyft/notebooks/bugs/test_user_policy.ipynb Cell 13\u001b[0m in \u001b[0;36m5\n\u001b[1;32m      <a href='vscode-notebook-cell:/home/teo/OpenMined/PySyft/notebooks/bugs/test_user_policy.ipynb#X15sZmlsZQ%3D%3D?line=2'>3</a>\u001b[0m result \u001b[39m=\u001b[39m func\u001b[39m.\u001b[39munsafe_function(x\u001b[39m=\u001b[39mx_pointer)\n\u001b[1;32m      <a href='vscode-notebook-cell:/home/teo/OpenMined/PySyft/notebooks/bugs/test_user_policy.ipynb#X15sZmlsZQ%3D%3D?line=3'>4</a>\u001b[0m \u001b[39m# func.output_policy\u001b[39;00m\n\u001b[0;32m----> <a href='vscode-notebook-cell:/home/teo/OpenMined/PySyft/notebooks/bugs/test_user_policy.ipynb#X15sZmlsZQ%3D%3D?line=4'>5</a>\u001b[0m final_result \u001b[39m=\u001b[39m request\u001b[39m.\u001b[39;49maccept_by_depositing_result(result) \n\u001b[1;32m      <a href='vscode-notebook-cell:/home/teo/OpenMined/PySyft/notebooks/bugs/test_user_policy.ipynb#X15sZmlsZQ%3D%3D?line=5'>6</a>\u001b[0m final_result\n",
      "File \u001b[0;32m~/OpenMined/PySyft/packages/syft/src/syft/core/node/new/request.py:207\u001b[0m, in \u001b[0;36mRequest.accept_by_depositing_result\u001b[0;34m(self, result)\u001b[0m\n\u001b[1;32m    205\u001b[0m \u001b[39mprint\u001b[39m(res)\n\u001b[1;32m    206\u001b[0m \u001b[39m# print(api.services.policy.get_all())\u001b[39;00m\n\u001b[0;32m--> 207\u001b[0m policy_object \u001b[39m=\u001b[39m init_policy(\n\u001b[1;32m    208\u001b[0m     code\u001b[39m.\u001b[39;49moutput_policy, code\u001b[39m.\u001b[39;49moutput_policy_init_args\n\u001b[1;32m    209\u001b[0m )\n\u001b[1;32m    210\u001b[0m code\u001b[39m.\u001b[39moutput_policy_state \u001b[39m=\u001b[39m _serialize(policy_object, to_bytes\u001b[39m=\u001b[39m\u001b[39mTrue\u001b[39;00m)\n\u001b[1;32m    211\u001b[0m policy_object \u001b[39m=\u001b[39m get_policy_object(\n\u001b[1;32m    212\u001b[0m     code\u001b[39m.\u001b[39moutput_policy,\n\u001b[1;32m    213\u001b[0m     code\u001b[39m.\u001b[39moutput_policy_state,\n\u001b[1;32m    214\u001b[0m )\n",
      "File \u001b[0;32m~/OpenMined/PySyft/packages/syft/src/syft/core/node/new/policy.py:212\u001b[0m, in \u001b[0;36minit_policy\u001b[0;34m(user_policy, init_args)\u001b[0m\n\u001b[1;32m    210\u001b[0m \u001b[39mdef\u001b[39;00m \u001b[39minit_policy\u001b[39m(user_policy: UserPolicy, init_args: Dict[\u001b[39mstr\u001b[39m, Any]):\n\u001b[1;32m    211\u001b[0m     policy_class \u001b[39m=\u001b[39m execute_policy_code(user_policy)\n\u001b[0;32m--> 212\u001b[0m     policy_object \u001b[39m=\u001b[39m policy_class(\u001b[39m*\u001b[39m\u001b[39m*\u001b[39minit_args)\n\u001b[1;32m    213\u001b[0m     \u001b[39mreturn\u001b[39;00m policy_object\n",
      "\u001b[0;31mTypeError\u001b[0m: None argument after ** must be a mapping, not NoneType"
     ]
    }
   ],
   "source": [
    "request = client.notifications[0].link\n",
    "func = request.changes[0].link\n",
    "result = func.unsafe_function(x=x_pointer)\n",
    "# func.output_policy\n",
    "final_result = request.accept_by_depositing_result(result) \n",
    "final_result"
   ]
  },
  {
   "cell_type": "code",
   "execution_count": null,
   "metadata": {},
   "outputs": [
    {
     "data": {
      "text/markdown": [
       "```python\n",
       "class SingleExecutionExactOutput:\n",
       "  id: str = 4329e8bff38246e3b5b5702066d75146\n",
       "  outputs: str = []\n",
       "  state_type: str = <class 'syft.core.node.new.user_code.OutputPolicyStateExecuteOnce'>\n",
       "  init_args: str = ()\n",
       "  kwargs: str = {'id': <UID: 4329e8bff38246e3b5b5702066d75146>, 'init_args': (), 'kwargs': {'id': <UID: 4329e8bff38246e3b5b5702066d75146>, 'init_args': (), 'kwargs': {}, 'outputs': [], 'state_type': <class 'syft.core.node.new.user_code.OutputPolicyStateExecuteOnce'>}, 'outputs': [], 'state_type': <class 'syft.core.node.new.user_code.OutputPolicyStateExecuteOnce'>}\n",
       "\n",
       "```"
      ],
      "text/plain": [
       "syft.core.node.new.user_code.SingleExecutionExactOutput"
      ]
     },
     "execution_count": 13,
     "metadata": {},
     "output_type": "execute_result"
    }
   ],
   "source": [
    "func.output_policy"
   ]
  },
  {
   "cell_type": "code",
   "execution_count": null,
   "metadata": {},
   "outputs": [
    {
     "name": "stdout",
     "output_type": "stream",
     "text": [
      "{'x': array([1, 2, 3])}\n",
      "message='Policy is no longer valid. count: 1 >= limit: 1'\n",
      "<class 'syft.core.node.new.response.SyftError'>\n"
     ]
    }
   ],
   "source": [
    "res = client.api.services.code.func(x=x_pointer)\n",
    "print(res)\n",
    "print(type(res))"
   ]
  },
  {
   "cell_type": "code",
   "execution_count": null,
   "metadata": {},
   "outputs": [
    {
     "ename": "NameError",
     "evalue": "name 's' is not defined",
     "output_type": "error",
     "traceback": [
      "\u001b[0;31m---------------------------------------------------------------------------\u001b[0m",
      "\u001b[0;31mNameError\u001b[0m                                 Traceback (most recent call last)",
      "\u001b[1;32m/home/teo/OpenMined/PySyft/notebooks/bugs/test_user_policy.ipynb Cell 16\u001b[0m in \u001b[0;36m1\n\u001b[0;32m----> <a href='vscode-notebook-cell:/home/teo/OpenMined/PySyft/notebooks/bugs/test_user_policy.ipynb#X21sZmlsZQ%3D%3D?line=0'>1</a>\u001b[0m s\n",
      "\u001b[0;31mNameError\u001b[0m: name 's' is not defined"
     ]
    }
   ],
   "source": [
    "s"
   ]
  },
  {
   "cell_type": "code",
   "execution_count": null,
   "metadata": {},
   "outputs": [
    {
     "data": {
      "text/html": [
       "List - Size: 1\n",
       "<div>\n",
       "<style scoped>\n",
       "    .dataframe tbody tr th:only-of-type {\n",
       "        vertical-align: middle;\n",
       "    }\n",
       "\n",
       "    .dataframe tbody tr th {\n",
       "        vertical-align: top;\n",
       "    }\n",
       "\n",
       "    .dataframe thead th {\n",
       "        text-align: right;\n",
       "    }\n",
       "</style>\n",
       "<table border=\"1\" class=\"dataframe\">\n",
       "  <thead>\n",
       "    <tr style=\"text-align: right;\">\n",
       "      <th></th>\n",
       "      <th>type</th>\n",
       "      <th>id</th>\n",
       "    </tr>\n",
       "  </thead>\n",
       "  <tbody>\n",
       "    <tr>\n",
       "      <th>0</th>\n",
       "      <td>syft.core.node.new.policy.UserPolicy</td>\n",
       "      <td>0c381e061c4c44968618abcf22b8ec9e</td>\n",
       "    </tr>\n",
       "  </tbody>\n",
       "</table>\n",
       "</div>"
      ],
      "text/plain": [
       "[syft.core.node.new.policy.UserPolicy]"
      ]
     },
     "execution_count": 14,
     "metadata": {},
     "output_type": "execute_result"
    }
   ],
   "source": [
    "client.api.services.policy.get_all()"
   ]
  },
  {
   "cell_type": "code",
   "execution_count": null,
   "metadata": {},
   "outputs": [],
   "source": [
    "output_policy = client.api.services.policy.get_all()[0]\n"
   ]
  },
  {
   "cell_type": "code",
   "execution_count": null,
   "metadata": {},
   "outputs": [
    {
     "data": {
      "text/html": [
       "List - Size: 1\n",
       "<div>\n",
       "<style scoped>\n",
       "    .dataframe tbody tr th:only-of-type {\n",
       "        vertical-align: middle;\n",
       "    }\n",
       "\n",
       "    .dataframe tbody tr th {\n",
       "        vertical-align: top;\n",
       "    }\n",
       "\n",
       "    .dataframe thead th {\n",
       "        text-align: right;\n",
       "    }\n",
       "</style>\n",
       "<table border=\"1\" class=\"dataframe\">\n",
       "  <thead>\n",
       "    <tr style=\"text-align: right;\">\n",
       "      <th></th>\n",
       "      <th>type</th>\n",
       "      <th>id</th>\n",
       "    </tr>\n",
       "  </thead>\n",
       "  <tbody>\n",
       "    <tr>\n",
       "      <th>0</th>\n",
       "      <td>syft.core.node.new.policy.UserPolicy</td>\n",
       "      <td>0c381e061c4c44968618abcf22b8ec9e</td>\n",
       "    </tr>\n",
       "  </tbody>\n",
       "</table>\n",
       "</div>"
      ],
      "text/plain": [
       "[syft.core.node.new.policy.UserPolicy]"
      ]
     },
     "execution_count": 16,
     "metadata": {},
     "output_type": "execute_result"
    }
   ],
   "source": [
    "client.api.services.policy.get_all()"
   ]
  },
  {
   "cell_type": "code",
   "execution_count": null,
   "metadata": {},
   "outputs": [
    {
     "name": "stdout",
     "output_type": "stream",
     "text": [
      "UserPolicy\n",
      "('x',)\n"
     ]
    }
   ],
   "source": [
    "@sy.syft_function(\n",
    "    input_policy=ExactMatch(x=x_pointer),\n",
    "    # input_policy_init_args={'inputs':{'x':4}},\n",
    "    # output_policy=SingleExecutionExactOutput,\n",
    "    # output_policy_init_args={},\n",
    "    output_policy=output_policy.id,\n",
    "    output_policy_init_args={\"n_calls\":1, 'downloadable_output_args':['y']},\n",
    "    outputs=[\"y\"]\n",
    ")\n",
    "def func_plus_one(x):\n",
    "    return {\"y\": x + 1}\n"
   ]
  },
  {
   "cell_type": "code",
   "execution_count": null,
   "metadata": {},
   "outputs": [
    {
     "name": "stderr",
     "output_type": "stream",
     "text": [
      "Noerr before code to usercode\n",
      "['x']\n",
      "c6c4a8bc81c64bc4afec1eba6859a83f\n",
      "NodeType.DOMAIN\n",
      "dict_keys([NodeView(node_name='Epic He', verify_key=cc9381403088cd4590b307868bb29e461863aabcb988905a5135a5a060af61af)])\n",
      "node_name='Epic He' verify_key=cc9381403088cd4590b307868bb29e461863aabcb988905a5135a5a060af61af\n",
      "Noerr before policy transformations\n",
      "Noerr\n"
     ]
    },
    {
     "data": {
      "text/markdown": [
       "```python\n",
       "class Request:\n",
       "  id: str = 997495402b644d29815421ab996ff7b3\n",
       "  requesting_user_verify_key: str = cc9381403088cd4590b307868bb29e461863aabcb988905a5135a5a060af61af\n",
       "  approving_user_verify_key: str = None\n",
       "  request_time: str = 2023-03-16 18:05:11\n",
       "  approval_time: str = None\n",
       "  status: str = RequestStatus.PENDING\n",
       "  node_uid: str = 79cec0cdd5b141808081ee28e83d265d\n",
       "  request_hash: str = \"e3e63628f4f803b56ac986e834b94b41427ca59e2533ec5e7f882f27726ce833\"\n",
       "  changes: str = [syft.core.node.new.request.UserCodeStatusChange]\n",
       "\n",
       "```"
      ],
      "text/plain": [
       "syft.core.node.new.request.Request"
      ]
     },
     "execution_count": 19,
     "metadata": {},
     "output_type": "execute_result"
    }
   ],
   "source": [
    "client.api.services.code.request_code_execution(func_plus_one)"
   ]
  },
  {
   "cell_type": "code",
   "execution_count": null,
   "metadata": {},
   "outputs": [
    {
     "data": {
      "text/markdown": [
       "```python\n",
       "class UserPolicy:\n",
       "  id: str = c6c4a8bc81c64bc4afec1eba6859a83f\n",
       "  user_verify_key: str = cc9381403088cd4590b307868bb29e461863aabcb988905a5135a5a060af61af\n",
       "  raw_code: str = \"@serializable(recursive_serde=True)\n",
       "class RepeatedCallPolicy():\n",
       "    # from syft.core.node.new.action_object import ActionObject\n",
       "    from typing import Dict\n",
       "    from typing import Any\n",
       "    \n",
       "    def __init__(self, n_calls=1, downloadable_output_args=[]):\n",
       "        self.n_calls = n_calls + 1\n",
       "        self.downloadable_output_args = downloadable_output_args\n",
       "        self.state = {\"counts\": 0}\n",
       "        # super.__init__(n_calls=n_calls, downloadable_output_args=downloadable_output_args)\n",
       "\n",
       "    def __repr__(self) -> str:\n",
       "        return f'RepeatedCallPolicy - {self.n_calls}/{self.downloadable_output_args}/{self.state}'\n",
       "\n",
       "    def public_state(self):\n",
       "        return self.state[\"counts\"]\n",
       "        \n",
       "    def apply_output(self, action_object) -> Dict[Any, Any]:\n",
       "        results_dict = action_object.syft_action_data        \n",
       "        if self.state[\"counts\"] < self.n_calls:\n",
       "            for output_arg in self.downloadable_output_args:\n",
       "                # results_dict[output_arg] = results_dict[output_arg].set_permission(READ, self.my_verify_key)\n",
       "                results_dict[output_arg] = results_dict[output_arg]\n",
       "\n",
       "            self.state[\"counts\"] += 1\n",
       "        else:\n",
       "            return \n",
       "            \n",
       "        return results_dict\n",
       "\"\n",
       "  parsed_code: str = \"@serializable(recursive_serde=True)\n",
       "class RepeatedCallPolicy():\n",
       "    # from syft.core.node.new.action_object import ActionObject\n",
       "    from typing import Dict\n",
       "    from typing import Any\n",
       "    \n",
       "    def __init__(self, n_calls=1, downloadable_output_args=[]):\n",
       "        self.n_calls = n_calls + 1\n",
       "        self.downloadable_output_args = downloadable_output_args\n",
       "        self.state = {\"counts\": 0}\n",
       "        # super.__init__(n_calls=n_calls, downloadable_output_args=downloadable_output_args)\n",
       "\n",
       "    def __repr__(self) -> str:\n",
       "        return f'RepeatedCallPolicy - {self.n_calls}/{self.downloadable_output_args}/{self.state}'\n",
       "\n",
       "    def public_state(self):\n",
       "        return self.state[\"counts\"]\n",
       "        \n",
       "    def apply_output(self, action_object) -> Dict[Any, Any]:\n",
       "        results_dict = action_object.syft_action_data        \n",
       "        if self.state[\"counts\"] < self.n_calls:\n",
       "            for output_arg in self.downloadable_output_args:\n",
       "                # results_dict[output_arg] = results_dict[output_arg].set_permission(READ, self.my_verify_key)\n",
       "                results_dict[output_arg] = results_dict[output_arg]\n",
       "\n",
       "            self.state[\"counts\"] += 1\n",
       "        else:\n",
       "            return \n",
       "            \n",
       "        return results_dict\n",
       "\"\n",
       "  signature: str = (downloadable_output_args)\n",
       "  class_name: str = \"RepeatedCallPolicy\"\n",
       "  unique_name: str = \"user_func_RepeatedCallPolicy_cc9381403088cd4590b307868bb29e461863aabcb988905a5135a5a060af61af_c2b88b38b612f1aa9f2c57ab61c711a8332435b895ebddf906d2ba84c183a6b7\"\n",
       "  code_hash: str = \"c2b88b38b612f1aa9f2c57ab61c711a8332435b895ebddf906d2ba84c183a6b7\"\n",
       "  status: str = UserPolicyStatus.SUBMITTED\n",
       "\n",
       "```"
      ],
      "text/plain": [
       "syft.core.node.new.policy.UserPolicy"
      ]
     },
     "execution_count": 20,
     "metadata": {},
     "output_type": "execute_result"
    }
   ],
   "source": [
    "client.api.services.policy.get_all()[0]"
   ]
  },
  {
   "cell_type": "code",
   "execution_count": null,
   "metadata": {},
   "outputs": [
    {
     "data": {
      "text/markdown": [
       "```python\n",
       "class SubmitUserCode:\n",
       "  id: str = None\n",
       "  code: str = \"@sy.syft_function(\n",
       "    input_policy=ExactMatch(x=x_pointer),\n",
       "    # input_policy_init_args={'inputs':{'x':4}},\n",
       "    # output_policy=SingleExecutionExactOutput,\n",
       "    # output_policy_init_args={},\n",
       "    output_policy=output_policy.id,\n",
       "    output_policy_init_args={\"n_calls\":1, 'downloadable_output_args':['y']},\n",
       "    outputs=[\"y\"]\n",
       ")\n",
       "def func_plus_one(x):\n",
       "    return {\"y\": x + 1}\n",
       "\"\n",
       "  func_name: str = \"func_plus_one\"\n",
       "  signature: str = (x)\n",
       "  input_policy: str = syft.core.node.new.user_code.ExactMatch\n",
       "  input_policy_init_args: str = None\n",
       "  output_policy: str = c6c4a8bc81c64bc4afec1eba6859a83f\n",
       "  output_policy_init_args: str = {'n_calls': 1, 'downloadable_output_args': ['y']}\n",
       "  local_function: str = <function func_plus_one at 0x7f0ef09dcd30>\n",
       "  input_kwargs: str = ['x']\n",
       "  outputs: str = ['y']\n",
       "  enclave_metadata: str = None\n",
       "\n",
       "```"
      ],
      "text/plain": [
       "syft.core.node.new.user_code.SubmitUserCode"
      ]
     },
     "execution_count": 21,
     "metadata": {},
     "output_type": "execute_result"
    }
   ],
   "source": [
    "func_plus_one"
   ]
  },
  {
   "cell_type": "code",
   "execution_count": null,
   "metadata": {},
   "outputs": [
    {
     "data": {
      "text/plain": [
       "<function syft.core.node.new.api.generate_remote_function.<locals>.wrapper(*args, **kwargs)>"
      ]
     },
     "execution_count": 22,
     "metadata": {},
     "output_type": "execute_result"
    }
   ],
   "source": [
    "client.api.services.code.func"
   ]
  },
  {
   "cell_type": "code",
   "execution_count": null,
   "metadata": {},
   "outputs": [
    {
     "name": "stdout",
     "output_type": "stream",
     "text": [
      "Logged into Epic He as <info@openmined.org>\n"
     ]
    }
   ],
   "source": [
    "client = sy.login(node=worker, email=\"info@openmined.org\", password=\"changethis\", cache=False)"
   ]
  },
  {
   "cell_type": "code",
   "execution_count": null,
   "metadata": {},
   "outputs": [
    {
     "ename": "ValidationError",
     "evalue": "2 validation errors for UserCode\noutput_policy_state\n  'utf-8' codec can't decode byte 0xca in position 100: invalid continuation byte (type=value_error.unicodedecode)\noutput_policy_state\n  value is not a valid dict (type=type_error.dict)",
     "output_type": "error",
     "traceback": [
      "\u001b[0;31m---------------------------------------------------------------------------\u001b[0m",
      "\u001b[0;31mValidationError\u001b[0m                           Traceback (most recent call last)",
      "\u001b[1;32m/home/teo/OpenMined/PySyft/notebooks/bugs/test_user_policy.ipynb Cell 24\u001b[0m in \u001b[0;36m1\n\u001b[0;32m----> <a href='vscode-notebook-cell:/home/teo/OpenMined/PySyft/notebooks/bugs/test_user_policy.ipynb#X43sZmlsZQ%3D%3D?line=0'>1</a>\u001b[0m client\u001b[39m.\u001b[39;49mnotifications[\u001b[39m-\u001b[39;49m\u001b[39m1\u001b[39;49m]\u001b[39m.\u001b[39;49mlink\u001b[39m.\u001b[39;49mchanges[\u001b[39m0\u001b[39;49m]\u001b[39m.\u001b[39;49mlink\n",
      "File \u001b[0;32m~/OpenMined/PySyft/packages/syft/src/syft/core/node/new/request.py:519\u001b[0m, in \u001b[0;36mUserCodeStatusChange.link\u001b[0;34m(self)\u001b[0m\n\u001b[1;32m    516\u001b[0m \u001b[39m@property\u001b[39m\n\u001b[1;32m    517\u001b[0m \u001b[39mdef\u001b[39;00m \u001b[39mlink\u001b[39m(\u001b[39mself\u001b[39m) \u001b[39m-\u001b[39m\u001b[39m>\u001b[39m Optional[SyftObject]:\n\u001b[1;32m    518\u001b[0m     \u001b[39mif\u001b[39;00m \u001b[39mself\u001b[39m\u001b[39m.\u001b[39mlinked_obj:\n\u001b[0;32m--> 519\u001b[0m         \u001b[39mreturn\u001b[39;00m \u001b[39mself\u001b[39;49m\u001b[39m.\u001b[39;49mlinked_obj\u001b[39m.\u001b[39;49mresolve\n\u001b[1;32m    520\u001b[0m     \u001b[39mreturn\u001b[39;00m \u001b[39mNone\u001b[39;00m\n",
      "File \u001b[0;32m~/OpenMined/PySyft/packages/syft/src/syft/core/node/new/linked_obj.py:39\u001b[0m, in \u001b[0;36mLinkedObject.resolve\u001b[0;34m(self)\u001b[0m\n\u001b[1;32m     36\u001b[0m \u001b[39mfrom\u001b[39;00m \u001b[39m.\u001b[39;00m\u001b[39mapi\u001b[39;00m \u001b[39mimport\u001b[39;00m APIRegistry\n\u001b[1;32m     38\u001b[0m api \u001b[39m=\u001b[39m APIRegistry\u001b[39m.\u001b[39mapi_for(node_uid\u001b[39m=\u001b[39m\u001b[39mself\u001b[39m\u001b[39m.\u001b[39mnode_uid)\n\u001b[0;32m---> 39\u001b[0m \u001b[39mreturn\u001b[39;00m api\u001b[39m.\u001b[39;49mservices\u001b[39m.\u001b[39;49mmessages\u001b[39m.\u001b[39;49mresolve_object(\u001b[39mself\u001b[39;49m)\n",
      "File \u001b[0;32m~/OpenMined/PySyft/packages/syft/src/syft/core/node/new/api.py:248\u001b[0m, in \u001b[0;36mgenerate_remote_function.<locals>.wrapper\u001b[0;34m(*args, **kwargs)\u001b[0m\n\u001b[1;32m    240\u001b[0m     _valid_kwargs\u001b[39m.\u001b[39mupdate(pre_kwargs)\n\u001b[1;32m    241\u001b[0m api_call \u001b[39m=\u001b[39m SyftAPICall(\n\u001b[1;32m    242\u001b[0m     node_uid\u001b[39m=\u001b[39mnode_uid,\n\u001b[1;32m    243\u001b[0m     path\u001b[39m=\u001b[39mpath,\n\u001b[0;32m   (...)\u001b[0m\n\u001b[1;32m    246\u001b[0m     blocking\u001b[39m=\u001b[39mblocking,\n\u001b[1;32m    247\u001b[0m )\n\u001b[0;32m--> 248\u001b[0m result \u001b[39m=\u001b[39m make_call(api_call\u001b[39m=\u001b[39;49mapi_call)\n\u001b[1;32m    249\u001b[0m \u001b[39mreturn\u001b[39;00m result\n",
      "File \u001b[0;32m~/OpenMined/PySyft/packages/syft/src/syft/core/node/new/api.py:349\u001b[0m, in \u001b[0;36mSyftAPI.make_call\u001b[0;34m(self, api_call)\u001b[0m\n\u001b[1;32m    346\u001b[0m \u001b[39mif\u001b[39;00m \u001b[39mnot\u001b[39;00m signed_result\u001b[39m.\u001b[39mis_valid:\n\u001b[1;32m    347\u001b[0m     \u001b[39mreturn\u001b[39;00m SyftError(message\u001b[39m=\u001b[39m\u001b[39m\"\u001b[39m\u001b[39mThe result signature is invalid\u001b[39m\u001b[39m\"\u001b[39m)  \u001b[39m# type: ignore\u001b[39;00m\n\u001b[0;32m--> 349\u001b[0m result \u001b[39m=\u001b[39m signed_result\u001b[39m.\u001b[39;49mmessage\u001b[39m.\u001b[39mdata\n\u001b[1;32m    351\u001b[0m \u001b[39mif\u001b[39;00m \u001b[39misinstance\u001b[39m(result, OkErr):\n\u001b[1;32m    352\u001b[0m     \u001b[39mif\u001b[39;00m result\u001b[39m.\u001b[39mis_ok():\n",
      "File \u001b[0;32m~/OpenMined/PySyft/packages/syft/src/syft/core/node/new/api.py:93\u001b[0m, in \u001b[0;36mSignedSyftAPICall.message\u001b[0;34m(self)\u001b[0m\n\u001b[1;32m     90\u001b[0m     \u001b[39mself\u001b[39m\u001b[39m.\u001b[39mcached_deseralized_message \u001b[39m=\u001b[39m \u001b[39mNone\u001b[39;00m\n\u001b[1;32m     92\u001b[0m \u001b[39mif\u001b[39;00m \u001b[39mself\u001b[39m\u001b[39m.\u001b[39mcached_deseralized_message \u001b[39mis\u001b[39;00m \u001b[39mNone\u001b[39;00m:\n\u001b[0;32m---> 93\u001b[0m     \u001b[39mself\u001b[39m\u001b[39m.\u001b[39mcached_deseralized_message \u001b[39m=\u001b[39m _deserialize(\n\u001b[1;32m     94\u001b[0m         blob\u001b[39m=\u001b[39;49m\u001b[39mself\u001b[39;49m\u001b[39m.\u001b[39;49mserialized_message, from_bytes\u001b[39m=\u001b[39;49m\u001b[39mTrue\u001b[39;49;00m\n\u001b[1;32m     95\u001b[0m     )\n\u001b[1;32m     97\u001b[0m \u001b[39mreturn\u001b[39;00m \u001b[39mself\u001b[39m\u001b[39m.\u001b[39mcached_deseralized_message\n",
      "File \u001b[0;32m~/OpenMined/PySyft/packages/syft/src/syft/core/node/new/deserialize.py:31\u001b[0m, in \u001b[0;36m_deserialize\u001b[0;34m(blob, from_proto, from_bytes, class_type)\u001b[0m\n\u001b[1;32m     28\u001b[0m     \u001b[39mraise\u001b[39;00m \u001b[39mTypeError\u001b[39;00m(\u001b[39m\"\u001b[39m\u001b[39mWrong deserialization format.\u001b[39m\u001b[39m\"\u001b[39m)\n\u001b[1;32m     30\u001b[0m \u001b[39mif\u001b[39;00m from_bytes:\n\u001b[0;32m---> 31\u001b[0m     \u001b[39mreturn\u001b[39;00m rs_bytes2object(blob, class_type)\n\u001b[1;32m     33\u001b[0m \u001b[39mif\u001b[39;00m from_proto:\n\u001b[1;32m     34\u001b[0m     \u001b[39mreturn\u001b[39;00m rs_proto2object(blob, class_type)\n",
      "File \u001b[0;32m~/OpenMined/PySyft/packages/syft/src/syft/core/node/new/recursive.py:147\u001b[0m, in \u001b[0;36mrs_bytes2object\u001b[0;34m(blob, class_type)\u001b[0m\n\u001b[1;32m    142\u001b[0m MAX_TRAVERSAL_LIMIT \u001b[39m=\u001b[39m \u001b[39m2\u001b[39m\u001b[39m*\u001b[39m\u001b[39m*\u001b[39m\u001b[39m64\u001b[39m \u001b[39m-\u001b[39m \u001b[39m1\u001b[39m\n\u001b[1;32m    144\u001b[0m \u001b[39mwith\u001b[39;00m recursive_scheme\u001b[39m.\u001b[39mfrom_bytes(  \u001b[39m# type: ignore\u001b[39;00m\n\u001b[1;32m    145\u001b[0m     blob, traversal_limit_in_words\u001b[39m=\u001b[39mMAX_TRAVERSAL_LIMIT\n\u001b[1;32m    146\u001b[0m ) \u001b[39mas\u001b[39;00m msg:\n\u001b[0;32m--> 147\u001b[0m     \u001b[39mreturn\u001b[39;00m rs_proto2object(msg, class_type)\n",
      "File \u001b[0;32m~/OpenMined/PySyft/packages/syft/src/syft/core/node/new/recursive.py:188\u001b[0m, in \u001b[0;36mrs_proto2object\u001b[0;34m(proto, class_type)\u001b[0m\n\u001b[1;32m    186\u001b[0m \u001b[39mfor\u001b[39;00m attr_name, attr_bytes_list \u001b[39min\u001b[39;00m \u001b[39mzip\u001b[39m(proto\u001b[39m.\u001b[39mfieldsName, proto\u001b[39m.\u001b[39mfieldsData):\n\u001b[1;32m    187\u001b[0m     attr_bytes \u001b[39m=\u001b[39m combine_bytes(attr_bytes_list)\n\u001b[0;32m--> 188\u001b[0m     attr_value \u001b[39m=\u001b[39m _deserialize(attr_bytes, from_bytes\u001b[39m=\u001b[39;49m\u001b[39mTrue\u001b[39;49;00m)\n\u001b[1;32m    189\u001b[0m     transforms \u001b[39m=\u001b[39m serde_overrides\u001b[39m.\u001b[39mget(attr_name, \u001b[39mNone\u001b[39;00m)\n\u001b[1;32m    191\u001b[0m     \u001b[39mif\u001b[39;00m transforms \u001b[39mis\u001b[39;00m \u001b[39mnot\u001b[39;00m \u001b[39mNone\u001b[39;00m:\n",
      "File \u001b[0;32m~/OpenMined/PySyft/packages/syft/src/syft/core/node/new/deserialize.py:31\u001b[0m, in \u001b[0;36m_deserialize\u001b[0;34m(blob, from_proto, from_bytes, class_type)\u001b[0m\n\u001b[1;32m     28\u001b[0m     \u001b[39mraise\u001b[39;00m \u001b[39mTypeError\u001b[39;00m(\u001b[39m\"\u001b[39m\u001b[39mWrong deserialization format.\u001b[39m\u001b[39m\"\u001b[39m)\n\u001b[1;32m     30\u001b[0m \u001b[39mif\u001b[39;00m from_bytes:\n\u001b[0;32m---> 31\u001b[0m     \u001b[39mreturn\u001b[39;00m rs_bytes2object(blob, class_type)\n\u001b[1;32m     33\u001b[0m \u001b[39mif\u001b[39;00m from_proto:\n\u001b[1;32m     34\u001b[0m     \u001b[39mreturn\u001b[39;00m rs_proto2object(blob, class_type)\n",
      "File \u001b[0;32m~/OpenMined/PySyft/packages/syft/src/syft/core/node/new/recursive.py:147\u001b[0m, in \u001b[0;36mrs_bytes2object\u001b[0;34m(blob, class_type)\u001b[0m\n\u001b[1;32m    142\u001b[0m MAX_TRAVERSAL_LIMIT \u001b[39m=\u001b[39m \u001b[39m2\u001b[39m\u001b[39m*\u001b[39m\u001b[39m*\u001b[39m\u001b[39m64\u001b[39m \u001b[39m-\u001b[39m \u001b[39m1\u001b[39m\n\u001b[1;32m    144\u001b[0m \u001b[39mwith\u001b[39;00m recursive_scheme\u001b[39m.\u001b[39mfrom_bytes(  \u001b[39m# type: ignore\u001b[39;00m\n\u001b[1;32m    145\u001b[0m     blob, traversal_limit_in_words\u001b[39m=\u001b[39mMAX_TRAVERSAL_LIMIT\n\u001b[1;32m    146\u001b[0m ) \u001b[39mas\u001b[39;00m msg:\n\u001b[0;32m--> 147\u001b[0m     \u001b[39mreturn\u001b[39;00m rs_proto2object(msg, class_type)\n",
      "File \u001b[0;32m~/OpenMined/PySyft/packages/syft/src/syft/core/node/new/recursive.py:203\u001b[0m, in \u001b[0;36mrs_proto2object\u001b[0;34m(proto, class_type)\u001b[0m\n\u001b[1;32m    199\u001b[0m     obj \u001b[39m=\u001b[39m class_type\u001b[39m.\u001b[39m\u001b[39m__new__\u001b[39m(class_type, kwargs[\u001b[39m\"\u001b[39m\u001b[39mvalue\u001b[39m\u001b[39m\"\u001b[39m])  \u001b[39m# type: ignore\u001b[39;00m\n\u001b[1;32m    200\u001b[0m \u001b[39melif\u001b[39;00m \u001b[39missubclass\u001b[39m(class_type, BaseModel):\n\u001b[1;32m    201\u001b[0m     \u001b[39m# if we skip the __new__ flow of BaseModel we get the error\u001b[39;00m\n\u001b[1;32m    202\u001b[0m     \u001b[39m# AttributeError: object has no attribute '__fields_set__'\u001b[39;00m\n\u001b[0;32m--> 203\u001b[0m     obj \u001b[39m=\u001b[39m class_type(\u001b[39m*\u001b[39;49m\u001b[39m*\u001b[39;49mkwargs)\n\u001b[1;32m    204\u001b[0m \u001b[39melse\u001b[39;00m:\n\u001b[1;32m    205\u001b[0m     obj \u001b[39m=\u001b[39m class_type\u001b[39m.\u001b[39m\u001b[39m__new__\u001b[39m(class_type)  \u001b[39m# type: ignore\u001b[39;00m\n",
      "File \u001b[0;32m~/OpenMined/PySyft/packages/syft/src/syft/core/node/new/syft_object.py:307\u001b[0m, in \u001b[0;36mSyftObject.__init__\u001b[0;34m(self, **kwargs)\u001b[0m\n\u001b[1;32m    306\u001b[0m \u001b[39mdef\u001b[39;00m \u001b[39m__init__\u001b[39m(\u001b[39mself\u001b[39m, \u001b[39m*\u001b[39m\u001b[39m*\u001b[39mkwargs) \u001b[39m-\u001b[39m\u001b[39m>\u001b[39m \u001b[39mNone\u001b[39;00m:\n\u001b[0;32m--> 307\u001b[0m     \u001b[39msuper\u001b[39;49m()\u001b[39m.\u001b[39;49m\u001b[39m__init__\u001b[39;49m(\u001b[39m*\u001b[39;49m\u001b[39m*\u001b[39;49mkwargs)\n\u001b[1;32m    308\u001b[0m     \u001b[39mself\u001b[39m\u001b[39m.\u001b[39m_syft_set_validate_private_attrs_(\u001b[39m*\u001b[39m\u001b[39m*\u001b[39mkwargs)\n\u001b[1;32m    309\u001b[0m     \u001b[39mself\u001b[39m\u001b[39m.\u001b[39m__post_init__()\n",
      "File \u001b[0;32m~/anaconda3/envs/PySyft/lib/python3.10/site-packages/pydantic/main.py:341\u001b[0m, in \u001b[0;36mpydantic.main.BaseModel.__init__\u001b[0;34m()\u001b[0m\n",
      "\u001b[0;31mValidationError\u001b[0m: 2 validation errors for UserCode\noutput_policy_state\n  'utf-8' codec can't decode byte 0xca in position 100: invalid continuation byte (type=value_error.unicodedecode)\noutput_policy_state\n  value is not a valid dict (type=type_error.dict)"
     ]
    }
   ],
   "source": [
    "client.notifications[-1].link.changes[0].link"
   ]
  },
  {
   "cell_type": "code",
   "execution_count": null,
   "metadata": {},
   "outputs": [
    {
     "ename": "ValidationError",
     "evalue": "2 validation errors for UserCode\noutput_policy_state\n  'utf-8' codec can't decode byte 0xca in position 100: invalid continuation byte (type=value_error.unicodedecode)\noutput_policy_state\n  value is not a valid dict (type=type_error.dict)",
     "output_type": "error",
     "traceback": [
      "\u001b[0;31m---------------------------------------------------------------------------\u001b[0m",
      "\u001b[0;31mValidationError\u001b[0m                           Traceback (most recent call last)",
      "\u001b[1;32m/home/teo/OpenMined/PySyft/notebooks/bugs/test_user_policy.ipynb Cell 24\u001b[0m in \u001b[0;36m2\n\u001b[1;32m      <a href='vscode-notebook-cell:/home/teo/OpenMined/PySyft/notebooks/bugs/test_user_policy.ipynb#X32sZmlsZQ%3D%3D?line=0'>1</a>\u001b[0m request \u001b[39m=\u001b[39m client\u001b[39m.\u001b[39mnotifications[\u001b[39m-\u001b[39m\u001b[39m1\u001b[39m]\u001b[39m.\u001b[39mlink\n\u001b[0;32m----> <a href='vscode-notebook-cell:/home/teo/OpenMined/PySyft/notebooks/bugs/test_user_policy.ipynb#X32sZmlsZQ%3D%3D?line=1'>2</a>\u001b[0m func \u001b[39m=\u001b[39m request\u001b[39m.\u001b[39;49mchanges[\u001b[39m0\u001b[39;49m]\u001b[39m.\u001b[39;49mlink\n\u001b[1;32m      <a href='vscode-notebook-cell:/home/teo/OpenMined/PySyft/notebooks/bugs/test_user_policy.ipynb#X32sZmlsZQ%3D%3D?line=2'>3</a>\u001b[0m result \u001b[39m=\u001b[39m func\u001b[39m.\u001b[39munsafe_function(x\u001b[39m=\u001b[39mx_pointer)\n\u001b[1;32m      <a href='vscode-notebook-cell:/home/teo/OpenMined/PySyft/notebooks/bugs/test_user_policy.ipynb#X32sZmlsZQ%3D%3D?line=3'>4</a>\u001b[0m \u001b[39m# func.output_policy\u001b[39;00m\n",
      "File \u001b[0;32m~/OpenMined/PySyft/packages/syft/src/syft/core/node/new/request.py:519\u001b[0m, in \u001b[0;36mUserCodeStatusChange.link\u001b[0;34m(self)\u001b[0m\n\u001b[1;32m    516\u001b[0m \u001b[39m@property\u001b[39m\n\u001b[1;32m    517\u001b[0m \u001b[39mdef\u001b[39;00m \u001b[39mlink\u001b[39m(\u001b[39mself\u001b[39m) \u001b[39m-\u001b[39m\u001b[39m>\u001b[39m Optional[SyftObject]:\n\u001b[1;32m    518\u001b[0m     \u001b[39mif\u001b[39;00m \u001b[39mself\u001b[39m\u001b[39m.\u001b[39mlinked_obj:\n\u001b[0;32m--> 519\u001b[0m         \u001b[39mreturn\u001b[39;00m \u001b[39mself\u001b[39;49m\u001b[39m.\u001b[39;49mlinked_obj\u001b[39m.\u001b[39;49mresolve\n\u001b[1;32m    520\u001b[0m     \u001b[39mreturn\u001b[39;00m \u001b[39mNone\u001b[39;00m\n",
      "File \u001b[0;32m~/OpenMined/PySyft/packages/syft/src/syft/core/node/new/linked_obj.py:39\u001b[0m, in \u001b[0;36mLinkedObject.resolve\u001b[0;34m(self)\u001b[0m\n\u001b[1;32m     36\u001b[0m \u001b[39mfrom\u001b[39;00m \u001b[39m.\u001b[39;00m\u001b[39mapi\u001b[39;00m \u001b[39mimport\u001b[39;00m APIRegistry\n\u001b[1;32m     38\u001b[0m api \u001b[39m=\u001b[39m APIRegistry\u001b[39m.\u001b[39mapi_for(node_uid\u001b[39m=\u001b[39m\u001b[39mself\u001b[39m\u001b[39m.\u001b[39mnode_uid)\n\u001b[0;32m---> 39\u001b[0m \u001b[39mreturn\u001b[39;00m api\u001b[39m.\u001b[39;49mservices\u001b[39m.\u001b[39;49mmessages\u001b[39m.\u001b[39;49mresolve_object(\u001b[39mself\u001b[39;49m)\n",
      "File \u001b[0;32m~/OpenMined/PySyft/packages/syft/src/syft/core/node/new/api.py:248\u001b[0m, in \u001b[0;36mgenerate_remote_function.<locals>.wrapper\u001b[0;34m(*args, **kwargs)\u001b[0m\n\u001b[1;32m    240\u001b[0m     _valid_kwargs\u001b[39m.\u001b[39mupdate(pre_kwargs)\n\u001b[1;32m    241\u001b[0m api_call \u001b[39m=\u001b[39m SyftAPICall(\n\u001b[1;32m    242\u001b[0m     node_uid\u001b[39m=\u001b[39mnode_uid,\n\u001b[1;32m    243\u001b[0m     path\u001b[39m=\u001b[39mpath,\n\u001b[0;32m   (...)\u001b[0m\n\u001b[1;32m    246\u001b[0m     blocking\u001b[39m=\u001b[39mblocking,\n\u001b[1;32m    247\u001b[0m )\n\u001b[0;32m--> 248\u001b[0m result \u001b[39m=\u001b[39m make_call(api_call\u001b[39m=\u001b[39;49mapi_call)\n\u001b[1;32m    249\u001b[0m \u001b[39mreturn\u001b[39;00m result\n",
      "File \u001b[0;32m~/OpenMined/PySyft/packages/syft/src/syft/core/node/new/api.py:349\u001b[0m, in \u001b[0;36mSyftAPI.make_call\u001b[0;34m(self, api_call)\u001b[0m\n\u001b[1;32m    346\u001b[0m \u001b[39mif\u001b[39;00m \u001b[39mnot\u001b[39;00m signed_result\u001b[39m.\u001b[39mis_valid:\n\u001b[1;32m    347\u001b[0m     \u001b[39mreturn\u001b[39;00m SyftError(message\u001b[39m=\u001b[39m\u001b[39m\"\u001b[39m\u001b[39mThe result signature is invalid\u001b[39m\u001b[39m\"\u001b[39m)  \u001b[39m# type: ignore\u001b[39;00m\n\u001b[0;32m--> 349\u001b[0m result \u001b[39m=\u001b[39m signed_result\u001b[39m.\u001b[39;49mmessage\u001b[39m.\u001b[39mdata\n\u001b[1;32m    351\u001b[0m \u001b[39mif\u001b[39;00m \u001b[39misinstance\u001b[39m(result, OkErr):\n\u001b[1;32m    352\u001b[0m     \u001b[39mif\u001b[39;00m result\u001b[39m.\u001b[39mis_ok():\n",
      "File \u001b[0;32m~/OpenMined/PySyft/packages/syft/src/syft/core/node/new/api.py:93\u001b[0m, in \u001b[0;36mSignedSyftAPICall.message\u001b[0;34m(self)\u001b[0m\n\u001b[1;32m     90\u001b[0m     \u001b[39mself\u001b[39m\u001b[39m.\u001b[39mcached_deseralized_message \u001b[39m=\u001b[39m \u001b[39mNone\u001b[39;00m\n\u001b[1;32m     92\u001b[0m \u001b[39mif\u001b[39;00m \u001b[39mself\u001b[39m\u001b[39m.\u001b[39mcached_deseralized_message \u001b[39mis\u001b[39;00m \u001b[39mNone\u001b[39;00m:\n\u001b[0;32m---> 93\u001b[0m     \u001b[39mself\u001b[39m\u001b[39m.\u001b[39mcached_deseralized_message \u001b[39m=\u001b[39m _deserialize(\n\u001b[1;32m     94\u001b[0m         blob\u001b[39m=\u001b[39;49m\u001b[39mself\u001b[39;49m\u001b[39m.\u001b[39;49mserialized_message, from_bytes\u001b[39m=\u001b[39;49m\u001b[39mTrue\u001b[39;49;00m\n\u001b[1;32m     95\u001b[0m     )\n\u001b[1;32m     97\u001b[0m \u001b[39mreturn\u001b[39;00m \u001b[39mself\u001b[39m\u001b[39m.\u001b[39mcached_deseralized_message\n",
      "File \u001b[0;32m~/OpenMined/PySyft/packages/syft/src/syft/core/node/new/deserialize.py:31\u001b[0m, in \u001b[0;36m_deserialize\u001b[0;34m(blob, from_proto, from_bytes, class_type)\u001b[0m\n\u001b[1;32m     28\u001b[0m     \u001b[39mraise\u001b[39;00m \u001b[39mTypeError\u001b[39;00m(\u001b[39m\"\u001b[39m\u001b[39mWrong deserialization format.\u001b[39m\u001b[39m\"\u001b[39m)\n\u001b[1;32m     30\u001b[0m \u001b[39mif\u001b[39;00m from_bytes:\n\u001b[0;32m---> 31\u001b[0m     \u001b[39mreturn\u001b[39;00m rs_bytes2object(blob, class_type)\n\u001b[1;32m     33\u001b[0m \u001b[39mif\u001b[39;00m from_proto:\n\u001b[1;32m     34\u001b[0m     \u001b[39mreturn\u001b[39;00m rs_proto2object(blob, class_type)\n",
      "File \u001b[0;32m~/OpenMined/PySyft/packages/syft/src/syft/core/node/new/recursive.py:147\u001b[0m, in \u001b[0;36mrs_bytes2object\u001b[0;34m(blob, class_type)\u001b[0m\n\u001b[1;32m    142\u001b[0m MAX_TRAVERSAL_LIMIT \u001b[39m=\u001b[39m \u001b[39m2\u001b[39m\u001b[39m*\u001b[39m\u001b[39m*\u001b[39m\u001b[39m64\u001b[39m \u001b[39m-\u001b[39m \u001b[39m1\u001b[39m\n\u001b[1;32m    144\u001b[0m \u001b[39mwith\u001b[39;00m recursive_scheme\u001b[39m.\u001b[39mfrom_bytes(  \u001b[39m# type: ignore\u001b[39;00m\n\u001b[1;32m    145\u001b[0m     blob, traversal_limit_in_words\u001b[39m=\u001b[39mMAX_TRAVERSAL_LIMIT\n\u001b[1;32m    146\u001b[0m ) \u001b[39mas\u001b[39;00m msg:\n\u001b[0;32m--> 147\u001b[0m     \u001b[39mreturn\u001b[39;00m rs_proto2object(msg, class_type)\n",
      "File \u001b[0;32m~/OpenMined/PySyft/packages/syft/src/syft/core/node/new/recursive.py:188\u001b[0m, in \u001b[0;36mrs_proto2object\u001b[0;34m(proto, class_type)\u001b[0m\n\u001b[1;32m    186\u001b[0m \u001b[39mfor\u001b[39;00m attr_name, attr_bytes_list \u001b[39min\u001b[39;00m \u001b[39mzip\u001b[39m(proto\u001b[39m.\u001b[39mfieldsName, proto\u001b[39m.\u001b[39mfieldsData):\n\u001b[1;32m    187\u001b[0m     attr_bytes \u001b[39m=\u001b[39m combine_bytes(attr_bytes_list)\n\u001b[0;32m--> 188\u001b[0m     attr_value \u001b[39m=\u001b[39m _deserialize(attr_bytes, from_bytes\u001b[39m=\u001b[39;49m\u001b[39mTrue\u001b[39;49;00m)\n\u001b[1;32m    189\u001b[0m     transforms \u001b[39m=\u001b[39m serde_overrides\u001b[39m.\u001b[39mget(attr_name, \u001b[39mNone\u001b[39;00m)\n\u001b[1;32m    191\u001b[0m     \u001b[39mif\u001b[39;00m transforms \u001b[39mis\u001b[39;00m \u001b[39mnot\u001b[39;00m \u001b[39mNone\u001b[39;00m:\n",
      "File \u001b[0;32m~/OpenMined/PySyft/packages/syft/src/syft/core/node/new/deserialize.py:31\u001b[0m, in \u001b[0;36m_deserialize\u001b[0;34m(blob, from_proto, from_bytes, class_type)\u001b[0m\n\u001b[1;32m     28\u001b[0m     \u001b[39mraise\u001b[39;00m \u001b[39mTypeError\u001b[39;00m(\u001b[39m\"\u001b[39m\u001b[39mWrong deserialization format.\u001b[39m\u001b[39m\"\u001b[39m)\n\u001b[1;32m     30\u001b[0m \u001b[39mif\u001b[39;00m from_bytes:\n\u001b[0;32m---> 31\u001b[0m     \u001b[39mreturn\u001b[39;00m rs_bytes2object(blob, class_type)\n\u001b[1;32m     33\u001b[0m \u001b[39mif\u001b[39;00m from_proto:\n\u001b[1;32m     34\u001b[0m     \u001b[39mreturn\u001b[39;00m rs_proto2object(blob, class_type)\n",
      "File \u001b[0;32m~/OpenMined/PySyft/packages/syft/src/syft/core/node/new/recursive.py:147\u001b[0m, in \u001b[0;36mrs_bytes2object\u001b[0;34m(blob, class_type)\u001b[0m\n\u001b[1;32m    142\u001b[0m MAX_TRAVERSAL_LIMIT \u001b[39m=\u001b[39m \u001b[39m2\u001b[39m\u001b[39m*\u001b[39m\u001b[39m*\u001b[39m\u001b[39m64\u001b[39m \u001b[39m-\u001b[39m \u001b[39m1\u001b[39m\n\u001b[1;32m    144\u001b[0m \u001b[39mwith\u001b[39;00m recursive_scheme\u001b[39m.\u001b[39mfrom_bytes(  \u001b[39m# type: ignore\u001b[39;00m\n\u001b[1;32m    145\u001b[0m     blob, traversal_limit_in_words\u001b[39m=\u001b[39mMAX_TRAVERSAL_LIMIT\n\u001b[1;32m    146\u001b[0m ) \u001b[39mas\u001b[39;00m msg:\n\u001b[0;32m--> 147\u001b[0m     \u001b[39mreturn\u001b[39;00m rs_proto2object(msg, class_type)\n",
      "File \u001b[0;32m~/OpenMined/PySyft/packages/syft/src/syft/core/node/new/recursive.py:203\u001b[0m, in \u001b[0;36mrs_proto2object\u001b[0;34m(proto, class_type)\u001b[0m\n\u001b[1;32m    199\u001b[0m     obj \u001b[39m=\u001b[39m class_type\u001b[39m.\u001b[39m\u001b[39m__new__\u001b[39m(class_type, kwargs[\u001b[39m\"\u001b[39m\u001b[39mvalue\u001b[39m\u001b[39m\"\u001b[39m])  \u001b[39m# type: ignore\u001b[39;00m\n\u001b[1;32m    200\u001b[0m \u001b[39melif\u001b[39;00m \u001b[39missubclass\u001b[39m(class_type, BaseModel):\n\u001b[1;32m    201\u001b[0m     \u001b[39m# if we skip the __new__ flow of BaseModel we get the error\u001b[39;00m\n\u001b[1;32m    202\u001b[0m     \u001b[39m# AttributeError: object has no attribute '__fields_set__'\u001b[39;00m\n\u001b[0;32m--> 203\u001b[0m     obj \u001b[39m=\u001b[39m class_type(\u001b[39m*\u001b[39;49m\u001b[39m*\u001b[39;49mkwargs)\n\u001b[1;32m    204\u001b[0m \u001b[39melse\u001b[39;00m:\n\u001b[1;32m    205\u001b[0m     obj \u001b[39m=\u001b[39m class_type\u001b[39m.\u001b[39m\u001b[39m__new__\u001b[39m(class_type)  \u001b[39m# type: ignore\u001b[39;00m\n",
      "File \u001b[0;32m~/OpenMined/PySyft/packages/syft/src/syft/core/node/new/syft_object.py:307\u001b[0m, in \u001b[0;36mSyftObject.__init__\u001b[0;34m(self, **kwargs)\u001b[0m\n\u001b[1;32m    306\u001b[0m \u001b[39mdef\u001b[39;00m \u001b[39m__init__\u001b[39m(\u001b[39mself\u001b[39m, \u001b[39m*\u001b[39m\u001b[39m*\u001b[39mkwargs) \u001b[39m-\u001b[39m\u001b[39m>\u001b[39m \u001b[39mNone\u001b[39;00m:\n\u001b[0;32m--> 307\u001b[0m     \u001b[39msuper\u001b[39;49m()\u001b[39m.\u001b[39;49m\u001b[39m__init__\u001b[39;49m(\u001b[39m*\u001b[39;49m\u001b[39m*\u001b[39;49mkwargs)\n\u001b[1;32m    308\u001b[0m     \u001b[39mself\u001b[39m\u001b[39m.\u001b[39m_syft_set_validate_private_attrs_(\u001b[39m*\u001b[39m\u001b[39m*\u001b[39mkwargs)\n\u001b[1;32m    309\u001b[0m     \u001b[39mself\u001b[39m\u001b[39m.\u001b[39m__post_init__()\n",
      "File \u001b[0;32m~/anaconda3/envs/PySyft/lib/python3.10/site-packages/pydantic/main.py:341\u001b[0m, in \u001b[0;36mpydantic.main.BaseModel.__init__\u001b[0;34m()\u001b[0m\n",
      "\u001b[0;31mValidationError\u001b[0m: 2 validation errors for UserCode\noutput_policy_state\n  'utf-8' codec can't decode byte 0xca in position 100: invalid continuation byte (type=value_error.unicodedecode)\noutput_policy_state\n  value is not a valid dict (type=type_error.dict)"
     ]
    }
   ],
   "source": [
    "request = client.notifications[-1].link\n",
    "func = request.changes[0].link\n",
    "result = func.unsafe_function(x=x_pointer)\n",
    "# func.output_policy\n",
    "final_result = request.accept_by_depositing_result(result)\n",
    "final_result"
   ]
  },
  {
   "cell_type": "code",
   "execution_count": null,
   "metadata": {},
   "outputs": [
    {
     "ename": "AttributeError",
     "evalue": "'ActionStoreChange' object has no attribute 'link'",
     "output_type": "error",
     "traceback": [
      "\u001b[0;31m---------------------------------------------------------------------------\u001b[0m",
      "\u001b[0;31mAttributeError\u001b[0m                            Traceback (most recent call last)",
      "\u001b[1;32m/home/teo/OpenMined/PySyft/notebooks/bugs/test_user_policy.ipynb Cell 25\u001b[0m in \u001b[0;36m1\n\u001b[0;32m----> <a href='vscode-notebook-cell:/home/teo/OpenMined/PySyft/notebooks/bugs/test_user_policy.ipynb#X46sZmlsZQ%3D%3D?line=0'>1</a>\u001b[0m client\u001b[39m.\u001b[39;49mnotifications[\u001b[39m-\u001b[39;49m\u001b[39m1\u001b[39;49m]\u001b[39m.\u001b[39;49mlink\u001b[39m.\u001b[39;49mchanges[\u001b[39m-\u001b[39;49m\u001b[39m1\u001b[39;49m]\u001b[39m.\u001b[39;49mlink\n",
      "\u001b[0;31mAttributeError\u001b[0m: 'ActionStoreChange' object has no attribute 'link'"
     ]
    }
   ],
   "source": [
    "client.notifications[-1].link.changes[-1]"
   ]
  },
  {
   "cell_type": "code",
   "execution_count": null,
   "metadata": {},
   "outputs": [
    {
     "ename": "AttributeError",
     "evalue": "'APIModule' object has no attribute 'func_plus_one'",
     "output_type": "error",
     "traceback": [
      "\u001b[0;31m---------------------------------------------------------------------------\u001b[0m",
      "\u001b[0;31mAttributeError\u001b[0m                            Traceback (most recent call last)",
      "\u001b[1;32m/home/teo/OpenMined/PySyft/notebooks/bugs/test_user_policy.ipynb Cell 25\u001b[0m in \u001b[0;36m1\n\u001b[0;32m----> <a href='vscode-notebook-cell:/home/teo/OpenMined/PySyft/notebooks/bugs/test_user_policy.ipynb#X34sZmlsZQ%3D%3D?line=0'>1</a>\u001b[0m client\u001b[39m.\u001b[39;49mapi\u001b[39m.\u001b[39;49mservices\u001b[39m.\u001b[39;49mcode\u001b[39m.\u001b[39;49mfunc_plus_one(x\u001b[39m=\u001b[39mx_pointer\u001b[39m.\u001b[39mid)\n",
      "\u001b[0;31mAttributeError\u001b[0m: 'APIModule' object has no attribute 'func_plus_one'"
     ]
    }
   ],
   "source": [
    "client.api.services.code.func_plus_one(x=x_pointer.id)"
   ]
  },
  {
   "cell_type": "code",
   "execution_count": null,
   "metadata": {},
   "outputs": [
    {
     "ename": "",
     "evalue": "",
     "output_type": "error",
     "traceback": [
      "\u001b[1;31mFailed to start the Kernel. \n",
      "\u001b[1;31mKernel PySyft (Python 3.10.4) is not usable. Check the Jupyter output tab for more information. \n",
      "\u001b[1;31mView Jupyter <a href='command:jupyter.viewOutput'>log</a> for further details."
     ]
    }
   ],
   "source": [
    "client.api.services.code.get_all()"
   ]
  },
  {
   "cell_type": "code",
   "execution_count": null,
   "metadata": {},
   "outputs": [
    {
     "ename": "",
     "evalue": "",
     "output_type": "error",
     "traceback": [
      "\u001b[1;31mFailed to start the Kernel. \n",
      "\u001b[1;31mKernel PySyft (Python 3.10.4) is not usable. Check the Jupyter output tab for more information. \n",
      "\u001b[1;31mView Jupyter <a href='command:jupyter.viewOutput'>log</a> for further details."
     ]
    }
   ],
   "source": [
    "func_plus_one = client.api.services.code.get_all()[-1]"
   ]
  },
  {
   "cell_type": "code",
   "execution_count": null,
   "metadata": {},
   "outputs": [
    {
     "ename": "",
     "evalue": "",
     "output_type": "error",
     "traceback": [
      "\u001b[1;31mFailed to start the Kernel. \n",
      "\u001b[1;31mKernel PySyft (Python 3.10.4) is not usable. Check the Jupyter output tab for more information. \n",
      "\u001b[1;31mView Jupyter <a href='command:jupyter.viewOutput'>log</a> for further details."
     ]
    }
   ],
   "source": [
    "print(func_plus_one.output_policy.raw_code)"
   ]
  },
  {
   "cell_type": "code",
   "execution_count": null,
   "metadata": {},
   "outputs": [
    {
     "ename": "",
     "evalue": "",
     "output_type": "error",
     "traceback": [
      "\u001b[1;31mFailed to start the Kernel. \n",
      "\u001b[1;31mKernel PySyft (Python 3.10.4) is not usable. Check the Jupyter output tab for more information. \n",
      "\u001b[1;31mView Jupyter <a href='command:jupyter.viewOutput'>log</a> for further details."
     ]
    }
   ],
   "source": [
    "state = sy.deserialize(func_plus_one.output_policy_state, from_bytes=True, class_type=RepeatedCallPolicy)"
   ]
  },
  {
   "cell_type": "code",
   "execution_count": null,
   "metadata": {},
   "outputs": [
    {
     "ename": "",
     "evalue": "",
     "output_type": "error",
     "traceback": [
      "\u001b[1;31mFailed to start the Kernel. \n",
      "\u001b[1;31mKernel PySyft (Python 3.10.4) is not usable. Check the Jupyter output tab for more information. \n",
      "\u001b[1;31mView Jupyter <a href='command:jupyter.viewOutput'>log</a> for further details."
     ]
    }
   ],
   "source": [
    "state.public_state()"
   ]
  }
 ],
 "metadata": {
  "kernelspec": {
   "display_name": "PySyft",
   "language": "python",
   "name": "python3"
  },
  "language_info": {
   "codemirror_mode": {
    "name": "ipython",
    "version": 3
   },
   "file_extension": ".py",
   "mimetype": "text/x-python",
   "name": "python",
   "nbconvert_exporter": "python",
   "pygments_lexer": "ipython3",
   "version": "3.10.4"
  },
  "orig_nbformat": 4,
  "vscode": {
   "interpreter": {
    "hash": "4793a45c21657cf3d03167fad0b0286070df6dcd03825f60c6ea99cbb4eef702"
   }
  }
 },
 "nbformat": 4,
 "nbformat_minor": 2
}
