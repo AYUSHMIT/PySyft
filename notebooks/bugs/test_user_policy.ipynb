{
 "cells": [
  {
   "cell_type": "code",
   "execution_count": 1,
   "metadata": {},
   "outputs": [
    {
     "name": "stderr",
     "output_type": "stream",
     "text": [
      "2023-03-10 19:44:19.635040: W tensorflow/stream_executor/platform/default/dso_loader.cc:64] Could not load dynamic library 'libcudart.so.11.0'; dlerror: libcudart.so.11.0: cannot open shared object file: No such file or directory; LD_LIBRARY_PATH: /usr/local/cuda-11.5/lib64:/usr/local/cuda-11.5/lib64:\n",
      "2023-03-10 19:44:19.650175: E tensorflow/stream_executor/cuda/cuda_blas.cc:2981] Unable to register cuBLAS factory: Attempting to register factory for plugin cuBLAS when one has already been registered\n",
      "2023-03-10 19:44:20.092081: W tensorflow/stream_executor/platform/default/dso_loader.cc:64] Could not load dynamic library 'libnvinfer.so.7'; dlerror: libnvrtc.so.11.1: cannot open shared object file: No such file or directory; LD_LIBRARY_PATH: /usr/local/cuda-11.5/lib64:/usr/local/cuda-11.5/lib64:\n",
      "2023-03-10 19:44:20.092235: W tensorflow/stream_executor/platform/default/dso_loader.cc:64] Could not load dynamic library 'libnvinfer_plugin.so.7'; dlerror: libnvrtc.so.11.1: cannot open shared object file: No such file or directory; LD_LIBRARY_PATH: /usr/local/cuda-11.5/lib64:/usr/local/cuda-11.5/lib64:\n",
      "2023-03-10 19:44:20.092243: W tensorflow/compiler/tf2tensorrt/utils/py_utils.cc:38] TF-TRT Warning: Cannot dlopen some TensorRT libraries. If you would like to use Nvidia GPU with TensorRT, please make sure the missing libraries mentioned above are installed properly.\n",
      "Exception in thread Thread-5 (target_fn):\n",
      "Traceback (most recent call last):\n",
      "  File \"/home/teo/anaconda3/envs/PySyft/lib/python3.10/threading.py\", line 1009, in _bootstrap_inner\n",
      "    self.run()\n",
      "  File \"/home/teo/anaconda3/envs/PySyft/lib/python3.10/threading.py\", line 946, in run\n",
      "    self._target(*self._args, **self._kwargs)\n",
      "  File \"/home/teo/anaconda3/envs/PySyft/lib/python3.10/site-packages/tensorflow_federated/python/common_libs/async_utils.py\", line 206, in target_fn\n",
      "    self._event_loop.run_forever()\n",
      "  File \"/home/teo/anaconda3/envs/PySyft/lib/python3.10/asyncio/base_events.py\", line 600, in run_forever\n",
      "    self._run_once()\n",
      "  File \"/home/teo/anaconda3/envs/PySyft/lib/python3.10/asyncio/base_events.py\", line 1860, in _run_once\n",
      "    event_list = self._selector.select(timeout)\n",
      "  File \"/home/teo/anaconda3/envs/PySyft/lib/python3.10/site-packages/gevent/selectors.py\", line 201, in select\n",
      "    self._ready.wait(timeout)\n",
      "  File \"src/gevent/event.py\", line 163, in gevent._gevent_cevent.Event.wait\n",
      "  File \"src/gevent/_abstract_linkable.py\", line 521, in gevent._gevent_c_abstract_linkable.AbstractLinkable._wait\n",
      "  File \"src/gevent/_abstract_linkable.py\", line 487, in gevent._gevent_c_abstract_linkable.AbstractLinkable._wait_core\n",
      "  File \"src/gevent/_abstract_linkable.py\", line 490, in gevent._gevent_c_abstract_linkable.AbstractLinkable._wait_core\n",
      "  File \"src/gevent/_abstract_linkable.py\", line 442, in gevent._gevent_c_abstract_linkable.AbstractLinkable._AbstractLinkable__wait_to_be_notified\n",
      "  File \"src/gevent/_abstract_linkable.py\", line 451, in gevent._gevent_c_abstract_linkable.AbstractLinkable._switch_to_hub\n",
      "  File \"src/gevent/_greenlet_primitives.py\", line 61, in gevent._gevent_c_greenlet_primitives.SwitchOutGreenletWithLoop.switch\n",
      "  File \"src/gevent/_greenlet_primitives.py\", line 65, in gevent._gevent_c_greenlet_primitives.SwitchOutGreenletWithLoop.switch\n",
      "  File \"src/gevent/_gevent_c_greenlet_primitives.pxd\", line 35, in gevent._gevent_c_greenlet_primitives._greenlet_switch\n",
      "gevent.exceptions.LoopExit: This operation would block forever\n",
      "\tHub: <Hub '' at 0x7f73b160ae00 epoll pending=0 ref=0 fileno=69 thread_ident=0x7f73b1423700>\n",
      "\tHandles:\n",
      "[]\n"
     ]
    }
   ],
   "source": [
    "import syft as sy\n",
    "import numpy as np\n",
    "from syft.core.node.worker import Worker\n",
    "from syft.core.node.new.user_code import SubmitUserCode\n",
    "from syft.core.node.new.policy import SubmitUserPolicy"
   ]
  },
  {
   "cell_type": "code",
   "execution_count": 2,
   "metadata": {},
   "outputs": [
    {
     "name": "stdout",
     "output_type": "stream",
     "text": [
      "> Starting Worker: Distracted Song - 0beb94bcd49143a9a12e6fea92a4b991 - NodeType.DOMAIN - [<class 'syft.core.node.new.user_service.UserService'>, <class 'syft.core.node.new.metadata_service.MetadataService'>, <class 'syft.core.node.new.action_service.ActionService'>, <class 'syft.core.node.new.test_service.TestService'>, <class 'syft.core.node.new.task.oblv_service.OblvService'>, <class 'syft.core.node.new.dataset_service.DatasetService'>, <class 'syft.core.node.new.user_code_service.UserCodeService'>, <class 'syft.core.node.new.request_service.RequestService'>, <class 'syft.core.node.new.data_subject_service.DataSubjectService'>, <class 'syft.core.node.new.network_service.NetworkService'>, <class 'syft.core.node.new.policy_service.PolicyService'>, <class 'syft.core.node.new.message_service.MessageService'>, <class 'syft.core.node.new.project_service.ProjectService'>, <class 'syft.core.node.new.data_subject_member_service.DataSubjectMemberService'>]\n"
     ]
    }
   ],
   "source": [
    "worker = Worker()"
   ]
  },
  {
   "cell_type": "code",
   "execution_count": 3,
   "metadata": {},
   "outputs": [
    {
     "name": "stdout",
     "output_type": "stream",
     "text": [
      "Logged into Distracted Song as <info@openmined.org>\n"
     ]
    }
   ],
   "source": [
    "client = sy.login(node=worker, email=\"info@openmined.org\", password=\"changethis\")"
   ]
  },
  {
   "cell_type": "code",
   "execution_count": 4,
   "metadata": {},
   "outputs": [],
   "source": [
    "import inspect\n",
    "import sys\n",
    "from IPython.core.magics.code import extract_symbols\n",
    "\n",
    "def is_interpreter_jupyter() -> bool:\n",
    "    return get_interpreter_module() == 'ipykernel.zmqshell'\n",
    "\n",
    "def is_interpreter_colab() -> bool:\n",
    "    return get_interpreter_module() == 'google.colab._shell'\n",
    "\n",
    "def is_interpreter_standard() -> bool:\n",
    "    return get_interpreter_module() == 'StandardInterpreter'\n",
    "\n",
    "def get_interpreter_module() -> str:\n",
    "    try:\n",
    "        shell = get_ipython().__class__.__module__\n",
    "        return shell\n",
    "    except NameError:\n",
    "        return \"StandardInterpreter\" # not sure    \n",
    "\n",
    "def new_getfile(object):\n",
    "    if not inspect.isclass(object):\n",
    "        return inspect.getfile(object)\n",
    "    \n",
    "    # Lookup by parent module (as in current inspect)\n",
    "    if hasattr(object, '__module__'):\n",
    "        object_ = sys.modules.get(object.__module__)\n",
    "        if hasattr(object_, '__file__'):\n",
    "            return object_.__file__\n",
    "    \n",
    "    # If parent module is __main__, lookup by methods (NEW)\n",
    "    for _, member in inspect.getmembers(object):\n",
    "        if inspect.isfunction(member) and object.__qualname__ + '.' + member.__name__ == member.__qualname__:\n",
    "            return inspect.getfile(member)\n",
    "    else:\n",
    "        raise TypeError('Source for {!r} not found'.format(object))\n",
    "\n",
    "def get_code_from_class(policy):\n",
    "    klasses = inspect.getmro(policy)[-2::-1]\n",
    "    whole_str = \"\"\n",
    "    for klass in klasses:\n",
    "        if is_interpreter_jupyter():\n",
    "            cell_code = \"\".join(inspect.linecache.getlines(new_getfile(klass)))\n",
    "            class_code = extract_symbols(cell_code, klass.__name__)[0][0]\n",
    "        else:\n",
    "            class_code = inspect.getsource(klass)\n",
    "        whole_str += class_code\n",
    "    return whole_str"
   ]
  },
  {
   "cell_type": "code",
   "execution_count": 5,
   "metadata": {},
   "outputs": [],
   "source": [
    "from syft.core.common.serde.serializable import serializable\n",
    "from syft.core.node.new.user_code import ExactMatch, SingleExecutionExactOutput, OutputPolicy\n",
    "from syft.core.node.new.action_object import ActionObject\n",
    "\n",
    "class RepeatedCallPolicy():\n",
    "    # from syft.core.node.new.action_object import ActionObject\n",
    "    from typing import Dict\n",
    "    from typing import Any\n",
    "    \n",
    "    def __init__(self, n_calls=1, downloadable_output_args=[]):\n",
    "        self.n_calls = n_calls + 1\n",
    "        self.downloadable_output_args = downloadable_output_args\n",
    "        self.state = {\"counts\": 0}\n",
    "        # super.__init__(n_calls=n_calls, downloadable_output_args=downloadable_output_args)\n",
    "\n",
    "    def __repr__(self) -> str:\n",
    "        return f'RepeatedCallPolicy - {self.n_calls}/{self.downloadable_output_args}/{self.state}'\n",
    "\n",
    "    def public_state(self):\n",
    "        return self.state[\"counts\"]\n",
    "        \n",
    "    def apply_output(self, action_object) -> Dict[Any, Any]:\n",
    "        results_dict = action_object.syft_action_data        \n",
    "        if self.state[\"counts\"] < self.n_calls:\n",
    "            for output_arg in self.downloadable_output_args:\n",
    "                # results_dict[output_arg] = results_dict[output_arg].set_permission(READ, self.my_verify_key)\n",
    "                results_dict[output_arg] = results_dict[output_arg]\n",
    "\n",
    "            self.state[\"counts\"] += 1\n",
    "        else:\n",
    "            return \n",
    "            \n",
    "        return results_dict\n",
    "    \n",
    "    "
   ]
  },
  {
   "cell_type": "code",
   "execution_count": 6,
   "metadata": {},
   "outputs": [
    {
     "data": {
      "text/html": [
       "{&#x27;y&#x27;: [1, 2, 3]}"
      ],
      "text/plain": [
       "{'y': [1, 2, 3]}"
      ]
     },
     "execution_count": 6,
     "metadata": {},
     "output_type": "execute_result"
    }
   ],
   "source": [
    "policy = RepeatedCallPolicy(downloadable_output_args=['y'])\n",
    "obj = ActionObject.from_obj({'y': [1,2,3]})\n",
    "policy.apply_output(obj)"
   ]
  },
  {
   "cell_type": "code",
   "execution_count": 7,
   "metadata": {},
   "outputs": [
    {
     "data": {
      "text/html": [
       "<div class=\"alert-success\" style=\"padding:5px;\"><strong>SyftSuccess</strong>: <class 'syft.core.node.new.numpy.NumpyArrayObject'> saved</div><br />"
      ],
      "text/plain": [
       "<class 'syft.core.node.new.response.SyftSuccess'>: <class 'syft.core.node.new.numpy.NumpyArrayObject'> saved"
      ]
     },
     "execution_count": 7,
     "metadata": {},
     "output_type": "execute_result"
    }
   ],
   "source": [
    "import numpy as np\n",
    "from syft.core.node.new.twin_object import to_action_object\n",
    "\n",
    "x = np.array([1,2,3])\n",
    "x_pointer = to_action_object(x)\n",
    "client.api.services.action.save(x_pointer)"
   ]
  },
  {
   "cell_type": "code",
   "execution_count": 8,
   "metadata": {},
   "outputs": [
    {
     "name": "stdout",
     "output_type": "stream",
     "text": [
      "SubmitUserPolicy\n",
      "('x',)\n"
     ]
    }
   ],
   "source": [
    "@sy.syft_function(\n",
    "    input_policy=ExactMatch(x=x_pointer),\n",
    "    # input_policy_init_args={'inputs':{'x':4}},\n",
    "    # output_policy=SingleExecutionExactOutput,\n",
    "    # output_policy_init_args={},\n",
    "    output_policy=RepeatedCallPolicy,\n",
    "    output_policy_init_args={\"n_calls\":1, 'downloadable_output_args':['y']},\n",
    "    outputs=[\"y\"]\n",
    ")\n",
    "def func(x):\n",
    "    return {\"y\": x}\n"
   ]
  },
  {
   "cell_type": "code",
   "execution_count": 9,
   "metadata": {},
   "outputs": [
    {
     "name": "stderr",
     "output_type": "stream",
     "text": [
      "Noerr before code to usercode\n",
      "['x']\n",
      "code processing complete\n",
      "Noerr before policy transformations\n",
      "Noerr\n"
     ]
    },
    {
     "data": {
      "text/markdown": [
       "```python\n",
       "class Request:\n",
       "  id: str = da386ab680f34d09b30d2bb5a5f6d279\n",
       "  requesting_user_verify_key: str = 16ccb1e2bdabeae2e1705fbdfd3b8eac28827dd99535fe116e68b1b9fd808986\n",
       "  approving_user_verify_key: str = None\n",
       "  request_time: str = 2023-03-10 15:44:22\n",
       "  approval_time: str = None\n",
       "  status: str = RequestStatus.PENDING\n",
       "  node_uid: str = 0beb94bcd49143a9a12e6fea92a4b991\n",
       "  request_hash: str = \"ab56f47a0a23e202c0f675d341ef37d88e4832217ac1ed88663c50ad4a028779\"\n",
       "  changes: str = [syft.core.node.new.request.UserCodeStatusChange]\n",
       "\n",
       "```"
      ],
      "text/plain": [
       "syft.core.node.new.request.Request"
      ]
     },
     "execution_count": 9,
     "metadata": {},
     "output_type": "execute_result"
    }
   ],
   "source": [
    "client.api.services.code.request_code_execution(func)"
   ]
  },
  {
   "cell_type": "code",
   "execution_count": 10,
   "metadata": {},
   "outputs": [
    {
     "name": "stdout",
     "output_type": "stream",
     "text": [
      "Logged into Distracted Song as <info@openmined.org>\n"
     ]
    }
   ],
   "source": [
    "client = sy.login(node=worker, email=\"info@openmined.org\", password=\"changethis\", cache=False)"
   ]
  },
  {
   "cell_type": "code",
   "execution_count": 11,
   "metadata": {},
   "outputs": [
    {
     "name": "stdout",
     "output_type": "stream",
     "text": [
      "WARNING: This code was submitted by a User and could be UNSAFE.\n"
     ]
    },
    {
     "data": {
      "text/html": [
       "<div class=\"alert-success\" style=\"padding:5px;\"><strong>SyftSuccess</strong>: Request da386ab680f34d09b30d2bb5a5f6d279 changes applied</div><br />"
      ],
      "text/plain": [
       "<class 'syft.core.node.new.response.SyftSuccess'>: Request da386ab680f34d09b30d2bb5a5f6d279 changes applied"
      ]
     },
     "execution_count": 11,
     "metadata": {},
     "output_type": "execute_result"
    }
   ],
   "source": [
    "request = client.notifications[0].link\n",
    "func = request.changes[0].link\n",
    "result = func.unsafe_function(x=x_pointer)\n",
    "# func.output_policy\n",
    "final_result = request.accept_by_depositing_result(result)\n",
    "final_result"
   ]
  },
  {
   "cell_type": "code",
   "execution_count": 12,
   "metadata": {},
   "outputs": [
    {
     "data": {
      "text/markdown": [
       "```python\n",
       "class UserPolicy:\n",
       "  id: str = 8a5f8700ba6649eca581210bac6ff3ec\n",
       "  user_verify_key: str = 16ccb1e2bdabeae2e1705fbdfd3b8eac28827dd99535fe116e68b1b9fd808986\n",
       "  raw_code: str = \"@serializable(recursive_serde=True)\n",
       "class RepeatedCallPolicy():\n",
       "    # from syft.core.node.new.action_object import ActionObject\n",
       "    from typing import Dict\n",
       "    from typing import Any\n",
       "    \n",
       "    def __init__(self, n_calls=1, downloadable_output_args=[]):\n",
       "        self.n_calls = n_calls + 1\n",
       "        self.downloadable_output_args = downloadable_output_args\n",
       "        self.state = {\"counts\": 0}\n",
       "        # super.__init__(n_calls=n_calls, downloadable_output_args=downloadable_output_args)\n",
       "\n",
       "    def __repr__(self) -> str:\n",
       "        return f'RepeatedCallPolicy - {self.n_calls}/{self.downloadable_output_args}/{self.state}'\n",
       "\n",
       "    def public_state(self):\n",
       "        return self.state[\"counts\"]\n",
       "        \n",
       "    def apply_output(self, action_object) -> Dict[Any, Any]:\n",
       "        results_dict = action_object.syft_action_data        \n",
       "        if self.state[\"counts\"] < self.n_calls:\n",
       "            for output_arg in self.downloadable_output_args:\n",
       "                # results_dict[output_arg] = results_dict[output_arg].set_permission(READ, self.my_verify_key)\n",
       "                results_dict[output_arg] = results_dict[output_arg]\n",
       "\n",
       "            self.state[\"counts\"] += 1\n",
       "        else:\n",
       "            return \n",
       "            \n",
       "        return results_dict\n",
       "\"\n",
       "  parsed_code: str = \"@serializable(recursive_serde=True)\n",
       "class RepeatedCallPolicy():\n",
       "    # from syft.core.node.new.action_object import ActionObject\n",
       "    from typing import Dict\n",
       "    from typing import Any\n",
       "    \n",
       "    def __init__(self, n_calls=1, downloadable_output_args=[]):\n",
       "        self.n_calls = n_calls + 1\n",
       "        self.downloadable_output_args = downloadable_output_args\n",
       "        self.state = {\"counts\": 0}\n",
       "        # super.__init__(n_calls=n_calls, downloadable_output_args=downloadable_output_args)\n",
       "\n",
       "    def __repr__(self) -> str:\n",
       "        return f'RepeatedCallPolicy - {self.n_calls}/{self.downloadable_output_args}/{self.state}'\n",
       "\n",
       "    def public_state(self):\n",
       "        return self.state[\"counts\"]\n",
       "        \n",
       "    def apply_output(self, action_object) -> Dict[Any, Any]:\n",
       "        results_dict = action_object.syft_action_data        \n",
       "        if self.state[\"counts\"] < self.n_calls:\n",
       "            for output_arg in self.downloadable_output_args:\n",
       "                # results_dict[output_arg] = results_dict[output_arg].set_permission(READ, self.my_verify_key)\n",
       "                results_dict[output_arg] = results_dict[output_arg]\n",
       "\n",
       "            self.state[\"counts\"] += 1\n",
       "        else:\n",
       "            return \n",
       "            \n",
       "        return results_dict\n",
       "\"\n",
       "  signature: str = (downloadable_output_args)\n",
       "  class_name: str = \"RepeatedCallPolicy\"\n",
       "  unique_name: str = \"user_func_RepeatedCallPolicy_16ccb1e2bdabeae2e1705fbdfd3b8eac28827dd99535fe116e68b1b9fd808986_c2b88b38b612f1aa9f2c57ab61c711a8332435b895ebddf906d2ba84c183a6b7\"\n",
       "  code_hash: str = \"c2b88b38b612f1aa9f2c57ab61c711a8332435b895ebddf906d2ba84c183a6b7\"\n",
       "  status: str = UserPolicyStatus.SUBMITTED\n",
       "\n",
       "```"
      ],
      "text/plain": [
       "syft.core.node.new.policy.UserPolicy"
      ]
     },
     "execution_count": 12,
     "metadata": {},
     "output_type": "execute_result"
    }
   ],
   "source": [
    "func.output_policy"
   ]
  },
  {
   "cell_type": "code",
   "execution_count": 13,
   "metadata": {},
   "outputs": [
    {
     "name": "stdout",
     "output_type": "stream",
     "text": [
      "{'x': array([1, 2, 3])}\n"
     ]
    },
    {
     "data": {
      "text/html": [
       "<div class=\"alert-danger\" style=\"padding:5px;\"><strong>SyftError</strong>: Failed to run. local variable 'kwargs' referenced before assignment</div><br />"
      ],
      "text/plain": [
       "<class 'syft.core.node.new.response.SyftError'>: Failed to run. local variable 'kwargs' referenced before assignment"
      ]
     },
     "execution_count": 13,
     "metadata": {},
     "output_type": "execute_result"
    }
   ],
   "source": [
    "client.api.services.code.func(x=x_pointer)"
   ]
  },
  {
   "cell_type": "code",
   "execution_count": 14,
   "metadata": {},
   "outputs": [
    {
     "ename": "NameError",
     "evalue": "name 'func_id' is not defined",
     "output_type": "error",
     "traceback": [
      "\u001b[0;31m---------------------------------------------------------------------------\u001b[0m",
      "\u001b[0;31mNameError\u001b[0m                                 Traceback (most recent call last)",
      "\u001b[1;32m/home/teo/OpenMined/PySyft/test_policy.ipynb Cell 14\u001b[0m in \u001b[0;36m1\n\u001b[0;32m----> <a href='vscode-notebook-cell:/home/teo/OpenMined/PySyft/test_policy.ipynb#X20sZmlsZQ%3D%3D?line=0'>1</a>\u001b[0m client\u001b[39m.\u001b[39mapi\u001b[39m.\u001b[39mservices\u001b[39m.\u001b[39mcode\u001b[39m.\u001b[39mreview(uid\u001b[39m=\u001b[39mfunc_id, approved\u001b[39m=\u001b[39m\u001b[39mTrue\u001b[39;00m)\n",
      "\u001b[0;31mNameError\u001b[0m: name 'func_id' is not defined"
     ]
    }
   ],
   "source": [
    "client.api.services.code.review(uid=func_id, approved=True)"
   ]
  },
  {
   "cell_type": "code",
   "execution_count": null,
   "metadata": {},
   "outputs": [],
   "source": [
    "output_policy = client.api.services.policy.get_all()[0]\n"
   ]
  },
  {
   "cell_type": "code",
   "execution_count": null,
   "metadata": {},
   "outputs": [
    {
     "name": "stderr",
     "output_type": "stream",
     "text": [
      "{'x': array([1, 2, 3])}\n"
     ]
    },
    {
     "data": {
      "text/html": [
       "Dict - Size: 1\n",
       "<div>\n",
       "<style scoped>\n",
       "    .dataframe tbody tr th:only-of-type {\n",
       "        vertical-align: middle;\n",
       "    }\n",
       "\n",
       "    .dataframe tbody tr th {\n",
       "        vertical-align: top;\n",
       "    }\n",
       "\n",
       "    .dataframe thead th {\n",
       "        text-align: right;\n",
       "    }\n",
       "</style>\n",
       "<table border=\"1\" class=\"dataframe\">\n",
       "  <thead>\n",
       "    <tr style=\"text-align: right;\">\n",
       "      <th></th>\n",
       "      <th>key</th>\n",
       "      <th>type</th>\n",
       "      <th>id</th>\n",
       "    </tr>\n",
       "  </thead>\n",
       "  <tbody>\n",
       "    <tr>\n",
       "      <th>0</th>\n",
       "      <td>y</td>\n",
       "      <td>array([1, 2, 3])</td>\n",
       "      <td>ce5e0e35b4c549bbb33643f4bd14c919</td>\n",
       "    </tr>\n",
       "  </tbody>\n",
       "</table>\n",
       "</div>"
      ],
      "text/plain": [
       "{'y': array([1, 2, 3])}"
      ]
     },
     "execution_count": 18,
     "metadata": {},
     "output_type": "execute_result"
    }
   ],
   "source": [
    "client.api.services.code.func(x=x_pointer.id)"
   ]
  },
  {
   "cell_type": "code",
   "execution_count": null,
   "metadata": {},
   "outputs": [
    {
     "name": "stdout",
     "output_type": "stream",
     "text": [
      "Output policy is\n",
      "UserPolicy\n"
     ]
    }
   ],
   "source": [
    "@sy.syft_function(\n",
    "    input_policy=ExactMatch,\n",
    "    input_policy_init_args={'inputs':{'x':4}},\n",
    "    # output_policy=SingleExecutionExactOutput,\n",
    "    # output_policy_init_args={},\n",
    "    output_policy=output_policy.id,\n",
    "    output_policy_init_args={\"n_calls\":1, 'downloadable_output_args':['y']},\n",
    "    outputs=[\"y\"]\n",
    ")\n",
    "def func_plus_one(x):\n",
    "    return {\"y\": x + 1}\n"
   ]
  },
  {
   "cell_type": "code",
   "execution_count": null,
   "metadata": {},
   "outputs": [
    {
     "name": "stderr",
     "output_type": "stream",
     "text": [
      "id=<UID: f542fe3a20264fcdaecc8054cffc153b> user_verify_key=6c267347f99ca960dcbd0f5431e6ed0f7f4b7f8009723e19b54af2782f8bf9d3 raw_code='@serializable(recursive_serde=True)\\nclass RepeatedCallPolicy():\\n    from typing import Dict\\n    from typing import Any\\n    \\n    def __init__(self, n_calls=1, downloadable_output_args=[]):\\n        self.n_calls = n_calls + 1\\n        self.downloadable_output_args = downloadable_output_args\\n        self.state = {\"counts\": 0}\\n        # super.__init__(n_calls=n_calls, downloadable_output_args=downloadable_output_args)\\n\\n    def __repr__(self) -> str:\\n        return f\\'RepeatedCallPolicy - {self.n_calls}/{self.downloadable_output_args}/{self.state}\\'\\n\\n    def public_state(self):\\n        return self.state[\"counts\"]\\n        \\n    def apply_output(self, results_dict, **kwargs) -> Dict[Any, Any]:\\n        \\n        if self.state[\"counts\"] < self.n_calls:\\n            for output_arg in self.downloadable_output_args:\\n                # results_dict[output_arg] = results_dict[output_arg].set_permission(READ, self.my_verify_key)\\n                results_dict[output_arg] = results_dict[output_arg]\\n\\n            self.state[\"counts\"] += 1\\n        else:\\n            return \\n            \\n        return results_dict\\n' parsed_code='@serializable(recursive_serde=True)\\nclass RepeatedCallPolicy():\\n    from typing import Dict\\n    from typing import Any\\n    \\n    def __init__(self, n_calls=1, downloadable_output_args=[]):\\n        self.n_calls = n_calls + 1\\n        self.downloadable_output_args = downloadable_output_args\\n        self.state = {\"counts\": 0}\\n        # super.__init__(n_calls=n_calls, downloadable_output_args=downloadable_output_args)\\n\\n    def __repr__(self) -> str:\\n        return f\\'RepeatedCallPolicy - {self.n_calls}/{self.downloadable_output_args}/{self.state}\\'\\n\\n    def public_state(self):\\n        return self.state[\"counts\"]\\n        \\n    def apply_output(self, results_dict, **kwargs) -> Dict[Any, Any]:\\n        \\n        if self.state[\"counts\"] < self.n_calls:\\n            for output_arg in self.downloadable_output_args:\\n                # results_dict[output_arg] = results_dict[output_arg].set_permission(READ, self.my_verify_key)\\n                results_dict[output_arg] = results_dict[output_arg]\\n\\n            self.state[\"counts\"] += 1\\n        else:\\n            return \\n            \\n        return results_dict\\n' signature=<Signature (downloadable_output_args)> class_name='RepeatedCallPolicy' unique_name='user_func_RepeatedCallPolicy_6c267347f99ca960dcbd0f5431e6ed0f7f4b7f8009723e19b54af2782f8bf9d3_081a0eafec31fb60fb325a5e83ba0b8803fa2e03ad3f9649120a2e31686ac864' code_hash='081a0eafec31fb60fb325a5e83ba0b8803fa2e03ad3f9649120a2e31686ac864' status=<UserPolicyStatus.SUBMITTED: 'submitted'>\n",
      "\n",
      "\n"
     ]
    },
    {
     "data": {
      "text/html": [
       "<div class=\"alert-success\" style=\"padding:5px;\"><strong>SyftSuccess</strong>: User Code Submitted</div><br />"
      ],
      "text/plain": [
       "<class 'syft.core.node.new.response.SyftSuccess'>: User Code Submitted"
      ]
     },
     "execution_count": 20,
     "metadata": {},
     "output_type": "execute_result"
    }
   ],
   "source": [
    "client.api.services.code.submit(func_plus_one)"
   ]
  },
  {
   "cell_type": "code",
   "execution_count": null,
   "metadata": {},
   "outputs": [
    {
     "data": {
      "text/markdown": [
       "```python\n",
       "class UserPolicy:\n",
       "  id: str = f542fe3a20264fcdaecc8054cffc153b\n",
       "  user_verify_key: str = 6c267347f99ca960dcbd0f5431e6ed0f7f4b7f8009723e19b54af2782f8bf9d3\n",
       "  raw_code: str = \"@serializable(recursive_serde=True)\n",
       "class RepeatedCallPolicy():\n",
       "    from typing import Dict\n",
       "    from typing import Any\n",
       "    \n",
       "    def __init__(self, n_calls=1, downloadable_output_args=[]):\n",
       "        self.n_calls = n_calls + 1\n",
       "        self.downloadable_output_args = downloadable_output_args\n",
       "        self.state = {\"counts\": 0}\n",
       "        # super.__init__(n_calls=n_calls, downloadable_output_args=downloadable_output_args)\n",
       "\n",
       "    def __repr__(self) -> str:\n",
       "        return f'RepeatedCallPolicy - {self.n_calls}/{self.downloadable_output_args}/{self.state}'\n",
       "\n",
       "    def public_state(self):\n",
       "        return self.state[\"counts\"]\n",
       "        \n",
       "    def apply_output(self, results_dict, **kwargs) -> Dict[Any, Any]:\n",
       "        \n",
       "        if self.state[\"counts\"] < self.n_calls:\n",
       "            for output_arg in self.downloadable_output_args:\n",
       "                # results_dict[output_arg] = results_dict[output_arg].set_permission(READ, self.my_verify_key)\n",
       "                results_dict[output_arg] = results_dict[output_arg]\n",
       "\n",
       "            self.state[\"counts\"] += 1\n",
       "        else:\n",
       "            return \n",
       "            \n",
       "        return results_dict\n",
       "\"\n",
       "  parsed_code: str = \"@serializable(recursive_serde=True)\n",
       "class RepeatedCallPolicy():\n",
       "    from typing import Dict\n",
       "    from typing import Any\n",
       "    \n",
       "    def __init__(self, n_calls=1, downloadable_output_args=[]):\n",
       "        self.n_calls = n_calls + 1\n",
       "        self.downloadable_output_args = downloadable_output_args\n",
       "        self.state = {\"counts\": 0}\n",
       "        # super.__init__(n_calls=n_calls, downloadable_output_args=downloadable_output_args)\n",
       "\n",
       "    def __repr__(self) -> str:\n",
       "        return f'RepeatedCallPolicy - {self.n_calls}/{self.downloadable_output_args}/{self.state}'\n",
       "\n",
       "    def public_state(self):\n",
       "        return self.state[\"counts\"]\n",
       "        \n",
       "    def apply_output(self, results_dict, **kwargs) -> Dict[Any, Any]:\n",
       "        \n",
       "        if self.state[\"counts\"] < self.n_calls:\n",
       "            for output_arg in self.downloadable_output_args:\n",
       "                # results_dict[output_arg] = results_dict[output_arg].set_permission(READ, self.my_verify_key)\n",
       "                results_dict[output_arg] = results_dict[output_arg]\n",
       "\n",
       "            self.state[\"counts\"] += 1\n",
       "        else:\n",
       "            return \n",
       "            \n",
       "        return results_dict\n",
       "\"\n",
       "  signature: str = (downloadable_output_args)\n",
       "  class_name: str = \"RepeatedCallPolicy\"\n",
       "  unique_name: str = \"user_func_RepeatedCallPolicy_6c267347f99ca960dcbd0f5431e6ed0f7f4b7f8009723e19b54af2782f8bf9d3_081a0eafec31fb60fb325a5e83ba0b8803fa2e03ad3f9649120a2e31686ac864\"\n",
       "  code_hash: str = \"081a0eafec31fb60fb325a5e83ba0b8803fa2e03ad3f9649120a2e31686ac864\"\n",
       "  status: str = UserPolicyStatus.SUBMITTED\n",
       "\n",
       "```"
      ],
      "text/plain": [
       "syft.core.node.new.policy.UserPolicy"
      ]
     },
     "execution_count": 21,
     "metadata": {},
     "output_type": "execute_result"
    }
   ],
   "source": [
    "client.api.services.policy.get_all()[0]"
   ]
  },
  {
   "cell_type": "code",
   "execution_count": null,
   "metadata": {},
   "outputs": [
    {
     "data": {
      "text/markdown": [
       "```python\n",
       "class SubmitUserCode:\n",
       "  id: str = None\n",
       "  code: str = \"@sy.syft_function(\n",
       "    input_policy=ExactMatch,\n",
       "    input_policy_init_args={'inputs':{'x':4}},\n",
       "    # output_policy=SingleExecutionExactOutput,\n",
       "    # output_policy_init_args={},\n",
       "    output_policy=output_policy.id,\n",
       "    output_policy_init_args={\"n_calls\":1, 'downloadable_output_args':['y']},\n",
       "    outputs=[\"y\"]\n",
       ")\n",
       "def func_plus_one(x):\n",
       "    return {\"y\": x + 1}\n",
       "\"\n",
       "  func_name: str = \"func_plus_one\"\n",
       "  signature: str = (x)\n",
       "  input_policy: str = id=<UID: b79395fd05cd4c68b1a6d8f3532647d2> inputs={} node_uid=None\n",
       "  input_policy_init_args: str = {'inputs': {'x': 4}}\n",
       "  output_policy: str = f542fe3a20264fcdaecc8054cffc153b\n",
       "  output_policy_init_args: str = {'n_calls': 1, 'downloadable_output_args': ['y']}\n",
       "  local_function: str = <function func_plus_one at 0x7f3225b0c700>\n",
       "  input_kwargs: str = ['x']\n",
       "  outputs: str = ['y']\n",
       "\n",
       "```"
      ],
      "text/plain": [
       "syft.core.node.new.user_code.SubmitUserCode"
      ]
     },
     "execution_count": 22,
     "metadata": {},
     "output_type": "execute_result"
    }
   ],
   "source": [
    "func_plus_one"
   ]
  },
  {
   "cell_type": "code",
   "execution_count": null,
   "metadata": {},
   "outputs": [
    {
     "data": {
      "text/plain": [
       "<function syft.core.node.new.api.generate_remote_function.<locals>.wrapper(*args, **kwargs)>"
      ]
     },
     "execution_count": 26,
     "metadata": {},
     "output_type": "execute_result"
    }
   ],
   "source": [
    "client.api.services.code.func"
   ]
  },
  {
   "cell_type": "code",
   "execution_count": null,
   "metadata": {},
   "outputs": [],
   "source": [
    "client."
   ]
  },
  {
   "cell_type": "code",
   "execution_count": null,
   "metadata": {},
   "outputs": [
    {
     "ename": "ValidationError",
     "evalue": "2 validation errors for UserCode\noutput_policy_state\n  'utf-8' codec can't decode byte 0xca in position 100: invalid continuation byte (type=value_error.unicodedecode)\noutput_policy_state\n  value is not a valid dict (type=type_error.dict)",
     "output_type": "error",
     "traceback": [
      "\u001b[0;31m---------------------------------------------------------------------------\u001b[0m",
      "\u001b[0;31mValidationError\u001b[0m                           Traceback (most recent call last)",
      "\u001b[1;32m/home/teo/OpenMined/PySyft/test_policy.ipynb Cell 24\u001b[0m in \u001b[0;36m1\n\u001b[0;32m----> <a href='vscode-notebook-cell:/home/teo/OpenMined/PySyft/test_policy.ipynb#X25sZmlsZQ%3D%3D?line=0'>1</a>\u001b[0m func_id \u001b[39m=\u001b[39m client\u001b[39m.\u001b[39;49mapi\u001b[39m.\u001b[39;49mservices\u001b[39m.\u001b[39;49mcode\u001b[39m.\u001b[39;49mget_all()[\u001b[39m0\u001b[39m]\n",
      "File \u001b[0;32m~/OpenMined/PySyft/packages/syft/src/syft/core/node/new/api.py:246\u001b[0m, in \u001b[0;36mgenerate_remote_function.<locals>.wrapper\u001b[0;34m(*args, **kwargs)\u001b[0m\n\u001b[1;32m    238\u001b[0m     _valid_kwargs\u001b[39m.\u001b[39mupdate(pre_kwargs)\n\u001b[1;32m    239\u001b[0m api_call \u001b[39m=\u001b[39m SyftAPICall(\n\u001b[1;32m    240\u001b[0m     node_uid\u001b[39m=\u001b[39mnode_uid,\n\u001b[1;32m    241\u001b[0m     path\u001b[39m=\u001b[39mpath,\n\u001b[0;32m   (...)\u001b[0m\n\u001b[1;32m    244\u001b[0m     blocking\u001b[39m=\u001b[39mblocking,\n\u001b[1;32m    245\u001b[0m )\n\u001b[0;32m--> 246\u001b[0m result \u001b[39m=\u001b[39m make_call(api_call\u001b[39m=\u001b[39;49mapi_call)\n\u001b[1;32m    247\u001b[0m \u001b[39mreturn\u001b[39;00m result\n",
      "File \u001b[0;32m~/OpenMined/PySyft/packages/syft/src/syft/core/node/new/api.py:344\u001b[0m, in \u001b[0;36mSyftAPI.make_call\u001b[0;34m(self, api_call)\u001b[0m\n\u001b[1;32m    341\u001b[0m \u001b[39mif\u001b[39;00m \u001b[39mnot\u001b[39;00m signed_result\u001b[39m.\u001b[39mis_valid\u001b[39m.\u001b[39mis_ok():\n\u001b[1;32m    342\u001b[0m     \u001b[39mreturn\u001b[39;00m SyftError(message\u001b[39m=\u001b[39m\u001b[39m\"\u001b[39m\u001b[39mThe result signature is invalid\u001b[39m\u001b[39m\"\u001b[39m)  \u001b[39m# type: ignore\u001b[39;00m\n\u001b[0;32m--> 344\u001b[0m result \u001b[39m=\u001b[39m signed_result\u001b[39m.\u001b[39;49mmessage\u001b[39m.\u001b[39mdata\n\u001b[1;32m    346\u001b[0m \u001b[39mif\u001b[39;00m \u001b[39misinstance\u001b[39m(result, OkErr):\n\u001b[1;32m    347\u001b[0m     \u001b[39mif\u001b[39;00m result\u001b[39m.\u001b[39mis_ok():\n",
      "File \u001b[0;32m~/OpenMined/PySyft/packages/syft/src/syft/core/node/new/api.py:91\u001b[0m, in \u001b[0;36mSignedSyftAPICall.message\u001b[0;34m(self)\u001b[0m\n\u001b[1;32m     88\u001b[0m     \u001b[39mself\u001b[39m\u001b[39m.\u001b[39mcached_deseralized_message \u001b[39m=\u001b[39m \u001b[39mNone\u001b[39;00m\n\u001b[1;32m     90\u001b[0m \u001b[39mif\u001b[39;00m \u001b[39mself\u001b[39m\u001b[39m.\u001b[39mcached_deseralized_message \u001b[39mis\u001b[39;00m \u001b[39mNone\u001b[39;00m:\n\u001b[0;32m---> 91\u001b[0m     \u001b[39mself\u001b[39m\u001b[39m.\u001b[39mcached_deseralized_message \u001b[39m=\u001b[39m _deserialize(\n\u001b[1;32m     92\u001b[0m         blob\u001b[39m=\u001b[39;49m\u001b[39mself\u001b[39;49m\u001b[39m.\u001b[39;49mserialized_message, from_bytes\u001b[39m=\u001b[39;49m\u001b[39mTrue\u001b[39;49;00m\n\u001b[1;32m     93\u001b[0m     )\n\u001b[1;32m     95\u001b[0m \u001b[39mreturn\u001b[39;00m \u001b[39mself\u001b[39m\u001b[39m.\u001b[39mcached_deseralized_message\n",
      "File \u001b[0;32m~/OpenMined/PySyft/packages/syft/src/syft/core/common/serde/deserialize.py:31\u001b[0m, in \u001b[0;36m_deserialize\u001b[0;34m(blob, from_proto, from_bytes, class_type)\u001b[0m\n\u001b[1;32m     28\u001b[0m     \u001b[39mraise\u001b[39;00m \u001b[39mTypeError\u001b[39;00m(\u001b[39m\"\u001b[39m\u001b[39mWrong deserialization format.\u001b[39m\u001b[39m\"\u001b[39m)\n\u001b[1;32m     30\u001b[0m \u001b[39mif\u001b[39;00m from_bytes:\n\u001b[0;32m---> 31\u001b[0m     \u001b[39mreturn\u001b[39;00m rs_bytes2object(blob, class_type)\n\u001b[1;32m     33\u001b[0m \u001b[39mif\u001b[39;00m from_proto:\n\u001b[1;32m     34\u001b[0m     \u001b[39mreturn\u001b[39;00m rs_proto2object(blob, class_type)\n",
      "File \u001b[0;32m~/OpenMined/PySyft/packages/syft/src/syft/core/common/serde/recursive.py:147\u001b[0m, in \u001b[0;36mrs_bytes2object\u001b[0;34m(blob, class_type)\u001b[0m\n\u001b[1;32m    142\u001b[0m MAX_TRAVERSAL_LIMIT \u001b[39m=\u001b[39m \u001b[39m2\u001b[39m\u001b[39m*\u001b[39m\u001b[39m*\u001b[39m\u001b[39m64\u001b[39m \u001b[39m-\u001b[39m \u001b[39m1\u001b[39m\n\u001b[1;32m    144\u001b[0m \u001b[39mwith\u001b[39;00m recursive_scheme\u001b[39m.\u001b[39mfrom_bytes(  \u001b[39m# type: ignore\u001b[39;00m\n\u001b[1;32m    145\u001b[0m     blob, traversal_limit_in_words\u001b[39m=\u001b[39mMAX_TRAVERSAL_LIMIT\n\u001b[1;32m    146\u001b[0m ) \u001b[39mas\u001b[39;00m msg:\n\u001b[0;32m--> 147\u001b[0m     \u001b[39mreturn\u001b[39;00m rs_proto2object(msg, class_type)\n",
      "File \u001b[0;32m~/OpenMined/PySyft/packages/syft/src/syft/core/common/serde/recursive.py:188\u001b[0m, in \u001b[0;36mrs_proto2object\u001b[0;34m(proto, class_type)\u001b[0m\n\u001b[1;32m    186\u001b[0m \u001b[39mfor\u001b[39;00m attr_name, attr_bytes_list \u001b[39min\u001b[39;00m \u001b[39mzip\u001b[39m(proto\u001b[39m.\u001b[39mfieldsName, proto\u001b[39m.\u001b[39mfieldsData):\n\u001b[1;32m    187\u001b[0m     attr_bytes \u001b[39m=\u001b[39m combine_bytes(attr_bytes_list)\n\u001b[0;32m--> 188\u001b[0m     attr_value \u001b[39m=\u001b[39m _deserialize(attr_bytes, from_bytes\u001b[39m=\u001b[39;49m\u001b[39mTrue\u001b[39;49;00m)\n\u001b[1;32m    189\u001b[0m     transforms \u001b[39m=\u001b[39m serde_overrides\u001b[39m.\u001b[39mget(attr_name, \u001b[39mNone\u001b[39;00m)\n\u001b[1;32m    191\u001b[0m     \u001b[39mif\u001b[39;00m transforms \u001b[39mis\u001b[39;00m \u001b[39mnot\u001b[39;00m \u001b[39mNone\u001b[39;00m:\n",
      "File \u001b[0;32m~/OpenMined/PySyft/packages/syft/src/syft/core/common/serde/deserialize.py:31\u001b[0m, in \u001b[0;36m_deserialize\u001b[0;34m(blob, from_proto, from_bytes, class_type)\u001b[0m\n\u001b[1;32m     28\u001b[0m     \u001b[39mraise\u001b[39;00m \u001b[39mTypeError\u001b[39;00m(\u001b[39m\"\u001b[39m\u001b[39mWrong deserialization format.\u001b[39m\u001b[39m\"\u001b[39m)\n\u001b[1;32m     30\u001b[0m \u001b[39mif\u001b[39;00m from_bytes:\n\u001b[0;32m---> 31\u001b[0m     \u001b[39mreturn\u001b[39;00m rs_bytes2object(blob, class_type)\n\u001b[1;32m     33\u001b[0m \u001b[39mif\u001b[39;00m from_proto:\n\u001b[1;32m     34\u001b[0m     \u001b[39mreturn\u001b[39;00m rs_proto2object(blob, class_type)\n",
      "File \u001b[0;32m~/OpenMined/PySyft/packages/syft/src/syft/core/common/serde/recursive.py:147\u001b[0m, in \u001b[0;36mrs_bytes2object\u001b[0;34m(blob, class_type)\u001b[0m\n\u001b[1;32m    142\u001b[0m MAX_TRAVERSAL_LIMIT \u001b[39m=\u001b[39m \u001b[39m2\u001b[39m\u001b[39m*\u001b[39m\u001b[39m*\u001b[39m\u001b[39m64\u001b[39m \u001b[39m-\u001b[39m \u001b[39m1\u001b[39m\n\u001b[1;32m    144\u001b[0m \u001b[39mwith\u001b[39;00m recursive_scheme\u001b[39m.\u001b[39mfrom_bytes(  \u001b[39m# type: ignore\u001b[39;00m\n\u001b[1;32m    145\u001b[0m     blob, traversal_limit_in_words\u001b[39m=\u001b[39mMAX_TRAVERSAL_LIMIT\n\u001b[1;32m    146\u001b[0m ) \u001b[39mas\u001b[39;00m msg:\n\u001b[0;32m--> 147\u001b[0m     \u001b[39mreturn\u001b[39;00m rs_proto2object(msg, class_type)\n",
      "File \u001b[0;32m~/OpenMined/PySyft/packages/syft/src/syft/core/common/serde/recursive.py:182\u001b[0m, in \u001b[0;36mrs_proto2object\u001b[0;34m(proto, class_type)\u001b[0m\n\u001b[1;32m    177\u001b[0m     \u001b[39mif\u001b[39;00m deserialize \u001b[39mis\u001b[39;00m \u001b[39mNone\u001b[39;00m:\n\u001b[1;32m    178\u001b[0m         \u001b[39mraise\u001b[39;00m \u001b[39mException\u001b[39;00m(\n\u001b[1;32m    179\u001b[0m             \u001b[39mf\u001b[39m\u001b[39m\"\u001b[39m\u001b[39mCant serialize \u001b[39m\u001b[39m{\u001b[39;00m\u001b[39mtype\u001b[39m(proto)\u001b[39m}\u001b[39;00m\u001b[39m nonrecursive without serialize.\u001b[39m\u001b[39m\"\u001b[39m\n\u001b[1;32m    180\u001b[0m         )\n\u001b[0;32m--> 182\u001b[0m     \u001b[39mreturn\u001b[39;00m deserialize(combine_bytes(proto\u001b[39m.\u001b[39;49mnonrecursiveBlob))\n\u001b[1;32m    184\u001b[0m kwargs \u001b[39m=\u001b[39m {}\n\u001b[1;32m    186\u001b[0m \u001b[39mfor\u001b[39;00m attr_name, attr_bytes_list \u001b[39min\u001b[39;00m \u001b[39mzip\u001b[39m(proto\u001b[39m.\u001b[39mfieldsName, proto\u001b[39m.\u001b[39mfieldsData):\n",
      "File \u001b[0;32m~/OpenMined/PySyft/packages/syft/src/syft/core/common/serde/recursive_primitives.py:63\u001b[0m, in \u001b[0;36mdeserialize_iterable\u001b[0;34m(iterable_type, blob)\u001b[0m\n\u001b[1;32m     59\u001b[0m \u001b[39mwith\u001b[39;00m iterable_schema\u001b[39m.\u001b[39mfrom_bytes(  \u001b[39m# type: ignore\u001b[39;00m\n\u001b[1;32m     60\u001b[0m     blob, traversal_limit_in_words\u001b[39m=\u001b[39mMAX_TRAVERSAL_LIMIT\n\u001b[1;32m     61\u001b[0m ) \u001b[39mas\u001b[39;00m msg:\n\u001b[1;32m     62\u001b[0m     \u001b[39mfor\u001b[39;00m element \u001b[39min\u001b[39;00m msg\u001b[39m.\u001b[39mvalues:\n\u001b[0;32m---> 63\u001b[0m         values\u001b[39m.\u001b[39mappend(_deserialize(combine_bytes(element), from_bytes\u001b[39m=\u001b[39;49m\u001b[39mTrue\u001b[39;49;00m))\n\u001b[1;32m     65\u001b[0m \u001b[39mreturn\u001b[39;00m iterable_type(values)\n",
      "File \u001b[0;32m~/OpenMined/PySyft/packages/syft/src/syft/core/common/serde/deserialize.py:31\u001b[0m, in \u001b[0;36m_deserialize\u001b[0;34m(blob, from_proto, from_bytes, class_type)\u001b[0m\n\u001b[1;32m     28\u001b[0m     \u001b[39mraise\u001b[39;00m \u001b[39mTypeError\u001b[39;00m(\u001b[39m\"\u001b[39m\u001b[39mWrong deserialization format.\u001b[39m\u001b[39m\"\u001b[39m)\n\u001b[1;32m     30\u001b[0m \u001b[39mif\u001b[39;00m from_bytes:\n\u001b[0;32m---> 31\u001b[0m     \u001b[39mreturn\u001b[39;00m rs_bytes2object(blob, class_type)\n\u001b[1;32m     33\u001b[0m \u001b[39mif\u001b[39;00m from_proto:\n\u001b[1;32m     34\u001b[0m     \u001b[39mreturn\u001b[39;00m rs_proto2object(blob, class_type)\n",
      "File \u001b[0;32m~/OpenMined/PySyft/packages/syft/src/syft/core/common/serde/recursive.py:147\u001b[0m, in \u001b[0;36mrs_bytes2object\u001b[0;34m(blob, class_type)\u001b[0m\n\u001b[1;32m    142\u001b[0m MAX_TRAVERSAL_LIMIT \u001b[39m=\u001b[39m \u001b[39m2\u001b[39m\u001b[39m*\u001b[39m\u001b[39m*\u001b[39m\u001b[39m64\u001b[39m \u001b[39m-\u001b[39m \u001b[39m1\u001b[39m\n\u001b[1;32m    144\u001b[0m \u001b[39mwith\u001b[39;00m recursive_scheme\u001b[39m.\u001b[39mfrom_bytes(  \u001b[39m# type: ignore\u001b[39;00m\n\u001b[1;32m    145\u001b[0m     blob, traversal_limit_in_words\u001b[39m=\u001b[39mMAX_TRAVERSAL_LIMIT\n\u001b[1;32m    146\u001b[0m ) \u001b[39mas\u001b[39;00m msg:\n\u001b[0;32m--> 147\u001b[0m     \u001b[39mreturn\u001b[39;00m rs_proto2object(msg, class_type)\n",
      "File \u001b[0;32m~/OpenMined/PySyft/packages/syft/src/syft/core/common/serde/recursive.py:203\u001b[0m, in \u001b[0;36mrs_proto2object\u001b[0;34m(proto, class_type)\u001b[0m\n\u001b[1;32m    199\u001b[0m     obj \u001b[39m=\u001b[39m class_type\u001b[39m.\u001b[39m\u001b[39m__new__\u001b[39m(class_type, kwargs[\u001b[39m\"\u001b[39m\u001b[39mvalue\u001b[39m\u001b[39m\"\u001b[39m])  \u001b[39m# type: ignore\u001b[39;00m\n\u001b[1;32m    200\u001b[0m \u001b[39melif\u001b[39;00m \u001b[39missubclass\u001b[39m(class_type, BaseModel):\n\u001b[1;32m    201\u001b[0m     \u001b[39m# if we skip the __new__ flow of BaseModel we get the error\u001b[39;00m\n\u001b[1;32m    202\u001b[0m     \u001b[39m# AttributeError: object has no attribute '__fields_set__'\u001b[39;00m\n\u001b[0;32m--> 203\u001b[0m     obj \u001b[39m=\u001b[39m class_type(\u001b[39m*\u001b[39;49m\u001b[39m*\u001b[39;49mkwargs)\n\u001b[1;32m    204\u001b[0m \u001b[39melse\u001b[39;00m:\n\u001b[1;32m    205\u001b[0m     obj \u001b[39m=\u001b[39m class_type\u001b[39m.\u001b[39m\u001b[39m__new__\u001b[39m(class_type)  \u001b[39m# type: ignore\u001b[39;00m\n",
      "File \u001b[0;32m~/OpenMined/PySyft/packages/syft/src/syft/core/node/common/node_table/syft_object.py:304\u001b[0m, in \u001b[0;36mSyftObject.__init__\u001b[0;34m(self, **kwargs)\u001b[0m\n\u001b[1;32m    303\u001b[0m \u001b[39mdef\u001b[39;00m \u001b[39m__init__\u001b[39m(\u001b[39mself\u001b[39m, \u001b[39m*\u001b[39m\u001b[39m*\u001b[39mkwargs) \u001b[39m-\u001b[39m\u001b[39m>\u001b[39m \u001b[39mNone\u001b[39;00m:\n\u001b[0;32m--> 304\u001b[0m     \u001b[39msuper\u001b[39;49m()\u001b[39m.\u001b[39;49m\u001b[39m__init__\u001b[39;49m(\u001b[39m*\u001b[39;49m\u001b[39m*\u001b[39;49mkwargs)\n\u001b[1;32m    305\u001b[0m     \u001b[39mself\u001b[39m\u001b[39m.\u001b[39m_syft_set_validate_private_attrs_(\u001b[39m*\u001b[39m\u001b[39m*\u001b[39mkwargs)\n\u001b[1;32m    306\u001b[0m     \u001b[39mself\u001b[39m\u001b[39m.\u001b[39m__post_init__()\n",
      "File \u001b[0;32m~/anaconda3/envs/PySyft/lib/python3.10/site-packages/pydantic/main.py:342\u001b[0m, in \u001b[0;36mpydantic.main.BaseModel.__init__\u001b[0;34m()\u001b[0m\n",
      "\u001b[0;31mValidationError\u001b[0m: 2 validation errors for UserCode\noutput_policy_state\n  'utf-8' codec can't decode byte 0xca in position 100: invalid continuation byte (type=value_error.unicodedecode)\noutput_policy_state\n  value is not a valid dict (type=type_error.dict)"
     ]
    }
   ],
   "source": [
    "func_id = client.api.services.code.get_all()[0]"
   ]
  },
  {
   "cell_type": "code",
   "execution_count": null,
   "metadata": {},
   "outputs": [
    {
     "ename": "",
     "evalue": "",
     "output_type": "error",
     "traceback": [
      "\u001b[1;31mFailed to start the Kernel. \n",
      "\u001b[1;31mKernel PySyft (Python 3.10.4) is not usable. Check the Jupyter output tab for more information. \n",
      "\u001b[1;31mView Jupyter <a href='command:jupyter.viewOutput'>log</a> for further details."
     ]
    }
   ],
   "source": [
    "client.api.services.code.review(uid=func_id, approved=True)"
   ]
  },
  {
   "cell_type": "code",
   "execution_count": null,
   "metadata": {},
   "outputs": [
    {
     "name": "stdout",
     "output_type": "stream",
     "text": [
      "Logged into Priceless Bengios as <info@openmined.org>\n"
     ]
    }
   ],
   "source": [
    "client = sy.login(node=worker, email=\"info@openmined.org\", password=\"changethis\", cache=False)"
   ]
  },
  {
   "cell_type": "code",
   "execution_count": null,
   "metadata": {},
   "outputs": [
    {
     "ename": "",
     "evalue": "",
     "output_type": "error",
     "traceback": [
      "\u001b[1;31mFailed to start the Kernel. \n",
      "\u001b[1;31mKernel PySyft (Python 3.10.4) is not usable. Check the Jupyter output tab for more information. \n",
      "\u001b[1;31mView Jupyter <a href='command:jupyter.viewOutput'>log</a> for further details."
     ]
    }
   ],
   "source": [
    "client.api.services.code.func_plus_one(x=x_pointer.id)"
   ]
  },
  {
   "cell_type": "code",
   "execution_count": null,
   "metadata": {},
   "outputs": [
    {
     "ename": "",
     "evalue": "",
     "output_type": "error",
     "traceback": [
      "\u001b[1;31mFailed to start the Kernel. \n",
      "\u001b[1;31mKernel PySyft (Python 3.10.4) is not usable. Check the Jupyter output tab for more information. \n",
      "\u001b[1;31mView Jupyter <a href='command:jupyter.viewOutput'>log</a> for further details."
     ]
    }
   ],
   "source": [
    "client.api.services.code.get_all()"
   ]
  },
  {
   "cell_type": "code",
   "execution_count": null,
   "metadata": {},
   "outputs": [
    {
     "ename": "",
     "evalue": "",
     "output_type": "error",
     "traceback": [
      "\u001b[1;31mFailed to start the Kernel. \n",
      "\u001b[1;31mKernel PySyft (Python 3.10.4) is not usable. Check the Jupyter output tab for more information. \n",
      "\u001b[1;31mView Jupyter <a href='command:jupyter.viewOutput'>log</a> for further details."
     ]
    }
   ],
   "source": [
    "func_plus_one = client.api.services.code.get_all()[-1]"
   ]
  },
  {
   "cell_type": "code",
   "execution_count": null,
   "metadata": {},
   "outputs": [
    {
     "ename": "",
     "evalue": "",
     "output_type": "error",
     "traceback": [
      "\u001b[1;31mFailed to start the Kernel. \n",
      "\u001b[1;31mKernel PySyft (Python 3.10.4) is not usable. Check the Jupyter output tab for more information. \n",
      "\u001b[1;31mView Jupyter <a href='command:jupyter.viewOutput'>log</a> for further details."
     ]
    }
   ],
   "source": [
    "print(func_plus_one.output_policy.raw_code)"
   ]
  },
  {
   "cell_type": "code",
   "execution_count": null,
   "metadata": {},
   "outputs": [
    {
     "ename": "",
     "evalue": "",
     "output_type": "error",
     "traceback": [
      "\u001b[1;31mFailed to start the Kernel. \n",
      "\u001b[1;31mKernel PySyft (Python 3.10.4) is not usable. Check the Jupyter output tab for more information. \n",
      "\u001b[1;31mView Jupyter <a href='command:jupyter.viewOutput'>log</a> for further details."
     ]
    }
   ],
   "source": [
    "state = sy.deserialize(func_plus_one.output_policy_state, from_bytes=True, class_type=RepeatedCallPolicy)"
   ]
  },
  {
   "cell_type": "code",
   "execution_count": null,
   "metadata": {},
   "outputs": [
    {
     "ename": "",
     "evalue": "",
     "output_type": "error",
     "traceback": [
      "\u001b[1;31mFailed to start the Kernel. \n",
      "\u001b[1;31mKernel PySyft (Python 3.10.4) is not usable. Check the Jupyter output tab for more information. \n",
      "\u001b[1;31mView Jupyter <a href='command:jupyter.viewOutput'>log</a> for further details."
     ]
    }
   ],
   "source": [
    "state.public_state()"
   ]
  }
 ],
 "metadata": {
  "kernelspec": {
   "display_name": "PySyft",
   "language": "python",
   "name": "python3"
  },
  "language_info": {
   "codemirror_mode": {
    "name": "ipython",
    "version": 3
   },
   "file_extension": ".py",
   "mimetype": "text/x-python",
   "name": "python",
   "nbconvert_exporter": "python",
   "pygments_lexer": "ipython3",
   "version": "3.10.4"
  },
  "orig_nbformat": 4,
  "vscode": {
   "interpreter": {
    "hash": "4793a45c21657cf3d03167fad0b0286070df6dcd03825f60c6ea99cbb4eef702"
   }
  }
 },
 "nbformat": 4,
 "nbformat_minor": 2
}
