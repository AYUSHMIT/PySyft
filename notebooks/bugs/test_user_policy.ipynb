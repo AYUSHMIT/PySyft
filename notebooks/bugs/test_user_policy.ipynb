{
 "cells": [
  {
   "cell_type": "code",
   "execution_count": 1,
   "metadata": {},
   "outputs": [
    {
     "name": "stderr",
     "output_type": "stream",
     "text": [
      "/home/teo/anaconda3/envs/PySyft/lib/python3.10/site-packages/scipy/__init__.py:146: UserWarning: A NumPy version >=1.16.5 and <1.23.0 is required for this version of SciPy (detected version 1.24.2\n",
      "  warnings.warn(f\"A NumPy version >={np_minversion} and <{np_maxversion}\"\n",
      "kj/filesystem-disk-unix.c++:1703: warning: PWD environment variable doesn't match current directory; pwd = /home/teo/OpenMined/PySyft\n"
     ]
    }
   ],
   "source": [
    "import syft as sy\n",
    "import numpy as np\n",
    "from syft.core.node.worker import Worker\n",
    "from syft.core.node.new.user_code import SubmitUserCode\n",
    "from syft.core.node.new.policy import SubmitUserPolicy"
   ]
  },
  {
   "cell_type": "code",
   "execution_count": 2,
   "metadata": {},
   "outputs": [
    {
     "name": "stdout",
     "output_type": "stream",
     "text": [
      "> Starting Worker: Hungry Malik - 94c8001acd77448d993b34ef20625e3d - NodeType.DOMAIN - [<class 'syft.core.node.new.user_service.UserService'>, <class 'syft.core.node.new.metadata_service.MetadataService'>, <class 'syft.core.node.new.action_service.ActionService'>, <class 'syft.core.node.new.test_service.TestService'>, <class 'syft.core.node.new.dataset_service.DatasetService'>, <class 'syft.core.node.new.user_code_service.UserCodeService'>, <class 'syft.core.node.new.request_service.RequestService'>, <class 'syft.core.node.new.data_subject_service.DataSubjectService'>, <class 'syft.core.node.new.network_service.NetworkService'>, <class 'syft.core.node.new.policy_service.PolicyService'>, <class 'syft.core.node.new.message_service.MessageService'>, <class 'syft.core.node.new.project_service.ProjectService'>, <class 'syft.core.node.new.data_subject_member_service.DataSubjectMemberService'>]\n"
     ]
    }
   ],
   "source": [
    "worker = Worker()"
   ]
  },
  {
   "cell_type": "code",
   "execution_count": 3,
   "metadata": {},
   "outputs": [
    {
     "name": "stdout",
     "output_type": "stream",
     "text": [
      "Logged into Hungry Malik as <info@openmined.org>\n"
     ]
    }
   ],
   "source": [
    "client = sy.login(node=worker, email=\"info@openmined.org\", password=\"changethis\")"
   ]
  },
  {
   "cell_type": "code",
   "execution_count": 4,
   "metadata": {},
   "outputs": [
    {
     "name": "stdout",
     "output_type": "stream",
     "text": [
      "<bound method A.__post_init__ of C(init_args={}, kwargs={}, n_calls=1, downloadable_output_args=[])>\n",
      "()\n",
      "{'n_calls': 1, 'downloadable_output_args': []}\n"
     ]
    },
    {
     "data": {
      "text/html": [
       "{&#x27;n_calls&#x27;: 1, &#x27;downloadable_output_args&#x27;: []}"
      ],
      "text/plain": [
       "{'n_calls': 1, 'downloadable_output_args': []}"
      ]
     },
     "execution_count": 4,
     "metadata": {},
     "output_type": "execute_result"
    }
   ],
   "source": [
    "from pydantic import BaseModel\n",
    "from typing import List, Dict, Any\n",
    "\n",
    "class A(BaseModel):\n",
    "    class Config:\n",
    "        arbitrary_types_allowed = True\n",
    "\n",
    "    def __init__(self, *args, **kwargs) -> None:\n",
    "        super().__init__(**kwargs)\n",
    "        print(self.__post_init__)\n",
    "        print(args)\n",
    "        print(kwargs)\n",
    "        self.__post_init__()\n",
    "        \n",
    "    def __post_init__(self):\n",
    "        pass\n",
    "    \n",
    "    def update() -> None:\n",
    "        raise NotImplementedError\n",
    "    \n",
    "class B(A):\n",
    "    init_args: Dict[str, Any]={}\n",
    "    kwargs: Dict[str, Any]={}\n",
    "\n",
    "    def __init__(self, *args, **kwargs) -> None:\n",
    "        super().__init__(**kwargs)\n",
    "        self.init_args = args\n",
    "        self.kwargs = kwargs\n",
    "\n",
    "    \n",
    "class C(B):\n",
    "    n_calls: int\n",
    "    downloadable_output_args: List[str]\n",
    "    \n",
    "    \n",
    "    \n",
    "# B()     \n",
    "c = C(n_calls=1, downloadable_output_args=[])\n",
    "c.kwargs"
   ]
  },
  {
   "cell_type": "code",
   "execution_count": 5,
   "metadata": {},
   "outputs": [
    {
     "data": {
      "text/plain": [
       "<bound method A.__post_init__ of C(init_args=(), kwargs={'n_calls': 1, 'downloadable_output_args': []}, n_calls=1, downloadable_output_args=[])>"
      ]
     },
     "execution_count": 5,
     "metadata": {},
     "output_type": "execute_result"
    }
   ],
   "source": [
    "c.__post_init__"
   ]
  },
  {
   "cell_type": "code",
   "execution_count": 6,
   "metadata": {},
   "outputs": [
    {
     "name": "stdout",
     "output_type": "stream",
     "text": [
      "{'SyftObject_1': <class 'syft.core.node.new.syft_object.SyftObject'>, 'ActionDataEmpty_1': <class 'syft.core.node.new.action_data_empty.ActionDataEmpty'>, 'NodeServiceContext_1': <class 'syft.core.node.new.context.NodeServiceContext'>, 'AuthedServiceContext_1': <class 'syft.core.node.new.context.AuthedServiceContext'>, 'UnauthedServiceContext_1': <class 'syft.core.node.new.context.UnauthedServiceContext'>, 'NodeMetadataUpdate_1': <class 'syft.core.node.new.node_metadata.NodeMetadataUpdate'>, 'NodeMetadata_1': <class 'syft.core.node.new.node_metadata.NodeMetadata'>, 'User_1': <class 'syft.core.node.new.user.User'>, 'UserUpdate_1': <class 'syft.core.node.new.user.UserUpdate'>, 'UserCreate_1': <class 'syft.core.node.new.user.UserCreate'>, 'UserSearch_1': <class 'syft.core.node.new.user.UserSearch'>, 'UserView_1': <class 'syft.core.node.new.user.UserView'>, 'UserPrivateKey_1': <class 'syft.core.node.new.user.UserPrivateKey'>, 'NodeConnection_1': <class 'syft.core.node.new.connection.NodeConnection'>, 'LinkedObject_1': <class 'syft.core.node.new.linked_obj.LinkedObject'>, 'SignedSyftAPICall_1': <class 'syft.core.node.new.api.SignedSyftAPICall'>, 'SyftAPICall_1': <class 'syft.core.node.new.api.SyftAPICall'>, 'SyftAPI_1': <class 'syft.core.node.new.api.SyftAPI'>, 'DataSubject_1': <class 'syft.core.node.new.data_subject.DataSubject'>, 'DataSubjectCreate_1': <class 'syft.core.node.new.data_subject.DataSubjectCreate'>, 'DataSubjectMemberRelationship_1': <class 'syft.core.node.new.data_subject_member.DataSubjectMemberRelationship'>, 'Contributor_1': <class 'syft.core.node.new.dataset.Contributor'>, 'Asset_1': <class 'syft.core.node.new.dataset.Asset'>, 'CreateAsset_1': <class 'syft.core.node.new.dataset.CreateAsset'>, 'Dataset_1': <class 'syft.core.node.new.dataset.Dataset'>, 'CreateDataset_1': <class 'syft.core.node.new.dataset.CreateDataset'>, 'HTTPConnection_1': <class 'syft.core.node.new.client.HTTPConnection'>, 'PythonConnection_1': <class 'syft.core.node.new.client.PythonConnection'>, 'Action_1': <class 'syft.core.node.new.action_object.Action'>, 'ActionObject_1': <class 'syft.core.node.new.action_object.ActionObject'>, 'AnyActionObject_1': <class 'syft.core.node.new.action_object.AnyActionObject'>, 'DateTime_1': <class 'syft.core.node.new.datetime.DateTime'>, 'Policy_1': <class 'syft.core.node.new.policy.Policy'>, 'InputPolicyState_1': <class 'syft.core.node.new.policy.InputPolicyState'>, 'InputPolicy_1': <class 'syft.core.node.new.policy.InputPolicy'>, 'ExactMatch_1': <class 'syft.core.node.new.policy.ExactMatch'>, 'OutputHistory_1': <class 'syft.core.node.new.policy.OutputHistory'>, 'OutputPolicyState_1': <class 'syft.core.node.new.policy.OutputPolicyState'>, 'OutputPolicyStateExecuteCount_1': <class 'syft.core.node.new.policy.OutputPolicyStateExecuteCount'>, 'OutputPolicyStateExecuteOnce_1': <class 'syft.core.node.new.policy.OutputPolicyStateExecuteOnce'>, 'OutputPolicy_1': <class 'syft.core.node.new.policy.OutputPolicy'>, 'CustomOutputPolicy_1': <class 'syft.core.node.new.policy.CustomOutputPolicy'>, 'SingleExecutionExactOutput_1': <class 'syft.core.node.new.policy.SingleExecutionExactOutput'>, 'UserPolicy_1': <class 'syft.core.node.new.policy.UserPolicy'>, 'SubmitUserPolicy_1': <class 'syft.core.node.new.policy.SubmitUserPolicy'>, 'TwinObject_1': <class 'syft.core.node.new.twin_object.TwinObject'>, 'NumpyArrayObject_1': <class 'syft.core.node.new.numpy.NumpyArrayObject'>, 'NumpyScalarObject_1': <class 'syft.core.node.new.numpy.NumpyScalarObject'>, 'NumpyBoolObject_1': <class 'syft.core.node.new.numpy.NumpyBoolObject'>, 'PandasDataframeObject_1': <class 'syft.core.node.new.pandas.PandasDataFrameObject'>, 'PandasSeriesObject_1': <class 'syft.core.node.new.pandas.PandasSeriesObject'>, 'UserCode_1': <class 'syft.core.node.new.user_code.UserCode'>, 'SubmitUserCode_1': <class 'syft.core.node.new.user_code.SubmitUserCode'>, 'UserCodeExecutionResult_1': <class 'syft.core.node.new.user_code.UserCodeExecutionResult'>, 'Change_1': <class 'syft.core.node.new.request.Change'>, 'ActionStoreChange_1': <class 'syft.core.node.new.request.ActionStoreChange'>, 'Request_1': <class 'syft.core.node.new.request.Request'>, 'SubmitRequest_1': <class 'syft.core.node.new.request.SubmitRequest'>, 'ObjectMutation_1': <class 'syft.core.node.new.request.ObjectMutation'>, 'EnumMutation_1': <class 'syft.core.node.new.request.EnumMutation'>, 'UserCodeStatusChange_1': <class 'syft.core.node.new.request.UserCodeStatusChange'>, 'Message_1': <class 'syft.core.node.new.messages.Message'>, 'CreateMessage_1': <class 'syft.core.node.new.messages.CreateMessage'>, 'Project_1': <class 'syft.core.node.new.project.Project'>, 'PermissionChange_1': <class 'syft.core.node.new.project.ObjectPermissionChange'>, 'ProjectSubmit_1': <class 'syft.core.node.new.project.ProjectSubmit'>, 'WorkerSettings_1': <class 'syft.core.node.new.worker_settings.WorkerSettings'>, 'HTTPNodeRoute_1': <class 'syft.core.node.new.network_service.HTTPNodeRoute'>, 'PythonNodeRoute_1': <class 'syft.core.node.new.network_service.PythonNodeRoute'>, 'NodePeer_1': <class 'syft.core.node.new.network_service.NodePeer'>, 'QueueItem_1': <class 'syft.core.node.new.queue_stash.QueueItem'>}\n",
      "{'SyftObject_1': <class 'syft.core.node.new.syft_object.SyftObject'>, 'ActionDataEmpty_1': <class 'syft.core.node.new.action_data_empty.ActionDataEmpty'>, 'NodeServiceContext_1': <class 'syft.core.node.new.context.NodeServiceContext'>, 'AuthedServiceContext_1': <class 'syft.core.node.new.context.AuthedServiceContext'>, 'UnauthedServiceContext_1': <class 'syft.core.node.new.context.UnauthedServiceContext'>, 'NodeMetadataUpdate_1': <class 'syft.core.node.new.node_metadata.NodeMetadataUpdate'>, 'NodeMetadata_1': <class 'syft.core.node.new.node_metadata.NodeMetadata'>, 'User_1': <class 'syft.core.node.new.user.User'>, 'UserUpdate_1': <class 'syft.core.node.new.user.UserUpdate'>, 'UserCreate_1': <class 'syft.core.node.new.user.UserCreate'>, 'UserSearch_1': <class 'syft.core.node.new.user.UserSearch'>, 'UserView_1': <class 'syft.core.node.new.user.UserView'>, 'UserPrivateKey_1': <class 'syft.core.node.new.user.UserPrivateKey'>, 'NodeConnection_1': <class 'syft.core.node.new.connection.NodeConnection'>, 'LinkedObject_1': <class 'syft.core.node.new.linked_obj.LinkedObject'>, 'SignedSyftAPICall_1': <class 'syft.core.node.new.api.SignedSyftAPICall'>, 'SyftAPICall_1': <class 'syft.core.node.new.api.SyftAPICall'>, 'SyftAPI_1': <class 'syft.core.node.new.api.SyftAPI'>, 'DataSubject_1': <class 'syft.core.node.new.data_subject.DataSubject'>, 'DataSubjectCreate_1': <class 'syft.core.node.new.data_subject.DataSubjectCreate'>, 'DataSubjectMemberRelationship_1': <class 'syft.core.node.new.data_subject_member.DataSubjectMemberRelationship'>, 'Contributor_1': <class 'syft.core.node.new.dataset.Contributor'>, 'Asset_1': <class 'syft.core.node.new.dataset.Asset'>, 'CreateAsset_1': <class 'syft.core.node.new.dataset.CreateAsset'>, 'Dataset_1': <class 'syft.core.node.new.dataset.Dataset'>, 'CreateDataset_1': <class 'syft.core.node.new.dataset.CreateDataset'>, 'HTTPConnection_1': <class 'syft.core.node.new.client.HTTPConnection'>, 'PythonConnection_1': <class 'syft.core.node.new.client.PythonConnection'>, 'Action_1': <class 'syft.core.node.new.action_object.Action'>, 'ActionObject_1': <class 'syft.core.node.new.action_object.ActionObject'>, 'AnyActionObject_1': <class 'syft.core.node.new.action_object.AnyActionObject'>, 'DateTime_1': <class 'syft.core.node.new.datetime.DateTime'>, 'Policy_1': <class 'syft.core.node.new.policy.Policy'>, 'InputPolicyState_1': <class 'syft.core.node.new.policy.InputPolicyState'>, 'InputPolicy_1': <class 'syft.core.node.new.policy.InputPolicy'>, 'ExactMatch_1': <class 'syft.core.node.new.policy.ExactMatch'>, 'OutputHistory_1': <class 'syft.core.node.new.new_policy.OutputHistory'>, 'OutputPolicyState_1': <class 'syft.core.node.new.policy.OutputPolicyState'>, 'OutputPolicyStateExecuteCount_1': <class 'syft.core.node.new.policy.OutputPolicyStateExecuteCount'>, 'OutputPolicyStateExecuteOnce_1': <class 'syft.core.node.new.policy.OutputPolicyStateExecuteOnce'>, 'OutputPolicy_1': <class 'syft.core.node.new.policy.OutputPolicy'>, 'CustomOutputPolicy_1': <class 'syft.core.node.new.policy.CustomOutputPolicy'>, 'SingleExecutionExactOutput_1': <class 'syft.core.node.new.policy.SingleExecutionExactOutput'>, 'UserPolicy_1': <class 'syft.core.node.new.policy.UserPolicy'>, 'SubmitUserPolicy_1': <class 'syft.core.node.new.policy.SubmitUserPolicy'>, 'TwinObject_1': <class 'syft.core.node.new.twin_object.TwinObject'>, 'NumpyArrayObject_1': <class 'syft.core.node.new.numpy.NumpyArrayObject'>, 'NumpyScalarObject_1': <class 'syft.core.node.new.numpy.NumpyScalarObject'>, 'NumpyBoolObject_1': <class 'syft.core.node.new.numpy.NumpyBoolObject'>, 'PandasDataframeObject_1': <class 'syft.core.node.new.pandas.PandasDataFrameObject'>, 'PandasSeriesObject_1': <class 'syft.core.node.new.pandas.PandasSeriesObject'>, 'UserCode_1': <class 'syft.core.node.new.user_code.UserCode'>, 'SubmitUserCode_1': <class 'syft.core.node.new.user_code.SubmitUserCode'>, 'UserCodeExecutionResult_1': <class 'syft.core.node.new.user_code.UserCodeExecutionResult'>, 'Change_1': <class 'syft.core.node.new.request.Change'>, 'ActionStoreChange_1': <class 'syft.core.node.new.request.ActionStoreChange'>, 'Request_1': <class 'syft.core.node.new.request.Request'>, 'SubmitRequest_1': <class 'syft.core.node.new.request.SubmitRequest'>, 'ObjectMutation_1': <class 'syft.core.node.new.request.ObjectMutation'>, 'EnumMutation_1': <class 'syft.core.node.new.request.EnumMutation'>, 'UserCodeStatusChange_1': <class 'syft.core.node.new.request.UserCodeStatusChange'>, 'Message_1': <class 'syft.core.node.new.messages.Message'>, 'CreateMessage_1': <class 'syft.core.node.new.messages.CreateMessage'>, 'Project_1': <class 'syft.core.node.new.project.Project'>, 'PermissionChange_1': <class 'syft.core.node.new.project.ObjectPermissionChange'>, 'ProjectSubmit_1': <class 'syft.core.node.new.project.ProjectSubmit'>, 'WorkerSettings_1': <class 'syft.core.node.new.worker_settings.WorkerSettings'>, 'HTTPNodeRoute_1': <class 'syft.core.node.new.network_service.HTTPNodeRoute'>, 'PythonNodeRoute_1': <class 'syft.core.node.new.network_service.PythonNodeRoute'>, 'NodePeer_1': <class 'syft.core.node.new.network_service.NodePeer'>, 'QueueItem_1': <class 'syft.core.node.new.queue_stash.QueueItem'>}\n"
     ]
    }
   ],
   "source": [
    "# from syft.core.common.serde.serializable import serializable\n",
    "from syft.core.node.new.new_policy import ExactMatch, OutputPolicyExecuteOnce, OutputPolicy, CustomOutputPolicy\n",
    "from syft.core.node.new.action_object import ActionObject\n",
    "from syft.core.node.new.serializable import serializable\n",
    "\n",
    "@serializable(recursive_serde=True)\n",
    "class RepeatedCallPolicy(CustomOutputPolicy):\n",
    "    # from syft.core.node.new.action_object import ActionObject\n",
    "    __canonical_name__ = \"RepeatedCallPolicy\"\n",
    "    from syft.core.node.new.syft_object import SYFT_OBJECT_VERSION_1\n",
    "\n",
    "    __version__ = SYFT_OBJECT_VERSION_1\n",
    "    from typing import Dict\n",
    "    from typing import Any\n",
    "    n_calls: int\n",
    "    downloadable_output_args: List[str]\n",
    "    state: Dict[Any, Any] = {}\n",
    "    # _init_args: Dict[str, Any]\n",
    "    # _kwargs: Dict[str, Any]\n",
    "    \n",
    "    __attr_allowlist__ = [\n",
    "        \"n_calls\",\n",
    "        \"downloadable_output_args\",\n",
    "    ]\n",
    "    \n",
    "    # __fields_set__ = [\n",
    "    #     \"n_calls\",\n",
    "    #     \"downloadable_output_args\",\n",
    "    # ]\n",
    "    \n",
    "    def __init__(self, n_calls=1, downloadable_output_args=[]):\n",
    "        super().__init__(n_calls=n_calls, downloadable_output_args=downloadable_output_args)\n",
    "        self.n_calls = n_calls + 1\n",
    "        self.downloadable_output_args = downloadable_output_args\n",
    "        self.state = {\"counts\": 0}\n",
    "\n",
    "    # def __repr__(self) -> str:\n",
    "    #     return f'RepeatedCallPolicy - {self.n_calls}/{self.downloadable_output_args}/{self.state}'\n",
    "\n",
    "    # def update() -> None:\n",
    "\n",
    "    # def __post_init__(self, *args, **kwargs) -> None:\n",
    "    #     self._init_args = args\n",
    "    #     self._kwargs = kwargs\n",
    "\n",
    "    def public_state(self):\n",
    "        return self.state[\"counts\"]\n",
    "        \n",
    "    def apply_output(self, action_object) -> Dict[Any, Any]:\n",
    "        results_dict = action_object.syft_action_data        \n",
    "        if self.state[\"counts\"] < self.n_calls:\n",
    "            for output_arg in self.downloadable_output_args:\n",
    "                # results_dict[output_arg] = results_dict[output_arg].set_permission(READ, self.my_verify_key)\n",
    "                results_dict[output_arg] = results_dict[output_arg]\n",
    "\n",
    "            self.state[\"counts\"] += 1\n",
    "        else:\n",
    "            return \n",
    "            \n",
    "        return results_dict\n",
    "    \n",
    "    "
   ]
  },
  {
   "cell_type": "code",
   "execution_count": 7,
   "metadata": {},
   "outputs": [
    {
     "ename": "AttributeError",
     "evalue": "'RepeatedCallPolicy' object has no attribute 'kwargs'",
     "output_type": "error",
     "traceback": [
      "\u001b[0;31m---------------------------------------------------------------------------\u001b[0m",
      "\u001b[0;31mAttributeError\u001b[0m                            Traceback (most recent call last)",
      "\u001b[1;32m/home/teo/OpenMined/PySyft/notebooks/bugs/test_user_policy.ipynb Cell 7\u001b[0m in \u001b[0;36m2\n\u001b[1;32m      <a href='vscode-notebook-cell:/home/teo/OpenMined/PySyft/notebooks/bugs/test_user_policy.ipynb#W6sZmlsZQ%3D%3D?line=0'>1</a>\u001b[0m policy \u001b[39m=\u001b[39m RepeatedCallPolicy(n_calls\u001b[39m=\u001b[39m\u001b[39m1\u001b[39m, downloadable_output_args\u001b[39m=\u001b[39m[\u001b[39m'\u001b[39m\u001b[39my\u001b[39m\u001b[39m'\u001b[39m])\n\u001b[0;32m----> <a href='vscode-notebook-cell:/home/teo/OpenMined/PySyft/notebooks/bugs/test_user_policy.ipynb#W6sZmlsZQ%3D%3D?line=1'>2</a>\u001b[0m \u001b[39mprint\u001b[39m(policy\u001b[39m.\u001b[39minit_args, policy\u001b[39m.\u001b[39;49mkwargs)\n\u001b[1;32m      <a href='vscode-notebook-cell:/home/teo/OpenMined/PySyft/notebooks/bugs/test_user_policy.ipynb#W6sZmlsZQ%3D%3D?line=2'>3</a>\u001b[0m obj \u001b[39m=\u001b[39m ActionObject\u001b[39m.\u001b[39mfrom_obj({\u001b[39m'\u001b[39m\u001b[39my\u001b[39m\u001b[39m'\u001b[39m: [\u001b[39m1\u001b[39m,\u001b[39m2\u001b[39m,\u001b[39m3\u001b[39m]})\n\u001b[1;32m      <a href='vscode-notebook-cell:/home/teo/OpenMined/PySyft/notebooks/bugs/test_user_policy.ipynb#W6sZmlsZQ%3D%3D?line=3'>4</a>\u001b[0m policy\u001b[39m.\u001b[39mapply_output(obj)\n",
      "\u001b[0;31mAttributeError\u001b[0m: 'RepeatedCallPolicy' object has no attribute 'kwargs'"
     ]
    }
   ],
   "source": [
    "policy = RepeatedCallPolicy(n_calls=1, downloadable_output_args=['y'])\n",
    "print(policy.init_args, policy.init_kwargs)\n",
    "obj = ActionObject.from_obj({'y': [1,2,3]})\n",
    "policy.apply_output(obj)"
   ]
  },
  {
   "cell_type": "code",
   "execution_count": null,
   "metadata": {},
   "outputs": [
    {
     "data": {
      "text/html": [
       "<div class=\"alert-success\" style=\"padding:5px;\"><strong>SyftSuccess</strong>: <class 'syft.core.node.new.numpy.NumpyArrayObject'> saved</div><br />"
      ],
      "text/plain": [
       "<class 'syft.core.node.new.response.SyftSuccess'>: <class 'syft.core.node.new.numpy.NumpyArrayObject'> saved"
      ]
     },
     "execution_count": 8,
     "metadata": {},
     "output_type": "execute_result"
    }
   ],
   "source": [
    "import numpy as np\n",
    "from syft.core.node.new.twin_object import to_action_object\n",
    "\n",
    "x = np.array([1,2,3])\n",
    "x_pointer = to_action_object(x)\n",
    "client.api.services.action.save(x_pointer)"
   ]
  },
  {
   "cell_type": "code",
   "execution_count": null,
   "metadata": {},
   "outputs": [],
   "source": [
    "from inspect import getmro\n",
    "obj = RepeatedCallPolicy(n_calls=1, downloadable_output_args=['y'])\n"
   ]
  },
  {
   "cell_type": "code",
   "execution_count": null,
   "metadata": {},
   "outputs": [],
   "source": []
  },
  {
   "cell_type": "code",
   "execution_count": null,
   "metadata": {},
   "outputs": [
    {
     "data": {
      "text/html": [
       "{&#x27;n_calls&#x27;: 1, &#x27;downloadable_output_args&#x27;: [&#x27;y&#x27;]}"
      ],
      "text/plain": [
       "{'n_calls': 1, 'downloadable_output_args': ['y']}"
      ]
     },
     "execution_count": 10,
     "metadata": {},
     "output_type": "execute_result"
    }
   ],
   "source": [
    "obj.kwargs"
   ]
  },
  {
   "cell_type": "code",
   "execution_count": null,
   "metadata": {},
   "outputs": [
    {
     "name": "stdout",
     "output_type": "stream",
     "text": [
      "SubmitUserPolicy\n",
      "{'n_calls': 1, 'downloadable_output_args': ['y']}\n",
      "('x',)\n"
     ]
    }
   ],
   "source": [
    "@sy.syft_function(\n",
    "    input_policy=ExactMatch(x=x_pointer),\n",
    "    # input_policy_init_args={'inputs':{'x':4}},\n",
    "    # output_policy=SingleExecutionExactOutput,\n",
    "    # output_policy_init_args={},\n",
    "    output_policy=RepeatedCallPolicy(n_calls=1, downloadable_output_args=['y']),\n",
    ")\n",
    "def func(x):\n",
    "    return {\"y\": x}\n"
   ]
  },
  {
   "cell_type": "code",
   "execution_count": null,
   "metadata": {},
   "outputs": [
    {
     "name": "stdout",
     "output_type": "stream",
     "text": [
      "what kind of output_policy syft.core.node.new.policy.UserPolicy <class 'syft.core.node.new.policy.UserPolicy'>\n"
     ]
    },
    {
     "data": {
      "text/markdown": [
       "```python\n",
       "class Request:\n",
       "  id: str = 15bf0c7c4d3b488b9ded2293f8171214\n",
       "  requesting_user_verify_key: str = bd2ba16cbdad6886804f76c855f6aca232517b12c6fcb13a51bf782304f1ce19\n",
       "  approving_user_verify_key: str = None\n",
       "  request_time: str = 2023-03-22 09:32:35\n",
       "  approval_time: str = None\n",
       "  status: str = RequestStatus.PENDING\n",
       "  node_uid: str = 4c5dc2d254a1468784643b0ee765cdfd\n",
       "  request_hash: str = \"f62fbf3a791ff9875e2d065ab24dd53ff981c3e9945026dae362b1c77502fb4e\"\n",
       "  changes: str = [syft.core.node.new.request.UserCodeStatusChange]\n",
       "\n",
       "```"
      ],
      "text/plain": [
       "syft.core.node.new.request.Request"
      ]
     },
     "execution_count": 12,
     "metadata": {},
     "output_type": "execute_result"
    }
   ],
   "source": [
    "client.api.services.code.request_code_execution(func)"
   ]
  },
  {
   "cell_type": "code",
   "execution_count": null,
   "metadata": {},
   "outputs": [
    {
     "name": "stdout",
     "output_type": "stream",
     "text": [
      "Logged into Eagleman Hutter as <info@openmined.org>\n"
     ]
    }
   ],
   "source": [
    "client = sy.login(node=worker, email=\"info@openmined.org\", password=\"changethis\", cache=False)"
   ]
  },
  {
   "cell_type": "code",
   "execution_count": null,
   "metadata": {},
   "outputs": [
    {
     "name": "stdout",
     "output_type": "stream",
     "text": [
      "WARNING: This code was submitted by a User and could be UNSAFE.\n",
      "message='Policy Code Submitted'\n"
     ]
    },
    {
     "data": {
      "text/html": [
       "<div class=\"alert-success\" style=\"padding:5px;\"><strong>SyftSuccess</strong>: Request 15bf0c7c4d3b488b9ded2293f8171214 changes applied</div><br />"
      ],
      "text/plain": [
       "<class 'syft.core.node.new.response.SyftSuccess'>: Request 15bf0c7c4d3b488b9ded2293f8171214 changes applied"
      ]
     },
     "execution_count": 14,
     "metadata": {},
     "output_type": "execute_result"
    }
   ],
   "source": [
    "request = client.notifications[0].link\n",
    "func = request.changes[0].link\n",
    "result = func.unsafe_function(x=x_pointer)\n",
    "# func.output_policy\n",
    "final_result = request.accept_by_depositing_result(result) \n",
    "final_result"
   ]
  },
  {
   "cell_type": "code",
   "execution_count": null,
   "metadata": {},
   "outputs": [
    {
     "name": "stdout",
     "output_type": "stream",
     "text": [
      "output_policy_state <class 'bytes'>\n"
     ]
    }
   ],
   "source": [
    "res = client.api.services.code.func(x=x_pointer)\n",
    "# print(res)\n",
    "# print(type(res))"
   ]
  },
  {
   "cell_type": "code",
   "execution_count": null,
   "metadata": {},
   "outputs": [],
   "source": [
    "policy = client.api.services.policy.get_all()[0]"
   ]
  },
  {
   "cell_type": "code",
   "execution_count": null,
   "metadata": {},
   "outputs": [
    {
     "data": {
      "text/plain": [
       "<UID: 4c5dc2d254a1468784643b0ee765cdfd>"
      ]
     },
     "execution_count": 45,
     "metadata": {},
     "output_type": "execute_result"
    }
   ],
   "source": [
    "client.id"
   ]
  },
  {
   "cell_type": "code",
   "execution_count": null,
   "metadata": {},
   "outputs": [],
   "source": [
    "from syft.core.node.new.linked_obj import LinkedObject \n",
    "from syft.core.node.new.policy import UserPolicy\n",
    "from syft.core.node.new.policy_service import PolicyService\n",
    "\n",
    "policy_linked = LinkedObject.from_obj(policy, service_type=PolicyService ,node_uid=client.id)"
   ]
  },
  {
   "cell_type": "code",
   "execution_count": null,
   "metadata": {},
   "outputs": [
    {
     "data": {
      "text/markdown": [
       "```python\n",
       "class LinkedObject:\n",
       "  id: str = 1a38fce092a440f58ee38bc108b09ba4\n",
       "  node_uid: str = 4c5dc2d254a1468784643b0ee765cdfd\n",
       "  service_type: str = <class 'syft.core.node.new.policy_service.PolicyService'>\n",
       "  object_type: str = <class 'syft.core.node.new.policy.UserPolicy'>\n",
       "  object_uid: str = 186aff516782421ab982f8198e264ad5\n",
       "\n",
       "```"
      ],
      "text/plain": [
       "syft.core.node.new.linked_obj.LinkedObject"
      ]
     },
     "execution_count": 49,
     "metadata": {},
     "output_type": "execute_result"
    }
   ],
   "source": [
    "policy_linked"
   ]
  },
  {
   "cell_type": "code",
   "execution_count": null,
   "metadata": {},
   "outputs": [],
   "source": [
    "output_policy = client.api.services.policy.get_all()[0]\n"
   ]
  },
  {
   "cell_type": "code",
   "execution_count": null,
   "metadata": {},
   "outputs": [
    {
     "data": {
      "text/html": [
       "List - Size: 1\n",
       "<div>\n",
       "<style scoped>\n",
       "    .dataframe tbody tr th:only-of-type {\n",
       "        vertical-align: middle;\n",
       "    }\n",
       "\n",
       "    .dataframe tbody tr th {\n",
       "        vertical-align: top;\n",
       "    }\n",
       "\n",
       "    .dataframe thead th {\n",
       "        text-align: right;\n",
       "    }\n",
       "</style>\n",
       "<table border=\"1\" class=\"dataframe\">\n",
       "  <thead>\n",
       "    <tr style=\"text-align: right;\">\n",
       "      <th></th>\n",
       "      <th>type</th>\n",
       "      <th>id</th>\n",
       "    </tr>\n",
       "  </thead>\n",
       "  <tbody>\n",
       "    <tr>\n",
       "      <th>0</th>\n",
       "      <td>syft.core.node.new.policy.UserPolicy</td>\n",
       "      <td>186aff516782421ab982f8198e264ad5</td>\n",
       "    </tr>\n",
       "  </tbody>\n",
       "</table>\n",
       "</div>"
      ],
      "text/plain": [
       "[syft.core.node.new.policy.UserPolicy]"
      ]
     },
     "execution_count": 19,
     "metadata": {},
     "output_type": "execute_result"
    }
   ],
   "source": [
    "client.api.services.policy.get_all()"
   ]
  },
  {
   "cell_type": "code",
   "execution_count": null,
   "metadata": {},
   "outputs": [
    {
     "name": "stdout",
     "output_type": "stream",
     "text": [
      "UserPolicy\n",
      "('x',)\n"
     ]
    }
   ],
   "source": [
    "@sy.syft_function(\n",
    "    input_policy=ExactMatch(x=x_pointer),\n",
    "    # input_policy_init_args={'inputs':{'x':4}},\n",
    "    # output_policy=SingleExecutionExactOutput,\n",
    "    # output_policy_init_args={},\n",
    "    output_policy=output_policy.id,\n",
    "    output_policy_init_args={\"n_calls\":1, 'downloadable_output_args':['y']},\n",
    "    outputs=[\"y\"]\n",
    ")\n",
    "def func_plus_one(x):\n",
    "    return {\"y\": x + 1}\n"
   ]
  },
  {
   "cell_type": "code",
   "execution_count": null,
   "metadata": {},
   "outputs": [
    {
     "data": {
      "text/html": [
       "<div class=\"alert-danger\" style=\"padding:5px;\"><strong>SyftError</strong>: Exception calling code.request_code_execution. 'UserPolicy' object has no attribute 'is_ok'</div><br />"
      ],
      "text/plain": [
       "<class 'syft.core.node.new.response.SyftError'>: Exception calling code.request_code_execution. 'UserPolicy' object has no attribute 'is_ok'"
      ]
     },
     "execution_count": 21,
     "metadata": {},
     "output_type": "execute_result"
    }
   ],
   "source": [
    "client.api.services.code.request_code_execution(func_plus_one)"
   ]
  },
  {
   "cell_type": "code",
   "execution_count": null,
   "metadata": {},
   "outputs": [
    {
     "data": {
      "text/markdown": [
       "```python\n",
       "class UserPolicy:\n",
       "  id: str = 186aff516782421ab982f8198e264ad5\n",
       "  node_uid: str = 4c5dc2d254a1468784643b0ee765cdfd\n",
       "  user_verify_key: str = bd2ba16cbdad6886804f76c855f6aca232517b12c6fcb13a51bf782304f1ce19\n",
       "  raw_code: str = \"from .user_code import CustomOutputPolicy\n",
       "@serializable(recursive_serde=True)\n",
       "class RepeatedCallPolicy(CustomOutputPolicy):\n",
       "    # from syft.core.node.new.action_object import ActionObject\n",
       "    __canonical_name__ = \"RepeatedCallPolicy\"\n",
       "    from syft.core.node.new.syft_object import SYFT_OBJECT_VERSION_1\n",
       "\n",
       "    __version__ = SYFT_OBJECT_VERSION_1\n",
       "    from typing import Dict\n",
       "    from typing import Any\n",
       "    n_calls: int\n",
       "    downloadable_output_args: List[str]\n",
       "    state: Dict[Any, Any] = {}\n",
       "    # _init_args: Dict[str, Any]\n",
       "    # _kwargs: Dict[str, Any]\n",
       "    \n",
       "    __attr_allowlist__ = [\n",
       "        \"n_calls\",\n",
       "        \"downloadable_output_args\",\n",
       "    ]\n",
       "    \n",
       "    # __fields_set__ = [\n",
       "    #     \"n_calls\",\n",
       "    #     \"downloadable_output_args\",\n",
       "    # ]\n",
       "    \n",
       "    def __init__(self, n_calls=1, downloadable_output_args=[]):\n",
       "        super().__init__(n_calls=n_calls, downloadable_output_args=downloadable_output_args)\n",
       "        self.n_calls = n_calls + 1\n",
       "        self.downloadable_output_args = downloadable_output_args\n",
       "        self.state = {\"counts\": 0}\n",
       "\n",
       "    # def __repr__(self) -> str:\n",
       "    #     return f'RepeatedCallPolicy - {self.n_calls}/{self.downloadable_output_args}/{self.state}'\n",
       "\n",
       "    # def update() -> None:\n",
       "\n",
       "    # def __post_init__(self, *args, **kwargs) -> None:\n",
       "    #     self._init_args = args\n",
       "    #     self._kwargs = kwargs\n",
       "\n",
       "    def public_state(self):\n",
       "        return self.state[\"counts\"]\n",
       "        \n",
       "    def apply_output(self, action_object) -> Dict[Any, Any]:\n",
       "        results_dict = action_object.syft_action_data        \n",
       "        if self.state[\"counts\"] < self.n_calls:\n",
       "            for output_arg in self.downloadable_output_args:\n",
       "                # results_dict[output_arg] = results_dict[output_arg].set_permission(READ, self.my_verify_key)\n",
       "                results_dict[output_arg] = results_dict[output_arg]\n",
       "\n",
       "            self.state[\"counts\"] += 1\n",
       "        else:\n",
       "            return \n",
       "            \n",
       "        return results_dict\n",
       "\"\n",
       "  parsed_code: str = \"from .user_code import CustomOutputPolicy\n",
       "@serializable(recursive_serde=True)\n",
       "class RepeatedCallPolicy(CustomOutputPolicy):\n",
       "    # from syft.core.node.new.action_object import ActionObject\n",
       "    __canonical_name__ = \"RepeatedCallPolicy\"\n",
       "    from syft.core.node.new.syft_object import SYFT_OBJECT_VERSION_1\n",
       "\n",
       "    __version__ = SYFT_OBJECT_VERSION_1\n",
       "    from typing import Dict\n",
       "    from typing import Any\n",
       "    n_calls: int\n",
       "    downloadable_output_args: List[str]\n",
       "    state: Dict[Any, Any] = {}\n",
       "    # _init_args: Dict[str, Any]\n",
       "    # _kwargs: Dict[str, Any]\n",
       "    \n",
       "    __attr_allowlist__ = [\n",
       "        \"n_calls\",\n",
       "        \"downloadable_output_args\",\n",
       "    ]\n",
       "    \n",
       "    # __fields_set__ = [\n",
       "    #     \"n_calls\",\n",
       "    #     \"downloadable_output_args\",\n",
       "    # ]\n",
       "    \n",
       "    def __init__(self, n_calls=1, downloadable_output_args=[]):\n",
       "        super().__init__(n_calls=n_calls, downloadable_output_args=downloadable_output_args)\n",
       "        self.n_calls = n_calls + 1\n",
       "        self.downloadable_output_args = downloadable_output_args\n",
       "        self.state = {\"counts\": 0}\n",
       "\n",
       "    # def __repr__(self) -> str:\n",
       "    #     return f'RepeatedCallPolicy - {self.n_calls}/{self.downloadable_output_args}/{self.state}'\n",
       "\n",
       "    # def update() -> None:\n",
       "\n",
       "    # def __post_init__(self, *args, **kwargs) -> None:\n",
       "    #     self._init_args = args\n",
       "    #     self._kwargs = kwargs\n",
       "\n",
       "    def public_state(self):\n",
       "        return self.state[\"counts\"]\n",
       "        \n",
       "    def apply_output(self, action_object) -> Dict[Any, Any]:\n",
       "        results_dict = action_object.syft_action_data        \n",
       "        if self.state[\"counts\"] < self.n_calls:\n",
       "            for output_arg in self.downloadable_output_args:\n",
       "                # results_dict[output_arg] = results_dict[output_arg].set_permission(READ, self.my_verify_key)\n",
       "                results_dict[output_arg] = results_dict[output_arg]\n",
       "\n",
       "            self.state[\"counts\"] += 1\n",
       "        else:\n",
       "            return \n",
       "            \n",
       "        return results_dict\n",
       "\"\n",
       "  signature: str = (downloadable_output_args)\n",
       "  class_name: str = \"RepeatedCallPolicy\"\n",
       "  unique_name: str = \"user_func_RepeatedCallPolicy_bd2ba16cbdad6886804f76c855f6aca232517b12c6fcb13a51bf782304f1ce19_c74e97305b95fd6c1a37bbfe65948a8577b0ade967a3fffab5a8d400757c6617\"\n",
       "  code_hash: str = \"c74e97305b95fd6c1a37bbfe65948a8577b0ade967a3fffab5a8d400757c6617\"\n",
       "  status: str = UserPolicyStatus.SUBMITTED\n",
       "  state_type: str = None\n",
       "\n",
       "```"
      ],
      "text/plain": [
       "syft.core.node.new.policy.UserPolicy"
      ]
     },
     "execution_count": 22,
     "metadata": {},
     "output_type": "execute_result"
    }
   ],
   "source": [
    "client.api.services.policy.get_all()[0]"
   ]
  },
  {
   "cell_type": "code",
   "execution_count": null,
   "metadata": {},
   "outputs": [
    {
     "data": {
      "text/markdown": [
       "```python\n",
       "class SubmitUserCode:\n",
       "  id: str = None\n",
       "  code: str = \"@sy.syft_function(\n",
       "    input_policy=ExactMatch(x=x_pointer),\n",
       "    # input_policy_init_args={'inputs':{'x':4}},\n",
       "    # output_policy=SingleExecutionExactOutput,\n",
       "    # output_policy_init_args={},\n",
       "    output_policy=output_policy.id,\n",
       "    output_policy_init_args={\"n_calls\":1, 'downloadable_output_args':['y']},\n",
       "    outputs=[\"y\"]\n",
       ")\n",
       "def func_plus_one(x):\n",
       "    return {\"y\": x + 1}\n",
       "\"\n",
       "  func_name: str = \"func_plus_one\"\n",
       "  signature: str = (x)\n",
       "  input_policy: str = syft.core.node.new.policy.ExactMatch\n",
       "  input_policy_init_args: str = None\n",
       "  output_policy: str = 186aff516782421ab982f8198e264ad5\n",
       "  output_policy_init_args: str = {'n_calls': 1, 'downloadable_output_args': ['y']}\n",
       "  local_function: str = <function func_plus_one at 0x7f269d9177f0>\n",
       "  input_kwargs: str = ['x']\n",
       "  outputs: str = ['y']\n",
       "  enclave_metadata: str = None\n",
       "\n",
       "```"
      ],
      "text/plain": [
       "syft.core.node.new.user_code.SubmitUserCode"
      ]
     },
     "execution_count": 23,
     "metadata": {},
     "output_type": "execute_result"
    }
   ],
   "source": [
    "func_plus_one"
   ]
  },
  {
   "cell_type": "code",
   "execution_count": null,
   "metadata": {},
   "outputs": [
    {
     "data": {
      "text/plain": [
       "<function syft.core.node.new.api.generate_remote_function.<locals>.wrapper(*args, **kwargs)>"
      ]
     },
     "execution_count": 24,
     "metadata": {},
     "output_type": "execute_result"
    }
   ],
   "source": [
    "client.api.services.code.func"
   ]
  },
  {
   "cell_type": "code",
   "execution_count": null,
   "metadata": {},
   "outputs": [
    {
     "name": "stdout",
     "output_type": "stream",
     "text": [
      "Logged into Eagleman Hutter as <info@openmined.org>\n"
     ]
    }
   ],
   "source": [
    "client = sy.login(node=worker, email=\"info@openmined.org\", password=\"changethis\", cache=False)"
   ]
  },
  {
   "cell_type": "code",
   "execution_count": null,
   "metadata": {},
   "outputs": [
    {
     "data": {
      "text/markdown": [
       "```python\n",
       "class UserCode:\n",
       "  id: str = 5e1e1792fa7944168ca3bf162a4ac58a\n",
       "  user_verify_key: str = bd2ba16cbdad6886804f76c855f6aca232517b12c6fcb13a51bf782304f1ce19\n",
       "  raw_code: str = \"@sy.syft_function(\n",
       "    input_policy=ExactMatch(x=x_pointer),\n",
       "    # input_policy_init_args={'inputs':{'x':4}},\n",
       "    # output_policy=SingleExecutionExactOutput,\n",
       "    # output_policy_init_args={},\n",
       "    output_policy=RepeatedCallPolicy(n_calls=1, downloadable_output_args=['y']),\n",
       ")\n",
       "def func(x):\n",
       "    return {\"y\": x}\n",
       "\"\n",
       "  input_policy: str = syft.core.node.new.policy.ExactMatch\n",
       "  input_policy_state: str = None\n",
       "  output_policy: str = syft.core.node.new.policy.UserPolicy\n",
       "  output_policy_state: str = b'\\x00\\x00\\x00\\x008\\x00\\x00\\x00\\x00\\x00\\x00\\x00\\x00\\x00\\x04\\x00%\\x00\\x00\\x00\\x16\\x00\\x00\\x00)\\x00\\x00\\x00\\x16\\x00\\x00\\x00\\x05\\x00\\x00\\x00j\\x01\\x00\\x00\\x00\\x00\\x00\\x00\\x00\\x00\\x00\\x00syft.core.node.new.policy.RepeatedCallPolicy\\x00\\x00\\x00\\x00\\r\\x00\\x00\\x00\\xca\\x00\\x00\\x00}\\x00\\x00\\x00B\\x00\\x00\\x00\\x15\\x00\\x00\\x00\\x0e\\x00\\x00\\x00y\\x00\\x00\\x00\\x0e\\x00\\x00\\x00downloadable_output_args\\x00\\x00\\x00\\x00\\x00\\x00\\x00\\x00\\x01\\x00\\x00\\x00\\x02\\x06\\x00\\x00\\x00\\x00\\x00\\x00\\x17\\x00\\x00\\x00\\x00\\x00\\x00\\x00\\x00\\x00\\x04\\x00\\x00\\x00\\x00\\x00\\x00\\x00\\x00\\x00\\x00\\x00\\x00\\x00\\x00\\x00\\x00\\x00\\x05\\x00\\x00\\x00r\\x00\\x00\\x00\\t\\x00\\x00\\x00\\x0e\\x00\\x00\\x00builtins.list\\x00\\x00\\x00\\x01\\x00\\x00\\x00\\xc2\\x03\\x00\\x00\\x00\\x00\\x00\\x00\\x0e\\x00\\x00\\x00\\x00\\x00\\x00\\x00\\x00\\x00\\x01\\x00\\x01\\x00\\x00\\x00\\x0e\\x00\\x00\\x00\\x01\\x00\\x00\\x00\\x0e\\x00\\x00\\x00\\x01\\x00\\x00\\x00\\x82\\x02\\x00\\x00\\x00\\x00\\x00\\x00\\t\\x00\\x00\\x00\\x00\\x00\\x00\\x00\\x00\\x00\\x04\\x00\\x00\\x00\\x00\\x00\\x00\\x00\\x00\\x00\\x00\\x00\\x00\\x00\\x00\\x00\\x00\\x00\\x05\\x00\\x00\\x00j\\x00\\x00\\x00\\t\\x00\\x00\\x00\\x0e\\x00\\x00\\x00builtins.str\\x00\\x00\\x00\\x00\\x01\\x00\\x00\\x00\\n\\x00\\x00\\x00y\\x00\\x00\\x00\\x00\\x00\\x00\\x00n_calls\\x00\\x01\\x00\\x00\\x00\\x82\\x02\\x00\\x00\\x00\\x00\\x00\\x00\\t\\x00\\x00\\x00\\x00\\x00\\x00\\x00\\x00\\x00\\x04\\x00\\x00\\x00\\x00\\x00\\x00\\x00\\x00\\x00\\x00\\x00\\x00\\x00\\x00\\x00\\x00\\x00\\x05\\x00\\x00\\x00j\\x00\\x00\\x00\\t\\x00\\x00\\x00\\x0e\\x00\\x00\\x00builtins.int\\x00\\x00\\x00\\x00\\x01\\x00\\x00\\x00\\x12\\x00\\x00\\x00\\x00\\x03\\x00\\x00\\x00\\x00\\x00\\x00'\n",
       "  parsed_code: str = \"\n",
       "\n",
       "def user_func_func_bd2ba16cbdad6886804f76c855f6aca232517b12c6fcb13a51bf782304f1ce19_49f0ba9524d80f224f3365f64cdc737588aaf4d8429ac80523fe1caa578dc921(x):\n",
       "\n",
       "    def func(x):\n",
       "        return {'y': x}\n",
       "    result = func(x=x)\n",
       "    return result\n",
       "\"\n",
       "  service_func_name: str = \"func\"\n",
       "  unique_func_name: str = \"user_func_func_bd2ba16cbdad6886804f76c855f6aca232517b12c6fcb13a51bf782304f1ce19_49f0ba9524d80f224f3365f64cdc737588aaf4d8429ac80523fe1caa578dc921\"\n",
       "  user_unique_func_name: str = \"user_func_func_bd2ba16cbdad6886804f76c855f6aca232517b12c6fcb13a51bf782304f1ce19\"\n",
       "  code_hash: str = \"49f0ba9524d80f224f3365f64cdc737588aaf4d8429ac80523fe1caa578dc921\"\n",
       "  signature: str = (x) -> Dict[str, Any]\n",
       "  status: str = {NodeView(node_name='Eagleman Hutter', verify_key=bd2ba16cbdad6886804f76c855f6aca232517b12c6fcb13a51bf782304f1ce19): <UserCodeStatus.EXECUTE: 'execute'>}\n",
       "  input_kwargs: str = ['x']\n",
       "  outputs: str = []\n",
       "  input_policy_init_args: str = None\n",
       "  output_policy_init_args: str = {'n_calls': 1, 'downloadable_output_args': ['y']}\n",
       "  enclave_metadata: str = None\n",
       "\n",
       "```"
      ],
      "text/plain": [
       "syft.core.node.new.user_code.UserCode"
      ]
     },
     "execution_count": 26,
     "metadata": {},
     "output_type": "execute_result"
    }
   ],
   "source": [
    "client.notifications[-1].link.changes[0].link"
   ]
  },
  {
   "cell_type": "code",
   "execution_count": null,
   "metadata": {},
   "outputs": [
    {
     "name": "stdout",
     "output_type": "stream",
     "text": [
      "WARNING: This code was submitted by a User and could be UNSAFE.\n",
      "message='Duplication Key Error: syft.core.node.new.policy.UserPolicy'\n"
     ]
    },
    {
     "data": {
      "text/html": [
       "<div class=\"alert-success\" style=\"padding:5px;\"><strong>SyftSuccess</strong>: Request 15bf0c7c4d3b488b9ded2293f8171214 changes applied</div><br />"
      ],
      "text/plain": [
       "<class 'syft.core.node.new.response.SyftSuccess'>: Request 15bf0c7c4d3b488b9ded2293f8171214 changes applied"
      ]
     },
     "execution_count": 27,
     "metadata": {},
     "output_type": "execute_result"
    }
   ],
   "source": [
    "request = client.notifications[-1].link\n",
    "func = request.changes[0].link\n",
    "result = func.unsafe_function(x=x_pointer)\n",
    "# func.output_policy\n",
    "final_result = request.accept_by_depositing_result(result)\n",
    "final_result"
   ]
  },
  {
   "cell_type": "code",
   "execution_count": null,
   "metadata": {},
   "outputs": [
    {
     "data": {
      "text/markdown": [
       "```python\n",
       "class UserCodeStatusChange:\n",
       "  id: str = 946ca41818034a248db4079b8a65e21c\n",
       "  linked_obj: str = <<class 'syft.core.node.new.user_code.UserCode'>: 5e1e1792fa7944168ca3bf162a4ac58a@<Node: 4c5dc2d254a1468784643b0ee765cdfd>\n",
       "  value: str = UserCodeStatus.EXECUTE\n",
       "  match_type: str = True\n",
       "\n",
       "```"
      ],
      "text/plain": [
       "syft.core.node.new.request.UserCodeStatusChange"
      ]
     },
     "execution_count": 28,
     "metadata": {},
     "output_type": "execute_result"
    }
   ],
   "source": [
    "client.notifications[-1].link.changes[-1]"
   ]
  },
  {
   "cell_type": "code",
   "execution_count": null,
   "metadata": {},
   "outputs": [
    {
     "name": "stderr",
     "output_type": "stream",
     "text": [
      "---------------------------------------------------------------------------\n",
      "SyftAttributeError\n",
      "---------------------------------------------------------------------------\n",
      "Exception: 'APIModule' api.code object has no submodule or method 'func_plus_one', you may not have permission to access the module you are trying to access\n"
     ]
    }
   ],
   "source": [
    "client.api.services.code.func_plus_one(x=x_pointer.id)"
   ]
  },
  {
   "cell_type": "code",
   "execution_count": null,
   "metadata": {},
   "outputs": [
    {
     "data": {
      "text/html": [
       "List - Size: 1\n",
       "<div>\n",
       "<style scoped>\n",
       "    .dataframe tbody tr th:only-of-type {\n",
       "        vertical-align: middle;\n",
       "    }\n",
       "\n",
       "    .dataframe tbody tr th {\n",
       "        vertical-align: top;\n",
       "    }\n",
       "\n",
       "    .dataframe thead th {\n",
       "        text-align: right;\n",
       "    }\n",
       "</style>\n",
       "<table border=\"1\" class=\"dataframe\">\n",
       "  <thead>\n",
       "    <tr style=\"text-align: right;\">\n",
       "      <th></th>\n",
       "      <th>type</th>\n",
       "      <th>id</th>\n",
       "      <th>status</th>\n",
       "      <th>service_func_name</th>\n",
       "    </tr>\n",
       "  </thead>\n",
       "  <tbody>\n",
       "    <tr>\n",
       "      <th>0</th>\n",
       "      <td>syft.core.node.new.user_code.UserCode</td>\n",
       "      <td>5e1e1792fa7944168ca3bf162a4ac58a</td>\n",
       "      <td>{NodeView(node_name='Eagleman Hutter', verify_...</td>\n",
       "      <td>func</td>\n",
       "    </tr>\n",
       "  </tbody>\n",
       "</table>\n",
       "</div>"
      ],
      "text/plain": [
       "[syft.core.node.new.user_code.UserCode]"
      ]
     },
     "execution_count": 30,
     "metadata": {},
     "output_type": "execute_result"
    }
   ],
   "source": [
    "client.api.services.code.get_all()"
   ]
  },
  {
   "cell_type": "code",
   "execution_count": null,
   "metadata": {},
   "outputs": [],
   "source": [
    "func_plus_one = client.api.services.code.get_all()[-1]"
   ]
  },
  {
   "cell_type": "code",
   "execution_count": null,
   "metadata": {},
   "outputs": [
    {
     "name": "stdout",
     "output_type": "stream",
     "text": [
      "from .user_code import CustomOutputPolicy\n",
      "@serializable(recursive_serde=True)\n",
      "class RepeatedCallPolicy(CustomOutputPolicy):\n",
      "    # from syft.core.node.new.action_object import ActionObject\n",
      "    __canonical_name__ = \"RepeatedCallPolicy\"\n",
      "    from syft.core.node.new.syft_object import SYFT_OBJECT_VERSION_1\n",
      "\n",
      "    __version__ = SYFT_OBJECT_VERSION_1\n",
      "    from typing import Dict\n",
      "    from typing import Any\n",
      "    n_calls: int\n",
      "    downloadable_output_args: List[str]\n",
      "    state: Dict[Any, Any] = {}\n",
      "    # _init_args: Dict[str, Any]\n",
      "    # _kwargs: Dict[str, Any]\n",
      "    \n",
      "    __attr_allowlist__ = [\n",
      "        \"n_calls\",\n",
      "        \"downloadable_output_args\",\n",
      "    ]\n",
      "    \n",
      "    # __fields_set__ = [\n",
      "    #     \"n_calls\",\n",
      "    #     \"downloadable_output_args\",\n",
      "    # ]\n",
      "    \n",
      "    def __init__(self, n_calls=1, downloadable_output_args=[]):\n",
      "        super().__init__(n_calls=n_calls, downloadable_output_args=downloadable_output_args)\n",
      "        self.n_calls = n_calls + 1\n",
      "        self.downloadable_output_args = downloadable_output_args\n",
      "        self.state = {\"counts\": 0}\n",
      "\n",
      "    # def __repr__(self) -> str:\n",
      "    #     return f'RepeatedCallPolicy - {self.n_calls}/{self.downloadable_output_args}/{self.state}'\n",
      "\n",
      "    # def update() -> None:\n",
      "\n",
      "    # def __post_init__(self, *args, **kwargs) -> None:\n",
      "    #     self._init_args = args\n",
      "    #     self._kwargs = kwargs\n",
      "\n",
      "    def public_state(self):\n",
      "        return self.state[\"counts\"]\n",
      "        \n",
      "    def apply_output(self, action_object) -> Dict[Any, Any]:\n",
      "        results_dict = action_object.syft_action_data        \n",
      "        if self.state[\"counts\"] < self.n_calls:\n",
      "            for output_arg in self.downloadable_output_args:\n",
      "                # results_dict[output_arg] = results_dict[output_arg].set_permission(READ, self.my_verify_key)\n",
      "                results_dict[output_arg] = results_dict[output_arg]\n",
      "\n",
      "            self.state[\"counts\"] += 1\n",
      "        else:\n",
      "            return \n",
      "            \n",
      "        return results_dict\n",
      "\n"
     ]
    }
   ],
   "source": [
    "print(func_plus_one.output_policy.raw_code)"
   ]
  },
  {
   "cell_type": "code",
   "execution_count": null,
   "metadata": {},
   "outputs": [],
   "source": [
    "state = sy.deserialize(func_plus_one.output_policy_state, from_bytes=True, class_type=RepeatedCallPolicy)"
   ]
  },
  {
   "cell_type": "code",
   "execution_count": null,
   "metadata": {},
   "outputs": [
    {
     "data": {
      "text/plain": [
       "0"
      ]
     },
     "execution_count": 34,
     "metadata": {},
     "output_type": "execute_result"
    }
   ],
   "source": [
    "state.public_state()"
   ]
  }
 ],
 "metadata": {
  "kernelspec": {
   "display_name": "PySyft",
   "language": "python",
   "name": "python3"
  },
  "language_info": {
   "codemirror_mode": {
    "name": "ipython",
    "version": 3
   },
   "file_extension": ".py",
   "mimetype": "text/x-python",
   "name": "python",
   "nbconvert_exporter": "python",
   "pygments_lexer": "ipython3",
   "version": "3.10.4"
  },
  "orig_nbformat": 4,
  "vscode": {
   "interpreter": {
    "hash": "4793a45c21657cf3d03167fad0b0286070df6dcd03825f60c6ea99cbb4eef702"
   }
  }
 },
 "nbformat": 4,
 "nbformat_minor": 2
}
