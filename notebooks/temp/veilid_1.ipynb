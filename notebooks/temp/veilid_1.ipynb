{
 "cells": [
  {
   "cell_type": "code",
   "execution_count": 1,
   "id": "6920a2bb-3561-4c6a-ab98-93ef9f8e329d",
   "metadata": {},
   "outputs": [],
   "source": [
    "# stdlib\n",
    "\n",
    "# third party\n",
    "import veilid"
   ]
  },
  {
   "cell_type": "code",
   "execution_count": null,
   "id": "904cae54",
   "metadata": {},
   "outputs": [],
   "source": [
    "NONCE_LENGTH = 24\n",
    "QUIT = \"QUIT\""
   ]
  },
  {
   "cell_type": "code",
   "execution_count": null,
   "id": "1db013a8-680f-4006-a0ce-6fd397839a02",
   "metadata": {},
   "outputs": [],
   "source": [
    "host = \"localhost\"\n",
    "port = 5959"
   ]
  },
  {
   "cell_type": "code",
   "execution_count": 31,
   "id": "d98401b9-f3d1-48f8-8a2d-ed8550a56a90",
   "metadata": {},
   "outputs": [
    {
     "ename": "IndentationError",
     "evalue": "expected an indented block after function definition on line 2 (1480544865.py, line 4)",
     "output_type": "error",
     "traceback": [
      "\u001b[0;36m  Cell \u001b[0;32mIn[31], line 4\u001b[0;36m\u001b[0m\n\u001b[0;31m    return\u001b[0m\n\u001b[0m    ^\u001b[0m\n\u001b[0;31mIndentationError\u001b[0m\u001b[0;31m:\u001b[0m expected an indented block after function definition on line 2\n"
     ]
    }
   ],
   "source": [
    "def connect(host: str, port: int):\n",
    "    async def noop_callback(*args, **kwargs):\n",
    "        # print(\"got callback\", args, kwargs)\n",
    "        return\n",
    "\n",
    "    conn = await veilid.json_api_connect(host, port, noop_callback)\n",
    "    return conn"
   ]
  },
  {
   "cell_type": "code",
   "execution_count": 32,
   "id": "ba09dc27-6599-4d96-8663-d59da66dce41",
   "metadata": {},
   "outputs": [],
   "source": [
    "# crypto_system = await conn.get_crypto_system(veilid.CryptoKind.CRYPTO_KIND_VLD0)\n",
    "# async with crypto_system:\n",
    "#     print(\"keygen:Generating a keypair\")\n",
    "#     my_keypair = await crypto_system.generate_key_pair()\n",
    "#     print(f\"keygen:Got {my_keypair=}\")\n",
    "\n",
    "# # await config.store_self_key(conn, my_keypair)"
   ]
  },
  {
   "cell_type": "code",
   "execution_count": 33,
   "id": "96fab6ed-5578-4f5a-852f-b724d932e82a",
   "metadata": {},
   "outputs": [],
   "source": [
    "# stdlib"
   ]
  },
  {
   "cell_type": "code",
   "execution_count": 34,
   "id": "3dd03cf0-5627-48a7-aa51-6f7d455ae940",
   "metadata": {},
   "outputs": [],
   "source": [
    "def load_keys():\n",
    "    key_pair = \"5MhuM8y3hcL4iAZspNQJJHCQyTVoA-DHVW-so2kmT20:6NweTbX2uFF3PfZgjjrYLr89TBU_eQ0WLu18JgnFwq8\"\n",
    "    my_keypair = veilid.KeyPair(key_pair)\n",
    "    print(\"Own keypair:\")\n",
    "    print(\"    Public: \", my_keypair.key())\n",
    "    print(\"    Private: \", my_keypair.secret())\n",
    "    their_key = veilid.PublicKey(\"FQkHoYMuJSWhNl3bi2avFstA19QULCiQJtxx_hr2Shg\")\n",
    "    return my_keypair, their_key"
   ]
  },
  {
   "cell_type": "code",
   "execution_count": 35,
   "id": "a12f9ef0-c473-4005-a757-93ab293d43cd",
   "metadata": {},
   "outputs": [
    {
     "name": "stdout",
     "output_type": "stream",
     "text": [
      "Own keypair:\n",
      "    Public:  5MhuM8y3hcL4iAZspNQJJHCQyTVoA-DHVW-so2kmT20\n",
      "    Private:  6NweTbX2uFF3PfZgjjrYLr89TBU_eQ0WLu18JgnFwq8\n"
     ]
    }
   ],
   "source": [
    "my_keypair, their_key = load_keys()"
   ]
  },
  {
   "cell_type": "code",
   "execution_count": 36,
   "id": "ead0d3c8-2b45-4957-a332-4e30686e2a38",
   "metadata": {},
   "outputs": [
    {
     "data": {
      "text/plain": [
       "'FQkHoYMuJSWhNl3bi2avFstA19QULCiQJtxx_hr2Shg'"
      ]
     },
     "execution_count": 36,
     "metadata": {},
     "output_type": "execute_result"
    }
   ],
   "source": [
    "their_key"
   ]
  },
  {
   "cell_type": "code",
   "execution_count": 37,
   "id": "f57189e2-aa3f-48eb-ae51-ec72e8661fc4",
   "metadata": {},
   "outputs": [],
   "source": []
  },
  {
   "cell_type": "code",
   "execution_count": null,
   "id": "b7931251-5051-4510-a900-f694a512e6db",
   "metadata": {},
   "outputs": [],
   "source": []
  },
  {
   "cell_type": "code",
   "execution_count": 51,
   "id": "f14a2cbb-0c1e-45ee-add4-3f7ee60c4021",
   "metadata": {},
   "outputs": [],
   "source": [
    "async def create_sender(\n",
    "    router: veilid.api.RoutingContext,\n",
    "    crypto_system: veilid.CryptoSystem,\n",
    "    key: veilid.TypedKey,\n",
    "    secret: veilid.SharedSecret,\n",
    "    send_subkey: veilid.ValueSubkey,\n",
    "):\n",
    "    \"\"\"Read input and write it to the DHT.\"\"\"\n",
    "\n",
    "    async def encrypt(cleartext: str) -> bytes:\n",
    "        \"\"\"Encrypt the message with the shared secret and a random nonce.\"\"\"\n",
    "\n",
    "        print(\"encrypt:Getting a nonce\")\n",
    "        nonce = await crypto_system.random_nonce()\n",
    "        print(f\"encrypt:Received {nonce=}\")\n",
    "        print(f\"encrypt:Encrypting {cleartext=}, {nonce=}, {secret=}\")\n",
    "        encrypted = await crypto_system.crypt_no_auth(cleartext.encode(), nonce, secret)\n",
    "        ciphertext = nonce.to_bytes() + encrypted\n",
    "        print(f\"encrypt:{ciphertext=}\")\n",
    "        return ciphertext\n",
    "\n",
    "    async def send(cleartext: str):\n",
    "        \"\"\"Write the encrypted version of the text to the DHT.\"\"\"\n",
    "\n",
    "        ciphertext = await encrypt(cleartext)\n",
    "        print(f\"send:Setting DHT {key=}, {send_subkey=}, to {ciphertext=}\")\n",
    "        await router.set_dht_value(key, send_subkey, ciphertext)\n",
    "\n",
    "    # Prime the pumps. Especially when starting the conversation, this\n",
    "    # causes the DHT key to propagate to the network.\n",
    "    return send"
   ]
  },
  {
   "cell_type": "code",
   "execution_count": 17,
   "id": "329f5324-990f-41a3-9e5d-798e311682f4",
   "metadata": {},
   "outputs": [],
   "source": [
    "async def receiver(\n",
    "    router: veilid.api.RoutingContext,\n",
    "    crypto_system: veilid.CryptoSystem,\n",
    "    key: veilid.TypedKey,\n",
    "    secret: veilid.SharedSecret,\n",
    "    recv_subkey: veilid.ValueSubkey,\n",
    "    name: str,\n",
    "):\n",
    "    \"\"\"Wait for new data from the DHT and write it to the screen.\"\"\"\n",
    "\n",
    "    async def decrypt(payload: bytes) -> str:\n",
    "        \"\"\"Decrypt the payload with the shared secret and the payload's nonce.\"\"\"\n",
    "\n",
    "        print(f\"decrypt:Decrypting {payload!r}\")\n",
    "        nonce = veilid.Nonce.from_bytes(payload[:NONCE_LENGTH])\n",
    "        print(f\"decrypt:Found {nonce=}\")\n",
    "        ciphertext = payload[NONCE_LENGTH:]\n",
    "        print(f\"decrypt:Decrypting {ciphertext=}, {nonce=}, {secret=}\")\n",
    "        cleartext = await crypto_system.crypt_no_auth(ciphertext, nonce, secret)\n",
    "        print(f\"decrypt:{cleartext=}\")\n",
    "        return cleartext.decode()\n",
    "\n",
    "    last_seq = -1\n",
    "    while True:\n",
    "        # In the real world, don't do this. People may tease you for it.\n",
    "        # This is meant to be easy to understand for demonstration\n",
    "        # purposes, not a great pattern. Instead, you'd want to use the\n",
    "        # callback function to handle events asynchronously.\n",
    "\n",
    "        # Try to get an updated version of the receiving subkey.\n",
    "        print(f\"receiver:Getting the DHT value of {key=}, {recv_subkey=}\")\n",
    "        resp = await router.get_dht_value(key, recv_subkey, True)\n",
    "        if resp is None:\n",
    "            print(\"receiver:Didn't find a value\")\n",
    "            continue\n",
    "\n",
    "        # If the other party hasn't sent a newer message, try again.\n",
    "        if resp.seq == last_seq:\n",
    "            print(f\"receiver:DHT {key=} is still at {resp.seq=}\")\n",
    "            continue\n",
    "\n",
    "        msg = await decrypt(resp.data)\n",
    "        if msg == QUIT:\n",
    "            print(\"receiver:Received the QUIT signal from the other end.\")\n",
    "            print(\"Other end closed the chat.\")\n",
    "            return\n",
    "\n",
    "        print(\"receiver:Got new {msg=} at DHT {key=}, {resp.seq=}\")\n",
    "        print(f\"\\n{name}> {msg}\")\n",
    "        last_seq = resp.seq"
   ]
  },
  {
   "cell_type": "code",
   "execution_count": 30,
   "id": "f149ea8b-0379-44fb-9f6a-7c49aece27fb",
   "metadata": {},
   "outputs": [
    {
     "ename": "NameError",
     "evalue": "name 'connect' is not defined",
     "output_type": "error",
     "traceback": [
      "\u001b[0;31m---------------------------------------------------------------------------\u001b[0m",
      "\u001b[0;31mNameError\u001b[0m                                 Traceback (most recent call last)",
      "Cell \u001b[0;32mIn[30], line 1\u001b[0m\n\u001b[0;32m----> 1\u001b[0m conn \u001b[38;5;241m=\u001b[39m \u001b[43mconnect\u001b[49m(host, port)\n",
      "\u001b[0;31mNameError\u001b[0m: name 'connect' is not defined"
     ]
    }
   ],
   "source": [
    "conn = connect(host, port)"
   ]
  },
  {
   "cell_type": "code",
   "execution_count": 38,
   "id": "89740953-4783-42c9-be69-e41da5443bc7",
   "metadata": {},
   "outputs": [],
   "source": [
    "def create_members(my_keypair, their_key):\n",
    "    members = [\n",
    "        veilid.DHTSchemaSMPLMember(my_keypair.key(), 1),\n",
    "        veilid.DHTSchemaSMPLMember(their_key, 1),\n",
    "    ]\n",
    "    return members"
   ]
  },
  {
   "cell_type": "code",
   "execution_count": null,
   "id": "7eb4c147-6063-427b-8c6b-0605c19794bd",
   "metadata": {},
   "outputs": [],
   "source": [
    "members = create_members()"
   ]
  },
  {
   "cell_type": "code",
   "execution_count": null,
   "id": "9615df55-c28e-4e50-a00b-6798f3f66ec3",
   "metadata": {},
   "outputs": [],
   "source": []
  },
  {
   "cell_type": "code",
   "execution_count": 41,
   "id": "602aa1f6-2d42-422b-8887-7622706aa89d",
   "metadata": {},
   "outputs": [
    {
     "name": "stdout",
     "output_type": "stream",
     "text": [
      "start:Getting a DH shared secret\n",
      "start:Got secret='ZcFA4LxhXis2ZPmxhvFnWHQHG1CROLVJTO0_bGgZqi4'\n"
     ]
    }
   ],
   "source": [
    "router = await (await conn.new_routing_context()).with_default_safety()\n",
    "crypto_system = await conn.get_crypto_system(veilid.CryptoKind.CRYPTO_KIND_VLD0)\n",
    "\n",
    "name = \"friendsname\"\n",
    "\n",
    "async with crypto_system, router:\n",
    "    print(\"start:Getting a DH shared secret\")\n",
    "    secret = await crypto_system.cached_dh(their_key, my_keypair.secret())\n",
    "    print(f\"start:Got {secret=}\")"
   ]
  },
  {
   "cell_type": "code",
   "execution_count": 42,
   "id": "3bd06829-41a4-4e10-95d1-286a18d93b32",
   "metadata": {},
   "outputs": [
    {
     "name": "stdout",
     "output_type": "stream",
     "text": [
      "start:Getting a DH shared secret\n",
      "start:Got secret='ZcFA4LxhXis2ZPmxhvFnWHQHG1CROLVJTO0_bGgZqi4'\n"
     ]
    }
   ],
   "source": [
    "router = await (await conn.new_routing_context()).with_default_safety()\n",
    "crypto_system = await conn.get_crypto_system(veilid.CryptoKind.CRYPTO_KIND_VLD0)\n",
    "\n",
    "name = \"friendsname\"\n",
    "\n",
    "async with crypto_system, router:\n",
    "    print(\"start:Getting a DH shared secret\")\n",
    "    secret = await crypto_system.cached_dh(their_key, my_keypair.secret())\n",
    "    print(f\"start:Got {secret=}\")"
   ]
  },
  {
   "cell_type": "code",
   "execution_count": null,
   "id": "27179b5f-62d4-43ec-97e8-4bb86fb3c2ae",
   "metadata": {},
   "outputs": [],
   "source": []
  },
  {
   "cell_type": "code",
   "execution_count": 43,
   "id": "4bb2e0dd-f97a-4cab-a0bb-cb22cf6428a8",
   "metadata": {},
   "outputs": [
    {
     "name": "stdout",
     "output_type": "stream",
     "text": [
      "start:Creating a new DHT record\n",
      "New chat key: VLD0:3_Bg783KyqMnHLAe22DSnbcJaNpt0R4WSGpLBi6LbwU\n",
      "Give that to your friend!\n"
     ]
    }
   ],
   "source": [
    "router = await (await conn.new_routing_context()).with_default_safety()\n",
    "crypto_system = await conn.get_crypto_system(veilid.CryptoKind.CRYPTO_KIND_VLD0)\n",
    "\n",
    "name = \"friendsname\"\n",
    "\n",
    "async with crypto_system, router:\n",
    "    print(\"start:Creating a new DHT record\")\n",
    "    record = await router.create_dht_record(veilid.DHTSchema.smpl(0, members))\n",
    "    print(f\"New chat key: {record.key}\")\n",
    "    print(\"Give that to your friend!\")"
   ]
  },
  {
   "cell_type": "code",
   "execution_count": 47,
   "id": "1c028545-72dd-48de-8889-98dea2778d37",
   "metadata": {},
   "outputs": [
    {
     "data": {
      "text/plain": [
       "'VLD0:MeQeEREO1mmzYRm7IZk73V5ia_NaSBVjkxAavpXam5c'"
      ]
     },
     "execution_count": 47,
     "metadata": {},
     "output_type": "execute_result"
    }
   ],
   "source": [
    "record.key"
   ]
  },
  {
   "cell_type": "code",
   "execution_count": 49,
   "id": "d8ef5b96-79e3-45cf-b545-8d027117017e",
   "metadata": {},
   "outputs": [
    {
     "name": "stdout",
     "output_type": "stream",
     "text": [
      "start:Reopening the DHT record record.key='VLD0:MeQeEREO1mmzYRm7IZk73V5ia_NaSBVjkxAavpXam5c' with my_keypair='5MhuM8y3hcL4iAZspNQJJHCQyTVoA-DHVW-so2kmT20:6NweTbX2uFF3PfZgjjrYLr89TBU_eQ0WLu18JgnFwq8'\n"
     ]
    }
   ],
   "source": [
    "router = await (await conn.new_routing_context()).with_default_safety()\n",
    "crypto_system = await conn.get_crypto_system(veilid.CryptoKind.CRYPTO_KIND_VLD0)\n",
    "\n",
    "name = \"friendsname\"\n",
    "\n",
    "async with crypto_system, router:\n",
    "    print(f\"start:Reopening the DHT record {record.key=} with {my_keypair=}\")\n",
    "    await router.close_dht_record(record.key)"
   ]
  },
  {
   "cell_type": "code",
   "execution_count": 50,
   "id": "be3945e6-4d34-4fb1-943a-a64ba9feca30",
   "metadata": {},
   "outputs": [
    {
     "name": "stdout",
     "output_type": "stream",
     "text": [
      "start:Reopening the DHT record record.key='VLD0:MeQeEREO1mmzYRm7IZk73V5ia_NaSBVjkxAavpXam5c' with my_keypair='5MhuM8y3hcL4iAZspNQJJHCQyTVoA-DHVW-so2kmT20:6NweTbX2uFF3PfZgjjrYLr89TBU_eQ0WLu18JgnFwq8'\n"
     ]
    }
   ],
   "source": [
    "router = await (await conn.new_routing_context()).with_default_safety()\n",
    "crypto_system = await conn.get_crypto_system(veilid.CryptoKind.CRYPTO_KIND_VLD0)\n",
    "\n",
    "name = \"friendsname\"\n",
    "\n",
    "async with crypto_system, router:\n",
    "    print(f\"start:Reopening the DHT record {record.key=} with {my_keypair=}\")\n",
    "    await router.open_dht_record(record.key, my_keypair)"
   ]
  },
  {
   "cell_type": "code",
   "execution_count": null,
   "id": "c6210ce0-14a8-4097-ae2d-d96bb0b13471",
   "metadata": {},
   "outputs": [],
   "source": []
  },
  {
   "cell_type": "code",
   "execution_count": 57,
   "id": "6cddc089-7711-4fd2-afb4-210f348aa1c3",
   "metadata": {},
   "outputs": [
    {
     "name": "stdout",
     "output_type": "stream",
     "text": [
      "encrypt:Getting a nonce\n",
      "encrypt:Received nonce='41RMKqkKv7umhqWnLMc68kaaoVqpXpO0'\n",
      "encrypt:Encrypting cleartext='testtesttest', nonce='41RMKqkKv7umhqWnLMc68kaaoVqpXpO0', secret='ZcFA4LxhXis2ZPmxhvFnWHQHG1CROLVJTO0_bGgZqi4'\n",
      "encrypt:ciphertext=b'\\xe3TL*\\xa9\\n\\xbf\\xbb\\xa6\\x86\\xa5\\xa7,\\xc7:\\xf2F\\x9a\\xa1Z\\xa9^\\x93\\xb4\\x03\\xad\\xa0O\\xe7\\xe0\\xdc\\xd0\\n\\xc0\\x97\\x95'\n",
      "send:Setting DHT key='VLD0:MeQeEREO1mmzYRm7IZk73V5ia_NaSBVjkxAavpXam5c', send_subkey=0, to ciphertext=b'\\xe3TL*\\xa9\\n\\xbf\\xbb\\xa6\\x86\\xa5\\xa7,\\xc7:\\xf2F\\x9a\\xa1Z\\xa9^\\x93\\xb4\\x03\\xad\\xa0O\\xe7\\xe0\\xdc\\xd0\\n\\xc0\\x97\\x95'\n"
     ]
    }
   ],
   "source": [
    "router = await (await conn.new_routing_context()).with_default_safety()\n",
    "crypto_system = await conn.get_crypto_system(veilid.CryptoKind.CRYPTO_KIND_VLD0)\n",
    "\n",
    "name = \"friendsname\"\n",
    "\n",
    "async with crypto_system, router:\n",
    "    # The party initiating the chat writes to subkey 0 and reads from subkey 1.\n",
    "    # send_task = asyncio.create_task(sender(router, crypto_system, record.key, secret, 0))\n",
    "    sender = await create_sender(router, crypto_system, record.key, secret, 0)\n",
    "    await sender(\"testtesttest\")\n",
    "\n",
    "    # send = await send_task\n",
    "    # await send(\"hello world\")\n",
    "    # recv_task = asyncio.create_task(receiver(router, crypto_system, record.key, secret, 1, name))\n",
    "\n",
    "    # try:\n",
    "    # print(\"start:Starting the chat\")\n",
    "    # await asyncio.wait([send_task, recv_task], return_when=asyncio.FIRST_COMPLETED)\n",
    "    # finally:\n",
    "    #     print(f\"start:Closing the DHT record {record.key=}\")\n",
    "    #     await router.close_dht_record(record.key)\n",
    "    #     print(f\"start:Deleting the DHT record {record.key=}\")\n",
    "    #     await router.delete_dht_record(record.key)\n",
    "\n",
    "    # print(\"start:Cleaning up\")\n",
    "    # recv_task.cancel()\n",
    "    # send_task.cancel()"
   ]
  },
  {
   "cell_type": "code",
   "execution_count": 22,
   "id": "c9d70f55-d451-49dd-af5e-eb6bbe5ef61e",
   "metadata": {},
   "outputs": [
    {
     "data": {
      "text/plain": [
       "'VLD0:hSkGLoVMIT6Mx2DIQ2-oghxPX2wfgTxObI1pizQB0C0'"
      ]
     },
     "execution_count": 22,
     "metadata": {},
     "output_type": "execute_result"
    }
   ],
   "source": [
    "record.key"
   ]
  },
  {
   "cell_type": "code",
   "execution_count": null,
   "id": "f208817b-dada-4c20-9cdf-48d19ab5a27a",
   "metadata": {},
   "outputs": [
    {
     "name": "stdout",
     "output_type": "stream",
     "text": [
      "encrypt:Getting a nonce\n"
     ]
    },
    {
     "ename": "ValueError",
     "evalue": "Response cs_op does not match request cs_op",
     "output_type": "error",
     "traceback": [
      "\u001b[0;31m---------------------------------------------------------------------------\u001b[0m",
      "\u001b[0;31mValueError\u001b[0m                                Traceback (most recent call last)",
      "Cell \u001b[0;32mIn[23], line 1\u001b[0m\n\u001b[0;32m----> 1\u001b[0m \u001b[38;5;28;01mawait\u001b[39;00m send(\u001b[38;5;124m\"\u001b[39m\u001b[38;5;124mhello world2\u001b[39m\u001b[38;5;124m\"\u001b[39m)\n",
      "Cell \u001b[0;32mIn[16], line 25\u001b[0m, in \u001b[0;36msender.<locals>.send\u001b[0;34m(cleartext)\u001b[0m\n\u001b[1;32m     22\u001b[0m \u001b[38;5;28;01masync\u001b[39;00m \u001b[38;5;28;01mdef\u001b[39;00m \u001b[38;5;21msend\u001b[39m(cleartext: \u001b[38;5;28mstr\u001b[39m):\n\u001b[1;32m     23\u001b[0m \u001b[38;5;250m    \u001b[39m\u001b[38;5;124;03m\"\"\"Write the encrypted version of the text to the DHT.\"\"\"\u001b[39;00m\n\u001b[0;32m---> 25\u001b[0m     ciphertext \u001b[38;5;241m=\u001b[39m \u001b[38;5;28;01mawait\u001b[39;00m encrypt(cleartext)\n\u001b[1;32m     26\u001b[0m     \u001b[38;5;28mprint\u001b[39m(\u001b[38;5;124mf\u001b[39m\u001b[38;5;124m\"\u001b[39m\u001b[38;5;124msend:Setting DHT \u001b[39m\u001b[38;5;132;01m{\u001b[39;00mkey\u001b[38;5;132;01m=}\u001b[39;00m\u001b[38;5;124m, \u001b[39m\u001b[38;5;132;01m{\u001b[39;00msend_subkey\u001b[38;5;132;01m=}\u001b[39;00m\u001b[38;5;124m, to \u001b[39m\u001b[38;5;132;01m{\u001b[39;00mciphertext\u001b[38;5;132;01m=}\u001b[39;00m\u001b[38;5;124m\"\u001b[39m)\n\u001b[1;32m     27\u001b[0m     \u001b[38;5;28;01mawait\u001b[39;00m router\u001b[38;5;241m.\u001b[39mset_dht_value(key, send_subkey, ciphertext)\n",
      "Cell \u001b[0;32mIn[16], line 14\u001b[0m, in \u001b[0;36msender.<locals>.encrypt\u001b[0;34m(cleartext)\u001b[0m\n\u001b[1;32m     11\u001b[0m \u001b[38;5;250m\u001b[39m\u001b[38;5;124;03m\"\"\"Encrypt the message with the shared secret and a random nonce.\"\"\"\u001b[39;00m\n\u001b[1;32m     13\u001b[0m \u001b[38;5;28mprint\u001b[39m(\u001b[38;5;124m\"\u001b[39m\u001b[38;5;124mencrypt:Getting a nonce\u001b[39m\u001b[38;5;124m\"\u001b[39m)\n\u001b[0;32m---> 14\u001b[0m nonce \u001b[38;5;241m=\u001b[39m \u001b[38;5;28;01mawait\u001b[39;00m crypto_system\u001b[38;5;241m.\u001b[39mrandom_nonce()\n\u001b[1;32m     15\u001b[0m \u001b[38;5;28mprint\u001b[39m(\u001b[38;5;124mf\u001b[39m\u001b[38;5;124m\"\u001b[39m\u001b[38;5;124mencrypt:Received \u001b[39m\u001b[38;5;132;01m{\u001b[39;00mnonce\u001b[38;5;132;01m=}\u001b[39;00m\u001b[38;5;124m\"\u001b[39m)\n\u001b[1;32m     16\u001b[0m \u001b[38;5;28mprint\u001b[39m(\u001b[38;5;124mf\u001b[39m\u001b[38;5;124m\"\u001b[39m\u001b[38;5;124mencrypt:Encrypting \u001b[39m\u001b[38;5;132;01m{\u001b[39;00mcleartext\u001b[38;5;132;01m=}\u001b[39;00m\u001b[38;5;124m, \u001b[39m\u001b[38;5;132;01m{\u001b[39;00mnonce\u001b[38;5;132;01m=}\u001b[39;00m\u001b[38;5;124m, \u001b[39m\u001b[38;5;132;01m{\u001b[39;00msecret\u001b[38;5;132;01m=}\u001b[39;00m\u001b[38;5;124m\"\u001b[39m)\n",
      "File \u001b[0;32m~/dev/PySyft/.tox/syft.jupyter/lib/python3.11/site-packages/veilid/json_api.py:987\u001b[0m, in \u001b[0;36m_JsonCryptoSystem.random_nonce\u001b[0;34m(self)\u001b[0m\n\u001b[1;32m    984\u001b[0m \u001b[38;5;28;01masync\u001b[39;00m \u001b[38;5;28;01mdef\u001b[39;00m \u001b[38;5;21mrandom_nonce\u001b[39m(\u001b[38;5;28mself\u001b[39m) \u001b[38;5;241m-\u001b[39m\u001b[38;5;241m>\u001b[39m Nonce:\n\u001b[1;32m    985\u001b[0m     \u001b[38;5;28;01mreturn\u001b[39;00m Nonce(\n\u001b[1;32m    986\u001b[0m         raise_api_result(\n\u001b[0;32m--> 987\u001b[0m             \u001b[38;5;28;01mawait\u001b[39;00m \u001b[38;5;28mself\u001b[39m\u001b[38;5;241m.\u001b[39mapi\u001b[38;5;241m.\u001b[39msend_ndjson_request(\n\u001b[1;32m    988\u001b[0m                 Operation\u001b[38;5;241m.\u001b[39mCRYPTO_SYSTEM,\n\u001b[1;32m    989\u001b[0m                 validate\u001b[38;5;241m=\u001b[39mvalidate_cs_op,\n\u001b[1;32m    990\u001b[0m                 cs_id\u001b[38;5;241m=\u001b[39m\u001b[38;5;28mself\u001b[39m\u001b[38;5;241m.\u001b[39mcs_id,\n\u001b[1;32m    991\u001b[0m                 cs_op\u001b[38;5;241m=\u001b[39mCryptoSystemOperation\u001b[38;5;241m.\u001b[39mRANDOM_NONCE,\n\u001b[1;32m    992\u001b[0m             )\n\u001b[1;32m    993\u001b[0m         )\n\u001b[1;32m    994\u001b[0m     )\n",
      "File \u001b[0;32m~/dev/PySyft/.tox/syft.jupyter/lib/python3.11/site-packages/veilid/json_api.py:269\u001b[0m, in \u001b[0;36m_JsonVeilidAPI.send_ndjson_request\u001b[0;34m(self, op, validate, **kwargs)\u001b[0m\n\u001b[1;32m    267\u001b[0m     \u001b[38;5;28;01mraise\u001b[39;00m \u001b[38;5;167;01mValueError\u001b[39;00m(\u001b[38;5;124m\"\u001b[39m\u001b[38;5;124mResponse op does not match request op\u001b[39m\u001b[38;5;124m\"\u001b[39m)\n\u001b[1;32m    268\u001b[0m \u001b[38;5;28;01mif\u001b[39;00m validate \u001b[38;5;129;01mis\u001b[39;00m \u001b[38;5;129;01mnot\u001b[39;00m \u001b[38;5;28;01mNone\u001b[39;00m:\n\u001b[0;32m--> 269\u001b[0m     \u001b[43mvalidate\u001b[49m\u001b[43m(\u001b[49m\u001b[43mreq\u001b[49m\u001b[43m,\u001b[49m\u001b[43m \u001b[49m\u001b[43mresponse\u001b[49m\u001b[43m)\u001b[49m\n\u001b[1;32m    271\u001b[0m \u001b[38;5;28;01mreturn\u001b[39;00m response\n",
      "File \u001b[0;32m~/dev/PySyft/.tox/syft.jupyter/lib/python3.11/site-packages/veilid/json_api.py:858\u001b[0m, in \u001b[0;36mvalidate_cs_op\u001b[0;34m(request, response)\u001b[0m\n\u001b[1;32m    856\u001b[0m \u001b[38;5;28;01mdef\u001b[39;00m \u001b[38;5;21mvalidate_cs_op\u001b[39m(request: \u001b[38;5;28mdict\u001b[39m, response: \u001b[38;5;28mdict\u001b[39m):\n\u001b[1;32m    857\u001b[0m     \u001b[38;5;28;01mif\u001b[39;00m response[\u001b[38;5;124m\"\u001b[39m\u001b[38;5;124mcs_op\u001b[39m\u001b[38;5;124m\"\u001b[39m] \u001b[38;5;241m!=\u001b[39m request[\u001b[38;5;124m\"\u001b[39m\u001b[38;5;124mcs_op\u001b[39m\u001b[38;5;124m\"\u001b[39m]:\n\u001b[0;32m--> 858\u001b[0m         \u001b[38;5;28;01mraise\u001b[39;00m \u001b[38;5;167;01mValueError\u001b[39;00m(\u001b[38;5;124m\"\u001b[39m\u001b[38;5;124mResponse cs_op does not match request cs_op\u001b[39m\u001b[38;5;124m\"\u001b[39m)\n",
      "\u001b[0;31mValueError\u001b[0m: Response cs_op does not match request cs_op"
     ]
    }
   ],
   "source": [
    "# await send(\"hello world2\")"
   ]
  },
  {
   "cell_type": "code",
   "execution_count": null,
   "id": "0bf04175-67ac-4ede-bd42-92f60c188671",
   "metadata": {},
   "outputs": [],
   "source": [
    "# stdlib\n",
    "import time"
   ]
  },
  {
   "cell_type": "code",
   "execution_count": null,
   "id": "a846437e-783c-477e-a693-b7f9f05891ba",
   "metadata": {},
   "outputs": [],
   "source": [
    "message = f\"Hello from the world! {time.time()}\"\n",
    "message"
   ]
  },
  {
   "cell_type": "code",
   "execution_count": null,
   "id": "e4429621-0af4-4aab-b0db-28a148e87773",
   "metadata": {},
   "outputs": [],
   "source": [
    "# await asyncio.create_task(sender(router, crypto_system, record.key, secret, 0, message))"
   ]
  },
  {
   "cell_type": "code",
   "execution_count": null,
   "id": "24890cde-dbc2-4462-b4c5-ccaff9bcb598",
   "metadata": {},
   "outputs": [],
   "source": []
  }
 ],
 "metadata": {
  "kernelspec": {
   "display_name": "Python 3 (ipykernel)",
   "language": "python",
   "name": "python3"
  },
  "language_info": {
   "codemirror_mode": {
    "name": "ipython",
    "version": 3
   },
   "file_extension": ".py",
   "mimetype": "text/x-python",
   "name": "python",
   "nbconvert_exporter": "python",
   "pygments_lexer": "ipython3",
   "version": "3.11.6"
  }
 },
 "nbformat": 4,
 "nbformat_minor": 5
}
