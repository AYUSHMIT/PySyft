{
 "cells": [
  {
   "cell_type": "code",
   "execution_count": null,
   "id": "170613d5-d4cc-42dc-ba32-8ac241830b5b",
   "metadata": {},
   "outputs": [],
   "source": [
    "# import syft as sy\n",
    "\n",
    "# node = sy.orchestra.launch(name=\"test-domain-1\", port=\"auto\", dev_mode=True)"
   ]
  },
  {
   "cell_type": "code",
   "execution_count": null,
   "id": "4c796510-742b-4621-a1b1-24f3c45eb419",
   "metadata": {},
   "outputs": [],
   "source": [
    "# !pip install veilid==0.2.5"
   ]
  },
  {
   "cell_type": "code",
   "execution_count": null,
   "id": "1a8daffc-338d-4c7d-a0a4-40aa6df03829",
   "metadata": {},
   "outputs": [],
   "source": []
  },
  {
   "cell_type": "code",
   "execution_count": 1,
   "id": "6920a2bb-3561-4c6a-ab98-93ef9f8e329d",
   "metadata": {},
   "outputs": [],
   "source": [
    "# third party\n",
    "import veilid"
   ]
  },
  {
   "cell_type": "code",
   "execution_count": 2,
   "id": "d432b10b-9fb2-4a74-b4b9-f93ba1614179",
   "metadata": {},
   "outputs": [],
   "source": [
    "host = \"localhost\"\n",
    "port = 5960"
   ]
  },
  {
   "cell_type": "code",
   "execution_count": 3,
   "id": "28956832-eae6-4ba7-a03c-b306a37659ea",
   "metadata": {},
   "outputs": [],
   "source": [
    "async def noop_callback(*args, **kwargs):\n",
    "    # print(\"got callback\", args, kwargs)\n",
    "    return"
   ]
  },
  {
   "cell_type": "code",
   "execution_count": 4,
   "id": "5092eaf4-8724-44b3-b023-405d33abd06b",
   "metadata": {},
   "outputs": [],
   "source": [
    "conn = await veilid.json_api_connect(host, port, noop_callback)"
   ]
  },
  {
   "cell_type": "code",
   "execution_count": 5,
   "id": "96fab6ed-5578-4f5a-852f-b724d932e82a",
   "metadata": {},
   "outputs": [],
   "source": [
    "# stdlib"
   ]
  },
  {
   "cell_type": "code",
   "execution_count": null,
   "id": "8933f388-c256-4d6b-8f3d-93f646f91a0b",
   "metadata": {},
   "outputs": [],
   "source": [
    "# crypto_system = await conn.get_crypto_system(veilid.CryptoKind.CRYPTO_KIND_VLD0)\n",
    "# async with crypto_system:\n",
    "#     print(\"keygen:Generating a keypair\")\n",
    "#     my_keypair = await crypto_system.generate_key_pair()\n",
    "#     print(f\"keygen:Got {my_keypair=}\")\n",
    "\n",
    "# # await config.store_self_key(conn, my_keypair)"
   ]
  },
  {
   "cell_type": "code",
   "execution_count": 6,
   "id": "50db9b83-bebb-407d-8690-12d9194574a7",
   "metadata": {},
   "outputs": [],
   "source": [
    "key_pair = \"FQkHoYMuJSWhNl3bi2avFstA19QULCiQJtxx_hr2Shg:FrvVQraUvOvv8w0gcgCI_pjyRsXxzlvPjDUmB2_J3MM\""
   ]
  },
  {
   "cell_type": "code",
   "execution_count": 7,
   "id": "25464cf0-ac13-4733-9dbb-f74f2a1e79d6",
   "metadata": {},
   "outputs": [],
   "source": [
    "my_keypair = veilid.KeyPair(key_pair)"
   ]
  },
  {
   "cell_type": "code",
   "execution_count": 8,
   "id": "701f4ad1-216f-4b12-ba36-d440db911ca8",
   "metadata": {},
   "outputs": [
    {
     "name": "stdout",
     "output_type": "stream",
     "text": [
      "Own keypair:\n",
      "    Public:  FQkHoYMuJSWhNl3bi2avFstA19QULCiQJtxx_hr2Shg\n",
      "    Private:  FrvVQraUvOvv8w0gcgCI_pjyRsXxzlvPjDUmB2_J3MM\n"
     ]
    }
   ],
   "source": [
    "print(\"Own keypair:\")\n",
    "print(\"    Public: \", my_keypair.key())\n",
    "print(\"    Private: \", my_keypair.secret())"
   ]
  },
  {
   "cell_type": "code",
   "execution_count": 9,
   "id": "a12f9ef0-c473-4005-a757-93ab293d43cd",
   "metadata": {},
   "outputs": [],
   "source": [
    "their_key = veilid.PublicKey(\"5MhuM8y3hcL4iAZspNQJJHCQyTVoA-DHVW-so2kmT20\")"
   ]
  },
  {
   "cell_type": "code",
   "execution_count": 10,
   "id": "ead0d3c8-2b45-4957-a332-4e30686e2a38",
   "metadata": {},
   "outputs": [
    {
     "data": {
      "text/plain": [
       "'5MhuM8y3hcL4iAZspNQJJHCQyTVoA-DHVW-so2kmT20'"
      ]
     },
     "execution_count": 10,
     "metadata": {},
     "output_type": "execute_result"
    }
   ],
   "source": [
    "their_key"
   ]
  },
  {
   "cell_type": "code",
   "execution_count": 11,
   "id": "f57189e2-aa3f-48eb-ae51-ec72e8661fc4",
   "metadata": {},
   "outputs": [],
   "source": [
    "members = [\n",
    "    veilid.DHTSchemaSMPLMember(my_keypair.key(), 1),\n",
    "    veilid.DHTSchemaSMPLMember(their_key, 1),\n",
    "]"
   ]
  },
  {
   "cell_type": "code",
   "execution_count": 12,
   "id": "8806c1ee-1924-4b17-8ab5-10bc0ac4915a",
   "metadata": {},
   "outputs": [],
   "source": [
    "# stdlib"
   ]
  },
  {
   "cell_type": "code",
   "execution_count": 13,
   "id": "cc0e6ab9-f4c2-42f1-9265-116d37fbaa45",
   "metadata": {},
   "outputs": [],
   "source": [
    "key = \"VLD0:MeQeEREO1mmzYRm7IZk73V5ia_NaSBVjkxAavpXam5c\""
   ]
  },
  {
   "cell_type": "code",
   "execution_count": null,
   "id": "1ca6fa71-d94c-422d-a7b2-b80aacf8d2c1",
   "metadata": {},
   "outputs": [],
   "source": []
  },
  {
   "cell_type": "code",
   "execution_count": null,
   "id": "2fb0184d-cda6-4472-8309-71494fea39e1",
   "metadata": {},
   "outputs": [],
   "source": []
  },
  {
   "cell_type": "code",
   "execution_count": null,
   "id": "061d3bae-449c-44a3-8baf-578560659dcf",
   "metadata": {},
   "outputs": [],
   "source": []
  },
  {
   "cell_type": "code",
   "execution_count": 14,
   "id": "f14a2cbb-0c1e-45ee-add4-3f7ee60c4021",
   "metadata": {},
   "outputs": [],
   "source": [
    "# async def sender(\n",
    "#     router: veilid.api.RoutingContext,\n",
    "#     crypto_system: veilid.CryptoSystem,\n",
    "#     key: veilid.TypedKey,\n",
    "#     secret: veilid.SharedSecret,\n",
    "#     send_subkey: veilid.ValueSubkey,\n",
    "# ):\n",
    "#     \"\"\"Read input and write it to the DHT.\"\"\"\n",
    "\n",
    "#     async def encrypt(cleartext: str) -> bytes:\n",
    "#         \"\"\"Encrypt the message with the shared secret and a random nonce.\"\"\"\n",
    "\n",
    "#         print(\"encrypt:Getting a nonce\")\n",
    "#         nonce = await crypto_system.random_nonce()\n",
    "#         print(f\"encrypt:Received {nonce=}\")\n",
    "#         print(f\"encrypt:Encrypting {cleartext=}, {nonce=}, {secret=}\")\n",
    "#         encrypted = await crypto_system.crypt_no_auth(cleartext.encode(), nonce, secret)\n",
    "#         ciphertext = nonce.to_bytes() + encrypted\n",
    "#         print(f\"encrypt:{ciphertext=}\")\n",
    "#         return ciphertext\n",
    "\n",
    "#     async def send(cleartext: str):\n",
    "#         \"\"\"Write the encrypted version of the text to the DHT.\"\"\"\n",
    "\n",
    "#         ciphertext = await encrypt(cleartext)\n",
    "#         print(f\"send:Setting DHT {key=}, {send_subkey=}, to {ciphertext=}\")\n",
    "#         await router.set_dht_value(key, send_subkey, ciphertext)\n",
    "\n",
    "#     # Prime the pumps. Especially when starting the conversation, this\n",
    "#     # causes the DHT key to propagate to the network.\n",
    "#     await send(\"Hello from the world!\")"
   ]
  },
  {
   "cell_type": "code",
   "execution_count": 26,
   "id": "b9904281-3aea-4f72-8338-21db4ad292ca",
   "metadata": {},
   "outputs": [],
   "source": [
    "NONCE_LENGTH = 24\n",
    "QUIT = \"QUIT\""
   ]
  },
  {
   "cell_type": "code",
   "execution_count": 27,
   "id": "329f5324-990f-41a3-9e5d-798e311682f4",
   "metadata": {},
   "outputs": [],
   "source": [
    "async def receiver(\n",
    "    router: veilid.api.RoutingContext,\n",
    "    crypto_system: veilid.CryptoSystem,\n",
    "    key: veilid.TypedKey,\n",
    "    secret: veilid.SharedSecret,\n",
    "    recv_subkey: veilid.ValueSubkey,\n",
    "    name: str,\n",
    "):\n",
    "    \"\"\"Wait for new data from the DHT and write it to the screen.\"\"\"\n",
    "\n",
    "    async def decrypt(payload: bytes) -> str:\n",
    "        \"\"\"Decrypt the payload with the shared secret and the payload's nonce.\"\"\"\n",
    "\n",
    "        print(f\"decrypt:Decrypting {payload!r}\")\n",
    "        nonce = veilid.Nonce.from_bytes(payload[:NONCE_LENGTH])\n",
    "        print(f\"decrypt:Found {nonce=}\")\n",
    "        ciphertext = payload[NONCE_LENGTH:]\n",
    "        print(f\"decrypt:Decrypting {ciphertext=}, {nonce=}, {secret=}\")\n",
    "        cleartext = await crypto_system.crypt_no_auth(ciphertext, nonce, secret)\n",
    "        print(f\"decrypt:{cleartext=}\")\n",
    "        return cleartext.decode()\n",
    "\n",
    "    last_seq = -1\n",
    "    while True:\n",
    "        # In the real world, don't do this. People may tease you for it.\n",
    "        # This is meant to be easy to understand for demonstration\n",
    "        # purposes, not a great pattern. Instead, you'd want to use the\n",
    "        # callback function to handle events asynchronously.\n",
    "\n",
    "        # Try to get an updated version of the receiving subkey.\n",
    "        print(f\"receiver:Getting the DHT value of {key=}, {recv_subkey=}\")\n",
    "        resp = await router.get_dht_value(key, recv_subkey, True)\n",
    "        if resp is None:\n",
    "            print(\"receiver:Didn't find a value\")\n",
    "            continue\n",
    "\n",
    "        # If the other party hasn't sent a newer message, try again.\n",
    "        if resp.seq == last_seq:\n",
    "            print(f\"receiver:DHT {key=} is still at {resp.seq=}\")\n",
    "            continue\n",
    "\n",
    "        msg = await decrypt(resp.data)\n",
    "        if msg == QUIT:\n",
    "            print(\"receiver:Received the QUIT signal from the other end.\")\n",
    "            print(\"Other end closed the chat.\")\n",
    "            return\n",
    "\n",
    "        print(\"receiver:Got new {msg=} at DHT {key=}, {resp.seq=}\")\n",
    "        print(f\"\\n{name}> {msg}\")\n",
    "        last_seq = resp.seq"
   ]
  },
  {
   "cell_type": "code",
   "execution_count": 20,
   "id": "f149ea8b-0379-44fb-9f6a-7c49aece27fb",
   "metadata": {},
   "outputs": [],
   "source": [
    "name = \"friendsname\""
   ]
  },
  {
   "cell_type": "code",
   "execution_count": 21,
   "id": "6cddc089-7711-4fd2-afb4-210f348aa1c3",
   "metadata": {},
   "outputs": [],
   "source": [
    "# router = await (await conn.new_routing_context()).with_default_safety()\n",
    "# crypto_system = await conn.get_crypto_system(veilid.CryptoKind.CRYPTO_KIND_VLD0)\n",
    "# async with crypto_system, router:\n",
    "#     print(\"start:Getting a DH shared secret\")\n",
    "#     secret = await crypto_system.cached_dh(their_key, my_keypair.secret())\n",
    "#     print(f\"start:Got {secret=}\")\n",
    "\n",
    "#     print(\"start:Creating a new DHT record\")\n",
    "#     record = await router.create_dht_record(veilid.DHTSchema.smpl(0, members))\n",
    "#     print(f\"New chat key: {record.key}\")\n",
    "#     print(\"Give that to your friend!\")\n",
    "\n",
    "#     # Close this key first. We'll reopen it for writing with our saved key.\n",
    "#     print(f\"start:Closing the DHT record {record.key=}\")\n",
    "#     await router.close_dht_record(record.key)\n",
    "\n",
    "#     print(f\"start:Reopening the DHT record {record.key=} with {my_keypair=}\")\n",
    "#     await router.open_dht_record(record.key, my_keypair)\n",
    "\n",
    "#     # The party initiating the chat writes to subkey 0 and reads from subkey 1.\n",
    "#     send_task = asyncio.create_task(sender(router, crypto_system, record.key, secret, 0))\n",
    "#     recv_task = asyncio.create_task(receiver(router, crypto_system, record.key, secret, 1, name))\n",
    "\n",
    "#     try:\n",
    "#         print(\"start:Starting the chat\")\n",
    "#         await asyncio.wait([send_task, recv_task], return_when=asyncio.FIRST_COMPLETED)\n",
    "#     finally:\n",
    "#         print(f\"start:Closing the DHT record {record.key=}\")\n",
    "#         await router.close_dht_record(record.key)\n",
    "#         print(f\"start:Deleting the DHT record {record.key=}\")\n",
    "#         await router.delete_dht_record(record.key)\n",
    "\n",
    "#     print(\"start:Cleaning up\")\n",
    "#     recv_task.cancel()\n",
    "#     send_task.cancel()"
   ]
  },
  {
   "cell_type": "code",
   "execution_count": 30,
   "id": "c911ff07-f18f-44d5-ae07-47012481f017",
   "metadata": {},
   "outputs": [
    {
     "name": "stdout",
     "output_type": "stream",
     "text": [
      "start:Reopening the DHT record key='VLD0:MeQeEREO1mmzYRm7IZk73V5ia_NaSBVjkxAavpXam5c' with my_keypair='FQkHoYMuJSWhNl3bi2avFstA19QULCiQJtxx_hr2Shg:FrvVQraUvOvv8w0gcgCI_pjyRsXxzlvPjDUmB2_J3MM'\n"
     ]
    }
   ],
   "source": [
    "router = await (await conn.new_routing_context()).with_default_safety()\n",
    "crypto_system = await conn.get_crypto_system(veilid.CryptoKind.CRYPTO_KIND_VLD0)\n",
    "\n",
    "name = \"friendsname\"\n",
    "\n",
    "async with crypto_system, router:\n",
    "    print(f\"start:Reopening the DHT record {key=} with {my_keypair=}\")\n",
    "    await router.close_dht_record(key)"
   ]
  },
  {
   "cell_type": "code",
   "execution_count": 31,
   "id": "1abe5f0f-e77a-44e7-b991-9b526629ffcf",
   "metadata": {},
   "outputs": [
    {
     "name": "stdout",
     "output_type": "stream",
     "text": [
      "respond:Opening a private routing context\n",
      "respond:Getting a crypto system\n",
      "respond:Getting a DH shared secret\n",
      "respond:Got secret='ZcFA4LxhXis2ZPmxhvFnWHQHG1CROLVJTO0_bGgZqi4'\n",
      "respond:Opening the DHT record key='VLD0:MeQeEREO1mmzYRm7IZk73V5ia_NaSBVjkxAavpXam5c' with my_keypair='FQkHoYMuJSWhNl3bi2avFstA19QULCiQJtxx_hr2Shg:FrvVQraUvOvv8w0gcgCI_pjyRsXxzlvPjDUmB2_J3MM'\n",
      "receiver:Getting the DHT value of key='VLD0:MeQeEREO1mmzYRm7IZk73V5ia_NaSBVjkxAavpXam5c', recv_subkey=0\n",
      "decrypt:Decrypting b'\\xe3TL*\\xa9\\n\\xbf\\xbb\\xa6\\x86\\xa5\\xa7,\\xc7:\\xf2F\\x9a\\xa1Z\\xa9^\\x93\\xb4\\x03\\xad\\xa0O\\xe7\\xe0\\xdc\\xd0\\n\\xc0\\x97\\x95'\n",
      "decrypt:Found nonce='41RMKqkKv7umhqWnLMc68kaaoVqpXpO0'\n",
      "decrypt:Decrypting ciphertext=b'\\x03\\xad\\xa0O\\xe7\\xe0\\xdc\\xd0\\n\\xc0\\x97\\x95', nonce='41RMKqkKv7umhqWnLMc68kaaoVqpXpO0', secret='ZcFA4LxhXis2ZPmxhvFnWHQHG1CROLVJTO0_bGgZqi4'\n",
      "decrypt:cleartext=b'testtesttest'\n",
      "receiver:Got new {msg=} at DHT {key=}, {resp.seq=}\n",
      "\n",
      "friendsname> testtesttest\n",
      "receiver:Getting the DHT value of key='VLD0:MeQeEREO1mmzYRm7IZk73V5ia_NaSBVjkxAavpXam5c', recv_subkey=0\n",
      "receiver:DHT key='VLD0:MeQeEREO1mmzYRm7IZk73V5ia_NaSBVjkxAavpXam5c' is still at resp.seq=0\n",
      "receiver:Getting the DHT value of key='VLD0:MeQeEREO1mmzYRm7IZk73V5ia_NaSBVjkxAavpXam5c', recv_subkey=0\n",
      "receiver:DHT key='VLD0:MeQeEREO1mmzYRm7IZk73V5ia_NaSBVjkxAavpXam5c' is still at resp.seq=0\n",
      "receiver:Getting the DHT value of key='VLD0:MeQeEREO1mmzYRm7IZk73V5ia_NaSBVjkxAavpXam5c', recv_subkey=0\n",
      "receiver:DHT key='VLD0:MeQeEREO1mmzYRm7IZk73V5ia_NaSBVjkxAavpXam5c' is still at resp.seq=0\n",
      "receiver:Getting the DHT value of key='VLD0:MeQeEREO1mmzYRm7IZk73V5ia_NaSBVjkxAavpXam5c', recv_subkey=0\n",
      "receiver:DHT key='VLD0:MeQeEREO1mmzYRm7IZk73V5ia_NaSBVjkxAavpXam5c' is still at resp.seq=0\n",
      "receiver:Getting the DHT value of key='VLD0:MeQeEREO1mmzYRm7IZk73V5ia_NaSBVjkxAavpXam5c', recv_subkey=0\n",
      "receiver:DHT key='VLD0:MeQeEREO1mmzYRm7IZk73V5ia_NaSBVjkxAavpXam5c' is still at resp.seq=0\n",
      "receiver:Getting the DHT value of key='VLD0:MeQeEREO1mmzYRm7IZk73V5ia_NaSBVjkxAavpXam5c', recv_subkey=0\n",
      "receiver:DHT key='VLD0:MeQeEREO1mmzYRm7IZk73V5ia_NaSBVjkxAavpXam5c' is still at resp.seq=0\n",
      "receiver:Getting the DHT value of key='VLD0:MeQeEREO1mmzYRm7IZk73V5ia_NaSBVjkxAavpXam5c', recv_subkey=0\n",
      "receiver:DHT key='VLD0:MeQeEREO1mmzYRm7IZk73V5ia_NaSBVjkxAavpXam5c' is still at resp.seq=0\n",
      "receiver:Getting the DHT value of key='VLD0:MeQeEREO1mmzYRm7IZk73V5ia_NaSBVjkxAavpXam5c', recv_subkey=0\n",
      "receiver:DHT key='VLD0:MeQeEREO1mmzYRm7IZk73V5ia_NaSBVjkxAavpXam5c' is still at resp.seq=0\n",
      "receiver:Getting the DHT value of key='VLD0:MeQeEREO1mmzYRm7IZk73V5ia_NaSBVjkxAavpXam5c', recv_subkey=0\n",
      "receiver:DHT key='VLD0:MeQeEREO1mmzYRm7IZk73V5ia_NaSBVjkxAavpXam5c' is still at resp.seq=0\n",
      "receiver:Getting the DHT value of key='VLD0:MeQeEREO1mmzYRm7IZk73V5ia_NaSBVjkxAavpXam5c', recv_subkey=0\n",
      "receiver:DHT key='VLD0:MeQeEREO1mmzYRm7IZk73V5ia_NaSBVjkxAavpXam5c' is still at resp.seq=0\n",
      "receiver:Getting the DHT value of key='VLD0:MeQeEREO1mmzYRm7IZk73V5ia_NaSBVjkxAavpXam5c', recv_subkey=0\n",
      "receiver:DHT key='VLD0:MeQeEREO1mmzYRm7IZk73V5ia_NaSBVjkxAavpXam5c' is still at resp.seq=0\n",
      "receiver:Getting the DHT value of key='VLD0:MeQeEREO1mmzYRm7IZk73V5ia_NaSBVjkxAavpXam5c', recv_subkey=0\n",
      "receiver:DHT key='VLD0:MeQeEREO1mmzYRm7IZk73V5ia_NaSBVjkxAavpXam5c' is still at resp.seq=0\n",
      "receiver:Getting the DHT value of key='VLD0:MeQeEREO1mmzYRm7IZk73V5ia_NaSBVjkxAavpXam5c', recv_subkey=0\n",
      "receiver:DHT key='VLD0:MeQeEREO1mmzYRm7IZk73V5ia_NaSBVjkxAavpXam5c' is still at resp.seq=0\n",
      "receiver:Getting the DHT value of key='VLD0:MeQeEREO1mmzYRm7IZk73V5ia_NaSBVjkxAavpXam5c', recv_subkey=0\n",
      "receiver:DHT key='VLD0:MeQeEREO1mmzYRm7IZk73V5ia_NaSBVjkxAavpXam5c' is still at resp.seq=0\n",
      "receiver:Getting the DHT value of key='VLD0:MeQeEREO1mmzYRm7IZk73V5ia_NaSBVjkxAavpXam5c', recv_subkey=0\n",
      "receiver:DHT key='VLD0:MeQeEREO1mmzYRm7IZk73V5ia_NaSBVjkxAavpXam5c' is still at resp.seq=0\n",
      "receiver:Getting the DHT value of key='VLD0:MeQeEREO1mmzYRm7IZk73V5ia_NaSBVjkxAavpXam5c', recv_subkey=0\n",
      "receiver:DHT key='VLD0:MeQeEREO1mmzYRm7IZk73V5ia_NaSBVjkxAavpXam5c' is still at resp.seq=0\n",
      "receiver:Getting the DHT value of key='VLD0:MeQeEREO1mmzYRm7IZk73V5ia_NaSBVjkxAavpXam5c', recv_subkey=0\n",
      "receiver:DHT key='VLD0:MeQeEREO1mmzYRm7IZk73V5ia_NaSBVjkxAavpXam5c' is still at resp.seq=0\n",
      "receiver:Getting the DHT value of key='VLD0:MeQeEREO1mmzYRm7IZk73V5ia_NaSBVjkxAavpXam5c', recv_subkey=0\n",
      "receiver:DHT key='VLD0:MeQeEREO1mmzYRm7IZk73V5ia_NaSBVjkxAavpXam5c' is still at resp.seq=0\n",
      "receiver:Getting the DHT value of key='VLD0:MeQeEREO1mmzYRm7IZk73V5ia_NaSBVjkxAavpXam5c', recv_subkey=0\n",
      "receiver:DHT key='VLD0:MeQeEREO1mmzYRm7IZk73V5ia_NaSBVjkxAavpXam5c' is still at resp.seq=0\n",
      "receiver:Getting the DHT value of key='VLD0:MeQeEREO1mmzYRm7IZk73V5ia_NaSBVjkxAavpXam5c', recv_subkey=0\n",
      "receiver:DHT key='VLD0:MeQeEREO1mmzYRm7IZk73V5ia_NaSBVjkxAavpXam5c' is still at resp.seq=0\n",
      "receiver:Getting the DHT value of key='VLD0:MeQeEREO1mmzYRm7IZk73V5ia_NaSBVjkxAavpXam5c', recv_subkey=0\n",
      "receiver:DHT key='VLD0:MeQeEREO1mmzYRm7IZk73V5ia_NaSBVjkxAavpXam5c' is still at resp.seq=0\n",
      "receiver:Getting the DHT value of key='VLD0:MeQeEREO1mmzYRm7IZk73V5ia_NaSBVjkxAavpXam5c', recv_subkey=0\n",
      "receiver:DHT key='VLD0:MeQeEREO1mmzYRm7IZk73V5ia_NaSBVjkxAavpXam5c' is still at resp.seq=0\n",
      "receiver:Getting the DHT value of key='VLD0:MeQeEREO1mmzYRm7IZk73V5ia_NaSBVjkxAavpXam5c', recv_subkey=0\n",
      "receiver:DHT key='VLD0:MeQeEREO1mmzYRm7IZk73V5ia_NaSBVjkxAavpXam5c' is still at resp.seq=0\n",
      "receiver:Getting the DHT value of key='VLD0:MeQeEREO1mmzYRm7IZk73V5ia_NaSBVjkxAavpXam5c', recv_subkey=0\n",
      "receiver:DHT key='VLD0:MeQeEREO1mmzYRm7IZk73V5ia_NaSBVjkxAavpXam5c' is still at resp.seq=0\n",
      "receiver:Getting the DHT value of key='VLD0:MeQeEREO1mmzYRm7IZk73V5ia_NaSBVjkxAavpXam5c', recv_subkey=0\n",
      "receiver:DHT key='VLD0:MeQeEREO1mmzYRm7IZk73V5ia_NaSBVjkxAavpXam5c' is still at resp.seq=0\n",
      "receiver:Getting the DHT value of key='VLD0:MeQeEREO1mmzYRm7IZk73V5ia_NaSBVjkxAavpXam5c', recv_subkey=0\n",
      "receiver:DHT key='VLD0:MeQeEREO1mmzYRm7IZk73V5ia_NaSBVjkxAavpXam5c' is still at resp.seq=0\n",
      "receiver:Getting the DHT value of key='VLD0:MeQeEREO1mmzYRm7IZk73V5ia_NaSBVjkxAavpXam5c', recv_subkey=0\n",
      "receiver:DHT key='VLD0:MeQeEREO1mmzYRm7IZk73V5ia_NaSBVjkxAavpXam5c' is still at resp.seq=0\n",
      "receiver:Getting the DHT value of key='VLD0:MeQeEREO1mmzYRm7IZk73V5ia_NaSBVjkxAavpXam5c', recv_subkey=0\n",
      "receiver:DHT key='VLD0:MeQeEREO1mmzYRm7IZk73V5ia_NaSBVjkxAavpXam5c' is still at resp.seq=0\n",
      "receiver:Getting the DHT value of key='VLD0:MeQeEREO1mmzYRm7IZk73V5ia_NaSBVjkxAavpXam5c', recv_subkey=0\n",
      "receiver:DHT key='VLD0:MeQeEREO1mmzYRm7IZk73V5ia_NaSBVjkxAavpXam5c' is still at resp.seq=0\n",
      "receiver:Getting the DHT value of key='VLD0:MeQeEREO1mmzYRm7IZk73V5ia_NaSBVjkxAavpXam5c', recv_subkey=0\n",
      "receiver:DHT key='VLD0:MeQeEREO1mmzYRm7IZk73V5ia_NaSBVjkxAavpXam5c' is still at resp.seq=0\n",
      "receiver:Getting the DHT value of key='VLD0:MeQeEREO1mmzYRm7IZk73V5ia_NaSBVjkxAavpXam5c', recv_subkey=0\n",
      "receiver:DHT key='VLD0:MeQeEREO1mmzYRm7IZk73V5ia_NaSBVjkxAavpXam5c' is still at resp.seq=0\n",
      "receiver:Getting the DHT value of key='VLD0:MeQeEREO1mmzYRm7IZk73V5ia_NaSBVjkxAavpXam5c', recv_subkey=0\n",
      "receiver:DHT key='VLD0:MeQeEREO1mmzYRm7IZk73V5ia_NaSBVjkxAavpXam5c' is still at resp.seq=0\n",
      "receiver:Getting the DHT value of key='VLD0:MeQeEREO1mmzYRm7IZk73V5ia_NaSBVjkxAavpXam5c', recv_subkey=0\n",
      "receiver:DHT key='VLD0:MeQeEREO1mmzYRm7IZk73V5ia_NaSBVjkxAavpXam5c' is still at resp.seq=0\n",
      "receiver:Getting the DHT value of key='VLD0:MeQeEREO1mmzYRm7IZk73V5ia_NaSBVjkxAavpXam5c', recv_subkey=0\n",
      "receiver:DHT key='VLD0:MeQeEREO1mmzYRm7IZk73V5ia_NaSBVjkxAavpXam5c' is still at resp.seq=0\n",
      "receiver:Getting the DHT value of key='VLD0:MeQeEREO1mmzYRm7IZk73V5ia_NaSBVjkxAavpXam5c', recv_subkey=0\n",
      "receiver:DHT key='VLD0:MeQeEREO1mmzYRm7IZk73V5ia_NaSBVjkxAavpXam5c' is still at resp.seq=0\n",
      "receiver:Getting the DHT value of key='VLD0:MeQeEREO1mmzYRm7IZk73V5ia_NaSBVjkxAavpXam5c', recv_subkey=0\n",
      "receiver:DHT key='VLD0:MeQeEREO1mmzYRm7IZk73V5ia_NaSBVjkxAavpXam5c' is still at resp.seq=0\n",
      "receiver:Getting the DHT value of key='VLD0:MeQeEREO1mmzYRm7IZk73V5ia_NaSBVjkxAavpXam5c', recv_subkey=0\n",
      "receiver:DHT key='VLD0:MeQeEREO1mmzYRm7IZk73V5ia_NaSBVjkxAavpXam5c' is still at resp.seq=0\n",
      "receiver:Getting the DHT value of key='VLD0:MeQeEREO1mmzYRm7IZk73V5ia_NaSBVjkxAavpXam5c', recv_subkey=0\n",
      "receiver:DHT key='VLD0:MeQeEREO1mmzYRm7IZk73V5ia_NaSBVjkxAavpXam5c' is still at resp.seq=0\n",
      "receiver:Getting the DHT value of key='VLD0:MeQeEREO1mmzYRm7IZk73V5ia_NaSBVjkxAavpXam5c', recv_subkey=0\n",
      "receiver:DHT key='VLD0:MeQeEREO1mmzYRm7IZk73V5ia_NaSBVjkxAavpXam5c' is still at resp.seq=0\n",
      "receiver:Getting the DHT value of key='VLD0:MeQeEREO1mmzYRm7IZk73V5ia_NaSBVjkxAavpXam5c', recv_subkey=0\n",
      "receiver:DHT key='VLD0:MeQeEREO1mmzYRm7IZk73V5ia_NaSBVjkxAavpXam5c' is still at resp.seq=0\n",
      "receiver:Getting the DHT value of key='VLD0:MeQeEREO1mmzYRm7IZk73V5ia_NaSBVjkxAavpXam5c', recv_subkey=0\n"
     ]
    },
    {
     "ename": "CancelledError",
     "evalue": "",
     "output_type": "error",
     "traceback": [
      "\u001b[0;31m---------------------------------------------------------------------------\u001b[0m",
      "\u001b[0;31mCancelledError\u001b[0m                            Traceback (most recent call last)",
      "Cell \u001b[0;32mIn[31], line 16\u001b[0m\n\u001b[1;32m     11\u001b[0m \u001b[38;5;28;01mawait\u001b[39;00m router\u001b[38;5;241m.\u001b[39mopen_dht_record(key, my_keypair)\n\u001b[1;32m     13\u001b[0m \u001b[38;5;66;03m# The party responding to the chat writes to subkey 1 and reads from subkey 0.\u001b[39;00m\n\u001b[1;32m     14\u001b[0m \u001b[38;5;66;03m# send_task = asyncio.create_task(sender(router, crypto_system, key, secret, 1))\u001b[39;00m\n\u001b[1;32m     15\u001b[0m \u001b[38;5;66;03m# recv_task = asyncio.create_task(receiver(router, crypto_system, key, secret, 0, name))\u001b[39;00m\n\u001b[0;32m---> 16\u001b[0m \u001b[38;5;28;01mawait\u001b[39;00m receiver(router, crypto_system, key, secret, \u001b[38;5;241m0\u001b[39m, name)\n\u001b[1;32m     18\u001b[0m \u001b[38;5;66;03m# try:\u001b[39;00m\n\u001b[1;32m     19\u001b[0m \u001b[38;5;66;03m#     LOG.debug(\"respond:Starting the chat\")\u001b[39;00m\n\u001b[1;32m     20\u001b[0m \u001b[38;5;66;03m# await asyncio.wait([send_task, recv_task], return_when=asyncio.FIRST_COMPLETED)\u001b[39;00m\n\u001b[0;32m   (...)\u001b[0m\n\u001b[1;32m     28\u001b[0m \u001b[38;5;66;03m# recv_task.cancel()\u001b[39;00m\n\u001b[1;32m     29\u001b[0m \u001b[38;5;66;03m# send_task.cancel()\u001b[39;00m\n",
      "Cell \u001b[0;32mIn[27], line 32\u001b[0m, in \u001b[0;36mreceiver\u001b[0;34m(router, crypto_system, key, secret, recv_subkey, name)\u001b[0m\n\u001b[1;32m     24\u001b[0m \u001b[38;5;28;01mwhile\u001b[39;00m \u001b[38;5;28;01mTrue\u001b[39;00m:\n\u001b[1;32m     25\u001b[0m     \u001b[38;5;66;03m# In the real world, don't do this. People may tease you for it.\u001b[39;00m\n\u001b[1;32m     26\u001b[0m     \u001b[38;5;66;03m# This is meant to be easy to understand for demonstration\u001b[39;00m\n\u001b[0;32m   (...)\u001b[0m\n\u001b[1;32m     29\u001b[0m \n\u001b[1;32m     30\u001b[0m     \u001b[38;5;66;03m# Try to get an updated version of the receiving subkey.\u001b[39;00m\n\u001b[1;32m     31\u001b[0m     \u001b[38;5;28mprint\u001b[39m(\u001b[38;5;124mf\u001b[39m\u001b[38;5;124m\"\u001b[39m\u001b[38;5;124mreceiver:Getting the DHT value of \u001b[39m\u001b[38;5;132;01m{\u001b[39;00mkey\u001b[38;5;132;01m=}\u001b[39;00m\u001b[38;5;124m, \u001b[39m\u001b[38;5;132;01m{\u001b[39;00mrecv_subkey\u001b[38;5;132;01m=}\u001b[39;00m\u001b[38;5;124m\"\u001b[39m)\n\u001b[0;32m---> 32\u001b[0m     resp \u001b[38;5;241m=\u001b[39m \u001b[38;5;28;01mawait\u001b[39;00m router\u001b[38;5;241m.\u001b[39mget_dht_value(key, recv_subkey, \u001b[38;5;28;01mTrue\u001b[39;00m)\n\u001b[1;32m     33\u001b[0m     \u001b[38;5;28;01mif\u001b[39;00m resp \u001b[38;5;129;01mis\u001b[39;00m \u001b[38;5;28;01mNone\u001b[39;00m:\n\u001b[1;32m     34\u001b[0m         \u001b[38;5;28mprint\u001b[39m(\u001b[38;5;124m\"\u001b[39m\u001b[38;5;124mreceiver:Didn\u001b[39m\u001b[38;5;124m'\u001b[39m\u001b[38;5;124mt find a value\u001b[39m\u001b[38;5;124m\"\u001b[39m)\n",
      "File \u001b[0;32m~/dev/PySyft/.tox/syft.jupyter/lib/python3.11/site-packages/veilid/json_api.py:587\u001b[0m, in \u001b[0;36m_JsonRoutingContext.get_dht_value\u001b[0;34m(self, key, subkey, force_refresh)\u001b[0m\n\u001b[1;32m    583\u001b[0m \u001b[38;5;28;01masync\u001b[39;00m \u001b[38;5;28;01mdef\u001b[39;00m \u001b[38;5;21mget_dht_value\u001b[39m(\n\u001b[1;32m    584\u001b[0m     \u001b[38;5;28mself\u001b[39m, key: TypedKey, subkey: ValueSubkey, force_refresh: \u001b[38;5;28mbool\u001b[39m\n\u001b[1;32m    585\u001b[0m ) \u001b[38;5;241m-\u001b[39m\u001b[38;5;241m>\u001b[39m Optional[ValueData]:\n\u001b[1;32m    586\u001b[0m     ret \u001b[38;5;241m=\u001b[39m raise_api_result(\n\u001b[0;32m--> 587\u001b[0m         \u001b[38;5;28;01mawait\u001b[39;00m \u001b[38;5;28mself\u001b[39m\u001b[38;5;241m.\u001b[39mapi\u001b[38;5;241m.\u001b[39msend_ndjson_request(\n\u001b[1;32m    588\u001b[0m             Operation\u001b[38;5;241m.\u001b[39mROUTING_CONTEXT,\n\u001b[1;32m    589\u001b[0m             validate\u001b[38;5;241m=\u001b[39mvalidate_rc_op,\n\u001b[1;32m    590\u001b[0m             rc_id\u001b[38;5;241m=\u001b[39m\u001b[38;5;28mself\u001b[39m\u001b[38;5;241m.\u001b[39mrc_id,\n\u001b[1;32m    591\u001b[0m             rc_op\u001b[38;5;241m=\u001b[39mRoutingContextOperation\u001b[38;5;241m.\u001b[39mGET_DHT_VALUE,\n\u001b[1;32m    592\u001b[0m             key\u001b[38;5;241m=\u001b[39mkey,\n\u001b[1;32m    593\u001b[0m             subkey\u001b[38;5;241m=\u001b[39msubkey,\n\u001b[1;32m    594\u001b[0m             force_refresh\u001b[38;5;241m=\u001b[39mforce_refresh,\n\u001b[1;32m    595\u001b[0m         )\n\u001b[1;32m    596\u001b[0m     )\n\u001b[1;32m    597\u001b[0m     \u001b[38;5;28;01mreturn\u001b[39;00m \u001b[38;5;28;01mNone\u001b[39;00m \u001b[38;5;28;01mif\u001b[39;00m ret \u001b[38;5;129;01mis\u001b[39;00m \u001b[38;5;28;01mNone\u001b[39;00m \u001b[38;5;28;01melse\u001b[39;00m ValueData\u001b[38;5;241m.\u001b[39mfrom_json(ret)\n",
      "File \u001b[0;32m~/dev/PySyft/.tox/syft.jupyter/lib/python3.11/site-packages/veilid/json_api.py:263\u001b[0m, in \u001b[0;36m_JsonVeilidAPI.send_ndjson_request\u001b[0;34m(self, op, validate, **kwargs)\u001b[0m\n\u001b[1;32m    260\u001b[0m     \u001b[38;5;28;01mraise\u001b[39;00m\n\u001b[1;32m    262\u001b[0m \u001b[38;5;66;03m# Wait for response\u001b[39;00m\n\u001b[0;32m--> 263\u001b[0m response \u001b[38;5;241m=\u001b[39m \u001b[38;5;28;01mawait\u001b[39;00m reqfuture\n\u001b[1;32m    265\u001b[0m \u001b[38;5;66;03m# Validate if we have a validator\u001b[39;00m\n\u001b[1;32m    266\u001b[0m \u001b[38;5;28;01mif\u001b[39;00m response[\u001b[38;5;124m\"\u001b[39m\u001b[38;5;124mop\u001b[39m\u001b[38;5;124m\"\u001b[39m] \u001b[38;5;241m!=\u001b[39m req[\u001b[38;5;124m\"\u001b[39m\u001b[38;5;124mop\u001b[39m\u001b[38;5;124m\"\u001b[39m]:\n",
      "\u001b[0;31mCancelledError\u001b[0m: "
     ]
    }
   ],
   "source": [
    "print(\"respond:Opening a private routing context\")\n",
    "router = await (await conn.new_routing_context()).with_default_safety()\n",
    "print(\"respond:Getting a crypto system\")\n",
    "crypto_system = await conn.get_crypto_system(veilid.CryptoKind.CRYPTO_KIND_VLD0)\n",
    "async with crypto_system, router:\n",
    "    print(\"respond:Getting a DH shared secret\")\n",
    "    secret = await crypto_system.cached_dh(their_key, my_keypair.secret())\n",
    "    print(f\"respond:Got {secret=}\")\n",
    "\n",
    "    print(f\"respond:Opening the DHT record {key=} with {my_keypair=}\")\n",
    "    await router.open_dht_record(key, my_keypair)\n",
    "\n",
    "    # The party responding to the chat writes to subkey 1 and reads from subkey 0.\n",
    "    # send_task = asyncio.create_task(sender(router, crypto_system, key, secret, 1))\n",
    "    # recv_task = asyncio.create_task(receiver(router, crypto_system, key, secret, 0, name))\n",
    "    await receiver(router, crypto_system, key, secret, 0, name)\n",
    "\n",
    "    # try:\n",
    "    #     LOG.debug(\"respond:Starting the chat\")\n",
    "    # await asyncio.wait([send_task, recv_task], return_when=asyncio.FIRST_COMPLETED)\n",
    "    # finally:\n",
    "    #     LOG.debug(f\"respond:Closing the DHT record {key=}\")\n",
    "    #     await router.close_dht_record(key)\n",
    "    #     LOG.debug(f\"respond:Deleting the DHT record {key=}\")\n",
    "    #     await router.delete_dht_record(key)\n",
    "\n",
    "    # LOG.debug(\"respond:Cleaning up\")\n",
    "    # recv_task.cancel()\n",
    "    # send_task.cancel()"
   ]
  },
  {
   "cell_type": "code",
   "execution_count": 28,
   "id": "95bed690-4a13-400f-a6f9-3fb49696ea03",
   "metadata": {},
   "outputs": [
    {
     "name": "stdout",
     "output_type": "stream",
     "text": [
      "receiver:Getting the DHT value of key='VLD0:MeQeEREO1mmzYRm7IZk73V5ia_NaSBVjkxAavpXam5c', recv_subkey=0\n"
     ]
    },
    {
     "ename": "ValueError",
     "evalue": "Response rc_op does not match request rc_op",
     "output_type": "error",
     "traceback": [
      "\u001b[0;31m---------------------------------------------------------------------------\u001b[0m",
      "\u001b[0;31mValueError\u001b[0m                                Traceback (most recent call last)",
      "Cell \u001b[0;32mIn[28], line 1\u001b[0m\n\u001b[0;32m----> 1\u001b[0m \u001b[38;5;28;01mawait\u001b[39;00m receiver(router, crypto_system, key, secret, \u001b[38;5;241m0\u001b[39m, name)\n",
      "Cell \u001b[0;32mIn[27], line 32\u001b[0m, in \u001b[0;36mreceiver\u001b[0;34m(router, crypto_system, key, secret, recv_subkey, name)\u001b[0m\n\u001b[1;32m     24\u001b[0m \u001b[38;5;28;01mwhile\u001b[39;00m \u001b[38;5;28;01mTrue\u001b[39;00m:\n\u001b[1;32m     25\u001b[0m     \u001b[38;5;66;03m# In the real world, don't do this. People may tease you for it.\u001b[39;00m\n\u001b[1;32m     26\u001b[0m     \u001b[38;5;66;03m# This is meant to be easy to understand for demonstration\u001b[39;00m\n\u001b[0;32m   (...)\u001b[0m\n\u001b[1;32m     29\u001b[0m \n\u001b[1;32m     30\u001b[0m     \u001b[38;5;66;03m# Try to get an updated version of the receiving subkey.\u001b[39;00m\n\u001b[1;32m     31\u001b[0m     \u001b[38;5;28mprint\u001b[39m(\u001b[38;5;124mf\u001b[39m\u001b[38;5;124m\"\u001b[39m\u001b[38;5;124mreceiver:Getting the DHT value of \u001b[39m\u001b[38;5;132;01m{\u001b[39;00mkey\u001b[38;5;132;01m=}\u001b[39;00m\u001b[38;5;124m, \u001b[39m\u001b[38;5;132;01m{\u001b[39;00mrecv_subkey\u001b[38;5;132;01m=}\u001b[39;00m\u001b[38;5;124m\"\u001b[39m)\n\u001b[0;32m---> 32\u001b[0m     resp \u001b[38;5;241m=\u001b[39m \u001b[38;5;28;01mawait\u001b[39;00m router\u001b[38;5;241m.\u001b[39mget_dht_value(key, recv_subkey, \u001b[38;5;28;01mTrue\u001b[39;00m)\n\u001b[1;32m     33\u001b[0m     \u001b[38;5;28;01mif\u001b[39;00m resp \u001b[38;5;129;01mis\u001b[39;00m \u001b[38;5;28;01mNone\u001b[39;00m:\n\u001b[1;32m     34\u001b[0m         \u001b[38;5;28mprint\u001b[39m(\u001b[38;5;124m\"\u001b[39m\u001b[38;5;124mreceiver:Didn\u001b[39m\u001b[38;5;124m'\u001b[39m\u001b[38;5;124mt find a value\u001b[39m\u001b[38;5;124m\"\u001b[39m)\n",
      "File \u001b[0;32m~/dev/PySyft/.tox/syft.jupyter/lib/python3.11/site-packages/veilid/json_api.py:587\u001b[0m, in \u001b[0;36m_JsonRoutingContext.get_dht_value\u001b[0;34m(self, key, subkey, force_refresh)\u001b[0m\n\u001b[1;32m    583\u001b[0m \u001b[38;5;28;01masync\u001b[39;00m \u001b[38;5;28;01mdef\u001b[39;00m \u001b[38;5;21mget_dht_value\u001b[39m(\n\u001b[1;32m    584\u001b[0m     \u001b[38;5;28mself\u001b[39m, key: TypedKey, subkey: ValueSubkey, force_refresh: \u001b[38;5;28mbool\u001b[39m\n\u001b[1;32m    585\u001b[0m ) \u001b[38;5;241m-\u001b[39m\u001b[38;5;241m>\u001b[39m Optional[ValueData]:\n\u001b[1;32m    586\u001b[0m     ret \u001b[38;5;241m=\u001b[39m raise_api_result(\n\u001b[0;32m--> 587\u001b[0m         \u001b[38;5;28;01mawait\u001b[39;00m \u001b[38;5;28mself\u001b[39m\u001b[38;5;241m.\u001b[39mapi\u001b[38;5;241m.\u001b[39msend_ndjson_request(\n\u001b[1;32m    588\u001b[0m             Operation\u001b[38;5;241m.\u001b[39mROUTING_CONTEXT,\n\u001b[1;32m    589\u001b[0m             validate\u001b[38;5;241m=\u001b[39mvalidate_rc_op,\n\u001b[1;32m    590\u001b[0m             rc_id\u001b[38;5;241m=\u001b[39m\u001b[38;5;28mself\u001b[39m\u001b[38;5;241m.\u001b[39mrc_id,\n\u001b[1;32m    591\u001b[0m             rc_op\u001b[38;5;241m=\u001b[39mRoutingContextOperation\u001b[38;5;241m.\u001b[39mGET_DHT_VALUE,\n\u001b[1;32m    592\u001b[0m             key\u001b[38;5;241m=\u001b[39mkey,\n\u001b[1;32m    593\u001b[0m             subkey\u001b[38;5;241m=\u001b[39msubkey,\n\u001b[1;32m    594\u001b[0m             force_refresh\u001b[38;5;241m=\u001b[39mforce_refresh,\n\u001b[1;32m    595\u001b[0m         )\n\u001b[1;32m    596\u001b[0m     )\n\u001b[1;32m    597\u001b[0m     \u001b[38;5;28;01mreturn\u001b[39;00m \u001b[38;5;28;01mNone\u001b[39;00m \u001b[38;5;28;01mif\u001b[39;00m ret \u001b[38;5;129;01mis\u001b[39;00m \u001b[38;5;28;01mNone\u001b[39;00m \u001b[38;5;28;01melse\u001b[39;00m ValueData\u001b[38;5;241m.\u001b[39mfrom_json(ret)\n",
      "File \u001b[0;32m~/dev/PySyft/.tox/syft.jupyter/lib/python3.11/site-packages/veilid/json_api.py:269\u001b[0m, in \u001b[0;36m_JsonVeilidAPI.send_ndjson_request\u001b[0;34m(self, op, validate, **kwargs)\u001b[0m\n\u001b[1;32m    267\u001b[0m     \u001b[38;5;28;01mraise\u001b[39;00m \u001b[38;5;167;01mValueError\u001b[39;00m(\u001b[38;5;124m\"\u001b[39m\u001b[38;5;124mResponse op does not match request op\u001b[39m\u001b[38;5;124m\"\u001b[39m)\n\u001b[1;32m    268\u001b[0m \u001b[38;5;28;01mif\u001b[39;00m validate \u001b[38;5;129;01mis\u001b[39;00m \u001b[38;5;129;01mnot\u001b[39;00m \u001b[38;5;28;01mNone\u001b[39;00m:\n\u001b[0;32m--> 269\u001b[0m     \u001b[43mvalidate\u001b[49m\u001b[43m(\u001b[49m\u001b[43mreq\u001b[49m\u001b[43m,\u001b[49m\u001b[43m \u001b[49m\u001b[43mresponse\u001b[49m\u001b[43m)\u001b[49m\n\u001b[1;32m    271\u001b[0m \u001b[38;5;28;01mreturn\u001b[39;00m response\n",
      "File \u001b[0;32m~/dev/PySyft/.tox/syft.jupyter/lib/python3.11/site-packages/veilid/json_api.py:412\u001b[0m, in \u001b[0;36mvalidate_rc_op\u001b[0;34m(request, response)\u001b[0m\n\u001b[1;32m    410\u001b[0m \u001b[38;5;28;01mdef\u001b[39;00m \u001b[38;5;21mvalidate_rc_op\u001b[39m(request: \u001b[38;5;28mdict\u001b[39m, response: \u001b[38;5;28mdict\u001b[39m):\n\u001b[1;32m    411\u001b[0m     \u001b[38;5;28;01mif\u001b[39;00m response[\u001b[38;5;124m\"\u001b[39m\u001b[38;5;124mrc_op\u001b[39m\u001b[38;5;124m\"\u001b[39m] \u001b[38;5;241m!=\u001b[39m request[\u001b[38;5;124m\"\u001b[39m\u001b[38;5;124mrc_op\u001b[39m\u001b[38;5;124m\"\u001b[39m]:\n\u001b[0;32m--> 412\u001b[0m         \u001b[38;5;28;01mraise\u001b[39;00m \u001b[38;5;167;01mValueError\u001b[39;00m(\u001b[38;5;124m\"\u001b[39m\u001b[38;5;124mResponse rc_op does not match request rc_op\u001b[39m\u001b[38;5;124m\"\u001b[39m)\n",
      "\u001b[0;31mValueError\u001b[0m: Response rc_op does not match request rc_op"
     ]
    }
   ],
   "source": [
    "await receiver(router, crypto_system, key, secret, 0, name)"
   ]
  },
  {
   "cell_type": "code",
   "execution_count": null,
   "id": "4fbf15e3-f2dc-4670-aacf-4fee37672c83",
   "metadata": {},
   "outputs": [],
   "source": []
  },
  {
   "cell_type": "code",
   "execution_count": null,
   "id": "8e478b86-4ab8-4f20-af50-b8d669de8697",
   "metadata": {},
   "outputs": [],
   "source": []
  },
  {
   "cell_type": "code",
   "execution_count": null,
   "id": "e3e090c0-7058-4996-adeb-0f4f3962d084",
   "metadata": {},
   "outputs": [],
   "source": [
    "# if await config.load_self_key(conn):\n",
    "#     print(\"You already have a keypair.\")\n",
    "\n",
    "#     # print the keypair\n",
    "#     print(await dump_keystore(host, port))\n",
    "\n",
    "#     sys.exit(1)\n",
    "\n",
    "# LOG.debug(\"keygen:Getting a crypto system\")\n",
    "# crypto_system = await conn.get_crypto_system(veilid.CryptoKind.CRYPTO_KIND_VLD0)\n",
    "# async with crypto_system:\n",
    "#     LOG.debug(\"keygen:Generating a keypair\")\n",
    "#     my_keypair = await crypto_system.generate_key_pair()\n",
    "#     LOG.debug(f\"keygen:Got {my_keypair=}\")\n",
    "\n",
    "# await config.store_self_key(conn, my_keypair)\n",
    "\n",
    "# print(f\"Your new public key is: {my_keypair.key()}\")\n",
    "# print(\"Share it with your friends!\")"
   ]
  },
  {
   "cell_type": "code",
   "execution_count": null,
   "id": "61bbe160-2328-4ce0-9622-88db1ca594a8",
   "metadata": {},
   "outputs": [],
   "source": []
  },
  {
   "cell_type": "code",
   "execution_count": null,
   "id": "b9f05403-1b8d-437f-8ca8-8defaf4091c7",
   "metadata": {},
   "outputs": [],
   "source": [
    "# await config.store_friend_key(conn, name, veilid.PublicKey(pubkey))"
   ]
  },
  {
   "cell_type": "code",
   "execution_count": null,
   "id": "07680800-cb9a-4b65-8335-9f4b2ff3b6f8",
   "metadata": {},
   "outputs": [],
   "source": [
    "# poetry run chat add-friend MyFriend L0nGkEyStR1ng\n",
    "# async def store_friend_key(\n",
    "#     conn: veilid.json_api._JsonVeilidAPI, name: str, pubkey: veilid.PublicKey\n",
    "# ):\n",
    "#     \"\"\"Write a friend's public key to the keystore.\"\"\"\n",
    "\n",
    "#     await store_key(conn, f\"{FRIEND_PREFIX}{name}\", str(pubkey))"
   ]
  }
 ],
 "metadata": {
  "kernelspec": {
   "display_name": "Python 3 (ipykernel)",
   "language": "python",
   "name": "python3"
  },
  "language_info": {
   "codemirror_mode": {
    "name": "ipython",
    "version": 3
   },
   "file_extension": ".py",
   "mimetype": "text/x-python",
   "name": "python",
   "nbconvert_exporter": "python",
   "pygments_lexer": "ipython3",
   "version": "3.11.6"
  }
 },
 "nbformat": 4,
 "nbformat_minor": 5
}
