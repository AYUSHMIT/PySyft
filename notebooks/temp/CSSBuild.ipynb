{
 "cells": [
  {
   "cell_type": "code",
   "execution_count": 9,
   "id": "5d20d17f",
   "metadata": {},
   "outputs": [
    {
     "data": {
      "text/html": [
       "\n",
       "<style>\n",
       "  .header-1 {\n",
       "        font-style: normal;\n",
       "        font-weight: 600;\n",
       "        font-size: 2.0736em;\n",
       "        line-height: 140%;\n",
       "        leading-trim: both;\n",
       "        text-edge: cap;\n",
       "    }\n",
       "   .syft-dataset {{color: {SURFACE_DARK_BRIGHT};}}\n",
       "</style>\n",
       "<div class='syft-dataset'><h3 class='header-1'>Canada Trade Value</h3><p>Canada Trade Data</p><p><strong>Uploaded by: </strong>Andrew Trask</p><p><strong>Created on: </strong>2023-06-09 01:58:09</p><p><strong>URL: </strong><a href=\"https://github.com/OpenMined/datasets/tree/main/trade_flow\">https://github.com/OpenMined/datasets/tree/main/trade_flow</a></p><p><strong>Contributors: </strong> to see full details call dataset.contributors</p>\n",
       "                <style>\n",
       "                .collection-header {color: #464158;}\n",
       "                </style>\n",
       "                <div class='collection-header'>\n",
       "                    <h3>Asset List</h3>\n",
       "                </div>\n",
       "                <br>\n",
       "                <style>\n",
       ".itables table {\n",
       "    margin: 0 auto;\n",
       "    float: left;\n",
       "    color: #534F64;\n",
       "}\n",
       ".itables table th {color: #2E2B3B;}\n",
       "</style>\n",
       "<div class=\"itables\">\n",
       "<table id=\"d3d43451-5e64-4e1c-9be8-d373ecfeef25\" class=\"display nowrap\"style=\"table-layout:auto;width:auto;margin:auto;caption-side:bottom\"><thead>\n",
       "    <tr style=\"text-align: right;\">\n",
       "      \n",
       "      <th>id</th>\n",
       "      <th>name</th>\n",
       "      <th>shape</th>\n",
       "    </tr>\n",
       "  </thead><tbody><tr><td>Loading... (need <a href=https://mwouts.github.io/itables/troubleshooting.html>help</a>?)</td></tr></tbody></table>\n",
       "<link rel=\"stylesheet\" type=\"text/css\" href=\"https://cdn.datatables.net/1.13.1/css/jquery.dataTables.min.css\">\n",
       "<script type=\"module\">\n",
       "    // Import jquery and DataTable\n",
       "    import 'https://code.jquery.com/jquery-3.6.0.min.js';\n",
       "    import dt from 'https://cdn.datatables.net/1.12.1/js/jquery.dataTables.mjs';\n",
       "    dt($);\n",
       "\n",
       "    // Define the table data\n",
       "    const data = [[\"3732...591\", \"canada_trade_flow\", \"(10, 22)\"]];\n",
       "\n",
       "    // Define the dt_args\n",
       "    let dt_args = {\"order\": [], \"dom\": \"t\"};\n",
       "    dt_args[\"data\"] = data;\n",
       "\n",
       "    $(document).ready(function () {\n",
       "        \n",
       "        $('#d3d43451-5e64-4e1c-9be8-d373ecfeef25').DataTable(dt_args);\n",
       "    });\n",
       "</script>\n",
       "</div>\n",
       "</div>"
      ],
      "text/markdown": [
       "Syft Dataset: Canada Trade Value\n",
       "\n",
       "Assets:\n",
       "\n",
       "\tcanada_trade_flow: all the datas\n",
       "\n",
       "Citation: Person, place or thing\n",
       "\n",
       "URL: https://github.com/OpenMined/datasets/tree/main/trade_flow\n",
       "\n",
       "Description: \n",
       "\n",
       "Canada Trade Data\n",
       "\n"
      ],
      "text/plain": [
       "syft.service.dataset.dataset.Dataset"
      ]
     },
     "execution_count": 9,
     "metadata": {},
     "output_type": "execute_result"
    }
   ],
   "source": [
    "import syft as sy\n",
    "from syft.service.dataset.dataset import Dataset\n",
    "from syft.types.syft_object import SURFACE_DARK_BRIGHT\n",
    "\n",
    "CSS_CODE = '''\n",
    "<style>\n",
    "  .header-1 {\n",
    "        font-style: normal;\n",
    "        font-weight: 600;\n",
    "        font-size: 2.0736em;\n",
    "        line-height: 140%;\n",
    "        leading-trim: both;\n",
    "        text-edge: cap;\n",
    "    }\n",
    "   .syft-dataset {{color: {SURFACE_DARK_BRIGHT};}}\n",
    "</style>\n",
    "'''\n",
    "\n",
    "def new_repr(self):\n",
    "        uploaded_by_line = \"\"\n",
    "        if len(self.contributors) > 0:\n",
    "            uploaded_by_line = (\n",
    "                f\"<p><strong>Uploaded by: </strong>{self.contributors[0].name}</p>\"\n",
    "            )\n",
    "        return (\n",
    "            CSS_CODE\n",
    "            + \"<div class='syft-dataset'>\"\n",
    "            + f\"<h3 class='header-1'>{self.name}</h3>\"\n",
    "            + f\"<p>{self.description}</p>\"\n",
    "            + uploaded_by_line\n",
    "            + f\"<p><strong>Created on: </strong>{self.created_at}</p>\"\n",
    "            + f'<p><strong>URL: </strong><a href=\"{self.url}\">{self.url}</a></p>'\n",
    "            + \"<p><strong>Contributors: </strong> to see full details call dataset.contributors</p>\"\n",
    "            + self.asset_list._repr_html_()\n",
    "            + \"</div>\"\n",
    "        )\n",
    "\n",
    "Dataset._repr_html_ = new_repr\n",
    "client.datasets[0]"
   ]
  },
  {
   "cell_type": "code",
   "execution_count": 6,
   "id": "4ea3e8e4",
   "metadata": {},
   "outputs": [
    {
     "name": "stdout",
     "output_type": "stream",
     "text": [
      "Starting test-domain-1 server on 0.0.0.0:8155\n",
      "\n",
      "WARNING: private key is based on node name: test-domain-1 in dev_mode. Don't run this in production.\n",
      "SQLite Store Path:\n",
      "!open file:///tmp/7bca415d13ed4ec881f0d0aede098dbb.sqlite\n",
      "\n"
     ]
    },
    {
     "name": "stderr",
     "output_type": "stream",
     "text": [
      "INFO:     Started server process [3018]\n",
      "INFO:     Waiting for application startup.\n",
      "INFO:     Application startup complete.\n",
      "INFO:     Uvicorn running on http://0.0.0.0:8155 (Press CTRL+C to quit)\n"
     ]
    },
    {
     "name": "stdout",
     "output_type": "stream",
     "text": [
      "INFO:     127.0.0.1:51358 - \"GET /api/v2/metadata HTTP/1.1\" 200 OK\n",
      "INFO:     127.0.0.1:51368 - \"GET /api/v2/metadata HTTP/1.1\" 200 OK\n",
      "Waiting for server to start Done.\n",
      "INFO:     127.0.0.1:51368 - \"POST /api/v2/login HTTP/1.1\" 200 OK\n",
      "INFO:     127.0.0.1:51368 - \"GET /api/v2/api?verify_key=aec6ea4dfc049ceacaeeebc493167a88a200ddc367b1fa32da652444b635d21f HTTP/1.1\" 200 OK\n",
      "INFO:     127.0.0.1:56516 - \"POST /api/v2/api_call HTTP/1.1\" 200 OK\n",
      "INFO:     127.0.0.1:44876 - \"POST /api/v2/api_call HTTP/1.1\" 200 OK\n",
      "INFO:     127.0.0.1:49734 - \"POST /api/v2/api_call HTTP/1.1\" 200 OK\n"
     ]
    }
   ],
   "source": [
    "class MockClient:\n",
    "    \n",
    "    def __init__(self):\n",
    "        self.node = sy.orchestra.launch(name=\"test-domain-1\", port=\"auto\", dev_mode=True)\n",
    "        self.domain_client = self.node.login(email=\"info@openmined.org\", password=\"changethis\")\n",
    "        \n",
    "    def login(self, url: str, email: str, password: str):\n",
    "        pass\n",
    "    \n",
    "    @property\n",
    "    def users(self):\n",
    "        pass\n",
    "    \n",
    "    @property\n",
    "    def datasets(self):\n",
    "        return self.domain_client.datasets\n",
    "    \n",
    "    @property\n",
    "    def codes(self):\n",
    "        pass\n",
    "\n",
    "    @property\n",
    "    def projects(self):\n",
    "        pass\n",
    "    \n",
    "    @property\n",
    "    def notifications(self):\n",
    "        pass\n",
    "\n",
    "client = MockClient()"
   ]
  },
  {
   "cell_type": "code",
   "execution_count": null,
   "id": "1b355263",
   "metadata": {},
   "outputs": [],
   "source": []
  },
  {
   "cell_type": "code",
   "execution_count": null,
   "id": "e859480e",
   "metadata": {},
   "outputs": [],
   "source": []
  },
  {
   "cell_type": "code",
   "execution_count": null,
   "id": "640cbded",
   "metadata": {},
   "outputs": [],
   "source": []
  },
  {
   "cell_type": "code",
   "execution_count": null,
   "id": "0cd811e8",
   "metadata": {},
   "outputs": [],
   "source": [
    "client.codes"
   ]
  },
  {
   "cell_type": "code",
   "execution_count": null,
   "id": "3195c1aa",
   "metadata": {},
   "outputs": [],
   "source": [
    "client.projects"
   ]
  },
  {
   "cell_type": "code",
   "execution_count": null,
   "id": "eff578b9",
   "metadata": {},
   "outputs": [],
   "source": [
    "client.notifications"
   ]
  }
 ],
 "metadata": {
  "kernelspec": {
   "display_name": "Python 3 (ipykernel)",
   "language": "python",
   "name": "python3"
  },
  "language_info": {
   "codemirror_mode": {
    "name": "ipython",
    "version": 3
   },
   "file_extension": ".py",
   "mimetype": "text/x-python",
   "name": "python",
   "nbconvert_exporter": "python",
   "pygments_lexer": "ipython3",
   "version": "3.10.8"
  }
 },
 "nbformat": 4,
 "nbformat_minor": 5
}
