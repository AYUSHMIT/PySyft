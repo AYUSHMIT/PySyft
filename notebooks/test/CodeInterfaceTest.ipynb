{
 "cells": [
  {
   "cell_type": "code",
   "execution_count": 1,
   "metadata": {},
   "outputs": [
    {
     "name": "stderr",
     "output_type": "stream",
     "text": [
      "kj/filesystem-disk-unix.c++:1703: warning: PWD environment variable doesn't match current directory; pwd = /\n"
     ]
    },
    {
     "name": "stdout",
     "output_type": "stream",
     "text": [
      "✅ The installed version of syft==0.8.2b3 matches the requirement >=0.8.2b0 and the requirement <0.9\n"
     ]
    }
   ],
   "source": [
    "SYFT_VERSION = \">=0.8.2.b0,<0.9\"\n",
    "package_string = f'\"syft{SYFT_VERSION}\"'\n",
    "# %pip install {package_string} -f https://whls.blob.core.windows.net/unstable/index.html\n",
    "\n",
    "import syft as sy\n",
    "sy.requires(SYFT_VERSION)"
   ]
  },
  {
   "cell_type": "code",
   "execution_count": 2,
   "metadata": {},
   "outputs": [
    {
     "name": "stdout",
     "output_type": "stream",
     "text": [
      "Starting code-interface-test-domain server on 0.0.0.0:8041\n"
     ]
    }
   ],
   "source": [
    "node = sy.orchestra.launch(name=\"code-interface-test-domain\", port=8041, reset=True , dev_mode=True)\n",
    "client = node.client\n",
    "client.register(name=\"Jane Doe\", email=\"jane@caltech.edu\", password=\"abc123\", institution=\"Caltech\", website=\"https://www.caltech.edu/\")\n",
    "\n",
    "client.login(email=\"info@openmined.org\", password=\"changethis\")"
   ]
  },
  {
   "cell_type": "code",
   "execution_count": null,
   "metadata": {},
   "outputs": [
    {
     "name": "stdout",
     "output_type": "stream",
     "text": [
      "Syft function 'test_func' successfully created. To add a code request, please create a project using `project = syft.Project(...)`, then use command `project.create_code_request`.\n"
     ]
    },
    {
     "data": {
      "text/plain": [
       "True"
      ]
     },
     "execution_count": 3,
     "metadata": {},
     "output_type": "execute_result"
    }
   ],
   "source": [
    "# DS: Create function to submit to DO\n",
    "@sy.syft_function(input_policy=sy.ExactMatch(),\n",
    "                  output_policy=sy.SingleExecutionExactOutput())\n",
    "def test_func():\n",
    "    return True\n",
    "test_func()"
   ]
  },
  {
   "cell_type": "code",
   "execution_count": null,
   "metadata": {},
   "outputs": [],
   "source": []
  },
  {
   "attachments": {},
   "cell_type": "markdown",
   "metadata": {},
   "source": [
    "### Code Interface Function Tests"
   ]
  },
  {
   "cell_type": "code",
   "execution_count": null,
   "metadata": {},
   "outputs": [],
   "source": [
    "# @service_method(path=\"user.create\", name=\"create\")\n",
    "#     def create(\n",
    "#         self, context: AuthedServiceContext, user_create: UserCreate\n",
    "#     ) -> Union[UserView, SyftError]:\n",
    "\n",
    "# @service_method(\n",
    "#         path=\"code_interface.submit\", name=\"submit_code_version\") #, roles=GUEST_ROLE_LEVEL)\n",
    "#     def submit_code_version(\n",
    "#         self, context: AuthedServiceContext, code: UserCode\n",
    "#     ) -> Union[SyftSuccess, SyftError]:"
   ]
  },
  {
   "cell_type": "code",
   "execution_count": null,
   "metadata": {},
   "outputs": [
    {
     "name": "stdout",
     "output_type": "stream",
     "text": [
      "SERVICE:  user\n",
      "HAS ATTRIBUTE:  True\n"
     ]
    },
    {
     "data": {
      "text/html": [
       "[&#x27;__annotations__&#x27;, &#x27;__class__&#x27;, &#x27;__delattr__&#x27;, &#x27;__dict__&#x27;, &#x27;__dir__&#x27;, &#x27;__doc__&#x27;, &#x27;__eq__&#x27;, &#x27;__format__&#x27;, &#x27;__ge__&#x27;, &#x27;__getattribute__&#x27;, &#x27;__getitem__&#x27;, &#x27;__gt__&#x27;, &#x27;__hash__&#x27;, &#x27;__init__&#x27;, &#x27;__init_subclass__&#x27;, &#x27;__le__&#x27;, &#x27;__lt__&#x27;, &#x27;__module__&#x27;, &#x27;__ne__&#x27;, &#x27;__new__&#x27;, &#x27;__reduce__&#x27;, &#x27;__reduce_ex__&#x27;, &#x27;__repr__&#x27;, &#x27;__setattr__&#x27;, &#x27;__sizeof__&#x27;, &#x27;__str__&#x27;, &#x27;__subclasshook__&#x27;, &#x27;__weakref__&#x27;, &#x27;_add_submodule&#x27;, &#x27;_modules&#x27;, &#x27;_repr_html_&#x27;, &#x27;create&#x27;, &#x27;delete&#x27;, &#x27;get_all&#x27;, &#x27;path&#x27;, &#x27;search&#x27;, &#x27;update&#x27;, &#x27;view&#x27;]"
      ],
      "text/plain": [
       "['__annotations__',\n",
       " '__class__',\n",
       " '__delattr__',\n",
       " '__dict__',\n",
       " '__dir__',\n",
       " '__doc__',\n",
       " '__eq__',\n",
       " '__format__',\n",
       " '__ge__',\n",
       " '__getattribute__',\n",
       " '__getitem__',\n",
       " '__gt__',\n",
       " '__hash__',\n",
       " '__init__',\n",
       " '__init_subclass__',\n",
       " '__le__',\n",
       " '__lt__',\n",
       " '__module__',\n",
       " '__ne__',\n",
       " '__new__',\n",
       " '__reduce__',\n",
       " '__reduce_ex__',\n",
       " '__repr__',\n",
       " '__setattr__',\n",
       " '__sizeof__',\n",
       " '__str__',\n",
       " '__subclasshook__',\n",
       " '__weakref__',\n",
       " '_add_submodule',\n",
       " '_modules',\n",
       " '_repr_html_',\n",
       " 'create',\n",
       " 'delete',\n",
       " 'get_all',\n",
       " 'path',\n",
       " 'search',\n",
       " 'update',\n",
       " 'view']"
      ]
     },
     "execution_count": 5,
     "metadata": {},
     "output_type": "execute_result"
    }
   ],
   "source": [
    "dir(client.users)"
   ]
  },
  {
   "cell_type": "code",
   "execution_count": null,
   "metadata": {},
   "outputs": [
    {
     "data": {
      "text/plain": [
       "<syft.client.api.APIModule at 0x163fe7520>"
      ]
     },
     "execution_count": 6,
     "metadata": {},
     "output_type": "execute_result"
    }
   ],
   "source": [
    "client.api.services.code_interface"
   ]
  },
  {
   "cell_type": "code",
   "execution_count": null,
   "metadata": {},
   "outputs": [
    {
     "name": "stdout",
     "output_type": "stream",
     "text": [
      "SERVICE:  code_interface\n",
      "HAS ATTRIBUTE:  True\n",
      "ENTERS HERE\n"
     ]
    },
    {
     "data": {
      "text/html": [
       "[&#x27;__annotations__&#x27;, &#x27;__class__&#x27;, &#x27;__delattr__&#x27;, &#x27;__dict__&#x27;, &#x27;__dir__&#x27;, &#x27;__doc__&#x27;, &#x27;__eq__&#x27;, &#x27;__format__&#x27;, &#x27;__ge__&#x27;, &#x27;__getattribute__&#x27;, &#x27;__getitem__&#x27;, &#x27;__gt__&#x27;, &#x27;__hash__&#x27;, &#x27;__init__&#x27;, &#x27;__init_subclass__&#x27;, &#x27;__le__&#x27;, &#x27;__lt__&#x27;, &#x27;__module__&#x27;, &#x27;__ne__&#x27;, &#x27;__new__&#x27;, &#x27;__reduce__&#x27;, &#x27;__reduce_ex__&#x27;, &#x27;__repr__&#x27;, &#x27;__setattr__&#x27;, &#x27;__sizeof__&#x27;, &#x27;__str__&#x27;, &#x27;__subclasshook__&#x27;, &#x27;__weakref__&#x27;, &#x27;_add_submodule&#x27;, &#x27;_modules&#x27;, &#x27;_repr_html_&#x27;, &#x27;path&#x27;, &#x27;submit_version&#x27;]"
      ],
      "text/plain": [
       "['__annotations__',\n",
       " '__class__',\n",
       " '__delattr__',\n",
       " '__dict__',\n",
       " '__dir__',\n",
       " '__doc__',\n",
       " '__eq__',\n",
       " '__format__',\n",
       " '__ge__',\n",
       " '__getattribute__',\n",
       " '__getitem__',\n",
       " '__gt__',\n",
       " '__hash__',\n",
       " '__init__',\n",
       " '__init_subclass__',\n",
       " '__le__',\n",
       " '__lt__',\n",
       " '__module__',\n",
       " '__ne__',\n",
       " '__new__',\n",
       " '__reduce__',\n",
       " '__reduce_ex__',\n",
       " '__repr__',\n",
       " '__setattr__',\n",
       " '__sizeof__',\n",
       " '__str__',\n",
       " '__subclasshook__',\n",
       " '__weakref__',\n",
       " '_add_submodule',\n",
       " '_modules',\n",
       " '_repr_html_',\n",
       " 'path',\n",
       " 'submit_version']"
      ]
     },
     "execution_count": 7,
     "metadata": {},
     "output_type": "execute_result"
    }
   ],
   "source": [
    "dir(client.code_interface)"
   ]
  },
  {
   "cell_type": "code",
   "execution_count": null,
   "metadata": {},
   "outputs": [
    {
     "name": "stdout",
     "output_type": "stream",
     "text": [
      "SERVICE:  code_interface\n",
      "HAS ATTRIBUTE:  True\n",
      "ENTERS HERE\n",
      "INFO:     127.0.0.1:63490 - \"POST /api/v2/api_call HTTP/1.1\" 200 OK\n"
     ]
    },
    {
     "data": {
      "text/html": [
       "<div class=\"alert-danger\" style=\"padding:5px;\"><strong>SyftError</strong>: Exception calling code_interface.submit_version. Traceback (most recent call last):\n",
       "  File \"/Users/ivolinengong/Documents/Research/OpenMined/PySyft/packages/syft/src/syft/node/node.py\", line 672, in handle_api_call_with_unsigned_result\n",
       "    result = method(context, *api_call.args, **api_call.kwargs)\n",
       "  File \"/Users/ivolinengong/Documents/Research/OpenMined/PySyft/packages/syft/src/syft/service/service.py\", line 335, in _decorator\n",
       "    result = func(self, *args, **kwargs)\n",
       "  File \"/Users/ivolinengong/Documents/Research/OpenMined/PySyft/packages/syft/src/syft/service/code_interface/code_interface_service.py\", line 56, in submit_version\n",
       "    code_interface.add_code(code=code)\n",
       "  File \"/Users/ivolinengong/Documents/Research/OpenMined/PySyft/packages/syft/src/syft/service/code_interface/code_interface.py\", line 29, in add_code\n",
       "    if code.service_func_name in self.user_code_mapping:\n",
       "TypeError: argument of type 'NoneType' is not iterable\n",
       "</div><br />"
      ],
      "text/plain": [
       "<class 'syft.service.response.SyftError'>: Exception calling code_interface.submit_version. Traceback (most recent call last):\n",
       "  File \"/Users/ivolinengong/Documents/Research/OpenMined/PySyft/packages/syft/src/syft/node/node.py\", line 672, in handle_api_call_with_unsigned_result\n",
       "    result = method(context, *api_call.args, **api_call.kwargs)\n",
       "  File \"/Users/ivolinengong/Documents/Research/OpenMined/PySyft/packages/syft/src/syft/service/service.py\", line 335, in _decorator\n",
       "    result = func(self, *args, **kwargs)\n",
       "  File \"/Users/ivolinengong/Documents/Research/OpenMined/PySyft/packages/syft/src/syft/service/code_interface/code_interface_service.py\", line 56, in submit_version\n",
       "    code_interface.add_code(code=code)\n",
       "  File \"/Users/ivolinengong/Documents/Research/OpenMined/PySyft/packages/syft/src/syft/service/code_interface/code_interface.py\", line 29, in add_code\n",
       "    if code.service_func_name in self.user_code_mapping:\n",
       "TypeError: argument of type 'NoneType' is not iterable"
      ]
     },
     "execution_count": 8,
     "metadata": {},
     "output_type": "execute_result"
    }
   ],
   "source": [
    "# from syft.service.user.user import UserUpdate, UserCreate, ServiceRole\n",
    "\n",
    "from syft.service.code_interface.code_interface import CodeInterface\n",
    "# Add new code \n",
    "client.code_interface.submit_version(test_func)\n",
    "\n",
    "# client.users.create(UserCreate(email=\"newuser@openmined.org\", name=\"John Doe\", password=\"pw\"))\n",
    "# # Get all code versions \n",
    "# users = client.users\n",
    "\n"
   ]
  },
  {
   "cell_type": "code",
   "execution_count": null,
   "metadata": {},
   "outputs": [],
   "source": []
  }
 ],
 "metadata": {
  "kernelspec": {
   "display_name": ".venv",
   "language": "python",
   "name": "python3"
  },
  "language_info": {
   "codemirror_mode": {
    "name": "ipython",
    "version": 3
   },
   "file_extension": ".py",
   "mimetype": "text/x-python",
   "name": "python",
   "nbconvert_exporter": "python",
   "pygments_lexer": "ipython3",
   "version": "3.10.10"
  },
  "orig_nbformat": 4
 },
 "nbformat": 4,
 "nbformat_minor": 2
}
