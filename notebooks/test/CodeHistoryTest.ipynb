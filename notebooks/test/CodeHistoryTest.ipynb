{
 "cells": [
  {
   "cell_type": "code",
   "execution_count": 1,
   "metadata": {},
   "outputs": [
    {
     "name": "stderr",
     "output_type": "stream",
     "text": [
      "kj/filesystem-disk-unix.c++:1703: warning: PWD environment variable doesn't match current directory; pwd = /\n"
     ]
    },
    {
     "name": "stdout",
     "output_type": "stream",
     "text": [
      "✅ The installed version of syft==0.8.2b3 matches the requirement >=0.8.2b0 and the requirement <0.9\n"
     ]
    }
   ],
   "source": [
    "SYFT_VERSION = \">=0.8.2.b0,<0.9\"\n",
    "package_string = f'\"syft{SYFT_VERSION}\"'\n",
    "# %pip install {package_string} -f https://whls.blob.core.windows.net/unstable/index.html\n",
    "\n",
    "import syft as sy\n",
    "sy.requires(SYFT_VERSION)"
   ]
  },
  {
   "cell_type": "code",
   "execution_count": 2,
   "metadata": {},
   "outputs": [
    {
     "name": "stdout",
     "output_type": "stream",
     "text": [
      "Starting code-history-test-domain server on 0.0.0.0:8041\n"
     ]
    },
    {
     "name": "stderr",
     "output_type": "stream",
     "text": [
      "kj/filesystem-disk-unix.c++:1703: warning: PWD environment variable doesn't match current directory; pwd = /\n"
     ]
    },
    {
     "name": "stdout",
     "output_type": "stream",
     "text": [
      "Waiting for server to start\n",
      "WARNING: private key is based on node name: code-history-test-domain in dev_mode. Don't run this in production.\n",
      "SQLite Store Path:\n",
      "!open file:///var/folders/79/0t1vmtq92cb82c47x_vmxgj40000gn/T/c962c609268a4e15bb4e49fdff1c935d.sqlite\n",
      "\n"
     ]
    },
    {
     "name": "stderr",
     "output_type": "stream",
     "text": [
      "INFO:     Started server process [12065]\n",
      "INFO:     Waiting for application startup.\n",
      "INFO:     Application startup complete.\n",
      "INFO:     Uvicorn running on http://0.0.0.0:8041 (Press CTRL+C to quit)\n"
     ]
    },
    {
     "name": "stdout",
     "output_type": "stream",
     "text": [
      ".INFO:     127.0.0.1:61949 - \"GET /api/v2/metadata HTTP/1.1\" 200 OK\n",
      " Done.\n",
      "INFO:     127.0.0.1:61950 - \"GET /api/v2/metadata HTTP/1.1\" 200 OK\n",
      "INFO:     127.0.0.1:61950 - \"GET /api/v2/metadata HTTP/1.1\" 200 OK\n",
      "INFO:     127.0.0.1:61951 - \"GET /api/v2/metadata HTTP/1.1\" 200 OK\n",
      "INFO:     127.0.0.1:61951 - \"GET /api/v2/metadata HTTP/1.1\" 200 OK\n",
      "INFO:     127.0.0.1:61951 - \"POST /api/v2/login HTTP/1.1\" 200 OK\n",
      "INFO:     127.0.0.1:61951 - \"GET /api/v2/api?verify_key=1939d2fe63a1fce55dd84f3493c2355e883c490ef68224484fd88002e62d9462 HTTP/1.1\" 200 OK\n",
      "Logged into code-history-test-domain as <info@openmined.org>\n"
     ]
    }
   ],
   "source": [
    "from syft.service.user.user import UserCreate\n",
    "\n",
    "node = sy.orchestra.launch(name=\"code-history-test-domain\", port=8041, reset=True , dev_mode=True)\n",
    "client = node.client\n",
    "admin_client = sy.login(email=\"info@openmined.org\", password=\"changethis\", port=8041)\n"
   ]
  },
  {
   "cell_type": "code",
   "execution_count": 3,
   "metadata": {},
   "outputs": [
    {
     "name": "stdout",
     "output_type": "stream",
     "text": [
      "INFO:     127.0.0.1:61952 - \"POST /api/v2/api_call HTTP/1.1\" 200 OK\n",
      "INFO:     127.0.0.1:61953 - \"POST /api/v2/api_call HTTP/1.1\" 200 OK\n"
     ]
    },
    {
     "data": {
      "text/markdown": [
       "```python\n",
       "class UserView:\n",
       "  id: str = 7e21a0543870422ea7a0e728f96d9fc2\n",
       "  name: str = \"Joe Doe\"\n",
       "  email: str = \"joe@caltech.edu\"\n",
       "  institute: str = \"<Missing>\"\n",
       "  website: str = \"https://www.caltech.edu/\"\n",
       "  role: str = ServiceRole.DATA_SCIENTIST\n",
       "\n",
       "```"
      ],
      "text/plain": [
       "syft.service.user.user.UserView"
      ]
     },
     "execution_count": 3,
     "metadata": {},
     "output_type": "execute_result"
    }
   ],
   "source": [
    "admin_client.users.create(UserCreate(name=\"Janet Doe\", email=\"janet@caltech.edu\", password=\"abc123\", institution=\"Caltech\", website=\"https://www.caltech.edu/\"))\n",
    "admin_client.users.create(UserCreate(name=\"Joe Doe\", email=\"joe@caltech.edu\", password=\"abc123\", institution=\"Caltech\", website=\"https://www.caltech.edu/\"))\n",
    "\n",
    "# client.register(name=\"Janet Doe\", email=\"janet@caltech.edu\", password=\"abc123\", institution=\"Caltech\", website=\"https://www.caltech.edu/\")\n",
    "# client.register(name=\"Joe Doe\", email=\"joe@caltech.edu\", password=\"abc123\", institution=\"Caltech\", website=\"https://www.caltech.edu/\")\n"
   ]
  },
  {
   "cell_type": "code",
   "execution_count": 4,
   "metadata": {},
   "outputs": [
    {
     "name": "stdout",
     "output_type": "stream",
     "text": [
      "INFO:     127.0.0.1:61954 - \"GET /api/v2/metadata HTTP/1.1\" 200 OK\n",
      "INFO:     127.0.0.1:61954 - \"GET /api/v2/metadata HTTP/1.1\" 200 OK\n",
      "INFO:     127.0.0.1:61954 - \"POST /api/v2/login HTTP/1.1\" 200 OK\n",
      "INFO:     127.0.0.1:61954 - \"GET /api/v2/api?verify_key=cfa5a3a82b18782abb65c253db9a149f420f5e1d7f46f8b7515242549e50032e HTTP/1.1\" 200 OK\n",
      "Logged into code-history-test-domain as <janet@caltech.edu>\n",
      "INFO:     127.0.0.1:61955 - \"GET /api/v2/metadata HTTP/1.1\" 200 OK\n",
      "INFO:     127.0.0.1:61955 - \"GET /api/v2/metadata HTTP/1.1\" 200 OK\n",
      "INFO:     127.0.0.1:61955 - \"POST /api/v2/login HTTP/1.1\" 200 OK\n",
      "INFO:     127.0.0.1:61955 - \"GET /api/v2/api?verify_key=07b0c34a9f44d34d5cdbe051a6633a15be35a98b8f01d034bd2d1b27fabf8934 HTTP/1.1\" 200 OK\n",
      "Logged into code-history-test-domain as <joe@caltech.edu>\n"
     ]
    }
   ],
   "source": [
    "janet_client = sy.login(email=\"janet@caltech.edu\", password=\"abc123\", port=8041)\n",
    "joe_client = sy.login(email=\"joe@caltech.edu\", password=\"abc123\", port=8041)"
   ]
  },
  {
   "cell_type": "code",
   "execution_count": 5,
   "metadata": {},
   "outputs": [
    {
     "data": {
      "text/plain": [
       "<UID: c962c609268a4e15bb4e49fdff1c935d>"
      ]
     },
     "execution_count": 5,
     "metadata": {},
     "output_type": "execute_result"
    }
   ],
   "source": [
    "admin_client.id"
   ]
  },
  {
   "cell_type": "code",
   "execution_count": 6,
   "metadata": {},
   "outputs": [
    {
     "data": {
      "text/plain": [
       "<UID: c962c609268a4e15bb4e49fdff1c935d>"
      ]
     },
     "execution_count": 6,
     "metadata": {},
     "output_type": "execute_result"
    }
   ],
   "source": [
    "janet_client.id"
   ]
  },
  {
   "cell_type": "code",
   "execution_count": 7,
   "metadata": {},
   "outputs": [
    {
     "data": {
      "text/plain": [
       "<UID: c962c609268a4e15bb4e49fdff1c935d>"
      ]
     },
     "execution_count": 7,
     "metadata": {},
     "output_type": "execute_result"
    }
   ],
   "source": [
    "joe_client.id"
   ]
  },
  {
   "cell_type": "code",
   "execution_count": 8,
   "metadata": {},
   "outputs": [
    {
     "name": "stdout",
     "output_type": "stream",
     "text": [
      "Syft function 'test_func' successfully created. To add a code request, please create a project using `project = syft.Project(...)`, then use command `project.create_code_request`.\n"
     ]
    },
    {
     "data": {
      "text/plain": [
       "True"
      ]
     },
     "execution_count": 8,
     "metadata": {},
     "output_type": "execute_result"
    }
   ],
   "source": [
    "# DS: Create function to submit to DO\n",
    "@sy.syft_function(input_policy=sy.ExactMatch(),\n",
    "                  output_policy=sy.SingleExecutionExactOutput())\n",
    "def test_func():\n",
    "    return True\n",
    "test_func()"
   ]
  },
  {
   "cell_type": "code",
   "execution_count": 9,
   "metadata": {},
   "outputs": [
    {
     "name": "stdout",
     "output_type": "stream",
     "text": [
      "INFO:     127.0.0.1:61956 - \"POST /api/v2/api_call HTTP/1.1\" 200 OK\n"
     ]
    },
    {
     "data": {
      "text/markdown": [
       "```python\n",
       "class User:\n",
       "  id: str = c1a10ca612934963b558eb5bcc2b0279\n",
       "  name: str = \"Janet Doe\"\n",
       "  email: str = \"janet@caltech.edu\"\n",
       "\n",
       "```"
      ],
      "text/plain": [
       "syft.service.user.user.User"
      ]
     },
     "execution_count": 9,
     "metadata": {},
     "output_type": "execute_result"
    }
   ],
   "source": [
    "janet_client.api.services.user.current_user()"
   ]
  },
  {
   "attachments": {},
   "cell_type": "markdown",
   "metadata": {},
   "source": [
    "### Code History Function Tests"
   ]
  },
  {
   "cell_type": "code",
   "execution_count": 10,
   "metadata": {},
   "outputs": [
    {
     "name": "stdout",
     "output_type": "stream",
     "text": [
      "INFO:     127.0.0.1:61957 - \"POST /api/v2/api_call HTTP/1.1\" 200 OK\n"
     ]
    },
    {
     "data": {
      "text/html": [
       "<div class=\"alert-success\" style=\"padding:5px;\"><strong>SyftSuccess</strong>: Code version submit success</div><br />"
      ],
      "text/plain": [
       "<class 'syft.service.response.SyftSuccess'>: Code version submit success"
      ]
     },
     "execution_count": 10,
     "metadata": {},
     "output_type": "execute_result"
    }
   ],
   "source": [
    "# Add new code \n",
    "janet_client.api.services.code_history.submit_version(test_func, \"Changed function to return True for all cases because...\")"
   ]
  },
  {
   "cell_type": "code",
   "execution_count": 11,
   "metadata": {},
   "outputs": [
    {
     "name": "stdout",
     "output_type": "stream",
     "text": [
      "INFO:     127.0.0.1:61958 - \"POST /api/v2/api_call HTTP/1.1\" 200 OK\n"
     ]
    },
    {
     "data": {
      "text/markdown": [
       "```python\n",
       "class CodeHistory:\n",
       "  id: str = e27c3aeaf0404658ba9247d3bae3d39c\n",
       "\n",
       "```"
      ],
      "text/plain": [
       "syft.service.code_history.code_history.CodeHistory"
      ]
     },
     "execution_count": 11,
     "metadata": {},
     "output_type": "execute_result"
    }
   ],
   "source": [
    "janet_client.api.services.code_history[0]"
   ]
  },
  {
   "cell_type": "code",
   "execution_count": 21,
   "metadata": {},
   "outputs": [
    {
     "name": "stdout",
     "output_type": "stream",
     "text": [
      "INFO:     127.0.0.1:61981 - \"POST /api/v2/api_call HTTP/1.1\" 200 OK\n"
     ]
    },
    {
     "data": {
      "text/markdown": [
       "```python\n",
       "class UserCode\n",
       "    id: str = a29ff33bc1784a73b577dc37d38912f4\n",
       "    status.approved: str = False\n",
       "    service_func_name: str = test_func\n",
       "    code:\n",
       "\n",
       "@sy.syft_function(input_policy=sy.ExactMatch(),\n",
       "                  output_policy=sy.SingleExecutionExactOutput())\n",
       "def test_func():\n",
       "    return True\n",
       "\n",
       "```"
      ],
      "text/plain": [
       "syft.service.code.user_code.UserCode"
      ]
     },
     "execution_count": 21,
     "metadata": {},
     "output_type": "execute_result"
    }
   ],
   "source": [
    "# print((janet_client.code_history['test_func'])[0])\n",
    "janet_client.code_history['test_func'][0]"
   ]
  },
  {
   "cell_type": "code",
   "execution_count": 22,
   "metadata": {},
   "outputs": [
    {
     "name": "stdout",
     "output_type": "stream",
     "text": [
      "INFO:     127.0.0.1:61982 - \"POST /api/v2/api_call HTTP/1.1\" 200 OK\n"
     ]
    },
    {
     "data": {
      "text/plain": [
       "'Changed function because ...'"
      ]
     },
     "execution_count": 22,
     "metadata": {},
     "output_type": "execute_result"
    }
   ],
   "source": [
    "janet_client.code_history['comments'][0]"
   ]
  },
  {
   "cell_type": "code",
   "execution_count": 14,
   "metadata": {},
   "outputs": [
    {
     "data": {
      "text/html": [
       "\n",
       "<style>\n",
       "  .header-1 {\n",
       "        font-style: normal;\n",
       "        font-weight: 600;\n",
       "        font-size: 2.0736em;\n",
       "        line-height: 100%;\n",
       "        leading-trim: both;\n",
       "        text-edge: cap;\n",
       "        color: #17161D;\n",
       "    }\n",
       "\n",
       "  .header-2 {\n",
       "        font-style: normal;\n",
       "        font-weight: 600;\n",
       "        font-size: 1.728em;\n",
       "        line-height: 100%;\n",
       "        leading-trim: both;\n",
       "        text-edge: cap;\n",
       "        color: #17161D;\n",
       "    }\n",
       "\n",
       "  .header-3 {\n",
       "        font-style: normal;\n",
       "        font-weight: 600;\n",
       "        font-size:  1.44em;\n",
       "        line-height: 100%;\n",
       "        leading-trim: both;\n",
       "        text-edge: cap;\n",
       "        color: #17161D;\n",
       "    }\n",
       "\n",
       "  .header-4 {\n",
       "        font-style: normal;\n",
       "        font-weight: 600;\n",
       "        font-size: 1.2em;\n",
       "        line-height: 100%;\n",
       "        leading-trim: both;\n",
       "        text-edge: cap;\n",
       "        color: #17161D;\n",
       "    }\n",
       "\n",
       "    .paragraph {\n",
       "        font-style: normal;\n",
       "        font-weight: 400;\n",
       "        font-size: 14px;\n",
       "        line-height: 100%;\n",
       "        leading-trim: both;\n",
       "        text-edge: cap;\n",
       "        color: #2E2B3B;\n",
       "    }\n",
       "\n",
       "    .paragraph-sm {\n",
       "        font-family: 'Roboto';\n",
       "        font-style: normal;\n",
       "        font-weight: 400;\n",
       "        font-size: 11.62px;\n",
       "        line-height: 100%;\n",
       "        leading-trim: both;\n",
       "        text-edge: cap;\n",
       "        color: #2E2B3B;\n",
       "    }\n",
       "    .code-text {\n",
       "        font-family: 'Consolas';\n",
       "        font-style: normal;\n",
       "        font-weight: 400;\n",
       "        font-size: 13px;\n",
       "        line-height: 130%;\n",
       "        leading-trim: both;\n",
       "        text-edge: cap;\n",
       "        color: #2E2B3B;\n",
       "    }\n",
       "\n",
       "    .numbering-entry { display: none }\n",
       "\n",
       "    /* Tooltip container */\n",
       "    .tooltip {\n",
       "        position: relative;\n",
       "        display: inline-block;\n",
       "        border-bottom: 1px dotted black; /* If you want dots under the hoverable text */\n",
       "    }\n",
       "\n",
       "    /* Tooltip text */\n",
       "    .tooltip .tooltiptext {\n",
       "        visibility: hidden;\n",
       "        width: 120px;\n",
       "        background-color: black;\n",
       "        color: #fff;\n",
       "        text-align: center;\n",
       "        padding: 5px 0;\n",
       "        border-radius: 6px;\n",
       "\n",
       "        /* Position the tooltip text - see examples below! */\n",
       "        position: absolute;\n",
       "        z-index: 1;\n",
       "    }\n",
       "\n",
       "    .repr-cell {\n",
       "      padding-top: 20px;\n",
       "    }\n",
       "\n",
       "    .text-bold {\n",
       "        font-weight: bold;\n",
       "    }\n",
       "\n",
       "    .pr-8 {\n",
       "        padding-right: 8px;\n",
       "    }\n",
       "    .pt-8 {\n",
       "        padding-top: 8px;\n",
       "    }\n",
       "    .pl-8 {\n",
       "        padding-left: 8px;\n",
       "    }\n",
       "    .pb-8 {\n",
       "        padding-bottom: 8px;\n",
       "    }\n",
       "\n",
       "    .py-25{\n",
       "        padding-top: 25px;\n",
       "        padding-bottom: 25px;\n",
       "    }\n",
       "\n",
       "    .flex {\n",
       "        display: flex;\n",
       "    }\n",
       "\n",
       "    .gap-10 {\n",
       "        gap: 10px;\n",
       "    }\n",
       "    .items-center{\n",
       "        align-items: center;\n",
       "    }\n",
       "\n",
       "    .search-input{\n",
       "        display: flex;\n",
       "        flex-direction: row;\n",
       "        align-items: center;\n",
       "        padding: 8px 12px;\n",
       "        width: 343px;\n",
       "        height: 24px;\n",
       "        /* Lt On Surface/Low */\n",
       "        background: #F1F0F4;\n",
       "        border-radius: 30px;\n",
       "\n",
       "        /* Lt On Surface/Highest */\n",
       "        color: #B4B0BF;\n",
       "        border:none;\n",
       "        /* Inside auto layout */\n",
       "        flex: none;\n",
       "        order: 0;\n",
       "        flex-grow: 0;\n",
       "    }\n",
       "    .search-input:focus {\n",
       "        outline: none;\n",
       "    }\n",
       "\n",
       "    .search-button{\n",
       "        /* Search */\n",
       "        leading-trim: both;\n",
       "        text-edge: cap;\n",
       "        display: flex;\n",
       "        align-items: center;\n",
       "        text-align: center;\n",
       "\n",
       "        /* Primary/On Light */\n",
       "        color: #464A91;\n",
       "\n",
       "        border-radius: 30px;\n",
       "        border-color: #464A91;\n",
       "        /* Inside auto layout */\n",
       "        flex: none;\n",
       "        order: 1;\n",
       "        flex-grow: 0;\n",
       "    }\n",
       "\n",
       "    .grid-table3332bd29e6c9465484b971c560d6c89d {\n",
       "        display:grid;\n",
       "        grid-template-columns: 1fr repeat(4, 1fr);\n",
       "        grid-template-rows: repeat(2, 1fr);\n",
       "        overflow-x: auto;\n",
       "    }\n",
       "\n",
       "    .grid-std-cells {\n",
       "        grid-column: span 4;\n",
       "\n",
       "    }\n",
       "    .grid-index-cells {\n",
       "        grid-column: span 1;\n",
       "        background: #ECEBEF;\n",
       "        /* tmp fix to make left col stand out (fix with font-family) */\n",
       "        font-weight: 600;\n",
       "    }\n",
       "\n",
       "    .grid-header {\n",
       "        /* Auto layout */\n",
       "        display: flex;\n",
       "        flex-direction: column;\n",
       "        align-items: flex-start;\n",
       "        padding: 6px 4px;\n",
       "\n",
       "        /* Lt On Surface/Surface */\n",
       "        background: #ECEBEF;\n",
       "        /* Lt On Surface/High */\n",
       "        border: 1px solid #CFCDD6;\n",
       "        color: #2E2B3B;\n",
       "        /* tmp fix to make header stand out (fix with font-family) */\n",
       "        font-weight: 600;\n",
       "    }\n",
       "\n",
       "    .grid-row {\n",
       "        color: #5E5A72;\n",
       "        display: flex;\n",
       "        flex-direction: column;\n",
       "        align-items: flex-start;\n",
       "        padding: 6px 4px;\n",
       "        overflow: hidden;\n",
       "        border: 1px solid #CFCDD6;\n",
       "    }\n",
       "\n",
       "    .badge {\n",
       "        code-text;\n",
       "        border-radius: 30px;\n",
       "    }\n",
       "\n",
       "    .badge-blue {\n",
       "        badge;\n",
       "        background-color: #C2DEF0;\n",
       "        color: #1F567A;\n",
       "    }\n",
       "\n",
       "    .badge-purple {\n",
       "        badge;\n",
       "        background-color: #C9CFE8;\n",
       "        color: #373B7B;\n",
       "    }\n",
       "\n",
       "    .badge-green {\n",
       "        badge;\n",
       "\n",
       "        /* Success/Container */\n",
       "        background-color: #D5F1D5;\n",
       "        color: #256B24;\n",
       "    }\n",
       "\n",
       "    .badge-red {\n",
       "        badge;\n",
       "        background-color: #F2D9DE;\n",
       "        color: #9B2737;\n",
       "    }\n",
       "\n",
       "    .badge-gray {\n",
       "        badge;\n",
       "        background-color: #ECEBEF;\n",
       "        color: #2E2B3B;\n",
       "    }\n",
       "    .paginationContainer{\n",
       "        width: 100%;\n",
       "        height: 30px;\n",
       "        display: flex;\n",
       "        justify-content: center;\n",
       "        gap: 8px;\n",
       "        padding: 5px;\n",
       "    }\n",
       "\n",
       "    .page{\n",
       "        color: black;\n",
       "        font-weight: bold;\n",
       "    }\n",
       "    .page:hover {\n",
       "      color: #38bdf8;\n",
       "      cursor: pointer;\n",
       "    }\n",
       "    .clipboard:hover{\n",
       "        cursor: pointer;\n",
       "    }\n",
       "\n",
       "    .search-field {\n",
       "        display: flex;\n",
       "        align-items: center;\n",
       "        background: #F1F0F4;\n",
       "        border-radius: 30px;\n",
       "    }\n",
       "\n",
       "    .syft-dropdown {\n",
       "        margin: 5px;\n",
       "        margin-left: 5px;\n",
       "        position: relative;\n",
       "        display: inline-block;\n",
       "        text-align: center;\n",
       "        background-color: #d1d5db;\n",
       "        min-width: 100px;\n",
       "        padding: 2px;\n",
       "        border-radius: 30px;\n",
       "    }\n",
       "\n",
       "    .syft-dropdown:hover {\n",
       "        cursor: pointer;\n",
       "    }\n",
       "    .syft-dropdown-content {\n",
       "        margin-top:26px;\n",
       "        display: none;\n",
       "        position: absolute;\n",
       "        background-color: #f9f9f9;\n",
       "        min-width: 100px;\n",
       "        box-shadow: 0px 8px 16px 0px rgba(0,0,0,0.2);\n",
       "        padding: 12px 6px;\n",
       "        z-index: 1;\n",
       "    }\n",
       "    .dd-options {\n",
       "        padding-top: 4px;\n",
       "    }\n",
       "    .dd-options:first-of-type {\n",
       "        padding-top: 0px;\n",
       "    }\n",
       "\n",
       "    .dd-options:hover {\n",
       "        cursor: pointer;\n",
       "        background: #d1d5db;\n",
       "    }\n",
       "    .arrow {\n",
       "        border: solid black;\n",
       "        border-width: 0 3px 3px 0;\n",
       "        display: inline-block;\n",
       "        padding: 3px;\n",
       "    }\n",
       "    .down {\n",
       "        transform: rotate(45deg);\n",
       "        -webkit-transform: rotate(45deg);\n",
       "    }\n",
       "</style>\n",
       "\n",
       "\n",
       "    <div style='margin-top:15px;'>\n",
       "        <div class='flex gap-10' style='align-items: center;'>\n",
       "            <div><svg width=\"32\" height=\"32\" viewBox=\"0 0 32 32\" fill=\"none\" xmlns=\"http://www.w3.org/2000/svg\"> <path d=\"M28 6H4C3.73478 6 3.48043 6.10536 3.29289 6.29289C3.10536 6.48043 3 6.73478 3 7V24C3 24.5304 3.21071 25.0391 3.58579 25.4142C3.96086 25.7893 4.46957 26 5 26H27C27.5304 26 28.0391 25.7893 28.4142 25.4142C28.7893 25.0391 29 24.5304 29 24V7C29 6.73478 28.8946 6.48043 28.7071 6.29289C28.5196 6.10536 28.2652 6 28 6ZM5 14H10V18H5V14ZM12 14H27V18H12V14ZM27 8V12H5V8H27ZM5 20H10V24H5V20ZM27 24H12V20H27V24Z\" fill=\"#343330\"/></svg></div>\n",
       "            <div><p class='header-3'>APIEndpoint Dict</p></div>\n",
       "        </div>\n",
       "\n",
       "            <div style=\"padding-top: 16px; display:flex;justify-content: space-between; align-items: center;\">\n",
       "                <div class='pt-25 gap-10' style=\"display:flex;\">\n",
       "                    <div class=\"search-field\">\n",
       "                        <div id='search-menu3332bd29e6c9465484b971c560d6c89d' class=\"syft-dropdown\" onclick=\"{\n",
       "                            let doc = document.getElementById('search-dropdown-content3332bd29e6c9465484b971c560d6c89d')\n",
       "                            if (doc.style.display === 'block'){\n",
       "                                doc.style.display = 'none'\n",
       "                            } else {\n",
       "                                doc.style.display = 'block'\n",
       "                            }\n",
       "                            }\">\n",
       "                            <div id='search-dropdown-content3332bd29e6c9465484b971c560d6c89d' class='syft-dropdown-content'></div>\n",
       "                            <script>\n",
       "                                var element3332bd29e6c9465484b971c560d6c89d = [{\"key\": \"user.current_user\"}, {\"key\": \"user.update\"}, {\"key\": \"user.delete\"}, {\"key\": \"network.exchange_credentials_with\"}, {\"key\": \"network.add_peer\"}, {\"key\": \"network.verify_route\"}, {\"key\": \"network.get_all_peers\"}, {\"key\": \"network.register_to_vpn\"}, {\"key\": \"action.set\"}, {\"key\": \"action.get\"}, {\"key\": \"action.get_pointer\"}, {\"key\": \"action.execute\"}, {\"key\": \"action.exists\"}, {\"key\": \"notifications.reply\"}, {\"key\": \"notifications.get_all\"}, {\"key\": \"notifications.get_all_sent\"}, {\"key\": \"notifications.get_all_read\"}, {\"key\": \"notifications.get_all_unread\"}, {\"key\": \"notifications.resolve_object\"}, {\"key\": \"request.submit\"}, {\"key\": \"code.submit\"}, {\"key\": \"code.request_code_execution\"}, {\"key\": \"code.get_all\"}, {\"key\": \"code.call\"}, {\"key\": \"code_history.submit_version\"}, {\"key\": \"code_history.get_all\"}, {\"key\": \"code_history.get_by_id\"}, {\"key\": \"code_history.get_history\"}, {\"key\": \"code_history.get_histories\"}, {\"key\": \"dataset.get_all\"}, {\"key\": \"dataset.get_assets_by_action_id\"}, {\"key\": \"enclave.send_user_code_inputs_to_enclave\"}, {\"key\": \"project.can_create_project\"}, {\"key\": \"project.create_project\"}, {\"key\": \"project.add_event\"}, {\"key\": \"project.broadcast_event\"}, {\"key\": \"project.sync\"}, {\"key\": \"project.get_all\"}, {\"key\": \"project.get_by_name\"}, {\"key\": \"project.get_by_uid\"}]\n",
       "                                var page_size3332bd29e6c9465484b971c560d6c89d = 5\n",
       "                                var pageIndex3332bd29e6c9465484b971c560d6c89d = 1\n",
       "                                var paginatedElements3332bd29e6c9465484b971c560d6c89d = []\n",
       "                                var activeFilter3332bd29e6c9465484b971c560d6c89d;\n",
       "\n",
       "                                function buildDropDownMenu(elements){\n",
       "                                    let init_filter;\n",
       "                                    let menu = document.getElementById('search-dropdown-content3332bd29e6c9465484b971c560d6c89d')\n",
       "                                    if (elements.length > 0) {\n",
       "                                        let sample = elements[0]\n",
       "                                        for (const attr in sample) {\n",
       "                                            if (typeof init_filter === 'undefined'){\n",
       "                                                init_filter = attr;\n",
       "                                            }\n",
       "                                            let content = document.createElement('div');\n",
       "                                            content.onclick = function(event) {\n",
       "                                                event.stopPropagation()\n",
       "                                                document.getElementById('menu-active-filter3332bd29e6c9465484b971c560d6c89d').innerText = attr;\n",
       "                                                activeFilter3332bd29e6c9465484b971c560d6c89d = attr;\n",
       "                                                document.getElementById(\n",
       "                                                    'search-dropdown-content3332bd29e6c9465484b971c560d6c89d'\n",
       "                                                ).style.display= 'none';\n",
       "                                            }\n",
       "                                            content.classList.add(\"dd-options\");\n",
       "                                            content.innerText = attr;\n",
       "                                            menu.appendChild(content);\n",
       "                                        }\n",
       "                                    } else {\n",
       "                                        let init_filter = '---'\n",
       "                                    }\n",
       "                                    let dropdown_field = document.getElementById('search-menu3332bd29e6c9465484b971c560d6c89d')\n",
       "                                    let span = document.createElement('span')\n",
       "                                    span.setAttribute('id', 'menu-active-filter3332bd29e6c9465484b971c560d6c89d')\n",
       "                                    span.innerText = init_filter\n",
       "                                    activeFilter3332bd29e6c9465484b971c560d6c89d = init_filter;\n",
       "                                    dropdown_field.appendChild(span)\n",
       "                                }\n",
       "\n",
       "                                buildDropDownMenu(element3332bd29e6c9465484b971c560d6c89d)\n",
       "                            </script>\n",
       "                        </div>\n",
       "                        <input id='searchKey3332bd29e6c9465484b971c560d6c89d' class='search-input' placeholder='Enter search here ...'  />\n",
       "                    </div>\n",
       "                    <button class='search-button'  onclick=\"searchGrid3332bd29e6c9465484b971c560d6c89d(element3332bd29e6c9465484b971c560d6c89d)\">\n",
       "                        <svg width=\"11\" height=\"10\" viewBox=\"0 0 11 10\" fill=\"none\" xmlns=\"http://www.w3.org/2000/svg\"><path d=\"M10.5652 9.23467L8.21819 6.88811C8.89846 6.07141 9.23767 5.02389 9.16527 3.96345C9.09287 2.90302 8.61443 1.91132 7.82948 1.19466C7.04453 0.477995 6.01349 0.0915414 4.95087 0.115691C3.88824 0.139841 2.87583 0.572735 2.12425 1.32432C1.37266 2.0759 0.939768 3.08831 0.915618 4.15094C0.891468 5.21357 1.27792 6.2446 1.99459 7.02955C2.71125 7.8145 3.70295 8.29294 4.76338 8.36535C5.82381 8.43775 6.87134 8.09853 7.68804 7.41827L10.0346 9.7653C10.0694 9.80014 10.1108 9.82778 10.1563 9.84663C10.2018 9.86549 10.2506 9.87519 10.2999 9.87519C10.3492 9.87519 10.398 9.86549 10.4435 9.84663C10.489 9.82778 10.5304 9.80014 10.5652 9.7653C10.6001 9.73046 10.6277 9.68909 10.6466 9.64357C10.6654 9.59805 10.6751 9.54926 10.6751 9.49998C10.6751 9.45071 10.6654 9.40192 10.6466 9.3564C10.6277 9.31088 10.6001 9.26951 10.5652 9.23467ZM1.67491 4.24998C1.67491 3.58247 1.87285 2.92995 2.2437 2.37493C2.61455 1.81992 3.14165 1.38734 3.75835 1.13189C4.37506 0.876446 5.05366 0.809609 5.70834 0.939835C6.36303 1.07006 6.96439 1.3915 7.4364 1.8635C7.9084 2.3355 8.22984 2.93687 8.36006 3.59155C8.49029 4.24624 8.42345 4.92484 8.168 5.54154C7.91256 6.15824 7.47998 6.68535 6.92496 7.05619C6.36995 7.42704 5.71742 7.62498 5.04991 7.62498C4.15511 7.62399 3.29724 7.26809 2.66452 6.63537C2.0318 6.00265 1.6759 5.14479 1.67491 4.24998Z\" fill=\"#464A91\"/></svg>\n",
       "                        <span class='pl-8'>Search</span>\n",
       "                    </button>\n",
       "                </div>\n",
       "\n",
       "                <div><h4 id='total3332bd29e6c9465484b971c560d6c89d'>0</h4></div>\n",
       "            </div>\n",
       "            <div id='table3332bd29e6c9465484b971c560d6c89d' class='grid-table3332bd29e6c9465484b971c560d6c89d' style='margin-top: 25px;'>\n",
       "                <script>\n",
       "                    function paginate3332bd29e6c9465484b971c560d6c89d(arr, size) {\n",
       "                        const res = [];\n",
       "                        for (let i = 0; i < arr.length; i += size) {\n",
       "                            const chunk = arr.slice(i, i + size);\n",
       "                            res.push(chunk);\n",
       "                        }\n",
       "\n",
       "                        return res;\n",
       "                    }\n",
       "\n",
       "                    function searchGrid3332bd29e6c9465484b971c560d6c89d(elements){\n",
       "                        let searchKey = document.getElementById('searchKey3332bd29e6c9465484b971c560d6c89d').value\n",
       "                        console.log(\"Search Key: \", searchKey)\n",
       "                        let result;\n",
       "                        if (searchKey === ''){\n",
       "                            result = elements;\n",
       "                        } else {\n",
       "                            result = elements.filter((element) => {\n",
       "                                let property = element[activeFilter3332bd29e6c9465484b971c560d6c89d]\n",
       "                                if (typeof property === 'object' && property !== null){\n",
       "                                    return property.value.toLowerCase().includes(searchKey.toLowerCase());\n",
       "                                } else if (typeof property === 'string' ) {\n",
       "                                    return element[activeFilter3332bd29e6c9465484b971c560d6c89d].toLowerCase().includes(searchKey.toLowerCase());\n",
       "                                } else if (property !== null ) {\n",
       "                                    return element[activeFilter3332bd29e6c9465484b971c560d6c89d].toString() === searchKey;\n",
       "                                } else {\n",
       "                                    return element[activeFilter3332bd29e6c9465484b971c560d6c89d] === searchKey;\n",
       "                                }\n",
       "                            } );\n",
       "                        }\n",
       "                        resetById3332bd29e6c9465484b971c560d6c89d('table3332bd29e6c9465484b971c560d6c89d');\n",
       "                        resetById3332bd29e6c9465484b971c560d6c89d('pag3332bd29e6c9465484b971c560d6c89d');\n",
       "                        result = paginate3332bd29e6c9465484b971c560d6c89d(result, page_size3332bd29e6c9465484b971c560d6c89d)\n",
       "                        buildGrid3332bd29e6c9465484b971c560d6c89d(result,pageIndex3332bd29e6c9465484b971c560d6c89d);\n",
       "                        buildPaginationContainer3332bd29e6c9465484b971c560d6c89d(result);\n",
       "                    }\n",
       "\n",
       "                    function resetById3332bd29e6c9465484b971c560d6c89d(id){\n",
       "                        let element = document.getElementById(id);\n",
       "                        while (element.firstChild) {\n",
       "                          element.removeChild(element.firstChild);\n",
       "                        }\n",
       "                    }\n",
       "\n",
       "                    function buildGrid3332bd29e6c9465484b971c560d6c89d(items, pageIndex){\n",
       "                                let headers = Object.keys(element3332bd29e6c9465484b971c560d6c89d[0]);\n",
       "\n",
       "                                let grid = document.getElementById(\"table3332bd29e6c9465484b971c560d6c89d\");\n",
       "                                let div = document.createElement(\"div\");\n",
       "                                div.classList.add('grid-header', 'grid-index-cells');\n",
       "                                grid.appendChild(div);\n",
       "                                headers.forEach((title) =>{\n",
       "                                    let div = document.createElement(\"div\");\n",
       "                                    div.classList.add('grid-header', 'grid-std-cells');\n",
       "                                    div.innerText = title;\n",
       "\n",
       "                                    grid.appendChild(div);\n",
       "                                });\n",
       "\n",
       "                                let page = items[pageIndex -1]\n",
       "                                if (page !== 'undefine'){\n",
       "                                    let table_index3332bd29e6c9465484b971c560d6c89d = ((pageIndex - 1) * page_size3332bd29e6c9465484b971c560d6c89d)\n",
       "                                    page.forEach((item) => {\n",
       "                                        let grid = document.getElementById(\"table3332bd29e6c9465484b971c560d6c89d\");\n",
       "                                        // Add new index value in index cells\n",
       "                                        let divIndex = document.createElement(\"div\");\n",
       "                                        divIndex.classList.add('grid-row', 'grid-index-cells');\n",
       "                                        divIndex.innerText = table_index3332bd29e6c9465484b971c560d6c89d;\n",
       "                                        grid.appendChild(divIndex);\n",
       "\n",
       "                                        // Iterate over the actual obj\n",
       "                                        for (const attr in item) {\n",
       "                                            let div = document.createElement(\"div\");\n",
       "                                            if (typeof item[attr] === 'object'\n",
       "                                                && item[attr] !== null\n",
       "                                                && item[attr].hasOwnProperty('type')) {\n",
       "                                                if (item[attr].type.includes('badge')){\n",
       "                                                    let badge_div = document.createElement(\"div\");\n",
       "                                                    badge_div.classList.add('badge',item[attr].type)\n",
       "                                                    badge_div.innerText = String(item[attr].value).toUpperCase();\n",
       "                                                    div.appendChild(badge_div);\n",
       "                                                    div.classList.add('grid-row','grid-std-cells');\n",
       "                                                } else if (item[attr].type === \"clipboard\") {\n",
       "                                                    div.classList.add('grid-row','grid-std-cells');\n",
       "\n",
       "                                                    // Create clipboard div\n",
       "                                                    let clipboard_div = document.createElement('div');\n",
       "                                                    clipboard_div.style.display= 'flex';\n",
       "                                                    clipboard_div.classList.add(\"gap-10\")\n",
       "                                                    clipboard_div.style.justifyContent = \"space-between\";\n",
       "\n",
       "                                                    let id_text = document.createElement('div');\n",
       "                                                    if (item[attr].value == \"None\"){\n",
       "                                                        id_text.innerText = \"None\";\n",
       "                                                    }\n",
       "                                                    else{\n",
       "                                                        id_text.innerText = item[attr].value.slice(0,5) + \"...\";\n",
       "                                                    }\n",
       "\n",
       "                                                    clipboard_div.appendChild(id_text);\n",
       "                                                    let clipboard_img = document.createElement('div');\n",
       "                                                    clipboard_img.classList.add(\"clipboard\")\n",
       "                                                    div.onclick = function() {\n",
       "                                                        navigator.clipboard.writeText(item[attr].value);\n",
       "                                                    };\n",
       "                                                    clipboard_img.innerHTML = \"<svg width='8' height='8' viewBox='0 0 8 8' fill='none' xmlns='http://www.w3.org/2000/svg'><path d='M7.4375 0.25H2.4375C2.35462 0.25 2.27513 0.282924 2.21653 0.341529C2.15792 0.400134 2.125 0.47962 2.125 0.5625V2.125H0.5625C0.47962 2.125 0.400134 2.15792 0.341529 2.21653C0.282924 2.27513 0.25 2.35462 0.25 2.4375V7.4375C0.25 7.52038 0.282924 7.59987 0.341529 7.65847C0.400134 7.71708 0.47962 7.75 0.5625 7.75H5.5625C5.64538 7.75 5.72487 7.71708 5.78347 7.65847C5.84208 7.59987 5.875 7.52038 5.875 7.4375V5.875H7.4375C7.52038 5.875 7.59987 5.84208 7.65847 5.78347C7.71708 5.72487 7.75 5.64538 7.75 5.5625V0.5625C7.75 0.47962 7.71708 0.400134 7.65847 0.341529C7.59987 0.282924 7.52038 0.25 7.4375 0.25ZM5.25 7.125H0.875V2.75H5.25V7.125ZM7.125 5.25H5.875V2.4375C5.875 2.35462 5.84208 2.27513 5.78347 2.21653C5.72487 2.15792 5.64538 2.125 5.5625 2.125H2.75V0.875H7.125V5.25Z' fill='#464158'/></svg>\";\n",
       "\n",
       "                                                    clipboard_div.appendChild(clipboard_img);\n",
       "                                                    div.appendChild(clipboard_div);\n",
       "                                                }\n",
       "                                            } else{\n",
       "                                                div.classList.add('grid-row','grid-std-cells');\n",
       "                                                if (item[attr] == null) {\n",
       "                                                    text = ' '\n",
       "                                                } else {\n",
       "                                                    text = String(item[attr])\n",
       "                                                }\n",
       "                                                if (text.length > 150){\n",
       "                                                    text = text.slice(0,150) + \"...\";\n",
       "                                                }\n",
       "                                                text = text.replaceAll(\"\\n\", \"</br>\");\n",
       "                                                div.innerHTML = text;\n",
       "                                            }\n",
       "                                            grid.appendChild(div);\n",
       "                                        }\n",
       "                                    table_index3332bd29e6c9465484b971c560d6c89d = table_index3332bd29e6c9465484b971c560d6c89d + 1;\n",
       "                                    })\n",
       "                                }\n",
       "                    }\n",
       "                    paginatedElements3332bd29e6c9465484b971c560d6c89d = paginate3332bd29e6c9465484b971c560d6c89d(element3332bd29e6c9465484b971c560d6c89d, page_size3332bd29e6c9465484b971c560d6c89d)\n",
       "                    buildGrid3332bd29e6c9465484b971c560d6c89d(paginatedElements3332bd29e6c9465484b971c560d6c89d, 1)\n",
       "                    document.getElementById('total3332bd29e6c9465484b971c560d6c89d').innerText = \"Total: \" + element3332bd29e6c9465484b971c560d6c89d.length\n",
       "                </script>\n",
       "            </div>\n",
       "            <div id='pag3332bd29e6c9465484b971c560d6c89d' class='paginationContainer'>\n",
       "                <script>\n",
       "                    function buildPaginationContainer3332bd29e6c9465484b971c560d6c89d(paginatedElements){\n",
       "                            let pageContainer = document.getElementById(\"pag3332bd29e6c9465484b971c560d6c89d\");\n",
       "                            for (let i = 0; i < paginatedElements.length; i++) {\n",
       "                                  let div = document.createElement(\"div\");\n",
       "                                  div.classList.add('page');\n",
       "                                  div.style.color = 'gray';\n",
       "                                  div.onclick = function(event) {\n",
       "                                      let indexes = document.getElementsByClassName('page');\n",
       "                                      for (let index of indexes) { index.style.color = 'gray' }\n",
       "                                      event.target.style.color = \"black\"\n",
       "                                      setPage3332bd29e6c9465484b971c560d6c89d(i + 1);\n",
       "                                  };\n",
       "                                  div.innerText = i + 1;\n",
       "                                  pageContainer.appendChild(div);\n",
       "                            }\n",
       "                    }\n",
       "\n",
       "                    function setPage3332bd29e6c9465484b971c560d6c89d(newPage){\n",
       "                        pageIndex = newPage\n",
       "                        resetById3332bd29e6c9465484b971c560d6c89d('table3332bd29e6c9465484b971c560d6c89d')\n",
       "                        buildGrid3332bd29e6c9465484b971c560d6c89d(paginatedElements3332bd29e6c9465484b971c560d6c89d, pageIndex)\n",
       "                    }\n",
       "\n",
       "                    buildPaginationContainer3332bd29e6c9465484b971c560d6c89d(paginatedElements3332bd29e6c9465484b971c560d6c89d)\n",
       "                </script>\n",
       "            </div>\n",
       "        </div>\n",
       "    </div>\n",
       "    </div>\n"
      ],
      "text/plain": [
       "{'user.current_user': APIEndpoint(syft_node_location=None, syft_client_verify_key=None, service_path='user.current_user', module_path='user.current_user', name='current_user', description='', doc_string=None, signature=<Signature () -> syft.service.user.user.User>, has_self=False, pre_kwargs=None),\n",
       " 'user.update': APIEndpoint(syft_node_location=None, syft_client_verify_key=None, service_path='user.update', module_path='user.update', name='update', description='', doc_string=None, signature=<Signature (uid: syft.types.uid.UID, user_update: syft.service.user.user.UserUpdate) -> Union[syft.service.user.user.UserView, syft.service.response.SyftError]>, has_self=False, pre_kwargs=None),\n",
       " 'user.delete': APIEndpoint(syft_node_location=None, syft_client_verify_key=None, service_path='user.delete', module_path='user.delete', name='delete', description='', doc_string=None, signature=<Signature (uid: syft.types.uid.UID) -> Union[bool, syft.service.response.SyftError]>, has_self=False, pre_kwargs=None),\n",
       " 'network.exchange_credentials_with': APIEndpoint(syft_node_location=None, syft_client_verify_key=None, service_path='network.exchange_credentials_with', module_path='network.exchange_credentials_with', name='exchange_credentials_with', description='', doc_string='Exchange Route With Another Node', signature=<Signature (self_node_route: syft.service.network.routes.NodeRoute, remote_node_route: syft.service.network.routes.NodeRoute, remote_node_verify_key: syft.node.credentials.SyftVerifyKey) -> Union[syft.service.response.SyftSuccess, syft.service.response.SyftError]>, has_self=False, pre_kwargs=None),\n",
       " 'network.add_peer': APIEndpoint(syft_node_location=None, syft_client_verify_key=None, service_path='network.add_peer', module_path='network.add_peer', name='add_peer', description='', doc_string='Add a Network Node Peer', signature=<Signature (peer: syft.service.network.node_peer.NodePeer, challenge: bytes, self_node_route: syft.service.network.routes.NodeRoute, verify_key: syft.node.credentials.SyftVerifyKey) -> Union[bytes, syft.service.response.SyftError]>, has_self=False, pre_kwargs=None),\n",
       " 'network.verify_route': APIEndpoint(syft_node_location=None, syft_client_verify_key=None, service_path='network.verify_route', module_path='network.verify_route', name='verify_route', description='', doc_string='Add a Network Node Route', signature=<Signature (route: syft.service.network.routes.NodeRoute) -> Union[syft.service.response.SyftSuccess, syft.service.response.SyftError]>, has_self=False, pre_kwargs=None),\n",
       " 'network.get_all_peers': APIEndpoint(syft_node_location=None, syft_client_verify_key=None, service_path='network.get_all_peers', module_path='network.get_all_peers', name='get_all_peers', description='', doc_string='Get all Peers', signature=<Signature () -> Union[List[syft.service.network.node_peer.NodePeer], syft.service.response.SyftError]>, has_self=False, pre_kwargs=None),\n",
       " 'network.register_to_vpn': APIEndpoint(syft_node_location=None, syft_client_verify_key=None, service_path='network.register_to_vpn', module_path='network.register_to_vpn', name='register_to_vpn', description='', doc_string='Register node to the VPN.', signature=<Signature () -> Union[syft.service.vpn.headscale_client.HeadscaleAuthToken, syft.service.response.SyftError]>, has_self=False, pre_kwargs=None),\n",
       " 'action.set': APIEndpoint(syft_node_location=None, syft_client_verify_key=None, service_path='action.set', module_path='action.set', name='set', description='', doc_string='Save an object to the action store', signature=<Signature (action_object: Union[syft.service.action.action_object.ActionObject, syft.types.twin_object.TwinObject]) -> Union[result.result.Ok[syft.service.action.action_object.ActionObject], result.result.Err[str]]>, has_self=False, pre_kwargs=None),\n",
       " 'action.get': APIEndpoint(syft_node_location=None, syft_client_verify_key=None, service_path='action.get', module_path='action.get', name='get', description='', doc_string='Get an object from the action store', signature=<Signature (uid: syft.types.uid.UID, twin_mode: syft.service.action.action_object.TwinMode = <TwinMode.PRIVATE: 1>) -> Union[result.result.Ok[result.result.Ok[syft.service.action.action_object.ActionObject]], result.result.Err[result.result.Err[str]]]>, has_self=False, pre_kwargs=None),\n",
       " 'action.get_pointer': APIEndpoint(syft_node_location=None, syft_client_verify_key=None, service_path='action.get_pointer', module_path='action.get_pointer', name='get_pointer', description='', doc_string='Get a pointer from the action store', signature=<Signature (uid: syft.types.uid.UID) -> Union[result.result.Ok[syft.service.action.action_object.ActionObjectPointer], result.result.Err[str]]>, has_self=False, pre_kwargs=None),\n",
       " 'action.execute': APIEndpoint(syft_node_location=None, syft_client_verify_key=None, service_path='action.execute', module_path='action.execute', name='execute', description='', doc_string='Execute an operation on objects in the action store', signature=<Signature (action: syft.service.action.action_object.Action) -> Union[result.result.Ok[syft.service.action.action_object.ActionObject], result.result.Err[result.result.Err]]>, has_self=False, pre_kwargs=None),\n",
       " 'action.exists': APIEndpoint(syft_node_location=None, syft_client_verify_key=None, service_path='action.exists', module_path='action.exists', name='exists', description='', doc_string='Checks if the given object id exists in the Action Store', signature=<Signature (obj_id: syft.types.uid.UID) -> Union[result.result.Ok[syft.service.response.SyftSuccess], result.result.Err[syft.service.response.SyftError]]>, has_self=False, pre_kwargs=None),\n",
       " 'notifications.reply': APIEndpoint(syft_node_location=None, syft_client_verify_key=None, service_path='notifications.reply', module_path='notifications.reply', name='reply', description='', doc_string=None, signature=<Signature (reply: syft.service.notification.notifications.ReplyNotification) -> Union[syft.service.notification.notifications.ReplyNotification, syft.service.response.SyftError]>, has_self=False, pre_kwargs=None),\n",
       " 'notifications.get_all': APIEndpoint(syft_node_location=None, syft_client_verify_key=None, service_path='notifications.get_all', module_path='notifications.get_all', name='get_all', description='', doc_string=None, signature=<Signature () -> Union[List[syft.service.notification.notifications.Notification], syft.service.response.SyftError]>, has_self=False, pre_kwargs=None),\n",
       " 'notifications.get_all_sent': APIEndpoint(syft_node_location=None, syft_client_verify_key=None, service_path='notifications.get_all_sent', module_path='notifications.get_all_sent', name='outbox', description='', doc_string=None, signature=<Signature () -> Union[List[syft.service.notification.notifications.Notification], syft.service.response.SyftError]>, has_self=False, pre_kwargs=None),\n",
       " 'notifications.get_all_read': APIEndpoint(syft_node_location=None, syft_client_verify_key=None, service_path='notifications.get_all_read', module_path='notifications.get_all_read', name='get_all_read', description='', doc_string=None, signature=<Signature () -> Union[List[syft.service.notification.notifications.Notification], syft.service.response.SyftError]>, has_self=False, pre_kwargs=None),\n",
       " 'notifications.get_all_unread': APIEndpoint(syft_node_location=None, syft_client_verify_key=None, service_path='notifications.get_all_unread', module_path='notifications.get_all_unread', name='get_all_unread', description='', doc_string=None, signature=<Signature () -> Union[List[syft.service.notification.notifications.Notification], syft.service.response.SyftError]>, has_self=False, pre_kwargs=None),\n",
       " 'notifications.resolve_object': APIEndpoint(syft_node_location=None, syft_client_verify_key=None, service_path='notifications.resolve_object', module_path='notifications.resolve_object', name='resolve_object', description='', doc_string=None, signature=<Signature (linked_obj: syft.store.linked_obj.LinkedObject) -> Union[syft.service.notification.notifications.Notification, syft.service.response.SyftError]>, has_self=False, pre_kwargs=None),\n",
       " 'request.submit': APIEndpoint(syft_node_location=None, syft_client_verify_key=None, service_path='request.submit', module_path='request.submit', name='submit', description='', doc_string='Submit a Request', signature=<Signature (request: syft.service.request.request.SubmitRequest, send_message: bool = True, reason: Optional[str, None] = '') -> Union[syft.service.request.request.Request, syft.service.response.SyftError]>, has_self=False, pre_kwargs=None),\n",
       " 'code.submit': APIEndpoint(syft_node_location=None, syft_client_verify_key=None, service_path='code.submit', module_path='code.submit', name='submit', description='', doc_string='Add User Code', signature=<Signature (code: syft.service.code.user_code.SubmitUserCode) -> Union[syft.service.code.user_code.UserCode, syft.service.response.SyftError]>, has_self=False, pre_kwargs=None),\n",
       " 'code.request_code_execution': APIEndpoint(syft_node_location=None, syft_client_verify_key=None, service_path='code.request_code_execution', module_path='code.request_code_execution', name='request_code_execution', description='', doc_string='Request Code execution on user code', signature=<Signature (code: syft.service.code.user_code.SubmitUserCode, reason: Optional[str, None] = '') -> Union[syft.service.response.SyftSuccess, syft.service.response.SyftError]>, has_self=False, pre_kwargs=None),\n",
       " 'code.get_all': APIEndpoint(syft_node_location=None, syft_client_verify_key=None, service_path='code.get_all', module_path='code.get_all', name='get_all', description='', doc_string='Get a Dataset', signature=<Signature () -> Union[List[syft.service.code.user_code.UserCode], syft.service.response.SyftError]>, has_self=False, pre_kwargs=None),\n",
       " 'code.call': APIEndpoint(syft_node_location=None, syft_client_verify_key=None, service_path='code.call', module_path='code.call', name='call', description='', doc_string='Call a User Code Function', signature=<Signature (uid: syft.types.uid.UID, **kwargs: Any) -> Union[syft.service.response.SyftSuccess, syft.service.response.SyftError]>, has_self=False, pre_kwargs=None),\n",
       " 'code_history.submit_version': APIEndpoint(syft_node_location=None, syft_client_verify_key=None, service_path='code_history.submit_version', module_path='code_history.submit_version', name='submit_version', description='', doc_string=None, signature=<Signature (code: Union[syft.service.code.user_code.SubmitUserCode, syft.service.code.user_code.UserCode], comment: Optional[str, None] = None) -> Union[syft.service.response.SyftSuccess, syft.service.response.SyftError]>, has_self=False, pre_kwargs=None),\n",
       " 'code_history.get_all': APIEndpoint(syft_node_location=None, syft_client_verify_key=None, service_path='code_history.get_all', module_path='code_history.get_all', name='get_all', description='', doc_string='Get a Dataset', signature=<Signature () -> Union[List[syft.service.code_history.code_history.CodeHistory], syft.service.response.SyftError]>, has_self=False, pre_kwargs=None),\n",
       " 'code_history.get_by_id': APIEndpoint(syft_node_location=None, syft_client_verify_key=None, service_path='code_history.get_by_id', module_path='code_history.get_by_id', name='get_by_id', description='', doc_string='Get a User Code Item', signature=<Signature (uid: syft.types.uid.UID) -> Union[syft.service.response.SyftSuccess, syft.service.response.SyftError]>, has_self=False, pre_kwargs=None),\n",
       " 'code_history.get_history': APIEndpoint(syft_node_location=None, syft_client_verify_key=None, service_path='code_history.get_history', module_path='code_history.get_history', name='get_history', description='', doc_string=None, signature=<Signature ()>, has_self=False, pre_kwargs=None),\n",
       " 'code_history.get_histories': APIEndpoint(syft_node_location=None, syft_client_verify_key=None, service_path='code_history.get_histories', module_path='code_history.get_histories', name='get_histories', description='', doc_string=None, signature=<Signature ()>, has_self=False, pre_kwargs=None),\n",
       " 'dataset.get_all': APIEndpoint(syft_node_location=None, syft_client_verify_key=None, service_path='dataset.get_all', module_path='dataset.get_all', name='get_all', description='', doc_string='Get a Dataset', signature=<Signature (page_size: Optional[int, None] = 0, page_index: Optional[int, None] = 0) -> Union[syft.service.dataset.dataset.DatasetPageView, List[syft.service.dataset.dataset.Dataset], syft.service.response.SyftError]>, has_self=False, pre_kwargs=None),\n",
       " 'dataset.get_assets_by_action_id': APIEndpoint(syft_node_location=None, syft_client_verify_key=None, service_path='dataset.get_assets_by_action_id', module_path='dataset.get_assets_by_action_id', name='get_assets_by_action_id', description='', doc_string='Get Assets by an Action ID', signature=<Signature (uid: syft.types.uid.UID) -> Union[List[syft.service.dataset.dataset.Asset], syft.service.response.SyftError]>, has_self=False, pre_kwargs=None),\n",
       " 'enclave.send_user_code_inputs_to_enclave': APIEndpoint(syft_node_location=None, syft_client_verify_key=None, service_path='enclave.send_user_code_inputs_to_enclave', module_path='enclave.send_user_code_inputs_to_enclave', name='send_user_code_inputs_to_enclave', description='', doc_string=None, signature=<Signature (user_code_id: syft.types.uid.UID, inputs: Dict, node_name: str, node_id: syft.types.uid.UID) -> Union[syft.service.response.SyftSuccess, syft.service.response.SyftError]>, has_self=False, pre_kwargs=None),\n",
       " 'project.can_create_project': APIEndpoint(syft_node_location=None, syft_client_verify_key=None, service_path='project.can_create_project', module_path='project.can_create_project', name='can_create_project', description='', doc_string=None, signature=<Signature () -> Union[bool, syft.service.response.SyftError]>, has_self=False, pre_kwargs=None),\n",
       " 'project.create_project': APIEndpoint(syft_node_location=None, syft_client_verify_key=None, service_path='project.create_project', module_path='project.create_project', name='create_project', description='', doc_string='Start a Project', signature=<Signature (project: syft.service.project.project.ProjectSubmit) -> Union[syft.service.response.SyftSuccess, syft.service.response.SyftError]>, has_self=False, pre_kwargs=None),\n",
       " 'project.add_event': APIEndpoint(syft_node_location=None, syft_client_verify_key=None, service_path='project.add_event', module_path='project.add_event', name='add_event', description='', doc_string='To add events to a projects', signature=<Signature (project_event: syft.service.project.project.ProjectEvent) -> Union[syft.service.response.SyftSuccess, syft.service.response.SyftError]>, has_self=False, pre_kwargs=None),\n",
       " 'project.broadcast_event': APIEndpoint(syft_node_location=None, syft_client_verify_key=None, service_path='project.broadcast_event', module_path='project.broadcast_event', name='broadcast_event', description='', doc_string='To add events to a projects', signature=<Signature (project_event: syft.service.project.project.ProjectEvent) -> Union[syft.service.response.SyftSuccess, syft.service.response.SyftError]>, has_self=False, pre_kwargs=None),\n",
       " 'project.sync': APIEndpoint(syft_node_location=None, syft_client_verify_key=None, service_path='project.sync', module_path='project.sync', name='sync', description='', doc_string='To fetch unsynced events from the project', signature=<Signature (project_id: syft.types.uid.UID, seq_no: int) -> Union[syft.service.response.SyftSuccess, syft.service.response.SyftError, List[syft.service.project.project.ProjectEvent]]>, has_self=False, pre_kwargs=None),\n",
       " 'project.get_all': APIEndpoint(syft_node_location=None, syft_client_verify_key=None, service_path='project.get_all', module_path='project.get_all', name='get_all', description='', doc_string=None, signature=<Signature () -> Union[List[syft.service.project.project.Project], syft.service.response.SyftError]>, has_self=False, pre_kwargs=None),\n",
       " 'project.get_by_name': APIEndpoint(syft_node_location=None, syft_client_verify_key=None, service_path='project.get_by_name', module_path='project.get_by_name', name='get_by_name', description='', doc_string=None, signature=<Signature (name: str) -> Union[syft.service.project.project.Project, syft.service.response.SyftError]>, has_self=False, pre_kwargs=None),\n",
       " 'project.get_by_uid': APIEndpoint(syft_node_location=None, syft_client_verify_key=None, service_path='project.get_by_uid', module_path='project.get_by_uid', name='get_by_uid', description='', doc_string=None, signature=<Signature (uid: syft.types.uid.UID)>, has_self=False, pre_kwargs=None)}"
      ]
     },
     "execution_count": 14,
     "metadata": {},
     "output_type": "execute_result"
    }
   ],
   "source": [
    "janet_client.api.endpoints"
   ]
  },
  {
   "cell_type": "code",
   "execution_count": 15,
   "metadata": {},
   "outputs": [
    {
     "name": "stdout",
     "output_type": "stream",
     "text": [
      "INFO:     127.0.0.1:61961 - \"POST /api/v2/api_call HTTP/1.1\" 200 OK\n"
     ]
    },
    {
     "ename": "TypeError",
     "evalue": "'SyftError' object is not subscriptable",
     "output_type": "error",
     "traceback": [
      "\u001b[0;31m---------------------------------------------------------------------------\u001b[0m",
      "\u001b[0;31mTypeError\u001b[0m                                 Traceback (most recent call last)",
      "Cell \u001b[0;32mIn[15], line 1\u001b[0m\n\u001b[0;32m----> 1\u001b[0m admin_client\u001b[39m.\u001b[39;49mcode_histories[\u001b[39m\"\u001b[39;49m\u001b[39mjanet@caltech.edu\u001b[39;49m\u001b[39m\"\u001b[39;49m][\u001b[39m'\u001b[39m\u001b[39mtest_func\u001b[39m\u001b[39m'\u001b[39m][\u001b[39m0\u001b[39m]\n",
      "\u001b[0;31mTypeError\u001b[0m: 'SyftError' object is not subscriptable"
     ]
    }
   ],
   "source": [
    "admin_client.code_histories[\"janet@caltech.edu\"]['test_func'][0]"
   ]
  },
  {
   "cell_type": "code",
   "execution_count": null,
   "metadata": {},
   "outputs": [
    {
     "data": {
      "text/plain": [
       "<SigningKey for: 1939d2fe63a1fce55dd84f3493c2355e883c490ef68224484fd88002e62d9462>"
      ]
     },
     "execution_count": 16,
     "metadata": {},
     "output_type": "execute_result"
    }
   ],
   "source": [
    "admin_client.credentials"
   ]
  },
  {
   "cell_type": "code",
   "execution_count": null,
   "metadata": {},
   "outputs": [
    {
     "name": "stdout",
     "output_type": "stream",
     "text": [
      "INFO:     127.0.0.1:61191 - \"POST /api/v2/api_call HTTP/1.1\" 200 OK\n"
     ]
    },
    {
     "data": {
      "text/plain": [
       "1939d2fe63a1fce55dd84f3493c2355e883c490ef68224484fd88002e62d9462"
      ]
     },
     "execution_count": 17,
     "metadata": {},
     "output_type": "execute_result"
    }
   ],
   "source": [
    "admin_client.users[0].syft_client_verify_key"
   ]
  },
  {
   "cell_type": "code",
   "execution_count": null,
   "metadata": {},
   "outputs": [
    {
     "name": "stdout",
     "output_type": "stream",
     "text": [
      "INFO:     127.0.0.1:61192 - \"POST /api/v2/api_call HTTP/1.1\" 200 OK\n",
      "TYPE: syft.service.code_history.code_history.CodeHistory\n",
      "RESULT:  {'test_func': [syft.service.code.user_code.UserCode], 'comments': [syft.service.code.user_code.UserCode]}\n",
      "INFO:     127.0.0.1:61193 - \"POST /api/v2/api_call HTTP/1.1\" 200 OK\n"
     ]
    },
    {
     "ename": "AttributeError",
     "evalue": "'dict' object has no attribute 'get_all'",
     "output_type": "error",
     "traceback": [
      "\u001b[0;31m---------------------------------------------------------------------------\u001b[0m",
      "\u001b[0;31mAttributeError\u001b[0m                            Traceback (most recent call last)",
      "Cell \u001b[0;32mIn[18], line 4\u001b[0m\n\u001b[1;32m      1\u001b[0m \u001b[39m# get all code\u001b[39;00m\n\u001b[1;32m      2\u001b[0m admin_client\u001b[39m.\u001b[39mcode_histories\n\u001b[0;32m----> 4\u001b[0m janet_client\u001b[39m.\u001b[39;49mcode_history\u001b[39m.\u001b[39;49mget_all()\n",
      "\u001b[0;31mAttributeError\u001b[0m: 'dict' object has no attribute 'get_all'"
     ]
    }
   ],
   "source": [
    "# get all code\n",
    "admin_client.code_histories\n",
    "\n",
    "janet_client.code_history.get_all()"
   ]
  },
  {
   "cell_type": "code",
   "execution_count": null,
   "metadata": {},
   "outputs": [
    {
     "name": "stdout",
     "output_type": "stream",
     "text": [
      "INFO:     127.0.0.1:58590 - \"POST /api/v2/api_call HTTP/1.1\" 200 OK\n"
     ]
    },
    {
     "ename": "AttributeError",
     "evalue": "'dict' object has no attribute 'get_all'",
     "output_type": "error",
     "traceback": [
      "\u001b[0;31m---------------------------------------------------------------------------\u001b[0m",
      "\u001b[0;31mAttributeError\u001b[0m                            Traceback (most recent call last)",
      "Cell \u001b[0;32mIn[17], line 2\u001b[0m\n\u001b[1;32m      1\u001b[0m \u001b[39m# get specific code version \u001b[39;00m\n\u001b[0;32m----> 2\u001b[0m uid \u001b[39m=\u001b[39m janet_client\u001b[39m.\u001b[39;49mcode_history\u001b[39m.\u001b[39;49mget_all()[\u001b[39m0\u001b[39m]\u001b[39m.\u001b[39mid\n\u001b[1;32m      3\u001b[0m version_id \u001b[39m=\u001b[39m janet_client\u001b[39m.\u001b[39mcode_history\u001b[39m.\u001b[39mget_by_id(uid)\u001b[39m.\u001b[39muser_code_history[\u001b[39m0\u001b[39m] \u001b[39m# get version for specific u id\u001b[39;00m\n\u001b[1;32m      4\u001b[0m janet_client\u001b[39m.\u001b[39mapi\u001b[39m.\u001b[39mservices\u001b[39m.\u001b[39mcode\u001b[39m.\u001b[39mget_by_id(version_id)\n",
      "\u001b[0;31mAttributeError\u001b[0m: 'dict' object has no attribute 'get_all'"
     ]
    }
   ],
   "source": [
    "# get specific code version \n",
    "uid = janet_client.code_history.get_all()[0].id\n",
    "version_id = janet_client.code_history.get_by_id(uid).user_code_history[0] # get version for specific u id\n",
    "janet_client.api.services.code.get_by_id(version_id)"
   ]
  },
  {
   "cell_type": "code",
   "execution_count": null,
   "metadata": {},
   "outputs": [
    {
     "name": "stderr",
     "output_type": "stream",
     "text": [
      "---------------------------------------------------------------------------\n",
      "SyftAttributeError\n",
      "---------------------------------------------------------------------------\n",
      "Exception: 'APIModule' api.code object has no submodule or method 'test_func', you may not have permission to access the module you are trying to access\n"
     ]
    }
   ],
   "source": [
    "janet_client.code.test_func()"
   ]
  },
  {
   "cell_type": "code",
   "execution_count": null,
   "metadata": {},
   "outputs": [],
   "source": [
    "admin_client.code"
   ]
  },
  {
   "cell_type": "code",
   "execution_count": null,
   "metadata": {},
   "outputs": [],
   "source": [
    "# delete code version\n",
    "# client.code_history.delete_by_id(uid)\n"
   ]
  },
  {
   "cell_type": "code",
   "execution_count": null,
   "metadata": {},
   "outputs": [],
   "source": [
    "# DS: Create function to submit to DO\n",
    "@sy.syft_function(input_policy=sy.ExactMatch(),\n",
    "                  output_policy=sy.SingleExecutionExactOutput())\n",
    "def test_func():\n",
    "    return False\n",
    "test_func()"
   ]
  },
  {
   "cell_type": "code",
   "execution_count": null,
   "metadata": {},
   "outputs": [],
   "source": [
    "# Fix duplication error\n",
    "# client.api.services.code.submit(test_func)\n",
    "janet_client.code_history.submit_version(test_func)"
   ]
  },
  {
   "attachments": {},
   "cell_type": "markdown",
   "metadata": {},
   "source": [
    "Data Owner"
   ]
  },
  {
   "cell_type": "code",
   "execution_count": null,
   "metadata": {},
   "outputs": [],
   "source": [
    "users = janet_client.users\n",
    "users"
   ]
  },
  {
   "cell_type": "code",
   "execution_count": null,
   "metadata": {},
   "outputs": [],
   "source": [
    "janet_client.code"
   ]
  },
  {
   "cell_type": "code",
   "execution_count": null,
   "metadata": {},
   "outputs": [],
   "source": [
    "admin_client"
   ]
  }
 ],
 "metadata": {
  "kernelspec": {
   "display_name": ".venv",
   "language": "python",
   "name": "python3"
  },
  "language_info": {
   "codemirror_mode": {
    "name": "ipython",
    "version": 3
   },
   "file_extension": ".py",
   "mimetype": "text/x-python",
   "name": "python",
   "nbconvert_exporter": "python",
   "pygments_lexer": "ipython3",
   "version": "3.10.10"
  },
  "orig_nbformat": 4
 },
 "nbformat": 4,
 "nbformat_minor": 2
}
