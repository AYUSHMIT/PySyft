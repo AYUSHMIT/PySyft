{
 "cells": [
  {
   "cell_type": "markdown",
   "id": "0",
   "metadata": {},
   "source": [
    "# Registering Users in Syft Datasite Server\n",
    "\n",
    "By default users are not allowed to create a new account on the Syft Datasite Server. This notebook is a tutorial for Data Owners to enable guest signups on their deployments."
   ]
  },
  {
   "cell_type": "markdown",
   "id": "1",
   "metadata": {},
   "source": [
    "### Import packages"
   ]
  },
  {
   "cell_type": "code",
   "execution_count": 1,
   "id": "2",
   "metadata": {},
   "outputs": [],
   "source": [
    "SYFT_VERSION = \">=0.9,<1.0.0\"\n",
    "package_string = f'\"syft{SYFT_VERSION}\"'\n",
    "# %pip install {package_string} -q"
   ]
  },
  {
   "cell_type": "code",
   "execution_count": 2,
   "id": "3",
   "metadata": {},
   "outputs": [
    {
     "name": "stderr",
     "output_type": "stream",
     "text": [
      "/opt/anaconda3/envs/syft/lib/python3.12/site-packages/pydantic/_internal/_generate_schema.py:386: UserWarning: False is not a Python type (it may be an instance of an object), Pydantic will allow any object with no validation since we cannot even enforce that the input is an instance of the given type. To get rid of this error wrap the type with `pydantic.SkipValidation`.\n",
      "  warn(\n"
     ]
    },
    {
     "name": "stdout",
     "output_type": "stream",
     "text": [
      "✅ The installed version of syft==0.8.7b13 matches the requirement >=0.8.2b0 and the requirement <0.9\n"
     ]
    }
   ],
   "source": [
    "# syft absolute\n",
    "import syft as sy\n",
    "\n",
    "sy.requires(SYFT_VERSION)"
   ]
  },
  {
   "cell_type": "markdown",
   "id": "4",
   "metadata": {},
   "source": [
    "### Launch a Syft Datasite Server"
   ]
  },
  {
   "cell_type": "code",
   "execution_count": 3,
   "id": "5",
   "metadata": {},
   "outputs": [
    {
     "name": "stdout",
     "output_type": "stream",
     "text": [
      "Autoreload enabled\n",
      "Starting test-domain-1 server on 0.0.0.0:59996\n"
     ]
    },
    {
     "name": "stderr",
     "output_type": "stream",
     "text": [
      "/opt/anaconda3/envs/syft/lib/python3.12/site-packages/pydantic/_internal/_generate_schema.py:386: UserWarning: False is not a Python type (it may be an instance of an object), Pydantic will allow any object with no validation since we cannot even enforce that the input is an instance of the given type. To get rid of this error wrap the type with `pydantic.SkipValidation`.\n",
      "  warn(\n"
     ]
    },
    {
     "name": "stdout",
     "output_type": "stream",
     "text": [
      "\n",
      "WARNING: private key is based on node name: test-domain-1 in dev_mode. Don't run this in production.\n"
     ]
    },
    {
     "name": "stderr",
     "output_type": "stream",
     "text": [
      "INFO:     Started server process [25642]\n",
      "INFO:     Waiting for application startup.\n",
      "INFO:     Application startup complete.\n",
      "INFO:     Uvicorn running on http://0.0.0.0:59996 (Press CTRL+C to quit)\n"
     ]
    },
    {
     "name": "stdout",
     "output_type": "stream",
     "text": [
      "Waiting for server to startINFO:     127.0.0.1:60005 - \"GET /api/v2/metadata HTTP/1.1\" 200 OK\n",
      " Done.\n"
     ]
    },
    {
     "data": {
      "text/html": [
       "<div class=\"alert-info\" style=\"padding:5px;\"><strong>SyftInfo</strong>: <pre class=\"alert-info\" style=\"display:inline; font-family:inherit;\">You have launched a development node at http://0.0.0.0:59996.It is intended only for local use.</pre></div><br/>"
      ],
      "text/plain": [
       "SyftInfo: You have launched a development node at http://0.0.0.0:59996.It is intended only for local use."
      ]
     },
     "metadata": {},
     "output_type": "display_data"
    }
   ],
   "source": [
    "server = sy.orchestra.launch(\n",
    "    name=\"test-datasite-1\", port=\"auto\", dev_mode=True, reset=True\n",
    ")"
   ]
  },
  {
   "cell_type": "code",
   "execution_count": 4,
   "id": "6",
   "metadata": {},
   "outputs": [
    {
     "name": "stdout",
     "output_type": "stream",
     "text": [
      "INFO:     127.0.0.1:60007 - \"GET /api/v2/metadata HTTP/1.1\" 200 OK\n",
      "Logged into <test-domain-1: High-side Domain> as GUEST\n",
      "INFO:     127.0.0.1:60007 - \"POST /api/v2/login HTTP/1.1\" 200 OK\n",
      "INFO:     127.0.0.1:60007 - \"GET /api/v2/api?verify_key=aec6ea4dfc049ceacaeeebc493167a88a200ddc367b1fa32da652444b635d21f&communication_protocol=dev HTTP/1.1\" 200 OK\n",
      "INFO:     127.0.0.1:60011 - \"POST /api/v2/api_call HTTP/1.1\" 200 OK\n",
      "Logged into <test-domain-1: High side Domain> as <info@openmined.org>\n"
     ]
    },
    {
     "data": {
      "text/html": [
       "<div class=\"alert-warning\" style=\"padding:5px;\"><strong>SyftWarning</strong>: <pre class=\"alert-warning\" style=\"display:inline; font-family:inherit;\">You are using a default password. Please change the password using `[your_client].me.set_password([new_password])`.</pre></div><br/>"
      ],
      "text/plain": [
       "SyftWarning: You are using a default password. Please change the password using `[your_client].me.set_password([new_password])`."
      ]
     },
     "metadata": {},
     "output_type": "display_data"
    }
   ],
   "source": [
    "# log into the server with default root credentials\n",
    "root_client = server.login(email=\"info@openmined.org\", password=\"changethis\")"
   ]
  },
  {
   "cell_type": "markdown",
   "id": "7",
   "metadata": {},
   "source": [
    "#### By default registration is disabled. Only `root_client` can register"
   ]
  },
  {
   "cell_type": "code",
   "execution_count": 5,
   "id": "8",
   "metadata": {},
   "outputs": [],
   "source": [
    "# The assumed state of this test is a server with signup set to False\n",
    "# however if the tox task has set it to True you need to overwrite the setting\n",
    "# before running the tests\n",
    "# root_client.settings.allow_guest_signup(enable=False)"
   ]
  },
  {
   "cell_type": "code",
   "execution_count": 6,
   "id": "9",
   "metadata": {},
   "outputs": [
    {
     "name": "stdout",
     "output_type": "stream",
     "text": [
      "SyftSuccess: User 'Joker' successfully registered! To see users, run `[your_client].users`\n",
      "INFO:     127.0.0.1:60007 - \"POST /api/v2/register HTTP/1.1\" 200 OK\n"
     ]
    },
    {
     "data": {
      "text/html": [
       "<div class=\"alert-success\" style=\"padding:5px;\"><strong>SyftSuccess</strong>: <pre class=\"alert-success\" style=\"display:inline; font-family:inherit;\">User 'Joker' successfully registered! To see users, run `[your_client].users`</pre></div><br/>"
      ],
      "text/plain": [
       "SyftSuccess: User 'Joker' successfully registered! To see users, run `[your_client].users`"
      ]
     },
     "execution_count": 6,
     "metadata": {},
     "output_type": "execute_result"
    }
   ],
   "source": [
    "# Register a new user using root credentials\n",
    "response_1 = root_client.register(\n",
    "    email=\"joker@gotham.com\",\n",
    "    password=\"joker123\",\n",
    "    password_verify=\"joker123\",\n",
    "    name=\"Joker\",\n",
    ")\n",
    "response_1"
   ]
  },
  {
   "cell_type": "code",
   "execution_count": 7,
   "id": "10",
   "metadata": {},
   "outputs": [
    {
     "name": "stdout",
     "output_type": "stream",
     "text": [
      "INFO:     127.0.0.1:60013 - \"GET /api/v2/metadata HTTP/1.1\" 200 OK\n",
      "Logged into <test-domain-1: High-side Domain> as GUEST\n",
      "INFO:     127.0.0.1:60013 - \"POST /api/v2/register HTTP/1.1\" 200 OK\n"
     ]
    },
    {
     "name": "stderr",
     "output_type": "stream",
     "text": [
      "ERROR:syft.node.routes:Register Error: You have no permission to register. user={'id': <UID: 0d8b7a32e87c40198d292a64955bc6d3>, 'email': 'batman@gotham.com', 'name': 'Batman', 'role': None, 'password': '1rIzHAx6uQaP', 'password_verify': '1rIzHAx6uQaP', 'verify_key': None, 'institution': None, 'website': None, 'created_by': {'signing_key': <nacl.signing.SigningKey object at 0x136f2fc50>}, 'mock_execution_permission': False}\n"
     ]
    },
    {
     "data": {
      "text/html": [
       "<details>\n",
       "  <summary class=\"alert-danger syft-exception-summary\">\n",
       "    <span>\n",
       "      <strong>SyftException</strong>:\n",
       "      <pre class=\"alert-danger syft-exception-message\">You have no permission to register</pre>\n",
       "    </span>\n",
       "  </summary>\n",
       "  <div id=\"8f93bb8758354e11bc07d302b34f1444\" class=\"syft-exception-dropdown\">\n",
       "      \n",
       "      <div><strong>Client Trace:</strong></div>\n",
       "      <pre class=\"syft-exception-trace\">  File &#34;/var/folders/q1/ryq93kwj055dlbpngxv1c7z40000gn/T/ipykernel_25629/1821627335.py&#34;, line 2, in &lt;module&gt;\n",
       "    node.register(\n",
       "  File &#34;/Users/koen/workspace/PySyft/packages/syft/src/syft/orchestra.py&#34;, line 137, in register\n",
       "    return client.register(\n",
       "           ^^^^^^^^^^^^^^^^\n",
       "  File &#34;/Users/koen/workspace/PySyft/packages/syft/src/syft/client/client.py&#34;, line 1010, in register\n",
       "    return post_process_result(&#34;user.register&#34;, response, unwrap_on_success=False)\n",
       "           ^^^^^^^^^^^^^^^^^^^^^^^^^^^^^^^^^^^^^^^^^^^^^^^^^^^^^^^^^^^^^^^^^^^^^^^\n",
       "</pre>\n",
       "  </div>\n",
       "</details>\n",
       "\n",
       "<style>\n",
       "    .syft-exception-summary {\n",
       "        padding: 5px;\n",
       "        cursor: pointer;\n",
       "    }\n",
       "\n",
       "    .syft-exception-message {\n",
       "        display: inline;\n",
       "        font-family: inherit;\n",
       "    }\n",
       "\n",
       "    .syft-exception-dropdown {\n",
       "        margin-top: 5px;\n",
       "        padding: 10px;\n",
       "        border-top: 1px solid #ccc;\n",
       "    }\n",
       "\n",
       "    .syft-exception-trace {\n",
       "        display: inline;\n",
       "    }\n",
       "</style>"
      ],
      "text/plain": [
       "<IPython.core.display.HTML object>"
      ]
     },
     "metadata": {},
     "output_type": "display_data"
    }
   ],
   "source": [
    "with sy.raises(sy.SyftException, show=True):\n",
    "    server.register(\n",
    "        email=\"batman@gotham.com\",\n",
    "        password=\"1rIzHAx6uQaP\",\n",
    "        password_verify=\"1rIzHAx6uQaP\",\n",
    "        name=\"Batman\",\n",
    "    )"
   ]
  },
  {
   "cell_type": "code",
   "execution_count": null,
   "id": "11",
   "metadata": {},
   "outputs": [],
   "source": [
    "# Register a new user as a GUEST\n",
    "with sy.raises(sy.SyftException, show=True):\n",
    "    server.register(\n",
    "        email=\"batman@gotham.com\",\n",
    "        password=\"1rIzHAx6uQaP\",\n",
    "        password_verify=\"1rIzHAx6uQaP\",\n",
    "        name=\"Batman\",\n",
    "    )"
   ]
  },
  {
   "cell_type": "code",
   "execution_count": null,
   "id": "12",
   "metadata": {},
   "outputs": [],
   "source": [
    "# Register a new user as a GUEST\n",
    "with sy.raises(sy.SyftException, show=True):\n",
    "    node.register(\n",
    "        email=\"robin@gotham.com\",\n",
    "        password=\"5v1ei4OM2N4m\",\n",
    "        password_verify=\"5v1ei4OM2N4m\",\n",
    "        name=\"Robin\",\n",
    "    )"
   ]
  },
  {
   "cell_type": "code",
   "execution_count": null,
   "id": "13",
   "metadata": {},
   "outputs": [],
   "source": [
    "assert root_client.settings.get().signup_enabled is False"
   ]
  },
  {
   "cell_type": "markdown",
   "id": "14",
   "metadata": {},
   "source": [
    "#### Now, if root user enable registration, then the guest clients can also register"
   ]
  },
  {
   "cell_type": "code",
   "execution_count": null,
   "id": "15",
   "metadata": {},
   "outputs": [],
   "source": [
    "# Get the current settings of the server\n",
    "root_client.settings.get()"
   ]
  },
  {
   "cell_type": "code",
   "execution_count": null,
   "id": "16",
   "metadata": {},
   "outputs": [],
   "source": [
    "# Enable guest signups\n",
    "root_client.settings.allow_guest_signup(enable=True)"
   ]
  },
  {
   "cell_type": "code",
   "execution_count": null,
   "id": "17",
   "metadata": {},
   "outputs": [],
   "source": [
    "# Refresh the root client to fetch the updated settings\n",
    "root_client = server.login(email=\"info@openmined.org\", password=\"changethis\")"
   ]
  },
  {
   "cell_type": "code",
   "execution_count": null,
   "id": "18",
   "metadata": {},
   "outputs": [],
   "source": [
    "# Register a new user as a GUEST\n",
    "response_2 = server.register(\n",
    "    email=\"batman@gotham.com\",\n",
    "    password=\"1rIzHAx6uQaP\",\n",
    "    password_verify=\"1rIzHAx6uQaP\",\n",
    "    name=\"Batman\",\n",
    ")\n",
    "response_2"
   ]
  },
  {
   "cell_type": "code",
   "execution_count": null,
   "id": "19",
   "metadata": {},
   "outputs": [],
   "source": [
    "# Register a new user as a GUEST\n",
    "response_3 = server.register(\n",
    "    email=\"robin@gotham.com\",\n",
    "    password=\"5v1ei4OM2N4m\",\n",
    "    password_verify=\"5v1ei4OM2N4m\",\n",
    "    name=\"Robin\",\n",
    ")\n",
    "response_3"
   ]
  },
  {
   "cell_type": "code",
   "execution_count": null,
   "id": "20",
   "metadata": {},
   "outputs": [],
   "source": [
    "assert root_client.settings.get().signup_enabled is True\n",
    "assert isinstance(response_1, sy.SyftSuccess)\n",
    "assert isinstance(response_2, sy.SyftSuccess)\n",
    "assert isinstance(response_3, sy.SyftSuccess)"
   ]
  },
  {
   "cell_type": "markdown",
   "id": "21",
   "metadata": {},
   "source": [
    "### Toggle signup again"
   ]
  },
  {
   "cell_type": "code",
   "execution_count": null,
   "id": "22",
   "metadata": {},
   "outputs": [],
   "source": [
    "# Refresh the root client\n",
    "root_client.settings.allow_guest_signup(enable=False)"
   ]
  },
  {
   "cell_type": "code",
   "execution_count": null,
   "id": "23",
   "metadata": {},
   "outputs": [],
   "source": [
    "# Refresh the root client to fetch the updated settings\n",
    "root_client = server.login(email=\"info@openmined.org\", password=\"changethis\")"
   ]
  },
  {
   "cell_type": "code",
   "execution_count": null,
   "id": "24",
   "metadata": {},
   "outputs": [],
   "source": [
    "# Register a new user as a GUEST\n",
    "with sy.raises(sy.SyftException, show=True):\n",
    "    server.register(\n",
    "        email=\"bane@gotham.com\",\n",
    "        password=\"SKY5cC2zQPRP\",\n",
    "        password_verify=\"SKY5cC2zQPRP\",\n",
    "        name=\"Bane\",\n",
    "    )"
   ]
  },
  {
   "cell_type": "code",
   "execution_count": null,
   "id": "25",
   "metadata": {},
   "outputs": [],
   "source": [
    "# Register a new user as a GUEST\n",
    "with sy.raises(sy.SyftException, show=True):\n",
    "    server.register(\n",
    "        email=\"riddler@gotham.com\",\n",
    "        password=\"7eVGUuNDyH8P\",\n",
    "        password_verify=\"7eVGUuNDyH8P\",\n",
    "        name=\"Riddler\",\n",
    "    )"
   ]
  },
  {
   "cell_type": "code",
   "execution_count": null,
   "id": "26",
   "metadata": {},
   "outputs": [],
   "source": [
    "assert root_client.settings.get().signup_enabled is False"
   ]
  },
  {
   "cell_type": "code",
   "execution_count": null,
   "id": "27",
   "metadata": {},
   "outputs": [],
   "source": [
    "# Cleanup local datasite server\n",
    "\n",
    "if server.server_type.value == \"python\":\n",
    "    server.land()"
   ]
  },
  {
   "cell_type": "code",
   "execution_count": null,
   "id": "28",
   "metadata": {},
   "outputs": [],
   "source": []
  }
 ],
 "metadata": {
  "kernelspec": {
   "display_name": "Python 3 (ipykernel)",
   "language": "python",
   "name": "python3"
  },
  "language_info": {
   "codemirror_mode": {
    "name": "ipython",
    "version": 3
   },
   "file_extension": ".py",
   "mimetype": "text/x-python",
   "name": "python",
   "nbconvert_exporter": "python",
   "pygments_lexer": "ipython3",
   "version": "3.12.2"
  },
  "toc": {
   "base_numbering": 1,
   "nav_menu": {},
   "number_sections": true,
   "sideBar": true,
   "skip_h1_title": false,
   "title_cell": "Table of Contents",
   "title_sidebar": "Contents",
   "toc_cell": false,
   "toc_position": {},
   "toc_section_display": true,
   "toc_window_display": false
  }
 },
 "nbformat": 4,
 "nbformat_minor": 5
}
