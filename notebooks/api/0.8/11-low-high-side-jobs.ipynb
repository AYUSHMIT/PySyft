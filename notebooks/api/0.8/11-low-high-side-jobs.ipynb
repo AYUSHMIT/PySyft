{
 "cells": [
  {
   "cell_type": "code",
   "execution_count": null,
   "id": "ff4ebbc8-8a10-44d0-b0f8-554045c59ac4",
   "metadata": {},
   "outputs": [],
   "source": [
    "import syft as sy\n",
    "from syft.abstract_node import NodeType\n"
   ]
  },
  {
   "cell_type": "code",
   "execution_count": null,
   "id": "d38ee1f0-b5be-4a40-9f50-0929433a5637",
   "metadata": {},
   "outputs": [],
   "source": [
    "low_side = sy.Orchestra.launch(\n",
    "    name=\"canada-1\",\n",
    "    node_side_type=\"low\",\n",
    "    local_db=True,\n",
    "    reset=True,\n",
    "#     enable_warnings=True,\n",
    ")"
   ]
  },
  {
   "cell_type": "code",
   "execution_count": null,
   "id": "6ca0de34-aa8a-487e-a210-a314dfb786c9",
   "metadata": {},
   "outputs": [],
   "source": [
    "high_side = sy.Orchestra.launch(\n",
    "    name=\"canada-2\",\n",
    "    local_db=True,\n",
    "    reset=True,\n",
    "#     enable_warnings=True,\n",
    ")"
   ]
  },
  {
   "cell_type": "code",
   "execution_count": null,
   "id": "ca5c4864-b93c-41fb-9677-fd7f23853b89",
   "metadata": {},
   "outputs": [],
   "source": [
    "client_low_do = low_side.login(email=\"info@openmined.org\", password=\"changethis\")\n",
    "client_high_do = high_side.login(email=\"info@openmined.org\", password=\"changethis\")\n",
    "\n",
    "client_low_do.register(name=\"Sheldon\", email=\"sheldon@caltech.edu\", password=\"changethis\", password_verify=\"changethis\")\n",
    "client_low_ds = low_side.login(email=\"sheldon@caltech.edu\", password=\"changethis\")"
   ]
  },
  {
   "cell_type": "code",
   "execution_count": null,
   "id": "757eb175-8f96-497a-8e98-f18cae4c6a0f",
   "metadata": {},
   "outputs": [],
   "source": [
    "import numpy as np\n",
    "\n",
    "mock = np.random.random(10)\n",
    "real = np.random.random(10)\n",
    "\n",
    "dataset = sy.Dataset(\n",
    "        name=\"my-dataset\",\n",
    "        description=\"abc\",\n",
    "        asset_list=[\n",
    "            sy.Asset(\n",
    "                name=\"numpy-data\",\n",
    "                mock=mock,\n",
    "                data=real,\n",
    "                shape=real.shape,\n",
    "                mock_is_real=True,\n",
    "            )\n",
    "        ],\n",
    "    )\n",
    "\n",
    "client_low_do.upload_dataset(dataset)"
   ]
  },
  {
   "cell_type": "code",
   "execution_count": null,
   "id": "9e7631fc-7e3b-456f-a486-eb5b75a65cb5",
   "metadata": {},
   "outputs": [],
   "source": [
    "import numpy as np\n",
    "\n",
    "mock = np.random.random(10)\n",
    "real = np.random.random(10)\n",
    "\n",
    "dataset = sy.Dataset(\n",
    "        name=\"my-dataset\",\n",
    "        description=\"abc\",\n",
    "        asset_list=[\n",
    "            sy.Asset(\n",
    "                name=\"numpy-data\",\n",
    "                mock=mock,\n",
    "                data=real,\n",
    "                shape=real.shape,\n",
    "                mock_is_real=True,\n",
    "            )\n",
    "        ],\n",
    "    )\n",
    "\n",
    "client_high_do.upload_dataset(dataset)"
   ]
  },
  {
   "cell_type": "code",
   "execution_count": null,
   "id": "223d81c5-496e-4763-b4ed-31e1628b9c31",
   "metadata": {},
   "outputs": [],
   "source": [
    "data_low = client_low_do.datasets[0].assets[0]\n",
    "\n",
    "@sy.syft_function_single_use(data=data_low)\n",
    "def compute_mean(data) -> float:\n",
    "    return data.mean()\n",
    "\n",
    "client_low_ds.code.request_code_execution(compute_mean)"
   ]
  },
  {
   "cell_type": "code",
   "execution_count": null,
   "id": "54fb6860",
   "metadata": {},
   "outputs": [],
   "source": [
    "client_low_do._fetch_api(client_low_do.credentials)"
   ]
  },
  {
   "cell_type": "code",
   "execution_count": null,
   "id": "cef4ed9d-7d1d-43d6-9baf-5d59908cb8ec",
   "metadata": {},
   "outputs": [],
   "source": [
    "low_request = client_low_do.requests[0]"
   ]
  },
  {
   "cell_type": "code",
   "execution_count": null,
   "id": "776c2b7f-4bf4-4170-9537-e57811d57d1e",
   "metadata": {},
   "outputs": [],
   "source": [
    "from syft.service.code.user_code import UserCode\n",
    "from syft.service.context import AuthedServiceContext"
   ]
  },
  {
   "cell_type": "code",
   "execution_count": null,
   "id": "4807a33c-9edc-4851-a80c-2b3f69968a44",
   "metadata": {},
   "outputs": [],
   "source": [
    "client_high_do.code.submit(low_request.code)"
   ]
  },
  {
   "cell_type": "code",
   "execution_count": null,
   "id": "9f1029c4-01a6-49aa-9113-2db2662e8a0c",
   "metadata": {},
   "outputs": [],
   "source": [
    "client_high_do._fetch_api(client_high_do.credentials)"
   ]
  },
  {
   "cell_type": "code",
   "execution_count": null,
   "id": "9bb02d03",
   "metadata": {},
   "outputs": [],
   "source": [
    "data_high = client_high_do.datasets[0].assets[0]\n"
   ]
  },
  {
   "cell_type": "code",
   "execution_count": null,
   "id": "61a3a416",
   "metadata": {},
   "outputs": [],
   "source": [
    "data_high"
   ]
  },
  {
   "cell_type": "code",
   "execution_count": null,
   "id": "523fb586",
   "metadata": {},
   "outputs": [],
   "source": [
    "list(high_side.python_node.get_service(\"usercodeservice\").stash.partition.data.values())[0].input_policy"
   ]
  },
  {
   "cell_type": "code",
   "execution_count": null,
   "id": "64547431-abee-42c8-98c0-3a5c11668e85",
   "metadata": {},
   "outputs": [],
   "source": [
    "res = client_high_do.code.compute_mean(data=data_high)"
   ]
  },
  {
   "cell_type": "code",
   "execution_count": null,
   "id": "f0e59f8d",
   "metadata": {},
   "outputs": [],
   "source": [
    "res"
   ]
  },
  {
   "cell_type": "code",
   "execution_count": null,
   "id": "f96e86fc",
   "metadata": {},
   "outputs": [],
   "source": [
    "r = client_low_do.requests[0]"
   ]
  },
  {
   "cell_type": "code",
   "execution_count": null,
   "id": "937963da",
   "metadata": {},
   "outputs": [],
   "source": [
    "r.accept_by_depositing_result(res)"
   ]
  },
  {
   "cell_type": "code",
   "execution_count": null,
   "id": "2f7ef37c",
   "metadata": {},
   "outputs": [],
   "source": [
    "res_low = client_low_ds.code.compute_mean(data=data_low)"
   ]
  },
  {
   "cell_type": "code",
   "execution_count": null,
   "id": "1d800d43",
   "metadata": {},
   "outputs": [],
   "source": [
    "res_low.get()"
   ]
  },
  {
   "cell_type": "code",
   "execution_count": null,
   "id": "b17ffbe1",
   "metadata": {},
   "outputs": [],
   "source": [
    "# dataset.asset_list[0].data.mean(data)"
   ]
  },
  {
   "cell_type": "code",
   "execution_count": null,
   "id": "f1f56ca2-596d-4776-a45d-6fd40b3fb058",
   "metadata": {},
   "outputs": [],
   "source": [
    "data_high.pointer"
   ]
  },
  {
   "cell_type": "code",
   "execution_count": null,
   "id": "ce3f702a-79ee-48fb-b455-0b00dad3a3f2",
   "metadata": {},
   "outputs": [],
   "source": []
  },
  {
   "cell_type": "code",
   "execution_count": null,
   "id": "9c80123d",
   "metadata": {},
   "outputs": [],
   "source": []
  }
 ],
 "metadata": {
  "kernelspec": {
   "display_name": "Python 3 (ipykernel)",
   "language": "python",
   "name": "python3"
  },
  "language_info": {
   "codemirror_mode": {
    "name": "ipython",
    "version": 3
   },
   "file_extension": ".py",
   "mimetype": "text/x-python",
   "name": "python",
   "nbconvert_exporter": "python",
   "pygments_lexer": "ipython3",
   "version": "3.9.16"
  },
  "toc": {
   "base_numbering": 1,
   "nav_menu": {},
   "number_sections": true,
   "sideBar": true,
   "skip_h1_title": false,
   "title_cell": "Table of Contents",
   "title_sidebar": "Contents",
   "toc_cell": false,
   "toc_position": {},
   "toc_section_display": true,
   "toc_window_display": true
  }
 },
 "nbformat": 4,
 "nbformat_minor": 5
}
