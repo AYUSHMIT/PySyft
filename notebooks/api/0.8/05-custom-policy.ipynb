{
 "cells": [
  {
   "cell_type": "code",
   "execution_count": 1,
   "id": "c292b468-55d7-4ab4-b0b3-5856b252e27e",
   "metadata": {
    "tags": []
   },
   "outputs": [
    {
     "name": "stderr",
     "output_type": "stream",
     "text": [
      "/home/teo/anaconda3/envs/PySyft/lib/python3.10/site-packages/scipy/__init__.py:146: UserWarning: A NumPy version >=1.16.5 and <1.23.0 is required for this version of SciPy (detected version 1.24.2\n",
      "  warnings.warn(f\"A NumPy version >={np_minversion} and <{np_maxversion}\"\n",
      "kj/filesystem-disk-unix.c++:1703: warning: PWD environment variable doesn't match current directory; pwd = /home/teo/OpenMined/PySyft\n"
     ]
    },
    {
     "name": "stdout",
     "output_type": "stream",
     "text": [
      "✅ The installed version of syft==0.8.0b3 matches the requirement >=0.8b0\n"
     ]
    },
    {
     "name": "stderr",
     "output_type": "stream",
     "text": [
      "add_credentials_for_key\n"
     ]
    }
   ],
   "source": [
    "import syft as sy\n",
    "sy.requires(\">=0.8-beta\")"
   ]
  },
  {
   "cell_type": "code",
   "execution_count": 2,
   "id": "13da7417-5721-44f6-8bbb-bee0c5aba30f",
   "metadata": {
    "tags": []
   },
   "outputs": [
    {
     "name": "stdout",
     "output_type": "stream",
     "text": [
      "SQLite Store Path:\n",
      "!open file:///tmp/7bca415d13ed1ec841f0d0aede098dbb.sqlite\n",
      "\n",
      "> Starting Worker: test-domain-1 - 7bca415d13ed1ec841f0d0aede098dbb - NodeType.DOMAIN - [<class 'syft.core.node.new.user_service.UserService'>, <class 'syft.core.node.new.metadata_service.MetadataService'>, <class 'syft.core.node.new.action_service.ActionService'>, <class 'syft.core.node.new.test_service.TestService'>, <class 'syft.core.node.new.dataset_service.DatasetService'>, <class 'syft.core.node.new.user_code_service.UserCodeService'>, <class 'syft.core.node.new.request_service.RequestService'>, <class 'syft.core.node.new.data_subject_service.DataSubjectService'>, <class 'syft.core.node.new.network_service.NetworkService'>, <class 'syft.core.node.new.policy_service.PolicyService'>, <class 'syft.core.node.new.message_service.MessageService'>, <class 'syft.core.node.new.project_service.ProjectService'>, <class 'syft.core.node.new.data_subject_member_service.DataSubjectMemberService'>]\n"
     ]
    }
   ],
   "source": [
    "node = sy.orchestra.launch(name=\"test-domain-1\", processes=1, reset=True)"
   ]
  },
  {
   "cell_type": "code",
   "execution_count": 3,
   "id": "29d14422-61f7-4a89-a1ae-a11c0e1b3a02",
   "metadata": {
    "tags": []
   },
   "outputs": [],
   "source": [
    "domain_client = node.login(email=\"info@openmined.org\", password=\"changethis\")"
   ]
  },
  {
   "cell_type": "code",
   "execution_count": 4,
   "id": "95bd8bf3-ec6f-49a7-86c3-ba81ecaffda1",
   "metadata": {
    "tags": []
   },
   "outputs": [],
   "source": [
    "from syft.core.node.new.new_policy import CustomOutputPolicy\n",
    "@sy.serializable()\n",
    "class RepeatedCallPolicy(CustomOutputPolicy):\n",
    "    __canonical_name__ = \"RepeatedCallPolicy\"\n",
    "    from typing import List, Dict, Any\n",
    "\n",
    "    n_calls: int\n",
    "    downloadable_output_args: List[str]\n",
    "    state: Dict[Any, Any] = {}\n",
    "    \n",
    "    __attr_allowlist__ = [\n",
    "        \"n_calls\",\n",
    "        \"downloadable_output_args\",\n",
    "    ]\n",
    "\n",
    "    def __init__(self, n_calls=1, downloadable_output_args=None):\n",
    "        super().__init__(n_calls=n_calls, downloadable_output_args=downloadable_output_args)\n",
    "        self.n_calls = n_calls + 1\n",
    "        self.downloadable_output_args = downloadable_output_args if not None else []\n",
    "        self.state = {\"counts\": 0}\n",
    "\n",
    "    def public_state(self):\n",
    "        return self.state[\"counts\"]\n",
    "        \n",
    "    def apply_output(self, action_object):\n",
    "        output_dict = {}\n",
    "        results_dict = action_object.syft_action_data        \n",
    "        if self.state[\"counts\"] < self.n_calls:\n",
    "            for output_arg in self.downloadable_output_args:\n",
    "                output_dict[output_arg] = results_dict[output_arg]\n",
    "\n",
    "            self.state[\"counts\"] += 1\n",
    "        else:\n",
    "            return None\n",
    "\n",
    "        return output_dict"
   ]
  },
  {
   "cell_type": "code",
   "execution_count": 5,
   "id": "492f8463-efa1-415d-801a-8d3d286196ce",
   "metadata": {
    "tags": []
   },
   "outputs": [
    {
     "ename": "AttributeError",
     "evalue": "'RepeatedCallPolicy' object has no attribute 'kwargs'",
     "output_type": "error",
     "traceback": [
      "\u001b[0;31m---------------------------------------------------------------------------\u001b[0m",
      "\u001b[0;31mAttributeError\u001b[0m                            Traceback (most recent call last)",
      "\u001b[1;32m/home/teo/OpenMined/PySyft/notebooks/api/0.8/05-custom-policy.ipynb Cell 5\u001b[0m in \u001b[0;36m2\n\u001b[1;32m      <a href='vscode-notebook-cell:/home/teo/OpenMined/PySyft/notebooks/api/0.8/05-custom-policy.ipynb#W4sZmlsZQ%3D%3D?line=0'>1</a>\u001b[0m policy \u001b[39m=\u001b[39m RepeatedCallPolicy(n_calls\u001b[39m=\u001b[39m\u001b[39m1\u001b[39m, downloadable_output_args\u001b[39m=\u001b[39m[\u001b[39m'\u001b[39m\u001b[39my\u001b[39m\u001b[39m'\u001b[39m])\n\u001b[0;32m----> <a href='vscode-notebook-cell:/home/teo/OpenMined/PySyft/notebooks/api/0.8/05-custom-policy.ipynb#W4sZmlsZQ%3D%3D?line=1'>2</a>\u001b[0m \u001b[39mprint\u001b[39m(policy\u001b[39m.\u001b[39minit_args, policy\u001b[39m.\u001b[39;49mkwargs)\n\u001b[1;32m      <a href='vscode-notebook-cell:/home/teo/OpenMined/PySyft/notebooks/api/0.8/05-custom-policy.ipynb#W4sZmlsZQ%3D%3D?line=2'>3</a>\u001b[0m a_obj \u001b[39m=\u001b[39m sy\u001b[39m.\u001b[39mActionObject\u001b[39m.\u001b[39mfrom_obj({\u001b[39m'\u001b[39m\u001b[39my\u001b[39m\u001b[39m'\u001b[39m: [\u001b[39m1\u001b[39m,\u001b[39m2\u001b[39m,\u001b[39m3\u001b[39m]})\n\u001b[1;32m      <a href='vscode-notebook-cell:/home/teo/OpenMined/PySyft/notebooks/api/0.8/05-custom-policy.ipynb#W4sZmlsZQ%3D%3D?line=3'>4</a>\u001b[0m policy\u001b[39m.\u001b[39mapply_output(a_obj)\n",
      "\u001b[0;31mAttributeError\u001b[0m: 'RepeatedCallPolicy' object has no attribute 'kwargs'"
     ]
    }
   ],
   "source": [
    "policy = RepeatedCallPolicy(n_calls=1, downloadable_output_args=['y'])\n",
    "print(policy.init_args, policy.init_kwargs)\n",
    "a_obj = sy.ActionObject.from_obj({'y': [1,2,3]})\n",
    "policy.apply_output(a_obj)"
   ]
  },
  {
   "cell_type": "code",
   "execution_count": null,
   "id": "96bef6cf-3a76-4b4b-8767-929c42d44a90",
   "metadata": {
    "tags": []
   },
   "outputs": [
    {
     "data": {
      "text/html": [
       "<div class=\"alert-success\" style=\"padding:5px;\"><strong>SyftSuccess</strong>: <class 'syft.core.node.new.numpy.NumpyArrayObject'> saved</div><br />"
      ],
      "text/plain": [
       "<class 'syft.core.node.new.response.SyftSuccess'>: <class 'syft.core.node.new.numpy.NumpyArrayObject'> saved"
      ]
     },
     "execution_count": 6,
     "metadata": {},
     "output_type": "execute_result"
    }
   ],
   "source": [
    "import numpy as np\n",
    "x = np.array([1,2,3])\n",
    "x_pointer = sy.ActionObject.from_obj(x)\n",
    "domain_client.api.services.action.save(x_pointer)"
   ]
  },
  {
   "cell_type": "code",
   "execution_count": null,
   "id": "e344dc56-cd88-4ecd-a771-a043db977be3",
   "metadata": {
    "tags": []
   },
   "outputs": [
    {
     "data": {
      "text/markdown": [
       "```python\n",
       "class RepeatedCallPolicy:\n",
       "  id: str = 76102705841146199c198147f6d2002c\n",
       "  outputs: str = []\n",
       "  state_type: str = None\n",
       "  node_uid: str = None\n",
       "  init_args: str = ()\n",
       "  kwargs: str = {'n_calls': 1, 'downloadable_output_args': ['y']}\n",
       "  n_calls: str = 2\n",
       "  downloadable_output_args: str = ['y']\n",
       "  state: str = {'counts': 0}\n",
       "\n",
       "```"
      ],
      "text/plain": [
       "__main__.RepeatedCallPolicy"
      ]
     },
     "execution_count": 7,
     "metadata": {},
     "output_type": "execute_result"
    }
   ],
   "source": [
    "obj = RepeatedCallPolicy(n_calls=1, downloadable_output_args=['y'])\n",
    "obj"
   ]
  },
  {
   "cell_type": "code",
   "execution_count": null,
   "id": "9e550277-6a69-4d11-8c6d-fc1b8e07cb85",
   "metadata": {
    "tags": []
   },
   "outputs": [
    {
     "data": {
      "text/markdown": [
       "```python\n",
       "class RepeatedCallPolicy:\n",
       "  id: str = 76102705841146199c198147f6d2002c\n",
       "  outputs: str = []\n",
       "  state_type: str = None\n",
       "  node_uid: str = None\n",
       "  init_args: str = ()\n",
       "  kwargs: str = {'n_calls': 1, 'downloadable_output_args': ['y']}\n",
       "  n_calls: str = 2\n",
       "  downloadable_output_args: str = ['y']\n",
       "  state: str = {'counts': 0}\n",
       "\n",
       "```"
      ],
      "text/plain": [
       "__main__.RepeatedCallPolicy"
      ]
     },
     "execution_count": 8,
     "metadata": {},
     "output_type": "execute_result"
    }
   ],
   "source": [
    "obj"
   ]
  },
  {
   "cell_type": "code",
   "execution_count": null,
   "id": "122cefa4-ef03-4527-b7fb-96f0790921e9",
   "metadata": {
    "tags": []
   },
   "outputs": [
    {
     "data": {
      "text/html": [
       "{&#x27;n_calls&#x27;: 1, &#x27;downloadable_output_args&#x27;: [&#x27;y&#x27;]}"
      ],
      "text/plain": [
       "{'n_calls': 1, 'downloadable_output_args': ['y']}"
      ]
     },
     "execution_count": 9,
     "metadata": {},
     "output_type": "execute_result"
    }
   ],
   "source": [
    "obj.kwargs"
   ]
  },
  {
   "cell_type": "code",
   "execution_count": null,
   "id": "5da4428a-0fed-41e3-b770-02fbaca20bfc",
   "metadata": {
    "tags": []
   },
   "outputs": [
    {
     "name": "stdout",
     "output_type": "stream",
     "text": [
      "syft.core.node.new.new_policy.ExactMatch\n",
      "UserPolicy\n"
     ]
    },
    {
     "ename": "TypeError",
     "evalue": "issubclass() arg 1 must be a class",
     "output_type": "error",
     "traceback": [
      "\u001b[0;31m---------------------------------------------------------------------------\u001b[0m",
      "\u001b[0;31mTypeError\u001b[0m                                 Traceback (most recent call last)",
      "\u001b[1;32m/home/teo/OpenMined/PySyft/notebooks/api/0.8/05-custom-policy.ipynb Cell 10\u001b[0m in \u001b[0;36m2\n\u001b[1;32m      <a href='vscode-notebook-cell:/home/teo/OpenMined/PySyft/notebooks/api/0.8/05-custom-policy.ipynb#X12sZmlsZQ%3D%3D?line=0'>1</a>\u001b[0m \u001b[39mfrom\u001b[39;00m \u001b[39msyft\u001b[39;00m\u001b[39m.\u001b[39;00m\u001b[39mcore\u001b[39;00m\u001b[39m.\u001b[39;00m\u001b[39mnode\u001b[39;00m\u001b[39m.\u001b[39;00m\u001b[39mnew\u001b[39;00m\u001b[39m.\u001b[39;00m\u001b[39mnew_policy\u001b[39;00m \u001b[39mimport\u001b[39;00m ExactMatch\n\u001b[0;32m----> <a href='vscode-notebook-cell:/home/teo/OpenMined/PySyft/notebooks/api/0.8/05-custom-policy.ipynb#X12sZmlsZQ%3D%3D?line=1'>2</a>\u001b[0m \u001b[39m@sy\u001b[39m\u001b[39m.\u001b[39;49msyft_function(\n\u001b[1;32m      <a href='vscode-notebook-cell:/home/teo/OpenMined/PySyft/notebooks/api/0.8/05-custom-policy.ipynb#X12sZmlsZQ%3D%3D?line=2'>3</a>\u001b[0m     input_policy\u001b[39m=\u001b[39;49mExactMatch(x\u001b[39m=\u001b[39;49mx_pointer),\n\u001b[1;32m      <a href='vscode-notebook-cell:/home/teo/OpenMined/PySyft/notebooks/api/0.8/05-custom-policy.ipynb#X12sZmlsZQ%3D%3D?line=3'>4</a>\u001b[0m     output_policy\u001b[39m=\u001b[39;49mRepeatedCallPolicy(n_calls\u001b[39m=\u001b[39;49m\u001b[39m1\u001b[39;49m, downloadable_output_args\u001b[39m=\u001b[39;49m[\u001b[39m'\u001b[39;49m\u001b[39my\u001b[39;49m\u001b[39m'\u001b[39;49m]),\n\u001b[1;32m      <a href='vscode-notebook-cell:/home/teo/OpenMined/PySyft/notebooks/api/0.8/05-custom-policy.ipynb#X12sZmlsZQ%3D%3D?line=4'>5</a>\u001b[0m )\n\u001b[1;32m      <a href='vscode-notebook-cell:/home/teo/OpenMined/PySyft/notebooks/api/0.8/05-custom-policy.ipynb#X12sZmlsZQ%3D%3D?line=5'>6</a>\u001b[0m \u001b[39mdef\u001b[39;00m \u001b[39mfunc\u001b[39m(x):\n\u001b[1;32m      <a href='vscode-notebook-cell:/home/teo/OpenMined/PySyft/notebooks/api/0.8/05-custom-policy.ipynb#X12sZmlsZQ%3D%3D?line=6'>7</a>\u001b[0m     \u001b[39mreturn\u001b[39;00m {\u001b[39m\"\u001b[39m\u001b[39my\u001b[39m\u001b[39m\"\u001b[39m: x\u001b[39m+\u001b[39m\u001b[39m1\u001b[39m}\n",
      "File \u001b[0;32m~/OpenMined/PySyft/packages/syft/src/syft/core/node/new/user_code.py:361\u001b[0m, in \u001b[0;36msyft_function\u001b[0;34m(input_policy, output_policy, outputs, input_policy_init_args, output_policy_init_args)\u001b[0m\n\u001b[1;32m    359\u001b[0m     \u001b[39mprint\u001b[39m(\u001b[39m\"\u001b[39m\u001b[39mUserPolicy\u001b[39m\u001b[39m\"\u001b[39m)\n\u001b[1;32m    360\u001b[0m     output_policy \u001b[39m=\u001b[39m output_policy\n\u001b[0;32m--> 361\u001b[0m \u001b[39melif\u001b[39;00m \u001b[39missubclass\u001b[39;49m(output_policy, OutputPolicy):\n\u001b[1;32m    362\u001b[0m     \u001b[39mprint\u001b[39m(\u001b[39m\"\u001b[39m\u001b[39mOutputPolicy\u001b[39m\u001b[39m\"\u001b[39m)\n\u001b[1;32m    363\u001b[0m     output_policy \u001b[39m=\u001b[39m output_policy(\u001b[39m*\u001b[39m\u001b[39m*\u001b[39moutput_policy_init_args)\n",
      "File \u001b[0;32m~/anaconda3/envs/PySyft/lib/python3.10/abc.py:123\u001b[0m, in \u001b[0;36mABCMeta.__subclasscheck__\u001b[0;34m(cls, subclass)\u001b[0m\n\u001b[1;32m    121\u001b[0m \u001b[39mdef\u001b[39;00m \u001b[39m__subclasscheck__\u001b[39m(\u001b[39mcls\u001b[39m, subclass):\n\u001b[1;32m    122\u001b[0m     \u001b[39m\"\"\"Override for issubclass(subclass, cls).\"\"\"\u001b[39;00m\n\u001b[0;32m--> 123\u001b[0m     \u001b[39mreturn\u001b[39;00m _abc_subclasscheck(\u001b[39mcls\u001b[39;49m, subclass)\n",
      "\u001b[0;31mTypeError\u001b[0m: issubclass() arg 1 must be a class"
     ]
    }
   ],
   "source": [
    "from syft.core.node.new.new_policy import ExactMatch\n",
    "@sy.syft_function(\n",
    "    input_policy=ExactMatch(x=x_pointer),\n",
    "    output_policy=RepeatedCallPolicy(n_calls=1, downloadable_output_args=['y']),\n",
    ")\n",
    "def func(x):\n",
    "    return {\"y\": x+1}"
   ]
  },
  {
   "cell_type": "code",
   "execution_count": null,
   "id": "a9b7be1d-cff1-49d7-a6f9-25cf107eb9af",
   "metadata": {
    "tags": []
   },
   "outputs": [
    {
     "name": "stdout",
     "output_type": "stream",
     "text": [
      "what kind of output_policy syft.core.node.new.policy.UserPolicy <class 'syft.core.node.new.policy.UserPolicy'>\n"
     ]
    },
    {
     "data": {
      "text/markdown": [
       "```python\n",
       "class Request:\n",
       "  id: str = 551ea00c9485496c9aa0552f9a6da07a\n",
       "  requesting_user_verify_key: str = aec6ea4dfc049ceacaeeebc493167a88a200ddc367b1fa32da652444b635d21f\n",
       "  approving_user_verify_key: str = None\n",
       "  request_time: str = 2023-03-22 06:39:57\n",
       "  approval_time: str = None\n",
       "  status: str = RequestStatus.PENDING\n",
       "  node_uid: str = 7bca415d13ed1ec841f0d0aede098dbb\n",
       "  request_hash: str = \"0fc6534a95478c244239617395e5902014db59db10c25e2089680a32c0db3ac3\"\n",
       "  changes: str = [syft.core.node.new.request.UserCodeStatusChange]\n",
       "\n",
       "```"
      ],
      "text/plain": [
       "syft.core.node.new.request.Request"
      ]
     },
     "execution_count": 11,
     "metadata": {},
     "output_type": "execute_result"
    }
   ],
   "source": [
    "domain_client.api.services.code.request_code_execution(func)"
   ]
  },
  {
   "cell_type": "code",
   "execution_count": null,
   "id": "04790e5b-9224-4d82-9784-5a76f2764c20",
   "metadata": {
    "tags": []
   },
   "outputs": [
    {
     "data": {
      "text/markdown": [
       "```python\n",
       "class UserCodeStatusChange:\n",
       "  id: str = cb917806c3c4495b9d17864434454a95\n",
       "  linked_obj: str = <<class 'syft.core.node.new.user_code.UserCode'>: d3483f27ffa24f27891cd2dfe098f921@<Node: 7bca415d13ed1ec841f0d0aede098dbb>\n",
       "  value: str = UserCodeStatus.EXECUTE\n",
       "  match_type: str = True\n",
       "\n",
       "```"
      ],
      "text/plain": [
       "syft.core.node.new.request.UserCodeStatusChange"
      ]
     },
     "execution_count": 12,
     "metadata": {},
     "output_type": "execute_result"
    }
   ],
   "source": [
    "request = domain_client.notifications[-1].link\n",
    "change = func = request.changes[-1]\n",
    "change"
   ]
  },
  {
   "cell_type": "code",
   "execution_count": null,
   "id": "bcca56c9-0d10-4a37-9c1a-aa3c3205a54c",
   "metadata": {
    "tags": []
   },
   "outputs": [
    {
     "data": {
      "text/html": [
       "<div class=\"alert-success\" style=\"padding:5px;\"><strong>SyftSuccess</strong>: Request 551ea00c9485496c9aa0552f9a6da07a changes applied</div><br />"
      ],
      "text/plain": [
       "<class 'syft.core.node.new.response.SyftSuccess'>: Request 551ea00c9485496c9aa0552f9a6da07a changes applied"
      ]
     },
     "execution_count": 13,
     "metadata": {},
     "output_type": "execute_result"
    }
   ],
   "source": [
    "request.approve()"
   ]
  },
  {
   "cell_type": "code",
   "execution_count": null,
   "id": "59c481fa-06bd-46e1-8d76-d03849edfa8c",
   "metadata": {
    "tags": []
   },
   "outputs": [
    {
     "data": {
      "text/markdown": [
       "```python\n",
       "class UserCode:\n",
       "  id: str = d3483f27ffa24f27891cd2dfe098f921\n",
       "  user_verify_key: str = aec6ea4dfc049ceacaeeebc493167a88a200ddc367b1fa32da652444b635d21f\n",
       "  raw_code: str = \"@sy.syft_function(\n",
       "    input_policy=sy.ExactMatch(x=x_pointer),\n",
       "    output_policy=RepeatedCallPolicy(n_calls=1, downloadable_output_args=['y']),\n",
       ")\n",
       "def func(x):\n",
       "    return {\"y\": x+1}\n",
       "\"\n",
       "  input_policy: str = syft.core.node.new.policy.ExactMatch\n",
       "  input_policy_state: str = None\n",
       "  output_policy: str = syft.core.node.new.policy.UserPolicy\n",
       "  output_policy_state: str = None\n",
       "  parsed_code: str = \"\n",
       "\n",
       "def user_func_func_aec6ea4dfc049ceacaeeebc493167a88a200ddc367b1fa32da652444b635d21f_7a4aa2531a85db30bc30d3f6e5092cfb68f45feb0c0d0807a32229d527e87829(x):\n",
       "\n",
       "    def func(x):\n",
       "        return {'y': (x + 1)}\n",
       "    result = func(x=x)\n",
       "    return result\n",
       "\"\n",
       "  service_func_name: str = \"func\"\n",
       "  unique_func_name: str = \"user_func_func_aec6ea4dfc049ceacaeeebc493167a88a200ddc367b1fa32da652444b635d21f_7a4aa2531a85db30bc30d3f6e5092cfb68f45feb0c0d0807a32229d527e87829\"\n",
       "  user_unique_func_name: str = \"user_func_func_aec6ea4dfc049ceacaeeebc493167a88a200ddc367b1fa32da652444b635d21f\"\n",
       "  code_hash: str = \"7a4aa2531a85db30bc30d3f6e5092cfb68f45feb0c0d0807a32229d527e87829\"\n",
       "  signature: str = (x) -> Dict[str, Any]\n",
       "  status: str = {NodeView(node_name='test-domain-1', verify_key=aec6ea4dfc049ceacaeeebc493167a88a200ddc367b1fa32da652444b635d21f): <UserCodeStatus.EXECUTE: 'execute'>}\n",
       "  input_kwargs: str = ['x']\n",
       "  outputs: str = []\n",
       "  input_policy_init_args: str = None\n",
       "  output_policy_init_args: str = {'n_calls': 1, 'downloadable_output_args': ['y']}\n",
       "  enclave_metadata: str = None\n",
       "\n",
       "```"
      ],
      "text/plain": [
       "syft.core.node.new.user_code.UserCode"
      ]
     },
     "execution_count": 14,
     "metadata": {},
     "output_type": "execute_result"
    }
   ],
   "source": [
    "func = request.changes[-1].link\n",
    "func"
   ]
  },
  {
   "cell_type": "code",
   "execution_count": null,
   "id": "ea4c3f91-dde3-4bd5-99a7-7fba0f12015a",
   "metadata": {
    "tags": []
   },
   "outputs": [
    {
     "name": "stdout",
     "output_type": "stream",
     "text": [
      "WARNING: This code was submitted by a User and could be UNSAFE.\n",
      "Exception detected in make_action_side_effect 'int' object has no attribute 'syft_lineage_id'\n"
     ]
    },
    {
     "data": {
      "text/html": [
       "Dict - Size: 1\n",
       "<div>\n",
       "<style scoped>\n",
       "    .dataframe tbody tr th:only-of-type {\n",
       "        vertical-align: middle;\n",
       "    }\n",
       "\n",
       "    .dataframe tbody tr th {\n",
       "        vertical-align: top;\n",
       "    }\n",
       "\n",
       "    .dataframe thead th {\n",
       "        text-align: right;\n",
       "    }\n",
       "</style>\n",
       "<table border=\"1\" class=\"dataframe\">\n",
       "  <thead>\n",
       "    <tr style=\"text-align: right;\">\n",
       "      <th></th>\n",
       "      <th>key</th>\n",
       "      <th>type</th>\n",
       "      <th>id</th>\n",
       "    </tr>\n",
       "  </thead>\n",
       "  <tbody>\n",
       "    <tr>\n",
       "      <th>0</th>\n",
       "      <td>y</td>\n",
       "      <td>array([2, 3, 4])</td>\n",
       "      <td>75ebb9b2eef945909c9b364dc5079039</td>\n",
       "    </tr>\n",
       "  </tbody>\n",
       "</table>\n",
       "</div>"
      ],
      "text/plain": [
       "{'y': array([2, 3, 4])}"
      ]
     },
     "execution_count": 15,
     "metadata": {},
     "output_type": "execute_result"
    }
   ],
   "source": [
    "result = func.unsafe_function(x=x_pointer)\n",
    "result"
   ]
  },
  {
   "cell_type": "code",
   "execution_count": null,
   "id": "92e69bce-aeb4-41eb-baf0-ee9d7687c485",
   "metadata": {
    "tags": []
   },
   "outputs": [
    {
     "data": {
      "text/html": [
       "Dict - Size: 1\n",
       "<div>\n",
       "<style scoped>\n",
       "    .dataframe tbody tr th:only-of-type {\n",
       "        vertical-align: middle;\n",
       "    }\n",
       "\n",
       "    .dataframe tbody tr th {\n",
       "        vertical-align: top;\n",
       "    }\n",
       "\n",
       "    .dataframe thead th {\n",
       "        text-align: right;\n",
       "    }\n",
       "</style>\n",
       "<table border=\"1\" class=\"dataframe\">\n",
       "  <thead>\n",
       "    <tr style=\"text-align: right;\">\n",
       "      <th></th>\n",
       "      <th>key</th>\n",
       "      <th>type</th>\n",
       "      <th>id</th>\n",
       "    </tr>\n",
       "  </thead>\n",
       "  <tbody>\n",
       "    <tr>\n",
       "      <th>0</th>\n",
       "      <td>y</td>\n",
       "      <td>array([2, 3, 4])</td>\n",
       "      <td>75ebb9b2eef945909c9b364dc5079039</td>\n",
       "    </tr>\n",
       "  </tbody>\n",
       "</table>\n",
       "</div>"
      ],
      "text/plain": [
       "{'y': array([2, 3, 4])}"
      ]
     },
     "execution_count": 16,
     "metadata": {},
     "output_type": "execute_result"
    }
   ],
   "source": [
    "result"
   ]
  },
  {
   "cell_type": "code",
   "execution_count": null,
   "id": "3b7a2f1c-dada-4195-8bd9-8f52c4c76bca",
   "metadata": {
    "tags": []
   },
   "outputs": [
    {
     "name": "stdout",
     "output_type": "stream",
     "text": [
      "message='Policy Code Submitted'\n"
     ]
    },
    {
     "data": {
      "text/html": [
       "<div class=\"alert-success\" style=\"padding:5px;\"><strong>SyftSuccess</strong>: Request 551ea00c9485496c9aa0552f9a6da07a changes applied</div><br />"
      ],
      "text/plain": [
       "<class 'syft.core.node.new.response.SyftSuccess'>: Request 551ea00c9485496c9aa0552f9a6da07a changes applied"
      ]
     },
     "execution_count": 17,
     "metadata": {},
     "output_type": "execute_result"
    }
   ],
   "source": [
    "final_result = request.accept_by_depositing_result(result) \n",
    "final_result"
   ]
  },
  {
   "cell_type": "code",
   "execution_count": null,
   "id": "cdbcc474-9976-4c76-a508-fe3edf5bc18c",
   "metadata": {
    "tags": []
   },
   "outputs": [
    {
     "name": "stdout",
     "output_type": "stream",
     "text": [
      "output_policy_state <class 'bytes'>\n"
     ]
    },
    {
     "data": {
      "text/html": [
       "{&#x27;y&#x27;: array([2, 3, 4])}"
      ],
      "text/plain": [
       "{'y': array([2, 3, 4])}"
      ]
     },
     "execution_count": 18,
     "metadata": {},
     "output_type": "execute_result"
    }
   ],
   "source": [
    "res = domain_client.api.services.code.func(x=x_pointer)\n",
    "res"
   ]
  },
  {
   "cell_type": "code",
   "execution_count": null,
   "id": "538d14fa-1c7a-4f7c-bd27-4d97b5311b4c",
   "metadata": {
    "tags": []
   },
   "outputs": [],
   "source": [
    "assert (res[\"y\"] == np.array([2, 3, 4])).all()"
   ]
  },
  {
   "cell_type": "code",
   "execution_count": null,
   "id": "65b2ca60-6605-4dc3-a5d4-17fb368b808e",
   "metadata": {
    "tags": []
   },
   "outputs": [],
   "source": [
    "assert set(res.keys()) == set(list(\"y\"))"
   ]
  },
  {
   "cell_type": "code",
   "execution_count": null,
   "id": "4592fee8-5d23-4881-ad84-73c734b7e9d9",
   "metadata": {
    "tags": []
   },
   "outputs": [
    {
     "data": {
      "text/html": [
       "List - Size: 1\n",
       "<div>\n",
       "<style scoped>\n",
       "    .dataframe tbody tr th:only-of-type {\n",
       "        vertical-align: middle;\n",
       "    }\n",
       "\n",
       "    .dataframe tbody tr th {\n",
       "        vertical-align: top;\n",
       "    }\n",
       "\n",
       "    .dataframe thead th {\n",
       "        text-align: right;\n",
       "    }\n",
       "</style>\n",
       "<table border=\"1\" class=\"dataframe\">\n",
       "  <thead>\n",
       "    <tr style=\"text-align: right;\">\n",
       "      <th></th>\n",
       "      <th>type</th>\n",
       "      <th>id</th>\n",
       "      <th>status</th>\n",
       "      <th>service_func_name</th>\n",
       "    </tr>\n",
       "  </thead>\n",
       "  <tbody>\n",
       "    <tr>\n",
       "      <th>0</th>\n",
       "      <td>syft.core.node.new.user_code.UserCode</td>\n",
       "      <td>d3483f27ffa24f27891cd2dfe098f921</td>\n",
       "      <td>{NodeView(node_name='test-domain-1', verify_ke...</td>\n",
       "      <td>func</td>\n",
       "    </tr>\n",
       "  </tbody>\n",
       "</table>\n",
       "</div>"
      ],
      "text/plain": [
       "[syft.core.node.new.user_code.UserCode]"
      ]
     },
     "execution_count": 21,
     "metadata": {},
     "output_type": "execute_result"
    }
   ],
   "source": [
    "domain_client.api.services.code.get_all()"
   ]
  },
  {
   "cell_type": "code",
   "execution_count": null,
   "id": "d17c7e2a-93fa-4f45-abd3-c19fbded5989",
   "metadata": {
    "tags": []
   },
   "outputs": [
    {
     "data": {
      "text/html": [
       "List - Size: 1\n",
       "<div>\n",
       "<style scoped>\n",
       "    .dataframe tbody tr th:only-of-type {\n",
       "        vertical-align: middle;\n",
       "    }\n",
       "\n",
       "    .dataframe tbody tr th {\n",
       "        vertical-align: top;\n",
       "    }\n",
       "\n",
       "    .dataframe thead th {\n",
       "        text-align: right;\n",
       "    }\n",
       "</style>\n",
       "<table border=\"1\" class=\"dataframe\">\n",
       "  <thead>\n",
       "    <tr style=\"text-align: right;\">\n",
       "      <th></th>\n",
       "      <th>type</th>\n",
       "      <th>id</th>\n",
       "    </tr>\n",
       "  </thead>\n",
       "  <tbody>\n",
       "    <tr>\n",
       "      <th>0</th>\n",
       "      <td>syft.core.node.new.policy.UserPolicy</td>\n",
       "      <td>d741f3d32dcd4d1c86aa19383542730a</td>\n",
       "    </tr>\n",
       "  </tbody>\n",
       "</table>\n",
       "</div>"
      ],
      "text/plain": [
       "[syft.core.node.new.policy.UserPolicy]"
      ]
     },
     "execution_count": 22,
     "metadata": {},
     "output_type": "execute_result"
    }
   ],
   "source": [
    "domain_client.api.services.policy.get_all()"
   ]
  },
  {
   "cell_type": "code",
   "execution_count": null,
   "id": "fab5b15c-6df3-4fe1-97b7-a2971f4ca6cc",
   "metadata": {
    "tags": []
   },
   "outputs": [],
   "source": [
    "output_policy = domain_client.api.services.policy.get_all()[0]"
   ]
  },
  {
   "cell_type": "code",
   "execution_count": null,
   "id": "0f88fdf9-069c-4282-baee-41f04b8bbe06",
   "metadata": {
    "tags": []
   },
   "outputs": [
    {
     "name": "stdout",
     "output_type": "stream",
     "text": [
      "SQLite Store Path:\n",
      "!open file:///tmp/7bca415d13ed1ec841f0d0aede098dbb.sqlite\n",
      "\n",
      "> Starting Worker: test-domain-1 - 7bca415d13ed1ec841f0d0aede098dbb - NodeType.DOMAIN - [<class 'syft.core.node.new.user_service.UserService'>, <class 'syft.core.node.new.metadata_service.MetadataService'>, <class 'syft.core.node.new.action_service.ActionService'>, <class 'syft.core.node.new.test_service.TestService'>, <class 'syft.core.node.new.dataset_service.DatasetService'>, <class 'syft.core.node.new.user_code_service.UserCodeService'>, <class 'syft.core.node.new.request_service.RequestService'>, <class 'syft.core.node.new.data_subject_service.DataSubjectService'>, <class 'syft.core.node.new.network_service.NetworkService'>, <class 'syft.core.node.new.policy_service.PolicyService'>, <class 'syft.core.node.new.message_service.MessageService'>, <class 'syft.core.node.new.project_service.ProjectService'>, <class 'syft.core.node.new.data_subject_member_service.DataSubjectMemberService'>]\n"
     ]
    }
   ],
   "source": [
    "sy.orchestra.land(\"test-domain-1\")"
   ]
  },
  {
   "cell_type": "code",
   "execution_count": null,
   "id": "6d59c608-9d34-475d-a8b6-05fd030a9e8d",
   "metadata": {},
   "outputs": [],
   "source": []
  }
 ],
 "metadata": {
  "kernelspec": {
   "display_name": "Python 3 (ipykernel)",
   "language": "python",
   "name": "python3"
  },
  "language_info": {
   "codemirror_mode": {
    "name": "ipython",
    "version": 3
   },
   "file_extension": ".py",
   "mimetype": "text/x-python",
   "name": "python",
   "nbconvert_exporter": "python",
   "pygments_lexer": "ipython3",
   "version": "3.10.4"
  }
 },
 "nbformat": 4,
 "nbformat_minor": 5
}
