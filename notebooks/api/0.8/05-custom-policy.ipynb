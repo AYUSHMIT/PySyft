{
 "cells": [
  {
   "cell_type": "code",
   "execution_count": 1,
   "id": "c292b468-55d7-4ab4-b0b3-5856b252e27e",
   "metadata": {
    "tags": []
   },
   "outputs": [
    {
     "name": "stderr",
     "output_type": "stream",
     "text": [
      "kj/filesystem-disk-unix.c++:1703: warning: PWD environment variable doesn't match current directory; pwd = /home/teo/PySyft\n"
     ]
    },
    {
     "name": "stdout",
     "output_type": "stream",
     "text": [
      "✅ The installed version of syft==0.8.0b4 matches the requirement >=0.8b0\n"
     ]
    }
   ],
   "source": [
    "import syft as sy\n",
    "sy.requires(\">=0.8-beta\")"
   ]
  },
  {
   "cell_type": "code",
   "execution_count": 2,
   "id": "13da7417-5721-44f6-8bbb-bee0c5aba30f",
   "metadata": {
    "tags": []
   },
   "outputs": [
    {
     "name": "stdout",
     "output_type": "stream",
     "text": [
      "SQLite Store Path:\n",
      "!open file:///tmp/7bca415d13ed1ec841f0d0aede098dbb.sqlite\n",
      "\n",
      "> Starting Worker: test-domain-1 - 7bca415d13ed1ec841f0d0aede098dbb - NodeType.DOMAIN - [<class 'syft.core.node.new.user_service.UserService'>, <class 'syft.core.node.new.metadata_service.MetadataService'>, <class 'syft.core.node.new.action_service.ActionService'>, <class 'syft.core.node.new.test_service.TestService'>, <class 'syft.core.node.new.dataset_service.DatasetService'>, <class 'syft.core.node.new.user_code_service.UserCodeService'>, <class 'syft.core.node.new.request_service.RequestService'>, <class 'syft.core.node.new.data_subject_service.DataSubjectService'>, <class 'syft.core.node.new.network_service.NetworkService'>, <class 'syft.core.node.new.policy_service.PolicyService'>, <class 'syft.core.node.new.message_service.MessageService'>, <class 'syft.core.node.new.project_service.ProjectService'>, <class 'syft.core.node.new.data_subject_member_service.DataSubjectMemberService'>]\n"
     ]
    }
   ],
   "source": [
    "node = sy.orchestra.launch(name=\"test-domain-1\", processes=1, reset=True)"
   ]
  },
  {
   "cell_type": "code",
   "execution_count": 3,
   "id": "e6ea7d9c",
   "metadata": {},
   "outputs": [
    {
     "data": {
      "text/plain": [
       "<hagrid.orchestra.NodeHandle at 0x7fc3aca29870>"
      ]
     },
     "execution_count": 3,
     "metadata": {},
     "output_type": "execute_result"
    }
   ],
   "source": [
    "node"
   ]
  },
  {
   "cell_type": "code",
   "execution_count": 4,
   "id": "29d14422-61f7-4a89-a1ae-a11c0e1b3a02",
   "metadata": {
    "tags": []
   },
   "outputs": [],
   "source": [
    "domain_client = node.login(email=\"info@openmined.org\", password=\"changethis\")"
   ]
  },
  {
   "cell_type": "code",
   "execution_count": 5,
   "id": "95bd8bf3-ec6f-49a7-86c3-ba81ecaffda1",
   "metadata": {
    "tags": []
   },
   "outputs": [],
   "source": [
    "from syft.core.node.new.new_policy import CustomOutputPolicy\n",
    "@sy.serializable()\n",
    "class RepeatedCallPolicy(CustomOutputPolicy):\n",
    "    __canonical_name__ = \"RepeatedCallPolicy\"\n",
    "    __version__ = 1\n",
    "    from typing import List, Dict, Any\n",
    "\n",
    "    n_calls: int\n",
    "    downloadable_output_args: List[str]\n",
    "    state: Dict[Any, Any] = {}\n",
    "    \n",
    "    __attr_allowlist__ = [\n",
    "        \"n_calls\",\n",
    "        \"downloadable_output_args\",\n",
    "    ]\n",
    "\n",
    "    def __init__(self, n_calls=1, downloadable_output_args=None):\n",
    "        super().__init__(n_calls=n_calls, downloadable_output_args=downloadable_output_args)\n",
    "        self.n_calls = n_calls + 1\n",
    "        self.downloadable_output_args = downloadable_output_args if not None else []\n",
    "        self.state = {\"counts\": 0}\n",
    "\n",
    "    def public_state(self):\n",
    "        return self.state[\"counts\"]\n",
    "        \n",
    "    def apply_output(self, context, outputs):\n",
    "        output_dict = {}\n",
    "        results_dict = outputs.syft_action_data        \n",
    "        if self.state[\"counts\"] < self.n_calls:\n",
    "            for output_arg in self.downloadable_output_args:\n",
    "                output_dict[output_arg] = results_dict[output_arg]\n",
    "\n",
    "            self.state[\"counts\"] += 1\n",
    "        else:\n",
    "            return None\n",
    "\n",
    "        return output_dict"
   ]
  },
  {
   "cell_type": "code",
   "execution_count": 6,
   "id": "492f8463-efa1-415d-801a-8d3d286196ce",
   "metadata": {
    "tags": []
   },
   "outputs": [
    {
     "name": "stdout",
     "output_type": "stream",
     "text": [
      "{} {'n_calls': 1, 'downloadable_output_args': ['y']}\n"
     ]
    },
    {
     "data": {
      "text/html": [
       "{&#x27;y&#x27;: [1, 2, 3]}"
      ],
      "text/plain": [
       "{'y': [1, 2, 3]}"
      ]
     },
     "execution_count": 6,
     "metadata": {},
     "output_type": "execute_result"
    }
   ],
   "source": [
    "policy = RepeatedCallPolicy(n_calls=1, downloadable_output_args=['y'])\n",
    "print(policy.init_args, policy.init_kwargs)\n",
    "a_obj = sy.ActionObject.from_obj({'y': [1,2,3]})\n",
    "policy.apply_output(None, a_obj)"
   ]
  },
  {
   "cell_type": "code",
   "execution_count": 7,
   "id": "96bef6cf-3a76-4b4b-8767-929c42d44a90",
   "metadata": {
    "tags": []
   },
   "outputs": [
    {
     "data": {
      "text/html": [
       "<div class=\"alert-success\" style=\"padding:5px;\"><strong>SyftSuccess</strong>: <class 'syft.core.node.new.numpy.NumpyArrayObject'> saved</div><br />"
      ],
      "text/plain": [
       "<class 'syft.core.node.new.response.SyftSuccess'>: <class 'syft.core.node.new.numpy.NumpyArrayObject'> saved"
      ]
     },
     "execution_count": 7,
     "metadata": {},
     "output_type": "execute_result"
    }
   ],
   "source": [
    "import numpy as np\n",
    "x = np.array([1,2,3])\n",
    "x_pointer = sy.ActionObject.from_obj(x)\n",
    "domain_client.api.services.action.save(x_pointer)"
   ]
  },
  {
   "cell_type": "code",
   "execution_count": 8,
   "id": "e344dc56-cd88-4ecd-a771-a043db977be3",
   "metadata": {
    "tags": []
   },
   "outputs": [
    {
     "data": {
      "text/markdown": [
       "```python\n",
       "class RepeatedCallPolicy:\n",
       "  id: str = bf3d4ece21bb4590930f38a87daa9ede\n",
       "  output_history: str = []\n",
       "  outputs: str = []\n",
       "  node_uid: str = None\n",
       "  init_args: str = {}\n",
       "  init_kwargs: str = {'n_calls': 1, 'downloadable_output_args': ['y']}\n",
       "  n_calls: str = 2\n",
       "  downloadable_output_args: str = ['y']\n",
       "  state: str = {'counts': 0}\n",
       "  List: str = typing.List\n",
       "  Dict: str = typing.Dict\n",
       "  Any: str = typing.Any\n",
       "\n",
       "```"
      ],
      "text/plain": [
       "__main__.RepeatedCallPolicy"
      ]
     },
     "execution_count": 8,
     "metadata": {},
     "output_type": "execute_result"
    }
   ],
   "source": [
    "obj = RepeatedCallPolicy(n_calls=1, downloadable_output_args=['y'])\n",
    "obj"
   ]
  },
  {
   "cell_type": "code",
   "execution_count": 9,
   "id": "9e550277-6a69-4d11-8c6d-fc1b8e07cb85",
   "metadata": {
    "tags": []
   },
   "outputs": [
    {
     "data": {
      "text/markdown": [
       "```python\n",
       "class RepeatedCallPolicy:\n",
       "  id: str = bf3d4ece21bb4590930f38a87daa9ede\n",
       "  output_history: str = []\n",
       "  outputs: str = []\n",
       "  node_uid: str = None\n",
       "  init_args: str = {}\n",
       "  init_kwargs: str = {'n_calls': 1, 'downloadable_output_args': ['y']}\n",
       "  n_calls: str = 2\n",
       "  downloadable_output_args: str = ['y']\n",
       "  state: str = {'counts': 0}\n",
       "  List: str = typing.List\n",
       "  Dict: str = typing.Dict\n",
       "  Any: str = typing.Any\n",
       "\n",
       "```"
      ],
      "text/plain": [
       "__main__.RepeatedCallPolicy"
      ]
     },
     "execution_count": 9,
     "metadata": {},
     "output_type": "execute_result"
    }
   ],
   "source": [
    "obj"
   ]
  },
  {
   "cell_type": "code",
   "execution_count": 10,
   "id": "5da4428a-0fed-41e3-b770-02fbaca20bfc",
   "metadata": {
    "tags": []
   },
   "outputs": [
    {
     "name": "stdout",
     "output_type": "stream",
     "text": [
      "{'n_calls': 10, 'downloadable_output_args': ['y']}\n"
     ]
    }
   ],
   "source": [
    "from syft.core.node.new.new_policy import ExactMatch\n",
    "@sy.syft_function(\n",
    "    input_policy=ExactMatch(x=x_pointer),\n",
    "    output_policy=RepeatedCallPolicy(n_calls=10, downloadable_output_args=['y']),\n",
    ")\n",
    "def func(x):\n",
    "    return {\"y\": x+1}"
   ]
  },
  {
   "cell_type": "code",
   "execution_count": 11,
   "id": "a9b7be1d-cff1-49d7-a6f9-25cf107eb9af",
   "metadata": {
    "tags": []
   },
   "outputs": [
    {
     "name": "stdout",
     "output_type": "stream",
     "text": [
      "what kind of output_policy syft.core.node.new.new_policy.UserPolicy <class 'syft.core.node.new.new_policy.UserPolicy'>\n"
     ]
    },
    {
     "data": {
      "text/markdown": [
       "```python\n",
       "class Request:\n",
       "  id: str = 281b5caf338a4437953ec61bef2d4f42\n",
       "  requesting_user_verify_key: str = aec6ea4dfc049ceacaeeebc493167a88a200ddc367b1fa32da652444b635d21f\n",
       "  approving_user_verify_key: str = None\n",
       "  request_time: str = 2023-03-28 17:31:25\n",
       "  approval_time: str = None\n",
       "  status: str = RequestStatus.PENDING\n",
       "  node_uid: str = 7bca415d13ed1ec841f0d0aede098dbb\n",
       "  request_hash: str = \"c9d300f849565b4a0e3e5852b93fdf1793f69539823557d102021d9741362da5\"\n",
       "  changes: str = [syft.core.node.new.request.UserCodeStatusChange, syft.core.node.new.request.EnumMutation]\n",
       "\n",
       "```"
      ],
      "text/plain": [
       "syft.core.node.new.request.Request"
      ]
     },
     "execution_count": 11,
     "metadata": {},
     "output_type": "execute_result"
    }
   ],
   "source": [
    "domain_client.api.services.code.request_code_execution(func)"
   ]
  },
  {
   "cell_type": "code",
   "execution_count": 12,
   "id": "04790e5b-9224-4d82-9784-5a76f2764c20",
   "metadata": {
    "tags": []
   },
   "outputs": [
    {
     "data": {
      "text/markdown": [
       "```python\n",
       "class EnumMutation:\n",
       "  id: str = f6f0c800ceff4cb6a33fdf492b3b4404\n",
       "  linked_obj: str = <<class 'syft.core.node.new.new_policy.UserPolicy'>: 462fc858b3f54f52a30e565a27596f17@<Node: 7bca415d13ed1ec841f0d0aede098dbb>\n",
       "  attr_name: str = \"status\"\n",
       "  value: str = UserPolicyStatus.APPROVED\n",
       "  match_type: str = True\n",
       "  enum_type: str = <enum 'UserPolicyStatus'>\n",
       "\n",
       "```"
      ],
      "text/plain": [
       "syft.core.node.new.request.EnumMutation"
      ]
     },
     "execution_count": 12,
     "metadata": {},
     "output_type": "execute_result"
    }
   ],
   "source": [
    "request = domain_client.notifications[-1].link\n",
    "change = func = request.changes[-1]\n",
    "change"
   ]
  },
  {
   "cell_type": "code",
   "execution_count": 13,
   "id": "64207f23",
   "metadata": {},
   "outputs": [
    {
     "data": {
      "text/markdown": [
       "```python\n",
       "class Request:\n",
       "  id: str = 281b5caf338a4437953ec61bef2d4f42\n",
       "  requesting_user_verify_key: str = aec6ea4dfc049ceacaeeebc493167a88a200ddc367b1fa32da652444b635d21f\n",
       "  approving_user_verify_key: str = None\n",
       "  request_time: str = 2023-03-28 17:31:25\n",
       "  approval_time: str = None\n",
       "  status: str = RequestStatus.PENDING\n",
       "  node_uid: str = 7bca415d13ed1ec841f0d0aede098dbb\n",
       "  request_hash: str = \"c9d300f849565b4a0e3e5852b93fdf1793f69539823557d102021d9741362da5\"\n",
       "  changes: str = [syft.core.node.new.request.UserCodeStatusChange, syft.core.node.new.request.EnumMutation]\n",
       "\n",
       "```"
      ],
      "text/plain": [
       "syft.core.node.new.request.Request"
      ]
     },
     "execution_count": 13,
     "metadata": {},
     "output_type": "execute_result"
    }
   ],
   "source": [
    "request"
   ]
  },
  {
   "cell_type": "code",
   "execution_count": 14,
   "id": "bcca56c9-0d10-4a37-9c1a-aa3c3205a54c",
   "metadata": {
    "tags": []
   },
   "outputs": [
    {
     "data": {
      "text/html": [
       "<div class=\"alert-success\" style=\"padding:5px;\"><strong>SyftSuccess</strong>: Request 281b5caf338a4437953ec61bef2d4f42 changes applied</div><br />"
      ],
      "text/plain": [
       "<class 'syft.core.node.new.response.SyftSuccess'>: Request 281b5caf338a4437953ec61bef2d4f42 changes applied"
      ]
     },
     "execution_count": 14,
     "metadata": {},
     "output_type": "execute_result"
    }
   ],
   "source": [
    "request.approve()"
   ]
  },
  {
   "cell_type": "code",
   "execution_count": 15,
   "id": "59c481fa-06bd-46e1-8d76-d03849edfa8c",
   "metadata": {
    "tags": []
   },
   "outputs": [
    {
     "data": {
      "text/markdown": [
       "```python\n",
       "class UserCode:\n",
       "  id: str = 0ed77cc859ba4ac28f1d479b3512ddb4\n",
       "  user_verify_key: str = aec6ea4dfc049ceacaeeebc493167a88a200ddc367b1fa32da652444b635d21f\n",
       "  raw_code: str = \"@sy.syft_function(\n",
       "    input_policy=ExactMatch(x=x_pointer),\n",
       "    output_policy=RepeatedCallPolicy(n_calls=10, downloadable_output_args=['y']),\n",
       ")\n",
       "def func(x):\n",
       "    return {\"y\": x+1}\n",
       "\"\n",
       "  input_policy: str = syft.core.node.new.new_policy.ExactMatch\n",
       "  input_policy_state: str = b''\n",
       "  output_policy: str = syft.core.node.new.new_policy.UserPolicy\n",
       "  output_policy_state: str = b''\n",
       "  parsed_code: str = \"\n",
       "\n",
       "def user_func_func_aec6ea4dfc049ceacaeeebc493167a88a200ddc367b1fa32da652444b635d21f_e14bece1fc07fb142d5dd8365a4fdd3b6eeaf6f9826e22582e41e972340a190e(x):\n",
       "\n",
       "    def func(x):\n",
       "        return {'y': (x + 1)}\n",
       "    result = func(x=x)\n",
       "    return result\n",
       "\"\n",
       "  service_func_name: str = \"func\"\n",
       "  unique_func_name: str = \"user_func_func_aec6ea4dfc049ceacaeeebc493167a88a200ddc367b1fa32da652444b635d21f_e14bece1fc07fb142d5dd8365a4fdd3b6eeaf6f9826e22582e41e972340a190e\"\n",
       "  user_unique_func_name: str = \"user_func_func_aec6ea4dfc049ceacaeeebc493167a88a200ddc367b1fa32da652444b635d21f\"\n",
       "  code_hash: str = \"e14bece1fc07fb142d5dd8365a4fdd3b6eeaf6f9826e22582e41e972340a190e\"\n",
       "  signature: str = (x) -> Dict[str, Any]\n",
       "  status: str = {NodeView(node_name='test-domain-1', verify_key=aec6ea4dfc049ceacaeeebc493167a88a200ddc367b1fa32da652444b635d21f): <UserCodeStatus.EXECUTE: 'execute'>}\n",
       "  input_kwargs: str = ['x']\n",
       "  outputs: str = []\n",
       "  input_policy_init_args: str = None\n",
       "  output_policy_init_args: str = {'n_calls': 10, 'downloadable_output_args': ['y']}\n",
       "  enclave_metadata: str = None\n",
       "\n",
       "```"
      ],
      "text/plain": [
       "syft.core.node.new.user_code.UserCode"
      ]
     },
     "execution_count": 15,
     "metadata": {},
     "output_type": "execute_result"
    }
   ],
   "source": [
    "func = request.changes[-2].link\n",
    "func"
   ]
  },
  {
   "cell_type": "code",
   "execution_count": 16,
   "id": "ea4c3f91-dde3-4bd5-99a7-7fba0f12015a",
   "metadata": {
    "tags": []
   },
   "outputs": [
    {
     "name": "stdout",
     "output_type": "stream",
     "text": [
      "WARNING: This code was submitted by a User and could be UNSAFE.\n",
      "Exception detected in make_action_side_effect 'int' object has no attribute 'syft_lineage_id'\n"
     ]
    },
    {
     "data": {
      "text/html": [
       "Dict - Size: 1\n",
       "<div>\n",
       "<style scoped>\n",
       "    .dataframe tbody tr th:only-of-type {\n",
       "        vertical-align: middle;\n",
       "    }\n",
       "\n",
       "    .dataframe tbody tr th {\n",
       "        vertical-align: top;\n",
       "    }\n",
       "\n",
       "    .dataframe thead th {\n",
       "        text-align: right;\n",
       "    }\n",
       "</style>\n",
       "<table border=\"1\" class=\"dataframe\">\n",
       "  <thead>\n",
       "    <tr style=\"text-align: right;\">\n",
       "      <th></th>\n",
       "      <th>key</th>\n",
       "      <th>type</th>\n",
       "      <th>id</th>\n",
       "    </tr>\n",
       "  </thead>\n",
       "  <tbody>\n",
       "    <tr>\n",
       "      <th>0</th>\n",
       "      <td>y</td>\n",
       "      <td>array([2, 3, 4])</td>\n",
       "      <td>556eb84cfe6540719a11699a024ac820</td>\n",
       "    </tr>\n",
       "  </tbody>\n",
       "</table>\n",
       "</div>"
      ],
      "text/plain": [
       "{'y': array([2, 3, 4])}"
      ]
     },
     "execution_count": 16,
     "metadata": {},
     "output_type": "execute_result"
    }
   ],
   "source": [
    "result = func.unsafe_function(x=x_pointer)\n",
    "result"
   ]
  },
  {
   "cell_type": "code",
   "execution_count": 17,
   "id": "92e69bce-aeb4-41eb-baf0-ee9d7687c485",
   "metadata": {
    "tags": []
   },
   "outputs": [
    {
     "data": {
      "text/html": [
       "Dict - Size: 1\n",
       "<div>\n",
       "<style scoped>\n",
       "    .dataframe tbody tr th:only-of-type {\n",
       "        vertical-align: middle;\n",
       "    }\n",
       "\n",
       "    .dataframe tbody tr th {\n",
       "        vertical-align: top;\n",
       "    }\n",
       "\n",
       "    .dataframe thead th {\n",
       "        text-align: right;\n",
       "    }\n",
       "</style>\n",
       "<table border=\"1\" class=\"dataframe\">\n",
       "  <thead>\n",
       "    <tr style=\"text-align: right;\">\n",
       "      <th></th>\n",
       "      <th>key</th>\n",
       "      <th>type</th>\n",
       "      <th>id</th>\n",
       "    </tr>\n",
       "  </thead>\n",
       "  <tbody>\n",
       "    <tr>\n",
       "      <th>0</th>\n",
       "      <td>y</td>\n",
       "      <td>array([2, 3, 4])</td>\n",
       "      <td>556eb84cfe6540719a11699a024ac820</td>\n",
       "    </tr>\n",
       "  </tbody>\n",
       "</table>\n",
       "</div>"
      ],
      "text/plain": [
       "{'y': array([2, 3, 4])}"
      ]
     },
     "execution_count": 17,
     "metadata": {},
     "output_type": "execute_result"
    }
   ],
   "source": [
    "result"
   ]
  },
  {
   "cell_type": "code",
   "execution_count": 18,
   "id": "3b7a2f1c-dada-4195-8bd9-8f52c4c76bca",
   "metadata": {
    "tags": []
   },
   "outputs": [
    {
     "data": {
      "text/html": [
       "<div class=\"alert-success\" style=\"padding:5px;\"><strong>SyftSuccess</strong>: Request 281b5caf338a4437953ec61bef2d4f42 changes applied</div><br />"
      ],
      "text/plain": [
       "<class 'syft.core.node.new.response.SyftSuccess'>: Request 281b5caf338a4437953ec61bef2d4f42 changes applied"
      ]
     },
     "execution_count": 18,
     "metadata": {},
     "output_type": "execute_result"
    }
   ],
   "source": [
    "final_result = request.accept_by_depositing_result(result) \n",
    "final_result"
   ]
  },
  {
   "cell_type": "code",
   "execution_count": 19,
   "id": "cdbcc474-9976-4c76-a508-fe3edf5bc18c",
   "metadata": {
    "tags": []
   },
   "outputs": [
    {
     "name": "stderr",
     "output_type": "stream",
     "text": [
      "Ok({'y': array([2, 3, 4])})\n",
      "Exec context\n",
      "Nope it didnt work\n"
     ]
    },
    {
     "data": {
      "text/html": [
       "{&#x27;y&#x27;: array([2, 3, 4])}"
      ],
      "text/plain": [
       "{'y': array([2, 3, 4])}"
      ]
     },
     "execution_count": 19,
     "metadata": {},
     "output_type": "execute_result"
    }
   ],
   "source": [
    "res = domain_client.api.services.code.func(x=x_pointer)\n",
    "res"
   ]
  },
  {
   "cell_type": "code",
   "execution_count": 20,
   "id": "538d14fa-1c7a-4f7c-bd27-4d97b5311b4c",
   "metadata": {
    "tags": []
   },
   "outputs": [
    {
     "name": "stdout",
     "output_type": "stream",
     "text": [
      "Exception detected in make_action_side_effect 'str' object has no attribute 'syft_lineage_id'\n",
      "Exception detected in make_action_side_effect 'numpy.ndarray' object has no attribute 'syft_lineage_id'\n"
     ]
    }
   ],
   "source": [
    "assert (res[\"y\"] == np.array([2, 3, 4])).all()"
   ]
  },
  {
   "cell_type": "code",
   "execution_count": 21,
   "id": "65b2ca60-6605-4dc3-a5d4-17fb368b808e",
   "metadata": {
    "tags": []
   },
   "outputs": [],
   "source": [
    "assert set(res.syft_action_data.keys()) == set(list(\"y\"))"
   ]
  },
  {
   "cell_type": "code",
   "execution_count": 22,
   "id": "4592fee8-5d23-4881-ad84-73c734b7e9d9",
   "metadata": {
    "tags": []
   },
   "outputs": [
    {
     "data": {
      "text/markdown": [
       "```python\n",
       "class UserPolicy:\n",
       "  id: str = 462fc858b3f54f52a30e565a27596f17\n",
       "  node_uid: str = 7bca415d13ed1ec841f0d0aede098dbb\n",
       "  user_verify_key: str = aec6ea4dfc049ceacaeeebc493167a88a200ddc367b1fa32da652444b635d21f\n",
       "  raw_code: str = \"class RepeatedCallPolicy(CustomOutputPolicy):\n",
       "    __canonical_name__ = \"RepeatedCallPolicy\"\n",
       "    __version__ = 1\n",
       "    from typing import List, Dict, Any\n",
       "\n",
       "    n_calls: int\n",
       "    downloadable_output_args: List[str]\n",
       "    state: Dict[Any, Any] = {}\n",
       "    \n",
       "    __attr_allowlist__ = [\n",
       "        \"n_calls\",\n",
       "        \"downloadable_output_args\",\n",
       "    ]\n",
       "\n",
       "    def __init__(self, n_calls=1, downloadable_output_args=None):\n",
       "        super().__init__(n_calls=n_calls, downloadable_output_args=downloadable_output_args)\n",
       "        self.n_calls = n_calls + 1\n",
       "        self.downloadable_output_args = downloadable_output_args if not None else []\n",
       "        self.state = {\"counts\": 0}\n",
       "\n",
       "    def public_state(self):\n",
       "        return self.state[\"counts\"]\n",
       "        \n",
       "    def apply_output(self, context, outputs):\n",
       "        output_dict = {}\n",
       "        results_dict = outputs.syft_action_data        \n",
       "        if self.state[\"counts\"] < self.n_calls:\n",
       "            for output_arg in self.downloadable_output_args:\n",
       "                output_dict[output_arg] = results_dict[output_arg]\n",
       "\n",
       "            self.state[\"counts\"] += 1\n",
       "        else:\n",
       "            return None\n",
       "\n",
       "        return output_dict\n",
       "\"\n",
       "  parsed_code: str = \"\n",
       "\n",
       "@serializable(recursive_serde=True)\n",
       "class RepeatedCallPolicy_aec6ea4dfc049ceacaeeebc493167a88a200ddc367b1fa32da652444b635d21f_6de8630e91e629badda5fda25287ba6e9ceeeeafe38ea4f398bb58f460bdcf34(CustomOutputPolicy):\n",
       "    __canonical_name__ = 'RepeatedCallPolicy'\n",
       "    __version__ = 1\n",
       "    from typing import List, Dict, Any\n",
       "    n_calls: int\n",
       "    downloadable_output_args: List[str]\n",
       "    state: Dict[(Any, Any)] = {}\n",
       "    __attr_allowlist__ = ['n_calls', 'downloadable_output_args']\n",
       "\n",
       "    def __init__(self, n_calls=1, downloadable_output_args=None):\n",
       "        super().__init__(n_calls=n_calls, downloadable_output_args=downloadable_output_args)\n",
       "        self.n_calls = (n_calls + 1)\n",
       "        self.downloadable_output_args = (downloadable_output_args if (not None) else [])\n",
       "        self.state = {'counts': 0}\n",
       "\n",
       "    def public_state(self):\n",
       "        return self.state['counts']\n",
       "\n",
       "    def apply_output(self, context, outputs):\n",
       "        output_dict = {}\n",
       "        results_dict = outputs.syft_action_data\n",
       "        if (self.state['counts'] < self.n_calls):\n",
       "            for output_arg in self.downloadable_output_args:\n",
       "                output_dict[output_arg] = results_dict[output_arg]\n",
       "            self.state['counts'] += 1\n",
       "        else:\n",
       "            return None\n",
       "        return output_dict\n",
       "\"\n",
       "  signature: str = (n_calls, downloadable_output_args)\n",
       "  class_name: str = \"RepeatedCallPolicy\"\n",
       "  unique_name: str = \"RepeatedCallPolicy_aec6ea4dfc049ceacaeeebc493167a88a200ddc367b1fa32da652444b635d21f_6de8630e91e629badda5fda25287ba6e9ceeeeafe38ea4f398bb58f460bdcf34\"\n",
       "  code_hash: str = \"6de8630e91e629badda5fda25287ba6e9ceeeeafe38ea4f398bb58f460bdcf34\"\n",
       "  status: str = UserPolicyStatus.SUBMITTED\n",
       "  state_type: str = None\n",
       "  policy_version: str = 1\n",
       "\n",
       "```"
      ],
      "text/plain": [
       "syft.core.node.new.new_policy.UserPolicy"
      ]
     },
     "execution_count": 22,
     "metadata": {},
     "output_type": "execute_result"
    }
   ],
   "source": [
    "domain_client.api.services.code.get_all()[0].output_policy"
   ]
  },
  {
   "cell_type": "code",
   "execution_count": 23,
   "id": "d17c7e2a-93fa-4f45-abd3-c19fbded5989",
   "metadata": {
    "tags": []
   },
   "outputs": [
    {
     "data": {
      "text/html": [
       "List - Size: 1\n",
       "<div>\n",
       "<style scoped>\n",
       "    .dataframe tbody tr th:only-of-type {\n",
       "        vertical-align: middle;\n",
       "    }\n",
       "\n",
       "    .dataframe tbody tr th {\n",
       "        vertical-align: top;\n",
       "    }\n",
       "\n",
       "    .dataframe thead th {\n",
       "        text-align: right;\n",
       "    }\n",
       "</style>\n",
       "<table border=\"1\" class=\"dataframe\">\n",
       "  <thead>\n",
       "    <tr style=\"text-align: right;\">\n",
       "      <th></th>\n",
       "      <th>type</th>\n",
       "      <th>id</th>\n",
       "    </tr>\n",
       "  </thead>\n",
       "  <tbody>\n",
       "    <tr>\n",
       "      <th>0</th>\n",
       "      <td>syft.core.node.new.new_policy.UserPolicy</td>\n",
       "      <td>462fc858b3f54f52a30e565a27596f17</td>\n",
       "    </tr>\n",
       "  </tbody>\n",
       "</table>\n",
       "</div>"
      ],
      "text/plain": [
       "[syft.core.node.new.new_policy.UserPolicy]"
      ]
     },
     "execution_count": 23,
     "metadata": {},
     "output_type": "execute_result"
    }
   ],
   "source": [
    "domain_client.api.services.policy.get_all()"
   ]
  },
  {
   "cell_type": "code",
   "execution_count": 24,
   "id": "fab5b15c-6df3-4fe1-97b7-a2971f4ca6cc",
   "metadata": {
    "tags": []
   },
   "outputs": [],
   "source": [
    "output_policy = domain_client.api.services.policy.get_all()[0]"
   ]
  },
  {
   "cell_type": "code",
   "execution_count": 25,
   "id": "0f88fdf9-069c-4282-baee-41f04b8bbe06",
   "metadata": {
    "tags": []
   },
   "outputs": [
    {
     "name": "stdout",
     "output_type": "stream",
     "text": [
      "SQLite Store Path:\n",
      "!open file:///tmp/7bca415d13ed1ec841f0d0aede098dbb.sqlite\n",
      "\n",
      "> Starting Worker: test-domain-1 - 7bca415d13ed1ec841f0d0aede098dbb - NodeType.DOMAIN - [<class 'syft.core.node.new.user_service.UserService'>, <class 'syft.core.node.new.metadata_service.MetadataService'>, <class 'syft.core.node.new.action_service.ActionService'>, <class 'syft.core.node.new.test_service.TestService'>, <class 'syft.core.node.new.dataset_service.DatasetService'>, <class 'syft.core.node.new.user_code_service.UserCodeService'>, <class 'syft.core.node.new.request_service.RequestService'>, <class 'syft.core.node.new.data_subject_service.DataSubjectService'>, <class 'syft.core.node.new.network_service.NetworkService'>, <class 'syft.core.node.new.policy_service.PolicyService'>, <class 'syft.core.node.new.message_service.MessageService'>, <class 'syft.core.node.new.project_service.ProjectService'>, <class 'syft.core.node.new.data_subject_member_service.DataSubjectMemberService'>]\n"
     ]
    }
   ],
   "source": [
    "sy.orchestra.land(\"test-domain-1\")"
   ]
  },
  {
   "cell_type": "code",
   "execution_count": null,
   "id": "6d59c608-9d34-475d-a8b6-05fd030a9e8d",
   "metadata": {},
   "outputs": [],
   "source": []
  }
 ],
 "metadata": {
  "kernelspec": {
   "display_name": "Python 3 (ipykernel)",
   "language": "python",
   "name": "python3"
  },
  "language_info": {
   "codemirror_mode": {
    "name": "ipython",
    "version": 3
   },
   "file_extension": ".py",
   "mimetype": "text/x-python",
   "name": "python",
   "nbconvert_exporter": "python",
   "pygments_lexer": "ipython3",
   "version": "3.10.6"
  }
 },
 "nbformat": 4,
 "nbformat_minor": 5
}
