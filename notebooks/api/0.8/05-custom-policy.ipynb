{
 "cells": [
  {
   "cell_type": "code",
   "execution_count": null,
   "id": "c292b468-55d7-4ab4-b0b3-5856b252e27e",
   "metadata": {
    "tags": []
   },
   "outputs": [],
   "source": [
    "import syft as sy\n",
    "sy.requires(\">=0.8-beta\")"
   ]
  },
  {
   "cell_type": "code",
   "execution_count": null,
   "id": "13da7417-5721-44f6-8bbb-bee0c5aba30f",
   "metadata": {
    "tags": []
   },
   "outputs": [],
   "source": [
    "node = sy.orchestra.launch(name=\"test-domain-1\", processes=1, reset=True)"
   ]
  },
  {
   "cell_type": "code",
   "execution_count": null,
   "id": "29d14422-61f7-4a89-a1ae-a11c0e1b3a02",
   "metadata": {
    "tags": []
   },
   "outputs": [],
   "source": [
    "domain_client = node.login(email=\"info@openmined.org\", password=\"changethis\")"
   ]
  },
  {
   "cell_type": "code",
   "execution_count": null,
   "id": "95bd8bf3-ec6f-49a7-86c3-ba81ecaffda1",
   "metadata": {
    "tags": []
   },
   "outputs": [],
   "source": [
    "from syft.core.node.new.new_policy import CustomOutputPolicy\n",
    "@sy.serializable()\n",
    "class RepeatedCallPolicy(CustomOutputPolicy):\n",
    "    __canonical_name__ = \"RepeatedCallPolicy\"\n",
    "    from typing import List, Dict, Any\n",
    "\n",
    "    n_calls: int\n",
    "    downloadable_output_args: List[str]\n",
    "    state: Dict[Any, Any] = {}\n",
    "    \n",
    "    __attr_allowlist__ = [\n",
    "        \"n_calls\",\n",
    "        \"downloadable_output_args\",\n",
    "    ]\n",
    "\n",
    "    def __init__(self, n_calls=1, downloadable_output_args=None):\n",
    "        super().__init__(n_calls=n_calls, downloadable_output_args=downloadable_output_args)\n",
    "        self.n_calls = n_calls + 1\n",
    "        self.downloadable_output_args = downloadable_output_args if not None else []\n",
    "        self.state = {\"counts\": 0}\n",
    "\n",
    "    def public_state(self):\n",
    "        return self.state[\"counts\"]\n",
    "        \n",
    "    def apply_output(self, context, results):\n",
    "        output_dict = {}\n",
    "        results_dict = results.syft_action_data        \n",
    "        if self.state[\"counts\"] < self.n_calls:\n",
    "            for output_arg in self.downloadable_output_args:\n",
    "                output_dict[output_arg] = results_dict[output_arg]\n",
    "\n",
    "            self.state[\"counts\"] += 1\n",
    "        else:\n",
    "            return None\n",
    "\n",
    "        return output_dict"
   ]
  },
  {
   "cell_type": "code",
   "execution_count": null,
   "id": "492f8463-efa1-415d-801a-8d3d286196ce",
   "metadata": {
    "tags": []
   },
   "outputs": [],
   "source": [
    "policy = RepeatedCallPolicy(n_calls=1, downloadable_output_args=['y'])\n",
    "a_obj = sy.ActionObject.from_obj({'y': [1,2,3]})\n",
    "policy.apply_output(None, a_obj)"
   ]
  },
  {
   "cell_type": "code",
   "execution_count": null,
   "id": "96bef6cf-3a76-4b4b-8767-929c42d44a90",
   "metadata": {
    "tags": []
   },
   "outputs": [],
   "source": [
    "import numpy as np\n",
    "x = np.array([1,2,3])\n",
    "x_pointer = sy.ActionObject.from_obj(x)\n",
    "domain_client.api.services.action.save(x_pointer)"
   ]
  },
  {
   "cell_type": "code",
   "execution_count": null,
   "id": "e344dc56-cd88-4ecd-a771-a043db977be3",
   "metadata": {
    "tags": []
   },
   "outputs": [],
   "source": [
    "obj = RepeatedCallPolicy(n_calls=1, downloadable_output_args=['y'])\n",
    "obj"
   ]
  },
  {
   "cell_type": "code",
   "execution_count": null,
   "id": "9e550277-6a69-4d11-8c6d-fc1b8e07cb85",
   "metadata": {
    "tags": []
   },
   "outputs": [],
   "source": [
    "obj"
   ]
  },
  {
   "cell_type": "code",
   "execution_count": null,
   "id": "122cefa4-ef03-4527-b7fb-96f0790921e9",
   "metadata": {
    "tags": []
   },
   "outputs": [],
   "source": [
    "obj.init_kwargs"
   ]
  },
  {
   "cell_type": "code",
   "execution_count": null,
   "id": "5da4428a-0fed-41e3-b770-02fbaca20bfc",
   "metadata": {
    "tags": []
   },
   "outputs": [],
   "source": [
    "from syft.core.node.new.new_policy import ExactMatch\n",
    "@sy.syft_function(\n",
    "    input_policy=ExactMatch(x=x_pointer),\n",
    "    output_policy=RepeatedCallPolicy(n_calls=1, downloadable_output_args=['y']),\n",
    ")\n",
    "def custom_func(x):\n",
    "    return {\"y\": x+1}"
   ]
  },
  {
   "cell_type": "code",
   "execution_count": null,
   "id": "a9b7be1d-cff1-49d7-a6f9-25cf107eb9af",
   "metadata": {
    "tags": []
   },
   "outputs": [],
   "source": [
    "domain_client.api.services.code.request_code_execution(custom_func)"
   ]
  },
  {
   "cell_type": "code",
   "execution_count": null,
   "id": "04790e5b-9224-4d82-9784-5a76f2764c20",
   "metadata": {
    "tags": []
   },
   "outputs": [],
   "source": [
    "request = domain_client.notifications[-1].link\n",
    "change = func = request.changes[-1]\n",
    "change"
   ]
  },
  {
   "cell_type": "code",
   "execution_count": null,
   "id": "bcca56c9-0d10-4a37-9c1a-aa3c3205a54c",
   "metadata": {
    "tags": []
   },
   "outputs": [],
   "source": [
    "request.approve()"
   ]
  },
  {
   "cell_type": "code",
   "execution_count": null,
   "id": "59c481fa-06bd-46e1-8d76-d03849edfa8c",
   "metadata": {
    "tags": []
   },
   "outputs": [],
   "source": [
    "func = request.changes[-1].link\n",
    "func"
   ]
  },
  {
   "cell_type": "code",
   "execution_count": null,
   "id": "ea4c3f91-dde3-4bd5-99a7-7fba0f12015a",
   "metadata": {
    "tags": []
   },
   "outputs": [],
   "source": [
    "result = func.unsafe_function(x=x_pointer)\n",
    "result"
   ]
  },
  {
   "cell_type": "code",
   "execution_count": null,
   "id": "92e69bce-aeb4-41eb-baf0-ee9d7687c485",
   "metadata": {
    "tags": []
   },
   "outputs": [],
   "source": [
    "result"
   ]
  },
  {
   "cell_type": "code",
   "execution_count": null,
   "id": "3b7a2f1c-dada-4195-8bd9-8f52c4c76bca",
   "metadata": {
    "tags": []
   },
   "outputs": [],
   "source": [
    "final_result = request.accept_by_depositing_result(result) \n",
    "final_result"
   ]
  },
  {
   "cell_type": "code",
   "execution_count": null,
   "id": "cdbcc474-9976-4c76-a508-fe3edf5bc18c",
   "metadata": {
    "tags": []
   },
   "outputs": [],
   "source": [
    "res = domain_client.api.services.code.custom_func(x=x_pointer)\n",
    "res"
   ]
  },
  {
   "cell_type": "code",
   "execution_count": null,
   "id": "538d14fa-1c7a-4f7c-bd27-4d97b5311b4c",
   "metadata": {
    "tags": []
   },
   "outputs": [],
   "source": [
    "assert (res[\"y\"] == np.array([2, 3, 4])).all()"
   ]
  },
  {
   "cell_type": "code",
   "execution_count": null,
   "id": "c0b5d374-c3e4-4bda-87fd-1cd2942f9649",
   "metadata": {
    "tags": []
   },
   "outputs": [],
   "source": [
    "res"
   ]
  },
  {
   "cell_type": "code",
   "execution_count": null,
   "id": "f330dfa4-a9dd-4cec-8e37-9c0c51af0c6f",
   "metadata": {
    "tags": []
   },
   "outputs": [],
   "source": [
    "res = dict(res.syft_action_data)"
   ]
  },
  {
   "cell_type": "code",
   "execution_count": null,
   "id": "65b2ca60-6605-4dc3-a5d4-17fb368b808e",
   "metadata": {
    "tags": []
   },
   "outputs": [],
   "source": [
    "assert set(res.keys()) == set(list(\"y\"))"
   ]
  },
  {
   "cell_type": "code",
   "execution_count": null,
   "id": "4592fee8-5d23-4881-ad84-73c734b7e9d9",
   "metadata": {
    "tags": []
   },
   "outputs": [],
   "source": [
    "domain_client.api.services.code.get_all()"
   ]
  },
  {
   "cell_type": "code",
   "execution_count": null,
   "id": "d17c7e2a-93fa-4f45-abd3-c19fbded5989",
   "metadata": {
    "tags": []
   },
   "outputs": [],
   "source": [
    "domain_client.api.services.policy.get_all()"
   ]
  },
  {
   "cell_type": "code",
   "execution_count": null,
   "id": "fab5b15c-6df3-4fe1-97b7-a2971f4ca6cc",
   "metadata": {
    "tags": []
   },
   "outputs": [],
   "source": [
    "output_policy = domain_client.api.services.policy.get_all()"
   ]
  },
  {
   "cell_type": "code",
   "execution_count": null,
   "id": "0f88fdf9-069c-4282-baee-41f04b8bbe06",
   "metadata": {
    "tags": []
   },
   "outputs": [],
   "source": [
    "sy.orchestra.land(\"test-domain-1\")"
   ]
  },
  {
   "cell_type": "code",
   "execution_count": null,
   "id": "575038eb-0954-4271-84ef-8f5917daea23",
   "metadata": {},
   "outputs": [],
   "source": []
  }
 ],
 "metadata": {
  "kernelspec": {
   "display_name": "Python 3 (ipykernel)",
   "language": "python",
   "name": "python3"
  },
  "language_info": {
   "codemirror_mode": {
    "name": "ipython",
    "version": 3
   },
   "file_extension": ".py",
   "mimetype": "text/x-python",
   "name": "python",
   "nbconvert_exporter": "python",
   "pygments_lexer": "ipython3",
   "version": "3.10.9"
  }
 },
 "nbformat": 4,
 "nbformat_minor": 5
}
