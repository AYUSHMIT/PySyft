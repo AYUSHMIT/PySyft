{
 "cells": [
  {
   "cell_type": "code",
   "execution_count": 1,
   "id": "c292b468-55d7-4ab4-b0b3-5856b252e27e",
   "metadata": {
    "tags": []
   },
   "outputs": [
    {
     "name": "stdout",
     "output_type": "stream",
     "text": [
      "✅ The installed version of syft==0.8.0b4 matches the requirement >=0.8b0\n"
     ]
    }
   ],
   "source": [
    "import syft as sy\n",
    "sy.requires(\">=0.8-beta\")"
   ]
  },
  {
   "cell_type": "code",
   "execution_count": 2,
   "id": "13da7417-5721-44f6-8bbb-bee0c5aba30f",
   "metadata": {
    "tags": []
   },
   "outputs": [
    {
     "name": "stdout",
     "output_type": "stream",
     "text": [
      "starting a worker we need to load any user code\n",
      "SQLite Store Path:\n",
      "!open file:///var/folders/6_/7xx0tpq16h9cn40mq4w5gjk80000gn/T/7bca415d13ed1ec841f0d0aede098dbb.sqlite\n",
      "\n",
      "load user code\n",
      "got a user code service\n",
      "user_code_items []\n",
      "finished loading user code\n",
      "> Starting Worker: test-domain-1 - 7bca415d13ed1ec841f0d0aede098dbb - NodeType.DOMAIN - [<class 'syft.core.node.new.user_service.UserService'>, <class 'syft.core.node.new.metadata_service.MetadataService'>, <class 'syft.core.node.new.action_service.ActionService'>, <class 'syft.core.node.new.test_service.TestService'>, <class 'syft.core.node.new.dataset_service.DatasetService'>, <class 'syft.core.node.new.user_code_service.UserCodeService'>, <class 'syft.core.node.new.request_service.RequestService'>, <class 'syft.core.node.new.data_subject_service.DataSubjectService'>, <class 'syft.core.node.new.network_service.NetworkService'>, <class 'syft.core.node.new.policy_service.PolicyService'>, <class 'syft.core.node.new.message_service.MessageService'>, <class 'syft.core.node.new.project_service.ProjectService'>, <class 'syft.core.node.new.data_subject_member_service.DataSubjectMemberService'>]\n"
     ]
    }
   ],
   "source": [
    "node = sy.orchestra.launch(name=\"test-domain-1\", processes=1, reset=True)"
   ]
  },
  {
   "cell_type": "code",
   "execution_count": 3,
   "id": "29d14422-61f7-4a89-a1ae-a11c0e1b3a02",
   "metadata": {
    "tags": []
   },
   "outputs": [],
   "source": [
    "domain_client = node.login(email=\"info@openmined.org\", password=\"changethis\")"
   ]
  },
  {
   "cell_type": "code",
   "execution_count": 4,
   "id": "95bd8bf3-ec6f-49a7-86c3-ba81ecaffda1",
   "metadata": {
    "tags": []
   },
   "outputs": [],
   "source": [
    "from syft import CustomOutputPolicy\n",
    "class RepeatedCallPolicy(CustomOutputPolicy):\n",
    "    __canonical_name__ = \"RepeatedCallPolicy\"\n",
    "    __version__ = 1\n",
    "    from typing import List, Dict, Any\n",
    "\n",
    "    n_calls: int\n",
    "    downloadable_output_args: List[str] = []\n",
    "    state: Dict[Any, Any] = {}\n",
    "    \n",
    "#     __attr_allowlist__ = [\n",
    "#         \"n_calls\",\n",
    "#         \"downloadable_output_args\",\n",
    "#     ]\n",
    "\n",
    "    def __init__(self, n_calls=1, downloadable_output_args=None):\n",
    "        downloadable_output_args = downloadable_output_args if not None else []\n",
    "        super().__init__(n_calls=n_calls, downloadable_output_args=downloadable_output_args)\n",
    "        self.n_calls = n_calls + 1\n",
    "        self.state = {\"counts\": 0}\n",
    "\n",
    "    def public_state(self):\n",
    "        return self.state[\"counts\"]\n",
    "        \n",
    "    def apply_output(self, context, outputs):\n",
    "        output_dict = {}\n",
    "        if self.state[\"counts\"] < self.n_calls:\n",
    "            for output_arg in self.downloadable_output_args:\n",
    "                output_dict[output_arg] = outputs[output_arg]\n",
    "\n",
    "            self.state[\"counts\"] += 1\n",
    "        else:\n",
    "            return None\n",
    "\n",
    "        return output_dict"
   ]
  },
  {
   "cell_type": "code",
   "execution_count": 5,
   "id": "492f8463-efa1-415d-801a-8d3d286196ce",
   "metadata": {
    "tags": []
   },
   "outputs": [
    {
     "name": "stdout",
     "output_type": "stream",
     "text": [
      "{'n_calls': 1, 'downloadable_output_args': ['y']}\n",
      "Exception detected in make_action_side_effect 'str' object has no attribute 'syft_lineage_id'\n"
     ]
    },
    {
     "data": {
      "text/html": [
       "Dict - Size: 1\n",
       "<div>\n",
       "<style scoped>\n",
       "    .dataframe tbody tr th:only-of-type {\n",
       "        vertical-align: middle;\n",
       "    }\n",
       "\n",
       "    .dataframe tbody tr th {\n",
       "        vertical-align: top;\n",
       "    }\n",
       "\n",
       "    .dataframe thead th {\n",
       "        text-align: right;\n",
       "    }\n",
       "</style>\n",
       "<table border=\"1\" class=\"dataframe\">\n",
       "  <thead>\n",
       "    <tr style=\"text-align: right;\">\n",
       "      <th></th>\n",
       "      <th>key</th>\n",
       "      <th>type</th>\n",
       "      <th>id</th>\n",
       "    </tr>\n",
       "  </thead>\n",
       "  <tbody>\n",
       "    <tr>\n",
       "      <th>0</th>\n",
       "      <td>y</td>\n",
       "      <td>[1, 2, 3]</td>\n",
       "      <td>860ed3bd393a438fb6166186cb73f930</td>\n",
       "    </tr>\n",
       "  </tbody>\n",
       "</table>\n",
       "</div>"
      ],
      "text/plain": [
       "{'y': [1, 2, 3]}"
      ]
     },
     "execution_count": 5,
     "metadata": {},
     "output_type": "execute_result"
    }
   ],
   "source": [
    "policy = RepeatedCallPolicy(n_calls=1, downloadable_output_args=['y'])\n",
    "print(policy.init_kwargs)\n",
    "a_obj = sy.ActionObject.from_obj({'y': [1,2,3]})\n",
    "policy.apply_output(None, a_obj)"
   ]
  },
  {
   "cell_type": "code",
   "execution_count": 6,
   "id": "1f4bbac6-59bf-4282-ac2b-6c6ba540cc37",
   "metadata": {
    "tags": []
   },
   "outputs": [
    {
     "data": {
      "text/markdown": [
       "```python\n",
       "class RepeatedCallPolicy:\n",
       "  id: str = 8d2a0a850b7d40548eae08bf1583ccf1\n",
       "  init_kwargs: str = {'n_calls': 1, 'downloadable_output_args': ['y']}\n",
       "  output_history: str = []\n",
       "  output_kwargs: str = []\n",
       "  node_uid: str = None\n",
       "  n_calls: str = 2\n",
       "  downloadable_output_args: str = ['y']\n",
       "  state: str = {'counts': 0}\n",
       "  List: str = typing.List\n",
       "  Dict: str = typing.Dict\n",
       "  Any: str = typing.Any\n",
       "\n",
       "```"
      ],
      "text/plain": [
       "__main__.RepeatedCallPolicy"
      ]
     },
     "execution_count": 6,
     "metadata": {},
     "output_type": "execute_result"
    }
   ],
   "source": [
    "RepeatedCallPolicy(**policy.init_kwargs)"
   ]
  },
  {
   "cell_type": "code",
   "execution_count": 7,
   "id": "008ea10b-3e23-4368-8985-cc3578ecc527",
   "metadata": {
    "tags": []
   },
   "outputs": [],
   "source": [
    "from syft import ExactMatch"
   ]
  },
  {
   "cell_type": "code",
   "execution_count": null,
   "id": "d843341b-ae2a-4c7b-bb34-16034213ad69",
   "metadata": {
    "tags": []
   },
   "outputs": [],
   "source": []
  },
  {
   "cell_type": "code",
   "execution_count": null,
   "id": "b93cab01-e2b9-474c-b9c0-f090b4ca39df",
   "metadata": {
    "tags": []
   },
   "outputs": [],
   "source": []
  },
  {
   "cell_type": "code",
   "execution_count": null,
   "id": "a1c503bd-cb83-43ff-8bb0-b8916c2b56fa",
   "metadata": {
    "tags": []
   },
   "outputs": [],
   "source": []
  },
  {
   "cell_type": "code",
   "execution_count": 8,
   "id": "96bef6cf-3a76-4b4b-8767-929c42d44a90",
   "metadata": {
    "tags": []
   },
   "outputs": [
    {
     "name": "stdout",
     "output_type": "stream",
     "text": [
      "starting a worker we need to load any user code\n",
      "load user code\n",
      "got a user code service\n",
      "user_code_items []\n",
      "finished loading user code\n"
     ]
    },
    {
     "data": {
      "text/html": [
       "<div class=\"alert-success\" style=\"padding:5px;\"><strong>SyftSuccess</strong>: <class 'syft.core.node.new.numpy.NumpyArrayObject'> saved</div><br />"
      ],
      "text/plain": [
       "<class 'syft.core.node.new.response.SyftSuccess'>: <class 'syft.core.node.new.numpy.NumpyArrayObject'> saved"
      ]
     },
     "execution_count": 8,
     "metadata": {},
     "output_type": "execute_result"
    }
   ],
   "source": [
    "import numpy as np\n",
    "x = np.array([1,2,3])\n",
    "x_pointer = sy.ActionObject.from_obj(x)\n",
    "domain_client.api.services.action.save(x_pointer)"
   ]
  },
  {
   "cell_type": "code",
   "execution_count": 9,
   "id": "3aad688e-9d48-4a0c-a552-749f35c71ad5",
   "metadata": {
    "tags": []
   },
   "outputs": [
    {
     "name": "stdout",
     "output_type": "stream",
     "text": [
      "getting input policy args and kwargs () {'x': array([1, 2, 3])}\n",
      "partition by node\n",
      "starting a worker we need to load any user code\n",
      "load user code\n",
      "got a user code service\n",
      "user_code_items []\n",
      "finished loading user code\n",
      "after and kwargs () {'x': array([1, 2, 3])}\n"
     ]
    }
   ],
   "source": [
    "x = ExactMatch(x=x_pointer)\n",
    "x\n",
    "p = sy.serialize(x, to_bytes=True)"
   ]
  },
  {
   "cell_type": "code",
   "execution_count": 10,
   "id": "cb817014-14af-4893-8b02-7129246709af",
   "metadata": {
    "tags": []
   },
   "outputs": [
    {
     "name": "stdout",
     "output_type": "stream",
     "text": [
      "getting input policy args and kwargs () {'id': <UID: 75b253965f9049a6b3e15d0bb2f0112f>, 'init_kwargs': {NodeView(node_name='test-domain-1', verify_key=aec6ea4dfc049ceacaeeebc493167a88a200ddc367b1fa32da652444b635d21f): {'x': <UID: b22bd5ce3be949109a91310ac9570a96>}}}\n",
      "after and kwargs () {'id': <UID: 75b253965f9049a6b3e15d0bb2f0112f>}\n"
     ]
    }
   ],
   "source": [
    "d = sy.deserialize(p, from_bytes=True)"
   ]
  },
  {
   "cell_type": "code",
   "execution_count": 11,
   "id": "f62834d6-bd51-46f2-97a7-f2ab1ab77be8",
   "metadata": {
    "tags": []
   },
   "outputs": [
    {
     "data": {
      "text/markdown": [
       "```python\n",
       "class ExactMatch:\n",
       "  id: str = 75b253965f9049a6b3e15d0bb2f0112f\n",
       "  init_kwargs: str = {NodeView(node_name='test-domain-1', verify_key=aec6ea4dfc049ceacaeeebc493167a88a200ddc367b1fa32da652444b635d21f): {'x': <UID: b22bd5ce3be949109a91310ac9570a96>}}\n",
       "\n",
       "```"
      ],
      "text/plain": [
       "syft.core.node.new.policy.ExactMatch"
      ]
     },
     "execution_count": 11,
     "metadata": {},
     "output_type": "execute_result"
    }
   ],
   "source": [
    "x"
   ]
  },
  {
   "cell_type": "code",
   "execution_count": 12,
   "id": "a89fd958-9282-4ba5-8542-26ae530972a7",
   "metadata": {
    "tags": []
   },
   "outputs": [
    {
     "data": {
      "text/markdown": [
       "```python\n",
       "class ExactMatch:\n",
       "  id: str = 75b253965f9049a6b3e15d0bb2f0112f\n",
       "  init_kwargs: str = {NodeView(node_name='test-domain-1', verify_key=aec6ea4dfc049ceacaeeebc493167a88a200ddc367b1fa32da652444b635d21f): {'x': <UID: b22bd5ce3be949109a91310ac9570a96>}}\n",
       "\n",
       "```"
      ],
      "text/plain": [
       "syft.core.node.new.policy.ExactMatch"
      ]
     },
     "execution_count": 12,
     "metadata": {},
     "output_type": "execute_result"
    }
   ],
   "source": [
    "d"
   ]
  },
  {
   "cell_type": "code",
   "execution_count": 13,
   "id": "e344dc56-cd88-4ecd-a771-a043db977be3",
   "metadata": {
    "tags": []
   },
   "outputs": [
    {
     "data": {
      "text/markdown": [
       "```python\n",
       "class RepeatedCallPolicy:\n",
       "  id: str = 345de05dd4c04d0ea8b5482e769de08f\n",
       "  init_kwargs: str = {'n_calls': 1, 'downloadable_output_args': ['y']}\n",
       "  output_history: str = []\n",
       "  output_kwargs: str = []\n",
       "  node_uid: str = None\n",
       "  n_calls: str = 2\n",
       "  downloadable_output_args: str = ['y']\n",
       "  state: str = {'counts': 0}\n",
       "  List: str = typing.List\n",
       "  Dict: str = typing.Dict\n",
       "  Any: str = typing.Any\n",
       "\n",
       "```"
      ],
      "text/plain": [
       "__main__.RepeatedCallPolicy"
      ]
     },
     "execution_count": 13,
     "metadata": {},
     "output_type": "execute_result"
    }
   ],
   "source": [
    "obj = RepeatedCallPolicy(n_calls=1, downloadable_output_args=['y'])\n",
    "obj"
   ]
  },
  {
   "cell_type": "code",
   "execution_count": 14,
   "id": "32eea292-366a-473b-bcd2-d9c0a2cf3da7",
   "metadata": {
    "tags": []
   },
   "outputs": [
    {
     "name": "stdout",
     "output_type": "stream",
     "text": [
      "getting input policy args and kwargs () {'x': array([1, 2, 3])}\n",
      "partition by node\n",
      "starting a worker we need to load any user code\n",
      "load user code\n",
      "got a user code service\n",
      "user_code_items []\n",
      "finished loading user code\n",
      "after and kwargs () {'x': array([1, 2, 3])}\n"
     ]
    },
    {
     "data": {
      "text/markdown": [
       "```python\n",
       "class ExactMatch:\n",
       "  id: str = 09be0ab00c6e47ec828a391d2af222f8\n",
       "  init_kwargs: str = {NodeView(node_name='test-domain-1', verify_key=aec6ea4dfc049ceacaeeebc493167a88a200ddc367b1fa32da652444b635d21f): {'x': <UID: b22bd5ce3be949109a91310ac9570a96>}}\n",
       "\n",
       "```"
      ],
      "text/plain": [
       "syft.core.node.new.policy.ExactMatch"
      ]
     },
     "execution_count": 14,
     "metadata": {},
     "output_type": "execute_result"
    }
   ],
   "source": [
    "x = ExactMatch(x=x_pointer)\n",
    "x"
   ]
  },
  {
   "cell_type": "code",
   "execution_count": 15,
   "id": "5da4428a-0fed-41e3-b770-02fbaca20bfc",
   "metadata": {
    "tags": []
   },
   "outputs": [
    {
     "name": "stdout",
     "output_type": "stream",
     "text": [
      "getting input policy args and kwargs () {'x': array([1, 2, 3])}\n",
      "partition by node\n",
      "starting a worker we need to load any user code\n",
      "load user code\n",
      "got a user code service\n",
      "user_code_items []\n",
      "finished loading user code\n",
      "after and kwargs () {'x': array([1, 2, 3])}\n",
      "submitusercode syft.core.node.new.user_code.SubmitUserCode\n"
     ]
    }
   ],
   "source": [
    "\n",
    "@sy.syft_function(\n",
    "    input_policy=ExactMatch(x=x_pointer),\n",
    "    output_policy=RepeatedCallPolicy(n_calls=10, downloadable_output_args=['y']),\n",
    ")\n",
    "def func(x):\n",
    "    return {\"y\": x+1}"
   ]
  },
  {
   "cell_type": "code",
   "execution_count": null,
   "id": "da2eee2a-f36c-4679-8d47-acf1f4d45381",
   "metadata": {},
   "outputs": [],
   "source": []
  },
  {
   "cell_type": "code",
   "execution_count": null,
   "id": "92a193ad-0868-4794-a6d0-63bdeae3a897",
   "metadata": {},
   "outputs": [],
   "source": []
  },
  {
   "cell_type": "code",
   "execution_count": 16,
   "id": "44565122-4ff4-4169-8e0a-db3b86bf53e1",
   "metadata": {},
   "outputs": [
    {
     "name": "stdout",
     "output_type": "stream",
     "text": [
      "getting input policy args and kwargs () {'x': array([1, 2, 3])}\n",
      "partition by node\n",
      "starting a worker we need to load any user code\n",
      "load user code\n",
      "got a user code service\n",
      "user_code_items []\n",
      "finished loading user code\n",
      "after and kwargs () {'x': array([1, 2, 3])}\n",
      "submitusercode syft.core.node.new.user_code.SubmitUserCode\n"
     ]
    }
   ],
   "source": [
    "@sy.syft_function(input_policy=sy.ExactMatch(x=x_pointer),\n",
    "                  output_policy=sy.SingleExecutionExactOutput())\n",
    "def train_mlp(x):\n",
    "    return x"
   ]
  },
  {
   "cell_type": "code",
   "execution_count": null,
   "id": "7bd85962-99ed-4ded-823f-11923ebad1bf",
   "metadata": {},
   "outputs": [],
   "source": []
  },
  {
   "cell_type": "code",
   "execution_count": 17,
   "id": "9b62ee7b-cd2e-4386-b052-c473a2ce71e0",
   "metadata": {
    "tags": []
   },
   "outputs": [],
   "source": [
    "# assert False"
   ]
  },
  {
   "cell_type": "code",
   "execution_count": 18,
   "id": "ff444b4d-d7c5-482b-a143-e7b9670d2331",
   "metadata": {
    "tags": []
   },
   "outputs": [
    {
     "name": "stdout",
     "output_type": "stream",
     "text": [
      "starting a worker we need to load any user code\n",
      "load user code\n",
      "got a user code service\n",
      "user_code_items []\n",
      "finished loading user code\n",
      "trying to conver object\n",
      "checking input policy\n",
      "finished checking input policy\n",
      "checking output policy\n",
      "finished checking output policy\n",
      "checking new code @sy.syft_function(input_policy=sy.ExactMatch(x=x_pointer),\n",
      "                  output_policy=sy.SingleExecutionExactOutput())\n",
      "def train_mlp(x):\n",
      "    return x\n",
      "\n",
      "adding custom status\n",
      "input_keys [NodeView(node_name='test-domain-1', verify_key=aec6ea4dfc049ceacaeeebc493167a88a200ddc367b1fa32da652444b635d21f)]\n",
      "1\n",
      "2 node_name='test-domain-1' verify_key=aec6ea4dfc049ceacaeeebc493167a88a200ddc367b1fa32da652444b635d21f\n",
      "input_keys [NodeView(node_name='test-domain-1', verify_key=aec6ea4dfc049ceacaeeebc493167a88a200ddc367b1fa32da652444b635d21f)]\n",
      "p {NodeView(node_name='test-domain-1', verify_key=aec6ea4dfc049ceacaeeebc493167a88a200ddc367b1fa32da652444b635d21f): <UserCodeStatus.SUBMITTED: 'submitted'>}\n",
      "finished adding custom status\n",
      "converted object syft.core.node.new.user_code.UserCode\n"
     ]
    },
    {
     "data": {
      "text/markdown": [
       "```python\n",
       "class Request:\n",
       "  id: str = 7cc1970f682a41e8922e0fcf6167b788\n",
       "  requesting_user_verify_key: str = aec6ea4dfc049ceacaeeebc493167a88a200ddc367b1fa32da652444b635d21f\n",
       "  approving_user_verify_key: str = None\n",
       "  request_time: str = 2023-03-29 19:31:47\n",
       "  approval_time: str = None\n",
       "  status: str = RequestStatus.PENDING\n",
       "  node_uid: str = 7bca415d13ed1ec841f0d0aede098dbb\n",
       "  request_hash: str = \"ba92479b89fe44a3b126bc04e2f81352f9ab999c73141739c291cbeac29fbf4e\"\n",
       "  changes: str = [syft.core.node.new.request.UserCodeStatusChange]\n",
       "\n",
       "```"
      ],
      "text/plain": [
       "syft.core.node.new.request.Request"
      ]
     },
     "execution_count": 18,
     "metadata": {},
     "output_type": "execute_result"
    }
   ],
   "source": [
    "domain_client.api.services.code.request_code_execution(train_mlp)"
   ]
  },
  {
   "cell_type": "code",
   "execution_count": 19,
   "id": "a9b7be1d-cff1-49d7-a6f9-25cf107eb9af",
   "metadata": {
    "tags": []
   },
   "outputs": [
    {
     "name": "stdout",
     "output_type": "stream",
     "text": [
      "starting a worker we need to load any user code\n",
      "load user code\n",
      "got a user code service\n",
      "user_code_items [syft.core.node.new.user_code.UserCode]\n",
      "finished loading user code\n",
      "trying to conver object\n",
      "checking input policy\n",
      "finished checking input policy\n",
      "checking output policy\n",
      "finished checking output policy\n",
      "checking new code @sy.syft_function(\n",
      "    input_policy=ExactMatch(x=x_pointer),\n",
      "    output_policy=RepeatedCallPolicy(n_calls=10, downloadable_output_args=['y']),\n",
      ")\n",
      "def func(x):\n",
      "    return {\"y\": x+1}\n",
      "\n",
      "adding custom status\n",
      "input_keys [NodeView(node_name='test-domain-1', verify_key=aec6ea4dfc049ceacaeeebc493167a88a200ddc367b1fa32da652444b635d21f)]\n",
      "1\n",
      "2 node_name='test-domain-1' verify_key=aec6ea4dfc049ceacaeeebc493167a88a200ddc367b1fa32da652444b635d21f\n",
      "input_keys [NodeView(node_name='test-domain-1', verify_key=aec6ea4dfc049ceacaeeebc493167a88a200ddc367b1fa32da652444b635d21f)]\n",
      "p {NodeView(node_name='test-domain-1', verify_key=aec6ea4dfc049ceacaeeebc493167a88a200ddc367b1fa32da652444b635d21f): <UserCodeStatus.SUBMITTED: 'submitted'>}\n",
      "finished adding custom status\n",
      "converted object syft.core.node.new.user_code.UserCode\n"
     ]
    },
    {
     "data": {
      "text/markdown": [
       "```python\n",
       "class Request:\n",
       "  id: str = de7cb253802646f5ada65532a9ffcbec\n",
       "  requesting_user_verify_key: str = aec6ea4dfc049ceacaeeebc493167a88a200ddc367b1fa32da652444b635d21f\n",
       "  approving_user_verify_key: str = None\n",
       "  request_time: str = 2023-03-29 19:31:47\n",
       "  approval_time: str = None\n",
       "  status: str = RequestStatus.PENDING\n",
       "  node_uid: str = 7bca415d13ed1ec841f0d0aede098dbb\n",
       "  request_hash: str = \"299928a5c713979754b474c6e5001117b597e165f539e9b8e9bbd94b9a77c137\"\n",
       "  changes: str = [syft.core.node.new.request.UserCodeStatusChange]\n",
       "\n",
       "```"
      ],
      "text/plain": [
       "syft.core.node.new.request.Request"
      ]
     },
     "execution_count": 19,
     "metadata": {},
     "output_type": "execute_result"
    }
   ],
   "source": [
    "domain_client.api.services.code.request_code_execution(func)"
   ]
  },
  {
   "cell_type": "code",
   "execution_count": 20,
   "id": "4f2371da-65ac-4974-8044-1b18f265d4cf",
   "metadata": {},
   "outputs": [],
   "source": [
    "# assert False"
   ]
  },
  {
   "cell_type": "code",
   "execution_count": 21,
   "id": "cbce3b7f-8c93-4a3d-8c9e-be8cba7c911e",
   "metadata": {
    "tags": []
   },
   "outputs": [
    {
     "name": "stdout",
     "output_type": "stream",
     "text": [
      "starting a worker we need to load any user code\n",
      "load user code\n",
      "got a user code service\n",
      "user_code_items [syft.core.node.new.user_code.UserCode, syft.core.node.new.user_code.UserCode]\n",
      "finished loading user code\n"
     ]
    },
    {
     "data": {
      "text/html": [
       "List - Size: 2\n",
       "<div>\n",
       "<style scoped>\n",
       "    .dataframe tbody tr th:only-of-type {\n",
       "        vertical-align: middle;\n",
       "    }\n",
       "\n",
       "    .dataframe tbody tr th {\n",
       "        vertical-align: top;\n",
       "    }\n",
       "\n",
       "    .dataframe thead th {\n",
       "        text-align: right;\n",
       "    }\n",
       "</style>\n",
       "<table border=\"1\" class=\"dataframe\">\n",
       "  <thead>\n",
       "    <tr style=\"text-align: right;\">\n",
       "      <th></th>\n",
       "      <th>type</th>\n",
       "      <th>id</th>\n",
       "      <th>subject</th>\n",
       "      <th>status</th>\n",
       "      <th>created_at</th>\n",
       "      <th>linked_obj</th>\n",
       "    </tr>\n",
       "  </thead>\n",
       "  <tbody>\n",
       "    <tr>\n",
       "      <th>0</th>\n",
       "      <td>syft.core.node.new.messages.Message</td>\n",
       "      <td>19af7f64cd014b8b8d18c65105077567</td>\n",
       "      <td>Approval Request</td>\n",
       "      <td>MessageStatus.UNDELIVERED</td>\n",
       "      <td>2023-03-29 19:31:47</td>\n",
       "      <td>&lt;&lt;class 'syft.core.node.new.request.Request'&gt;:...</td>\n",
       "    </tr>\n",
       "    <tr>\n",
       "      <th>1</th>\n",
       "      <td>syft.core.node.new.messages.Message</td>\n",
       "      <td>7b5c4538a93343698c3fb5eb0865ed98</td>\n",
       "      <td>Approval Request</td>\n",
       "      <td>MessageStatus.UNDELIVERED</td>\n",
       "      <td>2023-03-29 19:31:47</td>\n",
       "      <td>&lt;&lt;class 'syft.core.node.new.request.Request'&gt;:...</td>\n",
       "    </tr>\n",
       "  </tbody>\n",
       "</table>\n",
       "</div>"
      ],
      "text/plain": [
       "[syft.core.node.new.messages.Message, syft.core.node.new.messages.Message]"
      ]
     },
     "execution_count": 21,
     "metadata": {},
     "output_type": "execute_result"
    }
   ],
   "source": [
    "from syft import MessageStatus\n",
    "messages = domain_client.api.services.messages.get_all_for_status(MessageStatus.UNDELIVERED)\n",
    "messages"
   ]
  },
  {
   "cell_type": "code",
   "execution_count": 22,
   "id": "6f0678bd-3266-46ca-92dc-9a6a926c7845",
   "metadata": {
    "tags": []
   },
   "outputs": [
    {
     "name": "stdout",
     "output_type": "stream",
     "text": [
      "starting a worker we need to load any user code\n",
      "load user code\n",
      "got a user code service\n",
      "user_code_items [syft.core.node.new.user_code.UserCode, syft.core.node.new.user_code.UserCode]\n",
      "finished loading user code\n",
      "starting a worker we need to load any user code\n",
      "load user code\n",
      "got a user code service\n",
      "user_code_items [syft.core.node.new.user_code.UserCode, syft.core.node.new.user_code.UserCode]\n",
      "finished loading user code\n",
      "starting a worker we need to load any user code\n",
      "load user code\n",
      "got a user code service\n",
      "user_code_items [syft.core.node.new.user_code.UserCode, syft.core.node.new.user_code.UserCode]\n",
      "finished loading user code\n",
      "starting a worker we need to load any user code\n",
      "load user code\n",
      "got a user code service\n",
      "user_code_items [syft.core.node.new.user_code.UserCode, syft.core.node.new.user_code.UserCode]\n",
      "finished loading user code\n"
     ]
    }
   ],
   "source": [
    "from syft.core.node.new.request import ObjectMutation, UserCodeStatusChange\n",
    "func = None\n",
    "request = None\n",
    "for message in messages:\n",
    "    req = message.linked_obj.resolve\n",
    "    for change in req.changes:\n",
    "        if isinstance(change, UserCodeStatusChange):\n",
    "            func = change.linked_obj.resolve\n",
    "            request = req"
   ]
  },
  {
   "cell_type": "code",
   "execution_count": 23,
   "id": "07efbb1d-8ef7-49b5-a95c-2bf36a19fad2",
   "metadata": {
    "tags": []
   },
   "outputs": [
    {
     "data": {
      "text/markdown": [
       "```python\n",
       "class UserCode:\n",
       "  id: str = 9324847b0566460abb3d6a882cb84499\n",
       "  user_verify_key: str = aec6ea4dfc049ceacaeeebc493167a88a200ddc367b1fa32da652444b635d21f\n",
       "  raw_code: str = \"@sy.syft_function(\n",
       "    input_policy=ExactMatch(x=x_pointer),\n",
       "    output_policy=RepeatedCallPolicy(n_calls=10, downloadable_output_args=['y']),\n",
       ")\n",
       "def func(x):\n",
       "    return {\"y\": x+1}\n",
       "\"\n",
       "  input_policy_type: str = <class 'syft.core.node.new.policy.ExactMatch'>\n",
       "  input_policy_init_kwargs: str = {NodeView(node_name='test-domain-1', verify_key=aec6ea4dfc049ceacaeeebc493167a88a200ddc367b1fa32da652444b635d21f): {'x': <UID: b22bd5ce3be949109a91310ac9570a96>}}\n",
       "  input_policy_state: str = None\n",
       "  output_policy_type: str = syft.core.node.new.policy.UserPolicy\n",
       "  output_policy_init_kwargs: str = {'n_calls': 10, 'downloadable_output_args': ['y']}\n",
       "  output_policy_state: str = None\n",
       "  parsed_code: str = \"\n",
       "\n",
       "def user_func_func_aec6ea4dfc049ceacaeeebc493167a88a200ddc367b1fa32da652444b635d21f_e14bece1fc07fb142d5dd8365a4fdd3b6eeaf6f9826e22582e41e972340a190e(x):\n",
       "\n",
       "    def func(x):\n",
       "        return {'y': (x + 1)}\n",
       "    result = func(node_name='test-domain-1' verify_key=aec6ea4dfc049ceacaeeebc493167a88a200ddc367b1fa32da652444b635d21f=node_name='test-domain-1' verify_key=aec6ea4dfc049ceacaeeebc493167a88a200ddc367b1fa32da652444b635d21f)\n",
       "    return result\n",
       "\"\n",
       "  service_func_name: str = \"func\"\n",
       "  unique_func_name: str = \"user_func_func_aec6ea4dfc049ceacaeeebc493167a88a200ddc367b1fa32da652444b635d21f_e14bece1fc07fb142d5dd8365a4fdd3b6eeaf6f9826e22582e41e972340a190e\"\n",
       "  user_unique_func_name: str = \"user_func_func_aec6ea4dfc049ceacaeeebc493167a88a200ddc367b1fa32da652444b635d21f\"\n",
       "  code_hash: str = \"e14bece1fc07fb142d5dd8365a4fdd3b6eeaf6f9826e22582e41e972340a190e\"\n",
       "  signature: str = (x)\n",
       "  status: str = {NodeView(node_name='test-domain-1', verify_key=aec6ea4dfc049ceacaeeebc493167a88a200ddc367b1fa32da652444b635d21f): <UserCodeStatus.SUBMITTED: 'submitted'>}\n",
       "  input_kwargs: str = ['x']\n",
       "  enclave_metadata: str = None\n",
       "\n",
       "```"
      ],
      "text/plain": [
       "syft.core.node.new.user_code.UserCode"
      ]
     },
     "execution_count": 23,
     "metadata": {},
     "output_type": "execute_result"
    }
   ],
   "source": [
    "func"
   ]
  },
  {
   "cell_type": "code",
   "execution_count": 24,
   "id": "48465dbe-ecd7-4a2f-939c-58965bcf755e",
   "metadata": {
    "tags": []
   },
   "outputs": [
    {
     "name": "stdout",
     "output_type": "stream",
     "text": [
      "starting a worker we need to load any user code\n",
      "load user code\n",
      "got a user code service\n",
      "user_code_items [syft.core.node.new.user_code.UserCode, syft.core.node.new.user_code.UserCode]\n",
      "finished loading user code\n",
      "starting a worker we need to load any user code\n",
      "load user code\n",
      "got a user code service\n",
      "user_code_items [syft.core.node.new.user_code.UserCode, syft.core.node.new.user_code.UserCode]\n",
      "finished loading user code\n"
     ]
    }
   ],
   "source": [
    "for message in messages:\n",
    "    domain_client.api.services.messages.mark_as_delivered(message.id)"
   ]
  },
  {
   "cell_type": "code",
   "execution_count": 25,
   "id": "bcca56c9-0d10-4a37-9c1a-aa3c3205a54c",
   "metadata": {
    "tags": []
   },
   "outputs": [
    {
     "name": "stdout",
     "output_type": "stream",
     "text": [
      "starting a worker we need to load any user code\n",
      "load user code\n",
      "got a user code service\n",
      "user_code_items [syft.core.node.new.user_code.UserCode, syft.core.node.new.user_code.UserCode]\n",
      "finished loading user code\n"
     ]
    },
    {
     "data": {
      "text/html": [
       "<div class=\"alert-success\" style=\"padding:5px;\"><strong>SyftSuccess</strong>: Request de7cb253802646f5ada65532a9ffcbec changes applied</div><br />"
      ],
      "text/plain": [
       "<class 'syft.core.node.new.response.SyftSuccess'>: Request de7cb253802646f5ada65532a9ffcbec changes applied"
      ]
     },
     "execution_count": 25,
     "metadata": {},
     "output_type": "execute_result"
    }
   ],
   "source": [
    "request.approve()"
   ]
  },
  {
   "cell_type": "code",
   "execution_count": 26,
   "id": "7edf4fc6-302e-4bfd-94e5-33cc911f6db0",
   "metadata": {
    "tags": []
   },
   "outputs": [
    {
     "data": {
      "text/html": [
       "List - Size: 1\n",
       "<div>\n",
       "<style scoped>\n",
       "    .dataframe tbody tr th:only-of-type {\n",
       "        vertical-align: middle;\n",
       "    }\n",
       "\n",
       "    .dataframe tbody tr th {\n",
       "        vertical-align: top;\n",
       "    }\n",
       "\n",
       "    .dataframe thead th {\n",
       "        text-align: right;\n",
       "    }\n",
       "</style>\n",
       "<table border=\"1\" class=\"dataframe\">\n",
       "  <thead>\n",
       "    <tr style=\"text-align: right;\">\n",
       "      <th></th>\n",
       "      <th>type</th>\n",
       "      <th>id</th>\n",
       "    </tr>\n",
       "  </thead>\n",
       "  <tbody>\n",
       "    <tr>\n",
       "      <th>0</th>\n",
       "      <td>syft.core.node.new.request.UserCodeStatusChange</td>\n",
       "      <td>4719c8eb0e1c4038a5f88d3b98e6fafc</td>\n",
       "    </tr>\n",
       "  </tbody>\n",
       "</table>\n",
       "</div>"
      ],
      "text/plain": [
       "[syft.core.node.new.request.UserCodeStatusChange]"
      ]
     },
     "execution_count": 26,
     "metadata": {},
     "output_type": "execute_result"
    }
   ],
   "source": [
    "request.changes"
   ]
  },
  {
   "cell_type": "code",
   "execution_count": 27,
   "id": "b10fec3c-ad4e-412b-a83e-c2166b296825",
   "metadata": {
    "tags": []
   },
   "outputs": [
    {
     "data": {
      "text/markdown": [
       "```python\n",
       "class UserCodeStatusChange:\n",
       "  id: str = 4719c8eb0e1c4038a5f88d3b98e6fafc\n",
       "  linked_obj: str = <<class 'syft.core.node.new.user_code.UserCode'>: 9324847b0566460abb3d6a882cb84499@<Node: 7bca415d13ed1ec841f0d0aede098dbb>\n",
       "  value: str = UserCodeStatus.EXECUTE\n",
       "  match_type: str = True\n",
       "\n",
       "```"
      ],
      "text/plain": [
       "syft.core.node.new.request.UserCodeStatusChange"
      ]
     },
     "execution_count": 27,
     "metadata": {},
     "output_type": "execute_result"
    }
   ],
   "source": [
    "request.changes[0]"
   ]
  },
  {
   "cell_type": "code",
   "execution_count": 28,
   "id": "ea4c3f91-dde3-4bd5-99a7-7fba0f12015a",
   "metadata": {
    "tags": []
   },
   "outputs": [
    {
     "name": "stdout",
     "output_type": "stream",
     "text": [
      "WARNING: This code was submitted by a User and could be UNSAFE.\n",
      "Exception detected in make_action_side_effect 'int' object has no attribute 'syft_lineage_id'\n"
     ]
    },
    {
     "data": {
      "text/html": [
       "Dict - Size: 1\n",
       "<div>\n",
       "<style scoped>\n",
       "    .dataframe tbody tr th:only-of-type {\n",
       "        vertical-align: middle;\n",
       "    }\n",
       "\n",
       "    .dataframe tbody tr th {\n",
       "        vertical-align: top;\n",
       "    }\n",
       "\n",
       "    .dataframe thead th {\n",
       "        text-align: right;\n",
       "    }\n",
       "</style>\n",
       "<table border=\"1\" class=\"dataframe\">\n",
       "  <thead>\n",
       "    <tr style=\"text-align: right;\">\n",
       "      <th></th>\n",
       "      <th>key</th>\n",
       "      <th>type</th>\n",
       "      <th>id</th>\n",
       "    </tr>\n",
       "  </thead>\n",
       "  <tbody>\n",
       "    <tr>\n",
       "      <th>0</th>\n",
       "      <td>y</td>\n",
       "      <td>array([2, 3, 4])</td>\n",
       "      <td>e91a87b9fd2647a69e23f7407c9f4528</td>\n",
       "    </tr>\n",
       "  </tbody>\n",
       "</table>\n",
       "</div>"
      ],
      "text/plain": [
       "{'y': array([2, 3, 4])}"
      ]
     },
     "execution_count": 28,
     "metadata": {},
     "output_type": "execute_result"
    }
   ],
   "source": [
    "result = func.unsafe_function(x=x_pointer)\n",
    "result"
   ]
  },
  {
   "cell_type": "code",
   "execution_count": 29,
   "id": "92e69bce-aeb4-41eb-baf0-ee9d7687c485",
   "metadata": {
    "tags": []
   },
   "outputs": [
    {
     "data": {
      "text/html": [
       "Dict - Size: 1\n",
       "<div>\n",
       "<style scoped>\n",
       "    .dataframe tbody tr th:only-of-type {\n",
       "        vertical-align: middle;\n",
       "    }\n",
       "\n",
       "    .dataframe tbody tr th {\n",
       "        vertical-align: top;\n",
       "    }\n",
       "\n",
       "    .dataframe thead th {\n",
       "        text-align: right;\n",
       "    }\n",
       "</style>\n",
       "<table border=\"1\" class=\"dataframe\">\n",
       "  <thead>\n",
       "    <tr style=\"text-align: right;\">\n",
       "      <th></th>\n",
       "      <th>key</th>\n",
       "      <th>type</th>\n",
       "      <th>id</th>\n",
       "    </tr>\n",
       "  </thead>\n",
       "  <tbody>\n",
       "    <tr>\n",
       "      <th>0</th>\n",
       "      <td>y</td>\n",
       "      <td>array([2, 3, 4])</td>\n",
       "      <td>e91a87b9fd2647a69e23f7407c9f4528</td>\n",
       "    </tr>\n",
       "  </tbody>\n",
       "</table>\n",
       "</div>"
      ],
      "text/plain": [
       "{'y': array([2, 3, 4])}"
      ]
     },
     "execution_count": 29,
     "metadata": {},
     "output_type": "execute_result"
    }
   ],
   "source": [
    "result"
   ]
  },
  {
   "cell_type": "code",
   "execution_count": null,
   "id": "f73fdc14-4136-4fc7-add4-8710429b2649",
   "metadata": {},
   "outputs": [],
   "source": []
  },
  {
   "cell_type": "code",
   "execution_count": 30,
   "id": "3b7a2f1c-dada-4195-8bd9-8f52c4c76bca",
   "metadata": {
    "tags": []
   },
   "outputs": [
    {
     "name": "stdout",
     "output_type": "stream",
     "text": [
      "starting a worker we need to load any user code\n",
      "load user code\n",
      "got a user code service\n",
      "user_code_items [syft.core.node.new.user_code.UserCode, syft.core.node.new.user_code.UserCode]\n",
      "!!!! user_code.input_policy_type <class 'syft.core.node.new.policy.ExactMatch'> <class 'pydantic.main.ModelMetaclass'>\n",
      "!!!!! user_code.output_policy_type syft.core.node.new.policy.UserPolicy <class 'syft.core.node.new.policy.UserPolicy'>\n",
      "calling load policy code syft.core.node.new.policy.UserPolicy\n"
     ]
    },
    {
     "name": "stderr",
     "output_type": "stream",
     "text": [
      "executing policy code\n",
      "executing policy code unqiue name RepeatedCallPolicy_aec6ea4dfc049ceacaeeebc493167a88a200ddc367b1fa32da652444b635d21f_1090fa4e02e6327eddac5aa4a4f5aac5cef641d05e772a91199e76c7103304d9\n",
      "executing policy code parsed_code \n",
      "\n",
      "@serializable()\n",
      "class RepeatedCallPolicy_aec6ea4dfc049ceacaeeebc493167a88a200ddc367b1fa32da652444b635d21f_1090fa4e02e6327eddac5aa4a4f5aac5cef641d05e772a91199e76c7103304d9(CustomOutputPolicy):\n",
      "    __canonical_name__ = 'RepeatedCallPolicy'\n",
      "    __version__ = 1\n",
      "    from typing import List, Dict, Any\n",
      "    n_calls: int\n",
      "    downloadable_output_args: List[str] = []\n",
      "    state: Dict[(Any, Any)] = {}\n",
      "\n",
      "    def __init__(self, n_calls=1, downloadable_output_args=None):\n",
      "        downloadable_output_args = (downloadable_output_args if (not None) else [])\n",
      "        super().__init__(n_calls=n_calls, downloadable_output_args=downloadable_output_args)\n",
      "        self.n_calls = (n_calls + 1)\n",
      "        self.state = {'counts': 0}\n",
      "\n",
      "    def public_state(self):\n",
      "        return self.state['counts']\n",
      "\n",
      "    def apply_output(self, context, outputs):\n",
      "        output_dict = {}\n",
      "        if (self.state['counts'] < self.n_calls):\n",
      "            for output_arg in self.downloadable_output_args:\n",
      "                output_dict[output_arg] = outputs[output_arg]\n",
      "            self.state['counts'] += 1\n",
      "        else:\n",
      "            return None\n",
      "        return output_dict\n",
      "    __module__ = 'syft.user'\n",
      "\n",
      "Exec context\n"
     ]
    },
    {
     "name": "stdout",
     "output_type": "stream",
     "text": [
      "finished loading <class 'syft.user.RepeatedCallPolicy_aec6ea4dfc049ceacaeeebc493167a88a200ddc367b1fa32da652444b635d21f_1090fa4e02e6327eddac5aa4a4f5aac5cef641d05e772a91199e76c7103304d9'>\n",
      "syft.user ['RepeatedCallPolicy_aec6ea4dfc049ceacaeeebc493167a88a200ddc367b1fa32da652444b635d21f_1090fa4e02e6327eddac5aa4a4f5aac5cef641d05e772a91199e76c7103304d9', '__doc__', '__loader__', '__name__', '__package__', '__spec__']\n",
      "finished loading user code\n",
      "starting a worker we need to load any user code\n",
      "load user code\n",
      "got a user code service\n",
      "user_code_items [syft.core.node.new.user_code.UserCode, syft.core.node.new.user_code.UserCode]\n",
      "!!!! user_code.input_policy_type <class 'syft.core.node.new.policy.ExactMatch'> <class 'pydantic.main.ModelMetaclass'>\n",
      "!!!!! user_code.output_policy_type syft.core.node.new.policy.UserPolicy <class 'syft.core.node.new.policy.UserPolicy'>\n",
      "calling load policy code syft.core.node.new.policy.UserPolicy\n"
     ]
    },
    {
     "name": "stderr",
     "output_type": "stream",
     "text": [
      "executing policy code\n",
      "executing policy code unqiue name RepeatedCallPolicy_aec6ea4dfc049ceacaeeebc493167a88a200ddc367b1fa32da652444b635d21f_1090fa4e02e6327eddac5aa4a4f5aac5cef641d05e772a91199e76c7103304d9\n",
      "executing policy code parsed_code \n",
      "\n",
      "@serializable()\n",
      "class RepeatedCallPolicy_aec6ea4dfc049ceacaeeebc493167a88a200ddc367b1fa32da652444b635d21f_1090fa4e02e6327eddac5aa4a4f5aac5cef641d05e772a91199e76c7103304d9(CustomOutputPolicy):\n",
      "    __canonical_name__ = 'RepeatedCallPolicy'\n",
      "    __version__ = 1\n",
      "    from typing import List, Dict, Any\n",
      "    n_calls: int\n",
      "    downloadable_output_args: List[str] = []\n",
      "    state: Dict[(Any, Any)] = {}\n",
      "\n",
      "    def __init__(self, n_calls=1, downloadable_output_args=None):\n",
      "        downloadable_output_args = (downloadable_output_args if (not None) else [])\n",
      "        super().__init__(n_calls=n_calls, downloadable_output_args=downloadable_output_args)\n",
      "        self.n_calls = (n_calls + 1)\n",
      "        self.state = {'counts': 0}\n",
      "\n",
      "    def public_state(self):\n",
      "        return self.state['counts']\n",
      "\n",
      "    def apply_output(self, context, outputs):\n",
      "        output_dict = {}\n",
      "        if (self.state['counts'] < self.n_calls):\n",
      "            for output_arg in self.downloadable_output_args:\n",
      "                output_dict[output_arg] = outputs[output_arg]\n",
      "            self.state['counts'] += 1\n",
      "        else:\n",
      "            return None\n",
      "        return output_dict\n",
      "    __module__ = 'syft.user'\n",
      "\n",
      "Exec context\n"
     ]
    },
    {
     "name": "stdout",
     "output_type": "stream",
     "text": [
      "finished loading <class 'syft.user.RepeatedCallPolicy_aec6ea4dfc049ceacaeeebc493167a88a200ddc367b1fa32da652444b635d21f_1090fa4e02e6327eddac5aa4a4f5aac5cef641d05e772a91199e76c7103304d9'>\n",
      "syft.user ['RepeatedCallPolicy_aec6ea4dfc049ceacaeeebc493167a88a200ddc367b1fa32da652444b635d21f_1090fa4e02e6327eddac5aa4a4f5aac5cef641d05e772a91199e76c7103304d9', '__doc__', '__loader__', '__name__', '__package__', '__spec__']\n",
      "finished loading user code\n",
      "self.output_policy_type syft.core.node.new.policy.UserPolicy\n",
      "self.output_policy_type <class 'syft.core.node.new.policy.UserPolicy'>\n",
      "self.output_policy_type False\n",
      "calling load policy code syft.core.node.new.policy.UserPolicy\n",
      "finished loading <class 'syft.user.RepeatedCallPolicy_aec6ea4dfc049ceacaeeebc493167a88a200ddc367b1fa32da652444b635d21f_1090fa4e02e6327eddac5aa4a4f5aac5cef641d05e772a91199e76c7103304d9'>\n",
      "syft.user ['RepeatedCallPolicy_aec6ea4dfc049ceacaeeebc493167a88a200ddc367b1fa32da652444b635d21f_1090fa4e02e6327eddac5aa4a4f5aac5cef641d05e772a91199e76c7103304d9', '__doc__', '__loader__', '__name__', '__package__', '__spec__']\n",
      "init class with args <class 'syft.user.RepeatedCallPolicy_aec6ea4dfc049ceacaeeebc493167a88a200ddc367b1fa32da652444b635d21f_1090fa4e02e6327eddac5aa4a4f5aac5cef641d05e772a91199e76c7103304d9'>\n",
      "init class with args {'n_calls': 10, 'downloadable_output_args': ['y']}\n",
      "class mro [<class 'syft.user.RepeatedCallPolicy_aec6ea4dfc049ceacaeeebc493167a88a200ddc367b1fa32da652444b635d21f_1090fa4e02e6327eddac5aa4a4f5aac5cef641d05e772a91199e76c7103304d9'>, <class 'syft.core.node.new.policy.CustomOutputPolicy'>, <class 'syft.core.node.new.policy.CustomPolicy'>, <class 'syft.core.node.new.policy.OutputPolicy'>, <class 'syft.core.node.new.policy.Policy'>, <class 'syft.core.node.new.syft_object.SyftObject'>, <class 'syft.core.node.new.syft_object.SyftBaseObject'>, <class 'pydantic.main.BaseModel'>, <class 'pydantic.utils.Representation'>, <class 'syft.core.node.new.syft_object.SyftObjectRegistry'>, <class 'object'>]\n"
     ]
    },
    {
     "name": "stderr",
     "output_type": "stream",
     "text": [
      "executing policy code\n",
      "executing policy code unqiue name RepeatedCallPolicy_aec6ea4dfc049ceacaeeebc493167a88a200ddc367b1fa32da652444b635d21f_1090fa4e02e6327eddac5aa4a4f5aac5cef641d05e772a91199e76c7103304d9\n",
      "executing policy code parsed_code \n",
      "\n",
      "@serializable()\n",
      "class RepeatedCallPolicy_aec6ea4dfc049ceacaeeebc493167a88a200ddc367b1fa32da652444b635d21f_1090fa4e02e6327eddac5aa4a4f5aac5cef641d05e772a91199e76c7103304d9(CustomOutputPolicy):\n",
      "    __canonical_name__ = 'RepeatedCallPolicy'\n",
      "    __version__ = 1\n",
      "    from typing import List, Dict, Any\n",
      "    n_calls: int\n",
      "    downloadable_output_args: List[str] = []\n",
      "    state: Dict[(Any, Any)] = {}\n",
      "\n",
      "    def __init__(self, n_calls=1, downloadable_output_args=None):\n",
      "        downloadable_output_args = (downloadable_output_args if (not None) else [])\n",
      "        super().__init__(n_calls=n_calls, downloadable_output_args=downloadable_output_args)\n",
      "        self.n_calls = (n_calls + 1)\n",
      "        self.state = {'counts': 0}\n",
      "\n",
      "    def public_state(self):\n",
      "        return self.state['counts']\n",
      "\n",
      "    def apply_output(self, context, outputs):\n",
      "        output_dict = {}\n",
      "        if (self.state['counts'] < self.n_calls):\n",
      "            for output_arg in self.downloadable_output_args:\n",
      "                output_dict[output_arg] = outputs[output_arg]\n",
      "            self.state['counts'] += 1\n",
      "        else:\n",
      "            return None\n",
      "        return output_dict\n",
      "    __module__ = 'syft.user'\n",
      "\n",
      "Exec context\n"
     ]
    },
    {
     "ename": "ConfigError",
     "evalue": "field \"downloadable_output_args\" not yet prepared so type is still a ForwardRef, you might need to call RepeatedCallPolicy_aec6ea4dfc049ceacaeeebc493167a88a200ddc367b1fa32da652444b635d21f_1090fa4e02e6327eddac5aa4a4f5aac5cef641d05e772a91199e76c7103304d9.update_forward_refs().",
     "output_type": "error",
     "traceback": [
      "\u001b[0;31m---------------------------------------------------------------------------\u001b[0m",
      "\u001b[0;31mConfigError\u001b[0m                               Traceback (most recent call last)",
      "Cell \u001b[0;32mIn[30], line 1\u001b[0m\n\u001b[0;32m----> 1\u001b[0m final_result \u001b[38;5;241m=\u001b[39m \u001b[43mrequest\u001b[49m\u001b[38;5;241;43m.\u001b[39;49m\u001b[43maccept_by_depositing_result\u001b[49m\u001b[43m(\u001b[49m\u001b[43mresult\u001b[49m\u001b[43m)\u001b[49m \n\u001b[1;32m      2\u001b[0m final_result\n",
      "File \u001b[0;32m~/dev/PySyft/packages/syft/src/syft/core/node/new/request.py:180\u001b[0m, in \u001b[0;36mRequest.accept_by_depositing_result\u001b[0;34m(self, result)\u001b[0m\n\u001b[1;32m    177\u001b[0m     \u001b[38;5;28;01mreturn\u001b[39;00m result\n\u001b[1;32m    179\u001b[0m code \u001b[38;5;241m=\u001b[39m change\u001b[38;5;241m.\u001b[39mlinked_obj\u001b[38;5;241m.\u001b[39mresolve\n\u001b[0;32m--> 180\u001b[0m state \u001b[38;5;241m=\u001b[39m \u001b[43mcode\u001b[49m\u001b[38;5;241;43m.\u001b[39;49m\u001b[43moutput_policy\u001b[49m\n\u001b[1;32m    181\u001b[0m ctx \u001b[38;5;241m=\u001b[39m AuthedServiceContext(credentials\u001b[38;5;241m=\u001b[39mapi\u001b[38;5;241m.\u001b[39msigning_key\u001b[38;5;241m.\u001b[39mverify_key)\n\u001b[1;32m    182\u001b[0m \u001b[38;5;28mprint\u001b[39m(\u001b[38;5;124m\"\u001b[39m\u001b[38;5;124mcode\u001b[39m\u001b[38;5;124m\"\u001b[39m, code)\n",
      "File \u001b[0;32m~/dev/PySyft/packages/syft/src/syft/core/node/new/user_code.py:223\u001b[0m, in \u001b[0;36mUserCode.output_policy\u001b[0;34m(self)\u001b[0m\n\u001b[1;32m    219\u001b[0m     \u001b[38;5;28mself\u001b[39m\u001b[38;5;241m.\u001b[39moutput_policy_state \u001b[38;5;241m=\u001b[39m \u001b[38;5;28mself\u001b[39m\u001b[38;5;241m.\u001b[39moutput_policy_type(\n\u001b[1;32m    220\u001b[0m         \u001b[38;5;241m*\u001b[39m\u001b[38;5;241m*\u001b[39m\u001b[38;5;28mself\u001b[39m\u001b[38;5;241m.\u001b[39moutput_policy_init_kwargs\n\u001b[1;32m    221\u001b[0m     )\n\u001b[1;32m    222\u001b[0m \u001b[38;5;28;01melif\u001b[39;00m \u001b[38;5;28misinstance\u001b[39m(\u001b[38;5;28mself\u001b[39m\u001b[38;5;241m.\u001b[39moutput_policy_type, UserPolicy):\n\u001b[0;32m--> 223\u001b[0m     \u001b[38;5;28mself\u001b[39m\u001b[38;5;241m.\u001b[39moutput_policy_state \u001b[38;5;241m=\u001b[39m \u001b[43minit_policy\u001b[49m\u001b[43m(\u001b[49m\n\u001b[1;32m    224\u001b[0m \u001b[43m        \u001b[49m\u001b[38;5;28;43mself\u001b[39;49m\u001b[38;5;241;43m.\u001b[39;49m\u001b[43moutput_policy_type\u001b[49m\u001b[43m,\u001b[49m\u001b[43m \u001b[49m\u001b[38;5;28;43mself\u001b[39;49m\u001b[38;5;241;43m.\u001b[39;49m\u001b[43moutput_policy_init_kwargs\u001b[49m\n\u001b[1;32m    225\u001b[0m \u001b[43m    \u001b[49m\u001b[43m)\u001b[49m\n\u001b[1;32m    226\u001b[0m \u001b[38;5;28;01melse\u001b[39;00m:\n\u001b[1;32m    227\u001b[0m     \u001b[38;5;28;01mraise\u001b[39;00m \u001b[38;5;167;01mException\u001b[39;00m(\n\u001b[1;32m    228\u001b[0m         \u001b[38;5;124mf\u001b[39m\u001b[38;5;124m\"\u001b[39m\u001b[38;5;124mInvalid output_policy_type: \u001b[39m\u001b[38;5;132;01m{\u001b[39;00m\u001b[38;5;28mself\u001b[39m\u001b[38;5;241m.\u001b[39moutput_policy_type\u001b[38;5;132;01m}\u001b[39;00m\u001b[38;5;124m\"\u001b[39m\n\u001b[1;32m    229\u001b[0m     )\n",
      "File \u001b[0;32m~/dev/PySyft/packages/syft/src/syft/core/node/new/policy.py:748\u001b[0m, in \u001b[0;36minit_policy\u001b[0;34m(user_policy, init_args)\u001b[0m\n\u001b[1;32m    746\u001b[0m \u001b[38;5;28mprint\u001b[39m(\u001b[38;5;124m\"\u001b[39m\u001b[38;5;124minit class with args\u001b[39m\u001b[38;5;124m\"\u001b[39m, init_args)\n\u001b[1;32m    747\u001b[0m \u001b[38;5;28mprint\u001b[39m(\u001b[38;5;124m\"\u001b[39m\u001b[38;5;124mclass mro\u001b[39m\u001b[38;5;124m\"\u001b[39m, policy_class\u001b[38;5;241m.\u001b[39mmro())\n\u001b[0;32m--> 748\u001b[0m policy_object \u001b[38;5;241m=\u001b[39m \u001b[43mpolicy_class\u001b[49m\u001b[43m(\u001b[49m\u001b[38;5;241;43m*\u001b[39;49m\u001b[38;5;241;43m*\u001b[39;49m\u001b[43minit_args\u001b[49m\u001b[43m)\u001b[49m\n\u001b[1;32m    749\u001b[0m \u001b[38;5;28;01mreturn\u001b[39;00m policy_object\n",
      "File \u001b[0;32m<string>:14\u001b[0m, in \u001b[0;36m__init__\u001b[0;34m(self, n_calls, downloadable_output_args)\u001b[0m\n",
      "File \u001b[0;32m~/dev/PySyft/packages/syft/src/syft/core/node/new/policy.py:104\u001b[0m, in \u001b[0;36mPolicy.__init__\u001b[0;34m(self, *args, **kwargs)\u001b[0m\n\u001b[1;32m    102\u001b[0m     \u001b[38;5;28;01mif\u001b[39;00m \u001b[38;5;124m\"\u001b[39m\u001b[38;5;124mid\u001b[39m\u001b[38;5;124m\"\u001b[39m \u001b[38;5;129;01min\u001b[39;00m init_kwargs:\n\u001b[1;32m    103\u001b[0m         \u001b[38;5;28;01mdel\u001b[39;00m init_kwargs[\u001b[38;5;124m\"\u001b[39m\u001b[38;5;124mid\u001b[39m\u001b[38;5;124m\"\u001b[39m]\n\u001b[0;32m--> 104\u001b[0m \u001b[38;5;28;43msuper\u001b[39;49m\u001b[43m(\u001b[49m\u001b[43m)\u001b[49m\u001b[38;5;241;43m.\u001b[39;49m\u001b[38;5;21;43m__init__\u001b[39;49m\u001b[43m(\u001b[49m\u001b[43minit_kwargs\u001b[49m\u001b[38;5;241;43m=\u001b[39;49m\u001b[43minit_kwargs\u001b[49m\u001b[43m,\u001b[49m\u001b[43m \u001b[49m\u001b[38;5;241;43m*\u001b[39;49m\u001b[43margs\u001b[49m\u001b[43m,\u001b[49m\u001b[43m \u001b[49m\u001b[38;5;241;43m*\u001b[39;49m\u001b[38;5;241;43m*\u001b[39;49m\u001b[43mkwargs\u001b[49m\u001b[43m)\u001b[49m\n",
      "File \u001b[0;32m~/dev/PySyft/packages/syft/src/syft/core/node/new/syft_object.py:323\u001b[0m, in \u001b[0;36mSyftObject.__init__\u001b[0;34m(self, **kwargs)\u001b[0m\n\u001b[1;32m    322\u001b[0m \u001b[38;5;28;01mdef\u001b[39;00m \u001b[38;5;21m__init__\u001b[39m(\u001b[38;5;28mself\u001b[39m, \u001b[38;5;241m*\u001b[39m\u001b[38;5;241m*\u001b[39mkwargs) \u001b[38;5;241m-\u001b[39m\u001b[38;5;241m>\u001b[39m \u001b[38;5;28;01mNone\u001b[39;00m:\n\u001b[0;32m--> 323\u001b[0m     \u001b[38;5;28;43msuper\u001b[39;49m\u001b[43m(\u001b[49m\u001b[43m)\u001b[49m\u001b[38;5;241;43m.\u001b[39;49m\u001b[38;5;21;43m__init__\u001b[39;49m\u001b[43m(\u001b[49m\u001b[38;5;241;43m*\u001b[39;49m\u001b[38;5;241;43m*\u001b[39;49m\u001b[43mkwargs\u001b[49m\u001b[43m)\u001b[49m\n\u001b[1;32m    324\u001b[0m     \u001b[38;5;28mself\u001b[39m\u001b[38;5;241m.\u001b[39m_syft_set_validate_private_attrs_(\u001b[38;5;241m*\u001b[39m\u001b[38;5;241m*\u001b[39mkwargs)\n\u001b[1;32m    325\u001b[0m     \u001b[38;5;28mself\u001b[39m\u001b[38;5;241m.\u001b[39m__post_init__()\n",
      "File \u001b[0;32m~/dev/PySyft/.tox/syft.jupyter/lib/python3.10/site-packages/pydantic/main.py:339\u001b[0m, in \u001b[0;36mpydantic.main.BaseModel.__init__\u001b[0;34m()\u001b[0m\n",
      "File \u001b[0;32m~/dev/PySyft/.tox/syft.jupyter/lib/python3.10/site-packages/pydantic/main.py:1076\u001b[0m, in \u001b[0;36mpydantic.main.validate_model\u001b[0;34m()\u001b[0m\n",
      "File \u001b[0;32m~/dev/PySyft/.tox/syft.jupyter/lib/python3.10/site-packages/pydantic/fields.py:860\u001b[0m, in \u001b[0;36mpydantic.fields.ModelField.validate\u001b[0;34m()\u001b[0m\n",
      "\u001b[0;31mConfigError\u001b[0m: field \"downloadable_output_args\" not yet prepared so type is still a ForwardRef, you might need to call RepeatedCallPolicy_aec6ea4dfc049ceacaeeebc493167a88a200ddc367b1fa32da652444b635d21f_1090fa4e02e6327eddac5aa4a4f5aac5cef641d05e772a91199e76c7103304d9.update_forward_refs()."
     ]
    }
   ],
   "source": [
    "final_result = request.accept_by_depositing_result(result) \n",
    "final_result"
   ]
  },
  {
   "cell_type": "code",
   "execution_count": null,
   "id": "3cb8784c-b8b3-461b-a23f-7e9b1562c049",
   "metadata": {
    "tags": []
   },
   "outputs": [],
   "source": [
    "x = sy.ActionObject.from_obj(np.array([1, 2, 3]))"
   ]
  },
  {
   "cell_type": "code",
   "execution_count": null,
   "id": "5e5ed2e6-0ee2-4efa-82bd-bc0fe4019124",
   "metadata": {
    "tags": []
   },
   "outputs": [],
   "source": [
    "isinstance(x, sy.ActionObject)"
   ]
  },
  {
   "cell_type": "code",
   "execution_count": null,
   "id": "cdbcc474-9976-4c76-a508-fe3edf5bc18c",
   "metadata": {
    "tags": []
   },
   "outputs": [],
   "source": [
    "res = domain_client.api.services.code.func(x=x_pointer)\n",
    "res"
   ]
  },
  {
   "cell_type": "code",
   "execution_count": null,
   "id": "538d14fa-1c7a-4f7c-bd27-4d97b5311b4c",
   "metadata": {
    "tags": []
   },
   "outputs": [],
   "source": [
    "assert (res[\"y\"] == np.array([2, 3, 4])).all()"
   ]
  },
  {
   "cell_type": "code",
   "execution_count": null,
   "id": "65b2ca60-6605-4dc3-a5d4-17fb368b808e",
   "metadata": {
    "tags": []
   },
   "outputs": [],
   "source": [
    "assert set(res.syft_action_data.keys()) == set(list(\"y\"))"
   ]
  },
  {
   "cell_type": "code",
   "execution_count": null,
   "id": "4592fee8-5d23-4881-ad84-73c734b7e9d9",
   "metadata": {
    "tags": []
   },
   "outputs": [],
   "source": [
    "domain_client.api.services.code.get_all()[0].output_policy"
   ]
  },
  {
   "cell_type": "code",
   "execution_count": null,
   "id": "d17c7e2a-93fa-4f45-abd3-c19fbded5989",
   "metadata": {
    "tags": []
   },
   "outputs": [],
   "source": [
    "domain_client.api.services.policy.get_all()"
   ]
  },
  {
   "cell_type": "code",
   "execution_count": null,
   "id": "fab5b15c-6df3-4fe1-97b7-a2971f4ca6cc",
   "metadata": {
    "tags": []
   },
   "outputs": [],
   "source": [
    "output_policy = domain_client.api.services.policy.get_all()[0]"
   ]
  },
  {
   "cell_type": "code",
   "execution_count": null,
   "id": "0f88fdf9-069c-4282-baee-41f04b8bbe06",
   "metadata": {
    "tags": []
   },
   "outputs": [],
   "source": [
    "sy.orchestra.land(\"test-domain-1\")"
   ]
  },
  {
   "cell_type": "code",
   "execution_count": null,
   "id": "6d59c608-9d34-475d-a8b6-05fd030a9e8d",
   "metadata": {},
   "outputs": [],
   "source": []
  },
  {
   "cell_type": "code",
   "execution_count": null,
   "id": "f0f3fdd1-97ea-44f4-91bb-0b2b8f637a08",
   "metadata": {
    "tags": []
   },
   "outputs": [],
   "source": [
    "from pydantic import BaseModel"
   ]
  },
  {
   "cell_type": "code",
   "execution_count": null,
   "id": "c5aba983-e3c4-4aa5-bc84-604c9c7d2f19",
   "metadata": {
    "tags": []
   },
   "outputs": [],
   "source": [
    "class A(BaseModel):\n",
    "    pass"
   ]
  },
  {
   "cell_type": "code",
   "execution_count": null,
   "id": "3bf1d7a3-cd51-46dd-96b2-00a069924245",
   "metadata": {
    "tags": []
   },
   "outputs": [],
   "source": [
    "A()"
   ]
  },
  {
   "cell_type": "code",
   "execution_count": null,
   "id": "08cdc3bc-928b-4ca5-8405-5971be16d1d1",
   "metadata": {
    "tags": []
   },
   "outputs": [],
   "source": [
    "type(A)"
   ]
  },
  {
   "cell_type": "code",
   "execution_count": null,
   "id": "46f45302-c87e-4e81-bf46-1a17d47ca2d6",
   "metadata": {
    "tags": []
   },
   "outputs": [],
   "source": [
    "class B:\n",
    "    pass"
   ]
  },
  {
   "cell_type": "code",
   "execution_count": null,
   "id": "c4208ad0-126c-43a8-b2c7-602bdb258713",
   "metadata": {
    "tags": []
   },
   "outputs": [],
   "source": [
    "type(B)"
   ]
  },
  {
   "cell_type": "code",
   "execution_count": null,
   "id": "ec49f73b-4870-4438-82fd-343ca808e50e",
   "metadata": {
    "tags": []
   },
   "outputs": [],
   "source": [
    "isinstance(B, type)"
   ]
  },
  {
   "cell_type": "code",
   "execution_count": null,
   "id": "71cf928e-2632-424b-bde1-18c2c71dd2fc",
   "metadata": {
    "tags": []
   },
   "outputs": [],
   "source": [
    "a = A()"
   ]
  },
  {
   "cell_type": "code",
   "execution_count": null,
   "id": "12ac3bad-ed7e-449d-8987-c94792f3692e",
   "metadata": {
    "tags": []
   },
   "outputs": [],
   "source": [
    "b = B()"
   ]
  },
  {
   "cell_type": "code",
   "execution_count": null,
   "id": "367d6953-7e96-4d0c-aced-3c2986373a01",
   "metadata": {
    "tags": []
   },
   "outputs": [],
   "source": [
    "isinstance(a, type)"
   ]
  },
  {
   "cell_type": "code",
   "execution_count": null,
   "id": "4a5f163e-8b2c-4f56-b851-34c54204d07d",
   "metadata": {
    "tags": []
   },
   "outputs": [],
   "source": [
    "isinstance(b, type)"
   ]
  },
  {
   "cell_type": "code",
   "execution_count": null,
   "id": "e9d95e2e-f847-4712-83e9-2902fd5570d2",
   "metadata": {
    "tags": []
   },
   "outputs": [],
   "source": [
    "A.__name__"
   ]
  },
  {
   "cell_type": "code",
   "execution_count": null,
   "id": "350c5877-017a-49a4-a11d-a414808d428a",
   "metadata": {
    "tags": []
   },
   "outputs": [],
   "source": [
    "A.__module__"
   ]
  },
  {
   "cell_type": "code",
   "execution_count": null,
   "id": "23cfe42c-8088-4c1a-81c7-ea52b91e5409",
   "metadata": {
    "tags": []
   },
   "outputs": [],
   "source": [
    "import sys"
   ]
  },
  {
   "cell_type": "code",
   "execution_count": null,
   "id": "319c8924-6d06-4e86-a9be-539d915fd7b7",
   "metadata": {
    "tags": []
   },
   "outputs": [],
   "source": [
    "sys.modules[\"syft\"]"
   ]
  },
  {
   "cell_type": "code",
   "execution_count": null,
   "id": "c9b1ac78-f6b4-4bde-90b7-d246efe94149",
   "metadata": {
    "tags": []
   },
   "outputs": [],
   "source": [
    "dir(sys.modules[\"syft\"])"
   ]
  },
  {
   "cell_type": "code",
   "execution_count": null,
   "id": "c6da7964-0a13-4703-ae14-d4df96fb9940",
   "metadata": {
    "tags": []
   },
   "outputs": [],
   "source": [
    "setattr(sys.modules[\"syft\"], \"my_module\", my_module)"
   ]
  },
  {
   "cell_type": "code",
   "execution_count": null,
   "id": "f083a4a3-0369-423a-a2fe-5a2daa5528f5",
   "metadata": {},
   "outputs": [],
   "source": []
  },
  {
   "cell_type": "code",
   "execution_count": null,
   "id": "1f3dec73-e753-4cf2-973b-621742c97cb8",
   "metadata": {
    "tags": []
   },
   "outputs": [],
   "source": [
    "x = sy.my_module.MyClass"
   ]
  },
  {
   "cell_type": "code",
   "execution_count": null,
   "id": "74b021c4-2005-40f7-971a-8d2947e9fae3",
   "metadata": {
    "tags": []
   },
   "outputs": [],
   "source": [
    "x"
   ]
  },
  {
   "cell_type": "code",
   "execution_count": null,
   "id": "3868f7aa-c110-42b6-9f07-aec00cc1f447",
   "metadata": {
    "tags": []
   },
   "outputs": [],
   "source": [
    "x.__module__"
   ]
  },
  {
   "cell_type": "code",
   "execution_count": null,
   "id": "b3dada82-eb5d-4638-8623-47a72e632201",
   "metadata": {
    "tags": []
   },
   "outputs": [],
   "source": [
    "import module"
   ]
  },
  {
   "cell_type": "code",
   "execution_count": null,
   "id": "7a6dca56-425a-44c3-8939-8e34a2293741",
   "metadata": {
    "tags": []
   },
   "outputs": [],
   "source": [
    "import sys\n",
    "import types\n",
    "\n",
    "# Define your custom class\n",
    "class MyClass:\n",
    "    def __init__(self, x):\n",
    "        self.x = x\n",
    "\n",
    "    def print_x(self):\n",
    "        print(f\"MyClass instance with x = {self.x}\")\n",
    "\n",
    "# Create a new module object\n",
    "my_module = types.ModuleType(\"my_module\")\n",
    "MyClass.__module__ = \"syft.my_module\"\n",
    "# Set the attributes of the module to the custom class\n",
    "my_module.MyClass = MyClass\n",
    "\n",
    "# Add the module to sys.modules\n",
    "sys.modules[\"my_module\"] = my_module\n",
    "\n",
    "# Now you can import and use the custom class from the module\n",
    "from my_module import MyClass\n",
    "\n",
    "instance = MyClass(42)\n",
    "instance.print_x()"
   ]
  },
  {
   "cell_type": "code",
   "execution_count": null,
   "id": "e3286767-2fed-4604-91cf-ec7086913a8a",
   "metadata": {
    "tags": []
   },
   "outputs": [],
   "source": [
    "sys.modules[\"my_module\"].MyClass"
   ]
  },
  {
   "cell_type": "code",
   "execution_count": null,
   "id": "dc0fdb3f-8343-4f8d-b3ec-43d57fa267f1",
   "metadata": {
    "tags": []
   },
   "outputs": [],
   "source": [
    "from syft import CustomOutputPolicy"
   ]
  },
  {
   "cell_type": "code",
   "execution_count": null,
   "id": "8b2cf2ed-b243-4d05-878d-307583d758df",
   "metadata": {
    "tags": []
   },
   "outputs": [],
   "source": [
    "a = \"\"\"\n",
    "class RepeatedCallPolicy(CustomOutputPolicy):\n",
    "    __canonical_name__ = \"RepeatedCallPolicy\"\n",
    "    __version__ = 1\n",
    "    from typing import List, Dict, Any\n",
    "\n",
    "    n_calls: int\n",
    "    downloadable_output_args: List[str]\n",
    "    state: Dict[Any, Any] = {}\n",
    "    \n",
    "#     __attr_allowlist__ = [\n",
    "#         \"n_calls\",\n",
    "#         \"downloadable_output_args\",\n",
    "#     ]\n",
    "\n",
    "    def __init__(self, n_calls=1, downloadable_output_args=None):\n",
    "        super().__init__(n_calls=n_calls, downloadable_output_args=downloadable_output_args)\n",
    "        self.n_calls = n_calls + 1\n",
    "        self.downloadable_output_args = downloadable_output_args if not None else []\n",
    "        self.state = {\"counts\": 0}\n",
    "\n",
    "    def public_state(self):\n",
    "        return self.state[\"counts\"]\n",
    "        \n",
    "    def apply_output(self, context, outputs):\n",
    "        output_dict = {}\n",
    "        if self.state[\"counts\"] < self.n_calls:\n",
    "            for output_arg in self.downloadable_output_args:\n",
    "                output_dict[output_arg] = outputs[output_arg]\n",
    "\n",
    "            self.state[\"counts\"] += 1\n",
    "        else:\n",
    "            return None\n",
    "\n",
    "        return output_dict\n",
    "\"\"\""
   ]
  },
  {
   "cell_type": "code",
   "execution_count": null,
   "id": "1c4ccc4a-5e94-48c8-8188-c6d3c212fbf4",
   "metadata": {},
   "outputs": [],
   "source": []
  },
  {
   "cell_type": "code",
   "execution_count": null,
   "id": "ab9b6e4f-a8fd-479d-b31b-30c8d710da17",
   "metadata": {
    "tags": []
   },
   "outputs": [],
   "source": [
    "import ast"
   ]
  },
  {
   "cell_type": "code",
   "execution_count": null,
   "id": "2f6260ef-521e-4770-943b-af6de04cd195",
   "metadata": {
    "tags": []
   },
   "outputs": [],
   "source": [
    "# Parse the source code into an AST\n",
    "module_ast = ast.parse(a)"
   ]
  },
  {
   "cell_type": "code",
   "execution_count": null,
   "id": "d631bf8c-9571-40ec-8361-5c858332a34f",
   "metadata": {
    "tags": []
   },
   "outputs": [],
   "source": [
    "# Modify the AST to add a new line to set the __module__ attribute\n",
    "for node in module_ast.body:\n",
    "    if isinstance(node, ast.ClassDef) and node.name == \"RepeatedCallPolicy\":\n",
    "        new_line = ast.parse(\"RepeatedCallPolicy.__module__ = 'new_module_name'\")\n",
    "        node.body.append(new_line.body[0])\n",
    "\n",
    "# Unparse the modified AST to generate the new source code\n",
    "new_source_code = ast.unparse(module_ast)"
   ]
  },
  {
   "cell_type": "code",
   "execution_count": null,
   "id": "e5e06fea-58e8-4fd2-adb7-c577e6ccb0ae",
   "metadata": {
    "tags": []
   },
   "outputs": [],
   "source": [
    "print(new_source_code)"
   ]
  },
  {
   "cell_type": "code",
   "execution_count": null,
   "id": "3393e3e6-07f3-4e4a-bf9d-1e9939b20db1",
   "metadata": {
    "tags": []
   },
   "outputs": [],
   "source": [
    "@sy.serializable()\n",
    "class RepeatedCallPolicy_aec6ea4dfc049ceacaeeebc493167a88a200ddc367b1fa32da652444b635d21f_37461af60aed931411eded4508c68184b3e0cfb6a2b1df8a56cc283e9ecbcef2(CustomOutputPolicy):\n",
    "    __canonical_name__ = 'RepeatedCallPolicy'\n",
    "    __version__ = 1\n",
    "    from typing import List, Dict, Any\n",
    "    n_calls: int\n",
    "    downloadable_output_args: List[str]\n",
    "    state: Dict[(Any, Any)] = {}\n",
    "\n",
    "    def __init__(self, n_calls=1, downloadable_output_args=None):\n",
    "        super().__init__(n_calls=n_calls, downloadable_output_args=downloadable_output_args)\n",
    "        self.n_calls = (n_calls + 1)\n",
    "        self.downloadable_output_args = (downloadable_output_args if (not None) else [])\n",
    "        self.state = {'counts': 0}\n",
    "\n",
    "    def public_state(self):\n",
    "        return self.state['counts']\n",
    "\n",
    "    def apply_output(self, context, outputs):\n",
    "        output_dict = {}\n",
    "        if (self.state['counts'] < self.n_calls):\n",
    "            for output_arg in self.downloadable_output_args:\n",
    "                output_dict[output_arg] = outputs[output_arg]\n",
    "            self.state['counts'] += 1\n",
    "        else:\n",
    "            return None\n",
    "        return output_dict\n",
    "    __module__ = 'syft.user'"
   ]
  },
  {
   "cell_type": "code",
   "execution_count": null,
   "id": "e41e6cb0-1bde-4e06-a4a9-1d0838a1574f",
   "metadata": {
    "tags": []
   },
   "outputs": [],
   "source": [
    "RepeatedCallPolicy_aec6ea4dfc049ceacaeeebc493167a88a200ddc367b1fa32da652444b635d21f_37461af60aed931411eded4508c68184b3e0cfb6a2b1df8a56cc283e9ecbcef2"
   ]
  },
  {
   "cell_type": "code",
   "execution_count": null,
   "id": "24756d18-b4ee-4189-bcc7-3651f1c6e612",
   "metadata": {},
   "outputs": [],
   "source": []
  }
 ],
 "metadata": {
  "kernelspec": {
   "display_name": "Python 3 (ipykernel)",
   "language": "python",
   "name": "python3"
  },
  "language_info": {
   "codemirror_mode": {
    "name": "ipython",
    "version": 3
   },
   "file_extension": ".py",
   "mimetype": "text/x-python",
   "name": "python",
   "nbconvert_exporter": "python",
   "pygments_lexer": "ipython3",
   "version": "3.10.9"
  }
 },
 "nbformat": 4,
 "nbformat_minor": 5
}
