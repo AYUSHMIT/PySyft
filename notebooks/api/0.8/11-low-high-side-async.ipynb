{
 "cells": [
  {
   "cell_type": "code",
   "execution_count": null,
   "id": "ff4ebbc8-8a10-44d0-b0f8-554045c59ac4",
   "metadata": {},
   "outputs": [],
   "source": [
    "import syft as sy\n",
    "from syft.abstract_node import NodeType\n",
    "\n",
    "from syft.service.code.user_code import UserCode\n",
    "from syft.service.context import AuthedServiceContext"
   ]
  },
  {
   "cell_type": "code",
   "execution_count": null,
   "id": "d38ee1f0-b5be-4a40-9f50-0929433a5637",
   "metadata": {},
   "outputs": [],
   "source": [
    "low_side = sy.Orchestra.launch(\n",
    "    name=\"canada-1\",\n",
    "    node_side_type=\"low\",\n",
    "    local_db=True,\n",
    "    reset=True,\n",
    "    # enable_warnings=True,\n",
    ")\n",
    "\n",
    "high_side = sy.Orchestra.launch(\n",
    "    name=\"canada-2\",\n",
    "    local_db=True,\n",
    "    reset=True,\n",
    "    n_consumers=1,\n",
    "    create_producer=True\n",
    "    # enable_warnings=True,\n",
    ")"
   ]
  },
  {
   "cell_type": "code",
   "execution_count": null,
   "id": "ca5c4864-b93c-41fb-9677-fd7f23853b89",
   "metadata": {},
   "outputs": [],
   "source": [
    "client_low_do = low_side.login(email=\"info@openmined.org\", password=\"changethis\")\n",
    "client_high_do = high_side.login(email=\"info@openmined.org\", password=\"changethis\")\n",
    "\n",
    "client_low_do.register(name=\"Sheldon\", email=\"sheldon@caltech.edu\", password=\"changethis\", password_verify=\"changethis\")\n",
    "client_low_ds = low_side.login(email=\"sheldon@caltech.edu\", password=\"changethis\")"
   ]
  },
  {
   "cell_type": "code",
   "execution_count": null,
   "id": "757eb175-8f96-497a-8e98-f18cae4c6a0f",
   "metadata": {},
   "outputs": [],
   "source": [
    "import numpy as np\n",
    "\n",
    "mock_low = np.array([0, 1, 2, 3, 4])\n",
    "private_low = np.array([5, 6, 7, 8, 9])\n",
    "\n",
    "dataset_low = sy.Dataset(\n",
    "        name=\"my-dataset\",\n",
    "        description=\"abc\",\n",
    "        asset_list=[\n",
    "            sy.Asset(\n",
    "                name=\"numpy-data\",\n",
    "                mock=mock_low,\n",
    "                data=private_low,\n",
    "                shape=private_low.shape,\n",
    "                mock_is_real=True,\n",
    "            )\n",
    "        ],\n",
    "    )\n",
    "\n",
    "client_low_do.upload_dataset(dataset_low)"
   ]
  },
  {
   "cell_type": "code",
   "execution_count": null,
   "id": "9e7631fc-7e3b-456f-a486-eb5b75a65cb5",
   "metadata": {},
   "outputs": [],
   "source": [
    "import numpy as np\n",
    "\n",
    "mock_high = np.array([10, 11, 12, 13, 14])\n",
    "private_high = np.array([15, 16, 17, 18, 19])\n",
    "\n",
    "dataset_high = sy.Dataset(\n",
    "        name=\"my-dataset\",\n",
    "        description=\"abc\",\n",
    "        asset_list=[\n",
    "            sy.Asset(\n",
    "                name=\"numpy-data\",\n",
    "                mock=mock_high,\n",
    "                data=private_high,\n",
    "                shape=private_high.shape,\n",
    "                mock_is_real=True,\n",
    "            )\n",
    "        ],\n",
    "    )\n",
    "\n",
    "client_high_do.upload_dataset(dataset_high)"
   ]
  },
  {
   "cell_type": "code",
   "execution_count": null,
   "id": "223d81c5-496e-4763-b4ed-31e1628b9c31",
   "metadata": {},
   "outputs": [],
   "source": [
    "data_low = client_low_do.datasets[0].assets[0]\n",
    "\n",
    "@sy.syft_function_single_use(data=data_low)\n",
    "def compute_mean(data) -> float:\n",
    "    return data.mean()\n",
    "\n",
    "request_ds = client_low_ds.code.request_code_execution(compute_mean)\n",
    "request_ds"
   ]
  },
  {
   "cell_type": "code",
   "execution_count": null,
   "id": "54fb6860",
   "metadata": {},
   "outputs": [],
   "source": [
    "# Resubmit low-side code to high side\n",
    "client_low_do._fetch_api(client_low_do.credentials)\n",
    "\n",
    "request_low = client_low_do.requests[0]\n",
    "client_high_do.code.submit(request_low.code)"
   ]
  },
  {
   "cell_type": "code",
   "execution_count": null,
   "id": "cef4ed9d-7d1d-43d6-9baf-5d59908cb8ec",
   "metadata": {},
   "outputs": [],
   "source": [
    "# High side executes as job\n",
    "client_high_do._fetch_api(client_high_do.credentials)\n",
    "data_high = client_high_do.datasets[0].assets[0]\n",
    "\n",
    "job_high = client_high_do.code.compute_mean(data=data_high, blocking=False)\n",
    "result_high = job_high.wait().get()"
   ]
  },
  {
   "cell_type": "code",
   "execution_count": null,
   "id": "6ec98360-597c-45dd-852b-e1e8ebe6d5f1",
   "metadata": {},
   "outputs": [],
   "source": [
    "type(result_high)"
   ]
  },
  {
   "cell_type": "code",
   "execution_count": null,
   "id": "984252a1-8b17-4b3c-8b44-5d2b5a04d4e7",
   "metadata": {},
   "outputs": [],
   "source": [
    "request_low.accept_by_depositing_result(result_high)"
   ]
  },
  {
   "cell_type": "code",
   "execution_count": null,
   "id": "9f1029c4-01a6-49aa-9113-2db2662e8a0c",
   "metadata": {},
   "outputs": [],
   "source": [
    "result_ds = client_low_ds.code.compute_mean(data=data_low)\n",
    "result_ds.get()"
   ]
  },
  {
   "cell_type": "code",
   "execution_count": null,
   "id": "36ad485c-e0f9-4dac-8556-850b80c20dad",
   "metadata": {},
   "outputs": [],
   "source": [
    "type(result_ds.get())"
   ]
  },
  {
   "cell_type": "code",
   "execution_count": null,
   "id": "ee12f30e-471c-44b4-b25c-0d1acf4fd2d9",
   "metadata": {},
   "outputs": [],
   "source": [
    "for node in (low_side, high_side):\n",
    "    if node.node_type.value == \"python\":\n",
    "        node.land()"
   ]
  }
 ],
 "metadata": {
  "kernelspec": {
   "display_name": "Python 3 (ipykernel)",
   "language": "python",
   "name": "python3"
  },
  "language_info": {
   "codemirror_mode": {
    "name": "ipython",
    "version": 3
   },
   "file_extension": ".py",
   "mimetype": "text/x-python",
   "name": "python",
   "nbconvert_exporter": "python",
   "pygments_lexer": "ipython3",
   "version": "3.11.5"
  },
  "toc": {
   "base_numbering": 1,
   "nav_menu": {},
   "number_sections": true,
   "sideBar": true,
   "skip_h1_title": false,
   "title_cell": "Table of Contents",
   "title_sidebar": "Contents",
   "toc_cell": false,
   "toc_position": {},
   "toc_section_display": true,
   "toc_window_display": true
  }
 },
 "nbformat": 4,
 "nbformat_minor": 5
}
