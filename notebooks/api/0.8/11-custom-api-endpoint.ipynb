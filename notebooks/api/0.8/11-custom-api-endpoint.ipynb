{
 "cells": [
  {
   "cell_type": "markdown",
   "metadata": {},
   "source": [
    "## Custom API Notebook"
   ]
  },
  {
   "cell_type": "markdown",
   "metadata": {},
   "source": [
    "### Initialize the Node"
   ]
  },
  {
   "cell_type": "code",
   "execution_count": null,
   "metadata": {},
   "outputs": [],
   "source": [
    "# stdlib\n",
    "from typing import Any\n",
    "\n",
    "# syft absolute\n",
    "import syft as sy\n",
    "from syft import SyftSuccess\n",
    "\n",
    "node = sy.orchestra.launch(name=\"test-domain-1\", port=\"auto\", dev_mode=True, reset=True)\n",
    "domain_client = node.login(email=\"info@openmined.org\", password=\"changethis\")\n",
    "domain_client.register(\n",
    "    email=\"user@openmined.org\",\n",
    "    password=\"verysecurepassword\",\n",
    "    password_verify=\"verysecurepassword\",\n",
    "    name=\"New User\",\n",
    ")\n",
    "domain_guest = node.login(email=\"user@openmined.org\", password=\"verysecurepassword\")"
   ]
  },
  {
   "cell_type": "markdown",
   "metadata": {},
   "source": [
    "### Create a public custom API Endpoint by using the decorator\n",
    "\n",
    "This allows node admin to create a new public endpoint by using only the decorator."
   ]
  },
  {
   "cell_type": "code",
   "execution_count": null,
   "metadata": {},
   "outputs": [],
   "source": [
    "@sy.api_endpoint(\n",
    "    path=\"first.query\",\n",
    "    settings={\"key\": \"value\"},\n",
    ")\n",
    "def public_endpoint_method(\n",
    "    context,\n",
    "    query: str,\n",
    ") -> Any:\n",
    "    return context.settings[\"key\"] == \"value\"\n",
    "\n",
    "\n",
    "# Add it to the node.\n",
    "response = domain_client.api.services.api.add(endpoint=public_endpoint_method)\n",
    "assert isinstance(response, SyftSuccess)"
   ]
  },
  {
   "cell_type": "code",
   "execution_count": null,
   "metadata": {},
   "outputs": [],
   "source": [
    "assert len(domain_client.api.services.api.api_endpoints()) == 1"
   ]
  },
  {
   "cell_type": "code",
   "execution_count": null,
   "metadata": {},
   "outputs": [],
   "source": [
    "# Once api refresh is done, remove this cell\n",
    "domain_client = node.login(email=\"info@openmined.org\", password=\"changethis\")\n",
    "domain_guest = node.login(email=\"user@openmined.org\", password=\"verysecurepassword\")"
   ]
  },
  {
   "cell_type": "code",
   "execution_count": null,
   "metadata": {},
   "outputs": [],
   "source": [
    "assert domain_client.api.services.first.query(query=\"SELECT *\")\n",
    "assert domain_guest.api.services.first.query(query=\"SELECT *\")"
   ]
  },
  {
   "cell_type": "markdown",
   "metadata": {},
   "source": [
    "### Create public/private Custom API Endpoint using TwinAPIEndpoint\n",
    "\n",
    "This allows the admin to create a public/private endpoint interface where the users can iteract with."
   ]
  },
  {
   "cell_type": "code",
   "execution_count": null,
   "metadata": {},
   "outputs": [],
   "source": [
    "@sy.public_api_endpoint(settings={\"Hello\": \"Public\"})\n",
    "def public_function(\n",
    "    context,\n",
    ") -> str:\n",
    "    return \"Public Function Execution\"\n",
    "\n",
    "\n",
    "@sy.private_api_endpoint(settings={\"Hello\": \"Private\"})\n",
    "def private_function(\n",
    "    context,\n",
    ") -> str:\n",
    "    return \"Private Function Execution\"\n",
    "\n",
    "\n",
    "new_endpoint = sy.TwinAPIEndpoint(\n",
    "    path=\"third.query\",\n",
    "    private=private_function,\n",
    "    public=public_function,\n",
    "    description=\"Lore ipsulum ...\",\n",
    ")\n",
    "\n",
    "# # Add it to the node.\n",
    "response = domain_client.api.services.api.add(endpoint=new_endpoint)"
   ]
  },
  {
   "cell_type": "code",
   "execution_count": null,
   "metadata": {},
   "outputs": [],
   "source": [
    "domain_client.api.services.api.api_endpoints()"
   ]
  },
  {
   "cell_type": "code",
   "execution_count": null,
   "metadata": {},
   "outputs": [],
   "source": [
    "assert isinstance(response, SyftSuccess)\n",
    "assert len(domain_client.api.services.api.api_endpoints()) == 2"
   ]
  },
  {
   "cell_type": "code",
   "execution_count": null,
   "metadata": {},
   "outputs": [],
   "source": [
    "# Once api refresh is done, remove this cell\n",
    "domain_client = node.login(email=\"info@openmined.org\", password=\"changethis\")\n",
    "domain_guest = node.login(email=\"user@openmined.org\", password=\"verysecurepassword\")"
   ]
  },
  {
   "cell_type": "code",
   "execution_count": null,
   "metadata": {},
   "outputs": [],
   "source": [
    "assert domain_client.api.services.third.query() == \"Private Function Execution\""
   ]
  },
  {
   "cell_type": "code",
   "execution_count": null,
   "metadata": {},
   "outputs": [],
   "source": [
    "assert domain_guest.api.services.third.query() == \"Public Function Execution\""
   ]
  },
  {
   "cell_type": "code",
   "execution_count": null,
   "metadata": {},
   "outputs": [],
   "source": [
    "@sy.syft_function_single_use(\n",
    "    endpoint=domain_client.api.services.third.query,\n",
    ")\n",
    "def job_function(endpoint):\n",
    "    return endpoint.mock()\n",
    "\n",
    "\n",
    "# Create a new project\n",
    "new_project = sy.Project(\n",
    "    name=\"My Cool UN Project\",\n",
    "    description=\"Hi, I want to calculate the trade volume in million's with my cool code.\",\n",
    "    members=[domain_client],\n",
    ")\n",
    "\n",
    "result = new_project.create_code_request(job_function, domain_client)\n",
    "assert isinstance(result, SyftSuccess)"
   ]
  },
  {
   "cell_type": "code",
   "execution_count": null,
   "metadata": {},
   "outputs": [],
   "source": [
    "domain_client.requests[-1].approve()"
   ]
  },
  {
   "cell_type": "code",
   "execution_count": null,
   "metadata": {},
   "outputs": [],
   "source": [
    "domain_client.code.job_function(endpoint=domain_client.api.services.third.query)"
   ]
  },
  {
   "cell_type": "code",
   "execution_count": null,
   "metadata": {},
   "outputs": [],
   "source": [
    "domain_client.api.services.third.query"
   ]
  },
  {
   "cell_type": "code",
   "execution_count": null,
   "metadata": {},
   "outputs": [],
   "source": [
    "job_function(endpoint=domain_client.api.services.third.query, syft_no_node=True)"
   ]
  },
  {
   "cell_type": "code",
   "execution_count": null,
   "metadata": {},
   "outputs": [],
   "source": [
    "result = domain_client.api.services.api.delete(endpoint_path=\"third.query\")\n",
    "assert isinstance(result, SyftSuccess)"
   ]
  },
  {
   "cell_type": "code",
   "execution_count": null,
   "metadata": {},
   "outputs": [],
   "source": [
    "assert len(domain_client.api.services.api.api_endpoints()) == 1"
   ]
  }
 ],
 "metadata": {
  "kernelspec": {
   "display_name": "Python 3 (ipykernel)",
   "language": "python",
   "name": "python3"
  },
  "language_info": {
   "codemirror_mode": {
    "name": "ipython",
    "version": 3
   },
   "file_extension": ".py",
   "mimetype": "text/x-python",
   "name": "python",
   "nbconvert_exporter": "python",
   "pygments_lexer": "ipython3",
   "version": "3.11.0rc1"
  }
 },
 "nbformat": 4,
 "nbformat_minor": 4
}
