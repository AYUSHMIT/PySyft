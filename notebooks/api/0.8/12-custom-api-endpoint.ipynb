{
 "cells": [
  {
   "cell_type": "markdown",
   "metadata": {},
   "source": [
    "## Custom API Notebook"
   ]
  },
  {
   "cell_type": "markdown",
   "metadata": {},
   "source": [
    "### Initialize the Node"
   ]
  },
  {
   "cell_type": "code",
   "execution_count": 1,
   "metadata": {
    "execution": {
     "iopub.execute_input": "2024-04-19T23:49:57.946941Z",
     "iopub.status.busy": "2024-04-19T23:49:57.946662Z",
     "iopub.status.idle": "2024-04-19T23:50:05.142330Z",
     "shell.execute_reply": "2024-04-19T23:50:05.141747Z"
    }
   },
   "outputs": [
    {
     "name": "stdout",
     "output_type": "stream",
     "text": [
      "Logged into <syft-dev-node: High-side Domain> as GUEST\n"
     ]
    },
    {
     "name": "stdout",
     "output_type": "stream",
     "text": [
      "Logged into <syft-dev-node: High side Domain> as <info@openmined.org>\n"
     ]
    },
    {
     "data": {
      "text/html": [
       "<div class=\"alert-warning\" style=\"padding:5px;\"><strong>SyftWarning</strong>: You are using a default password. Please change the password using `[your_client].me.set_password([new_password])`.</div><br />"
      ],
      "text/plain": [
       "SyftWarning: You are using a default password. Please change the password using `[your_client].me.set_password([new_password])`."
      ]
     },
     "metadata": {},
     "output_type": "display_data"
    },
    {
     "name": "stdout",
     "output_type": "stream",
     "text": [
      "Logged into <syft-dev-node: High-side Domain> as GUEST\n"
     ]
    },
    {
     "name": "stdout",
     "output_type": "stream",
     "text": [
      "Logged into <syft-dev-node: High side Domain> as <user@openmined.org>\n"
     ]
    }
   ],
   "source": [
    "# stdlib\n",
    "from typing import Any\n",
    "\n",
    "# syft absolute\n",
    "import syft as sy\n",
    "from syft import SyftError\n",
    "from syft import SyftSuccess\n",
    "\n",
    "node = sy.orchestra.launch(\n",
    "    name=\"test-domain-1\",\n",
    "    dev_mode=True,\n",
    "    create_producer=True,\n",
    "    n_consumers=3,\n",
    "    in_memory_workers=True,\n",
    "    reset=True,\n",
    "    port=8081,\n",
    ")\n",
    "\n",
    "domain_client = node.login(email=\"info@openmined.org\", password=\"changethis\")\n",
    "domain_client.register(\n",
    "    email=\"user@openmined.org\",\n",
    "    password=\"verysecurepassword\",\n",
    "    password_verify=\"verysecurepassword\",\n",
    "    name=\"New User\",\n",
    ")\n",
    "domain_guest = node.login(email=\"user@openmined.org\", password=\"verysecurepassword\")"
   ]
  },
  {
   "cell_type": "markdown",
   "metadata": {},
   "source": [
    "### Create a public custom API Endpoint by using the decorator\n",
    "\n",
    "This allows node admin to create a new public endpoint by using only the decorator."
   ]
  },
  {
   "cell_type": "code",
   "execution_count": 2,
   "metadata": {
    "execution": {
     "iopub.execute_input": "2024-04-19T23:50:05.144430Z",
     "iopub.status.busy": "2024-04-19T23:50:05.144038Z",
     "iopub.status.idle": "2024-04-19T23:50:05.274698Z",
     "shell.execute_reply": "2024-04-19T23:50:05.274164Z"
    }
   },
   "outputs": [
    {
     "data": {
      "text/html": [
       "<div class=\"alert-success\" style=\"padding:5px;\"><strong>SyftSuccess</strong>: Endpoint successfully created.</div><br />"
      ],
      "text/plain": [
       "SyftSuccess: Endpoint successfully created."
      ]
     },
     "execution_count": 2,
     "metadata": {},
     "output_type": "execute_result"
    }
   ],
   "source": [
    "@sy.api_endpoint(\n",
    "    path=\"first.query\",\n",
    "    settings={\"key\": \"value\"},\n",
    ")\n",
    "def public_endpoint_method(\n",
    "    context,\n",
    "    query: str,\n",
    ") -> Any:\n",
    "    return context.settings[\"key\"] == \"value\"\n",
    "\n",
    "\n",
    "# Add it to the node.\n",
    "response = domain_client.api.services.api.add(endpoint=public_endpoint_method)\n",
    "response"
   ]
  },
  {
   "cell_type": "code",
   "execution_count": 3,
   "metadata": {
    "execution": {
     "iopub.execute_input": "2024-04-19T23:50:05.276643Z",
     "iopub.status.busy": "2024-04-19T23:50:05.276270Z",
     "iopub.status.idle": "2024-04-19T23:50:05.278885Z",
     "shell.execute_reply": "2024-04-19T23:50:05.278440Z"
    }
   },
   "outputs": [],
   "source": [
    "assert isinstance(response, SyftSuccess)"
   ]
  },
  {
   "cell_type": "code",
   "execution_count": 4,
   "metadata": {
    "execution": {
     "iopub.execute_input": "2024-04-19T23:50:05.280688Z",
     "iopub.status.busy": "2024-04-19T23:50:05.280268Z",
     "iopub.status.idle": "2024-04-19T23:50:05.326723Z",
     "shell.execute_reply": "2024-04-19T23:50:05.326145Z"
    }
   },
   "outputs": [
    {
     "data": {
      "text/html": [
       "\n",
       "<style>\n",
       "  body[data-jp-theme-light='false'] {\n",
       "        --primary-color: #111111;\n",
       "        --secondary-color: #212121;\n",
       "        --tertiary-color: #CFCDD6;\n",
       "        --button-color: #111111;\n",
       "  }\n",
       "\n",
       "  body {\n",
       "        --primary-color: #ffffff;\n",
       "        --secondary-color: #f5f5f5;\n",
       "        --tertiary-color: #000000de;\n",
       "        --button-color: #d1d5db;\n",
       "  }\n",
       "\n",
       "  .header-1 {\n",
       "        font-style: normal;\n",
       "        font-weight: 600;\n",
       "        font-size: 2.0736em;\n",
       "        line-height: 100%;\n",
       "        leading-trim: both;\n",
       "        text-edge: cap;\n",
       "        color: #17161D;\n",
       "    }\n",
       "\n",
       "  .header-2 {\n",
       "        font-style: normal;\n",
       "        font-weight: 600;\n",
       "        font-size: 1.728em;\n",
       "        line-height: 100%;\n",
       "        leading-trim: both;\n",
       "        text-edge: cap;\n",
       "        color: #17161D;\n",
       "    }\n",
       "\n",
       "  .header-3 {\n",
       "        font-style: normal;\n",
       "        font-weight: 600;\n",
       "        font-size:  1.44em;\n",
       "        line-height: 100%;\n",
       "        leading-trim: both;\n",
       "        text-edge: cap;\n",
       "        color: var(--tertiary-color);\n",
       "    }\n",
       "\n",
       "  .header-4 {\n",
       "        font-style: normal;\n",
       "        font-weight: 600;\n",
       "        font-size: 1.2em;\n",
       "        line-height: 100%;\n",
       "        leading-trim: both;\n",
       "        text-edge: cap;\n",
       "        color: #17161D;\n",
       "    }\n",
       "\n",
       "    .paragraph {\n",
       "        font-style: normal;\n",
       "        font-weight: 400;\n",
       "        font-size: 14px;\n",
       "        line-height: 100%;\n",
       "        leading-trim: both;\n",
       "        text-edge: cap;\n",
       "        color: #2E2B3B;\n",
       "    }\n",
       "\n",
       "    .paragraph-sm {\n",
       "        font-family: 'Roboto';\n",
       "        font-style: normal;\n",
       "        font-weight: 400;\n",
       "        font-size: 11.62px;\n",
       "        line-height: 100%;\n",
       "        leading-trim: both;\n",
       "        text-edge: cap;\n",
       "        color: #2E2B3B;\n",
       "    }\n",
       "    .code-text {\n",
       "        font-family: 'Consolas';\n",
       "        font-style: normal;\n",
       "        font-weight: 400;\n",
       "        font-size: 13px;\n",
       "        line-height: 130%;\n",
       "        leading-trim: both;\n",
       "        text-edge: cap;\n",
       "        color: #2E2B3B;\n",
       "    }\n",
       "\n",
       "    .numbering-entry { display: none }\n",
       "\n",
       "    /* Tooltip container */\n",
       "    .tooltip {\n",
       "        position: relative;\n",
       "        display: inline-block;\n",
       "        border-bottom: 1px dotted black; /* If you want dots under the hoverable text */\n",
       "    }\n",
       "\n",
       "    /* Tooltip text */\n",
       "    .tooltip .tooltiptext {\n",
       "        visibility: hidden;\n",
       "        width: 120px;\n",
       "        background-color: black;\n",
       "        color: #fff;\n",
       "        text-align: center;\n",
       "        padding: 5px 0;\n",
       "        border-radius: 6px;\n",
       "\n",
       "        /* Position the tooltip text - see examples below! */\n",
       "        position: absolute;\n",
       "        z-index: 1;\n",
       "    }\n",
       "\n",
       "    .repr-cell {\n",
       "      padding-top: 20px;\n",
       "    }\n",
       "\n",
       "    .text-bold {\n",
       "        font-weight: bold;\n",
       "    }\n",
       "\n",
       "    .pr-8 {\n",
       "        padding-right: 8px;\n",
       "    }\n",
       "    .pt-8 {\n",
       "        padding-top: 8px;\n",
       "    }\n",
       "    .pl-8 {\n",
       "        padding-left: 8px;\n",
       "    }\n",
       "    .pb-8 {\n",
       "        padding-bottom: 8px;\n",
       "    }\n",
       "\n",
       "    .py-25{\n",
       "        padding-top: 25px;\n",
       "        padding-bottom: 25px;\n",
       "    }\n",
       "\n",
       "    .flex {\n",
       "        display: flex;\n",
       "    }\n",
       "\n",
       "    .gap-10 {\n",
       "        gap: 10px;\n",
       "    }\n",
       "    .items-center{\n",
       "        align-items: center;\n",
       "    }\n",
       "\n",
       "    .folder-icon {\n",
       "        color: var(--tertiary-color);\n",
       "    }\n",
       "\n",
       "    .search-input{\n",
       "        display: flex;\n",
       "        flex-direction: row;\n",
       "        align-items: center;\n",
       "        padding: 8px 12px;\n",
       "        width: 343px;\n",
       "        height: 24px;\n",
       "        /* Lt On Surface/Low */\n",
       "        background-color: var(--secondary-color);\n",
       "        border-radius: 30px;\n",
       "\n",
       "        /* Lt On Surface/Highest */\n",
       "        color: var(--tertiary-color);\n",
       "        border:none;\n",
       "        /* Inside auto layout */\n",
       "        flex: none;\n",
       "        order: 0;\n",
       "        flex-grow: 0;\n",
       "    }\n",
       "    .search-input:focus {\n",
       "        outline: none;\n",
       "    }\n",
       "        .search-input:focus::placeholder,\n",
       "    .search-input::placeholder { /* Chrome, Firefox, Opera, Safari 10.1+ */\n",
       "        color: var(--tertiary-color);\n",
       "        opacity: 1; /* Firefox */\n",
       "    }\n",
       "\n",
       "    .search-button{\n",
       "        /* Search */\n",
       "        leading-trim: both;\n",
       "        text-edge: cap;\n",
       "        display: flex;\n",
       "        align-items: center;\n",
       "        text-align: center;\n",
       "\n",
       "        /* Primary/On Light */\n",
       "        background-color: var(--button-color);\n",
       "        color: var(--tertiary-color);\n",
       "\n",
       "        border-radius: 30px;\n",
       "        border-color: var(--secondary-color);\n",
       "        border-style: solid;\n",
       "        box-shadow: rgba(60, 64, 67, 0.3) 0px 1px 2px 0px, rgba(60, 64, 67, 0.15) 0px 1px 3px 1px;\n",
       "        cursor: pointer;\n",
       "        /* Inside auto layout */\n",
       "        flex: none;\n",
       "        order: 1;\n",
       "        flex-grow: 0;\n",
       "    }\n",
       "\n",
       "    .grid-table28717af8a1fa4e5f948efe25cf0c4ee0 {\n",
       "        display:grid;\n",
       "        grid-template-columns: 1fr repeat(24, 1fr);\n",
       "        grid-template-rows: repeat(2, 1fr);\n",
       "        overflow-x: auto;\n",
       "        position: relative;\n",
       "    }\n",
       "\n",
       "    .grid-std-cells {\n",
       "        grid-column: span 4;\n",
       "\n",
       "    }\n",
       "    .grid-index-cells {\n",
       "        grid-column: span 1;\n",
       "        /* tmp fix to make left col stand out (fix with font-family) */\n",
       "        font-weight: 600;\n",
       "        background-color: var(--secondary-color) !important;\n",
       "        color: var(--tertiary-color);\n",
       "    }\n",
       "\n",
       "    .grid-header {\n",
       "        /* Auto layout */\n",
       "        display: flex;\n",
       "        flex-direction: column;\n",
       "        align-items: center;\n",
       "        padding: 6px 4px;\n",
       "\n",
       "        resize: horizontal;\n",
       "        /* Lt On Surface/Surface */\n",
       "        /* Lt On Surface/High */\n",
       "        border: 1px solid #CFCDD6;\n",
       "        /* tmp fix to make header stand out (fix with font-family) */\n",
       "        font-weight: 600;\n",
       "        background-color: var(--secondary-color);\n",
       "        color: var(--tertiary-color);\n",
       "    }\n",
       "\n",
       "    .grid-row {\n",
       "        display: flex;\n",
       "        flex-direction: column;\n",
       "        align-items: flex-start;\n",
       "        padding: 6px 4px;\n",
       "        overflow: hidden;\n",
       "        border: 1px solid #CFCDD6;\n",
       "        background-color: var(--primary-color);\n",
       "        color: var(--tertiary-color);\n",
       "    }\n",
       "\n",
       "\n",
       "    .syncstate-col-footer {\n",
       "        font-family: 'DejaVu Sans Mono', 'Open Sans';\n",
       "        font-size: 12px;\n",
       "        font-weight: 400;\n",
       "        line-height: 16.8px;\n",
       "        text-align: left;\n",
       "        color: #5E5A72;\n",
       "    }\n",
       "\n",
       "    .syncstate-description {\n",
       "        font-family: Open Sans;\n",
       "        font-size: 14px;\n",
       "        font-weight: 600;\n",
       "        line-height: 19.6px;\n",
       "        text-align: left;\n",
       "        white-space: nowrap;\n",
       "        flex-grow: 1;\n",
       "    }\n",
       "\n",
       "    .widget-header2{\n",
       "        display: flex;\n",
       "        gap: 8px;\n",
       "        justify-content: start;\n",
       "        width: 100%;\n",
       "        overflow: hidden;\n",
       "        align-items: center;\n",
       "    }\n",
       "\n",
       "    .widget-header2-2{\n",
       "        display: flex;\n",
       "        gap: 8px;\n",
       "        justify-content: start;\n",
       "        align-items: center;\n",
       "    }\n",
       "\n",
       "    .diff-state-orange-text{\n",
       "        color: #B8520A;\n",
       "    }\n",
       "\n",
       "    .diff-state-no-obj{\n",
       "        font-family: 'DejaVu Sans Mono', 'Open Sans';\n",
       "        font-size: 12px;\n",
       "        font-weight: 400;\n",
       "        line-height: 16.8px;\n",
       "        text-align: left;\n",
       "        color: #5E5A72;\n",
       "    }\n",
       "\n",
       "    .diff-state-intro{\n",
       "        font-family: Open Sans;\n",
       "        font-size: 14px;\n",
       "        font-weight: 400;\n",
       "        line-height: 19.6px;\n",
       "        text-align: left;\n",
       "        color: #B4B0BF;\n",
       "    }\n",
       "\n",
       "    .diff-state-header{\n",
       "        font-family: Open Sans;\n",
       "        font-size: 22px;\n",
       "        font-weight: 600;\n",
       "        line-height: 30.8px;\n",
       "        text-align: left;\n",
       "        color: #353243;\n",
       "        display: flex; gap: 8px;\n",
       "    }\n",
       "\n",
       "    .diff-state-sub-header{\n",
       "        font-family: Open Sans;\n",
       "        font-size: 14px;\n",
       "        font-weight: 400;\n",
       "        line-height: 19.6px;\n",
       "        text-align: left;\n",
       "        color: #5E5A72;\n",
       "    }\n",
       "\n",
       "    .badge {\n",
       "        code-text;\n",
       "        border-radius: 30px;\n",
       "    }\n",
       "\n",
       "    .label {\n",
       "        code-text;\n",
       "        border-radius: 4px;\n",
       "        padding: 6px 4px;\n",
       "        white-space: nowrap;\n",
       "        overflow: hidden;\n",
       "        line-height: 1.2;\n",
       "        font-family: monospace;\n",
       "    }\n",
       "\n",
       "    .label-light-purple {\n",
       "        label;\n",
       "        background-color: #C9CFE8;\n",
       "        color: #373B7B;\n",
       "    }\n",
       "\n",
       "    .label-light-blue {\n",
       "        label;\n",
       "        background-color: #C2DEF0;\n",
       "        color: #1F567A;\n",
       "\n",
       "    }\n",
       "\n",
       "    .label-orange {\n",
       "        badge;\n",
       "        background-color: #FEE9CD;\n",
       "        color: #B8520A;\n",
       "    }\n",
       "\n",
       "    .label-gray {\n",
       "        badge;\n",
       "        background-color: #ECEBEF;\n",
       "        color: #353243;\n",
       "    }\n",
       "\n",
       "    .label-green {\n",
       "        badge;\n",
       "        background-color: #D5F1D5;\n",
       "        color: #256B24;\n",
       "    }\n",
       "\n",
       "    .badge-blue {\n",
       "        badge;\n",
       "        background-color: #C2DEF0;\n",
       "        color: #1F567A;\n",
       "    }\n",
       "\n",
       "    .badge-purple {\n",
       "        badge;\n",
       "        background-color: #C9CFE8;\n",
       "        color: #373B7B;\n",
       "    }\n",
       "\n",
       "    .badge-green {\n",
       "        badge;\n",
       "\n",
       "        /* Success/Container */\n",
       "        background-color: #D5F1D5;\n",
       "        color: #256B24;\n",
       "    }\n",
       "\n",
       "    .badge-red {\n",
       "        badge;\n",
       "        background-color: #F2D9DE;\n",
       "        color: #9B2737;\n",
       "    }\n",
       "\n",
       "    .badge-gray {\n",
       "        badge;\n",
       "        background-color: #ECEBEF;\n",
       "        color: #2E2B3B;\n",
       "    }\n",
       "    .paginationContainer{\n",
       "        width: 100%;\n",
       "        /*height: 30px;*/\n",
       "        display: flex;\n",
       "        justify-content: center;\n",
       "        gap: 8px;\n",
       "        padding: 5px;\n",
       "        color: var(--tertiary-color);\n",
       "    }\n",
       "\n",
       "    .widget-label-basic{\n",
       "        display:flex;\n",
       "    }\n",
       "\n",
       "    .widget-label-basic input[type='checkbox'][disabled] {\n",
       "        filter: sepia(0.3) hue-rotate(67deg) saturate(3);\n",
       "    }\n",
       "\n",
       "    .page{\n",
       "        color: black;\n",
       "        font-weight: bold;\n",
       "        color: var(--tertiary-color);\n",
       "    }\n",
       "    .page:hover {\n",
       "      color: #38bdf8;\n",
       "      cursor: pointer;\n",
       "    }\n",
       "    .clipboard:hover{\n",
       "        cursor: pointer;\n",
       "        color: var(--tertiary-color);\n",
       "    }\n",
       "\n",
       "    .search-field {\n",
       "        display: flex;\n",
       "        align-items: center;\n",
       "        border-radius: 30px;\n",
       "        background-color: var(--secondary-color);\n",
       "    }\n",
       "\n",
       "    .syft-dropdown {\n",
       "        margin: 5px;\n",
       "        margin-left: 5px;\n",
       "        position: relative;\n",
       "        display: inline-block;\n",
       "        text-align: center;\n",
       "        background-color: var(--button-color);\n",
       "        min-width: 100px;\n",
       "        padding: 2px;\n",
       "        border-radius: 30px;\n",
       "    }\n",
       "\n",
       "    .syft-dropdown:hover {\n",
       "        cursor: pointer;\n",
       "    }\n",
       "    .syft-dropdown-content {\n",
       "        margin-top:26px;\n",
       "        display: none;\n",
       "        position: absolute;\n",
       "        min-width: 100px;\n",
       "        box-shadow: 0px 8px 16px 0px rgba(0,0,0,0.2);\n",
       "        padding: 12px 6px;\n",
       "        z-index: 1;\n",
       "        background-color: var(--primary-color);\n",
       "        color: var(--tertiary-color);\n",
       "    }\n",
       "    .dd-options {\n",
       "        padding-top: 4px;\n",
       "    }\n",
       "    .dd-options:first-of-type {\n",
       "        padding-top: 0px;\n",
       "    }\n",
       "\n",
       "    .dd-options:hover {\n",
       "        cursor: pointer;\n",
       "        background: #d1d5db;\n",
       "    }\n",
       "    .arrow {\n",
       "        border: solid black;\n",
       "        border-width: 0 3px 3px 0;\n",
       "        display: inline-block;\n",
       "        padding: 3px;\n",
       "    }\n",
       "    .down {\n",
       "        transform: rotate(45deg);\n",
       "        -webkit-transform: rotate(45deg);\n",
       "    }\n",
       "</style>\n",
       "\n",
       "\n",
       "    <div style='margin-top:15px;'>\n",
       "        <div class='flex gap-10' style='align-items: center;'>\n",
       "            <div class='folder-icon'><svg width=\"32\" height=\"32\" viewBox=\"0 0 32 32\" fill=\"none\" xmlns=\"http://www.w3.org/2000/svg\"> <path d=\"M28 6H4C3.73478 6 3.48043 6.10536 3.29289 6.29289C3.10536 6.48043 3 6.73478 3 7V24C3 24.5304 3.21071 25.0391 3.58579 25.4142C3.96086 25.7893 4.46957 26 5 26H27C27.5304 26 28.0391 25.7893 28.4142 25.4142C28.7893 25.0391 29 24.5304 29 24V7C29 6.73478 28.8946 6.48043 28.7071 6.29289C28.5196 6.10536 28.2652 6 28 6ZM5 14H10V18H5V14ZM12 14H27V18H12V14ZM27 8V12H5V8H27ZM5 20H10V24H5V20ZM27 24H12V20H27V24Z\" fill=\"#343330\"/></svg></div>\n",
       "            <div><p class='header-3'>TwinAPIEndpointView List</p></div>\n",
       "        </div>\n",
       "\n",
       "            <div style=\"padding-top: 16px; display:flex;justify-content: space-between; align-items: center;\">\n",
       "                <div class='pt-25 gap-10' style=\"display:flex;\">\n",
       "                    <div class=\"search-field\">\n",
       "                        <div id='search-menu28717af8a1fa4e5f948efe25cf0c4ee0' class=\"syft-dropdown\" onclick=\"{\n",
       "                            let doc = document.getElementById('search-dropdown-content28717af8a1fa4e5f948efe25cf0c4ee0')\n",
       "                            if (doc.style.display === 'block'){\n",
       "                                doc.style.display = 'none'\n",
       "                            } else {\n",
       "                                doc.style.display = 'block'\n",
       "                            }\n",
       "                            }\">\n",
       "                            <div id='search-dropdown-content28717af8a1fa4e5f948efe25cf0c4ee0' class='syft-dropdown-content'></div>\n",
       "                            <script>\n",
       "                                var element28717af8a1fa4e5f948efe25cf0c4ee0 = [{\"id\": {\"value\": \"94bf5658632646b2bdd9a8f66e42a735\", \"type\": \"clipboard\"}, \"API path\": \"first.query\", \"Signature\": \"first.query(query: str) -> Any\", \"Access\": \"Public\", \"Mock Function\": \"public_endpoint_method\", \"Private Function\": \"N / A\"}]\n",
       "                                var page_size28717af8a1fa4e5f948efe25cf0c4ee0 = 1\n",
       "                                var pageIndex28717af8a1fa4e5f948efe25cf0c4ee0 = 1\n",
       "                                var paginatedElements28717af8a1fa4e5f948efe25cf0c4ee0 = []\n",
       "                                var activeFilter28717af8a1fa4e5f948efe25cf0c4ee0;\n",
       "\n",
       "                                function buildDropDownMenu(elements){\n",
       "                                    let init_filter;\n",
       "                                    let menu = document.getElementById('search-dropdown-content28717af8a1fa4e5f948efe25cf0c4ee0')\n",
       "                                    if (elements.length > 0) {\n",
       "                                        let sample = elements[0]\n",
       "                                        for (const attr in sample) {\n",
       "                                            if (typeof init_filter === 'undefined'){\n",
       "                                                init_filter = attr;\n",
       "                                            }\n",
       "                                            let content = document.createElement('div');\n",
       "                                            content.onclick = function(event) {\n",
       "                                                event.stopPropagation()\n",
       "                                                document.getElementById('menu-active-filter28717af8a1fa4e5f948efe25cf0c4ee0').innerText = attr;\n",
       "                                                activeFilter28717af8a1fa4e5f948efe25cf0c4ee0 = attr;\n",
       "                                                document.getElementById(\n",
       "                                                    'search-dropdown-content28717af8a1fa4e5f948efe25cf0c4ee0'\n",
       "                                                ).style.display= 'none';\n",
       "                                            }\n",
       "                                            content.classList.add(\"dd-options\");\n",
       "                                            content.innerText = attr;\n",
       "                                            menu.appendChild(content);\n",
       "                                        }\n",
       "                                    } else {\n",
       "                                        let init_filter = '---'\n",
       "                                    }\n",
       "                                    let dropdown_field = document.getElementById('search-menu28717af8a1fa4e5f948efe25cf0c4ee0')\n",
       "                                    let span = document.createElement('span')\n",
       "                                    span.setAttribute('id', 'menu-active-filter28717af8a1fa4e5f948efe25cf0c4ee0')\n",
       "                                    span.innerText = init_filter\n",
       "                                    activeFilter28717af8a1fa4e5f948efe25cf0c4ee0 = init_filter;\n",
       "                                    dropdown_field.appendChild(span)\n",
       "                                }\n",
       "\n",
       "                                buildDropDownMenu(element28717af8a1fa4e5f948efe25cf0c4ee0)\n",
       "                            </script>\n",
       "                        </div>\n",
       "                        <input id='searchKey28717af8a1fa4e5f948efe25cf0c4ee0' class='search-input' placeholder='Enter search here ...'  />\n",
       "                    </div>\n",
       "                    <button class='search-button' type=\"button\" onclick=\"searchGrid28717af8a1fa4e5f948efe25cf0c4ee0(element28717af8a1fa4e5f948efe25cf0c4ee0)\">\n",
       "                        <svg width=\"11\" height=\"10\" viewBox=\"0 0 11 10\" fill=\"none\" xmlns=\"http://www.w3.org/2000/svg\"><path d=\"M10.5652 9.23467L8.21819 6.88811C8.89846 6.07141 9.23767 5.02389 9.16527 3.96345C9.09287 2.90302 8.61443 1.91132 7.82948 1.19466C7.04453 0.477995 6.01349 0.0915414 4.95087 0.115691C3.88824 0.139841 2.87583 0.572735 2.12425 1.32432C1.37266 2.0759 0.939768 3.08831 0.915618 4.15094C0.891468 5.21357 1.27792 6.2446 1.99459 7.02955C2.71125 7.8145 3.70295 8.29294 4.76338 8.36535C5.82381 8.43775 6.87134 8.09853 7.68804 7.41827L10.0346 9.7653C10.0694 9.80014 10.1108 9.82778 10.1563 9.84663C10.2018 9.86549 10.2506 9.87519 10.2999 9.87519C10.3492 9.87519 10.398 9.86549 10.4435 9.84663C10.489 9.82778 10.5304 9.80014 10.5652 9.7653C10.6001 9.73046 10.6277 9.68909 10.6466 9.64357C10.6654 9.59805 10.6751 9.54926 10.6751 9.49998C10.6751 9.45071 10.6654 9.40192 10.6466 9.3564C10.6277 9.31088 10.6001 9.26951 10.5652 9.23467ZM1.67491 4.24998C1.67491 3.58247 1.87285 2.92995 2.2437 2.37493C2.61455 1.81992 3.14165 1.38734 3.75835 1.13189C4.37506 0.876446 5.05366 0.809609 5.70834 0.939835C6.36303 1.07006 6.96439 1.3915 7.4364 1.8635C7.9084 2.3355 8.22984 2.93687 8.36006 3.59155C8.49029 4.24624 8.42345 4.92484 8.168 5.54154C7.91256 6.15824 7.47998 6.68535 6.92496 7.05619C6.36995 7.42704 5.71742 7.62498 5.04991 7.62498C4.15511 7.62399 3.29724 7.26809 2.66452 6.63537C2.0318 6.00265 1.6759 5.14479 1.67491 4.24998Z\" fill=\"currentColor\"/></svg>\n",
       "                        <span class='pl-8'>Search</span>\n",
       "                    </button>\n",
       "                </div>\n",
       "\n",
       "                <div><h4 id='total28717af8a1fa4e5f948efe25cf0c4ee0'>0</h4></div>\n",
       "            </div>\n",
       "            <div id='table28717af8a1fa4e5f948efe25cf0c4ee0' class='grid-table28717af8a1fa4e5f948efe25cf0c4ee0' style='margin-top: 25px;'>\n",
       "                <script>\n",
       "                    function paginate28717af8a1fa4e5f948efe25cf0c4ee0(arr, size) {\n",
       "                        const res = [];\n",
       "                        for (let i = 0; i < arr.length; i += size) {\n",
       "                            const chunk = arr.slice(i, i + size);\n",
       "                            res.push(chunk);\n",
       "                        }\n",
       "\n",
       "                        return res;\n",
       "                    }\n",
       "\n",
       "                    function searchGrid28717af8a1fa4e5f948efe25cf0c4ee0(elements){\n",
       "                        let searchKey = document.getElementById('searchKey28717af8a1fa4e5f948efe25cf0c4ee0').value;\n",
       "                        let result;\n",
       "                        if (searchKey === ''){\n",
       "                            result = elements;\n",
       "                        } else {\n",
       "                            result = elements.filter((element) => {\n",
       "                                let property = element[activeFilter28717af8a1fa4e5f948efe25cf0c4ee0]\n",
       "                                if (typeof property === 'object' && property !== null){\n",
       "                                    return property.value.toLowerCase().includes(searchKey.toLowerCase());\n",
       "                                } else if (typeof property === 'string' ) {\n",
       "                                    return element[activeFilter28717af8a1fa4e5f948efe25cf0c4ee0].toLowerCase().includes(searchKey.toLowerCase());\n",
       "                                } else if (property !== null ) {\n",
       "                                    return element[activeFilter28717af8a1fa4e5f948efe25cf0c4ee0].toString() === searchKey;\n",
       "                                } else {\n",
       "                                    return element[activeFilter28717af8a1fa4e5f948efe25cf0c4ee0] === searchKey;\n",
       "                                }\n",
       "                            } );\n",
       "                        }\n",
       "                        resetById28717af8a1fa4e5f948efe25cf0c4ee0('table28717af8a1fa4e5f948efe25cf0c4ee0');\n",
       "                        resetById28717af8a1fa4e5f948efe25cf0c4ee0('pag28717af8a1fa4e5f948efe25cf0c4ee0');\n",
       "                        result = paginate28717af8a1fa4e5f948efe25cf0c4ee0(result, page_size28717af8a1fa4e5f948efe25cf0c4ee0)\n",
       "                        paginatedElements28717af8a1fa4e5f948efe25cf0c4ee0 = result\n",
       "                        buildGrid28717af8a1fa4e5f948efe25cf0c4ee0(result,pageIndex28717af8a1fa4e5f948efe25cf0c4ee0);\n",
       "                        buildPaginationContainer28717af8a1fa4e5f948efe25cf0c4ee0(result);\n",
       "                    }\n",
       "\n",
       "                    function resetById28717af8a1fa4e5f948efe25cf0c4ee0(id){\n",
       "                        let element = document.getElementById(id);\n",
       "                        while (element.firstChild) {\n",
       "                          element.removeChild(element.firstChild);\n",
       "                        }\n",
       "                    }\n",
       "\n",
       "                    function buildGrid28717af8a1fa4e5f948efe25cf0c4ee0(items, pageIndex){\n",
       "                                let headers = Object.keys(element28717af8a1fa4e5f948efe25cf0c4ee0[0]);\n",
       "\n",
       "                                let grid = document.getElementById(\"table28717af8a1fa4e5f948efe25cf0c4ee0\");\n",
       "                                let div = document.createElement(\"div\");\n",
       "                                div.classList.add('grid-header', 'grid-index-cells');\n",
       "                                grid.appendChild(div);\n",
       "                                headers.forEach((title) =>{\n",
       "                                    let div = document.createElement(\"div\");\n",
       "                                    div.classList.add('grid-header', 'grid-std-cells');\n",
       "                                    div.innerText = title;\n",
       "\n",
       "                                    grid.appendChild(div);\n",
       "                                });\n",
       "\n",
       "                                let page = items[pageIndex -1]\n",
       "                                if (page !== 'undefine'){\n",
       "                                    let table_index28717af8a1fa4e5f948efe25cf0c4ee0 = ((pageIndex - 1) * page_size28717af8a1fa4e5f948efe25cf0c4ee0)\n",
       "                                    page.forEach((item) => {\n",
       "                                        let grid = document.getElementById(\"table28717af8a1fa4e5f948efe25cf0c4ee0\");\n",
       "                                        // Add new index value in index cells\n",
       "                                        let divIndex = document.createElement(\"div\");\n",
       "                                        divIndex.classList.add('grid-row', 'grid-index-cells');\n",
       "                                        divIndex.innerText = table_index28717af8a1fa4e5f948efe25cf0c4ee0;\n",
       "                                        grid.appendChild(divIndex);\n",
       "\n",
       "                                        // Iterate over the actual obj\n",
       "                                        for (const attr in item) {\n",
       "                                            let div = document.createElement(\"div\");\n",
       "                                            if (typeof item[attr] === 'object'\n",
       "                                                && item[attr] !== null\n",
       "                                                && item[attr].hasOwnProperty('type')) {\n",
       "                                                if (item[attr].type.includes('badge')){\n",
       "                                                    let badge_div = document.createElement(\"div\");\n",
       "                                                    badge_div.classList.add('badge',item[attr].type)\n",
       "                                                    badge_div.innerText = String(item[attr].value).toUpperCase();\n",
       "                                                    div.appendChild(badge_div);\n",
       "                                                    div.classList.add('grid-row','grid-std-cells');\n",
       "                                                } else if (item[attr].type.includes('label')){\n",
       "                                                    let label_div = document.createElement(\"div\");\n",
       "                                                    label_div.classList.add('label',item[attr].type)\n",
       "                                                    label_div.innerText = String(item[attr].value).toUpperCase();\n",
       "                                                    div.appendChild(label_div);\n",
       "                                                    div.classList.add('grid-row','grid-std-cells');\n",
       "                                                } else if (item[attr].type === \"clipboard\") {\n",
       "                                                    div.classList.add('grid-row','grid-std-cells');\n",
       "\n",
       "                                                    // Create clipboard div\n",
       "                                                    let clipboard_div = document.createElement('div');\n",
       "                                                    clipboard_div.style.display= 'flex';\n",
       "                                                    clipboard_div.classList.add(\"gap-10\")\n",
       "                                                    clipboard_div.style.justifyContent = \"space-between\";\n",
       "\n",
       "                                                    let id_text = document.createElement('div');\n",
       "                                                    if (item[attr].value == \"None\"){\n",
       "                                                        id_text.innerText = \"None\";\n",
       "                                                    }\n",
       "                                                    else{\n",
       "                                                        id_text.innerText = item[attr].value.slice(0,5) + \"...\";\n",
       "                                                    }\n",
       "\n",
       "                                                    clipboard_div.appendChild(id_text);\n",
       "                                                    let clipboard_img = document.createElement('div');\n",
       "                                                    clipboard_img.classList.add(\"clipboard\")\n",
       "                                                    div.onclick = function() {\n",
       "                                                        navigator.clipboard.writeText(item[attr].value);\n",
       "                                                    };\n",
       "                                                    clipboard_img.innerHTML = \"<svg width='8' height='8' viewBox='0 0 8 8' fill='none' xmlns='http://www.w3.org/2000/svg'><path d='M7.4375 0.25H2.4375C2.35462 0.25 2.27513 0.282924 2.21653 0.341529C2.15792 0.400134 2.125 0.47962 2.125 0.5625V2.125H0.5625C0.47962 2.125 0.400134 2.15792 0.341529 2.21653C0.282924 2.27513 0.25 2.35462 0.25 2.4375V7.4375C0.25 7.52038 0.282924 7.59987 0.341529 7.65847C0.400134 7.71708 0.47962 7.75 0.5625 7.75H5.5625C5.64538 7.75 5.72487 7.71708 5.78347 7.65847C5.84208 7.59987 5.875 7.52038 5.875 7.4375V5.875H7.4375C7.52038 5.875 7.59987 5.84208 7.65847 5.78347C7.71708 5.72487 7.75 5.64538 7.75 5.5625V0.5625C7.75 0.47962 7.71708 0.400134 7.65847 0.341529C7.59987 0.282924 7.52038 0.25 7.4375 0.25ZM5.25 7.125H0.875V2.75H5.25V7.125ZM7.125 5.25H5.875V2.4375C5.875 2.35462 5.84208 2.27513 5.78347 2.21653C5.72487 2.15792 5.64538 2.125 5.5625 2.125H2.75V0.875H7.125V5.25Z' fill='#464158'/></svg>\";\n",
       "\n",
       "                                                    clipboard_div.appendChild(clipboard_img);\n",
       "                                                    div.appendChild(clipboard_div);\n",
       "                                                }\n",
       "                                            } else{\n",
       "                                                div.classList.add('grid-row','grid-std-cells');\n",
       "                                                if (item[attr] == null) {\n",
       "                                                    text = ' '\n",
       "                                                } else {\n",
       "                                                    text = String(item[attr])\n",
       "                                                }\n",
       "\n",
       "                                                text = text.replaceAll(\"\\n\", \"</br>\");\n",
       "                                                div.innerHTML = text;\n",
       "                                            }\n",
       "                                            grid.appendChild(div);\n",
       "                                        }\n",
       "                                    table_index28717af8a1fa4e5f948efe25cf0c4ee0 = table_index28717af8a1fa4e5f948efe25cf0c4ee0 + 1;\n",
       "                                    })\n",
       "                                }\n",
       "                    }\n",
       "                    paginatedElements28717af8a1fa4e5f948efe25cf0c4ee0 = paginate28717af8a1fa4e5f948efe25cf0c4ee0(element28717af8a1fa4e5f948efe25cf0c4ee0, page_size28717af8a1fa4e5f948efe25cf0c4ee0)\n",
       "                    buildGrid28717af8a1fa4e5f948efe25cf0c4ee0(paginatedElements28717af8a1fa4e5f948efe25cf0c4ee0, 1)\n",
       "                    document.getElementById('total28717af8a1fa4e5f948efe25cf0c4ee0').innerText = \"Total: \" + element28717af8a1fa4e5f948efe25cf0c4ee0.length\n",
       "                </script>\n",
       "            </div>\n",
       "            <div id='pag28717af8a1fa4e5f948efe25cf0c4ee0' class='paginationContainer'>\n",
       "                <script>\n",
       "                    function buildPaginationContainer28717af8a1fa4e5f948efe25cf0c4ee0(paginatedElements){\n",
       "                            let pageContainer = document.getElementById(\"pag28717af8a1fa4e5f948efe25cf0c4ee0\");\n",
       "                            for (let i = 0; i < paginatedElements.length; i++) {\n",
       "                                  let div = document.createElement(\"div\");\n",
       "                                  div.classList.add('page');\n",
       "                                  if(i===0) div.style.color = \"gray\";\n",
       "                                  else div.style.color = 'var(--tertiary-color, \"gray\")';\n",
       "                                  div.onclick = function(event) {\n",
       "                                      let indexes = document.getElementsByClassName('page');\n",
       "                                      for (let index of indexes) { index.style.color = 'var(--tertiary-color, \"gray\")' }\n",
       "                                      event.target.style.color = \"gray\";\n",
       "                                      setPage28717af8a1fa4e5f948efe25cf0c4ee0(i + 1);\n",
       "                                  };\n",
       "                                  div.innerText = i + 1;\n",
       "                                  pageContainer.appendChild(div);\n",
       "                            }\n",
       "                    }\n",
       "\n",
       "                    function setPage28717af8a1fa4e5f948efe25cf0c4ee0(newPage){\n",
       "                        pageIndex = newPage\n",
       "                        resetById28717af8a1fa4e5f948efe25cf0c4ee0('table28717af8a1fa4e5f948efe25cf0c4ee0')\n",
       "                        buildGrid28717af8a1fa4e5f948efe25cf0c4ee0(paginatedElements28717af8a1fa4e5f948efe25cf0c4ee0, pageIndex)\n",
       "                    }\n",
       "                    (async function() {\n",
       "                        const myFont = new FontFace('DejaVu Sans', 'url(https://cdn.jsdelivr.net/npm/dejavu-sans@1.0.0/css/dejavu-sans.min.css)');\n",
       "                        await myFont.load();\n",
       "                        document.fonts.add(myFont);\n",
       "                        document.getElementsByTagName('h1')[0].style.fontFamily = \"DejaVu Sans\";\n",
       "                    })();\n",
       "\n",
       "                    buildPaginationContainer28717af8a1fa4e5f948efe25cf0c4ee0(paginatedElements28717af8a1fa4e5f948efe25cf0c4ee0)\n",
       "                </script>\n",
       "            </div>\n",
       "        </div>\n"
      ],
      "text/plain": [
       "[syft.service.api.api.TwinAPIEndpointView]"
      ]
     },
     "execution_count": 4,
     "metadata": {},
     "output_type": "execute_result"
    }
   ],
   "source": [
    "domain_client.api.services.api.api_endpoints()"
   ]
  },
  {
   "cell_type": "code",
   "execution_count": 5,
   "metadata": {
    "execution": {
     "iopub.execute_input": "2024-04-19T23:50:05.328841Z",
     "iopub.status.busy": "2024-04-19T23:50:05.328372Z",
     "iopub.status.idle": "2024-04-19T23:50:05.374668Z",
     "shell.execute_reply": "2024-04-19T23:50:05.374089Z"
    }
   },
   "outputs": [],
   "source": [
    "assert len(domain_client.api.services.api.api_endpoints()) == 1"
   ]
  },
  {
   "cell_type": "code",
   "execution_count": 6,
   "metadata": {
    "execution": {
     "iopub.execute_input": "2024-04-19T23:50:05.376835Z",
     "iopub.status.busy": "2024-04-19T23:50:05.376530Z",
     "iopub.status.idle": "2024-04-19T23:50:09.794581Z",
     "shell.execute_reply": "2024-04-19T23:50:09.793899Z"
    }
   },
   "outputs": [
    {
     "name": "stdout",
     "output_type": "stream",
     "text": [
      "Logged into <syft-dev-node: High-side Domain> as GUEST\n"
     ]
    },
    {
     "name": "stdout",
     "output_type": "stream",
     "text": [
      "Logged into <syft-dev-node: High side Domain> as <info@openmined.org>\n"
     ]
    },
    {
     "data": {
      "text/html": [
       "<div class=\"alert-warning\" style=\"padding:5px;\"><strong>SyftWarning</strong>: You are using a default password. Please change the password using `[your_client].me.set_password([new_password])`.</div><br />"
      ],
      "text/plain": [
       "SyftWarning: You are using a default password. Please change the password using `[your_client].me.set_password([new_password])`."
      ]
     },
     "metadata": {},
     "output_type": "display_data"
    },
    {
     "name": "stdout",
     "output_type": "stream",
     "text": [
      "Logged into <syft-dev-node: High-side Domain> as GUEST\n"
     ]
    },
    {
     "name": "stdout",
     "output_type": "stream",
     "text": [
      "Logged into <syft-dev-node: High side Domain> as <user@openmined.org>\n"
     ]
    }
   ],
   "source": [
    "# Once api refresh is done, remove this cell\n",
    "domain_client = node.login(email=\"info@openmined.org\", password=\"changethis\")\n",
    "domain_guest = node.login(email=\"user@openmined.org\", password=\"verysecurepassword\")"
   ]
  },
  {
   "cell_type": "code",
   "execution_count": 7,
   "metadata": {
    "execution": {
     "iopub.execute_input": "2024-04-19T23:50:09.797014Z",
     "iopub.status.busy": "2024-04-19T23:50:09.796464Z",
     "iopub.status.idle": "2024-04-19T23:50:11.079589Z",
     "shell.execute_reply": "2024-04-19T23:50:11.079058Z"
    }
   },
   "outputs": [],
   "source": [
    "assert domain_client.api.services.first.query(query=\"SELECT *\")\n"
   ]
  },
  {
   "cell_type": "code",
   "execution_count": 8,
   "metadata": {
    "execution": {
     "iopub.execute_input": "2024-04-19T23:50:11.081609Z",
     "iopub.status.busy": "2024-04-19T23:50:11.081437Z",
     "iopub.status.idle": "2024-04-19T23:50:41.219428Z",
     "shell.execute_reply": "2024-04-19T23:50:41.218870Z"
    }
   },
   "outputs": [
    {
     "data": {
      "text/html": [
       "<div class=\"alert-danger\" style=\"padding:5px;\"><strong>SyftError</strong>: Function timed out in 30 seconds. Get the Job with id: a23f6a87cd4646cba5827046ac2752d8 to check results.</div><br />"
      ],
      "text/plain": [
       "SyftError: Function timed out in 30 seconds. Get the Job with id: a23f6a87cd4646cba5827046ac2752d8 to check results."
      ]
     },
     "execution_count": 8,
     "metadata": {},
     "output_type": "execute_result"
    }
   ],
   "source": [
    "result = domain_guest.api.services.first.query(query=\"SELECT *\")\n",
    "result"
   ]
  },
  {
   "cell_type": "markdown",
   "metadata": {},
   "source": [
    "### Create public/private Custom API Endpoint using TwinAPIEndpoint\n",
    "\n",
    "This allows the admin to create a public/private endpoint interface where the users can iteract with."
   ]
  },
  {
   "cell_type": "code",
   "execution_count": 9,
   "metadata": {
    "execution": {
     "iopub.execute_input": "2024-04-19T23:50:41.221245Z",
     "iopub.status.busy": "2024-04-19T23:50:41.221084Z",
     "iopub.status.idle": "2024-04-19T23:50:41.325996Z",
     "shell.execute_reply": "2024-04-19T23:50:41.325440Z"
    }
   },
   "outputs": [],
   "source": [
    "@sy.api_endpoint_method(settings={\"Hello\": \"Public\"})\n",
    "def public_function(\n",
    "    context,\n",
    ") -> str:\n",
    "    return \"Public Function Execution\"\n",
    "\n",
    "\n",
    "@sy.api_endpoint_method(settings={\"Hello\": \"Private\"})\n",
    "def private_function(\n",
    "    context,\n",
    ") -> str:\n",
    "    return \"Private Function Execution\"\n",
    "\n",
    "\n",
    "new_endpoint = sy.TwinAPIEndpoint(\n",
    "    path=\"third.query\",\n",
    "    mock_function=public_function,\n",
    "    private_function=private_function,\n",
    "    description=\"Lore ipsulum ...\",\n",
    ")\n",
    "\n",
    "# # Add it to the node.\n",
    "response = domain_client.api.services.api.add(endpoint=new_endpoint)"
   ]
  },
  {
   "cell_type": "code",
   "execution_count": 10,
   "metadata": {
    "execution": {
     "iopub.execute_input": "2024-04-19T23:50:41.328246Z",
     "iopub.status.busy": "2024-04-19T23:50:41.328061Z",
     "iopub.status.idle": "2024-04-19T23:50:41.398657Z",
     "shell.execute_reply": "2024-04-19T23:50:41.398059Z"
    }
   },
   "outputs": [
    {
     "data": {
      "text/html": [
       "\n",
       "<style>\n",
       "  body[data-jp-theme-light='false'] {\n",
       "        --primary-color: #111111;\n",
       "        --secondary-color: #212121;\n",
       "        --tertiary-color: #CFCDD6;\n",
       "        --button-color: #111111;\n",
       "  }\n",
       "\n",
       "  body {\n",
       "        --primary-color: #ffffff;\n",
       "        --secondary-color: #f5f5f5;\n",
       "        --tertiary-color: #000000de;\n",
       "        --button-color: #d1d5db;\n",
       "  }\n",
       "\n",
       "  .header-1 {\n",
       "        font-style: normal;\n",
       "        font-weight: 600;\n",
       "        font-size: 2.0736em;\n",
       "        line-height: 100%;\n",
       "        leading-trim: both;\n",
       "        text-edge: cap;\n",
       "        color: #17161D;\n",
       "    }\n",
       "\n",
       "  .header-2 {\n",
       "        font-style: normal;\n",
       "        font-weight: 600;\n",
       "        font-size: 1.728em;\n",
       "        line-height: 100%;\n",
       "        leading-trim: both;\n",
       "        text-edge: cap;\n",
       "        color: #17161D;\n",
       "    }\n",
       "\n",
       "  .header-3 {\n",
       "        font-style: normal;\n",
       "        font-weight: 600;\n",
       "        font-size:  1.44em;\n",
       "        line-height: 100%;\n",
       "        leading-trim: both;\n",
       "        text-edge: cap;\n",
       "        color: var(--tertiary-color);\n",
       "    }\n",
       "\n",
       "  .header-4 {\n",
       "        font-style: normal;\n",
       "        font-weight: 600;\n",
       "        font-size: 1.2em;\n",
       "        line-height: 100%;\n",
       "        leading-trim: both;\n",
       "        text-edge: cap;\n",
       "        color: #17161D;\n",
       "    }\n",
       "\n",
       "    .paragraph {\n",
       "        font-style: normal;\n",
       "        font-weight: 400;\n",
       "        font-size: 14px;\n",
       "        line-height: 100%;\n",
       "        leading-trim: both;\n",
       "        text-edge: cap;\n",
       "        color: #2E2B3B;\n",
       "    }\n",
       "\n",
       "    .paragraph-sm {\n",
       "        font-family: 'Roboto';\n",
       "        font-style: normal;\n",
       "        font-weight: 400;\n",
       "        font-size: 11.62px;\n",
       "        line-height: 100%;\n",
       "        leading-trim: both;\n",
       "        text-edge: cap;\n",
       "        color: #2E2B3B;\n",
       "    }\n",
       "    .code-text {\n",
       "        font-family: 'Consolas';\n",
       "        font-style: normal;\n",
       "        font-weight: 400;\n",
       "        font-size: 13px;\n",
       "        line-height: 130%;\n",
       "        leading-trim: both;\n",
       "        text-edge: cap;\n",
       "        color: #2E2B3B;\n",
       "    }\n",
       "\n",
       "    .numbering-entry { display: none }\n",
       "\n",
       "    /* Tooltip container */\n",
       "    .tooltip {\n",
       "        position: relative;\n",
       "        display: inline-block;\n",
       "        border-bottom: 1px dotted black; /* If you want dots under the hoverable text */\n",
       "    }\n",
       "\n",
       "    /* Tooltip text */\n",
       "    .tooltip .tooltiptext {\n",
       "        visibility: hidden;\n",
       "        width: 120px;\n",
       "        background-color: black;\n",
       "        color: #fff;\n",
       "        text-align: center;\n",
       "        padding: 5px 0;\n",
       "        border-radius: 6px;\n",
       "\n",
       "        /* Position the tooltip text - see examples below! */\n",
       "        position: absolute;\n",
       "        z-index: 1;\n",
       "    }\n",
       "\n",
       "    .repr-cell {\n",
       "      padding-top: 20px;\n",
       "    }\n",
       "\n",
       "    .text-bold {\n",
       "        font-weight: bold;\n",
       "    }\n",
       "\n",
       "    .pr-8 {\n",
       "        padding-right: 8px;\n",
       "    }\n",
       "    .pt-8 {\n",
       "        padding-top: 8px;\n",
       "    }\n",
       "    .pl-8 {\n",
       "        padding-left: 8px;\n",
       "    }\n",
       "    .pb-8 {\n",
       "        padding-bottom: 8px;\n",
       "    }\n",
       "\n",
       "    .py-25{\n",
       "        padding-top: 25px;\n",
       "        padding-bottom: 25px;\n",
       "    }\n",
       "\n",
       "    .flex {\n",
       "        display: flex;\n",
       "    }\n",
       "\n",
       "    .gap-10 {\n",
       "        gap: 10px;\n",
       "    }\n",
       "    .items-center{\n",
       "        align-items: center;\n",
       "    }\n",
       "\n",
       "    .folder-icon {\n",
       "        color: var(--tertiary-color);\n",
       "    }\n",
       "\n",
       "    .search-input{\n",
       "        display: flex;\n",
       "        flex-direction: row;\n",
       "        align-items: center;\n",
       "        padding: 8px 12px;\n",
       "        width: 343px;\n",
       "        height: 24px;\n",
       "        /* Lt On Surface/Low */\n",
       "        background-color: var(--secondary-color);\n",
       "        border-radius: 30px;\n",
       "\n",
       "        /* Lt On Surface/Highest */\n",
       "        color: var(--tertiary-color);\n",
       "        border:none;\n",
       "        /* Inside auto layout */\n",
       "        flex: none;\n",
       "        order: 0;\n",
       "        flex-grow: 0;\n",
       "    }\n",
       "    .search-input:focus {\n",
       "        outline: none;\n",
       "    }\n",
       "        .search-input:focus::placeholder,\n",
       "    .search-input::placeholder { /* Chrome, Firefox, Opera, Safari 10.1+ */\n",
       "        color: var(--tertiary-color);\n",
       "        opacity: 1; /* Firefox */\n",
       "    }\n",
       "\n",
       "    .search-button{\n",
       "        /* Search */\n",
       "        leading-trim: both;\n",
       "        text-edge: cap;\n",
       "        display: flex;\n",
       "        align-items: center;\n",
       "        text-align: center;\n",
       "\n",
       "        /* Primary/On Light */\n",
       "        background-color: var(--button-color);\n",
       "        color: var(--tertiary-color);\n",
       "\n",
       "        border-radius: 30px;\n",
       "        border-color: var(--secondary-color);\n",
       "        border-style: solid;\n",
       "        box-shadow: rgba(60, 64, 67, 0.3) 0px 1px 2px 0px, rgba(60, 64, 67, 0.15) 0px 1px 3px 1px;\n",
       "        cursor: pointer;\n",
       "        /* Inside auto layout */\n",
       "        flex: none;\n",
       "        order: 1;\n",
       "        flex-grow: 0;\n",
       "    }\n",
       "\n",
       "    .grid-table34123d9d977e48598c6342e8ba2eb053 {\n",
       "        display:grid;\n",
       "        grid-template-columns: 1fr repeat(24, 1fr);\n",
       "        grid-template-rows: repeat(2, 1fr);\n",
       "        overflow-x: auto;\n",
       "        position: relative;\n",
       "    }\n",
       "\n",
       "    .grid-std-cells {\n",
       "        grid-column: span 4;\n",
       "\n",
       "    }\n",
       "    .grid-index-cells {\n",
       "        grid-column: span 1;\n",
       "        /* tmp fix to make left col stand out (fix with font-family) */\n",
       "        font-weight: 600;\n",
       "        background-color: var(--secondary-color) !important;\n",
       "        color: var(--tertiary-color);\n",
       "    }\n",
       "\n",
       "    .grid-header {\n",
       "        /* Auto layout */\n",
       "        display: flex;\n",
       "        flex-direction: column;\n",
       "        align-items: center;\n",
       "        padding: 6px 4px;\n",
       "\n",
       "        resize: horizontal;\n",
       "        /* Lt On Surface/Surface */\n",
       "        /* Lt On Surface/High */\n",
       "        border: 1px solid #CFCDD6;\n",
       "        /* tmp fix to make header stand out (fix with font-family) */\n",
       "        font-weight: 600;\n",
       "        background-color: var(--secondary-color);\n",
       "        color: var(--tertiary-color);\n",
       "    }\n",
       "\n",
       "    .grid-row {\n",
       "        display: flex;\n",
       "        flex-direction: column;\n",
       "        align-items: flex-start;\n",
       "        padding: 6px 4px;\n",
       "        overflow: hidden;\n",
       "        border: 1px solid #CFCDD6;\n",
       "        background-color: var(--primary-color);\n",
       "        color: var(--tertiary-color);\n",
       "    }\n",
       "\n",
       "\n",
       "    .syncstate-col-footer {\n",
       "        font-family: 'DejaVu Sans Mono', 'Open Sans';\n",
       "        font-size: 12px;\n",
       "        font-weight: 400;\n",
       "        line-height: 16.8px;\n",
       "        text-align: left;\n",
       "        color: #5E5A72;\n",
       "    }\n",
       "\n",
       "    .syncstate-description {\n",
       "        font-family: Open Sans;\n",
       "        font-size: 14px;\n",
       "        font-weight: 600;\n",
       "        line-height: 19.6px;\n",
       "        text-align: left;\n",
       "        white-space: nowrap;\n",
       "        flex-grow: 1;\n",
       "    }\n",
       "\n",
       "    .widget-header2{\n",
       "        display: flex;\n",
       "        gap: 8px;\n",
       "        justify-content: start;\n",
       "        width: 100%;\n",
       "        overflow: hidden;\n",
       "        align-items: center;\n",
       "    }\n",
       "\n",
       "    .widget-header2-2{\n",
       "        display: flex;\n",
       "        gap: 8px;\n",
       "        justify-content: start;\n",
       "        align-items: center;\n",
       "    }\n",
       "\n",
       "    .diff-state-orange-text{\n",
       "        color: #B8520A;\n",
       "    }\n",
       "\n",
       "    .diff-state-no-obj{\n",
       "        font-family: 'DejaVu Sans Mono', 'Open Sans';\n",
       "        font-size: 12px;\n",
       "        font-weight: 400;\n",
       "        line-height: 16.8px;\n",
       "        text-align: left;\n",
       "        color: #5E5A72;\n",
       "    }\n",
       "\n",
       "    .diff-state-intro{\n",
       "        font-family: Open Sans;\n",
       "        font-size: 14px;\n",
       "        font-weight: 400;\n",
       "        line-height: 19.6px;\n",
       "        text-align: left;\n",
       "        color: #B4B0BF;\n",
       "    }\n",
       "\n",
       "    .diff-state-header{\n",
       "        font-family: Open Sans;\n",
       "        font-size: 22px;\n",
       "        font-weight: 600;\n",
       "        line-height: 30.8px;\n",
       "        text-align: left;\n",
       "        color: #353243;\n",
       "        display: flex; gap: 8px;\n",
       "    }\n",
       "\n",
       "    .diff-state-sub-header{\n",
       "        font-family: Open Sans;\n",
       "        font-size: 14px;\n",
       "        font-weight: 400;\n",
       "        line-height: 19.6px;\n",
       "        text-align: left;\n",
       "        color: #5E5A72;\n",
       "    }\n",
       "\n",
       "    .badge {\n",
       "        code-text;\n",
       "        border-radius: 30px;\n",
       "    }\n",
       "\n",
       "    .label {\n",
       "        code-text;\n",
       "        border-radius: 4px;\n",
       "        padding: 6px 4px;\n",
       "        white-space: nowrap;\n",
       "        overflow: hidden;\n",
       "        line-height: 1.2;\n",
       "        font-family: monospace;\n",
       "    }\n",
       "\n",
       "    .label-light-purple {\n",
       "        label;\n",
       "        background-color: #C9CFE8;\n",
       "        color: #373B7B;\n",
       "    }\n",
       "\n",
       "    .label-light-blue {\n",
       "        label;\n",
       "        background-color: #C2DEF0;\n",
       "        color: #1F567A;\n",
       "\n",
       "    }\n",
       "\n",
       "    .label-orange {\n",
       "        badge;\n",
       "        background-color: #FEE9CD;\n",
       "        color: #B8520A;\n",
       "    }\n",
       "\n",
       "    .label-gray {\n",
       "        badge;\n",
       "        background-color: #ECEBEF;\n",
       "        color: #353243;\n",
       "    }\n",
       "\n",
       "    .label-green {\n",
       "        badge;\n",
       "        background-color: #D5F1D5;\n",
       "        color: #256B24;\n",
       "    }\n",
       "\n",
       "    .badge-blue {\n",
       "        badge;\n",
       "        background-color: #C2DEF0;\n",
       "        color: #1F567A;\n",
       "    }\n",
       "\n",
       "    .badge-purple {\n",
       "        badge;\n",
       "        background-color: #C9CFE8;\n",
       "        color: #373B7B;\n",
       "    }\n",
       "\n",
       "    .badge-green {\n",
       "        badge;\n",
       "\n",
       "        /* Success/Container */\n",
       "        background-color: #D5F1D5;\n",
       "        color: #256B24;\n",
       "    }\n",
       "\n",
       "    .badge-red {\n",
       "        badge;\n",
       "        background-color: #F2D9DE;\n",
       "        color: #9B2737;\n",
       "    }\n",
       "\n",
       "    .badge-gray {\n",
       "        badge;\n",
       "        background-color: #ECEBEF;\n",
       "        color: #2E2B3B;\n",
       "    }\n",
       "    .paginationContainer{\n",
       "        width: 100%;\n",
       "        /*height: 30px;*/\n",
       "        display: flex;\n",
       "        justify-content: center;\n",
       "        gap: 8px;\n",
       "        padding: 5px;\n",
       "        color: var(--tertiary-color);\n",
       "    }\n",
       "\n",
       "    .widget-label-basic{\n",
       "        display:flex;\n",
       "    }\n",
       "\n",
       "    .widget-label-basic input[type='checkbox'][disabled] {\n",
       "        filter: sepia(0.3) hue-rotate(67deg) saturate(3);\n",
       "    }\n",
       "\n",
       "    .page{\n",
       "        color: black;\n",
       "        font-weight: bold;\n",
       "        color: var(--tertiary-color);\n",
       "    }\n",
       "    .page:hover {\n",
       "      color: #38bdf8;\n",
       "      cursor: pointer;\n",
       "    }\n",
       "    .clipboard:hover{\n",
       "        cursor: pointer;\n",
       "        color: var(--tertiary-color);\n",
       "    }\n",
       "\n",
       "    .search-field {\n",
       "        display: flex;\n",
       "        align-items: center;\n",
       "        border-radius: 30px;\n",
       "        background-color: var(--secondary-color);\n",
       "    }\n",
       "\n",
       "    .syft-dropdown {\n",
       "        margin: 5px;\n",
       "        margin-left: 5px;\n",
       "        position: relative;\n",
       "        display: inline-block;\n",
       "        text-align: center;\n",
       "        background-color: var(--button-color);\n",
       "        min-width: 100px;\n",
       "        padding: 2px;\n",
       "        border-radius: 30px;\n",
       "    }\n",
       "\n",
       "    .syft-dropdown:hover {\n",
       "        cursor: pointer;\n",
       "    }\n",
       "    .syft-dropdown-content {\n",
       "        margin-top:26px;\n",
       "        display: none;\n",
       "        position: absolute;\n",
       "        min-width: 100px;\n",
       "        box-shadow: 0px 8px 16px 0px rgba(0,0,0,0.2);\n",
       "        padding: 12px 6px;\n",
       "        z-index: 1;\n",
       "        background-color: var(--primary-color);\n",
       "        color: var(--tertiary-color);\n",
       "    }\n",
       "    .dd-options {\n",
       "        padding-top: 4px;\n",
       "    }\n",
       "    .dd-options:first-of-type {\n",
       "        padding-top: 0px;\n",
       "    }\n",
       "\n",
       "    .dd-options:hover {\n",
       "        cursor: pointer;\n",
       "        background: #d1d5db;\n",
       "    }\n",
       "    .arrow {\n",
       "        border: solid black;\n",
       "        border-width: 0 3px 3px 0;\n",
       "        display: inline-block;\n",
       "        padding: 3px;\n",
       "    }\n",
       "    .down {\n",
       "        transform: rotate(45deg);\n",
       "        -webkit-transform: rotate(45deg);\n",
       "    }\n",
       "</style>\n",
       "\n",
       "\n",
       "    <div style='margin-top:15px;'>\n",
       "        <div class='flex gap-10' style='align-items: center;'>\n",
       "            <div class='folder-icon'><svg width=\"32\" height=\"32\" viewBox=\"0 0 32 32\" fill=\"none\" xmlns=\"http://www.w3.org/2000/svg\"> <path d=\"M28 6H4C3.73478 6 3.48043 6.10536 3.29289 6.29289C3.10536 6.48043 3 6.73478 3 7V24C3 24.5304 3.21071 25.0391 3.58579 25.4142C3.96086 25.7893 4.46957 26 5 26H27C27.5304 26 28.0391 25.7893 28.4142 25.4142C28.7893 25.0391 29 24.5304 29 24V7C29 6.73478 28.8946 6.48043 28.7071 6.29289C28.5196 6.10536 28.2652 6 28 6ZM5 14H10V18H5V14ZM12 14H27V18H12V14ZM27 8V12H5V8H27ZM5 20H10V24H5V20ZM27 24H12V20H27V24Z\" fill=\"#343330\"/></svg></div>\n",
       "            <div><p class='header-3'>TwinAPIEndpointView List</p></div>\n",
       "        </div>\n",
       "\n",
       "            <div style=\"padding-top: 16px; display:flex;justify-content: space-between; align-items: center;\">\n",
       "                <div class='pt-25 gap-10' style=\"display:flex;\">\n",
       "                    <div class=\"search-field\">\n",
       "                        <div id='search-menu34123d9d977e48598c6342e8ba2eb053' class=\"syft-dropdown\" onclick=\"{\n",
       "                            let doc = document.getElementById('search-dropdown-content34123d9d977e48598c6342e8ba2eb053')\n",
       "                            if (doc.style.display === 'block'){\n",
       "                                doc.style.display = 'none'\n",
       "                            } else {\n",
       "                                doc.style.display = 'block'\n",
       "                            }\n",
       "                            }\">\n",
       "                            <div id='search-dropdown-content34123d9d977e48598c6342e8ba2eb053' class='syft-dropdown-content'></div>\n",
       "                            <script>\n",
       "                                var element34123d9d977e48598c6342e8ba2eb053 = [{\"id\": {\"value\": \"6b562fba75e34459b57da03e84bfb7e4\", \"type\": \"clipboard\"}, \"API path\": \"third.query\", \"Signature\": \"third.query() -> str\", \"Access\": \"Private / Mock\", \"Mock Function\": \"public_function\", \"Private Function\": \"private_function\"}, {\"id\": {\"value\": \"94bf5658632646b2bdd9a8f66e42a735\", \"type\": \"clipboard\"}, \"API path\": \"first.query\", \"Signature\": \"first.query(query: str) -> Any\", \"Access\": \"Public\", \"Mock Function\": \"public_endpoint_method\", \"Private Function\": \"N / A\"}]\n",
       "                                var page_size34123d9d977e48598c6342e8ba2eb053 = 2\n",
       "                                var pageIndex34123d9d977e48598c6342e8ba2eb053 = 1\n",
       "                                var paginatedElements34123d9d977e48598c6342e8ba2eb053 = []\n",
       "                                var activeFilter34123d9d977e48598c6342e8ba2eb053;\n",
       "\n",
       "                                function buildDropDownMenu(elements){\n",
       "                                    let init_filter;\n",
       "                                    let menu = document.getElementById('search-dropdown-content34123d9d977e48598c6342e8ba2eb053')\n",
       "                                    if (elements.length > 0) {\n",
       "                                        let sample = elements[0]\n",
       "                                        for (const attr in sample) {\n",
       "                                            if (typeof init_filter === 'undefined'){\n",
       "                                                init_filter = attr;\n",
       "                                            }\n",
       "                                            let content = document.createElement('div');\n",
       "                                            content.onclick = function(event) {\n",
       "                                                event.stopPropagation()\n",
       "                                                document.getElementById('menu-active-filter34123d9d977e48598c6342e8ba2eb053').innerText = attr;\n",
       "                                                activeFilter34123d9d977e48598c6342e8ba2eb053 = attr;\n",
       "                                                document.getElementById(\n",
       "                                                    'search-dropdown-content34123d9d977e48598c6342e8ba2eb053'\n",
       "                                                ).style.display= 'none';\n",
       "                                            }\n",
       "                                            content.classList.add(\"dd-options\");\n",
       "                                            content.innerText = attr;\n",
       "                                            menu.appendChild(content);\n",
       "                                        }\n",
       "                                    } else {\n",
       "                                        let init_filter = '---'\n",
       "                                    }\n",
       "                                    let dropdown_field = document.getElementById('search-menu34123d9d977e48598c6342e8ba2eb053')\n",
       "                                    let span = document.createElement('span')\n",
       "                                    span.setAttribute('id', 'menu-active-filter34123d9d977e48598c6342e8ba2eb053')\n",
       "                                    span.innerText = init_filter\n",
       "                                    activeFilter34123d9d977e48598c6342e8ba2eb053 = init_filter;\n",
       "                                    dropdown_field.appendChild(span)\n",
       "                                }\n",
       "\n",
       "                                buildDropDownMenu(element34123d9d977e48598c6342e8ba2eb053)\n",
       "                            </script>\n",
       "                        </div>\n",
       "                        <input id='searchKey34123d9d977e48598c6342e8ba2eb053' class='search-input' placeholder='Enter search here ...'  />\n",
       "                    </div>\n",
       "                    <button class='search-button' type=\"button\" onclick=\"searchGrid34123d9d977e48598c6342e8ba2eb053(element34123d9d977e48598c6342e8ba2eb053)\">\n",
       "                        <svg width=\"11\" height=\"10\" viewBox=\"0 0 11 10\" fill=\"none\" xmlns=\"http://www.w3.org/2000/svg\"><path d=\"M10.5652 9.23467L8.21819 6.88811C8.89846 6.07141 9.23767 5.02389 9.16527 3.96345C9.09287 2.90302 8.61443 1.91132 7.82948 1.19466C7.04453 0.477995 6.01349 0.0915414 4.95087 0.115691C3.88824 0.139841 2.87583 0.572735 2.12425 1.32432C1.37266 2.0759 0.939768 3.08831 0.915618 4.15094C0.891468 5.21357 1.27792 6.2446 1.99459 7.02955C2.71125 7.8145 3.70295 8.29294 4.76338 8.36535C5.82381 8.43775 6.87134 8.09853 7.68804 7.41827L10.0346 9.7653C10.0694 9.80014 10.1108 9.82778 10.1563 9.84663C10.2018 9.86549 10.2506 9.87519 10.2999 9.87519C10.3492 9.87519 10.398 9.86549 10.4435 9.84663C10.489 9.82778 10.5304 9.80014 10.5652 9.7653C10.6001 9.73046 10.6277 9.68909 10.6466 9.64357C10.6654 9.59805 10.6751 9.54926 10.6751 9.49998C10.6751 9.45071 10.6654 9.40192 10.6466 9.3564C10.6277 9.31088 10.6001 9.26951 10.5652 9.23467ZM1.67491 4.24998C1.67491 3.58247 1.87285 2.92995 2.2437 2.37493C2.61455 1.81992 3.14165 1.38734 3.75835 1.13189C4.37506 0.876446 5.05366 0.809609 5.70834 0.939835C6.36303 1.07006 6.96439 1.3915 7.4364 1.8635C7.9084 2.3355 8.22984 2.93687 8.36006 3.59155C8.49029 4.24624 8.42345 4.92484 8.168 5.54154C7.91256 6.15824 7.47998 6.68535 6.92496 7.05619C6.36995 7.42704 5.71742 7.62498 5.04991 7.62498C4.15511 7.62399 3.29724 7.26809 2.66452 6.63537C2.0318 6.00265 1.6759 5.14479 1.67491 4.24998Z\" fill=\"currentColor\"/></svg>\n",
       "                        <span class='pl-8'>Search</span>\n",
       "                    </button>\n",
       "                </div>\n",
       "\n",
       "                <div><h4 id='total34123d9d977e48598c6342e8ba2eb053'>0</h4></div>\n",
       "            </div>\n",
       "            <div id='table34123d9d977e48598c6342e8ba2eb053' class='grid-table34123d9d977e48598c6342e8ba2eb053' style='margin-top: 25px;'>\n",
       "                <script>\n",
       "                    function paginate34123d9d977e48598c6342e8ba2eb053(arr, size) {\n",
       "                        const res = [];\n",
       "                        for (let i = 0; i < arr.length; i += size) {\n",
       "                            const chunk = arr.slice(i, i + size);\n",
       "                            res.push(chunk);\n",
       "                        }\n",
       "\n",
       "                        return res;\n",
       "                    }\n",
       "\n",
       "                    function searchGrid34123d9d977e48598c6342e8ba2eb053(elements){\n",
       "                        let searchKey = document.getElementById('searchKey34123d9d977e48598c6342e8ba2eb053').value;\n",
       "                        let result;\n",
       "                        if (searchKey === ''){\n",
       "                            result = elements;\n",
       "                        } else {\n",
       "                            result = elements.filter((element) => {\n",
       "                                let property = element[activeFilter34123d9d977e48598c6342e8ba2eb053]\n",
       "                                if (typeof property === 'object' && property !== null){\n",
       "                                    return property.value.toLowerCase().includes(searchKey.toLowerCase());\n",
       "                                } else if (typeof property === 'string' ) {\n",
       "                                    return element[activeFilter34123d9d977e48598c6342e8ba2eb053].toLowerCase().includes(searchKey.toLowerCase());\n",
       "                                } else if (property !== null ) {\n",
       "                                    return element[activeFilter34123d9d977e48598c6342e8ba2eb053].toString() === searchKey;\n",
       "                                } else {\n",
       "                                    return element[activeFilter34123d9d977e48598c6342e8ba2eb053] === searchKey;\n",
       "                                }\n",
       "                            } );\n",
       "                        }\n",
       "                        resetById34123d9d977e48598c6342e8ba2eb053('table34123d9d977e48598c6342e8ba2eb053');\n",
       "                        resetById34123d9d977e48598c6342e8ba2eb053('pag34123d9d977e48598c6342e8ba2eb053');\n",
       "                        result = paginate34123d9d977e48598c6342e8ba2eb053(result, page_size34123d9d977e48598c6342e8ba2eb053)\n",
       "                        paginatedElements34123d9d977e48598c6342e8ba2eb053 = result\n",
       "                        buildGrid34123d9d977e48598c6342e8ba2eb053(result,pageIndex34123d9d977e48598c6342e8ba2eb053);\n",
       "                        buildPaginationContainer34123d9d977e48598c6342e8ba2eb053(result);\n",
       "                    }\n",
       "\n",
       "                    function resetById34123d9d977e48598c6342e8ba2eb053(id){\n",
       "                        let element = document.getElementById(id);\n",
       "                        while (element.firstChild) {\n",
       "                          element.removeChild(element.firstChild);\n",
       "                        }\n",
       "                    }\n",
       "\n",
       "                    function buildGrid34123d9d977e48598c6342e8ba2eb053(items, pageIndex){\n",
       "                                let headers = Object.keys(element34123d9d977e48598c6342e8ba2eb053[0]);\n",
       "\n",
       "                                let grid = document.getElementById(\"table34123d9d977e48598c6342e8ba2eb053\");\n",
       "                                let div = document.createElement(\"div\");\n",
       "                                div.classList.add('grid-header', 'grid-index-cells');\n",
       "                                grid.appendChild(div);\n",
       "                                headers.forEach((title) =>{\n",
       "                                    let div = document.createElement(\"div\");\n",
       "                                    div.classList.add('grid-header', 'grid-std-cells');\n",
       "                                    div.innerText = title;\n",
       "\n",
       "                                    grid.appendChild(div);\n",
       "                                });\n",
       "\n",
       "                                let page = items[pageIndex -1]\n",
       "                                if (page !== 'undefine'){\n",
       "                                    let table_index34123d9d977e48598c6342e8ba2eb053 = ((pageIndex - 1) * page_size34123d9d977e48598c6342e8ba2eb053)\n",
       "                                    page.forEach((item) => {\n",
       "                                        let grid = document.getElementById(\"table34123d9d977e48598c6342e8ba2eb053\");\n",
       "                                        // Add new index value in index cells\n",
       "                                        let divIndex = document.createElement(\"div\");\n",
       "                                        divIndex.classList.add('grid-row', 'grid-index-cells');\n",
       "                                        divIndex.innerText = table_index34123d9d977e48598c6342e8ba2eb053;\n",
       "                                        grid.appendChild(divIndex);\n",
       "\n",
       "                                        // Iterate over the actual obj\n",
       "                                        for (const attr in item) {\n",
       "                                            let div = document.createElement(\"div\");\n",
       "                                            if (typeof item[attr] === 'object'\n",
       "                                                && item[attr] !== null\n",
       "                                                && item[attr].hasOwnProperty('type')) {\n",
       "                                                if (item[attr].type.includes('badge')){\n",
       "                                                    let badge_div = document.createElement(\"div\");\n",
       "                                                    badge_div.classList.add('badge',item[attr].type)\n",
       "                                                    badge_div.innerText = String(item[attr].value).toUpperCase();\n",
       "                                                    div.appendChild(badge_div);\n",
       "                                                    div.classList.add('grid-row','grid-std-cells');\n",
       "                                                } else if (item[attr].type.includes('label')){\n",
       "                                                    let label_div = document.createElement(\"div\");\n",
       "                                                    label_div.classList.add('label',item[attr].type)\n",
       "                                                    label_div.innerText = String(item[attr].value).toUpperCase();\n",
       "                                                    div.appendChild(label_div);\n",
       "                                                    div.classList.add('grid-row','grid-std-cells');\n",
       "                                                } else if (item[attr].type === \"clipboard\") {\n",
       "                                                    div.classList.add('grid-row','grid-std-cells');\n",
       "\n",
       "                                                    // Create clipboard div\n",
       "                                                    let clipboard_div = document.createElement('div');\n",
       "                                                    clipboard_div.style.display= 'flex';\n",
       "                                                    clipboard_div.classList.add(\"gap-10\")\n",
       "                                                    clipboard_div.style.justifyContent = \"space-between\";\n",
       "\n",
       "                                                    let id_text = document.createElement('div');\n",
       "                                                    if (item[attr].value == \"None\"){\n",
       "                                                        id_text.innerText = \"None\";\n",
       "                                                    }\n",
       "                                                    else{\n",
       "                                                        id_text.innerText = item[attr].value.slice(0,5) + \"...\";\n",
       "                                                    }\n",
       "\n",
       "                                                    clipboard_div.appendChild(id_text);\n",
       "                                                    let clipboard_img = document.createElement('div');\n",
       "                                                    clipboard_img.classList.add(\"clipboard\")\n",
       "                                                    div.onclick = function() {\n",
       "                                                        navigator.clipboard.writeText(item[attr].value);\n",
       "                                                    };\n",
       "                                                    clipboard_img.innerHTML = \"<svg width='8' height='8' viewBox='0 0 8 8' fill='none' xmlns='http://www.w3.org/2000/svg'><path d='M7.4375 0.25H2.4375C2.35462 0.25 2.27513 0.282924 2.21653 0.341529C2.15792 0.400134 2.125 0.47962 2.125 0.5625V2.125H0.5625C0.47962 2.125 0.400134 2.15792 0.341529 2.21653C0.282924 2.27513 0.25 2.35462 0.25 2.4375V7.4375C0.25 7.52038 0.282924 7.59987 0.341529 7.65847C0.400134 7.71708 0.47962 7.75 0.5625 7.75H5.5625C5.64538 7.75 5.72487 7.71708 5.78347 7.65847C5.84208 7.59987 5.875 7.52038 5.875 7.4375V5.875H7.4375C7.52038 5.875 7.59987 5.84208 7.65847 5.78347C7.71708 5.72487 7.75 5.64538 7.75 5.5625V0.5625C7.75 0.47962 7.71708 0.400134 7.65847 0.341529C7.59987 0.282924 7.52038 0.25 7.4375 0.25ZM5.25 7.125H0.875V2.75H5.25V7.125ZM7.125 5.25H5.875V2.4375C5.875 2.35462 5.84208 2.27513 5.78347 2.21653C5.72487 2.15792 5.64538 2.125 5.5625 2.125H2.75V0.875H7.125V5.25Z' fill='#464158'/></svg>\";\n",
       "\n",
       "                                                    clipboard_div.appendChild(clipboard_img);\n",
       "                                                    div.appendChild(clipboard_div);\n",
       "                                                }\n",
       "                                            } else{\n",
       "                                                div.classList.add('grid-row','grid-std-cells');\n",
       "                                                if (item[attr] == null) {\n",
       "                                                    text = ' '\n",
       "                                                } else {\n",
       "                                                    text = String(item[attr])\n",
       "                                                }\n",
       "\n",
       "                                                text = text.replaceAll(\"\\n\", \"</br>\");\n",
       "                                                div.innerHTML = text;\n",
       "                                            }\n",
       "                                            grid.appendChild(div);\n",
       "                                        }\n",
       "                                    table_index34123d9d977e48598c6342e8ba2eb053 = table_index34123d9d977e48598c6342e8ba2eb053 + 1;\n",
       "                                    })\n",
       "                                }\n",
       "                    }\n",
       "                    paginatedElements34123d9d977e48598c6342e8ba2eb053 = paginate34123d9d977e48598c6342e8ba2eb053(element34123d9d977e48598c6342e8ba2eb053, page_size34123d9d977e48598c6342e8ba2eb053)\n",
       "                    buildGrid34123d9d977e48598c6342e8ba2eb053(paginatedElements34123d9d977e48598c6342e8ba2eb053, 1)\n",
       "                    document.getElementById('total34123d9d977e48598c6342e8ba2eb053').innerText = \"Total: \" + element34123d9d977e48598c6342e8ba2eb053.length\n",
       "                </script>\n",
       "            </div>\n",
       "            <div id='pag34123d9d977e48598c6342e8ba2eb053' class='paginationContainer'>\n",
       "                <script>\n",
       "                    function buildPaginationContainer34123d9d977e48598c6342e8ba2eb053(paginatedElements){\n",
       "                            let pageContainer = document.getElementById(\"pag34123d9d977e48598c6342e8ba2eb053\");\n",
       "                            for (let i = 0; i < paginatedElements.length; i++) {\n",
       "                                  let div = document.createElement(\"div\");\n",
       "                                  div.classList.add('page');\n",
       "                                  if(i===0) div.style.color = \"gray\";\n",
       "                                  else div.style.color = 'var(--tertiary-color, \"gray\")';\n",
       "                                  div.onclick = function(event) {\n",
       "                                      let indexes = document.getElementsByClassName('page');\n",
       "                                      for (let index of indexes) { index.style.color = 'var(--tertiary-color, \"gray\")' }\n",
       "                                      event.target.style.color = \"gray\";\n",
       "                                      setPage34123d9d977e48598c6342e8ba2eb053(i + 1);\n",
       "                                  };\n",
       "                                  div.innerText = i + 1;\n",
       "                                  pageContainer.appendChild(div);\n",
       "                            }\n",
       "                    }\n",
       "\n",
       "                    function setPage34123d9d977e48598c6342e8ba2eb053(newPage){\n",
       "                        pageIndex = newPage\n",
       "                        resetById34123d9d977e48598c6342e8ba2eb053('table34123d9d977e48598c6342e8ba2eb053')\n",
       "                        buildGrid34123d9d977e48598c6342e8ba2eb053(paginatedElements34123d9d977e48598c6342e8ba2eb053, pageIndex)\n",
       "                    }\n",
       "                    (async function() {\n",
       "                        const myFont = new FontFace('DejaVu Sans', 'url(https://cdn.jsdelivr.net/npm/dejavu-sans@1.0.0/css/dejavu-sans.min.css)');\n",
       "                        await myFont.load();\n",
       "                        document.fonts.add(myFont);\n",
       "                        document.getElementsByTagName('h1')[0].style.fontFamily = \"DejaVu Sans\";\n",
       "                    })();\n",
       "\n",
       "                    buildPaginationContainer34123d9d977e48598c6342e8ba2eb053(paginatedElements34123d9d977e48598c6342e8ba2eb053)\n",
       "                </script>\n",
       "            </div>\n",
       "        </div>\n"
      ],
      "text/plain": [
       "[syft.service.api.api.TwinAPIEndpointView,\n",
       " syft.service.api.api.TwinAPIEndpointView]"
      ]
     },
     "execution_count": 10,
     "metadata": {},
     "output_type": "execute_result"
    }
   ],
   "source": [
    "domain_client.api.services.api.api_endpoints()"
   ]
  },
  {
   "cell_type": "code",
   "execution_count": 11,
   "metadata": {
    "execution": {
     "iopub.execute_input": "2024-04-19T23:50:41.400487Z",
     "iopub.status.busy": "2024-04-19T23:50:41.400227Z",
     "iopub.status.idle": "2024-04-19T23:50:41.451549Z",
     "shell.execute_reply": "2024-04-19T23:50:41.450918Z"
    }
   },
   "outputs": [],
   "source": [
    "assert isinstance(response, SyftSuccess)\n",
    "assert len(domain_client.api.services.api.api_endpoints()) == 2"
   ]
  },
  {
   "cell_type": "code",
   "execution_count": 12,
   "metadata": {
    "execution": {
     "iopub.execute_input": "2024-04-19T23:50:41.453780Z",
     "iopub.status.busy": "2024-04-19T23:50:41.453611Z",
     "iopub.status.idle": "2024-04-19T23:50:45.099398Z",
     "shell.execute_reply": "2024-04-19T23:50:45.098786Z"
    }
   },
   "outputs": [],
   "source": [
    "# Once api refresh is done, remove this cell\n",
    "domain_client.refresh()\n",
    "domain_guest.refresh()"
   ]
  },
  {
   "cell_type": "code",
   "execution_count": 13,
   "metadata": {
    "execution": {
     "iopub.execute_input": "2024-04-19T23:50:45.101739Z",
     "iopub.status.busy": "2024-04-19T23:50:45.101279Z",
     "iopub.status.idle": "2024-04-19T23:51:15.359125Z",
     "shell.execute_reply": "2024-04-19T23:51:15.358562Z"
    }
   },
   "outputs": [
    {
     "data": {
      "text/html": [
       "<div class=\"alert-danger\" style=\"padding:5px;\"><strong>SyftError</strong>: Function timed out in 30 seconds. Get the Job with id: f69b89e5b85d4517b0be1af0930325ef to check results.</div><br />"
      ],
      "text/plain": [
       "SyftError: Function timed out in 30 seconds. Get the Job with id: f69b89e5b85d4517b0be1af0930325ef to check results."
      ]
     },
     "execution_count": 13,
     "metadata": {},
     "output_type": "execute_result"
    }
   ],
   "source": [
    "domain_client.api.services.third.query()"
   ]
  },
  {
   "cell_type": "code",
   "execution_count": 14,
   "metadata": {
    "execution": {
     "iopub.execute_input": "2024-04-19T23:51:15.360966Z",
     "iopub.status.busy": "2024-04-19T23:51:15.360687Z",
     "iopub.status.idle": "2024-04-19T23:51:16.648363Z",
     "shell.execute_reply": "2024-04-19T23:51:16.647774Z"
    }
   },
   "outputs": [],
   "source": [
    "assert domain_client.api.services.third.query() == \"Private Function Execution\""
   ]
  },
  {
   "cell_type": "code",
   "execution_count": 15,
   "metadata": {
    "execution": {
     "iopub.execute_input": "2024-04-19T23:51:16.651062Z",
     "iopub.status.busy": "2024-04-19T23:51:16.650362Z",
     "iopub.status.idle": "2024-04-19T23:51:22.380064Z",
     "shell.execute_reply": "2024-04-19T23:51:22.379313Z"
    }
   },
   "outputs": [],
   "source": [
    "assert domain_guest.api.services.third.query() == \"Public Function Execution\""
   ]
  },
  {
   "cell_type": "code",
   "execution_count": 16,
   "metadata": {
    "execution": {
     "iopub.execute_input": "2024-04-19T23:51:22.382373Z",
     "iopub.status.busy": "2024-04-19T23:51:22.381968Z",
     "iopub.status.idle": "2024-04-19T23:51:28.159085Z",
     "shell.execute_reply": "2024-04-19T23:51:28.158406Z"
    }
   },
   "outputs": [
    {
     "data": {
      "text/plain": [
       "'Public Function Execution'"
      ]
     },
     "execution_count": 16,
     "metadata": {},
     "output_type": "execute_result"
    }
   ],
   "source": [
    "domain_guest.api.services.third.query()"
   ]
  },
  {
   "cell_type": "code",
   "execution_count": 17,
   "metadata": {
    "execution": {
     "iopub.execute_input": "2024-04-19T23:51:28.161019Z",
     "iopub.status.busy": "2024-04-19T23:51:28.160862Z",
     "iopub.status.idle": "2024-04-19T23:51:30.124973Z",
     "shell.execute_reply": "2024-04-19T23:51:30.124224Z"
    }
   },
   "outputs": [
    {
     "data": {
      "text/html": [
       "<div class=\"alert-success\" style=\"padding:5px;\"><strong>SyftSuccess</strong>: Syft function 'job_function' successfully created. To add a code request, please create a project using `project = syft.Project(...)`, then use command `project.create_code_request`.</div><br />"
      ],
      "text/plain": [
       "SyftSuccess: Syft function 'job_function' successfully created. To add a code request, please create a project using `project = syft.Project(...)`, then use command `project.create_code_request`."
      ]
     },
     "metadata": {},
     "output_type": "display_data"
    }
   ],
   "source": [
    "@sy.syft_function_single_use(\n",
    "    endpoint=domain_guest.api.services.third.query,\n",
    ")\n",
    "def job_function(endpoint):\n",
    "    return endpoint()\n",
    "\n",
    "\n",
    "# Create a new project\n",
    "new_project = sy.Project(\n",
    "    name=\"My Cool UN Project\",\n",
    "    description=\"Hi, I want to calculate the trade volume in million's with my cool code.\",\n",
    "    members=[domain_guest],\n",
    ")\n",
    "\n",
    "result = new_project.create_code_request(job_function, domain_guest)\n",
    "assert isinstance(result, SyftSuccess)"
   ]
  },
  {
   "cell_type": "code",
   "execution_count": 18,
   "metadata": {
    "execution": {
     "iopub.execute_input": "2024-04-19T23:51:30.127134Z",
     "iopub.status.busy": "2024-04-19T23:51:30.126928Z",
     "iopub.status.idle": "2024-04-19T23:51:30.783214Z",
     "shell.execute_reply": "2024-04-19T23:51:30.782526Z"
    }
   },
   "outputs": [
    {
     "name": "stdout",
     "output_type": "stream",
     "text": [
      "Approving request for domain syft-dev-node\n"
     ]
    },
    {
     "data": {
      "text/html": [
       "<div class=\"alert-success\" style=\"padding:5px;\"><strong>SyftSuccess</strong>: Request 1b361ab22e484d5a8ecc8c9c3496dcbe changes applied</div><br />"
      ],
      "text/plain": [
       "SyftSuccess: Request 1b361ab22e484d5a8ecc8c9c3496dcbe changes applied"
      ]
     },
     "execution_count": 18,
     "metadata": {},
     "output_type": "execute_result"
    }
   ],
   "source": [
    "res = None\n",
    "for r in domain_client.requests.get_all():\n",
    "    if r.requesting_user_email == \"user@openmined.org\":\n",
    "        res = r.approve()\n",
    "assert res is not None, res\n",
    "res"
   ]
  },
  {
   "cell_type": "code",
   "execution_count": 19,
   "metadata": {
    "execution": {
     "iopub.execute_input": "2024-04-19T23:51:30.785082Z",
     "iopub.status.busy": "2024-04-19T23:51:30.784776Z",
     "iopub.status.idle": "2024-04-19T23:51:31.208291Z",
     "shell.execute_reply": "2024-04-19T23:51:31.207740Z"
    }
   },
   "outputs": [
    {
     "data": {
      "text/markdown": [
       "```python\n",
       "Pointer\n",
       "None```\n"
      ],
      "text/plain": [
       "Pointer:\n",
       "None"
      ]
     },
     "execution_count": 19,
     "metadata": {},
     "output_type": "execute_result"
    }
   ],
   "source": [
    "result = domain_guest.code.job_function(endpoint=domain_client.api.services.third.query)\n",
    "result"
   ]
  },
  {
   "cell_type": "code",
   "execution_count": 20,
   "metadata": {
    "execution": {
     "iopub.execute_input": "2024-04-19T23:51:31.210092Z",
     "iopub.status.busy": "2024-04-19T23:51:31.209791Z",
     "iopub.status.idle": "2024-04-19T23:51:31.312430Z",
     "shell.execute_reply": "2024-04-19T23:51:31.311938Z"
    }
   },
   "outputs": [
    {
     "data": {
      "text/html": [
       "<div class=\"alert-warning\" style=\"padding:5px;\"><strong>SyftWarning</strong>: Policy is no longer valid. count: 1 >= limit: 1. Loading results from cache.</div><br />"
      ],
      "text/plain": [
       "SyftWarning: Policy is no longer valid. count: 1 >= limit: 1. Loading results from cache."
      ]
     },
     "metadata": {},
     "output_type": "display_data"
    },
    {
     "data": {
      "text/markdown": [
       "```python\n",
       "Pointer\n",
       "'Private Function Execution'```\n"
      ],
      "text/plain": [
       "Pointer:\n",
       "'Private Function Execution'"
      ]
     },
     "execution_count": 20,
     "metadata": {},
     "output_type": "execute_result"
    }
   ],
   "source": [
    "result = domain_guest.code.job_function(endpoint=domain_client.api.services.third.query)\n",
    "result"
   ]
  },
  {
   "cell_type": "code",
   "execution_count": 21,
   "metadata": {
    "execution": {
     "iopub.execute_input": "2024-04-19T23:51:31.314316Z",
     "iopub.status.busy": "2024-04-19T23:51:31.313928Z",
     "iopub.status.idle": "2024-04-19T23:51:31.336970Z",
     "shell.execute_reply": "2024-04-19T23:51:31.336494Z"
    }
   },
   "outputs": [
    {
     "data": {
      "text/markdown": [
       "## API: third.query\n",
       "### Description: <span style=\"font-weight: normal;\">Lore ipsulum ...</span><br>\n",
       "#### Private Code:\n",
       "```python\n",
       "def private_function(\n",
       "    context,\n",
       ") -> str:\n",
       "    return \"Private Function Execution\"\n",
       "\n",
       "```\n",
       "#### Public Code:\n",
       "```python\n",
       "def public_function(\n",
       "    context,\n",
       ") -> str:\n",
       "    return \"Public Function Execution\"\n",
       "\n",
       "```\n"
      ],
      "text/plain": [
       "syft.client.api.RemoteFunction"
      ]
     },
     "execution_count": 21,
     "metadata": {},
     "output_type": "execute_result"
    }
   ],
   "source": [
    "domain_client.api.services.third.query"
   ]
  },
  {
   "cell_type": "code",
   "execution_count": 22,
   "metadata": {
    "execution": {
     "iopub.execute_input": "2024-04-19T23:51:31.339051Z",
     "iopub.status.busy": "2024-04-19T23:51:31.338736Z",
     "iopub.status.idle": "2024-04-19T23:51:31.443932Z",
     "shell.execute_reply": "2024-04-19T23:51:31.443435Z"
    }
   },
   "outputs": [
    {
     "data": {
      "text/html": [
       "<div class=\"alert-warning\" style=\"padding:5px;\"><strong>SyftWarning</strong>: Policy is no longer valid. count: 1 >= limit: 1. Loading results from cache.</div><br />"
      ],
      "text/plain": [
       "SyftWarning: Policy is no longer valid. count: 1 >= limit: 1. Loading results from cache."
      ]
     },
     "metadata": {},
     "output_type": "display_data"
    },
    {
     "data": {
      "text/markdown": [
       "```python\n",
       "Pointer\n",
       "'Private Function Execution'```\n"
      ],
      "text/plain": [
       "Pointer:\n",
       "'Private Function Execution'"
      ]
     },
     "execution_count": 22,
     "metadata": {},
     "output_type": "execute_result"
    }
   ],
   "source": [
    "result = domain_guest.code.job_function(endpoint=domain_client.api.services.third.query)\n",
    "result"
   ]
  },
  {
   "cell_type": "code",
   "execution_count": 23,
   "metadata": {
    "execution": {
     "iopub.execute_input": "2024-04-19T23:51:31.445715Z",
     "iopub.status.busy": "2024-04-19T23:51:31.445425Z",
     "iopub.status.idle": "2024-04-19T23:51:31.447948Z",
     "shell.execute_reply": "2024-04-19T23:51:31.447474Z"
    }
   },
   "outputs": [],
   "source": [
    "assert not isinstance(result, SyftError), result"
   ]
  },
  {
   "cell_type": "code",
   "execution_count": 24,
   "metadata": {
    "execution": {
     "iopub.execute_input": "2024-04-19T23:51:31.449531Z",
     "iopub.status.busy": "2024-04-19T23:51:31.449280Z",
     "iopub.status.idle": "2024-04-19T23:51:31.584556Z",
     "shell.execute_reply": "2024-04-19T23:51:31.583997Z"
    }
   },
   "outputs": [],
   "source": [
    "assert result.get() == \"Private Function Execution\""
   ]
  },
  {
   "cell_type": "code",
   "execution_count": 25,
   "metadata": {
    "execution": {
     "iopub.execute_input": "2024-04-19T23:51:31.586557Z",
     "iopub.status.busy": "2024-04-19T23:51:31.586352Z",
     "iopub.status.idle": "2024-04-19T23:51:33.844056Z",
     "shell.execute_reply": "2024-04-19T23:51:33.843341Z"
    }
   },
   "outputs": [],
   "source": [
    "assert isinstance(domain_guest.api.services.third.query.private(), SyftError)"
   ]
  },
  {
   "cell_type": "code",
   "execution_count": 26,
   "metadata": {
    "execution": {
     "iopub.execute_input": "2024-04-19T23:51:33.846380Z",
     "iopub.status.busy": "2024-04-19T23:51:33.846067Z",
     "iopub.status.idle": "2024-04-19T23:51:33.902336Z",
     "shell.execute_reply": "2024-04-19T23:51:33.901800Z"
    }
   },
   "outputs": [],
   "source": [
    "result = domain_client.api.services.api.delete(endpoint_path=\"third.query\")\n",
    "assert isinstance(result, SyftSuccess), result"
   ]
  },
  {
   "cell_type": "code",
   "execution_count": 27,
   "metadata": {
    "execution": {
     "iopub.execute_input": "2024-04-19T23:51:33.904226Z",
     "iopub.status.busy": "2024-04-19T23:51:33.904035Z",
     "iopub.status.idle": "2024-04-19T23:51:33.948918Z",
     "shell.execute_reply": "2024-04-19T23:51:33.948358Z"
    }
   },
   "outputs": [],
   "source": [
    "assert len(domain_client.api.services.api.api_endpoints()) == 1"
   ]
  },
  {
   "cell_type": "markdown",
   "metadata": {},
   "source": [
    "## Updating Endpoints"
   ]
  },
  {
   "cell_type": "markdown",
   "metadata": {},
   "source": [
    "First we'll create a new endpoint"
   ]
  },
  {
   "cell_type": "code",
   "execution_count": 28,
   "metadata": {
    "execution": {
     "iopub.execute_input": "2024-04-19T23:51:33.950903Z",
     "iopub.status.busy": "2024-04-19T23:51:33.950685Z",
     "iopub.status.idle": "2024-04-19T23:51:34.044593Z",
     "shell.execute_reply": "2024-04-19T23:51:34.044046Z"
    }
   },
   "outputs": [
    {
     "data": {
      "text/html": [
       "<div class=\"alert-success\" style=\"padding:5px;\"><strong>SyftSuccess</strong>: Endpoint successfully created.</div><br />"
      ],
      "text/plain": [
       "SyftSuccess: Endpoint successfully created."
      ]
     },
     "execution_count": 28,
     "metadata": {},
     "output_type": "execute_result"
    }
   ],
   "source": [
    "@sy.api_endpoint(\n",
    "    path=\"test.update\",\n",
    "    settings={\"key\": \"value\"},\n",
    ")\n",
    "def new_public_function(\n",
    "    context,\n",
    "    query: str,\n",
    ") -> Any:\n",
    "    return context.settings[\"key\"] == \"value\"\n",
    "\n",
    "\n",
    "# Add it to the node.\n",
    "response = domain_client.api.services.api.add(endpoint=new_public_function)\n",
    "assert isinstance(response, SyftSuccess), response\n",
    "response"
   ]
  },
  {
   "cell_type": "markdown",
   "metadata": {},
   "source": [
    "#### Update the public function"
   ]
  },
  {
   "cell_type": "code",
   "execution_count": 29,
   "metadata": {
    "execution": {
     "iopub.execute_input": "2024-04-19T23:51:34.046994Z",
     "iopub.status.busy": "2024-04-19T23:51:34.046326Z",
     "iopub.status.idle": "2024-04-19T23:51:34.116933Z",
     "shell.execute_reply": "2024-04-19T23:51:34.116419Z"
    }
   },
   "outputs": [
    {
     "data": {
      "text/html": [
       "<div class=\"alert-success\" style=\"padding:5px;\"><strong>SyftSuccess</strong>: Endpoint successfully updated.</div><br />"
      ],
      "text/plain": [
       "SyftSuccess: Endpoint successfully updated."
      ]
     },
     "execution_count": 29,
     "metadata": {},
     "output_type": "execute_result"
    }
   ],
   "source": [
    "@sy.api_endpoint_method(settings={\"Hello\": \"Public\"})\n",
    "def updated_public_function(\n",
    "    context,\n",
    ") -> str:\n",
    "    return \"Updated Public Function Execution\"\n",
    "\n",
    "\n",
    "response = domain_client.api.services.api.update(\n",
    "    endpoint_path=\"test.update\", mock_function=updated_public_function\n",
    ")\n",
    "assert isinstance(response, SyftSuccess), response\n",
    "response"
   ]
  },
  {
   "cell_type": "markdown",
   "metadata": {},
   "source": [
    "#### Update the private function"
   ]
  },
  {
   "cell_type": "code",
   "execution_count": 30,
   "metadata": {
    "execution": {
     "iopub.execute_input": "2024-04-19T23:51:34.119045Z",
     "iopub.status.busy": "2024-04-19T23:51:34.118871Z",
     "iopub.status.idle": "2024-04-19T23:51:34.194864Z",
     "shell.execute_reply": "2024-04-19T23:51:34.194334Z"
    }
   },
   "outputs": [
    {
     "data": {
      "text/html": [
       "<div class=\"alert-success\" style=\"padding:5px;\"><strong>SyftSuccess</strong>: Endpoint successfully updated.</div><br />"
      ],
      "text/plain": [
       "SyftSuccess: Endpoint successfully updated."
      ]
     },
     "execution_count": 30,
     "metadata": {},
     "output_type": "execute_result"
    }
   ],
   "source": [
    "@sy.api_endpoint_method(settings={\"Hello\": \"Private\"})\n",
    "def updated_private_function(\n",
    "    context,\n",
    ") -> str:\n",
    "    return \"Updated Private Function Execution\"\n",
    "\n",
    "\n",
    "response = domain_client.api.services.api.update(\n",
    "    endpoint_path=\"test.update\", private_function=updated_private_function\n",
    ")\n",
    "assert isinstance(response, SyftSuccess), response\n",
    "response"
   ]
  },
  {
   "cell_type": "markdown",
   "metadata": {},
   "source": [
    "#### Update both functions with a pair that has a new signature"
   ]
  },
  {
   "cell_type": "code",
   "execution_count": 31,
   "metadata": {
    "execution": {
     "iopub.execute_input": "2024-04-19T23:51:34.196658Z",
     "iopub.status.busy": "2024-04-19T23:51:34.196490Z",
     "iopub.status.idle": "2024-04-19T23:51:34.276603Z",
     "shell.execute_reply": "2024-04-19T23:51:34.276161Z"
    }
   },
   "outputs": [
    {
     "data": {
      "text/html": [
       "<div class=\"alert-success\" style=\"padding:5px;\"><strong>SyftSuccess</strong>: Endpoint successfully updated.</div><br />"
      ],
      "text/plain": [
       "SyftSuccess: Endpoint successfully updated."
      ]
     },
     "execution_count": 31,
     "metadata": {},
     "output_type": "execute_result"
    }
   ],
   "source": [
    "@sy.api_endpoint_method(settings={\"Hello\": \"Public\"})\n",
    "def new_sig_public_function(context, new_parameter) -> str:\n",
    "    return \"Updated Public Function Execution\"\n",
    "\n",
    "\n",
    "@sy.api_endpoint_method(settings={\"Hello\": \"Private\"})\n",
    "def new_sig_private_function(context, new_parameter) -> str:\n",
    "    return \"Updated Private Function Execution\"\n",
    "\n",
    "\n",
    "response = domain_client.api.services.api.update(\n",
    "    endpoint_path=\"test.update\",\n",
    "    mock_function=new_sig_public_function,\n",
    "    private_function=new_sig_private_function,\n",
    ")\n",
    "assert isinstance(response, SyftSuccess), response\n",
    "response"
   ]
  },
  {
   "cell_type": "markdown",
   "metadata": {},
   "source": [
    "### Invalid update attempts\n",
    "- Both functions empty\n",
    "- Signature mismatch\n",
    "- Non existing endpoint"
   ]
  },
  {
   "cell_type": "markdown",
   "metadata": {},
   "source": [
    "#### Both functions are empty"
   ]
  },
  {
   "cell_type": "code",
   "execution_count": 32,
   "metadata": {
    "execution": {
     "iopub.execute_input": "2024-04-19T23:51:34.278701Z",
     "iopub.status.busy": "2024-04-19T23:51:34.278407Z",
     "iopub.status.idle": "2024-04-19T23:51:34.322723Z",
     "shell.execute_reply": "2024-04-19T23:51:34.322139Z"
    }
   },
   "outputs": [],
   "source": [
    "response = domain_client.api.services.api.update(endpoint_path=\"test.update\")\n",
    "assert isinstance(response, SyftError), response"
   ]
  },
  {
   "cell_type": "markdown",
   "metadata": {},
   "source": [
    "#### Signature mismatch"
   ]
  },
  {
   "cell_type": "code",
   "execution_count": 33,
   "metadata": {
    "execution": {
     "iopub.execute_input": "2024-04-19T23:51:34.324906Z",
     "iopub.status.busy": "2024-04-19T23:51:34.324646Z",
     "iopub.status.idle": "2024-04-19T23:51:34.371906Z",
     "shell.execute_reply": "2024-04-19T23:51:34.371318Z"
    }
   },
   "outputs": [],
   "source": [
    "@sy.api_endpoint_method(settings={\"Hello\": \"Public\"})\n",
    "def bad_public_function(context, foo) -> str:\n",
    "    return \"Updated Public Function Execution\"\n",
    "\n",
    "\n",
    "response = domain_client.api.services.api.update(\n",
    "    endpoint_path=\"test.update\", mock_function=bad_public_function\n",
    ")\n",
    "assert isinstance(response, SyftError), response"
   ]
  },
  {
   "cell_type": "markdown",
   "metadata": {},
   "source": [
    "Non Existing endpoint"
   ]
  },
  {
   "cell_type": "code",
   "execution_count": 34,
   "metadata": {
    "execution": {
     "iopub.execute_input": "2024-04-19T23:51:34.374127Z",
     "iopub.status.busy": "2024-04-19T23:51:34.373779Z",
     "iopub.status.idle": "2024-04-19T23:51:34.420791Z",
     "shell.execute_reply": "2024-04-19T23:51:34.420232Z"
    }
   },
   "outputs": [],
   "source": [
    "response = domain_client.api.services.api.update(\n",
    "    endpoint_path=\"nonexistent\", mock_function=bad_public_function\n",
    ")\n",
    "assert isinstance(response, SyftError), response"
   ]
  }
 ],
 "metadata": {
  "kernelspec": {
   "display_name": "Python 3 (ipykernel)",
   "language": "python",
   "name": "python3"
  },
  "language_info": {
   "codemirror_mode": {
    "name": "ipython",
    "version": 3
   },
   "file_extension": ".py",
   "mimetype": "text/x-python",
   "name": "python",
   "nbconvert_exporter": "python",
   "pygments_lexer": "ipython3",
   "version": "3.11.0rc1"
  }
 },
 "nbformat": 4,
 "nbformat_minor": 4
}
