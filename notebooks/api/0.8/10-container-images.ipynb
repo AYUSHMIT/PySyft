{
 "cells": [
  {
   "cell_type": "code",
   "execution_count": null,
   "id": "ab8aca22-8bd7-4764-8f2d-27dd5f33d8c6",
   "metadata": {},
   "outputs": [],
   "source": [
    "SYFT_VERSION = \">=0.8.2.b0,<0.9\"\n",
    "package_string = f'\"syft{SYFT_VERSION}\"'"
   ]
  },
  {
   "cell_type": "code",
   "execution_count": null,
   "id": "2cb8c995-c806-4b8e-a892-9bc461c61935",
   "metadata": {},
   "outputs": [],
   "source": [
    "import syft as sy\n",
    "import os\n",
    "sy.requires(SYFT_VERSION)\n",
    "from syft.service.worker.worker_image import SyftWorkerImage\n",
    "from syft.service.worker.worker_pool import WorkerStatus, SyftWorker\n",
    "from syft.custom_worker.config import DockerWorkerConfig"
   ]
  },
  {
   "cell_type": "code",
   "execution_count": null,
   "id": "e4079d39-b88f-4709-87da-95f79f1d47ee",
   "metadata": {},
   "outputs": [],
   "source": [
    "# Disable inmemory worker for container stack\n",
    "in_memory_workers = not os.environ.get(\"ORCHESTRA_DEPLOYMENT_TYPE\") == \"container_stack\""
   ]
  },
  {
   "cell_type": "code",
   "execution_count": null,
   "id": "0bc7b5dc-1565-4261-ac98-db2602c5877b",
   "metadata": {},
   "outputs": [],
   "source": [
    "domain  = sy.orchestra.launch(name=\"test-domain-1\", reset=True, dev_mode=True, create_producer=True, in_memory_workers=in_memory_workers)"
   ]
  },
  {
   "cell_type": "code",
   "execution_count": null,
   "id": "91f1988a-daa3-42f0-9bfe-f9fdd9597fdc",
   "metadata": {},
   "outputs": [],
   "source": [
    "domain_client = domain.login(email=\"info@openmined.org\", password=\"changethis\")"
   ]
  },
  {
   "cell_type": "code",
   "execution_count": null,
   "id": "75193f9f-3622-4071-9aba-d42a5dc5b301",
   "metadata": {},
   "outputs": [],
   "source": [
    "nginx_dockerfile_str = \"\"\"\n",
    "# Use the official Nginx image as the base\n",
    "FROM openmined/grid-backend:0.8.4-beta.10\n",
    "\n",
    "RUN pip install pydicom\n",
    "\n",
    "\"\"\""
   ]
  },
  {
   "cell_type": "code",
   "execution_count": null,
   "id": "b6bfe92a-e873-4dc3-b3a0-6715f8843785",
   "metadata": {},
   "outputs": [],
   "source": [
    "docker_config = DockerWorkerConfig(dockerfile=nginx_dockerfile_str)"
   ]
  },
  {
   "cell_type": "code",
   "execution_count": null,
   "id": "941cf5e2-4ba8-488f-880b-de908d23a4c3",
   "metadata": {},
   "outputs": [],
   "source": [
    "assert docker_config.dockerfile == nginx_dockerfile_str"
   ]
  },
  {
   "cell_type": "code",
   "execution_count": null,
   "id": "d4a60bf8-22d3-4052-b9cc-f6dcf68b2dd8",
   "metadata": {},
   "outputs": [],
   "source": [
    "res = domain_client.api.services.worker_image.submit_dockerfile(docker_config=docker_config)"
   ]
  },
  {
   "cell_type": "code",
   "execution_count": null,
   "id": "730df31b-7c23-4068-a275-419526c3ee6f",
   "metadata": {},
   "outputs": [],
   "source": [
    "res"
   ]
  },
  {
   "cell_type": "code",
   "execution_count": null,
   "id": "ebb3b7e9-c7a4-4c99-866b-13c6a75d04e8",
   "metadata": {},
   "outputs": [],
   "source": [
    "assert isinstance( res, sy.SyftSuccess)"
   ]
  },
  {
   "cell_type": "code",
   "execution_count": null,
   "id": "d9cc2eb9-9f28-454f-96bc-fbb722f78bb5",
   "metadata": {},
   "outputs": [],
   "source": [
    "dockerfile_list = domain_client.images\n",
    "dockerfile_list"
   ]
  },
  {
   "cell_type": "code",
   "execution_count": null,
   "id": "8e56f9e8-5cf3-418b-9774-75a47c8ef276",
   "metadata": {},
   "outputs": [],
   "source": [
    "assert len(domain_client.images.get_all()) == 2"
   ]
  },
  {
   "cell_type": "code",
   "execution_count": null,
   "id": "133dacbe-4d2e-458e-830b-2c18bce018e4",
   "metadata": {},
   "outputs": [],
   "source": [
    "workerimage = None\n",
    "for image in dockerfile_list:\n",
    "    if image.config.dockerfile == nginx_dockerfile_str:\n",
    "        workerimage = image\n",
    "        break\n",
    "\n",
    "assert isinstance(workerimage, SyftWorkerImage)"
   ]
  },
  {
   "cell_type": "code",
   "execution_count": null,
   "id": "aa6573e1-ea18-4049-b6bf-1615521d8ced",
   "metadata": {},
   "outputs": [],
   "source": [
    "docker_tag = \"openmined/test-nginx:0.7.8\"\n",
    "docker_build_res = domain_client.api.services.worker_image.build(uid=workerimage.id, tag=docker_tag)"
   ]
  },
  {
   "cell_type": "code",
   "execution_count": null,
   "id": "573869c9-2bf9-4110-892b-edc75f0cd48d",
   "metadata": {},
   "outputs": [],
   "source": [
    "docker_build_res"
   ]
  },
  {
   "cell_type": "code",
   "execution_count": null,
   "id": "21e3679d-ef71-44af-a2ab-91bed47472c1",
   "metadata": {},
   "outputs": [],
   "source": [
    "assert isinstance(docker_build_res, sy.SyftSuccess)"
   ]
  },
  {
   "cell_type": "code",
   "execution_count": null,
   "id": "15a74d29-25c7-4da7-b43b-a0b2a3ab7349",
   "metadata": {},
   "outputs": [],
   "source": [
    "docker_tag"
   ]
  },
  {
   "cell_type": "code",
   "execution_count": null,
   "id": "c7ccfd18-2bae-4879-b6c2-27b6bcccf8f5",
   "metadata": {},
   "outputs": [],
   "source": [
    "import subprocess\n",
    "\n",
    "def check_image_exists(tag) -> bool:\n",
    "    result = subprocess.run(['docker', 'images', '-q', tag], stdout=subprocess.PIPE)\n",
    "    return result.stdout.strip() != b''\n",
    "\n",
    "if domain.deployment_type.value == \"container_stack\":\n",
    "    assert check_image_exists(docker_tag)"
   ]
  },
  {
   "cell_type": "code",
   "execution_count": null,
   "id": "c540043d-4485-4213-b93c-358e4c507f5a",
   "metadata": {},
   "outputs": [],
   "source": [
    "image_list = domain_client.images\n",
    "image_list"
   ]
  },
  {
   "cell_type": "code",
   "execution_count": null,
   "id": "7af0a33d-e1a9-4f2b-9113-d17a3730397c",
   "metadata": {},
   "outputs": [],
   "source": [
    "for image in image_list:\n",
    "    if image.id == workerimage.id:\n",
    "        workerimage = image  # we can also index with string using the repo_with_tag format\n",
    "\n",
    "if domain.deployment_type.value == \"container_stack\":\n",
    "    image_list[docker_tag]\n",
    "    assert image_list[docker_tag] == workerimage\n",
    "\n",
    "workerimage"
   ]
  },
  {
   "cell_type": "code",
   "execution_count": null,
   "id": "990d2cf3-2148-4a67-b17f-486efc5ccb02",
   "metadata": {},
   "outputs": [],
   "source": [
    "import docker\n",
    "\n",
    "def get_image_hash(tag) -> str:\n",
    "    client = docker.from_env()\n",
    "    try:\n",
    "        image = client.images.get(tag)\n",
    "        return image.id\n",
    "    except docker.errors.ImageNotFound:\n",
    "        return None"
   ]
  },
  {
   "cell_type": "code",
   "execution_count": null,
   "id": "b2829070-f156-4dbd-b1ee-1e3f654f5b7b",
   "metadata": {},
   "outputs": [],
   "source": [
    "if domain.deployment_type.value == \"container_stack\":\n",
    "    assert workerimage.image_hash == get_image_hash(docker_tag)"
   ]
  },
  {
   "cell_type": "code",
   "execution_count": null,
   "id": "5692f3a9-f493-467a-a394-7d8e62b970e5",
   "metadata": {},
   "outputs": [],
   "source": [
    "def get_container_id(container_name: str) -> str:\n",
    "    client = docker.from_env()\n",
    "    try:\n",
    "        container = client.containers.get(container_name)\n",
    "        return container.id\n",
    "    except docker.errors.NotFound:\n",
    "        return None"
   ]
  },
  {
   "cell_type": "code",
   "execution_count": null,
   "id": "f57b5443-8519-4464-89a2-37deb25f6923",
   "metadata": {},
   "outputs": [],
   "source": [
    "worker_pool_name = \"my_first_worker_pool\"\n",
    "worker_pool_res = domain_client.api.services.worker_pool.create(name=worker_pool_name, image_uid = workerimage.id, number=3)"
   ]
  },
  {
   "cell_type": "code",
   "execution_count": null,
   "id": "f418fb83-4111-412c-ab11-8d4587239dc6",
   "metadata": {},
   "outputs": [],
   "source": [
    "assert len(worker_pool_res) == 3"
   ]
  },
  {
   "cell_type": "code",
   "execution_count": null,
   "id": "64b5d651-3dd6-45e6-b189-c7e278a7ddd1",
   "metadata": {},
   "outputs": [],
   "source": [
    "for status in worker_pool_res:\n",
    "    assert status.error == None\n",
    "    if domain.deployment_type.value == \"container_stack\":\n",
    "        assert status.worker.image.image_hash == get_image_hash(docker_tag)"
   ]
  },
  {
   "cell_type": "code",
   "execution_count": null,
   "id": "977ff49b-0975-4e75-bd36-7ed124be52b8",
   "metadata": {},
   "outputs": [],
   "source": [
    "worker_pool_list = domain_client.worker_pools\n",
    "worker_pool_list"
   ]
  },
  {
   "cell_type": "code",
   "execution_count": null,
   "id": "ce6bd8c3-bc0a-4cdd-b594-4fccdd2097d4",
   "metadata": {},
   "outputs": [],
   "source": [
    "assert len(domain_client.worker_pools.get_all())==2\n",
    "worker_pool = None\n",
    "for pool in worker_pool_list:\n",
    "    if pool.name == worker_pool_name:\n",
    "        worker_pool = pool\n",
    "        break\n",
    "assert worker_pool is not None\n",
    "assert len(worker_pool.workers)==3"
   ]
  },
  {
   "cell_type": "code",
   "execution_count": null,
   "id": "fe5900fe-057e-4be2-b3c6-c69ec07bacb4",
   "metadata": {},
   "outputs": [],
   "source": [
    "# Delete the second worker\n",
    "second_worker = worker_pool.workers[1]"
   ]
  },
  {
   "cell_type": "code",
   "execution_count": null,
   "id": "3e4f4496-edf6-45ad-8900-b004a59d1e0e",
   "metadata": {},
   "outputs": [],
   "source": [
    "second_worker"
   ]
  },
  {
   "cell_type": "code",
   "execution_count": null,
   "id": "fda29eca",
   "metadata": {},
   "outputs": [],
   "source": [
    "raw_worker_logs = domain_client.api.services.worker_pool.worker_logs(\n",
    "    worker_pool_id=worker_pool.id, worker_id=second_worker.id, raw=True\n",
    ")\n",
    "raw_worker_logs"
   ]
  },
  {
   "cell_type": "code",
   "execution_count": null,
   "id": "1386d881",
   "metadata": {},
   "outputs": [],
   "source": [
    "assert isinstance(raw_worker_logs, bytes)"
   ]
  },
  {
   "cell_type": "code",
   "execution_count": null,
   "id": "187cb1ee",
   "metadata": {},
   "outputs": [],
   "source": [
    "worker_logs = domain_client.api.services.worker_pool.worker_logs(\n",
    "    worker_pool_id=worker_pool.id, worker_id=second_worker.id\n",
    ")\n",
    "worker_logs"
   ]
  },
  {
   "cell_type": "code",
   "execution_count": null,
   "id": "f08fc155",
   "metadata": {},
   "outputs": [],
   "source": [
    "assert isinstance(worker_logs, str)"
   ]
  },
  {
   "cell_type": "code",
   "execution_count": null,
   "id": "c23a5008-0fa6-4d38-9102-71696b3eea41",
   "metadata": {},
   "outputs": [],
   "source": [
    "worker_delete_res = domain_client.api.services.worker_pool.delete_worker(\n",
    "    worker_pool_id=worker_pool.id, worker_id=second_worker.id\n",
    ")"
   ]
  },
  {
   "cell_type": "code",
   "execution_count": null,
   "id": "2acf59e7-d5d6-45e7-9357-c0ab1c2752ec",
   "metadata": {},
   "outputs": [],
   "source": [
    "worker_delete_res"
   ]
  },
  {
   "cell_type": "code",
   "execution_count": null,
   "id": "66251446-6d61-451c-a6cb-5e5e4414f92a",
   "metadata": {},
   "outputs": [],
   "source": [
    "assert isinstance(worker_delete_res, sy.SyftSuccess)"
   ]
  },
  {
   "cell_type": "code",
   "execution_count": null,
   "id": "61dc575e-d5d8-47e1-a23a-ccfa3fd1cad6",
   "metadata": {},
   "outputs": [],
   "source": [
    "# Refetch the worker pool\n",
    "# Ensure that the deleted worker's id is not present\n",
    "for pool in domain_client.api.services.worker_pool.get_all():\n",
    "    if pool.name == worker_pool_name:\n",
    "        worker_pool = pool\n",
    "assert len(worker_pool.workers) == 2\n",
    "for worker in worker_pool.workers:\n",
    "    assert second_worker.id != worker.id"
   ]
  },
  {
   "cell_type": "code",
   "execution_count": null,
   "id": "400d545a-a912-423f-aeb8-aadfba7a3848",
   "metadata": {},
   "outputs": [],
   "source": [
    "worker_pool"
   ]
  },
  {
   "cell_type": "code",
   "execution_count": null,
   "id": "56fb74bb-a409-481a-93de-3a52d049c41a",
   "metadata": {},
   "outputs": [],
   "source": [
    "# delete the remaining workers\n",
    "for worker in worker_pool.workers:\n",
    "    res =domain_client.api.services.worker_pool.delete_worker(\n",
    "        worker_pool_id=worker_pool.id, worker_id= worker.id\n",
    "    )\n",
    "    assert isinstance(res, sy.SyftSuccess)"
   ]
  },
  {
   "cell_type": "code",
   "execution_count": null,
   "id": "6713e807-8f41-4892-959f-e908e7b736a6",
   "metadata": {},
   "outputs": [],
   "source": [
    "delete_res = domain_client.api.services.worker_image.delete(workerimage.id)"
   ]
  },
  {
   "cell_type": "code",
   "execution_count": null,
   "id": "9167743c-36af-4c83-b051-0ecdf13e3601",
   "metadata": {},
   "outputs": [],
   "source": [
    "# Since the containers are delete, we should be able to delete the image\n",
    "assert isinstance(delete_res, sy.SyftSuccess)\n",
    "delete_res"
   ]
  },
  {
   "cell_type": "code",
   "execution_count": null,
   "id": "94e16583-87ca-4c81-ade0-52bfbf4a5ec0",
   "metadata": {},
   "outputs": [],
   "source": []
  }
 ],
 "metadata": {
  "kernelspec": {
   "display_name": "Python 3 (ipykernel)",
   "language": "python",
   "name": "python3"
  },
  "language_info": {
   "codemirror_mode": {
    "name": "ipython",
    "version": 3
   },
   "file_extension": ".py",
   "mimetype": "text/x-python",
   "name": "python",
   "nbconvert_exporter": "python",
   "pygments_lexer": "ipython3",
   "version": "3.10.13"
  }
 },
 "nbformat": 4,
 "nbformat_minor": 5
}
