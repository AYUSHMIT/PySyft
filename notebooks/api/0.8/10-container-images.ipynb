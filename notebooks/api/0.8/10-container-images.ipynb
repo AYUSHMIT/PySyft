{
 "cells": [
  {
   "cell_type": "code",
   "execution_count": null,
   "id": "2cb8c995-c806-4b8e-a892-9bc461c61935",
   "metadata": {},
   "outputs": [],
   "source": [
    "%load_ext autoreload\n",
    "%autoreload 2\n",
    "\n",
    "import syft as sy"
   ]
  },
  {
   "cell_type": "code",
   "execution_count": null,
   "id": "0415b65d-5f86-4419-9b12-f579d7c0a5cc",
   "metadata": {},
   "outputs": [],
   "source": [
    "from syft.service.worker.worker_image import SyftWorkerImage, SyftWorkerImageTag\n",
    "from syft.custom_worker.config import DockerWorkerConfig\n",
    "from syft.service.worker.worker_image import build_using_docker"
   ]
  },
  {
   "cell_type": "code",
   "execution_count": null,
   "id": "0bc7b5dc-1565-4261-ac98-db2602c5877b",
   "metadata": {},
   "outputs": [],
   "source": [
    "domain  = sy.orchestra.launch(name=\"domain\", reset=True, dev_mode=True)"
   ]
  },
  {
   "cell_type": "code",
   "execution_count": null,
   "id": "91f1988a-daa3-42f0-9bfe-f9fdd9597fdc",
   "metadata": {},
   "outputs": [],
   "source": [
    "domain_client = domain.login(email=\"info@openmined.org\", password=\"changethis\")"
   ]
  },
  {
   "cell_type": "code",
   "execution_count": null,
   "id": "75193f9f-3622-4071-9aba-d42a5dc5b301",
   "metadata": {},
   "outputs": [],
   "source": [
    "nginx_dockerfile_str = \"\"\"\n",
    "# Use the official Nginx image as the base\n",
    "FROM nginx:latest\n",
    "\n",
    "# Expose port 80 for the Nginx server\n",
    "EXPOSE 80\n",
    "\n",
    "# Start Nginx when the container has provisioned\n",
    "CMD [\"nginx\", \"-g\", \"daemon off;\"]\n",
    "\"\"\""
   ]
  },
  {
   "cell_type": "code",
   "execution_count": null,
   "id": "b6bfe92a-e873-4dc3-b3a0-6715f8843785",
   "metadata": {},
   "outputs": [],
   "source": [
    "docker_config = DockerWorkerConfig(dockerfile=nginx_dockerfile_str)"
   ]
  },
  {
   "cell_type": "code",
   "execution_count": null,
   "id": "54f10e93-8ca0-445e-ad2f-840d9f6cee72",
   "metadata": {},
   "outputs": [],
   "source": [
    "print(docker_config.dockerfile)"
   ]
  },
  {
   "cell_type": "code",
   "execution_count": null,
   "id": "d4a60bf8-22d3-4052-b9cc-f6dcf68b2dd8",
   "metadata": {},
   "outputs": [],
   "source": [
    "domain_client.api.services.worker_image.submit_dockerfile(docker_config=docker_config)"
   ]
  },
  {
   "cell_type": "code",
   "execution_count": null,
   "id": "d9cc2eb9-9f28-454f-96bc-fbb722f78bb5",
   "metadata": {},
   "outputs": [],
   "source": [
    "res = domain_client.api.services.worker_image.get_all()"
   ]
  },
  {
   "cell_type": "code",
   "execution_count": null,
   "id": "8e56f9e8-5cf3-418b-9774-75a47c8ef276",
   "metadata": {},
   "outputs": [],
   "source": [
    "res"
   ]
  },
  {
   "cell_type": "code",
   "execution_count": null,
   "id": "aa6573e1-ea18-4049-b6bf-1615521d8ced",
   "metadata": {},
   "outputs": [],
   "source": [
    "domain_client.api.services.worker_image.build(uid=res[0].id, tag=\"openmined/test-nginx:0.7.8\")"
   ]
  },
  {
   "cell_type": "code",
   "execution_count": null,
   "id": "c540043d-4485-4213-b93c-358e4c507f5a",
   "metadata": {},
   "outputs": [],
   "source": [
    "res = domain_client.api.services.worker_image.get_all()\n",
    "res"
   ]
  },
  {
   "cell_type": "code",
   "execution_count": null,
   "id": "2dd5d306-1726-4d68-a1fd-2513bbaf568c",
   "metadata": {},
   "outputs": [],
   "source": [
    "res[0].created_at.utc_timestamp"
   ]
  },
  {
   "cell_type": "code",
   "execution_count": null,
   "id": "b2829070-f156-4dbd-b1ee-1e3f654f5b7b",
   "metadata": {},
   "outputs": [],
   "source": [
    "res[0].config.dockerfile"
   ]
  },
  {
   "cell_type": "code",
   "execution_count": null,
   "id": "76c4d6ae-0a2a-49ec-aac5-198003c4ab7b",
   "metadata": {},
   "outputs": [],
   "source": [
    "from syft.service.worker.utils import run_container_using_docker"
   ]
  },
  {
   "cell_type": "code",
   "execution_count": null,
   "id": "cf8c4fdb-b4f1-48de-b5f3-d3f5630c4cae",
   "metadata": {},
   "outputs": [],
   "source": [
    "run_res = run_container_using_docker(image_tag=res[0].image_tag, worker_name=\"mycoolworker\")"
   ]
  },
  {
   "cell_type": "code",
   "execution_count": null,
   "id": "01848485-9de8-4a79-b9a5-917495e5c641",
   "metadata": {},
   "outputs": [],
   "source": [
    "print(run_res.error)"
   ]
  },
  {
   "cell_type": "code",
   "execution_count": null,
   "id": "1be92dcc-0e67-4bf3-9994-3aaa776d1269",
   "metadata": {},
   "outputs": [],
   "source": [
    "run_res"
   ]
  },
  {
   "cell_type": "code",
   "execution_count": null,
   "id": "f57b5443-8519-4464-89a2-37deb25f6923",
   "metadata": {},
   "outputs": [],
   "source": [
    "res = domain_client.api.services.worker_pool.create(name=\"my_third_worker_pool\", image_uid = res[0].id, number=3)"
   ]
  },
  {
   "cell_type": "code",
   "execution_count": null,
   "id": "f87f3764-4589-4ec8-b10a-064faa819271",
   "metadata": {},
   "outputs": [],
   "source": [
    "res[0]"
   ]
  },
  {
   "cell_type": "code",
   "execution_count": null,
   "id": "81552dca-c214-4f84-b4c6-94a97e6dbfec",
   "metadata": {},
   "outputs": [],
   "source": [
    "res[1]"
   ]
  },
  {
   "cell_type": "code",
   "execution_count": null,
   "id": "05684318-9a18-4c63-b6fb-0ef39fbe9441",
   "metadata": {},
   "outputs": [],
   "source": [
    "res[2]"
   ]
  },
  {
   "cell_type": "code",
   "execution_count": null,
   "id": "67c7ace4-14d2-4472-9322-255fe15b2f6f",
   "metadata": {},
   "outputs": [],
   "source": [
    "domain_client.api.services.worker_pool.get_all()[0]"
   ]
  },
  {
   "cell_type": "code",
   "execution_count": null,
   "id": "98ad4890-0424-4d84-af00-15bfa445c64d",
   "metadata": {},
   "outputs": [],
   "source": []
  }
 ],
 "metadata": {
  "kernelspec": {
   "display_name": "Python 3 (ipykernel)",
   "language": "python",
   "name": "python3"
  },
  "language_info": {
   "codemirror_mode": {
    "name": "ipython",
    "version": 3
   },
   "file_extension": ".py",
   "mimetype": "text/x-python",
   "name": "python",
   "nbconvert_exporter": "python",
   "pygments_lexer": "ipython3",
   "version": "3.11.5"
  }
 },
 "nbformat": 4,
 "nbformat_minor": 5
}
