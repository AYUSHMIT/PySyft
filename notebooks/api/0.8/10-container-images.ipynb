{
 "cells": [
  {
   "cell_type": "code",
   "execution_count": null,
   "id": "2cb8c995-c806-4b8e-a892-9bc461c61935",
   "metadata": {},
   "outputs": [],
   "source": [
    "import syft as sy"
   ]
  },
  {
   "cell_type": "code",
   "execution_count": null,
   "id": "0415b65d-5f86-4419-9b12-f579d7c0a5cc",
   "metadata": {},
   "outputs": [],
   "source": [
    "from syft.service.worker.worker_image import SyftWorkerImage, SyftWorkerImageTag\n",
    "from syft.custom_worker.config import DockerWorkerConfig\n",
    "from syft.service.worker.worker_image import build_using_docker"
   ]
  },
  {
   "cell_type": "code",
   "execution_count": null,
   "id": "0bc7b5dc-1565-4261-ac98-db2602c5877b",
   "metadata": {},
   "outputs": [],
   "source": [
    "domain  = sy.orchestra.launch(name=\"domain\", reset=True, dev_mode=True)"
   ]
  },
  {
   "cell_type": "code",
   "execution_count": null,
   "id": "91f1988a-daa3-42f0-9bfe-f9fdd9597fdc",
   "metadata": {},
   "outputs": [],
   "source": [
    "domain_client = domain.client.login(email=\"info@openmined.org\", password=\"changethis\")"
   ]
  },
  {
   "cell_type": "code",
   "execution_count": null,
   "id": "75193f9f-3622-4071-9aba-d42a5dc5b301",
   "metadata": {},
   "outputs": [],
   "source": [
    "nginx_dockerfile_str = \"\"\"\n",
    "# Use the official Nginx image as the base\n",
    "FROM nginx:latest\n",
    "\n",
    "# Expose port 80 for the Nginx server\n",
    "EXPOSE 80\n",
    "\n",
    "# Start Nginx when the container has provisioned\n",
    "CMD [\"nginx\", \"-g\", \"daemon off;\"]\n",
    "\"\"\""
   ]
  },
  {
   "cell_type": "code",
   "execution_count": null,
   "id": "b6bfe92a-e873-4dc3-b3a0-6715f8843785",
   "metadata": {},
   "outputs": [],
   "source": [
    "docker_config = DockerWorkerConfig(nginx_dockerfile_str)"
   ]
  },
  {
   "cell_type": "code",
   "execution_count": null,
   "id": "54f10e93-8ca0-445e-ad2f-840d9f6cee72",
   "metadata": {},
   "outputs": [],
   "source": [
    "print(docker_config.dockerfile)"
   ]
  },
  {
   "cell_type": "code",
   "execution_count": null,
   "id": "d4a60bf8-22d3-4052-b9cc-f6dcf68b2dd8",
   "metadata": {},
   "outputs": [],
   "source": [
    "domain_client.api.services.worker_image.submit_dockerfile(docker_config=docker_config)"
   ]
  },
  {
   "cell_type": "code",
   "execution_count": null,
   "id": "d9cc2eb9-9f28-454f-96bc-fbb722f78bb5",
   "metadata": {},
   "outputs": [],
   "source": [
    "res = domain_client.api.services.worker_image.list()"
   ]
  },
  {
   "cell_type": "code",
   "execution_count": null,
   "id": "8e56f9e8-5cf3-418b-9774-75a47c8ef276",
   "metadata": {},
   "outputs": [],
   "source": [
    "res"
   ]
  },
  {
   "cell_type": "code",
   "execution_count": null,
   "id": "aa6573e1-ea18-4049-b6bf-1615521d8ced",
   "metadata": {},
   "outputs": [],
   "source": [
    "domain_client.api.services.worker_image.build(uid=res[0].id, tag=\"openmined/test-nginx:0.7.8\")"
   ]
  },
  {
   "cell_type": "code",
   "execution_count": null,
   "id": "c540043d-4485-4213-b93c-358e4c507f5a",
   "metadata": {},
   "outputs": [],
   "source": [
    "res = domain_client.api.services.worker_image.list()"
   ]
  },
  {
   "cell_type": "code",
   "execution_count": null,
   "id": "2dd5d306-1726-4d68-a1fd-2513bbaf568c",
   "metadata": {},
   "outputs": [],
   "source": [
    "res[0].created_at.utc_timestamp"
   ]
  },
  {
   "cell_type": "code",
   "execution_count": null,
   "id": "b2829070-f156-4dbd-b1ee-1e3f654f5b7b",
   "metadata": {},
   "outputs": [],
   "source": [
    "res[0].config.dockerfile"
   ]
  },
  {
   "cell_type": "code",
   "execution_count": null,
   "id": "d4d0fc03-4ed6-4105-97ee-6bbcba2c4cf3",
   "metadata": {},
   "outputs": [],
   "source": [
    "worker_image = SyftWorkerImage(\n",
    "    config=docker_config,\n",
    "    image_tag=SyftWorkerImageTag.from_str(\"openmined/grid-nginx:0.8.3\"),\n",
    "    created_by=domain_client.verify_key\n",
    ")"
   ]
  },
  {
   "cell_type": "code",
   "execution_count": null,
   "id": "5e546c7b-9dbb-4759-9b37-42ad346d5572",
   "metadata": {},
   "outputs": [],
   "source": [
    "worker_image.image_tag"
   ]
  },
  {
   "cell_type": "code",
   "execution_count": null,
   "id": "5416fdc8-ecf9-4adc-8a6a-e12bfeb0c13b",
   "metadata": {},
   "outputs": [],
   "source": [
    "output = build_using_docker(worker_image=worker_image)"
   ]
  },
  {
   "cell_type": "code",
   "execution_count": null,
   "id": "b0f40788-409d-474c-bfa6-225e0aa88afb",
   "metadata": {},
   "outputs": [],
   "source": [
    "output"
   ]
  }
 ],
 "metadata": {
  "kernelspec": {
   "display_name": "Python 3 (ipykernel)",
   "language": "python",
   "name": "python3"
  },
  "language_info": {
   "codemirror_mode": {
    "name": "ipython",
    "version": 3
   },
   "file_extension": ".py",
   "mimetype": "text/x-python",
   "name": "python",
   "nbconvert_exporter": "python",
   "pygments_lexer": "ipython3",
   "version": "3.11.5"
  }
 },
 "nbformat": 4,
 "nbformat_minor": 5
}
