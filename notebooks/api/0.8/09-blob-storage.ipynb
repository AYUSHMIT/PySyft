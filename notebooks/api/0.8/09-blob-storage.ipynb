{
 "cells": [
  {
   "cell_type": "code",
   "execution_count": null,
   "metadata": {},
   "outputs": [],
   "source": [
    "SYFT_VERSION = \">=0.8.2.b0,<0.9\"\n",
    "package_string = f'\"syft{SYFT_VERSION}\"'\n",
    "# %pip install {package_string} -q"
   ]
  },
  {
   "cell_type": "code",
   "execution_count": null,
   "metadata": {},
   "outputs": [],
   "source": [
    "# stdlib\n",
    "import os\n",
    "import time\n",
    "\n",
    "# syft absolute\n",
    "import syft as sy\n",
    "from syft import autocache\n",
    "\n",
    "sy.requires(SYFT_VERSION)"
   ]
  },
  {
   "cell_type": "code",
   "execution_count": null,
   "metadata": {},
   "outputs": [],
   "source": [
    "node = sy.orchestra.launch(\n",
    "    name=\"test-domain-1\",\n",
    "    dev_mode=True,\n",
    "    in_memory_workers=True,\n",
    "    reset=True,\n",
    "    create_producer=True,\n",
    ")"
   ]
  },
  {
   "cell_type": "code",
   "execution_count": null,
   "metadata": {},
   "outputs": [],
   "source": [
    "domain_client = node.login(email=\"info@openmined.org\", password=\"changethis\")"
   ]
  },
  {
   "cell_type": "markdown",
   "metadata": {},
   "source": [
    "# From multiple local files"
   ]
  },
  {
   "cell_type": "code",
   "execution_count": null,
   "metadata": {},
   "outputs": [],
   "source": [
    "canada_dataset_url = \"https://github.com/OpenMined/datasets/blob/main/trade_flow/ca%20-%20feb%202021.csv?raw=True\"\n",
    "canada_file = autocache(canada_dataset_url, \"csv\")\n",
    "canada_file"
   ]
  },
  {
   "cell_type": "code",
   "execution_count": null,
   "metadata": {},
   "outputs": [],
   "source": [
    "brazil_dataset_url = \"https://github.com/OpenMined/datasets/blob/main/trade_flow/brazil%20-%20mar%202022.csv?raw=True\"\n",
    "brazil_file = autocache(brazil_dataset_url, \"csv\")\n",
    "brazil_file"
   ]
  },
  {
   "cell_type": "code",
   "execution_count": null,
   "metadata": {},
   "outputs": [],
   "source": [
    "data_ptr = domain_client.upload_files([canada_file, brazil_file])\n",
    "data_ptr"
   ]
  },
  {
   "cell_type": "code",
   "execution_count": null,
   "metadata": {},
   "outputs": [],
   "source": [
    "data_ptr.syft_action_data"
   ]
  },
  {
   "cell_type": "code",
   "execution_count": null,
   "metadata": {},
   "outputs": [],
   "source": [
    "@sy.syft_function_single_use(trade_data=data_ptr)\n",
    "def sum_trade_value_mil(trade_data):\n",
    "    # third party\n",
    "    import opendp.prelude as dp\n",
    "    import pandas as pd\n",
    "\n",
    "    dp.enable_features(\"contrib\")\n",
    "\n",
    "    aggregate = 0.0\n",
    "    base_lap = dp.m.make_base_laplace(\n",
    "        dp.atom_domain(T=float),\n",
    "        dp.absolute_distance(T=float),\n",
    "        scale=10.0,\n",
    "    )\n",
    "\n",
    "    noise = base_lap(aggregate)\n",
    "\n",
    "    total = 0\n",
    "\n",
    "    for data in trade_data:\n",
    "        print(\"Loading file:\", data.file_name)\n",
    "        df = pd.read_csv(data.file_name, low_memory=False)\n",
    "        total += df[\"Trade Value (US$)\"].sum()\n",
    "\n",
    "    return (float(total / 1_000_000), float(noise))"
   ]
  },
  {
   "cell_type": "code",
   "execution_count": null,
   "metadata": {},
   "outputs": [],
   "source": [
    "sum_trade_value_mil(trade_data=data_ptr)"
   ]
  },
  {
   "cell_type": "code",
   "execution_count": null,
   "metadata": {},
   "outputs": [],
   "source": [
    "for blob in data_ptr.syft_action_data:\n",
    "    domain_client.api.services.blob_storage.delete(blob.syft_blob_storage_entry_id)\n",
    "\n",
    "    time.sleep(1)\n",
    "\n",
    "    if os.path.exists(blob.file_name):\n",
    "        print(f\"Trying to delete file: {blob.file_name}\")\n",
    "        os.unlink(blob.file_name)"
   ]
  },
  {
   "cell_type": "markdown",
   "metadata": {},
   "source": [
    "# From a single file"
   ]
  },
  {
   "cell_type": "code",
   "execution_count": null,
   "metadata": {},
   "outputs": [],
   "source": [
    "single_data_ptr = domain_client.upload_files(canada_file)\n",
    "single_data_ptr"
   ]
  },
  {
   "cell_type": "code",
   "execution_count": null,
   "metadata": {},
   "outputs": [],
   "source": [
    "sum_trade_value_mil(trade_data=single_data_ptr)"
   ]
  },
  {
   "cell_type": "code",
   "execution_count": null,
   "metadata": {},
   "outputs": [],
   "source": [
    "for blob in single_data_ptr.syft_action_data:\n",
    "    domain_client.api.services.blob_storage.delete(blob.syft_blob_storage_entry_id)\n",
    "\n",
    "    time.sleep(1)\n",
    "\n",
    "    if os.path.exists(blob.file_name):\n",
    "        print(f\"Trying to delete file: {blob.file_name}\")\n",
    "        os.unlink(blob.file_name)"
   ]
  },
  {
   "cell_type": "markdown",
   "metadata": {},
   "source": [
    "# From a folder"
   ]
  },
  {
   "cell_type": "code",
   "execution_count": null,
   "metadata": {},
   "outputs": [],
   "source": [
    "domain_client.upload_files(\"./path/to/folder\")"
   ]
  },
  {
   "cell_type": "markdown",
   "metadata": {},
   "source": [
    "#### Cleanup local domain server"
   ]
  },
  {
   "cell_type": "code",
   "execution_count": null,
   "metadata": {},
   "outputs": [],
   "source": [
    "if node.node_type.value == \"python\":\n",
    "    node.land()"
   ]
  }
 ],
 "metadata": {
  "kernelspec": {
   "display_name": "Python 3 (ipykernel)",
   "language": "python",
   "name": "python3"
  },
  "language_info": {
   "codemirror_mode": {
    "name": "ipython",
    "version": 3
   },
   "file_extension": ".py",
   "mimetype": "text/x-python",
   "name": "python",
   "nbconvert_exporter": "python",
   "pygments_lexer": "ipython3",
   "version": "3.10.10"
  },
  "toc": {
   "base_numbering": 1,
   "nav_menu": {},
   "number_sections": true,
   "sideBar": true,
   "skip_h1_title": false,
   "title_cell": "Table of Contents",
   "title_sidebar": "Contents",
   "toc_cell": false,
   "toc_position": {},
   "toc_section_display": true,
   "toc_window_display": false
  }
 },
 "nbformat": 4,
 "nbformat_minor": 4
}
