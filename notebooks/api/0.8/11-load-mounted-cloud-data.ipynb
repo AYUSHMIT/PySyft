{
 "cells": [
  {
   "cell_type": "markdown",
   "metadata": {},
   "source": [
    "# Load and use Mounted Azure File\n",
    " \n",
    "This notebook aims to show and test how to properly use some file stored in cloud blob storages like s3, azure storage, etc."
   ]
  },
  {
   "cell_type": "code",
   "execution_count": null,
   "metadata": {},
   "outputs": [],
   "source": [
    "# stdlib\n",
    "import os\n",
    "\n",
    "# syft absolute\n",
    "import syft as sy\n",
    "from syft import ActionObject"
   ]
  },
  {
   "cell_type": "markdown",
   "metadata": {},
   "source": [
    "## Connect with domain"
   ]
  },
  {
   "cell_type": "code",
   "execution_count": null,
   "metadata": {},
   "outputs": [],
   "source": [
    "client = sy.login(\n",
    "    url=\"http://localhost:8080\", email=\"info@openmined.org\", password=\"changethis\"\n",
    ")"
   ]
  },
  {
   "cell_type": "markdown",
   "metadata": {},
   "source": [
    "## Register an existent file storage\n",
    "\n",
    "**OBS**: The **AZURE_BLOB_STORAGE_KEY** environment key is a github env setting defined in repository that allow us to have access to a file storage created in Azure. This notebook only works if this envrionment is set and its value is valid."
   ]
  },
  {
   "cell_type": "code",
   "execution_count": null,
   "metadata": {},
   "outputs": [],
   "source": [
    "client.api.services.blob_storage.mount_azure(\n",
    "    account_name=\"citestingstorageaccount\",\n",
    "    container_name=\"citestingcontainer\",\n",
    "    account_key=os.environ[\"AZURE_BLOB_STORAGE_KEY\"],\n",
    "    bucket_name=\"helmazurebucket\",\n",
    ")\n",
    "blob_files = client.api.services.blob_storage.get_files_from_bucket(\n",
    "    bucket_name=\"helmazurebucket\"\n",
    ")\n",
    "document = [f for f in blob_files if \"testfile.txt\" in f.file_name][0]\n",
    "x = ActionObject.from_obj(document)\n",
    "x_ptr = x.send(client)"
   ]
  },
  {
   "cell_type": "markdown",
   "metadata": {},
   "source": [
    "## Create and execute a job using stored files"
   ]
  },
  {
   "cell_type": "code",
   "execution_count": null,
   "metadata": {},
   "outputs": [],
   "source": [
    "@sy.syft_function_single_use(document=x_ptr)\n",
    "def print_remote_document(domain, document):\n",
    "    print(document.read())\n",
    "    return document.read()"
   ]
  },
  {
   "cell_type": "code",
   "execution_count": null,
   "metadata": {},
   "outputs": [],
   "source": [
    "client.code.request_code_execution(print_remote_document)"
   ]
  },
  {
   "cell_type": "code",
   "execution_count": null,
   "metadata": {},
   "outputs": [],
   "source": [
    "client.requests[-1].approve(approve_nested=True, disable_warnings=True)"
   ]
  },
  {
   "cell_type": "code",
   "execution_count": null,
   "metadata": {},
   "outputs": [],
   "source": [
    "job = client.code.print_remote_document(document=x_ptr, blocking=False)"
   ]
  }
 ],
 "metadata": {
  "kernelspec": {
   "display_name": "Python 3 (ipykernel)",
   "language": "python",
   "name": "python3"
  },
  "language_info": {
   "codemirror_mode": {
    "name": "ipython",
    "version": 3
   },
   "file_extension": ".py",
   "mimetype": "text/x-python",
   "name": "python",
   "nbconvert_exporter": "python",
   "pygments_lexer": "ipython3",
   "version": "3.11.0rc1"
  },
  "toc": {
   "base_numbering": 1,
   "nav_menu": {},
   "number_sections": true,
   "sideBar": true,
   "skip_h1_title": false,
   "title_cell": "Table of Contents",
   "title_sidebar": "Contents",
   "toc_cell": false,
   "toc_position": {},
   "toc_section_display": true,
   "toc_window_display": true
  }
 },
 "nbformat": 4,
 "nbformat_minor": 4
}
