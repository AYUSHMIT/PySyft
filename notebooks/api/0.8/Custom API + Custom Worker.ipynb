{
 "cells": [
  {
   "cell_type": "markdown",
   "id": "0",
   "metadata": {},
   "source": [
    "## Custom API +  Custom Worker"
   ]
  },
  {
   "cell_type": "markdown",
   "id": "1",
   "metadata": {},
   "source": [
    "#### Import dependencies"
   ]
  },
  {
   "cell_type": "code",
   "execution_count": null,
   "id": "2",
   "metadata": {},
   "outputs": [],
   "source": [
    "# stdlib\n",
    "import os\n",
    "\n",
    "# third party\n",
    "import requests\n",
    "\n",
    "# syft absolute\n",
    "import syft as sy\n",
    "from syft.service.settings.settings import NodeSettingsUpdate\n",
    "from syft.service.worker.worker_image import SyftWorkerImage\n",
    "\n",
    "from getpass import getpass  # noqa"
   ]
  },
  {
   "cell_type": "code",
   "execution_count": null,
   "id": "3",
   "metadata": {},
   "outputs": [],
   "source": [
    "os.environ[\"ORCHESTRA_DEPLOYMENT_TYPE\"] = \"k8s\"\n",
    "os.environ[\"DEV_MODE\"] = \"True\""
   ]
  },
  {
   "cell_type": "code",
   "execution_count": null,
   "id": "4",
   "metadata": {},
   "outputs": [],
   "source": [
    "domain_client = sy.login(email=\"info@openmined.org\", password=\"changethis\", port=8080)"
   ]
  },
  {
   "cell_type": "code",
   "execution_count": null,
   "id": "5",
   "metadata": {},
   "outputs": [],
   "source": [
    "domain_client.worker_pools"
   ]
  },
  {
   "cell_type": "markdown",
   "id": "6",
   "metadata": {},
   "source": [
    "## Register a custom Image"
   ]
  },
  {
   "cell_type": "code",
   "execution_count": null,
   "id": "7",
   "metadata": {},
   "outputs": [],
   "source": [
    "registry = os.getenv(\"SYFT_BASE_IMAGE_REGISTRY\", \"k3d-registry.localhost:5800\")\n",
    "repo = \"openmined/grid-backend\"\n",
    "\n",
    "if \"k3d\" in registry:\n",
    "    res = requests.get(url=f\"http://{registry}/v2/{repo}/tags/list\")\n",
    "    tag = res.json()[\"tags\"][0]\n",
    "else:\n",
    "    tag = sy.__version__"
   ]
  },
  {
   "cell_type": "code",
   "execution_count": null,
   "id": "8",
   "metadata": {},
   "outputs": [],
   "source": [
    "custom_dockerfile_str = f\"\"\"\n",
    "FROM {registry}/{repo}:{tag}\n",
    "\n",
    "RUN pip install google-cloud-bigquery db_dtypes\n",
    "\n",
    "\"\"\".strip()"
   ]
  },
  {
   "cell_type": "code",
   "execution_count": null,
   "id": "9",
   "metadata": {},
   "outputs": [],
   "source": [
    "print(custom_dockerfile_str)"
   ]
  },
  {
   "cell_type": "code",
   "execution_count": null,
   "id": "10",
   "metadata": {},
   "outputs": [],
   "source": [
    "docker_config = sy.DockerWorkerConfig(dockerfile=custom_dockerfile_str)"
   ]
  },
  {
   "cell_type": "code",
   "execution_count": null,
   "id": "11",
   "metadata": {},
   "outputs": [],
   "source": [
    "submit_result = domain_client.api.services.worker_image.submit_dockerfile(\n",
    "    docker_config=docker_config\n",
    ")\n",
    "submit_result"
   ]
  },
  {
   "cell_type": "code",
   "execution_count": null,
   "id": "12",
   "metadata": {},
   "outputs": [],
   "source": [
    "dockerfile_list = domain_client.images.get_all()\n",
    "dockerfile_list"
   ]
  },
  {
   "cell_type": "code",
   "execution_count": null,
   "id": "13",
   "metadata": {},
   "outputs": [],
   "source": [
    "workerimage = next(\n",
    "    (\n",
    "        image\n",
    "        for image in dockerfile_list\n",
    "        if not image.is_prebuilt and image.config.dockerfile == custom_dockerfile_str\n",
    "    ),\n",
    "    None,\n",
    ")\n",
    "\n",
    "assert isinstance(workerimage, SyftWorkerImage), str(workerimage)\n",
    "workerimage"
   ]
  },
  {
   "cell_type": "code",
   "execution_count": null,
   "id": "14",
   "metadata": {},
   "outputs": [],
   "source": [
    "external_registry = os.getenv(\"EXTERNAL_REGISTRY\", \"k3d-registry.localhost:5800\")\n",
    "external_registry_username = os.getenv(\"EXTERNAL_REGISTRY_USERNAME\", None)\n",
    "external_registry_password = os.getenv(\"EXTERNAL_REGISTRY_PASSWORD\", None)"
   ]
  },
  {
   "cell_type": "code",
   "execution_count": null,
   "id": "15",
   "metadata": {},
   "outputs": [],
   "source": [
    "docker_tag = \"openmined/custom-worker:0.7.8\""
   ]
  },
  {
   "cell_type": "code",
   "execution_count": null,
   "id": "16",
   "metadata": {},
   "outputs": [],
   "source": [
    "registry_add_result = domain_client.api.services.image_registry.add(\n",
    "    \"k3d-registry.localhost:5800\"\n",
    ")\n",
    "registry_add_result\n",
    "\n",
    "image_registry_list = domain_client.api.services.image_registry.get_all()\n",
    "image_registry_list\n",
    "\n",
    "local_registry = image_registry_list[0]\n",
    "local_registry\n",
    "\n",
    "local_registry = domain_client.api.services.image_registry.get_all()[0]\n",
    "registry_uid = local_registry.id\n",
    "\n",
    "# build with registry_uid\n",
    "docker_build_result = domain_client.api.services.worker_image.build(\n",
    "    image_uid=workerimage.id,\n",
    "    tag=docker_tag,\n",
    "    registry_uid=registry_uid,\n",
    ")\n",
    "docker_build_result"
   ]
  },
  {
   "cell_type": "code",
   "execution_count": null,
   "id": "17",
   "metadata": {},
   "outputs": [],
   "source": [
    "image_list = domain_client.images.get_all()\n",
    "# we can also index with string using the repo_with_tag format\n",
    "workerimage = next((image for image in image_list if image.id == workerimage.id), None)\n",
    "assert workerimage is not None, str([image.__dict__ for image in image_list])\n",
    "assert workerimage.is_built is not None, str(workerimage)\n",
    "assert workerimage.built_at is not None, str(workerimage)\n",
    "assert workerimage.image_hash is not None, str(workerimage)\n",
    "assert image_list[workerimage.built_image_tag] == workerimage"
   ]
  },
  {
   "cell_type": "code",
   "execution_count": null,
   "id": "18",
   "metadata": {},
   "outputs": [],
   "source": [
    "domain_client.api.services.worker_image.push(\n",
    "    workerimage.id,\n",
    "    username=\"admin\",\n",
    "    password=\"admin\",\n",
    ")"
   ]
  },
  {
   "cell_type": "code",
   "execution_count": null,
   "id": "19",
   "metadata": {},
   "outputs": [],
   "source": [
    "worker_pool_name = \"custom-pool\"\n",
    "domain_client.api.services.worker_pool.launch(\n",
    "    name=worker_pool_name,\n",
    "    image_uid=workerimage.id,\n",
    "    num_workers=3,\n",
    "    reg_username=\"admin\",\n",
    "    reg_password=\"admin\",\n",
    ")"
   ]
  },
  {
   "cell_type": "code",
   "execution_count": null,
   "id": "20",
   "metadata": {},
   "outputs": [],
   "source": [
    "new_default_worker_pool = NodeSettingsUpdate(default_worker_pool=\"custom-pool\")\n",
    "domain_client.settings.update(settings=new_default_worker_pool)"
   ]
  },
  {
   "cell_type": "code",
   "execution_count": null,
   "id": "21",
   "metadata": {},
   "outputs": [],
   "source": [
    "@sy.mock_api_endpoint(settings={\"Hello\": \"Public\"})\n",
    "def public_function(\n",
    "    context,\n",
    ") -> str:\n",
    "    return \"Public Function Execution\"\n",
    "\n",
    "\n",
    "@sy.private_api_endpoint(settings={\"Hello\": \"Private\"})\n",
    "def private_function(\n",
    "    context,\n",
    ") -> str:\n",
    "    # =============== Custom Import ===============\n",
    "    # third party\n",
    "    from google.cloud.bigquery.table import RowIterator\n",
    "    return \"If this works, is because it's running in custom-pool\"\n",
    "\n",
    "\n",
    "new_endpoint = sy.TwinAPIEndpoint(\n",
    "    path=\"first.query\",\n",
    "    mock_function=public_function,\n",
    "    private_function=private_function,\n",
    "    description=\"Lore ipsulum ...\",\n",
    ")\n",
    "\n",
    "# # Add it to the node.\n",
    "response = domain_client.api.services.api.add(endpoint=new_endpoint)"
   ]
  },
  {
   "cell_type": "code",
   "execution_count": null,
   "id": "22",
   "metadata": {},
   "outputs": [],
   "source": [
    "domain_client.refresh()"
   ]
  },
  {
   "cell_type": "code",
   "execution_count": null,
   "id": "23",
   "metadata": {},
   "outputs": [],
   "source": [
    "@sy.syft_function_single_use(\n",
    "    endpoint=domain_client.api.services.first.query,\n",
    ")\n",
    "def job_function(endpoint):\n",
    "    return endpoint()\n",
    "\n",
    "\n",
    "new_project = sy.Project(\n",
    "    name=\"My Cool UN Project\",\n",
    "    description=\"Hi, I want to calculate the trade volume in million's with my cool code.\",\n",
    "    members=[domain_client],\n",
    ")\n",
    "\n",
    "result = new_project.create_code_request(job_function, domain_client)\n",
    "domain_client.requests[-1].approve()"
   ]
  },
  {
   "cell_type": "code",
   "execution_count": null,
   "id": "24",
   "metadata": {},
   "outputs": [],
   "source": [
    "domain_client.settings.get().default_worker_pool"
   ]
  },
  {
   "cell_type": "code",
   "execution_count": null,
   "id": "25",
   "metadata": {},
   "outputs": [],
   "source": [
    "domain_client.code.job_function(\n",
    "    endpoint=domain_client.api.services.first.query, blocking=False\n",
    ")"
   ]
  },
  {
   "cell_type": "code",
   "execution_count": null,
   "id": "26",
   "metadata": {},
   "outputs": [],
   "source": [
    "domain_client.jobs[0].result"
   ]
  }
 ],
 "metadata": {
  "kernelspec": {
   "display_name": "Python 3 (ipykernel)",
   "language": "python",
   "name": "python3"
  },
  "language_info": {
   "codemirror_mode": {
    "name": "ipython",
    "version": 3
   },
   "file_extension": ".py",
   "mimetype": "text/x-python",
   "name": "python",
   "nbconvert_exporter": "python",
   "pygments_lexer": "ipython3",
   "version": "3.11.0rc1"
  }
 },
 "nbformat": 4,
 "nbformat_minor": 5
}
