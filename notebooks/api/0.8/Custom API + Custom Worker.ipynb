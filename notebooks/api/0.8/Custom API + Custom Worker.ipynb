{
 "cells": [
  {
   "cell_type": "markdown",
   "id": "0",
   "metadata": {},
   "source": [
    "## Custom API +  Custom Worker"
   ]
  },
  {
   "cell_type": "markdown",
   "id": "1",
   "metadata": {},
   "source": [
    "#### Import dependencies"
   ]
  },
  {
   "cell_type": "code",
   "execution_count": 1,
   "id": "2",
   "metadata": {},
   "outputs": [],
   "source": [
    "# stdlib\n",
    "import os\n",
    "\n",
    "# third party\n",
    "import requests\n",
    "\n",
    "# syft absolute\n",
    "import syft as sy\n",
    "from syft.service.settings.settings import NodeSettingsUpdate\n",
    "from syft.service.worker.worker_image import SyftWorkerImage\n",
    "\n",
    "from getpass import getpass  # noqa"
   ]
  },
  {
   "cell_type": "code",
   "execution_count": 2,
   "id": "3",
   "metadata": {},
   "outputs": [],
   "source": [
    "os.environ[\"ORCHESTRA_DEPLOYMENT_TYPE\"] = \"k8s\"\n",
    "os.environ[\"DEV_MODE\"] = \"True\""
   ]
  },
  {
   "cell_type": "code",
   "execution_count": 3,
   "id": "4",
   "metadata": {},
   "outputs": [
    {
     "ename": "ConnectionError",
     "evalue": "Failed to fetch http://localhost:8080/api/v2/metadata. Response returned with code 502",
     "output_type": "error",
     "traceback": [
      "\u001b[0;31m---------------------------------------------------------------------------\u001b[0m",
      "\u001b[0;31mConnectionError\u001b[0m                           Traceback (most recent call last)",
      "Cell \u001b[0;32mIn[3], line 1\u001b[0m\n\u001b[0;32m----> 1\u001b[0m domain_client \u001b[38;5;241m=\u001b[39m \u001b[43msy\u001b[49m\u001b[38;5;241;43m.\u001b[39;49m\u001b[43mlogin\u001b[49m\u001b[43m(\u001b[49m\u001b[43memail\u001b[49m\u001b[38;5;241;43m=\u001b[39;49m\u001b[38;5;124;43m\"\u001b[39;49m\u001b[38;5;124;43minfo@openmined.org\u001b[39;49m\u001b[38;5;124;43m\"\u001b[39;49m\u001b[43m,\u001b[49m\u001b[43m \u001b[49m\u001b[43mpassword\u001b[49m\u001b[38;5;241;43m=\u001b[39;49m\u001b[38;5;124;43m\"\u001b[39;49m\u001b[38;5;124;43mchangethis\u001b[39;49m\u001b[38;5;124;43m\"\u001b[39;49m\u001b[43m,\u001b[49m\u001b[43m \u001b[49m\u001b[43mport\u001b[49m\u001b[38;5;241;43m=\u001b[39;49m\u001b[38;5;241;43m8080\u001b[39;49m\u001b[43m)\u001b[49m\n",
      "File \u001b[0;32m~/workspace/PySyft/packages/syft/src/syft/client/client.py:1264\u001b[0m, in \u001b[0;36mlogin\u001b[0;34m(email, url, port, node, vld_forward_proxy, vld_reverse_proxy, vld_key, password, cache)\u001b[0m\n\u001b[1;32m   1249\u001b[0m \u001b[38;5;129m@instrument\u001b[39m\n\u001b[1;32m   1250\u001b[0m \u001b[38;5;28;01mdef\u001b[39;00m \u001b[38;5;21mlogin\u001b[39m(\n\u001b[1;32m   1251\u001b[0m     email: \u001b[38;5;28mstr\u001b[39m,\n\u001b[0;32m   (...)\u001b[0m\n\u001b[1;32m   1262\u001b[0m     cache: \u001b[38;5;28mbool\u001b[39m \u001b[38;5;241m=\u001b[39m \u001b[38;5;28;01mTrue\u001b[39;00m,\n\u001b[1;32m   1263\u001b[0m ) \u001b[38;5;241m-\u001b[39m\u001b[38;5;241m>\u001b[39m SyftClient:\n\u001b[0;32m-> 1264\u001b[0m     _client \u001b[38;5;241m=\u001b[39m \u001b[43mconnect\u001b[49m\u001b[43m(\u001b[49m\n\u001b[1;32m   1265\u001b[0m \u001b[43m        \u001b[49m\u001b[43murl\u001b[49m\u001b[38;5;241;43m=\u001b[39;49m\u001b[43murl\u001b[49m\u001b[43m,\u001b[49m\n\u001b[1;32m   1266\u001b[0m \u001b[43m        \u001b[49m\u001b[43mnode\u001b[49m\u001b[38;5;241;43m=\u001b[39;49m\u001b[43mnode\u001b[49m\u001b[43m,\u001b[49m\n\u001b[1;32m   1267\u001b[0m \u001b[43m        \u001b[49m\u001b[43mport\u001b[49m\u001b[38;5;241;43m=\u001b[39;49m\u001b[43mport\u001b[49m\u001b[43m,\u001b[49m\n\u001b[1;32m   1268\u001b[0m \u001b[43m        \u001b[49m\u001b[43mvld_forward_proxy\u001b[49m\u001b[38;5;241;43m=\u001b[39;49m\u001b[43mvld_forward_proxy\u001b[49m\u001b[43m,\u001b[49m\n\u001b[1;32m   1269\u001b[0m \u001b[43m        \u001b[49m\u001b[43mvld_reverse_proxy\u001b[49m\u001b[38;5;241;43m=\u001b[39;49m\u001b[43mvld_reverse_proxy\u001b[49m\u001b[43m,\u001b[49m\n\u001b[1;32m   1270\u001b[0m \u001b[43m        \u001b[49m\u001b[43mvld_key\u001b[49m\u001b[38;5;241;43m=\u001b[39;49m\u001b[43mvld_key\u001b[49m\u001b[43m,\u001b[49m\n\u001b[1;32m   1271\u001b[0m \u001b[43m    \u001b[49m\u001b[43m)\u001b[49m\n\u001b[1;32m   1273\u001b[0m     \u001b[38;5;28;01mif\u001b[39;00m \u001b[38;5;28misinstance\u001b[39m(_client, SyftError):\n\u001b[1;32m   1274\u001b[0m         \u001b[38;5;28;01mreturn\u001b[39;00m _client\n",
      "File \u001b[0;32m~/workspace/PySyft/packages/syft/src/syft/client/client.py:1187\u001b[0m, in \u001b[0;36mconnect\u001b[0;34m(url, node, port, vld_forward_proxy, vld_reverse_proxy, vld_key)\u001b[0m\n\u001b[1;32m   1184\u001b[0m         url\u001b[38;5;241m.\u001b[39mset_port(\u001b[38;5;28mint\u001b[39m(port))\n\u001b[1;32m   1185\u001b[0m     connection \u001b[38;5;241m=\u001b[39m HTTPConnection(url\u001b[38;5;241m=\u001b[39murl)\n\u001b[0;32m-> 1187\u001b[0m client_type \u001b[38;5;241m=\u001b[39m \u001b[43mconnection\u001b[49m\u001b[38;5;241;43m.\u001b[39;49m\u001b[43mget_client_type\u001b[49m\u001b[43m(\u001b[49m\u001b[43m)\u001b[49m\n\u001b[1;32m   1189\u001b[0m \u001b[38;5;28;01mif\u001b[39;00m \u001b[38;5;28misinstance\u001b[39m(client_type, SyftError):\n\u001b[1;32m   1190\u001b[0m     \u001b[38;5;28;01mreturn\u001b[39;00m client_type\n",
      "File \u001b[0;32m~/workspace/PySyft/packages/syft/src/syft/client/client.py:322\u001b[0m, in \u001b[0;36mHTTPConnection.get_client_type\u001b[0;34m(self)\u001b[0m\n\u001b[1;32m    319\u001b[0m \u001b[38;5;28;01mfrom\u001b[39;00m \u001b[38;5;21;01m.\u001b[39;00m\u001b[38;5;21;01menclave_client\u001b[39;00m \u001b[38;5;28;01mimport\u001b[39;00m EnclaveClient\n\u001b[1;32m    320\u001b[0m \u001b[38;5;28;01mfrom\u001b[39;00m \u001b[38;5;21;01m.\u001b[39;00m\u001b[38;5;21;01mgateway_client\u001b[39;00m \u001b[38;5;28;01mimport\u001b[39;00m GatewayClient\n\u001b[0;32m--> 322\u001b[0m metadata \u001b[38;5;241m=\u001b[39m \u001b[38;5;28;43mself\u001b[39;49m\u001b[38;5;241;43m.\u001b[39;49m\u001b[43mget_node_metadata\u001b[49m\u001b[43m(\u001b[49m\u001b[43mcredentials\u001b[49m\u001b[38;5;241;43m=\u001b[39;49m\u001b[43mSyftSigningKey\u001b[49m\u001b[38;5;241;43m.\u001b[39;49m\u001b[43mgenerate\u001b[49m\u001b[43m(\u001b[49m\u001b[43m)\u001b[49m\u001b[43m)\u001b[49m\n\u001b[1;32m    323\u001b[0m \u001b[38;5;28;01mif\u001b[39;00m metadata\u001b[38;5;241m.\u001b[39mnode_type \u001b[38;5;241m==\u001b[39m NodeType\u001b[38;5;241m.\u001b[39mDOMAIN\u001b[38;5;241m.\u001b[39mvalue:\n\u001b[1;32m    324\u001b[0m     \u001b[38;5;28;01mreturn\u001b[39;00m DomainClient\n",
      "File \u001b[0;32m~/workspace/PySyft/packages/syft/src/syft/client/client.py:224\u001b[0m, in \u001b[0;36mHTTPConnection.get_node_metadata\u001b[0;34m(self, credentials)\u001b[0m\n\u001b[1;32m    222\u001b[0m     \u001b[38;5;28;01mreturn\u001b[39;00m response\n\u001b[1;32m    223\u001b[0m \u001b[38;5;28;01melse\u001b[39;00m:\n\u001b[0;32m--> 224\u001b[0m     response \u001b[38;5;241m=\u001b[39m \u001b[38;5;28;43mself\u001b[39;49m\u001b[38;5;241;43m.\u001b[39;49m\u001b[43m_make_get\u001b[49m\u001b[43m(\u001b[49m\u001b[38;5;28;43mself\u001b[39;49m\u001b[38;5;241;43m.\u001b[39;49m\u001b[43mroutes\u001b[49m\u001b[38;5;241;43m.\u001b[39;49m\u001b[43mROUTE_METADATA\u001b[49m\u001b[38;5;241;43m.\u001b[39;49m\u001b[43mvalue\u001b[49m\u001b[43m)\u001b[49m\n\u001b[1;32m    225\u001b[0m     metadata_json \u001b[38;5;241m=\u001b[39m json\u001b[38;5;241m.\u001b[39mloads(response)\n\u001b[1;32m    226\u001b[0m     \u001b[38;5;28;01mreturn\u001b[39;00m NodeMetadataJSON(\u001b[38;5;241m*\u001b[39m\u001b[38;5;241m*\u001b[39mmetadata_json)\n",
      "File \u001b[0;32m~/workspace/PySyft/packages/syft/src/syft/client/client.py:185\u001b[0m, in \u001b[0;36mHTTPConnection._make_get\u001b[0;34m(self, path, params)\u001b[0m\n\u001b[1;32m    181\u001b[0m response \u001b[38;5;241m=\u001b[39m \u001b[38;5;28mself\u001b[39m\u001b[38;5;241m.\u001b[39msession\u001b[38;5;241m.\u001b[39mget(\n\u001b[1;32m    182\u001b[0m     \u001b[38;5;28mstr\u001b[39m(url), verify\u001b[38;5;241m=\u001b[39mverify_tls(), proxies\u001b[38;5;241m=\u001b[39m{}, params\u001b[38;5;241m=\u001b[39mparams\n\u001b[1;32m    183\u001b[0m )\n\u001b[1;32m    184\u001b[0m \u001b[38;5;28;01mif\u001b[39;00m response\u001b[38;5;241m.\u001b[39mstatus_code \u001b[38;5;241m!=\u001b[39m \u001b[38;5;241m200\u001b[39m:\n\u001b[0;32m--> 185\u001b[0m     \u001b[38;5;28;01mraise\u001b[39;00m requests\u001b[38;5;241m.\u001b[39mConnectionError(\n\u001b[1;32m    186\u001b[0m         \u001b[38;5;124mf\u001b[39m\u001b[38;5;124m\"\u001b[39m\u001b[38;5;124mFailed to fetch \u001b[39m\u001b[38;5;132;01m{\u001b[39;00murl\u001b[38;5;132;01m}\u001b[39;00m\u001b[38;5;124m. Response returned with code \u001b[39m\u001b[38;5;132;01m{\u001b[39;00mresponse\u001b[38;5;241m.\u001b[39mstatus_code\u001b[38;5;132;01m}\u001b[39;00m\u001b[38;5;124m\"\u001b[39m\n\u001b[1;32m    187\u001b[0m     )\n\u001b[1;32m    189\u001b[0m \u001b[38;5;66;03m# upgrade to tls if available\u001b[39;00m\n\u001b[1;32m    190\u001b[0m \u001b[38;5;28mself\u001b[39m\u001b[38;5;241m.\u001b[39murl \u001b[38;5;241m=\u001b[39m upgrade_tls(\u001b[38;5;28mself\u001b[39m\u001b[38;5;241m.\u001b[39murl, response)\n",
      "\u001b[0;31mConnectionError\u001b[0m: Failed to fetch http://localhost:8080/api/v2/metadata. Response returned with code 502"
     ]
    }
   ],
   "source": [
    "domain_client = sy.login(email=\"info@openmined.org\", password=\"changethis\", port=8080)"
   ]
  },
  {
   "cell_type": "code",
   "execution_count": null,
   "id": "5",
   "metadata": {},
   "outputs": [],
   "source": [
    "domain_client.worker_pools"
   ]
  },
  {
   "cell_type": "markdown",
   "id": "6",
   "metadata": {},
   "source": [
    "## Register a custom Image"
   ]
  },
  {
   "cell_type": "code",
   "execution_count": null,
   "id": "7",
   "metadata": {},
   "outputs": [],
   "source": [
    "registry = os.getenv(\"SYFT_BASE_IMAGE_REGISTRY\", \"k3d-registry.localhost:5800\")\n",
    "repo = \"openmined/grid-backend\"\n",
    "\n",
    "if \"k3d\" in registry:\n",
    "    res = requests.get(url=f\"http://{registry}/v2/{repo}/tags/list\")\n",
    "    tag = res.json()[\"tags\"][0]\n",
    "else:\n",
    "    tag = sy.__version__"
   ]
  },
  {
   "cell_type": "code",
   "execution_count": 4,
   "id": "8",
   "metadata": {},
   "outputs": [
    {
     "ename": "NameError",
     "evalue": "name 'registry' is not defined",
     "output_type": "error",
     "traceback": [
      "\u001b[0;31m---------------------------------------------------------------------------\u001b[0m",
      "\u001b[0;31mNameError\u001b[0m                                 Traceback (most recent call last)",
      "Cell \u001b[0;32mIn[4], line 2\u001b[0m\n\u001b[1;32m      1\u001b[0m custom_dockerfile_str \u001b[38;5;241m=\u001b[39m \u001b[38;5;124mf\u001b[39m\u001b[38;5;124m\"\"\"\u001b[39m\n\u001b[0;32m----> 2\u001b[0m \u001b[38;5;124mFROM \u001b[39m\u001b[38;5;132;01m{\u001b[39;00m\u001b[43mregistry\u001b[49m\u001b[38;5;132;01m}\u001b[39;00m\u001b[38;5;124m/\u001b[39m\u001b[38;5;132;01m{\u001b[39;00mrepo\u001b[38;5;132;01m}\u001b[39;00m\u001b[38;5;124m:\u001b[39m\u001b[38;5;132;01m{\u001b[39;00mtag\u001b[38;5;132;01m}\u001b[39;00m\n\u001b[1;32m      3\u001b[0m \n\u001b[1;32m      4\u001b[0m \u001b[38;5;124mRUN pip install google-cloud-bigquery db_dtypes\u001b[39m\n\u001b[1;32m      5\u001b[0m \n\u001b[1;32m      6\u001b[0m \u001b[38;5;124m\"\"\"\u001b[39m\u001b[38;5;241m.\u001b[39mstrip()\n",
      "\u001b[0;31mNameError\u001b[0m: name 'registry' is not defined"
     ]
    }
   ],
   "source": [
    "custom_dockerfile_str = f\"\"\"\n",
    "FROM {registry}/{repo}:{tag}\n",
    "\n",
    "RUN pip install google-cloud-bigquery db_dtypes\n",
    "\n",
    "\"\"\".strip()"
   ]
  },
  {
   "cell_type": "code",
   "execution_count": null,
   "id": "9",
   "metadata": {},
   "outputs": [],
   "source": [
    "print(custom_dockerfile_str)"
   ]
  },
  {
   "cell_type": "code",
   "execution_count": null,
   "id": "10",
   "metadata": {},
   "outputs": [],
   "source": [
    "docker_config = sy.DockerWorkerConfig(dockerfile=custom_dockerfile_str)"
   ]
  },
  {
   "cell_type": "code",
   "execution_count": null,
   "id": "11",
   "metadata": {},
   "outputs": [],
   "source": [
    "submit_result = domain_client.api.services.worker_image.submit_dockerfile(\n",
    "    docker_config=docker_config\n",
    ")\n",
    "submit_result"
   ]
  },
  {
   "cell_type": "code",
   "execution_count": null,
   "id": "12",
   "metadata": {},
   "outputs": [],
   "source": [
    "dockerfile_list = domain_client.images.get_all()\n",
    "dockerfile_list"
   ]
  },
  {
   "cell_type": "code",
   "execution_count": null,
   "id": "13",
   "metadata": {},
   "outputs": [],
   "source": [
    "workerimage = next(\n",
    "    (\n",
    "        image\n",
    "        for image in dockerfile_list\n",
    "        if not image.is_prebuilt and image.config.dockerfile == custom_dockerfile_str\n",
    "    ),\n",
    "    None,\n",
    ")\n",
    "\n",
    "assert isinstance(workerimage, SyftWorkerImage), str(workerimage)\n",
    "workerimage"
   ]
  },
  {
   "cell_type": "code",
   "execution_count": null,
   "id": "14",
   "metadata": {},
   "outputs": [],
   "source": [
    "external_registry = os.getenv(\"EXTERNAL_REGISTRY\", \"k3d-registry.localhost:5800\")\n",
    "external_registry_username = os.getenv(\"EXTERNAL_REGISTRY_USERNAME\", None)\n",
    "external_registry_password = os.getenv(\"EXTERNAL_REGISTRY_PASSWORD\", None)"
   ]
  },
  {
   "cell_type": "code",
   "execution_count": null,
   "id": "15",
   "metadata": {},
   "outputs": [],
   "source": [
    "docker_tag = \"openmined/custom-worker:0.7.8\""
   ]
  },
  {
   "cell_type": "code",
   "execution_count": null,
   "id": "16",
   "metadata": {},
   "outputs": [],
   "source": [
    "registry_add_result = domain_client.api.services.image_registry.add(\n",
    "    \"k3d-registry.localhost:5800\"\n",
    ")\n",
    "registry_add_result\n",
    "\n",
    "image_registry_list = domain_client.api.services.image_registry.get_all()\n",
    "image_registry_list\n",
    "\n",
    "local_registry = image_registry_list[0]\n",
    "local_registry\n",
    "\n",
    "local_registry = domain_client.api.services.image_registry.get_all()[0]\n",
    "registry_uid = local_registry.id\n",
    "\n",
    "# build with registry_uid\n",
    "docker_build_result = domain_client.api.services.worker_image.build(\n",
    "    image_uid=workerimage.id,\n",
    "    tag=docker_tag,\n",
    "    registry_uid=registry_uid,\n",
    ")\n",
    "docker_build_result"
   ]
  },
  {
   "cell_type": "code",
   "execution_count": null,
   "id": "17",
   "metadata": {},
   "outputs": [],
   "source": [
    "image_list = domain_client.images.get_all()\n",
    "# we can also index with string using the repo_with_tag format\n",
    "workerimage = next((image for image in image_list if image.id == workerimage.id), None)\n",
    "assert workerimage is not None, str([image.__dict__ for image in image_list])\n",
    "assert workerimage.is_built is not None, str(workerimage)\n",
    "assert workerimage.built_at is not None, str(workerimage)\n",
    "assert workerimage.image_hash is not None, str(workerimage)\n",
    "assert image_list[workerimage.built_image_tag] == workerimage"
   ]
  },
  {
   "cell_type": "code",
   "execution_count": null,
   "id": "18",
   "metadata": {},
   "outputs": [],
   "source": [
    "domain_client.api.services.worker_image.push(\n",
    "    workerimage.id,\n",
    "    username=\"admin\",\n",
    "    password=\"admin\",\n",
    ")"
   ]
  },
  {
   "cell_type": "code",
   "execution_count": null,
   "id": "19",
   "metadata": {},
   "outputs": [],
   "source": [
    "worker_pool_name = \"custom-pool\"\n",
    "domain_client.api.services.worker_pool.launch(\n",
    "    name=worker_pool_name,\n",
    "    image_uid=workerimage.id,\n",
    "    num_workers=3,\n",
    "    reg_username=\"admin\",\n",
    "    reg_password=\"admin\",\n",
    ")"
   ]
  },
  {
   "cell_type": "code",
   "execution_count": null,
   "id": "20",
   "metadata": {},
   "outputs": [],
   "source": [
    "new_default_worker_pool = NodeSettingsUpdate(default_worker_pool=\"custom-pool\")\n",
    "domain_client.settings.update(settings=new_default_worker_pool)"
   ]
  },
  {
   "cell_type": "code",
   "execution_count": null,
   "id": "21",
   "metadata": {},
   "outputs": [],
   "source": [
    "@sy.mock_api_endpoint(settings={\"Hello\": \"Public\"})\n",
    "def public_function(\n",
    "    context,\n",
    ") -> str:\n",
    "    return \"Public Function Execution\"\n",
    "\n",
    "\n",
    "@sy.private_api_endpoint(settings={\"Hello\": \"Private\"})\n",
    "def private_function(\n",
    "    context,\n",
    ") -> str:\n",
    "    # =============== Custom Import ===============\n",
    "    # third party\n",
    "\n",
    "    return \"If this works, is because it's running in custom-pool\"\n",
    "\n",
    "\n",
    "new_endpoint = sy.TwinAPIEndpoint(\n",
    "    path=\"first.query\",\n",
    "    mock_function=public_function,\n",
    "    private_function=private_function,\n",
    "    description=\"Lore ipsulum ...\",\n",
    ")\n",
    "\n",
    "# # Add it to the node.\n",
    "response = domain_client.api.services.api.add(endpoint=new_endpoint)"
   ]
  },
  {
   "cell_type": "code",
   "execution_count": null,
   "id": "22",
   "metadata": {},
   "outputs": [],
   "source": [
    "domain_client.refresh()"
   ]
  },
  {
   "cell_type": "code",
   "execution_count": null,
   "id": "23",
   "metadata": {},
   "outputs": [],
   "source": [
    "@sy.syft_function_single_use(\n",
    "    endpoint=domain_client.api.services.first.query,\n",
    ")\n",
    "def job_function(endpoint):\n",
    "    return endpoint()\n",
    "\n",
    "\n",
    "new_project = sy.Project(\n",
    "    name=\"My Cool UN Project\",\n",
    "    description=\"Hi, I want to calculate the trade volume in million's with my cool code.\",\n",
    "    members=[domain_client],\n",
    ")\n",
    "\n",
    "result = new_project.create_code_request(job_function, domain_client)\n",
    "domain_client.requests[-1].approve()"
   ]
  },
  {
   "cell_type": "code",
   "execution_count": null,
   "id": "24",
   "metadata": {},
   "outputs": [],
   "source": [
    "domain_client.settings.get().default_worker_pool"
   ]
  },
  {
   "cell_type": "code",
   "execution_count": null,
   "id": "25",
   "metadata": {},
   "outputs": [],
   "source": [
    "domain_client.code.job_function(\n",
    "    endpoint=domain_client.api.services.first.query, blocking=False\n",
    ")"
   ]
  },
  {
   "cell_type": "code",
   "execution_count": null,
   "id": "26",
   "metadata": {},
   "outputs": [],
   "source": [
    "domain_client.jobs[0].result"
   ]
  }
 ],
 "metadata": {
  "kernelspec": {
   "display_name": "Python 3 (ipykernel)",
   "language": "python",
   "name": "python3"
  },
  "language_info": {
   "codemirror_mode": {
    "name": "ipython",
    "version": 3
   },
   "file_extension": ".py",
   "mimetype": "text/x-python",
   "name": "python",
   "nbconvert_exporter": "python",
   "pygments_lexer": "ipython3",
   "version": "3.11.0rc1"
  }
 },
 "nbformat": 4,
 "nbformat_minor": 5
}
