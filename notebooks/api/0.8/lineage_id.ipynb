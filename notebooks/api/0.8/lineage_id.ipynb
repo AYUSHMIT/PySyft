{
 "cells": [
  {
   "cell_type": "code",
   "execution_count": null,
   "id": "322abe13-a0d5-4d9a-9500-167304cd0906",
   "metadata": {
    "tags": []
   },
   "outputs": [],
   "source": [
    "import numpy as np"
   ]
  },
  {
   "cell_type": "code",
   "execution_count": null,
   "id": "065ed366-ddd8-4e3d-9cdc-ac36c3b97161",
   "metadata": {
    "tags": []
   },
   "outputs": [],
   "source": [
    "import syft as sy\n",
    "from syft.core.node.new.action_object import ActionDataEmpty"
   ]
  },
  {
   "cell_type": "code",
   "execution_count": null,
   "id": "ab24861b-5ce0-40db-a05e-caad1eddfed0",
   "metadata": {
    "tags": []
   },
   "outputs": [],
   "source": [
    "data1 = sy.ActionObject.from_obj(syft_action_data=2 * np.random.rand(10, 10) - 1)\n",
    "empty1 = sy.ActionObject.from_obj(syft_action_data=ActionDataEmpty(syft_internal_type=np.ndarray))\n",
    "empty1.id=data1.id"
   ]
  },
  {
   "cell_type": "code",
   "execution_count": null,
   "id": "ebe8740d-7229-4b53-aeed-1302bc943780",
   "metadata": {
    "tags": []
   },
   "outputs": [],
   "source": [
    "empty1.syft_internal_type"
   ]
  },
  {
   "cell_type": "code",
   "execution_count": null,
   "id": "9a3ae4ad-882a-4965-87f9-d0b494b08831",
   "metadata": {
    "tags": []
   },
   "outputs": [],
   "source": [
    "result3 = data1 + data1"
   ]
  },
  {
   "cell_type": "code",
   "execution_count": null,
   "id": "74f6baf7-aeb1-4446-a259-f01b24930823",
   "metadata": {
    "tags": []
   },
   "outputs": [],
   "source": [
    "result3.id"
   ]
  },
  {
   "cell_type": "code",
   "execution_count": null,
   "id": "087e8fb7-2087-4c99-adec-2c8af0a471ce",
   "metadata": {
    "tags": []
   },
   "outputs": [],
   "source": [
    "l = data1.syft_lineage_id\n",
    "l"
   ]
  },
  {
   "cell_type": "code",
   "execution_count": null,
   "id": "89cafaa6-aff1-4c82-a1b6-cbdf76e9a973",
   "metadata": {
    "tags": []
   },
   "outputs": [],
   "source": [
    "l.value"
   ]
  },
  {
   "cell_type": "code",
   "execution_count": null,
   "id": "452dc087-0d10-486f-b06e-6fd2da331fe7",
   "metadata": {
    "tags": []
   },
   "outputs": [],
   "source": [
    "l.syft_history_hash"
   ]
  },
  {
   "cell_type": "code",
   "execution_count": null,
   "id": "c511e463-ac33-443f-8b12-2e2a587aa614",
   "metadata": {
    "tags": []
   },
   "outputs": [],
   "source": [
    "result4 = data1 + data1"
   ]
  },
  {
   "cell_type": "code",
   "execution_count": null,
   "id": "8fa00714-3a5d-456a-82a3-48dd38d49795",
   "metadata": {
    "tags": []
   },
   "outputs": [],
   "source": []
  },
  {
   "cell_type": "code",
   "execution_count": null,
   "id": "bd00eac7-fbc0-43f9-b13b-616e2dd37922",
   "metadata": {
    "tags": []
   },
   "outputs": [],
   "source": [
    "result3.syft_history_hash"
   ]
  },
  {
   "cell_type": "code",
   "execution_count": null,
   "id": "e3e2c702-e9c6-4a56-9d96-953ff96dbd9f",
   "metadata": {
    "tags": []
   },
   "outputs": [],
   "source": [
    "result4.syft_history_hash"
   ]
  },
  {
   "cell_type": "code",
   "execution_count": null,
   "id": "d42c1b55-d73d-4b79-9d3f-02ca52be074e",
   "metadata": {
    "tags": []
   },
   "outputs": [],
   "source": [
    "result3.id"
   ]
  },
  {
   "cell_type": "code",
   "execution_count": null,
   "id": "2ad2b7ab-24df-482c-a16b-83ac48f0b6f2",
   "metadata": {
    "tags": []
   },
   "outputs": [],
   "source": [
    "result4.id"
   ]
  },
  {
   "cell_type": "code",
   "execution_count": null,
   "id": "85af45fa-7db5-4cf5-8bd2-3e995fb18a78",
   "metadata": {
    "tags": []
   },
   "outputs": [],
   "source": [
    "assert result3.syft_history_hash == result4.syft_history_hash"
   ]
  },
  {
   "cell_type": "code",
   "execution_count": null,
   "id": "73a503f9-faba-4c49-a6c2-65e7a15c8f9e",
   "metadata": {
    "tags": []
   },
   "outputs": [],
   "source": [
    "result3.id"
   ]
  },
  {
   "cell_type": "code",
   "execution_count": null,
   "id": "0b41c2b5-1a6b-444e-b18e-71828b05b648",
   "metadata": {},
   "outputs": [],
   "source": []
  },
  {
   "cell_type": "code",
   "execution_count": null,
   "id": "bcb5bd70-1e71-44e1-9720-ad09c30ec9d2",
   "metadata": {
    "tags": []
   },
   "outputs": [],
   "source": [
    "left = result3 + data1"
   ]
  },
  {
   "cell_type": "code",
   "execution_count": null,
   "id": "0fbd1efe-77f3-4ad3-b291-516150fe71ae",
   "metadata": {
    "tags": []
   },
   "outputs": [],
   "source": [
    "right = result4 + data1"
   ]
  },
  {
   "cell_type": "code",
   "execution_count": null,
   "id": "121a09ae-940e-4f9a-8b36-7e080be14f70",
   "metadata": {
    "tags": []
   },
   "outputs": [],
   "source": [
    "left.id"
   ]
  },
  {
   "cell_type": "code",
   "execution_count": null,
   "id": "5f96aa0f-dcb4-4f55-aa34-ef9cad9bf055",
   "metadata": {
    "tags": []
   },
   "outputs": [],
   "source": [
    "right.id"
   ]
  },
  {
   "cell_type": "code",
   "execution_count": null,
   "id": "4c14b2a5-b66a-498e-a945-3918c7de0b8e",
   "metadata": {
    "tags": []
   },
   "outputs": [],
   "source": []
  },
  {
   "cell_type": "code",
   "execution_count": null,
   "id": "88c766a3-9893-4f65-a4db-05dd55531423",
   "metadata": {
    "tags": []
   },
   "outputs": [],
   "source": [
    "left.syft_history_hash"
   ]
  },
  {
   "cell_type": "code",
   "execution_count": null,
   "id": "15f88363-2437-4d09-87da-bd9d95ad5c03",
   "metadata": {
    "tags": []
   },
   "outputs": [],
   "source": [
    "right.syft_history_hash"
   ]
  },
  {
   "cell_type": "code",
   "execution_count": null,
   "id": "95ececa3-f6f3-4930-ace4-6ddb97165427",
   "metadata": {
    "tags": []
   },
   "outputs": [],
   "source": [
    "assert left.syft_history_hash == right.syft_history_hash"
   ]
  }
 ],
 "metadata": {
  "kernelspec": {
   "display_name": "Python 3 (ipykernel)",
   "language": "python",
   "name": "python3"
  },
  "language_info": {
   "codemirror_mode": {
    "name": "ipython",
    "version": 3
   },
   "file_extension": ".py",
   "mimetype": "text/x-python",
   "name": "python",
   "nbconvert_exporter": "python",
   "pygments_lexer": "ipython3",
   "version": "3.10.9"
  }
 },
 "nbformat": 4,
 "nbformat_minor": 5
}
