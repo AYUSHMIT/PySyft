{
 "cells": [
  {
   "cell_type": "code",
   "execution_count": null,
   "id": "322abe13-a0d5-4d9a-9500-167304cd0906",
   "metadata": {
    "tags": []
   },
   "outputs": [],
   "source": [
    "import numpy as np"
   ]
  },
  {
   "cell_type": "code",
   "execution_count": null,
   "id": "065ed366-ddd8-4e3d-9cdc-ac36c3b97161",
   "metadata": {
    "tags": []
   },
   "outputs": [],
   "source": [
    "import syft as sy\n",
    "from syft.core.node.new.action_object import ActionDataEmpty\n",
    "from syft.core.node.new.numpy import NumpyArrayObject"
   ]
  },
  {
   "cell_type": "code",
   "execution_count": null,
   "id": "a7b93d58-21bd-46d7-a48d-4b3f3677cea3",
   "metadata": {
    "tags": []
   },
   "outputs": [],
   "source": [
    "data1 = NumpyArrayObject(syft_action_data=2 * np.random.rand(10, 10) - 1)\n",
    "data1 = sy.ActionObject.from_obj(syft_action_data=2 * np.random.rand(10, 10) - 1)"
   ]
  },
  {
   "cell_type": "code",
   "execution_count": null,
   "id": "55ce35d7-afd4-4288-bb3f-ceeb23e776dd",
   "metadata": {},
   "outputs": [],
   "source": [
    "data1.syft_internal_type"
   ]
  },
  {
   "cell_type": "code",
   "execution_count": null,
   "id": "9949d0bf-7e69-4db7-80d6-69bd9271d655",
   "metadata": {
    "tags": []
   },
   "outputs": [],
   "source": [
    "empty1 = NumpyArrayObject(syft_action_data=ActionDataEmpty(), id=data1.id)"
   ]
  },
  {
   "cell_type": "code",
   "execution_count": null,
   "id": "35fa8ead-fb24-4745-8f54-fab753df36e5",
   "metadata": {
    "tags": []
   },
   "outputs": [],
   "source": [
    "empty1"
   ]
  },
  {
   "cell_type": "code",
   "execution_count": null,
   "id": "ecfde7b8-72a1-4cb1-8df0-c52b9048300e",
   "metadata": {
    "tags": []
   },
   "outputs": [],
   "source": [
    "empty1.syft_history_hash"
   ]
  },
  {
   "cell_type": "code",
   "execution_count": null,
   "id": "f31ac237-1110-4851-98b7-ce13053ef87c",
   "metadata": {
    "tags": []
   },
   "outputs": [],
   "source": [
    "data1.syft_history_hash"
   ]
  },
  {
   "cell_type": "code",
   "execution_count": null,
   "id": "12a4c2dd-2c5f-4f27-971b-fb576e5d1503",
   "metadata": {
    "tags": []
   },
   "outputs": [],
   "source": [
    "res = empty1 + empty1"
   ]
  },
  {
   "cell_type": "code",
   "execution_count": null,
   "id": "ab24861b-5ce0-40db-a05e-caad1eddfed0",
   "metadata": {
    "tags": []
   },
   "outputs": [],
   "source": [
    "res"
   ]
  },
  {
   "cell_type": "code",
   "execution_count": null,
   "id": "83fa6896-54d5-414a-9c99-f788d0c01cc0",
   "metadata": {
    "tags": []
   },
   "outputs": [],
   "source": [
    "res.id"
   ]
  },
  {
   "cell_type": "code",
   "execution_count": null,
   "id": "aefe8736-ddd3-4eef-9e86-dc13a178672a",
   "metadata": {
    "tags": []
   },
   "outputs": [],
   "source": [
    "res.syft_history_hash"
   ]
  },
  {
   "cell_type": "code",
   "execution_count": null,
   "id": "ccb88e41-e2be-48ab-afab-2e077cbd1903",
   "metadata": {},
   "outputs": [],
   "source": []
  },
  {
   "cell_type": "code",
   "execution_count": null,
   "id": "6f05e745-7e0c-4d61-944c-66e655daed3c",
   "metadata": {
    "tags": []
   },
   "outputs": [],
   "source": [
    "res2 = data1 + data1"
   ]
  },
  {
   "cell_type": "code",
   "execution_count": null,
   "id": "1b8e053e-0689-4323-aca8-ab5afee2e30a",
   "metadata": {
    "tags": []
   },
   "outputs": [],
   "source": [
    "res2.id"
   ]
  },
  {
   "cell_type": "code",
   "execution_count": null,
   "id": "fd8d1c6d-740b-4ad5-ba82-fb177f68a0c0",
   "metadata": {
    "tags": []
   },
   "outputs": [],
   "source": [
    "res2.syft_history_hash"
   ]
  },
  {
   "cell_type": "code",
   "execution_count": null,
   "id": "909124c2-f6bc-4e03-97fc-dc3d1f7b7b44",
   "metadata": {
    "tags": []
   },
   "outputs": [],
   "source": [
    "assert res.syft_history_hash == res2.syft_history_hash"
   ]
  },
  {
   "cell_type": "code",
   "execution_count": null,
   "id": "45a46ba3-e0d6-47a6-b341-e98dd7ffc49d",
   "metadata": {},
   "outputs": [],
   "source": []
  },
  {
   "cell_type": "code",
   "execution_count": null,
   "id": "d6d4032f-fa71-4a2e-8a96-ec7bd39edd8d",
   "metadata": {},
   "outputs": [],
   "source": []
  },
  {
   "cell_type": "code",
   "execution_count": null,
   "id": "4cb093b9-58a8-4be5-91c9-46d00c3a7be6",
   "metadata": {
    "tags": []
   },
   "outputs": [],
   "source": [
    "res.syft_action_data"
   ]
  },
  {
   "cell_type": "code",
   "execution_count": null,
   "id": "44ac266a-0e4b-4887-aba3-4b7df8470a24",
   "metadata": {
    "tags": []
   },
   "outputs": [],
   "source": [
    "left = res + data1"
   ]
  },
  {
   "cell_type": "code",
   "execution_count": null,
   "id": "d68e987d-1628-44e0-80ca-6b4281e0c0cb",
   "metadata": {
    "tags": []
   },
   "outputs": [],
   "source": [
    "left.id"
   ]
  },
  {
   "cell_type": "code",
   "execution_count": null,
   "id": "d3d19c2e-0dc5-4160-9d4d-8b27bc5ba157",
   "metadata": {
    "tags": []
   },
   "outputs": [],
   "source": [
    "left.syft_history_hash"
   ]
  },
  {
   "cell_type": "code",
   "execution_count": null,
   "id": "8fa00714-3a5d-456a-82a3-48dd38d49795",
   "metadata": {
    "tags": []
   },
   "outputs": [],
   "source": [
    "right = res2 + data1"
   ]
  },
  {
   "cell_type": "code",
   "execution_count": null,
   "id": "75d402e5-a305-4d4d-8540-1f116529b922",
   "metadata": {
    "tags": []
   },
   "outputs": [],
   "source": [
    "right.id"
   ]
  },
  {
   "cell_type": "code",
   "execution_count": null,
   "id": "88632d06-ad2e-4b1b-8dc7-779bf6d8d15a",
   "metadata": {
    "tags": []
   },
   "outputs": [],
   "source": [
    "right.syft_history_hash"
   ]
  },
  {
   "cell_type": "code",
   "execution_count": null,
   "id": "e2b12caa-2804-433e-bd91-aa7b6cfd5f53",
   "metadata": {
    "tags": []
   },
   "outputs": [],
   "source": [
    "assert left.syft_history_hash == right.syft_history_hash"
   ]
  },
  {
   "cell_type": "code",
   "execution_count": null,
   "id": "71a459d8-314d-4d4c-b280-ff72ddabc2e4",
   "metadata": {},
   "outputs": [],
   "source": []
  }
 ],
 "metadata": {
  "kernelspec": {
   "display_name": "Python 3 (ipykernel)",
   "language": "python",
   "name": "python3"
  },
  "language_info": {
   "codemirror_mode": {
    "name": "ipython",
    "version": 3
   },
   "file_extension": ".py",
   "mimetype": "text/x-python",
   "name": "python",
   "nbconvert_exporter": "python",
   "pygments_lexer": "ipython3",
   "version": "3.10.9"
  }
 },
 "nbformat": 4,
 "nbformat_minor": 5
}
