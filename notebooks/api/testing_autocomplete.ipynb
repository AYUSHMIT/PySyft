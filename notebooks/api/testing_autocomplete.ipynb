{
 "cells": [
  {
   "cell_type": "code",
   "execution_count": 2,
   "id": "eab75f74",
   "metadata": {
    "tags": []
   },
   "outputs": [
    {
     "name": "stderr",
     "output_type": "stream",
     "text": [
      "kj/filesystem-disk-unix.c++:1703: warning: PWD environment variable doesn't match current directory; pwd = /Users/ollytvyn/Projects/01_private_ai/PySyft\n"
     ]
    }
   ],
   "source": [
    "import syft as sy"
   ]
  },
  {
   "cell_type": "code",
   "execution_count": 3,
   "id": "64764021",
   "metadata": {
    "tags": []
   },
   "outputs": [],
   "source": [
    "# dir(sy.orchestra)\n",
    "node = sy.Worker(name=\"Command_center\")\n",
    "client = node.root_client"
   ]
  },
  {
   "cell_type": "code",
   "execution_count": 4,
   "id": "1fa6df6d",
   "metadata": {
    "tags": []
   },
   "outputs": [],
   "source": [
    "np = client.api.lib.numpy"
   ]
  },
  {
   "cell_type": "code",
   "execution_count": 5,
   "id": "ca62eedc",
   "metadata": {
    "tags": []
   },
   "outputs": [],
   "source": [
    "from inspect import signature"
   ]
  },
  {
   "cell_type": "markdown",
   "id": "7bf320a2",
   "metadata": {},
   "source": [
    "The autocompelete testing is performed base on this https://levelup.gitconnected.com/50-numpy-functions-you-really-needed-for-data-science-fa09e8eb0cf0 page -- \"50 Numpy Functions You Really Needed For Data Science\""
   ]
  },
  {
   "cell_type": "code",
   "execution_count": 63,
   "id": "bf322795",
   "metadata": {
    "tags": []
   },
   "outputs": [
    {
     "name": "stdout",
     "output_type": "stream",
     "text": [
      "what is this exception cannot reshape array of size 6 into shape (1,0)\n",
      "what is this exception copyto() missing 2 required positional arguments: 'dst' and 'src'\n",
      "what is this exception savetxt() missing 2 required positional arguments: 'fname' and 'X'\n",
      "what is this exception loadtxt() missing 1 required positional argument: 'fname'\n"
     ]
    },
    {
     "data": {
      "text/plain": [
       "\"Failed executing action ActionObject numpy.loadtxt(,), result is an error: loadtxt() missing 1 required positional argument: 'fname'\""
      ]
     },
     "execution_count": 63,
     "metadata": {},
     "output_type": "execute_result"
    }
   ],
   "source": [
    "arr = [0,1,1,2,2,3]\n",
    "arr_2 = [1, 2.2, 2, 3.3, 5, 4]\n",
    "arr2d = np.array([[3,4,5,2],[6,7,2,6]])\n",
    "bins = np.array([0,1,2,3])\n",
    "# Works\n",
    "np.array([0,1,2])\n",
    "np.linspace(10, 10, 10)\n",
    "np.arange(5,10,2)\n",
    "np.logspace(0,2)\n",
    "np.zeros((1,2))\n",
    "np.ones((1,2))\n",
    "np.identity(4)\n",
    "np.unique(arr)\n",
    "np.mean(arr)\n",
    "np.median(arr)\n",
    "np.digitize(arr, bins)\n",
    "np.reshape(arr, (1,0))\n",
    "np.squeeze(arr)\n",
    "np.count_nonzero(arr)\n",
    "np.argwhere(arr)\n",
    "np.argmax(arr)\n",
    "np.argmin(arr)\n",
    "np.sort(arr_2)\n",
    "np.absolute(arr_2)\n",
    "np.clip(arr, 0, 2)\n",
    "np.where(bins>1)\n",
    "np.put(bins, [1,2], [7,8])\n",
    "np.copyto()\n",
    "\n",
    "np.intersect1d(arr, arr_2)\n",
    "np.setdiff1d(arr, arr_2)\n",
    "np.setxor1d(arr, arr_2)\n",
    "\n",
    "np.hsplit(arr2d, 4)\n",
    "np.vsplit(arr2d, 2)\n",
    "\n",
    "np.hstack((arr, arr_2))\n",
    "np.vstack((arr, arr_2))\n",
    "\n",
    "np.allclose(arr, arr_2, 0.5)\n",
    "np.equal(arr, arr_2)\n",
    "\n",
    "\n",
    "np.repeat('2017', 4)\n",
    "\n",
    "# np.einsum() works\n",
    "\n",
    "np.histogram(arr)\n",
    "np.percentile(arr, 2)\n",
    "\n",
    "np.std(arr)\n",
    "np.var(arr)\n",
    "\n",
    "np.savetxt()\n",
    "np.loadtxt()"
   ]
  },
  {
   "cell_type": "code",
   "execution_count": 48,
   "id": "6372eb22",
   "metadata": {},
   "outputs": [
    {
     "name": "stderr",
     "output_type": "stream",
     "text": [
      "---------------------------------------------------------------------------\n",
      "SyftAttributeError\n",
      "---------------------------------------------------------------------------\n",
      "Exception: 'APIModule' api.numpy.random object has no submodule or method 'random', you may not have permission to access the module you are trying to access\n"
     ]
    }
   ],
   "source": [
    "# Not working\n",
    "\n",
    "# np.random.uniform()\n",
    "# np.random.randint()\n",
    "np.random.random(3)"
   ]
  },
  {
   "cell_type": "code",
   "execution_count": 45,
   "id": "90e1040d",
   "metadata": {},
   "outputs": [
    {
     "name": "stderr",
     "output_type": "stream",
     "text": [
      "---------------------------------------------------------------------------\n",
      "SyftAttributeError\n",
      "---------------------------------------------------------------------------\n",
      "Exception: 'APIModule' api.numpy object has no submodule or method 'min', you may not have permission to access the module you are trying to access\n"
     ]
    }
   ],
   "source": [
    "np.min()"
   ]
  },
  {
   "cell_type": "code",
   "execution_count": 64,
   "id": "d217071c",
   "metadata": {},
   "outputs": [
    {
     "name": "stderr",
     "output_type": "stream",
     "text": [
      "---------------------------------------------------------------------------\n",
      "SyftAttributeError\n",
      "---------------------------------------------------------------------------\n",
      "Exception: 'APIModule' api.numpy object has no submodule or method 'max', you may not have permission to access the module you are trying to access\n"
     ]
    }
   ],
   "source": [
    "np.max(arr)"
   ]
  },
  {
   "cell_type": "code",
   "execution_count": 61,
   "id": "fd250563-51c7-48c7-ad89-7c2bacfbc28a",
   "metadata": {
    "tags": []
   },
   "outputs": [
    {
     "name": "stderr",
     "output_type": "stream",
     "text": [
      "---------------------------------------------------------------------------\n",
      "SyftAttributeError\n",
      "---------------------------------------------------------------------------\n",
      "Exception: 'APIModule' api.numpy object has no submodule or method 'inf', you may not have permission to access the module you are trying to access\n"
     ]
    }
   ],
   "source": [
    "np.inf"
   ]
  },
  {
   "cell_type": "code",
   "execution_count": null,
   "id": "f5bec924",
   "metadata": {},
   "outputs": [],
   "source": [
    "np.unique(arr) # ok\n",
    "np.unique(arr, return_counts=True) #throws error\n",
    "\n",
    "np.expand_dims(arr, axis=0) #throws error"
   ]
  },
  {
   "cell_type": "code",
   "execution_count": 60,
   "id": "032f2430",
   "metadata": {
    "tags": []
   },
   "outputs": [
    {
     "data": {
      "text/plain": [
       "inf"
      ]
     },
     "execution_count": 60,
     "metadata": {},
     "output_type": "execute_result"
    }
   ],
   "source": [
    "import numpy as np_o\n",
    "\n",
    "np_o.min\n",
    "\n",
    "# np_o.where(arr>1)\n",
    "np_o.inf"
   ]
  }
 ],
 "metadata": {
  "kernelspec": {
   "display_name": "Python 3 (ipykernel)",
   "language": "python",
   "name": "python3"
  },
  "language_info": {
   "codemirror_mode": {
    "name": "ipython",
    "version": 3
   },
   "file_extension": ".py",
   "mimetype": "text/x-python",
   "name": "python",
   "nbconvert_exporter": "python",
   "pygments_lexer": "ipython3",
   "version": "3.10.9"
  }
 },
 "nbformat": 4,
 "nbformat_minor": 5
}
