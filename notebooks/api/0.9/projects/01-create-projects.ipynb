{
 "cells": [
  {
   "cell_type": "markdown",
   "id": "85cdf16b-cbc9-4c15-9d1d-4c345d676d81",
   "metadata": {},
   "source": [
    "# Multi Node Projects Creation"
   ]
  },
  {
   "cell_type": "code",
   "execution_count": null,
   "id": "4a0f1d5e-6d8c-485c-90ba-0b9c72dec8d7",
   "metadata": {
    "tags": []
   },
   "outputs": [],
   "source": [
    "import syft as sy\n",
    "sy.requires(\">=0.8.1-beta\")\n",
    "sy.enable_autoreload()\n",
    "from syft.service.project.project import NewProjectSubmit\n",
    "from syft.service.project.project import NewProject"
   ]
  },
  {
   "cell_type": "code",
   "execution_count": null,
   "id": "6fb9ae0b-745e-41db-8fa7-8bd6340731c5",
   "metadata": {
    "tags": []
   },
   "outputs": [],
   "source": [
    "alice_domain = sy.orchestra.launch(name=\"Alice\", dev_mode=True, reset=True)"
   ]
  },
  {
   "cell_type": "code",
   "execution_count": null,
   "id": "cd7c6d52-03b9-4ef1-9bff-18b50a2530a0",
   "metadata": {
    "tags": []
   },
   "outputs": [],
   "source": [
    "alice_domain_client = alice_domain.login(email=\"info@openmined.org\", password=\"changethis\")"
   ]
  },
  {
   "cell_type": "code",
   "execution_count": null,
   "id": "5c029c8b-6e42-43b3-84e7-244e8b6a4f1f",
   "metadata": {
    "tags": []
   },
   "outputs": [],
   "source": [
    "bob_domain = sy.orchestra.launch(name=\"Bob\", dev_mode=True, reset=True)"
   ]
  },
  {
   "cell_type": "code",
   "execution_count": null,
   "id": "b94f4af3-33dc-4f16-ba3b-34c7d52d7c55",
   "metadata": {
    "tags": []
   },
   "outputs": [],
   "source": [
    "bob_domain_client = bob_domain.login(email=\"info@openmined.org\", password=\"changethis\")"
   ]
  },
  {
   "cell_type": "code",
   "execution_count": null,
   "id": "513dba5b-0222-49cf-9a09-89cdc71860bc",
   "metadata": {
    "tags": []
   },
   "outputs": [],
   "source": [
    "bob_domain_client.domains"
   ]
  },
  {
   "cell_type": "code",
   "execution_count": null,
   "id": "cca5f639-80dd-40c0-ac3e-18d1f031b825",
   "metadata": {
    "tags": []
   },
   "outputs": [],
   "source": [
    "alice_domain_client.domains"
   ]
  },
  {
   "cell_type": "code",
   "execution_count": null,
   "id": "10be52fa-8ab5-469b-adbf-5debb25d8111",
   "metadata": {
    "tags": []
   },
   "outputs": [],
   "source": [
    "project = NewProjectSubmit(\n",
    "    name=\"test project\",\n",
    "    description=\"my test project\",\n",
    "    shareholders=[alice_domain_client, bob_domain_client],\n",
    ")\n",
    "project"
   ]
  },
  {
   "cell_type": "code",
   "execution_count": null,
   "id": "ef17ae70-13bc-4191-bb87-595f149495f9",
   "metadata": {
    "tags": []
   },
   "outputs": [],
   "source": [
    "results = project.start()\n",
    "results"
   ]
  },
  {
   "cell_type": "code",
   "execution_count": null,
   "id": "1935c6ad-ce22-4e98-878f-cf72e6b410e8",
   "metadata": {
    "tags": []
   },
   "outputs": [],
   "source": [
    "results[0].leader_node_route"
   ]
  },
  {
   "cell_type": "code",
   "execution_count": null,
   "id": "3f1aa2c5-b0ef-4ecb-9dc9-0206c1a2d601",
   "metadata": {
    "tags": []
   },
   "outputs": [],
   "source": [
    "results[0].start_hash"
   ]
  },
  {
   "cell_type": "code",
   "execution_count": null,
   "id": "a1a19b47-7f82-405a-8dd8-a6909e908540",
   "metadata": {
    "tags": []
   },
   "outputs": [],
   "source": [
    "assert results[0].start_hash == results[1].start_hash"
   ]
  },
  {
   "cell_type": "code",
   "execution_count": null,
   "id": "fbea2a9a-efb1-4dea-a86d-8f4beb030664",
   "metadata": {
    "tags": []
   },
   "outputs": [],
   "source": [
    "project = results[0]"
   ]
  },
  {
   "cell_type": "code",
   "execution_count": null,
   "id": "8345b7fa-91b7-4c90-a984-867597494714",
   "metadata": {
    "tags": []
   },
   "outputs": [],
   "source": [
    "results[1].leader_node_route"
   ]
  },
  {
   "cell_type": "code",
   "execution_count": null,
   "id": "f14a1156-cc42-4e74-b849-30d008bde70b",
   "metadata": {
    "tags": []
   },
   "outputs": [],
   "source": [
    "results[0].leader_node_route"
   ]
  },
  {
   "cell_type": "code",
   "execution_count": null,
   "id": "5a1d44e7-2ad9-4c8b-b8f3-1c21e16e0b28",
   "metadata": {
    "tags": []
   },
   "outputs": [],
   "source": [
    "project.shareholders"
   ]
  },
  {
   "cell_type": "code",
   "execution_count": null,
   "id": "a5ed3c07-de40-475b-bdc3-d08eef577a41",
   "metadata": {
    "tags": []
   },
   "outputs": [],
   "source": [
    "assert isinstance(project, NewProject)"
   ]
  },
  {
   "cell_type": "code",
   "execution_count": null,
   "id": "df6dc761-fac5-426a-a14c-44d78fb8ce61",
   "metadata": {
    "tags": []
   },
   "outputs": [],
   "source": [
    "assert len(alice_domain_client.api.services.newproject.get_all()) == 1"
   ]
  },
  {
   "cell_type": "code",
   "execution_count": null,
   "id": "21187ed1-7153-4a7e-b51a-4521223fe58e",
   "metadata": {
    "tags": []
   },
   "outputs": [],
   "source": [
    "for node in [alice_domain, bob_domain]:\n",
    "    if node.node_type.value == \"python\":\n",
    "        node.land()"
   ]
  },
  {
   "cell_type": "code",
   "execution_count": null,
   "id": "63043fd1-29e0-4933-9f13-57c14271ab68",
   "metadata": {},
   "outputs": [],
   "source": []
  }
 ],
 "metadata": {
  "kernelspec": {
   "display_name": "Python 3 (ipykernel)",
   "language": "python",
   "name": "python3"
  },
  "language_info": {
   "codemirror_mode": {
    "name": "ipython",
    "version": 3
   },
   "file_extension": ".py",
   "mimetype": "text/x-python",
   "name": "python",
   "nbconvert_exporter": "python",
   "pygments_lexer": "ipython3",
   "version": "3.10.10"
  }
 },
 "nbformat": 4,
 "nbformat_minor": 5
}
