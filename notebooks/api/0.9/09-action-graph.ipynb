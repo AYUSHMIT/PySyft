{
 "cells": [
  {
   "cell_type": "markdown",
   "id": "e888755c",
   "metadata": {},
   "source": [
    "# Action Graph "
   ]
  },
  {
   "cell_type": "markdown",
   "id": "bbd97cf8",
   "metadata": {},
   "source": [
    "### Goals:\n",
    "\n",
    "- A graph store/database to store and trace any computations during eager execution\n",
    "- Graph that works with the current in memory worker\n",
    "- Ability to visualize the graph\n",
    "- Generate a dependecy list of node, so that any dependeny action can be generated\n",
    "- Basic query/search functionalities\n",
    "- Locking/Concurrency"
   ]
  },
  {
   "cell_type": "code",
   "execution_count": null,
   "id": "d27c68a4",
   "metadata": {},
   "outputs": [],
   "source": [
    "import syft as sy\n",
    "from syft.service.action.action_graph_service import ActionGraphService, NodeActionDataUpdate, ExecutionStatus\n",
    "from syft.service.action.action_graph import InMemoryActionGraphStore, InMemoryGraphConfig, InMemoryStoreClientConfig\n",
    "\n",
    "from syft.service.context import AuthedServiceContext\n",
    "from syft.node.credentials import SyftSigningKey\n",
    "from syft.service.action.action_graph import Action\n",
    "from syft.service.action.numpy import NumpyArrayObject, ActionObject\n",
    "import numpy as np\n",
    "import matplotlib.pyplot as plt\n",
    "import networkx as nx"
   ]
  },
  {
   "cell_type": "markdown",
   "id": "379941d7",
   "metadata": {},
   "source": [
    "## Scenario for performing some computation\n",
    "\n",
    "```python\n",
    "\n",
    "import syft as sy\n",
    "\n",
    "domain_client = sy.login(\"....\")\n",
    "\n",
    "dataset = domain_client.datasets[0]\n",
    "\n",
    "a = dataset.assets[\"A\"]\n",
    "\n",
    "b = dataset.assets[\"B\"]\n",
    "\n",
    "c = a + b\n",
    "\n",
    "d = domain_client.api.numpy.array([1, 2, 3])\n",
    "\n",
    "e = c * d\n",
    "\n",
    "# Inplace operation, mutated the value of d\n",
    "d.astype('int32')\n",
    "\n",
    "d[2] = 5\n",
    "\n",
    "f = d + 48\n",
    "```\n",
    "\n",
    "<br>\n",
    "<br>\n",
    "\n",
    "**Corresponding Actions Generated**\n",
    "\n",
    "```\n",
    "\n",
    "action1 -> a + b\n",
    "\n",
    "action2 -> initialization of variable `d`\n",
    "\n",
    "action3 -> c * d\n",
    "\n",
    "action4 -> inplace updation of type of `d` (d.astype('int32'))\n",
    "\n",
    "action5 -> d[2] = 5\n",
    "\n",
    "action6 -> d + 48\n",
    "\n",
    "```"
   ]
  },
  {
   "cell_type": "markdown",
   "id": "c64d7278",
   "metadata": {},
   "source": [
    "![graph.png](graph.png)"
   ]
  },
  {
   "cell_type": "markdown",
   "id": "fc615fa3",
   "metadata": {},
   "source": [
    "### Initializing the Store"
   ]
  },
  {
   "cell_type": "code",
   "execution_count": null,
   "id": "55ab1bba",
   "metadata": {},
   "outputs": [],
   "source": [
    "# Create a Config\n",
    "\n",
    "store_config = InMemoryGraphConfig()"
   ]
  },
  {
   "cell_type": "code",
   "execution_count": null,
   "id": "10b32a8d",
   "metadata": {},
   "outputs": [],
   "source": [
    "# Initialize the InMemory Store\n",
    "\n",
    "graph_store = InMemoryActionGraphStore(store_config=store_config, reset=True)"
   ]
  },
  {
   "cell_type": "code",
   "execution_count": null,
   "id": "2671b101",
   "metadata": {},
   "outputs": [],
   "source": [
    "G = graph_store.graph.db"
   ]
  },
  {
   "cell_type": "markdown",
   "id": "72d40348",
   "metadata": {},
   "source": [
    "### Initializing Action Graph Service"
   ]
  },
  {
   "cell_type": "code",
   "execution_count": null,
   "id": "5206dc97",
   "metadata": {},
   "outputs": [],
   "source": [
    "action_graph_service = ActionGraphService(store=graph_store)"
   ]
  },
  {
   "cell_type": "code",
   "execution_count": null,
   "id": "91abad59",
   "metadata": {},
   "outputs": [],
   "source": [
    "signing_key = SyftSigningKey.generate()\n",
    "authed_context = AuthedServiceContext(credentials=signing_key.verify_key)"
   ]
  },
  {
   "cell_type": "markdown",
   "id": "62f0c6d9",
   "metadata": {},
   "source": [
    "### Create some dummy data"
   ]
  },
  {
   "cell_type": "code",
   "execution_count": null,
   "id": "d79c34a8",
   "metadata": {},
   "outputs": [],
   "source": [
    "labels_dict = {}"
   ]
  },
  {
   "cell_type": "code",
   "execution_count": null,
   "id": "97417939",
   "metadata": {},
   "outputs": [],
   "source": [
    "action_obj_a = ActionObject.from_obj([2, 4, 6])\n",
    "action_obj_b = ActionObject.from_obj([2, 3, 4])"
   ]
  },
  {
   "cell_type": "code",
   "execution_count": null,
   "id": "68860a32",
   "metadata": {},
   "outputs": [],
   "source": [
    "labels_dict[action_obj_a.id] = \"A\"\n",
    "labels_dict[action_obj_b.id] = \"B\""
   ]
  },
  {
   "cell_type": "code",
   "execution_count": null,
   "id": "11d9fde4",
   "metadata": {},
   "outputs": [],
   "source": [
    "action_obj_a.id, action_obj_b.id"
   ]
  },
  {
   "cell_type": "code",
   "execution_count": null,
   "id": "cdec901c",
   "metadata": {},
   "outputs": [],
   "source": [
    "action_graph_service.add_action_obj(context=authed_context, action_obj=action_obj_a)"
   ]
  },
  {
   "cell_type": "code",
   "execution_count": null,
   "id": "9c835712",
   "metadata": {},
   "outputs": [],
   "source": [
    "action_graph_service.add_action_obj(context=authed_context, action_obj=action_obj_b)"
   ]
  },
  {
   "cell_type": "code",
   "execution_count": null,
   "id": "4b6b0972",
   "metadata": {},
   "outputs": [],
   "source": [
    "assert len(action_graph_service.get_all_nodes(authed_context)) == 2\n",
    "assert len(action_graph_service.get_all_edges(authed_context)) == 0"
   ]
  },
  {
   "cell_type": "markdown",
   "id": "89d1b5c4",
   "metadata": {},
   "source": [
    "### Action1 -> A + B"
   ]
  },
  {
   "cell_type": "code",
   "execution_count": null,
   "id": "38bb629e",
   "metadata": {},
   "outputs": [],
   "source": [
    "action1 = Action(\n",
    "    path=\"action.execute\",\n",
    "    op=\"__add__\",\n",
    "    remote_self=action_obj_a.syft_lineage_id,\n",
    "    args=[action_obj_b.syft_lineage_id],\n",
    "    kwargs={}\n",
    ")\n",
    "action1"
   ]
  },
  {
   "cell_type": "code",
   "execution_count": null,
   "id": "9b937f60",
   "metadata": {},
   "outputs": [],
   "source": [
    "labels_dict[action1.id] = \"+\"\n",
    "labels_dict[action1.result_id.id] = \"C\""
   ]
  },
  {
   "cell_type": "markdown",
   "id": "22c8faef",
   "metadata": {},
   "source": [
    "### Add the action to Graph"
   ]
  },
  {
   "cell_type": "code",
   "execution_count": null,
   "id": "50ed00f2",
   "metadata": {},
   "outputs": [],
   "source": [
    "# action_graph_service.add_action"
   ]
  },
  {
   "cell_type": "code",
   "execution_count": null,
   "id": "e35a58f8",
   "metadata": {},
   "outputs": [],
   "source": [
    "action_graph_service.add_action(context=authed_context, action=action1)"
   ]
  },
  {
   "cell_type": "code",
   "execution_count": null,
   "id": "11a60a27",
   "metadata": {},
   "outputs": [],
   "source": [
    "plt.figure(figsize=(20, 10))\n",
    "pos = nx.spring_layout(G, seed=3113794652)\n",
    "# nx.draw_networkx_nodes(G, pos=pos)\n",
    "nx.draw_networkx(G, pos=pos, labels=labels_dict, with_labels=True, width=2.0, node_color=\"yellow\", node_size=800, font_size=22)"
   ]
  },
  {
   "cell_type": "code",
   "execution_count": null,
   "id": "b1b543b3",
   "metadata": {},
   "outputs": [],
   "source": [
    "assert len(action_graph_service.get_all_nodes(authed_context)) == 4\n",
    "assert len(action_graph_service.get_all_edges(authed_context)) == 3"
   ]
  },
  {
   "cell_type": "markdown",
   "id": "caa79be3",
   "metadata": {},
   "source": [
    "### Action2 -> np.array([1, 2, 3])"
   ]
  },
  {
   "cell_type": "code",
   "execution_count": null,
   "id": "48a7cb5e",
   "metadata": {},
   "outputs": [],
   "source": [
    "action_obj_d = ActionObject.from_obj([1, 2, 3])"
   ]
  },
  {
   "cell_type": "code",
   "execution_count": null,
   "id": "33ade3bb",
   "metadata": {},
   "outputs": [],
   "source": [
    "labels_dict[action_obj_d.id] = \"[1, 2 ,3]\""
   ]
  },
  {
   "cell_type": "code",
   "execution_count": null,
   "id": "60a55b3d",
   "metadata": {},
   "outputs": [],
   "source": [
    "action_graph_service.add_action_obj(context=authed_context, action_obj=action_obj_d)"
   ]
  },
  {
   "cell_type": "code",
   "execution_count": null,
   "id": "683aed4b",
   "metadata": {},
   "outputs": [],
   "source": [
    "# Create Action2\n",
    "\n",
    "action2 = Action(\n",
    "    path=\"action.execute\",\n",
    "    op=\"np.array\",\n",
    "    remote_self=None,\n",
    "    args=[action_obj_d.syft_lineage_id],\n",
    "    kwargs={}\n",
    ")\n",
    "action2"
   ]
  },
  {
   "cell_type": "code",
   "execution_count": null,
   "id": "3840d7b2",
   "metadata": {},
   "outputs": [],
   "source": [
    "labels_dict[action2.id] = \"np.array\"\n",
    "labels_dict[action2.result_id.id] = \"D\""
   ]
  },
  {
   "cell_type": "code",
   "execution_count": null,
   "id": "74d171f0",
   "metadata": {},
   "outputs": [],
   "source": [
    "# Save action to graph\n",
    "action_graph_service.add_action(context=authed_context, action=action2)"
   ]
  },
  {
   "cell_type": "code",
   "execution_count": null,
   "id": "c35f26f5",
   "metadata": {},
   "outputs": [],
   "source": [
    "# 747749f9494345b78e165f13351e52bf: {\"data\": NodeActionData()}"
   ]
  },
  {
   "cell_type": "code",
   "execution_count": null,
   "id": "d983fdce",
   "metadata": {},
   "outputs": [],
   "source": [
    "action1.result_id.id"
   ]
  },
  {
   "cell_type": "code",
   "execution_count": null,
   "id": "5a4df094",
   "metadata": {},
   "outputs": [],
   "source": [
    "plt.figure(figsize=(20, 10))\n",
    "pos = nx.spring_layout(G, seed=3113794652)\n",
    "# nx.draw_networkx_nodes(G, pos=pos)\n",
    "nx.draw_networkx(G, pos=pos, labels=labels_dict, with_labels=True, width=2.0, node_color=\"yellow\", node_size=800, font_size=22)"
   ]
  },
  {
   "cell_type": "code",
   "execution_count": null,
   "id": "7c263122",
   "metadata": {},
   "outputs": [],
   "source": [
    "action_graph_service.store.graph.visualize()"
   ]
  },
  {
   "cell_type": "code",
   "execution_count": null,
   "id": "38f18323",
   "metadata": {},
   "outputs": [],
   "source": [
    "assert len(action_graph_service.get_all_nodes(authed_context)) == 7\n",
    "assert len(action_graph_service.get_all_edges(authed_context)) == 5"
   ]
  },
  {
   "cell_type": "markdown",
   "id": "c3850cc4",
   "metadata": {},
   "source": [
    "### Action3 -> C * D"
   ]
  },
  {
   "cell_type": "code",
   "execution_count": null,
   "id": "1d5098bc",
   "metadata": {},
   "outputs": [],
   "source": [
    "action3 = Action(\n",
    "    path=\"action.execute\",\n",
    "    op=\"__mul__\",\n",
    "    remote_self=action1.result_id,\n",
    "    args=[action2.result_id],\n",
    "    kwargs={}\n",
    ")\n",
    "action3"
   ]
  },
  {
   "cell_type": "code",
   "execution_count": null,
   "id": "f7c1e4e6",
   "metadata": {},
   "outputs": [],
   "source": [
    "action_graph_service.add_action(context=authed_context, action=action3)"
   ]
  },
  {
   "cell_type": "code",
   "execution_count": null,
   "id": "03614317",
   "metadata": {},
   "outputs": [],
   "source": [
    "labels_dict[action3.id] = \"*\"\n",
    "labels_dict[action3.result_id.id] = \"E\""
   ]
  },
  {
   "cell_type": "code",
   "execution_count": null,
   "id": "124e3475",
   "metadata": {},
   "outputs": [],
   "source": [
    "plt.figure(figsize=(20, 10))\n",
    "pos = nx.spring_layout(G, seed=3113794651)\n",
    "# nx.draw_networkx_nodes(G, pos=pos)\n",
    "nx.draw_networkx(G, pos=pos, labels=labels_dict, with_labels=True, width=2.0, node_color=\"yellow\", node_size=800, font_size=22)"
   ]
  },
  {
   "cell_type": "code",
   "execution_count": null,
   "id": "9f1d35ad",
   "metadata": {},
   "outputs": [],
   "source": [
    "assert len(action_graph_service.get_all_nodes(authed_context)) == 9\n",
    "assert len(action_graph_service.get_all_edges(authed_context)) == 8"
   ]
  },
  {
   "cell_type": "markdown",
   "id": "3cfefeee",
   "metadata": {},
   "source": [
    "### Action4 -> Mutate type of D"
   ]
  },
  {
   "cell_type": "code",
   "execution_count": null,
   "id": "c0e55971",
   "metadata": {},
   "outputs": [],
   "source": [
    "as_type_action_obj = ActionObject.from_obj('np.int32')"
   ]
  },
  {
   "cell_type": "code",
   "execution_count": null,
   "id": "d5de9f9c",
   "metadata": {},
   "outputs": [],
   "source": [
    "action_graph_service.add_action_obj(context=authed_context, action_obj=as_type_action_obj)"
   ]
  },
  {
   "cell_type": "code",
   "execution_count": null,
   "id": "2aac3c90",
   "metadata": {},
   "outputs": [],
   "source": [
    "labels_dict[as_type_action_obj.id] = \"np.int32\""
   ]
  },
  {
   "cell_type": "code",
   "execution_count": null,
   "id": "670ec2fc",
   "metadata": {},
   "outputs": [],
   "source": [
    "action4 = Action(\n",
    "    path=\"action.execute\",\n",
    "    op=\"astype\",\n",
    "    remote_self=action2.result_id,\n",
    "    args=[as_type_action_obj.syft_lineage_id],\n",
    "    kwargs={},\n",
    "    result_id=action2.result_id\n",
    ")\n",
    "action4"
   ]
  },
  {
   "cell_type": "code",
   "execution_count": null,
   "id": "c45550fb",
   "metadata": {},
   "outputs": [],
   "source": [
    "action_graph_service.add_action(context=authed_context, action=action4)"
   ]
  },
  {
   "cell_type": "code",
   "execution_count": null,
   "id": "6ccbe2d7",
   "metadata": {},
   "outputs": [],
   "source": [
    "labels_dict[action4.id] = \"astype\""
   ]
  },
  {
   "cell_type": "code",
   "execution_count": null,
   "id": "c38e3326",
   "metadata": {},
   "outputs": [],
   "source": [
    "plt.figure(figsize=(20, 10))\n",
    "pos = nx.spring_layout(G, seed=3113794652)\n",
    "# nx.draw_networkx_nodes(G, pos=pos)\n",
    "nx.draw_networkx(G, pos=pos, labels=labels_dict, with_labels=True, width=2.0, node_color=\"yellow\", node_size=800, font_size=22)"
   ]
  },
  {
   "cell_type": "code",
   "execution_count": null,
   "id": "e38e5b10",
   "metadata": {},
   "outputs": [],
   "source": [
    "mid = G.nodes(data=True)[action2.result_id.id][\"data\"]['next_mutagen_node']\n",
    "mid"
   ]
  },
  {
   "cell_type": "code",
   "execution_count": null,
   "id": "38c4456d",
   "metadata": {},
   "outputs": [],
   "source": [
    "G.nodes(data=True)[action2.result_id.id]['data']"
   ]
  },
  {
   "cell_type": "code",
   "execution_count": null,
   "id": "8276ff31",
   "metadata": {},
   "outputs": [],
   "source": [
    "assert G.nodes(data=True)[mid]['data'].id == action4.id"
   ]
  },
  {
   "cell_type": "markdown",
   "id": "ec893fd5",
   "metadata": {},
   "source": [
    "#### Action5 -> D[2] = 5"
   ]
  },
  {
   "cell_type": "code",
   "execution_count": null,
   "id": "908629af",
   "metadata": {},
   "outputs": [],
   "source": [
    "idx_action_obj = ActionObject.from_obj(2)\n",
    "action_graph_service.add_action_obj(context=authed_context, action_obj=idx_action_obj)"
   ]
  },
  {
   "cell_type": "code",
   "execution_count": null,
   "id": "39aced4a",
   "metadata": {},
   "outputs": [],
   "source": [
    "labels_dict[idx_action_obj.id] = \"2\""
   ]
  },
  {
   "cell_type": "code",
   "execution_count": null,
   "id": "d5d46f82",
   "metadata": {},
   "outputs": [],
   "source": [
    "item_val_action_obj = ActionObject.from_obj(5)\n",
    "action_graph_service.add_action_obj(context=authed_context, action_obj=item_val_action_obj)"
   ]
  },
  {
   "cell_type": "code",
   "execution_count": null,
   "id": "087be457",
   "metadata": {},
   "outputs": [],
   "source": [
    "labels_dict[item_val_action_obj.id] = \"5\""
   ]
  },
  {
   "cell_type": "code",
   "execution_count": null,
   "id": "0e3899f6",
   "metadata": {},
   "outputs": [],
   "source": [
    "action5 = Action(\n",
    "    path=\"action.execute\",\n",
    "    op=\"__setitem__\",\n",
    "    remote_self=action2.result_id,\n",
    "    args=[idx_action_obj.syft_lineage_id, item_val_action_obj.syft_lineage_id],\n",
    "    kwargs={},\n",
    "    result_id=action2.result_id\n",
    ")\n",
    "action5"
   ]
  },
  {
   "cell_type": "code",
   "execution_count": null,
   "id": "22a69240",
   "metadata": {},
   "outputs": [],
   "source": [
    "action_graph_service.add_action(context=authed_context, action=action5)"
   ]
  },
  {
   "cell_type": "code",
   "execution_count": null,
   "id": "046cbea9",
   "metadata": {},
   "outputs": [],
   "source": [
    "labels_dict[action5.id] = \"__setitem__\""
   ]
  },
  {
   "cell_type": "code",
   "execution_count": null,
   "id": "6992c838",
   "metadata": {},
   "outputs": [],
   "source": [
    "plt.figure(figsize=(20, 20))\n",
    "pos = nx.spring_layout(G, seed=3113794652)\n",
    "# nx.draw_networkx_nodes(G, pos=pos)\n",
    "nx.draw_networkx(G, pos=pos, labels=labels_dict, with_labels=True, width=2.0, node_color=\"orange\", node_size=800, font_size=22)"
   ]
  },
  {
   "cell_type": "code",
   "execution_count": null,
   "id": "039ba4cc",
   "metadata": {},
   "outputs": [],
   "source": [
    "assert len(action_graph_service.get_all_nodes(authed_context)) == 14\n",
    "assert len(action_graph_service.get_all_edges(authed_context)) == 13"
   ]
  },
  {
   "cell_type": "markdown",
   "id": "7b67ceb1",
   "metadata": {},
   "source": [
    "\n",
    "### Action6 -> D + 48"
   ]
  },
  {
   "cell_type": "code",
   "execution_count": null,
   "id": "f18e3455",
   "metadata": {},
   "outputs": [],
   "source": [
    "arg_action_obj = ActionObject.from_obj(48)"
   ]
  },
  {
   "cell_type": "code",
   "execution_count": null,
   "id": "edeb9565",
   "metadata": {},
   "outputs": [],
   "source": [
    "action_graph_service.add_action_obj(context=authed_context, action_obj=arg_action_obj)"
   ]
  },
  {
   "cell_type": "code",
   "execution_count": null,
   "id": "4b228c9d",
   "metadata": {},
   "outputs": [],
   "source": [
    "labels_dict[arg_action_obj.id] = \"48\""
   ]
  },
  {
   "cell_type": "code",
   "execution_count": null,
   "id": "80a62079",
   "metadata": {},
   "outputs": [],
   "source": [
    "action6 = Action(\n",
    "    path=\"action.execute\",\n",
    "    op=\"__add__\",\n",
    "    remote_self=action2.result_id,\n",
    "    args=[arg_action_obj.syft_lineage_id],\n",
    "    kwargs={},\n",
    ")\n",
    "action6"
   ]
  },
  {
   "cell_type": "code",
   "execution_count": null,
   "id": "684c0fcd",
   "metadata": {},
   "outputs": [],
   "source": [
    "action_graph_service.add_action(context=authed_context, action=action6)"
   ]
  },
  {
   "cell_type": "code",
   "execution_count": null,
   "id": "2a0cf8ce",
   "metadata": {},
   "outputs": [],
   "source": [
    "labels_dict[action6.id] = \"+\"\n",
    "labels_dict[action6.result_id.id] = \"F\""
   ]
  },
  {
   "cell_type": "code",
   "execution_count": null,
   "id": "7632cb60",
   "metadata": {},
   "outputs": [],
   "source": [
    "plt.figure(figsize=(40, 40))\n",
    "pos = nx.spring_layout(G)\n",
    "# nx.draw_networkx_nodes(G, pos=pos)\n",
    "nx.draw_networkx(G, pos=pos, labels=labels_dict, with_labels=True, width=3.0, node_color=\"orange\", node_size=3000, font_size=30)"
   ]
  },
  {
   "cell_type": "code",
   "execution_count": null,
   "id": "1b0de19e",
   "metadata": {},
   "outputs": [],
   "source": [
    "labels_dict.values()"
   ]
  },
  {
   "cell_type": "markdown",
   "id": "fa801ebb",
   "metadata": {},
   "source": [
    "```\n",
    "\n",
    "action1 -> a + b\n",
    "\n",
    "action2 -> initialization of variable `d`\n",
    "\n",
    "action3 -> c * d\n",
    "\n",
    "action4 -> inplace updation of type of `d` (d.astype('int32'))\n",
    "\n",
    "action5 -> d[0] = 10\n",
    "\n",
    "action6 -> d + 48\n",
    "\n",
    "```"
   ]
  },
  {
   "cell_type": "markdown",
   "id": "f621bba4",
   "metadata": {},
   "source": [
    "## Filtering Actions in the Graph"
   ]
  },
  {
   "cell_type": "markdown",
   "id": "3cba2c95",
   "metadata": {},
   "source": [
    "### Filter by ExecutionStatus\n",
    "\n",
    "```\n",
    "ExecutionStatus\n",
    "- PROCESSING\n",
    "- DONE\n",
    "- FAILED\n",
    "```"
   ]
  },
  {
   "cell_type": "code",
   "execution_count": null,
   "id": "e93cd503",
   "metadata": {},
   "outputs": [],
   "source": [
    "action_graph_service.get_by_action_status(context=authed_context, status=ExecutionStatus.PROCESSING)"
   ]
  },
  {
   "cell_type": "code",
   "execution_count": null,
   "id": "73c79b45",
   "metadata": {},
   "outputs": [],
   "source": [
    "action1"
   ]
  },
  {
   "cell_type": "code",
   "execution_count": null,
   "id": "fc232be3",
   "metadata": {},
   "outputs": [],
   "source": [
    "action_graph_service.get_by_action_status(context=authed_context, status=ExecutionStatus.PROCESSING.DONE)"
   ]
  },
  {
   "cell_type": "markdown",
   "id": "135a96f1",
   "metadata": {},
   "source": [
    "### Filter by Particular User"
   ]
  },
  {
   "cell_type": "code",
   "execution_count": null,
   "id": "443eb463",
   "metadata": {},
   "outputs": [],
   "source": [
    "action_graph_service.get_by_verify_key(context=authed_context, verify_key=signing_key.verify_key)"
   ]
  },
  {
   "cell_type": "code",
   "execution_count": null,
   "id": "9a967515",
   "metadata": {},
   "outputs": [],
   "source": [
    "### Serde "
   ]
  },
  {
   "cell_type": "code",
   "execution_count": null,
   "id": "1563a045",
   "metadata": {},
   "outputs": [],
   "source": [
    "bytes_data = sy.serialize(graph_store, to_bytes=True)"
   ]
  },
  {
   "cell_type": "code",
   "execution_count": null,
   "id": "3352ebaf",
   "metadata": {},
   "outputs": [],
   "source": [
    "graph_store = sy.deserialize(bytes_data, from_bytes=True)"
   ]
  },
  {
   "cell_type": "code",
   "execution_count": null,
   "id": "18dd834d",
   "metadata": {},
   "outputs": [],
   "source": [
    "for x, y in zip(graph_store.graph.db.nodes(data=True), G.nodes(data=True)):\n",
    "    uid1, node1 = x \n",
    "    uid2, node2 = y\n",
    "    assert uid1==uid2\n",
    "    assert node1['data'] == node2['data']"
   ]
  }
 ],
 "metadata": {
  "kernelspec": {
   "display_name": "Python 3 (ipykernel)",
   "language": "python",
   "name": "python3"
  },
  "language_info": {
   "codemirror_mode": {
    "name": "ipython",
    "version": 3
   },
   "file_extension": ".py",
   "mimetype": "text/x-python",
   "name": "python",
   "nbconvert_exporter": "python",
   "pygments_lexer": "ipython3",
   "version": "3.10.8"
  }
 },
 "nbformat": 4,
 "nbformat_minor": 5
}
