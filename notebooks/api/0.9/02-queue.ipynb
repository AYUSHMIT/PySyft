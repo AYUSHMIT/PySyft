{
 "cells": [
  {
   "cell_type": "code",
   "execution_count": null,
   "id": "1b047535",
   "metadata": {},
   "outputs": [],
   "source": [
    "import syft as sy\n",
    "from syft.service.queue.queue_stash import QueueItem\n",
    "from syft.service.queue.zmq_queue import ZMQPublisher\n",
    "from syft.client.api import SyftAPICall\n",
    "from syft.service.response import SyftNotReady"
   ]
  },
  {
   "cell_type": "code",
   "execution_count": null,
   "id": "77d438b7",
   "metadata": {},
   "outputs": [],
   "source": [
    "domain = sy.Worker.named('Domain', processes=1)"
   ]
  },
  {
   "cell_type": "code",
   "execution_count": null,
   "id": "35fa7d9a",
   "metadata": {},
   "outputs": [],
   "source": [
    "client = domain.root_client"
   ]
  },
  {
   "cell_type": "code",
   "execution_count": null,
   "id": "35073718",
   "metadata": {},
   "outputs": [],
   "source": [
    "client.api"
   ]
  },
  {
   "cell_type": "code",
   "execution_count": null,
   "id": "50da4e28",
   "metadata": {},
   "outputs": [],
   "source": [
    "assert domain.queue_router is not None"
   ]
  },
  {
   "cell_type": "code",
   "execution_count": null,
   "id": "7c5bf8e9",
   "metadata": {},
   "outputs": [],
   "source": [
    "assert domain.queue_router.publisher is not None \n",
    "assert isinstance(domain.queue_router.publisher, ZMQPublisher)"
   ]
  },
  {
   "cell_type": "code",
   "execution_count": null,
   "id": "b57d0cd2",
   "metadata": {},
   "outputs": [],
   "source": [
    "assert len(domain.queue_router.subscribers) > 0"
   ]
  },
  {
   "cell_type": "code",
   "execution_count": null,
   "id": "e068a60d",
   "metadata": {},
   "outputs": [],
   "source": [
    "call = SyftAPICall(\n",
    "    node_uid=domain.id, path=\"data_subject.get_all\", args=(), blocking=False, kwargs={}\n",
    ")"
   ]
  },
  {
   "cell_type": "code",
   "execution_count": null,
   "id": "ad97ba50",
   "metadata": {},
   "outputs": [],
   "source": [
    "signed_api_call = call.sign(client.credentials)"
   ]
  },
  {
   "cell_type": "code",
   "execution_count": null,
   "id": "5fc5f10a",
   "metadata": {},
   "outputs": [],
   "source": [
    "signed_result = domain.handle_api_call(signed_api_call)"
   ]
  },
  {
   "cell_type": "code",
   "execution_count": null,
   "id": "bec51e62",
   "metadata": {},
   "outputs": [],
   "source": [
    "assert signed_result.message.data is not None\n",
    "assert isinstance(signed_result.message.data, QueueItem)"
   ]
  },
  {
   "cell_type": "code",
   "execution_count": null,
   "id": "cc59638e",
   "metadata": {},
   "outputs": [],
   "source": [
    "signed_result.message.data"
   ]
  },
  {
   "cell_type": "code",
   "execution_count": null,
   "id": "2e397fed",
   "metadata": {},
   "outputs": [],
   "source": [
    "signed_result.message.data.resolve"
   ]
  },
  {
   "cell_type": "code",
   "execution_count": null,
   "id": "61a5e11a",
   "metadata": {},
   "outputs": [],
   "source": [
    "assert isinstance(signed_result.message.data, QueueItem)"
   ]
  },
  {
   "cell_type": "code",
   "execution_count": null,
   "id": "ac0dbc53",
   "metadata": {},
   "outputs": [],
   "source": [
    "assert signed_result.message.data.resolved is True"
   ]
  },
  {
   "cell_type": "code",
   "execution_count": null,
   "id": "dff43b5c",
   "metadata": {},
   "outputs": [],
   "source": [
    "assert signed_result.message.data.result is not None"
   ]
  },
  {
   "cell_type": "code",
   "execution_count": null,
   "id": "298b67a1",
   "metadata": {},
   "outputs": [],
   "source": [
    "signed_result.message.data.result"
   ]
  }
 ],
 "metadata": {
  "kernelspec": {
   "display_name": "Python 3 (ipykernel)",
   "language": "python",
   "name": "python3"
  },
  "language_info": {
   "codemirror_mode": {
    "name": "ipython",
    "version": 3
   },
   "file_extension": ".py",
   "mimetype": "text/x-python",
   "name": "python",
   "nbconvert_exporter": "python",
   "pygments_lexer": "ipython3",
   "version": "3.9.7"
  }
 },
 "nbformat": 4,
 "nbformat_minor": 5
}
