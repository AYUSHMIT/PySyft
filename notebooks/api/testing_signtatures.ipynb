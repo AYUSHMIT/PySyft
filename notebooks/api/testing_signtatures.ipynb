{
 "cells": [
  {
   "cell_type": "code",
   "execution_count": null,
   "id": "f1c50f10-8a12-453b-805d-686054bbe637",
   "metadata": {
    "tags": []
   },
   "outputs": [],
   "source": [
    "import syft as sy\n",
    "sy.__version__"
   ]
  },
  {
   "cell_type": "code",
   "execution_count": null,
   "id": "49378312-8761-4097-b1ee-b1e4af325870",
   "metadata": {
    "tags": []
   },
   "outputs": [],
   "source": [
    "import inspect\n",
    "from inspect import _signature_fromstr\n",
    "import types\n",
    "import re\n",
    "from types import FunctionType, LambdaType, ModuleType\n",
    "from typing import Callable\n",
    "\n",
    "import numpy as np\n",
    "\n",
    "# func_signature = signature(np.array) # no signature found for builtin <built-in function array>\n",
    "\n",
    "# func_signature = signature(np.all) # numpy._globals._NoValueType not in TYPE_BANK\n",
    "\n",
    "func_signature = inspect.signature(np.zeros_like)\n",
    "display(func_signature)\n",
    "func_signature2 = inspect.signature(np.all)\n",
    "display(func_signature2)\n",
    "# sy.serialize(func_signature2)"
   ]
  },
  {
   "cell_type": "code",
   "execution_count": null,
   "id": "a66f3041-66f2-4ce2-aa8d-b271831c36a6",
   "metadata": {
    "tags": []
   },
   "outputs": [],
   "source": [
    "function_signatures_registry = {\n",
    "    \"concatenate\": \"concatenate(a1,a2, *args,axis=0,out=None,dtype=None,casting='same_kind')\",\n",
    "    \"set_numeric_ops\": \"set_numeric_ops(op1,op2, *args)\",\n",
    "    \"geterrorobj\": \"geterrobj()\",\n",
    "    \"source\": \"source(object, output)\",\n",
    "    \"fromstring\": \"fromstring(string, dtype=None, count=-1, like=None)\"\n",
    "}\n",
    "\n",
    "def get_signature_from_docstring(doc: str, callable_name: str) -> str:\n",
    "    if not doc or callable_name not in doc:\n",
    "        return None\n",
    "    else:\n",
    "        doc = re.sub(r'\\s',\"\", doc.split('\\n\\n')[0])\n",
    "        search_res = re.search(rf\"{callable_name}\\((.+)\\)\", doc)\n",
    "        if search_res:\n",
    "            signature = search_res.group(1)\n",
    "            # decomposing \"[]\" optional  params\n",
    "            params = re.findall(r\"\\[(.+?)\\]\", signature)\n",
    "            if params:\n",
    "                print(callable_name)\n",
    "                for param in params[:-1]:\n",
    "                    signature = signature.replace(f\"[{param}]\", param)\n",
    "            \n",
    "                if re.search(fr\"(?<={params[-1]})\\],\", signature):\n",
    "                    signature = signature.replace(f\"[{params[-1]}],\", params[-1])\n",
    "                else:\n",
    "                    signature = signature.replace(f\"[{params[-1]}]\",  f', {\",\".join([f\"{param}=None\" for param in params[-1].split(\",\") if param])}')\n",
    "\n",
    "            signature = re.sub(r\",(\\/|\\*)\", \"\", signature)\n",
    "            signature = re.sub(r\"dtype=(\\w+),\", \"dtype=None,\", signature)\n",
    "            return f\"{callable_name}({signature})\"\n",
    "        else:\n",
    "            return None\n",
    "\n",
    "def get_signature_from_registry(callable_name: str) -> str:\n",
    "    return function_signatures_registry[callable_name]\n",
    "\n",
    "\n",
    "def generate_signature(_callable) -> inspect.Signature:\n",
    "    name, doc = _callable.__name__, _callable.__doc__\n",
    "    # returning predefined signature if in signature registry\n",
    "    name_in_registry = name in function_signatures_registry.keys()\n",
    "    text_signature = get_signature_from_registry(name) \\\n",
    "        if name_in_registry else  get_signature_from_docstring(doc, name)\n",
    "    # TODO safe handling if function signature can not be generated\n",
    "    text_signature = \"()\" if text_signature is None else  text_signature  \n",
    "    return _signature_fromstr(inspect.Signature, _callable, text_signature, True)\n",
    "\n",
    "\n",
    "def generate_signature_2(_callable):\n",
    "    pass\n",
    "\n",
    "\n",
    "def get_signature(_callable) -> inspect.Signature:\n",
    "    try:\n",
    "        res = inspect.signature(_callable)\n",
    "        if res is None or \"OutStream\" in str(res):\n",
    "            raise ValueError(\"\")\n",
    "        else:\n",
    "            return res\n",
    "    except Exception:\n",
    "        return generate_signature(_callable)"
   ]
  },
  {
   "cell_type": "code",
   "execution_count": null,
   "id": "0a18678f-ffd2-4176-a3d7-1a889cd0d35e",
   "metadata": {
    "tags": []
   },
   "outputs": [],
   "source": [
    "\n",
    "\n",
    "\n",
    "for lib_module in [np]:\n",
    "    parent_path = lib_module.__name__\n",
    "    for attr in dir(lib_module):\n",
    "        lib_obj = getattr(lib_module, attr)\n",
    "        path = f\"{parent_path}.{attr}\"  \n",
    "        if inspect.isfunction(lib_obj) or (callable(lib_obj) and not inspect.isclass(lib_obj)):\n",
    "            signature = get_signature(lib_obj)\n",
    "            try:\n",
    "                sy.serialize(signature)\n",
    "            except Exception as e:\n",
    "                print(f\"skipping {lib_obj} with signature: {signature}\")\n",
    "                pass"
   ]
  },
  {
   "cell_type": "code",
   "execution_count": null,
   "id": "16739ead-f65a-4679-879c-f129390b5066",
   "metadata": {
    "tags": []
   },
   "outputs": [],
   "source": [
    "def get_signature_from_docstring(doc: str, callable_name: str) -> str:\n",
    "    if not doc or callable_name not in doc:\n",
    "        return None\n",
    "    else:\n",
    "        doc = re.sub(r'\\s',\"\", doc.split('\\n\\n')[0])\n",
    "        search_res = re.search(rf\"{callable_name}\\((.+)\\)\", doc)\n",
    "        if search_res:\n",
    "            signature = search_res.group(1)\n",
    "            # decomposing \"[]\" optional  params\n",
    "            params = re.findall(r\"\\[(.+?)\\]\", signature)\n",
    "            if params:\n",
    "                for param in params[:-1]:\n",
    "                    signature = signature.replace(f\"[{param}]\", param)\n",
    "            \n",
    "                if re.search(fr\"(?<={params[-1]})\\],\", signature):\n",
    "                    signature = signature.replace(f\"[{params[-1]}],\", params[-1])\n",
    "                else:\n",
    "                    signature = signature.replace(f\"[{params[-1]}]\",  f', {\",\".join([f\"{param}=None\" for param in params[-1].split(\",\") if param])}')\n",
    "\n",
    "            signature = re.sub(r\",(\\/|\\*)\", \"\", signature)\n",
    "            signature = re.sub(r\"dtype=(\\w+),\", \"dtype=None,\", signature)\n",
    "            return f\"{callable_name}({signature})\"\n",
    "        else:\n",
    "            return None\n",
    "\n",
    "_callable = np.test        \n",
    "sig = get_signature_from_docstring(_callable.__doc__, _callable.__name__)\n",
    "sig"
   ]
  },
  {
   "cell_type": "code",
   "execution_count": null,
   "id": "38436ba1-4636-4143-9152-62e6f73a9d11",
   "metadata": {
    "tags": []
   },
   "outputs": [],
   "source": [
    "display(_callable)\n",
    "signature = get_signature(_callable)\n",
    "display(signature)\n",
    "\n",
    "sy.serialize(signature)"
   ]
  },
  {
   "cell_type": "code",
   "execution_count": null,
   "id": "e1f70de5-2fce-4d4e-9d51-1f650b313640",
   "metadata": {
    "tags": []
   },
   "outputs": [],
   "source": [
    "# inspect.signature(np.test)\n",
    "inspect.signature(np.source)"
   ]
  },
  {
   "cell_type": "code",
   "execution_count": null,
   "id": "3c1445db-6c7d-41ec-9e89-9c163e9d01d1",
   "metadata": {
    "tags": []
   },
   "outputs": [],
   "source": [
    "# np._pytesttester.PytestTester\n",
    "check_funciton = lambda func: func if (inspect.isfunction(getattr(np, func)) or ((callable(getattr(np, func))) and not inspect.isclass(getattr(np, func)))) else None\n",
    "[x for x in list(map(check_funciton, dir(np))) if x is not None]\n",
    "# inspect.isfunction(np.all)"
   ]
  },
  {
   "cell_type": "code",
   "execution_count": null,
   "id": "b0874ece-9651-41e9-b139-3ca524991729",
   "metadata": {
    "tags": []
   },
   "outputs": [],
   "source": [
    "_callable = np.fromstring\n",
    "inspect._signature_fromstr(inspect.Signature, _callable, \"fromstring(string, dtype=None, count=-1, like=None)\")"
   ]
  },
  {
   "cell_type": "code",
   "execution_count": null,
   "id": "b8eacc9c-4823-4c4d-8677-e3fdb29988b1",
   "metadata": {
    "tags": []
   },
   "outputs": [],
   "source": [
    "sig = \"string, dtype=None, count=-1, sep, like=None\"\n",
    "optional = False\n",
    "params = sig.split(', ')\n",
    "for idx in range(len(params)):\n",
    "    match = re.match(r\"(\\w+)=(\\S+)\", params[idx])\n",
    "    if not optional and match:\n",
    "        optional=True\n",
    "    elif optional and not match:\n",
    "        params[idx]=f\"{params[idx]}=None\"\n",
    "    else:\n",
    "        continue\n",
    "    \n",
    "        \n",
    "\n",
    "params   "
   ]
  },
  {
   "cell_type": "code",
   "execution_count": null,
   "id": "e781e388-013a-44f0-8c66-b4c37579cfdd",
   "metadata": {
    "tags": []
   },
   "outputs": [],
   "source": [
    "inspect.signature(np.zeros_like)"
   ]
  },
  {
   "cell_type": "code",
   "execution_count": null,
   "id": "b980c78e-6610-493a-b86f-c33c49057d05",
   "metadata": {
    "tags": []
   },
   "outputs": [],
   "source": [
    "\", \".join([f\"{param}=None\" for param in \", signature, extobj\".split(\", \") if param])"
   ]
  },
  {
   "cell_type": "code",
   "execution_count": null,
   "id": "6fc02609-a1d7-4af2-8bd9-ad348fae824d",
   "metadata": {
    "tags": []
   },
   "outputs": [],
   "source": [
    "sig_str = get_text_signature(np.concatenate.__doc__)\n",
    "\n",
    "\n",
    "inspect._signature_fromstr(inspect.Signature, np.arange, \"()\", True)"
   ]
  },
  {
   "cell_type": "code",
   "execution_count": null,
   "id": "58ff9a2a-f70e-493a-a629-2433470fc092",
   "metadata": {
    "tags": []
   },
   "outputs": [],
   "source": [
    "# inspect.signature(inspect.Parameter.replace)\n",
    "inspect.signature(np.concatenate).parameters"
   ]
  },
  {
   "cell_type": "code",
   "execution_count": null,
   "id": "c35a816d-f75e-4ade-b5cc-b6e446d889e4",
   "metadata": {
    "tags": []
   },
   "outputs": [],
   "source": [
    "custo_arrange = np.arange\n",
    "custo_arrange.__signature__ = inspect._signature_fromstr(inspect.Signature, np.arange, \"arange(start, stop, step, dtype=None, like=None)\", True)\n"
   ]
  }
 ],
 "metadata": {
  "kernelspec": {
   "display_name": "Python 3 (ipykernel)",
   "language": "python",
   "name": "python3"
  },
  "language_info": {
   "codemirror_mode": {
    "name": "ipython",
    "version": 3
   },
   "file_extension": ".py",
   "mimetype": "text/x-python",
   "name": "python",
   "nbconvert_exporter": "python",
   "pygments_lexer": "ipython3",
   "version": "3.10.9"
  }
 },
 "nbformat": 4,
 "nbformat_minor": 5
}
