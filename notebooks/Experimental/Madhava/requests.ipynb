{
 "cells": [
  {
   "cell_type": "code",
   "execution_count": 1,
   "id": "e56b3c75-24df-48ad-80af-d814e96272bd",
   "metadata": {
    "tags": []
   },
   "outputs": [],
   "source": [
    "import syft as sy\n",
    "from syft.core.common.uid import UID\n",
    "from syft.core.node.new.user_code import SubmitUserCode\n",
    "from syft.core.node.new.request import SubmitRequest, ActionStoreChange, DateTime, RequestStatus\n",
    "from syft.core.common.uid import UID\n",
    "from syft.core.node.new.action_store import ActionPermission\n",
    "from syft.core.node.new.credentials import SyftVerifyKey, SyftSigningKey"
   ]
  },
  {
   "cell_type": "code",
   "execution_count": 2,
   "id": "10075e2d-b4af-410c-a839-995742136f64",
   "metadata": {
    "tags": []
   },
   "outputs": [
    {
     "name": "stdout",
     "output_type": "stream",
     "text": [
      "Starting Worker: Sleepy Hochreiter - 125b083bffa745258f658c33d336d38d [<class 'syft.core.node.new.user_service.UserService'>, <class 'syft.core.node.new.action_service.ActionService'>, <class 'syft.core.node.new.test_service.TestService'>, <class 'syft.core.node.new.dataset_service.DatasetService'>, <class 'syft.core.node.new.user_code_service.UserCodeService'>, <class 'syft.core.node.new.request_service.RequestService'>]\n"
     ]
    }
   ],
   "source": [
    "worker = sy.Worker()"
   ]
  },
  {
   "cell_type": "code",
   "execution_count": 3,
   "id": "9a3cd1b7-dcf6-42c4-8cbb-9a00aa6893be",
   "metadata": {
    "tags": []
   },
   "outputs": [
    {
     "name": "stdout",
     "output_type": "stream",
     "text": [
      "Logged into Sleepy Hochreiter as <info@openmined.org>\n"
     ]
    }
   ],
   "source": [
    "client = sy.new_login(node=worker, email=\"info@openmined.org\", password=\"changethis\")"
   ]
  },
  {
   "cell_type": "code",
   "execution_count": 4,
   "id": "721b3fca-6691-4af7-9cb5-74db56f06fca",
   "metadata": {
    "tags": []
   },
   "outputs": [
    {
     "data": {
      "text/plain": [
       "<SyftClient - Sleepy Hochreiter: 125b083bffa745258f658c33d336d38d <PythonConnection>"
      ]
     },
     "execution_count": 4,
     "metadata": {},
     "output_type": "execute_result"
    }
   ],
   "source": [
    "client"
   ]
  },
  {
   "cell_type": "code",
   "execution_count": 5,
   "id": "f51d47bf-5739-4c94-afd0-f211dfdf567f",
   "metadata": {
    "tags": []
   },
   "outputs": [],
   "source": [
    "s = worker.get_service(\"actionservice\")"
   ]
  },
  {
   "cell_type": "code",
   "execution_count": null,
   "id": "e078706d-db5a-42a6-bd1b-c924d7c6d68e",
   "metadata": {
    "tags": []
   },
   "outputs": [],
   "source": []
  },
  {
   "cell_type": "code",
   "execution_count": 6,
   "id": "08003332-57ee-4138-a5b8-392cd16f8494",
   "metadata": {
    "tags": []
   },
   "outputs": [],
   "source": [
    "import numpy as np"
   ]
  },
  {
   "cell_type": "code",
   "execution_count": 7,
   "id": "171f69b7-65bb-4149-9b1b-504ba538920a",
   "metadata": {
    "tags": []
   },
   "outputs": [],
   "source": [
    "from syft.core.node.new.action_service import NumpyArrayObject"
   ]
  },
  {
   "cell_type": "code",
   "execution_count": 8,
   "id": "31d7e294-45d3-4d99-9fc5-46716ea782b2",
   "metadata": {
    "tags": []
   },
   "outputs": [],
   "source": [
    "x = np.array([1, 2, 3])"
   ]
  },
  {
   "cell_type": "code",
   "execution_count": 9,
   "id": "e132d83b-4a2f-4b08-88ad-134239053961",
   "metadata": {
    "tags": []
   },
   "outputs": [],
   "source": [
    "y = NumpyArrayObject(syft_action_data=x)"
   ]
  },
  {
   "cell_type": "code",
   "execution_count": 10,
   "id": "9d2a8cb6-109e-4289-86b2-ce35ace97a85",
   "metadata": {
    "tags": []
   },
   "outputs": [
    {
     "data": {
      "text/markdown": [
       "```python\n",
       "class NumpyArrayObjectPointer:\n",
       "  id: str = 868ca1a806604544b1d4810869ed1068\n",
       "  node_uid: str = 125b083bffa745258f658c33d336d38d\n",
       "  parent_id: str = None\n",
       "\n",
       "```"
      ],
      "text/plain": [
       "syft.core.node.new.action_service.NumpyArrayObjectPointer"
      ]
     },
     "execution_count": 10,
     "metadata": {},
     "output_type": "execute_result"
    }
   ],
   "source": [
    "client.api.services.action.set(y)"
   ]
  },
  {
   "cell_type": "code",
   "execution_count": 11,
   "id": "600e355e-23cb-4823-93d7-3cf2ab9ac6f1",
   "metadata": {
    "tags": []
   },
   "outputs": [
    {
     "data": {
      "text/html": [
       "{&lt;UID: 868ca1a806604544b1d4810869ed1068&gt;: {&#x27;_id&#x27;: UUID(&#x27;868ca1a8-0660-4544-b1d4-810869ed1068&#x27;), &#x27;__canonical_name__&#x27;: &#x27;NumpyArrayObject&#x27;, &#x27;__version__&#x27;: 1, &#x27;__blob__&#x27;: b&#x27;\\x00\\x00\\x00\\x00\\xbf\\x00\\x00\\x00\\x00\\x00\\x00\\x00\\x00\\x00\\x04\\x00\\x00\\x00\\x00\\x00\\x00\\x00\\x00\\x00\\x00\\x00\\x00\\x00\\x00\\x00\\x00\\x00\\x05\\x00\\x00\\x00r\\x00\\x00\\x00\\t\\x00\\x00\\x00\\x02.\\x00\\x00builtins.dict\\x00\\x00\\x00\\x00\\x00\\x00\\x00\\xb7\\x00\\x00\\x00\\x00\\x00\\x00\\x00\\x00\\x00\\x02\\x00\\x05\\x00\\x00\\x00.\\x00\\x00\\x00\\x15\\x00\\x00\\x00.\\x00\\x00\\x00%\\x00\\x00\\x00B\\x02\\x00\\x00\\xa1\\x00\\x00\\x00\\x82\\x02\\x00\\x00\\xed\\x00\\x00\\x00\\x82\\x02\\x00\\x00\\r\\x02\\x00\\x00\\x82\\x02\\x00\\x00a\\x02\\x00\\x00\\xc2\\x02\\x00\\x005\\x00\\x00\\x00\\xc2\\x05\\x00\\x00\\xb5\\x00\\x00\\x00\\x82\\x02\\x00\\x00\\x01\\x01\\x00\\x00\\xc2\\x0f\\x00\\x00!\\x02\\x00\\x00\\x02\\x03\\x00\\x00y\\x02\\x00\\x00\\x02\\x03\\x00\\x00\\x00\\x00\\x00\\x00\\x08\\x00\\x00\\x00\\x00\\x00\\x00\\x00\\x00\\x00\\x04\\x00\\x00\\x00\\x00\\x00\\x00\\x00\\x00\\x00\\x00\\x00\\x00\\x00\\x00\\x00\\x00\\x00\\x05\\x00\\x00\\x00j\\x00\\x00\\x00\\t\\x00\\x00\\x00\\x12\\x00\\x00\\x00builtins.str\\x00\\x00\\x00\\x00id\\x00\\x00\\x00\\x00\\x00\\x00\\x00\\x00\\x00\\x00\\x16\\x00\\x00\\x00\\x00\\x00\\x00\\x00\\x00\\x00\\x04\\x00\\x1d\\x00\\x00\\x00\\x0e\\x00\\x00\\x00\\x1d\\x00\\x00\\x00\\x0e\\x00\\x00\\x00\\x05\\x00\\x00\\x00\\xca\\x00\\x00\\x00\\x00\\x00\\x00\\x00\\x00\\x00\\x00\\x00syft.core.common.uid.UID\\x00\\x00\\x00\\x00\\x00\\x00\\x00\\x00\\x05\\x00\\x00\\x002\\x00\\x00\\x00\\x05\\x00\\x00\\x00\\x82\\x02\\x00\\x00value\\x00\\x00\\x00\\x00\\x00\\x00\\x00\\t\\x00\\x00\\x00\\x00\\x00\\x00\\x00\\x00\\x00\\x04\\x00\\x00\\x00\\x00\\x00\\x00\\x00\\x00\\x00\\x00\\x00\\x00\\x00\\x00\\x00\\x00\\x00\\x05\\x00\\x00\\x00z\\x00\\x00\\x00\\t\\x00\\x00\\x00\\x82\\x00\\x00\\x00builtins.bytes\\x00\\x00\\x86\\x8c\\xa1\\xa8\\x06`ED\\xb1\\xd4\\x81\\x08i\\xed\\x10h\\x00\\x00\\x00\\x00\\t\\x00\\x00\\x00\\x00\\x00\\x00\\x00\\x00\\x00\\x04\\x00\\x00\\x00\\x00\\x00\\x00\\x00\\x00\\x00\\x00\\x00\\x00\\x00\\x00\\x00\\x00\\x00\\x05\\x00\\x00\\x00j\\x00\\x00\\x00\\t\\x00\\x00\\x00r\\x00\\x00\\x00builtins.str\\x00\\x00\\x00\\x00syft_parent_id\\x00\\x00\\x00\\x00\\x00\\x00\\t\\x00\\x00\\x00\\x00\\x00\\x00\\x00\\x00\\x00\\x04\\x00\\x00\\x00\\x00\\x00\\x00\\x00\\x00\\x00\\x00\\x00\\x00\\x00\\x00\\x00\\x00\\x00\\x05\\x00\\x00\\x00\\x92\\x00\\x00\\x00\\r\\x00\\x00\\x00\\n\\x00\\x00\\x00builtins.NoneType\\x00\\x00\\x00\\x00\\x00\\x00\\x001\\x00\\x00\\x00\\x00\\x00\\x00\\x00\\x00\\x00\\x00\\x00\\t\\x00\\x00\\x00\\x00\\x00\\x00\\x00\\x00\\x00\\x04\\x00\\x00\\x00\\x00\\x00\\x00\\x00\\x00\\x00\\x00\\x00\\x00\\x00\\x00\\x00\\x00\\x00\\x05\\x00\\x00\\x00j\\x00\\x00\\x00\\t\\x00\\x00\\x00\\x82\\x00\\x00\\x00builtins.str\\x00\\x00\\x00\\x00syft_action_data\\x00\\x00\\x00\\x00&gt;\\x00\\x00\\x00\\x00\\x00\\x00\\x00\\x00\\x00\\x04\\x00\\x00\\x00\\x00\\x00\\x00\\x00\\x00\\x00\\x00\\x00\\x00\\x00\\x00\\x00\\x00\\x00\\x05\\x00\\x00\\x00r\\x00\\x00\\x00\\t\\x00\\x00\\x00\\xc2\\r\\x00\\x00numpy.ndarray\\x00\\x00\\x00\\x00\\x00\\x00\\x006\\x00\\x00\\x00\\x00\\x00\\x00\\x00\\x00\\x00\\x04\\x00\\x00\\x00\\x00\\x00\\x00\\x00\\x00\\x00\\x00\\x00\\x00\\x00\\x00\\x00\\x00\\x00\\x05\\x00\\x00\\x00z\\x00\\x00\\x00\\t\\x00\\x00\\x00\\xc2\\x0b\\x00\\x00builtins.tuple\\x00\\x00\\x00\\x00\\x00\\x00.\\x00\\x00\\x00\\x00\\x00\\x00\\x00\\x00\\x00\\x01\\x00\\x01\\x00\\x00\\x00\\x1e\\x00\\x00\\x00\\t\\x00\\x00\\x00\\xc2\\x05\\x00\\x00a\\x00\\x00\\x00B\\x02\\x00\\x00\\x81\\x00\\x00\\x00B\\x02\\x00\\x00\\x00\\x00\\x00\\x00\\x16\\x00\\x00\\x00\\x00\\x00\\x00\\x00\\x00\\x00\\x04\\x00\\x00\\x00\\x00\\x00\\x00\\x00\\x00\\x00\\x00\\x00\\x00\\x00\\x00\\x00\\x00\\x00\\x05\\x00\\x00\\x00z\\x00\\x00\\x00\\t\\x00\\x00\\x00\\x92\\x03\\x00\\x00builtins.bytes\\x00\\x00(\\xb5/\\xfd \\xd8M\\x03\\x00\\xd2E\\x0f\\x1a\\xc0%\\xad\\x01\\xff\\xff\\xae\\xff\\xff7\\xfd\\xa67}\\xa0\\xb5\\x05I\\xb8\\x93\\xad\\x91\\xbd\\xb7L\\x01\\xff2\\x99\\nTm\\x95\\x1bf=k\\xaa\\xd3q\\x03)\\x9eF\\xe0\\xb1(8\\xa11om%\\x02\\x0e\\xda\\xf3\\xc3\\xdd]\\x11\\x00@&amp;\\xe5^n\\x028\\xccia\\xc6\\x82\\xe6d\\x08J\\xf4\\xce\\x99\\x11\\xb7!\\xd3\\xd5\\xad\\xb8\\xf0T/&gt;G\\x1fui\\x01\\x1f\\x03\\xe8\\x02\\x00\\x00\\x00\\x00\\x00\\x00\\x00\\x00\\x00\\x00\\x08\\x00\\x00\\x00\\x00\\x00\\x00\\x00\\x00\\x00\\x04\\x00\\x00\\x00\\x00\\x00\\x00\\x00\\x00\\x00\\x00\\x00\\x00\\x00\\x00\\x00\\x00\\x00\\x05\\x00\\x00\\x00j\\x00\\x00\\x00\\t\\x00\\x00\\x00\\x12\\x00\\x00\\x00builtins.int\\x00\\x00\\x00\\x00\\x00\\xd8\\x00\\x00\\x00\\x00\\x00\\x00\\x00\\x00\\x00\\x00\\x08\\x00\\x00\\x00\\x00\\x00\\x00\\x00\\x00\\x00\\x04\\x00\\x00\\x00\\x00\\x00\\x00\\x00\\x00\\x00\\x00\\x00\\x00\\x00\\x00\\x00\\x00\\x00\\x05\\x00\\x00\\x00j\\x00\\x00\\x00\\t\\x00\\x00\\x00*\\x00\\x00\\x00builtins.str\\x00\\x00\\x00\\x00int64\\x00\\x00\\x00\\x00\\x00\\x00\\x00\\t\\x00\\x00\\x00\\x00\\x00\\x00\\x00\\x00\\x00\\x04\\x00\\x00\\x00\\x00\\x00\\x00\\x00\\x00\\x00\\x00\\x00\\x00\\x00\\x00\\x00\\x00\\x00\\x05\\x00\\x00\\x00j\\x00\\x00\\x00\\t\\x00\\x00\\x00\\x82\\x00\\x00\\x00builtins.str\\x00\\x00\\x00\\x00syft_pre_hooks__\\x00\\x00\\x00\\x00\\x0b\\x00\\x00\\x00\\x00\\x00\\x00\\x00\\x00\\x00\\x04\\x00\\x00\\x00\\x00\\x00\\x00\\x00\\x00\\x00\\x00\\x00\\x00\\x00\\x00\\x00\\x00\\x00\\x05\\x00\\x00\\x00r\\x00\\x00\\x00\\t\\x00\\x00\\x00\\x02\\x01\\x00\\x00builtins.dict\\x00\\x00\\x00\\x00\\x00\\x00\\x00\\x03\\x00\\x00\\x00\\x00\\x00\\x00\\x00\\x00\\x00\\x02\\x00\\x05\\x00\\x00\\x00\\x06\\x00\\x00\\x00\\x01\\x00\\x00\\x00\\x06\\x00\\x00\\x00\\x00\\x00\\x00\\x00\\n\\x00\\x00\\x00\\x00\\x00\\x00\\x00\\x00\\x00\\x04\\x00\\x00\\x00\\x00\\x00\\x00\\x00\\x00\\x00\\x00\\x00\\x00\\x00\\x00\\x00\\x00\\x00\\x05\\x00\\x00\\x00j\\x00\\x00\\x00\\t\\x00\\x00\\x00\\x8a\\x00\\x00\\x00builtins.str\\x00\\x00\\x00\\x00syft_post_hooks__\\x00\\x00\\x00\\x00\\x00\\x00\\x00\\x00\\x00\\x00\\x00\\x0b\\x00\\x00\\x00\\x00\\x00\\x00\\x00\\x00\\x00\\x04\\x00\\x00\\x00\\x00\\x00\\x00\\x00\\x00\\x00\\x00\\x00\\x00\\x00\\x00\\x00\\x00\\x00\\x05\\x00\\x00\\x00r\\x00\\x00\\x00\\t\\x00\\x00\\x00\\x02\\x01\\x00\\x00builtins.dict\\x00\\x00\\x00\\x00\\x00\\x00\\x00\\x03\\x00\\x00\\x00\\x00\\x00\\x00\\x00\\x00\\x00\\x02\\x00\\x05\\x00\\x00\\x00\\x06\\x00\\x00\\x00\\x01\\x00\\x00\\x00\\x06\\x00\\x00\\x00&#x27;, &#x27;__repr__&#x27;: &#x27;array([1, 2, 3])&#x27;}}"
      ],
      "text/plain": [
       "{<UID: 868ca1a806604544b1d4810869ed1068>: {'_id': UUID('868ca1a8-0660-4544-b1d4-810869ed1068'),\n",
       "  '__canonical_name__': 'NumpyArrayObject',\n",
       "  '__version__': 1,\n",
       "  '__blob__': b'\\x00\\x00\\x00\\x00\\xbf\\x00\\x00\\x00\\x00\\x00\\x00\\x00\\x00\\x00\\x04\\x00\\x00\\x00\\x00\\x00\\x00\\x00\\x00\\x00\\x00\\x00\\x00\\x00\\x00\\x00\\x00\\x00\\x05\\x00\\x00\\x00r\\x00\\x00\\x00\\t\\x00\\x00\\x00\\x02.\\x00\\x00builtins.dict\\x00\\x00\\x00\\x00\\x00\\x00\\x00\\xb7\\x00\\x00\\x00\\x00\\x00\\x00\\x00\\x00\\x00\\x02\\x00\\x05\\x00\\x00\\x00.\\x00\\x00\\x00\\x15\\x00\\x00\\x00.\\x00\\x00\\x00%\\x00\\x00\\x00B\\x02\\x00\\x00\\xa1\\x00\\x00\\x00\\x82\\x02\\x00\\x00\\xed\\x00\\x00\\x00\\x82\\x02\\x00\\x00\\r\\x02\\x00\\x00\\x82\\x02\\x00\\x00a\\x02\\x00\\x00\\xc2\\x02\\x00\\x005\\x00\\x00\\x00\\xc2\\x05\\x00\\x00\\xb5\\x00\\x00\\x00\\x82\\x02\\x00\\x00\\x01\\x01\\x00\\x00\\xc2\\x0f\\x00\\x00!\\x02\\x00\\x00\\x02\\x03\\x00\\x00y\\x02\\x00\\x00\\x02\\x03\\x00\\x00\\x00\\x00\\x00\\x00\\x08\\x00\\x00\\x00\\x00\\x00\\x00\\x00\\x00\\x00\\x04\\x00\\x00\\x00\\x00\\x00\\x00\\x00\\x00\\x00\\x00\\x00\\x00\\x00\\x00\\x00\\x00\\x00\\x05\\x00\\x00\\x00j\\x00\\x00\\x00\\t\\x00\\x00\\x00\\x12\\x00\\x00\\x00builtins.str\\x00\\x00\\x00\\x00id\\x00\\x00\\x00\\x00\\x00\\x00\\x00\\x00\\x00\\x00\\x16\\x00\\x00\\x00\\x00\\x00\\x00\\x00\\x00\\x00\\x04\\x00\\x1d\\x00\\x00\\x00\\x0e\\x00\\x00\\x00\\x1d\\x00\\x00\\x00\\x0e\\x00\\x00\\x00\\x05\\x00\\x00\\x00\\xca\\x00\\x00\\x00\\x00\\x00\\x00\\x00\\x00\\x00\\x00\\x00syft.core.common.uid.UID\\x00\\x00\\x00\\x00\\x00\\x00\\x00\\x00\\x05\\x00\\x00\\x002\\x00\\x00\\x00\\x05\\x00\\x00\\x00\\x82\\x02\\x00\\x00value\\x00\\x00\\x00\\x00\\x00\\x00\\x00\\t\\x00\\x00\\x00\\x00\\x00\\x00\\x00\\x00\\x00\\x04\\x00\\x00\\x00\\x00\\x00\\x00\\x00\\x00\\x00\\x00\\x00\\x00\\x00\\x00\\x00\\x00\\x00\\x05\\x00\\x00\\x00z\\x00\\x00\\x00\\t\\x00\\x00\\x00\\x82\\x00\\x00\\x00builtins.bytes\\x00\\x00\\x86\\x8c\\xa1\\xa8\\x06`ED\\xb1\\xd4\\x81\\x08i\\xed\\x10h\\x00\\x00\\x00\\x00\\t\\x00\\x00\\x00\\x00\\x00\\x00\\x00\\x00\\x00\\x04\\x00\\x00\\x00\\x00\\x00\\x00\\x00\\x00\\x00\\x00\\x00\\x00\\x00\\x00\\x00\\x00\\x00\\x05\\x00\\x00\\x00j\\x00\\x00\\x00\\t\\x00\\x00\\x00r\\x00\\x00\\x00builtins.str\\x00\\x00\\x00\\x00syft_parent_id\\x00\\x00\\x00\\x00\\x00\\x00\\t\\x00\\x00\\x00\\x00\\x00\\x00\\x00\\x00\\x00\\x04\\x00\\x00\\x00\\x00\\x00\\x00\\x00\\x00\\x00\\x00\\x00\\x00\\x00\\x00\\x00\\x00\\x00\\x05\\x00\\x00\\x00\\x92\\x00\\x00\\x00\\r\\x00\\x00\\x00\\n\\x00\\x00\\x00builtins.NoneType\\x00\\x00\\x00\\x00\\x00\\x00\\x001\\x00\\x00\\x00\\x00\\x00\\x00\\x00\\x00\\x00\\x00\\x00\\t\\x00\\x00\\x00\\x00\\x00\\x00\\x00\\x00\\x00\\x04\\x00\\x00\\x00\\x00\\x00\\x00\\x00\\x00\\x00\\x00\\x00\\x00\\x00\\x00\\x00\\x00\\x00\\x05\\x00\\x00\\x00j\\x00\\x00\\x00\\t\\x00\\x00\\x00\\x82\\x00\\x00\\x00builtins.str\\x00\\x00\\x00\\x00syft_action_data\\x00\\x00\\x00\\x00>\\x00\\x00\\x00\\x00\\x00\\x00\\x00\\x00\\x00\\x04\\x00\\x00\\x00\\x00\\x00\\x00\\x00\\x00\\x00\\x00\\x00\\x00\\x00\\x00\\x00\\x00\\x00\\x05\\x00\\x00\\x00r\\x00\\x00\\x00\\t\\x00\\x00\\x00\\xc2\\r\\x00\\x00numpy.ndarray\\x00\\x00\\x00\\x00\\x00\\x00\\x006\\x00\\x00\\x00\\x00\\x00\\x00\\x00\\x00\\x00\\x04\\x00\\x00\\x00\\x00\\x00\\x00\\x00\\x00\\x00\\x00\\x00\\x00\\x00\\x00\\x00\\x00\\x00\\x05\\x00\\x00\\x00z\\x00\\x00\\x00\\t\\x00\\x00\\x00\\xc2\\x0b\\x00\\x00builtins.tuple\\x00\\x00\\x00\\x00\\x00\\x00.\\x00\\x00\\x00\\x00\\x00\\x00\\x00\\x00\\x00\\x01\\x00\\x01\\x00\\x00\\x00\\x1e\\x00\\x00\\x00\\t\\x00\\x00\\x00\\xc2\\x05\\x00\\x00a\\x00\\x00\\x00B\\x02\\x00\\x00\\x81\\x00\\x00\\x00B\\x02\\x00\\x00\\x00\\x00\\x00\\x00\\x16\\x00\\x00\\x00\\x00\\x00\\x00\\x00\\x00\\x00\\x04\\x00\\x00\\x00\\x00\\x00\\x00\\x00\\x00\\x00\\x00\\x00\\x00\\x00\\x00\\x00\\x00\\x00\\x05\\x00\\x00\\x00z\\x00\\x00\\x00\\t\\x00\\x00\\x00\\x92\\x03\\x00\\x00builtins.bytes\\x00\\x00(\\xb5/\\xfd \\xd8M\\x03\\x00\\xd2E\\x0f\\x1a\\xc0%\\xad\\x01\\xff\\xff\\xae\\xff\\xff7\\xfd\\xa67}\\xa0\\xb5\\x05I\\xb8\\x93\\xad\\x91\\xbd\\xb7L\\x01\\xff2\\x99\\nTm\\x95\\x1bf=k\\xaa\\xd3q\\x03)\\x9eF\\xe0\\xb1(8\\xa11om%\\x02\\x0e\\xda\\xf3\\xc3\\xdd]\\x11\\x00@&\\xe5^n\\x028\\xccia\\xc6\\x82\\xe6d\\x08J\\xf4\\xce\\x99\\x11\\xb7!\\xd3\\xd5\\xad\\xb8\\xf0T/>G\\x1fui\\x01\\x1f\\x03\\xe8\\x02\\x00\\x00\\x00\\x00\\x00\\x00\\x00\\x00\\x00\\x00\\x08\\x00\\x00\\x00\\x00\\x00\\x00\\x00\\x00\\x00\\x04\\x00\\x00\\x00\\x00\\x00\\x00\\x00\\x00\\x00\\x00\\x00\\x00\\x00\\x00\\x00\\x00\\x00\\x05\\x00\\x00\\x00j\\x00\\x00\\x00\\t\\x00\\x00\\x00\\x12\\x00\\x00\\x00builtins.int\\x00\\x00\\x00\\x00\\x00\\xd8\\x00\\x00\\x00\\x00\\x00\\x00\\x00\\x00\\x00\\x00\\x08\\x00\\x00\\x00\\x00\\x00\\x00\\x00\\x00\\x00\\x04\\x00\\x00\\x00\\x00\\x00\\x00\\x00\\x00\\x00\\x00\\x00\\x00\\x00\\x00\\x00\\x00\\x00\\x05\\x00\\x00\\x00j\\x00\\x00\\x00\\t\\x00\\x00\\x00*\\x00\\x00\\x00builtins.str\\x00\\x00\\x00\\x00int64\\x00\\x00\\x00\\x00\\x00\\x00\\x00\\t\\x00\\x00\\x00\\x00\\x00\\x00\\x00\\x00\\x00\\x04\\x00\\x00\\x00\\x00\\x00\\x00\\x00\\x00\\x00\\x00\\x00\\x00\\x00\\x00\\x00\\x00\\x00\\x05\\x00\\x00\\x00j\\x00\\x00\\x00\\t\\x00\\x00\\x00\\x82\\x00\\x00\\x00builtins.str\\x00\\x00\\x00\\x00syft_pre_hooks__\\x00\\x00\\x00\\x00\\x0b\\x00\\x00\\x00\\x00\\x00\\x00\\x00\\x00\\x00\\x04\\x00\\x00\\x00\\x00\\x00\\x00\\x00\\x00\\x00\\x00\\x00\\x00\\x00\\x00\\x00\\x00\\x00\\x05\\x00\\x00\\x00r\\x00\\x00\\x00\\t\\x00\\x00\\x00\\x02\\x01\\x00\\x00builtins.dict\\x00\\x00\\x00\\x00\\x00\\x00\\x00\\x03\\x00\\x00\\x00\\x00\\x00\\x00\\x00\\x00\\x00\\x02\\x00\\x05\\x00\\x00\\x00\\x06\\x00\\x00\\x00\\x01\\x00\\x00\\x00\\x06\\x00\\x00\\x00\\x00\\x00\\x00\\x00\\n\\x00\\x00\\x00\\x00\\x00\\x00\\x00\\x00\\x00\\x04\\x00\\x00\\x00\\x00\\x00\\x00\\x00\\x00\\x00\\x00\\x00\\x00\\x00\\x00\\x00\\x00\\x00\\x05\\x00\\x00\\x00j\\x00\\x00\\x00\\t\\x00\\x00\\x00\\x8a\\x00\\x00\\x00builtins.str\\x00\\x00\\x00\\x00syft_post_hooks__\\x00\\x00\\x00\\x00\\x00\\x00\\x00\\x00\\x00\\x00\\x00\\x0b\\x00\\x00\\x00\\x00\\x00\\x00\\x00\\x00\\x00\\x04\\x00\\x00\\x00\\x00\\x00\\x00\\x00\\x00\\x00\\x00\\x00\\x00\\x00\\x00\\x00\\x00\\x00\\x05\\x00\\x00\\x00r\\x00\\x00\\x00\\t\\x00\\x00\\x00\\x02\\x01\\x00\\x00builtins.dict\\x00\\x00\\x00\\x00\\x00\\x00\\x00\\x03\\x00\\x00\\x00\\x00\\x00\\x00\\x00\\x00\\x00\\x02\\x00\\x05\\x00\\x00\\x00\\x06\\x00\\x00\\x00\\x01\\x00\\x00\\x00\\x06\\x00\\x00\\x00',\n",
       "  '__repr__': 'array([1, 2, 3])'}}"
      ]
     },
     "execution_count": 11,
     "metadata": {},
     "output_type": "execute_result"
    }
   ],
   "source": [
    "s.store.data"
   ]
  },
  {
   "cell_type": "code",
   "execution_count": 12,
   "id": "602995e6-fc68-4245-bfb5-d905b8c4c9d6",
   "metadata": {
    "tags": []
   },
   "outputs": [
    {
     "data": {
      "text/plain": [
       "<UID: 868ca1a806604544b1d4810869ed1068>"
      ]
     },
     "execution_count": 12,
     "metadata": {},
     "output_type": "execute_result"
    }
   ],
   "source": [
    "first_id = list(s.store.data.keys())[0]\n",
    "first_id"
   ]
  },
  {
   "cell_type": "code",
   "execution_count": 13,
   "id": "3ab1a652-25d2-4fd3-a1ba-c871cecdea85",
   "metadata": {
    "tags": []
   },
   "outputs": [
    {
     "data": {
      "text/html": [
       "defaultdict(&lt;class &#x27;set&#x27;&gt;, {&lt;UID: 868ca1a806604544b1d4810869ed1068&gt;: {&#x27;485cdef9759f82c81411dfbd522d7a3aba0aef172a614e02a6c093536a988719_OWNER&#x27;, &#x27;485cdef9759f82c81411dfbd522d7a3aba0aef172a614e02a6c093536a988719_READ&#x27;, &#x27;485cdef9759f82c81411dfbd522d7a3aba0aef172a614e02a6c093536a988719_EXECUTE&#x27;, &#x27;485cdef9759f82c81411dfbd522d7a3aba0aef172a614e02a6c093536a988719_WRITE&#x27;}})"
      ],
      "text/plain": [
       "defaultdict(set,\n",
       "            {<UID: 868ca1a806604544b1d4810869ed1068>: {'485cdef9759f82c81411dfbd522d7a3aba0aef172a614e02a6c093536a988719_EXECUTE',\n",
       "              '485cdef9759f82c81411dfbd522d7a3aba0aef172a614e02a6c093536a988719_OWNER',\n",
       "              '485cdef9759f82c81411dfbd522d7a3aba0aef172a614e02a6c093536a988719_READ',\n",
       "              '485cdef9759f82c81411dfbd522d7a3aba0aef172a614e02a6c093536a988719_WRITE'}})"
      ]
     },
     "execution_count": 13,
     "metadata": {},
     "output_type": "execute_result"
    }
   ],
   "source": [
    "s.store.permissions"
   ]
  },
  {
   "cell_type": "code",
   "execution_count": 14,
   "id": "2add4ee4-f075-4461-9b13-508474b84ddc",
   "metadata": {
    "tags": []
   },
   "outputs": [
    {
     "data": {
      "text/plain": [
       "<SigningKey for: 485cdef9759f82c81411dfbd522d7a3aba0aef172a614e02a6c093536a988719>"
      ]
     },
     "execution_count": 14,
     "metadata": {},
     "output_type": "execute_result"
    }
   ],
   "source": [
    "client.credentials"
   ]
  },
  {
   "cell_type": "code",
   "execution_count": 15,
   "id": "e6aa65f2-c424-4929-9c8a-81943afc75b3",
   "metadata": {},
   "outputs": [],
   "source": [
    "obj_id = first_id"
   ]
  },
  {
   "cell_type": "code",
   "execution_count": 16,
   "id": "e7d237a8-9688-45f4-b7f1-871060fe447e",
   "metadata": {
    "tags": []
   },
   "outputs": [],
   "source": [
    "change_owner = ActionStoreChange(action_object_uid=obj_id, apply_permission_type=ActionPermission.OWNER)"
   ]
  },
  {
   "cell_type": "code",
   "execution_count": 17,
   "id": "c19272fc-e039-43c1-b138-c362fa24c459",
   "metadata": {
    "tags": []
   },
   "outputs": [],
   "source": [
    "change_read = ActionStoreChange(action_object_uid=obj_id, apply_permission_type=ActionPermission.EXECUTE)"
   ]
  },
  {
   "cell_type": "code",
   "execution_count": 18,
   "id": "7aa96621-6546-4875-9c75-d0e4ee5b71de",
   "metadata": {
    "tags": []
   },
   "outputs": [],
   "source": [
    "change_execute = ActionStoreChange(action_object_uid=obj_id, apply_permission_type=ActionPermission.READ)"
   ]
  },
  {
   "cell_type": "code",
   "execution_count": 19,
   "id": "6122f124-b252-4d80-b1b0-31b78101edb6",
   "metadata": {
    "tags": []
   },
   "outputs": [],
   "source": [
    "change_write = ActionStoreChange(action_object_uid=obj_id, apply_permission_type=ActionPermission.WRITE)"
   ]
  },
  {
   "cell_type": "code",
   "execution_count": 20,
   "id": "bc94cb44-137e-4fd9-8546-0d43dde166c6",
   "metadata": {},
   "outputs": [],
   "source": [
    "changes = [change_owner, change_read, change_execute, change_write]"
   ]
  },
  {
   "cell_type": "code",
   "execution_count": null,
   "id": "289b26ef-3f0a-4507-9081-62be25ce507f",
   "metadata": {},
   "outputs": [],
   "source": []
  },
  {
   "cell_type": "code",
   "execution_count": 21,
   "id": "74db85f0-6c99-4ac6-850a-f5664aeb0d43",
   "metadata": {
    "tags": []
   },
   "outputs": [],
   "source": [
    "request = SubmitRequest(changes=changes)"
   ]
  },
  {
   "cell_type": "code",
   "execution_count": 22,
   "id": "c6fc80ee-9327-450b-a5af-47249679d4fd",
   "metadata": {
    "tags": []
   },
   "outputs": [
    {
     "data": {
      "text/markdown": [
       "```python\n",
       "class SubmitRequest:\n",
       "  id: str = 95f7c6a42f7f4eb083c10b0704333ca7\n",
       "  changes: str = [syft.core.node.new.request.ActionStoreChange, syft.core.node.new.request.ActionStoreChange, syft.core.node.new.request.ActionStoreChange, syft.core.node.new.request.ActionStoreChange]\n",
       "\n",
       "```"
      ],
      "text/plain": [
       "syft.core.node.new.request.SubmitRequest"
      ]
     },
     "execution_count": 22,
     "metadata": {},
     "output_type": "execute_result"
    }
   ],
   "source": [
    "request"
   ]
  },
  {
   "cell_type": "code",
   "execution_count": 23,
   "id": "b361d7e4-25cb-42ac-9240-8ff582216cda",
   "metadata": {
    "tags": []
   },
   "outputs": [
    {
     "data": {
      "text/markdown": [
       "```python\n",
       "class Request:\n",
       "  id: str = 95f7c6a42f7f4eb083c10b0704333ca7\n",
       "  requesting_user_verify_key: str = 485cdef9759f82c81411dfbd522d7a3aba0aef172a614e02a6c093536a988719\n",
       "  approving_user_verify_key: str = None\n",
       "  request_time: str = id=<UID: 184bdbd7caa3489898538c2569365657> utc_timestamp=1676322738.519911\n",
       "  approval_time: str = None\n",
       "  status: str = RequestStatus.PENDING\n",
       "  node_uid: str = 125b083bffa745258f658c33d336d38d\n",
       "  request_hash: str = \"8c0f4b252c5e9f0adc694510e47d2360bfb5774e3c6a9e7a63ac948b7451ca55\"\n",
       "  changes: str = [syft.core.node.new.request.ActionStoreChange, syft.core.node.new.request.ActionStoreChange, syft.core.node.new.request.ActionStoreChange, syft.core.node.new.request.ActionStoreChange]\n",
       "\n",
       "```"
      ],
      "text/plain": [
       "syft.core.node.new.request.Request"
      ]
     },
     "execution_count": 23,
     "metadata": {},
     "output_type": "execute_result"
    }
   ],
   "source": [
    "client.api.services.request.submit(request=request)"
   ]
  },
  {
   "cell_type": "code",
   "execution_count": 24,
   "id": "35ae48a5-3d85-4f39-a170-16c367d79131",
   "metadata": {
    "tags": []
   },
   "outputs": [
    {
     "data": {
      "text/html": [
       "List - Size: 1\n",
       "<div>\n",
       "<style scoped>\n",
       "    .dataframe tbody tr th:only-of-type {\n",
       "        vertical-align: middle;\n",
       "    }\n",
       "\n",
       "    .dataframe tbody tr th {\n",
       "        vertical-align: top;\n",
       "    }\n",
       "\n",
       "    .dataframe thead th {\n",
       "        text-align: right;\n",
       "    }\n",
       "</style>\n",
       "<table border=\"1\" class=\"dataframe\">\n",
       "  <thead>\n",
       "    <tr style=\"text-align: right;\">\n",
       "      <th></th>\n",
       "      <th>type</th>\n",
       "      <th>id</th>\n",
       "    </tr>\n",
       "  </thead>\n",
       "  <tbody>\n",
       "    <tr>\n",
       "      <th>0</th>\n",
       "      <td>syft.core.node.new.request.Request</td>\n",
       "      <td>95f7c6a42f7f4eb083c10b0704333ca7</td>\n",
       "    </tr>\n",
       "  </tbody>\n",
       "</table>\n",
       "</div>"
      ],
      "text/plain": [
       "[syft.core.node.new.request.Request]"
      ]
     },
     "execution_count": 24,
     "metadata": {},
     "output_type": "execute_result"
    }
   ],
   "source": [
    "requests = client.api.services.request.get_all_for_status(status=RequestStatus.PENDING)\n",
    "requests"
   ]
  },
  {
   "cell_type": "code",
   "execution_count": 25,
   "id": "5cc23e65-561d-4223-afe3-9dcd25ba6e8a",
   "metadata": {
    "tags": []
   },
   "outputs": [
    {
     "data": {
      "text/markdown": [
       "```python\n",
       "class Request:\n",
       "  id: str = 95f7c6a42f7f4eb083c10b0704333ca7\n",
       "  requesting_user_verify_key: str = 485cdef9759f82c81411dfbd522d7a3aba0aef172a614e02a6c093536a988719\n",
       "  approving_user_verify_key: str = None\n",
       "  request_time: str = id=<UID: 184bdbd7caa3489898538c2569365657> utc_timestamp=1676322738.519911\n",
       "  approval_time: str = None\n",
       "  status: str = RequestStatus.PENDING\n",
       "  node_uid: str = 125b083bffa745258f658c33d336d38d\n",
       "  request_hash: str = \"8c0f4b252c5e9f0adc694510e47d2360bfb5774e3c6a9e7a63ac948b7451ca55\"\n",
       "  changes: str = [syft.core.node.new.request.ActionStoreChange, syft.core.node.new.request.ActionStoreChange, syft.core.node.new.request.ActionStoreChange, syft.core.node.new.request.ActionStoreChange]\n",
       "\n",
       "```"
      ],
      "text/plain": [
       "syft.core.node.new.request.Request"
      ]
     },
     "execution_count": 25,
     "metadata": {},
     "output_type": "execute_result"
    }
   ],
   "source": [
    "requests[-1]"
   ]
  },
  {
   "cell_type": "code",
   "execution_count": 30,
   "id": "90ff4490-fd54-4552-8aae-cab9517db971",
   "metadata": {
    "tags": []
   },
   "outputs": [
    {
     "name": "stdout",
     "output_type": "stream",
     "text": [
      "context.approving_user_credentials 485cdef9759f82c81411dfbd522d7a3aba0aef172a614e02a6c093536a988719\n"
     ]
    },
    {
     "data": {
      "text/html": [
       "<div class=\"alert-danger\" style=\"padding:5px;\"><strong>SyftError</strong>: No permission for approving_user_credentials 485cdef9759f82c81411dfbd522d7a3aba0aef172a614e02a6c093536a988719.</div><br />"
      ],
      "text/plain": [
       "<class 'syft.core.node.new.response.SyftError'>: No permission for approving_user_credentials 485cdef9759f82c81411dfbd522d7a3aba0aef172a614e02a6c093536a988719"
      ]
     },
     "execution_count": 30,
     "metadata": {},
     "output_type": "execute_result"
    }
   ],
   "source": [
    "client.api.services.request.apply(uid=requests[-1].id)"
   ]
  },
  {
   "cell_type": "code",
   "execution_count": 28,
   "id": "424acb2f-ede7-4bab-8e35-f82d8cecb676",
   "metadata": {
    "tags": []
   },
   "outputs": [
    {
     "name": "stdout",
     "output_type": "stream",
     "text": [
      "context.approving_user_credentials 485cdef9759f82c81411dfbd522d7a3aba0aef172a614e02a6c093536a988719\n",
      "context.approving_user_credentials 485cdef9759f82c81411dfbd522d7a3aba0aef172a614e02a6c093536a988719\n",
      "context.approving_user_credentials 485cdef9759f82c81411dfbd522d7a3aba0aef172a614e02a6c093536a988719\n",
      "context.approving_user_credentials 485cdef9759f82c81411dfbd522d7a3aba0aef172a614e02a6c093536a988719\n"
     ]
    },
    {
     "data": {
      "text/html": [
       "<div class=\"alert-success\" style=\"padding:5px;\"><strong>SyftSuccess</strong>: Request 95f7c6a42f7f4eb083c10b0704333ca7 changes reverted.</div><br />"
      ],
      "text/plain": [
       "<class 'syft.core.node.new.response.SyftSuccess'>: Request 95f7c6a42f7f4eb083c10b0704333ca7 changes reverted"
      ]
     },
     "execution_count": 28,
     "metadata": {},
     "output_type": "execute_result"
    }
   ],
   "source": [
    "client.api.services.request.revert(uid=requests[-1].id)"
   ]
  },
  {
   "cell_type": "code",
   "execution_count": 29,
   "id": "a6d614c3-d627-4adc-85b6-aba97821d1e4",
   "metadata": {
    "tags": []
   },
   "outputs": [
    {
     "data": {
      "text/html": [
       "defaultdict(&lt;class &#x27;set&#x27;&gt;, {&lt;UID: 868ca1a806604544b1d4810869ed1068&gt;: set()})"
      ],
      "text/plain": [
       "defaultdict(set, {<UID: 868ca1a806604544b1d4810869ed1068>: set()})"
      ]
     },
     "execution_count": 29,
     "metadata": {},
     "output_type": "execute_result"
    }
   ],
   "source": [
    "s.store.permissions"
   ]
  },
  {
   "cell_type": "code",
   "execution_count": null,
   "id": "7728984e-62e5-4f56-8c0e-440cb6bbcd4e",
   "metadata": {},
   "outputs": [],
   "source": []
  }
 ],
 "metadata": {
  "kernelspec": {
   "display_name": "Python 3 (ipykernel)",
   "language": "python",
   "name": "python3"
  },
  "language_info": {
   "codemirror_mode": {
    "name": "ipython",
    "version": 3
   },
   "file_extension": ".py",
   "mimetype": "text/x-python",
   "name": "python",
   "nbconvert_exporter": "python",
   "pygments_lexer": "ipython3",
   "version": "3.10.9"
  }
 },
 "nbformat": 4,
 "nbformat_minor": 5
}
