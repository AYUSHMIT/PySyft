{
 "cells": [
  {
   "cell_type": "code",
   "execution_count": 1,
   "id": "6920a2bb-3561-4c6a-ab98-93ef9f8e329d",
   "metadata": {},
   "outputs": [],
   "source": [
    "# stdlib\n",
    "\n",
    "# third party\n",
    "import veilid"
   ]
  },
  {
   "cell_type": "code",
   "execution_count": 2,
   "id": "904cae54",
   "metadata": {},
   "outputs": [],
   "source": [
    "NONCE_LENGTH = 24\n",
    "QUIT = \"QUIT\""
   ]
  },
  {
   "cell_type": "code",
   "execution_count": 3,
   "id": "1db013a8-680f-4006-a0ce-6fd397839a02",
   "metadata": {},
   "outputs": [],
   "source": [
    "host = \"localhost\"\n",
    "port = 5959"
   ]
  },
  {
   "cell_type": "code",
   "execution_count": 4,
   "id": "d98401b9-f3d1-48f8-8a2d-ed8550a56a90",
   "metadata": {},
   "outputs": [],
   "source": [
    "async def connect(host: str, port: int):\n",
    "    async def noop_callback(*args, **kwargs):\n",
    "        # print(\"got callback\", args, kwargs)\n",
    "        return\n",
    "\n",
    "    conn = await veilid.json_api_connect(host, port, noop_callback)\n",
    "    return conn"
   ]
  },
  {
   "cell_type": "code",
   "execution_count": 8,
   "id": "dadca923-6526-4d08-8952-0cd65edc6a2e",
   "metadata": {},
   "outputs": [],
   "source": [
    "conn = await connect(host, port)"
   ]
  },
  {
   "cell_type": "code",
   "execution_count": 9,
   "id": "ba09dc27-6599-4d96-8663-d59da66dce41",
   "metadata": {},
   "outputs": [
    {
     "name": "stdout",
     "output_type": "stream",
     "text": [
      "keygen:Generating a keypair\n",
      "keygen:Got my_keypair='eLaCWyV-XoCKbRKx4k_2XxJoiGbDLY9S4y_wfVQ4Bzs:rlWN82ncYWg8uHt_OPfa8n0IXlqd24D8gneVncCyclY'\n"
     ]
    }
   ],
   "source": [
    "crypto_system = await conn.get_crypto_system(veilid.CryptoKind.CRYPTO_KIND_VLD0)\n",
    "async with crypto_system:\n",
    "    print(\"keygen:Generating a keypair\")\n",
    "    my_keypair = await crypto_system.generate_key_pair()\n",
    "    print(f\"keygen:Got {my_keypair=}\")\n",
    "\n",
    "# await config.store_self_key(conn, my_keypair)"
   ]
  },
  {
   "cell_type": "code",
   "execution_count": null,
   "id": "96fab6ed-5578-4f5a-852f-b724d932e82a",
   "metadata": {},
   "outputs": [],
   "source": [
    "# stdlib"
   ]
  },
  {
   "cell_type": "code",
   "execution_count": 17,
   "id": "3dd03cf0-5627-48a7-aa51-6f7d455ae940",
   "metadata": {},
   "outputs": [],
   "source": [
    "def load_keys():\n",
    "    key_pair = \"eLaCWyV-XoCKbRKx4k_2XxJoiGbDLY9S4y_wfVQ4Bzs:rlWN82ncYWg8uHt_OPfa8n0IXlqd24D8gneVncCyclY\"\n",
    "    my_keypair = veilid.KeyPair(key_pair)\n",
    "    print(\"Own keypair:\")\n",
    "    print(\"    Public: \", my_keypair.key())\n",
    "    print(\"    Private: \", my_keypair.secret())\n",
    "    their_key = veilid.PublicKey(\"7HQ3RmvFLN1Q2Rv_PbVDRvYAOX9Te4VypjglS3g018A\")\n",
    "    return my_keypair, their_key"
   ]
  },
  {
   "cell_type": "code",
   "execution_count": 18,
   "id": "a12f9ef0-c473-4005-a757-93ab293d43cd",
   "metadata": {},
   "outputs": [
    {
     "name": "stdout",
     "output_type": "stream",
     "text": [
      "Own keypair:\n",
      "    Public:  eLaCWyV-XoCKbRKx4k_2XxJoiGbDLY9S4y_wfVQ4Bzs\n",
      "    Private:  rlWN82ncYWg8uHt_OPfa8n0IXlqd24D8gneVncCyclY\n"
     ]
    }
   ],
   "source": [
    "my_keypair, their_key = load_keys()"
   ]
  },
  {
   "cell_type": "code",
   "execution_count": 19,
   "id": "ead0d3c8-2b45-4957-a332-4e30686e2a38",
   "metadata": {},
   "outputs": [
    {
     "data": {
      "text/plain": [
       "'7HQ3RmvFLN1Q2Rv_PbVDRvYAOX9Te4VypjglS3g018A'"
      ]
     },
     "execution_count": 19,
     "metadata": {},
     "output_type": "execute_result"
    }
   ],
   "source": [
    "their_key"
   ]
  },
  {
   "cell_type": "code",
   "execution_count": null,
   "id": "f57189e2-aa3f-48eb-ae51-ec72e8661fc4",
   "metadata": {},
   "outputs": [],
   "source": []
  },
  {
   "cell_type": "code",
   "execution_count": null,
   "id": "b7931251-5051-4510-a900-f694a512e6db",
   "metadata": {},
   "outputs": [],
   "source": []
  },
  {
   "cell_type": "code",
   "execution_count": 20,
   "id": "f14a2cbb-0c1e-45ee-add4-3f7ee60c4021",
   "metadata": {},
   "outputs": [],
   "source": [
    "async def create_sender(\n",
    "    router: veilid.api.RoutingContext,\n",
    "    crypto_system: veilid.CryptoSystem,\n",
    "    key: veilid.TypedKey,\n",
    "    secret: veilid.SharedSecret,\n",
    "    send_subkey: veilid.ValueSubkey,\n",
    "):\n",
    "    \"\"\"Read input and write it to the DHT.\"\"\"\n",
    "\n",
    "    async def encrypt(cleartext: str) -> bytes:\n",
    "        \"\"\"Encrypt the message with the shared secret and a random nonce.\"\"\"\n",
    "\n",
    "        print(\"encrypt:Getting a nonce\")\n",
    "        nonce = await crypto_system.random_nonce()\n",
    "        print(f\"encrypt:Received {nonce=}\")\n",
    "        print(f\"encrypt:Encrypting {cleartext=}, {nonce=}, {secret=}\")\n",
    "        encrypted = await crypto_system.crypt_no_auth(cleartext.encode(), nonce, secret)\n",
    "        ciphertext = nonce.to_bytes() + encrypted\n",
    "        print(f\"encrypt:{ciphertext=}\")\n",
    "        return ciphertext\n",
    "\n",
    "    async def send(cleartext: str):\n",
    "        \"\"\"Write the encrypted version of the text to the DHT.\"\"\"\n",
    "\n",
    "        ciphertext = await encrypt(cleartext)\n",
    "        print(f\"send:Setting DHT {key=}, {send_subkey=}, to {ciphertext=}\")\n",
    "        await router.set_dht_value(key, send_subkey, ciphertext)\n",
    "\n",
    "    # Prime the pumps. Especially when starting the conversation, this\n",
    "    # causes the DHT key to propagate to the network.\n",
    "    return send"
   ]
  },
  {
   "cell_type": "code",
   "execution_count": 21,
   "id": "329f5324-990f-41a3-9e5d-798e311682f4",
   "metadata": {},
   "outputs": [],
   "source": [
    "async def receiver(\n",
    "    router: veilid.api.RoutingContext,\n",
    "    crypto_system: veilid.CryptoSystem,\n",
    "    key: veilid.TypedKey,\n",
    "    secret: veilid.SharedSecret,\n",
    "    recv_subkey: veilid.ValueSubkey,\n",
    "    name: str,\n",
    "):\n",
    "    \"\"\"Wait for new data from the DHT and write it to the screen.\"\"\"\n",
    "\n",
    "    async def decrypt(payload: bytes) -> str:\n",
    "        \"\"\"Decrypt the payload with the shared secret and the payload's nonce.\"\"\"\n",
    "\n",
    "        print(f\"decrypt:Decrypting {payload!r}\")\n",
    "        nonce = veilid.Nonce.from_bytes(payload[:NONCE_LENGTH])\n",
    "        print(f\"decrypt:Found {nonce=}\")\n",
    "        ciphertext = payload[NONCE_LENGTH:]\n",
    "        print(f\"decrypt:Decrypting {ciphertext=}, {nonce=}, {secret=}\")\n",
    "        cleartext = await crypto_system.crypt_no_auth(ciphertext, nonce, secret)\n",
    "        print(f\"decrypt:{cleartext=}\")\n",
    "        return cleartext.decode()\n",
    "\n",
    "    last_seq = -1\n",
    "    while True:\n",
    "        # In the real world, don't do this. People may tease you for it.\n",
    "        # This is meant to be easy to understand for demonstration\n",
    "        # purposes, not a great pattern. Instead, you'd want to use the\n",
    "        # callback function to handle events asynchronously.\n",
    "\n",
    "        # Try to get an updated version of the receiving subkey.\n",
    "        print(f\"receiver:Getting the DHT value of {key=}, {recv_subkey=}\")\n",
    "        resp = await router.get_dht_value(key, recv_subkey, True)\n",
    "        if resp is None:\n",
    "            print(\"receiver:Didn't find a value\")\n",
    "            continue\n",
    "\n",
    "        # If the other party hasn't sent a newer message, try again.\n",
    "        if resp.seq == last_seq:\n",
    "            print(f\"receiver:DHT {key=} is still at {resp.seq=}\")\n",
    "            continue\n",
    "\n",
    "        msg = await decrypt(resp.data)\n",
    "        if msg == QUIT:\n",
    "            print(\"receiver:Received the QUIT signal from the other end.\")\n",
    "            print(\"Other end closed the chat.\")\n",
    "            return\n",
    "\n",
    "        print(\"receiver:Got new {msg=} at DHT {key=}, {resp.seq=}\")\n",
    "        print(f\"\\n{name}> {msg}\")\n",
    "        last_seq = resp.seq"
   ]
  },
  {
   "cell_type": "code",
   "execution_count": null,
   "id": "f149ea8b-0379-44fb-9f6a-7c49aece27fb",
   "metadata": {},
   "outputs": [],
   "source": []
  },
  {
   "cell_type": "code",
   "execution_count": 22,
   "id": "89740953-4783-42c9-be69-e41da5443bc7",
   "metadata": {},
   "outputs": [],
   "source": [
    "def create_members(my_keypair, their_key):\n",
    "    members = [\n",
    "        veilid.DHTSchemaSMPLMember(my_keypair.key(), 1),\n",
    "        veilid.DHTSchemaSMPLMember(their_key, 1),\n",
    "    ]\n",
    "    return members"
   ]
  },
  {
   "cell_type": "code",
   "execution_count": 23,
   "id": "7eb4c147-6063-427b-8c6b-0605c19794bd",
   "metadata": {},
   "outputs": [],
   "source": [
    "members = create_members(my_keypair, their_key)"
   ]
  },
  {
   "cell_type": "code",
   "execution_count": null,
   "id": "9615df55-c28e-4e50-a00b-6798f3f66ec3",
   "metadata": {},
   "outputs": [],
   "source": []
  },
  {
   "cell_type": "code",
   "execution_count": 24,
   "id": "602aa1f6-2d42-422b-8887-7622706aa89d",
   "metadata": {},
   "outputs": [
    {
     "name": "stdout",
     "output_type": "stream",
     "text": [
      "start:Getting a DH shared secret\n",
      "start:Got secret='Z5R3gym9WGJfTUJgVs0Jd5pUo83jDec9wxLU69Dwd98'\n"
     ]
    }
   ],
   "source": [
    "router = await (await conn.new_routing_context()).with_default_safety()\n",
    "crypto_system = await conn.get_crypto_system(veilid.CryptoKind.CRYPTO_KIND_VLD0)\n",
    "\n",
    "name = \"friendsname\"\n",
    "\n",
    "async with crypto_system, router:\n",
    "    print(\"start:Getting a DH shared secret\")\n",
    "    secret = await crypto_system.cached_dh(their_key, my_keypair.secret())\n",
    "    print(f\"start:Got {secret=}\")"
   ]
  },
  {
   "cell_type": "code",
   "execution_count": 25,
   "id": "3bd06829-41a4-4e10-95d1-286a18d93b32",
   "metadata": {},
   "outputs": [
    {
     "name": "stdout",
     "output_type": "stream",
     "text": [
      "start:Getting a DH shared secret\n",
      "start:Got secret='Z5R3gym9WGJfTUJgVs0Jd5pUo83jDec9wxLU69Dwd98'\n"
     ]
    }
   ],
   "source": [
    "router = await (await conn.new_routing_context()).with_default_safety()\n",
    "crypto_system = await conn.get_crypto_system(veilid.CryptoKind.CRYPTO_KIND_VLD0)\n",
    "\n",
    "name = \"friendsname\"\n",
    "\n",
    "async with crypto_system, router:\n",
    "    print(\"start:Getting a DH shared secret\")\n",
    "    secret = await crypto_system.cached_dh(their_key, my_keypair.secret())\n",
    "    print(f\"start:Got {secret=}\")"
   ]
  },
  {
   "cell_type": "code",
   "execution_count": null,
   "id": "27179b5f-62d4-43ec-97e8-4bb86fb3c2ae",
   "metadata": {},
   "outputs": [],
   "source": []
  },
  {
   "cell_type": "code",
   "execution_count": 26,
   "id": "4bb2e0dd-f97a-4cab-a0bb-cb22cf6428a8",
   "metadata": {},
   "outputs": [
    {
     "name": "stdout",
     "output_type": "stream",
     "text": [
      "start:Creating a new DHT record\n",
      "New chat key: VLD0:r6NoOmRrZxPHVZkpmbC32ob05jOQNBf445kxZwEAF7o\n",
      "Give that to your friend!\n"
     ]
    }
   ],
   "source": [
    "router = await (await conn.new_routing_context()).with_default_safety()\n",
    "crypto_system = await conn.get_crypto_system(veilid.CryptoKind.CRYPTO_KIND_VLD0)\n",
    "\n",
    "name = \"friendsname\"\n",
    "\n",
    "async with crypto_system, router:\n",
    "    print(\"start:Creating a new DHT record\")\n",
    "    record = await router.create_dht_record(veilid.DHTSchema.smpl(0, members))\n",
    "    print(f\"New chat key: {record.key}\")\n",
    "    print(\"Give that to your friend!\")"
   ]
  },
  {
   "cell_type": "code",
   "execution_count": 27,
   "id": "1c028545-72dd-48de-8889-98dea2778d37",
   "metadata": {},
   "outputs": [
    {
     "data": {
      "text/plain": [
       "'VLD0:r6NoOmRrZxPHVZkpmbC32ob05jOQNBf445kxZwEAF7o'"
      ]
     },
     "execution_count": 27,
     "metadata": {},
     "output_type": "execute_result"
    }
   ],
   "source": [
    "record.key"
   ]
  },
  {
   "cell_type": "code",
   "execution_count": 32,
   "id": "d8ef5b96-79e3-45cf-b545-8d027117017e",
   "metadata": {},
   "outputs": [
    {
     "name": "stdout",
     "output_type": "stream",
     "text": [
      "start:Reopening the DHT record record.key='VLD0:r6NoOmRrZxPHVZkpmbC32ob05jOQNBf445kxZwEAF7o' with my_keypair='eLaCWyV-XoCKbRKx4k_2XxJoiGbDLY9S4y_wfVQ4Bzs:rlWN82ncYWg8uHt_OPfa8n0IXlqd24D8gneVncCyclY'\n"
     ]
    }
   ],
   "source": [
    "router = await (await conn.new_routing_context()).with_default_safety()\n",
    "crypto_system = await conn.get_crypto_system(veilid.CryptoKind.CRYPTO_KIND_VLD0)\n",
    "\n",
    "name = \"friendsname\"\n",
    "\n",
    "async with crypto_system, router:\n",
    "    print(f\"start:Reopening the DHT record {record.key=} with {my_keypair=}\")\n",
    "    await router.close_dht_record(record.key)"
   ]
  },
  {
   "cell_type": "code",
   "execution_count": 33,
   "id": "be3945e6-4d34-4fb1-943a-a64ba9feca30",
   "metadata": {},
   "outputs": [
    {
     "name": "stdout",
     "output_type": "stream",
     "text": [
      "start:Reopening the DHT record record.key='VLD0:r6NoOmRrZxPHVZkpmbC32ob05jOQNBf445kxZwEAF7o' with my_keypair='eLaCWyV-XoCKbRKx4k_2XxJoiGbDLY9S4y_wfVQ4Bzs:rlWN82ncYWg8uHt_OPfa8n0IXlqd24D8gneVncCyclY'\n"
     ]
    }
   ],
   "source": [
    "router = await (await conn.new_routing_context()).with_default_safety()\n",
    "crypto_system = await conn.get_crypto_system(veilid.CryptoKind.CRYPTO_KIND_VLD0)\n",
    "\n",
    "name = \"friendsname\"\n",
    "\n",
    "async with crypto_system, router:\n",
    "    print(f\"start:Reopening the DHT record {record.key=} with {my_keypair=}\")\n",
    "    await router.open_dht_record(record.key, my_keypair)"
   ]
  },
  {
   "cell_type": "code",
   "execution_count": null,
   "id": "c6210ce0-14a8-4097-ae2d-d96bb0b13471",
   "metadata": {},
   "outputs": [],
   "source": []
  },
  {
   "cell_type": "code",
   "execution_count": 34,
   "id": "6cddc089-7711-4fd2-afb4-210f348aa1c3",
   "metadata": {},
   "outputs": [
    {
     "name": "stdout",
     "output_type": "stream",
     "text": [
      "encrypt:Getting a nonce\n",
      "encrypt:Received nonce='d-WtdAQ0RTmbfHtsZYnz-W78Zpw1IprC'\n",
      "encrypt:Encrypting cleartext='testtesttest', nonce='d-WtdAQ0RTmbfHtsZYnz-W78Zpw1IprC', secret='Z5R3gym9WGJfTUJgVs0Jd5pUo83jDec9wxLU69Dwd98'\n",
      "encrypt:ciphertext=b'w\\xe5\\xadt\\x044E9\\x9b|{le\\x89\\xf3\\xf9n\\xfcf\\x9c5\"\\x9a\\xc2\\x9d\\xcaD\\x90hX\\xf4)\\xe7\\\\\\x9f.'\n",
      "send:Setting DHT key='VLD0:r6NoOmRrZxPHVZkpmbC32ob05jOQNBf445kxZwEAF7o', send_subkey=0, to ciphertext=b'w\\xe5\\xadt\\x044E9\\x9b|{le\\x89\\xf3\\xf9n\\xfcf\\x9c5\"\\x9a\\xc2\\x9d\\xcaD\\x90hX\\xf4)\\xe7\\\\\\x9f.'\n"
     ]
    }
   ],
   "source": [
    "router = await (await conn.new_routing_context()).with_default_safety()\n",
    "crypto_system = await conn.get_crypto_system(veilid.CryptoKind.CRYPTO_KIND_VLD0)\n",
    "\n",
    "name = \"friendsname\"\n",
    "\n",
    "async with crypto_system, router:\n",
    "    # The party initiating the chat writes to subkey 0 and reads from subkey 1.\n",
    "    # send_task = asyncio.create_task(sender(router, crypto_system, record.key, secret, 0))\n",
    "    sender = await create_sender(router, crypto_system, record.key, secret, 0)\n",
    "    await sender(\"testtesttest\")\n",
    "\n",
    "    # send = await send_task\n",
    "    # await send(\"hello world\")\n",
    "    # recv_task = asyncio.create_task(receiver(router, crypto_system, record.key, secret, 1, name))\n",
    "\n",
    "    # try:\n",
    "    # print(\"start:Starting the chat\")\n",
    "    # await asyncio.wait([send_task, recv_task], return_when=asyncio.FIRST_COMPLETED)\n",
    "    # finally:\n",
    "    #     print(f\"start:Closing the DHT record {record.key=}\")\n",
    "    #     await router.close_dht_record(record.key)\n",
    "    #     print(f\"start:Deleting the DHT record {record.key=}\")\n",
    "    #     await router.delete_dht_record(record.key)\n",
    "\n",
    "    # print(\"start:Cleaning up\")\n",
    "    # recv_task.cancel()\n",
    "    # send_task.cancel()"
   ]
  },
  {
   "cell_type": "code",
   "execution_count": 35,
   "id": "c9d70f55-d451-49dd-af5e-eb6bbe5ef61e",
   "metadata": {},
   "outputs": [
    {
     "data": {
      "text/plain": [
       "'VLD0:r6NoOmRrZxPHVZkpmbC32ob05jOQNBf445kxZwEAF7o'"
      ]
     },
     "execution_count": 35,
     "metadata": {},
     "output_type": "execute_result"
    }
   ],
   "source": [
    "record.key"
   ]
  },
  {
   "cell_type": "code",
   "execution_count": null,
   "id": "f208817b-dada-4c20-9cdf-48d19ab5a27a",
   "metadata": {},
   "outputs": [],
   "source": [
    "# await send(\"hello world2\")"
   ]
  },
  {
   "cell_type": "code",
   "execution_count": null,
   "id": "0bf04175-67ac-4ede-bd42-92f60c188671",
   "metadata": {},
   "outputs": [],
   "source": [
    "# stdlib\n",
    "import time"
   ]
  },
  {
   "cell_type": "code",
   "execution_count": null,
   "id": "a846437e-783c-477e-a693-b7f9f05891ba",
   "metadata": {},
   "outputs": [],
   "source": [
    "message = f\"Hello from the world! {time.time()}\"\n",
    "message"
   ]
  },
  {
   "cell_type": "code",
   "execution_count": null,
   "id": "e4429621-0af4-4aab-b0db-28a148e87773",
   "metadata": {},
   "outputs": [],
   "source": [
    "# await asyncio.create_task(sender(router, crypto_system, record.key, secret, 0, message))"
   ]
  },
  {
   "cell_type": "code",
   "execution_count": null,
   "id": "24890cde-dbc2-4462-b4c5-ccaff9bcb598",
   "metadata": {},
   "outputs": [],
   "source": []
  }
 ],
 "metadata": {
  "kernelspec": {
   "display_name": "Python 3 (ipykernel)",
   "language": "python",
   "name": "python3"
  },
  "language_info": {
   "codemirror_mode": {
    "name": "ipython",
    "version": 3
   },
   "file_extension": ".py",
   "mimetype": "text/x-python",
   "name": "python",
   "nbconvert_exporter": "python",
   "pygments_lexer": "ipython3",
   "version": "3.11.5"
  }
 },
 "nbformat": 4,
 "nbformat_minor": 5
}
