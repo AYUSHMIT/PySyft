{
 "cells": [
  {
   "cell_type": "code",
   "execution_count": null,
   "id": "3ab7de7e-d23e-4cfc-895d-0bd02d9bc17f",
   "metadata": {},
   "outputs": [],
   "source": [
    "# stdlib\n",
    "\n",
    "# stdlib\n",
    "\n",
    "# third party\n",
    "from utils import get_typed_key\n",
    "import veilid"
   ]
  },
  {
   "cell_type": "code",
   "execution_count": null,
   "id": "ad857491-4cad-4a21-bf10-8035f05ef52a",
   "metadata": {},
   "outputs": [],
   "source": [
    "host = \"localhost\"\n",
    "port = 5960"
   ]
  },
  {
   "cell_type": "code",
   "execution_count": null,
   "id": "8d5984fd-30eb-4c9f-8bb7-e0a827b6de2c",
   "metadata": {},
   "outputs": [],
   "source": [
    "async def noop_callback(*args, **kwargs):\n",
    "    return\n",
    "\n",
    "\n",
    "async def connect(host: str, port: int):\n",
    "    conn = await veilid.json_api_connect(host, port, noop_callback)\n",
    "    return conn"
   ]
  },
  {
   "cell_type": "code",
   "execution_count": null,
   "id": "1296f362-60ff-471a-807b-6d96dbf36403",
   "metadata": {},
   "outputs": [],
   "source": [
    "conn = await connect(host, port)"
   ]
  },
  {
   "cell_type": "code",
   "execution_count": null,
   "id": "de7eb3e2",
   "metadata": {},
   "outputs": [],
   "source": [
    "# Creating a new routing context\n",
    "router = await (await conn.new_routing_context()).with_default_safety()"
   ]
  },
  {
   "cell_type": "code",
   "execution_count": null,
   "id": "f76a7403",
   "metadata": {},
   "outputs": [],
   "source": [
    "router"
   ]
  },
  {
   "cell_type": "code",
   "execution_count": null,
   "id": "40370b01",
   "metadata": {},
   "outputs": [],
   "source": [
    "# Get this DHT Key from the Previous Notebook\n",
    "alice_dht_key_str = input(\"Enter Alice's DHT Key: \")\n",
    "dht_key = get_typed_key(alice_dht_key_str)"
   ]
  },
  {
   "cell_type": "code",
   "execution_count": null,
   "id": "ad3b3dbc",
   "metadata": {},
   "outputs": [],
   "source": [
    "alice_record = await router.open_dht_record(key=dht_key, writer=None)"
   ]
  },
  {
   "cell_type": "code",
   "execution_count": null,
   "id": "12fdf804",
   "metadata": {},
   "outputs": [],
   "source": [
    "alice_record_value = await router.get_dht_value(\n",
    "    key=dht_key, subkey=0, force_refresh=True\n",
    ")"
   ]
  },
  {
   "cell_type": "code",
   "execution_count": null,
   "id": "e4e44fc7",
   "metadata": {},
   "outputs": [],
   "source": [
    "alice_record_value.data"
   ]
  },
  {
   "cell_type": "code",
   "execution_count": null,
   "id": "c4db5bf7",
   "metadata": {},
   "outputs": [],
   "source": []
  }
 ],
 "metadata": {
  "kernelspec": {
   "display_name": "Python 3 (ipykernel)",
   "language": "python",
   "name": "python3"
  },
  "language_info": {
   "codemirror_mode": {
    "name": "ipython",
    "version": 3
   },
   "file_extension": ".py",
   "mimetype": "text/x-python",
   "name": "python",
   "nbconvert_exporter": "python",
   "pygments_lexer": "ipython3",
   "version": "3.11.5"
  }
 },
 "nbformat": 4,
 "nbformat_minor": 5
}
