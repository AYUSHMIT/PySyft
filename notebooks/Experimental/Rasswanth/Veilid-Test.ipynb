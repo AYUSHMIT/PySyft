{
 "cells": [
  {
   "cell_type": "code",
   "execution_count": 1,
   "id": "3ab7de7e-d23e-4cfc-895d-0bd02d9bc17f",
   "metadata": {},
   "outputs": [],
   "source": [
    "# stdlib\n",
    "\n",
    "# third party\n",
    "import veilid"
   ]
  },
  {
   "cell_type": "code",
   "execution_count": null,
   "id": "ad857491-4cad-4a21-bf10-8035f05ef52a",
   "metadata": {},
   "outputs": [],
   "source": [
    "host = \"localhost\"\n",
    "port = 5959"
   ]
  },
  {
   "cell_type": "code",
   "execution_count": null,
   "id": "8d5984fd-30eb-4c9f-8bb7-e0a827b6de2c",
   "metadata": {},
   "outputs": [],
   "source": [
    "async def noop_callback(*args, **kwargs):\n",
    "    print(\"got callback\", args, kwargs)\n",
    "    return\n",
    "\n",
    "async def connect(host: str, port: int): \n",
    "\n",
    "    conn = await veilid.json_api_connect(host, port, noop_callback)\n",
    "    return conn"
   ]
  },
  {
   "cell_type": "code",
   "execution_count": null,
   "id": "1296f362-60ff-471a-807b-6d96dbf36403",
   "metadata": {},
   "outputs": [],
   "source": [
    "conn = await connect(host, port)"
   ]
  }
 ],
 "metadata": {
  "kernelspec": {
   "display_name": "Python 3 (ipykernel)",
   "language": "python",
   "name": "python3"
  },
  "language_info": {
   "codemirror_mode": {
    "name": "ipython",
    "version": 3
   },
   "file_extension": ".py",
   "mimetype": "text/x-python",
   "name": "python",
   "nbconvert_exporter": "python",
   "pygments_lexer": "ipython3",
   "version": "3.11.5"
  }
 },
 "nbformat": 4,
 "nbformat_minor": 5
}
