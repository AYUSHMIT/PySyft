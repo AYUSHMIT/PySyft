{
 "cells": [
  {
   "cell_type": "code",
   "execution_count": 1,
   "id": "7fd5e63d-9979-492f-bb52-b292571892b3",
   "metadata": {},
   "outputs": [
    {
     "name": "stdout",
     "output_type": "stream",
     "text": [
      "Received: Message 0\n",
      "Received: Message 1\n",
      "Received: Message 2\n",
      "Received: Message 3\n",
      "Received: Message 4\n"
     ]
    }
   ],
   "source": [
    "import zmq\n",
    "import time\n",
    "import threading\n",
    "\n",
    "def pusher():\n",
    "    context = zmq.Context()\n",
    "    socket = context.socket(zmq.PUSH)\n",
    "    socket.bind(\"tcp://127.0.0.1:5555\")\n",
    "\n",
    "    for i in range(5):\n",
    "        message = f\"Message {i}\"\n",
    "        socket.send_string(message)\n",
    "        time.sleep(1)\n",
    "\n",
    "def puller():\n",
    "    context = zmq.Context()\n",
    "    socket = context.socket(zmq.PULL)\n",
    "    socket.connect(\"tcp://127.0.0.1:5555\")\n",
    "\n",
    "    while True:\n",
    "        message = socket.recv_string()\n",
    "        print(f\"Received: {message}\")\n",
    "        if \"4\" in message:\n",
    "            break\n",
    "\n",
    "# Start pusher and puller in separate threads\n",
    "pusher_thread = threading.Thread(target=pusher)\n",
    "puller_thread = threading.Thread(target=puller)\n",
    "\n",
    "pusher_thread.start()\n",
    "puller_thread.start()\n",
    "\n",
    "pusher_thread.join()\n",
    "puller_thread.join()\n"
   ]
  },
  {
   "cell_type": "code",
   "execution_count": null,
   "id": "c7ad4930-085a-4f76-9cd1-6b589e52f432",
   "metadata": {},
   "outputs": [],
   "source": []
  }
 ],
 "metadata": {
  "kernelspec": {
   "display_name": "Python 3 (ipykernel)",
   "language": "python",
   "name": "python3"
  },
  "language_info": {
   "codemirror_mode": {
    "name": "ipython",
    "version": 3
   },
   "file_extension": ".py",
   "mimetype": "text/x-python",
   "name": "python",
   "nbconvert_exporter": "python",
   "pygments_lexer": "ipython3",
   "version": "3.11.5"
  }
 },
 "nbformat": 4,
 "nbformat_minor": 5
}
