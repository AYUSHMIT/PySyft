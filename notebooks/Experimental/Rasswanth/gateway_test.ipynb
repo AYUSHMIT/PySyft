{
 "cells": [
  {
   "cell_type": "code",
   "execution_count": null,
   "id": "6b068788-a806-4da3-ae30-c3261628d446",
   "metadata": {},
   "outputs": [],
   "source": [
    "import syft as sy\n",
    "import numpy as np\n",
    "import uuid"
   ]
  },
  {
   "cell_type": "code",
   "execution_count": null,
   "id": "d66e3052-3484-4655-bf18-aac607af138f",
   "metadata": {},
   "outputs": [],
   "source": [
    "# gateway_node = sy.orchestra.launch(name=\"gateway-1\", node_type=\"gateway\", dev_mode=True, reset=True)\n",
    "# gt = gateway_node.client\n",
    "gt  = sy.login_as_guest(port=9081)\n",
    "\n",
    "# domain_node = sy.orchestra.launch(name=\"domain-1\", node_type=\"domain\", dev_mode=True, reset=True)\n",
    "# do = domain_node.client.login(email=\"info@openmined.org\", password = \"changethis\")\n",
    "do = sy.login(port=8081, email=\"info@openmined.org\", password = \"changethis\")"
   ]
  },
  {
   "cell_type": "code",
   "execution_count": null,
   "id": "7d2bb6a9-ee72-4643-bfd4-29cc5fae156e",
   "metadata": {},
   "outputs": [],
   "source": [
    "def random_hash() -> str:\n",
    "    return uuid.uuid4().hex[:16]\n",
    "asset_name = random_hash()\n",
    "asset = sy.Asset(\n",
    "    name=asset_name, data=np.array([1, 2, 3]), mock=sy.ActionObject.empty()\n",
    ")\n",
    "dataset_name = random_hash()\n",
    "dataset = sy.Dataset(name=dataset_name, asset_list=[asset])"
   ]
  },
  {
   "cell_type": "code",
   "execution_count": null,
   "id": "91bed4af-09f3-4210-8551-a5b98f42d7bb",
   "metadata": {},
   "outputs": [],
   "source": [
    "do.upload_dataset(dataset)"
   ]
  },
  {
   "cell_type": "code",
   "execution_count": null,
   "id": "315b38ce-9dd3-423e-bdf3-cea136a6d602",
   "metadata": {},
   "outputs": [],
   "source": [
    "do.register(name=\"Sheldon Cooper\",\n",
    "                       email=\"sheldon@caltech.edu\",\n",
    "                       password=\"changethis\",\n",
    "                       password_verify=\"changethis\",\n",
    "                       institution=\"Caltech\",\n",
    "                       website=\"https://www.caltech.edu/\")"
   ]
  },
  {
   "cell_type": "code",
   "execution_count": null,
   "id": "cc56ff55-e341-4cdc-bc45-1756883c0fa9",
   "metadata": {},
   "outputs": [],
   "source": [
    "do.connect_to_gateway(gt)"
   ]
  },
  {
   "cell_type": "code",
   "execution_count": null,
   "id": "8238fb40-880c-49b1-9835-5ef4a74ada89",
   "metadata": {},
   "outputs": [],
   "source": [
    "gt.domains"
   ]
  },
  {
   "cell_type": "code",
   "execution_count": null,
   "id": "ab6370bc-e222-4211-866c-5a0e87f4ed0c",
   "metadata": {},
   "outputs": [],
   "source": [
    "proxy_client = gt.domains[0]"
   ]
  },
  {
   "cell_type": "code",
   "execution_count": null,
   "id": "c24de5c5-8c74-4618-9949-37af90c3f78c",
   "metadata": {},
   "outputs": [],
   "source": [
    "proxy_ds = proxy_client.login(email=\"sheldon@caltech.edu\", password=\"changethis\",\n",
    "                              password_verify = \"changethis\")"
   ]
  },
  {
   "cell_type": "code",
   "execution_count": null,
   "id": "22b1c74f-3cb5-440f-bddb-34ac7d14e039",
   "metadata": {},
   "outputs": [],
   "source": [
    "asset = proxy_ds.datasets[0].assets[0]"
   ]
  },
  {
   "cell_type": "code",
   "execution_count": null,
   "id": "dc5d6a9a-b896-46a1-a105-63d8f77ad397",
   "metadata": {},
   "outputs": [],
   "source": [
    "@sy.syft_function_single_use(asset=asset)\n",
    "def test(asset):\n",
    "    import random\n",
    "    return random.randint(1,100)"
   ]
  },
  {
   "cell_type": "code",
   "execution_count": null,
   "id": "b2b5ffb3-00b4-4249-ac7b-b353cb461fc3",
   "metadata": {},
   "outputs": [],
   "source": [
    "test(asset=asset)"
   ]
  },
  {
   "cell_type": "code",
   "execution_count": null,
   "id": "e07a6153-2cd0-43c4-9ced-2951799689db",
   "metadata": {},
   "outputs": [],
   "source": [
    "proxy_ds.code.request_code_execution(test)"
   ]
  },
  {
   "cell_type": "code",
   "execution_count": null,
   "id": "e1f5459c-e1c4-4903-abbd-4df365e99f4d",
   "metadata": {},
   "outputs": [],
   "source": [
    "do.requests"
   ]
  },
  {
   "cell_type": "code",
   "execution_count": null,
   "id": "2c772bfa-206a-4c6d-a242-8f7c762c807c",
   "metadata": {},
   "outputs": [],
   "source": [
    "do.requests[-1].approve()"
   ]
  },
  {
   "cell_type": "code",
   "execution_count": null,
   "id": "533ae51c-2489-4fc6-b8f1-9073be8be421",
   "metadata": {},
   "outputs": [],
   "source": [
    "do.requests"
   ]
  },
  {
   "cell_type": "code",
   "execution_count": null,
   "id": "0e4a4299-65e8-4924-9a45-bb664a6e4d0c",
   "metadata": {},
   "outputs": [],
   "source": [
    "proxy_ds.code.test()"
   ]
  },
  {
   "cell_type": "code",
   "execution_count": null,
   "id": "c0683641-f1e1-438b-a363-133e34459daa",
   "metadata": {},
   "outputs": [],
   "source": [
    "do.code.request_code_execution(test)"
   ]
  },
  {
   "cell_type": "code",
   "execution_count": null,
   "id": "646653dd-14b6-4216-9c64-510458c190b3",
   "metadata": {},
   "outputs": [],
   "source": [
    "do.requests[-1].approve()"
   ]
  },
  {
   "cell_type": "code",
   "execution_count": null,
   "id": "50561e4c-643b-47dc-a490-e1c51798f781",
   "metadata": {},
   "outputs": [],
   "source": [
    "do.requests[0].approve()"
   ]
  },
  {
   "cell_type": "code",
   "execution_count": null,
   "id": "456dca4d-0884-4c02-8175-6b923838ae47",
   "metadata": {},
   "outputs": [],
   "source": [
    "do.code.test()"
   ]
  },
  {
   "cell_type": "code",
   "execution_count": null,
   "id": "64e41583-6eae-493b-a85a-2a7923246f6e",
   "metadata": {},
   "outputs": [],
   "source": []
  }
 ],
 "metadata": {
  "kernelspec": {
   "display_name": "Python 3 (ipykernel)",
   "language": "python",
   "name": "python3"
  },
  "language_info": {
   "codemirror_mode": {
    "name": "ipython",
    "version": 3
   },
   "file_extension": ".py",
   "mimetype": "text/x-python",
   "name": "python",
   "nbconvert_exporter": "python",
   "pygments_lexer": "ipython3",
   "version": "3.11.5"
  }
 },
 "nbformat": 4,
 "nbformat_minor": 5
}
