{
 "cells": [
  {
   "cell_type": "code",
   "execution_count": 18,
   "id": "bc3ed4c3-9f91-489e-8016-cd9f643f730c",
   "metadata": {},
   "outputs": [],
   "source": [
    "import syft as sy\n",
    "import numpy as np"
   ]
  },
  {
   "cell_type": "code",
   "execution_count": 19,
   "id": "63545187-b50d-4070-a1b7-296e25d03499",
   "metadata": {},
   "outputs": [
    {
     "name": "stdout",
     "output_type": "stream",
     "text": [
      "WARNING: CHANGE YOUR USERNAME AND PASSWORD!!! \n",
      "\n",
      "Anyone can login as an admin to your node right now because your password is still the default PySyft username and password!!!\n",
      "\n",
      "Connecting to localhost... done! \t Logging into canada... done!\n"
     ]
    }
   ],
   "source": [
    "domain = sy.login(email=\"info@openmined.org\", password=\"changethis\", port=8081)"
   ]
  },
  {
   "cell_type": "code",
   "execution_count": 20,
   "id": "eb6895d4-7ba6-48b1-8213-44240718dc66",
   "metadata": {},
   "outputs": [],
   "source": [
    "domain.datasets.purge(skip_check=True)"
   ]
  },
  {
   "cell_type": "code",
   "execution_count": 21,
   "id": "af4e219e-d2b8-4cf4-8629-0c68a5511817",
   "metadata": {},
   "outputs": [
    {
     "name": "stdout",
     "output_type": "stream",
     "text": [
      "Loading dataset... uploading...🚀                                                                                                                                             "
     ]
    },
    {
     "name": "stderr",
     "output_type": "stream",
     "text": [
      "Uploading `phi`: 100%|\u001b[32m███████████████████████████████████████████████\u001b[0m| 1/1 [00:00<00:00, 132.68it/s]\u001b[0m\n",
      "Uploading `gamma`: 100%|\u001b[32m█████████████████████████████████████████████\u001b[0m| 1/1 [00:00<00:00, 137.50it/s]\u001b[0m"
     ]
    },
    {
     "name": "stdout",
     "output_type": "stream",
     "text": [
      "Dataset is uploaded successfully !!! 🎉\n",
      "\n",
      "Run `<your client variable>.datasets` to see your new dataset loaded into your machine!\n"
     ]
    },
    {
     "name": "stderr",
     "output_type": "stream",
     "text": [
      "\n"
     ]
    }
   ],
   "source": [
    "if len(domain.datasets) == 0:\n",
    "    data = np.random.random((5, 5))\n",
    "    gt_dsa = np.random.choice([\"Bob\", \"Billy\", \"Brandon\"], (5, 5))\n",
    "    pt_dsa = np.random.choice([\"Joe\"], (5, 5))\n",
    "    gamma_tensor = sy.Tensor(data).private(min_val=0, max_val=1, data_subjects=gt_dsa)\n",
    "    phi_tensor = sy.Tensor(data).private(min_val=0, max_val=1, data_subjects=pt_dsa)\n",
    "\n",
    "    domain.load_dataset(\n",
    "        assets={\n",
    "            \"phi\": phi_tensor, \n",
    "            \"gamma\": gamma_tensor\n",
    "        }, \n",
    "        name=\"Test dataset\", \n",
    "        description=\"Descr.\"\n",
    "    )\n",
    "else:\n",
    "    domain.datasets"
   ]
  },
  {
   "cell_type": "code",
   "execution_count": 22,
   "id": "75d56548-97f3-4ec7-8847-8250003e3bdf",
   "metadata": {},
   "outputs": [],
   "source": [
    "phi = domain.datasets[-1][\"phi\"]"
   ]
  },
  {
   "cell_type": "code",
   "execution_count": 23,
   "id": "2ada1ce4-3353-41e5-8dec-268955472ac7",
   "metadata": {},
   "outputs": [],
   "source": [
    "data = phi.get_copy().child"
   ]
  },
  {
   "cell_type": "code",
   "execution_count": 24,
   "id": "4bbd6f5d-f881-46da-a9be-e18923353f65",
   "metadata": {},
   "outputs": [
    {
     "data": {
      "text/plain": [
       "PhiTensor(child=2.8021591494767066, min_vals=<lazyrepeatarray data: [0.] -> shape: ()>, max_vals=<lazyrepeatarray data: [5.] -> shape: ()>)"
      ]
     },
     "execution_count": 24,
     "metadata": {},
     "output_type": "execute_result"
    }
   ],
   "source": [
    "data.trace()"
   ]
  },
  {
   "cell_type": "code",
   "execution_count": 25,
   "id": "d0200c73-dd72-40e9-b2bc-890fab610f99",
   "metadata": {},
   "outputs": [],
   "source": [
    "res = phi.trace()"
   ]
  },
  {
   "cell_type": "code",
   "execution_count": 26,
   "id": "3642ed02-ecf8-4823-b7ea-8d2b134eee17",
   "metadata": {},
   "outputs": [
    {
     "data": {
      "text/plain": [
       "Tensor(child=PhiTensor(child=2.8021591494767066, min_vals=<lazyrepeatarray data: [0.] -> shape: ()>, max_vals=<lazyrepeatarray data: [5.] -> shape: ()>))"
      ]
     },
     "execution_count": 26,
     "metadata": {},
     "output_type": "execute_result"
    }
   ],
   "source": [
    "res.get_copy()"
   ]
  },
  {
   "cell_type": "code",
   "execution_count": 27,
   "id": "335ed21d-2be7-4d42-a3d2-937bde0ecc3c",
   "metadata": {},
   "outputs": [
    {
     "data": {
      "text/plain": [
       "Tensor(child=PhiTensor(child=2.8021591494767066, min_vals=<lazyrepeatarray data: [0.] -> shape: ()>, max_vals=<lazyrepeatarray data: [5.] -> shape: ()>))"
      ]
     },
     "execution_count": 27,
     "metadata": {},
     "output_type": "execute_result"
    }
   ],
   "source": [
    "res.get_copy()"
   ]
  },
  {
   "cell_type": "code",
   "execution_count": 12,
   "id": "50fc1ff8-1fb7-4a04-bdf4-3fa6a42866c4",
   "metadata": {},
   "outputs": [
    {
     "name": "stdout",
     "output_type": "stream",
     "text": [
      "[[0.5808899  0.6610832  0.84622848 0.98620149 0.16347447]\n",
      " [0.83961905 0.19573528 0.85469873 0.67341633 0.27540538]\n",
      " [0.72422293 0.35704406 0.94523301 0.48327048 0.80650038]\n",
      " [0.10703216 0.00424864 0.92663971 0.52008441 0.50657996]\n",
      " [0.88296833 0.90654247 0.48253977 0.09829327 0.4685918 ]] DataSubjectArray: {'Joe'} <lazyrepeatarray data: [0] -> shape: (5, 5)> <lazyrepeatarray data: [1] -> shape: (5, 5)>\n"
     ]
    }
   ],
   "source": [
    "phi_res = phi.get_copy()\n",
    "print(phi_res.child.child, phi_res.child.data_subjects.sum(), phi_res.child.min_vals, phi_res.child.max_vals)"
   ]
  },
  {
   "cell_type": "code",
   "execution_count": 13,
   "id": "82fb98fc-5092-48af-8c20-1f3e535293b1",
   "metadata": {},
   "outputs": [],
   "source": [
    "gamma = domain.datasets[-1][\"gamma\"]"
   ]
  },
  {
   "cell_type": "code",
   "execution_count": 14,
   "id": "90bda047-b1d0-46bd-a788-818319a0d227",
   "metadata": {},
   "outputs": [],
   "source": [
    "data = gamma.get_copy().child"
   ]
  },
  {
   "cell_type": "code",
   "execution_count": 15,
   "id": "2c80b82c-65a1-448a-9796-1f3d9229ca6b",
   "metadata": {},
   "outputs": [
    {
     "name": "stdout",
     "output_type": "stream",
     "text": [
      "[[0.5808899  0.6610832  0.84622848 0.98620149 0.16347447]\n",
      " [0.83961905 0.19573528 0.85469873 0.67341633 0.27540538]\n",
      " [0.72422293 0.35704406 0.94523301 0.48327048 0.80650038]\n",
      " [0.10703216 0.00424864 0.92663971 0.52008441 0.50657996]\n",
      " [0.88296833 0.90654247 0.48253977 0.09829327 0.4685918 ]]\n",
      "<lazyrepeatarray data: [0] -> shape: (5, 5)>\n",
      "<lazyrepeatarray data: [1] -> shape: (5, 5)>\n"
     ]
    }
   ],
   "source": [
    "local_res = data.copy()\n",
    "print(local_res.child)\n",
    "print(local_res.min_vals)\n",
    "print(local_res.max_vals)"
   ]
  },
  {
   "cell_type": "code",
   "execution_count": 16,
   "id": "0eaca9a7-2126-4800-aa74-840cd2bc4404",
   "metadata": {},
   "outputs": [],
   "source": [
    "res = gamma.copy()"
   ]
  },
  {
   "cell_type": "code",
   "execution_count": 17,
   "id": "0d7bf3ad-6927-4748-939d-1bfe2455ac8f",
   "metadata": {},
   "outputs": [
    {
     "name": "stdout",
     "output_type": "stream",
     "text": [
      "[[0.5808899  0.6610832  0.84622848 0.98620149 0.16347447]\n",
      " [0.83961905 0.19573528 0.85469873 0.67341633 0.27540538]\n",
      " [0.72422293 0.35704406 0.94523301 0.48327048 0.80650038]\n",
      " [0.10703216 0.00424864 0.92663971 0.52008441 0.50657996]\n",
      " [0.88296833 0.90654247 0.48253977 0.09829327 0.4685918 ]]\n",
      "<lazyrepeatarray data: [0] -> shape: (5, 5)>\n",
      "<lazyrepeatarray data: [1] -> shape: (5, 5)>\n"
     ]
    }
   ],
   "source": [
    "final_res = res.get_copy().child\n",
    "print(final_res.child)\n",
    "print(final_res.min_vals)\n",
    "print(final_res.max_vals)"
   ]
  },
  {
   "cell_type": "code",
   "execution_count": null,
   "id": "899ee9c6-1686-458a-ac50-04320ffcd2b5",
   "metadata": {},
   "outputs": [],
   "source": []
  },
  {
   "cell_type": "code",
   "execution_count": null,
   "id": "fac511f2-2648-4147-b635-464d1f7649a2",
   "metadata": {},
   "outputs": [],
   "source": []
  }
 ],
 "metadata": {
  "kernelspec": {
   "display_name": "Python 3 (ipykernel)",
   "language": "python",
   "name": "python3"
  },
  "language_info": {
   "codemirror_mode": {
    "name": "ipython",
    "version": 3
   },
   "file_extension": ".py",
   "mimetype": "text/x-python",
   "name": "python",
   "nbconvert_exporter": "python",
   "pygments_lexer": "ipython3",
   "version": "3.9.13"
  }
 },
 "nbformat": 4,
 "nbformat_minor": 5
}
