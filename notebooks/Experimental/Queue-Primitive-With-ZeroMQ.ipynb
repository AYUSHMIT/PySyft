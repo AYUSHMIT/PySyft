{
 "cells": [
  {
   "cell_type": "code",
   "execution_count": 2,
   "id": "1b047535",
   "metadata": {},
   "outputs": [],
   "source": [
    "import syft as sy\n",
    "from syft.core.node.new.queue_stash import QueueItem"
   ]
  },
  {
   "cell_type": "code",
   "execution_count": 26,
   "id": "77d438b7",
   "metadata": {},
   "outputs": [
    {
     "name": "stdout",
     "output_type": "stream",
     "text": [
      "SQLite Store Path:\n",
      "!open file:///tmp/79fa33618d8eaa1fc55f6f8a2d34c65e.sqlite\n",
      "\n",
      "> Starting Worker: Domain - 79fa33618d8eaa1fc55f6f8a2d34c65e - NodeType.DOMAIN - [<class 'syft.core.node.new.user_service.UserService'>, <class 'syft.core.node.new.metadata_service.MetadataService'>, <class 'syft.core.node.new.action_service.ActionService'>, <class 'syft.core.node.new.test_service.TestService'>, <class 'syft.core.node.new.dataset_service.DatasetService'>, <class 'syft.core.node.new.user_code_service.UserCodeService'>, <class 'syft.core.node.new.request_service.RequestService'>, <class 'syft.core.node.new.data_subject_service.DataSubjectService'>, <class 'syft.core.node.new.network_service.NetworkService'>, <class 'syft.core.node.new.policy_service.PolicyService'>, <class 'syft.core.node.new.message_service.MessageService'>, <class 'syft.core.node.new.project_service.ProjectService'>, <class 'syft.core.node.new.data_subject_member_service.DataSubjectMemberService'>]\n"
     ]
    }
   ],
   "source": [
    "domain = sy.Worker.named('Domain', processes=1)"
   ]
  },
  {
   "cell_type": "code",
   "execution_count": 27,
   "id": "35fa7d9a",
   "metadata": {},
   "outputs": [],
   "source": [
    "client = domain.root_client"
   ]
  },
  {
   "cell_type": "code",
   "execution_count": 28,
   "id": "02d8b5c2",
   "metadata": {},
   "outputs": [],
   "source": [
    "from syft.core.node.new.api import SyftAPICall"
   ]
  },
  {
   "cell_type": "code",
   "execution_count": 29,
   "id": "e068a60d",
   "metadata": {},
   "outputs": [],
   "source": [
    "call = SyftAPICall(\n",
    "    node_uid=domain.id, path=\"data_subject.get_all\", args=(), blocking=False, kwargs={}\n",
    ")"
   ]
  },
  {
   "cell_type": "code",
   "execution_count": 30,
   "id": "ad97ba50",
   "metadata": {},
   "outputs": [],
   "source": [
    "signed_api_call = call.sign(client.credentials)"
   ]
  },
  {
   "cell_type": "code",
   "execution_count": 31,
   "id": "5fc5f10a",
   "metadata": {},
   "outputs": [],
   "source": [
    "signed_result = domain.handle_api_call(signed_api_call)"
   ]
  },
  {
   "cell_type": "code",
   "execution_count": 39,
   "id": "d94368c7",
   "metadata": {},
   "outputs": [
    {
     "data": {
      "text/markdown": [
       "```python\n",
       "class QueueItem:\n",
       "  id: str = 06fa65db835441c693701308c494d90d\n",
       "  node_uid: str = 79fa33618d8eaa1fc55f6f8a2d34c65e\n",
       "  result: str = None\n",
       "  resolved: str = False\n",
       "\n",
       "```"
      ],
      "text/plain": [
       "syft.core.node.new.queue_stash.QueueItem"
      ]
     },
     "execution_count": 39,
     "metadata": {},
     "output_type": "execute_result"
    }
   ],
   "source": [
    "signed_result.message.data"
   ]
  },
  {
   "cell_type": "code",
   "execution_count": 42,
   "id": "61a5e11a",
   "metadata": {},
   "outputs": [
    {
     "data": {
      "text/html": [
       "<div class=\"alert-info\" style=\"padding:5px;\"><strong>SyftNotReady</strong>: 06fa65db835441c693701308c494d90d not ready yet.</div><br />"
      ],
      "text/plain": [
       "<class 'syft.core.node.new.response.SyftNotReady'>: 06fa65db835441c693701308c494d90d not ready yet."
      ]
     },
     "execution_count": 42,
     "metadata": {},
     "output_type": "execute_result"
    }
   ],
   "source": [
    "signed_result.message.data.resolve"
   ]
  },
  {
   "cell_type": "code",
   "execution_count": null,
   "id": "f6d7e328",
   "metadata": {},
   "outputs": [],
   "source": []
  },
  {
   "cell_type": "code",
   "execution_count": 44,
   "id": "b7eb0aee",
   "metadata": {},
   "outputs": [],
   "source": [
    "import zmq\n",
    "from zmq.devices import monitored_queue\n",
    "from zmq.backend\n",
    "ctx = zmq.Context()\n",
    "\n",
    "ins = ctx.socket(zmq.ROUTER)\n",
    "outs = ctx.socket(zmq.DEALER)\n",
    "mons = ctx.socket(zmq.PUB)"
   ]
  },
  {
   "cell_type": "code",
   "execution_count": 48,
   "id": "9fe2ec18",
   "metadata": {},
   "outputs": [
    {
     "data": {
      "text/plain": [
       "(<zmq.Socket(zmq.ROUTER) at 0x7fef416fa580>,\n",
       " <zmq.Socket(zmq.DEALER) at 0x7fef416fa9a0>,\n",
       " <zmq.Socket(zmq.PUB) at 0x7fef416faa00>)"
      ]
     },
     "execution_count": 48,
     "metadata": {},
     "output_type": "execute_result"
    }
   ],
   "source": [
    "ins, outs, mons"
   ]
  },
  {
   "cell_type": "code",
   "execution_count": 51,
   "id": "b91f63b2",
   "metadata": {},
   "outputs": [
    {
     "ename": "KeyboardInterrupt",
     "evalue": "",
     "output_type": "error",
     "traceback": [
      "\u001b[0;31m---------------------------------------------------------------------------\u001b[0m",
      "\u001b[0;31mKeyboardInterrupt\u001b[0m                         Traceback (most recent call last)",
      "Input \u001b[0;32mIn [51]\u001b[0m, in \u001b[0;36m<module>\u001b[0;34m\u001b[0m\n\u001b[1;32m      1\u001b[0m \u001b[38;5;66;03m# configure_sockets(ins,outs,mons)\u001b[39;00m\n\u001b[0;32m----> 2\u001b[0m \u001b[43mmonitored_queue\u001b[49m\u001b[43m(\u001b[49m\u001b[43mins\u001b[49m\u001b[43m,\u001b[49m\u001b[43m \u001b[49m\u001b[43mouts\u001b[49m\u001b[43m,\u001b[49m\u001b[43m \u001b[49m\u001b[43mmons\u001b[49m\u001b[43m,\u001b[49m\u001b[43m \u001b[49m\u001b[43min_prefix\u001b[49m\u001b[38;5;241;43m=\u001b[39;49m\u001b[38;5;124;43mb\u001b[39;49m\u001b[38;5;124;43m'\u001b[39;49m\u001b[38;5;124;43min\u001b[39;49m\u001b[38;5;124;43m'\u001b[39;49m\u001b[43m,\u001b[49m\u001b[43m \u001b[49m\u001b[43mout_prefix\u001b[49m\u001b[38;5;241;43m=\u001b[39;49m\u001b[38;5;124;43mb\u001b[39;49m\u001b[38;5;124;43m'\u001b[39;49m\u001b[38;5;124;43mout\u001b[39;49m\u001b[38;5;124;43m'\u001b[39;49m\u001b[43m)\u001b[49m\n",
      "File \u001b[0;32mzmq/devices/monitoredqueue.pyx:102\u001b[0m, in \u001b[0;36mzmq.devices.monitoredqueue.monitored_queue\u001b[0;34m()\u001b[0m\n",
      "File \u001b[0;32m~/anaconda3/envs/syft/lib/python3.9/site-packages/zmq/backend/cython/checkrc.pxd:13\u001b[0m, in \u001b[0;36mzmq.backend.cython.checkrc._check_rc\u001b[0;34m()\u001b[0m\n",
      "\u001b[0;31mKeyboardInterrupt\u001b[0m: "
     ]
    }
   ],
   "source": [
    "# configure_sockets(ins,outs,mons)\n",
    "monitored_queue(ins, outs, mons, in_prefix=b'in', out_prefix=b'out')"
   ]
  },
  {
   "cell_type": "code",
   "execution_count": null,
   "id": "555408be",
   "metadata": {},
   "outputs": [],
   "source": []
  },
  {
   "cell_type": "code",
   "execution_count": 54,
   "id": "94428533",
   "metadata": {},
   "outputs": [],
   "source": [
    "def test_default_mq_args():\n",
    "    device = dev = zmq.devices.ThreadMonitoredQueue(zmq.ROUTER, zmq.DEALER, zmq.PUB)\n",
    "    dev.setsockopt_in(zmq.LINGER, 0)\n",
    "    dev.setsockopt_out(zmq.LINGER, 0)\n",
    "    dev.setsockopt_mon(zmq.LINGER, 0)\n",
    "    # this will raise if default args are wrong\n",
    "    dev.start()\n",
    "    return device"
   ]
  },
  {
   "cell_type": "code",
   "execution_count": 55,
   "id": "903e3943",
   "metadata": {},
   "outputs": [],
   "source": [
    "device = test_default_mq_args()"
   ]
  },
  {
   "cell_type": "code",
   "execution_count": 24,
   "id": "c4af9592",
   "metadata": {},
   "outputs": [],
   "source": [
    "import zmq\n",
    "from zmq import devices\n",
    "import time\n",
    "\n",
    "class MessageQueue:\n",
    "    def __init__(self):\n",
    "        self.sockets = []\n",
    "        self.context = zmq.Context()\n",
    "        \n",
    "    def create_bound_pair(\n",
    "        self, type1=zmq.PAIR, type2=zmq.PAIR, interface='tcp://127.0.0.1'\n",
    "    ):\n",
    "        \"\"\"Create a bound socket pair using a random port.\"\"\"\n",
    "        s1 = self.context.socket(type1)\n",
    "        s1.setsockopt(zmq.LINGER, 0)\n",
    "        port = s1.bind_to_random_port(interface)\n",
    "        s2 = self.context.socket(type2)\n",
    "        s2.setsockopt(zmq.LINGER, 0)\n",
    "        s2.connect(f'{interface}:{port}')\n",
    "        self.sockets.extend([s1, s2])\n",
    "        return s1, s2\n",
    "    \n",
    "    def build_queue(self):\n",
    "        pub, sub = self.create_bound_pair(zmq.PUB, zmq.SUB)\n",
    "        return pub, sub\n",
    "        \n",
    "    def build_device(self, mon_sub=b\"\", in_prefix=b'in', out_prefix=b'out'):\n",
    "            self.device = devices.ThreadMonitoredQueue(zmq.PUB, zmq.SUB, zmq.PUB,\n",
    "                                                in_prefix, out_prefix)\n",
    "            alice = self.context.socket(zmq.PUB)\n",
    "            bob = self.context.socket(zmq.SUB)\n",
    "            mon = self.context.socket(zmq.SUB)\n",
    "\n",
    "            aport = alice.bind_to_random_port('tcp://127.0.0.1')\n",
    "            bport = bob.bind_to_random_port('tcp://127.0.0.1')\n",
    "            mport = mon.bind_to_random_port('tcp://127.0.0.1')\n",
    "            mon.setsockopt(zmq.SUBSCRIBE, mon_sub)\n",
    "\n",
    "            self.device.connect_in(\"tcp://127.0.0.1:%i\"%aport)\n",
    "            self.device.connect_out(\"tcp://127.0.0.1:%i\"%bport)\n",
    "            self.device.connect_mon(\"tcp://127.0.0.1:%i\"%mport)\n",
    "            self.device.start()\n",
    "            time.sleep(.2)\n",
    "            try:\n",
    "                # this is currenlty necessary to ensure no dropped monitor messages\n",
    "                # see LIBZMQ-248 for more info\n",
    "                mon.recv_multipart(zmq.NOBLOCK)\n",
    "            except zmq.ZMQError:\n",
    "                pass\n",
    "            self.sockets.extend([alice, mon])\n",
    "            return alice, bob, mon\n",
    "        \n",
    "    def teardown_device(self):\n",
    "        for socket in self.sockets:\n",
    "            socket.close()\n",
    "            del socket\n",
    "        del self.device"
   ]
  },
  {
   "cell_type": "code",
   "execution_count": 25,
   "id": "3d5c64f0",
   "metadata": {},
   "outputs": [],
   "source": [
    "queue = MessageQueue()"
   ]
  },
  {
   "cell_type": "code",
   "execution_count": 23,
   "id": "2f466699",
   "metadata": {},
   "outputs": [],
   "source": [
    "\n",
    "# queue.teardown_device()"
   ]
  },
  {
   "cell_type": "code",
   "execution_count": 26,
   "id": "7a28f582",
   "metadata": {},
   "outputs": [],
   "source": [
    "pub, sub, mon = queue.build_device()"
   ]
  },
  {
   "cell_type": "code",
   "execution_count": 27,
   "id": "063a5e4b",
   "metadata": {},
   "outputs": [],
   "source": [
    "pub.send(b'asdasd')"
   ]
  },
  {
   "cell_type": "code",
   "execution_count": null,
   "id": "6d9c2f0b",
   "metadata": {},
   "outputs": [],
   "source": [
    "sub.recv()"
   ]
  },
  {
   "cell_type": "code",
   "execution_count": 22,
   "id": "706ba38b",
   "metadata": {},
   "outputs": [
    {
     "ename": "KeyboardInterrupt",
     "evalue": "",
     "output_type": "error",
     "traceback": [
      "\u001b[0;31m---------------------------------------------------------------------------\u001b[0m",
      "\u001b[0;31mKeyboardInterrupt\u001b[0m                         Traceback (most recent call last)",
      "Input \u001b[0;32mIn [22]\u001b[0m, in \u001b[0;36m<module>\u001b[0;34m\u001b[0m\n\u001b[0;32m----> 1\u001b[0m \u001b[43ms\u001b[49m\u001b[38;5;241;43m.\u001b[39;49m\u001b[43mrecv\u001b[49m\u001b[43m(\u001b[49m\u001b[43m)\u001b[49m\n",
      "File \u001b[0;32mzmq/backend/cython/socket.pyx:803\u001b[0m, in \u001b[0;36mzmq.backend.cython.socket.Socket.recv\u001b[0;34m()\u001b[0m\n",
      "File \u001b[0;32mzmq/backend/cython/socket.pyx:839\u001b[0m, in \u001b[0;36mzmq.backend.cython.socket.Socket.recv\u001b[0;34m()\u001b[0m\n",
      "File \u001b[0;32mzmq/backend/cython/socket.pyx:188\u001b[0m, in \u001b[0;36mzmq.backend.cython.socket._recv_copy\u001b[0;34m()\u001b[0m\n",
      "File \u001b[0;32m~/anaconda3/envs/syft/lib/python3.9/site-packages/zmq/backend/cython/checkrc.pxd:13\u001b[0m, in \u001b[0;36mzmq.backend.cython.checkrc._check_rc\u001b[0;34m()\u001b[0m\n",
      "\u001b[0;31mKeyboardInterrupt\u001b[0m: "
     ]
    }
   ],
   "source": [
    "s.recv()"
   ]
  },
  {
   "cell_type": "code",
   "execution_count": 105,
   "id": "63f37e93",
   "metadata": {},
   "outputs": [],
   "source": [
    "zmq.PAIR??"
   ]
  },
  {
   "cell_type": "code",
   "execution_count": null,
   "id": "8c518313",
   "metadata": {},
   "outputs": [],
   "source": []
  }
 ],
 "metadata": {
  "kernelspec": {
   "display_name": "Python 3 (ipykernel)",
   "language": "python",
   "name": "python3"
  },
  "language_info": {
   "codemirror_mode": {
    "name": "ipython",
    "version": 3
   },
   "file_extension": ".py",
   "mimetype": "text/x-python",
   "name": "python",
   "nbconvert_exporter": "python",
   "pygments_lexer": "ipython3",
   "version": "3.9.7"
  }
 },
 "nbformat": 4,
 "nbformat_minor": 5
}
