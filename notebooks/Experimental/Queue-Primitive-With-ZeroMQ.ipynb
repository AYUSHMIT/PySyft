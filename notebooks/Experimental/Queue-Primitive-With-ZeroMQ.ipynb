{
 "cells": [
  {
   "cell_type": "code",
   "execution_count": 1,
   "id": "1b047535",
   "metadata": {},
   "outputs": [
    {
     "name": "stderr",
     "output_type": "stream",
     "text": [
      "kj/filesystem-disk-unix.c++:1703: warning: PWD environment variable doesn't match current directory; pwd = /home/shubham/PySyft\n"
     ]
    }
   ],
   "source": [
    "import syft as sy\n",
    "from syft.core.node.new.queue_stash import QueueItem"
   ]
  },
  {
   "cell_type": "code",
   "execution_count": 2,
   "id": "77d438b7",
   "metadata": {},
   "outputs": [
    {
     "name": "stdout",
     "output_type": "stream",
     "text": [
      "SQLite Store Path:\n",
      "!open file:///tmp/79fa33618d8eaa1fc55f6f8a2d34c65e.sqlite\n",
      "\n",
      "> Starting Worker: Domain - 79fa33618d8eaa1fc55f6f8a2d34c65e - NodeType.DOMAIN - [<class 'syft.core.node.new.user_service.UserService'>, <class 'syft.core.node.new.metadata_service.MetadataService'>, <class 'syft.core.node.new.action_service.ActionService'>, <class 'syft.core.node.new.test_service.TestService'>, <class 'syft.core.node.new.dataset_service.DatasetService'>, <class 'syft.core.node.new.user_code_service.UserCodeService'>, <class 'syft.core.node.new.request_service.RequestService'>, <class 'syft.core.node.new.data_subject_service.DataSubjectService'>, <class 'syft.core.node.new.network_service.NetworkService'>, <class 'syft.core.node.new.policy_service.PolicyService'>, <class 'syft.core.node.new.message_service.MessageService'>, <class 'syft.core.node.new.project_service.ProjectService'>, <class 'syft.core.node.new.data_subject_member_service.DataSubjectMemberService'>]\n"
     ]
    }
   ],
   "source": [
    "domain = sy.Worker.named('Domain', processes=1)"
   ]
  },
  {
   "cell_type": "code",
   "execution_count": 3,
   "id": "35fa7d9a",
   "metadata": {},
   "outputs": [],
   "source": [
    "client = domain.root_client"
   ]
  },
  {
   "cell_type": "code",
   "execution_count": 4,
   "id": "02d8b5c2",
   "metadata": {},
   "outputs": [],
   "source": [
    "from syft.core.node.new.api import SyftAPICall"
   ]
  },
  {
   "cell_type": "code",
   "execution_count": 5,
   "id": "e068a60d",
   "metadata": {},
   "outputs": [],
   "source": [
    "call = SyftAPICall(\n",
    "    node_uid=domain.id, path=\"data_subject.get_all\", args=(), blocking=False, kwargs={}\n",
    ")"
   ]
  },
  {
   "cell_type": "code",
   "execution_count": 12,
   "id": "b7441d75",
   "metadata": {},
   "outputs": [
    {
     "data": {
      "text/plain": [
       "'data_subject.get_all'"
      ]
     },
     "execution_count": 12,
     "metadata": {},
     "output_type": "execute_result"
    }
   ],
   "source": [
    "call.path"
   ]
  },
  {
   "cell_type": "code",
   "execution_count": 6,
   "id": "ad97ba50",
   "metadata": {},
   "outputs": [],
   "source": [
    "signed_api_call = call.sign(client.credentials)"
   ]
  },
  {
   "cell_type": "code",
   "execution_count": 14,
   "id": "e67be414",
   "metadata": {},
   "outputs": [
    {
     "data": {
      "text/plain": [
       "'data_subject.get_all'"
      ]
     },
     "execution_count": 14,
     "metadata": {},
     "output_type": "execute_result"
    }
   ],
   "source": [
    "signed_api_call.message.path"
   ]
  },
  {
   "cell_type": "code",
   "execution_count": 16,
   "id": "fc797f56",
   "metadata": {},
   "outputs": [],
   "source": [
    "result = client.api.services.data_subject.get_all(blocking=False)"
   ]
  },
  {
   "cell_type": "code",
   "execution_count": 26,
   "id": "9cb41bc0",
   "metadata": {},
   "outputs": [
    {
     "data": {
      "text/markdown": [
       "```python\n",
       "class QueueItem:\n",
       "  id: str = 4b613d4d84364bdfbfce2a3abfd3b471\n",
       "  node_uid: str = 79fa33618d8eaa1fc55f6f8a2d34c65e\n",
       "  result: str = syft.core.node.new.api.SignedSyftAPICall\n",
       "  resolved: str = True\n",
       "\n",
       "```"
      ],
      "text/plain": [
       "syft.core.node.new.queue_stash.QueueItem"
      ]
     },
     "execution_count": 26,
     "metadata": {},
     "output_type": "execute_result"
    }
   ],
   "source": [
    "result"
   ]
  },
  {
   "cell_type": "code",
   "execution_count": 7,
   "id": "5fc5f10a",
   "metadata": {},
   "outputs": [],
   "source": [
    "signed_result = domain.handle_api_call(signed_api_call)"
   ]
  },
  {
   "cell_type": "code",
   "execution_count": 10,
   "id": "d94368c7",
   "metadata": {},
   "outputs": [
    {
     "data": {
      "text/markdown": [
       "```python\n",
       "class QueueItem:\n",
       "  id: str = dcfdd77d4a25437094357f5810e4a5bd\n",
       "  node_uid: str = 79fa33618d8eaa1fc55f6f8a2d34c65e\n",
       "  result: str = None\n",
       "  resolved: str = False\n",
       "\n",
       "```"
      ],
      "text/plain": [
       "syft.core.node.new.queue_stash.QueueItem"
      ]
     },
     "execution_count": 10,
     "metadata": {},
     "output_type": "execute_result"
    }
   ],
   "source": [
    "signed_result.message.data"
   ]
  },
  {
   "cell_type": "code",
   "execution_count": 25,
   "id": "61a5e11a",
   "metadata": {},
   "outputs": [
    {
     "data": {
      "text/plain": [
       "SyftAPIData(data=[])"
      ]
     },
     "execution_count": 25,
     "metadata": {},
     "output_type": "execute_result"
    }
   ],
   "source": [
    "signed_result.message.data.resolve"
   ]
  },
  {
   "cell_type": "code",
   "execution_count": null,
   "id": "9c26f964",
   "metadata": {},
   "outputs": [],
   "source": []
  },
  {
   "cell_type": "code",
   "execution_count": null,
   "id": "7f9ecb35",
   "metadata": {},
   "outputs": [],
   "source": []
  },
  {
   "cell_type": "code",
   "execution_count": null,
   "id": "32cc06b1",
   "metadata": {},
   "outputs": [],
   "source": []
  },
  {
   "cell_type": "code",
   "execution_count": null,
   "id": "3c38ba20",
   "metadata": {},
   "outputs": [],
   "source": []
  },
  {
   "cell_type": "code",
   "execution_count": null,
   "id": "db337742",
   "metadata": {},
   "outputs": [],
   "source": []
  },
  {
   "cell_type": "code",
   "execution_count": 24,
   "id": "c4af9592",
   "metadata": {},
   "outputs": [],
   "source": [
    "import zmq\n",
    "from zmq import devices\n",
    "import time\n",
    "\n",
    "class MessageQueue:\n",
    "    def __init__(self):\n",
    "        self.sockets = []\n",
    "        self.context = zmq.Context()\n",
    "        \n",
    "    def create_bound_pair(\n",
    "        self, type1=zmq.PAIR, type2=zmq.PAIR, interface='tcp://127.0.0.1'\n",
    "    ):\n",
    "        \"\"\"Create a bound socket pair using a random port.\"\"\"\n",
    "        s1 = self.context.socket(type1)\n",
    "        s1.setsockopt(zmq.LINGER, 0)\n",
    "        port = s1.bind_to_random_port(interface)\n",
    "        s2 = self.context.socket(type2)\n",
    "        s2.setsockopt(zmq.LINGER, 0)\n",
    "        s2.connect(f'{interface}:{port}')\n",
    "        self.sockets.extend([s1, s2])\n",
    "        return s1, s2\n",
    "    \n",
    "    def build_queue(self):\n",
    "        pub, sub = self.create_bound_pair(zmq.PUB, zmq.SUB)\n",
    "        return pub, sub\n",
    "        \n",
    "    def build_device(self, mon_sub=b\"\", in_prefix=b'in', out_prefix=b'out'):\n",
    "            self.device = devices.ThreadMonitoredQueue(zmq.PUB, zmq.SUB, zmq.PUB,\n",
    "                                                in_prefix, out_prefix)\n",
    "            alice = self.context.socket(zmq.PUB)\n",
    "            bob = self.context.socket(zmq.SUB)\n",
    "            mon = self.context.socket(zmq.SUB)\n",
    "\n",
    "            aport = alice.bind_to_random_port('tcp://127.0.0.1')\n",
    "            bport = bob.bind_to_random_port('tcp://127.0.0.1')\n",
    "            mport = mon.bind_to_random_port('tcp://127.0.0.1')\n",
    "            mon.setsockopt(zmq.SUBSCRIBE, mon_sub)\n",
    "\n",
    "            self.device.connect_in(\"tcp://127.0.0.1:%i\"%aport)\n",
    "            self.device.connect_out(\"tcp://127.0.0.1:%i\"%bport)\n",
    "            self.device.connect_mon(\"tcp://127.0.0.1:%i\"%mport)\n",
    "            self.device.start()\n",
    "            time.sleep(.2)\n",
    "            try:\n",
    "                # this is currenlty necessary to ensure no dropped monitor messages\n",
    "                # see LIBZMQ-248 for more info\n",
    "                mon.recv_multipart(zmq.NOBLOCK)\n",
    "            except zmq.ZMQError:\n",
    "                pass\n",
    "            self.sockets.extend([alice, bob, mon])\n",
    "            return alice, bob, mon\n",
    "        \n",
    "    def teardown_device(self):\n",
    "        for socket in self.sockets:\n",
    "            socket.close()\n",
    "            del socket\n",
    "        del self.device"
   ]
  },
  {
   "cell_type": "code",
   "execution_count": 40,
   "id": "8c518313",
   "metadata": {},
   "outputs": [],
   "source": [
    "import zmq\n",
    "import random\n",
    "import time\n",
    "\n",
    "\n",
    "context = zmq.Context()\n",
    "sockets = []\n",
    "\n",
    "\n",
    "def ventilator(context):\n",
    "    # Socket to send messages on\n",
    "    sender = context.socket(zmq.PUSH)\n",
    "    sender.bind(\"tcp://*:5557\")\n",
    "    sockets.append(sender)\n",
    "\n",
    "    # Socket with direct access to the sink: used to synchronize start of batch\n",
    "    sink = context.socket(zmq.PUSH)\n",
    "    sink.connect(\"tcp://localhost:5558\")\n",
    "    sockets.append(sink)\n",
    "\n",
    "    print(\"Press Enter when the workers are ready: \")\n",
    "    _ = input()\n",
    "    print(\"Sending tasks to workers...\")\n",
    "\n",
    "    # The first message is \"0\" and signals start of batch\n",
    "    sink.send(b'0')\n",
    "\n",
    "    # Initialize random number generator\n",
    "    random.seed()\n",
    "\n",
    "    # Send 100 tasks\n",
    "    total_msec = 0\n",
    "    for task_nbr in range(10):\n",
    "\n",
    "        # Random workload from 1 to 100 msecs\n",
    "        workload = task_nbr + 1 #random.randint(1, 100)\n",
    "        total_msec += workload\n",
    "\n",
    "        sender.send_string(f\"{workload}\")\n",
    "\n",
    "    print(f\"Total expected cost: {total_msec} msec\")\n",
    "\n",
    "    # Give 0MQ time to deliver\n",
    "    time.sleep(1)"
   ]
  },
  {
   "cell_type": "code",
   "execution_count": 12,
   "id": "1eb6c9d6",
   "metadata": {},
   "outputs": [],
   "source": [
    "def worker(context):\n",
    "    # Socket to receive messages on\n",
    "    receiver = context.socket(zmq.PULL)\n",
    "    receiver.connect(\"tcp://localhost:5557\")\n",
    "    sockets.append(receiver)\n",
    "\n",
    "    # Socket to send messages to\n",
    "    sender = context.socket(zmq.PUSH)\n",
    "    sender.connect(\"tcp://localhost:5558\")\n",
    "    sockets.append(sender)\n",
    "\n",
    "    # Process tasks forever\n",
    "    while True:\n",
    "        s = receiver.recv()\n",
    "\n",
    "        # Simple progress indicator for the viewer\n",
    "        sys.stdout.write('.')\n",
    "        sys.stdout.flush()\n",
    "\n",
    "        # Do the work\n",
    "        time.sleep(int(s)*0.001)\n",
    "\n",
    "        # Send results to sink\n",
    "        sender.send(b'')"
   ]
  },
  {
   "cell_type": "code",
   "execution_count": 13,
   "id": "c9d1f366",
   "metadata": {},
   "outputs": [],
   "source": [
    "def sink(context):\n",
    "    # Socket to receive messages on\n",
    "    receiver = context.socket(zmq.PULL)\n",
    "    receiver.bind(\"tcp://*:5558\")\n",
    "    sockets.append(receiver)\n",
    "\n",
    "    # Wait for start of batch\n",
    "    s = receiver.recv()\n",
    "\n",
    "    # Start our clock now\n",
    "    tstart = time.time()\n",
    "\n",
    "    # Process 100 confirmations\n",
    "    for task_nbr in range(100):\n",
    "        s = receiver.recv()\n",
    "        if task_nbr % 10 == 0:\n",
    "            sys.stdout.write(':')\n",
    "        else:\n",
    "            sys.stdout.write('.')\n",
    "        sys.stdout.flush()\n",
    "\n",
    "    # Calculate and report duration of batch\n",
    "    tend = time.time()\n",
    "    print(f\"Total elapsed time: {(tend-tstart)*1000} msec\")"
   ]
  },
  {
   "cell_type": "code",
   "execution_count": 43,
   "id": "3f4598ca",
   "metadata": {},
   "outputs": [
    {
     "name": "stdout",
     "output_type": "stream",
     "text": [
      "Press Enter when the workers are ready: \n",
      "\n",
      "Sending tasks to workers...\n",
      "Total expected cost: 55 msec\n"
     ]
    }
   ],
   "source": [
    "ventilator(context)"
   ]
  },
  {
   "cell_type": "code",
   "execution_count": 42,
   "id": "867416ec",
   "metadata": {},
   "outputs": [],
   "source": [
    "for s in sockets:\n",
    "    s.close()\n",
    "sockets =[]"
   ]
  },
  {
   "cell_type": "code",
   "execution_count": null,
   "id": "c6c7baf5",
   "metadata": {},
   "outputs": [],
   "source": []
  }
 ],
 "metadata": {
  "kernelspec": {
   "display_name": "Python 3 (ipykernel)",
   "language": "python",
   "name": "python3"
  },
  "language_info": {
   "codemirror_mode": {
    "name": "ipython",
    "version": 3
   },
   "file_extension": ".py",
   "mimetype": "text/x-python",
   "name": "python",
   "nbconvert_exporter": "python",
   "pygments_lexer": "ipython3",
   "version": "3.9.7"
  }
 },
 "nbformat": 4,
 "nbformat_minor": 5
}
