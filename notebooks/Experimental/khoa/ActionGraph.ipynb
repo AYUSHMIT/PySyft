{
 "cells": [
  {
   "cell_type": "code",
   "execution_count": 17,
   "id": "8971e920",
   "metadata": {},
   "outputs": [
    {
     "name": "stdout",
     "output_type": "stream",
     "text": [
      "0.8.0-beta.8\n"
     ]
    },
    {
     "data": {
      "text/plain": [
       "<Figure size 4000x2000 with 0 Axes>"
      ]
     },
     "metadata": {},
     "output_type": "display_data"
    }
   ],
   "source": [
    "import networkx as nx\n",
    "import syft as sy\n",
    "import numpy as np\n",
    "import matplotlib.pyplot as plt\n",
    "plt.figure(figsize=(40, 20))\n",
    "import pprint\n",
    "\n",
    "from syft.service.action.action_graph_service import ActionGraphService\n",
    "from syft.service.action.action_graph import InMemoryActionGraphStore, InMemoryGraphConfig, InMemoryStoreClientConfig\n",
    "from syft.service.context import AuthedServiceContext\n",
    "from syft.node.credentials import SyftSigningKey\n",
    "from syft.service.action.action_graph import Action, NodeActionData, NodeActionDataUpdate\n",
    "from syft.service.action.action_graph import ActionStatus\n",
    "from syft.service.action.numpy import NumpyArrayObject, ActionObject\n",
    "\n",
    "\n",
    "print(sy.__version__)"
   ]
  },
  {
   "cell_type": "code",
   "execution_count": 2,
   "id": "54da6d10",
   "metadata": {},
   "outputs": [
    {
     "data": {
      "text/plain": [
       "InMemoryGraphConfig(store_type=<class 'syft.service.action.action_graph.NetworkXBackingStore'>, client_config=InMemoryStoreClientConfig(filename='action_graph.bytes', path='/tmp'), locking_config=NoLockingConfig(lock_name='syft_lock', namespace=None, expire=60, timeout=30, retry_interval=0.1))"
      ]
     },
     "execution_count": 2,
     "metadata": {},
     "output_type": "execute_result"
    }
   ],
   "source": [
    "store_config = InMemoryGraphConfig()\n",
    "store_config"
   ]
  },
  {
   "cell_type": "code",
   "execution_count": 3,
   "id": "a84dd6ed",
   "metadata": {},
   "outputs": [],
   "source": [
    "graph_store = InMemoryActionGraphStore(store_config=store_config)"
   ]
  },
  {
   "cell_type": "code",
   "execution_count": 4,
   "id": "8ce378a1",
   "metadata": {},
   "outputs": [
    {
     "data": {
      "text/plain": [
       "InMemoryGraphConfig(store_type=<class 'syft.service.action.action_graph.NetworkXBackingStore'>, client_config=InMemoryStoreClientConfig(filename='action_graph.bytes', path='/tmp'), locking_config=NoLockingConfig(lock_name='syft_lock', namespace=None, expire=60, timeout=30, retry_interval=0.1))"
      ]
     },
     "execution_count": 4,
     "metadata": {},
     "output_type": "execute_result"
    }
   ],
   "source": [
    "graph_store.store_config"
   ]
  },
  {
   "cell_type": "code",
   "execution_count": 5,
   "id": "68d08357",
   "metadata": {},
   "outputs": [],
   "source": [
    "action_graph_service = ActionGraphService(store=graph_store)"
   ]
  },
  {
   "cell_type": "code",
   "execution_count": 6,
   "id": "916f0d86",
   "metadata": {},
   "outputs": [],
   "source": [
    "signing_key = SyftSigningKey.generate()\n",
    "verify_key = signing_key.verify_key\n",
    "authed_context = AuthedServiceContext(credentials=signing_key.verify_key)"
   ]
  },
  {
   "cell_type": "code",
   "execution_count": 7,
   "id": "d9fe75c1",
   "metadata": {},
   "outputs": [
    {
     "data": {
      "text/plain": [
       "True"
      ]
     },
     "execution_count": 7,
     "metadata": {},
     "output_type": "execute_result"
    }
   ],
   "source": [
    "signing_key.verify_key == authed_context.credentials"
   ]
  },
  {
   "cell_type": "code",
   "execution_count": 8,
   "id": "64b0c1d5",
   "metadata": {},
   "outputs": [],
   "source": [
    "action_obj_a = ActionObject.from_obj([1, 2, 3])\n",
    "action_obj_b = ActionObject.from_obj([2, 3, 4])"
   ]
  },
  {
   "cell_type": "code",
   "execution_count": 9,
   "id": "a82b51cb",
   "metadata": {},
   "outputs": [
    {
     "data": {
      "text/plain": [
       "<UID: 15ac640e96b64044a34c8327e21a7b8c>"
      ]
     },
     "execution_count": 9,
     "metadata": {},
     "output_type": "execute_result"
    }
   ],
   "source": [
    "action_obj_a.id"
   ]
  },
  {
   "cell_type": "code",
   "execution_count": 10,
   "id": "b6ff01dd",
   "metadata": {},
   "outputs": [
    {
     "data": {
      "text/markdown": [
       "```python\n",
       "class Action:\n",
       "  id: str = 480d8c4067d745a8a2de3b50c12c36c7\n",
       "  path: str = \"action.execute\"\n",
       "  op: str = \"np.array\"\n",
       "  remote_self: str = None\n",
       "  args: str = [<LineageID: 15ac640e96b64044a34c8327e21a7b8c - 1202359518488198582>]\n",
       "  kwargs: str = {}\n",
       "  result_id: str = 8e20c91d35954c259c22e09b0880d145\n",
       "\n",
       "```"
      ],
      "text/plain": [
       "syft.service.action.action_object.Action"
      ]
     },
     "execution_count": 10,
     "metadata": {},
     "output_type": "execute_result"
    }
   ],
   "source": [
    "action1 = Action(\n",
    "    path=\"action.execute\",\n",
    "    op=\"np.array\",\n",
    "    remote_self=None,\n",
    "    args=[action_obj_a.syft_lineage_id],\n",
    "    kwargs={}\n",
    ")\n",
    "action1"
   ]
  },
  {
   "cell_type": "code",
   "execution_count": 11,
   "id": "287e6a18",
   "metadata": {},
   "outputs": [],
   "source": [
    "node_action_data = NodeActionData.from_action(action=action1, \n",
    "                                              credentials=verify_key)"
   ]
  },
  {
   "cell_type": "code",
   "execution_count": 15,
   "id": "4275a206",
   "metadata": {},
   "outputs": [
    {
     "data": {
      "text/markdown": [
       "```python\n",
       "class NodeActionData:\n",
       "  id: str = 480d8c4067d745a8a2de3b50c12c36c7\n",
       "  action: str = syft.service.action.action_object.Action\n",
       "  status: str = ActionStatus.PROCESSING\n",
       "  retry: str = 0\n",
       "  created_at: str = 2023-04-21 20:15:20\n",
       "  updated_at: str = None\n",
       "  user_verify_key: str = c762a518cc182f257a7fa01e6c9d319cf228eec3e0763d025e93bb0653417e77\n",
       "\n",
       "```"
      ],
      "text/plain": [
       "class NodeActionData:\n",
       "  id: str = 480d8c4067d745a8a2de3b50c12c36c7\n",
       "  action: str = syft.service.action.action_object.Action\n",
       "  status: str = ActionStatus.PROCESSING\n",
       "  retry: str = 0\n",
       "  created_at: str = 2023-04-21 20:15:20\n",
       "  updated_at: str = None\n",
       "  user_verify_key: str = c762a518cc182f257a7fa01e6c9d319cf228eec3e0763d025e93bb0653417e77"
      ]
     },
     "execution_count": 15,
     "metadata": {},
     "output_type": "execute_result"
    }
   ],
   "source": [
    "node_action_data"
   ]
  },
  {
   "cell_type": "code",
   "execution_count": 33,
   "id": "a293437f",
   "metadata": {},
   "outputs": [
    {
     "data": {
      "text/plain": [
       "True"
      ]
     },
     "execution_count": 33,
     "metadata": {},
     "output_type": "execute_result"
    }
   ],
   "source": [
    "node_action_update = NodeActionDataUpdate()\n",
    "import syft\n",
    "isinstance(node_action_update.updated_at, syft.types.datetime.DateTime)"
   ]
  },
  {
   "cell_type": "code",
   "execution_count": 10,
   "id": "acda926d",
   "metadata": {},
   "outputs": [
    {
     "data": {
      "text/markdown": [
       "```python\n",
       "class Action:\n",
       "  id: str = ba37cdcec0d7407f8d423ea671c7607c\n",
       "  path: str = \"action.execute\"\n",
       "  op: str = \"np.array\"\n",
       "  remote_self: str = None\n",
       "  args: str = [<LineageID: 7dd9d733a433453f8612acc861d2cb06 - 1504596336701142305>]\n",
       "  kwargs: str = {}\n",
       "  result_id: str = d05deb2383484912aa053fa3c0016b6e\n",
       "\n",
       "```"
      ],
      "text/plain": [
       "syft.service.action.action_object.Action"
      ]
     },
     "execution_count": 10,
     "metadata": {},
     "output_type": "execute_result"
    }
   ],
   "source": [
    "action2 = Action(\n",
    "    path=\"action.execute\",\n",
    "    op=\"np.array\",\n",
    "    remote_self=None,\n",
    "    args=[action_obj_b.syft_lineage_id],\n",
    "    kwargs={}\n",
    ")\n",
    "action2"
   ]
  },
  {
   "cell_type": "code",
   "execution_count": 11,
   "id": "4090c7bd",
   "metadata": {},
   "outputs": [
    {
     "data": {
      "text/markdown": [
       "```python\n",
       "class NodeActionData:\n",
       "  id: str = 369946b061ce42a3807506015b906d4d\n",
       "  action: str = syft.service.action.action_object.Action\n",
       "  status: str = ActionStatus.PROCESSING\n",
       "  retry: str = 0\n",
       "  created_at: str = 2023-04-21 19:42:21\n",
       "  updated_at: str = None\n",
       "  user_verify_key: str = 4f46f70b243bacac4877c832a05fcce60bf67038ed2ef613a186fe7e6209231f\n",
       "\n",
       "```"
      ],
      "text/plain": [
       "class NodeActionData:\n",
       "  id: str = 369946b061ce42a3807506015b906d4d\n",
       "  action: str = syft.service.action.action_object.Action\n",
       "  status: str = ActionStatus.PROCESSING\n",
       "  retry: str = 0\n",
       "  created_at: str = 2023-04-21 19:42:21\n",
       "  updated_at: str = None\n",
       "  user_verify_key: str = 4f46f70b243bacac4877c832a05fcce60bf67038ed2ef613a186fe7e6209231f"
      ]
     },
     "execution_count": 11,
     "metadata": {},
     "output_type": "execute_result"
    }
   ],
   "source": [
    "action_graph_service.add_action(context=authed_context, action=action1)"
   ]
  },
  {
   "cell_type": "code",
   "execution_count": 12,
   "id": "58724513",
   "metadata": {},
   "outputs": [
    {
     "data": {
      "text/markdown": [
       "```python\n",
       "class NodeActionData:\n",
       "  id: str = ba37cdcec0d7407f8d423ea671c7607c\n",
       "  action: str = syft.service.action.action_object.Action\n",
       "  status: str = ActionStatus.PROCESSING\n",
       "  retry: str = 0\n",
       "  created_at: str = 2023-04-21 19:42:21\n",
       "  updated_at: str = None\n",
       "  user_verify_key: str = 4f46f70b243bacac4877c832a05fcce60bf67038ed2ef613a186fe7e6209231f\n",
       "\n",
       "```"
      ],
      "text/plain": [
       "class NodeActionData:\n",
       "  id: str = ba37cdcec0d7407f8d423ea671c7607c\n",
       "  action: str = syft.service.action.action_object.Action\n",
       "  status: str = ActionStatus.PROCESSING\n",
       "  retry: str = 0\n",
       "  created_at: str = 2023-04-21 19:42:21\n",
       "  updated_at: str = None\n",
       "  user_verify_key: str = 4f46f70b243bacac4877c832a05fcce60bf67038ed2ef613a186fe7e6209231f"
      ]
     },
     "execution_count": 12,
     "metadata": {},
     "output_type": "execute_result"
    }
   ],
   "source": [
    "action_graph_service.add_action(context=authed_context, action=action2)"
   ]
  },
  {
   "cell_type": "code",
   "execution_count": 13,
   "id": "1cc6933e",
   "metadata": {},
   "outputs": [
    {
     "data": {
      "image/png": "[encoded data removed]",
      "text/plain": [
       "<Figure size 640x480 with 1 Axes>"
      ]
     },
     "metadata": {},
     "output_type": "display_data"
    }
   ],
   "source": [
    "action_graph_service.store.graph.visualize()"
   ]
  },
  {
   "cell_type": "code",
   "execution_count": 14,
   "id": "2b2a6add",
   "metadata": {},
   "outputs": [
    {
     "data": {
      "text/markdown": [
       "```python\n",
       "class Action:\n",
       "  id: str = eb6d8c1e8f7f4dd4850bfe85d819ac11\n",
       "  path: str = \"action.execute\"\n",
       "  op: str = \"__add__\"\n",
       "  remote_self: str = 446ccffb842a4e04a44d00d03f5b5c16\n",
       "  args: str = [<LineageID: d05deb2383484912aa053fa3c0016b6e - 933538972540580919>]\n",
       "  kwargs: str = {}\n",
       "  result_id: str = 83fcb4dbdff1458d8d57e96cbfd3ce06\n",
       "\n",
       "```"
      ],
      "text/plain": [
       "syft.service.action.action_object.Action"
      ]
     },
     "execution_count": 14,
     "metadata": {},
     "output_type": "execute_result"
    }
   ],
   "source": [
    "action_res = Action(\n",
    "    path=\"action.execute\",\n",
    "    op=\"__add__\",\n",
    "    remote_self=action1.result_id,\n",
    "    args=[action2.result_id],\n",
    "    kwargs={}\n",
    ")\n",
    "action_res"
   ]
  },
  {
   "cell_type": "code",
   "execution_count": 15,
   "id": "fb7bc33c",
   "metadata": {},
   "outputs": [
    {
     "data": {
      "text/markdown": [
       "```python\n",
       "class NodeActionData:\n",
       "  id: str = eb6d8c1e8f7f4dd4850bfe85d819ac11\n",
       "  action: str = syft.service.action.action_object.Action\n",
       "  status: str = ActionStatus.PROCESSING\n",
       "  retry: str = 0\n",
       "  created_at: str = 2023-04-21 19:42:33\n",
       "  updated_at: str = None\n",
       "  user_verify_key: str = 4f46f70b243bacac4877c832a05fcce60bf67038ed2ef613a186fe7e6209231f\n",
       "\n",
       "```"
      ],
      "text/plain": [
       "class NodeActionData:\n",
       "  id: str = eb6d8c1e8f7f4dd4850bfe85d819ac11\n",
       "  action: str = syft.service.action.action_object.Action\n",
       "  status: str = ActionStatus.PROCESSING\n",
       "  retry: str = 0\n",
       "  created_at: str = 2023-04-21 19:42:33\n",
       "  updated_at: str = None\n",
       "  user_verify_key: str = 4f46f70b243bacac4877c832a05fcce60bf67038ed2ef613a186fe7e6209231f"
      ]
     },
     "execution_count": 15,
     "metadata": {},
     "output_type": "execute_result"
    }
   ],
   "source": [
    "action_graph_service.add_action(context=authed_context, action=action_res)"
   ]
  },
  {
   "cell_type": "code",
   "execution_count": 16,
   "id": "79aa57df",
   "metadata": {},
   "outputs": [
    {
     "data": {
      "image/png": "[encoded data removed]",
      "text/plain": [
       "<Figure size 640x480 with 1 Axes>"
      ]
     },
     "metadata": {},
     "output_type": "display_data"
    }
   ],
   "source": [
    "# plt.figure(figsize=(20, 10))\n",
    "action_graph_service.store.graph.visualize()"
   ]
  },
  {
   "cell_type": "code",
   "execution_count": 17,
   "id": "983736eb",
   "metadata": {},
   "outputs": [
    {
     "data": {
      "text/markdown": [
       "```python\n",
       "class Action:\n",
       "  id: str = eb6d8c1e8f7f4dd4850bfe85d819ac11\n",
       "  path: str = \"action.execute\"\n",
       "  op: str = \"__add__\"\n",
       "  remote_self: str = 446ccffb842a4e04a44d00d03f5b5c16\n",
       "  args: str = [<LineageID: d05deb2383484912aa053fa3c0016b6e - 933538972540580919>]\n",
       "  kwargs: str = {}\n",
       "  result_id: str = 83fcb4dbdff1458d8d57e96cbfd3ce06\n",
       "\n",
       "```"
      ],
      "text/plain": [
       "syft.service.action.action_object.Action"
      ]
     },
     "execution_count": 17,
     "metadata": {},
     "output_type": "execute_result"
    }
   ],
   "source": [
    "action_res_2 = Action(\n",
    "    path=\"action.execute\",\n",
    "    op=\"__mul__\",\n",
    "    remote_self=action_res.result_id,\n",
    "    args=[action2.result_id],\n",
    "    kwargs={}\n",
    ")\n",
    "action_res"
   ]
  },
  {
   "cell_type": "code",
   "execution_count": 18,
   "id": "49abbd2c",
   "metadata": {},
   "outputs": [
    {
     "data": {
      "text/markdown": [
       "```python\n",
       "class NodeActionData:\n",
       "  id: str = 4e4dc5dcde46450cabe47b7a912a361a\n",
       "  action: str = syft.service.action.action_object.Action\n",
       "  status: str = ActionStatus.PROCESSING\n",
       "  retry: str = 0\n",
       "  created_at: str = 2023-04-21 19:42:57\n",
       "  updated_at: str = None\n",
       "  user_verify_key: str = 4f46f70b243bacac4877c832a05fcce60bf67038ed2ef613a186fe7e6209231f\n",
       "\n",
       "```"
      ],
      "text/plain": [
       "class NodeActionData:\n",
       "  id: str = 4e4dc5dcde46450cabe47b7a912a361a\n",
       "  action: str = syft.service.action.action_object.Action\n",
       "  status: str = ActionStatus.PROCESSING\n",
       "  retry: str = 0\n",
       "  created_at: str = 2023-04-21 19:42:57\n",
       "  updated_at: str = None\n",
       "  user_verify_key: str = 4f46f70b243bacac4877c832a05fcce60bf67038ed2ef613a186fe7e6209231f"
      ]
     },
     "execution_count": 18,
     "metadata": {},
     "output_type": "execute_result"
    }
   ],
   "source": [
    "action_graph_service.add_action(context=authed_context, action=action_res_2)"
   ]
  },
  {
   "cell_type": "code",
   "execution_count": 19,
   "id": "832e5e10",
   "metadata": {},
   "outputs": [
    {
     "data": {
      "image/png": "[encoded data removed]",
      "text/plain": [
       "<Figure size 640x480 with 1 Axes>"
      ]
     },
     "metadata": {},
     "output_type": "display_data"
    }
   ],
   "source": [
    "action_graph_service.store.graph.visualize()"
   ]
  },
  {
   "cell_type": "code",
   "execution_count": 20,
   "id": "2afe4130",
   "metadata": {},
   "outputs": [
    {
     "data": {
      "text/html": [
       "List - Size: 4\n",
       "<div>\n",
       "<style scoped>\n",
       "    .dataframe tbody tr th:only-of-type {\n",
       "        vertical-align: middle;\n",
       "    }\n",
       "\n",
       "    .dataframe tbody tr th {\n",
       "        vertical-align: top;\n",
       "    }\n",
       "\n",
       "    .dataframe thead th {\n",
       "        text-align: right;\n",
       "    }\n",
       "</style>\n",
       "<table border=\"1\" class=\"dataframe\">\n",
       "  <thead>\n",
       "    <tr style=\"text-align: right;\">\n",
       "      <th></th>\n",
       "      <th>type</th>\n",
       "      <th>id</th>\n",
       "    </tr>\n",
       "  </thead>\n",
       "  <tbody>\n",
       "    <tr>\n",
       "      <th>0</th>\n",
       "      <td>&lt;UID: 369946b061ce42a3807506015b906d4d&gt;</td>\n",
       "      <td>None</td>\n",
       "    </tr>\n",
       "    <tr>\n",
       "      <th>1</th>\n",
       "      <td>&lt;UID: ba37cdcec0d7407f8d423ea671c7607c&gt;</td>\n",
       "      <td>None</td>\n",
       "    </tr>\n",
       "    <tr>\n",
       "      <th>2</th>\n",
       "      <td>&lt;UID: eb6d8c1e8f7f4dd4850bfe85d819ac11&gt;</td>\n",
       "      <td>None</td>\n",
       "    </tr>\n",
       "    <tr>\n",
       "      <th>3</th>\n",
       "      <td>&lt;UID: 4e4dc5dcde46450cabe47b7a912a361a&gt;</td>\n",
       "      <td>None</td>\n",
       "    </tr>\n",
       "  </tbody>\n",
       "</table>\n",
       "</div>"
      ],
      "text/plain": [
       "[<UID: 369946b061ce42a3807506015b906d4d>,\n",
       " <UID: ba37cdcec0d7407f8d423ea671c7607c>,\n",
       " <UID: eb6d8c1e8f7f4dd4850bfe85d819ac11>,\n",
       " <UID: 4e4dc5dcde46450cabe47b7a912a361a>]"
      ]
     },
     "execution_count": 20,
     "metadata": {},
     "output_type": "execute_result"
    }
   ],
   "source": [
    "action_graph_service.get_by_action_status(context=authed_context, status=ActionStatus.PROCESSING)"
   ]
  },
  {
   "cell_type": "code",
   "execution_count": 21,
   "id": "f18cd268",
   "metadata": {},
   "outputs": [
    {
     "data": {
      "text/html": [
       "List - Size: 4\n",
       "<div>\n",
       "<style scoped>\n",
       "    .dataframe tbody tr th:only-of-type {\n",
       "        vertical-align: middle;\n",
       "    }\n",
       "\n",
       "    .dataframe tbody tr th {\n",
       "        vertical-align: top;\n",
       "    }\n",
       "\n",
       "    .dataframe thead th {\n",
       "        text-align: right;\n",
       "    }\n",
       "</style>\n",
       "<table border=\"1\" class=\"dataframe\">\n",
       "  <thead>\n",
       "    <tr style=\"text-align: right;\">\n",
       "      <th></th>\n",
       "      <th>type</th>\n",
       "      <th>id</th>\n",
       "    </tr>\n",
       "  </thead>\n",
       "  <tbody>\n",
       "    <tr>\n",
       "      <th>0</th>\n",
       "      <td>&lt;UID: 369946b061ce42a3807506015b906d4d&gt;</td>\n",
       "      <td>None</td>\n",
       "    </tr>\n",
       "    <tr>\n",
       "      <th>1</th>\n",
       "      <td>&lt;UID: ba37cdcec0d7407f8d423ea671c7607c&gt;</td>\n",
       "      <td>None</td>\n",
       "    </tr>\n",
       "    <tr>\n",
       "      <th>2</th>\n",
       "      <td>&lt;UID: eb6d8c1e8f7f4dd4850bfe85d819ac11&gt;</td>\n",
       "      <td>None</td>\n",
       "    </tr>\n",
       "    <tr>\n",
       "      <th>3</th>\n",
       "      <td>&lt;UID: 4e4dc5dcde46450cabe47b7a912a361a&gt;</td>\n",
       "      <td>None</td>\n",
       "    </tr>\n",
       "  </tbody>\n",
       "</table>\n",
       "</div>"
      ],
      "text/plain": [
       "[<UID: 369946b061ce42a3807506015b906d4d>,\n",
       " <UID: ba37cdcec0d7407f8d423ea671c7607c>,\n",
       " <UID: eb6d8c1e8f7f4dd4850bfe85d819ac11>,\n",
       " <UID: 4e4dc5dcde46450cabe47b7a912a361a>]"
      ]
     },
     "execution_count": 21,
     "metadata": {},
     "output_type": "execute_result"
    }
   ],
   "source": [
    "action_graph_service.get_by_verify_key(context=authed_context, verify_key=signing_key.verify_key)"
   ]
  },
  {
   "cell_type": "code",
   "execution_count": null,
   "id": "c384ebf6",
   "metadata": {},
   "outputs": [],
   "source": []
  }
 ],
 "metadata": {
  "kernelspec": {
   "display_name": "Python 3 (ipykernel)",
   "language": "python",
   "name": "python3"
  },
  "language_info": {
   "codemirror_mode": {
    "name": "ipython",
    "version": 3
   },
   "file_extension": ".py",
   "mimetype": "text/x-python",
   "name": "python",
   "nbconvert_exporter": "python",
   "pygments_lexer": "ipython3",
   "version": "3.10.8"
  }
 },
 "nbformat": 4,
 "nbformat_minor": 5
}
