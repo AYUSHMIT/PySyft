{
 "cells": [
  {
   "cell_type": "code",
   "execution_count": 1,
   "id": "8971e920",
   "metadata": {},
   "outputs": [
    {
     "name": "stderr",
     "output_type": "stream",
     "text": [
      "kj/filesystem-disk-unix.c++:1703: warning: PWD environment variable doesn't match current directory; pwd = /home/dk/Desktop/projects/PySyft\n"
     ]
    },
    {
     "name": "stdout",
     "output_type": "stream",
     "text": [
      "0.8.0-beta.9\n"
     ]
    }
   ],
   "source": [
    "import networkx as nx\n",
    "import syft as sy\n",
    "import numpy as np\n",
    "import matplotlib.pyplot as plt\n",
    "import pprint\n",
    "\n",
    "from syft.service.action.action_graph_service import ActionGraphService\n",
    "from syft.service.action.action_graph import InMemoryActionGraphStore, InMemoryGraphConfig, InMemoryStoreClientConfig\n",
    "from syft.service.context import AuthedServiceContext\n",
    "from syft.node.credentials import SyftSigningKey\n",
    "from syft.service.action.action_graph import Action, NodeActionData, NodeActionDataUpdate\n",
    "from syft.service.action.action_graph import ActionStatus\n",
    "from syft.service.action.numpy import NumpyArrayObject, ActionObject\n",
    "from syft.service.action.action_graph import NetworkXBackingStore\n",
    "\n",
    "print(sy.__version__)"
   ]
  },
  {
   "cell_type": "markdown",
   "id": "8a60d828",
   "metadata": {},
   "source": [
    "### Initialize the action graph service with verify key"
   ]
  },
  {
   "cell_type": "code",
   "execution_count": 2,
   "id": "54da6d10",
   "metadata": {},
   "outputs": [],
   "source": [
    "store_config = InMemoryGraphConfig()\n",
    "graph_store = InMemoryActionGraphStore(store_config=store_config)\n",
    "action_graph_service = ActionGraphService(store=graph_store)"
   ]
  },
  {
   "cell_type": "code",
   "execution_count": 3,
   "id": "a84dd6ed",
   "metadata": {},
   "outputs": [],
   "source": [
    "signing_key = SyftSigningKey.generate()\n",
    "verify_key = signing_key.verify_key\n",
    "authed_context = AuthedServiceContext(credentials=verify_key)"
   ]
  },
  {
   "cell_type": "markdown",
   "id": "78317008",
   "metadata": {},
   "source": [
    "### Create some dummy data"
   ]
  },
  {
   "cell_type": "code",
   "execution_count": 4,
   "id": "da778053",
   "metadata": {},
   "outputs": [],
   "source": [
    "action_obj_a = ActionObject.from_obj([2, 4, 6])\n",
    "action_obj_b = ActionObject.from_obj([2, 3, 4])"
   ]
  },
  {
   "cell_type": "markdown",
   "id": "80cdb199",
   "metadata": {},
   "source": [
    "### Create the action graph\n",
    "\n",
    "```\n",
    "action1 -> a + b = c\n",
    "\n",
    "action2 -> initialization of variable `d`\n",
    "\n",
    "action3 -> c * d\n",
    "\n",
    "action4 -> inplace updation of type of `d` (d.astype('int32'))\n",
    "\n",
    "action5 -> d + 48\n",
    "```"
   ]
  },
  {
   "cell_type": "markdown",
   "id": "61bd40f8",
   "metadata": {},
   "source": [
    "#### action1 -> a + b = c"
   ]
  },
  {
   "cell_type": "code",
   "execution_count": 5,
   "id": "5f2e460b",
   "metadata": {},
   "outputs": [
    {
     "data": {
      "text/markdown": [
       "```python\n",
       "class NodeActionData:\n",
       "  id: str = 1c4ab86074614b7e83c409657101ab5b\n",
       "  action: str = syft.service.action.action_object.Action\n",
       "  status: str = ActionStatus.PROCESSING\n",
       "  retry: str = 0\n",
       "  created_at: str = 2023-04-27 01:53:51\n",
       "  updated_at: str = 2023-04-27 01:53:51\n",
       "  user_verify_key: str = 9ce83d77adfc100f7e37c5107959d82b5439ec239939e248cdf9573a901befe4\n",
       "  is_mutated: str = False\n",
       "\n",
       "```"
      ],
      "text/plain": [
       "class NodeActionData:\n",
       "  id: str = 1c4ab86074614b7e83c409657101ab5b\n",
       "  action: str = syft.service.action.action_object.Action\n",
       "  status: str = ActionStatus.PROCESSING\n",
       "  retry: str = 0\n",
       "  created_at: str = 2023-04-27 01:53:51\n",
       "  updated_at: str = 2023-04-27 01:53:51\n",
       "  user_verify_key: str = 9ce83d77adfc100f7e37c5107959d82b5439ec239939e248cdf9573a901befe4\n",
       "  is_mutated: str = False"
      ]
     },
     "execution_count": 5,
     "metadata": {},
     "output_type": "execute_result"
    }
   ],
   "source": [
    "action1 = Action(\n",
    "    path=\"action.execute\",\n",
    "    op=\"__add__\",\n",
    "    remote_self=action_obj_a.syft_lineage_id,\n",
    "    args=[action_obj_b.syft_lineage_id],\n",
    "    kwargs={}\n",
    ")\n",
    "action_graph_service.add_action(context=authed_context, action=action1)"
   ]
  },
  {
   "cell_type": "markdown",
   "id": "a9c51563",
   "metadata": {},
   "source": [
    "#### action2 -> initialization of variable `d`"
   ]
  },
  {
   "cell_type": "code",
   "execution_count": 6,
   "id": "2e808dee",
   "metadata": {},
   "outputs": [
    {
     "data": {
      "text/markdown": [
       "```python\n",
       "class NodeActionData:\n",
       "  id: str = 9a20cfaabe044de1a6953715125b1005\n",
       "  action: str = syft.service.action.action_object.Action\n",
       "  status: str = ActionStatus.PROCESSING\n",
       "  retry: str = 0\n",
       "  created_at: str = 2023-04-27 01:53:51\n",
       "  updated_at: str = 2023-04-27 01:53:51\n",
       "  user_verify_key: str = 9ce83d77adfc100f7e37c5107959d82b5439ec239939e248cdf9573a901befe4\n",
       "  is_mutated: str = False\n",
       "\n",
       "```"
      ],
      "text/plain": [
       "class NodeActionData:\n",
       "  id: str = 9a20cfaabe044de1a6953715125b1005\n",
       "  action: str = syft.service.action.action_object.Action\n",
       "  status: str = ActionStatus.PROCESSING\n",
       "  retry: str = 0\n",
       "  created_at: str = 2023-04-27 01:53:51\n",
       "  updated_at: str = 2023-04-27 01:53:51\n",
       "  user_verify_key: str = 9ce83d77adfc100f7e37c5107959d82b5439ec239939e248cdf9573a901befe4\n",
       "  is_mutated: str = False"
      ]
     },
     "execution_count": 6,
     "metadata": {},
     "output_type": "execute_result"
    }
   ],
   "source": [
    "action_obj_d = ActionObject.from_obj([1, 2, 3])\n",
    "action2 = Action(\n",
    "    path=\"action.execute\",\n",
    "    op=\"np.array\",\n",
    "    remote_self=None,\n",
    "    args=[action_obj_d.syft_lineage_id],\n",
    "    kwargs={}\n",
    ")\n",
    "action_graph_service.add_action(context=authed_context, action=action2)"
   ]
  },
  {
   "cell_type": "code",
   "execution_count": 7,
   "id": "066c4f4f",
   "metadata": {},
   "outputs": [],
   "source": [
    "node_action_data_2: NodeActionData = graph_store.get(\n",
    "    uid=action2.id, credentials=verify_key\n",
    ").ok()"
   ]
  },
  {
   "cell_type": "code",
   "execution_count": 8,
   "id": "45ffed14",
   "metadata": {},
   "outputs": [
    {
     "data": {
      "text/markdown": [
       "```python\n",
       "class NodeActionData:\n",
       "  id: str = 9a20cfaabe044de1a6953715125b1005\n",
       "  action: str = syft.service.action.action_object.Action\n",
       "  status: str = ActionStatus.PROCESSING\n",
       "  retry: str = 0\n",
       "  created_at: str = 2023-04-27 01:53:51\n",
       "  updated_at: str = 2023-04-27 01:53:51\n",
       "  user_verify_key: str = 9ce83d77adfc100f7e37c5107959d82b5439ec239939e248cdf9573a901befe4\n",
       "  is_mutated: str = False\n",
       "\n",
       "```"
      ],
      "text/plain": [
       "class NodeActionData:\n",
       "  id: str = 9a20cfaabe044de1a6953715125b1005\n",
       "  action: str = syft.service.action.action_object.Action\n",
       "  status: str = ActionStatus.PROCESSING\n",
       "  retry: str = 0\n",
       "  created_at: str = 2023-04-27 01:53:51\n",
       "  updated_at: str = 2023-04-27 01:53:51\n",
       "  user_verify_key: str = 9ce83d77adfc100f7e37c5107959d82b5439ec239939e248cdf9573a901befe4\n",
       "  is_mutated: str = False"
      ]
     },
     "execution_count": 8,
     "metadata": {},
     "output_type": "execute_result"
    }
   ],
   "source": [
    "node_action_data_2"
   ]
  },
  {
   "cell_type": "markdown",
   "id": "dcadae01",
   "metadata": {},
   "source": [
    "#### action3 -> c * d"
   ]
  },
  {
   "cell_type": "code",
   "execution_count": 9,
   "id": "3794512a",
   "metadata": {},
   "outputs": [
    {
     "data": {
      "text/markdown": [
       "```python\n",
       "class NodeActionData:\n",
       "  id: str = d804998df38141ebbacc2077c412a665\n",
       "  action: str = syft.service.action.action_object.Action\n",
       "  status: str = ActionStatus.PROCESSING\n",
       "  retry: str = 0\n",
       "  created_at: str = 2023-04-27 01:53:51\n",
       "  updated_at: str = 2023-04-27 01:53:51\n",
       "  user_verify_key: str = 9ce83d77adfc100f7e37c5107959d82b5439ec239939e248cdf9573a901befe4\n",
       "  is_mutated: str = False\n",
       "\n",
       "```"
      ],
      "text/plain": [
       "class NodeActionData:\n",
       "  id: str = d804998df38141ebbacc2077c412a665\n",
       "  action: str = syft.service.action.action_object.Action\n",
       "  status: str = ActionStatus.PROCESSING\n",
       "  retry: str = 0\n",
       "  created_at: str = 2023-04-27 01:53:51\n",
       "  updated_at: str = 2023-04-27 01:53:51\n",
       "  user_verify_key: str = 9ce83d77adfc100f7e37c5107959d82b5439ec239939e248cdf9573a901befe4\n",
       "  is_mutated: str = False"
      ]
     },
     "execution_count": 9,
     "metadata": {},
     "output_type": "execute_result"
    }
   ],
   "source": [
    "action3 = Action(\n",
    "    path=\"action.execute\",\n",
    "    op=\"__mul__\",\n",
    "    remote_self=action1.result_id,\n",
    "    args=[action2.result_id],\n",
    "    kwargs={}\n",
    ")\n",
    "action_graph_service.add_action(context=authed_context, action=action3)"
   ]
  },
  {
   "cell_type": "markdown",
   "id": "1161888a",
   "metadata": {},
   "source": [
    "#### action4 -> d.astype('int32')"
   ]
  },
  {
   "cell_type": "code",
   "execution_count": 10,
   "id": "907fbb99",
   "metadata": {},
   "outputs": [
    {
     "data": {
      "text/plain": [
       "'np.int32'"
      ]
     },
     "execution_count": 10,
     "metadata": {},
     "output_type": "execute_result"
    }
   ],
   "source": [
    "as_type_action_obj = ActionObject.from_obj('np.int32')\n",
    "as_type_action_obj"
   ]
  },
  {
   "cell_type": "code",
   "execution_count": 11,
   "id": "5bfd7fec",
   "metadata": {},
   "outputs": [
    {
     "data": {
      "text/markdown": [
       "```python\n",
       "class Action:\n",
       "  id: str = 0db8bfb5210a4c179f50820177854d63\n",
       "  path: str = \"action.execute\"\n",
       "  op: str = \"astype\"\n",
       "  remote_self: str = 8764b2e19c9545d1bd3889a462a4fa80\n",
       "  args: str = [<LineageID: 194f4bfebc9b446ea3305f6a67fee617 - 984809888860932498>]\n",
       "  kwargs: str = {}\n",
       "  result_id: str = 8764b2e19c9545d1bd3889a462a4fa80\n",
       "\n",
       "```"
      ],
      "text/plain": [
       "syft.service.action.action_object.Action"
      ]
     },
     "execution_count": 11,
     "metadata": {},
     "output_type": "execute_result"
    }
   ],
   "source": [
    "action4 = Action(\n",
    "    path=\"action.execute\",\n",
    "    op=\"astype\",\n",
    "    remote_self=action2.result_id,  # pay attention here\n",
    "    args=[as_type_action_obj.syft_lineage_id],  # pay attention here\n",
    "    kwargs={},\n",
    "    result_id=action2.result_id  # pay attention here\n",
    ")\n",
    "action4"
   ]
  },
  {
   "cell_type": "code",
   "execution_count": 12,
   "id": "cf1b8bb7",
   "metadata": {
    "scrolled": true
   },
   "outputs": [
    {
     "data": {
      "text/markdown": [
       "```python\n",
       "class NodeActionData:\n",
       "  id: str = 0db8bfb5210a4c179f50820177854d63\n",
       "  action: str = syft.service.action.action_object.Action\n",
       "  status: str = ActionStatus.PROCESSING\n",
       "  retry: str = 0\n",
       "  created_at: str = 2023-04-27 01:53:51\n",
       "  updated_at: str = 2023-04-27 01:53:51\n",
       "  user_verify_key: str = 9ce83d77adfc100f7e37c5107959d82b5439ec239939e248cdf9573a901befe4\n",
       "  is_mutated: str = False\n",
       "\n",
       "```"
      ],
      "text/plain": [
       "class NodeActionData:\n",
       "  id: str = 0db8bfb5210a4c179f50820177854d63\n",
       "  action: str = syft.service.action.action_object.Action\n",
       "  status: str = ActionStatus.PROCESSING\n",
       "  retry: str = 0\n",
       "  created_at: str = 2023-04-27 01:53:51\n",
       "  updated_at: str = 2023-04-27 01:53:51\n",
       "  user_verify_key: str = 9ce83d77adfc100f7e37c5107959d82b5439ec239939e248cdf9573a901befe4\n",
       "  is_mutated: str = False"
      ]
     },
     "execution_count": 12,
     "metadata": {},
     "output_type": "execute_result"
    }
   ],
   "source": [
    "action_graph_service.add_action(context=authed_context, action=action4)"
   ]
  },
  {
   "cell_type": "code",
   "execution_count": 13,
   "id": "48d7af27",
   "metadata": {},
   "outputs": [
    {
     "data": {
      "text/plain": [
       "True"
      ]
     },
     "execution_count": 13,
     "metadata": {},
     "output_type": "execute_result"
    }
   ],
   "source": [
    "node_action_data_2: NodeActionData = graph_store.get(\n",
    "    uid=action2.id, credentials=verify_key\n",
    ").ok()\n",
    "node_action_data_2.is_mutated == True"
   ]
  },
  {
   "cell_type": "markdown",
   "id": "e7ebaece",
   "metadata": {},
   "source": [
    "#### action5 -> d + 48"
   ]
  },
  {
   "cell_type": "code",
   "execution_count": 14,
   "id": "d778b733",
   "metadata": {},
   "outputs": [
    {
     "data": {
      "text/markdown": [
       "```python\n",
       "class NodeActionData:\n",
       "  id: str = 56fc19b9219b4a1090f4bf59572f68a1\n",
       "  action: str = syft.service.action.action_object.Action\n",
       "  status: str = ActionStatus.PROCESSING\n",
       "  retry: str = 0\n",
       "  created_at: str = 2023-04-27 01:53:51\n",
       "  updated_at: str = 2023-04-27 01:53:51\n",
       "  user_verify_key: str = 9ce83d77adfc100f7e37c5107959d82b5439ec239939e248cdf9573a901befe4\n",
       "  is_mutated: str = False\n",
       "\n",
       "```"
      ],
      "text/plain": [
       "class NodeActionData:\n",
       "  id: str = 56fc19b9219b4a1090f4bf59572f68a1\n",
       "  action: str = syft.service.action.action_object.Action\n",
       "  status: str = ActionStatus.PROCESSING\n",
       "  retry: str = 0\n",
       "  created_at: str = 2023-04-27 01:53:51\n",
       "  updated_at: str = 2023-04-27 01:53:51\n",
       "  user_verify_key: str = 9ce83d77adfc100f7e37c5107959d82b5439ec239939e248cdf9573a901befe4\n",
       "  is_mutated: str = False"
      ]
     },
     "execution_count": 14,
     "metadata": {},
     "output_type": "execute_result"
    }
   ],
   "source": [
    "arg_action_obj = ActionObject.from_obj(48)\n",
    "action5 = Action(\n",
    "    path=\"action.execute\",\n",
    "    op=\"__add__\",\n",
    "    remote_self=action4.result_id,\n",
    "    args=[arg_action_obj.syft_lineage_id],\n",
    "    kwargs={},\n",
    ")\n",
    "action_graph_service.add_action(context=authed_context, action=action5)"
   ]
  },
  {
   "cell_type": "code",
   "execution_count": 15,
   "id": "10094334",
   "metadata": {},
   "outputs": [
    {
     "data": {
      "image/png": "[encoded data removed]",
      "text/plain": [
       "<Figure size 640x480 with 1 Axes>"
      ]
     },
     "metadata": {},
     "output_type": "display_data"
    }
   ],
   "source": [
    "action_graph_service.store.graph.visualize()"
   ]
  },
  {
   "cell_type": "code",
   "execution_count": 16,
   "id": "3de1881a",
   "metadata": {},
   "outputs": [
    {
     "name": "stdout",
     "output_type": "stream",
     "text": [
      "action1.id = <UID: 1c4ab86074614b7e83c409657101ab5b>\n",
      "action2.id = <UID: 9a20cfaabe044de1a6953715125b1005>\n",
      "action3.id = <UID: d804998df38141ebbacc2077c412a665>\n",
      "action4.id = <UID: 0db8bfb5210a4c179f50820177854d63>\n",
      "action5.id = <UID: 56fc19b9219b4a1090f4bf59572f68a1>\n"
     ]
    }
   ],
   "source": [
    "print(f\"{action1.id = }\")\n",
    "print(f\"{action2.id = }\")\n",
    "print(f\"{action3.id = }\")\n",
    "print(f\"{action4.id = }\")\n",
    "print(f\"{action5.id = }\")"
   ]
  },
  {
   "cell_type": "markdown",
   "id": "5a07507e",
   "metadata": {},
   "source": [
    "## Mutation"
   ]
  },
  {
   "cell_type": "code",
   "execution_count": 17,
   "id": "0b07c167",
   "metadata": {},
   "outputs": [],
   "source": [
    "store_config = InMemoryGraphConfig()\n",
    "graph_store = InMemoryActionGraphStore(store_config=store_config)\n",
    "action_graph_service = ActionGraphService(store=graph_store)"
   ]
  },
  {
   "cell_type": "code",
   "execution_count": 18,
   "id": "c8bd9232",
   "metadata": {},
   "outputs": [],
   "source": [
    "signing_key = SyftSigningKey.generate()\n",
    "verify_key = signing_key.verify_key\n",
    "authed_context = AuthedServiceContext(credentials=verify_key)"
   ]
  },
  {
   "cell_type": "markdown",
   "id": "043182c3",
   "metadata": {},
   "source": [
    "#### action1 -> initialization of variable `a`"
   ]
  },
  {
   "cell_type": "code",
   "execution_count": 19,
   "id": "b8b5b88b",
   "metadata": {},
   "outputs": [
    {
     "data": {
      "text/markdown": [
       "```python\n",
       "class NodeActionData:\n",
       "  id: str = 19f23bb2267f4957bc9125d17a63293d\n",
       "  action: str = syft.service.action.action_object.Action\n",
       "  status: str = ActionStatus.PROCESSING\n",
       "  retry: str = 0\n",
       "  created_at: str = 2023-04-27 01:53:51\n",
       "  updated_at: str = 2023-04-27 01:53:51\n",
       "  user_verify_key: str = 6dd7acf244f7ccaafa1f2aff7aaa06e7126c56df73b1b1fe54a7e3872c67a4b8\n",
       "  is_mutated: str = False\n",
       "\n",
       "```"
      ],
      "text/plain": [
       "class NodeActionData:\n",
       "  id: str = 19f23bb2267f4957bc9125d17a63293d\n",
       "  action: str = syft.service.action.action_object.Action\n",
       "  status: str = ActionStatus.PROCESSING\n",
       "  retry: str = 0\n",
       "  created_at: str = 2023-04-27 01:53:51\n",
       "  updated_at: str = 2023-04-27 01:53:51\n",
       "  user_verify_key: str = 6dd7acf244f7ccaafa1f2aff7aaa06e7126c56df73b1b1fe54a7e3872c67a4b8\n",
       "  is_mutated: str = False"
      ]
     },
     "execution_count": 19,
     "metadata": {},
     "output_type": "execute_result"
    }
   ],
   "source": [
    "action_obj_a = ActionObject.from_obj([1, 2, 3])\n",
    "action1 = Action(\n",
    "    path=\"action.execute\",\n",
    "    op=\"np.array\",\n",
    "    remote_self=None,\n",
    "    args=[action_obj_a.syft_lineage_id],\n",
    "    kwargs={}\n",
    ")\n",
    "action_graph_service.add_action(context=authed_context, action=action1)"
   ]
  },
  {
   "cell_type": "markdown",
   "id": "08382c20",
   "metadata": {},
   "source": [
    "#### action2 -> a.astype('int32') = b: mutation"
   ]
  },
  {
   "cell_type": "code",
   "execution_count": 20,
   "id": "f317b5ad",
   "metadata": {},
   "outputs": [
    {
     "data": {
      "text/markdown": [
       "```python\n",
       "class NodeActionData:\n",
       "  id: str = 42b3ab30edc04fa786a1ca75de147d63\n",
       "  action: str = syft.service.action.action_object.Action\n",
       "  status: str = ActionStatus.PROCESSING\n",
       "  retry: str = 0\n",
       "  created_at: str = 2023-04-27 01:53:51\n",
       "  updated_at: str = 2023-04-27 01:53:51\n",
       "  user_verify_key: str = 6dd7acf244f7ccaafa1f2aff7aaa06e7126c56df73b1b1fe54a7e3872c67a4b8\n",
       "  is_mutated: str = False\n",
       "\n",
       "```"
      ],
      "text/plain": [
       "class NodeActionData:\n",
       "  id: str = 42b3ab30edc04fa786a1ca75de147d63\n",
       "  action: str = syft.service.action.action_object.Action\n",
       "  status: str = ActionStatus.PROCESSING\n",
       "  retry: str = 0\n",
       "  created_at: str = 2023-04-27 01:53:51\n",
       "  updated_at: str = 2023-04-27 01:53:51\n",
       "  user_verify_key: str = 6dd7acf244f7ccaafa1f2aff7aaa06e7126c56df73b1b1fe54a7e3872c67a4b8\n",
       "  is_mutated: str = False"
      ]
     },
     "execution_count": 20,
     "metadata": {},
     "output_type": "execute_result"
    }
   ],
   "source": [
    "as_type_action_obj = ActionObject.from_obj('np.int32')\n",
    "action2 = Action(\n",
    "    path=\"action.execute\",\n",
    "    op=\"astype\",\n",
    "    remote_self=action1.result_id,\n",
    "    args=[as_type_action_obj.syft_lineage_id],\n",
    "    kwargs={},\n",
    "    result_id=action1.result_id  # pay attention here\n",
    ")\n",
    "action_graph_service.add_action(context=authed_context, action=action2)"
   ]
  },
  {
   "cell_type": "markdown",
   "id": "0269e01a",
   "metadata": {},
   "source": [
    "#### action3 -> b.astype('float64') = c: mutation"
   ]
  },
  {
   "cell_type": "code",
   "execution_count": 21,
   "id": "c9d99e95",
   "metadata": {},
   "outputs": [
    {
     "data": {
      "text/markdown": [
       "```python\n",
       "class NodeActionData:\n",
       "  id: str = afba15c77e1d4219b51a56224fc1b5f7\n",
       "  action: str = syft.service.action.action_object.Action\n",
       "  status: str = ActionStatus.PROCESSING\n",
       "  retry: str = 0\n",
       "  created_at: str = 2023-04-27 01:53:51\n",
       "  updated_at: str = 2023-04-27 01:53:51\n",
       "  user_verify_key: str = 6dd7acf244f7ccaafa1f2aff7aaa06e7126c56df73b1b1fe54a7e3872c67a4b8\n",
       "  is_mutated: str = False\n",
       "\n",
       "```"
      ],
      "text/plain": [
       "class NodeActionData:\n",
       "  id: str = afba15c77e1d4219b51a56224fc1b5f7\n",
       "  action: str = syft.service.action.action_object.Action\n",
       "  status: str = ActionStatus.PROCESSING\n",
       "  retry: str = 0\n",
       "  created_at: str = 2023-04-27 01:53:51\n",
       "  updated_at: str = 2023-04-27 01:53:51\n",
       "  user_verify_key: str = 6dd7acf244f7ccaafa1f2aff7aaa06e7126c56df73b1b1fe54a7e3872c67a4b8\n",
       "  is_mutated: str = False"
      ]
     },
     "execution_count": 21,
     "metadata": {},
     "output_type": "execute_result"
    }
   ],
   "source": [
    "as_type_action_obj = ActionObject.from_obj('np.float64')\n",
    "action3 = Action(\n",
    "    path=\"action.execute\",\n",
    "    op=\"astype\",\n",
    "    remote_self=action2.result_id,\n",
    "    args=[as_type_action_obj.syft_lineage_id],\n",
    "    kwargs={},\n",
    "    result_id=action2.result_id\n",
    ")\n",
    "action_graph_service.add_action(context=authed_context, action=action3)"
   ]
  },
  {
   "cell_type": "markdown",
   "id": "f0a6f1ef",
   "metadata": {},
   "source": [
    "#### action4 -> a.astype('complex128') = d: mutation"
   ]
  },
  {
   "cell_type": "code",
   "execution_count": 22,
   "id": "b55c9731",
   "metadata": {},
   "outputs": [
    {
     "data": {
      "text/markdown": [
       "```python\n",
       "class NodeActionData:\n",
       "  id: str = b6d4dbc388834ad59f783249116bca8d\n",
       "  action: str = syft.service.action.action_object.Action\n",
       "  status: str = ActionStatus.PROCESSING\n",
       "  retry: str = 0\n",
       "  created_at: str = 2023-04-27 01:53:51\n",
       "  updated_at: str = 2023-04-27 01:53:51\n",
       "  user_verify_key: str = 6dd7acf244f7ccaafa1f2aff7aaa06e7126c56df73b1b1fe54a7e3872c67a4b8\n",
       "  is_mutated: str = False\n",
       "\n",
       "```"
      ],
      "text/plain": [
       "class NodeActionData:\n",
       "  id: str = b6d4dbc388834ad59f783249116bca8d\n",
       "  action: str = syft.service.action.action_object.Action\n",
       "  status: str = ActionStatus.PROCESSING\n",
       "  retry: str = 0\n",
       "  created_at: str = 2023-04-27 01:53:51\n",
       "  updated_at: str = 2023-04-27 01:53:51\n",
       "  user_verify_key: str = 6dd7acf244f7ccaafa1f2aff7aaa06e7126c56df73b1b1fe54a7e3872c67a4b8\n",
       "  is_mutated: str = False"
      ]
     },
     "execution_count": 22,
     "metadata": {},
     "output_type": "execute_result"
    }
   ],
   "source": [
    "as_type_action_obj = ActionObject.from_obj('np.complex128')\n",
    "action4 = Action(\n",
    "    path=\"action.execute\",\n",
    "    op=\"astype\",\n",
    "    remote_self=action1.result_id,\n",
    "    args=[as_type_action_obj.syft_lineage_id],\n",
    "    kwargs={},\n",
    "    result_id=action1.result_id\n",
    ")\n",
    "action_graph_service.add_action(context=authed_context, action=action4)"
   ]
  },
  {
   "cell_type": "code",
   "execution_count": 23,
   "id": "64331565",
   "metadata": {},
   "outputs": [
    {
     "data": {
      "image/png": "[encoded data removed]",
      "text/plain": [
       "<Figure size 640x480 with 1 Axes>"
      ]
     },
     "metadata": {},
     "output_type": "display_data"
    }
   ],
   "source": [
    "action_graph_service.store.graph.visualize()"
   ]
  },
  {
   "cell_type": "code",
   "execution_count": 24,
   "id": "d6deae4e",
   "metadata": {},
   "outputs": [
    {
     "name": "stdout",
     "output_type": "stream",
     "text": [
      "action1.id = <UID: 19f23bb2267f4957bc9125d17a63293d>\n",
      "action2.id = <UID: 42b3ab30edc04fa786a1ca75de147d63>\n",
      "action3.id = <UID: afba15c77e1d4219b51a56224fc1b5f7>\n",
      "action4.id = <UID: b6d4dbc388834ad59f783249116bca8d>\n"
     ]
    }
   ],
   "source": [
    "print(f\"{action1.id = }\")\n",
    "print(f\"{action2.id = }\")\n",
    "print(f\"{action3.id = }\")\n",
    "print(f\"{action4.id = }\")"
   ]
  },
  {
   "cell_type": "code",
   "execution_count": 25,
   "id": "57b4b21b",
   "metadata": {},
   "outputs": [],
   "source": [
    "node_action_data_1 = graph_store.get(uid=action1.id, credentials=verify_key).ok()\n",
    "node_action_data_2 = graph_store.get(uid=action2.id, credentials=verify_key)\n",
    "node_action_data_3 = graph_store.get(uid=action3.id, credentials=verify_key)\n",
    "node_action_data_4 = graph_store.get(uid=action4.id, credentials=verify_key)"
   ]
  },
  {
   "cell_type": "code",
   "execution_count": 26,
   "id": "dc12f435",
   "metadata": {},
   "outputs": [
    {
     "data": {
      "text/markdown": [
       "```python\n",
       "class NodeActionData:\n",
       "  id: str = 19f23bb2267f4957bc9125d17a63293d\n",
       "  action: str = syft.service.action.action_object.Action\n",
       "  status: str = ActionStatus.PROCESSING\n",
       "  retry: str = 0\n",
       "  created_at: str = 2023-04-27 01:53:51\n",
       "  updated_at: str = 2023-04-27 01:53:51\n",
       "  user_verify_key: str = 6dd7acf244f7ccaafa1f2aff7aaa06e7126c56df73b1b1fe54a7e3872c67a4b8\n",
       "  is_mutated: str = True\n",
       "\n",
       "```"
      ],
      "text/plain": [
       "class NodeActionData:\n",
       "  id: str = 19f23bb2267f4957bc9125d17a63293d\n",
       "  action: str = syft.service.action.action_object.Action\n",
       "  status: str = ActionStatus.PROCESSING\n",
       "  retry: str = 0\n",
       "  created_at: str = 2023-04-27 01:53:51\n",
       "  updated_at: str = 2023-04-27 01:53:51\n",
       "  user_verify_key: str = 6dd7acf244f7ccaafa1f2aff7aaa06e7126c56df73b1b1fe54a7e3872c67a4b8\n",
       "  is_mutated: str = True"
      ]
     },
     "execution_count": 26,
     "metadata": {},
     "output_type": "execute_result"
    }
   ],
   "source": [
    "node_action_data_1"
   ]
  },
  {
   "cell_type": "code",
   "execution_count": 27,
   "id": "63c986e9",
   "metadata": {},
   "outputs": [
    {
     "data": {
      "text/html": [
       "List - Size: 1\n",
       "<div>\n",
       "<style scoped>\n",
       "    .dataframe tbody tr th:only-of-type {\n",
       "        vertical-align: middle;\n",
       "    }\n",
       "\n",
       "    .dataframe tbody tr th {\n",
       "        vertical-align: top;\n",
       "    }\n",
       "\n",
       "    .dataframe thead th {\n",
       "        text-align: right;\n",
       "    }\n",
       "</style>\n",
       "<table border=\"1\" class=\"dataframe\">\n",
       "  <thead>\n",
       "    <tr style=\"text-align: right;\">\n",
       "      <th></th>\n",
       "      <th>type</th>\n",
       "      <th>id</th>\n",
       "    </tr>\n",
       "  </thead>\n",
       "  <tbody>\n",
       "    <tr>\n",
       "      <th>0</th>\n",
       "      <td>&lt;UID: 42b3ab30edc04fa786a1ca75de147d63&gt;</td>\n",
       "      <td>None</td>\n",
       "    </tr>\n",
       "  </tbody>\n",
       "</table>\n",
       "</div>"
      ],
      "text/plain": [
       "[<UID: 42b3ab30edc04fa786a1ca75de147d63>]"
      ]
     },
     "execution_count": 27,
     "metadata": {},
     "output_type": "execute_result"
    }
   ],
   "source": [
    "list(graph_store.graph.get_successors(node_action_data_1.id))"
   ]
  },
  {
   "cell_type": "code",
   "execution_count": null,
   "id": "028c61bb",
   "metadata": {},
   "outputs": [],
   "source": []
  }
 ],
 "metadata": {
  "kernelspec": {
   "display_name": "Python 3 (ipykernel)",
   "language": "python",
   "name": "python3"
  },
  "language_info": {
   "codemirror_mode": {
    "name": "ipython",
    "version": 3
   },
   "file_extension": ".py",
   "mimetype": "text/x-python",
   "name": "python",
   "nbconvert_exporter": "python",
   "pygments_lexer": "ipython3",
   "version": "3.10.8"
  },
  "widgets": {
   "application/vnd.jupyter.widget-state+json": {
    "state": {},
    "version_major": 2,
    "version_minor": 0
   }
  }
 },
 "nbformat": 4,
 "nbformat_minor": 5
}
