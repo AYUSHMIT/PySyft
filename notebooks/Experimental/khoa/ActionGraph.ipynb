{
 "cells": [
  {
   "cell_type": "code",
   "execution_count": 1,
   "id": "8971e920",
   "metadata": {},
   "outputs": [
    {
     "name": "stderr",
     "output_type": "stream",
     "text": [
      "kj/filesystem-disk-unix.c++:1703: warning: PWD environment variable doesn't match current directory; pwd = /home/dk/Desktop/projects/PySyft\n"
     ]
    },
    {
     "name": "stdout",
     "output_type": "stream",
     "text": [
      "0.8.0-beta.8\n"
     ]
    },
    {
     "data": {
      "text/plain": [
       "<Figure size 4000x2000 with 0 Axes>"
      ]
     },
     "metadata": {},
     "output_type": "display_data"
    }
   ],
   "source": [
    "import networkx as nx\n",
    "import syft as sy\n",
    "import numpy as np\n",
    "import matplotlib.pyplot as plt\n",
    "plt.figure(figsize=(40, 20))\n",
    "\n",
    "from syft.service.action.action_graph_service import ActionGraphService\n",
    "from syft.service.action.action_graph import InMemoryActionGraphStore, InMemoryGraphConfig, InMemoryStoreClientConfig\n",
    "from syft.service.context import AuthedServiceContext\n",
    "from syft.node.credentials import SyftSigningKey\n",
    "from syft.service.action.action_graph import Action\n",
    "from syft.service.action.numpy import NumpyArrayObject, ActionObject\n",
    "\n",
    "print(sy.__version__)"
   ]
  },
  {
   "cell_type": "code",
   "execution_count": 2,
   "id": "54da6d10",
   "metadata": {},
   "outputs": [],
   "source": [
    "store_config = InMemoryGraphConfig()"
   ]
  },
  {
   "cell_type": "code",
   "execution_count": 3,
   "id": "00faaedb",
   "metadata": {},
   "outputs": [
    {
     "name": "stdout",
     "output_type": "stream",
     "text": [
      "<class 'syft.service.action.action_graph.NetworkXBackingStore'>\n",
      "filename='action_graph.bytes' path='/tmp'\n",
      "lock_name='syft_lock' namespace=None expire=60 timeout=30 retry_interval=0.1\n"
     ]
    }
   ],
   "source": [
    "print(store_config.store_type)\n",
    "print(store_config.client_config)\n",
    "print(store_config.locking_config)"
   ]
  },
  {
   "cell_type": "code",
   "execution_count": 4,
   "id": "a84dd6ed",
   "metadata": {},
   "outputs": [],
   "source": [
    "graph_store = InMemoryActionGraphStore(store_config=store_config)"
   ]
  },
  {
   "cell_type": "code",
   "execution_count": 5,
   "id": "8ce378a1",
   "metadata": {},
   "outputs": [
    {
     "data": {
      "text/plain": [
       "PosixPath('/tmp/action_graph.bytes')"
      ]
     },
     "execution_count": 5,
     "metadata": {},
     "output_type": "execute_result"
    }
   ],
   "source": [
    "graph_store.graph.file_path"
   ]
  },
  {
   "cell_type": "code",
   "execution_count": 6,
   "id": "68d08357",
   "metadata": {},
   "outputs": [],
   "source": [
    "action_graph_service = ActionGraphService(store=graph_store)"
   ]
  },
  {
   "cell_type": "code",
   "execution_count": 7,
   "id": "916f0d86",
   "metadata": {},
   "outputs": [],
   "source": [
    "signing_key = SyftSigningKey.generate()\n",
    "authed_context = AuthedServiceContext(credentials=signing_key.verify_key)"
   ]
  },
  {
   "cell_type": "code",
   "execution_count": 8,
   "id": "64b0c1d5",
   "metadata": {},
   "outputs": [],
   "source": [
    "action_obj_a = ActionObject.from_obj([1, 2, 3])\n",
    "action_obj_b = ActionObject.from_obj([2, 3, 4])"
   ]
  },
  {
   "cell_type": "code",
   "execution_count": 9,
   "id": "a82b51cb",
   "metadata": {},
   "outputs": [
    {
     "data": {
      "text/plain": [
       "<UID: 42a776c704364ee3934402ce6acbc49e>"
      ]
     },
     "execution_count": 9,
     "metadata": {},
     "output_type": "execute_result"
    }
   ],
   "source": [
    "action_obj_a.id"
   ]
  },
  {
   "cell_type": "code",
   "execution_count": 10,
   "id": "b6ff01dd",
   "metadata": {},
   "outputs": [
    {
     "data": {
      "text/markdown": [
       "```python\n",
       "class Action:\n",
       "  id: str = e7ad93d98c3d476699533e5504ec137b\n",
       "  path: str = \"action.execute\"\n",
       "  op: str = \"np.array\"\n",
       "  remote_self: str = None\n",
       "  args: str = [<LineageID: 42a776c704364ee3934402ce6acbc49e - 612411512123702219>]\n",
       "  kwargs: str = {}\n",
       "  result_id: str = 3197f892060f48f2a629c3ffd3f861bb\n",
       "\n",
       "```"
      ],
      "text/plain": [
       "syft.service.action.action_object.Action"
      ]
     },
     "execution_count": 10,
     "metadata": {},
     "output_type": "execute_result"
    }
   ],
   "source": [
    "action1 = Action(\n",
    "    path=\"action.execute\",\n",
    "    op=\"np.array\",\n",
    "    remote_self=None,\n",
    "    args=[action_obj_a.syft_lineage_id],\n",
    "    kwargs={}\n",
    ")\n",
    "action1"
   ]
  },
  {
   "cell_type": "code",
   "execution_count": 11,
   "id": "acda926d",
   "metadata": {},
   "outputs": [
    {
     "data": {
      "text/markdown": [
       "```python\n",
       "class Action:\n",
       "  id: str = 7c4eeba2068b45e8aeaf9be8875cb474\n",
       "  path: str = \"action.execute\"\n",
       "  op: str = \"np.array\"\n",
       "  remote_self: str = None\n",
       "  args: str = [<LineageID: 581959d293c449a4a38ad8a22c460b87 - 312339602938026178>]\n",
       "  kwargs: str = {}\n",
       "  result_id: str = 3b1c4145b70b4e23a895686a2eb9fde9\n",
       "\n",
       "```"
      ],
      "text/plain": [
       "syft.service.action.action_object.Action"
      ]
     },
     "execution_count": 11,
     "metadata": {},
     "output_type": "execute_result"
    }
   ],
   "source": [
    "action2 = Action(\n",
    "    path=\"action.execute\",\n",
    "    op=\"np.array\",\n",
    "    remote_self=None,\n",
    "    args=[action_obj_b.syft_lineage_id],\n",
    "    kwargs={}\n",
    ")\n",
    "action2"
   ]
  },
  {
   "cell_type": "code",
   "execution_count": 12,
   "id": "4090c7bd",
   "metadata": {},
   "outputs": [
    {
     "data": {
      "text/markdown": [
       "```python\n",
       "class NodeActionData:\n",
       "  id: str = e7ad93d98c3d476699533e5504ec137b\n",
       "  action: str = syft.service.action.action_object.Action\n",
       "  status: str = ActionStatus.PROCESSING\n",
       "  retry: str = 0\n",
       "  created_at: str = 2023-04-21 03:16:10\n",
       "  updated_at: str = None\n",
       "  credentials: str = 31a2a469eed2477d7705ce3b748d7fdb620b2bfebe4945da861e77bfe3d70c3a\n",
       "\n",
       "```"
      ],
      "text/plain": [
       "class NodeActionData:\n",
       "  id: str = e7ad93d98c3d476699533e5504ec137b\n",
       "  action: str = syft.service.action.action_object.Action\n",
       "  status: str = ActionStatus.PROCESSING\n",
       "  retry: str = 0\n",
       "  created_at: str = 2023-04-21 03:16:10\n",
       "  updated_at: str = None\n",
       "  credentials: str = 31a2a469eed2477d7705ce3b748d7fdb620b2bfebe4945da861e77bfe3d70c3a"
      ]
     },
     "execution_count": 12,
     "metadata": {},
     "output_type": "execute_result"
    }
   ],
   "source": [
    "action_graph_service.add_action(context=authed_context, action=action1)"
   ]
  },
  {
   "cell_type": "code",
   "execution_count": 13,
   "id": "58724513",
   "metadata": {},
   "outputs": [
    {
     "name": "stdout",
     "output_type": "stream",
     "text": [
      "UID: e7ad93d98c3d476699533e5504ec137b\n",
      "Node: class NodeActionData:\n",
      "  id: str = e7ad93d98c3d476699533e5504ec137b\n",
      "  action: str = syft.service.action.action_object.Action\n",
      "  status: str = ActionStatus.PROCESSING\n",
      "  retry: str = 0\n",
      "  created_at: str = 2023-04-21 03:16:10\n",
      "  updated_at: str = None\n",
      "  credentials: str = 31a2a469eed2477d7705ce3b748d7fdb620b2bfebe4945da861e77bfe3d70c3a\n",
      "\n",
      "Result Id: 3197f892060f48f2a629c3ffd3f861bb\n"
     ]
    },
    {
     "data": {
      "text/markdown": [
       "```python\n",
       "class NodeActionData:\n",
       "  id: str = 7c4eeba2068b45e8aeaf9be8875cb474\n",
       "  action: str = syft.service.action.action_object.Action\n",
       "  status: str = ActionStatus.PROCESSING\n",
       "  retry: str = 0\n",
       "  created_at: str = 2023-04-21 03:16:10\n",
       "  updated_at: str = None\n",
       "  credentials: str = 31a2a469eed2477d7705ce3b748d7fdb620b2bfebe4945da861e77bfe3d70c3a\n",
       "\n",
       "```"
      ],
      "text/plain": [
       "class NodeActionData:\n",
       "  id: str = 7c4eeba2068b45e8aeaf9be8875cb474\n",
       "  action: str = syft.service.action.action_object.Action\n",
       "  status: str = ActionStatus.PROCESSING\n",
       "  retry: str = 0\n",
       "  created_at: str = 2023-04-21 03:16:10\n",
       "  updated_at: str = None\n",
       "  credentials: str = 31a2a469eed2477d7705ce3b748d7fdb620b2bfebe4945da861e77bfe3d70c3a"
      ]
     },
     "execution_count": 13,
     "metadata": {},
     "output_type": "execute_result"
    }
   ],
   "source": [
    "action_graph_service.add_action(context=authed_context, action=action2)"
   ]
  },
  {
   "cell_type": "code",
   "execution_count": 14,
   "id": "1cc6933e",
   "metadata": {},
   "outputs": [
    {
     "data": {
      "image/png": "[encoded data removed]",
      "text/plain": [
       "<Figure size 640x480 with 1 Axes>"
      ]
     },
     "metadata": {},
     "output_type": "display_data"
    }
   ],
   "source": [
    "action_graph_service.store.graph.visualize()"
   ]
  },
  {
   "cell_type": "code",
   "execution_count": 15,
   "id": "2b2a6add",
   "metadata": {},
   "outputs": [
    {
     "data": {
      "text/markdown": [
       "```python\n",
       "class Action:\n",
       "  id: str = 3a51e2cc40f74bfebdb0130168ea3790\n",
       "  path: str = \"action.execute\"\n",
       "  op: str = \"__add__\"\n",
       "  remote_self: str = 3197f892060f48f2a629c3ffd3f861bb\n",
       "  args: str = [<LineageID: 3b1c4145b70b4e23a895686a2eb9fde9 - 105679113009000213>]\n",
       "  kwargs: str = {}\n",
       "  result_id: str = 88f037fc13e64d099418b3a0fe4a3119\n",
       "\n",
       "```"
      ],
      "text/plain": [
       "syft.service.action.action_object.Action"
      ]
     },
     "execution_count": 15,
     "metadata": {},
     "output_type": "execute_result"
    }
   ],
   "source": [
    "action_res = Action(\n",
    "    path=\"action.execute\",\n",
    "    op=\"__add__\",\n",
    "    remote_self=action1.result_id,\n",
    "    args=[action2.result_id],\n",
    "    kwargs={}\n",
    ")\n",
    "action_res"
   ]
  },
  {
   "cell_type": "code",
   "execution_count": 16,
   "id": "fb7bc33c",
   "metadata": {},
   "outputs": [
    {
     "name": "stdout",
     "output_type": "stream",
     "text": [
      "UID: e7ad93d98c3d476699533e5504ec137b\n",
      "Node: class NodeActionData:\n",
      "  id: str = e7ad93d98c3d476699533e5504ec137b\n",
      "  action: str = syft.service.action.action_object.Action\n",
      "  status: str = ActionStatus.PROCESSING\n",
      "  retry: str = 0\n",
      "  created_at: str = 2023-04-21 03:16:10\n",
      "  updated_at: str = None\n",
      "  credentials: str = 31a2a469eed2477d7705ce3b748d7fdb620b2bfebe4945da861e77bfe3d70c3a\n",
      "\n",
      "Result Id: 3197f892060f48f2a629c3ffd3f861bb\n",
      "Found: e7ad93d98c3d476699533e5504ec137b\n",
      "UID: 7c4eeba2068b45e8aeaf9be8875cb474\n",
      "Node: class NodeActionData:\n",
      "  id: str = 7c4eeba2068b45e8aeaf9be8875cb474\n",
      "  action: str = syft.service.action.action_object.Action\n",
      "  status: str = ActionStatus.PROCESSING\n",
      "  retry: str = 0\n",
      "  created_at: str = 2023-04-21 03:16:10\n",
      "  updated_at: str = None\n",
      "  credentials: str = 31a2a469eed2477d7705ce3b748d7fdb620b2bfebe4945da861e77bfe3d70c3a\n",
      "\n",
      "Result Id: 3b1c4145b70b4e23a895686a2eb9fde9\n",
      "Found: 7c4eeba2068b45e8aeaf9be8875cb474\n"
     ]
    },
    {
     "data": {
      "text/markdown": [
       "```python\n",
       "class NodeActionData:\n",
       "  id: str = 3a51e2cc40f74bfebdb0130168ea3790\n",
       "  action: str = syft.service.action.action_object.Action\n",
       "  status: str = ActionStatus.PROCESSING\n",
       "  retry: str = 0\n",
       "  created_at: str = 2023-04-21 03:16:10\n",
       "  updated_at: str = None\n",
       "  credentials: str = 31a2a469eed2477d7705ce3b748d7fdb620b2bfebe4945da861e77bfe3d70c3a\n",
       "\n",
       "```"
      ],
      "text/plain": [
       "class NodeActionData:\n",
       "  id: str = 3a51e2cc40f74bfebdb0130168ea3790\n",
       "  action: str = syft.service.action.action_object.Action\n",
       "  status: str = ActionStatus.PROCESSING\n",
       "  retry: str = 0\n",
       "  created_at: str = 2023-04-21 03:16:10\n",
       "  updated_at: str = None\n",
       "  credentials: str = 31a2a469eed2477d7705ce3b748d7fdb620b2bfebe4945da861e77bfe3d70c3a"
      ]
     },
     "execution_count": 16,
     "metadata": {},
     "output_type": "execute_result"
    }
   ],
   "source": [
    "action_graph_service.add_action(context=authed_context, action=action_res)"
   ]
  },
  {
   "cell_type": "code",
   "execution_count": 17,
   "id": "79aa57df",
   "metadata": {},
   "outputs": [
    {
     "data": {
      "image/png": "[encoded data removed]",
      "text/plain": [
       "<Figure size 640x480 with 1 Axes>"
      ]
     },
     "metadata": {},
     "output_type": "display_data"
    }
   ],
   "source": [
    "# plt.figure(figsize=(20, 10))\n",
    "action_graph_service.store.graph.visualize()"
   ]
  },
  {
   "cell_type": "code",
   "execution_count": 18,
   "id": "983736eb",
   "metadata": {},
   "outputs": [
    {
     "data": {
      "text/markdown": [
       "```python\n",
       "class Action:\n",
       "  id: str = 3a51e2cc40f74bfebdb0130168ea3790\n",
       "  path: str = \"action.execute\"\n",
       "  op: str = \"__add__\"\n",
       "  remote_self: str = 3197f892060f48f2a629c3ffd3f861bb\n",
       "  args: str = [<LineageID: 3b1c4145b70b4e23a895686a2eb9fde9 - 105679113009000213>]\n",
       "  kwargs: str = {}\n",
       "  result_id: str = 88f037fc13e64d099418b3a0fe4a3119\n",
       "\n",
       "```"
      ],
      "text/plain": [
       "syft.service.action.action_object.Action"
      ]
     },
     "execution_count": 18,
     "metadata": {},
     "output_type": "execute_result"
    }
   ],
   "source": [
    "action_res_2 = Action(\n",
    "    path=\"action.execute\",\n",
    "    op=\"__mul__\",\n",
    "    remote_self=action_res.result_id,\n",
    "    args=[action2.result_id],\n",
    "    kwargs={}\n",
    ")\n",
    "action_res"
   ]
  },
  {
   "cell_type": "code",
   "execution_count": 19,
   "id": "49abbd2c",
   "metadata": {},
   "outputs": [
    {
     "name": "stdout",
     "output_type": "stream",
     "text": [
      "UID: e7ad93d98c3d476699533e5504ec137b\n",
      "Node: class NodeActionData:\n",
      "  id: str = e7ad93d98c3d476699533e5504ec137b\n",
      "  action: str = syft.service.action.action_object.Action\n",
      "  status: str = ActionStatus.PROCESSING\n",
      "  retry: str = 0\n",
      "  created_at: str = 2023-04-21 03:16:10\n",
      "  updated_at: str = None\n",
      "  credentials: str = 31a2a469eed2477d7705ce3b748d7fdb620b2bfebe4945da861e77bfe3d70c3a\n",
      "\n",
      "Result Id: 3197f892060f48f2a629c3ffd3f861bb\n",
      "UID: 7c4eeba2068b45e8aeaf9be8875cb474\n",
      "Node: class NodeActionData:\n",
      "  id: str = 7c4eeba2068b45e8aeaf9be8875cb474\n",
      "  action: str = syft.service.action.action_object.Action\n",
      "  status: str = ActionStatus.PROCESSING\n",
      "  retry: str = 0\n",
      "  created_at: str = 2023-04-21 03:16:10\n",
      "  updated_at: str = None\n",
      "  credentials: str = 31a2a469eed2477d7705ce3b748d7fdb620b2bfebe4945da861e77bfe3d70c3a\n",
      "\n",
      "Result Id: 3b1c4145b70b4e23a895686a2eb9fde9\n",
      "Found: 7c4eeba2068b45e8aeaf9be8875cb474\n",
      "UID: 3a51e2cc40f74bfebdb0130168ea3790\n",
      "Node: class NodeActionData:\n",
      "  id: str = 3a51e2cc40f74bfebdb0130168ea3790\n",
      "  action: str = syft.service.action.action_object.Action\n",
      "  status: str = ActionStatus.PROCESSING\n",
      "  retry: str = 0\n",
      "  created_at: str = 2023-04-21 03:16:10\n",
      "  updated_at: str = None\n",
      "  credentials: str = 31a2a469eed2477d7705ce3b748d7fdb620b2bfebe4945da861e77bfe3d70c3a\n",
      "\n",
      "Result Id: 88f037fc13e64d099418b3a0fe4a3119\n",
      "Found: 3a51e2cc40f74bfebdb0130168ea3790\n"
     ]
    },
    {
     "data": {
      "text/markdown": [
       "```python\n",
       "class NodeActionData:\n",
       "  id: str = aa34ba9e208640099bc9fae761f45470\n",
       "  action: str = syft.service.action.action_object.Action\n",
       "  status: str = ActionStatus.PROCESSING\n",
       "  retry: str = 0\n",
       "  created_at: str = 2023-04-21 03:16:10\n",
       "  updated_at: str = None\n",
       "  credentials: str = 31a2a469eed2477d7705ce3b748d7fdb620b2bfebe4945da861e77bfe3d70c3a\n",
       "\n",
       "```"
      ],
      "text/plain": [
       "class NodeActionData:\n",
       "  id: str = aa34ba9e208640099bc9fae761f45470\n",
       "  action: str = syft.service.action.action_object.Action\n",
       "  status: str = ActionStatus.PROCESSING\n",
       "  retry: str = 0\n",
       "  created_at: str = 2023-04-21 03:16:10\n",
       "  updated_at: str = None\n",
       "  credentials: str = 31a2a469eed2477d7705ce3b748d7fdb620b2bfebe4945da861e77bfe3d70c3a"
      ]
     },
     "execution_count": 19,
     "metadata": {},
     "output_type": "execute_result"
    }
   ],
   "source": [
    "action_graph_service.add_action(context=authed_context, action=action_res_2)"
   ]
  },
  {
   "cell_type": "code",
   "execution_count": 20,
   "id": "832e5e10",
   "metadata": {},
   "outputs": [
    {
     "data": {
      "image/png": "[encoded data removed]",
      "text/plain": [
       "<Figure size 640x480 with 1 Axes>"
      ]
     },
     "metadata": {},
     "output_type": "display_data"
    }
   ],
   "source": [
    "action_graph_service.store.graph.visualize()"
   ]
  },
  {
   "cell_type": "code",
   "execution_count": null,
   "id": "2afe4130",
   "metadata": {},
   "outputs": [],
   "source": []
  }
 ],
 "metadata": {
  "kernelspec": {
   "display_name": "Python 3 (ipykernel)",
   "language": "python",
   "name": "python3"
  },
  "language_info": {
   "codemirror_mode": {
    "name": "ipython",
    "version": 3
   },
   "file_extension": ".py",
   "mimetype": "text/x-python",
   "name": "python",
   "nbconvert_exporter": "python",
   "pygments_lexer": "ipython3",
   "version": "3.10.8"
  }
 },
 "nbformat": 4,
 "nbformat_minor": 5
}
