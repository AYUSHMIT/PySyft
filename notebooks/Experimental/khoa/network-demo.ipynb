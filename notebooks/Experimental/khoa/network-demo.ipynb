{
 "cells": [
  {
   "cell_type": "code",
   "execution_count": 1,
   "id": "daf70a43-a4a4-45b2-ac29-3c5cd705e43f",
   "metadata": {},
   "outputs": [
    {
     "name": "stdout",
     "output_type": "stream",
     "text": [
      "hagrid.__version__ = '0.3.112'\n",
      "sy.__version__ = '0.8.6-beta.1'\n"
     ]
    }
   ],
   "source": [
    "# stdlib\n",
    "from unittest import mock\n",
    "\n",
    "# third party\n",
    "import hagrid\n",
    "import numpy as np\n",
    "\n",
    "# syft absolute\n",
    "import syft as sy\n",
    "from syft.client.domain_client import DomainClient\n",
    "from syft.client.gateway_client import GatewayClient\n",
    "\n",
    "print(f\"{hagrid.__version__ = }\")\n",
    "print(f\"{sy.__version__ = }\")"
   ]
  },
  {
   "cell_type": "markdown",
   "id": "bde81f2a-4175-4d20-951a-c9395a126dd8",
   "metadata": {},
   "source": [
    "#### Deleting existing nodes\n",
    "```bash\n",
    "bash -c '\\\n",
    "    CLUSTER_NAME=testgateway1 tox -e dev.k8s.destroy || true && \\\n",
    "    CLUSTER_NAME=testdomain1 tox -e dev.k8s.destroy || true && \\\n",
    "    CLUSTER_NAME=testdomain2 tox -e dev.k8s.destroy || true'\n",
    "```\n",
    "\n",
    "\n",
    "#### Launch a Gateway Node\n",
    "\n",
    "```bash\n",
    "bash -c '\\\n",
    "    export CLUSTER_NAME=testgateway1 CLUSTER_HTTP_PORT=9081 DEVSPACE_PROFILE=gateway && \\\n",
    "    tox -e dev.k8s.start && \\\n",
    "    tox -e dev.k8s.hotreload'\n",
    "```\n",
    "\n",
    "#### Launch 2 Domain Nodes\n",
    "```bash\n",
    "bash -c '\\\n",
    "    export CLUSTER_NAME=testdomain1 CLUSTER_HTTP_PORT=9091 && \\\n",
    "    tox -e dev.k8s.start && \\\n",
    "    tox -e dev.k8s.hotreload'\n",
    "```\n",
    "\n",
    "```bash\n",
    "bash -c '\\\n",
    "    export CLUSTER_NAME=testdomain2 CLUSTER_HTTP_PORT=9092 && \\\n",
    "    tox -e dev.k8s.start && \\\n",
    "    tox -e dev.k8s.hotreload'\n",
    "```"
   ]
  },
  {
   "cell_type": "code",
   "execution_count": 2,
   "id": "04334242-2191-4b5c-933e-29b90a3f6e67",
   "metadata": {},
   "outputs": [
    {
     "name": "stdout",
     "output_type": "stream",
     "text": [
      "NAME           SERVERS   AGENTS   LOADBALANCER\n",
      "testgateway1   1/1       0/0      true\n"
     ]
    }
   ],
   "source": [
    "!k3d cluster list"
   ]
  },
  {
   "cell_type": "code",
   "execution_count": 14,
   "id": "7ae4314c-ea95-4c03-a9b7-a7fd1159d4df",
   "metadata": {},
   "outputs": [
    {
     "name": "stdout",
     "output_type": "stream",
     "text": [
      "           name host_or_ip protocol  port            admin_email                     website                         slack slack_channel        version\n",
      "0  test-gateway  localhost     http  9081  support@openmined.org  https://www.openmined.org/  https://slack.openmined.org/      #support  0.8.5-beta.10\n",
      "     name organization        version host_or_ip protocol  port                                id\n",
      "0  mynode    OpenMined  0.8.5-beta.10  localhost     http  9082  b213ef29c67f444c8aa5e8603beff97b\n",
      "[syft.service.dataset.dataset.Dataset]\n",
      "dataset_1\n"
     ]
    }
   ],
   "source": [
    "def mock_load_network_registry_json(network_host: str, network_port: int) -> dict:\n",
    "    return {\n",
    "        \"2.0.0\": {\n",
    "            \"gateways\": [\n",
    "                {\n",
    "                    \"name\": \"test-gateway\",\n",
    "                    \"host_or_ip\": f\"{network_host}\",\n",
    "                    \"protocol\": \"http\",\n",
    "                    \"port\": f\"{network_port}\",\n",
    "                    \"admin_email\": \"support@openmined.org\",\n",
    "                    \"website\": \"https://www.openmined.org/\",\n",
    "                    \"slack\": \"https://slack.openmined.org/\",\n",
    "                    \"slack_channel\": \"#support\",\n",
    "                }\n",
    "            ]\n",
    "        }\n",
    "    }\n",
    "\n",
    "\n",
    "with mock.patch(\n",
    "    \"syft.client.registry.NetworkRegistry.load_network_registry_json\",\n",
    "    return_value=mock_load_network_registry_json(\"localhost\", 9081),\n",
    "):\n",
    "    print(sy.gateways)\n",
    "    print(sy.domains)\n",
    "    print(sy.search(name=\"dataset_1\"))\n",
    "    a = sy.search(name=\"dataset_1\")\n",
    "    print(a[0].name)"
   ]
  },
  {
   "cell_type": "code",
   "execution_count": 4,
   "id": "49fee312-5b72-48df-8514-c63ca7df34bb",
   "metadata": {},
   "outputs": [
    {
     "name": "stdout",
     "output_type": "stream",
     "text": [
      "Logged into <mynode: High side Gateway> as <info@openmined.org>\n"
     ]
    },
    {
     "data": {
      "text/html": [
       "<div class=\"alert-warning\" style=\"padding:5px;\"><strong>SyftWarning</strong>: You are using a default password. Please change the password using `[your_client].me.set_password([new_password])`.</div><br />"
      ],
      "text/plain": [
       "SyftWarning: You are using a default password. Please change the password using `[your_client].me.set_password([new_password])`."
      ]
     },
     "metadata": {},
     "output_type": "display_data"
    }
   ],
   "source": [
    "gateway_client: GatewayClient = sy.login(\n",
    "    port=9081, email=\"info@openmined.org\", password=\"changethis\"\n",
    ")"
   ]
  },
  {
   "cell_type": "code",
   "execution_count": 3,
   "id": "9b68a463-1d55-4e81-8939-278c4692d6d8",
   "metadata": {},
   "outputs": [
    {
     "ename": "ConnectionError",
     "evalue": "Failed to fetch http://localhost:9081/api/v2/metadata. Response returned with code 502",
     "output_type": "error",
     "traceback": [
      "\u001b[0;31m---------------------------------------------------------------------------\u001b[0m",
      "\u001b[0;31mConnectionError\u001b[0m                           Traceback (most recent call last)",
      "Cell \u001b[0;32mIn[3], line 1\u001b[0m\n\u001b[0;32m----> 1\u001b[0m gateway_client: GatewayClient \u001b[38;5;241m=\u001b[39m \u001b[43msy\u001b[49m\u001b[38;5;241;43m.\u001b[39;49m\u001b[43mlogin\u001b[49m\u001b[43m(\u001b[49m\n\u001b[1;32m      2\u001b[0m \u001b[43m    \u001b[49m\u001b[43mport\u001b[49m\u001b[38;5;241;43m=\u001b[39;49m\u001b[38;5;241;43m9081\u001b[39;49m\u001b[43m,\u001b[49m\u001b[43m \u001b[49m\u001b[43memail\u001b[49m\u001b[38;5;241;43m=\u001b[39;49m\u001b[38;5;124;43m\"\u001b[39;49m\u001b[38;5;124;43minfo@openmined.org\u001b[39;49m\u001b[38;5;124;43m\"\u001b[39;49m\u001b[43m,\u001b[49m\u001b[43m \u001b[49m\u001b[43mpassword\u001b[49m\u001b[38;5;241;43m=\u001b[39;49m\u001b[38;5;124;43m\"\u001b[39;49m\u001b[38;5;124;43mchangethis\u001b[39;49m\u001b[38;5;124;43m\"\u001b[39;49m\n\u001b[1;32m      3\u001b[0m \u001b[43m)\u001b[49m\n\u001b[1;32m      4\u001b[0m domain_client1: DomainClient \u001b[38;5;241m=\u001b[39m sy\u001b[38;5;241m.\u001b[39mlogin(\n\u001b[1;32m      5\u001b[0m     port\u001b[38;5;241m=\u001b[39m\u001b[38;5;241m9082\u001b[39m, email\u001b[38;5;241m=\u001b[39m\u001b[38;5;124m\"\u001b[39m\u001b[38;5;124minfo@openmined.org\u001b[39m\u001b[38;5;124m\"\u001b[39m, password\u001b[38;5;241m=\u001b[39m\u001b[38;5;124m\"\u001b[39m\u001b[38;5;124mchangethis\u001b[39m\u001b[38;5;124m\"\u001b[39m\n\u001b[1;32m      6\u001b[0m )\n\u001b[1;32m      7\u001b[0m domain_client3: DomainClient \u001b[38;5;241m=\u001b[39m sy\u001b[38;5;241m.\u001b[39mlogin(\n\u001b[1;32m      8\u001b[0m     port\u001b[38;5;241m=\u001b[39m\u001b[38;5;241m9083\u001b[39m, email\u001b[38;5;241m=\u001b[39m\u001b[38;5;124m\"\u001b[39m\u001b[38;5;124minfo@openmined.org\u001b[39m\u001b[38;5;124m\"\u001b[39m, password\u001b[38;5;241m=\u001b[39m\u001b[38;5;124m\"\u001b[39m\u001b[38;5;124mchangethis\u001b[39m\u001b[38;5;124m\"\u001b[39m\n\u001b[1;32m      9\u001b[0m )\n",
      "File \u001b[0;32m~/Desktop/projects/PySyft/packages/syft/src/syft/client/client.py:1258\u001b[0m, in \u001b[0;36mlogin\u001b[0;34m(email, url, port, node, vld_forward_proxy, vld_reverse_proxy, vld_key, password, cache)\u001b[0m\n\u001b[1;32m   1243\u001b[0m \u001b[38;5;129m@instrument\u001b[39m\n\u001b[1;32m   1244\u001b[0m \u001b[38;5;28;01mdef\u001b[39;00m \u001b[38;5;21mlogin\u001b[39m(\n\u001b[1;32m   1245\u001b[0m     email: \u001b[38;5;28mstr\u001b[39m,\n\u001b[0;32m   (...)\u001b[0m\n\u001b[1;32m   1256\u001b[0m     cache: \u001b[38;5;28mbool\u001b[39m \u001b[38;5;241m=\u001b[39m \u001b[38;5;28;01mTrue\u001b[39;00m,\n\u001b[1;32m   1257\u001b[0m ) \u001b[38;5;241m-\u001b[39m\u001b[38;5;241m>\u001b[39m SyftClient:\n\u001b[0;32m-> 1258\u001b[0m     _client \u001b[38;5;241m=\u001b[39m \u001b[43mconnect\u001b[49m\u001b[43m(\u001b[49m\n\u001b[1;32m   1259\u001b[0m \u001b[43m        \u001b[49m\u001b[43murl\u001b[49m\u001b[38;5;241;43m=\u001b[39;49m\u001b[43murl\u001b[49m\u001b[43m,\u001b[49m\n\u001b[1;32m   1260\u001b[0m \u001b[43m        \u001b[49m\u001b[43mnode\u001b[49m\u001b[38;5;241;43m=\u001b[39;49m\u001b[43mnode\u001b[49m\u001b[43m,\u001b[49m\n\u001b[1;32m   1261\u001b[0m \u001b[43m        \u001b[49m\u001b[43mport\u001b[49m\u001b[38;5;241;43m=\u001b[39;49m\u001b[43mport\u001b[49m\u001b[43m,\u001b[49m\n\u001b[1;32m   1262\u001b[0m \u001b[43m        \u001b[49m\u001b[43mvld_forward_proxy\u001b[49m\u001b[38;5;241;43m=\u001b[39;49m\u001b[43mvld_forward_proxy\u001b[49m\u001b[43m,\u001b[49m\n\u001b[1;32m   1263\u001b[0m \u001b[43m        \u001b[49m\u001b[43mvld_reverse_proxy\u001b[49m\u001b[38;5;241;43m=\u001b[39;49m\u001b[43mvld_reverse_proxy\u001b[49m\u001b[43m,\u001b[49m\n\u001b[1;32m   1264\u001b[0m \u001b[43m        \u001b[49m\u001b[43mvld_key\u001b[49m\u001b[38;5;241;43m=\u001b[39;49m\u001b[43mvld_key\u001b[49m\u001b[43m,\u001b[49m\n\u001b[1;32m   1265\u001b[0m \u001b[43m    \u001b[49m\u001b[43m)\u001b[49m\n\u001b[1;32m   1267\u001b[0m     \u001b[38;5;28;01mif\u001b[39;00m \u001b[38;5;28misinstance\u001b[39m(_client, SyftError):\n\u001b[1;32m   1268\u001b[0m         \u001b[38;5;28;01mreturn\u001b[39;00m _client\n",
      "File \u001b[0;32m~/Desktop/projects/PySyft/packages/syft/src/syft/client/client.py:1181\u001b[0m, in \u001b[0;36mconnect\u001b[0;34m(url, node, port, vld_forward_proxy, vld_reverse_proxy, vld_key)\u001b[0m\n\u001b[1;32m   1178\u001b[0m         url\u001b[38;5;241m.\u001b[39mset_port(\u001b[38;5;28mint\u001b[39m(port))\n\u001b[1;32m   1179\u001b[0m     connection \u001b[38;5;241m=\u001b[39m HTTPConnection(url\u001b[38;5;241m=\u001b[39murl)\n\u001b[0;32m-> 1181\u001b[0m client_type \u001b[38;5;241m=\u001b[39m \u001b[43mconnection\u001b[49m\u001b[38;5;241;43m.\u001b[39;49m\u001b[43mget_client_type\u001b[49m\u001b[43m(\u001b[49m\u001b[43m)\u001b[49m\n\u001b[1;32m   1183\u001b[0m \u001b[38;5;28;01mif\u001b[39;00m \u001b[38;5;28misinstance\u001b[39m(client_type, SyftError):\n\u001b[1;32m   1184\u001b[0m     \u001b[38;5;28;01mreturn\u001b[39;00m client_type\n",
      "File \u001b[0;32m~/Desktop/projects/PySyft/packages/syft/src/syft/client/client.py:322\u001b[0m, in \u001b[0;36mHTTPConnection.get_client_type\u001b[0;34m(self)\u001b[0m\n\u001b[1;32m    319\u001b[0m \u001b[38;5;28;01mfrom\u001b[39;00m \u001b[38;5;21;01m.\u001b[39;00m\u001b[38;5;21;01menclave_client\u001b[39;00m \u001b[38;5;28;01mimport\u001b[39;00m EnclaveClient\n\u001b[1;32m    320\u001b[0m \u001b[38;5;28;01mfrom\u001b[39;00m \u001b[38;5;21;01m.\u001b[39;00m\u001b[38;5;21;01mgateway_client\u001b[39;00m \u001b[38;5;28;01mimport\u001b[39;00m GatewayClient\n\u001b[0;32m--> 322\u001b[0m metadata \u001b[38;5;241m=\u001b[39m \u001b[38;5;28;43mself\u001b[39;49m\u001b[38;5;241;43m.\u001b[39;49m\u001b[43mget_node_metadata\u001b[49m\u001b[43m(\u001b[49m\u001b[43mcredentials\u001b[49m\u001b[38;5;241;43m=\u001b[39;49m\u001b[43mSyftSigningKey\u001b[49m\u001b[38;5;241;43m.\u001b[39;49m\u001b[43mgenerate\u001b[49m\u001b[43m(\u001b[49m\u001b[43m)\u001b[49m\u001b[43m)\u001b[49m\n\u001b[1;32m    323\u001b[0m \u001b[38;5;28;01mif\u001b[39;00m metadata\u001b[38;5;241m.\u001b[39mnode_type \u001b[38;5;241m==\u001b[39m NodeType\u001b[38;5;241m.\u001b[39mDOMAIN\u001b[38;5;241m.\u001b[39mvalue:\n\u001b[1;32m    324\u001b[0m     \u001b[38;5;28;01mreturn\u001b[39;00m DomainClient\n",
      "File \u001b[0;32m~/Desktop/projects/PySyft/packages/syft/src/syft/client/client.py:224\u001b[0m, in \u001b[0;36mHTTPConnection.get_node_metadata\u001b[0;34m(self, credentials)\u001b[0m\n\u001b[1;32m    222\u001b[0m     \u001b[38;5;28;01mreturn\u001b[39;00m response\n\u001b[1;32m    223\u001b[0m \u001b[38;5;28;01melse\u001b[39;00m:\n\u001b[0;32m--> 224\u001b[0m     response \u001b[38;5;241m=\u001b[39m \u001b[38;5;28;43mself\u001b[39;49m\u001b[38;5;241;43m.\u001b[39;49m\u001b[43m_make_get\u001b[49m\u001b[43m(\u001b[49m\u001b[38;5;28;43mself\u001b[39;49m\u001b[38;5;241;43m.\u001b[39;49m\u001b[43mroutes\u001b[49m\u001b[38;5;241;43m.\u001b[39;49m\u001b[43mROUTE_METADATA\u001b[49m\u001b[38;5;241;43m.\u001b[39;49m\u001b[43mvalue\u001b[49m\u001b[43m)\u001b[49m\n\u001b[1;32m    225\u001b[0m     metadata_json \u001b[38;5;241m=\u001b[39m json\u001b[38;5;241m.\u001b[39mloads(response)\n\u001b[1;32m    226\u001b[0m     \u001b[38;5;28;01mreturn\u001b[39;00m NodeMetadataJSON(\u001b[38;5;241m*\u001b[39m\u001b[38;5;241m*\u001b[39mmetadata_json)\n",
      "File \u001b[0;32m~/Desktop/projects/PySyft/packages/syft/src/syft/client/client.py:185\u001b[0m, in \u001b[0;36mHTTPConnection._make_get\u001b[0;34m(self, path, params)\u001b[0m\n\u001b[1;32m    181\u001b[0m response \u001b[38;5;241m=\u001b[39m \u001b[38;5;28mself\u001b[39m\u001b[38;5;241m.\u001b[39msession\u001b[38;5;241m.\u001b[39mget(\n\u001b[1;32m    182\u001b[0m     \u001b[38;5;28mstr\u001b[39m(url), verify\u001b[38;5;241m=\u001b[39mverify_tls(), proxies\u001b[38;5;241m=\u001b[39m{}, params\u001b[38;5;241m=\u001b[39mparams\n\u001b[1;32m    183\u001b[0m )\n\u001b[1;32m    184\u001b[0m \u001b[38;5;28;01mif\u001b[39;00m response\u001b[38;5;241m.\u001b[39mstatus_code \u001b[38;5;241m!=\u001b[39m \u001b[38;5;241m200\u001b[39m:\n\u001b[0;32m--> 185\u001b[0m     \u001b[38;5;28;01mraise\u001b[39;00m requests\u001b[38;5;241m.\u001b[39mConnectionError(\n\u001b[1;32m    186\u001b[0m         \u001b[38;5;124mf\u001b[39m\u001b[38;5;124m\"\u001b[39m\u001b[38;5;124mFailed to fetch \u001b[39m\u001b[38;5;132;01m{\u001b[39;00murl\u001b[38;5;132;01m}\u001b[39;00m\u001b[38;5;124m. Response returned with code \u001b[39m\u001b[38;5;132;01m{\u001b[39;00mresponse\u001b[38;5;241m.\u001b[39mstatus_code\u001b[38;5;132;01m}\u001b[39;00m\u001b[38;5;124m\"\u001b[39m\n\u001b[1;32m    187\u001b[0m     )\n\u001b[1;32m    189\u001b[0m \u001b[38;5;66;03m# upgrade to tls if available\u001b[39;00m\n\u001b[1;32m    190\u001b[0m \u001b[38;5;28mself\u001b[39m\u001b[38;5;241m.\u001b[39murl \u001b[38;5;241m=\u001b[39m upgrade_tls(\u001b[38;5;28mself\u001b[39m\u001b[38;5;241m.\u001b[39murl, response)\n",
      "\u001b[0;31mConnectionError\u001b[0m: Failed to fetch http://localhost:9081/api/v2/metadata. Response returned with code 502"
     ]
    }
   ],
   "source": [
    "gateway_client: GatewayClient = sy.login(\n",
    "    port=9081, email=\"info@openmined.org\", password=\"changethis\"\n",
    ")\n",
    "domain_client1: DomainClient = sy.login(\n",
    "    port=9082, email=\"info@openmined.org\", password=\"changethis\"\n",
    ")\n",
    "domain_client3: DomainClient = sy.login(\n",
    "    port=9083, email=\"info@openmined.org\", password=\"changethis\"\n",
    ")"
   ]
  },
  {
   "cell_type": "code",
   "execution_count": 4,
   "id": "68aef138-2620-4f6b-afc6-7ce3ee8d47f9",
   "metadata": {},
   "outputs": [
    {
     "ename": "ConnectionError",
     "evalue": "Failed to fetch http://localhost:9082/api/v2/metadata. Response returned with code 404",
     "output_type": "error",
     "traceback": [
      "\u001b[0;31m---------------------------------------------------------------------------\u001b[0m",
      "\u001b[0;31mConnectionError\u001b[0m                           Traceback (most recent call last)",
      "Cell \u001b[0;32mIn[4], line 1\u001b[0m\n\u001b[0;32m----> 1\u001b[0m domain_client1: DomainClient \u001b[38;5;241m=\u001b[39m \u001b[43msy\u001b[49m\u001b[38;5;241;43m.\u001b[39;49m\u001b[43mlogin\u001b[49m\u001b[43m(\u001b[49m\n\u001b[1;32m      2\u001b[0m \u001b[43m    \u001b[49m\u001b[43mport\u001b[49m\u001b[38;5;241;43m=\u001b[39;49m\u001b[38;5;241;43m9082\u001b[39;49m\u001b[43m,\u001b[49m\u001b[43m \u001b[49m\u001b[43memail\u001b[49m\u001b[38;5;241;43m=\u001b[39;49m\u001b[38;5;124;43m\"\u001b[39;49m\u001b[38;5;124;43minfo@openmined.org\u001b[39;49m\u001b[38;5;124;43m\"\u001b[39;49m\u001b[43m,\u001b[49m\u001b[43m \u001b[49m\u001b[43mpassword\u001b[49m\u001b[38;5;241;43m=\u001b[39;49m\u001b[38;5;124;43m\"\u001b[39;49m\u001b[38;5;124;43mchangethis\u001b[39;49m\u001b[38;5;124;43m\"\u001b[39;49m\n\u001b[1;32m      3\u001b[0m \u001b[43m)\u001b[49m\n",
      "File \u001b[0;32m~/Desktop/projects/PySyft/packages/syft/src/syft/client/client.py:1258\u001b[0m, in \u001b[0;36mlogin\u001b[0;34m(email, url, port, node, vld_forward_proxy, vld_reverse_proxy, vld_key, password, cache)\u001b[0m\n\u001b[1;32m   1243\u001b[0m \u001b[38;5;129m@instrument\u001b[39m\n\u001b[1;32m   1244\u001b[0m \u001b[38;5;28;01mdef\u001b[39;00m \u001b[38;5;21mlogin\u001b[39m(\n\u001b[1;32m   1245\u001b[0m     email: \u001b[38;5;28mstr\u001b[39m,\n\u001b[0;32m   (...)\u001b[0m\n\u001b[1;32m   1256\u001b[0m     cache: \u001b[38;5;28mbool\u001b[39m \u001b[38;5;241m=\u001b[39m \u001b[38;5;28;01mTrue\u001b[39;00m,\n\u001b[1;32m   1257\u001b[0m ) \u001b[38;5;241m-\u001b[39m\u001b[38;5;241m>\u001b[39m SyftClient:\n\u001b[0;32m-> 1258\u001b[0m     _client \u001b[38;5;241m=\u001b[39m \u001b[43mconnect\u001b[49m\u001b[43m(\u001b[49m\n\u001b[1;32m   1259\u001b[0m \u001b[43m        \u001b[49m\u001b[43murl\u001b[49m\u001b[38;5;241;43m=\u001b[39;49m\u001b[43murl\u001b[49m\u001b[43m,\u001b[49m\n\u001b[1;32m   1260\u001b[0m \u001b[43m        \u001b[49m\u001b[43mnode\u001b[49m\u001b[38;5;241;43m=\u001b[39;49m\u001b[43mnode\u001b[49m\u001b[43m,\u001b[49m\n\u001b[1;32m   1261\u001b[0m \u001b[43m        \u001b[49m\u001b[43mport\u001b[49m\u001b[38;5;241;43m=\u001b[39;49m\u001b[43mport\u001b[49m\u001b[43m,\u001b[49m\n\u001b[1;32m   1262\u001b[0m \u001b[43m        \u001b[49m\u001b[43mvld_forward_proxy\u001b[49m\u001b[38;5;241;43m=\u001b[39;49m\u001b[43mvld_forward_proxy\u001b[49m\u001b[43m,\u001b[49m\n\u001b[1;32m   1263\u001b[0m \u001b[43m        \u001b[49m\u001b[43mvld_reverse_proxy\u001b[49m\u001b[38;5;241;43m=\u001b[39;49m\u001b[43mvld_reverse_proxy\u001b[49m\u001b[43m,\u001b[49m\n\u001b[1;32m   1264\u001b[0m \u001b[43m        \u001b[49m\u001b[43mvld_key\u001b[49m\u001b[38;5;241;43m=\u001b[39;49m\u001b[43mvld_key\u001b[49m\u001b[43m,\u001b[49m\n\u001b[1;32m   1265\u001b[0m \u001b[43m    \u001b[49m\u001b[43m)\u001b[49m\n\u001b[1;32m   1267\u001b[0m     \u001b[38;5;28;01mif\u001b[39;00m \u001b[38;5;28misinstance\u001b[39m(_client, SyftError):\n\u001b[1;32m   1268\u001b[0m         \u001b[38;5;28;01mreturn\u001b[39;00m _client\n",
      "File \u001b[0;32m~/Desktop/projects/PySyft/packages/syft/src/syft/client/client.py:1181\u001b[0m, in \u001b[0;36mconnect\u001b[0;34m(url, node, port, vld_forward_proxy, vld_reverse_proxy, vld_key)\u001b[0m\n\u001b[1;32m   1178\u001b[0m         url\u001b[38;5;241m.\u001b[39mset_port(\u001b[38;5;28mint\u001b[39m(port))\n\u001b[1;32m   1179\u001b[0m     connection \u001b[38;5;241m=\u001b[39m HTTPConnection(url\u001b[38;5;241m=\u001b[39murl)\n\u001b[0;32m-> 1181\u001b[0m client_type \u001b[38;5;241m=\u001b[39m \u001b[43mconnection\u001b[49m\u001b[38;5;241;43m.\u001b[39;49m\u001b[43mget_client_type\u001b[49m\u001b[43m(\u001b[49m\u001b[43m)\u001b[49m\n\u001b[1;32m   1183\u001b[0m \u001b[38;5;28;01mif\u001b[39;00m \u001b[38;5;28misinstance\u001b[39m(client_type, SyftError):\n\u001b[1;32m   1184\u001b[0m     \u001b[38;5;28;01mreturn\u001b[39;00m client_type\n",
      "File \u001b[0;32m~/Desktop/projects/PySyft/packages/syft/src/syft/client/client.py:322\u001b[0m, in \u001b[0;36mHTTPConnection.get_client_type\u001b[0;34m(self)\u001b[0m\n\u001b[1;32m    319\u001b[0m \u001b[38;5;28;01mfrom\u001b[39;00m \u001b[38;5;21;01m.\u001b[39;00m\u001b[38;5;21;01menclave_client\u001b[39;00m \u001b[38;5;28;01mimport\u001b[39;00m EnclaveClient\n\u001b[1;32m    320\u001b[0m \u001b[38;5;28;01mfrom\u001b[39;00m \u001b[38;5;21;01m.\u001b[39;00m\u001b[38;5;21;01mgateway_client\u001b[39;00m \u001b[38;5;28;01mimport\u001b[39;00m GatewayClient\n\u001b[0;32m--> 322\u001b[0m metadata \u001b[38;5;241m=\u001b[39m \u001b[38;5;28;43mself\u001b[39;49m\u001b[38;5;241;43m.\u001b[39;49m\u001b[43mget_node_metadata\u001b[49m\u001b[43m(\u001b[49m\u001b[43mcredentials\u001b[49m\u001b[38;5;241;43m=\u001b[39;49m\u001b[43mSyftSigningKey\u001b[49m\u001b[38;5;241;43m.\u001b[39;49m\u001b[43mgenerate\u001b[49m\u001b[43m(\u001b[49m\u001b[43m)\u001b[49m\u001b[43m)\u001b[49m\n\u001b[1;32m    323\u001b[0m \u001b[38;5;28;01mif\u001b[39;00m metadata\u001b[38;5;241m.\u001b[39mnode_type \u001b[38;5;241m==\u001b[39m NodeType\u001b[38;5;241m.\u001b[39mDOMAIN\u001b[38;5;241m.\u001b[39mvalue:\n\u001b[1;32m    324\u001b[0m     \u001b[38;5;28;01mreturn\u001b[39;00m DomainClient\n",
      "File \u001b[0;32m~/Desktop/projects/PySyft/packages/syft/src/syft/client/client.py:224\u001b[0m, in \u001b[0;36mHTTPConnection.get_node_metadata\u001b[0;34m(self, credentials)\u001b[0m\n\u001b[1;32m    222\u001b[0m     \u001b[38;5;28;01mreturn\u001b[39;00m response\n\u001b[1;32m    223\u001b[0m \u001b[38;5;28;01melse\u001b[39;00m:\n\u001b[0;32m--> 224\u001b[0m     response \u001b[38;5;241m=\u001b[39m \u001b[38;5;28;43mself\u001b[39;49m\u001b[38;5;241;43m.\u001b[39;49m\u001b[43m_make_get\u001b[49m\u001b[43m(\u001b[49m\u001b[38;5;28;43mself\u001b[39;49m\u001b[38;5;241;43m.\u001b[39;49m\u001b[43mroutes\u001b[49m\u001b[38;5;241;43m.\u001b[39;49m\u001b[43mROUTE_METADATA\u001b[49m\u001b[38;5;241;43m.\u001b[39;49m\u001b[43mvalue\u001b[49m\u001b[43m)\u001b[49m\n\u001b[1;32m    225\u001b[0m     metadata_json \u001b[38;5;241m=\u001b[39m json\u001b[38;5;241m.\u001b[39mloads(response)\n\u001b[1;32m    226\u001b[0m     \u001b[38;5;28;01mreturn\u001b[39;00m NodeMetadataJSON(\u001b[38;5;241m*\u001b[39m\u001b[38;5;241m*\u001b[39mmetadata_json)\n",
      "File \u001b[0;32m~/Desktop/projects/PySyft/packages/syft/src/syft/client/client.py:185\u001b[0m, in \u001b[0;36mHTTPConnection._make_get\u001b[0;34m(self, path, params)\u001b[0m\n\u001b[1;32m    181\u001b[0m response \u001b[38;5;241m=\u001b[39m \u001b[38;5;28mself\u001b[39m\u001b[38;5;241m.\u001b[39msession\u001b[38;5;241m.\u001b[39mget(\n\u001b[1;32m    182\u001b[0m     \u001b[38;5;28mstr\u001b[39m(url), verify\u001b[38;5;241m=\u001b[39mverify_tls(), proxies\u001b[38;5;241m=\u001b[39m{}, params\u001b[38;5;241m=\u001b[39mparams\n\u001b[1;32m    183\u001b[0m )\n\u001b[1;32m    184\u001b[0m \u001b[38;5;28;01mif\u001b[39;00m response\u001b[38;5;241m.\u001b[39mstatus_code \u001b[38;5;241m!=\u001b[39m \u001b[38;5;241m200\u001b[39m:\n\u001b[0;32m--> 185\u001b[0m     \u001b[38;5;28;01mraise\u001b[39;00m requests\u001b[38;5;241m.\u001b[39mConnectionError(\n\u001b[1;32m    186\u001b[0m         \u001b[38;5;124mf\u001b[39m\u001b[38;5;124m\"\u001b[39m\u001b[38;5;124mFailed to fetch \u001b[39m\u001b[38;5;132;01m{\u001b[39;00murl\u001b[38;5;132;01m}\u001b[39;00m\u001b[38;5;124m. Response returned with code \u001b[39m\u001b[38;5;132;01m{\u001b[39;00mresponse\u001b[38;5;241m.\u001b[39mstatus_code\u001b[38;5;132;01m}\u001b[39;00m\u001b[38;5;124m\"\u001b[39m\n\u001b[1;32m    187\u001b[0m     )\n\u001b[1;32m    189\u001b[0m \u001b[38;5;66;03m# upgrade to tls if available\u001b[39;00m\n\u001b[1;32m    190\u001b[0m \u001b[38;5;28mself\u001b[39m\u001b[38;5;241m.\u001b[39murl \u001b[38;5;241m=\u001b[39m upgrade_tls(\u001b[38;5;28mself\u001b[39m\u001b[38;5;241m.\u001b[39murl, response)\n",
      "\u001b[0;31mConnectionError\u001b[0m: Failed to fetch http://localhost:9082/api/v2/metadata. Response returned with code 404"
     ]
    }
   ],
   "source": [
    "domain_client1: DomainClient = sy.login(\n",
    "    port=9082, email=\"info@openmined.org\", password=\"changethis\"\n",
    ")"
   ]
  },
  {
   "cell_type": "code",
   "execution_count": 6,
   "id": "096eeb49-5d13-4517-8166-0e373fd8450c",
   "metadata": {},
   "outputs": [],
   "source": [
    "res = domain_client1.connect_to_gateway(gateway_client)"
   ]
  },
  {
   "cell_type": "code",
   "execution_count": 7,
   "id": "4b01e9f4-8800-4b11-aee4-9002b649757f",
   "metadata": {},
   "outputs": [
    {
     "data": {
      "text/html": [
       "<div class=\"alert-success\" style=\"padding:5px;\"><strong>SyftSuccess</strong>: Connected domain to mynode gateway</div><br />"
      ],
      "text/plain": [
       "SyftSuccess: Connected domain to mynode gateway"
      ]
     },
     "execution_count": 7,
     "metadata": {},
     "output_type": "execute_result"
    }
   ],
   "source": [
    "res"
   ]
  },
  {
   "cell_type": "code",
   "execution_count": 9,
   "id": "66ecd8e4-8c74-4a72-aa49-cbaa02855ea4",
   "metadata": {},
   "outputs": [],
   "source": [
    "input_data = np.array([1, 2, 3])\n",
    "mock_data = np.array([4, 5, 6])\n",
    "\n",
    "asset_name = \"asset_1\"\n",
    "asset = sy.Asset(name=asset_name, data=input_data, mock=mock_data)\n",
    "dataset_name = \"dataset_1\"\n",
    "dataset = sy.Dataset(name=dataset_name, asset_list=[asset])"
   ]
  },
  {
   "cell_type": "code",
   "execution_count": 10,
   "id": "3e854234-916e-4755-80d3-15788538a9cd",
   "metadata": {},
   "outputs": [
    {
     "name": "stderr",
     "output_type": "stream",
     "text": [
      "  0%|                                                                                                 | 0/1 [00:00<?, ?it/s]"
     ]
    },
    {
     "name": "stdout",
     "output_type": "stream",
     "text": [
      "Uploading: asset_1\n"
     ]
    },
    {
     "name": "stderr",
     "output_type": "stream",
     "text": [
      "\n",
      "Uploading progress: 100%|█████████████████████████████████████████████████████████████████████| 1/1 [00:00<00:00,  4.83it/s]\u001b[A\n",
      "100%|█████████████████████████████████████████████████████████████████████████████████████████| 1/1 [00:00<00:00,  1.42it/s]\n"
     ]
    }
   ],
   "source": [
    "dataset_res = domain_client1.upload_dataset(dataset)"
   ]
  },
  {
   "cell_type": "code",
   "execution_count": 11,
   "id": "5af9183e-c094-466a-9bdf-d75345c838a9",
   "metadata": {},
   "outputs": [
    {
     "data": {
      "text/html": [
       "<div class=\"alert-success\" style=\"padding:5px;\"><strong>SyftSuccess</strong>: Dataset uploaded to 'mynode'. To see the datasets uploaded by a client on this node, use command `[your_client].datasets`</div><br />"
      ],
      "text/plain": [
       "SyftSuccess: Dataset uploaded to 'mynode'. To see the datasets uploaded by a client on this node, use command `[your_client].datasets`"
      ]
     },
     "execution_count": 11,
     "metadata": {},
     "output_type": "execute_result"
    }
   ],
   "source": [
    "dataset_res"
   ]
  },
  {
   "cell_type": "code",
   "execution_count": null,
   "id": "ba47a22c-6701-4514-92b6-fa80f61de008",
   "metadata": {},
   "outputs": [],
   "source": []
  }
 ],
 "metadata": {
  "kernelspec": {
   "display_name": "Python 3 (ipykernel)",
   "language": "python",
   "name": "python3"
  },
  "language_info": {
   "codemirror_mode": {
    "name": "ipython",
    "version": 3
   },
   "file_extension": ".py",
   "mimetype": "text/x-python",
   "name": "python",
   "nbconvert_exporter": "python",
   "pygments_lexer": "ipython3",
   "version": "3.12.2"
  }
 },
 "nbformat": 4,
 "nbformat_minor": 5
}
