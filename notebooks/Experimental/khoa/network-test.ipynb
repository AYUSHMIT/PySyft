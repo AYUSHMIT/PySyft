{
 "cells": [
  {
   "cell_type": "code",
   "execution_count": 1,
   "id": "a53bd386",
   "metadata": {},
   "outputs": [
    {
     "name": "stdout",
     "output_type": "stream",
     "text": [
      "hagrid.__version__ = '0.3.112'\n",
      "sy.__version__ = '0.8.5-beta.10'\n"
     ]
    }
   ],
   "source": [
    "# third party\n",
    "import hagrid\n",
    "import numpy as np\n",
    "\n",
    "# syft absolute\n",
    "import syft as sy\n",
    "from syft.client.domain_client import DomainClient\n",
    "from syft.client.gateway_client import GatewayClient\n",
    "\n",
    "print(f\"{hagrid.__version__ = }\")\n",
    "print(f\"{sy.__version__ = }\")"
   ]
  },
  {
   "cell_type": "markdown",
   "id": "c9bd9b08",
   "metadata": {},
   "source": [
    "## 0. Launching Nodes"
   ]
  },
  {
   "cell_type": "markdown",
   "id": "ed24c814",
   "metadata": {
    "jp-MarkdownHeadingCollapsed": true
   },
   "source": [
    "### Docker Nodes (Deprecated)"
   ]
  },
  {
   "cell_type": "markdown",
   "id": "9d52d5bc",
   "metadata": {},
   "source": [
    "```bash\n",
    "bash -c '\\\n",
    "    hagrid launch test-gateway-1 gateway to docker:9081 --no-health-checks --verbose --no-warnings --build --dev\n",
    "    hagrid launch test-domain-1 domain to docker:9091 --verbose --enable-signup --no-warnings --no-health-checks --build --dev\n",
    "    hagrid launch test-domain-2 domain to docker:9092 --verbose --enable-signup --no-warnings --no-health-checks --build --dev'\n",
    "```"
   ]
  },
  {
   "cell_type": "markdown",
   "id": "e79a979f",
   "metadata": {},
   "source": [
    "### K8s Nodes"
   ]
  },
  {
   "cell_type": "markdown",
   "id": "4ab4ef70",
   "metadata": {
    "jp-MarkdownHeadingCollapsed": true
   },
   "source": [
    "\n",
    "#### Deleting existing nodes\n",
    "```bash\n",
    "bash -c '\\\n",
    "    CLUSTER_NAME=testgateway1 tox -e dev.k8s.destroy || true && \\\n",
    "    CLUSTER_NAME=testdomain1 tox -e dev.k8s.destroy || true && \\\n",
    "    CLUSTER_NAME=testdomain2 tox -e dev.k8s.destroy || true'\n",
    "```\n",
    "\n",
    "\n",
    "#### Launch a Gateway Node\n",
    "\n",
    "```bash\n",
    "bash -c '\\\n",
    "    export CLUSTER_NAME=testgateway1 CLUSTER_HTTP_PORT=9081 DEVSPACE_PROFILE=gateway && \\\n",
    "    tox -e dev.k8s.start && \\\n",
    "    tox -e dev.k8s.hotreload'\n",
    "```\n",
    "\n",
    "#### Launch 2 Domain Nodes\n",
    "```bash\n",
    "bash -c '\\\n",
    "    export CLUSTER_NAME=testdomain1 CLUSTER_HTTP_PORT=9091 && \\\n",
    "    tox -e dev.k8s.start && \\\n",
    "    tox -e dev.k8s.hotreload'\n",
    "```\n",
    "\n",
    "```bash\n",
    "bash -c '\\\n",
    "    export CLUSTER_NAME=testdomain2 CLUSTER_HTTP_PORT=9092 && \\\n",
    "    tox -e dev.k8s.start && \\\n",
    "    tox -e dev.k8s.hotreload'\n",
    "```"
   ]
  },
  {
   "cell_type": "markdown",
   "id": "f45a7e64",
   "metadata": {
    "jp-MarkdownHeadingCollapsed": true
   },
   "source": [
    "### Web Server Nodes"
   ]
  },
  {
   "cell_type": "code",
   "execution_count": null,
   "id": "ceec52e5",
   "metadata": {},
   "outputs": [],
   "source": [
    "gateway_node = sy.Orchestra.launch(\n",
    "    name=\"testgateway1\",\n",
    "    node_type=sy.NodeType.GATEWAY,\n",
    "    dev_mode=True,\n",
    "    reset=True,\n",
    "    port=9081,\n",
    ")"
   ]
  },
  {
   "cell_type": "code",
   "execution_count": null,
   "id": "b8366b8b",
   "metadata": {},
   "outputs": [],
   "source": [
    "domain_node1 = sy.Orchestra.launch(\n",
    "    name=\"testdomain1\",\n",
    "    node_type=sy.NodeType.DOMAIN,\n",
    "    dev_mode=True,\n",
    "    reset=True,\n",
    "    port=9091,\n",
    ")\n",
    "domain_node2 = sy.Orchestra.launch(\n",
    "    name=\"testgateway1\",\n",
    "    node_type=sy.NodeType.DOMAIN,\n",
    "    dev_mode=True,\n",
    "    reset=True,\n",
    "    port=9092,\n",
    ")"
   ]
  },
  {
   "cell_type": "code",
   "execution_count": null,
   "id": "cb7ef8a4",
   "metadata": {},
   "outputs": [],
   "source": [
    "sy.gateways"
   ]
  },
  {
   "cell_type": "code",
   "execution_count": null,
   "id": "e9e72b7d",
   "metadata": {},
   "outputs": [],
   "source": [
    "sy.gateways.all_networks"
   ]
  },
  {
   "cell_type": "markdown",
   "id": "a11bb645",
   "metadata": {},
   "source": [
    "### Check nodes health"
   ]
  },
  {
   "cell_type": "code",
   "execution_count": 2,
   "id": "2f513122",
   "metadata": {},
   "outputs": [
    {
     "data": {
      "text/html": [
       "<pre style=\"white-space:pre;overflow-x:auto;line-height:normal;font-family:Menlo,'DejaVu Sans Mono',consolas,'Courier New',monospace\">┏━━━━━━━━━━━┳━━━━━━━━━━━━━━━━━━━━━━━━━━━━━━━━━━━━━━━━━━━┳━━━━┓\n",
       "┃<span style=\"font-weight: bold\"> PyGrid    </span>┃<span style=\"font-weight: bold\"> Info                                      </span>┃<span style=\"font-weight: bold\">    </span>┃\n",
       "┡━━━━━━━━━━━╇━━━━━━━━━━━━━━━━━━━━━━━━━━━━━━━━━━━━━━━━━━━╇━━━━┩\n",
       "│<span style=\"color: #800080; text-decoration-color: #800080\"> UI (βeta) </span>│ http://localhost:9081/login               │ ✅ │\n",
       "│<span style=\"color: #800080; text-decoration-color: #800080\"> api       </span>│ http://localhost:9081/api/v2/openapi.json │ ✅ │\n",
       "└───────────┴───────────────────────────────────────────┴────┘\n",
       "</pre>\n"
      ],
      "text/plain": [
       "┏━━━━━━━━━━━┳━━━━━━━━━━━━━━━━━━━━━━━━━━━━━━━━━━━━━━━━━━━┳━━━━┓\n",
       "┃\u001b[1m \u001b[0m\u001b[1mPyGrid   \u001b[0m\u001b[1m \u001b[0m┃\u001b[1m \u001b[0m\u001b[1mInfo                                     \u001b[0m\u001b[1m \u001b[0m┃\u001b[1m \u001b[0m\u001b[1m  \u001b[0m\u001b[1m \u001b[0m┃\n",
       "┡━━━━━━━━━━━╇━━━━━━━━━━━━━━━━━━━━━━━━━━━━━━━━━━━━━━━━━━━╇━━━━┩\n",
       "│\u001b[35m \u001b[0m\u001b[35mUI (βeta)\u001b[0m\u001b[35m \u001b[0m│ http://localhost:9081/login               │ ✅ │\n",
       "│\u001b[35m \u001b[0m\u001b[35mapi      \u001b[0m\u001b[35m \u001b[0m│ http://localhost:9081/api/v2/openapi.json │ ✅ │\n",
       "└───────────┴───────────────────────────────────────────┴────┘\n"
      ]
     },
     "metadata": {},
     "output_type": "display_data"
    }
   ],
   "source": [
    "hagrid.check(\"localhost:9081\", timeout=120)"
   ]
  },
  {
   "cell_type": "code",
   "execution_count": null,
   "id": "6b938792",
   "metadata": {
    "scrolled": true
   },
   "outputs": [],
   "source": [
    "hagrid.check(\"localhost:9091\", timeout=120)"
   ]
  },
  {
   "cell_type": "code",
   "execution_count": null,
   "id": "807ee7b2",
   "metadata": {},
   "outputs": [],
   "source": [
    "hagrid.check(\"localhost:9092\", timeout=120)"
   ]
  },
  {
   "cell_type": "markdown",
   "id": "99bf6611-b6b3-4a7e-8b45-4213d4b2b354",
   "metadata": {},
   "source": [
    "### Check gateways and domains registry"
   ]
  },
  {
   "cell_type": "code",
   "execution_count": null,
   "id": "3c231e1b",
   "metadata": {},
   "outputs": [],
   "source": [
    "sy.gateways"
   ]
  },
  {
   "cell_type": "code",
   "execution_count": null,
   "id": "5f8586e7",
   "metadata": {},
   "outputs": [],
   "source": [
    "sy.domains"
   ]
  },
  {
   "cell_type": "code",
   "execution_count": null,
   "id": "2b7102df-4383-4350-b170-35f291ec96d9",
   "metadata": {},
   "outputs": [],
   "source": [
    "sy.search(\"dataset_1\")"
   ]
  },
  {
   "cell_type": "markdown",
   "id": "8004f69a-f8bf-4879-acbb-098155dcb7ff",
   "metadata": {},
   "source": [
    "## 1. Login to the Gateway Node"
   ]
  },
  {
   "cell_type": "code",
   "execution_count": null,
   "id": "1218b69b-bdb1-4041-8196-fbacc08fa3e0",
   "metadata": {},
   "outputs": [],
   "source": [
    "gateway_client: GatewayClient = sy.login(\n",
    "    port=9081, email=\"info@openmined.org\", password=\"changethis\"\n",
    ")"
   ]
  },
  {
   "cell_type": "code",
   "execution_count": null,
   "id": "bf8c0afd",
   "metadata": {},
   "outputs": [],
   "source": [
    "gateway_client.peers"
   ]
  },
  {
   "cell_type": "markdown",
   "id": "e046db4b-4a4f-4a91-a76b-bd9f7034e85b",
   "metadata": {},
   "source": [
    "## 2. Login to the domain nodes, connecting to gateways, upload a dataset, create some data scientist accounts"
   ]
  },
  {
   "cell_type": "code",
   "execution_count": null,
   "id": "4d100af1-ec6d-4b38-a616-513bbda3f6da",
   "metadata": {},
   "outputs": [],
   "source": [
    "domain_client1: DomainClient = sy.login(\n",
    "    port=9091, email=\"info@openmined.org\", password=\"changethis\"\n",
    ")\n",
    "domain_client2: DomainClient = sy.login(\n",
    "    port=9092, email=\"info@openmined.org\", password=\"changethis\"\n",
    ")"
   ]
  },
  {
   "cell_type": "code",
   "execution_count": null,
   "id": "d4a4efbc-ddbf-476f-bf8a-90ba8a44640a",
   "metadata": {},
   "outputs": [],
   "source": [
    "res = domain_client1.connect_to_gateway(gateway_client)\n",
    "print(res)\n",
    "res = domain_client2.connect_to_gateway(gateway_client)\n",
    "res"
   ]
  },
  {
   "cell_type": "code",
   "execution_count": null,
   "id": "67977477-0a15-43b7-95ec-634d92c2cf60",
   "metadata": {},
   "outputs": [],
   "source": [
    "sy.gateways"
   ]
  },
  {
   "cell_type": "markdown",
   "id": "a1abb41b-543b-4b2d-ba72-5fe1c2972f16",
   "metadata": {},
   "source": [
    "### Domain clients upload some datasets"
   ]
  },
  {
   "cell_type": "code",
   "execution_count": null,
   "id": "2f9ea8fd-8dcc-4c69-886d-a37e68a8252d",
   "metadata": {
    "scrolled": true
   },
   "outputs": [],
   "source": [
    "input_data = np.array([1, 2, 3])\n",
    "mock_data = np.array([4, 5, 6])\n",
    "\n",
    "asset_name = \"asset_1\"\n",
    "asset = sy.Asset(name=asset_name, data=input_data, mock=mock_data)\n",
    "dataset_name = \"dataset_1\"\n",
    "dataset = sy.Dataset(name=dataset_name, asset_list=[asset])\n",
    "\n",
    "dataset_res = domain_client1.upload_dataset(dataset)\n",
    "dataset_res"
   ]
  },
  {
   "cell_type": "code",
   "execution_count": null,
   "id": "6c3f2df2-fae9-4a51-a5eb-723a2e67d311",
   "metadata": {},
   "outputs": [],
   "source": [
    "input_data = np.array([7, 8, 9])\n",
    "mock_data = np.array([10, 11, 12])\n",
    "\n",
    "asset_name = \"asset_2\"\n",
    "asset = sy.Asset(name=asset_name, data=input_data, mock=mock_data)\n",
    "dataset_name = \"dataset_2\"\n",
    "dataset = sy.Dataset(name=dataset_name, asset_list=[asset])\n",
    "\n",
    "dataset_res = domain_client2.upload_dataset(dataset)\n",
    "dataset_res"
   ]
  },
  {
   "cell_type": "markdown",
   "id": "6b5a2dfe-9739-48c3-a72c-9ee956d30eb2",
   "metadata": {},
   "source": [
    "### Test `sy.search` for datasets across domains"
   ]
  },
  {
   "cell_type": "code",
   "execution_count": null,
   "id": "e367ae8e-ffb1-465d-8a30-2b36a2465f83",
   "metadata": {},
   "outputs": [],
   "source": [
    "sy.search(name=\"dataset_1\")"
   ]
  },
  {
   "cell_type": "markdown",
   "id": "d75b602f-645a-4e68-b4ec-6daca98ad7f3",
   "metadata": {},
   "source": [
    "### Domain clients create some DS accounts"
   ]
  },
  {
   "cell_type": "code",
   "execution_count": null,
   "id": "301dfebf-f832-4a0d-b660-665759416965",
   "metadata": {},
   "outputs": [],
   "source": [
    "domain_client1.register(\n",
    "    name=\"data-scientist-1\",\n",
    "    email=\"test_user1@openmined.org\",\n",
    "    password=\"0000\",\n",
    "    password_verify=\"0000\",\n",
    ")\n",
    "ds_client1 = sy.login(email=\"test_user1@openmined.org\", password=\"0000\", port=9091)\n",
    "ds_client1"
   ]
  },
  {
   "cell_type": "code",
   "execution_count": null,
   "id": "d07fc7ac-7433-4d8e-a9ea-172de3f8b79b",
   "metadata": {},
   "outputs": [],
   "source": [
    "domain_client2.register(\n",
    "    name=\"data-scientist-2\",\n",
    "    email=\"test_user2@openmined.org\",\n",
    "    password=\"0000\",\n",
    "    password_verify=\"0000\",\n",
    ")\n",
    "ds_client2 = sy.login(email=\"test_user2@openmined.org\", password=\"0000\", port=9092)\n",
    "ds_client2"
   ]
  },
  {
   "cell_type": "code",
   "execution_count": null,
   "id": "bc53a853-3bc5-4a12-bce2-e586f948c03d",
   "metadata": {},
   "outputs": [],
   "source": [
    "domain_client1.datasets[0].assets[0]"
   ]
  },
  {
   "cell_type": "code",
   "execution_count": null,
   "id": "322e6411-5add-4bf6-a979-193e2707a783",
   "metadata": {},
   "outputs": [],
   "source": [
    "ds_client2.datasets[0].assets[0]"
   ]
  },
  {
   "cell_type": "markdown",
   "id": "581573e1-e2b9-4c4a-a01b-4138262a1c85",
   "metadata": {},
   "source": [
    "## 3. Test Proxy Clients"
   ]
  },
  {
   "cell_type": "code",
   "execution_count": null,
   "id": "535561b9-ed45-484e-83ed-ec82ac61576c",
   "metadata": {},
   "outputs": [],
   "source": [
    "proxy_domain_client1 = gateway_client.peers[0]\n",
    "proxy_domain_client1"
   ]
  },
  {
   "cell_type": "code",
   "execution_count": null,
   "id": "92e5648d",
   "metadata": {},
   "outputs": [],
   "source": [
    "proxy_domain_client2 = gateway_client.peers[1]"
   ]
  },
  {
   "cell_type": "code",
   "execution_count": null,
   "id": "6a1e0c7c-d9af-45cf-8b33-633199510a93",
   "metadata": {},
   "outputs": [],
   "source": [
    "type(proxy_domain_client1)"
   ]
  },
  {
   "cell_type": "code",
   "execution_count": null,
   "id": "ed0d3f87",
   "metadata": {},
   "outputs": [],
   "source": [
    "proxy_domain_client1.datasets[0].assets[0]"
   ]
  },
  {
   "cell_type": "code",
   "execution_count": null,
   "id": "b7cdd25f-35ef-49fc-a24b-d2826b59b964",
   "metadata": {},
   "outputs": [],
   "source": [
    "proxy_ds1 = proxy_domain_client1.login(\n",
    "    email=\"test_user1@openmined.org\",\n",
    "    password=\"0000\",\n",
    ")"
   ]
  },
  {
   "cell_type": "code",
   "execution_count": null,
   "id": "bd2a2429",
   "metadata": {},
   "outputs": [],
   "source": [
    "proxy_ds1.datasets[0].assets[0]"
   ]
  },
  {
   "cell_type": "code",
   "execution_count": null,
   "id": "df0c7ef2-3c28-4b58-a7c6-6f6b94566cdb",
   "metadata": {},
   "outputs": [],
   "source": [
    "proxy_domain_client1.connection.proxy_target_uid"
   ]
  },
  {
   "cell_type": "code",
   "execution_count": null,
   "id": "75024a38-cb42-420a-b2ce-de35e22c7468",
   "metadata": {},
   "outputs": [],
   "source": [
    "domain_client1.datasets[1].assets[0]"
   ]
  },
  {
   "cell_type": "code",
   "execution_count": null,
   "id": "d834a040-df28-4ac6-8c06-201e8d8bf533",
   "metadata": {},
   "outputs": [],
   "source": [
    "ds_client2.datasets[0].assets[0].data"
   ]
  },
  {
   "cell_type": "markdown",
   "id": "5f740b7c-128d-4608-8219-a736eef17582",
   "metadata": {},
   "source": [
    "## 4. Remote Code Execution"
   ]
  },
  {
   "cell_type": "code",
   "execution_count": null,
   "id": "763800ba-1723-4e69-afe3-c656b2a3ec54",
   "metadata": {},
   "outputs": [],
   "source": [
    "asset = proxy_ds1.datasets[0].assets[0]\n",
    "\n",
    "\n",
    "@sy.syft_function_single_use(asset=asset)\n",
    "def test_function(asset):\n",
    "    return asset + 1"
   ]
  },
  {
   "cell_type": "code",
   "execution_count": null,
   "id": "8e643fd3-f730-44b2-8381-ee51ef3ca49e",
   "metadata": {},
   "outputs": [],
   "source": [
    "test_function(ds_client1.datasets[0].assets[0])"
   ]
  },
  {
   "cell_type": "code",
   "execution_count": null,
   "id": "f167795b-8031-4a1f-9ef9-d499be45a6a5",
   "metadata": {},
   "outputs": [],
   "source": [
    "proxy_domain_client1.code.submit(test_function)"
   ]
  },
  {
   "cell_type": "code",
   "execution_count": null,
   "id": "e47361a8-423d-4dd2-9850-9052a7695ee0",
   "metadata": {},
   "outputs": [],
   "source": [
    "domain_client1.code[0]"
   ]
  },
  {
   "cell_type": "code",
   "execution_count": null,
   "id": "232069f4-7e27-4fa6-b1f9-e44ada6a9abb",
   "metadata": {},
   "outputs": [],
   "source": [
    "z = proxy_domain_client1.code.get_all()"
   ]
  },
  {
   "cell_type": "code",
   "execution_count": null,
   "id": "36330a06-041d-4268-82d5-458803505fda",
   "metadata": {},
   "outputs": [],
   "source": [
    "z[0]"
   ]
  },
  {
   "cell_type": "code",
   "execution_count": null,
   "id": "caa6e5b8-1c73-4eb7-9e92-1507d17848bd",
   "metadata": {},
   "outputs": [],
   "source": [
    "proxy_ds2 = proxy_domain_client2.login(\n",
    "    email=\"test_user2@openmined.org\",\n",
    "    password=\"0000\",\n",
    ")"
   ]
  },
  {
   "cell_type": "code",
   "execution_count": null,
   "id": "6514cf23-aa4f-4102-bbd9-ce83e67a3ae9",
   "metadata": {},
   "outputs": [],
   "source": [
    "asset = proxy_ds1.datasets[0].assets[0]\n",
    "asset2 = proxy_ds2.datasets[0].assets[0]"
   ]
  },
  {
   "cell_type": "code",
   "execution_count": null,
   "id": "9d91ee66-6020-4bb0-bc39-5a50b8c66d44",
   "metadata": {},
   "outputs": [],
   "source": [
    "@sy.syft_function_single_use(asset=asset, asset2=asset2)\n",
    "def test_function_2(asset, asset2):\n",
    "    return (asset + 1, asset2 + 1)"
   ]
  },
  {
   "cell_type": "code",
   "execution_count": null,
   "id": "58d4259b-8d5d-4145-8f06-3ae6900967ab",
   "metadata": {},
   "outputs": [],
   "source": [
    "test_function_2(ds_client1.datasets[0].assets[0], ds_client2.datasets[0].assets[0])"
   ]
  },
  {
   "cell_type": "code",
   "execution_count": null,
   "id": "cd5b5eb7-568d-4474-877c-b488bdd4d468",
   "metadata": {},
   "outputs": [],
   "source": []
  },
  {
   "cell_type": "code",
   "execution_count": null,
   "id": "ff9e0664-5fe5-4f2b-9b28-b5620640b39b",
   "metadata": {},
   "outputs": [],
   "source": [
    "test_function_2.input_policy_init_kwargs.keys()"
   ]
  },
  {
   "cell_type": "code",
   "execution_count": null,
   "id": "a65bcdd6-8d64-4e4e-9668-4f490fd05756",
   "metadata": {},
   "outputs": [],
   "source": []
  },
  {
   "cell_type": "code",
   "execution_count": null,
   "id": "9cbb78e2-84f7-4640-b482-faaf8c7f3ae5",
   "metadata": {},
   "outputs": [],
   "source": [
    "proxy_domain_client1.code.submit(test_function_2)"
   ]
  },
  {
   "cell_type": "code",
   "execution_count": null,
   "id": "db4e52bc-e8ff-4329-bf86-f6e7709ba03d",
   "metadata": {},
   "outputs": [],
   "source": [
    "request_res = proxy_domain_client1.code.request_code_execution(test_function_2)\n",
    "request_res"
   ]
  },
  {
   "cell_type": "code",
   "execution_count": null,
   "id": "5e49adf9-e3b8-486e-9530-bbaa4bbc9e22",
   "metadata": {},
   "outputs": [],
   "source": [
    "tf2 = domain_client1.code.get_all()[1]\n",
    "tf2"
   ]
  },
  {
   "cell_type": "code",
   "execution_count": null,
   "id": "6b60d8aa-6b6a-4b0a-86fc-54267baf2580",
   "metadata": {},
   "outputs": [],
   "source": [
    "tf2(domain_client1.datasets[1].assets[0], domain_client1.datasets[1].assets[0])"
   ]
  },
  {
   "cell_type": "code",
   "execution_count": null,
   "id": "9e328578-b3d9-474e-a914-ab8f3996c047",
   "metadata": {},
   "outputs": [],
   "source": [
    "domain_client1.code[1]("
   ]
  },
  {
   "cell_type": "code",
   "execution_count": null,
   "id": "cabebb21-88c3-4237-93ae-10acebc61219",
   "metadata": {},
   "outputs": [],
   "source": [
    "domain_client1.code[1].status"
   ]
  },
  {
   "cell_type": "code",
   "execution_count": null,
   "id": "e8a4b31e-5582-4425-9348-7f367865e99f",
   "metadata": {},
   "outputs": [],
   "source": [
    "gateway_client.domains"
   ]
  },
  {
   "cell_type": "code",
   "execution_count": null,
   "id": "d992cc92-aa48-4ad6-93b0-c6eb44769946",
   "metadata": {},
   "outputs": [],
   "source": [
    "zzz = gateway_client.domains[0]\n",
    "zzz.datasets"
   ]
  },
  {
   "cell_type": "code",
   "execution_count": null,
   "id": "ec32a62f-16b9-40c9-8287-1d95e7ef3bd4",
   "metadata": {},
   "outputs": [],
   "source": [
    "zzz2 = gateway_client.domains[1]\n",
    "zzz2.datasets"
   ]
  },
  {
   "cell_type": "markdown",
   "id": "d179cd59",
   "metadata": {},
   "source": [
    "## 5. Veilid Functionalities"
   ]
  },
  {
   "cell_type": "code",
   "execution_count": null,
   "id": "49395a00",
   "metadata": {},
   "outputs": [],
   "source": [
    "gateway_client.api.services.veilid.generate_dht_key()"
   ]
  },
  {
   "cell_type": "code",
   "execution_count": null,
   "id": "b12c0289",
   "metadata": {},
   "outputs": [],
   "source": [
    "domain_client1.api.services.veilid.generate_dht_key()"
   ]
  },
  {
   "cell_type": "code",
   "execution_count": null,
   "id": "288856c9",
   "metadata": {},
   "outputs": [],
   "source": [
    "domain_route = domain_client1.api.services.veilid.get_veilid_route()"
   ]
  },
  {
   "cell_type": "code",
   "execution_count": null,
   "id": "39859ac8",
   "metadata": {},
   "outputs": [],
   "source": [
    "domain_route"
   ]
  },
  {
   "cell_type": "code",
   "execution_count": null,
   "id": "9586324c",
   "metadata": {},
   "outputs": [],
   "source": [
    "gateway_route = gateway_client.api.services.veilid.get_veilid_route()\n",
    "gateway_route"
   ]
  },
  {
   "cell_type": "code",
   "execution_count": null,
   "id": "565379a5",
   "metadata": {},
   "outputs": [],
   "source": [
    "gateway_route.dht_key"
   ]
  },
  {
   "cell_type": "code",
   "execution_count": null,
   "id": "fcff7cd3",
   "metadata": {},
   "outputs": [],
   "source": [
    "domain_route.dht_key"
   ]
  },
  {
   "cell_type": "code",
   "execution_count": null,
   "id": "4440ec6b",
   "metadata": {},
   "outputs": [],
   "source": [
    "domain_client1.connect_to_gateway(gateway_client, protocol=\"veilid\")"
   ]
  }
 ],
 "metadata": {
  "kernelspec": {
   "display_name": "Python 3 (ipykernel)",
   "language": "python",
   "name": "python3"
  },
  "language_info": {
   "codemirror_mode": {
    "name": "ipython",
    "version": 3
   },
   "file_extension": ".py",
   "mimetype": "text/x-python",
   "name": "python",
   "nbconvert_exporter": "python",
   "pygments_lexer": "ipython3",
   "version": "3.12.2"
  }
 },
 "nbformat": 4,
 "nbformat_minor": 5
}
