{
 "cells": [
  {
   "cell_type": "markdown",
   "id": "5c44d76a-e869-4ef2-a623-90717a011969",
   "metadata": {},
   "source": [
    "## Messaging Feature"
   ]
  },
  {
   "cell_type": "code",
   "execution_count": 1,
   "id": "62fea8bf-5c0f-4c28-99e5-a2136c111080",
   "metadata": {
    "tags": []
   },
   "outputs": [
    {
     "name": "stdout",
     "output_type": "stream",
     "text": [
      "✅ The installed version of syft==0.8.1b2 matches the requirement >=0.8.1b0\n",
      "Autoreload enabled\n"
     ]
    }
   ],
   "source": [
    "import syft as sy\n",
    "sy.requires(\">=0.8.1-beta\")\n",
    "sy.enable_autoreload()\n",
    "\n",
    "# project imports\n",
    "from syft.service.project.project import NewProjectSubmit\n",
    "from syft.service.project.project import NewProject\n",
    "from syft.service.project.project import DemocraticConsensusModel"
   ]
  },
  {
   "cell_type": "code",
   "execution_count": 2,
   "id": "dac85613-b97c-4200-b0d5-e725857d2e0d",
   "metadata": {
    "tags": []
   },
   "outputs": [
    {
     "name": "stdout",
     "output_type": "stream",
     "text": [
      "SQLite Store Path:\n",
      "!open file:///var/folders/lt/vttt10qd5fz4flpv9y1d55l40000gn/T/3bc51062973c458d5a6f2d8d64a02324.sqlite\n",
      "\n",
      "SQLite Store Path:\n",
      "!open file:///var/folders/lt/vttt10qd5fz4flpv9y1d55l40000gn/T/cd9fb1e148ccd8442e5aa74904cc73bf.sqlite\n",
      "\n"
     ]
    }
   ],
   "source": [
    "alice_domain = sy.orchestra.launch(name=\"Alice\", dev_mode=True, reset=True)\n",
    "bob_domain = sy.orchestra.launch(name=\"Bob\", dev_mode=True, reset=True)"
   ]
  },
  {
   "cell_type": "code",
   "execution_count": 3,
   "id": "c9048301-942e-421b-ac83-78eb7657a4f5",
   "metadata": {
    "tags": []
   },
   "outputs": [],
   "source": [
    "alice_domain_client = alice_domain.login(email=\"info@openmined.org\", password=\"changethis\")\n",
    "bob_domain_client = bob_domain.login(email=\"info@openmined.org\", password=\"changethis\")"
   ]
  },
  {
   "cell_type": "code",
   "execution_count": 4,
   "id": "2df0af63-bf42-4f2b-b010-e0e1311e0dbd",
   "metadata": {
    "tags": []
   },
   "outputs": [
    {
     "data": {
      "text/html": [
       "<div class=\"alert-success\" style=\"padding:5px;\"><strong>SyftSuccess</strong>: User successfully registered!</div><br />"
      ],
      "text/plain": [
       "<class 'syft.service.response.SyftSuccess'>: User successfully registered!"
      ]
     },
     "execution_count": 4,
     "metadata": {},
     "output_type": "execute_result"
    }
   ],
   "source": [
    "alice_domain.client.register(email=\"sheldon@caltech.edu\", password=\"changethis\", name=\"Sheldon Cooper\")"
   ]
  },
  {
   "cell_type": "code",
   "execution_count": 5,
   "id": "1ef3bbf8-bf8f-4af4-9a7f-318163d31897",
   "metadata": {
    "tags": []
   },
   "outputs": [
    {
     "data": {
      "text/html": [
       "<div class=\"alert-success\" style=\"padding:5px;\"><strong>SyftSuccess</strong>: User successfully registered!</div><br />"
      ],
      "text/plain": [
       "<class 'syft.service.response.SyftSuccess'>: User successfully registered!"
      ]
     },
     "execution_count": 5,
     "metadata": {},
     "output_type": "execute_result"
    }
   ],
   "source": [
    "bob_domain.client.register(email=\"sheldon@caltech.edu\", password=\"changethis\", name=\"Sheldon Cooper\")"
   ]
  },
  {
   "cell_type": "code",
   "execution_count": 6,
   "id": "6d99600e-991b-480b-9879-8d2ec48fc332",
   "metadata": {
    "tags": []
   },
   "outputs": [],
   "source": [
    "alice_ds = alice_domain.login(email=\"sheldon@caltech.edu\", password=\"changethis\")\n",
    "bob_ds = bob_domain.login(email=\"sheldon@caltech.edu\", password=\"changethis\")"
   ]
  },
  {
   "cell_type": "code",
   "execution_count": 7,
   "id": "29f8b931-f0fd-4b17-bebc-795b71fa2e73",
   "metadata": {
    "tags": []
   },
   "outputs": [
    {
     "name": "stdout",
     "output_type": "stream",
     "text": [
      "\n",
      "Exchanging Routes 📡: Alice --- Bob ✅\n",
      "\n"
     ]
    },
    {
     "data": {
      "text/markdown": [
       "```python\n",
       "class NewProjectSubmit:\n",
       "  id: str = None\n",
       "  name: str = \"test project\"\n",
       "  description: str = \"my test project\"\n",
       "  shareholders: str = [<🔑 00768594 @ 🟢 3bc51062>, <🔑 71fbd53d @ 🟢 cd9fb1e1>]\n",
       "  project_permissions: str = set()\n",
       "  state_sync_leader: str = None\n",
       "  consensus_model: str = <syft.service.project.project.DemocraticConsensusModel object at 0x107b23c10>\n",
       "  leader_node_route: str = syft.service.network.routes.PythonNodeRoute\n",
       "  user_email_address: str = \"sheldon@caltech.edu\"\n",
       "  users: str = [<🔑 1c7cd38e @ 🟢 3bc51062>, <🔑 e9ca2ec7 @ 🟢 cd9fb1e1>]\n",
       "\n",
       "```"
      ],
      "text/plain": [
       "syft.service.project.project.NewProjectSubmit"
      ]
     },
     "execution_count": 7,
     "metadata": {},
     "output_type": "execute_result"
    }
   ],
   "source": [
    "project = NewProjectSubmit(\n",
    "    name=\"test project\",\n",
    "    description=\"my test project\",\n",
    "    shareholders=[alice_ds, bob_ds],\n",
    "    consensus_model=DemocraticConsensusModel(),\n",
    "    users=[alice_ds, bob_ds],\n",
    "    user_email_address=\"sheldon@caltech.edu\",\n",
    ")\n",
    "project"
   ]
  },
  {
   "cell_type": "code",
   "execution_count": 8,
   "id": "4cf7cfef-9a74-4646-975c-74324bd5e21a",
   "metadata": {
    "tags": []
   },
   "outputs": [
    {
     "data": {
      "text/html": [
       "List - Size: 2\n",
       "<div>\n",
       "<style scoped>\n",
       "    .dataframe tbody tr th:only-of-type {\n",
       "        vertical-align: middle;\n",
       "    }\n",
       "\n",
       "    .dataframe tbody tr th {\n",
       "        vertical-align: top;\n",
       "    }\n",
       "\n",
       "    .dataframe thead th {\n",
       "        text-align: right;\n",
       "    }\n",
       "</style>\n",
       "<table border=\"1\" class=\"dataframe\">\n",
       "  <thead>\n",
       "    <tr style=\"text-align: right;\">\n",
       "      <th></th>\n",
       "      <th>type</th>\n",
       "      <th>id</th>\n",
       "      <th>name</th>\n",
       "      <th>shareholders</th>\n",
       "      <th>state_sync_leader</th>\n",
       "    </tr>\n",
       "  </thead>\n",
       "  <tbody>\n",
       "    <tr>\n",
       "      <th>0</th>\n",
       "      <td>syft.service.project.project.NewProject</td>\n",
       "      <td>85f8105a6ba1414189621340640d0dd6</td>\n",
       "      <td>test project</td>\n",
       "      <td>[&lt;🔑 00768594 @ 🟢 3bc51062&gt;, &lt;🔑 71fbd53d @ 🟢 cd...</td>\n",
       "      <td>&lt;🔑 00768594 @ 🟢 3bc51062&gt;</td>\n",
       "    </tr>\n",
       "    <tr>\n",
       "      <th>1</th>\n",
       "      <td>syft.service.project.project.NewProject</td>\n",
       "      <td>85f8105a6ba1414189621340640d0dd6</td>\n",
       "      <td>test project</td>\n",
       "      <td>[&lt;🔑 00768594 @ 🟢 3bc51062&gt;, &lt;🔑 71fbd53d @ 🟢 cd...</td>\n",
       "      <td>&lt;🔑 00768594 @ 🟢 3bc51062&gt;</td>\n",
       "    </tr>\n",
       "  </tbody>\n",
       "</table>\n",
       "</div>"
      ],
      "text/plain": [
       "[syft.service.project.project.NewProject,\n",
       " syft.service.project.project.NewProject]"
      ]
     },
     "execution_count": 8,
     "metadata": {},
     "output_type": "execute_result"
    }
   ],
   "source": [
    "results = project.start()\n",
    "results"
   ]
  },
  {
   "cell_type": "markdown",
   "id": "5aba21b7-64c9-4ed1-b19e-d8367a104638",
   "metadata": {
    "tags": []
   },
   "source": [
    "## Retrieving project"
   ]
  },
  {
   "cell_type": "code",
   "execution_count": 9,
   "id": "16bab4ba-1145-442e-8ff7-2a9583a25bf0",
   "metadata": {
    "tags": []
   },
   "outputs": [
    {
     "data": {
      "text/html": [
       "List - Size: 1\n",
       "<div>\n",
       "<style scoped>\n",
       "    .dataframe tbody tr th:only-of-type {\n",
       "        vertical-align: middle;\n",
       "    }\n",
       "\n",
       "    .dataframe tbody tr th {\n",
       "        vertical-align: top;\n",
       "    }\n",
       "\n",
       "    .dataframe thead th {\n",
       "        text-align: right;\n",
       "    }\n",
       "</style>\n",
       "<table border=\"1\" class=\"dataframe\">\n",
       "  <thead>\n",
       "    <tr style=\"text-align: right;\">\n",
       "      <th></th>\n",
       "      <th>type</th>\n",
       "      <th>id</th>\n",
       "      <th>name</th>\n",
       "      <th>shareholders</th>\n",
       "      <th>state_sync_leader</th>\n",
       "    </tr>\n",
       "  </thead>\n",
       "  <tbody>\n",
       "    <tr>\n",
       "      <th>0</th>\n",
       "      <td>syft.service.project.project.NewProject</td>\n",
       "      <td>85f8105a6ba1414189621340640d0dd6</td>\n",
       "      <td>test project</td>\n",
       "      <td>[&lt;🔑 00768594 @ 🟢 3bc51062&gt;, &lt;🔑 71fbd53d @ 🟢 cd...</td>\n",
       "      <td>&lt;🔑 00768594 @ 🟢 3bc51062&gt;</td>\n",
       "    </tr>\n",
       "  </tbody>\n",
       "</table>\n",
       "</div>"
      ],
      "text/plain": [
       "[syft.service.project.project.NewProject]"
      ]
     },
     "execution_count": 9,
     "metadata": {},
     "output_type": "execute_result"
    }
   ],
   "source": [
    "alice_projects = alice_ds.api.services.newproject.get_all()\n",
    "alice_project = alice_projects[0]\n",
    "alice_projects"
   ]
  },
  {
   "cell_type": "code",
   "execution_count": 10,
   "id": "a81ef1ec-b5a1-4cac-a1c3-1082758f5265",
   "metadata": {
    "tags": []
   },
   "outputs": [
    {
     "data": {
      "text/html": [
       "List - Size: 1\n",
       "<div>\n",
       "<style scoped>\n",
       "    .dataframe tbody tr th:only-of-type {\n",
       "        vertical-align: middle;\n",
       "    }\n",
       "\n",
       "    .dataframe tbody tr th {\n",
       "        vertical-align: top;\n",
       "    }\n",
       "\n",
       "    .dataframe thead th {\n",
       "        text-align: right;\n",
       "    }\n",
       "</style>\n",
       "<table border=\"1\" class=\"dataframe\">\n",
       "  <thead>\n",
       "    <tr style=\"text-align: right;\">\n",
       "      <th></th>\n",
       "      <th>type</th>\n",
       "      <th>id</th>\n",
       "      <th>name</th>\n",
       "      <th>shareholders</th>\n",
       "      <th>state_sync_leader</th>\n",
       "    </tr>\n",
       "  </thead>\n",
       "  <tbody>\n",
       "    <tr>\n",
       "      <th>0</th>\n",
       "      <td>syft.service.project.project.NewProject</td>\n",
       "      <td>85f8105a6ba1414189621340640d0dd6</td>\n",
       "      <td>test project</td>\n",
       "      <td>[&lt;🔑 00768594 @ 🟢 3bc51062&gt;, &lt;🔑 71fbd53d @ 🟢 cd...</td>\n",
       "      <td>&lt;🔑 00768594 @ 🟢 3bc51062&gt;</td>\n",
       "    </tr>\n",
       "  </tbody>\n",
       "</table>\n",
       "</div>"
      ],
      "text/plain": [
       "[syft.service.project.project.NewProject]"
      ]
     },
     "execution_count": 10,
     "metadata": {},
     "output_type": "execute_result"
    }
   ],
   "source": [
    "bob_projects = bob_ds.api.services.newproject.get_all()\n",
    "bob_project = bob_projects[0]\n",
    "bob_projects"
   ]
  },
  {
   "cell_type": "code",
   "execution_count": 11,
   "id": "b0ae41c5-7a35-45ef-93c5-9405d9111abf",
   "metadata": {
    "tags": []
   },
   "outputs": [
    {
     "data": {
      "text/plain": [
       "'No messages'"
      ]
     },
     "execution_count": 11,
     "metadata": {},
     "output_type": "execute_result"
    }
   ],
   "source": [
    "alice_project.messages"
   ]
  },
  {
   "cell_type": "code",
   "execution_count": 12,
   "id": "d0e0f230-ecd4-435d-af28-e3d9b1bd4be2",
   "metadata": {
    "tags": []
   },
   "outputs": [
    {
     "data": {
      "text/plain": [
       "'No messages'"
      ]
     },
     "execution_count": 12,
     "metadata": {},
     "output_type": "execute_result"
    }
   ],
   "source": [
    "bob_project.messages"
   ]
  },
  {
   "cell_type": "code",
   "execution_count": 13,
   "id": "c01ddbf7-41ff-4910-8b05-1944b7e4cd16",
   "metadata": {
    "tags": []
   },
   "outputs": [
    {
     "data": {
      "text/html": [
       "<div class=\"alert-success\" style=\"padding:5px;\"><strong>SyftSuccess</strong>: Message sent successfully</div><br />"
      ],
      "text/plain": [
       "<class 'syft.service.response.SyftSuccess'>: Message sent successfully"
      ]
     },
     "execution_count": 13,
     "metadata": {},
     "output_type": "execute_result"
    }
   ],
   "source": [
    "alice_project.send_message(message=\"Hello Everyone 👋, I am Alice\")"
   ]
  },
  {
   "cell_type": "code",
   "execution_count": 14,
   "id": "5bd4631b-bcd5-4e95-bfc0-3bf7814f6fe9",
   "metadata": {
    "tags": []
   },
   "outputs": [
    {
     "name": "stdout",
     "output_type": "stream",
     "text": [
      "1c7cd38e: Hello Everyone 👋, I am Alice\n",
      "\n"
     ]
    }
   ],
   "source": [
    "print(alice_project.messages)"
   ]
  },
  {
   "cell_type": "code",
   "execution_count": 15,
   "id": "2168f4d9-c5e9-4e7f-93de-85b6feda7e61",
   "metadata": {
    "tags": []
   },
   "outputs": [
    {
     "data": {
      "text/html": [
       "<div class=\"alert-success\" style=\"padding:5px;\"><strong>SyftSuccess</strong>: Reply sent successfully</div><br />"
      ],
      "text/plain": [
       "<class 'syft.service.response.SyftSuccess'>: Reply sent successfully"
      ]
     },
     "execution_count": 15,
     "metadata": {},
     "output_type": "execute_result"
    }
   ],
   "source": [
    "alice_project.reply_message(reply=\"I am from Canada\", msg_id=alice_project.events[0].id)"
   ]
  },
  {
   "cell_type": "code",
   "execution_count": 16,
   "id": "13335e6b-566d-46b5-b7d0-7564d3a0c04f",
   "metadata": {
    "tags": []
   },
   "outputs": [
    {
     "name": "stdout",
     "output_type": "stream",
     "text": [
      "1c7cd38e: Hello Everyone 👋, I am Alice\n",
      "> 1c7cd38e: I am from Canada\n",
      "\n"
     ]
    }
   ],
   "source": [
    "print(alice_project.messages)"
   ]
  },
  {
   "cell_type": "code",
   "execution_count": 17,
   "id": "abd3caa9-f483-4ebc-bc62-8775c8c859c1",
   "metadata": {
    "tags": []
   },
   "outputs": [
    {
     "data": {
      "application/vnd.jupyter.widget-view+json": {
       "model_id": "7ee614f1d6e145d08b342acfd8916443",
       "version_major": 2,
       "version_minor": 0
      },
      "text/plain": [
       "Output()"
      ]
     },
     "metadata": {},
     "output_type": "display_data"
    },
    {
     "data": {
      "text/html": [
       "<pre style=\"white-space:pre;overflow-x:auto;line-height:normal;font-family:Menlo,'DejaVu Sans Mono',consolas,'Courier New',monospace\"></pre>\n"
      ],
      "text/plain": []
     },
     "metadata": {},
     "output_type": "display_data"
    },
    {
     "data": {
      "text/html": [
       "<pre style=\"white-space:pre;overflow-x:auto;line-height:normal;font-family:Menlo,'DejaVu Sans Mono',consolas,'Courier New',monospace\">\n",
       "</pre>\n"
      ],
      "text/plain": [
       "\n"
      ]
     },
     "metadata": {},
     "output_type": "display_data"
    },
    {
     "data": {
      "text/html": [
       "<div class=\"alert-success\" style=\"padding:5px;\"><strong>SyftSuccess</strong>: Synced project  with Leader</div><br />"
      ],
      "text/plain": [
       "<class 'syft.service.response.SyftSuccess'>: Synced project  with Leader"
      ]
     },
     "execution_count": 17,
     "metadata": {},
     "output_type": "execute_result"
    }
   ],
   "source": [
    "bob_project.sync()"
   ]
  },
  {
   "cell_type": "code",
   "execution_count": 18,
   "id": "49ce0b05-7365-494b-ab64-a820bc72a13e",
   "metadata": {
    "tags": []
   },
   "outputs": [
    {
     "name": "stdout",
     "output_type": "stream",
     "text": [
      "1c7cd38e: Hello Everyone 👋, I am Alice\n",
      "> 1c7cd38e: I am from Canada\n",
      "\n"
     ]
    }
   ],
   "source": [
    "print(bob_project.messages)"
   ]
  },
  {
   "cell_type": "code",
   "execution_count": 19,
   "id": "65341873-4b38-4c5c-b9ef-50f52f06671e",
   "metadata": {
    "tags": []
   },
   "outputs": [
    {
     "data": {
      "text/html": [
       "<div class=\"alert-success\" style=\"padding:5px;\"><strong>SyftSuccess</strong>: Message sent successfully</div><br />"
      ],
      "text/plain": [
       "<class 'syft.service.response.SyftSuccess'>: Message sent successfully"
      ]
     },
     "execution_count": 19,
     "metadata": {},
     "output_type": "execute_result"
    }
   ],
   "source": [
    "bob_project.send_message(message=\"Hello Everyone 👋, I am Bob\")"
   ]
  },
  {
   "cell_type": "code",
   "execution_count": 20,
   "id": "9ab0d786-06a5-4f35-9140-3230d6ceb181",
   "metadata": {
    "tags": []
   },
   "outputs": [
    {
     "name": "stdout",
     "output_type": "stream",
     "text": [
      "1c7cd38e: Hello Everyone 👋, I am Alice\n",
      "> 1c7cd38e: I am from Canada\n",
      "e9ca2ec7: Hello Everyone 👋, I am Bob\n",
      "\n"
     ]
    }
   ],
   "source": [
    "print(bob_project.messages)"
   ]
  },
  {
   "cell_type": "code",
   "execution_count": 21,
   "id": "f17ad7c8-db43-49a9-b0b1-339442205818",
   "metadata": {
    "tags": []
   },
   "outputs": [
    {
     "name": "stdout",
     "output_type": "stream",
     "text": [
      "1c7cd38e: Hello Everyone 👋, I am Alice\n",
      "> 1c7cd38e: I am from Canada\n",
      "\n"
     ]
    }
   ],
   "source": [
    "print(alice_project.messages)"
   ]
  },
  {
   "cell_type": "code",
   "execution_count": 22,
   "id": "4a53d3d8-cb9e-4821-a617-027c9860adaf",
   "metadata": {
    "tags": []
   },
   "outputs": [
    {
     "data": {
      "application/vnd.jupyter.widget-view+json": {
       "model_id": "13949272b95e4ff0826482f6ac06a1cd",
       "version_major": 2,
       "version_minor": 0
      },
      "text/plain": [
       "Output()"
      ]
     },
     "metadata": {},
     "output_type": "display_data"
    },
    {
     "data": {
      "text/html": [
       "<pre style=\"white-space:pre;overflow-x:auto;line-height:normal;font-family:Menlo,'DejaVu Sans Mono',consolas,'Courier New',monospace\"></pre>\n"
      ],
      "text/plain": []
     },
     "metadata": {},
     "output_type": "display_data"
    },
    {
     "data": {
      "text/html": [
       "<pre style=\"white-space:pre;overflow-x:auto;line-height:normal;font-family:Menlo,'DejaVu Sans Mono',consolas,'Courier New',monospace\">\n",
       "</pre>\n"
      ],
      "text/plain": [
       "\n"
      ]
     },
     "metadata": {},
     "output_type": "display_data"
    },
    {
     "data": {
      "text/html": [
       "<div class=\"alert-success\" style=\"padding:5px;\"><strong>SyftSuccess</strong>: Message sent successfully</div><br />"
      ],
      "text/plain": [
       "<class 'syft.service.response.SyftSuccess'>: Message sent successfully"
      ]
     },
     "execution_count": 22,
     "metadata": {},
     "output_type": "execute_result"
    }
   ],
   "source": [
    "alice_project.send_message(message=\"Glad to working on this project with you all\")"
   ]
  },
  {
   "cell_type": "code",
   "execution_count": 23,
   "id": "a5e6b3e8-f15a-4527-8616-cbd3c2a162c2",
   "metadata": {
    "tags": []
   },
   "outputs": [
    {
     "name": "stdout",
     "output_type": "stream",
     "text": [
      "1c7cd38e: Hello Everyone 👋, I am Alice\n",
      "> 1c7cd38e: I am from Canada\n",
      "e9ca2ec7: Hello Everyone 👋, I am Bob\n",
      "1c7cd38e: Glad to working on this project with you all\n",
      "\n"
     ]
    }
   ],
   "source": [
    "print(alice_project.messages)"
   ]
  },
  {
   "cell_type": "code",
   "execution_count": 24,
   "id": "cf99da6d-d9da-4b55-bac1-73f9df4adb5a",
   "metadata": {},
   "outputs": [
    {
     "data": {
      "text/html": [
       "<div class=\"alert-success\" style=\"padding:5px;\"><strong>SyftSuccess</strong>: Reply sent successfully</div><br />"
      ],
      "text/plain": [
       "<class 'syft.service.response.SyftSuccess'>: Reply sent successfully"
      ]
     },
     "execution_count": 24,
     "metadata": {},
     "output_type": "execute_result"
    }
   ],
   "source": [
    "alice_project.reply_message(reply = \"Let's Go 🤘, threaded reply works\", msg_id=alice_project.events[3].id)"
   ]
  },
  {
   "cell_type": "code",
   "execution_count": 25,
   "id": "a4fce014-5d16-4e86-afa6-c446e16c6404",
   "metadata": {
    "tags": []
   },
   "outputs": [
    {
     "name": "stdout",
     "output_type": "stream",
     "text": [
      "1c7cd38e: Hello Everyone 👋, I am Alice\n",
      "> 1c7cd38e: I am from Canada\n",
      "e9ca2ec7: Hello Everyone 👋, I am Bob\n",
      "1c7cd38e: Glad to working on this project with you all\n",
      "> 1c7cd38e: Let's Go 🤘, threaded reply works\n",
      "\n"
     ]
    }
   ],
   "source": [
    "print(alice_project.messages)"
   ]
  },
  {
   "cell_type": "code",
   "execution_count": 26,
   "id": "d6cc81f4-03a1-4f8f-9dbd-7adfd1d8a47e",
   "metadata": {
    "tags": []
   },
   "outputs": [
    {
     "data": {
      "text/html": [
       "<div class=\"alert-success\" style=\"padding:5px;\"><strong>SyftSuccess</strong>: Reply sent successfully</div><br />"
      ],
      "text/plain": [
       "<class 'syft.service.response.SyftSuccess'>: Reply sent successfully"
      ]
     },
     "execution_count": 26,
     "metadata": {},
     "output_type": "execute_result"
    }
   ],
   "source": [
    "alice_project.reply_message(reply = \"Awesome ❤️, sub-threaded reply works\", msg_id=alice_project.events[4].id)"
   ]
  },
  {
   "cell_type": "code",
   "execution_count": 27,
   "id": "be2ca6d9-5267-4166-9e3e-8fe001cd9923",
   "metadata": {},
   "outputs": [
    {
     "name": "stdout",
     "output_type": "stream",
     "text": [
      "1c7cd38e: Hello Everyone 👋, I am Alice\n",
      "> 1c7cd38e: I am from Canada\n",
      "e9ca2ec7: Hello Everyone 👋, I am Bob\n",
      "1c7cd38e: Glad to working on this project with you all\n",
      "> 1c7cd38e: Let's Go 🤘, threaded reply works\n",
      "> 1c7cd38e: Awesome ❤️, sub-threaded reply works\n",
      "\n"
     ]
    }
   ],
   "source": [
    "print(alice_project.messages)"
   ]
  },
  {
   "cell_type": "code",
   "execution_count": 28,
   "id": "9bb2743e-db80-4870-b4a3-5973c47b9d06",
   "metadata": {
    "tags": []
   },
   "outputs": [
    {
     "data": {
      "text/plain": [
       "6"
      ]
     },
     "execution_count": 28,
     "metadata": {},
     "output_type": "execute_result"
    }
   ],
   "source": [
    "len(alice_project.events)"
   ]
  },
  {
   "cell_type": "code",
   "execution_count": 29,
   "id": "b5eafd41-b757-4b27-aaa1-80a7ed9c197c",
   "metadata": {
    "tags": []
   },
   "outputs": [
    {
     "data": {
      "text/plain": [
       "6"
      ]
     },
     "execution_count": 29,
     "metadata": {},
     "output_type": "execute_result"
    }
   ],
   "source": [
    "len(alice_project.event_id_hashmap)"
   ]
  },
  {
   "cell_type": "code",
   "execution_count": null,
   "id": "46a2ece2-84e2-4774-867a-71e340c372fa",
   "metadata": {},
   "outputs": [],
   "source": []
  }
 ],
 "metadata": {
  "kernelspec": {
   "display_name": "Python 3 (ipykernel)",
   "language": "python",
   "name": "python3"
  },
  "language_info": {
   "codemirror_mode": {
    "name": "ipython",
    "version": 3
   },
   "file_extension": ".py",
   "mimetype": "text/x-python",
   "name": "python",
   "nbconvert_exporter": "python",
   "pygments_lexer": "ipython3",
   "version": "3.10.10"
  }
 },
 "nbformat": 4,
 "nbformat_minor": 5
}
