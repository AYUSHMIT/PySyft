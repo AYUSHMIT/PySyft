{
 "cells": [
  {
   "cell_type": "markdown",
   "id": "5c44d76a-e869-4ef2-a623-90717a011969",
   "metadata": {},
   "source": [
    "## Messaging Feature"
   ]
  },
  {
   "cell_type": "code",
   "execution_count": null,
   "id": "62fea8bf-5c0f-4c28-99e5-a2136c111080",
   "metadata": {
    "tags": []
   },
   "outputs": [],
   "source": [
    "import syft as sy\n",
    "sy.requires(\">=0.8.1-beta\")\n",
    "sy.enable_autoreload()\n",
    "\n",
    "# project imports\n",
    "from syft.service.project.project import NewProjectSubmit\n",
    "from syft.service.project.project import NewProject\n",
    "from syft.service.project.project import DemocraticConsensusModel"
   ]
  },
  {
   "cell_type": "code",
   "execution_count": null,
   "id": "dac85613-b97c-4200-b0d5-e725857d2e0d",
   "metadata": {
    "tags": []
   },
   "outputs": [],
   "source": [
    "alice_domain = sy.orchestra.launch(name=\"Alice\", dev_mode=True, reset=True)\n",
    "bob_domain = sy.orchestra.launch(name=\"Bob\", dev_mode=True, reset=True)"
   ]
  },
  {
   "cell_type": "code",
   "execution_count": null,
   "id": "c9048301-942e-421b-ac83-78eb7657a4f5",
   "metadata": {
    "tags": []
   },
   "outputs": [],
   "source": [
    "alice_domain_client = alice_domain.login(email=\"info@openmined.org\", password=\"changethis\")\n",
    "bob_domain_client = bob_domain.login(email=\"info@openmined.org\", password=\"changethis\")"
   ]
  },
  {
   "cell_type": "code",
   "execution_count": null,
   "id": "2df0af63-bf42-4f2b-b010-e0e1311e0dbd",
   "metadata": {
    "tags": []
   },
   "outputs": [],
   "source": [
    "alice_domain.client.register(email=\"sheldon@caltech.edu\", password=\"changethis\", name=\"Sheldon Cooper\")"
   ]
  },
  {
   "cell_type": "code",
   "execution_count": null,
   "id": "1ef3bbf8-bf8f-4af4-9a7f-318163d31897",
   "metadata": {
    "tags": []
   },
   "outputs": [],
   "source": [
    "bob_domain.client.register(email=\"sheldon@caltech.edu\", password=\"changethis\", name=\"Sheldon Cooper\")"
   ]
  },
  {
   "cell_type": "code",
   "execution_count": null,
   "id": "6d99600e-991b-480b-9879-8d2ec48fc332",
   "metadata": {
    "tags": []
   },
   "outputs": [],
   "source": [
    "alice_ds = alice_domain.login(email=\"sheldon@caltech.edu\", password=\"changethis\")\n",
    "bob_ds = bob_domain.login(email=\"sheldon@caltech.edu\", password=\"changethis\")"
   ]
  },
  {
   "cell_type": "code",
   "execution_count": null,
   "id": "29f8b931-f0fd-4b17-bebc-795b71fa2e73",
   "metadata": {
    "tags": []
   },
   "outputs": [],
   "source": [
    "project = NewProjectSubmit(\n",
    "    name=\"test project\",\n",
    "    description=\"my test project\",\n",
    "    shareholders=[alice_ds, bob_ds],\n",
    "    consensus_model=DemocraticConsensusModel(),\n",
    "    users=[alice_ds, bob_ds],\n",
    "    user_email_address=\"sheldon@caltech.edu\",\n",
    ")\n",
    "project"
   ]
  },
  {
   "cell_type": "code",
   "execution_count": null,
   "id": "a20b281d-cf34-4045-84aa-f729b4f160e1",
   "metadata": {
    "tags": []
   },
   "outputs": [],
   "source": [
    "project.users[1]"
   ]
  },
  {
   "cell_type": "code",
   "execution_count": null,
   "id": "4cf7cfef-9a74-4646-975c-74324bd5e21a",
   "metadata": {
    "tags": []
   },
   "outputs": [],
   "source": [
    "results = project.start()\n",
    "results"
   ]
  },
  {
   "cell_type": "markdown",
   "id": "5aba21b7-64c9-4ed1-b19e-d8367a104638",
   "metadata": {
    "tags": []
   },
   "source": [
    "## Retrieving project"
   ]
  },
  {
   "cell_type": "code",
   "execution_count": null,
   "id": "16bab4ba-1145-442e-8ff7-2a9583a25bf0",
   "metadata": {
    "tags": []
   },
   "outputs": [],
   "source": [
    "alice_projects = alice_ds.api.services.newproject.get_all()\n",
    "alice_project = alice_projects[0]\n",
    "alice_projects"
   ]
  },
  {
   "cell_type": "code",
   "execution_count": null,
   "id": "a81ef1ec-b5a1-4cac-a1c3-1082758f5265",
   "metadata": {
    "tags": []
   },
   "outputs": [],
   "source": [
    "bob_projects = bob_ds.api.services.newproject.get_all()\n",
    "bob_project = bob_projects[0]\n",
    "bob_projects"
   ]
  },
  {
   "cell_type": "code",
   "execution_count": null,
   "id": "b0ae41c5-7a35-45ef-93c5-9405d9111abf",
   "metadata": {
    "tags": []
   },
   "outputs": [],
   "source": [
    "alice_project.messages"
   ]
  },
  {
   "cell_type": "code",
   "execution_count": null,
   "id": "d0e0f230-ecd4-435d-af28-e3d9b1bd4be2",
   "metadata": {
    "tags": []
   },
   "outputs": [],
   "source": [
    "bob_project.messages"
   ]
  },
  {
   "cell_type": "code",
   "execution_count": null,
   "id": "b497386d-0947-4bff-bd28-78961acdc9d9",
   "metadata": {
    "tags": []
   },
   "outputs": [],
   "source": [
    "alice_project"
   ]
  },
  {
   "cell_type": "code",
   "execution_count": null,
   "id": "c01ddbf7-41ff-4910-8b05-1944b7e4cd16",
   "metadata": {
    "tags": []
   },
   "outputs": [],
   "source": [
    "alice_project.send_message(message=\"Hello Everyone 👋, I am Alice\")"
   ]
  },
  {
   "cell_type": "code",
   "execution_count": null,
   "id": "5bd4631b-bcd5-4e95-bfc0-3bf7814f6fe9",
   "metadata": {
    "tags": []
   },
   "outputs": [],
   "source": [
    "print(alice_project.messages)"
   ]
  },
  {
   "cell_type": "code",
   "execution_count": null,
   "id": "2168f4d9-c5e9-4e7f-93de-85b6feda7e61",
   "metadata": {
    "tags": []
   },
   "outputs": [],
   "source": [
    "alice_project.reply_message(reply=\"I am from Canada\", msg_id=alice_project.events[0].id)"
   ]
  },
  {
   "cell_type": "code",
   "execution_count": null,
   "id": "13335e6b-566d-46b5-b7d0-7564d3a0c04f",
   "metadata": {
    "tags": []
   },
   "outputs": [],
   "source": [
    "print(alice_project.messages)"
   ]
  },
  {
   "cell_type": "code",
   "execution_count": null,
   "id": "abd3caa9-f483-4ebc-bc62-8775c8c859c1",
   "metadata": {
    "tags": []
   },
   "outputs": [],
   "source": [
    "bob_project.sync()"
   ]
  },
  {
   "cell_type": "code",
   "execution_count": null,
   "id": "49ce0b05-7365-494b-ab64-a820bc72a13e",
   "metadata": {
    "tags": []
   },
   "outputs": [],
   "source": [
    "print(bob_project.messages)"
   ]
  },
  {
   "cell_type": "code",
   "execution_count": null,
   "id": "65341873-4b38-4c5c-b9ef-50f52f06671e",
   "metadata": {
    "tags": []
   },
   "outputs": [],
   "source": [
    "bob_project.send_message(message=\"Hello Everyone 👋, I am Bob\")"
   ]
  },
  {
   "cell_type": "code",
   "execution_count": null,
   "id": "9ab0d786-06a5-4f35-9140-3230d6ceb181",
   "metadata": {
    "tags": []
   },
   "outputs": [],
   "source": [
    "print(bob_project.messages)"
   ]
  },
  {
   "cell_type": "code",
   "execution_count": null,
   "id": "f17ad7c8-db43-49a9-b0b1-339442205818",
   "metadata": {
    "tags": []
   },
   "outputs": [],
   "source": [
    "print(alice_project.messages)"
   ]
  },
  {
   "cell_type": "code",
   "execution_count": null,
   "id": "4a53d3d8-cb9e-4821-a617-027c9860adaf",
   "metadata": {
    "tags": []
   },
   "outputs": [],
   "source": [
    "alice_project.send_message(message=\"Glad to working on this project with you all\")"
   ]
  },
  {
   "cell_type": "code",
   "execution_count": null,
   "id": "a5e6b3e8-f15a-4527-8616-cbd3c2a162c2",
   "metadata": {
    "tags": []
   },
   "outputs": [],
   "source": [
    "print(alice_project.messages)"
   ]
  },
  {
   "cell_type": "code",
   "execution_count": null,
   "id": "cf99da6d-d9da-4b55-bac1-73f9df4adb5a",
   "metadata": {},
   "outputs": [],
   "source": [
    "alice_project.reply_message(reply = \"Let's Go 🤘, threaded reply works\", msg_id=alice_project.events[3].id)"
   ]
  },
  {
   "cell_type": "code",
   "execution_count": null,
   "id": "a4fce014-5d16-4e86-afa6-c446e16c6404",
   "metadata": {
    "tags": []
   },
   "outputs": [],
   "source": [
    "print(alice_project.messages)"
   ]
  },
  {
   "cell_type": "code",
   "execution_count": null,
   "id": "d6cc81f4-03a1-4f8f-9dbd-7adfd1d8a47e",
   "metadata": {
    "tags": []
   },
   "outputs": [],
   "source": [
    "alice_project.reply_message(reply = \"Awesome ❤️, sub-threaded reply works\", msg_id=alice_project.events[4].id)"
   ]
  },
  {
   "cell_type": "code",
   "execution_count": null,
   "id": "be2ca6d9-5267-4166-9e3e-8fe001cd9923",
   "metadata": {},
   "outputs": [],
   "source": [
    "print(alice_project.messages)"
   ]
  },
  {
   "cell_type": "code",
   "execution_count": null,
   "id": "9bb2743e-db80-4870-b4a3-5973c47b9d06",
   "metadata": {
    "tags": []
   },
   "outputs": [],
   "source": [
    "len(alice_project.events)"
   ]
  },
  {
   "cell_type": "code",
   "execution_count": null,
   "id": "b5eafd41-b757-4b27-aaa1-80a7ed9c197c",
   "metadata": {
    "tags": []
   },
   "outputs": [],
   "source": [
    "len(alice_project.event_id_hashmap)"
   ]
  },
  {
   "cell_type": "code",
   "execution_count": null,
   "id": "46a2ece2-84e2-4774-867a-71e340c372fa",
   "metadata": {},
   "outputs": [],
   "source": [
    "alice_project.shareholders[1]"
   ]
  },
  {
   "cell_type": "code",
   "execution_count": null,
   "id": "3c96dd7c-67aa-45be-bd0b-5956cdf6ab9f",
   "metadata": {},
   "outputs": [],
   "source": []
  }
 ],
 "metadata": {
  "kernelspec": {
   "display_name": "Python 3 (ipykernel)",
   "language": "python",
   "name": "python3"
  },
  "language_info": {
   "codemirror_mode": {
    "name": "ipython",
    "version": 3
   },
   "file_extension": ".py",
   "mimetype": "text/x-python",
   "name": "python",
   "nbconvert_exporter": "python",
   "pygments_lexer": "ipython3",
   "version": "3.10.10"
  }
 },
 "nbformat": 4,
 "nbformat_minor": 5
}
