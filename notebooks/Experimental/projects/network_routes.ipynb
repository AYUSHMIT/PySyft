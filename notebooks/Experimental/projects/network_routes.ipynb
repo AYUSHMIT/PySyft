{
 "cells": [
  {
   "cell_type": "code",
   "execution_count": null,
   "id": "fce27152-2f49-421f-9ce3-e32114b491fa",
   "metadata": {
    "tags": []
   },
   "outputs": [],
   "source": [
    "import syft as sy\n",
    "sy.requires(\">=0.8.1-beta\")\n",
    "sy.enable_autoreload()\n",
    "from syft.service.project.project import NewProjectSubmit\n",
    "from syft.service.project.project import NewProject"
   ]
  },
  {
   "cell_type": "code",
   "execution_count": null,
   "id": "3cd8e358-c497-4a6e-9710-618915ee8d70",
   "metadata": {
    "tags": []
   },
   "outputs": [],
   "source": [
    "alice_domain = sy.orchestra.launch(name=\"Alice\", dev_mode=True, reset=True)"
   ]
  },
  {
   "cell_type": "code",
   "execution_count": null,
   "id": "69fa0815-3e0d-4989-92c7-fa78bc3d6f14",
   "metadata": {
    "tags": []
   },
   "outputs": [],
   "source": [
    "alice_domain_client = alice_domain.login(email=\"info@openmined.org\", password=\"changethis\")"
   ]
  },
  {
   "cell_type": "code",
   "execution_count": null,
   "id": "15ed56f1-acd2-4c89-aac9-dc679116b81f",
   "metadata": {
    "tags": []
   },
   "outputs": [],
   "source": [
    "bob_domain = sy.orchestra.launch(name=\"Bob\", dev_mode=True, reset=True)"
   ]
  },
  {
   "cell_type": "code",
   "execution_count": null,
   "id": "9f75f1dd-2d34-4794-a9ff-d0a4ea4d21b2",
   "metadata": {
    "tags": []
   },
   "outputs": [],
   "source": [
    "bob_domain_client = bob_domain.login(email=\"info@openmined.org\", password=\"changethis\")"
   ]
  },
  {
   "cell_type": "code",
   "execution_count": null,
   "id": "1c210908-8aa2-4099-9afb-be49e0616a22",
   "metadata": {
    "tags": []
   },
   "outputs": [],
   "source": [
    "%%time\n",
    "alice_domain_client.exchange_route(bob_domain_client)"
   ]
  },
  {
   "cell_type": "code",
   "execution_count": null,
   "id": "b9935a4f-35a1-4b85-855a-f38fffba737a",
   "metadata": {
    "tags": []
   },
   "outputs": [],
   "source": [
    "alice_domain_client.domains[0]"
   ]
  },
  {
   "cell_type": "code",
   "execution_count": null,
   "id": "a90e70c1-48dc-47ec-a241-11f6ee341cf0",
   "metadata": {
    "tags": []
   },
   "outputs": [],
   "source": [
    "bob_domain_client.domains[0]"
   ]
  },
  {
   "cell_type": "code",
   "execution_count": null,
   "id": "7e45d2fc-6867-4943-8dfd-684b94b166f7",
   "metadata": {
    "tags": []
   },
   "outputs": [],
   "source": [
    "alice_domain_client.api.services.network.add_route(alice_domain_client.connection.route)"
   ]
  },
  {
   "cell_type": "code",
   "execution_count": null,
   "id": "d17e7f41-4738-4a92-b8b2-32a0d22e66a5",
   "metadata": {
    "tags": []
   },
   "outputs": [],
   "source": [
    "alice_domain_client.domains[0].node_routes[0]"
   ]
  },
  {
   "cell_type": "code",
   "execution_count": null,
   "id": "adaba6ba-a7c1-46f4-9a54-6291e6bde947",
   "metadata": {
    "tags": []
   },
   "outputs": [],
   "source": [
    "bob_domain_client.domains[0].node_routes[0]"
   ]
  },
  {
   "cell_type": "code",
   "execution_count": null,
   "id": "cc2b81e3-62bd-475f-a413-97af38863acc",
   "metadata": {},
   "outputs": [],
   "source": []
  }
 ],
 "metadata": {
  "kernelspec": {
   "display_name": "Python 3 (ipykernel)",
   "language": "python",
   "name": "python3"
  },
  "language_info": {
   "codemirror_mode": {
    "name": "ipython",
    "version": 3
   },
   "file_extension": ".py",
   "mimetype": "text/x-python",
   "name": "python",
   "nbconvert_exporter": "python",
   "pygments_lexer": "ipython3",
   "version": "3.10.10"
  }
 },
 "nbformat": 4,
 "nbformat_minor": 5
}
