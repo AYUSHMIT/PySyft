{
 "cells": [
  {
   "cell_type": "markdown",
   "id": "7ca77bdb-9889-4b11-8b0d-0b5c49c8252f",
   "metadata": {},
   "source": [
    "## Alice Domain Node - Project Messaging"
   ]
  },
  {
   "cell_type": "code",
   "execution_count": 1,
   "id": "10e2101b-ecf7-418f-99be-debd9e3360df",
   "metadata": {
    "tags": []
   },
   "outputs": [
    {
     "name": "stdout",
     "output_type": "stream",
     "text": [
      "✅ The installed version of syft==0.8.1b1 matches the requirement >=0.8.1b0\n",
      "Autoreload enabled\n"
     ]
    }
   ],
   "source": [
    "import syft as sy\n",
    "sy.requires(\">=0.8.1-beta\")\n",
    "sy.enable_autoreload()"
   ]
  },
  {
   "cell_type": "code",
   "execution_count": 2,
   "id": "d5b48ca1-04ad-4e28-b294-f5413f8fb649",
   "metadata": {
    "tags": []
   },
   "outputs": [
    {
     "name": "stdout",
     "output_type": "stream",
     "text": [
      "SQLite Store Path:\n",
      "!open file:///var/folders/lt/vttt10qd5fz4flpv9y1d55l40000gn/T/3bc51062973c458d5a6f2d8d64a02324.sqlite\n",
      "\n"
     ]
    }
   ],
   "source": [
    "alice_domain = sy.orchestra.launch(name=\"Alice\", dev_mode=True, reset=True)"
   ]
  },
  {
   "cell_type": "code",
   "execution_count": 3,
   "id": "04dbfadc-bba7-43b4-9f64-4e253c8c7032",
   "metadata": {
    "tags": []
   },
   "outputs": [],
   "source": [
    "alice_domain_client = alice_domain.login(email=\"info@openmined.org\", password=\"changethis\")"
   ]
  },
  {
   "cell_type": "markdown",
   "id": "c8dbb950-5e2b-4fe2-b39f-f303af6f4b43",
   "metadata": {
    "tags": []
   },
   "source": [
    "## Retrieving project"
   ]
  },
  {
   "cell_type": "code",
   "execution_count": 5,
   "id": "f546d318-4d2a-46c1-bd5f-572ae32f482f",
   "metadata": {
    "tags": []
   },
   "outputs": [
    {
     "data": {
      "text/html": [
       "List - Size: 1\n",
       "<div>\n",
       "<style scoped>\n",
       "    .dataframe tbody tr th:only-of-type {\n",
       "        vertical-align: middle;\n",
       "    }\n",
       "\n",
       "    .dataframe tbody tr th {\n",
       "        vertical-align: top;\n",
       "    }\n",
       "\n",
       "    .dataframe thead th {\n",
       "        text-align: right;\n",
       "    }\n",
       "</style>\n",
       "<table border=\"1\" class=\"dataframe\">\n",
       "  <thead>\n",
       "    <tr style=\"text-align: right;\">\n",
       "      <th></th>\n",
       "      <th>type</th>\n",
       "      <th>id</th>\n",
       "      <th>name</th>\n",
       "      <th>shareholders</th>\n",
       "      <th>state_sync_leader</th>\n",
       "    </tr>\n",
       "  </thead>\n",
       "  <tbody>\n",
       "    <tr>\n",
       "      <th>0</th>\n",
       "      <td>syft.service.project.project.NewProject</td>\n",
       "      <td>f645b38e79a2412ea161485e5676500d</td>\n",
       "      <td>test project</td>\n",
       "      <td>[&lt;🔑 00768594 @ 🟢 3bc51062&gt;, &lt;🔑 71fbd53d @ 🟢 cd...</td>\n",
       "      <td>&lt;🔑 00768594 @ 🟢 3bc51062&gt;</td>\n",
       "    </tr>\n",
       "  </tbody>\n",
       "</table>\n",
       "</div>"
      ],
      "text/plain": [
       "[syft.service.project.project.NewProject]"
      ]
     },
     "execution_count": 5,
     "metadata": {},
     "output_type": "execute_result"
    }
   ],
   "source": [
    "projects = alice_domain_client.api.services.newproject.get_all()\n",
    "project = projects[0]\n",
    "projects"
   ]
  },
  {
   "cell_type": "code",
   "execution_count": 18,
   "id": "425a9e98-6e61-4503-9fdf-6d33ba635877",
   "metadata": {
    "tags": []
   },
   "outputs": [
    {
     "data": {
      "application/vnd.jupyter.widget-view+json": {
       "model_id": "031d72c184f74a518e2f9ca3a815e3df",
       "version_major": 2,
       "version_minor": 0
      },
      "text/plain": [
       "Output()"
      ]
     },
     "metadata": {},
     "output_type": "display_data"
    },
    {
     "data": {
      "text/html": [
       "<pre style=\"white-space:pre;overflow-x:auto;line-height:normal;font-family:Menlo,'DejaVu Sans Mono',consolas,'Courier New',monospace\"></pre>\n"
      ],
      "text/plain": []
     },
     "metadata": {},
     "output_type": "display_data"
    },
    {
     "data": {
      "text/html": [
       "<pre style=\"white-space:pre;overflow-x:auto;line-height:normal;font-family:Menlo,'DejaVu Sans Mono',consolas,'Courier New',monospace\">\n",
       "</pre>\n"
      ],
      "text/plain": [
       "\n"
      ]
     },
     "metadata": {},
     "output_type": "display_data"
    },
    {
     "data": {
      "text/html": [
       "<div class=\"alert-success\" style=\"padding:5px;\"><strong>SyftSuccess</strong>: Synced project  with Leader</div><br />"
      ],
      "text/plain": [
       "<class 'syft.service.response.SyftSuccess'>: Synced project  with Leader"
      ]
     },
     "execution_count": 18,
     "metadata": {},
     "output_type": "execute_result"
    }
   ],
   "source": [
    "project.sync()"
   ]
  },
  {
   "cell_type": "code",
   "execution_count": 12,
   "id": "0e0bb1e1-b604-463d-a0c8-e5367dfd55b2",
   "metadata": {
    "tags": []
   },
   "outputs": [
    {
     "name": "stdout",
     "output_type": "stream",
     "text": [
      "00768594: Hello Everyone 👋, I am Alice\n",
      "71fbd53d: Hello Everyone 👋, I am Bob\n",
      "71fbd53d: Glad to be working with you all in the project\n",
      "\n"
     ]
    }
   ],
   "source": [
    "\n",
    "project.messages"
   ]
  },
  {
   "cell_type": "code",
   "execution_count": 7,
   "id": "2ae4f6be-aa75-49e9-ab57-da84198a4772",
   "metadata": {
    "tags": []
   },
   "outputs": [
    {
     "data": {
      "text/markdown": [
       "```python\n",
       "class NewProject:\n",
       "  id: str = f645b38e79a2412ea161485e5676500d\n",
       "  name: str = \"test project\"\n",
       "  description: str = \"my test project\"\n",
       "  shareholders: str = [<🔑 00768594 @ 🟢 3bc51062>, <🔑 71fbd53d @ 🟢 cd9fb1e1>]\n",
       "  project_permissions: str = {'OWNER_00768594fb569d34d4b11e80c22711505056b7d9799ef096dfec8cd45c220c6a', 'OWNER_71fbd53d9cba871fd62512f9cd04725d755f6ac52f73aa8cc0a130167c4a64ad'}\n",
       "  state_sync_leader: str = <🔑 00768594 @ 🟢 3bc51062>\n",
       "  consensus_model: str = <syft.service.project.project.DemocraticConsensusModel object at 0x10602f310>\n",
       "  store: str = {}\n",
       "  permissions: str = {}\n",
       "  events: str = [syft.service.project.project.ProjectMessage]\n",
       "  start_hash: str = 526445756140881382927015477858816700784541339790944646149749571804824026646893\n",
       "\n",
       "```"
      ],
      "text/plain": [
       "syft.service.project.project.NewProject"
      ]
     },
     "execution_count": 7,
     "metadata": {},
     "output_type": "execute_result"
    }
   ],
   "source": [
    "project.send_message(message=\"Hello Everyone 👋, I am Alice\", credentials = alice_domain_client.credentials)"
   ]
  },
  {
   "cell_type": "code",
   "execution_count": 13,
   "id": "288b6353-bab4-4b52-b74b-c3a3eb5c2da7",
   "metadata": {
    "tags": []
   },
   "outputs": [
    {
     "data": {
      "text/markdown": [
       "```python\n",
       "class NewProject:\n",
       "  id: str = f645b38e79a2412ea161485e5676500d\n",
       "  name: str = \"test project\"\n",
       "  description: str = \"my test project\"\n",
       "  shareholders: str = [<🔑 00768594 @ 🟢 3bc51062>, <🔑 71fbd53d @ 🟢 cd9fb1e1>]\n",
       "  project_permissions: str = {'OWNER_00768594fb569d34d4b11e80c22711505056b7d9799ef096dfec8cd45c220c6a', 'OWNER_71fbd53d9cba871fd62512f9cd04725d755f6ac52f73aa8cc0a130167c4a64ad'}\n",
       "  state_sync_leader: str = <🔑 00768594 @ 🟢 3bc51062>\n",
       "  consensus_model: str = <syft.service.project.project.DemocraticConsensusModel object at 0x28f3d74f0>\n",
       "  store: str = {}\n",
       "  permissions: str = {}\n",
       "  events: str = [syft.service.project.project.ProjectMessage, syft.service.project.project.ProjectMessage, syft.service.project.project.ProjectMessage, syft.service.project.project.ProjectMessage]\n",
       "  start_hash: str = 526445756140881382927015477858816700784541339790944646149749571804824026646893\n",
       "\n",
       "```"
      ],
      "text/plain": [
       "syft.service.project.project.NewProject"
      ]
     },
     "execution_count": 13,
     "metadata": {},
     "output_type": "execute_result"
    }
   ],
   "source": [
    "project.send_message(message=\"How's everyone doing\", credentials = alice_domain_client.credentials)"
   ]
  },
  {
   "cell_type": "code",
   "execution_count": 15,
   "id": "fe9472dc-12a3-4d74-a9a4-dcd7fc573c16",
   "metadata": {
    "tags": []
   },
   "outputs": [
    {
     "data": {
      "text/markdown": [
       "```python\n",
       "class NewProject:\n",
       "  id: str = f645b38e79a2412ea161485e5676500d\n",
       "  name: str = \"test project\"\n",
       "  description: str = \"my test project\"\n",
       "  shareholders: str = [<🔑 00768594 @ 🟢 3bc51062>, <🔑 71fbd53d @ 🟢 cd9fb1e1>]\n",
       "  project_permissions: str = {'OWNER_00768594fb569d34d4b11e80c22711505056b7d9799ef096dfec8cd45c220c6a', 'OWNER_71fbd53d9cba871fd62512f9cd04725d755f6ac52f73aa8cc0a130167c4a64ad'}\n",
       "  state_sync_leader: str = <🔑 00768594 @ 🟢 3bc51062>\n",
       "  consensus_model: str = <syft.service.project.project.DemocraticConsensusModel object at 0x28f3d7c40>\n",
       "  store: str = {}\n",
       "  permissions: str = {}\n",
       "  events: str = [syft.service.project.project.ProjectMessage, syft.service.project.project.ProjectMessage, syft.service.project.project.ProjectMessage, syft.service.project.project.ProjectMessage, syft.service.project.project.ProjectMessage]\n",
       "  start_hash: str = 526445756140881382927015477858816700784541339790944646149749571804824026646893\n",
       "\n",
       "```"
      ],
      "text/plain": [
       "syft.service.project.project.NewProject"
      ]
     },
     "execution_count": 15,
     "metadata": {},
     "output_type": "execute_result"
    }
   ],
   "source": [
    "project.send_message(message=\"Hope you all are doing good\", credentials = alice_domain_client.credentials)"
   ]
  },
  {
   "cell_type": "code",
   "execution_count": 19,
   "id": "9220de26-0741-4494-9a25-87fda8dcac0c",
   "metadata": {},
   "outputs": [
    {
     "name": "stdout",
     "output_type": "stream",
     "text": [
      "00768594: Hello Everyone 👋, I am Alice\n",
      "71fbd53d: Hello Everyone 👋, I am Bob\n",
      "71fbd53d: Glad to be working with you all in the project\n",
      "00768594: How's everyone doing\n",
      "00768594: Hope you all are doing good\n",
      "71fbd53d: Let's start our Awesome Project\n",
      "\n"
     ]
    }
   ],
   "source": [
    "project.messages"
   ]
  },
  {
   "cell_type": "code",
   "execution_count": null,
   "id": "e1e03bde-18c8-43d2-a348-5f53cae5d26d",
   "metadata": {},
   "outputs": [],
   "source": []
  }
 ],
 "metadata": {
  "kernelspec": {
   "display_name": "Python 3 (ipykernel)",
   "language": "python",
   "name": "python3"
  },
  "language_info": {
   "codemirror_mode": {
    "name": "ipython",
    "version": 3
   },
   "file_extension": ".py",
   "mimetype": "text/x-python",
   "name": "python",
   "nbconvert_exporter": "python",
   "pygments_lexer": "ipython3",
   "version": "3.10.10"
  }
 },
 "nbformat": 4,
 "nbformat_minor": 5
}
