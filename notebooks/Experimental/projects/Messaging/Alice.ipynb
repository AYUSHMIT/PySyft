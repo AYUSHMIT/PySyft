{
 "cells": [
  {
   "cell_type": "markdown",
   "id": "7ca77bdb-9889-4b11-8b0d-0b5c49c8252f",
   "metadata": {},
   "source": [
    "## Alice Domain Node - Project Messaging"
   ]
  },
  {
   "cell_type": "code",
   "execution_count": 1,
   "id": "10e2101b-ecf7-418f-99be-debd9e3360df",
   "metadata": {
    "tags": []
   },
   "outputs": [
    {
     "name": "stdout",
     "output_type": "stream",
     "text": [
      "✅ The installed version of syft==0.8.1b1 matches the requirement >=0.8.1b0\n",
      "Autoreload enabled\n"
     ]
    }
   ],
   "source": [
    "import syft as sy\n",
    "sy.requires(\">=0.8.1-beta\")\n",
    "sy.enable_autoreload()"
   ]
  },
  {
   "cell_type": "code",
   "execution_count": 2,
   "id": "d5b48ca1-04ad-4e28-b294-f5413f8fb649",
   "metadata": {
    "tags": []
   },
   "outputs": [
    {
     "name": "stdout",
     "output_type": "stream",
     "text": [
      "SQLite Store Path:\n",
      "!open file:///var/folders/lt/vttt10qd5fz4flpv9y1d55l40000gn/T/3bc51062973c458d5a6f2d8d64a02324.sqlite\n",
      "\n"
     ]
    }
   ],
   "source": [
    "alice_domain = sy.orchestra.launch(name=\"Alice\", dev_mode=True, reset=True)"
   ]
  },
  {
   "cell_type": "code",
   "execution_count": 3,
   "id": "04dbfadc-bba7-43b4-9f64-4e253c8c7032",
   "metadata": {
    "tags": []
   },
   "outputs": [],
   "source": [
    "alice_domain_client = alice_domain.login(email=\"info@openmined.org\", password=\"changethis\")"
   ]
  },
  {
   "cell_type": "markdown",
   "id": "c8dbb950-5e2b-4fe2-b39f-f303af6f4b43",
   "metadata": {
    "tags": []
   },
   "source": [
    "## Retrieving project"
   ]
  },
  {
   "cell_type": "code",
   "execution_count": null,
   "id": "f546d318-4d2a-46c1-bd5f-572ae32f482f",
   "metadata": {
    "tags": []
   },
   "outputs": [],
   "source": [
    "projects = alice_domain_client.api.services.newproject.get_all()\n",
    "projects"
   ]
  },
  {
   "cell_type": "code",
   "execution_count": null,
   "id": "1acadb92-3490-4f98-a642-427caef2f924",
   "metadata": {
    "tags": []
   },
   "outputs": [],
   "source": [
    "project = projects[0]"
   ]
  },
  {
   "cell_type": "code",
   "execution_count": null,
   "id": "0e0bb1e1-b604-463d-a0c8-e5367dfd55b2",
   "metadata": {
    "tags": []
   },
   "outputs": [],
   "source": [
    "project.messages"
   ]
  },
  {
   "cell_type": "code",
   "execution_count": null,
   "id": "2ae4f6be-aa75-49e9-ab57-da84198a4772",
   "metadata": {
    "tags": []
   },
   "outputs": [],
   "source": [
    "project.send_message(message=\"Hello Everyone 👋, I am Alice\", credentials = alice_domain_client.credentials)"
   ]
  },
  {
   "cell_type": "code",
   "execution_count": null,
   "id": "288b6353-bab4-4b52-b74b-c3a3eb5c2da7",
   "metadata": {
    "tags": []
   },
   "outputs": [],
   "source": [
    "project.send_message(message=\"Glad to working on this project with you all\", credentials = alice_domain_client.credentials)"
   ]
  },
  {
   "cell_type": "code",
   "execution_count": null,
   "id": "fe9472dc-12a3-4d74-a9a4-dcd7fc573c16",
   "metadata": {
    "tags": []
   },
   "outputs": [],
   "source": [
    "project.events"
   ]
  },
  {
   "cell_type": "code",
   "execution_count": null,
   "id": "9220de26-0741-4494-9a25-87fda8dcac0c",
   "metadata": {},
   "outputs": [],
   "source": []
  }
 ],
 "metadata": {
  "kernelspec": {
   "display_name": "Python 3 (ipykernel)",
   "language": "python",
   "name": "python3"
  },
  "language_info": {
   "codemirror_mode": {
    "name": "ipython",
    "version": 3
   },
   "file_extension": ".py",
   "mimetype": "text/x-python",
   "name": "python",
   "nbconvert_exporter": "python",
   "pygments_lexer": "ipython3",
   "version": "3.10.10"
  }
 },
 "nbformat": 4,
 "nbformat_minor": 5
}
