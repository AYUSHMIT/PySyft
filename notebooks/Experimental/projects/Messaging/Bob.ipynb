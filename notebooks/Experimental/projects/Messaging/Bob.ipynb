{
 "cells": [
  {
   "cell_type": "markdown",
   "id": "0a3dfd8d-d934-41f1-8db8-267eb04de2de",
   "metadata": {},
   "source": [
    "## Bob Domain Node - Project Messaging"
   ]
  },
  {
   "cell_type": "code",
   "execution_count": 1,
   "id": "3b5de0f5-8ee7-47d3-8bd9-3c138e5cd7d7",
   "metadata": {
    "tags": []
   },
   "outputs": [
    {
     "name": "stdout",
     "output_type": "stream",
     "text": [
      "✅ The installed version of syft==0.8.1b1 matches the requirement >=0.8.1b0\n",
      "Autoreload enabled\n"
     ]
    }
   ],
   "source": [
    "import syft as sy\n",
    "sy.requires(\">=0.8.1-beta\")\n",
    "sy.enable_autoreload()"
   ]
  },
  {
   "cell_type": "code",
   "execution_count": 2,
   "id": "3edfd2df-6d3f-4b2f-8d4b-4f92eb96622c",
   "metadata": {
    "tags": []
   },
   "outputs": [
    {
     "name": "stdout",
     "output_type": "stream",
     "text": [
      "SQLite Store Path:\n",
      "!open file:///var/folders/lt/vttt10qd5fz4flpv9y1d55l40000gn/T/cd9fb1e148ccd8442e5aa74904cc73bf.sqlite\n",
      "\n"
     ]
    }
   ],
   "source": [
    "bob_domain = sy.orchestra.launch(name=\"Bob\", dev_mode=True, reset=True)"
   ]
  },
  {
   "cell_type": "code",
   "execution_count": 8,
   "id": "06fbc3e8-1973-42a1-8712-3fef1cf19d88",
   "metadata": {
    "tags": []
   },
   "outputs": [
    {
     "name": "stdout",
     "output_type": "stream",
     "text": [
      "SQLite Store Path:\n",
      "!open file:///var/folders/lt/vttt10qd5fz4flpv9y1d55l40000gn/T/3bc51062973c458d5a6f2d8d64a02324.sqlite\n",
      "\n"
     ]
    }
   ],
   "source": [
    "bob_domain_client = bob_domain.login(email=\"info@openmined.org\", password=\"changethis\")\n",
    "# to be able to register in API Registry\n",
    "# TODO:  remove the need for this\n",
    "leader_node_client = sy.orchestra.launch(name=\"Alice\", dev_mode=True).login(email=\"info@openmined.org\", password=\"changethis\")"
   ]
  },
  {
   "cell_type": "markdown",
   "id": "e21f1372-4a05-47f9-b3ac-87c1f76f70d4",
   "metadata": {
    "tags": []
   },
   "source": [
    "## Retrieving project"
   ]
  },
  {
   "cell_type": "code",
   "execution_count": 9,
   "id": "32124ab0-4b9b-491b-9eaa-16d37e3134ec",
   "metadata": {
    "tags": []
   },
   "outputs": [
    {
     "data": {
      "text/html": [
       "List - Size: 1\n",
       "<div>\n",
       "<style scoped>\n",
       "    .dataframe tbody tr th:only-of-type {\n",
       "        vertical-align: middle;\n",
       "    }\n",
       "\n",
       "    .dataframe tbody tr th {\n",
       "        vertical-align: top;\n",
       "    }\n",
       "\n",
       "    .dataframe thead th {\n",
       "        text-align: right;\n",
       "    }\n",
       "</style>\n",
       "<table border=\"1\" class=\"dataframe\">\n",
       "  <thead>\n",
       "    <tr style=\"text-align: right;\">\n",
       "      <th></th>\n",
       "      <th>type</th>\n",
       "      <th>id</th>\n",
       "      <th>name</th>\n",
       "      <th>shareholders</th>\n",
       "      <th>state_sync_leader</th>\n",
       "    </tr>\n",
       "  </thead>\n",
       "  <tbody>\n",
       "    <tr>\n",
       "      <th>0</th>\n",
       "      <td>syft.service.project.project.Project</td>\n",
       "      <td>f645b38e79a2412ea161485e5676500d</td>\n",
       "      <td>test project</td>\n",
       "      <td>[&lt;🔑 00768594 @ 🟢 3bc51062&gt;, &lt;🔑 71fbd53d @ 🟢 cd...</td>\n",
       "      <td>&lt;🔑 00768594 @ 🟢 3bc51062&gt;</td>\n",
       "    </tr>\n",
       "  </tbody>\n",
       "</table>\n",
       "</div>"
      ],
      "text/plain": [
       "[syft.service.project.project.Project]"
      ]
     },
     "execution_count": 9,
     "metadata": {},
     "output_type": "execute_result"
    }
   ],
   "source": [
    "projects = bob_domain_client.api.services.project.get_all()\n",
    "project = projects[0]\n",
    "projects"
   ]
  },
  {
   "cell_type": "code",
   "execution_count": 10,
   "id": "14e8f34d-fd99-4dfa-93c6-696fec201f67",
   "metadata": {
    "tags": []
   },
   "outputs": [
    {
     "data": {
      "text/markdown": [
       "```python\n",
       "class Project:\n",
       "  id: str = f645b38e79a2412ea161485e5676500d\n",
       "  name: str = \"test project\"\n",
       "  description: str = \"my test project\"\n",
       "  shareholders: str = [<🔑 00768594 @ 🟢 3bc51062>, <🔑 71fbd53d @ 🟢 cd9fb1e1>]\n",
       "  project_permissions: str = {'OWNER_00768594fb569d34d4b11e80c22711505056b7d9799ef096dfec8cd45c220c6a', 'OWNER_71fbd53d9cba871fd62512f9cd04725d755f6ac52f73aa8cc0a130167c4a64ad'}\n",
       "  state_sync_leader: str = <🔑 00768594 @ 🟢 3bc51062>\n",
       "  consensus_model: str = <syft.service.project.project.DemocraticConsensusModel object at 0x297e73f10>\n",
       "  store: str = {}\n",
       "  permissions: str = {}\n",
       "  events: str = [syft.service.project.project.ProjectMessage]\n",
       "  start_hash: str = 526445756140881382927015477858816700784541339790944646149749571804824026646893\n",
       "\n",
       "```"
      ],
      "text/plain": [
       "syft.service.project.project.Project"
      ]
     },
     "execution_count": 10,
     "metadata": {},
     "output_type": "execute_result"
    }
   ],
   "source": [
    "project"
   ]
  },
  {
   "cell_type": "code",
   "execution_count": 18,
   "id": "e98e39ac-cc4b-4802-a98d-47f6c5e2c47c",
   "metadata": {
    "tags": []
   },
   "outputs": [
    {
     "data": {
      "application/vnd.jupyter.widget-view+json": {
       "model_id": "240a542132cc4c9494524562c23eb633",
       "version_major": 2,
       "version_minor": 0
      },
      "text/plain": [
       "Output()"
      ]
     },
     "metadata": {},
     "output_type": "display_data"
    },
    {
     "data": {
      "text/html": [
       "<pre style=\"white-space:pre;overflow-x:auto;line-height:normal;font-family:Menlo,'DejaVu Sans Mono',consolas,'Courier New',monospace\"></pre>\n"
      ],
      "text/plain": []
     },
     "metadata": {},
     "output_type": "display_data"
    },
    {
     "data": {
      "text/html": [
       "<pre style=\"white-space:pre;overflow-x:auto;line-height:normal;font-family:Menlo,'DejaVu Sans Mono',consolas,'Courier New',monospace\">\n",
       "</pre>\n"
      ],
      "text/plain": [
       "\n"
      ]
     },
     "metadata": {},
     "output_type": "display_data"
    },
    {
     "data": {
      "text/html": [
       "<div class=\"alert-success\" style=\"padding:5px;\"><strong>SyftSuccess</strong>: Synced project  with Leader</div><br />"
      ],
      "text/plain": [
       "<class 'syft.service.response.SyftSuccess'>: Synced project  with Leader"
      ]
     },
     "execution_count": 18,
     "metadata": {},
     "output_type": "execute_result"
    }
   ],
   "source": [
    "project.sync()"
   ]
  },
  {
   "cell_type": "code",
   "execution_count": 19,
   "id": "f0b25aa4-fe1a-463e-b07b-b262bb74a808",
   "metadata": {
    "tags": []
   },
   "outputs": [
    {
     "name": "stdout",
     "output_type": "stream",
     "text": [
      "00768594: Hello Everyone 👋, I am Alice\n",
      "71fbd53d: Hello Everyone 👋, I am Bob\n",
      "71fbd53d: Glad to be working with you all in the project\n",
      "00768594: How's everyone doing\n",
      "00768594: Hope you all are doing good\n",
      "\n"
     ]
    }
   ],
   "source": [
    "project.messages"
   ]
  },
  {
   "cell_type": "code",
   "execution_count": 12,
   "id": "771d3cdb-8bb6-4de9-b98e-7be9479983aa",
   "metadata": {
    "tags": []
   },
   "outputs": [
    {
     "data": {
      "text/markdown": [
       "```python\n",
       "class Project:\n",
       "  id: str = f645b38e79a2412ea161485e5676500d\n",
       "  name: str = \"test project\"\n",
       "  description: str = \"my test project\"\n",
       "  shareholders: str = [<🔑 00768594 @ 🟢 3bc51062>, <🔑 71fbd53d @ 🟢 cd9fb1e1>]\n",
       "  project_permissions: str = {'OWNER_00768594fb569d34d4b11e80c22711505056b7d9799ef096dfec8cd45c220c6a', 'OWNER_71fbd53d9cba871fd62512f9cd04725d755f6ac52f73aa8cc0a130167c4a64ad'}\n",
       "  state_sync_leader: str = <🔑 00768594 @ 🟢 3bc51062>\n",
       "  consensus_model: str = <syft.service.project.project.DemocraticConsensusModel object at 0x298061f00>\n",
       "  store: str = {}\n",
       "  permissions: str = {}\n",
       "  events: str = [syft.service.project.project.ProjectMessage, syft.service.project.project.ProjectMessage]\n",
       "  start_hash: str = 526445756140881382927015477858816700784541339790944646149749571804824026646893\n",
       "\n",
       "```"
      ],
      "text/plain": [
       "syft.service.project.project.Project"
      ]
     },
     "execution_count": 12,
     "metadata": {},
     "output_type": "execute_result"
    }
   ],
   "source": [
    "project.send_message(message=\"Hello Everyone 👋, I am Bob\",credentials = bob_domain_client.credentials)"
   ]
  },
  {
   "cell_type": "code",
   "execution_count": 15,
   "id": "295294b2-e157-47dd-9d7c-18d8730acc27",
   "metadata": {},
   "outputs": [
    {
     "data": {
      "text/markdown": [
       "```python\n",
       "class Project:\n",
       "  id: str = f645b38e79a2412ea161485e5676500d\n",
       "  name: str = \"test project\"\n",
       "  description: str = \"my test project\"\n",
       "  shareholders: str = [<🔑 00768594 @ 🟢 3bc51062>, <🔑 71fbd53d @ 🟢 cd9fb1e1>]\n",
       "  project_permissions: str = {'OWNER_00768594fb569d34d4b11e80c22711505056b7d9799ef096dfec8cd45c220c6a', 'OWNER_71fbd53d9cba871fd62512f9cd04725d755f6ac52f73aa8cc0a130167c4a64ad'}\n",
       "  state_sync_leader: str = <🔑 00768594 @ 🟢 3bc51062>\n",
       "  consensus_model: str = <syft.service.project.project.DemocraticConsensusModel object at 0x298063910>\n",
       "  store: str = {}\n",
       "  permissions: str = {}\n",
       "  events: str = [syft.service.project.project.ProjectMessage, syft.service.project.project.ProjectMessage, syft.service.project.project.ProjectMessage]\n",
       "  start_hash: str = 526445756140881382927015477858816700784541339790944646149749571804824026646893\n",
       "\n",
       "```"
      ],
      "text/plain": [
       "syft.service.project.project.Project"
      ]
     },
     "execution_count": 15,
     "metadata": {},
     "output_type": "execute_result"
    }
   ],
   "source": [
    "project.send_message(message=\"Glad to be working with you all in the project\",credentials = bob_domain_client.credentials)"
   ]
  },
  {
   "cell_type": "code",
   "execution_count": 21,
   "id": "baa3ccde-744e-4c10-8029-400b92e63e17",
   "metadata": {
    "tags": []
   },
   "outputs": [
    {
     "data": {
      "text/markdown": [
       "```python\n",
       "class Project:\n",
       "  id: str = f645b38e79a2412ea161485e5676500d\n",
       "  name: str = \"test project\"\n",
       "  description: str = \"my test project\"\n",
       "  shareholders: str = [<🔑 00768594 @ 🟢 3bc51062>, <🔑 71fbd53d @ 🟢 cd9fb1e1>]\n",
       "  project_permissions: str = {'OWNER_00768594fb569d34d4b11e80c22711505056b7d9799ef096dfec8cd45c220c6a', 'OWNER_71fbd53d9cba871fd62512f9cd04725d755f6ac52f73aa8cc0a130167c4a64ad'}\n",
       "  state_sync_leader: str = <🔑 00768594 @ 🟢 3bc51062>\n",
       "  consensus_model: str = <syft.service.project.project.DemocraticConsensusModel object at 0x29852cb80>\n",
       "  store: str = {}\n",
       "  permissions: str = {}\n",
       "  events: str = [syft.service.project.project.ProjectMessage, syft.service.project.project.ProjectMessage, syft.service.project.project.ProjectMessage, syft.service.project.project.ProjectMessage, syft.service.project.project.ProjectMessage, syft.service.project.project.ProjectMessage]\n",
       "  start_hash: str = 526445756140881382927015477858816700784541339790944646149749571804824026646893\n",
       "\n",
       "```"
      ],
      "text/plain": [
       "syft.service.project.project.Project"
      ]
     },
     "execution_count": 21,
     "metadata": {},
     "output_type": "execute_result"
    }
   ],
   "source": [
    "project.send_message(message=\"Let's start our Awesome Project\",credentials=bob_domain_client)"
   ]
  },
  {
   "cell_type": "code",
   "execution_count": 22,
   "id": "1815cdd9-0bb7-4f5b-8cb2-439f004e24da",
   "metadata": {
    "tags": []
   },
   "outputs": [
    {
     "name": "stdout",
     "output_type": "stream",
     "text": [
      "00768594: Hello Everyone 👋, I am Alice\n",
      "71fbd53d: Hello Everyone 👋, I am Bob\n",
      "71fbd53d: Glad to be working with you all in the project\n",
      "00768594: How's everyone doing\n",
      "00768594: Hope you all are doing good\n",
      "71fbd53d: Let's start our Awesome Project\n",
      "\n"
     ]
    }
   ],
   "source": [
    "project.messages"
   ]
  },
  {
   "cell_type": "code",
   "execution_count": null,
   "id": "b62c97f1-c600-4e54-949a-86d60a4f0392",
   "metadata": {},
   "outputs": [],
   "source": []
  }
 ],
 "metadata": {
  "kernelspec": {
   "display_name": "Python 3 (ipykernel)",
   "language": "python",
   "name": "python3"
  },
  "language_info": {
   "codemirror_mode": {
    "name": "ipython",
    "version": 3
   },
   "file_extension": ".py",
   "mimetype": "text/x-python",
   "name": "python",
   "nbconvert_exporter": "python",
   "pygments_lexer": "ipython3",
   "version": "3.10.10"
  }
 },
 "nbformat": 4,
 "nbformat_minor": 5
}
