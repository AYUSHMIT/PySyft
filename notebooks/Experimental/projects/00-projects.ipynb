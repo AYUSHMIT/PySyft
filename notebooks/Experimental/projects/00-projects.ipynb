{
 "cells": [
  {
   "cell_type": "code",
   "execution_count": 1,
   "id": "4a0f1d5e-6d8c-485c-90ba-0b9c72dec8d7",
   "metadata": {
    "tags": []
   },
   "outputs": [
    {
     "name": "stdout",
     "output_type": "stream",
     "text": [
      "✅ The installed version of syft==0.8.1b1 matches the requirement >=0.8.1b0\n",
      "Autoreload enabled\n"
     ]
    }
   ],
   "source": [
    "import syft as sy\n",
    "sy.requires(\">=0.8.1-beta\")\n",
    "sy.enable_autoreload()"
   ]
  },
  {
   "cell_type": "code",
   "execution_count": 2,
   "id": "6fb9ae0b-745e-41db-8fa7-8bd6340731c5",
   "metadata": {
    "tags": []
   },
   "outputs": [
    {
     "name": "stdout",
     "output_type": "stream",
     "text": [
      "SQLite Store Path:\n",
      "!open file:///var/folders/6_/7xx0tpq16h9cn40mq4w5gjk80000gn/T/7bca415d13ed1ec841f0d0aede098dbb.sqlite\n",
      "\n",
      "> Domain: test-domain-1 - 7bca415d13ed1ec841f0d0aede098dbb - NodeType.DOMAIN\n",
      "\n",
      "Services:\n",
      "ActionService, DataSubjectMemberService, DataSubjectService, DatasetService, MessageService, MetadataService, NetworkService, NewProjectService, PolicyService, ProjectService, RequestService, UserCodeService, UserService\n"
     ]
    }
   ],
   "source": [
    "domain_1 = sy.orchestra.launch(name=\"test-domain-1\", dev_mode=True, reset=True)"
   ]
  },
  {
   "cell_type": "code",
   "execution_count": 3,
   "id": "cd7c6d52-03b9-4ef1-9bff-18b50a2530a0",
   "metadata": {
    "tags": []
   },
   "outputs": [],
   "source": [
    "domain_1_client = domain_1.login(email=\"info@openmined.org\", password=\"changethis\")"
   ]
  },
  {
   "cell_type": "code",
   "execution_count": 4,
   "id": "5c029c8b-6e42-43b3-84e7-244e8b6a4f1f",
   "metadata": {
    "tags": []
   },
   "outputs": [
    {
     "name": "stdout",
     "output_type": "stream",
     "text": [
      "SQLite Store Path:\n",
      "!open file:///var/folders/6_/7xx0tpq16h9cn40mq4w5gjk80000gn/T/b626124c319383c882a448dac2d6953d.sqlite\n",
      "\n",
      "> Domain: test-domain-2 - b626124c319383c882a448dac2d6953d - NodeType.DOMAIN\n",
      "\n",
      "Services:\n",
      "ActionService, DataSubjectMemberService, DataSubjectService, DatasetService, MessageService, MetadataService, NetworkService, NewProjectService, PolicyService, ProjectService, RequestService, UserCodeService, UserService\n"
     ]
    }
   ],
   "source": [
    "domain_2 = sy.orchestra.launch(name=\"test-domain-2\", dev_mode=True, reset=True)"
   ]
  },
  {
   "cell_type": "code",
   "execution_count": 5,
   "id": "b94f4af3-33dc-4f16-ba3b-34c7d52d7c55",
   "metadata": {
    "tags": []
   },
   "outputs": [],
   "source": [
    "domain_2_client = domain_2.login(email=\"info@openmined.org\", password=\"changethis\")"
   ]
  },
  {
   "cell_type": "code",
   "execution_count": 6,
   "id": "bc8f2ca5-2db5-4508-af49-b0cdfe1499ff",
   "metadata": {
    "tags": []
   },
   "outputs": [
    {
     "data": {
      "text/html": [
       "<div class=\"alert-success\" style=\"padding:5px;\"><strong>SyftSuccess</strong>: Route Verified</div><br />"
      ],
      "text/plain": [
       "<class 'syft.service.response.SyftSuccess'>: Route Verified"
      ]
     },
     "execution_count": 6,
     "metadata": {},
     "output_type": "execute_result"
    }
   ],
   "source": [
    "domain_1_client.exchange_route(domain_2_client)"
   ]
  },
  {
   "cell_type": "code",
   "execution_count": 7,
   "id": "3e04a5d8-74b7-4a5f-b3e4-c5e96570b496",
   "metadata": {
    "tags": []
   },
   "outputs": [
    {
     "data": {
      "text/html": [
       "List - Size: 1\n",
       "<div>\n",
       "<style scoped>\n",
       "    .dataframe tbody tr th:only-of-type {\n",
       "        vertical-align: middle;\n",
       "    }\n",
       "\n",
       "    .dataframe tbody tr th {\n",
       "        vertical-align: top;\n",
       "    }\n",
       "\n",
       "    .dataframe thead th {\n",
       "        text-align: right;\n",
       "    }\n",
       "</style>\n",
       "<table border=\"1\" class=\"dataframe\">\n",
       "  <thead>\n",
       "    <tr style=\"text-align: right;\">\n",
       "      <th></th>\n",
       "      <th>type</th>\n",
       "      <th>id</th>\n",
       "      <th>name</th>\n",
       "    </tr>\n",
       "  </thead>\n",
       "  <tbody>\n",
       "    <tr>\n",
       "      <th>0</th>\n",
       "      <td>syft.service.network.network_service.NodePeer</td>\n",
       "      <td>b626124c319383c882a448dac2d6953d</td>\n",
       "      <td>test-domain-2</td>\n",
       "    </tr>\n",
       "  </tbody>\n",
       "</table>\n",
       "</div>"
      ],
      "text/plain": [
       "[syft.service.network.network_service.NodePeer]"
      ]
     },
     "execution_count": 7,
     "metadata": {},
     "output_type": "execute_result"
    }
   ],
   "source": [
    "domain_1_client.domains"
   ]
  },
  {
   "cell_type": "code",
   "execution_count": 8,
   "id": "5078d92f-e3b0-4c47-95b3-e5dfbec0e543",
   "metadata": {
    "tags": []
   },
   "outputs": [],
   "source": [
    "assert len(domain_1_client.domains) == 1"
   ]
  },
  {
   "cell_type": "code",
   "execution_count": 9,
   "id": "72557d95-d1ca-4542-adbb-efcd97672124",
   "metadata": {
    "tags": []
   },
   "outputs": [
    {
     "data": {
      "text/html": [
       "List - Size: 1\n",
       "<div>\n",
       "<style scoped>\n",
       "    .dataframe tbody tr th:only-of-type {\n",
       "        vertical-align: middle;\n",
       "    }\n",
       "\n",
       "    .dataframe tbody tr th {\n",
       "        vertical-align: top;\n",
       "    }\n",
       "\n",
       "    .dataframe thead th {\n",
       "        text-align: right;\n",
       "    }\n",
       "</style>\n",
       "<table border=\"1\" class=\"dataframe\">\n",
       "  <thead>\n",
       "    <tr style=\"text-align: right;\">\n",
       "      <th></th>\n",
       "      <th>type</th>\n",
       "      <th>id</th>\n",
       "      <th>name</th>\n",
       "    </tr>\n",
       "  </thead>\n",
       "  <tbody>\n",
       "    <tr>\n",
       "      <th>0</th>\n",
       "      <td>syft.service.network.network_service.NodePeer</td>\n",
       "      <td>7bca415d13ed1ec841f0d0aede098dbb</td>\n",
       "      <td>test-domain-1</td>\n",
       "    </tr>\n",
       "  </tbody>\n",
       "</table>\n",
       "</div>"
      ],
      "text/plain": [
       "[syft.service.network.network_service.NodePeer]"
      ]
     },
     "execution_count": 9,
     "metadata": {},
     "output_type": "execute_result"
    }
   ],
   "source": [
    "domain_2_client.domains"
   ]
  },
  {
   "cell_type": "code",
   "execution_count": 10,
   "id": "bf35ed5f-e039-495d-804c-413e2d2c959d",
   "metadata": {
    "tags": []
   },
   "outputs": [],
   "source": [
    "assert len(domain_2_client.domains) == 1"
   ]
  },
  {
   "cell_type": "code",
   "execution_count": 11,
   "id": "06ec20dc-11f5-4df2-8727-a4c06b2e14c5",
   "metadata": {
    "tags": []
   },
   "outputs": [],
   "source": [
    "from syft.service.project.project import NewProjectSubmit\n",
    "from syft.service.project.project import NewProject\n",
    "from syft.service.project.project import DemocraticConsensusModel\n",
    "from syft.service.metadata.node_metadata import NodeMetadata"
   ]
  },
  {
   "cell_type": "code",
   "execution_count": 12,
   "id": "10be52fa-8ab5-469b-adbf-5debb25d8111",
   "metadata": {
    "tags": []
   },
   "outputs": [
    {
     "name": "stdout",
     "output_type": "stream",
     "text": [
      "Got metadata syft.service.metadata.node_metadata.NodeMetadata\n",
      "got node identity,  <🔑 aec6ea4d @ 🟢 7bca415d> <class 'syft.service.project.project.NodeIdentity'>\n",
      "Got metadata syft.service.metadata.node_metadata.NodeMetadata\n",
      "got node identity,  <🔑 0dfade1d @ 🟢 b626124c> <class 'syft.service.project.project.NodeIdentity'>\n"
     ]
    },
    {
     "data": {
      "text/markdown": [
       "```python\n",
       "class NewProjectSubmit:\n",
       "  id: str = None\n",
       "  name: str = \"test project\"\n",
       "  description: str = \"my test project\"\n",
       "  shareholders: str = [<🔑 aec6ea4d @ 🟢 7bca415d>, <🔑 0dfade1d @ 🟢 b626124c>]\n",
       "  project_permissions: str = set()\n",
       "  state_sync_leader: str = None\n",
       "  consensus_model: str = <syft.service.project.project.DemocraticConsensusModel object at 0x1779f2680>\n",
       "\n",
       "```"
      ],
      "text/plain": [
       "syft.service.project.project.NewProjectSubmit"
      ]
     },
     "execution_count": 12,
     "metadata": {},
     "output_type": "execute_result"
    }
   ],
   "source": [
    "project = NewProjectSubmit(\n",
    "    name=\"test project\",\n",
    "    description=\"my test project\",\n",
    "    shareholders=[domain_1_client, domain_2_client],\n",
    "    consensus_model=DemocraticConsensusModel(),\n",
    ")\n",
    "project"
   ]
  },
  {
   "cell_type": "code",
   "execution_count": 13,
   "id": "ef17ae70-13bc-4191-bb87-595f149495f9",
   "metadata": {
    "tags": []
   },
   "outputs": [
    {
     "data": {
      "text/html": [
       "List - Size: 2\n",
       "<div>\n",
       "<style scoped>\n",
       "    .dataframe tbody tr th:only-of-type {\n",
       "        vertical-align: middle;\n",
       "    }\n",
       "\n",
       "    .dataframe tbody tr th {\n",
       "        vertical-align: top;\n",
       "    }\n",
       "\n",
       "    .dataframe thead th {\n",
       "        text-align: right;\n",
       "    }\n",
       "</style>\n",
       "<table border=\"1\" class=\"dataframe\">\n",
       "  <thead>\n",
       "    <tr style=\"text-align: right;\">\n",
       "      <th></th>\n",
       "      <th>type</th>\n",
       "      <th>id</th>\n",
       "      <th>name</th>\n",
       "      <th>shareholders</th>\n",
       "      <th>state_sync_leader</th>\n",
       "    </tr>\n",
       "  </thead>\n",
       "  <tbody>\n",
       "    <tr>\n",
       "      <th>0</th>\n",
       "      <td>syft.service.project.project.NewProject</td>\n",
       "      <td>4944aad2ebd4460fb003e35bf9f7abfb</td>\n",
       "      <td>test project</td>\n",
       "      <td>[&lt;🔑 aec6ea4d @ 🟢 7bca415d&gt;, &lt;🔑 0dfade1d @ 🟢 b6...</td>\n",
       "      <td>&lt;🔑 aec6ea4d @ 🟢 7bca415d&gt;</td>\n",
       "    </tr>\n",
       "    <tr>\n",
       "      <th>1</th>\n",
       "      <td>syft.service.project.project.NewProject</td>\n",
       "      <td>4944aad2ebd4460fb003e35bf9f7abfb</td>\n",
       "      <td>test project</td>\n",
       "      <td>[&lt;🔑 aec6ea4d @ 🟢 7bca415d&gt;, &lt;🔑 0dfade1d @ 🟢 b6...</td>\n",
       "      <td>&lt;🔑 aec6ea4d @ 🟢 7bca415d&gt;</td>\n",
       "    </tr>\n",
       "  </tbody>\n",
       "</table>\n",
       "</div>"
      ],
      "text/plain": [
       "[syft.service.project.project.NewProject,\n",
       " syft.service.project.project.NewProject]"
      ]
     },
     "execution_count": 13,
     "metadata": {},
     "output_type": "execute_result"
    }
   ],
   "source": [
    "results = project.start()\n",
    "results"
   ]
  },
  {
   "cell_type": "code",
   "execution_count": null,
   "id": "3f1aa2c5-b0ef-4ecb-9dc9-0206c1a2d601",
   "metadata": {
    "tags": []
   },
   "outputs": [],
   "source": [
    "results[0].start_hash"
   ]
  },
  {
   "cell_type": "code",
   "execution_count": null,
   "id": "a1a19b47-7f82-405a-8dd8-a6909e908540",
   "metadata": {
    "tags": []
   },
   "outputs": [],
   "source": [
    "assert results[0].start_hash == results[1].start_hash"
   ]
  },
  {
   "cell_type": "code",
   "execution_count": null,
   "id": "fbea2a9a-efb1-4dea-a86d-8f4beb030664",
   "metadata": {
    "tags": []
   },
   "outputs": [],
   "source": [
    "project = results[0]"
   ]
  },
  {
   "cell_type": "code",
   "execution_count": null,
   "id": "5a1d44e7-2ad9-4c8b-b8f3-1c21e16e0b28",
   "metadata": {
    "tags": []
   },
   "outputs": [],
   "source": [
    "project.shareholders"
   ]
  },
  {
   "cell_type": "code",
   "execution_count": null,
   "id": "a5ed3c07-de40-475b-bdc3-d08eef577a41",
   "metadata": {
    "tags": []
   },
   "outputs": [],
   "source": [
    "assert isinstance(project, NewProject)"
   ]
  },
  {
   "cell_type": "code",
   "execution_count": null,
   "id": "df6dc761-fac5-426a-a14c-44d78fb8ce61",
   "metadata": {
    "tags": []
   },
   "outputs": [],
   "source": [
    "assert len(domain_1_client.api.services.newproject.get_all()) == 1"
   ]
  },
  {
   "cell_type": "markdown",
   "id": "f033eaf2-9ddd-41eb-ab08-17670525d7f7",
   "metadata": {},
   "source": [
    "## Project Messaging"
   ]
  },
  {
   "cell_type": "code",
   "execution_count": null,
   "id": "16204ec4-df9c-4934-88b7-d5d6b39da9d9",
   "metadata": {
    "tags": []
   },
   "outputs": [],
   "source": [
    "from syft.service.project.project import ProjectMessage"
   ]
  },
  {
   "cell_type": "code",
   "execution_count": null,
   "id": "13177b15-fe8a-4bbe-9b24-9d6d6d7f6d85",
   "metadata": {
    "tags": []
   },
   "outputs": [],
   "source": [
    "prev_hash = results[0].start_hash"
   ]
  },
  {
   "cell_type": "code",
   "execution_count": null,
   "id": "00624495-2dea-4157-8d7e-bd4a175f483b",
   "metadata": {
    "tags": []
   },
   "outputs": [],
   "source": [
    "message = \"My cool message\"\n",
    "message_event = ProjectMessage(\n",
    "    project_id=project.id,\n",
    "    creator_verify_key=domain_1_client.credentials.verify_key,\n",
    "    prev_event_hash=prev_hash,\n",
    "    message=message\n",
    ")"
   ]
  },
  {
   "cell_type": "code",
   "execution_count": null,
   "id": "eab38de5-236c-44f8-afa6-183338c481c0",
   "metadata": {
    "tags": []
   },
   "outputs": [],
   "source": [
    "message_event"
   ]
  },
  {
   "cell_type": "code",
   "execution_count": null,
   "id": "3feeacf2-5bea-4023-aa49-7511be9530c5",
   "metadata": {
    "tags": []
   },
   "outputs": [],
   "source": [
    "message_event.event_hash = hash(message_event) + prev_hash"
   ]
  },
  {
   "cell_type": "code",
   "execution_count": null,
   "id": "a4494c27-5c6c-4c51-9d0f-b3c76288a519",
   "metadata": {
    "tags": []
   },
   "outputs": [],
   "source": [
    "message_event.sign(domain_1_client.credentials)"
   ]
  },
  {
   "cell_type": "code",
   "execution_count": null,
   "id": "8cc9bf08-24d7-411d-873b-4a35f7b04b49",
   "metadata": {
    "tags": []
   },
   "outputs": [],
   "source": [
    "message_event"
   ]
  },
  {
   "cell_type": "code",
   "execution_count": null,
   "id": "31004f0e-b926-4da5-9401-6a4b07cfebaf",
   "metadata": {
    "tags": []
   },
   "outputs": [],
   "source": [
    "message_event.valid"
   ]
  },
  {
   "cell_type": "code",
   "execution_count": null,
   "id": "788351fd-0e51-449e-8c53-316ce0060b5c",
   "metadata": {
    "tags": []
   },
   "outputs": [],
   "source": [
    "project.add_event(message_event)"
   ]
  },
  {
   "cell_type": "code",
   "execution_count": null,
   "id": "a0303744-ba4b-4f5c-a39d-ca0886df760c",
   "metadata": {
    "tags": []
   },
   "outputs": [],
   "source": [
    "domain_1_client.api.services.newproject.get_all()[0]"
   ]
  },
  {
   "cell_type": "code",
   "execution_count": null,
   "id": "cdb943cd-4b43-4055-8abd-509879d2ae83",
   "metadata": {
    "tags": []
   },
   "outputs": [],
   "source": [
    "domain_2_client.api.services.newproject.get_all()[0]"
   ]
  },
  {
   "cell_type": "code",
   "execution_count": null,
   "id": "3425abd6-fb49-4276-a165-a4f863b9c3f2",
   "metadata": {},
   "outputs": [],
   "source": []
  },
  {
   "cell_type": "markdown",
   "id": "568179b2-de7c-41ff-9357-cf67017c0d23",
   "metadata": {},
   "source": [
    "## Dataset Upload"
   ]
  },
  {
   "cell_type": "code",
   "execution_count": null,
   "id": "a64483c0-7325-4d89-98de-ed04f2239e17",
   "metadata": {
    "tags": []
   },
   "outputs": [],
   "source": [
    "import numpy as np\n",
    "dataset = sy.Dataset(name=\"Domains's... Private Data\")\n",
    "asset = sy.Asset(name=\"Secret data\")\n",
    "\n",
    "# Real Data\n",
    "x = np.array([1, 2, 3])\n",
    "asset.set_obj(x)\n",
    "\n",
    "# Mock Data\n",
    "y = np.array([1, 1, 1])\n",
    "asset.set_mock(y, mock_is_real=False)\n",
    "dataset.add_asset(asset)"
   ]
  },
  {
   "cell_type": "code",
   "execution_count": null,
   "id": "1b9adc35-431e-4556-b68c-caf5523f8439",
   "metadata": {
    "tags": []
   },
   "outputs": [],
   "source": [
    "domain_1_client.upload_dataset(dataset)"
   ]
  },
  {
   "cell_type": "code",
   "execution_count": null,
   "id": "9a521da4-d9f7-4e41-9855-c5aa3e4354e4",
   "metadata": {
    "tags": []
   },
   "outputs": [],
   "source": [
    "domain_1_client.datasets"
   ]
  },
  {
   "cell_type": "code",
   "execution_count": null,
   "id": "60a27736-a707-4c56-bde6-5963972e2d77",
   "metadata": {
    "tags": []
   },
   "outputs": [],
   "source": [
    "domain_1_dataset = domain_1_client.datasets[-1]\n",
    "@sy.syft_function(\n",
    "    input_policy=sy.ExactMatch(\n",
    "        input_data=domain_1_dataset.assets[0]\n",
    "    ),\n",
    "    output_policy=sy.SingleExecutionExactOutput(),\n",
    ")\n",
    "def simple_function(input_data):\n",
    "\n",
    "    return input_data+input_data"
   ]
  },
  {
   "cell_type": "code",
   "execution_count": null,
   "id": "a032a2d8-776f-475b-b912-23ec0e3bbcdf",
   "metadata": {
    "tags": []
   },
   "outputs": [],
   "source": [
    "simple_function"
   ]
  },
  {
   "cell_type": "code",
   "execution_count": null,
   "id": "c3742c2b-661d-4a72-9785-e7aba6f4012d",
   "metadata": {
    "tags": []
   },
   "outputs": [],
   "source": [
    "# req = domain_1_client.api.services.code.request_code_execution(simple_function)"
   ]
  },
  {
   "cell_type": "code",
   "execution_count": null,
   "id": "3971621c-08dd-4bb7-a76a-6f3d8f82fb53",
   "metadata": {
    "tags": []
   },
   "outputs": [],
   "source": [
    "# updated_proj = project.add_event(message_event)"
   ]
  },
  {
   "cell_type": "code",
   "execution_count": null,
   "id": "2814e794-eb6e-487b-947c-0d4ab2cac777",
   "metadata": {
    "tags": []
   },
   "outputs": [],
   "source": [
    "# updated_proj"
   ]
  },
  {
   "cell_type": "code",
   "execution_count": null,
   "id": "563a38af-de49-483f-99d1-0c980b5ede91",
   "metadata": {
    "tags": []
   },
   "outputs": [],
   "source": [
    "domain_1_client.api.services.newproject.get_all()[0]"
   ]
  },
  {
   "cell_type": "code",
   "execution_count": null,
   "id": "6bf87625-a99d-482d-8297-490a9b5a0d61",
   "metadata": {
    "tags": []
   },
   "outputs": [],
   "source": [
    "domain_2_client.api.services.newproject.get_all()[0]"
   ]
  },
  {
   "cell_type": "code",
   "execution_count": null,
   "id": "08e0f7dc-45d9-46ed-b235-cbdbba1e9360",
   "metadata": {},
   "outputs": [],
   "source": []
  },
  {
   "cell_type": "code",
   "execution_count": null,
   "id": "21187ed1-7153-4a7e-b51a-4521223fe58e",
   "metadata": {
    "tags": []
   },
   "outputs": [],
   "source": [
    "for node in [domain_1, domain_2]:\n",
    "    if node.node_type.value == \"python\":\n",
    "        node.land()"
   ]
  },
  {
   "cell_type": "code",
   "execution_count": null,
   "id": "4c21001e-eee3-4ad4-bf37-1a8aa9b98d76",
   "metadata": {},
   "outputs": [],
   "source": []
  }
 ],
 "metadata": {
  "kernelspec": {
   "display_name": "Python 3 (ipykernel)",
   "language": "python",
   "name": "python3"
  },
  "language_info": {
   "codemirror_mode": {
    "name": "ipython",
    "version": 3
   },
   "file_extension": ".py",
   "mimetype": "text/x-python",
   "name": "python",
   "nbconvert_exporter": "python",
   "pygments_lexer": "ipython3",
   "version": "3.10.9"
  }
 },
 "nbformat": 4,
 "nbformat_minor": 5
}
