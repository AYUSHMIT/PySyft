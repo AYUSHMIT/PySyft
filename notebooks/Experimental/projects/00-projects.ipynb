{
 "cells": [
  {
   "cell_type": "code",
   "execution_count": 1,
   "id": "4a0f1d5e-6d8c-485c-90ba-0b9c72dec8d7",
   "metadata": {
    "tags": []
   },
   "outputs": [
    {
     "name": "stdout",
     "output_type": "stream",
     "text": [
      "✅ The installed version of syft==0.8.1b1 matches the requirement >=0.8.1b0\n",
      "Autoreload enabled\n"
     ]
    }
   ],
   "source": [
    "import syft as sy\n",
    "sy.requires(\">=0.8.1-beta\")\n",
    "sy.enable_autoreload()"
   ]
  },
  {
   "cell_type": "code",
   "execution_count": 2,
   "id": "6fb9ae0b-745e-41db-8fa7-8bd6340731c5",
   "metadata": {
    "tags": []
   },
   "outputs": [
    {
     "name": "stdout",
     "output_type": "stream",
     "text": [
      "SQLite Store Path:\n",
      "!open file:///var/folders/lt/vttt10qd5fz4flpv9y1d55l40000gn/T/7bca415d13ed1ec841f0d0aede098dbb.sqlite\n",
      "\n",
      "> Domain: test-domain-1 - 7bca415d13ed1ec841f0d0aede098dbb - NodeType.DOMAIN\n",
      "\n",
      "Services:\n",
      "ActionService, DataSubjectMemberService, DataSubjectService, DatasetService, MessageService, MetadataService, NetworkService, NewProjectService, PolicyService, ProjectService, RequestService, UserCodeService, UserService\n"
     ]
    }
   ],
   "source": [
    "domain_1 = sy.orchestra.launch(name=\"test-domain-1\", dev_mode=True, reset=True)"
   ]
  },
  {
   "cell_type": "code",
   "execution_count": 3,
   "id": "cd7c6d52-03b9-4ef1-9bff-18b50a2530a0",
   "metadata": {
    "tags": []
   },
   "outputs": [],
   "source": [
    "domain_1_client = domain_1.login(email=\"info@openmined.org\", password=\"changethis\")"
   ]
  },
  {
   "cell_type": "code",
   "execution_count": 4,
   "id": "5c029c8b-6e42-43b3-84e7-244e8b6a4f1f",
   "metadata": {
    "tags": []
   },
   "outputs": [
    {
     "name": "stdout",
     "output_type": "stream",
     "text": [
      "SQLite Store Path:\n",
      "!open file:///var/folders/lt/vttt10qd5fz4flpv9y1d55l40000gn/T/b626124c319383c882a448dac2d6953d.sqlite\n",
      "\n",
      "> Domain: test-domain-2 - b626124c319383c882a448dac2d6953d - NodeType.DOMAIN\n",
      "\n",
      "Services:\n",
      "ActionService, DataSubjectMemberService, DataSubjectService, DatasetService, MessageService, MetadataService, NetworkService, NewProjectService, PolicyService, ProjectService, RequestService, UserCodeService, UserService\n"
     ]
    }
   ],
   "source": [
    "domain_2 = sy.orchestra.launch(name=\"test-domain-2\", dev_mode=True, reset=True)"
   ]
  },
  {
   "cell_type": "code",
   "execution_count": 5,
   "id": "b94f4af3-33dc-4f16-ba3b-34c7d52d7c55",
   "metadata": {
    "tags": []
   },
   "outputs": [],
   "source": [
    "domain_2_client = domain_2.login(email=\"info@openmined.org\", password=\"changethis\")"
   ]
  },
  {
   "cell_type": "code",
   "execution_count": 6,
   "id": "bc8f2ca5-2db5-4508-af49-b0cdfe1499ff",
   "metadata": {
    "tags": []
   },
   "outputs": [
    {
     "data": {
      "text/html": [
       "<div class=\"alert-success\" style=\"padding:5px;\"><strong>SyftSuccess</strong>: Route Verified</div><br />"
      ],
      "text/plain": [
       "<class 'syft.service.response.SyftSuccess'>: Route Verified"
      ]
     },
     "execution_count": 6,
     "metadata": {},
     "output_type": "execute_result"
    }
   ],
   "source": [
    "domain_1_client.exchange_route(domain_2_client)"
   ]
  },
  {
   "cell_type": "code",
   "execution_count": 39,
   "id": "6d641a74-e910-4086-a2cb-6b69c95e2f7b",
   "metadata": {
    "tags": []
   },
   "outputs": [
    {
     "data": {
      "text/html": [
       "List - Size: 1\n",
       "<div>\n",
       "<style scoped>\n",
       "    .dataframe tbody tr th:only-of-type {\n",
       "        vertical-align: middle;\n",
       "    }\n",
       "\n",
       "    .dataframe tbody tr th {\n",
       "        vertical-align: top;\n",
       "    }\n",
       "\n",
       "    .dataframe thead th {\n",
       "        text-align: right;\n",
       "    }\n",
       "</style>\n",
       "<table border=\"1\" class=\"dataframe\">\n",
       "  <thead>\n",
       "    <tr style=\"text-align: right;\">\n",
       "      <th></th>\n",
       "      <th>type</th>\n",
       "      <th>id</th>\n",
       "      <th>request_time</th>\n",
       "      <th>status</th>\n",
       "      <th>changes</th>\n",
       "    </tr>\n",
       "  </thead>\n",
       "  <tbody>\n",
       "    <tr>\n",
       "      <th>0</th>\n",
       "      <td>syft.service.request.request.Request</td>\n",
       "      <td>24f1f136f2134ea5a7949b02863cd48a</td>\n",
       "      <td>2023-05-08 02:02:20</td>\n",
       "      <td>RequestStatus.PENDING</td>\n",
       "      <td>[syft.service.request.request.UserCodeStatusCh...</td>\n",
       "    </tr>\n",
       "  </tbody>\n",
       "</table>\n",
       "</div>"
      ],
      "text/plain": [
       "[syft.service.request.request.Request]"
      ]
     },
     "execution_count": 39,
     "metadata": {},
     "output_type": "execute_result"
    }
   ],
   "source": [
    "domain_1_client.api.services.request.get_all()"
   ]
  },
  {
   "cell_type": "code",
   "execution_count": 28,
   "id": "3e04a5d8-74b7-4a5f-b3e4-c5e96570b496",
   "metadata": {
    "tags": []
   },
   "outputs": [
    {
     "data": {
      "text/html": [
       "List - Size: 1\n",
       "<div>\n",
       "<style scoped>\n",
       "    .dataframe tbody tr th:only-of-type {\n",
       "        vertical-align: middle;\n",
       "    }\n",
       "\n",
       "    .dataframe tbody tr th {\n",
       "        vertical-align: top;\n",
       "    }\n",
       "\n",
       "    .dataframe thead th {\n",
       "        text-align: right;\n",
       "    }\n",
       "</style>\n",
       "<table border=\"1\" class=\"dataframe\">\n",
       "  <thead>\n",
       "    <tr style=\"text-align: right;\">\n",
       "      <th></th>\n",
       "      <th>type</th>\n",
       "      <th>id</th>\n",
       "      <th>name</th>\n",
       "    </tr>\n",
       "  </thead>\n",
       "  <tbody>\n",
       "    <tr>\n",
       "      <th>0</th>\n",
       "      <td>syft.service.network.network_service.NodePeer</td>\n",
       "      <td>b626124c319383c882a448dac2d6953d</td>\n",
       "      <td>test-domain-2</td>\n",
       "    </tr>\n",
       "  </tbody>\n",
       "</table>\n",
       "</div>"
      ],
      "text/plain": [
       "[syft.service.network.network_service.NodePeer]"
      ]
     },
     "execution_count": 28,
     "metadata": {},
     "output_type": "execute_result"
    }
   ],
   "source": [
    "domain_1_client.domains"
   ]
  },
  {
   "cell_type": "code",
   "execution_count": 29,
   "id": "5078d92f-e3b0-4c47-95b3-e5dfbec0e543",
   "metadata": {
    "tags": []
   },
   "outputs": [],
   "source": [
    "assert len(domain_1_client.domains) == 1"
   ]
  },
  {
   "cell_type": "code",
   "execution_count": 30,
   "id": "72557d95-d1ca-4542-adbb-efcd97672124",
   "metadata": {
    "tags": []
   },
   "outputs": [
    {
     "data": {
      "text/html": [
       "List - Size: 1\n",
       "<div>\n",
       "<style scoped>\n",
       "    .dataframe tbody tr th:only-of-type {\n",
       "        vertical-align: middle;\n",
       "    }\n",
       "\n",
       "    .dataframe tbody tr th {\n",
       "        vertical-align: top;\n",
       "    }\n",
       "\n",
       "    .dataframe thead th {\n",
       "        text-align: right;\n",
       "    }\n",
       "</style>\n",
       "<table border=\"1\" class=\"dataframe\">\n",
       "  <thead>\n",
       "    <tr style=\"text-align: right;\">\n",
       "      <th></th>\n",
       "      <th>type</th>\n",
       "      <th>id</th>\n",
       "      <th>name</th>\n",
       "    </tr>\n",
       "  </thead>\n",
       "  <tbody>\n",
       "    <tr>\n",
       "      <th>0</th>\n",
       "      <td>syft.service.network.network_service.NodePeer</td>\n",
       "      <td>7bca415d13ed1ec841f0d0aede098dbb</td>\n",
       "      <td>test-domain-1</td>\n",
       "    </tr>\n",
       "  </tbody>\n",
       "</table>\n",
       "</div>"
      ],
      "text/plain": [
       "[syft.service.network.network_service.NodePeer]"
      ]
     },
     "execution_count": 30,
     "metadata": {},
     "output_type": "execute_result"
    }
   ],
   "source": [
    "domain_2_client.domains"
   ]
  },
  {
   "cell_type": "code",
   "execution_count": 31,
   "id": "bf35ed5f-e039-495d-804c-413e2d2c959d",
   "metadata": {
    "tags": []
   },
   "outputs": [],
   "source": [
    "assert len(domain_2_client.domains) == 1"
   ]
  },
  {
   "cell_type": "code",
   "execution_count": 32,
   "id": "06ec20dc-11f5-4df2-8727-a4c06b2e14c5",
   "metadata": {
    "tags": []
   },
   "outputs": [],
   "source": [
    "from syft.service.project.project import NewProjectSubmit\n",
    "from syft.service.project.project import NewProject\n",
    "from syft.service.project.project import DemocraticConsensusModel\n",
    "from syft.service.metadata.node_metadata import NodeMetadata"
   ]
  },
  {
   "cell_type": "code",
   "execution_count": 33,
   "id": "10be52fa-8ab5-469b-adbf-5debb25d8111",
   "metadata": {
    "tags": []
   },
   "outputs": [
    {
     "data": {
      "text/markdown": [
       "```python\n",
       "class NewProjectSubmit:\n",
       "  id: str = None\n",
       "  name: str = \"test project\"\n",
       "  description: str = \"my test project\"\n",
       "  shareholders: str = [syft.service.metadata.node_metadata.NodeMetadata, syft.service.metadata.node_metadata.NodeMetadata]\n",
       "  project_permissions: str = set()\n",
       "  state_sync_leader: str = None\n",
       "  consensus_model: str = <syft.service.project.project.DemocraticConsensusModel object at 0x29c0e5ea0>\n",
       "\n",
       "```"
      ],
      "text/plain": [
       "syft.service.project.project.NewProjectSubmit"
      ]
     },
     "execution_count": 33,
     "metadata": {},
     "output_type": "execute_result"
    }
   ],
   "source": [
    "project = NewProjectSubmit(\n",
    "    name=\"test project\",\n",
    "    description=\"my test project\",\n",
    "    shareholders=[domain_1_client, domain_2_client],\n",
    "    consensus_model=DemocraticConsensusModel(),\n",
    ")\n",
    "project"
   ]
  },
  {
   "cell_type": "code",
   "execution_count": 34,
   "id": "ef17ae70-13bc-4191-bb87-595f149495f9",
   "metadata": {
    "tags": []
   },
   "outputs": [
    {
     "name": "stdout",
     "output_type": "stream",
     "text": [
      "calculating hash {'id': None, 'name': 'test project', 'description': 'my test project', 'shareholders': [syft.service.metadata.node_metadata.NodeMetadata, syft.service.metadata.node_metadata.NodeMetadata], 'project_permissions': {'OWNER_0dfade1de62080fb5e584e38a1b82ca623859caaefd6f13ae821a4e5172df446', 'OWNER_aec6ea4dfc049ceacaeeebc493167a88a200ddc367b1fa32da652444b635d21f'}, 'state_sync_leader': syft.service.metadata.node_metadata.NodeMetadata, 'consensus_model': <syft.service.project.project.DemocraticConsensusModel object at 0x29c934cd0>, 'store': {}, 'permissions': {}, 'events': []} ['id', 'name', 'description', 'shareholders', 'project_permissions', 'state_sync_leader', 'consensus_model', 'store', 'permissions', 'events']\n",
      "calculating hash {'id': None, 'name': 'test project', 'description': 'my test project', 'shareholders': [syft.service.metadata.node_metadata.NodeMetadata, syft.service.metadata.node_metadata.NodeMetadata], 'project_permissions': {'OWNER_0dfade1de62080fb5e584e38a1b82ca623859caaefd6f13ae821a4e5172df446', 'OWNER_aec6ea4dfc049ceacaeeebc493167a88a200ddc367b1fa32da652444b635d21f'}, 'state_sync_leader': syft.service.metadata.node_metadata.NodeMetadata, 'consensus_model': <syft.service.project.project.DemocraticConsensusModel object at 0x29c9354b0>, 'store': {}, 'permissions': {}, 'events': []} ['id', 'name', 'description', 'shareholders', 'project_permissions', 'state_sync_leader', 'consensus_model', 'store', 'permissions', 'events']\n"
     ]
    }
   ],
   "source": [
    "project = project.start()"
   ]
  },
  {
   "cell_type": "code",
   "execution_count": 35,
   "id": "1e9cef83-5fbc-4431-afc7-814a5694d4aa",
   "metadata": {
    "tags": []
   },
   "outputs": [
    {
     "data": {
      "text/markdown": [
       "```python\n",
       "class NewProject:\n",
       "  id: str = c1815520efaf4abf99311c6961845611\n",
       "  name: str = \"test project\"\n",
       "  description: str = \"my test project\"\n",
       "  shareholders: str = [syft.service.metadata.node_metadata.NodeMetadata, syft.service.metadata.node_metadata.NodeMetadata]\n",
       "  project_permissions: str = {'OWNER_0dfade1de62080fb5e584e38a1b82ca623859caaefd6f13ae821a4e5172df446', 'OWNER_aec6ea4dfc049ceacaeeebc493167a88a200ddc367b1fa32da652444b635d21f'}\n",
       "  state_sync_leader: str = syft.service.metadata.node_metadata.NodeMetadata\n",
       "  consensus_model: str = <syft.service.project.project.DemocraticConsensusModel object at 0x29c78e560>\n",
       "  store: str = {}\n",
       "  permissions: str = {}\n",
       "  events: str = []\n",
       "  start_hash: str = 27147551039390361129\n",
       "\n",
       "```"
      ],
      "text/plain": [
       "syft.service.project.project.NewProject"
      ]
     },
     "execution_count": 35,
     "metadata": {},
     "output_type": "execute_result"
    }
   ],
   "source": [
    "project"
   ]
  },
  {
   "cell_type": "code",
   "execution_count": 15,
   "id": "5a1d44e7-2ad9-4c8b-b8f3-1c21e16e0b28",
   "metadata": {
    "tags": []
   },
   "outputs": [
    {
     "data": {
      "text/html": [
       "List - Size: 2\n",
       "<div>\n",
       "<style scoped>\n",
       "    .dataframe tbody tr th:only-of-type {\n",
       "        vertical-align: middle;\n",
       "    }\n",
       "\n",
       "    .dataframe tbody tr th {\n",
       "        vertical-align: top;\n",
       "    }\n",
       "\n",
       "    .dataframe thead th {\n",
       "        text-align: right;\n",
       "    }\n",
       "</style>\n",
       "<table border=\"1\" class=\"dataframe\">\n",
       "  <thead>\n",
       "    <tr style=\"text-align: right;\">\n",
       "      <th></th>\n",
       "      <th>type</th>\n",
       "      <th>id</th>\n",
       "    </tr>\n",
       "  </thead>\n",
       "  <tbody>\n",
       "    <tr>\n",
       "      <th>0</th>\n",
       "      <td>syft.service.metadata.node_metadata.NodeMetadata</td>\n",
       "      <td>7bca415d13ed1ec841f0d0aede098dbb</td>\n",
       "    </tr>\n",
       "    <tr>\n",
       "      <th>1</th>\n",
       "      <td>syft.service.metadata.node_metadata.NodeMetadata</td>\n",
       "      <td>b626124c319383c882a448dac2d6953d</td>\n",
       "    </tr>\n",
       "  </tbody>\n",
       "</table>\n",
       "</div>"
      ],
      "text/plain": [
       "[syft.service.metadata.node_metadata.NodeMetadata,\n",
       " syft.service.metadata.node_metadata.NodeMetadata]"
      ]
     },
     "execution_count": 15,
     "metadata": {},
     "output_type": "execute_result"
    }
   ],
   "source": [
    "project.shareholders"
   ]
  },
  {
   "cell_type": "code",
   "execution_count": 16,
   "id": "a5ed3c07-de40-475b-bdc3-d08eef577a41",
   "metadata": {
    "tags": []
   },
   "outputs": [],
   "source": [
    "assert isinstance(project, NewProject)"
   ]
  },
  {
   "cell_type": "code",
   "execution_count": null,
   "id": "df6dc761-fac5-426a-a14c-44d78fb8ce61",
   "metadata": {},
   "outputs": [],
   "source": []
  },
  {
   "cell_type": "markdown",
   "id": "568179b2-de7c-41ff-9357-cf67017c0d23",
   "metadata": {},
   "source": [
    "## Dataset Upload"
   ]
  },
  {
   "cell_type": "code",
   "execution_count": 17,
   "id": "a64483c0-7325-4d89-98de-ed04f2239e17",
   "metadata": {
    "tags": []
   },
   "outputs": [],
   "source": [
    "import numpy as np\n",
    "dataset = sy.Dataset(name=\"Domains's... Private Data\")\n",
    "asset = sy.Asset(name=\"Secret data\")\n",
    "\n",
    "# Real Data\n",
    "x = np.array([1, 2, 3])\n",
    "asset.set_obj(x)\n",
    "\n",
    "# Mock Data\n",
    "y = np.array([1, 1, 1])\n",
    "asset.set_mock(y, mock_is_real=False)\n",
    "dataset.add_asset(asset)\n",
    "\n"
   ]
  },
  {
   "cell_type": "code",
   "execution_count": 18,
   "id": "1b9adc35-431e-4556-b68c-caf5523f8439",
   "metadata": {
    "tags": []
   },
   "outputs": [
    {
     "name": "stderr",
     "output_type": "stream",
     "text": [
      "  0%| | 0/1 [00:00<?, ?it"
     ]
    },
    {
     "name": "stdout",
     "output_type": "stream",
     "text": [
      "Uploading: Secret data\n"
     ]
    },
    {
     "name": "stderr",
     "output_type": "stream",
     "text": [
      "100%|█| 1/1 [00:00<00:00,\n"
     ]
    },
    {
     "data": {
      "text/html": [
       "<div class=\"alert-success\" style=\"padding:5px;\"><strong>SyftSuccess</strong>: Dataset Added</div><br />"
      ],
      "text/plain": [
       "<class 'syft.service.response.SyftSuccess'>: Dataset Added"
      ]
     },
     "execution_count": 18,
     "metadata": {},
     "output_type": "execute_result"
    }
   ],
   "source": [
    "domain_1_client.upload_dataset(dataset)"
   ]
  },
  {
   "cell_type": "code",
   "execution_count": 19,
   "id": "9a521da4-d9f7-4e41-9855-c5aa3e4354e4",
   "metadata": {
    "tags": []
   },
   "outputs": [
    {
     "data": {
      "text/html": [
       "List - Size: 1\n",
       "<div>\n",
       "<style scoped>\n",
       "    .dataframe tbody tr th:only-of-type {\n",
       "        vertical-align: middle;\n",
       "    }\n",
       "\n",
       "    .dataframe tbody tr th {\n",
       "        vertical-align: top;\n",
       "    }\n",
       "\n",
       "    .dataframe thead th {\n",
       "        text-align: right;\n",
       "    }\n",
       "</style>\n",
       "<table border=\"1\" class=\"dataframe\">\n",
       "  <thead>\n",
       "    <tr style=\"text-align: right;\">\n",
       "      <th></th>\n",
       "      <th>type</th>\n",
       "      <th>id</th>\n",
       "      <th>name</th>\n",
       "      <th>url</th>\n",
       "    </tr>\n",
       "  </thead>\n",
       "  <tbody>\n",
       "    <tr>\n",
       "      <th>0</th>\n",
       "      <td>syft.service.dataset.dataset.Dataset</td>\n",
       "      <td>52e3ff59e7e347d9a936c7cc4d47eb88</td>\n",
       "      <td>Domains's... Private Data</td>\n",
       "      <td>None</td>\n",
       "    </tr>\n",
       "  </tbody>\n",
       "</table>\n",
       "</div>"
      ],
      "text/plain": [
       "<syft.client.api.APIModule at 0x29a1cc400>"
      ]
     },
     "execution_count": 19,
     "metadata": {},
     "output_type": "execute_result"
    }
   ],
   "source": [
    "domain_1_client.datasets"
   ]
  },
  {
   "cell_type": "code",
   "execution_count": 20,
   "id": "60a27736-a707-4c56-bde6-5963972e2d77",
   "metadata": {
    "tags": []
   },
   "outputs": [],
   "source": [
    "domain_1_dataset = domain_1_client.datasets[-1]\n",
    "@sy.syft_function(\n",
    "    input_policy=sy.ExactMatch(\n",
    "        input_data=domain_1_dataset.assets[0]\n",
    "    ),\n",
    "    output_policy=sy.SingleExecutionExactOutput(),\n",
    ")\n",
    "def simple_function(input_data):\n",
    "\n",
    "    return input_data+input_data"
   ]
  },
  {
   "cell_type": "code",
   "execution_count": 21,
   "id": "a032a2d8-776f-475b-b912-23ec0e3bbcdf",
   "metadata": {
    "tags": []
   },
   "outputs": [
    {
     "data": {
      "text/markdown": [
       "```python\n",
       "class SubmitUserCode:\n",
       "  id: str = None\n",
       "  code: str = \"@sy.syft_function(\n",
       "    input_policy=sy.ExactMatch(\n",
       "        input_data=domain_1_dataset.assets[0]\n",
       "    ),\n",
       "    output_policy=sy.SingleExecutionExactOutput(),\n",
       ")\n",
       "def simple_function(input_data):\n",
       "\n",
       "    return input_data+input_data\n",
       "\"\n",
       "  func_name: str = \"simple_function\"\n",
       "  signature: str = (input_data)\n",
       "  input_policy_type: str = <class 'syft.service.policy.policy.ExactMatch'>\n",
       "  input_policy_init_kwargs: str = {NodeView(node_name='test-domain-1', verify_key=aec6ea4dfc049ceacaeeebc493167a88a200ddc367b1fa32da652444b635d21f): {'input_data': <UID: 11db62c8de1f4745b66197a042bdd1bb>}}\n",
       "  output_policy_type: str = <class 'syft.service.policy.policy.OutputPolicyExecuteOnce'>\n",
       "  output_policy_init_kwargs: str = {}\n",
       "  local_function: str = <function simple_function at 0x290b9c9d0>\n",
       "  input_kwargs: str = ['input_data']\n",
       "  enclave_metadata: str = None\n",
       "\n",
       "```"
      ],
      "text/plain": [
       "syft.service.code.user_code.SubmitUserCode"
      ]
     },
     "execution_count": 21,
     "metadata": {},
     "output_type": "execute_result"
    }
   ],
   "source": [
    "simple_function"
   ]
  },
  {
   "cell_type": "code",
   "execution_count": 22,
   "id": "c3742c2b-661d-4a72-9785-e7aba6f4012d",
   "metadata": {
    "tags": []
   },
   "outputs": [],
   "source": [
    "req = domain_1_client.api.services.code.request_code_execution(simple_function)"
   ]
  },
  {
   "cell_type": "code",
   "execution_count": 23,
   "id": "3971621c-08dd-4bb7-a76a-6f3d8f82fb53",
   "metadata": {
    "tags": []
   },
   "outputs": [
    {
     "data": {
      "text/markdown": [
       "```python\n",
       "class NewProject:\n",
       "  id: str = 84440fcd1be9468fbf5f138cdd7eae33\n",
       "  name: str = \"test project\"\n",
       "  description: str = \"my test project\"\n",
       "  shareholders: str = [syft.service.metadata.node_metadata.NodeMetadata, syft.service.metadata.node_metadata.NodeMetadata]\n",
       "  project_permissions: str = {'OWNER_0dfade1de62080fb5e584e38a1b82ca623859caaefd6f13ae821a4e5172df446', 'OWNER_aec6ea4dfc049ceacaeeebc493167a88a200ddc367b1fa32da652444b635d21f'}\n",
       "  state_sync_leader: str = syft.service.metadata.node_metadata.NodeMetadata\n",
       "  consensus_model: str = <syft.service.project.project.DemocraticConsensusModel object at 0x29a621de0>\n",
       "  store: str = {}\n",
       "  permissions: str = {}\n",
       "  events: str = [syft.service.project.project.ProjectEvent]\n",
       "  start_hash: str = 27147551039390361129\n",
       "\n",
       "```"
      ],
      "text/plain": [
       "syft.service.project.project.NewProject"
      ]
     },
     "execution_count": 23,
     "metadata": {},
     "output_type": "execute_result"
    }
   ],
   "source": [
    "project.add_request(req)"
   ]
  },
  {
   "cell_type": "code",
   "execution_count": 24,
   "id": "19fc9b9f-59e0-49f6-b5ae-3575d5656772",
   "metadata": {
    "tags": []
   },
   "outputs": [
    {
     "data": {
      "text/markdown": [
       "```python\n",
       "class ProjectEvent:\n",
       "  id: str = 22e0a0908bd54e92931cce1a3f086704\n",
       "  timestamp: str = \"2023-05-08 07:32:08\"\n",
       "  event_type: str = EventTypes.REQUEST\n",
       "  event_data: str = syft.service.request.request.Request\n",
       "  user_verify_key: str = aec6ea4dfc049ceacaeeebc493167a88a200ddc367b1fa32da652444b635d21f\n",
       "  project_id: str = 84440fcd1be9468fbf5f138cdd7eae33\n",
       "\n",
       "```"
      ],
      "text/plain": [
       "syft.service.project.project.ProjectEvent"
      ]
     },
     "execution_count": 24,
     "metadata": {},
     "output_type": "execute_result"
    }
   ],
   "source": [
    "project.events[0]"
   ]
  },
  {
   "cell_type": "code",
   "execution_count": 25,
   "id": "47d335f9-96bb-4723-8042-c61de342900a",
   "metadata": {
    "tags": []
   },
   "outputs": [
    {
     "data": {
      "text/markdown": [
       "```python\n",
       "class NodeMetadata:\n",
       "  id: str = 7bca415d13ed1ec841f0d0aede098dbb\n",
       "  name: str = \"test-domain-1\"\n",
       "  verify_key: str = aec6ea4dfc049ceacaeeebc493167a88a200ddc367b1fa32da652444b635d21f\n",
       "  highest_object_version: str = 2\n",
       "  lowest_object_version: str = 1\n",
       "  syft_version: str = \"0.8.1-beta.1\"\n",
       "  node_type: str = \"Domain\"\n",
       "  deployed_on: str = \"Date\"\n",
       "  organization: str = \"OpenMined\"\n",
       "  on_board: str = False\n",
       "  description: str = \"Text\"\n",
       "\n",
       "```"
      ],
      "text/plain": [
       "syft.service.metadata.node_metadata.NodeMetadata"
      ]
     },
     "execution_count": 25,
     "metadata": {},
     "output_type": "execute_result"
    }
   ],
   "source": [
    "project.state_sync_leader"
   ]
  },
  {
   "cell_type": "code",
   "execution_count": null,
   "id": "5bab7178-8413-427f-ab17-e6fe51b478f9",
   "metadata": {
    "tags": []
   },
   "outputs": [],
   "source": [
    "project.events"
   ]
  },
  {
   "cell_type": "code",
   "execution_count": null,
   "id": "21187ed1-7153-4a7e-b51a-4521223fe58e",
   "metadata": {
    "tags": []
   },
   "outputs": [],
   "source": [
    "for node in [domain_1, domain_2]:\n",
    "    if node.node_type.value == \"python\":\n",
    "        node.land()"
   ]
  }
 ],
 "metadata": {
  "kernelspec": {
   "display_name": "Python 3 (ipykernel)",
   "language": "python",
   "name": "python3"
  },
  "language_info": {
   "codemirror_mode": {
    "name": "ipython",
    "version": 3
   },
   "file_extension": ".py",
   "mimetype": "text/x-python",
   "name": "python",
   "nbconvert_exporter": "python",
   "pygments_lexer": "ipython3",
   "version": "3.10.10"
  }
 },
 "nbformat": 4,
 "nbformat_minor": 5
}
