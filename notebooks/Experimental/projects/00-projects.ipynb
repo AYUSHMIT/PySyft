{
 "cells": [
  {
   "cell_type": "code",
   "execution_count": null,
   "id": "4a0f1d5e-6d8c-485c-90ba-0b9c72dec8d7",
   "metadata": {
    "tags": []
   },
   "outputs": [],
   "source": [
    "import syft as sy\n",
    "sy.requires(\">=0.8.1-beta\")\n",
    "sy.enable_autoreload()"
   ]
  },
  {
   "cell_type": "code",
   "execution_count": null,
   "id": "6fb9ae0b-745e-41db-8fa7-8bd6340731c5",
   "metadata": {
    "tags": []
   },
   "outputs": [],
   "source": [
    "domain_1 = sy.orchestra.launch(name=\"test-domain-1\", dev_mode=True, reset=True)"
   ]
  },
  {
   "cell_type": "code",
   "execution_count": null,
   "id": "cd7c6d52-03b9-4ef1-9bff-18b50a2530a0",
   "metadata": {
    "tags": []
   },
   "outputs": [],
   "source": [
    "domain_1_client = domain_1.login(email=\"info@openmined.org\", password=\"changethis\")"
   ]
  },
  {
   "cell_type": "code",
   "execution_count": null,
   "id": "5c029c8b-6e42-43b3-84e7-244e8b6a4f1f",
   "metadata": {
    "tags": []
   },
   "outputs": [],
   "source": [
    "domain_2 = sy.orchestra.launch(name=\"test-domain-2\", dev_mode=True, reset=True)"
   ]
  },
  {
   "cell_type": "code",
   "execution_count": null,
   "id": "b94f4af3-33dc-4f16-ba3b-34c7d52d7c55",
   "metadata": {
    "tags": []
   },
   "outputs": [],
   "source": [
    "domain_2_client = domain_2.login(email=\"info@openmined.org\", password=\"changethis\")"
   ]
  },
  {
   "cell_type": "code",
   "execution_count": null,
   "id": "bc8f2ca5-2db5-4508-af49-b0cdfe1499ff",
   "metadata": {
    "tags": []
   },
   "outputs": [],
   "source": [
    "domain_1_client.exchange_route(domain_2_client)"
   ]
  },
  {
   "cell_type": "code",
   "execution_count": null,
   "id": "3e04a5d8-74b7-4a5f-b3e4-c5e96570b496",
   "metadata": {
    "tags": []
   },
   "outputs": [],
   "source": [
    "domain_1_client.domains"
   ]
  },
  {
   "cell_type": "code",
   "execution_count": null,
   "id": "5078d92f-e3b0-4c47-95b3-e5dfbec0e543",
   "metadata": {
    "tags": []
   },
   "outputs": [],
   "source": [
    "assert len(domain_1_client.domains) == 1"
   ]
  },
  {
   "cell_type": "code",
   "execution_count": null,
   "id": "72557d95-d1ca-4542-adbb-efcd97672124",
   "metadata": {
    "tags": []
   },
   "outputs": [],
   "source": [
    "domain_2_client.domains"
   ]
  },
  {
   "cell_type": "code",
   "execution_count": null,
   "id": "bf35ed5f-e039-495d-804c-413e2d2c959d",
   "metadata": {
    "tags": []
   },
   "outputs": [],
   "source": [
    "assert len(domain_2_client.domains) == 1"
   ]
  },
  {
   "cell_type": "code",
   "execution_count": null,
   "id": "06ec20dc-11f5-4df2-8727-a4c06b2e14c5",
   "metadata": {
    "tags": []
   },
   "outputs": [],
   "source": [
    "from syft.service.project.project import NewProjectSubmit\n",
    "from syft.service.project.project import NewProject\n",
    "from syft.service.project.project import DemocraticConsensusModel\n",
    "from syft.service.metadata.node_metadata import NodeMetadata"
   ]
  },
  {
   "cell_type": "code",
   "execution_count": null,
   "id": "10be52fa-8ab5-469b-adbf-5debb25d8111",
   "metadata": {
    "tags": []
   },
   "outputs": [],
   "source": [
    "project = NewProjectSubmit(\n",
    "    name=\"test project\",\n",
    "    description=\"my test project\",\n",
    "    shareholders=[domain_1_client.metadata.to(NodeMetadata).verify_key, domain_2_client.metadata.to(NodeMetadata).verify_key],\n",
    "    consensus_model=DemocraticConsensusModel(),\n",
    ")\n",
    "project"
   ]
  },
  {
   "cell_type": "code",
   "execution_count": null,
   "id": "db1cf28d-ba4f-49e3-bf34-bd013c4b1c14",
   "metadata": {
    "tags": []
   },
   "outputs": [],
   "source": [
    "project = domain_1_client.api.services.project.start(project)"
   ]
  },
  {
   "cell_type": "code",
   "execution_count": null,
   "id": "a5ed3c07-de40-475b-bdc3-d08eef577a41",
   "metadata": {
    "tags": []
   },
   "outputs": [],
   "source": [
    "assert isinstance(project, NewProject)"
   ]
  },
  {
   "cell_type": "markdown",
   "id": "568179b2-de7c-41ff-9357-cf67017c0d23",
   "metadata": {},
   "source": [
    "## Dataset Upload"
   ]
  },
  {
   "cell_type": "code",
   "execution_count": null,
   "id": "a64483c0-7325-4d89-98de-ed04f2239e17",
   "metadata": {
    "tags": []
   },
   "outputs": [],
   "source": [
    "import numpy as np\n",
    "dataset = sy.Dataset(name=\"Domains's... Private Data\")\n",
    "asset = sy.Asset(name=\"Secret data\")\n",
    "\n",
    "# Real Data\n",
    "x = np.array([1, 2, 3])\n",
    "asset.set_obj(x)\n",
    "\n",
    "# Mock Data\n",
    "y = np.array([1, 1, 1])\n",
    "asset.set_mock(y, mock_is_real=False)\n",
    "dataset.add_asset(asset)\n",
    "\n"
   ]
  },
  {
   "cell_type": "code",
   "execution_count": null,
   "id": "1b9adc35-431e-4556-b68c-caf5523f8439",
   "metadata": {
    "tags": []
   },
   "outputs": [],
   "source": [
    "domain_1_client.upload_dataset(dataset)"
   ]
  },
  {
   "cell_type": "code",
   "execution_count": null,
   "id": "9a521da4-d9f7-4e41-9855-c5aa3e4354e4",
   "metadata": {
    "tags": []
   },
   "outputs": [],
   "source": [
    "domain_1_client.datasets"
   ]
  },
  {
   "cell_type": "code",
   "execution_count": null,
   "id": "60a27736-a707-4c56-bde6-5963972e2d77",
   "metadata": {
    "tags": []
   },
   "outputs": [],
   "source": [
    "domain_1_dataset = domain_1_client.datasets[-1]\n",
    "@sy.syft_function(\n",
    "    input_policy=sy.ExactMatch(\n",
    "        input_data=domain_1_dataset.assets[0]\n",
    "    ),\n",
    "    output_policy=sy.SingleExecutionExactOutput(),\n",
    ")\n",
    "def simple_function(input_data):\n",
    "\n",
    "    return input_data+input_data"
   ]
  },
  {
   "cell_type": "code",
   "execution_count": null,
   "id": "a032a2d8-776f-475b-b912-23ec0e3bbcdf",
   "metadata": {
    "tags": []
   },
   "outputs": [],
   "source": [
    "simple_function"
   ]
  },
  {
   "cell_type": "code",
   "execution_count": null,
   "id": "c3742c2b-661d-4a72-9785-e7aba6f4012d",
   "metadata": {
    "tags": []
   },
   "outputs": [],
   "source": [
    "req = domain_1_client.api.services.code.request_code_execution(simple_function)"
   ]
  },
  {
   "cell_type": "code",
   "execution_count": null,
   "id": "3971621c-08dd-4bb7-a76a-6f3d8f82fb53",
   "metadata": {
    "tags": []
   },
   "outputs": [],
   "source": [
    "project.add_request(req)"
   ]
  },
  {
   "cell_type": "code",
   "execution_count": null,
   "id": "47d335f9-96bb-4723-8042-c61de342900a",
   "metadata": {
    "tags": []
   },
   "outputs": [],
   "source": [
    "project"
   ]
  },
  {
   "cell_type": "code",
   "execution_count": null,
   "id": "21187ed1-7153-4a7e-b51a-4521223fe58e",
   "metadata": {
    "tags": []
   },
   "outputs": [],
   "source": [
    "for node in [domain_1, domain_2]:\n",
    "    if node.node_type.value == \"python\":\n",
    "        node.land()"
   ]
  }
 ],
 "metadata": {
  "kernelspec": {
   "display_name": "Python 3 (ipykernel)",
   "language": "python",
   "name": "python3"
  },
  "language_info": {
   "codemirror_mode": {
    "name": "ipython",
    "version": 3
   },
   "file_extension": ".py",
   "mimetype": "text/x-python",
   "name": "python",
   "nbconvert_exporter": "python",
   "pygments_lexer": "ipython3",
   "version": "3.10.10"
  }
 },
 "nbformat": 4,
 "nbformat_minor": 5
}
