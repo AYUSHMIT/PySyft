{
 "cells": [
  {
   "cell_type": "markdown",
   "id": "5c44d76a-e869-4ef2-a623-90717a011969",
   "metadata": {},
   "source": [
    "## Messaging Feature"
   ]
  },
  {
   "cell_type": "code",
   "execution_count": 1,
   "id": "62fea8bf-5c0f-4c28-99e5-a2136c111080",
   "metadata": {
    "tags": []
   },
   "outputs": [
    {
     "name": "stdout",
     "output_type": "stream",
     "text": [
      "✅ The installed version of syft==0.8.1b2 matches the requirement >=0.8.1b0\n",
      "Autoreload enabled\n"
     ]
    }
   ],
   "source": [
    "import syft as sy\n",
    "sy.requires(\">=0.8.1-beta\")\n",
    "sy.enable_autoreload()\n",
    "\n",
    "# project imports\n",
    "from syft.service.project.project import ProjectSubmit\n",
    "from syft.service.project.project import Project\n",
    "from syft.service.project.project import DemocraticConsensusModel"
   ]
  },
  {
   "cell_type": "code",
   "execution_count": 2,
   "id": "dac85613-b97c-4200-b0d5-e725857d2e0d",
   "metadata": {
    "tags": []
   },
   "outputs": [
    {
     "name": "stdout",
     "output_type": "stream",
     "text": [
      "SQLite Store Path:\n",
      "!open file:///var/folders/lt/vttt10qd5fz4flpv9y1d55l40000gn/T/3bc51062973c458d5a6f2d8d64a02324.sqlite\n",
      "\n",
      "SQLite Store Path:\n",
      "!open file:///var/folders/lt/vttt10qd5fz4flpv9y1d55l40000gn/T/cd9fb1e148ccd8442e5aa74904cc73bf.sqlite\n",
      "\n"
     ]
    }
   ],
   "source": [
    "alice_domain = sy.orchestra.launch(name=\"Alice\", dev_mode=True, reset=True)\n",
    "bob_domain = sy.orchestra.launch(name=\"Bob\", dev_mode=True, reset=True)"
   ]
  },
  {
   "cell_type": "code",
   "execution_count": 3,
   "id": "c9048301-942e-421b-ac83-78eb7657a4f5",
   "metadata": {
    "tags": []
   },
   "outputs": [],
   "source": [
    "alice_domain_client = alice_domain.login(email=\"info@openmined.org\", password=\"changethis\")\n",
    "bob_domain_client = bob_domain.login(email=\"info@openmined.org\", password=\"changethis\")"
   ]
  },
  {
   "cell_type": "code",
   "execution_count": 4,
   "id": "09b494a4-33c6-4cae-8941-1f595cf2a3a5",
   "metadata": {
    "tags": []
   },
   "outputs": [
    {
     "data": {
      "text/html": [
       "<div class=\"alert-success\" style=\"padding:5px;\"><strong>SyftSuccess</strong>: Route Verified</div><br />"
      ],
      "text/plain": [
       "<class 'syft.service.response.SyftSuccess'>: Route Verified"
      ]
     },
     "execution_count": 4,
     "metadata": {},
     "output_type": "execute_result"
    }
   ],
   "source": [
    "alice_domain_client.exchange_route(bob_domain_client)"
   ]
  },
  {
   "cell_type": "code",
   "execution_count": 5,
   "id": "2df0af63-bf42-4f2b-b010-e0e1311e0dbd",
   "metadata": {
    "tags": []
   },
   "outputs": [],
   "source": [
    "assert len(alice_domain_client.domains) == 1\n",
    "assert alice_domain_client.domains[0].name == \"Bob\"\n",
    "assert len(bob_domain_client.domains) == 1\n",
    "assert bob_domain_client.domains[0].name == \"Alice\""
   ]
  },
  {
   "cell_type": "code",
   "execution_count": 6,
   "id": "29f8b931-f0fd-4b17-bebc-795b71fa2e73",
   "metadata": {
    "tags": []
   },
   "outputs": [
    {
     "data": {
      "text/markdown": [
       "```python\n",
       "class ProjectSubmit:\n",
       "  id: str = None\n",
       "  name: str = \"test project\"\n",
       "  description: str = \"my test project\"\n",
       "  shareholders: str = [<🔑 00768594 @ 🟢 3bc51062>, <🔑 71fbd53d @ 🟢 cd9fb1e1>]\n",
       "  project_permissions: str = set()\n",
       "  state_sync_leader: str = None\n",
       "  consensus_model: str = <syft.service.project.project.DemocraticConsensusModel object at 0x2a6f9cf40>\n",
       "\n",
       "```"
      ],
      "text/plain": [
       "syft.service.project.project.ProjectSubmit"
      ]
     },
     "execution_count": 6,
     "metadata": {},
     "output_type": "execute_result"
    }
   ],
   "source": [
    "project = ProjectSubmit(\n",
    "    name=\"test project\",\n",
    "    description=\"my test project\",\n",
    "    shareholders=[alice_domain_client, bob_domain_client],\n",
    "    consensus_model=DemocraticConsensusModel(),\n",
    ")\n",
    "project"
   ]
  },
  {
   "cell_type": "code",
   "execution_count": 7,
   "id": "4cf7cfef-9a74-4646-975c-74324bd5e21a",
   "metadata": {
    "tags": []
   },
   "outputs": [
    {
     "data": {
      "text/html": [
       "List - Size: 2\n",
       "<div>\n",
       "<style scoped>\n",
       "    .dataframe tbody tr th:only-of-type {\n",
       "        vertical-align: middle;\n",
       "    }\n",
       "\n",
       "    .dataframe tbody tr th {\n",
       "        vertical-align: top;\n",
       "    }\n",
       "\n",
       "    .dataframe thead th {\n",
       "        text-align: right;\n",
       "    }\n",
       "</style>\n",
       "<table border=\"1\" class=\"dataframe\">\n",
       "  <thead>\n",
       "    <tr style=\"text-align: right;\">\n",
       "      <th></th>\n",
       "      <th>type</th>\n",
       "      <th>id</th>\n",
       "      <th>name</th>\n",
       "      <th>shareholders</th>\n",
       "      <th>state_sync_leader</th>\n",
       "    </tr>\n",
       "  </thead>\n",
       "  <tbody>\n",
       "    <tr>\n",
       "      <th>0</th>\n",
       "      <td>syft.service.project.project.Project</td>\n",
       "      <td>f2d89cc34d294d2fbf65af06a83ce135</td>\n",
       "      <td>test project</td>\n",
       "      <td>[&lt;🔑 00768594 @ 🟢 3bc51062&gt;, &lt;🔑 71fbd53d @ 🟢 cd...</td>\n",
       "      <td>&lt;🔑 00768594 @ 🟢 3bc51062&gt;</td>\n",
       "    </tr>\n",
       "    <tr>\n",
       "      <th>1</th>\n",
       "      <td>syft.service.project.project.Project</td>\n",
       "      <td>f2d89cc34d294d2fbf65af06a83ce135</td>\n",
       "      <td>test project</td>\n",
       "      <td>[&lt;🔑 00768594 @ 🟢 3bc51062&gt;, &lt;🔑 71fbd53d @ 🟢 cd...</td>\n",
       "      <td>&lt;🔑 00768594 @ 🟢 3bc51062&gt;</td>\n",
       "    </tr>\n",
       "  </tbody>\n",
       "</table>\n",
       "</div>"
      ],
      "text/plain": [
       "[syft.service.project.project.Project,\n",
       " syft.service.project.project.Project]"
      ]
     },
     "execution_count": 7,
     "metadata": {},
     "output_type": "execute_result"
    }
   ],
   "source": [
    "results = project.start()\n",
    "results"
   ]
  },
  {
   "cell_type": "markdown",
   "id": "5aba21b7-64c9-4ed1-b19e-d8367a104638",
   "metadata": {
    "tags": []
   },
   "source": [
    "## Retrieving project"
   ]
  },
  {
   "cell_type": "code",
   "execution_count": 8,
   "id": "16bab4ba-1145-442e-8ff7-2a9583a25bf0",
   "metadata": {
    "tags": []
   },
   "outputs": [
    {
     "data": {
      "text/html": [
       "List - Size: 1\n",
       "<div>\n",
       "<style scoped>\n",
       "    .dataframe tbody tr th:only-of-type {\n",
       "        vertical-align: middle;\n",
       "    }\n",
       "\n",
       "    .dataframe tbody tr th {\n",
       "        vertical-align: top;\n",
       "    }\n",
       "\n",
       "    .dataframe thead th {\n",
       "        text-align: right;\n",
       "    }\n",
       "</style>\n",
       "<table border=\"1\" class=\"dataframe\">\n",
       "  <thead>\n",
       "    <tr style=\"text-align: right;\">\n",
       "      <th></th>\n",
       "      <th>type</th>\n",
       "      <th>id</th>\n",
       "      <th>name</th>\n",
       "      <th>shareholders</th>\n",
       "      <th>state_sync_leader</th>\n",
       "    </tr>\n",
       "  </thead>\n",
       "  <tbody>\n",
       "    <tr>\n",
       "      <th>0</th>\n",
       "      <td>syft.service.project.project.Project</td>\n",
       "      <td>f2d89cc34d294d2fbf65af06a83ce135</td>\n",
       "      <td>test project</td>\n",
       "      <td>[&lt;🔑 00768594 @ 🟢 3bc51062&gt;, &lt;🔑 71fbd53d @ 🟢 cd...</td>\n",
       "      <td>&lt;🔑 00768594 @ 🟢 3bc51062&gt;</td>\n",
       "    </tr>\n",
       "  </tbody>\n",
       "</table>\n",
       "</div>"
      ],
      "text/plain": [
       "[syft.service.project.project.Project]"
      ]
     },
     "execution_count": 8,
     "metadata": {},
     "output_type": "execute_result"
    }
   ],
   "source": [
    "alice_projects = alice_domain_client.api.services.project.get_all()\n",
    "alice_project = alice_projects[0]\n",
    "alice_projects"
   ]
  },
  {
   "cell_type": "code",
   "execution_count": 9,
   "id": "a81ef1ec-b5a1-4cac-a1c3-1082758f5265",
   "metadata": {
    "tags": []
   },
   "outputs": [
    {
     "data": {
      "text/html": [
       "List - Size: 1\n",
       "<div>\n",
       "<style scoped>\n",
       "    .dataframe tbody tr th:only-of-type {\n",
       "        vertical-align: middle;\n",
       "    }\n",
       "\n",
       "    .dataframe tbody tr th {\n",
       "        vertical-align: top;\n",
       "    }\n",
       "\n",
       "    .dataframe thead th {\n",
       "        text-align: right;\n",
       "    }\n",
       "</style>\n",
       "<table border=\"1\" class=\"dataframe\">\n",
       "  <thead>\n",
       "    <tr style=\"text-align: right;\">\n",
       "      <th></th>\n",
       "      <th>type</th>\n",
       "      <th>id</th>\n",
       "      <th>name</th>\n",
       "      <th>shareholders</th>\n",
       "      <th>state_sync_leader</th>\n",
       "    </tr>\n",
       "  </thead>\n",
       "  <tbody>\n",
       "    <tr>\n",
       "      <th>0</th>\n",
       "      <td>syft.service.project.project.Project</td>\n",
       "      <td>f2d89cc34d294d2fbf65af06a83ce135</td>\n",
       "      <td>test project</td>\n",
       "      <td>[&lt;🔑 00768594 @ 🟢 3bc51062&gt;, &lt;🔑 71fbd53d @ 🟢 cd...</td>\n",
       "      <td>&lt;🔑 00768594 @ 🟢 3bc51062&gt;</td>\n",
       "    </tr>\n",
       "  </tbody>\n",
       "</table>\n",
       "</div>"
      ],
      "text/plain": [
       "[syft.service.project.project.Project]"
      ]
     },
     "execution_count": 9,
     "metadata": {},
     "output_type": "execute_result"
    }
   ],
   "source": [
    "bob_projects = alice_domain_client.api.services.project.get_all()\n",
    "bob_project = bob_projects[0]\n",
    "bob_projects"
   ]
  },
  {
   "cell_type": "code",
   "execution_count": 10,
   "id": "73b9b4a8-394b-42f7-b219-35d533169d67",
   "metadata": {
    "tags": []
   },
   "outputs": [
    {
     "name": "stdout",
     "output_type": "stream",
     "text": [
      "\t=====================================================================\n",
      "\tWelcome to the Poll Creation Wizard 🧙‍♂️ 🪄!!!\n",
      "\t=====================================================================\n",
      "\n",
      "\tYou've arrived here because you were interested in a creating poll. A\n",
      "\tpoll is a way to gather opinions or information from a group of\n",
      "\tpeople. It typically involves asking a specific question and\n",
      "\tproviding a set of answer choices for respondents to choose from\n",
      "\n",
      "\tIn a poll, the question is the inquiry being asked of the\n",
      "\tparticipants. It should be a multiple-choice. The choices are the\n",
      "\toptions that respondents are given to select as their answer to the\n",
      "\tquestion.For example, a poll question might be \"Which is your\n",
      "\tfavorite color?\" with answer choices of red, blue, green, and yellow.\n",
      "\tParticipants can then select the answer that best represents their\n",
      "\topinion or preference\n",
      "\n",
      "\tSince you didn't pass in questions, choices into .create_poll() (or\n",
      "\tyou did so incorrectly), this wizard is going to guide you through\n",
      "\tthe process of creating a poll.\n",
      "\n",
      "\tIn this wizard, we're going to ask you for a question and list of\n",
      "\tchoices to create the poll. The Questions and choices are converted\n",
      "\tto strings\n",
      "\n",
      "\tDo you understand, and are you ready to proceed? (yes/no)\n",
      "\n"
     ]
    },
    {
     "name": "stdin",
     "output_type": "stream",
     "text": [
      "\t yes\n"
     ]
    },
    {
     "name": "stdout",
     "output_type": "stream",
     "text": [
      "\n",
      "\tExcellent! Let's begin!\n",
      "\n",
      "\t---------------------------------------------------------------------\n",
      "\n",
      "\tQuestion 1: Input a question to ask in the poll\n",
      "\n",
      "\tExamples:\n",
      "\t - What is your favorite type of food?\n",
      "\t - What day shall we meet?\n",
      "\t - Do you believe that climate change is a serious problem?\n",
      "\n",
      "\n"
     ]
    },
    {
     "name": "stdin",
     "output_type": "stream",
     "text": [
      "\t Do you like pizza 🍕 ?\n"
     ]
    },
    {
     "name": "stdout",
     "output_type": "stream",
     "text": [
      "\n",
      "\t---------------------------------------------------------------------\n",
      "\n",
      "\tQuestion 2: Enter the number of choices, you would like to have in\n",
      "\tthe poll\n",
      "\n"
     ]
    },
    {
     "name": "stdin",
     "output_type": "stream",
     "text": [
      "\t 1\n"
     ]
    },
    {
     "name": "stdout",
     "output_type": "stream",
     "text": [
      "\n",
      "\t---------------------------------------------------------------------\n",
      "\n",
      "\tExcellent! Let's  input each choice for the input\n",
      "\n",
      "\tEnter Choice 1\n",
      "\n"
     ]
    },
    {
     "name": "stdin",
     "output_type": "stream",
     "text": [
      "\t yes\n"
     ]
    },
    {
     "name": "stdout",
     "output_type": "stream",
     "text": [
      "\n",
      "\t=====================================================================\n",
      "\n",
      "\tAll done! You have successfully completed the Poll Creation Wizard! 🎩\n"
     ]
    },
    {
     "data": {
      "text/markdown": [
       "```python\n",
       "class Project:\n",
       "  id: str = f2d89cc34d294d2fbf65af06a83ce135\n",
       "  name: str = \"test project\"\n",
       "  description: str = \"my test project\"\n",
       "  shareholders: str = [<🔑 00768594 @ 🟢 3bc51062>, <🔑 71fbd53d @ 🟢 cd9fb1e1>]\n",
       "  project_permissions: str = {'OWNER_71fbd53d9cba871fd62512f9cd04725d755f6ac52f73aa8cc0a130167c4a64ad', 'OWNER_00768594fb569d34d4b11e80c22711505056b7d9799ef096dfec8cd45c220c6a'}\n",
       "  state_sync_leader: str = <🔑 00768594 @ 🟢 3bc51062>\n",
       "  consensus_model: str = <syft.service.project.project.DemocraticConsensusModel object at 0x2a7166950>\n",
       "  store: str = {}\n",
       "  permissions: str = {}\n",
       "  events: str = [syft.service.project.project.ProjectMultipleChoicePoll]\n",
       "  event_id_hashmap: str = {<UID: 3ceba7e7a14d4c268902238a71941a2a>: syft.service.project.project.ProjectMultipleChoicePoll}\n",
       "  start_hash: str = 524167987074428256665551875598046043101007313819636348449045914597233711030382\n",
       "\n",
       "```"
      ],
      "text/plain": [
       "syft.service.project.project.Project"
      ]
     },
     "execution_count": 10,
     "metadata": {},
     "output_type": "execute_result"
    }
   ],
   "source": [
    "alice_project.create_poll(question=None, choices=[\"yes\",\"no\"], credentials=alice_domain_client.credentials)"
   ]
  },
  {
   "cell_type": "code",
   "execution_count": 11,
   "id": "cfd4b947-0d86-493c-b406-6454d1c153c8",
   "metadata": {
    "tags": []
   },
   "outputs": [
    {
     "name": "stdout",
     "output_type": "stream",
     "text": [
      "\t=====================================================================\n",
      "\tWelcome to the Poll Answer Wizard 🧙‍♂️ 🪄!!!\n",
      "\t=====================================================================\n",
      "\n",
      "\tYou've arrived here because you were interested in a answering a\n",
      "\tpoll. A poll is a way to gather opinions or information from a group\n",
      "\tof people. It typically involves asking a specific question and\n",
      "\tproviding a set of answer choices for respondents to choose from\n",
      "\n",
      "\tIn a poll, the question is the inquiry being asked of the\n",
      "\tparticipants. It should be a multiple-choice. The choices are the\n",
      "\toptions that respondents are given to select as their answer to the\n",
      "\tquestion.For example, a poll question might be \"Which is your\n",
      "\tfavorite color?\" with answer choices of red, blue, green, and yellow.\n",
      "\tParticipants can then select the answer that best represents their\n",
      "\topinion or preference\n",
      "\n",
      "\tSince you didn't pass in the choices into .answer_poll() (or you did\n",
      "\tso incorrectly), this wizard is going to guide you through the\n",
      "\tprocess of answering the poll.\n",
      "\n",
      "\tDo you understand, and are you ready to proceed? (yes/no)\n",
      "\n"
     ]
    },
    {
     "name": "stdin",
     "output_type": "stream",
     "text": [
      "\t yes\n"
     ]
    },
    {
     "name": "stdout",
     "output_type": "stream",
     "text": [
      "\n",
      "\tExcellent! Let's display the poll question\n",
      "\n",
      "\t---------------------------------------------------------------------\n",
      "\n",
      "\tQuestion : Do you like pizza 🍕 ?\n",
      "\n",
      "\t1. yes\n",
      "\n",
      "\t---------------------------------------------------------------------\n",
      "\n",
      "Kindly enter your choice for the poll\n"
     ]
    },
    {
     "name": "stdin",
     "output_type": "stream",
     "text": [
      "\t 2\n"
     ]
    },
    {
     "name": "stdout",
     "output_type": "stream",
     "text": [
      "\n",
      "\tPoll Answer should be a natural number between 1 and 1\n",
      "\n"
     ]
    },
    {
     "name": "stdin",
     "output_type": "stream",
     "text": [
      "\t 1\n"
     ]
    },
    {
     "name": "stdout",
     "output_type": "stream",
     "text": [
      "\t=====================================================================\n",
      "\n",
      "\tAll done! You have successfully completed the Poll Answer Wizard! 🎩\n",
      "\n"
     ]
    },
    {
     "data": {
      "text/markdown": [
       "```python\n",
       "class Project:\n",
       "  id: str = f2d89cc34d294d2fbf65af06a83ce135\n",
       "  name: str = \"test project\"\n",
       "  description: str = \"my test project\"\n",
       "  shareholders: str = [<🔑 00768594 @ 🟢 3bc51062>, <🔑 71fbd53d @ 🟢 cd9fb1e1>]\n",
       "  project_permissions: str = {'OWNER_71fbd53d9cba871fd62512f9cd04725d755f6ac52f73aa8cc0a130167c4a64ad', 'OWNER_00768594fb569d34d4b11e80c22711505056b7d9799ef096dfec8cd45c220c6a'}\n",
       "  state_sync_leader: str = <🔑 00768594 @ 🟢 3bc51062>\n",
       "  consensus_model: str = <syft.service.project.project.DemocraticConsensusModel object at 0x2a6ead7e0>\n",
       "  store: str = {}\n",
       "  permissions: str = {}\n",
       "  events: str = [syft.service.project.project.ProjectMultipleChoicePoll, syft.service.project.project.AnswerProjectPoll]\n",
       "  event_id_hashmap: str = {<UID: 3ceba7e7a14d4c268902238a71941a2a>: syft.service.project.project.ProjectMultipleChoicePoll, <UID: 942c438b878542329dc7aa2b2f8e9d09>: syft.service.project.project.AnswerProjectPoll}\n",
       "  start_hash: str = 524167987074428256665551875598046043101007313819636348449045914597233711030382\n",
       "\n",
       "```"
      ],
      "text/plain": [
       "syft.service.project.project.Project"
      ]
     },
     "execution_count": 11,
     "metadata": {},
     "output_type": "execute_result"
    }
   ],
   "source": [
    "alice_project.answer_poll( poll_id=alice_project.events[0].id, credentials=alice_domain_client.credentials)"
   ]
  },
  {
   "cell_type": "code",
   "execution_count": null,
   "id": "31500b23-77be-4a0b-a081-6d8bfb26b1c5",
   "metadata": {},
   "outputs": [],
   "source": []
  },
  {
   "cell_type": "code",
   "execution_count": null,
   "id": "2f273ecb-b4ac-4057-8081-710f5b05b54f",
   "metadata": {},
   "outputs": [],
   "source": [
    "bob_project.sync()"
   ]
  },
  {
   "cell_type": "code",
   "execution_count": null,
   "id": "481b5d28-6dc0-4f79-b529-3fac51b0c4e1",
   "metadata": {},
   "outputs": [],
   "source": [
    "bob_project.answer_poll(answer=2, poll_id=bob_project.events[0].id, credentials=bob_domain_client.credentials)"
   ]
  },
  {
   "cell_type": "code",
   "execution_count": null,
   "id": "ff609cc7-bc90-4f5f-8e57-397ee9e7fa40",
   "metadata": {},
   "outputs": [],
   "source": [
    "alice_project.sync()"
   ]
  },
  {
   "cell_type": "code",
   "execution_count": 12,
   "id": "f7268c44-86b0-4c80-9ada-f2ac73df6316",
   "metadata": {
    "tags": []
   },
   "outputs": [
    {
     "name": "stdout",
     "output_type": "stream",
     "text": [
      "00768594: 1\n",
      "\n",
      "Choices:\n",
      "\n",
      "1: yes\n"
     ]
    }
   ],
   "source": [
    "alice_project.events[0].status(alice_project, pretty_print=True)"
   ]
  },
  {
   "cell_type": "code",
   "execution_count": null,
   "id": "a34305a5-91ed-404d-83c3-9221323d4853",
   "metadata": {},
   "outputs": [],
   "source": [
    "a[::-1]"
   ]
  },
  {
   "cell_type": "code",
   "execution_count": null,
   "id": "b0ae41c5-7a35-45ef-93c5-9405d9111abf",
   "metadata": {
    "tags": []
   },
   "outputs": [],
   "source": [
    "alice_project.messages"
   ]
  },
  {
   "cell_type": "code",
   "execution_count": null,
   "id": "d0e0f230-ecd4-435d-af28-e3d9b1bd4be2",
   "metadata": {
    "tags": []
   },
   "outputs": [],
   "source": [
    "bob_project.messages"
   ]
  },
  {
   "cell_type": "code",
   "execution_count": null,
   "id": "c01ddbf7-41ff-4910-8b05-1944b7e4cd16",
   "metadata": {
    "tags": []
   },
   "outputs": [],
   "source": [
    "alice_project.send_message(message=\"Hello Everyone 👋, I am Alice\", credentials = alice_domain_client.credentials)"
   ]
  },
  {
   "cell_type": "code",
   "execution_count": null,
   "id": "5bd4631b-bcd5-4e95-bfc0-3bf7814f6fe9",
   "metadata": {
    "tags": []
   },
   "outputs": [],
   "source": [
    "alice_project.messages"
   ]
  },
  {
   "cell_type": "code",
   "execution_count": null,
   "id": "2168f4d9-c5e9-4e7f-93de-85b6feda7e61",
   "metadata": {
    "tags": []
   },
   "outputs": [],
   "source": [
    "alice_project.reply_message(reply=\"I am from Canada\", msg_id=alice_project.events[0].id, credentials=alice_domain_client.credentials)"
   ]
  },
  {
   "cell_type": "code",
   "execution_count": null,
   "id": "13335e6b-566d-46b5-b7d0-7564d3a0c04f",
   "metadata": {
    "tags": []
   },
   "outputs": [],
   "source": [
    "alice_project.messages"
   ]
  },
  {
   "cell_type": "code",
   "execution_count": null,
   "id": "74a237d4-f12a-42e8-aede-e9f956132a26",
   "metadata": {
    "tags": []
   },
   "outputs": [],
   "source": [
    "bob_project.messages"
   ]
  },
  {
   "cell_type": "code",
   "execution_count": null,
   "id": "abd3caa9-f483-4ebc-bc62-8775c8c859c1",
   "metadata": {
    "tags": []
   },
   "outputs": [],
   "source": [
    "bob_project.sync()"
   ]
  },
  {
   "cell_type": "code",
   "execution_count": null,
   "id": "49ce0b05-7365-494b-ab64-a820bc72a13e",
   "metadata": {
    "tags": []
   },
   "outputs": [],
   "source": [
    "bob_project.messages"
   ]
  },
  {
   "cell_type": "code",
   "execution_count": null,
   "id": "65341873-4b38-4c5c-b9ef-50f52f06671e",
   "metadata": {
    "tags": []
   },
   "outputs": [],
   "source": [
    "bob_project.send_message(message=\"Hello Everyone 👋, I am Bob\", credentials = bob_domain_client.credentials)"
   ]
  },
  {
   "cell_type": "code",
   "execution_count": null,
   "id": "9ab0d786-06a5-4f35-9140-3230d6ceb181",
   "metadata": {
    "tags": []
   },
   "outputs": [],
   "source": [
    "bob_project.messages"
   ]
  },
  {
   "cell_type": "code",
   "execution_count": null,
   "id": "f17ad7c8-db43-49a9-b0b1-339442205818",
   "metadata": {
    "tags": []
   },
   "outputs": [],
   "source": [
    "alice_project.messages"
   ]
  },
  {
   "cell_type": "code",
   "execution_count": null,
   "id": "4a53d3d8-cb9e-4821-a617-027c9860adaf",
   "metadata": {
    "tags": []
   },
   "outputs": [],
   "source": [
    "alice_project.send_message(message=\"Glad to working on this project with you all\", credentials = alice_domain_client.credentials)"
   ]
  },
  {
   "cell_type": "code",
   "execution_count": null,
   "id": "a5e6b3e8-f15a-4527-8616-cbd3c2a162c2",
   "metadata": {
    "tags": []
   },
   "outputs": [],
   "source": [
    "alice_project.messages"
   ]
  },
  {
   "cell_type": "code",
   "execution_count": null,
   "id": "cf99da6d-d9da-4b55-bac1-73f9df4adb5a",
   "metadata": {},
   "outputs": [],
   "source": [
    "alice_project.reply_message(reply = \"Let's Go 🤘, threaded reply works\", msg_id=alice_project.events[3].id, credentials = alice_domain_client.credentials)"
   ]
  },
  {
   "cell_type": "code",
   "execution_count": null,
   "id": "a4fce014-5d16-4e86-afa6-c446e16c6404",
   "metadata": {
    "tags": []
   },
   "outputs": [],
   "source": [
    "alice_project.messages"
   ]
  },
  {
   "cell_type": "code",
   "execution_count": null,
   "id": "d6cc81f4-03a1-4f8f-9dbd-7adfd1d8a47e",
   "metadata": {
    "tags": []
   },
   "outputs": [],
   "source": [
    "alice_project.reply_message(reply = \"Awesome ❤️, sub-threaded reply works\", msg_id=alice_project.events[4].id, credentials = alice_domain_client.credentials)"
   ]
  },
  {
   "cell_type": "code",
   "execution_count": null,
   "id": "be2ca6d9-5267-4166-9e3e-8fe001cd9923",
   "metadata": {},
   "outputs": [],
   "source": [
    "alice_project.messages"
   ]
  },
  {
   "cell_type": "code",
   "execution_count": null,
   "id": "9bb2743e-db80-4870-b4a3-5973c47b9d06",
   "metadata": {
    "tags": []
   },
   "outputs": [],
   "source": [
    "len(alice_project.events)"
   ]
  },
  {
   "cell_type": "code",
   "execution_count": null,
   "id": "b5eafd41-b757-4b27-aaa1-80a7ed9c197c",
   "metadata": {
    "tags": []
   },
   "outputs": [],
   "source": [
    "len(alice_project.event_id_hashmap)"
   ]
  },
  {
   "cell_type": "code",
   "execution_count": null,
   "id": "e6d47962-2f6c-4951-9cdd-40665bf1b316",
   "metadata": {},
   "outputs": [],
   "source": []
  }
 ],
 "metadata": {
  "kernelspec": {
   "display_name": "Python 3 (ipykernel)",
   "language": "python",
   "name": "python3"
  },
  "language_info": {
   "codemirror_mode": {
    "name": "ipython",
    "version": 3
   },
   "file_extension": ".py",
   "mimetype": "text/x-python",
   "name": "python",
   "nbconvert_exporter": "python",
   "pygments_lexer": "ipython3",
   "version": "3.10.10"
  }
 },
 "nbformat": 4,
 "nbformat_minor": 5
}
