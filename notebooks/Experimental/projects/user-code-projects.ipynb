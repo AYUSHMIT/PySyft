{
 "cells": [
  {
   "cell_type": "markdown",
   "id": "5c44d76a-e869-4ef2-a623-90717a011969",
   "metadata": {},
   "source": [
    "## User Code Submission on New Projects"
   ]
  },
  {
   "cell_type": "code",
   "execution_count": 1,
   "id": "62fea8bf-5c0f-4c28-99e5-a2136c111080",
   "metadata": {
    "tags": []
   },
   "outputs": [
    {
     "name": "stdout",
     "output_type": "stream",
     "text": [
      "✅ The installed version of syft==0.8.1b2 matches the requirement >=0.8.1b0\n",
      "Autoreload enabled\n"
     ]
    }
   ],
   "source": [
    "import syft as sy\n",
    "sy.requires(\">=0.8.1-beta\")\n",
    "sy.enable_autoreload()\n",
    "\n",
    "# project imports\n",
    "from syft.service.project.project import ProjectSubmit\n",
    "from syft.service.project.project import Project\n",
    "from syft.service.project.project import DemocraticConsensusModel\n",
    "\n",
    "#numpy\n",
    "import numpy as np"
   ]
  },
  {
   "cell_type": "code",
   "execution_count": 2,
   "id": "dac85613-b97c-4200-b0d5-e725857d2e0d",
   "metadata": {
    "tags": []
   },
   "outputs": [
    {
     "name": "stdout",
     "output_type": "stream",
     "text": [
      "SQLite Store Path:\n",
      "!open file:///var/folders/lt/vttt10qd5fz4flpv9y1d55l40000gn/T/3bc51062973c458d5a6f2d8d64a02324.sqlite\n",
      "\n"
     ]
    }
   ],
   "source": [
    "alice_domain = sy.orchestra.launch(name=\"Alice\", dev_mode=True, reset=True)"
   ]
  },
  {
   "cell_type": "code",
   "execution_count": 3,
   "id": "c9048301-942e-421b-ac83-78eb7657a4f5",
   "metadata": {
    "tags": []
   },
   "outputs": [],
   "source": [
    "alice_domain_client = alice_domain.login(email=\"info@openmined.org\", password=\"changethis\")"
   ]
  },
  {
   "cell_type": "code",
   "execution_count": 4,
   "id": "29f8b931-f0fd-4b17-bebc-795b71fa2e73",
   "metadata": {
    "tags": []
   },
   "outputs": [
    {
     "data": {
      "text/markdown": [
       "```python\n",
       "class ProjectSubmit:\n",
       "  id: str = None\n",
       "  name: str = \"test project\"\n",
       "  description: str = \"my test project\"\n",
       "  shareholders: str = [<🔑 00768594 @ 🟢 3bc51062>]\n",
       "  project_permissions: str = set()\n",
       "  state_sync_leader: str = None\n",
       "  consensus_model: str = <syft.service.project.project.DemocraticConsensusModel object at 0x2990fbd60>\n",
       "\n",
       "```"
      ],
      "text/plain": [
       "syft.service.project.project.ProjectSubmit"
      ]
     },
     "execution_count": 4,
     "metadata": {},
     "output_type": "execute_result"
    }
   ],
   "source": [
    "project = ProjectSubmit(\n",
    "    name=\"test project\",\n",
    "    description=\"my test project\",\n",
    "    shareholders=[alice_domain_client],\n",
    ")\n",
    "project"
   ]
  },
  {
   "cell_type": "code",
   "execution_count": 5,
   "id": "4cf7cfef-9a74-4646-975c-74324bd5e21a",
   "metadata": {
    "tags": []
   },
   "outputs": [
    {
     "data": {
      "text/html": [
       "List - Size: 1\n",
       "<div>\n",
       "<style scoped>\n",
       "    .dataframe tbody tr th:only-of-type {\n",
       "        vertical-align: middle;\n",
       "    }\n",
       "\n",
       "    .dataframe tbody tr th {\n",
       "        vertical-align: top;\n",
       "    }\n",
       "\n",
       "    .dataframe thead th {\n",
       "        text-align: right;\n",
       "    }\n",
       "</style>\n",
       "<table border=\"1\" class=\"dataframe\">\n",
       "  <thead>\n",
       "    <tr style=\"text-align: right;\">\n",
       "      <th></th>\n",
       "      <th>type</th>\n",
       "      <th>id</th>\n",
       "      <th>name</th>\n",
       "      <th>shareholders</th>\n",
       "      <th>state_sync_leader</th>\n",
       "    </tr>\n",
       "  </thead>\n",
       "  <tbody>\n",
       "    <tr>\n",
       "      <th>0</th>\n",
       "      <td>syft.service.project.project.Project</td>\n",
       "      <td>028d4caed5604778bd2c71a74bbe92cb</td>\n",
       "      <td>test project</td>\n",
       "      <td>[&lt;🔑 00768594 @ 🟢 3bc51062&gt;]</td>\n",
       "      <td>&lt;🔑 00768594 @ 🟢 3bc51062&gt;</td>\n",
       "    </tr>\n",
       "  </tbody>\n",
       "</table>\n",
       "</div>"
      ],
      "text/plain": [
       "[syft.service.project.project.Project]"
      ]
     },
     "execution_count": 5,
     "metadata": {},
     "output_type": "execute_result"
    }
   ],
   "source": [
    "results = project.start()\n",
    "results"
   ]
  },
  {
   "cell_type": "markdown",
   "id": "cfd4a62c-d248-4b07-9fb9-776694f7c670",
   "metadata": {},
   "source": [
    "## 2. Dataset Creation"
   ]
  },
  {
   "cell_type": "code",
   "execution_count": 6,
   "id": "9791d875-f63b-4454-906d-f95a45802083",
   "metadata": {
    "tags": []
   },
   "outputs": [],
   "source": [
    "dataset = sy.Dataset(name=\"Canada's... Private Data\")\n",
    "asset = sy.Asset(name=\"Secret data\")"
   ]
  },
  {
   "cell_type": "code",
   "execution_count": 7,
   "id": "294cf705-d795-4ecc-a668-3e78669d0fce",
   "metadata": {
    "tags": []
   },
   "outputs": [],
   "source": [
    "# Real Data \n",
    "x = np.array([1, 2, 3])\n",
    "asset.set_obj(x)\n",
    "\n",
    "#Mock Data\n",
    "y = np.array([1, 1, 1])\n",
    "asset.set_mock(y, mock_is_real=False)"
   ]
  },
  {
   "cell_type": "code",
   "execution_count": 8,
   "id": "9f2949a5-a741-40e2-962d-fdb18a465832",
   "metadata": {
    "tags": []
   },
   "outputs": [],
   "source": [
    "dataset.add_asset(asset)"
   ]
  },
  {
   "cell_type": "code",
   "execution_count": 9,
   "id": "bb86d9dc-2913-4209-8bc3-28f3c8dc4adf",
   "metadata": {
    "tags": []
   },
   "outputs": [
    {
     "name": "stderr",
     "output_type": "stream",
     "text": [
      "100%|█| 1/1 [00:00<00:00,"
     ]
    },
    {
     "name": "stdout",
     "output_type": "stream",
     "text": [
      "Uploading: Secret data\n"
     ]
    },
    {
     "name": "stderr",
     "output_type": "stream",
     "text": [
      "\n"
     ]
    },
    {
     "data": {
      "text/html": [
       "<div class=\"alert-success\" style=\"padding:5px;\"><strong>SyftSuccess</strong>: Dataset Added</div><br />"
      ],
      "text/plain": [
       "<class 'syft.service.response.SyftSuccess'>: Dataset Added"
      ]
     },
     "execution_count": 9,
     "metadata": {},
     "output_type": "execute_result"
    }
   ],
   "source": [
    "alice_domain_client.upload_dataset(dataset)"
   ]
  },
  {
   "cell_type": "markdown",
   "id": "f205343a-79aa-4296-871a-b0ab6c0e6355",
   "metadata": {},
   "source": [
    "## 3. Manual code creation"
   ]
  },
  {
   "cell_type": "code",
   "execution_count": 10,
   "id": "b8e6e941-7fb7-4424-857d-f03516e55c3e",
   "metadata": {
    "tags": []
   },
   "outputs": [],
   "source": [
    "alice_data = alice_domain_client.datasets[-1]"
   ]
  },
  {
   "cell_type": "code",
   "execution_count": 11,
   "id": "2e2c2de3-cfc8-4e3a-82de-9981ae8d46c0",
   "metadata": {
    "tags": []
   },
   "outputs": [],
   "source": [
    "@sy.syft_function(input_policy=sy.ExactMatch(input_data=alice_data.assets[0]),\n",
    "                  output_policy=sy.SingleExecutionExactOutput())\n",
    "def simple_function(input_data):\n",
    "    \n",
    "    return input_data + input_data"
   ]
  },
  {
   "cell_type": "code",
   "execution_count": 12,
   "id": "ad589320-a269-4236-9823-f9a9b4ba9cd1",
   "metadata": {
    "tags": []
   },
   "outputs": [],
   "source": [
    "mock_asset = alice_data.assets[0].mock"
   ]
  },
  {
   "cell_type": "code",
   "execution_count": 13,
   "id": "38aec843-e9d6-4853-9bce-284d5e572965",
   "metadata": {
    "tags": []
   },
   "outputs": [
    {
     "data": {
      "text/plain": [
       "array([2, 2, 2])"
      ]
     },
     "execution_count": 13,
     "metadata": {},
     "output_type": "execute_result"
    }
   ],
   "source": [
    "simple_function(input_data=mock_asset)"
   ]
  },
  {
   "cell_type": "code",
   "execution_count": 14,
   "id": "c6e2a679-83d1-46ab-b4e3-0aa1788801f2",
   "metadata": {
    "tags": []
   },
   "outputs": [
    {
     "data": {
      "text/html": [
       "<div class=\"alert-success\" style=\"padding:5px;\"><strong>SyftSuccess</strong>: User Code Submitted</div><br />"
      ],
      "text/plain": [
       "<class 'syft.service.response.SyftSuccess'>: User Code Submitted"
      ]
     },
     "execution_count": 14,
     "metadata": {},
     "output_type": "execute_result"
    }
   ],
   "source": [
    "alice_domain_client.api.services.code.submit(simple_function)"
   ]
  },
  {
   "cell_type": "code",
   "execution_count": 15,
   "id": "18526c27-d43c-4295-902b-9e1da462c8ef",
   "metadata": {
    "tags": []
   },
   "outputs": [
    {
     "data": {
      "text/html": [
       "List - Size: 1\n",
       "<div>\n",
       "<style scoped>\n",
       "    .dataframe tbody tr th:only-of-type {\n",
       "        vertical-align: middle;\n",
       "    }\n",
       "\n",
       "    .dataframe tbody tr th {\n",
       "        vertical-align: top;\n",
       "    }\n",
       "\n",
       "    .dataframe thead th {\n",
       "        text-align: right;\n",
       "    }\n",
       "</style>\n",
       "<table border=\"1\" class=\"dataframe\">\n",
       "  <thead>\n",
       "    <tr style=\"text-align: right;\">\n",
       "      <th></th>\n",
       "      <th>type</th>\n",
       "      <th>id</th>\n",
       "      <th>status</th>\n",
       "      <th>service_func_name</th>\n",
       "    </tr>\n",
       "  </thead>\n",
       "  <tbody>\n",
       "    <tr>\n",
       "      <th>0</th>\n",
       "      <td>syft.service.code.user_code.UserCode</td>\n",
       "      <td>b29c6b8ab8c745988cab408e43d4d09b</td>\n",
       "      <td>{NodeView(node_name='Alice', verify_key=007685...</td>\n",
       "      <td>simple_function</td>\n",
       "    </tr>\n",
       "  </tbody>\n",
       "</table>\n",
       "</div>"
      ],
      "text/plain": [
       "<syft.client.api.APIModule at 0x299a00460>"
      ]
     },
     "execution_count": 15,
     "metadata": {},
     "output_type": "execute_result"
    }
   ],
   "source": [
    "alice_domain_client.code"
   ]
  },
  {
   "cell_type": "code",
   "execution_count": 16,
   "id": "e43b6c16-6dc7-4365-97d4-f0c7b9291219",
   "metadata": {
    "tags": []
   },
   "outputs": [],
   "source": [
    "code = alice_domain_client.code[0]"
   ]
  },
  {
   "cell_type": "markdown",
   "id": "5aba21b7-64c9-4ed1-b19e-d8367a104638",
   "metadata": {
    "tags": []
   },
   "source": [
    "## Retrieving project"
   ]
  },
  {
   "cell_type": "code",
   "execution_count": 17,
   "id": "16bab4ba-1145-442e-8ff7-2a9583a25bf0",
   "metadata": {
    "tags": []
   },
   "outputs": [],
   "source": [
    "alice_projects = alice_domain_client.api.services.project.get_all()\n",
    "alice_project = alice_projects[0]"
   ]
  },
  {
   "cell_type": "code",
   "execution_count": 18,
   "id": "e433d0e0-98a3-4081-97ba-0f7504dff767",
   "metadata": {
    "tags": []
   },
   "outputs": [
    {
     "name": "stdout",
     "output_type": "stream",
     "text": [
      "Before project request\n",
      "Entered Project Request\n"
     ]
    },
    {
     "data": {
      "text/markdown": [
       "```python\n",
       "class Project:\n",
       "  id: str = 028d4caed5604778bd2c71a74bbe92cb\n",
       "  name: str = \"test project\"\n",
       "  description: str = \"my test project\"\n",
       "  shareholders: str = [<🔑 00768594 @ 🟢 3bc51062>]\n",
       "  project_permissions: str = {'OWNER_00768594fb569d34d4b11e80c22711505056b7d9799ef096dfec8cd45c220c6a'}\n",
       "  state_sync_leader: str = <🔑 00768594 @ 🟢 3bc51062>\n",
       "  consensus_model: str = <syft.service.project.project.DemocraticConsensusModel object at 0x29acf93c0>\n",
       "  store: str = {}\n",
       "  permissions: str = {}\n",
       "  events: str = [syft.service.project.project.ProjectRequest]\n",
       "  event_id_hashmap: str = {<UID: 02e330ef5f2d445ebef357f0a0492c00>: syft.service.project.project.ProjectRequest}\n",
       "  start_hash: str = 401263387632652694838807122420704889686168162271006676426967355200611720956442\n",
       "\n",
       "```"
      ],
      "text/plain": [
       "syft.service.project.project.Project"
      ]
     },
     "execution_count": 18,
     "metadata": {},
     "output_type": "execute_result"
    }
   ],
   "source": [
    "alice_project.create_request(obj=code,permission=sy.UserCodeStatus.EXECUTE,credentials=alice_domain_client.credentials)"
   ]
  },
  {
   "cell_type": "code",
   "execution_count": null,
   "id": "aa8da2db-11aa-4468-8aac-936599c58ecc",
   "metadata": {
    "tags": []
   },
   "outputs": [],
   "source": [
    "alice_project.events[0].request.node_uid ==alice_domain_client.id"
   ]
  },
  {
   "cell_type": "code",
   "execution_count": null,
   "id": "dcb25824-4a6c-4c99-a79d-73da001784be",
   "metadata": {
    "tags": []
   },
   "outputs": [],
   "source": [
    "alice_project.approve_request(req_id=alice_project.events[0].id, credentials=alice_domain_client.credentials)"
   ]
  },
  {
   "cell_type": "code",
   "execution_count": 19,
   "id": "2ce78c25-17f7-484b-8440-d31423544ff2",
   "metadata": {
    "tags": []
   },
   "outputs": [
    {
     "data": {
      "text/html": [
       "List - Size: 1\n",
       "<div>\n",
       "<style scoped>\n",
       "    .dataframe tbody tr th:only-of-type {\n",
       "        vertical-align: middle;\n",
       "    }\n",
       "\n",
       "    .dataframe tbody tr th {\n",
       "        vertical-align: top;\n",
       "    }\n",
       "\n",
       "    .dataframe thead th {\n",
       "        text-align: right;\n",
       "    }\n",
       "</style>\n",
       "<table border=\"1\" class=\"dataframe\">\n",
       "  <thead>\n",
       "    <tr style=\"text-align: right;\">\n",
       "      <th></th>\n",
       "      <th>type</th>\n",
       "      <th>id</th>\n",
       "      <th>subject</th>\n",
       "      <th>status</th>\n",
       "      <th>created_at</th>\n",
       "      <th>linked_obj</th>\n",
       "    </tr>\n",
       "  </thead>\n",
       "  <tbody>\n",
       "    <tr>\n",
       "      <th>0</th>\n",
       "      <td>syft.service.message.messages.Message</td>\n",
       "      <td>58418b3bfeea43f99ceaeb638e78db5a</td>\n",
       "      <td>Project Approval</td>\n",
       "      <td>MessageStatus.UNDELIVERED</td>\n",
       "      <td>2023-05-16 21:08:42</td>\n",
       "      <td>&lt;&lt;class 'syft.service.project.project.NewProje...</td>\n",
       "    </tr>\n",
       "  </tbody>\n",
       "</table>\n",
       "</div>"
      ],
      "text/plain": [
       "<syft.client.api.APIModule at 0x29aced870>"
      ]
     },
     "execution_count": 19,
     "metadata": {},
     "output_type": "execute_result"
    }
   ],
   "source": [
    "alice_domain_client.notifications"
   ]
  },
  {
   "cell_type": "code",
   "execution_count": 20,
   "id": "c312abf8-d9b6-47a5-b208-dab08de52864",
   "metadata": {
    "tags": []
   },
   "outputs": [
    {
     "data": {
      "text/markdown": [
       "```python\n",
       "class Message:\n",
       "  id: str = 58418b3bfeea43f99ceaeb638e78db5a\n",
       "  subject: str = \"Project Approval\"\n",
       "  node_uid: str = 3bc51062973c458d5a6f2d8d64a02324\n",
       "  from_user_verify_key: str = 00768594fb569d34d4b11e80c22711505056b7d9799ef096dfec8cd45c220c6a\n",
       "  to_user_verify_key: str = 00768594fb569d34d4b11e80c22711505056b7d9799ef096dfec8cd45c220c6a\n",
       "  created_at: str = 2023-05-16 21:08:42\n",
       "  status: str = MessageStatus.UNDELIVERED\n",
       "  linked_obj: str = <<class 'syft.service.project.project.Project'>: 028d4caed5604778bd2c71a74bbe92cb@<Node: 3bc51062973c458d5a6f2d8d64a02324>\n",
       "\n",
       "```"
      ],
      "text/plain": [
       "syft.service.message.messages.Message"
      ]
     },
     "execution_count": 20,
     "metadata": {},
     "output_type": "execute_result"
    }
   ],
   "source": [
    "alice_domain_client.notifications[0].link"
   ]
  },
  {
   "cell_type": "code",
   "execution_count": null,
   "id": "fd8c9b0c-dafd-44e2-93bd-1f0b18b3c253",
   "metadata": {
    "tags": []
   },
   "outputs": [],
   "source": [
    "alice_project.approve_request(req_id=alice_project.events[0].id,credentials=alice_domain_client.credentials)"
   ]
  },
  {
   "cell_type": "code",
   "execution_count": null,
   "id": "9718d827-6637-416d-b172-4a6f78038070",
   "metadata": {
    "tags": []
   },
   "outputs": [],
   "source": [
    "alice_domain_client.notifications"
   ]
  },
  {
   "cell_type": "code",
   "execution_count": null,
   "id": "0c9bd074-a921-4a4a-aa23-672af366b35c",
   "metadata": {
    "tags": []
   },
   "outputs": [],
   "source": [
    "alice_project.events[0].status(alice_project)"
   ]
  },
  {
   "cell_type": "code",
   "execution_count": null,
   "id": "4ad1e211-9059-408b-83cd-41782f691fc4",
   "metadata": {
    "tags": []
   },
   "outputs": [],
   "source": [
    "do_req = alice_project.events[0].request.changes[0]"
   ]
  },
  {
   "cell_type": "code",
   "execution_count": null,
   "id": "14d5132b-c712-495e-983b-bd5e1e18c3d9",
   "metadata": {
    "tags": []
   },
   "outputs": [],
   "source": [
    "alice_project.events[0].request.approve()"
   ]
  },
  {
   "cell_type": "code",
   "execution_count": null,
   "id": "4a63ddf7-624c-48d7-8ab9-ec391911ebf7",
   "metadata": {
    "tags": []
   },
   "outputs": [],
   "source": [
    "alice_domain_client.api.services.code.get_all()[0]"
   ]
  },
  {
   "cell_type": "code",
   "execution_count": null,
   "id": "a7fa077e-68f6-4300-b21d-ee26be0d35fd",
   "metadata": {},
   "outputs": [],
   "source": []
  },
  {
   "cell_type": "code",
   "execution_count": null,
   "id": "9b81462e-02bd-46dd-8e06-7d48f7b583df",
   "metadata": {},
   "outputs": [],
   "source": []
  },
  {
   "cell_type": "code",
   "execution_count": null,
   "id": "25e73937-e7fa-4b20-99d8-b9ee36e96b8e",
   "metadata": {},
   "outputs": [],
   "source": []
  },
  {
   "cell_type": "code",
   "execution_count": null,
   "id": "73b9b4a8-394b-42f7-b219-35d533169d67",
   "metadata": {
    "tags": []
   },
   "outputs": [],
   "source": [
    "alice_project.create_poll(question=None, choices=[\"yes\",\"no\"], credentials=alice_domain_client.credentials)"
   ]
  },
  {
   "cell_type": "code",
   "execution_count": null,
   "id": "cfd4b947-0d86-493c-b406-6454d1c153c8",
   "metadata": {
    "tags": []
   },
   "outputs": [],
   "source": [
    "alice_project.answer_poll( poll_id=alice_project.events[0].id, credentials=alice_domain_client.credentials)"
   ]
  },
  {
   "cell_type": "code",
   "execution_count": null,
   "id": "31500b23-77be-4a0b-a081-6d8bfb26b1c5",
   "metadata": {},
   "outputs": [],
   "source": []
  },
  {
   "cell_type": "code",
   "execution_count": null,
   "id": "2f273ecb-b4ac-4057-8081-710f5b05b54f",
   "metadata": {},
   "outputs": [],
   "source": [
    "bob_project.sync()"
   ]
  },
  {
   "cell_type": "code",
   "execution_count": null,
   "id": "481b5d28-6dc0-4f79-b529-3fac51b0c4e1",
   "metadata": {},
   "outputs": [],
   "source": [
    "bob_project.answer_poll(answer=2, poll_id=bob_project.events[0].id, credentials=bob_domain_client.credentials)"
   ]
  },
  {
   "cell_type": "code",
   "execution_count": null,
   "id": "ff609cc7-bc90-4f5f-8e57-397ee9e7fa40",
   "metadata": {},
   "outputs": [],
   "source": [
    "alice_project.sync()"
   ]
  },
  {
   "cell_type": "code",
   "execution_count": null,
   "id": "f7268c44-86b0-4c80-9ada-f2ac73df6316",
   "metadata": {
    "tags": []
   },
   "outputs": [],
   "source": [
    "alice_project.events[0].status(alice_project, pretty_print=True)"
   ]
  },
  {
   "cell_type": "code",
   "execution_count": null,
   "id": "a34305a5-91ed-404d-83c3-9221323d4853",
   "metadata": {},
   "outputs": [],
   "source": [
    "a[::-1]"
   ]
  },
  {
   "cell_type": "code",
   "execution_count": null,
   "id": "b0ae41c5-7a35-45ef-93c5-9405d9111abf",
   "metadata": {
    "tags": []
   },
   "outputs": [],
   "source": [
    "alice_project.messages"
   ]
  },
  {
   "cell_type": "code",
   "execution_count": null,
   "id": "d0e0f230-ecd4-435d-af28-e3d9b1bd4be2",
   "metadata": {
    "tags": []
   },
   "outputs": [],
   "source": [
    "bob_project.messages"
   ]
  },
  {
   "cell_type": "code",
   "execution_count": null,
   "id": "c01ddbf7-41ff-4910-8b05-1944b7e4cd16",
   "metadata": {
    "tags": []
   },
   "outputs": [],
   "source": [
    "alice_project.send_message(message=\"Hello Everyone 👋, I am Alice\", credentials = alice_domain_client.credentials)"
   ]
  },
  {
   "cell_type": "code",
   "execution_count": null,
   "id": "5bd4631b-bcd5-4e95-bfc0-3bf7814f6fe9",
   "metadata": {
    "tags": []
   },
   "outputs": [],
   "source": [
    "alice_project.messages"
   ]
  },
  {
   "cell_type": "code",
   "execution_count": null,
   "id": "2168f4d9-c5e9-4e7f-93de-85b6feda7e61",
   "metadata": {
    "tags": []
   },
   "outputs": [],
   "source": [
    "alice_project.reply_message(reply=\"I am from Canada\", msg_id=alice_project.events[0].id, credentials=alice_domain_client.credentials)"
   ]
  },
  {
   "cell_type": "code",
   "execution_count": null,
   "id": "13335e6b-566d-46b5-b7d0-7564d3a0c04f",
   "metadata": {
    "tags": []
   },
   "outputs": [],
   "source": [
    "alice_project.messages"
   ]
  },
  {
   "cell_type": "code",
   "execution_count": null,
   "id": "74a237d4-f12a-42e8-aede-e9f956132a26",
   "metadata": {
    "tags": []
   },
   "outputs": [],
   "source": [
    "bob_project.messages"
   ]
  },
  {
   "cell_type": "code",
   "execution_count": null,
   "id": "abd3caa9-f483-4ebc-bc62-8775c8c859c1",
   "metadata": {
    "tags": []
   },
   "outputs": [],
   "source": [
    "bob_project.sync()"
   ]
  },
  {
   "cell_type": "code",
   "execution_count": null,
   "id": "49ce0b05-7365-494b-ab64-a820bc72a13e",
   "metadata": {
    "tags": []
   },
   "outputs": [],
   "source": [
    "bob_project.messages"
   ]
  },
  {
   "cell_type": "code",
   "execution_count": null,
   "id": "65341873-4b38-4c5c-b9ef-50f52f06671e",
   "metadata": {
    "tags": []
   },
   "outputs": [],
   "source": [
    "bob_project.send_message(message=\"Hello Everyone 👋, I am Bob\", credentials = bob_domain_client.credentials)"
   ]
  },
  {
   "cell_type": "code",
   "execution_count": null,
   "id": "9ab0d786-06a5-4f35-9140-3230d6ceb181",
   "metadata": {
    "tags": []
   },
   "outputs": [],
   "source": [
    "bob_project.messages"
   ]
  },
  {
   "cell_type": "code",
   "execution_count": null,
   "id": "f17ad7c8-db43-49a9-b0b1-339442205818",
   "metadata": {
    "tags": []
   },
   "outputs": [],
   "source": [
    "alice_project.messages"
   ]
  },
  {
   "cell_type": "code",
   "execution_count": null,
   "id": "4a53d3d8-cb9e-4821-a617-027c9860adaf",
   "metadata": {
    "tags": []
   },
   "outputs": [],
   "source": [
    "alice_project.send_message(message=\"Glad to working on this project with you all\", credentials = alice_domain_client.credentials)"
   ]
  },
  {
   "cell_type": "code",
   "execution_count": null,
   "id": "a5e6b3e8-f15a-4527-8616-cbd3c2a162c2",
   "metadata": {
    "tags": []
   },
   "outputs": [],
   "source": [
    "alice_project.messages"
   ]
  },
  {
   "cell_type": "code",
   "execution_count": null,
   "id": "cf99da6d-d9da-4b55-bac1-73f9df4adb5a",
   "metadata": {},
   "outputs": [],
   "source": [
    "alice_project.reply_message(reply = \"Let's Go 🤘, threaded reply works\", msg_id=alice_project.events[3].id, credentials = alice_domain_client.credentials)"
   ]
  },
  {
   "cell_type": "code",
   "execution_count": null,
   "id": "a4fce014-5d16-4e86-afa6-c446e16c6404",
   "metadata": {
    "tags": []
   },
   "outputs": [],
   "source": [
    "alice_project.messages"
   ]
  },
  {
   "cell_type": "code",
   "execution_count": null,
   "id": "d6cc81f4-03a1-4f8f-9dbd-7adfd1d8a47e",
   "metadata": {
    "tags": []
   },
   "outputs": [],
   "source": [
    "alice_project.reply_message(reply = \"Awesome ❤️, sub-threaded reply works\", msg_id=alice_project.events[4].id, credentials = alice_domain_client.credentials)"
   ]
  },
  {
   "cell_type": "code",
   "execution_count": null,
   "id": "be2ca6d9-5267-4166-9e3e-8fe001cd9923",
   "metadata": {},
   "outputs": [],
   "source": [
    "alice_project.messages"
   ]
  },
  {
   "cell_type": "code",
   "execution_count": null,
   "id": "9bb2743e-db80-4870-b4a3-5973c47b9d06",
   "metadata": {
    "tags": []
   },
   "outputs": [],
   "source": [
    "len(alice_project.events)"
   ]
  },
  {
   "cell_type": "code",
   "execution_count": null,
   "id": "b5eafd41-b757-4b27-aaa1-80a7ed9c197c",
   "metadata": {
    "tags": []
   },
   "outputs": [],
   "source": [
    "len(alice_project.event_id_hashmap)"
   ]
  },
  {
   "cell_type": "code",
   "execution_count": null,
   "id": "e6d47962-2f6c-4951-9cdd-40665bf1b316",
   "metadata": {},
   "outputs": [],
   "source": []
  }
 ],
 "metadata": {
  "kernelspec": {
   "display_name": "Python 3 (ipykernel)",
   "language": "python",
   "name": "python3"
  },
  "language_info": {
   "codemirror_mode": {
    "name": "ipython",
    "version": 3
   },
   "file_extension": ".py",
   "mimetype": "text/x-python",
   "name": "python",
   "nbconvert_exporter": "python",
   "pygments_lexer": "ipython3",
   "version": "3.10.10"
  }
 },
 "nbformat": 4,
 "nbformat_minor": 5
}
