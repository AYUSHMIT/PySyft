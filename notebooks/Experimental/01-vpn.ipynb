{
 "cells": [
  {
   "cell_type": "markdown",
   "id": "1601d209",
   "metadata": {},
   "source": [
    "## VPN"
   ]
  },
  {
   "cell_type": "code",
   "execution_count": 2,
   "id": "c6857927-5a33-4618-b240-4a0d5f8254b1",
   "metadata": {
    "tags": []
   },
   "outputs": [
    {
     "name": "stderr",
     "output_type": "stream",
     "text": [
      "kj/filesystem-disk-unix.c++:1703: warning: PWD environment variable doesn't match current directory; pwd = /home/shubham/PySyft\n"
     ]
    },
    {
     "name": "stdout",
     "output_type": "stream",
     "text": [
      "✅ The installed version of syft==0.8.1b1 matches the requirement >=0.8.1b0\n"
     ]
    }
   ],
   "source": [
    "import syft as sy\n",
    "sy.requires(\">=0.8.1-beta\")"
   ]
  },
  {
   "cell_type": "markdown",
   "id": "20fd2897",
   "metadata": {},
   "source": [
    "### Login to Gateway"
   ]
  },
  {
   "cell_type": "code",
   "execution_count": 3,
   "id": "a8001034-3f04-49dd-8d25-d33680367d51",
   "metadata": {
    "tags": []
   },
   "outputs": [
    {
     "name": "stdout",
     "output_type": "stream",
     "text": [
      "Logged into Stupefied Eckersley as <info@openmined.org>\n"
     ]
    }
   ],
   "source": [
    "gateway_client = sy.login(port=8081, email=\"info@openmined.org\", password=\"changethis\")"
   ]
  },
  {
   "cell_type": "markdown",
   "id": "3c3a4256",
   "metadata": {},
   "source": [
    "### Login to Domain"
   ]
  },
  {
   "cell_type": "code",
   "execution_count": 4,
   "id": "5f4eb978-5a95-4060-9fd6-2d08e88ecc1d",
   "metadata": {
    "tags": []
   },
   "outputs": [
    {
     "name": "stdout",
     "output_type": "stream",
     "text": [
      "Logged into Ecstatic Vapnik as <info@openmined.org>\n"
     ]
    }
   ],
   "source": [
    "domain_client = sy.login(port=8082, email=\"info@openmined.org\", password=\"changethis\")"
   ]
  },
  {
   "cell_type": "code",
   "execution_count": 5,
   "id": "c485e714-7372-4c26-b23c-9a9df9390dd0",
   "metadata": {
    "tags": []
   },
   "outputs": [
    {
     "data": {
      "text/plain": [
       "<SyftClient - Ecstatic Vapnik <81178809195d4a5989a71ae1041fb65f>: HTTPConnection: http://localhost:8082>"
      ]
     },
     "execution_count": 5,
     "metadata": {},
     "output_type": "execute_result"
    }
   ],
   "source": [
    "domain_client"
   ]
  },
  {
   "cell_type": "code",
   "execution_count": 6,
   "id": "a891e60a-f255-4b27-8ee3-397990d6a21c",
   "metadata": {
    "tags": []
   },
   "outputs": [
    {
     "data": {
      "text/html": [
       "[]"
      ],
      "text/plain": [
       "[]"
      ]
     },
     "execution_count": 6,
     "metadata": {},
     "output_type": "execute_result"
    }
   ],
   "source": [
    "domain_client.domains"
   ]
  },
  {
   "cell_type": "code",
   "execution_count": 7,
   "id": "6940500e-93df-4577-882a-5a545256a731",
   "metadata": {
    "tags": []
   },
   "outputs": [
    {
     "data": {
      "text/html": [
       "[]"
      ],
      "text/plain": [
       "[]"
      ]
     },
     "execution_count": 7,
     "metadata": {},
     "output_type": "execute_result"
    }
   ],
   "source": [
    "gateway_client.domains"
   ]
  },
  {
   "cell_type": "markdown",
   "id": "4fe62374",
   "metadata": {},
   "source": [
    "### Check VPN Status"
   ]
  },
  {
   "cell_type": "code",
   "execution_count": 8,
   "id": "aba176fa",
   "metadata": {},
   "outputs": [
    {
     "data": {
      "text/markdown": [
       "```python\n",
       "class TailscaleStatus:\n",
       "  id: str = 880b33ede00744508b1d25d1a16d19f7\n",
       "  state: str = \"Running\"\n",
       "  peers: str = []\n",
       "  host: str = syft.service.vpn.tailscale_client.TailscalePeer\n",
       "\n",
       "```"
      ],
      "text/plain": [
       "syft.service.vpn.tailscale_client.TailscaleStatus"
      ]
     },
     "execution_count": 8,
     "metadata": {},
     "output_type": "execute_result"
    }
   ],
   "source": [
    "gateway_client.api.services.network.vpn_status()"
   ]
  },
  {
   "cell_type": "code",
   "execution_count": 9,
   "id": "83fd83f7",
   "metadata": {},
   "outputs": [
    {
     "data": {
      "text/markdown": [
       "```python\n",
       "class TailscaleStatus:\n",
       "  id: str = 4c672f1dc28149d9a5558a2fbe1ae8a3\n",
       "  state: str = \"NeedsLogin\"\n",
       "  peers: str = []\n",
       "  host: str = syft.service.vpn.tailscale_client.TailscalePeer\n",
       "\n",
       "```"
      ],
      "text/plain": [
       "syft.service.vpn.tailscale_client.TailscaleStatus"
      ]
     },
     "execution_count": 9,
     "metadata": {},
     "output_type": "execute_result"
    }
   ],
   "source": [
    "domain_client.api.services.network.vpn_status()"
   ]
  },
  {
   "cell_type": "markdown",
   "id": "638d1fb5",
   "metadata": {},
   "source": [
    "### Join VPN"
   ]
  },
  {
   "cell_type": "code",
   "execution_count": 10,
   "id": "669083ca-a16b-48cf-a70e-c2e3a585fab4",
   "metadata": {
    "tags": []
   },
   "outputs": [],
   "source": [
    "result = domain_client.api.services.network.join_vpn(client=gateway_client)"
   ]
  },
  {
   "cell_type": "code",
   "execution_count": 11,
   "id": "f90ab690",
   "metadata": {},
   "outputs": [
    {
     "data": {
      "text/html": [
       "<div class=\"alert-success\" style=\"padding:5px;\"><strong>SyftSuccess</strong>: Successfully joined Stupefied Eckersley via VPN !!!</div><br />"
      ],
      "text/plain": [
       "<class 'syft.service.response.SyftSuccess'>: Successfully joined Stupefied Eckersley via VPN !!!"
      ]
     },
     "execution_count": 11,
     "metadata": {},
     "output_type": "execute_result"
    }
   ],
   "source": [
    "result"
   ]
  },
  {
   "cell_type": "code",
   "execution_count": 14,
   "id": "d9ad1887",
   "metadata": {},
   "outputs": [
    {
     "data": {
      "text/markdown": [
       "```python\n",
       "class NodePeer:\n",
       "  id: str = a04cd6fcf8cb494d9ade89c95da3ab3e\n",
       "  name: str = \"Stupefied Eckersley\"\n",
       "  verify_key: str = 8eb21df7a63b18ab5d90aa020897146301601bb6eadd9c895d6ab9baa4518e37\n",
       "  is_vpn: str = True\n",
       "  vpn_auth_key: str = \"7f3167983e77c6e8896b5bfa82e3105ab0554370fe0cf0e0\"\n",
       "  node_routes: str = [syft.service.network.network_service.HTTPNodeRoute]\n",
       "\n",
       "```"
      ],
      "text/plain": [
       "syft.service.network.network_service.NodePeer"
      ]
     },
     "execution_count": 14,
     "metadata": {},
     "output_type": "execute_result"
    }
   ],
   "source": [
    "domain_client.domains[0]"
   ]
  },
  {
   "cell_type": "code",
   "execution_count": 15,
   "id": "d785059a",
   "metadata": {},
   "outputs": [
    {
     "data": {
      "text/html": [
       "[]"
      ],
      "text/plain": [
       "[]"
      ]
     },
     "execution_count": 15,
     "metadata": {},
     "output_type": "execute_result"
    }
   ],
   "source": [
    "gateway_client.domains"
   ]
  },
  {
   "cell_type": "markdown",
   "id": "6f854a82",
   "metadata": {},
   "source": [
    "### Re-verify VPN Status"
   ]
  },
  {
   "cell_type": "markdown",
   "id": "5a29223b",
   "metadata": {},
   "source": [
    "#### Domain"
   ]
  },
  {
   "cell_type": "code",
   "execution_count": 16,
   "id": "69c8ca76",
   "metadata": {},
   "outputs": [
    {
     "data": {
      "text/markdown": [
       "```python\n",
       "class TailscaleStatus:\n",
       "  id: str = fd8ae89c3cab4b97957a79724d768cdf\n",
       "  state: str = \"Running\"\n",
       "  peers: str = [syft.service.vpn.tailscale_client.TailscalePeer]\n",
       "  host: str = syft.service.vpn.tailscale_client.TailscalePeer\n",
       "\n",
       "```"
      ],
      "text/plain": [
       "syft.service.vpn.tailscale_client.TailscaleStatus"
      ]
     },
     "execution_count": 16,
     "metadata": {},
     "output_type": "execute_result"
    }
   ],
   "source": [
    "domain_client.api.services.network.vpn_status()"
   ]
  },
  {
   "cell_type": "code",
   "execution_count": 17,
   "id": "18e1411f",
   "metadata": {},
   "outputs": [
    {
     "data": {
      "text/markdown": [
       "```python\n",
       "class TailscalePeer:\n",
       "  id: str = 6a06e8d9a36e4577aa019563464840ee\n",
       "  ip: str = \"100.64.0.2\"\n",
       "  hostname: str = \"test-domain\"\n",
       "  network: str = None\n",
       "  os: str = \"linux\"\n",
       "  connection_type: str = \"relay\"\n",
       "  connection_status: str = \"idle\"\n",
       "  is_online: str = True\n",
       "\n",
       "```"
      ],
      "text/plain": [
       "syft.service.vpn.tailscale_client.TailscalePeer"
      ]
     },
     "execution_count": 17,
     "metadata": {},
     "output_type": "execute_result"
    }
   ],
   "source": [
    "domain_client.api.services.network.vpn_status()['host']"
   ]
  },
  {
   "cell_type": "code",
   "execution_count": 18,
   "id": "42f4f3be",
   "metadata": {},
   "outputs": [
    {
     "data": {
      "text/markdown": [
       "```python\n",
       "class TailscalePeer:\n",
       "  id: str = 42556a057525444085ce5fbdf13c319a\n",
       "  ip: str = \"100.64.0.1\"\n",
       "  hostname: str = \"test-network\"\n",
       "  network: str = None\n",
       "  os: str = \"linux\"\n",
       "  connection_type: str = \"relay\"\n",
       "  connection_status: str = \"idle\"\n",
       "  is_online: str = False\n",
       "\n",
       "```"
      ],
      "text/plain": [
       "syft.service.vpn.tailscale_client.TailscalePeer"
      ]
     },
     "execution_count": 18,
     "metadata": {},
     "output_type": "execute_result"
    }
   ],
   "source": [
    "domain_client.api.services.network.vpn_status()['peers'][0]"
   ]
  },
  {
   "cell_type": "markdown",
   "id": "e7066594",
   "metadata": {},
   "source": [
    "#### Gateway"
   ]
  },
  {
   "cell_type": "code",
   "execution_count": 19,
   "id": "7469fbcd",
   "metadata": {},
   "outputs": [
    {
     "data": {
      "text/markdown": [
       "```python\n",
       "class TailscaleStatus:\n",
       "  id: str = 7fb308bc047b485b8e605f64c2472fab\n",
       "  state: str = \"Running\"\n",
       "  peers: str = [syft.service.vpn.tailscale_client.TailscalePeer]\n",
       "  host: str = syft.service.vpn.tailscale_client.TailscalePeer\n",
       "\n",
       "```"
      ],
      "text/plain": [
       "syft.service.vpn.tailscale_client.TailscaleStatus"
      ]
     },
     "execution_count": 19,
     "metadata": {},
     "output_type": "execute_result"
    }
   ],
   "source": [
    "gateway_client.api.services.network.vpn_status()"
   ]
  },
  {
   "cell_type": "code",
   "execution_count": 20,
   "id": "195fab44",
   "metadata": {},
   "outputs": [
    {
     "data": {
      "text/markdown": [
       "```python\n",
       "class TailscalePeer:\n",
       "  id: str = dd0014932b864a00b15a8a18e2bee2ec\n",
       "  ip: str = \"100.64.0.1\"\n",
       "  hostname: str = \"test-network\"\n",
       "  network: str = None\n",
       "  os: str = \"linux\"\n",
       "  connection_type: str = \"relay\"\n",
       "  connection_status: str = \"idle\"\n",
       "  is_online: str = True\n",
       "\n",
       "```"
      ],
      "text/plain": [
       "syft.service.vpn.tailscale_client.TailscalePeer"
      ]
     },
     "execution_count": 20,
     "metadata": {},
     "output_type": "execute_result"
    }
   ],
   "source": [
    "gateway_client.api.services.network.vpn_status()['host']"
   ]
  },
  {
   "cell_type": "code",
   "execution_count": 21,
   "id": "6c8bb07f",
   "metadata": {},
   "outputs": [
    {
     "data": {
      "text/markdown": [
       "```python\n",
       "class TailscalePeer:\n",
       "  id: str = 75318f97b8d64ec087e08104edb7622c\n",
       "  ip: str = \"100.64.0.2\"\n",
       "  hostname: str = \"test-domain\"\n",
       "  network: str = None\n",
       "  os: str = \"linux\"\n",
       "  connection_type: str = \"relay\"\n",
       "  connection_status: str = \"idle\"\n",
       "  is_online: str = False\n",
       "\n",
       "```"
      ],
      "text/plain": [
       "syft.service.vpn.tailscale_client.TailscalePeer"
      ]
     },
     "execution_count": 21,
     "metadata": {},
     "output_type": "execute_result"
    }
   ],
   "source": [
    "gateway_client.api.services.network.vpn_status()['peers'][0]"
   ]
  },
  {
   "cell_type": "code",
   "execution_count": null,
   "id": "e152e506",
   "metadata": {},
   "outputs": [],
   "source": []
  },
  {
   "cell_type": "markdown",
   "id": "695efaf2",
   "metadata": {},
   "source": [
    "### TODOs\n",
    "\n",
    "- Association Requests\n",
    "- Add ability to ACL rules to HeadScale (Control Server)\n",
    "- custom DERP server container\n",
    "- store tailscale private key"
   ]
  },
  {
   "cell_type": "code",
   "execution_count": null,
   "id": "92eb5b89",
   "metadata": {},
   "outputs": [],
   "source": []
  }
 ],
 "metadata": {
  "kernelspec": {
   "display_name": "Python 3 (ipykernel)",
   "language": "python",
   "name": "python3"
  },
  "language_info": {
   "codemirror_mode": {
    "name": "ipython",
    "version": 3
   },
   "file_extension": ".py",
   "mimetype": "text/x-python",
   "name": "python",
   "nbconvert_exporter": "python",
   "pygments_lexer": "ipython3",
   "version": "3.9.7"
  }
 },
 "nbformat": 4,
 "nbformat_minor": 5
}
