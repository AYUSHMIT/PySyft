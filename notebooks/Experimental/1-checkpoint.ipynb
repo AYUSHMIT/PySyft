{
 "cells": [
  {
   "cell_type": "code",
   "execution_count": null,
   "id": "034a332d-517f-486f-8713-eeed53d35067",
   "metadata": {},
   "outputs": [],
   "source": [
    "# syft absolute\n",
    "import syft as sy\n",
    "from syft.util.test_helpers.checkpoint import create_checkpoint"
   ]
  },
  {
   "cell_type": "code",
   "execution_count": null,
   "id": "53cebce4-5e50-48f0-bd38-cf82cba9e71c",
   "metadata": {},
   "outputs": [],
   "source": [
    "datasite_client = sy.login(email=\"info@openmined.org\", password=\"changethis\", port=8080)"
   ]
  },
  {
   "cell_type": "markdown",
   "id": "957c101e-f048-4ba0-b5e8-22af97e6c9b1",
   "metadata": {},
   "source": [
    "### Scaling Default Worker Pool"
   ]
  },
  {
   "cell_type": "markdown",
   "id": "e7217d39-fd2e-4a6c-b7c7-8013703b83ce",
   "metadata": {},
   "source": [
    "We should see a default worker pool"
   ]
  },
  {
   "cell_type": "code",
   "execution_count": null,
   "id": "7018e9bf-1639-4204-9bf3-19d296cc8572",
   "metadata": {},
   "outputs": [],
   "source": [
    "datasite_client.worker_pools"
   ]
  },
  {
   "cell_type": "markdown",
   "id": "87cbd371-a23a-4229-b305-ed834c2eb3d1",
   "metadata": {},
   "source": [
    "Scale up to 3 workers"
   ]
  },
  {
   "cell_type": "code",
   "execution_count": null,
   "id": "acc5c6ba-cd25-420e-9491-2db0f67fb763",
   "metadata": {},
   "outputs": [],
   "source": [
    "datasite_client.api.services.worker_pool.scale(number=3, pool_name=\"default-pool\")"
   ]
  },
  {
   "cell_type": "code",
   "execution_count": null,
   "id": "c4696855-8848-4182-9513-0753893eaf5f",
   "metadata": {},
   "outputs": [],
   "source": [
    "result = datasite_client.api.services.worker_pool.get_by_name(pool_name=\"default-pool\")\n",
    "assert len(result.workers) == 3, str(result.to_dict())\n",
    "result"
   ]
  },
  {
   "cell_type": "code",
   "execution_count": null,
   "id": "5d8b5827-464b-4954-acc1-52773829ca65",
   "metadata": {},
   "outputs": [],
   "source": [
    "create_checkpoint(name=\"1-checkpoint-v1\", client=datasite_client)"
   ]
  },
  {
   "cell_type": "code",
   "execution_count": null,
   "id": "27f441fc-f3c0-445c-aa68-85ab92feaa57",
   "metadata": {},
   "outputs": [],
   "source": [
    "datasite_client.id"
   ]
  },
  {
   "cell_type": "code",
   "execution_count": null,
   "id": "839af9a0-a76d-42bc-b8f9-7e67d9da7e7a",
   "metadata": {},
   "outputs": [],
   "source": []
  }
 ],
 "metadata": {
  "kernelspec": {
   "display_name": "Python 3 (ipykernel)",
   "language": "python",
   "name": "python3"
  },
  "language_info": {
   "codemirror_mode": {
    "name": "ipython",
    "version": 3
   },
   "file_extension": ".py",
   "mimetype": "text/x-python",
   "name": "python",
   "nbconvert_exporter": "python",
   "pygments_lexer": "ipython3",
   "version": "3.11.10"
  }
 },
 "nbformat": 4,
 "nbformat_minor": 5
}
