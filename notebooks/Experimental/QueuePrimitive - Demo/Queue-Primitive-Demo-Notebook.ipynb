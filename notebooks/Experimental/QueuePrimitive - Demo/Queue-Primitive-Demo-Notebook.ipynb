{
 "cells": [
  {
   "cell_type": "markdown",
   "id": "cb995bc2",
   "metadata": {},
   "source": [
    "# Queue Primitive"
   ]
  },
  {
   "cell_type": "markdown",
   "id": "6c5ce620",
   "metadata": {
    "heading_collapsed": true
   },
   "source": [
    "### Main Goals"
   ]
  },
  {
   "cell_type": "markdown",
   "id": "c29bce79",
   "metadata": {
    "hidden": true
   },
   "source": [
    "- Bi-directional Async Messaging\n",
    "- Abstraction should work on the in-memory python Worker and switchable to large containered stack as well\n",
    "- Allow distribution of work across multiple nodes / workers\n",
    "- Handling Exceptions and sending errors in case of task failure\n",
    "- APIs for querying interacting and clearing queues"
   ]
  },
  {
   "cell_type": "markdown",
   "id": "cd30e00a",
   "metadata": {},
   "source": [
    "### Current Architecture"
   ]
  },
  {
   "cell_type": "markdown",
   "id": "1e97078a",
   "metadata": {},
   "source": [
    "![current_queue_system.png](current_queue_system.png)"
   ]
  },
  {
   "cell_type": "markdown",
   "id": "0fd9a720",
   "metadata": {
    "heading_collapsed": true
   },
   "source": [
    "### Single Queue Pub Sub"
   ]
  },
  {
   "cell_type": "markdown",
   "id": "cf13a423",
   "metadata": {
    "hidden": true
   },
   "source": [
    "![single-queue-pub-sub.png](single-queue-pub-sub.png)"
   ]
  },
  {
   "cell_type": "markdown",
   "id": "9b75731d",
   "metadata": {
    "heading_collapsed": true
   },
   "source": [
    "### Multi Queue Pub-Sub"
   ]
  },
  {
   "cell_type": "markdown",
   "id": "e87a0ee4",
   "metadata": {
    "hidden": true
   },
   "source": [
    "![multi-queue-pub-sub.png](multi-queue-pub-sub.png)"
   ]
  },
  {
   "cell_type": "markdown",
   "id": "80439da5",
   "metadata": {
    "heading_collapsed": true
   },
   "source": [
    "## To the Code...."
   ]
  },
  {
   "cell_type": "code",
   "execution_count": null,
   "id": "1b047535",
   "metadata": {
    "hidden": true
   },
   "outputs": [],
   "source": [
    "import syft as sy\n",
    "from syft.service.queue.queue_stash import QueueItem\n",
    "from syft.service.queue.queue import QueueServer, Publisher, Subscriber"
   ]
  },
  {
   "cell_type": "markdown",
   "id": "28f0ba0d",
   "metadata": {
    "hidden": true
   },
   "source": [
    "### Initialize the Proxy/Router Server"
   ]
  },
  {
   "cell_type": "code",
   "execution_count": null,
   "id": "b9c21e2d",
   "metadata": {
    "hidden": true
   },
   "outputs": [],
   "source": [
    "pub_addr = \"tcp://127.0.0.1:5000\"\n",
    "sub_addr = \"tcp://127.0.0.1:5001\""
   ]
  },
  {
   "cell_type": "code",
   "execution_count": null,
   "id": "e21bf1fd",
   "metadata": {
    "hidden": true
   },
   "outputs": [],
   "source": [
    "queue_server = QueueServer.create(pub_addr=pub_addr, sub_addr=sub_addr)"
   ]
  },
  {
   "cell_type": "code",
   "execution_count": null,
   "id": "bda5c657",
   "metadata": {
    "hidden": true
   },
   "outputs": [],
   "source": [
    "queue_server.start()"
   ]
  },
  {
   "cell_type": "code",
   "execution_count": null,
   "id": "f7e601d7",
   "metadata": {
    "hidden": true
   },
   "outputs": [],
   "source": [
    "queue_server.check_logs(timeout=0.1)"
   ]
  },
  {
   "cell_type": "markdown",
   "id": "ea5a5b5f",
   "metadata": {
    "hidden": true
   },
   "source": [
    "\n",
    "### Attach a subscriber"
   ]
  },
  {
   "cell_type": "code",
   "execution_count": null,
   "id": "96c7d36f",
   "metadata": {
    "hidden": true
   },
   "outputs": [],
   "source": [
    "subscriber = Subscriber(sub_addr)"
   ]
  },
  {
   "cell_type": "markdown",
   "id": "0fa8803f",
   "metadata": {
    "hidden": true
   },
   "source": [
    "\n",
    "### Attach a publisher"
   ]
  },
  {
   "cell_type": "code",
   "execution_count": null,
   "id": "756ebca2",
   "metadata": {
    "hidden": true
   },
   "outputs": [],
   "source": [
    "publisher = Publisher(address=pub_addr)"
   ]
  },
  {
   "cell_type": "code",
   "execution_count": null,
   "id": "4e08ff12",
   "metadata": {
    "hidden": true
   },
   "outputs": [],
   "source": [
    "my_message = b\"My Message\"\n",
    "publisher.send(my_message)"
   ]
  },
  {
   "cell_type": "markdown",
   "id": "b4ed3e32",
   "metadata": {
    "heading_collapsed": true,
    "hidden": true
   },
   "source": [
    "### Listen message on Subscriber"
   ]
  },
  {
   "cell_type": "code",
   "execution_count": null,
   "id": "c173d7ee",
   "metadata": {
    "hidden": true
   },
   "outputs": [],
   "source": [
    "# Listening message in a blocking process\n",
    "subscriber.receive(blocking=True)"
   ]
  },
  {
   "cell_type": "code",
   "execution_count": null,
   "id": "011f433a",
   "metadata": {
    "hidden": true
   },
   "outputs": [],
   "source": [
    "my_message = b\"Super secret message !!\"\n",
    "publisher.send(my_message)"
   ]
  },
  {
   "cell_type": "code",
   "execution_count": null,
   "id": "e9d42adb",
   "metadata": {
    "hidden": true
   },
   "outputs": [],
   "source": [
    "# Listening messages in a thread\n",
    "subscriber.receive()"
   ]
  },
  {
   "cell_type": "code",
   "execution_count": null,
   "id": "3d0d5b26",
   "metadata": {
    "hidden": true
   },
   "outputs": [],
   "source": [
    "my_message = b\"Super secret message !!\"\n",
    "publisher.send(my_message)"
   ]
  },
  {
   "cell_type": "code",
   "execution_count": null,
   "id": "05015d74",
   "metadata": {
    "hidden": true
   },
   "outputs": [],
   "source": [
    "queue_server.check_logs(timeout=0.5)"
   ]
  },
  {
   "cell_type": "markdown",
   "id": "22d42ef6",
   "metadata": {
    "hidden": true
   },
   "source": [
    "### Close server"
   ]
  },
  {
   "cell_type": "code",
   "execution_count": null,
   "id": "8edb532c",
   "metadata": {
    "hidden": true
   },
   "outputs": [],
   "source": [
    "queue_server.close()"
   ]
  },
  {
   "cell_type": "markdown",
   "id": "84728c20",
   "metadata": {
    "hidden": true
   },
   "source": [
    "### Simple integration with current Worker"
   ]
  },
  {
   "cell_type": "code",
   "execution_count": null,
   "id": "77d438b7",
   "metadata": {
    "hidden": true
   },
   "outputs": [],
   "source": [
    "domain = sy.Worker(name=\"Domain\")"
   ]
  },
  {
   "cell_type": "code",
   "execution_count": null,
   "id": "35fa7d9a",
   "metadata": {
    "hidden": true
   },
   "outputs": [],
   "source": [
    "domain.queue_proxy_server"
   ]
  },
  {
   "cell_type": "code",
   "execution_count": null,
   "id": "02d8b5c2",
   "metadata": {
    "hidden": true
   },
   "outputs": [],
   "source": [
    "domain.subscriber"
   ]
  },
  {
   "cell_type": "code",
   "execution_count": null,
   "id": "e068a60d",
   "metadata": {
    "hidden": true
   },
   "outputs": [],
   "source": [
    "domain.publisher"
   ]
  },
  {
   "cell_type": "code",
   "execution_count": null,
   "id": "b7441d75",
   "metadata": {
    "hidden": true
   },
   "outputs": [],
   "source": [
    "my_message = b\"My Message\"\n",
    "domain.publisher.send(my_message)"
   ]
  },
  {
   "cell_type": "code",
   "execution_count": null,
   "id": "efa06ee7",
   "metadata": {
    "hidden": true
   },
   "outputs": [],
   "source": [
    "domain.queue_proxy_server.check_logs(timeout=0.5)"
   ]
  },
  {
   "cell_type": "code",
   "execution_count": null,
   "id": "0adfa865",
   "metadata": {
    "hidden": true
   },
   "outputs": [],
   "source": [
    "domain.queue_proxy_server.close()"
   ]
  },
  {
   "cell_type": "code",
   "execution_count": null,
   "id": "9ddf65c9",
   "metadata": {
    "hidden": true
   },
   "outputs": [],
   "source": []
  }
 ],
 "metadata": {
  "kernelspec": {
   "display_name": "Python 3 (ipykernel)",
   "language": "python",
   "name": "python3"
  },
  "language_info": {
   "codemirror_mode": {
    "name": "ipython",
    "version": 3
   },
   "file_extension": ".py",
   "mimetype": "text/x-python",
   "name": "python",
   "nbconvert_exporter": "python",
   "pygments_lexer": "ipython3",
   "version": "3.9.7"
  }
 },
 "nbformat": 4,
 "nbformat_minor": 5
}
