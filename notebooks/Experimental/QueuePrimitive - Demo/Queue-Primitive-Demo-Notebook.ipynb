{
 "cells": [
  {
   "cell_type": "markdown",
   "id": "cb995bc2",
   "metadata": {},
   "source": [
    "# Queue Primitive"
   ]
  },
  {
   "cell_type": "markdown",
   "id": "6c5ce620",
   "metadata": {},
   "source": [
    "### Main Goals\n",
    "\n",
    "- Bi-directional Async Messaging\n",
    "- Abstraction should work on the in-memory python Worker and switchable to large containered stack as well\n",
    "- Allow distribution of work across multiple nodes / workers\n",
    "- Handling Exceptions and sending errors in case of task failure\n",
    "- APIs for querying interacting and clearing queues"
   ]
  },
  {
   "cell_type": "markdown",
   "id": "cd30e00a",
   "metadata": {},
   "source": [
    "### Current Architecture"
   ]
  },
  {
   "cell_type": "markdown",
   "id": "1e97078a",
   "metadata": {},
   "source": [
    "![current_queue_system.png](current_queue_system.png)"
   ]
  },
  {
   "cell_type": "markdown",
   "id": "0fd9a720",
   "metadata": {},
   "source": [
    "### Single Queue Pub Sub"
   ]
  },
  {
   "cell_type": "markdown",
   "id": "cf13a423",
   "metadata": {},
   "source": [
    "![single-queue-pub-sub.png](single-queue-pub-sub.png)"
   ]
  },
  {
   "cell_type": "markdown",
   "id": "9b75731d",
   "metadata": {},
   "source": [
    "### Multi Queue Pub-Sub"
   ]
  },
  {
   "cell_type": "markdown",
   "id": "e87a0ee4",
   "metadata": {},
   "source": [
    "![multi-queue-pub-sub.png](multi-queue-pub-sub.png)"
   ]
  },
  {
   "cell_type": "code",
   "execution_count": 1,
   "id": "1b047535",
   "metadata": {},
   "outputs": [
    {
     "name": "stderr",
     "output_type": "stream",
     "text": [
      "kj/filesystem-disk-unix.c++:1703: warning: PWD environment variable doesn't match current directory; pwd = /home/shubham/PySyft\n"
     ]
    }
   ],
   "source": [
    "import syft as sy\n",
    "from syft.service.queue.queue_stash import QueueItem\n",
    "from syft.service.queue.queue import QueueServer, Publisher, Subscriber"
   ]
  },
  {
   "cell_type": "markdown",
   "id": "28f0ba0d",
   "metadata": {},
   "source": [
    "### Initialize the Proxy/Router Server"
   ]
  },
  {
   "cell_type": "code",
   "execution_count": 2,
   "id": "b9c21e2d",
   "metadata": {},
   "outputs": [],
   "source": [
    "pub_addr = \"tcp://127.0.0.1:5000\"\n",
    "sub_addr = \"tcp://127.0.0.1:5001\""
   ]
  },
  {
   "cell_type": "code",
   "execution_count": 3,
   "id": "e21bf1fd",
   "metadata": {},
   "outputs": [],
   "source": [
    "queue_server = QueueServer.create(pub_addr=pub_addr, sub_addr=sub_addr)"
   ]
  },
  {
   "cell_type": "code",
   "execution_count": 4,
   "id": "bda5c657",
   "metadata": {},
   "outputs": [
    {
     "name": "stdout",
     "output_type": "stream",
     "text": [
      "Logging...\n"
     ]
    }
   ],
   "source": [
    "queue_server.start()"
   ]
  },
  {
   "cell_type": "code",
   "execution_count": 5,
   "id": "f7e601d7",
   "metadata": {},
   "outputs": [],
   "source": [
    "queue_server.check_logs(timeout=0.1)"
   ]
  },
  {
   "cell_type": "markdown",
   "id": "ea5a5b5f",
   "metadata": {},
   "source": [
    "\n",
    "### Attach a subscriber"
   ]
  },
  {
   "cell_type": "code",
   "execution_count": 6,
   "id": "96c7d36f",
   "metadata": {},
   "outputs": [
    {
     "name": "stdout",
     "output_type": "stream",
     "text": [
      "pub \u0001\n"
     ]
    }
   ],
   "source": [
    "subscriber = Subscriber(sub_addr)"
   ]
  },
  {
   "cell_type": "markdown",
   "id": "0fa8803f",
   "metadata": {},
   "source": [
    "\n",
    "### Attach a publisher"
   ]
  },
  {
   "cell_type": "code",
   "execution_count": 7,
   "id": "756ebca2",
   "metadata": {},
   "outputs": [],
   "source": [
    "publisher = Publisher(address=pub_addr)"
   ]
  },
  {
   "cell_type": "code",
   "execution_count": 8,
   "id": "4e08ff12",
   "metadata": {},
   "outputs": [
    {
     "name": "stdout",
     "output_type": "stream",
     "text": [
      "Message Send:  b'My Message'\n",
      "sub My Message\n"
     ]
    }
   ],
   "source": [
    "my_message = b\"My Message\"\n",
    "publisher.send(my_message)"
   ]
  },
  {
   "cell_type": "markdown",
   "id": "b4ed3e32",
   "metadata": {},
   "source": [
    "### Listen message on Subscriber"
   ]
  },
  {
   "cell_type": "code",
   "execution_count": 9,
   "id": "c173d7ee",
   "metadata": {},
   "outputs": [
    {
     "name": "stdout",
     "output_type": "stream",
     "text": [
      "HEllo message received:  [b'My Message']\n"
     ]
    }
   ],
   "source": [
    "# Listening message in a blocking process\n",
    "subscriber.receive(blocking=True)"
   ]
  },
  {
   "cell_type": "code",
   "execution_count": 10,
   "id": "011f433a",
   "metadata": {},
   "outputs": [
    {
     "name": "stdout",
     "output_type": "stream",
     "text": [
      "Message Send:  b'Super secret message !!'\n"
     ]
    }
   ],
   "source": [
    "my_message = b\"Super secret message !!\"\n",
    "publisher.send(my_message)"
   ]
  },
  {
   "cell_type": "code",
   "execution_count": 11,
   "id": "e9d42adb",
   "metadata": {},
   "outputs": [
    {
     "name": "stdout",
     "output_type": "stream",
     "text": [
      "HEllo message received:  [b'Super secret message !!']\n",
      "sub Super secret message !!\n"
     ]
    }
   ],
   "source": [
    "# Listening messages in a thread\n",
    "subscriber.receive()"
   ]
  },
  {
   "cell_type": "code",
   "execution_count": 12,
   "id": "3d0d5b26",
   "metadata": {},
   "outputs": [
    {
     "name": "stdout",
     "output_type": "stream",
     "text": [
      "Message Send:  b'Super secret message !!'\n",
      "sub Super secret message !!\n"
     ]
    }
   ],
   "source": [
    "my_message = b\"Super secret message !!\"\n",
    "publisher.send(my_message)"
   ]
  },
  {
   "cell_type": "code",
   "execution_count": 13,
   "id": "05015d74",
   "metadata": {},
   "outputs": [],
   "source": [
    "queue_server.check_logs(timeout=0.5)"
   ]
  },
  {
   "cell_type": "markdown",
   "id": "22d42ef6",
   "metadata": {},
   "source": [
    "### Close server"
   ]
  },
  {
   "cell_type": "code",
   "execution_count": 14,
   "id": "8edb532c",
   "metadata": {},
   "outputs": [],
   "source": [
    "queue_server.close()"
   ]
  },
  {
   "cell_type": "markdown",
   "id": "84728c20",
   "metadata": {},
   "source": [
    "### Simple integration with current Worker"
   ]
  },
  {
   "cell_type": "code",
   "execution_count": 15,
   "id": "77d438b7",
   "metadata": {},
   "outputs": [
    {
     "name": "stdout",
     "output_type": "stream",
     "text": [
      "> Worker: Domain - bec0dca254ce406297e6ae3f3f6c9927 - NodeType.DOMAIN\n",
      "\n",
      "Services:\n",
      "ActionService\n",
      "DataSubjectMemberService\n",
      "DataSubjectService\n",
      "DatasetService\n",
      "MessageService\n",
      "MetadataService\n",
      "NetworkService\n",
      "PolicyService\n",
      "ProjectService\n",
      "RequestService\n",
      "UserCodeService\n",
      "UserService\n",
      "Queue is Online 🟢\n",
      "Logging...\n",
      "pub \u0001\n"
     ]
    }
   ],
   "source": [
    "domain = sy.Worker(name=\"Domain\")"
   ]
  },
  {
   "cell_type": "code",
   "execution_count": 16,
   "id": "35fa7d9a",
   "metadata": {},
   "outputs": [
    {
     "data": {
      "text/plain": [
       "<syft.service.queue.queue.QueueServer at 0x7f3a59831640>"
      ]
     },
     "execution_count": 16,
     "metadata": {},
     "output_type": "execute_result"
    }
   ],
   "source": [
    "domain.queue_proxy_server"
   ]
  },
  {
   "cell_type": "code",
   "execution_count": 17,
   "id": "02d8b5c2",
   "metadata": {},
   "outputs": [
    {
     "data": {
      "text/plain": [
       "<syft.service.queue.queue.Subscriber at 0x7f3a596c55b0>"
      ]
     },
     "execution_count": 17,
     "metadata": {},
     "output_type": "execute_result"
    }
   ],
   "source": [
    "domain.subscriber"
   ]
  },
  {
   "cell_type": "code",
   "execution_count": 18,
   "id": "e068a60d",
   "metadata": {},
   "outputs": [
    {
     "data": {
      "text/plain": [
       "<syft.service.queue.queue.Publisher at 0x7f3a59831610>"
      ]
     },
     "execution_count": 18,
     "metadata": {},
     "output_type": "execute_result"
    }
   ],
   "source": [
    "domain.publisher"
   ]
  },
  {
   "cell_type": "code",
   "execution_count": 19,
   "id": "b7441d75",
   "metadata": {},
   "outputs": [
    {
     "name": "stdout",
     "output_type": "stream",
     "text": [
      "Message Send:  b'My Message'\n"
     ]
    }
   ],
   "source": [
    "my_message = b\"My Message\"\n",
    "domain.publisher.send(my_message)"
   ]
  },
  {
   "cell_type": "code",
   "execution_count": 20,
   "id": "efa06ee7",
   "metadata": {},
   "outputs": [
    {
     "name": "stdout",
     "output_type": "stream",
     "text": [
      "HEllo message received:  [b'My Message']\n",
      "sub My Message\n"
     ]
    }
   ],
   "source": [
    "domain.queue_proxy_server.check_logs(timeout=0.5)"
   ]
  },
  {
   "cell_type": "code",
   "execution_count": 21,
   "id": "0adfa865",
   "metadata": {},
   "outputs": [],
   "source": [
    "domain.queue_proxy_server.close()"
   ]
  },
  {
   "cell_type": "code",
   "execution_count": null,
   "id": "9ddf65c9",
   "metadata": {},
   "outputs": [],
   "source": []
  }
 ],
 "metadata": {
  "kernelspec": {
   "display_name": "Python 3 (ipykernel)",
   "language": "python",
   "name": "python3"
  },
  "language_info": {
   "codemirror_mode": {
    "name": "ipython",
    "version": 3
   },
   "file_extension": ".py",
   "mimetype": "text/x-python",
   "name": "python",
   "nbconvert_exporter": "python",
   "pygments_lexer": "ipython3",
   "version": "3.9.7"
  }
 },
 "nbformat": 4,
 "nbformat_minor": 5
}
