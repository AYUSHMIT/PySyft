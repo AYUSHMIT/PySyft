{
 "cells": [
  {
   "cell_type": "code",
   "execution_count": 1,
   "id": "e7da7ef7-09f2-431e-82f7-4e28d50488fa",
   "metadata": {},
   "outputs": [],
   "source": [
    "SYFT_VERSION = \">=0.8.2.b0,<0.9\"\n",
    "package_string = f'\"syft{SYFT_VERSION}\"'\n",
    "# %pip install {package_string} -q"
   ]
  },
  {
   "cell_type": "code",
   "execution_count": 2,
   "id": "74f04dcf-5fd9-4526-990e-91ffbc0df8c6",
   "metadata": {},
   "outputs": [
    {
     "name": "stderr",
     "output_type": "stream",
     "text": [
      "kj/filesystem-disk-unix.c++:1734: warning: PWD environment variable doesn't match current directory; pwd = /home/ionesio/workspace/PySyft\n"
     ]
    },
    {
     "name": "stdout",
     "output_type": "stream",
     "text": [
      "✅ The installed version of syft==0.8.5b1 matches the requirement >=0.8.2b0 and the requirement <0.9\n"
     ]
    }
   ],
   "source": [
    "# syft absolute\n",
    "import syft as sy\n",
    "\n",
    "sy.requires(SYFT_VERSION)"
   ]
  },
  {
   "cell_type": "code",
   "execution_count": 3,
   "id": "fac2594c-b5e2-40ae-89c0-83c687225103",
   "metadata": {},
   "outputs": [
    {
     "name": "stdout",
     "output_type": "stream",
     "text": [
      "Staging Protocol Changes...\n",
      "Starting test-domain-1 server on 0.0.0.0:19706\n",
      "\n",
      "WARNING: private key is based on node name: test-domain-1 in dev_mode. Don't run this in production.\n",
      "SQLite Store Path:\n",
      "!open file:///tmp/7bca415d13ed4ec881f0d0aede098dbb.sqlite\n",
      "\n",
      "Waiting for server to start.Creating default worker image with tag='local-dev'\n",
      "Building default worker image with tag=local-dev\n",
      "Setting up worker poolname=default-pool workers=0 image_uid=71ff9f4a9a034f1ab7295e37973236ca in_memory=True\n",
      "Created default worker pool.\n",
      "...Data Migrated to latest version !!!\n"
     ]
    },
    {
     "name": "stderr",
     "output_type": "stream",
     "text": [
      "INFO:     Started server process [502803]\n",
      "INFO:     Waiting for application startup.\n",
      "INFO:     Application startup complete.\n",
      "INFO:     Uvicorn running on http://0.0.0.0:19706 (Press CTRL+C to quit)\n"
     ]
    },
    {
     "name": "stdout",
     "output_type": "stream",
     "text": [
      "INFO:     127.0.0.1:47166 - \"GET /api/v2/metadata HTTP/1.1\" 200 OK\n",
      "INFO:     127.0.0.1:47180 - \"GET /api/v2/metadata HTTP/1.1\" 200 OK\n",
      "INFO:     127.0.0.1:47180 - \"GET /api/v2/metadata HTTP/1.1\" 200 OK\n",
      ". Done.\n",
      "Logged into <test-domain-1: High-side Domain> as GUEST\n",
      "INFO:     127.0.0.1:47180 - \"POST /api/v2/login HTTP/1.1\" 200 OK\n"
     ]
    },
    {
     "name": "stderr",
     "output_type": "stream",
     "text": [
      "/home/ionesio/workspace/bq_collab/PySyft/packages/syft/src/syft/types/syft_object.py:599: TypeHintWarning: Skipping type check against 'ServiceRole'; this looks like a string-form forward reference imported from another module\n",
      "  check_type(value, var_annotation)\n"
     ]
    },
    {
     "name": "stdout",
     "output_type": "stream",
     "text": [
      "INFO:     127.0.0.1:47180 - \"GET /api/v2/api?verify_key=aec6ea4dfc049ceacaeeebc493167a88a200ddc367b1fa32da652444b635d21f&communication_protocol=dev HTTP/1.1\" 200 OK\n",
      "INFO:     127.0.0.1:47186 - \"POST /api/v2/api_call HTTP/1.1\" 200 OK\n",
      "Logged into <test-domain-1: High side Domain> as <info@openmined.org>\n"
     ]
    },
    {
     "name": "stderr",
     "output_type": "stream",
     "text": [
      "/home/ionesio/workspace/bq_collab/PySyft/packages/syft/src/syft/types/syft_object.py:599: TypeHintWarning: Skipping type check against 'ServiceRole'; this looks like a string-form forward reference imported from another module\n",
      "  check_type(value, var_annotation)\n"
     ]
    },
    {
     "data": {
      "text/html": [
       "<div class=\"alert-warning\" style=\"padding:5px;\"><strong>SyftWarning</strong>: You are using a default password. Please change the password using `[your_client].me.set_password([new_password])`.</div><br />"
      ],
      "text/plain": [
       "SyftWarning: You are using a default password. Please change the password using `[your_client].me.set_password([new_password])`."
      ]
     },
     "metadata": {},
     "output_type": "display_data"
    },
    {
     "name": "stdout",
     "output_type": "stream",
     "text": [
      "INFO:     127.0.0.1:47180 - \"POST /api/v2/register HTTP/1.1\" 200 OK\n",
      "INFO:     127.0.0.1:47202 - \"POST /api/v2/api_call HTTP/1.1\" 200 OK\n",
      "INFO:     127.0.0.1:47208 - \"GET /api/v2/metadata HTTP/1.1\" 200 OK\n",
      "INFO:     127.0.0.1:47208 - \"GET /api/v2/metadata HTTP/1.1\" 200 OK\n",
      "INFO:     127.0.0.1:47208 - \"POST /api/v2/login HTTP/1.1\" 200 OK\n",
      "INFO:     127.0.0.1:47208 - \"GET /api/v2/api?verify_key=9a25c8482066894f8770635ed2b17ba4d8cea6374b7ad4b6f1ac5132922146bb&communication_protocol=dev HTTP/1.1\" 200 OK\n",
      "INFO:     127.0.0.1:47218 - \"POST /api/v2/api_call HTTP/1.1\" 200 OK\n",
      "INFO:     127.0.0.1:47230 - \"POST /api/v2/api_call HTTP/1.1\" 200 OK\n"
     ]
    }
   ],
   "source": [
    "node = sy.orchestra.launch(name=\"test-domain-1\", port=\"auto\", dev_mode=True, reset=True)\n",
    "domain_client = node.login(email=\"info@openmined.org\", password=\"changethis\")"
   ]
  },
  {
   "cell_type": "code",
   "execution_count": 4,
   "id": "4115e0d4-3aab-4509-acc7-40c86c9f8504",
   "metadata": {},
   "outputs": [
    {
     "data": {
      "text/html": [
       "<div class=\"alert-success\" style=\"padding:5px;\"><strong>SyftSuccess</strong>: User 'New User' successfully registered! To see users, run `[your_client].users`</div><br />"
      ],
      "text/plain": [
       "SyftSuccess: User 'New User' successfully registered! To see users, run `[your_client].users`"
      ]
     },
     "execution_count": 4,
     "metadata": {},
     "output_type": "execute_result"
    }
   ],
   "source": [
    "domain_client.register(\n",
    "    email=\"user@openmined.org\",\n",
    "    password=\"verysecurepassword\",\n",
    "    password_verify=\"verysecurepassword\",\n",
    "    name=\"New User\",\n",
    ")"
   ]
  },
  {
   "cell_type": "code",
   "execution_count": 5,
   "id": "42455389-19e5-4815-a62b-867d2aaa952b",
   "metadata": {},
   "outputs": [],
   "source": [
    "@sy.api_endpoint(path=\"project.query\")\n",
    "def run_query_high_side(\n",
    "    context,\n",
    "    sql_query: str,\n",
    ") -> str:\n",
    "    # third party\n",
    "    from google.cloud import bigquery\n",
    "    from google.oauth2 import service_account\n",
    "\n",
    "    SERVICE_ACCOUNT_KEY = {}\n",
    "    credentials = service_account.Credentials.from_service_account_info(\n",
    "        SERVICE_ACCOUNT_KEY\n",
    "    )\n",
    "    scoped_credentials = credentials.with_scopes(\n",
    "        [\"https://www.googleapis.com/auth/cloud-platform\"]\n",
    "    )\n",
    "\n",
    "    client = bigquery.Client(\n",
    "        credentials=scoped_credentials,\n",
    "        location=\"us-west1\",\n",
    "    )\n",
    "\n",
    "    rows = client.query_and_wait(\n",
    "        sql_query,\n",
    "        project=SERVICE_ACCOUNT_KEY[\"project_id\"],\n",
    "    )\n",
    "\n",
    "    return rows.to_dataframe()"
   ]
  },
  {
   "cell_type": "code",
   "execution_count": 6,
   "id": "aa044bde-265b-4c28-b626-8f8ddf8c216a",
   "metadata": {},
   "outputs": [
    {
     "data": {
      "text/html": [
       "<div class=\"alert-success\" style=\"padding:5px;\"><strong>SyftSuccess</strong>: CustomAPIEndpoint added: syft.service.api.api.CustomAPIEndpoint</div><br />"
      ],
      "text/plain": [
       "SyftSuccess: CustomAPIEndpoint added: syft.service.api.api.CustomAPIEndpoint"
      ]
     },
     "execution_count": 6,
     "metadata": {},
     "output_type": "execute_result"
    }
   ],
   "source": [
    "response = domain_client.api.services.api.set(endpoint=run_query_high_side)\n",
    "response"
   ]
  },
  {
   "cell_type": "code",
   "execution_count": 7,
   "id": "10679327-d006-4140-b941-c93879a8ac87",
   "metadata": {},
   "outputs": [
    {
     "name": "stdout",
     "output_type": "stream",
     "text": [
      "Logged into <test-domain-1: High-side Domain> as GUEST\n",
      "Logged into <test-domain-1: High side Domain> as <user@openmined.org>\n"
     ]
    }
   ],
   "source": [
    "domain_guest = node.login(email=\"user@openmined.org\", password=\"verysecurepassword\")"
   ]
  },
  {
   "cell_type": "code",
   "execution_count": 8,
   "id": "172b496b-9dd7-42fa-943a-691a89c5ca86",
   "metadata": {},
   "outputs": [],
   "source": [
    "dataset_name = \"\"\n",
    "table_name = \"\"\n",
    "sql_query = f\"SELECT *  FROM {dataset_name}.{table_name} LIMIT 100\"\n",
    "query_results = domain_guest.api.services.project.query(sql_query=sql_query)"
   ]
  },
  {
   "cell_type": "code",
   "execution_count": 9,
   "id": "b5b03512-8bf9-4c76-b557-b0b2d8095bd6",
   "metadata": {},
   "outputs": [
    {
     "data": {
      "text/html": [
       "<div>\n",
       "<style scoped>\n",
       "    .dataframe tbody tr th:only-of-type {\n",
       "        vertical-align: middle;\n",
       "    }\n",
       "\n",
       "    .dataframe tbody tr th {\n",
       "        vertical-align: top;\n",
       "    }\n",
       "\n",
       "    .dataframe thead th {\n",
       "        text-align: right;\n",
       "    }\n",
       "</style>\n",
       "<table border=\"1\" class=\"dataframe\">\n",
       "  <thead>\n",
       "    <tr style=\"text-align: right;\">\n",
       "      <th></th>\n",
       "      <th>int64_field_0</th>\n",
       "      <th>id</th>\n",
       "      <th>name</th>\n",
       "      <th>subscribers_count</th>\n",
       "      <th>permalink</th>\n",
       "      <th>nsfw</th>\n",
       "      <th>spam</th>\n",
       "    </tr>\n",
       "  </thead>\n",
       "  <tbody>\n",
       "    <tr>\n",
       "      <th>0</th>\n",
       "      <td>4</td>\n",
       "      <td>t5_via1x</td>\n",
       "      <td>/r/mylittlepony</td>\n",
       "      <td>4323081</td>\n",
       "      <td>/r//r/mylittlepony</td>\n",
       "      <td>NaN</td>\n",
       "      <td>False</td>\n",
       "    </tr>\n",
       "    <tr>\n",
       "      <th>1</th>\n",
       "      <td>5</td>\n",
       "      <td>t5_cv9gn</td>\n",
       "      <td>/r/polyamory</td>\n",
       "      <td>2425929</td>\n",
       "      <td>/r//r/polyamory</td>\n",
       "      <td>NaN</td>\n",
       "      <td>False</td>\n",
       "    </tr>\n",
       "    <tr>\n",
       "      <th>2</th>\n",
       "      <td>10</td>\n",
       "      <td>t5_8p2tq</td>\n",
       "      <td>/r/Catholicism</td>\n",
       "      <td>4062607</td>\n",
       "      <td>/r//r/Catholicism</td>\n",
       "      <td>NaN</td>\n",
       "      <td>False</td>\n",
       "    </tr>\n",
       "    <tr>\n",
       "      <th>3</th>\n",
       "      <td>16</td>\n",
       "      <td>t5_8fcro</td>\n",
       "      <td>/r/cordcutters</td>\n",
       "      <td>7543226</td>\n",
       "      <td>/r//r/cordcutters</td>\n",
       "      <td>NaN</td>\n",
       "      <td>False</td>\n",
       "    </tr>\n",
       "    <tr>\n",
       "      <th>4</th>\n",
       "      <td>17</td>\n",
       "      <td>t5_td5of</td>\n",
       "      <td>/r/stevenuniverse</td>\n",
       "      <td>2692168</td>\n",
       "      <td>/r//r/stevenuniverse</td>\n",
       "      <td>NaN</td>\n",
       "      <td>False</td>\n",
       "    </tr>\n",
       "    <tr>\n",
       "      <th>...</th>\n",
       "      <td>...</td>\n",
       "      <td>...</td>\n",
       "      <td>...</td>\n",
       "      <td>...</td>\n",
       "      <td>...</td>\n",
       "      <td>...</td>\n",
       "      <td>...</td>\n",
       "    </tr>\n",
       "    <tr>\n",
       "      <th>95</th>\n",
       "      <td>305</td>\n",
       "      <td>t5_jgydw</td>\n",
       "      <td>/r/cannabis</td>\n",
       "      <td>7703201</td>\n",
       "      <td>/r//r/cannabis</td>\n",
       "      <td>NaN</td>\n",
       "      <td>False</td>\n",
       "    </tr>\n",
       "    <tr>\n",
       "      <th>96</th>\n",
       "      <td>311</td>\n",
       "      <td>t5_3mfau</td>\n",
       "      <td>/r/marvelmemes</td>\n",
       "      <td>4288492</td>\n",
       "      <td>/r//r/marvelmemes</td>\n",
       "      <td>NaN</td>\n",
       "      <td>False</td>\n",
       "    </tr>\n",
       "    <tr>\n",
       "      <th>97</th>\n",
       "      <td>317</td>\n",
       "      <td>t5_ub3c8</td>\n",
       "      <td>/r/ghibli</td>\n",
       "      <td>6029127</td>\n",
       "      <td>/r//r/ghibli</td>\n",
       "      <td>NaN</td>\n",
       "      <td>False</td>\n",
       "    </tr>\n",
       "    <tr>\n",
       "      <th>98</th>\n",
       "      <td>319</td>\n",
       "      <td>t5_fbgo3</td>\n",
       "      <td>/r/birdsarentreal</td>\n",
       "      <td>3416317</td>\n",
       "      <td>/r//r/birdsarentreal</td>\n",
       "      <td>NaN</td>\n",
       "      <td>False</td>\n",
       "    </tr>\n",
       "    <tr>\n",
       "      <th>99</th>\n",
       "      <td>320</td>\n",
       "      <td>t5_mue7v</td>\n",
       "      <td>/r/polandball</td>\n",
       "      <td>8894111</td>\n",
       "      <td>/r//r/polandball</td>\n",
       "      <td>NaN</td>\n",
       "      <td>False</td>\n",
       "    </tr>\n",
       "  </tbody>\n",
       "</table>\n",
       "<p>100 rows × 7 columns</p>\n",
       "</div>"
      ],
      "text/plain": [
       "    int64_field_0        id               name  subscribers_count  \\\n",
       "0               4  t5_via1x    /r/mylittlepony            4323081   \n",
       "1               5  t5_cv9gn       /r/polyamory            2425929   \n",
       "2              10  t5_8p2tq     /r/Catholicism            4062607   \n",
       "3              16  t5_8fcro     /r/cordcutters            7543226   \n",
       "4              17  t5_td5of  /r/stevenuniverse            2692168   \n",
       "..            ...       ...                ...                ...   \n",
       "95            305  t5_jgydw        /r/cannabis            7703201   \n",
       "96            311  t5_3mfau     /r/marvelmemes            4288492   \n",
       "97            317  t5_ub3c8          /r/ghibli            6029127   \n",
       "98            319  t5_fbgo3  /r/birdsarentreal            3416317   \n",
       "99            320  t5_mue7v      /r/polandball            8894111   \n",
       "\n",
       "               permalink  nsfw   spam  \n",
       "0     /r//r/mylittlepony   NaN  False  \n",
       "1        /r//r/polyamory   NaN  False  \n",
       "2      /r//r/Catholicism   NaN  False  \n",
       "3      /r//r/cordcutters   NaN  False  \n",
       "4   /r//r/stevenuniverse   NaN  False  \n",
       "..                   ...   ...    ...  \n",
       "95        /r//r/cannabis   NaN  False  \n",
       "96     /r//r/marvelmemes   NaN  False  \n",
       "97          /r//r/ghibli   NaN  False  \n",
       "98  /r//r/birdsarentreal   NaN  False  \n",
       "99      /r//r/polandball   NaN  False  \n",
       "\n",
       "[100 rows x 7 columns]"
      ]
     },
     "execution_count": 9,
     "metadata": {},
     "output_type": "execute_result"
    }
   ],
   "source": [
    "query_results"
   ]
  }
 ],
 "metadata": {
  "kernelspec": {
   "display_name": "Python 3 (ipykernel)",
   "language": "python",
   "name": "python3"
  },
  "language_info": {
   "codemirror_mode": {
    "name": "ipython",
    "version": 3
   },
   "file_extension": ".py",
   "mimetype": "text/x-python",
   "name": "python",
   "nbconvert_exporter": "python",
   "pygments_lexer": "ipython3",
   "version": "3.11.0rc1"
  }
 },
 "nbformat": 4,
 "nbformat_minor": 5
}
