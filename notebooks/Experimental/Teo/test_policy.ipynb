{
 "cells": [
  {
   "cell_type": "code",
   "execution_count": 1,
   "metadata": {},
   "outputs": [
    {
     "name": "stderr",
     "output_type": "stream",
     "text": [
      "kj/filesystem-disk-unix.c++:1690: warning: PWD environment variable doesn't match current directory; pwd = /home/teo/OpenMined/PySyft\n",
      "/home/teo/anaconda3/envs/PySyft/lib/python3.10/site-packages/tqdm/auto.py:22: TqdmWarning: IProgress not found. Please update jupyter and ipywidgets. See https://ipywidgets.readthedocs.io/en/stable/user_install.html\n",
      "  from .autonotebook import tqdm as notebook_tqdm\n",
      "2023-01-31 17:21:13.366749: W tensorflow/stream_executor/platform/default/dso_loader.cc:64] Could not load dynamic library 'libcudart.so.11.0'; dlerror: libcudart.so.11.0: cannot open shared object file: No such file or directory; LD_LIBRARY_PATH: /usr/local/cuda-11.5/lib64:/usr/local/cuda-11.5/lib64:\n",
      "2023-01-31 17:21:13.381185: E tensorflow/stream_executor/cuda/cuda_blas.cc:2981] Unable to register cuBLAS factory: Attempting to register factory for plugin cuBLAS when one has already been registered\n",
      "2023-01-31 17:21:13.872889: W tensorflow/stream_executor/platform/default/dso_loader.cc:64] Could not load dynamic library 'libnvinfer.so.7'; dlerror: libnvrtc.so.11.1: cannot open shared object file: No such file or directory; LD_LIBRARY_PATH: /usr/local/cuda-11.5/lib64:/usr/local/cuda-11.5/lib64:\n",
      "2023-01-31 17:21:13.873052: W tensorflow/stream_executor/platform/default/dso_loader.cc:64] Could not load dynamic library 'libnvinfer_plugin.so.7'; dlerror: libnvrtc.so.11.1: cannot open shared object file: No such file or directory; LD_LIBRARY_PATH: /usr/local/cuda-11.5/lib64:/usr/local/cuda-11.5/lib64:\n",
      "2023-01-31 17:21:13.873060: W tensorflow/compiler/tf2tensorrt/utils/py_utils.cc:38] TF-TRT Warning: Cannot dlopen some TensorRT libraries. If you would like to use Nvidia GPU with TensorRT, please make sure the missing libraries mentioned above are installed properly.\n"
     ]
    }
   ],
   "source": [
    "import syft as sy\n",
    "from syft.core.node.new.credentials import SyftVerifyKey\n",
    "from typing import Dict\n",
    "from typing import Any\n",
    "import torch as th"
   ]
  },
  {
   "cell_type": "code",
   "execution_count": 2,
   "metadata": {},
   "outputs": [
    {
     "name": "stdout",
     "output_type": "stream",
     "text": [
      "\u001b[93mWARNING:\u001b[0m CHANGE YOUR USERNAME AND PASSWORD!!! \n",
      "\n",
      "Anyone can login as an admin to your node right now because your password is still the default PySyft username and password!!!\n",
      "\n",
      "Connecting to localhost... done! \t Logging into test... done!\n"
     ]
    }
   ],
   "source": [
    "ds_client = sy.login(email=\"info@openmined.org\", password=\"changethis\", port=8081)"
   ]
  },
  {
   "cell_type": "code",
   "execution_count": 3,
   "metadata": {},
   "outputs": [],
   "source": [
    "def foo():\n",
    "    print(\"Hello\")"
   ]
  },
  {
   "cell_type": "code",
   "execution_count": 4,
   "metadata": {},
   "outputs": [],
   "source": [
    "class Policy():\n",
    "    \n",
    "    request_itereations: int\n",
    "    my_verify_key: SyftVerifyKey\n",
    "    state: Dict[str, Any] = None\n",
    "\n",
    "    def public_state(self):\n",
    "        return NotImplemented\n",
    "        \n",
    "    def start(self):\n",
    "        return NotImplemented\n",
    "        \n",
    "    def apply(self, kwargs, state):\n",
    "        return NotImplemented\n",
    "\n",
    "class ArgBinderSubPolicy:\n",
    "    \n",
    "    def __init__(self, binding_kwargs):\n",
    "        self.binding_kwargs = binding_kwargs\n",
    "        \n",
    "    def kargs_are_valid(self, *kwargs):\n",
    "        \n",
    "        looks_good = True\n",
    "        \n",
    "        # insert logic here which changes looks_good to\n",
    "        # false if the *kwargs do NOT match the \n",
    "        # limitations in binding_kwargs\n",
    "        \n",
    "        return looks_good\n",
    "    \n",
    "class RepeatedCallPolicyWithBoundArgs(Policy):\n",
    "        \n",
    "    def __init__(self, n_calls, downloadable_output_args, **binding_kwargs):\n",
    "        self.n_calls = n_calls\n",
    "        self.binding_policy = ArgBinderSubPolicy(binding_kwargs)\n",
    "        self.downloadable_output_args = downloadable_output_args\n",
    "        \n",
    "    def start(self):# -> None\n",
    "        self.state = {\"count\": 0}\n",
    "    \n",
    "    def public_state(self):\n",
    "        return self.state\n",
    "        \n",
    "    def apply_output(self, results_dict, **kwargs) -> Dict[Any, Any]:\n",
    "        \n",
    "        if self.binding_policy.kwargs_are_valid(kwargs):\n",
    "\n",
    "            if self.state[\"count\"] < self.n_calls:\n",
    "                for output_arg in self.downloadable_output_args:\n",
    "                    results_dict[output_arg] = results_dict[output_arg].set_permission(\"READ\", self.my_verify_key)\n",
    "\n",
    "            self.state[\"count\"] += 1\n",
    "            \n",
    "        return results_dict\n",
    "    \n",
    "class SingleCallPolicyWithBoundArgs(RepeatedCallPolicyWithBoundArgs):\n",
    "    \n",
    "    def __init__(self, downloadable_output_args, **binding_kwargs):\n",
    "        self.n_calls = 1\n",
    "        self.binding_policy = ArgBinderSubPolicy(binding_kwargs)\n",
    "        self.downloadable_output_args = downloadable_output_args\n",
    "    "
   ]
  },
  {
   "cell_type": "code",
   "execution_count": 9,
   "metadata": {},
   "outputs": [],
   "source": [
    "f_string = \"\"\"y = x + x*2\"\"\""
   ]
  },
  {
   "cell_type": "code",
   "execution_count": 15,
   "metadata": {},
   "outputs": [],
   "source": [
    "x = th.tensor([1,2,3,4,5,6,7]).send(ds_client)"
   ]
  },
  {
   "cell_type": "code",
   "execution_count": 16,
   "metadata": {},
   "outputs": [],
   "source": [
    "x_pointer = ds_client.store[x.id_at_location.to_string()]"
   ]
  },
  {
   "cell_type": "code",
   "execution_count": 20,
   "metadata": {},
   "outputs": [
    {
     "data": {
      "text/plain": [
       "tensor([1, 2, 3, 4, 5, 6, 7])"
      ]
     },
     "execution_count": 20,
     "metadata": {},
     "output_type": "execute_result"
    }
   ],
   "source": [
    "x_pointer.get_copy()"
   ]
  },
  {
   "cell_type": "code",
   "execution_count": 39,
   "metadata": {},
   "outputs": [],
   "source": [
    "ds_client.code_request(code=f_string, inputs={\"x\": x}, outputs=['y'])"
   ]
  },
  {
   "cell_type": "code",
   "execution_count": 63,
   "metadata": {},
   "outputs": [],
   "source": []
  },
  {
   "cell_type": "code",
   "execution_count": 45,
   "metadata": {},
   "outputs": [
    {
     "data": {
      "text/plain": [
       "'4f04955c888843f6ac2ad1e731636346'"
      ]
     },
     "execution_count": 45,
     "metadata": {},
     "output_type": "execute_result"
    }
   ],
   "source": [
    "task_f_string = ds_client.tasks[\"tasks\"][-1][\"uid\"]\n",
    "task_f_string"
   ]
  },
  {
   "cell_type": "code",
   "execution_count": 43,
   "metadata": {},
   "outputs": [
    {
     "data": {
      "text/plain": [
       "['cbae8b176c8b48fc83fef3f72a58e9f0',\n",
       " 'a2c55ac7d30d42229a3eff49131894ea',\n",
       " 'afe6184d082941c8bbd711a7e22ff12f',\n",
       " '9d374c4ac9f04f1091cee1249343dbf2',\n",
       " '022809b051ac4baaa48ddf108b297139',\n",
       " 'c29fa58746e1401c8631633350048a0a',\n",
       " '4f04955c888843f6ac2ad1e731636346']"
      ]
     },
     "execution_count": 43,
     "metadata": {},
     "output_type": "execute_result"
    }
   ],
   "source": [
    "[task['uid'] for task in ds_client.tasks[\"tasks\"]]"
   ]
  },
  {
   "cell_type": "code",
   "execution_count": 48,
   "metadata": {},
   "outputs": [
    {
     "data": {
      "text/plain": [
       "{'id': <UID: 476b1254f58b45f58077130ab187c73c>,\n",
       " 'uid': '4f04955c888843f6ac2ad1e731636346',\n",
       " 'user': 'a9e91773e79d4620866e5350e534b63e',\n",
       " 'inputs': {'x': '0744e6393089495abbb15e9147159fad'},\n",
       " 'owner': {'name': 'Jane Doe', 'role': 'Owner', 'email': 'info@openmined.org'},\n",
       " 'code': 'y = x + x*2',\n",
       " 'status': 'accepted',\n",
       " 'created_at': '31/01/2023',\n",
       " 'updated_at': '31/01/2023',\n",
       " 'reviewed_by': 'Jane Doe',\n",
       " 'execution': {'status': 'done'},\n",
       " 'outputs': {'output': 'df08a7dfbd6f4e7696186611bd49b253'},\n",
       " 'reason': 'Looks good'}"
      ]
     },
     "execution_count": 48,
     "metadata": {},
     "output_type": "execute_result"
    }
   ],
   "source": [
    "ds_client.tasks[\"tasks\"][-1]"
   ]
  },
  {
   "cell_type": "code",
   "execution_count": null,
   "metadata": {},
   "outputs": [
    {
     "data": {
      "text/plain": [
       "str"
      ]
     },
     "execution_count": 19,
     "metadata": {},
     "output_type": "execute_result"
    }
   ],
   "source": [
    "type(task_f_string.to_string())"
   ]
  },
  {
   "cell_type": "code",
   "execution_count": 47,
   "metadata": {},
   "outputs": [
    {
     "name": "stdout",
     "output_type": "stream",
     "text": [
      "4f04955c888843f6ac2ad1e731636346\n"
     ]
    }
   ],
   "source": [
    "ds_client.review(task_uid=task_f_string, approve=True, reason=\"Looks good\")"
   ]
  },
  {
   "cell_type": "code",
   "execution_count": 57,
   "metadata": {},
   "outputs": [],
   "source": [
    "y_uid = ds_client.tasks[\"tasks\"][-1][\"outputs\"][\"output\"]"
   ]
  },
  {
   "cell_type": "code",
   "execution_count": 58,
   "metadata": {},
   "outputs": [],
   "source": [
    "y_pointer = ds_client.store.get(y_uid)"
   ]
  },
  {
   "cell_type": "code",
   "execution_count": 59,
   "metadata": {},
   "outputs": [
    {
     "data": {
      "text/plain": [
       "{'y': tensor([ 3,  6,  9, 12, 15, 18, 21])}"
      ]
     },
     "execution_count": 59,
     "metadata": {},
     "output_type": "execute_result"
    }
   ],
   "source": [
    "y_pointer.get()"
   ]
  }
 ],
 "metadata": {
  "kernelspec": {
   "display_name": "PySyft",
   "language": "python",
   "name": "python3"
  },
  "language_info": {
   "codemirror_mode": {
    "name": "ipython",
    "version": 3
   },
   "file_extension": ".py",
   "mimetype": "text/x-python",
   "name": "python",
   "nbconvert_exporter": "python",
   "pygments_lexer": "ipython3",
   "version": "3.10.4 (main, Mar 31 2022, 08:41:55) [GCC 7.5.0]"
  },
  "orig_nbformat": 4,
  "vscode": {
   "interpreter": {
    "hash": "4793a45c21657cf3d03167fad0b0286070df6dcd03825f60c6ea99cbb4eef702"
   }
  }
 },
 "nbformat": 4,
 "nbformat_minor": 2
}
