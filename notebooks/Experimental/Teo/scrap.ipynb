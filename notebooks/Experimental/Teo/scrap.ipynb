{
 "cells": [
  {
   "cell_type": "code",
   "execution_count": 1,
   "metadata": {},
   "outputs": [
    {
     "name": "stderr",
     "output_type": "stream",
     "text": [
      "kj/filesystem-disk-unix.c++:1690: warning: PWD environment variable doesn't match current directory; pwd = /home/teo/OpenMined/PySyft\n",
      "/home/teo/anaconda3/envs/PySyft/lib/python3.10/site-packages/tqdm/auto.py:22: TqdmWarning: IProgress not found. Please update jupyter and ipywidgets. See https://ipywidgets.readthedocs.io/en/stable/user_install.html\n",
      "  from .autonotebook import tqdm as notebook_tqdm\n",
      "2023-01-26 10:01:35.248873: W tensorflow/stream_executor/platform/default/dso_loader.cc:64] Could not load dynamic library 'libcudart.so.11.0'; dlerror: libcudart.so.11.0: cannot open shared object file: No such file or directory; LD_LIBRARY_PATH: /usr/local/cuda-11.5/lib64:/usr/local/cuda-11.5/lib64:\n",
      "2023-01-26 10:01:35.263323: E tensorflow/stream_executor/cuda/cuda_blas.cc:2981] Unable to register cuBLAS factory: Attempting to register factory for plugin cuBLAS when one has already been registered\n",
      "2023-01-26 10:01:35.697959: W tensorflow/stream_executor/platform/default/dso_loader.cc:64] Could not load dynamic library 'libnvinfer.so.7'; dlerror: libnvrtc.so.11.1: cannot open shared object file: No such file or directory; LD_LIBRARY_PATH: /usr/local/cuda-11.5/lib64:/usr/local/cuda-11.5/lib64:\n",
      "2023-01-26 10:01:35.698093: W tensorflow/stream_executor/platform/default/dso_loader.cc:64] Could not load dynamic library 'libnvinfer_plugin.so.7'; dlerror: libnvrtc.so.11.1: cannot open shared object file: No such file or directory; LD_LIBRARY_PATH: /usr/local/cuda-11.5/lib64:/usr/local/cuda-11.5/lib64:\n",
      "2023-01-26 10:01:35.698099: W tensorflow/compiler/tf2tensorrt/utils/py_utils.cc:38] TF-TRT Warning: Cannot dlopen some TensorRT libraries. If you would like to use Nvidia GPU with TensorRT, please make sure the missing libraries mentioned above are installed properly.\n"
     ]
    }
   ],
   "source": [
    "from syft.core.node.new.action_service import NumpyArrayObject, NumpyArrayObjectPointer\n",
    "import numpy as np\n",
    "import syft as sy\n",
    "from syft.core.node.new.api import APIRegistry"
   ]
  },
  {
   "cell_type": "code",
   "execution_count": 2,
   "metadata": {},
   "outputs": [
    {
     "name": "stdout",
     "output_type": "stream",
     "text": [
      "\u001b[93mWARNING:\u001b[0m CHANGE YOUR USERNAME AND PASSWORD!!! \n",
      "\n",
      "Anyone can login as an admin to your node right now because your password is still the default PySyft username and password!!!\n",
      "\n",
      "Connecting to localhost... done! \t Logging into test... done!\n"
     ]
    }
   ],
   "source": [
    "ds_client = sy.login(email=\"info@openmined.org\", password=\"changethis\", port=8081)"
   ]
  },
  {
   "cell_type": "code",
   "execution_count": 4,
   "metadata": {},
   "outputs": [],
   "source": [
    "data_2 = np.array([2, 3])\n",
    "pointer_2 = data_2.send(ds_client).value\n",
    "api = APIRegistry.api_for(node_uid=ds_client.node_uid)"
   ]
  },
  {
   "cell_type": "code",
   "execution_count": 5,
   "metadata": {},
   "outputs": [
    {
     "data": {
      "text/plain": [
       "<class 'syft.core.node.new.api.SyftAPI'>\n",
       "endpoints: <class 'str'> = {'action.peek': <class 'syft.core.node.new.api.APIEndpoint'>\n",
       ", 'action.set': <class 'syft.core.node.new.api.APIEndpoint'>\n",
       ", 'action.get': <class 'syft.core.node.new.api.APIEndpoint'>\n",
       ", 'action.execute': <class 'syft.core.node.new.api.APIEndpoint'>\n",
       ", 'user.create': <class 'syft.core.node.new.api.APIEndpoint'>\n",
       ", 'user.view': <class 'syft.core.node.new.api.APIEndpoint'>\n",
       "}"
      ]
     },
     "execution_count": 5,
     "metadata": {},
     "output_type": "execute_result"
    }
   ],
   "source": [
    "api"
   ]
  },
  {
   "cell_type": "code",
   "execution_count": 7,
   "metadata": {},
   "outputs": [],
   "source": [
    "\n",
    "\n",
    "data = np.array([1,2])\n",
    "pointer = data.send(ds_client).value\n"
   ]
  },
  {
   "cell_type": "code",
   "execution_count": 9,
   "metadata": {},
   "outputs": [
    {
     "name": "stdout",
     "output_type": "stream",
     "text": [
      "other.id=<UID: a85423faf16d4bccb88c22b8b54dd150>\n",
      "self.id=<UID: 1d9299a1aa274b80ad9e38063a846086>\n",
      "self.id=<UID: 1d9299a1aa274b80ad9e38063a846086>\n",
      "args=[<class 'syft.core.node.new.action_service.NumpyArrayObjectPointer'>\n",
      "id: <class 'str'> = <UID: a85423faf16d4bccb88c22b8b54dd150>\n",
      "node_uid: <class 'str'> = <UID: 015aada2461842179669efcdd63d47e4>\n",
      "parent_id: <class 'str'> = None\n",
      "]\n",
      "action=<class 'syft.core.node.new.action_object.Action'>\n",
      "\n",
      "<class 'syft.core.node.new.action_service.NumpyArrayObjectPointer'>\n"
     ]
    }
   ],
   "source": [
    "res = (pointer - pointer_2)\n",
    "print(type(res))"
   ]
  },
  {
   "cell_type": "code",
   "execution_count": 9,
   "metadata": {},
   "outputs": [
    {
     "data": {
      "text/plain": [
       "array([-5, -7, -9])"
      ]
     },
     "execution_count": 9,
     "metadata": {},
     "output_type": "execute_result"
    }
   ],
   "source": [
    "res.get_from(ds_client)"
   ]
  },
  {
   "cell_type": "code",
   "execution_count": 26,
   "metadata": {},
   "outputs": [],
   "source": [
    "\n",
    "new_raw_data = np.array([1,2,3,4,5])\n",
    "new_np_pointer = new_raw_data.send(ds_client).value\n",
    "new_raw_data_2 = np.array([2, 3, 4, 5,6])\n",
    "new_np_pointer_2 = new_raw_data_2.send(ds_client).value\n"
   ]
  },
  {
   "cell_type": "code",
   "execution_count": 6,
   "metadata": {},
   "outputs": [
    {
     "ename": "NameError",
     "evalue": "name 'new_np_pointer' is not defined",
     "output_type": "error",
     "traceback": [
      "\u001b[0;31m---------------------------------------------------------------------------\u001b[0m",
      "\u001b[0;31mNameError\u001b[0m                                 Traceback (most recent call last)",
      "\u001b[1;32m/home/teo/OpenMined/PySyft/notebooks/Experimental/Teo/scrap.ipynb Cell 9\u001b[0m in \u001b[0;36m<cell line: 1>\u001b[0;34m()\u001b[0m\n\u001b[0;32m----> <a href='vscode-notebook-cell:/home/teo/OpenMined/PySyft/notebooks/Experimental/Teo/scrap.ipynb#X11sZmlsZQ%3D%3D?line=0'>1</a>\u001b[0m res \u001b[39m=\u001b[39m (new_np_pointer \u001b[39m-\u001b[39m new_np_pointer_2)\n\u001b[1;32m      <a href='vscode-notebook-cell:/home/teo/OpenMined/PySyft/notebooks/Experimental/Teo/scrap.ipynb#X11sZmlsZQ%3D%3D?line=1'>2</a>\u001b[0m \u001b[39mprint\u001b[39m(\u001b[39mtype\u001b[39m(res))\n\u001b[1;32m      <a href='vscode-notebook-cell:/home/teo/OpenMined/PySyft/notebooks/Experimental/Teo/scrap.ipynb#X11sZmlsZQ%3D%3D?line=2'>3</a>\u001b[0m \u001b[39mprint\u001b[39m(\u001b[39mf\u001b[39m\u001b[39m'\u001b[39m\u001b[39m{\u001b[39;00mres\u001b[39m.\u001b[39mid\u001b[39m=}\u001b[39;00m\u001b[39m'\u001b[39m)\n",
      "\u001b[0;31mNameError\u001b[0m: name 'new_np_pointer' is not defined"
     ]
    }
   ],
   "source": [
    "res = (new_np_pointer - new_np_pointer_2)\n",
    "print(type(res))\n",
    "print(f'{res.id=}')\n",
    "print(f'{new_np_pointer.id=}')\n",
    "print(f'{new_np_pointer_2.id=}')\n",
    "\n",
    "print(res.get_from(ds_client))\n",
    "print(new_np_pointer.get_from(ds_client))\n",
    "print(new_np_pointer_2.get_from(ds_client))"
   ]
  },
  {
   "cell_type": "code",
   "execution_count": 53,
   "metadata": {},
   "outputs": [],
   "source": [
    "ds_client.api.services.action.peek()"
   ]
  }
 ],
 "metadata": {
  "kernelspec": {
   "display_name": "PySyft",
   "language": "python",
   "name": "python3"
  },
  "language_info": {
   "codemirror_mode": {
    "name": "ipython",
    "version": 3
   },
   "file_extension": ".py",
   "mimetype": "text/x-python",
   "name": "python",
   "nbconvert_exporter": "python",
   "pygments_lexer": "ipython3",
   "version": "3.10.4"
  },
  "orig_nbformat": 4,
  "vscode": {
   "interpreter": {
    "hash": "4793a45c21657cf3d03167fad0b0286070df6dcd03825f60c6ea99cbb4eef702"
   }
  }
 },
 "nbformat": 4,
 "nbformat_minor": 2
}
