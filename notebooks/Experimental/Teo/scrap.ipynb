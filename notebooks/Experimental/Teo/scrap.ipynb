{
 "cells": [
  {
   "cell_type": "code",
   "execution_count": null,
   "metadata": {},
   "outputs": [
    {
     "ename": "",
     "evalue": "",
     "output_type": "error",
     "traceback": [
      "\u001b[1;31mFailed to start the Kernel. \n",
      "\u001b[1;31mTraceback (most recent call last):\n",
      "\u001b[1;31m  File \"/home/teo/.vscode/extensions/ms-toolsai.jupyter-2022.11.1003412109/pythonFiles/vscode_datascience_helpers/jupyter_daemon.py\", line 158, in _start_notebook\n",
      "\u001b[1;31m    from notebook import notebookapp as app\n",
      "\u001b[1;31m  File \"/home/teo/.local/lib/python3.10/site-packages/notebook/notebookapp.py\", line 78, in <module>\n",
      "\u001b[1;31m    from .services.kernels.kernelmanager import MappingKernelManager, AsyncMappingKernelManager\n",
      "\u001b[1;31m  File \"/home/teo/.local/lib/python3.10/site-packages/notebook/services/kernels/kernelmanager.py\", line 18, in <module>\n",
      "\u001b[1;31m    from jupyter_client.session import Session\n",
      "\u001b[1;31m  File \"/home/teo/.local/lib/python3.10/site-packages/jupyter_client/session.py\", line 32, in <module>\n",
      "\u001b[1;31m    import zmq.asyncio\n",
      "\u001b[1;31mModuleNotFoundError: No module named 'zmq'\n",
      "\u001b[1;31m\n",
      "\u001b[1;31mDuring handling of the above exception, another exception occurred:\n",
      "\u001b[1;31m\n",
      "\u001b[1;31mTraceback (most recent call last):\n",
      "\u001b[1;31m  File \"/home/teo/.vscode/extensions/ms-toolsai.jupyter-2022.11.1003412109/pythonFiles/vscode_datascience_helpers/daemon/daemon_python.py\", line 54, in _decorator\n",
      "\u001b[1;31m    return func(self, *args, **kwargs)\n",
      "\u001b[1;31m  File \"/home/teo/.vscode/extensions/ms-toolsai.jupyter-2022.11.1003412109/pythonFiles/vscode_datascience_helpers/jupyter_daemon.py\", line 111, in m_exec_module_observable\n",
      "\u001b[1;31m    self._start_notebook(args, cwd, env)\n",
      "\u001b[1;31m  File \"/home/teo/.vscode/extensions/ms-toolsai.jupyter-2022.11.1003412109/pythonFiles/vscode_datascience_helpers/jupyter_daemon.py\", line 160, in _start_notebook\n",
      "\u001b[1;31m    from notebook import app as app\n",
      "\u001b[1;31mImportError: cannot import name 'app' from 'notebook' (/home/teo/.local/lib/python3.10/site-packages/notebook/__init__.py)\n",
      "\u001b[1;31m\n",
      "\u001b[1;31mFailed to run jupyter as observable with args notebook --no-browser --notebook-dir=\"/home/teo/OpenMined/PySyft/notebooks/Experimental/Teo\" --config=/tmp/45554160-543c-4289-bd09-584905799d4a/jupyter_notebook_config.py --NotebookApp.iopub_data_rate_limit=10000000000.0. \n",
      "\u001b[1;31mView Jupyter <a href='command:jupyter.viewOutput'>log</a> for further details."
     ]
    }
   ],
   "source": [
    "from syft.core.node.new.action_service import NumpyArrayObject, NumpyArrayObjectPointer\n",
    "import numpy as np\n",
    "import syft as sy"
   ]
  },
  {
   "cell_type": "code",
   "execution_count": 2,
   "metadata": {},
   "outputs": [],
   "source": [
    "# do_client = sy.login(email=\"info@openmined.org\", password=\"changethis\", port=\"8081\")"
   ]
  },
  {
   "cell_type": "code",
   "execution_count": 3,
   "metadata": {},
   "outputs": [
    {
     "name": "stdout",
     "output_type": "stream",
     "text": [
      "int64\n"
     ]
    }
   ],
   "source": [
    "raw_data = np.array([1,2,3])\n",
    "print(raw_data.dtype)\n",
    "np_obj = NumpyArrayObject(\n",
    "        syft_action_data=raw_data, \n",
    "        dtype=raw_data.dtype, \n",
    "        shape=raw_data.shape\n",
    "        )"
   ]
  },
  {
   "cell_type": "code",
   "execution_count": 4,
   "metadata": {},
   "outputs": [],
   "source": [
    "# do_client.node_uid\n",
    "# np_pointer = np_obj.to_pointer(do_client.node_uid)"
   ]
  },
  {
   "cell_type": "code",
   "execution_count": 5,
   "metadata": {},
   "outputs": [
    {
     "name": "stdout",
     "output_type": "stream",
     "text": [
      "custom repr\n",
      "__repr__\n",
      "(1, array([1, 2, 3]))\n",
      "[1 2 3]\n",
      "int64\n"
     ]
    },
    {
     "ename": "TypeError",
     "evalue": "'numpy.dtype[int64]' object is not callable",
     "output_type": "error",
     "traceback": [
      "\u001b[0;31m---------------------------------------------------------------------------\u001b[0m",
      "\u001b[0;31mTypeError\u001b[0m                                 Traceback (most recent call last)",
      "\u001b[1;32m/home/teo/OpenMined/PySyft/notebooks/Experimental/Teo/scrap.ipynb Cell 5\u001b[0m in \u001b[0;36m<cell line: 2>\u001b[0;34m()\u001b[0m\n\u001b[1;32m      <a href='vscode-notebook-cell:/home/teo/OpenMined/PySyft/notebooks/Experimental/Teo/scrap.ipynb#W4sZmlsZQ%3D%3D?line=0'>1</a>\u001b[0m \u001b[39m# np_pointer == np_obj\u001b[39;00m\n\u001b[0;32m----> <a href='vscode-notebook-cell:/home/teo/OpenMined/PySyft/notebooks/Experimental/Teo/scrap.ipynb#W4sZmlsZQ%3D%3D?line=1'>2</a>\u001b[0m \u001b[39m1\u001b[39;49m \u001b[39m-\u001b[39;49m np_obj\n",
      "File \u001b[0;32m~/anaconda3/envs/PySyft/lib/python3.10/site-packages/numpy/lib/mixins.py:31\u001b[0m, in \u001b[0;36m_reflected_binary_method.<locals>.func\u001b[0;34m(self, other)\u001b[0m\n\u001b[1;32m     29\u001b[0m \u001b[39mif\u001b[39;00m _disables_array_ufunc(other):\n\u001b[1;32m     30\u001b[0m     \u001b[39mreturn\u001b[39;00m \u001b[39mNotImplemented\u001b[39m\n\u001b[0;32m---> 31\u001b[0m \u001b[39mreturn\u001b[39;00m ufunc(other, \u001b[39mself\u001b[39;49m)\n",
      "File \u001b[0;32m~/OpenMined/PySyft/packages/syft/src/syft/core/node/new/action_service.py:100\u001b[0m, in \u001b[0;36mNumpyArrayObject.__array_ufunc__\u001b[0;34m(self, ufunc, method, *inputs, **kwargs)\u001b[0m\n\u001b[1;32m     97\u001b[0m \u001b[39mprint\u001b[39m(\u001b[39mself\u001b[39m\u001b[39m.\u001b[39msyft_action_data)\n\u001b[1;32m     98\u001b[0m \u001b[39mprint\u001b[39m(\u001b[39mself\u001b[39m\u001b[39m.\u001b[39mdtype\u001b[39m.\u001b[39msyft_action_data)\n\u001b[0;32m--> 100\u001b[0m inputs \u001b[39m=\u001b[39m \u001b[39mtuple\u001b[39;49m(np\u001b[39m.\u001b[39;49mdtype(x\u001b[39m.\u001b[39;49mdtype\u001b[39m.\u001b[39;49msyft_action_data)(x\u001b[39m.\u001b[39;49msyft_action_data) \n\u001b[1;32m    101\u001b[0m                \u001b[39mif\u001b[39;49;00m \u001b[39misinstance\u001b[39;49m(x, NumpyArrayObject) \u001b[39melse\u001b[39;49;00m x\n\u001b[1;32m    102\u001b[0m                \u001b[39mfor\u001b[39;49;00m x \u001b[39min\u001b[39;49;00m inputs)\n\u001b[1;32m    104\u001b[0m result \u001b[39m=\u001b[39m \u001b[39mgetattr\u001b[39m(ufunc, method)(\u001b[39m*\u001b[39minputs, \u001b[39m*\u001b[39m\u001b[39m*\u001b[39mkwargs)\n\u001b[1;32m    106\u001b[0m \u001b[39mif\u001b[39;00m \u001b[39mtype\u001b[39m(result) \u001b[39mis\u001b[39;00m \u001b[39mtuple\u001b[39m:\n",
      "File \u001b[0;32m~/OpenMined/PySyft/packages/syft/src/syft/core/node/new/action_service.py:100\u001b[0m, in \u001b[0;36m<genexpr>\u001b[0;34m(.0)\u001b[0m\n\u001b[1;32m     97\u001b[0m \u001b[39mprint\u001b[39m(\u001b[39mself\u001b[39m\u001b[39m.\u001b[39msyft_action_data)\n\u001b[1;32m     98\u001b[0m \u001b[39mprint\u001b[39m(\u001b[39mself\u001b[39m\u001b[39m.\u001b[39mdtype\u001b[39m.\u001b[39msyft_action_data)\n\u001b[0;32m--> 100\u001b[0m inputs \u001b[39m=\u001b[39m \u001b[39mtuple\u001b[39m(np\u001b[39m.\u001b[39;49mdtype(x\u001b[39m.\u001b[39;49mdtype\u001b[39m.\u001b[39;49msyft_action_data)(x\u001b[39m.\u001b[39;49msyft_action_data) \n\u001b[1;32m    101\u001b[0m                \u001b[39mif\u001b[39;00m \u001b[39misinstance\u001b[39m(x, NumpyArrayObject) \u001b[39melse\u001b[39;00m x\n\u001b[1;32m    102\u001b[0m                \u001b[39mfor\u001b[39;00m x \u001b[39min\u001b[39;00m inputs)\n\u001b[1;32m    104\u001b[0m result \u001b[39m=\u001b[39m \u001b[39mgetattr\u001b[39m(ufunc, method)(\u001b[39m*\u001b[39minputs, \u001b[39m*\u001b[39m\u001b[39m*\u001b[39mkwargs)\n\u001b[1;32m    106\u001b[0m \u001b[39mif\u001b[39;00m \u001b[39mtype\u001b[39m(result) \u001b[39mis\u001b[39;00m \u001b[39mtuple\u001b[39m:\n",
      "\u001b[0;31mTypeError\u001b[0m: 'numpy.dtype[int64]' object is not callable"
     ]
    }
   ],
   "source": [
    "# np_pointer == np_obj\n",
    "1 - np_obj"
   ]
  },
  {
   "cell_type": "code",
   "execution_count": null,
   "metadata": {},
   "outputs": [
    {
     "name": "stdout",
     "output_type": "stream",
     "text": [
      "[1 2 3]\n"
     ]
    }
   ],
   "source": [
    "print(np_obj.syft_action_data)\n"
   ]
  }
 ],
 "metadata": {
  "kernelspec": {
   "display_name": "PySyft",
   "language": "python",
   "name": "python3"
  },
  "language_info": {
   "codemirror_mode": {
    "name": "ipython",
    "version": 3
   },
   "file_extension": ".py",
   "mimetype": "text/x-python",
   "name": "python",
   "nbconvert_exporter": "python",
   "pygments_lexer": "ipython3",
   "version": "3.10.6 (main, Oct  7 2022, 20:19:58) [GCC 11.2.0]"
  },
  "orig_nbformat": 4,
  "vscode": {
   "interpreter": {
    "hash": "4793a45c21657cf3d03167fad0b0286070df6dcd03825f60c6ea99cbb4eef702"
   }
  }
 },
 "nbformat": 4,
 "nbformat_minor": 2
}
