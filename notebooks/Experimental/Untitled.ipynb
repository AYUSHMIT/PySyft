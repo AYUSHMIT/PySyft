{
 "cells": [
  {
   "cell_type": "code",
   "execution_count": 1,
   "id": "15a4f9d9",
   "metadata": {},
   "outputs": [
    {
     "name": "stderr",
     "output_type": "stream",
     "text": [
      "kj/filesystem-disk-unix.c++:1703: warning: PWD environment variable doesn't match current directory; pwd = /home/dk/Desktop/projects/PySyft\n"
     ]
    }
   ],
   "source": [
    "import syft as sy\n",
    "from syft import Worker"
   ]
  },
  {
   "cell_type": "code",
   "execution_count": 2,
   "id": "d368df27",
   "metadata": {},
   "outputs": [],
   "source": [
    "worker = sy.Worker.named(name=\"test-domain\")"
   ]
  },
  {
   "cell_type": "code",
   "execution_count": 3,
   "id": "fbac5bc1",
   "metadata": {},
   "outputs": [],
   "source": [
    "client = worker.root_client\n",
    "guest = worker.guest_client"
   ]
  },
  {
   "cell_type": "code",
   "execution_count": 4,
   "id": "5f8e4c38",
   "metadata": {},
   "outputs": [
    {
     "data": {
      "text/html": [
       "<div class=\"alert-success\" style=\"padding:5px;\"><strong>SyftSuccess</strong>: User successfully registered!</div><br />"
      ],
      "text/plain": [
       "<class 'syft.service.response.SyftSuccess'>: User successfully registered!"
      ]
     },
     "execution_count": 4,
     "metadata": {},
     "output_type": "execute_result"
    }
   ],
   "source": [
    "response_1 = client.register(\n",
    "    email=\"a@test.com\", password=\"a123\", name=\"a\"\n",
    ")\n",
    "response_1"
   ]
  },
  {
   "cell_type": "code",
   "execution_count": 5,
   "id": "0a3b4e62",
   "metadata": {},
   "outputs": [
    {
     "data": {
      "text/html": [
       "<div class=\"alert-danger\" style=\"padding:5px;\"><strong>SyftError</strong>: You don't have permission to create an account                 on : test-domain. Please contact the Domain Owner.</div><br />"
      ],
      "text/plain": [
       "<class 'syft.service.response.SyftError'>: You don't have permission to create an account                 on : test-domain. Please contact the Domain Owner."
      ]
     },
     "execution_count": 5,
     "metadata": {},
     "output_type": "execute_result"
    }
   ],
   "source": [
    "response_2 = guest.register(\n",
    "    email=\"b@test.com\", password=\"b123\", name=\"b\"\n",
    ")\n",
    "response_2"
   ]
  },
  {
   "cell_type": "code",
   "execution_count": null,
   "id": "c2d3beb1",
   "metadata": {},
   "outputs": [],
   "source": []
  }
 ],
 "metadata": {
  "kernelspec": {
   "display_name": "Python 3 (ipykernel)",
   "language": "python",
   "name": "python3"
  },
  "language_info": {
   "codemirror_mode": {
    "name": "ipython",
    "version": 3
   },
   "file_extension": ".py",
   "mimetype": "text/x-python",
   "name": "python",
   "nbconvert_exporter": "python",
   "pygments_lexer": "ipython3",
   "version": "3.10.8"
  }
 },
 "nbformat": 4,
 "nbformat_minor": 5
}
