{
 "cells": [
  {
   "cell_type": "code",
   "execution_count": 1,
   "id": "853b5397-fd94-4bce-9ae5-ae16d9c201df",
   "metadata": {},
   "outputs": [],
   "source": [
    "import syft as sy\n",
    "from syft.types.datetime import DateTime\n",
    "from syft.service.metadata.node_metadata import NodeMetadata, NodeMetadataV1\n",
    "from syft.service.metadata.node_metadata import NodeMetadataJSON"
   ]
  },
  {
   "cell_type": "code",
   "execution_count": 2,
   "id": "d82eecfc-9d40-4fbb-a868-a1d175a745db",
   "metadata": {},
   "outputs": [],
   "source": [
    "from syft.protocol.data_protocol import DataProtocol"
   ]
  },
  {
   "cell_type": "code",
   "execution_count": 3,
   "id": "0fa4a070-8485-4f44-8d96-f3d28ede2fb3",
   "metadata": {},
   "outputs": [],
   "source": [
    "from syft.service.service import BaseConfig"
   ]
  },
  {
   "cell_type": "code",
   "execution_count": 4,
   "id": "a5632f9f-a175-4e96-b7ef-7e825ccfc50c",
   "metadata": {},
   "outputs": [],
   "source": [
    "from syft.store.dict_document_store import DictStoreConfig"
   ]
  },
  {
   "cell_type": "code",
   "execution_count": 5,
   "id": "0b71f13e-00d9-4e7a-8b9f-b9d7f0aff1f3",
   "metadata": {},
   "outputs": [
    {
     "data": {
      "text/html": [
       "<div class=\"alert-success\" style=\"padding:5px;\"><strong>SyftSuccess</strong>: 110 Protocol Updates Staged to dev</div><br />"
      ],
      "text/plain": [
       "SyftSuccess: 110 Protocol Updates Staged to dev"
      ]
     },
     "execution_count": 5,
     "metadata": {},
     "output_type": "execute_result"
    }
   ],
   "source": [
    "sy.stage_protocol_changes()"
   ]
  },
  {
   "cell_type": "code",
   "execution_count": 6,
   "id": "14959468-9727-47d1-a89c-e0902cd9f4be",
   "metadata": {},
   "outputs": [
    {
     "data": {
      "text/html": [
       "<div class=\"alert-success\" style=\"padding:5px;\"><strong>SyftSuccess</strong>: 0 Protocol Updates Staged to dev</div><br />"
      ],
      "text/plain": [
       "SyftSuccess: 0 Protocol Updates Staged to dev"
      ]
     },
     "execution_count": 6,
     "metadata": {},
     "output_type": "execute_result"
    }
   ],
   "source": [
    "sy.stage_protocol_changes()"
   ]
  },
  {
   "cell_type": "code",
   "execution_count": 7,
   "id": "019568c9-8a44-4cf7-a879-cae67e808170",
   "metadata": {},
   "outputs": [
    {
     "data": {
      "text/html": [
       "<div class=\"alert-success\" style=\"padding:5px;\"><strong>SyftSuccess</strong>: Protocol Updated to 1</div><br />"
      ],
      "text/plain": [
       "SyftSuccess: Protocol Updated to 1"
      ]
     },
     "execution_count": 7,
     "metadata": {},
     "output_type": "execute_result"
    }
   ],
   "source": [
    "sy.bump_protocol_version()"
   ]
  },
  {
   "cell_type": "code",
   "execution_count": null,
   "id": "7e892015-d737-4f8a-babe-d61c5ffd9f9e",
   "metadata": {},
   "outputs": [],
   "source": [
    "x = sy.get_data_protocol()"
   ]
  },
  {
   "cell_type": "code",
   "execution_count": null,
   "id": "06da56ae-db2a-4723-8d70-9ad8b8edc064",
   "metadata": {},
   "outputs": [],
   "source": [
    "x.supported_protocols"
   ]
  },
  {
   "cell_type": "code",
   "execution_count": null,
   "id": "7e064841-d1dc-4048-8477-47dc0a75eb3e",
   "metadata": {},
   "outputs": [],
   "source": [
    "x.state"
   ]
  },
  {
   "cell_type": "code",
   "execution_count": null,
   "id": "56dfe0f3-74e0-40e5-af26-42a7a12971b7",
   "metadata": {},
   "outputs": [],
   "source": [
    "x.state[\"PartialSyftObject\"]"
   ]
  },
  {
   "cell_type": "code",
   "execution_count": null,
   "id": "8c8d38a1-4f50-4607-9752-c202dd3e231b",
   "metadata": {},
   "outputs": [],
   "source": []
  },
  {
   "cell_type": "code",
   "execution_count": null,
   "id": "d795af5b-ebf6-4454-8379-194976611a3d",
   "metadata": {},
   "outputs": [],
   "source": []
  },
  {
   "cell_type": "code",
   "execution_count": null,
   "id": "58791646-a7d6-4925-b6d3-f804b5df8e51",
   "metadata": {},
   "outputs": [],
   "source": [
    "import re"
   ]
  },
  {
   "cell_type": "code",
   "execution_count": null,
   "id": "8af3d1cb-fb45-4ae1-aa69-f4ebdf9ffa3d",
   "metadata": {},
   "outputs": [],
   "source": [
    "def natural_key(key: int | str) -> list[int]:\n",
    "    \"\"\"Define key for natural ordering of strings.\"\"\"\n",
    "    if isinstance(key, int):\n",
    "        key = str(key)\n",
    "    return [int(s) if s.isdigit() else s for s in re.split(\"(\\d+)\", key)]"
   ]
  },
  {
   "cell_type": "code",
   "execution_count": null,
   "id": "d61312af-7a8e-4290-8a4d-3477b5990f29",
   "metadata": {},
   "outputs": [],
   "source": [
    "x = [\"dev\"]"
   ]
  },
  {
   "cell_type": "code",
   "execution_count": null,
   "id": "a0d2ac8e-4640-4d19-97e0-947832078921",
   "metadata": {},
   "outputs": [],
   "source": [
    "sorted(x, key=natural_key)"
   ]
  },
  {
   "cell_type": "code",
   "execution_count": null,
   "id": "e391bf8a-9870-4d36-872c-96969878a515",
   "metadata": {},
   "outputs": [],
   "source": []
  },
  {
   "cell_type": "code",
   "execution_count": null,
   "id": "5c7a5f3f-09b4-43d7-abfb-81fa3f779eed",
   "metadata": {},
   "outputs": [],
   "source": []
  },
  {
   "cell_type": "code",
   "execution_count": null,
   "id": "e4b6b77b-b115-4e3c-a4a0-592c035edc1f",
   "metadata": {},
   "outputs": [],
   "source": []
  },
  {
   "cell_type": "code",
   "execution_count": null,
   "id": "faf2e3ff-dd52-4105-a8f6-518594dcd7d0",
   "metadata": {},
   "outputs": [],
   "source": [
    "raise Exception"
   ]
  },
  {
   "cell_type": "code",
   "execution_count": null,
   "id": "1481115f-2f91-4809-87cb-1bbea37d57cc",
   "metadata": {},
   "outputs": [],
   "source": [
    "import re\n"
   ]
  },
  {
   "cell_type": "code",
   "execution_count": null,
   "id": "b51c2dc1-8c7c-4884-b7ab-abb190816e0e",
   "metadata": {},
   "outputs": [],
   "source": [
    "def natural_key(key: int | str) -> list[int]:\n",
    "    \"\"\"Define key for natural ordering of strings.\"\"\"\n",
    "    if isinstance(key, int):\n",
    "        key = str(key)\n",
    "    return [int(s) if s.isdigit() else s for s in re.split(\"(\\d+)\", key)]"
   ]
  },
  {
   "cell_type": "code",
   "execution_count": null,
   "id": "af95e3b8-daf9-4b3a-8d61-d185698b37da",
   "metadata": {},
   "outputs": [],
   "source": [
    "a = [\"1\", \"dev\", \"2\", \"11\"]"
   ]
  },
  {
   "cell_type": "code",
   "execution_count": null,
   "id": "ed9e1877-6569-47e3-acc5-e85f3e2b19a4",
   "metadata": {},
   "outputs": [],
   "source": [
    "b = sorted(a, key=natural_key)"
   ]
  },
  {
   "cell_type": "code",
   "execution_count": null,
   "id": "bb05d920-19f1-48ee-9f7e-f5de51ade4ce",
   "metadata": {},
   "outputs": [],
   "source": [
    "b"
   ]
  },
  {
   "cell_type": "code",
   "execution_count": null,
   "id": "71ed4308-8045-42f0-9900-fa2cafb6f227",
   "metadata": {},
   "outputs": [],
   "source": []
  },
  {
   "cell_type": "code",
   "execution_count": null,
   "id": "46a024d7-90a3-4d95-ba5e-1de1e93bc4ad",
   "metadata": {},
   "outputs": [],
   "source": [
    "DataProtocol._calculate_object_hash(BaseConfig)"
   ]
  },
  {
   "cell_type": "code",
   "execution_count": null,
   "id": "d1ac72f4-42ff-4975-b70f-fe98d79195b1",
   "metadata": {},
   "outputs": [],
   "source": [
    "from syft.serde.recursive import TYPE_BANK"
   ]
  },
  {
   "cell_type": "code",
   "execution_count": null,
   "id": "e78c45a3-b59a-43c5-9719-9bccb0ca75dc",
   "metadata": {},
   "outputs": [],
   "source": [
    "g = {\"1\":\"a\", \"22\":\"b\", \"11\":\"c\"}"
   ]
  },
  {
   "cell_type": "code",
   "execution_count": null,
   "id": "7fbdf02a-f7be-4b92-8ec8-074accbf7c4f",
   "metadata": {},
   "outputs": [],
   "source": [
    "max(g)"
   ]
  },
  {
   "cell_type": "code",
   "execution_count": null,
   "id": "b07b2cb0-d075-45c4-ab48-5716c77da5b8",
   "metadata": {},
   "outputs": [],
   "source": [
    "range(2, 23)"
   ]
  },
  {
   "cell_type": "code",
   "execution_count": null,
   "id": "2abfbcb1-af70-4227-b978-002e1979ca17",
   "metadata": {},
   "outputs": [],
   "source": [
    "(\n",
    "nonrecursive,\n",
    "serialize,\n",
    "deserialize,\n",
    "attribute_list,\n",
    "exclude_attrs_list,\n",
    "serde_overrides,\n",
    "hash_exclude_attrs,\n",
    "cls,\n",
    "attribute_types,\n",
    "version,\n",
    ") = TYPE_BANK[\"syft.service.service.BaseConfig\"]"
   ]
  },
  {
   "cell_type": "code",
   "execution_count": null,
   "id": "4a8084d8-e241-4372-9686-5cb5b0286cac",
   "metadata": {},
   "outputs": [],
   "source": [
    "cls"
   ]
  },
  {
   "cell_type": "code",
   "execution_count": null,
   "id": "6b07f2ea-adac-42c5-9ac7-a18f64fc8c05",
   "metadata": {},
   "outputs": [],
   "source": [
    "cls == BaseConfig"
   ]
  },
  {
   "cell_type": "code",
   "execution_count": null,
   "id": "0edc9c91-73cc-4c21-bbb7-20670e6ef292",
   "metadata": {},
   "outputs": [],
   "source": [
    "DataProtocol._calculate_object_hash(cls)"
   ]
  },
  {
   "cell_type": "code",
   "execution_count": null,
   "id": "0710f746-74f8-4b9d-b25b-9662517816f3",
   "metadata": {},
   "outputs": [],
   "source": [
    "\n",
    "# Exception: BaseConfig <class 'syft.service.service.ServiceConfig'> version 1 hash has changed.\n",
    "\n",
    "# 332964663526a4d6ddc64bc9d77aa9324000bb721520a5465229235523fe8c7d not in \n",
    "\n",
    "# dict_values([{'version': 1, 'hash': 'f35db90c1c3bdd993b7b1e4f28327a8f6b1d0e43115b044167ca28d5c740178a', 'action': 'add'}]). You probably need to bump the version number.\n"
   ]
  },
  {
   "cell_type": "code",
   "execution_count": null,
   "id": "cd615d46-f6f7-4888-bf1d-1e264b380c11",
   "metadata": {},
   "outputs": [],
   "source": []
  },
  {
   "cell_type": "code",
   "execution_count": null,
   "id": "7389ca79-d161-4e87-9a27-f24a6b3a2a40",
   "metadata": {},
   "outputs": [],
   "source": [
    "raise Exception"
   ]
  },
  {
   "cell_type": "code",
   "execution_count": null,
   "id": "73f5e981-30a8-43f2-b762-69954dcc7724",
   "metadata": {},
   "outputs": [],
   "source": [
    "x = {'PartialSyftObject': {1: 'fa2770d76f3dd904e2c1c4a78c9ba10e5ac33b4dd7a4d61faa45a22078e94aa8'}, 'NodeMetadataUpdate': {1: 'b73adf379a179f6ef9a6d5ee9477e69697a47ad25579bab46cc1fc44ec35ba04'}, 'NodeMetadata': {2: '3986c7d8b3cf9355a1fbdd99dfe3d872fc464420b91a668ea3288ee4481bab6d'}, 'LinkedObject': {1: '8a117f8bf0282b8cf525de893404dbd88cc460a5a823d83006c2e82d88846f8d'}, 'BaseConfig': {1: '32b71d31ecba9a29c82fc4ca0e6568ac5c97204501ffdfef079c93ffbaf6b278'}, 'APIEndpoint': {1: 'c88e4405839e87fdfe90f86877ef2addd7be7281d36b7891636129fc8b3c1e8c'}, 'LibEndpoint': {1: '214b81bda5fd00e7734227a4c75981d807f3741039be5b4fb007076cf2e638cc'}, 'SignedSyftAPICall': {1: '2be9b74663354b4edeef3bc75dc67dc35bf24890c8a86a53a97957d470af06b2'}, 'SyftAPICall': {1: 'fa9520d29d9df56fb9d5d2080aecfc3be14c49e7267a3e5b9fd05ad1b0828e11'}, 'SyftAPIData': {1: '16933cd10a2c45ad44826480e88e06ffbb7a7762c058c7e84da94ddc70478e7c'}, 'SyftAPI': {1: '142a9bb5a4a63d5d072fbfbdbb48ec9535f1ae51e40f9d4f59760fb807c9a189'}, 'User': {1: '21cb3659dc4ddd0b4d58c677f46feecac9f682ea36660f42845067b29b5ad8e7'}, 'UserUpdate': {1: 'f12c19dd38330f98fb2d9e0bf47e8bdcad3f6e1c085d2994d80224cf4b905984'}, 'UserCreate': {1: 'a9d7a52aaa7dcf622e317e899e1ded3023a94b86773ca16cd7d6a334fcffbe8b'}, 'UserSearch': {1: 'e697bf5b287cf29560c94c5851d8fb6ac74d2ce5c6200539a11a257bc150c75b'}, 'UserView': {1: 'fd624963af09c0e3471dfc49b2f09fafdd7521c8af804198015cc5455d7b56bc'}, 'UserViewPage': {1: 'c856f13ddc9a405b6d52482a6a273ffb038f988d589e7bb5cd68e0c8dd8668de'}, 'UserPrivateKey': {1: 'e06f237cdfd516caff0766b5f8ba4e4b2b85824c76910f1374ffce72173f8269'}, 'StoreConfig': {1: '91790b136dba4ddbb5bd8dfcd337a4a8e448cc26b338bf15bf066ba97be56924'}, 'NodeSettingsUpdate': {1: 'ae77fb9f24004635a29abd979f5efa5a75780efe4fec1773cc533ac04aa57482'}, 'NodeSettings': {1: '2735f660f23bfda8ffdf97b8ba3ab1bcdba01461b245832e9a9cb2a661ebcb74'}, 'HTTPConnection': {1: '0a6e181e67978ce45a2414be4c4c39272ca6ed38a5fe9e9877619c13dc6aafef'}, 'PythonConnection': {1: '6ab9e80d2208ce44fb6e5db8427234680f56b1ef8092be701d6d833b6e213926'}, 'DateTime': {1: '34f9942a3f75988a1de6e46c40697698f2505336cf74282f683cfd3a7d6d4ec1'}, 'BlobFile': {1: '229121eb07430f72c66281764a690270ff821a6551c036528b9e749b343bedc1'}, 'SecureFilePathLocation': {1: 'd3e6b95de5da0861922c302e9dabf443ee337b21da695d69c85bdb1e6f0ec45b'}, 'SeaweedSecureFilePathLocation': {1: '0d5c382191c63e68b90237bb4e882abea6311ff1ba645adc784ee272de5f4623'}, 'BlobStorageEntry': {1: 'e010b50076f73fb934029a583310d13c3ec7abaa93520090fae3fb16457868fc'}, 'BlobStorageMetadata': {1: 'f1d0b4085276ba5f15a8cd81553374d465317d96e0a1c427e33e2d866e362d22'}, 'CreateBlobStorageEntry': {1: '183fd3ed16b0687f01979b3b76bbb17a9b029bd39f11d46faf54b3e5205e9e2d'}, 'BlobRetrieval': {1: 'c55f486ea79e9e96c047b32987e555357248cd30f18e1a8244fefe73457e5b9e'}, 'SyftObjectRetrieval': {1: 'da96484c8e57fc060c4dba29ef4e375284720dd05f1ed2ee60e1df52450437cd'}, 'BlobRetrievalByURL': {1: '656a44e91ce560056679b459c9fd33b55a5c2b0754e455099a456074e2e14822'}, 'BlobDeposit': {1: '23a73cc9bff8e6833681e55d872121b6d54520d76f9426fd199a19eb847deea4'}, 'WorkerSettings': {1: '2fe75dd39cb6367bd9cea2c7f59e40a85bbbcfc44f518572f377ef25c3acd205'}, 'HTTPNodeRoute': {1: 'b4662c11f7487ab907caf3cadf8c33eca2e0fbd640ed1fba872c3f982b749986'}, 'PythonNodeRoute': {1: 'd8f268996e5443a248cc2eb5f4a568591e5f9e18952f8519f3f995e1f1f486e4'}, 'EnclaveMetadata': {1: '6ad19306231ebbb4d8b0c4e4cc82b881298835862a2c48f2358db47215a020ac'}, 'DataSubject': {1: '287ab306e1c4ebe0c883600ffd52dc734d08f0217b2a961afbdc6c7883bf4ccd'}, 'DataSubjectCreate': {1: '8b3487af42ba249d7cf705c7f66a09dd832c055814091def34a38133f8148158'}, 'DataSubjectMemberRelationship': {1: '6aed0e1548d6b09bfac132040f7315f49c13855a6bc147a4f1aa4ce09572b952'}, 'Contributor': {1: '3e27f1ea23cecfc3e0956743ae832f0f70ecd144f9df3f128b123e9347944afa'}, 'MarkdownDescription': {1: '506d47fa85728ad444f2fa657e39b341bc759d21a80325831b1e84926ee748f1'}, 'Asset': {1: 'f8370e8dd87df6a05bde1226c52c3ce6e7de636e6032341b977efe5e601a731d'}, 'CreateAsset': {1: 'c3a82856694adcb3c916a961776c2fa3bc90a7ccb50b8b9d42776810266ed241'}, 'Dataset': {1: 'd7a45bf9128472715e63a67192d4181672eadd8b5873d2ba96c2df3b2be749b9'}, 'DatasetPageView': {1: 'c7da1fac28f70c19d199f123b04fbd4a9c7681e3846dee0de70ea926a9440a2e'}, 'CreateDataset': {1: '6a31617de99738bc176f19397884581051443c7c7ba952c983929fed688a9d7e'}, 'ActionDataEmpty': {1: 'fc83d91ac6ba78c749a4e7e16c1aa117baaae62b5f33156ded4e5a79b9532a98'}, 'ActionFileData': {1: '47a0a5f9fb48de09885d4f9a6c5a5a05f4dd04575ea42df7dea0cab02817063f'}, 'Action': {1: '204b3c97b41f208ecb17c541af55e171675faaefa10c103b405a4077b0226a7e'}, 'AnyActionObject': {1: 'f11bd6135ba46247c06bfa8a3c6b7f2e540a1033afe0512c3359e31eb3d59388'}, 'TwinObject': {1: '8f6abd756d41f9639865c6fd55e6cc2ec6b89fd18bac3c77bf3a0502d81ca8ec'}, 'ExactMatch': {1: 'f71a495d2452190596fe435eaf59b07ba390d7895f6c808a2f87a1719227ba9c'}, 'OutputHistory': {1: '24f282dd181ecc7a05c93c02dff84dff45aa52928e2331a15ef667645e9bcf0b'}, 'OutputPolicyExecuteCount': {1: '95d198d2021dbaf9965df39a4571ad06e787684ff79bd6e8a720c47825eebd7e'}, 'OutputPolicyExecuteOnce': {1: 'b8bc1fea2e9b51b5dfc3cbd4b0a131cb2a5b1fe746b5e329395bf319b38bf9b2'}, 'UserPolicy': {1: 'ec3f8ea84e2b05ce56db8f35cff14f78569e921f566477581b3299eb6a9fa053'}, 'SubmitUserPolicy': {1: '3147a4e45270367a40ca8c4b7b502c8683200d123828720365521b90b2775794'}, 'UserCode': {1: 'ad509fccb7bb5c00971453c1f1235785f40d5d5b3eee3df1dc9edafc758c7193'}, 'SubmitUserCode': {1: 'b4a919054beb2488c7b4839d60c494400d791112adf009631dce13787cd58e78'}, 'UserCodeExecutionResult': {1: '9aab24def6616ac908ef1100b654b4dbeca1ea4cfff229c53d6b14491c795555'}, 'CodeHistory': {1: 'bbbd59801717a98691034a37c9de388c7a65db2721bd0c5c9ff0dbe8fc70be67'}, 'CodeHistoryView': {1: '142e78415da10dae739e923d39ce511496a3c7b31e8c4553a6cbb1907c126a3a'}, 'CodeHistoriesDict': {1: '453af101a1de8e37a0bfacf22077c35994718791f295956f1f06727f8d9b7fe8'}, 'UsersCodeHistoriesDict': {1: 'cf8ef92a08cabb068e4616c1700451b75ba4d511343830e3e56b65882fb784aa'}, 'NodePeer': {1: '8920d9e456fd1a13f46c0528a8fe3fec8af46440b3eb89e8d7d48ad64babee1e'}, 'CommandReport': {1: 'a81fe3d0cc5796f45e925d09b6e8132b79fe5df0f341d55b3870c109f8c1e19d'}, 'CommandResult': {1: '14b48d4a1cbc5f5ae1e5e74834e7f1002adae7b2766000ea822f180fd7cd39db'}, 'VPNClientConnection': {1: '7d44711978f930d42c06d04483abcdb1f230782a8f16f4feb5efb7b2b2093bb2'}, 'HeadscaleAuthToken': {1: '0b363503b6c611b44e33561a2a6db3f260cfd4bbc5f4245deac5052fd5149803'}, 'TailscalePeer': {1: '8ff85aa2b913a6bb206b9de0495d9f74a17f55823891da98cb6fdbe78f46a44b'}, 'TailscaleStatus': {1: 'ed262f4b9a569d9933f4a86cd2caa2ce213fc7a2319a1371f6a3cf3ccf884c8a'}, 'OnDiskBlobDeposit': {1: 'da3abda453def0d7c70c8a5dfcc3c8d00dd6822f60ddc01be3bdead4b0b5b482'}, 'SeaweedFSBlobDeposit': {1: 'bcbec5dcdc06a0c87f89a10a6a8809706f24cedd97b5f850f8b48840a1f41941'}, 'NumpyArrayObject': {1: 'd47a376401d92d47e5748e34f98ee270f8ebfd52cffbe6271b5faa8193e728c5'}, 'NumpyScalarObject': {1: '952bebb4dd3e3641c33b4ebcf2c051dbdebae5f1bf3b7b63ea89423360705411'}, 'NumpyBoolObject': {1: 'b7a231baaa4b1f519d70c5afb15b4a9b7232f1128f7fd3709c1ea8b7345f8c6c'}, 'PandasDataframeObject': {1: 'ff9d6c1884413f712d95d29190e30938b33de19e11dff9f88d9b89c51499cac5'}, 'PandasSeriesObject': {1: '69eadfe14e5a7035767d2538e2db8775da6569cf5127f58d13315c4b85e5603d'}, 'ReplyNotification': {1: 'ce1e2a6b0d618478d3b1b992e4c8605817919c88a4884ca0540e0886ecdb8215'}, 'Notification': {1: '1e5a65d91e27bf53d5b2ed0b45d9cee0cf77104b7111f99223194ceb0d0137fe'}, 'CreateNotification': {1: '6858b743ac07d853a0302dc64de0e7d852135e2564ebad325d5ff35d17c29f6f'}, 'Change': {1: '2c470ff8aa076b88105640ce79d361a9b439927e501c238fa33ac7c1c45aa2c0'}, 'ChangeStatus': {1: '7571229e92d8d52a0e90fa8856169b41045b42b50568b266823bdcea838dfb39'}, 'ActionStoreChange': {1: 'cf527995930cce09d90806713d30301493240079319bcc85e894428aee46017e'}, 'Request': {1: '340f4ac61ccbf6f566666327d6bca043dcd643e6f8e24897ef10bd6312e74995'}, 'RequestInfo': {1: 'd571708de3c187ca5840c64784d99f7bfce8f33aa2ba48f9d56b824564551654'}, 'RequestInfoFilter': {1: 'c336af8d474071eb61e5f467513753e64d4e153e12892f9c6875b235057b0f0a'}, 'SubmitRequest': {1: '1870ce541169eab04cb69d3ae88ea30dc2fcdd997b620567ca9d87936d9600cf'}, 'ObjectMutation': {1: '275d9cf180904d1e34e1f3d7e838105e843127faf5a64029a1cf85d00234b8c9'}, 'EnumMutation': {1: '3a1d1b47e0cdb5094298bce58bc9b76ecb66064459504f910c7d755eb1d5e276'}, 'UserCodeStatusChange': {1: '928dd4ceeb4858b18b806ca62b49a840f54269f7866744c9aa6edb0af9d7dfc1'}, 'SyftObjectMigrationState': {1: '194fd4dc57764d454ac763d256e3bfcd2b0040a134daf9ee0d8e5ac7ab21abbc'}, 'ProjectThreadMessage': {1: '9f8b11d603caae6d0e0f28957949dfc57c26fec9685f2c80501330b1d6bae665'}, 'ProjectMessage': {1: 'd678beafc33f7e7df7e771a82d5cba6d5a36728a033d3976b6e5998726733d27'}, 'ProjectRequestResponse': {1: '51b5a5d8cf0bde45abd2bd3a4411f93769fa542666a137ce9611d38fb48ffb4c'}, 'ProjectRequest': {1: '9eff1b3cc74c9706722363abb4062fc77c0a4f093d448b795ad662861649f111'}, 'AnswerProjectPoll': {1: 'f538a4fcae286cbc9755f51e2f2ce8809d66ce5d66f50173ef1824f89ce9b51d'}, 'ProjectPoll': {1: 'b456a699a249fd3fffe9739cdd9ec3ee8c05e59b2d9872ad9864167d78088091'}, 'Project': {1: 'bf59890e92d95b362cc7ef9c3d7fa6a1815978e02111a30cbcb047239e57d61e'}, 'ProjectSubmit': {1: '5084844056ddefcea7fc634dd9945c03ef6d030bcd8f63aa07fe11fea0a5389f'}, 'QueueItem': {1: '1d53446d5cd788120b15ea6b108a4a7abd480377370be7128f44297f8fb00b76'}, 'ZMQClientConfig': {1: 'e3153f18c9fd04cf07b844153d093c8a090baac4c99d71ecd6491961e7f1dafb'}, 'Plan': {1: '41713fc89a2cab7db592df6cd1c45e1309f86a50a8f531ddaf4052947186b0e0'}}"
   ]
  },
  {
   "cell_type": "code",
   "execution_count": null,
   "id": "5db2bb72-f188-42fe-9f1c-e79150dddb0b",
   "metadata": {},
   "outputs": [],
   "source": [
    "import json"
   ]
  },
  {
   "cell_type": "code",
   "execution_count": null,
   "id": "f0b4e62d-548b-4ba5-97a0-ae81417c7346",
   "metadata": {},
   "outputs": [],
   "source": [
    "json.dumps(x)"
   ]
  },
  {
   "cell_type": "code",
   "execution_count": null,
   "id": "054fe585-2a32-4f18-af71-1a944a7e94d6",
   "metadata": {},
   "outputs": [],
   "source": [
    "\n",
    "# Exception: BaseConfig <class 'syft.service.service.ServiceConfig'> version 1 hash has changed.\n",
    "# 332964663526a4d6ddc64bc9d77aa9324000bb721520a5465229235523fe8c7d not in \n",
    "# dict_values([{'version': 1, 'hash': 'f35db90c1c3bdd993b7b1e4f28327a8f6b1d0e43115b044167ca28d5c740178a', 'action': 'add'}]). You probably need to bump the version number.\n"
   ]
  },
  {
   "cell_type": "code",
   "execution_count": null,
   "id": "4b89e304-d8f1-42ab-86c0-3552500e6853",
   "metadata": {},
   "outputs": [],
   "source": [
    "# k syft.service.service.ServiceConfig BaseConfig <class 'syft.service.service.ServiceConfig'> 1 332964663526a4d6ddc64bc9d77aa9324000bb721520a5465229235523fe8c7d\n",
    "# got versions for canonical name BaseConfig {1: {'version': 1, 'hash': 'f35db90c1c3bdd993b7b1e4f28327a8f6b1d0e43115b044167ca28d5c740178a', 'action': 'add'}}\n",
    "# is versoin in versions keys 1 dict_keys([1]) True\n",
    "# is hash in hash values 332964663526a4d6ddc64bc9d77aa9324000bb721520a5465229235523fe8c7d dict_values([{'version': 1, 'hash': 'f35db90c1c3bdd993b7b1e4f28327a8f6b1d0e43115b044167ca28d5c740178a', 'action': 'add'}]) False\n",
    "# else 1 dict_keys([1]) True"
   ]
  },
  {
   "cell_type": "code",
   "execution_count": null,
   "id": "b4697ff3-4781-489b-a506-759bbc9aa68a",
   "metadata": {},
   "outputs": [],
   "source": []
  },
  {
   "cell_type": "code",
   "execution_count": null,
   "id": "de5a7d5a-6746-4d58-a5dd-f3ed1ea9a875",
   "metadata": {},
   "outputs": [],
   "source": [
    "import json"
   ]
  },
  {
   "cell_type": "code",
   "execution_count": null,
   "id": "6f1f75c5-caa3-43e4-a28b-64864d3aa832",
   "metadata": {},
   "outputs": [],
   "source": [
    "import re\n",
    "\n",
    "def natural_key(key: int | str) -> list[int]:\n",
    "    \"\"\"Define key for natural ordering of strings.\"\"\"\n",
    "    if isinstance(key, int):\n",
    "        key = str(key)\n",
    "    return [int(s) if s.isdigit() else s for s in re.split('(\\d+)', key)]\n",
    "\n",
    "def sort_dict_naturally(d: dict) -> dict:\n",
    "    \"\"\"Sort dictionary by keys in natural order.\"\"\"\n",
    "    return {k: d[k] for k in sorted(d.keys(), key=natural_key)}\n",
    "\n",
    "\n",
    "# Example usage:\n",
    "d = {\n",
    "    \"apple10\": \"value10\",\n",
    "    \"apple2\": \"value2\",\n",
    "    \"banana\": \"value_banana\",\n",
    "    \"apple1\": \"value1\",\n",
    "}\n",
    "\n",
    "sorted_d = sort_dict_naturally(d)\n",
    "print(sorted_d)\n"
   ]
  },
  {
   "cell_type": "code",
   "execution_count": null,
   "id": "d8b3d6da-4a0f-4539-92bf-33130648c9ff",
   "metadata": {},
   "outputs": [],
   "source": []
  },
  {
   "cell_type": "code",
   "execution_count": null,
   "id": "fe79ee3a-2a0c-4e60-bc44-c1e7d1d81d3d",
   "metadata": {},
   "outputs": [],
   "source": [
    "from syft.types.syft_object import SyftMigrationRegistry, SyftObjectRegistry\n",
    "from syft.service.metadata.migrations import *"
   ]
  },
  {
   "cell_type": "code",
   "execution_count": null,
   "id": "c0907163-d6ab-4a86-8ba9-b6f13c6a8390",
   "metadata": {},
   "outputs": [],
   "source": [
    "from typing import Optional"
   ]
  },
  {
   "cell_type": "code",
   "execution_count": null,
   "id": "588beaf9-7aaf-4691-9de5-9165a92aa550",
   "metadata": {},
   "outputs": [],
   "source": [
    "from collections import defaultdict\n",
    "def protocol_state_builder(protocol_dict: dict, stop_key: Optional[str] = None):\n",
    "    sorted_dict = sort_dict_naturally(protocol_dict)\n",
    "    state_dict = defaultdict(dict)\n",
    "    for k, v in sorted_dict.items():\n",
    "        # stop early\n",
    "        if stop_key == k:\n",
    "            return state_dict\n",
    "        print(\"k\", k, v)\n",
    "        object_versions = sorted_dict[k][\"object_versions\"]\n",
    "        print(\"got object versions\", object_versions)\n",
    "        for canonical_name, object_metadata in object_versions.items():\n",
    "            action = object_metadata[\"action\"]\n",
    "            version = object_metadata[\"version\"]\n",
    "            hash_str = object_metadata[\"hash\"]\n",
    "            print(\"canonical\", canonical_name, object_metadata)\n",
    "            versions = state_dict[canonical_name]\n",
    "            if action == \"add\" and (version in versions.keys() or hash_str in versions.values()):\n",
    "                raise Exception(f\"Can't add {object_metadata} already in state {versions}\")\n",
    "            elif action == \"remove\" and (version not in versions.keys() or hash_str not in versions.values()):\n",
    "                raise Exception(f\"Can't remove {object_metadata} missing from state {versions}\")\n",
    "            if action == \"add\":\n",
    "                versions[version] = hash_str\n",
    "            elif action == \"remove\":\n",
    "                del versions[version]\n",
    "            state_dict[canonical_name] = versions\n",
    "    return state_dict"
   ]
  },
  {
   "cell_type": "code",
   "execution_count": null,
   "id": "aa30fea0-1eda-4806-b74f-39ae88c68031",
   "metadata": {},
   "outputs": [],
   "source": [
    "a = {}\n",
    "a[\"1\"] = {}\n",
    "a[\"1\"][\"object_versions\"] = {}\n",
    "a[\"1\"][\"object_versions\"][\"Thing\"] = {}\n",
    "a[\"1\"][\"object_versions\"][\"Thing\"][\"version\"] = 1\n",
    "a[\"1\"][\"object_versions\"][\"Thing\"][\"hash\"] = \"abc\"\n",
    "a[\"1\"][\"object_versions\"][\"Thing\"][\"action\"] = \"add\"\n",
    "\n",
    "a[\"2\"] = {}\n",
    "a[\"2\"][\"object_versions\"] = {}\n",
    "a[\"2\"][\"object_versions\"][\"Thing\"] = {}\n",
    "a[\"2\"][\"object_versions\"][\"Thing\"][\"version\"] = 2\n",
    "a[\"2\"][\"object_versions\"][\"Thing\"][\"hash\"] = \"def\"\n",
    "a[\"2\"][\"object_versions\"][\"Thing\"][\"action\"] = \"add\"\n",
    "\n",
    "a[\"3\"] = {}\n",
    "a[\"3\"][\"object_versions\"] = {}\n",
    "a[\"3\"][\"object_versions\"][\"Thing\"] = {}\n",
    "a[\"3\"][\"object_versions\"][\"Thing\"][\"version\"] = 1\n",
    "a[\"3\"][\"object_versions\"][\"Thing\"][\"hash\"] = \"abc\"\n",
    "a[\"3\"][\"object_versions\"][\"Thing\"][\"action\"] = \"remove\""
   ]
  },
  {
   "cell_type": "code",
   "execution_count": null,
   "id": "b19fd8f9-cbb6-4ddb-9626-3ee1ddb2b874",
   "metadata": {},
   "outputs": [],
   "source": [
    "a"
   ]
  },
  {
   "cell_type": "code",
   "execution_count": null,
   "id": "77afd622-1ab3-4720-9f7e-c290db2b315a",
   "metadata": {},
   "outputs": [],
   "source": [
    "b = protocol_state_builder(a)"
   ]
  },
  {
   "cell_type": "code",
   "execution_count": null,
   "id": "df702f68-a5b9-4aef-be53-60fff941fe59",
   "metadata": {},
   "outputs": [],
   "source": [
    "b"
   ]
  },
  {
   "cell_type": "code",
   "execution_count": null,
   "id": "ac5ac02e-22d3-4655-aebb-e1d5ef182b06",
   "metadata": {},
   "outputs": [],
   "source": [
    "sy.serde.recursive.TYPE_BANK[\"numpy.ndarray\"]"
   ]
  },
  {
   "cell_type": "code",
   "execution_count": null,
   "id": "be941a27-fa20-4854-9b6b-99c55f1bc817",
   "metadata": {},
   "outputs": [],
   "source": []
  },
  {
   "cell_type": "code",
   "execution_count": null,
   "id": "a4085166-e092-4d53-a795-610a2b9d1a27",
   "metadata": {},
   "outputs": [],
   "source": [
    "# (\n",
    "#         nonrecursive,\n",
    "#         serialize,\n",
    "#         deserialize,\n",
    "#         attribute_list,\n",
    "#         exclude_attrs_list,\n",
    "#         serde_overrides,\n",
    "#         hash_exclude_attrs,\n",
    "#         cls,\n",
    "#         attribute_types,\n",
    "#         version,\n",
    "#     ) = sy.serde.recursive.TYPE_BANK[\"syft.service.metadata.node_metadata.NodeMetadataV2\"]"
   ]
  },
  {
   "cell_type": "code",
   "execution_count": null,
   "id": "47ceef1c-0a6f-4b20-aca1-017c0fcc0b55",
   "metadata": {},
   "outputs": [],
   "source": [
    "# sy.serde.recursive.TYPE_BANK.keys()"
   ]
  },
  {
   "cell_type": "code",
   "execution_count": null,
   "id": "a0237c1a-536f-4780-ae40-18161d413c59",
   "metadata": {},
   "outputs": [],
   "source": [
    "def _calculate_object_hash(klass) -> str:\n",
    "    # TODO: this depends on what is marked as serde\n",
    "    field_data = {\n",
    "        field_name: repr(model_field.annotation)\n",
    "        for field_name, model_field in klass.__fields__.items()\n",
    "    }\n",
    "    obj_meta_info = {\n",
    "        \"canonical_name\": klass.__canonical_name__,\n",
    "        \"version\": klass.__version__,\n",
    "        \"unique_keys\": getattr(klass, \"__attr_unique__\", []),\n",
    "        \"field_data\": field_data,\n",
    "    }\n",
    "\n",
    "    return hashlib.sha256(json.dumps(obj_meta_info).encode()).hexdigest()"
   ]
  },
  {
   "cell_type": "code",
   "execution_count": null,
   "id": "8a1e67d5-d004-4929-8c88-fabe3735482d",
   "metadata": {},
   "outputs": [],
   "source": [
    "from syft.types.syft_object import SyftBaseObject\n",
    "import hashlib"
   ]
  },
  {
   "cell_type": "code",
   "execution_count": null,
   "id": "fe52e359-f632-4f2b-a84c-2e60d2362ed3",
   "metadata": {},
   "outputs": [],
   "source": [
    "def diff_state(state: dict) -> dict:\n",
    "    object_diff = {}\n",
    "    compare_dict = {}\n",
    "    type_bank = sy.serde.recursive.TYPE_BANK\n",
    "    for k in type_bank:\n",
    "        (\n",
    "            nonrecursive,\n",
    "            serialize,\n",
    "            deserialize,\n",
    "            attribute_list,\n",
    "            exclude_attrs_list,\n",
    "            serde_overrides,\n",
    "            hash_exclude_attrs,\n",
    "            cls,\n",
    "            attribute_types,\n",
    "            version,\n",
    "        ) = type_bank[k]\n",
    "        if issubclass(cls, SyftBaseObject):\n",
    "            hash_str = _calculate_object_hash(cls)\n",
    "            canonical_name = cls.__canonical_name__\n",
    "            print(\"k\", k, canonical_name, cls, version, hash_str)\n",
    "\n",
    "            # build this up for later\n",
    "            compare_dict[canonical_name] = {}\n",
    "            compare_dict[canonical_name][version] = hash_str\n",
    "\n",
    "            if canonical_name not in state:\n",
    "                # new object so its an add\n",
    "                object_diff[canonical_name] = {}\n",
    "                object_diff[canonical_name][\"version\"] = version\n",
    "                object_diff[canonical_name][\"hash\"] = hash_str\n",
    "                object_diff[canonical_name][\"action\"] = \"add\"\n",
    "                continue\n",
    "            \n",
    "            versions = object_diff[canonical_name]\n",
    "\n",
    "            if version in versions.keys() and hash_str in versions.values():\n",
    "                # already there so do nothing\n",
    "                continue\n",
    "            elif version in versions.keys():\n",
    "                raise Exception(f\"{canonical_name} {cls} version {version} hash has changed. You probably need to bump the version number.\")\n",
    "            else:\n",
    "                # new object so its an add\n",
    "                object_diff[canonical_name] = {}\n",
    "                object_diff[canonical_name][\"version\"] = version\n",
    "                object_diff[canonical_name][\"hash\"] = hash_str\n",
    "                object_diff[canonical_name][\"action\"] = \"add\"\n",
    "                continue\n",
    "\n",
    "    # now check for remove actions\n",
    "    for canonical_name in state:\n",
    "        for version, hash_str in state[canonical_name].items():\n",
    "            if canonical_name not in compare_dict:\n",
    "                # missing so its a remove\n",
    "                object_diff[canonical_name] = {}\n",
    "                object_diff[canonical_name][\"version\"] = version\n",
    "                object_diff[canonical_name][\"hash\"] = hash_str\n",
    "                object_diff[canonical_name][\"action\"] = \"remove\"\n",
    "                continue\n",
    "            versions = compare_dict[canonical_name]\n",
    "            if version in versions.keys():\n",
    "                # missing so its a remove\n",
    "                object_diff[canonical_name] = {}\n",
    "                object_diff[canonical_name][\"version\"] = version\n",
    "                object_diff[canonical_name][\"hash\"] = hash_str\n",
    "                object_diff[canonical_name][\"action\"] = \"remove\"\n",
    "                continue\n",
    "    return object_diff"
   ]
  },
  {
   "cell_type": "code",
   "execution_count": null,
   "id": "01838413-4b9c-4490-bc24-52e9e7f00c53",
   "metadata": {},
   "outputs": [],
   "source": [
    "g = diff_state(b)"
   ]
  },
  {
   "cell_type": "code",
   "execution_count": null,
   "id": "223e946b-65fc-4d1e-a4d5-9046f21f3d36",
   "metadata": {},
   "outputs": [],
   "source": [
    "g"
   ]
  },
  {
   "cell_type": "code",
   "execution_count": null,
   "id": "d1635cac-912f-49ee-9683-9b672671c811",
   "metadata": {},
   "outputs": [],
   "source": []
  },
  {
   "cell_type": "code",
   "execution_count": null,
   "id": "a2b2e8ba-232f-4fe1-8d18-b3ed41964bb0",
   "metadata": {},
   "outputs": [],
   "source": []
  },
  {
   "cell_type": "code",
   "execution_count": null,
   "id": "01e5e780-ab38-46e0-923d-d3153e992d4e",
   "metadata": {},
   "outputs": [],
   "source": []
  },
  {
   "cell_type": "code",
   "execution_count": null,
   "id": "a0ff7367-c239-4079-9802-c98292a51150",
   "metadata": {},
   "outputs": [],
   "source": [
    "a[\"1\"] = 1"
   ]
  },
  {
   "cell_type": "code",
   "execution_count": null,
   "id": "6c2fb95e-944a-405e-8282-116ccfeb64d6",
   "metadata": {},
   "outputs": [],
   "source": [
    "a[\"2\"] = 2"
   ]
  },
  {
   "cell_type": "code",
   "execution_count": null,
   "id": "12dfbc65-bc40-4ae4-9443-c3efd68359fb",
   "metadata": {},
   "outputs": [],
   "source": [
    "a[\"11\"] = 1"
   ]
  },
  {
   "cell_type": "code",
   "execution_count": null,
   "id": "09fcd132-0bd3-4b1c-8fa2-de02de5dad94",
   "metadata": {},
   "outputs": [],
   "source": [
    "a[\"dev\"] = 4"
   ]
  },
  {
   "cell_type": "code",
   "execution_count": null,
   "id": "4b28d32f-0fd2-4e8b-a062-5f87352fa5d0",
   "metadata": {},
   "outputs": [],
   "source": [
    "a"
   ]
  },
  {
   "cell_type": "code",
   "execution_count": null,
   "id": "df86253c-0230-4d61-b390-2a6693976e63",
   "metadata": {},
   "outputs": [],
   "source": [
    "y = json.dumps(a)"
   ]
  },
  {
   "cell_type": "code",
   "execution_count": null,
   "id": "2cc10838-07f1-4e8e-b8b0-8247a90cef66",
   "metadata": {},
   "outputs": [],
   "source": [
    "y"
   ]
  },
  {
   "cell_type": "code",
   "execution_count": null,
   "id": "ec13f3af-10fb-4b1a-8f2c-c2e2a3cc940c",
   "metadata": {},
   "outputs": [],
   "source": [
    "d = json.loads(y)\n",
    "d"
   ]
  },
  {
   "cell_type": "code",
   "execution_count": null,
   "id": "9d263c27-a68e-4c6f-a0c6-b117ee044a1e",
   "metadata": {},
   "outputs": [],
   "source": [
    "d"
   ]
  },
  {
   "cell_type": "code",
   "execution_count": null,
   "id": "961f4782-1acc-4eb1-ae6e-d3427dbd16b8",
   "metadata": {},
   "outputs": [],
   "source": [
    "for k,v in d.items():\n",
    "    print(\"k\", k, v)"
   ]
  },
  {
   "cell_type": "code",
   "execution_count": null,
   "id": "03766fe6-780a-4f9d-ac77-4f2720986b2f",
   "metadata": {},
   "outputs": [],
   "source": []
  },
  {
   "cell_type": "code",
   "execution_count": null,
   "id": "b814b62e-8ebf-4bb3-a6d9-55cfed1506f7",
   "metadata": {},
   "outputs": [],
   "source": [
    "a[1] = \"a\""
   ]
  },
  {
   "cell_type": "code",
   "execution_count": null,
   "id": "d8237a9e-1556-42bb-9380-8197a90a9e32",
   "metadata": {},
   "outputs": [],
   "source": [
    "sorted_d = sort_dict_naturally(a)"
   ]
  },
  {
   "cell_type": "code",
   "execution_count": null,
   "id": "047465a4-6148-4d30-9da4-21be15ff7f03",
   "metadata": {},
   "outputs": [],
   "source": [
    "sorted_d"
   ]
  },
  {
   "cell_type": "code",
   "execution_count": null,
   "id": "afb57bc4-66f2-49f8-a291-96be4e71dd43",
   "metadata": {},
   "outputs": [],
   "source": [
    "object_versions = dict()\n",
    "object_versions[\"SyftObject\"] = {\"version\": \"1\", \"hash\": \"25a574002025025cfd155e3970305293e21fdd6af9dcde176990802306cc0359\", \"action\":\"add\"}"
   ]
  },
  {
   "cell_type": "code",
   "execution_count": null,
   "id": "3bdf972b-cee3-4cde-867f-73b1efb20bde",
   "metadata": {},
   "outputs": [],
   "source": [
    "a[\"1\"] = object_versions"
   ]
  },
  {
   "cell_type": "code",
   "execution_count": null,
   "id": "b2a7ebe9-98fb-4449-a73f-3b171a2df9d5",
   "metadata": {},
   "outputs": [],
   "source": [
    "a"
   ]
  },
  {
   "cell_type": "code",
   "execution_count": null,
   "id": "a466dfd5-54c4-4aa4-852c-473090758725",
   "metadata": {},
   "outputs": [],
   "source": []
  }
 ],
 "metadata": {
  "kernelspec": {
   "display_name": "Python 3 (ipykernel)",
   "language": "python",
   "name": "python3"
  },
  "language_info": {
   "codemirror_mode": {
    "name": "ipython",
    "version": 3
   },
   "file_extension": ".py",
   "mimetype": "text/x-python",
   "name": "python",
   "nbconvert_exporter": "python",
   "pygments_lexer": "ipython3",
   "version": "3.11.1"
  }
 },
 "nbformat": 4,
 "nbformat_minor": 5
}
