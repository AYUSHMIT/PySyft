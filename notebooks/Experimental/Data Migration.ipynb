{
 "cells": [
  {
   "cell_type": "code",
   "execution_count": 2,
   "id": "a679e5fb",
   "metadata": {},
   "outputs": [
    {
     "name": "stderr",
     "output_type": "stream",
     "text": [
      "kj/filesystem-disk-unix.c++:1703: warning: PWD environment variable doesn't match current directory; pwd = /home/shubham/PySyft\n"
     ]
    }
   ],
   "source": [
    "import syft as sy\n",
    "from syft.types.datetime import DateTime\n",
    "from syft.service.metadata.node_metadata import NodeMetadata, NodeMetadataV2"
   ]
  },
  {
   "cell_type": "code",
   "execution_count": 3,
   "id": "27cd4d0f",
   "metadata": {},
   "outputs": [],
   "source": [
    "from syft.types.syft_object import SyftMigrationRegistry\n",
    "from syft.service.metadata.migrations import *"
   ]
  },
  {
   "cell_type": "code",
   "execution_count": null,
   "id": "0f062500",
   "metadata": {},
   "outputs": [],
   "source": [
    "__migration_version_registry__ = {\n",
    "    \"canonical_name\": {version_number: \"klass_name\"}\n",
    "}"
   ]
  },
  {
   "cell_type": "code",
   "execution_count": 4,
   "id": "7ac6a650",
   "metadata": {
    "scrolled": true
   },
   "outputs": [
    {
     "data": {
      "text/html": [
       "{&#x27;SyftObject&#x27;: {1: &#x27;syft.types.syft_object.SyftObject&#x27;}, &#x27;PartialSyftObject&#x27;: {1: &#x27;syft.types.syft_object.PartialSyftObject&#x27;}, &#x27;NodeServiceContext&#x27;: {1: &#x27;syft.service.context.NodeServiceContext&#x27;}, &#x27;AuthedServiceContext&#x27;: {1: &#x27;syft.service.context.AuthedServiceContext&#x27;}, &#x27;UnauthedServiceContext&#x27;: {1: &#x27;syft.service.context.UnauthedServiceContext&#x27;}, &#x27;NodeMetadataUpdate&#x27;: {1: &#x27;syft.service.metadata.node_metadata.NodeMetadataUpdate&#x27;}, &#x27;NodeMetadata&#x27;: {1: &#x27;syft.service.metadata.node_metadata.NodeMetadata&#x27;, 2: &#x27;syft.service.metadata.node_metadata.NodeMetadataV2&#x27;}, &#x27;LinkedObject&#x27;: {1: &#x27;syft.store.linked_obj.LinkedObject&#x27;}, &#x27;NodeConnection&#x27;: {1: &#x27;syft.client.connection.NodeConnection&#x27;}, &#x27;APIEndpoint&#x27;: {1: &#x27;syft.client.api.APIEndpoint&#x27;}, &#x27;SignedSyftAPICall&#x27;: {1: &#x27;syft.client.api.SignedSyftAPICall&#x27;}, &#x27;SyftAPICall&#x27;: {1: &#x27;syft.client.api.SyftAPICall&#x27;}, &#x27;SyftAPI&#x27;: {1: &#x27;syft.client.api.SyftAPI&#x27;}, &#x27;User&#x27;: {1: &#x27;syft.service.user.user.User&#x27;}, &#x27;UserUpdate&#x27;: {1: &#x27;syft.service.user.user.UserUpdate&#x27;}, &#x27;UserCreate&#x27;: {1: &#x27;syft.service.user.user.UserCreate&#x27;}, &#x27;UserSearch&#x27;: {1: &#x27;syft.service.user.user.UserSearch&#x27;}, &#x27;UserView&#x27;: {1: &#x27;syft.service.user.user.UserView&#x27;}, &#x27;UserViewPage&#x27;: {1: &#x27;syft.service.user.user.UserViewPage&#x27;}, &#x27;UserPrivateKey&#x27;: {1: &#x27;syft.service.user.user.UserPrivateKey&#x27;}, &#x27;NodeSettingsUpdate&#x27;: {1: &#x27;syft.service.settings.settings.NodeSettingsUpdate&#x27;}, &#x27;NodeSettings&#x27;: {1: &#x27;syft.service.settings.settings.NodeSettings&#x27;}, &#x27;HTTPConnection&#x27;: {1: &#x27;syft.client.client.HTTPConnection&#x27;}, &#x27;PythonConnection&#x27;: {1: &#x27;syft.client.client.PythonConnection&#x27;}, &#x27;DateTime&#x27;: {1: &#x27;syft.types.datetime.DateTime&#x27;}, &#x27;BlobFile&#x27;: {1: &#x27;syft.types.blob_storage.BlobFile&#x27;}, &#x27;SecureFilePathLocation&#x27;: {1: &#x27;syft.types.blob_storage.SecureFilePathLocation&#x27;}, &#x27;SeaweedSecureFilePathLocation&#x27;: {1: &#x27;syft.types.blob_storage.SeaweedSecureFilePathLocation&#x27;}, &#x27;BlobStorageEntry&#x27;: {1: &#x27;syft.types.blob_storage.BlobStorageEntry&#x27;}, &#x27;BlobStorageMetadata&#x27;: {1: &#x27;syft.types.blob_storage.BlobStorageMetadata&#x27;}, &#x27;CreateBlobStorageEntry&#x27;: {1: &#x27;syft.types.blob_storage.CreateBlobStorageEntry&#x27;}, &#x27;BlobRetrieval&#x27;: {1: &#x27;syft.store.blob_storage.BlobRetrieval&#x27;}, &#x27;SyftObjectRetrieval&#x27;: {1: &#x27;syft.store.blob_storage.SyftObjectRetrieval&#x27;}, &#x27;BlobRetrievalByURL&#x27;: {1: &#x27;syft.store.blob_storage.BlobRetrievalByURL&#x27;}, &#x27;BlobDeposit&#x27;: {1: &#x27;syft.store.blob_storage.BlobDeposit&#x27;}, &#x27;WorkerSettings&#x27;: {1: &#x27;syft.node.worker_settings.WorkerSettings&#x27;}, &#x27;HTTPNodeRoute&#x27;: {1: &#x27;syft.service.network.routes.HTTPNodeRoute&#x27;}, &#x27;PythonNodeRoute&#x27;: {1: &#x27;syft.service.network.routes.PythonNodeRoute&#x27;}, &#x27;EnclaveMetadata&#x27;: {1: &#x27;syft.client.enclave_client.EnclaveMetadata&#x27;}, &#x27;DataSubject&#x27;: {1: &#x27;syft.service.data_subject.data_subject.DataSubject&#x27;}, &#x27;DataSubjectCreate&#x27;: {1: &#x27;syft.service.data_subject.data_subject.DataSubjectCreate&#x27;}, &#x27;DataSubjectMemberRelationship&#x27;: {1: &#x27;syft.service.data_subject.data_subject_member.DataSubjectMemberRelationship&#x27;}, &#x27;Contributor&#x27;: {1: &#x27;syft.service.dataset.dataset.Contributor&#x27;}, &#x27;MarkdownDescription&#x27;: {1: &#x27;syft.service.dataset.dataset.MarkdownDescription&#x27;}, &#x27;Asset&#x27;: {1: &#x27;syft.service.dataset.dataset.Asset&#x27;}, &#x27;CreateAsset&#x27;: {1: &#x27;syft.service.dataset.dataset.CreateAsset&#x27;}, &#x27;Dataset&#x27;: {1: &#x27;syft.service.dataset.dataset.Dataset&#x27;}, &#x27;DatasetPageView&#x27;: {1: &#x27;syft.service.dataset.dataset.DatasetPageView&#x27;}, &#x27;CreateDataset&#x27;: {1: &#x27;syft.service.dataset.dataset.CreateDataset&#x27;}, &#x27;ActionDataEmpty&#x27;: {1: &#x27;syft.service.action.action_data_empty.ActionDataEmpty&#x27;}, &#x27;ActionFileData&#x27;: {1: &#x27;syft.service.action.action_data_empty.ActionFileData&#x27;}, &#x27;Action&#x27;: {1: &#x27;syft.service.action.action_object.Action&#x27;}, &#x27;ActionObject&#x27;: {1: &#x27;syft.service.action.action_object.ActionObject&#x27;}, &#x27;AnyActionObject&#x27;: {1: &#x27;syft.service.action.action_object.AnyActionObject&#x27;}, &#x27;TwinObject&#x27;: {1: &#x27;syft.types.twin_object.TwinObject&#x27;}, &#x27;Policy&#x27;: {1: &#x27;syft.service.policy.policy.Policy&#x27;}, &#x27;InputPolicy&#x27;: {1: &#x27;syft.service.policy.policy.InputPolicy&#x27;}, &#x27;ExactMatch&#x27;: {1: &#x27;syft.service.policy.policy.ExactMatch&#x27;}, &#x27;OutputHistory&#x27;: {1: &#x27;syft.service.policy.policy.OutputHistory&#x27;}, &#x27;OutputPolicy&#x27;: {1: &#x27;syft.service.policy.policy.OutputPolicy&#x27;}, &#x27;OutputPolicyExecuteCount&#x27;: {1: &#x27;syft.service.policy.policy.OutputPolicyExecuteCount&#x27;}, &#x27;OutputPolicyExecuteOnce&#x27;: {1: &#x27;syft.service.policy.policy.OutputPolicyExecuteOnce&#x27;}, &#x27;UserOutputPolicy&#x27;: {1: &#x27;syft.service.policy.policy.UserOutputPolicy&#x27;}, &#x27;UserInputPolicy&#x27;: {1: &#x27;syft.service.policy.policy.UserInputPolicy&#x27;}, &#x27;UserPolicy&#x27;: {1: &#x27;syft.service.policy.policy.UserPolicy&#x27;}, &#x27;SubmitUserPolicy&#x27;: {1: &#x27;syft.service.policy.policy.SubmitUserPolicy&#x27;}, &#x27;UserCode&#x27;: {1: &#x27;syft.service.code.user_code.UserCode&#x27;}, &#x27;SubmitUserCode&#x27;: {1: &#x27;syft.service.code.user_code.SubmitUserCode&#x27;}, &#x27;UserCodeExecutionResult&#x27;: {1: &#x27;syft.service.code.user_code.UserCodeExecutionResult&#x27;}, &#x27;CodeHistory&#x27;: {1: &#x27;syft.service.code_history.code_history.CodeHistory&#x27;}, &#x27;CodeHistoryView&#x27;: {1: &#x27;syft.service.code_history.code_history.CodeHistoryView&#x27;}, &#x27;CodeHistoriesDict&#x27;: {1: &#x27;syft.service.code_history.code_history.CodeHistoriesDict&#x27;}, &#x27;UsersCodeHistoriesDict&#x27;: {1: &#x27;syft.service.code_history.code_history.UsersCodeHistoriesDict&#x27;}, &#x27;NodePeer&#x27;: {1: &#x27;syft.service.network.node_peer.NodePeer&#x27;}, &#x27;ProxyClient&#x27;: {1: &#x27;syft.client.gateway_client.ProxyClient&#x27;}, &#x27;CommandReport&#x27;: {1: &#x27;syft.service.vpn.vpn.CommandReport&#x27;}, &#x27;CommandResult&#x27;: {1: &#x27;syft.service.vpn.vpn.CommandResult&#x27;}, &#x27;VPNClientConnection&#x27;: {1: &#x27;syft.service.vpn.vpn.VPNClientConnection&#x27;}, &#x27;HeadscaleAuthToken&#x27;: {1: &#x27;syft.service.vpn.headscale_client.HeadscaleAuthToken&#x27;}, &#x27;TailscalePeer&#x27;: {1: &#x27;syft.service.vpn.tailscale_client.TailscalePeer&#x27;}, &#x27;TailscaleStatus&#x27;: {1: &#x27;syft.service.vpn.tailscale_client.TailscaleStatus&#x27;}, &#x27;OnDiskBlobDeposit&#x27;: {1: &#x27;syft.store.blob_storage.on_disk.OnDiskBlobDeposit&#x27;}, &#x27;SeaweedFSBlobDeposit&#x27;: {1: &#x27;syft.store.blob_storage.seaweedfs.SeaweedFSBlobDeposit&#x27;}, &#x27;NumpyArrayObject&#x27;: {1: &#x27;syft.service.action.numpy.NumpyArrayObject&#x27;}, &#x27;NumpyScalarObject&#x27;: {1: &#x27;syft.service.action.numpy.NumpyScalarObject&#x27;}, &#x27;NumpyBoolObject&#x27;: {1: &#x27;syft.service.action.numpy.NumpyBoolObject&#x27;}, &#x27;PandasDataframeObject&#x27;: {1: &#x27;syft.service.action.pandas.PandasDataFrameObject&#x27;}, &#x27;PandasSeriesObject&#x27;: {1: &#x27;syft.service.action.pandas.PandasSeriesObject&#x27;}, &#x27;ReplyNotification&#x27;: {1: &#x27;syft.service.notification.notifications.ReplyNotification&#x27;}, &#x27;Notification&#x27;: {1: &#x27;syft.service.notification.notifications.Notification&#x27;}, &#x27;CreateNotification&#x27;: {1: &#x27;syft.service.notification.notifications.CreateNotification&#x27;}, &#x27;Change&#x27;: {1: &#x27;syft.service.request.request.Change&#x27;}, &#x27;ChangeStatus&#x27;: {1: &#x27;syft.service.request.request.ChangeStatus&#x27;}, &#x27;ActionStoreChange&#x27;: {1: &#x27;syft.service.request.request.ActionStoreChange&#x27;}, &#x27;Request&#x27;: {1: &#x27;syft.service.request.request.Request&#x27;}, &#x27;RequestInfo&#x27;: {1: &#x27;syft.service.request.request.RequestInfo&#x27;}, &#x27;RequestInfoFilter&#x27;: {1: &#x27;syft.service.request.request.RequestInfoFilter&#x27;}, &#x27;SubmitRequest&#x27;: {1: &#x27;syft.service.request.request.SubmitRequest&#x27;}, &#x27;ObjectMutation&#x27;: {1: &#x27;syft.service.request.request.ObjectMutation&#x27;}, &#x27;EnumMutation&#x27;: {1: &#x27;syft.service.request.request.EnumMutation&#x27;}, &#x27;UserCodeStatusChange&#x27;: {1: &#x27;syft.service.request.request.UserCodeStatusChange&#x27;}, &#x27;ProjectEvent&#x27;: {1: &#x27;syft.service.project.project.ProjectEvent&#x27;}, &#x27;ProjectEventAddObject&#x27;: {1: &#x27;syft.service.project.project.ProjectEventAddObject&#x27;}, &#x27;ProjectEventAddLink&#x27;: {1: &#x27;syft.service.project.project.ProjectEventAddLink&#x27;}, &#x27;ProjectSubEvent&#x27;: {1: &#x27;syft.service.project.project.ProjectSubEvent&#x27;}, &#x27;ProjectThreadMessage&#x27;: {1: &#x27;syft.service.project.project.ProjectThreadMessage&#x27;}, &#x27;ProjectMessage&#x27;: {1: &#x27;syft.service.project.project.ProjectMessage&#x27;}, &#x27;ProjectRequestResponse&#x27;: {1: &#x27;syft.service.project.project.ProjectRequestResponse&#x27;}, &#x27;ProjectRequest&#x27;: {1: &#x27;syft.service.project.project.ProjectRequest&#x27;}, &#x27;AnswerProjectPoll&#x27;: {1: &#x27;syft.service.project.project.AnswerProjectPoll&#x27;}, &#x27;ProjectPoll&#x27;: {1: &#x27;syft.service.project.project.ProjectMultipleChoicePoll&#x27;}, &#x27;Project&#x27;: {1: &#x27;syft.service.project.project.Project&#x27;}, &#x27;ProjectSubmit&#x27;: {1: &#x27;syft.service.project.project.ProjectSubmit&#x27;}, &#x27;QueueItem&#x27;: {1: &#x27;syft.service.queue.queue_stash.QueueItem&#x27;}, &#x27;ZMQClientConfig&#x27;: {1: &#x27;syft.service.queue.zmq_queue.ZMQClientConfig&#x27;}, &#x27;Plan&#x27;: {1: &#x27;syft.service.action.plan.Plan&#x27;}}"
      ],
      "text/plain": [
       "{'SyftObject': {1: 'syft.types.syft_object.SyftObject'},\n",
       " 'PartialSyftObject': {1: 'syft.types.syft_object.PartialSyftObject'},\n",
       " 'NodeServiceContext': {1: 'syft.service.context.NodeServiceContext'},\n",
       " 'AuthedServiceContext': {1: 'syft.service.context.AuthedServiceContext'},\n",
       " 'UnauthedServiceContext': {1: 'syft.service.context.UnauthedServiceContext'},\n",
       " 'NodeMetadataUpdate': {1: 'syft.service.metadata.node_metadata.NodeMetadataUpdate'},\n",
       " 'NodeMetadata': {1: 'syft.service.metadata.node_metadata.NodeMetadata',\n",
       "  2: 'syft.service.metadata.node_metadata.NodeMetadataV2'},\n",
       " 'LinkedObject': {1: 'syft.store.linked_obj.LinkedObject'},\n",
       " 'NodeConnection': {1: 'syft.client.connection.NodeConnection'},\n",
       " 'APIEndpoint': {1: 'syft.client.api.APIEndpoint'},\n",
       " 'SignedSyftAPICall': {1: 'syft.client.api.SignedSyftAPICall'},\n",
       " 'SyftAPICall': {1: 'syft.client.api.SyftAPICall'},\n",
       " 'SyftAPI': {1: 'syft.client.api.SyftAPI'},\n",
       " 'User': {1: 'syft.service.user.user.User'},\n",
       " 'UserUpdate': {1: 'syft.service.user.user.UserUpdate'},\n",
       " 'UserCreate': {1: 'syft.service.user.user.UserCreate'},\n",
       " 'UserSearch': {1: 'syft.service.user.user.UserSearch'},\n",
       " 'UserView': {1: 'syft.service.user.user.UserView'},\n",
       " 'UserViewPage': {1: 'syft.service.user.user.UserViewPage'},\n",
       " 'UserPrivateKey': {1: 'syft.service.user.user.UserPrivateKey'},\n",
       " 'NodeSettingsUpdate': {1: 'syft.service.settings.settings.NodeSettingsUpdate'},\n",
       " 'NodeSettings': {1: 'syft.service.settings.settings.NodeSettings'},\n",
       " 'HTTPConnection': {1: 'syft.client.client.HTTPConnection'},\n",
       " 'PythonConnection': {1: 'syft.client.client.PythonConnection'},\n",
       " 'DateTime': {1: 'syft.types.datetime.DateTime'},\n",
       " 'BlobFile': {1: 'syft.types.blob_storage.BlobFile'},\n",
       " 'SecureFilePathLocation': {1: 'syft.types.blob_storage.SecureFilePathLocation'},\n",
       " 'SeaweedSecureFilePathLocation': {1: 'syft.types.blob_storage.SeaweedSecureFilePathLocation'},\n",
       " 'BlobStorageEntry': {1: 'syft.types.blob_storage.BlobStorageEntry'},\n",
       " 'BlobStorageMetadata': {1: 'syft.types.blob_storage.BlobStorageMetadata'},\n",
       " 'CreateBlobStorageEntry': {1: 'syft.types.blob_storage.CreateBlobStorageEntry'},\n",
       " 'BlobRetrieval': {1: 'syft.store.blob_storage.BlobRetrieval'},\n",
       " 'SyftObjectRetrieval': {1: 'syft.store.blob_storage.SyftObjectRetrieval'},\n",
       " 'BlobRetrievalByURL': {1: 'syft.store.blob_storage.BlobRetrievalByURL'},\n",
       " 'BlobDeposit': {1: 'syft.store.blob_storage.BlobDeposit'},\n",
       " 'WorkerSettings': {1: 'syft.node.worker_settings.WorkerSettings'},\n",
       " 'HTTPNodeRoute': {1: 'syft.service.network.routes.HTTPNodeRoute'},\n",
       " 'PythonNodeRoute': {1: 'syft.service.network.routes.PythonNodeRoute'},\n",
       " 'EnclaveMetadata': {1: 'syft.client.enclave_client.EnclaveMetadata'},\n",
       " 'DataSubject': {1: 'syft.service.data_subject.data_subject.DataSubject'},\n",
       " 'DataSubjectCreate': {1: 'syft.service.data_subject.data_subject.DataSubjectCreate'},\n",
       " 'DataSubjectMemberRelationship': {1: 'syft.service.data_subject.data_subject_member.DataSubjectMemberRelationship'},\n",
       " 'Contributor': {1: 'syft.service.dataset.dataset.Contributor'},\n",
       " 'MarkdownDescription': {1: 'syft.service.dataset.dataset.MarkdownDescription'},\n",
       " 'Asset': {1: 'syft.service.dataset.dataset.Asset'},\n",
       " 'CreateAsset': {1: 'syft.service.dataset.dataset.CreateAsset'},\n",
       " 'Dataset': {1: 'syft.service.dataset.dataset.Dataset'},\n",
       " 'DatasetPageView': {1: 'syft.service.dataset.dataset.DatasetPageView'},\n",
       " 'CreateDataset': {1: 'syft.service.dataset.dataset.CreateDataset'},\n",
       " 'ActionDataEmpty': {1: 'syft.service.action.action_data_empty.ActionDataEmpty'},\n",
       " 'ActionFileData': {1: 'syft.service.action.action_data_empty.ActionFileData'},\n",
       " 'Action': {1: 'syft.service.action.action_object.Action'},\n",
       " 'ActionObject': {1: 'syft.service.action.action_object.ActionObject'},\n",
       " 'AnyActionObject': {1: 'syft.service.action.action_object.AnyActionObject'},\n",
       " 'TwinObject': {1: 'syft.types.twin_object.TwinObject'},\n",
       " 'Policy': {1: 'syft.service.policy.policy.Policy'},\n",
       " 'InputPolicy': {1: 'syft.service.policy.policy.InputPolicy'},\n",
       " 'ExactMatch': {1: 'syft.service.policy.policy.ExactMatch'},\n",
       " 'OutputHistory': {1: 'syft.service.policy.policy.OutputHistory'},\n",
       " 'OutputPolicy': {1: 'syft.service.policy.policy.OutputPolicy'},\n",
       " 'OutputPolicyExecuteCount': {1: 'syft.service.policy.policy.OutputPolicyExecuteCount'},\n",
       " 'OutputPolicyExecuteOnce': {1: 'syft.service.policy.policy.OutputPolicyExecuteOnce'},\n",
       " 'UserOutputPolicy': {1: 'syft.service.policy.policy.UserOutputPolicy'},\n",
       " 'UserInputPolicy': {1: 'syft.service.policy.policy.UserInputPolicy'},\n",
       " 'UserPolicy': {1: 'syft.service.policy.policy.UserPolicy'},\n",
       " 'SubmitUserPolicy': {1: 'syft.service.policy.policy.SubmitUserPolicy'},\n",
       " 'UserCode': {1: 'syft.service.code.user_code.UserCode'},\n",
       " 'SubmitUserCode': {1: 'syft.service.code.user_code.SubmitUserCode'},\n",
       " 'UserCodeExecutionResult': {1: 'syft.service.code.user_code.UserCodeExecutionResult'},\n",
       " 'CodeHistory': {1: 'syft.service.code_history.code_history.CodeHistory'},\n",
       " 'CodeHistoryView': {1: 'syft.service.code_history.code_history.CodeHistoryView'},\n",
       " 'CodeHistoriesDict': {1: 'syft.service.code_history.code_history.CodeHistoriesDict'},\n",
       " 'UsersCodeHistoriesDict': {1: 'syft.service.code_history.code_history.UsersCodeHistoriesDict'},\n",
       " 'NodePeer': {1: 'syft.service.network.node_peer.NodePeer'},\n",
       " 'ProxyClient': {1: 'syft.client.gateway_client.ProxyClient'},\n",
       " 'CommandReport': {1: 'syft.service.vpn.vpn.CommandReport'},\n",
       " 'CommandResult': {1: 'syft.service.vpn.vpn.CommandResult'},\n",
       " 'VPNClientConnection': {1: 'syft.service.vpn.vpn.VPNClientConnection'},\n",
       " 'HeadscaleAuthToken': {1: 'syft.service.vpn.headscale_client.HeadscaleAuthToken'},\n",
       " 'TailscalePeer': {1: 'syft.service.vpn.tailscale_client.TailscalePeer'},\n",
       " 'TailscaleStatus': {1: 'syft.service.vpn.tailscale_client.TailscaleStatus'},\n",
       " 'OnDiskBlobDeposit': {1: 'syft.store.blob_storage.on_disk.OnDiskBlobDeposit'},\n",
       " 'SeaweedFSBlobDeposit': {1: 'syft.store.blob_storage.seaweedfs.SeaweedFSBlobDeposit'},\n",
       " 'NumpyArrayObject': {1: 'syft.service.action.numpy.NumpyArrayObject'},\n",
       " 'NumpyScalarObject': {1: 'syft.service.action.numpy.NumpyScalarObject'},\n",
       " 'NumpyBoolObject': {1: 'syft.service.action.numpy.NumpyBoolObject'},\n",
       " 'PandasDataframeObject': {1: 'syft.service.action.pandas.PandasDataFrameObject'},\n",
       " 'PandasSeriesObject': {1: 'syft.service.action.pandas.PandasSeriesObject'},\n",
       " 'ReplyNotification': {1: 'syft.service.notification.notifications.ReplyNotification'},\n",
       " 'Notification': {1: 'syft.service.notification.notifications.Notification'},\n",
       " 'CreateNotification': {1: 'syft.service.notification.notifications.CreateNotification'},\n",
       " 'Change': {1: 'syft.service.request.request.Change'},\n",
       " 'ChangeStatus': {1: 'syft.service.request.request.ChangeStatus'},\n",
       " 'ActionStoreChange': {1: 'syft.service.request.request.ActionStoreChange'},\n",
       " 'Request': {1: 'syft.service.request.request.Request'},\n",
       " 'RequestInfo': {1: 'syft.service.request.request.RequestInfo'},\n",
       " 'RequestInfoFilter': {1: 'syft.service.request.request.RequestInfoFilter'},\n",
       " 'SubmitRequest': {1: 'syft.service.request.request.SubmitRequest'},\n",
       " 'ObjectMutation': {1: 'syft.service.request.request.ObjectMutation'},\n",
       " 'EnumMutation': {1: 'syft.service.request.request.EnumMutation'},\n",
       " 'UserCodeStatusChange': {1: 'syft.service.request.request.UserCodeStatusChange'},\n",
       " 'ProjectEvent': {1: 'syft.service.project.project.ProjectEvent'},\n",
       " 'ProjectEventAddObject': {1: 'syft.service.project.project.ProjectEventAddObject'},\n",
       " 'ProjectEventAddLink': {1: 'syft.service.project.project.ProjectEventAddLink'},\n",
       " 'ProjectSubEvent': {1: 'syft.service.project.project.ProjectSubEvent'},\n",
       " 'ProjectThreadMessage': {1: 'syft.service.project.project.ProjectThreadMessage'},\n",
       " 'ProjectMessage': {1: 'syft.service.project.project.ProjectMessage'},\n",
       " 'ProjectRequestResponse': {1: 'syft.service.project.project.ProjectRequestResponse'},\n",
       " 'ProjectRequest': {1: 'syft.service.project.project.ProjectRequest'},\n",
       " 'AnswerProjectPoll': {1: 'syft.service.project.project.AnswerProjectPoll'},\n",
       " 'ProjectPoll': {1: 'syft.service.project.project.ProjectMultipleChoicePoll'},\n",
       " 'Project': {1: 'syft.service.project.project.Project'},\n",
       " 'ProjectSubmit': {1: 'syft.service.project.project.ProjectSubmit'},\n",
       " 'QueueItem': {1: 'syft.service.queue.queue_stash.QueueItem'},\n",
       " 'ZMQClientConfig': {1: 'syft.service.queue.zmq_queue.ZMQClientConfig'},\n",
       " 'Plan': {1: 'syft.service.action.plan.Plan'}}"
      ]
     },
     "execution_count": 4,
     "metadata": {},
     "output_type": "execute_result"
    }
   ],
   "source": [
    "SyftMigrationRegistry.__migration_version_registry__"
   ]
  },
  {
   "cell_type": "code",
   "execution_count": 5,
   "id": "3790c6ca",
   "metadata": {},
   "outputs": [
    {
     "data": {
      "text/html": [
       "{&#x27;NodeMetadata&#x27;: {&#x27;1x2&#x27;: &lt;function generate_transform_wrapper.&lt;locals&gt;.wrapper at 0x7f8d69d644c0&gt;, &#x27;2x1&#x27;: &lt;function generate_transform_wrapper.&lt;locals&gt;.wrapper at 0x7f8d69d64700&gt;}}"
      ],
      "text/plain": [
       "{'NodeMetadata': {'1x2': <function syft.types.transforms.generate_transform_wrapper.<locals>.wrapper(self: syft.service.metadata.node_metadata.NodeMetadata, context: Union[syft.types.transforms.TransformContext, syft.service.context.NodeServiceContext, NoneType] = None) -> syft.service.metadata.node_metadata.NodeMetadataV2>,\n",
       "  '2x1': <function syft.types.transforms.generate_transform_wrapper.<locals>.wrapper(self: syft.service.metadata.node_metadata.NodeMetadataV2, context: Union[syft.types.transforms.TransformContext, syft.service.context.NodeServiceContext, NoneType] = None) -> syft.service.metadata.node_metadata.NodeMetadata>}}"
      ]
     },
     "execution_count": 5,
     "metadata": {},
     "output_type": "execute_result"
    }
   ],
   "source": [
    "SyftMigrationRegistry.__migration_transform_registry__"
   ]
  },
  {
   "cell_type": "code",
   "execution_count": 6,
   "id": "a4ec5311",
   "metadata": {},
   "outputs": [],
   "source": [
    "node_metadata_v1 = NodeMetadata(\n",
    "    name=\"OM\",\n",
    "    highest_object_version=2,\n",
    "    lowest_object_version=1,\n",
    "    id=sy.UID(),\n",
    "    verify_key=sy.SyftSigningKey.generate().verify_key,\n",
    "    syft_version=\"0.8.2\",\n",
    "    node_type=\"domain\",\n",
    "    signup_enabled=True,\n",
    "    admin_email=\"info@openmined.org\",\n",
    "    node_side_type=\"low_side\",\n",
    "    show_warnings=False,\n",
    ")"
   ]
  },
  {
   "cell_type": "code",
   "execution_count": 7,
   "id": "8bcf95b8",
   "metadata": {},
   "outputs": [
    {
     "data": {
      "text/markdown": [
       "```python\n",
       "class NodeMetadata:\n",
       "  id: str = 55b9c387801541b4bd7e79a574ff60c4\n",
       "\n",
       "```"
      ],
      "text/plain": [
       "syft.service.metadata.node_metadata.NodeMetadata"
      ]
     },
     "execution_count": 7,
     "metadata": {},
     "output_type": "execute_result"
    }
   ],
   "source": [
    "sy.deserialize(sy.serialize(node_metadata_v1, to_bytes=True), from_bytes=True)"
   ]
  },
  {
   "cell_type": "code",
   "execution_count": 8,
   "id": "a007db0f",
   "metadata": {},
   "outputs": [],
   "source": [
    "node_metadata_v2 = NodeMetadataV2(\n",
    "    name=\"OM\",\n",
    "    highest_version=2,\n",
    "    lowest_version=1,\n",
    "    id=sy.UID(),\n",
    "    verify_key=sy.SyftSigningKey.generate().verify_key,\n",
    "    syft_version=\"0.8.2\",\n",
    "    node_type=\"domain\",\n",
    "    signup_enabled=True,\n",
    "    admin_email=\"info@openmined.org\",\n",
    "    node_side_type=\"low_side\",\n",
    "    show_warnings=False,\n",
    ")"
   ]
  },
  {
   "cell_type": "code",
   "execution_count": 9,
   "id": "850e094a",
   "metadata": {},
   "outputs": [
    {
     "data": {
      "text/markdown": [
       "```python\n",
       "class NodeMetadataV2:\n",
       "  id: str = 42543d06d6624d3eba4960214d8d4b44\n",
       "\n",
       "```"
      ],
      "text/plain": [
       "syft.service.metadata.node_metadata.NodeMetadataV2"
      ]
     },
     "execution_count": 9,
     "metadata": {},
     "output_type": "execute_result"
    }
   ],
   "source": [
    "sy.deserialize(sy.serialize(node_metadata_v2, to_bytes=True), from_bytes=True)"
   ]
  },
  {
   "cell_type": "markdown",
   "id": "c6e562a5",
   "metadata": {},
   "source": [
    "### Migrating to different versions"
   ]
  },
  {
   "cell_type": "code",
   "execution_count": 11,
   "id": "793dd7b5",
   "metadata": {},
   "outputs": [
    {
     "data": {
      "text/markdown": [
       "```python\n",
       "class NodeMetadataV2:\n",
       "  id: str = 55b9c387801541b4bd7e79a574ff60c4\n",
       "\n",
       "```"
      ],
      "text/plain": [
       "syft.service.metadata.node_metadata.NodeMetadataV2"
      ]
     },
     "execution_count": 11,
     "metadata": {},
     "output_type": "execute_result"
    }
   ],
   "source": [
    "node_metadata_v1.migrate_to(version=2)"
   ]
  },
  {
   "cell_type": "code",
   "execution_count": 12,
   "id": "b8b4d067",
   "metadata": {},
   "outputs": [
    {
     "data": {
      "text/markdown": [
       "```python\n",
       "class NodeMetadata:\n",
       "  id: str = 42543d06d6624d3eba4960214d8d4b44\n",
       "\n",
       "```"
      ],
      "text/plain": [
       "syft.service.metadata.node_metadata.NodeMetadata"
      ]
     },
     "execution_count": 12,
     "metadata": {},
     "output_type": "execute_result"
    }
   ],
   "source": [
    "node_metadata_v2.migrate_to(version=1)"
   ]
  },
  {
   "cell_type": "code",
   "execution_count": 22,
   "id": "560dd0ca",
   "metadata": {},
   "outputs": [],
   "source": [
    "node =  sy.Orchestra.launch(\"test-domain\")"
   ]
  },
  {
   "cell_type": "code",
   "execution_count": 33,
   "id": "3607e5bb",
   "metadata": {},
   "outputs": [
    {
     "data": {
      "text/plain": [
       "dict_keys(['QueueItem', 'User', 'NodeSettings', 'Dataset', 'UserCode', 'Request', 'DataSubject', 'NodePeer', 'UserPolicy', 'Notification', 'DataSubjectMemberRelationship', 'Project', 'CodeHistory', 'BlobStorageEntry'])"
      ]
     },
     "execution_count": 33,
     "metadata": {},
     "output_type": "execute_result"
    }
   ],
   "source": [
    "node.python_node.document_store.partitions.keys()"
   ]
  },
  {
   "cell_type": "markdown",
   "id": "18e563aa",
   "metadata": {},
   "source": [
    "### Migration Detection and Migrating Data\n",
    "\n",
    "SyftObjectMigrationState\n",
    "- canonical_name:\n",
    "- current_version:\n",
    "\n",
    "|Name     | Version\n",
    "----------|--------\n",
    "|User     |1\n",
    "|Dataset  |1\n",
    "|Project  |2\n",
    "\n",
    "\n",
    "- UserV2\n",
    "\n",
    "\n",
    "- Migration to latest version:\n",
    "  SyftObjectMigrationState -> current version\n",
    "  1 -> 2\n",
    "  All data is migrated to version 2\n",
    "  update the state to SyftObjectMigrationState current version 2\n",
    "  \n",
    "|Name     |Version\n",
    "----------|--------\n",
    "|User     |2\n",
    "|Dataset  |1\n",
    "|Project  |2\n",
    "\n",
    "\n",
    "Automatic Migration vs Manual Migration:\n",
    "\n",
    "For now we can move with Automatic Migrations where\n",
    "- Setting new fields to default values\n",
    "- Having transforms for handling unique fields"
   ]
  },
  {
   "cell_type": "markdown",
   "id": "ed0ae09e",
   "metadata": {},
   "source": [
    "### Server is running a different version from the client\n",
    "\n",
    "- Client -> 0.8.2 -> UserV1\n",
    "- Server -> 0.8.3 -> UserV2"
   ]
  },
  {
   "cell_type": "markdown",
   "id": "8573a9e2",
   "metadata": {},
   "source": [
    "```python\n",
    "@service_method():\n",
    "def create(\n",
    "    self, \n",
    "    context: AuthContext, \n",
    "    create_user: Union[CreateUserV1, CreateUserV2]\n",
    ") -> Union[CreateUserV1, CreateUserV2]:\n",
    "    \n",
    "    # we just need to take of care of \n",
    "    # data migrations of the table only\n",
    "    client_version = context.client_version\n",
    "    server_version = context.server_version\n",
    "    \n",
    "    create_user: UserV1 = user_create.migrate_to(server_version)\n",
    "\n",
    "    user: UserV1 = self.stash.set(create_user, context.credentials)\n",
    "      \n",
    "    # no need for any migrations from \n",
    "    # Viewable/Intermediate Objects like UserViewV2 to UserViewV1\n",
    "    return user.migrate_to(client_version)\n",
    "```"
   ]
  },
  {
   "cell_type": "markdown",
   "id": "dbce0550",
   "metadata": {},
   "source": [
    "api.services.user.create(UserV2)\n",
    "\n",
    "\n",
    "```markdown\n",
    "client -> {“User”: [1], …..{“NodeMetadata”: [1,2]..}},\n",
    "\n",
    "client -> \n",
    "    args and kwargs:\n",
    "        - calculate the versions of the args and kwargs\n",
    "        - store that in a dict\n",
    "        - e.g. \n",
    "            kwargs = {\"user_create\": {\"UserCreate\": 1},}\n",
    "            return_annotation: {\"UserView\": [1]}\n",
    "```\n",
    "\n",
    "1. Client version is behind the server version\n",
    "\n",
    "\n",
    "2. Server version is behind the client version\n",
    " - Serialization\n",
    " - Migration\n",
    " \n",
    "Possible Solution: \n",
    "   - We perform the migration transform on the client itself and serialize/deserde becomes easier.\n",
    "   - Server sends the ServerObjectVersionMap: {“User”: [1], …..{“NodeMetadata”: [1,2]..}}\n",
    "   - Client identifies if server is running a lower version:\n",
    "     - migrate to the supported version of object on client side\n",
    "       e.g. UserV2 (Client) on client side -> UserV2.migrate_to(version=1) -> send the data to the server. UserV1(server)\n",
    "     - otherwise server takes care of the migration\n",
    "     \n",
    "`\n",
    " ServerObjectVersionMap = {“User”: [1], …..{“NodeMetadata”: [1,2]..}}\n",
    "\n",
    "`\n",
    "\n",
    "this information comes along with Metadata: {“User”: [1], …..{“NodeMetadata”: [1,2]..}} and cache it a client level."
   ]
  },
  {
   "cell_type": "code",
   "execution_count": null,
   "id": "09741c6e",
   "metadata": {},
   "outputs": [],
   "source": []
  }
 ],
 "metadata": {
  "kernelspec": {
   "display_name": "Python 3 (ipykernel)",
   "language": "python",
   "name": "python3"
  },
  "language_info": {
   "codemirror_mode": {
    "name": "ipython",
    "version": 3
   },
   "file_extension": ".py",
   "mimetype": "text/x-python",
   "name": "python",
   "nbconvert_exporter": "python",
   "pygments_lexer": "ipython3",
   "version": "3.9.7"
  },
  "toc": {
   "base_numbering": 1,
   "nav_menu": {},
   "number_sections": true,
   "sideBar": true,
   "skip_h1_title": false,
   "title_cell": "Table of Contents",
   "title_sidebar": "Contents",
   "toc_cell": false,
   "toc_position": {},
   "toc_section_display": true,
   "toc_window_display": false
  }
 },
 "nbformat": 4,
 "nbformat_minor": 5
}
