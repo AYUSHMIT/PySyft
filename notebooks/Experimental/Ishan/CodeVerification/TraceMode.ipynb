{
 "cells": [
  {
   "cell_type": "markdown",
   "id": "6a195fb0-925b-44ee-b7fd-8476dcbebe58",
   "metadata": {},
   "source": [
    "# TO DO\n",
    "\n",
    "- Make history hashes work with strings of commands\n",
    "\n",
    "\n",
    "### Problems:\n",
    "\n",
    "- eval has problems with equal signs\n",
    "- random initializations will cause problems w/ hash_history\n",
    "    - FOr now: if there's \"random\" in the code string, raise an Error\n",
    "- Would we run into issues w/ ops like matmul if EmptyActionObjects can't infer size/shape b/c of missing metadata/context?"
   ]
  },
  {
   "cell_type": "code",
   "execution_count": 1,
   "id": "bc49eb65-be23-451f-9d24-dc74a52295ed",
   "metadata": {},
   "outputs": [],
   "source": [
    "from syft.core.node.new.action_object import ActionObject"
   ]
  },
  {
   "cell_type": "code",
   "execution_count": 2,
   "id": "061fcc78-71e4-4807-b6e2-88d0a40ad65d",
   "metadata": {},
   "outputs": [],
   "source": [
    "import numpy as np\n",
    "private_dataset = 2 * np.random.random((10, 10)) - 1  # pretend this is on a domain node"
   ]
  },
  {
   "cell_type": "code",
   "execution_count": 11,
   "id": "5563a96f-d0d5-4ac5-bbb2-4d4de0fe6caf",
   "metadata": {},
   "outputs": [
    {
     "name": "stdout",
     "output_type": "stream",
     "text": [
      "Lights... Cameras... ACTION OBJECT!\n"
     ]
    }
   ],
   "source": [
    "priv = ActionObject(syft_action_data=private_dataset)"
   ]
  },
  {
   "cell_type": "code",
   "execution_count": 13,
   "id": "851cf6e6-ffb9-46db-a68c-b72ebd74d079",
   "metadata": {},
   "outputs": [
    {
     "name": "stdout",
     "output_type": "stream",
     "text": [
      "We're making history... hashes.\n",
      "Lights... Cameras... ACTION OBJECT!\n"
     ]
    },
    {
     "data": {
      "text/plain": [
       "History: 2343825891455800785"
      ]
     },
     "execution_count": 13,
     "metadata": {},
     "output_type": "execute_result"
    }
   ],
   "source": [
    "priv.transpose()"
   ]
  },
  {
   "cell_type": "code",
   "execution_count": 14,
   "id": "3914e8d2-9bd4-47b6-9e4b-43ac165ffb99",
   "metadata": {},
   "outputs": [
    {
     "name": "stdout",
     "output_type": "stream",
     "text": [
      "Lights... Cameras... ACTION OBJECT!\n"
     ]
    }
   ],
   "source": [
    "a = ActionObject(id=priv.id, syft_result_obj=np.array([]))"
   ]
  },
  {
   "cell_type": "code",
   "execution_count": 15,
   "id": "abb99f60-db2a-4192-8d5f-fc75321ef22b",
   "metadata": {},
   "outputs": [
    {
     "name": "stdout",
     "output_type": "stream",
     "text": [
      "We're making history... hashes.\n",
      "Lights... Cameras... ACTION OBJECT!\n"
     ]
    },
    {
     "data": {
      "text/plain": [
       "History: 2343825891455800785"
      ]
     },
     "execution_count": 15,
     "metadata": {},
     "output_type": "execute_result"
    }
   ],
   "source": [
    "a.transpose()"
   ]
  },
  {
   "cell_type": "code",
   "execution_count": 5,
   "id": "52da9859-6b84-4f11-9fe3-a16a38e7821a",
   "metadata": {},
   "outputs": [
    {
     "name": "stdout",
     "output_type": "stream",
     "text": [
      "Eval has problems with equality\n"
     ]
    }
   ],
   "source": [
    "try:\n",
    "    eval(\"x = 1\")\n",
    "except SyntaxError:\n",
    "    print(\"Eval has problems with equality\")"
   ]
  },
  {
   "cell_type": "code",
   "execution_count": 51,
   "id": "08ac04da-4ae6-4b99-a0c6-790011f3edcf",
   "metadata": {},
   "outputs": [],
   "source": [
    "def SingleCallPolicy(*args, **kwargs):\n",
    "    print(\"This lets you run the code once\")\n",
    "    return 1\n",
    "\n",
    "def code_request_policy(*args, **kwargs):\n",
    "    print(\"PySyft is currently performing code verification\")\n",
    "    if \"policy\" in kwargs:\n",
    "        print(f'Policy in effect: {kwargs[\"policy\"]}')\n",
    "    else:\n",
    "        print(\"No policy specified, using SingleCallPolicy by default\")\n",
    "        \n",
    "    assert (\"downloadable_output_args\" in kwargs and kwargs[\"downloadable_output_args\"] is not None), \"Must specify result you want\"\n",
    "    \n",
    "    \n",
    "    def wrapper(func):\n",
    "        return func\n",
    "    print(\"Verified! Sending to Data Owner.\")\n",
    "    return wrapper"
   ]
  },
  {
   "cell_type": "code",
   "execution_count": 53,
   "id": "12c72e1c-84db-48c5-8970-ca5c845d7065",
   "metadata": {},
   "outputs": [
    {
     "name": "stdout",
     "output_type": "stream",
     "text": [
      "PySyft is currently performing code verification\n",
      "Policy in effect: <function SingleCallPolicy at 0x7f23b4c7e550>\n",
      "Verified! Sending to Data Owner.\n"
     ]
    }
   ],
   "source": [
    "@code_request_policy(policy=SingleCallPolicy,\n",
    "                        parties_data=private_dataset,\n",
    "                        fancy_string=str,  # this is where we'll be chucking in code\n",
    "                        downloadable_output_args=[\"output\"])\n",
    "def my_analysis(parties_data):\n",
    "    import numpy as np\n",
    "    \n",
    "    def relu(x):\n",
    "        return x * (x > 0)\n",
    "    \n",
    "    W = np.random.random((3, 10))\n",
    "    b = np.random.random((10,))\n",
    "    x = W @ parties_data + b\n",
    "    output = relu(x)\n",
    "    return output"
   ]
  },
  {
   "cell_type": "code",
   "execution_count": 28,
   "id": "a373ce07-2f54-45c6-943c-a782e7b83a00",
   "metadata": {},
   "outputs": [
    {
     "data": {
      "text/plain": [
       "array([[-0.        ,  1.20330984, -0.        ,  1.18518865,  0.85789389,\n",
       "        -0.        ,  1.8746026 ,  0.40868893, -0.        , -0.        ],\n",
       "       [-0.        ,  1.49154832, -0.        ,  1.23281906,  0.00745984,\n",
       "        -0.        ,  1.95799098,  0.44815021, -0.        ,  0.90847315],\n",
       "       [-0.        ,  0.94680866, -0.        ,  1.64700006,  1.3487248 ,\n",
       "        -0.        ,  1.12224282, -0.        , -0.        , -0.        ]])"
      ]
     },
     "execution_count": 28,
     "metadata": {},
     "output_type": "execute_result"
    }
   ],
   "source": [
    "my_analysis(private_dataset)"
   ]
  },
  {
   "cell_type": "code",
   "execution_count": 54,
   "id": "4904650c-396b-42aa-b361-46ed9d64c4f0",
   "metadata": {},
   "outputs": [],
   "source": [
    "final_code_block = \"\"\"import numpy as np\n",
    "def relu(x):\n",
    "    return x * (x > 0)\n",
    "\n",
    "W = np.random.random((3, 10))\n",
    "b = np.random.random((10,))\n",
    "x = W @ private_dataset + b\n",
    "output = relu(x)\n",
    "\"\"\""
   ]
  },
  {
   "cell_type": "code",
   "execution_count": 72,
   "id": "0dbe6db6-df13-48a5-bd0b-ed31b8c16575",
   "metadata": {},
   "outputs": [],
   "source": [
    "easy_code_block = \"\"\"result = private_dataset + 1\"\"\""
   ]
  },
  {
   "cell_type": "code",
   "execution_count": 73,
   "id": "02ea51b0-c46e-4f15-a8d0-8f2767db3b0c",
   "metadata": {},
   "outputs": [],
   "source": [
    "inputs = [private_dataset]\n",
    "outputs = [result]"
   ]
  },
  {
   "cell_type": "code",
   "execution_count": 74,
   "id": "eb1dd981-dd50-4f1e-9b4a-9ed4565ca6ff",
   "metadata": {},
   "outputs": [
    {
     "data": {
      "text/plain": [
       "<UID: ee17296e96114b9980d0fd0d0f9cedc6>"
      ]
     },
     "execution_count": 74,
     "metadata": {},
     "output_type": "execute_result"
    }
   ],
   "source": [
    "a.id"
   ]
  },
  {
   "cell_type": "code",
   "execution_count": 75,
   "id": "05652ddb-6801-4bba-aa2e-b03c72b761f7",
   "metadata": {},
   "outputs": [
    {
     "data": {
      "text/plain": [
       "'potato = private_dataset + 1'"
      ]
     },
     "execution_count": 75,
     "metadata": {},
     "output_type": "execute_result"
    }
   ],
   "source": [
    "easy_code_block.replace(\"result\", \"potato\")"
   ]
  },
  {
   "cell_type": "code",
   "execution_count": 78,
   "id": "85adb91f-b6c4-4594-b380-e4bbd917758e",
   "metadata": {},
   "outputs": [
    {
     "name": "stdout",
     "output_type": "stream",
     "text": [
      "Lights... Cameras... ACTION OBJECT!\n"
     ]
    }
   ],
   "source": [
    "t = ActionObject(id=a.id)"
   ]
  },
  {
   "cell_type": "code",
   "execution_count": 77,
   "id": "23ea8088-edc2-464b-884d-f3f877f382f2",
   "metadata": {},
   "outputs": [
    {
     "ename": "AttributeError",
     "evalue": "'NoneType' object has no attribute '__add__'",
     "output_type": "error",
     "traceback": [
      "\u001b[0;31m---------------------------------------------------------------------------\u001b[0m",
      "\u001b[0;31mAttributeError\u001b[0m                            Traceback (most recent call last)",
      "\u001b[0;32m/tmp/ipykernel_18451/2259771585.py\u001b[0m in \u001b[0;36m<module>\u001b[0;34m\u001b[0m\n\u001b[0;32m----> 1\u001b[0;31m \u001b[0mt\u001b[0m \u001b[0;34m+\u001b[0m \u001b[0;36m6\u001b[0m\u001b[0;34m\u001b[0m\u001b[0;34m\u001b[0m\u001b[0m\n\u001b[0m",
      "\u001b[0;32m~/PycharmProjects/PySyft/packages/syft/src/syft/core/node/new/action_object.py\u001b[0m in \u001b[0;36m__add__\u001b[0;34m(self, other)\u001b[0m\n\u001b[1;32m    248\u001b[0m     \u001b[0;31m# no implementation necessary here as we will defer to __getattribute__\u001b[0m\u001b[0;34m\u001b[0m\u001b[0;34m\u001b[0m\u001b[0m\n\u001b[1;32m    249\u001b[0m     \u001b[0;32mdef\u001b[0m \u001b[0m__add__\u001b[0m\u001b[0;34m(\u001b[0m\u001b[0mself\u001b[0m\u001b[0;34m,\u001b[0m \u001b[0mother\u001b[0m\u001b[0;34m:\u001b[0m \u001b[0mAny\u001b[0m\u001b[0;34m)\u001b[0m \u001b[0;34m->\u001b[0m \u001b[0mAny\u001b[0m\u001b[0;34m:\u001b[0m\u001b[0;34m\u001b[0m\u001b[0;34m\u001b[0m\u001b[0m\n\u001b[0;32m--> 250\u001b[0;31m         \u001b[0;32mreturn\u001b[0m \u001b[0mself\u001b[0m\u001b[0;34m.\u001b[0m\u001b[0m_syft_output_action_object\u001b[0m\u001b[0;34m(\u001b[0m\u001b[0mself\u001b[0m\u001b[0;34m.\u001b[0m\u001b[0m__add__\u001b[0m\u001b[0;34m(\u001b[0m\u001b[0mother\u001b[0m\u001b[0;34m)\u001b[0m\u001b[0;34m)\u001b[0m\u001b[0;34m\u001b[0m\u001b[0;34m\u001b[0m\u001b[0m\n\u001b[0m\u001b[1;32m    251\u001b[0m \u001b[0;34m\u001b[0m\u001b[0m\n\u001b[1;32m    252\u001b[0m     \u001b[0;32mdef\u001b[0m \u001b[0m__repr__\u001b[0m\u001b[0;34m(\u001b[0m\u001b[0mself\u001b[0m\u001b[0;34m)\u001b[0m \u001b[0;34m->\u001b[0m \u001b[0mstr\u001b[0m\u001b[0;34m:\u001b[0m\u001b[0;34m\u001b[0m\u001b[0;34m\u001b[0m\u001b[0m\n",
      "\u001b[0;32m~/PycharmProjects/PySyft/packages/syft/src/syft/core/node/new/action_object.py\u001b[0m in \u001b[0;36m__getattribute__\u001b[0;34m(self, name)\u001b[0m\n\u001b[1;32m    372\u001b[0m \u001b[0;34m\u001b[0m\u001b[0m\n\u001b[1;32m    373\u001b[0m         \u001b[0;31m# check for other types that aren't methods, functions etc\u001b[0m\u001b[0;34m\u001b[0m\u001b[0;34m\u001b[0m\u001b[0m\n\u001b[0;32m--> 374\u001b[0;31m         \u001b[0moriginal_func\u001b[0m \u001b[0;34m=\u001b[0m \u001b[0mgetattr\u001b[0m\u001b[0;34m(\u001b[0m\u001b[0mself\u001b[0m\u001b[0;34m.\u001b[0m\u001b[0msyft_action_data\u001b[0m\u001b[0;34m,\u001b[0m \u001b[0mname\u001b[0m\u001b[0;34m)\u001b[0m\u001b[0;34m\u001b[0m\u001b[0;34m\u001b[0m\u001b[0m\n\u001b[0m\u001b[1;32m    375\u001b[0m         \u001b[0;32mif\u001b[0m \u001b[0mshow_print\u001b[0m\u001b[0;34m:\u001b[0m\u001b[0;34m\u001b[0m\u001b[0;34m\u001b[0m\u001b[0m\n\u001b[1;32m    376\u001b[0m             \u001b[0mdebug_original_func\u001b[0m\u001b[0;34m(\u001b[0m\u001b[0mname\u001b[0m\u001b[0;34m,\u001b[0m \u001b[0moriginal_func\u001b[0m\u001b[0;34m)\u001b[0m\u001b[0;34m\u001b[0m\u001b[0;34m\u001b[0m\u001b[0m\n",
      "\u001b[0;31mAttributeError\u001b[0m: 'NoneType' object has no attribute '__add__'"
     ]
    }
   ],
   "source": [
    "t + 6"
   ]
  },
  {
   "cell_type": "code",
   "execution_count": null,
   "id": "c675275b-f8fa-44a4-b62c-dc72874d9c27",
   "metadata": {},
   "outputs": [],
   "source": []
  }
 ],
 "metadata": {
  "kernelspec": {
   "display_name": "Python 3 (ipykernel)",
   "language": "python",
   "name": "python3"
  },
  "language_info": {
   "codemirror_mode": {
    "name": "ipython",
    "version": 3
   },
   "file_extension": ".py",
   "mimetype": "text/x-python",
   "name": "python",
   "nbconvert_exporter": "python",
   "pygments_lexer": "ipython3",
   "version": "3.9.7"
  }
 },
 "nbformat": 4,
 "nbformat_minor": 5
}
