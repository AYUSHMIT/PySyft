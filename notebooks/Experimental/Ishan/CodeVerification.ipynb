{
 "cells": [
  {
   "cell_type": "markdown",
   "id": "50c08728-798e-4e0e-b6bb-5cd715e497a0",
   "metadata": {
    "tags": []
   },
   "source": [
    "### To Do\n",
    "- ~~Add a hash to every ActionObject~~\n",
    "- ~~Make every ActionObject that's created from other ActionObjects have an automatic hash ~~\n",
    "\n",
    "- Bonus: \n",
    "    - Maybe see if we can stitch together Code Verification and Code Submission- enable the \"Trace\" feature!\n",
    "    - Check if ActionObjects work with the dataset API"
   ]
  },
  {
   "cell_type": "markdown",
   "id": "a43070eb-7e9d-43ce-8036-3c246057b082",
   "metadata": {},
   "source": [
    "### Scenario\n",
    "\n",
    "a = ActionObject(data1)\\\n",
    "a.history_hash = None\\\n",
    "b = ActionObject(data2)\\\n",
    "b.history_hash = None\\\n",
    "c = a + b\\\n",
    "c.history_hash = hash(a, b, add)\\\n",
    "d = a + b\\\n",
    "d.history_hash = hash(a, b, add)\\\n",
    "c.history_hash == d.history_hash\\\n",
    "\n",
    "e = a * b\\\n",
    "e.history_hash = hash(a, b, mul)\n",
    "\n",
    "f = ActionObject(data1)\n",
    "g = f + b\n",
    "\n",
    "\n",
    "\n",
    "### Takeaways:\n",
    "- Different ops with the same ActionObjects should have different hashes\n",
    "(e and c should not have the same hash history)\n",
    "- The same ActionObjects and op should always produce the same hash\n",
    "(c and d should have the same hash history)\n",
    "- Different ActionObjects with the same value should still have different hashes. (Check with Madhava)\n",
    "(c and g should have different hash history because f might refer to the same data but in a different dataset/asset)\n",
    "- Be able to distinguish between std() and std(axis=1)\n",
    "- Be able to distinguish between a + 5 and a + 6 even if 5 and 6 aren't ActionObjects\n",
    "    - what if we're adding a + np.array([1]) and a + np.array([2]) -> since np.arrays aren't hashable? "
   ]
  },
  {
   "cell_type": "markdown",
   "id": "6c6be8dd-59a5-4a90-922a-552be8e30492",
   "metadata": {},
   "source": [
    "### Troubles\n",
    "\n",
    "- Will we run into trouble with np.add vs torch.add vs regular add? \\shrug\n",
    "\n",
    "Do we really need hashes for this to work? Could we use f\"{parent ID}_{OPname}\"\n",
    "- Could get gigantic strings if we're adding a billion things?\n",
    "\n"
   ]
  },
  {
   "cell_type": "code",
   "execution_count": 1,
   "id": "a44d3180-37ed-4b94-aa04-c25b3d6a0db6",
   "metadata": {},
   "outputs": [],
   "source": [
    "from typing import Hashable"
   ]
  },
  {
   "cell_type": "code",
   "execution_count": 2,
   "id": "1f05df3c-a7d6-4042-8921-bb37dc97bd47",
   "metadata": {},
   "outputs": [],
   "source": [
    "from syft.core.node.new.action_object import ActionObject"
   ]
  },
  {
   "cell_type": "code",
   "execution_count": 3,
   "id": "4cfdd853-bf9d-4aab-9c7f-a824c8633c02",
   "metadata": {},
   "outputs": [],
   "source": [
    "import numpy as np"
   ]
  },
  {
   "cell_type": "code",
   "execution_count": 4,
   "id": "d421936c-c0fc-4eb6-8a2d-9f669029f822",
   "metadata": {},
   "outputs": [],
   "source": [
    "data = 2*np.random.rand(10,10)-1"
   ]
  },
  {
   "cell_type": "code",
   "execution_count": 5,
   "id": "b01e57aa-7265-424c-8717-812a93973fb7",
   "metadata": {},
   "outputs": [
    {
     "name": "stdout",
     "output_type": "stream",
     "text": [
      "Lights... Cameras... ACTION OBJECT!\n"
     ]
    },
    {
     "data": {
      "text/plain": [
       "<UID: 47434b44697d4c59a3c3b87678e66cee>"
      ]
     },
     "execution_count": 5,
     "metadata": {},
     "output_type": "execute_result"
    }
   ],
   "source": [
    "a = ActionObject(syft_action_data=data)\n",
    "a.id"
   ]
  },
  {
   "cell_type": "code",
   "execution_count": 6,
   "id": "a49d12c5-eabf-4054-856e-58b5b9f1d485",
   "metadata": {},
   "outputs": [
    {
     "name": "stdout",
     "output_type": "stream",
     "text": [
      "We're making history... hashes.\n",
      "Lights... Cameras... ACTION OBJECT!\n"
     ]
    },
    {
     "data": {
      "text/plain": [
       "History: 466454064648700083"
      ]
     },
     "execution_count": 6,
     "metadata": {},
     "output_type": "execute_result"
    }
   ],
   "source": [
    "a.std(1)"
   ]
  },
  {
   "cell_type": "code",
   "execution_count": 7,
   "id": "f0446c1e-e42f-48da-8433-52f497bd9cf4",
   "metadata": {},
   "outputs": [
    {
     "name": "stdout",
     "output_type": "stream",
     "text": [
      "We're making history... hashes.\n",
      "Lights... Cameras... ACTION OBJECT!\n"
     ]
    },
    {
     "data": {
      "text/plain": [
       "History: 466454064648700083"
      ]
     },
     "execution_count": 7,
     "metadata": {},
     "output_type": "execute_result"
    }
   ],
   "source": [
    "a.std(axis=1)"
   ]
  },
  {
   "cell_type": "code",
   "execution_count": 8,
   "id": "2e909ac8-3fa9-4717-b997-afa6638a3b3a",
   "metadata": {},
   "outputs": [
    {
     "name": "stdout",
     "output_type": "stream",
     "text": [
      "We're making history... hashes.\n",
      "Lights... Cameras... ACTION OBJECT!\n"
     ]
    },
    {
     "data": {
      "text/plain": [
       "History: -6588866534066588974"
      ]
     },
     "execution_count": 8,
     "metadata": {},
     "output_type": "execute_result"
    }
   ],
   "source": [
    "a.std(axis=0)"
   ]
  },
  {
   "cell_type": "code",
   "execution_count": 6,
   "id": "193c1f49-d069-413e-9bc4-45e04ee7961e",
   "metadata": {},
   "outputs": [
    {
     "name": "stdout",
     "output_type": "stream",
     "text": [
      "Lights... Cameras... ACTION OBJECT!\n"
     ]
    },
    {
     "data": {
      "text/plain": [
       "<UID: b72ffc4777e54d158f81002355ab9e25>"
      ]
     },
     "execution_count": 6,
     "metadata": {},
     "output_type": "execute_result"
    }
   ],
   "source": [
    "b = ActionObject(syft_action_data=data)\n",
    "b.id"
   ]
  },
  {
   "cell_type": "code",
   "execution_count": 9,
   "id": "bbafcf12-af4d-46ff-86ef-8ddc83623abc",
   "metadata": {},
   "outputs": [
    {
     "name": "stdout",
     "output_type": "stream",
     "text": [
      "We're making history... hashes.\n",
      "Lights... Cameras... ACTION OBJECT!\n"
     ]
    },
    {
     "data": {
      "text/plain": [
       "History: -3711062134419802598"
      ]
     },
     "execution_count": 9,
     "metadata": {},
     "output_type": "execute_result"
    }
   ],
   "source": [
    "a + 6"
   ]
  },
  {
   "cell_type": "code",
   "execution_count": 10,
   "id": "d65af556-2dcf-457f-9a11-cd774fda994f",
   "metadata": {},
   "outputs": [
    {
     "name": "stdout",
     "output_type": "stream",
     "text": [
      "We're making history... hashes.\n",
      "Lights... Cameras... ACTION OBJECT!\n"
     ]
    },
    {
     "data": {
      "text/plain": [
       "History: -4838454943041321254"
      ]
     },
     "execution_count": 10,
     "metadata": {},
     "output_type": "execute_result"
    }
   ],
   "source": [
    "a + 5"
   ]
  },
  {
   "cell_type": "code",
   "execution_count": 11,
   "id": "2afd86eb-419f-4ce2-a56a-3a878ea77c0b",
   "metadata": {},
   "outputs": [
    {
     "name": "stdout",
     "output_type": "stream",
     "text": [
      "We're making history... hashes.\n",
      "Lights... Cameras... ACTION OBJECT!\n"
     ]
    }
   ],
   "source": [
    "p = a + 5"
   ]
  },
  {
   "cell_type": "code",
   "execution_count": 12,
   "id": "8e4f0522-1b47-4075-8979-9f9b04a0e59d",
   "metadata": {},
   "outputs": [
    {
     "name": "stdout",
     "output_type": "stream",
     "text": [
      "We're making history... hashes.\n",
      "Lights... Cameras... ACTION OBJECT!\n"
     ]
    }
   ],
   "source": [
    "v = a.transpose()"
   ]
  },
  {
   "cell_type": "code",
   "execution_count": 13,
   "id": "2ff4a206-eb85-4dd8-a97a-3e23d38a5704",
   "metadata": {},
   "outputs": [
    {
     "name": "stdout",
     "output_type": "stream",
     "text": [
      "We're making history... hashes.\n",
      "Lights... Cameras... ACTION OBJECT!\n"
     ]
    },
    {
     "data": {
      "text/plain": [
       "History: 6131213075072729900"
      ]
     },
     "execution_count": 13,
     "metadata": {},
     "output_type": "execute_result"
    }
   ],
   "source": [
    "v = a + a\n",
    "v"
   ]
  },
  {
   "cell_type": "code",
   "execution_count": 14,
   "id": "04dc97d1-99c5-4ea7-86cb-fd1f42f191c0",
   "metadata": {},
   "outputs": [
    {
     "name": "stdout",
     "output_type": "stream",
     "text": [
      "We're making history... hashes.\n",
      "Lights... Cameras... ACTION OBJECT!\n"
     ]
    },
    {
     "data": {
      "text/plain": [
       "History: 9153372762820366171"
      ]
     },
     "execution_count": 14,
     "metadata": {},
     "output_type": "execute_result"
    }
   ],
   "source": [
    "v = a == a\n",
    "v"
   ]
  },
  {
   "cell_type": "code",
   "execution_count": 14,
   "id": "e87eb39d-6ba4-470e-91e8-27ce2c4a3e29",
   "metadata": {},
   "outputs": [
    {
     "data": {
      "text/plain": [
       "History: 8993198827105615052"
      ]
     },
     "execution_count": 14,
     "metadata": {},
     "output_type": "execute_result"
    }
   ],
   "source": [
    "v"
   ]
  },
  {
   "cell_type": "code",
   "execution_count": 15,
   "id": "e601b3ef-fca5-476e-b6d7-29d2f1107207",
   "metadata": {},
   "outputs": [
    {
     "data": {
      "text/plain": [
       "syft.core.common.uid.UID"
      ]
     },
     "execution_count": 15,
     "metadata": {},
     "output_type": "execute_result"
    }
   ],
   "source": [
    "type(v.id)"
   ]
  },
  {
   "cell_type": "code",
   "execution_count": 16,
   "id": "97cff54b-05df-463d-af8b-448886c8ac56",
   "metadata": {},
   "outputs": [
    {
     "name": "stdout",
     "output_type": "stream",
     "text": [
      "We're making history\n",
      "Lights... Cameras... ACTION OBJECT!\n"
     ]
    },
    {
     "data": {
      "text/plain": [
       "History: -18576999663428702"
      ]
     },
     "execution_count": 16,
     "metadata": {},
     "output_type": "execute_result"
    }
   ],
   "source": [
    "v2 = a + 6\n",
    "v2"
   ]
  },
  {
   "cell_type": "code",
   "execution_count": 17,
   "id": "1cebb1d3-5bf3-4908-bd5c-d63b77acbd34",
   "metadata": {},
   "outputs": [
    {
     "name": "stdout",
     "output_type": "stream",
     "text": [
      "We're making history\n",
      "Lights... Cameras... ACTION OBJECT!\n"
     ]
    },
    {
     "data": {
      "text/plain": [
       "History: -4829506950524717899"
      ]
     },
     "execution_count": 17,
     "metadata": {},
     "output_type": "execute_result"
    }
   ],
   "source": [
    "a + 5"
   ]
  },
  {
   "cell_type": "code",
   "execution_count": 18,
   "id": "9cf1416d-1049-4036-b7a9-670dc6f3568e",
   "metadata": {},
   "outputs": [
    {
     "data": {
      "text/plain": [
       "(<UID: 1fb24680501d48fe82da4e6d81066c3d>,\n",
       " <UID: b72ffc4777e54d158f81002355ab9e25>)"
      ]
     },
     "execution_count": 18,
     "metadata": {},
     "output_type": "execute_result"
    }
   ],
   "source": [
    "a.id, b.id"
   ]
  },
  {
   "cell_type": "code",
   "execution_count": 19,
   "id": "789d8d80-fe68-458c-b0d2-2d6eeb9d129b",
   "metadata": {},
   "outputs": [
    {
     "name": "stdout",
     "output_type": "stream",
     "text": [
      "We're making history\n",
      "Lights... Cameras... ACTION OBJECT!\n"
     ]
    },
    {
     "data": {
      "text/plain": [
       "History: 838615051158369992"
      ]
     },
     "execution_count": 19,
     "metadata": {},
     "output_type": "execute_result"
    }
   ],
   "source": [
    "c = a + b\n",
    "c"
   ]
  },
  {
   "cell_type": "code",
   "execution_count": 20,
   "id": "39319946-4992-4de0-a89c-6950beaac44f",
   "metadata": {},
   "outputs": [
    {
     "name": "stdout",
     "output_type": "stream",
     "text": [
      "We're making history\n",
      "Lights... Cameras... ACTION OBJECT!\n"
     ]
    },
    {
     "data": {
      "text/plain": [
       "History: 838615051158369992"
      ]
     },
     "execution_count": 20,
     "metadata": {},
     "output_type": "execute_result"
    }
   ],
   "source": [
    "a + b"
   ]
  },
  {
   "cell_type": "code",
   "execution_count": 21,
   "id": "6e619377-79e4-4595-8220-2d187660faf8",
   "metadata": {},
   "outputs": [
    {
     "data": {
      "text/plain": [
       "[<UID: b72ffc4777e54d158f81002355ab9e25>]"
      ]
     },
     "execution_count": 21,
     "metadata": {},
     "output_type": "execute_result"
    }
   ],
   "source": [
    "c.syft_parent_id"
   ]
  },
  {
   "cell_type": "code",
   "execution_count": 22,
   "id": "54c8fe44-3609-4fb9-ad96-241b912921b3",
   "metadata": {},
   "outputs": [
    {
     "name": "stdout",
     "output_type": "stream",
     "text": [
      "We're making history\n",
      "Lights... Cameras... ACTION OBJECT!\n"
     ]
    },
    {
     "data": {
      "text/plain": [
       "History: -7447429398961264511"
      ]
     },
     "execution_count": 22,
     "metadata": {},
     "output_type": "execute_result"
    }
   ],
   "source": [
    "d = b + a\n",
    "d"
   ]
  },
  {
   "cell_type": "code",
   "execution_count": 21,
   "id": "40a0b97e-6338-4739-a707-71acd70c070d",
   "metadata": {},
   "outputs": [
    {
     "name": "stdout",
     "output_type": "stream",
     "text": [
      "<class 'tuple'> (<ufunc 'add'>, (array([[ 0.26320744,  0.42057623,  0.97821957,  0.66036263, -0.455208  ,\n",
      "         0.53522391,  0.31649407,  0.0407967 ,  0.42753522,  0.96334865],\n",
      "       [ 0.05144174,  0.20800653, -0.41269607, -0.51113985,  0.18452361,\n",
      "        -0.13980118, -0.40930577, -0.37202163,  0.25566948, -0.46311769],\n",
      "       [-0.32654568, -0.27502359,  0.07283238,  0.38464479,  0.23018911,\n",
      "        -0.36986018,  0.47538614, -0.35619602, -0.95752165,  0.59723821],\n",
      "       [-0.19106782, -0.0781314 ,  0.94524308,  0.69524781, -0.23514045,\n",
      "        -0.55967342, -0.2552866 ,  0.91086411,  0.24642226, -0.50820123],\n",
      "       [ 0.51503809, -0.26179417,  0.68411117,  0.75031138, -0.20807713,\n",
      "         0.23333458, -0.40221741,  0.30878203,  0.74170343,  0.8424877 ],\n",
      "       [-0.59766815, -0.02380914,  0.21513482, -0.70394137,  0.50588239,\n",
      "        -0.98755633, -0.51765294, -0.96239706, -0.47455299, -0.88733002],\n",
      "       [ 0.58632083,  0.3242106 , -0.76415867,  0.85953175,  0.80015576,\n",
      "         0.48189849,  0.39276075, -0.7934871 ,  0.25634415, -0.78464005],\n",
      "       [-0.45525649,  0.25065794, -0.60437345,  0.35196534, -0.63895493,\n",
      "         0.0886745 , -0.6392117 ,  0.30332899,  0.03980236, -0.73733278],\n",
      "       [ 0.87347065, -0.71624591,  0.35949344,  0.24923444, -0.00610646,\n",
      "         0.80828498, -0.54307939,  0.2106622 , -0.67860523, -0.62471743],\n",
      "       [-0.95988547, -0.59305095,  0.74708761,  0.45704783, -0.48189817,\n",
      "        -0.40950295,  0.56697704,  0.04705557, -0.87363569, -0.97104847]]), History: None), 0)\n",
      "1 [<UID: 742fc32e6a404e9d99dcff7f97a4022c>]\n",
      "[<UID: 742fc32e6a404e9d99dcff7f97a4022c>]\n",
      "We got a parent and their op!\n",
      "1587900562259335929  <--- this is my history hash\n",
      "Lights... Cameras... ACTION OBJECT!\n",
      "WE FOUND ONE\n",
      "2 [<UID: cafdfa6762b84c4bacf2977080dce38d>, <UID: 742fc32e6a404e9d99dcff7f97a4022c>]\n"
     ]
    },
    {
     "data": {
      "text/plain": [
       "History: 1587900562259335929"
      ]
     },
     "execution_count": 21,
     "metadata": {},
     "output_type": "execute_result"
    }
   ],
   "source": [
    "e = a + b\n",
    "e"
   ]
  },
  {
   "cell_type": "markdown",
   "id": "92dfa4d8-a3e0-4750-8eb1-3bc9f0f278f7",
   "metadata": {},
   "source": []
  },
  {
   "cell_type": "code",
   "execution_count": 22,
   "id": "81a79aa1-39b8-411a-95f2-87707764d378",
   "metadata": {},
   "outputs": [
    {
     "data": {
      "text/plain": [
       "<function hash(obj, /)>"
      ]
     },
     "execution_count": 22,
     "metadata": {},
     "output_type": "execute_result"
    }
   ],
   "source": [
    "hash"
   ]
  },
  {
   "cell_type": "code",
   "execution_count": 23,
   "id": "99ec359b-eff8-43f2-a775-c30b07d3efe8",
   "metadata": {},
   "outputs": [
    {
     "data": {
      "text/plain": [
       "351961006087292445"
      ]
     },
     "execution_count": 23,
     "metadata": {},
     "output_type": "execute_result"
    }
   ],
   "source": [
    "hash(a.id)"
   ]
  },
  {
   "cell_type": "code",
   "execution_count": 24,
   "id": "db428fbd-ec3f-4aae-9d26-6f9e7437c667",
   "metadata": {},
   "outputs": [
    {
     "data": {
      "text/plain": [
       "int"
      ]
     },
     "execution_count": 24,
     "metadata": {},
     "output_type": "execute_result"
    }
   ],
   "source": [
    "type(hash(a.id))"
   ]
  },
  {
   "cell_type": "code",
   "execution_count": null,
   "id": "4dc3b2b4-9b47-4637-8323-5298537413d9",
   "metadata": {},
   "outputs": [],
   "source": []
  },
  {
   "cell_type": "code",
   "execution_count": 25,
   "id": "eba80465-4e50-4b71-b1e4-f8da7e5bbbd9",
   "metadata": {},
   "outputs": [
    {
     "name": "stdout",
     "output_type": "stream",
     "text": [
      "<class 'tuple'> (<ufunc 'equal'>, (array([[ 0.26320744,  0.42057623,  0.97821957,  0.66036263, -0.455208  ,\n",
      "         0.53522391,  0.31649407,  0.0407967 ,  0.42753522,  0.96334865],\n",
      "       [ 0.05144174,  0.20800653, -0.41269607, -0.51113985,  0.18452361,\n",
      "        -0.13980118, -0.40930577, -0.37202163,  0.25566948, -0.46311769],\n",
      "       [-0.32654568, -0.27502359,  0.07283238,  0.38464479,  0.23018911,\n",
      "        -0.36986018,  0.47538614, -0.35619602, -0.95752165,  0.59723821],\n",
      "       [-0.19106782, -0.0781314 ,  0.94524308,  0.69524781, -0.23514045,\n",
      "        -0.55967342, -0.2552866 ,  0.91086411,  0.24642226, -0.50820123],\n",
      "       [ 0.51503809, -0.26179417,  0.68411117,  0.75031138, -0.20807713,\n",
      "         0.23333458, -0.40221741,  0.30878203,  0.74170343,  0.8424877 ],\n",
      "       [-0.59766815, -0.02380914,  0.21513482, -0.70394137,  0.50588239,\n",
      "        -0.98755633, -0.51765294, -0.96239706, -0.47455299, -0.88733002],\n",
      "       [ 0.58632083,  0.3242106 , -0.76415867,  0.85953175,  0.80015576,\n",
      "         0.48189849,  0.39276075, -0.7934871 ,  0.25634415, -0.78464005],\n",
      "       [-0.45525649,  0.25065794, -0.60437345,  0.35196534, -0.63895493,\n",
      "         0.0886745 , -0.6392117 ,  0.30332899,  0.03980236, -0.73733278],\n",
      "       [ 0.87347065, -0.71624591,  0.35949344,  0.24923444, -0.00610646,\n",
      "         0.80828498, -0.54307939,  0.2106622 , -0.67860523, -0.62471743],\n",
      "       [-0.95988547, -0.59305095,  0.74708761,  0.45704783, -0.48189817,\n",
      "        -0.40950295,  0.56697704,  0.04705557, -0.87363569, -0.97104847]]), History: None), 0)\n",
      "1 [<UID: cafdfa6762b84c4bacf2977080dce38d>]\n",
      "[<UID: cafdfa6762b84c4bacf2977080dce38d>]\n",
      "We got a parent and their op!\n",
      "-8278011067452327721  <--- this is my history hash\n",
      "Lights... Cameras... ACTION OBJECT!\n",
      "WE FOUND ONE\n",
      "2 [<UID: cafdfa6762b84c4bacf2977080dce38d>, <UID: cafdfa6762b84c4bacf2977080dce38d>]\n"
     ]
    },
    {
     "data": {
      "text/plain": [
       "History: -8278011067452327721"
      ]
     },
     "execution_count": 25,
     "metadata": {},
     "output_type": "execute_result"
    }
   ],
   "source": [
    "a == a"
   ]
  },
  {
   "cell_type": "code",
   "execution_count": 26,
   "id": "54a692f3-1422-4507-b420-9b5b2b55bdec",
   "metadata": {},
   "outputs": [
    {
     "name": "stdout",
     "output_type": "stream",
     "text": [
      "<class 'int'> 5\n",
      "1 [<UID: cafdfa6762b84c4bacf2977080dce38d>]\n",
      "[<UID: cafdfa6762b84c4bacf2977080dce38d>]\n",
      "We got a parent and their op!\n",
      "-7044735904885987341  <--- this is my history hash\n",
      "Lights... Cameras... ACTION OBJECT!\n"
     ]
    }
   ],
   "source": [
    "c = a + 5"
   ]
  },
  {
   "cell_type": "code",
   "execution_count": 27,
   "id": "7251baff-2e00-41ac-ab19-9f6688b20a5c",
   "metadata": {},
   "outputs": [
    {
     "data": {
      "text/plain": [
       "<UID: cafdfa6762b84c4bacf2977080dce38d>"
      ]
     },
     "execution_count": 27,
     "metadata": {},
     "output_type": "execute_result"
    }
   ],
   "source": [
    "c.syft_parent_id"
   ]
  },
  {
   "cell_type": "code",
   "execution_count": 28,
   "id": "cc7bc50b-8744-42c6-949f-dff6e5ed3270",
   "metadata": {},
   "outputs": [
    {
     "name": "stdout",
     "output_type": "stream",
     "text": [
      "1 [<UID: cafdfa6762b84c4bacf2977080dce38d>]\n",
      "[<UID: cafdfa6762b84c4bacf2977080dce38d>]\n",
      "We got a parent and their op!\n",
      "-7794151430135992769  <--- this is my history hash\n",
      "Lights... Cameras... ACTION OBJECT!\n"
     ]
    },
    {
     "data": {
      "text/plain": [
       "History: -7794151430135992769"
      ]
     },
     "execution_count": 28,
     "metadata": {},
     "output_type": "execute_result"
    }
   ],
   "source": [
    "a.std()"
   ]
  },
  {
   "cell_type": "code",
   "execution_count": 29,
   "id": "ee4e2ceb-3246-459a-8d41-d556e8fd688b",
   "metadata": {},
   "outputs": [
    {
     "name": "stdout",
     "output_type": "stream",
     "text": [
      "<class 'tuple'> (<ufunc 'equal'>, (array([[ 0.26320744,  0.42057623,  0.97821957,  0.66036263, -0.455208  ,\n",
      "         0.53522391,  0.31649407,  0.0407967 ,  0.42753522,  0.96334865],\n",
      "       [ 0.05144174,  0.20800653, -0.41269607, -0.51113985,  0.18452361,\n",
      "        -0.13980118, -0.40930577, -0.37202163,  0.25566948, -0.46311769],\n",
      "       [-0.32654568, -0.27502359,  0.07283238,  0.38464479,  0.23018911,\n",
      "        -0.36986018,  0.47538614, -0.35619602, -0.95752165,  0.59723821],\n",
      "       [-0.19106782, -0.0781314 ,  0.94524308,  0.69524781, -0.23514045,\n",
      "        -0.55967342, -0.2552866 ,  0.91086411,  0.24642226, -0.50820123],\n",
      "       [ 0.51503809, -0.26179417,  0.68411117,  0.75031138, -0.20807713,\n",
      "         0.23333458, -0.40221741,  0.30878203,  0.74170343,  0.8424877 ],\n",
      "       [-0.59766815, -0.02380914,  0.21513482, -0.70394137,  0.50588239,\n",
      "        -0.98755633, -0.51765294, -0.96239706, -0.47455299, -0.88733002],\n",
      "       [ 0.58632083,  0.3242106 , -0.76415867,  0.85953175,  0.80015576,\n",
      "         0.48189849,  0.39276075, -0.7934871 ,  0.25634415, -0.78464005],\n",
      "       [-0.45525649,  0.25065794, -0.60437345,  0.35196534, -0.63895493,\n",
      "         0.0886745 , -0.6392117 ,  0.30332899,  0.03980236, -0.73733278],\n",
      "       [ 0.87347065, -0.71624591,  0.35949344,  0.24923444, -0.00610646,\n",
      "         0.80828498, -0.54307939,  0.2106622 , -0.67860523, -0.62471743],\n",
      "       [-0.95988547, -0.59305095,  0.74708761,  0.45704783, -0.48189817,\n",
      "        -0.40950295,  0.56697704,  0.04705557, -0.87363569, -0.97104847]]), History: None), 0)\n",
      "1 [<UID: cafdfa6762b84c4bacf2977080dce38d>]\n",
      "[<UID: cafdfa6762b84c4bacf2977080dce38d>]\n",
      "We got a parent and their op!\n",
      "-8278011067452327721  <--- this is my history hash\n",
      "Lights... Cameras... ACTION OBJECT!\n",
      "WE FOUND ONE\n",
      "2 [<UID: cafdfa6762b84c4bacf2977080dce38d>, <UID: cafdfa6762b84c4bacf2977080dce38d>]\n"
     ]
    },
    {
     "data": {
      "text/plain": [
       "syft.core.node.new.action_object.ActionObject"
      ]
     },
     "execution_count": 29,
     "metadata": {},
     "output_type": "execute_result"
    }
   ],
   "source": [
    "type(a==a)"
   ]
  },
  {
   "cell_type": "code",
   "execution_count": 30,
   "id": "e844c1cc-71e1-440b-b0a6-68a2f8b6fe6d",
   "metadata": {},
   "outputs": [
    {
     "name": "stdout",
     "output_type": "stream",
     "text": [
      "<class 'tuple'> (<ufunc 'add'>, (array([[ 0.26320744,  0.42057623,  0.97821957,  0.66036263, -0.455208  ,\n",
      "         0.53522391,  0.31649407,  0.0407967 ,  0.42753522,  0.96334865],\n",
      "       [ 0.05144174,  0.20800653, -0.41269607, -0.51113985,  0.18452361,\n",
      "        -0.13980118, -0.40930577, -0.37202163,  0.25566948, -0.46311769],\n",
      "       [-0.32654568, -0.27502359,  0.07283238,  0.38464479,  0.23018911,\n",
      "        -0.36986018,  0.47538614, -0.35619602, -0.95752165,  0.59723821],\n",
      "       [-0.19106782, -0.0781314 ,  0.94524308,  0.69524781, -0.23514045,\n",
      "        -0.55967342, -0.2552866 ,  0.91086411,  0.24642226, -0.50820123],\n",
      "       [ 0.51503809, -0.26179417,  0.68411117,  0.75031138, -0.20807713,\n",
      "         0.23333458, -0.40221741,  0.30878203,  0.74170343,  0.8424877 ],\n",
      "       [-0.59766815, -0.02380914,  0.21513482, -0.70394137,  0.50588239,\n",
      "        -0.98755633, -0.51765294, -0.96239706, -0.47455299, -0.88733002],\n",
      "       [ 0.58632083,  0.3242106 , -0.76415867,  0.85953175,  0.80015576,\n",
      "         0.48189849,  0.39276075, -0.7934871 ,  0.25634415, -0.78464005],\n",
      "       [-0.45525649,  0.25065794, -0.60437345,  0.35196534, -0.63895493,\n",
      "         0.0886745 , -0.6392117 ,  0.30332899,  0.03980236, -0.73733278],\n",
      "       [ 0.87347065, -0.71624591,  0.35949344,  0.24923444, -0.00610646,\n",
      "         0.80828498, -0.54307939,  0.2106622 , -0.67860523, -0.62471743],\n",
      "       [-0.95988547, -0.59305095,  0.74708761,  0.45704783, -0.48189817,\n",
      "        -0.40950295,  0.56697704,  0.04705557, -0.87363569, -0.97104847]]), History: None), 0)\n",
      "1 [<UID: cafdfa6762b84c4bacf2977080dce38d>]\n",
      "[<UID: cafdfa6762b84c4bacf2977080dce38d>]\n",
      "We got a parent and their op!\n",
      "-8278011067452327721  <--- this is my history hash\n",
      "Lights... Cameras... ACTION OBJECT!\n",
      "WE FOUND ONE\n",
      "2 [<UID: cafdfa6762b84c4bacf2977080dce38d>, <UID: cafdfa6762b84c4bacf2977080dce38d>]\n"
     ]
    }
   ],
   "source": [
    "b = a + a"
   ]
  },
  {
   "cell_type": "code",
   "execution_count": 31,
   "id": "acc7af62-7519-4020-b2c9-e9d42bc6f453",
   "metadata": {},
   "outputs": [
    {
     "data": {
      "text/plain": [
       "<UID: cafdfa6762b84c4bacf2977080dce38d>"
      ]
     },
     "execution_count": 31,
     "metadata": {},
     "output_type": "execute_result"
    }
   ],
   "source": [
    "b.syft_parent_id"
   ]
  },
  {
   "cell_type": "code",
   "execution_count": null,
   "id": "37057633-72d7-411f-9a23-f6d0fed9b9b5",
   "metadata": {},
   "outputs": [],
   "source": [
    "from datetime import datetime"
   ]
  },
  {
   "cell_type": "code",
   "execution_count": null,
   "id": "55c049b6-8ee5-474c-ae08-5ed7b77c1395",
   "metadata": {},
   "outputs": [],
   "source": [
    "datetime.now()"
   ]
  },
  {
   "cell_type": "code",
   "execution_count": null,
   "id": "88e5a0f0-39ca-46cf-8044-1f00f9d66fd5",
   "metadata": {},
   "outputs": [],
   "source": [
    "from typing import Callable\n",
    "import numpy as np\n",
    "\n",
    "# This is our decorator\n",
    "def submit_to_domain_node(user_func: Callable, user_input: np.ndarray, policy, constraint, output_args):\n",
    "    print(\"We would try to check that the verify key is correct\")\n",
    "    print(\"We "
   ]
  },
  {
   "cell_type": "code",
   "execution_count": null,
   "id": "655c2a89-6c57-4d77-b32c-e2162d27e886",
   "metadata": {},
   "outputs": [],
   "source": [
    "def parent(num):\n",
    "    \n",
    "    def first_child():\n",
    "        return \"Emily\"\n",
    "    \n",
    "    def second_child():\n",
    "        return \"George\"\n",
    "    \n",
    "    if num == 1:\n",
    "        return first_child\n",
    "    else:\n",
    "        return second_child"
   ]
  },
  {
   "cell_type": "code",
   "execution_count": 45,
   "id": "64fdfdbf-ea50-42f3-b635-292dba9edbc4",
   "metadata": {},
   "outputs": [],
   "source": [
    "def decorator(func):\n",
    "    def wrapper(*args, **kwargs):\n",
    "        print(\"Something happens before the function\")\n",
    "        print(args)\n",
    "        print(kwargs)\n",
    "        for k in kwargs:\n",
    "            print(k, type(k))\n",
    "        print([hash(kwarg) for kwarg in kwargs])\n",
    "        func()\n",
    "        print(\"Something happens after the function\")\n",
    "    return wrapper"
   ]
  },
  {
   "cell_type": "code",
   "execution_count": 46,
   "id": "0fdf983d-57f8-4347-932d-773610bf965a",
   "metadata": {},
   "outputs": [],
   "source": [
    "def say_whee(num, setup):\n",
    "    print(setup)\n",
    "    print(\"Whee!\" * num)\n",
    "\n",
    "say_whee = decorator(say_whee)"
   ]
  },
  {
   "cell_type": "code",
   "execution_count": 47,
   "id": "4ca6b042-9cd3-4702-8252-0630b376ab9c",
   "metadata": {},
   "outputs": [
    {
     "name": "stdout",
     "output_type": "stream",
     "text": [
      "Something happens before the function\n",
      "(5,)\n",
      "{'setup': 10}\n",
      "setup <class 'str'>\n",
      "[-8415799926645800496]\n"
     ]
    },
    {
     "ename": "TypeError",
     "evalue": "say_whee() missing 2 required positional arguments: 'num' and 'setup'",
     "output_type": "error",
     "traceback": [
      "\u001b[0;31m---------------------------------------------------------------------------\u001b[0m",
      "\u001b[0;31mTypeError\u001b[0m                                 Traceback (most recent call last)",
      "\u001b[0;32m/tmp/ipykernel_13008/3317406841.py\u001b[0m in \u001b[0;36m<module>\u001b[0;34m\u001b[0m\n\u001b[0;32m----> 1\u001b[0;31m \u001b[0msay_whee\u001b[0m\u001b[0;34m(\u001b[0m\u001b[0;36m5\u001b[0m\u001b[0;34m,\u001b[0m \u001b[0msetup\u001b[0m\u001b[0;34m=\u001b[0m\u001b[0;36m10\u001b[0m\u001b[0;34m)\u001b[0m\u001b[0;34m\u001b[0m\u001b[0;34m\u001b[0m\u001b[0m\n\u001b[0m",
      "\u001b[0;32m/tmp/ipykernel_13008/3552463790.py\u001b[0m in \u001b[0;36mwrapper\u001b[0;34m(*args, **kwargs)\u001b[0m\n\u001b[1;32m      7\u001b[0m             \u001b[0mprint\u001b[0m\u001b[0;34m(\u001b[0m\u001b[0mk\u001b[0m\u001b[0;34m,\u001b[0m \u001b[0mtype\u001b[0m\u001b[0;34m(\u001b[0m\u001b[0mk\u001b[0m\u001b[0;34m)\u001b[0m\u001b[0;34m)\u001b[0m\u001b[0;34m\u001b[0m\u001b[0;34m\u001b[0m\u001b[0m\n\u001b[1;32m      8\u001b[0m         \u001b[0mprint\u001b[0m\u001b[0;34m(\u001b[0m\u001b[0;34m[\u001b[0m\u001b[0mhash\u001b[0m\u001b[0;34m(\u001b[0m\u001b[0mkwarg\u001b[0m\u001b[0;34m)\u001b[0m \u001b[0;32mfor\u001b[0m \u001b[0mkwarg\u001b[0m \u001b[0;32min\u001b[0m \u001b[0mkwargs\u001b[0m\u001b[0;34m]\u001b[0m\u001b[0;34m)\u001b[0m\u001b[0;34m\u001b[0m\u001b[0;34m\u001b[0m\u001b[0m\n\u001b[0;32m----> 9\u001b[0;31m         \u001b[0mfunc\u001b[0m\u001b[0;34m(\u001b[0m\u001b[0;34m)\u001b[0m\u001b[0;34m\u001b[0m\u001b[0;34m\u001b[0m\u001b[0m\n\u001b[0m\u001b[1;32m     10\u001b[0m         \u001b[0mprint\u001b[0m\u001b[0;34m(\u001b[0m\u001b[0;34m\"Something happens after the function\"\u001b[0m\u001b[0;34m)\u001b[0m\u001b[0;34m\u001b[0m\u001b[0;34m\u001b[0m\u001b[0m\n\u001b[1;32m     11\u001b[0m     \u001b[0;32mreturn\u001b[0m \u001b[0mwrapper\u001b[0m\u001b[0;34m\u001b[0m\u001b[0;34m\u001b[0m\u001b[0m\n",
      "\u001b[0;31mTypeError\u001b[0m: say_whee() missing 2 required positional arguments: 'num' and 'setup'"
     ]
    }
   ],
   "source": [
    "say_whee(5, setup=10)"
   ]
  },
  {
   "cell_type": "code",
   "execution_count": null,
   "id": "9b1e4a4f-8c56-42bb-a80a-1a9e1ceb8372",
   "metadata": {},
   "outputs": [],
   "source": [
    "@decorator\n",
    "def say_boo():\n",
    "    print(\"Booo!\")"
   ]
  },
  {
   "cell_type": "code",
   "execution_count": null,
   "id": "0da700df-0656-4474-80d5-c75f4c0dea25",
   "metadata": {},
   "outputs": [],
   "source": [
    "say_boo()"
   ]
  },
  {
   "cell_type": "code",
   "execution_count": null,
   "id": "ce698418-c64a-4a0c-91b9-a6ec56b99be3",
   "metadata": {},
   "outputs": [],
   "source": []
  }
 ],
 "metadata": {
  "kernelspec": {
   "display_name": "Python 3 (ipykernel)",
   "language": "python",
   "name": "python3"
  },
  "language_info": {
   "codemirror_mode": {
    "name": "ipython",
    "version": 3
   },
   "file_extension": ".py",
   "mimetype": "text/x-python",
   "name": "python",
   "nbconvert_exporter": "python",
   "pygments_lexer": "ipython3",
   "version": "3.9.7"
  }
 },
 "nbformat": 4,
 "nbformat_minor": 5
}
