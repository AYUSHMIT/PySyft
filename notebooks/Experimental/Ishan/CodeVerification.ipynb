{
 "cells": [
  {
   "cell_type": "code",
   "execution_count": 11,
   "id": "37057633-72d7-411f-9a23-f6d0fed9b9b5",
   "metadata": {},
   "outputs": [],
   "source": [
    "from datetime import datetime"
   ]
  },
  {
   "cell_type": "code",
   "execution_count": 12,
   "id": "55c049b6-8ee5-474c-ae08-5ed7b77c1395",
   "metadata": {},
   "outputs": [
    {
     "data": {
      "text/plain": [
       "datetime.datetime(2023, 1, 23, 15, 49, 48, 622675)"
      ]
     },
     "execution_count": 12,
     "metadata": {},
     "output_type": "execute_result"
    }
   ],
   "source": [
    "datetime.now()"
   ]
  },
  {
   "cell_type": "code",
   "execution_count": null,
   "id": "88e5a0f0-39ca-46cf-8044-1f00f9d66fd5",
   "metadata": {},
   "outputs": [],
   "source": [
    "from typing import Callable\n",
    "import numpy as np\n",
    "\n",
    "# This is our decorator\n",
    "def submit_to_domain_node(user_func: Callable, user_input: np.ndarray, policy, constraint):\n",
    "    print(\"We would try to check that the verify key is correct\")\n",
    "    print(\"We "
   ]
  },
  {
   "cell_type": "code",
   "execution_count": 1,
   "id": "655c2a89-6c57-4d77-b32c-e2162d27e886",
   "metadata": {},
   "outputs": [],
   "source": [
    "def parent(num):\n",
    "    \n",
    "    def first_child():\n",
    "        return \"Emily\"\n",
    "    \n",
    "    def second_child():\n",
    "        return \"George\"\n",
    "    \n",
    "    if num == 1:\n",
    "        return first_child\n",
    "    else:\n",
    "        return second_child"
   ]
  },
  {
   "cell_type": "code",
   "execution_count": 5,
   "id": "64fdfdbf-ea50-42f3-b635-292dba9edbc4",
   "metadata": {},
   "outputs": [],
   "source": [
    "def decorator(func):\n",
    "    def wrapper():\n",
    "        print(\"Something happens before the function\")\n",
    "        func()\n",
    "        print(\"Something happens after the function\")\n",
    "    return wrapper"
   ]
  },
  {
   "cell_type": "code",
   "execution_count": 6,
   "id": "0fdf983d-57f8-4347-932d-773610bf965a",
   "metadata": {},
   "outputs": [],
   "source": [
    "def say_whee():\n",
    "    print(\"Whee!\")\n",
    "\n",
    "say_whee = decorator(say_whee)"
   ]
  },
  {
   "cell_type": "code",
   "execution_count": 7,
   "id": "4ca6b042-9cd3-4702-8252-0630b376ab9c",
   "metadata": {},
   "outputs": [
    {
     "name": "stdout",
     "output_type": "stream",
     "text": [
      "Something happens before the function\n",
      "Whee!\n",
      "Something happens after the function\n"
     ]
    }
   ],
   "source": [
    "say_whee()"
   ]
  },
  {
   "cell_type": "code",
   "execution_count": 8,
   "id": "9b1e4a4f-8c56-42bb-a80a-1a9e1ceb8372",
   "metadata": {},
   "outputs": [],
   "source": [
    "@decorator\n",
    "def say_boo():\n",
    "    print(\"Booo!\")"
   ]
  },
  {
   "cell_type": "code",
   "execution_count": 10,
   "id": "0da700df-0656-4474-80d5-c75f4c0dea25",
   "metadata": {},
   "outputs": [
    {
     "name": "stdout",
     "output_type": "stream",
     "text": [
      "Something happens before the function\n",
      "Booo!\n",
      "Something happens after the function\n"
     ]
    }
   ],
   "source": [
    "say_boo()"
   ]
  },
  {
   "cell_type": "code",
   "execution_count": null,
   "id": "ce698418-c64a-4a0c-91b9-a6ec56b99be3",
   "metadata": {},
   "outputs": [],
   "source": []
  }
 ],
 "metadata": {
  "kernelspec": {
   "display_name": "Python 3 (ipykernel)",
   "language": "python",
   "name": "python3"
  },
  "language_info": {
   "codemirror_mode": {
    "name": "ipython",
    "version": 3
   },
   "file_extension": ".py",
   "mimetype": "text/x-python",
   "name": "python",
   "nbconvert_exporter": "python",
   "pygments_lexer": "ipython3",
   "version": "3.9.7"
  }
 },
 "nbformat": 4,
 "nbformat_minor": 5
}
