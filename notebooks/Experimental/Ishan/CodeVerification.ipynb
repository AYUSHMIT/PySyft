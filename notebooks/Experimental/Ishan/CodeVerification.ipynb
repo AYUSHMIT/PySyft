{
 "cells": [
  {
   "cell_type": "markdown",
   "id": "50c08728-798e-4e0e-b6bb-5cd715e497a0",
   "metadata": {
    "tags": []
   },
   "source": [
    "### To Do\n",
    "- Add a hash to every ActionObject\n",
    "- Make every ActionObject that's created from other ActionObjects have an automatic hash \n",
    "- Check if ActionObjects work with the dataset API\n",
    "- Bonus: Maybe see if we can stitch together Code Verification and Code Submission!"
   ]
  },
  {
   "cell_type": "code",
   "execution_count": 4,
   "id": "1f05df3c-a7d6-4042-8921-bb37dc97bd47",
   "metadata": {},
   "outputs": [],
   "source": [
    "from syft.core.node.new.action_object import ActionObject"
   ]
  },
  {
   "cell_type": "code",
   "execution_count": 5,
   "id": "4cfdd853-bf9d-4aab-9c7f-a824c8633c02",
   "metadata": {},
   "outputs": [],
   "source": [
    "import numpy as np"
   ]
  },
  {
   "cell_type": "code",
   "execution_count": 6,
   "id": "d421936c-c0fc-4eb6-8a2d-9f669029f822",
   "metadata": {},
   "outputs": [],
   "source": [
    "data = 2*np.random.rand(10,10)-1"
   ]
  },
  {
   "cell_type": "code",
   "execution_count": 7,
   "id": "b01e57aa-7265-424c-8717-812a93973fb7",
   "metadata": {},
   "outputs": [
    {
     "name": "stdout",
     "output_type": "stream",
     "text": [
      "Lights... Cameras... ACTION OBJECT!\n"
     ]
    }
   ],
   "source": [
    "a = ActionObject(syft_action_data=data)"
   ]
  },
  {
   "cell_type": "code",
   "execution_count": 8,
   "id": "f0bf1659-8bc6-46b8-a3d6-0110059c24ec",
   "metadata": {},
   "outputs": [
    {
     "data": {
      "text/plain": [
       "'ActionObject'"
      ]
     },
     "execution_count": 8,
     "metadata": {},
     "output_type": "execute_result"
    }
   ],
   "source": [
    "a.__canonical_name__"
   ]
  },
  {
   "cell_type": "code",
   "execution_count": 23,
   "id": "99ec359b-eff8-43f2-a775-c30b07d3efe8",
   "metadata": {},
   "outputs": [
    {
     "data": {
      "text/plain": [
       "929978662194457352"
      ]
     },
     "execution_count": 23,
     "metadata": {},
     "output_type": "execute_result"
    }
   ],
   "source": [
    "hash(a.id)"
   ]
  },
  {
   "cell_type": "code",
   "execution_count": 24,
   "id": "db428fbd-ec3f-4aae-9d26-6f9e7437c667",
   "metadata": {},
   "outputs": [
    {
     "data": {
      "text/plain": [
       "int"
      ]
     },
     "execution_count": 24,
     "metadata": {},
     "output_type": "execute_result"
    }
   ],
   "source": [
    "type(hash(a.id))"
   ]
  },
  {
   "cell_type": "code",
   "execution_count": null,
   "id": "4dc3b2b4-9b47-4637-8323-5298537413d9",
   "metadata": {},
   "outputs": [],
   "source": []
  },
  {
   "cell_type": "code",
   "execution_count": 9,
   "id": "eba80465-4e50-4b71-b1e4-f8da7e5bbbd9",
   "metadata": {},
   "outputs": [
    {
     "name": "stdout",
     "output_type": "stream",
     "text": [
      "Lights... Cameras... ACTION OBJECT!\n",
      "Lights... Cameras... ACTION OBJECT!\n",
      "custom repr\n"
     ]
    },
    {
     "data": {
      "text/plain": [
       "array([[ True,  True,  True,  True,  True,  True,  True,  True,  True,\n",
       "         True],\n",
       "       [ True,  True,  True,  True,  True,  True,  True,  True,  True,\n",
       "         True],\n",
       "       [ True,  True,  True,  True,  True,  True,  True,  True,  True,\n",
       "         True],\n",
       "       [ True,  True,  True,  True,  True,  True,  True,  True,  True,\n",
       "         True],\n",
       "       [ True,  True,  True,  True,  True,  True,  True,  True,  True,\n",
       "         True],\n",
       "       [ True,  True,  True,  True,  True,  True,  True,  True,  True,\n",
       "         True],\n",
       "       [ True,  True,  True,  True,  True,  True,  True,  True,  True,\n",
       "         True],\n",
       "       [ True,  True,  True,  True,  True,  True,  True,  True,  True,\n",
       "         True],\n",
       "       [ True,  True,  True,  True,  True,  True,  True,  True,  True,\n",
       "         True],\n",
       "       [ True,  True,  True,  True,  True,  True,  True,  True,  True,\n",
       "         True]])"
      ]
     },
     "execution_count": 9,
     "metadata": {},
     "output_type": "execute_result"
    }
   ],
   "source": [
    "a == a"
   ]
  },
  {
   "cell_type": "code",
   "execution_count": 19,
   "id": "54a692f3-1422-4507-b420-9b5b2b55bdec",
   "metadata": {},
   "outputs": [
    {
     "name": "stdout",
     "output_type": "stream",
     "text": [
      "Lights... Cameras... ACTION OBJECT!\n"
     ]
    }
   ],
   "source": [
    "c = a + 5"
   ]
  },
  {
   "cell_type": "code",
   "execution_count": 20,
   "id": "7251baff-2e00-41ac-ab19-9f6688b20a5c",
   "metadata": {},
   "outputs": [],
   "source": [
    "c.syft_parent_id"
   ]
  },
  {
   "cell_type": "code",
   "execution_count": 15,
   "id": "cc7bc50b-8744-42c6-949f-dff6e5ed3270",
   "metadata": {},
   "outputs": [
    {
     "name": "stdout",
     "output_type": "stream",
     "text": [
      "Lights... Cameras... ACTION OBJECT!\n",
      "custom repr\n"
     ]
    },
    {
     "data": {
      "text/plain": [
       "0.5851293838325092"
      ]
     },
     "execution_count": 15,
     "metadata": {},
     "output_type": "execute_result"
    }
   ],
   "source": [
    "a.std()"
   ]
  },
  {
   "cell_type": "code",
   "execution_count": 10,
   "id": "ee4e2ceb-3246-459a-8d41-d556e8fd688b",
   "metadata": {},
   "outputs": [
    {
     "name": "stdout",
     "output_type": "stream",
     "text": [
      "Lights... Cameras... ACTION OBJECT!\n",
      "Lights... Cameras... ACTION OBJECT!\n"
     ]
    },
    {
     "data": {
      "text/plain": [
       "syft.core.node.new.action_object.ActionObject"
      ]
     },
     "execution_count": 10,
     "metadata": {},
     "output_type": "execute_result"
    }
   ],
   "source": [
    "type(a==a)"
   ]
  },
  {
   "cell_type": "code",
   "execution_count": 8,
   "id": "e844c1cc-71e1-440b-b0a6-68a2f8b6fe6d",
   "metadata": {},
   "outputs": [
    {
     "name": "stdout",
     "output_type": "stream",
     "text": [
      "Are we here?  _syft_output_action_object\n",
      "Are we here?  __add__\n",
      "Are we here?  __dict__\n",
      "Are we here?  __private_attributes__\n",
      "Are we here?  syft_action_data\n",
      "Are we here?  syft_action_data\n",
      "Are we here?  _syft_run_pre_hooks__\n",
      "Are we here?  syft_pre_hooks__\n",
      "Are we here?  __array_priority__\n",
      "Are we here?  __dict__\n",
      "Are we here?  __private_attributes__\n",
      "Are we here?  syft_action_data\n",
      "Are we here?  _syft_run_pre_hooks__\n",
      "Are we here?  syft_pre_hooks__\n",
      "Are we here?  _syft_run_post_hooks__\n",
      "Are we here?  syft_post_hooks__\n",
      "Are we here?  _syft_output_action_object\n",
      "Are we here?  __class__\n",
      "Are we here?  _init_private_attributes\n",
      "Are we here?  __private_attributes__\n",
      "Are we here?  _syft_set_validate_private_attrs_\n",
      "Are we here?  __private_attributes__\n",
      "Are we here?  __post_init__\n",
      "Lights... Cameras... ACTION OBJECT!\n",
      "Are we here?  __array_struct__\n",
      "Are we here?  __dict__\n",
      "Are we here?  __private_attributes__\n",
      "Are we here?  syft_action_data\n",
      "Are we here?  _syft_run_pre_hooks__\n",
      "Are we here?  syft_pre_hooks__\n",
      "Are we here?  _syft_run_post_hooks__\n",
      "Are we here?  syft_post_hooks__\n",
      "Are we here?  __array_prepare__\n",
      "Are we here?  __dict__\n",
      "Are we here?  __private_attributes__\n",
      "Are we here?  syft_action_data\n",
      "Are we here?  syft_action_data\n",
      "Are we here?  _syft_run_pre_hooks__\n",
      "Are we here?  syft_pre_hooks__\n",
      "Are we here?  _syft_run_post_hooks__\n",
      "Are we here?  syft_post_hooks__\n",
      "Are we here?  __array_wrap__\n",
      "Are we here?  __dict__\n",
      "Are we here?  __private_attributes__\n",
      "Are we here?  syft_action_data\n",
      "Are we here?  syft_action_data\n",
      "Are we here?  _syft_run_pre_hooks__\n",
      "Are we here?  syft_pre_hooks__\n",
      "Are we here?  _syft_run_post_hooks__\n",
      "Are we here?  syft_post_hooks__\n",
      "Are we here?  _syft_output_action_object\n",
      "Are we here?  __class__\n",
      "Are we here?  _init_private_attributes\n",
      "Are we here?  __private_attributes__\n",
      "Are we here?  _syft_set_validate_private_attrs_\n",
      "Are we here?  __private_attributes__\n",
      "Are we here?  __post_init__\n",
      "Lights... Cameras... ACTION OBJECT!\n",
      "Are we here?  _syft_run_post_hooks__\n",
      "Are we here?  syft_post_hooks__\n",
      "Are we here?  _syft_output_action_object\n"
     ]
    }
   ],
   "source": [
    "b = a + a"
   ]
  },
  {
   "cell_type": "code",
   "execution_count": 9,
   "id": "acc7af62-7519-4020-b2c9-e9d42bc6f453",
   "metadata": {},
   "outputs": [
    {
     "name": "stdout",
     "output_type": "stream",
     "text": [
      "Are we here?  syft_parent_id\n"
     ]
    }
   ],
   "source": [
    "b.syft_parent_id"
   ]
  },
  {
   "cell_type": "code",
   "execution_count": 1,
   "id": "e8b34062-e3a2-4693-a13e-d59d310ce98b",
   "metadata": {},
   "outputs": [],
   "source": [
    "import syft as sy"
   ]
  },
  {
   "cell_type": "code",
   "execution_count": 2,
   "id": "706c0d08-7d4e-41f2-8d0a-b5493d85c7c2",
   "metadata": {},
   "outputs": [
    {
     "name": "stdout",
     "output_type": "stream",
     "text": [
      "\u001b[93mWARNING:\u001b[0m CHANGE YOUR USERNAME AND PASSWORD!!! \n",
      "\n",
      "Anyone can login as an admin to your node right now because your password is still the default PySyft username and password!!!\n",
      "\n",
      "Connecting to localhost... done! \t Logging into angry_knuth... done!\n"
     ]
    }
   ],
   "source": [
    "domain = sy.login(email=\"info@openmined.org\", password=\"changethis\", port=8081)"
   ]
  },
  {
   "cell_type": "code",
   "execution_count": 3,
   "id": "434c912a-f1dc-485c-89bc-2e988d448b7f",
   "metadata": {},
   "outputs": [
    {
     "data": {
      "text/html": [
       "<div>\n",
       "<style scoped>\n",
       "    .dataframe tbody tr th:only-of-type {\n",
       "        vertical-align: middle;\n",
       "    }\n",
       "\n",
       "    .dataframe tbody tr th {\n",
       "        vertical-align: top;\n",
       "    }\n",
       "\n",
       "    .dataframe thead th {\n",
       "        text-align: right;\n",
       "    }\n",
       "</style>\n",
       "<table border=\"1\" class=\"dataframe\">\n",
       "  <thead>\n",
       "    <tr style=\"text-align: right;\">\n",
       "      <th></th>\n",
       "    </tr>\n",
       "  </thead>\n",
       "  <tbody>\n",
       "  </tbody>\n",
       "</table>\n",
       "</div>"
      ],
      "text/plain": [
       "[]"
      ]
     },
     "execution_count": 3,
     "metadata": {},
     "output_type": "execute_result"
    }
   ],
   "source": [
    "domain.requests"
   ]
  },
  {
   "cell_type": "code",
   "execution_count": 4,
   "id": "5ba49d00-469d-4527-84da-0d65c2431590",
   "metadata": {},
   "outputs": [
    {
     "data": {
      "text/plain": [
       "syft.core.node.domain_client.RequestQueueClient"
      ]
     },
     "execution_count": 4,
     "metadata": {},
     "output_type": "execute_result"
    }
   ],
   "source": [
    "type(domain.requests)"
   ]
  },
  {
   "cell_type": "code",
   "execution_count": 11,
   "id": "37057633-72d7-411f-9a23-f6d0fed9b9b5",
   "metadata": {},
   "outputs": [],
   "source": [
    "from datetime import datetime"
   ]
  },
  {
   "cell_type": "code",
   "execution_count": 12,
   "id": "55c049b6-8ee5-474c-ae08-5ed7b77c1395",
   "metadata": {},
   "outputs": [
    {
     "data": {
      "text/plain": [
       "datetime.datetime(2023, 1, 23, 15, 49, 48, 622675)"
      ]
     },
     "execution_count": 12,
     "metadata": {},
     "output_type": "execute_result"
    }
   ],
   "source": [
    "datetime.now()"
   ]
  },
  {
   "cell_type": "code",
   "execution_count": null,
   "id": "88e5a0f0-39ca-46cf-8044-1f00f9d66fd5",
   "metadata": {},
   "outputs": [],
   "source": [
    "from typing import Callable\n",
    "import numpy as np\n",
    "\n",
    "# This is our decorator\n",
    "def submit_to_domain_node(user_func: Callable, user_input: np.ndarray, policy, constraint, output_args):\n",
    "    print(\"We would try to check that the verify key is correct\")\n",
    "    print(\"We "
   ]
  },
  {
   "cell_type": "code",
   "execution_count": 1,
   "id": "655c2a89-6c57-4d77-b32c-e2162d27e886",
   "metadata": {},
   "outputs": [],
   "source": [
    "def parent(num):\n",
    "    \n",
    "    def first_child():\n",
    "        return \"Emily\"\n",
    "    \n",
    "    def second_child():\n",
    "        return \"George\"\n",
    "    \n",
    "    if num == 1:\n",
    "        return first_child\n",
    "    else:\n",
    "        return second_child"
   ]
  },
  {
   "cell_type": "code",
   "execution_count": 5,
   "id": "64fdfdbf-ea50-42f3-b635-292dba9edbc4",
   "metadata": {},
   "outputs": [],
   "source": [
    "def decorator(func):\n",
    "    def wrapper():\n",
    "        print(\"Something happens before the function\")\n",
    "        func()\n",
    "        print(\"Something happens after the function\")\n",
    "    return wrapper"
   ]
  },
  {
   "cell_type": "code",
   "execution_count": 6,
   "id": "0fdf983d-57f8-4347-932d-773610bf965a",
   "metadata": {},
   "outputs": [],
   "source": [
    "def say_whee():\n",
    "    print(\"Whee!\")\n",
    "\n",
    "say_whee = decorator(say_whee)"
   ]
  },
  {
   "cell_type": "code",
   "execution_count": 7,
   "id": "4ca6b042-9cd3-4702-8252-0630b376ab9c",
   "metadata": {},
   "outputs": [
    {
     "name": "stdout",
     "output_type": "stream",
     "text": [
      "Something happens before the function\n",
      "Whee!\n",
      "Something happens after the function\n"
     ]
    }
   ],
   "source": [
    "say_whee()"
   ]
  },
  {
   "cell_type": "code",
   "execution_count": 8,
   "id": "9b1e4a4f-8c56-42bb-a80a-1a9e1ceb8372",
   "metadata": {},
   "outputs": [],
   "source": [
    "@decorator\n",
    "def say_boo():\n",
    "    print(\"Booo!\")"
   ]
  },
  {
   "cell_type": "code",
   "execution_count": 10,
   "id": "0da700df-0656-4474-80d5-c75f4c0dea25",
   "metadata": {},
   "outputs": [
    {
     "name": "stdout",
     "output_type": "stream",
     "text": [
      "Something happens before the function\n",
      "Booo!\n",
      "Something happens after the function\n"
     ]
    }
   ],
   "source": [
    "say_boo()"
   ]
  },
  {
   "cell_type": "code",
   "execution_count": null,
   "id": "ce698418-c64a-4a0c-91b9-a6ec56b99be3",
   "metadata": {},
   "outputs": [],
   "source": []
  }
 ],
 "metadata": {
  "kernelspec": {
   "display_name": "Python 3 (ipykernel)",
   "language": "python",
   "name": "python3"
  },
  "language_info": {
   "codemirror_mode": {
    "name": "ipython",
    "version": 3
   },
   "file_extension": ".py",
   "mimetype": "text/x-python",
   "name": "python",
   "nbconvert_exporter": "python",
   "pygments_lexer": "ipython3",
   "version": "3.9.7"
  }
 },
 "nbformat": 4,
 "nbformat_minor": 5
}
