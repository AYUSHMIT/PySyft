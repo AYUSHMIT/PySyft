{
 "cells": [
  {
   "cell_type": "code",
   "execution_count": 1,
   "id": "f435c350-850a-4f1e-a3c7-81cf797b9195",
   "metadata": {
    "tags": []
   },
   "outputs": [],
   "source": [
    "import syft as sy"
   ]
  },
  {
   "cell_type": "code",
   "execution_count": 2,
   "id": "74b13a8a-5eea-4b7e-922c-472b24326e66",
   "metadata": {
    "tags": []
   },
   "outputs": [],
   "source": [
    "# !open file:///var/folders/6_/7xx0tpq16h9cn40mq4w5gjk80000gn/T/5257586a4579fd12221c855b9cacf4c5.sqlite\n"
   ]
  },
  {
   "cell_type": "code",
   "execution_count": 3,
   "id": "16c1adff-a70a-4346-a820-81fd5db15fad",
   "metadata": {
    "tags": []
   },
   "outputs": [
    {
     "name": "stdout",
     "output_type": "stream",
     "text": [
      "SQLite Store Path:\n",
      "!open file:///var/folders/6_/7xx0tpq16h9cn40mq4w5gjk80000gn/T/34aa1081c5b63c28d0343512980e8df6.sqlite\n",
      "\n",
      "> Starting Worker: worker1 - 34aa1081c5b63c28d0343512980e8df6 [<class 'syft.core.node.new.user_service.UserService'>, <class 'syft.core.node.new.action_service.ActionService'>, <class 'syft.core.node.new.test_service.TestService'>, <class 'syft.core.node.new.dataset_service.DatasetService'>, <class 'syft.core.node.new.user_code_service.UserCodeService'>, <class 'syft.core.node.new.request_service.RequestService'>, <class 'syft.core.node.new.data_subject_service.DataSubjectService'>, <class 'syft.core.node.new.network_service.NetworkService'>]\n",
      "metadata_version=1 name='worker1' id='34aa1081c5b63c28d0343512980e8df6' verify_key='6f78b14f8d5afc192848ebcad304ec02388c52957f5767c1805a0c2916b32638' highest_object_version=2 lowest_object_version=1 syft_version='0.8.0-beta.0'\n",
      "Logged into worker1 as <info@openmined.org>\n"
     ]
    }
   ],
   "source": [
    "worker1 = sy.Worker.named(\"worker1\", processes=1)\n",
    "domain1 = sy.login(node=worker1, email=\"info@openmined.org\", password=\"changethis\")"
   ]
  },
  {
   "cell_type": "code",
   "execution_count": 4,
   "id": "4cef809d-526f-4ef8-bbf6-8d7e09ac84f7",
   "metadata": {
    "tags": []
   },
   "outputs": [
    {
     "name": "stdout",
     "output_type": "stream",
     "text": [
      "SQLite Store Path:\n",
      "!open file:///var/folders/6_/7xx0tpq16h9cn40mq4w5gjk80000gn/T/5257586a4579fd12221c855b9cacf4c5.sqlite\n",
      "\n",
      "> Starting Worker: worker2 - 5257586a4579fd12221c855b9cacf4c5 [<class 'syft.core.node.new.user_service.UserService'>, <class 'syft.core.node.new.action_service.ActionService'>, <class 'syft.core.node.new.test_service.TestService'>, <class 'syft.core.node.new.dataset_service.DatasetService'>, <class 'syft.core.node.new.user_code_service.UserCodeService'>, <class 'syft.core.node.new.request_service.RequestService'>, <class 'syft.core.node.new.data_subject_service.DataSubjectService'>, <class 'syft.core.node.new.network_service.NetworkService'>]\n",
      "metadata_version=1 name='worker2' id='5257586a4579fd12221c855b9cacf4c5' verify_key='ca30a96449bad4df3891c0a8ffae9bea9e99d68459984a27126042f42fdffcd0' highest_object_version=2 lowest_object_version=1 syft_version='0.8.0-beta.0'\n",
      "Logged into worker2 as <info@openmined.org>\n"
     ]
    }
   ],
   "source": [
    "worker2 = sy.Worker.named(\"worker2\", processes=1)\n",
    "domain2 = sy.login(node=worker2, email=\"info@openmined.org\", password=\"changethis\")"
   ]
  },
  {
   "cell_type": "code",
   "execution_count": 5,
   "id": "2171aed8-0ac5-4937-8460-823df773c3a9",
   "metadata": {
    "tags": []
   },
   "outputs": [
    {
     "name": "stdout",
     "output_type": "stream",
     "text": [
      "> Starting Worker: worker1 - 34aa1081c5b63c28d0343512980e8df6 [<class 'syft.core.node.new.user_service.UserService'>, <class 'syft.core.node.new.action_service.ActionService'>, <class 'syft.core.node.new.test_service.TestService'>, <class 'syft.core.node.new.dataset_service.DatasetService'>, <class 'syft.core.node.new.user_code_service.UserCodeService'>, <class 'syft.core.node.new.request_service.RequestService'>, <class 'syft.core.node.new.data_subject_service.DataSubjectService'>, <class 'syft.core.node.new.network_service.NetworkService'>]\n",
      "metadata_version=1 name='worker1' id='34aa1081c5b63c28d0343512980e8df6' verify_key='6f78b14f8d5afc192848ebcad304ec02388c52957f5767c1805a0c2916b32638' highest_object_version=2 lowest_object_version=1 syft_version='0.8.0-beta.0'\n",
      "> Starting Worker: worker1 - 34aa1081c5b63c28d0343512980e8df6 [<class 'syft.core.node.new.user_service.UserService'>, <class 'syft.core.node.new.action_service.ActionService'>, <class 'syft.core.node.new.test_service.TestService'>, <class 'syft.core.node.new.dataset_service.DatasetService'>, <class 'syft.core.node.new.user_code_service.UserCodeService'>, <class 'syft.core.node.new.request_service.RequestService'>, <class 'syft.core.node.new.data_subject_service.DataSubjectService'>, <class 'syft.core.node.new.network_service.NetworkService'>]\n",
      "metadata_version=1 name='worker1' id='34aa1081c5b63c28d0343512980e8df6' verify_key='6f78b14f8d5afc192848ebcad304ec02388c52957f5767c1805a0c2916b32638' highest_object_version=2 lowest_object_version=1 syft_version='0.8.0-beta.0'\n",
      "> Starting Worker: worker2 - 5257586a4579fd12221c855b9cacf4c5 [<class 'syft.core.node.new.user_service.UserService'>, <class 'syft.core.node.new.action_service.ActionService'>, <class 'syft.core.node.new.test_service.TestService'>, <class 'syft.core.node.new.dataset_service.DatasetService'>, <class 'syft.core.node.new.user_code_service.UserCodeService'>, <class 'syft.core.node.new.request_service.RequestService'>, <class 'syft.core.node.new.data_subject_service.DataSubjectService'>, <class 'syft.core.node.new.network_service.NetworkService'>]\n",
      "metadata_version=1 name='worker2' id='5257586a4579fd12221c855b9cacf4c5' verify_key='ca30a96449bad4df3891c0a8ffae9bea9e99d68459984a27126042f42fdffcd0' highest_object_version=2 lowest_object_version=1 syft_version='0.8.0-beta.0'\n"
     ]
    },
    {
     "data": {
      "text/html": [
       "<div class=\"alert-success\" style=\"padding:5px;\"><strong>SyftSuccess</strong>: Route Verified</div><br />"
      ],
      "text/plain": [
       "<class 'syft.core.node.new.response.SyftSuccess'>: Route Verified"
      ]
     },
     "execution_count": 5,
     "metadata": {},
     "output_type": "execute_result"
    }
   ],
   "source": [
    "domain2.exchange_route(domain1)"
   ]
  },
  {
   "cell_type": "code",
   "execution_count": 6,
   "id": "d99e4767-b9f4-4781-92f1-f537628fc802",
   "metadata": {
    "tags": []
   },
   "outputs": [
    {
     "data": {
      "text/html": [
       "List - Size: 1\n",
       "<div>\n",
       "<style scoped>\n",
       "    .dataframe tbody tr th:only-of-type {\n",
       "        vertical-align: middle;\n",
       "    }\n",
       "\n",
       "    .dataframe tbody tr th {\n",
       "        vertical-align: top;\n",
       "    }\n",
       "\n",
       "    .dataframe thead th {\n",
       "        text-align: right;\n",
       "    }\n",
       "</style>\n",
       "<table border=\"1\" class=\"dataframe\">\n",
       "  <thead>\n",
       "    <tr style=\"text-align: right;\">\n",
       "      <th></th>\n",
       "      <th>type</th>\n",
       "      <th>id</th>\n",
       "      <th>name</th>\n",
       "    </tr>\n",
       "  </thead>\n",
       "  <tbody>\n",
       "    <tr>\n",
       "      <th>0</th>\n",
       "      <td>syft.core.node.new.network_service.NodePeer</td>\n",
       "      <td>34aa1081c5b63c28d0343512980e8df6</td>\n",
       "      <td>worker1</td>\n",
       "    </tr>\n",
       "  </tbody>\n",
       "</table>\n",
       "</div>"
      ],
      "text/plain": [
       "[syft.core.node.new.network_service.NodePeer]"
      ]
     },
     "execution_count": 6,
     "metadata": {},
     "output_type": "execute_result"
    }
   ],
   "source": [
    "d2p = domain2.api.services.network.get_all_peers()\n",
    "d2p"
   ]
  },
  {
   "cell_type": "code",
   "execution_count": 7,
   "id": "de92c64a-1500-48b1-a2c4-62f42b469604",
   "metadata": {
    "tags": []
   },
   "outputs": [],
   "source": [
    "peer = d2p[0]"
   ]
  },
  {
   "cell_type": "code",
   "execution_count": 8,
   "id": "71ff1c1f-cc7d-4b2c-bb84-342e43b59057",
   "metadata": {
    "tags": []
   },
   "outputs": [
    {
     "data": {
      "text/plain": [
       "<SyftClient - worker2 <5257586a4579fd12221c855b9cacf4c5>: PythonConnection>"
      ]
     },
     "execution_count": 8,
     "metadata": {},
     "output_type": "execute_result"
    }
   ],
   "source": [
    "domain2"
   ]
  },
  {
   "cell_type": "code",
   "execution_count": 9,
   "id": "7dd15f6e-7e9f-495a-ad96-695db626606b",
   "metadata": {
    "tags": []
   },
   "outputs": [
    {
     "name": "stdout",
     "output_type": "stream",
     "text": [
      "> Starting Worker: worker1 - 34aa1081c5b63c28d0343512980e8df6 [<class 'syft.core.node.new.user_service.UserService'>, <class 'syft.core.node.new.action_service.ActionService'>, <class 'syft.core.node.new.test_service.TestService'>, <class 'syft.core.node.new.dataset_service.DatasetService'>, <class 'syft.core.node.new.user_code_service.UserCodeService'>, <class 'syft.core.node.new.request_service.RequestService'>, <class 'syft.core.node.new.data_subject_service.DataSubjectService'>, <class 'syft.core.node.new.network_service.NetworkService'>]\n",
      "metadata_version=1 name='worker1' id='34aa1081c5b63c28d0343512980e8df6' verify_key='6f78b14f8d5afc192848ebcad304ec02388c52957f5767c1805a0c2916b32638' highest_object_version=2 lowest_object_version=1 syft_version='0.8.0-beta.0'\n",
      "metadata_version=1 name='worker1' id='34aa1081c5b63c28d0343512980e8df6' verify_key='6f78b14f8d5afc192848ebcad304ec02388c52957f5767c1805a0c2916b32638' highest_object_version=2 lowest_object_version=1 syft_version='0.8.0-beta.0'\n"
     ]
    }
   ],
   "source": [
    "proxy_client = peer.proxy_from(domain2)"
   ]
  },
  {
   "cell_type": "code",
   "execution_count": 10,
   "id": "b64c8642-d3e5-4350-a4e1-55ff33e6c29d",
   "metadata": {
    "tags": []
   },
   "outputs": [],
   "source": [
    "f = domain2.api.services.network.get_all_peers(blocking=False)"
   ]
  },
  {
   "cell_type": "code",
   "execution_count": 11,
   "id": "5504cb99-095c-4c81-a6a9-eb67109f2cf7",
   "metadata": {
    "tags": []
   },
   "outputs": [
    {
     "data": {
      "text/html": [
       "<div class=\"alert-info\" style=\"padding:5px;\"><strong>SyftNotReady</strong>: 61dc172809404f9eac6898fb3ab86409 not ready yet.</div><br />"
      ],
      "text/plain": [
       "<class 'syft.core.node.new.response.SyftNotReady'>: 61dc172809404f9eac6898fb3ab86409 not ready yet."
      ]
     },
     "execution_count": 11,
     "metadata": {},
     "output_type": "execute_result"
    }
   ],
   "source": [
    "f.resolve"
   ]
  },
  {
   "cell_type": "code",
   "execution_count": 12,
   "id": "bb62f361-28c4-49bf-a7c6-2998e4519ef4",
   "metadata": {
    "tags": []
   },
   "outputs": [],
   "source": [
    "fa = proxy_client.api.services.network.get_all_peers(blocking=False)"
   ]
  },
  {
   "cell_type": "code",
   "execution_count": 13,
   "id": "732172a7-29a5-4299-b076-ab02aba3a604",
   "metadata": {
    "tags": []
   },
   "outputs": [
    {
     "data": {
      "text/markdown": [
       "```python\n",
       "class QueueItem:\n",
       "  id: str = 69723caedd264771bfd7caf085dcc277\n",
       "  node_uid: str = 34aa1081c5b63c28d0343512980e8df6\n",
       "  result: str = None\n",
       "  resolved: str = False\n",
       "\n",
       "```"
      ],
      "text/plain": [
       "syft.core.node.new.queue_stash.QueueItem"
      ]
     },
     "execution_count": 13,
     "metadata": {},
     "output_type": "execute_result"
    }
   ],
   "source": [
    "fa"
   ]
  },
  {
   "cell_type": "code",
   "execution_count": 14,
   "id": "4e3066a8-c711-4947-a7a0-ce5d95a83a23",
   "metadata": {
    "tags": []
   },
   "outputs": [
    {
     "data": {
      "text/html": [
       "<div class=\"alert-info\" style=\"padding:5px;\"><strong>SyftNotReady</strong>: 69723caedd264771bfd7caf085dcc277 not ready yet.</div><br />"
      ],
      "text/plain": [
       "<class 'syft.core.node.new.response.SyftNotReady'>: 69723caedd264771bfd7caf085dcc277 not ready yet."
      ]
     },
     "execution_count": 14,
     "metadata": {},
     "output_type": "execute_result"
    }
   ],
   "source": [
    "fa.resolve"
   ]
  },
  {
   "cell_type": "code",
   "execution_count": null,
   "id": "046b3525-9d74-4bcf-8d9a-b2bc31d326f1",
   "metadata": {},
   "outputs": [],
   "source": []
  }
 ],
 "metadata": {
  "kernelspec": {
   "display_name": "Python 3 (ipykernel)",
   "language": "python",
   "name": "python3"
  },
  "language_info": {
   "codemirror_mode": {
    "name": "ipython",
    "version": 3
   },
   "file_extension": ".py",
   "mimetype": "text/x-python",
   "name": "python",
   "nbconvert_exporter": "python",
   "pygments_lexer": "ipython3",
   "version": "3.10.9"
  }
 },
 "nbformat": 4,
 "nbformat_minor": 5
}
