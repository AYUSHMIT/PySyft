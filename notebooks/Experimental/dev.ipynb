{
 "cells": [
  {
   "cell_type": "code",
   "execution_count": 1,
   "id": "ad6c5e49-00bd-48cf-8c98-b29d833090e7",
   "metadata": {
    "tags": []
   },
   "outputs": [],
   "source": [
    "import syft as sy"
   ]
  },
  {
   "cell_type": "code",
   "execution_count": 2,
   "id": "a98e7fb0-87bf-44e1-8000-441fb3e088ba",
   "metadata": {
    "tags": []
   },
   "outputs": [],
   "source": [
    "# !open file:///var/folders/6_/7xx0tpq16h9cn40mq4w5gjk80000gn/T/34aa1081c5b63c28d0343512980e8df6.sqlite"
   ]
  },
  {
   "cell_type": "code",
   "execution_count": 3,
   "id": "b0f46d14-f64b-48eb-8b70-a8f477cc43d4",
   "metadata": {
    "tags": []
   },
   "outputs": [
    {
     "name": "stdout",
     "output_type": "stream",
     "text": [
      "SQLite Store Path:\n",
      "!open file:///var/folders/6_/7xx0tpq16h9cn40mq4w5gjk80000gn/T/34aa1081c5b63c28d0343512980e8df6.sqlite\n",
      "\n",
      "> Starting Worker: worker1 - 34aa1081c5b63c28d0343512980e8df6 [<class 'syft.core.node.new.user_service.UserService'>, <class 'syft.core.node.new.action_service.ActionService'>, <class 'syft.core.node.new.test_service.TestService'>, <class 'syft.core.node.new.dataset_service.DatasetService'>, <class 'syft.core.node.new.user_code_service.UserCodeService'>, <class 'syft.core.node.new.request_service.RequestService'>, <class 'syft.core.node.new.data_subject_service.DataSubjectService'>, <class 'syft.core.node.new.network_service.NetworkService'>, <class 'syft.core.node.new.message_service.MessageService'>]\n",
      "metadata_version=1 name='worker1' id='34aa1081c5b63c28d0343512980e8df6' verify_key='6f78b14f8d5afc192848ebcad304ec02388c52957f5767c1805a0c2916b32638' highest_object_version=2 lowest_object_version=1 syft_version='0.8.0-beta.0'\n"
     ]
    }
   ],
   "source": [
    "domain1 = sy.Worker.named(\"worker1\", processes=1).root_client"
   ]
  },
  {
   "cell_type": "code",
   "execution_count": 4,
   "id": "fd3ac995-acee-461e-a4f3-6819020f3984",
   "metadata": {
    "tags": []
   },
   "outputs": [],
   "source": [
    "from syft.core.node.new.messages import CreateMessage, LinkedObject\n",
    "from syft.core.node.new.user_service import UserService"
   ]
  },
  {
   "cell_type": "code",
   "execution_count": 5,
   "id": "084410ba-ee38-4a89-85ec-3d2e9d6684d1",
   "metadata": {
    "tags": []
   },
   "outputs": [],
   "source": [
    "user = domain1.api.services.user.get_all()[0]"
   ]
  },
  {
   "cell_type": "code",
   "execution_count": 6,
   "id": "dd6bb55f-1651-44ae-b72e-7de907e436b5",
   "metadata": {
    "tags": []
   },
   "outputs": [],
   "source": [
    "verify_key = domain1.credentials.verify_key\n"
   ]
  },
  {
   "cell_type": "code",
   "execution_count": 7,
   "id": "31d86f9e-37a7-46b7-9645-4cdabfe8c2a1",
   "metadata": {
    "tags": []
   },
   "outputs": [],
   "source": [
    "# linked_document = LinkedObject.create_document(\n",
    "#     node_uid=domain1.id, \n",
    "#     object_type=type(user), \n",
    "#     object_service=UserService, \n",
    "#     object_uid=user.id\n",
    "# )"
   ]
  },
  {
   "cell_type": "code",
   "execution_count": null,
   "id": "ffadb18d-73a2-417b-90d3-7ec1f13a0592",
   "metadata": {},
   "outputs": [],
   "source": []
  },
  {
   "cell_type": "code",
   "execution_count": 8,
   "id": "92ca0c95-33c2-4f75-9963-533651b2be11",
   "metadata": {
    "tags": []
   },
   "outputs": [
    {
     "data": {
      "text/plain": [
       "<UID: 34aa1081c5b63c28d0343512980e8df6>"
      ]
     },
     "execution_count": 8,
     "metadata": {},
     "output_type": "execute_result"
    }
   ],
   "source": [
    "domain1.id"
   ]
  },
  {
   "cell_type": "code",
   "execution_count": 9,
   "id": "ba2175a2-8b62-492a-89b0-91ef4c47a941",
   "metadata": {
    "tags": []
   },
   "outputs": [
    {
     "data": {
      "text/markdown": [
       "```python\n",
       "class User:\n",
       "  id: str = 80ff9ea26a06477fa05c8013dfd02bd8\n",
       "  email: str = \"info@openmined.org\"\n",
       "  name: str = \"Jane Doe\"\n",
       "  hashed_password: str = \"$2b$12$U.P09gBdbudP4MvdyvxFBuWBrGZNRwaqzJm1vzAS6lFrkn9qZA5da\"\n",
       "  salt: str = \"$2b$12$U.P09gBdbudP4MvdyvxFBu\"\n",
       "  signing_key: str = 481907bfce774927b7803419133ecb8d7e4d237f0a55dd5d8c868714350bd8ab\n",
       "  verify_key: str = b0260fdc41b1d3b307f553c30a4b769496a2670bf969657f4a1462ed816350c7\n",
       "  role: str = ServiceRole.GUEST\n",
       "  institution: str = None\n",
       "  website: str = None\n",
       "  created_at: str = None\n",
       "\n",
       "```"
      ],
      "text/plain": [
       "syft.core.node.new.user.User"
      ]
     },
     "execution_count": 9,
     "metadata": {},
     "output_type": "execute_result"
    }
   ],
   "source": [
    "user"
   ]
  },
  {
   "cell_type": "code",
   "execution_count": 10,
   "id": "035e996d-80ea-4945-a31a-c93b0b117228",
   "metadata": {
    "tags": []
   },
   "outputs": [],
   "source": [
    "linked_obj = LinkedObject.from_obj(user, node_uid=domain1.id)"
   ]
  },
  {
   "cell_type": "code",
   "execution_count": 11,
   "id": "3c0c7e83-1629-493e-88b3-6ad1b26a1020",
   "metadata": {
    "tags": []
   },
   "outputs": [],
   "source": [
    "user = linked_obj.resolve"
   ]
  },
  {
   "cell_type": "code",
   "execution_count": 12,
   "id": "07fa974f-857b-4833-af8f-d098161ae43d",
   "metadata": {
    "tags": []
   },
   "outputs": [],
   "source": [
    "from syft.core.node.new.request import EnumMutation\n",
    "from syft.core.node.new.user_code import UserCodeStatus"
   ]
  },
  {
   "cell_type": "code",
   "execution_count": 13,
   "id": "c026a496-109c-44fe-8edc-5b7c1ef6c085",
   "metadata": {
    "tags": []
   },
   "outputs": [],
   "source": [
    "CODE_EXECUTE = EnumMutation(attr_name=\"status\", enum_type=UserCodeStatus, value=UserCodeStatus.EXECUTE)"
   ]
  },
  {
   "cell_type": "code",
   "execution_count": 14,
   "id": "478d4ea8-5f01-422a-9d3d-267763c30bbc",
   "metadata": {
    "tags": []
   },
   "outputs": [
    {
     "data": {
      "text/markdown": [
       "```python\n",
       "class EnumMutation:\n",
       "  id: str = 1a854abb002247d1ad51bad9c86ef6c2\n",
       "  linked_obj: str = None\n",
       "  attr_name: str = \"status\"\n",
       "  value: str = UserCodeStatus.EXECUTE\n",
       "  match_type: str = True\n",
       "  enum_type: str = <enum 'UserCodeStatus'>\n",
       "\n",
       "```"
      ],
      "text/plain": [
       "syft.core.node.new.request.EnumMutation"
      ]
     },
     "execution_count": 14,
     "metadata": {},
     "output_type": "execute_result"
    }
   ],
   "source": [
    "CODE_EXECUTE"
   ]
  },
  {
   "cell_type": "code",
   "execution_count": null,
   "id": "9e6cdd38-63cd-4e4e-b5ac-ba391661b86d",
   "metadata": {},
   "outputs": [],
   "source": []
  },
  {
   "cell_type": "code",
   "execution_count": null,
   "id": "9829c644-6ae3-4d75-b830-7ef41b2d297f",
   "metadata": {},
   "outputs": [],
   "source": []
  },
  {
   "cell_type": "code",
   "execution_count": 15,
   "id": "bc15a547-778f-4cc0-b30b-9ed76af02938",
   "metadata": {
    "tags": []
   },
   "outputs": [
    {
     "name": "stdout",
     "output_type": "stream",
     "text": [
      "Context Credentials: 6f78b14f8d5afc192848ebcad304ec02388c52957f5767c1805a0c2916b32638\n"
     ]
    },
    {
     "data": {
      "text/html": [
       "[]"
      ],
      "text/plain": [
       "[]"
      ]
     },
     "execution_count": 15,
     "metadata": {},
     "output_type": "execute_result"
    }
   ],
   "source": [
    "domain1.api.services.messages.get_all()"
   ]
  },
  {
   "cell_type": "code",
   "execution_count": 16,
   "id": "92cb8556-9750-4943-989f-2c9e601c8764",
   "metadata": {
    "tags": []
   },
   "outputs": [],
   "source": [
    "from syft.core.node.new.messages import CreateMessage, LinkedObject"
   ]
  },
  {
   "cell_type": "code",
   "execution_count": 17,
   "id": "d3866f1b-a645-4391-917e-303362a7bd7c",
   "metadata": {
    "tags": []
   },
   "outputs": [],
   "source": [
    "verify_key = domain1.credentials.verify_key"
   ]
  },
  {
   "cell_type": "code",
   "execution_count": 18,
   "id": "ad293a59-b9a3-41ba-a39b-e3aed128895e",
   "metadata": {
    "tags": []
   },
   "outputs": [],
   "source": [
    "message = CreateMessage(\n",
    "    subject=\"Hello Message\",\n",
    "    to_user_verify_key=verify_key,\n",
    ")"
   ]
  },
  {
   "cell_type": "code",
   "execution_count": 19,
   "id": "adf7be79-0f03-4218-bcf3-c5c333e1a364",
   "metadata": {
    "tags": []
   },
   "outputs": [
    {
     "name": "stdout",
     "output_type": "stream",
     "text": [
      "New Message: id=<UID: 8e7927d920e742139121ef603a24fd1f> subject='Hello Message' node_uid=<UID: 34aa1081c5b63c28d0343512980e8df6> from_user_verify_key=6f78b14f8d5afc192848ebcad304ec02388c52957f5767c1805a0c2916b32638 to_user_verify_key=6f78b14f8d5afc192848ebcad304ec02388c52957f5767c1805a0c2916b32638 created_at=syft.core.node.new.request.DateTime status=<MessageStatus.UNDELIVERED: 0> linked_obj=None\n"
     ]
    }
   ],
   "source": [
    "mess = domain1.api.services.messages.send(message)"
   ]
  },
  {
   "cell_type": "code",
   "execution_count": 20,
   "id": "46c447ac-707d-4572-82a4-0edacb2bfe96",
   "metadata": {
    "tags": []
   },
   "outputs": [
    {
     "data": {
      "text/markdown": [
       "```python\n",
       "class Message:\n",
       "  id: str = 8e7927d920e742139121ef603a24fd1f\n",
       "  subject: str = \"Hello Message\"\n",
       "  node_uid: str = 34aa1081c5b63c28d0343512980e8df6\n",
       "  from_user_verify_key: str = 6f78b14f8d5afc192848ebcad304ec02388c52957f5767c1805a0c2916b32638\n",
       "  to_user_verify_key: str = 6f78b14f8d5afc192848ebcad304ec02388c52957f5767c1805a0c2916b32638\n",
       "  created_at: str = 2023-02-21 22:46:34\n",
       "  status: str = MessageStatus.UNDELIVERED\n",
       "  linked_obj: str = None\n",
       "\n",
       "```"
      ],
      "text/plain": [
       "syft.core.node.new.messages.Message"
      ]
     },
     "execution_count": 20,
     "metadata": {},
     "output_type": "execute_result"
    }
   ],
   "source": [
    "mess"
   ]
  },
  {
   "cell_type": "code",
   "execution_count": 21,
   "id": "48980818-7091-4886-af02-d1304ef88f3e",
   "metadata": {
    "tags": []
   },
   "outputs": [
    {
     "data": {
      "text/markdown": [
       "```python\n",
       "class Message:\n",
       "  id: str = 8e7927d920e742139121ef603a24fd1f\n",
       "  subject: str = \"Hello Message\"\n",
       "  node_uid: str = 34aa1081c5b63c28d0343512980e8df6\n",
       "  from_user_verify_key: str = 6f78b14f8d5afc192848ebcad304ec02388c52957f5767c1805a0c2916b32638\n",
       "  to_user_verify_key: str = 6f78b14f8d5afc192848ebcad304ec02388c52957f5767c1805a0c2916b32638\n",
       "  created_at: str = 2023-02-21 22:46:34\n",
       "  status: str = MessageStatus.DELIVERED\n",
       "  linked_obj: str = None\n",
       "\n",
       "```"
      ],
      "text/plain": [
       "syft.core.node.new.messages.Message"
      ]
     },
     "execution_count": 21,
     "metadata": {},
     "output_type": "execute_result"
    }
   ],
   "source": [
    "domain1.api.services.messages.mark_as_delivered(uid=mess.id)"
   ]
  },
  {
   "cell_type": "code",
   "execution_count": 22,
   "id": "a1f4ece5-f5f9-4594-b48e-7bff74c0b96d",
   "metadata": {
    "tags": []
   },
   "outputs": [
    {
     "name": "stdout",
     "output_type": "stream",
     "text": [
      "Context Credentials: 6f78b14f8d5afc192848ebcad304ec02388c52957f5767c1805a0c2916b32638\n"
     ]
    },
    {
     "data": {
      "text/html": [
       "List - Size: 1\n",
       "<div>\n",
       "<style scoped>\n",
       "    .dataframe tbody tr th:only-of-type {\n",
       "        vertical-align: middle;\n",
       "    }\n",
       "\n",
       "    .dataframe tbody tr th {\n",
       "        vertical-align: top;\n",
       "    }\n",
       "\n",
       "    .dataframe thead th {\n",
       "        text-align: right;\n",
       "    }\n",
       "</style>\n",
       "<table border=\"1\" class=\"dataframe\">\n",
       "  <thead>\n",
       "    <tr style=\"text-align: right;\">\n",
       "      <th></th>\n",
       "      <th>type</th>\n",
       "      <th>id</th>\n",
       "      <th>subject</th>\n",
       "      <th>status</th>\n",
       "      <th>created_at</th>\n",
       "      <th>linked_obj</th>\n",
       "    </tr>\n",
       "  </thead>\n",
       "  <tbody>\n",
       "    <tr>\n",
       "      <th>0</th>\n",
       "      <td>syft.core.node.new.messages.Message</td>\n",
       "      <td>8e7927d920e742139121ef603a24fd1f</td>\n",
       "      <td>Hello Message</td>\n",
       "      <td>MessageStatus.DELIVERED</td>\n",
       "      <td>2023-02-21 22:46:34</td>\n",
       "      <td>None</td>\n",
       "    </tr>\n",
       "  </tbody>\n",
       "</table>\n",
       "</div>"
      ],
      "text/plain": [
       "<syft.core.node.new.api.APIModule at 0x2bcf8ff10>"
      ]
     },
     "execution_count": 22,
     "metadata": {},
     "output_type": "execute_result"
    }
   ],
   "source": [
    "domain1.api.services.messages"
   ]
  },
  {
   "cell_type": "code",
   "execution_count": 23,
   "id": "59616e22-74d6-4215-a911-5c29e81b9111",
   "metadata": {
    "tags": []
   },
   "outputs": [
    {
     "name": "stdout",
     "output_type": "stream",
     "text": [
      "Context Credentials: 6f78b14f8d5afc192848ebcad304ec02388c52957f5767c1805a0c2916b32638\n"
     ]
    }
   ],
   "source": [
    "msg = domain1.api.services.messages[-1]"
   ]
  },
  {
   "cell_type": "code",
   "execution_count": 24,
   "id": "e4d1b0d8-2667-4dd8-8b06-be65e1074efa",
   "metadata": {
    "tags": []
   },
   "outputs": [
    {
     "data": {
      "text/markdown": [
       "```python\n",
       "class Message:\n",
       "  id: str = 8e7927d920e742139121ef603a24fd1f\n",
       "  subject: str = \"Hello Message\"\n",
       "  node_uid: str = 34aa1081c5b63c28d0343512980e8df6\n",
       "  from_user_verify_key: str = 6f78b14f8d5afc192848ebcad304ec02388c52957f5767c1805a0c2916b32638\n",
       "  to_user_verify_key: str = 6f78b14f8d5afc192848ebcad304ec02388c52957f5767c1805a0c2916b32638\n",
       "  created_at: str = 2023-02-21 22:46:34\n",
       "  status: str = MessageStatus.DELIVERED\n",
       "  linked_obj: str = None\n",
       "\n",
       "```"
      ],
      "text/plain": [
       "syft.core.node.new.messages.Message"
      ]
     },
     "execution_count": 24,
     "metadata": {},
     "output_type": "execute_result"
    }
   ],
   "source": [
    "domain1.api.services.messages.mark_as_delivered(msg.id)"
   ]
  },
  {
   "cell_type": "code",
   "execution_count": 25,
   "id": "a5ad9c81-6b41-4109-b47a-56b9580999f9",
   "metadata": {
    "tags": []
   },
   "outputs": [
    {
     "data": {
      "text/html": [
       "List - Size: 1\n",
       "<div>\n",
       "<style scoped>\n",
       "    .dataframe tbody tr th:only-of-type {\n",
       "        vertical-align: middle;\n",
       "    }\n",
       "\n",
       "    .dataframe tbody tr th {\n",
       "        vertical-align: top;\n",
       "    }\n",
       "\n",
       "    .dataframe thead th {\n",
       "        text-align: right;\n",
       "    }\n",
       "</style>\n",
       "<table border=\"1\" class=\"dataframe\">\n",
       "  <thead>\n",
       "    <tr style=\"text-align: right;\">\n",
       "      <th></th>\n",
       "      <th>type</th>\n",
       "      <th>id</th>\n",
       "      <th>name</th>\n",
       "      <th>email</th>\n",
       "    </tr>\n",
       "  </thead>\n",
       "  <tbody>\n",
       "    <tr>\n",
       "      <th>0</th>\n",
       "      <td>syft.core.node.new.user.User</td>\n",
       "      <td>80ff9ea26a06477fa05c8013dfd02bd8</td>\n",
       "      <td>Jane Doe</td>\n",
       "      <td>info@openmined.org</td>\n",
       "    </tr>\n",
       "  </tbody>\n",
       "</table>\n",
       "</div>"
      ],
      "text/plain": [
       "<syft.core.node.new.api.APIModule at 0x2bcf8e440>"
      ]
     },
     "execution_count": 25,
     "metadata": {},
     "output_type": "execute_result"
    }
   ],
   "source": [
    "domain1.api.services.user"
   ]
  },
  {
   "cell_type": "code",
   "execution_count": 26,
   "id": "b79706b7-4006-4278-b0f4-a375006cddb1",
   "metadata": {
    "tags": []
   },
   "outputs": [],
   "source": [
    "d = sy.Dataset(name=\"test\")"
   ]
  },
  {
   "cell_type": "code",
   "execution_count": 27,
   "id": "fc47a340-e304-4a4a-b226-c65944ecbc7c",
   "metadata": {
    "tags": []
   },
   "outputs": [],
   "source": [
    "a = sy.Asset(name=\"data\")"
   ]
  },
  {
   "cell_type": "code",
   "execution_count": 28,
   "id": "55127cda-8547-4923-82b8-bd8e0fef75d3",
   "metadata": {
    "tags": []
   },
   "outputs": [],
   "source": [
    "import numpy as np"
   ]
  },
  {
   "cell_type": "code",
   "execution_count": 29,
   "id": "8e161d6b-c587-4fc8-9345-8e6e47c88f45",
   "metadata": {
    "tags": []
   },
   "outputs": [],
   "source": [
    "x = np.array([1, 2, 3])\n",
    "a.set_obj(x)"
   ]
  },
  {
   "cell_type": "code",
   "execution_count": 30,
   "id": "c55fd620-15a3-4b78-bb3b-63a11944c68c",
   "metadata": {
    "tags": []
   },
   "outputs": [],
   "source": [
    "y = np.array([1, 1, 1])\n",
    "a.set_mock(y, mock_is_real=False)"
   ]
  },
  {
   "cell_type": "code",
   "execution_count": 31,
   "id": "d96232cd-99b0-43fc-8231-b3f003303067",
   "metadata": {
    "tags": []
   },
   "outputs": [],
   "source": [
    "d.add_asset(a)"
   ]
  },
  {
   "cell_type": "code",
   "execution_count": 32,
   "id": "eb5a9116-cbc3-4105-af05-62e2e72ec34d",
   "metadata": {
    "tags": []
   },
   "outputs": [
    {
     "data": {
      "text/markdown": [
       "```python\n",
       "class CreateAsset:\n",
       "  id: str = None\n",
       "  name: str = \"data\"\n",
       "  description: str = None\n",
       "  contributors: str = []\n",
       "  data_subjects: str = []\n",
       "  node_uid: str = None\n",
       "  action_id: str = None\n",
       "  data: str = [1 2 3]\n",
       "  mock: str = [1 1 1]\n",
       "  shape: str = None\n",
       "  mock_is_real: str = False\n",
       "\n",
       "```"
      ],
      "text/plain": [
       "syft.core.node.new.dataset.CreateAsset"
      ]
     },
     "execution_count": 32,
     "metadata": {},
     "output_type": "execute_result"
    }
   ],
   "source": [
    "d.assets[0]"
   ]
  },
  {
   "cell_type": "code",
   "execution_count": 33,
   "id": "d01ff1c2-eb88-4da4-a295-0c97585cb8be",
   "metadata": {
    "tags": []
   },
   "outputs": [
    {
     "name": "stderr",
     "output_type": "stream",
     "text": [
      "  0%| | 0/1 [00:00<?, ?it/s]"
     ]
    },
    {
     "name": "stdout",
     "output_type": "stream",
     "text": [
      "Uploading: data\n"
     ]
    },
    {
     "name": "stderr",
     "output_type": "stream",
     "text": [
      "100%|█| 1/1 [00:00<00:00, 26\n"
     ]
    },
    {
     "data": {
      "text/html": [
       "<div class=\"alert-success\" style=\"padding:5px;\"><strong>SyftSuccess</strong>: Dataset Added</div><br />"
      ],
      "text/plain": [
       "<class 'syft.core.node.new.response.SyftSuccess'>: Dataset Added"
      ]
     },
     "execution_count": 33,
     "metadata": {},
     "output_type": "execute_result"
    }
   ],
   "source": [
    "domain1.upload_dataset(d)"
   ]
  },
  {
   "cell_type": "code",
   "execution_count": 34,
   "id": "0dc30275-2e22-4b5c-9ee7-5a50a2ac57a7",
   "metadata": {
    "tags": []
   },
   "outputs": [
    {
     "data": {
      "text/html": [
       "List - Size: 1\n",
       "<div>\n",
       "<style scoped>\n",
       "    .dataframe tbody tr th:only-of-type {\n",
       "        vertical-align: middle;\n",
       "    }\n",
       "\n",
       "    .dataframe tbody tr th {\n",
       "        vertical-align: top;\n",
       "    }\n",
       "\n",
       "    .dataframe thead th {\n",
       "        text-align: right;\n",
       "    }\n",
       "</style>\n",
       "<table border=\"1\" class=\"dataframe\">\n",
       "  <thead>\n",
       "    <tr style=\"text-align: right;\">\n",
       "      <th></th>\n",
       "      <th>type</th>\n",
       "      <th>id</th>\n",
       "      <th>name</th>\n",
       "      <th>url</th>\n",
       "    </tr>\n",
       "  </thead>\n",
       "  <tbody>\n",
       "    <tr>\n",
       "      <th>0</th>\n",
       "      <td>syft.core.node.new.dataset.Dataset</td>\n",
       "      <td>1d17f0f8825c4c82ba38b2eee33088aa</td>\n",
       "      <td>data</td>\n",
       "      <td>None</td>\n",
       "    </tr>\n",
       "  </tbody>\n",
       "</table>\n",
       "</div>"
      ],
      "text/plain": [
       "<syft.core.node.new.api.APIModule at 0x2bcf8fb20>"
      ]
     },
     "execution_count": 34,
     "metadata": {},
     "output_type": "execute_result"
    }
   ],
   "source": [
    "domain1.datasets"
   ]
  },
  {
   "cell_type": "code",
   "execution_count": 35,
   "id": "86c197f9-957c-4635-9d53-f2a2a5fb4064",
   "metadata": {
    "tags": []
   },
   "outputs": [
    {
     "data": {
      "text/markdown": [
       "```python\n",
       "Syft Dataset: data\n",
       "Assets:\n",
       "\tdata: None\n",
       "\n",
       "```"
      ],
      "text/plain": [
       "syft.core.node.new.dataset.Dataset"
      ]
     },
     "execution_count": 35,
     "metadata": {},
     "output_type": "execute_result"
    }
   ],
   "source": [
    "d1 = domain1.datasets[-1]\n",
    "d1"
   ]
  },
  {
   "cell_type": "code",
   "execution_count": 36,
   "id": "c94621da-5b78-48b7-8f46-fc23edd4919f",
   "metadata": {
    "tags": []
   },
   "outputs": [
    {
     "data": {
      "text/html": [
       "Tupledict - Size: 1\n",
       "<div>\n",
       "<style scoped>\n",
       "    .dataframe tbody tr th:only-of-type {\n",
       "        vertical-align: middle;\n",
       "    }\n",
       "\n",
       "    .dataframe tbody tr th {\n",
       "        vertical-align: top;\n",
       "    }\n",
       "\n",
       "    .dataframe thead th {\n",
       "        text-align: right;\n",
       "    }\n",
       "</style>\n",
       "<table border=\"1\" class=\"dataframe\">\n",
       "  <thead>\n",
       "    <tr style=\"text-align: right;\">\n",
       "      <th></th>\n",
       "      <th>key</th>\n",
       "      <th>type</th>\n",
       "      <th>id</th>\n",
       "    </tr>\n",
       "  </thead>\n",
       "  <tbody>\n",
       "    <tr>\n",
       "      <th>0</th>\n",
       "      <td>data</td>\n",
       "      <td>syft.core.node.new.dataset.Asset</td>\n",
       "      <td>1d17f0f8825c4c82ba38b2eee33088aa</td>\n",
       "    </tr>\n",
       "  </tbody>\n",
       "</table>\n",
       "</div>"
      ],
      "text/plain": [
       "TupleDict([('data', syft.core.node.new.dataset.Asset)])"
      ]
     },
     "execution_count": 36,
     "metadata": {},
     "output_type": "execute_result"
    }
   ],
   "source": [
    "d1.assets"
   ]
  },
  {
   "cell_type": "code",
   "execution_count": 37,
   "id": "08739c43-6b1d-4f3d-a660-3fe90eb7dc41",
   "metadata": {
    "tags": []
   },
   "outputs": [],
   "source": [
    "p = d1.assets[0].mock"
   ]
  },
  {
   "cell_type": "code",
   "execution_count": 38,
   "id": "9d76c027-9fb3-495f-8ba9-4fcf2bfe9202",
   "metadata": {
    "tags": []
   },
   "outputs": [
    {
     "data": {
      "text/plain": [
       "array([1, 1, 1])"
      ]
     },
     "execution_count": 38,
     "metadata": {},
     "output_type": "execute_result"
    }
   ],
   "source": [
    "p"
   ]
  },
  {
   "cell_type": "code",
   "execution_count": 39,
   "id": "22b7ff7b-4393-4b83-912b-be4219c9e8f3",
   "metadata": {
    "tags": []
   },
   "outputs": [
    {
     "name": "stdout",
     "output_type": "stream",
     "text": [
      "IGNORING: got action result id=<UID: 88a0b51d197f4905b12e73ed31bcbc18> syft_parent_id=None syft_action_data=array([2, 2, 2]) syft_node_uid=<UID: 34aa1081c5b63c28d0343512980e8df6> syft_passthrough_attrs=[] syft_dont_wrap_attrs=['dtype']\n",
      "__array_ufunc__ <ufunc 'add'> __call__ (array([1, 1, 1]), array([1, 1, 1])) {}\n"
     ]
    }
   ],
   "source": [
    "z = p + p"
   ]
  },
  {
   "cell_type": "code",
   "execution_count": 40,
   "id": "c1d65da8-368a-44c3-9110-e90d2b259974",
   "metadata": {
    "tags": []
   },
   "outputs": [
    {
     "data": {
      "text/plain": [
       "<UID: 88a0b51d197f4905b12e73ed31bcbc18>"
      ]
     },
     "execution_count": 40,
     "metadata": {},
     "output_type": "execute_result"
    }
   ],
   "source": [
    "z.id"
   ]
  },
  {
   "cell_type": "code",
   "execution_count": 41,
   "id": "b59a287d-4169-4564-8142-8d16131ca388",
   "metadata": {
    "tags": []
   },
   "outputs": [],
   "source": [
    "s = domain1.connection.node.get_service(\"actionservice\").store"
   ]
  },
  {
   "cell_type": "code",
   "execution_count": 42,
   "id": "a7822ffd-d45a-4060-8cc8-9e588fb9df29",
   "metadata": {
    "tags": []
   },
   "outputs": [
    {
     "data": {
      "text/plain": [
       "{<UID: 84e65dbe82094d3c92ca4e059da1833b>: syft.core.node.new.twin_object.TwinObject, <UID: 88a0b51d197f4905b12e73ed31bcbc18>: syft.core.node.new.twin_object.TwinObject}"
      ]
     },
     "execution_count": 42,
     "metadata": {},
     "output_type": "execute_result"
    }
   ],
   "source": [
    "s.data"
   ]
  },
  {
   "cell_type": "code",
   "execution_count": 43,
   "id": "c0e85274-a51a-4849-bcc2-a897ac7cbec9",
   "metadata": {
    "tags": []
   },
   "outputs": [
    {
     "data": {
      "text/plain": [
       "{<UID: 84e65dbe82094d3c92ca4e059da1833b>: set(), <UID: 88a0b51d197f4905b12e73ed31bcbc18>: set()}"
      ]
     },
     "execution_count": 43,
     "metadata": {},
     "output_type": "execute_result"
    }
   ],
   "source": [
    "s.permissions"
   ]
  },
  {
   "cell_type": "code",
   "execution_count": 45,
   "id": "9053b19b-77cd-42c0-921c-70a973e0edc0",
   "metadata": {
    "tags": []
   },
   "outputs": [],
   "source": [
    "# create_usa_political_amplification_table"
   ]
  },
  {
   "cell_type": "code",
   "execution_count": 46,
   "id": "2fd7c24f-b895-4e91-98e8-e4e34b3237f8",
   "metadata": {
    "tags": []
   },
   "outputs": [
    {
     "data": {
      "text/plain": [
       "<UID: 1d17f0f8825c4c82ba38b2eee33088aa>"
      ]
     },
     "execution_count": 46,
     "metadata": {},
     "output_type": "execute_result"
    }
   ],
   "source": [
    "d1.assets[0].id"
   ]
  },
  {
   "cell_type": "code",
   "execution_count": 47,
   "id": "b5e37f1d-fe9d-4dc3-aebb-e3ee4f10f394",
   "metadata": {
    "tags": []
   },
   "outputs": [
    {
     "data": {
      "text/plain": [
       "<UID: 84e65dbe82094d3c92ca4e059da1833b>"
      ]
     },
     "execution_count": 47,
     "metadata": {},
     "output_type": "execute_result"
    }
   ],
   "source": [
    "d1.assets[0].action_id"
   ]
  },
  {
   "cell_type": "code",
   "execution_count": 48,
   "id": "319d4216-4e6a-48d1-94ee-cdc78af9e0d6",
   "metadata": {
    "tags": []
   },
   "outputs": [],
   "source": [
    "p = d1.assets[0].mock"
   ]
  },
  {
   "cell_type": "code",
   "execution_count": 49,
   "id": "16cd0185-22b7-4c82-83d1-9dace78e014c",
   "metadata": {
    "tags": []
   },
   "outputs": [
    {
     "data": {
      "text/plain": [
       "<UID: 84e65dbe82094d3c92ca4e059da1833b>"
      ]
     },
     "execution_count": 49,
     "metadata": {},
     "output_type": "execute_result"
    }
   ],
   "source": [
    "p.id"
   ]
  },
  {
   "cell_type": "code",
   "execution_count": 50,
   "id": "817a6f09-1af5-4160-a662-4e3f379481ea",
   "metadata": {
    "tags": []
   },
   "outputs": [
    {
     "data": {
      "text/markdown": [
       "```python\n",
       "class ExactMatch:\n",
       "  id: str = 373ef05c75e0449ba46aa34bab36f4a4\n",
       "  inputs: str = {'my_input': <UID: 84e65dbe82094d3c92ca4e059da1833b>}\n",
       "\n",
       "```"
      ],
      "text/plain": [
       "syft.core.node.new.user_code.ExactMatch"
      ]
     },
     "execution_count": 50,
     "metadata": {},
     "output_type": "execute_result"
    }
   ],
   "source": [
    "sy.ExactMatch(my_input=d1.assets[0])"
   ]
  },
  {
   "cell_type": "code",
   "execution_count": 51,
   "id": "926f977a-0a57-4fb9-bc93-71cc8274aced",
   "metadata": {
    "tags": []
   },
   "outputs": [],
   "source": [
    "from syft.core.node.new.user_code import OutputPolicyStateExecuteOnce"
   ]
  },
  {
   "cell_type": "code",
   "execution_count": 52,
   "id": "6f17b779-8d1c-43d6-ae63-b8fc996b306a",
   "metadata": {},
   "outputs": [],
   "source": [
    "@sy.syft_function(input_policy=sy.ExactMatch(my_input=d1.assets[0]),\n",
    "                  output_policy=sy.SingleExecutionExactOutput())\n",
    "def simple_function(my_input):\n",
    "    import numpy as np\n",
    "    a = np.array([1, 1, 1])\n",
    "    result = my_input + a\n",
    "    return result"
   ]
  },
  {
   "cell_type": "code",
   "execution_count": 53,
   "id": "345094cf-f9e4-45a3-8fae-bd3854d1fd63",
   "metadata": {
    "tags": []
   },
   "outputs": [
    {
     "data": {
      "text/markdown": [
       "```python\n",
       "class SubmitUserCode:\n",
       "  id: str = None\n",
       "  code: str = \"@sy.syft_function(input_policy=sy.ExactMatch(my_input=d1.assets[0]),\n",
       "                  output_policy=sy.SingleExecutionExactOutput())\n",
       "def simple_function(my_input):\n",
       "    import numpy as np\n",
       "    a = np.array([1, 1, 1])\n",
       "    result = my_input + a\n",
       "    return result\n",
       "\"\n",
       "  func_name: str = \"simple_function\"\n",
       "  signature: str = (my_input)\n",
       "  input_policy: str = id=<UID: c715df4db5bc4f17aab43768444b3a42> inputs={'my_input': <UID: 84e65dbe82094d3c92ca4e059da1833b>}\n",
       "  output_policy: str = id=<UID: 89a09dc03e094adfa3e0b3a956cf11b3> outputs=[] state_type=<class 'syft.core.node.new.user_code.OutputPolicyStateExecuteOnce'>\n",
       "  local_function: str = <function simple_function at 0x1762cfeb0>\n",
       "\n",
       "```"
      ],
      "text/plain": [
       "syft.core.node.new.user_code.SubmitUserCode"
      ]
     },
     "execution_count": 53,
     "metadata": {},
     "output_type": "execute_result"
    }
   ],
   "source": [
    "simple_function"
   ]
  },
  {
   "cell_type": "code",
   "execution_count": 54,
   "id": "db22d512-4fd9-42cb-b279-1497feb0dfba",
   "metadata": {
    "tags": []
   },
   "outputs": [],
   "source": [
    "import numpy as np"
   ]
  },
  {
   "cell_type": "code",
   "execution_count": 55,
   "id": "804b5a33-3e50-4423-b91c-907e02a5dcfd",
   "metadata": {
    "tags": []
   },
   "outputs": [],
   "source": [
    "x = np.array([1, 2, 3])"
   ]
  },
  {
   "cell_type": "code",
   "execution_count": 56,
   "id": "1afcd92c-dfb4-449e-87c3-6123f133af1b",
   "metadata": {
    "tags": []
   },
   "outputs": [
    {
     "data": {
      "text/plain": [
       "syft.core.node.new.dataset.Asset"
      ]
     },
     "execution_count": 56,
     "metadata": {},
     "output_type": "execute_result"
    }
   ],
   "source": [
    "type(d1.assets[0])"
   ]
  },
  {
   "cell_type": "code",
   "execution_count": 57,
   "id": "3c04bc9e-2ca7-4df4-9b41-cac26cca5d6a",
   "metadata": {
    "tags": []
   },
   "outputs": [
    {
     "data": {
      "text/plain": [
       "array([2, 2, 2])"
      ]
     },
     "execution_count": 57,
     "metadata": {},
     "output_type": "execute_result"
    }
   ],
   "source": [
    "simple_function(my_input=d1.assets[0])"
   ]
  },
  {
   "cell_type": "code",
   "execution_count": 58,
   "id": "6dd2bc28-ef93-4641-b764-450232dd617e",
   "metadata": {
    "tags": []
   },
   "outputs": [
    {
     "data": {
      "text/plain": [
       "syft.core.node.new.user_code.SubmitUserCode"
      ]
     },
     "execution_count": 58,
     "metadata": {},
     "output_type": "execute_result"
    }
   ],
   "source": [
    "type(simple_function)"
   ]
  },
  {
   "cell_type": "code",
   "execution_count": 59,
   "id": "5e923c4e-1789-46f1-90e6-4e9d4d2dd6d8",
   "metadata": {},
   "outputs": [
    {
     "data": {
      "text/html": [
       "<div class=\"alert-success\" style=\"padding:5px;\"><strong>SyftSuccess</strong>: User Code Submitted</div><br />"
      ],
      "text/plain": [
       "<class 'syft.core.node.new.response.SyftSuccess'>: User Code Submitted"
      ]
     },
     "execution_count": 59,
     "metadata": {},
     "output_type": "execute_result"
    }
   ],
   "source": [
    "domain1.api.services.code.submit(simple_function)"
   ]
  },
  {
   "cell_type": "code",
   "execution_count": 60,
   "id": "7bfb9a10-24fa-4b30-b515-703e31326b25",
   "metadata": {
    "tags": []
   },
   "outputs": [
    {
     "data": {
      "text/html": [
       "List - Size: 1\n",
       "<div>\n",
       "<style scoped>\n",
       "    .dataframe tbody tr th:only-of-type {\n",
       "        vertical-align: middle;\n",
       "    }\n",
       "\n",
       "    .dataframe tbody tr th {\n",
       "        vertical-align: top;\n",
       "    }\n",
       "\n",
       "    .dataframe thead th {\n",
       "        text-align: right;\n",
       "    }\n",
       "</style>\n",
       "<table border=\"1\" class=\"dataframe\">\n",
       "  <thead>\n",
       "    <tr style=\"text-align: right;\">\n",
       "      <th></th>\n",
       "      <th>type</th>\n",
       "      <th>id</th>\n",
       "      <th>status</th>\n",
       "      <th>service_func_name</th>\n",
       "    </tr>\n",
       "  </thead>\n",
       "  <tbody>\n",
       "    <tr>\n",
       "      <th>0</th>\n",
       "      <td>syft.core.node.new.user_code.UserCode</td>\n",
       "      <td>2146755914f543a1980ce11ef09c05c6</td>\n",
       "      <td>UserCodeStatus.SUBMITTED</td>\n",
       "      <td>simple_function</td>\n",
       "    </tr>\n",
       "  </tbody>\n",
       "</table>\n",
       "</div>"
      ],
      "text/plain": [
       "[syft.core.node.new.user_code.UserCode]"
      ]
     },
     "execution_count": 60,
     "metadata": {},
     "output_type": "execute_result"
    }
   ],
   "source": [
    "domain1.api.services.code.get_all()"
   ]
  },
  {
   "cell_type": "code",
   "execution_count": 61,
   "id": "520ca8f5-3bd9-4fdc-b53b-687b51db9863",
   "metadata": {
    "tags": []
   },
   "outputs": [],
   "source": [
    "x = domain1.api.services.code.get_all()[0]"
   ]
  },
  {
   "cell_type": "code",
   "execution_count": 62,
   "id": "684326cc-dcfa-4955-856f-936897a07fdd",
   "metadata": {
    "tags": []
   },
   "outputs": [
    {
     "name": "stdout",
     "output_type": "stream",
     "text": [
      "SQLite Store Path:\n",
      "!open file:///var/folders/6_/7xx0tpq16h9cn40mq4w5gjk80000gn/T/34aa1081c5b63c28d0343512980e8df6.sqlite\n",
      "\n",
      "> Starting Worker: worker1 - 34aa1081c5b63c28d0343512980e8df6 [<class 'syft.core.node.new.user_service.UserService'>, <class 'syft.core.node.new.action_service.ActionService'>, <class 'syft.core.node.new.test_service.TestService'>, <class 'syft.core.node.new.dataset_service.DatasetService'>, <class 'syft.core.node.new.user_code_service.UserCodeService'>, <class 'syft.core.node.new.request_service.RequestService'>, <class 'syft.core.node.new.data_subject_service.DataSubjectService'>, <class 'syft.core.node.new.network_service.NetworkService'>, <class 'syft.core.node.new.message_service.MessageService'>]\n",
      "metadata_version=1 name='worker1' id='34aa1081c5b63c28d0343512980e8df6' verify_key='6f78b14f8d5afc192848ebcad304ec02388c52957f5767c1805a0c2916b32638' highest_object_version=2 lowest_object_version=1 syft_version='0.8.0-beta.0'\n"
     ]
    }
   ],
   "source": [
    "domain1 = sy.Worker.named(\"worker1\", processes=1).root_client"
   ]
  },
  {
   "cell_type": "code",
   "execution_count": 63,
   "id": "e1ee0b02-417e-4fa8-8145-864bd6b13420",
   "metadata": {
    "tags": []
   },
   "outputs": [
    {
     "data": {
      "text/html": [
       "<div class=\"alert-info\" style=\"padding:5px;\"><strong>SyftNotReady</strong>: <class 'syft.core.node.new.user_code.UserCode'> Your code is waiting for approval: UserCodeStatus.SUBMITTED</div><br />"
      ],
      "text/plain": [
       "<class 'syft.core.node.new.response.SyftNotReady'>: <class 'syft.core.node.new.user_code.UserCode'> Your code is waiting for approval: UserCodeStatus.SUBMITTED"
      ]
     },
     "execution_count": 63,
     "metadata": {},
     "output_type": "execute_result"
    }
   ],
   "source": [
    "domain1.api.services.code.simple_function(my_input=1)"
   ]
  },
  {
   "cell_type": "code",
   "execution_count": 64,
   "id": "d4028fd8-2d25-42d7-9942-978d3f2704af",
   "metadata": {
    "tags": []
   },
   "outputs": [
    {
     "data": {
      "text/html": [
       "<div class=\"alert-info\" style=\"padding:5px;\"><strong>SyftNotReady</strong>: <class 'syft.core.node.new.user_code.UserCode'> Your code is waiting for approval: UserCodeStatus.SUBMITTED</div><br />"
      ],
      "text/plain": [
       "<class 'syft.core.node.new.response.SyftNotReady'>: <class 'syft.core.node.new.user_code.UserCode'> Your code is waiting for approval: UserCodeStatus.SUBMITTED"
      ]
     },
     "execution_count": 64,
     "metadata": {},
     "output_type": "execute_result"
    }
   ],
   "source": [
    "result = domain1.api.services.code.simple_function(my_input=d1.assets[0].action_id)\n",
    "result"
   ]
  },
  {
   "cell_type": "code",
   "execution_count": 65,
   "id": "d520a7fa-0fec-4516-a6c3-c487ec2f5f14",
   "metadata": {
    "tags": []
   },
   "outputs": [],
   "source": [
    "x = domain1.api.services.code.get_all()[0]"
   ]
  },
  {
   "cell_type": "code",
   "execution_count": 66,
   "id": "f475be35-c57e-43fd-abac-9b31c2671ca7",
   "metadata": {
    "tags": []
   },
   "outputs": [
    {
     "data": {
      "text/markdown": [
       "```python\n",
       "class UserCode:\n",
       "  id: str = 2146755914f543a1980ce11ef09c05c6\n",
       "  user_verify_key: str = 6f78b14f8d5afc192848ebcad304ec02388c52957f5767c1805a0c2916b32638\n",
       "  raw_code: str = \"@sy.syft_function(input_policy=sy.ExactMatch(my_input=d1.assets[0]),\n",
       "                  output_policy=sy.SingleExecutionExactOutput())\n",
       "def simple_function(my_input):\n",
       "    import numpy as np\n",
       "    a = np.array([1, 1, 1])\n",
       "    result = my_input + a\n",
       "    return result\n",
       "\"\n",
       "  input_policy: str = id=<UID: c715df4db5bc4f17aab43768444b3a42> inputs={'my_input': <UID: 84e65dbe82094d3c92ca4e059da1833b>}\n",
       "  output_policy: str = id=<UID: 89a09dc03e094adfa3e0b3a956cf11b3> outputs=[] state_type=<class 'syft.core.node.new.user_code.OutputPolicyStateExecuteOnce'>\n",
       "  output_policy_state: str = id=<UID: fb2732366d554ba8981f8b9eb9bdd719> count=0 limit=1\n",
       "  parsed_code: str = \"def user_func_simple_function_6f78b14f8d5afc192848ebcad304ec02388c52957f5767c1805a0c2916b32638_11e2363dd0fc8e827f9e7287920ad00465072e76b031bc9448e11f0fe373108f(my_input) -> Any:\n",
       "\n",
       "    def simple_function(my_input):\n",
       "        import numpy as np\n",
       "        a = np.array([1, 1, 1])\n",
       "        result = my_input + a\n",
       "        return result\n",
       "    result = simple_function(my_input=my_input)\n",
       "    return result\"\n",
       "  service_func_name: str = \"simple_function\"\n",
       "  unique_func_name: str = \"user_func_simple_function_6f78b14f8d5afc192848ebcad304ec02388c52957f5767c1805a0c2916b32638_11e2363dd0fc8e827f9e7287920ad00465072e76b031bc9448e11f0fe373108f\"\n",
       "  user_unique_func_name: str = \"user_func_simple_function_6f78b14f8d5afc192848ebcad304ec02388c52957f5767c1805a0c2916b32638\"\n",
       "  code_hash: str = \"11e2363dd0fc8e827f9e7287920ad00465072e76b031bc9448e11f0fe373108f\"\n",
       "  signature: str = (my_input) -> Dict[str, Any]\n",
       "  status: str = UserCodeStatus.SUBMITTED\n",
       "\n",
       "```"
      ],
      "text/plain": [
       "syft.core.node.new.user_code.UserCode"
      ]
     },
     "execution_count": 66,
     "metadata": {},
     "output_type": "execute_result"
    }
   ],
   "source": [
    "x"
   ]
  },
  {
   "cell_type": "code",
   "execution_count": 67,
   "id": "bfab233b-a32c-4686-b0aa-4fda095ce70e",
   "metadata": {
    "tags": []
   },
   "outputs": [],
   "source": [
    "linked_obj = LinkedObject.from_obj(x, node_uid=domain1.id)"
   ]
  },
  {
   "cell_type": "code",
   "execution_count": 68,
   "id": "8b90f951-7ded-465f-be85-d6448bf8aba4",
   "metadata": {
    "tags": []
   },
   "outputs": [
    {
     "data": {
      "text/markdown": [
       "```python\n",
       "class LinkedObject:\n",
       "  id: str = 9de0a8d84dee4595936c157c5bbc0fdf\n",
       "  node_uid: str = 34aa1081c5b63c28d0343512980e8df6\n",
       "  service_type: str = <class 'syft.core.node.new.user_code_service.UserCodeService'>\n",
       "  object_type: str = <class 'syft.core.node.new.user_code.UserCode'>\n",
       "  object_uid: str = 2146755914f543a1980ce11ef09c05c6\n",
       "\n",
       "```"
      ],
      "text/plain": [
       "syft.core.node.new.linked_obj.LinkedObject"
      ]
     },
     "execution_count": 68,
     "metadata": {},
     "output_type": "execute_result"
    }
   ],
   "source": [
    "linked_obj"
   ]
  },
  {
   "cell_type": "code",
   "execution_count": 69,
   "id": "6669705d-e51a-4650-9886-a0b831fbc163",
   "metadata": {},
   "outputs": [],
   "source": [
    "CODE_EXECUTE = EnumMutation.from_obj(linked_obj=linked_obj, attr_name=\"status\")"
   ]
  },
  {
   "cell_type": "code",
   "execution_count": 70,
   "id": "ca61e8ec-e1aa-4330-a9d2-5ede6c7e160b",
   "metadata": {
    "tags": []
   },
   "outputs": [
    {
     "data": {
      "text/markdown": [
       "```python\n",
       "class EnumMutation:\n",
       "  id: str = ba1a9440486742398f221cd6cc8e460f\n",
       "  linked_obj: str = <<class 'syft.core.node.new.user_code_service.UserCodeService'>: 2146755914f543a1980ce11ef09c05c6@<Node: 34aa1081c5b63c28d0343512980e8df6>\n",
       "  attr_name: str = \"status\"\n",
       "  value: str = None\n",
       "  match_type: str = True\n",
       "  enum_type: str = <enum 'UserCodeStatus'>\n",
       "\n",
       "```"
      ],
      "text/plain": [
       "syft.core.node.new.request.EnumMutation"
      ]
     },
     "execution_count": 70,
     "metadata": {},
     "output_type": "execute_result"
    }
   ],
   "source": [
    "CODE_EXECUTE"
   ]
  },
  {
   "cell_type": "code",
   "execution_count": 71,
   "id": "e35f83d2-1572-4b5f-a9da-9398630d9b84",
   "metadata": {},
   "outputs": [
    {
     "data": {
      "text/markdown": [
       "```python\n",
       "class EnumMutation:\n",
       "  id: str = ba1a9440486742398f221cd6cc8e460f\n",
       "  linked_obj: str = <<class 'syft.core.node.new.user_code_service.UserCodeService'>: 2146755914f543a1980ce11ef09c05c6@<Node: 34aa1081c5b63c28d0343512980e8df6>\n",
       "  attr_name: str = \"status\"\n",
       "  value: str = None\n",
       "  match_type: str = True\n",
       "  enum_type: str = <enum 'UserCodeStatus'>\n",
       "\n",
       "```"
      ],
      "text/plain": [
       "syft.core.node.new.request.EnumMutation"
      ]
     },
     "execution_count": 71,
     "metadata": {},
     "output_type": "execute_result"
    }
   ],
   "source": [
    "CODE_EXECUTE"
   ]
  },
  {
   "cell_type": "code",
   "execution_count": 72,
   "id": "cf8aa86f-ab4d-4e66-9cb2-04af76245f49",
   "metadata": {
    "tags": []
   },
   "outputs": [],
   "source": [
    "CODE_EXECUTE.value = UserCodeStatus.EXECUTE"
   ]
  },
  {
   "cell_type": "code",
   "execution_count": 73,
   "id": "f094bafa-777f-4f4b-9b28-c68af0406062",
   "metadata": {
    "tags": []
   },
   "outputs": [
    {
     "data": {
      "text/markdown": [
       "```python\n",
       "class EnumMutation:\n",
       "  id: str = ba1a9440486742398f221cd6cc8e460f\n",
       "  linked_obj: str = <<class 'syft.core.node.new.user_code_service.UserCodeService'>: 2146755914f543a1980ce11ef09c05c6@<Node: 34aa1081c5b63c28d0343512980e8df6>\n",
       "  attr_name: str = \"status\"\n",
       "  value: str = UserCodeStatus.EXECUTE\n",
       "  match_type: str = True\n",
       "  enum_type: str = <enum 'UserCodeStatus'>\n",
       "\n",
       "```"
      ],
      "text/plain": [
       "syft.core.node.new.request.EnumMutation"
      ]
     },
     "execution_count": 73,
     "metadata": {},
     "output_type": "execute_result"
    }
   ],
   "source": [
    "CODE_EXECUTE"
   ]
  },
  {
   "cell_type": "code",
   "execution_count": 74,
   "id": "3e2fb3a6-12a3-49f2-b2e7-2b30abc35299",
   "metadata": {
    "tags": []
   },
   "outputs": [],
   "source": [
    "request = sy.Request(changes=[CODE_EXECUTE])"
   ]
  },
  {
   "cell_type": "code",
   "execution_count": 75,
   "id": "d42c26b1-e8ed-4859-8f13-4defab057160",
   "metadata": {
    "tags": []
   },
   "outputs": [
    {
     "data": {
      "text/markdown": [
       "```python\n",
       "class Request:\n",
       "  id: str = 148b20baee7d49c89b88b86e490672ac\n",
       "  requesting_user_verify_key: str = 6f78b14f8d5afc192848ebcad304ec02388c52957f5767c1805a0c2916b32638\n",
       "  approving_user_verify_key: str = None\n",
       "  request_time: str = 2023-02-21 22:46:35\n",
       "  approval_time: str = None\n",
       "  status: str = RequestStatus.PENDING\n",
       "  node_uid: str = 34aa1081c5b63c28d0343512980e8df6\n",
       "  request_hash: str = \"45a84e31df0939d3e6ee46f84abf56164723d512cdc10899fc3d7e835334086b\"\n",
       "  changes: str = [syft.core.node.new.request.EnumMutation]\n",
       "\n",
       "```"
      ],
      "text/plain": [
       "syft.core.node.new.request.Request"
      ]
     },
     "execution_count": 75,
     "metadata": {},
     "output_type": "execute_result"
    }
   ],
   "source": [
    "domain1.api.services.request.submit(request)"
   ]
  },
  {
   "cell_type": "code",
   "execution_count": 76,
   "id": "81ca223b-ea2e-4f84-a596-6163dbb7ab65",
   "metadata": {
    "tags": []
   },
   "outputs": [
    {
     "data": {
      "text/html": [
       "List - Size: 1\n",
       "<div>\n",
       "<style scoped>\n",
       "    .dataframe tbody tr th:only-of-type {\n",
       "        vertical-align: middle;\n",
       "    }\n",
       "\n",
       "    .dataframe tbody tr th {\n",
       "        vertical-align: top;\n",
       "    }\n",
       "\n",
       "    .dataframe thead th {\n",
       "        text-align: right;\n",
       "    }\n",
       "</style>\n",
       "<table border=\"1\" class=\"dataframe\">\n",
       "  <thead>\n",
       "    <tr style=\"text-align: right;\">\n",
       "      <th></th>\n",
       "      <th>type</th>\n",
       "      <th>id</th>\n",
       "    </tr>\n",
       "  </thead>\n",
       "  <tbody>\n",
       "    <tr>\n",
       "      <th>0</th>\n",
       "      <td>syft.core.node.new.request.Request</td>\n",
       "      <td>148b20baee7d49c89b88b86e490672ac</td>\n",
       "    </tr>\n",
       "  </tbody>\n",
       "</table>\n",
       "</div>"
      ],
      "text/plain": [
       "<syft.core.node.new.api.APIModule at 0x1763359c0>"
      ]
     },
     "execution_count": 76,
     "metadata": {},
     "output_type": "execute_result"
    }
   ],
   "source": [
    "domain1.api.services.request"
   ]
  },
  {
   "cell_type": "code",
   "execution_count": 77,
   "id": "5a32d320-0a0c-463a-9e0e-8c394ed2c7c1",
   "metadata": {
    "tags": []
   },
   "outputs": [
    {
     "data": {
      "text/markdown": [
       "```python\n",
       "class Request:\n",
       "  id: str = 148b20baee7d49c89b88b86e490672ac\n",
       "  requesting_user_verify_key: str = 6f78b14f8d5afc192848ebcad304ec02388c52957f5767c1805a0c2916b32638\n",
       "  approving_user_verify_key: str = None\n",
       "  request_time: str = 2023-02-21 22:46:35\n",
       "  approval_time: str = None\n",
       "  status: str = RequestStatus.PENDING\n",
       "  node_uid: str = 34aa1081c5b63c28d0343512980e8df6\n",
       "  request_hash: str = \"45a84e31df0939d3e6ee46f84abf56164723d512cdc10899fc3d7e835334086b\"\n",
       "  changes: str = [syft.core.node.new.request.EnumMutation]\n",
       "\n",
       "```"
      ],
      "text/plain": [
       "syft.core.node.new.request.Request"
      ]
     },
     "execution_count": 77,
     "metadata": {},
     "output_type": "execute_result"
    }
   ],
   "source": [
    "x = domain1.api.services.request.get_all()[-1]\n",
    "x"
   ]
  },
  {
   "cell_type": "code",
   "execution_count": 78,
   "id": "7545e06a-76c1-41d0-b478-7b19a428d295",
   "metadata": {
    "tags": []
   },
   "outputs": [
    {
     "data": {
      "text/markdown": [
       "```python\n",
       "class EnumMutation:\n",
       "  id: str = ba1a9440486742398f221cd6cc8e460f\n",
       "  linked_obj: str = <<class 'syft.core.node.new.user_code_service.UserCodeService'>: 2146755914f543a1980ce11ef09c05c6@<Node: 34aa1081c5b63c28d0343512980e8df6>\n",
       "  attr_name: str = \"status\"\n",
       "  value: str = UserCodeStatus.EXECUTE\n",
       "  match_type: str = True\n",
       "  enum_type: str = <enum 'UserCodeStatus'>\n",
       "\n",
       "```"
      ],
      "text/plain": [
       "syft.core.node.new.request.EnumMutation"
      ]
     },
     "execution_count": 78,
     "metadata": {},
     "output_type": "execute_result"
    }
   ],
   "source": [
    "x.changes[0]"
   ]
  },
  {
   "cell_type": "code",
   "execution_count": 79,
   "id": "ef4bae99-25f6-4696-9b44-216ccacde150",
   "metadata": {
    "tags": []
   },
   "outputs": [
    {
     "name": "stdout",
     "output_type": "stream",
     "text": [
      "result <class 'result.result.Ok'>\n"
     ]
    },
    {
     "data": {
      "text/html": [
       "<div class=\"alert-success\" style=\"padding:5px;\"><strong>SyftSuccess</strong>: Request 148b20baee7d49c89b88b86e490672ac changes applied</div><br />"
      ],
      "text/plain": [
       "<class 'syft.core.node.new.response.SyftSuccess'>: Request 148b20baee7d49c89b88b86e490672ac changes applied"
      ]
     },
     "execution_count": 79,
     "metadata": {},
     "output_type": "execute_result"
    }
   ],
   "source": [
    "domain1.api.services.request.apply(x.id)"
   ]
  },
  {
   "cell_type": "code",
   "execution_count": 80,
   "id": "40fd0aaf-cc25-44df-8d49-94f36ac399f2",
   "metadata": {
    "tags": []
   },
   "outputs": [
    {
     "data": {
      "text/markdown": [
       "```python\n",
       "class Request:\n",
       "  id: str = 148b20baee7d49c89b88b86e490672ac\n",
       "  requesting_user_verify_key: str = 6f78b14f8d5afc192848ebcad304ec02388c52957f5767c1805a0c2916b32638\n",
       "  approving_user_verify_key: str = None\n",
       "  request_time: str = 2023-02-21 22:46:35\n",
       "  approval_time: str = None\n",
       "  status: str = RequestStatus.PENDING\n",
       "  node_uid: str = 34aa1081c5b63c28d0343512980e8df6\n",
       "  request_hash: str = \"45a84e31df0939d3e6ee46f84abf56164723d512cdc10899fc3d7e835334086b\"\n",
       "  changes: str = [syft.core.node.new.request.EnumMutation]\n",
       "\n",
       "```"
      ],
      "text/plain": [
       "syft.core.node.new.request.Request"
      ]
     },
     "execution_count": 80,
     "metadata": {},
     "output_type": "execute_result"
    }
   ],
   "source": [
    "domain1.api.services.request[-1]"
   ]
  },
  {
   "cell_type": "code",
   "execution_count": 81,
   "id": "b9468792-eb18-415c-b05e-7f8a77b90aa6",
   "metadata": {
    "tags": []
   },
   "outputs": [
    {
     "data": {
      "text/markdown": [
       "```python\n",
       "class EnumMutation:\n",
       "  id: str = ba1a9440486742398f221cd6cc8e460f\n",
       "  linked_obj: str = <<class 'syft.core.node.new.user_code_service.UserCodeService'>: 2146755914f543a1980ce11ef09c05c6@<Node: 34aa1081c5b63c28d0343512980e8df6>\n",
       "  attr_name: str = \"status\"\n",
       "  value: str = UserCodeStatus.EXECUTE\n",
       "  match_type: str = True\n",
       "  enum_type: str = <enum 'UserCodeStatus'>\n",
       "\n",
       "```"
      ],
      "text/plain": [
       "syft.core.node.new.request.EnumMutation"
      ]
     },
     "execution_count": 81,
     "metadata": {},
     "output_type": "execute_result"
    }
   ],
   "source": [
    "domain1.api.services.request[-1].changes[-1]"
   ]
  },
  {
   "cell_type": "code",
   "execution_count": 82,
   "id": "2aec9598-f8a9-4b48-aaed-9368f7898194",
   "metadata": {
    "tags": []
   },
   "outputs": [
    {
     "data": {
      "text/markdown": [
       "```python\n",
       "class UserCode:\n",
       "  id: str = 2146755914f543a1980ce11ef09c05c6\n",
       "  user_verify_key: str = 6f78b14f8d5afc192848ebcad304ec02388c52957f5767c1805a0c2916b32638\n",
       "  raw_code: str = \"@sy.syft_function(input_policy=sy.ExactMatch(my_input=d1.assets[0]),\n",
       "                  output_policy=sy.SingleExecutionExactOutput())\n",
       "def simple_function(my_input):\n",
       "    import numpy as np\n",
       "    a = np.array([1, 1, 1])\n",
       "    result = my_input + a\n",
       "    return result\n",
       "\"\n",
       "  input_policy: str = id=<UID: c715df4db5bc4f17aab43768444b3a42> inputs={'my_input': <UID: 84e65dbe82094d3c92ca4e059da1833b>}\n",
       "  output_policy: str = id=<UID: 89a09dc03e094adfa3e0b3a956cf11b3> outputs=[] state_type=<class 'syft.core.node.new.user_code.OutputPolicyStateExecuteOnce'>\n",
       "  output_policy_state: str = id=<UID: fb2732366d554ba8981f8b9eb9bdd719> count=0 limit=1\n",
       "  parsed_code: str = \"def user_func_simple_function_6f78b14f8d5afc192848ebcad304ec02388c52957f5767c1805a0c2916b32638_11e2363dd0fc8e827f9e7287920ad00465072e76b031bc9448e11f0fe373108f(my_input) -> Any:\n",
       "\n",
       "    def simple_function(my_input):\n",
       "        import numpy as np\n",
       "        a = np.array([1, 1, 1])\n",
       "        result = my_input + a\n",
       "        return result\n",
       "    result = simple_function(my_input=my_input)\n",
       "    return result\"\n",
       "  service_func_name: str = \"simple_function\"\n",
       "  unique_func_name: str = \"user_func_simple_function_6f78b14f8d5afc192848ebcad304ec02388c52957f5767c1805a0c2916b32638_11e2363dd0fc8e827f9e7287920ad00465072e76b031bc9448e11f0fe373108f\"\n",
       "  user_unique_func_name: str = \"user_func_simple_function_6f78b14f8d5afc192848ebcad304ec02388c52957f5767c1805a0c2916b32638\"\n",
       "  code_hash: str = \"11e2363dd0fc8e827f9e7287920ad00465072e76b031bc9448e11f0fe373108f\"\n",
       "  signature: str = (my_input) -> Dict[str, Any]\n",
       "  status: str = UserCodeStatus.EXECUTE\n",
       "\n",
       "```"
      ],
      "text/plain": [
       "syft.core.node.new.user_code.UserCode"
      ]
     },
     "execution_count": 82,
     "metadata": {},
     "output_type": "execute_result"
    }
   ],
   "source": [
    "x = domain1.api.services.code.get_all()[-1]\n",
    "x"
   ]
  },
  {
   "cell_type": "code",
   "execution_count": 83,
   "id": "72fec27c-3562-400a-ac4c-1fbb1a1a49a7",
   "metadata": {
    "tags": []
   },
   "outputs": [
    {
     "data": {
      "text/plain": [
       "array([2, 2, 2])"
      ]
     },
     "execution_count": 83,
     "metadata": {},
     "output_type": "execute_result"
    }
   ],
   "source": [
    "domain1.api.services.code.simple_function(my_input=d1.assets[0])"
   ]
  },
  {
   "cell_type": "code",
   "execution_count": 84,
   "id": "00b855a3-61c4-4838-be56-bc9ce642745e",
   "metadata": {
    "tags": []
   },
   "outputs": [
    {
     "data": {
      "text/html": [
       "<div class=\"alert-danger\" style=\"padding:5px;\"><strong>SyftError</strong>: Policy is no longer valid. count: 1 >= limit: 1</div><br />"
      ],
      "text/plain": [
       "<class 'syft.core.node.new.response.SyftError'>: Policy is no longer valid. count: 1 >= limit: 1"
      ]
     },
     "execution_count": 84,
     "metadata": {},
     "output_type": "execute_result"
    }
   ],
   "source": [
    "domain1.api.services.code.simple_function(my_input=d1.assets[0])"
   ]
  },
  {
   "cell_type": "code",
   "execution_count": null,
   "id": "387746cd-0e9d-41db-82dc-37e00f10d8db",
   "metadata": {},
   "outputs": [],
   "source": []
  }
 ],
 "metadata": {
  "kernelspec": {
   "display_name": "Python 3 (ipykernel)",
   "language": "python",
   "name": "python3"
  },
  "language_info": {
   "codemirror_mode": {
    "name": "ipython",
    "version": 3
   },
   "file_extension": ".py",
   "mimetype": "text/x-python",
   "name": "python",
   "nbconvert_exporter": "python",
   "pygments_lexer": "ipython3",
   "version": "3.10.9"
  }
 },
 "nbformat": 4,
 "nbformat_minor": 5
}
