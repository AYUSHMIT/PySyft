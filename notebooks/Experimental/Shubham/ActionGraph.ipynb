{
 "cells": [
  {
   "cell_type": "code",
   "execution_count": 1,
   "id": "d27c68a4",
   "metadata": {},
   "outputs": [
    {
     "name": "stderr",
     "output_type": "stream",
     "text": [
      "kj/filesystem-disk-unix.c++:1703: warning: PWD environment variable doesn't match current directory; pwd = /home/shubham/PySyft\n"
     ]
    }
   ],
   "source": [
    "from syft.service.action.action_graph_service import ActionGraphService\n",
    "from syft.service.action.action_graph import InMemoryActionGraphStore, InMemoryGraphConfig, InMemoryStoreClientConfig"
   ]
  },
  {
   "cell_type": "code",
   "execution_count": 2,
   "id": "1bb5b265",
   "metadata": {},
   "outputs": [],
   "source": [
    "import syft as sy"
   ]
  },
  {
   "cell_type": "code",
   "execution_count": 3,
   "id": "55ab1bba",
   "metadata": {},
   "outputs": [],
   "source": [
    "store_config = InMemoryGraphConfig()"
   ]
  },
  {
   "cell_type": "code",
   "execution_count": 4,
   "id": "10b32a8d",
   "metadata": {},
   "outputs": [],
   "source": [
    "graph_store = InMemoryActionGraphStore(store_config=store_config)"
   ]
  },
  {
   "cell_type": "code",
   "execution_count": 5,
   "id": "5206dc97",
   "metadata": {},
   "outputs": [],
   "source": [
    "action_graph_service = ActionGraphService(store=graph_store)"
   ]
  },
  {
   "cell_type": "code",
   "execution_count": 6,
   "id": "cb0748c8",
   "metadata": {},
   "outputs": [
    {
     "data": {
      "text/plain": [
       "<syft.service.action.action_graph.InMemoryActionGraphStore at 0x7f8120102e50>"
      ]
     },
     "execution_count": 6,
     "metadata": {},
     "output_type": "execute_result"
    }
   ],
   "source": [
    "sy.deserialize(sy.serialize(graph_store, to_bytes=True), from_bytes=True)"
   ]
  },
  {
   "cell_type": "code",
   "execution_count": 7,
   "id": "a54f6190",
   "metadata": {},
   "outputs": [],
   "source": [
    "from syft.service.context import AuthedServiceContext\n",
    "from syft.node.credentials import SyftSigningKey"
   ]
  },
  {
   "cell_type": "code",
   "execution_count": 8,
   "id": "71524fb8",
   "metadata": {},
   "outputs": [],
   "source": [
    "from syft.service.action.action_graph import Action\n",
    "from syft.service.action.numpy import NumpyArrayObject, ActionObject\n",
    "import numpy as np"
   ]
  },
  {
   "cell_type": "code",
   "execution_count": 9,
   "id": "bb4b7b94",
   "metadata": {},
   "outputs": [],
   "source": [
    "signing_key = SyftSigningKey.generate()\n",
    "authed_context = AuthedServiceContext(credentials=signing_key.verify_key)"
   ]
  },
  {
   "cell_type": "code",
   "execution_count": 10,
   "id": "97417939",
   "metadata": {},
   "outputs": [],
   "source": [
    "action_obj_a = ActionObject.from_obj([1, 2, 3])\n",
    "action_obj_b = ActionObject.from_obj([2, 3, 4])"
   ]
  },
  {
   "cell_type": "code",
   "execution_count": 11,
   "id": "11d9fde4",
   "metadata": {},
   "outputs": [
    {
     "data": {
      "text/plain": [
       "<UID: 95dafbcc8a65470abfa4569d0d1f8cd0>"
      ]
     },
     "execution_count": 11,
     "metadata": {},
     "output_type": "execute_result"
    }
   ],
   "source": [
    "action_obj_a.id"
   ]
  },
  {
   "cell_type": "code",
   "execution_count": 12,
   "id": "38bb629e",
   "metadata": {},
   "outputs": [
    {
     "data": {
      "text/markdown": [
       "```python\n",
       "class Action:\n",
       "  id: str = abb0aa40a7bc4044977c577ca19ae9d7\n",
       "  path: str = \"action.execute\"\n",
       "  op: str = \"np.array\"\n",
       "  remote_self: str = None\n",
       "  args: str = [<LineageID: 95dafbcc8a65470abfa4569d0d1f8cd0 - 1043767493669799243>]\n",
       "  kwargs: str = {}\n",
       "  result_id: str = 114e431f666044f2a704d5aed5357dc8\n",
       "\n",
       "```"
      ],
      "text/plain": [
       "syft.service.action.action_object.Action"
      ]
     },
     "execution_count": 12,
     "metadata": {},
     "output_type": "execute_result"
    }
   ],
   "source": [
    "action1 = Action(\n",
    "    path=\"action.execute\",\n",
    "    op=\"np.array\",\n",
    "    remote_self=None,\n",
    "    args=[action_obj_a.syft_lineage_id],\n",
    "    kwargs={}\n",
    ")\n",
    "action1"
   ]
  },
  {
   "cell_type": "code",
   "execution_count": 13,
   "id": "683aed4b",
   "metadata": {},
   "outputs": [
    {
     "data": {
      "text/markdown": [
       "```python\n",
       "class Action:\n",
       "  id: str = 3ee2a033d4e8481a81f4eb57e84fe96a\n",
       "  path: str = \"action.execute\"\n",
       "  op: str = \"np.array\"\n",
       "  remote_self: str = None\n",
       "  args: str = [<LineageID: d38edf56bbc945cda0e73129ce0b2645 - 2116177114579686630>]\n",
       "  kwargs: str = {}\n",
       "  result_id: str = 7a8d5138d20941adb42ef3b296645a25\n",
       "\n",
       "```"
      ],
      "text/plain": [
       "syft.service.action.action_object.Action"
      ]
     },
     "execution_count": 13,
     "metadata": {},
     "output_type": "execute_result"
    }
   ],
   "source": [
    "action2 = Action(\n",
    "    path=\"action.execute\",\n",
    "    op=\"np.array\",\n",
    "    remote_self=None,\n",
    "    args=[action_obj_b.syft_lineage_id],\n",
    "    kwargs={}\n",
    ")\n",
    "action2"
   ]
  },
  {
   "cell_type": "code",
   "execution_count": 14,
   "id": "74d171f0",
   "metadata": {},
   "outputs": [
    {
     "data": {
      "text/markdown": [
       "```python\n",
       "class NodeActionData:\n",
       "  id: str = abb0aa40a7bc4044977c577ca19ae9d7\n",
       "  action: str = syft.service.action.action_object.Action\n",
       "  status: str = ActionStatus.PROCESSING\n",
       "  retry: str = 0\n",
       "  created_at: str = 2023-04-24 00:03:08\n",
       "  updated_at: str = None\n",
       "  user_verify_key: str = 0bcd289c7b3c7c50cf51d00784cfbb519713b8da664a9700dc5d88e1d554c442\n",
       "  is_mutated: str = False\n",
       "\n",
       "```"
      ],
      "text/plain": [
       "class NodeActionData:\n",
       "  id: str = abb0aa40a7bc4044977c577ca19ae9d7\n",
       "  action: str = syft.service.action.action_object.Action\n",
       "  status: str = ActionStatus.PROCESSING\n",
       "  retry: str = 0\n",
       "  created_at: str = 2023-04-24 00:03:08\n",
       "  updated_at: str = None\n",
       "  user_verify_key: str = 0bcd289c7b3c7c50cf51d00784cfbb519713b8da664a9700dc5d88e1d554c442\n",
       "  is_mutated: str = False"
      ]
     },
     "execution_count": 14,
     "metadata": {},
     "output_type": "execute_result"
    }
   ],
   "source": [
    "action_graph_service.add_action(context=authed_context, action=action1)"
   ]
  },
  {
   "cell_type": "code",
   "execution_count": 15,
   "id": "bc52c8ba",
   "metadata": {},
   "outputs": [
    {
     "data": {
      "text/markdown": [
       "```python\n",
       "class NodeActionData:\n",
       "  id: str = 3ee2a033d4e8481a81f4eb57e84fe96a\n",
       "  action: str = syft.service.action.action_object.Action\n",
       "  status: str = ActionStatus.PROCESSING\n",
       "  retry: str = 0\n",
       "  created_at: str = 2023-04-24 00:03:08\n",
       "  updated_at: str = None\n",
       "  user_verify_key: str = 0bcd289c7b3c7c50cf51d00784cfbb519713b8da664a9700dc5d88e1d554c442\n",
       "  is_mutated: str = False\n",
       "\n",
       "```"
      ],
      "text/plain": [
       "class NodeActionData:\n",
       "  id: str = 3ee2a033d4e8481a81f4eb57e84fe96a\n",
       "  action: str = syft.service.action.action_object.Action\n",
       "  status: str = ActionStatus.PROCESSING\n",
       "  retry: str = 0\n",
       "  created_at: str = 2023-04-24 00:03:08\n",
       "  updated_at: str = None\n",
       "  user_verify_key: str = 0bcd289c7b3c7c50cf51d00784cfbb519713b8da664a9700dc5d88e1d554c442\n",
       "  is_mutated: str = False"
      ]
     },
     "execution_count": 15,
     "metadata": {},
     "output_type": "execute_result"
    }
   ],
   "source": [
    "action_graph_service.add_action(context=authed_context, action=action2)"
   ]
  },
  {
   "cell_type": "code",
   "execution_count": 16,
   "id": "ebedea80",
   "metadata": {},
   "outputs": [],
   "source": [
    "import networkx as nx"
   ]
  },
  {
   "cell_type": "code",
   "execution_count": 17,
   "id": "5a4df094",
   "metadata": {},
   "outputs": [
    {
     "data": {
      "image/png": "[encoded data removed]",
      "text/plain": [
       "<Figure size 432x288 with 1 Axes>"
      ]
     },
     "metadata": {},
     "output_type": "display_data"
    }
   ],
   "source": [
    "nx.draw_networkx(action_graph_service.store.graph.db)"
   ]
  },
  {
   "cell_type": "code",
   "execution_count": 18,
   "id": "1d5098bc",
   "metadata": {},
   "outputs": [
    {
     "data": {
      "text/markdown": [
       "```python\n",
       "class Action:\n",
       "  id: str = 98684139708341488a871dea9c9f046d\n",
       "  path: str = \"action.execute\"\n",
       "  op: str = \"__add__\"\n",
       "  remote_self: str = 114e431f666044f2a704d5aed5357dc8\n",
       "  args: str = [<LineageID: 7a8d5138d20941adb42ef3b296645a25 - 619664383033632689>]\n",
       "  kwargs: str = {}\n",
       "  result_id: str = aa872140ff754a29946ff197df77e70a\n",
       "\n",
       "```"
      ],
      "text/plain": [
       "syft.service.action.action_object.Action"
      ]
     },
     "execution_count": 18,
     "metadata": {},
     "output_type": "execute_result"
    }
   ],
   "source": [
    "action3 = Action(\n",
    "    path=\"action.execute\",\n",
    "    op=\"__add__\",\n",
    "    remote_self=action1.result_id,\n",
    "    args=[action2.result_id],\n",
    "    kwargs={}\n",
    ")\n",
    "action3"
   ]
  },
  {
   "cell_type": "code",
   "execution_count": 19,
   "id": "f7c1e4e6",
   "metadata": {},
   "outputs": [
    {
     "data": {
      "text/markdown": [
       "```python\n",
       "class NodeActionData:\n",
       "  id: str = 98684139708341488a871dea9c9f046d\n",
       "  action: str = syft.service.action.action_object.Action\n",
       "  status: str = ActionStatus.PROCESSING\n",
       "  retry: str = 0\n",
       "  created_at: str = 2023-04-24 00:03:08\n",
       "  updated_at: str = None\n",
       "  user_verify_key: str = 0bcd289c7b3c7c50cf51d00784cfbb519713b8da664a9700dc5d88e1d554c442\n",
       "  is_mutated: str = False\n",
       "\n",
       "```"
      ],
      "text/plain": [
       "class NodeActionData:\n",
       "  id: str = 98684139708341488a871dea9c9f046d\n",
       "  action: str = syft.service.action.action_object.Action\n",
       "  status: str = ActionStatus.PROCESSING\n",
       "  retry: str = 0\n",
       "  created_at: str = 2023-04-24 00:03:08\n",
       "  updated_at: str = None\n",
       "  user_verify_key: str = 0bcd289c7b3c7c50cf51d00784cfbb519713b8da664a9700dc5d88e1d554c442\n",
       "  is_mutated: str = False"
      ]
     },
     "execution_count": 19,
     "metadata": {},
     "output_type": "execute_result"
    }
   ],
   "source": [
    "action_graph_service.add_action(context=authed_context, action=action3)"
   ]
  },
  {
   "cell_type": "code",
   "execution_count": 20,
   "id": "124e3475",
   "metadata": {
    "scrolled": false
   },
   "outputs": [
    {
     "data": {
      "image/png": "[encoded data removed]",
      "text/plain": [
       "<Figure size 1440x720 with 1 Axes>"
      ]
     },
     "metadata": {},
     "output_type": "display_data"
    }
   ],
   "source": [
    "import matplotlib.pyplot as plt\n",
    "plt.figure(figsize=(20, 10))\n",
    "action_graph_service.store.graph.visualize()"
   ]
  },
  {
   "cell_type": "code",
   "execution_count": 21,
   "id": "688cf965",
   "metadata": {},
   "outputs": [],
   "source": [
    "from syft.service.action.action_graph import ActionStatus"
   ]
  },
  {
   "cell_type": "code",
   "execution_count": 22,
   "id": "e93cd503",
   "metadata": {},
   "outputs": [
    {
     "data": {
      "text/html": [
       "List - Size: 3\n",
       "<div>\n",
       "<style scoped>\n",
       "    .dataframe tbody tr th:only-of-type {\n",
       "        vertical-align: middle;\n",
       "    }\n",
       "\n",
       "    .dataframe tbody tr th {\n",
       "        vertical-align: top;\n",
       "    }\n",
       "\n",
       "    .dataframe thead th {\n",
       "        text-align: right;\n",
       "    }\n",
       "</style>\n",
       "<table border=\"1\" class=\"dataframe\">\n",
       "  <thead>\n",
       "    <tr style=\"text-align: right;\">\n",
       "      <th></th>\n",
       "      <th>type</th>\n",
       "      <th>id</th>\n",
       "    </tr>\n",
       "  </thead>\n",
       "  <tbody>\n",
       "    <tr>\n",
       "      <th>0</th>\n",
       "      <td>&lt;UID: abb0aa40a7bc4044977c577ca19ae9d7&gt;</td>\n",
       "      <td>None</td>\n",
       "    </tr>\n",
       "    <tr>\n",
       "      <th>1</th>\n",
       "      <td>&lt;UID: 3ee2a033d4e8481a81f4eb57e84fe96a&gt;</td>\n",
       "      <td>None</td>\n",
       "    </tr>\n",
       "    <tr>\n",
       "      <th>2</th>\n",
       "      <td>&lt;UID: 98684139708341488a871dea9c9f046d&gt;</td>\n",
       "      <td>None</td>\n",
       "    </tr>\n",
       "  </tbody>\n",
       "</table>\n",
       "</div>"
      ],
      "text/plain": [
       "[<UID: abb0aa40a7bc4044977c577ca19ae9d7>,\n",
       " <UID: 3ee2a033d4e8481a81f4eb57e84fe96a>,\n",
       " <UID: 98684139708341488a871dea9c9f046d>]"
      ]
     },
     "execution_count": 22,
     "metadata": {},
     "output_type": "execute_result"
    }
   ],
   "source": [
    "action_graph_service.get_by_action_status(context=authed_context, status=ActionStatus.PROCESSING)"
   ]
  },
  {
   "cell_type": "code",
   "execution_count": 23,
   "id": "443eb463",
   "metadata": {},
   "outputs": [
    {
     "data": {
      "text/html": [
       "List - Size: 3\n",
       "<div>\n",
       "<style scoped>\n",
       "    .dataframe tbody tr th:only-of-type {\n",
       "        vertical-align: middle;\n",
       "    }\n",
       "\n",
       "    .dataframe tbody tr th {\n",
       "        vertical-align: top;\n",
       "    }\n",
       "\n",
       "    .dataframe thead th {\n",
       "        text-align: right;\n",
       "    }\n",
       "</style>\n",
       "<table border=\"1\" class=\"dataframe\">\n",
       "  <thead>\n",
       "    <tr style=\"text-align: right;\">\n",
       "      <th></th>\n",
       "      <th>type</th>\n",
       "      <th>id</th>\n",
       "    </tr>\n",
       "  </thead>\n",
       "  <tbody>\n",
       "    <tr>\n",
       "      <th>0</th>\n",
       "      <td>&lt;UID: abb0aa40a7bc4044977c577ca19ae9d7&gt;</td>\n",
       "      <td>None</td>\n",
       "    </tr>\n",
       "    <tr>\n",
       "      <th>1</th>\n",
       "      <td>&lt;UID: 3ee2a033d4e8481a81f4eb57e84fe96a&gt;</td>\n",
       "      <td>None</td>\n",
       "    </tr>\n",
       "    <tr>\n",
       "      <th>2</th>\n",
       "      <td>&lt;UID: 98684139708341488a871dea9c9f046d&gt;</td>\n",
       "      <td>None</td>\n",
       "    </tr>\n",
       "  </tbody>\n",
       "</table>\n",
       "</div>"
      ],
      "text/plain": [
       "[<UID: abb0aa40a7bc4044977c577ca19ae9d7>,\n",
       " <UID: 3ee2a033d4e8481a81f4eb57e84fe96a>,\n",
       " <UID: 98684139708341488a871dea9c9f046d>]"
      ]
     },
     "execution_count": 23,
     "metadata": {},
     "output_type": "execute_result"
    }
   ],
   "source": [
    "action_graph_service.get_by_verify_key(context=authed_context, verify_key=signing_key.verify_key)"
   ]
  },
  {
   "cell_type": "code",
   "execution_count": 24,
   "id": "6ef5884a",
   "metadata": {},
   "outputs": [],
   "source": [
    "action_obj_c = ActionObject.from_obj(23)"
   ]
  },
  {
   "cell_type": "code",
   "execution_count": 25,
   "id": "7ea8a428",
   "metadata": {},
   "outputs": [
    {
     "data": {
      "text/markdown": [
       "```python\n",
       "class Action:\n",
       "  id: str = 5d1be306e18649dc9c9249ef253c5466\n",
       "  path: str = \"action.execute\"\n",
       "  op: str = \"__mul__\"\n",
       "  remote_self: str = aa872140ff754a29946ff197df77e70a\n",
       "  args: str = [<LineageID: fc442b3020154434a58469463e478328 - 551060690433058060>]\n",
       "  kwargs: str = {}\n",
       "  result_id: str = 2da94afab2db4e8a9c43d7946db9e0fe\n",
       "\n",
       "```"
      ],
      "text/plain": [
       "syft.service.action.action_object.Action"
      ]
     },
     "execution_count": 25,
     "metadata": {},
     "output_type": "execute_result"
    }
   ],
   "source": [
    "action4 = Action(\n",
    "    path=\"action.execute\",\n",
    "    op=\"__mul__\",\n",
    "    remote_self=action3.result_id,\n",
    "    args=[action_obj_c.syft_lineage_id],\n",
    "    kwargs={}\n",
    ")\n",
    "action4"
   ]
  },
  {
   "cell_type": "code",
   "execution_count": 26,
   "id": "1f832855",
   "metadata": {},
   "outputs": [
    {
     "data": {
      "text/markdown": [
       "```python\n",
       "class NodeActionData:\n",
       "  id: str = 5d1be306e18649dc9c9249ef253c5466\n",
       "  action: str = syft.service.action.action_object.Action\n",
       "  status: str = ActionStatus.PROCESSING\n",
       "  retry: str = 0\n",
       "  created_at: str = 2023-04-24 00:03:08\n",
       "  updated_at: str = None\n",
       "  user_verify_key: str = 0bcd289c7b3c7c50cf51d00784cfbb519713b8da664a9700dc5d88e1d554c442\n",
       "  is_mutated: str = False\n",
       "\n",
       "```"
      ],
      "text/plain": [
       "class NodeActionData:\n",
       "  id: str = 5d1be306e18649dc9c9249ef253c5466\n",
       "  action: str = syft.service.action.action_object.Action\n",
       "  status: str = ActionStatus.PROCESSING\n",
       "  retry: str = 0\n",
       "  created_at: str = 2023-04-24 00:03:08\n",
       "  updated_at: str = None\n",
       "  user_verify_key: str = 0bcd289c7b3c7c50cf51d00784cfbb519713b8da664a9700dc5d88e1d554c442\n",
       "  is_mutated: str = False"
      ]
     },
     "execution_count": 26,
     "metadata": {},
     "output_type": "execute_result"
    }
   ],
   "source": [
    "action_graph_service.add_action(context=authed_context, action=action4)"
   ]
  },
  {
   "cell_type": "code",
   "execution_count": 27,
   "id": "53b6ac0f",
   "metadata": {},
   "outputs": [
    {
     "data": {
      "image/png": "[encoded data removed]",
      "text/plain": [
       "<Figure size 1440x720 with 1 Axes>"
      ]
     },
     "metadata": {},
     "output_type": "display_data"
    }
   ],
   "source": [
    "import matplotlib.pyplot as plt\n",
    "plt.figure(figsize=(20, 10))\n",
    "action_graph_service.store.graph.visualize()"
   ]
  },
  {
   "cell_type": "code",
   "execution_count": 28,
   "id": "528b4aaf",
   "metadata": {},
   "outputs": [],
   "source": [
    "action_obj_d = ActionObject.from_obj(\"np.int32\")"
   ]
  },
  {
   "cell_type": "code",
   "execution_count": 29,
   "id": "c2e761c1",
   "metadata": {},
   "outputs": [
    {
     "data": {
      "text/markdown": [
       "```python\n",
       "class Action:\n",
       "  id: str = 0f391bbf0d4c4df2a659b3d033e52565\n",
       "  path: str = \"action.execute\"\n",
       "  op: str = \"astype\"\n",
       "  remote_self: str = 114e431f666044f2a704d5aed5357dc8\n",
       "  args: str = [<LineageID: f89847ebb2b94b1da23f3c4ef6d4e3a3 - 504820614266043598>]\n",
       "  kwargs: str = {}\n",
       "  result_id: str = 114e431f666044f2a704d5aed5357dc8\n",
       "\n",
       "```"
      ],
      "text/plain": [
       "syft.service.action.action_object.Action"
      ]
     },
     "execution_count": 29,
     "metadata": {},
     "output_type": "execute_result"
    }
   ],
   "source": [
    "# How is an action created when the args and kwargs are not numbers\n",
    "\n",
    "action5 = Action(\n",
    "    path=\"action.execute\",\n",
    "    op=\"astype\",\n",
    "    remote_self=action1.result_id,\n",
    "    args=[action_obj_d.syft_lineage_id],\n",
    "    kwargs={},\n",
    "    result_id=action1.result_id\n",
    ")\n",
    "action5"
   ]
  },
  {
   "cell_type": "code",
   "execution_count": 30,
   "id": "af58a23d",
   "metadata": {},
   "outputs": [],
   "source": [
    "action_1_node_data = action_graph_service.store.get(uid=action1.id, credentials=authed_context).ok()"
   ]
  },
  {
   "cell_type": "code",
   "execution_count": 31,
   "id": "cbc8f634",
   "metadata": {},
   "outputs": [
    {
     "data": {
      "text/markdown": [
       "```python\n",
       "class NodeActionData:\n",
       "  id: str = 0f391bbf0d4c4df2a659b3d033e52565\n",
       "  action: str = syft.service.action.action_object.Action\n",
       "  status: str = ActionStatus.PROCESSING\n",
       "  retry: str = 0\n",
       "  created_at: str = 2023-04-24 00:03:08\n",
       "  updated_at: str = None\n",
       "  user_verify_key: str = 0bcd289c7b3c7c50cf51d00784cfbb519713b8da664a9700dc5d88e1d554c442\n",
       "  is_mutated: str = False\n",
       "\n",
       "```"
      ],
      "text/plain": [
       "class NodeActionData:\n",
       "  id: str = 0f391bbf0d4c4df2a659b3d033e52565\n",
       "  action: str = syft.service.action.action_object.Action\n",
       "  status: str = ActionStatus.PROCESSING\n",
       "  retry: str = 0\n",
       "  created_at: str = 2023-04-24 00:03:08\n",
       "  updated_at: str = None\n",
       "  user_verify_key: str = 0bcd289c7b3c7c50cf51d00784cfbb519713b8da664a9700dc5d88e1d554c442\n",
       "  is_mutated: str = False"
      ]
     },
     "execution_count": 31,
     "metadata": {},
     "output_type": "execute_result"
    }
   ],
   "source": [
    "action_graph_service.add_action(context=authed_context, action=action5)"
   ]
  },
  {
   "cell_type": "code",
   "execution_count": 32,
   "id": "ab68a1f4",
   "metadata": {},
   "outputs": [
    {
     "data": {
      "text/markdown": [
       "```python\n",
       "class NodeActionData:\n",
       "  id: str = abb0aa40a7bc4044977c577ca19ae9d7\n",
       "  action: str = syft.service.action.action_object.Action\n",
       "  status: str = ActionStatus.PROCESSING\n",
       "  retry: str = 0\n",
       "  created_at: str = 2023-04-24 00:03:08\n",
       "  updated_at: str = None\n",
       "  user_verify_key: str = 0bcd289c7b3c7c50cf51d00784cfbb519713b8da664a9700dc5d88e1d554c442\n",
       "  is_mutated: str = False\n",
       "\n",
       "```"
      ],
      "text/plain": [
       "class NodeActionData:\n",
       "  id: str = abb0aa40a7bc4044977c577ca19ae9d7\n",
       "  action: str = syft.service.action.action_object.Action\n",
       "  status: str = ActionStatus.PROCESSING\n",
       "  retry: str = 0\n",
       "  created_at: str = 2023-04-24 00:03:08\n",
       "  updated_at: str = None\n",
       "  user_verify_key: str = 0bcd289c7b3c7c50cf51d00784cfbb519713b8da664a9700dc5d88e1d554c442\n",
       "  is_mutated: str = False"
      ]
     },
     "execution_count": 32,
     "metadata": {},
     "output_type": "execute_result"
    }
   ],
   "source": [
    "action_1_node_data"
   ]
  },
  {
   "cell_type": "code",
   "execution_count": 33,
   "id": "495d7e1e",
   "metadata": {},
   "outputs": [],
   "source": [
    "action_1_node_data.is_mutated = True"
   ]
  },
  {
   "cell_type": "code",
   "execution_count": 34,
   "id": "a5c44110",
   "metadata": {},
   "outputs": [
    {
     "data": {
      "text/markdown": [
       "```python\n",
       "class NodeActionData:\n",
       "  id: str = abb0aa40a7bc4044977c577ca19ae9d7\n",
       "  action: str = syft.service.action.action_object.Action\n",
       "  status: str = ActionStatus.PROCESSING\n",
       "  retry: str = 0\n",
       "  created_at: str = 2023-04-24 00:03:08\n",
       "  updated_at: str = None\n",
       "  user_verify_key: str = 0bcd289c7b3c7c50cf51d00784cfbb519713b8da664a9700dc5d88e1d554c442\n",
       "  is_mutated: str = True\n",
       "\n",
       "```"
      ],
      "text/plain": [
       "class NodeActionData:\n",
       "  id: str = abb0aa40a7bc4044977c577ca19ae9d7\n",
       "  action: str = syft.service.action.action_object.Action\n",
       "  status: str = ActionStatus.PROCESSING\n",
       "  retry: str = 0\n",
       "  created_at: str = 2023-04-24 00:03:08\n",
       "  updated_at: str = None\n",
       "  user_verify_key: str = 0bcd289c7b3c7c50cf51d00784cfbb519713b8da664a9700dc5d88e1d554c442\n",
       "  is_mutated: str = True"
      ]
     },
     "execution_count": 34,
     "metadata": {},
     "output_type": "execute_result"
    }
   ],
   "source": [
    "action_1_node_data"
   ]
  },
  {
   "cell_type": "code",
   "execution_count": 35,
   "id": "84c1fe9f",
   "metadata": {},
   "outputs": [],
   "source": [
    "setattr(action_1_node_data, \"is_mutated\", True)"
   ]
  },
  {
   "cell_type": "code",
   "execution_count": 36,
   "id": "70d6faff",
   "metadata": {},
   "outputs": [
    {
     "data": {
      "text/markdown": [
       "```python\n",
       "class NodeActionData:\n",
       "  id: str = abb0aa40a7bc4044977c577ca19ae9d7\n",
       "  action: str = syft.service.action.action_object.Action\n",
       "  status: str = ActionStatus.PROCESSING\n",
       "  retry: str = 0\n",
       "  created_at: str = 2023-04-24 00:03:08\n",
       "  updated_at: str = None\n",
       "  user_verify_key: str = 0bcd289c7b3c7c50cf51d00784cfbb519713b8da664a9700dc5d88e1d554c442\n",
       "  is_mutated: str = True\n",
       "\n",
       "```"
      ],
      "text/plain": [
       "class NodeActionData:\n",
       "  id: str = abb0aa40a7bc4044977c577ca19ae9d7\n",
       "  action: str = syft.service.action.action_object.Action\n",
       "  status: str = ActionStatus.PROCESSING\n",
       "  retry: str = 0\n",
       "  created_at: str = 2023-04-24 00:03:08\n",
       "  updated_at: str = None\n",
       "  user_verify_key: str = 0bcd289c7b3c7c50cf51d00784cfbb519713b8da664a9700dc5d88e1d554c442\n",
       "  is_mutated: str = True"
      ]
     },
     "execution_count": 36,
     "metadata": {},
     "output_type": "execute_result"
    }
   ],
   "source": [
    "action_1_node_data"
   ]
  },
  {
   "cell_type": "code",
   "execution_count": 37,
   "id": "d57163d8",
   "metadata": {},
   "outputs": [
    {
     "data": {
      "text/markdown": [
       "```python\n",
       "class NodeActionData:\n",
       "  id: str = abb0aa40a7bc4044977c577ca19ae9d7\n",
       "  action: str = syft.service.action.action_object.Action\n",
       "  status: str = ActionStatus.PROCESSING\n",
       "  retry: str = 0\n",
       "  created_at: str = 2023-04-24 00:03:08\n",
       "  updated_at: str = None\n",
       "  user_verify_key: str = 0bcd289c7b3c7c50cf51d00784cfbb519713b8da664a9700dc5d88e1d554c442\n",
       "  is_mutated: str = True\n",
       "\n",
       "```"
      ],
      "text/plain": [
       "class NodeActionData:\n",
       "  id: str = abb0aa40a7bc4044977c577ca19ae9d7\n",
       "  action: str = syft.service.action.action_object.Action\n",
       "  status: str = ActionStatus.PROCESSING\n",
       "  retry: str = 0\n",
       "  created_at: str = 2023-04-24 00:03:08\n",
       "  updated_at: str = None\n",
       "  user_verify_key: str = 0bcd289c7b3c7c50cf51d00784cfbb519713b8da664a9700dc5d88e1d554c442\n",
       "  is_mutated: str = True"
      ]
     },
     "execution_count": 37,
     "metadata": {},
     "output_type": "execute_result"
    }
   ],
   "source": [
    "action_graph_service.update(authed_context, action1.id, action_1_node_data)"
   ]
  },
  {
   "cell_type": "code",
   "execution_count": 38,
   "id": "937c9bd3",
   "metadata": {},
   "outputs": [
    {
     "data": {
      "image/png": "[encoded data removed]",
      "text/plain": [
       "<Figure size 1440x720 with 1 Axes>"
      ]
     },
     "metadata": {},
     "output_type": "display_data"
    }
   ],
   "source": [
    "import matplotlib.pyplot as plt\n",
    "plt.figure(figsize=(20, 10))\n",
    "action_graph_service.store.graph.visualize()"
   ]
  },
  {
   "cell_type": "code",
   "execution_count": 39,
   "id": "05eb2792",
   "metadata": {},
   "outputs": [
    {
     "data": {
      "text/markdown": [
       "```python\n",
       "class Action:\n",
       "  id: str = cdbced7a0fa64585b5f46396d7460ab2\n",
       "  path: str = \"action.execute\"\n",
       "  op: str = \"__add__\"\n",
       "  remote_self: str = 114e431f666044f2a704d5aed5357dc8\n",
       "  args: str = [<LineageID: fc442b3020154434a58469463e478328 - 551060690433058060>]\n",
       "  kwargs: str = {}\n",
       "  result_id: str = 5b8993c153444877a8ba883e668d6140\n",
       "\n",
       "```"
      ],
      "text/plain": [
       "syft.service.action.action_object.Action"
      ]
     },
     "execution_count": 39,
     "metadata": {},
     "output_type": "execute_result"
    }
   ],
   "source": [
    "# How is an action created when the args and kwargs are not numbers\n",
    "\n",
    "action6 = Action(\n",
    "    path=\"action.execute\",\n",
    "    op=\"__add__\",\n",
    "    remote_self=action1.result_id,\n",
    "    args=[action_obj_c.syft_lineage_id],\n",
    "    kwargs={},\n",
    ")\n",
    "action6"
   ]
  },
  {
   "cell_type": "code",
   "execution_count": 40,
   "id": "d9903856",
   "metadata": {},
   "outputs": [
    {
     "data": {
      "text/markdown": [
       "```python\n",
       "class NodeActionData:\n",
       "  id: str = cdbced7a0fa64585b5f46396d7460ab2\n",
       "  action: str = syft.service.action.action_object.Action\n",
       "  status: str = ActionStatus.PROCESSING\n",
       "  retry: str = 0\n",
       "  created_at: str = 2023-04-24 00:03:20\n",
       "  updated_at: str = None\n",
       "  user_verify_key: str = 0bcd289c7b3c7c50cf51d00784cfbb519713b8da664a9700dc5d88e1d554c442\n",
       "  is_mutated: str = False\n",
       "\n",
       "```"
      ],
      "text/plain": [
       "class NodeActionData:\n",
       "  id: str = cdbced7a0fa64585b5f46396d7460ab2\n",
       "  action: str = syft.service.action.action_object.Action\n",
       "  status: str = ActionStatus.PROCESSING\n",
       "  retry: str = 0\n",
       "  created_at: str = 2023-04-24 00:03:20\n",
       "  updated_at: str = None\n",
       "  user_verify_key: str = 0bcd289c7b3c7c50cf51d00784cfbb519713b8da664a9700dc5d88e1d554c442\n",
       "  is_mutated: str = False"
      ]
     },
     "execution_count": 40,
     "metadata": {},
     "output_type": "execute_result"
    }
   ],
   "source": [
    "action_graph_service.add_action(context=authed_context, action=action6)"
   ]
  },
  {
   "cell_type": "code",
   "execution_count": 41,
   "id": "8d82eeec",
   "metadata": {},
   "outputs": [
    {
     "data": {
      "image/png": "[encoded data removed]",
      "text/plain": [
       "<Figure size 1440x720 with 1 Axes>"
      ]
     },
     "metadata": {},
     "output_type": "display_data"
    }
   ],
   "source": [
    "import matplotlib.pyplot as plt\n",
    "plt.figure(figsize=(20, 10))\n",
    "action_graph_service.store.graph.visualize()"
   ]
  },
  {
   "cell_type": "code",
   "execution_count": 45,
   "id": "08260181",
   "metadata": {},
   "outputs": [
    {
     "data": {
      "text/plain": [
       "'[<UID: 287f667bf0c14afca0607cf486445519>, <UID: fa0005f34339441aa07140653194bc2d>, <UID: 2c4d591a57804a21ad627dd7ef8303bf>, <UID: b46031f22302446faab0968ebc516d3d>, <UID: 3cde5dc9fcdd44d2bee74deb5edbfc94>, <UID: bced99605c9b4c3abae57c0ec7fb2047>]'"
      ]
     },
     "execution_count": 45,
     "metadata": {},
     "output_type": "execute_result"
    }
   ],
   "source": [
    "action_graph_service.get_by_action_status(context=authed_context, status=ActionStatus.PROCESSING).__repr__()"
   ]
  },
  {
   "cell_type": "code",
   "execution_count": 54,
   "id": "7d7916a2",
   "metadata": {},
   "outputs": [
    {
     "data": {
      "text/plain": [
       "NodeDataView({<UID: 287f667bf0c14afca0607cf486445519>: {'data': class NodeActionData:\n",
       "  id: str = 287f667bf0c14afca0607cf486445519\n",
       "  action: str = syft.service.action.action_object.Action\n",
       "  status: str = ActionStatus.PROCESSING\n",
       "  retry: str = 0\n",
       "  created_at: str = 2023-04-22 06:48:57\n",
       "  updated_at: str = None\n",
       "  user_verify_key: str = f0d4c5c2e1aff12f710b42569aab38cc87fb9fa36c29e61b70e2ec325c82ab27\n",
       "  is_mutated: str = False\n",
       "}, <UID: fa0005f34339441aa07140653194bc2d>: {'data': class NodeActionData:\n",
       "  id: str = fa0005f34339441aa07140653194bc2d\n",
       "  action: str = syft.service.action.action_object.Action\n",
       "  status: str = ActionStatus.PROCESSING\n",
       "  retry: str = 0\n",
       "  created_at: str = 2023-04-22 06:48:58\n",
       "  updated_at: str = None\n",
       "  user_verify_key: str = f0d4c5c2e1aff12f710b42569aab38cc87fb9fa36c29e61b70e2ec325c82ab27\n",
       "  is_mutated: str = False\n",
       "}, <UID: b46031f22302446faab0968ebc516d3d>: {'data': class NodeActionData:\n",
       "  id: str = b46031f22302446faab0968ebc516d3d\n",
       "  action: str = syft.service.action.action_object.Action\n",
       "  status: str = ActionStatus.PROCESSING\n",
       "  retry: str = 0\n",
       "  created_at: str = 2023-04-22 06:48:59\n",
       "  updated_at: str = None\n",
       "  user_verify_key: str = f0d4c5c2e1aff12f710b42569aab38cc87fb9fa36c29e61b70e2ec325c82ab27\n",
       "  is_mutated: str = False\n",
       "}, <UID: bced99605c9b4c3abae57c0ec7fb2047>: {'data': class NodeActionData:\n",
       "  id: str = bced99605c9b4c3abae57c0ec7fb2047\n",
       "  action: str = syft.service.action.action_object.Action\n",
       "  status: str = ActionStatus.PROCESSING\n",
       "  retry: str = 0\n",
       "  created_at: str = 2023-04-22 06:49:04\n",
       "  updated_at: str = None\n",
       "  user_verify_key: str = f0d4c5c2e1aff12f710b42569aab38cc87fb9fa36c29e61b70e2ec325c82ab27\n",
       "  is_mutated: str = False\n",
       "}, <UID: 2c4d591a57804a21ad627dd7ef8303bf>: {'data': class NodeActionData:\n",
       "  id: str = 2c4d591a57804a21ad627dd7ef8303bf\n",
       "  action: str = syft.service.action.action_object.Action\n",
       "  status: str = ActionStatus.PROCESSING\n",
       "  retry: str = 0\n",
       "  created_at: str = 2023-04-22 06:49:06\n",
       "  updated_at: str = None\n",
       "  user_verify_key: str = f0d4c5c2e1aff12f710b42569aab38cc87fb9fa36c29e61b70e2ec325c82ab27\n",
       "  is_mutated: str = False\n",
       "}, <UID: 3cde5dc9fcdd44d2bee74deb5edbfc94>: {'data': class NodeActionData:\n",
       "  id: str = 3cde5dc9fcdd44d2bee74deb5edbfc94\n",
       "  action: str = syft.service.action.action_object.Action\n",
       "  status: str = ActionStatus.PROCESSING\n",
       "  retry: str = 0\n",
       "  created_at: str = 2023-04-22 06:49:38\n",
       "  updated_at: str = None\n",
       "  user_verify_key: str = f0d4c5c2e1aff12f710b42569aab38cc87fb9fa36c29e61b70e2ec325c82ab27\n",
       "  is_mutated: str = False\n",
       "}})"
      ]
     },
     "execution_count": 54,
     "metadata": {},
     "output_type": "execute_result"
    }
   ],
   "source": [
    "action_graph_service.get_all_nodes(authed_context)"
   ]
  },
  {
   "cell_type": "code",
   "execution_count": 53,
   "id": "f805ce20",
   "metadata": {},
   "outputs": [
    {
     "data": {
      "text/plain": [
       "OutEdgeView([(<UID: 287f667bf0c14afca0607cf486445519>, <UID: b46031f22302446faab0968ebc516d3d>), (<UID: 287f667bf0c14afca0607cf486445519>, <UID: 2c4d591a57804a21ad627dd7ef8303bf>), (<UID: 287f667bf0c14afca0607cf486445519>, <UID: 3cde5dc9fcdd44d2bee74deb5edbfc94>), (<UID: fa0005f34339441aa07140653194bc2d>, <UID: b46031f22302446faab0968ebc516d3d>), (<UID: b46031f22302446faab0968ebc516d3d>, <UID: bced99605c9b4c3abae57c0ec7fb2047>), (<UID: 2c4d591a57804a21ad627dd7ef8303bf>, <UID: 3cde5dc9fcdd44d2bee74deb5edbfc94>)])"
      ]
     },
     "execution_count": 53,
     "metadata": {},
     "output_type": "execute_result"
    }
   ],
   "source": [
    "action_graph_service.get_all_edges(authed_context)"
   ]
  },
  {
   "cell_type": "code",
   "execution_count": 49,
   "id": "84c34e40",
   "metadata": {},
   "outputs": [
    {
     "ename": "TypeError",
     "evalue": "tuple indices must be integers or slices, not str",
     "output_type": "error",
     "traceback": [
      "\u001b[0;31m---------------------------------------------------------------------------\u001b[0m",
      "\u001b[0;31mTypeError\u001b[0m                                 Traceback (most recent call last)",
      "Input \u001b[0;32mIn [49]\u001b[0m, in \u001b[0;36m<module>\u001b[0;34m\u001b[0m\n\u001b[0;32m----> 1\u001b[0m \u001b[38;5;28;43msorted\u001b[39;49m\u001b[43m(\u001b[49m\u001b[43maction_graph_service\u001b[49m\u001b[38;5;241;43m.\u001b[39;49m\u001b[43mget_all_nodes\u001b[49m\u001b[43m(\u001b[49m\u001b[43mauthed_context\u001b[49m\u001b[43m)\u001b[49m\u001b[43m,\u001b[49m\u001b[43m \u001b[49m\u001b[43mkey\u001b[49m\u001b[38;5;241;43m=\u001b[39;49m\u001b[38;5;28;43;01mlambda\u001b[39;49;00m\u001b[43m \u001b[49m\u001b[43mx\u001b[49m\u001b[43m:\u001b[49m\u001b[43m \u001b[49m\u001b[43mx\u001b[49m\u001b[43m[\u001b[49m\u001b[38;5;124;43m'\u001b[39;49m\u001b[38;5;124;43mcreated_at\u001b[39;49m\u001b[38;5;124;43m'\u001b[39;49m\u001b[43m]\u001b[49m\u001b[43m)\u001b[49m\n",
      "Input \u001b[0;32mIn [49]\u001b[0m, in \u001b[0;36m<lambda>\u001b[0;34m(x)\u001b[0m\n\u001b[0;32m----> 1\u001b[0m \u001b[38;5;28msorted\u001b[39m(action_graph_service\u001b[38;5;241m.\u001b[39mget_all_nodes(authed_context), key\u001b[38;5;241m=\u001b[39m\u001b[38;5;28;01mlambda\u001b[39;00m x: \u001b[43mx\u001b[49m\u001b[43m[\u001b[49m\u001b[38;5;124;43m'\u001b[39;49m\u001b[38;5;124;43mcreated_at\u001b[39;49m\u001b[38;5;124;43m'\u001b[39;49m\u001b[43m]\u001b[49m)\n",
      "\u001b[0;31mTypeError\u001b[0m: tuple indices must be integers or slices, not str"
     ]
    }
   ],
   "source": [
    "sorted(action_graph_service.get_all_nodes(authed_context), key=lambda x: x['created_at'])"
   ]
  },
  {
   "cell_type": "code",
   "execution_count": null,
   "id": "3d2bbc94",
   "metadata": {
    "run_control": {
     "marked": true
    }
   },
   "outputs": [],
   "source": [
    "# class ActionGraph:\n",
    "#     def __init__(self):\n",
    "#         self.graph = nx.DiGraph()\n",
    "        \n",
    "#     def add(self, node: ActionGraphObject):\n",
    "#         self.graph.add_node(node.id, data=node)\n",
    "        \n",
    "#     def add_relationship(self, nodeA: ActionGraphObject, nodeB: ActionGraphObject):\n",
    "#         self.graph.add_edge(nodeA, nodeB)\n",
    "        \n",
    "#     def remove_node(self, node: ActionGraphObject):\n",
    "#         self.graph.remove_node(node)\n",
    "    \n",
    "#     def remove_edge(self, node: ActionGraphObject):\n",
    "#         self.graph.remove_edge(node)\n",
    "        \n",
    "#     def neighbors_for(self, node: ActionGraphObject):\n",
    "#         return list(self.graph.neighbors(node))\n",
    "        \n",
    "#     def visualize(self, arrows: bool = True):\n",
    "#         return nx.draw_networkx(self.graph)\n",
    "        \n",
    "#     def remove_all_nodes_from(self, node: ActionGraphObject):\n",
    "#         all_adjacent_neighbors: list = []\n",
    "            \n",
    "#         def find_adjacent_neighbors(node: ActionGraphObject, neighbors: set):           \n",
    "#             if not self.graph.neighbors(node):\n",
    "#                 return \n",
    "\n",
    "#             my_neighbors = self.graph.neighbors(node)\n",
    "#             for n in my_neighbors:\n",
    "#                 if n not in neighbors:\n",
    "#                     neighbors.add(n)\n",
    "#                     self.find_adjacent_neighbors(n, neighbors)\n",
    "                \n",
    "#         find_adjacent_neighbors(all_adjacent_neighbors)\n",
    "#         return all_adjacent_neighbors"
   ]
  },
  {
   "cell_type": "code",
   "execution_count": null,
   "id": "07d7f1ce",
   "metadata": {},
   "outputs": [],
   "source": []
  }
 ],
 "metadata": {
  "kernelspec": {
   "display_name": "Python 3 (ipykernel)",
   "language": "python",
   "name": "python3"
  },
  "language_info": {
   "codemirror_mode": {
    "name": "ipython",
    "version": 3
   },
   "file_extension": ".py",
   "mimetype": "text/x-python",
   "name": "python",
   "nbconvert_exporter": "python",
   "pygments_lexer": "ipython3",
   "version": "3.9.7"
  }
 },
 "nbformat": 4,
 "nbformat_minor": 5
}
