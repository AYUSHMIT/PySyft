{
 "cells": [
  {
   "cell_type": "code",
   "execution_count": 1,
   "id": "d27c68a4",
   "metadata": {},
   "outputs": [
    {
     "name": "stderr",
     "output_type": "stream",
     "text": [
      "kj/filesystem-disk-unix.c++:1703: warning: PWD environment variable doesn't match current directory; pwd = /home/shubham/PySyft\n"
     ]
    }
   ],
   "source": [
    "from syft.service.action.action_graph_service import ActionGraphService\n",
    "from syft.service.action.action_graph import InMemoryActionGraphStore, InMemoryGraphConfig, InMemoryStoreClientConfig"
   ]
  },
  {
   "cell_type": "code",
   "execution_count": 2,
   "id": "1bb5b265",
   "metadata": {},
   "outputs": [],
   "source": [
    "import syft as sy"
   ]
  },
  {
   "cell_type": "code",
   "execution_count": 3,
   "id": "55ab1bba",
   "metadata": {},
   "outputs": [],
   "source": [
    "store_config = InMemoryGraphConfig()"
   ]
  },
  {
   "cell_type": "code",
   "execution_count": 4,
   "id": "10b32a8d",
   "metadata": {},
   "outputs": [],
   "source": [
    "graph_store = InMemoryActionGraphStore(store_config=store_config)"
   ]
  },
  {
   "cell_type": "code",
   "execution_count": 5,
   "id": "5206dc97",
   "metadata": {},
   "outputs": [],
   "source": [
    "action_graph_service = ActionGraphService(store=graph_store)"
   ]
  },
  {
   "cell_type": "code",
   "execution_count": 6,
   "id": "cb0748c8",
   "metadata": {},
   "outputs": [
    {
     "data": {
      "text/plain": [
       "<syft.service.action.action_graph.InMemoryActionGraphStore at 0x7fd0e3876970>"
      ]
     },
     "execution_count": 6,
     "metadata": {},
     "output_type": "execute_result"
    }
   ],
   "source": [
    "sy.deserialize(sy.serialize(graph_store, to_bytes=True), from_bytes=True)"
   ]
  },
  {
   "cell_type": "code",
   "execution_count": 7,
   "id": "a54f6190",
   "metadata": {},
   "outputs": [],
   "source": [
    "from syft.service.context import AuthedServiceContext\n",
    "from syft.node.credentials import SyftSigningKey"
   ]
  },
  {
   "cell_type": "code",
   "execution_count": 8,
   "id": "71524fb8",
   "metadata": {},
   "outputs": [],
   "source": [
    "from syft.service.action.action_graph import Action\n",
    "from syft.service.action.numpy import NumpyArrayObject, ActionObject\n",
    "import numpy as np"
   ]
  },
  {
   "cell_type": "code",
   "execution_count": 9,
   "id": "bb4b7b94",
   "metadata": {},
   "outputs": [],
   "source": [
    "signing_key = SyftSigningKey.generate()\n",
    "authed_context = AuthedServiceContext(credentials=signing_key.verify_key)"
   ]
  },
  {
   "cell_type": "code",
   "execution_count": 10,
   "id": "97417939",
   "metadata": {},
   "outputs": [],
   "source": [
    "action_obj_a = ActionObject.from_obj([1, 2, 3])\n",
    "action_obj_b = ActionObject.from_obj([2, 3, 4])"
   ]
  },
  {
   "cell_type": "code",
   "execution_count": 11,
   "id": "11d9fde4",
   "metadata": {},
   "outputs": [
    {
     "data": {
      "text/plain": [
       "<UID: dcebe701fa724d5899508d8acc9549b3>"
      ]
     },
     "execution_count": 11,
     "metadata": {},
     "output_type": "execute_result"
    }
   ],
   "source": [
    "action_obj_a.id"
   ]
  },
  {
   "cell_type": "code",
   "execution_count": 12,
   "id": "38bb629e",
   "metadata": {},
   "outputs": [
    {
     "data": {
      "text/markdown": [
       "```python\n",
       "class Action:\n",
       "  id: str = d533c630c6994305a70c3c16aee3e0ba\n",
       "  path: str = \"action.execute\"\n",
       "  op: str = \"np.array\"\n",
       "  remote_self: str = None\n",
       "  args: str = [<LineageID: dcebe701fa724d5899508d8acc9549b3 - 49475388826956975>]\n",
       "  kwargs: str = {}\n",
       "  result_id: str = 5f947c3bc03f45468b580f06fc06016a\n",
       "\n",
       "```"
      ],
      "text/plain": [
       "syft.service.action.action_object.Action"
      ]
     },
     "execution_count": 12,
     "metadata": {},
     "output_type": "execute_result"
    }
   ],
   "source": [
    "action1 = Action(\n",
    "    path=\"action.execute\",\n",
    "    op=\"np.array\",\n",
    "    remote_self=None,\n",
    "    args=[action_obj_a.syft_lineage_id],\n",
    "    kwargs={}\n",
    ")\n",
    "action1"
   ]
  },
  {
   "cell_type": "code",
   "execution_count": 13,
   "id": "683aed4b",
   "metadata": {},
   "outputs": [
    {
     "data": {
      "text/markdown": [
       "```python\n",
       "class Action:\n",
       "  id: str = 491e41ab80fc452c9d695459ac334596\n",
       "  path: str = \"action.execute\"\n",
       "  op: str = \"np.array\"\n",
       "  remote_self: str = None\n",
       "  args: str = [<LineageID: a3f0846bdf1a48ea943cfa76bd74886e - 1423451760949121003>]\n",
       "  kwargs: str = {}\n",
       "  result_id: str = 9ae2299b460349899d90ae7ce8743cb2\n",
       "\n",
       "```"
      ],
      "text/plain": [
       "syft.service.action.action_object.Action"
      ]
     },
     "execution_count": 13,
     "metadata": {},
     "output_type": "execute_result"
    }
   ],
   "source": [
    "action2 = Action(\n",
    "    path=\"action.execute\",\n",
    "    op=\"np.array\",\n",
    "    remote_self=None,\n",
    "    args=[action_obj_b.syft_lineage_id],\n",
    "    kwargs={}\n",
    ")\n",
    "action2"
   ]
  },
  {
   "cell_type": "code",
   "execution_count": 14,
   "id": "74d171f0",
   "metadata": {},
   "outputs": [
    {
     "data": {
      "text/markdown": [
       "```python\n",
       "class NodeActionData:\n",
       "  id: str = d533c630c6994305a70c3c16aee3e0ba\n",
       "  action: str = syft.service.action.action_object.Action\n",
       "  status: str = ActionStatus.PROCESSING\n",
       "  retry: str = 0\n",
       "  created_at: str = 2023-04-21 07:31:44\n",
       "  updated_at: str = None\n",
       "  credentials: str = 4eb1f06747fe7bf9fb83d83ac25a12d8cfc22ddd8804bb1e558226a52041c3b8\n",
       "\n",
       "```"
      ],
      "text/plain": [
       "class NodeActionData:\n",
       "  id: str = d533c630c6994305a70c3c16aee3e0ba\n",
       "  action: str = syft.service.action.action_object.Action\n",
       "  status: str = ActionStatus.PROCESSING\n",
       "  retry: str = 0\n",
       "  created_at: str = 2023-04-21 07:31:44\n",
       "  updated_at: str = None\n",
       "  credentials: str = 4eb1f06747fe7bf9fb83d83ac25a12d8cfc22ddd8804bb1e558226a52041c3b8"
      ]
     },
     "execution_count": 14,
     "metadata": {},
     "output_type": "execute_result"
    }
   ],
   "source": [
    "action_graph_service.add_action(context=authed_context, action=action1)"
   ]
  },
  {
   "cell_type": "code",
   "execution_count": 15,
   "id": "bc52c8ba",
   "metadata": {},
   "outputs": [
    {
     "data": {
      "text/markdown": [
       "```python\n",
       "class NodeActionData:\n",
       "  id: str = 491e41ab80fc452c9d695459ac334596\n",
       "  action: str = syft.service.action.action_object.Action\n",
       "  status: str = ActionStatus.PROCESSING\n",
       "  retry: str = 0\n",
       "  created_at: str = 2023-04-21 07:31:45\n",
       "  updated_at: str = None\n",
       "  credentials: str = 4eb1f06747fe7bf9fb83d83ac25a12d8cfc22ddd8804bb1e558226a52041c3b8\n",
       "\n",
       "```"
      ],
      "text/plain": [
       "class NodeActionData:\n",
       "  id: str = 491e41ab80fc452c9d695459ac334596\n",
       "  action: str = syft.service.action.action_object.Action\n",
       "  status: str = ActionStatus.PROCESSING\n",
       "  retry: str = 0\n",
       "  created_at: str = 2023-04-21 07:31:45\n",
       "  updated_at: str = None\n",
       "  credentials: str = 4eb1f06747fe7bf9fb83d83ac25a12d8cfc22ddd8804bb1e558226a52041c3b8"
      ]
     },
     "execution_count": 15,
     "metadata": {},
     "output_type": "execute_result"
    }
   ],
   "source": [
    "action_graph_service.add_action(context=authed_context, action=action2)"
   ]
  },
  {
   "cell_type": "code",
   "execution_count": 16,
   "id": "ebedea80",
   "metadata": {},
   "outputs": [],
   "source": [
    "import networkx as nx"
   ]
  },
  {
   "cell_type": "code",
   "execution_count": 17,
   "id": "5a4df094",
   "metadata": {},
   "outputs": [
    {
     "data": {
      "image/png": "[encoded data removed]",
      "text/plain": [
       "<Figure size 432x288 with 1 Axes>"
      ]
     },
     "metadata": {},
     "output_type": "display_data"
    }
   ],
   "source": [
    "nx.draw_networkx(action_graph_service.store.graph.db)"
   ]
  },
  {
   "cell_type": "code",
   "execution_count": 18,
   "id": "1d5098bc",
   "metadata": {},
   "outputs": [
    {
     "data": {
      "text/markdown": [
       "```python\n",
       "class Action:\n",
       "  id: str = d1e55b39860c4f50bc0dddbc1dfeae3a\n",
       "  path: str = \"action.execute\"\n",
       "  op: str = \"__add__\"\n",
       "  remote_self: str = 5f947c3bc03f45468b580f06fc06016a\n",
       "  args: str = [<LineageID: 9ae2299b460349899d90ae7ce8743cb2 - 1486745703501695269>]\n",
       "  kwargs: str = {}\n",
       "  result_id: str = 18a26285d57f4646b459f13074075611\n",
       "\n",
       "```"
      ],
      "text/plain": [
       "syft.service.action.action_object.Action"
      ]
     },
     "execution_count": 18,
     "metadata": {},
     "output_type": "execute_result"
    }
   ],
   "source": [
    "action_res = Action(\n",
    "    path=\"action.execute\",\n",
    "    op=\"__add__\",\n",
    "    remote_self=action1.result_id,\n",
    "    args=[action2.result_id],\n",
    "    kwargs={}\n",
    ")\n",
    "action_res"
   ]
  },
  {
   "cell_type": "code",
   "execution_count": 19,
   "id": "f7c1e4e6",
   "metadata": {},
   "outputs": [
    {
     "data": {
      "text/markdown": [
       "```python\n",
       "class NodeActionData:\n",
       "  id: str = d1e55b39860c4f50bc0dddbc1dfeae3a\n",
       "  action: str = syft.service.action.action_object.Action\n",
       "  status: str = ActionStatus.PROCESSING\n",
       "  retry: str = 0\n",
       "  created_at: str = 2023-04-21 07:31:46\n",
       "  updated_at: str = None\n",
       "  credentials: str = 4eb1f06747fe7bf9fb83d83ac25a12d8cfc22ddd8804bb1e558226a52041c3b8\n",
       "\n",
       "```"
      ],
      "text/plain": [
       "class NodeActionData:\n",
       "  id: str = d1e55b39860c4f50bc0dddbc1dfeae3a\n",
       "  action: str = syft.service.action.action_object.Action\n",
       "  status: str = ActionStatus.PROCESSING\n",
       "  retry: str = 0\n",
       "  created_at: str = 2023-04-21 07:31:46\n",
       "  updated_at: str = None\n",
       "  credentials: str = 4eb1f06747fe7bf9fb83d83ac25a12d8cfc22ddd8804bb1e558226a52041c3b8"
      ]
     },
     "execution_count": 19,
     "metadata": {},
     "output_type": "execute_result"
    }
   ],
   "source": [
    "action_graph_service.add_action(context=authed_context, action=action_res)"
   ]
  },
  {
   "cell_type": "code",
   "execution_count": 20,
   "id": "124e3475",
   "metadata": {
    "scrolled": false
   },
   "outputs": [
    {
     "data": {
      "image/png": "[encoded data removed]",
      "text/plain": [
       "<Figure size 1440x720 with 1 Axes>"
      ]
     },
     "metadata": {},
     "output_type": "display_data"
    }
   ],
   "source": [
    "import matplotlib.pyplot as plt\n",
    "plt.figure(figsize=(20, 10))\n",
    "action_graph_service.store.graph.visualize()"
   ]
  },
  {
   "cell_type": "code",
   "execution_count": 21,
   "id": "688cf965",
   "metadata": {},
   "outputs": [],
   "source": [
    "from syft.service.action.action_graph import ActionStatus"
   ]
  },
  {
   "cell_type": "code",
   "execution_count": 26,
   "id": "e93cd503",
   "metadata": {},
   "outputs": [
    {
     "data": {
      "text/html": [
       "List - Size: 3\n",
       "<div>\n",
       "<style scoped>\n",
       "    .dataframe tbody tr th:only-of-type {\n",
       "        vertical-align: middle;\n",
       "    }\n",
       "\n",
       "    .dataframe tbody tr th {\n",
       "        vertical-align: top;\n",
       "    }\n",
       "\n",
       "    .dataframe thead th {\n",
       "        text-align: right;\n",
       "    }\n",
       "</style>\n",
       "<table border=\"1\" class=\"dataframe\">\n",
       "  <thead>\n",
       "    <tr style=\"text-align: right;\">\n",
       "      <th></th>\n",
       "      <th>type</th>\n",
       "      <th>id</th>\n",
       "    </tr>\n",
       "  </thead>\n",
       "  <tbody>\n",
       "    <tr>\n",
       "      <th>0</th>\n",
       "      <td>&lt;UID: d533c630c6994305a70c3c16aee3e0ba&gt;</td>\n",
       "      <td>None</td>\n",
       "    </tr>\n",
       "    <tr>\n",
       "      <th>1</th>\n",
       "      <td>&lt;UID: 491e41ab80fc452c9d695459ac334596&gt;</td>\n",
       "      <td>None</td>\n",
       "    </tr>\n",
       "    <tr>\n",
       "      <th>2</th>\n",
       "      <td>&lt;UID: d1e55b39860c4f50bc0dddbc1dfeae3a&gt;</td>\n",
       "      <td>None</td>\n",
       "    </tr>\n",
       "  </tbody>\n",
       "</table>\n",
       "</div>"
      ],
      "text/plain": [
       "[<UID: d533c630c6994305a70c3c16aee3e0ba>,\n",
       " <UID: 491e41ab80fc452c9d695459ac334596>,\n",
       " <UID: d1e55b39860c4f50bc0dddbc1dfeae3a>]"
      ]
     },
     "execution_count": 26,
     "metadata": {},
     "output_type": "execute_result"
    }
   ],
   "source": [
    "action_graph_service.get_by_action_status(context=authed_context, action_status=ActionStatus.PROCESSING)"
   ]
  },
  {
   "cell_type": "code",
   "execution_count": null,
   "id": "443eb463",
   "metadata": {},
   "outputs": [],
   "source": []
  },
  {
   "cell_type": "code",
   "execution_count": null,
   "id": "e3b46113",
   "metadata": {},
   "outputs": [],
   "source": []
  },
  {
   "cell_type": "code",
   "execution_count": null,
   "id": "a8ff92b0",
   "metadata": {},
   "outputs": [],
   "source": []
  },
  {
   "cell_type": "code",
   "execution_count": null,
   "id": "69754840",
   "metadata": {},
   "outputs": [],
   "source": []
  },
  {
   "cell_type": "code",
   "execution_count": null,
   "id": "0412070e",
   "metadata": {},
   "outputs": [],
   "source": []
  },
  {
   "cell_type": "code",
   "execution_count": null,
   "id": "d9903856",
   "metadata": {},
   "outputs": [],
   "source": []
  },
  {
   "cell_type": "code",
   "execution_count": null,
   "id": "3d2bbc94",
   "metadata": {},
   "outputs": [],
   "source": [
    "# class ActionGraph:\n",
    "#     def __init__(self):\n",
    "#         self.graph = nx.DiGraph()\n",
    "        \n",
    "#     def add(self, node: ActionGraphObject):\n",
    "#         self.graph.add_node(node.id, data=node)\n",
    "        \n",
    "#     def add_relationship(self, nodeA: ActionGraphObject, nodeB: ActionGraphObject):\n",
    "#         self.graph.add_edge(nodeA, nodeB)\n",
    "        \n",
    "#     def remove_node(self, node: ActionGraphObject):\n",
    "#         self.graph.remove_node(node)\n",
    "    \n",
    "#     def remove_edge(self, node: ActionGraphObject):\n",
    "#         self.graph.remove_edge(node)\n",
    "        \n",
    "#     def neighbors_for(self, node: ActionGraphObject):\n",
    "#         return list(self.graph.neighbors(node))\n",
    "        \n",
    "#     def visualize(self, arrows: bool = True):\n",
    "#         return nx.draw_networkx(self.graph)\n",
    "        \n",
    "#     def remove_all_nodes_from(self, node: ActionGraphObject):\n",
    "#         all_adjacent_neighbors: list = []\n",
    "            \n",
    "#         def find_adjacent_neighbors(node: ActionGraphObject, neighbors: set):           \n",
    "#             if not self.graph.neighbors(node):\n",
    "#                 return \n",
    "\n",
    "#             my_neighbors = self.graph.neighbors(node)\n",
    "#             for n in my_neighbors:\n",
    "#                 if n not in neighbors:\n",
    "#                     neighbors.add(n)\n",
    "#                     self.find_adjacent_neighbors(n, neighbors)\n",
    "                \n",
    "#         find_adjacent_neighbors(all_adjacent_neighbors)\n",
    "#         return all_adjacent_neighbors"
   ]
  },
  {
   "cell_type": "code",
   "execution_count": null,
   "id": "07d7f1ce",
   "metadata": {},
   "outputs": [],
   "source": []
  }
 ],
 "metadata": {
  "kernelspec": {
   "display_name": "Python 3 (ipykernel)",
   "language": "python",
   "name": "python3"
  },
  "language_info": {
   "codemirror_mode": {
    "name": "ipython",
    "version": 3
   },
   "file_extension": ".py",
   "mimetype": "text/x-python",
   "name": "python",
   "nbconvert_exporter": "python",
   "pygments_lexer": "ipython3",
   "version": "3.9.7"
  }
 },
 "nbformat": 4,
 "nbformat_minor": 5
}
