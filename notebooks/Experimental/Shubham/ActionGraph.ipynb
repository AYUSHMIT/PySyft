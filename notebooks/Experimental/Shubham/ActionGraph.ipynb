{
 "cells": [
  {
   "cell_type": "code",
   "execution_count": 1,
   "id": "d27c68a4",
   "metadata": {},
   "outputs": [
    {
     "name": "stderr",
     "output_type": "stream",
     "text": [
      "kj/filesystem-disk-unix.c++:1703: warning: PWD environment variable doesn't match current directory; pwd = /home/shubham/PySyft\n"
     ]
    }
   ],
   "source": [
    "from syft.service.action.action_graph_service import ActionGraphService\n",
    "from syft.service.action.action_graph import InMemoryActionGraphStore, InMemoryGraphConfig, InMemoryStoreClientConfig"
   ]
  },
  {
   "cell_type": "code",
   "execution_count": 2,
   "id": "1bb5b265",
   "metadata": {},
   "outputs": [],
   "source": [
    "import syft as sy"
   ]
  },
  {
   "cell_type": "code",
   "execution_count": 3,
   "id": "55ab1bba",
   "metadata": {},
   "outputs": [],
   "source": [
    "store_config = InMemoryGraphConfig()"
   ]
  },
  {
   "cell_type": "code",
   "execution_count": 4,
   "id": "10b32a8d",
   "metadata": {},
   "outputs": [],
   "source": [
    "graph_store = InMemoryActionGraphStore(store_config=store_config)"
   ]
  },
  {
   "cell_type": "code",
   "execution_count": 11,
   "id": "5206dc97",
   "metadata": {},
   "outputs": [],
   "source": [
    "action_graph_service = ActionGraphService(store=graph_store)"
   ]
  },
  {
   "cell_type": "code",
   "execution_count": 14,
   "id": "cb0748c8",
   "metadata": {},
   "outputs": [
    {
     "data": {
      "text/plain": [
       "<syft.service.action.action_graph.InMemoryActionGraphStore at 0x7f58b43dfd90>"
      ]
     },
     "execution_count": 14,
     "metadata": {},
     "output_type": "execute_result"
    }
   ],
   "source": [
    "sy.deserialize(sy.serialize(graph_store, to_bytes=True), from_bytes=True)"
   ]
  },
  {
   "cell_type": "code",
   "execution_count": 5,
   "id": "a54f6190",
   "metadata": {},
   "outputs": [],
   "source": [
    "from syft.service.context import AuthedServiceContext\n",
    "from syft.node.credentials import SyftSigningKey"
   ]
  },
  {
   "cell_type": "code",
   "execution_count": 6,
   "id": "71524fb8",
   "metadata": {},
   "outputs": [],
   "source": [
    "from syft.service.action.action_graph import Action\n",
    "from syft.service.action.numpy import NumpyArrayObject, ActionObject\n",
    "import numpy as np"
   ]
  },
  {
   "cell_type": "code",
   "execution_count": 7,
   "id": "bb4b7b94",
   "metadata": {},
   "outputs": [],
   "source": [
    "signing_key = SyftSigningKey.generate()\n",
    "authed_context = AuthedServiceContext(credentials=signing_key.verify_key)"
   ]
  },
  {
   "cell_type": "code",
   "execution_count": 8,
   "id": "97417939",
   "metadata": {},
   "outputs": [],
   "source": [
    "action_obj_a = ActionObject.from_obj([1, 2, 3])\n",
    "action_obj_b = ActionObject.from_obj([2, 3, 4])"
   ]
  },
  {
   "cell_type": "code",
   "execution_count": 9,
   "id": "11d9fde4",
   "metadata": {},
   "outputs": [
    {
     "data": {
      "text/plain": [
       "<UID: 291fb00451bc4d5db70b22fe6d6d7459>"
      ]
     },
     "execution_count": 9,
     "metadata": {},
     "output_type": "execute_result"
    }
   ],
   "source": [
    "action_obj_a.id"
   ]
  },
  {
   "cell_type": "code",
   "execution_count": 10,
   "id": "38bb629e",
   "metadata": {},
   "outputs": [
    {
     "data": {
      "text/markdown": [
       "```python\n",
       "class Action:\n",
       "  id: str = 4e81074dd7cc443fafba210c58b103a0\n",
       "  path: str = \"action.execute\"\n",
       "  op: str = \"np.array\"\n",
       "  remote_self: str = None\n",
       "  args: str = [<LineageID: 291fb00451bc4d5db70b22fe6d6d7459 - 2431161864281937>]\n",
       "  kwargs: str = {}\n",
       "  result_id: str = cd8d51a321f24f5d954acbdfc814a006\n",
       "\n",
       "```"
      ],
      "text/plain": [
       "syft.service.action.action_object.Action"
      ]
     },
     "execution_count": 10,
     "metadata": {},
     "output_type": "execute_result"
    }
   ],
   "source": [
    "action1 = Action(\n",
    "    path=\"action.execute\",\n",
    "    op=\"np.array\",\n",
    "    remote_self=None,\n",
    "    args=[action_obj_a.syft_lineage_id],\n",
    "    kwargs={}\n",
    ")\n",
    "action1"
   ]
  },
  {
   "cell_type": "code",
   "execution_count": 11,
   "id": "683aed4b",
   "metadata": {},
   "outputs": [
    {
     "data": {
      "text/markdown": [
       "```python\n",
       "class Action:\n",
       "  id: str = a9a712b7e2944e13855ec3e3e44b573e\n",
       "  path: str = \"action.execute\"\n",
       "  op: str = \"np.array\"\n",
       "  remote_self: str = None\n",
       "  args: str = [<LineageID: 3135274c03b74a43bcc49db0642fcc1b - 463263902099709509>]\n",
       "  kwargs: str = {}\n",
       "  result_id: str = b30a94f144c44632ab3699a9626cf9da\n",
       "\n",
       "```"
      ],
      "text/plain": [
       "syft.service.action.action_object.Action"
      ]
     },
     "execution_count": 11,
     "metadata": {},
     "output_type": "execute_result"
    }
   ],
   "source": [
    "action2 = Action(\n",
    "    path=\"action.execute\",\n",
    "    op=\"np.array\",\n",
    "    remote_self=None,\n",
    "    args=[action_obj_b.syft_lineage_id],\n",
    "    kwargs={}\n",
    ")\n",
    "action2"
   ]
  },
  {
   "cell_type": "code",
   "execution_count": 12,
   "id": "74d171f0",
   "metadata": {},
   "outputs": [
    {
     "data": {
      "text/markdown": [
       "```python\n",
       "class NodeActionData:\n",
       "  id: str = 4e81074dd7cc443fafba210c58b103a0\n",
       "  action: str = syft.service.action.action_object.Action\n",
       "  status: str = ActionStatus.PROCESSING\n",
       "  retry: str = 0\n",
       "  created_at: str = 2023-04-21 05:09:20\n",
       "  updated_at: str = None\n",
       "  credentials: str = 3e3b4ab94cf00ff1be9baac527b42c5a2e9879ca62fe732b78a1fcea80cae26f\n",
       "\n",
       "```"
      ],
      "text/plain": [
       "class NodeActionData:\n",
       "  id: str = 4e81074dd7cc443fafba210c58b103a0\n",
       "  action: str = syft.service.action.action_object.Action\n",
       "  status: str = ActionStatus.PROCESSING\n",
       "  retry: str = 0\n",
       "  created_at: str = 2023-04-21 05:09:20\n",
       "  updated_at: str = None\n",
       "  credentials: str = 3e3b4ab94cf00ff1be9baac527b42c5a2e9879ca62fe732b78a1fcea80cae26f"
      ]
     },
     "execution_count": 12,
     "metadata": {},
     "output_type": "execute_result"
    }
   ],
   "source": [
    "action_graph_service.add_action(context=authed_context, action=action1)"
   ]
  },
  {
   "cell_type": "code",
   "execution_count": 13,
   "id": "bc52c8ba",
   "metadata": {},
   "outputs": [
    {
     "name": "stdout",
     "output_type": "stream",
     "text": [
      "UID: 4e81074dd7cc443fafba210c58b103a0\n",
      "Node: class NodeActionData:\n",
      "  id: str = 4e81074dd7cc443fafba210c58b103a0\n",
      "  action: str = syft.service.action.action_object.Action\n",
      "  status: str = ActionStatus.PROCESSING\n",
      "  retry: str = 0\n",
      "  created_at: str = 2023-04-21 05:09:20\n",
      "  updated_at: str = None\n",
      "  credentials: str = 3e3b4ab94cf00ff1be9baac527b42c5a2e9879ca62fe732b78a1fcea80cae26f\n",
      "\n",
      "Result Id: cd8d51a321f24f5d954acbdfc814a006\n"
     ]
    },
    {
     "data": {
      "text/markdown": [
       "```python\n",
       "class NodeActionData:\n",
       "  id: str = a9a712b7e2944e13855ec3e3e44b573e\n",
       "  action: str = syft.service.action.action_object.Action\n",
       "  status: str = ActionStatus.PROCESSING\n",
       "  retry: str = 0\n",
       "  created_at: str = 2023-04-21 05:09:21\n",
       "  updated_at: str = None\n",
       "  credentials: str = 3e3b4ab94cf00ff1be9baac527b42c5a2e9879ca62fe732b78a1fcea80cae26f\n",
       "\n",
       "```"
      ],
      "text/plain": [
       "class NodeActionData:\n",
       "  id: str = a9a712b7e2944e13855ec3e3e44b573e\n",
       "  action: str = syft.service.action.action_object.Action\n",
       "  status: str = ActionStatus.PROCESSING\n",
       "  retry: str = 0\n",
       "  created_at: str = 2023-04-21 05:09:21\n",
       "  updated_at: str = None\n",
       "  credentials: str = 3e3b4ab94cf00ff1be9baac527b42c5a2e9879ca62fe732b78a1fcea80cae26f"
      ]
     },
     "execution_count": 13,
     "metadata": {},
     "output_type": "execute_result"
    }
   ],
   "source": [
    "action_graph_service.add_action(context=authed_context, action=action2)"
   ]
  },
  {
   "cell_type": "code",
   "execution_count": 14,
   "id": "ebedea80",
   "metadata": {},
   "outputs": [],
   "source": [
    "import networkx as nx"
   ]
  },
  {
   "cell_type": "code",
   "execution_count": 15,
   "id": "5a4df094",
   "metadata": {},
   "outputs": [
    {
     "data": {
      "image/png": "[encoded data removed]",
      "text/plain": [
       "<Figure size 432x288 with 1 Axes>"
      ]
     },
     "metadata": {},
     "output_type": "display_data"
    }
   ],
   "source": [
    "nx.draw_networkx(action_graph_service.store.graph.db)"
   ]
  },
  {
   "cell_type": "code",
   "execution_count": 16,
   "id": "1d5098bc",
   "metadata": {},
   "outputs": [
    {
     "data": {
      "text/markdown": [
       "```python\n",
       "class Action:\n",
       "  id: str = 78dd632d61e94ec2960ca95e22819f32\n",
       "  path: str = \"action.execute\"\n",
       "  op: str = \"__add__\"\n",
       "  remote_self: str = cd8d51a321f24f5d954acbdfc814a006\n",
       "  args: str = [<LineageID: b30a94f144c44632ab3699a9626cf9da - 255369493466786716>]\n",
       "  kwargs: str = {}\n",
       "  result_id: str = 99d2ccf76aeb421e861bbfff5b8a2c19\n",
       "\n",
       "```"
      ],
      "text/plain": [
       "syft.service.action.action_object.Action"
      ]
     },
     "execution_count": 16,
     "metadata": {},
     "output_type": "execute_result"
    }
   ],
   "source": [
    "action_res = Action(\n",
    "    path=\"action.execute\",\n",
    "    op=\"__add__\",\n",
    "    remote_self=action1.result_id,\n",
    "    args=[action2.result_id],\n",
    "    kwargs={}\n",
    ")\n",
    "action_res"
   ]
  },
  {
   "cell_type": "code",
   "execution_count": 17,
   "id": "f7c1e4e6",
   "metadata": {},
   "outputs": [
    {
     "name": "stdout",
     "output_type": "stream",
     "text": [
      "UID: 4e81074dd7cc443fafba210c58b103a0\n",
      "Node: class NodeActionData:\n",
      "  id: str = 4e81074dd7cc443fafba210c58b103a0\n",
      "  action: str = syft.service.action.action_object.Action\n",
      "  status: str = ActionStatus.PROCESSING\n",
      "  retry: str = 0\n",
      "  created_at: str = 2023-04-21 05:09:20\n",
      "  updated_at: str = None\n",
      "  credentials: str = 3e3b4ab94cf00ff1be9baac527b42c5a2e9879ca62fe732b78a1fcea80cae26f\n",
      "\n",
      "Result Id: cd8d51a321f24f5d954acbdfc814a006\n",
      "Found: 4e81074dd7cc443fafba210c58b103a0\n",
      "UID: a9a712b7e2944e13855ec3e3e44b573e\n",
      "Node: class NodeActionData:\n",
      "  id: str = a9a712b7e2944e13855ec3e3e44b573e\n",
      "  action: str = syft.service.action.action_object.Action\n",
      "  status: str = ActionStatus.PROCESSING\n",
      "  retry: str = 0\n",
      "  created_at: str = 2023-04-21 05:09:21\n",
      "  updated_at: str = None\n",
      "  credentials: str = 3e3b4ab94cf00ff1be9baac527b42c5a2e9879ca62fe732b78a1fcea80cae26f\n",
      "\n",
      "Result Id: b30a94f144c44632ab3699a9626cf9da\n",
      "Found: a9a712b7e2944e13855ec3e3e44b573e\n"
     ]
    },
    {
     "data": {
      "text/markdown": [
       "```python\n",
       "class NodeActionData:\n",
       "  id: str = 78dd632d61e94ec2960ca95e22819f32\n",
       "  action: str = syft.service.action.action_object.Action\n",
       "  status: str = ActionStatus.PROCESSING\n",
       "  retry: str = 0\n",
       "  created_at: str = 2023-04-21 05:09:37\n",
       "  updated_at: str = None\n",
       "  credentials: str = 3e3b4ab94cf00ff1be9baac527b42c5a2e9879ca62fe732b78a1fcea80cae26f\n",
       "\n",
       "```"
      ],
      "text/plain": [
       "class NodeActionData:\n",
       "  id: str = 78dd632d61e94ec2960ca95e22819f32\n",
       "  action: str = syft.service.action.action_object.Action\n",
       "  status: str = ActionStatus.PROCESSING\n",
       "  retry: str = 0\n",
       "  created_at: str = 2023-04-21 05:09:37\n",
       "  updated_at: str = None\n",
       "  credentials: str = 3e3b4ab94cf00ff1be9baac527b42c5a2e9879ca62fe732b78a1fcea80cae26f"
      ]
     },
     "execution_count": 17,
     "metadata": {},
     "output_type": "execute_result"
    }
   ],
   "source": [
    "action_graph_service.add_action(context=authed_context, action=action_res)"
   ]
  },
  {
   "cell_type": "code",
   "execution_count": 18,
   "id": "124e3475",
   "metadata": {
    "scrolled": false
   },
   "outputs": [
    {
     "data": {
      "image/png": "[encoded data removed]",
      "text/plain": [
       "<Figure size 1440x720 with 1 Axes>"
      ]
     },
     "metadata": {},
     "output_type": "display_data"
    }
   ],
   "source": [
    "import matplotlib.pyplot as plt\n",
    "plt.figure(figsize=(20, 10))\n",
    "action_graph_service.store.graph.visualize()"
   ]
  },
  {
   "cell_type": "code",
   "execution_count": null,
   "id": "688cf965",
   "metadata": {},
   "outputs": [],
   "source": []
  },
  {
   "cell_type": "code",
   "execution_count": null,
   "id": "e93cd503",
   "metadata": {},
   "outputs": [],
   "source": []
  },
  {
   "cell_type": "code",
   "execution_count": null,
   "id": "15ff003d",
   "metadata": {},
   "outputs": [],
   "source": []
  },
  {
   "cell_type": "code",
   "execution_count": null,
   "id": "79d07813",
   "metadata": {},
   "outputs": [],
   "source": []
  },
  {
   "cell_type": "code",
   "execution_count": null,
   "id": "7bd9dc27",
   "metadata": {},
   "outputs": [],
   "source": []
  },
  {
   "cell_type": "code",
   "execution_count": 13,
   "id": "aa9a641a",
   "metadata": {},
   "outputs": [],
   "source": [
    "client.api.lib.numpy.array([1, 2, 3])"
   ]
  },
  {
   "cell_type": "code",
   "execution_count": 17,
   "id": "1deafa36",
   "metadata": {},
   "outputs": [],
   "source": [
    "action = Action(\n",
    "    path=\"syft.lib\",\n",
    "    op=\"np.array\",\n",
    "    remote_self=action_obj_a.syft_lineage_id,\n",
    "    result_id=action_obj_a.id,\n",
    "    args=[],\n",
    "    kwargs={}\n",
    ")\n",
    "\n",
    "# action_a = action_obj_a.syft_make_method_action(op='np.array')\n",
    "# action_b = action_obj_b.syft_make_method_action(op='init')"
   ]
  },
  {
   "cell_type": "code",
   "execution_count": 23,
   "id": "2bca10d4",
   "metadata": {},
   "outputs": [
    {
     "data": {
      "text/markdown": [
       "```python\n",
       "class Action:\n",
       "  id: str = e0b68b95e5cc4166b8f0312a538def5b\n",
       "  path: str = \"syft.lib\"\n",
       "  op: str = \"np.array\"\n",
       "  remote_self: str = 38270fccd7194a4eb8575d635041742f\n",
       "  args: str = []\n",
       "  kwargs: str = {}\n",
       "  result_id: str = 38270fccd7194a4eb8575d635041742f\n",
       "\n",
       "```"
      ],
      "text/plain": [
       "syft.service.action.action_object.Action"
      ]
     },
     "execution_count": 23,
     "metadata": {},
     "output_type": "execute_result"
    }
   ],
   "source": [
    "action"
   ]
  },
  {
   "cell_type": "code",
   "execution_count": null,
   "id": "3f0e1eca",
   "metadata": {},
   "outputs": [],
   "source": [
    "\n",
    "client.upload_dataset()\n",
    "dataset = client.datasets['Cancer']\n",
    "train_asset = dataset['train']"
   ]
  },
  {
   "cell_type": "code",
   "execution_count": 18,
   "id": "28ae90d2",
   "metadata": {},
   "outputs": [],
   "source": [
    "# let's say e.g.\n",
    "train_asset = action_obj_a"
   ]
  },
  {
   "cell_type": "code",
   "execution_count": null,
   "id": "fd1416c9",
   "metadata": {},
   "outputs": [],
   "source": [
    "result = train_asset + train_asset"
   ]
  },
  {
   "cell_type": "code",
   "execution_count": 21,
   "id": "9af4e060",
   "metadata": {},
   "outputs": [
    {
     "data": {
      "text/markdown": [
       "```python\n",
       "class Action:\n",
       "  id: str = 5eebf4dacaed4d78ab71550f22754651\n",
       "  path: str = \"syft.lib.numpy\"\n",
       "  op: str = \"add\"\n",
       "  remote_self: str = 38270fccd7194a4eb8575d635041742f\n",
       "  args: str = [<LineageID: 38270fccd7194a4eb8575d635041742f - 1841932433399465650>]\n",
       "  kwargs: str = {}\n",
       "  result_id: str = 51018149d9d6476c900ddff8ee673c47\n",
       "\n",
       "```"
      ],
      "text/plain": [
       "syft.service.action.action_object.Action"
      ]
     },
     "execution_count": 21,
     "metadata": {},
     "output_type": "execute_result"
    }
   ],
   "source": [
    "action2 = Action(\n",
    "    path=\"syft.lib.numpy\",\n",
    "    op=\"add\",\n",
    "    remote_self=train_asset.syft_lineage_id,\n",
    "    args=[train_asset.syft_lineage_id],\n",
    "    kwargs={}\n",
    ")\n",
    "action2"
   ]
  },
  {
   "cell_type": "code",
   "execution_count": null,
   "id": "0db39ad9",
   "metadata": {},
   "outputs": [],
   "source": []
  },
  {
   "cell_type": "code",
   "execution_count": null,
   "id": "226c0699",
   "metadata": {},
   "outputs": [],
   "source": [
    "actionservice.update(train_asset.id, data=[1,2 ,3 ,5])"
   ]
  },
  {
   "cell_type": "code",
   "execution_count": 30,
   "id": "6835a23d",
   "metadata": {},
   "outputs": [],
   "source": [
    "train_asset = {\"name\": \"John\"}"
   ]
  },
  {
   "cell_type": "code",
   "execution_count": 40,
   "id": "3acd2ce2",
   "metadata": {},
   "outputs": [],
   "source": [
    "result1 = train_asset['name'] + \" LastName\""
   ]
  },
  {
   "cell_type": "code",
   "execution_count": 32,
   "id": "b9264f2f",
   "metadata": {},
   "outputs": [],
   "source": [
    "# train_asset = train_asset + train_asset\n",
    "train_asset.update({\"name\": \"John Wick\", \"last_name\": \"Last Name\"})"
   ]
  },
  {
   "cell_type": "code",
   "execution_count": 36,
   "id": "32632ef3",
   "metadata": {},
   "outputs": [],
   "source": [
    "result2 = train_asset[\"name\"] + \" String\""
   ]
  },
  {
   "cell_type": "code",
   "execution_count": 41,
   "id": "5276ff4f",
   "metadata": {},
   "outputs": [
    {
     "data": {
      "text/plain": [
       "'John Wick LastName'"
      ]
     },
     "execution_count": 41,
     "metadata": {},
     "output_type": "execute_result"
    }
   ],
   "source": [
    "result1"
   ]
  },
  {
   "cell_type": "code",
   "execution_count": 38,
   "id": "1bb48522",
   "metadata": {},
   "outputs": [
    {
     "data": {
      "text/plain": [
       "'John Wick String'"
      ]
     },
     "execution_count": 38,
     "metadata": {},
     "output_type": "execute_result"
    }
   ],
   "source": [
    "result2"
   ]
  },
  {
   "cell_type": "code",
   "execution_count": 39,
   "id": "a21e9881",
   "metadata": {},
   "outputs": [
    {
     "data": {
      "text/html": [
       "{&#x27;name&#x27;: &#x27;John Wick&#x27;, &#x27;last_name&#x27;: &#x27;Last Name&#x27;}"
      ],
      "text/plain": [
       "{'name': 'John Wick', 'last_name': 'Last Name'}"
      ]
     },
     "execution_count": 39,
     "metadata": {},
     "output_type": "execute_result"
    }
   ],
   "source": [
    "train_asset"
   ]
  },
  {
   "cell_type": "code",
   "execution_count": null,
   "id": "0e594f18",
   "metadata": {},
   "outputs": [],
   "source": []
  },
  {
   "cell_type": "code",
   "execution_count": null,
   "id": "8a1dee38",
   "metadata": {},
   "outputs": [],
   "source": [
    "result = 2 + 2"
   ]
  },
  {
   "cell_type": "code",
   "execution_count": 22,
   "id": "ecb1e172",
   "metadata": {},
   "outputs": [
    {
     "data": {
      "text/markdown": [
       "```python\n",
       "class Action:\n",
       "  id: str = 5eebf4dacaed4d78ab71550f22754651\n",
       "  path: str = \"syft.lib.numpy\"\n",
       "  op: str = \"add\"\n",
       "  remote_self: str = 38270fccd7194a4eb8575d635041742f\n",
       "  args: str = [<LineageID: 38270fccd7194a4eb8575d635041742f - 1841932433399465650>]\n",
       "  kwargs: str = {}\n",
       "  result_id: str = 51018149d9d6476c900ddff8ee673c47\n",
       "\n",
       "```"
      ],
      "text/plain": [
       "syft.service.action.action_object.Action"
      ]
     },
     "execution_count": 22,
     "metadata": {},
     "output_type": "execute_result"
    }
   ],
   "source": [
    "action2"
   ]
  },
  {
   "cell_type": "code",
   "execution_count": null,
   "id": "189d5381",
   "metadata": {},
   "outputs": [],
   "source": []
  },
  {
   "cell_type": "code",
   "execution_count": 11,
   "id": "c96def57",
   "metadata": {},
   "outputs": [
    {
     "data": {
      "text/markdown": [
       "```python\n",
       "class Action:\n",
       "  id: str = 81a50672c9b24485b536a318bb158fde\n",
       "  path: str = \"NumpyArrayObject\"\n",
       "  op: str = \"np.array\"\n",
       "  remote_self: str = 38270fccd7194a4eb8575d635041742f\n",
       "  args: str = []\n",
       "  kwargs: str = {}\n",
       "  result_id: str = 34bb43606fda43239e5081e734fc9e09\n",
       "\n",
       "```"
      ],
      "text/plain": [
       "syft.service.action.action_object.Action"
      ]
     },
     "execution_count": 11,
     "metadata": {},
     "output_type": "execute_result"
    }
   ],
   "source": [
    "action_a"
   ]
  },
  {
   "cell_type": "code",
   "execution_count": 7,
   "id": "e460918c",
   "metadata": {},
   "outputs": [
    {
     "data": {
      "text/plain": [
       "(<UID: 36f9619a9b004b1c84684c01da2130b8>, 2032065536009144745)"
      ]
     },
     "execution_count": 7,
     "metadata": {},
     "output_type": "execute_result"
    }
   ],
   "source": [
    "action_a.remote_self.id, action_a.remote_self.syft_history_hash"
   ]
  },
  {
   "cell_type": "code",
   "execution_count": 8,
   "id": "7da3975e",
   "metadata": {},
   "outputs": [
    {
     "data": {
      "text/markdown": [
       "```python\n",
       "class Action:\n",
       "  id: str = 5b855c4552c54cabbf1858f3a4cd3e89\n",
       "  path: str = \"NumpyArrayObject\"\n",
       "  op: str = \"init\"\n",
       "  remote_self: str = 36f9619a9b004b1c84684c01da2130b8\n",
       "  args: str = []\n",
       "  kwargs: str = {}\n",
       "  result_id: str = 9ebc3430178a4cc09754dea154020245\n",
       "\n",
       "```"
      ],
      "text/plain": [
       "syft.core.node.new.action_object.Action"
      ]
     },
     "execution_count": 8,
     "metadata": {},
     "output_type": "execute_result"
    }
   ],
   "source": [
    "action_a"
   ]
  },
  {
   "cell_type": "code",
   "execution_count": 9,
   "id": "bfb25f17",
   "metadata": {},
   "outputs": [
    {
     "data": {
      "text/markdown": [
       "```python\n",
       "class Action:\n",
       "  id: str = c94a808fb87c44fc8a39fbffd79fe229\n",
       "  path: str = \"NumpyArrayObject\"\n",
       "  op: str = \"init\"\n",
       "  remote_self: str = ff62a9c6421f4aacbd6a8121a6303bbc\n",
       "  args: str = []\n",
       "  kwargs: str = {}\n",
       "  result_id: str = 75628eae8b6a43b6ba509ec04ab0f4ff\n",
       "\n",
       "```"
      ],
      "text/plain": [
       "syft.core.node.new.action_object.Action"
      ]
     },
     "execution_count": 9,
     "metadata": {},
     "output_type": "execute_result"
    }
   ],
   "source": [
    "action_b"
   ]
  },
  {
   "cell_type": "code",
   "execution_count": 10,
   "id": "34a751bb",
   "metadata": {},
   "outputs": [
    {
     "data": {
      "text/markdown": [
       "```python\n",
       "class Action:\n",
       "  id: str = 353771c753eb403ba0c417a63b990fc6\n",
       "  path: str = \"NumpyArrayObject\"\n",
       "  op: str = \"add\"\n",
       "  remote_self: str = 36f9619a9b004b1c84684c01da2130b8\n",
       "  args: str = [<LineageID: ff62a9c6421f4aacbd6a8121a6303bbc - 1765357537414779233>]\n",
       "  kwargs: str = {}\n",
       "  result_id: str = f7e1aa0afffd439eaa47a53f9d070e5b\n",
       "\n",
       "```"
      ],
      "text/plain": [
       "syft.core.node.new.action_object.Action"
      ]
     },
     "execution_count": 10,
     "metadata": {},
     "output_type": "execute_result"
    }
   ],
   "source": [
    "action_c = action_obj_a.syft_make_method_action(op='add', args=[action_obj_b])\n",
    "action_c"
   ]
  },
  {
   "cell_type": "code",
   "execution_count": 11,
   "id": "2d1e458d",
   "metadata": {},
   "outputs": [],
   "source": [
    "action_d = action_obj_a.syft_make_method_action(op='add', args=[action_obj_a, action_obj_b, action_obj_b])"
   ]
  },
  {
   "cell_type": "code",
   "execution_count": 12,
   "id": "45611cac",
   "metadata": {},
   "outputs": [
    {
     "data": {
      "text/markdown": [
       "```python\n",
       "class Action:\n",
       "  id: str = d8b1987536f94acd98b67db30dc00474\n",
       "  path: str = \"NumpyArrayObject\"\n",
       "  op: str = \"add\"\n",
       "  remote_self: str = 36f9619a9b004b1c84684c01da2130b8\n",
       "  args: str = [<LineageID: 36f9619a9b004b1c84684c01da2130b8 - 2032065536009144745>, <LineageID: ff62a9c6421f4aacbd6a8121a6303bbc - 1765357537414779233>, <LineageID: ff62a9c6421f4aacbd6a8121a6303bbc - 1765357537414779233>]\n",
       "  kwargs: str = {}\n",
       "  result_id: str = 7e00d9148bc94b7c989cf72945b453e9\n",
       "\n",
       "```"
      ],
      "text/plain": [
       "syft.core.node.new.action_object.Action"
      ]
     },
     "execution_count": 12,
     "metadata": {},
     "output_type": "execute_result"
    }
   ],
   "source": [
    "action_d"
   ]
  },
  {
   "cell_type": "code",
   "execution_count": 13,
   "id": "8d8cbeb8",
   "metadata": {},
   "outputs": [
    {
     "data": {
      "text/plain": [
       "<syft.core.node.new.action_graph.ActionGraph at 0x7f61c1739c60>"
      ]
     },
     "execution_count": 13,
     "metadata": {},
     "output_type": "execute_result"
    }
   ],
   "source": [
    "action_graph = ActionGraph(node_uid=UID(), graph_client=InMemoryGraphClient)\n",
    "action_graph"
   ]
  },
  {
   "cell_type": "code",
   "execution_count": 14,
   "id": "5df63040",
   "metadata": {},
   "outputs": [],
   "source": [
    "action_graph.add_action(action_a)"
   ]
  },
  {
   "cell_type": "code",
   "execution_count": 15,
   "id": "f2745377",
   "metadata": {},
   "outputs": [],
   "source": [
    "action_graph.add_action(action_b)"
   ]
  },
  {
   "cell_type": "code",
   "execution_count": 16,
   "id": "3de27d8f",
   "metadata": {},
   "outputs": [],
   "source": [
    "action_graph.add_action(action_c)"
   ]
  },
  {
   "cell_type": "code",
   "execution_count": 18,
   "id": "2cabf7b5",
   "metadata": {},
   "outputs": [],
   "source": [
    "import syft as sy\n",
    "s = sy.serialize(action_graph, to_bytes=True)"
   ]
  },
  {
   "cell_type": "code",
   "execution_count": 19,
   "id": "e9dd57f3",
   "metadata": {},
   "outputs": [],
   "source": [
    "d = sy.deserialize(s, from_bytes=True)"
   ]
  },
  {
   "cell_type": "code",
   "execution_count": 20,
   "id": "ee17aaf6",
   "metadata": {},
   "outputs": [
    {
     "data": {
      "text/plain": [
       "<syft.core.node.new.action_graph.ActionGraph at 0x7f61bb62ace0>"
      ]
     },
     "execution_count": 20,
     "metadata": {},
     "output_type": "execute_result"
    }
   ],
   "source": [
    "d"
   ]
  },
  {
   "cell_type": "code",
   "execution_count": 21,
   "id": "5c6328dd",
   "metadata": {},
   "outputs": [
    {
     "data": {
      "text/plain": [
       "True"
      ]
     },
     "execution_count": 21,
     "metadata": {},
     "output_type": "execute_result"
    }
   ],
   "source": [
    "d.nodes() == action_graph.nodes()\n",
    "d.edges() == action_graph.edges()"
   ]
  },
  {
   "cell_type": "code",
   "execution_count": 18,
   "id": "e431b3c6",
   "metadata": {},
   "outputs": [],
   "source": [
    "graph = action_graph.client.graph"
   ]
  },
  {
   "cell_type": "code",
   "execution_count": 41,
   "id": "fcbef103",
   "metadata": {},
   "outputs": [
    {
     "data": {
      "text/plain": [
       "<networkx.classes.digraph.DiGraph at 0x7f86c332dd80>"
      ]
     },
     "execution_count": 41,
     "metadata": {},
     "output_type": "execute_result"
    }
   ],
   "source": [
    "graph"
   ]
  },
  {
   "cell_type": "code",
   "execution_count": 42,
   "id": "d0b9e2c1",
   "metadata": {},
   "outputs": [],
   "source": [
    "nodes = graph.nodes()\n",
    "edges = graph.edges()"
   ]
  },
  {
   "cell_type": "code",
   "execution_count": 43,
   "id": "8b3cdf03",
   "metadata": {
    "scrolled": true
   },
   "outputs": [
    {
     "data": {
      "text/html": [
       "[(class ActionGraphNode:\n",
       "  id: str = 0f631a39ba62494086520c8eeecd8e8e\n",
       "  action: str = syft.core.node.new.action_object.Action\n",
       "  status: str = ActionStatus.PROCESSING\n",
       "  retry: str = 0\n",
       "  created_at: str = 2023-04-13 07:08:44\n",
       ", class ActionGraphNode:\n",
       "  id: str = 0f631a39ba62494086520c8eeecd8e8e\n",
       "  action: str = syft.core.node.new.action_object.Action\n",
       "  status: str = ActionStatus.PROCESSING\n",
       "  retry: str = 0\n",
       "  created_at: str = 2023-04-13 07:08:44\n",
       "), (class ActionGraphNode:\n",
       "  id: str = 0f631a39ba62494086520c8eeecd8e8e\n",
       "  action: str = syft.core.node.new.action_object.Action\n",
       "  status: str = ActionStatus.PROCESSING\n",
       "  retry: str = 0\n",
       "  created_at: str = 2023-04-13 07:08:44\n",
       ", class ActionGraphNode:\n",
       "  id: str = 61c1174f28b84c6cb248cf9cd97d7cd0\n",
       "  action: str = syft.core.node.new.action_object.Action\n",
       "  status: str = ActionStatus.PROCESSING\n",
       "  retry: str = 0\n",
       "  created_at: str = 2023-04-13 07:08:44\n",
       "), (class ActionGraphNode:\n",
       "  id: str = 2b4a6acbf21e40458544956d2b984fb8\n",
       "  action: str = syft.core.node.new.action_object.Action\n",
       "  status: str = ActionStatus.PROCESSING\n",
       "  retry: str = 0\n",
       "  created_at: str = 2023-04-13 07:08:44\n",
       ", class ActionGraphNode:\n",
       "  id: str = 2b4a6acbf21e40458544956d2b984fb8\n",
       "  action: str = syft.core.node.new.action_object.Action\n",
       "  status: str = ActionStatus.PROCESSING\n",
       "  retry: str = 0\n",
       "  created_at: str = 2023-04-13 07:08:44\n",
       "), (class ActionGraphNode:\n",
       "  id: str = 2b4a6acbf21e40458544956d2b984fb8\n",
       "  action: str = syft.core.node.new.action_object.Action\n",
       "  status: str = ActionStatus.PROCESSING\n",
       "  retry: str = 0\n",
       "  created_at: str = 2023-04-13 07:08:44\n",
       ", class ActionGraphNode:\n",
       "  id: str = 61c1174f28b84c6cb248cf9cd97d7cd0\n",
       "  action: str = syft.core.node.new.action_object.Action\n",
       "  status: str = ActionStatus.PROCESSING\n",
       "  retry: str = 0\n",
       "  created_at: str = 2023-04-13 07:08:44\n",
       "), (class ActionGraphNode:\n",
       "  id: str = 61c1174f28b84c6cb248cf9cd97d7cd0\n",
       "  action: str = syft.core.node.new.action_object.Action\n",
       "  status: str = ActionStatus.PROCESSING\n",
       "  retry: str = 0\n",
       "  created_at: str = 2023-04-13 07:08:44\n",
       ", class ActionGraphNode:\n",
       "  id: str = 61c1174f28b84c6cb248cf9cd97d7cd0\n",
       "  action: str = syft.core.node.new.action_object.Action\n",
       "  status: str = ActionStatus.PROCESSING\n",
       "  retry: str = 0\n",
       "  created_at: str = 2023-04-13 07:08:44\n",
       ")]"
      ],
      "text/plain": [
       "[(class ActionGraphNode:\n",
       "    id: str = 0f631a39ba62494086520c8eeecd8e8e\n",
       "    action: str = syft.core.node.new.action_object.Action\n",
       "    status: str = ActionStatus.PROCESSING\n",
       "    retry: str = 0\n",
       "    created_at: str = 2023-04-13 07:08:44,\n",
       "  class ActionGraphNode:\n",
       "    id: str = 0f631a39ba62494086520c8eeecd8e8e\n",
       "    action: str = syft.core.node.new.action_object.Action\n",
       "    status: str = ActionStatus.PROCESSING\n",
       "    retry: str = 0\n",
       "    created_at: str = 2023-04-13 07:08:44),\n",
       " (class ActionGraphNode:\n",
       "    id: str = 0f631a39ba62494086520c8eeecd8e8e\n",
       "    action: str = syft.core.node.new.action_object.Action\n",
       "    status: str = ActionStatus.PROCESSING\n",
       "    retry: str = 0\n",
       "    created_at: str = 2023-04-13 07:08:44,\n",
       "  class ActionGraphNode:\n",
       "    id: str = 61c1174f28b84c6cb248cf9cd97d7cd0\n",
       "    action: str = syft.core.node.new.action_object.Action\n",
       "    status: str = ActionStatus.PROCESSING\n",
       "    retry: str = 0\n",
       "    created_at: str = 2023-04-13 07:08:44),\n",
       " (class ActionGraphNode:\n",
       "    id: str = 2b4a6acbf21e40458544956d2b984fb8\n",
       "    action: str = syft.core.node.new.action_object.Action\n",
       "    status: str = ActionStatus.PROCESSING\n",
       "    retry: str = 0\n",
       "    created_at: str = 2023-04-13 07:08:44,\n",
       "  class ActionGraphNode:\n",
       "    id: str = 2b4a6acbf21e40458544956d2b984fb8\n",
       "    action: str = syft.core.node.new.action_object.Action\n",
       "    status: str = ActionStatus.PROCESSING\n",
       "    retry: str = 0\n",
       "    created_at: str = 2023-04-13 07:08:44),\n",
       " (class ActionGraphNode:\n",
       "    id: str = 2b4a6acbf21e40458544956d2b984fb8\n",
       "    action: str = syft.core.node.new.action_object.Action\n",
       "    status: str = ActionStatus.PROCESSING\n",
       "    retry: str = 0\n",
       "    created_at: str = 2023-04-13 07:08:44,\n",
       "  class ActionGraphNode:\n",
       "    id: str = 61c1174f28b84c6cb248cf9cd97d7cd0\n",
       "    action: str = syft.core.node.new.action_object.Action\n",
       "    status: str = ActionStatus.PROCESSING\n",
       "    retry: str = 0\n",
       "    created_at: str = 2023-04-13 07:08:44),\n",
       " (class ActionGraphNode:\n",
       "    id: str = 61c1174f28b84c6cb248cf9cd97d7cd0\n",
       "    action: str = syft.core.node.new.action_object.Action\n",
       "    status: str = ActionStatus.PROCESSING\n",
       "    retry: str = 0\n",
       "    created_at: str = 2023-04-13 07:08:44,\n",
       "  class ActionGraphNode:\n",
       "    id: str = 61c1174f28b84c6cb248cf9cd97d7cd0\n",
       "    action: str = syft.core.node.new.action_object.Action\n",
       "    status: str = ActionStatus.PROCESSING\n",
       "    retry: str = 0\n",
       "    created_at: str = 2023-04-13 07:08:44)]"
      ]
     },
     "execution_count": 43,
     "metadata": {},
     "output_type": "execute_result"
    }
   ],
   "source": [
    "list(edges)"
   ]
  },
  {
   "cell_type": "code",
   "execution_count": 44,
   "id": "6d454f84",
   "metadata": {},
   "outputs": [
    {
     "data": {
      "text/plain": [
       "5"
      ]
     },
     "execution_count": 44,
     "metadata": {},
     "output_type": "execute_result"
    }
   ],
   "source": [
    "len(edges)"
   ]
  },
  {
   "cell_type": "code",
   "execution_count": 25,
   "id": "cab967d0",
   "metadata": {},
   "outputs": [],
   "source": [
    "import syft as sy"
   ]
  },
  {
   "cell_type": "code",
   "execution_count": 26,
   "id": "49ddff08",
   "metadata": {},
   "outputs": [],
   "source": [
    "graph_dict = nx.to_dict_of_dicts(graph)"
   ]
  },
  {
   "cell_type": "code",
   "execution_count": 45,
   "id": "de168e01",
   "metadata": {},
   "outputs": [
    {
     "data": {
      "text/html": [
       "{class ActionGraphNode:\n",
       "  id: str = 0f631a39ba62494086520c8eeecd8e8e\n",
       "  action: str = syft.core.node.new.action_object.Action\n",
       "  status: str = ActionStatus.PROCESSING\n",
       "  retry: str = 0\n",
       "  created_at: str = 2023-04-13 07:08:44\n",
       ": {class ActionGraphNode:\n",
       "  id: str = 0f631a39ba62494086520c8eeecd8e8e\n",
       "  action: str = syft.core.node.new.action_object.Action\n",
       "  status: str = ActionStatus.PROCESSING\n",
       "  retry: str = 0\n",
       "  created_at: str = 2023-04-13 07:08:44\n",
       ": {}, class ActionGraphNode:\n",
       "  id: str = 61c1174f28b84c6cb248cf9cd97d7cd0\n",
       "  action: str = syft.core.node.new.action_object.Action\n",
       "  status: str = ActionStatus.PROCESSING\n",
       "  retry: str = 0\n",
       "  created_at: str = 2023-04-13 07:08:44\n",
       ": {}}, class ActionGraphNode:\n",
       "  id: str = 2b4a6acbf21e40458544956d2b984fb8\n",
       "  action: str = syft.core.node.new.action_object.Action\n",
       "  status: str = ActionStatus.PROCESSING\n",
       "  retry: str = 0\n",
       "  created_at: str = 2023-04-13 07:08:44\n",
       ": {class ActionGraphNode:\n",
       "  id: str = 2b4a6acbf21e40458544956d2b984fb8\n",
       "  action: str = syft.core.node.new.action_object.Action\n",
       "  status: str = ActionStatus.PROCESSING\n",
       "  retry: str = 0\n",
       "  created_at: str = 2023-04-13 07:08:44\n",
       ": {}, class ActionGraphNode:\n",
       "  id: str = 61c1174f28b84c6cb248cf9cd97d7cd0\n",
       "  action: str = syft.core.node.new.action_object.Action\n",
       "  status: str = ActionStatus.PROCESSING\n",
       "  retry: str = 0\n",
       "  created_at: str = 2023-04-13 07:08:44\n",
       ": {}}, class ActionGraphNode:\n",
       "  id: str = 61c1174f28b84c6cb248cf9cd97d7cd0\n",
       "  action: str = syft.core.node.new.action_object.Action\n",
       "  status: str = ActionStatus.PROCESSING\n",
       "  retry: str = 0\n",
       "  created_at: str = 2023-04-13 07:08:44\n",
       ": {class ActionGraphNode:\n",
       "  id: str = 61c1174f28b84c6cb248cf9cd97d7cd0\n",
       "  action: str = syft.core.node.new.action_object.Action\n",
       "  status: str = ActionStatus.PROCESSING\n",
       "  retry: str = 0\n",
       "  created_at: str = 2023-04-13 07:08:44\n",
       ": {}}}"
      ],
      "text/plain": [
       "{class ActionGraphNode:\n",
       "   id: str = 0f631a39ba62494086520c8eeecd8e8e\n",
       "   action: str = syft.core.node.new.action_object.Action\n",
       "   status: str = ActionStatus.PROCESSING\n",
       "   retry: str = 0\n",
       "   created_at: str = 2023-04-13 07:08:44: {class ActionGraphNode:\n",
       "    id: str = 0f631a39ba62494086520c8eeecd8e8e\n",
       "    action: str = syft.core.node.new.action_object.Action\n",
       "    status: str = ActionStatus.PROCESSING\n",
       "    retry: str = 0\n",
       "    created_at: str = 2023-04-13 07:08:44: {},\n",
       "  class ActionGraphNode:\n",
       "    id: str = 61c1174f28b84c6cb248cf9cd97d7cd0\n",
       "    action: str = syft.core.node.new.action_object.Action\n",
       "    status: str = ActionStatus.PROCESSING\n",
       "    retry: str = 0\n",
       "    created_at: str = 2023-04-13 07:08:44: {}},\n",
       " class ActionGraphNode:\n",
       "   id: str = 2b4a6acbf21e40458544956d2b984fb8\n",
       "   action: str = syft.core.node.new.action_object.Action\n",
       "   status: str = ActionStatus.PROCESSING\n",
       "   retry: str = 0\n",
       "   created_at: str = 2023-04-13 07:08:44: {class ActionGraphNode:\n",
       "    id: str = 2b4a6acbf21e40458544956d2b984fb8\n",
       "    action: str = syft.core.node.new.action_object.Action\n",
       "    status: str = ActionStatus.PROCESSING\n",
       "    retry: str = 0\n",
       "    created_at: str = 2023-04-13 07:08:44: {},\n",
       "  class ActionGraphNode:\n",
       "    id: str = 61c1174f28b84c6cb248cf9cd97d7cd0\n",
       "    action: str = syft.core.node.new.action_object.Action\n",
       "    status: str = ActionStatus.PROCESSING\n",
       "    retry: str = 0\n",
       "    created_at: str = 2023-04-13 07:08:44: {}},\n",
       " class ActionGraphNode:\n",
       "   id: str = 61c1174f28b84c6cb248cf9cd97d7cd0\n",
       "   action: str = syft.core.node.new.action_object.Action\n",
       "   status: str = ActionStatus.PROCESSING\n",
       "   retry: str = 0\n",
       "   created_at: str = 2023-04-13 07:08:44: {class ActionGraphNode:\n",
       "    id: str = 61c1174f28b84c6cb248cf9cd97d7cd0\n",
       "    action: str = syft.core.node.new.action_object.Action\n",
       "    status: str = ActionStatus.PROCESSING\n",
       "    retry: str = 0\n",
       "    created_at: str = 2023-04-13 07:08:44: {}}}"
      ]
     },
     "execution_count": 45,
     "metadata": {},
     "output_type": "execute_result"
    }
   ],
   "source": [
    "graph_dict"
   ]
  },
  {
   "cell_type": "code",
   "execution_count": 54,
   "id": "3c3d3eb5",
   "metadata": {},
   "outputs": [],
   "source": [
    "s = sy.serialize(graph_dict, to_bytes=True)"
   ]
  },
  {
   "cell_type": "code",
   "execution_count": 55,
   "id": "5944bc1b",
   "metadata": {},
   "outputs": [
    {
     "data": {
      "text/plain": [
       "b'\\x01\\x00\\x00\\x00\\x08\\x00\\x00\\x00&\\x0c\\x00\\x00\\x00\\x00\\x00\\x00\\x00\\x00\\x00\\x00\\x00\\x00\\x04\\x00\\x00\\x00\\x00\\x00\\x00\\x00\\x00\\x00\\x00\\x00\\x00\\x00\\x00\\x00\\x00\\x00\\x05\\x00\\x00\\x00r\\x00\\x00\\x00\\t\\x00\\x00\\x00\\x0e\\x00\\x00\\x00builtins.dict\\x00\\x00\\x00\\x02\\x00\\x00\\x00\\x01\\x00\\x00\\x00\\x01\\x00\\x00\\x00B\\t\\x03\\x00\\x02\\x00\\x00\\x00\\xc6\\x02\\x00\\x00\\x15\\x03\\x00\\x00H\\x06\\x00\\x00\\x00\\x00\\x00\\x00\\x00\\x00\\x02\\x00\\x05\\x00\\x00\\x00\\x1e\\x00\\x00\\x00\\r\\x00\\x00\\x00\\x1e\\x00\\x00\\x00\\x15\\x00\\x00\\x00BW\\x00\\x00\\x89\\x05\\x00\\x00BW\\x00\\x00\\xaa\\x18\\x00\\x00\\x02\\x00\\x00\\x00}\\x05\\x00\\x00\\x0e\\x00\\x00\\x00\\xf1\\n\\x00\\x00\\x0e\\x00\\x00\\x00\\xf1\\n\\x00\\x00\\x0e\\x00\\x00\\x00\\x00\\x00\\x00\\x00\\\\\\x01\\x00\\x00\\x00\\x00\\x00\\x00\\x00\\x00\\x04\\x00%\\x00\\x00\\x00.\\x00\\x00\\x005\\x00\\x00\\x00.\\x00\\x00\\x00\\x05\\x00\\x00\\x00\\x82\\x01\\x00\\x00\\x00\\x00\\x00\\x00\\x00\\x00\\x00\\x00syft.core.node.new.action_graph.ActionGraphNode\\x00%\\x00\\x00\\x00:\\x00\\x00\\x00A\\x03\\x00\\x00Z\\x00\\x00\\x00-\\x04\\x00\\x00\\x1a\\x00\\x00\\x00\\x95\\x04\\x00\\x002\\x00\\x00\\x00\\xc1\\x04\\x00\\x00:\\x00\\x00\\x00\\x15\\x00\\x00\\x00\\x0e\\x00\\x00\\x005\\x03\\x00\\x00\\x0e\\x00\\x00\\x00\\x1d\\x04\\x00\\x00\\x0e\\x00\\x00\\x00\\x85\\x04\\x00\\x00\\x0e\\x00\\x00\\x00\\xb1\\x04\\x00\\x00\\x0e\\x00\\x00\\x00action\\x00\\x00\\x01\\x00\\x00\\x00\\x821\\x00\\x00\\x00\\x00\\x00\\x00\\xc5\\x00\\x00\\x00\\x00\\x00\\x00\\x00\\x00\\x00\\x04\\x00!\\x00\\x00\\x00>\\x00\\x00\\x009\\x00\\x00\\x00>\\x00\\x00\\x00\\x05\\x00\\x00\\x00B\\x01\\x00\\x00\\x00\\x00\\x00\\x00\\x00\\x00\\x00\\x00syft.core.node.new.action_object.Action\\x005\\x00\\x00\\x00*\\x00\\x00\\x00i\\x00\\x00\\x00\\x1a\\x00\\x00\\x00\\xd1\\x00\\x00\\x00:\\x00\\x00\\x00\\t\\x01\\x00\\x00\\x1a\\x00\\x00\\x005\\x01\\x00\\x00*\\x00\\x00\\x00e\\x01\\x00\\x00b\\x00\\x00\\x00\\x19\\x02\\x00\\x00R\\x00\\x00\\x00\\x1d\\x00\\x00\\x00\\x0e\\x00\\x00\\x00Q\\x00\\x00\\x00\\x0e\\x00\\x00\\x00\\xb9\\x00\\x00\\x00\\x0e\\x00\\x00\\x00\\xf1\\x00\\x00\\x00\\x0e\\x00\\x00\\x00\\x1d\\x01\\x00\\x00\\x0e\\x00\\x00\\x00Q\\x01\\x00\\x00\\x0e\\x00\\x00\\x00\\x05\\x02\\x00\\x00\\x0e\\x00\\x00\\x00args\\x00\\x00\\x00\\x00\\x01\\x00\\x00\\x00\\x02\\x03\\x00\\x00\\x00\\x00\\x00\\x00\\x0b\\x00\\x00\\x00\\x00\\x00\\x00\\x00\\x00\\x00\\x04\\x00\\x00\\x00\\x00\\x00\\x00\\x00\\x00\\x00\\x00\\x00\\x00\\x00\\x00\\x00\\x00\\x00\\x05\\x00\\x00\\x00r\\x00\\x00\\x00\\t\\x00\\x00\\x00\\x0e\\x00\\x00\\x00builtins.list\\x00\\x00\\x00\\x01\\x00\\x00\\x00\\xc2\\x00\\x00\\x00\\x00\\x00\\x00\\x00\\x02\\x00\\x00\\x00\\x00\\x00\\x00\\x00\\x00\\x00\\x01\\x00\\x01\\x00\\x00\\x00\\x06\\x00\\x00\\x00id\\x00\\x00\\x00\\x00\\x00\\x00\\x01\\x00\\x00\\x00B\\x06\\x00\\x00\\x00\\x00\\x00\\x00\\x18\\x00\\x00\\x00\\x00\\x00\\x00\\x00\\x00\\x00\\x04\\x00\\x1d\\x00\\x00\\x00\\x0e\\x00\\x00\\x00\\x1d\\x00\\x00\\x00\\x0e\\x00\\x00\\x00\\x05\\x00\\x00\\x00\\xda\\x00\\x00\\x00\\x00\\x00\\x00\\x00\\x00\\x00\\x00\\x00syft.core.node.new.uid.UID\\x00\\x00\\x00\\x00\\x00\\x00\\x05\\x00\\x00\\x002\\x00\\x00\\x00\\x05\\x00\\x00\\x00\\x0e\\x00\\x00\\x00value\\x00\\x00\\x00\\x01\\x00\\x00\\x00\\xc2\\x02\\x00\\x00\\x00\\x00\\x00\\x00\\n\\x00\\x00\\x00\\x00\\x00\\x00\\x00\\x00\\x00\\x04\\x00\\x00\\x00\\x00\\x00\\x00\\x00\\x00\\x00\\x00\\x00\\x00\\x00\\x00\\x00\\x00\\x00\\x05\\x00\\x00\\x00z\\x00\\x00\\x00\\t\\x00\\x00\\x00\\x0e\\x00\\x00\\x00builtins.bytes\\x00\\x00\\x01\\x00\\x00\\x00\\x82\\x00\\x00\\x00\\x0fc\\x1a9\\xbabI@\\x86R\\x0c\\x8e\\xee\\xcd\\x8e\\x8ekwargs\\x00\\x00\\x01\\x00\\x00\\x00B\\x03\\x00\\x00\\x00\\x00\\x00\\x00\\x0c\\x00\\x00\\x00\\x00\\x00\\x00\\x00\\x00\\x00\\x04\\x00\\x00\\x00\\x00\\x00\\x00\\x00\\x00\\x00\\x00\\x00\\x00\\x00\\x00\\x00\\x00\\x00\\x05\\x00\\x00\\x00r\\x00\\x00\\x00\\t\\x00\\x00\\x00\\x0e\\x00\\x00\\x00builtins.dict\\x00\\x00\\x00\\x01\\x00\\x00\\x00\\x02\\x01\\x00\\x00\\x00\\x00\\x00\\x00\\x03\\x00\\x00\\x00\\x00\\x00\\x00\\x00\\x00\\x00\\x02\\x00\\x05\\x00\\x00\\x00\\x06\\x00\\x00\\x00\\x01\\x00\\x00\\x00\\x06\\x00\\x00\\x00op\\x00\\x00\\x00\\x00\\x00\\x00\\x01\\x00\\x00\\x00\\x82\\x02\\x00\\x00\\x00\\x00\\x00\\x00\\t\\x00\\x00\\x00\\x00\\x00\\x00\\x00\\x00\\x00\\x04\\x00\\x00\\x00\\x00\\x00\\x00\\x00\\x00\\x00\\x00\\x00\\x00\\x00\\x00\\x00\\x00\\x00\\x05\\x00\\x00\\x00j\\x00\\x00\\x00\\t\\x00\\x00\\x00\\x0e\\x00\\x00\\x00builtins.str\\x00\\x00\\x00\\x00\\x01\\x00\\x00\\x00\"\\x00\\x00\\x00init\\x00\\x00\\x00\\x00path\\x00\\x00\\x00\\x00\\x01\\x00\\x00\\x00\\xc2\\x02\\x00\\x00\\x00\\x00\\x00\\x00\\n\\x00\\x00\\x00\\x00\\x00\\x00\\x00\\x00\\x00\\x04\\x00\\x00\\x00\\x00\\x00\\x00\\x00\\x00\\x00\\x00\\x00\\x00\\x00\\x00\\x00\\x00\\x00\\x05\\x00\\x00\\x00j\\x00\\x00\\x00\\t\\x00\\x00\\x00\\x0e\\x00\\x00\\x00builtins.str\\x00\\x00\\x00\\x00\\x01\\x00\\x00\\x00\\x82\\x00\\x00\\x00NumpyArrayObjectremote_self\\x00\\x00\\x00\\x00\\x00\\x01\\x00\\x00\\x00\\xc2\\n\\x00\\x00\\x00\\x00\\x00\\x00*\\x00\\x00\\x00\\x00\\x00\\x00\\x00\\x00\\x00\\x04\\x00!\\x00\\x00\\x00\\x16\\x00\\x00\\x00%\\x00\\x00\\x00\\x16\\x00\\x00\\x00\\x05\\x00\\x00\\x00\\n\\x01\\x00\\x00\\x00\\x00\\x00\\x00\\x00\\x00\\x00\\x00syft.core.node.new.uid.LineageID\\x00\\x00\\x00\\x00\\x00\\x00\\x00\\x00\\r\\x00\\x00\\x00\\x92\\x00\\x00\\x00E\\x00\\x00\\x002\\x00\\x00\\x00\\x11\\x00\\x00\\x00\\x0e\\x00\\x00\\x00A\\x00\\x00\\x00\\x0e\\x00\\x00\\x00syft_history_hash\\x00\\x00\\x00\\x00\\x00\\x00\\x00\\x01\\x00\\x00\\x00\\xc2\\x02\\x00\\x00\\x00\\x00\\x00\\x00\\n\\x00\\x00\\x00\\x00\\x00\\x00\\x00\\x00\\x00\\x04\\x00\\x00\\x00\\x00\\x00\\x00\\x00\\x00\\x00\\x00\\x00\\x00\\x00\\x00\\x00\\x00\\x00\\x05\\x00\\x00\\x00j\\x00\\x00\\x00\\t\\x00\\x00\\x00\\x0e\\x00\\x00\\x00builtins.int\\x00\\x00\\x00\\x00\\x01\\x00\\x00\\x00J\\x00\\x00\\x00\\x00\\x16\\x96J \\xa0\\xce\\x9dl\\x00\\x00\\x00\\x00\\x00\\x00\\x00value\\x00\\x00\\x00\\x01\\x00\\x00\\x00\\xc2\\x02\\x00\\x00\\x00\\x00\\x00\\x00\\n\\x00\\x00\\x00\\x00\\x00\\x00\\x00\\x00\\x00\\x04\\x00\\x00\\x00\\x00\\x00\\x00\\x00\\x00\\x00\\x00\\x00\\x00\\x00\\x00\\x00\\x00\\x00\\x05\\x00\\x00\\x00z\\x00\\x00\\x00\\t\\x00\\x00\\x00\\x0e\\x00\\x00\\x00builtins.bytes\\x00\\x00\\x01\\x00\\x00\\x00\\x82\\x00\\x00\\x00\\x81\\x07\\xbc\\xe1\\xec\\xe1Et\\x8eXc\\x119\\xc4q\\xa8result_id\\x00\\x00\\x00\\x00\\x00\\x00\\x00\\x01\\x00\\x00\\x00\\xc2\\n\\x00\\x00\\x00\\x00\\x00\\x00*\\x00\\x00\\x00\\x00\\x00\\x00\\x00\\x00\\x00\\x04\\x00!\\x00\\x00\\x00\\x16\\x00\\x00\\x00%\\x00\\x00\\x00\\x16\\x00\\x00\\x00\\x05\\x00\\x00\\x00\\n\\x01\\x00\\x00\\x00\\x00\\x00\\x00\\x00\\x00\\x00\\x00syft.core.node.new.uid.LineageID\\x00\\x00\\x00\\x00\\x00\\x00\\x00\\x00\\r\\x00\\x00\\x00\\x92\\x00\\x00\\x00E\\x00\\x00\\x002\\x00\\x00\\x00\\x11\\x00\\x00\\x00\\x0e\\x00\\x00\\x00A\\x00\\x00\\x00\\x0e\\x00\\x00\\x00syft_history_hash\\x00\\x00\\x00\\x00\\x00\\x00\\x00\\x01\\x00\\x00\\x00\\xc2\\x02\\x00\\x00\\x00\\x00\\x00\\x00\\n\\x00\\x00\\x00\\x00\\x00\\x00\\x00\\x00\\x00\\x04\\x00\\x00\\x00\\x00\\x00\\x00\\x00\\x00\\x00\\x00\\x00\\x00\\x00\\x00\\x00\\x00\\x00\\x05\\x00\\x00\\x00j\\x00\\x00\\x00\\t\\x00\\x00\\x00\\x0e\\x00\\x00\\x00builtins.int\\x00\\x00\\x00\\x00\\x01\\x00\\x00\\x00J\\x00\\x00\\x00\\x00\\x02+\\x1a\\xf5e>\\xd6\\x08\\x00\\x00\\x00\\x00\\x00\\x00\\x00value\\x00\\x00\\x00\\x01\\x00\\x00\\x00\\xc2\\x02\\x00\\x00\\x00\\x00\\x00\\x00\\n\\x00\\x00\\x00\\x00\\x00\\x00\\x00\\x00\\x00\\x04\\x00\\x00\\x00\\x00\\x00\\x00\\x00\\x00\\x00\\x00\\x00\\x00\\x00\\x00\\x00\\x00\\x00\\x05\\x00\\x00\\x00z\\x00\\x00\\x00\\t\\x00\\x00\\x00\\x0e\\x00\\x00\\x00builtins.bytes\\x00\\x00\\x01\\x00\\x00\\x00\\x82\\x00\\x00\\x00V\\x9d\\xc1\\x81.rC\\xf3\\xad=\\x0e\\xeb\\xf1\\xac\\xb6Ucreated_at\\x00\\x00\\x00\\x00\\x00\\x00\\x01\\x00\\x00\\x00B\\x0e\\x00\\x00\\x00\\x00\\x00\\x008\\x00\\x00\\x00\\x00\\x00\\x00\\x00\\x00\\x00\\x04\\x00!\\x00\\x00\\x00\\x16\\x00\\x00\\x00%\\x00\\x00\\x00\\x16\\x00\\x00\\x00\\x05\\x00\\x00\\x00*\\x01\\x00\\x00\\x00\\x00\\x00\\x00\\x00\\x00\\x00\\x00syft.core.node.new.datetime.DateTime\\x00\\x00\\x00\\x00\\r\\x00\\x00\\x00\\x1a\\x00\\x00\\x00u\\x00\\x00\\x00r\\x00\\x00\\x00\\t\\x00\\x00\\x00\\x0e\\x00\\x00\\x00u\\x00\\x00\\x00\\x0e\\x00\\x00\\x00id\\x00\\x00\\x00\\x00\\x00\\x00\\x01\\x00\\x00\\x00B\\x06\\x00\\x00\\x00\\x00\\x00\\x00\\x18\\x00\\x00\\x00\\x00\\x00\\x00\\x00\\x00\\x00\\x04\\x00\\x1d\\x00\\x00\\x00\\x0e\\x00\\x00\\x00\\x1d\\x00\\x00\\x00\\x0e\\x00\\x00\\x00\\x05\\x00\\x00\\x00\\xda\\x00\\x00\\x00\\x00\\x00\\x00\\x00\\x00\\x00\\x00\\x00syft.core.node.new.uid.UID\\x00\\x00\\x00\\x00\\x00\\x00\\x05\\x00\\x00\\x002\\x00\\x00\\x00\\x05\\x00\\x00\\x00\\x0e\\x00\\x00\\x00value\\x00\\x00\\x00\\x01\\x00\\x00\\x00\\xc2\\x02\\x00\\x00\\x00\\x00\\x00\\x00\\n\\x00\\x00\\x00\\x00\\x00\\x00\\x00\\x00\\x00\\x04\\x00\\x00\\x00\\x00\\x00\\x00\\x00\\x00\\x00\\x00\\x00\\x00\\x00\\x00\\x00\\x00\\x00\\x05\\x00\\x00\\x00z\\x00\\x00\\x00\\t\\x00\\x00\\x00\\x0e\\x00\\x00\\x00builtins.bytes\\x00\\x00\\x01\\x00\\x00\\x00\\x82\\x00\\x00\\x00\\xcf\\x0cF]M0J\\xd7\\x83W.J\\xc5\\xa2,\\x94utc_timestamp\\x00\\x00\\x00\\x01\\x00\\x00\\x00\\x02\\x03\\x00\\x00\\x00\\x00\\x00\\x00\\x0b\\x00\\x00\\x00\\x00\\x00\\x00\\x00\\x00\\x00\\x04\\x00\\x00\\x00\\x00\\x00\\x00\\x00\\x00\\x00\\x00\\x00\\x00\\x00\\x00\\x00\\x00\\x00\\x05\\x00\\x00\\x00z\\x00\\x00\\x00\\t\\x00\\x00\\x00\\x0e\\x00\\x00\\x00builtins.float\\x00\\x00\\x01\\x00\\x00\\x00\\xaa\\x00\\x00\\x000x1.90dea9f33f662p+30\\x00\\x00\\x00id\\x00\\x00\\x00\\x00\\x00\\x00\\x01\\x00\\x00\\x00B\\x06\\x00\\x00\\x00\\x00\\x00\\x00\\x18\\x00\\x00\\x00\\x00\\x00\\x00\\x00\\x00\\x00\\x04\\x00\\x1d\\x00\\x00\\x00\\x0e\\x00\\x00\\x00\\x1d\\x00\\x00\\x00\\x0e\\x00\\x00\\x00\\x05\\x00\\x00\\x00\\xda\\x00\\x00\\x00\\x00\\x00\\x00\\x00\\x00\\x00\\x00\\x00syft.core.node.new.uid.UID\\x00\\x00\\x00\\x00\\x00\\x00\\x05\\x00\\x00\\x002\\x00\\x00\\x00\\x05\\x00\\x00\\x00\\x0e\\x00\\x00\\x00value\\x00\\x00\\x00\\x01\\x00\\x00\\x00\\xc2\\x02\\x00\\x00\\x00\\x00\\x00\\x00\\n\\x00\\x00\\x00\\x00\\x00\\x00\\x00\\x00\\x00\\x04\\x00\\x00\\x00\\x00\\x00\\x00\\x00\\x00\\x00\\x00\\x00\\x00\\x00\\x00\\x00\\x00\\x00\\x05\\x00\\x00\\x00z\\x00\\x00\\x00\\t\\x00\\x00\\x00\\x0e\\x00\\x00\\x00builtins.bytes\\x00\\x00\\x01\\x00\\x00\\x00\\x82\\x00\\x00\\x00\\x0fc\\x1a9\\xbabI@\\x86R\\x0c\\x8e\\xee\\xcd\\x8e\\x8eretry\\x00\\x00\\x00\\x01\\x00\\x00\\x00\\x82\\x02\\x00\\x00\\x00\\x00\\x00\\x00\\t\\x00\\x00\\x00\\x00\\x00\\x00\\x00\\x00\\x00\\x04\\x00\\x00\\x00\\x00\\x00\\x00\\x00\\x00\\x00\\x00\\x00\\x00\\x00\\x00\\x00\\x00\\x00\\x05\\x00\\x00\\x00j\\x00\\x00\\x00\\t\\x00\\x00\\x00\\x0e\\x00\\x00\\x00builtins.int\\x00\\x00\\x00\\x00\\x01\\x00\\x00\\x00\\n\\x00\\x00\\x00\\x00\\x00\\x00\\x00\\x00\\x00\\x00\\x00status\\x00\\x00\\x01\\x00\\x00\\x00\\x82\\x06\\x00\\x00\\x00\\x00\\x00\\x00\\x19\\x00\\x00\\x00\\x00\\x00\\x00\\x00\\x00\\x00\\x04\\x00%\\x00\\x00\\x00\\x0e\\x00\\x00\\x00%\\x00\\x00\\x00\\x0e\\x00\\x00\\x00\\x05\\x00\\x00\\x00j\\x01\\x00\\x00\\x00\\x00\\x00\\x00\\x00\\x00\\x00\\x00syft.core.node.new.action_graph.ActionStatus\\x00\\x00\\x00\\x00\\x05\\x00\\x00\\x002\\x00\\x00\\x00\\x05\\x00\\x00\\x00\\x0e\\x00\\x00\\x00value\\x00\\x00\\x00\\x01\\x00\\x00\\x00\\x82\\x02\\x00\\x00\\x00\\x00\\x00\\x00\\t\\x00\\x00\\x00\\x00\\x00\\x00\\x00\\x00\\x00\\x04\\x00\\x00\\x00\\x00\\x00\\x00\\x00\\x00\\x00\\x00\\x00\\x00\\x00\\x00\\x00\\x00\\x00\\x05\\x00\\x00\\x00j\\x00\\x00\\x00\\t\\x00\\x00\\x00\\x0e\\x00\\x00\\x00builtins.int\\x00\\x00\\x00\\x00\\x01\\x00\\x00\\x00\\n\\x00\\x00\\x00\\x00\\x00\\x00\\x00\\x00\\x00\\x00\\x00\\x02\\x00\\x00\\x00\\x01\\x00\\x00\\x00\\x00\\x00\\x00\\x00\\\\\\x01\\x00\\x00\\x00\\x00\\x00\\x00\\x00\\x00\\x04\\x00%\\x00\\x00\\x00.\\x00\\x00\\x005\\x00\\x00\\x00.\\x00\\x00\\x00\\x05\\x00\\x00\\x00\\x82\\x01\\x00\\x00\\x00\\x00\\x00\\x00\\x00\\x00\\x00\\x00syft.core.node.new.action_graph.ActionGraphNode\\x00%\\x00\\x00\\x00:\\x00\\x00\\x00A\\x03\\x00\\x00Z\\x00\\x00\\x00-\\x04\\x00\\x00\\x1a\\x00\\x00\\x00\\x95\\x04\\x00\\x002\\x00\\x00\\x00\\xc1\\x04\\x00\\x00:\\x00\\x00\\x00\\x15\\x00\\x00\\x00\\x0e\\x00\\x00\\x005\\x03\\x00\\x00\\x0e\\x00\\x00\\x00\\x1d\\x04\\x00\\x00\\x0e\\x00\\x00\\x00\\x85\\x04\\x00\\x00\\x0e\\x00\\x00\\x00\\xb1\\x04\\x00\\x00\\x0e\\x00\\x00\\x00action\\x00\\x00\\x01\\x00\\x00\\x00\\x821\\x00\\x00\\x00\\x00\\x00\\x00\\xc5\\x00\\x00\\x00\\x00\\x00\\x00\\x00\\x00\\x00\\x04\\x00!\\x00\\x00\\x00>\\x00\\x00\\x009\\x00\\x00\\x00>\\x00\\x00\\x00\\x05\\x00\\x00\\x00B\\x01\\x00\\x00\\x00\\x00\\x00\\x00\\x00\\x00\\x00\\x00syft.core.node.new.action_object.Action\\x005\\x00\\x00\\x00*\\x00\\x00\\x00i\\x00\\x00\\x00\\x1a\\x00\\x00\\x00\\xd1\\x00\\x00\\x00:\\x00\\x00\\x00\\t\\x01\\x00\\x00\\x1a\\x00\\x00\\x005\\x01\\x00\\x00*\\x00\\x00\\x00e\\x01\\x00\\x00b\\x00\\x00\\x00\\x19\\x02\\x00\\x00R\\x00\\x00\\x00\\x1d\\x00\\x00\\x00\\x0e\\x00\\x00\\x00Q\\x00\\x00\\x00\\x0e\\x00\\x00\\x00\\xb9\\x00\\x00\\x00\\x0e\\x00\\x00\\x00\\xf1\\x00\\x00\\x00\\x0e\\x00\\x00\\x00\\x1d\\x01\\x00\\x00\\x0e\\x00\\x00\\x00Q\\x01\\x00\\x00\\x0e\\x00\\x00\\x00\\x05\\x02\\x00\\x00\\x0e\\x00\\x00\\x00args\\x00\\x00\\x00\\x00\\x01\\x00\\x00\\x00\\x02\\x03\\x00\\x00\\x00\\x00\\x00\\x00\\x0b\\x00\\x00\\x00\\x00\\x00\\x00\\x00\\x00\\x00\\x04\\x00\\x00\\x00\\x00\\x00\\x00\\x00\\x00\\x00\\x00\\x00\\x00\\x00\\x00\\x00\\x00\\x00\\x05\\x00\\x00\\x00r\\x00\\x00\\x00\\t\\x00\\x00\\x00\\x0e\\x00\\x00\\x00builtins.list\\x00\\x00\\x00\\x01\\x00\\x00\\x00\\xc2\\x00\\x00\\x00\\x00\\x00\\x00\\x00\\x02\\x00\\x00\\x00\\x00\\x00\\x00\\x00\\x00\\x00\\x01\\x00\\x01\\x00\\x00\\x00\\x06\\x00\\x00\\x00id\\x00\\x00\\x00\\x00\\x00\\x00\\x01\\x00\\x00\\x00B\\x06\\x00\\x00\\x00\\x00\\x00\\x00\\x18\\x00\\x00\\x00\\x00\\x00\\x00\\x00\\x00\\x00\\x04\\x00\\x1d\\x00\\x00\\x00\\x0e\\x00\\x00\\x00\\x1d\\x00\\x00\\x00\\x0e\\x00\\x00\\x00\\x05\\x00\\x00\\x00\\xda\\x00\\x00\\x00\\x00\\x00\\x00\\x00\\x00\\x00\\x00\\x00syft.core.node.new.uid.UID\\x00\\x00\\x00\\x00\\x00\\x00\\x05\\x00\\x00\\x002\\x00\\x00\\x00\\x05\\x00\\x00\\x00\\x0e\\x00\\x00\\x00value\\x00\\x00\\x00\\x01\\x00\\x00\\x00\\xc2\\x02\\x00\\x00\\x00\\x00\\x00\\x00\\n\\x00\\x00\\x00\\x00\\x00\\x00\\x00\\x00\\x00\\x04\\x00\\x00\\x00\\x00\\x00\\x00\\x00\\x00\\x00\\x00\\x00\\x00\\x00\\x00\\x00\\x00\\x00\\x05\\x00\\x00\\x00z\\x00\\x00\\x00\\t\\x00\\x00\\x00\\x0e\\x00\\x00\\x00builtins.bytes\\x00\\x00\\x01\\x00\\x00\\x00\\x82\\x00\\x00\\x00+Jj\\xcb\\xf2\\x1e@E\\x85D\\x95m+\\x98O\\xb8kwargs\\x00\\x00\\x01\\x00\\x00\\x00B\\x03\\x00\\x00\\x00\\x00\\x00\\x00\\x0c\\x00\\x00\\x00\\x00\\x00\\x00\\x00\\x00\\x00\\x04\\x00\\x00\\x00\\x00\\x00\\x00\\x00\\x00\\x00\\x00\\x00\\x00\\x00\\x00\\x00\\x00\\x00\\x05\\x00\\x00\\x00r\\x00\\x00\\x00\\t\\x00\\x00\\x00\\x0e\\x00\\x00\\x00builtins.dict\\x00\\x00\\x00\\x01\\x00\\x00\\x00\\x02\\x01\\x00\\x00\\x00\\x00\\x00\\x00\\x03\\x00\\x00\\x00\\x00\\x00\\x00\\x00\\x00\\x00\\x02\\x00\\x05\\x00\\x00\\x00\\x06\\x00\\x00\\x00\\x01\\x00\\x00\\x00\\x06\\x00\\x00\\x00op\\x00\\x00\\x00\\x00\\x00\\x00\\x01\\x00\\x00\\x00\\x82\\x02\\x00\\x00\\x00\\x00\\x00\\x00\\t\\x00\\x00\\x00\\x00\\x00\\x00\\x00\\x00\\x00\\x04\\x00\\x00\\x00\\x00\\x00\\x00\\x00\\x00\\x00\\x00\\x00\\x00\\x00\\x00\\x00\\x00\\x00\\x05\\x00\\x00\\x00j\\x00\\x00\\x00\\t\\x00\\x00\\x00\\x0e\\x00\\x00\\x00builtins.str\\x00\\x00\\x00\\x00\\x01\\x00\\x00\\x00\"\\x00\\x00\\x00init\\x00\\x00\\x00\\x00path\\x00\\x00\\x00\\x00\\x01\\x00\\x00\\x00\\xc2\\x02\\x00\\x00\\x00\\x00\\x00\\x00\\n\\x00\\x00\\x00\\x00\\x00\\x00\\x00\\x00\\x00\\x04\\x00\\x00\\x00\\x00\\x00\\x00\\x00\\x00\\x00\\x00\\x00\\x00\\x00\\x00\\x00\\x00\\x00\\x05\\x00\\x00\\x00j\\x00\\x00\\x00\\t\\x00\\x00\\x00\\x0e\\x00\\x00\\x00builtins.str\\x00\\x00\\x00\\x00\\x01\\x00\\x00\\x00\\x82\\x00\\x00\\x00NumpyArrayObjectremote_self\\x00\\x00\\x00\\x00\\x00\\x01\\x00\\x00\\x00\\xc2\\n\\x00\\x00\\x00\\x00\\x00\\x00*\\x00\\x00\\x00\\x00\\x00\\x00\\x00\\x00\\x00\\x04\\x00!\\x00\\x00\\x00\\x16\\x00\\x00\\x00%\\x00\\x00\\x00\\x16\\x00\\x00\\x00\\x05\\x00\\x00\\x00\\n\\x01\\x00\\x00\\x00\\x00\\x00\\x00\\x00\\x00\\x00\\x00syft.core.node.new.uid.LineageID\\x00\\x00\\x00\\x00\\x00\\x00\\x00\\x00\\r\\x00\\x00\\x00\\x92\\x00\\x00\\x00E\\x00\\x00\\x002\\x00\\x00\\x00\\x11\\x00\\x00\\x00\\x0e\\x00\\x00\\x00A\\x00\\x00\\x00\\x0e\\x00\\x00\\x00syft_history_hash\\x00\\x00\\x00\\x00\\x00\\x00\\x00\\x01\\x00\\x00\\x00\\xc2\\x02\\x00\\x00\\x00\\x00\\x00\\x00\\n\\x00\\x00\\x00\\x00\\x00\\x00\\x00\\x00\\x00\\x04\\x00\\x00\\x00\\x00\\x00\\x00\\x00\\x00\\x00\\x00\\x00\\x00\\x00\\x00\\x00\\x00\\x00\\x05\\x00\\x00\\x00j\\x00\\x00\\x00\\t\\x00\\x00\\x00\\x0e\\x00\\x00\\x00builtins.int\\x00\\x00\\x00\\x00\\x01\\x00\\x00\\x00J\\x00\\x00\\x00\\x00\\x02\\xf5Nf\\x07\\xf4E\\xe0\\x00\\x00\\x00\\x00\\x00\\x00\\x00value\\x00\\x00\\x00\\x01\\x00\\x00\\x00\\xc2\\x02\\x00\\x00\\x00\\x00\\x00\\x00\\n\\x00\\x00\\x00\\x00\\x00\\x00\\x00\\x00\\x00\\x04\\x00\\x00\\x00\\x00\\x00\\x00\\x00\\x00\\x00\\x00\\x00\\x00\\x00\\x00\\x00\\x00\\x00\\x05\\x00\\x00\\x00z\\x00\\x00\\x00\\t\\x00\\x00\\x00\\x0e\\x00\\x00\\x00builtins.bytes\\x00\\x00\\x01\\x00\\x00\\x00\\x82\\x00\\x00\\x007\\xc0)\\xb6\\\\\\xecH1\\x84\\xf4\\x00\\xb3 \\x92\\x04Fresult_id\\x00\\x00\\x00\\x00\\x00\\x00\\x00\\x01\\x00\\x00\\x00\\xc2\\n\\x00\\x00\\x00\\x00\\x00\\x00*\\x00\\x00\\x00\\x00\\x00\\x00\\x00\\x00\\x00\\x04\\x00!\\x00\\x00\\x00\\x16\\x00\\x00\\x00%\\x00\\x00\\x00\\x16\\x00\\x00\\x00\\x05\\x00\\x00\\x00\\n\\x01\\x00\\x00\\x00\\x00\\x00\\x00\\x00\\x00\\x00\\x00syft.core.node.new.uid.LineageID\\x00\\x00\\x00\\x00\\x00\\x00\\x00\\x00\\r\\x00\\x00\\x00\\x92\\x00\\x00\\x00E\\x00\\x00\\x002\\x00\\x00\\x00\\x11\\x00\\x00\\x00\\x0e\\x00\\x00\\x00A\\x00\\x00\\x00\\x0e\\x00\\x00\\x00syft_history_hash\\x00\\x00\\x00\\x00\\x00\\x00\\x00\\x01\\x00\\x00\\x00\\xc2\\x02\\x00\\x00\\x00\\x00\\x00\\x00\\n\\x00\\x00\\x00\\x00\\x00\\x00\\x00\\x00\\x00\\x04\\x00\\x00\\x00\\x00\\x00\\x00\\x00\\x00\\x00\\x00\\x00\\x00\\x00\\x00\\x00\\x00\\x00\\x05\\x00\\x00\\x00j\\x00\\x00\\x00\\t\\x00\\x00\\x00\\x0e\\x00\\x00\\x00builtins.int\\x00\\x00\\x00\\x00\\x01\\x00\\x00\\x00J\\x00\\x00\\x00\\x00\\x0b\\x83\\x02\\xcf\\xd5\\xb2cz\\x00\\x00\\x00\\x00\\x00\\x00\\x00value\\x00\\x00\\x00\\x01\\x00\\x00\\x00\\xc2\\x02\\x00\\x00\\x00\\x00\\x00\\x00\\n\\x00\\x00\\x00\\x00\\x00\\x00\\x00\\x00\\x00\\x04\\x00\\x00\\x00\\x00\\x00\\x00\\x00\\x00\\x00\\x00\\x00\\x00\\x00\\x00\\x00\\x00\\x00\\x05\\x00\\x00\\x00z\\x00\\x00\\x00\\t\\x00\\x00\\x00\\x0e\\x00\\x00\\x00builtins.bytes\\x00\\x00\\x01\\x00\\x00\\x00\\x82\\x00\\x00\\x00{\\x0b\\x1bo0\\xf4L\\x83\\xb3*\\'VN\\x0f\\xff>created_at\\x00\\x00\\x00\\x00\\x00\\x00\\x01\\x00\\x00\\x00B\\x0e\\x00\\x00\\x00\\x00\\x00\\x008\\x00\\x00\\x00\\x00\\x00\\x00\\x00\\x00\\x00\\x04\\x00!\\x00\\x00\\x00\\x16\\x00\\x00\\x00%\\x00\\x00\\x00\\x16\\x00\\x00\\x00\\x05\\x00\\x00\\x00*\\x01\\x00\\x00\\x00\\x00\\x00\\x00\\x00\\x00\\x00\\x00syft.core.node.new.datetime.DateTime\\x00\\x00\\x00\\x00\\r\\x00\\x00\\x00\\x1a\\x00\\x00\\x00u\\x00\\x00\\x00r\\x00\\x00\\x00\\t\\x00\\x00\\x00\\x0e\\x00\\x00\\x00u\\x00\\x00\\x00\\x0e\\x00\\x00\\x00id\\x00\\x00\\x00\\x00\\x00\\x00\\x01\\x00\\x00\\x00B\\x06\\x00\\x00\\x00\\x00\\x00\\x00\\x18\\x00\\x00\\x00\\x00\\x00\\x00\\x00\\x00\\x00\\x04\\x00\\x1d\\x00\\x00\\x00\\x0e\\x00\\x00\\x00\\x1d\\x00\\x00\\x00\\x0e\\x00\\x00\\x00\\x05\\x00\\x00\\x00\\xda\\x00\\x00\\x00\\x00\\x00\\x00\\x00\\x00\\x00\\x00\\x00syft.core.node.new.uid.UID\\x00\\x00\\x00\\x00\\x00\\x00\\x05\\x00\\x00\\x002\\x00\\x00\\x00\\x05\\x00\\x00\\x00\\x0e\\x00\\x00\\x00value\\x00\\x00\\x00\\x01\\x00\\x00\\x00\\xc2\\x02\\x00\\x00\\x00\\x00\\x00\\x00\\n\\x00\\x00\\x00\\x00\\x00\\x00\\x00\\x00\\x00\\x04\\x00\\x00\\x00\\x00\\x00\\x00\\x00\\x00\\x00\\x00\\x00\\x00\\x00\\x00\\x00\\x00\\x00\\x05\\x00\\x00\\x00z\\x00\\x00\\x00\\t\\x00\\x00\\x00\\x0e\\x00\\x00\\x00builtins.bytes\\x00\\x00\\x01\\x00\\x00\\x00\\x82\\x00\\x00\\x00O\\x8e\\xe4\\xac\\xb3\\xabD\\xef\\x9fd\\r\\xb5E\\xca\\xbe\\xb0utc_timestamp\\x00\\x00\\x00\\x01\\x00\\x00\\x00\\x02\\x03\\x00\\x00\\x00\\x00\\x00\\x00\\x0b\\x00\\x00\\x00\\x00\\x00\\x00\\x00\\x00\\x00\\x04\\x00\\x00\\x00\\x00\\x00\\x00\\x00\\x00\\x00\\x00\\x00\\x00\\x00\\x00\\x00\\x00\\x00\\x05\\x00\\x00\\x00z\\x00\\x00\\x00\\t\\x00\\x00\\x00\\x0e\\x00\\x00\\x00builtins.float\\x00\\x00\\x01\\x00\\x00\\x00\\xaa\\x00\\x00\\x000x1.90dea9f344d2fp+30\\x00\\x00\\x00id\\x00\\x00\\x00\\x00\\x00\\x00\\x01\\x00\\x00\\x00B\\x06\\x00\\x00\\x00\\x00\\x00\\x00\\x18\\x00\\x00\\x00\\x00\\x00\\x00\\x00\\x00\\x00\\x04\\x00\\x1d\\x00\\x00\\x00\\x0e\\x00\\x00\\x00\\x1d\\x00\\x00\\x00\\x0e\\x00\\x00\\x00\\x05\\x00\\x00\\x00\\xda\\x00\\x00\\x00\\x00\\x00\\x00\\x00\\x00\\x00\\x00\\x00syft.core.node.new.uid.UID\\x00\\x00\\x00\\x00\\x00\\x00\\x05\\x00\\x00\\x002\\x00\\x00\\x00\\x05\\x00\\x00\\x00\\x0e\\x00\\x00\\x00value\\x00\\x00\\x00\\x01\\x00\\x00\\x00\\xc2\\x02\\x00\\x00\\x00\\x00\\x00\\x00\\n\\x00\\x00\\x00\\x00\\x00\\x00\\x00\\x00\\x00\\x04\\x00\\x00\\x00\\x00\\x00\\x00\\x00\\x00\\x00\\x00\\x00\\x00\\x00\\x00\\x00\\x00\\x00\\x05\\x00\\x00\\x00z\\x00\\x00\\x00\\t\\x00\\x00\\x00\\x0e\\x00\\x00\\x00builtins.bytes\\x00\\x00\\x01\\x00\\x00\\x00\\x82\\x00\\x00\\x00+Jj\\xcb\\xf2\\x1e@E\\x85D\\x95m+\\x98O\\xb8retry\\x00\\x00\\x00\\x01\\x00\\x00\\x00\\x82\\x02\\x00\\x00\\x00\\x00\\x00\\x00\\t\\x00\\x00\\x00\\x00\\x00\\x00\\x00\\x00\\x00\\x04\\x00\\x00\\x00\\x00\\x00\\x00\\x00\\x00\\x00\\x00\\x00\\x00\\x00\\x00\\x00\\x00\\x00\\x05\\x00\\x00\\x00j\\x00\\x00\\x00\\t\\x00\\x00\\x00\\x0e\\x00\\x00\\x00builtins.int\\x00\\x00\\x00\\x00\\x01\\x00\\x00\\x00\\n\\x00\\x00\\x00\\x00\\x00\\x00\\x00\\x00\\x00\\x00\\x00status\\x00\\x00\\x01\\x00\\x00\\x00\\x82\\x06\\x00\\x00\\x00\\x00\\x00\\x00\\x19\\x00\\x00\\x00\\x00\\x00\\x00\\x00\\x00\\x00\\x04\\x00%\\x00\\x00\\x00\\x0e\\x00\\x00\\x00%\\x00\\x00\\x00\\x0e\\x00\\x00\\x00\\x05\\x00\\x00\\x00j\\x01\\x00\\x00\\x00\\x00\\x00\\x00\\x00\\x00\\x00\\x00syft.core.node.new.action_graph.ActionStatus\\x00\\x00\\x00\\x00\\x05\\x00\\x00\\x002\\x00\\x00\\x00\\x05\\x00\\x00\\x00\\x0e\\x00\\x00\\x00value\\x00\\x00\\x00\\x01\\x00\\x00\\x00\\x82\\x02\\x00\\x00\\x00\\x00\\x00\\x00\\t\\x00\\x00\\x00\\x00\\x00\\x00\\x00\\x00\\x00\\x04\\x00\\x00\\x00\\x00\\x00\\x00\\x00\\x00\\x00\\x00\\x00\\x00\\x00\\x00\\x00\\x00\\x00\\x05\\x00\\x00\\x00j\\x00\\x00\\x00\\t\\x00\\x00\\x00\\x0e\\x00\\x00\\x00builtins.int\\x00\\x00\\x00\\x00\\x01\\x00\\x00\\x00\\n\\x00\\x00\\x00\\x00\\x00\\x00\\x00\\x00\\x00\\x00\\x00\\x02\\x00\\x00\\x00\\x02\\x00\\x00\\x00\\x02%\\x00\\x00\\x02\\x00\\x00\\x00\\x01\\x00\\x00\\x00\\x02\\xc5\\x00\\x00\\x00\\x00\\x00\\x00\\x13\\x03\\x00\\x00\\x00\\x00\\x00\\x00\\x00\\x00\\x04\\x00\\x00\\x00\\x00\\x00\\x00\\x00\\x00\\x00\\x00\\x00\\x00\\x00\\x00\\x00\\x00\\x00\\x05\\x00\\x00\\x00r\\x00\\x00\\x00\\t\\x00\\x00\\x00\\x0e\\x00\\x00\\x00builtins.dict\\x00\\x00\\x00\\x01\\x00\\x00\\x00\\xc2\\xc2\\x00\\x00\\x00\\x00\\x00\\x00\\n\\x03\\x00\\x00\\x00\\x00\\x00\\x00\\x00\\x00\\x02\\x00\\x05\\x00\\x00\\x00\\x16\\x00\\x00\\x00\\t\\x00\\x00\\x00\\x16\\x00\\x00\\x00\\r\\x00\\x00\\x00BW\\x00\\x00\\xb5\\x05\\x00\\x00\\x82b\\x00\\x00y\\x05\\x00\\x00\\x0e\\x00\\x00\\x00\\xd5\\x0b\\x00\\x00\\x0e\\x00\\x00\\x00\\x00\\x00\\x00\\x00\\\\\\x01\\x00\\x00\\x00\\x00\\x00\\x00\\x00\\x00\\x04\\x00%\\x00\\x00\\x00.\\x00\\x00\\x005\\x00\\x00\\x00.\\x00\\x00\\x00\\x05\\x00\\x00\\x00\\x82\\x01\\x00\\x00\\x00\\x00\\x00\\x00\\x00\\x00\\x00\\x00syft.core.node.new.action_graph.ActionGraphNode\\x00%\\x00\\x00\\x00:\\x00\\x00\\x00A\\x03\\x00\\x00Z\\x00\\x00\\x00-\\x04\\x00\\x00\\x1a\\x00\\x00\\x00\\x95\\x04\\x00\\x002\\x00\\x00\\x00\\xc1\\x04\\x00\\x00:\\x00\\x00\\x00\\x15\\x00\\x00\\x00\\x0e\\x00\\x00\\x005\\x03\\x00\\x00\\x0e\\x00\\x00\\x00\\x1d\\x04\\x00\\x00\\x0e\\x00\\x00\\x00\\x85\\x04\\x00\\x00\\x0e\\x00\\x00\\x00\\xb1\\x04\\x00\\x00\\x0e\\x00\\x00\\x00action\\x00\\x00\\x01\\x00\\x00\\x00\\x821\\x00\\x00\\x00\\x00\\x00\\x00\\xc5\\x00\\x00\\x00\\x00\\x00\\x00\\x00\\x00\\x00\\x04\\x00!\\x00\\x00\\x00>\\x00\\x00\\x009\\x00\\x00\\x00>\\x00\\x00\\x00\\x05\\x00\\x00\\x00B\\x01\\x00\\x00\\x00\\x00\\x00\\x00\\x00\\x00\\x00\\x00syft.core.node.new.action_object.Action\\x005\\x00\\x00\\x00*\\x00\\x00\\x00i\\x00\\x00\\x00\\x1a\\x00\\x00\\x00\\xd1\\x00\\x00\\x00:\\x00\\x00\\x00\\t\\x01\\x00\\x00\\x1a\\x00\\x00\\x005\\x01\\x00\\x00*\\x00\\x00\\x00e\\x01\\x00\\x00b\\x00\\x00\\x00\\x19\\x02\\x00\\x00R\\x00\\x00\\x00\\x1d\\x00\\x00\\x00\\x0e\\x00\\x00\\x00Q\\x00\\x00\\x00\\x0e\\x00\\x00\\x00\\xb9\\x00\\x00\\x00\\x0e\\x00\\x00\\x00\\xf1\\x00\\x00\\x00\\x0e\\x00\\x00\\x00\\x1d\\x01\\x00\\x00\\x0e\\x00\\x00\\x00Q\\x01\\x00\\x00\\x0e\\x00\\x00\\x00\\x05\\x02\\x00\\x00\\x0e\\x00\\x00\\x00args\\x00\\x00\\x00\\x00\\x01\\x00\\x00\\x00\\x02\\x03\\x00\\x00\\x00\\x00\\x00\\x00\\x0b\\x00\\x00\\x00\\x00\\x00\\x00\\x00\\x00\\x00\\x04\\x00\\x00\\x00\\x00\\x00\\x00\\x00\\x00\\x00\\x00\\x00\\x00\\x00\\x00\\x00\\x00\\x00\\x05\\x00\\x00\\x00r\\x00\\x00\\x00\\t\\x00\\x00\\x00\\x0e\\x00\\x00\\x00builtins.list\\x00\\x00\\x00\\x01\\x00\\x00\\x00\\xc2\\x00\\x00\\x00\\x00\\x00\\x00\\x00\\x02\\x00\\x00\\x00\\x00\\x00\\x00\\x00\\x00\\x00\\x01\\x00\\x01\\x00\\x00\\x00\\x06\\x00\\x00\\x00id\\x00\\x00\\x00\\x00\\x00\\x00\\x01\\x00\\x00\\x00B\\x06\\x00\\x00\\x00\\x00\\x00\\x00\\x18\\x00\\x00\\x00\\x00\\x00\\x00\\x00\\x00\\x00\\x04\\x00\\x1d\\x00\\x00\\x00\\x0e\\x00\\x00\\x00\\x1d\\x00\\x00\\x00\\x0e\\x00\\x00\\x00\\x05\\x00\\x00\\x00\\xda\\x00\\x00\\x00\\x00\\x00\\x00\\x00\\x00\\x00\\x00\\x00syft.core.node.new.uid.UID\\x00\\x00\\x00\\x00\\x00\\x00\\x05\\x00\\x00\\x002\\x00\\x00\\x00\\x05\\x00\\x00\\x00\\x0e\\x00\\x00\\x00value\\x00\\x00\\x00\\x01\\x00\\x00\\x00\\xc2\\x02\\x00\\x00\\x00\\x00\\x00\\x00\\n\\x00\\x00\\x00\\x00\\x00\\x00\\x00\\x00\\x00\\x04\\x00\\x00\\x00\\x00\\x00\\x00\\x00\\x00\\x00\\x00\\x00\\x00\\x00\\x00\\x00\\x00\\x00\\x05\\x00\\x00\\x00z\\x00\\x00\\x00\\t\\x00\\x00\\x00\\x0e\\x00\\x00\\x00builtins.bytes\\x00\\x00\\x01\\x00\\x00\\x00\\x82\\x00\\x00\\x00\\x0fc\\x1a9\\xbabI@\\x86R\\x0c\\x8e\\xee\\xcd\\x8e\\x8ekwargs\\x00\\x00\\x01\\x00\\x00\\x00B\\x03\\x00\\x00\\x00\\x00\\x00\\x00\\x0c\\x00\\x00\\x00\\x00\\x00\\x00\\x00\\x00\\x00\\x04\\x00\\x00\\x00\\x00\\x00\\x00\\x00\\x00\\x00\\x00\\x00\\x00\\x00\\x00\\x00\\x00\\x00\\x05\\x00\\x00\\x00r\\x00\\x00\\x00\\t\\x00\\x00\\x00\\x0e\\x00\\x00\\x00builtins.dict\\x00\\x00\\x00\\x01\\x00\\x00\\x00\\x02\\x01\\x00\\x00\\x00\\x00\\x00\\x00\\x03\\x00\\x00\\x00\\x00\\x00\\x00\\x00\\x00\\x00\\x02\\x00\\x05\\x00\\x00\\x00\\x06\\x00\\x00\\x00\\x01\\x00\\x00\\x00\\x06\\x00\\x00\\x00op\\x00\\x00\\x00\\x00\\x00\\x00\\x01\\x00\\x00\\x00\\x82\\x02\\x00\\x00\\x00\\x00\\x00\\x00\\t\\x00\\x00\\x00\\x00\\x00\\x00\\x00\\x00\\x00\\x04\\x00\\x00\\x00\\x00\\x00\\x00\\x00\\x00\\x00\\x00\\x00\\x00\\x00\\x00\\x00\\x00\\x00\\x05\\x00\\x00\\x00j\\x00\\x00\\x00\\t\\x00\\x00\\x00\\x0e\\x00\\x00\\x00builtins.str\\x00\\x00\\x00\\x00\\x01\\x00\\x00\\x00\"\\x00\\x00\\x00init\\x00\\x00\\x00\\x00path\\x00\\x00\\x00\\x00\\x01\\x00\\x00\\x00\\xc2\\x02\\x00\\x00\\x00\\x00\\x00\\x00\\n\\x00\\x00\\x00\\x00\\x00\\x00\\x00\\x00\\x00\\x04\\x00\\x00\\x00\\x00\\x00\\x00\\x00\\x00\\x00\\x00\\x00\\x00\\x00\\x00\\x00\\x00\\x00\\x05\\x00\\x00\\x00j\\x00\\x00\\x00\\t\\x00\\x00\\x00\\x0e\\x00\\x00\\x00builtins.str\\x00\\x00\\x00\\x00\\x01\\x00\\x00\\x00\\x82\\x00\\x00\\x00NumpyArrayObjectremote_self\\x00\\x00\\x00\\x00\\x00\\x01\\x00\\x00\\x00\\xc2\\n\\x00\\x00\\x00\\x00\\x00\\x00*\\x00\\x00\\x00\\x00\\x00\\x00\\x00\\x00\\x00\\x04\\x00!\\x00\\x00\\x00\\x16\\x00\\x00\\x00%\\x00\\x00\\x00\\x16\\x00\\x00\\x00\\x05\\x00\\x00\\x00\\n\\x01\\x00\\x00\\x00\\x00\\x00\\x00\\x00\\x00\\x00\\x00syft.core.node.new.uid.LineageID\\x00\\x00\\x00\\x00\\x00\\x00\\x00\\x00\\r\\x00\\x00\\x00\\x92\\x00\\x00\\x00E\\x00\\x00\\x002\\x00\\x00\\x00\\x11\\x00\\x00\\x00\\x0e\\x00\\x00\\x00A\\x00\\x00\\x00\\x0e\\x00\\x00\\x00syft_history_hash\\x00\\x00\\x00\\x00\\x00\\x00\\x00\\x01\\x00\\x00\\x00\\xc2\\x02\\x00\\x00\\x00\\x00\\x00\\x00\\n\\x00\\x00\\x00\\x00\\x00\\x00\\x00\\x00\\x00\\x04\\x00\\x00\\x00\\x00\\x00\\x00\\x00\\x00\\x00\\x00\\x00\\x00\\x00\\x00\\x00\\x00\\x00\\x05\\x00\\x00\\x00j\\x00\\x00\\x00\\t\\x00\\x00\\x00\\x0e\\x00\\x00\\x00builtins.int\\x00\\x00\\x00\\x00\\x01\\x00\\x00\\x00J\\x00\\x00\\x00\\x00\\x16\\x96J \\xa0\\xce\\x9dl\\x00\\x00\\x00\\x00\\x00\\x00\\x00value\\x00\\x00\\x00\\x01\\x00\\x00\\x00\\xc2\\x02\\x00\\x00\\x00\\x00\\x00\\x00\\n\\x00\\x00\\x00\\x00\\x00\\x00\\x00\\x00\\x00\\x04\\x00\\x00\\x00\\x00\\x00\\x00\\x00\\x00\\x00\\x00\\x00\\x00\\x00\\x00\\x00\\x00\\x00\\x05\\x00\\x00\\x00z\\x00\\x00\\x00\\t\\x00\\x00\\x00\\x0e\\x00\\x00\\x00builtins.bytes\\x00\\x00\\x01\\x00\\x00\\x00\\x82\\x00\\x00\\x00\\x81\\x07\\xbc\\xe1\\xec\\xe1Et\\x8eXc\\x119\\xc4q\\xa8result_id\\x00\\x00\\x00\\x00\\x00\\x00\\x00\\x01\\x00\\x00\\x00\\xc2\\n\\x00\\x00\\x00\\x00\\x00\\x00*\\x00\\x00\\x00\\x00\\x00\\x00\\x00\\x00\\x00\\x04\\x00!\\x00\\x00\\x00\\x16\\x00\\x00\\x00%\\x00\\x00\\x00\\x16\\x00\\x00\\x00\\x05\\x00\\x00\\x00\\n\\x01\\x00\\x00\\x00\\x00\\x00\\x00\\x00\\x00\\x00\\x00syft.core.node.new.uid.LineageID\\x00\\x00\\x00\\x00\\x00\\x00\\x00\\x00\\r\\x00\\x00\\x00\\x92\\x00\\x00\\x00E\\x00\\x00\\x002\\x00\\x00\\x00\\x11\\x00\\x00\\x00\\x0e\\x00\\x00\\x00A\\x00\\x00\\x00\\x0e\\x00\\x00\\x00syft_history_hash\\x00\\x00\\x00\\x00\\x00\\x00\\x00\\x01\\x00\\x00\\x00\\xc2\\x02\\x00\\x00\\x00\\x00\\x00\\x00\\n\\x00\\x00\\x00\\x00\\x00\\x00\\x00\\x00\\x00\\x04\\x00\\x00\\x00\\x00\\x00\\x00\\x00\\x00\\x00\\x00\\x00\\x00\\x00\\x00\\x00\\x00\\x00\\x05\\x00\\x00\\x00j\\x00\\x00\\x00\\t\\x00\\x00\\x00\\x0e\\x00\\x00\\x00builtins.int\\x00\\x00\\x00\\x00\\x01\\x00\\x00\\x00J\\x00\\x00\\x00\\x00\\x02+\\x1a\\xf5e>\\xd6\\x08\\x00\\x00\\x00\\x00\\x00\\x00\\x00value\\x00\\x00\\x00\\x01\\x00\\x00\\x00\\xc2\\x02\\x00\\x00\\x00\\x00\\x00\\x00\\n\\x00\\x00\\x00\\x00\\x00\\x00\\x00\\x00\\x00\\x04\\x00\\x00\\x00\\x00\\x00\\x00\\x00\\x00\\x00\\x00\\x00\\x00\\x00\\x00\\x00\\x00\\x00\\x05\\x00\\x00\\x00z\\x00\\x00\\x00\\t\\x00\\x00\\x00\\x0e\\x00\\x00\\x00builtins.bytes\\x00\\x00\\x01\\x00\\x00\\x00\\x82\\x00\\x00\\x00V\\x9d\\xc1\\x81.rC\\xf3\\xad=\\x0e\\xeb\\xf1\\xac\\xb6Ucreated_at\\x00\\x00\\x00\\x00\\x00\\x00\\x01\\x00\\x00\\x00B\\x0e\\x00\\x00\\x00\\x00\\x00\\x008\\x00\\x00\\x00\\x00\\x00\\x00\\x00\\x00\\x00\\x04\\x00!\\x00\\x00\\x00\\x16\\x00\\x00\\x00%\\x00\\x00\\x00\\x16\\x00\\x00\\x00\\x05\\x00\\x00\\x00*\\x01\\x00\\x00\\x00\\x00\\x00\\x00\\x00\\x00\\x00\\x00syft.core.node.new.datetime.DateTime\\x00\\x00\\x00\\x00\\r\\x00\\x00\\x00\\x1a\\x00\\x00\\x00u\\x00\\x00\\x00r\\x00\\x00\\x00\\t\\x00\\x00\\x00\\x0e\\x00\\x00\\x00u\\x00\\x00\\x00\\x0e\\x00\\x00\\x00id\\x00\\x00\\x00\\x00\\x00\\x00\\x01\\x00\\x00\\x00B\\x06\\x00\\x00\\x00\\x00\\x00\\x00\\x18\\x00\\x00\\x00\\x00\\x00\\x00\\x00\\x00\\x00\\x04\\x00\\x1d\\x00\\x00\\x00\\x0e\\x00\\x00\\x00\\x1d\\x00\\x00\\x00\\x0e\\x00\\x00\\x00\\x05\\x00\\x00\\x00\\xda\\x00\\x00\\x00\\x00\\x00\\x00\\x00\\x00\\x00\\x00\\x00syft.core.node.new.uid.UID\\x00\\x00\\x00\\x00\\x00\\x00\\x05\\x00\\x00\\x002\\x00\\x00\\x00\\x05\\x00\\x00\\x00\\x0e\\x00\\x00\\x00value\\x00\\x00\\x00\\x01\\x00\\x00\\x00\\xc2\\x02\\x00\\x00\\x00\\x00\\x00\\x00\\n\\x00\\x00\\x00\\x00\\x00\\x00\\x00\\x00\\x00\\x04\\x00\\x00\\x00\\x00\\x00\\x00\\x00\\x00\\x00\\x00\\x00\\x00\\x00\\x00\\x00\\x00\\x00\\x05\\x00\\x00\\x00z\\x00\\x00\\x00\\t\\x00\\x00\\x00\\x0e\\x00\\x00\\x00builtins.bytes\\x00\\x00\\x01\\x00\\x00\\x00\\x82\\x00\\x00\\x00\\xcf\\x0cF]M0J\\xd7\\x83W.J\\xc5\\xa2,\\x94utc_timestamp\\x00\\x00\\x00\\x01\\x00\\x00\\x00\\x02\\x03\\x00\\x00\\x00\\x00\\x00\\x00\\x0b\\x00\\x00\\x00\\x00\\x00\\x00\\x00\\x00\\x00\\x04\\x00\\x00\\x00\\x00\\x00\\x00\\x00\\x00\\x00\\x00\\x00\\x00\\x00\\x00\\x00\\x00\\x00\\x05\\x00\\x00\\x00z\\x00\\x00\\x00\\t\\x00\\x00\\x00\\x0e\\x00\\x00\\x00builtins.float\\x00\\x00\\x01\\x00\\x00\\x00\\xaa\\x00\\x00\\x000x1.90dea9f33f662p+30\\x00\\x00\\x00id\\x00\\x00\\x00\\x00\\x00\\x00\\x01\\x00\\x00\\x00B\\x06\\x00\\x00\\x00\\x00\\x00\\x00\\x18\\x00\\x00\\x00\\x00\\x00\\x00\\x00\\x00\\x00\\x04\\x00\\x1d\\x00\\x00\\x00\\x0e\\x00\\x00\\x00\\x1d\\x00\\x00\\x00\\x0e\\x00\\x00\\x00\\x05\\x00\\x00\\x00\\xda\\x00\\x00\\x00\\x00\\x00\\x00\\x00\\x00\\x00\\x00\\x00syft.core.node.new.uid.UID\\x00\\x00\\x00\\x00\\x00\\x00\\x05\\x00\\x00\\x002\\x00\\x00\\x00\\x05\\x00\\x00\\x00\\x0e\\x00\\x00\\x00value\\x00\\x00\\x00\\x01\\x00\\x00\\x00\\xc2\\x02\\x00\\x00\\x00\\x00\\x00\\x00\\n\\x00\\x00\\x00\\x00\\x00\\x00\\x00\\x00\\x00\\x04\\x00\\x00\\x00\\x00\\x00\\x00\\x00\\x00\\x00\\x00\\x00\\x00\\x00\\x00\\x00\\x00\\x00\\x05\\x00\\x00\\x00z\\x00\\x00\\x00\\t\\x00\\x00\\x00\\x0e\\x00\\x00\\x00builtins.bytes\\x00\\x00\\x01\\x00\\x00\\x00\\x82\\x00\\x00\\x00\\x0fc\\x1a9\\xbabI@\\x86R\\x0c\\x8e\\xee\\xcd\\x8e\\x8eretry\\x00\\x00\\x00\\x01\\x00\\x00\\x00\\x82\\x02\\x00\\x00\\x00\\x00\\x00\\x00\\t\\x00\\x00\\x00\\x00\\x00\\x00\\x00\\x00\\x00\\x04\\x00\\x00\\x00\\x00\\x00\\x00\\x00\\x00\\x00\\x00\\x00\\x00\\x00\\x00\\x00\\x00\\x00\\x05\\x00\\x00\\x00j\\x00\\x00\\x00\\t\\x00\\x00\\x00\\x0e\\x00\\x00\\x00builtins.int\\x00\\x00\\x00\\x00\\x01\\x00\\x00\\x00\\n\\x00\\x00\\x00\\x00\\x00\\x00\\x00\\x00\\x00\\x00\\x00status\\x00\\x00\\x01\\x00\\x00\\x00\\x82\\x06\\x00\\x00\\x00\\x00\\x00\\x00\\x19\\x00\\x00\\x00\\x00\\x00\\x00\\x00\\x00\\x00\\x04\\x00%\\x00\\x00\\x00\\x0e\\x00\\x00\\x00%\\x00\\x00\\x00\\x0e\\x00\\x00\\x00\\x05\\x00\\x00\\x00j\\x01\\x00\\x00\\x00\\x00\\x00\\x00\\x00\\x00\\x00\\x00syft.core.node.new.action_graph.ActionStatus\\x00\\x00\\x00\\x00\\x05\\x00\\x00\\x002\\x00\\x00\\x00\\x05\\x00\\x00\\x00\\x0e\\x00\\x00\\x00value\\x00\\x00\\x00\\x01\\x00\\x00\\x00\\x82\\x02\\x00\\x00\\x00\\x00\\x00\\x00\\t\\x00\\x00\\x00\\x00\\x00\\x00\\x00\\x00\\x00\\x04\\x00\\x00\\x00\\x00\\x00\\x00\\x00\\x00\\x00\\x00\\x00\\x00\\x00\\x00\\x00\\x00\\x00\\x05\\x00\\x00\\x00j\\x00\\x00\\x00\\t\\x00\\x00\\x00\\x0e\\x00\\x00\\x00builtins.int\\x00\\x00\\x00\\x00\\x01\\x00\\x00\\x00\\n\\x00\\x00\\x00\\x00\\x00\\x00\\x00\\x00\\x00\\x00\\x00\\x01\\x00\\x00\\x00B\\x03\\x00\\x00\\x00\\x00\\x00\\x00\\x0c\\x00\\x00\\x00\\x00\\x00\\x00\\x00\\x00\\x00\\x04\\x00\\x00\\x00\\x00\\x00\\x00\\x00\\x00\\x00\\x00\\x00\\x00\\x00\\x00\\x00\\x00\\x00\\x05\\x00\\x00\\x00r\\x00\\x00\\x00\\t\\x00\\x00\\x00\\x0e\\x00\\x00\\x00builtins.dict\\x00\\x00\\x00\\x01\\x00\\x00\\x00\\x02\\x01\\x00\\x00\\x00\\x00\\x00\\x00\\x03\\x00\\x00\\x00\\x00\\x00\\x00\\x00\\x00\\x00\\x02\\x00\\x05\\x00\\x00\\x00\\x06\\x00\\x00\\x00\\x01\\x00\\x00\\x00\\x06\\x00\\x00\\x00\\x00\\x00\\x00\\x00\\x89\\x01\\x00\\x00\\x00\\x00\\x00\\x00\\x00\\x00\\x04\\x00%\\x00\\x00\\x00.\\x00\\x00\\x005\\x00\\x00\\x00.\\x00\\x00\\x00\\x05\\x00\\x00\\x00\\x82\\x01\\x00\\x00\\x00\\x00\\x00\\x00\\x00\\x00\\x00\\x00syft.core.node.new.action_graph.ActionGraphNode\\x00%\\x00\\x00\\x00:\\x00\\x00\\x00\\xf5\\x03\\x00\\x00Z\\x00\\x00\\x00\\xe1\\x04\\x00\\x00\\x1a\\x00\\x00\\x00I\\x05\\x00\\x002\\x00\\x00\\x00u\\x05\\x00\\x00:\\x00\\x00\\x00\\x15\\x00\\x00\\x00\\x0e\\x00\\x00\\x00\\xe9\\x03\\x00\\x00\\x0e\\x00\\x00\\x00\\xd1\\x04\\x00\\x00\\x0e\\x00\\x00\\x009\\x05\\x00\\x00\\x0e\\x00\\x00\\x00e\\x05\\x00\\x00\\x0e\\x00\\x00\\x00action\\x00\\x00\\x01\\x00\\x00\\x00\\xc2<\\x00\\x00\\x00\\x00\\x00\\x00\\xf2\\x00\\x00\\x00\\x00\\x00\\x00\\x00\\x00\\x00\\x04\\x00!\\x00\\x00\\x00>\\x00\\x00\\x009\\x00\\x00\\x00>\\x00\\x00\\x00\\x05\\x00\\x00\\x00B\\x01\\x00\\x00\\x00\\x00\\x00\\x00\\x00\\x00\\x00\\x00syft.core.node.new.action_object.Action\\x005\\x00\\x00\\x00*\\x00\\x00\\x00\\x1d\\x01\\x00\\x00\\x1a\\x00\\x00\\x00\\x85\\x01\\x00\\x00:\\x00\\x00\\x00\\xbd\\x01\\x00\\x00\\x1a\\x00\\x00\\x00\\xe9\\x01\\x00\\x00*\\x00\\x00\\x00\\x19\\x02\\x00\\x00b\\x00\\x00\\x00\\xcd\\x02\\x00\\x00R\\x00\\x00\\x00\\x1d\\x00\\x00\\x00\\x0e\\x00\\x00\\x00\\x05\\x01\\x00\\x00\\x0e\\x00\\x00\\x00m\\x01\\x00\\x00\\x0e\\x00\\x00\\x00\\xa5\\x01\\x00\\x00\\x0e\\x00\\x00\\x00\\xd1\\x01\\x00\\x00\\x0e\\x00\\x00\\x00\\x05\\x02\\x00\\x00\\x0e\\x00\\x00\\x00\\xb9\\x02\\x00\\x00\\x0e\\x00\\x00\\x00args\\x00\\x00\\x00\\x00\\x01\\x00\\x00\\x00B\\x0e\\x00\\x00\\x00\\x00\\x00\\x008\\x00\\x00\\x00\\x00\\x00\\x00\\x00\\x00\\x00\\x04\\x00\\x00\\x00\\x00\\x00\\x00\\x00\\x00\\x00\\x00\\x00\\x00\\x00\\x00\\x00\\x00\\x00\\x05\\x00\\x00\\x00r\\x00\\x00\\x00\\t\\x00\\x00\\x00\\x0e\\x00\\x00\\x00builtins.list\\x00\\x00\\x00\\x01\\x00\\x00\\x00\\x02\\x0c\\x00\\x00\\x00\\x00\\x00\\x00/\\x00\\x00\\x00\\x00\\x00\\x00\\x00\\x00\\x00\\x01\\x00\\x01\\x00\\x00\\x00\\x0e\\x00\\x00\\x00\\x01\\x00\\x00\\x00\\x0e\\x00\\x00\\x00\\x01\\x00\\x00\\x00\\xc2\\n\\x00\\x00\\x00\\x00\\x00\\x00*\\x00\\x00\\x00\\x00\\x00\\x00\\x00\\x00\\x00\\x04\\x00!\\x00\\x00\\x00\\x16\\x00\\x00\\x00%\\x00\\x00\\x00\\x16\\x00\\x00\\x00\\x05\\x00\\x00\\x00\\n\\x01\\x00\\x00\\x00\\x00\\x00\\x00\\x00\\x00\\x00\\x00syft.core.node.new.uid.LineageID\\x00\\x00\\x00\\x00\\x00\\x00\\x00\\x00\\r\\x00\\x00\\x00\\x92\\x00\\x00\\x00E\\x00\\x00\\x002\\x00\\x00\\x00\\x11\\x00\\x00\\x00\\x0e\\x00\\x00\\x00A\\x00\\x00\\x00\\x0e\\x00\\x00\\x00syft_history_hash\\x00\\x00\\x00\\x00\\x00\\x00\\x00\\x01\\x00\\x00\\x00\\xc2\\x02\\x00\\x00\\x00\\x00\\x00\\x00\\n\\x00\\x00\\x00\\x00\\x00\\x00\\x00\\x00\\x00\\x04\\x00\\x00\\x00\\x00\\x00\\x00\\x00\\x00\\x00\\x00\\x00\\x00\\x00\\x00\\x00\\x00\\x00\\x05\\x00\\x00\\x00j\\x00\\x00\\x00\\t\\x00\\x00\\x00\\x0e\\x00\\x00\\x00builtins.int\\x00\\x00\\x00\\x00\\x01\\x00\\x00\\x00J\\x00\\x00\\x00\\x00\\x02\\xf5Nf\\x07\\xf4E\\xe0\\x00\\x00\\x00\\x00\\x00\\x00\\x00value\\x00\\x00\\x00\\x01\\x00\\x00\\x00\\xc2\\x02\\x00\\x00\\x00\\x00\\x00\\x00\\n\\x00\\x00\\x00\\x00\\x00\\x00\\x00\\x00\\x00\\x04\\x00\\x00\\x00\\x00\\x00\\x00\\x00\\x00\\x00\\x00\\x00\\x00\\x00\\x00\\x00\\x00\\x00\\x05\\x00\\x00\\x00z\\x00\\x00\\x00\\t\\x00\\x00\\x00\\x0e\\x00\\x00\\x00builtins.bytes\\x00\\x00\\x01\\x00\\x00\\x00\\x82\\x00\\x00\\x007\\xc0)\\xb6\\\\\\xecH1\\x84\\xf4\\x00\\xb3 \\x92\\x04Fid\\x00\\x00\\x00\\x00\\x00\\x00\\x01\\x00\\x00\\x00B\\x06\\x00\\x00\\x00\\x00\\x00\\x00\\x18\\x00\\x00\\x00\\x00\\x00\\x00\\x00\\x00\\x00\\x04\\x00\\x1d\\x00\\x00\\x00\\x0e\\x00\\x00\\x00\\x1d\\x00\\x00\\x00\\x0e\\x00\\x00\\x00\\x05\\x00\\x00\\x00\\xda\\x00\\x00\\x00\\x00\\x00\\x00\\x00\\x00\\x00\\x00\\x00syft.core.node.new.uid.UID\\x00\\x00\\x00\\x00\\x00\\x00\\x05\\x00\\x00\\x002\\x00\\x00\\x00\\x05\\x00\\x00\\x00\\x0e\\x00\\x00\\x00value\\x00\\x00\\x00\\x01\\x00\\x00\\x00\\xc2\\x02\\x00\\x00\\x00\\x00\\x00\\x00\\n\\x00\\x00\\x00\\x00\\x00\\x00\\x00\\x00\\x00\\x04\\x00\\x00\\x00\\x00\\x00\\x00\\x00\\x00\\x00\\x00\\x00\\x00\\x00\\x00\\x00\\x00\\x00\\x05\\x00\\x00\\x00z\\x00\\x00\\x00\\t\\x00\\x00\\x00\\x0e\\x00\\x00\\x00builtins.bytes\\x00\\x00\\x01\\x00\\x00\\x00\\x82\\x00\\x00\\x00a\\xc1\\x17O(\\xb8Ll\\xb2H\\xcf\\x9c\\xd9}|\\xd0kwargs\\x00\\x00\\x01\\x00\\x00\\x00B\\x03\\x00\\x00\\x00\\x00\\x00\\x00\\x0c\\x00\\x00\\x00\\x00\\x00\\x00\\x00\\x00\\x00\\x04\\x00\\x00\\x00\\x00\\x00\\x00\\x00\\x00\\x00\\x00\\x00\\x00\\x00\\x00\\x00\\x00\\x00\\x05\\x00\\x00\\x00r\\x00\\x00\\x00\\t\\x00\\x00\\x00\\x0e\\x00\\x00\\x00builtins.dict\\x00\\x00\\x00\\x01\\x00\\x00\\x00\\x02\\x01\\x00\\x00\\x00\\x00\\x00\\x00\\x03\\x00\\x00\\x00\\x00\\x00\\x00\\x00\\x00\\x00\\x02\\x00\\x05\\x00\\x00\\x00\\x06\\x00\\x00\\x00\\x01\\x00\\x00\\x00\\x06\\x00\\x00\\x00op\\x00\\x00\\x00\\x00\\x00\\x00\\x01\\x00\\x00\\x00\\x82\\x02\\x00\\x00\\x00\\x00\\x00\\x00\\t\\x00\\x00\\x00\\x00\\x00\\x00\\x00\\x00\\x00\\x04\\x00\\x00\\x00\\x00\\x00\\x00\\x00\\x00\\x00\\x00\\x00\\x00\\x00\\x00\\x00\\x00\\x00\\x05\\x00\\x00\\x00j\\x00\\x00\\x00\\t\\x00\\x00\\x00\\x0e\\x00\\x00\\x00builtins.str\\x00\\x00\\x00\\x00\\x01\\x00\\x00\\x00\\x1a\\x00\\x00\\x00add\\x00\\x00\\x00\\x00\\x00path\\x00\\x00\\x00\\x00\\x01\\x00\\x00\\x00\\xc2\\x02\\x00\\x00\\x00\\x00\\x00\\x00\\n\\x00\\x00\\x00\\x00\\x00\\x00\\x00\\x00\\x00\\x04\\x00\\x00\\x00\\x00\\x00\\x00\\x00\\x00\\x00\\x00\\x00\\x00\\x00\\x00\\x00\\x00\\x00\\x05\\x00\\x00\\x00j\\x00\\x00\\x00\\t\\x00\\x00\\x00\\x0e\\x00\\x00\\x00builtins.str\\x00\\x00\\x00\\x00\\x01\\x00\\x00\\x00\\x82\\x00\\x00\\x00NumpyArrayObjectremote_self\\x00\\x00\\x00\\x00\\x00\\x01\\x00\\x00\\x00\\xc2\\n\\x00\\x00\\x00\\x00\\x00\\x00*\\x00\\x00\\x00\\x00\\x00\\x00\\x00\\x00\\x00\\x04\\x00!\\x00\\x00\\x00\\x16\\x00\\x00\\x00%\\x00\\x00\\x00\\x16\\x00\\x00\\x00\\x05\\x00\\x00\\x00\\n\\x01\\x00\\x00\\x00\\x00\\x00\\x00\\x00\\x00\\x00\\x00syft.core.node.new.uid.LineageID\\x00\\x00\\x00\\x00\\x00\\x00\\x00\\x00\\r\\x00\\x00\\x00\\x92\\x00\\x00\\x00E\\x00\\x00\\x002\\x00\\x00\\x00\\x11\\x00\\x00\\x00\\x0e\\x00\\x00\\x00A\\x00\\x00\\x00\\x0e\\x00\\x00\\x00syft_history_hash\\x00\\x00\\x00\\x00\\x00\\x00\\x00\\x01\\x00\\x00\\x00\\xc2\\x02\\x00\\x00\\x00\\x00\\x00\\x00\\n\\x00\\x00\\x00\\x00\\x00\\x00\\x00\\x00\\x00\\x04\\x00\\x00\\x00\\x00\\x00\\x00\\x00\\x00\\x00\\x00\\x00\\x00\\x00\\x00\\x00\\x00\\x00\\x05\\x00\\x00\\x00j\\x00\\x00\\x00\\t\\x00\\x00\\x00\\x0e\\x00\\x00\\x00builtins.int\\x00\\x00\\x00\\x00\\x01\\x00\\x00\\x00J\\x00\\x00\\x00\\x00\\x16\\x96J \\xa0\\xce\\x9dl\\x00\\x00\\x00\\x00\\x00\\x00\\x00value\\x00\\x00\\x00\\x01\\x00\\x00\\x00\\xc2\\x02\\x00\\x00\\x00\\x00\\x00\\x00\\n\\x00\\x00\\x00\\x00\\x00\\x00\\x00\\x00\\x00\\x04\\x00\\x00\\x00\\x00\\x00\\x00\\x00\\x00\\x00\\x00\\x00\\x00\\x00\\x00\\x00\\x00\\x00\\x05\\x00\\x00\\x00z\\x00\\x00\\x00\\t\\x00\\x00\\x00\\x0e\\x00\\x00\\x00builtins.bytes\\x00\\x00\\x01\\x00\\x00\\x00\\x82\\x00\\x00\\x00\\x81\\x07\\xbc\\xe1\\xec\\xe1Et\\x8eXc\\x119\\xc4q\\xa8result_id\\x00\\x00\\x00\\x00\\x00\\x00\\x00\\x01\\x00\\x00\\x00\\xc2\\n\\x00\\x00\\x00\\x00\\x00\\x00*\\x00\\x00\\x00\\x00\\x00\\x00\\x00\\x00\\x00\\x04\\x00!\\x00\\x00\\x00\\x16\\x00\\x00\\x00%\\x00\\x00\\x00\\x16\\x00\\x00\\x00\\x05\\x00\\x00\\x00\\n\\x01\\x00\\x00\\x00\\x00\\x00\\x00\\x00\\x00\\x00\\x00syft.core.node.new.uid.LineageID\\x00\\x00\\x00\\x00\\x00\\x00\\x00\\x00\\r\\x00\\x00\\x00\\x92\\x00\\x00\\x00E\\x00\\x00\\x002\\x00\\x00\\x00\\x11\\x00\\x00\\x00\\x0e\\x00\\x00\\x00A\\x00\\x00\\x00\\x0e\\x00\\x00\\x00syft_history_hash\\x00\\x00\\x00\\x00\\x00\\x00\\x00\\x01\\x00\\x00\\x00\\xc2\\x02\\x00\\x00\\x00\\x00\\x00\\x00\\n\\x00\\x00\\x00\\x00\\x00\\x00\\x00\\x00\\x00\\x04\\x00\\x00\\x00\\x00\\x00\\x00\\x00\\x00\\x00\\x00\\x00\\x00\\x00\\x00\\x00\\x00\\x00\\x05\\x00\\x00\\x00j\\x00\\x00\\x00\\t\\x00\\x00\\x00\\x0e\\x00\\x00\\x00builtins.int\\x00\\x00\\x00\\x00\\x01\\x00\\x00\\x00J\\x00\\x00\\x00\\x00\\x06\\x8es\\x19$\\xa2P\\xf8\\x00\\x00\\x00\\x00\\x00\\x00\\x00value\\x00\\x00\\x00\\x01\\x00\\x00\\x00\\xc2\\x02\\x00\\x00\\x00\\x00\\x00\\x00\\n\\x00\\x00\\x00\\x00\\x00\\x00\\x00\\x00\\x00\\x04\\x00\\x00\\x00\\x00\\x00\\x00\\x00\\x00\\x00\\x00\\x00\\x00\\x00\\x00\\x00\\x00\\x00\\x05\\x00\\x00\\x00z\\x00\\x00\\x00\\t\\x00\\x00\\x00\\x0e\\x00\\x00\\x00builtins.bytes\\x00\\x00\\x01\\x00\\x00\\x00\\x82\\x00\\x00\\x00\\xf3\\x8a\\xe4\\xcc\\xac\\x98Au\\x8a7L\\xb3\\xbf\\xe0E\\x0fcreated_at\\x00\\x00\\x00\\x00\\x00\\x00\\x01\\x00\\x00\\x00B\\x0e\\x00\\x00\\x00\\x00\\x00\\x008\\x00\\x00\\x00\\x00\\x00\\x00\\x00\\x00\\x00\\x04\\x00!\\x00\\x00\\x00\\x16\\x00\\x00\\x00%\\x00\\x00\\x00\\x16\\x00\\x00\\x00\\x05\\x00\\x00\\x00*\\x01\\x00\\x00\\x00\\x00\\x00\\x00\\x00\\x00\\x00\\x00syft.core.node.new.datetime.DateTime\\x00\\x00\\x00\\x00\\r\\x00\\x00\\x00\\x1a\\x00\\x00\\x00u\\x00\\x00\\x00r\\x00\\x00\\x00\\t\\x00\\x00\\x00\\x0e\\x00\\x00\\x00u\\x00\\x00\\x00\\x0e\\x00\\x00\\x00id\\x00\\x00\\x00\\x00\\x00\\x00\\x01\\x00\\x00\\x00B\\x06\\x00\\x00\\x00\\x00\\x00\\x00\\x18\\x00\\x00\\x00\\x00\\x00\\x00\\x00\\x00\\x00\\x04\\x00\\x1d\\x00\\x00\\x00\\x0e\\x00\\x00\\x00\\x1d\\x00\\x00\\x00\\x0e\\x00\\x00\\x00\\x05\\x00\\x00\\x00\\xda\\x00\\x00\\x00\\x00\\x00\\x00\\x00\\x00\\x00\\x00\\x00syft.core.node.new.uid.UID\\x00\\x00\\x00\\x00\\x00\\x00\\x05\\x00\\x00\\x002\\x00\\x00\\x00\\x05\\x00\\x00\\x00\\x0e\\x00\\x00\\x00value\\x00\\x00\\x00\\x01\\x00\\x00\\x00\\xc2\\x02\\x00\\x00\\x00\\x00\\x00\\x00\\n\\x00\\x00\\x00\\x00\\x00\\x00\\x00\\x00\\x00\\x04\\x00\\x00\\x00\\x00\\x00\\x00\\x00\\x00\\x00\\x00\\x00\\x00\\x00\\x00\\x00\\x00\\x00\\x05\\x00\\x00\\x00z\\x00\\x00\\x00\\t\\x00\\x00\\x00\\x0e\\x00\\x00\\x00builtins.bytes\\x00\\x00\\x01\\x00\\x00\\x00\\x82\\x00\\x00\\x00\\xf0\\xd5P\\x18p0O3\\xaa\\\\\\xa2<x\\x8b\\xce\\xaeutc_timestamp\\x00\\x00\\x00\\x01\\x00\\x00\\x00\\x02\\x03\\x00\\x00\\x00\\x00\\x00\\x00\\x0b\\x00\\x00\\x00\\x00\\x00\\x00\\x00\\x00\\x00\\x04\\x00\\x00\\x00\\x00\\x00\\x00\\x00\\x00\\x00\\x00\\x00\\x00\\x00\\x00\\x00\\x00\\x00\\x05\\x00\\x00\\x00z\\x00\\x00\\x00\\t\\x00\\x00\\x00\\x0e\\x00\\x00\\x00builtins.float\\x00\\x00\\x01\\x00\\x00\\x00\\xaa\\x00\\x00\\x000x1.90dea9f34a937p+30\\x00\\x00\\x00id\\x00\\x00\\x00\\x00\\x00\\x00\\x01\\x00\\x00\\x00B\\x06\\x00\\x00\\x00\\x00\\x00\\x00\\x18\\x00\\x00\\x00\\x00\\x00\\x00\\x00\\x00\\x00\\x04\\x00\\x1d\\x00\\x00\\x00\\x0e\\x00\\x00\\x00\\x1d\\x00\\x00\\x00\\x0e\\x00\\x00\\x00\\x05\\x00\\x00\\x00\\xda\\x00\\x00\\x00\\x00\\x00\\x00\\x00\\x00\\x00\\x00\\x00syft.core.node.new.uid.UID\\x00\\x00\\x00\\x00\\x00\\x00\\x05\\x00\\x00\\x002\\x00\\x00\\x00\\x05\\x00\\x00\\x00\\x0e\\x00\\x00\\x00value\\x00\\x00\\x00\\x01\\x00\\x00\\x00\\xc2\\x02\\x00\\x00\\x00\\x00\\x00\\x00\\n\\x00\\x00\\x00\\x00\\x00\\x00\\x00\\x00\\x00\\x04\\x00\\x00\\x00\\x00\\x00\\x00\\x00\\x00\\x00\\x00\\x00\\x00\\x00\\x00\\x00\\x00\\x00\\x05\\x00\\x00\\x00z\\x00\\x00\\x00\\t\\x00\\x00\\x00\\x0e\\x00\\x00\\x00builtins.bytes\\x00\\x00\\x01\\x00\\x00\\x00\\x82\\x00\\x00\\x00a\\xc1\\x17O(\\xb8Ll\\xb2H\\xcf\\x9c\\xd9}|\\xd0retry\\x00\\x00\\x00\\x01\\x00\\x00\\x00\\x82\\x02\\x00\\x00\\x00\\x00\\x00\\x00\\t\\x00\\x00\\x00\\x00\\x00\\x00\\x00\\x00\\x00\\x04\\x00\\x00\\x00\\x00\\x00\\x00\\x00\\x00\\x00\\x00\\x00\\x00\\x00\\x00\\x00\\x00\\x00\\x05\\x00\\x00\\x00j\\x00\\x00\\x00\\t\\x00\\x00\\x00\\x0e\\x00\\x00\\x00builtins.int\\x00\\x00\\x00\\x00\\x01\\x00\\x00\\x00\\n\\x00\\x00\\x00\\x00\\x00\\x00\\x00\\x00\\x00\\x00\\x00status\\x00\\x00\\x01\\x00\\x00\\x00\\x82\\x06\\x00\\x00\\x00\\x00\\x00\\x00\\x19\\x00\\x00\\x00\\x00\\x00\\x00\\x00\\x00\\x00\\x04\\x00%\\x00\\x00\\x00\\x0e\\x00\\x00\\x00%\\x00\\x00\\x00\\x0e\\x00\\x00\\x00\\x05\\x00\\x00\\x00j\\x01\\x00\\x00\\x00\\x00\\x00\\x00\\x00\\x00\\x00\\x00syft.core.node.new.action_graph.ActionStatus\\x00\\x00\\x00\\x00\\x05\\x00\\x00\\x002\\x00\\x00\\x00\\x05\\x00\\x00\\x00\\x0e\\x00\\x00\\x00value\\x00\\x00\\x00\\x01\\x00\\x00\\x00\\x82\\x02\\x00\\x00\\x00\\x00\\x00\\x00\\t\\x00\\x00\\x00\\x00\\x00\\x00\\x00\\x00\\x00\\x04\\x00\\x00\\x00\\x00\\x00\\x00\\x00\\x00\\x00\\x00\\x00\\x00\\x00\\x00\\x00\\x00\\x00\\x05\\x00\\x00\\x00j\\x00\\x00\\x00\\t\\x00\\x00\\x00\\x0e\\x00\\x00\\x00builtins.int\\x00\\x00\\x00\\x00\\x01\\x00\\x00\\x00\\n\\x00\\x00\\x00\\x00\\x00\\x00\\x00\\x00\\x00\\x00\\x00\\x01\\x00\\x00\\x00B\\x03\\x00\\x00\\x00\\x00\\x00\\x00\\x0c\\x00\\x00\\x00\\x00\\x00\\x00\\x00\\x00\\x00\\x04\\x00\\x00\\x00\\x00\\x00\\x00\\x00\\x00\\x00\\x00\\x00\\x00\\x00\\x00\\x00\\x00\\x00\\x05\\x00\\x00\\x00r\\x00\\x00\\x00\\t\\x00\\x00\\x00\\x0e\\x00\\x00\\x00builtins.dict\\x00\\x00\\x00\\x01\\x00\\x00\\x00\\x02\\x01\\x00\\x00\\x00\\x00\\x00\\x00\\x03\\x00\\x00\\x00\\x00\\x00\\x00\\x00\\x00\\x00\\x02\\x00\\x05\\x00\\x00\\x00\\x06\\x00\\x00\\x00\\x01\\x00\\x00\\x00\\x06\\x00\\x00\\x00\\x01\\x00\\x00\\x00\\x02\\xc5\\x00\\x00\\x00\\x00\\x00\\x00\\x13\\x03\\x00\\x00\\x00\\x00\\x00\\x00\\x00\\x00\\x04\\x00\\x00\\x00\\x00\\x00\\x00\\x00\\x00\\x00\\x00\\x00\\x00\\x00\\x00\\x00\\x00\\x00\\x05\\x00\\x00\\x00r\\x00\\x00\\x00\\t\\x00\\x00\\x00\\x0e\\x00\\x00\\x00builtins.dict\\x00\\x00\\x00\\x01\\x00\\x00\\x00\\xc2\\xc2\\x00\\x00\\x00\\x00\\x00\\x00\\n\\x03\\x00\\x00\\x00\\x00\\x00\\x00\\x00\\x00\\x02\\x00\\x05\\x00\\x00\\x00\\x16\\x00\\x00\\x00\\t\\x00\\x00\\x00\\x16\\x00\\x00\\x00\\r\\x00\\x00\\x00BW\\x00\\x00\\xb5\\x05\\x00\\x00\\x82b\\x00\\x00y\\x05\\x00\\x00\\x0e\\x00\\x00\\x00\\xd5\\x0b\\x00\\x00\\x0e\\x00\\x00\\x00\\x00\\x00\\x00\\x00\\\\\\x01\\x00\\x00\\x00\\x00\\x00\\x00\\x00\\x00\\x04\\x00%\\x00\\x00\\x00.\\x00\\x00\\x005\\x00\\x00\\x00.\\x00\\x00\\x00\\x05\\x00\\x00\\x00\\x82\\x01\\x00\\x00\\x00\\x00\\x00\\x00\\x00\\x00\\x00\\x00syft.core.node.new.action_graph.ActionGraphNode\\x00%\\x00\\x00\\x00:\\x00\\x00\\x00A\\x03\\x00\\x00Z\\x00\\x00\\x00-\\x04\\x00\\x00\\x1a\\x00\\x00\\x00\\x95\\x04\\x00\\x002\\x00\\x00\\x00\\xc1\\x04\\x00\\x00:\\x00\\x00\\x00\\x15\\x00\\x00\\x00\\x0e\\x00\\x00\\x005\\x03\\x00\\x00\\x0e\\x00\\x00\\x00\\x1d\\x04\\x00\\x00\\x0e\\x00\\x00\\x00\\x85\\x04\\x00\\x00\\x0e\\x00\\x00\\x00\\xb1\\x04\\x00\\x00\\x0e\\x00\\x00\\x00action\\x00\\x00\\x01\\x00\\x00\\x00\\x821\\x00\\x00\\x00\\x00\\x00\\x00\\xc5\\x00\\x00\\x00\\x00\\x00\\x00\\x00\\x00\\x00\\x04\\x00!\\x00\\x00\\x00>\\x00\\x00\\x009\\x00\\x00\\x00>\\x00\\x00\\x00\\x05\\x00\\x00\\x00B\\x01\\x00\\x00\\x00\\x00\\x00\\x00\\x00\\x00\\x00\\x00syft.core.node.new.action_object.Action\\x005\\x00\\x00\\x00*\\x00\\x00\\x00i\\x00\\x00\\x00\\x1a\\x00\\x00\\x00\\xd1\\x00\\x00\\x00:\\x00\\x00\\x00\\t\\x01\\x00\\x00\\x1a\\x00\\x00\\x005\\x01\\x00\\x00*\\x00\\x00\\x00e\\x01\\x00\\x00b\\x00\\x00\\x00\\x19\\x02\\x00\\x00R\\x00\\x00\\x00\\x1d\\x00\\x00\\x00\\x0e\\x00\\x00\\x00Q\\x00\\x00\\x00\\x0e\\x00\\x00\\x00\\xb9\\x00\\x00\\x00\\x0e\\x00\\x00\\x00\\xf1\\x00\\x00\\x00\\x0e\\x00\\x00\\x00\\x1d\\x01\\x00\\x00\\x0e\\x00\\x00\\x00Q\\x01\\x00\\x00\\x0e\\x00\\x00\\x00\\x05\\x02\\x00\\x00\\x0e\\x00\\x00\\x00args\\x00\\x00\\x00\\x00\\x01\\x00\\x00\\x00\\x02\\x03\\x00\\x00\\x00\\x00\\x00\\x00\\x0b\\x00\\x00\\x00\\x00\\x00\\x00\\x00\\x00\\x00\\x04\\x00\\x00\\x00\\x00\\x00\\x00\\x00\\x00\\x00\\x00\\x00\\x00\\x00\\x00\\x00\\x00\\x00\\x05\\x00\\x00\\x00r\\x00\\x00\\x00\\t\\x00\\x00\\x00\\x0e\\x00\\x00\\x00builtins.list\\x00\\x00\\x00\\x01\\x00\\x00\\x00\\xc2\\x00\\x00\\x00\\x00\\x00\\x00\\x00\\x02\\x00\\x00\\x00\\x00\\x00\\x00\\x00\\x00\\x00\\x01\\x00\\x01\\x00\\x00\\x00\\x06\\x00\\x00\\x00id\\x00\\x00\\x00\\x00\\x00\\x00\\x01\\x00\\x00\\x00B\\x06\\x00\\x00\\x00\\x00\\x00\\x00\\x18\\x00\\x00\\x00\\x00\\x00\\x00\\x00\\x00\\x00\\x04\\x00\\x1d\\x00\\x00\\x00\\x0e\\x00\\x00\\x00\\x1d\\x00\\x00\\x00\\x0e\\x00\\x00\\x00\\x05\\x00\\x00\\x00\\xda\\x00\\x00\\x00\\x00\\x00\\x00\\x00\\x00\\x00\\x00\\x00syft.core.node.new.uid.UID\\x00\\x00\\x00\\x00\\x00\\x00\\x05\\x00\\x00\\x002\\x00\\x00\\x00\\x05\\x00\\x00\\x00\\x0e\\x00\\x00\\x00value\\x00\\x00\\x00\\x01\\x00\\x00\\x00\\xc2\\x02\\x00\\x00\\x00\\x00\\x00\\x00\\n\\x00\\x00\\x00\\x00\\x00\\x00\\x00\\x00\\x00\\x04\\x00\\x00\\x00\\x00\\x00\\x00\\x00\\x00\\x00\\x00\\x00\\x00\\x00\\x00\\x00\\x00\\x00\\x05\\x00\\x00\\x00z\\x00\\x00\\x00\\t\\x00\\x00\\x00\\x0e\\x00\\x00\\x00builtins.bytes\\x00\\x00\\x01\\x00\\x00\\x00\\x82\\x00\\x00\\x00+Jj\\xcb\\xf2\\x1e@E\\x85D\\x95m+\\x98O\\xb8kwargs\\x00\\x00\\x01\\x00\\x00\\x00B\\x03\\x00\\x00\\x00\\x00\\x00\\x00\\x0c\\x00\\x00\\x00\\x00\\x00\\x00\\x00\\x00\\x00\\x04\\x00\\x00\\x00\\x00\\x00\\x00\\x00\\x00\\x00\\x00\\x00\\x00\\x00\\x00\\x00\\x00\\x00\\x05\\x00\\x00\\x00r\\x00\\x00\\x00\\t\\x00\\x00\\x00\\x0e\\x00\\x00\\x00builtins.dict\\x00\\x00\\x00\\x01\\x00\\x00\\x00\\x02\\x01\\x00\\x00\\x00\\x00\\x00\\x00\\x03\\x00\\x00\\x00\\x00\\x00\\x00\\x00\\x00\\x00\\x02\\x00\\x05\\x00\\x00\\x00\\x06\\x00\\x00\\x00\\x01\\x00\\x00\\x00\\x06\\x00\\x00\\x00op\\x00\\x00\\x00\\x00\\x00\\x00\\x01\\x00\\x00\\x00\\x82\\x02\\x00\\x00\\x00\\x00\\x00\\x00\\t\\x00\\x00\\x00\\x00\\x00\\x00\\x00\\x00\\x00\\x04\\x00\\x00\\x00\\x00\\x00\\x00\\x00\\x00\\x00\\x00\\x00\\x00\\x00\\x00\\x00\\x00\\x00\\x05\\x00\\x00\\x00j\\x00\\x00\\x00\\t\\x00\\x00\\x00\\x0e\\x00\\x00\\x00builtins.str\\x00\\x00\\x00\\x00\\x01\\x00\\x00\\x00\"\\x00\\x00\\x00init\\x00\\x00\\x00\\x00path\\x00\\x00\\x00\\x00\\x01\\x00\\x00\\x00\\xc2\\x02\\x00\\x00\\x00\\x00\\x00\\x00\\n\\x00\\x00\\x00\\x00\\x00\\x00\\x00\\x00\\x00\\x04\\x00\\x00\\x00\\x00\\x00\\x00\\x00\\x00\\x00\\x00\\x00\\x00\\x00\\x00\\x00\\x00\\x00\\x05\\x00\\x00\\x00j\\x00\\x00\\x00\\t\\x00\\x00\\x00\\x0e\\x00\\x00\\x00builtins.str\\x00\\x00\\x00\\x00\\x01\\x00\\x00\\x00\\x82\\x00\\x00\\x00NumpyArrayObjectremote_self\\x00\\x00\\x00\\x00\\x00\\x01\\x00\\x00\\x00\\xc2\\n\\x00\\x00\\x00\\x00\\x00\\x00*\\x00\\x00\\x00\\x00\\x00\\x00\\x00\\x00\\x00\\x04\\x00!\\x00\\x00\\x00\\x16\\x00\\x00\\x00%\\x00\\x00\\x00\\x16\\x00\\x00\\x00\\x05\\x00\\x00\\x00\\n\\x01\\x00\\x00\\x00\\x00\\x00\\x00\\x00\\x00\\x00\\x00syft.core.node.new.uid.LineageID\\x00\\x00\\x00\\x00\\x00\\x00\\x00\\x00\\r\\x00\\x00\\x00\\x92\\x00\\x00\\x00E\\x00\\x00\\x002\\x00\\x00\\x00\\x11\\x00\\x00\\x00\\x0e\\x00\\x00\\x00A\\x00\\x00\\x00\\x0e\\x00\\x00\\x00syft_history_hash\\x00\\x00\\x00\\x00\\x00\\x00\\x00\\x01\\x00\\x00\\x00\\xc2\\x02\\x00\\x00\\x00\\x00\\x00\\x00\\n\\x00\\x00\\x00\\x00\\x00\\x00\\x00\\x00\\x00\\x04\\x00\\x00\\x00\\x00\\x00\\x00\\x00\\x00\\x00\\x00\\x00\\x00\\x00\\x00\\x00\\x00\\x00\\x05\\x00\\x00\\x00j\\x00\\x00\\x00\\t\\x00\\x00\\x00\\x0e\\x00\\x00\\x00builtins.int\\x00\\x00\\x00\\x00\\x01\\x00\\x00\\x00J\\x00\\x00\\x00\\x00\\x02\\xf5Nf\\x07\\xf4E\\xe0\\x00\\x00\\x00\\x00\\x00\\x00\\x00value\\x00\\x00\\x00\\x01\\x00\\x00\\x00\\xc2\\x02\\x00\\x00\\x00\\x00\\x00\\x00\\n\\x00\\x00\\x00\\x00\\x00\\x00\\x00\\x00\\x00\\x04\\x00\\x00\\x00\\x00\\x00\\x00\\x00\\x00\\x00\\x00\\x00\\x00\\x00\\x00\\x00\\x00\\x00\\x05\\x00\\x00\\x00z\\x00\\x00\\x00\\t\\x00\\x00\\x00\\x0e\\x00\\x00\\x00builtins.bytes\\x00\\x00\\x01\\x00\\x00\\x00\\x82\\x00\\x00\\x007\\xc0)\\xb6\\\\\\xecH1\\x84\\xf4\\x00\\xb3 \\x92\\x04Fresult_id\\x00\\x00\\x00\\x00\\x00\\x00\\x00\\x01\\x00\\x00\\x00\\xc2\\n\\x00\\x00\\x00\\x00\\x00\\x00*\\x00\\x00\\x00\\x00\\x00\\x00\\x00\\x00\\x00\\x04\\x00!\\x00\\x00\\x00\\x16\\x00\\x00\\x00%\\x00\\x00\\x00\\x16\\x00\\x00\\x00\\x05\\x00\\x00\\x00\\n\\x01\\x00\\x00\\x00\\x00\\x00\\x00\\x00\\x00\\x00\\x00syft.core.node.new.uid.LineageID\\x00\\x00\\x00\\x00\\x00\\x00\\x00\\x00\\r\\x00\\x00\\x00\\x92\\x00\\x00\\x00E\\x00\\x00\\x002\\x00\\x00\\x00\\x11\\x00\\x00\\x00\\x0e\\x00\\x00\\x00A\\x00\\x00\\x00\\x0e\\x00\\x00\\x00syft_history_hash\\x00\\x00\\x00\\x00\\x00\\x00\\x00\\x01\\x00\\x00\\x00\\xc2\\x02\\x00\\x00\\x00\\x00\\x00\\x00\\n\\x00\\x00\\x00\\x00\\x00\\x00\\x00\\x00\\x00\\x04\\x00\\x00\\x00\\x00\\x00\\x00\\x00\\x00\\x00\\x00\\x00\\x00\\x00\\x00\\x00\\x00\\x00\\x05\\x00\\x00\\x00j\\x00\\x00\\x00\\t\\x00\\x00\\x00\\x0e\\x00\\x00\\x00builtins.int\\x00\\x00\\x00\\x00\\x01\\x00\\x00\\x00J\\x00\\x00\\x00\\x00\\x0b\\x83\\x02\\xcf\\xd5\\xb2cz\\x00\\x00\\x00\\x00\\x00\\x00\\x00value\\x00\\x00\\x00\\x01\\x00\\x00\\x00\\xc2\\x02\\x00\\x00\\x00\\x00\\x00\\x00\\n\\x00\\x00\\x00\\x00\\x00\\x00\\x00\\x00\\x00\\x04\\x00\\x00\\x00\\x00\\x00\\x00\\x00\\x00\\x00\\x00\\x00\\x00\\x00\\x00\\x00\\x00\\x00\\x05\\x00\\x00\\x00z\\x00\\x00\\x00\\t\\x00\\x00\\x00\\x0e\\x00\\x00\\x00builtins.bytes\\x00\\x00\\x01\\x00\\x00\\x00\\x82\\x00\\x00\\x00{\\x0b\\x1bo0\\xf4L\\x83\\xb3*\\'VN\\x0f\\xff>created_at\\x00\\x00\\x00\\x00\\x00\\x00\\x01\\x00\\x00\\x00B\\x0e\\x00\\x00\\x00\\x00\\x00\\x008\\x00\\x00\\x00\\x00\\x00\\x00\\x00\\x00\\x00\\x04\\x00!\\x00\\x00\\x00\\x16\\x00\\x00\\x00%\\x00\\x00\\x00\\x16\\x00\\x00\\x00\\x05\\x00\\x00\\x00*\\x01\\x00\\x00\\x00\\x00\\x00\\x00\\x00\\x00\\x00\\x00syft.core.node.new.datetime.DateTime\\x00\\x00\\x00\\x00\\r\\x00\\x00\\x00\\x1a\\x00\\x00\\x00u\\x00\\x00\\x00r\\x00\\x00\\x00\\t\\x00\\x00\\x00\\x0e\\x00\\x00\\x00u\\x00\\x00\\x00\\x0e\\x00\\x00\\x00id\\x00\\x00\\x00\\x00\\x00\\x00\\x01\\x00\\x00\\x00B\\x06\\x00\\x00\\x00\\x00\\x00\\x00\\x18\\x00\\x00\\x00\\x00\\x00\\x00\\x00\\x00\\x00\\x04\\x00\\x1d\\x00\\x00\\x00\\x0e\\x00\\x00\\x00\\x1d\\x00\\x00\\x00\\x0e\\x00\\x00\\x00\\x05\\x00\\x00\\x00\\xda\\x00\\x00\\x00\\x00\\x00\\x00\\x00\\x00\\x00\\x00\\x00syft.core.node.new.uid.UID\\x00\\x00\\x00\\x00\\x00\\x00\\x05\\x00\\x00\\x002\\x00\\x00\\x00\\x05\\x00\\x00\\x00\\x0e\\x00\\x00\\x00value\\x00\\x00\\x00\\x01\\x00\\x00\\x00\\xc2\\x02\\x00\\x00\\x00\\x00\\x00\\x00\\n\\x00\\x00\\x00\\x00\\x00\\x00\\x00\\x00\\x00\\x04\\x00\\x00\\x00\\x00\\x00\\x00\\x00\\x00\\x00\\x00\\x00\\x00\\x00\\x00\\x00\\x00\\x00\\x05\\x00\\x00\\x00z\\x00\\x00\\x00\\t\\x00\\x00\\x00\\x0e\\x00\\x00\\x00builtins.bytes\\x00\\x00\\x01\\x00\\x00\\x00\\x82\\x00\\x00\\x00O\\x8e\\xe4\\xac\\xb3\\xabD\\xef\\x9fd\\r\\xb5E\\xca\\xbe\\xb0utc_timestamp\\x00\\x00\\x00\\x01\\x00\\x00\\x00\\x02\\x03\\x00\\x00\\x00\\x00\\x00\\x00\\x0b\\x00\\x00\\x00\\x00\\x00\\x00\\x00\\x00\\x00\\x04\\x00\\x00\\x00\\x00\\x00\\x00\\x00\\x00\\x00\\x00\\x00\\x00\\x00\\x00\\x00\\x00\\x00\\x05\\x00\\x00\\x00z\\x00\\x00\\x00\\t\\x00\\x00\\x00\\x0e\\x00\\x00\\x00builtins.float\\x00\\x00\\x01\\x00\\x00\\x00\\xaa\\x00\\x00\\x000x1.90dea9f344d2fp+30\\x00\\x00\\x00id\\x00\\x00\\x00\\x00\\x00\\x00\\x01\\x00\\x00\\x00B\\x06\\x00\\x00\\x00\\x00\\x00\\x00\\x18\\x00\\x00\\x00\\x00\\x00\\x00\\x00\\x00\\x00\\x04\\x00\\x1d\\x00\\x00\\x00\\x0e\\x00\\x00\\x00\\x1d\\x00\\x00\\x00\\x0e\\x00\\x00\\x00\\x05\\x00\\x00\\x00\\xda\\x00\\x00\\x00\\x00\\x00\\x00\\x00\\x00\\x00\\x00\\x00syft.core.node.new.uid.UID\\x00\\x00\\x00\\x00\\x00\\x00\\x05\\x00\\x00\\x002\\x00\\x00\\x00\\x05\\x00\\x00\\x00\\x0e\\x00\\x00\\x00value\\x00\\x00\\x00\\x01\\x00\\x00\\x00\\xc2\\x02\\x00\\x00\\x00\\x00\\x00\\x00\\n\\x00\\x00\\x00\\x00\\x00\\x00\\x00\\x00\\x00\\x04\\x00\\x00\\x00\\x00\\x00\\x00\\x00\\x00\\x00\\x00\\x00\\x00\\x00\\x00\\x00\\x00\\x00\\x05\\x00\\x00\\x00z\\x00\\x00\\x00\\t\\x00\\x00\\x00\\x0e\\x00\\x00\\x00builtins.bytes\\x00\\x00\\x01\\x00\\x00\\x00\\x82\\x00\\x00\\x00+Jj\\xcb\\xf2\\x1e@E\\x85D\\x95m+\\x98O\\xb8retry\\x00\\x00\\x00\\x01\\x00\\x00\\x00\\x82\\x02\\x00\\x00\\x00\\x00\\x00\\x00\\t\\x00\\x00\\x00\\x00\\x00\\x00\\x00\\x00\\x00\\x04\\x00\\x00\\x00\\x00\\x00\\x00\\x00\\x00\\x00\\x00\\x00\\x00\\x00\\x00\\x00\\x00\\x00\\x05\\x00\\x00\\x00j\\x00\\x00\\x00\\t\\x00\\x00\\x00\\x0e\\x00\\x00\\x00builtins.int\\x00\\x00\\x00\\x00\\x01\\x00\\x00\\x00\\n\\x00\\x00\\x00\\x00\\x00\\x00\\x00\\x00\\x00\\x00\\x00status\\x00\\x00\\x01\\x00\\x00\\x00\\x82\\x06\\x00\\x00\\x00\\x00\\x00\\x00\\x19\\x00\\x00\\x00\\x00\\x00\\x00\\x00\\x00\\x00\\x04\\x00%\\x00\\x00\\x00\\x0e\\x00\\x00\\x00%\\x00\\x00\\x00\\x0e\\x00\\x00\\x00\\x05\\x00\\x00\\x00j\\x01\\x00\\x00\\x00\\x00\\x00\\x00\\x00\\x00\\x00\\x00syft.core.node.new.action_graph.ActionStatus\\x00\\x00\\x00\\x00\\x05\\x00\\x00\\x002\\x00\\x00\\x00\\x05\\x00\\x00\\x00\\x0e\\x00\\x00\\x00value\\x00\\x00\\x00\\x01\\x00\\x00\\x00\\x82\\x02\\x00\\x00\\x00\\x00\\x00\\x00\\t\\x00\\x00\\x00\\x00\\x00\\x00\\x00\\x00\\x00\\x04\\x00\\x00\\x00\\x00\\x00\\x00\\x00\\x00\\x00\\x00\\x00\\x00\\x00\\x00\\x00\\x00\\x00\\x05\\x00\\x00\\x00j\\x00\\x00\\x00\\t\\x00\\x00\\x00\\x0e\\x00\\x00\\x00builtins.int\\x00\\x00\\x00\\x00\\x01\\x00\\x00\\x00\\n\\x00\\x00\\x00\\x00\\x00\\x00\\x00\\x00\\x00\\x00\\x00\\x01\\x00\\x00\\x00B\\x03\\x00\\x00\\x00\\x00\\x00\\x00\\x0c\\x00\\x00\\x00\\x00\\x00\\x00\\x00\\x00\\x00\\x04\\x00\\x00\\x00\\x00\\x00\\x00\\x00\\x00\\x00\\x00\\x00\\x00\\x00\\x00\\x00\\x00\\x00\\x05\\x00\\x00\\x00r\\x00\\x00\\x00\\t\\x00\\x00\\x00\\x0e\\x00\\x00\\x00builtins.dict\\x00\\x00\\x00\\x01\\x00\\x00\\x00\\x02\\x01\\x00\\x00\\x00\\x00\\x00\\x00\\x03\\x00\\x00\\x00\\x00\\x00\\x00\\x00\\x00\\x00\\x02\\x00\\x05\\x00\\x00\\x00\\x06\\x00\\x00\\x00\\x01\\x00\\x00\\x00\\x06\\x00\\x00\\x00\\x00\\x00\\x00\\x00\\x89\\x01\\x00\\x00\\x00\\x00\\x00\\x00\\x00\\x00\\x04\\x00%\\x00\\x00\\x00.\\x00\\x00\\x005\\x00\\x00\\x00.\\x00\\x00\\x00\\x05\\x00\\x00\\x00\\x82\\x01\\x00\\x00\\x00\\x00\\x00\\x00\\x00\\x00\\x00\\x00syft.core.node.new.action_graph.ActionGraphNode\\x00%\\x00\\x00\\x00:\\x00\\x00\\x00\\xf5\\x03\\x00\\x00Z\\x00\\x00\\x00\\xe1\\x04\\x00\\x00\\x1a\\x00\\x00\\x00I\\x05\\x00\\x002\\x00\\x00\\x00u\\x05\\x00\\x00:\\x00\\x00\\x00\\x15\\x00\\x00\\x00\\x0e\\x00\\x00\\x00\\xe9\\x03\\x00\\x00\\x0e\\x00\\x00\\x00\\xd1\\x04\\x00\\x00\\x0e\\x00\\x00\\x009\\x05\\x00\\x00\\x0e\\x00\\x00\\x00e\\x05\\x00\\x00\\x0e\\x00\\x00\\x00action\\x00\\x00\\x01\\x00\\x00\\x00\\xc2<\\x00\\x00\\x00\\x00\\x00\\x00\\xf2\\x00\\x00\\x00\\x00\\x00\\x00\\x00\\x00\\x00\\x04\\x00!\\x00\\x00\\x00>\\x00\\x00\\x009\\x00\\x00\\x00>\\x00\\x00\\x00\\x05\\x00\\x00\\x00B\\x01\\x00\\x00\\x00\\x00\\x00\\x00\\x00\\x00\\x00\\x00syft.core.node.new.action_object.Action\\x005\\x00\\x00\\x00*\\x00\\x00\\x00\\x1d\\x01\\x00\\x00\\x1a\\x00\\x00\\x00\\x85\\x01\\x00\\x00:\\x00\\x00\\x00\\xbd\\x01\\x00\\x00\\x1a\\x00\\x00\\x00\\xe9\\x01\\x00\\x00*\\x00\\x00\\x00\\x19\\x02\\x00\\x00b\\x00\\x00\\x00\\xcd\\x02\\x00\\x00R\\x00\\x00\\x00\\x1d\\x00\\x00\\x00\\x0e\\x00\\x00\\x00\\x05\\x01\\x00\\x00\\x0e\\x00\\x00\\x00m\\x01\\x00\\x00\\x0e\\x00\\x00\\x00\\xa5\\x01\\x00\\x00\\x0e\\x00\\x00\\x00\\xd1\\x01\\x00\\x00\\x0e\\x00\\x00\\x00\\x05\\x02\\x00\\x00\\x0e\\x00\\x00\\x00\\xb9\\x02\\x00\\x00\\x0e\\x00\\x00\\x00args\\x00\\x00\\x00\\x00\\x01\\x00\\x00\\x00B\\x0e\\x00\\x00\\x00\\x00\\x00\\x008\\x00\\x00\\x00\\x00\\x00\\x00\\x00\\x00\\x00\\x04\\x00\\x00\\x00\\x00\\x00\\x00\\x00\\x00\\x00\\x00\\x00\\x00\\x00\\x00\\x00\\x00\\x00\\x05\\x00\\x00\\x00r\\x00\\x00\\x00\\t\\x00\\x00\\x00\\x0e\\x00\\x00\\x00builtins.list\\x00\\x00\\x00\\x01\\x00\\x00\\x00\\x02\\x0c\\x00\\x00\\x00\\x00\\x00\\x00/\\x00\\x00\\x00\\x00\\x00\\x00\\x00\\x00\\x00\\x01\\x00\\x01\\x00\\x00\\x00\\x0e\\x00\\x00\\x00\\x01\\x00\\x00\\x00\\x0e\\x00\\x00\\x00\\x01\\x00\\x00\\x00\\xc2\\n\\x00\\x00\\x00\\x00\\x00\\x00*\\x00\\x00\\x00\\x00\\x00\\x00\\x00\\x00\\x00\\x04\\x00!\\x00\\x00\\x00\\x16\\x00\\x00\\x00%\\x00\\x00\\x00\\x16\\x00\\x00\\x00\\x05\\x00\\x00\\x00\\n\\x01\\x00\\x00\\x00\\x00\\x00\\x00\\x00\\x00\\x00\\x00syft.core.node.new.uid.LineageID\\x00\\x00\\x00\\x00\\x00\\x00\\x00\\x00\\r\\x00\\x00\\x00\\x92\\x00\\x00\\x00E\\x00\\x00\\x002\\x00\\x00\\x00\\x11\\x00\\x00\\x00\\x0e\\x00\\x00\\x00A\\x00\\x00\\x00\\x0e\\x00\\x00\\x00syft_history_hash\\x00\\x00\\x00\\x00\\x00\\x00\\x00\\x01\\x00\\x00\\x00\\xc2\\x02\\x00\\x00\\x00\\x00\\x00\\x00\\n\\x00\\x00\\x00\\x00\\x00\\x00\\x00\\x00\\x00\\x04\\x00\\x00\\x00\\x00\\x00\\x00\\x00\\x00\\x00\\x00\\x00\\x00\\x00\\x00\\x00\\x00\\x00\\x05\\x00\\x00\\x00j\\x00\\x00\\x00\\t\\x00\\x00\\x00\\x0e\\x00\\x00\\x00builtins.int\\x00\\x00\\x00\\x00\\x01\\x00\\x00\\x00J\\x00\\x00\\x00\\x00\\x02\\xf5Nf\\x07\\xf4E\\xe0\\x00\\x00\\x00\\x00\\x00\\x00\\x00value\\x00\\x00\\x00\\x01\\x00\\x00\\x00\\xc2\\x02\\x00\\x00\\x00\\x00\\x00\\x00\\n\\x00\\x00\\x00\\x00\\x00\\x00\\x00\\x00\\x00\\x04\\x00\\x00\\x00\\x00\\x00\\x00\\x00\\x00\\x00\\x00\\x00\\x00\\x00\\x00\\x00\\x00\\x00\\x05\\x00\\x00\\x00z\\x00\\x00\\x00\\t\\x00\\x00\\x00\\x0e\\x00\\x00\\x00builtins.bytes\\x00\\x00\\x01\\x00\\x00\\x00\\x82\\x00\\x00\\x007\\xc0)\\xb6\\\\\\xecH1\\x84\\xf4\\x00\\xb3 \\x92\\x04Fid\\x00\\x00\\x00\\x00\\x00\\x00\\x01\\x00\\x00\\x00B\\x06\\x00\\x00\\x00\\x00\\x00\\x00\\x18\\x00\\x00\\x00\\x00\\x00\\x00\\x00\\x00\\x00\\x04\\x00\\x1d\\x00\\x00\\x00\\x0e\\x00\\x00\\x00\\x1d\\x00\\x00\\x00\\x0e\\x00\\x00\\x00\\x05\\x00\\x00\\x00\\xda\\x00\\x00\\x00\\x00\\x00\\x00\\x00\\x00\\x00\\x00\\x00syft.core.node.new.uid.UID\\x00\\x00\\x00\\x00\\x00\\x00\\x05\\x00\\x00\\x002\\x00\\x00\\x00\\x05\\x00\\x00\\x00\\x0e\\x00\\x00\\x00value\\x00\\x00\\x00\\x01\\x00\\x00\\x00\\xc2\\x02\\x00\\x00\\x00\\x00\\x00\\x00\\n\\x00\\x00\\x00\\x00\\x00\\x00\\x00\\x00\\x00\\x04\\x00\\x00\\x00\\x00\\x00\\x00\\x00\\x00\\x00\\x00\\x00\\x00\\x00\\x00\\x00\\x00\\x00\\x05\\x00\\x00\\x00z\\x00\\x00\\x00\\t\\x00\\x00\\x00\\x0e\\x00\\x00\\x00builtins.bytes\\x00\\x00\\x01\\x00\\x00\\x00\\x82\\x00\\x00\\x00a\\xc1\\x17O(\\xb8Ll\\xb2H\\xcf\\x9c\\xd9}|\\xd0kwargs\\x00\\x00\\x01\\x00\\x00\\x00B\\x03\\x00\\x00\\x00\\x00\\x00\\x00\\x0c\\x00\\x00\\x00\\x00\\x00\\x00\\x00\\x00\\x00\\x04\\x00\\x00\\x00\\x00\\x00\\x00\\x00\\x00\\x00\\x00\\x00\\x00\\x00\\x00\\x00\\x00\\x00\\x05\\x00\\x00\\x00r\\x00\\x00\\x00\\t\\x00\\x00\\x00\\x0e\\x00\\x00\\x00builtins.dict\\x00\\x00\\x00\\x01\\x00\\x00\\x00\\x02\\x01\\x00\\x00\\x00\\x00\\x00\\x00\\x03\\x00\\x00\\x00\\x00\\x00\\x00\\x00\\x00\\x00\\x02\\x00\\x05\\x00\\x00\\x00\\x06\\x00\\x00\\x00\\x01\\x00\\x00\\x00\\x06\\x00\\x00\\x00op\\x00\\x00\\x00\\x00\\x00\\x00\\x01\\x00\\x00\\x00\\x82\\x02\\x00\\x00\\x00\\x00\\x00\\x00\\t\\x00\\x00\\x00\\x00\\x00\\x00\\x00\\x00\\x00\\x04\\x00\\x00\\x00\\x00\\x00\\x00\\x00\\x00\\x00\\x00\\x00\\x00\\x00\\x00\\x00\\x00\\x00\\x05\\x00\\x00\\x00j\\x00\\x00\\x00\\t\\x00\\x00\\x00\\x0e\\x00\\x00\\x00builtins.str\\x00\\x00\\x00\\x00\\x01\\x00\\x00\\x00\\x1a\\x00\\x00\\x00add\\x00\\x00\\x00\\x00\\x00path\\x00\\x00\\x00\\x00\\x01\\x00\\x00\\x00\\xc2\\x02\\x00\\x00\\x00\\x00\\x00\\x00\\n\\x00\\x00\\x00\\x00\\x00\\x00\\x00\\x00\\x00\\x04\\x00\\x00\\x00\\x00\\x00\\x00\\x00\\x00\\x00\\x00\\x00\\x00\\x00\\x00\\x00\\x00\\x00\\x05\\x00\\x00\\x00j\\x00\\x00\\x00\\t\\x00\\x00\\x00\\x0e\\x00\\x00\\x00builtins.str\\x00\\x00\\x00\\x00\\x01\\x00\\x00\\x00\\x82\\x00\\x00\\x00NumpyArrayObjectremote_self\\x00\\x00\\x00\\x00\\x00\\x01\\x00\\x00\\x00\\xc2\\n\\x00\\x00\\x00\\x00\\x00\\x00*\\x00\\x00\\x00\\x00\\x00\\x00\\x00\\x00\\x00\\x04\\x00!\\x00\\x00\\x00\\x16\\x00\\x00\\x00%\\x00\\x00\\x00\\x16\\x00\\x00\\x00\\x05\\x00\\x00\\x00\\n\\x01\\x00\\x00\\x00\\x00\\x00\\x00\\x00\\x00\\x00\\x00syft.core.node.new.uid.LineageID\\x00\\x00\\x00\\x00\\x00\\x00\\x00\\x00\\r\\x00\\x00\\x00\\x92\\x00\\x00\\x00E\\x00\\x00\\x002\\x00\\x00\\x00\\x11\\x00\\x00\\x00\\x0e\\x00\\x00\\x00A\\x00\\x00\\x00\\x0e\\x00\\x00\\x00syft_history_hash\\x00\\x00\\x00\\x00\\x00\\x00\\x00\\x01\\x00\\x00\\x00\\xc2\\x02\\x00\\x00\\x00\\x00\\x00\\x00\\n\\x00\\x00\\x00\\x00\\x00\\x00\\x00\\x00\\x00\\x04\\x00\\x00\\x00\\x00\\x00\\x00\\x00\\x00\\x00\\x00\\x00\\x00\\x00\\x00\\x00\\x00\\x00\\x05\\x00\\x00\\x00j\\x00\\x00\\x00\\t\\x00\\x00\\x00\\x0e\\x00\\x00\\x00builtins.int\\x00\\x00\\x00\\x00\\x01\\x00\\x00\\x00J\\x00\\x00\\x00\\x00\\x16\\x96J \\xa0\\xce\\x9dl\\x00\\x00\\x00\\x00\\x00\\x00\\x00value\\x00\\x00\\x00\\x01\\x00\\x00\\x00\\xc2\\x02\\x00\\x00\\x00\\x00\\x00\\x00\\n\\x00\\x00\\x00\\x00\\x00\\x00\\x00\\x00\\x00\\x04\\x00\\x00\\x00\\x00\\x00\\x00\\x00\\x00\\x00\\x00\\x00\\x00\\x00\\x00\\x00\\x00\\x00\\x05\\x00\\x00\\x00z\\x00\\x00\\x00\\t\\x00\\x00\\x00\\x0e\\x00\\x00\\x00builtins.bytes\\x00\\x00\\x01\\x00\\x00\\x00\\x82\\x00\\x00\\x00\\x81\\x07\\xbc\\xe1\\xec\\xe1Et\\x8eXc\\x119\\xc4q\\xa8result_id\\x00\\x00\\x00\\x00\\x00\\x00\\x00\\x01\\x00\\x00\\x00\\xc2\\n\\x00\\x00\\x00\\x00\\x00\\x00*\\x00\\x00\\x00\\x00\\x00\\x00\\x00\\x00\\x00\\x04\\x00!\\x00\\x00\\x00\\x16\\x00\\x00\\x00%\\x00\\x00\\x00\\x16\\x00\\x00\\x00\\x05\\x00\\x00\\x00\\n\\x01\\x00\\x00\\x00\\x00\\x00\\x00\\x00\\x00\\x00\\x00syft.core.node.new.uid.LineageID\\x00\\x00\\x00\\x00\\x00\\x00\\x00\\x00\\r\\x00\\x00\\x00\\x92\\x00\\x00\\x00E\\x00\\x00\\x002\\x00\\x00\\x00\\x11\\x00\\x00\\x00\\x0e\\x00\\x00\\x00A\\x00\\x00\\x00\\x0e\\x00\\x00\\x00syft_history_hash\\x00\\x00\\x00\\x00\\x00\\x00\\x00\\x01\\x00\\x00\\x00\\xc2\\x02\\x00\\x00\\x00\\x00\\x00\\x00\\n\\x00\\x00\\x00\\x00\\x00\\x00\\x00\\x00\\x00\\x04\\x00\\x00\\x00\\x00\\x00\\x00\\x00\\x00\\x00\\x00\\x00\\x00\\x00\\x00\\x00\\x00\\x00\\x05\\x00\\x00\\x00j\\x00\\x00\\x00\\t\\x00\\x00\\x00\\x0e\\x00\\x00\\x00builtins.int\\x00\\x00\\x00\\x00\\x01\\x00\\x00\\x00J\\x00\\x00\\x00\\x00\\x06\\x8es\\x19$\\xa2P\\xf8\\x00\\x00\\x00\\x00\\x00\\x00\\x00value\\x00\\x00\\x00\\x01\\x00\\x00\\x00\\xc2\\x02\\x00\\x00\\x00\\x00\\x00\\x00\\n\\x00\\x00\\x00\\x00\\x00\\x00\\x00\\x00\\x00\\x04\\x00\\x00\\x00\\x00\\x00\\x00\\x00\\x00\\x00\\x00\\x00\\x00\\x00\\x00\\x00\\x00\\x00\\x05\\x00\\x00\\x00z\\x00\\x00\\x00\\t\\x00\\x00\\x00\\x0e\\x00\\x00\\x00builtins.bytes\\x00\\x00\\x01\\x00\\x00\\x00\\x82\\x00\\x00\\x00\\xf3\\x8a\\xe4\\xcc\\xac\\x98Au\\x8a7L\\xb3\\xbf\\xe0E\\x0fcreated_at\\x00\\x00\\x00\\x00\\x00\\x00\\x01\\x00\\x00\\x00B\\x0e\\x00\\x00\\x00\\x00\\x00\\x008\\x00\\x00\\x00\\x00\\x00\\x00\\x00\\x00\\x00\\x04\\x00!\\x00\\x00\\x00\\x16\\x00\\x00\\x00%\\x00\\x00\\x00\\x16\\x00\\x00\\x00\\x05\\x00\\x00\\x00*\\x01\\x00\\x00\\x00\\x00\\x00\\x00\\x00\\x00\\x00\\x00syft.core.node.new.datetime.DateTime\\x00\\x00\\x00\\x00\\r\\x00\\x00\\x00\\x1a\\x00\\x00\\x00u\\x00\\x00\\x00r\\x00\\x00\\x00\\t\\x00\\x00\\x00\\x0e\\x00\\x00\\x00u\\x00\\x00\\x00\\x0e\\x00\\x00\\x00id\\x00\\x00\\x00\\x00\\x00\\x00\\x01\\x00\\x00\\x00B\\x06\\x00\\x00\\x00\\x00\\x00\\x00\\x18\\x00\\x00\\x00\\x00\\x00\\x00\\x00\\x00\\x00\\x04\\x00\\x1d\\x00\\x00\\x00\\x0e\\x00\\x00\\x00\\x1d\\x00\\x00\\x00\\x0e\\x00\\x00\\x00\\x05\\x00\\x00\\x00\\xda\\x00\\x00\\x00\\x00\\x00\\x00\\x00\\x00\\x00\\x00\\x00syft.core.node.new.uid.UID\\x00\\x00\\x00\\x00\\x00\\x00\\x05\\x00\\x00\\x002\\x00\\x00\\x00\\x05\\x00\\x00\\x00\\x0e\\x00\\x00\\x00value\\x00\\x00\\x00\\x01\\x00\\x00\\x00\\xc2\\x02\\x00\\x00\\x00\\x00\\x00\\x00\\n\\x00\\x00\\x00\\x00\\x00\\x00\\x00\\x00\\x00\\x04\\x00\\x00\\x00\\x00\\x00\\x00\\x00\\x00\\x00\\x00\\x00\\x00\\x00\\x00\\x00\\x00\\x00\\x05\\x00\\x00\\x00z\\x00\\x00\\x00\\t\\x00\\x00\\x00\\x0e\\x00\\x00\\x00builtins.bytes\\x00\\x00\\x01\\x00\\x00\\x00\\x82\\x00\\x00\\x00\\xf0\\xd5P\\x18p0O3\\xaa\\\\\\xa2<x\\x8b\\xce\\xaeutc_timestamp\\x00\\x00\\x00\\x01\\x00\\x00\\x00\\x02\\x03\\x00\\x00\\x00\\x00\\x00\\x00\\x0b\\x00\\x00\\x00\\x00\\x00\\x00\\x00\\x00\\x00\\x04\\x00\\x00\\x00\\x00\\x00\\x00\\x00\\x00\\x00\\x00\\x00\\x00\\x00\\x00\\x00\\x00\\x00\\x05\\x00\\x00\\x00z\\x00\\x00\\x00\\t\\x00\\x00\\x00\\x0e\\x00\\x00\\x00builtins.float\\x00\\x00\\x01\\x00\\x00\\x00\\xaa\\x00\\x00\\x000x1.90dea9f34a937p+30\\x00\\x00\\x00id\\x00\\x00\\x00\\x00\\x00\\x00\\x01\\x00\\x00\\x00B\\x06\\x00\\x00\\x00\\x00\\x00\\x00\\x18\\x00\\x00\\x00\\x00\\x00\\x00\\x00\\x00\\x00\\x04\\x00\\x1d\\x00\\x00\\x00\\x0e\\x00\\x00\\x00\\x1d\\x00\\x00\\x00\\x0e\\x00\\x00\\x00\\x05\\x00\\x00\\x00\\xda\\x00\\x00\\x00\\x00\\x00\\x00\\x00\\x00\\x00\\x00\\x00syft.core.node.new.uid.UID\\x00\\x00\\x00\\x00\\x00\\x00\\x05\\x00\\x00\\x002\\x00\\x00\\x00\\x05\\x00\\x00\\x00\\x0e\\x00\\x00\\x00value\\x00\\x00\\x00\\x01\\x00\\x00\\x00\\xc2\\x02\\x00\\x00\\x00\\x00\\x00\\x00\\n\\x00\\x00\\x00\\x00\\x00\\x00\\x00\\x00\\x00\\x04\\x00\\x00\\x00\\x00\\x00\\x00\\x00\\x00\\x00\\x00\\x00\\x00\\x00\\x00\\x00\\x00\\x00\\x05\\x00\\x00\\x00z\\x00\\x00\\x00\\t\\x00\\x00\\x00\\x0e\\x00\\x00\\x00builtins.bytes\\x00\\x00\\x01\\x00\\x00\\x00\\x82\\x00\\x00\\x00a\\xc1\\x17O(\\xb8Ll\\xb2H\\xcf\\x9c\\xd9}|\\xd0retry\\x00\\x00\\x00\\x01\\x00\\x00\\x00\\x82\\x02\\x00\\x00\\x00\\x00\\x00\\x00\\t\\x00\\x00\\x00\\x00\\x00\\x00\\x00\\x00\\x00\\x04\\x00\\x00\\x00\\x00\\x00\\x00\\x00\\x00\\x00\\x00\\x00\\x00\\x00\\x00\\x00\\x00\\x00\\x05\\x00\\x00\\x00j\\x00\\x00\\x00\\t\\x00\\x00\\x00\\x0e\\x00\\x00\\x00builtins.int\\x00\\x00\\x00\\x00\\x01\\x00\\x00\\x00\\n\\x00\\x00\\x00\\x00\\x00\\x00\\x00\\x00\\x00\\x00\\x00status\\x00\\x00\\x01\\x00\\x00\\x00\\x82\\x06\\x00\\x00\\x00\\x00\\x00\\x00\\x19\\x00\\x00\\x00\\x00\\x00\\x00\\x00\\x00\\x00\\x04\\x00%\\x00\\x00\\x00\\x0e\\x00\\x00\\x00%\\x00\\x00\\x00\\x0e\\x00\\x00\\x00\\x05\\x00\\x00\\x00j\\x01\\x00\\x00\\x00\\x00\\x00\\x00\\x00\\x00\\x00\\x00syft.core.node.new.action_graph.ActionStatus\\x00\\x00\\x00\\x00\\x05\\x00\\x00\\x002\\x00\\x00\\x00\\x05\\x00\\x00\\x00\\x0e\\x00\\x00\\x00value\\x00\\x00\\x00\\x01\\x00\\x00\\x00\\x82\\x02\\x00\\x00\\x00\\x00\\x00\\x00\\t\\x00\\x00\\x00\\x00\\x00\\x00\\x00\\x00\\x00\\x04\\x00\\x00\\x00\\x00\\x00\\x00\\x00\\x00\\x00\\x00\\x00\\x00\\x00\\x00\\x00\\x00\\x00\\x05\\x00\\x00\\x00j\\x00\\x00\\x00\\t\\x00\\x00\\x00\\x0e\\x00\\x00\\x00builtins.int\\x00\\x00\\x00\\x00\\x01\\x00\\x00\\x00\\n\\x00\\x00\\x00\\x00\\x00\\x00\\x00\\x00\\x00\\x00\\x00\\x01\\x00\\x00\\x00B\\x03\\x00\\x00\\x00\\x00\\x00\\x00\\x0c\\x00\\x00\\x00\\x00\\x00\\x00\\x00\\x00\\x00\\x04\\x00\\x00\\x00\\x00\\x00\\x00\\x00\\x00\\x00\\x00\\x00\\x00\\x00\\x00\\x00\\x00\\x00\\x05\\x00\\x00\\x00r\\x00\\x00\\x00\\t\\x00\\x00\\x00\\x0e\\x00\\x00\\x00builtins.dict\\x00\\x00\\x00\\x01\\x00\\x00\\x00\\x02\\x01\\x00\\x00\\x00\\x00\\x00\\x00\\x03\\x00\\x00\\x00\\x00\\x00\\x00\\x00\\x00\\x00\\x02\\x00\\x05\\x00\\x00\\x00\\x06\\x00\\x00\\x00\\x01\\x00\\x00\\x00\\x06\\x00\\x00\\x00\\x01\\x00\\x00\\x00\\x82b\\x00\\x00\\x00\\x00\\x00\\x00\\x89\\x01\\x00\\x00\\x00\\x00\\x00\\x00\\x00\\x00\\x04\\x00%\\x00\\x00\\x00.\\x00\\x00\\x005\\x00\\x00\\x00.\\x00\\x00\\x00\\x05\\x00\\x00\\x00\\x82\\x01\\x00\\x00\\x00\\x00\\x00\\x00\\x00\\x00\\x00\\x00syft.core.node.new.action_graph.ActionGraphNode\\x00%\\x00\\x00\\x00:\\x00\\x00\\x00\\xf5\\x03\\x00\\x00Z\\x00\\x00\\x00\\xe1\\x04\\x00\\x00\\x1a\\x00\\x00\\x00I\\x05\\x00\\x002\\x00\\x00\\x00u\\x05\\x00\\x00:\\x00\\x00\\x00\\x15\\x00\\x00\\x00\\x0e\\x00\\x00\\x00\\xe9\\x03\\x00\\x00\\x0e\\x00\\x00\\x00\\xd1\\x04\\x00\\x00\\x0e\\x00\\x00\\x009\\x05\\x00\\x00\\x0e\\x00\\x00\\x00e\\x05\\x00\\x00\\x0e\\x00\\x00\\x00action\\x00\\x00\\x01\\x00\\x00\\x00\\xc2<\\x00\\x00\\x00\\x00\\x00\\x00\\xf2\\x00\\x00\\x00\\x00\\x00\\x00\\x00\\x00\\x00\\x04\\x00!\\x00\\x00\\x00>\\x00\\x00\\x009\\x00\\x00\\x00>\\x00\\x00\\x00\\x05\\x00\\x00\\x00B\\x01\\x00\\x00\\x00\\x00\\x00\\x00\\x00\\x00\\x00\\x00syft.core.node.new.action_object.Action\\x005\\x00\\x00\\x00*\\x00\\x00\\x00\\x1d\\x01\\x00\\x00\\x1a\\x00\\x00\\x00\\x85\\x01\\x00\\x00:\\x00\\x00\\x00\\xbd\\x01\\x00\\x00\\x1a\\x00\\x00\\x00\\xe9\\x01\\x00\\x00*\\x00\\x00\\x00\\x19\\x02\\x00\\x00b\\x00\\x00\\x00\\xcd\\x02\\x00\\x00R\\x00\\x00\\x00\\x1d\\x00\\x00\\x00\\x0e\\x00\\x00\\x00\\x05\\x01\\x00\\x00\\x0e\\x00\\x00\\x00m\\x01\\x00\\x00\\x0e\\x00\\x00\\x00\\xa5\\x01\\x00\\x00\\x0e\\x00\\x00\\x00\\xd1\\x01\\x00\\x00\\x0e\\x00\\x00\\x00\\x05\\x02\\x00\\x00\\x0e\\x00\\x00\\x00\\xb9\\x02\\x00\\x00\\x0e\\x00\\x00\\x00args\\x00\\x00\\x00\\x00\\x01\\x00\\x00\\x00B\\x0e\\x00\\x00\\x00\\x00\\x00\\x008\\x00\\x00\\x00\\x00\\x00\\x00\\x00\\x00\\x00\\x04\\x00\\x00\\x00\\x00\\x00\\x00\\x00\\x00\\x00\\x00\\x00\\x00\\x00\\x00\\x00\\x00\\x00\\x05\\x00\\x00\\x00r\\x00\\x00\\x00\\t\\x00\\x00\\x00\\x0e\\x00\\x00\\x00builtins.list\\x00\\x00\\x00\\x01\\x00\\x00\\x00\\x02\\x0c\\x00\\x00\\x00\\x00\\x00\\x00/\\x00\\x00\\x00\\x00\\x00\\x00\\x00\\x00\\x00\\x01\\x00\\x01\\x00\\x00\\x00\\x0e\\x00\\x00\\x00\\x01\\x00\\x00\\x00\\x0e\\x00\\x00\\x00\\x01\\x00\\x00\\x00\\xc2\\n\\x00\\x00\\x00\\x00\\x00\\x00*\\x00\\x00\\x00\\x00\\x00\\x00\\x00\\x00\\x00\\x04\\x00!\\x00\\x00\\x00\\x16\\x00\\x00\\x00%\\x00\\x00\\x00\\x16\\x00\\x00\\x00\\x05\\x00\\x00\\x00\\n\\x01\\x00\\x00\\x00\\x00\\x00\\x00\\x00\\x00\\x00\\x00syft.core.node.new.uid.LineageID\\x00\\x00\\x00\\x00\\x00\\x00\\x00\\x00\\r\\x00\\x00\\x00\\x92\\x00\\x00\\x00E\\x00\\x00\\x002\\x00\\x00\\x00\\x11\\x00\\x00\\x00\\x0e\\x00\\x00\\x00A\\x00\\x00\\x00\\x0e\\x00\\x00\\x00syft_history_hash\\x00\\x00\\x00\\x00\\x00\\x00\\x00\\x01\\x00\\x00\\x00\\xc2\\x02\\x00\\x00\\x00\\x00\\x00\\x00\\n\\x00\\x00\\x00\\x00\\x00\\x00\\x00\\x00\\x00\\x04\\x00\\x00\\x00\\x00\\x00\\x00\\x00\\x00\\x00\\x00\\x00\\x00\\x00\\x00\\x00\\x00\\x00\\x05\\x00\\x00\\x00j\\x00\\x00\\x00\\t\\x00\\x00\\x00\\x0e\\x00\\x00\\x00builtins.int\\x00\\x00\\x00\\x00\\x01\\x00\\x00\\x00J\\x00\\x00\\x00\\x00\\x02\\xf5Nf\\x07\\xf4E\\xe0\\x00\\x00\\x00\\x00\\x00\\x00\\x00value\\x00\\x00\\x00\\x01\\x00\\x00\\x00\\xc2\\x02\\x00\\x00\\x00\\x00\\x00\\x00\\n\\x00\\x00\\x00\\x00\\x00\\x00\\x00\\x00\\x00\\x04\\x00\\x00\\x00\\x00\\x00\\x00\\x00\\x00\\x00\\x00\\x00\\x00\\x00\\x00\\x00\\x00\\x00\\x05\\x00\\x00\\x00z\\x00\\x00\\x00\\t\\x00\\x00\\x00\\x0e\\x00\\x00\\x00builtins.bytes\\x00\\x00\\x01\\x00\\x00\\x00\\x82\\x00\\x00\\x007\\xc0)\\xb6\\\\\\xecH1\\x84\\xf4\\x00\\xb3 \\x92\\x04Fid\\x00\\x00\\x00\\x00\\x00\\x00\\x01\\x00\\x00\\x00B\\x06\\x00\\x00\\x00\\x00\\x00\\x00\\x18\\x00\\x00\\x00\\x00\\x00\\x00\\x00\\x00\\x00\\x04\\x00\\x1d\\x00\\x00\\x00\\x0e\\x00\\x00\\x00\\x1d\\x00\\x00\\x00\\x0e\\x00\\x00\\x00\\x05\\x00\\x00\\x00\\xda\\x00\\x00\\x00\\x00\\x00\\x00\\x00\\x00\\x00\\x00\\x00syft.core.node.new.uid.UID\\x00\\x00\\x00\\x00\\x00\\x00\\x05\\x00\\x00\\x002\\x00\\x00\\x00\\x05\\x00\\x00\\x00\\x0e\\x00\\x00\\x00value\\x00\\x00\\x00\\x01\\x00\\x00\\x00\\xc2\\x02\\x00\\x00\\x00\\x00\\x00\\x00\\n\\x00\\x00\\x00\\x00\\x00\\x00\\x00\\x00\\x00\\x04\\x00\\x00\\x00\\x00\\x00\\x00\\x00\\x00\\x00\\x00\\x00\\x00\\x00\\x00\\x00\\x00\\x00\\x05\\x00\\x00\\x00z\\x00\\x00\\x00\\t\\x00\\x00\\x00\\x0e\\x00\\x00\\x00builtins.bytes\\x00\\x00\\x01\\x00\\x00\\x00\\x82\\x00\\x00\\x00a\\xc1\\x17O(\\xb8Ll\\xb2H\\xcf\\x9c\\xd9}|\\xd0kwargs\\x00\\x00\\x01\\x00\\x00\\x00B\\x03\\x00\\x00\\x00\\x00\\x00\\x00\\x0c\\x00\\x00\\x00\\x00\\x00\\x00\\x00\\x00\\x00\\x04\\x00\\x00\\x00\\x00\\x00\\x00\\x00\\x00\\x00\\x00\\x00\\x00\\x00\\x00\\x00\\x00\\x00\\x05\\x00\\x00\\x00r\\x00\\x00\\x00\\t\\x00\\x00\\x00\\x0e\\x00\\x00\\x00builtins.dict\\x00\\x00\\x00\\x01\\x00\\x00\\x00\\x02\\x01\\x00\\x00\\x00\\x00\\x00\\x00\\x03\\x00\\x00\\x00\\x00\\x00\\x00\\x00\\x00\\x00\\x02\\x00\\x05\\x00\\x00\\x00\\x06\\x00\\x00\\x00\\x01\\x00\\x00\\x00\\x06\\x00\\x00\\x00op\\x00\\x00\\x00\\x00\\x00\\x00\\x01\\x00\\x00\\x00\\x82\\x02\\x00\\x00\\x00\\x00\\x00\\x00\\t\\x00\\x00\\x00\\x00\\x00\\x00\\x00\\x00\\x00\\x04\\x00\\x00\\x00\\x00\\x00\\x00\\x00\\x00\\x00\\x00\\x00\\x00\\x00\\x00\\x00\\x00\\x00\\x05\\x00\\x00\\x00j\\x00\\x00\\x00\\t\\x00\\x00\\x00\\x0e\\x00\\x00\\x00builtins.str\\x00\\x00\\x00\\x00\\x01\\x00\\x00\\x00\\x1a\\x00\\x00\\x00add\\x00\\x00\\x00\\x00\\x00path\\x00\\x00\\x00\\x00\\x01\\x00\\x00\\x00\\xc2\\x02\\x00\\x00\\x00\\x00\\x00\\x00\\n\\x00\\x00\\x00\\x00\\x00\\x00\\x00\\x00\\x00\\x04\\x00\\x00\\x00\\x00\\x00\\x00\\x00\\x00\\x00\\x00\\x00\\x00\\x00\\x00\\x00\\x00\\x00\\x05\\x00\\x00\\x00j\\x00\\x00\\x00\\t\\x00\\x00\\x00\\x0e\\x00\\x00\\x00builtins.str\\x00\\x00\\x00\\x00\\x01\\x00\\x00\\x00\\x82\\x00\\x00\\x00NumpyArrayObjectremote_self\\x00\\x00\\x00\\x00\\x00\\x01\\x00\\x00\\x00\\xc2\\n\\x00\\x00\\x00\\x00\\x00\\x00*\\x00\\x00\\x00\\x00\\x00\\x00\\x00\\x00\\x00\\x04\\x00!\\x00\\x00\\x00\\x16\\x00\\x00\\x00%\\x00\\x00\\x00\\x16\\x00\\x00\\x00\\x05\\x00\\x00\\x00\\n\\x01\\x00\\x00\\x00\\x00\\x00\\x00\\x00\\x00\\x00\\x00syft.core.node.new.uid.LineageID\\x00\\x00\\x00\\x00\\x00\\x00\\x00\\x00\\r\\x00\\x00\\x00\\x92\\x00\\x00\\x00E\\x00\\x00\\x002\\x00\\x00\\x00\\x11\\x00\\x00\\x00\\x0e\\x00\\x00\\x00A\\x00\\x00\\x00\\x0e\\x00\\x00\\x00syft_history_hash\\x00\\x00\\x00\\x00\\x00\\x00\\x00\\x01\\x00\\x00\\x00\\xc2\\x02\\x00\\x00\\x00\\x00\\x00\\x00\\n\\x00\\x00\\x00\\x00\\x00\\x00\\x00\\x00\\x00\\x04\\x00\\x00\\x00\\x00\\x00\\x00\\x00\\x00\\x00\\x00\\x00\\x00\\x00\\x00\\x00\\x00\\x00\\x05\\x00\\x00\\x00j\\x00\\x00\\x00\\t\\x00\\x00\\x00\\x0e\\x00\\x00\\x00builtins.int\\x00\\x00\\x00\\x00\\x01\\x00\\x00\\x00J\\x00\\x00\\x00\\x00\\x16\\x96J \\xa0\\xce\\x9dl\\x00\\x00\\x00\\x00\\x00\\x00\\x00value\\x00\\x00\\x00\\x01\\x00\\x00\\x00\\xc2\\x02\\x00\\x00\\x00\\x00\\x00\\x00\\n\\x00\\x00\\x00\\x00\\x00\\x00\\x00\\x00\\x00\\x04\\x00\\x00\\x00\\x00\\x00\\x00\\x00\\x00\\x00\\x00\\x00\\x00\\x00\\x00\\x00\\x00\\x00\\x05\\x00\\x00\\x00z\\x00\\x00\\x00\\t\\x00\\x00\\x00\\x0e\\x00\\x00\\x00builtins.bytes\\x00\\x00\\x01\\x00\\x00\\x00\\x82\\x00\\x00\\x00\\x81\\x07\\xbc\\xe1\\xec\\xe1Et\\x8eXc\\x119\\xc4q\\xa8result_id\\x00\\x00\\x00\\x00\\x00\\x00\\x00\\x01\\x00\\x00\\x00\\xc2\\n\\x00\\x00\\x00\\x00\\x00\\x00*\\x00\\x00\\x00\\x00\\x00\\x00\\x00\\x00\\x00\\x04\\x00!\\x00\\x00\\x00\\x16\\x00\\x00\\x00%\\x00\\x00\\x00\\x16\\x00\\x00\\x00\\x05\\x00\\x00\\x00\\n\\x01\\x00\\x00\\x00\\x00\\x00\\x00\\x00\\x00\\x00\\x00syft.core.node.new.uid.LineageID\\x00\\x00\\x00\\x00\\x00\\x00\\x00\\x00\\r\\x00\\x00\\x00\\x92\\x00\\x00\\x00E\\x00\\x00\\x002\\x00\\x00\\x00\\x11\\x00\\x00\\x00\\x0e\\x00\\x00\\x00A\\x00\\x00\\x00\\x0e\\x00\\x00\\x00syft_history_hash\\x00\\x00\\x00\\x00\\x00\\x00\\x00\\x01\\x00\\x00\\x00\\xc2\\x02\\x00\\x00\\x00\\x00\\x00\\x00\\n\\x00\\x00\\x00\\x00\\x00\\x00\\x00\\x00\\x00\\x04\\x00\\x00\\x00\\x00\\x00\\x00\\x00\\x00\\x00\\x00\\x00\\x00\\x00\\x00\\x00\\x00\\x00\\x05\\x00\\x00\\x00j\\x00\\x00\\x00\\t\\x00\\x00\\x00\\x0e\\x00\\x00\\x00builtins.int\\x00\\x00\\x00\\x00\\x01\\x00\\x00\\x00J\\x00\\x00\\x00\\x00\\x06\\x8es\\x19$\\xa2P\\xf8\\x00\\x00\\x00\\x00\\x00\\x00\\x00value\\x00\\x00\\x00\\x01\\x00\\x00\\x00\\xc2\\x02\\x00\\x00\\x00\\x00\\x00\\x00\\n\\x00\\x00\\x00\\x00\\x00\\x00\\x00\\x00\\x00\\x04\\x00\\x00\\x00\\x00\\x00\\x00\\x00\\x00\\x00\\x00\\x00\\x00\\x00\\x00\\x00\\x00\\x00\\x05\\x00\\x00\\x00z\\x00\\x00\\x00\\t\\x00\\x00\\x00\\x0e\\x00\\x00\\x00builtins.bytes\\x00\\x00\\x01\\x00\\x00\\x00\\x82\\x00\\x00\\x00\\xf3\\x8a\\xe4\\xcc\\xac\\x98Au\\x8a7L\\xb3\\xbf\\xe0E\\x0fcreated_at\\x00\\x00\\x00\\x00\\x00\\x00\\x01\\x00\\x00\\x00B\\x0e\\x00\\x00\\x00\\x00\\x00\\x008\\x00\\x00\\x00\\x00\\x00\\x00\\x00\\x00\\x00\\x04\\x00!\\x00\\x00\\x00\\x16\\x00\\x00\\x00%\\x00\\x00\\x00\\x16\\x00\\x00\\x00\\x05\\x00\\x00\\x00*\\x01\\x00\\x00\\x00\\x00\\x00\\x00\\x00\\x00\\x00\\x00syft.core.node.new.datetime.DateTime\\x00\\x00\\x00\\x00\\r\\x00\\x00\\x00\\x1a\\x00\\x00\\x00u\\x00\\x00\\x00r\\x00\\x00\\x00\\t\\x00\\x00\\x00\\x0e\\x00\\x00\\x00u\\x00\\x00\\x00\\x0e\\x00\\x00\\x00id\\x00\\x00\\x00\\x00\\x00\\x00\\x01\\x00\\x00\\x00B\\x06\\x00\\x00\\x00\\x00\\x00\\x00\\x18\\x00\\x00\\x00\\x00\\x00\\x00\\x00\\x00\\x00\\x04\\x00\\x1d\\x00\\x00\\x00\\x0e\\x00\\x00\\x00\\x1d\\x00\\x00\\x00\\x0e\\x00\\x00\\x00\\x05\\x00\\x00\\x00\\xda\\x00\\x00\\x00\\x00\\x00\\x00\\x00\\x00\\x00\\x00\\x00syft.core.node.new.uid.UID\\x00\\x00\\x00\\x00\\x00\\x00\\x05\\x00\\x00\\x002\\x00\\x00\\x00\\x05\\x00\\x00\\x00\\x0e\\x00\\x00\\x00value\\x00\\x00\\x00\\x01\\x00\\x00\\x00\\xc2\\x02\\x00\\x00\\x00\\x00\\x00\\x00\\n\\x00\\x00\\x00\\x00\\x00\\x00\\x00\\x00\\x00\\x04\\x00\\x00\\x00\\x00\\x00\\x00\\x00\\x00\\x00\\x00\\x00\\x00\\x00\\x00\\x00\\x00\\x00\\x05\\x00\\x00\\x00z\\x00\\x00\\x00\\t\\x00\\x00\\x00\\x0e\\x00\\x00\\x00builtins.bytes\\x00\\x00\\x01\\x00\\x00\\x00\\x82\\x00\\x00\\x00\\xf0\\xd5P\\x18p0O3\\xaa\\\\\\xa2<x\\x8b\\xce\\xaeutc_timestamp\\x00\\x00\\x00\\x01\\x00\\x00\\x00\\x02\\x03\\x00\\x00\\x00\\x00\\x00\\x00\\x0b\\x00\\x00\\x00\\x00\\x00\\x00\\x00\\x00\\x00\\x04\\x00\\x00\\x00\\x00\\x00\\x00\\x00\\x00\\x00\\x00\\x00\\x00\\x00\\x00\\x00\\x00\\x00\\x05\\x00\\x00\\x00z\\x00\\x00\\x00\\t\\x00\\x00\\x00\\x0e\\x00\\x00\\x00builtins.float\\x00\\x00\\x01\\x00\\x00\\x00\\xaa\\x00\\x00\\x000x1.90dea9f34a937p+30\\x00\\x00\\x00id\\x00\\x00\\x00\\x00\\x00\\x00\\x01\\x00\\x00\\x00B\\x06\\x00\\x00\\x00\\x00\\x00\\x00\\x18\\x00\\x00\\x00\\x00\\x00\\x00\\x00\\x00\\x00\\x04\\x00\\x1d\\x00\\x00\\x00\\x0e\\x00\\x00\\x00\\x1d\\x00\\x00\\x00\\x0e\\x00\\x00\\x00\\x05\\x00\\x00\\x00\\xda\\x00\\x00\\x00\\x00\\x00\\x00\\x00\\x00\\x00\\x00\\x00syft.core.node.new.uid.UID\\x00\\x00\\x00\\x00\\x00\\x00\\x05\\x00\\x00\\x002\\x00\\x00\\x00\\x05\\x00\\x00\\x00\\x0e\\x00\\x00\\x00value\\x00\\x00\\x00\\x01\\x00\\x00\\x00\\xc2\\x02\\x00\\x00\\x00\\x00\\x00\\x00\\n\\x00\\x00\\x00\\x00\\x00\\x00\\x00\\x00\\x00\\x04\\x00\\x00\\x00\\x00\\x00\\x00\\x00\\x00\\x00\\x00\\x00\\x00\\x00\\x00\\x00\\x00\\x00\\x05\\x00\\x00\\x00z\\x00\\x00\\x00\\t\\x00\\x00\\x00\\x0e\\x00\\x00\\x00builtins.bytes\\x00\\x00\\x01\\x00\\x00\\x00\\x82\\x00\\x00\\x00a\\xc1\\x17O(\\xb8Ll\\xb2H\\xcf\\x9c\\xd9}|\\xd0retry\\x00\\x00\\x00\\x01\\x00\\x00\\x00\\x82\\x02\\x00\\x00\\x00\\x00\\x00\\x00\\t\\x00\\x00\\x00\\x00\\x00\\x00\\x00\\x00\\x00\\x04\\x00\\x00\\x00\\x00\\x00\\x00\\x00\\x00\\x00\\x00\\x00\\x00\\x00\\x00\\x00\\x00\\x00\\x05\\x00\\x00\\x00j\\x00\\x00\\x00\\t\\x00\\x00\\x00\\x0e\\x00\\x00\\x00builtins.int\\x00\\x00\\x00\\x00\\x01\\x00\\x00\\x00\\n\\x00\\x00\\x00\\x00\\x00\\x00\\x00\\x00\\x00\\x00\\x00status\\x00\\x00\\x01\\x00\\x00\\x00\\x82\\x06\\x00\\x00\\x00\\x00\\x00\\x00\\x19\\x00\\x00\\x00\\x00\\x00\\x00\\x00\\x00\\x00\\x04\\x00%\\x00\\x00\\x00\\x0e\\x00\\x00\\x00%\\x00\\x00\\x00\\x0e\\x00\\x00\\x00\\x05\\x00\\x00\\x00j\\x01\\x00\\x00\\x00\\x00\\x00\\x00\\x00\\x00\\x00\\x00syft.core.node.new.action_graph.ActionStatus\\x00\\x00\\x00\\x00\\x05\\x00\\x00\\x002\\x00\\x00\\x00\\x05\\x00\\x00\\x00\\x0e\\x00\\x00\\x00value\\x00\\x00\\x00\\x01\\x00\\x00\\x00\\x82\\x02\\x00\\x00\\x00\\x00\\x00\\x00\\t\\x00\\x00\\x00\\x00\\x00\\x00\\x00\\x00\\x00\\x04\\x00\\x00\\x00\\x00\\x00\\x00\\x00\\x00\\x00\\x00\\x00\\x00\\x00\\x00\\x00\\x00\\x00\\x05\\x00\\x00\\x00j\\x00\\x00\\x00\\t\\x00\\x00\\x00\\x0e\\x00\\x00\\x00builtins.int\\x00\\x00\\x00\\x00\\x01\\x00\\x00\\x00\\n\\x00\\x00\\x00\\x00\\x00\\x00\\x00\\x00\\x00\\x00\\x00\\x01\\x00\\x00\\x00\\xc2i\\x00\\x00\\x00\\x00\\x00\\x00\\xa6\\x01\\x00\\x00\\x00\\x00\\x00\\x00\\x00\\x00\\x04\\x00\\x00\\x00\\x00\\x00\\x00\\x00\\x00\\x00\\x00\\x00\\x00\\x00\\x00\\x00\\x00\\x00\\x05\\x00\\x00\\x00r\\x00\\x00\\x00\\t\\x00\\x00\\x00\\x0e\\x00\\x00\\x00builtins.dict\\x00\\x00\\x00\\x01\\x00\\x00\\x00\\x82g\\x00\\x00\\x00\\x00\\x00\\x00\\x9d\\x01\\x00\\x00\\x00\\x00\\x00\\x00\\x00\\x00\\x02\\x00\\x05\\x00\\x00\\x00\\x0e\\x00\\x00\\x00\\x05\\x00\\x00\\x00\\x0e\\x00\\x00\\x00\\x05\\x00\\x00\\x00\\x82b\\x00\\x00)\\x06\\x00\\x00\\x0e\\x00\\x00\\x00\\x00\\x00\\x00\\x00\\x89\\x01\\x00\\x00\\x00\\x00\\x00\\x00\\x00\\x00\\x04\\x00%\\x00\\x00\\x00.\\x00\\x00\\x005\\x00\\x00\\x00.\\x00\\x00\\x00\\x05\\x00\\x00\\x00\\x82\\x01\\x00\\x00\\x00\\x00\\x00\\x00\\x00\\x00\\x00\\x00syft.core.node.new.action_graph.ActionGraphNode\\x00%\\x00\\x00\\x00:\\x00\\x00\\x00\\xf5\\x03\\x00\\x00Z\\x00\\x00\\x00\\xe1\\x04\\x00\\x00\\x1a\\x00\\x00\\x00I\\x05\\x00\\x002\\x00\\x00\\x00u\\x05\\x00\\x00:\\x00\\x00\\x00\\x15\\x00\\x00\\x00\\x0e\\x00\\x00\\x00\\xe9\\x03\\x00\\x00\\x0e\\x00\\x00\\x00\\xd1\\x04\\x00\\x00\\x0e\\x00\\x00\\x009\\x05\\x00\\x00\\x0e\\x00\\x00\\x00e\\x05\\x00\\x00\\x0e\\x00\\x00\\x00action\\x00\\x00\\x01\\x00\\x00\\x00\\xc2<\\x00\\x00\\x00\\x00\\x00\\x00\\xf2\\x00\\x00\\x00\\x00\\x00\\x00\\x00\\x00\\x00\\x04\\x00!\\x00\\x00\\x00>\\x00\\x00\\x009\\x00\\x00\\x00>\\x00\\x00\\x00\\x05\\x00\\x00\\x00B\\x01\\x00\\x00\\x00\\x00\\x00\\x00\\x00\\x00\\x00\\x00syft.core.node.new.action_object.Action\\x005\\x00\\x00\\x00*\\x00\\x00\\x00\\x1d\\x01\\x00\\x00\\x1a\\x00\\x00\\x00\\x85\\x01\\x00\\x00:\\x00\\x00\\x00\\xbd\\x01\\x00\\x00\\x1a\\x00\\x00\\x00\\xe9\\x01\\x00\\x00*\\x00\\x00\\x00\\x19\\x02\\x00\\x00b\\x00\\x00\\x00\\xcd\\x02\\x00\\x00R\\x00\\x00\\x00\\x1d\\x00\\x00\\x00\\x0e\\x00\\x00\\x00\\x05\\x01\\x00\\x00\\x0e\\x00\\x00\\x00m\\x01\\x00\\x00\\x0e\\x00\\x00\\x00\\xa5\\x01\\x00\\x00\\x0e\\x00\\x00\\x00\\xd1\\x01\\x00\\x00\\x0e\\x00\\x00\\x00\\x05\\x02\\x00\\x00\\x0e\\x00\\x00\\x00\\xb9\\x02\\x00\\x00\\x0e\\x00\\x00\\x00args\\x00\\x00\\x00\\x00\\x01\\x00\\x00\\x00B\\x0e\\x00\\x00\\x00\\x00\\x00\\x008\\x00\\x00\\x00\\x00\\x00\\x00\\x00\\x00\\x00\\x04\\x00\\x00\\x00\\x00\\x00\\x00\\x00\\x00\\x00\\x00\\x00\\x00\\x00\\x00\\x00\\x00\\x00\\x05\\x00\\x00\\x00r\\x00\\x00\\x00\\t\\x00\\x00\\x00\\x0e\\x00\\x00\\x00builtins.list\\x00\\x00\\x00\\x01\\x00\\x00\\x00\\x02\\x0c\\x00\\x00\\x00\\x00\\x00\\x00/\\x00\\x00\\x00\\x00\\x00\\x00\\x00\\x00\\x00\\x01\\x00\\x01\\x00\\x00\\x00\\x0e\\x00\\x00\\x00\\x01\\x00\\x00\\x00\\x0e\\x00\\x00\\x00\\x01\\x00\\x00\\x00\\xc2\\n\\x00\\x00\\x00\\x00\\x00\\x00*\\x00\\x00\\x00\\x00\\x00\\x00\\x00\\x00\\x00\\x04\\x00!\\x00\\x00\\x00\\x16\\x00\\x00\\x00%\\x00\\x00\\x00\\x16\\x00\\x00\\x00\\x05\\x00\\x00\\x00\\n\\x01\\x00\\x00\\x00\\x00\\x00\\x00\\x00\\x00\\x00\\x00syft.core.node.new.uid.LineageID\\x00\\x00\\x00\\x00\\x00\\x00\\x00\\x00\\r\\x00\\x00\\x00\\x92\\x00\\x00\\x00E\\x00\\x00\\x002\\x00\\x00\\x00\\x11\\x00\\x00\\x00\\x0e\\x00\\x00\\x00A\\x00\\x00\\x00\\x0e\\x00\\x00\\x00syft_history_hash\\x00\\x00\\x00\\x00\\x00\\x00\\x00\\x01\\x00\\x00\\x00\\xc2\\x02\\x00\\x00\\x00\\x00\\x00\\x00\\n\\x00\\x00\\x00\\x00\\x00\\x00\\x00\\x00\\x00\\x04\\x00\\x00\\x00\\x00\\x00\\x00\\x00\\x00\\x00\\x00\\x00\\x00\\x00\\x00\\x00\\x00\\x00\\x05\\x00\\x00\\x00j\\x00\\x00\\x00\\t\\x00\\x00\\x00\\x0e\\x00\\x00\\x00builtins.int\\x00\\x00\\x00\\x00\\x01\\x00\\x00\\x00J\\x00\\x00\\x00\\x00\\x02\\xf5Nf\\x07\\xf4E\\xe0\\x00\\x00\\x00\\x00\\x00\\x00\\x00value\\x00\\x00\\x00\\x01\\x00\\x00\\x00\\xc2\\x02\\x00\\x00\\x00\\x00\\x00\\x00\\n\\x00\\x00\\x00\\x00\\x00\\x00\\x00\\x00\\x00\\x04\\x00\\x00\\x00\\x00\\x00\\x00\\x00\\x00\\x00\\x00\\x00\\x00\\x00\\x00\\x00\\x00\\x00\\x05\\x00\\x00\\x00z\\x00\\x00\\x00\\t\\x00\\x00\\x00\\x0e\\x00\\x00\\x00builtins.bytes\\x00\\x00\\x01\\x00\\x00\\x00\\x82\\x00\\x00\\x007\\xc0)\\xb6\\\\\\xecH1\\x84\\xf4\\x00\\xb3 \\x92\\x04Fid\\x00\\x00\\x00\\x00\\x00\\x00\\x01\\x00\\x00\\x00B\\x06\\x00\\x00\\x00\\x00\\x00\\x00\\x18\\x00\\x00\\x00\\x00\\x00\\x00\\x00\\x00\\x00\\x04\\x00\\x1d\\x00\\x00\\x00\\x0e\\x00\\x00\\x00\\x1d\\x00\\x00\\x00\\x0e\\x00\\x00\\x00\\x05\\x00\\x00\\x00\\xda\\x00\\x00\\x00\\x00\\x00\\x00\\x00\\x00\\x00\\x00\\x00syft.core.node.new.uid.UID\\x00\\x00\\x00\\x00\\x00\\x00\\x05\\x00\\x00\\x002\\x00\\x00\\x00\\x05\\x00\\x00\\x00\\x0e\\x00\\x00\\x00value\\x00\\x00\\x00\\x01\\x00\\x00\\x00\\xc2\\x02\\x00\\x00\\x00\\x00\\x00\\x00\\n\\x00\\x00\\x00\\x00\\x00\\x00\\x00\\x00\\x00\\x04\\x00\\x00\\x00\\x00\\x00\\x00\\x00\\x00\\x00\\x00\\x00\\x00\\x00\\x00\\x00\\x00\\x00\\x05\\x00\\x00\\x00z\\x00\\x00\\x00\\t\\x00\\x00\\x00\\x0e\\x00\\x00\\x00builtins.bytes\\x00\\x00\\x01\\x00\\x00\\x00\\x82\\x00\\x00\\x00a\\xc1\\x17O(\\xb8Ll\\xb2H\\xcf\\x9c\\xd9}|\\xd0kwargs\\x00\\x00\\x01\\x00\\x00\\x00B\\x03\\x00\\x00\\x00\\x00\\x00\\x00\\x0c\\x00\\x00\\x00\\x00\\x00\\x00\\x00\\x00\\x00\\x04\\x00\\x00\\x00\\x00\\x00\\x00\\x00\\x00\\x00\\x00\\x00\\x00\\x00\\x00\\x00\\x00\\x00\\x05\\x00\\x00\\x00r\\x00\\x00\\x00\\t\\x00\\x00\\x00\\x0e\\x00\\x00\\x00builtins.dict\\x00\\x00\\x00\\x01\\x00\\x00\\x00\\x02\\x01\\x00\\x00\\x00\\x00\\x00\\x00\\x03\\x00\\x00\\x00\\x00\\x00\\x00\\x00\\x00\\x00\\x02\\x00\\x05\\x00\\x00\\x00\\x06\\x00\\x00\\x00\\x01\\x00\\x00\\x00\\x06\\x00\\x00\\x00op\\x00\\x00\\x00\\x00\\x00\\x00\\x01\\x00\\x00\\x00\\x82\\x02\\x00\\x00\\x00\\x00\\x00\\x00\\t\\x00\\x00\\x00\\x00\\x00\\x00\\x00\\x00\\x00\\x04\\x00\\x00\\x00\\x00\\x00\\x00\\x00\\x00\\x00\\x00\\x00\\x00\\x00\\x00\\x00\\x00\\x00\\x05\\x00\\x00\\x00j\\x00\\x00\\x00\\t\\x00\\x00\\x00\\x0e\\x00\\x00\\x00builtins.str\\x00\\x00\\x00\\x00\\x01\\x00\\x00\\x00\\x1a\\x00\\x00\\x00add\\x00\\x00\\x00\\x00\\x00path\\x00\\x00\\x00\\x00\\x01\\x00\\x00\\x00\\xc2\\x02\\x00\\x00\\x00\\x00\\x00\\x00\\n\\x00\\x00\\x00\\x00\\x00\\x00\\x00\\x00\\x00\\x04\\x00\\x00\\x00\\x00\\x00\\x00\\x00\\x00\\x00\\x00\\x00\\x00\\x00\\x00\\x00\\x00\\x00\\x05\\x00\\x00\\x00j\\x00\\x00\\x00\\t\\x00\\x00\\x00\\x0e\\x00\\x00\\x00builtins.str\\x00\\x00\\x00\\x00\\x01\\x00\\x00\\x00\\x82\\x00\\x00\\x00NumpyArrayObjectremote_self\\x00\\x00\\x00\\x00\\x00\\x01\\x00\\x00\\x00\\xc2\\n\\x00\\x00\\x00\\x00\\x00\\x00*\\x00\\x00\\x00\\x00\\x00\\x00\\x00\\x00\\x00\\x04\\x00!\\x00\\x00\\x00\\x16\\x00\\x00\\x00%\\x00\\x00\\x00\\x16\\x00\\x00\\x00\\x05\\x00\\x00\\x00\\n\\x01\\x00\\x00\\x00\\x00\\x00\\x00\\x00\\x00\\x00\\x00syft.core.node.new.uid.LineageID\\x00\\x00\\x00\\x00\\x00\\x00\\x00\\x00\\r\\x00\\x00\\x00\\x92\\x00\\x00\\x00E\\x00\\x00\\x002\\x00\\x00\\x00\\x11\\x00\\x00\\x00\\x0e\\x00\\x00\\x00A\\x00\\x00\\x00\\x0e\\x00\\x00\\x00syft_history_hash\\x00\\x00\\x00\\x00\\x00\\x00\\x00\\x01\\x00\\x00\\x00\\xc2\\x02\\x00\\x00\\x00\\x00\\x00\\x00\\n\\x00\\x00\\x00\\x00\\x00\\x00\\x00\\x00\\x00\\x04\\x00\\x00\\x00\\x00\\x00\\x00\\x00\\x00\\x00\\x00\\x00\\x00\\x00\\x00\\x00\\x00\\x00\\x05\\x00\\x00\\x00j\\x00\\x00\\x00\\t\\x00\\x00\\x00\\x0e\\x00\\x00\\x00builtins.int\\x00\\x00\\x00\\x00\\x01\\x00\\x00\\x00J\\x00\\x00\\x00\\x00\\x16\\x96J \\xa0\\xce\\x9dl\\x00\\x00\\x00\\x00\\x00\\x00\\x00value\\x00\\x00\\x00\\x01\\x00\\x00\\x00\\xc2\\x02\\x00\\x00\\x00\\x00\\x00\\x00\\n\\x00\\x00\\x00\\x00\\x00\\x00\\x00\\x00\\x00\\x04\\x00\\x00\\x00\\x00\\x00\\x00\\x00\\x00\\x00\\x00\\x00\\x00\\x00\\x00\\x00\\x00\\x00\\x05\\x00\\x00\\x00z\\x00\\x00\\x00\\t\\x00\\x00\\x00\\x0e\\x00\\x00\\x00builtins.bytes\\x00\\x00\\x01\\x00\\x00\\x00\\x82\\x00\\x00\\x00\\x81\\x07\\xbc\\xe1\\xec\\xe1Et\\x8eXc\\x119\\xc4q\\xa8result_id\\x00\\x00\\x00\\x00\\x00\\x00\\x00\\x01\\x00\\x00\\x00\\xc2\\n\\x00\\x00\\x00\\x00\\x00\\x00*\\x00\\x00\\x00\\x00\\x00\\x00\\x00\\x00\\x00\\x04\\x00!\\x00\\x00\\x00\\x16\\x00\\x00\\x00%\\x00\\x00\\x00\\x16\\x00\\x00\\x00\\x05\\x00\\x00\\x00\\n\\x01\\x00\\x00\\x00\\x00\\x00\\x00\\x00\\x00\\x00\\x00syft.core.node.new.uid.LineageID\\x00\\x00\\x00\\x00\\x00\\x00\\x00\\x00\\r\\x00\\x00\\x00\\x92\\x00\\x00\\x00E\\x00\\x00\\x002\\x00\\x00\\x00\\x11\\x00\\x00\\x00\\x0e\\x00\\x00\\x00A\\x00\\x00\\x00\\x0e\\x00\\x00\\x00syft_history_hash\\x00\\x00\\x00\\x00\\x00\\x00\\x00\\x01\\x00\\x00\\x00\\xc2\\x02\\x00\\x00\\x00\\x00\\x00\\x00\\n\\x00\\x00\\x00\\x00\\x00\\x00\\x00\\x00\\x00\\x04\\x00\\x00\\x00\\x00\\x00\\x00\\x00\\x00\\x00\\x00\\x00\\x00\\x00\\x00\\x00\\x00\\x00\\x05\\x00\\x00\\x00j\\x00\\x00\\x00\\t\\x00\\x00\\x00\\x0e\\x00\\x00\\x00builtins.int\\x00\\x00\\x00\\x00\\x01\\x00\\x00\\x00J\\x00\\x00\\x00\\x00\\x06\\x8es\\x19$\\xa2P\\xf8\\x00\\x00\\x00\\x00\\x00\\x00\\x00value\\x00\\x00\\x00\\x01\\x00\\x00\\x00\\xc2\\x02\\x00\\x00\\x00\\x00\\x00\\x00\\n\\x00\\x00\\x00\\x00\\x00\\x00\\x00\\x00\\x00\\x04\\x00\\x00\\x00\\x00\\x00\\x00\\x00\\x00\\x00\\x00\\x00\\x00\\x00\\x00\\x00\\x00\\x00\\x05\\x00\\x00\\x00z\\x00\\x00\\x00\\t\\x00\\x00\\x00\\x0e\\x00\\x00\\x00builtins.bytes\\x00\\x00\\x01\\x00\\x00\\x00\\x82\\x00\\x00\\x00\\xf3\\x8a\\xe4\\xcc\\xac\\x98Au\\x8a7L\\xb3\\xbf\\xe0E\\x0fcreated_at\\x00\\x00\\x00\\x00\\x00\\x00\\x01\\x00\\x00\\x00B\\x0e\\x00\\x00\\x00\\x00\\x00\\x008\\x00\\x00\\x00\\x00\\x00\\x00\\x00\\x00\\x00\\x04\\x00!\\x00\\x00\\x00\\x16\\x00\\x00\\x00%\\x00\\x00\\x00\\x16\\x00\\x00\\x00\\x05\\x00\\x00\\x00*\\x01\\x00\\x00\\x00\\x00\\x00\\x00\\x00\\x00\\x00\\x00syft.core.node.new.datetime.DateTime\\x00\\x00\\x00\\x00\\r\\x00\\x00\\x00\\x1a\\x00\\x00\\x00u\\x00\\x00\\x00r\\x00\\x00\\x00\\t\\x00\\x00\\x00\\x0e\\x00\\x00\\x00u\\x00\\x00\\x00\\x0e\\x00\\x00\\x00id\\x00\\x00\\x00\\x00\\x00\\x00\\x01\\x00\\x00\\x00B\\x06\\x00\\x00\\x00\\x00\\x00\\x00\\x18\\x00\\x00\\x00\\x00\\x00\\x00\\x00\\x00\\x00\\x04\\x00\\x1d\\x00\\x00\\x00\\x0e\\x00\\x00\\x00\\x1d\\x00\\x00\\x00\\x0e\\x00\\x00\\x00\\x05\\x00\\x00\\x00\\xda\\x00\\x00\\x00\\x00\\x00\\x00\\x00\\x00\\x00\\x00\\x00syft.core.node.new.uid.UID\\x00\\x00\\x00\\x00\\x00\\x00\\x05\\x00\\x00\\x002\\x00\\x00\\x00\\x05\\x00\\x00\\x00\\x0e\\x00\\x00\\x00value\\x00\\x00\\x00\\x01\\x00\\x00\\x00\\xc2\\x02\\x00\\x00\\x00\\x00\\x00\\x00\\n\\x00\\x00\\x00\\x00\\x00\\x00\\x00\\x00\\x00\\x04\\x00\\x00\\x00\\x00\\x00\\x00\\x00\\x00\\x00\\x00\\x00\\x00\\x00\\x00\\x00\\x00\\x00\\x05\\x00\\x00\\x00z\\x00\\x00\\x00\\t\\x00\\x00\\x00\\x0e\\x00\\x00\\x00builtins.bytes\\x00\\x00\\x01\\x00\\x00\\x00\\x82\\x00\\x00\\x00\\xf0\\xd5P\\x18p0O3\\xaa\\\\\\xa2<x\\x8b\\xce\\xaeutc_timestamp\\x00\\x00\\x00\\x01\\x00\\x00\\x00\\x02\\x03\\x00\\x00\\x00\\x00\\x00\\x00\\x0b\\x00\\x00\\x00\\x00\\x00\\x00\\x00\\x00\\x00\\x04\\x00\\x00\\x00\\x00\\x00\\x00\\x00\\x00\\x00\\x00\\x00\\x00\\x00\\x00\\x00\\x00\\x00\\x05\\x00\\x00\\x00z\\x00\\x00\\x00\\t\\x00\\x00\\x00\\x0e\\x00\\x00\\x00builtins.float\\x00\\x00\\x01\\x00\\x00\\x00\\xaa\\x00\\x00\\x000x1.90dea9f34a937p+30\\x00\\x00\\x00id\\x00\\x00\\x00\\x00\\x00\\x00\\x01\\x00\\x00\\x00B\\x06\\x00\\x00\\x00\\x00\\x00\\x00\\x18\\x00\\x00\\x00\\x00\\x00\\x00\\x00\\x00\\x00\\x04\\x00\\x1d\\x00\\x00\\x00\\x0e\\x00\\x00\\x00\\x1d\\x00\\x00\\x00\\x0e\\x00\\x00\\x00\\x05\\x00\\x00\\x00\\xda\\x00\\x00\\x00\\x00\\x00\\x00\\x00\\x00\\x00\\x00\\x00syft.core.node.new.uid.UID\\x00\\x00\\x00\\x00\\x00\\x00\\x05\\x00\\x00\\x002\\x00\\x00\\x00\\x05\\x00\\x00\\x00\\x0e\\x00\\x00\\x00value\\x00\\x00\\x00\\x01\\x00\\x00\\x00\\xc2\\x02\\x00\\x00\\x00\\x00\\x00\\x00\\n\\x00\\x00\\x00\\x00\\x00\\x00\\x00\\x00\\x00\\x04\\x00\\x00\\x00\\x00\\x00\\x00\\x00\\x00\\x00\\x00\\x00\\x00\\x00\\x00\\x00\\x00\\x00\\x05\\x00\\x00\\x00z\\x00\\x00\\x00\\t\\x00\\x00\\x00\\x0e\\x00\\x00\\x00builtins.bytes\\x00\\x00\\x01\\x00\\x00\\x00\\x82\\x00\\x00\\x00a\\xc1\\x17O(\\xb8Ll\\xb2H\\xcf\\x9c\\xd9}|\\xd0retry\\x00\\x00\\x00\\x01\\x00\\x00\\x00\\x82\\x02\\x00\\x00\\x00\\x00\\x00\\x00\\t\\x00\\x00\\x00\\x00\\x00\\x00\\x00\\x00\\x00\\x04\\x00\\x00\\x00\\x00\\x00\\x00\\x00\\x00\\x00\\x00\\x00\\x00\\x00\\x00\\x00\\x00\\x00\\x05\\x00\\x00\\x00j\\x00\\x00\\x00\\t\\x00\\x00\\x00\\x0e\\x00\\x00\\x00builtins.int\\x00\\x00\\x00\\x00\\x01\\x00\\x00\\x00\\n\\x00\\x00\\x00\\x00\\x00\\x00\\x00\\x00\\x00\\x00\\x00status\\x00\\x00\\x01\\x00\\x00\\x00\\x82\\x06\\x00\\x00\\x00\\x00\\x00\\x00\\x19\\x00\\x00\\x00\\x00\\x00\\x00\\x00\\x00\\x00\\x04\\x00%\\x00\\x00\\x00\\x0e\\x00\\x00\\x00%\\x00\\x00\\x00\\x0e\\x00\\x00\\x00\\x05\\x00\\x00\\x00j\\x01\\x00\\x00\\x00\\x00\\x00\\x00\\x00\\x00\\x00\\x00syft.core.node.new.action_graph.ActionStatus\\x00\\x00\\x00\\x00\\x05\\x00\\x00\\x002\\x00\\x00\\x00\\x05\\x00\\x00\\x00\\x0e\\x00\\x00\\x00value\\x00\\x00\\x00\\x01\\x00\\x00\\x00\\x82\\x02\\x00\\x00\\x00\\x00\\x00\\x00\\t\\x00\\x00\\x00\\x00\\x00\\x00\\x00\\x00\\x00\\x04\\x00\\x00\\x00\\x00\\x00\\x00\\x00\\x00\\x00\\x00\\x00\\x00\\x00\\x00\\x00\\x00\\x00\\x05\\x00\\x00\\x00j\\x00\\x00\\x00\\t\\x00\\x00\\x00\\x0e\\x00\\x00\\x00builtins.int\\x00\\x00\\x00\\x00\\x01\\x00\\x00\\x00\\n\\x00\\x00\\x00\\x00\\x00\\x00\\x00\\x00\\x00\\x00\\x00\\x01\\x00\\x00\\x00B\\x03\\x00\\x00\\x00\\x00\\x00\\x00\\x0c\\x00\\x00\\x00\\x00\\x00\\x00\\x00\\x00\\x00\\x04\\x00\\x00\\x00\\x00\\x00\\x00\\x00\\x00\\x00\\x00\\x00\\x00\\x00\\x00\\x00\\x00\\x00\\x05\\x00\\x00\\x00r\\x00\\x00\\x00\\t\\x00\\x00\\x00\\x0e\\x00\\x00\\x00builtins.dict\\x00\\x00\\x00\\x01\\x00\\x00\\x00\\x02\\x01\\x00\\x00\\x00\\x00\\x00\\x00\\x03\\x00\\x00\\x00\\x00\\x00\\x00\\x00\\x00\\x00\\x02\\x00\\x05\\x00\\x00\\x00\\x06\\x00\\x00\\x00\\x01\\x00\\x00\\x00\\x06\\x00\\x00\\x00'"
      ]
     },
     "execution_count": 55,
     "metadata": {},
     "output_type": "execute_result"
    }
   ],
   "source": [
    "s"
   ]
  },
  {
   "cell_type": "code",
   "execution_count": 56,
   "id": "bc67ca66",
   "metadata": {},
   "outputs": [],
   "source": [
    "d = sy.deserialize(s, from_bytes=True)"
   ]
  },
  {
   "cell_type": "code",
   "execution_count": 57,
   "id": "87387481",
   "metadata": {},
   "outputs": [
    {
     "data": {
      "text/html": [
       "{class ActionGraphNode:\n",
       "  id: str = 0f631a39ba62494086520c8eeecd8e8e\n",
       "  action: str = syft.core.node.new.action_object.Action\n",
       "  status: str = ActionStatus.PROCESSING\n",
       "  retry: str = 0\n",
       "  created_at: str = 2023-04-13 07:08:44\n",
       ": {class ActionGraphNode:\n",
       "  id: str = 0f631a39ba62494086520c8eeecd8e8e\n",
       "  action: str = syft.core.node.new.action_object.Action\n",
       "  status: str = ActionStatus.PROCESSING\n",
       "  retry: str = 0\n",
       "  created_at: str = 2023-04-13 07:08:44\n",
       ": {}, class ActionGraphNode:\n",
       "  id: str = 61c1174f28b84c6cb248cf9cd97d7cd0\n",
       "  action: str = syft.core.node.new.action_object.Action\n",
       "  status: str = ActionStatus.PROCESSING\n",
       "  retry: str = 0\n",
       "  created_at: str = 2023-04-13 07:08:44\n",
       ": {}}, class ActionGraphNode:\n",
       "  id: str = 2b4a6acbf21e40458544956d2b984fb8\n",
       "  action: str = syft.core.node.new.action_object.Action\n",
       "  status: str = ActionStatus.PROCESSING\n",
       "  retry: str = 0\n",
       "  created_at: str = 2023-04-13 07:08:44\n",
       ": {class ActionGraphNode:\n",
       "  id: str = 2b4a6acbf21e40458544956d2b984fb8\n",
       "  action: str = syft.core.node.new.action_object.Action\n",
       "  status: str = ActionStatus.PROCESSING\n",
       "  retry: str = 0\n",
       "  created_at: str = 2023-04-13 07:08:44\n",
       ": {}, class ActionGraphNode:\n",
       "  id: str = 61c1174f28b84c6cb248cf9cd97d7cd0\n",
       "  action: str = syft.core.node.new.action_object.Action\n",
       "  status: str = ActionStatus.PROCESSING\n",
       "  retry: str = 0\n",
       "  created_at: str = 2023-04-13 07:08:44\n",
       ": {}}, class ActionGraphNode:\n",
       "  id: str = 61c1174f28b84c6cb248cf9cd97d7cd0\n",
       "  action: str = syft.core.node.new.action_object.Action\n",
       "  status: str = ActionStatus.PROCESSING\n",
       "  retry: str = 0\n",
       "  created_at: str = 2023-04-13 07:08:44\n",
       ": {class ActionGraphNode:\n",
       "  id: str = 61c1174f28b84c6cb248cf9cd97d7cd0\n",
       "  action: str = syft.core.node.new.action_object.Action\n",
       "  status: str = ActionStatus.PROCESSING\n",
       "  retry: str = 0\n",
       "  created_at: str = 2023-04-13 07:08:44\n",
       ": {}}}"
      ],
      "text/plain": [
       "{class ActionGraphNode:\n",
       "   id: str = 0f631a39ba62494086520c8eeecd8e8e\n",
       "   action: str = syft.core.node.new.action_object.Action\n",
       "   status: str = ActionStatus.PROCESSING\n",
       "   retry: str = 0\n",
       "   created_at: str = 2023-04-13 07:08:44: {class ActionGraphNode:\n",
       "    id: str = 0f631a39ba62494086520c8eeecd8e8e\n",
       "    action: str = syft.core.node.new.action_object.Action\n",
       "    status: str = ActionStatus.PROCESSING\n",
       "    retry: str = 0\n",
       "    created_at: str = 2023-04-13 07:08:44: {},\n",
       "  class ActionGraphNode:\n",
       "    id: str = 61c1174f28b84c6cb248cf9cd97d7cd0\n",
       "    action: str = syft.core.node.new.action_object.Action\n",
       "    status: str = ActionStatus.PROCESSING\n",
       "    retry: str = 0\n",
       "    created_at: str = 2023-04-13 07:08:44: {}},\n",
       " class ActionGraphNode:\n",
       "   id: str = 2b4a6acbf21e40458544956d2b984fb8\n",
       "   action: str = syft.core.node.new.action_object.Action\n",
       "   status: str = ActionStatus.PROCESSING\n",
       "   retry: str = 0\n",
       "   created_at: str = 2023-04-13 07:08:44: {class ActionGraphNode:\n",
       "    id: str = 2b4a6acbf21e40458544956d2b984fb8\n",
       "    action: str = syft.core.node.new.action_object.Action\n",
       "    status: str = ActionStatus.PROCESSING\n",
       "    retry: str = 0\n",
       "    created_at: str = 2023-04-13 07:08:44: {},\n",
       "  class ActionGraphNode:\n",
       "    id: str = 61c1174f28b84c6cb248cf9cd97d7cd0\n",
       "    action: str = syft.core.node.new.action_object.Action\n",
       "    status: str = ActionStatus.PROCESSING\n",
       "    retry: str = 0\n",
       "    created_at: str = 2023-04-13 07:08:44: {}},\n",
       " class ActionGraphNode:\n",
       "   id: str = 61c1174f28b84c6cb248cf9cd97d7cd0\n",
       "   action: str = syft.core.node.new.action_object.Action\n",
       "   status: str = ActionStatus.PROCESSING\n",
       "   retry: str = 0\n",
       "   created_at: str = 2023-04-13 07:08:44: {class ActionGraphNode:\n",
       "    id: str = 61c1174f28b84c6cb248cf9cd97d7cd0\n",
       "    action: str = syft.core.node.new.action_object.Action\n",
       "    status: str = ActionStatus.PROCESSING\n",
       "    retry: str = 0\n",
       "    created_at: str = 2023-04-13 07:08:44: {}}}"
      ]
     },
     "execution_count": 57,
     "metadata": {},
     "output_type": "execute_result"
    }
   ],
   "source": [
    "d"
   ]
  },
  {
   "cell_type": "code",
   "execution_count": 58,
   "id": "d9069512",
   "metadata": {},
   "outputs": [
    {
     "data": {
      "text/plain": [
       "True"
      ]
     },
     "execution_count": 58,
     "metadata": {},
     "output_type": "execute_result"
    }
   ],
   "source": [
    "d == graph_dict"
   ]
  },
  {
   "cell_type": "code",
   "execution_count": 51,
   "id": "58060aa7",
   "metadata": {},
   "outputs": [],
   "source": [
    "regraph = nx.from_dict_of_dicts(d)"
   ]
  },
  {
   "cell_type": "code",
   "execution_count": 52,
   "id": "4e7fd850",
   "metadata": {},
   "outputs": [
    {
     "data": {
      "text/plain": [
       "True"
      ]
     },
     "execution_count": 52,
     "metadata": {},
     "output_type": "execute_result"
    }
   ],
   "source": [
    "regraph.edges() == graph.edges()"
   ]
  },
  {
   "cell_type": "code",
   "execution_count": 53,
   "id": "d4af71ae",
   "metadata": {
    "scrolled": true
   },
   "outputs": [
    {
     "data": {
      "text/plain": [
       "True"
      ]
     },
     "execution_count": 53,
     "metadata": {},
     "output_type": "execute_result"
    }
   ],
   "source": [
    "regraph.nodes() == graph.nodes()"
   ]
  },
  {
   "cell_type": "code",
   "execution_count": null,
   "id": "12501fb4",
   "metadata": {},
   "outputs": [],
   "source": []
  },
  {
   "cell_type": "code",
   "execution_count": null,
   "id": "6361a505",
   "metadata": {},
   "outputs": [],
   "source": []
  },
  {
   "cell_type": "code",
   "execution_count": null,
   "id": "68b4b5b4",
   "metadata": {},
   "outputs": [],
   "source": []
  },
  {
   "cell_type": "code",
   "execution_count": null,
   "id": "10bf69df",
   "metadata": {},
   "outputs": [],
   "source": []
  },
  {
   "cell_type": "code",
   "execution_count": null,
   "id": "443eb463",
   "metadata": {},
   "outputs": [],
   "source": []
  },
  {
   "cell_type": "code",
   "execution_count": null,
   "id": "d9903856",
   "metadata": {},
   "outputs": [],
   "source": []
  },
  {
   "cell_type": "code",
   "execution_count": null,
   "id": "3d2bbc94",
   "metadata": {},
   "outputs": [],
   "source": [
    "class ActionGraph:\n",
    "    def __init__(self):\n",
    "        self.graph = nx.DiGraph()\n",
    "        \n",
    "    def add(self, node: ActionGraphObject):\n",
    "        self.graph.add_node(node.id, data=node)\n",
    "        \n",
    "    def add_relationship(self, nodeA: ActionGraphObject, nodeB: ActionGraphObject):\n",
    "        self.graph.add_edge(nodeA, nodeB)\n",
    "        \n",
    "    def remove_node(self, node: ActionGraphObject):\n",
    "        self.graph.remove_node(node)\n",
    "    \n",
    "    def remove_edge(self, node: ActionGraphObject):\n",
    "        self.graph.remove_edge(node)\n",
    "        \n",
    "    def neighbors_for(self, node: ActionGraphObject):\n",
    "        return list(self.graph.neighbors(node))\n",
    "        \n",
    "    def visualize(self, arrows: bool = True):\n",
    "        return nx.draw_networkx(self.graph)\n",
    "        \n",
    "    def remove_all_nodes_from(self, node: ActionGraphObject):\n",
    "        all_adjacent_neighbors: list = []\n",
    "            \n",
    "        def find_adjacent_neighbors(node: ActionGraphObject, neighbors: set):           \n",
    "            if not self.graph.neighbors(node):\n",
    "                return \n",
    "\n",
    "            my_neighbors = self.graph.neighbors(node)\n",
    "            for n in my_neighbors:\n",
    "                if n not in neighbors:\n",
    "                    neighbors.add(n)\n",
    "                    self.find_adjacent_neighbors(n, neighbors)\n",
    "                \n",
    "        find_adjacent_neighbors(all_adjacent_neighbors)\n",
    "        return all_adjacent_neighbors"
   ]
  },
  {
   "cell_type": "code",
   "execution_count": null,
   "id": "f0916aba",
   "metadata": {},
   "outputs": [],
   "source": [
    "graph = ActionGraph()"
   ]
  },
  {
   "cell_type": "code",
   "execution_count": null,
   "id": "d12419c4",
   "metadata": {},
   "outputs": [],
   "source": [
    "ago_a = ActionGraphObject.from_action_obj(action_obj_a)\n",
    "ago_b = ActionGraphObject.from_action_obj(action_obj_b)"
   ]
  },
  {
   "cell_type": "code",
   "execution_count": null,
   "id": "623534f7",
   "metadata": {},
   "outputs": [],
   "source": [
    "ago_ack = ActionGraphObject.from_action(action)"
   ]
  },
  {
   "cell_type": "code",
   "execution_count": null,
   "id": "529690cf",
   "metadata": {},
   "outputs": [],
   "source": [
    "graph.add(ago_a)"
   ]
  },
  {
   "cell_type": "code",
   "execution_count": null,
   "id": "6ce64e97",
   "metadata": {},
   "outputs": [],
   "source": [
    "graph.add(ago_b)"
   ]
  },
  {
   "cell_type": "code",
   "execution_count": null,
   "id": "2c5c6508",
   "metadata": {},
   "outputs": [],
   "source": [
    "graph.add(ago_ack)"
   ]
  },
  {
   "cell_type": "code",
   "execution_count": null,
   "id": "f8489ae0",
   "metadata": {},
   "outputs": [],
   "source": [
    "graph.add_relationship(ago_b.id, ago_ack.id)"
   ]
  },
  {
   "cell_type": "code",
   "execution_count": null,
   "id": "d9189c25",
   "metadata": {},
   "outputs": [],
   "source": [
    "graph.visualize()"
   ]
  },
  {
   "cell_type": "code",
   "execution_count": null,
   "id": "8f41c44e",
   "metadata": {},
   "outputs": [],
   "source": [
    "list(graph.graph.successors(ago_a.id))[0]"
   ]
  },
  {
   "cell_type": "code",
   "execution_count": null,
   "id": "ed4a61c4",
   "metadata": {},
   "outputs": [],
   "source": [
    "action"
   ]
  },
  {
   "cell_type": "code",
   "execution_count": null,
   "id": "07d7f1ce",
   "metadata": {},
   "outputs": [],
   "source": []
  }
 ],
 "metadata": {
  "kernelspec": {
   "display_name": "Python 3 (ipykernel)",
   "language": "python",
   "name": "python3"
  },
  "language_info": {
   "codemirror_mode": {
    "name": "ipython",
    "version": 3
   },
   "file_extension": ".py",
   "mimetype": "text/x-python",
   "name": "python",
   "nbconvert_exporter": "python",
   "pygments_lexer": "ipython3",
   "version": "3.9.7"
  }
 },
 "nbformat": 4,
 "nbformat_minor": 5
}
