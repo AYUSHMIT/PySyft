{
 "cells": [
  {
   "cell_type": "code",
   "execution_count": 1,
   "id": "d27c68a4",
   "metadata": {},
   "outputs": [],
   "source": [
    "# Add a node\n",
    "# Link nodes via an edge\n",
    "# Delete a node and related children\n",
    "# Update a Node\n",
    "# Update an Edge\n",
    "# Delete an Edge\n",
    "\n",
    "import networkx as nx"
   ]
  },
  {
   "cell_type": "code",
   "execution_count": 2,
   "id": "71524fb8",
   "metadata": {},
   "outputs": [
    {
     "name": "stderr",
     "output_type": "stream",
     "text": [
      "kj/filesystem-disk-unix.c++:1703: warning: PWD environment variable doesn't match current directory; pwd = /home/shubham/PySyft\n"
     ]
    }
   ],
   "source": [
    "from syft.core.node.new.action_graph import ActionGraphObject, Action, ActionObject\n",
    "from syft.core.node.new.numpy import NumpyArrayObject\n",
    "import numpy as np"
   ]
  },
  {
   "cell_type": "code",
   "execution_count": 3,
   "id": "97417939",
   "metadata": {},
   "outputs": [],
   "source": [
    "action_obj_a = NumpyArrayObject(syft_action_data=np.array([1, 2, 4]))\n",
    "action_obj_b = NumpyArrayObject(syft_action_data=np.array([2, 4, 6]))"
   ]
  },
  {
   "cell_type": "code",
   "execution_count": 4,
   "id": "1deafa36",
   "metadata": {},
   "outputs": [],
   "source": [
    "action = action_obj_a.syft_make_method_action(op='add', args=[action_obj_b])"
   ]
  },
  {
   "cell_type": "code",
   "execution_count": 5,
   "id": "ab14d1f2",
   "metadata": {},
   "outputs": [
    {
     "data": {
      "text/plain": [
       "1466724732665156528"
      ]
     },
     "execution_count": 5,
     "metadata": {},
     "output_type": "execute_result"
    }
   ],
   "source": [
    "action_obj_a.syft_history_hash"
   ]
  },
  {
   "cell_type": "code",
   "execution_count": 6,
   "id": "34a751bb",
   "metadata": {},
   "outputs": [
    {
     "data": {
      "text/markdown": [
       "```python\n",
       "class Action:\n",
       "  id: str = 696062e144564187a4259f09f794732f\n",
       "  path: str = \"NumpyArrayObject\"\n",
       "  op: str = \"add\"\n",
       "  remote_self: str = 1ac2ce6cefa643d49e4466f814973505\n",
       "  args: str = [<LineageID: 168468f170b94c069fd672ca83cb14b4 - 1439386434612327662>]\n",
       "  kwargs: str = {}\n",
       "  result_id: str = ad175ed5e9a34079925976835513f916\n",
       "\n",
       "```"
      ],
      "text/plain": [
       "syft.core.node.new.action_object.Action"
      ]
     },
     "execution_count": 6,
     "metadata": {},
     "output_type": "execute_result"
    }
   ],
   "source": [
    "action"
   ]
  },
  {
   "cell_type": "code",
   "execution_count": 7,
   "id": "3d2bbc94",
   "metadata": {},
   "outputs": [],
   "source": [
    "class ActionGraph:\n",
    "    def __init__(self):\n",
    "        self.graph = nx.DiGraph()\n",
    "        \n",
    "    def add(self, node: ActionGraphObject):\n",
    "        self.graph.add_node(node.id, data=node)\n",
    "        \n",
    "    def add_relationship(self, nodeA: ActionGraphObject, nodeB: ActionGraphObject):\n",
    "        self.graph.add_edge(nodeA, nodeB)\n",
    "        \n",
    "    def remove_node(self, node: ActionGraphObject):\n",
    "        self.graph.remove_node(node)\n",
    "    \n",
    "    def remove_edge(self, node: ActionGraphObject):\n",
    "        self.graph.remove_edge(node)\n",
    "        \n",
    "    def neighbors_for(self, node: ActionGraphObject):\n",
    "        return list(self.graph.neighbors(node))\n",
    "        \n",
    "    def visualize(self, arrows: bool = True):\n",
    "        return nx.draw_networkx(self.graph)\n",
    "        \n",
    "    def remove_all_nodes_from(self, node: ActionGraphObject):\n",
    "        all_adjacent_neighbors: list = []\n",
    "            \n",
    "        def find_adjacent_neighbors(node: ActionGraphObject, neighbors: set):           \n",
    "            if not self.graph.neighbors(node):\n",
    "                return \n",
    "\n",
    "            my_neighbors = self.graph.neighbors(node)\n",
    "            for n in my_neighbors:\n",
    "                if n not in neighbors:\n",
    "                    neighbors.add(n)\n",
    "                    self.find_adjacent_neighbors(n, neighbors)\n",
    "                \n",
    "        find_adjacent_neighbors(all_adjacent_neighbors)\n",
    "        return all_adjacent_neighbors"
   ]
  },
  {
   "cell_type": "code",
   "execution_count": 8,
   "id": "f0916aba",
   "metadata": {},
   "outputs": [],
   "source": [
    "graph = ActionGraph()"
   ]
  },
  {
   "cell_type": "code",
   "execution_count": 9,
   "id": "d12419c4",
   "metadata": {},
   "outputs": [],
   "source": [
    "ago_a = ActionGraphObject.from_action_obj(action_obj_a)\n",
    "ago_b = ActionGraphObject.from_action_obj(action_obj_b)"
   ]
  },
  {
   "cell_type": "code",
   "execution_count": 10,
   "id": "623534f7",
   "metadata": {},
   "outputs": [],
   "source": [
    "ago_ack = ActionGraphObject.from_action(action)"
   ]
  },
  {
   "cell_type": "code",
   "execution_count": 12,
   "id": "529690cf",
   "metadata": {},
   "outputs": [],
   "source": [
    "graph.add(ago_a)"
   ]
  },
  {
   "cell_type": "code",
   "execution_count": 13,
   "id": "6ce64e97",
   "metadata": {},
   "outputs": [],
   "source": [
    "graph.add(ago_b)"
   ]
  },
  {
   "cell_type": "code",
   "execution_count": 14,
   "id": "2c5c6508",
   "metadata": {},
   "outputs": [],
   "source": [
    "graph.add(ago_ack)"
   ]
  },
  {
   "cell_type": "code",
   "execution_count": 19,
   "id": "f8489ae0",
   "metadata": {},
   "outputs": [],
   "source": [
    "graph.add_relationship(ago_b.id, ago_ack.id)"
   ]
  },
  {
   "cell_type": "code",
   "execution_count": 25,
   "id": "d9189c25",
   "metadata": {},
   "outputs": [
    {
     "data": {
      "image/png": "[encoded data removed]",
      "text/plain": [
       "<Figure size 432x288 with 1 Axes>"
      ]
     },
     "metadata": {},
     "output_type": "display_data"
    }
   ],
   "source": [
    "graph.visualize()"
   ]
  },
  {
   "cell_type": "code",
   "execution_count": 44,
   "id": "8f41c44e",
   "metadata": {},
   "outputs": [
    {
     "data": {
      "text/plain": [
       "<UID: 696062e144564187a4259f09f794732f>"
      ]
     },
     "execution_count": 44,
     "metadata": {},
     "output_type": "execute_result"
    }
   ],
   "source": [
    "list(graph.graph.successors(ago_a.id))[0]"
   ]
  },
  {
   "cell_type": "code",
   "execution_count": 26,
   "id": "ed4a61c4",
   "metadata": {},
   "outputs": [
    {
     "data": {
      "text/markdown": [
       "```python\n",
       "class Action:\n",
       "  id: str = 696062e144564187a4259f09f794732f\n",
       "  path: str = \"NumpyArrayObject\"\n",
       "  op: str = \"add\"\n",
       "  remote_self: str = 1ac2ce6cefa643d49e4466f814973505\n",
       "  args: str = [<LineageID: 168468f170b94c069fd672ca83cb14b4 - 1439386434612327662>]\n",
       "  kwargs: str = {}\n",
       "  result_id: str = ad175ed5e9a34079925976835513f916\n",
       "\n",
       "```"
      ],
      "text/plain": [
       "syft.core.node.new.action_object.Action"
      ]
     },
     "execution_count": 26,
     "metadata": {},
     "output_type": "execute_result"
    }
   ],
   "source": [
    "action"
   ]
  },
  {
   "cell_type": "code",
   "execution_count": null,
   "id": "07d7f1ce",
   "metadata": {},
   "outputs": [],
   "source": []
  }
 ],
 "metadata": {
  "kernelspec": {
   "display_name": "Python 3 (ipykernel)",
   "language": "python",
   "name": "python3"
  },
  "language_info": {
   "codemirror_mode": {
    "name": "ipython",
    "version": 3
   },
   "file_extension": ".py",
   "mimetype": "text/x-python",
   "name": "python",
   "nbconvert_exporter": "python",
   "pygments_lexer": "ipython3",
   "version": "3.9.7"
  }
 },
 "nbformat": 4,
 "nbformat_minor": 5
}
