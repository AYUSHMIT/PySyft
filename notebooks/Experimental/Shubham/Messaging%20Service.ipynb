{
 "cells": [
  {
   "cell_type": "code",
   "execution_count": 1,
   "id": "381fe96f",
   "metadata": {},
   "outputs": [
    {
     "name": "stderr",
     "output_type": "stream",
     "text": [
      "kj/filesystem-disk-unix.c++:1703: warning: PWD environment variable doesn't match current directory; pwd = /home/shubham/PySyft\n"
     ]
    }
   ],
   "source": [
    "import syft as sy"
   ]
  },
  {
   "cell_type": "code",
   "execution_count": 2,
   "id": "76864043",
   "metadata": {},
   "outputs": [
    {
     "name": "stdout",
     "output_type": "stream",
     "text": [
      "SQLite Store Path:\n",
      "!open file:///tmp/34aa1081c5b63c28d0343512980e8df6.sqlite\n",
      "\n",
      "> Starting Worker: worker1 - 34aa1081c5b63c28d0343512980e8df6 [<class 'syft.core.node.new.user_service.UserService'>, <class 'syft.core.node.new.action_service.ActionService'>, <class 'syft.core.node.new.test_service.TestService'>, <class 'syft.core.node.new.dataset_service.DatasetService'>, <class 'syft.core.node.new.user_code_service.UserCodeService'>, <class 'syft.core.node.new.request_service.RequestService'>, <class 'syft.core.node.new.data_subject_service.DataSubjectService'>, <class 'syft.core.node.new.network_service.NetworkService'>, <class 'syft.core.node.new.message_service.MessageService'>]\n",
      "metadata_version=1 name='worker1' id='34aa1081c5b63c28d0343512980e8df6' verify_key='6f78b14f8d5afc192848ebcad304ec02388c52957f5767c1805a0c2916b32638' highest_object_version=2 lowest_object_version=1 syft_version='0.8.0-beta.0'\n",
      "Logged into worker1 as <info@openmined.org>\n"
     ]
    }
   ],
   "source": [
    "worker1 = sy.Worker.named(\"worker1\", processes=1)\n",
    "domain1 = sy.login(node=worker1, email=\"info@openmined.org\", password=\"changethis\")\n",
    "\n",
    "# worker2 = sy.Worker.named(\"worker2\", processes=1)\n",
    "# domain2 = sy.login(node=worker2, email=\"info@openmined.org\", password=\"changethis\")\n",
    "\n",
    "# domain2.exchange_route(domain1)"
   ]
  },
  {
   "cell_type": "code",
   "execution_count": 3,
   "id": "1328f8d7",
   "metadata": {},
   "outputs": [
    {
     "name": "stdout",
     "output_type": "stream",
     "text": [
      "Context Credentials: 135a37f848bae6db8d7af29b646345f1b3d2f263c3859c3f28af48242f517ceb\n"
     ]
    },
    {
     "data": {
      "text/html": [
       "List - Size: 1\n",
       "<div>\n",
       "<style scoped>\n",
       "    .dataframe tbody tr th:only-of-type {\n",
       "        vertical-align: middle;\n",
       "    }\n",
       "\n",
       "    .dataframe tbody tr th {\n",
       "        vertical-align: top;\n",
       "    }\n",
       "\n",
       "    .dataframe thead th {\n",
       "        text-align: right;\n",
       "    }\n",
       "</style>\n",
       "<table border=\"1\" class=\"dataframe\">\n",
       "  <thead>\n",
       "    <tr style=\"text-align: right;\">\n",
       "      <th></th>\n",
       "      <th>type</th>\n",
       "      <th>id</th>\n",
       "      <th>subject</th>\n",
       "      <th>status</th>\n",
       "      <th>created_at</th>\n",
       "      <th>linked_document</th>\n",
       "    </tr>\n",
       "  </thead>\n",
       "  <tbody>\n",
       "    <tr>\n",
       "      <th>0</th>\n",
       "      <td>syft.core.node.new.messages.Message</td>\n",
       "      <td>fad5ffd7f5f34039933ee38fedbab0b7</td>\n",
       "      <td>Hello Message</td>\n",
       "      <td>MessageStatus.DELIVERED</td>\n",
       "      <td>2023-02-21 22:19:11.568299</td>\n",
       "      <td>&lt;User: 7b1ff99c7fa04d4fa0532860adfbfc64&gt;</td>\n",
       "    </tr>\n",
       "  </tbody>\n",
       "</table>\n",
       "</div>"
      ],
      "text/plain": [
       "[syft.core.node.new.messages.Message]"
      ]
     },
     "execution_count": 3,
     "metadata": {},
     "output_type": "execute_result"
    }
   ],
   "source": [
    "domain1.api.services.messages.get_all()"
   ]
  },
  {
   "cell_type": "code",
   "execution_count": 4,
   "id": "a8ca3a31",
   "metadata": {},
   "outputs": [],
   "source": [
    "from syft.core.node.new.messages import CreateMessage, LinkedDocument\n",
    "from syft.core.node.new.user_service import UserService"
   ]
  },
  {
   "cell_type": "code",
   "execution_count": 5,
   "id": "d28dd496",
   "metadata": {},
   "outputs": [],
   "source": [
    "user = domain1.api.services.user.get_all()[0]"
   ]
  },
  {
   "cell_type": "code",
   "execution_count": 6,
   "id": "3dc398ce",
   "metadata": {},
   "outputs": [],
   "source": [
    "verify_key = domain1.credentials.verify_key"
   ]
  },
  {
   "cell_type": "code",
   "execution_count": 7,
   "id": "d0876531",
   "metadata": {},
   "outputs": [],
   "source": [
    "linked_document = LinkedDocument.create_document(\n",
    "    node_uid=domain1.id, \n",
    "    object_type=type(user), \n",
    "    object_service=UserService, \n",
    "    object_uid=user.id\n",
    ")"
   ]
  },
  {
   "cell_type": "code",
   "execution_count": 8,
   "id": "ba522877",
   "metadata": {},
   "outputs": [
    {
     "data": {
      "text/markdown": [
       "```python\n",
       "class LinkedDocument:\n",
       "  id: str = b78032a8cba84eb6807e8340726a0289\n",
       "  node_uid: str = 34aa1081c5b63c28d0343512980e8df6\n",
       "  document_cname: str = \"User\"\n",
       "  service_name: str = \"UserService\"\n",
       "  object_uid: str = 7b1ff99c7fa04d4fa0532860adfbfc64\n",
       "\n",
       "```"
      ],
      "text/plain": [
       "syft.core.node.new.messages.LinkedDocument"
      ]
     },
     "execution_count": 8,
     "metadata": {},
     "output_type": "execute_result"
    }
   ],
   "source": [
    "linked_document"
   ]
  },
  {
   "cell_type": "code",
   "execution_count": 9,
   "id": "7f88c265",
   "metadata": {},
   "outputs": [
    {
     "data": {
      "text/plain": [
       "'<User: 7b1ff99c7fa04d4fa0532860adfbfc64>'"
      ]
     },
     "execution_count": 9,
     "metadata": {},
     "output_type": "execute_result"
    }
   ],
   "source": [
    "str(linked_document)"
   ]
  },
  {
   "cell_type": "code",
   "execution_count": 10,
   "id": "38b1a532",
   "metadata": {},
   "outputs": [
    {
     "data": {
      "text/markdown": [
       "```python\n",
       "class User:\n",
       "  id: str = 7b1ff99c7fa04d4fa0532860adfbfc64\n",
       "  email: str = \"info@openmined.org\"\n",
       "  name: str = \"Jane Doe\"\n",
       "  hashed_password: str = \"$2b$12$aBG8BrQhK5E6WvazH2/UbuLHKGluhH2fEg3vRE5dFS6aFMLnOG6EK\"\n",
       "  salt: str = \"$2b$12$aBG8BrQhK5E6WvazH2/Ubu\"\n",
       "  signing_key: str = d1a1a7ef378391f02a8cb1dcddbdeee861f808a1385393ab3ddc756b9af936ab\n",
       "  verify_key: str = 135a37f848bae6db8d7af29b646345f1b3d2f263c3859c3f28af48242f517ceb\n",
       "  role: str = ServiceRole.GUEST\n",
       "  institution: str = None\n",
       "  website: str = None\n",
       "  created_at: str = None\n",
       "\n",
       "```"
      ],
      "text/plain": [
       "syft.core.node.new.user.User"
      ]
     },
     "execution_count": 10,
     "metadata": {},
     "output_type": "execute_result"
    }
   ],
   "source": [
    "linked_document.resolve"
   ]
  },
  {
   "cell_type": "code",
   "execution_count": 11,
   "id": "460a3e4c",
   "metadata": {},
   "outputs": [],
   "source": [
    "message = CreateMessage(\n",
    "    subject=\"Hello Message\",\n",
    "    to_user_verify_key=verify_key,\n",
    "    linked_document=linked_document,\n",
    ")"
   ]
  },
  {
   "cell_type": "code",
   "execution_count": 12,
   "id": "196f4ade",
   "metadata": {},
   "outputs": [
    {
     "data": {
      "text/markdown": [
       "```python\n",
       "class CreateMessage:\n",
       "  id: str = None\n",
       "  subject: str = \"Hello Message\"\n",
       "  node_uid: str = None\n",
       "  from_user_verify_key: str = None\n",
       "  to_user_verify_key: str = 135a37f848bae6db8d7af29b646345f1b3d2f263c3859c3f28af48242f517ceb\n",
       "  created_at: str = None\n",
       "  status: str = MessageStatus.UNDELIVERED\n",
       "  linked_document: str = <User: 7b1ff99c7fa04d4fa0532860adfbfc64>\n",
       "\n",
       "```"
      ],
      "text/plain": [
       "syft.core.node.new.messages.CreateMessage"
      ]
     },
     "execution_count": 12,
     "metadata": {},
     "output_type": "execute_result"
    }
   ],
   "source": [
    "message"
   ]
  },
  {
   "cell_type": "code",
   "execution_count": 13,
   "id": "4947634d",
   "metadata": {
    "scrolled": true
   },
   "outputs": [
    {
     "name": "stdout",
     "output_type": "stream",
     "text": [
      "New Message: id=<UID: 2e2fdb6da0f24860a5d65d12c25e2782> subject='Hello Message' node_uid=<UID: 34aa1081c5b63c28d0343512980e8df6> from_user_verify_key=135a37f848bae6db8d7af29b646345f1b3d2f263c3859c3f28af48242f517ceb to_user_verify_key=135a37f848bae6db8d7af29b646345f1b3d2f263c3859c3f28af48242f517ceb created_at=syft.core.node.new.request.DateTime status=<MessageStatus.UNDELIVERED: 0> linked_document=syft.core.node.new.messages.LinkedDocument\n"
     ]
    }
   ],
   "source": [
    "mess = domain1.api.services.messages.send(message)"
   ]
  },
  {
   "cell_type": "code",
   "execution_count": 14,
   "id": "16c5c580",
   "metadata": {},
   "outputs": [
    {
     "data": {
      "text/markdown": [
       "```python\n",
       "class Message:\n",
       "  id: str = 2e2fdb6da0f24860a5d65d12c25e2782\n",
       "  subject: str = \"Hello Message\"\n",
       "  node_uid: str = 34aa1081c5b63c28d0343512980e8df6\n",
       "  from_user_verify_key: str = 135a37f848bae6db8d7af29b646345f1b3d2f263c3859c3f28af48242f517ceb\n",
       "  to_user_verify_key: str = 135a37f848bae6db8d7af29b646345f1b3d2f263c3859c3f28af48242f517ceb\n",
       "  created_at: str = 2023-02-21 22:26:39.425816\n",
       "  status: str = MessageStatus.UNDELIVERED\n",
       "  linked_document: str = <User: 7b1ff99c7fa04d4fa0532860adfbfc64>\n",
       "\n",
       "```"
      ],
      "text/plain": [
       "syft.core.node.new.messages.Message"
      ]
     },
     "execution_count": 14,
     "metadata": {},
     "output_type": "execute_result"
    }
   ],
   "source": [
    "mess"
   ]
  },
  {
   "cell_type": "code",
   "execution_count": 15,
   "id": "ca802de5",
   "metadata": {},
   "outputs": [
    {
     "data": {
      "text/markdown": [
       "```python\n",
       "class Message:\n",
       "  id: str = 2e2fdb6da0f24860a5d65d12c25e2782\n",
       "  subject: str = \"Hello Message\"\n",
       "  node_uid: str = 34aa1081c5b63c28d0343512980e8df6\n",
       "  from_user_verify_key: str = 135a37f848bae6db8d7af29b646345f1b3d2f263c3859c3f28af48242f517ceb\n",
       "  to_user_verify_key: str = 135a37f848bae6db8d7af29b646345f1b3d2f263c3859c3f28af48242f517ceb\n",
       "  created_at: str = 2023-02-21 22:26:39.425816\n",
       "  status: str = MessageStatus.DELIVERED\n",
       "  linked_document: str = <User: 7b1ff99c7fa04d4fa0532860adfbfc64>\n",
       "\n",
       "```"
      ],
      "text/plain": [
       "syft.core.node.new.messages.Message"
      ]
     },
     "execution_count": 15,
     "metadata": {},
     "output_type": "execute_result"
    }
   ],
   "source": [
    "domain1.api.services.messages.mark_as_delivered(uid=mess.id)"
   ]
  },
  {
   "cell_type": "code",
   "execution_count": 16,
   "id": "766b2e45",
   "metadata": {},
   "outputs": [
    {
     "name": "stdout",
     "output_type": "stream",
     "text": [
      "Context Credentials: 135a37f848bae6db8d7af29b646345f1b3d2f263c3859c3f28af48242f517ceb\n"
     ]
    },
    {
     "data": {
      "text/html": [
       "List - Size: 2\n",
       "<div>\n",
       "<style scoped>\n",
       "    .dataframe tbody tr th:only-of-type {\n",
       "        vertical-align: middle;\n",
       "    }\n",
       "\n",
       "    .dataframe tbody tr th {\n",
       "        vertical-align: top;\n",
       "    }\n",
       "\n",
       "    .dataframe thead th {\n",
       "        text-align: right;\n",
       "    }\n",
       "</style>\n",
       "<table border=\"1\" class=\"dataframe\">\n",
       "  <thead>\n",
       "    <tr style=\"text-align: right;\">\n",
       "      <th></th>\n",
       "      <th>type</th>\n",
       "      <th>id</th>\n",
       "      <th>subject</th>\n",
       "      <th>status</th>\n",
       "      <th>created_at</th>\n",
       "      <th>linked_document</th>\n",
       "    </tr>\n",
       "  </thead>\n",
       "  <tbody>\n",
       "    <tr>\n",
       "      <th>0</th>\n",
       "      <td>syft.core.node.new.messages.Message</td>\n",
       "      <td>fad5ffd7f5f34039933ee38fedbab0b7</td>\n",
       "      <td>Hello Message</td>\n",
       "      <td>MessageStatus.DELIVERED</td>\n",
       "      <td>2023-02-21 22:19:11.568299</td>\n",
       "      <td>&lt;User: 7b1ff99c7fa04d4fa0532860adfbfc64&gt;</td>\n",
       "    </tr>\n",
       "    <tr>\n",
       "      <th>1</th>\n",
       "      <td>syft.core.node.new.messages.Message</td>\n",
       "      <td>2e2fdb6da0f24860a5d65d12c25e2782</td>\n",
       "      <td>Hello Message</td>\n",
       "      <td>MessageStatus.DELIVERED</td>\n",
       "      <td>2023-02-21 22:26:39.425816</td>\n",
       "      <td>&lt;User: 7b1ff99c7fa04d4fa0532860adfbfc64&gt;</td>\n",
       "    </tr>\n",
       "  </tbody>\n",
       "</table>\n",
       "</div>"
      ],
      "text/plain": [
       "[syft.core.node.new.messages.Message, syft.core.node.new.messages.Message]"
      ]
     },
     "execution_count": 16,
     "metadata": {},
     "output_type": "execute_result"
    }
   ],
   "source": [
    "domain1.api.services.messages.get_all()"
   ]
  },
  {
   "cell_type": "code",
   "execution_count": 18,
   "id": "a5b85b40",
   "metadata": {},
   "outputs": [
    {
     "data": {
      "text/html": [
       "<div class=\"alert-danger\" style=\"padding:5px;\"><strong>SyftError</strong>: No message exists for id: 34aa1081c5b63c28d0343512980e8df6</div><br />"
      ],
      "text/plain": [
       "<class 'syft.core.node.new.response.SyftError'>: No message exists for id: 34aa1081c5b63c28d0343512980e8df6"
      ]
     },
     "execution_count": 18,
     "metadata": {},
     "output_type": "execute_result"
    }
   ],
   "source": [
    "domain1.api.services.messages.mark_as_delivered(domain1.id)"
   ]
  },
  {
   "cell_type": "code",
   "execution_count": 19,
   "id": "24073068",
   "metadata": {},
   "outputs": [
    {
     "name": "stdout",
     "output_type": "stream",
     "text": [
      "Context Credentials: 135a37f848bae6db8d7af29b646345f1b3d2f263c3859c3f28af48242f517ceb\n"
     ]
    }
   ],
   "source": [
    "fetched_msg = domain1.api.services.messages.get_all()[0]"
   ]
  },
  {
   "cell_type": "code",
   "execution_count": 22,
   "id": "ae22c8f4",
   "metadata": {},
   "outputs": [
    {
     "data": {
      "text/markdown": [
       "```python\n",
       "class User:\n",
       "  id: str = 7b1ff99c7fa04d4fa0532860adfbfc64\n",
       "  email: str = \"info@openmined.org\"\n",
       "  name: str = \"Jane Doe\"\n",
       "  hashed_password: str = \"$2b$12$aBG8BrQhK5E6WvazH2/UbuLHKGluhH2fEg3vRE5dFS6aFMLnOG6EK\"\n",
       "  salt: str = \"$2b$12$aBG8BrQhK5E6WvazH2/Ubu\"\n",
       "  signing_key: str = d1a1a7ef378391f02a8cb1dcddbdeee861f808a1385393ab3ddc756b9af936ab\n",
       "  verify_key: str = 135a37f848bae6db8d7af29b646345f1b3d2f263c3859c3f28af48242f517ceb\n",
       "  role: str = ServiceRole.GUEST\n",
       "  institution: str = None\n",
       "  website: str = None\n",
       "  created_at: str = None\n",
       "\n",
       "```"
      ],
      "text/plain": [
       "syft.core.node.new.user.User"
      ]
     },
     "execution_count": 22,
     "metadata": {},
     "output_type": "execute_result"
    }
   ],
   "source": [
    "fetched_msg.linked_document.resolve"
   ]
  },
  {
   "cell_type": "code",
   "execution_count": null,
   "id": "81829721",
   "metadata": {},
   "outputs": [],
   "source": []
  }
 ],
 "metadata": {
  "kernelspec": {
   "display_name": "Python 3 (ipykernel)",
   "language": "python",
   "name": "python3"
  },
  "language_info": {
   "codemirror_mode": {
    "name": "ipython",
    "version": 3
   },
   "file_extension": ".py",
   "mimetype": "text/x-python",
   "name": "python",
   "nbconvert_exporter": "python",
   "pygments_lexer": "ipython3",
   "version": "3.9.7"
  }
 },
 "nbformat": 4,
 "nbformat_minor": 5
}
