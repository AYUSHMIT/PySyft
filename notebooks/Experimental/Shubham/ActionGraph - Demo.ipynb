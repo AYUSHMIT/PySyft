{
 "cells": [
  {
   "cell_type": "markdown",
   "id": "e888755c",
   "metadata": {},
   "source": [
    "# Action Graph "
   ]
  },
  {
   "cell_type": "markdown",
   "id": "bbd97cf8",
   "metadata": {},
   "source": [
    "### Goals:\n",
    "\n",
    "- A graph store/database to store and trace any computations during eager execution\n",
    "- Graph that works with the current in memory worker\n",
    "- Ability to visualize the graph\n",
    "- Generate a dependecy list of node, so that any dependeny action can be generated\n",
    "- Basic query/search functionalities\n",
    "- Locking/Concurrency"
   ]
  },
  {
   "cell_type": "code",
   "execution_count": null,
   "id": "d27c68a4",
   "metadata": {},
   "outputs": [],
   "source": [
    "import syft as sy\n",
    "from syft.service.action.action_graph_service import ActionGraphService, NodeActionDataUpdate, ActionStatus\n",
    "from syft.service.action.action_graph import InMemoryActionGraphStore, InMemoryGraphConfig, InMemoryStoreClientConfig\n",
    "\n",
    "from syft.service.context import AuthedServiceContext\n",
    "from syft.node.credentials import SyftSigningKey\n",
    "from syft.service.action.action_graph import Action\n",
    "from syft.service.action.numpy import NumpyArrayObject, ActionObject\n",
    "import numpy as np\n",
    "import matplotlib.pyplot as plt"
   ]
  },
  {
   "cell_type": "markdown",
   "id": "379941d7",
   "metadata": {},
   "source": [
    "## Scenario for performing some computation\n",
    "\n",
    "```python\n",
    "\n",
    "import syft as sy\n",
    "\n",
    "domain_client = sy.login(\"....\")\n",
    "\n",
    "dataset = domain_client.datasets[0]\n",
    "\n",
    "a = dataset.assets[\"A\"]\n",
    "\n",
    "b = dataset.assets[\"B\"]\n",
    "\n",
    "c = a + b\n",
    "\n",
    "d = domain_client.api.numpy.array([1, 2, 3])\n",
    "\n",
    "e = c * d\n",
    "\n",
    "# Inplace operation, mutated the value of d\n",
    "d.astype('int32')\n",
    "\n",
    "f = d + 48\n",
    "```\n",
    "\n",
    "<br>\n",
    "<br>\n",
    "\n",
    "**Corresponding Actions Generated**\n",
    "\n",
    "```\n",
    "\n",
    "action1 -> a + b\n",
    "\n",
    "action2 -> initialization of variable `d`\n",
    "\n",
    "action3 -> c * d\n",
    "\n",
    "action4 -> inplace updation of type of `d` (d.astype('int32'))\n",
    "\n",
    "action5 -> d + 48\n",
    "\n",
    "```"
   ]
  },
  {
   "cell_type": "markdown",
   "id": "c64d7278",
   "metadata": {},
   "source": [
    "![graph.png](graph.png)"
   ]
  },
  {
   "cell_type": "markdown",
   "id": "fc615fa3",
   "metadata": {},
   "source": [
    "### Initializing the Store"
   ]
  },
  {
   "cell_type": "code",
   "execution_count": null,
   "id": "55ab1bba",
   "metadata": {},
   "outputs": [],
   "source": [
    "# Create a Config\n",
    "\n",
    "store_config = InMemoryGraphConfig()"
   ]
  },
  {
   "cell_type": "code",
   "execution_count": null,
   "id": "10b32a8d",
   "metadata": {},
   "outputs": [],
   "source": [
    "# Initialize the InMemory Store\n",
    "\n",
    "graph_store = InMemoryActionGraphStore(store_config=store_config)"
   ]
  },
  {
   "cell_type": "markdown",
   "id": "72d40348",
   "metadata": {},
   "source": [
    "### Initializing Action Graph Service"
   ]
  },
  {
   "cell_type": "code",
   "execution_count": null,
   "id": "5206dc97",
   "metadata": {},
   "outputs": [],
   "source": [
    "action_graph_service = ActionGraphService(store=graph_store)"
   ]
  },
  {
   "cell_type": "code",
   "execution_count": null,
   "id": "91abad59",
   "metadata": {},
   "outputs": [],
   "source": [
    "signing_key = SyftSigningKey.generate()\n",
    "authed_context = AuthedServiceContext(credentials=signing_key.verify_key)"
   ]
  },
  {
   "cell_type": "code",
   "execution_count": null,
   "id": "d978cee6",
   "metadata": {},
   "outputs": [],
   "source": [
    "signing_key = SyftSigningKey.generate()\n",
    "authed_context = AuthedServiceContext(credentials=signing_key.verify_key)"
   ]
  },
  {
   "cell_type": "markdown",
   "id": "62f0c6d9",
   "metadata": {},
   "source": [
    "### Create some dummy data"
   ]
  },
  {
   "cell_type": "code",
   "execution_count": null,
   "id": "97417939",
   "metadata": {},
   "outputs": [],
   "source": [
    "action_obj_a = ActionObject.from_obj([2, 4, 6])\n",
    "action_obj_b = ActionObject.from_obj([2, 3, 4])"
   ]
  },
  {
   "cell_type": "code",
   "execution_count": null,
   "id": "11d9fde4",
   "metadata": {},
   "outputs": [],
   "source": [
    "action_obj_a.id, action_obj_b.id"
   ]
  },
  {
   "cell_type": "markdown",
   "id": "89d1b5c4",
   "metadata": {},
   "source": [
    "### Action1 -> A + B"
   ]
  },
  {
   "cell_type": "code",
   "execution_count": null,
   "id": "38bb629e",
   "metadata": {},
   "outputs": [],
   "source": [
    "action1 = Action(\n",
    "    path=\"action.execute\",\n",
    "    op=\"__add__\",\n",
    "    remote_self=action_obj_a.syft_lineage_id,\n",
    "    args=[action_obj_b.syft_lineage_id],\n",
    "    kwargs={}\n",
    ")\n",
    "action1"
   ]
  },
  {
   "cell_type": "markdown",
   "id": "22c8faef",
   "metadata": {},
   "source": [
    "### Save action to Graph"
   ]
  },
  {
   "cell_type": "code",
   "execution_count": null,
   "id": "50ed00f2",
   "metadata": {},
   "outputs": [],
   "source": [
    "action_graph_service.add_action"
   ]
  },
  {
   "cell_type": "code",
   "execution_count": null,
   "id": "e35a58f8",
   "metadata": {},
   "outputs": [],
   "source": [
    "action_graph_service.add_action(context=authed_context, action=action1)"
   ]
  },
  {
   "cell_type": "markdown",
   "id": "caa79be3",
   "metadata": {},
   "source": [
    "### Action2 -> np.array([1, 2, 3])"
   ]
  },
  {
   "cell_type": "code",
   "execution_count": null,
   "id": "48a7cb5e",
   "metadata": {},
   "outputs": [],
   "source": [
    "action_obj_d = ActionObject.from_obj([1, 2, 3])"
   ]
  },
  {
   "cell_type": "code",
   "execution_count": null,
   "id": "683aed4b",
   "metadata": {},
   "outputs": [],
   "source": [
    "# Create Action2\n",
    "\n",
    "action2 = Action(\n",
    "    path=\"action.execute\",\n",
    "    op=\"np.array\",\n",
    "    remote_self=None,\n",
    "    args=[action_obj_d.syft_lineage_id],\n",
    "    kwargs={}\n",
    ")\n",
    "action2"
   ]
  },
  {
   "cell_type": "code",
   "execution_count": null,
   "id": "74d171f0",
   "metadata": {},
   "outputs": [],
   "source": [
    "# Save action to graph\n",
    "action_graph_service.add_action(context=authed_context, action=action2)"
   ]
  },
  {
   "cell_type": "code",
   "execution_count": null,
   "id": "c35f26f5",
   "metadata": {},
   "outputs": [],
   "source": [
    "# 747749f9494345b78e165f13351e52bf: {\"data\": NodeActionData()}"
   ]
  },
  {
   "cell_type": "code",
   "execution_count": null,
   "id": "5a4df094",
   "metadata": {},
   "outputs": [],
   "source": [
    "plt.figure(figsize=(20, 10))\n",
    "action_graph_service.store.graph.visualize()"
   ]
  },
  {
   "cell_type": "markdown",
   "id": "c3850cc4",
   "metadata": {},
   "source": [
    "### Action3 -> C * D"
   ]
  },
  {
   "cell_type": "code",
   "execution_count": null,
   "id": "1d5098bc",
   "metadata": {},
   "outputs": [],
   "source": [
    "action3 = Action(\n",
    "    path=\"action.execute\",\n",
    "    op=\"__mul__\",\n",
    "    remote_self=action1.result_id,\n",
    "    args=[action2.result_id],\n",
    "    kwargs={}\n",
    ")\n",
    "action3"
   ]
  },
  {
   "cell_type": "code",
   "execution_count": null,
   "id": "f7c1e4e6",
   "metadata": {},
   "outputs": [],
   "source": [
    "action_graph_service.add_action(context=authed_context, action=action3)"
   ]
  },
  {
   "cell_type": "code",
   "execution_count": null,
   "id": "124e3475",
   "metadata": {
    "scrolled": false
   },
   "outputs": [],
   "source": [
    "plt.figure(figsize=(20, 10))\n",
    "action_graph_service.store.graph.visualize()"
   ]
  },
  {
   "cell_type": "markdown",
   "id": "3cfefeee",
   "metadata": {},
   "source": [
    "### Action4 -> Mutate type of D"
   ]
  },
  {
   "cell_type": "code",
   "execution_count": null,
   "id": "c0e55971",
   "metadata": {},
   "outputs": [],
   "source": [
    "as_type_action_obj = ActionObject.from_obj('np.int32')"
   ]
  },
  {
   "cell_type": "code",
   "execution_count": null,
   "id": "d5de9f9c",
   "metadata": {},
   "outputs": [],
   "source": [
    "as_type_action_obj"
   ]
  },
  {
   "cell_type": "code",
   "execution_count": null,
   "id": "670ec2fc",
   "metadata": {},
   "outputs": [],
   "source": [
    "action4 = Action(\n",
    "    path=\"action.execute\",\n",
    "    op=\"astype\",\n",
    "    remote_self=action2.result_id,\n",
    "    args=[as_type_action_obj.syft_lineage_id],\n",
    "    kwargs={},\n",
    "    result_id=action2.result_id\n",
    ")\n",
    "action4"
   ]
  },
  {
   "cell_type": "code",
   "execution_count": null,
   "id": "c45550fb",
   "metadata": {},
   "outputs": [],
   "source": [
    "action_graph_service.add_action(context=authed_context, action=action4)"
   ]
  },
  {
   "cell_type": "code",
   "execution_count": null,
   "id": "c38e3326",
   "metadata": {},
   "outputs": [],
   "source": [
    "plt.figure(figsize=(20, 10))\n",
    "action_graph_service.store.graph.visualize()"
   ]
  },
  {
   "cell_type": "code",
   "execution_count": null,
   "id": "222b08db",
   "metadata": {},
   "outputs": [],
   "source": [
    "action_2_node_data = action_graph_service.store.get(uid=action2.id, credentials=authed_context.credentials).ok()\n",
    "action_2_node_data"
   ]
  },
  {
   "cell_type": "code",
   "execution_count": null,
   "id": "2854d98e",
   "metadata": {},
   "outputs": [],
   "source": [
    "action_graph_service.update(context=authed_context, action_id=action2.id, node_data=NodeActionDataUpdate(is_mutated=True))"
   ]
  },
  {
   "cell_type": "code",
   "execution_count": null,
   "id": "ecfa80c4",
   "metadata": {},
   "outputs": [],
   "source": [
    "action_graph_service.store.get(uid=action2.id, credentials=authed_context.credentials).ok()"
   ]
  },
  {
   "cell_type": "code",
   "execution_count": null,
   "id": "8803e9a3",
   "metadata": {},
   "outputs": [],
   "source": [
    "plt.figure(figsize=(20, 10))\n",
    "action_graph_service.store.graph.visualize()"
   ]
  },
  {
   "cell_type": "markdown",
   "id": "7b67ceb1",
   "metadata": {},
   "source": [
    "### Action5 -> D + 48"
   ]
  },
  {
   "cell_type": "code",
   "execution_count": null,
   "id": "f18e3455",
   "metadata": {},
   "outputs": [],
   "source": [
    "arg_action_obj = ActionObject.from_obj(48)"
   ]
  },
  {
   "cell_type": "code",
   "execution_count": null,
   "id": "147c118e",
   "metadata": {},
   "outputs": [],
   "source": [
    "# action2.result_id == action4.result_id"
   ]
  },
  {
   "cell_type": "code",
   "execution_count": null,
   "id": "80a62079",
   "metadata": {},
   "outputs": [],
   "source": [
    "action5 = Action(\n",
    "    path=\"action.execute\",\n",
    "    op=\"__add__\",\n",
    "    remote_self=action2.result_id,\n",
    "    args=[arg_action_obj.syft_lineage_id],\n",
    "    kwargs={},\n",
    ")\n",
    "action5"
   ]
  },
  {
   "cell_type": "code",
   "execution_count": null,
   "id": "684c0fcd",
   "metadata": {},
   "outputs": [],
   "source": [
    "action_graph_service.add_action(context=authed_context, action=action5)"
   ]
  },
  {
   "cell_type": "code",
   "execution_count": null,
   "id": "7632cb60",
   "metadata": {},
   "outputs": [],
   "source": [
    "plt.figure(figsize=(20, 10))\n",
    "action_graph_service.store.graph.visualize()"
   ]
  },
  {
   "cell_type": "code",
   "execution_count": null,
   "id": "fc59fde8",
   "metadata": {},
   "outputs": [],
   "source": [
    "action1.id, action2.id, action3.id, action4.id, action5.id"
   ]
  },
  {
   "cell_type": "markdown",
   "id": "fa801ebb",
   "metadata": {},
   "source": [
    "```\n",
    "\n",
    "action1 -> a + b\n",
    "\n",
    "action2 -> initialization of variable `d`\n",
    "\n",
    "action3 -> c * d\n",
    "\n",
    "action4 -> inplace updation of type of `d` (d.astype('int32'))\n",
    "\n",
    "action5 -> d + 48\n",
    "\n",
    "```"
   ]
  },
  {
   "cell_type": "markdown",
   "id": "f621bba4",
   "metadata": {},
   "source": [
    "## Filtering Actions in the Graph"
   ]
  },
  {
   "cell_type": "markdown",
   "id": "3cba2c95",
   "metadata": {},
   "source": [
    "### Filter by ActionStatus\n",
    "\n",
    "```\n",
    "ActionStatus\n",
    "- PROCESSING\n",
    "- DONE\n",
    "- FAILED\n",
    "```"
   ]
  },
  {
   "cell_type": "code",
   "execution_count": null,
   "id": "e93cd503",
   "metadata": {},
   "outputs": [],
   "source": [
    "action_graph_service.get_by_action_status(context=authed_context, status=ActionStatus.PROCESSING)"
   ]
  },
  {
   "cell_type": "code",
   "execution_count": null,
   "id": "fc232be3",
   "metadata": {},
   "outputs": [],
   "source": [
    "action_graph_service.get_by_action_status(context=authed_context, status=ActionStatus.DONE)"
   ]
  },
  {
   "cell_type": "markdown",
   "id": "135a96f1",
   "metadata": {},
   "source": [
    "### Filter by Particular User"
   ]
  },
  {
   "cell_type": "code",
   "execution_count": null,
   "id": "443eb463",
   "metadata": {},
   "outputs": [],
   "source": [
    "action_graph_service.get_by_verify_key(context=authed_context, verify_key=signing_key.verify_key)"
   ]
  },
  {
   "cell_type": "code",
   "execution_count": null,
   "id": "9a967515",
   "metadata": {},
   "outputs": [],
   "source": [
    "### Serde "
   ]
  },
  {
   "cell_type": "code",
   "execution_count": null,
   "id": "1563a045",
   "metadata": {},
   "outputs": [],
   "source": [
    "# bytes_data = sy.serialize(graph_store, to_bytes=True)"
   ]
  },
  {
   "cell_type": "code",
   "execution_count": null,
   "id": "3352ebaf",
   "metadata": {},
   "outputs": [],
   "source": [
    "# graph_store = sy.deserialize(bytes_data, from_bytes=True)"
   ]
  }
 ],
 "metadata": {
  "kernelspec": {
   "display_name": "Python 3 (ipykernel)",
   "language": "python",
   "name": "python3"
  },
  "language_info": {
   "codemirror_mode": {
    "name": "ipython",
    "version": 3
   },
   "file_extension": ".py",
   "mimetype": "text/x-python",
   "name": "python",
   "nbconvert_exporter": "python",
   "pygments_lexer": "ipython3",
   "version": "3.9.7"
  }
 },
 "nbformat": 4,
 "nbformat_minor": 5
}
