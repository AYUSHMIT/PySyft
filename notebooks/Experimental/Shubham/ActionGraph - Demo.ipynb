{
 "cells": [
  {
   "cell_type": "markdown",
   "id": "e888755c",
   "metadata": {},
   "source": [
    "# Action Graph "
   ]
  },
  {
   "cell_type": "code",
   "execution_count": 1,
   "id": "d27c68a4",
   "metadata": {},
   "outputs": [
    {
     "name": "stderr",
     "output_type": "stream",
     "text": [
      "kj/filesystem-disk-unix.c++:1703: warning: PWD environment variable doesn't match current directory; pwd = /home/shubham/PySyft\n"
     ]
    }
   ],
   "source": [
    "import syft as sy\n",
    "from syft.service.action.action_graph_service import ActionGraphService, NodeActionDataUpdate, ActionStatus\n",
    "from syft.service.action.action_graph import InMemoryActionGraphStore, InMemoryGraphConfig, InMemoryStoreClientConfig\n",
    "\n",
    "from syft.service.context import AuthedServiceContext\n",
    "from syft.node.credentials import SyftSigningKey\n",
    "from syft.service.action.action_graph import Action\n",
    "from syft.service.action.numpy import NumpyArrayObject, ActionObject\n",
    "import numpy as np\n",
    "import matplotlib.pyplot as plt"
   ]
  },
  {
   "cell_type": "markdown",
   "id": "379941d7",
   "metadata": {},
   "source": [
    "## Scenario for performing some computation\n",
    "\n",
    "```python\n",
    "\n",
    "import syft as sy\n",
    "\n",
    "domain_client = sy.login(\"....\")\n",
    "\n",
    "dataset = domain_client.datasets[0]\n",
    "\n",
    "a = dataset.assets[\"A\"]\n",
    "\n",
    "b = dataset.assets[\"B\"]\n",
    "\n",
    "c = a + b\n",
    "\n",
    "d = domain_client.api.numpy.array([1, 2, 3])\n",
    "\n",
    "e = c * d\n",
    "\n",
    "# Inplace operation, mutated the value of d\n",
    "d.astype('int32')\n",
    "\n",
    "f = d + 48\n",
    "```\n",
    "\n",
    "<br>\n",
    "<br>\n",
    "\n",
    "**Corresponding Actions Generated**\n",
    "\n",
    "```\n",
    "\n",
    "action1 -> a + b\n",
    "\n",
    "action2 -> initialization of variable `d`\n",
    "\n",
    "action3 -> c * d\n",
    "\n",
    "action4 -> inplace updation of type of `d` (d.astype('int32'))\n",
    "\n",
    "action5 -> d + 48\n",
    "\n",
    "```"
   ]
  },
  {
   "attachments": {},
   "cell_type": "markdown",
   "id": "c64d7278",
   "metadata": {},
   "source": [
    "![graph.png](graph.png)"
   ]
  },
  {
   "cell_type": "markdown",
   "id": "fc615fa3",
   "metadata": {},
   "source": [
    "### Initializing the Store"
   ]
  },
  {
   "cell_type": "code",
   "execution_count": 2,
   "id": "55ab1bba",
   "metadata": {},
   "outputs": [],
   "source": [
    "# Create a Config\n",
    "\n",
    "store_config = InMemoryGraphConfig()"
   ]
  },
  {
   "cell_type": "code",
   "execution_count": 3,
   "id": "10b32a8d",
   "metadata": {},
   "outputs": [],
   "source": [
    "# Initialize the InMemory Store\n",
    "\n",
    "graph_store = InMemoryActionGraphStore(store_config=store_config)"
   ]
  },
  {
   "cell_type": "markdown",
   "id": "72d40348",
   "metadata": {},
   "source": [
    "### Initializing Action Graph Service"
   ]
  },
  {
   "cell_type": "code",
   "execution_count": 4,
   "id": "5206dc97",
   "metadata": {},
   "outputs": [],
   "source": [
    "action_graph_service = ActionGraphService(store=graph_store)"
   ]
  },
  {
   "cell_type": "code",
   "execution_count": 5,
   "id": "91abad59",
   "metadata": {},
   "outputs": [],
   "source": [
    "signing_key = SyftSigningKey.generate()\n",
    "authed_context = AuthedServiceContext(credentials=signing_key.verify_key)"
   ]
  },
  {
   "cell_type": "code",
   "execution_count": 6,
   "id": "d978cee6",
   "metadata": {},
   "outputs": [],
   "source": [
    "signing_key = SyftSigningKey.generate()\n",
    "authed_context = AuthedServiceContext(credentials=signing_key.verify_key)"
   ]
  },
  {
   "cell_type": "markdown",
   "id": "62f0c6d9",
   "metadata": {},
   "source": [
    "### Create some dummy data"
   ]
  },
  {
   "cell_type": "code",
   "execution_count": 7,
   "id": "97417939",
   "metadata": {},
   "outputs": [],
   "source": [
    "action_obj_a = ActionObject.from_obj([2, 4, 6])\n",
    "action_obj_b = ActionObject.from_obj([2, 3, 4])"
   ]
  },
  {
   "cell_type": "code",
   "execution_count": 8,
   "id": "11d9fde4",
   "metadata": {},
   "outputs": [
    {
     "data": {
      "text/plain": [
       "(<UID: c8eab9fccc6644508ae3b705ee53ec5f>,\n",
       " <UID: f22788bcf57d4e33b01505da5567c52e>)"
      ]
     },
     "execution_count": 8,
     "metadata": {},
     "output_type": "execute_result"
    }
   ],
   "source": [
    "action_obj_a.id, action_obj_b.id"
   ]
  },
  {
   "cell_type": "markdown",
   "id": "89d1b5c4",
   "metadata": {},
   "source": [
    "### Action1 -> A + B"
   ]
  },
  {
   "cell_type": "code",
   "execution_count": 9,
   "id": "38bb629e",
   "metadata": {},
   "outputs": [
    {
     "data": {
      "text/markdown": [
       "```python\n",
       "class Action:\n",
       "  id: str = c9583a522d7543a4a7f1b046e6385e17\n",
       "  path: str = \"action.execute\"\n",
       "  op: str = \"__add__\"\n",
       "  remote_self: str = c8eab9fccc6644508ae3b705ee53ec5f\n",
       "  args: str = [<LineageID: f22788bcf57d4e33b01505da5567c52e - 94940363769394952>]\n",
       "  kwargs: str = {}\n",
       "  result_id: str = c4c6fd818f4f4ac6b9ba7f72b8848c00\n",
       "\n",
       "```"
      ],
      "text/plain": [
       "syft.service.action.action_object.Action"
      ]
     },
     "execution_count": 9,
     "metadata": {},
     "output_type": "execute_result"
    }
   ],
   "source": [
    "action1 = Action(\n",
    "    path=\"action.execute\",\n",
    "    op=\"__add__\",\n",
    "    remote_self=action_obj_a.syft_lineage_id,\n",
    "    args=[action_obj_b.syft_lineage_id],\n",
    "    kwargs={}\n",
    ")\n",
    "action1"
   ]
  },
  {
   "cell_type": "markdown",
   "id": "22c8faef",
   "metadata": {},
   "source": [
    "### Save action to Graph"
   ]
  },
  {
   "cell_type": "code",
   "execution_count": 10,
   "id": "50ed00f2",
   "metadata": {},
   "outputs": [
    {
     "data": {
      "text/plain": [
       "<bound method ActionGraphService.add_action of <syft.service.action.action_graph_service.ActionGraphService object at 0x7fbd5c469160>>"
      ]
     },
     "execution_count": 10,
     "metadata": {},
     "output_type": "execute_result"
    }
   ],
   "source": [
    "action_graph_service.add_action"
   ]
  },
  {
   "cell_type": "code",
   "execution_count": 11,
   "id": "e35a58f8",
   "metadata": {},
   "outputs": [
    {
     "data": {
      "text/markdown": [
       "```python\n",
       "class NodeActionData:\n",
       "  id: str = c9583a522d7543a4a7f1b046e6385e17\n",
       "  action: str = syft.service.action.action_object.Action\n",
       "  status: str = ActionStatus.PROCESSING\n",
       "  retry: str = 0\n",
       "  created_at: str = 2023-04-24 02:49:17\n",
       "  updated_at: str = None\n",
       "  user_verify_key: str = b4f97fe25ba67780d54825933a128f072f2a8215face2fb323de9a73b803bf23\n",
       "  is_mutated: str = False\n",
       "\n",
       "```"
      ],
      "text/plain": [
       "class NodeActionData:\n",
       "  id: str = c9583a522d7543a4a7f1b046e6385e17\n",
       "  action: str = syft.service.action.action_object.Action\n",
       "  status: str = ActionStatus.PROCESSING\n",
       "  retry: str = 0\n",
       "  created_at: str = 2023-04-24 02:49:17\n",
       "  updated_at: str = None\n",
       "  user_verify_key: str = b4f97fe25ba67780d54825933a128f072f2a8215face2fb323de9a73b803bf23\n",
       "  is_mutated: str = False"
      ]
     },
     "execution_count": 11,
     "metadata": {},
     "output_type": "execute_result"
    }
   ],
   "source": [
    "action_graph_service.add_action(context=authed_context, action=action1)"
   ]
  },
  {
   "cell_type": "markdown",
   "id": "caa79be3",
   "metadata": {},
   "source": [
    "### Action2 -> np.array([1, 2, 3])"
   ]
  },
  {
   "cell_type": "code",
   "execution_count": 12,
   "id": "48a7cb5e",
   "metadata": {},
   "outputs": [],
   "source": [
    "action_obj_d = ActionObject.from_obj([1, 2, 3])"
   ]
  },
  {
   "cell_type": "code",
   "execution_count": 13,
   "id": "683aed4b",
   "metadata": {},
   "outputs": [
    {
     "data": {
      "text/markdown": [
       "```python\n",
       "class Action:\n",
       "  id: str = 4b5a782928094230b8138e4d42b2f95e\n",
       "  path: str = \"action.execute\"\n",
       "  op: str = \"np.array\"\n",
       "  remote_self: str = None\n",
       "  args: str = [<LineageID: cb7476a08a74439ab10efe38121386f5 - 914990746295444477>]\n",
       "  kwargs: str = {}\n",
       "  result_id: str = 7eb6c8805be5400b8b681942f613c05b\n",
       "\n",
       "```"
      ],
      "text/plain": [
       "syft.service.action.action_object.Action"
      ]
     },
     "execution_count": 13,
     "metadata": {},
     "output_type": "execute_result"
    }
   ],
   "source": [
    "# Create Action2\n",
    "\n",
    "action2 = Action(\n",
    "    path=\"action.execute\",\n",
    "    op=\"np.array\",\n",
    "    remote_self=None,\n",
    "    args=[action_obj_d.syft_lineage_id],\n",
    "    kwargs={}\n",
    ")\n",
    "action2"
   ]
  },
  {
   "cell_type": "code",
   "execution_count": 14,
   "id": "74d171f0",
   "metadata": {},
   "outputs": [
    {
     "data": {
      "text/markdown": [
       "```python\n",
       "class NodeActionData:\n",
       "  id: str = 4b5a782928094230b8138e4d42b2f95e\n",
       "  action: str = syft.service.action.action_object.Action\n",
       "  status: str = ActionStatus.PROCESSING\n",
       "  retry: str = 0\n",
       "  created_at: str = 2023-04-24 02:49:17\n",
       "  updated_at: str = None\n",
       "  user_verify_key: str = b4f97fe25ba67780d54825933a128f072f2a8215face2fb323de9a73b803bf23\n",
       "  is_mutated: str = False\n",
       "\n",
       "```"
      ],
      "text/plain": [
       "class NodeActionData:\n",
       "  id: str = 4b5a782928094230b8138e4d42b2f95e\n",
       "  action: str = syft.service.action.action_object.Action\n",
       "  status: str = ActionStatus.PROCESSING\n",
       "  retry: str = 0\n",
       "  created_at: str = 2023-04-24 02:49:17\n",
       "  updated_at: str = None\n",
       "  user_verify_key: str = b4f97fe25ba67780d54825933a128f072f2a8215face2fb323de9a73b803bf23\n",
       "  is_mutated: str = False"
      ]
     },
     "execution_count": 14,
     "metadata": {},
     "output_type": "execute_result"
    }
   ],
   "source": [
    "# Save action to graph\n",
    "action_graph_service.add_action(context=authed_context, action=action2)"
   ]
  },
  {
   "cell_type": "code",
   "execution_count": 15,
   "id": "c35f26f5",
   "metadata": {},
   "outputs": [],
   "source": [
    "# 747749f9494345b78e165f13351e52bf: {\"data\": NodeActionData()}"
   ]
  },
  {
   "cell_type": "code",
   "execution_count": 16,
   "id": "5a4df094",
   "metadata": {},
   "outputs": [
    {
     "data": {
      "image/png": "[encoded data removed]",
      "text/plain": [
       "<Figure size 1440x720 with 1 Axes>"
      ]
     },
     "metadata": {},
     "output_type": "display_data"
    }
   ],
   "source": [
    "plt.figure(figsize=(20, 10))\n",
    "action_graph_service.store.graph.visualize()"
   ]
  },
  {
   "cell_type": "markdown",
   "id": "c3850cc4",
   "metadata": {},
   "source": [
    "### Action3 -> C * D"
   ]
  },
  {
   "cell_type": "code",
   "execution_count": 17,
   "id": "1d5098bc",
   "metadata": {},
   "outputs": [
    {
     "data": {
      "text/markdown": [
       "```python\n",
       "class Action:\n",
       "  id: str = e0ef9c334d0c4062a860e4e7c5fb9d26\n",
       "  path: str = \"action.execute\"\n",
       "  op: str = \"__mul__\"\n",
       "  remote_self: str = c4c6fd818f4f4ac6b9ba7f72b8848c00\n",
       "  args: str = [<LineageID: 7eb6c8805be5400b8b681942f613c05b - 80604397850968279>]\n",
       "  kwargs: str = {}\n",
       "  result_id: str = 638aacd6a4524753b3f07bddf06e6cc1\n",
       "\n",
       "```"
      ],
      "text/plain": [
       "syft.service.action.action_object.Action"
      ]
     },
     "execution_count": 17,
     "metadata": {},
     "output_type": "execute_result"
    }
   ],
   "source": [
    "action3 = Action(\n",
    "    path=\"action.execute\",\n",
    "    op=\"__mul__\",\n",
    "    remote_self=action1.result_id,\n",
    "    args=[action2.result_id],\n",
    "    kwargs={}\n",
    ")\n",
    "action3"
   ]
  },
  {
   "cell_type": "code",
   "execution_count": 18,
   "id": "f7c1e4e6",
   "metadata": {},
   "outputs": [
    {
     "data": {
      "text/markdown": [
       "```python\n",
       "class NodeActionData:\n",
       "  id: str = e0ef9c334d0c4062a860e4e7c5fb9d26\n",
       "  action: str = syft.service.action.action_object.Action\n",
       "  status: str = ActionStatus.PROCESSING\n",
       "  retry: str = 0\n",
       "  created_at: str = 2023-04-24 02:49:17\n",
       "  updated_at: str = None\n",
       "  user_verify_key: str = b4f97fe25ba67780d54825933a128f072f2a8215face2fb323de9a73b803bf23\n",
       "  is_mutated: str = False\n",
       "\n",
       "```"
      ],
      "text/plain": [
       "class NodeActionData:\n",
       "  id: str = e0ef9c334d0c4062a860e4e7c5fb9d26\n",
       "  action: str = syft.service.action.action_object.Action\n",
       "  status: str = ActionStatus.PROCESSING\n",
       "  retry: str = 0\n",
       "  created_at: str = 2023-04-24 02:49:17\n",
       "  updated_at: str = None\n",
       "  user_verify_key: str = b4f97fe25ba67780d54825933a128f072f2a8215face2fb323de9a73b803bf23\n",
       "  is_mutated: str = False"
      ]
     },
     "execution_count": 18,
     "metadata": {},
     "output_type": "execute_result"
    }
   ],
   "source": [
    "action_graph_service.add_action(context=authed_context, action=action3)"
   ]
  },
  {
   "cell_type": "code",
   "execution_count": 19,
   "id": "124e3475",
   "metadata": {
    "scrolled": false
   },
   "outputs": [
    {
     "data": {
      "image/png": "[encoded data removed]",
      "text/plain": [
       "<Figure size 1440x720 with 1 Axes>"
      ]
     },
     "metadata": {},
     "output_type": "display_data"
    }
   ],
   "source": [
    "plt.figure(figsize=(20, 10))\n",
    "action_graph_service.store.graph.visualize()"
   ]
  },
  {
   "cell_type": "markdown",
   "id": "3cfefeee",
   "metadata": {},
   "source": [
    "### Action4 -> Mutate type of D"
   ]
  },
  {
   "cell_type": "code",
   "execution_count": 20,
   "id": "c0e55971",
   "metadata": {},
   "outputs": [],
   "source": [
    "as_type_action_obj = ActionObject.from_obj('np.int32')"
   ]
  },
  {
   "cell_type": "code",
   "execution_count": 21,
   "id": "d5de9f9c",
   "metadata": {},
   "outputs": [
    {
     "data": {
      "text/plain": [
       "'np.int32'"
      ]
     },
     "execution_count": 21,
     "metadata": {},
     "output_type": "execute_result"
    }
   ],
   "source": [
    "as_type_action_obj"
   ]
  },
  {
   "cell_type": "code",
   "execution_count": 22,
   "id": "670ec2fc",
   "metadata": {},
   "outputs": [
    {
     "data": {
      "text/markdown": [
       "```python\n",
       "class Action:\n",
       "  id: str = 662a1a6aa1f44aa3a6a3e309cc8d1461\n",
       "  path: str = \"action.execute\"\n",
       "  op: str = \"astype\"\n",
       "  remote_self: str = 7eb6c8805be5400b8b681942f613c05b\n",
       "  args: str = [<LineageID: 15c6849e068647d29496f5f58101127a - 201284182237991188>]\n",
       "  kwargs: str = {}\n",
       "  result_id: str = 7eb6c8805be5400b8b681942f613c05b\n",
       "\n",
       "```"
      ],
      "text/plain": [
       "syft.service.action.action_object.Action"
      ]
     },
     "execution_count": 22,
     "metadata": {},
     "output_type": "execute_result"
    }
   ],
   "source": [
    "action4 = Action(\n",
    "    path=\"action.execute\",\n",
    "    op=\"astype\",\n",
    "    remote_self=action2.result_id,\n",
    "    args=[as_type_action_obj.syft_lineage_id],\n",
    "    kwargs={},\n",
    "    result_id=action2.result_id\n",
    ")\n",
    "action4"
   ]
  },
  {
   "cell_type": "code",
   "execution_count": 23,
   "id": "c45550fb",
   "metadata": {},
   "outputs": [
    {
     "data": {
      "text/markdown": [
       "```python\n",
       "class NodeActionData:\n",
       "  id: str = 662a1a6aa1f44aa3a6a3e309cc8d1461\n",
       "  action: str = syft.service.action.action_object.Action\n",
       "  status: str = ActionStatus.PROCESSING\n",
       "  retry: str = 0\n",
       "  created_at: str = 2023-04-24 02:49:17\n",
       "  updated_at: str = None\n",
       "  user_verify_key: str = b4f97fe25ba67780d54825933a128f072f2a8215face2fb323de9a73b803bf23\n",
       "  is_mutated: str = False\n",
       "\n",
       "```"
      ],
      "text/plain": [
       "class NodeActionData:\n",
       "  id: str = 662a1a6aa1f44aa3a6a3e309cc8d1461\n",
       "  action: str = syft.service.action.action_object.Action\n",
       "  status: str = ActionStatus.PROCESSING\n",
       "  retry: str = 0\n",
       "  created_at: str = 2023-04-24 02:49:17\n",
       "  updated_at: str = None\n",
       "  user_verify_key: str = b4f97fe25ba67780d54825933a128f072f2a8215face2fb323de9a73b803bf23\n",
       "  is_mutated: str = False"
      ]
     },
     "execution_count": 23,
     "metadata": {},
     "output_type": "execute_result"
    }
   ],
   "source": [
    "action_graph_service.add_action(context=authed_context, action=action4)"
   ]
  },
  {
   "cell_type": "code",
   "execution_count": 24,
   "id": "c38e3326",
   "metadata": {},
   "outputs": [
    {
     "data": {
      "image/png": "[encoded data removed]",
      "text/plain": [
       "<Figure size 1440x720 with 1 Axes>"
      ]
     },
     "metadata": {},
     "output_type": "display_data"
    }
   ],
   "source": [
    "plt.figure(figsize=(20, 10))\n",
    "action_graph_service.store.graph.visualize()"
   ]
  },
  {
   "cell_type": "code",
   "execution_count": 25,
   "id": "222b08db",
   "metadata": {},
   "outputs": [
    {
     "data": {
      "text/markdown": [
       "```python\n",
       "class NodeActionData:\n",
       "  id: str = 4b5a782928094230b8138e4d42b2f95e\n",
       "  action: str = syft.service.action.action_object.Action\n",
       "  status: str = ActionStatus.PROCESSING\n",
       "  retry: str = 0\n",
       "  created_at: str = 2023-04-24 02:49:17\n",
       "  updated_at: str = None\n",
       "  user_verify_key: str = b4f97fe25ba67780d54825933a128f072f2a8215face2fb323de9a73b803bf23\n",
       "  is_mutated: str = False\n",
       "\n",
       "```"
      ],
      "text/plain": [
       "class NodeActionData:\n",
       "  id: str = 4b5a782928094230b8138e4d42b2f95e\n",
       "  action: str = syft.service.action.action_object.Action\n",
       "  status: str = ActionStatus.PROCESSING\n",
       "  retry: str = 0\n",
       "  created_at: str = 2023-04-24 02:49:17\n",
       "  updated_at: str = None\n",
       "  user_verify_key: str = b4f97fe25ba67780d54825933a128f072f2a8215face2fb323de9a73b803bf23\n",
       "  is_mutated: str = False"
      ]
     },
     "execution_count": 25,
     "metadata": {},
     "output_type": "execute_result"
    }
   ],
   "source": [
    "action_2_node_data = action_graph_service.store.get(uid=action2.id, credentials=authed_context.credentials).ok()\n",
    "action_2_node_data"
   ]
  },
  {
   "cell_type": "code",
   "execution_count": 26,
   "id": "2854d98e",
   "metadata": {},
   "outputs": [
    {
     "data": {
      "text/markdown": [
       "```python\n",
       "class NodeActionData:\n",
       "  id: str = 4b5a782928094230b8138e4d42b2f95e\n",
       "  action: str = syft.service.action.action_object.Action\n",
       "  status: str = ActionStatus.PROCESSING\n",
       "  retry: str = 0\n",
       "  created_at: str = 2023-04-24 02:49:17\n",
       "  updated_at: str = 2023-04-24 02:49:17\n",
       "  user_verify_key: str = b4f97fe25ba67780d54825933a128f072f2a8215face2fb323de9a73b803bf23\n",
       "  is_mutated: str = True\n",
       "\n",
       "```"
      ],
      "text/plain": [
       "class NodeActionData:\n",
       "  id: str = 4b5a782928094230b8138e4d42b2f95e\n",
       "  action: str = syft.service.action.action_object.Action\n",
       "  status: str = ActionStatus.PROCESSING\n",
       "  retry: str = 0\n",
       "  created_at: str = 2023-04-24 02:49:17\n",
       "  updated_at: str = 2023-04-24 02:49:17\n",
       "  user_verify_key: str = b4f97fe25ba67780d54825933a128f072f2a8215face2fb323de9a73b803bf23\n",
       "  is_mutated: str = True"
      ]
     },
     "execution_count": 26,
     "metadata": {},
     "output_type": "execute_result"
    }
   ],
   "source": [
    "action_graph_service.update(context=authed_context, action_id=action2.id, node_data=NodeActionDataUpdate(is_mutated=True))"
   ]
  },
  {
   "cell_type": "code",
   "execution_count": 27,
   "id": "ecfa80c4",
   "metadata": {},
   "outputs": [
    {
     "data": {
      "text/markdown": [
       "```python\n",
       "class NodeActionData:\n",
       "  id: str = 4b5a782928094230b8138e4d42b2f95e\n",
       "  action: str = syft.service.action.action_object.Action\n",
       "  status: str = ActionStatus.PROCESSING\n",
       "  retry: str = 0\n",
       "  created_at: str = 2023-04-24 02:49:17\n",
       "  updated_at: str = 2023-04-24 02:49:17\n",
       "  user_verify_key: str = b4f97fe25ba67780d54825933a128f072f2a8215face2fb323de9a73b803bf23\n",
       "  is_mutated: str = True\n",
       "\n",
       "```"
      ],
      "text/plain": [
       "class NodeActionData:\n",
       "  id: str = 4b5a782928094230b8138e4d42b2f95e\n",
       "  action: str = syft.service.action.action_object.Action\n",
       "  status: str = ActionStatus.PROCESSING\n",
       "  retry: str = 0\n",
       "  created_at: str = 2023-04-24 02:49:17\n",
       "  updated_at: str = 2023-04-24 02:49:17\n",
       "  user_verify_key: str = b4f97fe25ba67780d54825933a128f072f2a8215face2fb323de9a73b803bf23\n",
       "  is_mutated: str = True"
      ]
     },
     "execution_count": 27,
     "metadata": {},
     "output_type": "execute_result"
    }
   ],
   "source": [
    "action_graph_service.store.get(uid=action2.id, credentials=authed_context.credentials).ok()"
   ]
  },
  {
   "cell_type": "code",
   "execution_count": 28,
   "id": "8803e9a3",
   "metadata": {},
   "outputs": [
    {
     "data": {
      "image/png": "[encoded data removed]",
      "text/plain": [
       "<Figure size 1440x720 with 1 Axes>"
      ]
     },
     "metadata": {},
     "output_type": "display_data"
    }
   ],
   "source": [
    "plt.figure(figsize=(20, 10))\n",
    "action_graph_service.store.graph.visualize()"
   ]
  },
  {
   "cell_type": "markdown",
   "id": "7b67ceb1",
   "metadata": {},
   "source": [
    "### Action5 -> D + 48"
   ]
  },
  {
   "cell_type": "code",
   "execution_count": 29,
   "id": "f18e3455",
   "metadata": {},
   "outputs": [],
   "source": [
    "arg_action_obj = ActionObject.from_obj(48)"
   ]
  },
  {
   "cell_type": "code",
   "execution_count": 30,
   "id": "147c118e",
   "metadata": {},
   "outputs": [],
   "source": [
    "# action2.result_id == action4.result_id"
   ]
  },
  {
   "cell_type": "code",
   "execution_count": 31,
   "id": "80a62079",
   "metadata": {},
   "outputs": [
    {
     "data": {
      "text/markdown": [
       "```python\n",
       "class Action:\n",
       "  id: str = 4086b22ae47d4599bd752dc87511e84b\n",
       "  path: str = \"action.execute\"\n",
       "  op: str = \"__add__\"\n",
       "  remote_self: str = 7eb6c8805be5400b8b681942f613c05b\n",
       "  args: str = [<LineageID: fff20abe49714359aa653518f82afeb9 - 717632596132305350>]\n",
       "  kwargs: str = {}\n",
       "  result_id: str = 4779f11c79624e1c8ee4dc465df5becd\n",
       "\n",
       "```"
      ],
      "text/plain": [
       "syft.service.action.action_object.Action"
      ]
     },
     "execution_count": 31,
     "metadata": {},
     "output_type": "execute_result"
    }
   ],
   "source": [
    "action5 = Action(\n",
    "    path=\"action.execute\",\n",
    "    op=\"__add__\",\n",
    "    remote_self=action2.result_id,\n",
    "    args=[arg_action_obj.syft_lineage_id],\n",
    "    kwargs={},\n",
    ")\n",
    "action5"
   ]
  },
  {
   "cell_type": "code",
   "execution_count": 32,
   "id": "684c0fcd",
   "metadata": {},
   "outputs": [
    {
     "data": {
      "text/markdown": [
       "```python\n",
       "class NodeActionData:\n",
       "  id: str = 4086b22ae47d4599bd752dc87511e84b\n",
       "  action: str = syft.service.action.action_object.Action\n",
       "  status: str = ActionStatus.PROCESSING\n",
       "  retry: str = 0\n",
       "  created_at: str = 2023-04-24 02:49:17\n",
       "  updated_at: str = None\n",
       "  user_verify_key: str = b4f97fe25ba67780d54825933a128f072f2a8215face2fb323de9a73b803bf23\n",
       "  is_mutated: str = False\n",
       "\n",
       "```"
      ],
      "text/plain": [
       "class NodeActionData:\n",
       "  id: str = 4086b22ae47d4599bd752dc87511e84b\n",
       "  action: str = syft.service.action.action_object.Action\n",
       "  status: str = ActionStatus.PROCESSING\n",
       "  retry: str = 0\n",
       "  created_at: str = 2023-04-24 02:49:17\n",
       "  updated_at: str = None\n",
       "  user_verify_key: str = b4f97fe25ba67780d54825933a128f072f2a8215face2fb323de9a73b803bf23\n",
       "  is_mutated: str = False"
      ]
     },
     "execution_count": 32,
     "metadata": {},
     "output_type": "execute_result"
    }
   ],
   "source": [
    "action_graph_service.add_action(context=authed_context, action=action5)"
   ]
  },
  {
   "cell_type": "code",
   "execution_count": 33,
   "id": "7632cb60",
   "metadata": {},
   "outputs": [
    {
     "data": {
      "image/png": "[encoded data removed]",
      "text/plain": [
       "<Figure size 1440x720 with 1 Axes>"
      ]
     },
     "metadata": {},
     "output_type": "display_data"
    }
   ],
   "source": [
    "plt.figure(figsize=(20, 10))\n",
    "action_graph_service.store.graph.visualize()"
   ]
  },
  {
   "cell_type": "code",
   "execution_count": 34,
   "id": "fc59fde8",
   "metadata": {},
   "outputs": [
    {
     "data": {
      "text/plain": [
       "(<UID: c9583a522d7543a4a7f1b046e6385e17>,\n",
       " <UID: 4b5a782928094230b8138e4d42b2f95e>,\n",
       " <UID: e0ef9c334d0c4062a860e4e7c5fb9d26>,\n",
       " <UID: 662a1a6aa1f44aa3a6a3e309cc8d1461>,\n",
       " <UID: 4086b22ae47d4599bd752dc87511e84b>)"
      ]
     },
     "execution_count": 34,
     "metadata": {},
     "output_type": "execute_result"
    }
   ],
   "source": [
    "action1.id, action2.id, action3.id, action4.id, action5.id"
   ]
  },
  {
   "cell_type": "markdown",
   "id": "fa801ebb",
   "metadata": {},
   "source": [
    "```\n",
    "\n",
    "action1 -> a + b\n",
    "\n",
    "action2 -> initialization of variable `d`\n",
    "\n",
    "action3 -> c * d\n",
    "\n",
    "action4 -> inplace updation of type of `d` (d.astype('int32'))\n",
    "\n",
    "action5 -> d + 48\n",
    "\n",
    "```"
   ]
  },
  {
   "cell_type": "markdown",
   "id": "f621bba4",
   "metadata": {},
   "source": [
    "## Filtering Actions in the Graph"
   ]
  },
  {
   "cell_type": "markdown",
   "id": "3cba2c95",
   "metadata": {},
   "source": [
    "### Filter by ActionStatus\n",
    "\n",
    "```\n",
    "ActionStatus\n",
    "- PROCESSING\n",
    "- DONE\n",
    "- FAILED\n",
    "```"
   ]
  },
  {
   "cell_type": "code",
   "execution_count": 35,
   "id": "e93cd503",
   "metadata": {},
   "outputs": [
    {
     "data": {
      "text/html": [
       "List - Size: 5\n",
       "<div>\n",
       "<style scoped>\n",
       "    .dataframe tbody tr th:only-of-type {\n",
       "        vertical-align: middle;\n",
       "    }\n",
       "\n",
       "    .dataframe tbody tr th {\n",
       "        vertical-align: top;\n",
       "    }\n",
       "\n",
       "    .dataframe thead th {\n",
       "        text-align: right;\n",
       "    }\n",
       "</style>\n",
       "<table border=\"1\" class=\"dataframe\">\n",
       "  <thead>\n",
       "    <tr style=\"text-align: right;\">\n",
       "      <th></th>\n",
       "      <th>type</th>\n",
       "      <th>id</th>\n",
       "    </tr>\n",
       "  </thead>\n",
       "  <tbody>\n",
       "    <tr>\n",
       "      <th>0</th>\n",
       "      <td>&lt;UID: c9583a522d7543a4a7f1b046e6385e17&gt;</td>\n",
       "      <td>None</td>\n",
       "    </tr>\n",
       "    <tr>\n",
       "      <th>1</th>\n",
       "      <td>&lt;UID: 4b5a782928094230b8138e4d42b2f95e&gt;</td>\n",
       "      <td>None</td>\n",
       "    </tr>\n",
       "    <tr>\n",
       "      <th>2</th>\n",
       "      <td>&lt;UID: e0ef9c334d0c4062a860e4e7c5fb9d26&gt;</td>\n",
       "      <td>None</td>\n",
       "    </tr>\n",
       "    <tr>\n",
       "      <th>3</th>\n",
       "      <td>&lt;UID: 662a1a6aa1f44aa3a6a3e309cc8d1461&gt;</td>\n",
       "      <td>None</td>\n",
       "    </tr>\n",
       "    <tr>\n",
       "      <th>4</th>\n",
       "      <td>&lt;UID: 4086b22ae47d4599bd752dc87511e84b&gt;</td>\n",
       "      <td>None</td>\n",
       "    </tr>\n",
       "  </tbody>\n",
       "</table>\n",
       "</div>"
      ],
      "text/plain": [
       "[<UID: c9583a522d7543a4a7f1b046e6385e17>,\n",
       " <UID: 4b5a782928094230b8138e4d42b2f95e>,\n",
       " <UID: e0ef9c334d0c4062a860e4e7c5fb9d26>,\n",
       " <UID: 662a1a6aa1f44aa3a6a3e309cc8d1461>,\n",
       " <UID: 4086b22ae47d4599bd752dc87511e84b>]"
      ]
     },
     "execution_count": 35,
     "metadata": {},
     "output_type": "execute_result"
    }
   ],
   "source": [
    "action_graph_service.get_by_action_status(context=authed_context, status=ActionStatus.PROCESSING)"
   ]
  },
  {
   "cell_type": "code",
   "execution_count": 36,
   "id": "fc232be3",
   "metadata": {},
   "outputs": [
    {
     "data": {
      "text/html": [
       "[]"
      ],
      "text/plain": [
       "[]"
      ]
     },
     "execution_count": 36,
     "metadata": {},
     "output_type": "execute_result"
    }
   ],
   "source": [
    "action_graph_service.get_by_action_status(context=authed_context, status=ActionStatus.DONE)"
   ]
  },
  {
   "cell_type": "markdown",
   "id": "135a96f1",
   "metadata": {},
   "source": [
    "### Filter by Particular User"
   ]
  },
  {
   "cell_type": "code",
   "execution_count": 37,
   "id": "443eb463",
   "metadata": {},
   "outputs": [
    {
     "data": {
      "text/html": [
       "List - Size: 5\n",
       "<div>\n",
       "<style scoped>\n",
       "    .dataframe tbody tr th:only-of-type {\n",
       "        vertical-align: middle;\n",
       "    }\n",
       "\n",
       "    .dataframe tbody tr th {\n",
       "        vertical-align: top;\n",
       "    }\n",
       "\n",
       "    .dataframe thead th {\n",
       "        text-align: right;\n",
       "    }\n",
       "</style>\n",
       "<table border=\"1\" class=\"dataframe\">\n",
       "  <thead>\n",
       "    <tr style=\"text-align: right;\">\n",
       "      <th></th>\n",
       "      <th>type</th>\n",
       "      <th>id</th>\n",
       "    </tr>\n",
       "  </thead>\n",
       "  <tbody>\n",
       "    <tr>\n",
       "      <th>0</th>\n",
       "      <td>&lt;UID: c9583a522d7543a4a7f1b046e6385e17&gt;</td>\n",
       "      <td>None</td>\n",
       "    </tr>\n",
       "    <tr>\n",
       "      <th>1</th>\n",
       "      <td>&lt;UID: 4b5a782928094230b8138e4d42b2f95e&gt;</td>\n",
       "      <td>None</td>\n",
       "    </tr>\n",
       "    <tr>\n",
       "      <th>2</th>\n",
       "      <td>&lt;UID: e0ef9c334d0c4062a860e4e7c5fb9d26&gt;</td>\n",
       "      <td>None</td>\n",
       "    </tr>\n",
       "    <tr>\n",
       "      <th>3</th>\n",
       "      <td>&lt;UID: 662a1a6aa1f44aa3a6a3e309cc8d1461&gt;</td>\n",
       "      <td>None</td>\n",
       "    </tr>\n",
       "    <tr>\n",
       "      <th>4</th>\n",
       "      <td>&lt;UID: 4086b22ae47d4599bd752dc87511e84b&gt;</td>\n",
       "      <td>None</td>\n",
       "    </tr>\n",
       "  </tbody>\n",
       "</table>\n",
       "</div>"
      ],
      "text/plain": [
       "[<UID: c9583a522d7543a4a7f1b046e6385e17>,\n",
       " <UID: 4b5a782928094230b8138e4d42b2f95e>,\n",
       " <UID: e0ef9c334d0c4062a860e4e7c5fb9d26>,\n",
       " <UID: 662a1a6aa1f44aa3a6a3e309cc8d1461>,\n",
       " <UID: 4086b22ae47d4599bd752dc87511e84b>]"
      ]
     },
     "execution_count": 37,
     "metadata": {},
     "output_type": "execute_result"
    }
   ],
   "source": [
    "action_graph_service.get_by_verify_key(context=authed_context, verify_key=signing_key.verify_key)"
   ]
  },
  {
   "cell_type": "code",
   "execution_count": 38,
   "id": "9a967515",
   "metadata": {},
   "outputs": [],
   "source": [
    "### Serde "
   ]
  },
  {
   "cell_type": "code",
   "execution_count": 41,
   "id": "1563a045",
   "metadata": {},
   "outputs": [],
   "source": [
    "# bytes_data = sy.serialize(graph_store, to_bytes=True)"
   ]
  },
  {
   "cell_type": "code",
   "execution_count": 43,
   "id": "3352ebaf",
   "metadata": {},
   "outputs": [],
   "source": [
    "# graph_store = sy.deserialize(bytes_data, from_bytes=True)"
   ]
  }
 ],
 "metadata": {
  "kernelspec": {
   "display_name": "Python 3 (ipykernel)",
   "language": "python",
   "name": "python3"
  },
  "language_info": {
   "codemirror_mode": {
    "name": "ipython",
    "version": 3
   },
   "file_extension": ".py",
   "mimetype": "text/x-python",
   "name": "python",
   "nbconvert_exporter": "python",
   "pygments_lexer": "ipython3",
   "version": "3.9.7"
  }
 },
 "nbformat": 4,
 "nbformat_minor": 5
}
