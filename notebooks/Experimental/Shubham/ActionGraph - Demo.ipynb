{
 "cells": [
  {
   "cell_type": "markdown",
   "id": "700056a7",
   "metadata": {},
   "source": [
    "# Action Graph "
   ]
  },
  {
   "cell_type": "code",
   "execution_count": 42,
   "id": "d27c68a4",
   "metadata": {},
   "outputs": [],
   "source": [
    "import syft as sy\n",
    "from syft.service.action.action_graph_service import ActionGraphService, NodeActionDataUpdate\n",
    "from syft.service.action.action_graph import InMemoryActionGraphStore, InMemoryGraphConfig, InMemoryStoreClientConfig\n",
    "\n",
    "from syft.service.context import AuthedServiceContext\n",
    "from syft.node.credentials import SyftSigningKey\n",
    "from syft.service.action.action_graph import Action\n",
    "from syft.service.action.numpy import NumpyArrayObject, ActionObject\n",
    "import numpy as np\n",
    "import matplotlib.pyplot as plt"
   ]
  },
  {
   "cell_type": "markdown",
   "id": "cb38d947",
   "metadata": {},
   "source": [
    "## Scenario for performing some computation\n",
    "\n",
    "```python\n",
    "\n",
    "import syft as sy\n",
    "\n",
    "domain_client = sy.login(\"....\")\n",
    "\n",
    "dataset = domain_client.datasets[0]\n",
    "\n",
    "a = dataset.assets[\"A\"]\n",
    "\n",
    "b = dataset.assets[\"B\"]\n",
    "\n",
    "c = a + b\n",
    "\n",
    "d = domain_client.api.numpy.array([1, 2, 3])\n",
    "\n",
    "e = c * d\n",
    "\n",
    "# Inplace operation, mutated the value of d\n",
    "d.astype('int32')\n",
    "\n",
    "f = d + 48\n",
    "```\n",
    "\n",
    "<br>\n",
    "<br>\n",
    "\n",
    "**Corresponding Actions Generated**\n",
    "\n",
    "```\n",
    "\n",
    "action1 -> a + b\n",
    "\n",
    "action2 -> initialization of variable `d`\n",
    "\n",
    "action3 -> c * d\n",
    "\n",
    "action4 -> inplace updation of type of `d` (d.astype('int32'))\n",
    "\n",
    "action5 -> d + 48\n",
    "\n",
    "```"
   ]
  },
  {
   "attachments": {},
   "cell_type": "markdown",
   "id": "a70aecf8",
   "metadata": {},
   "source": [
    "![graph.png](graph.png)"
   ]
  },
  {
   "cell_type": "markdown",
   "id": "4e734eb4",
   "metadata": {},
   "source": [
    "### Initializing the Store"
   ]
  },
  {
   "cell_type": "code",
   "execution_count": 4,
   "id": "55ab1bba",
   "metadata": {},
   "outputs": [],
   "source": [
    "# Create a Config\n",
    "\n",
    "store_config = InMemoryGraphConfig()"
   ]
  },
  {
   "cell_type": "code",
   "execution_count": 5,
   "id": "10b32a8d",
   "metadata": {},
   "outputs": [],
   "source": [
    "# Initialize the InMemory Store\n",
    "\n",
    "graph_store = InMemoryActionGraphStore(store_config=store_config)"
   ]
  },
  {
   "cell_type": "markdown",
   "id": "76a26d33",
   "metadata": {},
   "source": [
    "### Initializing Action Graph Service"
   ]
  },
  {
   "cell_type": "code",
   "execution_count": 6,
   "id": "5206dc97",
   "metadata": {},
   "outputs": [],
   "source": [
    "action_graph_service = ActionGraphService(store=graph_store)"
   ]
  },
  {
   "cell_type": "code",
   "execution_count": 13,
   "id": "a624a5af",
   "metadata": {},
   "outputs": [],
   "source": [
    "signing_key = SyftSigningKey.generate()\n",
    "authed_context = AuthedServiceContext(credentials=signing_key.verify_key)"
   ]
  },
  {
   "cell_type": "markdown",
   "id": "5df1f716",
   "metadata": {},
   "source": [
    "### SerDe the Store"
   ]
  },
  {
   "cell_type": "code",
   "execution_count": 7,
   "id": "bd687a20",
   "metadata": {},
   "outputs": [],
   "source": [
    "bytes_data = sy.serialize(graph_store, to_bytes=True)"
   ]
  },
  {
   "cell_type": "code",
   "execution_count": 8,
   "id": "e6703eda",
   "metadata": {},
   "outputs": [
    {
     "data": {
      "text/plain": [
       "b'\\x00\\x00\\x00\\x00\\xf1\\x00\\x00\\x00\\x00\\x00\\x00\\x00\\x00\\x00\\x04\\x00-\\x00\\x00\\x00\\x16\\x00\\x00\\x001\\x00\\x00\\x00\\x16\\x00\\x00\\x00\\x05\\x00\\x00\\x00\\xd2\\x01\\x00\\x00\\x00\\x00\\x00\\x00\\x00\\x00\\x00\\x00syft.service.action.action_graph.InMemoryActionGraphStore\\x00\\x00\\x00\\x00\\x00\\x00\\x00\\r\\x00\\x00\\x002\\x00\\x00\\x00\\xb9\\x00\\x00\\x00j\\x00\\x00\\x00\\t\\x00\\x00\\x00\\x0e\\x00\\x00\\x00\\xb9\\x00\\x00\\x00\\x0e\\x00\\x00\\x00graph\\x00\\x00\\x00\\x01\\x00\\x00\\x00\\x82\\n\\x00\\x00\\x00\\x00\\x00\\x00)\\x00\\x00\\x00\\x00\\x00\\x00\\x00\\x00\\x00\\x04\\x00)\\x00\\x00\\x00\\x0e\\x00\\x00\\x00)\\x00\\x00\\x00\\x0e\\x00\\x00\\x00\\x05\\x00\\x00\\x00\\xb2\\x01\\x00\\x00\\x00\\x00\\x00\\x00\\x00\\x00\\x00\\x00syft.service.action.action_graph.NetworkXBackingStore\\x00\\x00\\x00\\x05\\x00\\x00\\x00\"\\x00\\x00\\x00\\x05\\x00\\x00\\x00\\x0e\\x00\\x00\\x00_db\\x00\\x00\\x00\\x00\\x00\\x01\\x00\\x00\\x00B\\x06\\x00\\x00\\x00\\x00\\x00\\x00\\x18\\x00\\x00\\x00\\x00\\x00\\x00\\x00\\x00\\x00\\x04\\x00\\x00\\x00\\x00\\x00\\x00\\x00\\x00\\x00\\x00\\x00\\x00\\x00\\x00\\x00\\x00\\x00\\x05\\x00\\x00\\x00\\n\\x01\\x00\\x00\\x15\\x00\\x00\\x00\\x0e\\x00\\x00\\x00networkx.classes.digraph.DiGraph\\x00\\x00\\x00\\x00\\x00\\x00\\x00\\x00\\x01\\x00\\x00\\x00B\\x03\\x00\\x00\\x00\\x00\\x00\\x00\\x0c\\x00\\x00\\x00\\x00\\x00\\x00\\x00\\x00\\x00\\x04\\x00\\x00\\x00\\x00\\x00\\x00\\x00\\x00\\x00\\x00\\x00\\x00\\x00\\x00\\x00\\x00\\x00\\x05\\x00\\x00\\x00r\\x00\\x00\\x00\\t\\x00\\x00\\x00\\x0e\\x00\\x00\\x00builtins.dict\\x00\\x00\\x00\\x01\\x00\\x00\\x00\\x02\\x01\\x00\\x00\\x00\\x00\\x00\\x00\\x03\\x00\\x00\\x00\\x00\\x00\\x00\\x00\\x00\\x00\\x02\\x00\\x05\\x00\\x00\\x00\\x06\\x00\\x00\\x00\\x01\\x00\\x00\\x00\\x06\\x00\\x00\\x00store_config\\x00\\x00\\x00\\x00\\x01\\x00\\x00\\x00B,\\x00\\x00\\x00\\x00\\x00\\x00\\xb0\\x00\\x00\\x00\\x00\\x00\\x00\\x00\\x00\\x00\\x04\\x00)\\x00\\x00\\x00\\x1e\\x00\\x00\\x001\\x00\\x00\\x00\\x1e\\x00\\x00\\x00\\x05\\x00\\x00\\x00\\xaa\\x01\\x00\\x00\\x00\\x00\\x00\\x00\\x00\\x00\\x00\\x00syft.service.action.action_graph.InMemoryGraphConfig\\x00\\x00\\x00\\x00\\x15\\x00\\x00\\x00r\\x00\\x00\\x00\\xd1\\x00\\x00\\x00z\\x00\\x00\\x009\\x02\\x00\\x00Z\\x00\\x00\\x00\\x11\\x00\\x00\\x00\\x0e\\x00\\x00\\x00\\xcd\\x00\\x00\\x00\\x0e\\x00\\x00\\x005\\x02\\x00\\x00\\x0e\\x00\\x00\\x00client_config\\x00\\x00\\x00\\x01\\x00\\x00\\x00B\\x0b\\x00\\x00\\x00\\x00\\x00\\x00,\\x00\\x00\\x00\\x00\\x00\\x00\\x00\\x00\\x00\\x04\\x00-\\x00\\x00\\x00\\x16\\x00\\x00\\x001\\x00\\x00\\x00\\x16\\x00\\x00\\x00\\x05\\x00\\x00\\x00\\xda\\x01\\x00\\x00\\x00\\x00\\x00\\x00\\x00\\x00\\x00\\x00syft.service.action.action_graph.InMemoryStoreClientConfig\\x00\\x00\\x00\\x00\\x00\\x00\\r\\x00\\x00\\x00J\\x00\\x00\\x00E\\x00\\x00\\x00*\\x00\\x00\\x00\\r\\x00\\x00\\x00\\x0e\\x00\\x00\\x00A\\x00\\x00\\x00\\x0e\\x00\\x00\\x00filename\\x00\\x00\\x00\\x00\\x00\\x00\\x00\\x00\\x01\\x00\\x00\\x00\\x02\\x03\\x00\\x00\\x00\\x00\\x00\\x00\\x0b\\x00\\x00\\x00\\x00\\x00\\x00\\x00\\x00\\x00\\x04\\x00\\x00\\x00\\x00\\x00\\x00\\x00\\x00\\x00\\x00\\x00\\x00\\x00\\x00\\x00\\x00\\x00\\x05\\x00\\x00\\x00j\\x00\\x00\\x00\\t\\x00\\x00\\x00\\x0e\\x00\\x00\\x00builtins.str\\x00\\x00\\x00\\x00\\x01\\x00\\x00\\x00\\x92\\x00\\x00\\x00action_graph.bytes\\x00\\x00\\x00\\x00\\x00\\x00path\\x00\\x00\\x00\\x00\\x01\\x00\\x00\\x00\\x82\\x02\\x00\\x00\\x00\\x00\\x00\\x00\\t\\x00\\x00\\x00\\x00\\x00\\x00\\x00\\x00\\x00\\x04\\x00\\x00\\x00\\x00\\x00\\x00\\x00\\x00\\x00\\x00\\x00\\x00\\x00\\x00\\x00\\x00\\x00\\x05\\x00\\x00\\x00j\\x00\\x00\\x00\\t\\x00\\x00\\x00\\x0e\\x00\\x00\\x00builtins.str\\x00\\x00\\x00\\x00\\x01\\x00\\x00\\x00\"\\x00\\x00\\x00/tmp\\x00\\x00\\x00\\x00locking_config\\x00\\x00\\x01\\x00\\x00\\x00\\x02\\x16\\x00\\x00\\x00\\x00\\x00\\x00W\\x00\\x00\\x00\\x00\\x00\\x00\\x00\\x00\\x00\\x04\\x00!\\x00\\x00\\x00.\\x00\\x00\\x001\\x00\\x00\\x00.\\x00\\x00\\x00\\x05\\x00\\x00\\x00\\n\\x01\\x00\\x00\\x00\\x00\\x00\\x00\\x00\\x00\\x00\\x00syft.store.locks.NoLockingConfig\\x00\\x00\\x00\\x00\\x00\\x00\\x00\\x00%\\x00\\x00\\x00:\\x00\\x00\\x00Q\\x00\\x00\\x00R\\x00\\x00\\x00\\x85\\x00\\x00\\x00R\\x00\\x00\\x00\\xb9\\x00\\x00\\x00z\\x00\\x00\\x00\\xf1\\x00\\x00\\x00B\\x00\\x00\\x00\\x15\\x00\\x00\\x00\\x0e\\x00\\x00\\x00E\\x00\\x00\\x00\\x0e\\x00\\x00\\x00y\\x00\\x00\\x00\\x0e\\x00\\x00\\x00\\xad\\x00\\x00\\x00\\x0e\\x00\\x00\\x00\\xe1\\x00\\x00\\x00\\x0e\\x00\\x00\\x00expire\\x00\\x00\\x01\\x00\\x00\\x00\\x82\\x02\\x00\\x00\\x00\\x00\\x00\\x00\\t\\x00\\x00\\x00\\x00\\x00\\x00\\x00\\x00\\x00\\x04\\x00\\x00\\x00\\x00\\x00\\x00\\x00\\x00\\x00\\x00\\x00\\x00\\x00\\x00\\x00\\x00\\x00\\x05\\x00\\x00\\x00j\\x00\\x00\\x00\\t\\x00\\x00\\x00\\x0e\\x00\\x00\\x00builtins.int\\x00\\x00\\x00\\x00\\x01\\x00\\x00\\x00\\x12\\x00\\x00\\x00\\x00<\\x00\\x00\\x00\\x00\\x00\\x00lock_name\\x00\\x00\\x00\\x00\\x00\\x00\\x00\\x01\\x00\\x00\\x00\\xc2\\x02\\x00\\x00\\x00\\x00\\x00\\x00\\n\\x00\\x00\\x00\\x00\\x00\\x00\\x00\\x00\\x00\\x04\\x00\\x00\\x00\\x00\\x00\\x00\\x00\\x00\\x00\\x00\\x00\\x00\\x00\\x00\\x00\\x00\\x00\\x05\\x00\\x00\\x00j\\x00\\x00\\x00\\t\\x00\\x00\\x00\\x0e\\x00\\x00\\x00builtins.str\\x00\\x00\\x00\\x00\\x01\\x00\\x00\\x00J\\x00\\x00\\x00syft_lock\\x00\\x00\\x00\\x00\\x00\\x00\\x00namespace\\x00\\x00\\x00\\x00\\x00\\x00\\x00\\x01\\x00\\x00\\x00\\xc2\\x02\\x00\\x00\\x00\\x00\\x00\\x00\\n\\x00\\x00\\x00\\x00\\x00\\x00\\x00\\x00\\x00\\x04\\x00\\x00\\x00\\x00\\x00\\x00\\x00\\x00\\x00\\x00\\x00\\x00\\x00\\x00\\x00\\x00\\x00\\x05\\x00\\x00\\x00\\x92\\x00\\x00\\x00\\r\\x00\\x00\\x00\\x0e\\x00\\x00\\x00builtins.NoneType\\x00\\x00\\x00\\x00\\x00\\x00\\x00\\x01\\x00\\x00\\x00\\n\\x00\\x00\\x001\\x00\\x00\\x00\\x00\\x00\\x00\\x00retry_interval\\x00\\x00\\x01\\x00\\x00\\x00\\x02\\x03\\x00\\x00\\x00\\x00\\x00\\x00\\x0b\\x00\\x00\\x00\\x00\\x00\\x00\\x00\\x00\\x00\\x04\\x00\\x00\\x00\\x00\\x00\\x00\\x00\\x00\\x00\\x00\\x00\\x00\\x00\\x00\\x00\\x00\\x00\\x05\\x00\\x00\\x00z\\x00\\x00\\x00\\t\\x00\\x00\\x00\\x0e\\x00\\x00\\x00builtins.float\\x00\\x00\\x01\\x00\\x00\\x00\\xa2\\x00\\x00\\x000x1.999999999999ap-4\\x00\\x00\\x00\\x00timeout\\x00\\x01\\x00\\x00\\x00\\x82\\x02\\x00\\x00\\x00\\x00\\x00\\x00\\t\\x00\\x00\\x00\\x00\\x00\\x00\\x00\\x00\\x00\\x04\\x00\\x00\\x00\\x00\\x00\\x00\\x00\\x00\\x00\\x00\\x00\\x00\\x00\\x00\\x00\\x00\\x00\\x05\\x00\\x00\\x00j\\x00\\x00\\x00\\t\\x00\\x00\\x00\\x0e\\x00\\x00\\x00builtins.int\\x00\\x00\\x00\\x00\\x01\\x00\\x00\\x00\\x12\\x00\\x00\\x00\\x00\\x1e\\x00\\x00\\x00\\x00\\x00\\x00store_type\\x00\\x00\\x00\\x00\\x00\\x00\\x01\\x00\\x00\\x00\\x02\\x04\\x00\\x00\\x00\\x00\\x00\\x00\\x0f\\x00\\x00\\x00\\x00\\x00\\x00\\x00\\x00\\x00\\x04\\x00\\x00\\x00\\x00\\x00\\x00\\x00\\x00\\x00\\x00\\x00\\x00\\x00\\x00\\x00\\x00\\x00\\x05\\x00\\x00\\x00r\\x00\\x00\\x00\\t\\x00\\x00\\x00\\x0e\\x00\\x00\\x00builtins.type\\x00\\x00\\x00\\x01\\x00\\x00\\x00\\xaa\\x01\\x00\\x00syft.service.action.action_graph.NetworkXBackingStore\\x00\\x00\\x00'"
      ]
     },
     "execution_count": 8,
     "metadata": {},
     "output_type": "execute_result"
    }
   ],
   "source": [
    "bytes_data"
   ]
  },
  {
   "cell_type": "code",
   "execution_count": 10,
   "id": "cb0748c8",
   "metadata": {},
   "outputs": [],
   "source": [
    "graph_store = sy.deserialize(bytes_data, from_bytes=True)"
   ]
  },
  {
   "cell_type": "code",
   "execution_count": 11,
   "id": "c2116130",
   "metadata": {},
   "outputs": [
    {
     "data": {
      "text/plain": [
       "<syft.service.action.action_graph.InMemoryActionGraphStore at 0x7f672068a220>"
      ]
     },
     "execution_count": 11,
     "metadata": {},
     "output_type": "execute_result"
    }
   ],
   "source": [
    "graph_store"
   ]
  },
  {
   "cell_type": "code",
   "execution_count": null,
   "id": "6112480a",
   "metadata": {},
   "outputs": [],
   "source": [
    "signing_key = SyftSigningKey.generate()\n",
    "authed_context = AuthedServiceContext(credentials=signing_key.verify_key)"
   ]
  },
  {
   "cell_type": "markdown",
   "id": "9c1177c5",
   "metadata": {},
   "source": [
    "### Create some dummy data"
   ]
  },
  {
   "cell_type": "code",
   "execution_count": 16,
   "id": "97417939",
   "metadata": {},
   "outputs": [],
   "source": [
    "action_obj_a = ActionObject.from_obj([2, 4, 6])\n",
    "action_obj_b = ActionObject.from_obj([2, 3, 4])"
   ]
  },
  {
   "cell_type": "code",
   "execution_count": 17,
   "id": "11d9fde4",
   "metadata": {},
   "outputs": [
    {
     "data": {
      "text/plain": [
       "(<UID: f31afebd86e1494c8b3bba8fe99d537f>,\n",
       " <UID: c480380d636d4dfdb35db1e80d09c8e8>)"
      ]
     },
     "execution_count": 17,
     "metadata": {},
     "output_type": "execute_result"
    }
   ],
   "source": [
    "action_obj_a.id, action_obj_b.id"
   ]
  },
  {
   "cell_type": "markdown",
   "id": "dd2bf6f6",
   "metadata": {},
   "source": [
    "### Action1 -> A + B"
   ]
  },
  {
   "cell_type": "code",
   "execution_count": 18,
   "id": "38bb629e",
   "metadata": {},
   "outputs": [
    {
     "data": {
      "text/markdown": [
       "```python\n",
       "class Action:\n",
       "  id: str = 2c1ed9b1fed541c190d559b68a1a08be\n",
       "  path: str = \"action.execute\"\n",
       "  op: str = \"__add__\"\n",
       "  remote_self: str = f31afebd86e1494c8b3bba8fe99d537f\n",
       "  args: str = [<LineageID: c480380d636d4dfdb35db1e80d09c8e8 - 1684190487146412294>]\n",
       "  kwargs: str = {}\n",
       "  result_id: str = 5a736b497e1c43e39d1955cd22f1c1fb\n",
       "\n",
       "```"
      ],
      "text/plain": [
       "syft.service.action.action_object.Action"
      ]
     },
     "execution_count": 18,
     "metadata": {},
     "output_type": "execute_result"
    }
   ],
   "source": [
    "action1 = Action(\n",
    "    path=\"action.execute\",\n",
    "    op=\"__add__\",\n",
    "    remote_self=action_obj_a.syft_lineage_id,\n",
    "    args=[action_obj_b.syft_lineage_id],\n",
    "    kwargs={}\n",
    ")\n",
    "action1"
   ]
  },
  {
   "cell_type": "markdown",
   "id": "11002e08",
   "metadata": {},
   "source": [
    "### Save action to Graph"
   ]
  },
  {
   "cell_type": "code",
   "execution_count": null,
   "id": "cf329864",
   "metadata": {},
   "outputs": [],
   "source": [
    "action_graph_service.add_action"
   ]
  },
  {
   "cell_type": "code",
   "execution_count": 22,
   "id": "8e954812",
   "metadata": {},
   "outputs": [
    {
     "data": {
      "text/markdown": [
       "```python\n",
       "class NodeActionData:\n",
       "  id: str = 2c1ed9b1fed541c190d559b68a1a08be\n",
       "  action: str = syft.service.action.action_object.Action\n",
       "  status: str = ActionStatus.PROCESSING\n",
       "  retry: str = 0\n",
       "  created_at: str = 2023-04-24 01:10:46\n",
       "  updated_at: str = None\n",
       "  user_verify_key: str = 85efc78a16f4060319b6188dffac7ff6fa779b794cac8abec5f223dd787dca2b\n",
       "  is_mutated: str = False\n",
       "\n",
       "```"
      ],
      "text/plain": [
       "class NodeActionData:\n",
       "  id: str = 2c1ed9b1fed541c190d559b68a1a08be\n",
       "  action: str = syft.service.action.action_object.Action\n",
       "  status: str = ActionStatus.PROCESSING\n",
       "  retry: str = 0\n",
       "  created_at: str = 2023-04-24 01:10:46\n",
       "  updated_at: str = None\n",
       "  user_verify_key: str = 85efc78a16f4060319b6188dffac7ff6fa779b794cac8abec5f223dd787dca2b\n",
       "  is_mutated: str = False"
      ]
     },
     "execution_count": 22,
     "metadata": {},
     "output_type": "execute_result"
    }
   ],
   "source": [
    "action_graph_service.add_action(context=authed_context, action=action1)"
   ]
  },
  {
   "cell_type": "markdown",
   "id": "9f18eeef",
   "metadata": {},
   "source": [
    "### Action2 -> np.array([1, 2, 3])"
   ]
  },
  {
   "cell_type": "code",
   "execution_count": 19,
   "id": "40c4f6d7",
   "metadata": {},
   "outputs": [],
   "source": [
    "action_obj_d = ActionObject.from_obj([1, 2, 3])"
   ]
  },
  {
   "cell_type": "code",
   "execution_count": 20,
   "id": "683aed4b",
   "metadata": {},
   "outputs": [
    {
     "data": {
      "text/markdown": [
       "```python\n",
       "class Action:\n",
       "  id: str = 747749f9494345b78e165f13351e52bf\n",
       "  path: str = \"action.execute\"\n",
       "  op: str = \"np.array\"\n",
       "  remote_self: str = None\n",
       "  args: str = [<LineageID: 24f5d753a3c84b5a8dcb05f114839e56 - 1547479663948200243>]\n",
       "  kwargs: str = {}\n",
       "  result_id: str = 0cadbdb3506e4f72b0fce4f312e20966\n",
       "\n",
       "```"
      ],
      "text/plain": [
       "syft.service.action.action_object.Action"
      ]
     },
     "execution_count": 20,
     "metadata": {},
     "output_type": "execute_result"
    }
   ],
   "source": [
    "# Create Action2\n",
    "\n",
    "action2 = Action(\n",
    "    path=\"action.execute\",\n",
    "    op=\"np.array\",\n",
    "    remote_self=None,\n",
    "    args=[action_obj_d.syft_lineage_id],\n",
    "    kwargs={}\n",
    ")\n",
    "action2"
   ]
  },
  {
   "cell_type": "code",
   "execution_count": 23,
   "id": "74d171f0",
   "metadata": {},
   "outputs": [
    {
     "data": {
      "text/markdown": [
       "```python\n",
       "class NodeActionData:\n",
       "  id: str = 747749f9494345b78e165f13351e52bf\n",
       "  action: str = syft.service.action.action_object.Action\n",
       "  status: str = ActionStatus.PROCESSING\n",
       "  retry: str = 0\n",
       "  created_at: str = 2023-04-24 01:12:08\n",
       "  updated_at: str = None\n",
       "  user_verify_key: str = 85efc78a16f4060319b6188dffac7ff6fa779b794cac8abec5f223dd787dca2b\n",
       "  is_mutated: str = False\n",
       "\n",
       "```"
      ],
      "text/plain": [
       "class NodeActionData:\n",
       "  id: str = 747749f9494345b78e165f13351e52bf\n",
       "  action: str = syft.service.action.action_object.Action\n",
       "  status: str = ActionStatus.PROCESSING\n",
       "  retry: str = 0\n",
       "  created_at: str = 2023-04-24 01:12:08\n",
       "  updated_at: str = None\n",
       "  user_verify_key: str = 85efc78a16f4060319b6188dffac7ff6fa779b794cac8abec5f223dd787dca2b\n",
       "  is_mutated: str = False"
      ]
     },
     "execution_count": 23,
     "metadata": {},
     "output_type": "execute_result"
    }
   ],
   "source": [
    "# Save action to graph\n",
    "action_graph_service.add_action(context=authed_context, action=action2)"
   ]
  },
  {
   "cell_type": "code",
   "execution_count": null,
   "id": "95984c3f",
   "metadata": {},
   "outputs": [],
   "source": [
    "# 747749f9494345b78e165f13351e52bf: {\"data\": NodeActionData()}"
   ]
  },
  {
   "cell_type": "code",
   "execution_count": 27,
   "id": "5a4df094",
   "metadata": {},
   "outputs": [
    {
     "data": {
      "image/png": "[encoded data removed]",
      "text/plain": [
       "<Figure size 1440x720 with 1 Axes>"
      ]
     },
     "metadata": {},
     "output_type": "display_data"
    }
   ],
   "source": [
    "plt.figure(figsize=(20, 10))\n",
    "action_graph_service.store.graph.visualize()"
   ]
  },
  {
   "cell_type": "markdown",
   "id": "e26b978a",
   "metadata": {},
   "source": [
    "### Action3 -> C * D"
   ]
  },
  {
   "cell_type": "code",
   "execution_count": 28,
   "id": "1d5098bc",
   "metadata": {},
   "outputs": [
    {
     "data": {
      "text/markdown": [
       "```python\n",
       "class Action:\n",
       "  id: str = 8545e5e7ef8a4a198334f227fe227b69\n",
       "  path: str = \"action.execute\"\n",
       "  op: str = \"__mul__\"\n",
       "  remote_self: str = 5a736b497e1c43e39d1955cd22f1c1fb\n",
       "  args: str = [<LineageID: 0cadbdb3506e4f72b0fce4f312e20966 - 1615334921920087294>]\n",
       "  kwargs: str = {}\n",
       "  result_id: str = 9bccf6ff15c146e696b98458335451dc\n",
       "\n",
       "```"
      ],
      "text/plain": [
       "syft.service.action.action_object.Action"
      ]
     },
     "execution_count": 28,
     "metadata": {},
     "output_type": "execute_result"
    }
   ],
   "source": [
    "action3 = Action(\n",
    "    path=\"action.execute\",\n",
    "    op=\"__mul__\",\n",
    "    remote_self=action1.result_id,\n",
    "    args=[action2.result_id],\n",
    "    kwargs={}\n",
    ")\n",
    "action3"
   ]
  },
  {
   "cell_type": "code",
   "execution_count": 29,
   "id": "f7c1e4e6",
   "metadata": {},
   "outputs": [
    {
     "data": {
      "text/markdown": [
       "```python\n",
       "class NodeActionData:\n",
       "  id: str = 8545e5e7ef8a4a198334f227fe227b69\n",
       "  action: str = syft.service.action.action_object.Action\n",
       "  status: str = ActionStatus.PROCESSING\n",
       "  retry: str = 0\n",
       "  created_at: str = 2023-04-24 01:22:38\n",
       "  updated_at: str = None\n",
       "  user_verify_key: str = 85efc78a16f4060319b6188dffac7ff6fa779b794cac8abec5f223dd787dca2b\n",
       "  is_mutated: str = False\n",
       "\n",
       "```"
      ],
      "text/plain": [
       "class NodeActionData:\n",
       "  id: str = 8545e5e7ef8a4a198334f227fe227b69\n",
       "  action: str = syft.service.action.action_object.Action\n",
       "  status: str = ActionStatus.PROCESSING\n",
       "  retry: str = 0\n",
       "  created_at: str = 2023-04-24 01:22:38\n",
       "  updated_at: str = None\n",
       "  user_verify_key: str = 85efc78a16f4060319b6188dffac7ff6fa779b794cac8abec5f223dd787dca2b\n",
       "  is_mutated: str = False"
      ]
     },
     "execution_count": 29,
     "metadata": {},
     "output_type": "execute_result"
    }
   ],
   "source": [
    "action_graph_service.add_action(context=authed_context, action=action3)"
   ]
  },
  {
   "cell_type": "code",
   "execution_count": 30,
   "id": "124e3475",
   "metadata": {
    "scrolled": false
   },
   "outputs": [
    {
     "data": {
      "image/png": "[encoded data removed]",
      "text/plain": [
       "<Figure size 1440x720 with 1 Axes>"
      ]
     },
     "metadata": {},
     "output_type": "display_data"
    }
   ],
   "source": [
    "plt.figure(figsize=(20, 10))\n",
    "action_graph_service.store.graph.visualize()"
   ]
  },
  {
   "cell_type": "markdown",
   "id": "86178e6d",
   "metadata": {},
   "source": [
    "### Action4 -> Mutate type of D"
   ]
  },
  {
   "cell_type": "code",
   "execution_count": 32,
   "id": "8a4a55ab",
   "metadata": {},
   "outputs": [],
   "source": [
    "as_type_action_obj = ActionObject.from_obj('np.int32')"
   ]
  },
  {
   "cell_type": "code",
   "execution_count": 33,
   "id": "737edf6e",
   "metadata": {},
   "outputs": [
    {
     "data": {
      "text/plain": [
       "'np.int32'"
      ]
     },
     "execution_count": 33,
     "metadata": {},
     "output_type": "execute_result"
    }
   ],
   "source": [
    "as_type_action_obj"
   ]
  },
  {
   "cell_type": "code",
   "execution_count": 34,
   "id": "d251dd53",
   "metadata": {},
   "outputs": [
    {
     "data": {
      "text/markdown": [
       "```python\n",
       "class Action:\n",
       "  id: str = 9606e52bb56e4cc9be471a049cabd776\n",
       "  path: str = \"action.execute\"\n",
       "  op: str = \"astype\"\n",
       "  remote_self: str = 0cadbdb3506e4f72b0fce4f312e20966\n",
       "  args: str = [<LineageID: 7214a1aff27543948c60486bf546dbfd - 2091172072086632637>]\n",
       "  kwargs: str = {}\n",
       "  result_id: str = 0cadbdb3506e4f72b0fce4f312e20966\n",
       "\n",
       "```"
      ],
      "text/plain": [
       "syft.service.action.action_object.Action"
      ]
     },
     "execution_count": 34,
     "metadata": {},
     "output_type": "execute_result"
    }
   ],
   "source": [
    "action4 = Action(\n",
    "    path=\"action.execute\",\n",
    "    op=\"astype\",\n",
    "    remote_self=action2.result_id,\n",
    "    args=[as_type_action_obj.syft_lineage_id],\n",
    "    kwargs={},\n",
    "    result_id=action2.result_id\n",
    ")\n",
    "action4"
   ]
  },
  {
   "cell_type": "code",
   "execution_count": 36,
   "id": "78e9e1ee",
   "metadata": {},
   "outputs": [
    {
     "data": {
      "text/markdown": [
       "```python\n",
       "class NodeActionData:\n",
       "  id: str = 9606e52bb56e4cc9be471a049cabd776\n",
       "  action: str = syft.service.action.action_object.Action\n",
       "  status: str = ActionStatus.PROCESSING\n",
       "  retry: str = 0\n",
       "  created_at: str = 2023-04-24 01:40:31\n",
       "  updated_at: str = None\n",
       "  user_verify_key: str = 85efc78a16f4060319b6188dffac7ff6fa779b794cac8abec5f223dd787dca2b\n",
       "  is_mutated: str = False\n",
       "\n",
       "```"
      ],
      "text/plain": [
       "class NodeActionData:\n",
       "  id: str = 9606e52bb56e4cc9be471a049cabd776\n",
       "  action: str = syft.service.action.action_object.Action\n",
       "  status: str = ActionStatus.PROCESSING\n",
       "  retry: str = 0\n",
       "  created_at: str = 2023-04-24 01:40:31\n",
       "  updated_at: str = None\n",
       "  user_verify_key: str = 85efc78a16f4060319b6188dffac7ff6fa779b794cac8abec5f223dd787dca2b\n",
       "  is_mutated: str = False"
      ]
     },
     "execution_count": 36,
     "metadata": {},
     "output_type": "execute_result"
    }
   ],
   "source": [
    "action_graph_service.add_action(context=authed_context, action=action4)"
   ]
  },
  {
   "cell_type": "code",
   "execution_count": 40,
   "id": "462d6a42",
   "metadata": {},
   "outputs": [
    {
     "data": {
      "text/markdown": [
       "```python\n",
       "class NodeActionData:\n",
       "  id: str = 747749f9494345b78e165f13351e52bf\n",
       "  action: str = syft.service.action.action_object.Action\n",
       "  status: str = ActionStatus.PROCESSING\n",
       "  retry: str = 0\n",
       "  created_at: str = 2023-04-24 01:12:08\n",
       "  updated_at: str = None\n",
       "  user_verify_key: str = 85efc78a16f4060319b6188dffac7ff6fa779b794cac8abec5f223dd787dca2b\n",
       "  is_mutated: str = False\n",
       "\n",
       "```"
      ],
      "text/plain": [
       "class NodeActionData:\n",
       "  id: str = 747749f9494345b78e165f13351e52bf\n",
       "  action: str = syft.service.action.action_object.Action\n",
       "  status: str = ActionStatus.PROCESSING\n",
       "  retry: str = 0\n",
       "  created_at: str = 2023-04-24 01:12:08\n",
       "  updated_at: str = None\n",
       "  user_verify_key: str = 85efc78a16f4060319b6188dffac7ff6fa779b794cac8abec5f223dd787dca2b\n",
       "  is_mutated: str = False"
      ]
     },
     "execution_count": 40,
     "metadata": {},
     "output_type": "execute_result"
    }
   ],
   "source": [
    "action_2_node_data = action_graph_service.store.get(uid=action2.id, credentials=authed_context.credentials).ok()\n",
    "action_2_node_data"
   ]
  },
  {
   "cell_type": "code",
   "execution_count": 43,
   "id": "49fa7994",
   "metadata": {},
   "outputs": [
    {
     "data": {
      "text/markdown": [
       "```python\n",
       "class NodeActionData:\n",
       "  id: str = 747749f9494345b78e165f13351e52bf\n",
       "  action: str = syft.service.action.action_object.Action\n",
       "  status: str = ActionStatus.PROCESSING\n",
       "  retry: str = 0\n",
       "  created_at: str = 2023-04-24 01:12:08\n",
       "  updated_at: str = 2023-04-24 01:47:46\n",
       "  user_verify_key: str = 85efc78a16f4060319b6188dffac7ff6fa779b794cac8abec5f223dd787dca2b\n",
       "  is_mutated: str = True\n",
       "\n",
       "```"
      ],
      "text/plain": [
       "class NodeActionData:\n",
       "  id: str = 747749f9494345b78e165f13351e52bf\n",
       "  action: str = syft.service.action.action_object.Action\n",
       "  status: str = ActionStatus.PROCESSING\n",
       "  retry: str = 0\n",
       "  created_at: str = 2023-04-24 01:12:08\n",
       "  updated_at: str = 2023-04-24 01:47:46\n",
       "  user_verify_key: str = 85efc78a16f4060319b6188dffac7ff6fa779b794cac8abec5f223dd787dca2b\n",
       "  is_mutated: str = True"
      ]
     },
     "execution_count": 43,
     "metadata": {},
     "output_type": "execute_result"
    }
   ],
   "source": [
    "action_graph_service.update(context=authed_context, action_id=action2.id, node_data=NodeActionDataUpdate(is_mutated=True))"
   ]
  },
  {
   "cell_type": "code",
   "execution_count": 45,
   "id": "a7854612",
   "metadata": {},
   "outputs": [
    {
     "data": {
      "image/png": "[encoded data removed]",
      "text/plain": [
       "<Figure size 1440x720 with 1 Axes>"
      ]
     },
     "metadata": {},
     "output_type": "display_data"
    }
   ],
   "source": [
    "plt.figure(figsize=(20, 10))\n",
    "action_graph_service.store.graph.visualize()"
   ]
  },
  {
   "cell_type": "markdown",
   "id": "938b3257",
   "metadata": {},
   "source": [
    "### Action5 -> D + 48"
   ]
  },
  {
   "cell_type": "code",
   "execution_count": 46,
   "id": "d5ae7cfa",
   "metadata": {},
   "outputs": [],
   "source": [
    "arg_action_obj = ActionObject.from_obj(48)"
   ]
  },
  {
   "cell_type": "code",
   "execution_count": 61,
   "id": "b88f7178",
   "metadata": {},
   "outputs": [
    {
     "data": {
      "text/plain": [
       "True"
      ]
     },
     "execution_count": 61,
     "metadata": {},
     "output_type": "execute_result"
    }
   ],
   "source": [
    "action2.result_id == action4.result_id"
   ]
  },
  {
   "cell_type": "code",
   "execution_count": 47,
   "id": "3a7668d4",
   "metadata": {},
   "outputs": [
    {
     "data": {
      "text/markdown": [
       "```python\n",
       "class Action:\n",
       "  id: str = cdbd247bb8184abfb0d05bea9f16ceb9\n",
       "  path: str = \"action.execute\"\n",
       "  op: str = \"__add__\"\n",
       "  remote_self: str = 0cadbdb3506e4f72b0fce4f312e20966\n",
       "  args: str = [<LineageID: c1366a55d15140ca8265615d62b1103f - 871644491213903555>]\n",
       "  kwargs: str = {}\n",
       "  result_id: str = 24618a06853d4405ae738b042c8b16cb\n",
       "\n",
       "```"
      ],
      "text/plain": [
       "syft.service.action.action_object.Action"
      ]
     },
     "execution_count": 47,
     "metadata": {},
     "output_type": "execute_result"
    }
   ],
   "source": [
    "action5 = Action(\n",
    "    path=\"action.execute\",\n",
    "    op=\"__add__\",\n",
    "    remote_self=action2.result_id,\n",
    "    args=[arg_action_obj.syft_lineage_id],\n",
    "    kwargs={},\n",
    ")\n",
    "action5"
   ]
  },
  {
   "cell_type": "code",
   "execution_count": 48,
   "id": "18eb1851",
   "metadata": {},
   "outputs": [
    {
     "data": {
      "text/markdown": [
       "```python\n",
       "class NodeActionData:\n",
       "  id: str = cdbd247bb8184abfb0d05bea9f16ceb9\n",
       "  action: str = syft.service.action.action_object.Action\n",
       "  status: str = ActionStatus.PROCESSING\n",
       "  retry: str = 0\n",
       "  created_at: str = 2023-04-24 01:52:30\n",
       "  updated_at: str = None\n",
       "  user_verify_key: str = 85efc78a16f4060319b6188dffac7ff6fa779b794cac8abec5f223dd787dca2b\n",
       "  is_mutated: str = False\n",
       "\n",
       "```"
      ],
      "text/plain": [
       "class NodeActionData:\n",
       "  id: str = cdbd247bb8184abfb0d05bea9f16ceb9\n",
       "  action: str = syft.service.action.action_object.Action\n",
       "  status: str = ActionStatus.PROCESSING\n",
       "  retry: str = 0\n",
       "  created_at: str = 2023-04-24 01:52:30\n",
       "  updated_at: str = None\n",
       "  user_verify_key: str = 85efc78a16f4060319b6188dffac7ff6fa779b794cac8abec5f223dd787dca2b\n",
       "  is_mutated: str = False"
      ]
     },
     "execution_count": 48,
     "metadata": {},
     "output_type": "execute_result"
    }
   ],
   "source": [
    "action_graph_service.add_action(context=authed_context, action=action5)"
   ]
  },
  {
   "cell_type": "code",
   "execution_count": 50,
   "id": "0a468fb9",
   "metadata": {},
   "outputs": [
    {
     "data": {
      "image/png": "[encoded data removed]",
      "text/plain": [
       "<Figure size 1440x720 with 1 Axes>"
      ]
     },
     "metadata": {},
     "output_type": "display_data"
    }
   ],
   "source": [
    "plt.figure(figsize=(20, 10))\n",
    "action_graph_service.store.graph.visualize()"
   ]
  },
  {
   "cell_type": "code",
   "execution_count": 58,
   "id": "e040adba",
   "metadata": {},
   "outputs": [
    {
     "data": {
      "text/plain": [
       "<LineageID: c1366a55d15140ca8265615d62b1103f - 871644491213903555>"
      ]
     },
     "execution_count": 58,
     "metadata": {},
     "output_type": "execute_result"
    }
   ],
   "source": [
    "arg_action_obj.syft_lineage_id"
   ]
  },
  {
   "cell_type": "code",
   "execution_count": 54,
   "id": "b2abb2f8",
   "metadata": {},
   "outputs": [
    {
     "data": {
      "text/plain": [
       "(<UID: 2c1ed9b1fed541c190d559b68a1a08be>,\n",
       " <UID: 747749f9494345b78e165f13351e52bf>,\n",
       " <UID: 8545e5e7ef8a4a198334f227fe227b69>,\n",
       " <UID: 9606e52bb56e4cc9be471a049cabd776>,\n",
       " <UID: cdbd247bb8184abfb0d05bea9f16ceb9>)"
      ]
     },
     "execution_count": 54,
     "metadata": {},
     "output_type": "execute_result"
    }
   ],
   "source": [
    "action1.id, action2.id, action3.id, action4.id, action5.id"
   ]
  },
  {
   "cell_type": "markdown",
   "id": "4ecfd187",
   "metadata": {},
   "source": [
    "```\n",
    "\n",
    "action1 -> a + b\n",
    "\n",
    "action2 -> initialization of variable `d`\n",
    "\n",
    "action3 -> c * d\n",
    "\n",
    "action4 -> inplace updation of type of `d` (d.astype('int32'))\n",
    "\n",
    "action5 -> d + 48\n",
    "\n",
    "```"
   ]
  },
  {
   "cell_type": "code",
   "execution_count": null,
   "id": "7289d796",
   "metadata": {},
   "outputs": [],
   "source": [
    "# D = np.array([1, 2, 3]) # D.result_id => UID1\n",
    "\n",
    "# D.astype(np.int32) -> UID1\n",
    "\n",
    "# obj = 'np.int32' -> UID2\n",
    "\n",
    "# OP(UID1,  UID2) -> UID1"
   ]
  },
  {
   "cell_type": "code",
   "execution_count": 21,
   "id": "688cf965",
   "metadata": {},
   "outputs": [],
   "source": [
    "from syft.service.action.action_graph import ActionStatus"
   ]
  },
  {
   "cell_type": "code",
   "execution_count": 22,
   "id": "e93cd503",
   "metadata": {},
   "outputs": [
    {
     "data": {
      "text/html": [
       "List - Size: 3\n",
       "<div>\n",
       "<style scoped>\n",
       "    .dataframe tbody tr th:only-of-type {\n",
       "        vertical-align: middle;\n",
       "    }\n",
       "\n",
       "    .dataframe tbody tr th {\n",
       "        vertical-align: top;\n",
       "    }\n",
       "\n",
       "    .dataframe thead th {\n",
       "        text-align: right;\n",
       "    }\n",
       "</style>\n",
       "<table border=\"1\" class=\"dataframe\">\n",
       "  <thead>\n",
       "    <tr style=\"text-align: right;\">\n",
       "      <th></th>\n",
       "      <th>type</th>\n",
       "      <th>id</th>\n",
       "    </tr>\n",
       "  </thead>\n",
       "  <tbody>\n",
       "    <tr>\n",
       "      <th>0</th>\n",
       "      <td>&lt;UID: abb0aa40a7bc4044977c577ca19ae9d7&gt;</td>\n",
       "      <td>None</td>\n",
       "    </tr>\n",
       "    <tr>\n",
       "      <th>1</th>\n",
       "      <td>&lt;UID: 3ee2a033d4e8481a81f4eb57e84fe96a&gt;</td>\n",
       "      <td>None</td>\n",
       "    </tr>\n",
       "    <tr>\n",
       "      <th>2</th>\n",
       "      <td>&lt;UID: 98684139708341488a871dea9c9f046d&gt;</td>\n",
       "      <td>None</td>\n",
       "    </tr>\n",
       "  </tbody>\n",
       "</table>\n",
       "</div>"
      ],
      "text/plain": [
       "[<UID: abb0aa40a7bc4044977c577ca19ae9d7>,\n",
       " <UID: 3ee2a033d4e8481a81f4eb57e84fe96a>,\n",
       " <UID: 98684139708341488a871dea9c9f046d>]"
      ]
     },
     "execution_count": 22,
     "metadata": {},
     "output_type": "execute_result"
    }
   ],
   "source": [
    "action_graph_service.get_by_action_status(context=authed_context, status=ActionStatus.PROCESSING)"
   ]
  },
  {
   "cell_type": "code",
   "execution_count": 23,
   "id": "443eb463",
   "metadata": {},
   "outputs": [
    {
     "data": {
      "text/html": [
       "List - Size: 3\n",
       "<div>\n",
       "<style scoped>\n",
       "    .dataframe tbody tr th:only-of-type {\n",
       "        vertical-align: middle;\n",
       "    }\n",
       "\n",
       "    .dataframe tbody tr th {\n",
       "        vertical-align: top;\n",
       "    }\n",
       "\n",
       "    .dataframe thead th {\n",
       "        text-align: right;\n",
       "    }\n",
       "</style>\n",
       "<table border=\"1\" class=\"dataframe\">\n",
       "  <thead>\n",
       "    <tr style=\"text-align: right;\">\n",
       "      <th></th>\n",
       "      <th>type</th>\n",
       "      <th>id</th>\n",
       "    </tr>\n",
       "  </thead>\n",
       "  <tbody>\n",
       "    <tr>\n",
       "      <th>0</th>\n",
       "      <td>&lt;UID: abb0aa40a7bc4044977c577ca19ae9d7&gt;</td>\n",
       "      <td>None</td>\n",
       "    </tr>\n",
       "    <tr>\n",
       "      <th>1</th>\n",
       "      <td>&lt;UID: 3ee2a033d4e8481a81f4eb57e84fe96a&gt;</td>\n",
       "      <td>None</td>\n",
       "    </tr>\n",
       "    <tr>\n",
       "      <th>2</th>\n",
       "      <td>&lt;UID: 98684139708341488a871dea9c9f046d&gt;</td>\n",
       "      <td>None</td>\n",
       "    </tr>\n",
       "  </tbody>\n",
       "</table>\n",
       "</div>"
      ],
      "text/plain": [
       "[<UID: abb0aa40a7bc4044977c577ca19ae9d7>,\n",
       " <UID: 3ee2a033d4e8481a81f4eb57e84fe96a>,\n",
       " <UID: 98684139708341488a871dea9c9f046d>]"
      ]
     },
     "execution_count": 23,
     "metadata": {},
     "output_type": "execute_result"
    }
   ],
   "source": [
    "action_graph_service.get_by_verify_key(context=authed_context, verify_key=signing_key.verify_key)"
   ]
  },
  {
   "cell_type": "code",
   "execution_count": 24,
   "id": "6ef5884a",
   "metadata": {},
   "outputs": [],
   "source": [
    "action_obj_c = ActionObject.from_obj(23)"
   ]
  },
  {
   "cell_type": "code",
   "execution_count": 25,
   "id": "7ea8a428",
   "metadata": {},
   "outputs": [
    {
     "data": {
      "text/markdown": [
       "```python\n",
       "class Action:\n",
       "  id: str = 5d1be306e18649dc9c9249ef253c5466\n",
       "  path: str = \"action.execute\"\n",
       "  op: str = \"__mul__\"\n",
       "  remote_self: str = aa872140ff754a29946ff197df77e70a\n",
       "  args: str = [<LineageID: fc442b3020154434a58469463e478328 - 551060690433058060>]\n",
       "  kwargs: str = {}\n",
       "  result_id: str = 2da94afab2db4e8a9c43d7946db9e0fe\n",
       "\n",
       "```"
      ],
      "text/plain": [
       "syft.service.action.action_object.Action"
      ]
     },
     "execution_count": 25,
     "metadata": {},
     "output_type": "execute_result"
    }
   ],
   "source": [
    "action4 = Action(\n",
    "    path=\"action.execute\",\n",
    "    op=\"__mul__\",\n",
    "    remote_self=action3.result_id,\n",
    "    args=[action_obj_c.syft_lineage_id],\n",
    "    kwargs={}\n",
    ")\n",
    "action4"
   ]
  },
  {
   "cell_type": "code",
   "execution_count": 26,
   "id": "1f832855",
   "metadata": {},
   "outputs": [
    {
     "data": {
      "text/markdown": [
       "```python\n",
       "class NodeActionData:\n",
       "  id: str = 5d1be306e18649dc9c9249ef253c5466\n",
       "  action: str = syft.service.action.action_object.Action\n",
       "  status: str = ActionStatus.PROCESSING\n",
       "  retry: str = 0\n",
       "  created_at: str = 2023-04-24 00:03:08\n",
       "  updated_at: str = None\n",
       "  user_verify_key: str = 0bcd289c7b3c7c50cf51d00784cfbb519713b8da664a9700dc5d88e1d554c442\n",
       "  is_mutated: str = False\n",
       "\n",
       "```"
      ],
      "text/plain": [
       "class NodeActionData:\n",
       "  id: str = 5d1be306e18649dc9c9249ef253c5466\n",
       "  action: str = syft.service.action.action_object.Action\n",
       "  status: str = ActionStatus.PROCESSING\n",
       "  retry: str = 0\n",
       "  created_at: str = 2023-04-24 00:03:08\n",
       "  updated_at: str = None\n",
       "  user_verify_key: str = 0bcd289c7b3c7c50cf51d00784cfbb519713b8da664a9700dc5d88e1d554c442\n",
       "  is_mutated: str = False"
      ]
     },
     "execution_count": 26,
     "metadata": {},
     "output_type": "execute_result"
    }
   ],
   "source": [
    "action_graph_service.add_action(context=authed_context, action=action4)"
   ]
  },
  {
   "cell_type": "code",
   "execution_count": 27,
   "id": "53b6ac0f",
   "metadata": {},
   "outputs": [
    {
     "data": {
      "image/png": "[encoded data removed]",
      "text/plain": [
       "<Figure size 1440x720 with 1 Axes>"
      ]
     },
     "metadata": {},
     "output_type": "display_data"
    }
   ],
   "source": [
    "import matplotlib.pyplot as plt\n",
    "plt.figure(figsize=(20, 10))\n",
    "action_graph_service.store.graph.visualize()"
   ]
  },
  {
   "cell_type": "code",
   "execution_count": 28,
   "id": "528b4aaf",
   "metadata": {},
   "outputs": [],
   "source": [
    "action_obj_d = ActionObject.from_obj(\"np.int32\")"
   ]
  },
  {
   "cell_type": "code",
   "execution_count": 29,
   "id": "c2e761c1",
   "metadata": {},
   "outputs": [
    {
     "data": {
      "text/markdown": [
       "```python\n",
       "class Action:\n",
       "  id: str = 0f391bbf0d4c4df2a659b3d033e52565\n",
       "  path: str = \"action.execute\"\n",
       "  op: str = \"astype\"\n",
       "  remote_self: str = 114e431f666044f2a704d5aed5357dc8\n",
       "  args: str = [<LineageID: f89847ebb2b94b1da23f3c4ef6d4e3a3 - 504820614266043598>]\n",
       "  kwargs: str = {}\n",
       "  result_id: str = 114e431f666044f2a704d5aed5357dc8\n",
       "\n",
       "```"
      ],
      "text/plain": [
       "syft.service.action.action_object.Action"
      ]
     },
     "execution_count": 29,
     "metadata": {},
     "output_type": "execute_result"
    }
   ],
   "source": [
    "# How is an action created when the args and kwargs are not numbers\n",
    "\n",
    "action5 = Action(\n",
    "    path=\"action.execute\",\n",
    "    op=\"astype\",\n",
    "    remote_self=action1.result_id,\n",
    "    args=[action_obj_d.syft_lineage_id],\n",
    "    kwargs={},\n",
    "    result_id=action1.result_id\n",
    ")\n",
    "action5"
   ]
  },
  {
   "cell_type": "code",
   "execution_count": 30,
   "id": "803a7fbc",
   "metadata": {},
   "outputs": [],
   "source": [
    "action_1_node_data = action_graph_service.store.get(uid=action1.id, credentials=authed_context).ok()"
   ]
  },
  {
   "cell_type": "code",
   "execution_count": 31,
   "id": "cbc8f634",
   "metadata": {},
   "outputs": [
    {
     "data": {
      "text/markdown": [
       "```python\n",
       "class NodeActionData:\n",
       "  id: str = 0f391bbf0d4c4df2a659b3d033e52565\n",
       "  action: str = syft.service.action.action_object.Action\n",
       "  status: str = ActionStatus.PROCESSING\n",
       "  retry: str = 0\n",
       "  created_at: str = 2023-04-24 00:03:08\n",
       "  updated_at: str = None\n",
       "  user_verify_key: str = 0bcd289c7b3c7c50cf51d00784cfbb519713b8da664a9700dc5d88e1d554c442\n",
       "  is_mutated: str = False\n",
       "\n",
       "```"
      ],
      "text/plain": [
       "class NodeActionData:\n",
       "  id: str = 0f391bbf0d4c4df2a659b3d033e52565\n",
       "  action: str = syft.service.action.action_object.Action\n",
       "  status: str = ActionStatus.PROCESSING\n",
       "  retry: str = 0\n",
       "  created_at: str = 2023-04-24 00:03:08\n",
       "  updated_at: str = None\n",
       "  user_verify_key: str = 0bcd289c7b3c7c50cf51d00784cfbb519713b8da664a9700dc5d88e1d554c442\n",
       "  is_mutated: str = False"
      ]
     },
     "execution_count": 31,
     "metadata": {},
     "output_type": "execute_result"
    }
   ],
   "source": [
    "action_graph_service.add_action(context=authed_context, action=action5)"
   ]
  },
  {
   "cell_type": "code",
   "execution_count": 32,
   "id": "2d011e64",
   "metadata": {},
   "outputs": [
    {
     "data": {
      "text/markdown": [
       "```python\n",
       "class NodeActionData:\n",
       "  id: str = abb0aa40a7bc4044977c577ca19ae9d7\n",
       "  action: str = syft.service.action.action_object.Action\n",
       "  status: str = ActionStatus.PROCESSING\n",
       "  retry: str = 0\n",
       "  created_at: str = 2023-04-24 00:03:08\n",
       "  updated_at: str = None\n",
       "  user_verify_key: str = 0bcd289c7b3c7c50cf51d00784cfbb519713b8da664a9700dc5d88e1d554c442\n",
       "  is_mutated: str = False\n",
       "\n",
       "```"
      ],
      "text/plain": [
       "class NodeActionData:\n",
       "  id: str = abb0aa40a7bc4044977c577ca19ae9d7\n",
       "  action: str = syft.service.action.action_object.Action\n",
       "  status: str = ActionStatus.PROCESSING\n",
       "  retry: str = 0\n",
       "  created_at: str = 2023-04-24 00:03:08\n",
       "  updated_at: str = None\n",
       "  user_verify_key: str = 0bcd289c7b3c7c50cf51d00784cfbb519713b8da664a9700dc5d88e1d554c442\n",
       "  is_mutated: str = False"
      ]
     },
     "execution_count": 32,
     "metadata": {},
     "output_type": "execute_result"
    }
   ],
   "source": [
    "action_1_node_data"
   ]
  },
  {
   "cell_type": "code",
   "execution_count": 33,
   "id": "8c532707",
   "metadata": {},
   "outputs": [],
   "source": [
    "action_1_node_data.is_mutated = True"
   ]
  },
  {
   "cell_type": "code",
   "execution_count": 34,
   "id": "1cd92908",
   "metadata": {},
   "outputs": [
    {
     "data": {
      "text/markdown": [
       "```python\n",
       "class NodeActionData:\n",
       "  id: str = abb0aa40a7bc4044977c577ca19ae9d7\n",
       "  action: str = syft.service.action.action_object.Action\n",
       "  status: str = ActionStatus.PROCESSING\n",
       "  retry: str = 0\n",
       "  created_at: str = 2023-04-24 00:03:08\n",
       "  updated_at: str = None\n",
       "  user_verify_key: str = 0bcd289c7b3c7c50cf51d00784cfbb519713b8da664a9700dc5d88e1d554c442\n",
       "  is_mutated: str = True\n",
       "\n",
       "```"
      ],
      "text/plain": [
       "class NodeActionData:\n",
       "  id: str = abb0aa40a7bc4044977c577ca19ae9d7\n",
       "  action: str = syft.service.action.action_object.Action\n",
       "  status: str = ActionStatus.PROCESSING\n",
       "  retry: str = 0\n",
       "  created_at: str = 2023-04-24 00:03:08\n",
       "  updated_at: str = None\n",
       "  user_verify_key: str = 0bcd289c7b3c7c50cf51d00784cfbb519713b8da664a9700dc5d88e1d554c442\n",
       "  is_mutated: str = True"
      ]
     },
     "execution_count": 34,
     "metadata": {},
     "output_type": "execute_result"
    }
   ],
   "source": [
    "action_1_node_data"
   ]
  },
  {
   "cell_type": "code",
   "execution_count": 35,
   "id": "2f4c57cc",
   "metadata": {},
   "outputs": [],
   "source": [
    "setattr(action_1_node_data, \"is_mutated\", True)"
   ]
  },
  {
   "cell_type": "code",
   "execution_count": 36,
   "id": "58481606",
   "metadata": {},
   "outputs": [
    {
     "data": {
      "text/markdown": [
       "```python\n",
       "class NodeActionData:\n",
       "  id: str = abb0aa40a7bc4044977c577ca19ae9d7\n",
       "  action: str = syft.service.action.action_object.Action\n",
       "  status: str = ActionStatus.PROCESSING\n",
       "  retry: str = 0\n",
       "  created_at: str = 2023-04-24 00:03:08\n",
       "  updated_at: str = None\n",
       "  user_verify_key: str = 0bcd289c7b3c7c50cf51d00784cfbb519713b8da664a9700dc5d88e1d554c442\n",
       "  is_mutated: str = True\n",
       "\n",
       "```"
      ],
      "text/plain": [
       "class NodeActionData:\n",
       "  id: str = abb0aa40a7bc4044977c577ca19ae9d7\n",
       "  action: str = syft.service.action.action_object.Action\n",
       "  status: str = ActionStatus.PROCESSING\n",
       "  retry: str = 0\n",
       "  created_at: str = 2023-04-24 00:03:08\n",
       "  updated_at: str = None\n",
       "  user_verify_key: str = 0bcd289c7b3c7c50cf51d00784cfbb519713b8da664a9700dc5d88e1d554c442\n",
       "  is_mutated: str = True"
      ]
     },
     "execution_count": 36,
     "metadata": {},
     "output_type": "execute_result"
    }
   ],
   "source": [
    "action_1_node_data"
   ]
  },
  {
   "cell_type": "code",
   "execution_count": 37,
   "id": "9cf9629f",
   "metadata": {},
   "outputs": [
    {
     "data": {
      "text/markdown": [
       "```python\n",
       "class NodeActionData:\n",
       "  id: str = abb0aa40a7bc4044977c577ca19ae9d7\n",
       "  action: str = syft.service.action.action_object.Action\n",
       "  status: str = ActionStatus.PROCESSING\n",
       "  retry: str = 0\n",
       "  created_at: str = 2023-04-24 00:03:08\n",
       "  updated_at: str = None\n",
       "  user_verify_key: str = 0bcd289c7b3c7c50cf51d00784cfbb519713b8da664a9700dc5d88e1d554c442\n",
       "  is_mutated: str = True\n",
       "\n",
       "```"
      ],
      "text/plain": [
       "class NodeActionData:\n",
       "  id: str = abb0aa40a7bc4044977c577ca19ae9d7\n",
       "  action: str = syft.service.action.action_object.Action\n",
       "  status: str = ActionStatus.PROCESSING\n",
       "  retry: str = 0\n",
       "  created_at: str = 2023-04-24 00:03:08\n",
       "  updated_at: str = None\n",
       "  user_verify_key: str = 0bcd289c7b3c7c50cf51d00784cfbb519713b8da664a9700dc5d88e1d554c442\n",
       "  is_mutated: str = True"
      ]
     },
     "execution_count": 37,
     "metadata": {},
     "output_type": "execute_result"
    }
   ],
   "source": [
    "action_graph_service.update(authed_context, action1.id, action_1_node_data)"
   ]
  },
  {
   "cell_type": "code",
   "execution_count": 38,
   "id": "937c9bd3",
   "metadata": {},
   "outputs": [
    {
     "data": {
      "image/png": "[encoded data removed]",
      "text/plain": [
       "<Figure size 1440x720 with 1 Axes>"
      ]
     },
     "metadata": {},
     "output_type": "display_data"
    }
   ],
   "source": [
    "import matplotlib.pyplot as plt\n",
    "plt.figure(figsize=(20, 10))\n",
    "action_graph_service.store.graph.visualize()"
   ]
  },
  {
   "cell_type": "code",
   "execution_count": 39,
   "id": "05eb2792",
   "metadata": {},
   "outputs": [
    {
     "data": {
      "text/markdown": [
       "```python\n",
       "class Action:\n",
       "  id: str = cdbced7a0fa64585b5f46396d7460ab2\n",
       "  path: str = \"action.execute\"\n",
       "  op: str = \"__add__\"\n",
       "  remote_self: str = 114e431f666044f2a704d5aed5357dc8\n",
       "  args: str = [<LineageID: fc442b3020154434a58469463e478328 - 551060690433058060>]\n",
       "  kwargs: str = {}\n",
       "  result_id: str = 5b8993c153444877a8ba883e668d6140\n",
       "\n",
       "```"
      ],
      "text/plain": [
       "syft.service.action.action_object.Action"
      ]
     },
     "execution_count": 39,
     "metadata": {},
     "output_type": "execute_result"
    }
   ],
   "source": [
    "# How is an action created when the args and kwargs are not numbers\n",
    "\n",
    "action6 = Action(\n",
    "    path=\"action.execute\",\n",
    "    op=\"__add__\",\n",
    "    remote_self=action1.result_id,\n",
    "    args=[action_obj_c.syft_lineage_id],\n",
    "    kwargs={},\n",
    ")\n",
    "action6"
   ]
  },
  {
   "cell_type": "code",
   "execution_count": 40,
   "id": "d9903856",
   "metadata": {},
   "outputs": [
    {
     "data": {
      "text/markdown": [
       "```python\n",
       "class NodeActionData:\n",
       "  id: str = cdbced7a0fa64585b5f46396d7460ab2\n",
       "  action: str = syft.service.action.action_object.Action\n",
       "  status: str = ActionStatus.PROCESSING\n",
       "  retry: str = 0\n",
       "  created_at: str = 2023-04-24 00:03:20\n",
       "  updated_at: str = None\n",
       "  user_verify_key: str = 0bcd289c7b3c7c50cf51d00784cfbb519713b8da664a9700dc5d88e1d554c442\n",
       "  is_mutated: str = False\n",
       "\n",
       "```"
      ],
      "text/plain": [
       "class NodeActionData:\n",
       "  id: str = cdbced7a0fa64585b5f46396d7460ab2\n",
       "  action: str = syft.service.action.action_object.Action\n",
       "  status: str = ActionStatus.PROCESSING\n",
       "  retry: str = 0\n",
       "  created_at: str = 2023-04-24 00:03:20\n",
       "  updated_at: str = None\n",
       "  user_verify_key: str = 0bcd289c7b3c7c50cf51d00784cfbb519713b8da664a9700dc5d88e1d554c442\n",
       "  is_mutated: str = False"
      ]
     },
     "execution_count": 40,
     "metadata": {},
     "output_type": "execute_result"
    }
   ],
   "source": [
    "action_graph_service.add_action(context=authed_context, action=action6)"
   ]
  },
  {
   "cell_type": "code",
   "execution_count": 41,
   "id": "8d82eeec",
   "metadata": {},
   "outputs": [
    {
     "data": {
      "image/png": "[encoded data removed]",
      "text/plain": [
       "<Figure size 1440x720 with 1 Axes>"
      ]
     },
     "metadata": {},
     "output_type": "display_data"
    }
   ],
   "source": [
    "import matplotlib.pyplot as plt\n",
    "plt.figure(figsize=(20, 10))\n",
    "action_graph_service.store.graph.visualize()"
   ]
  },
  {
   "cell_type": "code",
   "execution_count": 45,
   "id": "08260181",
   "metadata": {},
   "outputs": [
    {
     "data": {
      "text/plain": [
       "'[<UID: 287f667bf0c14afca0607cf486445519>, <UID: fa0005f34339441aa07140653194bc2d>, <UID: 2c4d591a57804a21ad627dd7ef8303bf>, <UID: b46031f22302446faab0968ebc516d3d>, <UID: 3cde5dc9fcdd44d2bee74deb5edbfc94>, <UID: bced99605c9b4c3abae57c0ec7fb2047>]'"
      ]
     },
     "execution_count": 45,
     "metadata": {},
     "output_type": "execute_result"
    }
   ],
   "source": [
    "action_graph_service.get_by_action_status(context=authed_context, status=ActionStatus.PROCESSING).__repr__()"
   ]
  },
  {
   "cell_type": "code",
   "execution_count": 54,
   "id": "7d7916a2",
   "metadata": {},
   "outputs": [
    {
     "data": {
      "text/plain": [
       "NodeDataView({<UID: 287f667bf0c14afca0607cf486445519>: {'data': class NodeActionData:\n",
       "  id: str = 287f667bf0c14afca0607cf486445519\n",
       "  action: str = syft.service.action.action_object.Action\n",
       "  status: str = ActionStatus.PROCESSING\n",
       "  retry: str = 0\n",
       "  created_at: str = 2023-04-22 06:48:57\n",
       "  updated_at: str = None\n",
       "  user_verify_key: str = f0d4c5c2e1aff12f710b42569aab38cc87fb9fa36c29e61b70e2ec325c82ab27\n",
       "  is_mutated: str = False\n",
       "}, <UID: fa0005f34339441aa07140653194bc2d>: {'data': class NodeActionData:\n",
       "  id: str = fa0005f34339441aa07140653194bc2d\n",
       "  action: str = syft.service.action.action_object.Action\n",
       "  status: str = ActionStatus.PROCESSING\n",
       "  retry: str = 0\n",
       "  created_at: str = 2023-04-22 06:48:58\n",
       "  updated_at: str = None\n",
       "  user_verify_key: str = f0d4c5c2e1aff12f710b42569aab38cc87fb9fa36c29e61b70e2ec325c82ab27\n",
       "  is_mutated: str = False\n",
       "}, <UID: b46031f22302446faab0968ebc516d3d>: {'data': class NodeActionData:\n",
       "  id: str = b46031f22302446faab0968ebc516d3d\n",
       "  action: str = syft.service.action.action_object.Action\n",
       "  status: str = ActionStatus.PROCESSING\n",
       "  retry: str = 0\n",
       "  created_at: str = 2023-04-22 06:48:59\n",
       "  updated_at: str = None\n",
       "  user_verify_key: str = f0d4c5c2e1aff12f710b42569aab38cc87fb9fa36c29e61b70e2ec325c82ab27\n",
       "  is_mutated: str = False\n",
       "}, <UID: bced99605c9b4c3abae57c0ec7fb2047>: {'data': class NodeActionData:\n",
       "  id: str = bced99605c9b4c3abae57c0ec7fb2047\n",
       "  action: str = syft.service.action.action_object.Action\n",
       "  status: str = ActionStatus.PROCESSING\n",
       "  retry: str = 0\n",
       "  created_at: str = 2023-04-22 06:49:04\n",
       "  updated_at: str = None\n",
       "  user_verify_key: str = f0d4c5c2e1aff12f710b42569aab38cc87fb9fa36c29e61b70e2ec325c82ab27\n",
       "  is_mutated: str = False\n",
       "}, <UID: 2c4d591a57804a21ad627dd7ef8303bf>: {'data': class NodeActionData:\n",
       "  id: str = 2c4d591a57804a21ad627dd7ef8303bf\n",
       "  action: str = syft.service.action.action_object.Action\n",
       "  status: str = ActionStatus.PROCESSING\n",
       "  retry: str = 0\n",
       "  created_at: str = 2023-04-22 06:49:06\n",
       "  updated_at: str = None\n",
       "  user_verify_key: str = f0d4c5c2e1aff12f710b42569aab38cc87fb9fa36c29e61b70e2ec325c82ab27\n",
       "  is_mutated: str = False\n",
       "}, <UID: 3cde5dc9fcdd44d2bee74deb5edbfc94>: {'data': class NodeActionData:\n",
       "  id: str = 3cde5dc9fcdd44d2bee74deb5edbfc94\n",
       "  action: str = syft.service.action.action_object.Action\n",
       "  status: str = ActionStatus.PROCESSING\n",
       "  retry: str = 0\n",
       "  created_at: str = 2023-04-22 06:49:38\n",
       "  updated_at: str = None\n",
       "  user_verify_key: str = f0d4c5c2e1aff12f710b42569aab38cc87fb9fa36c29e61b70e2ec325c82ab27\n",
       "  is_mutated: str = False\n",
       "}})"
      ]
     },
     "execution_count": 54,
     "metadata": {},
     "output_type": "execute_result"
    }
   ],
   "source": [
    "action_graph_service.get_all_nodes(authed_context)"
   ]
  },
  {
   "cell_type": "code",
   "execution_count": 53,
   "id": "f805ce20",
   "metadata": {},
   "outputs": [
    {
     "data": {
      "text/plain": [
       "OutEdgeView([(<UID: 287f667bf0c14afca0607cf486445519>, <UID: b46031f22302446faab0968ebc516d3d>), (<UID: 287f667bf0c14afca0607cf486445519>, <UID: 2c4d591a57804a21ad627dd7ef8303bf>), (<UID: 287f667bf0c14afca0607cf486445519>, <UID: 3cde5dc9fcdd44d2bee74deb5edbfc94>), (<UID: fa0005f34339441aa07140653194bc2d>, <UID: b46031f22302446faab0968ebc516d3d>), (<UID: b46031f22302446faab0968ebc516d3d>, <UID: bced99605c9b4c3abae57c0ec7fb2047>), (<UID: 2c4d591a57804a21ad627dd7ef8303bf>, <UID: 3cde5dc9fcdd44d2bee74deb5edbfc94>)])"
      ]
     },
     "execution_count": 53,
     "metadata": {},
     "output_type": "execute_result"
    }
   ],
   "source": [
    "action_graph_service.get_all_edges(authed_context)"
   ]
  },
  {
   "cell_type": "code",
   "execution_count": 49,
   "id": "84c34e40",
   "metadata": {},
   "outputs": [
    {
     "ename": "TypeError",
     "evalue": "tuple indices must be integers or slices, not str",
     "output_type": "error",
     "traceback": [
      "\u001b[0;31m---------------------------------------------------------------------------\u001b[0m",
      "\u001b[0;31mTypeError\u001b[0m                                 Traceback (most recent call last)",
      "Input \u001b[0;32mIn [49]\u001b[0m, in \u001b[0;36m<module>\u001b[0;34m\u001b[0m\n\u001b[0;32m----> 1\u001b[0m \u001b[38;5;28;43msorted\u001b[39;49m\u001b[43m(\u001b[49m\u001b[43maction_graph_service\u001b[49m\u001b[38;5;241;43m.\u001b[39;49m\u001b[43mget_all_nodes\u001b[49m\u001b[43m(\u001b[49m\u001b[43mauthed_context\u001b[49m\u001b[43m)\u001b[49m\u001b[43m,\u001b[49m\u001b[43m \u001b[49m\u001b[43mkey\u001b[49m\u001b[38;5;241;43m=\u001b[39;49m\u001b[38;5;28;43;01mlambda\u001b[39;49;00m\u001b[43m \u001b[49m\u001b[43mx\u001b[49m\u001b[43m:\u001b[49m\u001b[43m \u001b[49m\u001b[43mx\u001b[49m\u001b[43m[\u001b[49m\u001b[38;5;124;43m'\u001b[39;49m\u001b[38;5;124;43mcreated_at\u001b[39;49m\u001b[38;5;124;43m'\u001b[39;49m\u001b[43m]\u001b[49m\u001b[43m)\u001b[49m\n",
      "Input \u001b[0;32mIn [49]\u001b[0m, in \u001b[0;36m<lambda>\u001b[0;34m(x)\u001b[0m\n\u001b[0;32m----> 1\u001b[0m \u001b[38;5;28msorted\u001b[39m(action_graph_service\u001b[38;5;241m.\u001b[39mget_all_nodes(authed_context), key\u001b[38;5;241m=\u001b[39m\u001b[38;5;28;01mlambda\u001b[39;00m x: \u001b[43mx\u001b[49m\u001b[43m[\u001b[49m\u001b[38;5;124;43m'\u001b[39;49m\u001b[38;5;124;43mcreated_at\u001b[39;49m\u001b[38;5;124;43m'\u001b[39;49m\u001b[43m]\u001b[49m)\n",
      "\u001b[0;31mTypeError\u001b[0m: tuple indices must be integers or slices, not str"
     ]
    }
   ],
   "source": [
    "sorted(action_graph_service.get_all_nodes(authed_context), key=lambda x: x['created_at'])"
   ]
  },
  {
   "cell_type": "code",
   "execution_count": null,
   "id": "3d2bbc94",
   "metadata": {
    "run_control": {
     "marked": true
    }
   },
   "outputs": [],
   "source": [
    "# class ActionGraph:\n",
    "#     def __init__(self):\n",
    "#         self.graph = nx.DiGraph()\n",
    "        \n",
    "#     def add(self, node: ActionGraphObject):\n",
    "#         self.graph.add_node(node.id, data=node)\n",
    "        \n",
    "#     def add_relationship(self, nodeA: ActionGraphObject, nodeB: ActionGraphObject):\n",
    "#         self.graph.add_edge(nodeA, nodeB)\n",
    "        \n",
    "#     def remove_node(self, node: ActionGraphObject):\n",
    "#         self.graph.remove_node(node)\n",
    "    \n",
    "#     def remove_edge(self, node: ActionGraphObject):\n",
    "#         self.graph.remove_edge(node)\n",
    "        \n",
    "#     def neighbors_for(self, node: ActionGraphObject):\n",
    "#         return list(self.graph.neighbors(node))\n",
    "        \n",
    "#     def visualize(self, arrows: bool = True):\n",
    "#         return nx.draw_networkx(self.graph)\n",
    "        \n",
    "#     def remove_all_nodes_from(self, node: ActionGraphObject):\n",
    "#         all_adjacent_neighbors: list = []\n",
    "            \n",
    "#         def find_adjacent_neighbors(node: ActionGraphObject, neighbors: set):           \n",
    "#             if not self.graph.neighbors(node):\n",
    "#                 return \n",
    "\n",
    "#             my_neighbors = self.graph.neighbors(node)\n",
    "#             for n in my_neighbors:\n",
    "#                 if n not in neighbors:\n",
    "#                     neighbors.add(n)\n",
    "#                     self.find_adjacent_neighbors(n, neighbors)\n",
    "                \n",
    "#         find_adjacent_neighbors(all_adjacent_neighbors)\n",
    "#         return all_adjacent_neighbors"
   ]
  },
  {
   "cell_type": "code",
   "execution_count": null,
   "id": "07d7f1ce",
   "metadata": {},
   "outputs": [],
   "source": []
  }
 ],
 "metadata": {
  "kernelspec": {
   "display_name": "Python 3 (ipykernel)",
   "language": "python",
   "name": "python3"
  },
  "language_info": {
   "codemirror_mode": {
    "name": "ipython",
    "version": 3
   },
   "file_extension": ".py",
   "mimetype": "text/x-python",
   "name": "python",
   "nbconvert_exporter": "python",
   "pygments_lexer": "ipython3",
   "version": "3.9.7"
  }
 },
 "nbformat": 4,
 "nbformat_minor": 5
}
