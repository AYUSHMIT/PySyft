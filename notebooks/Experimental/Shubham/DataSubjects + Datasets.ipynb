{
 "cells": [
  {
   "cell_type": "code",
   "execution_count": 40,
   "id": "28d8e943",
   "metadata": {},
   "outputs": [],
   "source": [
    "from syft.core.node.new.data_subject import DataSubject, DataSubjectRegistry\n",
    "from syft.core.node.new.dataset import CreateAsset, CreateDataset\n",
    "import syft as sy\n",
    "from syft.core.node.worker import Worker\n",
    "import numpy as np\n",
    "import pandas as pd"
   ]
  },
  {
   "cell_type": "markdown",
   "id": "a6f142a7",
   "metadata": {},
   "source": [
    "#### Creating Data Subjects"
   ]
  },
  {
   "cell_type": "code",
   "execution_count": 2,
   "id": "7fbede82",
   "metadata": {},
   "outputs": [],
   "source": [
    "country = DataSubject(name=\"Country\", aliases=[\"country_code\"])"
   ]
  },
  {
   "cell_type": "code",
   "execution_count": 3,
   "id": "e375155f",
   "metadata": {},
   "outputs": [],
   "source": [
    "canada = DataSubject(name=\"Canada\", aliases=[\"country_code:ca\"])\n",
    "germany = DataSubject(name=\"Germany\", aliases=[\"country_code:de\"])\n",
    "spain = DataSubject(name=\"Spain\", aliases=[\"country_code:es\"])\n",
    "france = DataSubject(name=\"France\", aliases=[\"country_code:fr\"])\n",
    "japan = DataSubject(name=\"Japan\", aliases=[\"country_code:jp\"])\n",
    "uk = DataSubject(name=\"United Kingdom\", aliases=[\"country_code:uk\"])\n",
    "usa = DataSubject(name=\"United States of America\", aliases=[\"country_code:us\"])"
   ]
  },
  {
   "cell_type": "code",
   "execution_count": 4,
   "id": "97a7e7af",
   "metadata": {},
   "outputs": [],
   "source": [
    "country.add_member(canada)\n",
    "country.add_member(germany)\n",
    "country.add_member(spain)\n",
    "country.add_member(france)\n",
    "country.add_member(japan)\n",
    "country.add_member(uk)\n",
    "country.add_member(usa)\n"
   ]
  },
  {
   "cell_type": "code",
   "execution_count": 5,
   "id": "54a86d4e",
   "metadata": {},
   "outputs": [
    {
     "data": {
      "text/markdown": [
       "```python\n",
       "DataSubject: Country\n",
       "Description: None\n",
       "Aliases: ['country_code']\n",
       "Members: 7\n",
       "\n",
       "```"
      ],
      "text/plain": [
       "<DataSubject: Country>"
      ]
     },
     "execution_count": 5,
     "metadata": {},
     "output_type": "execute_result"
    }
   ],
   "source": [
    "country"
   ]
  },
  {
   "cell_type": "code",
   "execution_count": 6,
   "id": "339f03bc",
   "metadata": {},
   "outputs": [
    {
     "data": {
      "text/html": [
       "Dict - Size: 7\n",
       "<div>\n",
       "<style scoped>\n",
       "    .dataframe tbody tr th:only-of-type {\n",
       "        vertical-align: middle;\n",
       "    }\n",
       "\n",
       "    .dataframe tbody tr th {\n",
       "        vertical-align: top;\n",
       "    }\n",
       "\n",
       "    .dataframe thead th {\n",
       "        text-align: right;\n",
       "    }\n",
       "</style>\n",
       "<table border=\"1\" class=\"dataframe\">\n",
       "  <thead>\n",
       "    <tr style=\"text-align: right;\">\n",
       "      <th></th>\n",
       "      <th>key</th>\n",
       "      <th>type</th>\n",
       "      <th>id</th>\n",
       "    </tr>\n",
       "  </thead>\n",
       "  <tbody>\n",
       "    <tr>\n",
       "      <th>0</th>\n",
       "      <td>Canada</td>\n",
       "      <td>&lt;DataSubject: Canada&gt;</td>\n",
       "      <td>b8bb7c9e07f845aabe7557c38c453a30</td>\n",
       "    </tr>\n",
       "    <tr>\n",
       "      <th>1</th>\n",
       "      <td>Germany</td>\n",
       "      <td>&lt;DataSubject: Germany&gt;</td>\n",
       "      <td>d41b09667c994557aa8f3bbfb97b82b5</td>\n",
       "    </tr>\n",
       "    <tr>\n",
       "      <th>2</th>\n",
       "      <td>Spain</td>\n",
       "      <td>&lt;DataSubject: Spain&gt;</td>\n",
       "      <td>d3c2d6463ad247c680be2410afa70350</td>\n",
       "    </tr>\n",
       "    <tr>\n",
       "      <th>3</th>\n",
       "      <td>France</td>\n",
       "      <td>&lt;DataSubject: France&gt;</td>\n",
       "      <td>bb806ada99214171aa733a07dba90af3</td>\n",
       "    </tr>\n",
       "    <tr>\n",
       "      <th>4</th>\n",
       "      <td>Japan</td>\n",
       "      <td>&lt;DataSubject: Japan&gt;</td>\n",
       "      <td>a929972df00840998e3371b715d48ce9</td>\n",
       "    </tr>\n",
       "  </tbody>\n",
       "</table>\n",
       "</div>"
      ],
      "text/plain": [
       "{'Canada': <DataSubject: Canada>,\n",
       " 'Germany': <DataSubject: Germany>,\n",
       " 'Spain': <DataSubject: Spain>,\n",
       " 'France': <DataSubject: France>,\n",
       " 'Japan': <DataSubject: Japan>,\n",
       " 'United Kingdom': <DataSubject: United Kingdom>,\n",
       " 'United States of America': <DataSubject: United States of America>}"
      ]
     },
     "execution_count": 6,
     "metadata": {},
     "output_type": "execute_result"
    }
   ],
   "source": [
    "country.members"
   ]
  },
  {
   "cell_type": "code",
   "execution_count": 7,
   "id": "4a19c8e5",
   "metadata": {},
   "outputs": [
    {
     "data": {
      "text/markdown": [
       "```python\n",
       "DataSubject: Canada\n",
       "Description: None\n",
       "Aliases: ['country_code:ca']\n",
       "Members: 0\n",
       "\n",
       "```"
      ],
      "text/plain": [
       "<DataSubject: Canada>"
      ]
     },
     "execution_count": 7,
     "metadata": {},
     "output_type": "execute_result"
    }
   ],
   "source": [
    "country.members['Canada']"
   ]
  },
  {
   "cell_type": "markdown",
   "id": "29d1b348",
   "metadata": {},
   "source": [
    "#### Creating Asset"
   ]
  },
  {
   "cell_type": "code",
   "execution_count": 8,
   "id": "05f47f72",
   "metadata": {},
   "outputs": [],
   "source": [
    "gppwa = CreateAsset(name=\"grouped_political_parties_with_amplification\")\n",
    "\n",
    "asset_desc = \"\"\"\n",
    "BACKGROUND:\n",
    "\n",
    "This dataset refers to the calculated amplification ratios in the paper grouped by\n",
    "political party. This allows one to create a graph indicating the degree of ammplification \n",
    "that each party received over the time of the study.\n",
    "\n",
    "STATISTICS:\n",
    "\n",
    "    - num cols: 5\n",
    "    - num rows: 7073\n",
    "\n",
    "ASSETS:\n",
    "\n",
    "    - countries:\n",
    "        REAL: this is the country code of the political party being referred to.\n",
    "        MOCK: this draws from the same distribution of countries but is generated randomly\n",
    "\n",
    "    - grouping_id:\n",
    "        REAL: each country is divided into a small number of groups, specified by the grouping id\n",
    "        MOCK: these groups are pulled from the same labels as the underlying dataset and is randomly\n",
    "        sorted but in a way that matches the corresponding country code in \"countries\".\n",
    "\n",
    "    - group_label:\n",
    "        REAL: the political party of this row. \n",
    "        MOCK: uses the same political party labels as the real dataset, and puts them in the correct\n",
    "        country but within a country's rows the parties are drawn at random\n",
    "\n",
    "    - bootstrap_fold_id:\n",
    "        REAL: the int id of a corresponding group that came out of the bootstrap algorithm. I honestly\n",
    "        don't really know what this is but I encourage you to study the paper and figure it out.\n",
    "        MOCK: randomly generated IDs between 1 and 1000. Since ids were randomly generated we did\n",
    "        ensure that all IDs from the original dataset are represented at least once.\n",
    "\n",
    "    - amplification:\n",
    "        REAL: the relative measure of amplification. Please see the paper for details. They're floats.\n",
    "        MOCK: randomly generated amplification floats between -100 and 1000.\n",
    "\n",
    "DATA SUBJECTS / PRIVACY NOTES:\n",
    "\n",
    "    Data subjects are tracked at country and party level as there may be some sensitives when\n",
    "    releasing the dataset based on these issues.\n",
    "\"\"\"\n",
    "\n",
    "gppwa.set_description(asset_desc)"
   ]
  },
  {
   "cell_type": "code",
   "execution_count": 9,
   "id": "d7d2a502",
   "metadata": {},
   "outputs": [],
   "source": [
    "gppwa.add_data_subject(country)"
   ]
  },
  {
   "cell_type": "code",
   "execution_count": 10,
   "id": "7084887c",
   "metadata": {},
   "outputs": [],
   "source": [
    "gppwa.add_contributor(role=\"UPLOADER\",#sy.roles.UPLOADER, \n",
    "                      name=\"Andrew Trask\", \n",
    "                      email=\"andrew@openmined.org\",\n",
    "                      note=\"Andrew runs this domamin and prepared the asset.\")"
   ]
  },
  {
   "cell_type": "code",
   "execution_count": 11,
   "id": "bf7e4eca",
   "metadata": {},
   "outputs": [],
   "source": [
    "original_data = {\"id\": [1, 2], \"age\": [10, 12]}\n",
    "mock_data = {\"id\": [5, 6], \"age\": [2, 7]}\n",
    "original_data = pd.DataFrame(original_data)\n",
    "mock_data = pd.DataFrame(mock_data)"
   ]
  },
  {
   "cell_type": "code",
   "execution_count": 12,
   "id": "ca5681e6",
   "metadata": {},
   "outputs": [],
   "source": [
    "orig_data_as_numpy = original_data.to_numpy()\n",
    "mock_data_as_numpy = mock_data.to_numpy()"
   ]
  },
  {
   "cell_type": "code",
   "execution_count": 13,
   "id": "263c73ba",
   "metadata": {},
   "outputs": [],
   "source": [
    "gppwa.set_obj(data=orig_data_as_numpy)"
   ]
  },
  {
   "cell_type": "code",
   "execution_count": 14,
   "id": "11fad33b",
   "metadata": {},
   "outputs": [],
   "source": [
    "gppwa.set_mock(mock_data=mock_data_as_numpy, mock_is_real=False)"
   ]
  },
  {
   "cell_type": "code",
   "execution_count": 15,
   "id": "65730589",
   "metadata": {},
   "outputs": [],
   "source": [
    "gppwa.set_shape(shape=original_data.shape)"
   ]
  },
  {
   "cell_type": "code",
   "execution_count": 16,
   "id": "d5145313",
   "metadata": {},
   "outputs": [
    {
     "data": {
      "text/markdown": [
       "```python\n",
       "Asset: grouped_political_parties_with_amplification\n",
       "Pointer Id: None\n",
       "Description: \n",
       "BACKGROUND:\n",
       "\n",
       "This dataset refers to the calculated amplification ratios in the paper grouped by\n",
       "political party. This allows one to create a graph indicating the degree of ammplification \n",
       "that each party received over the time of the study.\n",
       "\n",
       "STATISTICS:\n",
       "\n",
       "    - num cols: 5\n",
       "    - num rows: 7073\n",
       "\n",
       "ASSETS:\n",
       "\n",
       "    - countries:\n",
       "        REAL: this is the country code of the political party being referred to.\n",
       "        MOCK: this draws from the same distribution of countries but is generated randomly\n",
       "\n",
       "    - grouping_id:\n",
       "        REAL: each country is divided into a small number of groups, specified by the grouping id\n",
       "        MOCK: these groups are pulled from the same labels as the underlying dataset and is randomly\n",
       "        sorted but in a way that matches the corresponding country code in \"countries\".\n",
       "\n",
       "    - group_label:\n",
       "        REAL: the political party of this row. \n",
       "        MOCK: uses the same political party labels as the real dataset, and puts them in the correct\n",
       "        country but within a country's rows the parties are drawn at random\n",
       "\n",
       "    - bootstrap_fold_id:\n",
       "        REAL: the int id of a corresponding group that came out of the bootstrap algorithm. I honestly\n",
       "        don't really know what this is but I encourage you to study the paper and figure it out.\n",
       "        MOCK: randomly generated IDs between 1 and 1000. Since ids were randomly generated we did\n",
       "        ensure that all IDs from the original dataset are represented at least once.\n",
       "\n",
       "    - amplification:\n",
       "        REAL: the relative measure of amplification. Please see the paper for details. They're floats.\n",
       "        MOCK: randomly generated amplification floats between -100 and 1000.\n",
       "\n",
       "DATA SUBJECTS / PRIVACY NOTES:\n",
       "\n",
       "    Data subjects are tracked at country and party level as there may be some sensitives when\n",
       "    releasing the dataset based on these issues.\n",
       "\n",
       "Total Data Subjects: 1\n",
       "Shape: (2, 2)\n",
       "Contributors:\n",
       "\tAndrew Trask: andrew@openmined.org\n",
       "\n",
       "```"
      ],
      "text/plain": [
       "syft.core.node.new.dataset.CreateAsset"
      ]
     },
     "execution_count": 16,
     "metadata": {},
     "output_type": "execute_result"
    }
   ],
   "source": [
    "gppwa"
   ]
  },
  {
   "cell_type": "code",
   "execution_count": 17,
   "id": "a7fd94f9",
   "metadata": {},
   "outputs": [
    {
     "data": {
      "text/plain": [
       "array([[5, 2],\n",
       "       [6, 7]])"
      ]
     },
     "execution_count": 17,
     "metadata": {},
     "output_type": "execute_result"
    }
   ],
   "source": [
    "gppwa.mock"
   ]
  },
  {
   "cell_type": "markdown",
   "id": "baab411c",
   "metadata": {},
   "source": [
    "#### Creating a Dataset"
   ]
  },
  {
   "cell_type": "code",
   "execution_count": 18,
   "id": "abca8295",
   "metadata": {},
   "outputs": [],
   "source": [
    "dataset = CreateDataset(name=\"My Dataset\")\n",
    "dataset.set_description(\"My Short Description\")\n",
    "dataset.add_citation(\"My Citations.......\")\n",
    "dataset.add_contributor(name=\"Shubham\", email=\"shubham@openmined\", note=\"My Note... Do not touch :)\", role=\"Developer\")\n",
    "dataset.add_url(\"https://www.openmined.org\")"
   ]
  },
  {
   "cell_type": "code",
   "execution_count": 19,
   "id": "209a8a98",
   "metadata": {},
   "outputs": [],
   "source": [
    "# Adding asset\n",
    "dataset.add_asset(gppwa)"
   ]
  },
  {
   "cell_type": "code",
   "execution_count": 20,
   "id": "e5cb8c28",
   "metadata": {},
   "outputs": [
    {
     "data": {
      "text/markdown": [
       "```python\n",
       "Syft Dataset: My Dataset\n",
       "Assets:\n",
       "\tgrouped_political_parties_with_amplification: \n",
       "BACKGROUND:\n",
       "\n",
       "This dataset refers to the calculated amplification ratios in the paper grouped by\n",
       "political party. This allows one to create a graph indicating the degree of ammplification \n",
       "that each party received over the time of the study.\n",
       "\n",
       "STATISTICS:\n",
       "\n",
       "    - num cols: 5\n",
       "    - num rows: 7073\n",
       "\n",
       "ASSETS:\n",
       "\n",
       "    - countries:\n",
       "        REAL: this is the country code of the political party being referred to.\n",
       "        MOCK: this draws from the same distribution of countries but is generated randomly\n",
       "\n",
       "    - grouping_id:\n",
       "        REAL: each country is divided into a small number of groups, specified by the grouping id\n",
       "        MOCK: these groups are pulled from the same labels as the underlying dataset and is randomly\n",
       "        sorted but in a way that matches the corresponding country code in \"countries\".\n",
       "\n",
       "    - group_label:\n",
       "        REAL: the political party of this row. \n",
       "        MOCK: uses the same political party labels as the real dataset, and puts them in the correct\n",
       "        country but within a country's rows the parties are drawn at random\n",
       "\n",
       "    - bootstrap_fold_id:\n",
       "        REAL: the int id of a corresponding group that came out of the bootstrap algorithm. I honestly\n",
       "        don't really know what this is but I encourage you to study the paper and figure it out.\n",
       "        MOCK: randomly generated IDs between 1 and 1000. Since ids were randomly generated we did\n",
       "        ensure that all IDs from the original dataset are represented at least once.\n",
       "\n",
       "    - amplification:\n",
       "        REAL: the relative measure of amplification. Please see the paper for details. They're floats.\n",
       "        MOCK: randomly generated amplification floats between -100 and 1000.\n",
       "\n",
       "DATA SUBJECTS / PRIVACY NOTES:\n",
       "\n",
       "    Data subjects are tracked at country and party level as there may be some sensitives when\n",
       "    releasing the dataset based on these issues.\n",
       "\n",
       "Citation: My Citations.......\n",
       "URL: https://www.openmined.org\n",
       "Description: My Short Description\n",
       "\n",
       "```"
      ],
      "text/plain": [
       "syft.core.node.new.dataset.CreateDataset"
      ]
     },
     "execution_count": 20,
     "metadata": {},
     "output_type": "execute_result"
    }
   ],
   "source": [
    "dataset"
   ]
  },
  {
   "cell_type": "markdown",
   "id": "4e8a21a8",
   "metadata": {},
   "source": [
    "#### Uploading Dataset"
   ]
  },
  {
   "cell_type": "code",
   "execution_count": 21,
   "id": "d3e9ff48",
   "metadata": {},
   "outputs": [
    {
     "name": "stdout",
     "output_type": "stream",
     "text": [
      "Starting Worker: Zealous Wolf - cd41db9cf1d4429b90237c0f0ac99330 [<class 'syft.core.node.new.user_service.UserService'>, <class 'syft.core.node.new.action_service.ActionService'>, <class 'syft.core.node.new.test_service.TestService'>, <class 'syft.core.node.new.dataset_service.DatasetService'>, <class 'syft.core.node.new.user_code_service.UserCodeService'>]\n"
     ]
    }
   ],
   "source": [
    "worker = Worker()"
   ]
  },
  {
   "cell_type": "code",
   "execution_count": 22,
   "id": "112411a5",
   "metadata": {},
   "outputs": [
    {
     "name": "stdout",
     "output_type": "stream",
     "text": [
      "Logged into Zealous Wolf as <info@openmined.org>\n"
     ]
    }
   ],
   "source": [
    "client = sy.new_login(node=worker, email=\"info@openmined.org\", password=\"changethis\")"
   ]
  },
  {
   "cell_type": "code",
   "execution_count": 23,
   "id": "0c0b922f",
   "metadata": {},
   "outputs": [
    {
     "name": "stderr",
     "output_type": "stream",
     "text": [
      "100%|███████████████████████████████████████████████████████████████████████████████████████████████████████████████████████████████████| 1/1 [00:00<00:00, 268.32it/s]"
     ]
    },
    {
     "name": "stdout",
     "output_type": "stream",
     "text": [
      "Uploading: grouped_political_parties_with_amplification\n"
     ]
    },
    {
     "name": "stderr",
     "output_type": "stream",
     "text": [
      "\n"
     ]
    },
    {
     "data": {
      "text/html": [
       "<div class=\"alert-success\" style=\"padding:5px;\"><strong>SyftSuccess</strong>: Dataset Added.</div><br />"
      ],
      "text/plain": [
       "<class 'syft.core.node.new.response.SyftSuccess'>: Dataset Added"
      ]
     },
     "execution_count": 23,
     "metadata": {},
     "output_type": "execute_result"
    }
   ],
   "source": [
    "client.upload_dataset(dataset=dataset)"
   ]
  },
  {
   "cell_type": "code",
   "execution_count": 27,
   "id": "94fc44a5",
   "metadata": {},
   "outputs": [],
   "source": [
    "datasets = client.api.services.dataset.get_all()"
   ]
  },
  {
   "cell_type": "code",
   "execution_count": 28,
   "id": "b1dae917",
   "metadata": {},
   "outputs": [
    {
     "data": {
      "text/html": [
       "List - Size: 1\n",
       "<div>\n",
       "<style scoped>\n",
       "    .dataframe tbody tr th:only-of-type {\n",
       "        vertical-align: middle;\n",
       "    }\n",
       "\n",
       "    .dataframe tbody tr th {\n",
       "        vertical-align: top;\n",
       "    }\n",
       "\n",
       "    .dataframe thead th {\n",
       "        text-align: right;\n",
       "    }\n",
       "</style>\n",
       "<table border=\"1\" class=\"dataframe\">\n",
       "  <thead>\n",
       "    <tr style=\"text-align: right;\">\n",
       "      <th></th>\n",
       "      <th>type</th>\n",
       "      <th>id</th>\n",
       "    </tr>\n",
       "  </thead>\n",
       "  <tbody>\n",
       "    <tr>\n",
       "      <th>0</th>\n",
       "      <td>syft.core.node.new.dataset.Dataset</td>\n",
       "      <td>ac81fa7651774529b550500d35e8b527</td>\n",
       "    </tr>\n",
       "  </tbody>\n",
       "</table>\n",
       "</div>"
      ],
      "text/plain": [
       "[syft.core.node.new.dataset.Dataset]"
      ]
     },
     "execution_count": 28,
     "metadata": {},
     "output_type": "execute_result"
    }
   ],
   "source": [
    "datasets"
   ]
  },
  {
   "cell_type": "code",
   "execution_count": 29,
   "id": "efd3d0cc",
   "metadata": {},
   "outputs": [],
   "source": [
    "dataset = datasets[0]"
   ]
  },
  {
   "cell_type": "code",
   "execution_count": 30,
   "id": "f7dcae00",
   "metadata": {},
   "outputs": [
    {
     "data": {
      "text/markdown": [
       "```python\n",
       "Syft Dataset: My Dataset\n",
       "Assets:\n",
       "\tgrouped_political_parties_with_amplification: \n",
       "BACKGROUND:\n",
       "\n",
       "This dataset refers to the calculated amplification ratios in the paper grouped by\n",
       "political party. This allows one to create a graph indicating the degree of ammplification \n",
       "that each party received over the time of the study.\n",
       "\n",
       "STATISTICS:\n",
       "\n",
       "    - num cols: 5\n",
       "    - num rows: 7073\n",
       "\n",
       "ASSETS:\n",
       "\n",
       "    - countries:\n",
       "        REAL: this is the country code of the political party being referred to.\n",
       "        MOCK: this draws from the same distribution of countries but is generated randomly\n",
       "\n",
       "    - grouping_id:\n",
       "        REAL: each country is divided into a small number of groups, specified by the grouping id\n",
       "        MOCK: these groups are pulled from the same labels as the underlying dataset and is randomly\n",
       "        sorted but in a way that matches the corresponding country code in \"countries\".\n",
       "\n",
       "    - group_label:\n",
       "        REAL: the political party of this row. \n",
       "        MOCK: uses the same political party labels as the real dataset, and puts them in the correct\n",
       "        country but within a country's rows the parties are drawn at random\n",
       "\n",
       "    - bootstrap_fold_id:\n",
       "        REAL: the int id of a corresponding group that came out of the bootstrap algorithm. I honestly\n",
       "        don't really know what this is but I encourage you to study the paper and figure it out.\n",
       "        MOCK: randomly generated IDs between 1 and 1000. Since ids were randomly generated we did\n",
       "        ensure that all IDs from the original dataset are represented at least once.\n",
       "\n",
       "    - amplification:\n",
       "        REAL: the relative measure of amplification. Please see the paper for details. They're floats.\n",
       "        MOCK: randomly generated amplification floats between -100 and 1000.\n",
       "\n",
       "DATA SUBJECTS / PRIVACY NOTES:\n",
       "\n",
       "    Data subjects are tracked at country and party level as there may be some sensitives when\n",
       "    releasing the dataset based on these issues.\n",
       "\n",
       "Citation: My Citations.......\n",
       "URL: https://www.openmined.org\n",
       "Description: My Short Description\n",
       "\n",
       "```"
      ],
      "text/plain": [
       "syft.core.node.new.dataset.Dataset"
      ]
     },
     "execution_count": 30,
     "metadata": {},
     "output_type": "execute_result"
    }
   ],
   "source": [
    "dataset"
   ]
  },
  {
   "cell_type": "code",
   "execution_count": 31,
   "id": "7d76c7c1",
   "metadata": {},
   "outputs": [
    {
     "data": {
      "text/html": [
       "Dict - Size: 1\n",
       "<div>\n",
       "<style scoped>\n",
       "    .dataframe tbody tr th:only-of-type {\n",
       "        vertical-align: middle;\n",
       "    }\n",
       "\n",
       "    .dataframe tbody tr th {\n",
       "        vertical-align: top;\n",
       "    }\n",
       "\n",
       "    .dataframe thead th {\n",
       "        text-align: right;\n",
       "    }\n",
       "</style>\n",
       "<table border=\"1\" class=\"dataframe\">\n",
       "  <thead>\n",
       "    <tr style=\"text-align: right;\">\n",
       "      <th></th>\n",
       "      <th>key</th>\n",
       "      <th>type</th>\n",
       "      <th>id</th>\n",
       "    </tr>\n",
       "  </thead>\n",
       "  <tbody>\n",
       "    <tr>\n",
       "      <th>0</th>\n",
       "      <td>grouped_political_parties_with_amplification</td>\n",
       "      <td>syft.core.node.new.dataset.Asset</td>\n",
       "      <td>7380f668f2c0425e8f6a62e10dc8fd27</td>\n",
       "    </tr>\n",
       "  </tbody>\n",
       "</table>\n",
       "</div>"
      ],
      "text/plain": [
       "{'grouped_political_parties_with_amplification': syft.core.node.new.dataset.Asset}"
      ]
     },
     "execution_count": 31,
     "metadata": {},
     "output_type": "execute_result"
    }
   ],
   "source": [
    "dataset.assets"
   ]
  },
  {
   "cell_type": "code",
   "execution_count": 32,
   "id": "b50b5546",
   "metadata": {},
   "outputs": [],
   "source": [
    "data_asset = dataset.assets[\"grouped_political_parties_with_amplification\"]"
   ]
  },
  {
   "cell_type": "code",
   "execution_count": 33,
   "id": "dde00efa",
   "metadata": {},
   "outputs": [
    {
     "data": {
      "text/markdown": [
       "```python\n",
       "Asset: grouped_political_parties_with_amplification\n",
       "Pointer Id: 3051e4065b284dfda60652c08aad4076\n",
       "Description: \n",
       "BACKGROUND:\n",
       "\n",
       "This dataset refers to the calculated amplification ratios in the paper grouped by\n",
       "political party. This allows one to create a graph indicating the degree of ammplification \n",
       "that each party received over the time of the study.\n",
       "\n",
       "STATISTICS:\n",
       "\n",
       "    - num cols: 5\n",
       "    - num rows: 7073\n",
       "\n",
       "ASSETS:\n",
       "\n",
       "    - countries:\n",
       "        REAL: this is the country code of the political party being referred to.\n",
       "        MOCK: this draws from the same distribution of countries but is generated randomly\n",
       "\n",
       "    - grouping_id:\n",
       "        REAL: each country is divided into a small number of groups, specified by the grouping id\n",
       "        MOCK: these groups are pulled from the same labels as the underlying dataset and is randomly\n",
       "        sorted but in a way that matches the corresponding country code in \"countries\".\n",
       "\n",
       "    - group_label:\n",
       "        REAL: the political party of this row. \n",
       "        MOCK: uses the same political party labels as the real dataset, and puts them in the correct\n",
       "        country but within a country's rows the parties are drawn at random\n",
       "\n",
       "    - bootstrap_fold_id:\n",
       "        REAL: the int id of a corresponding group that came out of the bootstrap algorithm. I honestly\n",
       "        don't really know what this is but I encourage you to study the paper and figure it out.\n",
       "        MOCK: randomly generated IDs between 1 and 1000. Since ids were randomly generated we did\n",
       "        ensure that all IDs from the original dataset are represented at least once.\n",
       "\n",
       "    - amplification:\n",
       "        REAL: the relative measure of amplification. Please see the paper for details. They're floats.\n",
       "        MOCK: randomly generated amplification floats between -100 and 1000.\n",
       "\n",
       "DATA SUBJECTS / PRIVACY NOTES:\n",
       "\n",
       "    Data subjects are tracked at country and party level as there may be some sensitives when\n",
       "    releasing the dataset based on these issues.\n",
       "\n",
       "Total Data Subjects: 1\n",
       "Shape: (2, 2)\n",
       "Contributors:\n",
       "\tAndrew Trask: andrew@openmined.org\n",
       "\n",
       "```"
      ],
      "text/plain": [
       "syft.core.node.new.dataset.Asset"
      ]
     },
     "execution_count": 33,
     "metadata": {},
     "output_type": "execute_result"
    }
   ],
   "source": [
    "data_asset"
   ]
  },
  {
   "cell_type": "code",
   "execution_count": 34,
   "id": "b3a1ed09",
   "metadata": {},
   "outputs": [
    {
     "data": {
      "text/plain": [
       "array([[5, 2],\n",
       "       [6, 7]])"
      ]
     },
     "execution_count": 34,
     "metadata": {},
     "output_type": "execute_result"
    }
   ],
   "source": [
    "data_asset.mock"
   ]
  },
  {
   "cell_type": "code",
   "execution_count": 35,
   "id": "2295a8c6",
   "metadata": {},
   "outputs": [
    {
     "data": {
      "text/plain": [
       "False"
      ]
     },
     "execution_count": 35,
     "metadata": {},
     "output_type": "execute_result"
    }
   ],
   "source": [
    "hasattr(data_asset, \"data\")"
   ]
  },
  {
   "cell_type": "code",
   "execution_count": 36,
   "id": "1bef9641",
   "metadata": {},
   "outputs": [
    {
     "data": {
      "text/plain": [
       "<UID: 3051e4065b284dfda60652c08aad4076>"
      ]
     },
     "execution_count": 36,
     "metadata": {},
     "output_type": "execute_result"
    }
   ],
   "source": [
    "data_asset.action_id"
   ]
  },
  {
   "cell_type": "code",
   "execution_count": 37,
   "id": "6b7f3db4",
   "metadata": {},
   "outputs": [],
   "source": [
    "data_ptr = data_asset.pointer"
   ]
  },
  {
   "cell_type": "code",
   "execution_count": 38,
   "id": "075ebab7",
   "metadata": {},
   "outputs": [
    {
     "data": {
      "text/markdown": [
       "```python\n",
       "class NumpyArrayObjectPointer:\n",
       "  id: str = 3051e4065b284dfda60652c08aad4076\n",
       "  node_uid: str = cd41db9cf1d4429b90237c0f0ac99330\n",
       "  parent_id: str = None\n",
       "\n",
       "```"
      ],
      "text/plain": [
       "syft.core.node.new.numpy_array.NumpyArrayObjectPointer"
      ]
     },
     "execution_count": 38,
     "metadata": {},
     "output_type": "execute_result"
    }
   ],
   "source": [
    "data_ptr"
   ]
  },
  {
   "cell_type": "code",
   "execution_count": 39,
   "id": "0f63998d",
   "metadata": {},
   "outputs": [
    {
     "data": {
      "text/plain": [
       "array([[ 1, 10],\n",
       "       [ 2, 12]])"
      ]
     },
     "execution_count": 39,
     "metadata": {},
     "output_type": "execute_result"
    }
   ],
   "source": [
    "data_ptr.get_from(client)"
   ]
  },
  {
   "cell_type": "markdown",
   "id": "3f2f1a25",
   "metadata": {},
   "source": [
    "#### Exploring Data Subject Registry\n",
    "\n",
    "This is currently not integrated on the server, but would behave in a following fashion and recursively add all members of the Data subject to the registry."
   ]
  },
  {
   "cell_type": "code",
   "execution_count": null,
   "id": "ade884eb",
   "metadata": {},
   "outputs": [],
   "source": [
    "data_subject_registry = DataSubjectRegistry()"
   ]
  },
  {
   "cell_type": "code",
   "execution_count": 43,
   "id": "2025d821",
   "metadata": {},
   "outputs": [],
   "source": [
    "data_subject_registry.add_data_subject(data_subject=country)"
   ]
  },
  {
   "cell_type": "code",
   "execution_count": 44,
   "id": "d3877118",
   "metadata": {},
   "outputs": [
    {
     "data": {
      "text/markdown": [
       "```python\n",
       "DataSubjects: 8\n",
       "\n",
       "```"
      ],
      "text/plain": [
       "syft.core.node.new.data_subject.DataSubjectRegistry"
      ]
     },
     "execution_count": 44,
     "metadata": {},
     "output_type": "execute_result"
    }
   ],
   "source": [
    "data_subject_registry"
   ]
  },
  {
   "cell_type": "code",
   "execution_count": 45,
   "id": "73f87570",
   "metadata": {},
   "outputs": [
    {
     "data": {
      "text/html": [
       "List - Size: 8\n",
       "<div>\n",
       "<style scoped>\n",
       "    .dataframe tbody tr th:only-of-type {\n",
       "        vertical-align: middle;\n",
       "    }\n",
       "\n",
       "    .dataframe tbody tr th {\n",
       "        vertical-align: top;\n",
       "    }\n",
       "\n",
       "    .dataframe thead th {\n",
       "        text-align: right;\n",
       "    }\n",
       "</style>\n",
       "<table border=\"1\" class=\"dataframe\">\n",
       "  <thead>\n",
       "    <tr style=\"text-align: right;\">\n",
       "      <th></th>\n",
       "      <th>type</th>\n",
       "      <th>id</th>\n",
       "    </tr>\n",
       "  </thead>\n",
       "  <tbody>\n",
       "    <tr>\n",
       "      <th>0</th>\n",
       "      <td>&lt;DataSubject: Country&gt;</td>\n",
       "      <td>af209471e47042ab922a2db9c2fa2acf</td>\n",
       "    </tr>\n",
       "    <tr>\n",
       "      <th>1</th>\n",
       "      <td>&lt;DataSubject: Canada&gt;</td>\n",
       "      <td>b8bb7c9e07f845aabe7557c38c453a30</td>\n",
       "    </tr>\n",
       "    <tr>\n",
       "      <th>2</th>\n",
       "      <td>&lt;DataSubject: Germany&gt;</td>\n",
       "      <td>d41b09667c994557aa8f3bbfb97b82b5</td>\n",
       "    </tr>\n",
       "    <tr>\n",
       "      <th>3</th>\n",
       "      <td>&lt;DataSubject: Spain&gt;</td>\n",
       "      <td>d3c2d6463ad247c680be2410afa70350</td>\n",
       "    </tr>\n",
       "    <tr>\n",
       "      <th>4</th>\n",
       "      <td>&lt;DataSubject: France&gt;</td>\n",
       "      <td>bb806ada99214171aa733a07dba90af3</td>\n",
       "    </tr>\n",
       "  </tbody>\n",
       "</table>\n",
       "</div>"
      ],
      "text/plain": [
       "[<DataSubject: Country>,\n",
       " <DataSubject: Canada>,\n",
       " <DataSubject: Germany>,\n",
       " <DataSubject: Spain>,\n",
       " <DataSubject: France>,\n",
       " <DataSubject: Japan>,\n",
       " <DataSubject: United Kingdom>,\n",
       " <DataSubject: United States of America>]"
      ]
     },
     "execution_count": 45,
     "metadata": {},
     "output_type": "execute_result"
    }
   ],
   "source": [
    "data_subject_registry.data_subjects"
   ]
  }
 ],
 "metadata": {
  "kernelspec": {
   "display_name": "Python 3 (ipykernel)",
   "language": "python",
   "name": "python3"
  },
  "language_info": {
   "codemirror_mode": {
    "name": "ipython",
    "version": 3
   },
   "file_extension": ".py",
   "mimetype": "text/x-python",
   "name": "python",
   "nbconvert_exporter": "python",
   "pygments_lexer": "ipython3",
   "version": "3.9.7"
  }
 },
 "nbformat": 4,
 "nbformat_minor": 5
}
