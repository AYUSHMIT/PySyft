{
 "cells": [
  {
   "cell_type": "code",
   "execution_count": 1,
   "id": "28d8e943",
   "metadata": {},
   "outputs": [
    {
     "name": "stderr",
     "output_type": "stream",
     "text": [
      "kj/filesystem-disk-unix.c++:1703: warning: PWD environment variable doesn't match current directory; pwd = /home/shubham\n"
     ]
    }
   ],
   "source": [
    "from syft.core.node.new.data_subject import DataSubject\n",
    "from syft.core.node.new.dataset import CreateAsset, CreateDataset"
   ]
  },
  {
   "cell_type": "code",
   "execution_count": 2,
   "id": "7fbede82",
   "metadata": {},
   "outputs": [],
   "source": [
    "party = DataSubject(name=\"Political Party\", aliases=[\"TWITTER:group_label\"])\n",
    "country = DataSubject(name=\"Country\", aliases=[\"country_code\"])\n",
    "leaning = DataSubject(name=\"Political Leaning\", aliases=[\"TWITTER:media_bias_category\"])\n",
    "company = DataSubject(name=\"Company\", aliases=[\"rating_source\", \"source_title\", \"publication_title\"])\n",
    "news_company = DataSubject(name=\"News Company\", aliases=[\"source_title\", \"publication_title\"])\n",
    "twitter_audience = DataSubject(name=\"Twitter Audience\", aliases=[\"TWITTER:audience\"])"
   ]
  },
  {
   "cell_type": "code",
   "execution_count": 3,
   "id": "e375155f",
   "metadata": {},
   "outputs": [],
   "source": [
    "canada = DataSubject(name=\"Canada\", aliases=[\"country_code:ca\"])\n",
    "germany = DataSubject(name=\"Germany\", aliases=[\"country_code:de\"])\n",
    "spain = DataSubject(name=\"Spain\", aliases=[\"country_code:es\"])\n",
    "france = DataSubject(name=\"France\", aliases=[\"country_code:fr\"])\n",
    "japan = DataSubject(name=\"Japan\", aliases=[\"country_code:jp\"])\n",
    "uk = DataSubject(name=\"United Kingdom\", aliases=[\"country_code:uk\"])\n",
    "usa = DataSubject(name=\"United States of America\", aliases=[\"country_code:us\"])"
   ]
  },
  {
   "cell_type": "code",
   "execution_count": 4,
   "id": "97a7e7af",
   "metadata": {},
   "outputs": [],
   "source": [
    "\n",
    "country.add_member(canada)\n",
    "country.add_member(germany)\n",
    "country.add_member(spain)\n",
    "country.add_member(france)\n",
    "country.add_member(japan)\n",
    "country.add_member(uk)\n",
    "country.add_member(usa)\n"
   ]
  },
  {
   "cell_type": "code",
   "execution_count": 5,
   "id": "54a86d4e",
   "metadata": {},
   "outputs": [
    {
     "data": {
      "text/markdown": [
       "```python\n",
       "DataSubject: Country\n",
       "Description: None\n",
       "Aliases: ['country_code']\n",
       "Members: 7\n",
       "\n",
       "```"
      ],
      "text/plain": [
       "<DataSubject: Country>"
      ]
     },
     "execution_count": 5,
     "metadata": {},
     "output_type": "execute_result"
    }
   ],
   "source": [
    "country"
   ]
  },
  {
   "cell_type": "code",
   "execution_count": 6,
   "id": "339f03bc",
   "metadata": {},
   "outputs": [
    {
     "data": {
      "text/html": [
       "Dict - Size: 7\n",
       "<div>\n",
       "<style scoped>\n",
       "    .dataframe tbody tr th:only-of-type {\n",
       "        vertical-align: middle;\n",
       "    }\n",
       "\n",
       "    .dataframe tbody tr th {\n",
       "        vertical-align: top;\n",
       "    }\n",
       "\n",
       "    .dataframe thead th {\n",
       "        text-align: right;\n",
       "    }\n",
       "</style>\n",
       "<table border=\"1\" class=\"dataframe\">\n",
       "  <thead>\n",
       "    <tr style=\"text-align: right;\">\n",
       "      <th></th>\n",
       "      <th>key</th>\n",
       "      <th>type</th>\n",
       "      <th>id</th>\n",
       "    </tr>\n",
       "  </thead>\n",
       "  <tbody>\n",
       "    <tr>\n",
       "      <th>0</th>\n",
       "      <td>Canada</td>\n",
       "      <td>&lt;DataSubject: Canada&gt;</td>\n",
       "      <td>fbbf34b20f37493684037c2021cd5606</td>\n",
       "    </tr>\n",
       "    <tr>\n",
       "      <th>1</th>\n",
       "      <td>Germany</td>\n",
       "      <td>&lt;DataSubject: Germany&gt;</td>\n",
       "      <td>952f8c61759e4cf1aeb1a8f276a1059b</td>\n",
       "    </tr>\n",
       "    <tr>\n",
       "      <th>2</th>\n",
       "      <td>Spain</td>\n",
       "      <td>&lt;DataSubject: Spain&gt;</td>\n",
       "      <td>c5e3e119d15c4c2980fcb32cdbf6bb81</td>\n",
       "    </tr>\n",
       "    <tr>\n",
       "      <th>3</th>\n",
       "      <td>France</td>\n",
       "      <td>&lt;DataSubject: France&gt;</td>\n",
       "      <td>9fe843947c564a399f3627c405ee788c</td>\n",
       "    </tr>\n",
       "    <tr>\n",
       "      <th>4</th>\n",
       "      <td>Japan</td>\n",
       "      <td>&lt;DataSubject: Japan&gt;</td>\n",
       "      <td>6f4ae19acdc6437fa7924a886b60f8d6</td>\n",
       "    </tr>\n",
       "  </tbody>\n",
       "</table>\n",
       "</div>"
      ],
      "text/plain": [
       "{'Canada': <DataSubject: Canada>,\n",
       " 'Germany': <DataSubject: Germany>,\n",
       " 'Spain': <DataSubject: Spain>,\n",
       " 'France': <DataSubject: France>,\n",
       " 'Japan': <DataSubject: Japan>,\n",
       " 'United Kingdom': <DataSubject: United Kingdom>,\n",
       " 'United States of America': <DataSubject: United States of America>}"
      ]
     },
     "execution_count": 6,
     "metadata": {},
     "output_type": "execute_result"
    }
   ],
   "source": [
    "country.members"
   ]
  },
  {
   "cell_type": "code",
   "execution_count": 7,
   "id": "05f47f72",
   "metadata": {},
   "outputs": [],
   "source": [
    "gppwa = CreateAsset(name=\"grouped_political_parties_with_amplification\")\n",
    "\n",
    "asset_desc = \"\"\"\n",
    "BACKGROUND:\n",
    "\n",
    "This dataset refers to the calculated amplification ratios in the paper grouped by\n",
    "political party. This allows one to create a graph indicating the degree of ammplification \n",
    "that each party received over the time of the study.\n",
    "\n",
    "STATISTICS:\n",
    "\n",
    "    - num cols: 5\n",
    "    - num rows: 7073\n",
    "\n",
    "ASSETS:\n",
    "\n",
    "    - countries:\n",
    "        REAL: this is the country code of the political party being referred to.\n",
    "        MOCK: this draws from the same distribution of countries but is generated randomly\n",
    "\n",
    "    - grouping_id:\n",
    "        REAL: each country is divided into a small number of groups, specified by the grouping id\n",
    "        MOCK: these groups are pulled from the same labels as the underlying dataset and is randomly\n",
    "        sorted but in a way that matches the corresponding country code in \"countries\".\n",
    "\n",
    "    - group_label:\n",
    "        REAL: the political party of this row. \n",
    "        MOCK: uses the same political party labels as the real dataset, and puts them in the correct\n",
    "        country but within a country's rows the parties are drawn at random\n",
    "\n",
    "    - bootstrap_fold_id:\n",
    "        REAL: the int id of a corresponding group that came out of the bootstrap algorithm. I honestly\n",
    "        don't really know what this is but I encourage you to study the paper and figure it out.\n",
    "        MOCK: randomly generated IDs between 1 and 1000. Since ids were randomly generated we did\n",
    "        ensure that all IDs from the original dataset are represented at least once.\n",
    "\n",
    "    - amplification:\n",
    "        REAL: the relative measure of amplification. Please see the paper for details. They're floats.\n",
    "        MOCK: randomly generated amplification floats between -100 and 1000.\n",
    "\n",
    "DATA SUBJECTS / PRIVACY NOTES:\n",
    "\n",
    "    Data subjects are tracked at country and party level as there may be some sensitives when\n",
    "    releasing the dataset based on these issues.\n",
    "\"\"\"\n",
    "\n",
    "gppwa.set_description(asset_desc)"
   ]
  },
  {
   "cell_type": "code",
   "execution_count": 8,
   "id": "d7d2a502",
   "metadata": {},
   "outputs": [],
   "source": [
    "gppwa.add_data_subject(country)"
   ]
  },
  {
   "cell_type": "code",
   "execution_count": 9,
   "id": "7084887c",
   "metadata": {},
   "outputs": [],
   "source": [
    "gppwa.add_contributor(role=\"UPLOADER\",#sy.roles.UPLOADER, \n",
    "                      name=\"Andrew Trask\", \n",
    "                      email=\"andrew@openmined.org\",\n",
    "                      note=\"Andrew runs this domamin and prepared the asset.\")"
   ]
  },
  {
   "cell_type": "code",
   "execution_count": 10,
   "id": "48829368",
   "metadata": {},
   "outputs": [],
   "source": [
    "import pandas as pd"
   ]
  },
  {
   "cell_type": "code",
   "execution_count": 11,
   "id": "bf7e4eca",
   "metadata": {},
   "outputs": [],
   "source": [
    "data = {\"id\": [1, 2], \"age\": [10, 12]}\n",
    "\n",
    "data = pd.DataFrame(data)"
   ]
  },
  {
   "cell_type": "code",
   "execution_count": 12,
   "id": "263c73ba",
   "metadata": {},
   "outputs": [],
   "source": [
    "gppwa.set_obj(data=data.to_numpy())"
   ]
  },
  {
   "cell_type": "code",
   "execution_count": 13,
   "id": "11fad33b",
   "metadata": {},
   "outputs": [],
   "source": [
    "gppwa.set_mock(mock_data=data.to_numpy(), mock_is_real=False)"
   ]
  },
  {
   "cell_type": "code",
   "execution_count": 14,
   "id": "65730589",
   "metadata": {},
   "outputs": [],
   "source": [
    "gppwa.set_shape(shape=data.shape)"
   ]
  },
  {
   "cell_type": "code",
   "execution_count": 15,
   "id": "d5145313",
   "metadata": {},
   "outputs": [
    {
     "data": {
      "text/markdown": [
       "```python\n",
       "class CreateAsset:\n",
       "  id: str = None\n",
       "  action_id: str = None\n",
       "  node_uid: str = None\n",
       "  name: str = \"grouped_political_parties_with_amplification\"\n",
       "  description: str = \"\n",
       "BACKGROUND:\n",
       "\n",
       "This dataset refers to the calculated amplification ratios in the paper grouped by\n",
       "political party. This allows one to create a graph indicating the degree of ammplification \n",
       "that each party received over the time of the study.\n",
       "\n",
       "STATISTICS:\n",
       "\n",
       "    - num cols: 5\n",
       "    - num rows: 7073\n",
       "\n",
       "ASSETS:\n",
       "\n",
       "    - countries:\n",
       "        REAL: this is the country code of the political party being referred to.\n",
       "        MOCK: this draws from the same distribution of countries but is generated randomly\n",
       "\n",
       "    - grouping_id:\n",
       "        REAL: each country is divided into a small number of groups, specified by the grouping id\n",
       "        MOCK: these groups are pulled from the same labels as the underlying dataset and is randomly\n",
       "        sorted but in a way that matches the corresponding country code in \"countries\".\n",
       "\n",
       "    - group_label:\n",
       "        REAL: the political party of this row. \n",
       "        MOCK: uses the same political party labels as the real dataset, and puts them in the correct\n",
       "        country but within a country's rows the parties are drawn at random\n",
       "\n",
       "    - bootstrap_fold_id:\n",
       "        REAL: the int id of a corresponding group that came out of the bootstrap algorithm. I honestly\n",
       "        don't really know what this is but I encourage you to study the paper and figure it out.\n",
       "        MOCK: randomly generated IDs between 1 and 1000. Since ids were randomly generated we did\n",
       "        ensure that all IDs from the original dataset are represented at least once.\n",
       "\n",
       "    - amplification:\n",
       "        REAL: the relative measure of amplification. Please see the paper for details. They're floats.\n",
       "        MOCK: randomly generated amplification floats between -100 and 1000.\n",
       "\n",
       "DATA SUBJECTS / PRIVACY NOTES:\n",
       "\n",
       "    Data subjects are tracked at country and party level as there may be some sensitives when\n",
       "    releasing the dataset based on these issues.\n",
       "\"\n",
       "  contributors: str = [syft.core.node.new.dataset.Contributor]\n",
       "  data_subjects: str = [<DataSubject: Country>]\n",
       "  mock: str = [[ 1 10]\n",
       " [ 2 12]]\n",
       "  mock_is_real: str = False\n",
       "  shape: str = (2, 2)\n",
       "  data: str = [[ 1 10]\n",
       " [ 2 12]]\n",
       "\n",
       "```"
      ],
      "text/plain": [
       "syft.core.node.new.dataset.CreateAsset"
      ]
     },
     "execution_count": 15,
     "metadata": {},
     "output_type": "execute_result"
    }
   ],
   "source": [
    "gppwa"
   ]
  },
  {
   "cell_type": "code",
   "execution_count": 16,
   "id": "302ac518",
   "metadata": {},
   "outputs": [],
   "source": [
    "import syft as sy\n",
    "from syft.core.node.worker import Worker\n",
    "from syft.core.node.new.dataset import Asset, Dataset\n",
    "from syft.core.node.new.action_service import NumpyArrayObject\n",
    "import numpy as np"
   ]
  },
  {
   "cell_type": "code",
   "execution_count": 17,
   "id": "d3e9ff48",
   "metadata": {},
   "outputs": [
    {
     "name": "stdout",
     "output_type": "stream",
     "text": [
      "Starting Worker: Beautiful Silver - 4973acc13df943609480822b49526bdf [<class 'syft.core.node.new.user_service.UserService'>, <class 'syft.core.node.new.action_service.ActionService'>, <class 'syft.core.node.new.test_service.TestService'>, <class 'syft.core.node.new.dataset_service.DatasetService'>, <class 'syft.core.node.new.user_code_service.UserCodeService'>]\n"
     ]
    }
   ],
   "source": [
    "worker = Worker()"
   ]
  },
  {
   "cell_type": "code",
   "execution_count": 18,
   "id": "642fc40b",
   "metadata": {},
   "outputs": [],
   "source": [
    "# np_obj = NumpyArrayObject(syft_action_data=np.array([1, 2, 3]))"
   ]
  },
  {
   "cell_type": "code",
   "execution_count": 19,
   "id": "112411a5",
   "metadata": {},
   "outputs": [
    {
     "name": "stdout",
     "output_type": "stream",
     "text": [
      "Logged into Beautiful Silver as <info@openmined.org>\n"
     ]
    }
   ],
   "source": [
    "client = sy.new_login(node=worker, email=\"info@openmined.org\", password=\"changethis\")"
   ]
  },
  {
   "cell_type": "code",
   "execution_count": 20,
   "id": "cf4fd8c9",
   "metadata": {},
   "outputs": [],
   "source": [
    "dataset = CreateDataset(name=\"My Dataset\")\n",
    "dataset.set_description(\"My Short Description\")\n",
    "dataset.add_citation(\"My Citations.......\")\n",
    "dataset.add_contributor(name=\"Shubham\", email=\"shubham@openmined\", note=\"NOte\", role=\"Developer\")"
   ]
  },
  {
   "cell_type": "code",
   "execution_count": 21,
   "id": "0b476ba8",
   "metadata": {},
   "outputs": [],
   "source": [
    "dataset.add_asset(gppwa)\n",
    "dataset.url = \"https://www.google.com\""
   ]
  },
  {
   "cell_type": "code",
   "execution_count": 23,
   "id": "3ada4184",
   "metadata": {},
   "outputs": [],
   "source": [
    "# sy.deserialize(sy.serialize(dataset, to_bytes=True), from_bytes=True)"
   ]
  },
  {
   "cell_type": "code",
   "execution_count": 24,
   "id": "89be05cc",
   "metadata": {},
   "outputs": [],
   "source": [
    "# sy.serialize(np.array([1, 2, 3]))"
   ]
  },
  {
   "cell_type": "code",
   "execution_count": 25,
   "id": "0c0b922f",
   "metadata": {},
   "outputs": [
    {
     "name": "stderr",
     "output_type": "stream",
     "text": [
      "100%|███████████████████████████████████████████████████████████████████████████████████████████████████████████████████████████████████| 1/1 [00:00<00:00, 228.83it/s]\n"
     ]
    }
   ],
   "source": [
    "client.upload_dataset(dataset=dataset)"
   ]
  },
  {
   "cell_type": "code",
   "execution_count": 28,
   "id": "94fc44a5",
   "metadata": {},
   "outputs": [],
   "source": [
    "dataset = client.api.services.dataset.get_all()"
   ]
  },
  {
   "cell_type": "code",
   "execution_count": 37,
   "id": "b50b5546",
   "metadata": {},
   "outputs": [],
   "source": [
    "data_asset = dataset[0].assets[\"grouped_political_parties_with_amplification\"]"
   ]
  },
  {
   "cell_type": "code",
   "execution_count": 38,
   "id": "b5b36e0c",
   "metadata": {},
   "outputs": [
    {
     "data": {
      "text/markdown": [
       "```python\n",
       "class Asset:\n",
       "  id: str = cff93fc2c7aa4665a584628e6d0d2646\n",
       "  action_id: str = a072347371a04551b0c91c17f266c875\n",
       "  node_uid: str = 4973acc13df943609480822b49526bdf\n",
       "  name: str = \"grouped_political_parties_with_amplification\"\n",
       "  description: str = \"\n",
       "BACKGROUND:\n",
       "\n",
       "This dataset refers to the calculated amplification ratios in the paper grouped by\n",
       "political party. This allows one to create a graph indicating the degree of ammplification \n",
       "that each party received over the time of the study.\n",
       "\n",
       "STATISTICS:\n",
       "\n",
       "    - num cols: 5\n",
       "    - num rows: 7073\n",
       "\n",
       "ASSETS:\n",
       "\n",
       "    - countries:\n",
       "        REAL: this is the country code of the political party being referred to.\n",
       "        MOCK: this draws from the same distribution of countries but is generated randomly\n",
       "\n",
       "    - grouping_id:\n",
       "        REAL: each country is divided into a small number of groups, specified by the grouping id\n",
       "        MOCK: these groups are pulled from the same labels as the underlying dataset and is randomly\n",
       "        sorted but in a way that matches the corresponding country code in \"countries\".\n",
       "\n",
       "    - group_label:\n",
       "        REAL: the political party of this row. \n",
       "        MOCK: uses the same political party labels as the real dataset, and puts them in the correct\n",
       "        country but within a country's rows the parties are drawn at random\n",
       "\n",
       "    - bootstrap_fold_id:\n",
       "        REAL: the int id of a corresponding group that came out of the bootstrap algorithm. I honestly\n",
       "        don't really know what this is but I encourage you to study the paper and figure it out.\n",
       "        MOCK: randomly generated IDs between 1 and 1000. Since ids were randomly generated we did\n",
       "        ensure that all IDs from the original dataset are represented at least once.\n",
       "\n",
       "    - amplification:\n",
       "        REAL: the relative measure of amplification. Please see the paper for details. They're floats.\n",
       "        MOCK: randomly generated amplification floats between -100 and 1000.\n",
       "\n",
       "DATA SUBJECTS / PRIVACY NOTES:\n",
       "\n",
       "    Data subjects are tracked at country and party level as there may be some sensitives when\n",
       "    releasing the dataset based on these issues.\n",
       "\"\n",
       "  contributors: str = [syft.core.node.new.dataset.Contributor]\n",
       "  data_subjects: str = [<DataSubject: Country>]\n",
       "  mock: str = [[ 1 10]\n",
       " [ 2 12]]\n",
       "  mock_is_real: str = False\n",
       "  shape: str = (2, 2)\n",
       "\n",
       "```"
      ],
      "text/plain": [
       "syft.core.node.new.dataset.Asset"
      ]
     },
     "execution_count": 38,
     "metadata": {},
     "output_type": "execute_result"
    }
   ],
   "source": [
    "data_asset"
   ]
  },
  {
   "cell_type": "code",
   "execution_count": 39,
   "id": "b3a1ed09",
   "metadata": {},
   "outputs": [
    {
     "data": {
      "text/plain": [
       "array([[ 1, 10],\n",
       "       [ 2, 12]])"
      ]
     },
     "execution_count": 39,
     "metadata": {},
     "output_type": "execute_result"
    }
   ],
   "source": [
    "data_asset.mock"
   ]
  },
  {
   "cell_type": "code",
   "execution_count": 40,
   "id": "6b7f3db4",
   "metadata": {},
   "outputs": [],
   "source": [
    "data_ptr = data_asset.pointer"
   ]
  },
  {
   "cell_type": "code",
   "execution_count": 41,
   "id": "075ebab7",
   "metadata": {},
   "outputs": [
    {
     "data": {
      "text/markdown": [
       "```python\n",
       "class NumpyArrayObjectPointer:\n",
       "  id: str = a072347371a04551b0c91c17f266c875\n",
       "  node_uid: str = 4973acc13df943609480822b49526bdf\n",
       "  parent_id: str = None\n",
       "\n",
       "```"
      ],
      "text/plain": [
       "syft.core.node.new.numpy_array.NumpyArrayObjectPointer"
      ]
     },
     "execution_count": 41,
     "metadata": {},
     "output_type": "execute_result"
    }
   ],
   "source": [
    "data_ptr"
   ]
  },
  {
   "cell_type": "code",
   "execution_count": 42,
   "id": "0f63998d",
   "metadata": {},
   "outputs": [
    {
     "data": {
      "text/plain": [
       "array([[ 1, 10],\n",
       "       [ 2, 12]])"
      ]
     },
     "execution_count": 42,
     "metadata": {},
     "output_type": "execute_result"
    }
   ],
   "source": [
    "data_ptr.get_from(client)"
   ]
  },
  {
   "cell_type": "code",
   "execution_count": null,
   "id": "9cd98471",
   "metadata": {},
   "outputs": [],
   "source": []
  }
 ],
 "metadata": {
  "kernelspec": {
   "display_name": "Python 3 (ipykernel)",
   "language": "python",
   "name": "python3"
  },
  "language_info": {
   "codemirror_mode": {
    "name": "ipython",
    "version": 3
   },
   "file_extension": ".py",
   "mimetype": "text/x-python",
   "name": "python",
   "nbconvert_exporter": "python",
   "pygments_lexer": "ipython3",
   "version": "3.9.7"
  }
 },
 "nbformat": 4,
 "nbformat_minor": 5
}
