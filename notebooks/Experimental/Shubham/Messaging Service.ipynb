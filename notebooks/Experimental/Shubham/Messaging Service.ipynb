{
 "cells": [
  {
   "cell_type": "code",
   "execution_count": 1,
   "id": "381fe96f",
   "metadata": {},
   "outputs": [
    {
     "name": "stderr",
     "output_type": "stream",
     "text": [
      "kj/filesystem-disk-unix.c++:1703: warning: PWD environment variable doesn't match current directory; pwd = /home/shubham/PySyft\n"
     ]
    }
   ],
   "source": [
    "import syft as sy"
   ]
  },
  {
   "cell_type": "code",
   "execution_count": 2,
   "id": "76864043",
   "metadata": {},
   "outputs": [
    {
     "name": "stdout",
     "output_type": "stream",
     "text": [
      "SQLite Store Path:\n",
      "!open file:///tmp/34aa1081c5b63c28d0343512980e8df6.sqlite\n",
      "\n",
      "> Starting Worker: worker1 - 34aa1081c5b63c28d0343512980e8df6 [<class 'syft.core.node.new.user_service.UserService'>, <class 'syft.core.node.new.action_service.ActionService'>, <class 'syft.core.node.new.test_service.TestService'>, <class 'syft.core.node.new.dataset_service.DatasetService'>, <class 'syft.core.node.new.user_code_service.UserCodeService'>, <class 'syft.core.node.new.request_service.RequestService'>, <class 'syft.core.node.new.data_subject_service.DataSubjectService'>, <class 'syft.core.node.new.network_service.NetworkService'>, <class 'syft.core.node.new.message_service.MessageService'>]\n",
      "metadata_version=1 name='worker1' id='34aa1081c5b63c28d0343512980e8df6' verify_key='6f78b14f8d5afc192848ebcad304ec02388c52957f5767c1805a0c2916b32638' highest_object_version=2 lowest_object_version=1 syft_version='0.8.0-beta.0'\n",
      "Logged into worker1 as <info@openmined.org>\n"
     ]
    }
   ],
   "source": [
    "worker1 = sy.Worker.named(\"worker1\", processes=1)\n",
    "domain1 = sy.login(node=worker1, email=\"info@openmined.org\", password=\"changethis\")\n",
    "\n",
    "# worker2 = sy.Worker.named(\"worker2\", processes=1)\n",
    "# domain2 = sy.login(node=worker2, email=\"info@openmined.org\", password=\"changethis\")\n",
    "\n",
    "# domain2.exchange_route(domain1)"
   ]
  },
  {
   "cell_type": "code",
   "execution_count": 3,
   "id": "1328f8d7",
   "metadata": {},
   "outputs": [
    {
     "name": "stdout",
     "output_type": "stream",
     "text": [
      "Context Credentials: 8a992748dd7f20b190a6a5f1f4949fbe07cf427f20f3dab3bbae943f389caa38\n"
     ]
    },
    {
     "data": {
      "text/html": [
       "List - Size: 2\n",
       "<div>\n",
       "<style scoped>\n",
       "    .dataframe tbody tr th:only-of-type {\n",
       "        vertical-align: middle;\n",
       "    }\n",
       "\n",
       "    .dataframe tbody tr th {\n",
       "        vertical-align: top;\n",
       "    }\n",
       "\n",
       "    .dataframe thead th {\n",
       "        text-align: right;\n",
       "    }\n",
       "</style>\n",
       "<table border=\"1\" class=\"dataframe\">\n",
       "  <thead>\n",
       "    <tr style=\"text-align: right;\">\n",
       "      <th></th>\n",
       "      <th>type</th>\n",
       "      <th>id</th>\n",
       "      <th>subject</th>\n",
       "      <th>status</th>\n",
       "    </tr>\n",
       "  </thead>\n",
       "  <tbody>\n",
       "    <tr>\n",
       "      <th>0</th>\n",
       "      <td>syft.core.node.new.messages.Message</td>\n",
       "      <td>e3842b55408b4f4d8e55fe975b7f00d4</td>\n",
       "      <td>Hello Message</td>\n",
       "      <td>MessageStatus.UNDELIVERED</td>\n",
       "    </tr>\n",
       "    <tr>\n",
       "      <th>1</th>\n",
       "      <td>syft.core.node.new.messages.Message</td>\n",
       "      <td>319b7c6a27be4dbbb410e1dd72008c8b</td>\n",
       "      <td>Hello Message</td>\n",
       "      <td>MessageStatus.DELIVERED</td>\n",
       "    </tr>\n",
       "  </tbody>\n",
       "</table>\n",
       "</div>"
      ],
      "text/plain": [
       "[syft.core.node.new.messages.Message, syft.core.node.new.messages.Message]"
      ]
     },
     "execution_count": 3,
     "metadata": {},
     "output_type": "execute_result"
    }
   ],
   "source": [
    "domain1.api.services.messages.get_all()"
   ]
  },
  {
   "cell_type": "code",
   "execution_count": 25,
   "id": "a8ca3a31",
   "metadata": {},
   "outputs": [],
   "source": [
    "from syft.core.node.new.messages import CreateMessage, DocumentLink"
   ]
  },
  {
   "cell_type": "code",
   "execution_count": 5,
   "id": "3dc398ce",
   "metadata": {},
   "outputs": [],
   "source": [
    "verify_key = domain1.credentials.verify_key"
   ]
  },
  {
   "cell_type": "code",
   "execution_count": 18,
   "id": "460a3e4c",
   "metadata": {},
   "outputs": [],
   "source": [
    "message = CreateMessage(\n",
    "    subject=\"Hello Message\",\n",
    "    to_user_verify_key=verify_key,\n",
    ")"
   ]
  },
  {
   "cell_type": "code",
   "execution_count": 19,
   "id": "4947634d",
   "metadata": {
    "scrolled": true
   },
   "outputs": [
    {
     "name": "stdout",
     "output_type": "stream",
     "text": [
      "New Message: id=<UID: 133e009302d14798b6c1bd7f6243261b> subject='Hello Message' node_uid=<UID: 34aa1081c5b63c28d0343512980e8df6> from_user_verify_key=8a992748dd7f20b190a6a5f1f4949fbe07cf427f20f3dab3bbae943f389caa38 to_user_verify_key=8a992748dd7f20b190a6a5f1f4949fbe07cf427f20f3dab3bbae943f389caa38 created_at=syft.core.node.new.request.DateTime status=<MessageStatus.UNDELIVERED: 0> document_link=None\n"
     ]
    }
   ],
   "source": [
    "mess = domain1.api.services.messages.send(message)"
   ]
  },
  {
   "cell_type": "code",
   "execution_count": 20,
   "id": "16c5c580",
   "metadata": {},
   "outputs": [
    {
     "data": {
      "text/markdown": [
       "```python\n",
       "class Message:\n",
       "  id: str = 133e009302d14798b6c1bd7f6243261b\n",
       "  subject: str = \"Hello Message\"\n",
       "  node_uid: str = 34aa1081c5b63c28d0343512980e8df6\n",
       "  from_user_verify_key: str = 8a992748dd7f20b190a6a5f1f4949fbe07cf427f20f3dab3bbae943f389caa38\n",
       "  to_user_verify_key: str = 8a992748dd7f20b190a6a5f1f4949fbe07cf427f20f3dab3bbae943f389caa38\n",
       "  created_at: str = id=<UID: c355d1c909e04c8094e7a86c82cbd6bd> utc_timestamp=1676898482.953348\n",
       "  status: str = MessageStatus.UNDELIVERED\n",
       "  document_link: str = None\n",
       "\n",
       "```"
      ],
      "text/plain": [
       "syft.core.node.new.messages.Message"
      ]
     },
     "execution_count": 20,
     "metadata": {},
     "output_type": "execute_result"
    }
   ],
   "source": [
    "mess"
   ]
  },
  {
   "cell_type": "code",
   "execution_count": 21,
   "id": "ca802de5",
   "metadata": {},
   "outputs": [
    {
     "data": {
      "text/markdown": [
       "```python\n",
       "class Message:\n",
       "  id: str = 133e009302d14798b6c1bd7f6243261b\n",
       "  subject: str = \"Hello Message\"\n",
       "  node_uid: str = 34aa1081c5b63c28d0343512980e8df6\n",
       "  from_user_verify_key: str = 8a992748dd7f20b190a6a5f1f4949fbe07cf427f20f3dab3bbae943f389caa38\n",
       "  to_user_verify_key: str = 8a992748dd7f20b190a6a5f1f4949fbe07cf427f20f3dab3bbae943f389caa38\n",
       "  created_at: str = id=<UID: c355d1c909e04c8094e7a86c82cbd6bd> utc_timestamp=1676898482.953348\n",
       "  status: str = MessageStatus.DELIVERED\n",
       "  document_link: str = None\n",
       "\n",
       "```"
      ],
      "text/plain": [
       "syft.core.node.new.messages.Message"
      ]
     },
     "execution_count": 21,
     "metadata": {},
     "output_type": "execute_result"
    }
   ],
   "source": [
    "domain1.api.services.messages.mark_as_delivered(uid=mess.id)"
   ]
  },
  {
   "cell_type": "code",
   "execution_count": 22,
   "id": "766b2e45",
   "metadata": {},
   "outputs": [
    {
     "name": "stdout",
     "output_type": "stream",
     "text": [
      "Context Credentials: 8a992748dd7f20b190a6a5f1f4949fbe07cf427f20f3dab3bbae943f389caa38\n"
     ]
    },
    {
     "data": {
      "text/html": [
       "List - Size: 4\n",
       "<div>\n",
       "<style scoped>\n",
       "    .dataframe tbody tr th:only-of-type {\n",
       "        vertical-align: middle;\n",
       "    }\n",
       "\n",
       "    .dataframe tbody tr th {\n",
       "        vertical-align: top;\n",
       "    }\n",
       "\n",
       "    .dataframe thead th {\n",
       "        text-align: right;\n",
       "    }\n",
       "</style>\n",
       "<table border=\"1\" class=\"dataframe\">\n",
       "  <thead>\n",
       "    <tr style=\"text-align: right;\">\n",
       "      <th></th>\n",
       "      <th>type</th>\n",
       "      <th>id</th>\n",
       "      <th>subject</th>\n",
       "      <th>status</th>\n",
       "    </tr>\n",
       "  </thead>\n",
       "  <tbody>\n",
       "    <tr>\n",
       "      <th>0</th>\n",
       "      <td>syft.core.node.new.messages.Message</td>\n",
       "      <td>95d67eb575bc46908b93d72d9d56d6bf</td>\n",
       "      <td>Hello Message</td>\n",
       "      <td>MessageStatus.UNDELIVERED</td>\n",
       "    </tr>\n",
       "    <tr>\n",
       "      <th>1</th>\n",
       "      <td>syft.core.node.new.messages.Message</td>\n",
       "      <td>e3842b55408b4f4d8e55fe975b7f00d4</td>\n",
       "      <td>Hello Message</td>\n",
       "      <td>MessageStatus.UNDELIVERED</td>\n",
       "    </tr>\n",
       "    <tr>\n",
       "      <th>2</th>\n",
       "      <td>syft.core.node.new.messages.Message</td>\n",
       "      <td>319b7c6a27be4dbbb410e1dd72008c8b</td>\n",
       "      <td>Hello Message</td>\n",
       "      <td>MessageStatus.DELIVERED</td>\n",
       "    </tr>\n",
       "    <tr>\n",
       "      <th>3</th>\n",
       "      <td>syft.core.node.new.messages.Message</td>\n",
       "      <td>133e009302d14798b6c1bd7f6243261b</td>\n",
       "      <td>Hello Message</td>\n",
       "      <td>MessageStatus.DELIVERED</td>\n",
       "    </tr>\n",
       "  </tbody>\n",
       "</table>\n",
       "</div>"
      ],
      "text/plain": [
       "[syft.core.node.new.messages.Message,\n",
       " syft.core.node.new.messages.Message,\n",
       " syft.core.node.new.messages.Message,\n",
       " syft.core.node.new.messages.Message]"
      ]
     },
     "execution_count": 22,
     "metadata": {},
     "output_type": "execute_result"
    }
   ],
   "source": [
    "domain1.api.services.messages.get_all()"
   ]
  },
  {
   "cell_type": "code",
   "execution_count": 23,
   "id": "a5b85b40",
   "metadata": {},
   "outputs": [
    {
     "data": {
      "text/html": [
       "<div class=\"alert-danger\" style=\"padding:5px;\"><strong>SyftError</strong>: No message exists for id: 34aa1081c5b63c28d0343512980e8df6</div><br />"
      ],
      "text/plain": [
       "<class 'syft.core.node.new.response.SyftError'>: No message exists for id: 34aa1081c5b63c28d0343512980e8df6"
      ]
     },
     "execution_count": 23,
     "metadata": {},
     "output_type": "execute_result"
    }
   ],
   "source": [
    "domain1.api.services.messages.mark_as_delivered(domain1.id)"
   ]
  },
  {
   "cell_type": "code",
   "execution_count": 26,
   "id": "075a8e5e",
   "metadata": {},
   "outputs": [],
   "source": [
    "user = domain1.api.services.user.get_all()[0]"
   ]
  },
  {
   "cell_type": "code",
   "execution_count": 30,
   "id": "3836cb85",
   "metadata": {},
   "outputs": [
    {
     "data": {
      "text/plain": [
       "'User'"
      ]
     },
     "execution_count": 30,
     "metadata": {},
     "output_type": "execute_result"
    }
   ],
   "source": [
    "user.__canonical_name__"
   ]
  },
  {
   "cell_type": "code",
   "execution_count": 32,
   "id": "a788d1d2",
   "metadata": {},
   "outputs": [
    {
     "ename": "KeyError",
     "evalue": "'user'",
     "output_type": "error",
     "traceback": [
      "\u001b[0;31m---------------------------------------------------------------------------\u001b[0m",
      "\u001b[0;31mKeyError\u001b[0m                                  Traceback (most recent call last)",
      "Input \u001b[0;32mIn [32]\u001b[0m, in \u001b[0;36m<module>\u001b[0;34m\u001b[0m\n\u001b[0;32m----> 1\u001b[0m \u001b[43mworker1\u001b[49m\u001b[38;5;241;43m.\u001b[39;49m\u001b[43mget_service\u001b[49m\u001b[43m(\u001b[49m\u001b[38;5;124;43m'\u001b[39;49m\u001b[38;5;124;43mUser\u001b[39;49m\u001b[38;5;124;43m'\u001b[39;49m\u001b[43m)\u001b[49m\n",
      "File \u001b[0;32m~/PySyft/packages/syft/src/syft/core/node/worker.py:236\u001b[0m, in \u001b[0;36mWorker.get_service\u001b[0;34m(self, path_or_func)\u001b[0m\n\u001b[1;32m    234\u001b[0m \u001b[38;5;28;01mif\u001b[39;00m callable(path_or_func):\n\u001b[1;32m    235\u001b[0m     path_or_func \u001b[38;5;241m=\u001b[39m path_or_func\u001b[38;5;241m.\u001b[39m\u001b[38;5;18m__qualname__\u001b[39m\n\u001b[0;32m--> 236\u001b[0m \u001b[38;5;28;01mreturn\u001b[39;00m \u001b[38;5;28;43mself\u001b[39;49m\u001b[38;5;241;43m.\u001b[39;49m\u001b[43m_get_service_from_path\u001b[49m\u001b[43m(\u001b[49m\u001b[43mpath_or_func\u001b[49m\u001b[43m)\u001b[49m\n",
      "File \u001b[0;32m~/PySyft/packages/syft/src/syft/core/node/worker.py:243\u001b[0m, in \u001b[0;36mWorker._get_service_from_path\u001b[0;34m(self, path)\u001b[0m\n\u001b[1;32m    241\u001b[0m     _ \u001b[38;5;241m=\u001b[39m path_list\u001b[38;5;241m.\u001b[39mpop()\n\u001b[1;32m    242\u001b[0m service_name \u001b[38;5;241m=\u001b[39m path_list\u001b[38;5;241m.\u001b[39mpop()\n\u001b[0;32m--> 243\u001b[0m \u001b[38;5;28;01mreturn\u001b[39;00m \u001b[38;5;28;43mself\u001b[39;49m\u001b[38;5;241;43m.\u001b[39;49m\u001b[43mservice_path_map\u001b[49m\u001b[43m[\u001b[49m\u001b[43mservice_name\u001b[49m\u001b[38;5;241;43m.\u001b[39;49m\u001b[43mlower\u001b[49m\u001b[43m(\u001b[49m\u001b[43m)\u001b[49m\u001b[43m]\u001b[49m\n",
      "\u001b[0;31mKeyError\u001b[0m: 'user'"
     ]
    }
   ],
   "source": [
    "# worker1.get_service('User')"
   ]
  },
  {
   "cell_type": "code",
   "execution_count": 27,
   "id": "d858b416",
   "metadata": {},
   "outputs": [
    {
     "data": {
      "text/plain": [
       "<syft.core.node.new.user_service.UserService at 0x7fb9f023a940>"
      ]
     },
     "execution_count": 27,
     "metadata": {},
     "output_type": "execute_result"
    }
   ],
   "source": [
    "# worker1.get_service(\"userservice\")"
   ]
  },
  {
   "cell_type": "code",
   "execution_count": null,
   "id": "42e6718d",
   "metadata": {},
   "outputs": [],
   "source": [
    "# DocumentLink(node_uid=domain1.id, service=, document_id=user.id)"
   ]
  },
  {
   "cell_type": "code",
   "execution_count": 33,
   "id": "11d6129a",
   "metadata": {},
   "outputs": [],
   "source": [
    "from syft.core.node.common.node_table.syft_object import Syft"
   ]
  },
  {
   "cell_type": "code",
   "execution_count": 34,
   "id": "f8322600",
   "metadata": {},
   "outputs": [
    {
     "data": {
      "text/plain": [
       "syft.core.node.common.node_table.syft_object.SyftObjectRegistry"
      ]
     },
     "execution_count": 34,
     "metadata": {},
     "output_type": "execute_result"
    }
   ],
   "source": []
  },
  {
   "cell_type": "code",
   "execution_count": null,
   "id": "2ae16af8",
   "metadata": {},
   "outputs": [],
   "source": []
  }
 ],
 "metadata": {
  "kernelspec": {
   "display_name": "Python 3 (ipykernel)",
   "language": "python",
   "name": "python3"
  },
  "language_info": {
   "codemirror_mode": {
    "name": "ipython",
    "version": 3
   },
   "file_extension": ".py",
   "mimetype": "text/x-python",
   "name": "python",
   "nbconvert_exporter": "python",
   "pygments_lexer": "ipython3",
   "version": "3.9.7"
  }
 },
 "nbformat": 4,
 "nbformat_minor": 5
}
