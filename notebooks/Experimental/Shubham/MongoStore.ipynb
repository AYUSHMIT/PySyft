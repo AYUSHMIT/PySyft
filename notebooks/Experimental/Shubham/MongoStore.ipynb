{
 "cells": [
  {
   "cell_type": "markdown",
   "id": "cfe0b769",
   "metadata": {},
   "source": [
    "### Run the cell below and update the Mongo Host and Port Info"
   ]
  },
  {
   "cell_type": "code",
   "execution_count": 1,
   "id": "8e726941",
   "metadata": {},
   "outputs": [
    {
     "name": "stdout",
     "output_type": "stream",
     "text": [
      "-----------------------------\n",
      "Containers | Exposed Ports\n",
      "-----------------------------\n",
      "\"docker inspect\" requires at least 1 argument.\n",
      "See 'docker inspect --help'.\n",
      "\n",
      "Usage:  docker inspect [OPTIONS] NAME|ID [NAME|ID...]\n",
      "\n",
      "Return low-level information on Docker objects\n"
     ]
    }
   ],
   "source": [
    "! bash ~/PySyft/scripts/dev_tools.sh"
   ]
  },
  {
   "cell_type": "code",
   "execution_count": 2,
   "id": "e286b725",
   "metadata": {},
   "outputs": [],
   "source": [
    "## Start here."
   ]
  },
  {
   "cell_type": "code",
   "execution_count": 1,
   "id": "f1e8e412",
   "metadata": {},
   "outputs": [],
   "source": [
    "# Set your public ports for mongo here.\n",
    "\n",
    "class EnvSettings:\n",
    "    MONGO_HOST = \"localhost\"  # # change to 'localhost'\n",
    "    MONGO_PORT = \"49156\"  # change to public port\n",
    "    MONGO_USERNAME = \"root\"\n",
    "    MONGO_PASSWORD = \"example\"  # nosec\n",
    "    \n",
    "env_settings = EnvSettings()"
   ]
  },
  {
   "cell_type": "code",
   "execution_count": 2,
   "id": "21c40823",
   "metadata": {},
   "outputs": [
    {
     "name": "stderr",
     "output_type": "stream",
     "text": [
      "kj/filesystem-disk-unix.c++:1703: warning: PWD environment variable doesn't match current directory; pwd = /home/shubham/PySyft\n"
     ]
    }
   ],
   "source": [
    "import syft as sy\n",
    "from syft.core.node.new.user import UserCreate, User, UserUpdate\n",
    "from syft.core.node.new.mongo_document_store import MongoCollection, MongoDocumentStore, MongoBsonObject\n",
    "from syft.core.node.new.document_store import StoreClientConfig\n",
    "from syft.core.node.common.node_table.syft_object import SyftObjectRegistry\n",
    "from syft.core.node.worker import Worker\n",
    "from syft.core.node.new.user_stash import UserStash\n",
    "from syft.core.common.uid import UID\n",
    "from syft.core.node.new.document_store import UIDPartitionKey"
   ]
  },
  {
   "cell_type": "code",
   "execution_count": 3,
   "id": "4d3b5298",
   "metadata": {},
   "outputs": [],
   "source": [
    "mongo_client_config = StoreClientConfig(\n",
    "    hostname=env_settings.MONGO_HOST,\n",
    "    port=env_settings.MONGO_PORT,\n",
    "    username=env_settings.MONGO_USERNAME,\n",
    "    password=env_settings.MONGO_PASSWORD,\n",
    ")"
   ]
  },
  {
   "cell_type": "code",
   "execution_count": 18,
   "id": "2ebdf0a6",
   "metadata": {},
   "outputs": [],
   "source": [
    "store = MongoDocumentStore(client_config=mongo_client_config)"
   ]
  },
  {
   "cell_type": "code",
   "execution_count": 19,
   "id": "05bc5c2c",
   "metadata": {},
   "outputs": [],
   "source": [
    "mongo_store_ser = sy.serialize(store, to_bytes=True)"
   ]
  },
  {
   "cell_type": "code",
   "execution_count": 20,
   "id": "b2d8b838",
   "metadata": {},
   "outputs": [],
   "source": [
    "store = sy.deserialize(mongo_store_ser, from_bytes=True)"
   ]
  },
  {
   "cell_type": "code",
   "execution_count": 16,
   "id": "a17521e3",
   "metadata": {},
   "outputs": [
    {
     "name": "stdout",
     "output_type": "stream",
     "text": [
      "Using from cache\n",
      "{-370647245722421374: MongoClient(host=['localhost:49156'], document_class=dict, tz_aware=False, connect=True, tls=False, uuidrepresentation=4)}\n"
     ]
    }
   ],
   "source": [
    "user_stash = UserStash(store=store)"
   ]
  },
  {
   "cell_type": "code",
   "execution_count": 27,
   "id": "62e882ab",
   "metadata": {},
   "outputs": [
    {
     "data": {
      "text/html": [
       "{&#x27;_id_&#x27;: {&#x27;v&#x27;: 2, &#x27;key&#x27;: [(&#x27;_id&#x27;, 1)]}, &#x27;User_index_name&#x27;: {&#x27;v&#x27;: 2, &#x27;key&#x27;: [(&#x27;email&#x27;, 1), (&#x27;signing_key&#x27;, 1), (&#x27;verify_key&#x27;, 1)], &#x27;unique&#x27;: True}}"
      ],
      "text/plain": [
       "{'_id_': {'v': 2, 'key': [('_id', 1)]},\n",
       " 'User_index_name': {'v': 2,\n",
       "  'key': [('email', 1), ('signing_key', 1), ('verify_key', 1)],\n",
       "  'unique': True}}"
      ]
     },
     "execution_count": 27,
     "metadata": {},
     "output_type": "execute_result"
    }
   ],
   "source": [
    "user_stash.partition.collection.index_information()"
   ]
  },
  {
   "cell_type": "code",
   "execution_count": 28,
   "id": "b4fedb8a",
   "metadata": {},
   "outputs": [],
   "source": [
    "new_user = UserCreate(\n",
    "    name=\"Shubham\", email=\"alice1@openmined.org\", password=\"pass\", password_verify=\"pass\"\n",
    ")"
   ]
  },
  {
   "cell_type": "code",
   "execution_count": 29,
   "id": "fae15ff2",
   "metadata": {},
   "outputs": [],
   "source": [
    "user = new_user.to(User)"
   ]
  },
  {
   "cell_type": "code",
   "execution_count": 30,
   "id": "43b49954",
   "metadata": {},
   "outputs": [],
   "source": [
    "bson_dict = user.to(MongoBsonObject)"
   ]
  },
  {
   "cell_type": "code",
   "execution_count": 31,
   "id": "c7651d48",
   "metadata": {},
   "outputs": [
    {
     "data": {
      "text/markdown": [
       "```python\n",
       "class User:\n",
       "  id: str = b4e9c96ac5174f32a06b3107abe675fb\n",
       "  email: str = \"alice1@openmined.org\"\n",
       "  name: str = \"Shubham\"\n",
       "  hashed_password: str = \"$2b$12$qGI8cDL2iCp9bAAm8p8/T.2.IynfSNKMGZtBI5U5avRJvMTNr9gvy\"\n",
       "  salt: str = \"$2b$12$qGI8cDL2iCp9bAAm8p8/T.\"\n",
       "  signing_key: str = bb84a4a521232bcfae1d93de18c3f932d193092d9022fd5b3db3997c246cc86f\n",
       "  verify_key: str = 9ee3d04e55384929e3fe3ce6a123b805ad40a0db780e3439ca0abc006c9b523f\n",
       "  role: str = ServiceRole.GUEST\n",
       "  institution: str = None\n",
       "  website: str = None\n",
       "  created_at: str = None\n",
       "\n",
       "```"
      ],
      "text/plain": [
       "syft.core.node.new.user.User"
      ]
     },
     "execution_count": 31,
     "metadata": {},
     "output_type": "execute_result"
    }
   ],
   "source": [
    "bson_dict.to(UserCreate)"
   ]
  },
  {
   "cell_type": "code",
   "execution_count": 32,
   "id": "99f9fdee",
   "metadata": {
    "run_control": {
     "marked": false
    }
   },
   "outputs": [],
   "source": [
    "response = user_stash.set(user)"
   ]
  },
  {
   "cell_type": "code",
   "execution_count": 33,
   "id": "0f9bb1b4",
   "metadata": {},
   "outputs": [
    {
     "data": {
      "text/plain": [
       "Ok(syft.core.node.new.user.User)"
      ]
     },
     "execution_count": 33,
     "metadata": {},
     "output_type": "execute_result"
    }
   ],
   "source": [
    "response"
   ]
  },
  {
   "cell_type": "code",
   "execution_count": 15,
   "id": "8fd5fe9e",
   "metadata": {},
   "outputs": [],
   "source": [
    "# #### Create indexes\n",
    "# from pymongo import IndexModel, ASCENDING, DESCENDING\n",
    "# user_stash.partition.db_collection.create_index([\n",
    "#     (\"email\", ASCENDING),\n",
    "#     (\"verify_key\", ASCENDING)\n",
    "# ], unique=True)"
   ]
  },
  {
   "cell_type": "code",
   "execution_count": 34,
   "id": "00a78e90",
   "metadata": {},
   "outputs": [],
   "source": [
    "search_result = user_stash.get_by_email(email=\"alice1@openmined.org\")"
   ]
  },
  {
   "cell_type": "code",
   "execution_count": 35,
   "id": "d04f04bf",
   "metadata": {},
   "outputs": [
    {
     "data": {
      "text/markdown": [
       "```python\n",
       "class User:\n",
       "  id: str = b4e9c96ac5174f32a06b3107abe675fb\n",
       "  email: str = \"alice1@openmined.org\"\n",
       "  name: str = \"Shubham\"\n",
       "  hashed_password: str = \"$2b$12$qGI8cDL2iCp9bAAm8p8/T.2.IynfSNKMGZtBI5U5avRJvMTNr9gvy\"\n",
       "  salt: str = \"$2b$12$qGI8cDL2iCp9bAAm8p8/T.\"\n",
       "  signing_key: str = bb84a4a521232bcfae1d93de18c3f932d193092d9022fd5b3db3997c246cc86f\n",
       "  verify_key: str = 9ee3d04e55384929e3fe3ce6a123b805ad40a0db780e3439ca0abc006c9b523f\n",
       "  role: str = ServiceRole.GUEST\n",
       "  institution: str = None\n",
       "  website: str = None\n",
       "  created_at: str = None\n",
       "\n",
       "```"
      ],
      "text/plain": [
       "syft.core.node.new.user.User"
      ]
     },
     "execution_count": 35,
     "metadata": {},
     "output_type": "execute_result"
    }
   ],
   "source": [
    "search_result.ok() if search_result.is_ok() else search_result.err()"
   ]
  },
  {
   "cell_type": "code",
   "execution_count": 36,
   "id": "ba58d893",
   "metadata": {},
   "outputs": [],
   "source": [
    "uid_to_update = UID.from_string(\"b4e9c96ac5174f32a06b3107abe675fb\")"
   ]
  },
  {
   "cell_type": "code",
   "execution_count": 37,
   "id": "bd8ed8d2",
   "metadata": {},
   "outputs": [],
   "source": [
    "update_user = UserUpdate(id=uid_to_update, email=\"alice1@openmined.org\", name=\"MyBob2\", institution=\"OpenMined\")"
   ]
  },
  {
   "cell_type": "code",
   "execution_count": 38,
   "id": "66038f64",
   "metadata": {},
   "outputs": [],
   "source": [
    "update_result = user_stash.update(user=update_user.to(User))"
   ]
  },
  {
   "cell_type": "code",
   "execution_count": 39,
   "id": "82b7848d",
   "metadata": {},
   "outputs": [
    {
     "data": {
      "text/markdown": [
       "```python\n",
       "class User:\n",
       "  id: str = b4e9c96ac5174f32a06b3107abe675fb\n",
       "  email: str = \"alice1@openmined.org\"\n",
       "  name: str = \"MyBob2\"\n",
       "  hashed_password: str = None\n",
       "  salt: str = None\n",
       "  signing_key: str = None\n",
       "  verify_key: str = None\n",
       "  role: str = None\n",
       "  institution: str = \"OpenMined\"\n",
       "  website: str = None\n",
       "  created_at: str = None\n",
       "\n",
       "```"
      ],
      "text/plain": [
       "syft.core.node.new.user.User"
      ]
     },
     "execution_count": 39,
     "metadata": {},
     "output_type": "execute_result"
    }
   ],
   "source": [
    "update_result.ok() if update_result.is_ok() else update_result.err()"
   ]
  },
  {
   "cell_type": "code",
   "execution_count": 40,
   "id": "e5a79917",
   "metadata": {},
   "outputs": [
    {
     "data": {
      "text/plain": [
       "Ok(None)"
      ]
     },
     "execution_count": 40,
     "metadata": {},
     "output_type": "execute_result"
    }
   ],
   "source": [
    "user_stash.get_by_email(email=\"bob@alice.com\")"
   ]
  },
  {
   "cell_type": "code",
   "execution_count": 41,
   "id": "83b31a6f",
   "metadata": {},
   "outputs": [],
   "source": [
    "uid_to_delete = UID.from_string(\"b4e9c96ac5174f32a06b3107abe675fb\")\n",
    "response = user_stash.delete_by_uid(uid=uid_to_delete)"
   ]
  },
  {
   "cell_type": "code",
   "execution_count": 42,
   "id": "d7ccbc6a",
   "metadata": {},
   "outputs": [
    {
     "data": {
      "text/plain": [
       "Ok(<class 'syft.core.node.new.response.SyftSuccess'>: ID: b4e9c96ac5174f32a06b3107abe675fb deleted)"
      ]
     },
     "execution_count": 42,
     "metadata": {},
     "output_type": "execute_result"
    }
   ],
   "source": [
    "response"
   ]
  },
  {
   "cell_type": "markdown",
   "id": "8edb5371",
   "metadata": {},
   "source": [
    "### Testing the services"
   ]
  },
  {
   "cell_type": "code",
   "execution_count": 43,
   "id": "baf89aef",
   "metadata": {},
   "outputs": [],
   "source": [
    "import syft as sy\n",
    "from syft.core.node.new.user import UserSearch, UserCreate\n",
    "from syft.core.node.worker import Worker"
   ]
  },
  {
   "cell_type": "code",
   "execution_count": 44,
   "id": "ff5be5a5",
   "metadata": {},
   "outputs": [],
   "source": [
    "from syft.core.node.new.mongo_document_store import MongoStoreConfig"
   ]
  },
  {
   "cell_type": "code",
   "execution_count": 45,
   "id": "72d191c0",
   "metadata": {},
   "outputs": [
    {
     "name": "stdout",
     "output_type": "stream",
     "text": [
      "Using from cache\n",
      "{-370647245722421374: MongoClient(host=['localhost:49156'], document_class=dict, tz_aware=False, connect=True, tls=False, uuidrepresentation=4)}\n",
      "Using from cache\n",
      "{-370647245722421374: MongoClient(host=['localhost:49156'], document_class=dict, tz_aware=False, connect=True, tls=False, uuidrepresentation=4)}\n",
      "Starting Worker: Exciting Lecun - e8eb23ca5abc48f2bea0774ebfdd3c42 [<class 'syft.core.node.new.user_service.UserService'>, <class 'syft.core.node.new.action_service.ActionService'>, <class 'syft.core.node.new.test_service.TestService'>, <class 'syft.core.node.new.dataset_service.DatasetService'>]\n"
     ]
    }
   ],
   "source": [
    "worker = Worker(store_config=MongoStoreConfig(client_config=mongo_client_config))"
   ]
  },
  {
   "cell_type": "code",
   "execution_count": 46,
   "id": "0b14d83e",
   "metadata": {},
   "outputs": [
    {
     "data": {
      "text/plain": [
       "<syft.core.node.new.mongo_document_store.MongoDocumentStore at 0x7faa2ebd0c70>"
      ]
     },
     "execution_count": 46,
     "metadata": {},
     "output_type": "execute_result"
    }
   ],
   "source": [
    "worker.document_store"
   ]
  },
  {
   "cell_type": "code",
   "execution_count": 47,
   "id": "358a95f4",
   "metadata": {},
   "outputs": [
    {
     "name": "stdout",
     "output_type": "stream",
     "text": [
      "Logged into Exciting Lecun as <info@openmined.org>\n"
     ]
    }
   ],
   "source": [
    "client = sy.new_login(node=worker, email=\"info@openmined.org\", password=\"changethis\", port=8081)"
   ]
  },
  {
   "cell_type": "code",
   "execution_count": 48,
   "id": "bcb9c4f7",
   "metadata": {},
   "outputs": [],
   "source": [
    "u_create = UserCreate(name=\"Shubham\", email=\"shubh@openmined.org\", password=\"pass\", password_verify=\"pass\")"
   ]
  },
  {
   "cell_type": "code",
   "execution_count": 49,
   "id": "23c96431",
   "metadata": {},
   "outputs": [
    {
     "data": {
      "text/markdown": [
       "```python\n",
       "class UserView:\n",
       "  id: str = 6ddc3cad726341a38a214426869707fa\n",
       "  email: str = \"shubh@openmined.org\"\n",
       "  name: str = \"Shubham\"\n",
       "  role: str = ServiceRole.GUEST\n",
       "  password: str = None\n",
       "  password_verify: str = None\n",
       "  verify_key: str = None\n",
       "  institution: str = None\n",
       "  website: str = None\n",
       "\n",
       "```"
      ],
      "text/plain": [
       "syft.core.node.new.user.UserView"
      ]
     },
     "execution_count": 49,
     "metadata": {},
     "output_type": "execute_result"
    }
   ],
   "source": [
    "client.api.services.user.create(user_create=u_create)"
   ]
  },
  {
   "cell_type": "code",
   "execution_count": 50,
   "id": "7193687b",
   "metadata": {},
   "outputs": [
    {
     "data": {
      "text/html": [
       "List - Size: 1\n",
       "<div>\n",
       "<style scoped>\n",
       "    .dataframe tbody tr th:only-of-type {\n",
       "        vertical-align: middle;\n",
       "    }\n",
       "\n",
       "    .dataframe tbody tr th {\n",
       "        vertical-align: top;\n",
       "    }\n",
       "\n",
       "    .dataframe thead th {\n",
       "        text-align: right;\n",
       "    }\n",
       "</style>\n",
       "<table border=\"1\" class=\"dataframe\">\n",
       "  <thead>\n",
       "    <tr style=\"text-align: right;\">\n",
       "      <th></th>\n",
       "      <th>type</th>\n",
       "    </tr>\n",
       "  </thead>\n",
       "  <tbody>\n",
       "    <tr>\n",
       "      <th>0</th>\n",
       "      <td>syft.core.node.new.user.UserView</td>\n",
       "    </tr>\n",
       "  </tbody>\n",
       "</table>\n",
       "</div>"
      ],
      "text/plain": [
       "[syft.core.node.new.user.UserView]"
      ]
     },
     "execution_count": 50,
     "metadata": {},
     "output_type": "execute_result"
    }
   ],
   "source": [
    "client.api.services.user.search(name=\"Shubham\")"
   ]
  },
  {
   "cell_type": "code",
   "execution_count": 51,
   "id": "f7eda3b2",
   "metadata": {},
   "outputs": [
    {
     "data": {
      "text/html": [
       "<div class=\"alert-success\" style=\"padding:5px;\"><strong>SyftSuccess</strong>: ID: 6ddc3cad726341a38a214426869707fa deleted.</div><br />"
      ],
      "text/plain": [
       "<class 'syft.core.node.new.response.SyftSuccess'>: ID: 6ddc3cad726341a38a214426869707fa deleted"
      ]
     },
     "execution_count": 51,
     "metadata": {},
     "output_type": "execute_result"
    }
   ],
   "source": [
    "uid_to_delete = UID.from_string(\"6ddc3cad726341a38a214426869707fa\")\n",
    "client.api.services.user.delete(uid_to_delete)"
   ]
  },
  {
   "cell_type": "code",
   "execution_count": 52,
   "id": "1b9630c1",
   "metadata": {},
   "outputs": [
    {
     "data": {
      "text/html": [
       "[]"
      ],
      "text/plain": [
       "[]"
      ]
     },
     "execution_count": 52,
     "metadata": {},
     "output_type": "execute_result"
    }
   ],
   "source": [
    "client.api.services.user.search(name=\"Shubham\")"
   ]
  }
 ],
 "metadata": {
  "kernelspec": {
   "display_name": "Python 3 (ipykernel)",
   "language": "python",
   "name": "python3"
  },
  "language_info": {
   "codemirror_mode": {
    "name": "ipython",
    "version": 3
   },
   "file_extension": ".py",
   "mimetype": "text/x-python",
   "name": "python",
   "nbconvert_exporter": "python",
   "pygments_lexer": "ipython3",
   "version": "3.9.7"
  }
 },
 "nbformat": 4,
 "nbformat_minor": 5
}
