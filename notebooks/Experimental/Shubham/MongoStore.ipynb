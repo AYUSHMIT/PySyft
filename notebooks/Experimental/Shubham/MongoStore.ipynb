{
 "cells": [
  {
   "cell_type": "markdown",
   "id": "cfe0b769",
   "metadata": {},
   "source": [
    "### Run the cell below and update the Mongo Host and Port Info"
   ]
  },
  {
   "cell_type": "code",
   "execution_count": 20,
   "id": "8e726941",
   "metadata": {},
   "outputs": [
    {
     "name": "stdout",
     "output_type": "stream",
     "text": [
      "-----------------------------\r\n",
      "Containers | Exposed Ports\r\n",
      "-----------------------------\r\n",
      "/canada-seaweedfs-1  49161 49160 \r\n",
      "/canada-mongo-1  49155 \r\n",
      "/canada-queue-1  49156 \r\n",
      "/canada-jaeger-1  14268 49154 \r\n",
      "/canada-redis-1  49153 \r\n"
     ]
    }
   ],
   "source": [
    "# Run the cell below to get the mongo public port, then \n",
    "# go to `packages/syft/src/syft/core/node/new/mongo_client.py` and \n",
    "# change MONGO_HOST = \"localhost\" and\n",
    "# MONGO_PORT = \"port_number_shown_below\"\n",
    "\n",
    "! bash ~/PySyft/scripts/dev_tools.sh"
   ]
  },
  {
   "cell_type": "code",
   "execution_count": null,
   "id": "e286b725",
   "metadata": {},
   "outputs": [],
   "source": [
    "## Start here."
   ]
  },
  {
   "cell_type": "code",
   "execution_count": 1,
   "id": "21c40823",
   "metadata": {},
   "outputs": [
    {
     "name": "stderr",
     "output_type": "stream",
     "text": [
      "kj/filesystem-disk-unix.c++:1703: warning: PWD environment variable doesn't match current directory; pwd = /home/shubham/PySyft\n"
     ]
    }
   ],
   "source": [
    "import syft as sy\n",
    "from syft.core.node.new.user import UserCreate, User, UserUpdate\n",
    "from syft.core.node.new.mongo_document_store import MongoCollection, MongoDocumentStore, MongoBsonObject\n",
    "from syft.core.node.common.node_table.syft_object import SyftObjectRegistry\n",
    "from syft.core.node.worker import Worker\n",
    "from syft.core.node.new.user_stash import UserStash\n",
    "from syft.core.common.uid import UID"
   ]
  },
  {
   "cell_type": "code",
   "execution_count": 2,
   "id": "4d3b5298",
   "metadata": {},
   "outputs": [],
   "source": [
    "from syft.core.node.new.document_store import UIDPartitionKey"
   ]
  },
  {
   "cell_type": "code",
   "execution_count": 3,
   "id": "2ebdf0a6",
   "metadata": {},
   "outputs": [],
   "source": [
    "store = MongoDocumentStore()"
   ]
  },
  {
   "cell_type": "code",
   "execution_count": 4,
   "id": "05bc5c2c",
   "metadata": {},
   "outputs": [],
   "source": [
    "mongo_store_ser = sy.serialize(store, to_bytes=True)"
   ]
  },
  {
   "cell_type": "code",
   "execution_count": 5,
   "id": "b2d8b838",
   "metadata": {},
   "outputs": [],
   "source": [
    "store = sy.deserialize(mongo_store_ser, from_bytes=True)"
   ]
  },
  {
   "cell_type": "code",
   "execution_count": 6,
   "id": "a17521e3",
   "metadata": {},
   "outputs": [],
   "source": [
    "user_stash = UserStash(store=store)"
   ]
  },
  {
   "cell_type": "code",
   "execution_count": 21,
   "id": "62e882ab",
   "metadata": {},
   "outputs": [
    {
     "data": {
      "text/html": [
       "{&#x27;_id_&#x27;: {&#x27;v&#x27;: 2, &#x27;key&#x27;: [(&#x27;_id&#x27;, 1)]}, &#x27;User_index_name&#x27;: {&#x27;v&#x27;: 2, &#x27;key&#x27;: [(&#x27;email&#x27;, 1), (&#x27;signing_key&#x27;, 1), (&#x27;verify_key&#x27;, 1)], &#x27;unique&#x27;: True}}"
      ],
      "text/plain": [
       "{'_id_': {'v': 2, 'key': [('_id', 1)]},\n",
       " 'User_index_name': {'v': 2,\n",
       "  'key': [('email', 1), ('signing_key', 1), ('verify_key', 1)],\n",
       "  'unique': True}}"
      ]
     },
     "execution_count": 21,
     "metadata": {},
     "output_type": "execute_result"
    }
   ],
   "source": [
    "user_stash.partition.db_collection.index_information()"
   ]
  },
  {
   "cell_type": "code",
   "execution_count": 7,
   "id": "b4fedb8a",
   "metadata": {},
   "outputs": [],
   "source": [
    "new_user = UserCreate(\n",
    "    name=\"Shubham\", email=\"alice@openmined.org\", password=\"pass\", password_verify=\"pass\"\n",
    ")"
   ]
  },
  {
   "cell_type": "code",
   "execution_count": 8,
   "id": "fae15ff2",
   "metadata": {},
   "outputs": [],
   "source": [
    "user = new_user.to(User)"
   ]
  },
  {
   "cell_type": "code",
   "execution_count": 13,
   "id": "43b49954",
   "metadata": {},
   "outputs": [],
   "source": [
    "bson_dict = user.to(MongoBsonObject)"
   ]
  },
  {
   "cell_type": "code",
   "execution_count": 14,
   "id": "fcbc91a2",
   "metadata": {},
   "outputs": [],
   "source": [
    "u = MongoBsonObject.to_syft_obj(bson_dict, User)"
   ]
  },
  {
   "cell_type": "code",
   "execution_count": 15,
   "id": "99f9fdee",
   "metadata": {
    "run_control": {
     "marked": false
    }
   },
   "outputs": [],
   "source": [
    "response = user_stash.set(user)"
   ]
  },
  {
   "cell_type": "code",
   "execution_count": 16,
   "id": "0f9bb1b4",
   "metadata": {},
   "outputs": [
    {
     "data": {
      "text/plain": [
       "Err('Duplicate Key Error: E11000 duplicate key error collection: app.User index: User_index_name dup key: { email: \"alice@openmined.org\", signing_key: null, verify_key: null }, full error: {\\'index\\': 0, \\'code\\': 11000, \\'errmsg\\': \\'E11000 duplicate key error collection: app.User index: User_index_name dup key: { email: \"alice@openmined.org\", signing_key: null, verify_key: null }\\', \\'keyPattern\\': {\\'email\\': 1, \\'signing_key\\': 1, \\'verify_key\\': 1}, \\'keyValue\\': {\\'email\\': \\'alice@openmined.org\\', \\'signing_key\\': None, \\'verify_key\\': None}}')"
      ]
     },
     "execution_count": 16,
     "metadata": {},
     "output_type": "execute_result"
    }
   ],
   "source": [
    "response"
   ]
  },
  {
   "cell_type": "code",
   "execution_count": 22,
   "id": "8fd5fe9e",
   "metadata": {},
   "outputs": [],
   "source": [
    "# #### Create indexes\n",
    "# from pymongo import IndexModel, ASCENDING, DESCENDING\n",
    "# user_stash.partition.db_collection.create_index([\n",
    "#     (\"email\", ASCENDING),\n",
    "#     (\"verify_key\", ASCENDING)\n",
    "# ], unique=True)"
   ]
  },
  {
   "cell_type": "code",
   "execution_count": 28,
   "id": "00a78e90",
   "metadata": {},
   "outputs": [],
   "source": [
    "search_result = user_stash.get_by_email(email=\"alice@openmined.org\")\n"
   ]
  },
  {
   "cell_type": "code",
   "execution_count": 30,
   "id": "d04f04bf",
   "metadata": {},
   "outputs": [
    {
     "data": {
      "text/markdown": [
       "```python\n",
       "class User:\n",
       "  id: str = 68e8f4bc81a949e98e641ead22300ffb\n",
       "  email: str = \"alice@openmined.org\"\n",
       "  name: str = \"Shubham\"\n",
       "  hashed_password: str = \"$2b$12$vbK9bo6.iEarmFKwbE7zAOzEtW0jA26rCA2SG/6PfXmyX5TWXemOW\"\n",
       "  salt: str = \"$2b$12$vbK9bo6.iEarmFKwbE7zAO\"\n",
       "  signing_key: str = 634dd9199241fbbc82ba844da019c2fdabadff1dc452ccb29e8f39af105a5cda\n",
       "  verify_key: str = 9040173c7cb875e9fc5a047bcf792bf360255835a326274dbf1b6e5a4a9c451a\n",
       "  role: str = ServiceRole.GUEST\n",
       "  institution: str = None\n",
       "  website: str = None\n",
       "  created_at: str = None\n",
       "\n",
       "```"
      ],
      "text/plain": [
       "syft.core.node.new.user.User"
      ]
     },
     "execution_count": 30,
     "metadata": {},
     "output_type": "execute_result"
    }
   ],
   "source": [
    "search_result.ok() if search_result.is_ok() else search_result.err()"
   ]
  },
  {
   "cell_type": "code",
   "execution_count": 31,
   "id": "ba58d893",
   "metadata": {},
   "outputs": [],
   "source": [
    "uid_to_update = UID.from_string(\"68e8f4bc81a949e98e641ead22300ffb\")"
   ]
  },
  {
   "cell_type": "code",
   "execution_count": 32,
   "id": "bd8ed8d2",
   "metadata": {},
   "outputs": [],
   "source": [
    "update_user = UserUpdate(id=uid_to_update, email=\"alice@openmined.org\", name=\"MyBob2\", institution=\"OpenMined\")"
   ]
  },
  {
   "cell_type": "code",
   "execution_count": 33,
   "id": "66038f64",
   "metadata": {},
   "outputs": [],
   "source": [
    "update_result = user_stash.update(user=update_user.to(User))"
   ]
  },
  {
   "cell_type": "code",
   "execution_count": 35,
   "id": "82b7848d",
   "metadata": {},
   "outputs": [
    {
     "data": {
      "text/markdown": [
       "```python\n",
       "class User:\n",
       "  id: str = 68e8f4bc81a949e98e641ead22300ffb\n",
       "  email: str = \"alice@openmined.org\"\n",
       "  name: str = \"MyBob2\"\n",
       "  hashed_password: str = None\n",
       "  salt: str = None\n",
       "  signing_key: str = None\n",
       "  verify_key: str = None\n",
       "  role: str = None\n",
       "  institution: str = \"OpenMined\"\n",
       "  website: str = None\n",
       "  created_at: str = None\n",
       "\n",
       "```"
      ],
      "text/plain": [
       "syft.core.node.new.user.User"
      ]
     },
     "execution_count": 35,
     "metadata": {},
     "output_type": "execute_result"
    }
   ],
   "source": [
    "update_result.ok() if update_result.is_ok() else update_result.err()"
   ]
  },
  {
   "cell_type": "code",
   "execution_count": 36,
   "id": "e5a79917",
   "metadata": {},
   "outputs": [
    {
     "data": {
      "text/plain": [
       "Ok(None)"
      ]
     },
     "execution_count": 36,
     "metadata": {},
     "output_type": "execute_result"
    }
   ],
   "source": [
    "user_stash.get_by_email(email=\"bob@alice.com\")"
   ]
  },
  {
   "cell_type": "code",
   "execution_count": 39,
   "id": "83b31a6f",
   "metadata": {},
   "outputs": [],
   "source": [
    "uid_to_delete = UID.from_string(\"68e8f4bc81a949e98e641ead22300ffb\")\n",
    "response = user_stash.delete_by_uid(uid=uid_to_delete)"
   ]
  },
  {
   "cell_type": "code",
   "execution_count": 40,
   "id": "d7ccbc6a",
   "metadata": {},
   "outputs": [
    {
     "data": {
      "text/plain": [
       "Ok(<class 'syft.core.node.new.response.SyftSuccess'>: ID: 68e8f4bc81a949e98e641ead22300ffb deleted)"
      ]
     },
     "execution_count": 40,
     "metadata": {},
     "output_type": "execute_result"
    }
   ],
   "source": [
    "response"
   ]
  },
  {
   "cell_type": "code",
   "execution_count": null,
   "id": "4c9f0d7a",
   "metadata": {},
   "outputs": [],
   "source": []
  },
  {
   "cell_type": "code",
   "execution_count": null,
   "id": "20032ffd",
   "metadata": {},
   "outputs": [],
   "source": []
  },
  {
   "cell_type": "markdown",
   "id": "8edb5371",
   "metadata": {},
   "source": [
    "#### Note: Change back the Mongo Host and port to default before running the cells below and restart kernel\n",
    "\n",
    "`MONGO_HOST = \"mongo\"\n",
    "MONGO_PORT = \"27017\"`"
   ]
  },
  {
   "cell_type": "code",
   "execution_count": 7,
   "id": "baf89aef",
   "metadata": {},
   "outputs": [],
   "source": [
    "import syft as sy\n",
    "from syft.core.node.new.user import UserSearch, UserCreate"
   ]
  },
  {
   "cell_type": "code",
   "execution_count": 2,
   "id": "358a95f4",
   "metadata": {},
   "outputs": [
    {
     "name": "stdout",
     "output_type": "stream",
     "text": [
      "Logged into canada as <info@openmined.org>\n"
     ]
    }
   ],
   "source": [
    "client = sy.new_login(email=\"info@openmined.org\", password=\"changethis\", port=8081)"
   ]
  },
  {
   "cell_type": "code",
   "execution_count": 8,
   "id": "bcb9c4f7",
   "metadata": {},
   "outputs": [],
   "source": [
    "u_create = UserCreate(name=\"Shubham\", email=\"shubham@openmined.org\", password=\"pass\", password_verify=\"pass\")"
   ]
  },
  {
   "cell_type": "code",
   "execution_count": 9,
   "id": "23c96431",
   "metadata": {},
   "outputs": [
    {
     "data": {
      "text/markdown": [
       "```python\n",
       "class UserView:\n",
       "  id: str = 2cd283d109f1401385542e6d53af9c77\n",
       "  email: str = \"shubham@openmined.org\"\n",
       "  name: str = \"Shubham\"\n",
       "  role: str = ServiceRole.GUEST\n",
       "  password: str = None\n",
       "  password_verify: str = None\n",
       "  verify_key: str = None\n",
       "  institution: str = None\n",
       "  website: str = None\n",
       "\n",
       "```"
      ],
      "text/plain": [
       "class UserView:\n",
       "  id: str = 2cd283d109f1401385542e6d53af9c77\n",
       "  email: str = \"shubham@openmined.org\"\n",
       "  name: str = \"Shubham\"\n",
       "  role: str = ServiceRole.GUEST\n",
       "  password: str = None\n",
       "  password_verify: str = None\n",
       "  verify_key: str = None\n",
       "  institution: str = None\n",
       "  website: str = None"
      ]
     },
     "execution_count": 9,
     "metadata": {},
     "output_type": "execute_result"
    }
   ],
   "source": [
    "client.api.services.user.create(user_create=u_create)"
   ]
  },
  {
   "cell_type": "code",
   "execution_count": 10,
   "id": "7193687b",
   "metadata": {},
   "outputs": [
    {
     "data": {
      "text/plain": [
       "[class UserView:\n",
       "   id: str = 2cd283d109f1401385542e6d53af9c77\n",
       "   email: str = \"shubham@openmined.org\"\n",
       "   name: str = \"Shubham\"\n",
       "   role: str = ServiceRole.GUEST\n",
       "   password: str = None\n",
       "   password_verify: str = None\n",
       "   verify_key: str = None\n",
       "   institution: str = None\n",
       "   website: str = None]"
      ]
     },
     "execution_count": 10,
     "metadata": {},
     "output_type": "execute_result"
    }
   ],
   "source": [
    "client.api.services.user.search(name=\"Shubham\")"
   ]
  },
  {
   "cell_type": "code",
   "execution_count": 12,
   "id": "f7eda3b2",
   "metadata": {},
   "outputs": [
    {
     "data": {
      "text/html": [
       "<div class=\"alert-success\" style=\"padding:5px;\"><strong>SyftSuccess</strong>: ID: 2cd283d109f1401385542e6d53af9c77 deleted.</div><br />"
      ],
      "text/plain": [
       "<class 'syft.core.node.new.response.SyftSuccess'>: ID: 2cd283d109f1401385542e6d53af9c77 deleted"
      ]
     },
     "execution_count": 12,
     "metadata": {},
     "output_type": "execute_result"
    }
   ],
   "source": [
    "uid_to_delete = UID.from_string(\"2cd283d109f1401385542e6d53af9c77\")\n",
    "client.api.services.user.delete(uid_to_delete)"
   ]
  },
  {
   "cell_type": "code",
   "execution_count": 13,
   "id": "1b9630c1",
   "metadata": {},
   "outputs": [
    {
     "data": {
      "text/plain": [
       "[]"
      ]
     },
     "execution_count": 13,
     "metadata": {},
     "output_type": "execute_result"
    }
   ],
   "source": [
    "client.api.services.user.search(name=\"Shubham\")"
   ]
  },
  {
   "cell_type": "code",
   "execution_count": null,
   "id": "aed5dccc",
   "metadata": {},
   "outputs": [],
   "source": []
  }
 ],
 "metadata": {
  "kernelspec": {
   "display_name": "Python 3 (ipykernel)",
   "language": "python",
   "name": "python3"
  },
  "language_info": {
   "codemirror_mode": {
    "name": "ipython",
    "version": 3
   },
   "file_extension": ".py",
   "mimetype": "text/x-python",
   "name": "python",
   "nbconvert_exporter": "python",
   "pygments_lexer": "ipython3",
   "version": "3.9.7"
  }
 },
 "nbformat": 4,
 "nbformat_minor": 5
}
