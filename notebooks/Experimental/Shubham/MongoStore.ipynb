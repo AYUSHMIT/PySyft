{
 "cells": [
  {
   "cell_type": "markdown",
   "id": "cfe0b769",
   "metadata": {},
   "source": [
    "### Run the cell below and update the Mongo Host and Port Info"
   ]
  },
  {
   "cell_type": "code",
   "execution_count": 1,
   "id": "8e726941",
   "metadata": {
    "tags": []
   },
   "outputs": [
    {
     "name": "stdout",
     "output_type": "stream",
     "text": [
      "-----------------------------\n",
      "Containers | Exposed Ports\n",
      "-----------------------------\n",
      "/lucid_hutter-seaweedfs-1  57447 57448 \n",
      "/lucid_hutter-redis-1  57443 \n",
      "/lucid_hutter-queue-1  57442 \n",
      "/lucid_hutter-mongo-1  57440 \n",
      "/lucid_hutter-jaeger-1  14268 57441 \n"
     ]
    }
   ],
   "source": [
    "! bash ~/dev/PySyft/scripts/dev_tools.sh"
   ]
  },
  {
   "cell_type": "code",
   "execution_count": 2,
   "id": "e286b725",
   "metadata": {
    "tags": []
   },
   "outputs": [],
   "source": [
    "## Start here."
   ]
  },
  {
   "cell_type": "code",
   "execution_count": 3,
   "id": "f1e8e412",
   "metadata": {
    "tags": []
   },
   "outputs": [],
   "source": [
    "# Set your public ports for mongo here.\n",
    "\n",
    "class EnvSettings:\n",
    "    MONGO_HOST = \"localhost\"  # # change to 'localhost'\n",
    "    MONGO_PORT = \"57440\"  # change to public port\n",
    "    MONGO_USERNAME = \"root\"\n",
    "    MONGO_PASSWORD = \"example\"  # nosec\n",
    "    \n",
    "env_settings = EnvSettings()"
   ]
  },
  {
   "cell_type": "code",
   "execution_count": 4,
   "id": "21c40823",
   "metadata": {
    "tags": []
   },
   "outputs": [],
   "source": [
    "import syft as sy\n",
    "from syft.core.node.new.user import UserCreate, User, UserUpdate\n",
    "from syft.core.node.new.mongo_document_store import MongoBsonObject\n",
    "from syft.core.node.new.mongo_document_store import MongoDocumentStore, MongoStoreConfig\n",
    "from syft.core.node.new.document_store import StoreClientConfig\n",
    "from syft.core.common.uid import UID\n",
    "from syft.core.node.new.user_stash import UserStash"
   ]
  },
  {
   "cell_type": "code",
   "execution_count": 5,
   "id": "4d3b5298",
   "metadata": {
    "tags": []
   },
   "outputs": [],
   "source": [
    "mongo_client_config = StoreClientConfig(\n",
    "    hostname=env_settings.MONGO_HOST,\n",
    "    port=env_settings.MONGO_PORT,\n",
    "    username=env_settings.MONGO_USERNAME,\n",
    "    password=env_settings.MONGO_PASSWORD,\n",
    ")"
   ]
  },
  {
   "cell_type": "code",
   "execution_count": 6,
   "id": "2ebdf0a6",
   "metadata": {
    "tags": []
   },
   "outputs": [],
   "source": [
    "store = MongoDocumentStore(client_config=mongo_client_config)"
   ]
  },
  {
   "cell_type": "code",
   "execution_count": 7,
   "id": "51f8654e",
   "metadata": {
    "tags": []
   },
   "outputs": [],
   "source": [
    "from syft.core.node.new.dict_document_store import DictDocumentStore"
   ]
  },
  {
   "cell_type": "code",
   "execution_count": 8,
   "id": "cfccc702",
   "metadata": {
    "tags": []
   },
   "outputs": [],
   "source": [
    "dict_store = DictDocumentStore()"
   ]
  },
  {
   "cell_type": "code",
   "execution_count": 9,
   "id": "05bc5c2c",
   "metadata": {
    "tags": []
   },
   "outputs": [],
   "source": [
    "mongo_store_ser = sy.serialize(store, to_bytes=True)"
   ]
  },
  {
   "cell_type": "code",
   "execution_count": 10,
   "id": "b2d8b838",
   "metadata": {
    "tags": []
   },
   "outputs": [],
   "source": [
    "store = sy.deserialize(mongo_store_ser, from_bytes=True)"
   ]
  },
  {
   "cell_type": "code",
   "execution_count": 11,
   "id": "4a6bccd3",
   "metadata": {
    "tags": []
   },
   "outputs": [],
   "source": [
    "user_stash = UserStash(store=store)"
   ]
  },
  {
   "cell_type": "code",
   "execution_count": 12,
   "id": "fa7f95f4",
   "metadata": {
    "tags": []
   },
   "outputs": [],
   "source": [
    "store_partition = store.partition(settings=user_stash.settings)"
   ]
  },
  {
   "cell_type": "code",
   "execution_count": 13,
   "id": "7601cc02",
   "metadata": {
    "tags": []
   },
   "outputs": [
    {
     "data": {
      "text/plain": [
       "<syft.core.node.new.mongo_document_store.MongoStorePartition at 0x2be3ccbe0>"
      ]
     },
     "execution_count": 13,
     "metadata": {},
     "output_type": "execute_result"
    }
   ],
   "source": [
    "store_partition"
   ]
  },
  {
   "cell_type": "code",
   "execution_count": 14,
   "id": "201f008d",
   "metadata": {
    "tags": []
   },
   "outputs": [],
   "source": [
    "desered_store_partition = sy.deserialize(sy.serialize(store_partition, to_bytes=True), from_bytes=True)"
   ]
  },
  {
   "cell_type": "code",
   "execution_count": 15,
   "id": "aaacc26c",
   "metadata": {
    "scrolled": true,
    "tags": []
   },
   "outputs": [],
   "source": [
    "user_stash = sy.deserialize(sy.serialize(user_stash, to_bytes=True), from_bytes=True)"
   ]
  },
  {
   "cell_type": "code",
   "execution_count": 16,
   "id": "62e882ab",
   "metadata": {
    "tags": []
   },
   "outputs": [
    {
     "data": {
      "text/html": [
       "{&#x27;_id_&#x27;: {&#x27;v&#x27;: 2, &#x27;key&#x27;: [(&#x27;_id&#x27;, 1)]}, &#x27;User_index_name&#x27;: {&#x27;v&#x27;: 2, &#x27;key&#x27;: [(&#x27;email&#x27;, 1), (&#x27;signing_key&#x27;, 1), (&#x27;verify_key&#x27;, 1)], &#x27;unique&#x27;: True}}"
      ],
      "text/plain": [
       "{'_id_': {'v': 2, 'key': [('_id', 1)]},\n",
       " 'User_index_name': {'v': 2,\n",
       "  'key': [('email', 1), ('signing_key', 1), ('verify_key', 1)],\n",
       "  'unique': True}}"
      ]
     },
     "execution_count": 16,
     "metadata": {},
     "output_type": "execute_result"
    }
   ],
   "source": [
    "user_stash.partition.collection.index_information()"
   ]
  },
  {
   "cell_type": "code",
   "execution_count": 17,
   "id": "b4fedb8a",
   "metadata": {
    "tags": []
   },
   "outputs": [],
   "source": [
    "new_user = UserCreate(\n",
    "    name=\"Shubham\", email=\"alice1@openmined.org\", password=\"pass\", password_verify=\"pass\"\n",
    ")"
   ]
  },
  {
   "cell_type": "code",
   "execution_count": 18,
   "id": "fae15ff2",
   "metadata": {
    "tags": []
   },
   "outputs": [],
   "source": [
    "user = new_user.to(User)"
   ]
  },
  {
   "cell_type": "code",
   "execution_count": 19,
   "id": "43b49954",
   "metadata": {
    "tags": []
   },
   "outputs": [],
   "source": [
    "bson_dict = user.to(MongoBsonObject)"
   ]
  },
  {
   "cell_type": "code",
   "execution_count": 20,
   "id": "91eacd61",
   "metadata": {
    "tags": []
   },
   "outputs": [
    {
     "data": {
      "text/markdown": [
       "```python\n",
       "class User:\n",
       "  id: str = b42441386f7e47ceba621e4c4b74e340\n",
       "  email: str = \"alice1@openmined.org\"\n",
       "  name: str = \"Shubham\"\n",
       "  hashed_password: str = \"$2b$12$.4dpnDDW41MaIgurnewhuu8lV99h0uhXtzEZX3.gXybDWDhOVNpDS\"\n",
       "  salt: str = \"$2b$12$.4dpnDDW41MaIgurnewhuu\"\n",
       "  signing_key: str = 620e1c457cf9a02e80c898b4c6b548e10211ae7f5cd73bc0457e69211b7e1d51\n",
       "  verify_key: str = 0185d96d8569e184cc9f7623718ec3dd83ed3651d5d01cca28e4bcca74234dfe\n",
       "  role: str = ServiceRole.GUEST\n",
       "  institution: str = None\n",
       "  website: str = None\n",
       "  created_at: str = None\n",
       "\n",
       "```"
      ],
      "text/plain": [
       "syft.core.node.new.user.User"
      ]
     },
     "execution_count": 20,
     "metadata": {},
     "output_type": "execute_result"
    }
   ],
   "source": [
    "bson_dict.to(UserCreate)"
   ]
  },
  {
   "cell_type": "code",
   "execution_count": 21,
   "id": "99f9fdee",
   "metadata": {
    "run_control": {
     "marked": false
    },
    "tags": []
   },
   "outputs": [],
   "source": [
    "response = user_stash.set(user)"
   ]
  },
  {
   "cell_type": "code",
   "execution_count": 22,
   "id": "0f9bb1b4",
   "metadata": {
    "tags": []
   },
   "outputs": [
    {
     "data": {
      "text/plain": [
       "Ok(syft.core.node.new.user.User)"
      ]
     },
     "execution_count": 22,
     "metadata": {},
     "output_type": "execute_result"
    }
   ],
   "source": [
    "response"
   ]
  },
  {
   "cell_type": "code",
   "execution_count": 23,
   "id": "8fd5fe9e",
   "metadata": {
    "tags": []
   },
   "outputs": [],
   "source": [
    "# #### Create indexes\n",
    "# from pymongo import IndexModel, ASCENDING, DESCENDING\n",
    "# user_stash.partition.db_collection.create_index([\n",
    "#     (\"email\", ASCENDING),\n",
    "#     (\"verify_key\", ASCENDING)\n",
    "# ], unique=True)"
   ]
  },
  {
   "cell_type": "code",
   "execution_count": 24,
   "id": "00a78e90",
   "metadata": {
    "tags": []
   },
   "outputs": [],
   "source": [
    "search_result = user_stash.get_by_email(email=\"alice1@openmined.org\")"
   ]
  },
  {
   "cell_type": "code",
   "execution_count": 25,
   "id": "d04f04bf",
   "metadata": {
    "tags": []
   },
   "outputs": [
    {
     "data": {
      "text/markdown": [
       "```python\n",
       "class User:\n",
       "  id: str = b42441386f7e47ceba621e4c4b74e340\n",
       "  email: str = \"alice1@openmined.org\"\n",
       "  name: str = \"Shubham\"\n",
       "  hashed_password: str = \"$2b$12$.4dpnDDW41MaIgurnewhuu8lV99h0uhXtzEZX3.gXybDWDhOVNpDS\"\n",
       "  salt: str = \"$2b$12$.4dpnDDW41MaIgurnewhuu\"\n",
       "  signing_key: str = 620e1c457cf9a02e80c898b4c6b548e10211ae7f5cd73bc0457e69211b7e1d51\n",
       "  verify_key: str = 0185d96d8569e184cc9f7623718ec3dd83ed3651d5d01cca28e4bcca74234dfe\n",
       "  role: str = ServiceRole.GUEST\n",
       "  institution: str = None\n",
       "  website: str = None\n",
       "  created_at: str = None\n",
       "\n",
       "```"
      ],
      "text/plain": [
       "syft.core.node.new.user.User"
      ]
     },
     "execution_count": 25,
     "metadata": {},
     "output_type": "execute_result"
    }
   ],
   "source": [
    "search_result.ok() if search_result.is_ok() else search_result.err()"
   ]
  },
  {
   "cell_type": "code",
   "execution_count": 26,
   "id": "ba58d893",
   "metadata": {
    "tags": []
   },
   "outputs": [],
   "source": [
    "uid_to_update = UID.from_string(\"49c3089eedda4e66adbe1142c4bea9a9\")"
   ]
  },
  {
   "cell_type": "code",
   "execution_count": 27,
   "id": "bd8ed8d2",
   "metadata": {
    "tags": []
   },
   "outputs": [],
   "source": [
    "update_user = UserUpdate(id=uid_to_update, email=\"alice1@openmined.org\", name=\"MyBob2\", institution=\"OpenMined\")"
   ]
  },
  {
   "cell_type": "code",
   "execution_count": 28,
   "id": "66038f64",
   "metadata": {
    "tags": []
   },
   "outputs": [],
   "source": [
    "update_result = user_stash.update(user=update_user.to(User))"
   ]
  },
  {
   "cell_type": "code",
   "execution_count": 29,
   "id": "82b7848d",
   "metadata": {
    "tags": []
   },
   "outputs": [
    {
     "data": {
      "text/plain": [
       "\"No object found with query key: key='id' type_=<class 'syft.core.common.uid.UID'> value=<UID: 49c3089eedda4e66adbe1142c4bea9a9>\""
      ]
     },
     "execution_count": 29,
     "metadata": {},
     "output_type": "execute_result"
    }
   ],
   "source": [
    "update_result.ok() if update_result.is_ok() else update_result.err()"
   ]
  },
  {
   "cell_type": "code",
   "execution_count": 30,
   "id": "e5a79917",
   "metadata": {
    "tags": []
   },
   "outputs": [
    {
     "data": {
      "text/plain": [
       "Ok(None)"
      ]
     },
     "execution_count": 30,
     "metadata": {},
     "output_type": "execute_result"
    }
   ],
   "source": [
    "user_stash.get_by_email(email=\"bob@alice.com\")"
   ]
  },
  {
   "cell_type": "code",
   "execution_count": 31,
   "id": "83b31a6f",
   "metadata": {
    "tags": []
   },
   "outputs": [],
   "source": [
    "uid_to_delete = UID.from_string(\"49c3089eedda4e66adbe1142c4bea9a9\")\n",
    "response = user_stash.delete_by_uid(uid=uid_to_delete)"
   ]
  },
  {
   "cell_type": "code",
   "execution_count": 32,
   "id": "d7ccbc6a",
   "metadata": {
    "tags": []
   },
   "outputs": [
    {
     "data": {
      "text/plain": [
       "Err(\"Failed to delete object with qk: key='id' type_=<class 'syft.core.common.uid.UID'> value=<UID: 49c3089eedda4e66adbe1142c4bea9a9>\")"
      ]
     },
     "execution_count": 32,
     "metadata": {},
     "output_type": "execute_result"
    }
   ],
   "source": [
    "response"
   ]
  },
  {
   "cell_type": "markdown",
   "id": "8edb5371",
   "metadata": {},
   "source": [
    "### Testing the services"
   ]
  },
  {
   "cell_type": "code",
   "execution_count": 33,
   "id": "baf89aef",
   "metadata": {
    "tags": []
   },
   "outputs": [],
   "source": [
    "import syft as sy\n",
    "from syft.core.node.new.user import UserSearch, UserCreate\n",
    "from syft.core.node.worker import Worker\n",
    "from syft.core.node.new.document_store import StoreClientConfig\n",
    "from syft.core.common.uid import UID"
   ]
  },
  {
   "cell_type": "code",
   "execution_count": 34,
   "id": "84660686",
   "metadata": {
    "tags": []
   },
   "outputs": [],
   "source": [
    "# Set your public ports for mongo here.\n",
    "\n",
    "class EnvSettings:\n",
    "    MONGO_HOST = \"localhost\"  # # change to 'localhost'\n",
    "    MONGO_PORT = \"57440\"  # change to public port\n",
    "    MONGO_USERNAME = \"root\"\n",
    "    MONGO_PASSWORD = \"example\"  # nosec\n",
    "    \n",
    "env_settings = EnvSettings()\n",
    "mongo_client_config = StoreClientConfig(\n",
    "    hostname=env_settings.MONGO_HOST,\n",
    "    port=env_settings.MONGO_PORT,\n",
    "    username=env_settings.MONGO_USERNAME,\n",
    "    password=env_settings.MONGO_PASSWORD,\n",
    ")"
   ]
  },
  {
   "cell_type": "code",
   "execution_count": 35,
   "id": "72d191c0",
   "metadata": {
    "tags": []
   },
   "outputs": [
    {
     "name": "stdout",
     "output_type": "stream",
     "text": [
      "Starting Worker: Stupefied Goertzel - 643ecdd460b44b0da4b1a893ae31636d [<class 'syft.core.node.new.user_service.UserService'>, <class 'syft.core.node.new.action_service.ActionService'>, <class 'syft.core.node.new.test_service.TestService'>, <class 'syft.core.node.new.dataset_service.DatasetService'>]\n"
     ]
    }
   ],
   "source": [
    "worker = Worker(store_config=MongoStoreConfig(client_config=mongo_client_config))"
   ]
  },
  {
   "cell_type": "code",
   "execution_count": 36,
   "id": "2460d650",
   "metadata": {
    "tags": []
   },
   "outputs": [],
   "source": [
    "worker_ser = sy.serialize(worker, to_bytes=True)"
   ]
  },
  {
   "cell_type": "code",
   "execution_count": 37,
   "id": "6d8f2f1f",
   "metadata": {},
   "outputs": [],
   "source": [
    "worker_deser = sy.deserialize(worker_ser, from_bytes=True)"
   ]
  },
  {
   "cell_type": "code",
   "execution_count": 38,
   "id": "358a95f4",
   "metadata": {},
   "outputs": [
    {
     "name": "stdout",
     "output_type": "stream",
     "text": [
      "Logged into Stupefied Goertzel as <info@openmined.org>\n"
     ]
    }
   ],
   "source": [
    "client = sy.new_login(node=worker_deser, email=\"info@openmined.org\", password=\"changethis\", port=8081)"
   ]
  },
  {
   "cell_type": "code",
   "execution_count": 39,
   "id": "bcb9c4f7",
   "metadata": {},
   "outputs": [],
   "source": [
    "u_create = UserCreate(name=\"Shubham\", email=\"shubh@openmined.org\", password=\"pass\", password_verify=\"pass\")"
   ]
  },
  {
   "cell_type": "code",
   "execution_count": 40,
   "id": "23c96431",
   "metadata": {},
   "outputs": [
    {
     "data": {
      "text/html": [
       "<div class=\"alert-danger\" style=\"padding:5px;\"><strong>SyftError</strong>: User already exists with email: shubh@openmined.org.</div><br />"
      ],
      "text/plain": [
       "<class 'syft.core.node.new.response.SyftError'>: User already exists with email: shubh@openmined.org"
      ]
     },
     "execution_count": 40,
     "metadata": {},
     "output_type": "execute_result"
    }
   ],
   "source": [
    "client.api.services.user.create(user_create=u_create)"
   ]
  },
  {
   "cell_type": "code",
   "execution_count": 41,
   "id": "7193687b",
   "metadata": {},
   "outputs": [
    {
     "data": {
      "text/html": [
       "List - Size: 2\n",
       "<div>\n",
       "<style scoped>\n",
       "    .dataframe tbody tr th:only-of-type {\n",
       "        vertical-align: middle;\n",
       "    }\n",
       "\n",
       "    .dataframe tbody tr th {\n",
       "        vertical-align: top;\n",
       "    }\n",
       "\n",
       "    .dataframe thead th {\n",
       "        text-align: right;\n",
       "    }\n",
       "</style>\n",
       "<table border=\"1\" class=\"dataframe\">\n",
       "  <thead>\n",
       "    <tr style=\"text-align: right;\">\n",
       "      <th></th>\n",
       "      <th>type</th>\n",
       "      <th>id</th>\n",
       "      <th>name</th>\n",
       "      <th>email</th>\n",
       "    </tr>\n",
       "  </thead>\n",
       "  <tbody>\n",
       "    <tr>\n",
       "      <th>0</th>\n",
       "      <td>syft.core.node.new.user.UserView</td>\n",
       "      <td>2997a13a2cad40edb298d8661301455b</td>\n",
       "      <td>Shubham</td>\n",
       "      <td>alice1@openmined.org</td>\n",
       "    </tr>\n",
       "    <tr>\n",
       "      <th>1</th>\n",
       "      <td>syft.core.node.new.user.UserView</td>\n",
       "      <td>b42441386f7e47ceba621e4c4b74e340</td>\n",
       "      <td>Shubham</td>\n",
       "      <td>alice1@openmined.org</td>\n",
       "    </tr>\n",
       "  </tbody>\n",
       "</table>\n",
       "</div>"
      ],
      "text/plain": [
       "[syft.core.node.new.user.UserView, syft.core.node.new.user.UserView]"
      ]
     },
     "execution_count": 41,
     "metadata": {},
     "output_type": "execute_result"
    }
   ],
   "source": [
    "client.api.services.user.search(name=\"Shubham\")"
   ]
  },
  {
   "cell_type": "code",
   "execution_count": 42,
   "id": "e51deb3b-cc55-4794-9cd5-3adf96b3db24",
   "metadata": {},
   "outputs": [
    {
     "data": {
      "text/html": [
       "List - Size: 2\n",
       "<div>\n",
       "<style scoped>\n",
       "    .dataframe tbody tr th:only-of-type {\n",
       "        vertical-align: middle;\n",
       "    }\n",
       "\n",
       "    .dataframe tbody tr th {\n",
       "        vertical-align: top;\n",
       "    }\n",
       "\n",
       "    .dataframe thead th {\n",
       "        text-align: right;\n",
       "    }\n",
       "</style>\n",
       "<table border=\"1\" class=\"dataframe\">\n",
       "  <thead>\n",
       "    <tr style=\"text-align: right;\">\n",
       "      <th></th>\n",
       "      <th>type</th>\n",
       "      <th>id</th>\n",
       "      <th>name</th>\n",
       "      <th>email</th>\n",
       "    </tr>\n",
       "  </thead>\n",
       "  <tbody>\n",
       "    <tr>\n",
       "      <th>0</th>\n",
       "      <td>syft.core.node.new.user.UserView</td>\n",
       "      <td>2997a13a2cad40edb298d8661301455b</td>\n",
       "      <td>Shubham</td>\n",
       "      <td>alice1@openmined.org</td>\n",
       "    </tr>\n",
       "    <tr>\n",
       "      <th>1</th>\n",
       "      <td>syft.core.node.new.user.UserView</td>\n",
       "      <td>b42441386f7e47ceba621e4c4b74e340</td>\n",
       "      <td>Shubham</td>\n",
       "      <td>alice1@openmined.org</td>\n",
       "    </tr>\n",
       "  </tbody>\n",
       "</table>\n",
       "</div>"
      ],
      "text/plain": [
       "[syft.core.node.new.user.UserView, syft.core.node.new.user.UserView]"
      ]
     },
     "execution_count": 42,
     "metadata": {},
     "output_type": "execute_result"
    }
   ],
   "source": [
    "client.api.services.user.search(name=\"Shubham\")"
   ]
  },
  {
   "cell_type": "code",
   "execution_count": 48,
   "id": "f7eda3b2",
   "metadata": {},
   "outputs": [
    {
     "data": {
      "text/html": [
       "<div class=\"alert-success\" style=\"padding:5px;\"><strong>SyftSuccess</strong>: ID: 2997a13a2cad40edb298d8661301455b deleted.</div><br />"
      ],
      "text/plain": [
       "<class 'syft.core.node.new.response.SyftSuccess'>: ID: 2997a13a2cad40edb298d8661301455b deleted"
      ]
     },
     "execution_count": 48,
     "metadata": {},
     "output_type": "execute_result"
    }
   ],
   "source": [
    "uid_to_delete = UID(\"2997a13a2cad40edb298d8661301455b\")\n",
    "client.api.services.user.delete(uid_to_delete)"
   ]
  },
  {
   "cell_type": "code",
   "execution_count": 44,
   "id": "1b9630c1",
   "metadata": {},
   "outputs": [],
   "source": [
    "x = client.api.services.user.search(name=\"Shubham\")"
   ]
  },
  {
   "cell_type": "code",
   "execution_count": 45,
   "id": "d61df324-78f3-4398-8ce3-ba5865d6158f",
   "metadata": {
    "tags": []
   },
   "outputs": [
    {
     "data": {
      "text/html": [
       "List - Size: 2\n",
       "<div>\n",
       "<style scoped>\n",
       "    .dataframe tbody tr th:only-of-type {\n",
       "        vertical-align: middle;\n",
       "    }\n",
       "\n",
       "    .dataframe tbody tr th {\n",
       "        vertical-align: top;\n",
       "    }\n",
       "\n",
       "    .dataframe thead th {\n",
       "        text-align: right;\n",
       "    }\n",
       "</style>\n",
       "<table border=\"1\" class=\"dataframe\">\n",
       "  <thead>\n",
       "    <tr style=\"text-align: right;\">\n",
       "      <th></th>\n",
       "      <th>type</th>\n",
       "      <th>id</th>\n",
       "      <th>name</th>\n",
       "      <th>email</th>\n",
       "    </tr>\n",
       "  </thead>\n",
       "  <tbody>\n",
       "    <tr>\n",
       "      <th>0</th>\n",
       "      <td>syft.core.node.new.user.UserView</td>\n",
       "      <td>2997a13a2cad40edb298d8661301455b</td>\n",
       "      <td>Shubham</td>\n",
       "      <td>alice1@openmined.org</td>\n",
       "    </tr>\n",
       "    <tr>\n",
       "      <th>1</th>\n",
       "      <td>syft.core.node.new.user.UserView</td>\n",
       "      <td>b42441386f7e47ceba621e4c4b74e340</td>\n",
       "      <td>Shubham</td>\n",
       "      <td>alice1@openmined.org</td>\n",
       "    </tr>\n",
       "  </tbody>\n",
       "</table>\n",
       "</div>"
      ],
      "text/plain": [
       "[syft.core.node.new.user.UserView, syft.core.node.new.user.UserView]"
      ]
     },
     "execution_count": 45,
     "metadata": {},
     "output_type": "execute_result"
    }
   ],
   "source": [
    "x"
   ]
  },
  {
   "cell_type": "code",
   "execution_count": 50,
   "id": "15fe2300",
   "metadata": {
    "tags": []
   },
   "outputs": [
    {
     "data": {
      "text/markdown": [
       "```python\n",
       "class UserView:\n",
       "  id: str = b42441386f7e47ceba621e4c4b74e340\n",
       "  email: str = \"alice1@openmined.org\"\n",
       "  name: str = \"Shubham\"\n",
       "  role: str = ServiceRole.GUEST\n",
       "  password: str = None\n",
       "  password_verify: str = None\n",
       "  verify_key: str = None\n",
       "  institution: str = None\n",
       "  website: str = None\n",
       "\n",
       "```"
      ],
      "text/plain": [
       "syft.core.node.new.user.UserView"
      ]
     },
     "execution_count": 50,
     "metadata": {},
     "output_type": "execute_result"
    }
   ],
   "source": [
    "client.api.services.user.search(name=\"Shubham\")[0]"
   ]
  },
  {
   "cell_type": "raw",
   "id": "c9f728be-dcb7-4a51-b6fd-3e34cb5651e0",
   "metadata": {},
   "source": []
  },
  {
   "cell_type": "code",
   "execution_count": 47,
   "id": "46d40304-b012-4ab7-af7d-46b416bb2fbf",
   "metadata": {
    "tags": []
   },
   "outputs": [
    {
     "name": "stdout",
     "output_type": "stream",
     "text": [
      "Starting Worker: Beautiful Littman - 698d9d3fcabb4b75b9b982c087f8cfeb [<class 'syft.core.node.new.user_service.UserService'>, <class 'syft.core.node.new.action_service.ActionService'>, <class 'syft.core.node.new.test_service.TestService'>, <class 'syft.core.node.new.dataset_service.DatasetService'>]\n"
     ]
    }
   ],
   "source": [
    "worker2 = Worker()"
   ]
  },
  {
   "cell_type": "code",
   "execution_count": null,
   "id": "1ad049a8-7005-4784-9cce-3cdefff9bec5",
   "metadata": {},
   "outputs": [],
   "source": []
  }
 ],
 "metadata": {
  "kernelspec": {
   "display_name": "Python 3 (ipykernel)",
   "language": "python",
   "name": "python3"
  },
  "language_info": {
   "codemirror_mode": {
    "name": "ipython",
    "version": 3
   },
   "file_extension": ".py",
   "mimetype": "text/x-python",
   "name": "python",
   "nbconvert_exporter": "python",
   "pygments_lexer": "ipython3",
   "version": "3.10.9"
  }
 },
 "nbformat": 4,
 "nbformat_minor": 5
}
