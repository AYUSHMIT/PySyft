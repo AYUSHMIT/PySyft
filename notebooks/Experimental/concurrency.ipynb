{
 "cells": [
  {
   "cell_type": "code",
   "execution_count": 1,
   "id": "602bc48e-ff97-46b8-bb8a-08134d35aa2a",
   "metadata": {
    "tags": []
   },
   "outputs": [],
   "source": [
    "import syft as sy\n",
    "from syft.core.common.uid import UID"
   ]
  },
  {
   "cell_type": "code",
   "execution_count": 2,
   "id": "63ca9eba-ae56-4f8a-a201-5de9f645dfb0",
   "metadata": {
    "tags": []
   },
   "outputs": [],
   "source": [
    "# !open file:///var/folders/6_/7xx0tpq16h9cn40mq4w5gjk80000gn/T/2bd500bfa651473cae2fea8de1a0cf7b.sqlite"
   ]
  },
  {
   "cell_type": "code",
   "execution_count": 3,
   "id": "4f2a1d89-5459-4d22-afb8-aa9f3d83cbcf",
   "metadata": {
    "tags": []
   },
   "outputs": [
    {
     "name": "stdout",
     "output_type": "stream",
     "text": [
      "SQLite Store Path:\n",
      "!open file:///var/folders/6_/7xx0tpq16h9cn40mq4w5gjk80000gn/T/a2b879e64ffe450b8947f1825f5fca0b.sqlite\n",
      "\n",
      "Starting Worker: Sweet Dean - a2b879e64ffe450b8947f1825f5fca0b [<class 'syft.core.node.new.user_service.UserService'>, <class 'syft.core.node.new.action_service.ActionService'>, <class 'syft.core.node.new.test_service.TestService'>, <class 'syft.core.node.new.dataset_service.DatasetService'>, <class 'syft.core.node.new.user_code_service.UserCodeService'>, <class 'syft.core.node.new.request_service.RequestService'>]\n"
     ]
    }
   ],
   "source": [
    "worker = sy.Worker(processes=1)"
   ]
  },
  {
   "cell_type": "code",
   "execution_count": 4,
   "id": "c8f44227-43d7-43ce-ba99-ba58f9e13594",
   "metadata": {
    "tags": []
   },
   "outputs": [],
   "source": [
    "s = worker.get_service(\"UserService\")"
   ]
  },
  {
   "cell_type": "code",
   "execution_count": 5,
   "id": "87a915f4-b357-424c-90a8-cb8048148881",
   "metadata": {
    "tags": []
   },
   "outputs": [
    {
     "data": {
      "text/plain": [
       "{<UID: 571ffcaa54264130b1d1abf40a7d0102>: syft.core.node.new.user.User}"
      ]
     },
     "execution_count": 5,
     "metadata": {},
     "output_type": "execute_result"
    }
   ],
   "source": [
    "s.store.partitions[\"User\"].data"
   ]
  },
  {
   "cell_type": "code",
   "execution_count": 6,
   "id": "81295e3c-37e4-4493-969c-390b0298566f",
   "metadata": {
    "tags": []
   },
   "outputs": [
    {
     "name": "stdout",
     "output_type": "stream",
     "text": [
      "Logged into Sweet Dean as <info@openmined.org>\n"
     ]
    }
   ],
   "source": [
    "client = sy.new_login(node=worker, email=\"info@openmined.org\", password=\"changethis\")"
   ]
  },
  {
   "cell_type": "code",
   "execution_count": 7,
   "id": "71a93b5f-6b35-4c9a-b420-cad25dc45856",
   "metadata": {
    "tags": []
   },
   "outputs": [],
   "source": [
    "from syft.core.node.new.user import UserCreate"
   ]
  },
  {
   "cell_type": "code",
   "execution_count": 8,
   "id": "c4b6ccc8-836d-4c7b-b5f1-9478399899ca",
   "metadata": {
    "tags": []
   },
   "outputs": [],
   "source": [
    "x = UserCreate(email=\"a@b.com\", name=\"a\", password=\"a\", password_verify=\"a\")"
   ]
  },
  {
   "cell_type": "code",
   "execution_count": 9,
   "id": "42261f3c-0af2-4413-9133-976167e22f4e",
   "metadata": {
    "tags": []
   },
   "outputs": [
    {
     "name": "stdout",
     "output_type": "stream",
     "text": [
      "Starting Subprocess Worker: Sweet Dean - a2b879e64ffe450b8947f1825f5fca0b [<class 'syft.core.node.new.user_service.UserService'>, <class 'syft.core.node.new.action_service.ActionService'>, <class 'syft.core.node.new.test_service.TestService'>, <class 'syft.core.node.new.dataset_service.DatasetService'>, <class 'syft.core.node.new.user_code_service.UserCodeService'>, <class 'syft.core.node.new.request_service.RequestService'>]\n"
     ]
    },
    {
     "data": {
      "text/markdown": [
       "```python\n",
       "class UserView:\n",
       "  id: str = 82b965de16424d74a19abb92fc1016ff\n",
       "  email: str = \"a@b.com\"\n",
       "  name: str = \"a\"\n",
       "  role: str = ServiceRole.GUEST\n",
       "  password: str = None\n",
       "  password_verify: str = None\n",
       "  verify_key: str = None\n",
       "  institution: str = None\n",
       "  website: str = None\n",
       "\n",
       "```"
      ],
      "text/plain": [
       "syft.core.node.new.user.UserView"
      ]
     },
     "execution_count": 9,
     "metadata": {},
     "output_type": "execute_result"
    }
   ],
   "source": [
    "client.api.services.user.create(x)"
   ]
  },
  {
   "cell_type": "code",
   "execution_count": 10,
   "id": "a5d00acc-4c6a-4dec-9927-e728014dd2e6",
   "metadata": {
    "tags": []
   },
   "outputs": [
    {
     "name": "stdout",
     "output_type": "stream",
     "text": [
      "blocking\n"
     ]
    }
   ],
   "source": [
    "print(\"blocking\")"
   ]
  },
  {
   "cell_type": "code",
   "execution_count": null,
   "id": "0294745f-c37e-4eba-a3d6-1842e0fccfd3",
   "metadata": {},
   "outputs": [],
   "source": []
  },
  {
   "cell_type": "code",
   "execution_count": 11,
   "id": "bf5ef9c0-0406-4248-bd43-e81dc7bf2ae5",
   "metadata": {
    "tags": []
   },
   "outputs": [
    {
     "name": "stdout",
     "output_type": "stream",
     "text": [
      "Starting Subprocess Worker: Sweet Dean - a2b879e64ffe450b8947f1825f5fca0b [<class 'syft.core.node.new.user_service.UserService'>, <class 'syft.core.node.new.action_service.ActionService'>, <class 'syft.core.node.new.test_service.TestService'>, <class 'syft.core.node.new.dataset_service.DatasetService'>, <class 'syft.core.node.new.user_code_service.UserCodeService'>, <class 'syft.core.node.new.request_service.RequestService'>]\n"
     ]
    }
   ],
   "source": [
    "x = client.api.services.user.get_all(blocking=True)"
   ]
  },
  {
   "cell_type": "code",
   "execution_count": 12,
   "id": "c5865531-a307-495f-bf11-d4bcd2116bbc",
   "metadata": {
    "tags": []
   },
   "outputs": [
    {
     "data": {
      "text/html": [
       "List - Size: 2\n",
       "<div>\n",
       "<style scoped>\n",
       "    .dataframe tbody tr th:only-of-type {\n",
       "        vertical-align: middle;\n",
       "    }\n",
       "\n",
       "    .dataframe tbody tr th {\n",
       "        vertical-align: top;\n",
       "    }\n",
       "\n",
       "    .dataframe thead th {\n",
       "        text-align: right;\n",
       "    }\n",
       "</style>\n",
       "<table border=\"1\" class=\"dataframe\">\n",
       "  <thead>\n",
       "    <tr style=\"text-align: right;\">\n",
       "      <th></th>\n",
       "      <th>type</th>\n",
       "      <th>id</th>\n",
       "      <th>name</th>\n",
       "      <th>email</th>\n",
       "    </tr>\n",
       "  </thead>\n",
       "  <tbody>\n",
       "    <tr>\n",
       "      <th>0</th>\n",
       "      <td>syft.core.node.new.user.User</td>\n",
       "      <td>571ffcaa54264130b1d1abf40a7d0102</td>\n",
       "      <td>Jane Doe</td>\n",
       "      <td>info@openmined.org</td>\n",
       "    </tr>\n",
       "    <tr>\n",
       "      <th>1</th>\n",
       "      <td>syft.core.node.new.user.User</td>\n",
       "      <td>82b965de16424d74a19abb92fc1016ff</td>\n",
       "      <td>a</td>\n",
       "      <td>a@b.com</td>\n",
       "    </tr>\n",
       "  </tbody>\n",
       "</table>\n",
       "</div>"
      ],
      "text/plain": [
       "[syft.core.node.new.user.User, syft.core.node.new.user.User]"
      ]
     },
     "execution_count": 12,
     "metadata": {},
     "output_type": "execute_result"
    }
   ],
   "source": [
    "x"
   ]
  },
  {
   "cell_type": "code",
   "execution_count": null,
   "id": "16f6d64e-d80c-43e3-a2f6-4823cef4f24c",
   "metadata": {},
   "outputs": [],
   "source": []
  },
  {
   "cell_type": "code",
   "execution_count": 15,
   "id": "e193d362-7cac-48f6-b13e-b1534fede73f",
   "metadata": {
    "tags": []
   },
   "outputs": [
    {
     "name": "stdout",
     "output_type": "stream",
     "text": [
      "Starting Subprocess Worker: Sweet Dean - a2b879e64ffe450b8947f1825f5fca0b [<class 'syft.core.node.new.user_service.UserService'>, <class 'syft.core.node.new.action_service.ActionService'>, <class 'syft.core.node.new.test_service.TestService'>, <class 'syft.core.node.new.dataset_service.DatasetService'>, <class 'syft.core.node.new.user_code_service.UserCodeService'>, <class 'syft.core.node.new.request_service.RequestService'>]\n"
     ]
    }
   ],
   "source": [
    "y = client.api.services.user.view(uid=UID(\"82b965de16424d74a19abb92fc1016ff\"), blocking=False)"
   ]
  },
  {
   "cell_type": "code",
   "execution_count": 16,
   "id": "2fe4bf88-5fa5-473d-883c-efb495b2e05a",
   "metadata": {
    "tags": []
   },
   "outputs": [
    {
     "data": {
      "text/markdown": [
       "```python\n",
       "class UserView:\n",
       "  id: str = 82b965de16424d74a19abb92fc1016ff\n",
       "  email: str = \"a@b.com\"\n",
       "  name: str = \"a\"\n",
       "  role: str = ServiceRole.GUEST\n",
       "  password: str = None\n",
       "  password_verify: str = None\n",
       "  verify_key: str = None\n",
       "  institution: str = None\n",
       "  website: str = None\n",
       "\n",
       "```"
      ],
      "text/plain": [
       "syft.core.node.new.user.UserView"
      ]
     },
     "execution_count": 16,
     "metadata": {},
     "output_type": "execute_result"
    }
   ],
   "source": [
    "y.resolve"
   ]
  },
  {
   "cell_type": "code",
   "execution_count": 17,
   "id": "fe9180fa-fc10-4d22-aed1-5ec1a84de8e8",
   "metadata": {
    "tags": []
   },
   "outputs": [
    {
     "name": "stdout",
     "output_type": "stream",
     "text": [
      "Starting Subprocess Worker: Sweet Dean - a2b879e64ffe450b8947f1825f5fca0b [<class 'syft.core.node.new.user_service.UserService'>, <class 'syft.core.node.new.action_service.ActionService'>, <class 'syft.core.node.new.test_service.TestService'>, <class 'syft.core.node.new.dataset_service.DatasetService'>, <class 'syft.core.node.new.user_code_service.UserCodeService'>, <class 'syft.core.node.new.request_service.RequestService'>]\n"
     ]
    }
   ],
   "source": [
    "y = client.api.services.user.view(uid=UID(\"82b965de16424d74a19abb92fc1016ff\"))"
   ]
  },
  {
   "cell_type": "code",
   "execution_count": 18,
   "id": "b2f5066d-7f71-4e22-a73c-7a4f936be02a",
   "metadata": {
    "tags": []
   },
   "outputs": [
    {
     "data": {
      "text/markdown": [
       "```python\n",
       "class UserView:\n",
       "  id: str = 82b965de16424d74a19abb92fc1016ff\n",
       "  email: str = \"a@b.com\"\n",
       "  name: str = \"a\"\n",
       "  role: str = ServiceRole.GUEST\n",
       "  password: str = None\n",
       "  password_verify: str = None\n",
       "  verify_key: str = None\n",
       "  institution: str = None\n",
       "  website: str = None\n",
       "\n",
       "```"
      ],
      "text/plain": [
       "syft.core.node.new.user.UserView"
      ]
     },
     "execution_count": 18,
     "metadata": {},
     "output_type": "execute_result"
    }
   ],
   "source": [
    "y"
   ]
  },
  {
   "cell_type": "code",
   "execution_count": 19,
   "id": "ce0fb806-12e1-4a51-af98-dcbfa7b00d0b",
   "metadata": {
    "tags": []
   },
   "outputs": [
    {
     "data": {
      "text/plain": [
       "{}"
      ]
     },
     "execution_count": 19,
     "metadata": {},
     "output_type": "execute_result"
    }
   ],
   "source": [
    "s.store.partitions[\"QueueItem\"].data"
   ]
  },
  {
   "cell_type": "code",
   "execution_count": null,
   "id": "67346690-b6d7-4332-9bcc-56ddccded507",
   "metadata": {},
   "outputs": [],
   "source": []
  },
  {
   "cell_type": "code",
   "execution_count": null,
   "id": "89e379e2-963f-493d-a815-8aa05542bcf6",
   "metadata": {},
   "outputs": [],
   "source": []
  },
  {
   "cell_type": "code",
   "execution_count": null,
   "id": "fbdc121b-1442-4374-80b1-87be80e44bb4",
   "metadata": {},
   "outputs": [],
   "source": []
  }
 ],
 "metadata": {
  "kernelspec": {
   "display_name": "Python 3 (ipykernel)",
   "language": "python",
   "name": "python3"
  },
  "language_info": {
   "codemirror_mode": {
    "name": "ipython",
    "version": 3
   },
   "file_extension": ".py",
   "mimetype": "text/x-python",
   "name": "python",
   "nbconvert_exporter": "python",
   "pygments_lexer": "ipython3",
   "version": "3.10.9"
  }
 },
 "nbformat": 4,
 "nbformat_minor": 5
}
