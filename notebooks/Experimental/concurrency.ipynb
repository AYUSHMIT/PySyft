{
 "cells": [
  {
   "cell_type": "code",
   "execution_count": 1,
   "id": "602bc48e-ff97-46b8-bb8a-08134d35aa2a",
   "metadata": {
    "tags": []
   },
   "outputs": [],
   "source": [
    "import syft as sy\n",
    "from syft.core.node.new.sqlite_document_store import SQLiteStoreConfig, SQLiteBackingStore\n",
    "from syft.core.common.uid import UID"
   ]
  },
  {
   "cell_type": "code",
   "execution_count": 2,
   "id": "4f2a1d89-5459-4d22-afb8-aa9f3d83cbcf",
   "metadata": {
    "tags": []
   },
   "outputs": [
    {
     "name": "stdout",
     "output_type": "stream",
     "text": [
      "Starting Worker: Unruffled Kearns - 01a5cd8b6cf2463d9f669f9716df6c29 [<class 'syft.core.node.new.user_service.UserService'>, <class 'syft.core.node.new.action_service.ActionService'>, <class 'syft.core.node.new.test_service.TestService'>, <class 'syft.core.node.new.dataset_service.DatasetService'>, <class 'syft.core.node.new.user_code_service.UserCodeService'>, <class 'syft.core.node.new.request_service.RequestService'>]\n"
     ]
    }
   ],
   "source": [
    "worker = sy.Worker(processes=1, store_config=SQLiteStoreConfig())"
   ]
  },
  {
   "cell_type": "code",
   "execution_count": 3,
   "id": "c8f44227-43d7-43ce-ba99-ba58f9e13594",
   "metadata": {
    "tags": []
   },
   "outputs": [],
   "source": [
    "s = worker.get_service(\"UserService\")"
   ]
  },
  {
   "cell_type": "code",
   "execution_count": 4,
   "id": "87a915f4-b357-424c-90a8-cb8048148881",
   "metadata": {
    "tags": []
   },
   "outputs": [
    {
     "data": {
      "text/plain": [
       "{<UID: 3da4c4b770f44b99ad2be210368aac86>: syft.core.node.new.user.User}"
      ]
     },
     "execution_count": 4,
     "metadata": {},
     "output_type": "execute_result"
    }
   ],
   "source": [
    "s.store.partitions[\"User\"].data"
   ]
  },
  {
   "cell_type": "code",
   "execution_count": 5,
   "id": "81295e3c-37e4-4493-969c-390b0298566f",
   "metadata": {
    "tags": []
   },
   "outputs": [
    {
     "name": "stdout",
     "output_type": "stream",
     "text": [
      "Logged into Unruffled Kearns as <info@openmined.org>\n"
     ]
    }
   ],
   "source": [
    "client = sy.new_login(node=worker, email=\"info@openmined.org\", password=\"changethis\")"
   ]
  },
  {
   "cell_type": "code",
   "execution_count": 6,
   "id": "71a93b5f-6b35-4c9a-b420-cad25dc45856",
   "metadata": {
    "tags": []
   },
   "outputs": [],
   "source": [
    "from syft.core.node.new.user import UserCreate"
   ]
  },
  {
   "cell_type": "code",
   "execution_count": 7,
   "id": "c4b6ccc8-836d-4c7b-b5f1-9478399899ca",
   "metadata": {
    "tags": []
   },
   "outputs": [],
   "source": [
    "x = UserCreate(email=\"a@b.com\", name=\"a\", password=\"a\", password_verify=\"a\")"
   ]
  },
  {
   "cell_type": "code",
   "execution_count": 8,
   "id": "42261f3c-0af2-4413-9133-976167e22f4e",
   "metadata": {
    "tags": []
   },
   "outputs": [
    {
     "name": "stdout",
     "output_type": "stream",
     "text": [
      "Starting Worker: Suspicious Karp - 2985190e17d845609fa6e44c91904ffa [<class 'syft.core.node.new.user_service.UserService'>, <class 'syft.core.node.new.action_service.ActionService'>, <class 'syft.core.node.new.test_service.TestService'>, <class 'syft.core.node.new.dataset_service.DatasetService'>, <class 'syft.core.node.new.user_code_service.UserCodeService'>, <class 'syft.core.node.new.request_service.RequestService'>]\n"
     ]
    },
    {
     "data": {
      "text/markdown": [
       "```python\n",
       "class UserView:\n",
       "  id: str = 5bb9cef8fc044580a9d3b0ad13a75250\n",
       "  email: str = \"a@b.com\"\n",
       "  name: str = \"a\"\n",
       "  role: str = ServiceRole.GUEST\n",
       "  password: str = None\n",
       "  password_verify: str = None\n",
       "  verify_key: str = None\n",
       "  institution: str = None\n",
       "  website: str = None\n",
       "\n",
       "```"
      ],
      "text/plain": [
       "syft.core.node.new.user.UserView"
      ]
     },
     "execution_count": 8,
     "metadata": {},
     "output_type": "execute_result"
    }
   ],
   "source": [
    "client.api.services.user.create(x)"
   ]
  },
  {
   "cell_type": "code",
   "execution_count": 9,
   "id": "bf5ef9c0-0406-4248-bd43-e81dc7bf2ae5",
   "metadata": {
    "tags": []
   },
   "outputs": [
    {
     "name": "stdout",
     "output_type": "stream",
     "text": [
      "Starting Worker: Angry Altman - b03b1261b1304994836a71e44976d157 [<class 'syft.core.node.new.user_service.UserService'>, <class 'syft.core.node.new.action_service.ActionService'>, <class 'syft.core.node.new.test_service.TestService'>, <class 'syft.core.node.new.dataset_service.DatasetService'>, <class 'syft.core.node.new.user_code_service.UserCodeService'>, <class 'syft.core.node.new.request_service.RequestService'>]\n"
     ]
    }
   ],
   "source": [
    "x = client.api.services.user.get_all()"
   ]
  },
  {
   "cell_type": "code",
   "execution_count": 13,
   "id": "ac8d2541-c3e5-40e9-a92b-28d65ff9d24f",
   "metadata": {
    "tags": []
   },
   "outputs": [
    {
     "data": {
      "text/markdown": [
       "```python\n",
       "class User:\n",
       "  id: str = None\n",
       "  email: str = \"info@openmined.org\"\n",
       "  name: str = \"Jane Doe\"\n",
       "  hashed_password: str = \"$2b$12$OYAlpYaqTOH9XScnIAsZjeMbJ5g53TeVJWUuRCXPQYp4VF8BTV6S.\"\n",
       "  salt: str = \"$2b$12$OYAlpYaqTOH9XScnIAsZje\"\n",
       "  signing_key: str = 8a999cdf11e200348a73f5f6181db0378e61df35d7be450abe35f2eb922c649c\n",
       "  verify_key: str = b5b65f0cef303487d0071dc6852a12c90b482438fe84e3c2e240ada9e80a4c83\n",
       "  role: str = ServiceRole.GUEST\n",
       "  institution: str = None\n",
       "  website: str = None\n",
       "  created_at: str = None\n",
       "\n",
       "```"
      ],
      "text/plain": [
       "syft.core.node.new.user.User"
      ]
     },
     "execution_count": 13,
     "metadata": {},
     "output_type": "execute_result"
    }
   ],
   "source": [
    "x[0]"
   ]
  },
  {
   "cell_type": "code",
   "execution_count": 14,
   "id": "ef9e7968-b6fa-490e-9a72-34357a020812",
   "metadata": {
    "tags": []
   },
   "outputs": [
    {
     "name": "stdout",
     "output_type": "stream",
     "text": [
      "Starting Worker: Stoic Howard - 077f1ef579384089b8dc40f268ceac82 [<class 'syft.core.node.new.user_service.UserService'>, <class 'syft.core.node.new.action_service.ActionService'>, <class 'syft.core.node.new.test_service.TestService'>, <class 'syft.core.node.new.dataset_service.DatasetService'>, <class 'syft.core.node.new.user_code_service.UserCodeService'>, <class 'syft.core.node.new.request_service.RequestService'>]\n"
     ]
    },
    {
     "data": {
      "text/html": [
       "<div class=\"alert-danger\" style=\"padding:5px;\"><strong>SyftError</strong>: No user exists for given: 3da4c4b770f44b99ad2be210368aac86.</div><br />"
      ],
      "text/plain": [
       "<class 'syft.core.node.new.response.SyftError'>: No user exists for given: 3da4c4b770f44b99ad2be210368aac86"
      ]
     },
     "execution_count": 14,
     "metadata": {},
     "output_type": "execute_result"
    }
   ],
   "source": [
    "client.api.services.user.view(uid=UID(\"3da4c4b770f44b99ad2be210368aac86\"))"
   ]
  },
  {
   "cell_type": "code",
   "execution_count": null,
   "id": "0b800bd4-e783-4f5c-b792-e4db2bb0511c",
   "metadata": {
    "tags": []
   },
   "outputs": [],
   "source": [
    "# client.api.services.executor.run_task(number=1.1)"
   ]
  },
  {
   "cell_type": "code",
   "execution_count": null,
   "id": "57821f24-d989-4f3d-b8d2-3eb3388fdab7",
   "metadata": {
    "tags": []
   },
   "outputs": [],
   "source": [
    "# client.api.services.executor.run_task(number=1.1, blocking=True)"
   ]
  },
  {
   "cell_type": "code",
   "execution_count": null,
   "id": "6485e561-5fb7-4e9a-b612-93a3741bb5dd",
   "metadata": {
    "tags": []
   },
   "outputs": [],
   "source": [
    "import sqlite3\n",
    "x = sy.serialize(1, to_bytes=True)\n",
    "y = sqlite3.Binary(x)\n",
    "db = sqlite3.connect(\":memory:\")\n",
    "cur = db.cursor()\n",
    "# db.execute(\"create table data (uid INTEGER NOT NULL PRIMARY KEY, value BLOB NOT NULL)\")\n",
    "cur.execute(\"create table data (uid_hash INTEGER NOT NULL PRIMARY KEY, uid STRING NOT NULL, value BLOB NOT NULL)\")\n",
    "# db.execute('INSERT INTO data VALUES(?, ?)', [1, x])\n",
    "db.commit()"
   ]
  },
  {
   "cell_type": "code",
   "execution_count": null,
   "id": "22281530-3579-4e0d-a6cc-1d45522325b3",
   "metadata": {
    "tags": []
   },
   "outputs": [],
   "source": [
    "rows = cur.execute('SELECT * FROM data')"
   ]
  },
  {
   "cell_type": "code",
   "execution_count": null,
   "id": "0cb6148f-c464-4e6f-9cf0-fd0c635b301b",
   "metadata": {
    "tags": []
   },
   "outputs": [],
   "source": [
    "rows.fetchall()"
   ]
  },
  {
   "cell_type": "code",
   "execution_count": null,
   "id": "ba59de09-ba55-4c61-8002-dfaa1740ed90",
   "metadata": {},
   "outputs": [],
   "source": []
  },
  {
   "cell_type": "code",
   "execution_count": null,
   "id": "fcf42b47-efe8-4241-88b1-d8fddf250c82",
   "metadata": {
    "tags": []
   },
   "outputs": [],
   "source": [
    "for i in row:\n",
    "    print(i)"
   ]
  },
  {
   "cell_type": "code",
   "execution_count": null,
   "id": "eeb3a932-5030-497c-91c1-abbda63b87cd",
   "metadata": {
    "tags": []
   },
   "outputs": [],
   "source": [
    "sy.deserialize(row[1], from_bytes=True)"
   ]
  },
  {
   "cell_type": "code",
   "execution_count": null,
   "id": "8c2a4893-d2fb-45e3-a8ca-17ad36f28fdc",
   "metadata": {
    "tags": []
   },
   "outputs": [],
   "source": [
    "row = db.execute('SELECT * FROM data where uid=?', [1]).fetchone()"
   ]
  },
  {
   "cell_type": "code",
   "execution_count": null,
   "id": "707dfdec-9d3b-4ebe-99e6-143c8acf729d",
   "metadata": {
    "tags": []
   },
   "outputs": [],
   "source": [
    "row"
   ]
  },
  {
   "cell_type": "code",
   "execution_count": null,
   "id": "f1728223-b9b3-48d4-8aec-a69bd9d50b88",
   "metadata": {
    "tags": []
   },
   "outputs": [],
   "source": [
    "a = {\"a\":1}"
   ]
  },
  {
   "cell_type": "code",
   "execution_count": null,
   "id": "d026bc8d-3d03-4c25-bb75-6b2b55b40ed1",
   "metadata": {
    "tags": []
   },
   "outputs": [],
   "source": [
    "for i in a:\n",
    "    print(i)"
   ]
  },
  {
   "cell_type": "code",
   "execution_count": null,
   "id": "bc5da107-245f-4268-9549-328b94a40f31",
   "metadata": {
    "tags": []
   },
   "outputs": [],
   "source": [
    "keys = []\n",
    "data = []"
   ]
  },
  {
   "cell_type": "code",
   "execution_count": null,
   "id": "01a193a6-1ece-44af-bfa0-e24795aff097",
   "metadata": {
    "tags": []
   },
   "outputs": [],
   "source": [
    "dict(zip(keys, data))"
   ]
  },
  {
   "cell_type": "code",
   "execution_count": null,
   "id": "6eba423b-7020-4c90-8ce7-df36b92f0853",
   "metadata": {
    "tags": []
   },
   "outputs": [],
   "source": [
    "db.close()"
   ]
  },
  {
   "cell_type": "code",
   "execution_count": null,
   "id": "1fe405c2-2ce9-4e74-a326-830b5ed78daa",
   "metadata": {
    "tags": []
   },
   "outputs": [],
   "source": [
    "db = sqlite3.connect(\":memory:\")\n",
    "# db.execute(\"create table data (uid INTEGER NOT NULL PRIMARY KEY, value BLOB NOT NULL)\")\n",
    "db.execute(\"create table data (uid_hash INTEGER NOT NULL PRIMARY KEY, uid STRING NOT NULL, value BLOB NOT NULL)\")\n",
    "# db.execute('INSERT INTO data VALUES(?, ?)', [1, x])\n",
    "db.commit()"
   ]
  },
  {
   "cell_type": "code",
   "execution_count": null,
   "id": "97d0c961-9403-4982-ab89-07d8b9f80d05",
   "metadata": {
    "tags": []
   },
   "outputs": [],
   "source": [
    "db.execute('SELECT * FROM data')"
   ]
  },
  {
   "cell_type": "code",
   "execution_count": null,
   "id": "2c47ae62-bf12-4ed8-8434-1c3af0b2d0c0",
   "metadata": {
    "tags": []
   },
   "outputs": [],
   "source": [
    "rows = cur.fetchall()"
   ]
  },
  {
   "cell_type": "code",
   "execution_count": null,
   "id": "3049e872-24f9-437b-8ea3-6e13b36e943d",
   "metadata": {
    "tags": []
   },
   "outputs": [],
   "source": [
    "a = {}"
   ]
  },
  {
   "cell_type": "code",
   "execution_count": null,
   "id": "07a684ae-1f2c-4226-b891-6085a85829bb",
   "metadata": {
    "tags": []
   },
   "outputs": [],
   "source": [
    "dir(a)"
   ]
  },
  {
   "cell_type": "code",
   "execution_count": null,
   "id": "a6205171-fac2-450f-aee4-d3e7b6aea0fc",
   "metadata": {},
   "outputs": [],
   "source": []
  }
 ],
 "metadata": {
  "kernelspec": {
   "display_name": "Python 3 (ipykernel)",
   "language": "python",
   "name": "python3"
  },
  "language_info": {
   "codemirror_mode": {
    "name": "ipython",
    "version": 3
   },
   "file_extension": ".py",
   "mimetype": "text/x-python",
   "name": "python",
   "nbconvert_exporter": "python",
   "pygments_lexer": "ipython3",
   "version": "3.10.9"
  }
 },
 "nbformat": 4,
 "nbformat_minor": 5
}
